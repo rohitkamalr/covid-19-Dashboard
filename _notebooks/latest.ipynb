{
 "cells": [
  {
   "cell_type": "markdown",
   "metadata": {
    "papermill": {
     "duration": 0.02198,
     "end_time": "2020-09-24T04:52:47.629653",
     "exception": false,
     "start_time": "2020-09-24T04:52:47.607673",
     "status": "completed"
    },
    "tags": []
   },
   "source": [
    "# Latest COVID-19 India Matplotlib Overview"
   ]
  },
  {
   "cell_type": "code",
   "execution_count": 1,
   "metadata": {
    "execution": {
     "iopub.execute_input": "2020-09-24T04:52:47.676564Z",
     "iopub.status.busy": "2020-09-24T04:52:47.675823Z",
     "iopub.status.idle": "2020-09-24T04:52:48.319966Z",
     "shell.execute_reply": "2020-09-24T04:52:48.318987Z"
    },
    "papermill": {
     "duration": 0.670757,
     "end_time": "2020-09-24T04:52:48.320134",
     "exception": false,
     "start_time": "2020-09-24T04:52:47.649377",
     "status": "completed"
    },
    "tags": []
   },
   "outputs": [],
   "source": [
    "#hide\n",
    "import pandas as pd\n",
    "import numpy as np\n",
    "import requests\n",
    "import json\n",
    "import matplotlib.pyplot as plt\n",
    "import matplotlib.dates as mdates\n",
    "import matplotlib as mpl\n",
    "from IPython.core.display import display,HTML\n",
    "%matplotlib inline\n",
    "from datetime import date"
   ]
  },
  {
   "cell_type": "code",
   "execution_count": 2,
   "metadata": {
    "execution": {
     "iopub.execute_input": "2020-09-24T04:52:48.359911Z",
     "iopub.status.busy": "2020-09-24T04:52:48.359164Z",
     "iopub.status.idle": "2020-09-24T04:52:48.596719Z",
     "shell.execute_reply": "2020-09-24T04:52:48.597403Z"
    },
    "papermill": {
     "duration": 0.261206,
     "end_time": "2020-09-24T04:52:48.597592",
     "exception": false,
     "start_time": "2020-09-24T04:52:48.336386",
     "status": "completed"
    },
    "tags": []
   },
   "outputs": [],
   "source": [
    "#hide\n",
    "df  = pd.read_csv('https://api.covid19india.org/csv/latest/states.csv')\n",
    "df = df[['Date','State','Confirmed','Deceased']]\n",
    "df = df.rename(columns={'Confirmed':'Cases', \"Deceased\":'Deaths'})\n",
    "df_cases = df[[\"Date\",'State','Cases']]\n",
    "df_deaths = df[['Date','State','Deaths']]\n",
    "df_cases1 = df_cases.groupby('Date')\n",
    "df_deaths1= df_deaths.groupby('Date')"
   ]
  },
  {
   "cell_type": "code",
   "execution_count": 3,
   "metadata": {
    "execution": {
     "iopub.execute_input": "2020-09-24T04:52:48.640807Z",
     "iopub.status.busy": "2020-09-24T04:52:48.640105Z",
     "iopub.status.idle": "2020-09-24T04:52:48.661493Z",
     "shell.execute_reply": "2020-09-24T04:52:48.660913Z"
    },
    "papermill": {
     "duration": 0.044315,
     "end_time": "2020-09-24T04:52:48.661634",
     "exception": false,
     "start_time": "2020-09-24T04:52:48.617319",
     "status": "completed"
    },
    "tags": []
   },
   "outputs": [],
   "source": [
    "#hide\n",
    "df_snap = pd.read_csv('data/SnapshotCases-28-July.csv')\n",
    "arr_states = df_snap['states'].unique()\n",
    "arr_dates = df['Date'].unique()\n",
    "df_snap = df_snap.set_index('states')"
   ]
  },
  {
   "cell_type": "code",
   "execution_count": 4,
   "metadata": {
    "execution": {
     "iopub.execute_input": "2020-09-24T04:52:48.703350Z",
     "iopub.status.busy": "2020-09-24T04:52:48.702677Z",
     "iopub.status.idle": "2020-09-24T04:52:48.705849Z",
     "shell.execute_reply": "2020-09-24T04:52:48.705226Z"
    },
    "papermill": {
     "duration": 0.027592,
     "end_time": "2020-09-24T04:52:48.705973",
     "exception": false,
     "start_time": "2020-09-24T04:52:48.678381",
     "status": "completed"
    },
    "tags": []
   },
   "outputs": [
    {
     "data": {
      "text/plain": [
       "array(['Andaman and Nicobar Islands', 'Andhra Pradesh',\n",
       "       'Arunachal Pradesh', 'Assam', 'Bihar', 'Chandigarh',\n",
       "       'Dadra and Nagar Haveli and Daman and Diu', 'Delhi', 'Goa',\n",
       "       'Gujarat', 'Haryana', 'Himachal Pradesh', 'Jammu and Kashmir',\n",
       "       'Jharkhand', 'Karnataka', 'Kerala', 'Lakshadweep',\n",
       "       'Madhya Pradesh', 'Maharashtra', 'Manipur', 'Meghalaya', 'Mizoram',\n",
       "       'Nagaland', 'Odisha', 'Puducherry', 'Punjab', 'Rajasthan',\n",
       "       'Sikkim', 'Tamil Nadu', 'Telangana', 'Tripura', 'Uttar Pradesh',\n",
       "       'West Bengal', 'Chhattisgarh', 'Ladakh', 'Uttarakhand'],\n",
       "      dtype=object)"
      ]
     },
     "execution_count": 4,
     "metadata": {},
     "output_type": "execute_result"
    }
   ],
   "source": [
    "#hide\n",
    "arr_states[-9] = 'Puducherry'\n",
    "arr_states[-10] = 'Odisha'\n",
    "arr_states[6] = 'Dadra and Nagar Haveli and Daman and Diu'\n",
    "arr_states = np.append(arr_states,np.array(['Chhattisgarh','Ladakh','Uttarakhand']))\n",
    "arr_states"
   ]
  },
  {
   "cell_type": "code",
   "execution_count": 5,
   "metadata": {
    "execution": {
     "iopub.execute_input": "2020-09-24T04:52:48.749922Z",
     "iopub.status.busy": "2020-09-24T04:52:48.748981Z",
     "iopub.status.idle": "2020-09-24T04:52:48.758402Z",
     "shell.execute_reply": "2020-09-24T04:52:48.757861Z"
    },
    "papermill": {
     "duration": 0.035482,
     "end_time": "2020-09-24T04:52:48.758526",
     "exception": false,
     "start_time": "2020-09-24T04:52:48.723044",
     "status": "completed"
    },
    "tags": []
   },
   "outputs": [],
   "source": [
    "#hide\n",
    "dates = []\n",
    "for i in arr_dates:\n",
    "    if i>='2020-07-01':\n",
    "        dates.append(i)\n",
    "dict = {'states':dates}\n",
    "for i in arr_states:\n",
    "    dict[i] = [0]*len(dates)\n",
    "dft_cases = pd.DataFrame(dict)\n",
    "dft_deaths = pd.DataFrame(dict)\n"
   ]
  },
  {
   "cell_type": "code",
   "execution_count": 6,
   "metadata": {
    "execution": {
     "iopub.execute_input": "2020-09-24T04:52:48.797969Z",
     "iopub.status.busy": "2020-09-24T04:52:48.797328Z",
     "iopub.status.idle": "2020-09-24T04:52:50.410510Z",
     "shell.execute_reply": "2020-09-24T04:52:50.409884Z"
    },
    "papermill": {
     "duration": 1.635548,
     "end_time": "2020-09-24T04:52:50.410673",
     "exception": false,
     "start_time": "2020-09-24T04:52:48.775125",
     "status": "completed"
    },
    "tags": []
   },
   "outputs": [],
   "source": [
    "#hide\n",
    "for i in range(len(dates)):\n",
    "    df1_deaths = df_deaths1.get_group(dates[i])\n",
    "    for j in range(len(df1_deaths.index)):\n",
    "        if df1_deaths.iloc[j,1] in arr_states:\n",
    "            dft_deaths.loc[i,df1_deaths.iloc[j,1]] = df1_deaths.iloc[j,2]\n",
    "dft_deaths = dft_deaths.set_index('states')"
   ]
  },
  {
   "cell_type": "code",
   "execution_count": 7,
   "metadata": {
    "execution": {
     "iopub.execute_input": "2020-09-24T04:52:50.456881Z",
     "iopub.status.busy": "2020-09-24T04:52:50.456167Z",
     "iopub.status.idle": "2020-09-24T04:52:52.038633Z",
     "shell.execute_reply": "2020-09-24T04:52:52.039235Z"
    },
    "papermill": {
     "duration": 1.608995,
     "end_time": "2020-09-24T04:52:52.039428",
     "exception": false,
     "start_time": "2020-09-24T04:52:50.430433",
     "status": "completed"
    },
    "tags": []
   },
   "outputs": [],
   "source": [
    "#hide\n",
    "for i in range(len(dates)):\n",
    "    df1_cases = df_cases1.get_group(dates[i])\n",
    "    for j in range(len(df1_cases.index)):\n",
    "        if df1_cases.iloc[j,1] in arr_states:\n",
    "            dft_cases.loc[i,df1_cases.iloc[j,1]] = df1_cases.iloc[j,2]\n",
    "dft_cases = dft_cases.set_index('states')"
   ]
  },
  {
   "cell_type": "code",
   "execution_count": 8,
   "metadata": {
    "execution": {
     "iopub.execute_input": "2020-09-24T04:52:52.086809Z",
     "iopub.status.busy": "2020-09-24T04:52:52.086169Z",
     "iopub.status.idle": "2020-09-24T04:52:52.090280Z",
     "shell.execute_reply": "2020-09-24T04:52:52.089673Z"
    },
    "papermill": {
     "duration": 0.028251,
     "end_time": "2020-09-24T04:52:52.090421",
     "exception": false,
     "start_time": "2020-09-24T04:52:52.062170",
     "status": "completed"
    },
    "tags": []
   },
   "outputs": [],
   "source": [
    "#hide\n",
    "dft_cases = dft_cases.T\n",
    "dft_deaths = dft_deaths.T\n",
    "dt_today = dates[-1]\n",
    "dt_yday = dates[-2]"
   ]
  },
  {
   "cell_type": "code",
   "execution_count": 9,
   "metadata": {
    "execution": {
     "iopub.execute_input": "2020-09-24T04:52:52.134111Z",
     "iopub.status.busy": "2020-09-24T04:52:52.133200Z",
     "iopub.status.idle": "2020-09-24T04:52:52.138676Z",
     "shell.execute_reply": "2020-09-24T04:52:52.139333Z"
    },
    "papermill": {
     "duration": 0.028624,
     "end_time": "2020-09-24T04:52:52.139491",
     "exception": false,
     "start_time": "2020-09-24T04:52:52.110867",
     "status": "completed"
    },
    "tags": []
   },
   "outputs": [],
   "source": [
    "#hide\n",
    "dft_cases = dft_cases.reset_index()\n",
    "dft_deaths = dft_deaths.reset_index()\n",
    "dft_cases = dft_cases.rename(columns = {'index':'state'})\n",
    "dft_deaths = dft_deaths.rename(columns = {'index':'state'})"
   ]
  },
  {
   "cell_type": "code",
   "execution_count": 10,
   "metadata": {
    "execution": {
     "iopub.execute_input": "2020-09-24T04:52:52.187743Z",
     "iopub.status.busy": "2020-09-24T04:52:52.186991Z",
     "iopub.status.idle": "2020-09-24T04:52:52.190946Z",
     "shell.execute_reply": "2020-09-24T04:52:52.190336Z"
    },
    "papermill": {
     "duration": 0.032437,
     "end_time": "2020-09-24T04:52:52.191083",
     "exception": false,
     "start_time": "2020-09-24T04:52:52.158646",
     "status": "completed"
    },
    "tags": []
   },
   "outputs": [],
   "source": [
    "#hide\n",
    "dfc_cases = dft_cases.groupby('state')[dt_today].sum()\n",
    "dfc_deaths = dft_deaths.groupby('state')[dt_today].sum()\n",
    "dfp_cases = dft_cases.groupby('state')[dt_yday].sum()\n",
    "dfp_deaths = dft_deaths.groupby('state')[dt_yday].sum()"
   ]
  },
  {
   "cell_type": "code",
   "execution_count": 11,
   "metadata": {
    "execution": {
     "iopub.execute_input": "2020-09-24T04:52:52.236140Z",
     "iopub.status.busy": "2020-09-24T04:52:52.235431Z",
     "iopub.status.idle": "2020-09-24T04:52:52.251955Z",
     "shell.execute_reply": "2020-09-24T04:52:52.252535Z"
    },
    "papermill": {
     "duration": 0.041838,
     "end_time": "2020-09-24T04:52:52.252719",
     "exception": false,
     "start_time": "2020-09-24T04:52:52.210881",
     "status": "completed"
    },
    "tags": []
   },
   "outputs": [
    {
     "data": {
      "text/html": [
       "<div>\n",
       "<style scoped>\n",
       "    .dataframe tbody tr th:only-of-type {\n",
       "        vertical-align: middle;\n",
       "    }\n",
       "\n",
       "    .dataframe tbody tr th {\n",
       "        vertical-align: top;\n",
       "    }\n",
       "\n",
       "    .dataframe thead th {\n",
       "        text-align: right;\n",
       "    }\n",
       "</style>\n",
       "<table border=\"1\" class=\"dataframe\">\n",
       "  <thead>\n",
       "    <tr style=\"text-align: right;\">\n",
       "      <th></th>\n",
       "      <th>states</th>\n",
       "      <th>Cases</th>\n",
       "      <th>Deaths</th>\n",
       "      <th>PCases</th>\n",
       "      <th>PDeaths</th>\n",
       "    </tr>\n",
       "  </thead>\n",
       "  <tbody>\n",
       "    <tr>\n",
       "      <th>0</th>\n",
       "      <td>Maharashtra</td>\n",
       "      <td>1263799</td>\n",
       "      <td>33886</td>\n",
       "      <td>1263799</td>\n",
       "      <td>33886</td>\n",
       "    </tr>\n",
       "    <tr>\n",
       "      <th>1</th>\n",
       "      <td>Andhra Pradesh</td>\n",
       "      <td>646530</td>\n",
       "      <td>5506</td>\n",
       "      <td>646530</td>\n",
       "      <td>5506</td>\n",
       "    </tr>\n",
       "    <tr>\n",
       "      <th>2</th>\n",
       "      <td>Tamil Nadu</td>\n",
       "      <td>557999</td>\n",
       "      <td>9010</td>\n",
       "      <td>557999</td>\n",
       "      <td>9010</td>\n",
       "    </tr>\n",
       "    <tr>\n",
       "      <th>3</th>\n",
       "      <td>Karnataka</td>\n",
       "      <td>540847</td>\n",
       "      <td>8266</td>\n",
       "      <td>540847</td>\n",
       "      <td>8266</td>\n",
       "    </tr>\n",
       "    <tr>\n",
       "      <th>4</th>\n",
       "      <td>Uttar Pradesh</td>\n",
       "      <td>369686</td>\n",
       "      <td>5299</td>\n",
       "      <td>369686</td>\n",
       "      <td>5299</td>\n",
       "    </tr>\n",
       "  </tbody>\n",
       "</table>\n",
       "</div>"
      ],
      "text/plain": [
       "           states    Cases  Deaths   PCases  PDeaths\n",
       "0     Maharashtra  1263799   33886  1263799    33886\n",
       "1  Andhra Pradesh   646530    5506   646530     5506\n",
       "2      Tamil Nadu   557999    9010   557999     9010\n",
       "3       Karnataka   540847    8266   540847     8266\n",
       "4   Uttar Pradesh   369686    5299   369686     5299"
      ]
     },
     "execution_count": 11,
     "metadata": {},
     "output_type": "execute_result"
    }
   ],
   "source": [
    "#hide\n",
    "df_table = pd.DataFrame({'states': dfc_cases.index, 'Cases': dfc_cases.values, 'Deaths': dfc_deaths.values, 'PCases': dfp_cases.values, 'PDeaths': dfp_deaths.values}).set_index('states')\n",
    "df_table = df_table.sort_values(by = ['Cases','Deaths'], ascending = [False, False])\n",
    "df_table = df_table.reset_index()\n",
    "df_table.head()"
   ]
  },
  {
   "cell_type": "code",
   "execution_count": 12,
   "metadata": {
    "execution": {
     "iopub.execute_input": "2020-09-24T04:52:52.299348Z",
     "iopub.status.busy": "2020-09-24T04:52:52.298600Z",
     "iopub.status.idle": "2020-09-24T04:52:52.308247Z",
     "shell.execute_reply": "2020-09-24T04:52:52.307543Z"
    },
    "papermill": {
     "duration": 0.03537,
     "end_time": "2020-09-24T04:52:52.308390",
     "exception": false,
     "start_time": "2020-09-24T04:52:52.273020",
     "status": "completed"
    },
    "tags": []
   },
   "outputs": [],
   "source": [
    "#hide\n",
    "for c in 'Cases, Deaths'.split(', '):\n",
    "    df_table[f'{c} (+)'] = (df_table[c] - df_table[f'P{c}']).clip(0)\n",
    "df_table['Fatality Rate'] = (100* df_table['Deaths']/ df_table['Cases']).round(2)"
   ]
  },
  {
   "cell_type": "code",
   "execution_count": 13,
   "metadata": {
    "execution": {
     "iopub.execute_input": "2020-09-24T04:52:52.361380Z",
     "iopub.status.busy": "2020-09-24T04:52:52.360673Z",
     "iopub.status.idle": "2020-09-24T04:52:52.364300Z",
     "shell.execute_reply": "2020-09-24T04:52:52.363696Z"
    },
    "papermill": {
     "duration": 0.035415,
     "end_time": "2020-09-24T04:52:52.364436",
     "exception": false,
     "start_time": "2020-09-24T04:52:52.329021",
     "status": "completed"
    },
    "tags": []
   },
   "outputs": [
    {
     "data": {
      "text/html": [
       "<div>\n",
       "<style scoped>\n",
       "    .dataframe tbody tr th:only-of-type {\n",
       "        vertical-align: middle;\n",
       "    }\n",
       "\n",
       "    .dataframe tbody tr th {\n",
       "        vertical-align: top;\n",
       "    }\n",
       "\n",
       "    .dataframe thead th {\n",
       "        text-align: right;\n",
       "    }\n",
       "</style>\n",
       "<table border=\"1\" class=\"dataframe\">\n",
       "  <thead>\n",
       "    <tr style=\"text-align: right;\">\n",
       "      <th></th>\n",
       "      <th>states</th>\n",
       "      <th>Cases</th>\n",
       "      <th>Deaths</th>\n",
       "      <th>PCases</th>\n",
       "      <th>PDeaths</th>\n",
       "      <th>Cases (+)</th>\n",
       "      <th>Deaths (+)</th>\n",
       "      <th>Fatality Rate</th>\n",
       "    </tr>\n",
       "  </thead>\n",
       "  <tbody>\n",
       "    <tr>\n",
       "      <th>0</th>\n",
       "      <td>Maharashtra</td>\n",
       "      <td>1263799</td>\n",
       "      <td>33886</td>\n",
       "      <td>1263799</td>\n",
       "      <td>33886</td>\n",
       "      <td>0</td>\n",
       "      <td>0</td>\n",
       "      <td>2.68</td>\n",
       "    </tr>\n",
       "    <tr>\n",
       "      <th>1</th>\n",
       "      <td>Andhra Pradesh</td>\n",
       "      <td>646530</td>\n",
       "      <td>5506</td>\n",
       "      <td>646530</td>\n",
       "      <td>5506</td>\n",
       "      <td>0</td>\n",
       "      <td>0</td>\n",
       "      <td>0.85</td>\n",
       "    </tr>\n",
       "    <tr>\n",
       "      <th>2</th>\n",
       "      <td>Tamil Nadu</td>\n",
       "      <td>557999</td>\n",
       "      <td>9010</td>\n",
       "      <td>557999</td>\n",
       "      <td>9010</td>\n",
       "      <td>0</td>\n",
       "      <td>0</td>\n",
       "      <td>1.61</td>\n",
       "    </tr>\n",
       "    <tr>\n",
       "      <th>3</th>\n",
       "      <td>Karnataka</td>\n",
       "      <td>540847</td>\n",
       "      <td>8266</td>\n",
       "      <td>540847</td>\n",
       "      <td>8266</td>\n",
       "      <td>0</td>\n",
       "      <td>0</td>\n",
       "      <td>1.53</td>\n",
       "    </tr>\n",
       "    <tr>\n",
       "      <th>4</th>\n",
       "      <td>Uttar Pradesh</td>\n",
       "      <td>369686</td>\n",
       "      <td>5299</td>\n",
       "      <td>369686</td>\n",
       "      <td>5299</td>\n",
       "      <td>0</td>\n",
       "      <td>0</td>\n",
       "      <td>1.43</td>\n",
       "    </tr>\n",
       "  </tbody>\n",
       "</table>\n",
       "</div>"
      ],
      "text/plain": [
       "           states    Cases  Deaths   PCases  PDeaths  Cases (+)  Deaths (+)  \\\n",
       "0     Maharashtra  1263799   33886  1263799    33886          0           0   \n",
       "1  Andhra Pradesh   646530    5506   646530     5506          0           0   \n",
       "2      Tamil Nadu   557999    9010   557999     9010          0           0   \n",
       "3       Karnataka   540847    8266   540847     8266          0           0   \n",
       "4   Uttar Pradesh   369686    5299   369686     5299          0           0   \n",
       "\n",
       "   Fatality Rate  \n",
       "0           2.68  \n",
       "1           0.85  \n",
       "2           1.61  \n",
       "3           1.53  \n",
       "4           1.43  "
      ]
     },
     "execution_count": 13,
     "metadata": {},
     "output_type": "execute_result"
    }
   ],
   "source": [
    "#hide\n",
    "df_table.head()"
   ]
  },
  {
   "cell_type": "code",
   "execution_count": 14,
   "metadata": {
    "execution": {
     "iopub.execute_input": "2020-09-24T04:52:52.410469Z",
     "iopub.status.busy": "2020-09-24T04:52:52.409767Z",
     "iopub.status.idle": "2020-09-24T04:52:52.428646Z",
     "shell.execute_reply": "2020-09-24T04:52:52.429322Z"
    },
    "papermill": {
     "duration": 0.046016,
     "end_time": "2020-09-24T04:52:52.429471",
     "exception": false,
     "start_time": "2020-09-24T04:52:52.383455",
     "status": "completed"
    },
    "tags": []
   },
   "outputs": [
    {
     "data": {
      "text/plain": [
       "{'updated': '2020-09-24',\n",
       " 'since': '2020-09-23',\n",
       " 'Cases': 5732811,\n",
       " 'PCases': 5730184,\n",
       " 'Deaths': 91188,\n",
       " 'PDeaths': 91173,\n",
       " 'Cases (+)': 2627,\n",
       " 'Deaths (+)': 15}"
      ]
     },
     "execution_count": 14,
     "metadata": {},
     "output_type": "execute_result"
    }
   ],
   "source": [
    "#hide\n",
    "summary = {'updated':dates[-1], 'since':dates[-2]}\n",
    "list_names = ['Cases', 'PCases', 'Deaths', 'PDeaths', 'Cases (+)', 'Deaths (+)']\n",
    "for name in list_names:\n",
    "    summary[name] = df_table.sum()[name]\n",
    "summary"
   ]
  },
  {
   "cell_type": "code",
   "execution_count": 15,
   "metadata": {
    "execution": {
     "iopub.execute_input": "2020-09-24T04:52:52.474412Z",
     "iopub.status.busy": "2020-09-24T04:52:52.473702Z",
     "iopub.status.idle": "2020-09-24T04:52:52.475406Z",
     "shell.execute_reply": "2020-09-24T04:52:52.476067Z"
    },
    "papermill": {
     "duration": 0.026974,
     "end_time": "2020-09-24T04:52:52.476221",
     "exception": false,
     "start_time": "2020-09-24T04:52:52.449247",
     "status": "completed"
    },
    "tags": []
   },
   "outputs": [],
   "source": [
    "#hide\n",
    "overview = '''\n",
    "<!-- #######  HTML!! #########-->\n",
    "<h1 style=\"color: #5e9ca0; text-align: center;\">India</h1>\n",
    "<p style=\"text-align: center;\">Last update: <strong>{update}</strong></p>\n",
    "<p style=\"text-align: center;\">Confirmed cases:</p>\n",
    "<p style=\"text-align: center;font-size:24px;\">{cases} (<span style=\"color: #ff0000;\">+{new}</span>)</p>\n",
    "<p style=\"text-align: center;\">Confirmed deaths:</p>\n",
    "<p style=\"text-align: center;font-size:24px;\">{deaths} (<span style=\"color: #ff0000;\">+{dnew}</span>)</p>\n",
    "'''"
   ]
  },
  {
   "cell_type": "code",
   "execution_count": 16,
   "metadata": {
    "execution": {
     "iopub.execute_input": "2020-09-24T04:52:52.522771Z",
     "iopub.status.busy": "2020-09-24T04:52:52.522071Z",
     "iopub.status.idle": "2020-09-24T04:52:52.525981Z",
     "shell.execute_reply": "2020-09-24T04:52:52.526657Z"
    },
    "papermill": {
     "duration": 0.030543,
     "end_time": "2020-09-24T04:52:52.526809",
     "exception": false,
     "start_time": "2020-09-24T04:52:52.496266",
     "status": "completed"
    },
    "tags": []
   },
   "outputs": [
    {
     "data": {
      "text/html": [
       "\n",
       "<!-- #######  HTML!! #########-->\n",
       "<h1 style=\"color: #5e9ca0; text-align: center;\">India</h1>\n",
       "<p style=\"text-align: center;\">Last update: <strong>2020-09-24</strong></p>\n",
       "<p style=\"text-align: center;\">Confirmed cases:</p>\n",
       "<p style=\"text-align: center;font-size:24px;\">5732811 (<span style=\"color: #ff0000;\">+2627</span>)</p>\n",
       "<p style=\"text-align: center;\">Confirmed deaths:</p>\n",
       "<p style=\"text-align: center;font-size:24px;\">91188 (<span style=\"color: #ff0000;\">+15</span>)</p>\n"
      ],
      "text/plain": [
       "<IPython.core.display.HTML object>"
      ]
     },
     "metadata": {},
     "output_type": "display_data"
    }
   ],
   "source": [
    "#hide_input\n",
    "update = summary['updated']\n",
    "cases = summary['Cases']\n",
    "new = summary['Cases (+)']\n",
    "deaths = summary['Deaths']\n",
    "dnew = summary['Deaths (+)']\n",
    "\n",
    "html = HTML(overview.format(update=update, cases=cases,new=new,deaths=deaths,dnew=dnew))\n",
    "\n",
    "display(html)"
   ]
  },
  {
   "cell_type": "code",
   "execution_count": 17,
   "metadata": {
    "execution": {
     "iopub.execute_input": "2020-09-24T04:52:52.576430Z",
     "iopub.status.busy": "2020-09-24T04:52:52.575725Z",
     "iopub.status.idle": "2020-09-24T04:52:52.581333Z",
     "shell.execute_reply": "2020-09-24T04:52:52.582006Z"
    },
    "papermill": {
     "duration": 0.034668,
     "end_time": "2020-09-24T04:52:52.582158",
     "exception": false,
     "start_time": "2020-09-24T04:52:52.547490",
     "status": "completed"
    },
    "tags": []
   },
   "outputs": [],
   "source": [
    "#hide\n",
    "dt_cols = list(dft_cases.columns[1:])\n",
    "dft_ct_new_cases = dft_cases.groupby('state')[dt_cols].sum().diff(axis=1).fillna(0).astype(int)\n",
    "dft_ct_new_cases.sort_values(by = dates[-1], ascending = False,inplace = True)"
   ]
  },
  {
   "cell_type": "code",
   "execution_count": 18,
   "metadata": {
    "execution": {
     "iopub.execute_input": "2020-09-24T04:52:52.644928Z",
     "iopub.status.busy": "2020-09-24T04:52:52.644214Z",
     "iopub.status.idle": "2020-09-24T04:52:52.647289Z",
     "shell.execute_reply": "2020-09-24T04:52:52.647878Z"
    },
    "papermill": {
     "duration": 0.045365,
     "end_time": "2020-09-24T04:52:52.648035",
     "exception": false,
     "start_time": "2020-09-24T04:52:52.602670",
     "status": "completed"
    },
    "tags": []
   },
   "outputs": [
    {
     "data": {
      "text/html": [
       "<div>\n",
       "<style scoped>\n",
       "    .dataframe tbody tr th:only-of-type {\n",
       "        vertical-align: middle;\n",
       "    }\n",
       "\n",
       "    .dataframe tbody tr th {\n",
       "        vertical-align: top;\n",
       "    }\n",
       "\n",
       "    .dataframe thead th {\n",
       "        text-align: right;\n",
       "    }\n",
       "</style>\n",
       "<table border=\"1\" class=\"dataframe\">\n",
       "  <thead>\n",
       "    <tr style=\"text-align: right;\">\n",
       "      <th>states</th>\n",
       "      <th>2020-07-01</th>\n",
       "      <th>2020-07-02</th>\n",
       "      <th>2020-07-03</th>\n",
       "      <th>2020-07-04</th>\n",
       "      <th>2020-07-05</th>\n",
       "      <th>2020-07-06</th>\n",
       "      <th>2020-07-07</th>\n",
       "      <th>2020-07-08</th>\n",
       "      <th>2020-07-09</th>\n",
       "      <th>2020-07-10</th>\n",
       "      <th>...</th>\n",
       "      <th>2020-09-15</th>\n",
       "      <th>2020-09-16</th>\n",
       "      <th>2020-09-17</th>\n",
       "      <th>2020-09-18</th>\n",
       "      <th>2020-09-19</th>\n",
       "      <th>2020-09-20</th>\n",
       "      <th>2020-09-21</th>\n",
       "      <th>2020-09-22</th>\n",
       "      <th>2020-09-23</th>\n",
       "      <th>2020-09-24</th>\n",
       "    </tr>\n",
       "    <tr>\n",
       "      <th>state</th>\n",
       "      <th></th>\n",
       "      <th></th>\n",
       "      <th></th>\n",
       "      <th></th>\n",
       "      <th></th>\n",
       "      <th></th>\n",
       "      <th></th>\n",
       "      <th></th>\n",
       "      <th></th>\n",
       "      <th></th>\n",
       "      <th></th>\n",
       "      <th></th>\n",
       "      <th></th>\n",
       "      <th></th>\n",
       "      <th></th>\n",
       "      <th></th>\n",
       "      <th></th>\n",
       "      <th></th>\n",
       "      <th></th>\n",
       "      <th></th>\n",
       "      <th></th>\n",
       "    </tr>\n",
       "  </thead>\n",
       "  <tbody>\n",
       "    <tr>\n",
       "      <th>Telangana</th>\n",
       "      <td>0</td>\n",
       "      <td>1213</td>\n",
       "      <td>1892</td>\n",
       "      <td>1850</td>\n",
       "      <td>1590</td>\n",
       "      <td>1831</td>\n",
       "      <td>1879</td>\n",
       "      <td>1924</td>\n",
       "      <td>1410</td>\n",
       "      <td>1278</td>\n",
       "      <td>...</td>\n",
       "      <td>2058</td>\n",
       "      <td>2273</td>\n",
       "      <td>2159</td>\n",
       "      <td>2043</td>\n",
       "      <td>2123</td>\n",
       "      <td>2137</td>\n",
       "      <td>1302</td>\n",
       "      <td>2166</td>\n",
       "      <td>2296</td>\n",
       "      <td>2176</td>\n",
       "    </tr>\n",
       "    <tr>\n",
       "      <th>Tripura</th>\n",
       "      <td>0</td>\n",
       "      <td>39</td>\n",
       "      <td>93</td>\n",
       "      <td>25</td>\n",
       "      <td>23</td>\n",
       "      <td>111</td>\n",
       "      <td>24</td>\n",
       "      <td>57</td>\n",
       "      <td>16</td>\n",
       "      <td>142</td>\n",
       "      <td>...</td>\n",
       "      <td>531</td>\n",
       "      <td>454</td>\n",
       "      <td>527</td>\n",
       "      <td>273</td>\n",
       "      <td>535</td>\n",
       "      <td>525</td>\n",
       "      <td>243</td>\n",
       "      <td>559</td>\n",
       "      <td>504</td>\n",
       "      <td>451</td>\n",
       "    </tr>\n",
       "    <tr>\n",
       "      <th>Andaman and Nicobar Islands</th>\n",
       "      <td>0</td>\n",
       "      <td>9</td>\n",
       "      <td>7</td>\n",
       "      <td>3</td>\n",
       "      <td>6</td>\n",
       "      <td>16</td>\n",
       "      <td>6</td>\n",
       "      <td>2</td>\n",
       "      <td>7</td>\n",
       "      <td>0</td>\n",
       "      <td>...</td>\n",
       "      <td>17</td>\n",
       "      <td>19</td>\n",
       "      <td>11</td>\n",
       "      <td>27</td>\n",
       "      <td>13</td>\n",
       "      <td>7</td>\n",
       "      <td>22</td>\n",
       "      <td>18</td>\n",
       "      <td>21</td>\n",
       "      <td>0</td>\n",
       "    </tr>\n",
       "    <tr>\n",
       "      <th>Puducherry</th>\n",
       "      <td>0</td>\n",
       "      <td>63</td>\n",
       "      <td>22</td>\n",
       "      <td>80</td>\n",
       "      <td>42</td>\n",
       "      <td>65</td>\n",
       "      <td>30</td>\n",
       "      <td>110</td>\n",
       "      <td>49</td>\n",
       "      <td>72</td>\n",
       "      <td>...</td>\n",
       "      <td>375</td>\n",
       "      <td>510</td>\n",
       "      <td>317</td>\n",
       "      <td>485</td>\n",
       "      <td>543</td>\n",
       "      <td>467</td>\n",
       "      <td>268</td>\n",
       "      <td>493</td>\n",
       "      <td>543</td>\n",
       "      <td>0</td>\n",
       "    </tr>\n",
       "    <tr>\n",
       "      <th>Maharashtra</th>\n",
       "      <td>0</td>\n",
       "      <td>6328</td>\n",
       "      <td>6364</td>\n",
       "      <td>7074</td>\n",
       "      <td>6555</td>\n",
       "      <td>5368</td>\n",
       "      <td>5134</td>\n",
       "      <td>6603</td>\n",
       "      <td>6875</td>\n",
       "      <td>7862</td>\n",
       "      <td>...</td>\n",
       "      <td>20482</td>\n",
       "      <td>23365</td>\n",
       "      <td>24619</td>\n",
       "      <td>21656</td>\n",
       "      <td>20519</td>\n",
       "      <td>20627</td>\n",
       "      <td>15738</td>\n",
       "      <td>18390</td>\n",
       "      <td>21029</td>\n",
       "      <td>0</td>\n",
       "    </tr>\n",
       "  </tbody>\n",
       "</table>\n",
       "<p>5 rows × 86 columns</p>\n",
       "</div>"
      ],
      "text/plain": [
       "states                       2020-07-01  2020-07-02  2020-07-03  2020-07-04  \\\n",
       "state                                                                         \n",
       "Telangana                             0        1213        1892        1850   \n",
       "Tripura                               0          39          93          25   \n",
       "Andaman and Nicobar Islands           0           9           7           3   \n",
       "Puducherry                            0          63          22          80   \n",
       "Maharashtra                           0        6328        6364        7074   \n",
       "\n",
       "states                       2020-07-05  2020-07-06  2020-07-07  2020-07-08  \\\n",
       "state                                                                         \n",
       "Telangana                          1590        1831        1879        1924   \n",
       "Tripura                              23         111          24          57   \n",
       "Andaman and Nicobar Islands           6          16           6           2   \n",
       "Puducherry                           42          65          30         110   \n",
       "Maharashtra                        6555        5368        5134        6603   \n",
       "\n",
       "states                       2020-07-09  2020-07-10  ...  2020-09-15  \\\n",
       "state                                                ...               \n",
       "Telangana                          1410        1278  ...        2058   \n",
       "Tripura                              16         142  ...         531   \n",
       "Andaman and Nicobar Islands           7           0  ...          17   \n",
       "Puducherry                           49          72  ...         375   \n",
       "Maharashtra                        6875        7862  ...       20482   \n",
       "\n",
       "states                       2020-09-16  2020-09-17  2020-09-18  2020-09-19  \\\n",
       "state                                                                         \n",
       "Telangana                          2273        2159        2043        2123   \n",
       "Tripura                             454         527         273         535   \n",
       "Andaman and Nicobar Islands          19          11          27          13   \n",
       "Puducherry                          510         317         485         543   \n",
       "Maharashtra                       23365       24619       21656       20519   \n",
       "\n",
       "states                       2020-09-20  2020-09-21  2020-09-22  2020-09-23  \\\n",
       "state                                                                         \n",
       "Telangana                          2137        1302        2166        2296   \n",
       "Tripura                             525         243         559         504   \n",
       "Andaman and Nicobar Islands           7          22          18          21   \n",
       "Puducherry                          467         268         493         543   \n",
       "Maharashtra                       20627       15738       18390       21029   \n",
       "\n",
       "states                       2020-09-24  \n",
       "state                                    \n",
       "Telangana                          2176  \n",
       "Tripura                             451  \n",
       "Andaman and Nicobar Islands           0  \n",
       "Puducherry                            0  \n",
       "Maharashtra                           0  \n",
       "\n",
       "[5 rows x 86 columns]"
      ]
     },
     "execution_count": 18,
     "metadata": {},
     "output_type": "execute_result"
    }
   ],
   "source": [
    "#hide\n",
    "dft_ct_new_cases.head()"
   ]
  },
  {
   "cell_type": "code",
   "execution_count": 19,
   "metadata": {
    "execution": {
     "iopub.execute_input": "2020-09-24T04:52:52.710404Z",
     "iopub.status.busy": "2020-09-24T04:52:52.693426Z",
     "iopub.status.idle": "2020-09-24T04:52:57.054868Z",
     "shell.execute_reply": "2020-09-24T04:52:57.055496Z"
    },
    "papermill": {
     "duration": 4.385417,
     "end_time": "2020-09-24T04:52:57.055678",
     "exception": false,
     "start_time": "2020-09-24T04:52:52.670261",
     "status": "completed"
    },
    "tags": []
   },
   "outputs": [
    {
     "data": {
      "image/png": "[encoded data removed]",
      "text/plain": [
       "<Figure size 1296x2016 with 11 Axes>"
      ]
     },
     "metadata": {
      "needs_background": "light"
     },
     "output_type": "display_data"
    }
   ],
   "source": [
    "#hide_input\n",
    "df = dft_ct_new_cases.copy()\n",
    "df.loc['Total'] = df.sum()\n",
    "n = 5\n",
    "ax = []\n",
    "fig = plt.figure(figsize = (18,28))\n",
    "gs = fig.add_gridspec(n+2, 5)\n",
    "# gs = fig.add_gridspec(2, 3)\n",
    "ax1 = fig.add_subplot(gs[0, :])\n",
    "ef = df.loc['Total'].rename_axis('date').reset_index()\n",
    "ef['date'] = ef['date'].astype('datetime64[ns]')\n",
    "ax1.bar(ef.date,ef.Total,alpha=0.3,color='#007acc')\n",
    "ax1.plot(ef.date,ef.Total , marker=\"o\", color='#007acc')\n",
    "ax1.xaxis.set_major_locator(mdates.WeekdayLocator())\n",
    "ax1.xaxis.set_major_formatter(mdates.DateFormatter('%b %d'))\n",
    "ax1.text(0.02, 0.5,'India daily case count', transform = ax1.transAxes, fontsize=25);\n",
    "ax1.spines['right'].set_visible(False)\n",
    "ax1.spines['top'].set_visible(False)\n",
    "\n",
    "ax2 = fig.add_subplot(gs[1,0])\n",
    "ef = df.loc['Maharashtra'].rename_axis('date').reset_index()\n",
    "ef['date'] = ef['date'].astype('datetime64[ns]')\n",
    "\n",
    "ax2.bar(ef.date, ef.Maharashtra,color = '#007acc',alpha=0.5)\n",
    "ax2.xaxis.set_major_locator(mdates.WeekdayLocator())\n",
    "ax2.xaxis.set_major_formatter(mdates.DateFormatter('%b %d'))\n",
    "ax2.set_xticks(ax2.get_xticks()[::3])\n",
    "maxyval = ef.Maharashtra.max()\n",
    "ax2.set_ylim([0,maxyval])\n",
    "ax2.text(0.05, 0.9,'Maharashtra', transform = ax2.transAxes, fontsize=20);\n",
    "ax2.spines['right'].set_visible(False)\n",
    "ax2.spines['top'].set_visible(False)\n",
    "\n",
    "\n",
    "ax3 = fig.add_subplot(gs[1,1])\n",
    "ef = df.loc['Tamil Nadu'].rename_axis('date').reset_index()\n",
    "ef['date'] = ef['date'].astype('datetime64[ns]')\n",
    "ax3.bar(ef.date, ef['Tamil Nadu'],color = '#007acc',alpha=0.5,)\n",
    "ax3.xaxis.set_major_locator(mdates.WeekdayLocator())\n",
    "ax3.xaxis.set_major_formatter(mdates.DateFormatter('%b %d'))\n",
    "ax3.set_xticks(ax3.get_xticks()[::3])\n",
    "ax3.text(0.05, 0.9,'Tamil Nadu', transform = ax3.transAxes, fontsize=20);\n",
    "ax3.spines['right'].set_visible(False)\n",
    "ax3.spines['top'].set_visible(False)\n",
    "\n",
    "ax5 = fig.add_subplot(gs[1,3])\n",
    "ef = df.loc['Telangana'].rename_axis('date').reset_index()\n",
    "ef['date'] = ef['date'].astype('datetime64[ns]')\n",
    "ax5.bar(ef.date, ef['Telangana'],color = '#007acc',alpha=0.5,)\n",
    "ax5.xaxis.set_major_locator(mdates.WeekdayLocator())\n",
    "ax5.xaxis.set_major_formatter(mdates.DateFormatter('%b %d'))\n",
    "ax5.set_xticks(ax5.get_xticks()[::3])\n",
    "ax5.text(0.05, 0.9,'Telangana', transform = ax5.transAxes, fontsize=20);\n",
    "ax5.spines['right'].set_visible(False)\n",
    "ax5.spines['top'].set_visible(False)\n",
    "\n",
    "ax6 = fig.add_subplot(gs[1,4])\n",
    "ef = df.loc['Andhra Pradesh'].rename_axis('date').reset_index()\n",
    "ef['date'] = ef['date'].astype('datetime64[ns]')\n",
    "ax6.bar(ef.date, ef['Andhra Pradesh'],color = '#007acc',alpha=0.5,)\n",
    "ax6.xaxis.set_major_locator(mdates.WeekdayLocator())\n",
    "ax6.xaxis.set_major_formatter(mdates.DateFormatter('%b %d'))\n",
    "ax6.set_xticks(ax6.get_xticks()[::3])\n",
    "ax6.text(0.05, 1,'Andhra Pradesh', transform = ax6.transAxes, fontsize=20);\n",
    "ax6.spines['right'].set_visible(False)\n",
    "ax6.spines['top'].set_visible(False)\n",
    "\n",
    "ax4 = fig.add_subplot(gs[1,2])\n",
    "ef = df.loc['Delhi'].rename_axis('date').reset_index()\n",
    "ef['date'] = ef['date'].astype('datetime64[ns]')\n",
    "ax4.bar(ef.date, ef.Delhi,color = '#007acc',alpha=0.5)\n",
    "ax4.set_xticks([])\n",
    "ax4.xaxis.set_major_locator(mdates.WeekdayLocator())\n",
    "ax4.xaxis.set_major_formatter(mdates.DateFormatter('%b %d'))\n",
    "ax4.set_xticks(ax4.get_xticks()[::3])\n",
    "ax4.spines['right'].set_visible(False)\n",
    "ax4.spines['top'].set_visible(False)\n",
    "\n",
    "ax4.text(0.05, 1,'Delhi', transform = ax4.transAxes, fontsize=20)\n",
    "\n",
    "for i in range(n):\n",
    "    \n",
    "    ax.append(fig.add_subplot(gs[i+2,:]))\n",
    "    ef = df.iloc[i+3].rename_axis('date').reset_index()\n",
    "    ef['date'] = ef['date'].astype('datetime64[ns]')\n",
    "    ax[i].bar(ef.date,ef.iloc[:,-1],color = '#007acc',alpha=0.3)\n",
    "    ax[i].plot(ef.date,ef.iloc[:,-1],marker='o',color='#007acc')\n",
    "    ax[i].text(0.02,0.5,f'{ef.columns.values[-1]}',transform = ax[i].transAxes, fontsize = 20);\n",
    "    ax[i].xaxis.set_major_locator(mdates.WeekdayLocator())\n",
    "    ax[i].xaxis.set_major_formatter(mdates.DateFormatter('%b %d'))\n",
    "    ax[i].set_ylim([0,7000])\n",
    "    ax[i].spines['right'].set_visible(False)\n",
    "    ax[i].spines['top'].set_visible(False)\n",
    "plt.tight_layout()\n"
   ]
  },
  {
   "cell_type": "code",
   "execution_count": 20,
   "metadata": {
    "execution": {
     "iopub.execute_input": "2020-09-24T04:52:57.118367Z",
     "iopub.status.busy": "2020-09-24T04:52:57.117630Z",
     "iopub.status.idle": "2020-09-24T04:52:57.120284Z",
     "shell.execute_reply": "2020-09-24T04:52:57.120872Z"
    },
    "papermill": {
     "duration": 0.038564,
     "end_time": "2020-09-24T04:52:57.121034",
     "exception": false,
     "start_time": "2020-09-24T04:52:57.082470",
     "status": "completed"
    },
    "tags": []
   },
   "outputs": [
    {
     "name": "stdout",
     "output_type": "stream",
     "text": [
      "                                   states    Cases  Deaths   PCases  PDeaths  Cases (+)  Deaths (+)  Fatality Rate\n",
      "                              Maharashtra  1263799   33886  1263799    33886          0           0           2.68\n",
      "                           Andhra Pradesh   646530    5506   646530     5506          0           0           0.85\n",
      "                               Tamil Nadu   557999    9010   557999     9010          0           0           1.61\n",
      "                                Karnataka   540847    8266   540847     8266          0           0           1.53\n",
      "                            Uttar Pradesh   369686    5299   369686     5299          0           0           1.43\n",
      "                                    Delhi   256789    5087   256789     5087          0           0           1.98\n",
      "                              West Bengal   234673    4544   234673     4544          0           0           1.94\n",
      "                                   Odisha   192548     789   192548      789          0           0           0.41\n",
      "                                Telangana   179246    1070   177070     1062       2176           8           0.60\n",
      "                                    Bihar   173063     874   173063      874          0           0           0.51\n",
      "                                    Assam   163491     597   163491      597          0           0           0.37\n",
      "                                   Kerala   148134     593   148134      593          0           0           0.40\n",
      "                                  Gujarat   127541    3368   127541     3368          0           0           2.64\n",
      "                                Rajasthan   120739    1382   120739     1382          0           0           1.14\n",
      "                                  Haryana   116856    1233   116856     1233          0           0           1.06\n",
      "                           Madhya Pradesh   113057    2077   113057     2077          0           0           1.84\n",
      "                                   Punjab   103464    2990   103464     2990          0           0           2.89\n",
      "                             Chhattisgarh    93351     728    93351      728          0           0           0.78\n",
      "                                Jharkhand    75089     648    75089      648          0           0           0.86\n",
      "                        Jammu and Kashmir    67510    1062    67510     1062          0           0           1.57\n",
      "                              Uttarakhand    43720     529    43720      529          0           0           1.21\n",
      "                                      Goa    29879     376    29879      376          0           0           1.26\n",
      "                               Puducherry    24227     481    24227      481          0           0           1.99\n",
      "                                  Tripura    23786     257    23335      250        451           7           1.08\n",
      "                         Himachal Pradesh    13049     135    13049      135          0           0           1.03\n",
      "                               Chandigarh    10726     137    10726      137          0           0           1.28\n",
      "                                  Manipur     9376      62     9376       62          0           0           0.66\n",
      "                        Arunachal Pradesh     8133      14     8133       14          0           0           0.17\n",
      "                                 Nagaland     5671      11     5671       11          0           0           0.19\n",
      "                                Meghalaya     4961      42     4961       42          0           0           0.85\n",
      "                                   Ladakh     3933      51     3933       51          0           0           1.30\n",
      "              Andaman and Nicobar Islands     3712      52     3712       52          0           0           1.40\n",
      " Dadra and Nagar Haveli and Daman and Diu     2965       2     2965        2          0           0           0.07\n",
      "                                   Sikkim     2548      30     2548       30          0           0           1.18\n",
      "                                  Mizoram     1713       0     1713        0          0           0           0.00\n",
      "                              Lakshadweep        0       0        0        0          0           0            NaN\n"
     ]
    }
   ],
   "source": [
    "#hide_input\n",
    "print(df_table.to_string(index=False))"
   ]
  },
  {
   "cell_type": "code",
   "execution_count": null,
   "metadata": {
    "papermill": {
     "duration": 0.024522,
     "end_time": "2020-09-24T04:52:57.170933",
     "exception": false,
     "start_time": "2020-09-24T04:52:57.146411",
     "status": "completed"
    },
    "tags": []
   },
   "outputs": [],
   "source": []
  },
  {
   "cell_type": "code",
   "execution_count": null,
   "metadata": {
    "papermill": {
     "duration": 0.023847,
     "end_time": "2020-09-24T04:52:57.217500",
     "exception": false,
     "start_time": "2020-09-24T04:52:57.193653",
     "status": "completed"
    },
    "tags": []
   },
   "outputs": [],
   "source": []
  }
 ],
 "metadata": {
  "kernelspec": {
   "display_name": "Python 3",
   "language": "python",
   "name": "python3"
  },
  "language_info": {
   "codemirror_mode": {
    "name": "ipython",
    "version": 3
   },
   "file_extension": ".py",
   "mimetype": "text/x-python",
   "name": "python",
   "nbconvert_exporter": "python",
   "pygments_lexer": "ipython3",
   "version": "3.6.12"
  },
  "papermill": {
   "duration": 11.152996,
   "end_time": "2020-09-24T04:52:57.648382",
   "environment_variables": {},
   "exception": null,
   "input_path": "latest.ipynb",
   "output_path": "latest.ipynb",
   "parameters": {},
   "start_time": "2020-09-24T04:52:46.495386",
   "version": "2.1.2"
  }
 },
 "nbformat": 4,
 "nbformat_minor": 4
}