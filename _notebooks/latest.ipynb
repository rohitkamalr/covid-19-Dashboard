{
 "cells": [
  {
   "cell_type": "markdown",
   "metadata": {
    "papermill": {
     "duration": 0.05185,
     "end_time": "2020-09-18T04:51:50.622447",
     "exception": false,
     "start_time": "2020-09-18T04:51:50.570597",
     "status": "completed"
    },
    "tags": []
   },
   "source": [
    "# Latest COVID-19 India Matplotlib Overview"
   ]
  },
  {
   "cell_type": "code",
   "execution_count": 1,
   "metadata": {
    "execution": {
     "iopub.execute_input": "2020-09-18T04:51:50.744397Z",
     "iopub.status.busy": "2020-09-18T04:51:50.743731Z",
     "iopub.status.idle": "2020-09-18T04:51:51.414276Z",
     "shell.execute_reply": "2020-09-18T04:51:51.412585Z"
    },
    "papermill": {
     "duration": 0.750461,
     "end_time": "2020-09-18T04:51:51.414526",
     "exception": false,
     "start_time": "2020-09-18T04:51:50.664065",
     "status": "completed"
    },
    "tags": []
   },
   "outputs": [],
   "source": [
    "#hide\n",
    "import pandas as pd\n",
    "import numpy as np\n",
    "import requests\n",
    "import json\n",
    "import matplotlib.pyplot as plt\n",
    "import matplotlib.dates as mdates\n",
    "import matplotlib as mpl\n",
    "from IPython.core.display import display,HTML\n",
    "%matplotlib inline\n",
    "from datetime import date"
   ]
  },
  {
   "cell_type": "code",
   "execution_count": 2,
   "metadata": {
    "execution": {
     "iopub.execute_input": "2020-09-18T04:51:51.500914Z",
     "iopub.status.busy": "2020-09-18T04:51:51.500112Z",
     "iopub.status.idle": "2020-09-18T04:51:51.623670Z",
     "shell.execute_reply": "2020-09-18T04:51:51.623029Z"
    },
    "papermill": {
     "duration": 0.147294,
     "end_time": "2020-09-18T04:51:51.623824",
     "exception": false,
     "start_time": "2020-09-18T04:51:51.476530",
     "status": "completed"
    },
    "tags": []
   },
   "outputs": [],
   "source": [
    "#hide\n",
    "df  = pd.read_csv('https://api.covid19india.org/csv/latest/states.csv')\n",
    "df = df[['Date','State','Confirmed','Deceased']]\n",
    "df = df.rename(columns={'Confirmed':'Cases', \"Deceased\":'Deaths'})\n",
    "df_cases = df[[\"Date\",'State','Cases']]\n",
    "df_deaths = df[['Date','State','Deaths']]\n",
    "df_cases1 = df_cases.groupby('Date')\n",
    "df_deaths1= df_deaths.groupby('Date')"
   ]
  },
  {
   "cell_type": "code",
   "execution_count": 3,
   "metadata": {
    "execution": {
     "iopub.execute_input": "2020-09-18T04:51:51.878810Z",
     "iopub.status.busy": "2020-09-18T04:51:51.878103Z",
     "iopub.status.idle": "2020-09-18T04:51:51.897659Z",
     "shell.execute_reply": "2020-09-18T04:51:51.897130Z"
    },
    "papermill": {
     "duration": 0.226174,
     "end_time": "2020-09-18T04:51:51.897812",
     "exception": false,
     "start_time": "2020-09-18T04:51:51.671638",
     "status": "completed"
    },
    "tags": []
   },
   "outputs": [],
   "source": [
    "#hide\n",
    "df_snap = pd.read_csv('data/SnapshotCases-28-July.csv')\n",
    "arr_states = df_snap['states'].unique()\n",
    "arr_dates = df['Date'].unique()\n",
    "df_snap = df_snap.set_index('states')"
   ]
  },
  {
   "cell_type": "code",
   "execution_count": 4,
   "metadata": {
    "execution": {
     "iopub.execute_input": "2020-09-18T04:51:51.939210Z",
     "iopub.status.busy": "2020-09-18T04:51:51.938553Z",
     "iopub.status.idle": "2020-09-18T04:51:51.944106Z",
     "shell.execute_reply": "2020-09-18T04:51:51.944586Z"
    },
    "papermill": {
     "duration": 0.029226,
     "end_time": "2020-09-18T04:51:51.944756",
     "exception": false,
     "start_time": "2020-09-18T04:51:51.915530",
     "status": "completed"
    },
    "tags": []
   },
   "outputs": [
    {
     "data": {
      "text/plain": [
       "array(['Andaman and Nicobar Islands', 'Andhra Pradesh',\n",
       "       'Arunachal Pradesh', 'Assam', 'Bihar', 'Chandigarh',\n",
       "       'Dadra and Nagar Haveli and Daman and Diu', 'Delhi', 'Goa',\n",
       "       'Gujarat', 'Haryana', 'Himachal Pradesh', 'Jammu and Kashmir',\n",
       "       'Jharkhand', 'Karnataka', 'Kerala', 'Lakshadweep',\n",
       "       'Madhya Pradesh', 'Maharashtra', 'Manipur', 'Meghalaya', 'Mizoram',\n",
       "       'Nagaland', 'Odisha', 'Puducherry', 'Punjab', 'Rajasthan',\n",
       "       'Sikkim', 'Tamil Nadu', 'Telangana', 'Tripura', 'Uttar Pradesh',\n",
       "       'West Bengal', 'Chhattisgarh', 'Ladakh', 'Uttarakhand'],\n",
       "      dtype=object)"
      ]
     },
     "execution_count": 4,
     "metadata": {},
     "output_type": "execute_result"
    }
   ],
   "source": [
    "#hide\n",
    "arr_states[-9] = 'Puducherry'\n",
    "arr_states[-10] = 'Odisha'\n",
    "arr_states[6] = 'Dadra and Nagar Haveli and Daman and Diu'\n",
    "arr_states = np.append(arr_states,np.array(['Chhattisgarh','Ladakh','Uttarakhand']))\n",
    "arr_states"
   ]
  },
  {
   "cell_type": "code",
   "execution_count": 5,
   "metadata": {
    "execution": {
     "iopub.execute_input": "2020-09-18T04:51:51.992435Z",
     "iopub.status.busy": "2020-09-18T04:51:51.991309Z",
     "iopub.status.idle": "2020-09-18T04:51:51.993844Z",
     "shell.execute_reply": "2020-09-18T04:51:51.993368Z"
    },
    "papermill": {
     "duration": 0.033187,
     "end_time": "2020-09-18T04:51:51.993983",
     "exception": false,
     "start_time": "2020-09-18T04:51:51.960796",
     "status": "completed"
    },
    "tags": []
   },
   "outputs": [],
   "source": [
    "#hide\n",
    "dates = []\n",
    "for i in arr_dates:\n",
    "    if i>='2020-07-01':\n",
    "        dates.append(i)\n",
    "dict = {'states':dates}\n",
    "for i in arr_states:\n",
    "    dict[i] = [0]*len(dates)\n",
    "dft_cases = pd.DataFrame(dict)\n",
    "dft_deaths = pd.DataFrame(dict)\n"
   ]
  },
  {
   "cell_type": "code",
   "execution_count": 6,
   "metadata": {
    "execution": {
     "iopub.execute_input": "2020-09-18T04:51:52.032395Z",
     "iopub.status.busy": "2020-09-18T04:51:52.031768Z",
     "iopub.status.idle": "2020-09-18T04:51:53.112958Z",
     "shell.execute_reply": "2020-09-18T04:51:53.112463Z"
    },
    "papermill": {
     "duration": 1.103327,
     "end_time": "2020-09-18T04:51:53.113099",
     "exception": false,
     "start_time": "2020-09-18T04:51:52.009772",
     "status": "completed"
    },
    "tags": []
   },
   "outputs": [],
   "source": [
    "#hide\n",
    "for i in range(len(dates)):\n",
    "    df1_deaths = df_deaths1.get_group(dates[i])\n",
    "    for j in range(len(df1_deaths.index)):\n",
    "        if df1_deaths.iloc[j,1] in arr_states:\n",
    "            dft_deaths.loc[i,df1_deaths.iloc[j,1]] = df1_deaths.iloc[j,2]\n",
    "dft_deaths = dft_deaths.set_index('states')"
   ]
  },
  {
   "cell_type": "code",
   "execution_count": 7,
   "metadata": {
    "execution": {
     "iopub.execute_input": "2020-09-18T04:51:53.159088Z",
     "iopub.status.busy": "2020-09-18T04:51:53.158462Z",
     "iopub.status.idle": "2020-09-18T04:51:54.278147Z",
     "shell.execute_reply": "2020-09-18T04:51:54.276855Z"
    },
    "papermill": {
     "duration": 1.146002,
     "end_time": "2020-09-18T04:51:54.278308",
     "exception": false,
     "start_time": "2020-09-18T04:51:53.132306",
     "status": "completed"
    },
    "tags": []
   },
   "outputs": [],
   "source": [
    "#hide\n",
    "for i in range(len(dates)):\n",
    "    df1_cases = df_cases1.get_group(dates[i])\n",
    "    for j in range(len(df1_cases.index)):\n",
    "        if df1_cases.iloc[j,1] in arr_states:\n",
    "            dft_cases.loc[i,df1_cases.iloc[j,1]] = df1_cases.iloc[j,2]\n",
    "dft_cases = dft_cases.set_index('states')"
   ]
  },
  {
   "cell_type": "code",
   "execution_count": 8,
   "metadata": {
    "execution": {
     "iopub.execute_input": "2020-09-18T04:51:54.315998Z",
     "iopub.status.busy": "2020-09-18T04:51:54.315328Z",
     "iopub.status.idle": "2020-09-18T04:51:54.318012Z",
     "shell.execute_reply": "2020-09-18T04:51:54.317535Z"
    },
    "papermill": {
     "duration": 0.023968,
     "end_time": "2020-09-18T04:51:54.318151",
     "exception": false,
     "start_time": "2020-09-18T04:51:54.294183",
     "status": "completed"
    },
    "tags": []
   },
   "outputs": [],
   "source": [
    "#hide\n",
    "dft_cases = dft_cases.T\n",
    "dft_deaths = dft_deaths.T\n",
    "dt_today = dates[-1]\n",
    "dt_yday = dates[-2]"
   ]
  },
  {
   "cell_type": "code",
   "execution_count": 9,
   "metadata": {
    "execution": {
     "iopub.execute_input": "2020-09-18T04:51:54.357703Z",
     "iopub.status.busy": "2020-09-18T04:51:54.357001Z",
     "iopub.status.idle": "2020-09-18T04:51:54.360628Z",
     "shell.execute_reply": "2020-09-18T04:51:54.361194Z"
    },
    "papermill": {
     "duration": 0.027592,
     "end_time": "2020-09-18T04:51:54.361351",
     "exception": false,
     "start_time": "2020-09-18T04:51:54.333759",
     "status": "completed"
    },
    "tags": []
   },
   "outputs": [],
   "source": [
    "#hide\n",
    "dft_cases = dft_cases.reset_index()\n",
    "dft_deaths = dft_deaths.reset_index()\n",
    "dft_cases = dft_cases.rename(columns = {'index':'state'})\n",
    "dft_deaths = dft_deaths.rename(columns = {'index':'state'})"
   ]
  },
  {
   "cell_type": "code",
   "execution_count": 10,
   "metadata": {
    "execution": {
     "iopub.execute_input": "2020-09-18T04:51:54.400708Z",
     "iopub.status.busy": "2020-09-18T04:51:54.400138Z",
     "iopub.status.idle": "2020-09-18T04:51:54.409468Z",
     "shell.execute_reply": "2020-09-18T04:51:54.408960Z"
    },
    "papermill": {
     "duration": 0.03253,
     "end_time": "2020-09-18T04:51:54.409598",
     "exception": false,
     "start_time": "2020-09-18T04:51:54.377068",
     "status": "completed"
    },
    "tags": []
   },
   "outputs": [],
   "source": [
    "#hide\n",
    "dfc_cases = dft_cases.groupby('state')[dt_today].sum()\n",
    "dfc_deaths = dft_deaths.groupby('state')[dt_today].sum()\n",
    "dfp_cases = dft_cases.groupby('state')[dt_yday].sum()\n",
    "dfp_deaths = dft_deaths.groupby('state')[dt_yday].sum()"
   ]
  },
  {
   "cell_type": "code",
   "execution_count": 11,
   "metadata": {
    "execution": {
     "iopub.execute_input": "2020-09-18T04:51:54.461342Z",
     "iopub.status.busy": "2020-09-18T04:51:54.460670Z",
     "iopub.status.idle": "2020-09-18T04:51:54.467415Z",
     "shell.execute_reply": "2020-09-18T04:51:54.466874Z"
    },
    "papermill": {
     "duration": 0.041692,
     "end_time": "2020-09-18T04:51:54.467561",
     "exception": false,
     "start_time": "2020-09-18T04:51:54.425869",
     "status": "completed"
    },
    "tags": []
   },
   "outputs": [
    {
     "data": {
      "text/html": [
       "<div>\n",
       "<style scoped>\n",
       "    .dataframe tbody tr th:only-of-type {\n",
       "        vertical-align: middle;\n",
       "    }\n",
       "\n",
       "    .dataframe tbody tr th {\n",
       "        vertical-align: top;\n",
       "    }\n",
       "\n",
       "    .dataframe thead th {\n",
       "        text-align: right;\n",
       "    }\n",
       "</style>\n",
       "<table border=\"1\" class=\"dataframe\">\n",
       "  <thead>\n",
       "    <tr style=\"text-align: right;\">\n",
       "      <th></th>\n",
       "      <th>states</th>\n",
       "      <th>Cases</th>\n",
       "      <th>Deaths</th>\n",
       "      <th>PCases</th>\n",
       "      <th>PDeaths</th>\n",
       "    </tr>\n",
       "  </thead>\n",
       "  <tbody>\n",
       "    <tr>\n",
       "      <th>0</th>\n",
       "      <td>Maharashtra</td>\n",
       "      <td>1145840</td>\n",
       "      <td>31351</td>\n",
       "      <td>1145840</td>\n",
       "      <td>31351</td>\n",
       "    </tr>\n",
       "    <tr>\n",
       "      <th>1</th>\n",
       "      <td>Andhra Pradesh</td>\n",
       "      <td>601462</td>\n",
       "      <td>5177</td>\n",
       "      <td>601462</td>\n",
       "      <td>5177</td>\n",
       "    </tr>\n",
       "    <tr>\n",
       "      <th>2</th>\n",
       "      <td>Tamil Nadu</td>\n",
       "      <td>525420</td>\n",
       "      <td>8618</td>\n",
       "      <td>525420</td>\n",
       "      <td>8618</td>\n",
       "    </tr>\n",
       "    <tr>\n",
       "      <th>3</th>\n",
       "      <td>Karnataka</td>\n",
       "      <td>494356</td>\n",
       "      <td>7629</td>\n",
       "      <td>494356</td>\n",
       "      <td>7629</td>\n",
       "    </tr>\n",
       "    <tr>\n",
       "      <th>4</th>\n",
       "      <td>Uttar Pradesh</td>\n",
       "      <td>336294</td>\n",
       "      <td>4771</td>\n",
       "      <td>336294</td>\n",
       "      <td>4771</td>\n",
       "    </tr>\n",
       "  </tbody>\n",
       "</table>\n",
       "</div>"
      ],
      "text/plain": [
       "           states    Cases  Deaths   PCases  PDeaths\n",
       "0     Maharashtra  1145840   31351  1145840    31351\n",
       "1  Andhra Pradesh   601462    5177   601462     5177\n",
       "2      Tamil Nadu   525420    8618   525420     8618\n",
       "3       Karnataka   494356    7629   494356     7629\n",
       "4   Uttar Pradesh   336294    4771   336294     4771"
      ]
     },
     "execution_count": 11,
     "metadata": {},
     "output_type": "execute_result"
    }
   ],
   "source": [
    "#hide\n",
    "df_table = pd.DataFrame({'states': dfc_cases.index, 'Cases': dfc_cases.values, 'Deaths': dfc_deaths.values, 'PCases': dfp_cases.values, 'PDeaths': dfp_deaths.values}).set_index('states')\n",
    "df_table = df_table.sort_values(by = ['Cases','Deaths'], ascending = [False, False])\n",
    "df_table = df_table.reset_index()\n",
    "df_table.head()"
   ]
  },
  {
   "cell_type": "code",
   "execution_count": 12,
   "metadata": {
    "execution": {
     "iopub.execute_input": "2020-09-18T04:51:54.504813Z",
     "iopub.status.busy": "2020-09-18T04:51:54.504184Z",
     "iopub.status.idle": "2020-09-18T04:51:54.512959Z",
     "shell.execute_reply": "2020-09-18T04:51:54.513435Z"
    },
    "papermill": {
     "duration": 0.030399,
     "end_time": "2020-09-18T04:51:54.513589",
     "exception": false,
     "start_time": "2020-09-18T04:51:54.483190",
     "status": "completed"
    },
    "tags": []
   },
   "outputs": [],
   "source": [
    "#hide\n",
    "for c in 'Cases, Deaths'.split(', '):\n",
    "    df_table[f'{c} (+)'] = (df_table[c] - df_table[f'P{c}']).clip(0)\n",
    "df_table['Fatality Rate'] = (100* df_table['Deaths']/ df_table['Cases']).round(2)"
   ]
  },
  {
   "cell_type": "code",
   "execution_count": 13,
   "metadata": {
    "execution": {
     "iopub.execute_input": "2020-09-18T04:51:54.553161Z",
     "iopub.status.busy": "2020-09-18T04:51:54.552561Z",
     "iopub.status.idle": "2020-09-18T04:51:54.559905Z",
     "shell.execute_reply": "2020-09-18T04:51:54.559353Z"
    },
    "papermill": {
     "duration": 0.030391,
     "end_time": "2020-09-18T04:51:54.560049",
     "exception": false,
     "start_time": "2020-09-18T04:51:54.529658",
     "status": "completed"
    },
    "tags": []
   },
   "outputs": [
    {
     "data": {
      "text/html": [
       "<div>\n",
       "<style scoped>\n",
       "    .dataframe tbody tr th:only-of-type {\n",
       "        vertical-align: middle;\n",
       "    }\n",
       "\n",
       "    .dataframe tbody tr th {\n",
       "        vertical-align: top;\n",
       "    }\n",
       "\n",
       "    .dataframe thead th {\n",
       "        text-align: right;\n",
       "    }\n",
       "</style>\n",
       "<table border=\"1\" class=\"dataframe\">\n",
       "  <thead>\n",
       "    <tr style=\"text-align: right;\">\n",
       "      <th></th>\n",
       "      <th>states</th>\n",
       "      <th>Cases</th>\n",
       "      <th>Deaths</th>\n",
       "      <th>PCases</th>\n",
       "      <th>PDeaths</th>\n",
       "      <th>Cases (+)</th>\n",
       "      <th>Deaths (+)</th>\n",
       "      <th>Fatality Rate</th>\n",
       "    </tr>\n",
       "  </thead>\n",
       "  <tbody>\n",
       "    <tr>\n",
       "      <th>0</th>\n",
       "      <td>Maharashtra</td>\n",
       "      <td>1145840</td>\n",
       "      <td>31351</td>\n",
       "      <td>1145840</td>\n",
       "      <td>31351</td>\n",
       "      <td>0</td>\n",
       "      <td>0</td>\n",
       "      <td>2.74</td>\n",
       "    </tr>\n",
       "    <tr>\n",
       "      <th>1</th>\n",
       "      <td>Andhra Pradesh</td>\n",
       "      <td>601462</td>\n",
       "      <td>5177</td>\n",
       "      <td>601462</td>\n",
       "      <td>5177</td>\n",
       "      <td>0</td>\n",
       "      <td>0</td>\n",
       "      <td>0.86</td>\n",
       "    </tr>\n",
       "    <tr>\n",
       "      <th>2</th>\n",
       "      <td>Tamil Nadu</td>\n",
       "      <td>525420</td>\n",
       "      <td>8618</td>\n",
       "      <td>525420</td>\n",
       "      <td>8618</td>\n",
       "      <td>0</td>\n",
       "      <td>0</td>\n",
       "      <td>1.64</td>\n",
       "    </tr>\n",
       "    <tr>\n",
       "      <th>3</th>\n",
       "      <td>Karnataka</td>\n",
       "      <td>494356</td>\n",
       "      <td>7629</td>\n",
       "      <td>494356</td>\n",
       "      <td>7629</td>\n",
       "      <td>0</td>\n",
       "      <td>0</td>\n",
       "      <td>1.54</td>\n",
       "    </tr>\n",
       "    <tr>\n",
       "      <th>4</th>\n",
       "      <td>Uttar Pradesh</td>\n",
       "      <td>336294</td>\n",
       "      <td>4771</td>\n",
       "      <td>336294</td>\n",
       "      <td>4771</td>\n",
       "      <td>0</td>\n",
       "      <td>0</td>\n",
       "      <td>1.42</td>\n",
       "    </tr>\n",
       "  </tbody>\n",
       "</table>\n",
       "</div>"
      ],
      "text/plain": [
       "           states    Cases  Deaths   PCases  PDeaths  Cases (+)  Deaths (+)  \\\n",
       "0     Maharashtra  1145840   31351  1145840    31351          0           0   \n",
       "1  Andhra Pradesh   601462    5177   601462     5177          0           0   \n",
       "2      Tamil Nadu   525420    8618   525420     8618          0           0   \n",
       "3       Karnataka   494356    7629   494356     7629          0           0   \n",
       "4   Uttar Pradesh   336294    4771   336294     4771          0           0   \n",
       "\n",
       "   Fatality Rate  \n",
       "0           2.74  \n",
       "1           0.86  \n",
       "2           1.64  \n",
       "3           1.54  \n",
       "4           1.42  "
      ]
     },
     "execution_count": 13,
     "metadata": {},
     "output_type": "execute_result"
    }
   ],
   "source": [
    "#hide\n",
    "df_table.head()"
   ]
  },
  {
   "cell_type": "code",
   "execution_count": 14,
   "metadata": {
    "execution": {
     "iopub.execute_input": "2020-09-18T04:51:54.598983Z",
     "iopub.status.busy": "2020-09-18T04:51:54.598377Z",
     "iopub.status.idle": "2020-09-18T04:51:54.614480Z",
     "shell.execute_reply": "2020-09-18T04:51:54.614937Z"
    },
    "papermill": {
     "duration": 0.038568,
     "end_time": "2020-09-18T04:51:54.615104",
     "exception": false,
     "start_time": "2020-09-18T04:51:54.576536",
     "status": "completed"
    },
    "tags": []
   },
   "outputs": [
    {
     "data": {
      "text/plain": [
       "{'updated': '2020-09-18',\n",
       " 'since': '2020-09-17',\n",
       " 'Cases': 5215031,\n",
       " 'PCases': 5212687,\n",
       " 'Deaths': 84421,\n",
       " 'PDeaths': 84404,\n",
       " 'Cases (+)': 2344,\n",
       " 'Deaths (+)': 17}"
      ]
     },
     "execution_count": 14,
     "metadata": {},
     "output_type": "execute_result"
    }
   ],
   "source": [
    "#hide\n",
    "summary = {'updated':dates[-1], 'since':dates[-2]}\n",
    "list_names = ['Cases', 'PCases', 'Deaths', 'PDeaths', 'Cases (+)', 'Deaths (+)']\n",
    "for name in list_names:\n",
    "    summary[name] = df_table.sum()[name]\n",
    "summary"
   ]
  },
  {
   "cell_type": "code",
   "execution_count": 15,
   "metadata": {
    "execution": {
     "iopub.execute_input": "2020-09-18T04:51:54.653736Z",
     "iopub.status.busy": "2020-09-18T04:51:54.652644Z",
     "iopub.status.idle": "2020-09-18T04:51:54.654922Z",
     "shell.execute_reply": "2020-09-18T04:51:54.655633Z"
    },
    "papermill": {
     "duration": 0.023895,
     "end_time": "2020-09-18T04:51:54.655796",
     "exception": false,
     "start_time": "2020-09-18T04:51:54.631901",
     "status": "completed"
    },
    "tags": []
   },
   "outputs": [],
   "source": [
    "#hide\n",
    "overview = '''\n",
    "<!-- #######  HTML!! #########-->\n",
    "<h1 style=\"color: #5e9ca0; text-align: center;\">India</h1>\n",
    "<p style=\"text-align: center;\">Last update: <strong>{update}</strong></p>\n",
    "<p style=\"text-align: center;\">Confirmed cases:</p>\n",
    "<p style=\"text-align: center;font-size:24px;\">{cases} (<span style=\"color: #ff0000;\">+{new}</span>)</p>\n",
    "<p style=\"text-align: center;\">Confirmed deaths:</p>\n",
    "<p style=\"text-align: center;font-size:24px;\">{deaths} (<span style=\"color: #ff0000;\">+{dnew}</span>)</p>\n",
    "'''"
   ]
  },
  {
   "cell_type": "code",
   "execution_count": 16,
   "metadata": {
    "execution": {
     "iopub.execute_input": "2020-09-18T04:51:54.698658Z",
     "iopub.status.busy": "2020-09-18T04:51:54.698023Z",
     "iopub.status.idle": "2020-09-18T04:51:54.700561Z",
     "shell.execute_reply": "2020-09-18T04:51:54.701133Z"
    },
    "papermill": {
     "duration": 0.028766,
     "end_time": "2020-09-18T04:51:54.701296",
     "exception": false,
     "start_time": "2020-09-18T04:51:54.672530",
     "status": "completed"
    },
    "tags": []
   },
   "outputs": [
    {
     "data": {
      "text/html": [
       "\n",
       "<!-- #######  HTML!! #########-->\n",
       "<h1 style=\"color: #5e9ca0; text-align: center;\">India</h1>\n",
       "<p style=\"text-align: center;\">Last update: <strong>2020-09-18</strong></p>\n",
       "<p style=\"text-align: center;\">Confirmed cases:</p>\n",
       "<p style=\"text-align: center;font-size:24px;\">5215031 (<span style=\"color: #ff0000;\">+2344</span>)</p>\n",
       "<p style=\"text-align: center;\">Confirmed deaths:</p>\n",
       "<p style=\"text-align: center;font-size:24px;\">84421 (<span style=\"color: #ff0000;\">+17</span>)</p>\n"
      ],
      "text/plain": [
       "<IPython.core.display.HTML object>"
      ]
     },
     "metadata": {},
     "output_type": "display_data"
    }
   ],
   "source": [
    "#hide_input\n",
    "update = summary['updated']\n",
    "cases = summary['Cases']\n",
    "new = summary['Cases (+)']\n",
    "deaths = summary['Deaths']\n",
    "dnew = summary['Deaths (+)']\n",
    "\n",
    "html = HTML(overview.format(update=update, cases=cases,new=new,deaths=deaths,dnew=dnew))\n",
    "\n",
    "display(html)"
   ]
  },
  {
   "cell_type": "code",
   "execution_count": 17,
   "metadata": {
    "execution": {
     "iopub.execute_input": "2020-09-18T04:51:54.748142Z",
     "iopub.status.busy": "2020-09-18T04:51:54.747493Z",
     "iopub.status.idle": "2020-09-18T04:51:54.752555Z",
     "shell.execute_reply": "2020-09-18T04:51:54.752062Z"
    },
    "papermill": {
     "duration": 0.034165,
     "end_time": "2020-09-18T04:51:54.752698",
     "exception": false,
     "start_time": "2020-09-18T04:51:54.718533",
     "status": "completed"
    },
    "tags": []
   },
   "outputs": [],
   "source": [
    "#hide\n",
    "dt_cols = list(dft_cases.columns[1:])\n",
    "dft_ct_new_cases = dft_cases.groupby('state')[dt_cols].sum().diff(axis=1).fillna(0).astype(int)\n",
    "dft_ct_new_cases.sort_values(by = dates[-1], ascending = False,inplace = True)"
   ]
  },
  {
   "cell_type": "code",
   "execution_count": 18,
   "metadata": {
    "execution": {
     "iopub.execute_input": "2020-09-18T04:51:54.806034Z",
     "iopub.status.busy": "2020-09-18T04:51:54.805415Z",
     "iopub.status.idle": "2020-09-18T04:51:54.808090Z",
     "shell.execute_reply": "2020-09-18T04:51:54.808569Z"
    },
    "papermill": {
     "duration": 0.038555,
     "end_time": "2020-09-18T04:51:54.808886",
     "exception": false,
     "start_time": "2020-09-18T04:51:54.770331",
     "status": "completed"
    },
    "tags": []
   },
   "outputs": [
    {
     "data": {
      "text/html": [
       "<div>\n",
       "<style scoped>\n",
       "    .dataframe tbody tr th:only-of-type {\n",
       "        vertical-align: middle;\n",
       "    }\n",
       "\n",
       "    .dataframe tbody tr th {\n",
       "        vertical-align: top;\n",
       "    }\n",
       "\n",
       "    .dataframe thead th {\n",
       "        text-align: right;\n",
       "    }\n",
       "</style>\n",
       "<table border=\"1\" class=\"dataframe\">\n",
       "  <thead>\n",
       "    <tr style=\"text-align: right;\">\n",
       "      <th>states</th>\n",
       "      <th>2020-07-01</th>\n",
       "      <th>2020-07-02</th>\n",
       "      <th>2020-07-03</th>\n",
       "      <th>2020-07-04</th>\n",
       "      <th>2020-07-05</th>\n",
       "      <th>2020-07-06</th>\n",
       "      <th>2020-07-07</th>\n",
       "      <th>2020-07-08</th>\n",
       "      <th>2020-07-09</th>\n",
       "      <th>2020-07-10</th>\n",
       "      <th>...</th>\n",
       "      <th>2020-09-09</th>\n",
       "      <th>2020-09-10</th>\n",
       "      <th>2020-09-11</th>\n",
       "      <th>2020-09-12</th>\n",
       "      <th>2020-09-13</th>\n",
       "      <th>2020-09-14</th>\n",
       "      <th>2020-09-15</th>\n",
       "      <th>2020-09-16</th>\n",
       "      <th>2020-09-17</th>\n",
       "      <th>2020-09-18</th>\n",
       "    </tr>\n",
       "    <tr>\n",
       "      <th>state</th>\n",
       "      <th></th>\n",
       "      <th></th>\n",
       "      <th></th>\n",
       "      <th></th>\n",
       "      <th></th>\n",
       "      <th></th>\n",
       "      <th></th>\n",
       "      <th></th>\n",
       "      <th></th>\n",
       "      <th></th>\n",
       "      <th></th>\n",
       "      <th></th>\n",
       "      <th></th>\n",
       "      <th></th>\n",
       "      <th></th>\n",
       "      <th></th>\n",
       "      <th></th>\n",
       "      <th></th>\n",
       "      <th></th>\n",
       "      <th></th>\n",
       "      <th></th>\n",
       "    </tr>\n",
       "  </thead>\n",
       "  <tbody>\n",
       "    <tr>\n",
       "      <th>Telangana</th>\n",
       "      <td>0</td>\n",
       "      <td>1213</td>\n",
       "      <td>1892</td>\n",
       "      <td>1850</td>\n",
       "      <td>1590</td>\n",
       "      <td>1831</td>\n",
       "      <td>1879</td>\n",
       "      <td>1924</td>\n",
       "      <td>1410</td>\n",
       "      <td>1278</td>\n",
       "      <td>...</td>\n",
       "      <td>2479</td>\n",
       "      <td>2534</td>\n",
       "      <td>2426</td>\n",
       "      <td>2278</td>\n",
       "      <td>2216</td>\n",
       "      <td>1417</td>\n",
       "      <td>2058</td>\n",
       "      <td>2273</td>\n",
       "      <td>2159</td>\n",
       "      <td>2043</td>\n",
       "    </tr>\n",
       "    <tr>\n",
       "      <th>Tripura</th>\n",
       "      <td>0</td>\n",
       "      <td>39</td>\n",
       "      <td>93</td>\n",
       "      <td>25</td>\n",
       "      <td>23</td>\n",
       "      <td>111</td>\n",
       "      <td>24</td>\n",
       "      <td>57</td>\n",
       "      <td>16</td>\n",
       "      <td>142</td>\n",
       "      <td>...</td>\n",
       "      <td>582</td>\n",
       "      <td>535</td>\n",
       "      <td>559</td>\n",
       "      <td>470</td>\n",
       "      <td>629</td>\n",
       "      <td>255</td>\n",
       "      <td>531</td>\n",
       "      <td>454</td>\n",
       "      <td>527</td>\n",
       "      <td>273</td>\n",
       "    </tr>\n",
       "    <tr>\n",
       "      <th>Mizoram</th>\n",
       "      <td>0</td>\n",
       "      <td>2</td>\n",
       "      <td>0</td>\n",
       "      <td>2</td>\n",
       "      <td>22</td>\n",
       "      <td>11</td>\n",
       "      <td>1</td>\n",
       "      <td>5</td>\n",
       "      <td>0</td>\n",
       "      <td>23</td>\n",
       "      <td>...</td>\n",
       "      <td>69</td>\n",
       "      <td>141</td>\n",
       "      <td>20</td>\n",
       "      <td>26</td>\n",
       "      <td>35</td>\n",
       "      <td>14</td>\n",
       "      <td>40</td>\n",
       "      <td>12</td>\n",
       "      <td>26</td>\n",
       "      <td>28</td>\n",
       "    </tr>\n",
       "    <tr>\n",
       "      <th>Andaman and Nicobar Islands</th>\n",
       "      <td>0</td>\n",
       "      <td>9</td>\n",
       "      <td>7</td>\n",
       "      <td>3</td>\n",
       "      <td>6</td>\n",
       "      <td>16</td>\n",
       "      <td>6</td>\n",
       "      <td>2</td>\n",
       "      <td>7</td>\n",
       "      <td>0</td>\n",
       "      <td>...</td>\n",
       "      <td>34</td>\n",
       "      <td>39</td>\n",
       "      <td>29</td>\n",
       "      <td>27</td>\n",
       "      <td>25</td>\n",
       "      <td>11</td>\n",
       "      <td>17</td>\n",
       "      <td>19</td>\n",
       "      <td>11</td>\n",
       "      <td>0</td>\n",
       "    </tr>\n",
       "    <tr>\n",
       "      <th>Puducherry</th>\n",
       "      <td>0</td>\n",
       "      <td>63</td>\n",
       "      <td>22</td>\n",
       "      <td>80</td>\n",
       "      <td>42</td>\n",
       "      <td>65</td>\n",
       "      <td>30</td>\n",
       "      <td>110</td>\n",
       "      <td>49</td>\n",
       "      <td>72</td>\n",
       "      <td>...</td>\n",
       "      <td>335</td>\n",
       "      <td>452</td>\n",
       "      <td>490</td>\n",
       "      <td>419</td>\n",
       "      <td>388</td>\n",
       "      <td>393</td>\n",
       "      <td>375</td>\n",
       "      <td>510</td>\n",
       "      <td>317</td>\n",
       "      <td>0</td>\n",
       "    </tr>\n",
       "  </tbody>\n",
       "</table>\n",
       "<p>5 rows × 80 columns</p>\n",
       "</div>"
      ],
      "text/plain": [
       "states                       2020-07-01  2020-07-02  2020-07-03  2020-07-04  \\\n",
       "state                                                                         \n",
       "Telangana                             0        1213        1892        1850   \n",
       "Tripura                               0          39          93          25   \n",
       "Mizoram                               0           2           0           2   \n",
       "Andaman and Nicobar Islands           0           9           7           3   \n",
       "Puducherry                            0          63          22          80   \n",
       "\n",
       "states                       2020-07-05  2020-07-06  2020-07-07  2020-07-08  \\\n",
       "state                                                                         \n",
       "Telangana                          1590        1831        1879        1924   \n",
       "Tripura                              23         111          24          57   \n",
       "Mizoram                              22          11           1           5   \n",
       "Andaman and Nicobar Islands           6          16           6           2   \n",
       "Puducherry                           42          65          30         110   \n",
       "\n",
       "states                       2020-07-09  2020-07-10  ...  2020-09-09  \\\n",
       "state                                                ...               \n",
       "Telangana                          1410        1278  ...        2479   \n",
       "Tripura                              16         142  ...         582   \n",
       "Mizoram                               0          23  ...          69   \n",
       "Andaman and Nicobar Islands           7           0  ...          34   \n",
       "Puducherry                           49          72  ...         335   \n",
       "\n",
       "states                       2020-09-10  2020-09-11  2020-09-12  2020-09-13  \\\n",
       "state                                                                         \n",
       "Telangana                          2534        2426        2278        2216   \n",
       "Tripura                             535         559         470         629   \n",
       "Mizoram                             141          20          26          35   \n",
       "Andaman and Nicobar Islands          39          29          27          25   \n",
       "Puducherry                          452         490         419         388   \n",
       "\n",
       "states                       2020-09-14  2020-09-15  2020-09-16  2020-09-17  \\\n",
       "state                                                                         \n",
       "Telangana                          1417        2058        2273        2159   \n",
       "Tripura                             255         531         454         527   \n",
       "Mizoram                              14          40          12          26   \n",
       "Andaman and Nicobar Islands          11          17          19          11   \n",
       "Puducherry                          393         375         510         317   \n",
       "\n",
       "states                       2020-09-18  \n",
       "state                                    \n",
       "Telangana                          2043  \n",
       "Tripura                             273  \n",
       "Mizoram                              28  \n",
       "Andaman and Nicobar Islands           0  \n",
       "Puducherry                            0  \n",
       "\n",
       "[5 rows x 80 columns]"
      ]
     },
     "execution_count": 18,
     "metadata": {},
     "output_type": "execute_result"
    }
   ],
   "source": [
    "#hide\n",
    "dft_ct_new_cases.head()"
   ]
  },
  {
   "cell_type": "code",
   "execution_count": 19,
   "metadata": {
    "execution": {
     "iopub.execute_input": "2020-09-18T04:51:54.864902Z",
     "iopub.status.busy": "2020-09-18T04:51:54.854318Z",
     "iopub.status.idle": "2020-09-18T04:51:58.351788Z",
     "shell.execute_reply": "2020-09-18T04:51:58.352271Z"
    },
    "papermill": {
     "duration": 3.525165,
     "end_time": "2020-09-18T04:51:58.352430",
     "exception": false,
     "start_time": "2020-09-18T04:51:54.827265",
     "status": "completed"
    },
    "tags": []
   },
   "outputs": [
    {
     "data": {
      "image/png": "[encoded data removed]",
      "text/plain": [
       "<Figure size 1296x2016 with 11 Axes>"
      ]
     },
     "metadata": {
      "needs_background": "light"
     },
     "output_type": "display_data"
    }
   ],
   "source": [
    "#hide_input\n",
    "df = dft_ct_new_cases.copy()\n",
    "df.loc['Total'] = df.sum()\n",
    "n = 5\n",
    "ax = []\n",
    "fig = plt.figure(figsize = (18,28))\n",
    "gs = fig.add_gridspec(n+2, 5)\n",
    "# gs = fig.add_gridspec(2, 3)\n",
    "ax1 = fig.add_subplot(gs[0, :])\n",
    "ef = df.loc['Total'].rename_axis('date').reset_index()\n",
    "ef['date'] = ef['date'].astype('datetime64[ns]')\n",
    "ax1.bar(ef.date,ef.Total,alpha=0.3,color='#007acc')\n",
    "ax1.plot(ef.date,ef.Total , marker=\"o\", color='#007acc')\n",
    "ax1.xaxis.set_major_locator(mdates.WeekdayLocator())\n",
    "ax1.xaxis.set_major_formatter(mdates.DateFormatter('%b %d'))\n",
    "ax1.text(0.02, 0.5,'India daily case count', transform = ax1.transAxes, fontsize=25);\n",
    "ax1.spines['right'].set_visible(False)\n",
    "ax1.spines['top'].set_visible(False)\n",
    "\n",
    "ax2 = fig.add_subplot(gs[1,0])\n",
    "ef = df.loc['Maharashtra'].rename_axis('date').reset_index()\n",
    "ef['date'] = ef['date'].astype('datetime64[ns]')\n",
    "\n",
    "ax2.bar(ef.date, ef.Maharashtra,color = '#007acc',alpha=0.5)\n",
    "ax2.xaxis.set_major_locator(mdates.WeekdayLocator())\n",
    "ax2.xaxis.set_major_formatter(mdates.DateFormatter('%b %d'))\n",
    "ax2.set_xticks(ax2.get_xticks()[::3])\n",
    "maxyval = ef.Maharashtra.max()\n",
    "ax2.set_ylim([0,maxyval])\n",
    "ax2.text(0.05, 0.9,'Maharashtra', transform = ax2.transAxes, fontsize=20);\n",
    "ax2.spines['right'].set_visible(False)\n",
    "ax2.spines['top'].set_visible(False)\n",
    "\n",
    "\n",
    "ax3 = fig.add_subplot(gs[1,1])\n",
    "ef = df.loc['Tamil Nadu'].rename_axis('date').reset_index()\n",
    "ef['date'] = ef['date'].astype('datetime64[ns]')\n",
    "ax3.bar(ef.date, ef['Tamil Nadu'],color = '#007acc',alpha=0.5,)\n",
    "ax3.xaxis.set_major_locator(mdates.WeekdayLocator())\n",
    "ax3.xaxis.set_major_formatter(mdates.DateFormatter('%b %d'))\n",
    "ax3.set_xticks(ax3.get_xticks()[::3])\n",
    "ax3.text(0.05, 0.9,'Tamil Nadu', transform = ax3.transAxes, fontsize=20);\n",
    "ax3.spines['right'].set_visible(False)\n",
    "ax3.spines['top'].set_visible(False)\n",
    "\n",
    "ax5 = fig.add_subplot(gs[1,3])\n",
    "ef = df.loc['Telangana'].rename_axis('date').reset_index()\n",
    "ef['date'] = ef['date'].astype('datetime64[ns]')\n",
    "ax5.bar(ef.date, ef['Telangana'],color = '#007acc',alpha=0.5,)\n",
    "ax5.xaxis.set_major_locator(mdates.WeekdayLocator())\n",
    "ax5.xaxis.set_major_formatter(mdates.DateFormatter('%b %d'))\n",
    "ax5.set_xticks(ax5.get_xticks()[::3])\n",
    "ax5.text(0.05, 0.9,'Telangana', transform = ax5.transAxes, fontsize=20);\n",
    "ax5.spines['right'].set_visible(False)\n",
    "ax5.spines['top'].set_visible(False)\n",
    "\n",
    "ax6 = fig.add_subplot(gs[1,4])\n",
    "ef = df.loc['Andhra Pradesh'].rename_axis('date').reset_index()\n",
    "ef['date'] = ef['date'].astype('datetime64[ns]')\n",
    "ax6.bar(ef.date, ef['Andhra Pradesh'],color = '#007acc',alpha=0.5,)\n",
    "ax6.xaxis.set_major_locator(mdates.WeekdayLocator())\n",
    "ax6.xaxis.set_major_formatter(mdates.DateFormatter('%b %d'))\n",
    "ax6.set_xticks(ax6.get_xticks()[::3])\n",
    "ax6.text(0.05, 1,'Andhra Pradesh', transform = ax6.transAxes, fontsize=20);\n",
    "ax6.spines['right'].set_visible(False)\n",
    "ax6.spines['top'].set_visible(False)\n",
    "\n",
    "ax4 = fig.add_subplot(gs[1,2])\n",
    "ef = df.loc['Delhi'].rename_axis('date').reset_index()\n",
    "ef['date'] = ef['date'].astype('datetime64[ns]')\n",
    "ax4.bar(ef.date, ef.Delhi,color = '#007acc',alpha=0.5)\n",
    "ax4.set_xticks([])\n",
    "ax4.xaxis.set_major_locator(mdates.WeekdayLocator())\n",
    "ax4.xaxis.set_major_formatter(mdates.DateFormatter('%b %d'))\n",
    "ax4.set_xticks(ax4.get_xticks()[::3])\n",
    "ax4.spines['right'].set_visible(False)\n",
    "ax4.spines['top'].set_visible(False)\n",
    "\n",
    "ax4.text(0.05, 1,'Delhi', transform = ax4.transAxes, fontsize=20)\n",
    "\n",
    "for i in range(n):\n",
    "    \n",
    "    ax.append(fig.add_subplot(gs[i+2,:]))\n",
    "    ef = df.iloc[i+3].rename_axis('date').reset_index()\n",
    "    ef['date'] = ef['date'].astype('datetime64[ns]')\n",
    "    ax[i].bar(ef.date,ef.iloc[:,-1],color = '#007acc',alpha=0.3)\n",
    "    ax[i].plot(ef.date,ef.iloc[:,-1],marker='o',color='#007acc')\n",
    "    ax[i].text(0.02,0.5,f'{ef.columns.values[-1]}',transform = ax[i].transAxes, fontsize = 20);\n",
    "    ax[i].xaxis.set_major_locator(mdates.WeekdayLocator())\n",
    "    ax[i].xaxis.set_major_formatter(mdates.DateFormatter('%b %d'))\n",
    "    ax[i].set_ylim([0,7000])\n",
    "    ax[i].spines['right'].set_visible(False)\n",
    "    ax[i].spines['top'].set_visible(False)\n",
    "plt.tight_layout()\n"
   ]
  },
  {
   "cell_type": "code",
   "execution_count": 20,
   "metadata": {
    "execution": {
     "iopub.execute_input": "2020-09-18T04:51:58.587875Z",
     "iopub.status.busy": "2020-09-18T04:51:58.587187Z",
     "iopub.status.idle": "2020-09-18T04:51:58.589366Z",
     "shell.execute_reply": "2020-09-18T04:51:58.589948Z"
    },
    "papermill": {
     "duration": 0.214233,
     "end_time": "2020-09-18T04:51:58.590110",
     "exception": false,
     "start_time": "2020-09-18T04:51:58.375877",
     "status": "completed"
    },
    "tags": []
   },
   "outputs": [
    {
     "name": "stdout",
     "output_type": "stream",
     "text": [
      "                                   states    Cases  Deaths   PCases  PDeaths  Cases (+)  Deaths (+)  Fatality Rate\n",
      "                              Maharashtra  1145840   31351  1145840    31351          0           0           2.74\n",
      "                           Andhra Pradesh   601462    5177   601462     5177          0           0           0.86\n",
      "                               Tamil Nadu   525420    8618   525420     8618          0           0           1.64\n",
      "                                Karnataka   494356    7629   494356     7629          0           0           1.54\n",
      "                            Uttar Pradesh   336294    4771   336294     4771          0           0           1.42\n",
      "                                    Delhi   234701    4877   234701     4877          0           0           2.08\n",
      "                              West Bengal   215580    4183   215580     4183          0           0           1.94\n",
      "                                   Odisha   167161     722   167161      722          0           0           0.43\n",
      "                                Telangana   167046    1016   165003     1005       2043          11           0.61\n",
      "                                    Bihar   164224     855   164224      855          0           0           0.52\n",
      "                                    Assam   150349     528   150349      528          0           0           0.35\n",
      "                                   Kerala   122216     490   122216      490          0           0           0.40\n",
      "                                  Gujarat   119088    3271   119088     3271          0           0           2.75\n",
      "                                Rajasthan   109473    1293   109473     1293          0           0           1.18\n",
      "                                  Haryana   103773    1069   103773     1069          0           0           1.03\n",
      "                           Madhya Pradesh    97906    1877    97906     1877          0           0           1.92\n",
      "                                   Punjab    90032    2646    90032     2646          0           0           2.94\n",
      "                             Chhattisgarh    77775     628    77775      628          0           0           0.81\n",
      "                                Jharkhand    67100     590    67100      590          0           0           0.88\n",
      "                        Jammu and Kashmir    59711     951    59711      951          0           0           1.59\n",
      "                              Uttarakhand    37139     460    37139      460          0           0           1.24\n",
      "                                      Goa    26783     327    26783      327          0           0           1.22\n",
      "                               Puducherry    21428     431    21428      431          0           0           2.01\n",
      "                                  Tripura    20969     228    20696      222        273           6           1.09\n",
      "                         Himachal Pradesh    11190      97    11190       97          0           0           0.87\n",
      "                               Chandigarh     9256     106     9256      106          0           0           1.15\n",
      "                                  Manipur     8430      51     8430       51          0           0           0.60\n",
      "                        Arunachal Pradesh     6851      13     6851       13          0           0           0.19\n",
      "                                 Nagaland     5306      10     5306       10          0           0           0.19\n",
      "                                Meghalaya     4357      32     4357       32          0           0           0.73\n",
      "              Andaman and Nicobar Islands     3604      52     3604       52          0           0           1.44\n",
      "                                   Ladakh     3576      47     3576       47          0           0           1.31\n",
      " Dadra and Nagar Haveli and Daman and Diu     2827       2     2827        2          0           0           0.07\n",
      "                                   Sikkim     2274      23     2274       23          0           0           1.01\n",
      "                                  Mizoram     1534       0     1506        0         28           0           0.00\n",
      "                              Lakshadweep        0       0        0        0          0           0            NaN\n"
     ]
    }
   ],
   "source": [
    "#hide_input\n",
    "print(df_table.to_string(index=False))"
   ]
  },
  {
   "cell_type": "code",
   "execution_count": null,
   "metadata": {
    "papermill": {
     "duration": 0.030417,
     "end_time": "2020-09-18T04:51:58.653700",
     "exception": false,
     "start_time": "2020-09-18T04:51:58.623283",
     "status": "completed"
    },
    "tags": []
   },
   "outputs": [],
   "source": []
  },
  {
   "cell_type": "code",
   "execution_count": null,
   "metadata": {
    "papermill": {
     "duration": 0.022914,
     "end_time": "2020-09-18T04:51:58.699668",
     "exception": false,
     "start_time": "2020-09-18T04:51:58.676754",
     "status": "completed"
    },
    "tags": []
   },
   "outputs": [],
   "source": []
  }
 ],
 "metadata": {
  "kernelspec": {
   "display_name": "Python 3",
   "language": "python",
   "name": "python3"
  },
  "language_info": {
   "codemirror_mode": {
    "name": "ipython",
    "version": 3
   },
   "file_extension": ".py",
   "mimetype": "text/x-python",
   "name": "python",
   "nbconvert_exporter": "python",
   "pygments_lexer": "ipython3",
   "version": "3.6.12"
  },
  "papermill": {
   "duration": 9.780431,
   "end_time": "2020-09-18T04:51:59.232396",
   "environment_variables": {},
   "exception": null,
   "input_path": "latest.ipynb",
   "output_path": "latest.ipynb",
   "parameters": {},
   "start_time": "2020-09-18T04:51:49.451965",
   "version": "2.1.2"
  }
 },
 "nbformat": 4,
 "nbformat_minor": 4
}