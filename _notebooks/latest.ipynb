{
 "cells": [
  {
   "cell_type": "markdown",
   "metadata": {
    "papermill": {
     "duration": 0.087256,
     "end_time": "2020-10-15T03:52:34.893937",
     "exception": false,
     "start_time": "2020-10-15T03:52:34.806681",
     "status": "completed"
    },
    "tags": []
   },
   "source": [
    "# Latest COVID-19 India Matplotlib Overview"
   ]
  },
  {
   "cell_type": "code",
   "execution_count": 1,
   "metadata": {
    "execution": {
     "iopub.execute_input": "2020-10-15T03:52:35.108255Z",
     "iopub.status.busy": "2020-10-15T03:52:35.107589Z",
     "iopub.status.idle": "2020-10-15T03:52:35.739081Z",
     "shell.execute_reply": "2020-10-15T03:52:35.738321Z"
    },
    "papermill": {
     "duration": 0.687298,
     "end_time": "2020-10-15T03:52:35.739258",
     "exception": false,
     "start_time": "2020-10-15T03:52:35.051960",
     "status": "completed"
    },
    "tags": []
   },
   "outputs": [],
   "source": [
    "#hide\n",
    "import pandas as pd\n",
    "import numpy as np\n",
    "import requests\n",
    "import json\n",
    "import matplotlib.pyplot as plt\n",
    "import matplotlib.dates as mdates\n",
    "import matplotlib as mpl\n",
    "from IPython.core.display import display,HTML\n",
    "%matplotlib inline\n",
    "from datetime import date"
   ]
  },
  {
   "cell_type": "code",
   "execution_count": 2,
   "metadata": {
    "execution": {
     "iopub.execute_input": "2020-10-15T03:52:35.781318Z",
     "iopub.status.busy": "2020-10-15T03:52:35.780646Z",
     "iopub.status.idle": "2020-10-15T03:52:36.244092Z",
     "shell.execute_reply": "2020-10-15T03:52:36.243466Z"
    },
    "papermill": {
     "duration": 0.488097,
     "end_time": "2020-10-15T03:52:36.244282",
     "exception": false,
     "start_time": "2020-10-15T03:52:35.756185",
     "status": "completed"
    },
    "tags": []
   },
   "outputs": [],
   "source": [
    "#hide\n",
    "df  = pd.read_csv('https://api.covid19india.org/csv/latest/states.csv')\n",
    "df = df[['Date','State','Confirmed','Deceased']]\n",
    "df = df.rename(columns={'Confirmed':'Cases', \"Deceased\":'Deaths'})\n",
    "df_cases = df[[\"Date\",'State','Cases']]\n",
    "df_deaths = df[['Date','State','Deaths']]\n",
    "df_cases1 = df_cases.groupby('Date')\n",
    "df_deaths1= df_deaths.groupby('Date')"
   ]
  },
  {
   "cell_type": "code",
   "execution_count": 3,
   "metadata": {
    "execution": {
     "iopub.execute_input": "2020-10-15T03:52:36.289722Z",
     "iopub.status.busy": "2020-10-15T03:52:36.288729Z",
     "iopub.status.idle": "2020-10-15T03:52:36.308960Z",
     "shell.execute_reply": "2020-10-15T03:52:36.308355Z"
    },
    "papermill": {
     "duration": 0.046611,
     "end_time": "2020-10-15T03:52:36.309136",
     "exception": false,
     "start_time": "2020-10-15T03:52:36.262525",
     "status": "completed"
    },
    "tags": []
   },
   "outputs": [],
   "source": [
    "#hide\n",
    "df_snap = pd.read_csv('data/SnapshotCases-28-July.csv')\n",
    "arr_states = df_snap['states'].unique()\n",
    "arr_dates = df['Date'].unique()\n",
    "df_snap = df_snap.set_index('states')"
   ]
  },
  {
   "cell_type": "code",
   "execution_count": 4,
   "metadata": {
    "execution": {
     "iopub.execute_input": "2020-10-15T03:52:36.354248Z",
     "iopub.status.busy": "2020-10-15T03:52:36.353432Z",
     "iopub.status.idle": "2020-10-15T03:52:36.356234Z",
     "shell.execute_reply": "2020-10-15T03:52:36.356871Z"
    },
    "papermill": {
     "duration": 0.030186,
     "end_time": "2020-10-15T03:52:36.357049",
     "exception": false,
     "start_time": "2020-10-15T03:52:36.326863",
     "status": "completed"
    },
    "tags": []
   },
   "outputs": [
    {
     "data": {
      "text/plain": [
       "array(['Andaman and Nicobar Islands', 'Andhra Pradesh',\n",
       "       'Arunachal Pradesh', 'Assam', 'Bihar', 'Chandigarh',\n",
       "       'Dadra and Nagar Haveli and Daman and Diu', 'Delhi', 'Goa',\n",
       "       'Gujarat', 'Haryana', 'Himachal Pradesh', 'Jammu and Kashmir',\n",
       "       'Jharkhand', 'Karnataka', 'Kerala', 'Lakshadweep',\n",
       "       'Madhya Pradesh', 'Maharashtra', 'Manipur', 'Meghalaya', 'Mizoram',\n",
       "       'Nagaland', 'Odisha', 'Puducherry', 'Punjab', 'Rajasthan',\n",
       "       'Sikkim', 'Tamil Nadu', 'Telangana', 'Tripura', 'Uttar Pradesh',\n",
       "       'West Bengal', 'Chhattisgarh', 'Ladakh', 'Uttarakhand'],\n",
       "      dtype=object)"
      ]
     },
     "execution_count": 4,
     "metadata": {},
     "output_type": "execute_result"
    }
   ],
   "source": [
    "#hide\n",
    "arr_states[-9] = 'Puducherry'\n",
    "arr_states[-10] = 'Odisha'\n",
    "arr_states[6] = 'Dadra and Nagar Haveli and Daman and Diu'\n",
    "arr_states = np.append(arr_states,np.array(['Chhattisgarh','Ladakh','Uttarakhand']))\n",
    "arr_states"
   ]
  },
  {
   "cell_type": "code",
   "execution_count": 5,
   "metadata": {
    "execution": {
     "iopub.execute_input": "2020-10-15T03:52:36.404951Z",
     "iopub.status.busy": "2020-10-15T03:52:36.404234Z",
     "iopub.status.idle": "2020-10-15T03:52:36.412915Z",
     "shell.execute_reply": "2020-10-15T03:52:36.413531Z"
    },
    "papermill": {
     "duration": 0.038736,
     "end_time": "2020-10-15T03:52:36.413815",
     "exception": false,
     "start_time": "2020-10-15T03:52:36.375079",
     "status": "completed"
    },
    "tags": []
   },
   "outputs": [],
   "source": [
    "#hide\n",
    "dates = []\n",
    "for i in arr_dates:\n",
    "    if i>='2020-07-01':\n",
    "        dates.append(i)\n",
    "dict = {'states':dates}\n",
    "for i in arr_states:\n",
    "    dict[i] = [0]*len(dates)\n",
    "dft_cases = pd.DataFrame(dict)\n",
    "dft_deaths = pd.DataFrame(dict)\n"
   ]
  },
  {
   "cell_type": "code",
   "execution_count": 6,
   "metadata": {
    "execution": {
     "iopub.execute_input": "2020-10-15T03:52:36.456792Z",
     "iopub.status.busy": "2020-10-15T03:52:36.456085Z",
     "iopub.status.idle": "2020-10-15T03:52:38.417742Z",
     "shell.execute_reply": "2020-10-15T03:52:38.417200Z"
    },
    "papermill": {
     "duration": 1.986255,
     "end_time": "2020-10-15T03:52:38.417882",
     "exception": false,
     "start_time": "2020-10-15T03:52:36.431627",
     "status": "completed"
    },
    "tags": []
   },
   "outputs": [],
   "source": [
    "#hide\n",
    "for i in range(len(dates)):\n",
    "    df1_deaths = df_deaths1.get_group(dates[i])\n",
    "    for j in range(len(df1_deaths.index)):\n",
    "        if df1_deaths.iloc[j,1] in arr_states:\n",
    "            dft_deaths.loc[i,df1_deaths.iloc[j,1]] = df1_deaths.iloc[j,2]\n",
    "dft_deaths = dft_deaths.set_index('states')"
   ]
  },
  {
   "cell_type": "code",
   "execution_count": 7,
   "metadata": {
    "execution": {
     "iopub.execute_input": "2020-10-15T03:52:38.460003Z",
     "iopub.status.busy": "2020-10-15T03:52:38.459296Z",
     "iopub.status.idle": "2020-10-15T03:52:40.377423Z",
     "shell.execute_reply": "2020-10-15T03:52:40.378063Z"
    },
    "papermill": {
     "duration": 1.943062,
     "end_time": "2020-10-15T03:52:40.378266",
     "exception": false,
     "start_time": "2020-10-15T03:52:38.435204",
     "status": "completed"
    },
    "tags": []
   },
   "outputs": [],
   "source": [
    "#hide\n",
    "for i in range(len(dates)):\n",
    "    df1_cases = df_cases1.get_group(dates[i])\n",
    "    for j in range(len(df1_cases.index)):\n",
    "        if df1_cases.iloc[j,1] in arr_states:\n",
    "            dft_cases.loc[i,df1_cases.iloc[j,1]] = df1_cases.iloc[j,2]\n",
    "dft_cases = dft_cases.set_index('states')"
   ]
  },
  {
   "cell_type": "code",
   "execution_count": 8,
   "metadata": {
    "execution": {
     "iopub.execute_input": "2020-10-15T03:52:40.466269Z",
     "iopub.status.busy": "2020-10-15T03:52:40.465489Z",
     "iopub.status.idle": "2020-10-15T03:52:40.468291Z",
     "shell.execute_reply": "2020-10-15T03:52:40.467810Z"
    },
    "papermill": {
     "duration": 0.070845,
     "end_time": "2020-10-15T03:52:40.468431",
     "exception": false,
     "start_time": "2020-10-15T03:52:40.397586",
     "status": "completed"
    },
    "tags": []
   },
   "outputs": [],
   "source": [
    "#hide\n",
    "dft_cases = dft_cases.T\n",
    "dft_deaths = dft_deaths.T\n",
    "dt_today = dates[-1]\n",
    "dt_yday = dates[-2]"
   ]
  },
  {
   "cell_type": "code",
   "execution_count": 9,
   "metadata": {
    "execution": {
     "iopub.execute_input": "2020-10-15T03:52:40.512078Z",
     "iopub.status.busy": "2020-10-15T03:52:40.511367Z",
     "iopub.status.idle": "2020-10-15T03:52:40.513923Z",
     "shell.execute_reply": "2020-10-15T03:52:40.513358Z"
    },
    "papermill": {
     "duration": 0.027951,
     "end_time": "2020-10-15T03:52:40.514079",
     "exception": false,
     "start_time": "2020-10-15T03:52:40.486128",
     "status": "completed"
    },
    "tags": []
   },
   "outputs": [],
   "source": [
    "#hide\n",
    "dft_cases = dft_cases.reset_index()\n",
    "dft_deaths = dft_deaths.reset_index()\n",
    "dft_cases = dft_cases.rename(columns = {'index':'state'})\n",
    "dft_deaths = dft_deaths.rename(columns = {'index':'state'})"
   ]
  },
  {
   "cell_type": "code",
   "execution_count": 10,
   "metadata": {
    "execution": {
     "iopub.execute_input": "2020-10-15T03:52:40.561588Z",
     "iopub.status.busy": "2020-10-15T03:52:40.560815Z",
     "iopub.status.idle": "2020-10-15T03:52:40.562978Z",
     "shell.execute_reply": "2020-10-15T03:52:40.563685Z"
    },
    "papermill": {
     "duration": 0.032685,
     "end_time": "2020-10-15T03:52:40.563836",
     "exception": false,
     "start_time": "2020-10-15T03:52:40.531151",
     "status": "completed"
    },
    "tags": []
   },
   "outputs": [],
   "source": [
    "#hide\n",
    "dfc_cases = dft_cases.groupby('state')[dt_today].sum()\n",
    "dfc_deaths = dft_deaths.groupby('state')[dt_today].sum()\n",
    "dfp_cases = dft_cases.groupby('state')[dt_yday].sum()\n",
    "dfp_deaths = dft_deaths.groupby('state')[dt_yday].sum()"
   ]
  },
  {
   "cell_type": "code",
   "execution_count": 11,
   "metadata": {
    "execution": {
     "iopub.execute_input": "2020-10-15T03:52:40.614574Z",
     "iopub.status.busy": "2020-10-15T03:52:40.613901Z",
     "iopub.status.idle": "2020-10-15T03:52:40.621539Z",
     "shell.execute_reply": "2020-10-15T03:52:40.622178Z"
    },
    "papermill": {
     "duration": 0.04146,
     "end_time": "2020-10-15T03:52:40.622365",
     "exception": false,
     "start_time": "2020-10-15T03:52:40.580905",
     "status": "completed"
    },
    "tags": []
   },
   "outputs": [
    {
     "data": {
      "text/html": [
       "<div>\n",
       "<style scoped>\n",
       "    .dataframe tbody tr th:only-of-type {\n",
       "        vertical-align: middle;\n",
       "    }\n",
       "\n",
       "    .dataframe tbody tr th {\n",
       "        vertical-align: top;\n",
       "    }\n",
       "\n",
       "    .dataframe thead th {\n",
       "        text-align: right;\n",
       "    }\n",
       "</style>\n",
       "<table border=\"1\" class=\"dataframe\">\n",
       "  <thead>\n",
       "    <tr style=\"text-align: right;\">\n",
       "      <th></th>\n",
       "      <th>states</th>\n",
       "      <th>Cases</th>\n",
       "      <th>Deaths</th>\n",
       "      <th>PCases</th>\n",
       "      <th>PDeaths</th>\n",
       "    </tr>\n",
       "  </thead>\n",
       "  <tbody>\n",
       "    <tr>\n",
       "      <th>0</th>\n",
       "      <td>Maharashtra</td>\n",
       "      <td>1554389</td>\n",
       "      <td>40859</td>\n",
       "      <td>1554389</td>\n",
       "      <td>40859</td>\n",
       "    </tr>\n",
       "    <tr>\n",
       "      <th>1</th>\n",
       "      <td>Andhra Pradesh</td>\n",
       "      <td>767465</td>\n",
       "      <td>6319</td>\n",
       "      <td>767465</td>\n",
       "      <td>6319</td>\n",
       "    </tr>\n",
       "    <tr>\n",
       "      <th>2</th>\n",
       "      <td>Karnataka</td>\n",
       "      <td>735371</td>\n",
       "      <td>10198</td>\n",
       "      <td>735371</td>\n",
       "      <td>10198</td>\n",
       "    </tr>\n",
       "    <tr>\n",
       "      <th>3</th>\n",
       "      <td>Tamil Nadu</td>\n",
       "      <td>670392</td>\n",
       "      <td>10423</td>\n",
       "      <td>670392</td>\n",
       "      <td>10423</td>\n",
       "    </tr>\n",
       "    <tr>\n",
       "      <th>4</th>\n",
       "      <td>Uttar Pradesh</td>\n",
       "      <td>444711</td>\n",
       "      <td>6507</td>\n",
       "      <td>444711</td>\n",
       "      <td>6507</td>\n",
       "    </tr>\n",
       "  </tbody>\n",
       "</table>\n",
       "</div>"
      ],
      "text/plain": [
       "           states    Cases  Deaths   PCases  PDeaths\n",
       "0     Maharashtra  1554389   40859  1554389    40859\n",
       "1  Andhra Pradesh   767465    6319   767465     6319\n",
       "2       Karnataka   735371   10198   735371    10198\n",
       "3      Tamil Nadu   670392   10423   670392    10423\n",
       "4   Uttar Pradesh   444711    6507   444711     6507"
      ]
     },
     "execution_count": 11,
     "metadata": {},
     "output_type": "execute_result"
    }
   ],
   "source": [
    "#hide\n",
    "df_table = pd.DataFrame({'states': dfc_cases.index, 'Cases': dfc_cases.values, 'Deaths': dfc_deaths.values, 'PCases': dfp_cases.values, 'PDeaths': dfp_deaths.values}).set_index('states')\n",
    "df_table = df_table.sort_values(by = ['Cases','Deaths'], ascending = [False, False])\n",
    "df_table = df_table.reset_index()\n",
    "df_table.head()"
   ]
  },
  {
   "cell_type": "code",
   "execution_count": 12,
   "metadata": {
    "execution": {
     "iopub.execute_input": "2020-10-15T03:52:40.667348Z",
     "iopub.status.busy": "2020-10-15T03:52:40.665416Z",
     "iopub.status.idle": "2020-10-15T03:52:40.676590Z",
     "shell.execute_reply": "2020-10-15T03:52:40.675978Z"
    },
    "papermill": {
     "duration": 0.034947,
     "end_time": "2020-10-15T03:52:40.676749",
     "exception": false,
     "start_time": "2020-10-15T03:52:40.641802",
     "status": "completed"
    },
    "tags": []
   },
   "outputs": [],
   "source": [
    "#hide\n",
    "for c in 'Cases, Deaths'.split(', '):\n",
    "    df_table[f'{c} (+)'] = (df_table[c] - df_table[f'P{c}']).clip(0)\n",
    "df_table['Fatality Rate'] = (100* df_table['Deaths']/ df_table['Cases']).round(2)"
   ]
  },
  {
   "cell_type": "code",
   "execution_count": 13,
   "metadata": {
    "execution": {
     "iopub.execute_input": "2020-10-15T03:52:40.725859Z",
     "iopub.status.busy": "2020-10-15T03:52:40.725181Z",
     "iopub.status.idle": "2020-10-15T03:52:40.728508Z",
     "shell.execute_reply": "2020-10-15T03:52:40.727981Z"
    },
    "papermill": {
     "duration": 0.033155,
     "end_time": "2020-10-15T03:52:40.728634",
     "exception": false,
     "start_time": "2020-10-15T03:52:40.695479",
     "status": "completed"
    },
    "tags": []
   },
   "outputs": [
    {
     "data": {
      "text/html": [
       "<div>\n",
       "<style scoped>\n",
       "    .dataframe tbody tr th:only-of-type {\n",
       "        vertical-align: middle;\n",
       "    }\n",
       "\n",
       "    .dataframe tbody tr th {\n",
       "        vertical-align: top;\n",
       "    }\n",
       "\n",
       "    .dataframe thead th {\n",
       "        text-align: right;\n",
       "    }\n",
       "</style>\n",
       "<table border=\"1\" class=\"dataframe\">\n",
       "  <thead>\n",
       "    <tr style=\"text-align: right;\">\n",
       "      <th></th>\n",
       "      <th>states</th>\n",
       "      <th>Cases</th>\n",
       "      <th>Deaths</th>\n",
       "      <th>PCases</th>\n",
       "      <th>PDeaths</th>\n",
       "      <th>Cases (+)</th>\n",
       "      <th>Deaths (+)</th>\n",
       "      <th>Fatality Rate</th>\n",
       "    </tr>\n",
       "  </thead>\n",
       "  <tbody>\n",
       "    <tr>\n",
       "      <th>0</th>\n",
       "      <td>Maharashtra</td>\n",
       "      <td>1554389</td>\n",
       "      <td>40859</td>\n",
       "      <td>1554389</td>\n",
       "      <td>40859</td>\n",
       "      <td>0</td>\n",
       "      <td>0</td>\n",
       "      <td>2.63</td>\n",
       "    </tr>\n",
       "    <tr>\n",
       "      <th>1</th>\n",
       "      <td>Andhra Pradesh</td>\n",
       "      <td>767465</td>\n",
       "      <td>6319</td>\n",
       "      <td>767465</td>\n",
       "      <td>6319</td>\n",
       "      <td>0</td>\n",
       "      <td>0</td>\n",
       "      <td>0.82</td>\n",
       "    </tr>\n",
       "    <tr>\n",
       "      <th>2</th>\n",
       "      <td>Karnataka</td>\n",
       "      <td>735371</td>\n",
       "      <td>10198</td>\n",
       "      <td>735371</td>\n",
       "      <td>10198</td>\n",
       "      <td>0</td>\n",
       "      <td>0</td>\n",
       "      <td>1.39</td>\n",
       "    </tr>\n",
       "    <tr>\n",
       "      <th>3</th>\n",
       "      <td>Tamil Nadu</td>\n",
       "      <td>670392</td>\n",
       "      <td>10423</td>\n",
       "      <td>670392</td>\n",
       "      <td>10423</td>\n",
       "      <td>0</td>\n",
       "      <td>0</td>\n",
       "      <td>1.55</td>\n",
       "    </tr>\n",
       "    <tr>\n",
       "      <th>4</th>\n",
       "      <td>Uttar Pradesh</td>\n",
       "      <td>444711</td>\n",
       "      <td>6507</td>\n",
       "      <td>444711</td>\n",
       "      <td>6507</td>\n",
       "      <td>0</td>\n",
       "      <td>0</td>\n",
       "      <td>1.46</td>\n",
       "    </tr>\n",
       "  </tbody>\n",
       "</table>\n",
       "</div>"
      ],
      "text/plain": [
       "           states    Cases  Deaths   PCases  PDeaths  Cases (+)  Deaths (+)  \\\n",
       "0     Maharashtra  1554389   40859  1554389    40859          0           0   \n",
       "1  Andhra Pradesh   767465    6319   767465     6319          0           0   \n",
       "2       Karnataka   735371   10198   735371    10198          0           0   \n",
       "3      Tamil Nadu   670392   10423   670392    10423          0           0   \n",
       "4   Uttar Pradesh   444711    6507   444711     6507          0           0   \n",
       "\n",
       "   Fatality Rate  \n",
       "0           2.63  \n",
       "1           0.82  \n",
       "2           1.39  \n",
       "3           1.55  \n",
       "4           1.46  "
      ]
     },
     "execution_count": 13,
     "metadata": {},
     "output_type": "execute_result"
    }
   ],
   "source": [
    "#hide\n",
    "df_table.head()"
   ]
  },
  {
   "cell_type": "code",
   "execution_count": 14,
   "metadata": {
    "execution": {
     "iopub.execute_input": "2020-10-15T03:52:40.769241Z",
     "iopub.status.busy": "2020-10-15T03:52:40.768664Z",
     "iopub.status.idle": "2020-10-15T03:52:40.786800Z",
     "shell.execute_reply": "2020-10-15T03:52:40.787449Z"
    },
    "papermill": {
     "duration": 0.041726,
     "end_time": "2020-10-15T03:52:40.787604",
     "exception": false,
     "start_time": "2020-10-15T03:52:40.745878",
     "status": "completed"
    },
    "tags": []
   },
   "outputs": [
    {
     "data": {
      "text/plain": [
       "{'updated': '2020-10-15',\n",
       " 'since': '2020-10-14',\n",
       " 'Cases': 7305242,\n",
       " 'PCases': 7305070,\n",
       " 'Deaths': 111312,\n",
       " 'PDeaths': 111311,\n",
       " 'Cases (+)': 172,\n",
       " 'Deaths (+)': 1}"
      ]
     },
     "execution_count": 14,
     "metadata": {},
     "output_type": "execute_result"
    }
   ],
   "source": [
    "#hide\n",
    "summary = {'updated':dates[-1], 'since':dates[-2]}\n",
    "list_names = ['Cases', 'PCases', 'Deaths', 'PDeaths', 'Cases (+)', 'Deaths (+)']\n",
    "for name in list_names:\n",
    "    summary[name] = df_table.sum()[name]\n",
    "summary"
   ]
  },
  {
   "cell_type": "code",
   "execution_count": 15,
   "metadata": {
    "execution": {
     "iopub.execute_input": "2020-10-15T03:52:40.827829Z",
     "iopub.status.busy": "2020-10-15T03:52:40.827221Z",
     "iopub.status.idle": "2020-10-15T03:52:40.829840Z",
     "shell.execute_reply": "2020-10-15T03:52:40.829175Z"
    },
    "papermill": {
     "duration": 0.024542,
     "end_time": "2020-10-15T03:52:40.830000",
     "exception": false,
     "start_time": "2020-10-15T03:52:40.805458",
     "status": "completed"
    },
    "tags": []
   },
   "outputs": [],
   "source": [
    "#hide\n",
    "overview = '''\n",
    "<!-- #######  HTML!! #########-->\n",
    "<h1 style=\"color: #5e9ca0; text-align: center;\">India</h1>\n",
    "<p style=\"text-align: center;\">Last update: <strong>{update}</strong></p>\n",
    "<p style=\"text-align: center;\">Confirmed cases:</p>\n",
    "<p style=\"text-align: center;font-size:24px;\">{cases} (<span style=\"color: #ff0000;\">+{new}</span>)</p>\n",
    "<p style=\"text-align: center;\">Confirmed deaths:</p>\n",
    "<p style=\"text-align: center;font-size:24px;\">{deaths} (<span style=\"color: #ff0000;\">+{dnew}</span>)</p>\n",
    "'''"
   ]
  },
  {
   "cell_type": "code",
   "execution_count": 16,
   "metadata": {
    "execution": {
     "iopub.execute_input": "2020-10-15T03:52:40.873167Z",
     "iopub.status.busy": "2020-10-15T03:52:40.872476Z",
     "iopub.status.idle": "2020-10-15T03:52:40.875273Z",
     "shell.execute_reply": "2020-10-15T03:52:40.875758Z"
    },
    "papermill": {
     "duration": 0.027545,
     "end_time": "2020-10-15T03:52:40.875894",
     "exception": false,
     "start_time": "2020-10-15T03:52:40.848349",
     "status": "completed"
    },
    "tags": []
   },
   "outputs": [
    {
     "data": {
      "text/html": [
       "\n",
       "<!-- #######  HTML!! #########-->\n",
       "<h1 style=\"color: #5e9ca0; text-align: center;\">India</h1>\n",
       "<p style=\"text-align: center;\">Last update: <strong>2020-10-15</strong></p>\n",
       "<p style=\"text-align: center;\">Confirmed cases:</p>\n",
       "<p style=\"text-align: center;font-size:24px;\">7305242 (<span style=\"color: #ff0000;\">+172</span>)</p>\n",
       "<p style=\"text-align: center;\">Confirmed deaths:</p>\n",
       "<p style=\"text-align: center;font-size:24px;\">111312 (<span style=\"color: #ff0000;\">+1</span>)</p>\n"
      ],
      "text/plain": [
       "<IPython.core.display.HTML object>"
      ]
     },
     "metadata": {},
     "output_type": "display_data"
    }
   ],
   "source": [
    "#hide_input\n",
    "update = summary['updated']\n",
    "cases = summary['Cases']\n",
    "new = summary['Cases (+)']\n",
    "deaths = summary['Deaths']\n",
    "dnew = summary['Deaths (+)']\n",
    "\n",
    "html = HTML(overview.format(update=update, cases=cases,new=new,deaths=deaths,dnew=dnew))\n",
    "\n",
    "display(html)"
   ]
  },
  {
   "cell_type": "code",
   "execution_count": 17,
   "metadata": {
    "execution": {
     "iopub.execute_input": "2020-10-15T03:52:40.919149Z",
     "iopub.status.busy": "2020-10-15T03:52:40.918590Z",
     "iopub.status.idle": "2020-10-15T03:52:40.924007Z",
     "shell.execute_reply": "2020-10-15T03:52:40.923535Z"
    },
    "papermill": {
     "duration": 0.030487,
     "end_time": "2020-10-15T03:52:40.924115",
     "exception": false,
     "start_time": "2020-10-15T03:52:40.893628",
     "status": "completed"
    },
    "tags": []
   },
   "outputs": [],
   "source": [
    "#hide\n",
    "dt_cols = list(dft_cases.columns[1:])\n",
    "dft_ct_new_cases = dft_cases.groupby('state')[dt_cols].sum().diff(axis=1).fillna(0).astype(int)\n",
    "dft_ct_new_cases.sort_values(by = dates[-1], ascending = False,inplace = True)"
   ]
  },
  {
   "cell_type": "code",
   "execution_count": 18,
   "metadata": {
    "execution": {
     "iopub.execute_input": "2020-10-15T03:52:40.980877Z",
     "iopub.status.busy": "2020-10-15T03:52:40.980291Z",
     "iopub.status.idle": "2020-10-15T03:52:40.983089Z",
     "shell.execute_reply": "2020-10-15T03:52:40.983778Z"
    },
    "papermill": {
     "duration": 0.042763,
     "end_time": "2020-10-15T03:52:40.983924",
     "exception": false,
     "start_time": "2020-10-15T03:52:40.941161",
     "status": "completed"
    },
    "tags": []
   },
   "outputs": [
    {
     "data": {
      "text/html": [
       "<div>\n",
       "<style scoped>\n",
       "    .dataframe tbody tr th:only-of-type {\n",
       "        vertical-align: middle;\n",
       "    }\n",
       "\n",
       "    .dataframe tbody tr th {\n",
       "        vertical-align: top;\n",
       "    }\n",
       "\n",
       "    .dataframe thead th {\n",
       "        text-align: right;\n",
       "    }\n",
       "</style>\n",
       "<table border=\"1\" class=\"dataframe\">\n",
       "  <thead>\n",
       "    <tr style=\"text-align: right;\">\n",
       "      <th>states</th>\n",
       "      <th>2020-07-01</th>\n",
       "      <th>2020-07-02</th>\n",
       "      <th>2020-07-03</th>\n",
       "      <th>2020-07-04</th>\n",
       "      <th>2020-07-05</th>\n",
       "      <th>2020-07-06</th>\n",
       "      <th>2020-07-07</th>\n",
       "      <th>2020-07-08</th>\n",
       "      <th>2020-07-09</th>\n",
       "      <th>2020-07-10</th>\n",
       "      <th>...</th>\n",
       "      <th>2020-10-06</th>\n",
       "      <th>2020-10-07</th>\n",
       "      <th>2020-10-08</th>\n",
       "      <th>2020-10-09</th>\n",
       "      <th>2020-10-10</th>\n",
       "      <th>2020-10-11</th>\n",
       "      <th>2020-10-12</th>\n",
       "      <th>2020-10-13</th>\n",
       "      <th>2020-10-14</th>\n",
       "      <th>2020-10-15</th>\n",
       "    </tr>\n",
       "    <tr>\n",
       "      <th>state</th>\n",
       "      <th></th>\n",
       "      <th></th>\n",
       "      <th></th>\n",
       "      <th></th>\n",
       "      <th></th>\n",
       "      <th></th>\n",
       "      <th></th>\n",
       "      <th></th>\n",
       "      <th></th>\n",
       "      <th></th>\n",
       "      <th></th>\n",
       "      <th></th>\n",
       "      <th></th>\n",
       "      <th></th>\n",
       "      <th></th>\n",
       "      <th></th>\n",
       "      <th></th>\n",
       "      <th></th>\n",
       "      <th></th>\n",
       "      <th></th>\n",
       "      <th></th>\n",
       "    </tr>\n",
       "  </thead>\n",
       "  <tbody>\n",
       "    <tr>\n",
       "      <th>Tripura</th>\n",
       "      <td>0</td>\n",
       "      <td>39</td>\n",
       "      <td>93</td>\n",
       "      <td>25</td>\n",
       "      <td>23</td>\n",
       "      <td>111</td>\n",
       "      <td>24</td>\n",
       "      <td>57</td>\n",
       "      <td>16</td>\n",
       "      <td>142</td>\n",
       "      <td>...</td>\n",
       "      <td>275</td>\n",
       "      <td>237</td>\n",
       "      <td>214</td>\n",
       "      <td>223</td>\n",
       "      <td>171</td>\n",
       "      <td>199</td>\n",
       "      <td>109</td>\n",
       "      <td>217</td>\n",
       "      <td>181</td>\n",
       "      <td>172</td>\n",
       "    </tr>\n",
       "    <tr>\n",
       "      <th>Andaman and Nicobar Islands</th>\n",
       "      <td>0</td>\n",
       "      <td>9</td>\n",
       "      <td>7</td>\n",
       "      <td>3</td>\n",
       "      <td>6</td>\n",
       "      <td>16</td>\n",
       "      <td>6</td>\n",
       "      <td>2</td>\n",
       "      <td>7</td>\n",
       "      <td>0</td>\n",
       "      <td>...</td>\n",
       "      <td>13</td>\n",
       "      <td>23</td>\n",
       "      <td>17</td>\n",
       "      <td>24</td>\n",
       "      <td>16</td>\n",
       "      <td>13</td>\n",
       "      <td>18</td>\n",
       "      <td>13</td>\n",
       "      <td>10</td>\n",
       "      <td>0</td>\n",
       "    </tr>\n",
       "    <tr>\n",
       "      <th>Puducherry</th>\n",
       "      <td>0</td>\n",
       "      <td>63</td>\n",
       "      <td>22</td>\n",
       "      <td>80</td>\n",
       "      <td>42</td>\n",
       "      <td>65</td>\n",
       "      <td>30</td>\n",
       "      <td>110</td>\n",
       "      <td>49</td>\n",
       "      <td>72</td>\n",
       "      <td>...</td>\n",
       "      <td>405</td>\n",
       "      <td>479</td>\n",
       "      <td>378</td>\n",
       "      <td>365</td>\n",
       "      <td>337</td>\n",
       "      <td>308</td>\n",
       "      <td>188</td>\n",
       "      <td>267</td>\n",
       "      <td>241</td>\n",
       "      <td>0</td>\n",
       "    </tr>\n",
       "    <tr>\n",
       "      <th>Maharashtra</th>\n",
       "      <td>0</td>\n",
       "      <td>6328</td>\n",
       "      <td>6364</td>\n",
       "      <td>7074</td>\n",
       "      <td>6555</td>\n",
       "      <td>5368</td>\n",
       "      <td>5134</td>\n",
       "      <td>6603</td>\n",
       "      <td>6875</td>\n",
       "      <td>7862</td>\n",
       "      <td>...</td>\n",
       "      <td>12258</td>\n",
       "      <td>14578</td>\n",
       "      <td>13395</td>\n",
       "      <td>12134</td>\n",
       "      <td>11416</td>\n",
       "      <td>10792</td>\n",
       "      <td>7089</td>\n",
       "      <td>8522</td>\n",
       "      <td>10552</td>\n",
       "      <td>0</td>\n",
       "    </tr>\n",
       "    <tr>\n",
       "      <th>Manipur</th>\n",
       "      <td>0</td>\n",
       "      <td>19</td>\n",
       "      <td>37</td>\n",
       "      <td>9</td>\n",
       "      <td>41</td>\n",
       "      <td>24</td>\n",
       "      <td>40</td>\n",
       "      <td>5</td>\n",
       "      <td>15</td>\n",
       "      <td>132</td>\n",
       "      <td>...</td>\n",
       "      <td>135</td>\n",
       "      <td>249</td>\n",
       "      <td>190</td>\n",
       "      <td>131</td>\n",
       "      <td>282</td>\n",
       "      <td>234</td>\n",
       "      <td>230</td>\n",
       "      <td>237</td>\n",
       "      <td>281</td>\n",
       "      <td>0</td>\n",
       "    </tr>\n",
       "  </tbody>\n",
       "</table>\n",
       "<p>5 rows × 107 columns</p>\n",
       "</div>"
      ],
      "text/plain": [
       "states                       2020-07-01  2020-07-02  2020-07-03  2020-07-04  \\\n",
       "state                                                                         \n",
       "Tripura                               0          39          93          25   \n",
       "Andaman and Nicobar Islands           0           9           7           3   \n",
       "Puducherry                            0          63          22          80   \n",
       "Maharashtra                           0        6328        6364        7074   \n",
       "Manipur                               0          19          37           9   \n",
       "\n",
       "states                       2020-07-05  2020-07-06  2020-07-07  2020-07-08  \\\n",
       "state                                                                         \n",
       "Tripura                              23         111          24          57   \n",
       "Andaman and Nicobar Islands           6          16           6           2   \n",
       "Puducherry                           42          65          30         110   \n",
       "Maharashtra                        6555        5368        5134        6603   \n",
       "Manipur                              41          24          40           5   \n",
       "\n",
       "states                       2020-07-09  2020-07-10  ...  2020-10-06  \\\n",
       "state                                                ...               \n",
       "Tripura                              16         142  ...         275   \n",
       "Andaman and Nicobar Islands           7           0  ...          13   \n",
       "Puducherry                           49          72  ...         405   \n",
       "Maharashtra                        6875        7862  ...       12258   \n",
       "Manipur                              15         132  ...         135   \n",
       "\n",
       "states                       2020-10-07  2020-10-08  2020-10-09  2020-10-10  \\\n",
       "state                                                                         \n",
       "Tripura                             237         214         223         171   \n",
       "Andaman and Nicobar Islands          23          17          24          16   \n",
       "Puducherry                          479         378         365         337   \n",
       "Maharashtra                       14578       13395       12134       11416   \n",
       "Manipur                             249         190         131         282   \n",
       "\n",
       "states                       2020-10-11  2020-10-12  2020-10-13  2020-10-14  \\\n",
       "state                                                                         \n",
       "Tripura                             199         109         217         181   \n",
       "Andaman and Nicobar Islands          13          18          13          10   \n",
       "Puducherry                          308         188         267         241   \n",
       "Maharashtra                       10792        7089        8522       10552   \n",
       "Manipur                             234         230         237         281   \n",
       "\n",
       "states                       2020-10-15  \n",
       "state                                    \n",
       "Tripura                             172  \n",
       "Andaman and Nicobar Islands           0  \n",
       "Puducherry                            0  \n",
       "Maharashtra                           0  \n",
       "Manipur                               0  \n",
       "\n",
       "[5 rows x 107 columns]"
      ]
     },
     "execution_count": 18,
     "metadata": {},
     "output_type": "execute_result"
    }
   ],
   "source": [
    "#hide\n",
    "dft_ct_new_cases.head()"
   ]
  },
  {
   "cell_type": "code",
   "execution_count": 19,
   "metadata": {
    "execution": {
     "iopub.execute_input": "2020-10-15T03:52:41.077408Z",
     "iopub.status.busy": "2020-10-15T03:52:41.042651Z",
     "iopub.status.idle": "2020-10-15T03:52:46.561131Z",
     "shell.execute_reply": "2020-10-15T03:52:46.561810Z"
    },
    "papermill": {
     "duration": 5.558005,
     "end_time": "2020-10-15T03:52:46.562000",
     "exception": false,
     "start_time": "2020-10-15T03:52:41.003995",
     "status": "completed"
    },
    "tags": []
   },
   "outputs": [
    {
     "data": {
      "image/png": "[encoded data removed]",
      "text/plain": [
       "<Figure size 1296x2016 with 11 Axes>"
      ]
     },
     "metadata": {
      "needs_background": "light"
     },
     "output_type": "display_data"
    }
   ],
   "source": [
    "#hide_input\n",
    "df = dft_ct_new_cases.copy()\n",
    "df.loc['Total'] = df.sum()\n",
    "n = 5\n",
    "ax = []\n",
    "fig = plt.figure(figsize = (18,28))\n",
    "gs = fig.add_gridspec(n+2, 5)\n",
    "# gs = fig.add_gridspec(2, 3)\n",
    "ax1 = fig.add_subplot(gs[0, :])\n",
    "ef = df.loc['Total'].rename_axis('date').reset_index()\n",
    "ef['date'] = ef['date'].astype('datetime64[ns]')\n",
    "ax1.bar(ef.date,ef.Total,alpha=0.3,color='#007acc')\n",
    "ax1.plot(ef.date,ef.Total , marker=\"o\", color='#007acc')\n",
    "ax1.xaxis.set_major_locator(mdates.WeekdayLocator())\n",
    "ax1.xaxis.set_major_formatter(mdates.DateFormatter('%b %d'))\n",
    "ax1.text(0.02, 0.5,'India daily case count', transform = ax1.transAxes, fontsize=25);\n",
    "ax1.spines['right'].set_visible(False)\n",
    "ax1.spines['top'].set_visible(False)\n",
    "\n",
    "ax2 = fig.add_subplot(gs[1,0])\n",
    "ef = df.loc['Maharashtra'].rename_axis('date').reset_index()\n",
    "ef['date'] = ef['date'].astype('datetime64[ns]')\n",
    "\n",
    "ax2.bar(ef.date, ef.Maharashtra,color = '#007acc',alpha=0.5)\n",
    "ax2.xaxis.set_major_locator(mdates.WeekdayLocator())\n",
    "ax2.xaxis.set_major_formatter(mdates.DateFormatter('%b %d'))\n",
    "ax2.set_xticks(ax2.get_xticks()[::3])\n",
    "maxyval = ef.Maharashtra.max()\n",
    "ax2.set_ylim([0,maxyval])\n",
    "ax2.text(0.05, 0.9,'Maharashtra', transform = ax2.transAxes, fontsize=20);\n",
    "ax2.spines['right'].set_visible(False)\n",
    "ax2.spines['top'].set_visible(False)\n",
    "\n",
    "\n",
    "ax3 = fig.add_subplot(gs[1,1])\n",
    "ef = df.loc['Tamil Nadu'].rename_axis('date').reset_index()\n",
    "ef['date'] = ef['date'].astype('datetime64[ns]')\n",
    "ax3.bar(ef.date, ef['Tamil Nadu'],color = '#007acc',alpha=0.5,)\n",
    "ax3.xaxis.set_major_locator(mdates.WeekdayLocator())\n",
    "ax3.xaxis.set_major_formatter(mdates.DateFormatter('%b %d'))\n",
    "ax3.set_xticks(ax3.get_xticks()[::3])\n",
    "ax3.text(0.05, 0.9,'Tamil Nadu', transform = ax3.transAxes, fontsize=20);\n",
    "ax3.spines['right'].set_visible(False)\n",
    "ax3.spines['top'].set_visible(False)\n",
    "\n",
    "ax5 = fig.add_subplot(gs[1,3])\n",
    "ef = df.loc['Telangana'].rename_axis('date').reset_index()\n",
    "ef['date'] = ef['date'].astype('datetime64[ns]')\n",
    "ax5.bar(ef.date, ef['Telangana'],color = '#007acc',alpha=0.5,)\n",
    "ax5.xaxis.set_major_locator(mdates.WeekdayLocator())\n",
    "ax5.xaxis.set_major_formatter(mdates.DateFormatter('%b %d'))\n",
    "ax5.set_xticks(ax5.get_xticks()[::3])\n",
    "ax5.text(0.05, 0.9,'Telangana', transform = ax5.transAxes, fontsize=20);\n",
    "ax5.spines['right'].set_visible(False)\n",
    "ax5.spines['top'].set_visible(False)\n",
    "\n",
    "ax6 = fig.add_subplot(gs[1,4])\n",
    "ef = df.loc['Andhra Pradesh'].rename_axis('date').reset_index()\n",
    "ef['date'] = ef['date'].astype('datetime64[ns]')\n",
    "ax6.bar(ef.date, ef['Andhra Pradesh'],color = '#007acc',alpha=0.5,)\n",
    "ax6.xaxis.set_major_locator(mdates.WeekdayLocator())\n",
    "ax6.xaxis.set_major_formatter(mdates.DateFormatter('%b %d'))\n",
    "ax6.set_xticks(ax6.get_xticks()[::3])\n",
    "ax6.text(0.05, 1,'Andhra Pradesh', transform = ax6.transAxes, fontsize=20);\n",
    "ax6.spines['right'].set_visible(False)\n",
    "ax6.spines['top'].set_visible(False)\n",
    "\n",
    "ax4 = fig.add_subplot(gs[1,2])\n",
    "ef = df.loc['Delhi'].rename_axis('date').reset_index()\n",
    "ef['date'] = ef['date'].astype('datetime64[ns]')\n",
    "ax4.bar(ef.date, ef.Delhi,color = '#007acc',alpha=0.5)\n",
    "ax4.set_xticks([])\n",
    "ax4.xaxis.set_major_locator(mdates.WeekdayLocator())\n",
    "ax4.xaxis.set_major_formatter(mdates.DateFormatter('%b %d'))\n",
    "ax4.set_xticks(ax4.get_xticks()[::3])\n",
    "ax4.spines['right'].set_visible(False)\n",
    "ax4.spines['top'].set_visible(False)\n",
    "\n",
    "ax4.text(0.05, 1,'Delhi', transform = ax4.transAxes, fontsize=20)\n",
    "\n",
    "for i in range(n):\n",
    "    \n",
    "    ax.append(fig.add_subplot(gs[i+2,:]))\n",
    "    ef = df.iloc[i+3].rename_axis('date').reset_index()\n",
    "    ef['date'] = ef['date'].astype('datetime64[ns]')\n",
    "    ax[i].bar(ef.date,ef.iloc[:,-1],color = '#007acc',alpha=0.3)\n",
    "    ax[i].plot(ef.date,ef.iloc[:,-1],marker='o',color='#007acc')\n",
    "    ax[i].text(0.02,0.5,f'{ef.columns.values[-1]}',transform = ax[i].transAxes, fontsize = 20);\n",
    "    ax[i].xaxis.set_major_locator(mdates.WeekdayLocator())\n",
    "    ax[i].xaxis.set_major_formatter(mdates.DateFormatter('%b %d'))\n",
    "    ax[i].set_ylim([0,7000])\n",
    "    ax[i].spines['right'].set_visible(False)\n",
    "    ax[i].spines['top'].set_visible(False)\n",
    "plt.tight_layout()\n"
   ]
  },
  {
   "cell_type": "code",
   "execution_count": 20,
   "metadata": {
    "execution": {
     "iopub.execute_input": "2020-10-15T03:52:46.617430Z",
     "iopub.status.busy": "2020-10-15T03:52:46.616818Z",
     "iopub.status.idle": "2020-10-15T03:52:46.619637Z",
     "shell.execute_reply": "2020-10-15T03:52:46.620308Z"
    },
    "papermill": {
     "duration": 0.035217,
     "end_time": "2020-10-15T03:52:46.620467",
     "exception": false,
     "start_time": "2020-10-15T03:52:46.585250",
     "status": "completed"
    },
    "tags": []
   },
   "outputs": [
    {
     "name": "stdout",
     "output_type": "stream",
     "text": [
      "                                   states    Cases  Deaths   PCases  PDeaths  Cases (+)  Deaths (+)  Fatality Rate\n",
      "                              Maharashtra  1554389   40859  1554389    40859          0           0           2.63\n",
      "                           Andhra Pradesh   767465    6319   767465     6319          0           0           0.82\n",
      "                                Karnataka   735371   10198   735371    10198          0           0           1.39\n",
      "                               Tamil Nadu   670392   10423   670392    10423          0           0           1.55\n",
      "                            Uttar Pradesh   444711    6507   444711     6507          0           0           1.46\n",
      "                                    Delhi   317548    5898   317548     5898          0           0           1.86\n",
      "                                   Kerala   310141    1067   310141     1067          0           0           0.34\n",
      "                              West Bengal   305697    5808   305697     5808          0           0           1.90\n",
      "                                   Odisha   259541    1125   259541     1125          0           0           0.43\n",
      "                                Telangana   216238    1241   216238     1241          0           0           0.57\n",
      "                                    Bihar   199549     967   199549      967          0           0           0.48\n",
      "                                    Assam   198213     834   198213      834          0           0           0.42\n",
      "                                Rajasthan   165240    1694   165240     1694          0           0           1.03\n",
      "                           Madhya Pradesh   155276    2686   155276     2686          0           0           1.73\n",
      "                                  Gujarat   155098    3598   155098     3598          0           0           2.32\n",
      "                             Chhattisgarh   150696    1339   150696     1339          0           0           0.89\n",
      "                                  Haryana   145507    1614   145507     1614          0           0           1.11\n",
      "                                   Punjab   125760    3925   125760     3925          0           0           3.12\n",
      "                                Jharkhand    94369     811    94369      811          0           0           0.86\n",
      "                        Jammu and Kashmir    85409    1352    85409     1352          0           0           1.58\n",
      "                              Uttarakhand    56070     796    56070      796          0           0           1.42\n",
      "                                      Goa    39438     519    39438      519          0           0           1.32\n",
      "                               Puducherry    32245     568    32245      568          0           0           1.76\n",
      "                                  Tripura    29028     316    28856      315        172           1           1.09\n",
      "                         Himachal Pradesh    18008     250    18008      250          0           0           1.39\n",
      "                                  Manipur    14074     103    14074      103          0           0           0.73\n",
      "                               Chandigarh    13403     199    13403      199          0           0           1.48\n",
      "                        Arunachal Pradesh    12768      29    12768       29          0           0           0.23\n",
      "                                Meghalaya     7991      70     7991       70          0           0           0.88\n",
      "                                 Nagaland     7416      17     7416       17          0           0           0.23\n",
      "                                   Ladakh     5304      64     5304       64          0           0           1.21\n",
      "              Andaman and Nicobar Islands     4046      55     4046       55          0           0           1.36\n",
      "                                   Sikkim     3459      59     3459       59          0           0           1.71\n",
      " Dadra and Nagar Haveli and Daman and Diu     3170       2     3170        2          0           0           0.06\n",
      "                                  Mizoram     2212       0     2212        0          0           0           0.00\n",
      "                              Lakshadweep        0       0        0        0          0           0            NaN\n"
     ]
    }
   ],
   "source": [
    "#hide_input\n",
    "print(df_table.to_string(index=False))"
   ]
  },
  {
   "cell_type": "code",
   "execution_count": null,
   "metadata": {
    "papermill": {
     "duration": 0.023961,
     "end_time": "2020-10-15T03:52:46.669101",
     "exception": false,
     "start_time": "2020-10-15T03:52:46.645140",
     "status": "completed"
    },
    "tags": []
   },
   "outputs": [],
   "source": []
  },
  {
   "cell_type": "code",
   "execution_count": null,
   "metadata": {
    "papermill": {
     "duration": 0.026123,
     "end_time": "2020-10-15T03:52:46.720560",
     "exception": false,
     "start_time": "2020-10-15T03:52:46.694437",
     "status": "completed"
    },
    "tags": []
   },
   "outputs": [],
   "source": []
  }
 ],
 "metadata": {
  "kernelspec": {
   "display_name": "Python 3",
   "language": "python",
   "name": "python3"
  },
  "language_info": {
   "codemirror_mode": {
    "name": "ipython",
    "version": 3
   },
   "file_extension": ".py",
   "mimetype": "text/x-python",
   "name": "python",
   "nbconvert_exporter": "python",
   "pygments_lexer": "ipython3",
   "version": "3.6.12"
  },
  "papermill": {
   "duration": 14.369151,
   "end_time": "2020-10-15T03:52:48.026191",
   "environment_variables": {},
   "exception": null,
   "input_path": "latest.ipynb",
   "output_path": "latest.ipynb",
   "parameters": {},
   "start_time": "2020-10-15T03:52:33.657040",
   "version": "2.1.2"
  }
 },
 "nbformat": 4,
 "nbformat_minor": 4
}