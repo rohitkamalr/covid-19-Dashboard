{
 "cells": [
  {
   "cell_type": "markdown",
   "metadata": {
    "papermill": {
     "duration": 0.019776,
     "end_time": "2020-08-18T10:37:10.662149",
     "exception": false,
     "start_time": "2020-08-18T10:37:10.642373",
     "status": "completed"
    },
    "tags": []
   },
   "source": [
    "# Latest COVID-19 India Matplotlib Overview"
   ]
  },
  {
   "cell_type": "code",
   "execution_count": 1,
   "metadata": {
    "execution": {
     "iopub.execute_input": "2020-08-18T10:37:10.701513Z",
     "iopub.status.busy": "2020-08-18T10:37:10.700792Z",
     "iopub.status.idle": "2020-08-18T10:37:11.304197Z",
     "shell.execute_reply": "2020-08-18T10:37:11.303641Z"
    },
    "papermill": {
     "duration": 0.625692,
     "end_time": "2020-08-18T10:37:11.304355",
     "exception": false,
     "start_time": "2020-08-18T10:37:10.678663",
     "status": "completed"
    },
    "tags": []
   },
   "outputs": [],
   "source": [
    "#hide\n",
    "import pandas as pd\n",
    "import numpy as np\n",
    "import requests\n",
    "import json\n",
    "import matplotlib.pyplot as plt\n",
    "import matplotlib.dates as mdates\n",
    "import matplotlib as mpl\n",
    "from IPython.core.display import display,HTML\n",
    "%matplotlib inline\n",
    "from datetime import date"
   ]
  },
  {
   "cell_type": "code",
   "execution_count": 2,
   "metadata": {
    "execution": {
     "iopub.execute_input": "2020-08-18T10:37:11.345617Z",
     "iopub.status.busy": "2020-08-18T10:37:11.345015Z",
     "iopub.status.idle": "2020-08-18T10:37:11.472984Z",
     "shell.execute_reply": "2020-08-18T10:37:11.472118Z"
    },
    "papermill": {
     "duration": 0.153411,
     "end_time": "2020-08-18T10:37:11.473205",
     "exception": false,
     "start_time": "2020-08-18T10:37:11.319794",
     "status": "completed"
    },
    "tags": []
   },
   "outputs": [],
   "source": [
    "#hide\n",
    "df  = pd.read_csv('https://api.covid19india.org/csv/latest/states.csv')\n",
    "df = df[['Date','State','Confirmed','Deceased']]\n",
    "df = df.rename(columns={'Confirmed':'Cases', \"Deceased\":'Deaths'})\n",
    "df_cases = df[[\"Date\",'State','Cases']]\n",
    "df_deaths = df[['Date','State','Deaths']]\n",
    "df_cases1 = df_cases.groupby('Date')\n",
    "df_deaths1= df_deaths.groupby('Date')"
   ]
  },
  {
   "cell_type": "code",
   "execution_count": 3,
   "metadata": {
    "execution": {
     "iopub.execute_input": "2020-08-18T10:37:11.512241Z",
     "iopub.status.busy": "2020-08-18T10:37:11.511593Z",
     "iopub.status.idle": "2020-08-18T10:37:11.530573Z",
     "shell.execute_reply": "2020-08-18T10:37:11.530070Z"
    },
    "papermill": {
     "duration": 0.041002,
     "end_time": "2020-08-18T10:37:11.530712",
     "exception": false,
     "start_time": "2020-08-18T10:37:11.489710",
     "status": "completed"
    },
    "tags": []
   },
   "outputs": [],
   "source": [
    "#hide\n",
    "df_snap = pd.read_csv('data/SnapshotCases-28-July.csv')\n",
    "arr_states = df_snap['states'].unique()\n",
    "arr_dates = df['Date'].unique()\n",
    "df_snap = df_snap.set_index('states')"
   ]
  },
  {
   "cell_type": "code",
   "execution_count": 4,
   "metadata": {
    "execution": {
     "iopub.execute_input": "2020-08-18T10:37:11.569543Z",
     "iopub.status.busy": "2020-08-18T10:37:11.568946Z",
     "iopub.status.idle": "2020-08-18T10:37:11.571960Z",
     "shell.execute_reply": "2020-08-18T10:37:11.571486Z"
    },
    "papermill": {
     "duration": 0.026073,
     "end_time": "2020-08-18T10:37:11.572088",
     "exception": false,
     "start_time": "2020-08-18T10:37:11.546015",
     "status": "completed"
    },
    "tags": []
   },
   "outputs": [
    {
     "data": {
      "text/plain": [
       "array(['Andaman and Nicobar Islands', 'Andhra Pradesh',\n",
       "       'Arunachal Pradesh', 'Assam', 'Bihar', 'Chandigarh',\n",
       "       'Dadra and Nagar Haveli and Daman and Diu', 'Delhi', 'Goa',\n",
       "       'Gujarat', 'Haryana', 'Himachal Pradesh', 'Jammu and Kashmir',\n",
       "       'Jharkhand', 'Karnataka', 'Kerala', 'Lakshadweep',\n",
       "       'Madhya Pradesh', 'Maharashtra', 'Manipur', 'Meghalaya', 'Mizoram',\n",
       "       'Nagaland', 'Odisha', 'Puducherry', 'Punjab', 'Rajasthan',\n",
       "       'Sikkim', 'Tamil Nadu', 'Telangana', 'Tripura', 'Uttar Pradesh',\n",
       "       'West Bengal', 'Chhattisgarh', 'Ladakh', 'Uttarakhand'],\n",
       "      dtype=object)"
      ]
     },
     "execution_count": 4,
     "metadata": {},
     "output_type": "execute_result"
    }
   ],
   "source": [
    "#hide\n",
    "arr_states[-9] = 'Puducherry'\n",
    "arr_states[-10] = 'Odisha'\n",
    "arr_states[6] = 'Dadra and Nagar Haveli and Daman and Diu'\n",
    "arr_states = np.append(arr_states,np.array(['Chhattisgarh','Ladakh','Uttarakhand']))\n",
    "arr_states"
   ]
  },
  {
   "cell_type": "code",
   "execution_count": 5,
   "metadata": {
    "execution": {
     "iopub.execute_input": "2020-08-18T10:37:11.617662Z",
     "iopub.status.busy": "2020-08-18T10:37:11.617047Z",
     "iopub.status.idle": "2020-08-18T10:37:11.623824Z",
     "shell.execute_reply": "2020-08-18T10:37:11.624325Z"
    },
    "papermill": {
     "duration": 0.036769,
     "end_time": "2020-08-18T10:37:11.624485",
     "exception": false,
     "start_time": "2020-08-18T10:37:11.587716",
     "status": "completed"
    },
    "tags": []
   },
   "outputs": [],
   "source": [
    "#hide\n",
    "dates = []\n",
    "for i in arr_dates:\n",
    "    if i>='2020-07-01':\n",
    "        dates.append(i)\n",
    "dict = {'states':dates}\n",
    "for i in arr_states:\n",
    "    dict[i] = [0]*len(dates)\n",
    "dft_cases = pd.DataFrame(dict)\n",
    "dft_deaths = pd.DataFrame(dict)\n"
   ]
  },
  {
   "cell_type": "code",
   "execution_count": 6,
   "metadata": {
    "execution": {
     "iopub.execute_input": "2020-08-18T10:37:11.662951Z",
     "iopub.status.busy": "2020-08-18T10:37:11.662349Z",
     "iopub.status.idle": "2020-08-18T10:37:12.341935Z",
     "shell.execute_reply": "2020-08-18T10:37:12.342910Z"
    },
    "papermill": {
     "duration": 0.702863,
     "end_time": "2020-08-18T10:37:12.343163",
     "exception": false,
     "start_time": "2020-08-18T10:37:11.640300",
     "status": "completed"
    },
    "tags": []
   },
   "outputs": [],
   "source": [
    "#hide\n",
    "for i in range(len(dates)):\n",
    "    df1_deaths = df_deaths1.get_group(dates[i])\n",
    "    for j in range(len(df1_deaths.index)):\n",
    "        if df1_deaths.iloc[j,1] in arr_states:\n",
    "            dft_deaths.loc[i,df1_deaths.iloc[j,1]] = df1_deaths.iloc[j,2]\n",
    "dft_deaths = dft_deaths.set_index('states')"
   ]
  },
  {
   "cell_type": "code",
   "execution_count": 7,
   "metadata": {
    "execution": {
     "iopub.execute_input": "2020-08-18T10:37:12.384085Z",
     "iopub.status.busy": "2020-08-18T10:37:12.383466Z",
     "iopub.status.idle": "2020-08-18T10:37:13.208114Z",
     "shell.execute_reply": "2020-08-18T10:37:13.208766Z"
    },
    "papermill": {
     "duration": 0.848745,
     "end_time": "2020-08-18T10:37:13.208981",
     "exception": false,
     "start_time": "2020-08-18T10:37:12.360236",
     "status": "completed"
    },
    "tags": []
   },
   "outputs": [],
   "source": [
    "#hide\n",
    "for i in range(len(dates)):\n",
    "    df1_cases = df_cases1.get_group(dates[i])\n",
    "    for j in range(len(df1_cases.index)):\n",
    "        if df1_cases.iloc[j,1] in arr_states:\n",
    "            dft_cases.loc[i,df1_cases.iloc[j,1]] = df1_cases.iloc[j,2]\n",
    "dft_cases = dft_cases.set_index('states')"
   ]
  },
  {
   "cell_type": "code",
   "execution_count": 8,
   "metadata": {
    "execution": {
     "iopub.execute_input": "2020-08-18T10:37:13.248900Z",
     "iopub.status.busy": "2020-08-18T10:37:13.248202Z",
     "iopub.status.idle": "2020-08-18T10:37:13.250814Z",
     "shell.execute_reply": "2020-08-18T10:37:13.251255Z"
    },
    "papermill": {
     "duration": 0.02449,
     "end_time": "2020-08-18T10:37:13.251434",
     "exception": false,
     "start_time": "2020-08-18T10:37:13.226944",
     "status": "completed"
    },
    "tags": []
   },
   "outputs": [],
   "source": [
    "#hide\n",
    "dft_cases = dft_cases.T\n",
    "dft_deaths = dft_deaths.T\n",
    "dt_today = dates[-1]\n",
    "dt_yday = dates[-2]"
   ]
  },
  {
   "cell_type": "code",
   "execution_count": 9,
   "metadata": {
    "execution": {
     "iopub.execute_input": "2020-08-18T10:37:13.291322Z",
     "iopub.status.busy": "2020-08-18T10:37:13.290746Z",
     "iopub.status.idle": "2020-08-18T10:37:13.292981Z",
     "shell.execute_reply": "2020-08-18T10:37:13.293481Z"
    },
    "papermill": {
     "duration": 0.026667,
     "end_time": "2020-08-18T10:37:13.293620",
     "exception": false,
     "start_time": "2020-08-18T10:37:13.266953",
     "status": "completed"
    },
    "tags": []
   },
   "outputs": [],
   "source": [
    "#hide\n",
    "dft_cases = dft_cases.reset_index()\n",
    "dft_deaths = dft_deaths.reset_index()\n",
    "dft_cases = dft_cases.rename(columns = {'index':'state'})\n",
    "dft_deaths = dft_deaths.rename(columns = {'index':'state'})"
   ]
  },
  {
   "cell_type": "code",
   "execution_count": 10,
   "metadata": {
    "execution": {
     "iopub.execute_input": "2020-08-18T10:37:13.333652Z",
     "iopub.status.busy": "2020-08-18T10:37:13.333073Z",
     "iopub.status.idle": "2020-08-18T10:37:13.337643Z",
     "shell.execute_reply": "2020-08-18T10:37:13.338117Z"
    },
    "papermill": {
     "duration": 0.028971,
     "end_time": "2020-08-18T10:37:13.338255",
     "exception": false,
     "start_time": "2020-08-18T10:37:13.309284",
     "status": "completed"
    },
    "tags": []
   },
   "outputs": [],
   "source": [
    "#hide\n",
    "dfc_cases = dft_cases.groupby('state')[dt_today].sum()\n",
    "dfc_deaths = dft_deaths.groupby('state')[dt_today].sum()\n",
    "dfp_cases = dft_cases.groupby('state')[dt_yday].sum()\n",
    "dfp_deaths = dft_deaths.groupby('state')[dt_yday].sum()"
   ]
  },
  {
   "cell_type": "code",
   "execution_count": 11,
   "metadata": {
    "execution": {
     "iopub.execute_input": "2020-08-18T10:37:13.378076Z",
     "iopub.status.busy": "2020-08-18T10:37:13.377117Z",
     "iopub.status.idle": "2020-08-18T10:37:13.389513Z",
     "shell.execute_reply": "2020-08-18T10:37:13.388842Z"
    },
    "papermill": {
     "duration": 0.035759,
     "end_time": "2020-08-18T10:37:13.389648",
     "exception": false,
     "start_time": "2020-08-18T10:37:13.353889",
     "status": "completed"
    },
    "tags": []
   },
   "outputs": [
    {
     "data": {
      "text/html": [
       "<div>\n",
       "<style scoped>\n",
       "    .dataframe tbody tr th:only-of-type {\n",
       "        vertical-align: middle;\n",
       "    }\n",
       "\n",
       "    .dataframe tbody tr th {\n",
       "        vertical-align: top;\n",
       "    }\n",
       "\n",
       "    .dataframe thead th {\n",
       "        text-align: right;\n",
       "    }\n",
       "</style>\n",
       "<table border=\"1\" class=\"dataframe\">\n",
       "  <thead>\n",
       "    <tr style=\"text-align: right;\">\n",
       "      <th></th>\n",
       "      <th>states</th>\n",
       "      <th>Cases</th>\n",
       "      <th>Deaths</th>\n",
       "      <th>PCases</th>\n",
       "      <th>PDeaths</th>\n",
       "    </tr>\n",
       "  </thead>\n",
       "  <tbody>\n",
       "    <tr>\n",
       "      <th>0</th>\n",
       "      <td>Maharashtra</td>\n",
       "      <td>604358</td>\n",
       "      <td>20265</td>\n",
       "      <td>604358</td>\n",
       "      <td>20265</td>\n",
       "    </tr>\n",
       "    <tr>\n",
       "      <th>1</th>\n",
       "      <td>Tamil Nadu</td>\n",
       "      <td>343945</td>\n",
       "      <td>5886</td>\n",
       "      <td>343945</td>\n",
       "      <td>5886</td>\n",
       "    </tr>\n",
       "    <tr>\n",
       "      <th>2</th>\n",
       "      <td>Andhra Pradesh</td>\n",
       "      <td>296609</td>\n",
       "      <td>2732</td>\n",
       "      <td>296609</td>\n",
       "      <td>2732</td>\n",
       "    </tr>\n",
       "    <tr>\n",
       "      <th>3</th>\n",
       "      <td>Karnataka</td>\n",
       "      <td>233283</td>\n",
       "      <td>4071</td>\n",
       "      <td>233283</td>\n",
       "      <td>4071</td>\n",
       "    </tr>\n",
       "    <tr>\n",
       "      <th>4</th>\n",
       "      <td>Uttar Pradesh</td>\n",
       "      <td>158216</td>\n",
       "      <td>2515</td>\n",
       "      <td>158216</td>\n",
       "      <td>2515</td>\n",
       "    </tr>\n",
       "  </tbody>\n",
       "</table>\n",
       "</div>"
      ],
      "text/plain": [
       "           states   Cases  Deaths  PCases  PDeaths\n",
       "0     Maharashtra  604358   20265  604358    20265\n",
       "1      Tamil Nadu  343945    5886  343945     5886\n",
       "2  Andhra Pradesh  296609    2732  296609     2732\n",
       "3       Karnataka  233283    4071  233283     4071\n",
       "4   Uttar Pradesh  158216    2515  158216     2515"
      ]
     },
     "execution_count": 11,
     "metadata": {},
     "output_type": "execute_result"
    }
   ],
   "source": [
    "#hide\n",
    "df_table = pd.DataFrame({'states': dfc_cases.index, 'Cases': dfc_cases.values, 'Deaths': dfc_deaths.values, 'PCases': dfp_cases.values, 'PDeaths': dfp_deaths.values}).set_index('states')\n",
    "df_table = df_table.sort_values(by = ['Cases','Deaths'], ascending = [False, False])\n",
    "df_table = df_table.reset_index()\n",
    "df_table.head()"
   ]
  },
  {
   "cell_type": "code",
   "execution_count": 12,
   "metadata": {
    "execution": {
     "iopub.execute_input": "2020-08-18T10:37:13.433921Z",
     "iopub.status.busy": "2020-08-18T10:37:13.427113Z",
     "iopub.status.idle": "2020-08-18T10:37:13.436594Z",
     "shell.execute_reply": "2020-08-18T10:37:13.437062Z"
    },
    "papermill": {
     "duration": 0.030834,
     "end_time": "2020-08-18T10:37:13.437200",
     "exception": false,
     "start_time": "2020-08-18T10:37:13.406366",
     "status": "completed"
    },
    "tags": []
   },
   "outputs": [],
   "source": [
    "#hide\n",
    "for c in 'Cases, Deaths'.split(', '):\n",
    "    df_table[f'{c} (+)'] = (df_table[c] - df_table[f'P{c}']).clip(0)\n",
    "df_table['Fatality Rate'] = (100* df_table['Deaths']/ df_table['Cases']).round(2)"
   ]
  },
  {
   "cell_type": "code",
   "execution_count": 13,
   "metadata": {
    "execution": {
     "iopub.execute_input": "2020-08-18T10:37:13.483197Z",
     "iopub.status.busy": "2020-08-18T10:37:13.482544Z",
     "iopub.status.idle": "2020-08-18T10:37:13.485215Z",
     "shell.execute_reply": "2020-08-18T10:37:13.485685Z"
    },
    "papermill": {
     "duration": 0.03277,
     "end_time": "2020-08-18T10:37:13.485829",
     "exception": false,
     "start_time": "2020-08-18T10:37:13.453059",
     "status": "completed"
    },
    "tags": []
   },
   "outputs": [
    {
     "data": {
      "text/html": [
       "<div>\n",
       "<style scoped>\n",
       "    .dataframe tbody tr th:only-of-type {\n",
       "        vertical-align: middle;\n",
       "    }\n",
       "\n",
       "    .dataframe tbody tr th {\n",
       "        vertical-align: top;\n",
       "    }\n",
       "\n",
       "    .dataframe thead th {\n",
       "        text-align: right;\n",
       "    }\n",
       "</style>\n",
       "<table border=\"1\" class=\"dataframe\">\n",
       "  <thead>\n",
       "    <tr style=\"text-align: right;\">\n",
       "      <th></th>\n",
       "      <th>states</th>\n",
       "      <th>Cases</th>\n",
       "      <th>Deaths</th>\n",
       "      <th>PCases</th>\n",
       "      <th>PDeaths</th>\n",
       "      <th>Cases (+)</th>\n",
       "      <th>Deaths (+)</th>\n",
       "      <th>Fatality Rate</th>\n",
       "    </tr>\n",
       "  </thead>\n",
       "  <tbody>\n",
       "    <tr>\n",
       "      <th>0</th>\n",
       "      <td>Maharashtra</td>\n",
       "      <td>604358</td>\n",
       "      <td>20265</td>\n",
       "      <td>604358</td>\n",
       "      <td>20265</td>\n",
       "      <td>0</td>\n",
       "      <td>0</td>\n",
       "      <td>3.35</td>\n",
       "    </tr>\n",
       "    <tr>\n",
       "      <th>1</th>\n",
       "      <td>Tamil Nadu</td>\n",
       "      <td>343945</td>\n",
       "      <td>5886</td>\n",
       "      <td>343945</td>\n",
       "      <td>5886</td>\n",
       "      <td>0</td>\n",
       "      <td>0</td>\n",
       "      <td>1.71</td>\n",
       "    </tr>\n",
       "    <tr>\n",
       "      <th>2</th>\n",
       "      <td>Andhra Pradesh</td>\n",
       "      <td>296609</td>\n",
       "      <td>2732</td>\n",
       "      <td>296609</td>\n",
       "      <td>2732</td>\n",
       "      <td>0</td>\n",
       "      <td>0</td>\n",
       "      <td>0.92</td>\n",
       "    </tr>\n",
       "    <tr>\n",
       "      <th>3</th>\n",
       "      <td>Karnataka</td>\n",
       "      <td>233283</td>\n",
       "      <td>4071</td>\n",
       "      <td>233283</td>\n",
       "      <td>4071</td>\n",
       "      <td>0</td>\n",
       "      <td>0</td>\n",
       "      <td>1.75</td>\n",
       "    </tr>\n",
       "    <tr>\n",
       "      <th>4</th>\n",
       "      <td>Uttar Pradesh</td>\n",
       "      <td>158216</td>\n",
       "      <td>2515</td>\n",
       "      <td>158216</td>\n",
       "      <td>2515</td>\n",
       "      <td>0</td>\n",
       "      <td>0</td>\n",
       "      <td>1.59</td>\n",
       "    </tr>\n",
       "  </tbody>\n",
       "</table>\n",
       "</div>"
      ],
      "text/plain": [
       "           states   Cases  Deaths  PCases  PDeaths  Cases (+)  Deaths (+)  \\\n",
       "0     Maharashtra  604358   20265  604358    20265          0           0   \n",
       "1      Tamil Nadu  343945    5886  343945     5886          0           0   \n",
       "2  Andhra Pradesh  296609    2732  296609     2732          0           0   \n",
       "3       Karnataka  233283    4071  233283     4071          0           0   \n",
       "4   Uttar Pradesh  158216    2515  158216     2515          0           0   \n",
       "\n",
       "   Fatality Rate  \n",
       "0           3.35  \n",
       "1           1.71  \n",
       "2           0.92  \n",
       "3           1.75  \n",
       "4           1.59  "
      ]
     },
     "execution_count": 13,
     "metadata": {},
     "output_type": "execute_result"
    }
   ],
   "source": [
    "#hide\n",
    "df_table.head()"
   ]
  },
  {
   "cell_type": "code",
   "execution_count": 14,
   "metadata": {
    "execution": {
     "iopub.execute_input": "2020-08-18T10:37:13.541355Z",
     "iopub.status.busy": "2020-08-18T10:37:13.540743Z",
     "iopub.status.idle": "2020-08-18T10:37:13.543708Z",
     "shell.execute_reply": "2020-08-18T10:37:13.543186Z"
    },
    "papermill": {
     "duration": 0.041116,
     "end_time": "2020-08-18T10:37:13.543838",
     "exception": false,
     "start_time": "2020-08-18T10:37:13.502722",
     "status": "completed"
    },
    "tags": []
   },
   "outputs": [
    {
     "data": {
      "text/plain": [
       "{'updated': '2020-08-18',\n",
       " 'since': '2020-08-17',\n",
       " 'Cases': 2706583,\n",
       " 'PCases': 2701602,\n",
       " 'Deaths': 51956,\n",
       " 'PDeaths': 51925,\n",
       " 'Cases (+)': 4981,\n",
       " 'Deaths (+)': 31}"
      ]
     },
     "execution_count": 14,
     "metadata": {},
     "output_type": "execute_result"
    }
   ],
   "source": [
    "#hide\n",
    "summary = {'updated':dates[-1], 'since':dates[-2]}\n",
    "list_names = ['Cases', 'PCases', 'Deaths', 'PDeaths', 'Cases (+)', 'Deaths (+)']\n",
    "for name in list_names:\n",
    "    summary[name] = df_table.sum()[name]\n",
    "summary"
   ]
  },
  {
   "cell_type": "code",
   "execution_count": 15,
   "metadata": {
    "execution": {
     "iopub.execute_input": "2020-08-18T10:37:13.582872Z",
     "iopub.status.busy": "2020-08-18T10:37:13.582251Z",
     "iopub.status.idle": "2020-08-18T10:37:13.584766Z",
     "shell.execute_reply": "2020-08-18T10:37:13.584236Z"
    },
    "papermill": {
     "duration": 0.024222,
     "end_time": "2020-08-18T10:37:13.584888",
     "exception": false,
     "start_time": "2020-08-18T10:37:13.560666",
     "status": "completed"
    },
    "tags": []
   },
   "outputs": [],
   "source": [
    "#hide\n",
    "overview = '''\n",
    "<!-- #######  HTML!! #########-->\n",
    "<h1 style=\"color: #5e9ca0; text-align: center;\">India</h1>\n",
    "<p style=\"text-align: center;\">Last update: <strong>{update}</strong></p>\n",
    "<p style=\"text-align: center;\">Confirmed cases:</p>\n",
    "<p style=\"text-align: center;font-size:24px;\">{cases} (<span style=\"color: #ff0000;\">+{new}</span>)</p>\n",
    "<p style=\"text-align: center;\">Confirmed deaths:</p>\n",
    "<p style=\"text-align: center;font-size:24px;\">{deaths} (<span style=\"color: #ff0000;\">+{dnew}</span>)</p>\n",
    "'''"
   ]
  },
  {
   "cell_type": "code",
   "execution_count": 16,
   "metadata": {
    "execution": {
     "iopub.execute_input": "2020-08-18T10:37:13.624039Z",
     "iopub.status.busy": "2020-08-18T10:37:13.623326Z",
     "iopub.status.idle": "2020-08-18T10:37:13.628038Z",
     "shell.execute_reply": "2020-08-18T10:37:13.627456Z"
    },
    "papermill": {
     "duration": 0.026633,
     "end_time": "2020-08-18T10:37:13.628157",
     "exception": false,
     "start_time": "2020-08-18T10:37:13.601524",
     "status": "completed"
    },
    "tags": []
   },
   "outputs": [
    {
     "data": {
      "text/html": [
       "\n",
       "<!-- #######  HTML!! #########-->\n",
       "<h1 style=\"color: #5e9ca0; text-align: center;\">India</h1>\n",
       "<p style=\"text-align: center;\">Last update: <strong>2020-08-18</strong></p>\n",
       "<p style=\"text-align: center;\">Confirmed cases:</p>\n",
       "<p style=\"text-align: center;font-size:24px;\">2706583 (<span style=\"color: #ff0000;\">+4981</span>)</p>\n",
       "<p style=\"text-align: center;\">Confirmed deaths:</p>\n",
       "<p style=\"text-align: center;font-size:24px;\">51956 (<span style=\"color: #ff0000;\">+31</span>)</p>\n"
      ],
      "text/plain": [
       "<IPython.core.display.HTML object>"
      ]
     },
     "metadata": {},
     "output_type": "display_data"
    }
   ],
   "source": [
    "#hide_input\n",
    "update = summary['updated']\n",
    "cases = summary['Cases']\n",
    "new = summary['Cases (+)']\n",
    "deaths = summary['Deaths']\n",
    "dnew = summary['Deaths (+)']\n",
    "\n",
    "html = HTML(overview.format(update=update, cases=cases,new=new,deaths=deaths,dnew=dnew))\n",
    "\n",
    "display(html)"
   ]
  },
  {
   "cell_type": "code",
   "execution_count": 17,
   "metadata": {
    "execution": {
     "iopub.execute_input": "2020-08-18T10:37:13.674763Z",
     "iopub.status.busy": "2020-08-18T10:37:13.674147Z",
     "iopub.status.idle": "2020-08-18T10:37:13.680362Z",
     "shell.execute_reply": "2020-08-18T10:37:13.679850Z"
    },
    "papermill": {
     "duration": 0.035034,
     "end_time": "2020-08-18T10:37:13.680489",
     "exception": false,
     "start_time": "2020-08-18T10:37:13.645455",
     "status": "completed"
    },
    "tags": []
   },
   "outputs": [],
   "source": [
    "#hide\n",
    "dt_cols = list(dft_cases.columns[1:])\n",
    "dft_ct_new_cases = dft_cases.groupby('state')[dt_cols].sum().diff(axis=1).fillna(0).astype(int)\n",
    "dft_ct_new_cases.sort_values(by = dates[-1], ascending = False,inplace = True)"
   ]
  },
  {
   "cell_type": "code",
   "execution_count": 18,
   "metadata": {
    "execution": {
     "iopub.execute_input": "2020-08-18T10:37:13.728035Z",
     "iopub.status.busy": "2020-08-18T10:37:13.727425Z",
     "iopub.status.idle": "2020-08-18T10:37:13.737453Z",
     "shell.execute_reply": "2020-08-18T10:37:13.737901Z"
    },
    "papermill": {
     "duration": 0.040281,
     "end_time": "2020-08-18T10:37:13.738055",
     "exception": false,
     "start_time": "2020-08-18T10:37:13.697774",
     "status": "completed"
    },
    "tags": []
   },
   "outputs": [
    {
     "data": {
      "text/html": [
       "<div>\n",
       "<style scoped>\n",
       "    .dataframe tbody tr th:only-of-type {\n",
       "        vertical-align: middle;\n",
       "    }\n",
       "\n",
       "    .dataframe tbody tr th {\n",
       "        vertical-align: top;\n",
       "    }\n",
       "\n",
       "    .dataframe thead th {\n",
       "        text-align: right;\n",
       "    }\n",
       "</style>\n",
       "<table border=\"1\" class=\"dataframe\">\n",
       "  <thead>\n",
       "    <tr style=\"text-align: right;\">\n",
       "      <th>states</th>\n",
       "      <th>2020-07-01</th>\n",
       "      <th>2020-07-02</th>\n",
       "      <th>2020-07-03</th>\n",
       "      <th>2020-07-04</th>\n",
       "      <th>2020-07-05</th>\n",
       "      <th>2020-07-06</th>\n",
       "      <th>2020-07-07</th>\n",
       "      <th>2020-07-08</th>\n",
       "      <th>2020-07-09</th>\n",
       "      <th>2020-07-10</th>\n",
       "      <th>...</th>\n",
       "      <th>2020-08-09</th>\n",
       "      <th>2020-08-10</th>\n",
       "      <th>2020-08-11</th>\n",
       "      <th>2020-08-12</th>\n",
       "      <th>2020-08-13</th>\n",
       "      <th>2020-08-14</th>\n",
       "      <th>2020-08-15</th>\n",
       "      <th>2020-08-16</th>\n",
       "      <th>2020-08-17</th>\n",
       "      <th>2020-08-18</th>\n",
       "    </tr>\n",
       "    <tr>\n",
       "      <th>state</th>\n",
       "      <th></th>\n",
       "      <th></th>\n",
       "      <th></th>\n",
       "      <th></th>\n",
       "      <th></th>\n",
       "      <th></th>\n",
       "      <th></th>\n",
       "      <th></th>\n",
       "      <th></th>\n",
       "      <th></th>\n",
       "      <th></th>\n",
       "      <th></th>\n",
       "      <th></th>\n",
       "      <th></th>\n",
       "      <th></th>\n",
       "      <th></th>\n",
       "      <th></th>\n",
       "      <th></th>\n",
       "      <th></th>\n",
       "      <th></th>\n",
       "      <th></th>\n",
       "    </tr>\n",
       "  </thead>\n",
       "  <tbody>\n",
       "    <tr>\n",
       "      <th>Odisha</th>\n",
       "      <td>0</td>\n",
       "      <td>229</td>\n",
       "      <td>561</td>\n",
       "      <td>495</td>\n",
       "      <td>469</td>\n",
       "      <td>456</td>\n",
       "      <td>571</td>\n",
       "      <td>527</td>\n",
       "      <td>577</td>\n",
       "      <td>755</td>\n",
       "      <td>...</td>\n",
       "      <td>1734</td>\n",
       "      <td>1528</td>\n",
       "      <td>1341</td>\n",
       "      <td>1876</td>\n",
       "      <td>1981</td>\n",
       "      <td>1977</td>\n",
       "      <td>2496</td>\n",
       "      <td>2924</td>\n",
       "      <td>2244</td>\n",
       "      <td>2239</td>\n",
       "    </tr>\n",
       "    <tr>\n",
       "      <th>Telangana</th>\n",
       "      <td>0</td>\n",
       "      <td>1213</td>\n",
       "      <td>1892</td>\n",
       "      <td>1850</td>\n",
       "      <td>1590</td>\n",
       "      <td>1831</td>\n",
       "      <td>1879</td>\n",
       "      <td>1924</td>\n",
       "      <td>1410</td>\n",
       "      <td>1278</td>\n",
       "      <td>...</td>\n",
       "      <td>1982</td>\n",
       "      <td>1256</td>\n",
       "      <td>1896</td>\n",
       "      <td>1897</td>\n",
       "      <td>1931</td>\n",
       "      <td>1921</td>\n",
       "      <td>1863</td>\n",
       "      <td>1102</td>\n",
       "      <td>894</td>\n",
       "      <td>1682</td>\n",
       "    </tr>\n",
       "    <tr>\n",
       "      <th>Rajasthan</th>\n",
       "      <td>0</td>\n",
       "      <td>350</td>\n",
       "      <td>390</td>\n",
       "      <td>480</td>\n",
       "      <td>632</td>\n",
       "      <td>524</td>\n",
       "      <td>716</td>\n",
       "      <td>659</td>\n",
       "      <td>500</td>\n",
       "      <td>611</td>\n",
       "      <td>...</td>\n",
       "      <td>1169</td>\n",
       "      <td>1173</td>\n",
       "      <td>1217</td>\n",
       "      <td>1213</td>\n",
       "      <td>1314</td>\n",
       "      <td>1278</td>\n",
       "      <td>1287</td>\n",
       "      <td>1317</td>\n",
       "      <td>1334</td>\n",
       "      <td>694</td>\n",
       "    </tr>\n",
       "    <tr>\n",
       "      <th>Tripura</th>\n",
       "      <td>0</td>\n",
       "      <td>39</td>\n",
       "      <td>93</td>\n",
       "      <td>25</td>\n",
       "      <td>23</td>\n",
       "      <td>111</td>\n",
       "      <td>24</td>\n",
       "      <td>57</td>\n",
       "      <td>16</td>\n",
       "      <td>142</td>\n",
       "      <td>...</td>\n",
       "      <td>147</td>\n",
       "      <td>62</td>\n",
       "      <td>164</td>\n",
       "      <td>110</td>\n",
       "      <td>121</td>\n",
       "      <td>164</td>\n",
       "      <td>167</td>\n",
       "      <td>127</td>\n",
       "      <td>143</td>\n",
       "      <td>205</td>\n",
       "    </tr>\n",
       "    <tr>\n",
       "      <th>Nagaland</th>\n",
       "      <td>0</td>\n",
       "      <td>34</td>\n",
       "      <td>4</td>\n",
       "      <td>24</td>\n",
       "      <td>27</td>\n",
       "      <td>35</td>\n",
       "      <td>19</td>\n",
       "      <td>13</td>\n",
       "      <td>16</td>\n",
       "      <td>59</td>\n",
       "      <td>...</td>\n",
       "      <td>93</td>\n",
       "      <td>230</td>\n",
       "      <td>20</td>\n",
       "      <td>87</td>\n",
       "      <td>50</td>\n",
       "      <td>154</td>\n",
       "      <td>18</td>\n",
       "      <td>54</td>\n",
       "      <td>61</td>\n",
       "      <td>65</td>\n",
       "    </tr>\n",
       "  </tbody>\n",
       "</table>\n",
       "<p>5 rows × 49 columns</p>\n",
       "</div>"
      ],
      "text/plain": [
       "states     2020-07-01  2020-07-02  2020-07-03  2020-07-04  2020-07-05  \\\n",
       "state                                                                   \n",
       "Odisha              0         229         561         495         469   \n",
       "Telangana           0        1213        1892        1850        1590   \n",
       "Rajasthan           0         350         390         480         632   \n",
       "Tripura             0          39          93          25          23   \n",
       "Nagaland            0          34           4          24          27   \n",
       "\n",
       "states     2020-07-06  2020-07-07  2020-07-08  2020-07-09  2020-07-10  ...  \\\n",
       "state                                                                  ...   \n",
       "Odisha            456         571         527         577         755  ...   \n",
       "Telangana        1831        1879        1924        1410        1278  ...   \n",
       "Rajasthan         524         716         659         500         611  ...   \n",
       "Tripura           111          24          57          16         142  ...   \n",
       "Nagaland           35          19          13          16          59  ...   \n",
       "\n",
       "states     2020-08-09  2020-08-10  2020-08-11  2020-08-12  2020-08-13  \\\n",
       "state                                                                   \n",
       "Odisha           1734        1528        1341        1876        1981   \n",
       "Telangana        1982        1256        1896        1897        1931   \n",
       "Rajasthan        1169        1173        1217        1213        1314   \n",
       "Tripura           147          62         164         110         121   \n",
       "Nagaland           93         230          20          87          50   \n",
       "\n",
       "states     2020-08-14  2020-08-15  2020-08-16  2020-08-17  2020-08-18  \n",
       "state                                                                  \n",
       "Odisha           1977        2496        2924        2244        2239  \n",
       "Telangana        1921        1863        1102         894        1682  \n",
       "Rajasthan        1278        1287        1317        1334         694  \n",
       "Tripura           164         167         127         143         205  \n",
       "Nagaland          154          18          54          61          65  \n",
       "\n",
       "[5 rows x 49 columns]"
      ]
     },
     "execution_count": 18,
     "metadata": {},
     "output_type": "execute_result"
    }
   ],
   "source": [
    "#hide\n",
    "dft_ct_new_cases.head()"
   ]
  },
  {
   "cell_type": "code",
   "execution_count": 19,
   "metadata": {
    "execution": {
     "iopub.execute_input": "2020-08-18T10:37:13.788326Z",
     "iopub.status.busy": "2020-08-18T10:37:13.787677Z",
     "iopub.status.idle": "2020-08-18T10:37:16.500904Z",
     "shell.execute_reply": "2020-08-18T10:37:16.501370Z"
    },
    "papermill": {
     "duration": 2.74493,
     "end_time": "2020-08-18T10:37:16.501536",
     "exception": false,
     "start_time": "2020-08-18T10:37:13.756606",
     "status": "completed"
    },
    "tags": []
   },
   "outputs": [
    {
     "data": {
      "image/png": "[encoded data removed]",
      "text/plain": [
       "<Figure size 1296x2016 with 11 Axes>"
      ]
     },
     "metadata": {
      "needs_background": "light"
     },
     "output_type": "display_data"
    }
   ],
   "source": [
    "#hide_input\n",
    "df = dft_ct_new_cases.copy()\n",
    "df.loc['Total'] = df.sum()\n",
    "n = 5\n",
    "ax = []\n",
    "fig = plt.figure(figsize = (18,28))\n",
    "gs = fig.add_gridspec(n+2, 5)\n",
    "# gs = fig.add_gridspec(2, 3)\n",
    "ax1 = fig.add_subplot(gs[0, :])\n",
    "ef = df.loc['Total'].rename_axis('date').reset_index()\n",
    "ef['date'] = ef['date'].astype('datetime64[ns]')\n",
    "ax1.bar(ef.date,ef.Total,alpha=0.3,color='#007acc')\n",
    "ax1.plot(ef.date,ef.Total , marker=\"o\", color='#007acc')\n",
    "ax1.xaxis.set_major_locator(mdates.WeekdayLocator())\n",
    "ax1.xaxis.set_major_formatter(mdates.DateFormatter('%b %d'))\n",
    "ax1.text(0.02, 0.5,'India daily case count', transform = ax1.transAxes, fontsize=25);\n",
    "ax1.spines['right'].set_visible(False)\n",
    "ax1.spines['top'].set_visible(False)\n",
    "\n",
    "ax2 = fig.add_subplot(gs[1,0])\n",
    "ef = df.loc['Maharashtra'].rename_axis('date').reset_index()\n",
    "ef['date'] = ef['date'].astype('datetime64[ns]')\n",
    "\n",
    "ax2.bar(ef.date, ef.Maharashtra,color = '#007acc',alpha=0.5)\n",
    "ax2.xaxis.set_major_locator(mdates.WeekdayLocator())\n",
    "ax2.xaxis.set_major_formatter(mdates.DateFormatter('%b %d'))\n",
    "ax2.set_xticks(ax2.get_xticks()[::3])\n",
    "maxyval = ef.Maharashtra.max()\n",
    "ax2.set_ylim([0,maxyval])\n",
    "ax2.text(0.05, 0.9,'Maharashtra', transform = ax2.transAxes, fontsize=20);\n",
    "ax2.spines['right'].set_visible(False)\n",
    "ax2.spines['top'].set_visible(False)\n",
    "\n",
    "\n",
    "ax3 = fig.add_subplot(gs[1,1])\n",
    "ef = df.loc['Tamil Nadu'].rename_axis('date').reset_index()\n",
    "ef['date'] = ef['date'].astype('datetime64[ns]')\n",
    "ax3.bar(ef.date, ef['Tamil Nadu'],color = '#007acc',alpha=0.5,)\n",
    "ax3.xaxis.set_major_locator(mdates.WeekdayLocator())\n",
    "ax3.xaxis.set_major_formatter(mdates.DateFormatter('%b %d'))\n",
    "ax3.set_xticks(ax3.get_xticks()[::3])\n",
    "ax3.text(0.05, 0.9,'Tamil Nadu', transform = ax3.transAxes, fontsize=20);\n",
    "ax3.spines['right'].set_visible(False)\n",
    "ax3.spines['top'].set_visible(False)\n",
    "\n",
    "ax5 = fig.add_subplot(gs[1,3])\n",
    "ef = df.loc['Telangana'].rename_axis('date').reset_index()\n",
    "ef['date'] = ef['date'].astype('datetime64[ns]')\n",
    "ax5.bar(ef.date, ef['Telangana'],color = '#007acc',alpha=0.5,)\n",
    "ax5.xaxis.set_major_locator(mdates.WeekdayLocator())\n",
    "ax5.xaxis.set_major_formatter(mdates.DateFormatter('%b %d'))\n",
    "ax5.set_xticks(ax5.get_xticks()[::3])\n",
    "ax5.text(0.05, 0.9,'Telangana', transform = ax5.transAxes, fontsize=20);\n",
    "ax5.spines['right'].set_visible(False)\n",
    "ax5.spines['top'].set_visible(False)\n",
    "\n",
    "ax6 = fig.add_subplot(gs[1,4])\n",
    "ef = df.loc['Andhra Pradesh'].rename_axis('date').reset_index()\n",
    "ef['date'] = ef['date'].astype('datetime64[ns]')\n",
    "ax6.bar(ef.date, ef['Andhra Pradesh'],color = '#007acc',alpha=0.5,)\n",
    "ax6.xaxis.set_major_locator(mdates.WeekdayLocator())\n",
    "ax6.xaxis.set_major_formatter(mdates.DateFormatter('%b %d'))\n",
    "ax6.set_xticks(ax6.get_xticks()[::3])\n",
    "ax6.text(0.05, 1,'Andhra Pradesh', transform = ax6.transAxes, fontsize=20);\n",
    "ax6.spines['right'].set_visible(False)\n",
    "ax6.spines['top'].set_visible(False)\n",
    "\n",
    "ax4 = fig.add_subplot(gs[1,2])\n",
    "ef = df.loc['Delhi'].rename_axis('date').reset_index()\n",
    "ef['date'] = ef['date'].astype('datetime64[ns]')\n",
    "ax4.bar(ef.date, ef.Delhi,color = '#007acc',alpha=0.5)\n",
    "ax4.set_xticks([])\n",
    "ax4.xaxis.set_major_locator(mdates.WeekdayLocator())\n",
    "ax4.xaxis.set_major_formatter(mdates.DateFormatter('%b %d'))\n",
    "ax4.set_xticks(ax4.get_xticks()[::3])\n",
    "ax4.spines['right'].set_visible(False)\n",
    "ax4.spines['top'].set_visible(False)\n",
    "\n",
    "ax4.text(0.05, 1,'Delhi', transform = ax4.transAxes, fontsize=20)\n",
    "\n",
    "for i in range(n):\n",
    "    \n",
    "    ax.append(fig.add_subplot(gs[i+2,:]))\n",
    "    ef = df.iloc[i+3].rename_axis('date').reset_index()\n",
    "    ef['date'] = ef['date'].astype('datetime64[ns]')\n",
    "    ax[i].bar(ef.date,ef.iloc[:,-1],color = '#007acc',alpha=0.3)\n",
    "    ax[i].plot(ef.date,ef.iloc[:,-1],marker='o',color='#007acc')\n",
    "    ax[i].text(0.02,0.5,f'{ef.columns.values[-1]}',transform = ax[i].transAxes, fontsize = 20);\n",
    "    ax[i].xaxis.set_major_locator(mdates.WeekdayLocator())\n",
    "    ax[i].xaxis.set_major_formatter(mdates.DateFormatter('%b %d'))\n",
    "    ax[i].set_ylim([0,7000])\n",
    "    ax[i].spines['right'].set_visible(False)\n",
    "    ax[i].spines['top'].set_visible(False)\n",
    "plt.tight_layout()\n"
   ]
  },
  {
   "cell_type": "code",
   "execution_count": 20,
   "metadata": {
    "execution": {
     "iopub.execute_input": "2020-08-18T10:37:16.560778Z",
     "iopub.status.busy": "2020-08-18T10:37:16.559422Z",
     "iopub.status.idle": "2020-08-18T10:37:16.562824Z",
     "shell.execute_reply": "2020-08-18T10:37:16.562308Z"
    },
    "papermill": {
     "duration": 0.039165,
     "end_time": "2020-08-18T10:37:16.562955",
     "exception": false,
     "start_time": "2020-08-18T10:37:16.523790",
     "status": "completed"
    },
    "tags": []
   },
   "outputs": [
    {
     "name": "stdout",
     "output_type": "stream",
     "text": [
      "                                   states   Cases  Deaths  PCases  PDeaths  Cases (+)  Deaths (+)  Fatality Rate\n",
      "                              Maharashtra  604358   20265  604358    20265          0           0           3.35\n",
      "                               Tamil Nadu  343945    5886  343945     5886          0           0           1.71\n",
      "                           Andhra Pradesh  296609    2732  296609     2732          0           0           0.92\n",
      "                                Karnataka  233283    4071  233283     4071          0           0           1.75\n",
      "                            Uttar Pradesh  158216    2515  158216     2515          0           0           1.59\n",
      "                                    Delhi  153367    4214  153367     4214          0           0           2.75\n",
      "                              West Bengal  119578    2473  119578     2473          0           0           2.07\n",
      "                                    Bihar  106618     542  106618      542          0           0           0.51\n",
      "                                Telangana   93937     711   92255      703       1682           8           0.76\n",
      "                                  Gujarat   79816    2800   79816     2800          0           0           3.51\n",
      "                                    Assam   79668     197   79668      197          0           0           0.25\n",
      "                                   Odisha   64533     415   62294      406       2239           9           0.64\n",
      "                                Rajasthan   63324     897   62630      887        694          10           1.42\n",
      "                                  Haryana   48040     550   48040      550          0           0           1.14\n",
      "                           Madhya Pradesh   46385    1128   46385     1128          0           0           2.43\n",
      "                                   Kerala   46140     170   46140      170          0           0           0.37\n",
      "                                   Punjab   32695     862   32695      862          0           0           2.64\n",
      "                        Jammu and Kashmir   28892     548   28892      548          0           0           1.90\n",
      "                                Jharkhand   24067     256   24067      255          0           1           1.06\n",
      "                             Chhattisgarh   16025     150   16025      150          0           0           0.94\n",
      "                              Uttarakhand   12493     158   12493      158          0           0           1.26\n",
      "                                      Goa   11994     111   11994      111          0           0           0.93\n",
      "                               Puducherry    8029     114    8029      114          0           0           1.42\n",
      "                                  Tripura    7424      62    7219       59        205           3           0.84\n",
      "                                  Manipur    4687      17    4687       17          0           0           0.36\n",
      "                         Himachal Pradesh    4208      18    4174       18         34           0           0.43\n",
      "                                 Nagaland    3520       7    3455        7         65           0           0.20\n",
      "                        Arunachal Pradesh    2741       5    2741        5          0           0           0.18\n",
      "              Andaman and Nicobar Islands    2445      29    2445       29          0           0           1.19\n",
      "                               Chandigarh    2216      30    2216       30          0           0           1.35\n",
      "                                   Ladakh    1966      14    1966       14          0           0           0.71\n",
      " Dadra and Nagar Haveli and Daman and Diu    1908       2    1908        2          0           0           0.10\n",
      "                                Meghalaya    1454       6    1418        6         36           0           0.41\n",
      "                                   Sikkim    1187       1    1187        1          0           0           0.08\n",
      "                                  Mizoram     815       0     789        0         26           0           0.00\n",
      "                              Lakshadweep       0       0       0        0          0           0            NaN\n"
     ]
    }
   ],
   "source": [
    "#hide_input\n",
    "print(df_table.to_string(index=False))"
   ]
  },
  {
   "cell_type": "code",
   "execution_count": null,
   "metadata": {
    "papermill": {
     "duration": 0.022488,
     "end_time": "2020-08-18T10:37:16.607876",
     "exception": false,
     "start_time": "2020-08-18T10:37:16.585388",
     "status": "completed"
    },
    "tags": []
   },
   "outputs": [],
   "source": []
  },
  {
   "cell_type": "code",
   "execution_count": null,
   "metadata": {
    "papermill": {
     "duration": 0.022195,
     "end_time": "2020-08-18T10:37:16.652663",
     "exception": false,
     "start_time": "2020-08-18T10:37:16.630468",
     "status": "completed"
    },
    "tags": []
   },
   "outputs": [],
   "source": []
  }
 ],
 "metadata": {
  "kernelspec": {
   "display_name": "Python 3",
   "language": "python",
   "name": "python3"
  },
  "language_info": {
   "codemirror_mode": {
    "name": "ipython",
    "version": 3
   },
   "file_extension": ".py",
   "mimetype": "text/x-python",
   "name": "python",
   "nbconvert_exporter": "python",
   "pygments_lexer": "ipython3",
   "version": "3.6.11"
  },
  "papermill": {
   "duration": 8.335476,
   "end_time": "2020-08-18T10:37:17.888934",
   "environment_variables": {},
   "exception": null,
   "input_path": "latest.ipynb",
   "output_path": "latest.ipynb",
   "parameters": {},
   "start_time": "2020-08-18T10:37:09.553458",
   "version": "2.1.2"
  }
 },
 "nbformat": 4,
 "nbformat_minor": 4
}