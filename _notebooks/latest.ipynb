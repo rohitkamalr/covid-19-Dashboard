{
 "cells": [
  {
   "cell_type": "markdown",
   "id": "colored-stack",
   "metadata": {
    "papermill": {
     "duration": 0.022892,
     "end_time": "2021-02-16T10:55:12.407257",
     "exception": false,
     "start_time": "2021-02-16T10:55:12.384365",
     "status": "completed"
    },
    "tags": []
   },
   "source": [
    "# Latest COVID-19 India Matplotlib Overview"
   ]
  },
  {
   "cell_type": "code",
   "execution_count": 1,
   "id": "light-proportion",
   "metadata": {
    "execution": {
     "iopub.execute_input": "2021-02-16T10:55:12.456223Z",
     "iopub.status.busy": "2021-02-16T10:55:12.455573Z",
     "iopub.status.idle": "2021-02-16T10:55:13.049469Z",
     "shell.execute_reply": "2021-02-16T10:55:13.048932Z"
    },
    "papermill": {
     "duration": 0.624792,
     "end_time": "2021-02-16T10:55:13.049614",
     "exception": false,
     "start_time": "2021-02-16T10:55:12.424822",
     "status": "completed"
    },
    "tags": []
   },
   "outputs": [],
   "source": [
    "#hide\n",
    "import pandas as pd\n",
    "import numpy as np\n",
    "import requests\n",
    "import json\n",
    "import matplotlib.pyplot as plt\n",
    "import matplotlib.dates as mdates\n",
    "import matplotlib as mpl\n",
    "from IPython.core.display import display,HTML\n",
    "%matplotlib inline\n",
    "from datetime import date"
   ]
  },
  {
   "cell_type": "code",
   "execution_count": 2,
   "id": "greenhouse-shooting",
   "metadata": {
    "execution": {
     "iopub.execute_input": "2021-02-16T10:55:13.092885Z",
     "iopub.status.busy": "2021-02-16T10:55:13.092274Z",
     "iopub.status.idle": "2021-02-16T10:55:13.250562Z",
     "shell.execute_reply": "2021-02-16T10:55:13.251055Z"
    },
    "papermill": {
     "duration": 0.184579,
     "end_time": "2021-02-16T10:55:13.251218",
     "exception": false,
     "start_time": "2021-02-16T10:55:13.066639",
     "status": "completed"
    },
    "tags": []
   },
   "outputs": [],
   "source": [
    "#hide\n",
    "df  = pd.read_csv('https://api.covid19india.org/csv/latest/states.csv')\n",
    "df = df[['Date','State','Confirmed','Deceased']]\n",
    "df = df.rename(columns={'Confirmed':'Cases', \"Deceased\":'Deaths'})\n",
    "df_cases = df[[\"Date\",'State','Cases']]\n",
    "df_deaths = df[['Date','State','Deaths']]\n",
    "df_cases1 = df_cases.groupby('Date')\n",
    "df_deaths1= df_deaths.groupby('Date')"
   ]
  },
  {
   "cell_type": "code",
   "execution_count": 3,
   "id": "hybrid-cathedral",
   "metadata": {
    "execution": {
     "iopub.execute_input": "2021-02-16T10:55:13.291777Z",
     "iopub.status.busy": "2021-02-16T10:55:13.291183Z",
     "iopub.status.idle": "2021-02-16T10:55:13.309555Z",
     "shell.execute_reply": "2021-02-16T10:55:13.309045Z"
    },
    "papermill": {
     "duration": 0.040752,
     "end_time": "2021-02-16T10:55:13.309687",
     "exception": false,
     "start_time": "2021-02-16T10:55:13.268935",
     "status": "completed"
    },
    "tags": []
   },
   "outputs": [],
   "source": [
    "#hide\n",
    "df_snap = pd.read_csv('data/SnapshotCases-28-July.csv')\n",
    "arr_states = df_snap['states'].unique()\n",
    "arr_dates = df['Date'].unique()\n",
    "df_snap = df_snap.set_index('states')"
   ]
  },
  {
   "cell_type": "code",
   "execution_count": 4,
   "id": "interior-belfast",
   "metadata": {
    "execution": {
     "iopub.execute_input": "2021-02-16T10:55:13.352430Z",
     "iopub.status.busy": "2021-02-16T10:55:13.351564Z",
     "iopub.status.idle": "2021-02-16T10:55:13.355596Z",
     "shell.execute_reply": "2021-02-16T10:55:13.356075Z"
    },
    "papermill": {
     "duration": 0.029725,
     "end_time": "2021-02-16T10:55:13.356218",
     "exception": false,
     "start_time": "2021-02-16T10:55:13.326493",
     "status": "completed"
    },
    "tags": []
   },
   "outputs": [
    {
     "data": {
      "text/plain": [
       "array(['Andaman and Nicobar Islands', 'Andhra Pradesh',\n",
       "       'Arunachal Pradesh', 'Assam', 'Bihar', 'Chandigarh',\n",
       "       'Dadra and Nagar Haveli and Daman and Diu', 'Delhi', 'Goa',\n",
       "       'Gujarat', 'Haryana', 'Himachal Pradesh', 'Jammu and Kashmir',\n",
       "       'Jharkhand', 'Karnataka', 'Kerala', 'Lakshadweep',\n",
       "       'Madhya Pradesh', 'Maharashtra', 'Manipur', 'Meghalaya', 'Mizoram',\n",
       "       'Nagaland', 'Odisha', 'Puducherry', 'Punjab', 'Rajasthan',\n",
       "       'Sikkim', 'Tamil Nadu', 'Telangana', 'Tripura', 'Uttar Pradesh',\n",
       "       'West Bengal', 'Chhattisgarh', 'Ladakh', 'Uttarakhand'],\n",
       "      dtype=object)"
      ]
     },
     "execution_count": 4,
     "metadata": {},
     "output_type": "execute_result"
    }
   ],
   "source": [
    "#hide\n",
    "arr_states[-9] = 'Puducherry'\n",
    "arr_states[-10] = 'Odisha'\n",
    "arr_states[6] = 'Dadra and Nagar Haveli and Daman and Diu'\n",
    "arr_states = np.append(arr_states,np.array(['Chhattisgarh','Ladakh','Uttarakhand']))\n",
    "arr_states"
   ]
  },
  {
   "cell_type": "code",
   "execution_count": 5,
   "id": "behind-manner",
   "metadata": {
    "execution": {
     "iopub.execute_input": "2021-02-16T10:55:13.402447Z",
     "iopub.status.busy": "2021-02-16T10:55:13.401837Z",
     "iopub.status.idle": "2021-02-16T10:55:13.410803Z",
     "shell.execute_reply": "2021-02-16T10:55:13.410294Z"
    },
    "papermill": {
     "duration": 0.037449,
     "end_time": "2021-02-16T10:55:13.410934",
     "exception": false,
     "start_time": "2021-02-16T10:55:13.373485",
     "status": "completed"
    },
    "tags": []
   },
   "outputs": [],
   "source": [
    "#hide\n",
    "dates = []\n",
    "for i in arr_dates:\n",
    "    if i>='2020-07-01':\n",
    "        dates.append(i)\n",
    "dict = {'states':dates}\n",
    "for i in arr_states:\n",
    "    dict[i] = [0]*len(dates)\n",
    "dft_cases = pd.DataFrame(dict)\n",
    "dft_deaths = pd.DataFrame(dict)\n"
   ]
  },
  {
   "cell_type": "code",
   "execution_count": 6,
   "id": "simplified-peter",
   "metadata": {
    "execution": {
     "iopub.execute_input": "2021-02-16T10:55:13.453226Z",
     "iopub.status.busy": "2021-02-16T10:55:13.452635Z",
     "iopub.status.idle": "2021-02-16T10:55:16.748873Z",
     "shell.execute_reply": "2021-02-16T10:55:16.747996Z"
    },
    "papermill": {
     "duration": 3.31943,
     "end_time": "2021-02-16T10:55:16.749091",
     "exception": false,
     "start_time": "2021-02-16T10:55:13.429661",
     "status": "completed"
    },
    "tags": []
   },
   "outputs": [],
   "source": [
    "#hide\n",
    "for i in range(len(dates)):\n",
    "    df1_deaths = df_deaths1.get_group(dates[i])\n",
    "    for j in range(len(df1_deaths.index)):\n",
    "        if df1_deaths.iloc[j,1] in arr_states:\n",
    "            dft_deaths.loc[i,df1_deaths.iloc[j,1]] = df1_deaths.iloc[j,2]\n",
    "dft_deaths = dft_deaths.set_index('states')"
   ]
  },
  {
   "cell_type": "code",
   "execution_count": 7,
   "id": "geological-welding",
   "metadata": {
    "execution": {
     "iopub.execute_input": "2021-02-16T10:55:16.793683Z",
     "iopub.status.busy": "2021-02-16T10:55:16.793075Z",
     "iopub.status.idle": "2021-02-16T10:55:20.085920Z",
     "shell.execute_reply": "2021-02-16T10:55:20.085339Z"
    },
    "papermill": {
     "duration": 3.317405,
     "end_time": "2021-02-16T10:55:20.086068",
     "exception": false,
     "start_time": "2021-02-16T10:55:16.768663",
     "status": "completed"
    },
    "tags": []
   },
   "outputs": [],
   "source": [
    "#hide\n",
    "for i in range(len(dates)):\n",
    "    df1_cases = df_cases1.get_group(dates[i])\n",
    "    for j in range(len(df1_cases.index)):\n",
    "        if df1_cases.iloc[j,1] in arr_states:\n",
    "            dft_cases.loc[i,df1_cases.iloc[j,1]] = df1_cases.iloc[j,2]\n",
    "dft_cases = dft_cases.set_index('states')"
   ]
  },
  {
   "cell_type": "code",
   "execution_count": 8,
   "id": "binary-ratio",
   "metadata": {
    "execution": {
     "iopub.execute_input": "2021-02-16T10:55:20.128521Z",
     "iopub.status.busy": "2021-02-16T10:55:20.127924Z",
     "iopub.status.idle": "2021-02-16T10:55:20.129141Z",
     "shell.execute_reply": "2021-02-16T10:55:20.129602Z"
    },
    "papermill": {
     "duration": 0.026326,
     "end_time": "2021-02-16T10:55:20.129733",
     "exception": false,
     "start_time": "2021-02-16T10:55:20.103407",
     "status": "completed"
    },
    "tags": []
   },
   "outputs": [],
   "source": [
    "#hide\n",
    "dft_cases = dft_cases.T\n",
    "dft_deaths = dft_deaths.T\n",
    "dt_today = dates[-1]\n",
    "dt_yday = dates[-2]"
   ]
  },
  {
   "cell_type": "code",
   "execution_count": 9,
   "id": "boolean-calculator",
   "metadata": {
    "execution": {
     "iopub.execute_input": "2021-02-16T10:55:20.170281Z",
     "iopub.status.busy": "2021-02-16T10:55:20.169695Z",
     "iopub.status.idle": "2021-02-16T10:55:20.173928Z",
     "shell.execute_reply": "2021-02-16T10:55:20.174339Z"
    },
    "papermill": {
     "duration": 0.02817,
     "end_time": "2021-02-16T10:55:20.174507",
     "exception": false,
     "start_time": "2021-02-16T10:55:20.146337",
     "status": "completed"
    },
    "tags": []
   },
   "outputs": [],
   "source": [
    "#hide\n",
    "dft_cases = dft_cases.reset_index()\n",
    "dft_deaths = dft_deaths.reset_index()\n",
    "dft_cases = dft_cases.rename(columns = {'index':'state'})\n",
    "dft_deaths = dft_deaths.rename(columns = {'index':'state'})"
   ]
  },
  {
   "cell_type": "code",
   "execution_count": 10,
   "id": "invisible-johnston",
   "metadata": {
    "execution": {
     "iopub.execute_input": "2021-02-16T10:55:20.218083Z",
     "iopub.status.busy": "2021-02-16T10:55:20.217507Z",
     "iopub.status.idle": "2021-02-16T10:55:20.219242Z",
     "shell.execute_reply": "2021-02-16T10:55:20.219798Z"
    },
    "papermill": {
     "duration": 0.028966,
     "end_time": "2021-02-16T10:55:20.219922",
     "exception": false,
     "start_time": "2021-02-16T10:55:20.190956",
     "status": "completed"
    },
    "tags": []
   },
   "outputs": [],
   "source": [
    "#hide\n",
    "dfc_cases = dft_cases.groupby('state')[dt_today].sum()\n",
    "dfc_deaths = dft_deaths.groupby('state')[dt_today].sum()\n",
    "dfp_cases = dft_cases.groupby('state')[dt_yday].sum()\n",
    "dfp_deaths = dft_deaths.groupby('state')[dt_yday].sum()"
   ]
  },
  {
   "cell_type": "code",
   "execution_count": 11,
   "id": "measured-great",
   "metadata": {
    "execution": {
     "iopub.execute_input": "2021-02-16T10:55:20.270801Z",
     "iopub.status.busy": "2021-02-16T10:55:20.269931Z",
     "iopub.status.idle": "2021-02-16T10:55:20.275631Z",
     "shell.execute_reply": "2021-02-16T10:55:20.276133Z"
    },
    "papermill": {
     "duration": 0.039571,
     "end_time": "2021-02-16T10:55:20.276277",
     "exception": false,
     "start_time": "2021-02-16T10:55:20.236706",
     "status": "completed"
    },
    "tags": []
   },
   "outputs": [
    {
     "data": {
      "text/html": [
       "<div>\n",
       "<style scoped>\n",
       "    .dataframe tbody tr th:only-of-type {\n",
       "        vertical-align: middle;\n",
       "    }\n",
       "\n",
       "    .dataframe tbody tr th {\n",
       "        vertical-align: top;\n",
       "    }\n",
       "\n",
       "    .dataframe thead th {\n",
       "        text-align: right;\n",
       "    }\n",
       "</style>\n",
       "<table border=\"1\" class=\"dataframe\">\n",
       "  <thead>\n",
       "    <tr style=\"text-align: right;\">\n",
       "      <th></th>\n",
       "      <th>states</th>\n",
       "      <th>Cases</th>\n",
       "      <th>Deaths</th>\n",
       "      <th>PCases</th>\n",
       "      <th>PDeaths</th>\n",
       "    </tr>\n",
       "  </thead>\n",
       "  <tbody>\n",
       "    <tr>\n",
       "      <th>0</th>\n",
       "      <td>Maharashtra</td>\n",
       "      <td>2067643</td>\n",
       "      <td>51552</td>\n",
       "      <td>2067643</td>\n",
       "      <td>51552</td>\n",
       "    </tr>\n",
       "    <tr>\n",
       "      <th>1</th>\n",
       "      <td>Kerala</td>\n",
       "      <td>1007020</td>\n",
       "      <td>3999</td>\n",
       "      <td>1007020</td>\n",
       "      <td>3999</td>\n",
       "    </tr>\n",
       "    <tr>\n",
       "      <th>2</th>\n",
       "      <td>Karnataka</td>\n",
       "      <td>945638</td>\n",
       "      <td>12267</td>\n",
       "      <td>945638</td>\n",
       "      <td>12267</td>\n",
       "    </tr>\n",
       "    <tr>\n",
       "      <th>3</th>\n",
       "      <td>Andhra Pradesh</td>\n",
       "      <td>888899</td>\n",
       "      <td>7163</td>\n",
       "      <td>888899</td>\n",
       "      <td>7163</td>\n",
       "    </tr>\n",
       "    <tr>\n",
       "      <th>4</th>\n",
       "      <td>Tamil Nadu</td>\n",
       "      <td>845575</td>\n",
       "      <td>12425</td>\n",
       "      <td>845575</td>\n",
       "      <td>12425</td>\n",
       "    </tr>\n",
       "  </tbody>\n",
       "</table>\n",
       "</div>"
      ],
      "text/plain": [
       "           states    Cases  Deaths   PCases  PDeaths\n",
       "0     Maharashtra  2067643   51552  2067643    51552\n",
       "1          Kerala  1007020    3999  1007020     3999\n",
       "2       Karnataka   945638   12267   945638    12267\n",
       "3  Andhra Pradesh   888899    7163   888899     7163\n",
       "4      Tamil Nadu   845575   12425   845575    12425"
      ]
     },
     "execution_count": 11,
     "metadata": {},
     "output_type": "execute_result"
    }
   ],
   "source": [
    "#hide\n",
    "df_table = pd.DataFrame({'states': dfc_cases.index, 'Cases': dfc_cases.values, 'Deaths': dfc_deaths.values, 'PCases': dfp_cases.values, 'PDeaths': dfp_deaths.values}).set_index('states')\n",
    "df_table = df_table.sort_values(by = ['Cases','Deaths'], ascending = [False, False])\n",
    "df_table = df_table.reset_index()\n",
    "df_table.head()"
   ]
  },
  {
   "cell_type": "code",
   "execution_count": 12,
   "id": "found-montreal",
   "metadata": {
    "execution": {
     "iopub.execute_input": "2021-02-16T10:55:20.318441Z",
     "iopub.status.busy": "2021-02-16T10:55:20.317856Z",
     "iopub.status.idle": "2021-02-16T10:55:20.328114Z",
     "shell.execute_reply": "2021-02-16T10:55:20.327629Z"
    },
    "papermill": {
     "duration": 0.03471,
     "end_time": "2021-02-16T10:55:20.328240",
     "exception": false,
     "start_time": "2021-02-16T10:55:20.293530",
     "status": "completed"
    },
    "tags": []
   },
   "outputs": [],
   "source": [
    "#hide\n",
    "for c in 'Cases, Deaths'.split(', '):\n",
    "    df_table[f'{c} (+)'] = (df_table[c] - df_table[f'P{c}']).clip(0)\n",
    "df_table['Fatality Rate'] = (100* df_table['Deaths']/ df_table['Cases']).round(2)"
   ]
  },
  {
   "cell_type": "code",
   "execution_count": 13,
   "id": "minus-savage",
   "metadata": {
    "execution": {
     "iopub.execute_input": "2021-02-16T10:55:20.375238Z",
     "iopub.status.busy": "2021-02-16T10:55:20.374638Z",
     "iopub.status.idle": "2021-02-16T10:55:20.377118Z",
     "shell.execute_reply": "2021-02-16T10:55:20.377663Z"
    },
    "papermill": {
     "duration": 0.03215,
     "end_time": "2021-02-16T10:55:20.377797",
     "exception": false,
     "start_time": "2021-02-16T10:55:20.345647",
     "status": "completed"
    },
    "tags": []
   },
   "outputs": [
    {
     "data": {
      "text/html": [
       "<div>\n",
       "<style scoped>\n",
       "    .dataframe tbody tr th:only-of-type {\n",
       "        vertical-align: middle;\n",
       "    }\n",
       "\n",
       "    .dataframe tbody tr th {\n",
       "        vertical-align: top;\n",
       "    }\n",
       "\n",
       "    .dataframe thead th {\n",
       "        text-align: right;\n",
       "    }\n",
       "</style>\n",
       "<table border=\"1\" class=\"dataframe\">\n",
       "  <thead>\n",
       "    <tr style=\"text-align: right;\">\n",
       "      <th></th>\n",
       "      <th>states</th>\n",
       "      <th>Cases</th>\n",
       "      <th>Deaths</th>\n",
       "      <th>PCases</th>\n",
       "      <th>PDeaths</th>\n",
       "      <th>Cases (+)</th>\n",
       "      <th>Deaths (+)</th>\n",
       "      <th>Fatality Rate</th>\n",
       "    </tr>\n",
       "  </thead>\n",
       "  <tbody>\n",
       "    <tr>\n",
       "      <th>0</th>\n",
       "      <td>Maharashtra</td>\n",
       "      <td>2067643</td>\n",
       "      <td>51552</td>\n",
       "      <td>2067643</td>\n",
       "      <td>51552</td>\n",
       "      <td>0</td>\n",
       "      <td>0</td>\n",
       "      <td>2.49</td>\n",
       "    </tr>\n",
       "    <tr>\n",
       "      <th>1</th>\n",
       "      <td>Kerala</td>\n",
       "      <td>1007020</td>\n",
       "      <td>3999</td>\n",
       "      <td>1007020</td>\n",
       "      <td>3999</td>\n",
       "      <td>0</td>\n",
       "      <td>0</td>\n",
       "      <td>0.40</td>\n",
       "    </tr>\n",
       "    <tr>\n",
       "      <th>2</th>\n",
       "      <td>Karnataka</td>\n",
       "      <td>945638</td>\n",
       "      <td>12267</td>\n",
       "      <td>945638</td>\n",
       "      <td>12267</td>\n",
       "      <td>0</td>\n",
       "      <td>0</td>\n",
       "      <td>1.30</td>\n",
       "    </tr>\n",
       "    <tr>\n",
       "      <th>3</th>\n",
       "      <td>Andhra Pradesh</td>\n",
       "      <td>888899</td>\n",
       "      <td>7163</td>\n",
       "      <td>888899</td>\n",
       "      <td>7163</td>\n",
       "      <td>0</td>\n",
       "      <td>0</td>\n",
       "      <td>0.81</td>\n",
       "    </tr>\n",
       "    <tr>\n",
       "      <th>4</th>\n",
       "      <td>Tamil Nadu</td>\n",
       "      <td>845575</td>\n",
       "      <td>12425</td>\n",
       "      <td>845575</td>\n",
       "      <td>12425</td>\n",
       "      <td>0</td>\n",
       "      <td>0</td>\n",
       "      <td>1.47</td>\n",
       "    </tr>\n",
       "  </tbody>\n",
       "</table>\n",
       "</div>"
      ],
      "text/plain": [
       "           states    Cases  Deaths   PCases  PDeaths  Cases (+)  Deaths (+)  \\\n",
       "0     Maharashtra  2067643   51552  2067643    51552          0           0   \n",
       "1          Kerala  1007020    3999  1007020     3999          0           0   \n",
       "2       Karnataka   945638   12267   945638    12267          0           0   \n",
       "3  Andhra Pradesh   888899    7163   888899     7163          0           0   \n",
       "4      Tamil Nadu   845575   12425   845575    12425          0           0   \n",
       "\n",
       "   Fatality Rate  \n",
       "0           2.49  \n",
       "1           0.40  \n",
       "2           1.30  \n",
       "3           0.81  \n",
       "4           1.47  "
      ]
     },
     "execution_count": 13,
     "metadata": {},
     "output_type": "execute_result"
    }
   ],
   "source": [
    "#hide\n",
    "df_table.head()"
   ]
  },
  {
   "cell_type": "code",
   "execution_count": 14,
   "id": "false-peter",
   "metadata": {
    "execution": {
     "iopub.execute_input": "2021-02-16T10:55:20.420327Z",
     "iopub.status.busy": "2021-02-16T10:55:20.419748Z",
     "iopub.status.idle": "2021-02-16T10:55:20.437038Z",
     "shell.execute_reply": "2021-02-16T10:55:20.436541Z"
    },
    "papermill": {
     "duration": 0.041598,
     "end_time": "2021-02-16T10:55:20.437152",
     "exception": false,
     "start_time": "2021-02-16T10:55:20.395554",
     "status": "completed"
    },
    "tags": []
   },
   "outputs": [
    {
     "data": {
      "text/plain": [
       "{'updated': '2021-02-16',\n",
       " 'since': '2021-02-15',\n",
       " 'Cases': 10925533,\n",
       " 'PCases': 10925533,\n",
       " 'Deaths': 155850,\n",
       " 'PDeaths': 155850,\n",
       " 'Cases (+)': 0,\n",
       " 'Deaths (+)': 0}"
      ]
     },
     "execution_count": 14,
     "metadata": {},
     "output_type": "execute_result"
    }
   ],
   "source": [
    "#hide\n",
    "summary = {'updated':dates[-1], 'since':dates[-2]}\n",
    "list_names = ['Cases', 'PCases', 'Deaths', 'PDeaths', 'Cases (+)', 'Deaths (+)']\n",
    "for name in list_names:\n",
    "    summary[name] = df_table.sum()[name]\n",
    "summary"
   ]
  },
  {
   "cell_type": "code",
   "execution_count": 15,
   "id": "packed-viewer",
   "metadata": {
    "execution": {
     "iopub.execute_input": "2021-02-16T10:55:20.479567Z",
     "iopub.status.busy": "2021-02-16T10:55:20.478972Z",
     "iopub.status.idle": "2021-02-16T10:55:20.481358Z",
     "shell.execute_reply": "2021-02-16T10:55:20.481916Z"
    },
    "papermill": {
     "duration": 0.026696,
     "end_time": "2021-02-16T10:55:20.482045",
     "exception": false,
     "start_time": "2021-02-16T10:55:20.455349",
     "status": "completed"
    },
    "tags": []
   },
   "outputs": [],
   "source": [
    "#hide\n",
    "overview = '''\n",
    "<!-- #######  HTML!! #########-->\n",
    "<h1 style=\"color: #5e9ca0; text-align: center;\">India</h1>\n",
    "<p style=\"text-align: center;\">Last update: <strong>{update}</strong></p>\n",
    "<p style=\"text-align: center;\">Confirmed cases:</p>\n",
    "<p style=\"text-align: center;font-size:24px;\">{cases} (<span style=\"color: #ff0000;\">+{new}</span>)</p>\n",
    "<p style=\"text-align: center;\">Confirmed deaths:</p>\n",
    "<p style=\"text-align: center;font-size:24px;\">{deaths} (<span style=\"color: #ff0000;\">+{dnew}</span>)</p>\n",
    "'''"
   ]
  },
  {
   "cell_type": "code",
   "execution_count": 16,
   "id": "phantom-lover",
   "metadata": {
    "execution": {
     "iopub.execute_input": "2021-02-16T10:55:20.525845Z",
     "iopub.status.busy": "2021-02-16T10:55:20.525264Z",
     "iopub.status.idle": "2021-02-16T10:55:20.528294Z",
     "shell.execute_reply": "2021-02-16T10:55:20.527804Z"
    },
    "papermill": {
     "duration": 0.028284,
     "end_time": "2021-02-16T10:55:20.528406",
     "exception": false,
     "start_time": "2021-02-16T10:55:20.500122",
     "status": "completed"
    },
    "tags": []
   },
   "outputs": [
    {
     "data": {
      "text/html": [
       "\n",
       "<!-- #######  HTML!! #########-->\n",
       "<h1 style=\"color: #5e9ca0; text-align: center;\">India</h1>\n",
       "<p style=\"text-align: center;\">Last update: <strong>2021-02-16</strong></p>\n",
       "<p style=\"text-align: center;\">Confirmed cases:</p>\n",
       "<p style=\"text-align: center;font-size:24px;\">10925533 (<span style=\"color: #ff0000;\">+0</span>)</p>\n",
       "<p style=\"text-align: center;\">Confirmed deaths:</p>\n",
       "<p style=\"text-align: center;font-size:24px;\">155850 (<span style=\"color: #ff0000;\">+0</span>)</p>\n"
      ],
      "text/plain": [
       "<IPython.core.display.HTML object>"
      ]
     },
     "metadata": {},
     "output_type": "display_data"
    }
   ],
   "source": [
    "#hide_input\n",
    "update = summary['updated']\n",
    "cases = summary['Cases']\n",
    "new = summary['Cases (+)']\n",
    "deaths = summary['Deaths']\n",
    "dnew = summary['Deaths (+)']\n",
    "\n",
    "html = HTML(overview.format(update=update, cases=cases,new=new,deaths=deaths,dnew=dnew))\n",
    "\n",
    "display(html)"
   ]
  },
  {
   "cell_type": "code",
   "execution_count": 17,
   "id": "sealed-reset",
   "metadata": {
    "execution": {
     "iopub.execute_input": "2021-02-16T10:55:20.573076Z",
     "iopub.status.busy": "2021-02-16T10:55:20.572493Z",
     "iopub.status.idle": "2021-02-16T10:55:20.579811Z",
     "shell.execute_reply": "2021-02-16T10:55:20.580309Z"
    },
    "papermill": {
     "duration": 0.033809,
     "end_time": "2021-02-16T10:55:20.580437",
     "exception": false,
     "start_time": "2021-02-16T10:55:20.546628",
     "status": "completed"
    },
    "tags": []
   },
   "outputs": [],
   "source": [
    "#hide\n",
    "dt_cols = list(dft_cases.columns[1:])\n",
    "dft_ct_new_cases = dft_cases.groupby('state')[dt_cols].sum().diff(axis=1).fillna(0).astype(int)\n",
    "dft_ct_new_cases.sort_values(by = dates[-1], ascending = False,inplace = True)"
   ]
  },
  {
   "cell_type": "code",
   "execution_count": 18,
   "id": "designed-constant",
   "metadata": {
    "execution": {
     "iopub.execute_input": "2021-02-16T10:55:20.635913Z",
     "iopub.status.busy": "2021-02-16T10:55:20.635328Z",
     "iopub.status.idle": "2021-02-16T10:55:20.638388Z",
     "shell.execute_reply": "2021-02-16T10:55:20.637895Z"
    },
    "papermill": {
     "duration": 0.039855,
     "end_time": "2021-02-16T10:55:20.638519",
     "exception": false,
     "start_time": "2021-02-16T10:55:20.598664",
     "status": "completed"
    },
    "tags": []
   },
   "outputs": [
    {
     "data": {
      "text/html": [
       "<div>\n",
       "<style scoped>\n",
       "    .dataframe tbody tr th:only-of-type {\n",
       "        vertical-align: middle;\n",
       "    }\n",
       "\n",
       "    .dataframe tbody tr th {\n",
       "        vertical-align: top;\n",
       "    }\n",
       "\n",
       "    .dataframe thead th {\n",
       "        text-align: right;\n",
       "    }\n",
       "</style>\n",
       "<table border=\"1\" class=\"dataframe\">\n",
       "  <thead>\n",
       "    <tr style=\"text-align: right;\">\n",
       "      <th>states</th>\n",
       "      <th>2020-07-01</th>\n",
       "      <th>2020-07-02</th>\n",
       "      <th>2020-07-03</th>\n",
       "      <th>2020-07-04</th>\n",
       "      <th>2020-07-05</th>\n",
       "      <th>2020-07-06</th>\n",
       "      <th>2020-07-07</th>\n",
       "      <th>2020-07-08</th>\n",
       "      <th>2020-07-09</th>\n",
       "      <th>2020-07-10</th>\n",
       "      <th>...</th>\n",
       "      <th>2021-02-07</th>\n",
       "      <th>2021-02-08</th>\n",
       "      <th>2021-02-09</th>\n",
       "      <th>2021-02-10</th>\n",
       "      <th>2021-02-11</th>\n",
       "      <th>2021-02-12</th>\n",
       "      <th>2021-02-13</th>\n",
       "      <th>2021-02-14</th>\n",
       "      <th>2021-02-15</th>\n",
       "      <th>2021-02-16</th>\n",
       "    </tr>\n",
       "    <tr>\n",
       "      <th>state</th>\n",
       "      <th></th>\n",
       "      <th></th>\n",
       "      <th></th>\n",
       "      <th></th>\n",
       "      <th></th>\n",
       "      <th></th>\n",
       "      <th></th>\n",
       "      <th></th>\n",
       "      <th></th>\n",
       "      <th></th>\n",
       "      <th></th>\n",
       "      <th></th>\n",
       "      <th></th>\n",
       "      <th></th>\n",
       "      <th></th>\n",
       "      <th></th>\n",
       "      <th></th>\n",
       "      <th></th>\n",
       "      <th></th>\n",
       "      <th></th>\n",
       "      <th></th>\n",
       "    </tr>\n",
       "  </thead>\n",
       "  <tbody>\n",
       "    <tr>\n",
       "      <th>Andaman and Nicobar Islands</th>\n",
       "      <td>0</td>\n",
       "      <td>9</td>\n",
       "      <td>7</td>\n",
       "      <td>3</td>\n",
       "      <td>6</td>\n",
       "      <td>16</td>\n",
       "      <td>6</td>\n",
       "      <td>2</td>\n",
       "      <td>7</td>\n",
       "      <td>0</td>\n",
       "      <td>...</td>\n",
       "      <td>1</td>\n",
       "      <td>4</td>\n",
       "      <td>2</td>\n",
       "      <td>0</td>\n",
       "      <td>0</td>\n",
       "      <td>0</td>\n",
       "      <td>2</td>\n",
       "      <td>0</td>\n",
       "      <td>0</td>\n",
       "      <td>0</td>\n",
       "    </tr>\n",
       "    <tr>\n",
       "      <th>Andhra Pradesh</th>\n",
       "      <td>0</td>\n",
       "      <td>845</td>\n",
       "      <td>837</td>\n",
       "      <td>765</td>\n",
       "      <td>998</td>\n",
       "      <td>1322</td>\n",
       "      <td>1178</td>\n",
       "      <td>1062</td>\n",
       "      <td>1555</td>\n",
       "      <td>1608</td>\n",
       "      <td>...</td>\n",
       "      <td>73</td>\n",
       "      <td>62</td>\n",
       "      <td>70</td>\n",
       "      <td>50</td>\n",
       "      <td>87</td>\n",
       "      <td>68</td>\n",
       "      <td>54</td>\n",
       "      <td>55</td>\n",
       "      <td>30</td>\n",
       "      <td>0</td>\n",
       "    </tr>\n",
       "    <tr>\n",
       "      <th>Maharashtra</th>\n",
       "      <td>0</td>\n",
       "      <td>6328</td>\n",
       "      <td>6364</td>\n",
       "      <td>7074</td>\n",
       "      <td>6555</td>\n",
       "      <td>5368</td>\n",
       "      <td>5134</td>\n",
       "      <td>6603</td>\n",
       "      <td>6875</td>\n",
       "      <td>7862</td>\n",
       "      <td>...</td>\n",
       "      <td>2673</td>\n",
       "      <td>2216</td>\n",
       "      <td>2515</td>\n",
       "      <td>3451</td>\n",
       "      <td>652</td>\n",
       "      <td>3670</td>\n",
       "      <td>3611</td>\n",
       "      <td>4092</td>\n",
       "      <td>3365</td>\n",
       "      <td>0</td>\n",
       "    </tr>\n",
       "    <tr>\n",
       "      <th>Manipur</th>\n",
       "      <td>0</td>\n",
       "      <td>19</td>\n",
       "      <td>37</td>\n",
       "      <td>9</td>\n",
       "      <td>41</td>\n",
       "      <td>24</td>\n",
       "      <td>40</td>\n",
       "      <td>5</td>\n",
       "      <td>15</td>\n",
       "      <td>132</td>\n",
       "      <td>...</td>\n",
       "      <td>9</td>\n",
       "      <td>4</td>\n",
       "      <td>7</td>\n",
       "      <td>11</td>\n",
       "      <td>7</td>\n",
       "      <td>11</td>\n",
       "      <td>17</td>\n",
       "      <td>13</td>\n",
       "      <td>8</td>\n",
       "      <td>0</td>\n",
       "    </tr>\n",
       "    <tr>\n",
       "      <th>Meghalaya</th>\n",
       "      <td>0</td>\n",
       "      <td>3</td>\n",
       "      <td>4</td>\n",
       "      <td>8</td>\n",
       "      <td>2</td>\n",
       "      <td>16</td>\n",
       "      <td>6</td>\n",
       "      <td>6</td>\n",
       "      <td>13</td>\n",
       "      <td>73</td>\n",
       "      <td>...</td>\n",
       "      <td>40</td>\n",
       "      <td>1</td>\n",
       "      <td>7</td>\n",
       "      <td>31</td>\n",
       "      <td>7</td>\n",
       "      <td>1</td>\n",
       "      <td>5</td>\n",
       "      <td>5</td>\n",
       "      <td>0</td>\n",
       "      <td>0</td>\n",
       "    </tr>\n",
       "  </tbody>\n",
       "</table>\n",
       "<p>5 rows × 231 columns</p>\n",
       "</div>"
      ],
      "text/plain": [
       "states                       2020-07-01  2020-07-02  2020-07-03  2020-07-04  \\\n",
       "state                                                                         \n",
       "Andaman and Nicobar Islands           0           9           7           3   \n",
       "Andhra Pradesh                        0         845         837         765   \n",
       "Maharashtra                           0        6328        6364        7074   \n",
       "Manipur                               0          19          37           9   \n",
       "Meghalaya                             0           3           4           8   \n",
       "\n",
       "states                       2020-07-05  2020-07-06  2020-07-07  2020-07-08  \\\n",
       "state                                                                         \n",
       "Andaman and Nicobar Islands           6          16           6           2   \n",
       "Andhra Pradesh                      998        1322        1178        1062   \n",
       "Maharashtra                        6555        5368        5134        6603   \n",
       "Manipur                              41          24          40           5   \n",
       "Meghalaya                             2          16           6           6   \n",
       "\n",
       "states                       2020-07-09  2020-07-10  ...  2021-02-07  \\\n",
       "state                                                ...               \n",
       "Andaman and Nicobar Islands           7           0  ...           1   \n",
       "Andhra Pradesh                     1555        1608  ...          73   \n",
       "Maharashtra                        6875        7862  ...        2673   \n",
       "Manipur                              15         132  ...           9   \n",
       "Meghalaya                            13          73  ...          40   \n",
       "\n",
       "states                       2021-02-08  2021-02-09  2021-02-10  2021-02-11  \\\n",
       "state                                                                         \n",
       "Andaman and Nicobar Islands           4           2           0           0   \n",
       "Andhra Pradesh                       62          70          50          87   \n",
       "Maharashtra                        2216        2515        3451         652   \n",
       "Manipur                               4           7          11           7   \n",
       "Meghalaya                             1           7          31           7   \n",
       "\n",
       "states                       2021-02-12  2021-02-13  2021-02-14  2021-02-15  \\\n",
       "state                                                                         \n",
       "Andaman and Nicobar Islands           0           2           0           0   \n",
       "Andhra Pradesh                       68          54          55          30   \n",
       "Maharashtra                        3670        3611        4092        3365   \n",
       "Manipur                              11          17          13           8   \n",
       "Meghalaya                             1           5           5           0   \n",
       "\n",
       "states                       2021-02-16  \n",
       "state                                    \n",
       "Andaman and Nicobar Islands           0  \n",
       "Andhra Pradesh                        0  \n",
       "Maharashtra                           0  \n",
       "Manipur                               0  \n",
       "Meghalaya                             0  \n",
       "\n",
       "[5 rows x 231 columns]"
      ]
     },
     "execution_count": 18,
     "metadata": {},
     "output_type": "execute_result"
    }
   ],
   "source": [
    "#hide\n",
    "dft_ct_new_cases.head()"
   ]
  },
  {
   "cell_type": "code",
   "execution_count": 19,
   "id": "responsible-nightlife",
   "metadata": {
    "execution": {
     "iopub.execute_input": "2021-02-16T10:55:20.694400Z",
     "iopub.status.busy": "2021-02-16T10:55:20.689074Z",
     "iopub.status.idle": "2021-02-16T10:55:28.452290Z",
     "shell.execute_reply": "2021-02-16T10:55:28.452766Z"
    },
    "papermill": {
     "duration": 7.795431,
     "end_time": "2021-02-16T10:55:28.452918",
     "exception": false,
     "start_time": "2021-02-16T10:55:20.657487",
     "status": "completed"
    },
    "tags": []
   },
   "outputs": [
    {
     "data": {
      "image/png": "[encoded data removed]",
      "text/plain": [
       "<Figure size 1296x2016 with 11 Axes>"
      ]
     },
     "metadata": {
      "needs_background": "light"
     },
     "output_type": "display_data"
    }
   ],
   "source": [
    "#hide_input\n",
    "df = dft_ct_new_cases.copy()\n",
    "df.loc['Total'] = df.sum()\n",
    "n = 5\n",
    "ax = []\n",
    "fig = plt.figure(figsize = (18,28))\n",
    "gs = fig.add_gridspec(n+2, 5)\n",
    "# gs = fig.add_gridspec(2, 3)\n",
    "ax1 = fig.add_subplot(gs[0, :])\n",
    "ef = df.loc['Total'].rename_axis('date').reset_index()\n",
    "ef['date'] = ef['date'].astype('datetime64[ns]')\n",
    "ax1.bar(ef.date,ef.Total,alpha=0.3,color='#007acc')\n",
    "ax1.plot(ef.date,ef.Total , marker=\"o\", color='#007acc')\n",
    "ax1.xaxis.set_major_locator(mdates.WeekdayLocator())\n",
    "ax1.xaxis.set_major_formatter(mdates.DateFormatter('%b %d'))\n",
    "ax1.text(0.02, 0.5,'India daily case count', transform = ax1.transAxes, fontsize=25);\n",
    "ax1.spines['right'].set_visible(False)\n",
    "ax1.spines['top'].set_visible(False)\n",
    "\n",
    "ax2 = fig.add_subplot(gs[1,0])\n",
    "ef = df.loc['Maharashtra'].rename_axis('date').reset_index()\n",
    "ef['date'] = ef['date'].astype('datetime64[ns]')\n",
    "\n",
    "ax2.bar(ef.date, ef.Maharashtra,color = '#007acc',alpha=0.5)\n",
    "ax2.xaxis.set_major_locator(mdates.WeekdayLocator())\n",
    "ax2.xaxis.set_major_formatter(mdates.DateFormatter('%b %d'))\n",
    "ax2.set_xticks(ax2.get_xticks()[::3])\n",
    "maxyval = ef.Maharashtra.max()\n",
    "ax2.set_ylim([0,maxyval])\n",
    "ax2.text(0.05, 0.9,'Maharashtra', transform = ax2.transAxes, fontsize=20);\n",
    "ax2.spines['right'].set_visible(False)\n",
    "ax2.spines['top'].set_visible(False)\n",
    "\n",
    "\n",
    "ax3 = fig.add_subplot(gs[1,1])\n",
    "ef = df.loc['Tamil Nadu'].rename_axis('date').reset_index()\n",
    "ef['date'] = ef['date'].astype('datetime64[ns]')\n",
    "ax3.bar(ef.date, ef['Tamil Nadu'],color = '#007acc',alpha=0.5,)\n",
    "ax3.xaxis.set_major_locator(mdates.WeekdayLocator())\n",
    "ax3.xaxis.set_major_formatter(mdates.DateFormatter('%b %d'))\n",
    "ax3.set_xticks(ax3.get_xticks()[::3])\n",
    "ax3.text(0.05, 0.9,'Tamil Nadu', transform = ax3.transAxes, fontsize=20);\n",
    "ax3.spines['right'].set_visible(False)\n",
    "ax3.spines['top'].set_visible(False)\n",
    "\n",
    "ax5 = fig.add_subplot(gs[1,3])\n",
    "ef = df.loc['Telangana'].rename_axis('date').reset_index()\n",
    "ef['date'] = ef['date'].astype('datetime64[ns]')\n",
    "ax5.bar(ef.date, ef['Telangana'],color = '#007acc',alpha=0.5,)\n",
    "ax5.xaxis.set_major_locator(mdates.WeekdayLocator())\n",
    "ax5.xaxis.set_major_formatter(mdates.DateFormatter('%b %d'))\n",
    "ax5.set_xticks(ax5.get_xticks()[::3])\n",
    "ax5.text(0.05, 0.9,'Telangana', transform = ax5.transAxes, fontsize=20);\n",
    "ax5.spines['right'].set_visible(False)\n",
    "ax5.spines['top'].set_visible(False)\n",
    "\n",
    "ax6 = fig.add_subplot(gs[1,4])\n",
    "ef = df.loc['Andhra Pradesh'].rename_axis('date').reset_index()\n",
    "ef['date'] = ef['date'].astype('datetime64[ns]')\n",
    "ax6.bar(ef.date, ef['Andhra Pradesh'],color = '#007acc',alpha=0.5,)\n",
    "ax6.xaxis.set_major_locator(mdates.WeekdayLocator())\n",
    "ax6.xaxis.set_major_formatter(mdates.DateFormatter('%b %d'))\n",
    "ax6.set_xticks(ax6.get_xticks()[::3])\n",
    "ax6.text(0.05, 1,'Andhra Pradesh', transform = ax6.transAxes, fontsize=20);\n",
    "ax6.spines['right'].set_visible(False)\n",
    "ax6.spines['top'].set_visible(False)\n",
    "\n",
    "ax4 = fig.add_subplot(gs[1,2])\n",
    "ef = df.loc['Delhi'].rename_axis('date').reset_index()\n",
    "ef['date'] = ef['date'].astype('datetime64[ns]')\n",
    "ax4.bar(ef.date, ef.Delhi,color = '#007acc',alpha=0.5)\n",
    "ax4.set_xticks([])\n",
    "ax4.xaxis.set_major_locator(mdates.WeekdayLocator())\n",
    "ax4.xaxis.set_major_formatter(mdates.DateFormatter('%b %d'))\n",
    "ax4.set_xticks(ax4.get_xticks()[::3])\n",
    "ax4.spines['right'].set_visible(False)\n",
    "ax4.spines['top'].set_visible(False)\n",
    "\n",
    "ax4.text(0.05, 1,'Delhi', transform = ax4.transAxes, fontsize=20)\n",
    "\n",
    "for i in range(n):\n",
    "    \n",
    "    ax.append(fig.add_subplot(gs[i+2,:]))\n",
    "    ef = df.iloc[i+3].rename_axis('date').reset_index()\n",
    "    ef['date'] = ef['date'].astype('datetime64[ns]')\n",
    "    ax[i].bar(ef.date,ef.iloc[:,-1],color = '#007acc',alpha=0.3)\n",
    "    ax[i].plot(ef.date,ef.iloc[:,-1],marker='o',color='#007acc')\n",
    "    ax[i].text(0.02,0.5,f'{ef.columns.values[-1]}',transform = ax[i].transAxes, fontsize = 20);\n",
    "    ax[i].xaxis.set_major_locator(mdates.WeekdayLocator())\n",
    "    ax[i].xaxis.set_major_formatter(mdates.DateFormatter('%b %d'))\n",
    "    ax[i].set_ylim([0,7000])\n",
    "    ax[i].spines['right'].set_visible(False)\n",
    "    ax[i].spines['top'].set_visible(False)\n",
    "plt.tight_layout()\n"
   ]
  },
  {
   "cell_type": "code",
   "execution_count": 20,
   "id": "dress-forge",
   "metadata": {
    "execution": {
     "iopub.execute_input": "2021-02-16T10:55:28.510518Z",
     "iopub.status.busy": "2021-02-16T10:55:28.504216Z",
     "iopub.status.idle": "2021-02-16T10:55:28.514375Z",
     "shell.execute_reply": "2021-02-16T10:55:28.514849Z"
    },
    "papermill": {
     "duration": 0.037758,
     "end_time": "2021-02-16T10:55:28.514994",
     "exception": false,
     "start_time": "2021-02-16T10:55:28.477236",
     "status": "completed"
    },
    "tags": []
   },
   "outputs": [
    {
     "name": "stdout",
     "output_type": "stream",
     "text": [
      "                                   states    Cases  Deaths   PCases  PDeaths  Cases (+)  Deaths (+)  Fatality Rate\n",
      "                              Maharashtra  2067643   51552  2067643    51552          0           0           2.49\n",
      "                                   Kerala  1007020    3999  1007020     3999          0           0           0.40\n",
      "                                Karnataka   945638   12267   945638    12267          0           0           1.30\n",
      "                           Andhra Pradesh   888899    7163   888899     7163          0           0           0.81\n",
      "                               Tamil Nadu   845575   12425   845575    12425          0           0           1.47\n",
      "                                    Delhi   637087   10893   637087    10893          0           0           1.71\n",
      "                            Uttar Pradesh   602248    8704   602248     8704          0           0           1.45\n",
      "                              West Bengal   572728   10233   572728    10233          0           0           1.79\n",
      "                                   Odisha   336262    1964   336262     1964          0           0           0.58\n",
      "                                Rajasthan   319005    2781   319005     2781          0           0           0.87\n",
      "                             Chhattisgarh   309373    3777   309373     3777          0           0           1.22\n",
      "                                Telangana   296666    1618   296666     1618          0           0           0.55\n",
      "                                  Haryana   269154    3039   269154     3039          0           0           1.13\n",
      "                                  Gujarat   265493    4401   265493     4401          0           0           1.66\n",
      "                                    Bihar   261785    1527   261785     1527          0           0           0.58\n",
      "                           Madhya Pradesh   257849    3838   257849     3838          0           0           1.49\n",
      "                                    Assam   217304    1089   217304     1089          0           0           0.50\n",
      "                                   Punjab   176520    5707   176520     5707          0           0           3.23\n",
      "                        Jammu and Kashmir   125405    1951   125405     1951          0           0           1.56\n",
      "                                Jharkhand   119362    1085   119362     1085          0           0           0.91\n",
      "                              Uttarakhand    96867    1680    96867     1680          0           0           1.73\n",
      "                         Himachal Pradesh    58243     981    58243      981          0           0           1.68\n",
      "                                      Goa    54275     781    54275      781          0           0           1.44\n",
      "                               Puducherry    39468     658    39468      658          0           0           1.67\n",
      "                                  Tripura    33350     388    33350      388          0           0           1.16\n",
      "                                  Manipur    29204     373    29204      373          0           0           1.28\n",
      "                               Chandigarh    21238     345    21238      345          0           0           1.62\n",
      "                        Arunachal Pradesh    16833      56    16833       56          0           0           0.33\n",
      "                                Meghalaya    13942     148    13942      148          0           0           1.06\n",
      "                                 Nagaland    12189      88    12189       88          0           0           0.72\n",
      "                                   Ladakh     9773     130     9773      130          0           0           1.33\n",
      "                                   Sikkim     6118     135     6118      135          0           0           2.21\n",
      "              Andaman and Nicobar Islands     5009      62     5009       62          0           0           1.24\n",
      "                                  Mizoram     4392      10     4392       10          0           0           0.23\n",
      " Dadra and Nagar Haveli and Daman and Diu     3382       2     3382        2          0           0           0.06\n",
      "                              Lakshadweep      234       0      234        0          0           0           0.00\n"
     ]
    }
   ],
   "source": [
    "#hide_input\n",
    "print(df_table.to_string(index=False))"
   ]
  },
  {
   "cell_type": "code",
   "execution_count": null,
   "id": "quantitative-legend",
   "metadata": {
    "papermill": {
     "duration": 0.026162,
     "end_time": "2021-02-16T10:55:28.566557",
     "exception": false,
     "start_time": "2021-02-16T10:55:28.540395",
     "status": "completed"
    },
    "tags": []
   },
   "outputs": [],
   "source": []
  },
  {
   "cell_type": "code",
   "execution_count": null,
   "id": "distant-acoustic",
   "metadata": {
    "papermill": {
     "duration": 0.024707,
     "end_time": "2021-02-16T10:55:28.616059",
     "exception": false,
     "start_time": "2021-02-16T10:55:28.591352",
     "status": "completed"
    },
    "tags": []
   },
   "outputs": [],
   "source": []
  }
 ],
 "metadata": {
  "kernelspec": {
   "display_name": "Python 3",
   "language": "python",
   "name": "python3"
  },
  "language_info": {
   "codemirror_mode": {
    "name": "ipython",
    "version": 3
   },
   "file_extension": ".py",
   "mimetype": "text/x-python",
   "name": "python",
   "nbconvert_exporter": "python",
   "pygments_lexer": "ipython3",
   "version": "3.6.12"
  },
  "papermill": {
   "duration": 18.053835,
   "end_time": "2021-02-16T10:55:29.148665",
   "environment_variables": {},
   "exception": null,
   "input_path": "latest.ipynb",
   "output_path": "latest.ipynb",
   "parameters": {},
   "start_time": "2021-02-16T10:55:11.094830",
   "version": "2.1.2"
  }
 },
 "nbformat": 4,
 "nbformat_minor": 5
}