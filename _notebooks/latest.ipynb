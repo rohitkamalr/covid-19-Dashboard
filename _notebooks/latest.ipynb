{
 "cells": [
  {
   "cell_type": "markdown",
   "id": "colored-stack",
   "metadata": {
    "papermill": {
     "duration": 0.018084,
     "end_time": "2021-05-23T11:56:00.803472",
     "exception": false,
     "start_time": "2021-05-23T11:56:00.785388",
     "status": "completed"
    },
    "tags": []
   },
   "source": [
    "# Latest COVID-19 India Matplotlib Overview"
   ]
  },
  {
   "cell_type": "code",
   "execution_count": 1,
   "id": "light-proportion",
   "metadata": {
    "execution": {
     "iopub.execute_input": "2021-05-23T11:56:00.845005Z",
     "iopub.status.busy": "2021-05-23T11:56:00.844280Z",
     "iopub.status.idle": "2021-05-23T11:56:01.342787Z",
     "shell.execute_reply": "2021-05-23T11:56:01.342174Z"
    },
    "papermill": {
     "duration": 0.525307,
     "end_time": "2021-05-23T11:56:01.342902",
     "exception": false,
     "start_time": "2021-05-23T11:56:00.817595",
     "status": "completed"
    },
    "tags": []
   },
   "outputs": [],
   "source": [
    "#hide\n",
    "import pandas as pd\n",
    "import numpy as np\n",
    "import requests\n",
    "import json\n",
    "import matplotlib.pyplot as plt\n",
    "import matplotlib.dates as mdates\n",
    "import matplotlib as mpl\n",
    "from IPython.core.display import display,HTML\n",
    "%matplotlib inline\n",
    "from datetime import date"
   ]
  },
  {
   "cell_type": "code",
   "execution_count": 2,
   "id": "greenhouse-shooting",
   "metadata": {
    "execution": {
     "iopub.execute_input": "2021-05-23T11:56:01.383505Z",
     "iopub.status.busy": "2021-05-23T11:56:01.383089Z",
     "iopub.status.idle": "2021-05-23T11:56:01.664591Z",
     "shell.execute_reply": "2021-05-23T11:56:01.663633Z"
    },
    "papermill": {
     "duration": 0.305988,
     "end_time": "2021-05-23T11:56:01.664796",
     "exception": false,
     "start_time": "2021-05-23T11:56:01.358808",
     "status": "completed"
    },
    "tags": []
   },
   "outputs": [],
   "source": [
    "#hide\n",
    "df  = pd.read_csv('https://api.covid19india.org/csv/latest/states.csv')\n",
    "df = df[['Date','State','Confirmed','Deceased']]\n",
    "df = df.rename(columns={'Confirmed':'Cases', \"Deceased\":'Deaths'})\n",
    "df_cases = df[[\"Date\",'State','Cases']]\n",
    "df_deaths = df[['Date','State','Deaths']]\n",
    "df_cases1 = df_cases.groupby('Date')\n",
    "df_deaths1= df_deaths.groupby('Date')"
   ]
  },
  {
   "cell_type": "code",
   "execution_count": 3,
   "id": "hybrid-cathedral",
   "metadata": {
    "execution": {
     "iopub.execute_input": "2021-05-23T11:56:01.700379Z",
     "iopub.status.busy": "2021-05-23T11:56:01.699799Z",
     "iopub.status.idle": "2021-05-23T11:56:01.717936Z",
     "shell.execute_reply": "2021-05-23T11:56:01.718417Z"
    },
    "papermill": {
     "duration": 0.038331,
     "end_time": "2021-05-23T11:56:01.718673",
     "exception": false,
     "start_time": "2021-05-23T11:56:01.680342",
     "status": "completed"
    },
    "tags": []
   },
   "outputs": [],
   "source": [
    "#hide\n",
    "df_snap = pd.read_csv('data/SnapshotCases-28-July.csv')\n",
    "arr_states = df_snap['states'].unique()\n",
    "arr_dates = df['Date'].unique()\n",
    "df_snap = df_snap.set_index('states')"
   ]
  },
  {
   "cell_type": "code",
   "execution_count": 4,
   "id": "interior-belfast",
   "metadata": {
    "execution": {
     "iopub.execute_input": "2021-05-23T11:56:01.762270Z",
     "iopub.status.busy": "2021-05-23T11:56:01.761719Z",
     "iopub.status.idle": "2021-05-23T11:56:01.764181Z",
     "shell.execute_reply": "2021-05-23T11:56:01.764616Z"
    },
    "papermill": {
     "duration": 0.029109,
     "end_time": "2021-05-23T11:56:01.764732",
     "exception": false,
     "start_time": "2021-05-23T11:56:01.735623",
     "status": "completed"
    },
    "tags": []
   },
   "outputs": [
    {
     "data": {
      "text/plain": [
       "array(['Andaman and Nicobar Islands', 'Andhra Pradesh',\n",
       "       'Arunachal Pradesh', 'Assam', 'Bihar', 'Chandigarh',\n",
       "       'Dadra and Nagar Haveli and Daman and Diu', 'Delhi', 'Goa',\n",
       "       'Gujarat', 'Haryana', 'Himachal Pradesh', 'Jammu and Kashmir',\n",
       "       'Jharkhand', 'Karnataka', 'Kerala', 'Lakshadweep',\n",
       "       'Madhya Pradesh', 'Maharashtra', 'Manipur', 'Meghalaya', 'Mizoram',\n",
       "       'Nagaland', 'Odisha', 'Puducherry', 'Punjab', 'Rajasthan',\n",
       "       'Sikkim', 'Tamil Nadu', 'Telangana', 'Tripura', 'Uttar Pradesh',\n",
       "       'West Bengal', 'Chhattisgarh', 'Ladakh', 'Uttarakhand'],\n",
       "      dtype=object)"
      ]
     },
     "execution_count": 4,
     "metadata": {},
     "output_type": "execute_result"
    }
   ],
   "source": [
    "#hide\n",
    "arr_states[-9] = 'Puducherry'\n",
    "arr_states[-10] = 'Odisha'\n",
    "arr_states[6] = 'Dadra and Nagar Haveli and Daman and Diu'\n",
    "arr_states = np.append(arr_states,np.array(['Chhattisgarh','Ladakh','Uttarakhand']))\n",
    "arr_states"
   ]
  },
  {
   "cell_type": "code",
   "execution_count": 5,
   "id": "behind-manner",
   "metadata": {
    "execution": {
     "iopub.execute_input": "2021-05-23T11:56:01.814769Z",
     "iopub.status.busy": "2021-05-23T11:56:01.814263Z",
     "iopub.status.idle": "2021-05-23T11:56:01.823485Z",
     "shell.execute_reply": "2021-05-23T11:56:01.823025Z"
    },
    "papermill": {
     "duration": 0.041462,
     "end_time": "2021-05-23T11:56:01.823595",
     "exception": false,
     "start_time": "2021-05-23T11:56:01.782133",
     "status": "completed"
    },
    "tags": []
   },
   "outputs": [],
   "source": [
    "#hide\n",
    "dates = []\n",
    "for i in arr_dates:\n",
    "    if i>='2020-07-01':\n",
    "        dates.append(i)\n",
    "dict = {'states':dates}\n",
    "for i in arr_states:\n",
    "    dict[i] = [0]*len(dates)\n",
    "dft_cases = pd.DataFrame(dict)\n",
    "dft_deaths = pd.DataFrame(dict)\n"
   ]
  },
  {
   "cell_type": "code",
   "execution_count": 6,
   "id": "simplified-peter",
   "metadata": {
    "execution": {
     "iopub.execute_input": "2021-05-23T11:56:01.858942Z",
     "iopub.status.busy": "2021-05-23T11:56:01.858507Z",
     "iopub.status.idle": "2021-05-23T11:56:05.825302Z",
     "shell.execute_reply": "2021-05-23T11:56:05.824412Z"
    },
    "papermill": {
     "duration": 3.98761,
     "end_time": "2021-05-23T11:56:05.825519",
     "exception": false,
     "start_time": "2021-05-23T11:56:01.837909",
     "status": "completed"
    },
    "tags": []
   },
   "outputs": [],
   "source": [
    "#hide\n",
    "for i in range(len(dates)):\n",
    "    df1_deaths = df_deaths1.get_group(dates[i])\n",
    "    for j in range(len(df1_deaths.index)):\n",
    "        if df1_deaths.iloc[j,1] in arr_states:\n",
    "            dft_deaths.loc[i,df1_deaths.iloc[j,1]] = df1_deaths.iloc[j,2]\n",
    "dft_deaths = dft_deaths.set_index('states')"
   ]
  },
  {
   "cell_type": "code",
   "execution_count": 7,
   "id": "geological-welding",
   "metadata": {
    "execution": {
     "iopub.execute_input": "2021-05-23T11:56:05.865040Z",
     "iopub.status.busy": "2021-05-23T11:56:05.864532Z",
     "iopub.status.idle": "2021-05-23T11:56:09.833562Z",
     "shell.execute_reply": "2021-05-23T11:56:09.832640Z"
    },
    "papermill": {
     "duration": 3.991332,
     "end_time": "2021-05-23T11:56:09.833722",
     "exception": false,
     "start_time": "2021-05-23T11:56:05.842390",
     "status": "completed"
    },
    "tags": []
   },
   "outputs": [],
   "source": [
    "#hide\n",
    "for i in range(len(dates)):\n",
    "    df1_cases = df_cases1.get_group(dates[i])\n",
    "    for j in range(len(df1_cases.index)):\n",
    "        if df1_cases.iloc[j,1] in arr_states:\n",
    "            dft_cases.loc[i,df1_cases.iloc[j,1]] = df1_cases.iloc[j,2]\n",
    "dft_cases = dft_cases.set_index('states')"
   ]
  },
  {
   "cell_type": "code",
   "execution_count": 8,
   "id": "binary-ratio",
   "metadata": {
    "execution": {
     "iopub.execute_input": "2021-05-23T11:56:09.873285Z",
     "iopub.status.busy": "2021-05-23T11:56:09.872438Z",
     "iopub.status.idle": "2021-05-23T11:56:09.874040Z",
     "shell.execute_reply": "2021-05-23T11:56:09.874575Z"
    },
    "papermill": {
     "duration": 0.023441,
     "end_time": "2021-05-23T11:56:09.874725",
     "exception": false,
     "start_time": "2021-05-23T11:56:09.851284",
     "status": "completed"
    },
    "tags": []
   },
   "outputs": [],
   "source": [
    "#hide\n",
    "dft_cases = dft_cases.T\n",
    "dft_deaths = dft_deaths.T\n",
    "dt_today = dates[-1]\n",
    "dt_yday = dates[-2]"
   ]
  },
  {
   "cell_type": "code",
   "execution_count": 9,
   "id": "boolean-calculator",
   "metadata": {
    "execution": {
     "iopub.execute_input": "2021-05-23T11:56:09.907821Z",
     "iopub.status.busy": "2021-05-23T11:56:09.907360Z",
     "iopub.status.idle": "2021-05-23T11:56:09.912106Z",
     "shell.execute_reply": "2021-05-23T11:56:09.912599Z"
    },
    "papermill": {
     "duration": 0.024888,
     "end_time": "2021-05-23T11:56:09.912724",
     "exception": false,
     "start_time": "2021-05-23T11:56:09.887836",
     "status": "completed"
    },
    "tags": []
   },
   "outputs": [],
   "source": [
    "#hide\n",
    "dft_cases = dft_cases.reset_index()\n",
    "dft_deaths = dft_deaths.reset_index()\n",
    "dft_cases = dft_cases.rename(columns = {'index':'state'})\n",
    "dft_deaths = dft_deaths.rename(columns = {'index':'state'})"
   ]
  },
  {
   "cell_type": "code",
   "execution_count": 10,
   "id": "invisible-johnston",
   "metadata": {
    "execution": {
     "iopub.execute_input": "2021-05-23T11:56:09.959109Z",
     "iopub.status.busy": "2021-05-23T11:56:09.958462Z",
     "iopub.status.idle": "2021-05-23T11:56:09.961181Z",
     "shell.execute_reply": "2021-05-23T11:56:09.961629Z"
    },
    "papermill": {
     "duration": 0.033653,
     "end_time": "2021-05-23T11:56:09.961765",
     "exception": false,
     "start_time": "2021-05-23T11:56:09.928112",
     "status": "completed"
    },
    "tags": []
   },
   "outputs": [],
   "source": [
    "#hide\n",
    "dfc_cases = dft_cases.groupby('state')[dt_today].sum()\n",
    "dfc_deaths = dft_deaths.groupby('state')[dt_today].sum()\n",
    "dfp_cases = dft_cases.groupby('state')[dt_yday].sum()\n",
    "dfp_deaths = dft_deaths.groupby('state')[dt_yday].sum()"
   ]
  },
  {
   "cell_type": "code",
   "execution_count": 11,
   "id": "measured-great",
   "metadata": {
    "execution": {
     "iopub.execute_input": "2021-05-23T11:56:09.996498Z",
     "iopub.status.busy": "2021-05-23T11:56:09.996031Z",
     "iopub.status.idle": "2021-05-23T11:56:10.008885Z",
     "shell.execute_reply": "2021-05-23T11:56:10.008487Z"
    },
    "papermill": {
     "duration": 0.032626,
     "end_time": "2021-05-23T11:56:10.008983",
     "exception": false,
     "start_time": "2021-05-23T11:56:09.976357",
     "status": "completed"
    },
    "tags": []
   },
   "outputs": [
    {
     "data": {
      "text/html": [
       "<div>\n",
       "<style scoped>\n",
       "    .dataframe tbody tr th:only-of-type {\n",
       "        vertical-align: middle;\n",
       "    }\n",
       "\n",
       "    .dataframe tbody tr th {\n",
       "        vertical-align: top;\n",
       "    }\n",
       "\n",
       "    .dataframe thead th {\n",
       "        text-align: right;\n",
       "    }\n",
       "</style>\n",
       "<table border=\"1\" class=\"dataframe\">\n",
       "  <thead>\n",
       "    <tr style=\"text-align: right;\">\n",
       "      <th></th>\n",
       "      <th>states</th>\n",
       "      <th>Cases</th>\n",
       "      <th>Deaths</th>\n",
       "      <th>PCases</th>\n",
       "      <th>PDeaths</th>\n",
       "    </tr>\n",
       "  </thead>\n",
       "  <tbody>\n",
       "    <tr>\n",
       "      <th>0</th>\n",
       "      <td>Maharashtra</td>\n",
       "      <td>5553225</td>\n",
       "      <td>87300</td>\n",
       "      <td>5553225</td>\n",
       "      <td>87300</td>\n",
       "    </tr>\n",
       "    <tr>\n",
       "      <th>1</th>\n",
       "      <td>Karnataka</td>\n",
       "      <td>2398925</td>\n",
       "      <td>24658</td>\n",
       "      <td>2398925</td>\n",
       "      <td>24658</td>\n",
       "    </tr>\n",
       "    <tr>\n",
       "      <th>2</th>\n",
       "      <td>Kerala</td>\n",
       "      <td>2322147</td>\n",
       "      <td>7171</td>\n",
       "      <td>2322147</td>\n",
       "      <td>7171</td>\n",
       "    </tr>\n",
       "    <tr>\n",
       "      <th>3</th>\n",
       "      <td>Tamil Nadu</td>\n",
       "      <td>1806861</td>\n",
       "      <td>20046</td>\n",
       "      <td>1806861</td>\n",
       "      <td>20046</td>\n",
       "    </tr>\n",
       "    <tr>\n",
       "      <th>4</th>\n",
       "      <td>Uttar Pradesh</td>\n",
       "      <td>1665176</td>\n",
       "      <td>18978</td>\n",
       "      <td>1665176</td>\n",
       "      <td>18978</td>\n",
       "    </tr>\n",
       "  </tbody>\n",
       "</table>\n",
       "</div>"
      ],
      "text/plain": [
       "          states    Cases  Deaths   PCases  PDeaths\n",
       "0    Maharashtra  5553225   87300  5553225    87300\n",
       "1      Karnataka  2398925   24658  2398925    24658\n",
       "2         Kerala  2322147    7171  2322147     7171\n",
       "3     Tamil Nadu  1806861   20046  1806861    20046\n",
       "4  Uttar Pradesh  1665176   18978  1665176    18978"
      ]
     },
     "execution_count": 11,
     "metadata": {},
     "output_type": "execute_result"
    }
   ],
   "source": [
    "#hide\n",
    "df_table = pd.DataFrame({'states': dfc_cases.index, 'Cases': dfc_cases.values, 'Deaths': dfc_deaths.values, 'PCases': dfp_cases.values, 'PDeaths': dfp_deaths.values}).set_index('states')\n",
    "df_table = df_table.sort_values(by = ['Cases','Deaths'], ascending = [False, False])\n",
    "df_table = df_table.reset_index()\n",
    "df_table.head()"
   ]
  },
  {
   "cell_type": "code",
   "execution_count": 12,
   "id": "found-montreal",
   "metadata": {
    "execution": {
     "iopub.execute_input": "2021-05-23T11:56:10.042064Z",
     "iopub.status.busy": "2021-05-23T11:56:10.041145Z",
     "iopub.status.idle": "2021-05-23T11:56:10.049647Z",
     "shell.execute_reply": "2021-05-23T11:56:10.050188Z"
    },
    "papermill": {
     "duration": 0.027248,
     "end_time": "2021-05-23T11:56:10.050323",
     "exception": false,
     "start_time": "2021-05-23T11:56:10.023075",
     "status": "completed"
    },
    "tags": []
   },
   "outputs": [],
   "source": [
    "#hide\n",
    "for c in 'Cases, Deaths'.split(', '):\n",
    "    df_table[f'{c} (+)'] = (df_table[c] - df_table[f'P{c}']).clip(0)\n",
    "df_table['Fatality Rate'] = (100* df_table['Deaths']/ df_table['Cases']).round(2)"
   ]
  },
  {
   "cell_type": "code",
   "execution_count": 13,
   "id": "minus-savage",
   "metadata": {
    "execution": {
     "iopub.execute_input": "2021-05-23T11:56:10.091953Z",
     "iopub.status.busy": "2021-05-23T11:56:10.091468Z",
     "iopub.status.idle": "2021-05-23T11:56:10.097366Z",
     "shell.execute_reply": "2021-05-23T11:56:10.096896Z"
    },
    "papermill": {
     "duration": 0.030961,
     "end_time": "2021-05-23T11:56:10.097458",
     "exception": false,
     "start_time": "2021-05-23T11:56:10.066497",
     "status": "completed"
    },
    "tags": []
   },
   "outputs": [
    {
     "data": {
      "text/html": [
       "<div>\n",
       "<style scoped>\n",
       "    .dataframe tbody tr th:only-of-type {\n",
       "        vertical-align: middle;\n",
       "    }\n",
       "\n",
       "    .dataframe tbody tr th {\n",
       "        vertical-align: top;\n",
       "    }\n",
       "\n",
       "    .dataframe thead th {\n",
       "        text-align: right;\n",
       "    }\n",
       "</style>\n",
       "<table border=\"1\" class=\"dataframe\">\n",
       "  <thead>\n",
       "    <tr style=\"text-align: right;\">\n",
       "      <th></th>\n",
       "      <th>states</th>\n",
       "      <th>Cases</th>\n",
       "      <th>Deaths</th>\n",
       "      <th>PCases</th>\n",
       "      <th>PDeaths</th>\n",
       "      <th>Cases (+)</th>\n",
       "      <th>Deaths (+)</th>\n",
       "      <th>Fatality Rate</th>\n",
       "    </tr>\n",
       "  </thead>\n",
       "  <tbody>\n",
       "    <tr>\n",
       "      <th>0</th>\n",
       "      <td>Maharashtra</td>\n",
       "      <td>5553225</td>\n",
       "      <td>87300</td>\n",
       "      <td>5553225</td>\n",
       "      <td>87300</td>\n",
       "      <td>0</td>\n",
       "      <td>0</td>\n",
       "      <td>1.57</td>\n",
       "    </tr>\n",
       "    <tr>\n",
       "      <th>1</th>\n",
       "      <td>Karnataka</td>\n",
       "      <td>2398925</td>\n",
       "      <td>24658</td>\n",
       "      <td>2398925</td>\n",
       "      <td>24658</td>\n",
       "      <td>0</td>\n",
       "      <td>0</td>\n",
       "      <td>1.03</td>\n",
       "    </tr>\n",
       "    <tr>\n",
       "      <th>2</th>\n",
       "      <td>Kerala</td>\n",
       "      <td>2322147</td>\n",
       "      <td>7171</td>\n",
       "      <td>2322147</td>\n",
       "      <td>7171</td>\n",
       "      <td>0</td>\n",
       "      <td>0</td>\n",
       "      <td>0.31</td>\n",
       "    </tr>\n",
       "    <tr>\n",
       "      <th>3</th>\n",
       "      <td>Tamil Nadu</td>\n",
       "      <td>1806861</td>\n",
       "      <td>20046</td>\n",
       "      <td>1806861</td>\n",
       "      <td>20046</td>\n",
       "      <td>0</td>\n",
       "      <td>0</td>\n",
       "      <td>1.11</td>\n",
       "    </tr>\n",
       "    <tr>\n",
       "      <th>4</th>\n",
       "      <td>Uttar Pradesh</td>\n",
       "      <td>1665176</td>\n",
       "      <td>18978</td>\n",
       "      <td>1665176</td>\n",
       "      <td>18978</td>\n",
       "      <td>0</td>\n",
       "      <td>0</td>\n",
       "      <td>1.14</td>\n",
       "    </tr>\n",
       "  </tbody>\n",
       "</table>\n",
       "</div>"
      ],
      "text/plain": [
       "          states    Cases  Deaths   PCases  PDeaths  Cases (+)  Deaths (+)  \\\n",
       "0    Maharashtra  5553225   87300  5553225    87300          0           0   \n",
       "1      Karnataka  2398925   24658  2398925    24658          0           0   \n",
       "2         Kerala  2322147    7171  2322147     7171          0           0   \n",
       "3     Tamil Nadu  1806861   20046  1806861    20046          0           0   \n",
       "4  Uttar Pradesh  1665176   18978  1665176    18978          0           0   \n",
       "\n",
       "   Fatality Rate  \n",
       "0           1.57  \n",
       "1           1.03  \n",
       "2           0.31  \n",
       "3           1.11  \n",
       "4           1.14  "
      ]
     },
     "execution_count": 13,
     "metadata": {},
     "output_type": "execute_result"
    }
   ],
   "source": [
    "#hide\n",
    "df_table.head()"
   ]
  },
  {
   "cell_type": "code",
   "execution_count": 14,
   "id": "false-peter",
   "metadata": {
    "execution": {
     "iopub.execute_input": "2021-05-23T11:56:10.136491Z",
     "iopub.status.busy": "2021-05-23T11:56:10.135919Z",
     "iopub.status.idle": "2021-05-23T11:56:10.152292Z",
     "shell.execute_reply": "2021-05-23T11:56:10.153178Z"
    },
    "papermill": {
     "duration": 0.040055,
     "end_time": "2021-05-23T11:56:10.153399",
     "exception": false,
     "start_time": "2021-05-23T11:56:10.113344",
     "status": "completed"
    },
    "tags": []
   },
   "outputs": [
    {
     "data": {
      "text/plain": [
       "{'updated': '2021-05-23',\n",
       " 'since': '2021-05-22',\n",
       " 'Cases': 26547143,\n",
       " 'PCases': 26528977,\n",
       " 'Deaths': 299583,\n",
       " 'PDeaths': 299299,\n",
       " 'Cases (+)': 18166,\n",
       " 'Deaths (+)': 284}"
      ]
     },
     "execution_count": 14,
     "metadata": {},
     "output_type": "execute_result"
    }
   ],
   "source": [
    "#hide\n",
    "summary = {'updated':dates[-1], 'since':dates[-2]}\n",
    "list_names = ['Cases', 'PCases', 'Deaths', 'PDeaths', 'Cases (+)', 'Deaths (+)']\n",
    "for name in list_names:\n",
    "    summary[name] = df_table.sum()[name]\n",
    "summary"
   ]
  },
  {
   "cell_type": "code",
   "execution_count": 15,
   "id": "packed-viewer",
   "metadata": {
    "execution": {
     "iopub.execute_input": "2021-05-23T11:56:10.190235Z",
     "iopub.status.busy": "2021-05-23T11:56:10.189675Z",
     "iopub.status.idle": "2021-05-23T11:56:10.193285Z",
     "shell.execute_reply": "2021-05-23T11:56:10.192731Z"
    },
    "papermill": {
     "duration": 0.023213,
     "end_time": "2021-05-23T11:56:10.193399",
     "exception": false,
     "start_time": "2021-05-23T11:56:10.170186",
     "status": "completed"
    },
    "tags": []
   },
   "outputs": [],
   "source": [
    "#hide\n",
    "overview = '''\n",
    "<!-- #######  HTML!! #########-->\n",
    "<h1 style=\"color: #5e9ca0; text-align: center;\">India</h1>\n",
    "<p style=\"text-align: center;\">Last update: <strong>{update}</strong></p>\n",
    "<p style=\"text-align: center;\">Confirmed cases:</p>\n",
    "<p style=\"text-align: center;font-size:24px;\">{cases} (<span style=\"color: #ff0000;\">+{new}</span>)</p>\n",
    "<p style=\"text-align: center;\">Confirmed deaths:</p>\n",
    "<p style=\"text-align: center;font-size:24px;\">{deaths} (<span style=\"color: #ff0000;\">+{dnew}</span>)</p>\n",
    "'''"
   ]
  },
  {
   "cell_type": "code",
   "execution_count": 16,
   "id": "phantom-lover",
   "metadata": {
    "execution": {
     "iopub.execute_input": "2021-05-23T11:56:10.237217Z",
     "iopub.status.busy": "2021-05-23T11:56:10.236607Z",
     "iopub.status.idle": "2021-05-23T11:56:10.240637Z",
     "shell.execute_reply": "2021-05-23T11:56:10.241090Z"
    },
    "papermill": {
     "duration": 0.031983,
     "end_time": "2021-05-23T11:56:10.241216",
     "exception": false,
     "start_time": "2021-05-23T11:56:10.209233",
     "status": "completed"
    },
    "tags": []
   },
   "outputs": [
    {
     "data": {
      "text/html": [
       "\n",
       "<!-- #######  HTML!! #########-->\n",
       "<h1 style=\"color: #5e9ca0; text-align: center;\">India</h1>\n",
       "<p style=\"text-align: center;\">Last update: <strong>2021-05-23</strong></p>\n",
       "<p style=\"text-align: center;\">Confirmed cases:</p>\n",
       "<p style=\"text-align: center;font-size:24px;\">26547143 (<span style=\"color: #ff0000;\">+18166</span>)</p>\n",
       "<p style=\"text-align: center;\">Confirmed deaths:</p>\n",
       "<p style=\"text-align: center;font-size:24px;\">299583 (<span style=\"color: #ff0000;\">+284</span>)</p>\n"
      ],
      "text/plain": [
       "<IPython.core.display.HTML object>"
      ]
     },
     "metadata": {},
     "output_type": "display_data"
    }
   ],
   "source": [
    "#hide_input\n",
    "update = summary['updated']\n",
    "cases = summary['Cases']\n",
    "new = summary['Cases (+)']\n",
    "deaths = summary['Deaths']\n",
    "dnew = summary['Deaths (+)']\n",
    "\n",
    "html = HTML(overview.format(update=update, cases=cases,new=new,deaths=deaths,dnew=dnew))\n",
    "\n",
    "display(html)"
   ]
  },
  {
   "cell_type": "code",
   "execution_count": 17,
   "id": "sealed-reset",
   "metadata": {
    "execution": {
     "iopub.execute_input": "2021-05-23T11:56:10.281532Z",
     "iopub.status.busy": "2021-05-23T11:56:10.281000Z",
     "iopub.status.idle": "2021-05-23T11:56:10.286448Z",
     "shell.execute_reply": "2021-05-23T11:56:10.286754Z"
    },
    "papermill": {
     "duration": 0.029432,
     "end_time": "2021-05-23T11:56:10.286849",
     "exception": false,
     "start_time": "2021-05-23T11:56:10.257417",
     "status": "completed"
    },
    "tags": []
   },
   "outputs": [],
   "source": [
    "#hide\n",
    "dt_cols = list(dft_cases.columns[1:])\n",
    "dft_ct_new_cases = dft_cases.groupby('state')[dt_cols].sum().diff(axis=1).fillna(0).astype(int)\n",
    "dft_ct_new_cases.sort_values(by = dates[-1], ascending = False,inplace = True)"
   ]
  },
  {
   "cell_type": "code",
   "execution_count": 18,
   "id": "designed-constant",
   "metadata": {
    "execution": {
     "iopub.execute_input": "2021-05-23T11:56:10.334002Z",
     "iopub.status.busy": "2021-05-23T11:56:10.333426Z",
     "iopub.status.idle": "2021-05-23T11:56:10.336653Z",
     "shell.execute_reply": "2021-05-23T11:56:10.336288Z"
    },
    "papermill": {
     "duration": 0.032439,
     "end_time": "2021-05-23T11:56:10.336737",
     "exception": false,
     "start_time": "2021-05-23T11:56:10.304298",
     "status": "completed"
    },
    "tags": []
   },
   "outputs": [
    {
     "data": {
      "text/html": [
       "<div>\n",
       "<style scoped>\n",
       "    .dataframe tbody tr th:only-of-type {\n",
       "        vertical-align: middle;\n",
       "    }\n",
       "\n",
       "    .dataframe tbody tr th {\n",
       "        vertical-align: top;\n",
       "    }\n",
       "\n",
       "    .dataframe thead th {\n",
       "        text-align: right;\n",
       "    }\n",
       "</style>\n",
       "<table border=\"1\" class=\"dataframe\">\n",
       "  <thead>\n",
       "    <tr style=\"text-align: right;\">\n",
       "      <th>states</th>\n",
       "      <th>2020-07-01</th>\n",
       "      <th>2020-07-02</th>\n",
       "      <th>2020-07-03</th>\n",
       "      <th>2020-07-04</th>\n",
       "      <th>2020-07-05</th>\n",
       "      <th>2020-07-06</th>\n",
       "      <th>2020-07-07</th>\n",
       "      <th>2020-07-08</th>\n",
       "      <th>2020-07-09</th>\n",
       "      <th>2020-07-10</th>\n",
       "      <th>...</th>\n",
       "      <th>2021-05-14</th>\n",
       "      <th>2021-05-15</th>\n",
       "      <th>2021-05-16</th>\n",
       "      <th>2021-05-17</th>\n",
       "      <th>2021-05-18</th>\n",
       "      <th>2021-05-19</th>\n",
       "      <th>2021-05-20</th>\n",
       "      <th>2021-05-21</th>\n",
       "      <th>2021-05-22</th>\n",
       "      <th>2021-05-23</th>\n",
       "    </tr>\n",
       "    <tr>\n",
       "      <th>state</th>\n",
       "      <th></th>\n",
       "      <th></th>\n",
       "      <th></th>\n",
       "      <th></th>\n",
       "      <th></th>\n",
       "      <th></th>\n",
       "      <th></th>\n",
       "      <th></th>\n",
       "      <th></th>\n",
       "      <th></th>\n",
       "      <th></th>\n",
       "      <th></th>\n",
       "      <th></th>\n",
       "      <th></th>\n",
       "      <th></th>\n",
       "      <th></th>\n",
       "      <th></th>\n",
       "      <th></th>\n",
       "      <th></th>\n",
       "      <th></th>\n",
       "      <th></th>\n",
       "    </tr>\n",
       "  </thead>\n",
       "  <tbody>\n",
       "    <tr>\n",
       "      <th>Odisha</th>\n",
       "      <td>0</td>\n",
       "      <td>229</td>\n",
       "      <td>561</td>\n",
       "      <td>495</td>\n",
       "      <td>469</td>\n",
       "      <td>456</td>\n",
       "      <td>571</td>\n",
       "      <td>527</td>\n",
       "      <td>577</td>\n",
       "      <td>755</td>\n",
       "      <td>...</td>\n",
       "      <td>12390</td>\n",
       "      <td>11805</td>\n",
       "      <td>11732</td>\n",
       "      <td>10757</td>\n",
       "      <td>10321</td>\n",
       "      <td>11099</td>\n",
       "      <td>11498</td>\n",
       "      <td>12523</td>\n",
       "      <td>11108</td>\n",
       "      <td>12852</td>\n",
       "    </tr>\n",
       "    <tr>\n",
       "      <th>Delhi</th>\n",
       "      <td>0</td>\n",
       "      <td>2373</td>\n",
       "      <td>2520</td>\n",
       "      <td>2505</td>\n",
       "      <td>2244</td>\n",
       "      <td>1379</td>\n",
       "      <td>2008</td>\n",
       "      <td>2033</td>\n",
       "      <td>2187</td>\n",
       "      <td>2089</td>\n",
       "      <td>...</td>\n",
       "      <td>8506</td>\n",
       "      <td>6430</td>\n",
       "      <td>6456</td>\n",
       "      <td>4524</td>\n",
       "      <td>4482</td>\n",
       "      <td>3846</td>\n",
       "      <td>3231</td>\n",
       "      <td>3009</td>\n",
       "      <td>2260</td>\n",
       "      <td>1649</td>\n",
       "    </tr>\n",
       "    <tr>\n",
       "      <th>Puducherry</th>\n",
       "      <td>0</td>\n",
       "      <td>63</td>\n",
       "      <td>22</td>\n",
       "      <td>80</td>\n",
       "      <td>42</td>\n",
       "      <td>65</td>\n",
       "      <td>30</td>\n",
       "      <td>110</td>\n",
       "      <td>49</td>\n",
       "      <td>72</td>\n",
       "      <td>...</td>\n",
       "      <td>1974</td>\n",
       "      <td>1598</td>\n",
       "      <td>1961</td>\n",
       "      <td>1446</td>\n",
       "      <td>1797</td>\n",
       "      <td>1759</td>\n",
       "      <td>1957</td>\n",
       "      <td>1702</td>\n",
       "      <td>1445</td>\n",
       "      <td>1448</td>\n",
       "    </tr>\n",
       "    <tr>\n",
       "      <th>Tripura</th>\n",
       "      <td>0</td>\n",
       "      <td>39</td>\n",
       "      <td>93</td>\n",
       "      <td>25</td>\n",
       "      <td>23</td>\n",
       "      <td>111</td>\n",
       "      <td>24</td>\n",
       "      <td>57</td>\n",
       "      <td>16</td>\n",
       "      <td>142</td>\n",
       "      <td>...</td>\n",
       "      <td>552</td>\n",
       "      <td>449</td>\n",
       "      <td>761</td>\n",
       "      <td>335</td>\n",
       "      <td>746</td>\n",
       "      <td>879</td>\n",
       "      <td>720</td>\n",
       "      <td>863</td>\n",
       "      <td>864</td>\n",
       "      <td>876</td>\n",
       "    </tr>\n",
       "    <tr>\n",
       "      <th>Meghalaya</th>\n",
       "      <td>0</td>\n",
       "      <td>3</td>\n",
       "      <td>4</td>\n",
       "      <td>8</td>\n",
       "      <td>2</td>\n",
       "      <td>16</td>\n",
       "      <td>6</td>\n",
       "      <td>6</td>\n",
       "      <td>13</td>\n",
       "      <td>73</td>\n",
       "      <td>...</td>\n",
       "      <td>627</td>\n",
       "      <td>560</td>\n",
       "      <td>569</td>\n",
       "      <td>634</td>\n",
       "      <td>906</td>\n",
       "      <td>872</td>\n",
       "      <td>1183</td>\n",
       "      <td>828</td>\n",
       "      <td>1123</td>\n",
       "      <td>803</td>\n",
       "    </tr>\n",
       "  </tbody>\n",
       "</table>\n",
       "<p>5 rows × 327 columns</p>\n",
       "</div>"
      ],
      "text/plain": [
       "states      2020-07-01  2020-07-02  2020-07-03  2020-07-04  2020-07-05  \\\n",
       "state                                                                    \n",
       "Odisha               0         229         561         495         469   \n",
       "Delhi                0        2373        2520        2505        2244   \n",
       "Puducherry           0          63          22          80          42   \n",
       "Tripura              0          39          93          25          23   \n",
       "Meghalaya            0           3           4           8           2   \n",
       "\n",
       "states      2020-07-06  2020-07-07  2020-07-08  2020-07-09  2020-07-10  ...  \\\n",
       "state                                                                   ...   \n",
       "Odisha             456         571         527         577         755  ...   \n",
       "Delhi             1379        2008        2033        2187        2089  ...   \n",
       "Puducherry          65          30         110          49          72  ...   \n",
       "Tripura            111          24          57          16         142  ...   \n",
       "Meghalaya           16           6           6          13          73  ...   \n",
       "\n",
       "states      2021-05-14  2021-05-15  2021-05-16  2021-05-17  2021-05-18  \\\n",
       "state                                                                    \n",
       "Odisha           12390       11805       11732       10757       10321   \n",
       "Delhi             8506        6430        6456        4524        4482   \n",
       "Puducherry        1974        1598        1961        1446        1797   \n",
       "Tripura            552         449         761         335         746   \n",
       "Meghalaya          627         560         569         634         906   \n",
       "\n",
       "states      2021-05-19  2021-05-20  2021-05-21  2021-05-22  2021-05-23  \n",
       "state                                                                   \n",
       "Odisha           11099       11498       12523       11108       12852  \n",
       "Delhi             3846        3231        3009        2260        1649  \n",
       "Puducherry        1759        1957        1702        1445        1448  \n",
       "Tripura            879         720         863         864         876  \n",
       "Meghalaya          872        1183         828        1123         803  \n",
       "\n",
       "[5 rows x 327 columns]"
      ]
     },
     "execution_count": 18,
     "metadata": {},
     "output_type": "execute_result"
    }
   ],
   "source": [
    "#hide\n",
    "dft_ct_new_cases.head()"
   ]
  },
  {
   "cell_type": "code",
   "execution_count": 19,
   "id": "responsible-nightlife",
   "metadata": {
    "execution": {
     "iopub.execute_input": "2021-05-23T11:56:10.377857Z",
     "iopub.status.busy": "2021-05-23T11:56:10.377426Z",
     "iopub.status.idle": "2021-05-23T11:56:20.829822Z",
     "shell.execute_reply": "2021-05-23T11:56:20.826430Z"
    },
    "papermill": {
     "duration": 10.477332,
     "end_time": "2021-05-23T11:56:20.830044",
     "exception": false,
     "start_time": "2021-05-23T11:56:10.352712",
     "status": "completed"
    },
    "tags": []
   },
   "outputs": [
    {
     "data": {
      "image/png": "[encoded data removed]",
      "text/plain": [
       "<Figure size 1296x2016 with 11 Axes>"
      ]
     },
     "metadata": {
      "needs_background": "light"
     },
     "output_type": "display_data"
    }
   ],
   "source": [
    "#hide_input\n",
    "df = dft_ct_new_cases.copy()\n",
    "df.loc['Total'] = df.sum()\n",
    "n = 5\n",
    "ax = []\n",
    "fig = plt.figure(figsize = (18,28))\n",
    "gs = fig.add_gridspec(n+2, 5)\n",
    "# gs = fig.add_gridspec(2, 3)\n",
    "ax1 = fig.add_subplot(gs[0, :])\n",
    "ef = df.loc['Total'].rename_axis('date').reset_index()\n",
    "ef['date'] = ef['date'].astype('datetime64[ns]')\n",
    "ax1.bar(ef.date,ef.Total,alpha=0.3,color='#007acc')\n",
    "ax1.plot(ef.date,ef.Total , marker=\"o\", color='#007acc')\n",
    "ax1.xaxis.set_major_locator(mdates.WeekdayLocator())\n",
    "ax1.xaxis.set_major_formatter(mdates.DateFormatter('%b %d'))\n",
    "ax1.text(0.02, 0.5,'India daily case count', transform = ax1.transAxes, fontsize=25);\n",
    "ax1.spines['right'].set_visible(False)\n",
    "ax1.spines['top'].set_visible(False)\n",
    "\n",
    "ax2 = fig.add_subplot(gs[1,0])\n",
    "ef = df.loc['Maharashtra'].rename_axis('date').reset_index()\n",
    "ef['date'] = ef['date'].astype('datetime64[ns]')\n",
    "\n",
    "ax2.bar(ef.date, ef.Maharashtra,color = '#007acc',alpha=0.5)\n",
    "ax2.xaxis.set_major_locator(mdates.WeekdayLocator())\n",
    "ax2.xaxis.set_major_formatter(mdates.DateFormatter('%b %d'))\n",
    "ax2.set_xticks(ax2.get_xticks()[::3])\n",
    "maxyval = ef.Maharashtra.max()\n",
    "ax2.set_ylim([0,maxyval])\n",
    "ax2.text(0.05, 0.9,'Maharashtra', transform = ax2.transAxes, fontsize=20);\n",
    "ax2.spines['right'].set_visible(False)\n",
    "ax2.spines['top'].set_visible(False)\n",
    "\n",
    "\n",
    "ax3 = fig.add_subplot(gs[1,1])\n",
    "ef = df.loc['Tamil Nadu'].rename_axis('date').reset_index()\n",
    "ef['date'] = ef['date'].astype('datetime64[ns]')\n",
    "ax3.bar(ef.date, ef['Tamil Nadu'],color = '#007acc',alpha=0.5,)\n",
    "ax3.xaxis.set_major_locator(mdates.WeekdayLocator())\n",
    "ax3.xaxis.set_major_formatter(mdates.DateFormatter('%b %d'))\n",
    "ax3.set_xticks(ax3.get_xticks()[::3])\n",
    "ax3.text(0.05, 0.9,'Tamil Nadu', transform = ax3.transAxes, fontsize=20);\n",
    "ax3.spines['right'].set_visible(False)\n",
    "ax3.spines['top'].set_visible(False)\n",
    "\n",
    "ax5 = fig.add_subplot(gs[1,3])\n",
    "ef = df.loc['Telangana'].rename_axis('date').reset_index()\n",
    "ef['date'] = ef['date'].astype('datetime64[ns]')\n",
    "ax5.bar(ef.date, ef['Telangana'],color = '#007acc',alpha=0.5,)\n",
    "ax5.xaxis.set_major_locator(mdates.WeekdayLocator())\n",
    "ax5.xaxis.set_major_formatter(mdates.DateFormatter('%b %d'))\n",
    "ax5.set_xticks(ax5.get_xticks()[::3])\n",
    "ax5.text(0.05, 0.9,'Telangana', transform = ax5.transAxes, fontsize=20);\n",
    "ax5.spines['right'].set_visible(False)\n",
    "ax5.spines['top'].set_visible(False)\n",
    "\n",
    "ax6 = fig.add_subplot(gs[1,4])\n",
    "ef = df.loc['Andhra Pradesh'].rename_axis('date').reset_index()\n",
    "ef['date'] = ef['date'].astype('datetime64[ns]')\n",
    "ax6.bar(ef.date, ef['Andhra Pradesh'],color = '#007acc',alpha=0.5,)\n",
    "ax6.xaxis.set_major_locator(mdates.WeekdayLocator())\n",
    "ax6.xaxis.set_major_formatter(mdates.DateFormatter('%b %d'))\n",
    "ax6.set_xticks(ax6.get_xticks()[::3])\n",
    "ax6.text(0.05, 1,'Andhra Pradesh', transform = ax6.transAxes, fontsize=20);\n",
    "ax6.spines['right'].set_visible(False)\n",
    "ax6.spines['top'].set_visible(False)\n",
    "\n",
    "ax4 = fig.add_subplot(gs[1,2])\n",
    "ef = df.loc['Delhi'].rename_axis('date').reset_index()\n",
    "ef['date'] = ef['date'].astype('datetime64[ns]')\n",
    "ax4.bar(ef.date, ef.Delhi,color = '#007acc',alpha=0.5)\n",
    "ax4.set_xticks([])\n",
    "ax4.xaxis.set_major_locator(mdates.WeekdayLocator())\n",
    "ax4.xaxis.set_major_formatter(mdates.DateFormatter('%b %d'))\n",
    "ax4.set_xticks(ax4.get_xticks()[::3])\n",
    "ax4.spines['right'].set_visible(False)\n",
    "ax4.spines['top'].set_visible(False)\n",
    "\n",
    "ax4.text(0.05, 1,'Delhi', transform = ax4.transAxes, fontsize=20)\n",
    "\n",
    "for i in range(n):\n",
    "    \n",
    "    ax.append(fig.add_subplot(gs[i+2,:]))\n",
    "    ef = df.iloc[i+3].rename_axis('date').reset_index()\n",
    "    ef['date'] = ef['date'].astype('datetime64[ns]')\n",
    "    ax[i].bar(ef.date,ef.iloc[:,-1],color = '#007acc',alpha=0.3)\n",
    "    ax[i].plot(ef.date,ef.iloc[:,-1],marker='o',color='#007acc')\n",
    "    ax[i].text(0.02,0.5,f'{ef.columns.values[-1]}',transform = ax[i].transAxes, fontsize = 20);\n",
    "    ax[i].xaxis.set_major_locator(mdates.WeekdayLocator())\n",
    "    ax[i].xaxis.set_major_formatter(mdates.DateFormatter('%b %d'))\n",
    "    ax[i].set_ylim([0,7000])\n",
    "    ax[i].spines['right'].set_visible(False)\n",
    "    ax[i].spines['top'].set_visible(False)\n",
    "plt.tight_layout()\n"
   ]
  },
  {
   "cell_type": "code",
   "execution_count": 20,
   "id": "dress-forge",
   "metadata": {
    "execution": {
     "iopub.execute_input": "2021-05-23T11:56:20.881644Z",
     "iopub.status.busy": "2021-05-23T11:56:20.881232Z",
     "iopub.status.idle": "2021-05-23T11:56:20.884432Z",
     "shell.execute_reply": "2021-05-23T11:56:20.884012Z"
    },
    "papermill": {
     "duration": 0.032614,
     "end_time": "2021-05-23T11:56:20.884520",
     "exception": false,
     "start_time": "2021-05-23T11:56:20.851906",
     "status": "completed"
    },
    "tags": []
   },
   "outputs": [
    {
     "name": "stdout",
     "output_type": "stream",
     "text": [
      "                                   states    Cases  Deaths   PCases  PDeaths  Cases (+)  Deaths (+)  Fatality Rate\n",
      "                              Maharashtra  5553225   87300  5553225    87300          0           0           1.57\n",
      "                                Karnataka  2398925   24658  2398925    24658          0           0           1.03\n",
      "                                   Kerala  2322147    7171  2322147     7171          0           0           0.31\n",
      "                               Tamil Nadu  1806861   20046  1806861    20046          0           0           1.11\n",
      "                            Uttar Pradesh  1665176   18978  1665176    18978          0           0           1.14\n",
      "                           Andhra Pradesh  1562060   10022  1562060    10022          0           0           0.64\n",
      "                                    Delhi  1416868   23202  1415219    23013       1649         189           1.64\n",
      "                              West Bengal  1248668   14208  1248668    14208          0           0           1.14\n",
      "                             Chhattisgarh   945694   12494   945694    12494          0           0           1.32\n",
      "                                Rajasthan   909521    7590   909521     7590          0           0           0.83\n",
      "                                  Gujarat   784676    9523   784676     9523          0           0           1.21\n",
      "                           Madhya Pradesh   760963    7483   760963     7483          0           0           0.98\n",
      "                                  Haryana   733628    7415   733628     7415          0           0           1.01\n",
      "                                   Odisha   692382    2537   679530     2509      12852          28           0.37\n",
      "                                    Bihar   685574    4442   685574     4442          0           0           0.65\n",
      "                                Telangana   551035    3106   551035     3106          0           0           0.56\n",
      "                                   Punjab   533973   13089   533973    13089          0           0           2.45\n",
      "                                    Assam   365620    2667   365620     2667          0           0           0.73\n",
      "                                Jharkhand   329072    4801   329072     4801          0           0           1.46\n",
      "                              Uttarakhand   310469    5734   310469     5734          0           0           1.85\n",
      "                        Jammu and Kashmir   267313    3513   267313     3513          0           0           1.31\n",
      "                         Himachal Pradesh   177725    2693   177725     2693          0           0           1.52\n",
      "                                      Goa   144839    2341   144839     2341          0           0           1.62\n",
      "                               Puducherry    96060    1359    94612     1325       1448          34           1.41\n",
      "                               Chandigarh    58129     692    58129      692          0           0           1.19\n",
      "                                  Tripura    46096     460    45220      454        876           6           1.00\n",
      "                                  Manipur    43322     674    43322      674          0           0           1.56\n",
      "                                Meghalaya    29681     457    28878      435        803          22           1.54\n",
      "                        Arunachal Pradesh    23867      95    23867       95          0           0           0.40\n",
      "                                 Nagaland    19845     271    19845      271          0           0           1.37\n",
      "                                   Ladakh    17277     176    17277      176          0           0           1.02\n",
      "                                   Sikkim    13138     224    12814      221        324           3           1.70\n",
      "                                  Mizoram    10220      33    10006       31        214           2           0.32\n",
      " Dadra and Nagar Haveli and Daman and Diu     9856       4     9856        4          0           0           0.04\n",
      "              Andaman and Nicobar Islands     6820     101     6820      101          0           0           1.48\n",
      "                              Lakshadweep     6418      24     6418       24          0           0           0.37\n"
     ]
    }
   ],
   "source": [
    "#hide_input\n",
    "print(df_table.to_string(index=False))"
   ]
  },
  {
   "cell_type": "code",
   "execution_count": null,
   "id": "quantitative-legend",
   "metadata": {
    "papermill": {
     "duration": 0.020244,
     "end_time": "2021-05-23T11:56:20.924948",
     "exception": false,
     "start_time": "2021-05-23T11:56:20.904704",
     "status": "completed"
    },
    "tags": []
   },
   "outputs": [],
   "source": []
  },
  {
   "cell_type": "code",
   "execution_count": null,
   "id": "distant-acoustic",
   "metadata": {
    "papermill": {
     "duration": 0.019865,
     "end_time": "2021-05-23T11:56:20.965837",
     "exception": false,
     "start_time": "2021-05-23T11:56:20.945972",
     "status": "completed"
    },
    "tags": []
   },
   "outputs": [],
   "source": []
  }
 ],
 "metadata": {
  "kernelspec": {
   "display_name": "Python 3",
   "language": "python",
   "name": "python3"
  },
  "language_info": {
   "codemirror_mode": {
    "name": "ipython",
    "version": 3
   },
   "file_extension": ".py",
   "mimetype": "text/x-python",
   "name": "python",
   "nbconvert_exporter": "python",
   "pygments_lexer": "ipython3",
   "version": "3.6.13"
  },
  "papermill": {
   "duration": 21.846338,
   "end_time": "2021-05-23T11:56:21.595633",
   "environment_variables": {},
   "exception": null,
   "input_path": "latest.ipynb",
   "output_path": "latest.ipynb",
   "parameters": {},
   "start_time": "2021-05-23T11:55:59.749295",
   "version": "2.1.2"
  }
 },
 "nbformat": 4,
 "nbformat_minor": 5
}