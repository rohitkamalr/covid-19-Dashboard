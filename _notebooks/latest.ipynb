{
 "cells": [
  {
   "cell_type": "markdown",
   "metadata": {
    "papermill": {
     "duration": 0.022981,
     "end_time": "2020-12-30T15:29:56.834544",
     "exception": false,
     "start_time": "2020-12-30T15:29:56.811563",
     "status": "completed"
    },
    "tags": []
   },
   "source": [
    "# Latest COVID-19 India Matplotlib Overview"
   ]
  },
  {
   "cell_type": "code",
   "execution_count": 1,
   "metadata": {
    "execution": {
     "iopub.execute_input": "2020-12-30T15:29:56.880123Z",
     "iopub.status.busy": "2020-12-30T15:29:56.879450Z",
     "iopub.status.idle": "2020-12-30T15:29:57.460255Z",
     "shell.execute_reply": "2020-12-30T15:29:57.459676Z"
    },
    "papermill": {
     "duration": 0.610622,
     "end_time": "2020-12-30T15:29:57.460413",
     "exception": false,
     "start_time": "2020-12-30T15:29:56.849791",
     "status": "completed"
    },
    "tags": []
   },
   "outputs": [],
   "source": [
    "#hide\n",
    "import pandas as pd\n",
    "import numpy as np\n",
    "import requests\n",
    "import json\n",
    "import matplotlib.pyplot as plt\n",
    "import matplotlib.dates as mdates\n",
    "import matplotlib as mpl\n",
    "from IPython.core.display import display,HTML\n",
    "%matplotlib inline\n",
    "from datetime import date"
   ]
  },
  {
   "cell_type": "code",
   "execution_count": 2,
   "metadata": {
    "execution": {
     "iopub.execute_input": "2020-12-30T15:29:57.501717Z",
     "iopub.status.busy": "2020-12-30T15:29:57.501104Z",
     "iopub.status.idle": "2020-12-30T15:29:57.722682Z",
     "shell.execute_reply": "2020-12-30T15:29:57.721790Z"
    },
    "papermill": {
     "duration": 0.247256,
     "end_time": "2020-12-30T15:29:57.722909",
     "exception": false,
     "start_time": "2020-12-30T15:29:57.475653",
     "status": "completed"
    },
    "tags": []
   },
   "outputs": [],
   "source": [
    "#hide\n",
    "df  = pd.read_csv('https://api.covid19india.org/csv/latest/states.csv')\n",
    "df = df[['Date','State','Confirmed','Deceased']]\n",
    "df = df.rename(columns={'Confirmed':'Cases', \"Deceased\":'Deaths'})\n",
    "df_cases = df[[\"Date\",'State','Cases']]\n",
    "df_deaths = df[['Date','State','Deaths']]\n",
    "df_cases1 = df_cases.groupby('Date')\n",
    "df_deaths1= df_deaths.groupby('Date')"
   ]
  },
  {
   "cell_type": "code",
   "execution_count": 3,
   "metadata": {
    "execution": {
     "iopub.execute_input": "2020-12-30T15:29:57.761795Z",
     "iopub.status.busy": "2020-12-30T15:29:57.761197Z",
     "iopub.status.idle": "2020-12-30T15:29:57.781065Z",
     "shell.execute_reply": "2020-12-30T15:29:57.780572Z"
    },
    "papermill": {
     "duration": 0.042168,
     "end_time": "2020-12-30T15:29:57.781244",
     "exception": false,
     "start_time": "2020-12-30T15:29:57.739076",
     "status": "completed"
    },
    "tags": []
   },
   "outputs": [],
   "source": [
    "#hide\n",
    "df_snap = pd.read_csv('data/SnapshotCases-28-July.csv')\n",
    "arr_states = df_snap['states'].unique()\n",
    "arr_dates = df['Date'].unique()\n",
    "df_snap = df_snap.set_index('states')"
   ]
  },
  {
   "cell_type": "code",
   "execution_count": 4,
   "metadata": {
    "execution": {
     "iopub.execute_input": "2020-12-30T15:29:57.819334Z",
     "iopub.status.busy": "2020-12-30T15:29:57.818719Z",
     "iopub.status.idle": "2020-12-30T15:29:57.821796Z",
     "shell.execute_reply": "2020-12-30T15:29:57.821197Z"
    },
    "papermill": {
     "duration": 0.024623,
     "end_time": "2020-12-30T15:29:57.821924",
     "exception": false,
     "start_time": "2020-12-30T15:29:57.797301",
     "status": "completed"
    },
    "tags": []
   },
   "outputs": [
    {
     "data": {
      "text/plain": [
       "array(['Andaman and Nicobar Islands', 'Andhra Pradesh',\n",
       "       'Arunachal Pradesh', 'Assam', 'Bihar', 'Chandigarh',\n",
       "       'Dadra and Nagar Haveli and Daman and Diu', 'Delhi', 'Goa',\n",
       "       'Gujarat', 'Haryana', 'Himachal Pradesh', 'Jammu and Kashmir',\n",
       "       'Jharkhand', 'Karnataka', 'Kerala', 'Lakshadweep',\n",
       "       'Madhya Pradesh', 'Maharashtra', 'Manipur', 'Meghalaya', 'Mizoram',\n",
       "       'Nagaland', 'Odisha', 'Puducherry', 'Punjab', 'Rajasthan',\n",
       "       'Sikkim', 'Tamil Nadu', 'Telangana', 'Tripura', 'Uttar Pradesh',\n",
       "       'West Bengal', 'Chhattisgarh', 'Ladakh', 'Uttarakhand'],\n",
       "      dtype=object)"
      ]
     },
     "execution_count": 4,
     "metadata": {},
     "output_type": "execute_result"
    }
   ],
   "source": [
    "#hide\n",
    "arr_states[-9] = 'Puducherry'\n",
    "arr_states[-10] = 'Odisha'\n",
    "arr_states[6] = 'Dadra and Nagar Haveli and Daman and Diu'\n",
    "arr_states = np.append(arr_states,np.array(['Chhattisgarh','Ladakh','Uttarakhand']))\n",
    "arr_states"
   ]
  },
  {
   "cell_type": "code",
   "execution_count": 5,
   "metadata": {
    "execution": {
     "iopub.execute_input": "2020-12-30T15:29:57.864808Z",
     "iopub.status.busy": "2020-12-30T15:29:57.864186Z",
     "iopub.status.idle": "2020-12-30T15:29:57.872934Z",
     "shell.execute_reply": "2020-12-30T15:29:57.872405Z"
    },
    "papermill": {
     "duration": 0.035457,
     "end_time": "2020-12-30T15:29:57.873074",
     "exception": false,
     "start_time": "2020-12-30T15:29:57.837617",
     "status": "completed"
    },
    "tags": []
   },
   "outputs": [],
   "source": [
    "#hide\n",
    "dates = []\n",
    "for i in arr_dates:\n",
    "    if i>='2020-07-01':\n",
    "        dates.append(i)\n",
    "dict = {'states':dates}\n",
    "for i in arr_states:\n",
    "    dict[i] = [0]*len(dates)\n",
    "dft_cases = pd.DataFrame(dict)\n",
    "dft_deaths = pd.DataFrame(dict)\n"
   ]
  },
  {
   "cell_type": "code",
   "execution_count": 6,
   "metadata": {
    "execution": {
     "iopub.execute_input": "2020-12-30T15:29:57.910995Z",
     "iopub.status.busy": "2020-12-30T15:29:57.910391Z",
     "iopub.status.idle": "2020-12-30T15:30:00.373449Z",
     "shell.execute_reply": "2020-12-30T15:30:00.372662Z"
    },
    "papermill": {
     "duration": 2.484789,
     "end_time": "2020-12-30T15:30:00.373654",
     "exception": false,
     "start_time": "2020-12-30T15:29:57.888865",
     "status": "completed"
    },
    "tags": []
   },
   "outputs": [],
   "source": [
    "#hide\n",
    "for i in range(len(dates)):\n",
    "    df1_deaths = df_deaths1.get_group(dates[i])\n",
    "    for j in range(len(df1_deaths.index)):\n",
    "        if df1_deaths.iloc[j,1] in arr_states:\n",
    "            dft_deaths.loc[i,df1_deaths.iloc[j,1]] = df1_deaths.iloc[j,2]\n",
    "dft_deaths = dft_deaths.set_index('states')"
   ]
  },
  {
   "cell_type": "code",
   "execution_count": 7,
   "metadata": {
    "execution": {
     "iopub.execute_input": "2020-12-30T15:30:00.415170Z",
     "iopub.status.busy": "2020-12-30T15:30:00.414558Z",
     "iopub.status.idle": "2020-12-30T15:30:02.934027Z",
     "shell.execute_reply": "2020-12-30T15:30:02.933051Z"
    },
    "papermill": {
     "duration": 2.542266,
     "end_time": "2020-12-30T15:30:02.934184",
     "exception": false,
     "start_time": "2020-12-30T15:30:00.391918",
     "status": "completed"
    },
    "tags": []
   },
   "outputs": [],
   "source": [
    "#hide\n",
    "for i in range(len(dates)):\n",
    "    df1_cases = df_cases1.get_group(dates[i])\n",
    "    for j in range(len(df1_cases.index)):\n",
    "        if df1_cases.iloc[j,1] in arr_states:\n",
    "            dft_cases.loc[i,df1_cases.iloc[j,1]] = df1_cases.iloc[j,2]\n",
    "dft_cases = dft_cases.set_index('states')"
   ]
  },
  {
   "cell_type": "code",
   "execution_count": 8,
   "metadata": {
    "execution": {
     "iopub.execute_input": "2020-12-30T15:30:02.972117Z",
     "iopub.status.busy": "2020-12-30T15:30:02.970981Z",
     "iopub.status.idle": "2020-12-30T15:30:02.973212Z",
     "shell.execute_reply": "2020-12-30T15:30:02.974027Z"
    },
    "papermill": {
     "duration": 0.024587,
     "end_time": "2020-12-30T15:30:02.974261",
     "exception": false,
     "start_time": "2020-12-30T15:30:02.949674",
     "status": "completed"
    },
    "tags": []
   },
   "outputs": [],
   "source": [
    "#hide\n",
    "dft_cases = dft_cases.T\n",
    "dft_deaths = dft_deaths.T\n",
    "dt_today = dates[-1]\n",
    "dt_yday = dates[-2]"
   ]
  },
  {
   "cell_type": "code",
   "execution_count": 9,
   "metadata": {
    "execution": {
     "iopub.execute_input": "2020-12-30T15:30:03.013442Z",
     "iopub.status.busy": "2020-12-30T15:30:03.012842Z",
     "iopub.status.idle": "2020-12-30T15:30:03.016983Z",
     "shell.execute_reply": "2020-12-30T15:30:03.016476Z"
    },
    "papermill": {
     "duration": 0.02596,
     "end_time": "2020-12-30T15:30:03.017114",
     "exception": false,
     "start_time": "2020-12-30T15:30:02.991154",
     "status": "completed"
    },
    "tags": []
   },
   "outputs": [],
   "source": [
    "#hide\n",
    "dft_cases = dft_cases.reset_index()\n",
    "dft_deaths = dft_deaths.reset_index()\n",
    "dft_cases = dft_cases.rename(columns = {'index':'state'})\n",
    "dft_deaths = dft_deaths.rename(columns = {'index':'state'})"
   ]
  },
  {
   "cell_type": "code",
   "execution_count": 10,
   "metadata": {
    "execution": {
     "iopub.execute_input": "2020-12-30T15:30:03.064520Z",
     "iopub.status.busy": "2020-12-30T15:30:03.063214Z",
     "iopub.status.idle": "2020-12-30T15:30:03.065184Z",
     "shell.execute_reply": "2020-12-30T15:30:03.065666Z"
    },
    "papermill": {
     "duration": 0.033343,
     "end_time": "2020-12-30T15:30:03.065833",
     "exception": false,
     "start_time": "2020-12-30T15:30:03.032490",
     "status": "completed"
    },
    "tags": []
   },
   "outputs": [],
   "source": [
    "#hide\n",
    "dfc_cases = dft_cases.groupby('state')[dt_today].sum()\n",
    "dfc_deaths = dft_deaths.groupby('state')[dt_today].sum()\n",
    "dfp_cases = dft_cases.groupby('state')[dt_yday].sum()\n",
    "dfp_deaths = dft_deaths.groupby('state')[dt_yday].sum()"
   ]
  },
  {
   "cell_type": "code",
   "execution_count": 11,
   "metadata": {
    "execution": {
     "iopub.execute_input": "2020-12-30T15:30:03.114774Z",
     "iopub.status.busy": "2020-12-30T15:30:03.114159Z",
     "iopub.status.idle": "2020-12-30T15:30:03.120934Z",
     "shell.execute_reply": "2020-12-30T15:30:03.120424Z"
    },
    "papermill": {
     "duration": 0.039628,
     "end_time": "2020-12-30T15:30:03.121068",
     "exception": false,
     "start_time": "2020-12-30T15:30:03.081440",
     "status": "completed"
    },
    "tags": []
   },
   "outputs": [
    {
     "data": {
      "text/html": [
       "<div>\n",
       "<style scoped>\n",
       "    .dataframe tbody tr th:only-of-type {\n",
       "        vertical-align: middle;\n",
       "    }\n",
       "\n",
       "    .dataframe tbody tr th {\n",
       "        vertical-align: top;\n",
       "    }\n",
       "\n",
       "    .dataframe thead th {\n",
       "        text-align: right;\n",
       "    }\n",
       "</style>\n",
       "<table border=\"1\" class=\"dataframe\">\n",
       "  <thead>\n",
       "    <tr style=\"text-align: right;\">\n",
       "      <th></th>\n",
       "      <th>states</th>\n",
       "      <th>Cases</th>\n",
       "      <th>Deaths</th>\n",
       "      <th>PCases</th>\n",
       "      <th>PDeaths</th>\n",
       "    </tr>\n",
       "  </thead>\n",
       "  <tbody>\n",
       "    <tr>\n",
       "      <th>0</th>\n",
       "      <td>Maharashtra</td>\n",
       "      <td>1928603</td>\n",
       "      <td>49463</td>\n",
       "      <td>1925066</td>\n",
       "      <td>49373</td>\n",
       "    </tr>\n",
       "    <tr>\n",
       "      <th>1</th>\n",
       "      <td>Karnataka</td>\n",
       "      <td>917571</td>\n",
       "      <td>12074</td>\n",
       "      <td>917571</td>\n",
       "      <td>12074</td>\n",
       "    </tr>\n",
       "    <tr>\n",
       "      <th>2</th>\n",
       "      <td>Andhra Pradesh</td>\n",
       "      <td>881599</td>\n",
       "      <td>7100</td>\n",
       "      <td>881599</td>\n",
       "      <td>7100</td>\n",
       "    </tr>\n",
       "    <tr>\n",
       "      <th>3</th>\n",
       "      <td>Tamil Nadu</td>\n",
       "      <td>816132</td>\n",
       "      <td>12092</td>\n",
       "      <td>816132</td>\n",
       "      <td>12092</td>\n",
       "    </tr>\n",
       "    <tr>\n",
       "      <th>4</th>\n",
       "      <td>Kerala</td>\n",
       "      <td>755719</td>\n",
       "      <td>3043</td>\n",
       "      <td>749451</td>\n",
       "      <td>3015</td>\n",
       "    </tr>\n",
       "  </tbody>\n",
       "</table>\n",
       "</div>"
      ],
      "text/plain": [
       "           states    Cases  Deaths   PCases  PDeaths\n",
       "0     Maharashtra  1928603   49463  1925066    49373\n",
       "1       Karnataka   917571   12074   917571    12074\n",
       "2  Andhra Pradesh   881599    7100   881599     7100\n",
       "3      Tamil Nadu   816132   12092   816132    12092\n",
       "4          Kerala   755719    3043   749451     3015"
      ]
     },
     "execution_count": 11,
     "metadata": {},
     "output_type": "execute_result"
    }
   ],
   "source": [
    "#hide\n",
    "df_table = pd.DataFrame({'states': dfc_cases.index, 'Cases': dfc_cases.values, 'Deaths': dfc_deaths.values, 'PCases': dfp_cases.values, 'PDeaths': dfp_deaths.values}).set_index('states')\n",
    "df_table = df_table.sort_values(by = ['Cases','Deaths'], ascending = [False, False])\n",
    "df_table = df_table.reset_index()\n",
    "df_table.head()"
   ]
  },
  {
   "cell_type": "code",
   "execution_count": 12,
   "metadata": {
    "execution": {
     "iopub.execute_input": "2020-12-30T15:30:03.159187Z",
     "iopub.status.busy": "2020-12-30T15:30:03.158587Z",
     "iopub.status.idle": "2020-12-30T15:30:03.169194Z",
     "shell.execute_reply": "2020-12-30T15:30:03.168672Z"
    },
    "papermill": {
     "duration": 0.032275,
     "end_time": "2020-12-30T15:30:03.169327",
     "exception": false,
     "start_time": "2020-12-30T15:30:03.137052",
     "status": "completed"
    },
    "tags": []
   },
   "outputs": [],
   "source": [
    "#hide\n",
    "for c in 'Cases, Deaths'.split(', '):\n",
    "    df_table[f'{c} (+)'] = (df_table[c] - df_table[f'P{c}']).clip(0)\n",
    "df_table['Fatality Rate'] = (100* df_table['Deaths']/ df_table['Cases']).round(2)"
   ]
  },
  {
   "cell_type": "code",
   "execution_count": 13,
   "metadata": {
    "execution": {
     "iopub.execute_input": "2020-12-30T15:30:03.213995Z",
     "iopub.status.busy": "2020-12-30T15:30:03.213436Z",
     "iopub.status.idle": "2020-12-30T15:30:03.217926Z",
     "shell.execute_reply": "2020-12-30T15:30:03.217390Z"
    },
    "papermill": {
     "duration": 0.031999,
     "end_time": "2020-12-30T15:30:03.218049",
     "exception": false,
     "start_time": "2020-12-30T15:30:03.186050",
     "status": "completed"
    },
    "tags": []
   },
   "outputs": [
    {
     "data": {
      "text/html": [
       "<div>\n",
       "<style scoped>\n",
       "    .dataframe tbody tr th:only-of-type {\n",
       "        vertical-align: middle;\n",
       "    }\n",
       "\n",
       "    .dataframe tbody tr th {\n",
       "        vertical-align: top;\n",
       "    }\n",
       "\n",
       "    .dataframe thead th {\n",
       "        text-align: right;\n",
       "    }\n",
       "</style>\n",
       "<table border=\"1\" class=\"dataframe\">\n",
       "  <thead>\n",
       "    <tr style=\"text-align: right;\">\n",
       "      <th></th>\n",
       "      <th>states</th>\n",
       "      <th>Cases</th>\n",
       "      <th>Deaths</th>\n",
       "      <th>PCases</th>\n",
       "      <th>PDeaths</th>\n",
       "      <th>Cases (+)</th>\n",
       "      <th>Deaths (+)</th>\n",
       "      <th>Fatality Rate</th>\n",
       "    </tr>\n",
       "  </thead>\n",
       "  <tbody>\n",
       "    <tr>\n",
       "      <th>0</th>\n",
       "      <td>Maharashtra</td>\n",
       "      <td>1928603</td>\n",
       "      <td>49463</td>\n",
       "      <td>1925066</td>\n",
       "      <td>49373</td>\n",
       "      <td>3537</td>\n",
       "      <td>90</td>\n",
       "      <td>2.56</td>\n",
       "    </tr>\n",
       "    <tr>\n",
       "      <th>1</th>\n",
       "      <td>Karnataka</td>\n",
       "      <td>917571</td>\n",
       "      <td>12074</td>\n",
       "      <td>917571</td>\n",
       "      <td>12074</td>\n",
       "      <td>0</td>\n",
       "      <td>0</td>\n",
       "      <td>1.32</td>\n",
       "    </tr>\n",
       "    <tr>\n",
       "      <th>2</th>\n",
       "      <td>Andhra Pradesh</td>\n",
       "      <td>881599</td>\n",
       "      <td>7100</td>\n",
       "      <td>881599</td>\n",
       "      <td>7100</td>\n",
       "      <td>0</td>\n",
       "      <td>0</td>\n",
       "      <td>0.81</td>\n",
       "    </tr>\n",
       "    <tr>\n",
       "      <th>3</th>\n",
       "      <td>Tamil Nadu</td>\n",
       "      <td>816132</td>\n",
       "      <td>12092</td>\n",
       "      <td>816132</td>\n",
       "      <td>12092</td>\n",
       "      <td>0</td>\n",
       "      <td>0</td>\n",
       "      <td>1.48</td>\n",
       "    </tr>\n",
       "    <tr>\n",
       "      <th>4</th>\n",
       "      <td>Kerala</td>\n",
       "      <td>755719</td>\n",
       "      <td>3043</td>\n",
       "      <td>749451</td>\n",
       "      <td>3015</td>\n",
       "      <td>6268</td>\n",
       "      <td>28</td>\n",
       "      <td>0.40</td>\n",
       "    </tr>\n",
       "  </tbody>\n",
       "</table>\n",
       "</div>"
      ],
      "text/plain": [
       "           states    Cases  Deaths   PCases  PDeaths  Cases (+)  Deaths (+)  \\\n",
       "0     Maharashtra  1928603   49463  1925066    49373       3537          90   \n",
       "1       Karnataka   917571   12074   917571    12074          0           0   \n",
       "2  Andhra Pradesh   881599    7100   881599     7100          0           0   \n",
       "3      Tamil Nadu   816132   12092   816132    12092          0           0   \n",
       "4          Kerala   755719    3043   749451     3015       6268          28   \n",
       "\n",
       "   Fatality Rate  \n",
       "0           2.56  \n",
       "1           1.32  \n",
       "2           0.81  \n",
       "3           1.48  \n",
       "4           0.40  "
      ]
     },
     "execution_count": 13,
     "metadata": {},
     "output_type": "execute_result"
    }
   ],
   "source": [
    "#hide\n",
    "df_table.head()"
   ]
  },
  {
   "cell_type": "code",
   "execution_count": 14,
   "metadata": {
    "execution": {
     "iopub.execute_input": "2020-12-30T15:30:03.258097Z",
     "iopub.status.busy": "2020-12-30T15:30:03.257528Z",
     "iopub.status.idle": "2020-12-30T15:30:03.274381Z",
     "shell.execute_reply": "2020-12-30T15:30:03.275012Z"
    },
    "papermill": {
     "duration": 0.041179,
     "end_time": "2020-12-30T15:30:03.275196",
     "exception": false,
     "start_time": "2020-12-30T15:30:03.234017",
     "status": "completed"
    },
    "tags": []
   },
   "outputs": [
    {
     "data": {
      "text/plain": [
       "{'updated': '2020-12-30',\n",
       " 'since': '2020-12-29',\n",
       " 'Cases': 10255513,\n",
       " 'PCases': 10245326,\n",
       " 'Deaths': 148600,\n",
       " 'PDeaths': 148475,\n",
       " 'Cases (+)': 10187,\n",
       " 'Deaths (+)': 125}"
      ]
     },
     "execution_count": 14,
     "metadata": {},
     "output_type": "execute_result"
    }
   ],
   "source": [
    "#hide\n",
    "summary = {'updated':dates[-1], 'since':dates[-2]}\n",
    "list_names = ['Cases', 'PCases', 'Deaths', 'PDeaths', 'Cases (+)', 'Deaths (+)']\n",
    "for name in list_names:\n",
    "    summary[name] = df_table.sum()[name]\n",
    "summary"
   ]
  },
  {
   "cell_type": "code",
   "execution_count": 15,
   "metadata": {
    "execution": {
     "iopub.execute_input": "2020-12-30T15:30:03.314291Z",
     "iopub.status.busy": "2020-12-30T15:30:03.313699Z",
     "iopub.status.idle": "2020-12-30T15:30:03.315983Z",
     "shell.execute_reply": "2020-12-30T15:30:03.315413Z"
    },
    "papermill": {
     "duration": 0.023564,
     "end_time": "2020-12-30T15:30:03.316106",
     "exception": false,
     "start_time": "2020-12-30T15:30:03.292542",
     "status": "completed"
    },
    "tags": []
   },
   "outputs": [],
   "source": [
    "#hide\n",
    "overview = '''\n",
    "<!-- #######  HTML!! #########-->\n",
    "<h1 style=\"color: #5e9ca0; text-align: center;\">India</h1>\n",
    "<p style=\"text-align: center;\">Last update: <strong>{update}</strong></p>\n",
    "<p style=\"text-align: center;\">Confirmed cases:</p>\n",
    "<p style=\"text-align: center;font-size:24px;\">{cases} (<span style=\"color: #ff0000;\">+{new}</span>)</p>\n",
    "<p style=\"text-align: center;\">Confirmed deaths:</p>\n",
    "<p style=\"text-align: center;font-size:24px;\">{deaths} (<span style=\"color: #ff0000;\">+{dnew}</span>)</p>\n",
    "'''"
   ]
  },
  {
   "cell_type": "code",
   "execution_count": 16,
   "metadata": {
    "execution": {
     "iopub.execute_input": "2020-12-30T15:30:03.355514Z",
     "iopub.status.busy": "2020-12-30T15:30:03.354898Z",
     "iopub.status.idle": "2020-12-30T15:30:03.357972Z",
     "shell.execute_reply": "2020-12-30T15:30:03.357506Z"
    },
    "papermill": {
     "duration": 0.025756,
     "end_time": "2020-12-30T15:30:03.358091",
     "exception": false,
     "start_time": "2020-12-30T15:30:03.332335",
     "status": "completed"
    },
    "tags": []
   },
   "outputs": [
    {
     "data": {
      "text/html": [
       "\n",
       "<!-- #######  HTML!! #########-->\n",
       "<h1 style=\"color: #5e9ca0; text-align: center;\">India</h1>\n",
       "<p style=\"text-align: center;\">Last update: <strong>2020-12-30</strong></p>\n",
       "<p style=\"text-align: center;\">Confirmed cases:</p>\n",
       "<p style=\"text-align: center;font-size:24px;\">10255513 (<span style=\"color: #ff0000;\">+10187</span>)</p>\n",
       "<p style=\"text-align: center;\">Confirmed deaths:</p>\n",
       "<p style=\"text-align: center;font-size:24px;\">148600 (<span style=\"color: #ff0000;\">+125</span>)</p>\n"
      ],
      "text/plain": [
       "<IPython.core.display.HTML object>"
      ]
     },
     "metadata": {},
     "output_type": "display_data"
    }
   ],
   "source": [
    "#hide_input\n",
    "update = summary['updated']\n",
    "cases = summary['Cases']\n",
    "new = summary['Cases (+)']\n",
    "deaths = summary['Deaths']\n",
    "dnew = summary['Deaths (+)']\n",
    "\n",
    "html = HTML(overview.format(update=update, cases=cases,new=new,deaths=deaths,dnew=dnew))\n",
    "\n",
    "display(html)"
   ]
  },
  {
   "cell_type": "code",
   "execution_count": 17,
   "metadata": {
    "execution": {
     "iopub.execute_input": "2020-12-30T15:30:03.399728Z",
     "iopub.status.busy": "2020-12-30T15:30:03.399126Z",
     "iopub.status.idle": "2020-12-30T15:30:03.406096Z",
     "shell.execute_reply": "2020-12-30T15:30:03.406577Z"
    },
    "papermill": {
     "duration": 0.031862,
     "end_time": "2020-12-30T15:30:03.406730",
     "exception": false,
     "start_time": "2020-12-30T15:30:03.374868",
     "status": "completed"
    },
    "tags": []
   },
   "outputs": [],
   "source": [
    "#hide\n",
    "dt_cols = list(dft_cases.columns[1:])\n",
    "dft_ct_new_cases = dft_cases.groupby('state')[dt_cols].sum().diff(axis=1).fillna(0).astype(int)\n",
    "dft_ct_new_cases.sort_values(by = dates[-1], ascending = False,inplace = True)"
   ]
  },
  {
   "cell_type": "code",
   "execution_count": 18,
   "metadata": {
    "execution": {
     "iopub.execute_input": "2020-12-30T15:30:03.461224Z",
     "iopub.status.busy": "2020-12-30T15:30:03.460606Z",
     "iopub.status.idle": "2020-12-30T15:30:03.466150Z",
     "shell.execute_reply": "2020-12-30T15:30:03.466605Z"
    },
    "papermill": {
     "duration": 0.042735,
     "end_time": "2020-12-30T15:30:03.466762",
     "exception": false,
     "start_time": "2020-12-30T15:30:03.424027",
     "status": "completed"
    },
    "tags": []
   },
   "outputs": [
    {
     "data": {
      "text/html": [
       "<div>\n",
       "<style scoped>\n",
       "    .dataframe tbody tr th:only-of-type {\n",
       "        vertical-align: middle;\n",
       "    }\n",
       "\n",
       "    .dataframe tbody tr th {\n",
       "        vertical-align: top;\n",
       "    }\n",
       "\n",
       "    .dataframe thead th {\n",
       "        text-align: right;\n",
       "    }\n",
       "</style>\n",
       "<table border=\"1\" class=\"dataframe\">\n",
       "  <thead>\n",
       "    <tr style=\"text-align: right;\">\n",
       "      <th>states</th>\n",
       "      <th>2020-07-01</th>\n",
       "      <th>2020-07-02</th>\n",
       "      <th>2020-07-03</th>\n",
       "      <th>2020-07-04</th>\n",
       "      <th>2020-07-05</th>\n",
       "      <th>2020-07-06</th>\n",
       "      <th>2020-07-07</th>\n",
       "      <th>2020-07-08</th>\n",
       "      <th>2020-07-09</th>\n",
       "      <th>2020-07-10</th>\n",
       "      <th>...</th>\n",
       "      <th>2020-12-21</th>\n",
       "      <th>2020-12-22</th>\n",
       "      <th>2020-12-23</th>\n",
       "      <th>2020-12-24</th>\n",
       "      <th>2020-12-25</th>\n",
       "      <th>2020-12-26</th>\n",
       "      <th>2020-12-27</th>\n",
       "      <th>2020-12-28</th>\n",
       "      <th>2020-12-29</th>\n",
       "      <th>2020-12-30</th>\n",
       "    </tr>\n",
       "    <tr>\n",
       "      <th>state</th>\n",
       "      <th></th>\n",
       "      <th></th>\n",
       "      <th></th>\n",
       "      <th></th>\n",
       "      <th></th>\n",
       "      <th></th>\n",
       "      <th></th>\n",
       "      <th></th>\n",
       "      <th></th>\n",
       "      <th></th>\n",
       "      <th></th>\n",
       "      <th></th>\n",
       "      <th></th>\n",
       "      <th></th>\n",
       "      <th></th>\n",
       "      <th></th>\n",
       "      <th></th>\n",
       "      <th></th>\n",
       "      <th></th>\n",
       "      <th></th>\n",
       "      <th></th>\n",
       "    </tr>\n",
       "  </thead>\n",
       "  <tbody>\n",
       "    <tr>\n",
       "      <th>Kerala</th>\n",
       "      <td>0</td>\n",
       "      <td>160</td>\n",
       "      <td>211</td>\n",
       "      <td>240</td>\n",
       "      <td>225</td>\n",
       "      <td>193</td>\n",
       "      <td>272</td>\n",
       "      <td>301</td>\n",
       "      <td>339</td>\n",
       "      <td>416</td>\n",
       "      <td>...</td>\n",
       "      <td>3423</td>\n",
       "      <td>6049</td>\n",
       "      <td>6169</td>\n",
       "      <td>5177</td>\n",
       "      <td>5397</td>\n",
       "      <td>3527</td>\n",
       "      <td>4905</td>\n",
       "      <td>3047</td>\n",
       "      <td>5887</td>\n",
       "      <td>6268</td>\n",
       "    </tr>\n",
       "    <tr>\n",
       "      <th>Maharashtra</th>\n",
       "      <td>0</td>\n",
       "      <td>6328</td>\n",
       "      <td>6364</td>\n",
       "      <td>7074</td>\n",
       "      <td>6555</td>\n",
       "      <td>5368</td>\n",
       "      <td>5134</td>\n",
       "      <td>6603</td>\n",
       "      <td>6875</td>\n",
       "      <td>7862</td>\n",
       "      <td>...</td>\n",
       "      <td>2834</td>\n",
       "      <td>3106</td>\n",
       "      <td>3913</td>\n",
       "      <td>3580</td>\n",
       "      <td>3431</td>\n",
       "      <td>2854</td>\n",
       "      <td>3314</td>\n",
       "      <td>2498</td>\n",
       "      <td>3018</td>\n",
       "      <td>3537</td>\n",
       "    </tr>\n",
       "    <tr>\n",
       "      <th>Haryana</th>\n",
       "      <td>0</td>\n",
       "      <td>568</td>\n",
       "      <td>494</td>\n",
       "      <td>545</td>\n",
       "      <td>457</td>\n",
       "      <td>499</td>\n",
       "      <td>495</td>\n",
       "      <td>691</td>\n",
       "      <td>674</td>\n",
       "      <td>570</td>\n",
       "      <td>...</td>\n",
       "      <td>553</td>\n",
       "      <td>534</td>\n",
       "      <td>495</td>\n",
       "      <td>519</td>\n",
       "      <td>408</td>\n",
       "      <td>392</td>\n",
       "      <td>362</td>\n",
       "      <td>351</td>\n",
       "      <td>414</td>\n",
       "      <td>382</td>\n",
       "    </tr>\n",
       "    <tr>\n",
       "      <th>Puducherry</th>\n",
       "      <td>0</td>\n",
       "      <td>63</td>\n",
       "      <td>22</td>\n",
       "      <td>80</td>\n",
       "      <td>42</td>\n",
       "      <td>65</td>\n",
       "      <td>30</td>\n",
       "      <td>110</td>\n",
       "      <td>49</td>\n",
       "      <td>72</td>\n",
       "      <td>...</td>\n",
       "      <td>14</td>\n",
       "      <td>49</td>\n",
       "      <td>34</td>\n",
       "      <td>40</td>\n",
       "      <td>29</td>\n",
       "      <td>33</td>\n",
       "      <td>48</td>\n",
       "      <td>33</td>\n",
       "      <td>42</td>\n",
       "      <td>0</td>\n",
       "    </tr>\n",
       "    <tr>\n",
       "      <th>Manipur</th>\n",
       "      <td>0</td>\n",
       "      <td>19</td>\n",
       "      <td>37</td>\n",
       "      <td>9</td>\n",
       "      <td>41</td>\n",
       "      <td>24</td>\n",
       "      <td>40</td>\n",
       "      <td>5</td>\n",
       "      <td>15</td>\n",
       "      <td>132</td>\n",
       "      <td>...</td>\n",
       "      <td>38</td>\n",
       "      <td>39</td>\n",
       "      <td>104</td>\n",
       "      <td>49</td>\n",
       "      <td>67</td>\n",
       "      <td>33</td>\n",
       "      <td>53</td>\n",
       "      <td>31</td>\n",
       "      <td>36</td>\n",
       "      <td>0</td>\n",
       "    </tr>\n",
       "  </tbody>\n",
       "</table>\n",
       "<p>5 rows × 183 columns</p>\n",
       "</div>"
      ],
      "text/plain": [
       "states       2020-07-01  2020-07-02  2020-07-03  2020-07-04  2020-07-05  \\\n",
       "state                                                                     \n",
       "Kerala                0         160         211         240         225   \n",
       "Maharashtra           0        6328        6364        7074        6555   \n",
       "Haryana               0         568         494         545         457   \n",
       "Puducherry            0          63          22          80          42   \n",
       "Manipur               0          19          37           9          41   \n",
       "\n",
       "states       2020-07-06  2020-07-07  2020-07-08  2020-07-09  2020-07-10  ...  \\\n",
       "state                                                                    ...   \n",
       "Kerala              193         272         301         339         416  ...   \n",
       "Maharashtra        5368        5134        6603        6875        7862  ...   \n",
       "Haryana             499         495         691         674         570  ...   \n",
       "Puducherry           65          30         110          49          72  ...   \n",
       "Manipur              24          40           5          15         132  ...   \n",
       "\n",
       "states       2020-12-21  2020-12-22  2020-12-23  2020-12-24  2020-12-25  \\\n",
       "state                                                                     \n",
       "Kerala             3423        6049        6169        5177        5397   \n",
       "Maharashtra        2834        3106        3913        3580        3431   \n",
       "Haryana             553         534         495         519         408   \n",
       "Puducherry           14          49          34          40          29   \n",
       "Manipur              38          39         104          49          67   \n",
       "\n",
       "states       2020-12-26  2020-12-27  2020-12-28  2020-12-29  2020-12-30  \n",
       "state                                                                    \n",
       "Kerala             3527        4905        3047        5887        6268  \n",
       "Maharashtra        2854        3314        2498        3018        3537  \n",
       "Haryana             392         362         351         414         382  \n",
       "Puducherry           33          48          33          42           0  \n",
       "Manipur              33          53          31          36           0  \n",
       "\n",
       "[5 rows x 183 columns]"
      ]
     },
     "execution_count": 18,
     "metadata": {},
     "output_type": "execute_result"
    }
   ],
   "source": [
    "#hide\n",
    "dft_ct_new_cases.head()"
   ]
  },
  {
   "cell_type": "code",
   "execution_count": 19,
   "metadata": {
    "execution": {
     "iopub.execute_input": "2020-12-30T15:30:03.566438Z",
     "iopub.status.busy": "2020-12-30T15:30:03.552426Z",
     "iopub.status.idle": "2020-12-30T15:30:09.821134Z",
     "shell.execute_reply": "2020-12-30T15:30:09.821615Z"
    },
    "papermill": {
     "duration": 6.337163,
     "end_time": "2020-12-30T15:30:09.821774",
     "exception": false,
     "start_time": "2020-12-30T15:30:03.484611",
     "status": "completed"
    },
    "tags": []
   },
   "outputs": [
    {
     "data": {
      "image/png": "[encoded data removed]",
      "text/plain": [
       "<Figure size 1296x2016 with 11 Axes>"
      ]
     },
     "metadata": {
      "needs_background": "light"
     },
     "output_type": "display_data"
    }
   ],
   "source": [
    "#hide_input\n",
    "df = dft_ct_new_cases.copy()\n",
    "df.loc['Total'] = df.sum()\n",
    "n = 5\n",
    "ax = []\n",
    "fig = plt.figure(figsize = (18,28))\n",
    "gs = fig.add_gridspec(n+2, 5)\n",
    "# gs = fig.add_gridspec(2, 3)\n",
    "ax1 = fig.add_subplot(gs[0, :])\n",
    "ef = df.loc['Total'].rename_axis('date').reset_index()\n",
    "ef['date'] = ef['date'].astype('datetime64[ns]')\n",
    "ax1.bar(ef.date,ef.Total,alpha=0.3,color='#007acc')\n",
    "ax1.plot(ef.date,ef.Total , marker=\"o\", color='#007acc')\n",
    "ax1.xaxis.set_major_locator(mdates.WeekdayLocator())\n",
    "ax1.xaxis.set_major_formatter(mdates.DateFormatter('%b %d'))\n",
    "ax1.text(0.02, 0.5,'India daily case count', transform = ax1.transAxes, fontsize=25);\n",
    "ax1.spines['right'].set_visible(False)\n",
    "ax1.spines['top'].set_visible(False)\n",
    "\n",
    "ax2 = fig.add_subplot(gs[1,0])\n",
    "ef = df.loc['Maharashtra'].rename_axis('date').reset_index()\n",
    "ef['date'] = ef['date'].astype('datetime64[ns]')\n",
    "\n",
    "ax2.bar(ef.date, ef.Maharashtra,color = '#007acc',alpha=0.5)\n",
    "ax2.xaxis.set_major_locator(mdates.WeekdayLocator())\n",
    "ax2.xaxis.set_major_formatter(mdates.DateFormatter('%b %d'))\n",
    "ax2.set_xticks(ax2.get_xticks()[::3])\n",
    "maxyval = ef.Maharashtra.max()\n",
    "ax2.set_ylim([0,maxyval])\n",
    "ax2.text(0.05, 0.9,'Maharashtra', transform = ax2.transAxes, fontsize=20);\n",
    "ax2.spines['right'].set_visible(False)\n",
    "ax2.spines['top'].set_visible(False)\n",
    "\n",
    "\n",
    "ax3 = fig.add_subplot(gs[1,1])\n",
    "ef = df.loc['Tamil Nadu'].rename_axis('date').reset_index()\n",
    "ef['date'] = ef['date'].astype('datetime64[ns]')\n",
    "ax3.bar(ef.date, ef['Tamil Nadu'],color = '#007acc',alpha=0.5,)\n",
    "ax3.xaxis.set_major_locator(mdates.WeekdayLocator())\n",
    "ax3.xaxis.set_major_formatter(mdates.DateFormatter('%b %d'))\n",
    "ax3.set_xticks(ax3.get_xticks()[::3])\n",
    "ax3.text(0.05, 0.9,'Tamil Nadu', transform = ax3.transAxes, fontsize=20);\n",
    "ax3.spines['right'].set_visible(False)\n",
    "ax3.spines['top'].set_visible(False)\n",
    "\n",
    "ax5 = fig.add_subplot(gs[1,3])\n",
    "ef = df.loc['Telangana'].rename_axis('date').reset_index()\n",
    "ef['date'] = ef['date'].astype('datetime64[ns]')\n",
    "ax5.bar(ef.date, ef['Telangana'],color = '#007acc',alpha=0.5,)\n",
    "ax5.xaxis.set_major_locator(mdates.WeekdayLocator())\n",
    "ax5.xaxis.set_major_formatter(mdates.DateFormatter('%b %d'))\n",
    "ax5.set_xticks(ax5.get_xticks()[::3])\n",
    "ax5.text(0.05, 0.9,'Telangana', transform = ax5.transAxes, fontsize=20);\n",
    "ax5.spines['right'].set_visible(False)\n",
    "ax5.spines['top'].set_visible(False)\n",
    "\n",
    "ax6 = fig.add_subplot(gs[1,4])\n",
    "ef = df.loc['Andhra Pradesh'].rename_axis('date').reset_index()\n",
    "ef['date'] = ef['date'].astype('datetime64[ns]')\n",
    "ax6.bar(ef.date, ef['Andhra Pradesh'],color = '#007acc',alpha=0.5,)\n",
    "ax6.xaxis.set_major_locator(mdates.WeekdayLocator())\n",
    "ax6.xaxis.set_major_formatter(mdates.DateFormatter('%b %d'))\n",
    "ax6.set_xticks(ax6.get_xticks()[::3])\n",
    "ax6.text(0.05, 1,'Andhra Pradesh', transform = ax6.transAxes, fontsize=20);\n",
    "ax6.spines['right'].set_visible(False)\n",
    "ax6.spines['top'].set_visible(False)\n",
    "\n",
    "ax4 = fig.add_subplot(gs[1,2])\n",
    "ef = df.loc['Delhi'].rename_axis('date').reset_index()\n",
    "ef['date'] = ef['date'].astype('datetime64[ns]')\n",
    "ax4.bar(ef.date, ef.Delhi,color = '#007acc',alpha=0.5)\n",
    "ax4.set_xticks([])\n",
    "ax4.xaxis.set_major_locator(mdates.WeekdayLocator())\n",
    "ax4.xaxis.set_major_formatter(mdates.DateFormatter('%b %d'))\n",
    "ax4.set_xticks(ax4.get_xticks()[::3])\n",
    "ax4.spines['right'].set_visible(False)\n",
    "ax4.spines['top'].set_visible(False)\n",
    "\n",
    "ax4.text(0.05, 1,'Delhi', transform = ax4.transAxes, fontsize=20)\n",
    "\n",
    "for i in range(n):\n",
    "    \n",
    "    ax.append(fig.add_subplot(gs[i+2,:]))\n",
    "    ef = df.iloc[i+3].rename_axis('date').reset_index()\n",
    "    ef['date'] = ef['date'].astype('datetime64[ns]')\n",
    "    ax[i].bar(ef.date,ef.iloc[:,-1],color = '#007acc',alpha=0.3)\n",
    "    ax[i].plot(ef.date,ef.iloc[:,-1],marker='o',color='#007acc')\n",
    "    ax[i].text(0.02,0.5,f'{ef.columns.values[-1]}',transform = ax[i].transAxes, fontsize = 20);\n",
    "    ax[i].xaxis.set_major_locator(mdates.WeekdayLocator())\n",
    "    ax[i].xaxis.set_major_formatter(mdates.DateFormatter('%b %d'))\n",
    "    ax[i].set_ylim([0,7000])\n",
    "    ax[i].spines['right'].set_visible(False)\n",
    "    ax[i].spines['top'].set_visible(False)\n",
    "plt.tight_layout()\n"
   ]
  },
  {
   "cell_type": "code",
   "execution_count": 20,
   "metadata": {
    "execution": {
     "iopub.execute_input": "2020-12-30T15:30:09.879903Z",
     "iopub.status.busy": "2020-12-30T15:30:09.879214Z",
     "iopub.status.idle": "2020-12-30T15:30:09.881746Z",
     "shell.execute_reply": "2020-12-30T15:30:09.882250Z"
    },
    "papermill": {
     "duration": 0.037476,
     "end_time": "2020-12-30T15:30:09.882404",
     "exception": false,
     "start_time": "2020-12-30T15:30:09.844928",
     "status": "completed"
    },
    "tags": []
   },
   "outputs": [
    {
     "name": "stdout",
     "output_type": "stream",
     "text": [
      "                                   states    Cases  Deaths   PCases  PDeaths  Cases (+)  Deaths (+)  Fatality Rate\n",
      "                              Maharashtra  1928603   49463  1925066    49373       3537          90           2.56\n",
      "                                Karnataka   917571   12074   917571    12074          0           0           1.32\n",
      "                           Andhra Pradesh   881599    7100   881599     7100          0           0           0.81\n",
      "                               Tamil Nadu   816132   12092   816132    12092          0           0           1.48\n",
      "                                   Kerala   755719    3043   749451     3015       6268          28           0.40\n",
      "                                    Delhi   624118   10502   624118    10502          0           0           1.68\n",
      "                            Uttar Pradesh   583941    8340   583941     8340          0           0           1.43\n",
      "                              West Bengal   549715    9655   549715     9655          0           0           1.76\n",
      "                                   Odisha   329001    1921   329001     1921          0           0           0.58\n",
      "                                Rajasthan   306784    2683   306784     2683          0           0           0.87\n",
      "                                Telangana   285465    1535   285465     1535          0           0           0.54\n",
      "                             Chhattisgarh   277471    3336   277471     3336          0           0           1.20\n",
      "                                  Haryana   262054    2899   261672     2892        382           7           1.11\n",
      "                                    Bihar   251926    1389   251926     1389          0           0           0.55\n",
      "                                  Gujarat   243459    4295   243459     4295          0           0           1.76\n",
      "                           Madhya Pradesh   240081    3582   240081     3582          0           0           1.49\n",
      "                                    Assam   216063    1040   216063     1040          0           0           0.48\n",
      "                                   Punjab   165878    5322   165878     5322          0           0           3.21\n",
      "                        Jammu and Kashmir   120527    1879   120527     1879          0           0           1.56\n",
      "                                Jharkhand   114650    1025   114650     1025          0           0           0.89\n",
      "                              Uttarakhand    90167    1495    90167     1495          0           0           1.66\n",
      "                         Himachal Pradesh    54894     913    54894      913          0           0           1.66\n",
      "                                      Goa    50884     735    50884      735          0           0           1.44\n",
      "                               Puducherry    38070     633    38070      633          0           0           1.66\n",
      "                                  Tripura    33243     382    33243      382          0           0           1.15\n",
      "                                  Manipur    28096     353    28096      353          0           0           1.26\n",
      "                               Chandigarh    19615     316    19615      316          0           0           1.61\n",
      "                        Arunachal Pradesh    16696      56    16696       56          0           0           0.34\n",
      "                                Meghalaya    13387     138    13387      138          0           0           1.03\n",
      "                                 Nagaland    11917      79    11917       79          0           0           0.66\n",
      "                                   Ladakh     9436     127     9436      127          0           0           1.35\n",
      "                                   Sikkim     5864     126     5864      126          0           0           2.15\n",
      "              Andaman and Nicobar Islands     4936      62     4936       62          0           0           1.26\n",
      "                                  Mizoram     4190       8     4190        8          0           0           0.19\n",
      " Dadra and Nagar Haveli and Daman and Diu     3361       2     3361        2          0           0           0.06\n",
      "                              Lakshadweep        0       0        0        0          0           0            NaN\n"
     ]
    }
   ],
   "source": [
    "#hide_input\n",
    "print(df_table.to_string(index=False))"
   ]
  },
  {
   "cell_type": "code",
   "execution_count": null,
   "metadata": {
    "papermill": {
     "duration": 0.02274,
     "end_time": "2020-12-30T15:30:09.928296",
     "exception": false,
     "start_time": "2020-12-30T15:30:09.905556",
     "status": "completed"
    },
    "tags": []
   },
   "outputs": [],
   "source": []
  },
  {
   "cell_type": "code",
   "execution_count": null,
   "metadata": {
    "papermill": {
     "duration": 0.022983,
     "end_time": "2020-12-30T15:30:09.974460",
     "exception": false,
     "start_time": "2020-12-30T15:30:09.951477",
     "status": "completed"
    },
    "tags": []
   },
   "outputs": [],
   "source": []
  }
 ],
 "metadata": {
  "kernelspec": {
   "display_name": "Python 3",
   "language": "python",
   "name": "python3"
  },
  "language_info": {
   "codemirror_mode": {
    "name": "ipython",
    "version": 3
   },
   "file_extension": ".py",
   "mimetype": "text/x-python",
   "name": "python",
   "nbconvert_exporter": "python",
   "pygments_lexer": "ipython3",
   "version": "3.6.12"
  },
  "papermill": {
   "duration": 14.882493,
   "end_time": "2020-12-30T15:30:10.606867",
   "environment_variables": {},
   "exception": null,
   "input_path": "latest.ipynb",
   "output_path": "latest.ipynb",
   "parameters": {},
   "start_time": "2020-12-30T15:29:55.724374",
   "version": "2.1.2"
  }
 },
 "nbformat": 4,
 "nbformat_minor": 4
}