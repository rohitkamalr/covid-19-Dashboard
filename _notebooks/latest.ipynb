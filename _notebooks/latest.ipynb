{
 "cells": [
  {
   "cell_type": "markdown",
   "metadata": {
    "papermill": {
     "duration": 0.020049,
     "end_time": "2020-11-22T12:43:06.083923",
     "exception": false,
     "start_time": "2020-11-22T12:43:06.063874",
     "status": "completed"
    },
    "tags": []
   },
   "source": [
    "# Latest COVID-19 India Matplotlib Overview"
   ]
  },
  {
   "cell_type": "code",
   "execution_count": 1,
   "metadata": {
    "execution": {
     "iopub.execute_input": "2020-11-22T12:43:06.126194Z",
     "iopub.status.busy": "2020-11-22T12:43:06.125466Z",
     "iopub.status.idle": "2020-11-22T12:43:06.775088Z",
     "shell.execute_reply": "2020-11-22T12:43:06.774117Z"
    },
    "papermill": {
     "duration": 0.673291,
     "end_time": "2020-11-22T12:43:06.775247",
     "exception": false,
     "start_time": "2020-11-22T12:43:06.101956",
     "status": "completed"
    },
    "tags": []
   },
   "outputs": [],
   "source": [
    "#hide\n",
    "import pandas as pd\n",
    "import numpy as np\n",
    "import requests\n",
    "import json\n",
    "import matplotlib.pyplot as plt\n",
    "import matplotlib.dates as mdates\n",
    "import matplotlib as mpl\n",
    "from IPython.core.display import display,HTML\n",
    "%matplotlib inline\n",
    "from datetime import date"
   ]
  },
  {
   "cell_type": "code",
   "execution_count": 2,
   "metadata": {
    "execution": {
     "iopub.execute_input": "2020-11-22T12:43:06.815391Z",
     "iopub.status.busy": "2020-11-22T12:43:06.814694Z",
     "iopub.status.idle": "2020-11-22T12:43:07.170260Z",
     "shell.execute_reply": "2020-11-22T12:43:07.169639Z"
    },
    "papermill": {
     "duration": 0.378771,
     "end_time": "2020-11-22T12:43:07.170430",
     "exception": false,
     "start_time": "2020-11-22T12:43:06.791659",
     "status": "completed"
    },
    "tags": []
   },
   "outputs": [],
   "source": [
    "#hide\n",
    "df  = pd.read_csv('https://api.covid19india.org/csv/latest/states.csv')\n",
    "df = df[['Date','State','Confirmed','Deceased']]\n",
    "df = df.rename(columns={'Confirmed':'Cases', \"Deceased\":'Deaths'})\n",
    "df_cases = df[[\"Date\",'State','Cases']]\n",
    "df_deaths = df[['Date','State','Deaths']]\n",
    "df_cases1 = df_cases.groupby('Date')\n",
    "df_deaths1= df_deaths.groupby('Date')"
   ]
  },
  {
   "cell_type": "code",
   "execution_count": 3,
   "metadata": {
    "execution": {
     "iopub.execute_input": "2020-11-22T12:43:07.210366Z",
     "iopub.status.busy": "2020-11-22T12:43:07.209739Z",
     "iopub.status.idle": "2020-11-22T12:43:07.229020Z",
     "shell.execute_reply": "2020-11-22T12:43:07.229595Z"
    },
    "papermill": {
     "duration": 0.041187,
     "end_time": "2020-11-22T12:43:07.229755",
     "exception": false,
     "start_time": "2020-11-22T12:43:07.188568",
     "status": "completed"
    },
    "tags": []
   },
   "outputs": [],
   "source": [
    "#hide\n",
    "df_snap = pd.read_csv('data/SnapshotCases-28-July.csv')\n",
    "arr_states = df_snap['states'].unique()\n",
    "arr_dates = df['Date'].unique()\n",
    "df_snap = df_snap.set_index('states')"
   ]
  },
  {
   "cell_type": "code",
   "execution_count": 4,
   "metadata": {
    "execution": {
     "iopub.execute_input": "2020-11-22T12:43:07.270241Z",
     "iopub.status.busy": "2020-11-22T12:43:07.269626Z",
     "iopub.status.idle": "2020-11-22T12:43:07.273071Z",
     "shell.execute_reply": "2020-11-22T12:43:07.272536Z"
    },
    "papermill": {
     "duration": 0.027416,
     "end_time": "2020-11-22T12:43:07.273199",
     "exception": false,
     "start_time": "2020-11-22T12:43:07.245783",
     "status": "completed"
    },
    "tags": []
   },
   "outputs": [
    {
     "data": {
      "text/plain": [
       "array(['Andaman and Nicobar Islands', 'Andhra Pradesh',\n",
       "       'Arunachal Pradesh', 'Assam', 'Bihar', 'Chandigarh',\n",
       "       'Dadra and Nagar Haveli and Daman and Diu', 'Delhi', 'Goa',\n",
       "       'Gujarat', 'Haryana', 'Himachal Pradesh', 'Jammu and Kashmir',\n",
       "       'Jharkhand', 'Karnataka', 'Kerala', 'Lakshadweep',\n",
       "       'Madhya Pradesh', 'Maharashtra', 'Manipur', 'Meghalaya', 'Mizoram',\n",
       "       'Nagaland', 'Odisha', 'Puducherry', 'Punjab', 'Rajasthan',\n",
       "       'Sikkim', 'Tamil Nadu', 'Telangana', 'Tripura', 'Uttar Pradesh',\n",
       "       'West Bengal', 'Chhattisgarh', 'Ladakh', 'Uttarakhand'],\n",
       "      dtype=object)"
      ]
     },
     "execution_count": 4,
     "metadata": {},
     "output_type": "execute_result"
    }
   ],
   "source": [
    "#hide\n",
    "arr_states[-9] = 'Puducherry'\n",
    "arr_states[-10] = 'Odisha'\n",
    "arr_states[6] = 'Dadra and Nagar Haveli and Daman and Diu'\n",
    "arr_states = np.append(arr_states,np.array(['Chhattisgarh','Ladakh','Uttarakhand']))\n",
    "arr_states"
   ]
  },
  {
   "cell_type": "code",
   "execution_count": 5,
   "metadata": {
    "execution": {
     "iopub.execute_input": "2020-11-22T12:43:07.325722Z",
     "iopub.status.busy": "2020-11-22T12:43:07.324939Z",
     "iopub.status.idle": "2020-11-22T12:43:07.328795Z",
     "shell.execute_reply": "2020-11-22T12:43:07.327973Z"
    },
    "papermill": {
     "duration": 0.038269,
     "end_time": "2020-11-22T12:43:07.328937",
     "exception": false,
     "start_time": "2020-11-22T12:43:07.290668",
     "status": "completed"
    },
    "tags": []
   },
   "outputs": [],
   "source": [
    "#hide\n",
    "dates = []\n",
    "for i in arr_dates:\n",
    "    if i>='2020-07-01':\n",
    "        dates.append(i)\n",
    "dict = {'states':dates}\n",
    "for i in arr_states:\n",
    "    dict[i] = [0]*len(dates)\n",
    "dft_cases = pd.DataFrame(dict)\n",
    "dft_deaths = pd.DataFrame(dict)\n"
   ]
  },
  {
   "cell_type": "code",
   "execution_count": 6,
   "metadata": {
    "execution": {
     "iopub.execute_input": "2020-11-22T12:43:07.369029Z",
     "iopub.status.busy": "2020-11-22T12:43:07.368448Z",
     "iopub.status.idle": "2020-11-22T12:43:10.122488Z",
     "shell.execute_reply": "2020-11-22T12:43:10.121808Z"
    },
    "papermill": {
     "duration": 2.776627,
     "end_time": "2020-11-22T12:43:10.122663",
     "exception": false,
     "start_time": "2020-11-22T12:43:07.346036",
     "status": "completed"
    },
    "tags": []
   },
   "outputs": [],
   "source": [
    "#hide\n",
    "for i in range(len(dates)):\n",
    "    df1_deaths = df_deaths1.get_group(dates[i])\n",
    "    for j in range(len(df1_deaths.index)):\n",
    "        if df1_deaths.iloc[j,1] in arr_states:\n",
    "            dft_deaths.loc[i,df1_deaths.iloc[j,1]] = df1_deaths.iloc[j,2]\n",
    "dft_deaths = dft_deaths.set_index('states')"
   ]
  },
  {
   "cell_type": "code",
   "execution_count": 7,
   "metadata": {
    "execution": {
     "iopub.execute_input": "2020-11-22T12:43:10.163791Z",
     "iopub.status.busy": "2020-11-22T12:43:10.163190Z",
     "iopub.status.idle": "2020-11-22T12:43:12.903105Z",
     "shell.execute_reply": "2020-11-22T12:43:12.903614Z"
    },
    "papermill": {
     "duration": 2.763993,
     "end_time": "2020-11-22T12:43:12.903782",
     "exception": false,
     "start_time": "2020-11-22T12:43:10.139789",
     "status": "completed"
    },
    "tags": []
   },
   "outputs": [],
   "source": [
    "#hide\n",
    "for i in range(len(dates)):\n",
    "    df1_cases = df_cases1.get_group(dates[i])\n",
    "    for j in range(len(df1_cases.index)):\n",
    "        if df1_cases.iloc[j,1] in arr_states:\n",
    "            dft_cases.loc[i,df1_cases.iloc[j,1]] = df1_cases.iloc[j,2]\n",
    "dft_cases = dft_cases.set_index('states')"
   ]
  },
  {
   "cell_type": "code",
   "execution_count": 8,
   "metadata": {
    "execution": {
     "iopub.execute_input": "2020-11-22T12:43:12.943956Z",
     "iopub.status.busy": "2020-11-22T12:43:12.943314Z",
     "iopub.status.idle": "2020-11-22T12:43:12.946006Z",
     "shell.execute_reply": "2020-11-22T12:43:12.945485Z"
    },
    "papermill": {
     "duration": 0.023958,
     "end_time": "2020-11-22T12:43:12.946123",
     "exception": false,
     "start_time": "2020-11-22T12:43:12.922165",
     "status": "completed"
    },
    "tags": []
   },
   "outputs": [],
   "source": [
    "#hide\n",
    "dft_cases = dft_cases.T\n",
    "dft_deaths = dft_deaths.T\n",
    "dt_today = dates[-1]\n",
    "dt_yday = dates[-2]"
   ]
  },
  {
   "cell_type": "code",
   "execution_count": 9,
   "metadata": {
    "execution": {
     "iopub.execute_input": "2020-11-22T12:43:12.986144Z",
     "iopub.status.busy": "2020-11-22T12:43:12.985528Z",
     "iopub.status.idle": "2020-11-22T12:43:12.990325Z",
     "shell.execute_reply": "2020-11-22T12:43:12.989761Z"
    },
    "papermill": {
     "duration": 0.027659,
     "end_time": "2020-11-22T12:43:12.990446",
     "exception": false,
     "start_time": "2020-11-22T12:43:12.962787",
     "status": "completed"
    },
    "tags": []
   },
   "outputs": [],
   "source": [
    "#hide\n",
    "dft_cases = dft_cases.reset_index()\n",
    "dft_deaths = dft_deaths.reset_index()\n",
    "dft_cases = dft_cases.rename(columns = {'index':'state'})\n",
    "dft_deaths = dft_deaths.rename(columns = {'index':'state'})"
   ]
  },
  {
   "cell_type": "code",
   "execution_count": 10,
   "metadata": {
    "execution": {
     "iopub.execute_input": "2020-11-22T12:43:13.037491Z",
     "iopub.status.busy": "2020-11-22T12:43:13.036897Z",
     "iopub.status.idle": "2020-11-22T12:43:13.039355Z",
     "shell.execute_reply": "2020-11-22T12:43:13.040112Z"
    },
    "papermill": {
     "duration": 0.033426,
     "end_time": "2020-11-22T12:43:13.040327",
     "exception": false,
     "start_time": "2020-11-22T12:43:13.006901",
     "status": "completed"
    },
    "tags": []
   },
   "outputs": [],
   "source": [
    "#hide\n",
    "dfc_cases = dft_cases.groupby('state')[dt_today].sum()\n",
    "dfc_deaths = dft_deaths.groupby('state')[dt_today].sum()\n",
    "dfp_cases = dft_cases.groupby('state')[dt_yday].sum()\n",
    "dfp_deaths = dft_deaths.groupby('state')[dt_yday].sum()"
   ]
  },
  {
   "cell_type": "code",
   "execution_count": 11,
   "metadata": {
    "execution": {
     "iopub.execute_input": "2020-11-22T12:43:13.083061Z",
     "iopub.status.busy": "2020-11-22T12:43:13.082321Z",
     "iopub.status.idle": "2020-11-22T12:43:13.098968Z",
     "shell.execute_reply": "2020-11-22T12:43:13.098269Z"
    },
    "papermill": {
     "duration": 0.041581,
     "end_time": "2020-11-22T12:43:13.099151",
     "exception": false,
     "start_time": "2020-11-22T12:43:13.057570",
     "status": "completed"
    },
    "tags": []
   },
   "outputs": [
    {
     "data": {
      "text/html": [
       "<div>\n",
       "<style scoped>\n",
       "    .dataframe tbody tr th:only-of-type {\n",
       "        vertical-align: middle;\n",
       "    }\n",
       "\n",
       "    .dataframe tbody tr th {\n",
       "        vertical-align: top;\n",
       "    }\n",
       "\n",
       "    .dataframe thead th {\n",
       "        text-align: right;\n",
       "    }\n",
       "</style>\n",
       "<table border=\"1\" class=\"dataframe\">\n",
       "  <thead>\n",
       "    <tr style=\"text-align: right;\">\n",
       "      <th></th>\n",
       "      <th>states</th>\n",
       "      <th>Cases</th>\n",
       "      <th>Deaths</th>\n",
       "      <th>PCases</th>\n",
       "      <th>PDeaths</th>\n",
       "    </tr>\n",
       "  </thead>\n",
       "  <tbody>\n",
       "    <tr>\n",
       "      <th>0</th>\n",
       "      <td>Maharashtra</td>\n",
       "      <td>1774455</td>\n",
       "      <td>46573</td>\n",
       "      <td>1774455</td>\n",
       "      <td>46573</td>\n",
       "    </tr>\n",
       "    <tr>\n",
       "      <th>1</th>\n",
       "      <td>Karnataka</td>\n",
       "      <td>871342</td>\n",
       "      <td>11641</td>\n",
       "      <td>871342</td>\n",
       "      <td>11641</td>\n",
       "    </tr>\n",
       "    <tr>\n",
       "      <th>2</th>\n",
       "      <td>Andhra Pradesh</td>\n",
       "      <td>861092</td>\n",
       "      <td>6927</td>\n",
       "      <td>861092</td>\n",
       "      <td>6927</td>\n",
       "    </tr>\n",
       "    <tr>\n",
       "      <th>3</th>\n",
       "      <td>Tamil Nadu</td>\n",
       "      <td>768340</td>\n",
       "      <td>11586</td>\n",
       "      <td>768340</td>\n",
       "      <td>11586</td>\n",
       "    </tr>\n",
       "    <tr>\n",
       "      <th>4</th>\n",
       "      <td>Kerala</td>\n",
       "      <td>557442</td>\n",
       "      <td>2023</td>\n",
       "      <td>557442</td>\n",
       "      <td>2023</td>\n",
       "    </tr>\n",
       "  </tbody>\n",
       "</table>\n",
       "</div>"
      ],
      "text/plain": [
       "           states    Cases  Deaths   PCases  PDeaths\n",
       "0     Maharashtra  1774455   46573  1774455    46573\n",
       "1       Karnataka   871342   11641   871342    11641\n",
       "2  Andhra Pradesh   861092    6927   861092     6927\n",
       "3      Tamil Nadu   768340   11586   768340    11586\n",
       "4          Kerala   557442    2023   557442     2023"
      ]
     },
     "execution_count": 11,
     "metadata": {},
     "output_type": "execute_result"
    }
   ],
   "source": [
    "#hide\n",
    "df_table = pd.DataFrame({'states': dfc_cases.index, 'Cases': dfc_cases.values, 'Deaths': dfc_deaths.values, 'PCases': dfp_cases.values, 'PDeaths': dfp_deaths.values}).set_index('states')\n",
    "df_table = df_table.sort_values(by = ['Cases','Deaths'], ascending = [False, False])\n",
    "df_table = df_table.reset_index()\n",
    "df_table.head()"
   ]
  },
  {
   "cell_type": "code",
   "execution_count": 12,
   "metadata": {
    "execution": {
     "iopub.execute_input": "2020-11-22T12:43:13.141058Z",
     "iopub.status.busy": "2020-11-22T12:43:13.140199Z",
     "iopub.status.idle": "2020-11-22T12:43:13.149308Z",
     "shell.execute_reply": "2020-11-22T12:43:13.149880Z"
    },
    "papermill": {
     "duration": 0.032635,
     "end_time": "2020-11-22T12:43:13.150015",
     "exception": false,
     "start_time": "2020-11-22T12:43:13.117380",
     "status": "completed"
    },
    "tags": []
   },
   "outputs": [],
   "source": [
    "#hide\n",
    "for c in 'Cases, Deaths'.split(', '):\n",
    "    df_table[f'{c} (+)'] = (df_table[c] - df_table[f'P{c}']).clip(0)\n",
    "df_table['Fatality Rate'] = (100* df_table['Deaths']/ df_table['Cases']).round(2)"
   ]
  },
  {
   "cell_type": "code",
   "execution_count": 13,
   "metadata": {
    "execution": {
     "iopub.execute_input": "2020-11-22T12:43:13.198063Z",
     "iopub.status.busy": "2020-11-22T12:43:13.197478Z",
     "iopub.status.idle": "2020-11-22T12:43:13.200870Z",
     "shell.execute_reply": "2020-11-22T12:43:13.200332Z"
    },
    "papermill": {
     "duration": 0.034203,
     "end_time": "2020-11-22T12:43:13.200991",
     "exception": false,
     "start_time": "2020-11-22T12:43:13.166788",
     "status": "completed"
    },
    "tags": []
   },
   "outputs": [
    {
     "data": {
      "text/html": [
       "<div>\n",
       "<style scoped>\n",
       "    .dataframe tbody tr th:only-of-type {\n",
       "        vertical-align: middle;\n",
       "    }\n",
       "\n",
       "    .dataframe tbody tr th {\n",
       "        vertical-align: top;\n",
       "    }\n",
       "\n",
       "    .dataframe thead th {\n",
       "        text-align: right;\n",
       "    }\n",
       "</style>\n",
       "<table border=\"1\" class=\"dataframe\">\n",
       "  <thead>\n",
       "    <tr style=\"text-align: right;\">\n",
       "      <th></th>\n",
       "      <th>states</th>\n",
       "      <th>Cases</th>\n",
       "      <th>Deaths</th>\n",
       "      <th>PCases</th>\n",
       "      <th>PDeaths</th>\n",
       "      <th>Cases (+)</th>\n",
       "      <th>Deaths (+)</th>\n",
       "      <th>Fatality Rate</th>\n",
       "    </tr>\n",
       "  </thead>\n",
       "  <tbody>\n",
       "    <tr>\n",
       "      <th>0</th>\n",
       "      <td>Maharashtra</td>\n",
       "      <td>1774455</td>\n",
       "      <td>46573</td>\n",
       "      <td>1774455</td>\n",
       "      <td>46573</td>\n",
       "      <td>0</td>\n",
       "      <td>0</td>\n",
       "      <td>2.62</td>\n",
       "    </tr>\n",
       "    <tr>\n",
       "      <th>1</th>\n",
       "      <td>Karnataka</td>\n",
       "      <td>871342</td>\n",
       "      <td>11641</td>\n",
       "      <td>871342</td>\n",
       "      <td>11641</td>\n",
       "      <td>0</td>\n",
       "      <td>0</td>\n",
       "      <td>1.34</td>\n",
       "    </tr>\n",
       "    <tr>\n",
       "      <th>2</th>\n",
       "      <td>Andhra Pradesh</td>\n",
       "      <td>861092</td>\n",
       "      <td>6927</td>\n",
       "      <td>861092</td>\n",
       "      <td>6927</td>\n",
       "      <td>0</td>\n",
       "      <td>0</td>\n",
       "      <td>0.80</td>\n",
       "    </tr>\n",
       "    <tr>\n",
       "      <th>3</th>\n",
       "      <td>Tamil Nadu</td>\n",
       "      <td>768340</td>\n",
       "      <td>11586</td>\n",
       "      <td>768340</td>\n",
       "      <td>11586</td>\n",
       "      <td>0</td>\n",
       "      <td>0</td>\n",
       "      <td>1.51</td>\n",
       "    </tr>\n",
       "    <tr>\n",
       "      <th>4</th>\n",
       "      <td>Kerala</td>\n",
       "      <td>557442</td>\n",
       "      <td>2023</td>\n",
       "      <td>557442</td>\n",
       "      <td>2023</td>\n",
       "      <td>0</td>\n",
       "      <td>0</td>\n",
       "      <td>0.36</td>\n",
       "    </tr>\n",
       "  </tbody>\n",
       "</table>\n",
       "</div>"
      ],
      "text/plain": [
       "           states    Cases  Deaths   PCases  PDeaths  Cases (+)  Deaths (+)  \\\n",
       "0     Maharashtra  1774455   46573  1774455    46573          0           0   \n",
       "1       Karnataka   871342   11641   871342    11641          0           0   \n",
       "2  Andhra Pradesh   861092    6927   861092     6927          0           0   \n",
       "3      Tamil Nadu   768340   11586   768340    11586          0           0   \n",
       "4          Kerala   557442    2023   557442     2023          0           0   \n",
       "\n",
       "   Fatality Rate  \n",
       "0           2.62  \n",
       "1           1.34  \n",
       "2           0.80  \n",
       "3           1.51  \n",
       "4           0.36  "
      ]
     },
     "execution_count": 13,
     "metadata": {},
     "output_type": "execute_result"
    }
   ],
   "source": [
    "#hide\n",
    "df_table.head()"
   ]
  },
  {
   "cell_type": "code",
   "execution_count": 14,
   "metadata": {
    "execution": {
     "iopub.execute_input": "2020-11-22T12:43:13.243863Z",
     "iopub.status.busy": "2020-11-22T12:43:13.243248Z",
     "iopub.status.idle": "2020-11-22T12:43:13.261595Z",
     "shell.execute_reply": "2020-11-22T12:43:13.262151Z"
    },
    "papermill": {
     "duration": 0.043374,
     "end_time": "2020-11-22T12:43:13.262294",
     "exception": false,
     "start_time": "2020-11-22T12:43:13.218920",
     "status": "completed"
    },
    "tags": []
   },
   "outputs": [
    {
     "data": {
      "text/plain": [
       "{'updated': '2020-11-22',\n",
       " 'since': '2020-11-21',\n",
       " 'Cases': 9097896,\n",
       " 'PCases': 9095908,\n",
       " 'Deaths': 133287,\n",
       " 'PDeaths': 133263,\n",
       " 'Cases (+)': 1988,\n",
       " 'Deaths (+)': 24}"
      ]
     },
     "execution_count": 14,
     "metadata": {},
     "output_type": "execute_result"
    }
   ],
   "source": [
    "#hide\n",
    "summary = {'updated':dates[-1], 'since':dates[-2]}\n",
    "list_names = ['Cases', 'PCases', 'Deaths', 'PDeaths', 'Cases (+)', 'Deaths (+)']\n",
    "for name in list_names:\n",
    "    summary[name] = df_table.sum()[name]\n",
    "summary"
   ]
  },
  {
   "cell_type": "code",
   "execution_count": 15,
   "metadata": {
    "execution": {
     "iopub.execute_input": "2020-11-22T12:43:13.305709Z",
     "iopub.status.busy": "2020-11-22T12:43:13.305051Z",
     "iopub.status.idle": "2020-11-22T12:43:13.307886Z",
     "shell.execute_reply": "2020-11-22T12:43:13.307305Z"
    },
    "papermill": {
     "duration": 0.027523,
     "end_time": "2020-11-22T12:43:13.308077",
     "exception": false,
     "start_time": "2020-11-22T12:43:13.280554",
     "status": "completed"
    },
    "tags": []
   },
   "outputs": [],
   "source": [
    "#hide\n",
    "overview = '''\n",
    "<!-- #######  HTML!! #########-->\n",
    "<h1 style=\"color: #5e9ca0; text-align: center;\">India</h1>\n",
    "<p style=\"text-align: center;\">Last update: <strong>{update}</strong></p>\n",
    "<p style=\"text-align: center;\">Confirmed cases:</p>\n",
    "<p style=\"text-align: center;font-size:24px;\">{cases} (<span style=\"color: #ff0000;\">+{new}</span>)</p>\n",
    "<p style=\"text-align: center;\">Confirmed deaths:</p>\n",
    "<p style=\"text-align: center;font-size:24px;\">{deaths} (<span style=\"color: #ff0000;\">+{dnew}</span>)</p>\n",
    "'''"
   ]
  },
  {
   "cell_type": "code",
   "execution_count": 16,
   "metadata": {
    "execution": {
     "iopub.execute_input": "2020-11-22T12:43:13.351435Z",
     "iopub.status.busy": "2020-11-22T12:43:13.350747Z",
     "iopub.status.idle": "2020-11-22T12:43:13.354434Z",
     "shell.execute_reply": "2020-11-22T12:43:13.353905Z"
    },
    "papermill": {
     "duration": 0.027611,
     "end_time": "2020-11-22T12:43:13.354558",
     "exception": false,
     "start_time": "2020-11-22T12:43:13.326947",
     "status": "completed"
    },
    "tags": []
   },
   "outputs": [
    {
     "data": {
      "text/html": [
       "\n",
       "<!-- #######  HTML!! #########-->\n",
       "<h1 style=\"color: #5e9ca0; text-align: center;\">India</h1>\n",
       "<p style=\"text-align: center;\">Last update: <strong>2020-11-22</strong></p>\n",
       "<p style=\"text-align: center;\">Confirmed cases:</p>\n",
       "<p style=\"text-align: center;font-size:24px;\">9097896 (<span style=\"color: #ff0000;\">+1988</span>)</p>\n",
       "<p style=\"text-align: center;\">Confirmed deaths:</p>\n",
       "<p style=\"text-align: center;font-size:24px;\">133287 (<span style=\"color: #ff0000;\">+24</span>)</p>\n"
      ],
      "text/plain": [
       "<IPython.core.display.HTML object>"
      ]
     },
     "metadata": {},
     "output_type": "display_data"
    }
   ],
   "source": [
    "#hide_input\n",
    "update = summary['updated']\n",
    "cases = summary['Cases']\n",
    "new = summary['Cases (+)']\n",
    "deaths = summary['Deaths']\n",
    "dnew = summary['Deaths (+)']\n",
    "\n",
    "html = HTML(overview.format(update=update, cases=cases,new=new,deaths=deaths,dnew=dnew))\n",
    "\n",
    "display(html)"
   ]
  },
  {
   "cell_type": "code",
   "execution_count": 17,
   "metadata": {
    "execution": {
     "iopub.execute_input": "2020-11-22T12:43:13.403540Z",
     "iopub.status.busy": "2020-11-22T12:43:13.402806Z",
     "iopub.status.idle": "2020-11-22T12:43:13.410017Z",
     "shell.execute_reply": "2020-11-22T12:43:13.409383Z"
    },
    "papermill": {
     "duration": 0.036238,
     "end_time": "2020-11-22T12:43:13.410277",
     "exception": false,
     "start_time": "2020-11-22T12:43:13.374039",
     "status": "completed"
    },
    "tags": []
   },
   "outputs": [],
   "source": [
    "#hide\n",
    "dt_cols = list(dft_cases.columns[1:])\n",
    "dft_ct_new_cases = dft_cases.groupby('state')[dt_cols].sum().diff(axis=1).fillna(0).astype(int)\n",
    "dft_ct_new_cases.sort_values(by = dates[-1], ascending = False,inplace = True)"
   ]
  },
  {
   "cell_type": "code",
   "execution_count": 18,
   "metadata": {
    "execution": {
     "iopub.execute_input": "2020-11-22T12:43:13.470362Z",
     "iopub.status.busy": "2020-11-22T12:43:13.469508Z",
     "iopub.status.idle": "2020-11-22T12:43:13.475129Z",
     "shell.execute_reply": "2020-11-22T12:43:13.475914Z"
    },
    "papermill": {
     "duration": 0.045363,
     "end_time": "2020-11-22T12:43:13.476096",
     "exception": false,
     "start_time": "2020-11-22T12:43:13.430733",
     "status": "completed"
    },
    "tags": []
   },
   "outputs": [
    {
     "data": {
      "text/html": [
       "<div>\n",
       "<style scoped>\n",
       "    .dataframe tbody tr th:only-of-type {\n",
       "        vertical-align: middle;\n",
       "    }\n",
       "\n",
       "    .dataframe tbody tr th {\n",
       "        vertical-align: top;\n",
       "    }\n",
       "\n",
       "    .dataframe thead th {\n",
       "        text-align: right;\n",
       "    }\n",
       "</style>\n",
       "<table border=\"1\" class=\"dataframe\">\n",
       "  <thead>\n",
       "    <tr style=\"text-align: right;\">\n",
       "      <th>states</th>\n",
       "      <th>2020-07-01</th>\n",
       "      <th>2020-07-02</th>\n",
       "      <th>2020-07-03</th>\n",
       "      <th>2020-07-04</th>\n",
       "      <th>2020-07-05</th>\n",
       "      <th>2020-07-06</th>\n",
       "      <th>2020-07-07</th>\n",
       "      <th>2020-07-08</th>\n",
       "      <th>2020-07-09</th>\n",
       "      <th>2020-07-10</th>\n",
       "      <th>...</th>\n",
       "      <th>2020-11-13</th>\n",
       "      <th>2020-11-14</th>\n",
       "      <th>2020-11-15</th>\n",
       "      <th>2020-11-16</th>\n",
       "      <th>2020-11-17</th>\n",
       "      <th>2020-11-18</th>\n",
       "      <th>2020-11-19</th>\n",
       "      <th>2020-11-20</th>\n",
       "      <th>2020-11-21</th>\n",
       "      <th>2020-11-22</th>\n",
       "    </tr>\n",
       "    <tr>\n",
       "      <th>state</th>\n",
       "      <th></th>\n",
       "      <th></th>\n",
       "      <th></th>\n",
       "      <th></th>\n",
       "      <th></th>\n",
       "      <th></th>\n",
       "      <th></th>\n",
       "      <th></th>\n",
       "      <th></th>\n",
       "      <th></th>\n",
       "      <th></th>\n",
       "      <th></th>\n",
       "      <th></th>\n",
       "      <th></th>\n",
       "      <th></th>\n",
       "      <th></th>\n",
       "      <th></th>\n",
       "      <th></th>\n",
       "      <th></th>\n",
       "      <th></th>\n",
       "      <th></th>\n",
       "    </tr>\n",
       "  </thead>\n",
       "  <tbody>\n",
       "    <tr>\n",
       "      <th>Telangana</th>\n",
       "      <td>0</td>\n",
       "      <td>1213</td>\n",
       "      <td>1892</td>\n",
       "      <td>1850</td>\n",
       "      <td>1590</td>\n",
       "      <td>1831</td>\n",
       "      <td>1879</td>\n",
       "      <td>1924</td>\n",
       "      <td>1410</td>\n",
       "      <td>1278</td>\n",
       "      <td>...</td>\n",
       "      <td>997</td>\n",
       "      <td>1050</td>\n",
       "      <td>661</td>\n",
       "      <td>502</td>\n",
       "      <td>952</td>\n",
       "      <td>948</td>\n",
       "      <td>1058</td>\n",
       "      <td>894</td>\n",
       "      <td>925</td>\n",
       "      <td>873</td>\n",
       "    </tr>\n",
       "    <tr>\n",
       "      <th>Odisha</th>\n",
       "      <td>0</td>\n",
       "      <td>229</td>\n",
       "      <td>561</td>\n",
       "      <td>495</td>\n",
       "      <td>469</td>\n",
       "      <td>456</td>\n",
       "      <td>571</td>\n",
       "      <td>527</td>\n",
       "      <td>577</td>\n",
       "      <td>755</td>\n",
       "      <td>...</td>\n",
       "      <td>1018</td>\n",
       "      <td>902</td>\n",
       "      <td>753</td>\n",
       "      <td>749</td>\n",
       "      <td>644</td>\n",
       "      <td>868</td>\n",
       "      <td>868</td>\n",
       "      <td>757</td>\n",
       "      <td>778</td>\n",
       "      <td>638</td>\n",
       "    </tr>\n",
       "    <tr>\n",
       "      <th>Bihar</th>\n",
       "      <td>0</td>\n",
       "      <td>478</td>\n",
       "      <td>426</td>\n",
       "      <td>349</td>\n",
       "      <td>403</td>\n",
       "      <td>280</td>\n",
       "      <td>388</td>\n",
       "      <td>749</td>\n",
       "      <td>704</td>\n",
       "      <td>352</td>\n",
       "      <td>...</td>\n",
       "      <td>581</td>\n",
       "      <td>588</td>\n",
       "      <td>247</td>\n",
       "      <td>517</td>\n",
       "      <td>513</td>\n",
       "      <td>734</td>\n",
       "      <td>794</td>\n",
       "      <td>495</td>\n",
       "      <td>278</td>\n",
       "      <td>385</td>\n",
       "    </tr>\n",
       "    <tr>\n",
       "      <th>Tripura</th>\n",
       "      <td>0</td>\n",
       "      <td>39</td>\n",
       "      <td>93</td>\n",
       "      <td>25</td>\n",
       "      <td>23</td>\n",
       "      <td>111</td>\n",
       "      <td>24</td>\n",
       "      <td>57</td>\n",
       "      <td>16</td>\n",
       "      <td>142</td>\n",
       "      <td>...</td>\n",
       "      <td>76</td>\n",
       "      <td>78</td>\n",
       "      <td>26</td>\n",
       "      <td>17</td>\n",
       "      <td>77</td>\n",
       "      <td>73</td>\n",
       "      <td>105</td>\n",
       "      <td>75</td>\n",
       "      <td>75</td>\n",
       "      <td>48</td>\n",
       "    </tr>\n",
       "    <tr>\n",
       "      <th>Mizoram</th>\n",
       "      <td>0</td>\n",
       "      <td>2</td>\n",
       "      <td>0</td>\n",
       "      <td>2</td>\n",
       "      <td>22</td>\n",
       "      <td>11</td>\n",
       "      <td>1</td>\n",
       "      <td>5</td>\n",
       "      <td>0</td>\n",
       "      <td>23</td>\n",
       "      <td>...</td>\n",
       "      <td>67</td>\n",
       "      <td>59</td>\n",
       "      <td>25</td>\n",
       "      <td>3</td>\n",
       "      <td>48</td>\n",
       "      <td>37</td>\n",
       "      <td>32</td>\n",
       "      <td>28</td>\n",
       "      <td>66</td>\n",
       "      <td>40</td>\n",
       "    </tr>\n",
       "  </tbody>\n",
       "</table>\n",
       "<p>5 rows × 145 columns</p>\n",
       "</div>"
      ],
      "text/plain": [
       "states     2020-07-01  2020-07-02  2020-07-03  2020-07-04  2020-07-05  \\\n",
       "state                                                                   \n",
       "Telangana           0        1213        1892        1850        1590   \n",
       "Odisha              0         229         561         495         469   \n",
       "Bihar               0         478         426         349         403   \n",
       "Tripura             0          39          93          25          23   \n",
       "Mizoram             0           2           0           2          22   \n",
       "\n",
       "states     2020-07-06  2020-07-07  2020-07-08  2020-07-09  2020-07-10  ...  \\\n",
       "state                                                                  ...   \n",
       "Telangana        1831        1879        1924        1410        1278  ...   \n",
       "Odisha            456         571         527         577         755  ...   \n",
       "Bihar             280         388         749         704         352  ...   \n",
       "Tripura           111          24          57          16         142  ...   \n",
       "Mizoram            11           1           5           0          23  ...   \n",
       "\n",
       "states     2020-11-13  2020-11-14  2020-11-15  2020-11-16  2020-11-17  \\\n",
       "state                                                                   \n",
       "Telangana         997        1050         661         502         952   \n",
       "Odisha           1018         902         753         749         644   \n",
       "Bihar             581         588         247         517         513   \n",
       "Tripura            76          78          26          17          77   \n",
       "Mizoram            67          59          25           3          48   \n",
       "\n",
       "states     2020-11-18  2020-11-19  2020-11-20  2020-11-21  2020-11-22  \n",
       "state                                                                  \n",
       "Telangana         948        1058         894         925         873  \n",
       "Odisha            868         868         757         778         638  \n",
       "Bihar             734         794         495         278         385  \n",
       "Tripura            73         105          75          75          48  \n",
       "Mizoram            37          32          28          66          40  \n",
       "\n",
       "[5 rows x 145 columns]"
      ]
     },
     "execution_count": 18,
     "metadata": {},
     "output_type": "execute_result"
    }
   ],
   "source": [
    "#hide\n",
    "dft_ct_new_cases.head()"
   ]
  },
  {
   "cell_type": "code",
   "execution_count": 19,
   "metadata": {
    "execution": {
     "iopub.execute_input": "2020-11-22T12:43:13.545630Z",
     "iopub.status.busy": "2020-11-22T12:43:13.535275Z",
     "iopub.status.idle": "2020-11-22T12:43:20.513173Z",
     "shell.execute_reply": "2020-11-22T12:43:20.513756Z"
    },
    "papermill": {
     "duration": 7.014865,
     "end_time": "2020-11-22T12:43:20.513965",
     "exception": false,
     "start_time": "2020-11-22T12:43:13.499100",
     "status": "completed"
    },
    "tags": []
   },
   "outputs": [
    {
     "data": {
      "image/png": "[encoded data removed]",
      "text/plain": [
       "<Figure size 1296x2016 with 11 Axes>"
      ]
     },
     "metadata": {
      "needs_background": "light"
     },
     "output_type": "display_data"
    }
   ],
   "source": [
    "#hide_input\n",
    "df = dft_ct_new_cases.copy()\n",
    "df.loc['Total'] = df.sum()\n",
    "n = 5\n",
    "ax = []\n",
    "fig = plt.figure(figsize = (18,28))\n",
    "gs = fig.add_gridspec(n+2, 5)\n",
    "# gs = fig.add_gridspec(2, 3)\n",
    "ax1 = fig.add_subplot(gs[0, :])\n",
    "ef = df.loc['Total'].rename_axis('date').reset_index()\n",
    "ef['date'] = ef['date'].astype('datetime64[ns]')\n",
    "ax1.bar(ef.date,ef.Total,alpha=0.3,color='#007acc')\n",
    "ax1.plot(ef.date,ef.Total , marker=\"o\", color='#007acc')\n",
    "ax1.xaxis.set_major_locator(mdates.WeekdayLocator())\n",
    "ax1.xaxis.set_major_formatter(mdates.DateFormatter('%b %d'))\n",
    "ax1.text(0.02, 0.5,'India daily case count', transform = ax1.transAxes, fontsize=25);\n",
    "ax1.spines['right'].set_visible(False)\n",
    "ax1.spines['top'].set_visible(False)\n",
    "\n",
    "ax2 = fig.add_subplot(gs[1,0])\n",
    "ef = df.loc['Maharashtra'].rename_axis('date').reset_index()\n",
    "ef['date'] = ef['date'].astype('datetime64[ns]')\n",
    "\n",
    "ax2.bar(ef.date, ef.Maharashtra,color = '#007acc',alpha=0.5)\n",
    "ax2.xaxis.set_major_locator(mdates.WeekdayLocator())\n",
    "ax2.xaxis.set_major_formatter(mdates.DateFormatter('%b %d'))\n",
    "ax2.set_xticks(ax2.get_xticks()[::3])\n",
    "maxyval = ef.Maharashtra.max()\n",
    "ax2.set_ylim([0,maxyval])\n",
    "ax2.text(0.05, 0.9,'Maharashtra', transform = ax2.transAxes, fontsize=20);\n",
    "ax2.spines['right'].set_visible(False)\n",
    "ax2.spines['top'].set_visible(False)\n",
    "\n",
    "\n",
    "ax3 = fig.add_subplot(gs[1,1])\n",
    "ef = df.loc['Tamil Nadu'].rename_axis('date').reset_index()\n",
    "ef['date'] = ef['date'].astype('datetime64[ns]')\n",
    "ax3.bar(ef.date, ef['Tamil Nadu'],color = '#007acc',alpha=0.5,)\n",
    "ax3.xaxis.set_major_locator(mdates.WeekdayLocator())\n",
    "ax3.xaxis.set_major_formatter(mdates.DateFormatter('%b %d'))\n",
    "ax3.set_xticks(ax3.get_xticks()[::3])\n",
    "ax3.text(0.05, 0.9,'Tamil Nadu', transform = ax3.transAxes, fontsize=20);\n",
    "ax3.spines['right'].set_visible(False)\n",
    "ax3.spines['top'].set_visible(False)\n",
    "\n",
    "ax5 = fig.add_subplot(gs[1,3])\n",
    "ef = df.loc['Telangana'].rename_axis('date').reset_index()\n",
    "ef['date'] = ef['date'].astype('datetime64[ns]')\n",
    "ax5.bar(ef.date, ef['Telangana'],color = '#007acc',alpha=0.5,)\n",
    "ax5.xaxis.set_major_locator(mdates.WeekdayLocator())\n",
    "ax5.xaxis.set_major_formatter(mdates.DateFormatter('%b %d'))\n",
    "ax5.set_xticks(ax5.get_xticks()[::3])\n",
    "ax5.text(0.05, 0.9,'Telangana', transform = ax5.transAxes, fontsize=20);\n",
    "ax5.spines['right'].set_visible(False)\n",
    "ax5.spines['top'].set_visible(False)\n",
    "\n",
    "ax6 = fig.add_subplot(gs[1,4])\n",
    "ef = df.loc['Andhra Pradesh'].rename_axis('date').reset_index()\n",
    "ef['date'] = ef['date'].astype('datetime64[ns]')\n",
    "ax6.bar(ef.date, ef['Andhra Pradesh'],color = '#007acc',alpha=0.5,)\n",
    "ax6.xaxis.set_major_locator(mdates.WeekdayLocator())\n",
    "ax6.xaxis.set_major_formatter(mdates.DateFormatter('%b %d'))\n",
    "ax6.set_xticks(ax6.get_xticks()[::3])\n",
    "ax6.text(0.05, 1,'Andhra Pradesh', transform = ax6.transAxes, fontsize=20);\n",
    "ax6.spines['right'].set_visible(False)\n",
    "ax6.spines['top'].set_visible(False)\n",
    "\n",
    "ax4 = fig.add_subplot(gs[1,2])\n",
    "ef = df.loc['Delhi'].rename_axis('date').reset_index()\n",
    "ef['date'] = ef['date'].astype('datetime64[ns]')\n",
    "ax4.bar(ef.date, ef.Delhi,color = '#007acc',alpha=0.5)\n",
    "ax4.set_xticks([])\n",
    "ax4.xaxis.set_major_locator(mdates.WeekdayLocator())\n",
    "ax4.xaxis.set_major_formatter(mdates.DateFormatter('%b %d'))\n",
    "ax4.set_xticks(ax4.get_xticks()[::3])\n",
    "ax4.spines['right'].set_visible(False)\n",
    "ax4.spines['top'].set_visible(False)\n",
    "\n",
    "ax4.text(0.05, 1,'Delhi', transform = ax4.transAxes, fontsize=20)\n",
    "\n",
    "for i in range(n):\n",
    "    \n",
    "    ax.append(fig.add_subplot(gs[i+2,:]))\n",
    "    ef = df.iloc[i+3].rename_axis('date').reset_index()\n",
    "    ef['date'] = ef['date'].astype('datetime64[ns]')\n",
    "    ax[i].bar(ef.date,ef.iloc[:,-1],color = '#007acc',alpha=0.3)\n",
    "    ax[i].plot(ef.date,ef.iloc[:,-1],marker='o',color='#007acc')\n",
    "    ax[i].text(0.02,0.5,f'{ef.columns.values[-1]}',transform = ax[i].transAxes, fontsize = 20);\n",
    "    ax[i].xaxis.set_major_locator(mdates.WeekdayLocator())\n",
    "    ax[i].xaxis.set_major_formatter(mdates.DateFormatter('%b %d'))\n",
    "    ax[i].set_ylim([0,7000])\n",
    "    ax[i].spines['right'].set_visible(False)\n",
    "    ax[i].spines['top'].set_visible(False)\n",
    "plt.tight_layout()\n"
   ]
  },
  {
   "cell_type": "code",
   "execution_count": 20,
   "metadata": {
    "execution": {
     "iopub.execute_input": "2020-11-22T12:43:20.571229Z",
     "iopub.status.busy": "2020-11-22T12:43:20.570469Z",
     "iopub.status.idle": "2020-11-22T12:43:20.573025Z",
     "shell.execute_reply": "2020-11-22T12:43:20.573599Z"
    },
    "papermill": {
     "duration": 0.035664,
     "end_time": "2020-11-22T12:43:20.573755",
     "exception": false,
     "start_time": "2020-11-22T12:43:20.538091",
     "status": "completed"
    },
    "tags": []
   },
   "outputs": [
    {
     "name": "stdout",
     "output_type": "stream",
     "text": [
      "                                   states    Cases  Deaths   PCases  PDeaths  Cases (+)  Deaths (+)  Fatality Rate\n",
      "                              Maharashtra  1774455   46573  1774455    46573          0           0           2.62\n",
      "                                Karnataka   871342   11641   871342    11641          0           0           1.34\n",
      "                           Andhra Pradesh   861092    6927   861092     6927          0           0           0.80\n",
      "                               Tamil Nadu   768340   11586   768340    11586          0           0           1.51\n",
      "                                   Kerala   557442    2023   557442     2023          0           0           0.36\n",
      "                            Uttar Pradesh   524223    7524   524223     7524          0           0           1.44\n",
      "                                    Delhi   523117    8270   523117     8270          0           0           1.58\n",
      "                              West Bengal   452770    7976   452770     7976          0           0           1.76\n",
      "                                   Odisha   313961    1693   313323     1678        638          15           0.54\n",
      "                                Telangana   263526    1430   262653     1426        873           4           0.54\n",
      "                                Rajasthan   240676    2146   240676     2146          0           0           0.89\n",
      "                                    Bihar   230632    1221   230247     1216        385           5           0.53\n",
      "                             Chhattisgarh   221688    2713   221688     2713          0           0           1.22\n",
      "                                  Haryana   215021    2163   215021     2163          0           0           1.01\n",
      "                                    Assam   211427     973   211427      973          0           0           0.46\n",
      "                                  Gujarat   195917    3846   195917     3846          0           0           1.96\n",
      "                           Madhya Pradesh   191246    3149   191246     3149          0           0           1.65\n",
      "                                   Punjab   145667    4595   145667     4595          0           0           3.15\n",
      "                                Jharkhand   107332     945   107332      945          0           0           0.88\n",
      "                        Jammu and Kashmir   105984    1624   105984     1624          0           0           1.53\n",
      "                              Uttarakhand    70790    1146    70790     1146          0           0           1.62\n",
      "                                      Goa    46748     675    46748      675          0           0           1.44\n",
      "                               Puducherry    36648     609    36648      609          0           0           1.66\n",
      "                         Himachal Pradesh    33700     509    33700      509          0           0           1.51\n",
      "                                  Tripura    32412     363    32364      363         48           0           1.12\n",
      "                                  Manipur    23018     233    23018      233          0           0           1.01\n",
      "                               Chandigarh    16591     258    16591      258          0           0           1.56\n",
      "                        Arunachal Pradesh    16037      49    16037       49          0           0           0.31\n",
      "                                Meghalaya    11269     108    11269      108          0           0           0.96\n",
      "                                 Nagaland    10674      57    10674       57          0           0           0.53\n",
      "                                   Ladakh     7866      98     7866       98          0           0           1.25\n",
      "                                   Sikkim     4691      96     4691       96          0           0           2.05\n",
      "              Andaman and Nicobar Islands     4631      61     4631       61          0           0           1.32\n",
      "                                  Mizoram     3647       5     3607        5         40           0           0.14\n",
      " Dadra and Nagar Haveli and Daman and Diu     3316       2     3312        2          4           0           0.06\n",
      "                              Lakshadweep        0       0        0        0          0           0            NaN\n"
     ]
    }
   ],
   "source": [
    "#hide_input\n",
    "print(df_table.to_string(index=False))"
   ]
  },
  {
   "cell_type": "code",
   "execution_count": null,
   "metadata": {
    "papermill": {
     "duration": 0.028066,
     "end_time": "2020-11-22T12:43:20.627271",
     "exception": false,
     "start_time": "2020-11-22T12:43:20.599205",
     "status": "completed"
    },
    "tags": []
   },
   "outputs": [],
   "source": []
  },
  {
   "cell_type": "code",
   "execution_count": null,
   "metadata": {
    "papermill": {
     "duration": 0.023719,
     "end_time": "2020-11-22T12:43:20.674435",
     "exception": false,
     "start_time": "2020-11-22T12:43:20.650716",
     "status": "completed"
    },
    "tags": []
   },
   "outputs": [],
   "source": []
  }
 ],
 "metadata": {
  "kernelspec": {
   "display_name": "Python 3",
   "language": "python",
   "name": "python3"
  },
  "language_info": {
   "codemirror_mode": {
    "name": "ipython",
    "version": 3
   },
   "file_extension": ".py",
   "mimetype": "text/x-python",
   "name": "python",
   "nbconvert_exporter": "python",
   "pygments_lexer": "ipython3",
   "version": "3.6.12"
  },
  "papermill": {
   "duration": 16.276634,
   "end_time": "2020-11-22T12:43:21.212028",
   "environment_variables": {},
   "exception": null,
   "input_path": "latest.ipynb",
   "output_path": "latest.ipynb",
   "parameters": {},
   "start_time": "2020-11-22T12:43:04.935394",
   "version": "2.1.2"
  }
 },
 "nbformat": 4,
 "nbformat_minor": 4
}