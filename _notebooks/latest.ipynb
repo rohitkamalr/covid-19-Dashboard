{
 "cells": [
  {
   "cell_type": "markdown",
   "id": "colored-stack",
   "metadata": {
    "papermill": {
     "duration": 0.025457,
     "end_time": "2021-04-08T13:16:55.446884",
     "exception": false,
     "start_time": "2021-04-08T13:16:55.421427",
     "status": "completed"
    },
    "tags": []
   },
   "source": [
    "# Latest COVID-19 India Matplotlib Overview"
   ]
  },
  {
   "cell_type": "code",
   "execution_count": 1,
   "id": "light-proportion",
   "metadata": {
    "execution": {
     "iopub.execute_input": "2021-04-08T13:16:55.506403Z",
     "iopub.status.busy": "2021-04-08T13:16:55.505660Z",
     "iopub.status.idle": "2021-04-08T13:16:56.116654Z",
     "shell.execute_reply": "2021-04-08T13:16:56.117184Z"
    },
    "papermill": {
     "duration": 0.648803,
     "end_time": "2021-04-08T13:16:56.117374",
     "exception": false,
     "start_time": "2021-04-08T13:16:55.468571",
     "status": "completed"
    },
    "tags": []
   },
   "outputs": [],
   "source": [
    "#hide\n",
    "import pandas as pd\n",
    "import numpy as np\n",
    "import requests\n",
    "import json\n",
    "import matplotlib.pyplot as plt\n",
    "import matplotlib.dates as mdates\n",
    "import matplotlib as mpl\n",
    "from IPython.core.display import display,HTML\n",
    "%matplotlib inline\n",
    "from datetime import date"
   ]
  },
  {
   "cell_type": "code",
   "execution_count": 2,
   "id": "greenhouse-shooting",
   "metadata": {
    "execution": {
     "iopub.execute_input": "2021-04-08T13:16:56.163791Z",
     "iopub.status.busy": "2021-04-08T13:16:56.163133Z",
     "iopub.status.idle": "2021-04-08T13:16:56.295921Z",
     "shell.execute_reply": "2021-04-08T13:16:56.295364Z"
    },
    "papermill": {
     "duration": 0.158063,
     "end_time": "2021-04-08T13:16:56.296065",
     "exception": false,
     "start_time": "2021-04-08T13:16:56.138002",
     "status": "completed"
    },
    "tags": []
   },
   "outputs": [],
   "source": [
    "#hide\n",
    "df  = pd.read_csv('https://api.covid19india.org/csv/latest/states.csv')\n",
    "df = df[['Date','State','Confirmed','Deceased']]\n",
    "df = df.rename(columns={'Confirmed':'Cases', \"Deceased\":'Deaths'})\n",
    "df_cases = df[[\"Date\",'State','Cases']]\n",
    "df_deaths = df[['Date','State','Deaths']]\n",
    "df_cases1 = df_cases.groupby('Date')\n",
    "df_deaths1= df_deaths.groupby('Date')"
   ]
  },
  {
   "cell_type": "code",
   "execution_count": 3,
   "id": "hybrid-cathedral",
   "metadata": {
    "execution": {
     "iopub.execute_input": "2021-04-08T13:16:56.337870Z",
     "iopub.status.busy": "2021-04-08T13:16:56.337243Z",
     "iopub.status.idle": "2021-04-08T13:16:56.356553Z",
     "shell.execute_reply": "2021-04-08T13:16:56.357043Z"
    },
    "papermill": {
     "duration": 0.042265,
     "end_time": "2021-04-08T13:16:56.357181",
     "exception": false,
     "start_time": "2021-04-08T13:16:56.314916",
     "status": "completed"
    },
    "tags": []
   },
   "outputs": [],
   "source": [
    "#hide\n",
    "df_snap = pd.read_csv('data/SnapshotCases-28-July.csv')\n",
    "arr_states = df_snap['states'].unique()\n",
    "arr_dates = df['Date'].unique()\n",
    "df_snap = df_snap.set_index('states')"
   ]
  },
  {
   "cell_type": "code",
   "execution_count": 4,
   "id": "interior-belfast",
   "metadata": {
    "execution": {
     "iopub.execute_input": "2021-04-08T13:16:56.402872Z",
     "iopub.status.busy": "2021-04-08T13:16:56.402199Z",
     "iopub.status.idle": "2021-04-08T13:16:56.407053Z",
     "shell.execute_reply": "2021-04-08T13:16:56.406438Z"
    },
    "papermill": {
     "duration": 0.031647,
     "end_time": "2021-04-08T13:16:56.407178",
     "exception": false,
     "start_time": "2021-04-08T13:16:56.375531",
     "status": "completed"
    },
    "tags": []
   },
   "outputs": [
    {
     "data": {
      "text/plain": [
       "array(['Andaman and Nicobar Islands', 'Andhra Pradesh',\n",
       "       'Arunachal Pradesh', 'Assam', 'Bihar', 'Chandigarh',\n",
       "       'Dadra and Nagar Haveli and Daman and Diu', 'Delhi', 'Goa',\n",
       "       'Gujarat', 'Haryana', 'Himachal Pradesh', 'Jammu and Kashmir',\n",
       "       'Jharkhand', 'Karnataka', 'Kerala', 'Lakshadweep',\n",
       "       'Madhya Pradesh', 'Maharashtra', 'Manipur', 'Meghalaya', 'Mizoram',\n",
       "       'Nagaland', 'Odisha', 'Puducherry', 'Punjab', 'Rajasthan',\n",
       "       'Sikkim', 'Tamil Nadu', 'Telangana', 'Tripura', 'Uttar Pradesh',\n",
       "       'West Bengal', 'Chhattisgarh', 'Ladakh', 'Uttarakhand'],\n",
       "      dtype=object)"
      ]
     },
     "execution_count": 4,
     "metadata": {},
     "output_type": "execute_result"
    }
   ],
   "source": [
    "#hide\n",
    "arr_states[-9] = 'Puducherry'\n",
    "arr_states[-10] = 'Odisha'\n",
    "arr_states[6] = 'Dadra and Nagar Haveli and Daman and Diu'\n",
    "arr_states = np.append(arr_states,np.array(['Chhattisgarh','Ladakh','Uttarakhand']))\n",
    "arr_states"
   ]
  },
  {
   "cell_type": "code",
   "execution_count": 5,
   "id": "behind-manner",
   "metadata": {
    "execution": {
     "iopub.execute_input": "2021-04-08T13:16:56.457917Z",
     "iopub.status.busy": "2021-04-08T13:16:56.457272Z",
     "iopub.status.idle": "2021-04-08T13:16:56.466468Z",
     "shell.execute_reply": "2021-04-08T13:16:56.467048Z"
    },
    "papermill": {
     "duration": 0.041013,
     "end_time": "2021-04-08T13:16:56.467227",
     "exception": false,
     "start_time": "2021-04-08T13:16:56.426214",
     "status": "completed"
    },
    "tags": []
   },
   "outputs": [],
   "source": [
    "#hide\n",
    "dates = []\n",
    "for i in arr_dates:\n",
    "    if i>='2020-07-01':\n",
    "        dates.append(i)\n",
    "dict = {'states':dates}\n",
    "for i in arr_states:\n",
    "    dict[i] = [0]*len(dates)\n",
    "dft_cases = pd.DataFrame(dict)\n",
    "dft_deaths = pd.DataFrame(dict)\n"
   ]
  },
  {
   "cell_type": "code",
   "execution_count": 6,
   "id": "simplified-peter",
   "metadata": {
    "execution": {
     "iopub.execute_input": "2021-04-08T13:16:56.512228Z",
     "iopub.status.busy": "2021-04-08T13:16:56.511198Z",
     "iopub.status.idle": "2021-04-08T13:17:01.535024Z",
     "shell.execute_reply": "2021-04-08T13:17:01.534436Z"
    },
    "papermill": {
     "duration": 5.048715,
     "end_time": "2021-04-08T13:17:01.535168",
     "exception": false,
     "start_time": "2021-04-08T13:16:56.486453",
     "status": "completed"
    },
    "tags": []
   },
   "outputs": [],
   "source": [
    "#hide\n",
    "for i in range(len(dates)):\n",
    "    df1_deaths = df_deaths1.get_group(dates[i])\n",
    "    for j in range(len(df1_deaths.index)):\n",
    "        if df1_deaths.iloc[j,1] in arr_states:\n",
    "            dft_deaths.loc[i,df1_deaths.iloc[j,1]] = df1_deaths.iloc[j,2]\n",
    "dft_deaths = dft_deaths.set_index('states')"
   ]
  },
  {
   "cell_type": "code",
   "execution_count": 7,
   "id": "geological-welding",
   "metadata": {
    "execution": {
     "iopub.execute_input": "2021-04-08T13:17:01.580205Z",
     "iopub.status.busy": "2021-04-08T13:17:01.579559Z",
     "iopub.status.idle": "2021-04-08T13:17:06.597967Z",
     "shell.execute_reply": "2021-04-08T13:17:06.597412Z"
    },
    "papermill": {
     "duration": 5.042812,
     "end_time": "2021-04-08T13:17:06.598110",
     "exception": false,
     "start_time": "2021-04-08T13:17:01.555298",
     "status": "completed"
    },
    "tags": []
   },
   "outputs": [],
   "source": [
    "#hide\n",
    "for i in range(len(dates)):\n",
    "    df1_cases = df_cases1.get_group(dates[i])\n",
    "    for j in range(len(df1_cases.index)):\n",
    "        if df1_cases.iloc[j,1] in arr_states:\n",
    "            dft_cases.loc[i,df1_cases.iloc[j,1]] = df1_cases.iloc[j,2]\n",
    "dft_cases = dft_cases.set_index('states')"
   ]
  },
  {
   "cell_type": "code",
   "execution_count": 8,
   "id": "binary-ratio",
   "metadata": {
    "execution": {
     "iopub.execute_input": "2021-04-08T13:17:06.643363Z",
     "iopub.status.busy": "2021-04-08T13:17:06.642684Z",
     "iopub.status.idle": "2021-04-08T13:17:06.645204Z",
     "shell.execute_reply": "2021-04-08T13:17:06.644689Z"
    },
    "papermill": {
     "duration": 0.026571,
     "end_time": "2021-04-08T13:17:06.645331",
     "exception": false,
     "start_time": "2021-04-08T13:17:06.618760",
     "status": "completed"
    },
    "tags": []
   },
   "outputs": [],
   "source": [
    "#hide\n",
    "dft_cases = dft_cases.T\n",
    "dft_deaths = dft_deaths.T\n",
    "dt_today = dates[-1]\n",
    "dt_yday = dates[-2]"
   ]
  },
  {
   "cell_type": "code",
   "execution_count": 9,
   "id": "boolean-calculator",
   "metadata": {
    "execution": {
     "iopub.execute_input": "2021-04-08T13:17:06.687176Z",
     "iopub.status.busy": "2021-04-08T13:17:06.686518Z",
     "iopub.status.idle": "2021-04-08T13:17:06.692125Z",
     "shell.execute_reply": "2021-04-08T13:17:06.692729Z"
    },
    "papermill": {
     "duration": 0.028737,
     "end_time": "2021-04-08T13:17:06.692866",
     "exception": false,
     "start_time": "2021-04-08T13:17:06.664129",
     "status": "completed"
    },
    "tags": []
   },
   "outputs": [],
   "source": [
    "#hide\n",
    "dft_cases = dft_cases.reset_index()\n",
    "dft_deaths = dft_deaths.reset_index()\n",
    "dft_cases = dft_cases.rename(columns = {'index':'state'})\n",
    "dft_deaths = dft_deaths.rename(columns = {'index':'state'})"
   ]
  },
  {
   "cell_type": "code",
   "execution_count": 10,
   "id": "invisible-johnston",
   "metadata": {
    "execution": {
     "iopub.execute_input": "2021-04-08T13:17:06.744443Z",
     "iopub.status.busy": "2021-04-08T13:17:06.743811Z",
     "iopub.status.idle": "2021-04-08T13:17:06.746719Z",
     "shell.execute_reply": "2021-04-08T13:17:06.746174Z"
    },
    "papermill": {
     "duration": 0.034463,
     "end_time": "2021-04-08T13:17:06.746866",
     "exception": false,
     "start_time": "2021-04-08T13:17:06.712403",
     "status": "completed"
    },
    "tags": []
   },
   "outputs": [],
   "source": [
    "#hide\n",
    "dfc_cases = dft_cases.groupby('state')[dt_today].sum()\n",
    "dfc_deaths = dft_deaths.groupby('state')[dt_today].sum()\n",
    "dfp_cases = dft_cases.groupby('state')[dt_yday].sum()\n",
    "dfp_deaths = dft_deaths.groupby('state')[dt_yday].sum()"
   ]
  },
  {
   "cell_type": "code",
   "execution_count": 11,
   "id": "measured-great",
   "metadata": {
    "execution": {
     "iopub.execute_input": "2021-04-08T13:17:06.792304Z",
     "iopub.status.busy": "2021-04-08T13:17:06.791671Z",
     "iopub.status.idle": "2021-04-08T13:17:06.806336Z",
     "shell.execute_reply": "2021-04-08T13:17:06.806880Z"
    },
    "papermill": {
     "duration": 0.041121,
     "end_time": "2021-04-08T13:17:06.807013",
     "exception": false,
     "start_time": "2021-04-08T13:17:06.765892",
     "status": "completed"
    },
    "tags": []
   },
   "outputs": [
    {
     "data": {
      "text/html": [
       "<div>\n",
       "<style scoped>\n",
       "    .dataframe tbody tr th:only-of-type {\n",
       "        vertical-align: middle;\n",
       "    }\n",
       "\n",
       "    .dataframe tbody tr th {\n",
       "        vertical-align: top;\n",
       "    }\n",
       "\n",
       "    .dataframe thead th {\n",
       "        text-align: right;\n",
       "    }\n",
       "</style>\n",
       "<table border=\"1\" class=\"dataframe\">\n",
       "  <thead>\n",
       "    <tr style=\"text-align: right;\">\n",
       "      <th></th>\n",
       "      <th>states</th>\n",
       "      <th>Cases</th>\n",
       "      <th>Deaths</th>\n",
       "      <th>PCases</th>\n",
       "      <th>PDeaths</th>\n",
       "    </tr>\n",
       "  </thead>\n",
       "  <tbody>\n",
       "    <tr>\n",
       "      <th>0</th>\n",
       "      <td>Maharashtra</td>\n",
       "      <td>3173261</td>\n",
       "      <td>56652</td>\n",
       "      <td>3173261</td>\n",
       "      <td>56652</td>\n",
       "    </tr>\n",
       "    <tr>\n",
       "      <th>1</th>\n",
       "      <td>Kerala</td>\n",
       "      <td>1144595</td>\n",
       "      <td>4711</td>\n",
       "      <td>1144595</td>\n",
       "      <td>4711</td>\n",
       "    </tr>\n",
       "    <tr>\n",
       "      <th>2</th>\n",
       "      <td>Karnataka</td>\n",
       "      <td>1033560</td>\n",
       "      <td>12731</td>\n",
       "      <td>1033560</td>\n",
       "      <td>12731</td>\n",
       "    </tr>\n",
       "    <tr>\n",
       "      <th>3</th>\n",
       "      <td>Andhra Pradesh</td>\n",
       "      <td>915832</td>\n",
       "      <td>7268</td>\n",
       "      <td>913274</td>\n",
       "      <td>7262</td>\n",
       "    </tr>\n",
       "    <tr>\n",
       "      <th>4</th>\n",
       "      <td>Tamil Nadu</td>\n",
       "      <td>911110</td>\n",
       "      <td>12821</td>\n",
       "      <td>911110</td>\n",
       "      <td>12821</td>\n",
       "    </tr>\n",
       "  </tbody>\n",
       "</table>\n",
       "</div>"
      ],
      "text/plain": [
       "           states    Cases  Deaths   PCases  PDeaths\n",
       "0     Maharashtra  3173261   56652  3173261    56652\n",
       "1          Kerala  1144595    4711  1144595     4711\n",
       "2       Karnataka  1033560   12731  1033560    12731\n",
       "3  Andhra Pradesh   915832    7268   913274     7262\n",
       "4      Tamil Nadu   911110   12821   911110    12821"
      ]
     },
     "execution_count": 11,
     "metadata": {},
     "output_type": "execute_result"
    }
   ],
   "source": [
    "#hide\n",
    "df_table = pd.DataFrame({'states': dfc_cases.index, 'Cases': dfc_cases.values, 'Deaths': dfc_deaths.values, 'PCases': dfp_cases.values, 'PDeaths': dfp_deaths.values}).set_index('states')\n",
    "df_table = df_table.sort_values(by = ['Cases','Deaths'], ascending = [False, False])\n",
    "df_table = df_table.reset_index()\n",
    "df_table.head()"
   ]
  },
  {
   "cell_type": "code",
   "execution_count": 12,
   "id": "found-montreal",
   "metadata": {
    "execution": {
     "iopub.execute_input": "2021-04-08T13:17:06.850995Z",
     "iopub.status.busy": "2021-04-08T13:17:06.850336Z",
     "iopub.status.idle": "2021-04-08T13:17:06.859401Z",
     "shell.execute_reply": "2021-04-08T13:17:06.858887Z"
    },
    "papermill": {
     "duration": 0.0334,
     "end_time": "2021-04-08T13:17:06.859523",
     "exception": false,
     "start_time": "2021-04-08T13:17:06.826123",
     "status": "completed"
    },
    "tags": []
   },
   "outputs": [],
   "source": [
    "#hide\n",
    "for c in 'Cases, Deaths'.split(', '):\n",
    "    df_table[f'{c} (+)'] = (df_table[c] - df_table[f'P{c}']).clip(0)\n",
    "df_table['Fatality Rate'] = (100* df_table['Deaths']/ df_table['Cases']).round(2)"
   ]
  },
  {
   "cell_type": "code",
   "execution_count": 13,
   "id": "minus-savage",
   "metadata": {
    "execution": {
     "iopub.execute_input": "2021-04-08T13:17:06.909257Z",
     "iopub.status.busy": "2021-04-08T13:17:06.908618Z",
     "iopub.status.idle": "2021-04-08T13:17:06.911461Z",
     "shell.execute_reply": "2021-04-08T13:17:06.911960Z"
    },
    "papermill": {
     "duration": 0.033325,
     "end_time": "2021-04-08T13:17:06.912097",
     "exception": false,
     "start_time": "2021-04-08T13:17:06.878772",
     "status": "completed"
    },
    "tags": []
   },
   "outputs": [
    {
     "data": {
      "text/html": [
       "<div>\n",
       "<style scoped>\n",
       "    .dataframe tbody tr th:only-of-type {\n",
       "        vertical-align: middle;\n",
       "    }\n",
       "\n",
       "    .dataframe tbody tr th {\n",
       "        vertical-align: top;\n",
       "    }\n",
       "\n",
       "    .dataframe thead th {\n",
       "        text-align: right;\n",
       "    }\n",
       "</style>\n",
       "<table border=\"1\" class=\"dataframe\">\n",
       "  <thead>\n",
       "    <tr style=\"text-align: right;\">\n",
       "      <th></th>\n",
       "      <th>states</th>\n",
       "      <th>Cases</th>\n",
       "      <th>Deaths</th>\n",
       "      <th>PCases</th>\n",
       "      <th>PDeaths</th>\n",
       "      <th>Cases (+)</th>\n",
       "      <th>Deaths (+)</th>\n",
       "      <th>Fatality Rate</th>\n",
       "    </tr>\n",
       "  </thead>\n",
       "  <tbody>\n",
       "    <tr>\n",
       "      <th>0</th>\n",
       "      <td>Maharashtra</td>\n",
       "      <td>3173261</td>\n",
       "      <td>56652</td>\n",
       "      <td>3173261</td>\n",
       "      <td>56652</td>\n",
       "      <td>0</td>\n",
       "      <td>0</td>\n",
       "      <td>1.79</td>\n",
       "    </tr>\n",
       "    <tr>\n",
       "      <th>1</th>\n",
       "      <td>Kerala</td>\n",
       "      <td>1144595</td>\n",
       "      <td>4711</td>\n",
       "      <td>1144595</td>\n",
       "      <td>4711</td>\n",
       "      <td>0</td>\n",
       "      <td>0</td>\n",
       "      <td>0.41</td>\n",
       "    </tr>\n",
       "    <tr>\n",
       "      <th>2</th>\n",
       "      <td>Karnataka</td>\n",
       "      <td>1033560</td>\n",
       "      <td>12731</td>\n",
       "      <td>1033560</td>\n",
       "      <td>12731</td>\n",
       "      <td>0</td>\n",
       "      <td>0</td>\n",
       "      <td>1.23</td>\n",
       "    </tr>\n",
       "    <tr>\n",
       "      <th>3</th>\n",
       "      <td>Andhra Pradesh</td>\n",
       "      <td>915832</td>\n",
       "      <td>7268</td>\n",
       "      <td>913274</td>\n",
       "      <td>7262</td>\n",
       "      <td>2558</td>\n",
       "      <td>6</td>\n",
       "      <td>0.79</td>\n",
       "    </tr>\n",
       "    <tr>\n",
       "      <th>4</th>\n",
       "      <td>Tamil Nadu</td>\n",
       "      <td>911110</td>\n",
       "      <td>12821</td>\n",
       "      <td>911110</td>\n",
       "      <td>12821</td>\n",
       "      <td>0</td>\n",
       "      <td>0</td>\n",
       "      <td>1.41</td>\n",
       "    </tr>\n",
       "  </tbody>\n",
       "</table>\n",
       "</div>"
      ],
      "text/plain": [
       "           states    Cases  Deaths   PCases  PDeaths  Cases (+)  Deaths (+)  \\\n",
       "0     Maharashtra  3173261   56652  3173261    56652          0           0   \n",
       "1          Kerala  1144595    4711  1144595     4711          0           0   \n",
       "2       Karnataka  1033560   12731  1033560    12731          0           0   \n",
       "3  Andhra Pradesh   915832    7268   913274     7262       2558           6   \n",
       "4      Tamil Nadu   911110   12821   911110    12821          0           0   \n",
       "\n",
       "   Fatality Rate  \n",
       "0           1.79  \n",
       "1           0.41  \n",
       "2           1.23  \n",
       "3           0.79  \n",
       "4           1.41  "
      ]
     },
     "execution_count": 13,
     "metadata": {},
     "output_type": "execute_result"
    }
   ],
   "source": [
    "#hide\n",
    "df_table.head()"
   ]
  },
  {
   "cell_type": "code",
   "execution_count": 14,
   "id": "false-peter",
   "metadata": {
    "execution": {
     "iopub.execute_input": "2021-04-08T13:17:06.959791Z",
     "iopub.status.busy": "2021-04-08T13:17:06.959147Z",
     "iopub.status.idle": "2021-04-08T13:17:06.977066Z",
     "shell.execute_reply": "2021-04-08T13:17:06.976516Z"
    },
    "papermill": {
     "duration": 0.044298,
     "end_time": "2021-04-08T13:17:06.977191",
     "exception": false,
     "start_time": "2021-04-08T13:17:06.932893",
     "status": "completed"
    },
    "tags": []
   },
   "outputs": [
    {
     "data": {
      "text/plain": [
       "{'updated': '2021-04-08',\n",
       " 'since': '2021-04-07',\n",
       " 'Cases': 12932509,\n",
       " 'PCases': 12926061,\n",
       " 'Deaths': 166908,\n",
       " 'PDeaths': 166892,\n",
       " 'Cases (+)': 6448,\n",
       " 'Deaths (+)': 16}"
      ]
     },
     "execution_count": 14,
     "metadata": {},
     "output_type": "execute_result"
    }
   ],
   "source": [
    "#hide\n",
    "summary = {'updated':dates[-1], 'since':dates[-2]}\n",
    "list_names = ['Cases', 'PCases', 'Deaths', 'PDeaths', 'Cases (+)', 'Deaths (+)']\n",
    "for name in list_names:\n",
    "    summary[name] = df_table.sum()[name]\n",
    "summary"
   ]
  },
  {
   "cell_type": "code",
   "execution_count": 15,
   "id": "packed-viewer",
   "metadata": {
    "execution": {
     "iopub.execute_input": "2021-04-08T13:17:07.023440Z",
     "iopub.status.busy": "2021-04-08T13:17:07.022759Z",
     "iopub.status.idle": "2021-04-08T13:17:07.025023Z",
     "shell.execute_reply": "2021-04-08T13:17:07.025580Z"
    },
    "papermill": {
     "duration": 0.026305,
     "end_time": "2021-04-08T13:17:07.025714",
     "exception": false,
     "start_time": "2021-04-08T13:17:06.999409",
     "status": "completed"
    },
    "tags": []
   },
   "outputs": [],
   "source": [
    "#hide\n",
    "overview = '''\n",
    "<!-- #######  HTML!! #########-->\n",
    "<h1 style=\"color: #5e9ca0; text-align: center;\">India</h1>\n",
    "<p style=\"text-align: center;\">Last update: <strong>{update}</strong></p>\n",
    "<p style=\"text-align: center;\">Confirmed cases:</p>\n",
    "<p style=\"text-align: center;font-size:24px;\">{cases} (<span style=\"color: #ff0000;\">+{new}</span>)</p>\n",
    "<p style=\"text-align: center;\">Confirmed deaths:</p>\n",
    "<p style=\"text-align: center;font-size:24px;\">{deaths} (<span style=\"color: #ff0000;\">+{dnew}</span>)</p>\n",
    "'''"
   ]
  },
  {
   "cell_type": "code",
   "execution_count": 16,
   "id": "phantom-lover",
   "metadata": {
    "execution": {
     "iopub.execute_input": "2021-04-08T13:17:07.072722Z",
     "iopub.status.busy": "2021-04-08T13:17:07.072082Z",
     "iopub.status.idle": "2021-04-08T13:17:07.075143Z",
     "shell.execute_reply": "2021-04-08T13:17:07.075672Z"
    },
    "papermill": {
     "duration": 0.029931,
     "end_time": "2021-04-08T13:17:07.075809",
     "exception": false,
     "start_time": "2021-04-08T13:17:07.045878",
     "status": "completed"
    },
    "tags": []
   },
   "outputs": [
    {
     "data": {
      "text/html": [
       "\n",
       "<!-- #######  HTML!! #########-->\n",
       "<h1 style=\"color: #5e9ca0; text-align: center;\">India</h1>\n",
       "<p style=\"text-align: center;\">Last update: <strong>2021-04-08</strong></p>\n",
       "<p style=\"text-align: center;\">Confirmed cases:</p>\n",
       "<p style=\"text-align: center;font-size:24px;\">12932509 (<span style=\"color: #ff0000;\">+6448</span>)</p>\n",
       "<p style=\"text-align: center;\">Confirmed deaths:</p>\n",
       "<p style=\"text-align: center;font-size:24px;\">166908 (<span style=\"color: #ff0000;\">+16</span>)</p>\n"
      ],
      "text/plain": [
       "<IPython.core.display.HTML object>"
      ]
     },
     "metadata": {},
     "output_type": "display_data"
    }
   ],
   "source": [
    "#hide_input\n",
    "update = summary['updated']\n",
    "cases = summary['Cases']\n",
    "new = summary['Cases (+)']\n",
    "deaths = summary['Deaths']\n",
    "dnew = summary['Deaths (+)']\n",
    "\n",
    "html = HTML(overview.format(update=update, cases=cases,new=new,deaths=deaths,dnew=dnew))\n",
    "\n",
    "display(html)"
   ]
  },
  {
   "cell_type": "code",
   "execution_count": 17,
   "id": "sealed-reset",
   "metadata": {
    "execution": {
     "iopub.execute_input": "2021-04-08T13:17:07.123462Z",
     "iopub.status.busy": "2021-04-08T13:17:07.122764Z",
     "iopub.status.idle": "2021-04-08T13:17:07.130854Z",
     "shell.execute_reply": "2021-04-08T13:17:07.130284Z"
    },
    "papermill": {
     "duration": 0.034412,
     "end_time": "2021-04-08T13:17:07.130978",
     "exception": false,
     "start_time": "2021-04-08T13:17:07.096566",
     "status": "completed"
    },
    "tags": []
   },
   "outputs": [],
   "source": [
    "#hide\n",
    "dt_cols = list(dft_cases.columns[1:])\n",
    "dft_ct_new_cases = dft_cases.groupby('state')[dt_cols].sum().diff(axis=1).fillna(0).astype(int)\n",
    "dft_ct_new_cases.sort_values(by = dates[-1], ascending = False,inplace = True)"
   ]
  },
  {
   "cell_type": "code",
   "execution_count": 18,
   "id": "designed-constant",
   "metadata": {
    "execution": {
     "iopub.execute_input": "2021-04-08T13:17:07.191304Z",
     "iopub.status.busy": "2021-04-08T13:17:07.190646Z",
     "iopub.status.idle": "2021-04-08T13:17:07.193602Z",
     "shell.execute_reply": "2021-04-08T13:17:07.194151Z"
    },
    "papermill": {
     "duration": 0.041793,
     "end_time": "2021-04-08T13:17:07.194288",
     "exception": false,
     "start_time": "2021-04-08T13:17:07.152495",
     "status": "completed"
    },
    "tags": []
   },
   "outputs": [
    {
     "data": {
      "text/html": [
       "<div>\n",
       "<style scoped>\n",
       "    .dataframe tbody tr th:only-of-type {\n",
       "        vertical-align: middle;\n",
       "    }\n",
       "\n",
       "    .dataframe tbody tr th {\n",
       "        vertical-align: top;\n",
       "    }\n",
       "\n",
       "    .dataframe thead th {\n",
       "        text-align: right;\n",
       "    }\n",
       "</style>\n",
       "<table border=\"1\" class=\"dataframe\">\n",
       "  <thead>\n",
       "    <tr style=\"text-align: right;\">\n",
       "      <th>states</th>\n",
       "      <th>2020-07-01</th>\n",
       "      <th>2020-07-02</th>\n",
       "      <th>2020-07-03</th>\n",
       "      <th>2020-07-04</th>\n",
       "      <th>2020-07-05</th>\n",
       "      <th>2020-07-06</th>\n",
       "      <th>2020-07-07</th>\n",
       "      <th>2020-07-08</th>\n",
       "      <th>2020-07-09</th>\n",
       "      <th>2020-07-10</th>\n",
       "      <th>...</th>\n",
       "      <th>2021-03-30</th>\n",
       "      <th>2021-03-31</th>\n",
       "      <th>2021-04-01</th>\n",
       "      <th>2021-04-02</th>\n",
       "      <th>2021-04-03</th>\n",
       "      <th>2021-04-04</th>\n",
       "      <th>2021-04-05</th>\n",
       "      <th>2021-04-06</th>\n",
       "      <th>2021-04-07</th>\n",
       "      <th>2021-04-08</th>\n",
       "    </tr>\n",
       "    <tr>\n",
       "      <th>state</th>\n",
       "      <th></th>\n",
       "      <th></th>\n",
       "      <th></th>\n",
       "      <th></th>\n",
       "      <th></th>\n",
       "      <th></th>\n",
       "      <th></th>\n",
       "      <th></th>\n",
       "      <th></th>\n",
       "      <th></th>\n",
       "      <th></th>\n",
       "      <th></th>\n",
       "      <th></th>\n",
       "      <th></th>\n",
       "      <th></th>\n",
       "      <th></th>\n",
       "      <th></th>\n",
       "      <th></th>\n",
       "      <th></th>\n",
       "      <th></th>\n",
       "      <th></th>\n",
       "    </tr>\n",
       "  </thead>\n",
       "  <tbody>\n",
       "    <tr>\n",
       "      <th>Andhra Pradesh</th>\n",
       "      <td>0</td>\n",
       "      <td>845</td>\n",
       "      <td>837</td>\n",
       "      <td>765</td>\n",
       "      <td>998</td>\n",
       "      <td>1322</td>\n",
       "      <td>1178</td>\n",
       "      <td>1062</td>\n",
       "      <td>1555</td>\n",
       "      <td>1608</td>\n",
       "      <td>...</td>\n",
       "      <td>993</td>\n",
       "      <td>1184</td>\n",
       "      <td>1271</td>\n",
       "      <td>1288</td>\n",
       "      <td>1398</td>\n",
       "      <td>1730</td>\n",
       "      <td>1326</td>\n",
       "      <td>1941</td>\n",
       "      <td>2331</td>\n",
       "      <td>2558</td>\n",
       "    </tr>\n",
       "    <tr>\n",
       "      <th>Telangana</th>\n",
       "      <td>0</td>\n",
       "      <td>1213</td>\n",
       "      <td>1892</td>\n",
       "      <td>1850</td>\n",
       "      <td>1590</td>\n",
       "      <td>1831</td>\n",
       "      <td>1879</td>\n",
       "      <td>1924</td>\n",
       "      <td>1410</td>\n",
       "      <td>1278</td>\n",
       "      <td>...</td>\n",
       "      <td>463</td>\n",
       "      <td>684</td>\n",
       "      <td>887</td>\n",
       "      <td>965</td>\n",
       "      <td>1078</td>\n",
       "      <td>1321</td>\n",
       "      <td>1097</td>\n",
       "      <td>1498</td>\n",
       "      <td>1914</td>\n",
       "      <td>2055</td>\n",
       "    </tr>\n",
       "    <tr>\n",
       "      <th>Odisha</th>\n",
       "      <td>0</td>\n",
       "      <td>229</td>\n",
       "      <td>561</td>\n",
       "      <td>495</td>\n",
       "      <td>469</td>\n",
       "      <td>456</td>\n",
       "      <td>571</td>\n",
       "      <td>527</td>\n",
       "      <td>577</td>\n",
       "      <td>755</td>\n",
       "      <td>...</td>\n",
       "      <td>218</td>\n",
       "      <td>297</td>\n",
       "      <td>394</td>\n",
       "      <td>461</td>\n",
       "      <td>452</td>\n",
       "      <td>471</td>\n",
       "      <td>573</td>\n",
       "      <td>588</td>\n",
       "      <td>791</td>\n",
       "      <td>879</td>\n",
       "    </tr>\n",
       "    <tr>\n",
       "      <th>Goa</th>\n",
       "      <td>0</td>\n",
       "      <td>95</td>\n",
       "      <td>94</td>\n",
       "      <td>108</td>\n",
       "      <td>77</td>\n",
       "      <td>52</td>\n",
       "      <td>90</td>\n",
       "      <td>136</td>\n",
       "      <td>112</td>\n",
       "      <td>100</td>\n",
       "      <td>...</td>\n",
       "      <td>127</td>\n",
       "      <td>200</td>\n",
       "      <td>265</td>\n",
       "      <td>280</td>\n",
       "      <td>219</td>\n",
       "      <td>265</td>\n",
       "      <td>247</td>\n",
       "      <td>387</td>\n",
       "      <td>527</td>\n",
       "      <td>582</td>\n",
       "    </tr>\n",
       "    <tr>\n",
       "      <th>Puducherry</th>\n",
       "      <td>0</td>\n",
       "      <td>63</td>\n",
       "      <td>22</td>\n",
       "      <td>80</td>\n",
       "      <td>42</td>\n",
       "      <td>65</td>\n",
       "      <td>30</td>\n",
       "      <td>110</td>\n",
       "      <td>49</td>\n",
       "      <td>72</td>\n",
       "      <td>...</td>\n",
       "      <td>115</td>\n",
       "      <td>127</td>\n",
       "      <td>260</td>\n",
       "      <td>213</td>\n",
       "      <td>191</td>\n",
       "      <td>227</td>\n",
       "      <td>180</td>\n",
       "      <td>237</td>\n",
       "      <td>173</td>\n",
       "      <td>293</td>\n",
       "    </tr>\n",
       "  </tbody>\n",
       "</table>\n",
       "<p>5 rows × 282 columns</p>\n",
       "</div>"
      ],
      "text/plain": [
       "states          2020-07-01  2020-07-02  2020-07-03  2020-07-04  2020-07-05  \\\n",
       "state                                                                        \n",
       "Andhra Pradesh           0         845         837         765         998   \n",
       "Telangana                0        1213        1892        1850        1590   \n",
       "Odisha                   0         229         561         495         469   \n",
       "Goa                      0          95          94         108          77   \n",
       "Puducherry               0          63          22          80          42   \n",
       "\n",
       "states          2020-07-06  2020-07-07  2020-07-08  2020-07-09  2020-07-10  \\\n",
       "state                                                                        \n",
       "Andhra Pradesh        1322        1178        1062        1555        1608   \n",
       "Telangana             1831        1879        1924        1410        1278   \n",
       "Odisha                 456         571         527         577         755   \n",
       "Goa                     52          90         136         112         100   \n",
       "Puducherry              65          30         110          49          72   \n",
       "\n",
       "states          ...  2021-03-30  2021-03-31  2021-04-01  2021-04-02  \\\n",
       "state           ...                                                   \n",
       "Andhra Pradesh  ...         993        1184        1271        1288   \n",
       "Telangana       ...         463         684         887         965   \n",
       "Odisha          ...         218         297         394         461   \n",
       "Goa             ...         127         200         265         280   \n",
       "Puducherry      ...         115         127         260         213   \n",
       "\n",
       "states          2021-04-03  2021-04-04  2021-04-05  2021-04-06  2021-04-07  \\\n",
       "state                                                                        \n",
       "Andhra Pradesh        1398        1730        1326        1941        2331   \n",
       "Telangana             1078        1321        1097        1498        1914   \n",
       "Odisha                 452         471         573         588         791   \n",
       "Goa                    219         265         247         387         527   \n",
       "Puducherry             191         227         180         237         173   \n",
       "\n",
       "states          2021-04-08  \n",
       "state                       \n",
       "Andhra Pradesh        2558  \n",
       "Telangana             2055  \n",
       "Odisha                 879  \n",
       "Goa                    582  \n",
       "Puducherry             293  \n",
       "\n",
       "[5 rows x 282 columns]"
      ]
     },
     "execution_count": 18,
     "metadata": {},
     "output_type": "execute_result"
    }
   ],
   "source": [
    "#hide\n",
    "dft_ct_new_cases.head()"
   ]
  },
  {
   "cell_type": "code",
   "execution_count": 19,
   "id": "responsible-nightlife",
   "metadata": {
    "execution": {
     "iopub.execute_input": "2021-04-08T13:17:07.254757Z",
     "iopub.status.busy": "2021-04-08T13:17:07.249452Z",
     "iopub.status.idle": "2021-04-08T13:17:19.427000Z",
     "shell.execute_reply": "2021-04-08T13:17:19.427532Z"
    },
    "papermill": {
     "duration": 12.211804,
     "end_time": "2021-04-08T13:17:19.427694",
     "exception": false,
     "start_time": "2021-04-08T13:17:07.215890",
     "status": "completed"
    },
    "tags": []
   },
   "outputs": [
    {
     "data": {
      "image/png": "[encoded data removed]",
      "text/plain": [
       "<Figure size 1296x2016 with 11 Axes>"
      ]
     },
     "metadata": {
      "needs_background": "light"
     },
     "output_type": "display_data"
    }
   ],
   "source": [
    "#hide_input\n",
    "df = dft_ct_new_cases.copy()\n",
    "df.loc['Total'] = df.sum()\n",
    "n = 5\n",
    "ax = []\n",
    "fig = plt.figure(figsize = (18,28))\n",
    "gs = fig.add_gridspec(n+2, 5)\n",
    "# gs = fig.add_gridspec(2, 3)\n",
    "ax1 = fig.add_subplot(gs[0, :])\n",
    "ef = df.loc['Total'].rename_axis('date').reset_index()\n",
    "ef['date'] = ef['date'].astype('datetime64[ns]')\n",
    "ax1.bar(ef.date,ef.Total,alpha=0.3,color='#007acc')\n",
    "ax1.plot(ef.date,ef.Total , marker=\"o\", color='#007acc')\n",
    "ax1.xaxis.set_major_locator(mdates.WeekdayLocator())\n",
    "ax1.xaxis.set_major_formatter(mdates.DateFormatter('%b %d'))\n",
    "ax1.text(0.02, 0.5,'India daily case count', transform = ax1.transAxes, fontsize=25);\n",
    "ax1.spines['right'].set_visible(False)\n",
    "ax1.spines['top'].set_visible(False)\n",
    "\n",
    "ax2 = fig.add_subplot(gs[1,0])\n",
    "ef = df.loc['Maharashtra'].rename_axis('date').reset_index()\n",
    "ef['date'] = ef['date'].astype('datetime64[ns]')\n",
    "\n",
    "ax2.bar(ef.date, ef.Maharashtra,color = '#007acc',alpha=0.5)\n",
    "ax2.xaxis.set_major_locator(mdates.WeekdayLocator())\n",
    "ax2.xaxis.set_major_formatter(mdates.DateFormatter('%b %d'))\n",
    "ax2.set_xticks(ax2.get_xticks()[::3])\n",
    "maxyval = ef.Maharashtra.max()\n",
    "ax2.set_ylim([0,maxyval])\n",
    "ax2.text(0.05, 0.9,'Maharashtra', transform = ax2.transAxes, fontsize=20);\n",
    "ax2.spines['right'].set_visible(False)\n",
    "ax2.spines['top'].set_visible(False)\n",
    "\n",
    "\n",
    "ax3 = fig.add_subplot(gs[1,1])\n",
    "ef = df.loc['Tamil Nadu'].rename_axis('date').reset_index()\n",
    "ef['date'] = ef['date'].astype('datetime64[ns]')\n",
    "ax3.bar(ef.date, ef['Tamil Nadu'],color = '#007acc',alpha=0.5,)\n",
    "ax3.xaxis.set_major_locator(mdates.WeekdayLocator())\n",
    "ax3.xaxis.set_major_formatter(mdates.DateFormatter('%b %d'))\n",
    "ax3.set_xticks(ax3.get_xticks()[::3])\n",
    "ax3.text(0.05, 0.9,'Tamil Nadu', transform = ax3.transAxes, fontsize=20);\n",
    "ax3.spines['right'].set_visible(False)\n",
    "ax3.spines['top'].set_visible(False)\n",
    "\n",
    "ax5 = fig.add_subplot(gs[1,3])\n",
    "ef = df.loc['Telangana'].rename_axis('date').reset_index()\n",
    "ef['date'] = ef['date'].astype('datetime64[ns]')\n",
    "ax5.bar(ef.date, ef['Telangana'],color = '#007acc',alpha=0.5,)\n",
    "ax5.xaxis.set_major_locator(mdates.WeekdayLocator())\n",
    "ax5.xaxis.set_major_formatter(mdates.DateFormatter('%b %d'))\n",
    "ax5.set_xticks(ax5.get_xticks()[::3])\n",
    "ax5.text(0.05, 0.9,'Telangana', transform = ax5.transAxes, fontsize=20);\n",
    "ax5.spines['right'].set_visible(False)\n",
    "ax5.spines['top'].set_visible(False)\n",
    "\n",
    "ax6 = fig.add_subplot(gs[1,4])\n",
    "ef = df.loc['Andhra Pradesh'].rename_axis('date').reset_index()\n",
    "ef['date'] = ef['date'].astype('datetime64[ns]')\n",
    "ax6.bar(ef.date, ef['Andhra Pradesh'],color = '#007acc',alpha=0.5,)\n",
    "ax6.xaxis.set_major_locator(mdates.WeekdayLocator())\n",
    "ax6.xaxis.set_major_formatter(mdates.DateFormatter('%b %d'))\n",
    "ax6.set_xticks(ax6.get_xticks()[::3])\n",
    "ax6.text(0.05, 1,'Andhra Pradesh', transform = ax6.transAxes, fontsize=20);\n",
    "ax6.spines['right'].set_visible(False)\n",
    "ax6.spines['top'].set_visible(False)\n",
    "\n",
    "ax4 = fig.add_subplot(gs[1,2])\n",
    "ef = df.loc['Delhi'].rename_axis('date').reset_index()\n",
    "ef['date'] = ef['date'].astype('datetime64[ns]')\n",
    "ax4.bar(ef.date, ef.Delhi,color = '#007acc',alpha=0.5)\n",
    "ax4.set_xticks([])\n",
    "ax4.xaxis.set_major_locator(mdates.WeekdayLocator())\n",
    "ax4.xaxis.set_major_formatter(mdates.DateFormatter('%b %d'))\n",
    "ax4.set_xticks(ax4.get_xticks()[::3])\n",
    "ax4.spines['right'].set_visible(False)\n",
    "ax4.spines['top'].set_visible(False)\n",
    "\n",
    "ax4.text(0.05, 1,'Delhi', transform = ax4.transAxes, fontsize=20)\n",
    "\n",
    "for i in range(n):\n",
    "    \n",
    "    ax.append(fig.add_subplot(gs[i+2,:]))\n",
    "    ef = df.iloc[i+3].rename_axis('date').reset_index()\n",
    "    ef['date'] = ef['date'].astype('datetime64[ns]')\n",
    "    ax[i].bar(ef.date,ef.iloc[:,-1],color = '#007acc',alpha=0.3)\n",
    "    ax[i].plot(ef.date,ef.iloc[:,-1],marker='o',color='#007acc')\n",
    "    ax[i].text(0.02,0.5,f'{ef.columns.values[-1]}',transform = ax[i].transAxes, fontsize = 20);\n",
    "    ax[i].xaxis.set_major_locator(mdates.WeekdayLocator())\n",
    "    ax[i].xaxis.set_major_formatter(mdates.DateFormatter('%b %d'))\n",
    "    ax[i].set_ylim([0,7000])\n",
    "    ax[i].spines['right'].set_visible(False)\n",
    "    ax[i].spines['top'].set_visible(False)\n",
    "plt.tight_layout()\n"
   ]
  },
  {
   "cell_type": "code",
   "execution_count": 20,
   "id": "dress-forge",
   "metadata": {
    "execution": {
     "iopub.execute_input": "2021-04-08T13:17:19.483658Z",
     "iopub.status.busy": "2021-04-08T13:17:19.483028Z",
     "iopub.status.idle": "2021-04-08T13:17:19.491776Z",
     "shell.execute_reply": "2021-04-08T13:17:19.492266Z"
    },
    "papermill": {
     "duration": 0.037694,
     "end_time": "2021-04-08T13:17:19.492404",
     "exception": false,
     "start_time": "2021-04-08T13:17:19.454710",
     "status": "completed"
    },
    "tags": []
   },
   "outputs": [
    {
     "name": "stdout",
     "output_type": "stream",
     "text": [
      "                                   states    Cases  Deaths   PCases  PDeaths  Cases (+)  Deaths (+)  Fatality Rate\n",
      "                              Maharashtra  3173261   56652  3173261    56652          0           0           1.79\n",
      "                                   Kerala  1144595    4711  1144595     4711          0           0           0.41\n",
      "                                Karnataka  1033560   12731  1033560    12731          0           0           1.23\n",
      "                           Andhra Pradesh   915832    7268   913274     7262       2558           6           0.79\n",
      "                               Tamil Nadu   911110   12821   911110    12821          0           0           1.41\n",
      "                                    Delhi   690568   11133   690568    11133          0           0           1.61\n",
      "                            Uttar Pradesh   645930    8964   645930     8964          0           0           1.39\n",
      "                              West Bengal   600024   10363   600024    10363          0           0           1.73\n",
      "                             Chhattisgarh   396579    4469   396579     4469          0           0           1.13\n",
      "                                Rajasthan   346791    2866   346791     2866          0           0           0.83\n",
      "                                   Odisha   345526    1976   344647     1976        879           0           0.57\n",
      "                                  Gujarat   328453    4620   328453     4620          0           0           1.41\n",
      "                                Telangana   318704    1741   316649     1734       2055           7           0.55\n",
      "                           Madhya Pradesh   318014    4086   318014     4086          0           0           1.28\n",
      "                                  Haryana   304638    3219   304638     3219          0           0           1.06\n",
      "                                    Bihar   271919    1591   271919     1591          0           0           0.59\n",
      "                                   Punjab   260020    7278   260020     7278          0           0           2.80\n",
      "                                    Assam   219027    1111   219027     1111          0           0           0.51\n",
      "                        Jammu and Kashmir   134827    2018   134827     2018          0           0           1.50\n",
      "                                Jharkhand   130907    1151   130907     1151          0           0           0.88\n",
      "                              Uttarakhand   104711    1741   104711     1741          0           0           1.66\n",
      "                         Himachal Pradesh    66890    1077    66890     1077          0           0           1.61\n",
      "                                      Goa    60811     842    60229      840        582           2           1.38\n",
      "                               Puducherry    43242     687    42949      687        293           0           1.59\n",
      "                                  Tripura    33609     390    33572      390         37           0           1.16\n",
      "                                  Manipur    29443     374    29443      374          0           0           1.27\n",
      "                               Chandigarh    29197     388    29197      388          0           0           1.33\n",
      "                        Arunachal Pradesh    16861      56    16861       56          0           0           0.33\n",
      "                                Meghalaya    14165     151    14140      150         25           1           1.07\n",
      "                                 Nagaland    12381      91    12376       91          5           0           0.73\n",
      "                                   Ladakh    10412     130    10412      130          0           0           1.25\n",
      "                                   Sikkim     6317     136     6317      136          0           0           2.15\n",
      "              Andaman and Nicobar Islands     5131      62     5131       62          0           0           1.21\n",
      "                                  Mizoram     4522      11     4508       11         14           0           0.24\n",
      " Dadra and Nagar Haveli and Daman and Diu     3762       2     3762        2          0           0           0.05\n",
      "                              Lakshadweep      770       1      770        1          0           0           0.13\n"
     ]
    }
   ],
   "source": [
    "#hide_input\n",
    "print(df_table.to_string(index=False))"
   ]
  },
  {
   "cell_type": "code",
   "execution_count": null,
   "id": "quantitative-legend",
   "metadata": {
    "papermill": {
     "duration": 0.026277,
     "end_time": "2021-04-08T13:17:19.545006",
     "exception": false,
     "start_time": "2021-04-08T13:17:19.518729",
     "status": "completed"
    },
    "tags": []
   },
   "outputs": [],
   "source": []
  },
  {
   "cell_type": "code",
   "execution_count": null,
   "id": "distant-acoustic",
   "metadata": {
    "papermill": {
     "duration": 0.02632,
     "end_time": "2021-04-08T13:17:19.597854",
     "exception": false,
     "start_time": "2021-04-08T13:17:19.571534",
     "status": "completed"
    },
    "tags": []
   },
   "outputs": [],
   "source": []
  }
 ],
 "metadata": {
  "kernelspec": {
   "display_name": "Python 3",
   "language": "python",
   "name": "python3"
  },
  "language_info": {
   "codemirror_mode": {
    "name": "ipython",
    "version": 3
   },
   "file_extension": ".py",
   "mimetype": "text/x-python",
   "name": "python",
   "nbconvert_exporter": "python",
   "pygments_lexer": "ipython3",
   "version": "3.6.13"
  },
  "papermill": {
   "duration": 26.0919,
   "end_time": "2021-04-08T13:17:20.231727",
   "environment_variables": {},
   "exception": null,
   "input_path": "latest.ipynb",
   "output_path": "latest.ipynb",
   "parameters": {},
   "start_time": "2021-04-08T13:16:54.139827",
   "version": "2.1.2"
  }
 },
 "nbformat": 4,
 "nbformat_minor": 5
}