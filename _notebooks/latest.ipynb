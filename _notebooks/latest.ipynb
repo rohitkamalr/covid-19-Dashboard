{
 "cells": [
  {
   "cell_type": "markdown",
   "metadata": {
    "papermill": {
     "duration": 0.021951,
     "end_time": "2020-12-24T14:33:03.505857",
     "exception": false,
     "start_time": "2020-12-24T14:33:03.483906",
     "status": "completed"
    },
    "tags": []
   },
   "source": [
    "# Latest COVID-19 India Matplotlib Overview"
   ]
  },
  {
   "cell_type": "code",
   "execution_count": 1,
   "metadata": {
    "execution": {
     "iopub.execute_input": "2020-12-24T14:33:03.558996Z",
     "iopub.status.busy": "2020-12-24T14:33:03.558134Z",
     "iopub.status.idle": "2020-12-24T14:33:04.243200Z",
     "shell.execute_reply": "2020-12-24T14:33:04.242589Z"
    },
    "papermill": {
     "duration": 0.716774,
     "end_time": "2020-12-24T14:33:04.243407",
     "exception": false,
     "start_time": "2020-12-24T14:33:03.526633",
     "status": "completed"
    },
    "tags": []
   },
   "outputs": [],
   "source": [
    "#hide\n",
    "import pandas as pd\n",
    "import numpy as np\n",
    "import requests\n",
    "import json\n",
    "import matplotlib.pyplot as plt\n",
    "import matplotlib.dates as mdates\n",
    "import matplotlib as mpl\n",
    "from IPython.core.display import display,HTML\n",
    "%matplotlib inline\n",
    "from datetime import date"
   ]
  },
  {
   "cell_type": "code",
   "execution_count": 2,
   "metadata": {
    "execution": {
     "iopub.execute_input": "2020-12-24T14:33:04.291208Z",
     "iopub.status.busy": "2020-12-24T14:33:04.290269Z",
     "iopub.status.idle": "2020-12-24T14:33:04.402819Z",
     "shell.execute_reply": "2020-12-24T14:33:04.402221Z"
    },
    "papermill": {
     "duration": 0.140169,
     "end_time": "2020-12-24T14:33:04.403032",
     "exception": false,
     "start_time": "2020-12-24T14:33:04.262863",
     "status": "completed"
    },
    "tags": []
   },
   "outputs": [],
   "source": [
    "#hide\n",
    "df  = pd.read_csv('https://api.covid19india.org/csv/latest/states.csv')\n",
    "df = df[['Date','State','Confirmed','Deceased']]\n",
    "df = df.rename(columns={'Confirmed':'Cases', \"Deceased\":'Deaths'})\n",
    "df_cases = df[[\"Date\",'State','Cases']]\n",
    "df_deaths = df[['Date','State','Deaths']]\n",
    "df_cases1 = df_cases.groupby('Date')\n",
    "df_deaths1= df_deaths.groupby('Date')"
   ]
  },
  {
   "cell_type": "code",
   "execution_count": 3,
   "metadata": {
    "execution": {
     "iopub.execute_input": "2020-12-24T14:33:04.445362Z",
     "iopub.status.busy": "2020-12-24T14:33:04.444685Z",
     "iopub.status.idle": "2020-12-24T14:33:04.465735Z",
     "shell.execute_reply": "2020-12-24T14:33:04.465185Z"
    },
    "papermill": {
     "duration": 0.044615,
     "end_time": "2020-12-24T14:33:04.465884",
     "exception": false,
     "start_time": "2020-12-24T14:33:04.421269",
     "status": "completed"
    },
    "tags": []
   },
   "outputs": [],
   "source": [
    "#hide\n",
    "df_snap = pd.read_csv('data/SnapshotCases-28-July.csv')\n",
    "arr_states = df_snap['states'].unique()\n",
    "arr_dates = df['Date'].unique()\n",
    "df_snap = df_snap.set_index('states')"
   ]
  },
  {
   "cell_type": "code",
   "execution_count": 4,
   "metadata": {
    "execution": {
     "iopub.execute_input": "2020-12-24T14:33:04.510599Z",
     "iopub.status.busy": "2020-12-24T14:33:04.509860Z",
     "iopub.status.idle": "2020-12-24T14:33:04.513514Z",
     "shell.execute_reply": "2020-12-24T14:33:04.514125Z"
    },
    "papermill": {
     "duration": 0.029594,
     "end_time": "2020-12-24T14:33:04.514310",
     "exception": false,
     "start_time": "2020-12-24T14:33:04.484716",
     "status": "completed"
    },
    "tags": []
   },
   "outputs": [
    {
     "data": {
      "text/plain": [
       "array(['Andaman and Nicobar Islands', 'Andhra Pradesh',\n",
       "       'Arunachal Pradesh', 'Assam', 'Bihar', 'Chandigarh',\n",
       "       'Dadra and Nagar Haveli and Daman and Diu', 'Delhi', 'Goa',\n",
       "       'Gujarat', 'Haryana', 'Himachal Pradesh', 'Jammu and Kashmir',\n",
       "       'Jharkhand', 'Karnataka', 'Kerala', 'Lakshadweep',\n",
       "       'Madhya Pradesh', 'Maharashtra', 'Manipur', 'Meghalaya', 'Mizoram',\n",
       "       'Nagaland', 'Odisha', 'Puducherry', 'Punjab', 'Rajasthan',\n",
       "       'Sikkim', 'Tamil Nadu', 'Telangana', 'Tripura', 'Uttar Pradesh',\n",
       "       'West Bengal', 'Chhattisgarh', 'Ladakh', 'Uttarakhand'],\n",
       "      dtype=object)"
      ]
     },
     "execution_count": 4,
     "metadata": {},
     "output_type": "execute_result"
    }
   ],
   "source": [
    "#hide\n",
    "arr_states[-9] = 'Puducherry'\n",
    "arr_states[-10] = 'Odisha'\n",
    "arr_states[6] = 'Dadra and Nagar Haveli and Daman and Diu'\n",
    "arr_states = np.append(arr_states,np.array(['Chhattisgarh','Ladakh','Uttarakhand']))\n",
    "arr_states"
   ]
  },
  {
   "cell_type": "code",
   "execution_count": 5,
   "metadata": {
    "execution": {
     "iopub.execute_input": "2020-12-24T14:33:04.565103Z",
     "iopub.status.busy": "2020-12-24T14:33:04.564407Z",
     "iopub.status.idle": "2020-12-24T14:33:04.573373Z",
     "shell.execute_reply": "2020-12-24T14:33:04.573965Z"
    },
    "papermill": {
     "duration": 0.041842,
     "end_time": "2020-12-24T14:33:04.574159",
     "exception": false,
     "start_time": "2020-12-24T14:33:04.532317",
     "status": "completed"
    },
    "tags": []
   },
   "outputs": [],
   "source": [
    "#hide\n",
    "dates = []\n",
    "for i in arr_dates:\n",
    "    if i>='2020-07-01':\n",
    "        dates.append(i)\n",
    "dict = {'states':dates}\n",
    "for i in arr_states:\n",
    "    dict[i] = [0]*len(dates)\n",
    "dft_cases = pd.DataFrame(dict)\n",
    "dft_deaths = pd.DataFrame(dict)\n"
   ]
  },
  {
   "cell_type": "code",
   "execution_count": 6,
   "metadata": {
    "execution": {
     "iopub.execute_input": "2020-12-24T14:33:04.620639Z",
     "iopub.status.busy": "2020-12-24T14:33:04.619702Z",
     "iopub.status.idle": "2020-12-24T14:33:08.112204Z",
     "shell.execute_reply": "2020-12-24T14:33:08.111488Z"
    },
    "papermill": {
     "duration": 3.51965,
     "end_time": "2020-12-24T14:33:08.112380",
     "exception": false,
     "start_time": "2020-12-24T14:33:04.592730",
     "status": "completed"
    },
    "tags": []
   },
   "outputs": [],
   "source": [
    "#hide\n",
    "for i in range(len(dates)):\n",
    "    df1_deaths = df_deaths1.get_group(dates[i])\n",
    "    for j in range(len(df1_deaths.index)):\n",
    "        if df1_deaths.iloc[j,1] in arr_states:\n",
    "            dft_deaths.loc[i,df1_deaths.iloc[j,1]] = df1_deaths.iloc[j,2]\n",
    "dft_deaths = dft_deaths.set_index('states')"
   ]
  },
  {
   "cell_type": "code",
   "execution_count": 7,
   "metadata": {
    "execution": {
     "iopub.execute_input": "2020-12-24T14:33:08.158857Z",
     "iopub.status.busy": "2020-12-24T14:33:08.158165Z",
     "iopub.status.idle": "2020-12-24T14:33:11.615155Z",
     "shell.execute_reply": "2020-12-24T14:33:11.615698Z"
    },
    "papermill": {
     "duration": 3.484218,
     "end_time": "2020-12-24T14:33:11.615897",
     "exception": false,
     "start_time": "2020-12-24T14:33:08.131679",
     "status": "completed"
    },
    "tags": []
   },
   "outputs": [],
   "source": [
    "#hide\n",
    "for i in range(len(dates)):\n",
    "    df1_cases = df_cases1.get_group(dates[i])\n",
    "    for j in range(len(df1_cases.index)):\n",
    "        if df1_cases.iloc[j,1] in arr_states:\n",
    "            dft_cases.loc[i,df1_cases.iloc[j,1]] = df1_cases.iloc[j,2]\n",
    "dft_cases = dft_cases.set_index('states')"
   ]
  },
  {
   "cell_type": "code",
   "execution_count": 8,
   "metadata": {
    "execution": {
     "iopub.execute_input": "2020-12-24T14:33:11.657900Z",
     "iopub.status.busy": "2020-12-24T14:33:11.657175Z",
     "iopub.status.idle": "2020-12-24T14:33:11.660005Z",
     "shell.execute_reply": "2020-12-24T14:33:11.659349Z"
    },
    "papermill": {
     "duration": 0.026907,
     "end_time": "2020-12-24T14:33:11.660143",
     "exception": false,
     "start_time": "2020-12-24T14:33:11.633236",
     "status": "completed"
    },
    "tags": []
   },
   "outputs": [],
   "source": [
    "#hide\n",
    "dft_cases = dft_cases.T\n",
    "dft_deaths = dft_deaths.T\n",
    "dt_today = dates[-1]\n",
    "dt_yday = dates[-2]"
   ]
  },
  {
   "cell_type": "code",
   "execution_count": 9,
   "metadata": {
    "execution": {
     "iopub.execute_input": "2020-12-24T14:33:11.704173Z",
     "iopub.status.busy": "2020-12-24T14:33:11.703535Z",
     "iopub.status.idle": "2020-12-24T14:33:11.707468Z",
     "shell.execute_reply": "2020-12-24T14:33:11.708035Z"
    },
    "papermill": {
     "duration": 0.029342,
     "end_time": "2020-12-24T14:33:11.708174",
     "exception": false,
     "start_time": "2020-12-24T14:33:11.678832",
     "status": "completed"
    },
    "tags": []
   },
   "outputs": [],
   "source": [
    "#hide\n",
    "dft_cases = dft_cases.reset_index()\n",
    "dft_deaths = dft_deaths.reset_index()\n",
    "dft_cases = dft_cases.rename(columns = {'index':'state'})\n",
    "dft_deaths = dft_deaths.rename(columns = {'index':'state'})"
   ]
  },
  {
   "cell_type": "code",
   "execution_count": 10,
   "metadata": {
    "execution": {
     "iopub.execute_input": "2020-12-24T14:33:11.756018Z",
     "iopub.status.busy": "2020-12-24T14:33:11.755202Z",
     "iopub.status.idle": "2020-12-24T14:33:11.760682Z",
     "shell.execute_reply": "2020-12-24T14:33:11.761725Z"
    },
    "papermill": {
     "duration": 0.033914,
     "end_time": "2020-12-24T14:33:11.761927",
     "exception": false,
     "start_time": "2020-12-24T14:33:11.728013",
     "status": "completed"
    },
    "tags": []
   },
   "outputs": [],
   "source": [
    "#hide\n",
    "dfc_cases = dft_cases.groupby('state')[dt_today].sum()\n",
    "dfc_deaths = dft_deaths.groupby('state')[dt_today].sum()\n",
    "dfp_cases = dft_cases.groupby('state')[dt_yday].sum()\n",
    "dfp_deaths = dft_deaths.groupby('state')[dt_yday].sum()"
   ]
  },
  {
   "cell_type": "code",
   "execution_count": 11,
   "metadata": {
    "execution": {
     "iopub.execute_input": "2020-12-24T14:33:11.810365Z",
     "iopub.status.busy": "2020-12-24T14:33:11.809610Z",
     "iopub.status.idle": "2020-12-24T14:33:11.826458Z",
     "shell.execute_reply": "2020-12-24T14:33:11.827056Z"
    },
    "papermill": {
     "duration": 0.046344,
     "end_time": "2020-12-24T14:33:11.827256",
     "exception": false,
     "start_time": "2020-12-24T14:33:11.780912",
     "status": "completed"
    },
    "tags": []
   },
   "outputs": [
    {
     "data": {
      "text/html": [
       "<div>\n",
       "<style scoped>\n",
       "    .dataframe tbody tr th:only-of-type {\n",
       "        vertical-align: middle;\n",
       "    }\n",
       "\n",
       "    .dataframe tbody tr th {\n",
       "        vertical-align: top;\n",
       "    }\n",
       "\n",
       "    .dataframe thead th {\n",
       "        text-align: right;\n",
       "    }\n",
       "</style>\n",
       "<table border=\"1\" class=\"dataframe\">\n",
       "  <thead>\n",
       "    <tr style=\"text-align: right;\">\n",
       "      <th></th>\n",
       "      <th>states</th>\n",
       "      <th>Cases</th>\n",
       "      <th>Deaths</th>\n",
       "      <th>PCases</th>\n",
       "      <th>PDeaths</th>\n",
       "    </tr>\n",
       "  </thead>\n",
       "  <tbody>\n",
       "    <tr>\n",
       "      <th>0</th>\n",
       "      <td>Maharashtra</td>\n",
       "      <td>1906371</td>\n",
       "      <td>48969</td>\n",
       "      <td>1906371</td>\n",
       "      <td>48969</td>\n",
       "    </tr>\n",
       "    <tr>\n",
       "      <th>1</th>\n",
       "      <td>Karnataka</td>\n",
       "      <td>912340</td>\n",
       "      <td>12038</td>\n",
       "      <td>912340</td>\n",
       "      <td>12038</td>\n",
       "    </tr>\n",
       "    <tr>\n",
       "      <th>2</th>\n",
       "      <td>Andhra Pradesh</td>\n",
       "      <td>879718</td>\n",
       "      <td>7085</td>\n",
       "      <td>879718</td>\n",
       "      <td>7085</td>\n",
       "    </tr>\n",
       "    <tr>\n",
       "      <th>3</th>\n",
       "      <td>Tamil Nadu</td>\n",
       "      <td>810080</td>\n",
       "      <td>12024</td>\n",
       "      <td>810080</td>\n",
       "      <td>12024</td>\n",
       "    </tr>\n",
       "    <tr>\n",
       "      <th>4</th>\n",
       "      <td>Kerala</td>\n",
       "      <td>726688</td>\n",
       "      <td>2915</td>\n",
       "      <td>721511</td>\n",
       "      <td>2893</td>\n",
       "    </tr>\n",
       "  </tbody>\n",
       "</table>\n",
       "</div>"
      ],
      "text/plain": [
       "           states    Cases  Deaths   PCases  PDeaths\n",
       "0     Maharashtra  1906371   48969  1906371    48969\n",
       "1       Karnataka   912340   12038   912340    12038\n",
       "2  Andhra Pradesh   879718    7085   879718     7085\n",
       "3      Tamil Nadu   810080   12024   810080    12024\n",
       "4          Kerala   726688    2915   721511     2893"
      ]
     },
     "execution_count": 11,
     "metadata": {},
     "output_type": "execute_result"
    }
   ],
   "source": [
    "#hide\n",
    "df_table = pd.DataFrame({'states': dfc_cases.index, 'Cases': dfc_cases.values, 'Deaths': dfc_deaths.values, 'PCases': dfp_cases.values, 'PDeaths': dfp_deaths.values}).set_index('states')\n",
    "df_table = df_table.sort_values(by = ['Cases','Deaths'], ascending = [False, False])\n",
    "df_table = df_table.reset_index()\n",
    "df_table.head()"
   ]
  },
  {
   "cell_type": "code",
   "execution_count": 12,
   "metadata": {
    "execution": {
     "iopub.execute_input": "2020-12-24T14:33:11.870631Z",
     "iopub.status.busy": "2020-12-24T14:33:11.869882Z",
     "iopub.status.idle": "2020-12-24T14:33:11.879875Z",
     "shell.execute_reply": "2020-12-24T14:33:11.880477Z"
    },
    "papermill": {
     "duration": 0.03521,
     "end_time": "2020-12-24T14:33:11.880664",
     "exception": false,
     "start_time": "2020-12-24T14:33:11.845454",
     "status": "completed"
    },
    "tags": []
   },
   "outputs": [],
   "source": [
    "#hide\n",
    "for c in 'Cases, Deaths'.split(', '):\n",
    "    df_table[f'{c} (+)'] = (df_table[c] - df_table[f'P{c}']).clip(0)\n",
    "df_table['Fatality Rate'] = (100* df_table['Deaths']/ df_table['Cases']).round(2)"
   ]
  },
  {
   "cell_type": "code",
   "execution_count": 13,
   "metadata": {
    "execution": {
     "iopub.execute_input": "2020-12-24T14:33:11.931217Z",
     "iopub.status.busy": "2020-12-24T14:33:11.930421Z",
     "iopub.status.idle": "2020-12-24T14:33:11.936306Z",
     "shell.execute_reply": "2020-12-24T14:33:11.936818Z"
    },
    "papermill": {
     "duration": 0.03758,
     "end_time": "2020-12-24T14:33:11.937179",
     "exception": false,
     "start_time": "2020-12-24T14:33:11.899599",
     "status": "completed"
    },
    "tags": []
   },
   "outputs": [
    {
     "data": {
      "text/html": [
       "<div>\n",
       "<style scoped>\n",
       "    .dataframe tbody tr th:only-of-type {\n",
       "        vertical-align: middle;\n",
       "    }\n",
       "\n",
       "    .dataframe tbody tr th {\n",
       "        vertical-align: top;\n",
       "    }\n",
       "\n",
       "    .dataframe thead th {\n",
       "        text-align: right;\n",
       "    }\n",
       "</style>\n",
       "<table border=\"1\" class=\"dataframe\">\n",
       "  <thead>\n",
       "    <tr style=\"text-align: right;\">\n",
       "      <th></th>\n",
       "      <th>states</th>\n",
       "      <th>Cases</th>\n",
       "      <th>Deaths</th>\n",
       "      <th>PCases</th>\n",
       "      <th>PDeaths</th>\n",
       "      <th>Cases (+)</th>\n",
       "      <th>Deaths (+)</th>\n",
       "      <th>Fatality Rate</th>\n",
       "    </tr>\n",
       "  </thead>\n",
       "  <tbody>\n",
       "    <tr>\n",
       "      <th>0</th>\n",
       "      <td>Maharashtra</td>\n",
       "      <td>1906371</td>\n",
       "      <td>48969</td>\n",
       "      <td>1906371</td>\n",
       "      <td>48969</td>\n",
       "      <td>0</td>\n",
       "      <td>0</td>\n",
       "      <td>2.57</td>\n",
       "    </tr>\n",
       "    <tr>\n",
       "      <th>1</th>\n",
       "      <td>Karnataka</td>\n",
       "      <td>912340</td>\n",
       "      <td>12038</td>\n",
       "      <td>912340</td>\n",
       "      <td>12038</td>\n",
       "      <td>0</td>\n",
       "      <td>0</td>\n",
       "      <td>1.32</td>\n",
       "    </tr>\n",
       "    <tr>\n",
       "      <th>2</th>\n",
       "      <td>Andhra Pradesh</td>\n",
       "      <td>879718</td>\n",
       "      <td>7085</td>\n",
       "      <td>879718</td>\n",
       "      <td>7085</td>\n",
       "      <td>0</td>\n",
       "      <td>0</td>\n",
       "      <td>0.81</td>\n",
       "    </tr>\n",
       "    <tr>\n",
       "      <th>3</th>\n",
       "      <td>Tamil Nadu</td>\n",
       "      <td>810080</td>\n",
       "      <td>12024</td>\n",
       "      <td>810080</td>\n",
       "      <td>12024</td>\n",
       "      <td>0</td>\n",
       "      <td>0</td>\n",
       "      <td>1.48</td>\n",
       "    </tr>\n",
       "    <tr>\n",
       "      <th>4</th>\n",
       "      <td>Kerala</td>\n",
       "      <td>726688</td>\n",
       "      <td>2915</td>\n",
       "      <td>721511</td>\n",
       "      <td>2893</td>\n",
       "      <td>5177</td>\n",
       "      <td>22</td>\n",
       "      <td>0.40</td>\n",
       "    </tr>\n",
       "  </tbody>\n",
       "</table>\n",
       "</div>"
      ],
      "text/plain": [
       "           states    Cases  Deaths   PCases  PDeaths  Cases (+)  Deaths (+)  \\\n",
       "0     Maharashtra  1906371   48969  1906371    48969          0           0   \n",
       "1       Karnataka   912340   12038   912340    12038          0           0   \n",
       "2  Andhra Pradesh   879718    7085   879718     7085          0           0   \n",
       "3      Tamil Nadu   810080   12024   810080    12024          0           0   \n",
       "4          Kerala   726688    2915   721511     2893       5177          22   \n",
       "\n",
       "   Fatality Rate  \n",
       "0           2.57  \n",
       "1           1.32  \n",
       "2           0.81  \n",
       "3           1.48  \n",
       "4           0.40  "
      ]
     },
     "execution_count": 13,
     "metadata": {},
     "output_type": "execute_result"
    }
   ],
   "source": [
    "#hide\n",
    "df_table.head()"
   ]
  },
  {
   "cell_type": "code",
   "execution_count": 14,
   "metadata": {
    "execution": {
     "iopub.execute_input": "2020-12-24T14:33:11.981662Z",
     "iopub.status.busy": "2020-12-24T14:33:11.980960Z",
     "iopub.status.idle": "2020-12-24T14:33:12.000301Z",
     "shell.execute_reply": "2020-12-24T14:33:11.999642Z"
    },
    "papermill": {
     "duration": 0.043539,
     "end_time": "2020-12-24T14:33:12.000451",
     "exception": false,
     "start_time": "2020-12-24T14:33:11.956912",
     "status": "completed"
    },
    "tags": []
   },
   "outputs": [
    {
     "data": {
      "text/plain": [
       "{'updated': '2020-12-24',\n",
       " 'since': '2020-12-23',\n",
       " 'Cases': 10130066,\n",
       " 'PCases': 10124024,\n",
       " 'Deaths': 146820,\n",
       " 'PDeaths': 146791,\n",
       " 'Cases (+)': 6042,\n",
       " 'Deaths (+)': 29}"
      ]
     },
     "execution_count": 14,
     "metadata": {},
     "output_type": "execute_result"
    }
   ],
   "source": [
    "#hide\n",
    "summary = {'updated':dates[-1], 'since':dates[-2]}\n",
    "list_names = ['Cases', 'PCases', 'Deaths', 'PDeaths', 'Cases (+)', 'Deaths (+)']\n",
    "for name in list_names:\n",
    "    summary[name] = df_table.sum()[name]\n",
    "summary"
   ]
  },
  {
   "cell_type": "code",
   "execution_count": 15,
   "metadata": {
    "execution": {
     "iopub.execute_input": "2020-12-24T14:33:12.049631Z",
     "iopub.status.busy": "2020-12-24T14:33:12.048899Z",
     "iopub.status.idle": "2020-12-24T14:33:12.050805Z",
     "shell.execute_reply": "2020-12-24T14:33:12.051821Z"
    },
    "papermill": {
     "duration": 0.031353,
     "end_time": "2020-12-24T14:33:12.052011",
     "exception": false,
     "start_time": "2020-12-24T14:33:12.020658",
     "status": "completed"
    },
    "tags": []
   },
   "outputs": [],
   "source": [
    "#hide\n",
    "overview = '''\n",
    "<!-- #######  HTML!! #########-->\n",
    "<h1 style=\"color: #5e9ca0; text-align: center;\">India</h1>\n",
    "<p style=\"text-align: center;\">Last update: <strong>{update}</strong></p>\n",
    "<p style=\"text-align: center;\">Confirmed cases:</p>\n",
    "<p style=\"text-align: center;font-size:24px;\">{cases} (<span style=\"color: #ff0000;\">+{new}</span>)</p>\n",
    "<p style=\"text-align: center;\">Confirmed deaths:</p>\n",
    "<p style=\"text-align: center;font-size:24px;\">{deaths} (<span style=\"color: #ff0000;\">+{dnew}</span>)</p>\n",
    "'''"
   ]
  },
  {
   "cell_type": "code",
   "execution_count": 16,
   "metadata": {
    "execution": {
     "iopub.execute_input": "2020-12-24T14:33:12.098707Z",
     "iopub.status.busy": "2020-12-24T14:33:12.098100Z",
     "iopub.status.idle": "2020-12-24T14:33:12.101036Z",
     "shell.execute_reply": "2020-12-24T14:33:12.101543Z"
    },
    "papermill": {
     "duration": 0.028648,
     "end_time": "2020-12-24T14:33:12.101681",
     "exception": false,
     "start_time": "2020-12-24T14:33:12.073033",
     "status": "completed"
    },
    "tags": []
   },
   "outputs": [
    {
     "data": {
      "text/html": [
       "\n",
       "<!-- #######  HTML!! #########-->\n",
       "<h1 style=\"color: #5e9ca0; text-align: center;\">India</h1>\n",
       "<p style=\"text-align: center;\">Last update: <strong>2020-12-24</strong></p>\n",
       "<p style=\"text-align: center;\">Confirmed cases:</p>\n",
       "<p style=\"text-align: center;font-size:24px;\">10130066 (<span style=\"color: #ff0000;\">+6042</span>)</p>\n",
       "<p style=\"text-align: center;\">Confirmed deaths:</p>\n",
       "<p style=\"text-align: center;font-size:24px;\">146820 (<span style=\"color: #ff0000;\">+29</span>)</p>\n"
      ],
      "text/plain": [
       "<IPython.core.display.HTML object>"
      ]
     },
     "metadata": {},
     "output_type": "display_data"
    }
   ],
   "source": [
    "#hide_input\n",
    "update = summary['updated']\n",
    "cases = summary['Cases']\n",
    "new = summary['Cases (+)']\n",
    "deaths = summary['Deaths']\n",
    "dnew = summary['Deaths (+)']\n",
    "\n",
    "html = HTML(overview.format(update=update, cases=cases,new=new,deaths=deaths,dnew=dnew))\n",
    "\n",
    "display(html)"
   ]
  },
  {
   "cell_type": "code",
   "execution_count": 17,
   "metadata": {
    "execution": {
     "iopub.execute_input": "2020-12-24T14:33:12.155919Z",
     "iopub.status.busy": "2020-12-24T14:33:12.153339Z",
     "iopub.status.idle": "2020-12-24T14:33:12.163904Z",
     "shell.execute_reply": "2020-12-24T14:33:12.163256Z"
    },
    "papermill": {
     "duration": 0.040572,
     "end_time": "2020-12-24T14:33:12.164070",
     "exception": false,
     "start_time": "2020-12-24T14:33:12.123498",
     "status": "completed"
    },
    "tags": []
   },
   "outputs": [],
   "source": [
    "#hide\n",
    "dt_cols = list(dft_cases.columns[1:])\n",
    "dft_ct_new_cases = dft_cases.groupby('state')[dt_cols].sum().diff(axis=1).fillna(0).astype(int)\n",
    "dft_ct_new_cases.sort_values(by = dates[-1], ascending = False,inplace = True)"
   ]
  },
  {
   "cell_type": "code",
   "execution_count": 18,
   "metadata": {
    "execution": {
     "iopub.execute_input": "2020-12-24T14:33:12.226270Z",
     "iopub.status.busy": "2020-12-24T14:33:12.225631Z",
     "iopub.status.idle": "2020-12-24T14:33:12.229112Z",
     "shell.execute_reply": "2020-12-24T14:33:12.228224Z"
    },
    "papermill": {
     "duration": 0.044319,
     "end_time": "2020-12-24T14:33:12.229294",
     "exception": false,
     "start_time": "2020-12-24T14:33:12.184975",
     "status": "completed"
    },
    "tags": []
   },
   "outputs": [
    {
     "data": {
      "text/html": [
       "<div>\n",
       "<style scoped>\n",
       "    .dataframe tbody tr th:only-of-type {\n",
       "        vertical-align: middle;\n",
       "    }\n",
       "\n",
       "    .dataframe tbody tr th {\n",
       "        vertical-align: top;\n",
       "    }\n",
       "\n",
       "    .dataframe thead th {\n",
       "        text-align: right;\n",
       "    }\n",
       "</style>\n",
       "<table border=\"1\" class=\"dataframe\">\n",
       "  <thead>\n",
       "    <tr style=\"text-align: right;\">\n",
       "      <th>states</th>\n",
       "      <th>2020-07-01</th>\n",
       "      <th>2020-07-02</th>\n",
       "      <th>2020-07-03</th>\n",
       "      <th>2020-07-04</th>\n",
       "      <th>2020-07-05</th>\n",
       "      <th>2020-07-06</th>\n",
       "      <th>2020-07-07</th>\n",
       "      <th>2020-07-08</th>\n",
       "      <th>2020-07-09</th>\n",
       "      <th>2020-07-10</th>\n",
       "      <th>...</th>\n",
       "      <th>2020-12-15</th>\n",
       "      <th>2020-12-16</th>\n",
       "      <th>2020-12-17</th>\n",
       "      <th>2020-12-18</th>\n",
       "      <th>2020-12-19</th>\n",
       "      <th>2020-12-20</th>\n",
       "      <th>2020-12-21</th>\n",
       "      <th>2020-12-22</th>\n",
       "      <th>2020-12-23</th>\n",
       "      <th>2020-12-24</th>\n",
       "    </tr>\n",
       "    <tr>\n",
       "      <th>state</th>\n",
       "      <th></th>\n",
       "      <th></th>\n",
       "      <th></th>\n",
       "      <th></th>\n",
       "      <th></th>\n",
       "      <th></th>\n",
       "      <th></th>\n",
       "      <th></th>\n",
       "      <th></th>\n",
       "      <th></th>\n",
       "      <th></th>\n",
       "      <th></th>\n",
       "      <th></th>\n",
       "      <th></th>\n",
       "      <th></th>\n",
       "      <th></th>\n",
       "      <th></th>\n",
       "      <th></th>\n",
       "      <th></th>\n",
       "      <th></th>\n",
       "      <th></th>\n",
       "    </tr>\n",
       "  </thead>\n",
       "  <tbody>\n",
       "    <tr>\n",
       "      <th>Kerala</th>\n",
       "      <td>0</td>\n",
       "      <td>160</td>\n",
       "      <td>211</td>\n",
       "      <td>240</td>\n",
       "      <td>225</td>\n",
       "      <td>193</td>\n",
       "      <td>272</td>\n",
       "      <td>301</td>\n",
       "      <td>339</td>\n",
       "      <td>416</td>\n",
       "      <td>...</td>\n",
       "      <td>5218</td>\n",
       "      <td>6185</td>\n",
       "      <td>4969</td>\n",
       "      <td>5456</td>\n",
       "      <td>6293</td>\n",
       "      <td>5711</td>\n",
       "      <td>3423</td>\n",
       "      <td>6049</td>\n",
       "      <td>6169</td>\n",
       "      <td>5177</td>\n",
       "    </tr>\n",
       "    <tr>\n",
       "      <th>Telangana</th>\n",
       "      <td>0</td>\n",
       "      <td>1213</td>\n",
       "      <td>1892</td>\n",
       "      <td>1850</td>\n",
       "      <td>1590</td>\n",
       "      <td>1831</td>\n",
       "      <td>1879</td>\n",
       "      <td>1924</td>\n",
       "      <td>1410</td>\n",
       "      <td>1278</td>\n",
       "      <td>...</td>\n",
       "      <td>491</td>\n",
       "      <td>536</td>\n",
       "      <td>509</td>\n",
       "      <td>551</td>\n",
       "      <td>627</td>\n",
       "      <td>592</td>\n",
       "      <td>316</td>\n",
       "      <td>617</td>\n",
       "      <td>635</td>\n",
       "      <td>574</td>\n",
       "    </tr>\n",
       "    <tr>\n",
       "      <th>Odisha</th>\n",
       "      <td>0</td>\n",
       "      <td>229</td>\n",
       "      <td>561</td>\n",
       "      <td>495</td>\n",
       "      <td>469</td>\n",
       "      <td>456</td>\n",
       "      <td>571</td>\n",
       "      <td>527</td>\n",
       "      <td>577</td>\n",
       "      <td>755</td>\n",
       "      <td>...</td>\n",
       "      <td>300</td>\n",
       "      <td>407</td>\n",
       "      <td>351</td>\n",
       "      <td>358</td>\n",
       "      <td>356</td>\n",
       "      <td>372</td>\n",
       "      <td>363</td>\n",
       "      <td>319</td>\n",
       "      <td>364</td>\n",
       "      <td>263</td>\n",
       "    </tr>\n",
       "    <tr>\n",
       "      <th>Mizoram</th>\n",
       "      <td>0</td>\n",
       "      <td>2</td>\n",
       "      <td>0</td>\n",
       "      <td>2</td>\n",
       "      <td>22</td>\n",
       "      <td>11</td>\n",
       "      <td>1</td>\n",
       "      <td>5</td>\n",
       "      <td>0</td>\n",
       "      <td>23</td>\n",
       "      <td>...</td>\n",
       "      <td>9</td>\n",
       "      <td>31</td>\n",
       "      <td>5</td>\n",
       "      <td>9</td>\n",
       "      <td>16</td>\n",
       "      <td>12</td>\n",
       "      <td>2</td>\n",
       "      <td>9</td>\n",
       "      <td>8</td>\n",
       "      <td>15</td>\n",
       "    </tr>\n",
       "    <tr>\n",
       "      <th>Tripura</th>\n",
       "      <td>0</td>\n",
       "      <td>39</td>\n",
       "      <td>93</td>\n",
       "      <td>25</td>\n",
       "      <td>23</td>\n",
       "      <td>111</td>\n",
       "      <td>24</td>\n",
       "      <td>57</td>\n",
       "      <td>16</td>\n",
       "      <td>142</td>\n",
       "      <td>...</td>\n",
       "      <td>9</td>\n",
       "      <td>24</td>\n",
       "      <td>17</td>\n",
       "      <td>21</td>\n",
       "      <td>26</td>\n",
       "      <td>22</td>\n",
       "      <td>8</td>\n",
       "      <td>13</td>\n",
       "      <td>15</td>\n",
       "      <td>13</td>\n",
       "    </tr>\n",
       "  </tbody>\n",
       "</table>\n",
       "<p>5 rows × 177 columns</p>\n",
       "</div>"
      ],
      "text/plain": [
       "states     2020-07-01  2020-07-02  2020-07-03  2020-07-04  2020-07-05  \\\n",
       "state                                                                   \n",
       "Kerala              0         160         211         240         225   \n",
       "Telangana           0        1213        1892        1850        1590   \n",
       "Odisha              0         229         561         495         469   \n",
       "Mizoram             0           2           0           2          22   \n",
       "Tripura             0          39          93          25          23   \n",
       "\n",
       "states     2020-07-06  2020-07-07  2020-07-08  2020-07-09  2020-07-10  ...  \\\n",
       "state                                                                  ...   \n",
       "Kerala            193         272         301         339         416  ...   \n",
       "Telangana        1831        1879        1924        1410        1278  ...   \n",
       "Odisha            456         571         527         577         755  ...   \n",
       "Mizoram            11           1           5           0          23  ...   \n",
       "Tripura           111          24          57          16         142  ...   \n",
       "\n",
       "states     2020-12-15  2020-12-16  2020-12-17  2020-12-18  2020-12-19  \\\n",
       "state                                                                   \n",
       "Kerala           5218        6185        4969        5456        6293   \n",
       "Telangana         491         536         509         551         627   \n",
       "Odisha            300         407         351         358         356   \n",
       "Mizoram             9          31           5           9          16   \n",
       "Tripura             9          24          17          21          26   \n",
       "\n",
       "states     2020-12-20  2020-12-21  2020-12-22  2020-12-23  2020-12-24  \n",
       "state                                                                  \n",
       "Kerala           5711        3423        6049        6169        5177  \n",
       "Telangana         592         316         617         635         574  \n",
       "Odisha            372         363         319         364         263  \n",
       "Mizoram            12           2           9           8          15  \n",
       "Tripura            22           8          13          15          13  \n",
       "\n",
       "[5 rows x 177 columns]"
      ]
     },
     "execution_count": 18,
     "metadata": {},
     "output_type": "execute_result"
    }
   ],
   "source": [
    "#hide\n",
    "dft_ct_new_cases.head()"
   ]
  },
  {
   "cell_type": "code",
   "execution_count": 19,
   "metadata": {
    "execution": {
     "iopub.execute_input": "2020-12-24T14:33:12.472154Z",
     "iopub.status.busy": "2020-12-24T14:33:12.456602Z",
     "iopub.status.idle": "2020-12-24T14:33:20.972999Z",
     "shell.execute_reply": "2020-12-24T14:33:20.973627Z"
    },
    "papermill": {
     "duration": 8.723378,
     "end_time": "2020-12-24T14:33:20.973825",
     "exception": false,
     "start_time": "2020-12-24T14:33:12.250447",
     "status": "completed"
    },
    "tags": []
   },
   "outputs": [
    {
     "data": {
      "image/png": "[encoded data removed]",
      "text/plain": [
       "<Figure size 1296x2016 with 11 Axes>"
      ]
     },
     "metadata": {
      "needs_background": "light"
     },
     "output_type": "display_data"
    }
   ],
   "source": [
    "#hide_input\n",
    "df = dft_ct_new_cases.copy()\n",
    "df.loc['Total'] = df.sum()\n",
    "n = 5\n",
    "ax = []\n",
    "fig = plt.figure(figsize = (18,28))\n",
    "gs = fig.add_gridspec(n+2, 5)\n",
    "# gs = fig.add_gridspec(2, 3)\n",
    "ax1 = fig.add_subplot(gs[0, :])\n",
    "ef = df.loc['Total'].rename_axis('date').reset_index()\n",
    "ef['date'] = ef['date'].astype('datetime64[ns]')\n",
    "ax1.bar(ef.date,ef.Total,alpha=0.3,color='#007acc')\n",
    "ax1.plot(ef.date,ef.Total , marker=\"o\", color='#007acc')\n",
    "ax1.xaxis.set_major_locator(mdates.WeekdayLocator())\n",
    "ax1.xaxis.set_major_formatter(mdates.DateFormatter('%b %d'))\n",
    "ax1.text(0.02, 0.5,'India daily case count', transform = ax1.transAxes, fontsize=25);\n",
    "ax1.spines['right'].set_visible(False)\n",
    "ax1.spines['top'].set_visible(False)\n",
    "\n",
    "ax2 = fig.add_subplot(gs[1,0])\n",
    "ef = df.loc['Maharashtra'].rename_axis('date').reset_index()\n",
    "ef['date'] = ef['date'].astype('datetime64[ns]')\n",
    "\n",
    "ax2.bar(ef.date, ef.Maharashtra,color = '#007acc',alpha=0.5)\n",
    "ax2.xaxis.set_major_locator(mdates.WeekdayLocator())\n",
    "ax2.xaxis.set_major_formatter(mdates.DateFormatter('%b %d'))\n",
    "ax2.set_xticks(ax2.get_xticks()[::3])\n",
    "maxyval = ef.Maharashtra.max()\n",
    "ax2.set_ylim([0,maxyval])\n",
    "ax2.text(0.05, 0.9,'Maharashtra', transform = ax2.transAxes, fontsize=20);\n",
    "ax2.spines['right'].set_visible(False)\n",
    "ax2.spines['top'].set_visible(False)\n",
    "\n",
    "\n",
    "ax3 = fig.add_subplot(gs[1,1])\n",
    "ef = df.loc['Tamil Nadu'].rename_axis('date').reset_index()\n",
    "ef['date'] = ef['date'].astype('datetime64[ns]')\n",
    "ax3.bar(ef.date, ef['Tamil Nadu'],color = '#007acc',alpha=0.5,)\n",
    "ax3.xaxis.set_major_locator(mdates.WeekdayLocator())\n",
    "ax3.xaxis.set_major_formatter(mdates.DateFormatter('%b %d'))\n",
    "ax3.set_xticks(ax3.get_xticks()[::3])\n",
    "ax3.text(0.05, 0.9,'Tamil Nadu', transform = ax3.transAxes, fontsize=20);\n",
    "ax3.spines['right'].set_visible(False)\n",
    "ax3.spines['top'].set_visible(False)\n",
    "\n",
    "ax5 = fig.add_subplot(gs[1,3])\n",
    "ef = df.loc['Telangana'].rename_axis('date').reset_index()\n",
    "ef['date'] = ef['date'].astype('datetime64[ns]')\n",
    "ax5.bar(ef.date, ef['Telangana'],color = '#007acc',alpha=0.5,)\n",
    "ax5.xaxis.set_major_locator(mdates.WeekdayLocator())\n",
    "ax5.xaxis.set_major_formatter(mdates.DateFormatter('%b %d'))\n",
    "ax5.set_xticks(ax5.get_xticks()[::3])\n",
    "ax5.text(0.05, 0.9,'Telangana', transform = ax5.transAxes, fontsize=20);\n",
    "ax5.spines['right'].set_visible(False)\n",
    "ax5.spines['top'].set_visible(False)\n",
    "\n",
    "ax6 = fig.add_subplot(gs[1,4])\n",
    "ef = df.loc['Andhra Pradesh'].rename_axis('date').reset_index()\n",
    "ef['date'] = ef['date'].astype('datetime64[ns]')\n",
    "ax6.bar(ef.date, ef['Andhra Pradesh'],color = '#007acc',alpha=0.5,)\n",
    "ax6.xaxis.set_major_locator(mdates.WeekdayLocator())\n",
    "ax6.xaxis.set_major_formatter(mdates.DateFormatter('%b %d'))\n",
    "ax6.set_xticks(ax6.get_xticks()[::3])\n",
    "ax6.text(0.05, 1,'Andhra Pradesh', transform = ax6.transAxes, fontsize=20);\n",
    "ax6.spines['right'].set_visible(False)\n",
    "ax6.spines['top'].set_visible(False)\n",
    "\n",
    "ax4 = fig.add_subplot(gs[1,2])\n",
    "ef = df.loc['Delhi'].rename_axis('date').reset_index()\n",
    "ef['date'] = ef['date'].astype('datetime64[ns]')\n",
    "ax4.bar(ef.date, ef.Delhi,color = '#007acc',alpha=0.5)\n",
    "ax4.set_xticks([])\n",
    "ax4.xaxis.set_major_locator(mdates.WeekdayLocator())\n",
    "ax4.xaxis.set_major_formatter(mdates.DateFormatter('%b %d'))\n",
    "ax4.set_xticks(ax4.get_xticks()[::3])\n",
    "ax4.spines['right'].set_visible(False)\n",
    "ax4.spines['top'].set_visible(False)\n",
    "\n",
    "ax4.text(0.05, 1,'Delhi', transform = ax4.transAxes, fontsize=20)\n",
    "\n",
    "for i in range(n):\n",
    "    \n",
    "    ax.append(fig.add_subplot(gs[i+2,:]))\n",
    "    ef = df.iloc[i+3].rename_axis('date').reset_index()\n",
    "    ef['date'] = ef['date'].astype('datetime64[ns]')\n",
    "    ax[i].bar(ef.date,ef.iloc[:,-1],color = '#007acc',alpha=0.3)\n",
    "    ax[i].plot(ef.date,ef.iloc[:,-1],marker='o',color='#007acc')\n",
    "    ax[i].text(0.02,0.5,f'{ef.columns.values[-1]}',transform = ax[i].transAxes, fontsize = 20);\n",
    "    ax[i].xaxis.set_major_locator(mdates.WeekdayLocator())\n",
    "    ax[i].xaxis.set_major_formatter(mdates.DateFormatter('%b %d'))\n",
    "    ax[i].set_ylim([0,7000])\n",
    "    ax[i].spines['right'].set_visible(False)\n",
    "    ax[i].spines['top'].set_visible(False)\n",
    "plt.tight_layout()\n"
   ]
  },
  {
   "cell_type": "code",
   "execution_count": 20,
   "metadata": {
    "execution": {
     "iopub.execute_input": "2020-12-24T14:33:21.036334Z",
     "iopub.status.busy": "2020-12-24T14:33:21.035527Z",
     "iopub.status.idle": "2020-12-24T14:33:21.040759Z",
     "shell.execute_reply": "2020-12-24T14:33:21.040201Z"
    },
    "papermill": {
     "duration": 0.041408,
     "end_time": "2020-12-24T14:33:21.040936",
     "exception": false,
     "start_time": "2020-12-24T14:33:20.999528",
     "status": "completed"
    },
    "tags": []
   },
   "outputs": [
    {
     "name": "stdout",
     "output_type": "stream",
     "text": [
      "                                   states    Cases  Deaths   PCases  PDeaths  Cases (+)  Deaths (+)  Fatality Rate\n",
      "                              Maharashtra  1906371   48969  1906371    48969          0           0           2.57\n",
      "                                Karnataka   912340   12038   912340    12038          0           0           1.32\n",
      "                           Andhra Pradesh   879718    7085   879718     7085          0           0           0.81\n",
      "                               Tamil Nadu   810080   12024   810080    12024          0           0           1.48\n",
      "                                   Kerala   726688    2915   721511     2893       5177          22           0.40\n",
      "                                    Delhi   619618   10347   619618    10347          0           0           1.67\n",
      "                            Uttar Pradesh   577642    8245   577642     8245          0           0           1.43\n",
      "                              West Bengal   541624    9473   541624     9473          0           0           1.75\n",
      "                                   Odisha   327542    1903   327279     1899        263           4           0.58\n",
      "                                Rajasthan   301708    2642   301708     2642          0           0           0.88\n",
      "                                Telangana   283556    1524   282982     1522        574           2           0.54\n",
      "                             Chhattisgarh   271194    3227   271194     3227          0           0           1.19\n",
      "                                  Haryana   259226    2847   259226     2847          0           0           1.10\n",
      "                                    Bihar   248668    1367   248668     1367          0           0           0.55\n",
      "                                  Gujarat   238205    4254   238205     4254          0           0           1.79\n",
      "                           Madhya Pradesh   234331    3514   234331     3514          0           0           1.50\n",
      "                                    Assam   215680    1029   215680     1029          0           0           0.48\n",
      "                                   Punjab   164145    5243   164145     5243          0           0           3.19\n",
      "                        Jammu and Kashmir   119053    1853   119053     1853          0           0           1.56\n",
      "                                Jharkhand   113609    1014   113609     1014          0           0           0.89\n",
      "                              Uttarakhand    87940    1447    87940     1447          0           0           1.65\n",
      "                         Himachal Pradesh    53392     882    53392      882          0           0           1.65\n",
      "                                      Goa    50364     727    50364      727          0           0           1.44\n",
      "                               Puducherry    37845     629    37845      629          0           0           1.66\n",
      "                                  Tripura    33213     381    33200      380         13           1           1.15\n",
      "                                  Manipur    27827     338    27827      338          0           0           1.21\n",
      "                               Chandigarh    19266     313    19266      313          0           0           1.62\n",
      "                        Arunachal Pradesh    16669      56    16669       56          0           0           0.34\n",
      "                                Meghalaya    13328     135    13328      135          0           0           1.01\n",
      "                                 Nagaland    11877      77    11877       77          0           0           0.65\n",
      "                                   Ladakh     9309     125     9309      125          0           0           1.34\n",
      "                                   Sikkim     5632     125     5632      125          0           0           2.22\n",
      "              Andaman and Nicobar Islands     4896      62     4896       62          0           0           1.27\n",
      "                                  Mizoram     4156       8     4141        8         15           0           0.19\n",
      " Dadra and Nagar Haveli and Daman and Diu     3354       2     3354        2          0           0           0.06\n",
      "                              Lakshadweep        0       0        0        0          0           0            NaN\n"
     ]
    }
   ],
   "source": [
    "#hide_input\n",
    "print(df_table.to_string(index=False))"
   ]
  },
  {
   "cell_type": "code",
   "execution_count": null,
   "metadata": {
    "papermill": {
     "duration": 0.024088,
     "end_time": "2020-12-24T14:33:21.094755",
     "exception": false,
     "start_time": "2020-12-24T14:33:21.070667",
     "status": "completed"
    },
    "tags": []
   },
   "outputs": [],
   "source": []
  },
  {
   "cell_type": "code",
   "execution_count": null,
   "metadata": {
    "papermill": {
     "duration": 0.022409,
     "end_time": "2020-12-24T14:33:21.140279",
     "exception": false,
     "start_time": "2020-12-24T14:33:21.117870",
     "status": "completed"
    },
    "tags": []
   },
   "outputs": [],
   "source": []
  }
 ],
 "metadata": {
  "kernelspec": {
   "display_name": "Python 3",
   "language": "python",
   "name": "python3"
  },
  "language_info": {
   "codemirror_mode": {
    "name": "ipython",
    "version": 3
   },
   "file_extension": ".py",
   "mimetype": "text/x-python",
   "name": "python",
   "nbconvert_exporter": "python",
   "pygments_lexer": "ipython3",
   "version": "3.6.12"
  },
  "papermill": {
   "duration": 19.341292,
   "end_time": "2020-12-24T14:33:21.674300",
   "environment_variables": {},
   "exception": null,
   "input_path": "latest.ipynb",
   "output_path": "latest.ipynb",
   "parameters": {},
   "start_time": "2020-12-24T14:33:02.333008",
   "version": "2.1.2"
  }
 },
 "nbformat": 4,
 "nbformat_minor": 4
}