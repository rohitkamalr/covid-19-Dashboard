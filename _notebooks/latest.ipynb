{
 "cells": [
  {
   "cell_type": "markdown",
   "metadata": {
    "papermill": {
     "duration": 0.016484,
     "end_time": "2020-10-04T06:40:29.377093",
     "exception": false,
     "start_time": "2020-10-04T06:40:29.360609",
     "status": "completed"
    },
    "tags": []
   },
   "source": [
    "# Latest COVID-19 India Matplotlib Overview"
   ]
  },
  {
   "cell_type": "code",
   "execution_count": 1,
   "metadata": {
    "execution": {
     "iopub.execute_input": "2020-10-04T06:40:29.410437Z",
     "iopub.status.busy": "2020-10-04T06:40:29.409883Z",
     "iopub.status.idle": "2020-10-04T06:40:29.937442Z",
     "shell.execute_reply": "2020-10-04T06:40:29.936969Z"
    },
    "papermill": {
     "duration": 0.546065,
     "end_time": "2020-10-04T06:40:29.937578",
     "exception": false,
     "start_time": "2020-10-04T06:40:29.391513",
     "status": "completed"
    },
    "tags": []
   },
   "outputs": [],
   "source": [
    "#hide\n",
    "import pandas as pd\n",
    "import numpy as np\n",
    "import requests\n",
    "import json\n",
    "import matplotlib.pyplot as plt\n",
    "import matplotlib.dates as mdates\n",
    "import matplotlib as mpl\n",
    "from IPython.core.display import display,HTML\n",
    "%matplotlib inline\n",
    "from datetime import date"
   ]
  },
  {
   "cell_type": "code",
   "execution_count": 2,
   "metadata": {
    "execution": {
     "iopub.execute_input": "2020-10-04T06:40:29.974080Z",
     "iopub.status.busy": "2020-10-04T06:40:29.973494Z",
     "iopub.status.idle": "2020-10-04T06:40:30.154243Z",
     "shell.execute_reply": "2020-10-04T06:40:30.153763Z"
    },
    "papermill": {
     "duration": 0.20142,
     "end_time": "2020-10-04T06:40:30.154371",
     "exception": false,
     "start_time": "2020-10-04T06:40:29.952951",
     "status": "completed"
    },
    "tags": []
   },
   "outputs": [],
   "source": [
    "#hide\n",
    "df  = pd.read_csv('https://api.covid19india.org/csv/latest/states.csv')\n",
    "df = df[['Date','State','Confirmed','Deceased']]\n",
    "df = df.rename(columns={'Confirmed':'Cases', \"Deceased\":'Deaths'})\n",
    "df_cases = df[[\"Date\",'State','Cases']]\n",
    "df_deaths = df[['Date','State','Deaths']]\n",
    "df_cases1 = df_cases.groupby('Date')\n",
    "df_deaths1= df_deaths.groupby('Date')"
   ]
  },
  {
   "cell_type": "code",
   "execution_count": 3,
   "metadata": {
    "execution": {
     "iopub.execute_input": "2020-10-04T06:40:30.184957Z",
     "iopub.status.busy": "2020-10-04T06:40:30.184445Z",
     "iopub.status.idle": "2020-10-04T06:40:30.199299Z",
     "shell.execute_reply": "2020-10-04T06:40:30.198880Z"
    },
    "papermill": {
     "duration": 0.031654,
     "end_time": "2020-10-04T06:40:30.199400",
     "exception": false,
     "start_time": "2020-10-04T06:40:30.167746",
     "status": "completed"
    },
    "tags": []
   },
   "outputs": [],
   "source": [
    "#hide\n",
    "df_snap = pd.read_csv('data/SnapshotCases-28-July.csv')\n",
    "arr_states = df_snap['states'].unique()\n",
    "arr_dates = df['Date'].unique()\n",
    "df_snap = df_snap.set_index('states')"
   ]
  },
  {
   "cell_type": "code",
   "execution_count": 4,
   "metadata": {
    "execution": {
     "iopub.execute_input": "2020-10-04T06:40:30.230461Z",
     "iopub.status.busy": "2020-10-04T06:40:30.229914Z",
     "iopub.status.idle": "2020-10-04T06:40:30.233160Z",
     "shell.execute_reply": "2020-10-04T06:40:30.232664Z"
    },
    "papermill": {
     "duration": 0.021066,
     "end_time": "2020-10-04T06:40:30.233290",
     "exception": false,
     "start_time": "2020-10-04T06:40:30.212224",
     "status": "completed"
    },
    "tags": []
   },
   "outputs": [
    {
     "data": {
      "text/plain": [
       "array(['Andaman and Nicobar Islands', 'Andhra Pradesh',\n",
       "       'Arunachal Pradesh', 'Assam', 'Bihar', 'Chandigarh',\n",
       "       'Dadra and Nagar Haveli and Daman and Diu', 'Delhi', 'Goa',\n",
       "       'Gujarat', 'Haryana', 'Himachal Pradesh', 'Jammu and Kashmir',\n",
       "       'Jharkhand', 'Karnataka', 'Kerala', 'Lakshadweep',\n",
       "       'Madhya Pradesh', 'Maharashtra', 'Manipur', 'Meghalaya', 'Mizoram',\n",
       "       'Nagaland', 'Odisha', 'Puducherry', 'Punjab', 'Rajasthan',\n",
       "       'Sikkim', 'Tamil Nadu', 'Telangana', 'Tripura', 'Uttar Pradesh',\n",
       "       'West Bengal', 'Chhattisgarh', 'Ladakh', 'Uttarakhand'],\n",
       "      dtype=object)"
      ]
     },
     "execution_count": 4,
     "metadata": {},
     "output_type": "execute_result"
    }
   ],
   "source": [
    "#hide\n",
    "arr_states[-9] = 'Puducherry'\n",
    "arr_states[-10] = 'Odisha'\n",
    "arr_states[6] = 'Dadra and Nagar Haveli and Daman and Diu'\n",
    "arr_states = np.append(arr_states,np.array(['Chhattisgarh','Ladakh','Uttarakhand']))\n",
    "arr_states"
   ]
  },
  {
   "cell_type": "code",
   "execution_count": 5,
   "metadata": {
    "execution": {
     "iopub.execute_input": "2020-10-04T06:40:30.269390Z",
     "iopub.status.busy": "2020-10-04T06:40:30.268854Z",
     "iopub.status.idle": "2020-10-04T06:40:30.275495Z",
     "shell.execute_reply": "2020-10-04T06:40:30.276022Z"
    },
    "papermill": {
     "duration": 0.028574,
     "end_time": "2020-10-04T06:40:30.276158",
     "exception": false,
     "start_time": "2020-10-04T06:40:30.247584",
     "status": "completed"
    },
    "tags": []
   },
   "outputs": [],
   "source": [
    "#hide\n",
    "dates = []\n",
    "for i in arr_dates:\n",
    "    if i>='2020-07-01':\n",
    "        dates.append(i)\n",
    "dict = {'states':dates}\n",
    "for i in arr_states:\n",
    "    dict[i] = [0]*len(dates)\n",
    "dft_cases = pd.DataFrame(dict)\n",
    "dft_deaths = pd.DataFrame(dict)\n"
   ]
  },
  {
   "cell_type": "code",
   "execution_count": 6,
   "metadata": {
    "execution": {
     "iopub.execute_input": "2020-10-04T06:40:30.306720Z",
     "iopub.status.busy": "2020-10-04T06:40:30.306090Z",
     "iopub.status.idle": "2020-10-04T06:40:31.707958Z",
     "shell.execute_reply": "2020-10-04T06:40:31.708555Z"
    },
    "papermill": {
     "duration": 1.419573,
     "end_time": "2020-10-04T06:40:31.708711",
     "exception": false,
     "start_time": "2020-10-04T06:40:30.289138",
     "status": "completed"
    },
    "tags": []
   },
   "outputs": [],
   "source": [
    "#hide\n",
    "for i in range(len(dates)):\n",
    "    df1_deaths = df_deaths1.get_group(dates[i])\n",
    "    for j in range(len(df1_deaths.index)):\n",
    "        if df1_deaths.iloc[j,1] in arr_states:\n",
    "            dft_deaths.loc[i,df1_deaths.iloc[j,1]] = df1_deaths.iloc[j,2]\n",
    "dft_deaths = dft_deaths.set_index('states')"
   ]
  },
  {
   "cell_type": "code",
   "execution_count": 7,
   "metadata": {
    "execution": {
     "iopub.execute_input": "2020-10-04T06:40:32.079932Z",
     "iopub.status.busy": "2020-10-04T06:40:32.079316Z",
     "iopub.status.idle": "2020-10-04T06:40:33.543872Z",
     "shell.execute_reply": "2020-10-04T06:40:33.543261Z"
    },
    "papermill": {
     "duration": 1.771163,
     "end_time": "2020-10-04T06:40:33.544023",
     "exception": false,
     "start_time": "2020-10-04T06:40:31.772860",
     "status": "completed"
    },
    "tags": []
   },
   "outputs": [],
   "source": [
    "#hide\n",
    "for i in range(len(dates)):\n",
    "    df1_cases = df_cases1.get_group(dates[i])\n",
    "    for j in range(len(df1_cases.index)):\n",
    "        if df1_cases.iloc[j,1] in arr_states:\n",
    "            dft_cases.loc[i,df1_cases.iloc[j,1]] = df1_cases.iloc[j,2]\n",
    "dft_cases = dft_cases.set_index('states')"
   ]
  },
  {
   "cell_type": "code",
   "execution_count": 8,
   "metadata": {
    "execution": {
     "iopub.execute_input": "2020-10-04T06:40:33.581057Z",
     "iopub.status.busy": "2020-10-04T06:40:33.580432Z",
     "iopub.status.idle": "2020-10-04T06:40:33.583083Z",
     "shell.execute_reply": "2020-10-04T06:40:33.582486Z"
    },
    "papermill": {
     "duration": 0.022291,
     "end_time": "2020-10-04T06:40:33.583198",
     "exception": false,
     "start_time": "2020-10-04T06:40:33.560907",
     "status": "completed"
    },
    "tags": []
   },
   "outputs": [],
   "source": [
    "#hide\n",
    "dft_cases = dft_cases.T\n",
    "dft_deaths = dft_deaths.T\n",
    "dt_today = dates[-1]\n",
    "dt_yday = dates[-2]"
   ]
  },
  {
   "cell_type": "code",
   "execution_count": 9,
   "metadata": {
    "execution": {
     "iopub.execute_input": "2020-10-04T06:40:33.621377Z",
     "iopub.status.busy": "2020-10-04T06:40:33.620800Z",
     "iopub.status.idle": "2020-10-04T06:40:33.623322Z",
     "shell.execute_reply": "2020-10-04T06:40:33.622699Z"
    },
    "papermill": {
     "duration": 0.024936,
     "end_time": "2020-10-04T06:40:33.623465",
     "exception": false,
     "start_time": "2020-10-04T06:40:33.598529",
     "status": "completed"
    },
    "tags": []
   },
   "outputs": [],
   "source": [
    "#hide\n",
    "dft_cases = dft_cases.reset_index()\n",
    "dft_deaths = dft_deaths.reset_index()\n",
    "dft_cases = dft_cases.rename(columns = {'index':'state'})\n",
    "dft_deaths = dft_deaths.rename(columns = {'index':'state'})"
   ]
  },
  {
   "cell_type": "code",
   "execution_count": 10,
   "metadata": {
    "execution": {
     "iopub.execute_input": "2020-10-04T06:40:33.666806Z",
     "iopub.status.busy": "2020-10-04T06:40:33.666103Z",
     "iopub.status.idle": "2020-10-04T06:40:33.668822Z",
     "shell.execute_reply": "2020-10-04T06:40:33.668026Z"
    },
    "papermill": {
     "duration": 0.030714,
     "end_time": "2020-10-04T06:40:33.668985",
     "exception": false,
     "start_time": "2020-10-04T06:40:33.638271",
     "status": "completed"
    },
    "tags": []
   },
   "outputs": [],
   "source": [
    "#hide\n",
    "dfc_cases = dft_cases.groupby('state')[dt_today].sum()\n",
    "dfc_deaths = dft_deaths.groupby('state')[dt_today].sum()\n",
    "dfp_cases = dft_cases.groupby('state')[dt_yday].sum()\n",
    "dfp_deaths = dft_deaths.groupby('state')[dt_yday].sum()"
   ]
  },
  {
   "cell_type": "code",
   "execution_count": 11,
   "metadata": {
    "execution": {
     "iopub.execute_input": "2020-10-04T06:40:33.718899Z",
     "iopub.status.busy": "2020-10-04T06:40:33.717937Z",
     "iopub.status.idle": "2020-10-04T06:40:33.725878Z",
     "shell.execute_reply": "2020-10-04T06:40:33.726464Z"
    },
    "papermill": {
     "duration": 0.040149,
     "end_time": "2020-10-04T06:40:33.726636",
     "exception": false,
     "start_time": "2020-10-04T06:40:33.686487",
     "status": "completed"
    },
    "tags": []
   },
   "outputs": [
    {
     "data": {
      "text/html": [
       "<div>\n",
       "<style scoped>\n",
       "    .dataframe tbody tr th:only-of-type {\n",
       "        vertical-align: middle;\n",
       "    }\n",
       "\n",
       "    .dataframe tbody tr th {\n",
       "        vertical-align: top;\n",
       "    }\n",
       "\n",
       "    .dataframe thead th {\n",
       "        text-align: right;\n",
       "    }\n",
       "</style>\n",
       "<table border=\"1\" class=\"dataframe\">\n",
       "  <thead>\n",
       "    <tr style=\"text-align: right;\">\n",
       "      <th></th>\n",
       "      <th>states</th>\n",
       "      <th>Cases</th>\n",
       "      <th>Deaths</th>\n",
       "      <th>PCases</th>\n",
       "      <th>PDeaths</th>\n",
       "    </tr>\n",
       "  </thead>\n",
       "  <tbody>\n",
       "    <tr>\n",
       "      <th>0</th>\n",
       "      <td>Maharashtra</td>\n",
       "      <td>1430861</td>\n",
       "      <td>37758</td>\n",
       "      <td>1430861</td>\n",
       "      <td>37758</td>\n",
       "    </tr>\n",
       "    <tr>\n",
       "      <th>1</th>\n",
       "      <td>Andhra Pradesh</td>\n",
       "      <td>713014</td>\n",
       "      <td>5941</td>\n",
       "      <td>713014</td>\n",
       "      <td>5941</td>\n",
       "    </tr>\n",
       "    <tr>\n",
       "      <th>2</th>\n",
       "      <td>Karnataka</td>\n",
       "      <td>630516</td>\n",
       "      <td>9219</td>\n",
       "      <td>630516</td>\n",
       "      <td>9219</td>\n",
       "    </tr>\n",
       "    <tr>\n",
       "      <th>3</th>\n",
       "      <td>Tamil Nadu</td>\n",
       "      <td>614507</td>\n",
       "      <td>9718</td>\n",
       "      <td>614507</td>\n",
       "      <td>9718</td>\n",
       "    </tr>\n",
       "    <tr>\n",
       "      <th>4</th>\n",
       "      <td>Uttar Pradesh</td>\n",
       "      <td>410626</td>\n",
       "      <td>5977</td>\n",
       "      <td>410626</td>\n",
       "      <td>5977</td>\n",
       "    </tr>\n",
       "  </tbody>\n",
       "</table>\n",
       "</div>"
      ],
      "text/plain": [
       "           states    Cases  Deaths   PCases  PDeaths\n",
       "0     Maharashtra  1430861   37758  1430861    37758\n",
       "1  Andhra Pradesh   713014    5941   713014     5941\n",
       "2       Karnataka   630516    9219   630516     9219\n",
       "3      Tamil Nadu   614507    9718   614507     9718\n",
       "4   Uttar Pradesh   410626    5977   410626     5977"
      ]
     },
     "execution_count": 11,
     "metadata": {},
     "output_type": "execute_result"
    }
   ],
   "source": [
    "#hide\n",
    "df_table = pd.DataFrame({'states': dfc_cases.index, 'Cases': dfc_cases.values, 'Deaths': dfc_deaths.values, 'PCases': dfp_cases.values, 'PDeaths': dfp_deaths.values}).set_index('states')\n",
    "df_table = df_table.sort_values(by = ['Cases','Deaths'], ascending = [False, False])\n",
    "df_table = df_table.reset_index()\n",
    "df_table.head()"
   ]
  },
  {
   "cell_type": "code",
   "execution_count": 12,
   "metadata": {
    "execution": {
     "iopub.execute_input": "2020-10-04T06:40:33.769970Z",
     "iopub.status.busy": "2020-10-04T06:40:33.768509Z",
     "iopub.status.idle": "2020-10-04T06:40:33.777999Z",
     "shell.execute_reply": "2020-10-04T06:40:33.777535Z"
    },
    "papermill": {
     "duration": 0.033521,
     "end_time": "2020-10-04T06:40:33.778125",
     "exception": false,
     "start_time": "2020-10-04T06:40:33.744604",
     "status": "completed"
    },
    "tags": []
   },
   "outputs": [],
   "source": [
    "#hide\n",
    "for c in 'Cases, Deaths'.split(', '):\n",
    "    df_table[f'{c} (+)'] = (df_table[c] - df_table[f'P{c}']).clip(0)\n",
    "df_table['Fatality Rate'] = (100* df_table['Deaths']/ df_table['Cases']).round(2)"
   ]
  },
  {
   "cell_type": "code",
   "execution_count": 13,
   "metadata": {
    "execution": {
     "iopub.execute_input": "2020-10-04T06:40:33.831933Z",
     "iopub.status.busy": "2020-10-04T06:40:33.831310Z",
     "iopub.status.idle": "2020-10-04T06:40:33.834623Z",
     "shell.execute_reply": "2020-10-04T06:40:33.834079Z"
    },
    "papermill": {
     "duration": 0.039163,
     "end_time": "2020-10-04T06:40:33.834740",
     "exception": false,
     "start_time": "2020-10-04T06:40:33.795577",
     "status": "completed"
    },
    "tags": []
   },
   "outputs": [
    {
     "data": {
      "text/html": [
       "<div>\n",
       "<style scoped>\n",
       "    .dataframe tbody tr th:only-of-type {\n",
       "        vertical-align: middle;\n",
       "    }\n",
       "\n",
       "    .dataframe tbody tr th {\n",
       "        vertical-align: top;\n",
       "    }\n",
       "\n",
       "    .dataframe thead th {\n",
       "        text-align: right;\n",
       "    }\n",
       "</style>\n",
       "<table border=\"1\" class=\"dataframe\">\n",
       "  <thead>\n",
       "    <tr style=\"text-align: right;\">\n",
       "      <th></th>\n",
       "      <th>states</th>\n",
       "      <th>Cases</th>\n",
       "      <th>Deaths</th>\n",
       "      <th>PCases</th>\n",
       "      <th>PDeaths</th>\n",
       "      <th>Cases (+)</th>\n",
       "      <th>Deaths (+)</th>\n",
       "      <th>Fatality Rate</th>\n",
       "    </tr>\n",
       "  </thead>\n",
       "  <tbody>\n",
       "    <tr>\n",
       "      <th>0</th>\n",
       "      <td>Maharashtra</td>\n",
       "      <td>1430861</td>\n",
       "      <td>37758</td>\n",
       "      <td>1430861</td>\n",
       "      <td>37758</td>\n",
       "      <td>0</td>\n",
       "      <td>0</td>\n",
       "      <td>2.64</td>\n",
       "    </tr>\n",
       "    <tr>\n",
       "      <th>1</th>\n",
       "      <td>Andhra Pradesh</td>\n",
       "      <td>713014</td>\n",
       "      <td>5941</td>\n",
       "      <td>713014</td>\n",
       "      <td>5941</td>\n",
       "      <td>0</td>\n",
       "      <td>0</td>\n",
       "      <td>0.83</td>\n",
       "    </tr>\n",
       "    <tr>\n",
       "      <th>2</th>\n",
       "      <td>Karnataka</td>\n",
       "      <td>630516</td>\n",
       "      <td>9219</td>\n",
       "      <td>630516</td>\n",
       "      <td>9219</td>\n",
       "      <td>0</td>\n",
       "      <td>0</td>\n",
       "      <td>1.46</td>\n",
       "    </tr>\n",
       "    <tr>\n",
       "      <th>3</th>\n",
       "      <td>Tamil Nadu</td>\n",
       "      <td>614507</td>\n",
       "      <td>9718</td>\n",
       "      <td>614507</td>\n",
       "      <td>9718</td>\n",
       "      <td>0</td>\n",
       "      <td>0</td>\n",
       "      <td>1.58</td>\n",
       "    </tr>\n",
       "    <tr>\n",
       "      <th>4</th>\n",
       "      <td>Uttar Pradesh</td>\n",
       "      <td>410626</td>\n",
       "      <td>5977</td>\n",
       "      <td>410626</td>\n",
       "      <td>5977</td>\n",
       "      <td>0</td>\n",
       "      <td>0</td>\n",
       "      <td>1.46</td>\n",
       "    </tr>\n",
       "  </tbody>\n",
       "</table>\n",
       "</div>"
      ],
      "text/plain": [
       "           states    Cases  Deaths   PCases  PDeaths  Cases (+)  Deaths (+)  \\\n",
       "0     Maharashtra  1430861   37758  1430861    37758          0           0   \n",
       "1  Andhra Pradesh   713014    5941   713014     5941          0           0   \n",
       "2       Karnataka   630516    9219   630516     9219          0           0   \n",
       "3      Tamil Nadu   614507    9718   614507     9718          0           0   \n",
       "4   Uttar Pradesh   410626    5977   410626     5977          0           0   \n",
       "\n",
       "   Fatality Rate  \n",
       "0           2.64  \n",
       "1           0.83  \n",
       "2           1.46  \n",
       "3           1.58  \n",
       "4           1.46  "
      ]
     },
     "execution_count": 13,
     "metadata": {},
     "output_type": "execute_result"
    }
   ],
   "source": [
    "#hide\n",
    "df_table.head()"
   ]
  },
  {
   "cell_type": "code",
   "execution_count": 14,
   "metadata": {
    "execution": {
     "iopub.execute_input": "2020-10-04T06:40:33.869981Z",
     "iopub.status.busy": "2020-10-04T06:40:33.869298Z",
     "iopub.status.idle": "2020-10-04T06:40:33.885251Z",
     "shell.execute_reply": "2020-10-04T06:40:33.884586Z"
    },
    "papermill": {
     "duration": 0.035552,
     "end_time": "2020-10-04T06:40:33.885374",
     "exception": false,
     "start_time": "2020-10-04T06:40:33.849822",
     "status": "completed"
    },
    "tags": []
   },
   "outputs": [
    {
     "data": {
      "text/plain": [
       "{'updated': '2020-10-04',\n",
       " 'since': '2020-10-03',\n",
       " 'Cases': 6547735,\n",
       " 'PCases': 6547413,\n",
       " 'Deaths': 101816,\n",
       " 'PDeaths': 101812,\n",
       " 'Cases (+)': 322,\n",
       " 'Deaths (+)': 4}"
      ]
     },
     "execution_count": 14,
     "metadata": {},
     "output_type": "execute_result"
    }
   ],
   "source": [
    "#hide\n",
    "summary = {'updated':dates[-1], 'since':dates[-2]}\n",
    "list_names = ['Cases', 'PCases', 'Deaths', 'PDeaths', 'Cases (+)', 'Deaths (+)']\n",
    "for name in list_names:\n",
    "    summary[name] = df_table.sum()[name]\n",
    "summary"
   ]
  },
  {
   "cell_type": "code",
   "execution_count": 15,
   "metadata": {
    "execution": {
     "iopub.execute_input": "2020-10-04T06:40:33.929020Z",
     "iopub.status.busy": "2020-10-04T06:40:33.928177Z",
     "iopub.status.idle": "2020-10-04T06:40:33.929630Z",
     "shell.execute_reply": "2020-10-04T06:40:33.930228Z"
    },
    "papermill": {
     "duration": 0.026174,
     "end_time": "2020-10-04T06:40:33.930393",
     "exception": false,
     "start_time": "2020-10-04T06:40:33.904219",
     "status": "completed"
    },
    "tags": []
   },
   "outputs": [],
   "source": [
    "#hide\n",
    "overview = '''\n",
    "<!-- #######  HTML!! #########-->\n",
    "<h1 style=\"color: #5e9ca0; text-align: center;\">India</h1>\n",
    "<p style=\"text-align: center;\">Last update: <strong>{update}</strong></p>\n",
    "<p style=\"text-align: center;\">Confirmed cases:</p>\n",
    "<p style=\"text-align: center;font-size:24px;\">{cases} (<span style=\"color: #ff0000;\">+{new}</span>)</p>\n",
    "<p style=\"text-align: center;\">Confirmed deaths:</p>\n",
    "<p style=\"text-align: center;font-size:24px;\">{deaths} (<span style=\"color: #ff0000;\">+{dnew}</span>)</p>\n",
    "'''"
   ]
  },
  {
   "cell_type": "code",
   "execution_count": 16,
   "metadata": {
    "execution": {
     "iopub.execute_input": "2020-10-04T06:40:33.973893Z",
     "iopub.status.busy": "2020-10-04T06:40:33.973314Z",
     "iopub.status.idle": "2020-10-04T06:40:33.976590Z",
     "shell.execute_reply": "2020-10-04T06:40:33.976043Z"
    },
    "papermill": {
     "duration": 0.026734,
     "end_time": "2020-10-04T06:40:33.976707",
     "exception": false,
     "start_time": "2020-10-04T06:40:33.949973",
     "status": "completed"
    },
    "tags": []
   },
   "outputs": [
    {
     "data": {
      "text/html": [
       "\n",
       "<!-- #######  HTML!! #########-->\n",
       "<h1 style=\"color: #5e9ca0; text-align: center;\">India</h1>\n",
       "<p style=\"text-align: center;\">Last update: <strong>2020-10-04</strong></p>\n",
       "<p style=\"text-align: center;\">Confirmed cases:</p>\n",
       "<p style=\"text-align: center;font-size:24px;\">6547735 (<span style=\"color: #ff0000;\">+322</span>)</p>\n",
       "<p style=\"text-align: center;\">Confirmed deaths:</p>\n",
       "<p style=\"text-align: center;font-size:24px;\">101816 (<span style=\"color: #ff0000;\">+4</span>)</p>\n"
      ],
      "text/plain": [
       "<IPython.core.display.HTML object>"
      ]
     },
     "metadata": {},
     "output_type": "display_data"
    }
   ],
   "source": [
    "#hide_input\n",
    "update = summary['updated']\n",
    "cases = summary['Cases']\n",
    "new = summary['Cases (+)']\n",
    "deaths = summary['Deaths']\n",
    "dnew = summary['Deaths (+)']\n",
    "\n",
    "html = HTML(overview.format(update=update, cases=cases,new=new,deaths=deaths,dnew=dnew))\n",
    "\n",
    "display(html)"
   ]
  },
  {
   "cell_type": "code",
   "execution_count": 17,
   "metadata": {
    "execution": {
     "iopub.execute_input": "2020-10-04T06:40:34.016826Z",
     "iopub.status.busy": "2020-10-04T06:40:34.016273Z",
     "iopub.status.idle": "2020-10-04T06:40:34.021230Z",
     "shell.execute_reply": "2020-10-04T06:40:34.021688Z"
    },
    "papermill": {
     "duration": 0.02931,
     "end_time": "2020-10-04T06:40:34.021821",
     "exception": false,
     "start_time": "2020-10-04T06:40:33.992511",
     "status": "completed"
    },
    "tags": []
   },
   "outputs": [],
   "source": [
    "#hide\n",
    "dt_cols = list(dft_cases.columns[1:])\n",
    "dft_ct_new_cases = dft_cases.groupby('state')[dt_cols].sum().diff(axis=1).fillna(0).astype(int)\n",
    "dft_ct_new_cases.sort_values(by = dates[-1], ascending = False,inplace = True)"
   ]
  },
  {
   "cell_type": "code",
   "execution_count": 18,
   "metadata": {
    "execution": {
     "iopub.execute_input": "2020-10-04T06:40:34.079346Z",
     "iopub.status.busy": "2020-10-04T06:40:34.078716Z",
     "iopub.status.idle": "2020-10-04T06:40:34.081382Z",
     "shell.execute_reply": "2020-10-04T06:40:34.081925Z"
    },
    "papermill": {
     "duration": 0.044392,
     "end_time": "2020-10-04T06:40:34.082096",
     "exception": false,
     "start_time": "2020-10-04T06:40:34.037704",
     "status": "completed"
    },
    "tags": []
   },
   "outputs": [
    {
     "data": {
      "text/html": [
       "<div>\n",
       "<style scoped>\n",
       "    .dataframe tbody tr th:only-of-type {\n",
       "        vertical-align: middle;\n",
       "    }\n",
       "\n",
       "    .dataframe tbody tr th {\n",
       "        vertical-align: top;\n",
       "    }\n",
       "\n",
       "    .dataframe thead th {\n",
       "        text-align: right;\n",
       "    }\n",
       "</style>\n",
       "<table border=\"1\" class=\"dataframe\">\n",
       "  <thead>\n",
       "    <tr style=\"text-align: right;\">\n",
       "      <th>states</th>\n",
       "      <th>2020-07-01</th>\n",
       "      <th>2020-07-02</th>\n",
       "      <th>2020-07-03</th>\n",
       "      <th>2020-07-04</th>\n",
       "      <th>2020-07-05</th>\n",
       "      <th>2020-07-06</th>\n",
       "      <th>2020-07-07</th>\n",
       "      <th>2020-07-08</th>\n",
       "      <th>2020-07-09</th>\n",
       "      <th>2020-07-10</th>\n",
       "      <th>...</th>\n",
       "      <th>2020-09-25</th>\n",
       "      <th>2020-09-26</th>\n",
       "      <th>2020-09-27</th>\n",
       "      <th>2020-09-28</th>\n",
       "      <th>2020-09-29</th>\n",
       "      <th>2020-09-30</th>\n",
       "      <th>2020-10-01</th>\n",
       "      <th>2020-10-02</th>\n",
       "      <th>2020-10-03</th>\n",
       "      <th>2020-10-04</th>\n",
       "    </tr>\n",
       "    <tr>\n",
       "      <th>state</th>\n",
       "      <th></th>\n",
       "      <th></th>\n",
       "      <th></th>\n",
       "      <th></th>\n",
       "      <th></th>\n",
       "      <th></th>\n",
       "      <th></th>\n",
       "      <th></th>\n",
       "      <th></th>\n",
       "      <th></th>\n",
       "      <th></th>\n",
       "      <th></th>\n",
       "      <th></th>\n",
       "      <th></th>\n",
       "      <th></th>\n",
       "      <th></th>\n",
       "      <th></th>\n",
       "      <th></th>\n",
       "      <th></th>\n",
       "      <th></th>\n",
       "      <th></th>\n",
       "    </tr>\n",
       "  </thead>\n",
       "  <tbody>\n",
       "    <tr>\n",
       "      <th>Tripura</th>\n",
       "      <td>0</td>\n",
       "      <td>39</td>\n",
       "      <td>93</td>\n",
       "      <td>25</td>\n",
       "      <td>23</td>\n",
       "      <td>111</td>\n",
       "      <td>24</td>\n",
       "      <td>57</td>\n",
       "      <td>16</td>\n",
       "      <td>142</td>\n",
       "      <td>...</td>\n",
       "      <td>341</td>\n",
       "      <td>278</td>\n",
       "      <td>320</td>\n",
       "      <td>193</td>\n",
       "      <td>432</td>\n",
       "      <td>381</td>\n",
       "      <td>332</td>\n",
       "      <td>296</td>\n",
       "      <td>190</td>\n",
       "      <td>322</td>\n",
       "    </tr>\n",
       "    <tr>\n",
       "      <th>Andaman and Nicobar Islands</th>\n",
       "      <td>0</td>\n",
       "      <td>9</td>\n",
       "      <td>7</td>\n",
       "      <td>3</td>\n",
       "      <td>6</td>\n",
       "      <td>16</td>\n",
       "      <td>6</td>\n",
       "      <td>2</td>\n",
       "      <td>7</td>\n",
       "      <td>0</td>\n",
       "      <td>...</td>\n",
       "      <td>15</td>\n",
       "      <td>15</td>\n",
       "      <td>20</td>\n",
       "      <td>9</td>\n",
       "      <td>18</td>\n",
       "      <td>14</td>\n",
       "      <td>13</td>\n",
       "      <td>10</td>\n",
       "      <td>10</td>\n",
       "      <td>0</td>\n",
       "    </tr>\n",
       "    <tr>\n",
       "      <th>Puducherry</th>\n",
       "      <td>0</td>\n",
       "      <td>63</td>\n",
       "      <td>22</td>\n",
       "      <td>80</td>\n",
       "      <td>42</td>\n",
       "      <td>65</td>\n",
       "      <td>30</td>\n",
       "      <td>110</td>\n",
       "      <td>49</td>\n",
       "      <td>72</td>\n",
       "      <td>...</td>\n",
       "      <td>594</td>\n",
       "      <td>543</td>\n",
       "      <td>368</td>\n",
       "      <td>285</td>\n",
       "      <td>381</td>\n",
       "      <td>478</td>\n",
       "      <td>480</td>\n",
       "      <td>510</td>\n",
       "      <td>218</td>\n",
       "      <td>0</td>\n",
       "    </tr>\n",
       "    <tr>\n",
       "      <th>Maharashtra</th>\n",
       "      <td>0</td>\n",
       "      <td>6328</td>\n",
       "      <td>6364</td>\n",
       "      <td>7074</td>\n",
       "      <td>6555</td>\n",
       "      <td>5368</td>\n",
       "      <td>5134</td>\n",
       "      <td>6603</td>\n",
       "      <td>6875</td>\n",
       "      <td>7862</td>\n",
       "      <td>...</td>\n",
       "      <td>17794</td>\n",
       "      <td>20419</td>\n",
       "      <td>18056</td>\n",
       "      <td>11921</td>\n",
       "      <td>14976</td>\n",
       "      <td>18317</td>\n",
       "      <td>16476</td>\n",
       "      <td>15591</td>\n",
       "      <td>14348</td>\n",
       "      <td>0</td>\n",
       "    </tr>\n",
       "    <tr>\n",
       "      <th>Manipur</th>\n",
       "      <td>0</td>\n",
       "      <td>19</td>\n",
       "      <td>37</td>\n",
       "      <td>9</td>\n",
       "      <td>41</td>\n",
       "      <td>24</td>\n",
       "      <td>40</td>\n",
       "      <td>5</td>\n",
       "      <td>15</td>\n",
       "      <td>132</td>\n",
       "      <td>...</td>\n",
       "      <td>254</td>\n",
       "      <td>260</td>\n",
       "      <td>248</td>\n",
       "      <td>178</td>\n",
       "      <td>269</td>\n",
       "      <td>237</td>\n",
       "      <td>128</td>\n",
       "      <td>286</td>\n",
       "      <td>252</td>\n",
       "      <td>0</td>\n",
       "    </tr>\n",
       "  </tbody>\n",
       "</table>\n",
       "<p>5 rows × 96 columns</p>\n",
       "</div>"
      ],
      "text/plain": [
       "states                       2020-07-01  2020-07-02  2020-07-03  2020-07-04  \\\n",
       "state                                                                         \n",
       "Tripura                               0          39          93          25   \n",
       "Andaman and Nicobar Islands           0           9           7           3   \n",
       "Puducherry                            0          63          22          80   \n",
       "Maharashtra                           0        6328        6364        7074   \n",
       "Manipur                               0          19          37           9   \n",
       "\n",
       "states                       2020-07-05  2020-07-06  2020-07-07  2020-07-08  \\\n",
       "state                                                                         \n",
       "Tripura                              23         111          24          57   \n",
       "Andaman and Nicobar Islands           6          16           6           2   \n",
       "Puducherry                           42          65          30         110   \n",
       "Maharashtra                        6555        5368        5134        6603   \n",
       "Manipur                              41          24          40           5   \n",
       "\n",
       "states                       2020-07-09  2020-07-10  ...  2020-09-25  \\\n",
       "state                                                ...               \n",
       "Tripura                              16         142  ...         341   \n",
       "Andaman and Nicobar Islands           7           0  ...          15   \n",
       "Puducherry                           49          72  ...         594   \n",
       "Maharashtra                        6875        7862  ...       17794   \n",
       "Manipur                              15         132  ...         254   \n",
       "\n",
       "states                       2020-09-26  2020-09-27  2020-09-28  2020-09-29  \\\n",
       "state                                                                         \n",
       "Tripura                             278         320         193         432   \n",
       "Andaman and Nicobar Islands          15          20           9          18   \n",
       "Puducherry                          543         368         285         381   \n",
       "Maharashtra                       20419       18056       11921       14976   \n",
       "Manipur                             260         248         178         269   \n",
       "\n",
       "states                       2020-09-30  2020-10-01  2020-10-02  2020-10-03  \\\n",
       "state                                                                         \n",
       "Tripura                             381         332         296         190   \n",
       "Andaman and Nicobar Islands          14          13          10          10   \n",
       "Puducherry                          478         480         510         218   \n",
       "Maharashtra                       18317       16476       15591       14348   \n",
       "Manipur                             237         128         286         252   \n",
       "\n",
       "states                       2020-10-04  \n",
       "state                                    \n",
       "Tripura                             322  \n",
       "Andaman and Nicobar Islands           0  \n",
       "Puducherry                            0  \n",
       "Maharashtra                           0  \n",
       "Manipur                               0  \n",
       "\n",
       "[5 rows x 96 columns]"
      ]
     },
     "execution_count": 18,
     "metadata": {},
     "output_type": "execute_result"
    }
   ],
   "source": [
    "#hide\n",
    "dft_ct_new_cases.head()"
   ]
  },
  {
   "cell_type": "code",
   "execution_count": 19,
   "metadata": {
    "execution": {
     "iopub.execute_input": "2020-10-04T06:40:34.120880Z",
     "iopub.status.busy": "2020-10-04T06:40:34.120138Z",
     "iopub.status.idle": "2020-10-04T06:40:38.546809Z",
     "shell.execute_reply": "2020-10-04T06:40:38.547244Z"
    },
    "papermill": {
     "duration": 4.44733,
     "end_time": "2020-10-04T06:40:38.547385",
     "exception": false,
     "start_time": "2020-10-04T06:40:34.100055",
     "status": "completed"
    },
    "tags": []
   },
   "outputs": [
    {
     "data": {
      "image/png": "[encoded data removed]",
      "text/plain": [
       "<Figure size 1296x2016 with 11 Axes>"
      ]
     },
     "metadata": {
      "needs_background": "light"
     },
     "output_type": "display_data"
    }
   ],
   "source": [
    "#hide_input\n",
    "df = dft_ct_new_cases.copy()\n",
    "df.loc['Total'] = df.sum()\n",
    "n = 5\n",
    "ax = []\n",
    "fig = plt.figure(figsize = (18,28))\n",
    "gs = fig.add_gridspec(n+2, 5)\n",
    "# gs = fig.add_gridspec(2, 3)\n",
    "ax1 = fig.add_subplot(gs[0, :])\n",
    "ef = df.loc['Total'].rename_axis('date').reset_index()\n",
    "ef['date'] = ef['date'].astype('datetime64[ns]')\n",
    "ax1.bar(ef.date,ef.Total,alpha=0.3,color='#007acc')\n",
    "ax1.plot(ef.date,ef.Total , marker=\"o\", color='#007acc')\n",
    "ax1.xaxis.set_major_locator(mdates.WeekdayLocator())\n",
    "ax1.xaxis.set_major_formatter(mdates.DateFormatter('%b %d'))\n",
    "ax1.text(0.02, 0.5,'India daily case count', transform = ax1.transAxes, fontsize=25);\n",
    "ax1.spines['right'].set_visible(False)\n",
    "ax1.spines['top'].set_visible(False)\n",
    "\n",
    "ax2 = fig.add_subplot(gs[1,0])\n",
    "ef = df.loc['Maharashtra'].rename_axis('date').reset_index()\n",
    "ef['date'] = ef['date'].astype('datetime64[ns]')\n",
    "\n",
    "ax2.bar(ef.date, ef.Maharashtra,color = '#007acc',alpha=0.5)\n",
    "ax2.xaxis.set_major_locator(mdates.WeekdayLocator())\n",
    "ax2.xaxis.set_major_formatter(mdates.DateFormatter('%b %d'))\n",
    "ax2.set_xticks(ax2.get_xticks()[::3])\n",
    "maxyval = ef.Maharashtra.max()\n",
    "ax2.set_ylim([0,maxyval])\n",
    "ax2.text(0.05, 0.9,'Maharashtra', transform = ax2.transAxes, fontsize=20);\n",
    "ax2.spines['right'].set_visible(False)\n",
    "ax2.spines['top'].set_visible(False)\n",
    "\n",
    "\n",
    "ax3 = fig.add_subplot(gs[1,1])\n",
    "ef = df.loc['Tamil Nadu'].rename_axis('date').reset_index()\n",
    "ef['date'] = ef['date'].astype('datetime64[ns]')\n",
    "ax3.bar(ef.date, ef['Tamil Nadu'],color = '#007acc',alpha=0.5,)\n",
    "ax3.xaxis.set_major_locator(mdates.WeekdayLocator())\n",
    "ax3.xaxis.set_major_formatter(mdates.DateFormatter('%b %d'))\n",
    "ax3.set_xticks(ax3.get_xticks()[::3])\n",
    "ax3.text(0.05, 0.9,'Tamil Nadu', transform = ax3.transAxes, fontsize=20);\n",
    "ax3.spines['right'].set_visible(False)\n",
    "ax3.spines['top'].set_visible(False)\n",
    "\n",
    "ax5 = fig.add_subplot(gs[1,3])\n",
    "ef = df.loc['Telangana'].rename_axis('date').reset_index()\n",
    "ef['date'] = ef['date'].astype('datetime64[ns]')\n",
    "ax5.bar(ef.date, ef['Telangana'],color = '#007acc',alpha=0.5,)\n",
    "ax5.xaxis.set_major_locator(mdates.WeekdayLocator())\n",
    "ax5.xaxis.set_major_formatter(mdates.DateFormatter('%b %d'))\n",
    "ax5.set_xticks(ax5.get_xticks()[::3])\n",
    "ax5.text(0.05, 0.9,'Telangana', transform = ax5.transAxes, fontsize=20);\n",
    "ax5.spines['right'].set_visible(False)\n",
    "ax5.spines['top'].set_visible(False)\n",
    "\n",
    "ax6 = fig.add_subplot(gs[1,4])\n",
    "ef = df.loc['Andhra Pradesh'].rename_axis('date').reset_index()\n",
    "ef['date'] = ef['date'].astype('datetime64[ns]')\n",
    "ax6.bar(ef.date, ef['Andhra Pradesh'],color = '#007acc',alpha=0.5,)\n",
    "ax6.xaxis.set_major_locator(mdates.WeekdayLocator())\n",
    "ax6.xaxis.set_major_formatter(mdates.DateFormatter('%b %d'))\n",
    "ax6.set_xticks(ax6.get_xticks()[::3])\n",
    "ax6.text(0.05, 1,'Andhra Pradesh', transform = ax6.transAxes, fontsize=20);\n",
    "ax6.spines['right'].set_visible(False)\n",
    "ax6.spines['top'].set_visible(False)\n",
    "\n",
    "ax4 = fig.add_subplot(gs[1,2])\n",
    "ef = df.loc['Delhi'].rename_axis('date').reset_index()\n",
    "ef['date'] = ef['date'].astype('datetime64[ns]')\n",
    "ax4.bar(ef.date, ef.Delhi,color = '#007acc',alpha=0.5)\n",
    "ax4.set_xticks([])\n",
    "ax4.xaxis.set_major_locator(mdates.WeekdayLocator())\n",
    "ax4.xaxis.set_major_formatter(mdates.DateFormatter('%b %d'))\n",
    "ax4.set_xticks(ax4.get_xticks()[::3])\n",
    "ax4.spines['right'].set_visible(False)\n",
    "ax4.spines['top'].set_visible(False)\n",
    "\n",
    "ax4.text(0.05, 1,'Delhi', transform = ax4.transAxes, fontsize=20)\n",
    "\n",
    "for i in range(n):\n",
    "    \n",
    "    ax.append(fig.add_subplot(gs[i+2,:]))\n",
    "    ef = df.iloc[i+3].rename_axis('date').reset_index()\n",
    "    ef['date'] = ef['date'].astype('datetime64[ns]')\n",
    "    ax[i].bar(ef.date,ef.iloc[:,-1],color = '#007acc',alpha=0.3)\n",
    "    ax[i].plot(ef.date,ef.iloc[:,-1],marker='o',color='#007acc')\n",
    "    ax[i].text(0.02,0.5,f'{ef.columns.values[-1]}',transform = ax[i].transAxes, fontsize = 20);\n",
    "    ax[i].xaxis.set_major_locator(mdates.WeekdayLocator())\n",
    "    ax[i].xaxis.set_major_formatter(mdates.DateFormatter('%b %d'))\n",
    "    ax[i].set_ylim([0,7000])\n",
    "    ax[i].spines['right'].set_visible(False)\n",
    "    ax[i].spines['top'].set_visible(False)\n",
    "plt.tight_layout()\n"
   ]
  },
  {
   "cell_type": "code",
   "execution_count": 20,
   "metadata": {
    "execution": {
     "iopub.execute_input": "2020-10-04T06:40:38.604429Z",
     "iopub.status.busy": "2020-10-04T06:40:38.603488Z",
     "iopub.status.idle": "2020-10-04T06:40:38.605853Z",
     "shell.execute_reply": "2020-10-04T06:40:38.606375Z"
    },
    "papermill": {
     "duration": 0.035122,
     "end_time": "2020-10-04T06:40:38.606539",
     "exception": false,
     "start_time": "2020-10-04T06:40:38.571417",
     "status": "completed"
    },
    "tags": []
   },
   "outputs": [
    {
     "name": "stdout",
     "output_type": "stream",
     "text": [
      "                                   states    Cases  Deaths   PCases  PDeaths  Cases (+)  Deaths (+)  Fatality Rate\n",
      "                              Maharashtra  1430861   37758  1430861    37758          0           0           2.64\n",
      "                           Andhra Pradesh   713014    5941   713014     5941          0           0           0.83\n",
      "                                Karnataka   630516    9219   630516     9219          0           0           1.46\n",
      "                               Tamil Nadu   614507    9718   614507     9718          0           0           1.58\n",
      "                            Uttar Pradesh   410626    5977   410626     5977          0           0           1.46\n",
      "                                    Delhi   287930    5472   287930     5472          0           0           1.90\n",
      "                              West Bengal   266974    5132   266974     5132          0           0           1.92\n",
      "                                   Odisha   229387     945   229387      945          0           0           0.41\n",
      "                                   Kerala   221334     814   221334      814          0           0           0.37\n",
      "                                Telangana   197327    1153   197327     1153          0           0           0.58\n",
      "                                    Bihar   186690     912   186690      912          0           0           0.49\n",
      "                                    Assam   185444     735   185444      735          0           0           0.40\n",
      "                                Rajasthan   141846    1530   141846     1530          0           0           1.08\n",
      "                                  Gujarat   141397    3490   141397     3490          0           0           2.47\n",
      "                           Madhya Pradesh   133918    2399   133918     2399          0           0           1.79\n",
      "                                  Haryana   132576    1450   132576     1450          0           0           1.09\n",
      "                             Chhattisgarh   121400    1031   121400     1031          0           0           0.85\n",
      "                                   Punjab   117319    3562   117319     3562          0           0           3.04\n",
      "                                Jharkhand    86277     734    86277      734          0           0           0.85\n",
      "                        Jammu and Kashmir    78228    1231    78228     1231          0           0           1.57\n",
      "                              Uttarakhand    50062     648    50062      648          0           0           1.29\n",
      "                                      Goa    34900     450    34900      450          0           0           1.29\n",
      "                               Puducherry    28752     534    28752      534          0           0           1.86\n",
      "                                  Tripura    26871     290    26549      286        322           4           1.08\n",
      "                         Himachal Pradesh    15695     205    15695      205          0           0           1.31\n",
      "                               Chandigarh    12360     172    12360      172          0           0           1.39\n",
      "                                  Manipur    11649      71    11649       71          0           0           0.61\n",
      "                        Arunachal Pradesh    10421      18    10421       18          0           0           0.17\n",
      "                                Meghalaya     6456      54     6456       54          0           0           0.84\n",
      "                                 Nagaland     6429      12     6429       12          0           0           0.19\n",
      "                                   Ladakh     4477      61     4477       61          0           0           1.36\n",
      "              Andaman and Nicobar Islands     3868      53     3868       53          0           0           1.37\n",
      " Dadra and Nagar Haveli and Daman and Diu     3071       2     3071        2          0           0           0.07\n",
      "                                   Sikkim     3050      43     3050       43          0           0           1.41\n",
      "                                  Mizoram     2103       0     2103        0          0           0           0.00\n",
      "                              Lakshadweep        0       0        0        0          0           0            NaN\n"
     ]
    }
   ],
   "source": [
    "#hide_input\n",
    "print(df_table.to_string(index=False))"
   ]
  },
  {
   "cell_type": "code",
   "execution_count": null,
   "metadata": {
    "papermill": {
     "duration": 0.019772,
     "end_time": "2020-10-04T06:40:38.646777",
     "exception": false,
     "start_time": "2020-10-04T06:40:38.627005",
     "status": "completed"
    },
    "tags": []
   },
   "outputs": [],
   "source": []
  },
  {
   "cell_type": "code",
   "execution_count": null,
   "metadata": {
    "papermill": {
     "duration": 0.017947,
     "end_time": "2020-10-04T06:40:38.683314",
     "exception": false,
     "start_time": "2020-10-04T06:40:38.665367",
     "status": "completed"
    },
    "tags": []
   },
   "outputs": [],
   "source": []
  }
 ],
 "metadata": {
  "kernelspec": {
   "display_name": "Python 3",
   "language": "python",
   "name": "python3"
  },
  "language_info": {
   "codemirror_mode": {
    "name": "ipython",
    "version": 3
   },
   "file_extension": ".py",
   "mimetype": "text/x-python",
   "name": "python",
   "nbconvert_exporter": "python",
   "pygments_lexer": "ipython3",
   "version": "3.6.12"
  },
  "papermill": {
   "duration": 10.796815,
   "end_time": "2020-10-04T06:40:39.113038",
   "environment_variables": {},
   "exception": null,
   "input_path": "latest.ipynb",
   "output_path": "latest.ipynb",
   "parameters": {},
   "start_time": "2020-10-04T06:40:28.316223",
   "version": "2.1.2"
  }
 },
 "nbformat": 4,
 "nbformat_minor": 4
}