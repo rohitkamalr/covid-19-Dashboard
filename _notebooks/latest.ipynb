{
 "cells": [
  {
   "cell_type": "markdown",
   "id": "colored-stack",
   "metadata": {
    "papermill": {
     "duration": 0.023231,
     "end_time": "2021-03-18T10:49:40.633637",
     "exception": false,
     "start_time": "2021-03-18T10:49:40.610406",
     "status": "completed"
    },
    "tags": []
   },
   "source": [
    "# Latest COVID-19 India Matplotlib Overview"
   ]
  },
  {
   "cell_type": "code",
   "execution_count": 1,
   "id": "light-proportion",
   "metadata": {
    "execution": {
     "iopub.execute_input": "2021-03-18T10:49:40.684691Z",
     "iopub.status.busy": "2021-03-18T10:49:40.683985Z",
     "iopub.status.idle": "2021-03-18T10:49:41.327513Z",
     "shell.execute_reply": "2021-03-18T10:49:41.328031Z"
    },
    "papermill": {
     "duration": 0.675888,
     "end_time": "2021-03-18T10:49:41.328249",
     "exception": false,
     "start_time": "2021-03-18T10:49:40.652361",
     "status": "completed"
    },
    "tags": []
   },
   "outputs": [],
   "source": [
    "#hide\n",
    "import pandas as pd\n",
    "import numpy as np\n",
    "import requests\n",
    "import json\n",
    "import matplotlib.pyplot as plt\n",
    "import matplotlib.dates as mdates\n",
    "import matplotlib as mpl\n",
    "from IPython.core.display import display,HTML\n",
    "%matplotlib inline\n",
    "from datetime import date"
   ]
  },
  {
   "cell_type": "code",
   "execution_count": 2,
   "id": "greenhouse-shooting",
   "metadata": {
    "execution": {
     "iopub.execute_input": "2021-03-18T10:49:41.375568Z",
     "iopub.status.busy": "2021-03-18T10:49:41.374750Z",
     "iopub.status.idle": "2021-03-18T10:49:41.556913Z",
     "shell.execute_reply": "2021-03-18T10:49:41.556175Z"
    },
    "papermill": {
     "duration": 0.208651,
     "end_time": "2021-03-18T10:49:41.557050",
     "exception": false,
     "start_time": "2021-03-18T10:49:41.348399",
     "status": "completed"
    },
    "tags": []
   },
   "outputs": [],
   "source": [
    "#hide\n",
    "df  = pd.read_csv('https://api.covid19india.org/csv/latest/states.csv')\n",
    "df = df[['Date','State','Confirmed','Deceased']]\n",
    "df = df.rename(columns={'Confirmed':'Cases', \"Deceased\":'Deaths'})\n",
    "df_cases = df[[\"Date\",'State','Cases']]\n",
    "df_deaths = df[['Date','State','Deaths']]\n",
    "df_cases1 = df_cases.groupby('Date')\n",
    "df_deaths1= df_deaths.groupby('Date')"
   ]
  },
  {
   "cell_type": "code",
   "execution_count": 3,
   "id": "hybrid-cathedral",
   "metadata": {
    "execution": {
     "iopub.execute_input": "2021-03-18T10:49:41.602979Z",
     "iopub.status.busy": "2021-03-18T10:49:41.602230Z",
     "iopub.status.idle": "2021-03-18T10:49:41.621807Z",
     "shell.execute_reply": "2021-03-18T10:49:41.622280Z"
    },
    "papermill": {
     "duration": 0.045972,
     "end_time": "2021-03-18T10:49:41.622426",
     "exception": false,
     "start_time": "2021-03-18T10:49:41.576454",
     "status": "completed"
    },
    "tags": []
   },
   "outputs": [],
   "source": [
    "#hide\n",
    "df_snap = pd.read_csv('data/SnapshotCases-28-July.csv')\n",
    "arr_states = df_snap['states'].unique()\n",
    "arr_dates = df['Date'].unique()\n",
    "df_snap = df_snap.set_index('states')"
   ]
  },
  {
   "cell_type": "code",
   "execution_count": 4,
   "id": "interior-belfast",
   "metadata": {
    "execution": {
     "iopub.execute_input": "2021-03-18T10:49:41.666104Z",
     "iopub.status.busy": "2021-03-18T10:49:41.665523Z",
     "iopub.status.idle": "2021-03-18T10:49:41.668999Z",
     "shell.execute_reply": "2021-03-18T10:49:41.668493Z"
    },
    "papermill": {
     "duration": 0.028774,
     "end_time": "2021-03-18T10:49:41.669105",
     "exception": false,
     "start_time": "2021-03-18T10:49:41.640331",
     "status": "completed"
    },
    "tags": []
   },
   "outputs": [
    {
     "data": {
      "text/plain": [
       "array(['Andaman and Nicobar Islands', 'Andhra Pradesh',\n",
       "       'Arunachal Pradesh', 'Assam', 'Bihar', 'Chandigarh',\n",
       "       'Dadra and Nagar Haveli and Daman and Diu', 'Delhi', 'Goa',\n",
       "       'Gujarat', 'Haryana', 'Himachal Pradesh', 'Jammu and Kashmir',\n",
       "       'Jharkhand', 'Karnataka', 'Kerala', 'Lakshadweep',\n",
       "       'Madhya Pradesh', 'Maharashtra', 'Manipur', 'Meghalaya', 'Mizoram',\n",
       "       'Nagaland', 'Odisha', 'Puducherry', 'Punjab', 'Rajasthan',\n",
       "       'Sikkim', 'Tamil Nadu', 'Telangana', 'Tripura', 'Uttar Pradesh',\n",
       "       'West Bengal', 'Chhattisgarh', 'Ladakh', 'Uttarakhand'],\n",
       "      dtype=object)"
      ]
     },
     "execution_count": 4,
     "metadata": {},
     "output_type": "execute_result"
    }
   ],
   "source": [
    "#hide\n",
    "arr_states[-9] = 'Puducherry'\n",
    "arr_states[-10] = 'Odisha'\n",
    "arr_states[6] = 'Dadra and Nagar Haveli and Daman and Diu'\n",
    "arr_states = np.append(arr_states,np.array(['Chhattisgarh','Ladakh','Uttarakhand']))\n",
    "arr_states"
   ]
  },
  {
   "cell_type": "code",
   "execution_count": 5,
   "id": "behind-manner",
   "metadata": {
    "execution": {
     "iopub.execute_input": "2021-03-18T10:49:41.722385Z",
     "iopub.status.busy": "2021-03-18T10:49:41.721672Z",
     "iopub.status.idle": "2021-03-18T10:49:41.731895Z",
     "shell.execute_reply": "2021-03-18T10:49:41.731046Z"
    },
    "papermill": {
     "duration": 0.043187,
     "end_time": "2021-03-18T10:49:41.732045",
     "exception": false,
     "start_time": "2021-03-18T10:49:41.688858",
     "status": "completed"
    },
    "tags": []
   },
   "outputs": [],
   "source": [
    "#hide\n",
    "dates = []\n",
    "for i in arr_dates:\n",
    "    if i>='2020-07-01':\n",
    "        dates.append(i)\n",
    "dict = {'states':dates}\n",
    "for i in arr_states:\n",
    "    dict[i] = [0]*len(dates)\n",
    "dft_cases = pd.DataFrame(dict)\n",
    "dft_deaths = pd.DataFrame(dict)\n"
   ]
  },
  {
   "cell_type": "code",
   "execution_count": 6,
   "id": "simplified-peter",
   "metadata": {
    "execution": {
     "iopub.execute_input": "2021-03-18T10:49:41.774763Z",
     "iopub.status.busy": "2021-03-18T10:49:41.774106Z",
     "iopub.status.idle": "2021-03-18T10:49:46.775106Z",
     "shell.execute_reply": "2021-03-18T10:49:46.774235Z"
    },
    "papermill": {
     "duration": 5.025527,
     "end_time": "2021-03-18T10:49:46.775244",
     "exception": false,
     "start_time": "2021-03-18T10:49:41.749717",
     "status": "completed"
    },
    "tags": []
   },
   "outputs": [],
   "source": [
    "#hide\n",
    "for i in range(len(dates)):\n",
    "    df1_deaths = df_deaths1.get_group(dates[i])\n",
    "    for j in range(len(df1_deaths.index)):\n",
    "        if df1_deaths.iloc[j,1] in arr_states:\n",
    "            dft_deaths.loc[i,df1_deaths.iloc[j,1]] = df1_deaths.iloc[j,2]\n",
    "dft_deaths = dft_deaths.set_index('states')"
   ]
  },
  {
   "cell_type": "code",
   "execution_count": 7,
   "id": "geological-welding",
   "metadata": {
    "execution": {
     "iopub.execute_input": "2021-03-18T10:49:46.819719Z",
     "iopub.status.busy": "2021-03-18T10:49:46.819086Z",
     "iopub.status.idle": "2021-03-18T10:49:51.754722Z",
     "shell.execute_reply": "2021-03-18T10:49:51.753820Z"
    },
    "papermill": {
     "duration": 4.960743,
     "end_time": "2021-03-18T10:49:51.754874",
     "exception": false,
     "start_time": "2021-03-18T10:49:46.794131",
     "status": "completed"
    },
    "tags": []
   },
   "outputs": [],
   "source": [
    "#hide\n",
    "for i in range(len(dates)):\n",
    "    df1_cases = df_cases1.get_group(dates[i])\n",
    "    for j in range(len(df1_cases.index)):\n",
    "        if df1_cases.iloc[j,1] in arr_states:\n",
    "            dft_cases.loc[i,df1_cases.iloc[j,1]] = df1_cases.iloc[j,2]\n",
    "dft_cases = dft_cases.set_index('states')"
   ]
  },
  {
   "cell_type": "code",
   "execution_count": 8,
   "id": "binary-ratio",
   "metadata": {
    "execution": {
     "iopub.execute_input": "2021-03-18T10:49:51.799260Z",
     "iopub.status.busy": "2021-03-18T10:49:51.798578Z",
     "iopub.status.idle": "2021-03-18T10:49:51.800366Z",
     "shell.execute_reply": "2021-03-18T10:49:51.800913Z"
    },
    "papermill": {
     "duration": 0.027112,
     "end_time": "2021-03-18T10:49:51.801056",
     "exception": false,
     "start_time": "2021-03-18T10:49:51.773944",
     "status": "completed"
    },
    "tags": []
   },
   "outputs": [],
   "source": [
    "#hide\n",
    "dft_cases = dft_cases.T\n",
    "dft_deaths = dft_deaths.T\n",
    "dt_today = dates[-1]\n",
    "dt_yday = dates[-2]"
   ]
  },
  {
   "cell_type": "code",
   "execution_count": 9,
   "id": "boolean-calculator",
   "metadata": {
    "execution": {
     "iopub.execute_input": "2021-03-18T10:49:51.853887Z",
     "iopub.status.busy": "2021-03-18T10:49:51.853245Z",
     "iopub.status.idle": "2021-03-18T10:49:51.857254Z",
     "shell.execute_reply": "2021-03-18T10:49:51.857821Z"
    },
    "papermill": {
     "duration": 0.037895,
     "end_time": "2021-03-18T10:49:51.857957",
     "exception": false,
     "start_time": "2021-03-18T10:49:51.820062",
     "status": "completed"
    },
    "tags": []
   },
   "outputs": [],
   "source": [
    "#hide\n",
    "dft_cases = dft_cases.reset_index()\n",
    "dft_deaths = dft_deaths.reset_index()\n",
    "dft_cases = dft_cases.rename(columns = {'index':'state'})\n",
    "dft_deaths = dft_deaths.rename(columns = {'index':'state'})"
   ]
  },
  {
   "cell_type": "code",
   "execution_count": 10,
   "id": "invisible-johnston",
   "metadata": {
    "execution": {
     "iopub.execute_input": "2021-03-18T10:49:51.909394Z",
     "iopub.status.busy": "2021-03-18T10:49:51.908503Z",
     "iopub.status.idle": "2021-03-18T10:49:51.911118Z",
     "shell.execute_reply": "2021-03-18T10:49:51.910418Z"
    },
    "papermill": {
     "duration": 0.033759,
     "end_time": "2021-03-18T10:49:51.911234",
     "exception": false,
     "start_time": "2021-03-18T10:49:51.877475",
     "status": "completed"
    },
    "tags": []
   },
   "outputs": [],
   "source": [
    "#hide\n",
    "dfc_cases = dft_cases.groupby('state')[dt_today].sum()\n",
    "dfc_deaths = dft_deaths.groupby('state')[dt_today].sum()\n",
    "dfp_cases = dft_cases.groupby('state')[dt_yday].sum()\n",
    "dfp_deaths = dft_deaths.groupby('state')[dt_yday].sum()"
   ]
  },
  {
   "cell_type": "code",
   "execution_count": 11,
   "id": "measured-great",
   "metadata": {
    "execution": {
     "iopub.execute_input": "2021-03-18T10:49:51.956854Z",
     "iopub.status.busy": "2021-03-18T10:49:51.956141Z",
     "iopub.status.idle": "2021-03-18T10:49:51.973939Z",
     "shell.execute_reply": "2021-03-18T10:49:51.974442Z"
    },
    "papermill": {
     "duration": 0.04391,
     "end_time": "2021-03-18T10:49:51.974590",
     "exception": false,
     "start_time": "2021-03-18T10:49:51.930680",
     "status": "completed"
    },
    "tags": []
   },
   "outputs": [
    {
     "data": {
      "text/html": [
       "<div>\n",
       "<style scoped>\n",
       "    .dataframe tbody tr th:only-of-type {\n",
       "        vertical-align: middle;\n",
       "    }\n",
       "\n",
       "    .dataframe tbody tr th {\n",
       "        vertical-align: top;\n",
       "    }\n",
       "\n",
       "    .dataframe thead th {\n",
       "        text-align: right;\n",
       "    }\n",
       "</style>\n",
       "<table border=\"1\" class=\"dataframe\">\n",
       "  <thead>\n",
       "    <tr style=\"text-align: right;\">\n",
       "      <th></th>\n",
       "      <th>states</th>\n",
       "      <th>Cases</th>\n",
       "      <th>Deaths</th>\n",
       "      <th>PCases</th>\n",
       "      <th>PDeaths</th>\n",
       "    </tr>\n",
       "  </thead>\n",
       "  <tbody>\n",
       "    <tr>\n",
       "      <th>0</th>\n",
       "      <td>Maharashtra</td>\n",
       "      <td>2370507</td>\n",
       "      <td>53080</td>\n",
       "      <td>2370507</td>\n",
       "      <td>53080</td>\n",
       "    </tr>\n",
       "    <tr>\n",
       "      <th>1</th>\n",
       "      <td>Kerala</td>\n",
       "      <td>1096393</td>\n",
       "      <td>4436</td>\n",
       "      <td>1096393</td>\n",
       "      <td>4436</td>\n",
       "    </tr>\n",
       "    <tr>\n",
       "      <th>2</th>\n",
       "      <td>Karnataka</td>\n",
       "      <td>963614</td>\n",
       "      <td>12407</td>\n",
       "      <td>963614</td>\n",
       "      <td>12407</td>\n",
       "    </tr>\n",
       "    <tr>\n",
       "      <th>3</th>\n",
       "      <td>Andhra Pradesh</td>\n",
       "      <td>892522</td>\n",
       "      <td>7186</td>\n",
       "      <td>892522</td>\n",
       "      <td>7186</td>\n",
       "    </tr>\n",
       "    <tr>\n",
       "      <th>4</th>\n",
       "      <td>Tamil Nadu</td>\n",
       "      <td>862374</td>\n",
       "      <td>12564</td>\n",
       "      <td>862374</td>\n",
       "      <td>12564</td>\n",
       "    </tr>\n",
       "  </tbody>\n",
       "</table>\n",
       "</div>"
      ],
      "text/plain": [
       "           states    Cases  Deaths   PCases  PDeaths\n",
       "0     Maharashtra  2370507   53080  2370507    53080\n",
       "1          Kerala  1096393    4436  1096393     4436\n",
       "2       Karnataka   963614   12407   963614    12407\n",
       "3  Andhra Pradesh   892522    7186   892522     7186\n",
       "4      Tamil Nadu   862374   12564   862374    12564"
      ]
     },
     "execution_count": 11,
     "metadata": {},
     "output_type": "execute_result"
    }
   ],
   "source": [
    "#hide\n",
    "df_table = pd.DataFrame({'states': dfc_cases.index, 'Cases': dfc_cases.values, 'Deaths': dfc_deaths.values, 'PCases': dfp_cases.values, 'PDeaths': dfp_deaths.values}).set_index('states')\n",
    "df_table = df_table.sort_values(by = ['Cases','Deaths'], ascending = [False, False])\n",
    "df_table = df_table.reset_index()\n",
    "df_table.head()"
   ]
  },
  {
   "cell_type": "code",
   "execution_count": 12,
   "id": "found-montreal",
   "metadata": {
    "execution": {
     "iopub.execute_input": "2021-03-18T10:49:52.019770Z",
     "iopub.status.busy": "2021-03-18T10:49:52.019202Z",
     "iopub.status.idle": "2021-03-18T10:49:52.028797Z",
     "shell.execute_reply": "2021-03-18T10:49:52.028233Z"
    },
    "papermill": {
     "duration": 0.033627,
     "end_time": "2021-03-18T10:49:52.028944",
     "exception": false,
     "start_time": "2021-03-18T10:49:51.995317",
     "status": "completed"
    },
    "tags": []
   },
   "outputs": [],
   "source": [
    "#hide\n",
    "for c in 'Cases, Deaths'.split(', '):\n",
    "    df_table[f'{c} (+)'] = (df_table[c] - df_table[f'P{c}']).clip(0)\n",
    "df_table['Fatality Rate'] = (100* df_table['Deaths']/ df_table['Cases']).round(2)"
   ]
  },
  {
   "cell_type": "code",
   "execution_count": 13,
   "id": "minus-savage",
   "metadata": {
    "execution": {
     "iopub.execute_input": "2021-03-18T10:49:52.079626Z",
     "iopub.status.busy": "2021-03-18T10:49:52.078984Z",
     "iopub.status.idle": "2021-03-18T10:49:52.082302Z",
     "shell.execute_reply": "2021-03-18T10:49:52.081678Z"
    },
    "papermill": {
     "duration": 0.034886,
     "end_time": "2021-03-18T10:49:52.082437",
     "exception": false,
     "start_time": "2021-03-18T10:49:52.047551",
     "status": "completed"
    },
    "tags": []
   },
   "outputs": [
    {
     "data": {
      "text/html": [
       "<div>\n",
       "<style scoped>\n",
       "    .dataframe tbody tr th:only-of-type {\n",
       "        vertical-align: middle;\n",
       "    }\n",
       "\n",
       "    .dataframe tbody tr th {\n",
       "        vertical-align: top;\n",
       "    }\n",
       "\n",
       "    .dataframe thead th {\n",
       "        text-align: right;\n",
       "    }\n",
       "</style>\n",
       "<table border=\"1\" class=\"dataframe\">\n",
       "  <thead>\n",
       "    <tr style=\"text-align: right;\">\n",
       "      <th></th>\n",
       "      <th>states</th>\n",
       "      <th>Cases</th>\n",
       "      <th>Deaths</th>\n",
       "      <th>PCases</th>\n",
       "      <th>PDeaths</th>\n",
       "      <th>Cases (+)</th>\n",
       "      <th>Deaths (+)</th>\n",
       "      <th>Fatality Rate</th>\n",
       "    </tr>\n",
       "  </thead>\n",
       "  <tbody>\n",
       "    <tr>\n",
       "      <th>0</th>\n",
       "      <td>Maharashtra</td>\n",
       "      <td>2370507</td>\n",
       "      <td>53080</td>\n",
       "      <td>2370507</td>\n",
       "      <td>53080</td>\n",
       "      <td>0</td>\n",
       "      <td>0</td>\n",
       "      <td>2.24</td>\n",
       "    </tr>\n",
       "    <tr>\n",
       "      <th>1</th>\n",
       "      <td>Kerala</td>\n",
       "      <td>1096393</td>\n",
       "      <td>4436</td>\n",
       "      <td>1096393</td>\n",
       "      <td>4436</td>\n",
       "      <td>0</td>\n",
       "      <td>0</td>\n",
       "      <td>0.40</td>\n",
       "    </tr>\n",
       "    <tr>\n",
       "      <th>2</th>\n",
       "      <td>Karnataka</td>\n",
       "      <td>963614</td>\n",
       "      <td>12407</td>\n",
       "      <td>963614</td>\n",
       "      <td>12407</td>\n",
       "      <td>0</td>\n",
       "      <td>0</td>\n",
       "      <td>1.29</td>\n",
       "    </tr>\n",
       "    <tr>\n",
       "      <th>3</th>\n",
       "      <td>Andhra Pradesh</td>\n",
       "      <td>892522</td>\n",
       "      <td>7186</td>\n",
       "      <td>892522</td>\n",
       "      <td>7186</td>\n",
       "      <td>0</td>\n",
       "      <td>0</td>\n",
       "      <td>0.81</td>\n",
       "    </tr>\n",
       "    <tr>\n",
       "      <th>4</th>\n",
       "      <td>Tamil Nadu</td>\n",
       "      <td>862374</td>\n",
       "      <td>12564</td>\n",
       "      <td>862374</td>\n",
       "      <td>12564</td>\n",
       "      <td>0</td>\n",
       "      <td>0</td>\n",
       "      <td>1.46</td>\n",
       "    </tr>\n",
       "  </tbody>\n",
       "</table>\n",
       "</div>"
      ],
      "text/plain": [
       "           states    Cases  Deaths   PCases  PDeaths  Cases (+)  Deaths (+)  \\\n",
       "0     Maharashtra  2370507   53080  2370507    53080          0           0   \n",
       "1          Kerala  1096393    4436  1096393     4436          0           0   \n",
       "2       Karnataka   963614   12407   963614    12407          0           0   \n",
       "3  Andhra Pradesh   892522    7186   892522     7186          0           0   \n",
       "4      Tamil Nadu   862374   12564   862374    12564          0           0   \n",
       "\n",
       "   Fatality Rate  \n",
       "0           2.24  \n",
       "1           0.40  \n",
       "2           1.29  \n",
       "3           0.81  \n",
       "4           1.46  "
      ]
     },
     "execution_count": 13,
     "metadata": {},
     "output_type": "execute_result"
    }
   ],
   "source": [
    "#hide\n",
    "df_table.head()"
   ]
  },
  {
   "cell_type": "code",
   "execution_count": 14,
   "id": "false-peter",
   "metadata": {
    "execution": {
     "iopub.execute_input": "2021-03-18T10:49:52.130006Z",
     "iopub.status.busy": "2021-03-18T10:49:52.129402Z",
     "iopub.status.idle": "2021-03-18T10:49:52.148165Z",
     "shell.execute_reply": "2021-03-18T10:49:52.147637Z"
    },
    "papermill": {
     "duration": 0.044119,
     "end_time": "2021-03-18T10:49:52.148277",
     "exception": false,
     "start_time": "2021-03-18T10:49:52.104158",
     "status": "completed"
    },
    "tags": []
   },
   "outputs": [
    {
     "data": {
      "text/plain": [
       "{'updated': '2021-03-18',\n",
       " 'since': '2021-03-17',\n",
       " 'Cases': 11474753,\n",
       " 'PCases': 11474302,\n",
       " 'Deaths': 159254,\n",
       " 'PDeaths': 159250,\n",
       " 'Cases (+)': 451,\n",
       " 'Deaths (+)': 4}"
      ]
     },
     "execution_count": 14,
     "metadata": {},
     "output_type": "execute_result"
    }
   ],
   "source": [
    "#hide\n",
    "summary = {'updated':dates[-1], 'since':dates[-2]}\n",
    "list_names = ['Cases', 'PCases', 'Deaths', 'PDeaths', 'Cases (+)', 'Deaths (+)']\n",
    "for name in list_names:\n",
    "    summary[name] = df_table.sum()[name]\n",
    "summary"
   ]
  },
  {
   "cell_type": "code",
   "execution_count": 15,
   "id": "packed-viewer",
   "metadata": {
    "execution": {
     "iopub.execute_input": "2021-03-18T10:49:52.195521Z",
     "iopub.status.busy": "2021-03-18T10:49:52.194837Z",
     "iopub.status.idle": "2021-03-18T10:49:52.197423Z",
     "shell.execute_reply": "2021-03-18T10:49:52.196773Z"
    },
    "papermill": {
     "duration": 0.029766,
     "end_time": "2021-03-18T10:49:52.197542",
     "exception": false,
     "start_time": "2021-03-18T10:49:52.167776",
     "status": "completed"
    },
    "tags": []
   },
   "outputs": [],
   "source": [
    "#hide\n",
    "overview = '''\n",
    "<!-- #######  HTML!! #########-->\n",
    "<h1 style=\"color: #5e9ca0; text-align: center;\">India</h1>\n",
    "<p style=\"text-align: center;\">Last update: <strong>{update}</strong></p>\n",
    "<p style=\"text-align: center;\">Confirmed cases:</p>\n",
    "<p style=\"text-align: center;font-size:24px;\">{cases} (<span style=\"color: #ff0000;\">+{new}</span>)</p>\n",
    "<p style=\"text-align: center;\">Confirmed deaths:</p>\n",
    "<p style=\"text-align: center;font-size:24px;\">{deaths} (<span style=\"color: #ff0000;\">+{dnew}</span>)</p>\n",
    "'''"
   ]
  },
  {
   "cell_type": "code",
   "execution_count": 16,
   "id": "phantom-lover",
   "metadata": {
    "execution": {
     "iopub.execute_input": "2021-03-18T10:49:52.245478Z",
     "iopub.status.busy": "2021-03-18T10:49:52.244869Z",
     "iopub.status.idle": "2021-03-18T10:49:52.248390Z",
     "shell.execute_reply": "2021-03-18T10:49:52.247859Z"
    },
    "papermill": {
     "duration": 0.02969,
     "end_time": "2021-03-18T10:49:52.248507",
     "exception": false,
     "start_time": "2021-03-18T10:49:52.218817",
     "status": "completed"
    },
    "tags": []
   },
   "outputs": [
    {
     "data": {
      "text/html": [
       "\n",
       "<!-- #######  HTML!! #########-->\n",
       "<h1 style=\"color: #5e9ca0; text-align: center;\">India</h1>\n",
       "<p style=\"text-align: center;\">Last update: <strong>2021-03-18</strong></p>\n",
       "<p style=\"text-align: center;\">Confirmed cases:</p>\n",
       "<p style=\"text-align: center;font-size:24px;\">11474753 (<span style=\"color: #ff0000;\">+451</span>)</p>\n",
       "<p style=\"text-align: center;\">Confirmed deaths:</p>\n",
       "<p style=\"text-align: center;font-size:24px;\">159254 (<span style=\"color: #ff0000;\">+4</span>)</p>\n"
      ],
      "text/plain": [
       "<IPython.core.display.HTML object>"
      ]
     },
     "metadata": {},
     "output_type": "display_data"
    }
   ],
   "source": [
    "#hide_input\n",
    "update = summary['updated']\n",
    "cases = summary['Cases']\n",
    "new = summary['Cases (+)']\n",
    "deaths = summary['Deaths']\n",
    "dnew = summary['Deaths (+)']\n",
    "\n",
    "html = HTML(overview.format(update=update, cases=cases,new=new,deaths=deaths,dnew=dnew))\n",
    "\n",
    "display(html)"
   ]
  },
  {
   "cell_type": "code",
   "execution_count": 17,
   "id": "sealed-reset",
   "metadata": {
    "execution": {
     "iopub.execute_input": "2021-03-18T10:49:52.296649Z",
     "iopub.status.busy": "2021-03-18T10:49:52.295898Z",
     "iopub.status.idle": "2021-03-18T10:49:52.304770Z",
     "shell.execute_reply": "2021-03-18T10:49:52.304225Z"
    },
    "papermill": {
     "duration": 0.036279,
     "end_time": "2021-03-18T10:49:52.304894",
     "exception": false,
     "start_time": "2021-03-18T10:49:52.268615",
     "status": "completed"
    },
    "tags": []
   },
   "outputs": [],
   "source": [
    "#hide\n",
    "dt_cols = list(dft_cases.columns[1:])\n",
    "dft_ct_new_cases = dft_cases.groupby('state')[dt_cols].sum().diff(axis=1).fillna(0).astype(int)\n",
    "dft_ct_new_cases.sort_values(by = dates[-1], ascending = False,inplace = True)"
   ]
  },
  {
   "cell_type": "code",
   "execution_count": 18,
   "id": "designed-constant",
   "metadata": {
    "execution": {
     "iopub.execute_input": "2021-03-18T10:49:52.366087Z",
     "iopub.status.busy": "2021-03-18T10:49:52.365183Z",
     "iopub.status.idle": "2021-03-18T10:49:52.368549Z",
     "shell.execute_reply": "2021-03-18T10:49:52.369120Z"
    },
    "papermill": {
     "duration": 0.044069,
     "end_time": "2021-03-18T10:49:52.369254",
     "exception": false,
     "start_time": "2021-03-18T10:49:52.325185",
     "status": "completed"
    },
    "tags": []
   },
   "outputs": [
    {
     "data": {
      "text/html": [
       "<div>\n",
       "<style scoped>\n",
       "    .dataframe tbody tr th:only-of-type {\n",
       "        vertical-align: middle;\n",
       "    }\n",
       "\n",
       "    .dataframe tbody tr th {\n",
       "        vertical-align: top;\n",
       "    }\n",
       "\n",
       "    .dataframe thead th {\n",
       "        text-align: right;\n",
       "    }\n",
       "</style>\n",
       "<table border=\"1\" class=\"dataframe\">\n",
       "  <thead>\n",
       "    <tr style=\"text-align: right;\">\n",
       "      <th>states</th>\n",
       "      <th>2020-07-01</th>\n",
       "      <th>2020-07-02</th>\n",
       "      <th>2020-07-03</th>\n",
       "      <th>2020-07-04</th>\n",
       "      <th>2020-07-05</th>\n",
       "      <th>2020-07-06</th>\n",
       "      <th>2020-07-07</th>\n",
       "      <th>2020-07-08</th>\n",
       "      <th>2020-07-09</th>\n",
       "      <th>2020-07-10</th>\n",
       "      <th>...</th>\n",
       "      <th>2021-03-09</th>\n",
       "      <th>2021-03-10</th>\n",
       "      <th>2021-03-11</th>\n",
       "      <th>2021-03-12</th>\n",
       "      <th>2021-03-13</th>\n",
       "      <th>2021-03-14</th>\n",
       "      <th>2021-03-15</th>\n",
       "      <th>2021-03-16</th>\n",
       "      <th>2021-03-17</th>\n",
       "      <th>2021-03-18</th>\n",
       "    </tr>\n",
       "    <tr>\n",
       "      <th>state</th>\n",
       "      <th></th>\n",
       "      <th></th>\n",
       "      <th></th>\n",
       "      <th></th>\n",
       "      <th></th>\n",
       "      <th></th>\n",
       "      <th></th>\n",
       "      <th></th>\n",
       "      <th></th>\n",
       "      <th></th>\n",
       "      <th></th>\n",
       "      <th></th>\n",
       "      <th></th>\n",
       "      <th></th>\n",
       "      <th></th>\n",
       "      <th></th>\n",
       "      <th></th>\n",
       "      <th></th>\n",
       "      <th></th>\n",
       "      <th></th>\n",
       "      <th></th>\n",
       "    </tr>\n",
       "  </thead>\n",
       "  <tbody>\n",
       "    <tr>\n",
       "      <th>Telangana</th>\n",
       "      <td>0</td>\n",
       "      <td>1213</td>\n",
       "      <td>1892</td>\n",
       "      <td>1850</td>\n",
       "      <td>1590</td>\n",
       "      <td>1831</td>\n",
       "      <td>1879</td>\n",
       "      <td>1924</td>\n",
       "      <td>1410</td>\n",
       "      <td>1278</td>\n",
       "      <td>...</td>\n",
       "      <td>142</td>\n",
       "      <td>189</td>\n",
       "      <td>194</td>\n",
       "      <td>181</td>\n",
       "      <td>216</td>\n",
       "      <td>228</td>\n",
       "      <td>157</td>\n",
       "      <td>204</td>\n",
       "      <td>247</td>\n",
       "      <td>278</td>\n",
       "    </tr>\n",
       "    <tr>\n",
       "      <th>Odisha</th>\n",
       "      <td>0</td>\n",
       "      <td>229</td>\n",
       "      <td>561</td>\n",
       "      <td>495</td>\n",
       "      <td>469</td>\n",
       "      <td>456</td>\n",
       "      <td>571</td>\n",
       "      <td>527</td>\n",
       "      <td>577</td>\n",
       "      <td>755</td>\n",
       "      <td>...</td>\n",
       "      <td>57</td>\n",
       "      <td>69</td>\n",
       "      <td>63</td>\n",
       "      <td>64</td>\n",
       "      <td>65</td>\n",
       "      <td>71</td>\n",
       "      <td>66</td>\n",
       "      <td>65</td>\n",
       "      <td>82</td>\n",
       "      <td>84</td>\n",
       "    </tr>\n",
       "    <tr>\n",
       "      <th>Puducherry</th>\n",
       "      <td>0</td>\n",
       "      <td>63</td>\n",
       "      <td>22</td>\n",
       "      <td>80</td>\n",
       "      <td>42</td>\n",
       "      <td>65</td>\n",
       "      <td>30</td>\n",
       "      <td>110</td>\n",
       "      <td>49</td>\n",
       "      <td>72</td>\n",
       "      <td>...</td>\n",
       "      <td>26</td>\n",
       "      <td>24</td>\n",
       "      <td>22</td>\n",
       "      <td>30</td>\n",
       "      <td>31</td>\n",
       "      <td>15</td>\n",
       "      <td>14</td>\n",
       "      <td>24</td>\n",
       "      <td>52</td>\n",
       "      <td>81</td>\n",
       "    </tr>\n",
       "    <tr>\n",
       "      <th>Dadra and Nagar Haveli and Daman and Diu</th>\n",
       "      <td>0</td>\n",
       "      <td>25</td>\n",
       "      <td>50</td>\n",
       "      <td>37</td>\n",
       "      <td>32</td>\n",
       "      <td>27</td>\n",
       "      <td>27</td>\n",
       "      <td>15</td>\n",
       "      <td>14</td>\n",
       "      <td>14</td>\n",
       "      <td>...</td>\n",
       "      <td>0</td>\n",
       "      <td>3</td>\n",
       "      <td>0</td>\n",
       "      <td>4</td>\n",
       "      <td>4</td>\n",
       "      <td>3</td>\n",
       "      <td>2</td>\n",
       "      <td>5</td>\n",
       "      <td>0</td>\n",
       "      <td>5</td>\n",
       "    </tr>\n",
       "    <tr>\n",
       "      <th>Tripura</th>\n",
       "      <td>0</td>\n",
       "      <td>39</td>\n",
       "      <td>93</td>\n",
       "      <td>25</td>\n",
       "      <td>23</td>\n",
       "      <td>111</td>\n",
       "      <td>24</td>\n",
       "      <td>57</td>\n",
       "      <td>16</td>\n",
       "      <td>142</td>\n",
       "      <td>...</td>\n",
       "      <td>0</td>\n",
       "      <td>0</td>\n",
       "      <td>1</td>\n",
       "      <td>0</td>\n",
       "      <td>2</td>\n",
       "      <td>2</td>\n",
       "      <td>0</td>\n",
       "      <td>11</td>\n",
       "      <td>1</td>\n",
       "      <td>3</td>\n",
       "    </tr>\n",
       "  </tbody>\n",
       "</table>\n",
       "<p>5 rows × 261 columns</p>\n",
       "</div>"
      ],
      "text/plain": [
       "states                                    2020-07-01  2020-07-02  2020-07-03  \\\n",
       "state                                                                          \n",
       "Telangana                                          0        1213        1892   \n",
       "Odisha                                             0         229         561   \n",
       "Puducherry                                         0          63          22   \n",
       "Dadra and Nagar Haveli and Daman and Diu           0          25          50   \n",
       "Tripura                                            0          39          93   \n",
       "\n",
       "states                                    2020-07-04  2020-07-05  2020-07-06  \\\n",
       "state                                                                          \n",
       "Telangana                                       1850        1590        1831   \n",
       "Odisha                                           495         469         456   \n",
       "Puducherry                                        80          42          65   \n",
       "Dadra and Nagar Haveli and Daman and Diu          37          32          27   \n",
       "Tripura                                           25          23         111   \n",
       "\n",
       "states                                    2020-07-07  2020-07-08  2020-07-09  \\\n",
       "state                                                                          \n",
       "Telangana                                       1879        1924        1410   \n",
       "Odisha                                           571         527         577   \n",
       "Puducherry                                        30         110          49   \n",
       "Dadra and Nagar Haveli and Daman and Diu          27          15          14   \n",
       "Tripura                                           24          57          16   \n",
       "\n",
       "states                                    2020-07-10  ...  2021-03-09  \\\n",
       "state                                                 ...               \n",
       "Telangana                                       1278  ...         142   \n",
       "Odisha                                           755  ...          57   \n",
       "Puducherry                                        72  ...          26   \n",
       "Dadra and Nagar Haveli and Daman and Diu          14  ...           0   \n",
       "Tripura                                          142  ...           0   \n",
       "\n",
       "states                                    2021-03-10  2021-03-11  2021-03-12  \\\n",
       "state                                                                          \n",
       "Telangana                                        189         194         181   \n",
       "Odisha                                            69          63          64   \n",
       "Puducherry                                        24          22          30   \n",
       "Dadra and Nagar Haveli and Daman and Diu           3           0           4   \n",
       "Tripura                                            0           1           0   \n",
       "\n",
       "states                                    2021-03-13  2021-03-14  2021-03-15  \\\n",
       "state                                                                          \n",
       "Telangana                                        216         228         157   \n",
       "Odisha                                            65          71          66   \n",
       "Puducherry                                        31          15          14   \n",
       "Dadra and Nagar Haveli and Daman and Diu           4           3           2   \n",
       "Tripura                                            2           2           0   \n",
       "\n",
       "states                                    2021-03-16  2021-03-17  2021-03-18  \n",
       "state                                                                         \n",
       "Telangana                                        204         247         278  \n",
       "Odisha                                            65          82          84  \n",
       "Puducherry                                        24          52          81  \n",
       "Dadra and Nagar Haveli and Daman and Diu           5           0           5  \n",
       "Tripura                                           11           1           3  \n",
       "\n",
       "[5 rows x 261 columns]"
      ]
     },
     "execution_count": 18,
     "metadata": {},
     "output_type": "execute_result"
    }
   ],
   "source": [
    "#hide\n",
    "dft_ct_new_cases.head()"
   ]
  },
  {
   "cell_type": "code",
   "execution_count": 19,
   "id": "responsible-nightlife",
   "metadata": {
    "execution": {
     "iopub.execute_input": "2021-03-18T10:49:52.436218Z",
     "iopub.status.busy": "2021-03-18T10:49:52.426145Z",
     "iopub.status.idle": "2021-03-18T10:50:04.706309Z",
     "shell.execute_reply": "2021-03-18T10:50:04.706816Z"
    },
    "papermill": {
     "duration": 12.316071,
     "end_time": "2021-03-18T10:50:04.706986",
     "exception": false,
     "start_time": "2021-03-18T10:49:52.390915",
     "status": "completed"
    },
    "tags": []
   },
   "outputs": [
    {
     "data": {
      "image/png": "[encoded data removed]",
      "text/plain": [
       "<Figure size 1296x2016 with 11 Axes>"
      ]
     },
     "metadata": {
      "needs_background": "light"
     },
     "output_type": "display_data"
    }
   ],
   "source": [
    "#hide_input\n",
    "df = dft_ct_new_cases.copy()\n",
    "df.loc['Total'] = df.sum()\n",
    "n = 5\n",
    "ax = []\n",
    "fig = plt.figure(figsize = (18,28))\n",
    "gs = fig.add_gridspec(n+2, 5)\n",
    "# gs = fig.add_gridspec(2, 3)\n",
    "ax1 = fig.add_subplot(gs[0, :])\n",
    "ef = df.loc['Total'].rename_axis('date').reset_index()\n",
    "ef['date'] = ef['date'].astype('datetime64[ns]')\n",
    "ax1.bar(ef.date,ef.Total,alpha=0.3,color='#007acc')\n",
    "ax1.plot(ef.date,ef.Total , marker=\"o\", color='#007acc')\n",
    "ax1.xaxis.set_major_locator(mdates.WeekdayLocator())\n",
    "ax1.xaxis.set_major_formatter(mdates.DateFormatter('%b %d'))\n",
    "ax1.text(0.02, 0.5,'India daily case count', transform = ax1.transAxes, fontsize=25);\n",
    "ax1.spines['right'].set_visible(False)\n",
    "ax1.spines['top'].set_visible(False)\n",
    "\n",
    "ax2 = fig.add_subplot(gs[1,0])\n",
    "ef = df.loc['Maharashtra'].rename_axis('date').reset_index()\n",
    "ef['date'] = ef['date'].astype('datetime64[ns]')\n",
    "\n",
    "ax2.bar(ef.date, ef.Maharashtra,color = '#007acc',alpha=0.5)\n",
    "ax2.xaxis.set_major_locator(mdates.WeekdayLocator())\n",
    "ax2.xaxis.set_major_formatter(mdates.DateFormatter('%b %d'))\n",
    "ax2.set_xticks(ax2.get_xticks()[::3])\n",
    "maxyval = ef.Maharashtra.max()\n",
    "ax2.set_ylim([0,maxyval])\n",
    "ax2.text(0.05, 0.9,'Maharashtra', transform = ax2.transAxes, fontsize=20);\n",
    "ax2.spines['right'].set_visible(False)\n",
    "ax2.spines['top'].set_visible(False)\n",
    "\n",
    "\n",
    "ax3 = fig.add_subplot(gs[1,1])\n",
    "ef = df.loc['Tamil Nadu'].rename_axis('date').reset_index()\n",
    "ef['date'] = ef['date'].astype('datetime64[ns]')\n",
    "ax3.bar(ef.date, ef['Tamil Nadu'],color = '#007acc',alpha=0.5,)\n",
    "ax3.xaxis.set_major_locator(mdates.WeekdayLocator())\n",
    "ax3.xaxis.set_major_formatter(mdates.DateFormatter('%b %d'))\n",
    "ax3.set_xticks(ax3.get_xticks()[::3])\n",
    "ax3.text(0.05, 0.9,'Tamil Nadu', transform = ax3.transAxes, fontsize=20);\n",
    "ax3.spines['right'].set_visible(False)\n",
    "ax3.spines['top'].set_visible(False)\n",
    "\n",
    "ax5 = fig.add_subplot(gs[1,3])\n",
    "ef = df.loc['Telangana'].rename_axis('date').reset_index()\n",
    "ef['date'] = ef['date'].astype('datetime64[ns]')\n",
    "ax5.bar(ef.date, ef['Telangana'],color = '#007acc',alpha=0.5,)\n",
    "ax5.xaxis.set_major_locator(mdates.WeekdayLocator())\n",
    "ax5.xaxis.set_major_formatter(mdates.DateFormatter('%b %d'))\n",
    "ax5.set_xticks(ax5.get_xticks()[::3])\n",
    "ax5.text(0.05, 0.9,'Telangana', transform = ax5.transAxes, fontsize=20);\n",
    "ax5.spines['right'].set_visible(False)\n",
    "ax5.spines['top'].set_visible(False)\n",
    "\n",
    "ax6 = fig.add_subplot(gs[1,4])\n",
    "ef = df.loc['Andhra Pradesh'].rename_axis('date').reset_index()\n",
    "ef['date'] = ef['date'].astype('datetime64[ns]')\n",
    "ax6.bar(ef.date, ef['Andhra Pradesh'],color = '#007acc',alpha=0.5,)\n",
    "ax6.xaxis.set_major_locator(mdates.WeekdayLocator())\n",
    "ax6.xaxis.set_major_formatter(mdates.DateFormatter('%b %d'))\n",
    "ax6.set_xticks(ax6.get_xticks()[::3])\n",
    "ax6.text(0.05, 1,'Andhra Pradesh', transform = ax6.transAxes, fontsize=20);\n",
    "ax6.spines['right'].set_visible(False)\n",
    "ax6.spines['top'].set_visible(False)\n",
    "\n",
    "ax4 = fig.add_subplot(gs[1,2])\n",
    "ef = df.loc['Delhi'].rename_axis('date').reset_index()\n",
    "ef['date'] = ef['date'].astype('datetime64[ns]')\n",
    "ax4.bar(ef.date, ef.Delhi,color = '#007acc',alpha=0.5)\n",
    "ax4.set_xticks([])\n",
    "ax4.xaxis.set_major_locator(mdates.WeekdayLocator())\n",
    "ax4.xaxis.set_major_formatter(mdates.DateFormatter('%b %d'))\n",
    "ax4.set_xticks(ax4.get_xticks()[::3])\n",
    "ax4.spines['right'].set_visible(False)\n",
    "ax4.spines['top'].set_visible(False)\n",
    "\n",
    "ax4.text(0.05, 1,'Delhi', transform = ax4.transAxes, fontsize=20)\n",
    "\n",
    "for i in range(n):\n",
    "    \n",
    "    ax.append(fig.add_subplot(gs[i+2,:]))\n",
    "    ef = df.iloc[i+3].rename_axis('date').reset_index()\n",
    "    ef['date'] = ef['date'].astype('datetime64[ns]')\n",
    "    ax[i].bar(ef.date,ef.iloc[:,-1],color = '#007acc',alpha=0.3)\n",
    "    ax[i].plot(ef.date,ef.iloc[:,-1],marker='o',color='#007acc')\n",
    "    ax[i].text(0.02,0.5,f'{ef.columns.values[-1]}',transform = ax[i].transAxes, fontsize = 20);\n",
    "    ax[i].xaxis.set_major_locator(mdates.WeekdayLocator())\n",
    "    ax[i].xaxis.set_major_formatter(mdates.DateFormatter('%b %d'))\n",
    "    ax[i].set_ylim([0,7000])\n",
    "    ax[i].spines['right'].set_visible(False)\n",
    "    ax[i].spines['top'].set_visible(False)\n",
    "plt.tight_layout()\n"
   ]
  },
  {
   "cell_type": "code",
   "execution_count": 20,
   "id": "dress-forge",
   "metadata": {
    "execution": {
     "iopub.execute_input": "2021-03-18T10:50:04.769502Z",
     "iopub.status.busy": "2021-03-18T10:50:04.768889Z",
     "iopub.status.idle": "2021-03-18T10:50:04.773844Z",
     "shell.execute_reply": "2021-03-18T10:50:04.774302Z"
    },
    "papermill": {
     "duration": 0.041251,
     "end_time": "2021-03-18T10:50:04.774439",
     "exception": false,
     "start_time": "2021-03-18T10:50:04.733188",
     "status": "completed"
    },
    "tags": []
   },
   "outputs": [
    {
     "name": "stdout",
     "output_type": "stream",
     "text": [
      "                                   states    Cases  Deaths   PCases  PDeaths  Cases (+)  Deaths (+)  Fatality Rate\n",
      "                              Maharashtra  2370507   53080  2370507    53080          0           0           2.24\n",
      "                                   Kerala  1096393    4436  1096393     4436          0           0           0.40\n",
      "                                Karnataka   963614   12407   963614    12407          0           0           1.29\n",
      "                           Andhra Pradesh   892522    7186   892522     7186          0           0           0.81\n",
      "                               Tamil Nadu   862374   12564   862374    12564          0           0           1.46\n",
      "                                    Delhi   645025   10948   645025    10948          0           0           1.70\n",
      "                            Uttar Pradesh   605915    8751   605915     8751          0           0           1.44\n",
      "                              West Bengal   579156   10298   579156    10298          0           0           1.78\n",
      "                                   Odisha   338489    1971   338405     1971         84           0           0.58\n",
      "                                Rajasthan   323774    2791   323774     2791          0           0           0.86\n",
      "                             Chhattisgarh   319717    3915   319717     3915          0           0           1.22\n",
      "                                Telangana   302047    1662   301769     1659        278           3           0.55\n",
      "                                  Gujarat   281173    4430   281173     4430          0           0           1.58\n",
      "                                  Haryana   276635    3083   276635     3083          0           0           1.11\n",
      "                           Madhya Pradesh   271040    3893   271040     3893          0           0           1.44\n",
      "                                    Bihar   263158    1554   263158     1554          0           0           0.59\n",
      "                                    Assam   217872    1099   217872     1099          0           0           0.50\n",
      "                                   Punjab   203049    6172   203049     6172          0           0           3.04\n",
      "                        Jammu and Kashmir   127957    1977   127957     1977          0           0           1.55\n",
      "                                Jharkhand   120853    1094   120853     1094          0           0           0.91\n",
      "                              Uttarakhand    98041    1704    98041     1704          0           0           1.74\n",
      "                         Himachal Pradesh    60036     998    60036      998          0           0           1.66\n",
      "                                      Goa    56173     812    56173      812          0           0           1.45\n",
      "                               Puducherry    40201     674    40120      673         81           1           1.68\n",
      "                                  Tripura    33441     388    33438      388          3           0           1.16\n",
      "                                  Manipur    29323     373    29323      373          0           0           1.27\n",
      "                               Chandigarh    23592     359    23592      359          0           0           1.52\n",
      "                        Arunachal Pradesh    16841      56    16841       56          0           0           0.33\n",
      "                                Meghalaya    14002     148    14002      148          0           0           1.06\n",
      "                                 Nagaland    12225      91    12225       91          0           0           0.74\n",
      "                                   Ladakh     9865     130     9865      130          0           0           1.32\n",
      "                                   Sikkim     6194     135     6194      135          0           0           2.18\n",
      "              Andaman and Nicobar Islands     5035      62     5035       62          0           0           1.23\n",
      "                                  Mizoram     4442      10     4442       10          0           0           0.23\n",
      " Dadra and Nagar Haveli and Daman and Diu     3432       2     3427        2          5           0           0.06\n",
      "                              Lakshadweep      640       1      640        1          0           0           0.16\n"
     ]
    }
   ],
   "source": [
    "#hide_input\n",
    "print(df_table.to_string(index=False))"
   ]
  },
  {
   "cell_type": "code",
   "execution_count": null,
   "id": "quantitative-legend",
   "metadata": {
    "papermill": {
     "duration": 0.028945,
     "end_time": "2021-03-18T10:50:04.831183",
     "exception": false,
     "start_time": "2021-03-18T10:50:04.802238",
     "status": "completed"
    },
    "tags": []
   },
   "outputs": [],
   "source": []
  },
  {
   "cell_type": "code",
   "execution_count": null,
   "id": "distant-acoustic",
   "metadata": {
    "papermill": {
     "duration": 0.027915,
     "end_time": "2021-03-18T10:50:04.888200",
     "exception": false,
     "start_time": "2021-03-18T10:50:04.860285",
     "status": "completed"
    },
    "tags": []
   },
   "outputs": [],
   "source": []
  }
 ],
 "metadata": {
  "kernelspec": {
   "display_name": "Python 3",
   "language": "python",
   "name": "python3"
  },
  "language_info": {
   "codemirror_mode": {
    "name": "ipython",
    "version": 3
   },
   "file_extension": ".py",
   "mimetype": "text/x-python",
   "name": "python",
   "nbconvert_exporter": "python",
   "pygments_lexer": "ipython3",
   "version": "3.6.13"
  },
  "papermill": {
   "duration": 26.046515,
   "end_time": "2021-03-18T10:50:05.524267",
   "environment_variables": {},
   "exception": null,
   "input_path": "latest.ipynb",
   "output_path": "latest.ipynb",
   "parameters": {},
   "start_time": "2021-03-18T10:49:39.477752",
   "version": "2.1.2"
  }
 },
 "nbformat": 4,
 "nbformat_minor": 5
}