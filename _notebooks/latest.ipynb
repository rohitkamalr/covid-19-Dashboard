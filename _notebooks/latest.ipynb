{
 "cells": [
  {
   "cell_type": "markdown",
   "metadata": {
    "papermill": {
     "duration": 0.020976,
     "end_time": "2020-09-10T13:38:22.395597",
     "exception": false,
     "start_time": "2020-09-10T13:38:22.374621",
     "status": "completed"
    },
    "tags": []
   },
   "source": [
    "# Latest COVID-19 India Matplotlib Overview"
   ]
  },
  {
   "cell_type": "code",
   "execution_count": 1,
   "metadata": {
    "execution": {
     "iopub.execute_input": "2020-09-10T13:38:22.437158Z",
     "iopub.status.busy": "2020-09-10T13:38:22.436441Z",
     "iopub.status.idle": "2020-09-10T13:38:23.067176Z",
     "shell.execute_reply": "2020-09-10T13:38:23.066553Z"
    },
    "papermill": {
     "duration": 0.655029,
     "end_time": "2020-09-10T13:38:23.067367",
     "exception": false,
     "start_time": "2020-09-10T13:38:22.412338",
     "status": "completed"
    },
    "tags": []
   },
   "outputs": [],
   "source": [
    "#hide\n",
    "import pandas as pd\n",
    "import numpy as np\n",
    "import requests\n",
    "import json\n",
    "import matplotlib.pyplot as plt\n",
    "import matplotlib.dates as mdates\n",
    "import matplotlib as mpl\n",
    "from IPython.core.display import display,HTML\n",
    "%matplotlib inline\n",
    "from datetime import date"
   ]
  },
  {
   "cell_type": "code",
   "execution_count": 2,
   "metadata": {
    "execution": {
     "iopub.execute_input": "2020-09-10T13:38:23.109292Z",
     "iopub.status.busy": "2020-09-10T13:38:23.108580Z",
     "iopub.status.idle": "2020-09-10T13:38:23.192279Z",
     "shell.execute_reply": "2020-09-10T13:38:23.192895Z"
    },
    "papermill": {
     "duration": 0.10802,
     "end_time": "2020-09-10T13:38:23.193097",
     "exception": false,
     "start_time": "2020-09-10T13:38:23.085077",
     "status": "completed"
    },
    "tags": []
   },
   "outputs": [],
   "source": [
    "#hide\n",
    "df  = pd.read_csv('https://api.covid19india.org/csv/latest/states.csv')\n",
    "df = df[['Date','State','Confirmed','Deceased']]\n",
    "df = df.rename(columns={'Confirmed':'Cases', \"Deceased\":'Deaths'})\n",
    "df_cases = df[[\"Date\",'State','Cases']]\n",
    "df_deaths = df[['Date','State','Deaths']]\n",
    "df_cases1 = df_cases.groupby('Date')\n",
    "df_deaths1= df_deaths.groupby('Date')"
   ]
  },
  {
   "cell_type": "code",
   "execution_count": 3,
   "metadata": {
    "execution": {
     "iopub.execute_input": "2020-09-10T13:38:23.232608Z",
     "iopub.status.busy": "2020-09-10T13:38:23.231945Z",
     "iopub.status.idle": "2020-09-10T13:38:23.250277Z",
     "shell.execute_reply": "2020-09-10T13:38:23.249707Z"
    },
    "papermill": {
     "duration": 0.039437,
     "end_time": "2020-09-10T13:38:23.250418",
     "exception": false,
     "start_time": "2020-09-10T13:38:23.210981",
     "status": "completed"
    },
    "tags": []
   },
   "outputs": [],
   "source": [
    "#hide\n",
    "df_snap = pd.read_csv('data/SnapshotCases-28-July.csv')\n",
    "arr_states = df_snap['states'].unique()\n",
    "arr_dates = df['Date'].unique()\n",
    "df_snap = df_snap.set_index('states')"
   ]
  },
  {
   "cell_type": "code",
   "execution_count": 4,
   "metadata": {
    "execution": {
     "iopub.execute_input": "2020-09-10T13:38:23.291706Z",
     "iopub.status.busy": "2020-09-10T13:38:23.290966Z",
     "iopub.status.idle": "2020-09-10T13:38:23.294728Z",
     "shell.execute_reply": "2020-09-10T13:38:23.294163Z"
    },
    "papermill": {
     "duration": 0.027445,
     "end_time": "2020-09-10T13:38:23.294865",
     "exception": false,
     "start_time": "2020-09-10T13:38:23.267420",
     "status": "completed"
    },
    "tags": []
   },
   "outputs": [
    {
     "data": {
      "text/plain": [
       "array(['Andaman and Nicobar Islands', 'Andhra Pradesh',\n",
       "       'Arunachal Pradesh', 'Assam', 'Bihar', 'Chandigarh',\n",
       "       'Dadra and Nagar Haveli and Daman and Diu', 'Delhi', 'Goa',\n",
       "       'Gujarat', 'Haryana', 'Himachal Pradesh', 'Jammu and Kashmir',\n",
       "       'Jharkhand', 'Karnataka', 'Kerala', 'Lakshadweep',\n",
       "       'Madhya Pradesh', 'Maharashtra', 'Manipur', 'Meghalaya', 'Mizoram',\n",
       "       'Nagaland', 'Odisha', 'Puducherry', 'Punjab', 'Rajasthan',\n",
       "       'Sikkim', 'Tamil Nadu', 'Telangana', 'Tripura', 'Uttar Pradesh',\n",
       "       'West Bengal', 'Chhattisgarh', 'Ladakh', 'Uttarakhand'],\n",
       "      dtype=object)"
      ]
     },
     "execution_count": 4,
     "metadata": {},
     "output_type": "execute_result"
    }
   ],
   "source": [
    "#hide\n",
    "arr_states[-9] = 'Puducherry'\n",
    "arr_states[-10] = 'Odisha'\n",
    "arr_states[6] = 'Dadra and Nagar Haveli and Daman and Diu'\n",
    "arr_states = np.append(arr_states,np.array(['Chhattisgarh','Ladakh','Uttarakhand']))\n",
    "arr_states"
   ]
  },
  {
   "cell_type": "code",
   "execution_count": 5,
   "metadata": {
    "execution": {
     "iopub.execute_input": "2020-09-10T13:38:23.338989Z",
     "iopub.status.busy": "2020-09-10T13:38:23.338325Z",
     "iopub.status.idle": "2020-09-10T13:38:23.345675Z",
     "shell.execute_reply": "2020-09-10T13:38:23.346307Z"
    },
    "papermill": {
     "duration": 0.0344,
     "end_time": "2020-09-10T13:38:23.346458",
     "exception": false,
     "start_time": "2020-09-10T13:38:23.312058",
     "status": "completed"
    },
    "tags": []
   },
   "outputs": [],
   "source": [
    "#hide\n",
    "dates = []\n",
    "for i in arr_dates:\n",
    "    if i>='2020-07-01':\n",
    "        dates.append(i)\n",
    "dict = {'states':dates}\n",
    "for i in arr_states:\n",
    "    dict[i] = [0]*len(dates)\n",
    "dft_cases = pd.DataFrame(dict)\n",
    "dft_deaths = pd.DataFrame(dict)\n"
   ]
  },
  {
   "cell_type": "code",
   "execution_count": 6,
   "metadata": {
    "execution": {
     "iopub.execute_input": "2020-09-10T13:38:23.385064Z",
     "iopub.status.busy": "2020-09-10T13:38:23.384314Z",
     "iopub.status.idle": "2020-09-10T13:38:24.668943Z",
     "shell.execute_reply": "2020-09-10T13:38:24.669491Z"
    },
    "papermill": {
     "duration": 1.307171,
     "end_time": "2020-09-10T13:38:24.669693",
     "exception": false,
     "start_time": "2020-09-10T13:38:23.362522",
     "status": "completed"
    },
    "tags": []
   },
   "outputs": [],
   "source": [
    "#hide\n",
    "for i in range(len(dates)):\n",
    "    df1_deaths = df_deaths1.get_group(dates[i])\n",
    "    for j in range(len(df1_deaths.index)):\n",
    "        if df1_deaths.iloc[j,1] in arr_states:\n",
    "            dft_deaths.loc[i,df1_deaths.iloc[j,1]] = df1_deaths.iloc[j,2]\n",
    "dft_deaths = dft_deaths.set_index('states')"
   ]
  },
  {
   "cell_type": "code",
   "execution_count": 7,
   "metadata": {
    "execution": {
     "iopub.execute_input": "2020-09-10T13:38:24.710905Z",
     "iopub.status.busy": "2020-09-10T13:38:24.710236Z",
     "iopub.status.idle": "2020-09-10T13:38:26.033195Z",
     "shell.execute_reply": "2020-09-10T13:38:26.032161Z"
    },
    "papermill": {
     "duration": 1.345756,
     "end_time": "2020-09-10T13:38:26.033367",
     "exception": false,
     "start_time": "2020-09-10T13:38:24.687611",
     "status": "completed"
    },
    "tags": []
   },
   "outputs": [],
   "source": [
    "#hide\n",
    "for i in range(len(dates)):\n",
    "    df1_cases = df_cases1.get_group(dates[i])\n",
    "    for j in range(len(df1_cases.index)):\n",
    "        if df1_cases.iloc[j,1] in arr_states:\n",
    "            dft_cases.loc[i,df1_cases.iloc[j,1]] = df1_cases.iloc[j,2]\n",
    "dft_cases = dft_cases.set_index('states')"
   ]
  },
  {
   "cell_type": "code",
   "execution_count": 8,
   "metadata": {
    "execution": {
     "iopub.execute_input": "2020-09-10T13:38:26.078098Z",
     "iopub.status.busy": "2020-09-10T13:38:26.077423Z",
     "iopub.status.idle": "2020-09-10T13:38:26.079671Z",
     "shell.execute_reply": "2020-09-10T13:38:26.080217Z"
    },
    "papermill": {
     "duration": 0.02846,
     "end_time": "2020-09-10T13:38:26.080378",
     "exception": false,
     "start_time": "2020-09-10T13:38:26.051918",
     "status": "completed"
    },
    "tags": []
   },
   "outputs": [],
   "source": [
    "#hide\n",
    "dft_cases = dft_cases.T\n",
    "dft_deaths = dft_deaths.T\n",
    "dt_today = dates[-1]\n",
    "dt_yday = dates[-2]"
   ]
  },
  {
   "cell_type": "code",
   "execution_count": 9,
   "metadata": {
    "execution": {
     "iopub.execute_input": "2020-09-10T13:38:26.121737Z",
     "iopub.status.busy": "2020-09-10T13:38:26.121064Z",
     "iopub.status.idle": "2020-09-10T13:38:26.123784Z",
     "shell.execute_reply": "2020-09-10T13:38:26.123129Z"
    },
    "papermill": {
     "duration": 0.027081,
     "end_time": "2020-09-10T13:38:26.123922",
     "exception": false,
     "start_time": "2020-09-10T13:38:26.096841",
     "status": "completed"
    },
    "tags": []
   },
   "outputs": [],
   "source": [
    "#hide\n",
    "dft_cases = dft_cases.reset_index()\n",
    "dft_deaths = dft_deaths.reset_index()\n",
    "dft_cases = dft_cases.rename(columns = {'index':'state'})\n",
    "dft_deaths = dft_deaths.rename(columns = {'index':'state'})"
   ]
  },
  {
   "cell_type": "code",
   "execution_count": 10,
   "metadata": {
    "execution": {
     "iopub.execute_input": "2020-09-10T13:38:26.166212Z",
     "iopub.status.busy": "2020-09-10T13:38:26.165546Z",
     "iopub.status.idle": "2020-09-10T13:38:26.171649Z",
     "shell.execute_reply": "2020-09-10T13:38:26.171076Z"
    },
    "papermill": {
     "duration": 0.031066,
     "end_time": "2020-09-10T13:38:26.171786",
     "exception": false,
     "start_time": "2020-09-10T13:38:26.140720",
     "status": "completed"
    },
    "tags": []
   },
   "outputs": [],
   "source": [
    "#hide\n",
    "dfc_cases = dft_cases.groupby('state')[dt_today].sum()\n",
    "dfc_deaths = dft_deaths.groupby('state')[dt_today].sum()\n",
    "dfp_cases = dft_cases.groupby('state')[dt_yday].sum()\n",
    "dfp_deaths = dft_deaths.groupby('state')[dt_yday].sum()"
   ]
  },
  {
   "cell_type": "code",
   "execution_count": 11,
   "metadata": {
    "execution": {
     "iopub.execute_input": "2020-09-10T13:38:26.220168Z",
     "iopub.status.busy": "2020-09-10T13:38:26.219501Z",
     "iopub.status.idle": "2020-09-10T13:38:26.227144Z",
     "shell.execute_reply": "2020-09-10T13:38:26.226573Z"
    },
    "papermill": {
     "duration": 0.038044,
     "end_time": "2020-09-10T13:38:26.227283",
     "exception": false,
     "start_time": "2020-09-10T13:38:26.189239",
     "status": "completed"
    },
    "tags": []
   },
   "outputs": [
    {
     "data": {
      "text/html": [
       "<div>\n",
       "<style scoped>\n",
       "    .dataframe tbody tr th:only-of-type {\n",
       "        vertical-align: middle;\n",
       "    }\n",
       "\n",
       "    .dataframe tbody tr th {\n",
       "        vertical-align: top;\n",
       "    }\n",
       "\n",
       "    .dataframe thead th {\n",
       "        text-align: right;\n",
       "    }\n",
       "</style>\n",
       "<table border=\"1\" class=\"dataframe\">\n",
       "  <thead>\n",
       "    <tr style=\"text-align: right;\">\n",
       "      <th></th>\n",
       "      <th>states</th>\n",
       "      <th>Cases</th>\n",
       "      <th>Deaths</th>\n",
       "      <th>PCases</th>\n",
       "      <th>PDeaths</th>\n",
       "    </tr>\n",
       "  </thead>\n",
       "  <tbody>\n",
       "    <tr>\n",
       "      <th>0</th>\n",
       "      <td>Maharashtra</td>\n",
       "      <td>967349</td>\n",
       "      <td>27787</td>\n",
       "      <td>967349</td>\n",
       "      <td>27787</td>\n",
       "    </tr>\n",
       "    <tr>\n",
       "      <th>1</th>\n",
       "      <td>Andhra Pradesh</td>\n",
       "      <td>537687</td>\n",
       "      <td>4702</td>\n",
       "      <td>527512</td>\n",
       "      <td>4634</td>\n",
       "    </tr>\n",
       "    <tr>\n",
       "      <th>2</th>\n",
       "      <td>Tamil Nadu</td>\n",
       "      <td>480524</td>\n",
       "      <td>8093</td>\n",
       "      <td>480524</td>\n",
       "      <td>8093</td>\n",
       "    </tr>\n",
       "    <tr>\n",
       "      <th>3</th>\n",
       "      <td>Karnataka</td>\n",
       "      <td>421730</td>\n",
       "      <td>6808</td>\n",
       "      <td>421730</td>\n",
       "      <td>6808</td>\n",
       "    </tr>\n",
       "    <tr>\n",
       "      <th>4</th>\n",
       "      <td>Uttar Pradesh</td>\n",
       "      <td>285041</td>\n",
       "      <td>4112</td>\n",
       "      <td>285041</td>\n",
       "      <td>4112</td>\n",
       "    </tr>\n",
       "  </tbody>\n",
       "</table>\n",
       "</div>"
      ],
      "text/plain": [
       "           states   Cases  Deaths  PCases  PDeaths\n",
       "0     Maharashtra  967349   27787  967349    27787\n",
       "1  Andhra Pradesh  537687    4702  527512     4634\n",
       "2      Tamil Nadu  480524    8093  480524     8093\n",
       "3       Karnataka  421730    6808  421730     6808\n",
       "4   Uttar Pradesh  285041    4112  285041     4112"
      ]
     },
     "execution_count": 11,
     "metadata": {},
     "output_type": "execute_result"
    }
   ],
   "source": [
    "#hide\n",
    "df_table = pd.DataFrame({'states': dfc_cases.index, 'Cases': dfc_cases.values, 'Deaths': dfc_deaths.values, 'PCases': dfp_cases.values, 'PDeaths': dfp_deaths.values}).set_index('states')\n",
    "df_table = df_table.sort_values(by = ['Cases','Deaths'], ascending = [False, False])\n",
    "df_table = df_table.reset_index()\n",
    "df_table.head()"
   ]
  },
  {
   "cell_type": "code",
   "execution_count": 12,
   "metadata": {
    "execution": {
     "iopub.execute_input": "2020-09-10T13:38:26.271257Z",
     "iopub.status.busy": "2020-09-10T13:38:26.270595Z",
     "iopub.status.idle": "2020-09-10T13:38:26.280293Z",
     "shell.execute_reply": "2020-09-10T13:38:26.280840Z"
    },
    "papermill": {
     "duration": 0.036055,
     "end_time": "2020-09-10T13:38:26.281004",
     "exception": false,
     "start_time": "2020-09-10T13:38:26.244949",
     "status": "completed"
    },
    "tags": []
   },
   "outputs": [],
   "source": [
    "#hide\n",
    "for c in 'Cases, Deaths'.split(', '):\n",
    "    df_table[f'{c} (+)'] = (df_table[c] - df_table[f'P{c}']).clip(0)\n",
    "df_table['Fatality Rate'] = (100* df_table['Deaths']/ df_table['Cases']).round(2)"
   ]
  },
  {
   "cell_type": "code",
   "execution_count": 13,
   "metadata": {
    "execution": {
     "iopub.execute_input": "2020-09-10T13:38:26.326827Z",
     "iopub.status.busy": "2020-09-10T13:38:26.326097Z",
     "iopub.status.idle": "2020-09-10T13:38:26.331350Z",
     "shell.execute_reply": "2020-09-10T13:38:26.330694Z"
    },
    "papermill": {
     "duration": 0.033726,
     "end_time": "2020-09-10T13:38:26.331489",
     "exception": false,
     "start_time": "2020-09-10T13:38:26.297763",
     "status": "completed"
    },
    "tags": []
   },
   "outputs": [
    {
     "data": {
      "text/html": [
       "<div>\n",
       "<style scoped>\n",
       "    .dataframe tbody tr th:only-of-type {\n",
       "        vertical-align: middle;\n",
       "    }\n",
       "\n",
       "    .dataframe tbody tr th {\n",
       "        vertical-align: top;\n",
       "    }\n",
       "\n",
       "    .dataframe thead th {\n",
       "        text-align: right;\n",
       "    }\n",
       "</style>\n",
       "<table border=\"1\" class=\"dataframe\">\n",
       "  <thead>\n",
       "    <tr style=\"text-align: right;\">\n",
       "      <th></th>\n",
       "      <th>states</th>\n",
       "      <th>Cases</th>\n",
       "      <th>Deaths</th>\n",
       "      <th>PCases</th>\n",
       "      <th>PDeaths</th>\n",
       "      <th>Cases (+)</th>\n",
       "      <th>Deaths (+)</th>\n",
       "      <th>Fatality Rate</th>\n",
       "    </tr>\n",
       "  </thead>\n",
       "  <tbody>\n",
       "    <tr>\n",
       "      <th>0</th>\n",
       "      <td>Maharashtra</td>\n",
       "      <td>967349</td>\n",
       "      <td>27787</td>\n",
       "      <td>967349</td>\n",
       "      <td>27787</td>\n",
       "      <td>0</td>\n",
       "      <td>0</td>\n",
       "      <td>2.87</td>\n",
       "    </tr>\n",
       "    <tr>\n",
       "      <th>1</th>\n",
       "      <td>Andhra Pradesh</td>\n",
       "      <td>537687</td>\n",
       "      <td>4702</td>\n",
       "      <td>527512</td>\n",
       "      <td>4634</td>\n",
       "      <td>10175</td>\n",
       "      <td>68</td>\n",
       "      <td>0.87</td>\n",
       "    </tr>\n",
       "    <tr>\n",
       "      <th>2</th>\n",
       "      <td>Tamil Nadu</td>\n",
       "      <td>480524</td>\n",
       "      <td>8093</td>\n",
       "      <td>480524</td>\n",
       "      <td>8093</td>\n",
       "      <td>0</td>\n",
       "      <td>0</td>\n",
       "      <td>1.68</td>\n",
       "    </tr>\n",
       "    <tr>\n",
       "      <th>3</th>\n",
       "      <td>Karnataka</td>\n",
       "      <td>421730</td>\n",
       "      <td>6808</td>\n",
       "      <td>421730</td>\n",
       "      <td>6808</td>\n",
       "      <td>0</td>\n",
       "      <td>0</td>\n",
       "      <td>1.61</td>\n",
       "    </tr>\n",
       "    <tr>\n",
       "      <th>4</th>\n",
       "      <td>Uttar Pradesh</td>\n",
       "      <td>285041</td>\n",
       "      <td>4112</td>\n",
       "      <td>285041</td>\n",
       "      <td>4112</td>\n",
       "      <td>0</td>\n",
       "      <td>0</td>\n",
       "      <td>1.44</td>\n",
       "    </tr>\n",
       "  </tbody>\n",
       "</table>\n",
       "</div>"
      ],
      "text/plain": [
       "           states   Cases  Deaths  PCases  PDeaths  Cases (+)  Deaths (+)  \\\n",
       "0     Maharashtra  967349   27787  967349    27787          0           0   \n",
       "1  Andhra Pradesh  537687    4702  527512     4634      10175          68   \n",
       "2      Tamil Nadu  480524    8093  480524     8093          0           0   \n",
       "3       Karnataka  421730    6808  421730     6808          0           0   \n",
       "4   Uttar Pradesh  285041    4112  285041     4112          0           0   \n",
       "\n",
       "   Fatality Rate  \n",
       "0           2.87  \n",
       "1           0.87  \n",
       "2           1.68  \n",
       "3           1.61  \n",
       "4           1.44  "
      ]
     },
     "execution_count": 13,
     "metadata": {},
     "output_type": "execute_result"
    }
   ],
   "source": [
    "#hide\n",
    "df_table.head()"
   ]
  },
  {
   "cell_type": "code",
   "execution_count": 14,
   "metadata": {
    "execution": {
     "iopub.execute_input": "2020-09-10T13:38:26.375828Z",
     "iopub.status.busy": "2020-09-10T13:38:26.375170Z",
     "iopub.status.idle": "2020-09-10T13:38:26.392902Z",
     "shell.execute_reply": "2020-09-10T13:38:26.393534Z"
    },
    "papermill": {
     "duration": 0.043132,
     "end_time": "2020-09-10T13:38:26.393694",
     "exception": false,
     "start_time": "2020-09-10T13:38:26.350562",
     "status": "completed"
    },
    "tags": []
   },
   "outputs": [
    {
     "data": {
      "text/plain": [
       "{'updated': '2020-09-10',\n",
       " 'since': '2020-09-09',\n",
       " 'Cases': 4482454,\n",
       " 'PCases': 4462965,\n",
       " 'Deaths': 75200,\n",
       " 'PDeaths': 75091,\n",
       " 'Cases (+)': 19489,\n",
       " 'Deaths (+)': 109}"
      ]
     },
     "execution_count": 14,
     "metadata": {},
     "output_type": "execute_result"
    }
   ],
   "source": [
    "#hide\n",
    "summary = {'updated':dates[-1], 'since':dates[-2]}\n",
    "list_names = ['Cases', 'PCases', 'Deaths', 'PDeaths', 'Cases (+)', 'Deaths (+)']\n",
    "for name in list_names:\n",
    "    summary[name] = df_table.sum()[name]\n",
    "summary"
   ]
  },
  {
   "cell_type": "code",
   "execution_count": 15,
   "metadata": {
    "execution": {
     "iopub.execute_input": "2020-09-10T13:38:26.433989Z",
     "iopub.status.busy": "2020-09-10T13:38:26.433313Z",
     "iopub.status.idle": "2020-09-10T13:38:26.436032Z",
     "shell.execute_reply": "2020-09-10T13:38:26.436663Z"
    },
    "papermill": {
     "duration": 0.025589,
     "end_time": "2020-09-10T13:38:26.436852",
     "exception": false,
     "start_time": "2020-09-10T13:38:26.411263",
     "status": "completed"
    },
    "tags": []
   },
   "outputs": [],
   "source": [
    "#hide\n",
    "overview = '''\n",
    "<!-- #######  HTML!! #########-->\n",
    "<h1 style=\"color: #5e9ca0; text-align: center;\">India</h1>\n",
    "<p style=\"text-align: center;\">Last update: <strong>{update}</strong></p>\n",
    "<p style=\"text-align: center;\">Confirmed cases:</p>\n",
    "<p style=\"text-align: center;font-size:24px;\">{cases} (<span style=\"color: #ff0000;\">+{new}</span>)</p>\n",
    "<p style=\"text-align: center;\">Confirmed deaths:</p>\n",
    "<p style=\"text-align: center;font-size:24px;\">{deaths} (<span style=\"color: #ff0000;\">+{dnew}</span>)</p>\n",
    "'''"
   ]
  },
  {
   "cell_type": "code",
   "execution_count": 16,
   "metadata": {
    "execution": {
     "iopub.execute_input": "2020-09-10T13:38:26.477478Z",
     "iopub.status.busy": "2020-09-10T13:38:26.476824Z",
     "iopub.status.idle": "2020-09-10T13:38:26.481622Z",
     "shell.execute_reply": "2020-09-10T13:38:26.481063Z"
    },
    "papermill": {
     "duration": 0.027604,
     "end_time": "2020-09-10T13:38:26.481755",
     "exception": false,
     "start_time": "2020-09-10T13:38:26.454151",
     "status": "completed"
    },
    "tags": []
   },
   "outputs": [
    {
     "data": {
      "text/html": [
       "\n",
       "<!-- #######  HTML!! #########-->\n",
       "<h1 style=\"color: #5e9ca0; text-align: center;\">India</h1>\n",
       "<p style=\"text-align: center;\">Last update: <strong>2020-09-10</strong></p>\n",
       "<p style=\"text-align: center;\">Confirmed cases:</p>\n",
       "<p style=\"text-align: center;font-size:24px;\">4482454 (<span style=\"color: #ff0000;\">+19489</span>)</p>\n",
       "<p style=\"text-align: center;\">Confirmed deaths:</p>\n",
       "<p style=\"text-align: center;font-size:24px;\">75200 (<span style=\"color: #ff0000;\">+109</span>)</p>\n"
      ],
      "text/plain": [
       "<IPython.core.display.HTML object>"
      ]
     },
     "metadata": {},
     "output_type": "display_data"
    }
   ],
   "source": [
    "#hide_input\n",
    "update = summary['updated']\n",
    "cases = summary['Cases']\n",
    "new = summary['Cases (+)']\n",
    "deaths = summary['Deaths']\n",
    "dnew = summary['Deaths (+)']\n",
    "\n",
    "html = HTML(overview.format(update=update, cases=cases,new=new,deaths=deaths,dnew=dnew))\n",
    "\n",
    "display(html)"
   ]
  },
  {
   "cell_type": "code",
   "execution_count": 17,
   "metadata": {
    "execution": {
     "iopub.execute_input": "2020-09-10T13:38:26.525395Z",
     "iopub.status.busy": "2020-09-10T13:38:26.524709Z",
     "iopub.status.idle": "2020-09-10T13:38:26.530584Z",
     "shell.execute_reply": "2020-09-10T13:38:26.531210Z"
    },
    "papermill": {
     "duration": 0.031693,
     "end_time": "2020-09-10T13:38:26.531364",
     "exception": false,
     "start_time": "2020-09-10T13:38:26.499671",
     "status": "completed"
    },
    "tags": []
   },
   "outputs": [],
   "source": [
    "#hide\n",
    "dt_cols = list(dft_cases.columns[1:])\n",
    "dft_ct_new_cases = dft_cases.groupby('state')[dt_cols].sum().diff(axis=1).fillna(0).astype(int)\n",
    "dft_ct_new_cases.sort_values(by = dates[-1], ascending = False,inplace = True)"
   ]
  },
  {
   "cell_type": "code",
   "execution_count": 18,
   "metadata": {
    "execution": {
     "iopub.execute_input": "2020-09-10T13:38:26.587735Z",
     "iopub.status.busy": "2020-09-10T13:38:26.587058Z",
     "iopub.status.idle": "2020-09-10T13:38:26.590689Z",
     "shell.execute_reply": "2020-09-10T13:38:26.590021Z"
    },
    "papermill": {
     "duration": 0.041261,
     "end_time": "2020-09-10T13:38:26.590835",
     "exception": false,
     "start_time": "2020-09-10T13:38:26.549574",
     "status": "completed"
    },
    "tags": []
   },
   "outputs": [
    {
     "data": {
      "text/html": [
       "<div>\n",
       "<style scoped>\n",
       "    .dataframe tbody tr th:only-of-type {\n",
       "        vertical-align: middle;\n",
       "    }\n",
       "\n",
       "    .dataframe tbody tr th {\n",
       "        vertical-align: top;\n",
       "    }\n",
       "\n",
       "    .dataframe thead th {\n",
       "        text-align: right;\n",
       "    }\n",
       "</style>\n",
       "<table border=\"1\" class=\"dataframe\">\n",
       "  <thead>\n",
       "    <tr style=\"text-align: right;\">\n",
       "      <th>states</th>\n",
       "      <th>2020-07-01</th>\n",
       "      <th>2020-07-02</th>\n",
       "      <th>2020-07-03</th>\n",
       "      <th>2020-07-04</th>\n",
       "      <th>2020-07-05</th>\n",
       "      <th>2020-07-06</th>\n",
       "      <th>2020-07-07</th>\n",
       "      <th>2020-07-08</th>\n",
       "      <th>2020-07-09</th>\n",
       "      <th>2020-07-10</th>\n",
       "      <th>...</th>\n",
       "      <th>2020-09-01</th>\n",
       "      <th>2020-09-02</th>\n",
       "      <th>2020-09-03</th>\n",
       "      <th>2020-09-04</th>\n",
       "      <th>2020-09-05</th>\n",
       "      <th>2020-09-06</th>\n",
       "      <th>2020-09-07</th>\n",
       "      <th>2020-09-08</th>\n",
       "      <th>2020-09-09</th>\n",
       "      <th>2020-09-10</th>\n",
       "    </tr>\n",
       "    <tr>\n",
       "      <th>state</th>\n",
       "      <th></th>\n",
       "      <th></th>\n",
       "      <th></th>\n",
       "      <th></th>\n",
       "      <th></th>\n",
       "      <th></th>\n",
       "      <th></th>\n",
       "      <th></th>\n",
       "      <th></th>\n",
       "      <th></th>\n",
       "      <th></th>\n",
       "      <th></th>\n",
       "      <th></th>\n",
       "      <th></th>\n",
       "      <th></th>\n",
       "      <th></th>\n",
       "      <th></th>\n",
       "      <th></th>\n",
       "      <th></th>\n",
       "      <th></th>\n",
       "      <th></th>\n",
       "    </tr>\n",
       "  </thead>\n",
       "  <tbody>\n",
       "    <tr>\n",
       "      <th>Andhra Pradesh</th>\n",
       "      <td>0</td>\n",
       "      <td>845</td>\n",
       "      <td>837</td>\n",
       "      <td>765</td>\n",
       "      <td>998</td>\n",
       "      <td>1322</td>\n",
       "      <td>1178</td>\n",
       "      <td>1062</td>\n",
       "      <td>1555</td>\n",
       "      <td>1608</td>\n",
       "      <td>...</td>\n",
       "      <td>10368</td>\n",
       "      <td>10392</td>\n",
       "      <td>10199</td>\n",
       "      <td>10776</td>\n",
       "      <td>10825</td>\n",
       "      <td>10794</td>\n",
       "      <td>8368</td>\n",
       "      <td>10601</td>\n",
       "      <td>10418</td>\n",
       "      <td>10175</td>\n",
       "    </tr>\n",
       "    <tr>\n",
       "      <th>Odisha</th>\n",
       "      <td>0</td>\n",
       "      <td>229</td>\n",
       "      <td>561</td>\n",
       "      <td>495</td>\n",
       "      <td>469</td>\n",
       "      <td>456</td>\n",
       "      <td>571</td>\n",
       "      <td>527</td>\n",
       "      <td>577</td>\n",
       "      <td>755</td>\n",
       "      <td>...</td>\n",
       "      <td>3025</td>\n",
       "      <td>3219</td>\n",
       "      <td>3631</td>\n",
       "      <td>3267</td>\n",
       "      <td>3543</td>\n",
       "      <td>3810</td>\n",
       "      <td>3861</td>\n",
       "      <td>3490</td>\n",
       "      <td>3748</td>\n",
       "      <td>3991</td>\n",
       "    </tr>\n",
       "    <tr>\n",
       "      <th>Telangana</th>\n",
       "      <td>0</td>\n",
       "      <td>1213</td>\n",
       "      <td>1892</td>\n",
       "      <td>1850</td>\n",
       "      <td>1590</td>\n",
       "      <td>1831</td>\n",
       "      <td>1879</td>\n",
       "      <td>1924</td>\n",
       "      <td>1410</td>\n",
       "      <td>1278</td>\n",
       "      <td>...</td>\n",
       "      <td>2734</td>\n",
       "      <td>2892</td>\n",
       "      <td>2817</td>\n",
       "      <td>2478</td>\n",
       "      <td>2511</td>\n",
       "      <td>2574</td>\n",
       "      <td>1802</td>\n",
       "      <td>2392</td>\n",
       "      <td>2479</td>\n",
       "      <td>2534</td>\n",
       "    </tr>\n",
       "    <tr>\n",
       "      <th>Bihar</th>\n",
       "      <td>0</td>\n",
       "      <td>478</td>\n",
       "      <td>426</td>\n",
       "      <td>349</td>\n",
       "      <td>403</td>\n",
       "      <td>280</td>\n",
       "      <td>385</td>\n",
       "      <td>749</td>\n",
       "      <td>704</td>\n",
       "      <td>352</td>\n",
       "      <td>...</td>\n",
       "      <td>1928</td>\n",
       "      <td>1969</td>\n",
       "      <td>1922</td>\n",
       "      <td>1978</td>\n",
       "      <td>1727</td>\n",
       "      <td>1797</td>\n",
       "      <td>1369</td>\n",
       "      <td>1667</td>\n",
       "      <td>1498</td>\n",
       "      <td>1543</td>\n",
       "    </tr>\n",
       "    <tr>\n",
       "      <th>Tripura</th>\n",
       "      <td>0</td>\n",
       "      <td>39</td>\n",
       "      <td>93</td>\n",
       "      <td>25</td>\n",
       "      <td>23</td>\n",
       "      <td>111</td>\n",
       "      <td>24</td>\n",
       "      <td>57</td>\n",
       "      <td>16</td>\n",
       "      <td>142</td>\n",
       "      <td>...</td>\n",
       "      <td>509</td>\n",
       "      <td>566</td>\n",
       "      <td>590</td>\n",
       "      <td>524</td>\n",
       "      <td>691</td>\n",
       "      <td>603</td>\n",
       "      <td>399</td>\n",
       "      <td>628</td>\n",
       "      <td>582</td>\n",
       "      <td>535</td>\n",
       "    </tr>\n",
       "  </tbody>\n",
       "</table>\n",
       "<p>5 rows × 72 columns</p>\n",
       "</div>"
      ],
      "text/plain": [
       "states          2020-07-01  2020-07-02  2020-07-03  2020-07-04  2020-07-05  \\\n",
       "state                                                                        \n",
       "Andhra Pradesh           0         845         837         765         998   \n",
       "Odisha                   0         229         561         495         469   \n",
       "Telangana                0        1213        1892        1850        1590   \n",
       "Bihar                    0         478         426         349         403   \n",
       "Tripura                  0          39          93          25          23   \n",
       "\n",
       "states          2020-07-06  2020-07-07  2020-07-08  2020-07-09  2020-07-10  \\\n",
       "state                                                                        \n",
       "Andhra Pradesh        1322        1178        1062        1555        1608   \n",
       "Odisha                 456         571         527         577         755   \n",
       "Telangana             1831        1879        1924        1410        1278   \n",
       "Bihar                  280         385         749         704         352   \n",
       "Tripura                111          24          57          16         142   \n",
       "\n",
       "states          ...  2020-09-01  2020-09-02  2020-09-03  2020-09-04  \\\n",
       "state           ...                                                   \n",
       "Andhra Pradesh  ...       10368       10392       10199       10776   \n",
       "Odisha          ...        3025        3219        3631        3267   \n",
       "Telangana       ...        2734        2892        2817        2478   \n",
       "Bihar           ...        1928        1969        1922        1978   \n",
       "Tripura         ...         509         566         590         524   \n",
       "\n",
       "states          2020-09-05  2020-09-06  2020-09-07  2020-09-08  2020-09-09  \\\n",
       "state                                                                        \n",
       "Andhra Pradesh       10825       10794        8368       10601       10418   \n",
       "Odisha                3543        3810        3861        3490        3748   \n",
       "Telangana             2511        2574        1802        2392        2479   \n",
       "Bihar                 1727        1797        1369        1667        1498   \n",
       "Tripura                691         603         399         628         582   \n",
       "\n",
       "states          2020-09-10  \n",
       "state                       \n",
       "Andhra Pradesh       10175  \n",
       "Odisha                3991  \n",
       "Telangana             2534  \n",
       "Bihar                 1543  \n",
       "Tripura                535  \n",
       "\n",
       "[5 rows x 72 columns]"
      ]
     },
     "execution_count": 18,
     "metadata": {},
     "output_type": "execute_result"
    }
   ],
   "source": [
    "#hide\n",
    "dft_ct_new_cases.head()"
   ]
  },
  {
   "cell_type": "code",
   "execution_count": 19,
   "metadata": {
    "execution": {
     "iopub.execute_input": "2020-09-10T13:38:26.653981Z",
     "iopub.status.busy": "2020-09-10T13:38:26.643594Z",
     "iopub.status.idle": "2020-09-10T13:38:30.529233Z",
     "shell.execute_reply": "2020-09-10T13:38:30.528631Z"
    },
    "papermill": {
     "duration": 3.918833,
     "end_time": "2020-09-10T13:38:30.529399",
     "exception": false,
     "start_time": "2020-09-10T13:38:26.610566",
     "status": "completed"
    },
    "tags": []
   },
   "outputs": [
    {
     "data": {
      "image/png": "[encoded data removed]",
      "text/plain": [
       "<Figure size 1296x2016 with 11 Axes>"
      ]
     },
     "metadata": {
      "needs_background": "light"
     },
     "output_type": "display_data"
    }
   ],
   "source": [
    "#hide_input\n",
    "df = dft_ct_new_cases.copy()\n",
    "df.loc['Total'] = df.sum()\n",
    "n = 5\n",
    "ax = []\n",
    "fig = plt.figure(figsize = (18,28))\n",
    "gs = fig.add_gridspec(n+2, 5)\n",
    "# gs = fig.add_gridspec(2, 3)\n",
    "ax1 = fig.add_subplot(gs[0, :])\n",
    "ef = df.loc['Total'].rename_axis('date').reset_index()\n",
    "ef['date'] = ef['date'].astype('datetime64[ns]')\n",
    "ax1.bar(ef.date,ef.Total,alpha=0.3,color='#007acc')\n",
    "ax1.plot(ef.date,ef.Total , marker=\"o\", color='#007acc')\n",
    "ax1.xaxis.set_major_locator(mdates.WeekdayLocator())\n",
    "ax1.xaxis.set_major_formatter(mdates.DateFormatter('%b %d'))\n",
    "ax1.text(0.02, 0.5,'India daily case count', transform = ax1.transAxes, fontsize=25);\n",
    "ax1.spines['right'].set_visible(False)\n",
    "ax1.spines['top'].set_visible(False)\n",
    "\n",
    "ax2 = fig.add_subplot(gs[1,0])\n",
    "ef = df.loc['Maharashtra'].rename_axis('date').reset_index()\n",
    "ef['date'] = ef['date'].astype('datetime64[ns]')\n",
    "\n",
    "ax2.bar(ef.date, ef.Maharashtra,color = '#007acc',alpha=0.5)\n",
    "ax2.xaxis.set_major_locator(mdates.WeekdayLocator())\n",
    "ax2.xaxis.set_major_formatter(mdates.DateFormatter('%b %d'))\n",
    "ax2.set_xticks(ax2.get_xticks()[::3])\n",
    "maxyval = ef.Maharashtra.max()\n",
    "ax2.set_ylim([0,maxyval])\n",
    "ax2.text(0.05, 0.9,'Maharashtra', transform = ax2.transAxes, fontsize=20);\n",
    "ax2.spines['right'].set_visible(False)\n",
    "ax2.spines['top'].set_visible(False)\n",
    "\n",
    "\n",
    "ax3 = fig.add_subplot(gs[1,1])\n",
    "ef = df.loc['Tamil Nadu'].rename_axis('date').reset_index()\n",
    "ef['date'] = ef['date'].astype('datetime64[ns]')\n",
    "ax3.bar(ef.date, ef['Tamil Nadu'],color = '#007acc',alpha=0.5,)\n",
    "ax3.xaxis.set_major_locator(mdates.WeekdayLocator())\n",
    "ax3.xaxis.set_major_formatter(mdates.DateFormatter('%b %d'))\n",
    "ax3.set_xticks(ax3.get_xticks()[::3])\n",
    "ax3.text(0.05, 0.9,'Tamil Nadu', transform = ax3.transAxes, fontsize=20);\n",
    "ax3.spines['right'].set_visible(False)\n",
    "ax3.spines['top'].set_visible(False)\n",
    "\n",
    "ax5 = fig.add_subplot(gs[1,3])\n",
    "ef = df.loc['Telangana'].rename_axis('date').reset_index()\n",
    "ef['date'] = ef['date'].astype('datetime64[ns]')\n",
    "ax5.bar(ef.date, ef['Telangana'],color = '#007acc',alpha=0.5,)\n",
    "ax5.xaxis.set_major_locator(mdates.WeekdayLocator())\n",
    "ax5.xaxis.set_major_formatter(mdates.DateFormatter('%b %d'))\n",
    "ax5.set_xticks(ax5.get_xticks()[::3])\n",
    "ax5.text(0.05, 0.9,'Telangana', transform = ax5.transAxes, fontsize=20);\n",
    "ax5.spines['right'].set_visible(False)\n",
    "ax5.spines['top'].set_visible(False)\n",
    "\n",
    "ax6 = fig.add_subplot(gs[1,4])\n",
    "ef = df.loc['Andhra Pradesh'].rename_axis('date').reset_index()\n",
    "ef['date'] = ef['date'].astype('datetime64[ns]')\n",
    "ax6.bar(ef.date, ef['Andhra Pradesh'],color = '#007acc',alpha=0.5,)\n",
    "ax6.xaxis.set_major_locator(mdates.WeekdayLocator())\n",
    "ax6.xaxis.set_major_formatter(mdates.DateFormatter('%b %d'))\n",
    "ax6.set_xticks(ax6.get_xticks()[::3])\n",
    "ax6.text(0.05, 1,'Andhra Pradesh', transform = ax6.transAxes, fontsize=20);\n",
    "ax6.spines['right'].set_visible(False)\n",
    "ax6.spines['top'].set_visible(False)\n",
    "\n",
    "ax4 = fig.add_subplot(gs[1,2])\n",
    "ef = df.loc['Delhi'].rename_axis('date').reset_index()\n",
    "ef['date'] = ef['date'].astype('datetime64[ns]')\n",
    "ax4.bar(ef.date, ef.Delhi,color = '#007acc',alpha=0.5)\n",
    "ax4.set_xticks([])\n",
    "ax4.xaxis.set_major_locator(mdates.WeekdayLocator())\n",
    "ax4.xaxis.set_major_formatter(mdates.DateFormatter('%b %d'))\n",
    "ax4.set_xticks(ax4.get_xticks()[::3])\n",
    "ax4.spines['right'].set_visible(False)\n",
    "ax4.spines['top'].set_visible(False)\n",
    "\n",
    "ax4.text(0.05, 1,'Delhi', transform = ax4.transAxes, fontsize=20)\n",
    "\n",
    "for i in range(n):\n",
    "    \n",
    "    ax.append(fig.add_subplot(gs[i+2,:]))\n",
    "    ef = df.iloc[i+3].rename_axis('date').reset_index()\n",
    "    ef['date'] = ef['date'].astype('datetime64[ns]')\n",
    "    ax[i].bar(ef.date,ef.iloc[:,-1],color = '#007acc',alpha=0.3)\n",
    "    ax[i].plot(ef.date,ef.iloc[:,-1],marker='o',color='#007acc')\n",
    "    ax[i].text(0.02,0.5,f'{ef.columns.values[-1]}',transform = ax[i].transAxes, fontsize = 20);\n",
    "    ax[i].xaxis.set_major_locator(mdates.WeekdayLocator())\n",
    "    ax[i].xaxis.set_major_formatter(mdates.DateFormatter('%b %d'))\n",
    "    ax[i].set_ylim([0,7000])\n",
    "    ax[i].spines['right'].set_visible(False)\n",
    "    ax[i].spines['top'].set_visible(False)\n",
    "plt.tight_layout()\n"
   ]
  },
  {
   "cell_type": "code",
   "execution_count": 20,
   "metadata": {
    "execution": {
     "iopub.execute_input": "2020-09-10T13:38:30.915985Z",
     "iopub.status.busy": "2020-09-10T13:38:30.915285Z",
     "iopub.status.idle": "2020-09-10T13:38:30.917932Z",
     "shell.execute_reply": "2020-09-10T13:38:30.918561Z"
    },
    "papermill": {
     "duration": 0.366178,
     "end_time": "2020-09-10T13:38:30.918736",
     "exception": false,
     "start_time": "2020-09-10T13:38:30.552558",
     "status": "completed"
    },
    "tags": []
   },
   "outputs": [
    {
     "name": "stdout",
     "output_type": "stream",
     "text": [
      "                                   states   Cases  Deaths  PCases  PDeaths  Cases (+)  Deaths (+)  Fatality Rate\n",
      "                              Maharashtra  967349   27787  967349    27787          0           0           2.87\n",
      "                           Andhra Pradesh  537687    4702  527512     4634      10175          68           0.87\n",
      "                               Tamil Nadu  480524    8093  480524     8093          0           0           1.68\n",
      "                                Karnataka  421730    6808  421730     6808          0           0           1.61\n",
      "                            Uttar Pradesh  285041    4112  285041     4112          0           0           1.44\n",
      "                                    Delhi  201174    4638  201174     4638          0           0           2.31\n",
      "                              West Bengal  190063    3730  190063     3730          0           0           1.96\n",
      "                                    Bihar  153735     785  152192      775       1543          10           0.51\n",
      "                                Telangana  150176     927  147642      916       2534          11           0.62\n",
      "                                   Odisha  139121     644  135130      633       3991          11           0.46\n",
      "                                    Assam  133066     396  133066      396          0           0           0.30\n",
      "                                  Gujarat  108295    3150  108295     3150          0           0           2.91\n",
      "                                   Kerala   95918     385   95918      385          0           0           0.40\n",
      "                                Rajasthan   95736    1178   95736     1178          0           0           1.23\n",
      "                                  Haryana   83353     882   83353      882          0           0           1.06\n",
      "                           Madhya Pradesh   79192    1640   79192     1640          0           0           2.07\n",
      "                                   Punjab   69684    2061   69684     2061          0           0           2.96\n",
      "                                Jharkhand   56897     512   56897      512          0           0           0.90\n",
      "                             Chhattisgarh   52932     477   52932      477          0           0           0.90\n",
      "                        Jammu and Kashmir   47542     832   47542      832          0           0           1.75\n",
      "                              Uttarakhand   27211     372   27211      372          0           0           1.37\n",
      "                                      Goa   22251     262   22251      262          0           0           1.18\n",
      "                               Puducherry   18084     347   18084      347          0           0           1.92\n",
      "                                  Tripura   17271     167   16736      161        535           6           0.97\n",
      "                         Himachal Pradesh    8147      62    8147       62          0           0           0.76\n",
      "                                  Manipur    7362      40    7362       40          0           0           0.54\n",
      "                               Chandigarh    6987      80    6704       77        283           3           1.14\n",
      "                        Arunachal Pradesh    5545       9    5545        9          0           0           0.16\n",
      "                                 Nagaland    4636       8    4375        8        261           0           0.17\n",
      "              Andaman and Nicobar Islands    3426      51    3426       51          0           0           1.49\n",
      "                                Meghalaya    3197      19    3197       19          0           0           0.59\n",
      "                                   Ladakh    3142      35    3142       35          0           0           1.11\n",
      " Dadra and Nagar Haveli and Daman and Diu    2658       2    2632        2         26           0           0.08\n",
      "                                   Sikkim    1989       7    1989        7          0           0           0.35\n",
      "                                  Mizoram    1333       0    1192        0        141           0           0.00\n",
      "                              Lakshadweep       0       0       0        0          0           0            NaN\n"
     ]
    }
   ],
   "source": [
    "#hide_input\n",
    "print(df_table.to_string(index=False))"
   ]
  },
  {
   "cell_type": "code",
   "execution_count": null,
   "metadata": {
    "papermill": {
     "duration": 0.03011,
     "end_time": "2020-09-10T13:38:30.973769",
     "exception": false,
     "start_time": "2020-09-10T13:38:30.943659",
     "status": "completed"
    },
    "tags": []
   },
   "outputs": [],
   "source": []
  },
  {
   "cell_type": "code",
   "execution_count": null,
   "metadata": {
    "papermill": {
     "duration": 0.025969,
     "end_time": "2020-09-10T13:38:31.034379",
     "exception": false,
     "start_time": "2020-09-10T13:38:31.008410",
     "status": "completed"
    },
    "tags": []
   },
   "outputs": [],
   "source": []
  }
 ],
 "metadata": {
  "kernelspec": {
   "display_name": "Python 3",
   "language": "python",
   "name": "python3"
  },
  "language_info": {
   "codemirror_mode": {
    "name": "ipython",
    "version": 3
   },
   "file_extension": ".py",
   "mimetype": "text/x-python",
   "name": "python",
   "nbconvert_exporter": "python",
   "pygments_lexer": "ipython3",
   "version": "3.6.12"
  },
  "papermill": {
   "duration": 10.295533,
   "end_time": "2020-09-10T13:38:31.570430",
   "environment_variables": {},
   "exception": null,
   "input_path": "latest.ipynb",
   "output_path": "latest.ipynb",
   "parameters": {},
   "start_time": "2020-09-10T13:38:21.274897",
   "version": "2.1.2"
  }
 },
 "nbformat": 4,
 "nbformat_minor": 4
}