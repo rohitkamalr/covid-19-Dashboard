{
 "cells": [
  {
   "cell_type": "markdown",
   "id": "colored-stack",
   "metadata": {
    "papermill": {
     "duration": 0.024869,
     "end_time": "2021-05-22T10:30:38.073525",
     "exception": false,
     "start_time": "2021-05-22T10:30:38.048656",
     "status": "completed"
    },
    "tags": []
   },
   "source": [
    "# Latest COVID-19 India Matplotlib Overview"
   ]
  },
  {
   "cell_type": "code",
   "execution_count": 1,
   "id": "light-proportion",
   "metadata": {
    "execution": {
     "iopub.execute_input": "2021-05-22T10:30:38.124749Z",
     "iopub.status.busy": "2021-05-22T10:30:38.124076Z",
     "iopub.status.idle": "2021-05-22T10:30:38.675888Z",
     "shell.execute_reply": "2021-05-22T10:30:38.675376Z"
    },
    "papermill": {
     "duration": 0.582552,
     "end_time": "2021-05-22T10:30:38.676030",
     "exception": false,
     "start_time": "2021-05-22T10:30:38.093478",
     "status": "completed"
    },
    "tags": []
   },
   "outputs": [],
   "source": [
    "#hide\n",
    "import pandas as pd\n",
    "import numpy as np\n",
    "import requests\n",
    "import json\n",
    "import matplotlib.pyplot as plt\n",
    "import matplotlib.dates as mdates\n",
    "import matplotlib as mpl\n",
    "from IPython.core.display import display,HTML\n",
    "%matplotlib inline\n",
    "from datetime import date"
   ]
  },
  {
   "cell_type": "code",
   "execution_count": 2,
   "id": "greenhouse-shooting",
   "metadata": {
    "execution": {
     "iopub.execute_input": "2021-05-22T10:30:38.717266Z",
     "iopub.status.busy": "2021-05-22T10:30:38.716698Z",
     "iopub.status.idle": "2021-05-22T10:30:39.096503Z",
     "shell.execute_reply": "2021-05-22T10:30:39.096009Z"
    },
    "papermill": {
     "duration": 0.403897,
     "end_time": "2021-05-22T10:30:39.096634",
     "exception": false,
     "start_time": "2021-05-22T10:30:38.692737",
     "status": "completed"
    },
    "tags": []
   },
   "outputs": [],
   "source": [
    "#hide\n",
    "df  = pd.read_csv('https://api.covid19india.org/csv/latest/states.csv')\n",
    "df = df[['Date','State','Confirmed','Deceased']]\n",
    "df = df.rename(columns={'Confirmed':'Cases', \"Deceased\":'Deaths'})\n",
    "df_cases = df[[\"Date\",'State','Cases']]\n",
    "df_deaths = df[['Date','State','Deaths']]\n",
    "df_cases1 = df_cases.groupby('Date')\n",
    "df_deaths1= df_deaths.groupby('Date')"
   ]
  },
  {
   "cell_type": "code",
   "execution_count": 3,
   "id": "hybrid-cathedral",
   "metadata": {
    "execution": {
     "iopub.execute_input": "2021-05-22T10:30:39.139501Z",
     "iopub.status.busy": "2021-05-22T10:30:39.138838Z",
     "iopub.status.idle": "2021-05-22T10:30:39.157392Z",
     "shell.execute_reply": "2021-05-22T10:30:39.157831Z"
    },
    "papermill": {
     "duration": 0.043032,
     "end_time": "2021-05-22T10:30:39.157960",
     "exception": false,
     "start_time": "2021-05-22T10:30:39.114928",
     "status": "completed"
    },
    "tags": []
   },
   "outputs": [],
   "source": [
    "#hide\n",
    "df_snap = pd.read_csv('data/SnapshotCases-28-July.csv')\n",
    "arr_states = df_snap['states'].unique()\n",
    "arr_dates = df['Date'].unique()\n",
    "df_snap = df_snap.set_index('states')"
   ]
  },
  {
   "cell_type": "code",
   "execution_count": 4,
   "id": "interior-belfast",
   "metadata": {
    "execution": {
     "iopub.execute_input": "2021-05-22T10:30:39.199746Z",
     "iopub.status.busy": "2021-05-22T10:30:39.198571Z",
     "iopub.status.idle": "2021-05-22T10:30:39.203220Z",
     "shell.execute_reply": "2021-05-22T10:30:39.202665Z"
    },
    "papermill": {
     "duration": 0.028001,
     "end_time": "2021-05-22T10:30:39.203334",
     "exception": false,
     "start_time": "2021-05-22T10:30:39.175333",
     "status": "completed"
    },
    "tags": []
   },
   "outputs": [
    {
     "data": {
      "text/plain": [
       "array(['Andaman and Nicobar Islands', 'Andhra Pradesh',\n",
       "       'Arunachal Pradesh', 'Assam', 'Bihar', 'Chandigarh',\n",
       "       'Dadra and Nagar Haveli and Daman and Diu', 'Delhi', 'Goa',\n",
       "       'Gujarat', 'Haryana', 'Himachal Pradesh', 'Jammu and Kashmir',\n",
       "       'Jharkhand', 'Karnataka', 'Kerala', 'Lakshadweep',\n",
       "       'Madhya Pradesh', 'Maharashtra', 'Manipur', 'Meghalaya', 'Mizoram',\n",
       "       'Nagaland', 'Odisha', 'Puducherry', 'Punjab', 'Rajasthan',\n",
       "       'Sikkim', 'Tamil Nadu', 'Telangana', 'Tripura', 'Uttar Pradesh',\n",
       "       'West Bengal', 'Chhattisgarh', 'Ladakh', 'Uttarakhand'],\n",
       "      dtype=object)"
      ]
     },
     "execution_count": 4,
     "metadata": {},
     "output_type": "execute_result"
    }
   ],
   "source": [
    "#hide\n",
    "arr_states[-9] = 'Puducherry'\n",
    "arr_states[-10] = 'Odisha'\n",
    "arr_states[6] = 'Dadra and Nagar Haveli and Daman and Diu'\n",
    "arr_states = np.append(arr_states,np.array(['Chhattisgarh','Ladakh','Uttarakhand']))\n",
    "arr_states"
   ]
  },
  {
   "cell_type": "code",
   "execution_count": 5,
   "id": "behind-manner",
   "metadata": {
    "execution": {
     "iopub.execute_input": "2021-05-22T10:30:39.256093Z",
     "iopub.status.busy": "2021-05-22T10:30:39.255520Z",
     "iopub.status.idle": "2021-05-22T10:30:39.266941Z",
     "shell.execute_reply": "2021-05-22T10:30:39.266456Z"
    },
    "papermill": {
     "duration": 0.042892,
     "end_time": "2021-05-22T10:30:39.267054",
     "exception": false,
     "start_time": "2021-05-22T10:30:39.224162",
     "status": "completed"
    },
    "tags": []
   },
   "outputs": [],
   "source": [
    "#hide\n",
    "dates = []\n",
    "for i in arr_dates:\n",
    "    if i>='2020-07-01':\n",
    "        dates.append(i)\n",
    "dict = {'states':dates}\n",
    "for i in arr_states:\n",
    "    dict[i] = [0]*len(dates)\n",
    "dft_cases = pd.DataFrame(dict)\n",
    "dft_deaths = pd.DataFrame(dict)\n"
   ]
  },
  {
   "cell_type": "code",
   "execution_count": 6,
   "id": "simplified-peter",
   "metadata": {
    "execution": {
     "iopub.execute_input": "2021-05-22T10:30:39.306941Z",
     "iopub.status.busy": "2021-05-22T10:30:39.306368Z",
     "iopub.status.idle": "2021-05-22T10:30:44.822562Z",
     "shell.execute_reply": "2021-05-22T10:30:44.822031Z"
    },
    "papermill": {
     "duration": 5.538376,
     "end_time": "2021-05-22T10:30:44.822701",
     "exception": false,
     "start_time": "2021-05-22T10:30:39.284325",
     "status": "completed"
    },
    "tags": []
   },
   "outputs": [],
   "source": [
    "#hide\n",
    "for i in range(len(dates)):\n",
    "    df1_deaths = df_deaths1.get_group(dates[i])\n",
    "    for j in range(len(df1_deaths.index)):\n",
    "        if df1_deaths.iloc[j,1] in arr_states:\n",
    "            dft_deaths.loc[i,df1_deaths.iloc[j,1]] = df1_deaths.iloc[j,2]\n",
    "dft_deaths = dft_deaths.set_index('states')"
   ]
  },
  {
   "cell_type": "code",
   "execution_count": 7,
   "id": "geological-welding",
   "metadata": {
    "execution": {
     "iopub.execute_input": "2021-05-22T10:30:44.869001Z",
     "iopub.status.busy": "2021-05-22T10:30:44.868350Z",
     "iopub.status.idle": "2021-05-22T10:30:50.382397Z",
     "shell.execute_reply": "2021-05-22T10:30:50.382854Z"
    },
    "papermill": {
     "duration": 5.540611,
     "end_time": "2021-05-22T10:30:50.383008",
     "exception": false,
     "start_time": "2021-05-22T10:30:44.842397",
     "status": "completed"
    },
    "tags": []
   },
   "outputs": [],
   "source": [
    "#hide\n",
    "for i in range(len(dates)):\n",
    "    df1_cases = df_cases1.get_group(dates[i])\n",
    "    for j in range(len(df1_cases.index)):\n",
    "        if df1_cases.iloc[j,1] in arr_states:\n",
    "            dft_cases.loc[i,df1_cases.iloc[j,1]] = df1_cases.iloc[j,2]\n",
    "dft_cases = dft_cases.set_index('states')"
   ]
  },
  {
   "cell_type": "code",
   "execution_count": 8,
   "id": "binary-ratio",
   "metadata": {
    "execution": {
     "iopub.execute_input": "2021-05-22T10:30:50.423451Z",
     "iopub.status.busy": "2021-05-22T10:30:50.422847Z",
     "iopub.status.idle": "2021-05-22T10:30:50.426428Z",
     "shell.execute_reply": "2021-05-22T10:30:50.425870Z"
    },
    "papermill": {
     "duration": 0.025592,
     "end_time": "2021-05-22T10:30:50.426536",
     "exception": false,
     "start_time": "2021-05-22T10:30:50.400944",
     "status": "completed"
    },
    "tags": []
   },
   "outputs": [],
   "source": [
    "#hide\n",
    "dft_cases = dft_cases.T\n",
    "dft_deaths = dft_deaths.T\n",
    "dt_today = dates[-1]\n",
    "dt_yday = dates[-2]"
   ]
  },
  {
   "cell_type": "code",
   "execution_count": 9,
   "id": "boolean-calculator",
   "metadata": {
    "execution": {
     "iopub.execute_input": "2021-05-22T10:30:50.465724Z",
     "iopub.status.busy": "2021-05-22T10:30:50.465160Z",
     "iopub.status.idle": "2021-05-22T10:30:50.470746Z",
     "shell.execute_reply": "2021-05-22T10:30:50.471220Z"
    },
    "papermill": {
     "duration": 0.027959,
     "end_time": "2021-05-22T10:30:50.471345",
     "exception": false,
     "start_time": "2021-05-22T10:30:50.443386",
     "status": "completed"
    },
    "tags": []
   },
   "outputs": [],
   "source": [
    "#hide\n",
    "dft_cases = dft_cases.reset_index()\n",
    "dft_deaths = dft_deaths.reset_index()\n",
    "dft_cases = dft_cases.rename(columns = {'index':'state'})\n",
    "dft_deaths = dft_deaths.rename(columns = {'index':'state'})"
   ]
  },
  {
   "cell_type": "code",
   "execution_count": 10,
   "id": "invisible-johnston",
   "metadata": {
    "execution": {
     "iopub.execute_input": "2021-05-22T10:30:50.517110Z",
     "iopub.status.busy": "2021-05-22T10:30:50.516545Z",
     "iopub.status.idle": "2021-05-22T10:30:50.518867Z",
     "shell.execute_reply": "2021-05-22T10:30:50.518387Z"
    },
    "papermill": {
     "duration": 0.030797,
     "end_time": "2021-05-22T10:30:50.518971",
     "exception": false,
     "start_time": "2021-05-22T10:30:50.488174",
     "status": "completed"
    },
    "tags": []
   },
   "outputs": [],
   "source": [
    "#hide\n",
    "dfc_cases = dft_cases.groupby('state')[dt_today].sum()\n",
    "dfc_deaths = dft_deaths.groupby('state')[dt_today].sum()\n",
    "dfp_cases = dft_cases.groupby('state')[dt_yday].sum()\n",
    "dfp_deaths = dft_deaths.groupby('state')[dt_yday].sum()"
   ]
  },
  {
   "cell_type": "code",
   "execution_count": 11,
   "id": "measured-great",
   "metadata": {
    "execution": {
     "iopub.execute_input": "2021-05-22T10:30:50.566901Z",
     "iopub.status.busy": "2021-05-22T10:30:50.566339Z",
     "iopub.status.idle": "2021-05-22T10:30:50.572429Z",
     "shell.execute_reply": "2021-05-22T10:30:50.572892Z"
    },
    "papermill": {
     "duration": 0.037001,
     "end_time": "2021-05-22T10:30:50.573010",
     "exception": false,
     "start_time": "2021-05-22T10:30:50.536009",
     "status": "completed"
    },
    "tags": []
   },
   "outputs": [
    {
     "data": {
      "text/html": [
       "<div>\n",
       "<style scoped>\n",
       "    .dataframe tbody tr th:only-of-type {\n",
       "        vertical-align: middle;\n",
       "    }\n",
       "\n",
       "    .dataframe tbody tr th {\n",
       "        vertical-align: top;\n",
       "    }\n",
       "\n",
       "    .dataframe thead th {\n",
       "        text-align: right;\n",
       "    }\n",
       "</style>\n",
       "<table border=\"1\" class=\"dataframe\">\n",
       "  <thead>\n",
       "    <tr style=\"text-align: right;\">\n",
       "      <th></th>\n",
       "      <th>states</th>\n",
       "      <th>Cases</th>\n",
       "      <th>Deaths</th>\n",
       "      <th>PCases</th>\n",
       "      <th>PDeaths</th>\n",
       "    </tr>\n",
       "  </thead>\n",
       "  <tbody>\n",
       "    <tr>\n",
       "      <th>0</th>\n",
       "      <td>Maharashtra</td>\n",
       "      <td>5527092</td>\n",
       "      <td>86618</td>\n",
       "      <td>5527092</td>\n",
       "      <td>86618</td>\n",
       "    </tr>\n",
       "    <tr>\n",
       "      <th>1</th>\n",
       "      <td>Karnataka</td>\n",
       "      <td>2367742</td>\n",
       "      <td>24207</td>\n",
       "      <td>2367742</td>\n",
       "      <td>24207</td>\n",
       "    </tr>\n",
       "    <tr>\n",
       "      <th>2</th>\n",
       "      <td>Kerala</td>\n",
       "      <td>2293633</td>\n",
       "      <td>6995</td>\n",
       "      <td>2293633</td>\n",
       "      <td>6995</td>\n",
       "    </tr>\n",
       "    <tr>\n",
       "      <th>3</th>\n",
       "      <td>Tamil Nadu</td>\n",
       "      <td>1770988</td>\n",
       "      <td>19598</td>\n",
       "      <td>1770988</td>\n",
       "      <td>19598</td>\n",
       "    </tr>\n",
       "    <tr>\n",
       "      <th>4</th>\n",
       "      <td>Uttar Pradesh</td>\n",
       "      <td>1659212</td>\n",
       "      <td>18760</td>\n",
       "      <td>1659212</td>\n",
       "      <td>18760</td>\n",
       "    </tr>\n",
       "  </tbody>\n",
       "</table>\n",
       "</div>"
      ],
      "text/plain": [
       "          states    Cases  Deaths   PCases  PDeaths\n",
       "0    Maharashtra  5527092   86618  5527092    86618\n",
       "1      Karnataka  2367742   24207  2367742    24207\n",
       "2         Kerala  2293633    6995  2293633     6995\n",
       "3     Tamil Nadu  1770988   19598  1770988    19598\n",
       "4  Uttar Pradesh  1659212   18760  1659212    18760"
      ]
     },
     "execution_count": 11,
     "metadata": {},
     "output_type": "execute_result"
    }
   ],
   "source": [
    "#hide\n",
    "df_table = pd.DataFrame({'states': dfc_cases.index, 'Cases': dfc_cases.values, 'Deaths': dfc_deaths.values, 'PCases': dfp_cases.values, 'PDeaths': dfp_deaths.values}).set_index('states')\n",
    "df_table = df_table.sort_values(by = ['Cases','Deaths'], ascending = [False, False])\n",
    "df_table = df_table.reset_index()\n",
    "df_table.head()"
   ]
  },
  {
   "cell_type": "code",
   "execution_count": 12,
   "id": "found-montreal",
   "metadata": {
    "execution": {
     "iopub.execute_input": "2021-05-22T10:30:50.612856Z",
     "iopub.status.busy": "2021-05-22T10:30:50.612281Z",
     "iopub.status.idle": "2021-05-22T10:30:50.620418Z",
     "shell.execute_reply": "2021-05-22T10:30:50.620856Z"
    },
    "papermill": {
     "duration": 0.030227,
     "end_time": "2021-05-22T10:30:50.620975",
     "exception": false,
     "start_time": "2021-05-22T10:30:50.590748",
     "status": "completed"
    },
    "tags": []
   },
   "outputs": [],
   "source": [
    "#hide\n",
    "for c in 'Cases, Deaths'.split(', '):\n",
    "    df_table[f'{c} (+)'] = (df_table[c] - df_table[f'P{c}']).clip(0)\n",
    "df_table['Fatality Rate'] = (100* df_table['Deaths']/ df_table['Cases']).round(2)"
   ]
  },
  {
   "cell_type": "code",
   "execution_count": 13,
   "id": "minus-savage",
   "metadata": {
    "execution": {
     "iopub.execute_input": "2021-05-22T10:30:50.666034Z",
     "iopub.status.busy": "2021-05-22T10:30:50.665470Z",
     "iopub.status.idle": "2021-05-22T10:30:50.668528Z",
     "shell.execute_reply": "2021-05-22T10:30:50.668051Z"
    },
    "papermill": {
     "duration": 0.030269,
     "end_time": "2021-05-22T10:30:50.668637",
     "exception": false,
     "start_time": "2021-05-22T10:30:50.638368",
     "status": "completed"
    },
    "tags": []
   },
   "outputs": [
    {
     "data": {
      "text/html": [
       "<div>\n",
       "<style scoped>\n",
       "    .dataframe tbody tr th:only-of-type {\n",
       "        vertical-align: middle;\n",
       "    }\n",
       "\n",
       "    .dataframe tbody tr th {\n",
       "        vertical-align: top;\n",
       "    }\n",
       "\n",
       "    .dataframe thead th {\n",
       "        text-align: right;\n",
       "    }\n",
       "</style>\n",
       "<table border=\"1\" class=\"dataframe\">\n",
       "  <thead>\n",
       "    <tr style=\"text-align: right;\">\n",
       "      <th></th>\n",
       "      <th>states</th>\n",
       "      <th>Cases</th>\n",
       "      <th>Deaths</th>\n",
       "      <th>PCases</th>\n",
       "      <th>PDeaths</th>\n",
       "      <th>Cases (+)</th>\n",
       "      <th>Deaths (+)</th>\n",
       "      <th>Fatality Rate</th>\n",
       "    </tr>\n",
       "  </thead>\n",
       "  <tbody>\n",
       "    <tr>\n",
       "      <th>0</th>\n",
       "      <td>Maharashtra</td>\n",
       "      <td>5527092</td>\n",
       "      <td>86618</td>\n",
       "      <td>5527092</td>\n",
       "      <td>86618</td>\n",
       "      <td>0</td>\n",
       "      <td>0</td>\n",
       "      <td>1.57</td>\n",
       "    </tr>\n",
       "    <tr>\n",
       "      <th>1</th>\n",
       "      <td>Karnataka</td>\n",
       "      <td>2367742</td>\n",
       "      <td>24207</td>\n",
       "      <td>2367742</td>\n",
       "      <td>24207</td>\n",
       "      <td>0</td>\n",
       "      <td>0</td>\n",
       "      <td>1.02</td>\n",
       "    </tr>\n",
       "    <tr>\n",
       "      <th>2</th>\n",
       "      <td>Kerala</td>\n",
       "      <td>2293633</td>\n",
       "      <td>6995</td>\n",
       "      <td>2293633</td>\n",
       "      <td>6995</td>\n",
       "      <td>0</td>\n",
       "      <td>0</td>\n",
       "      <td>0.30</td>\n",
       "    </tr>\n",
       "    <tr>\n",
       "      <th>3</th>\n",
       "      <td>Tamil Nadu</td>\n",
       "      <td>1770988</td>\n",
       "      <td>19598</td>\n",
       "      <td>1770988</td>\n",
       "      <td>19598</td>\n",
       "      <td>0</td>\n",
       "      <td>0</td>\n",
       "      <td>1.11</td>\n",
       "    </tr>\n",
       "    <tr>\n",
       "      <th>4</th>\n",
       "      <td>Uttar Pradesh</td>\n",
       "      <td>1659212</td>\n",
       "      <td>18760</td>\n",
       "      <td>1659212</td>\n",
       "      <td>18760</td>\n",
       "      <td>0</td>\n",
       "      <td>0</td>\n",
       "      <td>1.13</td>\n",
       "    </tr>\n",
       "  </tbody>\n",
       "</table>\n",
       "</div>"
      ],
      "text/plain": [
       "          states    Cases  Deaths   PCases  PDeaths  Cases (+)  Deaths (+)  \\\n",
       "0    Maharashtra  5527092   86618  5527092    86618          0           0   \n",
       "1      Karnataka  2367742   24207  2367742    24207          0           0   \n",
       "2         Kerala  2293633    6995  2293633     6995          0           0   \n",
       "3     Tamil Nadu  1770988   19598  1770988    19598          0           0   \n",
       "4  Uttar Pradesh  1659212   18760  1659212    18760          0           0   \n",
       "\n",
       "   Fatality Rate  \n",
       "0           1.57  \n",
       "1           1.02  \n",
       "2           0.30  \n",
       "3           1.11  \n",
       "4           1.13  "
      ]
     },
     "execution_count": 13,
     "metadata": {},
     "output_type": "execute_result"
    }
   ],
   "source": [
    "#hide\n",
    "df_table.head()"
   ]
  },
  {
   "cell_type": "code",
   "execution_count": 14,
   "id": "false-peter",
   "metadata": {
    "execution": {
     "iopub.execute_input": "2021-05-22T10:30:50.710156Z",
     "iopub.status.busy": "2021-05-22T10:30:50.709596Z",
     "iopub.status.idle": "2021-05-22T10:30:50.726202Z",
     "shell.execute_reply": "2021-05-22T10:30:50.726742Z"
    },
    "papermill": {
     "duration": 0.040277,
     "end_time": "2021-05-22T10:30:50.726861",
     "exception": false,
     "start_time": "2021-05-22T10:30:50.686584",
     "status": "completed"
    },
    "tags": []
   },
   "outputs": [
    {
     "data": {
      "text/plain": [
       "{'updated': '2021-05-22',\n",
       " 'since': '2021-05-21',\n",
       " 'Cases': 26305459,\n",
       " 'PCases': 26288080,\n",
       " 'Deaths': 295822,\n",
       " 'PDeaths': 295560,\n",
       " 'Cases (+)': 17379,\n",
       " 'Deaths (+)': 262}"
      ]
     },
     "execution_count": 14,
     "metadata": {},
     "output_type": "execute_result"
    }
   ],
   "source": [
    "#hide\n",
    "summary = {'updated':dates[-1], 'since':dates[-2]}\n",
    "list_names = ['Cases', 'PCases', 'Deaths', 'PDeaths', 'Cases (+)', 'Deaths (+)']\n",
    "for name in list_names:\n",
    "    summary[name] = df_table.sum()[name]\n",
    "summary"
   ]
  },
  {
   "cell_type": "code",
   "execution_count": 15,
   "id": "packed-viewer",
   "metadata": {
    "execution": {
     "iopub.execute_input": "2021-05-22T10:30:50.768604Z",
     "iopub.status.busy": "2021-05-22T10:30:50.768040Z",
     "iopub.status.idle": "2021-05-22T10:30:50.769965Z",
     "shell.execute_reply": "2021-05-22T10:30:50.770489Z"
    },
    "papermill": {
     "duration": 0.024866,
     "end_time": "2021-05-22T10:30:50.770607",
     "exception": false,
     "start_time": "2021-05-22T10:30:50.745741",
     "status": "completed"
    },
    "tags": []
   },
   "outputs": [],
   "source": [
    "#hide\n",
    "overview = '''\n",
    "<!-- #######  HTML!! #########-->\n",
    "<h1 style=\"color: #5e9ca0; text-align: center;\">India</h1>\n",
    "<p style=\"text-align: center;\">Last update: <strong>{update}</strong></p>\n",
    "<p style=\"text-align: center;\">Confirmed cases:</p>\n",
    "<p style=\"text-align: center;font-size:24px;\">{cases} (<span style=\"color: #ff0000;\">+{new}</span>)</p>\n",
    "<p style=\"text-align: center;\">Confirmed deaths:</p>\n",
    "<p style=\"text-align: center;font-size:24px;\">{deaths} (<span style=\"color: #ff0000;\">+{dnew}</span>)</p>\n",
    "'''"
   ]
  },
  {
   "cell_type": "code",
   "execution_count": 16,
   "id": "phantom-lover",
   "metadata": {
    "execution": {
     "iopub.execute_input": "2021-05-22T10:30:50.813245Z",
     "iopub.status.busy": "2021-05-22T10:30:50.812652Z",
     "iopub.status.idle": "2021-05-22T10:30:50.815734Z",
     "shell.execute_reply": "2021-05-22T10:30:50.817096Z"
    },
    "papermill": {
     "duration": 0.028886,
     "end_time": "2021-05-22T10:30:50.817415",
     "exception": false,
     "start_time": "2021-05-22T10:30:50.788529",
     "status": "completed"
    },
    "tags": []
   },
   "outputs": [
    {
     "data": {
      "text/html": [
       "\n",
       "<!-- #######  HTML!! #########-->\n",
       "<h1 style=\"color: #5e9ca0; text-align: center;\">India</h1>\n",
       "<p style=\"text-align: center;\">Last update: <strong>2021-05-22</strong></p>\n",
       "<p style=\"text-align: center;\">Confirmed cases:</p>\n",
       "<p style=\"text-align: center;font-size:24px;\">26305459 (<span style=\"color: #ff0000;\">+17379</span>)</p>\n",
       "<p style=\"text-align: center;\">Confirmed deaths:</p>\n",
       "<p style=\"text-align: center;font-size:24px;\">295822 (<span style=\"color: #ff0000;\">+262</span>)</p>\n"
      ],
      "text/plain": [
       "<IPython.core.display.HTML object>"
      ]
     },
     "metadata": {},
     "output_type": "display_data"
    }
   ],
   "source": [
    "#hide_input\n",
    "update = summary['updated']\n",
    "cases = summary['Cases']\n",
    "new = summary['Cases (+)']\n",
    "deaths = summary['Deaths']\n",
    "dnew = summary['Deaths (+)']\n",
    "\n",
    "html = HTML(overview.format(update=update, cases=cases,new=new,deaths=deaths,dnew=dnew))\n",
    "\n",
    "display(html)"
   ]
  },
  {
   "cell_type": "code",
   "execution_count": 17,
   "id": "sealed-reset",
   "metadata": {
    "execution": {
     "iopub.execute_input": "2021-05-22T10:30:50.864895Z",
     "iopub.status.busy": "2021-05-22T10:30:50.864304Z",
     "iopub.status.idle": "2021-05-22T10:30:50.870977Z",
     "shell.execute_reply": "2021-05-22T10:30:50.871495Z"
    },
    "papermill": {
     "duration": 0.033464,
     "end_time": "2021-05-22T10:30:50.871613",
     "exception": false,
     "start_time": "2021-05-22T10:30:50.838149",
     "status": "completed"
    },
    "tags": []
   },
   "outputs": [],
   "source": [
    "#hide\n",
    "dt_cols = list(dft_cases.columns[1:])\n",
    "dft_ct_new_cases = dft_cases.groupby('state')[dt_cols].sum().diff(axis=1).fillna(0).astype(int)\n",
    "dft_ct_new_cases.sort_values(by = dates[-1], ascending = False,inplace = True)"
   ]
  },
  {
   "cell_type": "code",
   "execution_count": 18,
   "id": "designed-constant",
   "metadata": {
    "execution": {
     "iopub.execute_input": "2021-05-22T10:30:50.925472Z",
     "iopub.status.busy": "2021-05-22T10:30:50.924920Z",
     "iopub.status.idle": "2021-05-22T10:30:50.927762Z",
     "shell.execute_reply": "2021-05-22T10:30:50.928242Z"
    },
    "papermill": {
     "duration": 0.038181,
     "end_time": "2021-05-22T10:30:50.928363",
     "exception": false,
     "start_time": "2021-05-22T10:30:50.890182",
     "status": "completed"
    },
    "tags": []
   },
   "outputs": [
    {
     "data": {
      "text/html": [
       "<div>\n",
       "<style scoped>\n",
       "    .dataframe tbody tr th:only-of-type {\n",
       "        vertical-align: middle;\n",
       "    }\n",
       "\n",
       "    .dataframe tbody tr th {\n",
       "        vertical-align: top;\n",
       "    }\n",
       "\n",
       "    .dataframe thead th {\n",
       "        text-align: right;\n",
       "    }\n",
       "</style>\n",
       "<table border=\"1\" class=\"dataframe\">\n",
       "  <thead>\n",
       "    <tr style=\"text-align: right;\">\n",
       "      <th>states</th>\n",
       "      <th>2020-07-01</th>\n",
       "      <th>2020-07-02</th>\n",
       "      <th>2020-07-03</th>\n",
       "      <th>2020-07-04</th>\n",
       "      <th>2020-07-05</th>\n",
       "      <th>2020-07-06</th>\n",
       "      <th>2020-07-07</th>\n",
       "      <th>2020-07-08</th>\n",
       "      <th>2020-07-09</th>\n",
       "      <th>2020-07-10</th>\n",
       "      <th>...</th>\n",
       "      <th>2021-05-13</th>\n",
       "      <th>2021-05-14</th>\n",
       "      <th>2021-05-15</th>\n",
       "      <th>2021-05-16</th>\n",
       "      <th>2021-05-17</th>\n",
       "      <th>2021-05-18</th>\n",
       "      <th>2021-05-19</th>\n",
       "      <th>2021-05-20</th>\n",
       "      <th>2021-05-21</th>\n",
       "      <th>2021-05-22</th>\n",
       "    </tr>\n",
       "    <tr>\n",
       "      <th>state</th>\n",
       "      <th></th>\n",
       "      <th></th>\n",
       "      <th></th>\n",
       "      <th></th>\n",
       "      <th></th>\n",
       "      <th></th>\n",
       "      <th></th>\n",
       "      <th></th>\n",
       "      <th></th>\n",
       "      <th></th>\n",
       "      <th></th>\n",
       "      <th></th>\n",
       "      <th></th>\n",
       "      <th></th>\n",
       "      <th></th>\n",
       "      <th></th>\n",
       "      <th></th>\n",
       "      <th></th>\n",
       "      <th></th>\n",
       "      <th></th>\n",
       "      <th></th>\n",
       "    </tr>\n",
       "  </thead>\n",
       "  <tbody>\n",
       "    <tr>\n",
       "      <th>Odisha</th>\n",
       "      <td>0</td>\n",
       "      <td>229</td>\n",
       "      <td>561</td>\n",
       "      <td>495</td>\n",
       "      <td>469</td>\n",
       "      <td>456</td>\n",
       "      <td>571</td>\n",
       "      <td>527</td>\n",
       "      <td>577</td>\n",
       "      <td>755</td>\n",
       "      <td>...</td>\n",
       "      <td>10649</td>\n",
       "      <td>12390</td>\n",
       "      <td>11805</td>\n",
       "      <td>11732</td>\n",
       "      <td>10757</td>\n",
       "      <td>10321</td>\n",
       "      <td>11099</td>\n",
       "      <td>11498</td>\n",
       "      <td>12523</td>\n",
       "      <td>11108</td>\n",
       "    </tr>\n",
       "    <tr>\n",
       "      <th>Delhi</th>\n",
       "      <td>0</td>\n",
       "      <td>2373</td>\n",
       "      <td>2520</td>\n",
       "      <td>2505</td>\n",
       "      <td>2244</td>\n",
       "      <td>1379</td>\n",
       "      <td>2008</td>\n",
       "      <td>2033</td>\n",
       "      <td>2187</td>\n",
       "      <td>2089</td>\n",
       "      <td>...</td>\n",
       "      <td>10489</td>\n",
       "      <td>8506</td>\n",
       "      <td>6430</td>\n",
       "      <td>6456</td>\n",
       "      <td>4524</td>\n",
       "      <td>4482</td>\n",
       "      <td>3846</td>\n",
       "      <td>3231</td>\n",
       "      <td>3009</td>\n",
       "      <td>2260</td>\n",
       "    </tr>\n",
       "    <tr>\n",
       "      <th>Puducherry</th>\n",
       "      <td>0</td>\n",
       "      <td>63</td>\n",
       "      <td>22</td>\n",
       "      <td>80</td>\n",
       "      <td>42</td>\n",
       "      <td>65</td>\n",
       "      <td>30</td>\n",
       "      <td>110</td>\n",
       "      <td>49</td>\n",
       "      <td>72</td>\n",
       "      <td>...</td>\n",
       "      <td>1942</td>\n",
       "      <td>1974</td>\n",
       "      <td>1598</td>\n",
       "      <td>1961</td>\n",
       "      <td>1446</td>\n",
       "      <td>1797</td>\n",
       "      <td>1759</td>\n",
       "      <td>1957</td>\n",
       "      <td>1702</td>\n",
       "      <td>1445</td>\n",
       "    </tr>\n",
       "    <tr>\n",
       "      <th>Meghalaya</th>\n",
       "      <td>0</td>\n",
       "      <td>3</td>\n",
       "      <td>4</td>\n",
       "      <td>8</td>\n",
       "      <td>2</td>\n",
       "      <td>16</td>\n",
       "      <td>6</td>\n",
       "      <td>6</td>\n",
       "      <td>13</td>\n",
       "      <td>73</td>\n",
       "      <td>...</td>\n",
       "      <td>591</td>\n",
       "      <td>627</td>\n",
       "      <td>560</td>\n",
       "      <td>569</td>\n",
       "      <td>634</td>\n",
       "      <td>906</td>\n",
       "      <td>872</td>\n",
       "      <td>1183</td>\n",
       "      <td>828</td>\n",
       "      <td>1123</td>\n",
       "    </tr>\n",
       "    <tr>\n",
       "      <th>Tripura</th>\n",
       "      <td>0</td>\n",
       "      <td>39</td>\n",
       "      <td>93</td>\n",
       "      <td>25</td>\n",
       "      <td>23</td>\n",
       "      <td>111</td>\n",
       "      <td>24</td>\n",
       "      <td>57</td>\n",
       "      <td>16</td>\n",
       "      <td>142</td>\n",
       "      <td>...</td>\n",
       "      <td>480</td>\n",
       "      <td>552</td>\n",
       "      <td>449</td>\n",
       "      <td>761</td>\n",
       "      <td>335</td>\n",
       "      <td>746</td>\n",
       "      <td>879</td>\n",
       "      <td>720</td>\n",
       "      <td>863</td>\n",
       "      <td>864</td>\n",
       "    </tr>\n",
       "  </tbody>\n",
       "</table>\n",
       "<p>5 rows × 326 columns</p>\n",
       "</div>"
      ],
      "text/plain": [
       "states      2020-07-01  2020-07-02  2020-07-03  2020-07-04  2020-07-05  \\\n",
       "state                                                                    \n",
       "Odisha               0         229         561         495         469   \n",
       "Delhi                0        2373        2520        2505        2244   \n",
       "Puducherry           0          63          22          80          42   \n",
       "Meghalaya            0           3           4           8           2   \n",
       "Tripura              0          39          93          25          23   \n",
       "\n",
       "states      2020-07-06  2020-07-07  2020-07-08  2020-07-09  2020-07-10  ...  \\\n",
       "state                                                                   ...   \n",
       "Odisha             456         571         527         577         755  ...   \n",
       "Delhi             1379        2008        2033        2187        2089  ...   \n",
       "Puducherry          65          30         110          49          72  ...   \n",
       "Meghalaya           16           6           6          13          73  ...   \n",
       "Tripura            111          24          57          16         142  ...   \n",
       "\n",
       "states      2021-05-13  2021-05-14  2021-05-15  2021-05-16  2021-05-17  \\\n",
       "state                                                                    \n",
       "Odisha           10649       12390       11805       11732       10757   \n",
       "Delhi            10489        8506        6430        6456        4524   \n",
       "Puducherry        1942        1974        1598        1961        1446   \n",
       "Meghalaya          591         627         560         569         634   \n",
       "Tripura            480         552         449         761         335   \n",
       "\n",
       "states      2021-05-18  2021-05-19  2021-05-20  2021-05-21  2021-05-22  \n",
       "state                                                                   \n",
       "Odisha           10321       11099       11498       12523       11108  \n",
       "Delhi             4482        3846        3231        3009        2260  \n",
       "Puducherry        1797        1759        1957        1702        1445  \n",
       "Meghalaya          906         872        1183         828        1123  \n",
       "Tripura            746         879         720         863         864  \n",
       "\n",
       "[5 rows x 326 columns]"
      ]
     },
     "execution_count": 18,
     "metadata": {},
     "output_type": "execute_result"
    }
   ],
   "source": [
    "#hide\n",
    "dft_ct_new_cases.head()"
   ]
  },
  {
   "cell_type": "code",
   "execution_count": 19,
   "id": "responsible-nightlife",
   "metadata": {
    "execution": {
     "iopub.execute_input": "2021-05-22T10:30:50.984258Z",
     "iopub.status.busy": "2021-05-22T10:30:50.973894Z",
     "iopub.status.idle": "2021-05-22T10:31:04.663458Z",
     "shell.execute_reply": "2021-05-22T10:31:04.664017Z"
    },
    "papermill": {
     "duration": 13.716923,
     "end_time": "2021-05-22T10:31:04.664167",
     "exception": false,
     "start_time": "2021-05-22T10:30:50.947244",
     "status": "completed"
    },
    "tags": []
   },
   "outputs": [
    {
     "data": {
      "image/png": "[encoded data removed]",
      "text/plain": [
       "<Figure size 1296x2016 with 11 Axes>"
      ]
     },
     "metadata": {
      "needs_background": "light"
     },
     "output_type": "display_data"
    }
   ],
   "source": [
    "#hide_input\n",
    "df = dft_ct_new_cases.copy()\n",
    "df.loc['Total'] = df.sum()\n",
    "n = 5\n",
    "ax = []\n",
    "fig = plt.figure(figsize = (18,28))\n",
    "gs = fig.add_gridspec(n+2, 5)\n",
    "# gs = fig.add_gridspec(2, 3)\n",
    "ax1 = fig.add_subplot(gs[0, :])\n",
    "ef = df.loc['Total'].rename_axis('date').reset_index()\n",
    "ef['date'] = ef['date'].astype('datetime64[ns]')\n",
    "ax1.bar(ef.date,ef.Total,alpha=0.3,color='#007acc')\n",
    "ax1.plot(ef.date,ef.Total , marker=\"o\", color='#007acc')\n",
    "ax1.xaxis.set_major_locator(mdates.WeekdayLocator())\n",
    "ax1.xaxis.set_major_formatter(mdates.DateFormatter('%b %d'))\n",
    "ax1.text(0.02, 0.5,'India daily case count', transform = ax1.transAxes, fontsize=25);\n",
    "ax1.spines['right'].set_visible(False)\n",
    "ax1.spines['top'].set_visible(False)\n",
    "\n",
    "ax2 = fig.add_subplot(gs[1,0])\n",
    "ef = df.loc['Maharashtra'].rename_axis('date').reset_index()\n",
    "ef['date'] = ef['date'].astype('datetime64[ns]')\n",
    "\n",
    "ax2.bar(ef.date, ef.Maharashtra,color = '#007acc',alpha=0.5)\n",
    "ax2.xaxis.set_major_locator(mdates.WeekdayLocator())\n",
    "ax2.xaxis.set_major_formatter(mdates.DateFormatter('%b %d'))\n",
    "ax2.set_xticks(ax2.get_xticks()[::3])\n",
    "maxyval = ef.Maharashtra.max()\n",
    "ax2.set_ylim([0,maxyval])\n",
    "ax2.text(0.05, 0.9,'Maharashtra', transform = ax2.transAxes, fontsize=20);\n",
    "ax2.spines['right'].set_visible(False)\n",
    "ax2.spines['top'].set_visible(False)\n",
    "\n",
    "\n",
    "ax3 = fig.add_subplot(gs[1,1])\n",
    "ef = df.loc['Tamil Nadu'].rename_axis('date').reset_index()\n",
    "ef['date'] = ef['date'].astype('datetime64[ns]')\n",
    "ax3.bar(ef.date, ef['Tamil Nadu'],color = '#007acc',alpha=0.5,)\n",
    "ax3.xaxis.set_major_locator(mdates.WeekdayLocator())\n",
    "ax3.xaxis.set_major_formatter(mdates.DateFormatter('%b %d'))\n",
    "ax3.set_xticks(ax3.get_xticks()[::3])\n",
    "ax3.text(0.05, 0.9,'Tamil Nadu', transform = ax3.transAxes, fontsize=20);\n",
    "ax3.spines['right'].set_visible(False)\n",
    "ax3.spines['top'].set_visible(False)\n",
    "\n",
    "ax5 = fig.add_subplot(gs[1,3])\n",
    "ef = df.loc['Telangana'].rename_axis('date').reset_index()\n",
    "ef['date'] = ef['date'].astype('datetime64[ns]')\n",
    "ax5.bar(ef.date, ef['Telangana'],color = '#007acc',alpha=0.5,)\n",
    "ax5.xaxis.set_major_locator(mdates.WeekdayLocator())\n",
    "ax5.xaxis.set_major_formatter(mdates.DateFormatter('%b %d'))\n",
    "ax5.set_xticks(ax5.get_xticks()[::3])\n",
    "ax5.text(0.05, 0.9,'Telangana', transform = ax5.transAxes, fontsize=20);\n",
    "ax5.spines['right'].set_visible(False)\n",
    "ax5.spines['top'].set_visible(False)\n",
    "\n",
    "ax6 = fig.add_subplot(gs[1,4])\n",
    "ef = df.loc['Andhra Pradesh'].rename_axis('date').reset_index()\n",
    "ef['date'] = ef['date'].astype('datetime64[ns]')\n",
    "ax6.bar(ef.date, ef['Andhra Pradesh'],color = '#007acc',alpha=0.5,)\n",
    "ax6.xaxis.set_major_locator(mdates.WeekdayLocator())\n",
    "ax6.xaxis.set_major_formatter(mdates.DateFormatter('%b %d'))\n",
    "ax6.set_xticks(ax6.get_xticks()[::3])\n",
    "ax6.text(0.05, 1,'Andhra Pradesh', transform = ax6.transAxes, fontsize=20);\n",
    "ax6.spines['right'].set_visible(False)\n",
    "ax6.spines['top'].set_visible(False)\n",
    "\n",
    "ax4 = fig.add_subplot(gs[1,2])\n",
    "ef = df.loc['Delhi'].rename_axis('date').reset_index()\n",
    "ef['date'] = ef['date'].astype('datetime64[ns]')\n",
    "ax4.bar(ef.date, ef.Delhi,color = '#007acc',alpha=0.5)\n",
    "ax4.set_xticks([])\n",
    "ax4.xaxis.set_major_locator(mdates.WeekdayLocator())\n",
    "ax4.xaxis.set_major_formatter(mdates.DateFormatter('%b %d'))\n",
    "ax4.set_xticks(ax4.get_xticks()[::3])\n",
    "ax4.spines['right'].set_visible(False)\n",
    "ax4.spines['top'].set_visible(False)\n",
    "\n",
    "ax4.text(0.05, 1,'Delhi', transform = ax4.transAxes, fontsize=20)\n",
    "\n",
    "for i in range(n):\n",
    "    \n",
    "    ax.append(fig.add_subplot(gs[i+2,:]))\n",
    "    ef = df.iloc[i+3].rename_axis('date').reset_index()\n",
    "    ef['date'] = ef['date'].astype('datetime64[ns]')\n",
    "    ax[i].bar(ef.date,ef.iloc[:,-1],color = '#007acc',alpha=0.3)\n",
    "    ax[i].plot(ef.date,ef.iloc[:,-1],marker='o',color='#007acc')\n",
    "    ax[i].text(0.02,0.5,f'{ef.columns.values[-1]}',transform = ax[i].transAxes, fontsize = 20);\n",
    "    ax[i].xaxis.set_major_locator(mdates.WeekdayLocator())\n",
    "    ax[i].xaxis.set_major_formatter(mdates.DateFormatter('%b %d'))\n",
    "    ax[i].set_ylim([0,7000])\n",
    "    ax[i].spines['right'].set_visible(False)\n",
    "    ax[i].spines['top'].set_visible(False)\n",
    "plt.tight_layout()\n"
   ]
  },
  {
   "cell_type": "code",
   "execution_count": 20,
   "id": "dress-forge",
   "metadata": {
    "execution": {
     "iopub.execute_input": "2021-05-22T10:31:04.721908Z",
     "iopub.status.busy": "2021-05-22T10:31:04.721341Z",
     "iopub.status.idle": "2021-05-22T10:31:04.725884Z",
     "shell.execute_reply": "2021-05-22T10:31:04.725399Z"
    },
    "papermill": {
     "duration": 0.037143,
     "end_time": "2021-05-22T10:31:04.725998",
     "exception": false,
     "start_time": "2021-05-22T10:31:04.688855",
     "status": "completed"
    },
    "tags": []
   },
   "outputs": [
    {
     "name": "stdout",
     "output_type": "stream",
     "text": [
      "                                   states    Cases  Deaths   PCases  PDeaths  Cases (+)  Deaths (+)  Fatality Rate\n",
      "                              Maharashtra  5527092   86618  5527092    86618          0           0           1.57\n",
      "                                Karnataka  2367742   24207  2367742    24207          0           0           1.02\n",
      "                                   Kerala  2293633    6995  2293633     6995          0           0           0.30\n",
      "                               Tamil Nadu  1770988   19598  1770988    19598          0           0           1.11\n",
      "                            Uttar Pradesh  1659212   18760  1659212    18760          0           0           1.13\n",
      "                           Andhra Pradesh  1542079    9904  1542079     9904          0           0           0.64\n",
      "                                    Delhi  1415219   23013  1412959    22831       2260         182           1.63\n",
      "                              West Bengal  1229805   14054  1229805    14054          0           0           1.14\n",
      "                             Chhattisgarh   941366   12391   941366    12391          0           0           1.32\n",
      "                                Rajasthan   903418    7475   903418     7475          0           0           0.83\n",
      "                                  Gujarat   780471    9469   780471     9469          0           0           1.21\n",
      "                           Madhya Pradesh   757119    7394   757119     7394          0           0           0.98\n",
      "                                  Haryana   728607    7317   728607     7317          0           0           1.00\n",
      "                                    Bihar   681199    4339   681199     4339          0           0           0.64\n",
      "                                   Odisha   679530    2509   668422     2483      11108          26           0.37\n",
      "                                Telangana   547727    3085   547727     3085          0           0           0.56\n",
      "                                   Punjab   528676   12888   528676    12888          0           0           2.44\n",
      "                                    Assam   359640    2588   359640     2588          0           0           0.72\n",
      "                                Jharkhand   327035    4760   327035     4760          0           0           1.46\n",
      "                              Uttarakhand   307566    5600   307566     5600          0           0           1.82\n",
      "                        Jammu and Kashmir   263905    3465   263905     3465          0           0           1.31\n",
      "                         Himachal Pradesh   175384    2638   175384     2638          0           0           1.50\n",
      "                                      Goa   143192    2302   143192     2302          0           0           1.61\n",
      "                               Puducherry    94612    1325    93167     1295       1445          30           1.40\n",
      "                               Chandigarh    57737     680    57737      680          0           0           1.18\n",
      "                                  Tripura    45220     454    44356      452        864           2           1.00\n",
      "                                  Manipur    42565     661    42565      661          0           0           1.55\n",
      "                                Meghalaya    28878     435    27755      414       1123          21           1.51\n",
      "                        Arunachal Pradesh    23553      92    23553       92          0           0           0.39\n",
      "                                 Nagaland    19593     258    19593      258          0           0           1.32\n",
      "                                   Ladakh    17146     173    17146      173          0           0           1.01\n",
      "                                   Sikkim    12814     221    12527      220        287           1           1.72\n",
      "                                  Mizoram    10024      30     9732       30        292           0           0.30\n",
      " Dadra and Nagar Haveli and Daman and Diu     9822       4     9822        4          0           0           0.04\n",
      "              Andaman and Nicobar Islands     6789      98     6789       98          0           0           1.44\n",
      "                              Lakshadweep     6101      22     6101       22          0           0           0.36\n"
     ]
    }
   ],
   "source": [
    "#hide_input\n",
    "print(df_table.to_string(index=False))"
   ]
  },
  {
   "cell_type": "code",
   "execution_count": null,
   "id": "quantitative-legend",
   "metadata": {
    "papermill": {
     "duration": 0.024211,
     "end_time": "2021-05-22T10:31:04.774018",
     "exception": false,
     "start_time": "2021-05-22T10:31:04.749807",
     "status": "completed"
    },
    "tags": []
   },
   "outputs": [],
   "source": []
  },
  {
   "cell_type": "code",
   "execution_count": null,
   "id": "distant-acoustic",
   "metadata": {
    "papermill": {
     "duration": 0.02404,
     "end_time": "2021-05-22T10:31:04.822053",
     "exception": false,
     "start_time": "2021-05-22T10:31:04.798013",
     "status": "completed"
    },
    "tags": []
   },
   "outputs": [],
   "source": []
  }
 ],
 "metadata": {
  "kernelspec": {
   "display_name": "Python 3",
   "language": "python",
   "name": "python3"
  },
  "language_info": {
   "codemirror_mode": {
    "name": "ipython",
    "version": 3
   },
   "file_extension": ".py",
   "mimetype": "text/x-python",
   "name": "python",
   "nbconvert_exporter": "python",
   "pygments_lexer": "ipython3",
   "version": "3.6.13"
  },
  "papermill": {
   "duration": 29.305208,
   "end_time": "2021-05-22T10:31:06.155474",
   "environment_variables": {},
   "exception": null,
   "input_path": "latest.ipynb",
   "output_path": "latest.ipynb",
   "parameters": {},
   "start_time": "2021-05-22T10:30:36.850266",
   "version": "2.1.2"
  }
 },
 "nbformat": 4,
 "nbformat_minor": 5
}