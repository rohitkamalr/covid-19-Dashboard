{
 "cells": [
  {
   "cell_type": "markdown",
   "id": "colored-stack",
   "metadata": {
    "papermill": {
     "duration": 0.023602,
     "end_time": "2021-02-01T14:31:47.434009",
     "exception": false,
     "start_time": "2021-02-01T14:31:47.410407",
     "status": "completed"
    },
    "tags": []
   },
   "source": [
    "# Latest COVID-19 India Matplotlib Overview"
   ]
  },
  {
   "cell_type": "code",
   "execution_count": 1,
   "id": "light-proportion",
   "metadata": {
    "execution": {
     "iopub.execute_input": "2021-02-01T14:31:47.487055Z",
     "iopub.status.busy": "2021-02-01T14:31:47.486396Z",
     "iopub.status.idle": "2021-02-01T14:31:48.092439Z",
     "shell.execute_reply": "2021-02-01T14:31:48.091839Z"
    },
    "papermill": {
     "duration": 0.639854,
     "end_time": "2021-02-01T14:31:48.092614",
     "exception": false,
     "start_time": "2021-02-01T14:31:47.452760",
     "status": "completed"
    },
    "tags": []
   },
   "outputs": [],
   "source": [
    "#hide\n",
    "import pandas as pd\n",
    "import numpy as np\n",
    "import requests\n",
    "import json\n",
    "import matplotlib.pyplot as plt\n",
    "import matplotlib.dates as mdates\n",
    "import matplotlib as mpl\n",
    "from IPython.core.display import display,HTML\n",
    "%matplotlib inline\n",
    "from datetime import date"
   ]
  },
  {
   "cell_type": "code",
   "execution_count": 2,
   "id": "greenhouse-shooting",
   "metadata": {
    "execution": {
     "iopub.execute_input": "2021-02-01T14:31:48.138128Z",
     "iopub.status.busy": "2021-02-01T14:31:48.137473Z",
     "iopub.status.idle": "2021-02-01T14:31:48.266192Z",
     "shell.execute_reply": "2021-02-01T14:31:48.265533Z"
    },
    "papermill": {
     "duration": 0.155092,
     "end_time": "2021-02-01T14:31:48.266343",
     "exception": false,
     "start_time": "2021-02-01T14:31:48.111251",
     "status": "completed"
    },
    "tags": []
   },
   "outputs": [],
   "source": [
    "#hide\n",
    "df  = pd.read_csv('https://api.covid19india.org/csv/latest/states.csv')\n",
    "df = df[['Date','State','Confirmed','Deceased']]\n",
    "df = df.rename(columns={'Confirmed':'Cases', \"Deceased\":'Deaths'})\n",
    "df_cases = df[[\"Date\",'State','Cases']]\n",
    "df_deaths = df[['Date','State','Deaths']]\n",
    "df_cases1 = df_cases.groupby('Date')\n",
    "df_deaths1= df_deaths.groupby('Date')"
   ]
  },
  {
   "cell_type": "code",
   "execution_count": 3,
   "id": "hybrid-cathedral",
   "metadata": {
    "execution": {
     "iopub.execute_input": "2021-02-01T14:31:48.310002Z",
     "iopub.status.busy": "2021-02-01T14:31:48.309243Z",
     "iopub.status.idle": "2021-02-01T14:31:48.328945Z",
     "shell.execute_reply": "2021-02-01T14:31:48.328462Z"
    },
    "papermill": {
     "duration": 0.044301,
     "end_time": "2021-02-01T14:31:48.329076",
     "exception": false,
     "start_time": "2021-02-01T14:31:48.284775",
     "status": "completed"
    },
    "tags": []
   },
   "outputs": [],
   "source": [
    "#hide\n",
    "df_snap = pd.read_csv('data/SnapshotCases-28-July.csv')\n",
    "arr_states = df_snap['states'].unique()\n",
    "arr_dates = df['Date'].unique()\n",
    "df_snap = df_snap.set_index('states')"
   ]
  },
  {
   "cell_type": "code",
   "execution_count": 4,
   "id": "interior-belfast",
   "metadata": {
    "execution": {
     "iopub.execute_input": "2021-02-01T14:31:48.373731Z",
     "iopub.status.busy": "2021-02-01T14:31:48.372903Z",
     "iopub.status.idle": "2021-02-01T14:31:48.377983Z",
     "shell.execute_reply": "2021-02-01T14:31:48.377389Z"
    },
    "papermill": {
     "duration": 0.031516,
     "end_time": "2021-02-01T14:31:48.378115",
     "exception": false,
     "start_time": "2021-02-01T14:31:48.346599",
     "status": "completed"
    },
    "tags": []
   },
   "outputs": [
    {
     "data": {
      "text/plain": [
       "array(['Andaman and Nicobar Islands', 'Andhra Pradesh',\n",
       "       'Arunachal Pradesh', 'Assam', 'Bihar', 'Chandigarh',\n",
       "       'Dadra and Nagar Haveli and Daman and Diu', 'Delhi', 'Goa',\n",
       "       'Gujarat', 'Haryana', 'Himachal Pradesh', 'Jammu and Kashmir',\n",
       "       'Jharkhand', 'Karnataka', 'Kerala', 'Lakshadweep',\n",
       "       'Madhya Pradesh', 'Maharashtra', 'Manipur', 'Meghalaya', 'Mizoram',\n",
       "       'Nagaland', 'Odisha', 'Puducherry', 'Punjab', 'Rajasthan',\n",
       "       'Sikkim', 'Tamil Nadu', 'Telangana', 'Tripura', 'Uttar Pradesh',\n",
       "       'West Bengal', 'Chhattisgarh', 'Ladakh', 'Uttarakhand'],\n",
       "      dtype=object)"
      ]
     },
     "execution_count": 4,
     "metadata": {},
     "output_type": "execute_result"
    }
   ],
   "source": [
    "#hide\n",
    "arr_states[-9] = 'Puducherry'\n",
    "arr_states[-10] = 'Odisha'\n",
    "arr_states[6] = 'Dadra and Nagar Haveli and Daman and Diu'\n",
    "arr_states = np.append(arr_states,np.array(['Chhattisgarh','Ladakh','Uttarakhand']))\n",
    "arr_states"
   ]
  },
  {
   "cell_type": "code",
   "execution_count": 5,
   "id": "behind-manner",
   "metadata": {
    "execution": {
     "iopub.execute_input": "2021-02-01T14:31:48.424755Z",
     "iopub.status.busy": "2021-02-01T14:31:48.424155Z",
     "iopub.status.idle": "2021-02-01T14:31:48.433156Z",
     "shell.execute_reply": "2021-02-01T14:31:48.433640Z"
    },
    "papermill": {
     "duration": 0.038201,
     "end_time": "2021-02-01T14:31:48.433794",
     "exception": false,
     "start_time": "2021-02-01T14:31:48.395593",
     "status": "completed"
    },
    "tags": []
   },
   "outputs": [],
   "source": [
    "#hide\n",
    "dates = []\n",
    "for i in arr_dates:\n",
    "    if i>='2020-07-01':\n",
    "        dates.append(i)\n",
    "dict = {'states':dates}\n",
    "for i in arr_states:\n",
    "    dict[i] = [0]*len(dates)\n",
    "dft_cases = pd.DataFrame(dict)\n",
    "dft_deaths = pd.DataFrame(dict)\n"
   ]
  },
  {
   "cell_type": "code",
   "execution_count": 6,
   "id": "simplified-peter",
   "metadata": {
    "execution": {
     "iopub.execute_input": "2021-02-01T14:31:48.477688Z",
     "iopub.status.busy": "2021-02-01T14:31:48.477087Z",
     "iopub.status.idle": "2021-02-01T14:31:51.726247Z",
     "shell.execute_reply": "2021-02-01T14:31:51.725118Z"
    },
    "papermill": {
     "duration": 3.275248,
     "end_time": "2021-02-01T14:31:51.726408",
     "exception": false,
     "start_time": "2021-02-01T14:31:48.451160",
     "status": "completed"
    },
    "tags": []
   },
   "outputs": [],
   "source": [
    "#hide\n",
    "for i in range(len(dates)):\n",
    "    df1_deaths = df_deaths1.get_group(dates[i])\n",
    "    for j in range(len(df1_deaths.index)):\n",
    "        if df1_deaths.iloc[j,1] in arr_states:\n",
    "            dft_deaths.loc[i,df1_deaths.iloc[j,1]] = df1_deaths.iloc[j,2]\n",
    "dft_deaths = dft_deaths.set_index('states')"
   ]
  },
  {
   "cell_type": "code",
   "execution_count": 7,
   "id": "geological-welding",
   "metadata": {
    "execution": {
     "iopub.execute_input": "2021-02-01T14:31:51.768296Z",
     "iopub.status.busy": "2021-02-01T14:31:51.767683Z",
     "iopub.status.idle": "2021-02-01T14:31:54.825170Z",
     "shell.execute_reply": "2021-02-01T14:31:54.824202Z"
    },
    "papermill": {
     "duration": 3.081234,
     "end_time": "2021-02-01T14:31:54.825325",
     "exception": false,
     "start_time": "2021-02-01T14:31:51.744091",
     "status": "completed"
    },
    "tags": []
   },
   "outputs": [],
   "source": [
    "#hide\n",
    "for i in range(len(dates)):\n",
    "    df1_cases = df_cases1.get_group(dates[i])\n",
    "    for j in range(len(df1_cases.index)):\n",
    "        if df1_cases.iloc[j,1] in arr_states:\n",
    "            dft_cases.loc[i,df1_cases.iloc[j,1]] = df1_cases.iloc[j,2]\n",
    "dft_cases = dft_cases.set_index('states')"
   ]
  },
  {
   "cell_type": "code",
   "execution_count": 8,
   "id": "binary-ratio",
   "metadata": {
    "execution": {
     "iopub.execute_input": "2021-02-01T14:31:54.866300Z",
     "iopub.status.busy": "2021-02-01T14:31:54.865698Z",
     "iopub.status.idle": "2021-02-01T14:31:54.867465Z",
     "shell.execute_reply": "2021-02-01T14:31:54.867939Z"
    },
    "papermill": {
     "duration": 0.025169,
     "end_time": "2021-02-01T14:31:54.868097",
     "exception": false,
     "start_time": "2021-02-01T14:31:54.842928",
     "status": "completed"
    },
    "tags": []
   },
   "outputs": [],
   "source": [
    "#hide\n",
    "dft_cases = dft_cases.T\n",
    "dft_deaths = dft_deaths.T\n",
    "dt_today = dates[-1]\n",
    "dt_yday = dates[-2]"
   ]
  },
  {
   "cell_type": "code",
   "execution_count": 9,
   "id": "boolean-calculator",
   "metadata": {
    "execution": {
     "iopub.execute_input": "2021-02-01T14:31:54.915167Z",
     "iopub.status.busy": "2021-02-01T14:31:54.914521Z",
     "iopub.status.idle": "2021-02-01T14:31:54.919251Z",
     "shell.execute_reply": "2021-02-01T14:31:54.918706Z"
    },
    "papermill": {
     "duration": 0.03325,
     "end_time": "2021-02-01T14:31:54.919384",
     "exception": false,
     "start_time": "2021-02-01T14:31:54.886134",
     "status": "completed"
    },
    "tags": []
   },
   "outputs": [],
   "source": [
    "#hide\n",
    "dft_cases = dft_cases.reset_index()\n",
    "dft_deaths = dft_deaths.reset_index()\n",
    "dft_cases = dft_cases.rename(columns = {'index':'state'})\n",
    "dft_deaths = dft_deaths.rename(columns = {'index':'state'})"
   ]
  },
  {
   "cell_type": "code",
   "execution_count": 10,
   "id": "invisible-johnston",
   "metadata": {
    "execution": {
     "iopub.execute_input": "2021-02-01T14:31:54.966944Z",
     "iopub.status.busy": "2021-02-01T14:31:54.966332Z",
     "iopub.status.idle": "2021-02-01T14:31:54.968970Z",
     "shell.execute_reply": "2021-02-01T14:31:54.968470Z"
    },
    "papermill": {
     "duration": 0.031653,
     "end_time": "2021-02-01T14:31:54.969100",
     "exception": false,
     "start_time": "2021-02-01T14:31:54.937447",
     "status": "completed"
    },
    "tags": []
   },
   "outputs": [],
   "source": [
    "#hide\n",
    "dfc_cases = dft_cases.groupby('state')[dt_today].sum()\n",
    "dfc_deaths = dft_deaths.groupby('state')[dt_today].sum()\n",
    "dfp_cases = dft_cases.groupby('state')[dt_yday].sum()\n",
    "dfp_deaths = dft_deaths.groupby('state')[dt_yday].sum()"
   ]
  },
  {
   "cell_type": "code",
   "execution_count": 11,
   "id": "measured-great",
   "metadata": {
    "execution": {
     "iopub.execute_input": "2021-02-01T14:31:55.027509Z",
     "iopub.status.busy": "2021-02-01T14:31:55.026278Z",
     "iopub.status.idle": "2021-02-01T14:31:55.032339Z",
     "shell.execute_reply": "2021-02-01T14:31:55.032845Z"
    },
    "papermill": {
     "duration": 0.045471,
     "end_time": "2021-02-01T14:31:55.032999",
     "exception": false,
     "start_time": "2021-02-01T14:31:54.987528",
     "status": "completed"
    },
    "tags": []
   },
   "outputs": [
    {
     "data": {
      "text/html": [
       "<div>\n",
       "<style scoped>\n",
       "    .dataframe tbody tr th:only-of-type {\n",
       "        vertical-align: middle;\n",
       "    }\n",
       "\n",
       "    .dataframe tbody tr th {\n",
       "        vertical-align: top;\n",
       "    }\n",
       "\n",
       "    .dataframe thead th {\n",
       "        text-align: right;\n",
       "    }\n",
       "</style>\n",
       "<table border=\"1\" class=\"dataframe\">\n",
       "  <thead>\n",
       "    <tr style=\"text-align: right;\">\n",
       "      <th></th>\n",
       "      <th>states</th>\n",
       "      <th>Cases</th>\n",
       "      <th>Deaths</th>\n",
       "      <th>PCases</th>\n",
       "      <th>PDeaths</th>\n",
       "    </tr>\n",
       "  </thead>\n",
       "  <tbody>\n",
       "    <tr>\n",
       "      <th>0</th>\n",
       "      <td>Maharashtra</td>\n",
       "      <td>2026399</td>\n",
       "      <td>51082</td>\n",
       "      <td>2026399</td>\n",
       "      <td>51082</td>\n",
       "    </tr>\n",
       "    <tr>\n",
       "      <th>1</th>\n",
       "      <td>Karnataka</td>\n",
       "      <td>939387</td>\n",
       "      <td>12217</td>\n",
       "      <td>939387</td>\n",
       "      <td>12217</td>\n",
       "    </tr>\n",
       "    <tr>\n",
       "      <th>2</th>\n",
       "      <td>Kerala</td>\n",
       "      <td>929179</td>\n",
       "      <td>3744</td>\n",
       "      <td>929179</td>\n",
       "      <td>3744</td>\n",
       "    </tr>\n",
       "    <tr>\n",
       "      <th>3</th>\n",
       "      <td>Andhra Pradesh</td>\n",
       "      <td>887836</td>\n",
       "      <td>7153</td>\n",
       "      <td>887836</td>\n",
       "      <td>7153</td>\n",
       "    </tr>\n",
       "    <tr>\n",
       "      <th>4</th>\n",
       "      <td>Tamil Nadu</td>\n",
       "      <td>838340</td>\n",
       "      <td>12356</td>\n",
       "      <td>838340</td>\n",
       "      <td>12356</td>\n",
       "    </tr>\n",
       "  </tbody>\n",
       "</table>\n",
       "</div>"
      ],
      "text/plain": [
       "           states    Cases  Deaths   PCases  PDeaths\n",
       "0     Maharashtra  2026399   51082  2026399    51082\n",
       "1       Karnataka   939387   12217   939387    12217\n",
       "2          Kerala   929179    3744   929179     3744\n",
       "3  Andhra Pradesh   887836    7153   887836     7153\n",
       "4      Tamil Nadu   838340   12356   838340    12356"
      ]
     },
     "execution_count": 11,
     "metadata": {},
     "output_type": "execute_result"
    }
   ],
   "source": [
    "#hide\n",
    "df_table = pd.DataFrame({'states': dfc_cases.index, 'Cases': dfc_cases.values, 'Deaths': dfc_deaths.values, 'PCases': dfp_cases.values, 'PDeaths': dfp_deaths.values}).set_index('states')\n",
    "df_table = df_table.sort_values(by = ['Cases','Deaths'], ascending = [False, False])\n",
    "df_table = df_table.reset_index()\n",
    "df_table.head()"
   ]
  },
  {
   "cell_type": "code",
   "execution_count": 12,
   "id": "found-montreal",
   "metadata": {
    "execution": {
     "iopub.execute_input": "2021-02-01T14:31:55.079397Z",
     "iopub.status.busy": "2021-02-01T14:31:55.078703Z",
     "iopub.status.idle": "2021-02-01T14:31:55.087549Z",
     "shell.execute_reply": "2021-02-01T14:31:55.087005Z"
    },
    "papermill": {
     "duration": 0.036478,
     "end_time": "2021-02-01T14:31:55.087683",
     "exception": false,
     "start_time": "2021-02-01T14:31:55.051205",
     "status": "completed"
    },
    "tags": []
   },
   "outputs": [],
   "source": [
    "#hide\n",
    "for c in 'Cases, Deaths'.split(', '):\n",
    "    df_table[f'{c} (+)'] = (df_table[c] - df_table[f'P{c}']).clip(0)\n",
    "df_table['Fatality Rate'] = (100* df_table['Deaths']/ df_table['Cases']).round(2)"
   ]
  },
  {
   "cell_type": "code",
   "execution_count": 13,
   "id": "minus-savage",
   "metadata": {
    "execution": {
     "iopub.execute_input": "2021-02-01T14:31:55.136703Z",
     "iopub.status.busy": "2021-02-01T14:31:55.136087Z",
     "iopub.status.idle": "2021-02-01T14:31:55.138492Z",
     "shell.execute_reply": "2021-02-01T14:31:55.139021Z"
    },
    "papermill": {
     "duration": 0.032519,
     "end_time": "2021-02-01T14:31:55.139178",
     "exception": false,
     "start_time": "2021-02-01T14:31:55.106659",
     "status": "completed"
    },
    "tags": []
   },
   "outputs": [
    {
     "data": {
      "text/html": [
       "<div>\n",
       "<style scoped>\n",
       "    .dataframe tbody tr th:only-of-type {\n",
       "        vertical-align: middle;\n",
       "    }\n",
       "\n",
       "    .dataframe tbody tr th {\n",
       "        vertical-align: top;\n",
       "    }\n",
       "\n",
       "    .dataframe thead th {\n",
       "        text-align: right;\n",
       "    }\n",
       "</style>\n",
       "<table border=\"1\" class=\"dataframe\">\n",
       "  <thead>\n",
       "    <tr style=\"text-align: right;\">\n",
       "      <th></th>\n",
       "      <th>states</th>\n",
       "      <th>Cases</th>\n",
       "      <th>Deaths</th>\n",
       "      <th>PCases</th>\n",
       "      <th>PDeaths</th>\n",
       "      <th>Cases (+)</th>\n",
       "      <th>Deaths (+)</th>\n",
       "      <th>Fatality Rate</th>\n",
       "    </tr>\n",
       "  </thead>\n",
       "  <tbody>\n",
       "    <tr>\n",
       "      <th>0</th>\n",
       "      <td>Maharashtra</td>\n",
       "      <td>2026399</td>\n",
       "      <td>51082</td>\n",
       "      <td>2026399</td>\n",
       "      <td>51082</td>\n",
       "      <td>0</td>\n",
       "      <td>0</td>\n",
       "      <td>2.52</td>\n",
       "    </tr>\n",
       "    <tr>\n",
       "      <th>1</th>\n",
       "      <td>Karnataka</td>\n",
       "      <td>939387</td>\n",
       "      <td>12217</td>\n",
       "      <td>939387</td>\n",
       "      <td>12217</td>\n",
       "      <td>0</td>\n",
       "      <td>0</td>\n",
       "      <td>1.30</td>\n",
       "    </tr>\n",
       "    <tr>\n",
       "      <th>2</th>\n",
       "      <td>Kerala</td>\n",
       "      <td>929179</td>\n",
       "      <td>3744</td>\n",
       "      <td>929179</td>\n",
       "      <td>3744</td>\n",
       "      <td>0</td>\n",
       "      <td>0</td>\n",
       "      <td>0.40</td>\n",
       "    </tr>\n",
       "    <tr>\n",
       "      <th>3</th>\n",
       "      <td>Andhra Pradesh</td>\n",
       "      <td>887836</td>\n",
       "      <td>7153</td>\n",
       "      <td>887836</td>\n",
       "      <td>7153</td>\n",
       "      <td>0</td>\n",
       "      <td>0</td>\n",
       "      <td>0.81</td>\n",
       "    </tr>\n",
       "    <tr>\n",
       "      <th>4</th>\n",
       "      <td>Tamil Nadu</td>\n",
       "      <td>838340</td>\n",
       "      <td>12356</td>\n",
       "      <td>838340</td>\n",
       "      <td>12356</td>\n",
       "      <td>0</td>\n",
       "      <td>0</td>\n",
       "      <td>1.47</td>\n",
       "    </tr>\n",
       "  </tbody>\n",
       "</table>\n",
       "</div>"
      ],
      "text/plain": [
       "           states    Cases  Deaths   PCases  PDeaths  Cases (+)  Deaths (+)  \\\n",
       "0     Maharashtra  2026399   51082  2026399    51082          0           0   \n",
       "1       Karnataka   939387   12217   939387    12217          0           0   \n",
       "2          Kerala   929179    3744   929179     3744          0           0   \n",
       "3  Andhra Pradesh   887836    7153   887836     7153          0           0   \n",
       "4      Tamil Nadu   838340   12356   838340    12356          0           0   \n",
       "\n",
       "   Fatality Rate  \n",
       "0           2.52  \n",
       "1           1.30  \n",
       "2           0.40  \n",
       "3           0.81  \n",
       "4           1.47  "
      ]
     },
     "execution_count": 13,
     "metadata": {},
     "output_type": "execute_result"
    }
   ],
   "source": [
    "#hide\n",
    "df_table.head()"
   ]
  },
  {
   "cell_type": "code",
   "execution_count": 14,
   "id": "false-peter",
   "metadata": {
    "execution": {
     "iopub.execute_input": "2021-02-01T14:31:55.184019Z",
     "iopub.status.busy": "2021-02-01T14:31:55.183385Z",
     "iopub.status.idle": "2021-02-01T14:31:55.199194Z",
     "shell.execute_reply": "2021-02-01T14:31:55.199689Z"
    },
    "papermill": {
     "duration": 0.042426,
     "end_time": "2021-02-01T14:31:55.199848",
     "exception": false,
     "start_time": "2021-02-01T14:31:55.157422",
     "status": "completed"
    },
    "tags": []
   },
   "outputs": [
    {
     "data": {
      "text/plain": [
       "{'updated': '2021-02-01',\n",
       " 'since': '2021-01-31',\n",
       " 'Cases': 10758951,\n",
       " 'PCases': 10758627,\n",
       " 'Deaths': 154433,\n",
       " 'PDeaths': 154428,\n",
       " 'Cases (+)': 324,\n",
       " 'Deaths (+)': 5}"
      ]
     },
     "execution_count": 14,
     "metadata": {},
     "output_type": "execute_result"
    }
   ],
   "source": [
    "#hide\n",
    "summary = {'updated':dates[-1], 'since':dates[-2]}\n",
    "list_names = ['Cases', 'PCases', 'Deaths', 'PDeaths', 'Cases (+)', 'Deaths (+)']\n",
    "for name in list_names:\n",
    "    summary[name] = df_table.sum()[name]\n",
    "summary"
   ]
  },
  {
   "cell_type": "code",
   "execution_count": 15,
   "id": "packed-viewer",
   "metadata": {
    "execution": {
     "iopub.execute_input": "2021-02-01T14:31:55.243394Z",
     "iopub.status.busy": "2021-02-01T14:31:55.242746Z",
     "iopub.status.idle": "2021-02-01T14:31:55.245044Z",
     "shell.execute_reply": "2021-02-01T14:31:55.244565Z"
    },
    "papermill": {
     "duration": 0.026209,
     "end_time": "2021-02-01T14:31:55.245179",
     "exception": false,
     "start_time": "2021-02-01T14:31:55.218970",
     "status": "completed"
    },
    "tags": []
   },
   "outputs": [],
   "source": [
    "#hide\n",
    "overview = '''\n",
    "<!-- #######  HTML!! #########-->\n",
    "<h1 style=\"color: #5e9ca0; text-align: center;\">India</h1>\n",
    "<p style=\"text-align: center;\">Last update: <strong>{update}</strong></p>\n",
    "<p style=\"text-align: center;\">Confirmed cases:</p>\n",
    "<p style=\"text-align: center;font-size:24px;\">{cases} (<span style=\"color: #ff0000;\">+{new}</span>)</p>\n",
    "<p style=\"text-align: center;\">Confirmed deaths:</p>\n",
    "<p style=\"text-align: center;font-size:24px;\">{deaths} (<span style=\"color: #ff0000;\">+{dnew}</span>)</p>\n",
    "'''"
   ]
  },
  {
   "cell_type": "code",
   "execution_count": 16,
   "id": "phantom-lover",
   "metadata": {
    "execution": {
     "iopub.execute_input": "2021-02-01T14:31:55.290030Z",
     "iopub.status.busy": "2021-02-01T14:31:55.289420Z",
     "iopub.status.idle": "2021-02-01T14:31:55.292525Z",
     "shell.execute_reply": "2021-02-01T14:31:55.291941Z"
    },
    "papermill": {
     "duration": 0.028004,
     "end_time": "2021-02-01T14:31:55.292658",
     "exception": false,
     "start_time": "2021-02-01T14:31:55.264654",
     "status": "completed"
    },
    "tags": []
   },
   "outputs": [
    {
     "data": {
      "text/html": [
       "\n",
       "<!-- #######  HTML!! #########-->\n",
       "<h1 style=\"color: #5e9ca0; text-align: center;\">India</h1>\n",
       "<p style=\"text-align: center;\">Last update: <strong>2021-02-01</strong></p>\n",
       "<p style=\"text-align: center;\">Confirmed cases:</p>\n",
       "<p style=\"text-align: center;font-size:24px;\">10758951 (<span style=\"color: #ff0000;\">+324</span>)</p>\n",
       "<p style=\"text-align: center;\">Confirmed deaths:</p>\n",
       "<p style=\"text-align: center;font-size:24px;\">154433 (<span style=\"color: #ff0000;\">+5</span>)</p>\n"
      ],
      "text/plain": [
       "<IPython.core.display.HTML object>"
      ]
     },
     "metadata": {},
     "output_type": "display_data"
    }
   ],
   "source": [
    "#hide_input\n",
    "update = summary['updated']\n",
    "cases = summary['Cases']\n",
    "new = summary['Cases (+)']\n",
    "deaths = summary['Deaths']\n",
    "dnew = summary['Deaths (+)']\n",
    "\n",
    "html = HTML(overview.format(update=update, cases=cases,new=new,deaths=deaths,dnew=dnew))\n",
    "\n",
    "display(html)"
   ]
  },
  {
   "cell_type": "code",
   "execution_count": 17,
   "id": "sealed-reset",
   "metadata": {
    "execution": {
     "iopub.execute_input": "2021-02-01T14:31:55.338104Z",
     "iopub.status.busy": "2021-02-01T14:31:55.337518Z",
     "iopub.status.idle": "2021-02-01T14:31:55.344850Z",
     "shell.execute_reply": "2021-02-01T14:31:55.345297Z"
    },
    "papermill": {
     "duration": 0.033653,
     "end_time": "2021-02-01T14:31:55.345453",
     "exception": false,
     "start_time": "2021-02-01T14:31:55.311800",
     "status": "completed"
    },
    "tags": []
   },
   "outputs": [],
   "source": [
    "#hide\n",
    "dt_cols = list(dft_cases.columns[1:])\n",
    "dft_ct_new_cases = dft_cases.groupby('state')[dt_cols].sum().diff(axis=1).fillna(0).astype(int)\n",
    "dft_ct_new_cases.sort_values(by = dates[-1], ascending = False,inplace = True)"
   ]
  },
  {
   "cell_type": "code",
   "execution_count": 18,
   "id": "designed-constant",
   "metadata": {
    "execution": {
     "iopub.execute_input": "2021-02-01T14:31:55.405948Z",
     "iopub.status.busy": "2021-02-01T14:31:55.405315Z",
     "iopub.status.idle": "2021-02-01T14:31:55.408442Z",
     "shell.execute_reply": "2021-02-01T14:31:55.408895Z"
    },
    "papermill": {
     "duration": 0.044054,
     "end_time": "2021-02-01T14:31:55.409056",
     "exception": false,
     "start_time": "2021-02-01T14:31:55.365002",
     "status": "completed"
    },
    "tags": []
   },
   "outputs": [
    {
     "data": {
      "text/html": [
       "<div>\n",
       "<style scoped>\n",
       "    .dataframe tbody tr th:only-of-type {\n",
       "        vertical-align: middle;\n",
       "    }\n",
       "\n",
       "    .dataframe tbody tr th {\n",
       "        vertical-align: top;\n",
       "    }\n",
       "\n",
       "    .dataframe thead th {\n",
       "        text-align: right;\n",
       "    }\n",
       "</style>\n",
       "<table border=\"1\" class=\"dataframe\">\n",
       "  <thead>\n",
       "    <tr style=\"text-align: right;\">\n",
       "      <th>states</th>\n",
       "      <th>2020-07-01</th>\n",
       "      <th>2020-07-02</th>\n",
       "      <th>2020-07-03</th>\n",
       "      <th>2020-07-04</th>\n",
       "      <th>2020-07-05</th>\n",
       "      <th>2020-07-06</th>\n",
       "      <th>2020-07-07</th>\n",
       "      <th>2020-07-08</th>\n",
       "      <th>2020-07-09</th>\n",
       "      <th>2020-07-10</th>\n",
       "      <th>...</th>\n",
       "      <th>2021-01-23</th>\n",
       "      <th>2021-01-24</th>\n",
       "      <th>2021-01-25</th>\n",
       "      <th>2021-01-26</th>\n",
       "      <th>2021-01-27</th>\n",
       "      <th>2021-01-28</th>\n",
       "      <th>2021-01-29</th>\n",
       "      <th>2021-01-30</th>\n",
       "      <th>2021-01-31</th>\n",
       "      <th>2021-02-01</th>\n",
       "    </tr>\n",
       "    <tr>\n",
       "      <th>state</th>\n",
       "      <th></th>\n",
       "      <th></th>\n",
       "      <th></th>\n",
       "      <th></th>\n",
       "      <th></th>\n",
       "      <th></th>\n",
       "      <th></th>\n",
       "      <th></th>\n",
       "      <th></th>\n",
       "      <th></th>\n",
       "      <th></th>\n",
       "      <th></th>\n",
       "      <th></th>\n",
       "      <th></th>\n",
       "      <th></th>\n",
       "      <th></th>\n",
       "      <th></th>\n",
       "      <th></th>\n",
       "      <th></th>\n",
       "      <th></th>\n",
       "      <th></th>\n",
       "    </tr>\n",
       "  </thead>\n",
       "  <tbody>\n",
       "    <tr>\n",
       "      <th>Delhi</th>\n",
       "      <td>0</td>\n",
       "      <td>2373</td>\n",
       "      <td>2520</td>\n",
       "      <td>2505</td>\n",
       "      <td>2244</td>\n",
       "      <td>1379</td>\n",
       "      <td>2008</td>\n",
       "      <td>2033</td>\n",
       "      <td>2187</td>\n",
       "      <td>2089</td>\n",
       "      <td>...</td>\n",
       "      <td>197</td>\n",
       "      <td>185</td>\n",
       "      <td>148</td>\n",
       "      <td>157</td>\n",
       "      <td>96</td>\n",
       "      <td>199</td>\n",
       "      <td>249</td>\n",
       "      <td>183</td>\n",
       "      <td>140</td>\n",
       "      <td>121</td>\n",
       "    </tr>\n",
       "    <tr>\n",
       "      <th>Telangana</th>\n",
       "      <td>0</td>\n",
       "      <td>1213</td>\n",
       "      <td>1892</td>\n",
       "      <td>1850</td>\n",
       "      <td>1590</td>\n",
       "      <td>1831</td>\n",
       "      <td>1879</td>\n",
       "      <td>1924</td>\n",
       "      <td>1410</td>\n",
       "      <td>1278</td>\n",
       "      <td>...</td>\n",
       "      <td>221</td>\n",
       "      <td>197</td>\n",
       "      <td>148</td>\n",
       "      <td>189</td>\n",
       "      <td>147</td>\n",
       "      <td>186</td>\n",
       "      <td>197</td>\n",
       "      <td>186</td>\n",
       "      <td>163</td>\n",
       "      <td>118</td>\n",
       "    </tr>\n",
       "    <tr>\n",
       "      <th>Odisha</th>\n",
       "      <td>0</td>\n",
       "      <td>229</td>\n",
       "      <td>561</td>\n",
       "      <td>495</td>\n",
       "      <td>469</td>\n",
       "      <td>456</td>\n",
       "      <td>571</td>\n",
       "      <td>527</td>\n",
       "      <td>577</td>\n",
       "      <td>755</td>\n",
       "      <td>...</td>\n",
       "      <td>130</td>\n",
       "      <td>150</td>\n",
       "      <td>130</td>\n",
       "      <td>99</td>\n",
       "      <td>138</td>\n",
       "      <td>113</td>\n",
       "      <td>70</td>\n",
       "      <td>108</td>\n",
       "      <td>114</td>\n",
       "      <td>79</td>\n",
       "    </tr>\n",
       "    <tr>\n",
       "      <th>Nagaland</th>\n",
       "      <td>0</td>\n",
       "      <td>34</td>\n",
       "      <td>4</td>\n",
       "      <td>24</td>\n",
       "      <td>27</td>\n",
       "      <td>35</td>\n",
       "      <td>19</td>\n",
       "      <td>13</td>\n",
       "      <td>16</td>\n",
       "      <td>59</td>\n",
       "      <td>...</td>\n",
       "      <td>4</td>\n",
       "      <td>0</td>\n",
       "      <td>3</td>\n",
       "      <td>2</td>\n",
       "      <td>2</td>\n",
       "      <td>1</td>\n",
       "      <td>4</td>\n",
       "      <td>2</td>\n",
       "      <td>4</td>\n",
       "      <td>5</td>\n",
       "    </tr>\n",
       "    <tr>\n",
       "      <th>Tripura</th>\n",
       "      <td>0</td>\n",
       "      <td>39</td>\n",
       "      <td>93</td>\n",
       "      <td>25</td>\n",
       "      <td>23</td>\n",
       "      <td>111</td>\n",
       "      <td>24</td>\n",
       "      <td>57</td>\n",
       "      <td>16</td>\n",
       "      <td>142</td>\n",
       "      <td>...</td>\n",
       "      <td>2</td>\n",
       "      <td>0</td>\n",
       "      <td>1</td>\n",
       "      <td>1</td>\n",
       "      <td>0</td>\n",
       "      <td>0</td>\n",
       "      <td>2</td>\n",
       "      <td>2</td>\n",
       "      <td>0</td>\n",
       "      <td>1</td>\n",
       "    </tr>\n",
       "  </tbody>\n",
       "</table>\n",
       "<p>5 rows × 216 columns</p>\n",
       "</div>"
      ],
      "text/plain": [
       "states     2020-07-01  2020-07-02  2020-07-03  2020-07-04  2020-07-05  \\\n",
       "state                                                                   \n",
       "Delhi               0        2373        2520        2505        2244   \n",
       "Telangana           0        1213        1892        1850        1590   \n",
       "Odisha              0         229         561         495         469   \n",
       "Nagaland            0          34           4          24          27   \n",
       "Tripura             0          39          93          25          23   \n",
       "\n",
       "states     2020-07-06  2020-07-07  2020-07-08  2020-07-09  2020-07-10  ...  \\\n",
       "state                                                                  ...   \n",
       "Delhi            1379        2008        2033        2187        2089  ...   \n",
       "Telangana        1831        1879        1924        1410        1278  ...   \n",
       "Odisha            456         571         527         577         755  ...   \n",
       "Nagaland           35          19          13          16          59  ...   \n",
       "Tripura           111          24          57          16         142  ...   \n",
       "\n",
       "states     2021-01-23  2021-01-24  2021-01-25  2021-01-26  2021-01-27  \\\n",
       "state                                                                   \n",
       "Delhi             197         185         148         157          96   \n",
       "Telangana         221         197         148         189         147   \n",
       "Odisha            130         150         130          99         138   \n",
       "Nagaland            4           0           3           2           2   \n",
       "Tripura             2           0           1           1           0   \n",
       "\n",
       "states     2021-01-28  2021-01-29  2021-01-30  2021-01-31  2021-02-01  \n",
       "state                                                                  \n",
       "Delhi             199         249         183         140         121  \n",
       "Telangana         186         197         186         163         118  \n",
       "Odisha            113          70         108         114          79  \n",
       "Nagaland            1           4           2           4           5  \n",
       "Tripura             0           2           2           0           1  \n",
       "\n",
       "[5 rows x 216 columns]"
      ]
     },
     "execution_count": 18,
     "metadata": {},
     "output_type": "execute_result"
    }
   ],
   "source": [
    "#hide\n",
    "dft_ct_new_cases.head()"
   ]
  },
  {
   "cell_type": "code",
   "execution_count": 19,
   "id": "responsible-nightlife",
   "metadata": {
    "execution": {
     "iopub.execute_input": "2021-02-01T14:31:55.513596Z",
     "iopub.status.busy": "2021-02-01T14:31:55.482750Z",
     "iopub.status.idle": "2021-02-01T14:32:02.873855Z",
     "shell.execute_reply": "2021-02-01T14:32:02.874335Z"
    },
    "papermill": {
     "duration": 7.443558,
     "end_time": "2021-02-01T14:32:02.874491",
     "exception": false,
     "start_time": "2021-02-01T14:31:55.430933",
     "status": "completed"
    },
    "tags": []
   },
   "outputs": [
    {
     "data": {
      "image/png": "[encoded data removed]",
      "text/plain": [
       "<Figure size 1296x2016 with 11 Axes>"
      ]
     },
     "metadata": {
      "needs_background": "light"
     },
     "output_type": "display_data"
    }
   ],
   "source": [
    "#hide_input\n",
    "df = dft_ct_new_cases.copy()\n",
    "df.loc['Total'] = df.sum()\n",
    "n = 5\n",
    "ax = []\n",
    "fig = plt.figure(figsize = (18,28))\n",
    "gs = fig.add_gridspec(n+2, 5)\n",
    "# gs = fig.add_gridspec(2, 3)\n",
    "ax1 = fig.add_subplot(gs[0, :])\n",
    "ef = df.loc['Total'].rename_axis('date').reset_index()\n",
    "ef['date'] = ef['date'].astype('datetime64[ns]')\n",
    "ax1.bar(ef.date,ef.Total,alpha=0.3,color='#007acc')\n",
    "ax1.plot(ef.date,ef.Total , marker=\"o\", color='#007acc')\n",
    "ax1.xaxis.set_major_locator(mdates.WeekdayLocator())\n",
    "ax1.xaxis.set_major_formatter(mdates.DateFormatter('%b %d'))\n",
    "ax1.text(0.02, 0.5,'India daily case count', transform = ax1.transAxes, fontsize=25);\n",
    "ax1.spines['right'].set_visible(False)\n",
    "ax1.spines['top'].set_visible(False)\n",
    "\n",
    "ax2 = fig.add_subplot(gs[1,0])\n",
    "ef = df.loc['Maharashtra'].rename_axis('date').reset_index()\n",
    "ef['date'] = ef['date'].astype('datetime64[ns]')\n",
    "\n",
    "ax2.bar(ef.date, ef.Maharashtra,color = '#007acc',alpha=0.5)\n",
    "ax2.xaxis.set_major_locator(mdates.WeekdayLocator())\n",
    "ax2.xaxis.set_major_formatter(mdates.DateFormatter('%b %d'))\n",
    "ax2.set_xticks(ax2.get_xticks()[::3])\n",
    "maxyval = ef.Maharashtra.max()\n",
    "ax2.set_ylim([0,maxyval])\n",
    "ax2.text(0.05, 0.9,'Maharashtra', transform = ax2.transAxes, fontsize=20);\n",
    "ax2.spines['right'].set_visible(False)\n",
    "ax2.spines['top'].set_visible(False)\n",
    "\n",
    "\n",
    "ax3 = fig.add_subplot(gs[1,1])\n",
    "ef = df.loc['Tamil Nadu'].rename_axis('date').reset_index()\n",
    "ef['date'] = ef['date'].astype('datetime64[ns]')\n",
    "ax3.bar(ef.date, ef['Tamil Nadu'],color = '#007acc',alpha=0.5,)\n",
    "ax3.xaxis.set_major_locator(mdates.WeekdayLocator())\n",
    "ax3.xaxis.set_major_formatter(mdates.DateFormatter('%b %d'))\n",
    "ax3.set_xticks(ax3.get_xticks()[::3])\n",
    "ax3.text(0.05, 0.9,'Tamil Nadu', transform = ax3.transAxes, fontsize=20);\n",
    "ax3.spines['right'].set_visible(False)\n",
    "ax3.spines['top'].set_visible(False)\n",
    "\n",
    "ax5 = fig.add_subplot(gs[1,3])\n",
    "ef = df.loc['Telangana'].rename_axis('date').reset_index()\n",
    "ef['date'] = ef['date'].astype('datetime64[ns]')\n",
    "ax5.bar(ef.date, ef['Telangana'],color = '#007acc',alpha=0.5,)\n",
    "ax5.xaxis.set_major_locator(mdates.WeekdayLocator())\n",
    "ax5.xaxis.set_major_formatter(mdates.DateFormatter('%b %d'))\n",
    "ax5.set_xticks(ax5.get_xticks()[::3])\n",
    "ax5.text(0.05, 0.9,'Telangana', transform = ax5.transAxes, fontsize=20);\n",
    "ax5.spines['right'].set_visible(False)\n",
    "ax5.spines['top'].set_visible(False)\n",
    "\n",
    "ax6 = fig.add_subplot(gs[1,4])\n",
    "ef = df.loc['Andhra Pradesh'].rename_axis('date').reset_index()\n",
    "ef['date'] = ef['date'].astype('datetime64[ns]')\n",
    "ax6.bar(ef.date, ef['Andhra Pradesh'],color = '#007acc',alpha=0.5,)\n",
    "ax6.xaxis.set_major_locator(mdates.WeekdayLocator())\n",
    "ax6.xaxis.set_major_formatter(mdates.DateFormatter('%b %d'))\n",
    "ax6.set_xticks(ax6.get_xticks()[::3])\n",
    "ax6.text(0.05, 1,'Andhra Pradesh', transform = ax6.transAxes, fontsize=20);\n",
    "ax6.spines['right'].set_visible(False)\n",
    "ax6.spines['top'].set_visible(False)\n",
    "\n",
    "ax4 = fig.add_subplot(gs[1,2])\n",
    "ef = df.loc['Delhi'].rename_axis('date').reset_index()\n",
    "ef['date'] = ef['date'].astype('datetime64[ns]')\n",
    "ax4.bar(ef.date, ef.Delhi,color = '#007acc',alpha=0.5)\n",
    "ax4.set_xticks([])\n",
    "ax4.xaxis.set_major_locator(mdates.WeekdayLocator())\n",
    "ax4.xaxis.set_major_formatter(mdates.DateFormatter('%b %d'))\n",
    "ax4.set_xticks(ax4.get_xticks()[::3])\n",
    "ax4.spines['right'].set_visible(False)\n",
    "ax4.spines['top'].set_visible(False)\n",
    "\n",
    "ax4.text(0.05, 1,'Delhi', transform = ax4.transAxes, fontsize=20)\n",
    "\n",
    "for i in range(n):\n",
    "    \n",
    "    ax.append(fig.add_subplot(gs[i+2,:]))\n",
    "    ef = df.iloc[i+3].rename_axis('date').reset_index()\n",
    "    ef['date'] = ef['date'].astype('datetime64[ns]')\n",
    "    ax[i].bar(ef.date,ef.iloc[:,-1],color = '#007acc',alpha=0.3)\n",
    "    ax[i].plot(ef.date,ef.iloc[:,-1],marker='o',color='#007acc')\n",
    "    ax[i].text(0.02,0.5,f'{ef.columns.values[-1]}',transform = ax[i].transAxes, fontsize = 20);\n",
    "    ax[i].xaxis.set_major_locator(mdates.WeekdayLocator())\n",
    "    ax[i].xaxis.set_major_formatter(mdates.DateFormatter('%b %d'))\n",
    "    ax[i].set_ylim([0,7000])\n",
    "    ax[i].spines['right'].set_visible(False)\n",
    "    ax[i].spines['top'].set_visible(False)\n",
    "plt.tight_layout()\n"
   ]
  },
  {
   "cell_type": "code",
   "execution_count": 20,
   "id": "dress-forge",
   "metadata": {
    "execution": {
     "iopub.execute_input": "2021-02-01T14:32:02.934362Z",
     "iopub.status.busy": "2021-02-01T14:32:02.933733Z",
     "iopub.status.idle": "2021-02-01T14:32:02.936243Z",
     "shell.execute_reply": "2021-02-01T14:32:02.936734Z"
    },
    "papermill": {
     "duration": 0.037743,
     "end_time": "2021-02-01T14:32:02.936886",
     "exception": false,
     "start_time": "2021-02-01T14:32:02.899143",
     "status": "completed"
    },
    "tags": []
   },
   "outputs": [
    {
     "name": "stdout",
     "output_type": "stream",
     "text": [
      "                                   states    Cases  Deaths   PCases  PDeaths  Cases (+)  Deaths (+)  Fatality Rate\n",
      "                              Maharashtra  2026399   51082  2026399    51082          0           0           2.52\n",
      "                                Karnataka   939387   12217   939387    12217          0           0           1.30\n",
      "                                   Kerala   929179    3744   929179     3744          0           0           0.40\n",
      "                           Andhra Pradesh   887836    7153   887836     7153          0           0           0.81\n",
      "                               Tamil Nadu   838340   12356   838340    12356          0           0           1.47\n",
      "                                    Delhi   635217   10856   635096    10853        121           3           1.71\n",
      "                            Uttar Pradesh   600299    8658   600299     8658          0           0           1.44\n",
      "                              West Bengal   569998   10173   569998    10173          0           0           1.78\n",
      "                                   Odisha   335151    1959   335072     1959         79           0           0.58\n",
      "                                Rajasthan   317491    2766   317491     2766          0           0           0.87\n",
      "                             Chhattisgarh   305367    3701   305367     3701          0           0           1.21\n",
      "                                Telangana   294587    1601   294469     1599        118           2           0.54\n",
      "                                  Haryana   267897    3018   267897     3018          0           0           1.13\n",
      "                                  Gujarat   261540    4387   261540     4387          0           0           1.68\n",
      "                                    Bihar   260719    1501   260719     1501          0           0           0.58\n",
      "                           Madhya Pradesh   255112    3810   255112     3810          0           0           1.49\n",
      "                                    Assam   217141    1082   217141     1082          0           0           0.50\n",
      "                                   Punjab   173276    5615   173276     5615          0           0           3.24\n",
      "                        Jammu and Kashmir   124506    1936   124506     1936          0           0           1.55\n",
      "                                Jharkhand   118692    1072   118692     1072          0           0           0.90\n",
      "                              Uttarakhand    96129    1644    96129     1644          0           0           1.71\n",
      "                         Himachal Pradesh    57536     967    57536      967          0           0           1.68\n",
      "                                      Goa    53409     768    53409      768          0           0           1.44\n",
      "                               Puducherry    39068     648    39068      648          0           0           1.66\n",
      "                                  Tripura    33348     388    33347      388          1           0           1.16\n",
      "                                  Manipur    29068     371    29068      371          0           0           1.28\n",
      "                               Chandigarh    20925     334    20925      334          0           0           1.60\n",
      "                        Arunachal Pradesh    16828      56    16828       56          0           0           0.33\n",
      "                                Meghalaya    13764     146    13764      146          0           0           1.06\n",
      "                                 Nagaland    12099      88    12094       88          5           0           0.73\n",
      "                                   Ladakh     9720     130     9720      130          0           0           1.34\n",
      "                                   Sikkim     6090     133     6090      133          0           0           2.18\n",
      "              Andaman and Nicobar Islands     4994      62     4994       62          0           0           1.24\n",
      "                                  Mizoram     4372       9     4372        9          0           0           0.21\n",
      " Dadra and Nagar Haveli and Daman and Diu     3380       2     3380        2          0           0           0.06\n",
      "                              Lakshadweep       87       0       87        0          0           0           0.00\n"
     ]
    }
   ],
   "source": [
    "#hide_input\n",
    "print(df_table.to_string(index=False))"
   ]
  },
  {
   "cell_type": "code",
   "execution_count": null,
   "id": "quantitative-legend",
   "metadata": {
    "papermill": {
     "duration": 0.028996,
     "end_time": "2021-02-01T14:32:02.994951",
     "exception": false,
     "start_time": "2021-02-01T14:32:02.965955",
     "status": "completed"
    },
    "tags": []
   },
   "outputs": [],
   "source": []
  },
  {
   "cell_type": "code",
   "execution_count": null,
   "id": "distant-acoustic",
   "metadata": {
    "papermill": {
     "duration": 0.026663,
     "end_time": "2021-02-01T14:32:03.048354",
     "exception": false,
     "start_time": "2021-02-01T14:32:03.021691",
     "status": "completed"
    },
    "tags": []
   },
   "outputs": [],
   "source": []
  }
 ],
 "metadata": {
  "kernelspec": {
   "display_name": "Python 3",
   "language": "python",
   "name": "python3"
  },
  "language_info": {
   "codemirror_mode": {
    "name": "ipython",
    "version": 3
   },
   "file_extension": ".py",
   "mimetype": "text/x-python",
   "name": "python",
   "nbconvert_exporter": "python",
   "pygments_lexer": "ipython3",
   "version": "3.6.12"
  },
  "papermill": {
   "duration": 18.342171,
   "end_time": "2021-02-01T14:32:04.652887",
   "environment_variables": {},
   "exception": null,
   "input_path": "latest.ipynb",
   "output_path": "latest.ipynb",
   "parameters": {},
   "start_time": "2021-02-01T14:31:46.310716",
   "version": "2.1.2"
  }
 },
 "nbformat": 4,
 "nbformat_minor": 5
}