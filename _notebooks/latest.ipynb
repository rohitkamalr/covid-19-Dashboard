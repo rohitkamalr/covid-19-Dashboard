{
 "cells": [
  {
   "cell_type": "markdown",
   "id": "colored-stack",
   "metadata": {
    "papermill": {
     "duration": 0.021529,
     "end_time": "2021-02-10T14:24:31.884797",
     "exception": false,
     "start_time": "2021-02-10T14:24:31.863268",
     "status": "completed"
    },
    "tags": []
   },
   "source": [
    "# Latest COVID-19 India Matplotlib Overview"
   ]
  },
  {
   "cell_type": "code",
   "execution_count": 1,
   "id": "light-proportion",
   "metadata": {
    "execution": {
     "iopub.execute_input": "2021-02-10T14:24:31.934223Z",
     "iopub.status.busy": "2021-02-10T14:24:31.933572Z",
     "iopub.status.idle": "2021-02-10T14:24:32.519209Z",
     "shell.execute_reply": "2021-02-10T14:24:32.518624Z"
    },
    "papermill": {
     "duration": 0.616446,
     "end_time": "2021-02-10T14:24:32.519371",
     "exception": false,
     "start_time": "2021-02-10T14:24:31.902925",
     "status": "completed"
    },
    "tags": []
   },
   "outputs": [],
   "source": [
    "#hide\n",
    "import pandas as pd\n",
    "import numpy as np\n",
    "import requests\n",
    "import json\n",
    "import matplotlib.pyplot as plt\n",
    "import matplotlib.dates as mdates\n",
    "import matplotlib as mpl\n",
    "from IPython.core.display import display,HTML\n",
    "%matplotlib inline\n",
    "from datetime import date"
   ]
  },
  {
   "cell_type": "code",
   "execution_count": 2,
   "id": "greenhouse-shooting",
   "metadata": {
    "execution": {
     "iopub.execute_input": "2021-02-10T14:24:32.563754Z",
     "iopub.status.busy": "2021-02-10T14:24:32.563094Z",
     "iopub.status.idle": "2021-02-10T14:24:32.782620Z",
     "shell.execute_reply": "2021-02-10T14:24:32.782083Z"
    },
    "papermill": {
     "duration": 0.245016,
     "end_time": "2021-02-10T14:24:32.782762",
     "exception": false,
     "start_time": "2021-02-10T14:24:32.537746",
     "status": "completed"
    },
    "tags": []
   },
   "outputs": [],
   "source": [
    "#hide\n",
    "df  = pd.read_csv('https://api.covid19india.org/csv/latest/states.csv')\n",
    "df = df[['Date','State','Confirmed','Deceased']]\n",
    "df = df.rename(columns={'Confirmed':'Cases', \"Deceased\":'Deaths'})\n",
    "df_cases = df[[\"Date\",'State','Cases']]\n",
    "df_deaths = df[['Date','State','Deaths']]\n",
    "df_cases1 = df_cases.groupby('Date')\n",
    "df_deaths1= df_deaths.groupby('Date')"
   ]
  },
  {
   "cell_type": "code",
   "execution_count": 3,
   "id": "hybrid-cathedral",
   "metadata": {
    "execution": {
     "iopub.execute_input": "2021-02-10T14:24:32.824559Z",
     "iopub.status.busy": "2021-02-10T14:24:32.823883Z",
     "iopub.status.idle": "2021-02-10T14:24:32.841994Z",
     "shell.execute_reply": "2021-02-10T14:24:32.841489Z"
    },
    "papermill": {
     "duration": 0.041001,
     "end_time": "2021-02-10T14:24:32.842108",
     "exception": false,
     "start_time": "2021-02-10T14:24:32.801107",
     "status": "completed"
    },
    "tags": []
   },
   "outputs": [],
   "source": [
    "#hide\n",
    "df_snap = pd.read_csv('data/SnapshotCases-28-July.csv')\n",
    "arr_states = df_snap['states'].unique()\n",
    "arr_dates = df['Date'].unique()\n",
    "df_snap = df_snap.set_index('states')"
   ]
  },
  {
   "cell_type": "code",
   "execution_count": 4,
   "id": "interior-belfast",
   "metadata": {
    "execution": {
     "iopub.execute_input": "2021-02-10T14:24:32.882782Z",
     "iopub.status.busy": "2021-02-10T14:24:32.882169Z",
     "iopub.status.idle": "2021-02-10T14:24:32.885592Z",
     "shell.execute_reply": "2021-02-10T14:24:32.885052Z"
    },
    "papermill": {
     "duration": 0.027197,
     "end_time": "2021-02-10T14:24:32.885712",
     "exception": false,
     "start_time": "2021-02-10T14:24:32.858515",
     "status": "completed"
    },
    "tags": []
   },
   "outputs": [
    {
     "data": {
      "text/plain": [
       "array(['Andaman and Nicobar Islands', 'Andhra Pradesh',\n",
       "       'Arunachal Pradesh', 'Assam', 'Bihar', 'Chandigarh',\n",
       "       'Dadra and Nagar Haveli and Daman and Diu', 'Delhi', 'Goa',\n",
       "       'Gujarat', 'Haryana', 'Himachal Pradesh', 'Jammu and Kashmir',\n",
       "       'Jharkhand', 'Karnataka', 'Kerala', 'Lakshadweep',\n",
       "       'Madhya Pradesh', 'Maharashtra', 'Manipur', 'Meghalaya', 'Mizoram',\n",
       "       'Nagaland', 'Odisha', 'Puducherry', 'Punjab', 'Rajasthan',\n",
       "       'Sikkim', 'Tamil Nadu', 'Telangana', 'Tripura', 'Uttar Pradesh',\n",
       "       'West Bengal', 'Chhattisgarh', 'Ladakh', 'Uttarakhand'],\n",
       "      dtype=object)"
      ]
     },
     "execution_count": 4,
     "metadata": {},
     "output_type": "execute_result"
    }
   ],
   "source": [
    "#hide\n",
    "arr_states[-9] = 'Puducherry'\n",
    "arr_states[-10] = 'Odisha'\n",
    "arr_states[6] = 'Dadra and Nagar Haveli and Daman and Diu'\n",
    "arr_states = np.append(arr_states,np.array(['Chhattisgarh','Ladakh','Uttarakhand']))\n",
    "arr_states"
   ]
  },
  {
   "cell_type": "code",
   "execution_count": 5,
   "id": "behind-manner",
   "metadata": {
    "execution": {
     "iopub.execute_input": "2021-02-10T14:24:32.944868Z",
     "iopub.status.busy": "2021-02-10T14:24:32.944228Z",
     "iopub.status.idle": "2021-02-10T14:24:32.947616Z",
     "shell.execute_reply": "2021-02-10T14:24:32.948270Z"
    },
    "papermill": {
     "duration": 0.044066,
     "end_time": "2021-02-10T14:24:32.948402",
     "exception": false,
     "start_time": "2021-02-10T14:24:32.904336",
     "status": "completed"
    },
    "tags": []
   },
   "outputs": [],
   "source": [
    "#hide\n",
    "dates = []\n",
    "for i in arr_dates:\n",
    "    if i>='2020-07-01':\n",
    "        dates.append(i)\n",
    "dict = {'states':dates}\n",
    "for i in arr_states:\n",
    "    dict[i] = [0]*len(dates)\n",
    "dft_cases = pd.DataFrame(dict)\n",
    "dft_deaths = pd.DataFrame(dict)\n"
   ]
  },
  {
   "cell_type": "code",
   "execution_count": 6,
   "id": "simplified-peter",
   "metadata": {
    "execution": {
     "iopub.execute_input": "2021-02-10T14:24:32.988896Z",
     "iopub.status.busy": "2021-02-10T14:24:32.988280Z",
     "iopub.status.idle": "2021-02-10T14:24:37.073601Z",
     "shell.execute_reply": "2021-02-10T14:24:37.072949Z"
    },
    "papermill": {
     "duration": 4.108064,
     "end_time": "2021-02-10T14:24:37.073743",
     "exception": false,
     "start_time": "2021-02-10T14:24:32.965679",
     "status": "completed"
    },
    "tags": []
   },
   "outputs": [],
   "source": [
    "#hide\n",
    "for i in range(len(dates)):\n",
    "    df1_deaths = df_deaths1.get_group(dates[i])\n",
    "    for j in range(len(df1_deaths.index)):\n",
    "        if df1_deaths.iloc[j,1] in arr_states:\n",
    "            dft_deaths.loc[i,df1_deaths.iloc[j,1]] = df1_deaths.iloc[j,2]\n",
    "dft_deaths = dft_deaths.set_index('states')"
   ]
  },
  {
   "cell_type": "code",
   "execution_count": 7,
   "id": "geological-welding",
   "metadata": {
    "execution": {
     "iopub.execute_input": "2021-02-10T14:24:37.118290Z",
     "iopub.status.busy": "2021-02-10T14:24:37.117502Z",
     "iopub.status.idle": "2021-02-10T14:24:41.231252Z",
     "shell.execute_reply": "2021-02-10T14:24:41.230363Z"
    },
    "papermill": {
     "duration": 4.138089,
     "end_time": "2021-02-10T14:24:41.231388",
     "exception": false,
     "start_time": "2021-02-10T14:24:37.093299",
     "status": "completed"
    },
    "tags": []
   },
   "outputs": [],
   "source": [
    "#hide\n",
    "for i in range(len(dates)):\n",
    "    df1_cases = df_cases1.get_group(dates[i])\n",
    "    for j in range(len(df1_cases.index)):\n",
    "        if df1_cases.iloc[j,1] in arr_states:\n",
    "            dft_cases.loc[i,df1_cases.iloc[j,1]] = df1_cases.iloc[j,2]\n",
    "dft_cases = dft_cases.set_index('states')"
   ]
  },
  {
   "cell_type": "code",
   "execution_count": 8,
   "id": "binary-ratio",
   "metadata": {
    "execution": {
     "iopub.execute_input": "2021-02-10T14:24:41.272502Z",
     "iopub.status.busy": "2021-02-10T14:24:41.271425Z",
     "iopub.status.idle": "2021-02-10T14:24:41.273162Z",
     "shell.execute_reply": "2021-02-10T14:24:41.273673Z"
    },
    "papermill": {
     "duration": 0.024228,
     "end_time": "2021-02-10T14:24:41.273825",
     "exception": false,
     "start_time": "2021-02-10T14:24:41.249597",
     "status": "completed"
    },
    "tags": []
   },
   "outputs": [],
   "source": [
    "#hide\n",
    "dft_cases = dft_cases.T\n",
    "dft_deaths = dft_deaths.T\n",
    "dt_today = dates[-1]\n",
    "dt_yday = dates[-2]"
   ]
  },
  {
   "cell_type": "code",
   "execution_count": 9,
   "id": "boolean-calculator",
   "metadata": {
    "execution": {
     "iopub.execute_input": "2021-02-10T14:24:41.316487Z",
     "iopub.status.busy": "2021-02-10T14:24:41.315850Z",
     "iopub.status.idle": "2021-02-10T14:24:41.319699Z",
     "shell.execute_reply": "2021-02-10T14:24:41.320308Z"
    },
    "papermill": {
     "duration": 0.028386,
     "end_time": "2021-02-10T14:24:41.320438",
     "exception": false,
     "start_time": "2021-02-10T14:24:41.292052",
     "status": "completed"
    },
    "tags": []
   },
   "outputs": [],
   "source": [
    "#hide\n",
    "dft_cases = dft_cases.reset_index()\n",
    "dft_deaths = dft_deaths.reset_index()\n",
    "dft_cases = dft_cases.rename(columns = {'index':'state'})\n",
    "dft_deaths = dft_deaths.rename(columns = {'index':'state'})"
   ]
  },
  {
   "cell_type": "code",
   "execution_count": 10,
   "id": "invisible-johnston",
   "metadata": {
    "execution": {
     "iopub.execute_input": "2021-02-10T14:24:41.362100Z",
     "iopub.status.busy": "2021-02-10T14:24:41.361456Z",
     "iopub.status.idle": "2021-02-10T14:24:41.370724Z",
     "shell.execute_reply": "2021-02-10T14:24:41.371234Z"
    },
    "papermill": {
     "duration": 0.031939,
     "end_time": "2021-02-10T14:24:41.371360",
     "exception": false,
     "start_time": "2021-02-10T14:24:41.339421",
     "status": "completed"
    },
    "tags": []
   },
   "outputs": [],
   "source": [
    "#hide\n",
    "dfc_cases = dft_cases.groupby('state')[dt_today].sum()\n",
    "dfc_deaths = dft_deaths.groupby('state')[dt_today].sum()\n",
    "dfp_cases = dft_cases.groupby('state')[dt_yday].sum()\n",
    "dfp_deaths = dft_deaths.groupby('state')[dt_yday].sum()"
   ]
  },
  {
   "cell_type": "code",
   "execution_count": 11,
   "id": "measured-great",
   "metadata": {
    "execution": {
     "iopub.execute_input": "2021-02-10T14:24:41.419708Z",
     "iopub.status.busy": "2021-02-10T14:24:41.419098Z",
     "iopub.status.idle": "2021-02-10T14:24:41.427187Z",
     "shell.execute_reply": "2021-02-10T14:24:41.426698Z"
    },
    "papermill": {
     "duration": 0.038759,
     "end_time": "2021-02-10T14:24:41.427295",
     "exception": false,
     "start_time": "2021-02-10T14:24:41.388536",
     "status": "completed"
    },
    "tags": []
   },
   "outputs": [
    {
     "data": {
      "text/html": [
       "<div>\n",
       "<style scoped>\n",
       "    .dataframe tbody tr th:only-of-type {\n",
       "        vertical-align: middle;\n",
       "    }\n",
       "\n",
       "    .dataframe tbody tr th {\n",
       "        vertical-align: top;\n",
       "    }\n",
       "\n",
       "    .dataframe thead th {\n",
       "        text-align: right;\n",
       "    }\n",
       "</style>\n",
       "<table border=\"1\" class=\"dataframe\">\n",
       "  <thead>\n",
       "    <tr style=\"text-align: right;\">\n",
       "      <th></th>\n",
       "      <th>states</th>\n",
       "      <th>Cases</th>\n",
       "      <th>Deaths</th>\n",
       "      <th>PCases</th>\n",
       "      <th>PDeaths</th>\n",
       "    </tr>\n",
       "  </thead>\n",
       "  <tbody>\n",
       "    <tr>\n",
       "      <th>0</th>\n",
       "      <td>Maharashtra</td>\n",
       "      <td>2048802</td>\n",
       "      <td>51360</td>\n",
       "      <td>2048802</td>\n",
       "      <td>51360</td>\n",
       "    </tr>\n",
       "    <tr>\n",
       "      <th>1</th>\n",
       "      <td>Kerala</td>\n",
       "      <td>977395</td>\n",
       "      <td>3903</td>\n",
       "      <td>977395</td>\n",
       "      <td>3903</td>\n",
       "    </tr>\n",
       "    <tr>\n",
       "      <th>2</th>\n",
       "      <td>Karnataka</td>\n",
       "      <td>943212</td>\n",
       "      <td>12241</td>\n",
       "      <td>943212</td>\n",
       "      <td>12241</td>\n",
       "    </tr>\n",
       "    <tr>\n",
       "      <th>3</th>\n",
       "      <td>Andhra Pradesh</td>\n",
       "      <td>888555</td>\n",
       "      <td>7160</td>\n",
       "      <td>888555</td>\n",
       "      <td>7160</td>\n",
       "    </tr>\n",
       "    <tr>\n",
       "      <th>4</th>\n",
       "      <td>Tamil Nadu</td>\n",
       "      <td>842730</td>\n",
       "      <td>12391</td>\n",
       "      <td>842730</td>\n",
       "      <td>12391</td>\n",
       "    </tr>\n",
       "  </tbody>\n",
       "</table>\n",
       "</div>"
      ],
      "text/plain": [
       "           states    Cases  Deaths   PCases  PDeaths\n",
       "0     Maharashtra  2048802   51360  2048802    51360\n",
       "1          Kerala   977395    3903   977395     3903\n",
       "2       Karnataka   943212   12241   943212    12241\n",
       "3  Andhra Pradesh   888555    7160   888555     7160\n",
       "4      Tamil Nadu   842730   12391   842730    12391"
      ]
     },
     "execution_count": 11,
     "metadata": {},
     "output_type": "execute_result"
    }
   ],
   "source": [
    "#hide\n",
    "df_table = pd.DataFrame({'states': dfc_cases.index, 'Cases': dfc_cases.values, 'Deaths': dfc_deaths.values, 'PCases': dfp_cases.values, 'PDeaths': dfp_deaths.values}).set_index('states')\n",
    "df_table = df_table.sort_values(by = ['Cases','Deaths'], ascending = [False, False])\n",
    "df_table = df_table.reset_index()\n",
    "df_table.head()"
   ]
  },
  {
   "cell_type": "code",
   "execution_count": 12,
   "id": "found-montreal",
   "metadata": {
    "execution": {
     "iopub.execute_input": "2021-02-10T14:24:41.467540Z",
     "iopub.status.busy": "2021-02-10T14:24:41.466936Z",
     "iopub.status.idle": "2021-02-10T14:24:41.475354Z",
     "shell.execute_reply": "2021-02-10T14:24:41.474839Z"
    },
    "papermill": {
     "duration": 0.030622,
     "end_time": "2021-02-10T14:24:41.475473",
     "exception": false,
     "start_time": "2021-02-10T14:24:41.444851",
     "status": "completed"
    },
    "tags": []
   },
   "outputs": [],
   "source": [
    "#hide\n",
    "for c in 'Cases, Deaths'.split(', '):\n",
    "    df_table[f'{c} (+)'] = (df_table[c] - df_table[f'P{c}']).clip(0)\n",
    "df_table['Fatality Rate'] = (100* df_table['Deaths']/ df_table['Cases']).round(2)"
   ]
  },
  {
   "cell_type": "code",
   "execution_count": 13,
   "id": "minus-savage",
   "metadata": {
    "execution": {
     "iopub.execute_input": "2021-02-10T14:24:41.521971Z",
     "iopub.status.busy": "2021-02-10T14:24:41.521361Z",
     "iopub.status.idle": "2021-02-10T14:24:41.524965Z",
     "shell.execute_reply": "2021-02-10T14:24:41.524349Z"
    },
    "papermill": {
     "duration": 0.03198,
     "end_time": "2021-02-10T14:24:41.525106",
     "exception": false,
     "start_time": "2021-02-10T14:24:41.493126",
     "status": "completed"
    },
    "tags": []
   },
   "outputs": [
    {
     "data": {
      "text/html": [
       "<div>\n",
       "<style scoped>\n",
       "    .dataframe tbody tr th:only-of-type {\n",
       "        vertical-align: middle;\n",
       "    }\n",
       "\n",
       "    .dataframe tbody tr th {\n",
       "        vertical-align: top;\n",
       "    }\n",
       "\n",
       "    .dataframe thead th {\n",
       "        text-align: right;\n",
       "    }\n",
       "</style>\n",
       "<table border=\"1\" class=\"dataframe\">\n",
       "  <thead>\n",
       "    <tr style=\"text-align: right;\">\n",
       "      <th></th>\n",
       "      <th>states</th>\n",
       "      <th>Cases</th>\n",
       "      <th>Deaths</th>\n",
       "      <th>PCases</th>\n",
       "      <th>PDeaths</th>\n",
       "      <th>Cases (+)</th>\n",
       "      <th>Deaths (+)</th>\n",
       "      <th>Fatality Rate</th>\n",
       "    </tr>\n",
       "  </thead>\n",
       "  <tbody>\n",
       "    <tr>\n",
       "      <th>0</th>\n",
       "      <td>Maharashtra</td>\n",
       "      <td>2048802</td>\n",
       "      <td>51360</td>\n",
       "      <td>2048802</td>\n",
       "      <td>51360</td>\n",
       "      <td>0</td>\n",
       "      <td>0</td>\n",
       "      <td>2.51</td>\n",
       "    </tr>\n",
       "    <tr>\n",
       "      <th>1</th>\n",
       "      <td>Kerala</td>\n",
       "      <td>977395</td>\n",
       "      <td>3903</td>\n",
       "      <td>977395</td>\n",
       "      <td>3903</td>\n",
       "      <td>0</td>\n",
       "      <td>0</td>\n",
       "      <td>0.40</td>\n",
       "    </tr>\n",
       "    <tr>\n",
       "      <th>2</th>\n",
       "      <td>Karnataka</td>\n",
       "      <td>943212</td>\n",
       "      <td>12241</td>\n",
       "      <td>943212</td>\n",
       "      <td>12241</td>\n",
       "      <td>0</td>\n",
       "      <td>0</td>\n",
       "      <td>1.30</td>\n",
       "    </tr>\n",
       "    <tr>\n",
       "      <th>3</th>\n",
       "      <td>Andhra Pradesh</td>\n",
       "      <td>888555</td>\n",
       "      <td>7160</td>\n",
       "      <td>888555</td>\n",
       "      <td>7160</td>\n",
       "      <td>0</td>\n",
       "      <td>0</td>\n",
       "      <td>0.81</td>\n",
       "    </tr>\n",
       "    <tr>\n",
       "      <th>4</th>\n",
       "      <td>Tamil Nadu</td>\n",
       "      <td>842730</td>\n",
       "      <td>12391</td>\n",
       "      <td>842730</td>\n",
       "      <td>12391</td>\n",
       "      <td>0</td>\n",
       "      <td>0</td>\n",
       "      <td>1.47</td>\n",
       "    </tr>\n",
       "  </tbody>\n",
       "</table>\n",
       "</div>"
      ],
      "text/plain": [
       "           states    Cases  Deaths   PCases  PDeaths  Cases (+)  Deaths (+)  \\\n",
       "0     Maharashtra  2048802   51360  2048802    51360          0           0   \n",
       "1          Kerala   977395    3903   977395     3903          0           0   \n",
       "2       Karnataka   943212   12241   943212    12241          0           0   \n",
       "3  Andhra Pradesh   888555    7160   888555     7160          0           0   \n",
       "4      Tamil Nadu   842730   12391   842730    12391          0           0   \n",
       "\n",
       "   Fatality Rate  \n",
       "0           2.51  \n",
       "1           0.40  \n",
       "2           1.30  \n",
       "3           0.81  \n",
       "4           1.47  "
      ]
     },
     "execution_count": 13,
     "metadata": {},
     "output_type": "execute_result"
    }
   ],
   "source": [
    "#hide\n",
    "df_table.head()"
   ]
  },
  {
   "cell_type": "code",
   "execution_count": 14,
   "id": "false-peter",
   "metadata": {
    "execution": {
     "iopub.execute_input": "2021-02-10T14:24:41.568346Z",
     "iopub.status.busy": "2021-02-10T14:24:41.567695Z",
     "iopub.status.idle": "2021-02-10T14:24:41.586107Z",
     "shell.execute_reply": "2021-02-10T14:24:41.586668Z"
    },
    "papermill": {
     "duration": 0.043681,
     "end_time": "2021-02-10T14:24:41.586809",
     "exception": false,
     "start_time": "2021-02-10T14:24:41.543128",
     "status": "completed"
    },
    "tags": []
   },
   "outputs": [
    {
     "data": {
      "text/plain": [
       "{'updated': '2021-02-10',\n",
       " 'since': '2021-02-09',\n",
       " 'Cases': 10858753,\n",
       " 'PCases': 10858305,\n",
       " 'Deaths': 155285,\n",
       " 'PDeaths': 155280,\n",
       " 'Cases (+)': 448,\n",
       " 'Deaths (+)': 5}"
      ]
     },
     "execution_count": 14,
     "metadata": {},
     "output_type": "execute_result"
    }
   ],
   "source": [
    "#hide\n",
    "summary = {'updated':dates[-1], 'since':dates[-2]}\n",
    "list_names = ['Cases', 'PCases', 'Deaths', 'PDeaths', 'Cases (+)', 'Deaths (+)']\n",
    "for name in list_names:\n",
    "    summary[name] = df_table.sum()[name]\n",
    "summary"
   ]
  },
  {
   "cell_type": "code",
   "execution_count": 15,
   "id": "packed-viewer",
   "metadata": {
    "execution": {
     "iopub.execute_input": "2021-02-10T14:24:41.628756Z",
     "iopub.status.busy": "2021-02-10T14:24:41.628125Z",
     "iopub.status.idle": "2021-02-10T14:24:41.630169Z",
     "shell.execute_reply": "2021-02-10T14:24:41.630652Z"
    },
    "papermill": {
     "duration": 0.02526,
     "end_time": "2021-02-10T14:24:41.630789",
     "exception": false,
     "start_time": "2021-02-10T14:24:41.605529",
     "status": "completed"
    },
    "tags": []
   },
   "outputs": [],
   "source": [
    "#hide\n",
    "overview = '''\n",
    "<!-- #######  HTML!! #########-->\n",
    "<h1 style=\"color: #5e9ca0; text-align: center;\">India</h1>\n",
    "<p style=\"text-align: center;\">Last update: <strong>{update}</strong></p>\n",
    "<p style=\"text-align: center;\">Confirmed cases:</p>\n",
    "<p style=\"text-align: center;font-size:24px;\">{cases} (<span style=\"color: #ff0000;\">+{new}</span>)</p>\n",
    "<p style=\"text-align: center;\">Confirmed deaths:</p>\n",
    "<p style=\"text-align: center;font-size:24px;\">{deaths} (<span style=\"color: #ff0000;\">+{dnew}</span>)</p>\n",
    "'''"
   ]
  },
  {
   "cell_type": "code",
   "execution_count": 16,
   "id": "phantom-lover",
   "metadata": {
    "execution": {
     "iopub.execute_input": "2021-02-10T14:24:41.674859Z",
     "iopub.status.busy": "2021-02-10T14:24:41.673763Z",
     "iopub.status.idle": "2021-02-10T14:24:41.677440Z",
     "shell.execute_reply": "2021-02-10T14:24:41.678025Z"
    },
    "papermill": {
     "duration": 0.028963,
     "end_time": "2021-02-10T14:24:41.678153",
     "exception": false,
     "start_time": "2021-02-10T14:24:41.649190",
     "status": "completed"
    },
    "tags": []
   },
   "outputs": [
    {
     "data": {
      "text/html": [
       "\n",
       "<!-- #######  HTML!! #########-->\n",
       "<h1 style=\"color: #5e9ca0; text-align: center;\">India</h1>\n",
       "<p style=\"text-align: center;\">Last update: <strong>2021-02-10</strong></p>\n",
       "<p style=\"text-align: center;\">Confirmed cases:</p>\n",
       "<p style=\"text-align: center;font-size:24px;\">10858753 (<span style=\"color: #ff0000;\">+448</span>)</p>\n",
       "<p style=\"text-align: center;\">Confirmed deaths:</p>\n",
       "<p style=\"text-align: center;font-size:24px;\">155285 (<span style=\"color: #ff0000;\">+5</span>)</p>\n"
      ],
      "text/plain": [
       "<IPython.core.display.HTML object>"
      ]
     },
     "metadata": {},
     "output_type": "display_data"
    }
   ],
   "source": [
    "#hide_input\n",
    "update = summary['updated']\n",
    "cases = summary['Cases']\n",
    "new = summary['Cases (+)']\n",
    "deaths = summary['Deaths']\n",
    "dnew = summary['Deaths (+)']\n",
    "\n",
    "html = HTML(overview.format(update=update, cases=cases,new=new,deaths=deaths,dnew=dnew))\n",
    "\n",
    "display(html)"
   ]
  },
  {
   "cell_type": "code",
   "execution_count": 17,
   "id": "sealed-reset",
   "metadata": {
    "execution": {
     "iopub.execute_input": "2021-02-10T14:24:41.726366Z",
     "iopub.status.busy": "2021-02-10T14:24:41.725752Z",
     "iopub.status.idle": "2021-02-10T14:24:41.732937Z",
     "shell.execute_reply": "2021-02-10T14:24:41.733527Z"
    },
    "papermill": {
     "duration": 0.035273,
     "end_time": "2021-02-10T14:24:41.733650",
     "exception": false,
     "start_time": "2021-02-10T14:24:41.698377",
     "status": "completed"
    },
    "tags": []
   },
   "outputs": [],
   "source": [
    "#hide\n",
    "dt_cols = list(dft_cases.columns[1:])\n",
    "dft_ct_new_cases = dft_cases.groupby('state')[dt_cols].sum().diff(axis=1).fillna(0).astype(int)\n",
    "dft_ct_new_cases.sort_values(by = dates[-1], ascending = False,inplace = True)"
   ]
  },
  {
   "cell_type": "code",
   "execution_count": 18,
   "id": "designed-constant",
   "metadata": {
    "execution": {
     "iopub.execute_input": "2021-02-10T14:24:41.793292Z",
     "iopub.status.busy": "2021-02-10T14:24:41.792624Z",
     "iopub.status.idle": "2021-02-10T14:24:41.796251Z",
     "shell.execute_reply": "2021-02-10T14:24:41.795700Z"
    },
    "papermill": {
     "duration": 0.042706,
     "end_time": "2021-02-10T14:24:41.796373",
     "exception": false,
     "start_time": "2021-02-10T14:24:41.753667",
     "status": "completed"
    },
    "tags": []
   },
   "outputs": [
    {
     "data": {
      "text/html": [
       "<div>\n",
       "<style scoped>\n",
       "    .dataframe tbody tr th:only-of-type {\n",
       "        vertical-align: middle;\n",
       "    }\n",
       "\n",
       "    .dataframe tbody tr th {\n",
       "        vertical-align: top;\n",
       "    }\n",
       "\n",
       "    .dataframe thead th {\n",
       "        text-align: right;\n",
       "    }\n",
       "</style>\n",
       "<table border=\"1\" class=\"dataframe\">\n",
       "  <thead>\n",
       "    <tr style=\"text-align: right;\">\n",
       "      <th>states</th>\n",
       "      <th>2020-07-01</th>\n",
       "      <th>2020-07-02</th>\n",
       "      <th>2020-07-03</th>\n",
       "      <th>2020-07-04</th>\n",
       "      <th>2020-07-05</th>\n",
       "      <th>2020-07-06</th>\n",
       "      <th>2020-07-07</th>\n",
       "      <th>2020-07-08</th>\n",
       "      <th>2020-07-09</th>\n",
       "      <th>2020-07-10</th>\n",
       "      <th>...</th>\n",
       "      <th>2021-02-01</th>\n",
       "      <th>2021-02-02</th>\n",
       "      <th>2021-02-03</th>\n",
       "      <th>2021-02-04</th>\n",
       "      <th>2021-02-05</th>\n",
       "      <th>2021-02-06</th>\n",
       "      <th>2021-02-07</th>\n",
       "      <th>2021-02-08</th>\n",
       "      <th>2021-02-09</th>\n",
       "      <th>2021-02-10</th>\n",
       "    </tr>\n",
       "    <tr>\n",
       "      <th>state</th>\n",
       "      <th></th>\n",
       "      <th></th>\n",
       "      <th></th>\n",
       "      <th></th>\n",
       "      <th></th>\n",
       "      <th></th>\n",
       "      <th></th>\n",
       "      <th></th>\n",
       "      <th></th>\n",
       "      <th></th>\n",
       "      <th></th>\n",
       "      <th></th>\n",
       "      <th></th>\n",
       "      <th></th>\n",
       "      <th></th>\n",
       "      <th></th>\n",
       "      <th></th>\n",
       "      <th></th>\n",
       "      <th></th>\n",
       "      <th></th>\n",
       "      <th></th>\n",
       "    </tr>\n",
       "  </thead>\n",
       "  <tbody>\n",
       "    <tr>\n",
       "      <th>Telangana</th>\n",
       "      <td>0</td>\n",
       "      <td>1213</td>\n",
       "      <td>1892</td>\n",
       "      <td>1850</td>\n",
       "      <td>1590</td>\n",
       "      <td>1831</td>\n",
       "      <td>1879</td>\n",
       "      <td>1924</td>\n",
       "      <td>1410</td>\n",
       "      <td>1278</td>\n",
       "      <td>...</td>\n",
       "      <td>118</td>\n",
       "      <td>152</td>\n",
       "      <td>185</td>\n",
       "      <td>177</td>\n",
       "      <td>169</td>\n",
       "      <td>161</td>\n",
       "      <td>150</td>\n",
       "      <td>101</td>\n",
       "      <td>149</td>\n",
       "      <td>157</td>\n",
       "    </tr>\n",
       "    <tr>\n",
       "      <th>Delhi</th>\n",
       "      <td>0</td>\n",
       "      <td>2373</td>\n",
       "      <td>2520</td>\n",
       "      <td>2505</td>\n",
       "      <td>2244</td>\n",
       "      <td>1379</td>\n",
       "      <td>2008</td>\n",
       "      <td>2033</td>\n",
       "      <td>2187</td>\n",
       "      <td>2089</td>\n",
       "      <td>...</td>\n",
       "      <td>121</td>\n",
       "      <td>114</td>\n",
       "      <td>150</td>\n",
       "      <td>158</td>\n",
       "      <td>154</td>\n",
       "      <td>123</td>\n",
       "      <td>119</td>\n",
       "      <td>125</td>\n",
       "      <td>100</td>\n",
       "      <td>127</td>\n",
       "    </tr>\n",
       "    <tr>\n",
       "      <th>Odisha</th>\n",
       "      <td>0</td>\n",
       "      <td>229</td>\n",
       "      <td>561</td>\n",
       "      <td>495</td>\n",
       "      <td>469</td>\n",
       "      <td>456</td>\n",
       "      <td>571</td>\n",
       "      <td>527</td>\n",
       "      <td>577</td>\n",
       "      <td>755</td>\n",
       "      <td>...</td>\n",
       "      <td>79</td>\n",
       "      <td>60</td>\n",
       "      <td>71</td>\n",
       "      <td>87</td>\n",
       "      <td>97</td>\n",
       "      <td>82</td>\n",
       "      <td>72</td>\n",
       "      <td>72</td>\n",
       "      <td>105</td>\n",
       "      <td>92</td>\n",
       "    </tr>\n",
       "    <tr>\n",
       "      <th>Goa</th>\n",
       "      <td>0</td>\n",
       "      <td>95</td>\n",
       "      <td>94</td>\n",
       "      <td>108</td>\n",
       "      <td>77</td>\n",
       "      <td>52</td>\n",
       "      <td>90</td>\n",
       "      <td>136</td>\n",
       "      <td>112</td>\n",
       "      <td>100</td>\n",
       "      <td>...</td>\n",
       "      <td>60</td>\n",
       "      <td>106</td>\n",
       "      <td>63</td>\n",
       "      <td>79</td>\n",
       "      <td>56</td>\n",
       "      <td>65</td>\n",
       "      <td>42</td>\n",
       "      <td>57</td>\n",
       "      <td>59</td>\n",
       "      <td>72</td>\n",
       "    </tr>\n",
       "    <tr>\n",
       "      <th>Punjab</th>\n",
       "      <td>0</td>\n",
       "      <td>116</td>\n",
       "      <td>153</td>\n",
       "      <td>172</td>\n",
       "      <td>174</td>\n",
       "      <td>208</td>\n",
       "      <td>258</td>\n",
       "      <td>158</td>\n",
       "      <td>233</td>\n",
       "      <td>217</td>\n",
       "      <td>...</td>\n",
       "      <td>194</td>\n",
       "      <td>204</td>\n",
       "      <td>187</td>\n",
       "      <td>196</td>\n",
       "      <td>199</td>\n",
       "      <td>183</td>\n",
       "      <td>207</td>\n",
       "      <td>192</td>\n",
       "      <td>0</td>\n",
       "      <td>0</td>\n",
       "    </tr>\n",
       "  </tbody>\n",
       "</table>\n",
       "<p>5 rows × 225 columns</p>\n",
       "</div>"
      ],
      "text/plain": [
       "states     2020-07-01  2020-07-02  2020-07-03  2020-07-04  2020-07-05  \\\n",
       "state                                                                   \n",
       "Telangana           0        1213        1892        1850        1590   \n",
       "Delhi               0        2373        2520        2505        2244   \n",
       "Odisha              0         229         561         495         469   \n",
       "Goa                 0          95          94         108          77   \n",
       "Punjab              0         116         153         172         174   \n",
       "\n",
       "states     2020-07-06  2020-07-07  2020-07-08  2020-07-09  2020-07-10  ...  \\\n",
       "state                                                                  ...   \n",
       "Telangana        1831        1879        1924        1410        1278  ...   \n",
       "Delhi            1379        2008        2033        2187        2089  ...   \n",
       "Odisha            456         571         527         577         755  ...   \n",
       "Goa                52          90         136         112         100  ...   \n",
       "Punjab            208         258         158         233         217  ...   \n",
       "\n",
       "states     2021-02-01  2021-02-02  2021-02-03  2021-02-04  2021-02-05  \\\n",
       "state                                                                   \n",
       "Telangana         118         152         185         177         169   \n",
       "Delhi             121         114         150         158         154   \n",
       "Odisha             79          60          71          87          97   \n",
       "Goa                60         106          63          79          56   \n",
       "Punjab            194         204         187         196         199   \n",
       "\n",
       "states     2021-02-06  2021-02-07  2021-02-08  2021-02-09  2021-02-10  \n",
       "state                                                                  \n",
       "Telangana         161         150         101         149         157  \n",
       "Delhi             123         119         125         100         127  \n",
       "Odisha             82          72          72         105          92  \n",
       "Goa                65          42          57          59          72  \n",
       "Punjab            183         207         192           0           0  \n",
       "\n",
       "[5 rows x 225 columns]"
      ]
     },
     "execution_count": 18,
     "metadata": {},
     "output_type": "execute_result"
    }
   ],
   "source": [
    "#hide\n",
    "dft_ct_new_cases.head()"
   ]
  },
  {
   "cell_type": "code",
   "execution_count": 19,
   "id": "responsible-nightlife",
   "metadata": {
    "execution": {
     "iopub.execute_input": "2021-02-10T14:24:41.868130Z",
     "iopub.status.busy": "2021-02-10T14:24:41.860531Z",
     "iopub.status.idle": "2021-02-10T14:24:51.403346Z",
     "shell.execute_reply": "2021-02-10T14:24:51.401902Z"
    },
    "papermill": {
     "duration": 9.586091,
     "end_time": "2021-02-10T14:24:51.403501",
     "exception": false,
     "start_time": "2021-02-10T14:24:41.817410",
     "status": "completed"
    },
    "tags": []
   },
   "outputs": [
    {
     "data": {
      "image/png": "[encoded data removed]",
      "text/plain": [
       "<Figure size 1296x2016 with 11 Axes>"
      ]
     },
     "metadata": {
      "needs_background": "light"
     },
     "output_type": "display_data"
    }
   ],
   "source": [
    "#hide_input\n",
    "df = dft_ct_new_cases.copy()\n",
    "df.loc['Total'] = df.sum()\n",
    "n = 5\n",
    "ax = []\n",
    "fig = plt.figure(figsize = (18,28))\n",
    "gs = fig.add_gridspec(n+2, 5)\n",
    "# gs = fig.add_gridspec(2, 3)\n",
    "ax1 = fig.add_subplot(gs[0, :])\n",
    "ef = df.loc['Total'].rename_axis('date').reset_index()\n",
    "ef['date'] = ef['date'].astype('datetime64[ns]')\n",
    "ax1.bar(ef.date,ef.Total,alpha=0.3,color='#007acc')\n",
    "ax1.plot(ef.date,ef.Total , marker=\"o\", color='#007acc')\n",
    "ax1.xaxis.set_major_locator(mdates.WeekdayLocator())\n",
    "ax1.xaxis.set_major_formatter(mdates.DateFormatter('%b %d'))\n",
    "ax1.text(0.02, 0.5,'India daily case count', transform = ax1.transAxes, fontsize=25);\n",
    "ax1.spines['right'].set_visible(False)\n",
    "ax1.spines['top'].set_visible(False)\n",
    "\n",
    "ax2 = fig.add_subplot(gs[1,0])\n",
    "ef = df.loc['Maharashtra'].rename_axis('date').reset_index()\n",
    "ef['date'] = ef['date'].astype('datetime64[ns]')\n",
    "\n",
    "ax2.bar(ef.date, ef.Maharashtra,color = '#007acc',alpha=0.5)\n",
    "ax2.xaxis.set_major_locator(mdates.WeekdayLocator())\n",
    "ax2.xaxis.set_major_formatter(mdates.DateFormatter('%b %d'))\n",
    "ax2.set_xticks(ax2.get_xticks()[::3])\n",
    "maxyval = ef.Maharashtra.max()\n",
    "ax2.set_ylim([0,maxyval])\n",
    "ax2.text(0.05, 0.9,'Maharashtra', transform = ax2.transAxes, fontsize=20);\n",
    "ax2.spines['right'].set_visible(False)\n",
    "ax2.spines['top'].set_visible(False)\n",
    "\n",
    "\n",
    "ax3 = fig.add_subplot(gs[1,1])\n",
    "ef = df.loc['Tamil Nadu'].rename_axis('date').reset_index()\n",
    "ef['date'] = ef['date'].astype('datetime64[ns]')\n",
    "ax3.bar(ef.date, ef['Tamil Nadu'],color = '#007acc',alpha=0.5,)\n",
    "ax3.xaxis.set_major_locator(mdates.WeekdayLocator())\n",
    "ax3.xaxis.set_major_formatter(mdates.DateFormatter('%b %d'))\n",
    "ax3.set_xticks(ax3.get_xticks()[::3])\n",
    "ax3.text(0.05, 0.9,'Tamil Nadu', transform = ax3.transAxes, fontsize=20);\n",
    "ax3.spines['right'].set_visible(False)\n",
    "ax3.spines['top'].set_visible(False)\n",
    "\n",
    "ax5 = fig.add_subplot(gs[1,3])\n",
    "ef = df.loc['Telangana'].rename_axis('date').reset_index()\n",
    "ef['date'] = ef['date'].astype('datetime64[ns]')\n",
    "ax5.bar(ef.date, ef['Telangana'],color = '#007acc',alpha=0.5,)\n",
    "ax5.xaxis.set_major_locator(mdates.WeekdayLocator())\n",
    "ax5.xaxis.set_major_formatter(mdates.DateFormatter('%b %d'))\n",
    "ax5.set_xticks(ax5.get_xticks()[::3])\n",
    "ax5.text(0.05, 0.9,'Telangana', transform = ax5.transAxes, fontsize=20);\n",
    "ax5.spines['right'].set_visible(False)\n",
    "ax5.spines['top'].set_visible(False)\n",
    "\n",
    "ax6 = fig.add_subplot(gs[1,4])\n",
    "ef = df.loc['Andhra Pradesh'].rename_axis('date').reset_index()\n",
    "ef['date'] = ef['date'].astype('datetime64[ns]')\n",
    "ax6.bar(ef.date, ef['Andhra Pradesh'],color = '#007acc',alpha=0.5,)\n",
    "ax6.xaxis.set_major_locator(mdates.WeekdayLocator())\n",
    "ax6.xaxis.set_major_formatter(mdates.DateFormatter('%b %d'))\n",
    "ax6.set_xticks(ax6.get_xticks()[::3])\n",
    "ax6.text(0.05, 1,'Andhra Pradesh', transform = ax6.transAxes, fontsize=20);\n",
    "ax6.spines['right'].set_visible(False)\n",
    "ax6.spines['top'].set_visible(False)\n",
    "\n",
    "ax4 = fig.add_subplot(gs[1,2])\n",
    "ef = df.loc['Delhi'].rename_axis('date').reset_index()\n",
    "ef['date'] = ef['date'].astype('datetime64[ns]')\n",
    "ax4.bar(ef.date, ef.Delhi,color = '#007acc',alpha=0.5)\n",
    "ax4.set_xticks([])\n",
    "ax4.xaxis.set_major_locator(mdates.WeekdayLocator())\n",
    "ax4.xaxis.set_major_formatter(mdates.DateFormatter('%b %d'))\n",
    "ax4.set_xticks(ax4.get_xticks()[::3])\n",
    "ax4.spines['right'].set_visible(False)\n",
    "ax4.spines['top'].set_visible(False)\n",
    "\n",
    "ax4.text(0.05, 1,'Delhi', transform = ax4.transAxes, fontsize=20)\n",
    "\n",
    "for i in range(n):\n",
    "    \n",
    "    ax.append(fig.add_subplot(gs[i+2,:]))\n",
    "    ef = df.iloc[i+3].rename_axis('date').reset_index()\n",
    "    ef['date'] = ef['date'].astype('datetime64[ns]')\n",
    "    ax[i].bar(ef.date,ef.iloc[:,-1],color = '#007acc',alpha=0.3)\n",
    "    ax[i].plot(ef.date,ef.iloc[:,-1],marker='o',color='#007acc')\n",
    "    ax[i].text(0.02,0.5,f'{ef.columns.values[-1]}',transform = ax[i].transAxes, fontsize = 20);\n",
    "    ax[i].xaxis.set_major_locator(mdates.WeekdayLocator())\n",
    "    ax[i].xaxis.set_major_formatter(mdates.DateFormatter('%b %d'))\n",
    "    ax[i].set_ylim([0,7000])\n",
    "    ax[i].spines['right'].set_visible(False)\n",
    "    ax[i].spines['top'].set_visible(False)\n",
    "plt.tight_layout()\n"
   ]
  },
  {
   "cell_type": "code",
   "execution_count": 20,
   "id": "dress-forge",
   "metadata": {
    "execution": {
     "iopub.execute_input": "2021-02-10T14:24:51.466033Z",
     "iopub.status.busy": "2021-02-10T14:24:51.465376Z",
     "iopub.status.idle": "2021-02-10T14:24:51.470436Z",
     "shell.execute_reply": "2021-02-10T14:24:51.469924Z"
    },
    "papermill": {
     "duration": 0.039649,
     "end_time": "2021-02-10T14:24:51.470563",
     "exception": false,
     "start_time": "2021-02-10T14:24:51.430914",
     "status": "completed"
    },
    "tags": []
   },
   "outputs": [
    {
     "name": "stdout",
     "output_type": "stream",
     "text": [
      "                                   states    Cases  Deaths   PCases  PDeaths  Cases (+)  Deaths (+)  Fatality Rate\n",
      "                              Maharashtra  2048802   51360  2048802    51360          0           0           2.51\n",
      "                                   Kerala   977395    3903   977395     3903          0           0           0.40\n",
      "                                Karnataka   943212   12241   943212    12241          0           0           1.30\n",
      "                           Andhra Pradesh   888555    7160   888555     7160          0           0           0.81\n",
      "                               Tamil Nadu   842730   12391   842730    12391          0           0           1.47\n",
      "                                    Delhi   636387   10884   636260    10882        127           2           1.71\n",
      "                            Uttar Pradesh   601562    8691   601562     8691          0           0           1.44\n",
      "                              West Bengal   571636   10215   571636    10215          0           0           1.79\n",
      "                                   Odisha   335889    1963   335797     1963         92           0           0.58\n",
      "                                Rajasthan   318384    2774   318384     2774          0           0           0.87\n",
      "                             Chhattisgarh   307996    3746   307996     3746          0           0           1.22\n",
      "                                Telangana   295988    1613   295831     1612        157           1           0.54\n",
      "                                  Haryana   268600    3033   268600     3033          0           0           1.13\n",
      "                                  Gujarat   263910    4397   263910     4397          0           0           1.67\n",
      "                                    Bihar   261447    1518   261447     1518          0           0           0.58\n",
      "                           Madhya Pradesh   256758    3825   256758     3825          0           0           1.49\n",
      "                                    Assam   217256    1086   217256     1086          0           0           0.50\n",
      "                                   Punjab   174838    5653   174838     5653          0           0           3.23\n",
      "                        Jammu and Kashmir   125007    1944   125007     1944          0           0           1.56\n",
      "                                Jharkhand   119116    1078   119116     1078          0           0           0.91\n",
      "                              Uttarakhand    96590    1673    96590     1673          0           0           1.73\n",
      "                         Himachal Pradesh    57962     974    57962      974          0           0           1.68\n",
      "                                      Goa    54068     776    53996      774         72           2           1.44\n",
      "                               Puducherry    39353     655    39353      655          0           0           1.66\n",
      "                                  Tripura    33350     388    33350      388          0           0           1.16\n",
      "                                  Manipur    29137     373    29137      373          0           0           1.28\n",
      "                               Chandigarh    21128     341    21128      341          0           0           1.61\n",
      "                        Arunachal Pradesh    16831      56    16831       56          0           0           0.33\n",
      "                                Meghalaya    13893     148    13893      148          0           0           1.07\n",
      "                                 Nagaland    12166      88    12166       88          0           0           0.72\n",
      "                                   Ladakh     9758     130     9758      130          0           0           1.33\n",
      "                                   Sikkim     6110     135     6110      135          0           0           2.21\n",
      "              Andaman and Nicobar Islands     5007      62     5007       62          0           0           1.24\n",
      "                                  Mizoram     4386       9     4386        9          0           0           0.21\n",
      " Dadra and Nagar Haveli and Daman and Diu     3380       2     3380        2          0           0           0.06\n",
      "                              Lakshadweep      166       0      166        0          0           0           0.00\n"
     ]
    }
   ],
   "source": [
    "#hide_input\n",
    "print(df_table.to_string(index=False))"
   ]
  },
  {
   "cell_type": "code",
   "execution_count": null,
   "id": "quantitative-legend",
   "metadata": {
    "papermill": {
     "duration": 0.026976,
     "end_time": "2021-02-10T14:24:51.522637",
     "exception": false,
     "start_time": "2021-02-10T14:24:51.495661",
     "status": "completed"
    },
    "tags": []
   },
   "outputs": [],
   "source": []
  },
  {
   "cell_type": "code",
   "execution_count": null,
   "id": "distant-acoustic",
   "metadata": {
    "papermill": {
     "duration": 0.025485,
     "end_time": "2021-02-10T14:24:51.573237",
     "exception": false,
     "start_time": "2021-02-10T14:24:51.547752",
     "status": "completed"
    },
    "tags": []
   },
   "outputs": [],
   "source": []
  }
 ],
 "metadata": {
  "kernelspec": {
   "display_name": "Python 3",
   "language": "python",
   "name": "python3"
  },
  "language_info": {
   "codemirror_mode": {
    "name": "ipython",
    "version": 3
   },
   "file_extension": ".py",
   "mimetype": "text/x-python",
   "name": "python",
   "nbconvert_exporter": "python",
   "pygments_lexer": "ipython3",
   "version": "3.6.12"
  },
  "papermill": {
   "duration": 22.340784,
   "end_time": "2021-02-10T14:24:52.909489",
   "environment_variables": {},
   "exception": null,
   "input_path": "latest.ipynb",
   "output_path": "latest.ipynb",
   "parameters": {},
   "start_time": "2021-02-10T14:24:30.568705",
   "version": "2.1.2"
  }
 },
 "nbformat": 4,
 "nbformat_minor": 5
}