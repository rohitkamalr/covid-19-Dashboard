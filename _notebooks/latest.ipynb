{
 "cells": [
  {
   "cell_type": "markdown",
   "metadata": {
    "papermill": {
     "duration": 0.017346,
     "end_time": "2020-08-16T12:37:32.754657",
     "exception": false,
     "start_time": "2020-08-16T12:37:32.737311",
     "status": "completed"
    },
    "tags": []
   },
   "source": [
    "# Latest COVID-19 India Matplotlib Overview"
   ]
  },
  {
   "cell_type": "code",
   "execution_count": 1,
   "metadata": {
    "execution": {
     "iopub.execute_input": "2020-08-16T12:37:32.791719Z",
     "iopub.status.busy": "2020-08-16T12:37:32.791219Z",
     "iopub.status.idle": "2020-08-16T12:37:33.360226Z",
     "shell.execute_reply": "2020-08-16T12:37:33.359697Z"
    },
    "papermill": {
     "duration": 0.590955,
     "end_time": "2020-08-16T12:37:33.360385",
     "exception": false,
     "start_time": "2020-08-16T12:37:32.769430",
     "status": "completed"
    },
    "tags": []
   },
   "outputs": [],
   "source": [
    "#hide\n",
    "import pandas as pd\n",
    "import numpy as np\n",
    "import requests\n",
    "import json\n",
    "import matplotlib.pyplot as plt\n",
    "import matplotlib.dates as mdates\n",
    "import matplotlib as mpl\n",
    "from IPython.core.display import display,HTML\n",
    "%matplotlib inline\n",
    "from datetime import date"
   ]
  },
  {
   "cell_type": "code",
   "execution_count": 2,
   "metadata": {
    "execution": {
     "iopub.execute_input": "2020-08-16T12:37:33.398220Z",
     "iopub.status.busy": "2020-08-16T12:37:33.397553Z",
     "iopub.status.idle": "2020-08-16T12:37:33.619031Z",
     "shell.execute_reply": "2020-08-16T12:37:33.618368Z"
    },
    "papermill": {
     "duration": 0.244188,
     "end_time": "2020-08-16T12:37:33.619182",
     "exception": false,
     "start_time": "2020-08-16T12:37:33.374994",
     "status": "completed"
    },
    "tags": []
   },
   "outputs": [],
   "source": [
    "#hide\n",
    "df  = pd.read_csv('https://api.covid19india.org/csv/latest/states.csv')\n",
    "df = df[['Date','State','Confirmed','Deceased']]\n",
    "df = df.rename(columns={'Confirmed':'Cases', \"Deceased\":'Deaths'})\n",
    "df_cases = df[[\"Date\",'State','Cases']]\n",
    "df_deaths = df[['Date','State','Deaths']]\n",
    "df_cases1 = df_cases.groupby('Date')\n",
    "df_deaths1= df_deaths.groupby('Date')"
   ]
  },
  {
   "cell_type": "code",
   "execution_count": 3,
   "metadata": {
    "execution": {
     "iopub.execute_input": "2020-08-16T12:37:33.655629Z",
     "iopub.status.busy": "2020-08-16T12:37:33.655120Z",
     "iopub.status.idle": "2020-08-16T12:37:33.672631Z",
     "shell.execute_reply": "2020-08-16T12:37:33.672131Z"
    },
    "papermill": {
     "duration": 0.037916,
     "end_time": "2020-08-16T12:37:33.672763",
     "exception": false,
     "start_time": "2020-08-16T12:37:33.634847",
     "status": "completed"
    },
    "tags": []
   },
   "outputs": [],
   "source": [
    "#hide\n",
    "df_snap = pd.read_csv('data/SnapshotCases-28-July.csv')\n",
    "arr_states = df_snap['states'].unique()\n",
    "arr_dates = df['Date'].unique()\n",
    "df_snap = df_snap.set_index('states')"
   ]
  },
  {
   "cell_type": "code",
   "execution_count": 4,
   "metadata": {
    "execution": {
     "iopub.execute_input": "2020-08-16T12:37:33.708406Z",
     "iopub.status.busy": "2020-08-16T12:37:33.707811Z",
     "iopub.status.idle": "2020-08-16T12:37:33.710298Z",
     "shell.execute_reply": "2020-08-16T12:37:33.710843Z"
    },
    "papermill": {
     "duration": 0.02438,
     "end_time": "2020-08-16T12:37:33.710983",
     "exception": false,
     "start_time": "2020-08-16T12:37:33.686603",
     "status": "completed"
    },
    "tags": []
   },
   "outputs": [
    {
     "data": {
      "text/plain": [
       "array(['Andaman and Nicobar Islands', 'Andhra Pradesh',\n",
       "       'Arunachal Pradesh', 'Assam', 'Bihar', 'Chandigarh',\n",
       "       'Dadra and Nagar Haveli and Daman and Diu', 'Delhi', 'Goa',\n",
       "       'Gujarat', 'Haryana', 'Himachal Pradesh', 'Jammu and Kashmir',\n",
       "       'Jharkhand', 'Karnataka', 'Kerala', 'Lakshadweep',\n",
       "       'Madhya Pradesh', 'Maharashtra', 'Manipur', 'Meghalaya', 'Mizoram',\n",
       "       'Nagaland', 'Odisha', 'Puducherry', 'Punjab', 'Rajasthan',\n",
       "       'Sikkim', 'Tamil Nadu', 'Telangana', 'Tripura', 'Uttar Pradesh',\n",
       "       'West Bengal', 'Chhattisgarh', 'Ladakh', 'Uttarakhand'],\n",
       "      dtype=object)"
      ]
     },
     "execution_count": 4,
     "metadata": {},
     "output_type": "execute_result"
    }
   ],
   "source": [
    "#hide\n",
    "arr_states[-9] = 'Puducherry'\n",
    "arr_states[-10] = 'Odisha'\n",
    "arr_states[6] = 'Dadra and Nagar Haveli and Daman and Diu'\n",
    "arr_states = np.append(arr_states,np.array(['Chhattisgarh','Ladakh','Uttarakhand']))\n",
    "arr_states"
   ]
  },
  {
   "cell_type": "code",
   "execution_count": 5,
   "metadata": {
    "execution": {
     "iopub.execute_input": "2020-08-16T12:37:33.747785Z",
     "iopub.status.busy": "2020-08-16T12:37:33.747233Z",
     "iopub.status.idle": "2020-08-16T12:37:33.754024Z",
     "shell.execute_reply": "2020-08-16T12:37:33.753536Z"
    },
    "papermill": {
     "duration": 0.029642,
     "end_time": "2020-08-16T12:37:33.754168",
     "exception": false,
     "start_time": "2020-08-16T12:37:33.724526",
     "status": "completed"
    },
    "tags": []
   },
   "outputs": [],
   "source": [
    "#hide\n",
    "dates = []\n",
    "for i in arr_dates:\n",
    "    if i>='2020-07-01':\n",
    "        dates.append(i)\n",
    "dict = {'states':dates}\n",
    "for i in arr_states:\n",
    "    dict[i] = [0]*len(dates)\n",
    "dft_cases = pd.DataFrame(dict)\n",
    "dft_deaths = pd.DataFrame(dict)\n"
   ]
  },
  {
   "cell_type": "code",
   "execution_count": 6,
   "metadata": {
    "execution": {
     "iopub.execute_input": "2020-08-16T12:37:33.787826Z",
     "iopub.status.busy": "2020-08-16T12:37:33.787219Z",
     "iopub.status.idle": "2020-08-16T12:37:34.396480Z",
     "shell.execute_reply": "2020-08-16T12:37:34.395754Z"
    },
    "papermill": {
     "duration": 0.628813,
     "end_time": "2020-08-16T12:37:34.396638",
     "exception": false,
     "start_time": "2020-08-16T12:37:33.767825",
     "status": "completed"
    },
    "tags": []
   },
   "outputs": [],
   "source": [
    "#hide\n",
    "for i in range(len(dates)):\n",
    "    df1_deaths = df_deaths1.get_group(dates[i])\n",
    "    for j in range(len(df1_deaths.index)):\n",
    "        if df1_deaths.iloc[j,1] in arr_states:\n",
    "            dft_deaths.loc[i,df1_deaths.iloc[j,1]] = df1_deaths.iloc[j,2]\n",
    "dft_deaths = dft_deaths.set_index('states')"
   ]
  },
  {
   "cell_type": "code",
   "execution_count": 7,
   "metadata": {
    "execution": {
     "iopub.execute_input": "2020-08-16T12:37:34.434633Z",
     "iopub.status.busy": "2020-08-16T12:37:34.434041Z",
     "iopub.status.idle": "2020-08-16T12:37:35.048868Z",
     "shell.execute_reply": "2020-08-16T12:37:35.048367Z"
    },
    "papermill": {
     "duration": 0.636179,
     "end_time": "2020-08-16T12:37:35.049003",
     "exception": false,
     "start_time": "2020-08-16T12:37:34.412824",
     "status": "completed"
    },
    "tags": []
   },
   "outputs": [],
   "source": [
    "#hide\n",
    "for i in range(len(dates)):\n",
    "    df1_cases = df_cases1.get_group(dates[i])\n",
    "    for j in range(len(df1_cases.index)):\n",
    "        if df1_cases.iloc[j,1] in arr_states:\n",
    "            dft_cases.loc[i,df1_cases.iloc[j,1]] = df1_cases.iloc[j,2]\n",
    "dft_cases = dft_cases.set_index('states')"
   ]
  },
  {
   "cell_type": "code",
   "execution_count": 8,
   "metadata": {
    "execution": {
     "iopub.execute_input": "2020-08-16T12:37:35.088288Z",
     "iopub.status.busy": "2020-08-16T12:37:35.087705Z",
     "iopub.status.idle": "2020-08-16T12:37:35.089539Z",
     "shell.execute_reply": "2020-08-16T12:37:35.089955Z"
    },
    "papermill": {
     "duration": 0.023358,
     "end_time": "2020-08-16T12:37:35.090091",
     "exception": false,
     "start_time": "2020-08-16T12:37:35.066733",
     "status": "completed"
    },
    "tags": []
   },
   "outputs": [],
   "source": [
    "#hide\n",
    "dft_cases = dft_cases.T\n",
    "dft_deaths = dft_deaths.T\n",
    "dt_today = dates[-1]\n",
    "dt_yday = dates[-2]"
   ]
  },
  {
   "cell_type": "code",
   "execution_count": 9,
   "metadata": {
    "execution": {
     "iopub.execute_input": "2020-08-16T12:37:35.127547Z",
     "iopub.status.busy": "2020-08-16T12:37:35.126865Z",
     "iopub.status.idle": "2020-08-16T12:37:35.129302Z",
     "shell.execute_reply": "2020-08-16T12:37:35.129942Z"
    },
    "papermill": {
     "duration": 0.025158,
     "end_time": "2020-08-16T12:37:35.130090",
     "exception": false,
     "start_time": "2020-08-16T12:37:35.104932",
     "status": "completed"
    },
    "tags": []
   },
   "outputs": [],
   "source": [
    "#hide\n",
    "dft_cases = dft_cases.reset_index()\n",
    "dft_deaths = dft_deaths.reset_index()\n",
    "dft_cases = dft_cases.rename(columns = {'index':'state'})\n",
    "dft_deaths = dft_deaths.rename(columns = {'index':'state'})"
   ]
  },
  {
   "cell_type": "code",
   "execution_count": 10,
   "metadata": {
    "execution": {
     "iopub.execute_input": "2020-08-16T12:37:35.170503Z",
     "iopub.status.busy": "2020-08-16T12:37:35.169985Z",
     "iopub.status.idle": "2020-08-16T12:37:35.172163Z",
     "shell.execute_reply": "2020-08-16T12:37:35.171724Z"
    },
    "papermill": {
     "duration": 0.027385,
     "end_time": "2020-08-16T12:37:35.172284",
     "exception": false,
     "start_time": "2020-08-16T12:37:35.144899",
     "status": "completed"
    },
    "tags": []
   },
   "outputs": [],
   "source": [
    "#hide\n",
    "dfc_cases = dft_cases.groupby('state')[dt_today].sum()\n",
    "dfc_deaths = dft_deaths.groupby('state')[dt_today].sum()\n",
    "dfp_cases = dft_cases.groupby('state')[dt_yday].sum()\n",
    "dfp_deaths = dft_deaths.groupby('state')[dt_yday].sum()"
   ]
  },
  {
   "cell_type": "code",
   "execution_count": 11,
   "metadata": {
    "execution": {
     "iopub.execute_input": "2020-08-16T12:37:35.209489Z",
     "iopub.status.busy": "2020-08-16T12:37:35.208906Z",
     "iopub.status.idle": "2020-08-16T12:37:35.223583Z",
     "shell.execute_reply": "2020-08-16T12:37:35.223103Z"
    },
    "papermill": {
     "duration": 0.036382,
     "end_time": "2020-08-16T12:37:35.223719",
     "exception": false,
     "start_time": "2020-08-16T12:37:35.187337",
     "status": "completed"
    },
    "tags": []
   },
   "outputs": [
    {
     "data": {
      "text/html": [
       "<div>\n",
       "<style scoped>\n",
       "    .dataframe tbody tr th:only-of-type {\n",
       "        vertical-align: middle;\n",
       "    }\n",
       "\n",
       "    .dataframe tbody tr th {\n",
       "        vertical-align: top;\n",
       "    }\n",
       "\n",
       "    .dataframe thead th {\n",
       "        text-align: right;\n",
       "    }\n",
       "</style>\n",
       "<table border=\"1\" class=\"dataframe\">\n",
       "  <thead>\n",
       "    <tr style=\"text-align: right;\">\n",
       "      <th></th>\n",
       "      <th>states</th>\n",
       "      <th>Cases</th>\n",
       "      <th>Deaths</th>\n",
       "      <th>PCases</th>\n",
       "      <th>PDeaths</th>\n",
       "    </tr>\n",
       "  </thead>\n",
       "  <tbody>\n",
       "    <tr>\n",
       "      <th>0</th>\n",
       "      <td>Maharashtra</td>\n",
       "      <td>584754</td>\n",
       "      <td>19749</td>\n",
       "      <td>584754</td>\n",
       "      <td>19749</td>\n",
       "    </tr>\n",
       "    <tr>\n",
       "      <th>1</th>\n",
       "      <td>Tamil Nadu</td>\n",
       "      <td>332105</td>\n",
       "      <td>5641</td>\n",
       "      <td>332105</td>\n",
       "      <td>5641</td>\n",
       "    </tr>\n",
       "    <tr>\n",
       "      <th>2</th>\n",
       "      <td>Andhra Pradesh</td>\n",
       "      <td>281817</td>\n",
       "      <td>2562</td>\n",
       "      <td>281817</td>\n",
       "      <td>2562</td>\n",
       "    </tr>\n",
       "    <tr>\n",
       "      <th>3</th>\n",
       "      <td>Karnataka</td>\n",
       "      <td>219926</td>\n",
       "      <td>3832</td>\n",
       "      <td>219926</td>\n",
       "      <td>3832</td>\n",
       "    </tr>\n",
       "    <tr>\n",
       "      <th>4</th>\n",
       "      <td>Delhi</td>\n",
       "      <td>151928</td>\n",
       "      <td>4188</td>\n",
       "      <td>151928</td>\n",
       "      <td>4188</td>\n",
       "    </tr>\n",
       "  </tbody>\n",
       "</table>\n",
       "</div>"
      ],
      "text/plain": [
       "           states   Cases  Deaths  PCases  PDeaths\n",
       "0     Maharashtra  584754   19749  584754    19749\n",
       "1      Tamil Nadu  332105    5641  332105     5641\n",
       "2  Andhra Pradesh  281817    2562  281817     2562\n",
       "3       Karnataka  219926    3832  219926     3832\n",
       "4           Delhi  151928    4188  151928     4188"
      ]
     },
     "execution_count": 11,
     "metadata": {},
     "output_type": "execute_result"
    }
   ],
   "source": [
    "#hide\n",
    "df_table = pd.DataFrame({'states': dfc_cases.index, 'Cases': dfc_cases.values, 'Deaths': dfc_deaths.values, 'PCases': dfp_cases.values, 'PDeaths': dfp_deaths.values}).set_index('states')\n",
    "df_table = df_table.sort_values(by = ['Cases','Deaths'], ascending = [False, False])\n",
    "df_table = df_table.reset_index()\n",
    "df_table.head()"
   ]
  },
  {
   "cell_type": "code",
   "execution_count": 12,
   "metadata": {
    "execution": {
     "iopub.execute_input": "2020-08-16T12:37:35.259881Z",
     "iopub.status.busy": "2020-08-16T12:37:35.259340Z",
     "iopub.status.idle": "2020-08-16T12:37:35.268395Z",
     "shell.execute_reply": "2020-08-16T12:37:35.267797Z"
    },
    "papermill": {
     "duration": 0.029484,
     "end_time": "2020-08-16T12:37:35.268524",
     "exception": false,
     "start_time": "2020-08-16T12:37:35.239040",
     "status": "completed"
    },
    "tags": []
   },
   "outputs": [],
   "source": [
    "#hide\n",
    "for c in 'Cases, Deaths'.split(', '):\n",
    "    df_table[f'{c} (+)'] = (df_table[c] - df_table[f'P{c}']).clip(0)\n",
    "df_table['Fatality Rate'] = (100* df_table['Deaths']/ df_table['Cases']).round(2)"
   ]
  },
  {
   "cell_type": "code",
   "execution_count": 13,
   "metadata": {
    "execution": {
     "iopub.execute_input": "2020-08-16T12:37:35.310851Z",
     "iopub.status.busy": "2020-08-16T12:37:35.310232Z",
     "iopub.status.idle": "2020-08-16T12:37:35.312728Z",
     "shell.execute_reply": "2020-08-16T12:37:35.313203Z"
    },
    "papermill": {
     "duration": 0.028779,
     "end_time": "2020-08-16T12:37:35.313352",
     "exception": false,
     "start_time": "2020-08-16T12:37:35.284573",
     "status": "completed"
    },
    "tags": []
   },
   "outputs": [
    {
     "data": {
      "text/html": [
       "<div>\n",
       "<style scoped>\n",
       "    .dataframe tbody tr th:only-of-type {\n",
       "        vertical-align: middle;\n",
       "    }\n",
       "\n",
       "    .dataframe tbody tr th {\n",
       "        vertical-align: top;\n",
       "    }\n",
       "\n",
       "    .dataframe thead th {\n",
       "        text-align: right;\n",
       "    }\n",
       "</style>\n",
       "<table border=\"1\" class=\"dataframe\">\n",
       "  <thead>\n",
       "    <tr style=\"text-align: right;\">\n",
       "      <th></th>\n",
       "      <th>states</th>\n",
       "      <th>Cases</th>\n",
       "      <th>Deaths</th>\n",
       "      <th>PCases</th>\n",
       "      <th>PDeaths</th>\n",
       "      <th>Cases (+)</th>\n",
       "      <th>Deaths (+)</th>\n",
       "      <th>Fatality Rate</th>\n",
       "    </tr>\n",
       "  </thead>\n",
       "  <tbody>\n",
       "    <tr>\n",
       "      <th>0</th>\n",
       "      <td>Maharashtra</td>\n",
       "      <td>584754</td>\n",
       "      <td>19749</td>\n",
       "      <td>584754</td>\n",
       "      <td>19749</td>\n",
       "      <td>0</td>\n",
       "      <td>0</td>\n",
       "      <td>3.38</td>\n",
       "    </tr>\n",
       "    <tr>\n",
       "      <th>1</th>\n",
       "      <td>Tamil Nadu</td>\n",
       "      <td>332105</td>\n",
       "      <td>5641</td>\n",
       "      <td>332105</td>\n",
       "      <td>5641</td>\n",
       "      <td>0</td>\n",
       "      <td>0</td>\n",
       "      <td>1.70</td>\n",
       "    </tr>\n",
       "    <tr>\n",
       "      <th>2</th>\n",
       "      <td>Andhra Pradesh</td>\n",
       "      <td>281817</td>\n",
       "      <td>2562</td>\n",
       "      <td>281817</td>\n",
       "      <td>2562</td>\n",
       "      <td>0</td>\n",
       "      <td>0</td>\n",
       "      <td>0.91</td>\n",
       "    </tr>\n",
       "    <tr>\n",
       "      <th>3</th>\n",
       "      <td>Karnataka</td>\n",
       "      <td>219926</td>\n",
       "      <td>3832</td>\n",
       "      <td>219926</td>\n",
       "      <td>3832</td>\n",
       "      <td>0</td>\n",
       "      <td>0</td>\n",
       "      <td>1.74</td>\n",
       "    </tr>\n",
       "    <tr>\n",
       "      <th>4</th>\n",
       "      <td>Delhi</td>\n",
       "      <td>151928</td>\n",
       "      <td>4188</td>\n",
       "      <td>151928</td>\n",
       "      <td>4188</td>\n",
       "      <td>0</td>\n",
       "      <td>0</td>\n",
       "      <td>2.76</td>\n",
       "    </tr>\n",
       "  </tbody>\n",
       "</table>\n",
       "</div>"
      ],
      "text/plain": [
       "           states   Cases  Deaths  PCases  PDeaths  Cases (+)  Deaths (+)  \\\n",
       "0     Maharashtra  584754   19749  584754    19749          0           0   \n",
       "1      Tamil Nadu  332105    5641  332105     5641          0           0   \n",
       "2  Andhra Pradesh  281817    2562  281817     2562          0           0   \n",
       "3       Karnataka  219926    3832  219926     3832          0           0   \n",
       "4           Delhi  151928    4188  151928     4188          0           0   \n",
       "\n",
       "   Fatality Rate  \n",
       "0           3.38  \n",
       "1           1.70  \n",
       "2           0.91  \n",
       "3           1.74  \n",
       "4           2.76  "
      ]
     },
     "execution_count": 13,
     "metadata": {},
     "output_type": "execute_result"
    }
   ],
   "source": [
    "#hide\n",
    "df_table.head()"
   ]
  },
  {
   "cell_type": "code",
   "execution_count": 14,
   "metadata": {
    "execution": {
     "iopub.execute_input": "2020-08-16T12:37:35.351061Z",
     "iopub.status.busy": "2020-08-16T12:37:35.350582Z",
     "iopub.status.idle": "2020-08-16T12:37:35.367318Z",
     "shell.execute_reply": "2020-08-16T12:37:35.367741Z"
    },
    "papermill": {
     "duration": 0.038876,
     "end_time": "2020-08-16T12:37:35.367876",
     "exception": false,
     "start_time": "2020-08-16T12:37:35.329000",
     "status": "completed"
    },
    "tags": []
   },
   "outputs": [
    {
     "data": {
      "text/plain": [
       "{'updated': '2020-08-16',\n",
       " 'since': '2020-08-15',\n",
       " 'Cases': 2594687,\n",
       " 'PCases': 2589208,\n",
       " 'Deaths': 50126,\n",
       " 'PDeaths': 50085,\n",
       " 'Cases (+)': 5479,\n",
       " 'Deaths (+)': 41}"
      ]
     },
     "execution_count": 14,
     "metadata": {},
     "output_type": "execute_result"
    }
   ],
   "source": [
    "#hide\n",
    "summary = {'updated':dates[-1], 'since':dates[-2]}\n",
    "list_names = ['Cases', 'PCases', 'Deaths', 'PDeaths', 'Cases (+)', 'Deaths (+)']\n",
    "for name in list_names:\n",
    "    summary[name] = df_table.sum()[name]\n",
    "summary"
   ]
  },
  {
   "cell_type": "code",
   "execution_count": 15,
   "metadata": {
    "execution": {
     "iopub.execute_input": "2020-08-16T12:37:35.405133Z",
     "iopub.status.busy": "2020-08-16T12:37:35.404398Z",
     "iopub.status.idle": "2020-08-16T12:37:35.405980Z",
     "shell.execute_reply": "2020-08-16T12:37:35.406481Z"
    },
    "papermill": {
     "duration": 0.023316,
     "end_time": "2020-08-16T12:37:35.406628",
     "exception": false,
     "start_time": "2020-08-16T12:37:35.383312",
     "status": "completed"
    },
    "tags": []
   },
   "outputs": [],
   "source": [
    "#hide\n",
    "overview = '''\n",
    "<!-- #######  HTML!! #########-->\n",
    "<h1 style=\"color: #5e9ca0; text-align: center;\">India</h1>\n",
    "<p style=\"text-align: center;\">Last update: <strong>{update}</strong></p>\n",
    "<p style=\"text-align: center;\">Confirmed cases:</p>\n",
    "<p style=\"text-align: center;font-size:24px;\">{cases} (<span style=\"color: #ff0000;\">+{new}</span>)</p>\n",
    "<p style=\"text-align: center;\">Confirmed deaths:</p>\n",
    "<p style=\"text-align: center;font-size:24px;\">{deaths} (<span style=\"color: #ff0000;\">+{dnew}</span>)</p>\n",
    "'''"
   ]
  },
  {
   "cell_type": "code",
   "execution_count": 16,
   "metadata": {
    "execution": {
     "iopub.execute_input": "2020-08-16T12:37:35.445180Z",
     "iopub.status.busy": "2020-08-16T12:37:35.444626Z",
     "iopub.status.idle": "2020-08-16T12:37:35.447609Z",
     "shell.execute_reply": "2020-08-16T12:37:35.447197Z"
    },
    "papermill": {
     "duration": 0.024336,
     "end_time": "2020-08-16T12:37:35.447710",
     "exception": false,
     "start_time": "2020-08-16T12:37:35.423374",
     "status": "completed"
    },
    "tags": []
   },
   "outputs": [
    {
     "data": {
      "text/html": [
       "\n",
       "<!-- #######  HTML!! #########-->\n",
       "<h1 style=\"color: #5e9ca0; text-align: center;\">India</h1>\n",
       "<p style=\"text-align: center;\">Last update: <strong>2020-08-16</strong></p>\n",
       "<p style=\"text-align: center;\">Confirmed cases:</p>\n",
       "<p style=\"text-align: center;font-size:24px;\">2594687 (<span style=\"color: #ff0000;\">+5479</span>)</p>\n",
       "<p style=\"text-align: center;\">Confirmed deaths:</p>\n",
       "<p style=\"text-align: center;font-size:24px;\">50126 (<span style=\"color: #ff0000;\">+41</span>)</p>\n"
      ],
      "text/plain": [
       "<IPython.core.display.HTML object>"
      ]
     },
     "metadata": {},
     "output_type": "display_data"
    }
   ],
   "source": [
    "#hide_input\n",
    "update = summary['updated']\n",
    "cases = summary['Cases']\n",
    "new = summary['Cases (+)']\n",
    "deaths = summary['Deaths']\n",
    "dnew = summary['Deaths (+)']\n",
    "\n",
    "html = HTML(overview.format(update=update, cases=cases,new=new,deaths=deaths,dnew=dnew))\n",
    "\n",
    "display(html)"
   ]
  },
  {
   "cell_type": "code",
   "execution_count": 17,
   "metadata": {
    "execution": {
     "iopub.execute_input": "2020-08-16T12:37:35.495654Z",
     "iopub.status.busy": "2020-08-16T12:37:35.495003Z",
     "iopub.status.idle": "2020-08-16T12:37:35.500393Z",
     "shell.execute_reply": "2020-08-16T12:37:35.499783Z"
    },
    "papermill": {
     "duration": 0.035681,
     "end_time": "2020-08-16T12:37:35.500525",
     "exception": false,
     "start_time": "2020-08-16T12:37:35.464844",
     "status": "completed"
    },
    "tags": []
   },
   "outputs": [],
   "source": [
    "#hide\n",
    "dt_cols = list(dft_cases.columns[1:])\n",
    "dft_ct_new_cases = dft_cases.groupby('state')[dt_cols].sum().diff(axis=1).fillna(0).astype(int)\n",
    "dft_ct_new_cases.sort_values(by = dates[-1], ascending = False,inplace = True)"
   ]
  },
  {
   "cell_type": "code",
   "execution_count": 18,
   "metadata": {
    "execution": {
     "iopub.execute_input": "2020-08-16T12:37:35.548093Z",
     "iopub.status.busy": "2020-08-16T12:37:35.547376Z",
     "iopub.status.idle": "2020-08-16T12:37:35.556344Z",
     "shell.execute_reply": "2020-08-16T12:37:35.556762Z"
    },
    "papermill": {
     "duration": 0.038757,
     "end_time": "2020-08-16T12:37:35.556906",
     "exception": false,
     "start_time": "2020-08-16T12:37:35.518149",
     "status": "completed"
    },
    "tags": []
   },
   "outputs": [
    {
     "data": {
      "text/html": [
       "<div>\n",
       "<style scoped>\n",
       "    .dataframe tbody tr th:only-of-type {\n",
       "        vertical-align: middle;\n",
       "    }\n",
       "\n",
       "    .dataframe tbody tr th {\n",
       "        vertical-align: top;\n",
       "    }\n",
       "\n",
       "    .dataframe thead th {\n",
       "        text-align: right;\n",
       "    }\n",
       "</style>\n",
       "<table border=\"1\" class=\"dataframe\">\n",
       "  <thead>\n",
       "    <tr style=\"text-align: right;\">\n",
       "      <th>states</th>\n",
       "      <th>2020-07-01</th>\n",
       "      <th>2020-07-02</th>\n",
       "      <th>2020-07-03</th>\n",
       "      <th>2020-07-04</th>\n",
       "      <th>2020-07-05</th>\n",
       "      <th>2020-07-06</th>\n",
       "      <th>2020-07-07</th>\n",
       "      <th>2020-07-08</th>\n",
       "      <th>2020-07-09</th>\n",
       "      <th>2020-07-10</th>\n",
       "      <th>...</th>\n",
       "      <th>2020-08-07</th>\n",
       "      <th>2020-08-08</th>\n",
       "      <th>2020-08-09</th>\n",
       "      <th>2020-08-10</th>\n",
       "      <th>2020-08-11</th>\n",
       "      <th>2020-08-12</th>\n",
       "      <th>2020-08-13</th>\n",
       "      <th>2020-08-14</th>\n",
       "      <th>2020-08-15</th>\n",
       "      <th>2020-08-16</th>\n",
       "    </tr>\n",
       "    <tr>\n",
       "      <th>state</th>\n",
       "      <th></th>\n",
       "      <th></th>\n",
       "      <th></th>\n",
       "      <th></th>\n",
       "      <th></th>\n",
       "      <th></th>\n",
       "      <th></th>\n",
       "      <th></th>\n",
       "      <th></th>\n",
       "      <th></th>\n",
       "      <th></th>\n",
       "      <th></th>\n",
       "      <th></th>\n",
       "      <th></th>\n",
       "      <th></th>\n",
       "      <th></th>\n",
       "      <th></th>\n",
       "      <th></th>\n",
       "      <th></th>\n",
       "      <th></th>\n",
       "      <th></th>\n",
       "    </tr>\n",
       "  </thead>\n",
       "  <tbody>\n",
       "    <tr>\n",
       "      <th>Odisha</th>\n",
       "      <td>0</td>\n",
       "      <td>229</td>\n",
       "      <td>561</td>\n",
       "      <td>495</td>\n",
       "      <td>469</td>\n",
       "      <td>456</td>\n",
       "      <td>571</td>\n",
       "      <td>527</td>\n",
       "      <td>577</td>\n",
       "      <td>755</td>\n",
       "      <td>...</td>\n",
       "      <td>1833</td>\n",
       "      <td>1643</td>\n",
       "      <td>1734</td>\n",
       "      <td>1528</td>\n",
       "      <td>1341</td>\n",
       "      <td>1876</td>\n",
       "      <td>1981</td>\n",
       "      <td>1977</td>\n",
       "      <td>2496</td>\n",
       "      <td>2924</td>\n",
       "    </tr>\n",
       "    <tr>\n",
       "      <th>Telangana</th>\n",
       "      <td>0</td>\n",
       "      <td>1213</td>\n",
       "      <td>1892</td>\n",
       "      <td>1850</td>\n",
       "      <td>1590</td>\n",
       "      <td>1831</td>\n",
       "      <td>1879</td>\n",
       "      <td>1924</td>\n",
       "      <td>1410</td>\n",
       "      <td>1278</td>\n",
       "      <td>...</td>\n",
       "      <td>2207</td>\n",
       "      <td>2256</td>\n",
       "      <td>1982</td>\n",
       "      <td>1256</td>\n",
       "      <td>1896</td>\n",
       "      <td>1897</td>\n",
       "      <td>1931</td>\n",
       "      <td>1921</td>\n",
       "      <td>1863</td>\n",
       "      <td>1102</td>\n",
       "    </tr>\n",
       "    <tr>\n",
       "      <th>Rajasthan</th>\n",
       "      <td>0</td>\n",
       "      <td>350</td>\n",
       "      <td>390</td>\n",
       "      <td>480</td>\n",
       "      <td>632</td>\n",
       "      <td>524</td>\n",
       "      <td>716</td>\n",
       "      <td>659</td>\n",
       "      <td>500</td>\n",
       "      <td>611</td>\n",
       "      <td>...</td>\n",
       "      <td>1161</td>\n",
       "      <td>1171</td>\n",
       "      <td>1169</td>\n",
       "      <td>1173</td>\n",
       "      <td>1217</td>\n",
       "      <td>1213</td>\n",
       "      <td>1314</td>\n",
       "      <td>1278</td>\n",
       "      <td>1287</td>\n",
       "      <td>687</td>\n",
       "    </tr>\n",
       "    <tr>\n",
       "      <th>Puducherry</th>\n",
       "      <td>0</td>\n",
       "      <td>63</td>\n",
       "      <td>22</td>\n",
       "      <td>80</td>\n",
       "      <td>42</td>\n",
       "      <td>65</td>\n",
       "      <td>30</td>\n",
       "      <td>110</td>\n",
       "      <td>49</td>\n",
       "      <td>72</td>\n",
       "      <td>...</td>\n",
       "      <td>241</td>\n",
       "      <td>261</td>\n",
       "      <td>259</td>\n",
       "      <td>242</td>\n",
       "      <td>276</td>\n",
       "      <td>481</td>\n",
       "      <td>299</td>\n",
       "      <td>315</td>\n",
       "      <td>359</td>\n",
       "      <td>378</td>\n",
       "    </tr>\n",
       "    <tr>\n",
       "      <th>Tripura</th>\n",
       "      <td>0</td>\n",
       "      <td>39</td>\n",
       "      <td>93</td>\n",
       "      <td>25</td>\n",
       "      <td>23</td>\n",
       "      <td>111</td>\n",
       "      <td>24</td>\n",
       "      <td>57</td>\n",
       "      <td>16</td>\n",
       "      <td>142</td>\n",
       "      <td>...</td>\n",
       "      <td>128</td>\n",
       "      <td>146</td>\n",
       "      <td>147</td>\n",
       "      <td>62</td>\n",
       "      <td>164</td>\n",
       "      <td>110</td>\n",
       "      <td>121</td>\n",
       "      <td>164</td>\n",
       "      <td>167</td>\n",
       "      <td>127</td>\n",
       "    </tr>\n",
       "  </tbody>\n",
       "</table>\n",
       "<p>5 rows × 47 columns</p>\n",
       "</div>"
      ],
      "text/plain": [
       "states      2020-07-01  2020-07-02  2020-07-03  2020-07-04  2020-07-05  \\\n",
       "state                                                                    \n",
       "Odisha               0         229         561         495         469   \n",
       "Telangana            0        1213        1892        1850        1590   \n",
       "Rajasthan            0         350         390         480         632   \n",
       "Puducherry           0          63          22          80          42   \n",
       "Tripura              0          39          93          25          23   \n",
       "\n",
       "states      2020-07-06  2020-07-07  2020-07-08  2020-07-09  2020-07-10  ...  \\\n",
       "state                                                                   ...   \n",
       "Odisha             456         571         527         577         755  ...   \n",
       "Telangana         1831        1879        1924        1410        1278  ...   \n",
       "Rajasthan          524         716         659         500         611  ...   \n",
       "Puducherry          65          30         110          49          72  ...   \n",
       "Tripura            111          24          57          16         142  ...   \n",
       "\n",
       "states      2020-08-07  2020-08-08  2020-08-09  2020-08-10  2020-08-11  \\\n",
       "state                                                                    \n",
       "Odisha            1833        1643        1734        1528        1341   \n",
       "Telangana         2207        2256        1982        1256        1896   \n",
       "Rajasthan         1161        1171        1169        1173        1217   \n",
       "Puducherry         241         261         259         242         276   \n",
       "Tripura            128         146         147          62         164   \n",
       "\n",
       "states      2020-08-12  2020-08-13  2020-08-14  2020-08-15  2020-08-16  \n",
       "state                                                                   \n",
       "Odisha            1876        1981        1977        2496        2924  \n",
       "Telangana         1897        1931        1921        1863        1102  \n",
       "Rajasthan         1213        1314        1278        1287         687  \n",
       "Puducherry         481         299         315         359         378  \n",
       "Tripura            110         121         164         167         127  \n",
       "\n",
       "[5 rows x 47 columns]"
      ]
     },
     "execution_count": 18,
     "metadata": {},
     "output_type": "execute_result"
    }
   ],
   "source": [
    "#hide\n",
    "dft_ct_new_cases.head()"
   ]
  },
  {
   "cell_type": "code",
   "execution_count": 19,
   "metadata": {
    "execution": {
     "iopub.execute_input": "2020-08-16T12:37:35.616758Z",
     "iopub.status.busy": "2020-08-16T12:37:35.611402Z",
     "iopub.status.idle": "2020-08-16T12:37:37.991233Z",
     "shell.execute_reply": "2020-08-16T12:37:37.991683Z"
    },
    "papermill": {
     "duration": 2.415832,
     "end_time": "2020-08-16T12:37:37.991835",
     "exception": false,
     "start_time": "2020-08-16T12:37:35.576003",
     "status": "completed"
    },
    "tags": []
   },
   "outputs": [
    {
     "data": {
      "image/png": "[encoded data removed]",
      "text/plain": [
       "<Figure size 1296x2016 with 11 Axes>"
      ]
     },
     "metadata": {
      "needs_background": "light"
     },
     "output_type": "display_data"
    }
   ],
   "source": [
    "#hide_input\n",
    "df = dft_ct_new_cases.copy()\n",
    "df.loc['Total'] = df.sum()\n",
    "n = 5\n",
    "ax = []\n",
    "fig = plt.figure(figsize = (18,28))\n",
    "gs = fig.add_gridspec(n+2, 5)\n",
    "# gs = fig.add_gridspec(2, 3)\n",
    "ax1 = fig.add_subplot(gs[0, :])\n",
    "ef = df.loc['Total'].rename_axis('date').reset_index()\n",
    "ef['date'] = ef['date'].astype('datetime64[ns]')\n",
    "ax1.bar(ef.date,ef.Total,alpha=0.3,color='#007acc')\n",
    "ax1.plot(ef.date,ef.Total , marker=\"o\", color='#007acc')\n",
    "ax1.xaxis.set_major_locator(mdates.WeekdayLocator())\n",
    "ax1.xaxis.set_major_formatter(mdates.DateFormatter('%b %d'))\n",
    "ax1.text(0.02, 0.5,'India daily case count', transform = ax1.transAxes, fontsize=25);\n",
    "ax1.spines['right'].set_visible(False)\n",
    "ax1.spines['top'].set_visible(False)\n",
    "\n",
    "ax2 = fig.add_subplot(gs[1,0])\n",
    "ef = df.loc['Maharashtra'].rename_axis('date').reset_index()\n",
    "ef['date'] = ef['date'].astype('datetime64[ns]')\n",
    "\n",
    "ax2.bar(ef.date, ef.Maharashtra,color = '#007acc',alpha=0.5)\n",
    "ax2.xaxis.set_major_locator(mdates.WeekdayLocator())\n",
    "ax2.xaxis.set_major_formatter(mdates.DateFormatter('%b %d'))\n",
    "ax2.set_xticks(ax2.get_xticks()[::3])\n",
    "maxyval = ef.Maharashtra.max()\n",
    "ax2.set_ylim([0,maxyval])\n",
    "ax2.text(0.05, 0.9,'Maharashtra', transform = ax2.transAxes, fontsize=20);\n",
    "ax2.spines['right'].set_visible(False)\n",
    "ax2.spines['top'].set_visible(False)\n",
    "\n",
    "\n",
    "ax3 = fig.add_subplot(gs[1,1])\n",
    "ef = df.loc['Tamil Nadu'].rename_axis('date').reset_index()\n",
    "ef['date'] = ef['date'].astype('datetime64[ns]')\n",
    "ax3.bar(ef.date, ef['Tamil Nadu'],color = '#007acc',alpha=0.5,)\n",
    "ax3.xaxis.set_major_locator(mdates.WeekdayLocator())\n",
    "ax3.xaxis.set_major_formatter(mdates.DateFormatter('%b %d'))\n",
    "ax3.set_xticks(ax3.get_xticks()[::3])\n",
    "ax3.text(0.05, 0.9,'Tamil Nadu', transform = ax3.transAxes, fontsize=20);\n",
    "ax3.spines['right'].set_visible(False)\n",
    "ax3.spines['top'].set_visible(False)\n",
    "\n",
    "ax5 = fig.add_subplot(gs[1,3])\n",
    "ef = df.loc['Telangana'].rename_axis('date').reset_index()\n",
    "ef['date'] = ef['date'].astype('datetime64[ns]')\n",
    "ax5.bar(ef.date, ef['Telangana'],color = '#007acc',alpha=0.5,)\n",
    "ax5.xaxis.set_major_locator(mdates.WeekdayLocator())\n",
    "ax5.xaxis.set_major_formatter(mdates.DateFormatter('%b %d'))\n",
    "ax5.set_xticks(ax5.get_xticks()[::3])\n",
    "ax5.text(0.05, 0.9,'Telangana', transform = ax5.transAxes, fontsize=20);\n",
    "ax5.spines['right'].set_visible(False)\n",
    "ax5.spines['top'].set_visible(False)\n",
    "\n",
    "ax6 = fig.add_subplot(gs[1,4])\n",
    "ef = df.loc['Andhra Pradesh'].rename_axis('date').reset_index()\n",
    "ef['date'] = ef['date'].astype('datetime64[ns]')\n",
    "ax6.bar(ef.date, ef['Andhra Pradesh'],color = '#007acc',alpha=0.5,)\n",
    "ax6.xaxis.set_major_locator(mdates.WeekdayLocator())\n",
    "ax6.xaxis.set_major_formatter(mdates.DateFormatter('%b %d'))\n",
    "ax6.set_xticks(ax6.get_xticks()[::3])\n",
    "ax6.text(0.05, 1,'Andhra Pradesh', transform = ax6.transAxes, fontsize=20);\n",
    "ax6.spines['right'].set_visible(False)\n",
    "ax6.spines['top'].set_visible(False)\n",
    "\n",
    "ax4 = fig.add_subplot(gs[1,2])\n",
    "ef = df.loc['Delhi'].rename_axis('date').reset_index()\n",
    "ef['date'] = ef['date'].astype('datetime64[ns]')\n",
    "ax4.bar(ef.date, ef.Delhi,color = '#007acc',alpha=0.5)\n",
    "ax4.set_xticks([])\n",
    "ax4.xaxis.set_major_locator(mdates.WeekdayLocator())\n",
    "ax4.xaxis.set_major_formatter(mdates.DateFormatter('%b %d'))\n",
    "ax4.set_xticks(ax4.get_xticks()[::3])\n",
    "ax4.spines['right'].set_visible(False)\n",
    "ax4.spines['top'].set_visible(False)\n",
    "\n",
    "ax4.text(0.05, 1,'Delhi', transform = ax4.transAxes, fontsize=20)\n",
    "\n",
    "for i in range(n):\n",
    "    \n",
    "    ax.append(fig.add_subplot(gs[i+2,:]))\n",
    "    ef = df.iloc[i+3].rename_axis('date').reset_index()\n",
    "    ef['date'] = ef['date'].astype('datetime64[ns]')\n",
    "    ax[i].bar(ef.date,ef.iloc[:,-1],color = '#007acc',alpha=0.3)\n",
    "    ax[i].plot(ef.date,ef.iloc[:,-1],marker='o',color='#007acc')\n",
    "    ax[i].text(0.02,0.5,f'{ef.columns.values[-1]}',transform = ax[i].transAxes, fontsize = 20);\n",
    "    ax[i].xaxis.set_major_locator(mdates.WeekdayLocator())\n",
    "    ax[i].xaxis.set_major_formatter(mdates.DateFormatter('%b %d'))\n",
    "    ax[i].set_ylim([0,7000])\n",
    "    ax[i].spines['right'].set_visible(False)\n",
    "    ax[i].spines['top'].set_visible(False)\n",
    "plt.tight_layout()\n"
   ]
  },
  {
   "cell_type": "code",
   "execution_count": 20,
   "metadata": {
    "execution": {
     "iopub.execute_input": "2020-08-16T12:37:39.203156Z",
     "iopub.status.busy": "2020-08-16T12:37:39.202635Z",
     "iopub.status.idle": "2020-08-16T12:37:39.205143Z",
     "shell.execute_reply": "2020-08-16T12:37:39.205862Z"
    },
    "papermill": {
     "duration": 1.056076,
     "end_time": "2020-08-16T12:37:39.206027",
     "exception": false,
     "start_time": "2020-08-16T12:37:38.149951",
     "status": "completed"
    },
    "tags": []
   },
   "outputs": [
    {
     "name": "stdout",
     "output_type": "stream",
     "text": [
      "                                   states   Cases  Deaths  PCases  PDeaths  Cases (+)  Deaths (+)  Fatality Rate\n",
      "                              Maharashtra  584754   19749  584754    19749          0           0           3.38\n",
      "                               Tamil Nadu  332105    5641  332105     5641          0           0           1.70\n",
      "                           Andhra Pradesh  281817    2562  281817     2562          0           0           0.91\n",
      "                                Karnataka  219926    3832  219926     3832          0           0           1.74\n",
      "                                    Delhi  151928    4188  151928     4188          0           0           2.76\n",
      "                            Uttar Pradesh  150061    2393  150061     2393          0           0           1.59\n",
      "                              West Bengal  113432    2377  113432     2377          0           0           2.10\n",
      "                                    Bihar  101906     515  101906      515          0           0           0.51\n",
      "                                Telangana   91361     693   90259      684       1102           9           0.76\n",
      "                                  Gujarat   77663    2765   77663     2765          0           0           3.56\n",
      "                                    Assam   75559     182   75559      182          0           0           0.24\n",
      "                                Rajasthan   60666     875   59979      862        687          13           1.44\n",
      "                                   Odisha   60050     396   57126      386       2924          10           0.66\n",
      "                                  Haryana   46410     528   46410      528          0           0           1.14\n",
      "                           Madhya Pradesh   44433    1094   44433     1094          0           0           2.46\n",
      "                                   Kerala   42885     147   42885      147          0           0           0.34\n",
      "                                   Punjab   30041     771   30041      771          0           0           2.57\n",
      "                        Jammu and Kashmir   28021     527   28021      527          0           0           1.88\n",
      "                                Jharkhand   22672     229   22672      229          0           0           1.01\n",
      "                             Chhattisgarh   15045     134   15045      134          0           0           0.89\n",
      "                              Uttarakhand   11940     151   11940      151          0           0           1.26\n",
      "                                      Goa   11339      98   11339       98          0           0           0.86\n",
      "                               Puducherry    7732     110    7354      106        378           4           1.42\n",
      "                                  Tripura    7076      55    6949       50        127           5           0.78\n",
      "                                  Manipur    4390      13    4390       13          0           0           0.30\n",
      "                         Himachal Pradesh    4057      18    3993       18         64           0           0.44\n",
      "                                 Nagaland    3394       7    3340        7         54           0           0.21\n",
      "                        Arunachal Pradesh    2658       5    2658        5          0           0           0.19\n",
      "              Andaman and Nicobar Islands    2306      24    2306       24          0           0           1.04\n",
      "                               Chandigarh    2009      28    2009       28          0           0           1.39\n",
      "                                   Ladakh    1909      10    1909       10          0           0           0.52\n",
      " Dadra and Nagar Haveli and Daman and Diu    1862       2    1846        2         16           0           0.11\n",
      "                                Meghalaya    1355       6    1292        6         63           0           0.44\n",
      "                                   Sikkim    1148       1    1148        1          0           0           0.09\n",
      "                                  Mizoram     777       0     713        0         64           0           0.00\n",
      "                              Lakshadweep       0       0       0        0          0           0            NaN\n"
     ]
    }
   ],
   "source": [
    "#hide_input\n",
    "print(df_table.to_string(index=False))"
   ]
  },
  {
   "cell_type": "code",
   "execution_count": null,
   "metadata": {
    "papermill": {
     "duration": 0.044108,
     "end_time": "2020-08-16T12:37:39.331711",
     "exception": false,
     "start_time": "2020-08-16T12:37:39.287603",
     "status": "completed"
    },
    "tags": []
   },
   "outputs": [],
   "source": []
  },
  {
   "cell_type": "code",
   "execution_count": null,
   "metadata": {
    "papermill": {
     "duration": 0.020234,
     "end_time": "2020-08-16T12:37:39.372789",
     "exception": false,
     "start_time": "2020-08-16T12:37:39.352555",
     "status": "completed"
    },
    "tags": []
   },
   "outputs": [],
   "source": []
  }
 ],
 "metadata": {
  "kernelspec": {
   "display_name": "Python 3",
   "language": "python",
   "name": "python3"
  },
  "language_info": {
   "codemirror_mode": {
    "name": "ipython",
    "version": 3
   },
   "file_extension": ".py",
   "mimetype": "text/x-python",
   "name": "python",
   "nbconvert_exporter": "python",
   "pygments_lexer": "ipython3",
   "version": "3.6.11"
  },
  "papermill": {
   "duration": 8.173237,
   "end_time": "2020-08-16T12:37:39.803917",
   "environment_variables": {},
   "exception": null,
   "input_path": "latest.ipynb",
   "output_path": "latest.ipynb",
   "parameters": {},
   "start_time": "2020-08-16T12:37:31.630680",
   "version": "2.1.2"
  }
 },
 "nbformat": 4,
 "nbformat_minor": 4
}