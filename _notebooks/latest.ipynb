{
 "cells": [
  {
   "cell_type": "markdown",
   "metadata": {
    "papermill": {
     "duration": 0.018831,
     "end_time": "2020-10-21T07:52:44.658275",
     "exception": false,
     "start_time": "2020-10-21T07:52:44.639444",
     "status": "completed"
    },
    "tags": []
   },
   "source": [
    "# Latest COVID-19 India Matplotlib Overview"
   ]
  },
  {
   "cell_type": "code",
   "execution_count": 1,
   "metadata": {
    "execution": {
     "iopub.execute_input": "2020-10-21T07:52:44.696940Z",
     "iopub.status.busy": "2020-10-21T07:52:44.696037Z",
     "iopub.status.idle": "2020-10-21T07:52:45.303329Z",
     "shell.execute_reply": "2020-10-21T07:52:45.302243Z"
    },
    "papermill": {
     "duration": 0.629205,
     "end_time": "2020-10-21T07:52:45.303510",
     "exception": false,
     "start_time": "2020-10-21T07:52:44.674305",
     "status": "completed"
    },
    "tags": []
   },
   "outputs": [],
   "source": [
    "#hide\n",
    "import pandas as pd\n",
    "import numpy as np\n",
    "import requests\n",
    "import json\n",
    "import matplotlib.pyplot as plt\n",
    "import matplotlib.dates as mdates\n",
    "import matplotlib as mpl\n",
    "from IPython.core.display import display,HTML\n",
    "%matplotlib inline\n",
    "from datetime import date"
   ]
  },
  {
   "cell_type": "code",
   "execution_count": 2,
   "metadata": {
    "execution": {
     "iopub.execute_input": "2020-10-21T07:52:45.341975Z",
     "iopub.status.busy": "2020-10-21T07:52:45.340774Z",
     "iopub.status.idle": "2020-10-21T07:52:45.547294Z",
     "shell.execute_reply": "2020-10-21T07:52:45.546574Z"
    },
    "papermill": {
     "duration": 0.228599,
     "end_time": "2020-10-21T07:52:45.547487",
     "exception": false,
     "start_time": "2020-10-21T07:52:45.318888",
     "status": "completed"
    },
    "tags": []
   },
   "outputs": [],
   "source": [
    "#hide\n",
    "df  = pd.read_csv('https://api.covid19india.org/csv/latest/states.csv')\n",
    "df = df[['Date','State','Confirmed','Deceased']]\n",
    "df = df.rename(columns={'Confirmed':'Cases', \"Deceased\":'Deaths'})\n",
    "df_cases = df[[\"Date\",'State','Cases']]\n",
    "df_deaths = df[['Date','State','Deaths']]\n",
    "df_cases1 = df_cases.groupby('Date')\n",
    "df_deaths1= df_deaths.groupby('Date')"
   ]
  },
  {
   "cell_type": "code",
   "execution_count": 3,
   "metadata": {
    "execution": {
     "iopub.execute_input": "2020-10-21T07:52:45.585315Z",
     "iopub.status.busy": "2020-10-21T07:52:45.584714Z",
     "iopub.status.idle": "2020-10-21T07:52:45.602207Z",
     "shell.execute_reply": "2020-10-21T07:52:45.602656Z"
    },
    "papermill": {
     "duration": 0.037919,
     "end_time": "2020-10-21T07:52:45.602811",
     "exception": false,
     "start_time": "2020-10-21T07:52:45.564892",
     "status": "completed"
    },
    "tags": []
   },
   "outputs": [],
   "source": [
    "#hide\n",
    "df_snap = pd.read_csv('data/SnapshotCases-28-July.csv')\n",
    "arr_states = df_snap['states'].unique()\n",
    "arr_dates = df['Date'].unique()\n",
    "df_snap = df_snap.set_index('states')"
   ]
  },
  {
   "cell_type": "code",
   "execution_count": 4,
   "metadata": {
    "execution": {
     "iopub.execute_input": "2020-10-21T07:52:45.640240Z",
     "iopub.status.busy": "2020-10-21T07:52:45.639608Z",
     "iopub.status.idle": "2020-10-21T07:52:45.643440Z",
     "shell.execute_reply": "2020-10-21T07:52:45.642939Z"
    },
    "papermill": {
     "duration": 0.02569,
     "end_time": "2020-10-21T07:52:45.643567",
     "exception": false,
     "start_time": "2020-10-21T07:52:45.617877",
     "status": "completed"
    },
    "tags": []
   },
   "outputs": [
    {
     "data": {
      "text/plain": [
       "array(['Andaman and Nicobar Islands', 'Andhra Pradesh',\n",
       "       'Arunachal Pradesh', 'Assam', 'Bihar', 'Chandigarh',\n",
       "       'Dadra and Nagar Haveli and Daman and Diu', 'Delhi', 'Goa',\n",
       "       'Gujarat', 'Haryana', 'Himachal Pradesh', 'Jammu and Kashmir',\n",
       "       'Jharkhand', 'Karnataka', 'Kerala', 'Lakshadweep',\n",
       "       'Madhya Pradesh', 'Maharashtra', 'Manipur', 'Meghalaya', 'Mizoram',\n",
       "       'Nagaland', 'Odisha', 'Puducherry', 'Punjab', 'Rajasthan',\n",
       "       'Sikkim', 'Tamil Nadu', 'Telangana', 'Tripura', 'Uttar Pradesh',\n",
       "       'West Bengal', 'Chhattisgarh', 'Ladakh', 'Uttarakhand'],\n",
       "      dtype=object)"
      ]
     },
     "execution_count": 4,
     "metadata": {},
     "output_type": "execute_result"
    }
   ],
   "source": [
    "#hide\n",
    "arr_states[-9] = 'Puducherry'\n",
    "arr_states[-10] = 'Odisha'\n",
    "arr_states[6] = 'Dadra and Nagar Haveli and Daman and Diu'\n",
    "arr_states = np.append(arr_states,np.array(['Chhattisgarh','Ladakh','Uttarakhand']))\n",
    "arr_states"
   ]
  },
  {
   "cell_type": "code",
   "execution_count": 5,
   "metadata": {
    "execution": {
     "iopub.execute_input": "2020-10-21T07:52:45.689051Z",
     "iopub.status.busy": "2020-10-21T07:52:45.681978Z",
     "iopub.status.idle": "2020-10-21T07:52:45.692543Z",
     "shell.execute_reply": "2020-10-21T07:52:45.692016Z"
    },
    "papermill": {
     "duration": 0.03379,
     "end_time": "2020-10-21T07:52:45.692668",
     "exception": false,
     "start_time": "2020-10-21T07:52:45.658878",
     "status": "completed"
    },
    "tags": []
   },
   "outputs": [],
   "source": [
    "#hide\n",
    "dates = []\n",
    "for i in arr_dates:\n",
    "    if i>='2020-07-01':\n",
    "        dates.append(i)\n",
    "dict = {'states':dates}\n",
    "for i in arr_states:\n",
    "    dict[i] = [0]*len(dates)\n",
    "dft_cases = pd.DataFrame(dict)\n",
    "dft_deaths = pd.DataFrame(dict)\n"
   ]
  },
  {
   "cell_type": "code",
   "execution_count": 6,
   "metadata": {
    "execution": {
     "iopub.execute_input": "2020-10-21T07:52:45.729033Z",
     "iopub.status.busy": "2020-10-21T07:52:45.728428Z",
     "iopub.status.idle": "2020-10-21T07:52:47.251065Z",
     "shell.execute_reply": "2020-10-21T07:52:47.251561Z"
    },
    "papermill": {
     "duration": 1.543655,
     "end_time": "2020-10-21T07:52:47.251740",
     "exception": false,
     "start_time": "2020-10-21T07:52:45.708085",
     "status": "completed"
    },
    "tags": []
   },
   "outputs": [],
   "source": [
    "#hide\n",
    "for i in range(len(dates)):\n",
    "    df1_deaths = df_deaths1.get_group(dates[i])\n",
    "    for j in range(len(df1_deaths.index)):\n",
    "        if df1_deaths.iloc[j,1] in arr_states:\n",
    "            dft_deaths.loc[i,df1_deaths.iloc[j,1]] = df1_deaths.iloc[j,2]\n",
    "dft_deaths = dft_deaths.set_index('states')"
   ]
  },
  {
   "cell_type": "code",
   "execution_count": 7,
   "metadata": {
    "execution": {
     "iopub.execute_input": "2020-10-21T07:52:47.331748Z",
     "iopub.status.busy": "2020-10-21T07:52:47.331115Z",
     "iopub.status.idle": "2020-10-21T07:52:48.855454Z",
     "shell.execute_reply": "2020-10-21T07:52:48.854289Z"
    },
    "papermill": {
     "duration": 1.578603,
     "end_time": "2020-10-21T07:52:48.855619",
     "exception": false,
     "start_time": "2020-10-21T07:52:47.277016",
     "status": "completed"
    },
    "tags": []
   },
   "outputs": [],
   "source": [
    "#hide\n",
    "for i in range(len(dates)):\n",
    "    df1_cases = df_cases1.get_group(dates[i])\n",
    "    for j in range(len(df1_cases.index)):\n",
    "        if df1_cases.iloc[j,1] in arr_states:\n",
    "            dft_cases.loc[i,df1_cases.iloc[j,1]] = df1_cases.iloc[j,2]\n",
    "dft_cases = dft_cases.set_index('states')"
   ]
  },
  {
   "cell_type": "code",
   "execution_count": 8,
   "metadata": {
    "execution": {
     "iopub.execute_input": "2020-10-21T07:52:48.893754Z",
     "iopub.status.busy": "2020-10-21T07:52:48.892428Z",
     "iopub.status.idle": "2020-10-21T07:52:48.894421Z",
     "shell.execute_reply": "2020-10-21T07:52:48.894895Z"
    },
    "papermill": {
     "duration": 0.02366,
     "end_time": "2020-10-21T07:52:48.895044",
     "exception": false,
     "start_time": "2020-10-21T07:52:48.871384",
     "status": "completed"
    },
    "tags": []
   },
   "outputs": [],
   "source": [
    "#hide\n",
    "dft_cases = dft_cases.T\n",
    "dft_deaths = dft_deaths.T\n",
    "dt_today = dates[-1]\n",
    "dt_yday = dates[-2]"
   ]
  },
  {
   "cell_type": "code",
   "execution_count": 9,
   "metadata": {
    "execution": {
     "iopub.execute_input": "2020-10-21T07:52:48.933619Z",
     "iopub.status.busy": "2020-10-21T07:52:48.932018Z",
     "iopub.status.idle": "2020-10-21T07:52:48.938371Z",
     "shell.execute_reply": "2020-10-21T07:52:48.938847Z"
    },
    "papermill": {
     "duration": 0.028489,
     "end_time": "2020-10-21T07:52:48.938992",
     "exception": false,
     "start_time": "2020-10-21T07:52:48.910503",
     "status": "completed"
    },
    "tags": []
   },
   "outputs": [],
   "source": [
    "#hide\n",
    "dft_cases = dft_cases.reset_index()\n",
    "dft_deaths = dft_deaths.reset_index()\n",
    "dft_cases = dft_cases.rename(columns = {'index':'state'})\n",
    "dft_deaths = dft_deaths.rename(columns = {'index':'state'})"
   ]
  },
  {
   "cell_type": "code",
   "execution_count": 10,
   "metadata": {
    "execution": {
     "iopub.execute_input": "2020-10-21T07:52:48.983379Z",
     "iopub.status.busy": "2020-10-21T07:52:48.982791Z",
     "iopub.status.idle": "2020-10-21T07:52:48.984647Z",
     "shell.execute_reply": "2020-10-21T07:52:48.985092Z"
    },
    "papermill": {
     "duration": 0.030973,
     "end_time": "2020-10-21T07:52:48.985237",
     "exception": false,
     "start_time": "2020-10-21T07:52:48.954264",
     "status": "completed"
    },
    "tags": []
   },
   "outputs": [],
   "source": [
    "#hide\n",
    "dfc_cases = dft_cases.groupby('state')[dt_today].sum()\n",
    "dfc_deaths = dft_deaths.groupby('state')[dt_today].sum()\n",
    "dfp_cases = dft_cases.groupby('state')[dt_yday].sum()\n",
    "dfp_deaths = dft_deaths.groupby('state')[dt_yday].sum()"
   ]
  },
  {
   "cell_type": "code",
   "execution_count": 11,
   "metadata": {
    "execution": {
     "iopub.execute_input": "2020-10-21T07:52:49.030273Z",
     "iopub.status.busy": "2020-10-21T07:52:49.029682Z",
     "iopub.status.idle": "2020-10-21T07:52:49.035663Z",
     "shell.execute_reply": "2020-10-21T07:52:49.036213Z"
    },
    "papermill": {
     "duration": 0.035628,
     "end_time": "2020-10-21T07:52:49.036363",
     "exception": false,
     "start_time": "2020-10-21T07:52:49.000735",
     "status": "completed"
    },
    "tags": []
   },
   "outputs": [
    {
     "data": {
      "text/html": [
       "<div>\n",
       "<style scoped>\n",
       "    .dataframe tbody tr th:only-of-type {\n",
       "        vertical-align: middle;\n",
       "    }\n",
       "\n",
       "    .dataframe tbody tr th {\n",
       "        vertical-align: top;\n",
       "    }\n",
       "\n",
       "    .dataframe thead th {\n",
       "        text-align: right;\n",
       "    }\n",
       "</style>\n",
       "<table border=\"1\" class=\"dataframe\">\n",
       "  <thead>\n",
       "    <tr style=\"text-align: right;\">\n",
       "      <th></th>\n",
       "      <th>states</th>\n",
       "      <th>Cases</th>\n",
       "      <th>Deaths</th>\n",
       "      <th>PCases</th>\n",
       "      <th>PDeaths</th>\n",
       "    </tr>\n",
       "  </thead>\n",
       "  <tbody>\n",
       "    <tr>\n",
       "      <th>0</th>\n",
       "      <td>Maharashtra</td>\n",
       "      <td>1609516</td>\n",
       "      <td>42453</td>\n",
       "      <td>1609516</td>\n",
       "      <td>42453</td>\n",
       "    </tr>\n",
       "    <tr>\n",
       "      <th>1</th>\n",
       "      <td>Andhra Pradesh</td>\n",
       "      <td>789553</td>\n",
       "      <td>6481</td>\n",
       "      <td>789553</td>\n",
       "      <td>6481</td>\n",
       "    </tr>\n",
       "    <tr>\n",
       "      <th>2</th>\n",
       "      <td>Karnataka</td>\n",
       "      <td>776901</td>\n",
       "      <td>10608</td>\n",
       "      <td>776901</td>\n",
       "      <td>10608</td>\n",
       "    </tr>\n",
       "    <tr>\n",
       "      <th>3</th>\n",
       "      <td>Tamil Nadu</td>\n",
       "      <td>694030</td>\n",
       "      <td>10741</td>\n",
       "      <td>694030</td>\n",
       "      <td>10741</td>\n",
       "    </tr>\n",
       "    <tr>\n",
       "      <th>4</th>\n",
       "      <td>Uttar Pradesh</td>\n",
       "      <td>459154</td>\n",
       "      <td>6714</td>\n",
       "      <td>459154</td>\n",
       "      <td>6714</td>\n",
       "    </tr>\n",
       "  </tbody>\n",
       "</table>\n",
       "</div>"
      ],
      "text/plain": [
       "           states    Cases  Deaths   PCases  PDeaths\n",
       "0     Maharashtra  1609516   42453  1609516    42453\n",
       "1  Andhra Pradesh   789553    6481   789553     6481\n",
       "2       Karnataka   776901   10608   776901    10608\n",
       "3      Tamil Nadu   694030   10741   694030    10741\n",
       "4   Uttar Pradesh   459154    6714   459154     6714"
      ]
     },
     "execution_count": 11,
     "metadata": {},
     "output_type": "execute_result"
    }
   ],
   "source": [
    "#hide\n",
    "df_table = pd.DataFrame({'states': dfc_cases.index, 'Cases': dfc_cases.values, 'Deaths': dfc_deaths.values, 'PCases': dfp_cases.values, 'PDeaths': dfp_deaths.values}).set_index('states')\n",
    "df_table = df_table.sort_values(by = ['Cases','Deaths'], ascending = [False, False])\n",
    "df_table = df_table.reset_index()\n",
    "df_table.head()"
   ]
  },
  {
   "cell_type": "code",
   "execution_count": 12,
   "metadata": {
    "execution": {
     "iopub.execute_input": "2020-10-21T07:52:49.074384Z",
     "iopub.status.busy": "2020-10-21T07:52:49.073793Z",
     "iopub.status.idle": "2020-10-21T07:52:49.083396Z",
     "shell.execute_reply": "2020-10-21T07:52:49.083841Z"
    },
    "papermill": {
     "duration": 0.031912,
     "end_time": "2020-10-21T07:52:49.084018",
     "exception": false,
     "start_time": "2020-10-21T07:52:49.052106",
     "status": "completed"
    },
    "tags": []
   },
   "outputs": [],
   "source": [
    "#hide\n",
    "for c in 'Cases, Deaths'.split(', '):\n",
    "    df_table[f'{c} (+)'] = (df_table[c] - df_table[f'P{c}']).clip(0)\n",
    "df_table['Fatality Rate'] = (100* df_table['Deaths']/ df_table['Cases']).round(2)"
   ]
  },
  {
   "cell_type": "code",
   "execution_count": 13,
   "metadata": {
    "execution": {
     "iopub.execute_input": "2020-10-21T07:52:49.126582Z",
     "iopub.status.busy": "2020-10-21T07:52:49.125990Z",
     "iopub.status.idle": "2020-10-21T07:52:49.129477Z",
     "shell.execute_reply": "2020-10-21T07:52:49.128976Z"
    },
    "papermill": {
     "duration": 0.029714,
     "end_time": "2020-10-21T07:52:49.129609",
     "exception": false,
     "start_time": "2020-10-21T07:52:49.099895",
     "status": "completed"
    },
    "tags": []
   },
   "outputs": [
    {
     "data": {
      "text/html": [
       "<div>\n",
       "<style scoped>\n",
       "    .dataframe tbody tr th:only-of-type {\n",
       "        vertical-align: middle;\n",
       "    }\n",
       "\n",
       "    .dataframe tbody tr th {\n",
       "        vertical-align: top;\n",
       "    }\n",
       "\n",
       "    .dataframe thead th {\n",
       "        text-align: right;\n",
       "    }\n",
       "</style>\n",
       "<table border=\"1\" class=\"dataframe\">\n",
       "  <thead>\n",
       "    <tr style=\"text-align: right;\">\n",
       "      <th></th>\n",
       "      <th>states</th>\n",
       "      <th>Cases</th>\n",
       "      <th>Deaths</th>\n",
       "      <th>PCases</th>\n",
       "      <th>PDeaths</th>\n",
       "      <th>Cases (+)</th>\n",
       "      <th>Deaths (+)</th>\n",
       "      <th>Fatality Rate</th>\n",
       "    </tr>\n",
       "  </thead>\n",
       "  <tbody>\n",
       "    <tr>\n",
       "      <th>0</th>\n",
       "      <td>Maharashtra</td>\n",
       "      <td>1609516</td>\n",
       "      <td>42453</td>\n",
       "      <td>1609516</td>\n",
       "      <td>42453</td>\n",
       "      <td>0</td>\n",
       "      <td>0</td>\n",
       "      <td>2.64</td>\n",
       "    </tr>\n",
       "    <tr>\n",
       "      <th>1</th>\n",
       "      <td>Andhra Pradesh</td>\n",
       "      <td>789553</td>\n",
       "      <td>6481</td>\n",
       "      <td>789553</td>\n",
       "      <td>6481</td>\n",
       "      <td>0</td>\n",
       "      <td>0</td>\n",
       "      <td>0.82</td>\n",
       "    </tr>\n",
       "    <tr>\n",
       "      <th>2</th>\n",
       "      <td>Karnataka</td>\n",
       "      <td>776901</td>\n",
       "      <td>10608</td>\n",
       "      <td>776901</td>\n",
       "      <td>10608</td>\n",
       "      <td>0</td>\n",
       "      <td>0</td>\n",
       "      <td>1.37</td>\n",
       "    </tr>\n",
       "    <tr>\n",
       "      <th>3</th>\n",
       "      <td>Tamil Nadu</td>\n",
       "      <td>694030</td>\n",
       "      <td>10741</td>\n",
       "      <td>694030</td>\n",
       "      <td>10741</td>\n",
       "      <td>0</td>\n",
       "      <td>0</td>\n",
       "      <td>1.55</td>\n",
       "    </tr>\n",
       "    <tr>\n",
       "      <th>4</th>\n",
       "      <td>Uttar Pradesh</td>\n",
       "      <td>459154</td>\n",
       "      <td>6714</td>\n",
       "      <td>459154</td>\n",
       "      <td>6714</td>\n",
       "      <td>0</td>\n",
       "      <td>0</td>\n",
       "      <td>1.46</td>\n",
       "    </tr>\n",
       "  </tbody>\n",
       "</table>\n",
       "</div>"
      ],
      "text/plain": [
       "           states    Cases  Deaths   PCases  PDeaths  Cases (+)  Deaths (+)  \\\n",
       "0     Maharashtra  1609516   42453  1609516    42453          0           0   \n",
       "1  Andhra Pradesh   789553    6481   789553     6481          0           0   \n",
       "2       Karnataka   776901   10608   776901    10608          0           0   \n",
       "3      Tamil Nadu   694030   10741   694030    10741          0           0   \n",
       "4   Uttar Pradesh   459154    6714   459154     6714          0           0   \n",
       "\n",
       "   Fatality Rate  \n",
       "0           2.64  \n",
       "1           0.82  \n",
       "2           1.37  \n",
       "3           1.55  \n",
       "4           1.46  "
      ]
     },
     "execution_count": 13,
     "metadata": {},
     "output_type": "execute_result"
    }
   ],
   "source": [
    "#hide\n",
    "df_table.head()"
   ]
  },
  {
   "cell_type": "code",
   "execution_count": 14,
   "metadata": {
    "execution": {
     "iopub.execute_input": "2020-10-21T07:52:49.168376Z",
     "iopub.status.busy": "2020-10-21T07:52:49.167756Z",
     "iopub.status.idle": "2020-10-21T07:52:49.185338Z",
     "shell.execute_reply": "2020-10-21T07:52:49.184848Z"
    },
    "papermill": {
     "duration": 0.039751,
     "end_time": "2020-10-21T07:52:49.185473",
     "exception": false,
     "start_time": "2020-10-21T07:52:49.145722",
     "status": "completed"
    },
    "tags": []
   },
   "outputs": [
    {
     "data": {
      "text/plain": [
       "{'updated': '2020-10-21',\n",
       " 'since': '2020-10-20',\n",
       " 'Cases': 7652780,\n",
       " 'PCases': 7649158,\n",
       " 'Deaths': 115969,\n",
       " 'PDeaths': 115950,\n",
       " 'Cases (+)': 3622,\n",
       " 'Deaths (+)': 19}"
      ]
     },
     "execution_count": 14,
     "metadata": {},
     "output_type": "execute_result"
    }
   ],
   "source": [
    "#hide\n",
    "summary = {'updated':dates[-1], 'since':dates[-2]}\n",
    "list_names = ['Cases', 'PCases', 'Deaths', 'PDeaths', 'Cases (+)', 'Deaths (+)']\n",
    "for name in list_names:\n",
    "    summary[name] = df_table.sum()[name]\n",
    "summary"
   ]
  },
  {
   "cell_type": "code",
   "execution_count": 15,
   "metadata": {
    "execution": {
     "iopub.execute_input": "2020-10-21T07:52:49.223372Z",
     "iopub.status.busy": "2020-10-21T07:52:49.222763Z",
     "iopub.status.idle": "2020-10-21T07:52:49.226587Z",
     "shell.execute_reply": "2020-10-21T07:52:49.226051Z"
    },
    "papermill": {
     "duration": 0.024598,
     "end_time": "2020-10-21T07:52:49.226712",
     "exception": false,
     "start_time": "2020-10-21T07:52:49.202114",
     "status": "completed"
    },
    "tags": []
   },
   "outputs": [],
   "source": [
    "#hide\n",
    "overview = '''\n",
    "<!-- #######  HTML!! #########-->\n",
    "<h1 style=\"color: #5e9ca0; text-align: center;\">India</h1>\n",
    "<p style=\"text-align: center;\">Last update: <strong>{update}</strong></p>\n",
    "<p style=\"text-align: center;\">Confirmed cases:</p>\n",
    "<p style=\"text-align: center;font-size:24px;\">{cases} (<span style=\"color: #ff0000;\">+{new}</span>)</p>\n",
    "<p style=\"text-align: center;\">Confirmed deaths:</p>\n",
    "<p style=\"text-align: center;font-size:24px;\">{deaths} (<span style=\"color: #ff0000;\">+{dnew}</span>)</p>\n",
    "'''"
   ]
  },
  {
   "cell_type": "code",
   "execution_count": 16,
   "metadata": {
    "execution": {
     "iopub.execute_input": "2020-10-21T07:52:49.265216Z",
     "iopub.status.busy": "2020-10-21T07:52:49.264631Z",
     "iopub.status.idle": "2020-10-21T07:52:49.267736Z",
     "shell.execute_reply": "2020-10-21T07:52:49.267238Z"
    },
    "papermill": {
     "duration": 0.024772,
     "end_time": "2020-10-21T07:52:49.267859",
     "exception": false,
     "start_time": "2020-10-21T07:52:49.243087",
     "status": "completed"
    },
    "tags": []
   },
   "outputs": [
    {
     "data": {
      "text/html": [
       "\n",
       "<!-- #######  HTML!! #########-->\n",
       "<h1 style=\"color: #5e9ca0; text-align: center;\">India</h1>\n",
       "<p style=\"text-align: center;\">Last update: <strong>2020-10-21</strong></p>\n",
       "<p style=\"text-align: center;\">Confirmed cases:</p>\n",
       "<p style=\"text-align: center;font-size:24px;\">7652780 (<span style=\"color: #ff0000;\">+3622</span>)</p>\n",
       "<p style=\"text-align: center;\">Confirmed deaths:</p>\n",
       "<p style=\"text-align: center;font-size:24px;\">115969 (<span style=\"color: #ff0000;\">+19</span>)</p>\n"
      ],
      "text/plain": [
       "<IPython.core.display.HTML object>"
      ]
     },
     "metadata": {},
     "output_type": "display_data"
    }
   ],
   "source": [
    "#hide_input\n",
    "update = summary['updated']\n",
    "cases = summary['Cases']\n",
    "new = summary['Cases (+)']\n",
    "deaths = summary['Deaths']\n",
    "dnew = summary['Deaths (+)']\n",
    "\n",
    "html = HTML(overview.format(update=update, cases=cases,new=new,deaths=deaths,dnew=dnew))\n",
    "\n",
    "display(html)"
   ]
  },
  {
   "cell_type": "code",
   "execution_count": 17,
   "metadata": {
    "execution": {
     "iopub.execute_input": "2020-10-21T07:52:49.310050Z",
     "iopub.status.busy": "2020-10-21T07:52:49.309461Z",
     "iopub.status.idle": "2020-10-21T07:52:49.315669Z",
     "shell.execute_reply": "2020-10-21T07:52:49.315170Z"
    },
    "papermill": {
     "duration": 0.031261,
     "end_time": "2020-10-21T07:52:49.315792",
     "exception": false,
     "start_time": "2020-10-21T07:52:49.284531",
     "status": "completed"
    },
    "tags": []
   },
   "outputs": [],
   "source": [
    "#hide\n",
    "dt_cols = list(dft_cases.columns[1:])\n",
    "dft_ct_new_cases = dft_cases.groupby('state')[dt_cols].sum().diff(axis=1).fillna(0).astype(int)\n",
    "dft_ct_new_cases.sort_values(by = dates[-1], ascending = False,inplace = True)"
   ]
  },
  {
   "cell_type": "code",
   "execution_count": 18,
   "metadata": {
    "execution": {
     "iopub.execute_input": "2020-10-21T07:52:49.367579Z",
     "iopub.status.busy": "2020-10-21T07:52:49.366989Z",
     "iopub.status.idle": "2020-10-21T07:52:49.370478Z",
     "shell.execute_reply": "2020-10-21T07:52:49.370007Z"
    },
    "papermill": {
     "duration": 0.037829,
     "end_time": "2020-10-21T07:52:49.370606",
     "exception": false,
     "start_time": "2020-10-21T07:52:49.332777",
     "status": "completed"
    },
    "tags": []
   },
   "outputs": [
    {
     "data": {
      "text/html": [
       "<div>\n",
       "<style scoped>\n",
       "    .dataframe tbody tr th:only-of-type {\n",
       "        vertical-align: middle;\n",
       "    }\n",
       "\n",
       "    .dataframe tbody tr th {\n",
       "        vertical-align: top;\n",
       "    }\n",
       "\n",
       "    .dataframe thead th {\n",
       "        text-align: right;\n",
       "    }\n",
       "</style>\n",
       "<table border=\"1\" class=\"dataframe\">\n",
       "  <thead>\n",
       "    <tr style=\"text-align: right;\">\n",
       "      <th>states</th>\n",
       "      <th>2020-07-01</th>\n",
       "      <th>2020-07-02</th>\n",
       "      <th>2020-07-03</th>\n",
       "      <th>2020-07-04</th>\n",
       "      <th>2020-07-05</th>\n",
       "      <th>2020-07-06</th>\n",
       "      <th>2020-07-07</th>\n",
       "      <th>2020-07-08</th>\n",
       "      <th>2020-07-09</th>\n",
       "      <th>2020-07-10</th>\n",
       "      <th>...</th>\n",
       "      <th>2020-10-12</th>\n",
       "      <th>2020-10-13</th>\n",
       "      <th>2020-10-14</th>\n",
       "      <th>2020-10-15</th>\n",
       "      <th>2020-10-16</th>\n",
       "      <th>2020-10-17</th>\n",
       "      <th>2020-10-18</th>\n",
       "      <th>2020-10-19</th>\n",
       "      <th>2020-10-20</th>\n",
       "      <th>2020-10-21</th>\n",
       "    </tr>\n",
       "    <tr>\n",
       "      <th>state</th>\n",
       "      <th></th>\n",
       "      <th></th>\n",
       "      <th></th>\n",
       "      <th></th>\n",
       "      <th></th>\n",
       "      <th></th>\n",
       "      <th></th>\n",
       "      <th></th>\n",
       "      <th></th>\n",
       "      <th></th>\n",
       "      <th></th>\n",
       "      <th></th>\n",
       "      <th></th>\n",
       "      <th></th>\n",
       "      <th></th>\n",
       "      <th></th>\n",
       "      <th></th>\n",
       "      <th></th>\n",
       "      <th></th>\n",
       "      <th></th>\n",
       "      <th></th>\n",
       "    </tr>\n",
       "  </thead>\n",
       "  <tbody>\n",
       "    <tr>\n",
       "      <th>Odisha</th>\n",
       "      <td>0</td>\n",
       "      <td>229</td>\n",
       "      <td>561</td>\n",
       "      <td>495</td>\n",
       "      <td>469</td>\n",
       "      <td>456</td>\n",
       "      <td>571</td>\n",
       "      <td>527</td>\n",
       "      <td>577</td>\n",
       "      <td>755</td>\n",
       "      <td>...</td>\n",
       "      <td>2423</td>\n",
       "      <td>2275</td>\n",
       "      <td>2604</td>\n",
       "      <td>2470</td>\n",
       "      <td>2138</td>\n",
       "      <td>2196</td>\n",
       "      <td>2019</td>\n",
       "      <td>1982</td>\n",
       "      <td>1904</td>\n",
       "      <td>1931</td>\n",
       "    </tr>\n",
       "    <tr>\n",
       "      <th>Telangana</th>\n",
       "      <td>0</td>\n",
       "      <td>1213</td>\n",
       "      <td>1892</td>\n",
       "      <td>1850</td>\n",
       "      <td>1590</td>\n",
       "      <td>1831</td>\n",
       "      <td>1879</td>\n",
       "      <td>1924</td>\n",
       "      <td>1410</td>\n",
       "      <td>1278</td>\n",
       "      <td>...</td>\n",
       "      <td>1021</td>\n",
       "      <td>1708</td>\n",
       "      <td>1446</td>\n",
       "      <td>1432</td>\n",
       "      <td>1554</td>\n",
       "      <td>1451</td>\n",
       "      <td>1436</td>\n",
       "      <td>948</td>\n",
       "      <td>1486</td>\n",
       "      <td>1579</td>\n",
       "    </tr>\n",
       "    <tr>\n",
       "      <th>Tripura</th>\n",
       "      <td>0</td>\n",
       "      <td>39</td>\n",
       "      <td>93</td>\n",
       "      <td>25</td>\n",
       "      <td>23</td>\n",
       "      <td>111</td>\n",
       "      <td>24</td>\n",
       "      <td>57</td>\n",
       "      <td>16</td>\n",
       "      <td>142</td>\n",
       "      <td>...</td>\n",
       "      <td>109</td>\n",
       "      <td>217</td>\n",
       "      <td>181</td>\n",
       "      <td>172</td>\n",
       "      <td>162</td>\n",
       "      <td>134</td>\n",
       "      <td>141</td>\n",
       "      <td>85</td>\n",
       "      <td>135</td>\n",
       "      <td>112</td>\n",
       "    </tr>\n",
       "    <tr>\n",
       "      <th>Andaman and Nicobar Islands</th>\n",
       "      <td>0</td>\n",
       "      <td>9</td>\n",
       "      <td>7</td>\n",
       "      <td>3</td>\n",
       "      <td>6</td>\n",
       "      <td>16</td>\n",
       "      <td>6</td>\n",
       "      <td>2</td>\n",
       "      <td>7</td>\n",
       "      <td>0</td>\n",
       "      <td>...</td>\n",
       "      <td>18</td>\n",
       "      <td>13</td>\n",
       "      <td>10</td>\n",
       "      <td>16</td>\n",
       "      <td>10</td>\n",
       "      <td>11</td>\n",
       "      <td>25</td>\n",
       "      <td>18</td>\n",
       "      <td>15</td>\n",
       "      <td>0</td>\n",
       "    </tr>\n",
       "    <tr>\n",
       "      <th>Puducherry</th>\n",
       "      <td>0</td>\n",
       "      <td>63</td>\n",
       "      <td>22</td>\n",
       "      <td>80</td>\n",
       "      <td>42</td>\n",
       "      <td>65</td>\n",
       "      <td>30</td>\n",
       "      <td>110</td>\n",
       "      <td>49</td>\n",
       "      <td>72</td>\n",
       "      <td>...</td>\n",
       "      <td>188</td>\n",
       "      <td>267</td>\n",
       "      <td>241</td>\n",
       "      <td>241</td>\n",
       "      <td>280</td>\n",
       "      <td>212</td>\n",
       "      <td>163</td>\n",
       "      <td>106</td>\n",
       "      <td>205</td>\n",
       "      <td>0</td>\n",
       "    </tr>\n",
       "  </tbody>\n",
       "</table>\n",
       "<p>5 rows × 113 columns</p>\n",
       "</div>"
      ],
      "text/plain": [
       "states                       2020-07-01  2020-07-02  2020-07-03  2020-07-04  \\\n",
       "state                                                                         \n",
       "Odisha                                0         229         561         495   \n",
       "Telangana                             0        1213        1892        1850   \n",
       "Tripura                               0          39          93          25   \n",
       "Andaman and Nicobar Islands           0           9           7           3   \n",
       "Puducherry                            0          63          22          80   \n",
       "\n",
       "states                       2020-07-05  2020-07-06  2020-07-07  2020-07-08  \\\n",
       "state                                                                         \n",
       "Odisha                              469         456         571         527   \n",
       "Telangana                          1590        1831        1879        1924   \n",
       "Tripura                              23         111          24          57   \n",
       "Andaman and Nicobar Islands           6          16           6           2   \n",
       "Puducherry                           42          65          30         110   \n",
       "\n",
       "states                       2020-07-09  2020-07-10  ...  2020-10-12  \\\n",
       "state                                                ...               \n",
       "Odisha                              577         755  ...        2423   \n",
       "Telangana                          1410        1278  ...        1021   \n",
       "Tripura                              16         142  ...         109   \n",
       "Andaman and Nicobar Islands           7           0  ...          18   \n",
       "Puducherry                           49          72  ...         188   \n",
       "\n",
       "states                       2020-10-13  2020-10-14  2020-10-15  2020-10-16  \\\n",
       "state                                                                         \n",
       "Odisha                             2275        2604        2470        2138   \n",
       "Telangana                          1708        1446        1432        1554   \n",
       "Tripura                             217         181         172         162   \n",
       "Andaman and Nicobar Islands          13          10          16          10   \n",
       "Puducherry                          267         241         241         280   \n",
       "\n",
       "states                       2020-10-17  2020-10-18  2020-10-19  2020-10-20  \\\n",
       "state                                                                         \n",
       "Odisha                             2196        2019        1982        1904   \n",
       "Telangana                          1451        1436         948        1486   \n",
       "Tripura                             134         141          85         135   \n",
       "Andaman and Nicobar Islands          11          25          18          15   \n",
       "Puducherry                          212         163         106         205   \n",
       "\n",
       "states                       2020-10-21  \n",
       "state                                    \n",
       "Odisha                             1931  \n",
       "Telangana                          1579  \n",
       "Tripura                             112  \n",
       "Andaman and Nicobar Islands           0  \n",
       "Puducherry                            0  \n",
       "\n",
       "[5 rows x 113 columns]"
      ]
     },
     "execution_count": 18,
     "metadata": {},
     "output_type": "execute_result"
    }
   ],
   "source": [
    "#hide\n",
    "dft_ct_new_cases.head()"
   ]
  },
  {
   "cell_type": "code",
   "execution_count": 19,
   "metadata": {
    "execution": {
     "iopub.execute_input": "2020-10-21T07:52:49.425553Z",
     "iopub.status.busy": "2020-10-21T07:52:49.415204Z",
     "iopub.status.idle": "2020-10-21T07:52:53.623726Z",
     "shell.execute_reply": "2020-10-21T07:52:53.624266Z"
    },
    "papermill": {
     "duration": 4.23506,
     "end_time": "2020-10-21T07:52:53.624444",
     "exception": false,
     "start_time": "2020-10-21T07:52:49.389384",
     "status": "completed"
    },
    "tags": []
   },
   "outputs": [
    {
     "data": {
      "image/png": "[encoded data removed]",
      "text/plain": [
       "<Figure size 1296x2016 with 11 Axes>"
      ]
     },
     "metadata": {
      "needs_background": "light"
     },
     "output_type": "display_data"
    }
   ],
   "source": [
    "#hide_input\n",
    "df = dft_ct_new_cases.copy()\n",
    "df.loc['Total'] = df.sum()\n",
    "n = 5\n",
    "ax = []\n",
    "fig = plt.figure(figsize = (18,28))\n",
    "gs = fig.add_gridspec(n+2, 5)\n",
    "# gs = fig.add_gridspec(2, 3)\n",
    "ax1 = fig.add_subplot(gs[0, :])\n",
    "ef = df.loc['Total'].rename_axis('date').reset_index()\n",
    "ef['date'] = ef['date'].astype('datetime64[ns]')\n",
    "ax1.bar(ef.date,ef.Total,alpha=0.3,color='#007acc')\n",
    "ax1.plot(ef.date,ef.Total , marker=\"o\", color='#007acc')\n",
    "ax1.xaxis.set_major_locator(mdates.WeekdayLocator())\n",
    "ax1.xaxis.set_major_formatter(mdates.DateFormatter('%b %d'))\n",
    "ax1.text(0.02, 0.5,'India daily case count', transform = ax1.transAxes, fontsize=25);\n",
    "ax1.spines['right'].set_visible(False)\n",
    "ax1.spines['top'].set_visible(False)\n",
    "\n",
    "ax2 = fig.add_subplot(gs[1,0])\n",
    "ef = df.loc['Maharashtra'].rename_axis('date').reset_index()\n",
    "ef['date'] = ef['date'].astype('datetime64[ns]')\n",
    "\n",
    "ax2.bar(ef.date, ef.Maharashtra,color = '#007acc',alpha=0.5)\n",
    "ax2.xaxis.set_major_locator(mdates.WeekdayLocator())\n",
    "ax2.xaxis.set_major_formatter(mdates.DateFormatter('%b %d'))\n",
    "ax2.set_xticks(ax2.get_xticks()[::3])\n",
    "maxyval = ef.Maharashtra.max()\n",
    "ax2.set_ylim([0,maxyval])\n",
    "ax2.text(0.05, 0.9,'Maharashtra', transform = ax2.transAxes, fontsize=20);\n",
    "ax2.spines['right'].set_visible(False)\n",
    "ax2.spines['top'].set_visible(False)\n",
    "\n",
    "\n",
    "ax3 = fig.add_subplot(gs[1,1])\n",
    "ef = df.loc['Tamil Nadu'].rename_axis('date').reset_index()\n",
    "ef['date'] = ef['date'].astype('datetime64[ns]')\n",
    "ax3.bar(ef.date, ef['Tamil Nadu'],color = '#007acc',alpha=0.5,)\n",
    "ax3.xaxis.set_major_locator(mdates.WeekdayLocator())\n",
    "ax3.xaxis.set_major_formatter(mdates.DateFormatter('%b %d'))\n",
    "ax3.set_xticks(ax3.get_xticks()[::3])\n",
    "ax3.text(0.05, 0.9,'Tamil Nadu', transform = ax3.transAxes, fontsize=20);\n",
    "ax3.spines['right'].set_visible(False)\n",
    "ax3.spines['top'].set_visible(False)\n",
    "\n",
    "ax5 = fig.add_subplot(gs[1,3])\n",
    "ef = df.loc['Telangana'].rename_axis('date').reset_index()\n",
    "ef['date'] = ef['date'].astype('datetime64[ns]')\n",
    "ax5.bar(ef.date, ef['Telangana'],color = '#007acc',alpha=0.5,)\n",
    "ax5.xaxis.set_major_locator(mdates.WeekdayLocator())\n",
    "ax5.xaxis.set_major_formatter(mdates.DateFormatter('%b %d'))\n",
    "ax5.set_xticks(ax5.get_xticks()[::3])\n",
    "ax5.text(0.05, 0.9,'Telangana', transform = ax5.transAxes, fontsize=20);\n",
    "ax5.spines['right'].set_visible(False)\n",
    "ax5.spines['top'].set_visible(False)\n",
    "\n",
    "ax6 = fig.add_subplot(gs[1,4])\n",
    "ef = df.loc['Andhra Pradesh'].rename_axis('date').reset_index()\n",
    "ef['date'] = ef['date'].astype('datetime64[ns]')\n",
    "ax6.bar(ef.date, ef['Andhra Pradesh'],color = '#007acc',alpha=0.5,)\n",
    "ax6.xaxis.set_major_locator(mdates.WeekdayLocator())\n",
    "ax6.xaxis.set_major_formatter(mdates.DateFormatter('%b %d'))\n",
    "ax6.set_xticks(ax6.get_xticks()[::3])\n",
    "ax6.text(0.05, 1,'Andhra Pradesh', transform = ax6.transAxes, fontsize=20);\n",
    "ax6.spines['right'].set_visible(False)\n",
    "ax6.spines['top'].set_visible(False)\n",
    "\n",
    "ax4 = fig.add_subplot(gs[1,2])\n",
    "ef = df.loc['Delhi'].rename_axis('date').reset_index()\n",
    "ef['date'] = ef['date'].astype('datetime64[ns]')\n",
    "ax4.bar(ef.date, ef.Delhi,color = '#007acc',alpha=0.5)\n",
    "ax4.set_xticks([])\n",
    "ax4.xaxis.set_major_locator(mdates.WeekdayLocator())\n",
    "ax4.xaxis.set_major_formatter(mdates.DateFormatter('%b %d'))\n",
    "ax4.set_xticks(ax4.get_xticks()[::3])\n",
    "ax4.spines['right'].set_visible(False)\n",
    "ax4.spines['top'].set_visible(False)\n",
    "\n",
    "ax4.text(0.05, 1,'Delhi', transform = ax4.transAxes, fontsize=20)\n",
    "\n",
    "for i in range(n):\n",
    "    \n",
    "    ax.append(fig.add_subplot(gs[i+2,:]))\n",
    "    ef = df.iloc[i+3].rename_axis('date').reset_index()\n",
    "    ef['date'] = ef['date'].astype('datetime64[ns]')\n",
    "    ax[i].bar(ef.date,ef.iloc[:,-1],color = '#007acc',alpha=0.3)\n",
    "    ax[i].plot(ef.date,ef.iloc[:,-1],marker='o',color='#007acc')\n",
    "    ax[i].text(0.02,0.5,f'{ef.columns.values[-1]}',transform = ax[i].transAxes, fontsize = 20);\n",
    "    ax[i].xaxis.set_major_locator(mdates.WeekdayLocator())\n",
    "    ax[i].xaxis.set_major_formatter(mdates.DateFormatter('%b %d'))\n",
    "    ax[i].set_ylim([0,7000])\n",
    "    ax[i].spines['right'].set_visible(False)\n",
    "    ax[i].spines['top'].set_visible(False)\n",
    "plt.tight_layout()\n"
   ]
  },
  {
   "cell_type": "code",
   "execution_count": 20,
   "metadata": {
    "execution": {
     "iopub.execute_input": "2020-10-21T07:52:53.681195Z",
     "iopub.status.busy": "2020-10-21T07:52:53.680489Z",
     "iopub.status.idle": "2020-10-21T07:52:53.683210Z",
     "shell.execute_reply": "2020-10-21T07:52:53.683699Z"
    },
    "papermill": {
     "duration": 0.035807,
     "end_time": "2020-10-21T07:52:53.683892",
     "exception": false,
     "start_time": "2020-10-21T07:52:53.648085",
     "status": "completed"
    },
    "tags": []
   },
   "outputs": [
    {
     "name": "stdout",
     "output_type": "stream",
     "text": [
      "                                   states    Cases  Deaths   PCases  PDeaths  Cases (+)  Deaths (+)  Fatality Rate\n",
      "                              Maharashtra  1609516   42453  1609516    42453          0           0           2.64\n",
      "                           Andhra Pradesh   789553    6481   789553     6481          0           0           0.82\n",
      "                                Karnataka   776901   10608   776901    10608          0           0           1.37\n",
      "                               Tamil Nadu   694030   10741   694030    10741          0           0           1.55\n",
      "                            Uttar Pradesh   459154    6714   459154     6714          0           0           1.46\n",
      "                                   Kerala   353473    1207   353473     1207          0           0           0.34\n",
      "                                    Delhi   336750    6081   336750     6081          0           0           1.81\n",
      "                              West Bengal   329057    6180   329057     6180          0           0           1.88\n",
      "                                   Odisha   274181    1234   272250     1221       1931          13           0.45\n",
      "                                Telangana   226124    1287   224545     1282       1579           5           0.57\n",
      "                                    Bihar   206961    1011   206961     1011          0           0           0.49\n",
      "                                    Assam   202073     884   202073      884          0           0           0.44\n",
      "                                Rajasthan   177123    1774   177123     1774          0           0           1.00\n",
      "                             Chhattisgarh   165279    1584   165279     1584          0           0           0.96\n",
      "                           Madhya Pradesh   162178    2811   162178     2811          0           0           1.73\n",
      "                                  Gujarat   161848    3654   161848     3654          0           0           2.26\n",
      "                                  Haryana   152174    1660   152174     1660          0           0           1.09\n",
      "                                   Punjab   128590    4037   128590     4037          0           0           3.14\n",
      "                                Jharkhand    97414     849    97414      849          0           0           0.87\n",
      "                        Jammu and Kashmir    88958    1397    88958     1397          0           0           1.57\n",
      "                              Uttarakhand    58601     946    58601      946          0           0           1.61\n",
      "                                      Goa    41031     555    41031      555          0           0           1.35\n",
      "                               Puducherry    33452     577    33452      577          0           0           1.72\n",
      "                                  Tripura    29797     329    29685      328        112           1           1.10\n",
      "                         Himachal Pradesh    19357     269    19357      269          0           0           1.39\n",
      "                                  Manipur    16062     121    16062      121          0           0           0.75\n",
      "                        Arunachal Pradesh    13778      31    13778       31          0           0           0.22\n",
      "                               Chandigarh    13743     209    13743      209          0           0           1.52\n",
      "                                Meghalaya     8649      76     8649       76          0           0           0.88\n",
      "                                 Nagaland     8020      21     8020       21          0           0           0.26\n",
      "                                   Ladakh     5695      67     5695       67          0           0           1.18\n",
      "              Andaman and Nicobar Islands     4141      56     4141       56          0           0           1.35\n",
      "                                   Sikkim     3643      63     3643       63          0           0           1.73\n",
      " Dadra and Nagar Haveli and Daman and Diu     3194       2     3194        2          0           0           0.06\n",
      "                                  Mizoram     2280       0     2280        0          0           0           0.00\n",
      "                              Lakshadweep        0       0        0        0          0           0            NaN\n"
     ]
    }
   ],
   "source": [
    "#hide_input\n",
    "print(df_table.to_string(index=False))"
   ]
  },
  {
   "cell_type": "code",
   "execution_count": null,
   "metadata": {
    "papermill": {
     "duration": 0.023621,
     "end_time": "2020-10-21T07:52:53.733460",
     "exception": false,
     "start_time": "2020-10-21T07:52:53.709839",
     "status": "completed"
    },
    "tags": []
   },
   "outputs": [],
   "source": []
  },
  {
   "cell_type": "code",
   "execution_count": null,
   "metadata": {
    "papermill": {
     "duration": 0.022779,
     "end_time": "2020-10-21T07:52:53.779168",
     "exception": false,
     "start_time": "2020-10-21T07:52:53.756389",
     "status": "completed"
    },
    "tags": []
   },
   "outputs": [],
   "source": []
  }
 ],
 "metadata": {
  "kernelspec": {
   "display_name": "Python 3",
   "language": "python",
   "name": "python3"
  },
  "language_info": {
   "codemirror_mode": {
    "name": "ipython",
    "version": 3
   },
   "file_extension": ".py",
   "mimetype": "text/x-python",
   "name": "python",
   "nbconvert_exporter": "python",
   "pygments_lexer": "ipython3",
   "version": "3.6.12"
  },
  "papermill": {
   "duration": 10.77361,
   "end_time": "2020-10-21T07:52:54.312697",
   "environment_variables": {},
   "exception": null,
   "input_path": "latest.ipynb",
   "output_path": "latest.ipynb",
   "parameters": {},
   "start_time": "2020-10-21T07:52:43.539087",
   "version": "2.1.2"
  }
 },
 "nbformat": 4,
 "nbformat_minor": 4
}