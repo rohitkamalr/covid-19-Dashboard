{
 "cells": [
  {
   "cell_type": "markdown",
   "metadata": {
    "papermill": {
     "duration": 0.022002,
     "end_time": "2020-09-08T07:51:48.836453",
     "exception": false,
     "start_time": "2020-09-08T07:51:48.814451",
     "status": "completed"
    },
    "tags": []
   },
   "source": [
    "# Latest COVID-19 India Matplotlib Overview"
   ]
  },
  {
   "cell_type": "code",
   "execution_count": 1,
   "metadata": {
    "execution": {
     "iopub.execute_input": "2020-09-08T07:51:48.874683Z",
     "iopub.status.busy": "2020-09-08T07:51:48.873813Z",
     "iopub.status.idle": "2020-09-08T07:51:49.458730Z",
     "shell.execute_reply": "2020-09-08T07:51:49.457968Z"
    },
    "papermill": {
     "duration": 0.607016,
     "end_time": "2020-09-08T07:51:49.458938",
     "exception": false,
     "start_time": "2020-09-08T07:51:48.851922",
     "status": "completed"
    },
    "tags": []
   },
   "outputs": [],
   "source": [
    "#hide\n",
    "import pandas as pd\n",
    "import numpy as np\n",
    "import requests\n",
    "import json\n",
    "import matplotlib.pyplot as plt\n",
    "import matplotlib.dates as mdates\n",
    "import matplotlib as mpl\n",
    "from IPython.core.display import display,HTML\n",
    "%matplotlib inline\n",
    "from datetime import date"
   ]
  },
  {
   "cell_type": "code",
   "execution_count": 2,
   "metadata": {
    "execution": {
     "iopub.execute_input": "2020-09-08T07:51:49.500690Z",
     "iopub.status.busy": "2020-09-08T07:51:49.499767Z",
     "iopub.status.idle": "2020-09-08T07:51:49.601291Z",
     "shell.execute_reply": "2020-09-08T07:51:49.600738Z"
    },
    "papermill": {
     "duration": 0.124698,
     "end_time": "2020-09-08T07:51:49.601432",
     "exception": false,
     "start_time": "2020-09-08T07:51:49.476734",
     "status": "completed"
    },
    "tags": []
   },
   "outputs": [],
   "source": [
    "#hide\n",
    "df  = pd.read_csv('https://api.covid19india.org/csv/latest/states.csv')\n",
    "df = df[['Date','State','Confirmed','Deceased']]\n",
    "df = df.rename(columns={'Confirmed':'Cases', \"Deceased\":'Deaths'})\n",
    "df_cases = df[[\"Date\",'State','Cases']]\n",
    "df_deaths = df[['Date','State','Deaths']]\n",
    "df_cases1 = df_cases.groupby('Date')\n",
    "df_deaths1= df_deaths.groupby('Date')"
   ]
  },
  {
   "cell_type": "code",
   "execution_count": 3,
   "metadata": {
    "execution": {
     "iopub.execute_input": "2020-09-08T07:51:49.638237Z",
     "iopub.status.busy": "2020-09-08T07:51:49.637588Z",
     "iopub.status.idle": "2020-09-08T07:51:49.657362Z",
     "shell.execute_reply": "2020-09-08T07:51:49.656866Z"
    },
    "papermill": {
     "duration": 0.040763,
     "end_time": "2020-09-08T07:51:49.657499",
     "exception": false,
     "start_time": "2020-09-08T07:51:49.616736",
     "status": "completed"
    },
    "tags": []
   },
   "outputs": [],
   "source": [
    "#hide\n",
    "df_snap = pd.read_csv('data/SnapshotCases-28-July.csv')\n",
    "arr_states = df_snap['states'].unique()\n",
    "arr_dates = df['Date'].unique()\n",
    "df_snap = df_snap.set_index('states')"
   ]
  },
  {
   "cell_type": "code",
   "execution_count": 4,
   "metadata": {
    "execution": {
     "iopub.execute_input": "2020-09-08T07:51:49.699160Z",
     "iopub.status.busy": "2020-09-08T07:51:49.698540Z",
     "iopub.status.idle": "2020-09-08T07:51:49.703073Z",
     "shell.execute_reply": "2020-09-08T07:51:49.702525Z"
    },
    "papermill": {
     "duration": 0.030156,
     "end_time": "2020-09-08T07:51:49.703214",
     "exception": false,
     "start_time": "2020-09-08T07:51:49.673058",
     "status": "completed"
    },
    "tags": []
   },
   "outputs": [
    {
     "data": {
      "text/plain": [
       "array(['Andaman and Nicobar Islands', 'Andhra Pradesh',\n",
       "       'Arunachal Pradesh', 'Assam', 'Bihar', 'Chandigarh',\n",
       "       'Dadra and Nagar Haveli and Daman and Diu', 'Delhi', 'Goa',\n",
       "       'Gujarat', 'Haryana', 'Himachal Pradesh', 'Jammu and Kashmir',\n",
       "       'Jharkhand', 'Karnataka', 'Kerala', 'Lakshadweep',\n",
       "       'Madhya Pradesh', 'Maharashtra', 'Manipur', 'Meghalaya', 'Mizoram',\n",
       "       'Nagaland', 'Odisha', 'Puducherry', 'Punjab', 'Rajasthan',\n",
       "       'Sikkim', 'Tamil Nadu', 'Telangana', 'Tripura', 'Uttar Pradesh',\n",
       "       'West Bengal', 'Chhattisgarh', 'Ladakh', 'Uttarakhand'],\n",
       "      dtype=object)"
      ]
     },
     "execution_count": 4,
     "metadata": {},
     "output_type": "execute_result"
    }
   ],
   "source": [
    "#hide\n",
    "arr_states[-9] = 'Puducherry'\n",
    "arr_states[-10] = 'Odisha'\n",
    "arr_states[6] = 'Dadra and Nagar Haveli and Daman and Diu'\n",
    "arr_states = np.append(arr_states,np.array(['Chhattisgarh','Ladakh','Uttarakhand']))\n",
    "arr_states"
   ]
  },
  {
   "cell_type": "code",
   "execution_count": 5,
   "metadata": {
    "execution": {
     "iopub.execute_input": "2020-09-08T07:51:49.745613Z",
     "iopub.status.busy": "2020-09-08T07:51:49.745006Z",
     "iopub.status.idle": "2020-09-08T07:51:49.752506Z",
     "shell.execute_reply": "2020-09-08T07:51:49.752017Z"
    },
    "papermill": {
     "duration": 0.032512,
     "end_time": "2020-09-08T07:51:49.752642",
     "exception": false,
     "start_time": "2020-09-08T07:51:49.720130",
     "status": "completed"
    },
    "tags": []
   },
   "outputs": [],
   "source": [
    "#hide\n",
    "dates = []\n",
    "for i in arr_dates:\n",
    "    if i>='2020-07-01':\n",
    "        dates.append(i)\n",
    "dict = {'states':dates}\n",
    "for i in arr_states:\n",
    "    dict[i] = [0]*len(dates)\n",
    "dft_cases = pd.DataFrame(dict)\n",
    "dft_deaths = pd.DataFrame(dict)\n"
   ]
  },
  {
   "cell_type": "code",
   "execution_count": 6,
   "metadata": {
    "execution": {
     "iopub.execute_input": "2020-09-08T07:51:49.790562Z",
     "iopub.status.busy": "2020-09-08T07:51:49.789955Z",
     "iopub.status.idle": "2020-09-08T07:51:50.818863Z",
     "shell.execute_reply": "2020-09-08T07:51:50.818351Z"
    },
    "papermill": {
     "duration": 1.051176,
     "end_time": "2020-09-08T07:51:50.819006",
     "exception": false,
     "start_time": "2020-09-08T07:51:49.767830",
     "status": "completed"
    },
    "tags": []
   },
   "outputs": [],
   "source": [
    "#hide\n",
    "for i in range(len(dates)):\n",
    "    df1_deaths = df_deaths1.get_group(dates[i])\n",
    "    for j in range(len(df1_deaths.index)):\n",
    "        if df1_deaths.iloc[j,1] in arr_states:\n",
    "            dft_deaths.loc[i,df1_deaths.iloc[j,1]] = df1_deaths.iloc[j,2]\n",
    "dft_deaths = dft_deaths.set_index('states')"
   ]
  },
  {
   "cell_type": "code",
   "execution_count": 7,
   "metadata": {
    "execution": {
     "iopub.execute_input": "2020-09-08T07:51:50.857866Z",
     "iopub.status.busy": "2020-09-08T07:51:50.857277Z",
     "iopub.status.idle": "2020-09-08T07:51:51.850615Z",
     "shell.execute_reply": "2020-09-08T07:51:51.849712Z"
    },
    "papermill": {
     "duration": 1.016118,
     "end_time": "2020-09-08T07:51:51.850767",
     "exception": false,
     "start_time": "2020-09-08T07:51:50.834649",
     "status": "completed"
    },
    "tags": []
   },
   "outputs": [],
   "source": [
    "#hide\n",
    "for i in range(len(dates)):\n",
    "    df1_cases = df_cases1.get_group(dates[i])\n",
    "    for j in range(len(df1_cases.index)):\n",
    "        if df1_cases.iloc[j,1] in arr_states:\n",
    "            dft_cases.loc[i,df1_cases.iloc[j,1]] = df1_cases.iloc[j,2]\n",
    "dft_cases = dft_cases.set_index('states')"
   ]
  },
  {
   "cell_type": "code",
   "execution_count": 8,
   "metadata": {
    "execution": {
     "iopub.execute_input": "2020-09-08T07:51:51.888806Z",
     "iopub.status.busy": "2020-09-08T07:51:51.887454Z",
     "iopub.status.idle": "2020-09-08T07:51:51.889524Z",
     "shell.execute_reply": "2020-09-08T07:51:51.889988Z"
    },
    "papermill": {
     "duration": 0.023723,
     "end_time": "2020-09-08T07:51:51.890136",
     "exception": false,
     "start_time": "2020-09-08T07:51:51.866413",
     "status": "completed"
    },
    "tags": []
   },
   "outputs": [],
   "source": [
    "#hide\n",
    "dft_cases = dft_cases.T\n",
    "dft_deaths = dft_deaths.T\n",
    "dt_today = dates[-1]\n",
    "dt_yday = dates[-2]"
   ]
  },
  {
   "cell_type": "code",
   "execution_count": 9,
   "metadata": {
    "execution": {
     "iopub.execute_input": "2020-09-08T07:51:51.930516Z",
     "iopub.status.busy": "2020-09-08T07:51:51.929269Z",
     "iopub.status.idle": "2020-09-08T07:51:51.931160Z",
     "shell.execute_reply": "2020-09-08T07:51:51.931657Z"
    },
    "papermill": {
     "duration": 0.026107,
     "end_time": "2020-09-08T07:51:51.931809",
     "exception": false,
     "start_time": "2020-09-08T07:51:51.905702",
     "status": "completed"
    },
    "tags": []
   },
   "outputs": [],
   "source": [
    "#hide\n",
    "dft_cases = dft_cases.reset_index()\n",
    "dft_deaths = dft_deaths.reset_index()\n",
    "dft_cases = dft_cases.rename(columns = {'index':'state'})\n",
    "dft_deaths = dft_deaths.rename(columns = {'index':'state'})"
   ]
  },
  {
   "cell_type": "code",
   "execution_count": 10,
   "metadata": {
    "execution": {
     "iopub.execute_input": "2020-09-08T07:51:51.978217Z",
     "iopub.status.busy": "2020-09-08T07:51:51.977604Z",
     "iopub.status.idle": "2020-09-08T07:51:51.981772Z",
     "shell.execute_reply": "2020-09-08T07:51:51.981295Z"
    },
    "papermill": {
     "duration": 0.033771,
     "end_time": "2020-09-08T07:51:51.981906",
     "exception": false,
     "start_time": "2020-09-08T07:51:51.948135",
     "status": "completed"
    },
    "tags": []
   },
   "outputs": [],
   "source": [
    "#hide\n",
    "dfc_cases = dft_cases.groupby('state')[dt_today].sum()\n",
    "dfc_deaths = dft_deaths.groupby('state')[dt_today].sum()\n",
    "dfp_cases = dft_cases.groupby('state')[dt_yday].sum()\n",
    "dfp_deaths = dft_deaths.groupby('state')[dt_yday].sum()"
   ]
  },
  {
   "cell_type": "code",
   "execution_count": 11,
   "metadata": {
    "execution": {
     "iopub.execute_input": "2020-09-08T07:51:52.022575Z",
     "iopub.status.busy": "2020-09-08T07:51:52.021001Z",
     "iopub.status.idle": "2020-09-08T07:51:52.035678Z",
     "shell.execute_reply": "2020-09-08T07:51:52.036247Z"
    },
    "papermill": {
     "duration": 0.038236,
     "end_time": "2020-09-08T07:51:52.036408",
     "exception": false,
     "start_time": "2020-09-08T07:51:51.998172",
     "status": "completed"
    },
    "tags": []
   },
   "outputs": [
    {
     "data": {
      "text/html": [
       "<div>\n",
       "<style scoped>\n",
       "    .dataframe tbody tr th:only-of-type {\n",
       "        vertical-align: middle;\n",
       "    }\n",
       "\n",
       "    .dataframe tbody tr th {\n",
       "        vertical-align: top;\n",
       "    }\n",
       "\n",
       "    .dataframe thead th {\n",
       "        text-align: right;\n",
       "    }\n",
       "</style>\n",
       "<table border=\"1\" class=\"dataframe\">\n",
       "  <thead>\n",
       "    <tr style=\"text-align: right;\">\n",
       "      <th></th>\n",
       "      <th>states</th>\n",
       "      <th>Cases</th>\n",
       "      <th>Deaths</th>\n",
       "      <th>PCases</th>\n",
       "      <th>PDeaths</th>\n",
       "    </tr>\n",
       "  </thead>\n",
       "  <tbody>\n",
       "    <tr>\n",
       "      <th>0</th>\n",
       "      <td>Maharashtra</td>\n",
       "      <td>923641</td>\n",
       "      <td>27027</td>\n",
       "      <td>923641</td>\n",
       "      <td>27027</td>\n",
       "    </tr>\n",
       "    <tr>\n",
       "      <th>1</th>\n",
       "      <td>Andhra Pradesh</td>\n",
       "      <td>506493</td>\n",
       "      <td>4487</td>\n",
       "      <td>506493</td>\n",
       "      <td>4487</td>\n",
       "    </tr>\n",
       "    <tr>\n",
       "      <th>2</th>\n",
       "      <td>Tamil Nadu</td>\n",
       "      <td>469256</td>\n",
       "      <td>7928</td>\n",
       "      <td>469256</td>\n",
       "      <td>7928</td>\n",
       "    </tr>\n",
       "    <tr>\n",
       "      <th>3</th>\n",
       "      <td>Karnataka</td>\n",
       "      <td>404324</td>\n",
       "      <td>6534</td>\n",
       "      <td>404324</td>\n",
       "      <td>6534</td>\n",
       "    </tr>\n",
       "    <tr>\n",
       "      <th>4</th>\n",
       "      <td>Uttar Pradesh</td>\n",
       "      <td>271851</td>\n",
       "      <td>3976</td>\n",
       "      <td>271851</td>\n",
       "      <td>3976</td>\n",
       "    </tr>\n",
       "  </tbody>\n",
       "</table>\n",
       "</div>"
      ],
      "text/plain": [
       "           states   Cases  Deaths  PCases  PDeaths\n",
       "0     Maharashtra  923641   27027  923641    27027\n",
       "1  Andhra Pradesh  506493    4487  506493     4487\n",
       "2      Tamil Nadu  469256    7928  469256     7928\n",
       "3       Karnataka  404324    6534  404324     6534\n",
       "4   Uttar Pradesh  271851    3976  271851     3976"
      ]
     },
     "execution_count": 11,
     "metadata": {},
     "output_type": "execute_result"
    }
   ],
   "source": [
    "#hide\n",
    "df_table = pd.DataFrame({'states': dfc_cases.index, 'Cases': dfc_cases.values, 'Deaths': dfc_deaths.values, 'PCases': dfp_cases.values, 'PDeaths': dfp_deaths.values}).set_index('states')\n",
    "df_table = df_table.sort_values(by = ['Cases','Deaths'], ascending = [False, False])\n",
    "df_table = df_table.reset_index()\n",
    "df_table.head()"
   ]
  },
  {
   "cell_type": "code",
   "execution_count": 12,
   "metadata": {
    "execution": {
     "iopub.execute_input": "2020-09-08T07:51:52.074337Z",
     "iopub.status.busy": "2020-09-08T07:51:52.073755Z",
     "iopub.status.idle": "2020-09-08T07:51:52.082540Z",
     "shell.execute_reply": "2020-09-08T07:51:52.083011Z"
    },
    "papermill": {
     "duration": 0.030616,
     "end_time": "2020-09-08T07:51:52.083160",
     "exception": false,
     "start_time": "2020-09-08T07:51:52.052544",
     "status": "completed"
    },
    "tags": []
   },
   "outputs": [],
   "source": [
    "#hide\n",
    "for c in 'Cases, Deaths'.split(', '):\n",
    "    df_table[f'{c} (+)'] = (df_table[c] - df_table[f'P{c}']).clip(0)\n",
    "df_table['Fatality Rate'] = (100* df_table['Deaths']/ df_table['Cases']).round(2)"
   ]
  },
  {
   "cell_type": "code",
   "execution_count": 13,
   "metadata": {
    "execution": {
     "iopub.execute_input": "2020-09-08T07:51:52.126621Z",
     "iopub.status.busy": "2020-09-08T07:51:52.125966Z",
     "iopub.status.idle": "2020-09-08T07:51:52.129190Z",
     "shell.execute_reply": "2020-09-08T07:51:52.128692Z"
    },
    "papermill": {
     "duration": 0.030367,
     "end_time": "2020-09-08T07:51:52.129319",
     "exception": false,
     "start_time": "2020-09-08T07:51:52.098952",
     "status": "completed"
    },
    "tags": []
   },
   "outputs": [
    {
     "data": {
      "text/html": [
       "<div>\n",
       "<style scoped>\n",
       "    .dataframe tbody tr th:only-of-type {\n",
       "        vertical-align: middle;\n",
       "    }\n",
       "\n",
       "    .dataframe tbody tr th {\n",
       "        vertical-align: top;\n",
       "    }\n",
       "\n",
       "    .dataframe thead th {\n",
       "        text-align: right;\n",
       "    }\n",
       "</style>\n",
       "<table border=\"1\" class=\"dataframe\">\n",
       "  <thead>\n",
       "    <tr style=\"text-align: right;\">\n",
       "      <th></th>\n",
       "      <th>states</th>\n",
       "      <th>Cases</th>\n",
       "      <th>Deaths</th>\n",
       "      <th>PCases</th>\n",
       "      <th>PDeaths</th>\n",
       "      <th>Cases (+)</th>\n",
       "      <th>Deaths (+)</th>\n",
       "      <th>Fatality Rate</th>\n",
       "    </tr>\n",
       "  </thead>\n",
       "  <tbody>\n",
       "    <tr>\n",
       "      <th>0</th>\n",
       "      <td>Maharashtra</td>\n",
       "      <td>923641</td>\n",
       "      <td>27027</td>\n",
       "      <td>923641</td>\n",
       "      <td>27027</td>\n",
       "      <td>0</td>\n",
       "      <td>0</td>\n",
       "      <td>2.93</td>\n",
       "    </tr>\n",
       "    <tr>\n",
       "      <th>1</th>\n",
       "      <td>Andhra Pradesh</td>\n",
       "      <td>506493</td>\n",
       "      <td>4487</td>\n",
       "      <td>506493</td>\n",
       "      <td>4487</td>\n",
       "      <td>0</td>\n",
       "      <td>0</td>\n",
       "      <td>0.89</td>\n",
       "    </tr>\n",
       "    <tr>\n",
       "      <th>2</th>\n",
       "      <td>Tamil Nadu</td>\n",
       "      <td>469256</td>\n",
       "      <td>7928</td>\n",
       "      <td>469256</td>\n",
       "      <td>7928</td>\n",
       "      <td>0</td>\n",
       "      <td>0</td>\n",
       "      <td>1.69</td>\n",
       "    </tr>\n",
       "    <tr>\n",
       "      <th>3</th>\n",
       "      <td>Karnataka</td>\n",
       "      <td>404324</td>\n",
       "      <td>6534</td>\n",
       "      <td>404324</td>\n",
       "      <td>6534</td>\n",
       "      <td>0</td>\n",
       "      <td>0</td>\n",
       "      <td>1.62</td>\n",
       "    </tr>\n",
       "    <tr>\n",
       "      <th>4</th>\n",
       "      <td>Uttar Pradesh</td>\n",
       "      <td>271851</td>\n",
       "      <td>3976</td>\n",
       "      <td>271851</td>\n",
       "      <td>3976</td>\n",
       "      <td>0</td>\n",
       "      <td>0</td>\n",
       "      <td>1.46</td>\n",
       "    </tr>\n",
       "  </tbody>\n",
       "</table>\n",
       "</div>"
      ],
      "text/plain": [
       "           states   Cases  Deaths  PCases  PDeaths  Cases (+)  Deaths (+)  \\\n",
       "0     Maharashtra  923641   27027  923641    27027          0           0   \n",
       "1  Andhra Pradesh  506493    4487  506493     4487          0           0   \n",
       "2      Tamil Nadu  469256    7928  469256     7928          0           0   \n",
       "3       Karnataka  404324    6534  404324     6534          0           0   \n",
       "4   Uttar Pradesh  271851    3976  271851     3976          0           0   \n",
       "\n",
       "   Fatality Rate  \n",
       "0           2.93  \n",
       "1           0.89  \n",
       "2           1.69  \n",
       "3           1.62  \n",
       "4           1.46  "
      ]
     },
     "execution_count": 13,
     "metadata": {},
     "output_type": "execute_result"
    }
   ],
   "source": [
    "#hide\n",
    "df_table.head()"
   ]
  },
  {
   "cell_type": "code",
   "execution_count": 14,
   "metadata": {
    "execution": {
     "iopub.execute_input": "2020-09-08T07:51:52.168706Z",
     "iopub.status.busy": "2020-09-08T07:51:52.168112Z",
     "iopub.status.idle": "2020-09-08T07:51:52.184540Z",
     "shell.execute_reply": "2020-09-08T07:51:52.183982Z"
    },
    "papermill": {
     "duration": 0.038709,
     "end_time": "2020-09-08T07:51:52.184683",
     "exception": false,
     "start_time": "2020-09-08T07:51:52.145974",
     "status": "completed"
    },
    "tags": []
   },
   "outputs": [
    {
     "data": {
      "text/plain": [
       "{'updated': '2020-09-08',\n",
       " 'since': '2020-09-07',\n",
       " 'Cases': 4284103,\n",
       " 'PCases': 4277584,\n",
       " 'Deaths': 72843,\n",
       " 'PDeaths': 72816,\n",
       " 'Cases (+)': 6519,\n",
       " 'Deaths (+)': 27}"
      ]
     },
     "execution_count": 14,
     "metadata": {},
     "output_type": "execute_result"
    }
   ],
   "source": [
    "#hide\n",
    "summary = {'updated':dates[-1], 'since':dates[-2]}\n",
    "list_names = ['Cases', 'PCases', 'Deaths', 'PDeaths', 'Cases (+)', 'Deaths (+)']\n",
    "for name in list_names:\n",
    "    summary[name] = df_table.sum()[name]\n",
    "summary"
   ]
  },
  {
   "cell_type": "code",
   "execution_count": 15,
   "metadata": {
    "execution": {
     "iopub.execute_input": "2020-09-08T07:51:52.228278Z",
     "iopub.status.busy": "2020-09-08T07:51:52.226347Z",
     "iopub.status.idle": "2020-09-08T07:51:52.229748Z",
     "shell.execute_reply": "2020-09-08T07:51:52.229254Z"
    },
    "papermill": {
     "duration": 0.028019,
     "end_time": "2020-09-08T07:51:52.229877",
     "exception": false,
     "start_time": "2020-09-08T07:51:52.201858",
     "status": "completed"
    },
    "tags": []
   },
   "outputs": [],
   "source": [
    "#hide\n",
    "overview = '''\n",
    "<!-- #######  HTML!! #########-->\n",
    "<h1 style=\"color: #5e9ca0; text-align: center;\">India</h1>\n",
    "<p style=\"text-align: center;\">Last update: <strong>{update}</strong></p>\n",
    "<p style=\"text-align: center;\">Confirmed cases:</p>\n",
    "<p style=\"text-align: center;font-size:24px;\">{cases} (<span style=\"color: #ff0000;\">+{new}</span>)</p>\n",
    "<p style=\"text-align: center;\">Confirmed deaths:</p>\n",
    "<p style=\"text-align: center;font-size:24px;\">{deaths} (<span style=\"color: #ff0000;\">+{dnew}</span>)</p>\n",
    "'''"
   ]
  },
  {
   "cell_type": "code",
   "execution_count": 16,
   "metadata": {
    "execution": {
     "iopub.execute_input": "2020-09-08T07:51:52.270525Z",
     "iopub.status.busy": "2020-09-08T07:51:52.269918Z",
     "iopub.status.idle": "2020-09-08T07:51:52.272566Z",
     "shell.execute_reply": "2020-09-08T07:51:52.273069Z"
    },
    "papermill": {
     "duration": 0.026385,
     "end_time": "2020-09-08T07:51:52.273221",
     "exception": false,
     "start_time": "2020-09-08T07:51:52.246836",
     "status": "completed"
    },
    "tags": []
   },
   "outputs": [
    {
     "data": {
      "text/html": [
       "\n",
       "<!-- #######  HTML!! #########-->\n",
       "<h1 style=\"color: #5e9ca0; text-align: center;\">India</h1>\n",
       "<p style=\"text-align: center;\">Last update: <strong>2020-09-08</strong></p>\n",
       "<p style=\"text-align: center;\">Confirmed cases:</p>\n",
       "<p style=\"text-align: center;font-size:24px;\">4284103 (<span style=\"color: #ff0000;\">+6519</span>)</p>\n",
       "<p style=\"text-align: center;\">Confirmed deaths:</p>\n",
       "<p style=\"text-align: center;font-size:24px;\">72843 (<span style=\"color: #ff0000;\">+27</span>)</p>\n"
      ],
      "text/plain": [
       "<IPython.core.display.HTML object>"
      ]
     },
     "metadata": {},
     "output_type": "display_data"
    }
   ],
   "source": [
    "#hide_input\n",
    "update = summary['updated']\n",
    "cases = summary['Cases']\n",
    "new = summary['Cases (+)']\n",
    "deaths = summary['Deaths']\n",
    "dnew = summary['Deaths (+)']\n",
    "\n",
    "html = HTML(overview.format(update=update, cases=cases,new=new,deaths=deaths,dnew=dnew))\n",
    "\n",
    "display(html)"
   ]
  },
  {
   "cell_type": "code",
   "execution_count": 17,
   "metadata": {
    "execution": {
     "iopub.execute_input": "2020-09-08T07:51:52.317123Z",
     "iopub.status.busy": "2020-09-08T07:51:52.316528Z",
     "iopub.status.idle": "2020-09-08T07:51:52.321707Z",
     "shell.execute_reply": "2020-09-08T07:51:52.321200Z"
    },
    "papermill": {
     "duration": 0.031361,
     "end_time": "2020-09-08T07:51:52.321839",
     "exception": false,
     "start_time": "2020-09-08T07:51:52.290478",
     "status": "completed"
    },
    "tags": []
   },
   "outputs": [],
   "source": [
    "#hide\n",
    "dt_cols = list(dft_cases.columns[1:])\n",
    "dft_ct_new_cases = dft_cases.groupby('state')[dt_cols].sum().diff(axis=1).fillna(0).astype(int)\n",
    "dft_ct_new_cases.sort_values(by = dates[-1], ascending = False,inplace = True)"
   ]
  },
  {
   "cell_type": "code",
   "execution_count": 18,
   "metadata": {
    "execution": {
     "iopub.execute_input": "2020-09-08T07:51:52.374776Z",
     "iopub.status.busy": "2020-09-08T07:51:52.364008Z",
     "iopub.status.idle": "2020-09-08T07:51:52.378545Z",
     "shell.execute_reply": "2020-09-08T07:51:52.379017Z"
    },
    "papermill": {
     "duration": 0.040127,
     "end_time": "2020-09-08T07:51:52.379171",
     "exception": false,
     "start_time": "2020-09-08T07:51:52.339044",
     "status": "completed"
    },
    "tags": []
   },
   "outputs": [
    {
     "data": {
      "text/html": [
       "<div>\n",
       "<style scoped>\n",
       "    .dataframe tbody tr th:only-of-type {\n",
       "        vertical-align: middle;\n",
       "    }\n",
       "\n",
       "    .dataframe tbody tr th {\n",
       "        vertical-align: top;\n",
       "    }\n",
       "\n",
       "    .dataframe thead th {\n",
       "        text-align: right;\n",
       "    }\n",
       "</style>\n",
       "<table border=\"1\" class=\"dataframe\">\n",
       "  <thead>\n",
       "    <tr style=\"text-align: right;\">\n",
       "      <th>states</th>\n",
       "      <th>2020-07-01</th>\n",
       "      <th>2020-07-02</th>\n",
       "      <th>2020-07-03</th>\n",
       "      <th>2020-07-04</th>\n",
       "      <th>2020-07-05</th>\n",
       "      <th>2020-07-06</th>\n",
       "      <th>2020-07-07</th>\n",
       "      <th>2020-07-08</th>\n",
       "      <th>2020-07-09</th>\n",
       "      <th>2020-07-10</th>\n",
       "      <th>...</th>\n",
       "      <th>2020-08-30</th>\n",
       "      <th>2020-08-31</th>\n",
       "      <th>2020-09-01</th>\n",
       "      <th>2020-09-02</th>\n",
       "      <th>2020-09-03</th>\n",
       "      <th>2020-09-04</th>\n",
       "      <th>2020-09-05</th>\n",
       "      <th>2020-09-06</th>\n",
       "      <th>2020-09-07</th>\n",
       "      <th>2020-09-08</th>\n",
       "    </tr>\n",
       "    <tr>\n",
       "      <th>state</th>\n",
       "      <th></th>\n",
       "      <th></th>\n",
       "      <th></th>\n",
       "      <th></th>\n",
       "      <th></th>\n",
       "      <th></th>\n",
       "      <th></th>\n",
       "      <th></th>\n",
       "      <th></th>\n",
       "      <th></th>\n",
       "      <th></th>\n",
       "      <th></th>\n",
       "      <th></th>\n",
       "      <th></th>\n",
       "      <th></th>\n",
       "      <th></th>\n",
       "      <th></th>\n",
       "      <th></th>\n",
       "      <th></th>\n",
       "      <th></th>\n",
       "      <th></th>\n",
       "    </tr>\n",
       "  </thead>\n",
       "  <tbody>\n",
       "    <tr>\n",
       "      <th>Odisha</th>\n",
       "      <td>0</td>\n",
       "      <td>229</td>\n",
       "      <td>561</td>\n",
       "      <td>495</td>\n",
       "      <td>469</td>\n",
       "      <td>456</td>\n",
       "      <td>571</td>\n",
       "      <td>527</td>\n",
       "      <td>577</td>\n",
       "      <td>755</td>\n",
       "      <td>...</td>\n",
       "      <td>3014</td>\n",
       "      <td>2602</td>\n",
       "      <td>3025</td>\n",
       "      <td>3219</td>\n",
       "      <td>3631</td>\n",
       "      <td>3267</td>\n",
       "      <td>3543</td>\n",
       "      <td>3810</td>\n",
       "      <td>3861</td>\n",
       "      <td>3490</td>\n",
       "    </tr>\n",
       "    <tr>\n",
       "      <th>Telangana</th>\n",
       "      <td>0</td>\n",
       "      <td>1213</td>\n",
       "      <td>1892</td>\n",
       "      <td>1850</td>\n",
       "      <td>1590</td>\n",
       "      <td>1831</td>\n",
       "      <td>1879</td>\n",
       "      <td>1924</td>\n",
       "      <td>1410</td>\n",
       "      <td>1278</td>\n",
       "      <td>...</td>\n",
       "      <td>2924</td>\n",
       "      <td>1873</td>\n",
       "      <td>2734</td>\n",
       "      <td>2892</td>\n",
       "      <td>2817</td>\n",
       "      <td>2478</td>\n",
       "      <td>2511</td>\n",
       "      <td>2574</td>\n",
       "      <td>1802</td>\n",
       "      <td>2392</td>\n",
       "    </tr>\n",
       "    <tr>\n",
       "      <th>Tripura</th>\n",
       "      <td>0</td>\n",
       "      <td>39</td>\n",
       "      <td>93</td>\n",
       "      <td>25</td>\n",
       "      <td>23</td>\n",
       "      <td>111</td>\n",
       "      <td>24</td>\n",
       "      <td>57</td>\n",
       "      <td>16</td>\n",
       "      <td>142</td>\n",
       "      <td>...</td>\n",
       "      <td>447</td>\n",
       "      <td>321</td>\n",
       "      <td>509</td>\n",
       "      <td>566</td>\n",
       "      <td>590</td>\n",
       "      <td>524</td>\n",
       "      <td>691</td>\n",
       "      <td>603</td>\n",
       "      <td>399</td>\n",
       "      <td>628</td>\n",
       "    </tr>\n",
       "    <tr>\n",
       "      <th>Mizoram</th>\n",
       "      <td>0</td>\n",
       "      <td>2</td>\n",
       "      <td>0</td>\n",
       "      <td>2</td>\n",
       "      <td>22</td>\n",
       "      <td>11</td>\n",
       "      <td>1</td>\n",
       "      <td>5</td>\n",
       "      <td>0</td>\n",
       "      <td>23</td>\n",
       "      <td>...</td>\n",
       "      <td>5</td>\n",
       "      <td>3</td>\n",
       "      <td>1</td>\n",
       "      <td>8</td>\n",
       "      <td>20</td>\n",
       "      <td>6</td>\n",
       "      <td>16</td>\n",
       "      <td>31</td>\n",
       "      <td>21</td>\n",
       "      <td>9</td>\n",
       "    </tr>\n",
       "    <tr>\n",
       "      <th>Andaman and Nicobar Islands</th>\n",
       "      <td>0</td>\n",
       "      <td>9</td>\n",
       "      <td>7</td>\n",
       "      <td>3</td>\n",
       "      <td>6</td>\n",
       "      <td>16</td>\n",
       "      <td>6</td>\n",
       "      <td>2</td>\n",
       "      <td>7</td>\n",
       "      <td>0</td>\n",
       "      <td>...</td>\n",
       "      <td>23</td>\n",
       "      <td>28</td>\n",
       "      <td>28</td>\n",
       "      <td>26</td>\n",
       "      <td>37</td>\n",
       "      <td>34</td>\n",
       "      <td>35</td>\n",
       "      <td>40</td>\n",
       "      <td>27</td>\n",
       "      <td>0</td>\n",
       "    </tr>\n",
       "  </tbody>\n",
       "</table>\n",
       "<p>5 rows × 70 columns</p>\n",
       "</div>"
      ],
      "text/plain": [
       "states                       2020-07-01  2020-07-02  2020-07-03  2020-07-04  \\\n",
       "state                                                                         \n",
       "Odisha                                0         229         561         495   \n",
       "Telangana                             0        1213        1892        1850   \n",
       "Tripura                               0          39          93          25   \n",
       "Mizoram                               0           2           0           2   \n",
       "Andaman and Nicobar Islands           0           9           7           3   \n",
       "\n",
       "states                       2020-07-05  2020-07-06  2020-07-07  2020-07-08  \\\n",
       "state                                                                         \n",
       "Odisha                              469         456         571         527   \n",
       "Telangana                          1590        1831        1879        1924   \n",
       "Tripura                              23         111          24          57   \n",
       "Mizoram                              22          11           1           5   \n",
       "Andaman and Nicobar Islands           6          16           6           2   \n",
       "\n",
       "states                       2020-07-09  2020-07-10  ...  2020-08-30  \\\n",
       "state                                                ...               \n",
       "Odisha                              577         755  ...        3014   \n",
       "Telangana                          1410        1278  ...        2924   \n",
       "Tripura                              16         142  ...         447   \n",
       "Mizoram                               0          23  ...           5   \n",
       "Andaman and Nicobar Islands           7           0  ...          23   \n",
       "\n",
       "states                       2020-08-31  2020-09-01  2020-09-02  2020-09-03  \\\n",
       "state                                                                         \n",
       "Odisha                             2602        3025        3219        3631   \n",
       "Telangana                          1873        2734        2892        2817   \n",
       "Tripura                             321         509         566         590   \n",
       "Mizoram                               3           1           8          20   \n",
       "Andaman and Nicobar Islands          28          28          26          37   \n",
       "\n",
       "states                       2020-09-04  2020-09-05  2020-09-06  2020-09-07  \\\n",
       "state                                                                         \n",
       "Odisha                             3267        3543        3810        3861   \n",
       "Telangana                          2478        2511        2574        1802   \n",
       "Tripura                             524         691         603         399   \n",
       "Mizoram                               6          16          31          21   \n",
       "Andaman and Nicobar Islands          34          35          40          27   \n",
       "\n",
       "states                       2020-09-08  \n",
       "state                                    \n",
       "Odisha                             3490  \n",
       "Telangana                          2392  \n",
       "Tripura                             628  \n",
       "Mizoram                               9  \n",
       "Andaman and Nicobar Islands           0  \n",
       "\n",
       "[5 rows x 70 columns]"
      ]
     },
     "execution_count": 18,
     "metadata": {},
     "output_type": "execute_result"
    }
   ],
   "source": [
    "#hide\n",
    "dft_ct_new_cases.head()"
   ]
  },
  {
   "cell_type": "code",
   "execution_count": 19,
   "metadata": {
    "execution": {
     "iopub.execute_input": "2020-09-08T07:51:52.441406Z",
     "iopub.status.busy": "2020-09-08T07:51:52.436175Z",
     "iopub.status.idle": "2020-09-08T07:51:55.773295Z",
     "shell.execute_reply": "2020-09-08T07:51:55.772806Z"
    },
    "papermill": {
     "duration": 3.373488,
     "end_time": "2020-09-08T07:51:55.773434",
     "exception": false,
     "start_time": "2020-09-08T07:51:52.399946",
     "status": "completed"
    },
    "tags": []
   },
   "outputs": [
    {
     "data": {
      "image/png": "[encoded data removed]",
      "text/plain": [
       "<Figure size 1296x2016 with 11 Axes>"
      ]
     },
     "metadata": {
      "needs_background": "light"
     },
     "output_type": "display_data"
    }
   ],
   "source": [
    "#hide_input\n",
    "df = dft_ct_new_cases.copy()\n",
    "df.loc['Total'] = df.sum()\n",
    "n = 5\n",
    "ax = []\n",
    "fig = plt.figure(figsize = (18,28))\n",
    "gs = fig.add_gridspec(n+2, 5)\n",
    "# gs = fig.add_gridspec(2, 3)\n",
    "ax1 = fig.add_subplot(gs[0, :])\n",
    "ef = df.loc['Total'].rename_axis('date').reset_index()\n",
    "ef['date'] = ef['date'].astype('datetime64[ns]')\n",
    "ax1.bar(ef.date,ef.Total,alpha=0.3,color='#007acc')\n",
    "ax1.plot(ef.date,ef.Total , marker=\"o\", color='#007acc')\n",
    "ax1.xaxis.set_major_locator(mdates.WeekdayLocator())\n",
    "ax1.xaxis.set_major_formatter(mdates.DateFormatter('%b %d'))\n",
    "ax1.text(0.02, 0.5,'India daily case count', transform = ax1.transAxes, fontsize=25);\n",
    "ax1.spines['right'].set_visible(False)\n",
    "ax1.spines['top'].set_visible(False)\n",
    "\n",
    "ax2 = fig.add_subplot(gs[1,0])\n",
    "ef = df.loc['Maharashtra'].rename_axis('date').reset_index()\n",
    "ef['date'] = ef['date'].astype('datetime64[ns]')\n",
    "\n",
    "ax2.bar(ef.date, ef.Maharashtra,color = '#007acc',alpha=0.5)\n",
    "ax2.xaxis.set_major_locator(mdates.WeekdayLocator())\n",
    "ax2.xaxis.set_major_formatter(mdates.DateFormatter('%b %d'))\n",
    "ax2.set_xticks(ax2.get_xticks()[::3])\n",
    "maxyval = ef.Maharashtra.max()\n",
    "ax2.set_ylim([0,maxyval])\n",
    "ax2.text(0.05, 0.9,'Maharashtra', transform = ax2.transAxes, fontsize=20);\n",
    "ax2.spines['right'].set_visible(False)\n",
    "ax2.spines['top'].set_visible(False)\n",
    "\n",
    "\n",
    "ax3 = fig.add_subplot(gs[1,1])\n",
    "ef = df.loc['Tamil Nadu'].rename_axis('date').reset_index()\n",
    "ef['date'] = ef['date'].astype('datetime64[ns]')\n",
    "ax3.bar(ef.date, ef['Tamil Nadu'],color = '#007acc',alpha=0.5,)\n",
    "ax3.xaxis.set_major_locator(mdates.WeekdayLocator())\n",
    "ax3.xaxis.set_major_formatter(mdates.DateFormatter('%b %d'))\n",
    "ax3.set_xticks(ax3.get_xticks()[::3])\n",
    "ax3.text(0.05, 0.9,'Tamil Nadu', transform = ax3.transAxes, fontsize=20);\n",
    "ax3.spines['right'].set_visible(False)\n",
    "ax3.spines['top'].set_visible(False)\n",
    "\n",
    "ax5 = fig.add_subplot(gs[1,3])\n",
    "ef = df.loc['Telangana'].rename_axis('date').reset_index()\n",
    "ef['date'] = ef['date'].astype('datetime64[ns]')\n",
    "ax5.bar(ef.date, ef['Telangana'],color = '#007acc',alpha=0.5,)\n",
    "ax5.xaxis.set_major_locator(mdates.WeekdayLocator())\n",
    "ax5.xaxis.set_major_formatter(mdates.DateFormatter('%b %d'))\n",
    "ax5.set_xticks(ax5.get_xticks()[::3])\n",
    "ax5.text(0.05, 0.9,'Telangana', transform = ax5.transAxes, fontsize=20);\n",
    "ax5.spines['right'].set_visible(False)\n",
    "ax5.spines['top'].set_visible(False)\n",
    "\n",
    "ax6 = fig.add_subplot(gs[1,4])\n",
    "ef = df.loc['Andhra Pradesh'].rename_axis('date').reset_index()\n",
    "ef['date'] = ef['date'].astype('datetime64[ns]')\n",
    "ax6.bar(ef.date, ef['Andhra Pradesh'],color = '#007acc',alpha=0.5,)\n",
    "ax6.xaxis.set_major_locator(mdates.WeekdayLocator())\n",
    "ax6.xaxis.set_major_formatter(mdates.DateFormatter('%b %d'))\n",
    "ax6.set_xticks(ax6.get_xticks()[::3])\n",
    "ax6.text(0.05, 1,'Andhra Pradesh', transform = ax6.transAxes, fontsize=20);\n",
    "ax6.spines['right'].set_visible(False)\n",
    "ax6.spines['top'].set_visible(False)\n",
    "\n",
    "ax4 = fig.add_subplot(gs[1,2])\n",
    "ef = df.loc['Delhi'].rename_axis('date').reset_index()\n",
    "ef['date'] = ef['date'].astype('datetime64[ns]')\n",
    "ax4.bar(ef.date, ef.Delhi,color = '#007acc',alpha=0.5)\n",
    "ax4.set_xticks([])\n",
    "ax4.xaxis.set_major_locator(mdates.WeekdayLocator())\n",
    "ax4.xaxis.set_major_formatter(mdates.DateFormatter('%b %d'))\n",
    "ax4.set_xticks(ax4.get_xticks()[::3])\n",
    "ax4.spines['right'].set_visible(False)\n",
    "ax4.spines['top'].set_visible(False)\n",
    "\n",
    "ax4.text(0.05, 1,'Delhi', transform = ax4.transAxes, fontsize=20)\n",
    "\n",
    "for i in range(n):\n",
    "    \n",
    "    ax.append(fig.add_subplot(gs[i+2,:]))\n",
    "    ef = df.iloc[i+3].rename_axis('date').reset_index()\n",
    "    ef['date'] = ef['date'].astype('datetime64[ns]')\n",
    "    ax[i].bar(ef.date,ef.iloc[:,-1],color = '#007acc',alpha=0.3)\n",
    "    ax[i].plot(ef.date,ef.iloc[:,-1],marker='o',color='#007acc')\n",
    "    ax[i].text(0.02,0.5,f'{ef.columns.values[-1]}',transform = ax[i].transAxes, fontsize = 20);\n",
    "    ax[i].xaxis.set_major_locator(mdates.WeekdayLocator())\n",
    "    ax[i].xaxis.set_major_formatter(mdates.DateFormatter('%b %d'))\n",
    "    ax[i].set_ylim([0,7000])\n",
    "    ax[i].spines['right'].set_visible(False)\n",
    "    ax[i].spines['top'].set_visible(False)\n",
    "plt.tight_layout()\n"
   ]
  },
  {
   "cell_type": "code",
   "execution_count": 20,
   "metadata": {
    "execution": {
     "iopub.execute_input": "2020-09-08T07:51:55.828669Z",
     "iopub.status.busy": "2020-09-08T07:51:55.828067Z",
     "iopub.status.idle": "2020-09-08T07:51:55.831241Z",
     "shell.execute_reply": "2020-09-08T07:51:55.830644Z"
    },
    "papermill": {
     "duration": 0.034637,
     "end_time": "2020-09-08T07:51:55.831398",
     "exception": false,
     "start_time": "2020-09-08T07:51:55.796761",
     "status": "completed"
    },
    "tags": []
   },
   "outputs": [
    {
     "name": "stdout",
     "output_type": "stream",
     "text": [
      "                                   states   Cases  Deaths  PCases  PDeaths  Cases (+)  Deaths (+)  Fatality Rate\n",
      "                              Maharashtra  923641   27027  923641    27027          0           0           2.93\n",
      "                           Andhra Pradesh  506493    4487  506493     4487          0           0           0.89\n",
      "                               Tamil Nadu  469256    7928  469256     7928          0           0           1.69\n",
      "                                Karnataka  404324    6534  404324     6534          0           0           1.62\n",
      "                            Uttar Pradesh  271851    3976  271851     3976          0           0           1.46\n",
      "                                    Delhi  193526    4599  193526     4599          0           0           2.38\n",
      "                              West Bengal  183865    3620  183865     3620          0           0           1.97\n",
      "                                    Bihar  149027     761  149027      761          0           0           0.51\n",
      "                                Telangana  145163     906  142771      895       2392          11           0.62\n",
      "                                   Odisha  131382     622  127892      609       3490          13           0.47\n",
      "                                    Assam  128245     370  128245      370          0           0           0.29\n",
      "                                  Gujarat  105671    3121  105671     3121          0           0           2.95\n",
      "                                Rajasthan   92536    1151   92536     1151          0           0           1.24\n",
      "                                   Kerala   89490     360   89490      360          0           0           0.40\n",
      "                                  Haryana   78773     829   78773      829          0           0           1.05\n",
      "                           Madhya Pradesh   75459    1589   75459     1589          0           0           2.11\n",
      "                                   Punjab   65583    1923   65583     1923          0           0           2.93\n",
      "                                Jharkhand   52620     482   52620      482          0           0           0.92\n",
      "                             Chhattisgarh   47280     395   47280      395          0           0           0.84\n",
      "                        Jammu and Kashmir   44570     801   44570      801          0           0           1.80\n",
      "                              Uttarakhand   25436     348   25436      348          0           0           1.37\n",
      "                                      Goa   21173     245   21173      245          0           0           1.16\n",
      "                               Puducherry   17316     325   17316      325          0           0           1.88\n",
      "                                  Tripura   16154     152   15526      149        628           3           0.94\n",
      "                         Himachal Pradesh    7660      55    7660       55          0           0           0.72\n",
      "                                  Manipur    7106      38    7106       38          0           0           0.53\n",
      "                               Chandigarh    5995      74    5995       74          0           0           1.23\n",
      "                        Arunachal Pradesh    5180       8    5180        8          0           0           0.15\n",
      "                                 Nagaland    4220       8    4220        8          0           0           0.19\n",
      "              Andaman and Nicobar Islands    3359      50    3359       50          0           0           1.49\n",
      "                                   Ladakh    3064      35    3064       35          0           0           1.14\n",
      "                                Meghalaya    3034      17    3034       17          0           0           0.56\n",
      " Dadra and Nagar Haveli and Daman and Diu    2589       2    2589        2          0           0           0.08\n",
      "                                   Sikkim    1939       5    1939        5          0           0           0.26\n",
      "                                  Mizoram    1123       0    1114        0          9           0           0.00\n",
      "                              Lakshadweep       0       0       0        0          0           0            NaN\n"
     ]
    }
   ],
   "source": [
    "#hide_input\n",
    "print(df_table.to_string(index=False))"
   ]
  },
  {
   "cell_type": "code",
   "execution_count": null,
   "metadata": {
    "papermill": {
     "duration": 0.022277,
     "end_time": "2020-09-08T07:51:55.875914",
     "exception": false,
     "start_time": "2020-09-08T07:51:55.853637",
     "status": "completed"
    },
    "tags": []
   },
   "outputs": [],
   "source": []
  },
  {
   "cell_type": "code",
   "execution_count": null,
   "metadata": {
    "papermill": {
     "duration": 0.022113,
     "end_time": "2020-09-08T07:51:55.920486",
     "exception": false,
     "start_time": "2020-09-08T07:51:55.898373",
     "status": "completed"
    },
    "tags": []
   },
   "outputs": [],
   "source": []
  }
 ],
 "metadata": {
  "kernelspec": {
   "display_name": "Python 3",
   "language": "python",
   "name": "python3"
  },
  "language_info": {
   "codemirror_mode": {
    "name": "ipython",
    "version": 3
   },
   "file_extension": ".py",
   "mimetype": "text/x-python",
   "name": "python",
   "nbconvert_exporter": "python",
   "pygments_lexer": "ipython3",
   "version": "3.6.12"
  },
  "papermill": {
   "duration": 8.626192,
   "end_time": "2020-09-08T07:51:56.351036",
   "environment_variables": {},
   "exception": null,
   "input_path": "latest.ipynb",
   "output_path": "latest.ipynb",
   "parameters": {},
   "start_time": "2020-09-08T07:51:47.724844",
   "version": "2.1.2"
  }
 },
 "nbformat": 4,
 "nbformat_minor": 4
}