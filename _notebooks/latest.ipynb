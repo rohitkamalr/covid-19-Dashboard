{
 "cells": [
  {
   "cell_type": "markdown",
   "metadata": {
    "papermill": {
     "duration": 0.019857,
     "end_time": "2020-11-04T12:23:59.509690",
     "exception": false,
     "start_time": "2020-11-04T12:23:59.489833",
     "status": "completed"
    },
    "tags": []
   },
   "source": [
    "# Latest COVID-19 India Matplotlib Overview"
   ]
  },
  {
   "cell_type": "code",
   "execution_count": 1,
   "metadata": {
    "execution": {
     "iopub.execute_input": "2020-11-04T12:23:59.548361Z",
     "iopub.status.busy": "2020-11-04T12:23:59.547671Z",
     "iopub.status.idle": "2020-11-04T12:24:00.126639Z",
     "shell.execute_reply": "2020-11-04T12:24:00.126087Z"
    },
    "papermill": {
     "duration": 0.601386,
     "end_time": "2020-11-04T12:24:00.126901",
     "exception": false,
     "start_time": "2020-11-04T12:23:59.525515",
     "status": "completed"
    },
    "tags": []
   },
   "outputs": [],
   "source": [
    "#hide\n",
    "import pandas as pd\n",
    "import numpy as np\n",
    "import requests\n",
    "import json\n",
    "import matplotlib.pyplot as plt\n",
    "import matplotlib.dates as mdates\n",
    "import matplotlib as mpl\n",
    "from IPython.core.display import display,HTML\n",
    "%matplotlib inline\n",
    "from datetime import date"
   ]
  },
  {
   "cell_type": "code",
   "execution_count": 2,
   "metadata": {
    "execution": {
     "iopub.execute_input": "2020-11-04T12:24:00.167056Z",
     "iopub.status.busy": "2020-11-04T12:24:00.166276Z",
     "iopub.status.idle": "2020-11-04T12:24:00.825627Z",
     "shell.execute_reply": "2020-11-04T12:24:00.824803Z"
    },
    "papermill": {
     "duration": 0.682269,
     "end_time": "2020-11-04T12:24:00.825774",
     "exception": false,
     "start_time": "2020-11-04T12:24:00.143505",
     "status": "completed"
    },
    "tags": []
   },
   "outputs": [],
   "source": [
    "#hide\n",
    "df  = pd.read_csv('https://api.covid19india.org/csv/latest/states.csv')\n",
    "df = df[['Date','State','Confirmed','Deceased']]\n",
    "df = df.rename(columns={'Confirmed':'Cases', \"Deceased\":'Deaths'})\n",
    "df_cases = df[[\"Date\",'State','Cases']]\n",
    "df_deaths = df[['Date','State','Deaths']]\n",
    "df_cases1 = df_cases.groupby('Date')\n",
    "df_deaths1= df_deaths.groupby('Date')"
   ]
  },
  {
   "cell_type": "code",
   "execution_count": 3,
   "metadata": {
    "execution": {
     "iopub.execute_input": "2020-11-04T12:24:00.862872Z",
     "iopub.status.busy": "2020-11-04T12:24:00.862312Z",
     "iopub.status.idle": "2020-11-04T12:24:00.879424Z",
     "shell.execute_reply": "2020-11-04T12:24:00.878925Z"
    },
    "papermill": {
     "duration": 0.038829,
     "end_time": "2020-11-04T12:24:00.879567",
     "exception": false,
     "start_time": "2020-11-04T12:24:00.840738",
     "status": "completed"
    },
    "tags": []
   },
   "outputs": [],
   "source": [
    "#hide\n",
    "df_snap = pd.read_csv('data/SnapshotCases-28-July.csv')\n",
    "arr_states = df_snap['states'].unique()\n",
    "arr_dates = df['Date'].unique()\n",
    "df_snap = df_snap.set_index('states')"
   ]
  },
  {
   "cell_type": "code",
   "execution_count": 4,
   "metadata": {
    "execution": {
     "iopub.execute_input": "2020-11-04T12:24:00.916693Z",
     "iopub.status.busy": "2020-11-04T12:24:00.916060Z",
     "iopub.status.idle": "2020-11-04T12:24:00.920599Z",
     "shell.execute_reply": "2020-11-04T12:24:00.920086Z"
    },
    "papermill": {
     "duration": 0.026755,
     "end_time": "2020-11-04T12:24:00.920754",
     "exception": false,
     "start_time": "2020-11-04T12:24:00.893999",
     "status": "completed"
    },
    "tags": []
   },
   "outputs": [
    {
     "data": {
      "text/plain": [
       "array(['Andaman and Nicobar Islands', 'Andhra Pradesh',\n",
       "       'Arunachal Pradesh', 'Assam', 'Bihar', 'Chandigarh',\n",
       "       'Dadra and Nagar Haveli and Daman and Diu', 'Delhi', 'Goa',\n",
       "       'Gujarat', 'Haryana', 'Himachal Pradesh', 'Jammu and Kashmir',\n",
       "       'Jharkhand', 'Karnataka', 'Kerala', 'Lakshadweep',\n",
       "       'Madhya Pradesh', 'Maharashtra', 'Manipur', 'Meghalaya', 'Mizoram',\n",
       "       'Nagaland', 'Odisha', 'Puducherry', 'Punjab', 'Rajasthan',\n",
       "       'Sikkim', 'Tamil Nadu', 'Telangana', 'Tripura', 'Uttar Pradesh',\n",
       "       'West Bengal', 'Chhattisgarh', 'Ladakh', 'Uttarakhand'],\n",
       "      dtype=object)"
      ]
     },
     "execution_count": 4,
     "metadata": {},
     "output_type": "execute_result"
    }
   ],
   "source": [
    "#hide\n",
    "arr_states[-9] = 'Puducherry'\n",
    "arr_states[-10] = 'Odisha'\n",
    "arr_states[6] = 'Dadra and Nagar Haveli and Daman and Diu'\n",
    "arr_states = np.append(arr_states,np.array(['Chhattisgarh','Ladakh','Uttarakhand']))\n",
    "arr_states"
   ]
  },
  {
   "cell_type": "code",
   "execution_count": 5,
   "metadata": {
    "execution": {
     "iopub.execute_input": "2020-11-04T12:24:00.966326Z",
     "iopub.status.busy": "2020-11-04T12:24:00.961558Z",
     "iopub.status.idle": "2020-11-04T12:24:00.969494Z",
     "shell.execute_reply": "2020-11-04T12:24:00.969006Z"
    },
    "papermill": {
     "duration": 0.033545,
     "end_time": "2020-11-04T12:24:00.969640",
     "exception": false,
     "start_time": "2020-11-04T12:24:00.936095",
     "status": "completed"
    },
    "tags": []
   },
   "outputs": [],
   "source": [
    "#hide\n",
    "dates = []\n",
    "for i in arr_dates:\n",
    "    if i>='2020-07-01':\n",
    "        dates.append(i)\n",
    "dict = {'states':dates}\n",
    "for i in arr_states:\n",
    "    dict[i] = [0]*len(dates)\n",
    "dft_cases = pd.DataFrame(dict)\n",
    "dft_deaths = pd.DataFrame(dict)\n"
   ]
  },
  {
   "cell_type": "code",
   "execution_count": 6,
   "metadata": {
    "execution": {
     "iopub.execute_input": "2020-11-04T12:24:01.005629Z",
     "iopub.status.busy": "2020-11-04T12:24:01.005032Z",
     "iopub.status.idle": "2020-11-04T12:24:02.815436Z",
     "shell.execute_reply": "2020-11-04T12:24:02.814557Z"
    },
    "papermill": {
     "duration": 1.831429,
     "end_time": "2020-11-04T12:24:02.815665",
     "exception": false,
     "start_time": "2020-11-04T12:24:00.984236",
     "status": "completed"
    },
    "tags": []
   },
   "outputs": [],
   "source": [
    "#hide\n",
    "for i in range(len(dates)):\n",
    "    df1_deaths = df_deaths1.get_group(dates[i])\n",
    "    for j in range(len(df1_deaths.index)):\n",
    "        if df1_deaths.iloc[j,1] in arr_states:\n",
    "            dft_deaths.loc[i,df1_deaths.iloc[j,1]] = df1_deaths.iloc[j,2]\n",
    "dft_deaths = dft_deaths.set_index('states')"
   ]
  },
  {
   "cell_type": "code",
   "execution_count": 7,
   "metadata": {
    "execution": {
     "iopub.execute_input": "2020-11-04T12:24:02.857234Z",
     "iopub.status.busy": "2020-11-04T12:24:02.855697Z",
     "iopub.status.idle": "2020-11-04T12:24:04.738465Z",
     "shell.execute_reply": "2020-11-04T12:24:04.737473Z"
    },
    "papermill": {
     "duration": 1.906962,
     "end_time": "2020-11-04T12:24:04.738623",
     "exception": false,
     "start_time": "2020-11-04T12:24:02.831661",
     "status": "completed"
    },
    "tags": []
   },
   "outputs": [],
   "source": [
    "#hide\n",
    "for i in range(len(dates)):\n",
    "    df1_cases = df_cases1.get_group(dates[i])\n",
    "    for j in range(len(df1_cases.index)):\n",
    "        if df1_cases.iloc[j,1] in arr_states:\n",
    "            dft_cases.loc[i,df1_cases.iloc[j,1]] = df1_cases.iloc[j,2]\n",
    "dft_cases = dft_cases.set_index('states')"
   ]
  },
  {
   "cell_type": "code",
   "execution_count": 8,
   "metadata": {
    "execution": {
     "iopub.execute_input": "2020-11-04T12:24:04.776742Z",
     "iopub.status.busy": "2020-11-04T12:24:04.775158Z",
     "iopub.status.idle": "2020-11-04T12:24:04.777549Z",
     "shell.execute_reply": "2020-11-04T12:24:04.778114Z"
    },
    "papermill": {
     "duration": 0.024241,
     "end_time": "2020-11-04T12:24:04.778288",
     "exception": false,
     "start_time": "2020-11-04T12:24:04.754047",
     "status": "completed"
    },
    "tags": []
   },
   "outputs": [],
   "source": [
    "#hide\n",
    "dft_cases = dft_cases.T\n",
    "dft_deaths = dft_deaths.T\n",
    "dt_today = dates[-1]\n",
    "dt_yday = dates[-2]"
   ]
  },
  {
   "cell_type": "code",
   "execution_count": 9,
   "metadata": {
    "execution": {
     "iopub.execute_input": "2020-11-04T12:24:04.817495Z",
     "iopub.status.busy": "2020-11-04T12:24:04.816887Z",
     "iopub.status.idle": "2020-11-04T12:24:04.819635Z",
     "shell.execute_reply": "2020-11-04T12:24:04.819133Z"
    },
    "papermill": {
     "duration": 0.025484,
     "end_time": "2020-11-04T12:24:04.819761",
     "exception": false,
     "start_time": "2020-11-04T12:24:04.794277",
     "status": "completed"
    },
    "tags": []
   },
   "outputs": [],
   "source": [
    "#hide\n",
    "dft_cases = dft_cases.reset_index()\n",
    "dft_deaths = dft_deaths.reset_index()\n",
    "dft_cases = dft_cases.rename(columns = {'index':'state'})\n",
    "dft_deaths = dft_deaths.rename(columns = {'index':'state'})"
   ]
  },
  {
   "cell_type": "code",
   "execution_count": 10,
   "metadata": {
    "execution": {
     "iopub.execute_input": "2020-11-04T12:24:04.870640Z",
     "iopub.status.busy": "2020-11-04T12:24:04.870043Z",
     "iopub.status.idle": "2020-11-04T12:24:04.876988Z",
     "shell.execute_reply": "2020-11-04T12:24:04.876468Z"
    },
    "papermill": {
     "duration": 0.042529,
     "end_time": "2020-11-04T12:24:04.877125",
     "exception": false,
     "start_time": "2020-11-04T12:24:04.834596",
     "status": "completed"
    },
    "tags": []
   },
   "outputs": [],
   "source": [
    "#hide\n",
    "dfc_cases = dft_cases.groupby('state')[dt_today].sum()\n",
    "dfc_deaths = dft_deaths.groupby('state')[dt_today].sum()\n",
    "dfp_cases = dft_cases.groupby('state')[dt_yday].sum()\n",
    "dfp_deaths = dft_deaths.groupby('state')[dt_yday].sum()"
   ]
  },
  {
   "cell_type": "code",
   "execution_count": 11,
   "metadata": {
    "execution": {
     "iopub.execute_input": "2020-11-04T12:24:04.924104Z",
     "iopub.status.busy": "2020-11-04T12:24:04.917560Z",
     "iopub.status.idle": "2020-11-04T12:24:04.930826Z",
     "shell.execute_reply": "2020-11-04T12:24:04.930327Z"
    },
    "papermill": {
     "duration": 0.038293,
     "end_time": "2020-11-04T12:24:04.930956",
     "exception": false,
     "start_time": "2020-11-04T12:24:04.892663",
     "status": "completed"
    },
    "tags": []
   },
   "outputs": [
    {
     "data": {
      "text/html": [
       "<div>\n",
       "<style scoped>\n",
       "    .dataframe tbody tr th:only-of-type {\n",
       "        vertical-align: middle;\n",
       "    }\n",
       "\n",
       "    .dataframe tbody tr th {\n",
       "        vertical-align: top;\n",
       "    }\n",
       "\n",
       "    .dataframe thead th {\n",
       "        text-align: right;\n",
       "    }\n",
       "</style>\n",
       "<table border=\"1\" class=\"dataframe\">\n",
       "  <thead>\n",
       "    <tr style=\"text-align: right;\">\n",
       "      <th></th>\n",
       "      <th>states</th>\n",
       "      <th>Cases</th>\n",
       "      <th>Deaths</th>\n",
       "      <th>PCases</th>\n",
       "      <th>PDeaths</th>\n",
       "    </tr>\n",
       "  </thead>\n",
       "  <tbody>\n",
       "    <tr>\n",
       "      <th>0</th>\n",
       "      <td>Maharashtra</td>\n",
       "      <td>1692693</td>\n",
       "      <td>44248</td>\n",
       "      <td>1692693</td>\n",
       "      <td>44248</td>\n",
       "    </tr>\n",
       "    <tr>\n",
       "      <th>1</th>\n",
       "      <td>Karnataka</td>\n",
       "      <td>832396</td>\n",
       "      <td>11247</td>\n",
       "      <td>832396</td>\n",
       "      <td>11247</td>\n",
       "    </tr>\n",
       "    <tr>\n",
       "      <th>2</th>\n",
       "      <td>Andhra Pradesh</td>\n",
       "      <td>830731</td>\n",
       "      <td>6734</td>\n",
       "      <td>830731</td>\n",
       "      <td>6734</td>\n",
       "    </tr>\n",
       "    <tr>\n",
       "      <th>3</th>\n",
       "      <td>Tamil Nadu</td>\n",
       "      <td>731942</td>\n",
       "      <td>11214</td>\n",
       "      <td>731942</td>\n",
       "      <td>11214</td>\n",
       "    </tr>\n",
       "    <tr>\n",
       "      <th>4</th>\n",
       "      <td>Uttar Pradesh</td>\n",
       "      <td>489502</td>\n",
       "      <td>7104</td>\n",
       "      <td>487335</td>\n",
       "      <td>7089</td>\n",
       "    </tr>\n",
       "  </tbody>\n",
       "</table>\n",
       "</div>"
      ],
      "text/plain": [
       "           states    Cases  Deaths   PCases  PDeaths\n",
       "0     Maharashtra  1692693   44248  1692693    44248\n",
       "1       Karnataka   832396   11247   832396    11247\n",
       "2  Andhra Pradesh   830731    6734   830731     6734\n",
       "3      Tamil Nadu   731942   11214   731942    11214\n",
       "4   Uttar Pradesh   489502    7104   487335     7089"
      ]
     },
     "execution_count": 11,
     "metadata": {},
     "output_type": "execute_result"
    }
   ],
   "source": [
    "#hide\n",
    "df_table = pd.DataFrame({'states': dfc_cases.index, 'Cases': dfc_cases.values, 'Deaths': dfc_deaths.values, 'PCases': dfp_cases.values, 'PDeaths': dfp_deaths.values}).set_index('states')\n",
    "df_table = df_table.sort_values(by = ['Cases','Deaths'], ascending = [False, False])\n",
    "df_table = df_table.reset_index()\n",
    "df_table.head()"
   ]
  },
  {
   "cell_type": "code",
   "execution_count": 12,
   "metadata": {
    "execution": {
     "iopub.execute_input": "2020-11-04T12:24:04.968064Z",
     "iopub.status.busy": "2020-11-04T12:24:04.967484Z",
     "iopub.status.idle": "2020-11-04T12:24:04.993962Z",
     "shell.execute_reply": "2020-11-04T12:24:04.994596Z"
    },
    "papermill": {
     "duration": 0.048428,
     "end_time": "2020-11-04T12:24:04.994801",
     "exception": false,
     "start_time": "2020-11-04T12:24:04.946373",
     "status": "completed"
    },
    "tags": []
   },
   "outputs": [],
   "source": [
    "#hide\n",
    "for c in 'Cases, Deaths'.split(', '):\n",
    "    df_table[f'{c} (+)'] = (df_table[c] - df_table[f'P{c}']).clip(0)\n",
    "df_table['Fatality Rate'] = (100* df_table['Deaths']/ df_table['Cases']).round(2)"
   ]
  },
  {
   "cell_type": "code",
   "execution_count": 13,
   "metadata": {
    "execution": {
     "iopub.execute_input": "2020-11-04T12:24:05.036984Z",
     "iopub.status.busy": "2020-11-04T12:24:05.036361Z",
     "iopub.status.idle": "2020-11-04T12:24:05.040402Z",
     "shell.execute_reply": "2020-11-04T12:24:05.039961Z"
    },
    "papermill": {
     "duration": 0.029428,
     "end_time": "2020-11-04T12:24:05.040546",
     "exception": false,
     "start_time": "2020-11-04T12:24:05.011118",
     "status": "completed"
    },
    "tags": []
   },
   "outputs": [
    {
     "data": {
      "text/html": [
       "<div>\n",
       "<style scoped>\n",
       "    .dataframe tbody tr th:only-of-type {\n",
       "        vertical-align: middle;\n",
       "    }\n",
       "\n",
       "    .dataframe tbody tr th {\n",
       "        vertical-align: top;\n",
       "    }\n",
       "\n",
       "    .dataframe thead th {\n",
       "        text-align: right;\n",
       "    }\n",
       "</style>\n",
       "<table border=\"1\" class=\"dataframe\">\n",
       "  <thead>\n",
       "    <tr style=\"text-align: right;\">\n",
       "      <th></th>\n",
       "      <th>states</th>\n",
       "      <th>Cases</th>\n",
       "      <th>Deaths</th>\n",
       "      <th>PCases</th>\n",
       "      <th>PDeaths</th>\n",
       "      <th>Cases (+)</th>\n",
       "      <th>Deaths (+)</th>\n",
       "      <th>Fatality Rate</th>\n",
       "    </tr>\n",
       "  </thead>\n",
       "  <tbody>\n",
       "    <tr>\n",
       "      <th>0</th>\n",
       "      <td>Maharashtra</td>\n",
       "      <td>1692693</td>\n",
       "      <td>44248</td>\n",
       "      <td>1692693</td>\n",
       "      <td>44248</td>\n",
       "      <td>0</td>\n",
       "      <td>0</td>\n",
       "      <td>2.61</td>\n",
       "    </tr>\n",
       "    <tr>\n",
       "      <th>1</th>\n",
       "      <td>Karnataka</td>\n",
       "      <td>832396</td>\n",
       "      <td>11247</td>\n",
       "      <td>832396</td>\n",
       "      <td>11247</td>\n",
       "      <td>0</td>\n",
       "      <td>0</td>\n",
       "      <td>1.35</td>\n",
       "    </tr>\n",
       "    <tr>\n",
       "      <th>2</th>\n",
       "      <td>Andhra Pradesh</td>\n",
       "      <td>830731</td>\n",
       "      <td>6734</td>\n",
       "      <td>830731</td>\n",
       "      <td>6734</td>\n",
       "      <td>0</td>\n",
       "      <td>0</td>\n",
       "      <td>0.81</td>\n",
       "    </tr>\n",
       "    <tr>\n",
       "      <th>3</th>\n",
       "      <td>Tamil Nadu</td>\n",
       "      <td>731942</td>\n",
       "      <td>11214</td>\n",
       "      <td>731942</td>\n",
       "      <td>11214</td>\n",
       "      <td>0</td>\n",
       "      <td>0</td>\n",
       "      <td>1.53</td>\n",
       "    </tr>\n",
       "    <tr>\n",
       "      <th>4</th>\n",
       "      <td>Uttar Pradesh</td>\n",
       "      <td>489502</td>\n",
       "      <td>7104</td>\n",
       "      <td>487335</td>\n",
       "      <td>7089</td>\n",
       "      <td>2167</td>\n",
       "      <td>15</td>\n",
       "      <td>1.45</td>\n",
       "    </tr>\n",
       "  </tbody>\n",
       "</table>\n",
       "</div>"
      ],
      "text/plain": [
       "           states    Cases  Deaths   PCases  PDeaths  Cases (+)  Deaths (+)  \\\n",
       "0     Maharashtra  1692693   44248  1692693    44248          0           0   \n",
       "1       Karnataka   832396   11247   832396    11247          0           0   \n",
       "2  Andhra Pradesh   830731    6734   830731     6734          0           0   \n",
       "3      Tamil Nadu   731942   11214   731942    11214          0           0   \n",
       "4   Uttar Pradesh   489502    7104   487335     7089       2167          15   \n",
       "\n",
       "   Fatality Rate  \n",
       "0           2.61  \n",
       "1           1.35  \n",
       "2           0.81  \n",
       "3           1.53  \n",
       "4           1.45  "
      ]
     },
     "execution_count": 13,
     "metadata": {},
     "output_type": "execute_result"
    }
   ],
   "source": [
    "#hide\n",
    "df_table.head()"
   ]
  },
  {
   "cell_type": "code",
   "execution_count": 14,
   "metadata": {
    "execution": {
     "iopub.execute_input": "2020-11-04T12:24:05.078516Z",
     "iopub.status.busy": "2020-11-04T12:24:05.077941Z",
     "iopub.status.idle": "2020-11-04T12:24:05.095392Z",
     "shell.execute_reply": "2020-11-04T12:24:05.095864Z"
    },
    "papermill": {
     "duration": 0.040126,
     "end_time": "2020-11-04T12:24:05.096010",
     "exception": false,
     "start_time": "2020-11-04T12:24:05.055884",
     "status": "completed"
    },
    "tags": []
   },
   "outputs": [
    {
     "data": {
      "text/plain": [
       "{'updated': '2020-11-04',\n",
       " 'since': '2020-11-03',\n",
       " 'Cases': 8316588,\n",
       " 'PCases': 8312947,\n",
       " 'Deaths': 123677,\n",
       " 'PDeaths': 123650,\n",
       " 'Cases (+)': 3641,\n",
       " 'Deaths (+)': 27}"
      ]
     },
     "execution_count": 14,
     "metadata": {},
     "output_type": "execute_result"
    }
   ],
   "source": [
    "#hide\n",
    "summary = {'updated':dates[-1], 'since':dates[-2]}\n",
    "list_names = ['Cases', 'PCases', 'Deaths', 'PDeaths', 'Cases (+)', 'Deaths (+)']\n",
    "for name in list_names:\n",
    "    summary[name] = df_table.sum()[name]\n",
    "summary"
   ]
  },
  {
   "cell_type": "code",
   "execution_count": 15,
   "metadata": {
    "execution": {
     "iopub.execute_input": "2020-11-04T12:24:05.132423Z",
     "iopub.status.busy": "2020-11-04T12:24:05.131863Z",
     "iopub.status.idle": "2020-11-04T12:24:05.134139Z",
     "shell.execute_reply": "2020-11-04T12:24:05.133642Z"
    },
    "papermill": {
     "duration": 0.022127,
     "end_time": "2020-11-04T12:24:05.134413",
     "exception": false,
     "start_time": "2020-11-04T12:24:05.112286",
     "status": "completed"
    },
    "tags": []
   },
   "outputs": [],
   "source": [
    "#hide\n",
    "overview = '''\n",
    "<!-- #######  HTML!! #########-->\n",
    "<h1 style=\"color: #5e9ca0; text-align: center;\">India</h1>\n",
    "<p style=\"text-align: center;\">Last update: <strong>{update}</strong></p>\n",
    "<p style=\"text-align: center;\">Confirmed cases:</p>\n",
    "<p style=\"text-align: center;font-size:24px;\">{cases} (<span style=\"color: #ff0000;\">+{new}</span>)</p>\n",
    "<p style=\"text-align: center;\">Confirmed deaths:</p>\n",
    "<p style=\"text-align: center;font-size:24px;\">{deaths} (<span style=\"color: #ff0000;\">+{dnew}</span>)</p>\n",
    "'''"
   ]
  },
  {
   "cell_type": "code",
   "execution_count": 16,
   "metadata": {
    "execution": {
     "iopub.execute_input": "2020-11-04T12:24:05.173320Z",
     "iopub.status.busy": "2020-11-04T12:24:05.172724Z",
     "iopub.status.idle": "2020-11-04T12:24:05.175645Z",
     "shell.execute_reply": "2020-11-04T12:24:05.175163Z"
    },
    "papermill": {
     "duration": 0.025462,
     "end_time": "2020-11-04T12:24:05.175764",
     "exception": false,
     "start_time": "2020-11-04T12:24:05.150302",
     "status": "completed"
    },
    "tags": []
   },
   "outputs": [
    {
     "data": {
      "text/html": [
       "\n",
       "<!-- #######  HTML!! #########-->\n",
       "<h1 style=\"color: #5e9ca0; text-align: center;\">India</h1>\n",
       "<p style=\"text-align: center;\">Last update: <strong>2020-11-04</strong></p>\n",
       "<p style=\"text-align: center;\">Confirmed cases:</p>\n",
       "<p style=\"text-align: center;font-size:24px;\">8316588 (<span style=\"color: #ff0000;\">+3641</span>)</p>\n",
       "<p style=\"text-align: center;\">Confirmed deaths:</p>\n",
       "<p style=\"text-align: center;font-size:24px;\">123677 (<span style=\"color: #ff0000;\">+27</span>)</p>\n"
      ],
      "text/plain": [
       "<IPython.core.display.HTML object>"
      ]
     },
     "metadata": {},
     "output_type": "display_data"
    }
   ],
   "source": [
    "#hide_input\n",
    "update = summary['updated']\n",
    "cases = summary['Cases']\n",
    "new = summary['Cases (+)']\n",
    "deaths = summary['Deaths']\n",
    "dnew = summary['Deaths (+)']\n",
    "\n",
    "html = HTML(overview.format(update=update, cases=cases,new=new,deaths=deaths,dnew=dnew))\n",
    "\n",
    "display(html)"
   ]
  },
  {
   "cell_type": "code",
   "execution_count": 17,
   "metadata": {
    "execution": {
     "iopub.execute_input": "2020-11-04T12:24:05.222335Z",
     "iopub.status.busy": "2020-11-04T12:24:05.221791Z",
     "iopub.status.idle": "2020-11-04T12:24:05.227018Z",
     "shell.execute_reply": "2020-11-04T12:24:05.226324Z"
    },
    "papermill": {
     "duration": 0.033544,
     "end_time": "2020-11-04T12:24:05.227138",
     "exception": false,
     "start_time": "2020-11-04T12:24:05.193594",
     "status": "completed"
    },
    "tags": []
   },
   "outputs": [],
   "source": [
    "#hide\n",
    "dt_cols = list(dft_cases.columns[1:])\n",
    "dft_ct_new_cases = dft_cases.groupby('state')[dt_cols].sum().diff(axis=1).fillna(0).astype(int)\n",
    "dft_ct_new_cases.sort_values(by = dates[-1], ascending = False,inplace = True)"
   ]
  },
  {
   "cell_type": "code",
   "execution_count": 18,
   "metadata": {
    "execution": {
     "iopub.execute_input": "2020-11-04T12:24:05.280289Z",
     "iopub.status.busy": "2020-11-04T12:24:05.279693Z",
     "iopub.status.idle": "2020-11-04T12:24:05.282158Z",
     "shell.execute_reply": "2020-11-04T12:24:05.282720Z"
    },
    "papermill": {
     "duration": 0.038831,
     "end_time": "2020-11-04T12:24:05.282864",
     "exception": false,
     "start_time": "2020-11-04T12:24:05.244033",
     "status": "completed"
    },
    "tags": []
   },
   "outputs": [
    {
     "data": {
      "text/html": [
       "<div>\n",
       "<style scoped>\n",
       "    .dataframe tbody tr th:only-of-type {\n",
       "        vertical-align: middle;\n",
       "    }\n",
       "\n",
       "    .dataframe tbody tr th {\n",
       "        vertical-align: top;\n",
       "    }\n",
       "\n",
       "    .dataframe thead th {\n",
       "        text-align: right;\n",
       "    }\n",
       "</style>\n",
       "<table border=\"1\" class=\"dataframe\">\n",
       "  <thead>\n",
       "    <tr style=\"text-align: right;\">\n",
       "      <th>states</th>\n",
       "      <th>2020-07-01</th>\n",
       "      <th>2020-07-02</th>\n",
       "      <th>2020-07-03</th>\n",
       "      <th>2020-07-04</th>\n",
       "      <th>2020-07-05</th>\n",
       "      <th>2020-07-06</th>\n",
       "      <th>2020-07-07</th>\n",
       "      <th>2020-07-08</th>\n",
       "      <th>2020-07-09</th>\n",
       "      <th>2020-07-10</th>\n",
       "      <th>...</th>\n",
       "      <th>2020-10-26</th>\n",
       "      <th>2020-10-27</th>\n",
       "      <th>2020-10-28</th>\n",
       "      <th>2020-10-29</th>\n",
       "      <th>2020-10-30</th>\n",
       "      <th>2020-10-31</th>\n",
       "      <th>2020-11-01</th>\n",
       "      <th>2020-11-02</th>\n",
       "      <th>2020-11-03</th>\n",
       "      <th>2020-11-04</th>\n",
       "    </tr>\n",
       "    <tr>\n",
       "      <th>state</th>\n",
       "      <th></th>\n",
       "      <th></th>\n",
       "      <th></th>\n",
       "      <th></th>\n",
       "      <th></th>\n",
       "      <th></th>\n",
       "      <th></th>\n",
       "      <th></th>\n",
       "      <th></th>\n",
       "      <th></th>\n",
       "      <th></th>\n",
       "      <th></th>\n",
       "      <th></th>\n",
       "      <th></th>\n",
       "      <th></th>\n",
       "      <th></th>\n",
       "      <th></th>\n",
       "      <th></th>\n",
       "      <th></th>\n",
       "      <th></th>\n",
       "      <th></th>\n",
       "    </tr>\n",
       "  </thead>\n",
       "  <tbody>\n",
       "    <tr>\n",
       "      <th>Uttar Pradesh</th>\n",
       "      <td>0</td>\n",
       "      <td>769</td>\n",
       "      <td>972</td>\n",
       "      <td>757</td>\n",
       "      <td>1153</td>\n",
       "      <td>929</td>\n",
       "      <td>1332</td>\n",
       "      <td>1188</td>\n",
       "      <td>1206</td>\n",
       "      <td>1338</td>\n",
       "      <td>...</td>\n",
       "      <td>1798</td>\n",
       "      <td>1986</td>\n",
       "      <td>1980</td>\n",
       "      <td>1861</td>\n",
       "      <td>2187</td>\n",
       "      <td>1781</td>\n",
       "      <td>1969</td>\n",
       "      <td>1777</td>\n",
       "      <td>1726</td>\n",
       "      <td>2167</td>\n",
       "    </tr>\n",
       "    <tr>\n",
       "      <th>Odisha</th>\n",
       "      <td>0</td>\n",
       "      <td>229</td>\n",
       "      <td>561</td>\n",
       "      <td>495</td>\n",
       "      <td>469</td>\n",
       "      <td>456</td>\n",
       "      <td>571</td>\n",
       "      <td>527</td>\n",
       "      <td>577</td>\n",
       "      <td>755</td>\n",
       "      <td>...</td>\n",
       "      <td>1480</td>\n",
       "      <td>1247</td>\n",
       "      <td>1540</td>\n",
       "      <td>1617</td>\n",
       "      <td>1547</td>\n",
       "      <td>1470</td>\n",
       "      <td>1709</td>\n",
       "      <td>1389</td>\n",
       "      <td>1201</td>\n",
       "      <td>1474</td>\n",
       "    </tr>\n",
       "    <tr>\n",
       "      <th>Andaman and Nicobar Islands</th>\n",
       "      <td>0</td>\n",
       "      <td>9</td>\n",
       "      <td>7</td>\n",
       "      <td>3</td>\n",
       "      <td>6</td>\n",
       "      <td>16</td>\n",
       "      <td>6</td>\n",
       "      <td>2</td>\n",
       "      <td>7</td>\n",
       "      <td>0</td>\n",
       "      <td>...</td>\n",
       "      <td>8</td>\n",
       "      <td>21</td>\n",
       "      <td>15</td>\n",
       "      <td>16</td>\n",
       "      <td>12</td>\n",
       "      <td>15</td>\n",
       "      <td>8</td>\n",
       "      <td>12</td>\n",
       "      <td>20</td>\n",
       "      <td>0</td>\n",
       "    </tr>\n",
       "    <tr>\n",
       "      <th>Puducherry</th>\n",
       "      <td>0</td>\n",
       "      <td>63</td>\n",
       "      <td>22</td>\n",
       "      <td>80</td>\n",
       "      <td>42</td>\n",
       "      <td>65</td>\n",
       "      <td>30</td>\n",
       "      <td>110</td>\n",
       "      <td>49</td>\n",
       "      <td>72</td>\n",
       "      <td>...</td>\n",
       "      <td>143</td>\n",
       "      <td>146</td>\n",
       "      <td>101</td>\n",
       "      <td>178</td>\n",
       "      <td>147</td>\n",
       "      <td>105</td>\n",
       "      <td>96</td>\n",
       "      <td>69</td>\n",
       "      <td>147</td>\n",
       "      <td>0</td>\n",
       "    </tr>\n",
       "    <tr>\n",
       "      <th>Maharashtra</th>\n",
       "      <td>0</td>\n",
       "      <td>6328</td>\n",
       "      <td>6364</td>\n",
       "      <td>7074</td>\n",
       "      <td>6555</td>\n",
       "      <td>5368</td>\n",
       "      <td>5134</td>\n",
       "      <td>6603</td>\n",
       "      <td>6875</td>\n",
       "      <td>7862</td>\n",
       "      <td>...</td>\n",
       "      <td>3645</td>\n",
       "      <td>5363</td>\n",
       "      <td>6738</td>\n",
       "      <td>5902</td>\n",
       "      <td>6190</td>\n",
       "      <td>5548</td>\n",
       "      <td>5369</td>\n",
       "      <td>4009</td>\n",
       "      <td>4909</td>\n",
       "      <td>0</td>\n",
       "    </tr>\n",
       "  </tbody>\n",
       "</table>\n",
       "<p>5 rows × 127 columns</p>\n",
       "</div>"
      ],
      "text/plain": [
       "states                       2020-07-01  2020-07-02  2020-07-03  2020-07-04  \\\n",
       "state                                                                         \n",
       "Uttar Pradesh                         0         769         972         757   \n",
       "Odisha                                0         229         561         495   \n",
       "Andaman and Nicobar Islands           0           9           7           3   \n",
       "Puducherry                            0          63          22          80   \n",
       "Maharashtra                           0        6328        6364        7074   \n",
       "\n",
       "states                       2020-07-05  2020-07-06  2020-07-07  2020-07-08  \\\n",
       "state                                                                         \n",
       "Uttar Pradesh                      1153         929        1332        1188   \n",
       "Odisha                              469         456         571         527   \n",
       "Andaman and Nicobar Islands           6          16           6           2   \n",
       "Puducherry                           42          65          30         110   \n",
       "Maharashtra                        6555        5368        5134        6603   \n",
       "\n",
       "states                       2020-07-09  2020-07-10  ...  2020-10-26  \\\n",
       "state                                                ...               \n",
       "Uttar Pradesh                      1206        1338  ...        1798   \n",
       "Odisha                              577         755  ...        1480   \n",
       "Andaman and Nicobar Islands           7           0  ...           8   \n",
       "Puducherry                           49          72  ...         143   \n",
       "Maharashtra                        6875        7862  ...        3645   \n",
       "\n",
       "states                       2020-10-27  2020-10-28  2020-10-29  2020-10-30  \\\n",
       "state                                                                         \n",
       "Uttar Pradesh                      1986        1980        1861        2187   \n",
       "Odisha                             1247        1540        1617        1547   \n",
       "Andaman and Nicobar Islands          21          15          16          12   \n",
       "Puducherry                          146         101         178         147   \n",
       "Maharashtra                        5363        6738        5902        6190   \n",
       "\n",
       "states                       2020-10-31  2020-11-01  2020-11-02  2020-11-03  \\\n",
       "state                                                                         \n",
       "Uttar Pradesh                      1781        1969        1777        1726   \n",
       "Odisha                             1470        1709        1389        1201   \n",
       "Andaman and Nicobar Islands          15           8          12          20   \n",
       "Puducherry                          105          96          69         147   \n",
       "Maharashtra                        5548        5369        4009        4909   \n",
       "\n",
       "states                       2020-11-04  \n",
       "state                                    \n",
       "Uttar Pradesh                      2167  \n",
       "Odisha                             1474  \n",
       "Andaman and Nicobar Islands           0  \n",
       "Puducherry                            0  \n",
       "Maharashtra                           0  \n",
       "\n",
       "[5 rows x 127 columns]"
      ]
     },
     "execution_count": 18,
     "metadata": {},
     "output_type": "execute_result"
    }
   ],
   "source": [
    "#hide\n",
    "dft_ct_new_cases.head()"
   ]
  },
  {
   "cell_type": "code",
   "execution_count": 19,
   "metadata": {
    "execution": {
     "iopub.execute_input": "2020-11-04T12:24:05.344652Z",
     "iopub.status.busy": "2020-11-04T12:24:05.334069Z",
     "iopub.status.idle": "2020-11-04T12:24:09.808572Z",
     "shell.execute_reply": "2020-11-04T12:24:09.809127Z"
    },
    "papermill": {
     "duration": 4.502008,
     "end_time": "2020-11-04T12:24:09.809295",
     "exception": false,
     "start_time": "2020-11-04T12:24:05.307287",
     "status": "completed"
    },
    "tags": []
   },
   "outputs": [
    {
     "data": {
      "image/png": "[encoded data removed]",
      "text/plain": [
       "<Figure size 1296x2016 with 11 Axes>"
      ]
     },
     "metadata": {
      "needs_background": "light"
     },
     "output_type": "display_data"
    }
   ],
   "source": [
    "#hide_input\n",
    "df = dft_ct_new_cases.copy()\n",
    "df.loc['Total'] = df.sum()\n",
    "n = 5\n",
    "ax = []\n",
    "fig = plt.figure(figsize = (18,28))\n",
    "gs = fig.add_gridspec(n+2, 5)\n",
    "# gs = fig.add_gridspec(2, 3)\n",
    "ax1 = fig.add_subplot(gs[0, :])\n",
    "ef = df.loc['Total'].rename_axis('date').reset_index()\n",
    "ef['date'] = ef['date'].astype('datetime64[ns]')\n",
    "ax1.bar(ef.date,ef.Total,alpha=0.3,color='#007acc')\n",
    "ax1.plot(ef.date,ef.Total , marker=\"o\", color='#007acc')\n",
    "ax1.xaxis.set_major_locator(mdates.WeekdayLocator())\n",
    "ax1.xaxis.set_major_formatter(mdates.DateFormatter('%b %d'))\n",
    "ax1.text(0.02, 0.5,'India daily case count', transform = ax1.transAxes, fontsize=25);\n",
    "ax1.spines['right'].set_visible(False)\n",
    "ax1.spines['top'].set_visible(False)\n",
    "\n",
    "ax2 = fig.add_subplot(gs[1,0])\n",
    "ef = df.loc['Maharashtra'].rename_axis('date').reset_index()\n",
    "ef['date'] = ef['date'].astype('datetime64[ns]')\n",
    "\n",
    "ax2.bar(ef.date, ef.Maharashtra,color = '#007acc',alpha=0.5)\n",
    "ax2.xaxis.set_major_locator(mdates.WeekdayLocator())\n",
    "ax2.xaxis.set_major_formatter(mdates.DateFormatter('%b %d'))\n",
    "ax2.set_xticks(ax2.get_xticks()[::3])\n",
    "maxyval = ef.Maharashtra.max()\n",
    "ax2.set_ylim([0,maxyval])\n",
    "ax2.text(0.05, 0.9,'Maharashtra', transform = ax2.transAxes, fontsize=20);\n",
    "ax2.spines['right'].set_visible(False)\n",
    "ax2.spines['top'].set_visible(False)\n",
    "\n",
    "\n",
    "ax3 = fig.add_subplot(gs[1,1])\n",
    "ef = df.loc['Tamil Nadu'].rename_axis('date').reset_index()\n",
    "ef['date'] = ef['date'].astype('datetime64[ns]')\n",
    "ax3.bar(ef.date, ef['Tamil Nadu'],color = '#007acc',alpha=0.5,)\n",
    "ax3.xaxis.set_major_locator(mdates.WeekdayLocator())\n",
    "ax3.xaxis.set_major_formatter(mdates.DateFormatter('%b %d'))\n",
    "ax3.set_xticks(ax3.get_xticks()[::3])\n",
    "ax3.text(0.05, 0.9,'Tamil Nadu', transform = ax3.transAxes, fontsize=20);\n",
    "ax3.spines['right'].set_visible(False)\n",
    "ax3.spines['top'].set_visible(False)\n",
    "\n",
    "ax5 = fig.add_subplot(gs[1,3])\n",
    "ef = df.loc['Telangana'].rename_axis('date').reset_index()\n",
    "ef['date'] = ef['date'].astype('datetime64[ns]')\n",
    "ax5.bar(ef.date, ef['Telangana'],color = '#007acc',alpha=0.5,)\n",
    "ax5.xaxis.set_major_locator(mdates.WeekdayLocator())\n",
    "ax5.xaxis.set_major_formatter(mdates.DateFormatter('%b %d'))\n",
    "ax5.set_xticks(ax5.get_xticks()[::3])\n",
    "ax5.text(0.05, 0.9,'Telangana', transform = ax5.transAxes, fontsize=20);\n",
    "ax5.spines['right'].set_visible(False)\n",
    "ax5.spines['top'].set_visible(False)\n",
    "\n",
    "ax6 = fig.add_subplot(gs[1,4])\n",
    "ef = df.loc['Andhra Pradesh'].rename_axis('date').reset_index()\n",
    "ef['date'] = ef['date'].astype('datetime64[ns]')\n",
    "ax6.bar(ef.date, ef['Andhra Pradesh'],color = '#007acc',alpha=0.5,)\n",
    "ax6.xaxis.set_major_locator(mdates.WeekdayLocator())\n",
    "ax6.xaxis.set_major_formatter(mdates.DateFormatter('%b %d'))\n",
    "ax6.set_xticks(ax6.get_xticks()[::3])\n",
    "ax6.text(0.05, 1,'Andhra Pradesh', transform = ax6.transAxes, fontsize=20);\n",
    "ax6.spines['right'].set_visible(False)\n",
    "ax6.spines['top'].set_visible(False)\n",
    "\n",
    "ax4 = fig.add_subplot(gs[1,2])\n",
    "ef = df.loc['Delhi'].rename_axis('date').reset_index()\n",
    "ef['date'] = ef['date'].astype('datetime64[ns]')\n",
    "ax4.bar(ef.date, ef.Delhi,color = '#007acc',alpha=0.5)\n",
    "ax4.set_xticks([])\n",
    "ax4.xaxis.set_major_locator(mdates.WeekdayLocator())\n",
    "ax4.xaxis.set_major_formatter(mdates.DateFormatter('%b %d'))\n",
    "ax4.set_xticks(ax4.get_xticks()[::3])\n",
    "ax4.spines['right'].set_visible(False)\n",
    "ax4.spines['top'].set_visible(False)\n",
    "\n",
    "ax4.text(0.05, 1,'Delhi', transform = ax4.transAxes, fontsize=20)\n",
    "\n",
    "for i in range(n):\n",
    "    \n",
    "    ax.append(fig.add_subplot(gs[i+2,:]))\n",
    "    ef = df.iloc[i+3].rename_axis('date').reset_index()\n",
    "    ef['date'] = ef['date'].astype('datetime64[ns]')\n",
    "    ax[i].bar(ef.date,ef.iloc[:,-1],color = '#007acc',alpha=0.3)\n",
    "    ax[i].plot(ef.date,ef.iloc[:,-1],marker='o',color='#007acc')\n",
    "    ax[i].text(0.02,0.5,f'{ef.columns.values[-1]}',transform = ax[i].transAxes, fontsize = 20);\n",
    "    ax[i].xaxis.set_major_locator(mdates.WeekdayLocator())\n",
    "    ax[i].xaxis.set_major_formatter(mdates.DateFormatter('%b %d'))\n",
    "    ax[i].set_ylim([0,7000])\n",
    "    ax[i].spines['right'].set_visible(False)\n",
    "    ax[i].spines['top'].set_visible(False)\n",
    "plt.tight_layout()\n"
   ]
  },
  {
   "cell_type": "code",
   "execution_count": 20,
   "metadata": {
    "execution": {
     "iopub.execute_input": "2020-11-04T12:24:09.869399Z",
     "iopub.status.busy": "2020-11-04T12:24:09.868727Z",
     "iopub.status.idle": "2020-11-04T12:24:09.870996Z",
     "shell.execute_reply": "2020-11-04T12:24:09.871524Z"
    },
    "papermill": {
     "duration": 0.034948,
     "end_time": "2020-11-04T12:24:09.871675",
     "exception": false,
     "start_time": "2020-11-04T12:24:09.836727",
     "status": "completed"
    },
    "tags": []
   },
   "outputs": [
    {
     "name": "stdout",
     "output_type": "stream",
     "text": [
      "                                   states    Cases  Deaths   PCases  PDeaths  Cases (+)  Deaths (+)  Fatality Rate\n",
      "                              Maharashtra  1692693   44248  1692693    44248          0           0           2.61\n",
      "                                Karnataka   832396   11247   832396    11247          0           0           1.35\n",
      "                           Andhra Pradesh   830731    6734   830731     6734          0           0           0.81\n",
      "                               Tamil Nadu   731942   11214   731942    11214          0           0           1.53\n",
      "                            Uttar Pradesh   489502    7104   487335     7089       2167          15           1.45\n",
      "                                   Kerala   451131    1560   451131     1560          0           0           0.35\n",
      "                                    Delhi   403096    6652   403096     6652          0           0           1.65\n",
      "                              West Bengal   385589    7013   385589     7013          0           0           1.82\n",
      "                                   Odisha   295889    1417   294415     1405       1474          12           0.48\n",
      "                                Telangana   242506    1351   242506     1351          0           0           0.56\n",
      "                                    Bihar   218964    1108   218964     1108          0           0           0.51\n",
      "                                    Assam   207361     934   207361      934          0           0           0.45\n",
      "                                Rajasthan   202220    1936   202220     1936          0           0           0.96\n",
      "                             Chhattisgarh   192237    2266   192237     2266          0           0           1.18\n",
      "                                  Gujarat   175633    3734   175633     3734          0           0           2.13\n",
      "                           Madhya Pradesh   173384    2974   173384     2974          0           0           1.72\n",
      "                                  Haryana   172130    1817   172130     1817          0           0           1.06\n",
      "                                   Punjab   134786    4245   134786     4245          0           0           3.15\n",
      "                                Jharkhand   102887     891   102887      891          0           0           0.87\n",
      "                        Jammu and Kashmir    96188    1502    96188     1502          0           0           1.56\n",
      "                              Uttarakhand    63197    1033    63197     1033          0           0           1.63\n",
      "                                      Goa    44189     618    44189      618          0           0           1.40\n",
      "                               Puducherry    35325     596    35325      596          0           0           1.69\n",
      "                                  Tripura    30986     347    30986      347          0           0           1.12\n",
      "                         Himachal Pradesh    22932     338    22932      338          0           0           1.47\n",
      "                                  Manipur    19241     184    19241      184          0           0           0.96\n",
      "                        Arunachal Pradesh    15083      42    15083       42          0           0           0.28\n",
      "                               Chandigarh    14614     228    14614      228          0           0           1.56\n",
      "                                Meghalaya     9741      90     9741       90          0           0           0.92\n",
      "                                 Nagaland     9151      42     9151       42          0           0           0.46\n",
      "                                   Ladakh     6441      76     6441       76          0           0           1.18\n",
      "              Andaman and Nicobar Islands     4372      60     4372       60          0           0           1.37\n",
      "                                   Sikkim     4004      73     4004       73          0           0           1.82\n",
      " Dadra and Nagar Haveli and Daman and Diu     3255       2     3255        2          0           0           0.06\n",
      "                                  Mizoram     2792       1     2792        1          0           0           0.04\n",
      "                              Lakshadweep        0       0        0        0          0           0            NaN\n"
     ]
    }
   ],
   "source": [
    "#hide_input\n",
    "print(df_table.to_string(index=False))"
   ]
  },
  {
   "cell_type": "code",
   "execution_count": null,
   "metadata": {
    "papermill": {
     "duration": 0.02346,
     "end_time": "2020-11-04T12:24:09.922092",
     "exception": false,
     "start_time": "2020-11-04T12:24:09.898632",
     "status": "completed"
    },
    "tags": []
   },
   "outputs": [],
   "source": []
  },
  {
   "cell_type": "code",
   "execution_count": null,
   "metadata": {
    "papermill": {
     "duration": 0.024231,
     "end_time": "2020-11-04T12:24:09.970320",
     "exception": false,
     "start_time": "2020-11-04T12:24:09.946089",
     "status": "completed"
    },
    "tags": []
   },
   "outputs": [],
   "source": []
  }
 ],
 "metadata": {
  "kernelspec": {
   "display_name": "Python 3",
   "language": "python",
   "name": "python3"
  },
  "language_info": {
   "codemirror_mode": {
    "name": "ipython",
    "version": 3
   },
   "file_extension": ".py",
   "mimetype": "text/x-python",
   "name": "python",
   "nbconvert_exporter": "python",
   "pygments_lexer": "ipython3",
   "version": "3.6.12"
  },
  "papermill": {
   "duration": 12.093471,
   "end_time": "2020-11-04T12:24:10.503211",
   "environment_variables": {},
   "exception": null,
   "input_path": "latest.ipynb",
   "output_path": "latest.ipynb",
   "parameters": {},
   "start_time": "2020-11-04T12:23:58.409740",
   "version": "2.1.2"
  }
 },
 "nbformat": 4,
 "nbformat_minor": 4
}