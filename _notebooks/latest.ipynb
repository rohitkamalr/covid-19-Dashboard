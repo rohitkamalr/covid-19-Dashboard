{
 "cells": [
  {
   "cell_type": "markdown",
   "metadata": {
    "papermill": {
     "duration": 0.019773,
     "end_time": "2020-11-10T13:37:42.323294",
     "exception": false,
     "start_time": "2020-11-10T13:37:42.303521",
     "status": "completed"
    },
    "tags": []
   },
   "source": [
    "# Latest COVID-19 India Matplotlib Overview"
   ]
  },
  {
   "cell_type": "code",
   "execution_count": 1,
   "metadata": {
    "execution": {
     "iopub.execute_input": "2020-11-10T13:37:42.363773Z",
     "iopub.status.busy": "2020-11-10T13:37:42.362937Z",
     "iopub.status.idle": "2020-11-10T13:37:43.017580Z",
     "shell.execute_reply": "2020-11-10T13:37:43.017029Z"
    },
    "papermill": {
     "duration": 0.67674,
     "end_time": "2020-11-10T13:37:43.017740",
     "exception": false,
     "start_time": "2020-11-10T13:37:42.341000",
     "status": "completed"
    },
    "tags": []
   },
   "outputs": [],
   "source": [
    "#hide\n",
    "import pandas as pd\n",
    "import numpy as np\n",
    "import requests\n",
    "import json\n",
    "import matplotlib.pyplot as plt\n",
    "import matplotlib.dates as mdates\n",
    "import matplotlib as mpl\n",
    "from IPython.core.display import display,HTML\n",
    "%matplotlib inline\n",
    "from datetime import date"
   ]
  },
  {
   "cell_type": "code",
   "execution_count": 2,
   "metadata": {
    "execution": {
     "iopub.execute_input": "2020-11-10T13:37:43.061582Z",
     "iopub.status.busy": "2020-11-10T13:37:43.060874Z",
     "iopub.status.idle": "2020-11-10T13:37:43.412428Z",
     "shell.execute_reply": "2020-11-10T13:37:43.413069Z"
    },
    "papermill": {
     "duration": 0.378761,
     "end_time": "2020-11-10T13:37:43.413253",
     "exception": false,
     "start_time": "2020-11-10T13:37:43.034492",
     "status": "completed"
    },
    "tags": []
   },
   "outputs": [],
   "source": [
    "#hide\n",
    "df  = pd.read_csv('https://api.covid19india.org/csv/latest/states.csv')\n",
    "df = df[['Date','State','Confirmed','Deceased']]\n",
    "df = df.rename(columns={'Confirmed':'Cases', \"Deceased\":'Deaths'})\n",
    "df_cases = df[[\"Date\",'State','Cases']]\n",
    "df_deaths = df[['Date','State','Deaths']]\n",
    "df_cases1 = df_cases.groupby('Date')\n",
    "df_deaths1= df_deaths.groupby('Date')"
   ]
  },
  {
   "cell_type": "code",
   "execution_count": 3,
   "metadata": {
    "execution": {
     "iopub.execute_input": "2020-11-10T13:37:43.457971Z",
     "iopub.status.busy": "2020-11-10T13:37:43.457314Z",
     "iopub.status.idle": "2020-11-10T13:37:43.478047Z",
     "shell.execute_reply": "2020-11-10T13:37:43.475794Z"
    },
    "papermill": {
     "duration": 0.042862,
     "end_time": "2020-11-10T13:37:43.478260",
     "exception": false,
     "start_time": "2020-11-10T13:37:43.435398",
     "status": "completed"
    },
    "tags": []
   },
   "outputs": [],
   "source": [
    "#hide\n",
    "df_snap = pd.read_csv('data/SnapshotCases-28-July.csv')\n",
    "arr_states = df_snap['states'].unique()\n",
    "arr_dates = df['Date'].unique()\n",
    "df_snap = df_snap.set_index('states')"
   ]
  },
  {
   "cell_type": "code",
   "execution_count": 4,
   "metadata": {
    "execution": {
     "iopub.execute_input": "2020-11-10T13:37:43.520797Z",
     "iopub.status.busy": "2020-11-10T13:37:43.520154Z",
     "iopub.status.idle": "2020-11-10T13:37:43.526378Z",
     "shell.execute_reply": "2020-11-10T13:37:43.527137Z"
    },
    "papermill": {
     "duration": 0.030746,
     "end_time": "2020-11-10T13:37:43.527338",
     "exception": false,
     "start_time": "2020-11-10T13:37:43.496592",
     "status": "completed"
    },
    "tags": []
   },
   "outputs": [
    {
     "data": {
      "text/plain": [
       "array(['Andaman and Nicobar Islands', 'Andhra Pradesh',\n",
       "       'Arunachal Pradesh', 'Assam', 'Bihar', 'Chandigarh',\n",
       "       'Dadra and Nagar Haveli and Daman and Diu', 'Delhi', 'Goa',\n",
       "       'Gujarat', 'Haryana', 'Himachal Pradesh', 'Jammu and Kashmir',\n",
       "       'Jharkhand', 'Karnataka', 'Kerala', 'Lakshadweep',\n",
       "       'Madhya Pradesh', 'Maharashtra', 'Manipur', 'Meghalaya', 'Mizoram',\n",
       "       'Nagaland', 'Odisha', 'Puducherry', 'Punjab', 'Rajasthan',\n",
       "       'Sikkim', 'Tamil Nadu', 'Telangana', 'Tripura', 'Uttar Pradesh',\n",
       "       'West Bengal', 'Chhattisgarh', 'Ladakh', 'Uttarakhand'],\n",
       "      dtype=object)"
      ]
     },
     "execution_count": 4,
     "metadata": {},
     "output_type": "execute_result"
    }
   ],
   "source": [
    "#hide\n",
    "arr_states[-9] = 'Puducherry'\n",
    "arr_states[-10] = 'Odisha'\n",
    "arr_states[6] = 'Dadra and Nagar Haveli and Daman and Diu'\n",
    "arr_states = np.append(arr_states,np.array(['Chhattisgarh','Ladakh','Uttarakhand']))\n",
    "arr_states"
   ]
  },
  {
   "cell_type": "code",
   "execution_count": 5,
   "metadata": {
    "execution": {
     "iopub.execute_input": "2020-11-10T13:37:43.585353Z",
     "iopub.status.busy": "2020-11-10T13:37:43.584549Z",
     "iopub.status.idle": "2020-11-10T13:37:43.591370Z",
     "shell.execute_reply": "2020-11-10T13:37:43.592068Z"
    },
    "papermill": {
     "duration": 0.042664,
     "end_time": "2020-11-10T13:37:43.592272",
     "exception": false,
     "start_time": "2020-11-10T13:37:43.549608",
     "status": "completed"
    },
    "tags": []
   },
   "outputs": [],
   "source": [
    "#hide\n",
    "dates = []\n",
    "for i in arr_dates:\n",
    "    if i>='2020-07-01':\n",
    "        dates.append(i)\n",
    "dict = {'states':dates}\n",
    "for i in arr_states:\n",
    "    dict[i] = [0]*len(dates)\n",
    "dft_cases = pd.DataFrame(dict)\n",
    "dft_deaths = pd.DataFrame(dict)\n"
   ]
  },
  {
   "cell_type": "code",
   "execution_count": 6,
   "metadata": {
    "execution": {
     "iopub.execute_input": "2020-11-10T13:37:43.633017Z",
     "iopub.status.busy": "2020-11-10T13:37:43.631839Z",
     "iopub.status.idle": "2020-11-10T13:37:46.161267Z",
     "shell.execute_reply": "2020-11-10T13:37:46.160704Z"
    },
    "papermill": {
     "duration": 2.552233,
     "end_time": "2020-11-10T13:37:46.161404",
     "exception": false,
     "start_time": "2020-11-10T13:37:43.609171",
     "status": "completed"
    },
    "tags": []
   },
   "outputs": [],
   "source": [
    "#hide\n",
    "for i in range(len(dates)):\n",
    "    df1_deaths = df_deaths1.get_group(dates[i])\n",
    "    for j in range(len(df1_deaths.index)):\n",
    "        if df1_deaths.iloc[j,1] in arr_states:\n",
    "            dft_deaths.loc[i,df1_deaths.iloc[j,1]] = df1_deaths.iloc[j,2]\n",
    "dft_deaths = dft_deaths.set_index('states')"
   ]
  },
  {
   "cell_type": "code",
   "execution_count": 7,
   "metadata": {
    "execution": {
     "iopub.execute_input": "2020-11-10T13:37:46.203083Z",
     "iopub.status.busy": "2020-11-10T13:37:46.202376Z",
     "iopub.status.idle": "2020-11-10T13:37:48.723240Z",
     "shell.execute_reply": "2020-11-10T13:37:48.722621Z"
    },
    "papermill": {
     "duration": 2.544932,
     "end_time": "2020-11-10T13:37:48.723389",
     "exception": false,
     "start_time": "2020-11-10T13:37:46.178457",
     "status": "completed"
    },
    "tags": []
   },
   "outputs": [],
   "source": [
    "#hide\n",
    "for i in range(len(dates)):\n",
    "    df1_cases = df_cases1.get_group(dates[i])\n",
    "    for j in range(len(df1_cases.index)):\n",
    "        if df1_cases.iloc[j,1] in arr_states:\n",
    "            dft_cases.loc[i,df1_cases.iloc[j,1]] = df1_cases.iloc[j,2]\n",
    "dft_cases = dft_cases.set_index('states')"
   ]
  },
  {
   "cell_type": "code",
   "execution_count": 8,
   "metadata": {
    "execution": {
     "iopub.execute_input": "2020-11-10T13:37:48.771938Z",
     "iopub.status.busy": "2020-11-10T13:37:48.771284Z",
     "iopub.status.idle": "2020-11-10T13:37:48.775588Z",
     "shell.execute_reply": "2020-11-10T13:37:48.776079Z"
    },
    "papermill": {
     "duration": 0.030122,
     "end_time": "2020-11-10T13:37:48.776230",
     "exception": false,
     "start_time": "2020-11-10T13:37:48.746108",
     "status": "completed"
    },
    "tags": []
   },
   "outputs": [],
   "source": [
    "#hide\n",
    "dft_cases = dft_cases.T\n",
    "dft_deaths = dft_deaths.T\n",
    "dt_today = dates[-1]\n",
    "dt_yday = dates[-2]"
   ]
  },
  {
   "cell_type": "code",
   "execution_count": 9,
   "metadata": {
    "execution": {
     "iopub.execute_input": "2020-11-10T13:37:48.824734Z",
     "iopub.status.busy": "2020-11-10T13:37:48.822594Z",
     "iopub.status.idle": "2020-11-10T13:37:48.827054Z",
     "shell.execute_reply": "2020-11-10T13:37:48.827709Z"
    },
    "papermill": {
     "duration": 0.030268,
     "end_time": "2020-11-10T13:37:48.827886",
     "exception": false,
     "start_time": "2020-11-10T13:37:48.797618",
     "status": "completed"
    },
    "tags": []
   },
   "outputs": [],
   "source": [
    "#hide\n",
    "dft_cases = dft_cases.reset_index()\n",
    "dft_deaths = dft_deaths.reset_index()\n",
    "dft_cases = dft_cases.rename(columns = {'index':'state'})\n",
    "dft_deaths = dft_deaths.rename(columns = {'index':'state'})"
   ]
  },
  {
   "cell_type": "code",
   "execution_count": 10,
   "metadata": {
    "execution": {
     "iopub.execute_input": "2020-11-10T13:37:48.880669Z",
     "iopub.status.busy": "2020-11-10T13:37:48.879980Z",
     "iopub.status.idle": "2020-11-10T13:37:48.887577Z",
     "shell.execute_reply": "2020-11-10T13:37:48.886926Z"
    },
    "papermill": {
     "duration": 0.040158,
     "end_time": "2020-11-10T13:37:48.887712",
     "exception": false,
     "start_time": "2020-11-10T13:37:48.847554",
     "status": "completed"
    },
    "tags": []
   },
   "outputs": [],
   "source": [
    "#hide\n",
    "dfc_cases = dft_cases.groupby('state')[dt_today].sum()\n",
    "dfc_deaths = dft_deaths.groupby('state')[dt_today].sum()\n",
    "dfp_cases = dft_cases.groupby('state')[dt_yday].sum()\n",
    "dfp_deaths = dft_deaths.groupby('state')[dt_yday].sum()"
   ]
  },
  {
   "cell_type": "code",
   "execution_count": 11,
   "metadata": {
    "execution": {
     "iopub.execute_input": "2020-11-10T13:37:48.941159Z",
     "iopub.status.busy": "2020-11-10T13:37:48.940470Z",
     "iopub.status.idle": "2020-11-10T13:37:48.948182Z",
     "shell.execute_reply": "2020-11-10T13:37:48.947653Z"
    },
    "papermill": {
     "duration": 0.04223,
     "end_time": "2020-11-10T13:37:48.948318",
     "exception": false,
     "start_time": "2020-11-10T13:37:48.906088",
     "status": "completed"
    },
    "tags": []
   },
   "outputs": [
    {
     "data": {
      "text/html": [
       "<div>\n",
       "<style scoped>\n",
       "    .dataframe tbody tr th:only-of-type {\n",
       "        vertical-align: middle;\n",
       "    }\n",
       "\n",
       "    .dataframe tbody tr th {\n",
       "        vertical-align: top;\n",
       "    }\n",
       "\n",
       "    .dataframe thead th {\n",
       "        text-align: right;\n",
       "    }\n",
       "</style>\n",
       "<table border=\"1\" class=\"dataframe\">\n",
       "  <thead>\n",
       "    <tr style=\"text-align: right;\">\n",
       "      <th></th>\n",
       "      <th>states</th>\n",
       "      <th>Cases</th>\n",
       "      <th>Deaths</th>\n",
       "      <th>PCases</th>\n",
       "      <th>PDeaths</th>\n",
       "    </tr>\n",
       "  </thead>\n",
       "  <tbody>\n",
       "    <tr>\n",
       "      <th>0</th>\n",
       "      <td>Maharashtra</td>\n",
       "      <td>1723135</td>\n",
       "      <td>45325</td>\n",
       "      <td>1723135</td>\n",
       "      <td>45325</td>\n",
       "    </tr>\n",
       "    <tr>\n",
       "      <th>1</th>\n",
       "      <td>Karnataka</td>\n",
       "      <td>848850</td>\n",
       "      <td>11410</td>\n",
       "      <td>848850</td>\n",
       "      <td>11410</td>\n",
       "    </tr>\n",
       "    <tr>\n",
       "      <th>2</th>\n",
       "      <td>Andhra Pradesh</td>\n",
       "      <td>844359</td>\n",
       "      <td>6802</td>\n",
       "      <td>844359</td>\n",
       "      <td>6802</td>\n",
       "    </tr>\n",
       "    <tr>\n",
       "      <th>3</th>\n",
       "      <td>Tamil Nadu</td>\n",
       "      <td>746079</td>\n",
       "      <td>11362</td>\n",
       "      <td>746079</td>\n",
       "      <td>11362</td>\n",
       "    </tr>\n",
       "    <tr>\n",
       "      <th>4</th>\n",
       "      <td>Uttar Pradesh</td>\n",
       "      <td>499190</td>\n",
       "      <td>7231</td>\n",
       "      <td>499190</td>\n",
       "      <td>7231</td>\n",
       "    </tr>\n",
       "  </tbody>\n",
       "</table>\n",
       "</div>"
      ],
      "text/plain": [
       "           states    Cases  Deaths   PCases  PDeaths\n",
       "0     Maharashtra  1723135   45325  1723135    45325\n",
       "1       Karnataka   848850   11410   848850    11410\n",
       "2  Andhra Pradesh   844359    6802   844359     6802\n",
       "3      Tamil Nadu   746079   11362   746079    11362\n",
       "4   Uttar Pradesh   499190    7231   499190     7231"
      ]
     },
     "execution_count": 11,
     "metadata": {},
     "output_type": "execute_result"
    }
   ],
   "source": [
    "#hide\n",
    "df_table = pd.DataFrame({'states': dfc_cases.index, 'Cases': dfc_cases.values, 'Deaths': dfc_deaths.values, 'PCases': dfp_cases.values, 'PDeaths': dfp_deaths.values}).set_index('states')\n",
    "df_table = df_table.sort_values(by = ['Cases','Deaths'], ascending = [False, False])\n",
    "df_table = df_table.reset_index()\n",
    "df_table.head()"
   ]
  },
  {
   "cell_type": "code",
   "execution_count": 12,
   "metadata": {
    "execution": {
     "iopub.execute_input": "2020-11-10T13:37:48.999503Z",
     "iopub.status.busy": "2020-11-10T13:37:48.998717Z",
     "iopub.status.idle": "2020-11-10T13:37:49.008626Z",
     "shell.execute_reply": "2020-11-10T13:37:49.008014Z"
    },
    "papermill": {
     "duration": 0.040058,
     "end_time": "2020-11-10T13:37:49.008771",
     "exception": false,
     "start_time": "2020-11-10T13:37:48.968713",
     "status": "completed"
    },
    "tags": []
   },
   "outputs": [],
   "source": [
    "#hide\n",
    "for c in 'Cases, Deaths'.split(', '):\n",
    "    df_table[f'{c} (+)'] = (df_table[c] - df_table[f'P{c}']).clip(0)\n",
    "df_table['Fatality Rate'] = (100* df_table['Deaths']/ df_table['Cases']).round(2)"
   ]
  },
  {
   "cell_type": "code",
   "execution_count": 13,
   "metadata": {
    "execution": {
     "iopub.execute_input": "2020-11-10T13:37:49.197457Z",
     "iopub.status.busy": "2020-11-10T13:37:49.196617Z",
     "iopub.status.idle": "2020-11-10T13:37:49.200370Z",
     "shell.execute_reply": "2020-11-10T13:37:49.199812Z"
    },
    "papermill": {
     "duration": 0.112461,
     "end_time": "2020-11-10T13:37:49.200510",
     "exception": false,
     "start_time": "2020-11-10T13:37:49.088049",
     "status": "completed"
    },
    "tags": []
   },
   "outputs": [
    {
     "data": {
      "text/html": [
       "<div>\n",
       "<style scoped>\n",
       "    .dataframe tbody tr th:only-of-type {\n",
       "        vertical-align: middle;\n",
       "    }\n",
       "\n",
       "    .dataframe tbody tr th {\n",
       "        vertical-align: top;\n",
       "    }\n",
       "\n",
       "    .dataframe thead th {\n",
       "        text-align: right;\n",
       "    }\n",
       "</style>\n",
       "<table border=\"1\" class=\"dataframe\">\n",
       "  <thead>\n",
       "    <tr style=\"text-align: right;\">\n",
       "      <th></th>\n",
       "      <th>states</th>\n",
       "      <th>Cases</th>\n",
       "      <th>Deaths</th>\n",
       "      <th>PCases</th>\n",
       "      <th>PDeaths</th>\n",
       "      <th>Cases (+)</th>\n",
       "      <th>Deaths (+)</th>\n",
       "      <th>Fatality Rate</th>\n",
       "    </tr>\n",
       "  </thead>\n",
       "  <tbody>\n",
       "    <tr>\n",
       "      <th>0</th>\n",
       "      <td>Maharashtra</td>\n",
       "      <td>1723135</td>\n",
       "      <td>45325</td>\n",
       "      <td>1723135</td>\n",
       "      <td>45325</td>\n",
       "      <td>0</td>\n",
       "      <td>0</td>\n",
       "      <td>2.63</td>\n",
       "    </tr>\n",
       "    <tr>\n",
       "      <th>1</th>\n",
       "      <td>Karnataka</td>\n",
       "      <td>848850</td>\n",
       "      <td>11410</td>\n",
       "      <td>848850</td>\n",
       "      <td>11410</td>\n",
       "      <td>0</td>\n",
       "      <td>0</td>\n",
       "      <td>1.34</td>\n",
       "    </tr>\n",
       "    <tr>\n",
       "      <th>2</th>\n",
       "      <td>Andhra Pradesh</td>\n",
       "      <td>844359</td>\n",
       "      <td>6802</td>\n",
       "      <td>844359</td>\n",
       "      <td>6802</td>\n",
       "      <td>0</td>\n",
       "      <td>0</td>\n",
       "      <td>0.81</td>\n",
       "    </tr>\n",
       "    <tr>\n",
       "      <th>3</th>\n",
       "      <td>Tamil Nadu</td>\n",
       "      <td>746079</td>\n",
       "      <td>11362</td>\n",
       "      <td>746079</td>\n",
       "      <td>11362</td>\n",
       "      <td>0</td>\n",
       "      <td>0</td>\n",
       "      <td>1.52</td>\n",
       "    </tr>\n",
       "    <tr>\n",
       "      <th>4</th>\n",
       "      <td>Uttar Pradesh</td>\n",
       "      <td>499190</td>\n",
       "      <td>7231</td>\n",
       "      <td>499190</td>\n",
       "      <td>7231</td>\n",
       "      <td>0</td>\n",
       "      <td>0</td>\n",
       "      <td>1.45</td>\n",
       "    </tr>\n",
       "  </tbody>\n",
       "</table>\n",
       "</div>"
      ],
      "text/plain": [
       "           states    Cases  Deaths   PCases  PDeaths  Cases (+)  Deaths (+)  \\\n",
       "0     Maharashtra  1723135   45325  1723135    45325          0           0   \n",
       "1       Karnataka   848850   11410   848850    11410          0           0   \n",
       "2  Andhra Pradesh   844359    6802   844359     6802          0           0   \n",
       "3      Tamil Nadu   746079   11362   746079    11362          0           0   \n",
       "4   Uttar Pradesh   499190    7231   499190     7231          0           0   \n",
       "\n",
       "   Fatality Rate  \n",
       "0           2.63  \n",
       "1           1.34  \n",
       "2           0.81  \n",
       "3           1.52  \n",
       "4           1.45  "
      ]
     },
     "execution_count": 13,
     "metadata": {},
     "output_type": "execute_result"
    }
   ],
   "source": [
    "#hide\n",
    "df_table.head()"
   ]
  },
  {
   "cell_type": "code",
   "execution_count": 14,
   "metadata": {
    "execution": {
     "iopub.execute_input": "2020-11-10T13:37:49.241738Z",
     "iopub.status.busy": "2020-11-10T13:37:49.240998Z",
     "iopub.status.idle": "2020-11-10T13:37:49.260222Z",
     "shell.execute_reply": "2020-11-10T13:37:49.259628Z"
    },
    "papermill": {
     "duration": 0.042456,
     "end_time": "2020-11-10T13:37:49.260370",
     "exception": false,
     "start_time": "2020-11-10T13:37:49.217914",
     "status": "completed"
    },
    "tags": []
   },
   "outputs": [
    {
     "data": {
      "text/plain": [
       "{'updated': '2020-11-10',\n",
       " 'since': '2020-11-09',\n",
       " 'Cases': 8593900,\n",
       " 'PCases': 8591075,\n",
       " 'Deaths': 127128,\n",
       " 'PDeaths': 127104,\n",
       " 'Cases (+)': 2825,\n",
       " 'Deaths (+)': 24}"
      ]
     },
     "execution_count": 14,
     "metadata": {},
     "output_type": "execute_result"
    }
   ],
   "source": [
    "#hide\n",
    "summary = {'updated':dates[-1], 'since':dates[-2]}\n",
    "list_names = ['Cases', 'PCases', 'Deaths', 'PDeaths', 'Cases (+)', 'Deaths (+)']\n",
    "for name in list_names:\n",
    "    summary[name] = df_table.sum()[name]\n",
    "summary"
   ]
  },
  {
   "cell_type": "code",
   "execution_count": 15,
   "metadata": {
    "execution": {
     "iopub.execute_input": "2020-11-10T13:37:49.303899Z",
     "iopub.status.busy": "2020-11-10T13:37:49.303217Z",
     "iopub.status.idle": "2020-11-10T13:37:49.305347Z",
     "shell.execute_reply": "2020-11-10T13:37:49.305947Z"
    },
    "papermill": {
     "duration": 0.028138,
     "end_time": "2020-11-10T13:37:49.306139",
     "exception": false,
     "start_time": "2020-11-10T13:37:49.278001",
     "status": "completed"
    },
    "tags": []
   },
   "outputs": [],
   "source": [
    "#hide\n",
    "overview = '''\n",
    "<!-- #######  HTML!! #########-->\n",
    "<h1 style=\"color: #5e9ca0; text-align: center;\">India</h1>\n",
    "<p style=\"text-align: center;\">Last update: <strong>{update}</strong></p>\n",
    "<p style=\"text-align: center;\">Confirmed cases:</p>\n",
    "<p style=\"text-align: center;font-size:24px;\">{cases} (<span style=\"color: #ff0000;\">+{new}</span>)</p>\n",
    "<p style=\"text-align: center;\">Confirmed deaths:</p>\n",
    "<p style=\"text-align: center;font-size:24px;\">{deaths} (<span style=\"color: #ff0000;\">+{dnew}</span>)</p>\n",
    "'''"
   ]
  },
  {
   "cell_type": "code",
   "execution_count": 16,
   "metadata": {
    "execution": {
     "iopub.execute_input": "2020-11-10T13:37:49.355790Z",
     "iopub.status.busy": "2020-11-10T13:37:49.355161Z",
     "iopub.status.idle": "2020-11-10T13:37:49.358988Z",
     "shell.execute_reply": "2020-11-10T13:37:49.359650Z"
    },
    "papermill": {
     "duration": 0.034588,
     "end_time": "2020-11-10T13:37:49.359867",
     "exception": false,
     "start_time": "2020-11-10T13:37:49.325279",
     "status": "completed"
    },
    "tags": []
   },
   "outputs": [
    {
     "data": {
      "text/html": [
       "\n",
       "<!-- #######  HTML!! #########-->\n",
       "<h1 style=\"color: #5e9ca0; text-align: center;\">India</h1>\n",
       "<p style=\"text-align: center;\">Last update: <strong>2020-11-10</strong></p>\n",
       "<p style=\"text-align: center;\">Confirmed cases:</p>\n",
       "<p style=\"text-align: center;font-size:24px;\">8593900 (<span style=\"color: #ff0000;\">+2825</span>)</p>\n",
       "<p style=\"text-align: center;\">Confirmed deaths:</p>\n",
       "<p style=\"text-align: center;font-size:24px;\">127128 (<span style=\"color: #ff0000;\">+24</span>)</p>\n"
      ],
      "text/plain": [
       "<IPython.core.display.HTML object>"
      ]
     },
     "metadata": {},
     "output_type": "display_data"
    }
   ],
   "source": [
    "#hide_input\n",
    "update = summary['updated']\n",
    "cases = summary['Cases']\n",
    "new = summary['Cases (+)']\n",
    "deaths = summary['Deaths']\n",
    "dnew = summary['Deaths (+)']\n",
    "\n",
    "html = HTML(overview.format(update=update, cases=cases,new=new,deaths=deaths,dnew=dnew))\n",
    "\n",
    "display(html)"
   ]
  },
  {
   "cell_type": "code",
   "execution_count": 17,
   "metadata": {
    "execution": {
     "iopub.execute_input": "2020-11-10T13:37:49.409875Z",
     "iopub.status.busy": "2020-11-10T13:37:49.409154Z",
     "iopub.status.idle": "2020-11-10T13:37:49.414668Z",
     "shell.execute_reply": "2020-11-10T13:37:49.415243Z"
    },
    "papermill": {
     "duration": 0.035696,
     "end_time": "2020-11-10T13:37:49.415401",
     "exception": false,
     "start_time": "2020-11-10T13:37:49.379705",
     "status": "completed"
    },
    "tags": []
   },
   "outputs": [],
   "source": [
    "#hide\n",
    "dt_cols = list(dft_cases.columns[1:])\n",
    "dft_ct_new_cases = dft_cases.groupby('state')[dt_cols].sum().diff(axis=1).fillna(0).astype(int)\n",
    "dft_ct_new_cases.sort_values(by = dates[-1], ascending = False,inplace = True)"
   ]
  },
  {
   "cell_type": "code",
   "execution_count": 18,
   "metadata": {
    "execution": {
     "iopub.execute_input": "2020-11-10T13:37:49.472058Z",
     "iopub.status.busy": "2020-11-10T13:37:49.471417Z",
     "iopub.status.idle": "2020-11-10T13:37:49.474781Z",
     "shell.execute_reply": "2020-11-10T13:37:49.474266Z"
    },
    "papermill": {
     "duration": 0.041222,
     "end_time": "2020-11-10T13:37:49.474934",
     "exception": false,
     "start_time": "2020-11-10T13:37:49.433712",
     "status": "completed"
    },
    "tags": []
   },
   "outputs": [
    {
     "data": {
      "text/html": [
       "<div>\n",
       "<style scoped>\n",
       "    .dataframe tbody tr th:only-of-type {\n",
       "        vertical-align: middle;\n",
       "    }\n",
       "\n",
       "    .dataframe tbody tr th {\n",
       "        vertical-align: top;\n",
       "    }\n",
       "\n",
       "    .dataframe thead th {\n",
       "        text-align: right;\n",
       "    }\n",
       "</style>\n",
       "<table border=\"1\" class=\"dataframe\">\n",
       "  <thead>\n",
       "    <tr style=\"text-align: right;\">\n",
       "      <th>states</th>\n",
       "      <th>2020-07-01</th>\n",
       "      <th>2020-07-02</th>\n",
       "      <th>2020-07-03</th>\n",
       "      <th>2020-07-04</th>\n",
       "      <th>2020-07-05</th>\n",
       "      <th>2020-07-06</th>\n",
       "      <th>2020-07-07</th>\n",
       "      <th>2020-07-08</th>\n",
       "      <th>2020-07-09</th>\n",
       "      <th>2020-07-10</th>\n",
       "      <th>...</th>\n",
       "      <th>2020-11-01</th>\n",
       "      <th>2020-11-02</th>\n",
       "      <th>2020-11-03</th>\n",
       "      <th>2020-11-04</th>\n",
       "      <th>2020-11-05</th>\n",
       "      <th>2020-11-06</th>\n",
       "      <th>2020-11-07</th>\n",
       "      <th>2020-11-08</th>\n",
       "      <th>2020-11-09</th>\n",
       "      <th>2020-11-10</th>\n",
       "    </tr>\n",
       "    <tr>\n",
       "      <th>state</th>\n",
       "      <th></th>\n",
       "      <th></th>\n",
       "      <th></th>\n",
       "      <th></th>\n",
       "      <th></th>\n",
       "      <th></th>\n",
       "      <th></th>\n",
       "      <th></th>\n",
       "      <th></th>\n",
       "      <th></th>\n",
       "      <th></th>\n",
       "      <th></th>\n",
       "      <th></th>\n",
       "      <th></th>\n",
       "      <th></th>\n",
       "      <th></th>\n",
       "      <th></th>\n",
       "      <th></th>\n",
       "      <th></th>\n",
       "      <th></th>\n",
       "      <th></th>\n",
       "    </tr>\n",
       "  </thead>\n",
       "  <tbody>\n",
       "    <tr>\n",
       "      <th>Telangana</th>\n",
       "      <td>0</td>\n",
       "      <td>1213</td>\n",
       "      <td>1892</td>\n",
       "      <td>1850</td>\n",
       "      <td>1590</td>\n",
       "      <td>1831</td>\n",
       "      <td>1879</td>\n",
       "      <td>1924</td>\n",
       "      <td>1410</td>\n",
       "      <td>1278</td>\n",
       "      <td>...</td>\n",
       "      <td>1416</td>\n",
       "      <td>922</td>\n",
       "      <td>1536</td>\n",
       "      <td>1637</td>\n",
       "      <td>1539</td>\n",
       "      <td>1602</td>\n",
       "      <td>1607</td>\n",
       "      <td>1440</td>\n",
       "      <td>857</td>\n",
       "      <td>1267</td>\n",
       "    </tr>\n",
       "    <tr>\n",
       "      <th>Odisha</th>\n",
       "      <td>0</td>\n",
       "      <td>229</td>\n",
       "      <td>561</td>\n",
       "      <td>495</td>\n",
       "      <td>469</td>\n",
       "      <td>456</td>\n",
       "      <td>571</td>\n",
       "      <td>527</td>\n",
       "      <td>577</td>\n",
       "      <td>755</td>\n",
       "      <td>...</td>\n",
       "      <td>1709</td>\n",
       "      <td>1389</td>\n",
       "      <td>1201</td>\n",
       "      <td>1474</td>\n",
       "      <td>1385</td>\n",
       "      <td>1494</td>\n",
       "      <td>1372</td>\n",
       "      <td>1434</td>\n",
       "      <td>1219</td>\n",
       "      <td>987</td>\n",
       "    </tr>\n",
       "    <tr>\n",
       "      <th>Jammu and Kashmir</th>\n",
       "      <td>0</td>\n",
       "      <td>154</td>\n",
       "      <td>170</td>\n",
       "      <td>227</td>\n",
       "      <td>183</td>\n",
       "      <td>246</td>\n",
       "      <td>256</td>\n",
       "      <td>330</td>\n",
       "      <td>240</td>\n",
       "      <td>387</td>\n",
       "      <td>...</td>\n",
       "      <td>540</td>\n",
       "      <td>385</td>\n",
       "      <td>478</td>\n",
       "      <td>512</td>\n",
       "      <td>524</td>\n",
       "      <td>581</td>\n",
       "      <td>532</td>\n",
       "      <td>555</td>\n",
       "      <td>460</td>\n",
       "      <td>492</td>\n",
       "    </tr>\n",
       "    <tr>\n",
       "      <th>Tripura</th>\n",
       "      <td>0</td>\n",
       "      <td>39</td>\n",
       "      <td>93</td>\n",
       "      <td>25</td>\n",
       "      <td>23</td>\n",
       "      <td>111</td>\n",
       "      <td>24</td>\n",
       "      <td>57</td>\n",
       "      <td>16</td>\n",
       "      <td>142</td>\n",
       "      <td>...</td>\n",
       "      <td>77</td>\n",
       "      <td>58</td>\n",
       "      <td>137</td>\n",
       "      <td>116</td>\n",
       "      <td>132</td>\n",
       "      <td>110</td>\n",
       "      <td>87</td>\n",
       "      <td>83</td>\n",
       "      <td>26</td>\n",
       "      <td>79</td>\n",
       "    </tr>\n",
       "    <tr>\n",
       "      <th>Andaman and Nicobar Islands</th>\n",
       "      <td>0</td>\n",
       "      <td>9</td>\n",
       "      <td>7</td>\n",
       "      <td>3</td>\n",
       "      <td>6</td>\n",
       "      <td>16</td>\n",
       "      <td>6</td>\n",
       "      <td>2</td>\n",
       "      <td>7</td>\n",
       "      <td>0</td>\n",
       "      <td>...</td>\n",
       "      <td>8</td>\n",
       "      <td>12</td>\n",
       "      <td>20</td>\n",
       "      <td>17</td>\n",
       "      <td>14</td>\n",
       "      <td>17</td>\n",
       "      <td>21</td>\n",
       "      <td>9</td>\n",
       "      <td>13</td>\n",
       "      <td>0</td>\n",
       "    </tr>\n",
       "  </tbody>\n",
       "</table>\n",
       "<p>5 rows × 133 columns</p>\n",
       "</div>"
      ],
      "text/plain": [
       "states                       2020-07-01  2020-07-02  2020-07-03  2020-07-04  \\\n",
       "state                                                                         \n",
       "Telangana                             0        1213        1892        1850   \n",
       "Odisha                                0         229         561         495   \n",
       "Jammu and Kashmir                     0         154         170         227   \n",
       "Tripura                               0          39          93          25   \n",
       "Andaman and Nicobar Islands           0           9           7           3   \n",
       "\n",
       "states                       2020-07-05  2020-07-06  2020-07-07  2020-07-08  \\\n",
       "state                                                                         \n",
       "Telangana                          1590        1831        1879        1924   \n",
       "Odisha                              469         456         571         527   \n",
       "Jammu and Kashmir                   183         246         256         330   \n",
       "Tripura                              23         111          24          57   \n",
       "Andaman and Nicobar Islands           6          16           6           2   \n",
       "\n",
       "states                       2020-07-09  2020-07-10  ...  2020-11-01  \\\n",
       "state                                                ...               \n",
       "Telangana                          1410        1278  ...        1416   \n",
       "Odisha                              577         755  ...        1709   \n",
       "Jammu and Kashmir                   240         387  ...         540   \n",
       "Tripura                              16         142  ...          77   \n",
       "Andaman and Nicobar Islands           7           0  ...           8   \n",
       "\n",
       "states                       2020-11-02  2020-11-03  2020-11-04  2020-11-05  \\\n",
       "state                                                                         \n",
       "Telangana                           922        1536        1637        1539   \n",
       "Odisha                             1389        1201        1474        1385   \n",
       "Jammu and Kashmir                   385         478         512         524   \n",
       "Tripura                              58         137         116         132   \n",
       "Andaman and Nicobar Islands          12          20          17          14   \n",
       "\n",
       "states                       2020-11-06  2020-11-07  2020-11-08  2020-11-09  \\\n",
       "state                                                                         \n",
       "Telangana                          1602        1607        1440         857   \n",
       "Odisha                             1494        1372        1434        1219   \n",
       "Jammu and Kashmir                   581         532         555         460   \n",
       "Tripura                             110          87          83          26   \n",
       "Andaman and Nicobar Islands          17          21           9          13   \n",
       "\n",
       "states                       2020-11-10  \n",
       "state                                    \n",
       "Telangana                          1267  \n",
       "Odisha                              987  \n",
       "Jammu and Kashmir                   492  \n",
       "Tripura                              79  \n",
       "Andaman and Nicobar Islands           0  \n",
       "\n",
       "[5 rows x 133 columns]"
      ]
     },
     "execution_count": 18,
     "metadata": {},
     "output_type": "execute_result"
    }
   ],
   "source": [
    "#hide\n",
    "dft_ct_new_cases.head()"
   ]
  },
  {
   "cell_type": "code",
   "execution_count": 19,
   "metadata": {
    "execution": {
     "iopub.execute_input": "2020-11-10T13:37:49.528215Z",
     "iopub.status.busy": "2020-11-10T13:37:49.522789Z",
     "iopub.status.idle": "2020-11-10T13:37:56.315812Z",
     "shell.execute_reply": "2020-11-10T13:37:56.316317Z"
    },
    "papermill": {
     "duration": 6.821531,
     "end_time": "2020-11-10T13:37:56.316486",
     "exception": false,
     "start_time": "2020-11-10T13:37:49.494955",
     "status": "completed"
    },
    "tags": []
   },
   "outputs": [
    {
     "data": {
      "image/png": "[encoded data removed]",
      "text/plain": [
       "<Figure size 1296x2016 with 11 Axes>"
      ]
     },
     "metadata": {
      "needs_background": "light"
     },
     "output_type": "display_data"
    }
   ],
   "source": [
    "#hide_input\n",
    "df = dft_ct_new_cases.copy()\n",
    "df.loc['Total'] = df.sum()\n",
    "n = 5\n",
    "ax = []\n",
    "fig = plt.figure(figsize = (18,28))\n",
    "gs = fig.add_gridspec(n+2, 5)\n",
    "# gs = fig.add_gridspec(2, 3)\n",
    "ax1 = fig.add_subplot(gs[0, :])\n",
    "ef = df.loc['Total'].rename_axis('date').reset_index()\n",
    "ef['date'] = ef['date'].astype('datetime64[ns]')\n",
    "ax1.bar(ef.date,ef.Total,alpha=0.3,color='#007acc')\n",
    "ax1.plot(ef.date,ef.Total , marker=\"o\", color='#007acc')\n",
    "ax1.xaxis.set_major_locator(mdates.WeekdayLocator())\n",
    "ax1.xaxis.set_major_formatter(mdates.DateFormatter('%b %d'))\n",
    "ax1.text(0.02, 0.5,'India daily case count', transform = ax1.transAxes, fontsize=25);\n",
    "ax1.spines['right'].set_visible(False)\n",
    "ax1.spines['top'].set_visible(False)\n",
    "\n",
    "ax2 = fig.add_subplot(gs[1,0])\n",
    "ef = df.loc['Maharashtra'].rename_axis('date').reset_index()\n",
    "ef['date'] = ef['date'].astype('datetime64[ns]')\n",
    "\n",
    "ax2.bar(ef.date, ef.Maharashtra,color = '#007acc',alpha=0.5)\n",
    "ax2.xaxis.set_major_locator(mdates.WeekdayLocator())\n",
    "ax2.xaxis.set_major_formatter(mdates.DateFormatter('%b %d'))\n",
    "ax2.set_xticks(ax2.get_xticks()[::3])\n",
    "maxyval = ef.Maharashtra.max()\n",
    "ax2.set_ylim([0,maxyval])\n",
    "ax2.text(0.05, 0.9,'Maharashtra', transform = ax2.transAxes, fontsize=20);\n",
    "ax2.spines['right'].set_visible(False)\n",
    "ax2.spines['top'].set_visible(False)\n",
    "\n",
    "\n",
    "ax3 = fig.add_subplot(gs[1,1])\n",
    "ef = df.loc['Tamil Nadu'].rename_axis('date').reset_index()\n",
    "ef['date'] = ef['date'].astype('datetime64[ns]')\n",
    "ax3.bar(ef.date, ef['Tamil Nadu'],color = '#007acc',alpha=0.5,)\n",
    "ax3.xaxis.set_major_locator(mdates.WeekdayLocator())\n",
    "ax3.xaxis.set_major_formatter(mdates.DateFormatter('%b %d'))\n",
    "ax3.set_xticks(ax3.get_xticks()[::3])\n",
    "ax3.text(0.05, 0.9,'Tamil Nadu', transform = ax3.transAxes, fontsize=20);\n",
    "ax3.spines['right'].set_visible(False)\n",
    "ax3.spines['top'].set_visible(False)\n",
    "\n",
    "ax5 = fig.add_subplot(gs[1,3])\n",
    "ef = df.loc['Telangana'].rename_axis('date').reset_index()\n",
    "ef['date'] = ef['date'].astype('datetime64[ns]')\n",
    "ax5.bar(ef.date, ef['Telangana'],color = '#007acc',alpha=0.5,)\n",
    "ax5.xaxis.set_major_locator(mdates.WeekdayLocator())\n",
    "ax5.xaxis.set_major_formatter(mdates.DateFormatter('%b %d'))\n",
    "ax5.set_xticks(ax5.get_xticks()[::3])\n",
    "ax5.text(0.05, 0.9,'Telangana', transform = ax5.transAxes, fontsize=20);\n",
    "ax5.spines['right'].set_visible(False)\n",
    "ax5.spines['top'].set_visible(False)\n",
    "\n",
    "ax6 = fig.add_subplot(gs[1,4])\n",
    "ef = df.loc['Andhra Pradesh'].rename_axis('date').reset_index()\n",
    "ef['date'] = ef['date'].astype('datetime64[ns]')\n",
    "ax6.bar(ef.date, ef['Andhra Pradesh'],color = '#007acc',alpha=0.5,)\n",
    "ax6.xaxis.set_major_locator(mdates.WeekdayLocator())\n",
    "ax6.xaxis.set_major_formatter(mdates.DateFormatter('%b %d'))\n",
    "ax6.set_xticks(ax6.get_xticks()[::3])\n",
    "ax6.text(0.05, 1,'Andhra Pradesh', transform = ax6.transAxes, fontsize=20);\n",
    "ax6.spines['right'].set_visible(False)\n",
    "ax6.spines['top'].set_visible(False)\n",
    "\n",
    "ax4 = fig.add_subplot(gs[1,2])\n",
    "ef = df.loc['Delhi'].rename_axis('date').reset_index()\n",
    "ef['date'] = ef['date'].astype('datetime64[ns]')\n",
    "ax4.bar(ef.date, ef.Delhi,color = '#007acc',alpha=0.5)\n",
    "ax4.set_xticks([])\n",
    "ax4.xaxis.set_major_locator(mdates.WeekdayLocator())\n",
    "ax4.xaxis.set_major_formatter(mdates.DateFormatter('%b %d'))\n",
    "ax4.set_xticks(ax4.get_xticks()[::3])\n",
    "ax4.spines['right'].set_visible(False)\n",
    "ax4.spines['top'].set_visible(False)\n",
    "\n",
    "ax4.text(0.05, 1,'Delhi', transform = ax4.transAxes, fontsize=20)\n",
    "\n",
    "for i in range(n):\n",
    "    \n",
    "    ax.append(fig.add_subplot(gs[i+2,:]))\n",
    "    ef = df.iloc[i+3].rename_axis('date').reset_index()\n",
    "    ef['date'] = ef['date'].astype('datetime64[ns]')\n",
    "    ax[i].bar(ef.date,ef.iloc[:,-1],color = '#007acc',alpha=0.3)\n",
    "    ax[i].plot(ef.date,ef.iloc[:,-1],marker='o',color='#007acc')\n",
    "    ax[i].text(0.02,0.5,f'{ef.columns.values[-1]}',transform = ax[i].transAxes, fontsize = 20);\n",
    "    ax[i].xaxis.set_major_locator(mdates.WeekdayLocator())\n",
    "    ax[i].xaxis.set_major_formatter(mdates.DateFormatter('%b %d'))\n",
    "    ax[i].set_ylim([0,7000])\n",
    "    ax[i].spines['right'].set_visible(False)\n",
    "    ax[i].spines['top'].set_visible(False)\n",
    "plt.tight_layout()\n"
   ]
  },
  {
   "cell_type": "code",
   "execution_count": 20,
   "metadata": {
    "execution": {
     "iopub.execute_input": "2020-11-10T13:37:56.372883Z",
     "iopub.status.busy": "2020-11-10T13:37:56.372281Z",
     "iopub.status.idle": "2020-11-10T13:37:56.375385Z",
     "shell.execute_reply": "2020-11-10T13:37:56.375891Z"
    },
    "papermill": {
     "duration": 0.035342,
     "end_time": "2020-11-10T13:37:56.376035",
     "exception": false,
     "start_time": "2020-11-10T13:37:56.340693",
     "status": "completed"
    },
    "tags": []
   },
   "outputs": [
    {
     "name": "stdout",
     "output_type": "stream",
     "text": [
      "                                   states    Cases  Deaths   PCases  PDeaths  Cases (+)  Deaths (+)  Fatality Rate\n",
      "                              Maharashtra  1723135   45325  1723135    45325          0           0           2.63\n",
      "                                Karnataka   848850   11410   848850    11410          0           0           1.34\n",
      "                           Andhra Pradesh   844359    6802   844359     6802          0           0           0.81\n",
      "                               Tamil Nadu   746079   11362   746079    11362          0           0           1.52\n",
      "                            Uttar Pradesh   499190    7231   499190     7231          0           0           1.45\n",
      "                                   Kerala   489703    1715   489703     1715          0           0           0.35\n",
      "                                    Delhi   443552    7060   443552     7060          0           0           1.59\n",
      "                              West Bengal   409221    7350   409221     7350          0           0           1.80\n",
      "                                   Odisha   303780    1507   302793     1494        987          13           0.50\n",
      "                                Telangana   252455    1385   251188     1381       1267           4           0.55\n",
      "                                    Bihar   223477    1151   223477     1151          0           0           0.52\n",
      "                                Rajasthan   213169    1998   213169     1998          0           0           0.94\n",
      "                                    Assam   209117     948   209117      948          0           0           0.45\n",
      "                             Chhattisgarh   202523    2464   202523     2464          0           0           1.22\n",
      "                                  Haryana   185231    1919   185231     1919          0           0           1.04\n",
      "                                  Gujarat   181670    3768   181670     3768          0           0           2.07\n",
      "                           Madhya Pradesh   178168    3034   178168     3034          0           0           1.70\n",
      "                                   Punjab   137999    4338   137999     4338          0           0           3.14\n",
      "                                Jharkhand   104688     905   104688      905          0           0           0.86\n",
      "                        Jammu and Kashmir    99844    1549    99352     1542        492           7           1.55\n",
      "                              Uttarakhand    65677    1075    65677     1075          0           0           1.64\n",
      "                                      Goa    45209     647    45209      647          0           0           1.43\n",
      "                               Puducherry    35900     602    35900      602          0           0           1.68\n",
      "                                  Tripura    31619     356    31540      356         79           0           1.13\n",
      "                         Himachal Pradesh    26197     378    26197      378          0           0           1.44\n",
      "                                  Manipur    20558     198    20558      198          0           0           0.96\n",
      "                        Arunachal Pradesh    15484      46    15484       46          0           0           0.30\n",
      "                               Chandigarh    15249     237    15249      237          0           0           1.55\n",
      "                                Meghalaya    10230      94    10230       94          0           0           0.92\n",
      "                                 Nagaland     9503      46     9503       46          0           0           0.48\n",
      "                                   Ladakh     6979      85     6979       85          0           0           1.22\n",
      "              Andaman and Nicobar Islands     4463      60     4463       60          0           0           1.34\n",
      "                                   Sikkim     4257      79     4257       79          0           0           1.86\n",
      " Dadra and Nagar Haveli and Daman and Diu     3269       2     3269        2          0           0           0.06\n",
      "                                  Mizoram     3096       2     3096        2          0           0           0.06\n",
      "                              Lakshadweep        0       0        0        0          0           0            NaN\n"
     ]
    }
   ],
   "source": [
    "#hide_input\n",
    "print(df_table.to_string(index=False))"
   ]
  },
  {
   "cell_type": "code",
   "execution_count": null,
   "metadata": {
    "papermill": {
     "duration": 0.024429,
     "end_time": "2020-11-10T13:37:56.424960",
     "exception": false,
     "start_time": "2020-11-10T13:37:56.400531",
     "status": "completed"
    },
    "tags": []
   },
   "outputs": [],
   "source": []
  },
  {
   "cell_type": "code",
   "execution_count": null,
   "metadata": {
    "papermill": {
     "duration": 0.025727,
     "end_time": "2020-11-10T13:37:56.474293",
     "exception": false,
     "start_time": "2020-11-10T13:37:56.448566",
     "status": "completed"
    },
    "tags": []
   },
   "outputs": [],
   "source": []
  }
 ],
 "metadata": {
  "kernelspec": {
   "display_name": "Python 3",
   "language": "python",
   "name": "python3"
  },
  "language_info": {
   "codemirror_mode": {
    "name": "ipython",
    "version": 3
   },
   "file_extension": ".py",
   "mimetype": "text/x-python",
   "name": "python",
   "nbconvert_exporter": "python",
   "pygments_lexer": "ipython3",
   "version": "3.6.12"
  },
  "papermill": {
   "duration": 15.835032,
   "end_time": "2020-11-10T13:37:57.007231",
   "environment_variables": {},
   "exception": null,
   "input_path": "latest.ipynb",
   "output_path": "latest.ipynb",
   "parameters": {},
   "start_time": "2020-11-10T13:37:41.172199",
   "version": "2.1.2"
  }
 },
 "nbformat": 4,
 "nbformat_minor": 4
}