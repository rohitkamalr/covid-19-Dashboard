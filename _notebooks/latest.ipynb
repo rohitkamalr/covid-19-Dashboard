{
 "cells": [
  {
   "cell_type": "markdown",
   "id": "colored-stack",
   "metadata": {
    "papermill": {
     "duration": 0.019786,
     "end_time": "2021-01-26T13:43:40.799864",
     "exception": false,
     "start_time": "2021-01-26T13:43:40.780078",
     "status": "completed"
    },
    "tags": []
   },
   "source": [
    "# Latest COVID-19 India Matplotlib Overview"
   ]
  },
  {
   "cell_type": "code",
   "execution_count": 1,
   "id": "light-proportion",
   "metadata": {
    "execution": {
     "iopub.execute_input": "2021-01-26T13:43:40.842223Z",
     "iopub.status.busy": "2021-01-26T13:43:40.841578Z",
     "iopub.status.idle": "2021-01-26T13:43:41.418175Z",
     "shell.execute_reply": "2021-01-26T13:43:41.417595Z"
    },
    "papermill": {
     "duration": 0.602283,
     "end_time": "2021-01-26T13:43:41.418349",
     "exception": false,
     "start_time": "2021-01-26T13:43:40.816066",
     "status": "completed"
    },
    "tags": []
   },
   "outputs": [],
   "source": [
    "#hide\n",
    "import pandas as pd\n",
    "import numpy as np\n",
    "import requests\n",
    "import json\n",
    "import matplotlib.pyplot as plt\n",
    "import matplotlib.dates as mdates\n",
    "import matplotlib as mpl\n",
    "from IPython.core.display import display,HTML\n",
    "%matplotlib inline\n",
    "from datetime import date"
   ]
  },
  {
   "cell_type": "code",
   "execution_count": 2,
   "id": "greenhouse-shooting",
   "metadata": {
    "execution": {
     "iopub.execute_input": "2021-01-26T13:43:41.466270Z",
     "iopub.status.busy": "2021-01-26T13:43:41.465677Z",
     "iopub.status.idle": "2021-01-26T13:43:41.682468Z",
     "shell.execute_reply": "2021-01-26T13:43:41.681753Z"
    },
    "papermill": {
     "duration": 0.241812,
     "end_time": "2021-01-26T13:43:41.682635",
     "exception": false,
     "start_time": "2021-01-26T13:43:41.440823",
     "status": "completed"
    },
    "tags": []
   },
   "outputs": [],
   "source": [
    "#hide\n",
    "df  = pd.read_csv('https://api.covid19india.org/csv/latest/states.csv')\n",
    "df = df[['Date','State','Confirmed','Deceased']]\n",
    "df = df.rename(columns={'Confirmed':'Cases', \"Deceased\":'Deaths'})\n",
    "df_cases = df[[\"Date\",'State','Cases']]\n",
    "df_deaths = df[['Date','State','Deaths']]\n",
    "df_cases1 = df_cases.groupby('Date')\n",
    "df_deaths1= df_deaths.groupby('Date')"
   ]
  },
  {
   "cell_type": "code",
   "execution_count": 3,
   "id": "hybrid-cathedral",
   "metadata": {
    "execution": {
     "iopub.execute_input": "2021-01-26T13:43:41.722291Z",
     "iopub.status.busy": "2021-01-26T13:43:41.721752Z",
     "iopub.status.idle": "2021-01-26T13:43:41.736932Z",
     "shell.execute_reply": "2021-01-26T13:43:41.736400Z"
    },
    "papermill": {
     "duration": 0.036893,
     "end_time": "2021-01-26T13:43:41.737053",
     "exception": false,
     "start_time": "2021-01-26T13:43:41.700160",
     "status": "completed"
    },
    "tags": []
   },
   "outputs": [],
   "source": [
    "#hide\n",
    "df_snap = pd.read_csv('data/SnapshotCases-28-July.csv')\n",
    "arr_states = df_snap['states'].unique()\n",
    "arr_dates = df['Date'].unique()\n",
    "df_snap = df_snap.set_index('states')"
   ]
  },
  {
   "cell_type": "code",
   "execution_count": 4,
   "id": "interior-belfast",
   "metadata": {
    "execution": {
     "iopub.execute_input": "2021-01-26T13:43:41.778699Z",
     "iopub.status.busy": "2021-01-26T13:43:41.778181Z",
     "iopub.status.idle": "2021-01-26T13:43:41.781206Z",
     "shell.execute_reply": "2021-01-26T13:43:41.780709Z"
    },
    "papermill": {
     "duration": 0.027162,
     "end_time": "2021-01-26T13:43:41.781354",
     "exception": false,
     "start_time": "2021-01-26T13:43:41.754192",
     "status": "completed"
    },
    "tags": []
   },
   "outputs": [
    {
     "data": {
      "text/plain": [
       "array(['Andaman and Nicobar Islands', 'Andhra Pradesh',\n",
       "       'Arunachal Pradesh', 'Assam', 'Bihar', 'Chandigarh',\n",
       "       'Dadra and Nagar Haveli and Daman and Diu', 'Delhi', 'Goa',\n",
       "       'Gujarat', 'Haryana', 'Himachal Pradesh', 'Jammu and Kashmir',\n",
       "       'Jharkhand', 'Karnataka', 'Kerala', 'Lakshadweep',\n",
       "       'Madhya Pradesh', 'Maharashtra', 'Manipur', 'Meghalaya', 'Mizoram',\n",
       "       'Nagaland', 'Odisha', 'Puducherry', 'Punjab', 'Rajasthan',\n",
       "       'Sikkim', 'Tamil Nadu', 'Telangana', 'Tripura', 'Uttar Pradesh',\n",
       "       'West Bengal', 'Chhattisgarh', 'Ladakh', 'Uttarakhand'],\n",
       "      dtype=object)"
      ]
     },
     "execution_count": 4,
     "metadata": {},
     "output_type": "execute_result"
    }
   ],
   "source": [
    "#hide\n",
    "arr_states[-9] = 'Puducherry'\n",
    "arr_states[-10] = 'Odisha'\n",
    "arr_states[6] = 'Dadra and Nagar Haveli and Daman and Diu'\n",
    "arr_states = np.append(arr_states,np.array(['Chhattisgarh','Ladakh','Uttarakhand']))\n",
    "arr_states"
   ]
  },
  {
   "cell_type": "code",
   "execution_count": 5,
   "id": "behind-manner",
   "metadata": {
    "execution": {
     "iopub.execute_input": "2021-01-26T13:43:41.821872Z",
     "iopub.status.busy": "2021-01-26T13:43:41.821329Z",
     "iopub.status.idle": "2021-01-26T13:43:41.829253Z",
     "shell.execute_reply": "2021-01-26T13:43:41.828629Z"
    },
    "papermill": {
     "duration": 0.033472,
     "end_time": "2021-01-26T13:43:41.829409",
     "exception": false,
     "start_time": "2021-01-26T13:43:41.795937",
     "status": "completed"
    },
    "tags": []
   },
   "outputs": [],
   "source": [
    "#hide\n",
    "dates = []\n",
    "for i in arr_dates:\n",
    "    if i>='2020-07-01':\n",
    "        dates.append(i)\n",
    "dict = {'states':dates}\n",
    "for i in arr_states:\n",
    "    dict[i] = [0]*len(dates)\n",
    "dft_cases = pd.DataFrame(dict)\n",
    "dft_deaths = pd.DataFrame(dict)\n"
   ]
  },
  {
   "cell_type": "code",
   "execution_count": 6,
   "id": "simplified-peter",
   "metadata": {
    "execution": {
     "iopub.execute_input": "2021-01-26T13:43:41.868339Z",
     "iopub.status.busy": "2021-01-26T13:43:41.867820Z",
     "iopub.status.idle": "2021-01-26T13:43:45.111958Z",
     "shell.execute_reply": "2021-01-26T13:43:45.112414Z"
    },
    "papermill": {
     "duration": 3.268144,
     "end_time": "2021-01-26T13:43:45.112562",
     "exception": false,
     "start_time": "2021-01-26T13:43:41.844418",
     "status": "completed"
    },
    "tags": []
   },
   "outputs": [],
   "source": [
    "#hide\n",
    "for i in range(len(dates)):\n",
    "    df1_deaths = df_deaths1.get_group(dates[i])\n",
    "    for j in range(len(df1_deaths.index)):\n",
    "        if df1_deaths.iloc[j,1] in arr_states:\n",
    "            dft_deaths.loc[i,df1_deaths.iloc[j,1]] = df1_deaths.iloc[j,2]\n",
    "dft_deaths = dft_deaths.set_index('states')"
   ]
  },
  {
   "cell_type": "code",
   "execution_count": 7,
   "id": "geological-welding",
   "metadata": {
    "execution": {
     "iopub.execute_input": "2021-01-26T13:43:45.159253Z",
     "iopub.status.busy": "2021-01-26T13:43:45.158557Z",
     "iopub.status.idle": "2021-01-26T13:43:48.372258Z",
     "shell.execute_reply": "2021-01-26T13:43:48.368195Z"
    },
    "papermill": {
     "duration": 3.238,
     "end_time": "2021-01-26T13:43:48.372389",
     "exception": false,
     "start_time": "2021-01-26T13:43:45.134389",
     "status": "completed"
    },
    "tags": []
   },
   "outputs": [],
   "source": [
    "#hide\n",
    "for i in range(len(dates)):\n",
    "    df1_cases = df_cases1.get_group(dates[i])\n",
    "    for j in range(len(df1_cases.index)):\n",
    "        if df1_cases.iloc[j,1] in arr_states:\n",
    "            dft_cases.loc[i,df1_cases.iloc[j,1]] = df1_cases.iloc[j,2]\n",
    "dft_cases = dft_cases.set_index('states')"
   ]
  },
  {
   "cell_type": "code",
   "execution_count": 8,
   "id": "binary-ratio",
   "metadata": {
    "execution": {
     "iopub.execute_input": "2021-01-26T13:43:48.510722Z",
     "iopub.status.busy": "2021-01-26T13:43:48.509169Z",
     "iopub.status.idle": "2021-01-26T13:43:48.511300Z",
     "shell.execute_reply": "2021-01-26T13:43:48.511802Z"
    },
    "papermill": {
     "duration": 0.033569,
     "end_time": "2021-01-26T13:43:48.511962",
     "exception": false,
     "start_time": "2021-01-26T13:43:48.478393",
     "status": "completed"
    },
    "tags": []
   },
   "outputs": [],
   "source": [
    "#hide\n",
    "dft_cases = dft_cases.T\n",
    "dft_deaths = dft_deaths.T\n",
    "dt_today = dates[-1]\n",
    "dt_yday = dates[-2]"
   ]
  },
  {
   "cell_type": "code",
   "execution_count": 9,
   "id": "boolean-calculator",
   "metadata": {
    "execution": {
     "iopub.execute_input": "2021-01-26T13:43:48.763646Z",
     "iopub.status.busy": "2021-01-26T13:43:48.761322Z",
     "iopub.status.idle": "2021-01-26T13:43:48.765960Z",
     "shell.execute_reply": "2021-01-26T13:43:48.765390Z"
    },
    "papermill": {
     "duration": 0.060704,
     "end_time": "2021-01-26T13:43:48.766074",
     "exception": false,
     "start_time": "2021-01-26T13:43:48.705370",
     "status": "completed"
    },
    "tags": []
   },
   "outputs": [],
   "source": [
    "#hide\n",
    "dft_cases = dft_cases.reset_index()\n",
    "dft_deaths = dft_deaths.reset_index()\n",
    "dft_cases = dft_cases.rename(columns = {'index':'state'})\n",
    "dft_deaths = dft_deaths.rename(columns = {'index':'state'})"
   ]
  },
  {
   "cell_type": "code",
   "execution_count": 10,
   "id": "invisible-johnston",
   "metadata": {
    "execution": {
     "iopub.execute_input": "2021-01-26T13:43:48.807156Z",
     "iopub.status.busy": "2021-01-26T13:43:48.806605Z",
     "iopub.status.idle": "2021-01-26T13:43:48.809345Z",
     "shell.execute_reply": "2021-01-26T13:43:48.808890Z"
    },
    "papermill": {
     "duration": 0.028384,
     "end_time": "2021-01-26T13:43:48.809449",
     "exception": false,
     "start_time": "2021-01-26T13:43:48.781065",
     "status": "completed"
    },
    "tags": []
   },
   "outputs": [],
   "source": [
    "#hide\n",
    "dfc_cases = dft_cases.groupby('state')[dt_today].sum()\n",
    "dfc_deaths = dft_deaths.groupby('state')[dt_today].sum()\n",
    "dfp_cases = dft_cases.groupby('state')[dt_yday].sum()\n",
    "dfp_deaths = dft_deaths.groupby('state')[dt_yday].sum()"
   ]
  },
  {
   "cell_type": "code",
   "execution_count": 11,
   "id": "measured-great",
   "metadata": {
    "execution": {
     "iopub.execute_input": "2021-01-26T13:43:48.848998Z",
     "iopub.status.busy": "2021-01-26T13:43:48.848411Z",
     "iopub.status.idle": "2021-01-26T13:43:48.859174Z",
     "shell.execute_reply": "2021-01-26T13:43:48.859589Z"
    },
    "papermill": {
     "duration": 0.03466,
     "end_time": "2021-01-26T13:43:48.859710",
     "exception": false,
     "start_time": "2021-01-26T13:43:48.825050",
     "status": "completed"
    },
    "tags": []
   },
   "outputs": [
    {
     "data": {
      "text/html": [
       "<div>\n",
       "<style scoped>\n",
       "    .dataframe tbody tr th:only-of-type {\n",
       "        vertical-align: middle;\n",
       "    }\n",
       "\n",
       "    .dataframe tbody tr th {\n",
       "        vertical-align: top;\n",
       "    }\n",
       "\n",
       "    .dataframe thead th {\n",
       "        text-align: right;\n",
       "    }\n",
       "</style>\n",
       "<table border=\"1\" class=\"dataframe\">\n",
       "  <thead>\n",
       "    <tr style=\"text-align: right;\">\n",
       "      <th></th>\n",
       "      <th>states</th>\n",
       "      <th>Cases</th>\n",
       "      <th>Deaths</th>\n",
       "      <th>PCases</th>\n",
       "      <th>PDeaths</th>\n",
       "    </tr>\n",
       "  </thead>\n",
       "  <tbody>\n",
       "    <tr>\n",
       "      <th>0</th>\n",
       "      <td>Maharashtra</td>\n",
       "      <td>2010948</td>\n",
       "      <td>50815</td>\n",
       "      <td>2010948</td>\n",
       "      <td>50815</td>\n",
       "    </tr>\n",
       "    <tr>\n",
       "      <th>1</th>\n",
       "      <td>Karnataka</td>\n",
       "      <td>936426</td>\n",
       "      <td>12200</td>\n",
       "      <td>936426</td>\n",
       "      <td>12200</td>\n",
       "    </tr>\n",
       "    <tr>\n",
       "      <th>2</th>\n",
       "      <td>Kerala</td>\n",
       "      <td>893640</td>\n",
       "      <td>3625</td>\n",
       "      <td>893640</td>\n",
       "      <td>3625</td>\n",
       "    </tr>\n",
       "    <tr>\n",
       "      <th>3</th>\n",
       "      <td>Andhra Pradesh</td>\n",
       "      <td>887066</td>\n",
       "      <td>7149</td>\n",
       "      <td>887066</td>\n",
       "      <td>7149</td>\n",
       "    </tr>\n",
       "    <tr>\n",
       "      <th>4</th>\n",
       "      <td>Tamil Nadu</td>\n",
       "      <td>835280</td>\n",
       "      <td>12320</td>\n",
       "      <td>835280</td>\n",
       "      <td>12320</td>\n",
       "    </tr>\n",
       "  </tbody>\n",
       "</table>\n",
       "</div>"
      ],
      "text/plain": [
       "           states    Cases  Deaths   PCases  PDeaths\n",
       "0     Maharashtra  2010948   50815  2010948    50815\n",
       "1       Karnataka   936426   12200   936426    12200\n",
       "2          Kerala   893640    3625   893640     3625\n",
       "3  Andhra Pradesh   887066    7149   887066     7149\n",
       "4      Tamil Nadu   835280   12320   835280    12320"
      ]
     },
     "execution_count": 11,
     "metadata": {},
     "output_type": "execute_result"
    }
   ],
   "source": [
    "#hide\n",
    "df_table = pd.DataFrame({'states': dfc_cases.index, 'Cases': dfc_cases.values, 'Deaths': dfc_deaths.values, 'PCases': dfp_cases.values, 'PDeaths': dfp_deaths.values}).set_index('states')\n",
    "df_table = df_table.sort_values(by = ['Cases','Deaths'], ascending = [False, False])\n",
    "df_table = df_table.reset_index()\n",
    "df_table.head()"
   ]
  },
  {
   "cell_type": "code",
   "execution_count": 12,
   "id": "found-montreal",
   "metadata": {
    "execution": {
     "iopub.execute_input": "2021-01-26T13:43:48.897875Z",
     "iopub.status.busy": "2021-01-26T13:43:48.897310Z",
     "iopub.status.idle": "2021-01-26T13:43:48.905978Z",
     "shell.execute_reply": "2021-01-26T13:43:48.906424Z"
    },
    "papermill": {
     "duration": 0.029264,
     "end_time": "2021-01-26T13:43:48.906552",
     "exception": false,
     "start_time": "2021-01-26T13:43:48.877288",
     "status": "completed"
    },
    "tags": []
   },
   "outputs": [],
   "source": [
    "#hide\n",
    "for c in 'Cases, Deaths'.split(', '):\n",
    "    df_table[f'{c} (+)'] = (df_table[c] - df_table[f'P{c}']).clip(0)\n",
    "df_table['Fatality Rate'] = (100* df_table['Deaths']/ df_table['Cases']).round(2)"
   ]
  },
  {
   "cell_type": "code",
   "execution_count": 13,
   "id": "minus-savage",
   "metadata": {
    "execution": {
     "iopub.execute_input": "2021-01-26T13:43:48.946849Z",
     "iopub.status.busy": "2021-01-26T13:43:48.946292Z",
     "iopub.status.idle": "2021-01-26T13:43:48.953468Z",
     "shell.execute_reply": "2021-01-26T13:43:48.952999Z"
    },
    "papermill": {
     "duration": 0.030332,
     "end_time": "2021-01-26T13:43:48.953580",
     "exception": false,
     "start_time": "2021-01-26T13:43:48.923248",
     "status": "completed"
    },
    "tags": []
   },
   "outputs": [
    {
     "data": {
      "text/html": [
       "<div>\n",
       "<style scoped>\n",
       "    .dataframe tbody tr th:only-of-type {\n",
       "        vertical-align: middle;\n",
       "    }\n",
       "\n",
       "    .dataframe tbody tr th {\n",
       "        vertical-align: top;\n",
       "    }\n",
       "\n",
       "    .dataframe thead th {\n",
       "        text-align: right;\n",
       "    }\n",
       "</style>\n",
       "<table border=\"1\" class=\"dataframe\">\n",
       "  <thead>\n",
       "    <tr style=\"text-align: right;\">\n",
       "      <th></th>\n",
       "      <th>states</th>\n",
       "      <th>Cases</th>\n",
       "      <th>Deaths</th>\n",
       "      <th>PCases</th>\n",
       "      <th>PDeaths</th>\n",
       "      <th>Cases (+)</th>\n",
       "      <th>Deaths (+)</th>\n",
       "      <th>Fatality Rate</th>\n",
       "    </tr>\n",
       "  </thead>\n",
       "  <tbody>\n",
       "    <tr>\n",
       "      <th>0</th>\n",
       "      <td>Maharashtra</td>\n",
       "      <td>2010948</td>\n",
       "      <td>50815</td>\n",
       "      <td>2010948</td>\n",
       "      <td>50815</td>\n",
       "      <td>0</td>\n",
       "      <td>0</td>\n",
       "      <td>2.53</td>\n",
       "    </tr>\n",
       "    <tr>\n",
       "      <th>1</th>\n",
       "      <td>Karnataka</td>\n",
       "      <td>936426</td>\n",
       "      <td>12200</td>\n",
       "      <td>936426</td>\n",
       "      <td>12200</td>\n",
       "      <td>0</td>\n",
       "      <td>0</td>\n",
       "      <td>1.30</td>\n",
       "    </tr>\n",
       "    <tr>\n",
       "      <th>2</th>\n",
       "      <td>Kerala</td>\n",
       "      <td>893640</td>\n",
       "      <td>3625</td>\n",
       "      <td>893640</td>\n",
       "      <td>3625</td>\n",
       "      <td>0</td>\n",
       "      <td>0</td>\n",
       "      <td>0.41</td>\n",
       "    </tr>\n",
       "    <tr>\n",
       "      <th>3</th>\n",
       "      <td>Andhra Pradesh</td>\n",
       "      <td>887066</td>\n",
       "      <td>7149</td>\n",
       "      <td>887066</td>\n",
       "      <td>7149</td>\n",
       "      <td>0</td>\n",
       "      <td>0</td>\n",
       "      <td>0.81</td>\n",
       "    </tr>\n",
       "    <tr>\n",
       "      <th>4</th>\n",
       "      <td>Tamil Nadu</td>\n",
       "      <td>835280</td>\n",
       "      <td>12320</td>\n",
       "      <td>835280</td>\n",
       "      <td>12320</td>\n",
       "      <td>0</td>\n",
       "      <td>0</td>\n",
       "      <td>1.47</td>\n",
       "    </tr>\n",
       "  </tbody>\n",
       "</table>\n",
       "</div>"
      ],
      "text/plain": [
       "           states    Cases  Deaths   PCases  PDeaths  Cases (+)  Deaths (+)  \\\n",
       "0     Maharashtra  2010948   50815  2010948    50815          0           0   \n",
       "1       Karnataka   936426   12200   936426    12200          0           0   \n",
       "2          Kerala   893640    3625   893640     3625          0           0   \n",
       "3  Andhra Pradesh   887066    7149   887066     7149          0           0   \n",
       "4      Tamil Nadu   835280   12320   835280    12320          0           0   \n",
       "\n",
       "   Fatality Rate  \n",
       "0           2.53  \n",
       "1           1.30  \n",
       "2           0.41  \n",
       "3           0.81  \n",
       "4           1.47  "
      ]
     },
     "execution_count": 13,
     "metadata": {},
     "output_type": "execute_result"
    }
   ],
   "source": [
    "#hide\n",
    "df_table.head()"
   ]
  },
  {
   "cell_type": "code",
   "execution_count": 14,
   "id": "false-peter",
   "metadata": {
    "execution": {
     "iopub.execute_input": "2021-01-26T13:43:48.994882Z",
     "iopub.status.busy": "2021-01-26T13:43:48.994279Z",
     "iopub.status.idle": "2021-01-26T13:43:49.012205Z",
     "shell.execute_reply": "2021-01-26T13:43:49.011595Z"
    },
    "papermill": {
     "duration": 0.040419,
     "end_time": "2021-01-26T13:43:49.012317",
     "exception": false,
     "start_time": "2021-01-26T13:43:48.971898",
     "status": "completed"
    },
    "tags": []
   },
   "outputs": [
    {
     "data": {
      "text/plain": [
       "{'updated': '2021-01-26',\n",
       " 'since': '2021-01-25',\n",
       " 'Cases': 10678277,\n",
       " 'PCases': 10677742,\n",
       " 'Deaths': 153634,\n",
       " 'PDeaths': 153624,\n",
       " 'Cases (+)': 535,\n",
       " 'Deaths (+)': 10}"
      ]
     },
     "execution_count": 14,
     "metadata": {},
     "output_type": "execute_result"
    }
   ],
   "source": [
    "#hide\n",
    "summary = {'updated':dates[-1], 'since':dates[-2]}\n",
    "list_names = ['Cases', 'PCases', 'Deaths', 'PDeaths', 'Cases (+)', 'Deaths (+)']\n",
    "for name in list_names:\n",
    "    summary[name] = df_table.sum()[name]\n",
    "summary"
   ]
  },
  {
   "cell_type": "code",
   "execution_count": 15,
   "id": "packed-viewer",
   "metadata": {
    "execution": {
     "iopub.execute_input": "2021-01-26T13:43:49.049006Z",
     "iopub.status.busy": "2021-01-26T13:43:49.048388Z",
     "iopub.status.idle": "2021-01-26T13:43:49.050200Z",
     "shell.execute_reply": "2021-01-26T13:43:49.050600Z"
    },
    "papermill": {
     "duration": 0.022082,
     "end_time": "2021-01-26T13:43:49.050716",
     "exception": false,
     "start_time": "2021-01-26T13:43:49.028634",
     "status": "completed"
    },
    "tags": []
   },
   "outputs": [],
   "source": [
    "#hide\n",
    "overview = '''\n",
    "<!-- #######  HTML!! #########-->\n",
    "<h1 style=\"color: #5e9ca0; text-align: center;\">India</h1>\n",
    "<p style=\"text-align: center;\">Last update: <strong>{update}</strong></p>\n",
    "<p style=\"text-align: center;\">Confirmed cases:</p>\n",
    "<p style=\"text-align: center;font-size:24px;\">{cases} (<span style=\"color: #ff0000;\">+{new}</span>)</p>\n",
    "<p style=\"text-align: center;\">Confirmed deaths:</p>\n",
    "<p style=\"text-align: center;font-size:24px;\">{deaths} (<span style=\"color: #ff0000;\">+{dnew}</span>)</p>\n",
    "'''"
   ]
  },
  {
   "cell_type": "code",
   "execution_count": 16,
   "id": "phantom-lover",
   "metadata": {
    "execution": {
     "iopub.execute_input": "2021-01-26T13:43:49.092220Z",
     "iopub.status.busy": "2021-01-26T13:43:49.091684Z",
     "iopub.status.idle": "2021-01-26T13:43:49.094532Z",
     "shell.execute_reply": "2021-01-26T13:43:49.095181Z"
    },
    "papermill": {
     "duration": 0.028292,
     "end_time": "2021-01-26T13:43:49.095358",
     "exception": false,
     "start_time": "2021-01-26T13:43:49.067066",
     "status": "completed"
    },
    "tags": []
   },
   "outputs": [
    {
     "data": {
      "text/html": [
       "\n",
       "<!-- #######  HTML!! #########-->\n",
       "<h1 style=\"color: #5e9ca0; text-align: center;\">India</h1>\n",
       "<p style=\"text-align: center;\">Last update: <strong>2021-01-26</strong></p>\n",
       "<p style=\"text-align: center;\">Confirmed cases:</p>\n",
       "<p style=\"text-align: center;font-size:24px;\">10678277 (<span style=\"color: #ff0000;\">+535</span>)</p>\n",
       "<p style=\"text-align: center;\">Confirmed deaths:</p>\n",
       "<p style=\"text-align: center;font-size:24px;\">153634 (<span style=\"color: #ff0000;\">+10</span>)</p>\n"
      ],
      "text/plain": [
       "<IPython.core.display.HTML object>"
      ]
     },
     "metadata": {},
     "output_type": "display_data"
    }
   ],
   "source": [
    "#hide_input\n",
    "update = summary['updated']\n",
    "cases = summary['Cases']\n",
    "new = summary['Cases (+)']\n",
    "deaths = summary['Deaths']\n",
    "dnew = summary['Deaths (+)']\n",
    "\n",
    "html = HTML(overview.format(update=update, cases=cases,new=new,deaths=deaths,dnew=dnew))\n",
    "\n",
    "display(html)"
   ]
  },
  {
   "cell_type": "code",
   "execution_count": 17,
   "id": "sealed-reset",
   "metadata": {
    "execution": {
     "iopub.execute_input": "2021-01-26T13:43:49.140979Z",
     "iopub.status.busy": "2021-01-26T13:43:49.140315Z",
     "iopub.status.idle": "2021-01-26T13:43:49.149657Z",
     "shell.execute_reply": "2021-01-26T13:43:49.149140Z"
    },
    "papermill": {
     "duration": 0.033286,
     "end_time": "2021-01-26T13:43:49.149773",
     "exception": false,
     "start_time": "2021-01-26T13:43:49.116487",
     "status": "completed"
    },
    "tags": []
   },
   "outputs": [],
   "source": [
    "#hide\n",
    "dt_cols = list(dft_cases.columns[1:])\n",
    "dft_ct_new_cases = dft_cases.groupby('state')[dt_cols].sum().diff(axis=1).fillna(0).astype(int)\n",
    "dft_ct_new_cases.sort_values(by = dates[-1], ascending = False,inplace = True)"
   ]
  },
  {
   "cell_type": "code",
   "execution_count": 18,
   "id": "designed-constant",
   "metadata": {
    "execution": {
     "iopub.execute_input": "2021-01-26T13:43:49.197952Z",
     "iopub.status.busy": "2021-01-26T13:43:49.197370Z",
     "iopub.status.idle": "2021-01-26T13:43:49.208130Z",
     "shell.execute_reply": "2021-01-26T13:43:49.207669Z"
    },
    "papermill": {
     "duration": 0.041944,
     "end_time": "2021-01-26T13:43:49.208242",
     "exception": false,
     "start_time": "2021-01-26T13:43:49.166298",
     "status": "completed"
    },
    "tags": []
   },
   "outputs": [
    {
     "data": {
      "text/html": [
       "<div>\n",
       "<style scoped>\n",
       "    .dataframe tbody tr th:only-of-type {\n",
       "        vertical-align: middle;\n",
       "    }\n",
       "\n",
       "    .dataframe tbody tr th {\n",
       "        vertical-align: top;\n",
       "    }\n",
       "\n",
       "    .dataframe thead th {\n",
       "        text-align: right;\n",
       "    }\n",
       "</style>\n",
       "<table border=\"1\" class=\"dataframe\">\n",
       "  <thead>\n",
       "    <tr style=\"text-align: right;\">\n",
       "      <th>states</th>\n",
       "      <th>2020-07-01</th>\n",
       "      <th>2020-07-02</th>\n",
       "      <th>2020-07-03</th>\n",
       "      <th>2020-07-04</th>\n",
       "      <th>2020-07-05</th>\n",
       "      <th>2020-07-06</th>\n",
       "      <th>2020-07-07</th>\n",
       "      <th>2020-07-08</th>\n",
       "      <th>2020-07-09</th>\n",
       "      <th>2020-07-10</th>\n",
       "      <th>...</th>\n",
       "      <th>2021-01-17</th>\n",
       "      <th>2021-01-18</th>\n",
       "      <th>2021-01-19</th>\n",
       "      <th>2021-01-20</th>\n",
       "      <th>2021-01-21</th>\n",
       "      <th>2021-01-22</th>\n",
       "      <th>2021-01-23</th>\n",
       "      <th>2021-01-24</th>\n",
       "      <th>2021-01-25</th>\n",
       "      <th>2021-01-26</th>\n",
       "    </tr>\n",
       "    <tr>\n",
       "      <th>state</th>\n",
       "      <th></th>\n",
       "      <th></th>\n",
       "      <th></th>\n",
       "      <th></th>\n",
       "      <th></th>\n",
       "      <th></th>\n",
       "      <th></th>\n",
       "      <th></th>\n",
       "      <th></th>\n",
       "      <th></th>\n",
       "      <th></th>\n",
       "      <th></th>\n",
       "      <th></th>\n",
       "      <th></th>\n",
       "      <th></th>\n",
       "      <th></th>\n",
       "      <th></th>\n",
       "      <th></th>\n",
       "      <th></th>\n",
       "      <th></th>\n",
       "      <th></th>\n",
       "    </tr>\n",
       "  </thead>\n",
       "  <tbody>\n",
       "    <tr>\n",
       "      <th>Telangana</th>\n",
       "      <td>0</td>\n",
       "      <td>1213</td>\n",
       "      <td>1892</td>\n",
       "      <td>1850</td>\n",
       "      <td>1590</td>\n",
       "      <td>1831</td>\n",
       "      <td>1879</td>\n",
       "      <td>1924</td>\n",
       "      <td>1410</td>\n",
       "      <td>1278</td>\n",
       "      <td>...</td>\n",
       "      <td>299</td>\n",
       "      <td>206</td>\n",
       "      <td>256</td>\n",
       "      <td>267</td>\n",
       "      <td>226</td>\n",
       "      <td>214</td>\n",
       "      <td>221</td>\n",
       "      <td>197</td>\n",
       "      <td>148</td>\n",
       "      <td>189</td>\n",
       "    </tr>\n",
       "    <tr>\n",
       "      <th>Delhi</th>\n",
       "      <td>0</td>\n",
       "      <td>2373</td>\n",
       "      <td>2520</td>\n",
       "      <td>2505</td>\n",
       "      <td>2244</td>\n",
       "      <td>1379</td>\n",
       "      <td>2008</td>\n",
       "      <td>2033</td>\n",
       "      <td>2187</td>\n",
       "      <td>2089</td>\n",
       "      <td>...</td>\n",
       "      <td>246</td>\n",
       "      <td>161</td>\n",
       "      <td>231</td>\n",
       "      <td>228</td>\n",
       "      <td>227</td>\n",
       "      <td>266</td>\n",
       "      <td>197</td>\n",
       "      <td>185</td>\n",
       "      <td>148</td>\n",
       "      <td>157</td>\n",
       "    </tr>\n",
       "    <tr>\n",
       "      <th>Odisha</th>\n",
       "      <td>0</td>\n",
       "      <td>229</td>\n",
       "      <td>561</td>\n",
       "      <td>495</td>\n",
       "      <td>469</td>\n",
       "      <td>456</td>\n",
       "      <td>571</td>\n",
       "      <td>527</td>\n",
       "      <td>577</td>\n",
       "      <td>755</td>\n",
       "      <td>...</td>\n",
       "      <td>183</td>\n",
       "      <td>134</td>\n",
       "      <td>122</td>\n",
       "      <td>157</td>\n",
       "      <td>143</td>\n",
       "      <td>154</td>\n",
       "      <td>130</td>\n",
       "      <td>150</td>\n",
       "      <td>130</td>\n",
       "      <td>99</td>\n",
       "    </tr>\n",
       "    <tr>\n",
       "      <th>Goa</th>\n",
       "      <td>0</td>\n",
       "      <td>95</td>\n",
       "      <td>94</td>\n",
       "      <td>108</td>\n",
       "      <td>77</td>\n",
       "      <td>52</td>\n",
       "      <td>90</td>\n",
       "      <td>136</td>\n",
       "      <td>112</td>\n",
       "      <td>100</td>\n",
       "      <td>...</td>\n",
       "      <td>60</td>\n",
       "      <td>53</td>\n",
       "      <td>112</td>\n",
       "      <td>87</td>\n",
       "      <td>55</td>\n",
       "      <td>70</td>\n",
       "      <td>85</td>\n",
       "      <td>53</td>\n",
       "      <td>57</td>\n",
       "      <td>70</td>\n",
       "    </tr>\n",
       "    <tr>\n",
       "      <th>Manipur</th>\n",
       "      <td>0</td>\n",
       "      <td>19</td>\n",
       "      <td>37</td>\n",
       "      <td>9</td>\n",
       "      <td>41</td>\n",
       "      <td>24</td>\n",
       "      <td>40</td>\n",
       "      <td>5</td>\n",
       "      <td>15</td>\n",
       "      <td>132</td>\n",
       "      <td>...</td>\n",
       "      <td>21</td>\n",
       "      <td>11</td>\n",
       "      <td>33</td>\n",
       "      <td>19</td>\n",
       "      <td>19</td>\n",
       "      <td>15</td>\n",
       "      <td>17</td>\n",
       "      <td>16</td>\n",
       "      <td>11</td>\n",
       "      <td>6</td>\n",
       "    </tr>\n",
       "  </tbody>\n",
       "</table>\n",
       "<p>5 rows × 210 columns</p>\n",
       "</div>"
      ],
      "text/plain": [
       "states     2020-07-01  2020-07-02  2020-07-03  2020-07-04  2020-07-05  \\\n",
       "state                                                                   \n",
       "Telangana           0        1213        1892        1850        1590   \n",
       "Delhi               0        2373        2520        2505        2244   \n",
       "Odisha              0         229         561         495         469   \n",
       "Goa                 0          95          94         108          77   \n",
       "Manipur             0          19          37           9          41   \n",
       "\n",
       "states     2020-07-06  2020-07-07  2020-07-08  2020-07-09  2020-07-10  ...  \\\n",
       "state                                                                  ...   \n",
       "Telangana        1831        1879        1924        1410        1278  ...   \n",
       "Delhi            1379        2008        2033        2187        2089  ...   \n",
       "Odisha            456         571         527         577         755  ...   \n",
       "Goa                52          90         136         112         100  ...   \n",
       "Manipur            24          40           5          15         132  ...   \n",
       "\n",
       "states     2021-01-17  2021-01-18  2021-01-19  2021-01-20  2021-01-21  \\\n",
       "state                                                                   \n",
       "Telangana         299         206         256         267         226   \n",
       "Delhi             246         161         231         228         227   \n",
       "Odisha            183         134         122         157         143   \n",
       "Goa                60          53         112          87          55   \n",
       "Manipur            21          11          33          19          19   \n",
       "\n",
       "states     2021-01-22  2021-01-23  2021-01-24  2021-01-25  2021-01-26  \n",
       "state                                                                  \n",
       "Telangana         214         221         197         148         189  \n",
       "Delhi             266         197         185         148         157  \n",
       "Odisha            154         130         150         130          99  \n",
       "Goa                70          85          53          57          70  \n",
       "Manipur            15          17          16          11           6  \n",
       "\n",
       "[5 rows x 210 columns]"
      ]
     },
     "execution_count": 18,
     "metadata": {},
     "output_type": "execute_result"
    }
   ],
   "source": [
    "#hide\n",
    "dft_ct_new_cases.head()"
   ]
  },
  {
   "cell_type": "code",
   "execution_count": 19,
   "id": "responsible-nightlife",
   "metadata": {
    "execution": {
     "iopub.execute_input": "2021-01-26T13:43:49.246847Z",
     "iopub.status.busy": "2021-01-26T13:43:49.245886Z",
     "iopub.status.idle": "2021-01-26T13:43:57.590360Z",
     "shell.execute_reply": "2021-01-26T13:43:57.589900Z"
    },
    "papermill": {
     "duration": 8.363686,
     "end_time": "2021-01-26T13:43:57.590486",
     "exception": false,
     "start_time": "2021-01-26T13:43:49.226800",
     "status": "completed"
    },
    "tags": []
   },
   "outputs": [
    {
     "data": {
      "image/png": "[encoded data removed]",
      "text/plain": [
       "<Figure size 1296x2016 with 11 Axes>"
      ]
     },
     "metadata": {
      "needs_background": "light"
     },
     "output_type": "display_data"
    }
   ],
   "source": [
    "#hide_input\n",
    "df = dft_ct_new_cases.copy()\n",
    "df.loc['Total'] = df.sum()\n",
    "n = 5\n",
    "ax = []\n",
    "fig = plt.figure(figsize = (18,28))\n",
    "gs = fig.add_gridspec(n+2, 5)\n",
    "# gs = fig.add_gridspec(2, 3)\n",
    "ax1 = fig.add_subplot(gs[0, :])\n",
    "ef = df.loc['Total'].rename_axis('date').reset_index()\n",
    "ef['date'] = ef['date'].astype('datetime64[ns]')\n",
    "ax1.bar(ef.date,ef.Total,alpha=0.3,color='#007acc')\n",
    "ax1.plot(ef.date,ef.Total , marker=\"o\", color='#007acc')\n",
    "ax1.xaxis.set_major_locator(mdates.WeekdayLocator())\n",
    "ax1.xaxis.set_major_formatter(mdates.DateFormatter('%b %d'))\n",
    "ax1.text(0.02, 0.5,'India daily case count', transform = ax1.transAxes, fontsize=25);\n",
    "ax1.spines['right'].set_visible(False)\n",
    "ax1.spines['top'].set_visible(False)\n",
    "\n",
    "ax2 = fig.add_subplot(gs[1,0])\n",
    "ef = df.loc['Maharashtra'].rename_axis('date').reset_index()\n",
    "ef['date'] = ef['date'].astype('datetime64[ns]')\n",
    "\n",
    "ax2.bar(ef.date, ef.Maharashtra,color = '#007acc',alpha=0.5)\n",
    "ax2.xaxis.set_major_locator(mdates.WeekdayLocator())\n",
    "ax2.xaxis.set_major_formatter(mdates.DateFormatter('%b %d'))\n",
    "ax2.set_xticks(ax2.get_xticks()[::3])\n",
    "maxyval = ef.Maharashtra.max()\n",
    "ax2.set_ylim([0,maxyval])\n",
    "ax2.text(0.05, 0.9,'Maharashtra', transform = ax2.transAxes, fontsize=20);\n",
    "ax2.spines['right'].set_visible(False)\n",
    "ax2.spines['top'].set_visible(False)\n",
    "\n",
    "\n",
    "ax3 = fig.add_subplot(gs[1,1])\n",
    "ef = df.loc['Tamil Nadu'].rename_axis('date').reset_index()\n",
    "ef['date'] = ef['date'].astype('datetime64[ns]')\n",
    "ax3.bar(ef.date, ef['Tamil Nadu'],color = '#007acc',alpha=0.5,)\n",
    "ax3.xaxis.set_major_locator(mdates.WeekdayLocator())\n",
    "ax3.xaxis.set_major_formatter(mdates.DateFormatter('%b %d'))\n",
    "ax3.set_xticks(ax3.get_xticks()[::3])\n",
    "ax3.text(0.05, 0.9,'Tamil Nadu', transform = ax3.transAxes, fontsize=20);\n",
    "ax3.spines['right'].set_visible(False)\n",
    "ax3.spines['top'].set_visible(False)\n",
    "\n",
    "ax5 = fig.add_subplot(gs[1,3])\n",
    "ef = df.loc['Telangana'].rename_axis('date').reset_index()\n",
    "ef['date'] = ef['date'].astype('datetime64[ns]')\n",
    "ax5.bar(ef.date, ef['Telangana'],color = '#007acc',alpha=0.5,)\n",
    "ax5.xaxis.set_major_locator(mdates.WeekdayLocator())\n",
    "ax5.xaxis.set_major_formatter(mdates.DateFormatter('%b %d'))\n",
    "ax5.set_xticks(ax5.get_xticks()[::3])\n",
    "ax5.text(0.05, 0.9,'Telangana', transform = ax5.transAxes, fontsize=20);\n",
    "ax5.spines['right'].set_visible(False)\n",
    "ax5.spines['top'].set_visible(False)\n",
    "\n",
    "ax6 = fig.add_subplot(gs[1,4])\n",
    "ef = df.loc['Andhra Pradesh'].rename_axis('date').reset_index()\n",
    "ef['date'] = ef['date'].astype('datetime64[ns]')\n",
    "ax6.bar(ef.date, ef['Andhra Pradesh'],color = '#007acc',alpha=0.5,)\n",
    "ax6.xaxis.set_major_locator(mdates.WeekdayLocator())\n",
    "ax6.xaxis.set_major_formatter(mdates.DateFormatter('%b %d'))\n",
    "ax6.set_xticks(ax6.get_xticks()[::3])\n",
    "ax6.text(0.05, 1,'Andhra Pradesh', transform = ax6.transAxes, fontsize=20);\n",
    "ax6.spines['right'].set_visible(False)\n",
    "ax6.spines['top'].set_visible(False)\n",
    "\n",
    "ax4 = fig.add_subplot(gs[1,2])\n",
    "ef = df.loc['Delhi'].rename_axis('date').reset_index()\n",
    "ef['date'] = ef['date'].astype('datetime64[ns]')\n",
    "ax4.bar(ef.date, ef.Delhi,color = '#007acc',alpha=0.5)\n",
    "ax4.set_xticks([])\n",
    "ax4.xaxis.set_major_locator(mdates.WeekdayLocator())\n",
    "ax4.xaxis.set_major_formatter(mdates.DateFormatter('%b %d'))\n",
    "ax4.set_xticks(ax4.get_xticks()[::3])\n",
    "ax4.spines['right'].set_visible(False)\n",
    "ax4.spines['top'].set_visible(False)\n",
    "\n",
    "ax4.text(0.05, 1,'Delhi', transform = ax4.transAxes, fontsize=20)\n",
    "\n",
    "for i in range(n):\n",
    "    \n",
    "    ax.append(fig.add_subplot(gs[i+2,:]))\n",
    "    ef = df.iloc[i+3].rename_axis('date').reset_index()\n",
    "    ef['date'] = ef['date'].astype('datetime64[ns]')\n",
    "    ax[i].bar(ef.date,ef.iloc[:,-1],color = '#007acc',alpha=0.3)\n",
    "    ax[i].plot(ef.date,ef.iloc[:,-1],marker='o',color='#007acc')\n",
    "    ax[i].text(0.02,0.5,f'{ef.columns.values[-1]}',transform = ax[i].transAxes, fontsize = 20);\n",
    "    ax[i].xaxis.set_major_locator(mdates.WeekdayLocator())\n",
    "    ax[i].xaxis.set_major_formatter(mdates.DateFormatter('%b %d'))\n",
    "    ax[i].set_ylim([0,7000])\n",
    "    ax[i].spines['right'].set_visible(False)\n",
    "    ax[i].spines['top'].set_visible(False)\n",
    "plt.tight_layout()\n"
   ]
  },
  {
   "cell_type": "code",
   "execution_count": 20,
   "id": "dress-forge",
   "metadata": {
    "execution": {
     "iopub.execute_input": "2021-01-26T13:43:57.641849Z",
     "iopub.status.busy": "2021-01-26T13:43:57.641027Z",
     "iopub.status.idle": "2021-01-26T13:43:57.643455Z",
     "shell.execute_reply": "2021-01-26T13:43:57.643886Z"
    },
    "papermill": {
     "duration": 0.032695,
     "end_time": "2021-01-26T13:43:57.644010",
     "exception": false,
     "start_time": "2021-01-26T13:43:57.611315",
     "status": "completed"
    },
    "tags": []
   },
   "outputs": [
    {
     "name": "stdout",
     "output_type": "stream",
     "text": [
      "                                   states    Cases  Deaths   PCases  PDeaths  Cases (+)  Deaths (+)  Fatality Rate\n",
      "                              Maharashtra  2010948   50815  2010948    50815          0           0           2.53\n",
      "                                Karnataka   936426   12200   936426    12200          0           0           1.30\n",
      "                                   Kerala   893640    3625   893640     3625          0           0           0.41\n",
      "                           Andhra Pradesh   887066    7149   887066     7149          0           0           0.81\n",
      "                               Tamil Nadu   835280   12320   835280    12320          0           0           1.47\n",
      "                                    Delhi   634229   10820   634072    10813        157           7           1.71\n",
      "                            Uttar Pradesh   598907    8624   598907     8624          0           0           1.44\n",
      "                              West Bengal   568355   10122   568355    10122          0           0           1.78\n",
      "                                   Odisha   334529    1959   334430     1959         99           0           0.59\n",
      "                                Rajasthan   316845    2760   316845     2760          0           0           0.87\n",
      "                             Chhattisgarh   297108    3630   297108     3630          0           0           1.22\n",
      "                                Telangana   293590    1592   293401     1590        189           2           0.54\n",
      "                                  Haryana   267321    3014   267321     3014          0           0           1.13\n",
      "                                    Bihar   259979    1483   259979     1483          0           0           0.57\n",
      "                                  Gujarat   259487    4379   259487     4379          0           0           1.69\n",
      "                           Madhya Pradesh   253857    3791   253857     3791          0           0           1.49\n",
      "                                    Assam   217017    1078   217017     1078          0           0           0.50\n",
      "                                   Punjab   172089    5560   172089     5560          0           0           3.23\n",
      "                        Jammu and Kashmir   124083    1929   124083     1929          0           0           1.55\n",
      "                                Jharkhand   118360    1064   118360     1064          0           0           0.90\n",
      "                              Uttarakhand    95702    1635    95702     1635          0           0           1.71\n",
      "                         Himachal Pradesh    57245     961    57245      961          0           0           1.68\n",
      "                                      Goa    53047     763    52977      762         70           1           1.44\n",
      "                               Puducherry    38878     645    38878      645          0           0           1.66\n",
      "                                  Tripura    33343     388    33342      388          1           0           1.16\n",
      "                                  Manipur    29003     369    28997      369          6           0           1.27\n",
      "                               Chandigarh    20749     334    20749      334          0           0           1.61\n",
      "                        Arunachal Pradesh    16820      56    16820       56          0           0           0.33\n",
      "                                Meghalaya    13740     146    13734      146          6           0           1.06\n",
      "                                 Nagaland    12081      88    12079       88          2           0           0.73\n",
      "                                   Ladakh     9687     129     9687      129          0           0           1.33\n",
      "                                   Sikkim     6072     133     6072      133          0           0           2.19\n",
      "              Andaman and Nicobar Islands     4994      62     4994       62          0           0           1.24\n",
      "                                  Mizoram     4356       9     4351        9          5           0           0.21\n",
      " Dadra and Nagar Haveli and Daman and Diu     3377       2     3377        2          0           0           0.06\n",
      "                              Lakshadweep       67       0       67        0          0           0           0.00\n"
     ]
    }
   ],
   "source": [
    "#hide_input\n",
    "print(df_table.to_string(index=False))"
   ]
  },
  {
   "cell_type": "code",
   "execution_count": null,
   "id": "quantitative-legend",
   "metadata": {
    "papermill": {
     "duration": 0.021976,
     "end_time": "2021-01-26T13:43:57.727808",
     "exception": false,
     "start_time": "2021-01-26T13:43:57.705832",
     "status": "completed"
    },
    "tags": []
   },
   "outputs": [],
   "source": []
  },
  {
   "cell_type": "code",
   "execution_count": null,
   "id": "distant-acoustic",
   "metadata": {
    "papermill": {
     "duration": 0.023335,
     "end_time": "2021-01-26T13:43:57.773898",
     "exception": false,
     "start_time": "2021-01-26T13:43:57.750563",
     "status": "completed"
    },
    "tags": []
   },
   "outputs": [],
   "source": []
  }
 ],
 "metadata": {
  "kernelspec": {
   "display_name": "Python 3",
   "language": "python",
   "name": "python3"
  },
  "language_info": {
   "codemirror_mode": {
    "name": "ipython",
    "version": 3
   },
   "file_extension": ".py",
   "mimetype": "text/x-python",
   "name": "python",
   "nbconvert_exporter": "python",
   "pygments_lexer": "ipython3",
   "version": "3.6.12"
  },
  "papermill": {
   "duration": 18.823097,
   "end_time": "2021-01-26T13:43:58.309037",
   "environment_variables": {},
   "exception": null,
   "input_path": "latest.ipynb",
   "output_path": "latest.ipynb",
   "parameters": {},
   "start_time": "2021-01-26T13:43:39.485940",
   "version": "2.1.2"
  }
 },
 "nbformat": 4,
 "nbformat_minor": 5
}