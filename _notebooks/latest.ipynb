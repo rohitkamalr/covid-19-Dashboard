{
 "cells": [
  {
   "cell_type": "markdown",
   "metadata": {
    "papermill": {
     "duration": 0.016983,
     "end_time": "2020-11-14T07:18:18.709263",
     "exception": false,
     "start_time": "2020-11-14T07:18:18.692280",
     "status": "completed"
    },
    "tags": []
   },
   "source": [
    "# Latest COVID-19 India Matplotlib Overview"
   ]
  },
  {
   "cell_type": "code",
   "execution_count": 1,
   "metadata": {
    "execution": {
     "iopub.execute_input": "2020-11-14T07:18:18.746394Z",
     "iopub.status.busy": "2020-11-14T07:18:18.745801Z",
     "iopub.status.idle": "2020-11-14T07:18:19.301921Z",
     "shell.execute_reply": "2020-11-14T07:18:19.300812Z"
    },
    "papermill": {
     "duration": 0.577592,
     "end_time": "2020-11-14T07:18:19.302092",
     "exception": false,
     "start_time": "2020-11-14T07:18:18.724500",
     "status": "completed"
    },
    "tags": []
   },
   "outputs": [],
   "source": [
    "#hide\n",
    "import pandas as pd\n",
    "import numpy as np\n",
    "import requests\n",
    "import json\n",
    "import matplotlib.pyplot as plt\n",
    "import matplotlib.dates as mdates\n",
    "import matplotlib as mpl\n",
    "from IPython.core.display import display,HTML\n",
    "%matplotlib inline\n",
    "from datetime import date"
   ]
  },
  {
   "cell_type": "code",
   "execution_count": 2,
   "metadata": {
    "execution": {
     "iopub.execute_input": "2020-11-14T07:18:19.334579Z",
     "iopub.status.busy": "2020-11-14T07:18:19.333916Z",
     "iopub.status.idle": "2020-11-14T07:18:19.486528Z",
     "shell.execute_reply": "2020-11-14T07:18:19.485882Z"
    },
    "papermill": {
     "duration": 0.17209,
     "end_time": "2020-11-14T07:18:19.486698",
     "exception": false,
     "start_time": "2020-11-14T07:18:19.314608",
     "status": "completed"
    },
    "tags": []
   },
   "outputs": [],
   "source": [
    "#hide\n",
    "df  = pd.read_csv('https://api.covid19india.org/csv/latest/states.csv')\n",
    "df = df[['Date','State','Confirmed','Deceased']]\n",
    "df = df.rename(columns={'Confirmed':'Cases', \"Deceased\":'Deaths'})\n",
    "df_cases = df[[\"Date\",'State','Cases']]\n",
    "df_deaths = df[['Date','State','Deaths']]\n",
    "df_cases1 = df_cases.groupby('Date')\n",
    "df_deaths1= df_deaths.groupby('Date')"
   ]
  },
  {
   "cell_type": "code",
   "execution_count": 3,
   "metadata": {
    "execution": {
     "iopub.execute_input": "2020-11-14T07:18:19.522844Z",
     "iopub.status.busy": "2020-11-14T07:18:19.522262Z",
     "iopub.status.idle": "2020-11-14T07:18:19.539014Z",
     "shell.execute_reply": "2020-11-14T07:18:19.538517Z"
    },
    "papermill": {
     "duration": 0.036957,
     "end_time": "2020-11-14T07:18:19.539135",
     "exception": false,
     "start_time": "2020-11-14T07:18:19.502178",
     "status": "completed"
    },
    "tags": []
   },
   "outputs": [],
   "source": [
    "#hide\n",
    "df_snap = pd.read_csv('data/SnapshotCases-28-July.csv')\n",
    "arr_states = df_snap['states'].unique()\n",
    "arr_dates = df['Date'].unique()\n",
    "df_snap = df_snap.set_index('states')"
   ]
  },
  {
   "cell_type": "code",
   "execution_count": 4,
   "metadata": {
    "execution": {
     "iopub.execute_input": "2020-11-14T07:18:19.575250Z",
     "iopub.status.busy": "2020-11-14T07:18:19.574711Z",
     "iopub.status.idle": "2020-11-14T07:18:19.580492Z",
     "shell.execute_reply": "2020-11-14T07:18:19.580038Z"
    },
    "papermill": {
     "duration": 0.027005,
     "end_time": "2020-11-14T07:18:19.580607",
     "exception": false,
     "start_time": "2020-11-14T07:18:19.553602",
     "status": "completed"
    },
    "tags": []
   },
   "outputs": [
    {
     "data": {
      "text/plain": [
       "array(['Andaman and Nicobar Islands', 'Andhra Pradesh',\n",
       "       'Arunachal Pradesh', 'Assam', 'Bihar', 'Chandigarh',\n",
       "       'Dadra and Nagar Haveli and Daman and Diu', 'Delhi', 'Goa',\n",
       "       'Gujarat', 'Haryana', 'Himachal Pradesh', 'Jammu and Kashmir',\n",
       "       'Jharkhand', 'Karnataka', 'Kerala', 'Lakshadweep',\n",
       "       'Madhya Pradesh', 'Maharashtra', 'Manipur', 'Meghalaya', 'Mizoram',\n",
       "       'Nagaland', 'Odisha', 'Puducherry', 'Punjab', 'Rajasthan',\n",
       "       'Sikkim', 'Tamil Nadu', 'Telangana', 'Tripura', 'Uttar Pradesh',\n",
       "       'West Bengal', 'Chhattisgarh', 'Ladakh', 'Uttarakhand'],\n",
       "      dtype=object)"
      ]
     },
     "execution_count": 4,
     "metadata": {},
     "output_type": "execute_result"
    }
   ],
   "source": [
    "#hide\n",
    "arr_states[-9] = 'Puducherry'\n",
    "arr_states[-10] = 'Odisha'\n",
    "arr_states[6] = 'Dadra and Nagar Haveli and Daman and Diu'\n",
    "arr_states = np.append(arr_states,np.array(['Chhattisgarh','Ladakh','Uttarakhand']))\n",
    "arr_states"
   ]
  },
  {
   "cell_type": "code",
   "execution_count": 5,
   "metadata": {
    "execution": {
     "iopub.execute_input": "2020-11-14T07:18:19.620917Z",
     "iopub.status.busy": "2020-11-14T07:18:19.620333Z",
     "iopub.status.idle": "2020-11-14T07:18:19.630237Z",
     "shell.execute_reply": "2020-11-14T07:18:19.628592Z"
    },
    "papermill": {
     "duration": 0.035408,
     "end_time": "2020-11-14T07:18:19.630375",
     "exception": false,
     "start_time": "2020-11-14T07:18:19.594967",
     "status": "completed"
    },
    "tags": []
   },
   "outputs": [],
   "source": [
    "#hide\n",
    "dates = []\n",
    "for i in arr_dates:\n",
    "    if i>='2020-07-01':\n",
    "        dates.append(i)\n",
    "dict = {'states':dates}\n",
    "for i in arr_states:\n",
    "    dict[i] = [0]*len(dates)\n",
    "dft_cases = pd.DataFrame(dict)\n",
    "dft_deaths = pd.DataFrame(dict)\n"
   ]
  },
  {
   "cell_type": "code",
   "execution_count": 6,
   "metadata": {
    "execution": {
     "iopub.execute_input": "2020-11-14T07:18:19.667162Z",
     "iopub.status.busy": "2020-11-14T07:18:19.666586Z",
     "iopub.status.idle": "2020-11-14T07:18:21.408482Z",
     "shell.execute_reply": "2020-11-14T07:18:21.407998Z"
    },
    "papermill": {
     "duration": 1.762706,
     "end_time": "2020-11-14T07:18:21.408617",
     "exception": false,
     "start_time": "2020-11-14T07:18:19.645911",
     "status": "completed"
    },
    "tags": []
   },
   "outputs": [],
   "source": [
    "#hide\n",
    "for i in range(len(dates)):\n",
    "    df1_deaths = df_deaths1.get_group(dates[i])\n",
    "    for j in range(len(df1_deaths.index)):\n",
    "        if df1_deaths.iloc[j,1] in arr_states:\n",
    "            dft_deaths.loc[i,df1_deaths.iloc[j,1]] = df1_deaths.iloc[j,2]\n",
    "dft_deaths = dft_deaths.set_index('states')"
   ]
  },
  {
   "cell_type": "code",
   "execution_count": 7,
   "metadata": {
    "execution": {
     "iopub.execute_input": "2020-11-14T07:18:21.446789Z",
     "iopub.status.busy": "2020-11-14T07:18:21.446200Z",
     "iopub.status.idle": "2020-11-14T07:18:23.183591Z",
     "shell.execute_reply": "2020-11-14T07:18:23.183102Z"
    },
    "papermill": {
     "duration": 1.76005,
     "end_time": "2020-11-14T07:18:23.183732",
     "exception": false,
     "start_time": "2020-11-14T07:18:21.423682",
     "status": "completed"
    },
    "tags": []
   },
   "outputs": [],
   "source": [
    "#hide\n",
    "for i in range(len(dates)):\n",
    "    df1_cases = df_cases1.get_group(dates[i])\n",
    "    for j in range(len(df1_cases.index)):\n",
    "        if df1_cases.iloc[j,1] in arr_states:\n",
    "            dft_cases.loc[i,df1_cases.iloc[j,1]] = df1_cases.iloc[j,2]\n",
    "dft_cases = dft_cases.set_index('states')"
   ]
  },
  {
   "cell_type": "code",
   "execution_count": 8,
   "metadata": {
    "execution": {
     "iopub.execute_input": "2020-11-14T07:18:23.220975Z",
     "iopub.status.busy": "2020-11-14T07:18:23.220447Z",
     "iopub.status.idle": "2020-11-14T07:18:23.224590Z",
     "shell.execute_reply": "2020-11-14T07:18:23.224105Z"
    },
    "papermill": {
     "duration": 0.026188,
     "end_time": "2020-11-14T07:18:23.224709",
     "exception": false,
     "start_time": "2020-11-14T07:18:23.198521",
     "status": "completed"
    },
    "tags": []
   },
   "outputs": [],
   "source": [
    "#hide\n",
    "dft_cases = dft_cases.T\n",
    "dft_deaths = dft_deaths.T\n",
    "dt_today = dates[-1]\n",
    "dt_yday = dates[-2]"
   ]
  },
  {
   "cell_type": "code",
   "execution_count": 9,
   "metadata": {
    "execution": {
     "iopub.execute_input": "2020-11-14T07:18:23.262998Z",
     "iopub.status.busy": "2020-11-14T07:18:23.262417Z",
     "iopub.status.idle": "2020-11-14T07:18:23.265822Z",
     "shell.execute_reply": "2020-11-14T07:18:23.266265Z"
    },
    "papermill": {
     "duration": 0.0278,
     "end_time": "2020-11-14T07:18:23.266402",
     "exception": false,
     "start_time": "2020-11-14T07:18:23.238602",
     "status": "completed"
    },
    "tags": []
   },
   "outputs": [],
   "source": [
    "#hide\n",
    "dft_cases = dft_cases.reset_index()\n",
    "dft_deaths = dft_deaths.reset_index()\n",
    "dft_cases = dft_cases.rename(columns = {'index':'state'})\n",
    "dft_deaths = dft_deaths.rename(columns = {'index':'state'})"
   ]
  },
  {
   "cell_type": "code",
   "execution_count": 10,
   "metadata": {
    "execution": {
     "iopub.execute_input": "2020-11-14T07:18:23.307041Z",
     "iopub.status.busy": "2020-11-14T07:18:23.306448Z",
     "iopub.status.idle": "2020-11-14T07:18:23.308603Z",
     "shell.execute_reply": "2020-11-14T07:18:23.308150Z"
    },
    "papermill": {
     "duration": 0.027429,
     "end_time": "2020-11-14T07:18:23.308718",
     "exception": false,
     "start_time": "2020-11-14T07:18:23.281289",
     "status": "completed"
    },
    "tags": []
   },
   "outputs": [],
   "source": [
    "#hide\n",
    "dfc_cases = dft_cases.groupby('state')[dt_today].sum()\n",
    "dfc_deaths = dft_deaths.groupby('state')[dt_today].sum()\n",
    "dfp_cases = dft_cases.groupby('state')[dt_yday].sum()\n",
    "dfp_deaths = dft_deaths.groupby('state')[dt_yday].sum()"
   ]
  },
  {
   "cell_type": "code",
   "execution_count": 11,
   "metadata": {
    "execution": {
     "iopub.execute_input": "2020-11-14T07:18:23.346422Z",
     "iopub.status.busy": "2020-11-14T07:18:23.345945Z",
     "iopub.status.idle": "2020-11-14T07:18:23.357592Z",
     "shell.execute_reply": "2020-11-14T07:18:23.357103Z"
    },
    "papermill": {
     "duration": 0.034332,
     "end_time": "2020-11-14T07:18:23.357714",
     "exception": false,
     "start_time": "2020-11-14T07:18:23.323382",
     "status": "completed"
    },
    "tags": []
   },
   "outputs": [
    {
     "data": {
      "text/html": [
       "<div>\n",
       "<style scoped>\n",
       "    .dataframe tbody tr th:only-of-type {\n",
       "        vertical-align: middle;\n",
       "    }\n",
       "\n",
       "    .dataframe tbody tr th {\n",
       "        vertical-align: top;\n",
       "    }\n",
       "\n",
       "    .dataframe thead th {\n",
       "        text-align: right;\n",
       "    }\n",
       "</style>\n",
       "<table border=\"1\" class=\"dataframe\">\n",
       "  <thead>\n",
       "    <tr style=\"text-align: right;\">\n",
       "      <th></th>\n",
       "      <th>states</th>\n",
       "      <th>Cases</th>\n",
       "      <th>Deaths</th>\n",
       "      <th>PCases</th>\n",
       "      <th>PDeaths</th>\n",
       "    </tr>\n",
       "  </thead>\n",
       "  <tbody>\n",
       "    <tr>\n",
       "      <th>0</th>\n",
       "      <td>Maharashtra</td>\n",
       "      <td>1740461</td>\n",
       "      <td>45809</td>\n",
       "      <td>1740461</td>\n",
       "      <td>45809</td>\n",
       "    </tr>\n",
       "    <tr>\n",
       "      <th>1</th>\n",
       "      <td>Karnataka</td>\n",
       "      <td>857928</td>\n",
       "      <td>11491</td>\n",
       "      <td>857928</td>\n",
       "      <td>11491</td>\n",
       "    </tr>\n",
       "    <tr>\n",
       "      <th>2</th>\n",
       "      <td>Andhra Pradesh</td>\n",
       "      <td>851298</td>\n",
       "      <td>6847</td>\n",
       "      <td>851298</td>\n",
       "      <td>6847</td>\n",
       "    </tr>\n",
       "    <tr>\n",
       "      <th>3</th>\n",
       "      <td>Tamil Nadu</td>\n",
       "      <td>754460</td>\n",
       "      <td>11454</td>\n",
       "      <td>754460</td>\n",
       "      <td>11454</td>\n",
       "    </tr>\n",
       "    <tr>\n",
       "      <th>4</th>\n",
       "      <td>Kerala</td>\n",
       "      <td>514061</td>\n",
       "      <td>1822</td>\n",
       "      <td>514061</td>\n",
       "      <td>1822</td>\n",
       "    </tr>\n",
       "  </tbody>\n",
       "</table>\n",
       "</div>"
      ],
      "text/plain": [
       "           states    Cases  Deaths   PCases  PDeaths\n",
       "0     Maharashtra  1740461   45809  1740461    45809\n",
       "1       Karnataka   857928   11491   857928    11491\n",
       "2  Andhra Pradesh   851298    6847   851298     6847\n",
       "3      Tamil Nadu   754460   11454   754460    11454\n",
       "4          Kerala   514061    1822   514061     1822"
      ]
     },
     "execution_count": 11,
     "metadata": {},
     "output_type": "execute_result"
    }
   ],
   "source": [
    "#hide\n",
    "df_table = pd.DataFrame({'states': dfc_cases.index, 'Cases': dfc_cases.values, 'Deaths': dfc_deaths.values, 'PCases': dfp_cases.values, 'PDeaths': dfp_deaths.values}).set_index('states')\n",
    "df_table = df_table.sort_values(by = ['Cases','Deaths'], ascending = [False, False])\n",
    "df_table = df_table.reset_index()\n",
    "df_table.head()"
   ]
  },
  {
   "cell_type": "code",
   "execution_count": 12,
   "metadata": {
    "execution": {
     "iopub.execute_input": "2020-11-14T07:18:23.395101Z",
     "iopub.status.busy": "2020-11-14T07:18:23.394236Z",
     "iopub.status.idle": "2020-11-14T07:18:23.402861Z",
     "shell.execute_reply": "2020-11-14T07:18:23.402365Z"
    },
    "papermill": {
     "duration": 0.030899,
     "end_time": "2020-11-14T07:18:23.402977",
     "exception": false,
     "start_time": "2020-11-14T07:18:23.372078",
     "status": "completed"
    },
    "tags": []
   },
   "outputs": [],
   "source": [
    "#hide\n",
    "for c in 'Cases, Deaths'.split(', '):\n",
    "    df_table[f'{c} (+)'] = (df_table[c] - df_table[f'P{c}']).clip(0)\n",
    "df_table['Fatality Rate'] = (100* df_table['Deaths']/ df_table['Cases']).round(2)"
   ]
  },
  {
   "cell_type": "code",
   "execution_count": 13,
   "metadata": {
    "execution": {
     "iopub.execute_input": "2020-11-14T07:18:23.451134Z",
     "iopub.status.busy": "2020-11-14T07:18:23.450600Z",
     "iopub.status.idle": "2020-11-14T07:18:23.454404Z",
     "shell.execute_reply": "2020-11-14T07:18:23.453908Z"
    },
    "papermill": {
     "duration": 0.028225,
     "end_time": "2020-11-14T07:18:23.454520",
     "exception": false,
     "start_time": "2020-11-14T07:18:23.426295",
     "status": "completed"
    },
    "tags": []
   },
   "outputs": [
    {
     "data": {
      "text/html": [
       "<div>\n",
       "<style scoped>\n",
       "    .dataframe tbody tr th:only-of-type {\n",
       "        vertical-align: middle;\n",
       "    }\n",
       "\n",
       "    .dataframe tbody tr th {\n",
       "        vertical-align: top;\n",
       "    }\n",
       "\n",
       "    .dataframe thead th {\n",
       "        text-align: right;\n",
       "    }\n",
       "</style>\n",
       "<table border=\"1\" class=\"dataframe\">\n",
       "  <thead>\n",
       "    <tr style=\"text-align: right;\">\n",
       "      <th></th>\n",
       "      <th>states</th>\n",
       "      <th>Cases</th>\n",
       "      <th>Deaths</th>\n",
       "      <th>PCases</th>\n",
       "      <th>PDeaths</th>\n",
       "      <th>Cases (+)</th>\n",
       "      <th>Deaths (+)</th>\n",
       "      <th>Fatality Rate</th>\n",
       "    </tr>\n",
       "  </thead>\n",
       "  <tbody>\n",
       "    <tr>\n",
       "      <th>0</th>\n",
       "      <td>Maharashtra</td>\n",
       "      <td>1740461</td>\n",
       "      <td>45809</td>\n",
       "      <td>1740461</td>\n",
       "      <td>45809</td>\n",
       "      <td>0</td>\n",
       "      <td>0</td>\n",
       "      <td>2.63</td>\n",
       "    </tr>\n",
       "    <tr>\n",
       "      <th>1</th>\n",
       "      <td>Karnataka</td>\n",
       "      <td>857928</td>\n",
       "      <td>11491</td>\n",
       "      <td>857928</td>\n",
       "      <td>11491</td>\n",
       "      <td>0</td>\n",
       "      <td>0</td>\n",
       "      <td>1.34</td>\n",
       "    </tr>\n",
       "    <tr>\n",
       "      <th>2</th>\n",
       "      <td>Andhra Pradesh</td>\n",
       "      <td>851298</td>\n",
       "      <td>6847</td>\n",
       "      <td>851298</td>\n",
       "      <td>6847</td>\n",
       "      <td>0</td>\n",
       "      <td>0</td>\n",
       "      <td>0.80</td>\n",
       "    </tr>\n",
       "    <tr>\n",
       "      <th>3</th>\n",
       "      <td>Tamil Nadu</td>\n",
       "      <td>754460</td>\n",
       "      <td>11454</td>\n",
       "      <td>754460</td>\n",
       "      <td>11454</td>\n",
       "      <td>0</td>\n",
       "      <td>0</td>\n",
       "      <td>1.52</td>\n",
       "    </tr>\n",
       "    <tr>\n",
       "      <th>4</th>\n",
       "      <td>Kerala</td>\n",
       "      <td>514061</td>\n",
       "      <td>1822</td>\n",
       "      <td>514061</td>\n",
       "      <td>1822</td>\n",
       "      <td>0</td>\n",
       "      <td>0</td>\n",
       "      <td>0.35</td>\n",
       "    </tr>\n",
       "  </tbody>\n",
       "</table>\n",
       "</div>"
      ],
      "text/plain": [
       "           states    Cases  Deaths   PCases  PDeaths  Cases (+)  Deaths (+)  \\\n",
       "0     Maharashtra  1740461   45809  1740461    45809          0           0   \n",
       "1       Karnataka   857928   11491   857928    11491          0           0   \n",
       "2  Andhra Pradesh   851298    6847   851298     6847          0           0   \n",
       "3      Tamil Nadu   754460   11454   754460    11454          0           0   \n",
       "4          Kerala   514061    1822   514061     1822          0           0   \n",
       "\n",
       "   Fatality Rate  \n",
       "0           2.63  \n",
       "1           1.34  \n",
       "2           0.80  \n",
       "3           1.52  \n",
       "4           0.35  "
      ]
     },
     "execution_count": 13,
     "metadata": {},
     "output_type": "execute_result"
    }
   ],
   "source": [
    "#hide\n",
    "df_table.head()"
   ]
  },
  {
   "cell_type": "code",
   "execution_count": 14,
   "metadata": {
    "execution": {
     "iopub.execute_input": "2020-11-14T07:18:23.499734Z",
     "iopub.status.busy": "2020-11-14T07:18:23.487293Z",
     "iopub.status.idle": "2020-11-14T07:18:23.502775Z",
     "shell.execute_reply": "2020-11-14T07:18:23.502375Z"
    },
    "papermill": {
     "duration": 0.033454,
     "end_time": "2020-11-14T07:18:23.502875",
     "exception": false,
     "start_time": "2020-11-14T07:18:23.469421",
     "status": "completed"
    },
    "tags": []
   },
   "outputs": [
    {
     "data": {
      "text/plain": [
       "{'updated': '2020-11-14',\n",
       " 'since': '2020-11-13',\n",
       " 'Cases': 8773321,\n",
       " 'PCases': 8773243,\n",
       " 'Deaths': 129227,\n",
       " 'PDeaths': 129225,\n",
       " 'Cases (+)': 78,\n",
       " 'Deaths (+)': 2}"
      ]
     },
     "execution_count": 14,
     "metadata": {},
     "output_type": "execute_result"
    }
   ],
   "source": [
    "#hide\n",
    "summary = {'updated':dates[-1], 'since':dates[-2]}\n",
    "list_names = ['Cases', 'PCases', 'Deaths', 'PDeaths', 'Cases (+)', 'Deaths (+)']\n",
    "for name in list_names:\n",
    "    summary[name] = df_table.sum()[name]\n",
    "summary"
   ]
  },
  {
   "cell_type": "code",
   "execution_count": 15,
   "metadata": {
    "execution": {
     "iopub.execute_input": "2020-11-14T07:18:23.543174Z",
     "iopub.status.busy": "2020-11-14T07:18:23.542303Z",
     "iopub.status.idle": "2020-11-14T07:18:23.544488Z",
     "shell.execute_reply": "2020-11-14T07:18:23.543861Z"
    },
    "papermill": {
     "duration": 0.026118,
     "end_time": "2020-11-14T07:18:23.544642",
     "exception": false,
     "start_time": "2020-11-14T07:18:23.518524",
     "status": "completed"
    },
    "tags": []
   },
   "outputs": [],
   "source": [
    "#hide\n",
    "overview = '''\n",
    "<!-- #######  HTML!! #########-->\n",
    "<h1 style=\"color: #5e9ca0; text-align: center;\">India</h1>\n",
    "<p style=\"text-align: center;\">Last update: <strong>{update}</strong></p>\n",
    "<p style=\"text-align: center;\">Confirmed cases:</p>\n",
    "<p style=\"text-align: center;font-size:24px;\">{cases} (<span style=\"color: #ff0000;\">+{new}</span>)</p>\n",
    "<p style=\"text-align: center;\">Confirmed deaths:</p>\n",
    "<p style=\"text-align: center;font-size:24px;\">{deaths} (<span style=\"color: #ff0000;\">+{dnew}</span>)</p>\n",
    "'''"
   ]
  },
  {
   "cell_type": "code",
   "execution_count": 16,
   "metadata": {
    "execution": {
     "iopub.execute_input": "2020-11-14T07:18:23.586115Z",
     "iopub.status.busy": "2020-11-14T07:18:23.585065Z",
     "iopub.status.idle": "2020-11-14T07:18:23.587686Z",
     "shell.execute_reply": "2020-11-14T07:18:23.588117Z"
    },
    "papermill": {
     "duration": 0.028239,
     "end_time": "2020-11-14T07:18:23.588247",
     "exception": false,
     "start_time": "2020-11-14T07:18:23.560008",
     "status": "completed"
    },
    "tags": []
   },
   "outputs": [
    {
     "data": {
      "text/html": [
       "\n",
       "<!-- #######  HTML!! #########-->\n",
       "<h1 style=\"color: #5e9ca0; text-align: center;\">India</h1>\n",
       "<p style=\"text-align: center;\">Last update: <strong>2020-11-14</strong></p>\n",
       "<p style=\"text-align: center;\">Confirmed cases:</p>\n",
       "<p style=\"text-align: center;font-size:24px;\">8773321 (<span style=\"color: #ff0000;\">+78</span>)</p>\n",
       "<p style=\"text-align: center;\">Confirmed deaths:</p>\n",
       "<p style=\"text-align: center;font-size:24px;\">129227 (<span style=\"color: #ff0000;\">+2</span>)</p>\n"
      ],
      "text/plain": [
       "<IPython.core.display.HTML object>"
      ]
     },
     "metadata": {},
     "output_type": "display_data"
    }
   ],
   "source": [
    "#hide_input\n",
    "update = summary['updated']\n",
    "cases = summary['Cases']\n",
    "new = summary['Cases (+)']\n",
    "deaths = summary['Deaths']\n",
    "dnew = summary['Deaths (+)']\n",
    "\n",
    "html = HTML(overview.format(update=update, cases=cases,new=new,deaths=deaths,dnew=dnew))\n",
    "\n",
    "display(html)"
   ]
  },
  {
   "cell_type": "code",
   "execution_count": 17,
   "metadata": {
    "execution": {
     "iopub.execute_input": "2020-11-14T07:18:23.628907Z",
     "iopub.status.busy": "2020-11-14T07:18:23.627914Z",
     "iopub.status.idle": "2020-11-14T07:18:23.634542Z",
     "shell.execute_reply": "2020-11-14T07:18:23.634047Z"
    },
    "papermill": {
     "duration": 0.030425,
     "end_time": "2020-11-14T07:18:23.634664",
     "exception": false,
     "start_time": "2020-11-14T07:18:23.604239",
     "status": "completed"
    },
    "tags": []
   },
   "outputs": [],
   "source": [
    "#hide\n",
    "dt_cols = list(dft_cases.columns[1:])\n",
    "dft_ct_new_cases = dft_cases.groupby('state')[dt_cols].sum().diff(axis=1).fillna(0).astype(int)\n",
    "dft_ct_new_cases.sort_values(by = dates[-1], ascending = False,inplace = True)"
   ]
  },
  {
   "cell_type": "code",
   "execution_count": 18,
   "metadata": {
    "execution": {
     "iopub.execute_input": "2020-11-14T07:18:23.681855Z",
     "iopub.status.busy": "2020-11-14T07:18:23.681297Z",
     "iopub.status.idle": "2020-11-14T07:18:23.684960Z",
     "shell.execute_reply": "2020-11-14T07:18:23.684529Z"
    },
    "papermill": {
     "duration": 0.034316,
     "end_time": "2020-11-14T07:18:23.685079",
     "exception": false,
     "start_time": "2020-11-14T07:18:23.650763",
     "status": "completed"
    },
    "tags": []
   },
   "outputs": [
    {
     "data": {
      "text/html": [
       "<div>\n",
       "<style scoped>\n",
       "    .dataframe tbody tr th:only-of-type {\n",
       "        vertical-align: middle;\n",
       "    }\n",
       "\n",
       "    .dataframe tbody tr th {\n",
       "        vertical-align: top;\n",
       "    }\n",
       "\n",
       "    .dataframe thead th {\n",
       "        text-align: right;\n",
       "    }\n",
       "</style>\n",
       "<table border=\"1\" class=\"dataframe\">\n",
       "  <thead>\n",
       "    <tr style=\"text-align: right;\">\n",
       "      <th>states</th>\n",
       "      <th>2020-07-01</th>\n",
       "      <th>2020-07-02</th>\n",
       "      <th>2020-07-03</th>\n",
       "      <th>2020-07-04</th>\n",
       "      <th>2020-07-05</th>\n",
       "      <th>2020-07-06</th>\n",
       "      <th>2020-07-07</th>\n",
       "      <th>2020-07-08</th>\n",
       "      <th>2020-07-09</th>\n",
       "      <th>2020-07-10</th>\n",
       "      <th>...</th>\n",
       "      <th>2020-11-05</th>\n",
       "      <th>2020-11-06</th>\n",
       "      <th>2020-11-07</th>\n",
       "      <th>2020-11-08</th>\n",
       "      <th>2020-11-09</th>\n",
       "      <th>2020-11-10</th>\n",
       "      <th>2020-11-11</th>\n",
       "      <th>2020-11-12</th>\n",
       "      <th>2020-11-13</th>\n",
       "      <th>2020-11-14</th>\n",
       "    </tr>\n",
       "    <tr>\n",
       "      <th>state</th>\n",
       "      <th></th>\n",
       "      <th></th>\n",
       "      <th></th>\n",
       "      <th></th>\n",
       "      <th></th>\n",
       "      <th></th>\n",
       "      <th></th>\n",
       "      <th></th>\n",
       "      <th></th>\n",
       "      <th></th>\n",
       "      <th></th>\n",
       "      <th></th>\n",
       "      <th></th>\n",
       "      <th></th>\n",
       "      <th></th>\n",
       "      <th></th>\n",
       "      <th></th>\n",
       "      <th></th>\n",
       "      <th></th>\n",
       "      <th></th>\n",
       "      <th></th>\n",
       "    </tr>\n",
       "  </thead>\n",
       "  <tbody>\n",
       "    <tr>\n",
       "      <th>Tripura</th>\n",
       "      <td>0</td>\n",
       "      <td>39</td>\n",
       "      <td>93</td>\n",
       "      <td>25</td>\n",
       "      <td>23</td>\n",
       "      <td>111</td>\n",
       "      <td>24</td>\n",
       "      <td>57</td>\n",
       "      <td>16</td>\n",
       "      <td>142</td>\n",
       "      <td>...</td>\n",
       "      <td>132</td>\n",
       "      <td>110</td>\n",
       "      <td>87</td>\n",
       "      <td>83</td>\n",
       "      <td>26</td>\n",
       "      <td>79</td>\n",
       "      <td>84</td>\n",
       "      <td>59</td>\n",
       "      <td>76</td>\n",
       "      <td>78</td>\n",
       "    </tr>\n",
       "    <tr>\n",
       "      <th>Andaman and Nicobar Islands</th>\n",
       "      <td>0</td>\n",
       "      <td>9</td>\n",
       "      <td>7</td>\n",
       "      <td>3</td>\n",
       "      <td>6</td>\n",
       "      <td>16</td>\n",
       "      <td>6</td>\n",
       "      <td>2</td>\n",
       "      <td>7</td>\n",
       "      <td>0</td>\n",
       "      <td>...</td>\n",
       "      <td>14</td>\n",
       "      <td>17</td>\n",
       "      <td>21</td>\n",
       "      <td>9</td>\n",
       "      <td>13</td>\n",
       "      <td>14</td>\n",
       "      <td>17</td>\n",
       "      <td>13</td>\n",
       "      <td>11</td>\n",
       "      <td>0</td>\n",
       "    </tr>\n",
       "    <tr>\n",
       "      <th>Puducherry</th>\n",
       "      <td>0</td>\n",
       "      <td>63</td>\n",
       "      <td>22</td>\n",
       "      <td>80</td>\n",
       "      <td>42</td>\n",
       "      <td>65</td>\n",
       "      <td>30</td>\n",
       "      <td>110</td>\n",
       "      <td>49</td>\n",
       "      <td>72</td>\n",
       "      <td>...</td>\n",
       "      <td>121</td>\n",
       "      <td>125</td>\n",
       "      <td>69</td>\n",
       "      <td>94</td>\n",
       "      <td>62</td>\n",
       "      <td>100</td>\n",
       "      <td>114</td>\n",
       "      <td>65</td>\n",
       "      <td>73</td>\n",
       "      <td>0</td>\n",
       "    </tr>\n",
       "    <tr>\n",
       "      <th>Maharashtra</th>\n",
       "      <td>0</td>\n",
       "      <td>6328</td>\n",
       "      <td>6364</td>\n",
       "      <td>7074</td>\n",
       "      <td>6555</td>\n",
       "      <td>5368</td>\n",
       "      <td>5134</td>\n",
       "      <td>6603</td>\n",
       "      <td>6875</td>\n",
       "      <td>7862</td>\n",
       "      <td>...</td>\n",
       "      <td>5246</td>\n",
       "      <td>6870</td>\n",
       "      <td>3959</td>\n",
       "      <td>5585</td>\n",
       "      <td>3277</td>\n",
       "      <td>3791</td>\n",
       "      <td>4907</td>\n",
       "      <td>4496</td>\n",
       "      <td>4132</td>\n",
       "      <td>0</td>\n",
       "    </tr>\n",
       "    <tr>\n",
       "      <th>Manipur</th>\n",
       "      <td>0</td>\n",
       "      <td>19</td>\n",
       "      <td>37</td>\n",
       "      <td>9</td>\n",
       "      <td>41</td>\n",
       "      <td>24</td>\n",
       "      <td>40</td>\n",
       "      <td>5</td>\n",
       "      <td>15</td>\n",
       "      <td>132</td>\n",
       "      <td>...</td>\n",
       "      <td>222</td>\n",
       "      <td>166</td>\n",
       "      <td>240</td>\n",
       "      <td>245</td>\n",
       "      <td>182</td>\n",
       "      <td>219</td>\n",
       "      <td>180</td>\n",
       "      <td>254</td>\n",
       "      <td>214</td>\n",
       "      <td>0</td>\n",
       "    </tr>\n",
       "  </tbody>\n",
       "</table>\n",
       "<p>5 rows × 137 columns</p>\n",
       "</div>"
      ],
      "text/plain": [
       "states                       2020-07-01  2020-07-02  2020-07-03  2020-07-04  \\\n",
       "state                                                                         \n",
       "Tripura                               0          39          93          25   \n",
       "Andaman and Nicobar Islands           0           9           7           3   \n",
       "Puducherry                            0          63          22          80   \n",
       "Maharashtra                           0        6328        6364        7074   \n",
       "Manipur                               0          19          37           9   \n",
       "\n",
       "states                       2020-07-05  2020-07-06  2020-07-07  2020-07-08  \\\n",
       "state                                                                         \n",
       "Tripura                              23         111          24          57   \n",
       "Andaman and Nicobar Islands           6          16           6           2   \n",
       "Puducherry                           42          65          30         110   \n",
       "Maharashtra                        6555        5368        5134        6603   \n",
       "Manipur                              41          24          40           5   \n",
       "\n",
       "states                       2020-07-09  2020-07-10  ...  2020-11-05  \\\n",
       "state                                                ...               \n",
       "Tripura                              16         142  ...         132   \n",
       "Andaman and Nicobar Islands           7           0  ...          14   \n",
       "Puducherry                           49          72  ...         121   \n",
       "Maharashtra                        6875        7862  ...        5246   \n",
       "Manipur                              15         132  ...         222   \n",
       "\n",
       "states                       2020-11-06  2020-11-07  2020-11-08  2020-11-09  \\\n",
       "state                                                                         \n",
       "Tripura                             110          87          83          26   \n",
       "Andaman and Nicobar Islands          17          21           9          13   \n",
       "Puducherry                          125          69          94          62   \n",
       "Maharashtra                        6870        3959        5585        3277   \n",
       "Manipur                             166         240         245         182   \n",
       "\n",
       "states                       2020-11-10  2020-11-11  2020-11-12  2020-11-13  \\\n",
       "state                                                                         \n",
       "Tripura                              79          84          59          76   \n",
       "Andaman and Nicobar Islands          14          17          13          11   \n",
       "Puducherry                          100         114          65          73   \n",
       "Maharashtra                        3791        4907        4496        4132   \n",
       "Manipur                             219         180         254         214   \n",
       "\n",
       "states                       2020-11-14  \n",
       "state                                    \n",
       "Tripura                              78  \n",
       "Andaman and Nicobar Islands           0  \n",
       "Puducherry                            0  \n",
       "Maharashtra                           0  \n",
       "Manipur                               0  \n",
       "\n",
       "[5 rows x 137 columns]"
      ]
     },
     "execution_count": 18,
     "metadata": {},
     "output_type": "execute_result"
    }
   ],
   "source": [
    "#hide\n",
    "dft_ct_new_cases.head()"
   ]
  },
  {
   "cell_type": "code",
   "execution_count": 19,
   "metadata": {
    "execution": {
     "iopub.execute_input": "2020-11-14T07:18:23.746678Z",
     "iopub.status.busy": "2020-11-14T07:18:23.725893Z",
     "iopub.status.idle": "2020-11-14T07:18:28.441525Z",
     "shell.execute_reply": "2020-11-14T07:18:28.442016Z"
    },
    "papermill": {
     "duration": 4.740194,
     "end_time": "2020-11-14T07:18:28.442176",
     "exception": false,
     "start_time": "2020-11-14T07:18:23.701982",
     "status": "completed"
    },
    "tags": []
   },
   "outputs": [
    {
     "data": {
      "image/png": "[encoded data removed]",
      "text/plain": [
       "<Figure size 1296x2016 with 11 Axes>"
      ]
     },
     "metadata": {
      "needs_background": "light"
     },
     "output_type": "display_data"
    }
   ],
   "source": [
    "#hide_input\n",
    "df = dft_ct_new_cases.copy()\n",
    "df.loc['Total'] = df.sum()\n",
    "n = 5\n",
    "ax = []\n",
    "fig = plt.figure(figsize = (18,28))\n",
    "gs = fig.add_gridspec(n+2, 5)\n",
    "# gs = fig.add_gridspec(2, 3)\n",
    "ax1 = fig.add_subplot(gs[0, :])\n",
    "ef = df.loc['Total'].rename_axis('date').reset_index()\n",
    "ef['date'] = ef['date'].astype('datetime64[ns]')\n",
    "ax1.bar(ef.date,ef.Total,alpha=0.3,color='#007acc')\n",
    "ax1.plot(ef.date,ef.Total , marker=\"o\", color='#007acc')\n",
    "ax1.xaxis.set_major_locator(mdates.WeekdayLocator())\n",
    "ax1.xaxis.set_major_formatter(mdates.DateFormatter('%b %d'))\n",
    "ax1.text(0.02, 0.5,'India daily case count', transform = ax1.transAxes, fontsize=25);\n",
    "ax1.spines['right'].set_visible(False)\n",
    "ax1.spines['top'].set_visible(False)\n",
    "\n",
    "ax2 = fig.add_subplot(gs[1,0])\n",
    "ef = df.loc['Maharashtra'].rename_axis('date').reset_index()\n",
    "ef['date'] = ef['date'].astype('datetime64[ns]')\n",
    "\n",
    "ax2.bar(ef.date, ef.Maharashtra,color = '#007acc',alpha=0.5)\n",
    "ax2.xaxis.set_major_locator(mdates.WeekdayLocator())\n",
    "ax2.xaxis.set_major_formatter(mdates.DateFormatter('%b %d'))\n",
    "ax2.set_xticks(ax2.get_xticks()[::3])\n",
    "maxyval = ef.Maharashtra.max()\n",
    "ax2.set_ylim([0,maxyval])\n",
    "ax2.text(0.05, 0.9,'Maharashtra', transform = ax2.transAxes, fontsize=20);\n",
    "ax2.spines['right'].set_visible(False)\n",
    "ax2.spines['top'].set_visible(False)\n",
    "\n",
    "\n",
    "ax3 = fig.add_subplot(gs[1,1])\n",
    "ef = df.loc['Tamil Nadu'].rename_axis('date').reset_index()\n",
    "ef['date'] = ef['date'].astype('datetime64[ns]')\n",
    "ax3.bar(ef.date, ef['Tamil Nadu'],color = '#007acc',alpha=0.5,)\n",
    "ax3.xaxis.set_major_locator(mdates.WeekdayLocator())\n",
    "ax3.xaxis.set_major_formatter(mdates.DateFormatter('%b %d'))\n",
    "ax3.set_xticks(ax3.get_xticks()[::3])\n",
    "ax3.text(0.05, 0.9,'Tamil Nadu', transform = ax3.transAxes, fontsize=20);\n",
    "ax3.spines['right'].set_visible(False)\n",
    "ax3.spines['top'].set_visible(False)\n",
    "\n",
    "ax5 = fig.add_subplot(gs[1,3])\n",
    "ef = df.loc['Telangana'].rename_axis('date').reset_index()\n",
    "ef['date'] = ef['date'].astype('datetime64[ns]')\n",
    "ax5.bar(ef.date, ef['Telangana'],color = '#007acc',alpha=0.5,)\n",
    "ax5.xaxis.set_major_locator(mdates.WeekdayLocator())\n",
    "ax5.xaxis.set_major_formatter(mdates.DateFormatter('%b %d'))\n",
    "ax5.set_xticks(ax5.get_xticks()[::3])\n",
    "ax5.text(0.05, 0.9,'Telangana', transform = ax5.transAxes, fontsize=20);\n",
    "ax5.spines['right'].set_visible(False)\n",
    "ax5.spines['top'].set_visible(False)\n",
    "\n",
    "ax6 = fig.add_subplot(gs[1,4])\n",
    "ef = df.loc['Andhra Pradesh'].rename_axis('date').reset_index()\n",
    "ef['date'] = ef['date'].astype('datetime64[ns]')\n",
    "ax6.bar(ef.date, ef['Andhra Pradesh'],color = '#007acc',alpha=0.5,)\n",
    "ax6.xaxis.set_major_locator(mdates.WeekdayLocator())\n",
    "ax6.xaxis.set_major_formatter(mdates.DateFormatter('%b %d'))\n",
    "ax6.set_xticks(ax6.get_xticks()[::3])\n",
    "ax6.text(0.05, 1,'Andhra Pradesh', transform = ax6.transAxes, fontsize=20);\n",
    "ax6.spines['right'].set_visible(False)\n",
    "ax6.spines['top'].set_visible(False)\n",
    "\n",
    "ax4 = fig.add_subplot(gs[1,2])\n",
    "ef = df.loc['Delhi'].rename_axis('date').reset_index()\n",
    "ef['date'] = ef['date'].astype('datetime64[ns]')\n",
    "ax4.bar(ef.date, ef.Delhi,color = '#007acc',alpha=0.5)\n",
    "ax4.set_xticks([])\n",
    "ax4.xaxis.set_major_locator(mdates.WeekdayLocator())\n",
    "ax4.xaxis.set_major_formatter(mdates.DateFormatter('%b %d'))\n",
    "ax4.set_xticks(ax4.get_xticks()[::3])\n",
    "ax4.spines['right'].set_visible(False)\n",
    "ax4.spines['top'].set_visible(False)\n",
    "\n",
    "ax4.text(0.05, 1,'Delhi', transform = ax4.transAxes, fontsize=20)\n",
    "\n",
    "for i in range(n):\n",
    "    \n",
    "    ax.append(fig.add_subplot(gs[i+2,:]))\n",
    "    ef = df.iloc[i+3].rename_axis('date').reset_index()\n",
    "    ef['date'] = ef['date'].astype('datetime64[ns]')\n",
    "    ax[i].bar(ef.date,ef.iloc[:,-1],color = '#007acc',alpha=0.3)\n",
    "    ax[i].plot(ef.date,ef.iloc[:,-1],marker='o',color='#007acc')\n",
    "    ax[i].text(0.02,0.5,f'{ef.columns.values[-1]}',transform = ax[i].transAxes, fontsize = 20);\n",
    "    ax[i].xaxis.set_major_locator(mdates.WeekdayLocator())\n",
    "    ax[i].xaxis.set_major_formatter(mdates.DateFormatter('%b %d'))\n",
    "    ax[i].set_ylim([0,7000])\n",
    "    ax[i].spines['right'].set_visible(False)\n",
    "    ax[i].spines['top'].set_visible(False)\n",
    "plt.tight_layout()\n"
   ]
  },
  {
   "cell_type": "code",
   "execution_count": 20,
   "metadata": {
    "execution": {
     "iopub.execute_input": "2020-11-14T07:18:28.493459Z",
     "iopub.status.busy": "2020-11-14T07:18:28.492955Z",
     "iopub.status.idle": "2020-11-14T07:18:28.495741Z",
     "shell.execute_reply": "2020-11-14T07:18:28.495280Z"
    },
    "papermill": {
     "duration": 0.033003,
     "end_time": "2020-11-14T07:18:28.495923",
     "exception": false,
     "start_time": "2020-11-14T07:18:28.462920",
     "status": "completed"
    },
    "tags": []
   },
   "outputs": [
    {
     "name": "stdout",
     "output_type": "stream",
     "text": [
      "                                   states    Cases  Deaths   PCases  PDeaths  Cases (+)  Deaths (+)  Fatality Rate\n",
      "                              Maharashtra  1740461   45809  1740461    45809          0           0           2.63\n",
      "                                Karnataka   857928   11491   857928    11491          0           0           1.34\n",
      "                           Andhra Pradesh   851298    6847   851298     6847          0           0           0.80\n",
      "                               Tamil Nadu   754460   11454   754460    11454          0           0           1.52\n",
      "                                   Kerala   514061    1822   514061     1822          0           0           0.35\n",
      "                            Uttar Pradesh   507602    7327   507602     7327          0           0           1.44\n",
      "                                    Delhi   474830    7423   474830     7423          0           0           1.56\n",
      "                              West Bengal   424675    7557   424675     7557          0           0           1.78\n",
      "                                   Odisha   307004    1548   307004     1548          0           0           0.50\n",
      "                                Telangana   255663    1397   255663     1397          0           0           0.55\n",
      "                                    Bihar   226081    1174   226081     1174          0           0           0.52\n",
      "                                Rajasthan   221471    2044   221471     2044          0           0           0.92\n",
      "                                    Assam   210068     959   210068      959          0           0           0.46\n",
      "                             Chhattisgarh   209288    2545   209288     2545          0           0           1.22\n",
      "                                  Haryana   195799    2006   195799     2006          0           0           1.02\n",
      "                                  Gujarat   186116    3791   186116     3791          0           0           2.04\n",
      "                           Madhya Pradesh   182045    3076   182045     3076          0           0           1.69\n",
      "                                   Punjab   140605    4428   140605     4428          0           0           3.15\n",
      "                                Jharkhand   105781     921   105781      921          0           0           0.87\n",
      "                        Jammu and Kashmir   101594    1574   101594     1574          0           0           1.55\n",
      "                              Uttarakhand    67706    1097    67706     1097          0           0           1.62\n",
      "                                      Goa    45761     658    45761      658          0           0           1.44\n",
      "                               Puducherry    36252     608    36252      608          0           0           1.68\n",
      "                                  Tripura    31916     359    31838      357         78           2           1.12\n",
      "                         Himachal Pradesh    29008     416    29008      416          0           0           1.43\n",
      "                                  Manipur    21425     213    21425      213          0           0           0.99\n",
      "                        Arunachal Pradesh    15758      47    15758       47          0           0           0.30\n",
      "                               Chandigarh    15636     246    15636      246          0           0           1.57\n",
      "                                Meghalaya    10582      98    10582       98          0           0           0.93\n",
      "                                 Nagaland     9638      52     9638       52          0           0           0.54\n",
      "                                   Ladakh     7291      89     7291       89          0           0           1.22\n",
      "              Andaman and Nicobar Islands     4518      61     4518       61          0           0           1.35\n",
      "                                   Sikkim     4416      86     4416       86          0           0           1.95\n",
      "                                  Mizoram     3309       2     3309        2          0           0           0.06\n",
      " Dadra and Nagar Haveli and Daman and Diu     3275       2     3275        2          0           0           0.06\n",
      "                              Lakshadweep        0       0        0        0          0           0            NaN\n"
     ]
    }
   ],
   "source": [
    "#hide_input\n",
    "print(df_table.to_string(index=False))"
   ]
  },
  {
   "cell_type": "code",
   "execution_count": null,
   "metadata": {
    "papermill": {
     "duration": 0.020773,
     "end_time": "2020-11-14T07:18:28.539449",
     "exception": false,
     "start_time": "2020-11-14T07:18:28.518676",
     "status": "completed"
    },
    "tags": []
   },
   "outputs": [],
   "source": []
  },
  {
   "cell_type": "code",
   "execution_count": null,
   "metadata": {
    "papermill": {
     "duration": 0.020774,
     "end_time": "2020-11-14T07:18:28.580575",
     "exception": false,
     "start_time": "2020-11-14T07:18:28.559801",
     "status": "completed"
    },
    "tags": []
   },
   "outputs": [],
   "source": []
  }
 ],
 "metadata": {
  "kernelspec": {
   "display_name": "Python 3",
   "language": "python",
   "name": "python3"
  },
  "language_info": {
   "codemirror_mode": {
    "name": "ipython",
    "version": 3
   },
   "file_extension": ".py",
   "mimetype": "text/x-python",
   "name": "python",
   "nbconvert_exporter": "python",
   "pygments_lexer": "ipython3",
   "version": "3.6.12"
  },
  "papermill": {
   "duration": 12.325032,
   "end_time": "2020-11-14T07:18:29.936481",
   "environment_variables": {},
   "exception": null,
   "input_path": "latest.ipynb",
   "output_path": "latest.ipynb",
   "parameters": {},
   "start_time": "2020-11-14T07:18:17.611449",
   "version": "2.1.2"
  }
 },
 "nbformat": 4,
 "nbformat_minor": 4
}