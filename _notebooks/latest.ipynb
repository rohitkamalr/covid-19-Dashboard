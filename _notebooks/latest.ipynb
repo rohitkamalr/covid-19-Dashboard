{
 "cells": [
  {
   "cell_type": "markdown",
   "metadata": {
    "papermill": {
     "duration": 0.021148,
     "end_time": "2020-10-28T13:01:12.034861",
     "exception": false,
     "start_time": "2020-10-28T13:01:12.013713",
     "status": "completed"
    },
    "tags": []
   },
   "source": [
    "# Latest COVID-19 India Matplotlib Overview"
   ]
  },
  {
   "cell_type": "code",
   "execution_count": 1,
   "metadata": {
    "execution": {
     "iopub.execute_input": "2020-10-28T13:01:12.069875Z",
     "iopub.status.busy": "2020-10-28T13:01:12.069367Z",
     "iopub.status.idle": "2020-10-28T13:01:12.600171Z",
     "shell.execute_reply": "2020-10-28T13:01:12.599197Z"
    },
    "papermill": {
     "duration": 0.550291,
     "end_time": "2020-10-28T13:01:12.600432",
     "exception": false,
     "start_time": "2020-10-28T13:01:12.050141",
     "status": "completed"
    },
    "tags": []
   },
   "outputs": [],
   "source": [
    "#hide\n",
    "import pandas as pd\n",
    "import numpy as np\n",
    "import requests\n",
    "import json\n",
    "import matplotlib.pyplot as plt\n",
    "import matplotlib.dates as mdates\n",
    "import matplotlib as mpl\n",
    "from IPython.core.display import display,HTML\n",
    "%matplotlib inline\n",
    "from datetime import date"
   ]
  },
  {
   "cell_type": "code",
   "execution_count": 2,
   "metadata": {
    "execution": {
     "iopub.execute_input": "2020-10-28T13:01:12.635797Z",
     "iopub.status.busy": "2020-10-28T13:01:12.634983Z",
     "iopub.status.idle": "2020-10-28T13:01:12.942752Z",
     "shell.execute_reply": "2020-10-28T13:01:12.941840Z"
    },
    "papermill": {
     "duration": 0.328084,
     "end_time": "2020-10-28T13:01:12.942990",
     "exception": false,
     "start_time": "2020-10-28T13:01:12.614906",
     "status": "completed"
    },
    "tags": []
   },
   "outputs": [],
   "source": [
    "#hide\n",
    "df  = pd.read_csv('https://api.covid19india.org/csv/latest/states.csv')\n",
    "df = df[['Date','State','Confirmed','Deceased']]\n",
    "df = df.rename(columns={'Confirmed':'Cases', \"Deceased\":'Deaths'})\n",
    "df_cases = df[[\"Date\",'State','Cases']]\n",
    "df_deaths = df[['Date','State','Deaths']]\n",
    "df_cases1 = df_cases.groupby('Date')\n",
    "df_deaths1= df_deaths.groupby('Date')"
   ]
  },
  {
   "cell_type": "code",
   "execution_count": 3,
   "metadata": {
    "execution": {
     "iopub.execute_input": "2020-10-28T13:01:12.973164Z",
     "iopub.status.busy": "2020-10-28T13:01:12.972672Z",
     "iopub.status.idle": "2020-10-28T13:01:12.988482Z",
     "shell.execute_reply": "2020-10-28T13:01:12.988035Z"
    },
    "papermill": {
     "duration": 0.032075,
     "end_time": "2020-10-28T13:01:12.988603",
     "exception": false,
     "start_time": "2020-10-28T13:01:12.956528",
     "status": "completed"
    },
    "tags": []
   },
   "outputs": [],
   "source": [
    "#hide\n",
    "df_snap = pd.read_csv('data/SnapshotCases-28-July.csv')\n",
    "arr_states = df_snap['states'].unique()\n",
    "arr_dates = df['Date'].unique()\n",
    "df_snap = df_snap.set_index('states')"
   ]
  },
  {
   "cell_type": "code",
   "execution_count": 4,
   "metadata": {
    "execution": {
     "iopub.execute_input": "2020-10-28T13:01:13.023613Z",
     "iopub.status.busy": "2020-10-28T13:01:13.023096Z",
     "iopub.status.idle": "2020-10-28T13:01:13.026328Z",
     "shell.execute_reply": "2020-10-28T13:01:13.026791Z"
    },
    "papermill": {
     "duration": 0.024132,
     "end_time": "2020-10-28T13:01:13.026907",
     "exception": false,
     "start_time": "2020-10-28T13:01:13.002775",
     "status": "completed"
    },
    "tags": []
   },
   "outputs": [
    {
     "data": {
      "text/plain": [
       "array(['Andaman and Nicobar Islands', 'Andhra Pradesh',\n",
       "       'Arunachal Pradesh', 'Assam', 'Bihar', 'Chandigarh',\n",
       "       'Dadra and Nagar Haveli and Daman and Diu', 'Delhi', 'Goa',\n",
       "       'Gujarat', 'Haryana', 'Himachal Pradesh', 'Jammu and Kashmir',\n",
       "       'Jharkhand', 'Karnataka', 'Kerala', 'Lakshadweep',\n",
       "       'Madhya Pradesh', 'Maharashtra', 'Manipur', 'Meghalaya', 'Mizoram',\n",
       "       'Nagaland', 'Odisha', 'Puducherry', 'Punjab', 'Rajasthan',\n",
       "       'Sikkim', 'Tamil Nadu', 'Telangana', 'Tripura', 'Uttar Pradesh',\n",
       "       'West Bengal', 'Chhattisgarh', 'Ladakh', 'Uttarakhand'],\n",
       "      dtype=object)"
      ]
     },
     "execution_count": 4,
     "metadata": {},
     "output_type": "execute_result"
    }
   ],
   "source": [
    "#hide\n",
    "arr_states[-9] = 'Puducherry'\n",
    "arr_states[-10] = 'Odisha'\n",
    "arr_states[6] = 'Dadra and Nagar Haveli and Daman and Diu'\n",
    "arr_states = np.append(arr_states,np.array(['Chhattisgarh','Ladakh','Uttarakhand']))\n",
    "arr_states"
   ]
  },
  {
   "cell_type": "code",
   "execution_count": 5,
   "metadata": {
    "execution": {
     "iopub.execute_input": "2020-10-28T13:01:13.061469Z",
     "iopub.status.busy": "2020-10-28T13:01:13.060962Z",
     "iopub.status.idle": "2020-10-28T13:01:13.068552Z",
     "shell.execute_reply": "2020-10-28T13:01:13.068996Z"
    },
    "papermill": {
     "duration": 0.029925,
     "end_time": "2020-10-28T13:01:13.069128",
     "exception": false,
     "start_time": "2020-10-28T13:01:13.039203",
     "status": "completed"
    },
    "tags": []
   },
   "outputs": [],
   "source": [
    "#hide\n",
    "dates = []\n",
    "for i in arr_dates:\n",
    "    if i>='2020-07-01':\n",
    "        dates.append(i)\n",
    "dict = {'states':dates}\n",
    "for i in arr_states:\n",
    "    dict[i] = [0]*len(dates)\n",
    "dft_cases = pd.DataFrame(dict)\n",
    "dft_deaths = pd.DataFrame(dict)\n"
   ]
  },
  {
   "cell_type": "code",
   "execution_count": 6,
   "metadata": {
    "execution": {
     "iopub.execute_input": "2020-10-28T13:01:13.103864Z",
     "iopub.status.busy": "2020-10-28T13:01:13.103268Z",
     "iopub.status.idle": "2020-10-28T13:01:14.529732Z",
     "shell.execute_reply": "2020-10-28T13:01:14.528854Z"
    },
    "papermill": {
     "duration": 1.44793,
     "end_time": "2020-10-28T13:01:14.529967",
     "exception": false,
     "start_time": "2020-10-28T13:01:13.082037",
     "status": "completed"
    },
    "tags": []
   },
   "outputs": [],
   "source": [
    "#hide\n",
    "for i in range(len(dates)):\n",
    "    df1_deaths = df_deaths1.get_group(dates[i])\n",
    "    for j in range(len(df1_deaths.index)):\n",
    "        if df1_deaths.iloc[j,1] in arr_states:\n",
    "            dft_deaths.loc[i,df1_deaths.iloc[j,1]] = df1_deaths.iloc[j,2]\n",
    "dft_deaths = dft_deaths.set_index('states')"
   ]
  },
  {
   "cell_type": "code",
   "execution_count": 7,
   "metadata": {
    "execution": {
     "iopub.execute_input": "2020-10-28T13:01:14.572993Z",
     "iopub.status.busy": "2020-10-28T13:01:14.572405Z",
     "iopub.status.idle": "2020-10-28T13:01:15.953875Z",
     "shell.execute_reply": "2020-10-28T13:01:15.953005Z"
    },
    "papermill": {
     "duration": 1.404218,
     "end_time": "2020-10-28T13:01:15.954085",
     "exception": false,
     "start_time": "2020-10-28T13:01:14.549867",
     "status": "completed"
    },
    "tags": []
   },
   "outputs": [],
   "source": [
    "#hide\n",
    "for i in range(len(dates)):\n",
    "    df1_cases = df_cases1.get_group(dates[i])\n",
    "    for j in range(len(df1_cases.index)):\n",
    "        if df1_cases.iloc[j,1] in arr_states:\n",
    "            dft_cases.loc[i,df1_cases.iloc[j,1]] = df1_cases.iloc[j,2]\n",
    "dft_cases = dft_cases.set_index('states')"
   ]
  },
  {
   "cell_type": "code",
   "execution_count": 8,
   "metadata": {
    "execution": {
     "iopub.execute_input": "2020-10-28T13:01:15.988710Z",
     "iopub.status.busy": "2020-10-28T13:01:15.988110Z",
     "iopub.status.idle": "2020-10-28T13:01:15.991267Z",
     "shell.execute_reply": "2020-10-28T13:01:15.991765Z"
    },
    "papermill": {
     "duration": 0.02223,
     "end_time": "2020-10-28T13:01:15.991911",
     "exception": false,
     "start_time": "2020-10-28T13:01:15.969681",
     "status": "completed"
    },
    "tags": []
   },
   "outputs": [],
   "source": [
    "#hide\n",
    "dft_cases = dft_cases.T\n",
    "dft_deaths = dft_deaths.T\n",
    "dt_today = dates[-1]\n",
    "dt_yday = dates[-2]"
   ]
  },
  {
   "cell_type": "code",
   "execution_count": 9,
   "metadata": {
    "execution": {
     "iopub.execute_input": "2020-10-28T13:01:16.031034Z",
     "iopub.status.busy": "2020-10-28T13:01:16.030485Z",
     "iopub.status.idle": "2020-10-28T13:01:16.034776Z",
     "shell.execute_reply": "2020-10-28T13:01:16.034291Z"
    },
    "papermill": {
     "duration": 0.028247,
     "end_time": "2020-10-28T13:01:16.034890",
     "exception": false,
     "start_time": "2020-10-28T13:01:16.006643",
     "status": "completed"
    },
    "tags": []
   },
   "outputs": [],
   "source": [
    "#hide\n",
    "dft_cases = dft_cases.reset_index()\n",
    "dft_deaths = dft_deaths.reset_index()\n",
    "dft_cases = dft_cases.rename(columns = {'index':'state'})\n",
    "dft_deaths = dft_deaths.rename(columns = {'index':'state'})"
   ]
  },
  {
   "cell_type": "code",
   "execution_count": 10,
   "metadata": {
    "execution": {
     "iopub.execute_input": "2020-10-28T13:01:16.072690Z",
     "iopub.status.busy": "2020-10-28T13:01:16.069670Z",
     "iopub.status.idle": "2020-10-28T13:01:16.075804Z",
     "shell.execute_reply": "2020-10-28T13:01:16.076193Z"
    },
    "papermill": {
     "duration": 0.02721,
     "end_time": "2020-10-28T13:01:16.076306",
     "exception": false,
     "start_time": "2020-10-28T13:01:16.049096",
     "status": "completed"
    },
    "tags": []
   },
   "outputs": [],
   "source": [
    "#hide\n",
    "dfc_cases = dft_cases.groupby('state')[dt_today].sum()\n",
    "dfc_deaths = dft_deaths.groupby('state')[dt_today].sum()\n",
    "dfp_cases = dft_cases.groupby('state')[dt_yday].sum()\n",
    "dfp_deaths = dft_deaths.groupby('state')[dt_yday].sum()"
   ]
  },
  {
   "cell_type": "code",
   "execution_count": 11,
   "metadata": {
    "execution": {
     "iopub.execute_input": "2020-10-28T13:01:16.120489Z",
     "iopub.status.busy": "2020-10-28T13:01:16.119918Z",
     "iopub.status.idle": "2020-10-28T13:01:16.125951Z",
     "shell.execute_reply": "2020-10-28T13:01:16.125542Z"
    },
    "papermill": {
     "duration": 0.038224,
     "end_time": "2020-10-28T13:01:16.126057",
     "exception": false,
     "start_time": "2020-10-28T13:01:16.087833",
     "status": "completed"
    },
    "tags": []
   },
   "outputs": [
    {
     "data": {
      "text/html": [
       "<div>\n",
       "<style scoped>\n",
       "    .dataframe tbody tr th:only-of-type {\n",
       "        vertical-align: middle;\n",
       "    }\n",
       "\n",
       "    .dataframe tbody tr th {\n",
       "        vertical-align: top;\n",
       "    }\n",
       "\n",
       "    .dataframe thead th {\n",
       "        text-align: right;\n",
       "    }\n",
       "</style>\n",
       "<table border=\"1\" class=\"dataframe\">\n",
       "  <thead>\n",
       "    <tr style=\"text-align: right;\">\n",
       "      <th></th>\n",
       "      <th>states</th>\n",
       "      <th>Cases</th>\n",
       "      <th>Deaths</th>\n",
       "      <th>PCases</th>\n",
       "      <th>PDeaths</th>\n",
       "    </tr>\n",
       "  </thead>\n",
       "  <tbody>\n",
       "    <tr>\n",
       "      <th>0</th>\n",
       "      <td>Maharashtra</td>\n",
       "      <td>1654028</td>\n",
       "      <td>43463</td>\n",
       "      <td>1654028</td>\n",
       "      <td>43463</td>\n",
       "    </tr>\n",
       "    <tr>\n",
       "      <th>1</th>\n",
       "      <td>Andhra Pradesh</td>\n",
       "      <td>811825</td>\n",
       "      <td>6625</td>\n",
       "      <td>811825</td>\n",
       "      <td>6625</td>\n",
       "    </tr>\n",
       "    <tr>\n",
       "      <th>2</th>\n",
       "      <td>Karnataka</td>\n",
       "      <td>809638</td>\n",
       "      <td>10991</td>\n",
       "      <td>809638</td>\n",
       "      <td>10991</td>\n",
       "    </tr>\n",
       "    <tr>\n",
       "      <th>3</th>\n",
       "      <td>Tamil Nadu</td>\n",
       "      <td>714235</td>\n",
       "      <td>10983</td>\n",
       "      <td>714235</td>\n",
       "      <td>10983</td>\n",
       "    </tr>\n",
       "    <tr>\n",
       "      <th>4</th>\n",
       "      <td>Uttar Pradesh</td>\n",
       "      <td>474054</td>\n",
       "      <td>6940</td>\n",
       "      <td>474054</td>\n",
       "      <td>6940</td>\n",
       "    </tr>\n",
       "  </tbody>\n",
       "</table>\n",
       "</div>"
      ],
      "text/plain": [
       "           states    Cases  Deaths   PCases  PDeaths\n",
       "0     Maharashtra  1654028   43463  1654028    43463\n",
       "1  Andhra Pradesh   811825    6625   811825     6625\n",
       "2       Karnataka   809638   10991   809638    10991\n",
       "3      Tamil Nadu   714235   10983   714235    10983\n",
       "4   Uttar Pradesh   474054    6940   474054     6940"
      ]
     },
     "execution_count": 11,
     "metadata": {},
     "output_type": "execute_result"
    }
   ],
   "source": [
    "#hide\n",
    "df_table = pd.DataFrame({'states': dfc_cases.index, 'Cases': dfc_cases.values, 'Deaths': dfc_deaths.values, 'PCases': dfp_cases.values, 'PDeaths': dfp_deaths.values}).set_index('states')\n",
    "df_table = df_table.sort_values(by = ['Cases','Deaths'], ascending = [False, False])\n",
    "df_table = df_table.reset_index()\n",
    "df_table.head()"
   ]
  },
  {
   "cell_type": "code",
   "execution_count": 12,
   "metadata": {
    "execution": {
     "iopub.execute_input": "2020-10-28T13:01:16.160364Z",
     "iopub.status.busy": "2020-10-28T13:01:16.159333Z",
     "iopub.status.idle": "2020-10-28T13:01:16.169784Z",
     "shell.execute_reply": "2020-10-28T13:01:16.169341Z"
    },
    "papermill": {
     "duration": 0.028141,
     "end_time": "2020-10-28T13:01:16.169902",
     "exception": false,
     "start_time": "2020-10-28T13:01:16.141761",
     "status": "completed"
    },
    "tags": []
   },
   "outputs": [],
   "source": [
    "#hide\n",
    "for c in 'Cases, Deaths'.split(', '):\n",
    "    df_table[f'{c} (+)'] = (df_table[c] - df_table[f'P{c}']).clip(0)\n",
    "df_table['Fatality Rate'] = (100* df_table['Deaths']/ df_table['Cases']).round(2)"
   ]
  },
  {
   "cell_type": "code",
   "execution_count": 13,
   "metadata": {
    "execution": {
     "iopub.execute_input": "2020-10-28T13:01:16.202408Z",
     "iopub.status.busy": "2020-10-28T13:01:16.201866Z",
     "iopub.status.idle": "2020-10-28T13:01:16.209605Z",
     "shell.execute_reply": "2020-10-28T13:01:16.210049Z"
    },
    "papermill": {
     "duration": 0.026573,
     "end_time": "2020-10-28T13:01:16.210173",
     "exception": false,
     "start_time": "2020-10-28T13:01:16.183600",
     "status": "completed"
    },
    "tags": []
   },
   "outputs": [
    {
     "data": {
      "text/html": [
       "<div>\n",
       "<style scoped>\n",
       "    .dataframe tbody tr th:only-of-type {\n",
       "        vertical-align: middle;\n",
       "    }\n",
       "\n",
       "    .dataframe tbody tr th {\n",
       "        vertical-align: top;\n",
       "    }\n",
       "\n",
       "    .dataframe thead th {\n",
       "        text-align: right;\n",
       "    }\n",
       "</style>\n",
       "<table border=\"1\" class=\"dataframe\">\n",
       "  <thead>\n",
       "    <tr style=\"text-align: right;\">\n",
       "      <th></th>\n",
       "      <th>states</th>\n",
       "      <th>Cases</th>\n",
       "      <th>Deaths</th>\n",
       "      <th>PCases</th>\n",
       "      <th>PDeaths</th>\n",
       "      <th>Cases (+)</th>\n",
       "      <th>Deaths (+)</th>\n",
       "      <th>Fatality Rate</th>\n",
       "    </tr>\n",
       "  </thead>\n",
       "  <tbody>\n",
       "    <tr>\n",
       "      <th>0</th>\n",
       "      <td>Maharashtra</td>\n",
       "      <td>1654028</td>\n",
       "      <td>43463</td>\n",
       "      <td>1654028</td>\n",
       "      <td>43463</td>\n",
       "      <td>0</td>\n",
       "      <td>0</td>\n",
       "      <td>2.63</td>\n",
       "    </tr>\n",
       "    <tr>\n",
       "      <th>1</th>\n",
       "      <td>Andhra Pradesh</td>\n",
       "      <td>811825</td>\n",
       "      <td>6625</td>\n",
       "      <td>811825</td>\n",
       "      <td>6625</td>\n",
       "      <td>0</td>\n",
       "      <td>0</td>\n",
       "      <td>0.82</td>\n",
       "    </tr>\n",
       "    <tr>\n",
       "      <th>2</th>\n",
       "      <td>Karnataka</td>\n",
       "      <td>809638</td>\n",
       "      <td>10991</td>\n",
       "      <td>809638</td>\n",
       "      <td>10991</td>\n",
       "      <td>0</td>\n",
       "      <td>0</td>\n",
       "      <td>1.36</td>\n",
       "    </tr>\n",
       "    <tr>\n",
       "      <th>3</th>\n",
       "      <td>Tamil Nadu</td>\n",
       "      <td>714235</td>\n",
       "      <td>10983</td>\n",
       "      <td>714235</td>\n",
       "      <td>10983</td>\n",
       "      <td>0</td>\n",
       "      <td>0</td>\n",
       "      <td>1.54</td>\n",
       "    </tr>\n",
       "    <tr>\n",
       "      <th>4</th>\n",
       "      <td>Uttar Pradesh</td>\n",
       "      <td>474054</td>\n",
       "      <td>6940</td>\n",
       "      <td>474054</td>\n",
       "      <td>6940</td>\n",
       "      <td>0</td>\n",
       "      <td>0</td>\n",
       "      <td>1.46</td>\n",
       "    </tr>\n",
       "  </tbody>\n",
       "</table>\n",
       "</div>"
      ],
      "text/plain": [
       "           states    Cases  Deaths   PCases  PDeaths  Cases (+)  Deaths (+)  \\\n",
       "0     Maharashtra  1654028   43463  1654028    43463          0           0   \n",
       "1  Andhra Pradesh   811825    6625   811825     6625          0           0   \n",
       "2       Karnataka   809638   10991   809638    10991          0           0   \n",
       "3      Tamil Nadu   714235   10983   714235    10983          0           0   \n",
       "4   Uttar Pradesh   474054    6940   474054     6940          0           0   \n",
       "\n",
       "   Fatality Rate  \n",
       "0           2.63  \n",
       "1           0.82  \n",
       "2           1.36  \n",
       "3           1.54  \n",
       "4           1.46  "
      ]
     },
     "execution_count": 13,
     "metadata": {},
     "output_type": "execute_result"
    }
   ],
   "source": [
    "#hide\n",
    "df_table.head()"
   ]
  },
  {
   "cell_type": "code",
   "execution_count": 14,
   "metadata": {
    "execution": {
     "iopub.execute_input": "2020-10-28T13:01:16.245528Z",
     "iopub.status.busy": "2020-10-28T13:01:16.244981Z",
     "iopub.status.idle": "2020-10-28T13:01:16.258642Z",
     "shell.execute_reply": "2020-10-28T13:01:16.258257Z"
    },
    "papermill": {
     "duration": 0.033596,
     "end_time": "2020-10-28T13:01:16.258748",
     "exception": false,
     "start_time": "2020-10-28T13:01:16.225152",
     "status": "completed"
    },
    "tags": []
   },
   "outputs": [
    {
     "data": {
      "text/plain": [
       "{'updated': '2020-10-28',\n",
       " 'since': '2020-10-27',\n",
       " 'Cases': 7990643,\n",
       " 'PCases': 7989103,\n",
       " 'Deaths': 120067,\n",
       " 'PDeaths': 120055,\n",
       " 'Cases (+)': 1540,\n",
       " 'Deaths (+)': 12}"
      ]
     },
     "execution_count": 14,
     "metadata": {},
     "output_type": "execute_result"
    }
   ],
   "source": [
    "#hide\n",
    "summary = {'updated':dates[-1], 'since':dates[-2]}\n",
    "list_names = ['Cases', 'PCases', 'Deaths', 'PDeaths', 'Cases (+)', 'Deaths (+)']\n",
    "for name in list_names:\n",
    "    summary[name] = df_table.sum()[name]\n",
    "summary"
   ]
  },
  {
   "cell_type": "code",
   "execution_count": 15,
   "metadata": {
    "execution": {
     "iopub.execute_input": "2020-10-28T13:01:16.288375Z",
     "iopub.status.busy": "2020-10-28T13:01:16.287891Z",
     "iopub.status.idle": "2020-10-28T13:01:16.290178Z",
     "shell.execute_reply": "2020-10-28T13:01:16.290629Z"
    },
    "papermill": {
     "duration": 0.018784,
     "end_time": "2020-10-28T13:01:16.290738",
     "exception": false,
     "start_time": "2020-10-28T13:01:16.271954",
     "status": "completed"
    },
    "tags": []
   },
   "outputs": [],
   "source": [
    "#hide\n",
    "overview = '''\n",
    "<!-- #######  HTML!! #########-->\n",
    "<h1 style=\"color: #5e9ca0; text-align: center;\">India</h1>\n",
    "<p style=\"text-align: center;\">Last update: <strong>{update}</strong></p>\n",
    "<p style=\"text-align: center;\">Confirmed cases:</p>\n",
    "<p style=\"text-align: center;font-size:24px;\">{cases} (<span style=\"color: #ff0000;\">+{new}</span>)</p>\n",
    "<p style=\"text-align: center;\">Confirmed deaths:</p>\n",
    "<p style=\"text-align: center;font-size:24px;\">{deaths} (<span style=\"color: #ff0000;\">+{dnew}</span>)</p>\n",
    "'''"
   ]
  },
  {
   "cell_type": "code",
   "execution_count": 16,
   "metadata": {
    "execution": {
     "iopub.execute_input": "2020-10-28T13:01:16.322296Z",
     "iopub.status.busy": "2020-10-28T13:01:16.321818Z",
     "iopub.status.idle": "2020-10-28T13:01:16.325280Z",
     "shell.execute_reply": "2020-10-28T13:01:16.325643Z"
    },
    "papermill": {
     "duration": 0.022243,
     "end_time": "2020-10-28T13:01:16.325752",
     "exception": false,
     "start_time": "2020-10-28T13:01:16.303509",
     "status": "completed"
    },
    "tags": []
   },
   "outputs": [
    {
     "data": {
      "text/html": [
       "\n",
       "<!-- #######  HTML!! #########-->\n",
       "<h1 style=\"color: #5e9ca0; text-align: center;\">India</h1>\n",
       "<p style=\"text-align: center;\">Last update: <strong>2020-10-28</strong></p>\n",
       "<p style=\"text-align: center;\">Confirmed cases:</p>\n",
       "<p style=\"text-align: center;font-size:24px;\">7990643 (<span style=\"color: #ff0000;\">+1540</span>)</p>\n",
       "<p style=\"text-align: center;\">Confirmed deaths:</p>\n",
       "<p style=\"text-align: center;font-size:24px;\">120067 (<span style=\"color: #ff0000;\">+12</span>)</p>\n"
      ],
      "text/plain": [
       "<IPython.core.display.HTML object>"
      ]
     },
     "metadata": {},
     "output_type": "display_data"
    }
   ],
   "source": [
    "#hide_input\n",
    "update = summary['updated']\n",
    "cases = summary['Cases']\n",
    "new = summary['Cases (+)']\n",
    "deaths = summary['Deaths']\n",
    "dnew = summary['Deaths (+)']\n",
    "\n",
    "html = HTML(overview.format(update=update, cases=cases,new=new,deaths=deaths,dnew=dnew))\n",
    "\n",
    "display(html)"
   ]
  },
  {
   "cell_type": "code",
   "execution_count": 17,
   "metadata": {
    "execution": {
     "iopub.execute_input": "2020-10-28T13:01:16.357922Z",
     "iopub.status.busy": "2020-10-28T13:01:16.357379Z",
     "iopub.status.idle": "2020-10-28T13:01:16.361976Z",
     "shell.execute_reply": "2020-10-28T13:01:16.362422Z"
    },
    "papermill": {
     "duration": 0.024039,
     "end_time": "2020-10-28T13:01:16.362556",
     "exception": false,
     "start_time": "2020-10-28T13:01:16.338517",
     "status": "completed"
    },
    "tags": []
   },
   "outputs": [],
   "source": [
    "#hide\n",
    "dt_cols = list(dft_cases.columns[1:])\n",
    "dft_ct_new_cases = dft_cases.groupby('state')[dt_cols].sum().diff(axis=1).fillna(0).astype(int)\n",
    "dft_ct_new_cases.sort_values(by = dates[-1], ascending = False,inplace = True)"
   ]
  },
  {
   "cell_type": "code",
   "execution_count": 18,
   "metadata": {
    "execution": {
     "iopub.execute_input": "2020-10-28T13:01:16.413013Z",
     "iopub.status.busy": "2020-10-28T13:01:16.412535Z",
     "iopub.status.idle": "2020-10-28T13:01:16.416370Z",
     "shell.execute_reply": "2020-10-28T13:01:16.415985Z"
    },
    "papermill": {
     "duration": 0.038223,
     "end_time": "2020-10-28T13:01:16.416469",
     "exception": false,
     "start_time": "2020-10-28T13:01:16.378246",
     "status": "completed"
    },
    "tags": []
   },
   "outputs": [
    {
     "data": {
      "text/html": [
       "<div>\n",
       "<style scoped>\n",
       "    .dataframe tbody tr th:only-of-type {\n",
       "        vertical-align: middle;\n",
       "    }\n",
       "\n",
       "    .dataframe tbody tr th {\n",
       "        vertical-align: top;\n",
       "    }\n",
       "\n",
       "    .dataframe thead th {\n",
       "        text-align: right;\n",
       "    }\n",
       "</style>\n",
       "<table border=\"1\" class=\"dataframe\">\n",
       "  <thead>\n",
       "    <tr style=\"text-align: right;\">\n",
       "      <th>states</th>\n",
       "      <th>2020-07-01</th>\n",
       "      <th>2020-07-02</th>\n",
       "      <th>2020-07-03</th>\n",
       "      <th>2020-07-04</th>\n",
       "      <th>2020-07-05</th>\n",
       "      <th>2020-07-06</th>\n",
       "      <th>2020-07-07</th>\n",
       "      <th>2020-07-08</th>\n",
       "      <th>2020-07-09</th>\n",
       "      <th>2020-07-10</th>\n",
       "      <th>...</th>\n",
       "      <th>2020-10-19</th>\n",
       "      <th>2020-10-20</th>\n",
       "      <th>2020-10-21</th>\n",
       "      <th>2020-10-22</th>\n",
       "      <th>2020-10-23</th>\n",
       "      <th>2020-10-24</th>\n",
       "      <th>2020-10-25</th>\n",
       "      <th>2020-10-26</th>\n",
       "      <th>2020-10-27</th>\n",
       "      <th>2020-10-28</th>\n",
       "    </tr>\n",
       "    <tr>\n",
       "      <th>state</th>\n",
       "      <th></th>\n",
       "      <th></th>\n",
       "      <th></th>\n",
       "      <th></th>\n",
       "      <th></th>\n",
       "      <th></th>\n",
       "      <th></th>\n",
       "      <th></th>\n",
       "      <th></th>\n",
       "      <th></th>\n",
       "      <th></th>\n",
       "      <th></th>\n",
       "      <th></th>\n",
       "      <th></th>\n",
       "      <th></th>\n",
       "      <th></th>\n",
       "      <th></th>\n",
       "      <th></th>\n",
       "      <th></th>\n",
       "      <th></th>\n",
       "      <th></th>\n",
       "    </tr>\n",
       "  </thead>\n",
       "  <tbody>\n",
       "    <tr>\n",
       "      <th>Odisha</th>\n",
       "      <td>0</td>\n",
       "      <td>229</td>\n",
       "      <td>561</td>\n",
       "      <td>495</td>\n",
       "      <td>469</td>\n",
       "      <td>456</td>\n",
       "      <td>571</td>\n",
       "      <td>527</td>\n",
       "      <td>577</td>\n",
       "      <td>755</td>\n",
       "      <td>...</td>\n",
       "      <td>1982</td>\n",
       "      <td>1904</td>\n",
       "      <td>1931</td>\n",
       "      <td>1913</td>\n",
       "      <td>1793</td>\n",
       "      <td>1695</td>\n",
       "      <td>1633</td>\n",
       "      <td>1480</td>\n",
       "      <td>1247</td>\n",
       "      <td>1540</td>\n",
       "    </tr>\n",
       "    <tr>\n",
       "      <th>Andaman and Nicobar Islands</th>\n",
       "      <td>0</td>\n",
       "      <td>9</td>\n",
       "      <td>7</td>\n",
       "      <td>3</td>\n",
       "      <td>6</td>\n",
       "      <td>16</td>\n",
       "      <td>6</td>\n",
       "      <td>2</td>\n",
       "      <td>7</td>\n",
       "      <td>0</td>\n",
       "      <td>...</td>\n",
       "      <td>18</td>\n",
       "      <td>15</td>\n",
       "      <td>27</td>\n",
       "      <td>16</td>\n",
       "      <td>23</td>\n",
       "      <td>18</td>\n",
       "      <td>20</td>\n",
       "      <td>8</td>\n",
       "      <td>21</td>\n",
       "      <td>0</td>\n",
       "    </tr>\n",
       "    <tr>\n",
       "      <th>Andhra Pradesh</th>\n",
       "      <td>0</td>\n",
       "      <td>845</td>\n",
       "      <td>837</td>\n",
       "      <td>765</td>\n",
       "      <td>998</td>\n",
       "      <td>1322</td>\n",
       "      <td>1178</td>\n",
       "      <td>1062</td>\n",
       "      <td>1555</td>\n",
       "      <td>1608</td>\n",
       "      <td>...</td>\n",
       "      <td>2918</td>\n",
       "      <td>3503</td>\n",
       "      <td>3746</td>\n",
       "      <td>3620</td>\n",
       "      <td>3765</td>\n",
       "      <td>3342</td>\n",
       "      <td>2997</td>\n",
       "      <td>1901</td>\n",
       "      <td>2901</td>\n",
       "      <td>0</td>\n",
       "    </tr>\n",
       "    <tr>\n",
       "      <th>Maharashtra</th>\n",
       "      <td>0</td>\n",
       "      <td>6328</td>\n",
       "      <td>6364</td>\n",
       "      <td>7074</td>\n",
       "      <td>6555</td>\n",
       "      <td>5368</td>\n",
       "      <td>5134</td>\n",
       "      <td>6603</td>\n",
       "      <td>6875</td>\n",
       "      <td>7862</td>\n",
       "      <td>...</td>\n",
       "      <td>5984</td>\n",
       "      <td>8151</td>\n",
       "      <td>8142</td>\n",
       "      <td>7539</td>\n",
       "      <td>7347</td>\n",
       "      <td>6417</td>\n",
       "      <td>6059</td>\n",
       "      <td>3645</td>\n",
       "      <td>5363</td>\n",
       "      <td>0</td>\n",
       "    </tr>\n",
       "    <tr>\n",
       "      <th>Manipur</th>\n",
       "      <td>0</td>\n",
       "      <td>19</td>\n",
       "      <td>37</td>\n",
       "      <td>9</td>\n",
       "      <td>41</td>\n",
       "      <td>24</td>\n",
       "      <td>40</td>\n",
       "      <td>5</td>\n",
       "      <td>15</td>\n",
       "      <td>132</td>\n",
       "      <td>...</td>\n",
       "      <td>315</td>\n",
       "      <td>284</td>\n",
       "      <td>214</td>\n",
       "      <td>345</td>\n",
       "      <td>156</td>\n",
       "      <td>245</td>\n",
       "      <td>138</td>\n",
       "      <td>264</td>\n",
       "      <td>180</td>\n",
       "      <td>0</td>\n",
       "    </tr>\n",
       "  </tbody>\n",
       "</table>\n",
       "<p>5 rows × 120 columns</p>\n",
       "</div>"
      ],
      "text/plain": [
       "states                       2020-07-01  2020-07-02  2020-07-03  2020-07-04  \\\n",
       "state                                                                         \n",
       "Odisha                                0         229         561         495   \n",
       "Andaman and Nicobar Islands           0           9           7           3   \n",
       "Andhra Pradesh                        0         845         837         765   \n",
       "Maharashtra                           0        6328        6364        7074   \n",
       "Manipur                               0          19          37           9   \n",
       "\n",
       "states                       2020-07-05  2020-07-06  2020-07-07  2020-07-08  \\\n",
       "state                                                                         \n",
       "Odisha                              469         456         571         527   \n",
       "Andaman and Nicobar Islands           6          16           6           2   \n",
       "Andhra Pradesh                      998        1322        1178        1062   \n",
       "Maharashtra                        6555        5368        5134        6603   \n",
       "Manipur                              41          24          40           5   \n",
       "\n",
       "states                       2020-07-09  2020-07-10  ...  2020-10-19  \\\n",
       "state                                                ...               \n",
       "Odisha                              577         755  ...        1982   \n",
       "Andaman and Nicobar Islands           7           0  ...          18   \n",
       "Andhra Pradesh                     1555        1608  ...        2918   \n",
       "Maharashtra                        6875        7862  ...        5984   \n",
       "Manipur                              15         132  ...         315   \n",
       "\n",
       "states                       2020-10-20  2020-10-21  2020-10-22  2020-10-23  \\\n",
       "state                                                                         \n",
       "Odisha                             1904        1931        1913        1793   \n",
       "Andaman and Nicobar Islands          15          27          16          23   \n",
       "Andhra Pradesh                     3503        3746        3620        3765   \n",
       "Maharashtra                        8151        8142        7539        7347   \n",
       "Manipur                             284         214         345         156   \n",
       "\n",
       "states                       2020-10-24  2020-10-25  2020-10-26  2020-10-27  \\\n",
       "state                                                                         \n",
       "Odisha                             1695        1633        1480        1247   \n",
       "Andaman and Nicobar Islands          18          20           8          21   \n",
       "Andhra Pradesh                     3342        2997        1901        2901   \n",
       "Maharashtra                        6417        6059        3645        5363   \n",
       "Manipur                             245         138         264         180   \n",
       "\n",
       "states                       2020-10-28  \n",
       "state                                    \n",
       "Odisha                             1540  \n",
       "Andaman and Nicobar Islands           0  \n",
       "Andhra Pradesh                        0  \n",
       "Maharashtra                           0  \n",
       "Manipur                               0  \n",
       "\n",
       "[5 rows x 120 columns]"
      ]
     },
     "execution_count": 18,
     "metadata": {},
     "output_type": "execute_result"
    }
   ],
   "source": [
    "#hide\n",
    "dft_ct_new_cases.head()"
   ]
  },
  {
   "cell_type": "code",
   "execution_count": 19,
   "metadata": {
    "execution": {
     "iopub.execute_input": "2020-10-28T13:01:16.485630Z",
     "iopub.status.busy": "2020-10-28T13:01:16.485040Z",
     "iopub.status.idle": "2020-10-28T13:01:20.358249Z",
     "shell.execute_reply": "2020-10-28T13:01:20.358650Z"
    },
    "papermill": {
     "duration": 3.927897,
     "end_time": "2020-10-28T13:01:20.358793",
     "exception": false,
     "start_time": "2020-10-28T13:01:16.430896",
     "status": "completed"
    },
    "tags": []
   },
   "outputs": [
    {
     "data": {
      "image/png": "[encoded data removed]",
      "text/plain": [
       "<Figure size 1296x2016 with 11 Axes>"
      ]
     },
     "metadata": {
      "needs_background": "light"
     },
     "output_type": "display_data"
    }
   ],
   "source": [
    "#hide_input\n",
    "df = dft_ct_new_cases.copy()\n",
    "df.loc['Total'] = df.sum()\n",
    "n = 5\n",
    "ax = []\n",
    "fig = plt.figure(figsize = (18,28))\n",
    "gs = fig.add_gridspec(n+2, 5)\n",
    "# gs = fig.add_gridspec(2, 3)\n",
    "ax1 = fig.add_subplot(gs[0, :])\n",
    "ef = df.loc['Total'].rename_axis('date').reset_index()\n",
    "ef['date'] = ef['date'].astype('datetime64[ns]')\n",
    "ax1.bar(ef.date,ef.Total,alpha=0.3,color='#007acc')\n",
    "ax1.plot(ef.date,ef.Total , marker=\"o\", color='#007acc')\n",
    "ax1.xaxis.set_major_locator(mdates.WeekdayLocator())\n",
    "ax1.xaxis.set_major_formatter(mdates.DateFormatter('%b %d'))\n",
    "ax1.text(0.02, 0.5,'India daily case count', transform = ax1.transAxes, fontsize=25);\n",
    "ax1.spines['right'].set_visible(False)\n",
    "ax1.spines['top'].set_visible(False)\n",
    "\n",
    "ax2 = fig.add_subplot(gs[1,0])\n",
    "ef = df.loc['Maharashtra'].rename_axis('date').reset_index()\n",
    "ef['date'] = ef['date'].astype('datetime64[ns]')\n",
    "\n",
    "ax2.bar(ef.date, ef.Maharashtra,color = '#007acc',alpha=0.5)\n",
    "ax2.xaxis.set_major_locator(mdates.WeekdayLocator())\n",
    "ax2.xaxis.set_major_formatter(mdates.DateFormatter('%b %d'))\n",
    "ax2.set_xticks(ax2.get_xticks()[::3])\n",
    "maxyval = ef.Maharashtra.max()\n",
    "ax2.set_ylim([0,maxyval])\n",
    "ax2.text(0.05, 0.9,'Maharashtra', transform = ax2.transAxes, fontsize=20);\n",
    "ax2.spines['right'].set_visible(False)\n",
    "ax2.spines['top'].set_visible(False)\n",
    "\n",
    "\n",
    "ax3 = fig.add_subplot(gs[1,1])\n",
    "ef = df.loc['Tamil Nadu'].rename_axis('date').reset_index()\n",
    "ef['date'] = ef['date'].astype('datetime64[ns]')\n",
    "ax3.bar(ef.date, ef['Tamil Nadu'],color = '#007acc',alpha=0.5,)\n",
    "ax3.xaxis.set_major_locator(mdates.WeekdayLocator())\n",
    "ax3.xaxis.set_major_formatter(mdates.DateFormatter('%b %d'))\n",
    "ax3.set_xticks(ax3.get_xticks()[::3])\n",
    "ax3.text(0.05, 0.9,'Tamil Nadu', transform = ax3.transAxes, fontsize=20);\n",
    "ax3.spines['right'].set_visible(False)\n",
    "ax3.spines['top'].set_visible(False)\n",
    "\n",
    "ax5 = fig.add_subplot(gs[1,3])\n",
    "ef = df.loc['Telangana'].rename_axis('date').reset_index()\n",
    "ef['date'] = ef['date'].astype('datetime64[ns]')\n",
    "ax5.bar(ef.date, ef['Telangana'],color = '#007acc',alpha=0.5,)\n",
    "ax5.xaxis.set_major_locator(mdates.WeekdayLocator())\n",
    "ax5.xaxis.set_major_formatter(mdates.DateFormatter('%b %d'))\n",
    "ax5.set_xticks(ax5.get_xticks()[::3])\n",
    "ax5.text(0.05, 0.9,'Telangana', transform = ax5.transAxes, fontsize=20);\n",
    "ax5.spines['right'].set_visible(False)\n",
    "ax5.spines['top'].set_visible(False)\n",
    "\n",
    "ax6 = fig.add_subplot(gs[1,4])\n",
    "ef = df.loc['Andhra Pradesh'].rename_axis('date').reset_index()\n",
    "ef['date'] = ef['date'].astype('datetime64[ns]')\n",
    "ax6.bar(ef.date, ef['Andhra Pradesh'],color = '#007acc',alpha=0.5,)\n",
    "ax6.xaxis.set_major_locator(mdates.WeekdayLocator())\n",
    "ax6.xaxis.set_major_formatter(mdates.DateFormatter('%b %d'))\n",
    "ax6.set_xticks(ax6.get_xticks()[::3])\n",
    "ax6.text(0.05, 1,'Andhra Pradesh', transform = ax6.transAxes, fontsize=20);\n",
    "ax6.spines['right'].set_visible(False)\n",
    "ax6.spines['top'].set_visible(False)\n",
    "\n",
    "ax4 = fig.add_subplot(gs[1,2])\n",
    "ef = df.loc['Delhi'].rename_axis('date').reset_index()\n",
    "ef['date'] = ef['date'].astype('datetime64[ns]')\n",
    "ax4.bar(ef.date, ef.Delhi,color = '#007acc',alpha=0.5)\n",
    "ax4.set_xticks([])\n",
    "ax4.xaxis.set_major_locator(mdates.WeekdayLocator())\n",
    "ax4.xaxis.set_major_formatter(mdates.DateFormatter('%b %d'))\n",
    "ax4.set_xticks(ax4.get_xticks()[::3])\n",
    "ax4.spines['right'].set_visible(False)\n",
    "ax4.spines['top'].set_visible(False)\n",
    "\n",
    "ax4.text(0.05, 1,'Delhi', transform = ax4.transAxes, fontsize=20)\n",
    "\n",
    "for i in range(n):\n",
    "    \n",
    "    ax.append(fig.add_subplot(gs[i+2,:]))\n",
    "    ef = df.iloc[i+3].rename_axis('date').reset_index()\n",
    "    ef['date'] = ef['date'].astype('datetime64[ns]')\n",
    "    ax[i].bar(ef.date,ef.iloc[:,-1],color = '#007acc',alpha=0.3)\n",
    "    ax[i].plot(ef.date,ef.iloc[:,-1],marker='o',color='#007acc')\n",
    "    ax[i].text(0.02,0.5,f'{ef.columns.values[-1]}',transform = ax[i].transAxes, fontsize = 20);\n",
    "    ax[i].xaxis.set_major_locator(mdates.WeekdayLocator())\n",
    "    ax[i].xaxis.set_major_formatter(mdates.DateFormatter('%b %d'))\n",
    "    ax[i].set_ylim([0,7000])\n",
    "    ax[i].spines['right'].set_visible(False)\n",
    "    ax[i].spines['top'].set_visible(False)\n",
    "plt.tight_layout()\n"
   ]
  },
  {
   "cell_type": "code",
   "execution_count": 20,
   "metadata": {
    "execution": {
     "iopub.execute_input": "2020-10-28T13:01:20.401771Z",
     "iopub.status.busy": "2020-10-28T13:01:20.401231Z",
     "iopub.status.idle": "2020-10-28T13:01:20.403429Z",
     "shell.execute_reply": "2020-10-28T13:01:20.403826Z"
    },
    "papermill": {
     "duration": 0.02781,
     "end_time": "2020-10-28T13:01:20.403941",
     "exception": false,
     "start_time": "2020-10-28T13:01:20.376131",
     "status": "completed"
    },
    "tags": []
   },
   "outputs": [
    {
     "name": "stdout",
     "output_type": "stream",
     "text": [
      "                                   states    Cases  Deaths   PCases  PDeaths  Cases (+)  Deaths (+)  Fatality Rate\n",
      "                              Maharashtra  1654028   43463  1654028    43463          0           0           2.63\n",
      "                           Andhra Pradesh   811825    6625   811825     6625          0           0           0.82\n",
      "                                Karnataka   809638   10991   809638    10991          0           0           1.36\n",
      "                               Tamil Nadu   714235   10983   714235    10983          0           0           1.54\n",
      "                            Uttar Pradesh   474054    6940   474054     6940          0           0           1.46\n",
      "                                   Kerala   402675    1377   402675     1377          0           0           0.34\n",
      "                                    Delhi   364341    6356   364341     6356          0           0           1.74\n",
      "                              West Bengal   357779    6604   357779     6604          0           0           1.85\n",
      "                                   Odisha   285482    1337   283942     1325       1540          12           0.47\n",
      "                                Telangana   232671    1315   232671     1315          0           0           0.57\n",
      "                                    Bihar   213383    1065   213383     1065          0           0           0.50\n",
      "                                    Assam   204789     914   204789      914          0           0           0.45\n",
      "                                Rajasthan   189844    1867   189844     1867          0           0           0.98\n",
      "                             Chhattisgarh   179654    1881   179654     1881          0           0           1.05\n",
      "                                  Gujarat   169073    3698   169073     3698          0           0           2.19\n",
      "                           Madhya Pradesh   168483    2898   168483     2898          0           0           1.72\n",
      "                                  Haryana   160705    1750   160705     1750          0           0           1.09\n",
      "                                   Punjab   131737    4138   131737     4138          0           0           3.14\n",
      "                                Jharkhand   100224     876   100224      876          0           0           0.87\n",
      "                        Jammu and Kashmir    92677    1451    92677     1451          0           0           1.57\n",
      "                              Uttarakhand    60957    1007    60957     1007          0           0           1.65\n",
      "                                      Goa    42747     585    42747      585          0           0           1.37\n",
      "                               Puducherry    34482     588    34482      588          0           0           1.71\n",
      "                                  Tripura    30290     341    30290      341          0           0           1.13\n",
      "                         Himachal Pradesh    20817     293    20817      293          0           0           1.41\n",
      "                                  Manipur    17604     150    17604      150          0           0           0.85\n",
      "                        Arunachal Pradesh    14472      36    14472       36          0           0           0.25\n",
      "                               Chandigarh    14152     223    14152      223          0           0           1.58\n",
      "                                Meghalaya     9138      82     9138       82          0           0           0.90\n",
      "                                 Nagaland     8772      33     8772       33          0           0           0.38\n",
      "                                   Ladakh     6024      73     6024       73          0           0           1.21\n",
      "              Andaman and Nicobar Islands     4274      58     4274       58          0           0           1.36\n",
      "                                   Sikkim     3863      67     3863       67          0           0           1.73\n",
      " Dadra and Nagar Haveli and Daman and Diu     3227       2     3227        2          0           0           0.06\n",
      "                                  Mizoram     2527       0     2527        0          0           0           0.00\n",
      "                              Lakshadweep        0       0        0        0          0           0            NaN\n"
     ]
    }
   ],
   "source": [
    "#hide_input\n",
    "print(df_table.to_string(index=False))"
   ]
  },
  {
   "cell_type": "code",
   "execution_count": null,
   "metadata": {
    "papermill": {
     "duration": 0.021413,
     "end_time": "2020-10-28T13:01:20.445183",
     "exception": false,
     "start_time": "2020-10-28T13:01:20.423770",
     "status": "completed"
    },
    "tags": []
   },
   "outputs": [],
   "source": []
  },
  {
   "cell_type": "code",
   "execution_count": null,
   "metadata": {
    "papermill": {
     "duration": 0.021403,
     "end_time": "2020-10-28T13:01:20.487121",
     "exception": false,
     "start_time": "2020-10-28T13:01:20.465718",
     "status": "completed"
    },
    "tags": []
   },
   "outputs": [],
   "source": []
  }
 ],
 "metadata": {
  "kernelspec": {
   "display_name": "Python 3",
   "language": "python",
   "name": "python3"
  },
  "language_info": {
   "codemirror_mode": {
    "name": "ipython",
    "version": 3
   },
   "file_extension": ".py",
   "mimetype": "text/x-python",
   "name": "python",
   "nbconvert_exporter": "python",
   "pygments_lexer": "ipython3",
   "version": "3.6.12"
  },
  "papermill": {
   "duration": 9.948583,
   "end_time": "2020-10-28T13:01:20.916610",
   "environment_variables": {},
   "exception": null,
   "input_path": "latest.ipynb",
   "output_path": "latest.ipynb",
   "parameters": {},
   "start_time": "2020-10-28T13:01:10.968027",
   "version": "2.1.2"
  }
 },
 "nbformat": 4,
 "nbformat_minor": 4
}