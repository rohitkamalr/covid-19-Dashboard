{
 "cells": [
  {
   "cell_type": "markdown",
   "metadata": {
    "papermill": {
     "duration": 0.045127,
     "end_time": "2020-08-13T11:17:08.363144",
     "exception": false,
     "start_time": "2020-08-13T11:17:08.318017",
     "status": "completed"
    },
    "tags": []
   },
   "source": [
    "# Latest COVID-19 India Matplotlib Overview"
   ]
  },
  {
   "cell_type": "code",
   "execution_count": 1,
   "metadata": {
    "execution": {
     "iopub.execute_input": "2020-08-13T11:17:08.686823Z",
     "iopub.status.busy": "2020-08-13T11:17:08.685836Z",
     "iopub.status.idle": "2020-08-13T11:17:09.371838Z",
     "shell.execute_reply": "2020-08-13T11:17:09.371191Z"
    },
    "papermill": {
     "duration": 0.730736,
     "end_time": "2020-08-13T11:17:09.372123",
     "exception": false,
     "start_time": "2020-08-13T11:17:08.641387",
     "status": "completed"
    },
    "tags": []
   },
   "outputs": [],
   "source": [
    "#hide\n",
    "import pandas as pd\n",
    "import numpy as np\n",
    "import requests\n",
    "import json\n",
    "import matplotlib.pyplot as plt\n",
    "import matplotlib.dates as mdates\n",
    "import matplotlib as mpl\n",
    "from IPython.core.display import display,HTML\n",
    "%matplotlib inline\n",
    "from datetime import date"
   ]
  },
  {
   "cell_type": "code",
   "execution_count": 2,
   "metadata": {
    "execution": {
     "iopub.execute_input": "2020-08-13T11:17:09.416708Z",
     "iopub.status.busy": "2020-08-13T11:17:09.416026Z",
     "iopub.status.idle": "2020-08-13T11:17:09.793165Z",
     "shell.execute_reply": "2020-08-13T11:17:09.792571Z"
    },
    "papermill": {
     "duration": 0.403917,
     "end_time": "2020-08-13T11:17:09.793340",
     "exception": false,
     "start_time": "2020-08-13T11:17:09.389423",
     "status": "completed"
    },
    "tags": []
   },
   "outputs": [],
   "source": [
    "#hide\n",
    "df  = pd.read_csv('https://api.covid19india.org/csv/latest/states.csv')\n",
    "df = df[['Date','State','Confirmed','Deceased']]\n",
    "df = df.rename(columns={'Confirmed':'Cases', \"Deceased\":'Deaths'})\n",
    "df_cases = df[[\"Date\",'State','Cases']]\n",
    "df_deaths = df[['Date','State','Deaths']]\n",
    "df_cases1 = df_cases.groupby('Date')\n",
    "df_deaths1= df_deaths.groupby('Date')"
   ]
  },
  {
   "cell_type": "code",
   "execution_count": 3,
   "metadata": {
    "execution": {
     "iopub.execute_input": "2020-08-13T11:17:09.833844Z",
     "iopub.status.busy": "2020-08-13T11:17:09.833236Z",
     "iopub.status.idle": "2020-08-13T11:17:09.852046Z",
     "shell.execute_reply": "2020-08-13T11:17:09.851564Z"
    },
    "papermill": {
     "duration": 0.040382,
     "end_time": "2020-08-13T11:17:09.852191",
     "exception": false,
     "start_time": "2020-08-13T11:17:09.811809",
     "status": "completed"
    },
    "tags": []
   },
   "outputs": [],
   "source": [
    "#hide\n",
    "df_snap = pd.read_csv('data/SnapshotCases-28-July.csv')\n",
    "arr_states = df_snap['states'].unique()\n",
    "arr_dates = df['Date'].unique()\n",
    "df_snap = df_snap.set_index('states')"
   ]
  },
  {
   "cell_type": "code",
   "execution_count": 4,
   "metadata": {
    "execution": {
     "iopub.execute_input": "2020-08-13T11:17:09.895236Z",
     "iopub.status.busy": "2020-08-13T11:17:09.894549Z",
     "iopub.status.idle": "2020-08-13T11:17:09.899616Z",
     "shell.execute_reply": "2020-08-13T11:17:09.898966Z"
    },
    "papermill": {
     "duration": 0.029466,
     "end_time": "2020-08-13T11:17:09.899755",
     "exception": false,
     "start_time": "2020-08-13T11:17:09.870289",
     "status": "completed"
    },
    "tags": []
   },
   "outputs": [
    {
     "data": {
      "text/plain": [
       "array(['Andaman and Nicobar Islands', 'Andhra Pradesh',\n",
       "       'Arunachal Pradesh', 'Assam', 'Bihar', 'Chandigarh',\n",
       "       'Dadra and Nagar Haveli and Daman and Diu', 'Delhi', 'Goa',\n",
       "       'Gujarat', 'Haryana', 'Himachal Pradesh', 'Jammu and Kashmir',\n",
       "       'Jharkhand', 'Karnataka', 'Kerala', 'Lakshadweep',\n",
       "       'Madhya Pradesh', 'Maharashtra', 'Manipur', 'Meghalaya', 'Mizoram',\n",
       "       'Nagaland', 'Odisha', 'Puducherry', 'Punjab', 'Rajasthan',\n",
       "       'Sikkim', 'Tamil Nadu', 'Telangana', 'Tripura', 'Uttar Pradesh',\n",
       "       'West Bengal', 'Chhattisgarh', 'Ladakh', 'Uttarakhand'],\n",
       "      dtype=object)"
      ]
     },
     "execution_count": 4,
     "metadata": {},
     "output_type": "execute_result"
    }
   ],
   "source": [
    "#hide\n",
    "arr_states[-9] = 'Puducherry'\n",
    "arr_states[-10] = 'Odisha'\n",
    "arr_states[6] = 'Dadra and Nagar Haveli and Daman and Diu'\n",
    "arr_states = np.append(arr_states,np.array(['Chhattisgarh','Ladakh','Uttarakhand']))\n",
    "arr_states"
   ]
  },
  {
   "cell_type": "code",
   "execution_count": 5,
   "metadata": {
    "execution": {
     "iopub.execute_input": "2020-08-13T11:17:09.944778Z",
     "iopub.status.busy": "2020-08-13T11:17:09.944192Z",
     "iopub.status.idle": "2020-08-13T11:17:09.952119Z",
     "shell.execute_reply": "2020-08-13T11:17:09.952673Z"
    },
    "papermill": {
     "duration": 0.034963,
     "end_time": "2020-08-13T11:17:09.953054",
     "exception": false,
     "start_time": "2020-08-13T11:17:09.918091",
     "status": "completed"
    },
    "tags": []
   },
   "outputs": [],
   "source": [
    "#hide\n",
    "dates = []\n",
    "for i in arr_dates:\n",
    "    if i>='2020-07-01':\n",
    "        dates.append(i)\n",
    "dict = {'states':dates}\n",
    "for i in arr_states:\n",
    "    dict[i] = [0]*len(dates)\n",
    "dft_cases = pd.DataFrame(dict)\n",
    "dft_deaths = pd.DataFrame(dict)\n"
   ]
  },
  {
   "cell_type": "code",
   "execution_count": 6,
   "metadata": {
    "execution": {
     "iopub.execute_input": "2020-08-13T11:17:09.995717Z",
     "iopub.status.busy": "2020-08-13T11:17:09.994884Z",
     "iopub.status.idle": "2020-08-13T11:17:10.835196Z",
     "shell.execute_reply": "2020-08-13T11:17:10.834585Z"
    },
    "papermill": {
     "duration": 0.863404,
     "end_time": "2020-08-13T11:17:10.835357",
     "exception": false,
     "start_time": "2020-08-13T11:17:09.971953",
     "status": "completed"
    },
    "tags": []
   },
   "outputs": [],
   "source": [
    "#hide\n",
    "for i in range(len(dates)):\n",
    "    df1_deaths = df_deaths1.get_group(dates[i])\n",
    "    for j in range(len(df1_deaths.index)):\n",
    "        if df1_deaths.iloc[j,1] in arr_states:\n",
    "            dft_deaths.loc[i,df1_deaths.iloc[j,1]] = df1_deaths.iloc[j,2]\n",
    "dft_deaths = dft_deaths.set_index('states')"
   ]
  },
  {
   "cell_type": "code",
   "execution_count": 7,
   "metadata": {
    "execution": {
     "iopub.execute_input": "2020-08-13T11:17:10.879464Z",
     "iopub.status.busy": "2020-08-13T11:17:10.878803Z",
     "iopub.status.idle": "2020-08-13T11:17:11.719961Z",
     "shell.execute_reply": "2020-08-13T11:17:11.718831Z"
    },
    "papermill": {
     "duration": 0.865063,
     "end_time": "2020-08-13T11:17:11.720133",
     "exception": false,
     "start_time": "2020-08-13T11:17:10.855070",
     "status": "completed"
    },
    "tags": []
   },
   "outputs": [],
   "source": [
    "#hide\n",
    "for i in range(len(dates)):\n",
    "    df1_cases = df_cases1.get_group(dates[i])\n",
    "    for j in range(len(df1_cases.index)):\n",
    "        if df1_cases.iloc[j,1] in arr_states:\n",
    "            dft_cases.loc[i,df1_cases.iloc[j,1]] = df1_cases.iloc[j,2]\n",
    "dft_cases = dft_cases.set_index('states')"
   ]
  },
  {
   "cell_type": "code",
   "execution_count": 8,
   "metadata": {
    "execution": {
     "iopub.execute_input": "2020-08-13T11:17:11.763443Z",
     "iopub.status.busy": "2020-08-13T11:17:11.762718Z",
     "iopub.status.idle": "2020-08-13T11:17:11.766913Z",
     "shell.execute_reply": "2020-08-13T11:17:11.766375Z"
    },
    "papermill": {
     "duration": 0.028397,
     "end_time": "2020-08-13T11:17:11.767050",
     "exception": false,
     "start_time": "2020-08-13T11:17:11.738653",
     "status": "completed"
    },
    "tags": []
   },
   "outputs": [],
   "source": [
    "#hide\n",
    "dft_cases = dft_cases.T\n",
    "dft_deaths = dft_deaths.T\n",
    "dt_today = dates[-1]\n",
    "dt_yday = dates[-2]"
   ]
  },
  {
   "cell_type": "code",
   "execution_count": 9,
   "metadata": {
    "execution": {
     "iopub.execute_input": "2020-08-13T11:17:11.815363Z",
     "iopub.status.busy": "2020-08-13T11:17:11.814675Z",
     "iopub.status.idle": "2020-08-13T11:17:11.817109Z",
     "shell.execute_reply": "2020-08-13T11:17:11.816499Z"
    },
    "papermill": {
     "duration": 0.030433,
     "end_time": "2020-08-13T11:17:11.817241",
     "exception": false,
     "start_time": "2020-08-13T11:17:11.786808",
     "status": "completed"
    },
    "tags": []
   },
   "outputs": [],
   "source": [
    "#hide\n",
    "dft_cases = dft_cases.reset_index()\n",
    "dft_deaths = dft_deaths.reset_index()\n",
    "dft_cases = dft_cases.rename(columns = {'index':'state'})\n",
    "dft_deaths = dft_deaths.rename(columns = {'index':'state'})"
   ]
  },
  {
   "cell_type": "code",
   "execution_count": 10,
   "metadata": {
    "execution": {
     "iopub.execute_input": "2020-08-13T11:17:11.865092Z",
     "iopub.status.busy": "2020-08-13T11:17:11.864414Z",
     "iopub.status.idle": "2020-08-13T11:17:11.868424Z",
     "shell.execute_reply": "2020-08-13T11:17:11.867913Z"
    },
    "papermill": {
     "duration": 0.033774,
     "end_time": "2020-08-13T11:17:11.868743",
     "exception": false,
     "start_time": "2020-08-13T11:17:11.834969",
     "status": "completed"
    },
    "tags": []
   },
   "outputs": [],
   "source": [
    "#hide\n",
    "dfc_cases = dft_cases.groupby('state')[dt_today].sum()\n",
    "dfc_deaths = dft_deaths.groupby('state')[dt_today].sum()\n",
    "dfp_cases = dft_cases.groupby('state')[dt_yday].sum()\n",
    "dfp_deaths = dft_deaths.groupby('state')[dt_yday].sum()"
   ]
  },
  {
   "cell_type": "code",
   "execution_count": 11,
   "metadata": {
    "execution": {
     "iopub.execute_input": "2020-08-13T11:17:11.921820Z",
     "iopub.status.busy": "2020-08-13T11:17:11.914080Z",
     "iopub.status.idle": "2020-08-13T11:17:11.929671Z",
     "shell.execute_reply": "2020-08-13T11:17:11.930348Z"
    },
    "papermill": {
     "duration": 0.042673,
     "end_time": "2020-08-13T11:17:11.930544",
     "exception": false,
     "start_time": "2020-08-13T11:17:11.887871",
     "status": "completed"
    },
    "tags": []
   },
   "outputs": [
    {
     "data": {
      "text/html": [
       "<div>\n",
       "<style scoped>\n",
       "    .dataframe tbody tr th:only-of-type {\n",
       "        vertical-align: middle;\n",
       "    }\n",
       "\n",
       "    .dataframe tbody tr th {\n",
       "        vertical-align: top;\n",
       "    }\n",
       "\n",
       "    .dataframe thead th {\n",
       "        text-align: right;\n",
       "    }\n",
       "</style>\n",
       "<table border=\"1\" class=\"dataframe\">\n",
       "  <thead>\n",
       "    <tr style=\"text-align: right;\">\n",
       "      <th></th>\n",
       "      <th>states</th>\n",
       "      <th>Cases</th>\n",
       "      <th>Deaths</th>\n",
       "      <th>PCases</th>\n",
       "      <th>PDeaths</th>\n",
       "    </tr>\n",
       "  </thead>\n",
       "  <tbody>\n",
       "    <tr>\n",
       "      <th>0</th>\n",
       "      <td>Maharashtra</td>\n",
       "      <td>548313</td>\n",
       "      <td>18650</td>\n",
       "      <td>548313</td>\n",
       "      <td>18650</td>\n",
       "    </tr>\n",
       "    <tr>\n",
       "      <th>1</th>\n",
       "      <td>Tamil Nadu</td>\n",
       "      <td>314520</td>\n",
       "      <td>5278</td>\n",
       "      <td>314520</td>\n",
       "      <td>5278</td>\n",
       "    </tr>\n",
       "    <tr>\n",
       "      <th>2</th>\n",
       "      <td>Andhra Pradesh</td>\n",
       "      <td>264142</td>\n",
       "      <td>2378</td>\n",
       "      <td>254146</td>\n",
       "      <td>2296</td>\n",
       "    </tr>\n",
       "    <tr>\n",
       "      <th>3</th>\n",
       "      <td>Karnataka</td>\n",
       "      <td>196494</td>\n",
       "      <td>3511</td>\n",
       "      <td>196494</td>\n",
       "      <td>3511</td>\n",
       "    </tr>\n",
       "    <tr>\n",
       "      <th>4</th>\n",
       "      <td>Delhi</td>\n",
       "      <td>148504</td>\n",
       "      <td>4153</td>\n",
       "      <td>148504</td>\n",
       "      <td>4153</td>\n",
       "    </tr>\n",
       "  </tbody>\n",
       "</table>\n",
       "</div>"
      ],
      "text/plain": [
       "           states   Cases  Deaths  PCases  PDeaths\n",
       "0     Maharashtra  548313   18650  548313    18650\n",
       "1      Tamil Nadu  314520    5278  314520     5278\n",
       "2  Andhra Pradesh  264142    2378  254146     2296\n",
       "3       Karnataka  196494    3511  196494     3511\n",
       "4           Delhi  148504    4153  148504     4153"
      ]
     },
     "execution_count": 11,
     "metadata": {},
     "output_type": "execute_result"
    }
   ],
   "source": [
    "#hide\n",
    "df_table = pd.DataFrame({'states': dfc_cases.index, 'Cases': dfc_cases.values, 'Deaths': dfc_deaths.values, 'PCases': dfp_cases.values, 'PDeaths': dfp_deaths.values}).set_index('states')\n",
    "df_table = df_table.sort_values(by = ['Cases','Deaths'], ascending = [False, False])\n",
    "df_table = df_table.reset_index()\n",
    "df_table.head()"
   ]
  },
  {
   "cell_type": "code",
   "execution_count": 12,
   "metadata": {
    "execution": {
     "iopub.execute_input": "2020-08-13T11:17:11.973728Z",
     "iopub.status.busy": "2020-08-13T11:17:11.973033Z",
     "iopub.status.idle": "2020-08-13T11:17:11.983855Z",
     "shell.execute_reply": "2020-08-13T11:17:11.984461Z"
    },
    "papermill": {
     "duration": 0.036024,
     "end_time": "2020-08-13T11:17:11.984627",
     "exception": false,
     "start_time": "2020-08-13T11:17:11.948603",
     "status": "completed"
    },
    "tags": []
   },
   "outputs": [],
   "source": [
    "#hide\n",
    "for c in 'Cases, Deaths'.split(', '):\n",
    "    df_table[f'{c} (+)'] = (df_table[c] - df_table[f'P{c}']).clip(0)\n",
    "df_table['Fatality Rate'] = (100* df_table['Deaths']/ df_table['Cases']).round(2)"
   ]
  },
  {
   "cell_type": "code",
   "execution_count": 13,
   "metadata": {
    "execution": {
     "iopub.execute_input": "2020-08-13T11:17:12.034329Z",
     "iopub.status.busy": "2020-08-13T11:17:12.033503Z",
     "iopub.status.idle": "2020-08-13T11:17:12.036360Z",
     "shell.execute_reply": "2020-08-13T11:17:12.036954Z"
    },
    "papermill": {
     "duration": 0.033137,
     "end_time": "2020-08-13T11:17:12.037106",
     "exception": false,
     "start_time": "2020-08-13T11:17:12.003969",
     "status": "completed"
    },
    "tags": []
   },
   "outputs": [
    {
     "data": {
      "text/html": [
       "<div>\n",
       "<style scoped>\n",
       "    .dataframe tbody tr th:only-of-type {\n",
       "        vertical-align: middle;\n",
       "    }\n",
       "\n",
       "    .dataframe tbody tr th {\n",
       "        vertical-align: top;\n",
       "    }\n",
       "\n",
       "    .dataframe thead th {\n",
       "        text-align: right;\n",
       "    }\n",
       "</style>\n",
       "<table border=\"1\" class=\"dataframe\">\n",
       "  <thead>\n",
       "    <tr style=\"text-align: right;\">\n",
       "      <th></th>\n",
       "      <th>states</th>\n",
       "      <th>Cases</th>\n",
       "      <th>Deaths</th>\n",
       "      <th>PCases</th>\n",
       "      <th>PDeaths</th>\n",
       "      <th>Cases (+)</th>\n",
       "      <th>Deaths (+)</th>\n",
       "      <th>Fatality Rate</th>\n",
       "    </tr>\n",
       "  </thead>\n",
       "  <tbody>\n",
       "    <tr>\n",
       "      <th>0</th>\n",
       "      <td>Maharashtra</td>\n",
       "      <td>548313</td>\n",
       "      <td>18650</td>\n",
       "      <td>548313</td>\n",
       "      <td>18650</td>\n",
       "      <td>0</td>\n",
       "      <td>0</td>\n",
       "      <td>3.40</td>\n",
       "    </tr>\n",
       "    <tr>\n",
       "      <th>1</th>\n",
       "      <td>Tamil Nadu</td>\n",
       "      <td>314520</td>\n",
       "      <td>5278</td>\n",
       "      <td>314520</td>\n",
       "      <td>5278</td>\n",
       "      <td>0</td>\n",
       "      <td>0</td>\n",
       "      <td>1.68</td>\n",
       "    </tr>\n",
       "    <tr>\n",
       "      <th>2</th>\n",
       "      <td>Andhra Pradesh</td>\n",
       "      <td>264142</td>\n",
       "      <td>2378</td>\n",
       "      <td>254146</td>\n",
       "      <td>2296</td>\n",
       "      <td>9996</td>\n",
       "      <td>82</td>\n",
       "      <td>0.90</td>\n",
       "    </tr>\n",
       "    <tr>\n",
       "      <th>3</th>\n",
       "      <td>Karnataka</td>\n",
       "      <td>196494</td>\n",
       "      <td>3511</td>\n",
       "      <td>196494</td>\n",
       "      <td>3511</td>\n",
       "      <td>0</td>\n",
       "      <td>0</td>\n",
       "      <td>1.79</td>\n",
       "    </tr>\n",
       "    <tr>\n",
       "      <th>4</th>\n",
       "      <td>Delhi</td>\n",
       "      <td>148504</td>\n",
       "      <td>4153</td>\n",
       "      <td>148504</td>\n",
       "      <td>4153</td>\n",
       "      <td>0</td>\n",
       "      <td>0</td>\n",
       "      <td>2.80</td>\n",
       "    </tr>\n",
       "  </tbody>\n",
       "</table>\n",
       "</div>"
      ],
      "text/plain": [
       "           states   Cases  Deaths  PCases  PDeaths  Cases (+)  Deaths (+)  \\\n",
       "0     Maharashtra  548313   18650  548313    18650          0           0   \n",
       "1      Tamil Nadu  314520    5278  314520     5278          0           0   \n",
       "2  Andhra Pradesh  264142    2378  254146     2296       9996          82   \n",
       "3       Karnataka  196494    3511  196494     3511          0           0   \n",
       "4           Delhi  148504    4153  148504     4153          0           0   \n",
       "\n",
       "   Fatality Rate  \n",
       "0           3.40  \n",
       "1           1.68  \n",
       "2           0.90  \n",
       "3           1.79  \n",
       "4           2.80  "
      ]
     },
     "execution_count": 13,
     "metadata": {},
     "output_type": "execute_result"
    }
   ],
   "source": [
    "#hide\n",
    "df_table.head()"
   ]
  },
  {
   "cell_type": "code",
   "execution_count": 14,
   "metadata": {
    "execution": {
     "iopub.execute_input": "2020-08-13T11:17:12.082182Z",
     "iopub.status.busy": "2020-08-13T11:17:12.081304Z",
     "iopub.status.idle": "2020-08-13T11:17:12.101469Z",
     "shell.execute_reply": "2020-08-13T11:17:12.100839Z"
    },
    "papermill": {
     "duration": 0.045645,
     "end_time": "2020-08-13T11:17:12.101618",
     "exception": false,
     "start_time": "2020-08-13T11:17:12.055973",
     "status": "completed"
    },
    "tags": []
   },
   "outputs": [
    {
     "data": {
      "text/plain": [
       "{'updated': '2020-08-13',\n",
       " 'since': '2020-08-12',\n",
       " 'Cases': 2410515,\n",
       " 'PCases': 2395471,\n",
       " 'Deaths': 47258,\n",
       " 'PDeaths': 47138,\n",
       " 'Cases (+)': 15044,\n",
       " 'Deaths (+)': 120}"
      ]
     },
     "execution_count": 14,
     "metadata": {},
     "output_type": "execute_result"
    }
   ],
   "source": [
    "#hide\n",
    "summary = {'updated':dates[-1], 'since':dates[-2]}\n",
    "list_names = ['Cases', 'PCases', 'Deaths', 'PDeaths', 'Cases (+)', 'Deaths (+)']\n",
    "for name in list_names:\n",
    "    summary[name] = df_table.sum()[name]\n",
    "summary"
   ]
  },
  {
   "cell_type": "code",
   "execution_count": 15,
   "metadata": {
    "execution": {
     "iopub.execute_input": "2020-08-13T11:17:12.145293Z",
     "iopub.status.busy": "2020-08-13T11:17:12.144537Z",
     "iopub.status.idle": "2020-08-13T11:17:12.149004Z",
     "shell.execute_reply": "2020-08-13T11:17:12.149592Z"
    },
    "papermill": {
     "duration": 0.028146,
     "end_time": "2020-08-13T11:17:12.149733",
     "exception": false,
     "start_time": "2020-08-13T11:17:12.121587",
     "status": "completed"
    },
    "tags": []
   },
   "outputs": [],
   "source": [
    "#hide\n",
    "overview = '''\n",
    "<!-- #######  HTML!! #########-->\n",
    "<h1 style=\"color: #5e9ca0; text-align: center;\">India</h1>\n",
    "<p style=\"text-align: center;\">Last update: <strong>{update}</strong></p>\n",
    "<p style=\"text-align: center;\">Confirmed cases:</p>\n",
    "<p style=\"text-align: center;font-size:24px;\">{cases} (<span style=\"color: #ff0000;\">+{new}</span>)</p>\n",
    "<p style=\"text-align: center;\">Confirmed deaths:</p>\n",
    "<p style=\"text-align: center;font-size:24px;\">{deaths} (<span style=\"color: #ff0000;\">+{dnew}</span>)</p>\n",
    "'''"
   ]
  },
  {
   "cell_type": "code",
   "execution_count": 16,
   "metadata": {
    "execution": {
     "iopub.execute_input": "2020-08-13T11:17:12.192194Z",
     "iopub.status.busy": "2020-08-13T11:17:12.191486Z",
     "iopub.status.idle": "2020-08-13T11:17:12.194688Z",
     "shell.execute_reply": "2020-08-13T11:17:12.195270Z"
    },
    "papermill": {
     "duration": 0.02769,
     "end_time": "2020-08-13T11:17:12.195449",
     "exception": false,
     "start_time": "2020-08-13T11:17:12.167759",
     "status": "completed"
    },
    "tags": []
   },
   "outputs": [
    {
     "data": {
      "text/html": [
       "\n",
       "<!-- #######  HTML!! #########-->\n",
       "<h1 style=\"color: #5e9ca0; text-align: center;\">India</h1>\n",
       "<p style=\"text-align: center;\">Last update: <strong>2020-08-13</strong></p>\n",
       "<p style=\"text-align: center;\">Confirmed cases:</p>\n",
       "<p style=\"text-align: center;font-size:24px;\">2410515 (<span style=\"color: #ff0000;\">+15044</span>)</p>\n",
       "<p style=\"text-align: center;\">Confirmed deaths:</p>\n",
       "<p style=\"text-align: center;font-size:24px;\">47258 (<span style=\"color: #ff0000;\">+120</span>)</p>\n"
      ],
      "text/plain": [
       "<IPython.core.display.HTML object>"
      ]
     },
     "metadata": {},
     "output_type": "display_data"
    }
   ],
   "source": [
    "#hide_input\n",
    "update = summary['updated']\n",
    "cases = summary['Cases']\n",
    "new = summary['Cases (+)']\n",
    "deaths = summary['Deaths']\n",
    "dnew = summary['Deaths (+)']\n",
    "\n",
    "html = HTML(overview.format(update=update, cases=cases,new=new,deaths=deaths,dnew=dnew))\n",
    "\n",
    "display(html)"
   ]
  },
  {
   "cell_type": "code",
   "execution_count": 17,
   "metadata": {
    "execution": {
     "iopub.execute_input": "2020-08-13T11:17:12.243985Z",
     "iopub.status.busy": "2020-08-13T11:17:12.243099Z",
     "iopub.status.idle": "2020-08-13T11:17:12.249469Z",
     "shell.execute_reply": "2020-08-13T11:17:12.248805Z"
    },
    "papermill": {
     "duration": 0.034995,
     "end_time": "2020-08-13T11:17:12.249608",
     "exception": false,
     "start_time": "2020-08-13T11:17:12.214613",
     "status": "completed"
    },
    "tags": []
   },
   "outputs": [],
   "source": [
    "#hide\n",
    "dt_cols = list(dft_cases.columns[1:])\n",
    "dft_ct_new_cases = dft_cases.groupby('state')[dt_cols].sum().diff(axis=1).fillna(0).astype(int)\n",
    "dft_ct_new_cases.sort_values(by = dates[-1], ascending = False,inplace = True)"
   ]
  },
  {
   "cell_type": "code",
   "execution_count": 18,
   "metadata": {
    "execution": {
     "iopub.execute_input": "2020-08-13T11:17:12.310832Z",
     "iopub.status.busy": "2020-08-13T11:17:12.309967Z",
     "iopub.status.idle": "2020-08-13T11:17:12.312548Z",
     "shell.execute_reply": "2020-08-13T11:17:12.313153Z"
    },
    "papermill": {
     "duration": 0.044512,
     "end_time": "2020-08-13T11:17:12.313306",
     "exception": false,
     "start_time": "2020-08-13T11:17:12.268794",
     "status": "completed"
    },
    "tags": []
   },
   "outputs": [
    {
     "data": {
      "text/html": [
       "<div>\n",
       "<style scoped>\n",
       "    .dataframe tbody tr th:only-of-type {\n",
       "        vertical-align: middle;\n",
       "    }\n",
       "\n",
       "    .dataframe tbody tr th {\n",
       "        vertical-align: top;\n",
       "    }\n",
       "\n",
       "    .dataframe thead th {\n",
       "        text-align: right;\n",
       "    }\n",
       "</style>\n",
       "<table border=\"1\" class=\"dataframe\">\n",
       "  <thead>\n",
       "    <tr style=\"text-align: right;\">\n",
       "      <th>states</th>\n",
       "      <th>2020-07-01</th>\n",
       "      <th>2020-07-02</th>\n",
       "      <th>2020-07-03</th>\n",
       "      <th>2020-07-04</th>\n",
       "      <th>2020-07-05</th>\n",
       "      <th>2020-07-06</th>\n",
       "      <th>2020-07-07</th>\n",
       "      <th>2020-07-08</th>\n",
       "      <th>2020-07-09</th>\n",
       "      <th>2020-07-10</th>\n",
       "      <th>...</th>\n",
       "      <th>2020-08-04</th>\n",
       "      <th>2020-08-05</th>\n",
       "      <th>2020-08-06</th>\n",
       "      <th>2020-08-07</th>\n",
       "      <th>2020-08-08</th>\n",
       "      <th>2020-08-09</th>\n",
       "      <th>2020-08-10</th>\n",
       "      <th>2020-08-11</th>\n",
       "      <th>2020-08-12</th>\n",
       "      <th>2020-08-13</th>\n",
       "    </tr>\n",
       "    <tr>\n",
       "      <th>state</th>\n",
       "      <th></th>\n",
       "      <th></th>\n",
       "      <th></th>\n",
       "      <th></th>\n",
       "      <th></th>\n",
       "      <th></th>\n",
       "      <th></th>\n",
       "      <th></th>\n",
       "      <th></th>\n",
       "      <th></th>\n",
       "      <th></th>\n",
       "      <th></th>\n",
       "      <th></th>\n",
       "      <th></th>\n",
       "      <th></th>\n",
       "      <th></th>\n",
       "      <th></th>\n",
       "      <th></th>\n",
       "      <th></th>\n",
       "      <th></th>\n",
       "      <th></th>\n",
       "    </tr>\n",
       "  </thead>\n",
       "  <tbody>\n",
       "    <tr>\n",
       "      <th>Andhra Pradesh</th>\n",
       "      <td>0</td>\n",
       "      <td>845</td>\n",
       "      <td>837</td>\n",
       "      <td>765</td>\n",
       "      <td>998</td>\n",
       "      <td>1322</td>\n",
       "      <td>1178</td>\n",
       "      <td>1062</td>\n",
       "      <td>1555</td>\n",
       "      <td>1608</td>\n",
       "      <td>...</td>\n",
       "      <td>9747</td>\n",
       "      <td>10128</td>\n",
       "      <td>10328</td>\n",
       "      <td>10171</td>\n",
       "      <td>10080</td>\n",
       "      <td>10820</td>\n",
       "      <td>7665</td>\n",
       "      <td>9024</td>\n",
       "      <td>9597</td>\n",
       "      <td>9996</td>\n",
       "    </tr>\n",
       "    <tr>\n",
       "      <th>Odisha</th>\n",
       "      <td>0</td>\n",
       "      <td>229</td>\n",
       "      <td>561</td>\n",
       "      <td>495</td>\n",
       "      <td>469</td>\n",
       "      <td>456</td>\n",
       "      <td>571</td>\n",
       "      <td>527</td>\n",
       "      <td>577</td>\n",
       "      <td>755</td>\n",
       "      <td>...</td>\n",
       "      <td>1384</td>\n",
       "      <td>1337</td>\n",
       "      <td>1699</td>\n",
       "      <td>1833</td>\n",
       "      <td>1643</td>\n",
       "      <td>1734</td>\n",
       "      <td>1528</td>\n",
       "      <td>1341</td>\n",
       "      <td>1876</td>\n",
       "      <td>1981</td>\n",
       "    </tr>\n",
       "    <tr>\n",
       "      <th>Telangana</th>\n",
       "      <td>0</td>\n",
       "      <td>1213</td>\n",
       "      <td>1892</td>\n",
       "      <td>1850</td>\n",
       "      <td>1590</td>\n",
       "      <td>1831</td>\n",
       "      <td>1879</td>\n",
       "      <td>1924</td>\n",
       "      <td>1410</td>\n",
       "      <td>1278</td>\n",
       "      <td>...</td>\n",
       "      <td>1286</td>\n",
       "      <td>2012</td>\n",
       "      <td>2092</td>\n",
       "      <td>2207</td>\n",
       "      <td>2256</td>\n",
       "      <td>1982</td>\n",
       "      <td>1256</td>\n",
       "      <td>1896</td>\n",
       "      <td>1897</td>\n",
       "      <td>1931</td>\n",
       "    </tr>\n",
       "    <tr>\n",
       "      <th>Rajasthan</th>\n",
       "      <td>0</td>\n",
       "      <td>350</td>\n",
       "      <td>390</td>\n",
       "      <td>480</td>\n",
       "      <td>632</td>\n",
       "      <td>524</td>\n",
       "      <td>716</td>\n",
       "      <td>659</td>\n",
       "      <td>500</td>\n",
       "      <td>611</td>\n",
       "      <td>...</td>\n",
       "      <td>1124</td>\n",
       "      <td>1166</td>\n",
       "      <td>1151</td>\n",
       "      <td>1161</td>\n",
       "      <td>1171</td>\n",
       "      <td>1169</td>\n",
       "      <td>1173</td>\n",
       "      <td>1217</td>\n",
       "      <td>1213</td>\n",
       "      <td>608</td>\n",
       "    </tr>\n",
       "    <tr>\n",
       "      <th>Puducherry</th>\n",
       "      <td>0</td>\n",
       "      <td>63</td>\n",
       "      <td>22</td>\n",
       "      <td>80</td>\n",
       "      <td>42</td>\n",
       "      <td>65</td>\n",
       "      <td>30</td>\n",
       "      <td>110</td>\n",
       "      <td>49</td>\n",
       "      <td>72</td>\n",
       "      <td>...</td>\n",
       "      <td>165</td>\n",
       "      <td>286</td>\n",
       "      <td>188</td>\n",
       "      <td>241</td>\n",
       "      <td>261</td>\n",
       "      <td>259</td>\n",
       "      <td>242</td>\n",
       "      <td>276</td>\n",
       "      <td>481</td>\n",
       "      <td>305</td>\n",
       "    </tr>\n",
       "  </tbody>\n",
       "</table>\n",
       "<p>5 rows × 44 columns</p>\n",
       "</div>"
      ],
      "text/plain": [
       "states          2020-07-01  2020-07-02  2020-07-03  2020-07-04  2020-07-05  \\\n",
       "state                                                                        \n",
       "Andhra Pradesh           0         845         837         765         998   \n",
       "Odisha                   0         229         561         495         469   \n",
       "Telangana                0        1213        1892        1850        1590   \n",
       "Rajasthan                0         350         390         480         632   \n",
       "Puducherry               0          63          22          80          42   \n",
       "\n",
       "states          2020-07-06  2020-07-07  2020-07-08  2020-07-09  2020-07-10  \\\n",
       "state                                                                        \n",
       "Andhra Pradesh        1322        1178        1062        1555        1608   \n",
       "Odisha                 456         571         527         577         755   \n",
       "Telangana             1831        1879        1924        1410        1278   \n",
       "Rajasthan              524         716         659         500         611   \n",
       "Puducherry              65          30         110          49          72   \n",
       "\n",
       "states          ...  2020-08-04  2020-08-05  2020-08-06  2020-08-07  \\\n",
       "state           ...                                                   \n",
       "Andhra Pradesh  ...        9747       10128       10328       10171   \n",
       "Odisha          ...        1384        1337        1699        1833   \n",
       "Telangana       ...        1286        2012        2092        2207   \n",
       "Rajasthan       ...        1124        1166        1151        1161   \n",
       "Puducherry      ...         165         286         188         241   \n",
       "\n",
       "states          2020-08-08  2020-08-09  2020-08-10  2020-08-11  2020-08-12  \\\n",
       "state                                                                        \n",
       "Andhra Pradesh       10080       10820        7665        9024        9597   \n",
       "Odisha                1643        1734        1528        1341        1876   \n",
       "Telangana             2256        1982        1256        1896        1897   \n",
       "Rajasthan             1171        1169        1173        1217        1213   \n",
       "Puducherry             261         259         242         276         481   \n",
       "\n",
       "states          2020-08-13  \n",
       "state                       \n",
       "Andhra Pradesh        9996  \n",
       "Odisha                1981  \n",
       "Telangana             1931  \n",
       "Rajasthan              608  \n",
       "Puducherry             305  \n",
       "\n",
       "[5 rows x 44 columns]"
      ]
     },
     "execution_count": 18,
     "metadata": {},
     "output_type": "execute_result"
    }
   ],
   "source": [
    "#hide\n",
    "dft_ct_new_cases.head()"
   ]
  },
  {
   "cell_type": "code",
   "execution_count": 19,
   "metadata": {
    "execution": {
     "iopub.execute_input": "2020-08-13T11:17:12.405584Z",
     "iopub.status.busy": "2020-08-13T11:17:12.373553Z",
     "iopub.status.idle": "2020-08-13T11:17:16.559378Z",
     "shell.execute_reply": "2020-08-13T11:17:16.559932Z"
    },
    "papermill": {
     "duration": 4.225359,
     "end_time": "2020-08-13T11:17:16.560129",
     "exception": false,
     "start_time": "2020-08-13T11:17:12.334770",
     "status": "completed"
    },
    "tags": []
   },
   "outputs": [
    {
     "data": {
      "image/png": "[encoded data removed]",
      "text/plain": [
       "<Figure size 1296x2016 with 11 Axes>"
      ]
     },
     "metadata": {
      "needs_background": "light"
     },
     "output_type": "display_data"
    }
   ],
   "source": [
    "#hide_input\n",
    "df = dft_ct_new_cases.copy()\n",
    "df.loc['Total'] = df.sum()\n",
    "n = 5\n",
    "ax = []\n",
    "fig = plt.figure(figsize = (18,28))\n",
    "gs = fig.add_gridspec(n+2, 5)\n",
    "# gs = fig.add_gridspec(2, 3)\n",
    "ax1 = fig.add_subplot(gs[0, :])\n",
    "ef = df.loc['Total'].rename_axis('date').reset_index()\n",
    "ef['date'] = ef['date'].astype('datetime64[ns]')\n",
    "ax1.bar(ef.date,ef.Total,alpha=0.3,color='#007acc')\n",
    "ax1.plot(ef.date,ef.Total , marker=\"o\", color='#007acc')\n",
    "ax1.xaxis.set_major_locator(mdates.WeekdayLocator())\n",
    "ax1.xaxis.set_major_formatter(mdates.DateFormatter('%b %d'))\n",
    "ax1.text(0.02, 0.5,'India daily case count', transform = ax1.transAxes, fontsize=25);\n",
    "ax1.spines['right'].set_visible(False)\n",
    "ax1.spines['top'].set_visible(False)\n",
    "\n",
    "ax2 = fig.add_subplot(gs[1,0])\n",
    "ef = df.loc['Maharashtra'].rename_axis('date').reset_index()\n",
    "ef['date'] = ef['date'].astype('datetime64[ns]')\n",
    "\n",
    "ax2.bar(ef.date, ef.Maharashtra,color = '#007acc',alpha=0.5)\n",
    "ax2.xaxis.set_major_locator(mdates.WeekdayLocator())\n",
    "ax2.xaxis.set_major_formatter(mdates.DateFormatter('%b %d'))\n",
    "ax2.set_xticks(ax2.get_xticks()[::3])\n",
    "maxyval = ef.Maharashtra.max()\n",
    "ax2.set_ylim([0,maxyval])\n",
    "ax2.text(0.05, 0.9,'Maharashtra', transform = ax2.transAxes, fontsize=20);\n",
    "ax2.spines['right'].set_visible(False)\n",
    "ax2.spines['top'].set_visible(False)\n",
    "\n",
    "\n",
    "ax3 = fig.add_subplot(gs[1,1])\n",
    "ef = df.loc['Tamil Nadu'].rename_axis('date').reset_index()\n",
    "ef['date'] = ef['date'].astype('datetime64[ns]')\n",
    "ax3.bar(ef.date, ef['Tamil Nadu'],color = '#007acc',alpha=0.5,)\n",
    "ax3.xaxis.set_major_locator(mdates.WeekdayLocator())\n",
    "ax3.xaxis.set_major_formatter(mdates.DateFormatter('%b %d'))\n",
    "ax3.set_xticks(ax3.get_xticks()[::3])\n",
    "ax3.text(0.05, 0.9,'Tamil Nadu', transform = ax3.transAxes, fontsize=20);\n",
    "ax3.spines['right'].set_visible(False)\n",
    "ax3.spines['top'].set_visible(False)\n",
    "\n",
    "ax5 = fig.add_subplot(gs[1,3])\n",
    "ef = df.loc['Telangana'].rename_axis('date').reset_index()\n",
    "ef['date'] = ef['date'].astype('datetime64[ns]')\n",
    "ax5.bar(ef.date, ef['Telangana'],color = '#007acc',alpha=0.5,)\n",
    "ax5.xaxis.set_major_locator(mdates.WeekdayLocator())\n",
    "ax5.xaxis.set_major_formatter(mdates.DateFormatter('%b %d'))\n",
    "ax5.set_xticks(ax5.get_xticks()[::3])\n",
    "ax5.text(0.05, 0.9,'Telangana', transform = ax5.transAxes, fontsize=20);\n",
    "ax5.spines['right'].set_visible(False)\n",
    "ax5.spines['top'].set_visible(False)\n",
    "\n",
    "ax6 = fig.add_subplot(gs[1,4])\n",
    "ef = df.loc['Andhra Pradesh'].rename_axis('date').reset_index()\n",
    "ef['date'] = ef['date'].astype('datetime64[ns]')\n",
    "ax6.bar(ef.date, ef['Andhra Pradesh'],color = '#007acc',alpha=0.5,)\n",
    "ax6.xaxis.set_major_locator(mdates.WeekdayLocator())\n",
    "ax6.xaxis.set_major_formatter(mdates.DateFormatter('%b %d'))\n",
    "ax6.set_xticks(ax6.get_xticks()[::3])\n",
    "ax6.text(0.05, 1,'Andhra Pradesh', transform = ax6.transAxes, fontsize=20);\n",
    "ax6.spines['right'].set_visible(False)\n",
    "ax6.spines['top'].set_visible(False)\n",
    "\n",
    "ax4 = fig.add_subplot(gs[1,2])\n",
    "ef = df.loc['Delhi'].rename_axis('date').reset_index()\n",
    "ef['date'] = ef['date'].astype('datetime64[ns]')\n",
    "ax4.bar(ef.date, ef.Delhi,color = '#007acc',alpha=0.5)\n",
    "ax4.set_xticks([])\n",
    "ax4.xaxis.set_major_locator(mdates.WeekdayLocator())\n",
    "ax4.xaxis.set_major_formatter(mdates.DateFormatter('%b %d'))\n",
    "ax4.set_xticks(ax4.get_xticks()[::3])\n",
    "ax4.spines['right'].set_visible(False)\n",
    "ax4.spines['top'].set_visible(False)\n",
    "\n",
    "ax4.text(0.05, 1,'Delhi', transform = ax4.transAxes, fontsize=20)\n",
    "\n",
    "for i in range(n):\n",
    "    \n",
    "    ax.append(fig.add_subplot(gs[i+2,:]))\n",
    "    ef = df.iloc[i+3].rename_axis('date').reset_index()\n",
    "    ef['date'] = ef['date'].astype('datetime64[ns]')\n",
    "    ax[i].bar(ef.date,ef.iloc[:,-1],color = '#007acc',alpha=0.3)\n",
    "    ax[i].plot(ef.date,ef.iloc[:,-1],marker='o',color='#007acc')\n",
    "    ax[i].text(0.02,0.5,f'{ef.columns.values[-1]}',transform = ax[i].transAxes, fontsize = 20);\n",
    "    ax[i].xaxis.set_major_locator(mdates.WeekdayLocator())\n",
    "    ax[i].xaxis.set_major_formatter(mdates.DateFormatter('%b %d'))\n",
    "    ax[i].set_ylim([0,7000])\n",
    "    ax[i].spines['right'].set_visible(False)\n",
    "    ax[i].spines['top'].set_visible(False)\n",
    "plt.tight_layout()\n"
   ]
  },
  {
   "cell_type": "code",
   "execution_count": 20,
   "metadata": {
    "execution": {
     "iopub.execute_input": "2020-08-13T11:17:16.617879Z",
     "iopub.status.busy": "2020-08-13T11:17:16.616931Z",
     "iopub.status.idle": "2020-08-13T11:17:16.620946Z",
     "shell.execute_reply": "2020-08-13T11:17:16.620292Z"
    },
    "papermill": {
     "duration": 0.036595,
     "end_time": "2020-08-13T11:17:16.621087",
     "exception": false,
     "start_time": "2020-08-13T11:17:16.584492",
     "status": "completed"
    },
    "tags": []
   },
   "outputs": [
    {
     "name": "stdout",
     "output_type": "stream",
     "text": [
      "                                   states   Cases  Deaths  PCases  PDeaths  Cases (+)  Deaths (+)  Fatality Rate\n",
      "                              Maharashtra  548313   18650  548313    18650          0           0           3.40\n",
      "                               Tamil Nadu  314520    5278  314520     5278          0           0           1.68\n",
      "                           Andhra Pradesh  264142    2378  254146     2296       9996          82           0.90\n",
      "                                Karnataka  196494    3511  196494     3511          0           0           1.79\n",
      "                                    Delhi  148504    4153  148504     4153          0           0           2.80\n",
      "                            Uttar Pradesh  136238    2230  136238     2230          0           0           1.64\n",
      "                              West Bengal  104326    2203  104326     2203          0           0           2.11\n",
      "                                    Bihar   90553     474   90553      474          0           0           0.52\n",
      "                                Telangana   86475     665   84544      654       1931          11           0.77\n",
      "                                  Gujarat   74390    2713   74390     2713          0           0           3.65\n",
      "                                    Assam   69000     161   69000      161          0           0           0.23\n",
      "                                Rajasthan   56708     833   56100      822        608          11           1.47\n",
      "                                   Odisha   52653     367   50672      358       1981           9           0.70\n",
      "                                  Haryana   44024     503   44024      503          0           0           1.14\n",
      "                           Madhya Pradesh   41604    1048   41604     1048          0           0           2.52\n",
      "                                   Kerala   38144     127   38144      127          0           0           0.33\n",
      "                                   Punjab   26909     675   26909      675          0           0           2.51\n",
      "                        Jammu and Kashmir   26413     498   26413      498          0           0           1.89\n",
      "                                Jharkhand   20257     202   20257      202          0           0           1.00\n",
      "                             Chhattisgarh   13552     109   13552      109          0           0           0.80\n",
      "                              Uttarakhand   10886     140   10886      140          0           0           1.29\n",
      "                                      Goa    9924      89    9924       89          0           0           0.90\n",
      "                               Puducherry    6686     102    6381       96        305           6           1.53\n",
      "                                  Tripura    6618      44    6497       43        121           1           0.66\n",
      "                                  Manipur    3982      12    3982       12          0           0           0.30\n",
      "                         Himachal Pradesh    3687      17    3636       17         51           0           0.46\n",
      "                                 Nagaland    3168       7    3118        7         50           0           0.22\n",
      "                        Arunachal Pradesh    2430       3    2430        3          0           0           0.12\n",
      "              Andaman and Nicobar Islands    1900      21    1900       21          0           0           1.11\n",
      "                                   Ladakh    1811       9    1811        9          0           0           0.50\n",
      "                               Chandigarh    1751      27    1751       27          0           0           1.54\n",
      " Dadra and Nagar Haveli and Daman and Diu    1695       2    1695        2          0           0           0.12\n",
      "                                Meghalaya    1179       6    1179        6          0           0           0.51\n",
      "                                   Sikkim     930       1     930        1          0           0           0.11\n",
      "                                  Mizoram     649       0     648        0          1           0           0.00\n",
      "                              Lakshadweep       0       0       0        0          0           0            NaN\n"
     ]
    }
   ],
   "source": [
    "#hide_input\n",
    "print(df_table.to_string(index=False))"
   ]
  },
  {
   "cell_type": "code",
   "execution_count": null,
   "metadata": {
    "papermill": {
     "duration": 0.025016,
     "end_time": "2020-08-13T11:17:16.671018",
     "exception": false,
     "start_time": "2020-08-13T11:17:16.646002",
     "status": "completed"
    },
    "tags": []
   },
   "outputs": [],
   "source": []
  },
  {
   "cell_type": "code",
   "execution_count": null,
   "metadata": {
    "papermill": {
     "duration": 0.02395,
     "end_time": "2020-08-13T11:17:16.719575",
     "exception": false,
     "start_time": "2020-08-13T11:17:16.695625",
     "status": "completed"
    },
    "tags": []
   },
   "outputs": [],
   "source": []
  }
 ],
 "metadata": {
  "kernelspec": {
   "display_name": "Python 3",
   "language": "python",
   "name": "python3"
  },
  "language_info": {
   "codemirror_mode": {
    "name": "ipython",
    "version": 3
   },
   "file_extension": ".py",
   "mimetype": "text/x-python",
   "name": "python",
   "nbconvert_exporter": "python",
   "pygments_lexer": "ipython3",
   "version": "3.6.11"
  },
  "papermill": {
   "duration": 10.03251,
   "end_time": "2020-08-13T11:17:17.152366",
   "environment_variables": {},
   "exception": null,
   "input_path": "latest.ipynb",
   "output_path": "latest.ipynb",
   "parameters": {},
   "start_time": "2020-08-13T11:17:07.119856",
   "version": "2.1.2"
  }
 },
 "nbformat": 4,
 "nbformat_minor": 4
}