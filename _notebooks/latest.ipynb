{
 "cells": [
  {
   "cell_type": "markdown",
   "metadata": {
    "papermill": {
     "duration": 0.019892,
     "end_time": "2020-10-12T07:39:16.162675",
     "exception": false,
     "start_time": "2020-10-12T07:39:16.142783",
     "status": "completed"
    },
    "tags": []
   },
   "source": [
    "# Latest COVID-19 India Matplotlib Overview"
   ]
  },
  {
   "cell_type": "code",
   "execution_count": 1,
   "metadata": {
    "execution": {
     "iopub.execute_input": "2020-10-12T07:39:16.202007Z",
     "iopub.status.busy": "2020-10-12T07:39:16.201365Z",
     "iopub.status.idle": "2020-10-12T07:39:16.816562Z",
     "shell.execute_reply": "2020-10-12T07:39:16.817153Z"
    },
    "papermill": {
     "duration": 0.638546,
     "end_time": "2020-10-12T07:39:16.817376",
     "exception": false,
     "start_time": "2020-10-12T07:39:16.178830",
     "status": "completed"
    },
    "tags": []
   },
   "outputs": [],
   "source": [
    "#hide\n",
    "import pandas as pd\n",
    "import numpy as np\n",
    "import requests\n",
    "import json\n",
    "import matplotlib.pyplot as plt\n",
    "import matplotlib.dates as mdates\n",
    "import matplotlib as mpl\n",
    "from IPython.core.display import display,HTML\n",
    "%matplotlib inline\n",
    "from datetime import date"
   ]
  },
  {
   "cell_type": "code",
   "execution_count": 2,
   "metadata": {
    "execution": {
     "iopub.execute_input": "2020-10-12T07:39:16.858076Z",
     "iopub.status.busy": "2020-10-12T07:39:16.856952Z",
     "iopub.status.idle": "2020-10-12T07:39:16.977810Z",
     "shell.execute_reply": "2020-10-12T07:39:16.977193Z"
    },
    "papermill": {
     "duration": 0.14408,
     "end_time": "2020-10-12T07:39:16.977976",
     "exception": false,
     "start_time": "2020-10-12T07:39:16.833896",
     "status": "completed"
    },
    "tags": []
   },
   "outputs": [],
   "source": [
    "#hide\n",
    "df  = pd.read_csv('https://api.covid19india.org/csv/latest/states.csv')\n",
    "df = df[['Date','State','Confirmed','Deceased']]\n",
    "df = df.rename(columns={'Confirmed':'Cases', \"Deceased\":'Deaths'})\n",
    "df_cases = df[[\"Date\",'State','Cases']]\n",
    "df_deaths = df[['Date','State','Deaths']]\n",
    "df_cases1 = df_cases.groupby('Date')\n",
    "df_deaths1= df_deaths.groupby('Date')"
   ]
  },
  {
   "cell_type": "code",
   "execution_count": 3,
   "metadata": {
    "execution": {
     "iopub.execute_input": "2020-10-12T07:39:17.025729Z",
     "iopub.status.busy": "2020-10-12T07:39:17.025092Z",
     "iopub.status.idle": "2020-10-12T07:39:17.045373Z",
     "shell.execute_reply": "2020-10-12T07:39:17.044853Z"
    },
    "papermill": {
     "duration": 0.043157,
     "end_time": "2020-10-12T07:39:17.045517",
     "exception": false,
     "start_time": "2020-10-12T07:39:17.002360",
     "status": "completed"
    },
    "tags": []
   },
   "outputs": [],
   "source": [
    "#hide\n",
    "df_snap = pd.read_csv('data/SnapshotCases-28-July.csv')\n",
    "arr_states = df_snap['states'].unique()\n",
    "arr_dates = df['Date'].unique()\n",
    "df_snap = df_snap.set_index('states')"
   ]
  },
  {
   "cell_type": "code",
   "execution_count": 4,
   "metadata": {
    "execution": {
     "iopub.execute_input": "2020-10-12T07:39:17.085178Z",
     "iopub.status.busy": "2020-10-12T07:39:17.084534Z",
     "iopub.status.idle": "2020-10-12T07:39:17.086749Z",
     "shell.execute_reply": "2020-10-12T07:39:17.087310Z"
    },
    "papermill": {
     "duration": 0.026757,
     "end_time": "2020-10-12T07:39:17.087468",
     "exception": false,
     "start_time": "2020-10-12T07:39:17.060711",
     "status": "completed"
    },
    "tags": []
   },
   "outputs": [
    {
     "data": {
      "text/plain": [
       "array(['Andaman and Nicobar Islands', 'Andhra Pradesh',\n",
       "       'Arunachal Pradesh', 'Assam', 'Bihar', 'Chandigarh',\n",
       "       'Dadra and Nagar Haveli and Daman and Diu', 'Delhi', 'Goa',\n",
       "       'Gujarat', 'Haryana', 'Himachal Pradesh', 'Jammu and Kashmir',\n",
       "       'Jharkhand', 'Karnataka', 'Kerala', 'Lakshadweep',\n",
       "       'Madhya Pradesh', 'Maharashtra', 'Manipur', 'Meghalaya', 'Mizoram',\n",
       "       'Nagaland', 'Odisha', 'Puducherry', 'Punjab', 'Rajasthan',\n",
       "       'Sikkim', 'Tamil Nadu', 'Telangana', 'Tripura', 'Uttar Pradesh',\n",
       "       'West Bengal', 'Chhattisgarh', 'Ladakh', 'Uttarakhand'],\n",
       "      dtype=object)"
      ]
     },
     "execution_count": 4,
     "metadata": {},
     "output_type": "execute_result"
    }
   ],
   "source": [
    "#hide\n",
    "arr_states[-9] = 'Puducherry'\n",
    "arr_states[-10] = 'Odisha'\n",
    "arr_states[6] = 'Dadra and Nagar Haveli and Daman and Diu'\n",
    "arr_states = np.append(arr_states,np.array(['Chhattisgarh','Ladakh','Uttarakhand']))\n",
    "arr_states"
   ]
  },
  {
   "cell_type": "code",
   "execution_count": 5,
   "metadata": {
    "execution": {
     "iopub.execute_input": "2020-10-12T07:39:17.129638Z",
     "iopub.status.busy": "2020-10-12T07:39:17.129033Z",
     "iopub.status.idle": "2020-10-12T07:39:17.136609Z",
     "shell.execute_reply": "2020-10-12T07:39:17.137063Z"
    },
    "papermill": {
     "duration": 0.034172,
     "end_time": "2020-10-12T07:39:17.137224",
     "exception": false,
     "start_time": "2020-10-12T07:39:17.103052",
     "status": "completed"
    },
    "tags": []
   },
   "outputs": [],
   "source": [
    "#hide\n",
    "dates = []\n",
    "for i in arr_dates:\n",
    "    if i>='2020-07-01':\n",
    "        dates.append(i)\n",
    "dict = {'states':dates}\n",
    "for i in arr_states:\n",
    "    dict[i] = [0]*len(dates)\n",
    "dft_cases = pd.DataFrame(dict)\n",
    "dft_deaths = pd.DataFrame(dict)\n"
   ]
  },
  {
   "cell_type": "code",
   "execution_count": 6,
   "metadata": {
    "execution": {
     "iopub.execute_input": "2020-10-12T07:39:17.175087Z",
     "iopub.status.busy": "2020-10-12T07:39:17.174467Z",
     "iopub.status.idle": "2020-10-12T07:39:18.642427Z",
     "shell.execute_reply": "2020-10-12T07:39:18.641027Z"
    },
    "papermill": {
     "duration": 1.489982,
     "end_time": "2020-10-12T07:39:18.642601",
     "exception": false,
     "start_time": "2020-10-12T07:39:17.152619",
     "status": "completed"
    },
    "tags": []
   },
   "outputs": [],
   "source": [
    "#hide\n",
    "for i in range(len(dates)):\n",
    "    df1_deaths = df_deaths1.get_group(dates[i])\n",
    "    for j in range(len(df1_deaths.index)):\n",
    "        if df1_deaths.iloc[j,1] in arr_states:\n",
    "            dft_deaths.loc[i,df1_deaths.iloc[j,1]] = df1_deaths.iloc[j,2]\n",
    "dft_deaths = dft_deaths.set_index('states')"
   ]
  },
  {
   "cell_type": "code",
   "execution_count": 7,
   "metadata": {
    "execution": {
     "iopub.execute_input": "2020-10-12T07:39:18.985567Z",
     "iopub.status.busy": "2020-10-12T07:39:18.984948Z",
     "iopub.status.idle": "2020-10-12T07:39:20.434465Z",
     "shell.execute_reply": "2020-10-12T07:39:20.433919Z"
    },
    "papermill": {
     "duration": 1.658344,
     "end_time": "2020-10-12T07:39:20.434610",
     "exception": false,
     "start_time": "2020-10-12T07:39:18.776266",
     "status": "completed"
    },
    "tags": []
   },
   "outputs": [],
   "source": [
    "#hide\n",
    "for i in range(len(dates)):\n",
    "    df1_cases = df_cases1.get_group(dates[i])\n",
    "    for j in range(len(df1_cases.index)):\n",
    "        if df1_cases.iloc[j,1] in arr_states:\n",
    "            dft_cases.loc[i,df1_cases.iloc[j,1]] = df1_cases.iloc[j,2]\n",
    "dft_cases = dft_cases.set_index('states')"
   ]
  },
  {
   "cell_type": "code",
   "execution_count": 8,
   "metadata": {
    "execution": {
     "iopub.execute_input": "2020-10-12T07:39:20.478526Z",
     "iopub.status.busy": "2020-10-12T07:39:20.477621Z",
     "iopub.status.idle": "2020-10-12T07:39:20.485875Z",
     "shell.execute_reply": "2020-10-12T07:39:20.486329Z"
    },
    "papermill": {
     "duration": 0.031508,
     "end_time": "2020-10-12T07:39:20.486495",
     "exception": false,
     "start_time": "2020-10-12T07:39:20.454987",
     "status": "completed"
    },
    "tags": []
   },
   "outputs": [],
   "source": [
    "#hide\n",
    "dft_cases = dft_cases.T\n",
    "dft_deaths = dft_deaths.T\n",
    "dt_today = dates[-1]\n",
    "dt_yday = dates[-2]"
   ]
  },
  {
   "cell_type": "code",
   "execution_count": 9,
   "metadata": {
    "execution": {
     "iopub.execute_input": "2020-10-12T07:39:20.525969Z",
     "iopub.status.busy": "2020-10-12T07:39:20.524172Z",
     "iopub.status.idle": "2020-10-12T07:39:20.528476Z",
     "shell.execute_reply": "2020-10-12T07:39:20.527967Z"
    },
    "papermill": {
     "duration": 0.026641,
     "end_time": "2020-10-12T07:39:20.528606",
     "exception": false,
     "start_time": "2020-10-12T07:39:20.501965",
     "status": "completed"
    },
    "tags": []
   },
   "outputs": [],
   "source": [
    "#hide\n",
    "dft_cases = dft_cases.reset_index()\n",
    "dft_deaths = dft_deaths.reset_index()\n",
    "dft_cases = dft_cases.rename(columns = {'index':'state'})\n",
    "dft_deaths = dft_deaths.rename(columns = {'index':'state'})"
   ]
  },
  {
   "cell_type": "code",
   "execution_count": 10,
   "metadata": {
    "execution": {
     "iopub.execute_input": "2020-10-12T07:39:20.566872Z",
     "iopub.status.busy": "2020-10-12T07:39:20.566271Z",
     "iopub.status.idle": "2020-10-12T07:39:20.574667Z",
     "shell.execute_reply": "2020-10-12T07:39:20.574187Z"
    },
    "papermill": {
     "duration": 0.030903,
     "end_time": "2020-10-12T07:39:20.574798",
     "exception": false,
     "start_time": "2020-10-12T07:39:20.543895",
     "status": "completed"
    },
    "tags": []
   },
   "outputs": [],
   "source": [
    "#hide\n",
    "dfc_cases = dft_cases.groupby('state')[dt_today].sum()\n",
    "dfc_deaths = dft_deaths.groupby('state')[dt_today].sum()\n",
    "dfp_cases = dft_cases.groupby('state')[dt_yday].sum()\n",
    "dfp_deaths = dft_deaths.groupby('state')[dt_yday].sum()"
   ]
  },
  {
   "cell_type": "code",
   "execution_count": 11,
   "metadata": {
    "execution": {
     "iopub.execute_input": "2020-10-12T07:39:20.619953Z",
     "iopub.status.busy": "2020-10-12T07:39:20.619306Z",
     "iopub.status.idle": "2020-10-12T07:39:20.626058Z",
     "shell.execute_reply": "2020-10-12T07:39:20.625556Z"
    },
    "papermill": {
     "duration": 0.036099,
     "end_time": "2020-10-12T07:39:20.626187",
     "exception": false,
     "start_time": "2020-10-12T07:39:20.590088",
     "status": "completed"
    },
    "tags": []
   },
   "outputs": [
    {
     "data": {
      "text/html": [
       "<div>\n",
       "<style scoped>\n",
       "    .dataframe tbody tr th:only-of-type {\n",
       "        vertical-align: middle;\n",
       "    }\n",
       "\n",
       "    .dataframe tbody tr th {\n",
       "        vertical-align: top;\n",
       "    }\n",
       "\n",
       "    .dataframe thead th {\n",
       "        text-align: right;\n",
       "    }\n",
       "</style>\n",
       "<table border=\"1\" class=\"dataframe\">\n",
       "  <thead>\n",
       "    <tr style=\"text-align: right;\">\n",
       "      <th></th>\n",
       "      <th>states</th>\n",
       "      <th>Cases</th>\n",
       "      <th>Deaths</th>\n",
       "      <th>PCases</th>\n",
       "      <th>PDeaths</th>\n",
       "    </tr>\n",
       "  </thead>\n",
       "  <tbody>\n",
       "    <tr>\n",
       "      <th>0</th>\n",
       "      <td>Maharashtra</td>\n",
       "      <td>1528226</td>\n",
       "      <td>40345</td>\n",
       "      <td>1528226</td>\n",
       "      <td>40345</td>\n",
       "    </tr>\n",
       "    <tr>\n",
       "      <th>1</th>\n",
       "      <td>Andhra Pradesh</td>\n",
       "      <td>755727</td>\n",
       "      <td>6224</td>\n",
       "      <td>755727</td>\n",
       "      <td>6224</td>\n",
       "    </tr>\n",
       "    <tr>\n",
       "      <th>2</th>\n",
       "      <td>Karnataka</td>\n",
       "      <td>710309</td>\n",
       "      <td>9966</td>\n",
       "      <td>710309</td>\n",
       "      <td>9966</td>\n",
       "    </tr>\n",
       "    <tr>\n",
       "      <th>3</th>\n",
       "      <td>Tamil Nadu</td>\n",
       "      <td>656385</td>\n",
       "      <td>10252</td>\n",
       "      <td>656385</td>\n",
       "      <td>10252</td>\n",
       "    </tr>\n",
       "    <tr>\n",
       "      <th>4</th>\n",
       "      <td>Uttar Pradesh</td>\n",
       "      <td>436979</td>\n",
       "      <td>6394</td>\n",
       "      <td>436979</td>\n",
       "      <td>6394</td>\n",
       "    </tr>\n",
       "  </tbody>\n",
       "</table>\n",
       "</div>"
      ],
      "text/plain": [
       "           states    Cases  Deaths   PCases  PDeaths\n",
       "0     Maharashtra  1528226   40345  1528226    40345\n",
       "1  Andhra Pradesh   755727    6224   755727     6224\n",
       "2       Karnataka   710309    9966   710309     9966\n",
       "3      Tamil Nadu   656385   10252   656385    10252\n",
       "4   Uttar Pradesh   436979    6394   436979     6394"
      ]
     },
     "execution_count": 11,
     "metadata": {},
     "output_type": "execute_result"
    }
   ],
   "source": [
    "#hide\n",
    "df_table = pd.DataFrame({'states': dfc_cases.index, 'Cases': dfc_cases.values, 'Deaths': dfc_deaths.values, 'PCases': dfp_cases.values, 'PDeaths': dfp_deaths.values}).set_index('states')\n",
    "df_table = df_table.sort_values(by = ['Cases','Deaths'], ascending = [False, False])\n",
    "df_table = df_table.reset_index()\n",
    "df_table.head()"
   ]
  },
  {
   "cell_type": "code",
   "execution_count": 12,
   "metadata": {
    "execution": {
     "iopub.execute_input": "2020-10-12T07:39:20.665025Z",
     "iopub.status.busy": "2020-10-12T07:39:20.664367Z",
     "iopub.status.idle": "2020-10-12T07:39:20.673725Z",
     "shell.execute_reply": "2020-10-12T07:39:20.674156Z"
    },
    "papermill": {
     "duration": 0.03139,
     "end_time": "2020-10-12T07:39:20.674328",
     "exception": false,
     "start_time": "2020-10-12T07:39:20.642938",
     "status": "completed"
    },
    "tags": []
   },
   "outputs": [],
   "source": [
    "#hide\n",
    "for c in 'Cases, Deaths'.split(', '):\n",
    "    df_table[f'{c} (+)'] = (df_table[c] - df_table[f'P{c}']).clip(0)\n",
    "df_table['Fatality Rate'] = (100* df_table['Deaths']/ df_table['Cases']).round(2)"
   ]
  },
  {
   "cell_type": "code",
   "execution_count": 13,
   "metadata": {
    "execution": {
     "iopub.execute_input": "2020-10-12T07:39:20.718963Z",
     "iopub.status.busy": "2020-10-12T07:39:20.718335Z",
     "iopub.status.idle": "2020-10-12T07:39:20.721096Z",
     "shell.execute_reply": "2020-10-12T07:39:20.721544Z"
    },
    "papermill": {
     "duration": 0.029857,
     "end_time": "2020-10-12T07:39:20.721685",
     "exception": false,
     "start_time": "2020-10-12T07:39:20.691828",
     "status": "completed"
    },
    "tags": []
   },
   "outputs": [
    {
     "data": {
      "text/html": [
       "<div>\n",
       "<style scoped>\n",
       "    .dataframe tbody tr th:only-of-type {\n",
       "        vertical-align: middle;\n",
       "    }\n",
       "\n",
       "    .dataframe tbody tr th {\n",
       "        vertical-align: top;\n",
       "    }\n",
       "\n",
       "    .dataframe thead th {\n",
       "        text-align: right;\n",
       "    }\n",
       "</style>\n",
       "<table border=\"1\" class=\"dataframe\">\n",
       "  <thead>\n",
       "    <tr style=\"text-align: right;\">\n",
       "      <th></th>\n",
       "      <th>states</th>\n",
       "      <th>Cases</th>\n",
       "      <th>Deaths</th>\n",
       "      <th>PCases</th>\n",
       "      <th>PDeaths</th>\n",
       "      <th>Cases (+)</th>\n",
       "      <th>Deaths (+)</th>\n",
       "      <th>Fatality Rate</th>\n",
       "    </tr>\n",
       "  </thead>\n",
       "  <tbody>\n",
       "    <tr>\n",
       "      <th>0</th>\n",
       "      <td>Maharashtra</td>\n",
       "      <td>1528226</td>\n",
       "      <td>40345</td>\n",
       "      <td>1528226</td>\n",
       "      <td>40345</td>\n",
       "      <td>0</td>\n",
       "      <td>0</td>\n",
       "      <td>2.64</td>\n",
       "    </tr>\n",
       "    <tr>\n",
       "      <th>1</th>\n",
       "      <td>Andhra Pradesh</td>\n",
       "      <td>755727</td>\n",
       "      <td>6224</td>\n",
       "      <td>755727</td>\n",
       "      <td>6224</td>\n",
       "      <td>0</td>\n",
       "      <td>0</td>\n",
       "      <td>0.82</td>\n",
       "    </tr>\n",
       "    <tr>\n",
       "      <th>2</th>\n",
       "      <td>Karnataka</td>\n",
       "      <td>710309</td>\n",
       "      <td>9966</td>\n",
       "      <td>710309</td>\n",
       "      <td>9966</td>\n",
       "      <td>0</td>\n",
       "      <td>0</td>\n",
       "      <td>1.40</td>\n",
       "    </tr>\n",
       "    <tr>\n",
       "      <th>3</th>\n",
       "      <td>Tamil Nadu</td>\n",
       "      <td>656385</td>\n",
       "      <td>10252</td>\n",
       "      <td>656385</td>\n",
       "      <td>10252</td>\n",
       "      <td>0</td>\n",
       "      <td>0</td>\n",
       "      <td>1.56</td>\n",
       "    </tr>\n",
       "    <tr>\n",
       "      <th>4</th>\n",
       "      <td>Uttar Pradesh</td>\n",
       "      <td>436979</td>\n",
       "      <td>6394</td>\n",
       "      <td>436979</td>\n",
       "      <td>6394</td>\n",
       "      <td>0</td>\n",
       "      <td>0</td>\n",
       "      <td>1.46</td>\n",
       "    </tr>\n",
       "  </tbody>\n",
       "</table>\n",
       "</div>"
      ],
      "text/plain": [
       "           states    Cases  Deaths   PCases  PDeaths  Cases (+)  Deaths (+)  \\\n",
       "0     Maharashtra  1528226   40345  1528226    40345          0           0   \n",
       "1  Andhra Pradesh   755727    6224   755727     6224          0           0   \n",
       "2       Karnataka   710309    9966   710309     9966          0           0   \n",
       "3      Tamil Nadu   656385   10252   656385    10252          0           0   \n",
       "4   Uttar Pradesh   436979    6394   436979     6394          0           0   \n",
       "\n",
       "   Fatality Rate  \n",
       "0           2.64  \n",
       "1           0.82  \n",
       "2           1.40  \n",
       "3           1.56  \n",
       "4           1.46  "
      ]
     },
     "execution_count": 13,
     "metadata": {},
     "output_type": "execute_result"
    }
   ],
   "source": [
    "#hide\n",
    "df_table.head()"
   ]
  },
  {
   "cell_type": "code",
   "execution_count": 14,
   "metadata": {
    "execution": {
     "iopub.execute_input": "2020-10-12T07:39:20.762607Z",
     "iopub.status.busy": "2020-10-12T07:39:20.762016Z",
     "iopub.status.idle": "2020-10-12T07:39:20.777403Z",
     "shell.execute_reply": "2020-10-12T07:39:20.777846Z"
    },
    "papermill": {
     "duration": 0.03766,
     "end_time": "2020-10-12T07:39:20.777999",
     "exception": false,
     "start_time": "2020-10-12T07:39:20.740339",
     "status": "completed"
    },
    "tags": []
   },
   "outputs": [
    {
     "data": {
      "text/plain": [
       "{'updated': '2020-10-12',\n",
       " 'since': '2020-10-11',\n",
       " 'Cases': 7121832,\n",
       " 'PCases': 7119300,\n",
       " 'Deaths': 109203,\n",
       " 'PDeaths': 109184,\n",
       " 'Cases (+)': 2532,\n",
       " 'Deaths (+)': 19}"
      ]
     },
     "execution_count": 14,
     "metadata": {},
     "output_type": "execute_result"
    }
   ],
   "source": [
    "#hide\n",
    "summary = {'updated':dates[-1], 'since':dates[-2]}\n",
    "list_names = ['Cases', 'PCases', 'Deaths', 'PDeaths', 'Cases (+)', 'Deaths (+)']\n",
    "for name in list_names:\n",
    "    summary[name] = df_table.sum()[name]\n",
    "summary"
   ]
  },
  {
   "cell_type": "code",
   "execution_count": 15,
   "metadata": {
    "execution": {
     "iopub.execute_input": "2020-10-12T07:39:20.815423Z",
     "iopub.status.busy": "2020-10-12T07:39:20.814711Z",
     "iopub.status.idle": "2020-10-12T07:39:20.816384Z",
     "shell.execute_reply": "2020-10-12T07:39:20.816977Z"
    },
    "papermill": {
     "duration": 0.022509,
     "end_time": "2020-10-12T07:39:20.817139",
     "exception": false,
     "start_time": "2020-10-12T07:39:20.794630",
     "status": "completed"
    },
    "tags": []
   },
   "outputs": [],
   "source": [
    "#hide\n",
    "overview = '''\n",
    "<!-- #######  HTML!! #########-->\n",
    "<h1 style=\"color: #5e9ca0; text-align: center;\">India</h1>\n",
    "<p style=\"text-align: center;\">Last update: <strong>{update}</strong></p>\n",
    "<p style=\"text-align: center;\">Confirmed cases:</p>\n",
    "<p style=\"text-align: center;font-size:24px;\">{cases} (<span style=\"color: #ff0000;\">+{new}</span>)</p>\n",
    "<p style=\"text-align: center;\">Confirmed deaths:</p>\n",
    "<p style=\"text-align: center;font-size:24px;\">{deaths} (<span style=\"color: #ff0000;\">+{dnew}</span>)</p>\n",
    "'''"
   ]
  },
  {
   "cell_type": "code",
   "execution_count": 16,
   "metadata": {
    "execution": {
     "iopub.execute_input": "2020-10-12T07:39:20.860317Z",
     "iopub.status.busy": "2020-10-12T07:39:20.859679Z",
     "iopub.status.idle": "2020-10-12T07:39:20.863236Z",
     "shell.execute_reply": "2020-10-12T07:39:20.862777Z"
    },
    "papermill": {
     "duration": 0.028891,
     "end_time": "2020-10-12T07:39:20.863362",
     "exception": false,
     "start_time": "2020-10-12T07:39:20.834471",
     "status": "completed"
    },
    "tags": []
   },
   "outputs": [
    {
     "data": {
      "text/html": [
       "\n",
       "<!-- #######  HTML!! #########-->\n",
       "<h1 style=\"color: #5e9ca0; text-align: center;\">India</h1>\n",
       "<p style=\"text-align: center;\">Last update: <strong>2020-10-12</strong></p>\n",
       "<p style=\"text-align: center;\">Confirmed cases:</p>\n",
       "<p style=\"text-align: center;font-size:24px;\">7121832 (<span style=\"color: #ff0000;\">+2532</span>)</p>\n",
       "<p style=\"text-align: center;\">Confirmed deaths:</p>\n",
       "<p style=\"text-align: center;font-size:24px;\">109203 (<span style=\"color: #ff0000;\">+19</span>)</p>\n"
      ],
      "text/plain": [
       "<IPython.core.display.HTML object>"
      ]
     },
     "metadata": {},
     "output_type": "display_data"
    }
   ],
   "source": [
    "#hide_input\n",
    "update = summary['updated']\n",
    "cases = summary['Cases']\n",
    "new = summary['Cases (+)']\n",
    "deaths = summary['Deaths']\n",
    "dnew = summary['Deaths (+)']\n",
    "\n",
    "html = HTML(overview.format(update=update, cases=cases,new=new,deaths=deaths,dnew=dnew))\n",
    "\n",
    "display(html)"
   ]
  },
  {
   "cell_type": "code",
   "execution_count": 17,
   "metadata": {
    "execution": {
     "iopub.execute_input": "2020-10-12T07:39:20.907349Z",
     "iopub.status.busy": "2020-10-12T07:39:20.906764Z",
     "iopub.status.idle": "2020-10-12T07:39:20.912801Z",
     "shell.execute_reply": "2020-10-12T07:39:20.912329Z"
    },
    "papermill": {
     "duration": 0.0299,
     "end_time": "2020-10-12T07:39:20.912928",
     "exception": false,
     "start_time": "2020-10-12T07:39:20.883028",
     "status": "completed"
    },
    "tags": []
   },
   "outputs": [],
   "source": [
    "#hide\n",
    "dt_cols = list(dft_cases.columns[1:])\n",
    "dft_ct_new_cases = dft_cases.groupby('state')[dt_cols].sum().diff(axis=1).fillna(0).astype(int)\n",
    "dft_ct_new_cases.sort_values(by = dates[-1], ascending = False,inplace = True)"
   ]
  },
  {
   "cell_type": "code",
   "execution_count": 18,
   "metadata": {
    "execution": {
     "iopub.execute_input": "2020-10-12T07:39:20.964856Z",
     "iopub.status.busy": "2020-10-12T07:39:20.964247Z",
     "iopub.status.idle": "2020-10-12T07:39:20.969022Z",
     "shell.execute_reply": "2020-10-12T07:39:20.968541Z"
    },
    "papermill": {
     "duration": 0.038815,
     "end_time": "2020-10-12T07:39:20.969154",
     "exception": false,
     "start_time": "2020-10-12T07:39:20.930339",
     "status": "completed"
    },
    "tags": []
   },
   "outputs": [
    {
     "data": {
      "text/html": [
       "<div>\n",
       "<style scoped>\n",
       "    .dataframe tbody tr th:only-of-type {\n",
       "        vertical-align: middle;\n",
       "    }\n",
       "\n",
       "    .dataframe tbody tr th {\n",
       "        vertical-align: top;\n",
       "    }\n",
       "\n",
       "    .dataframe thead th {\n",
       "        text-align: right;\n",
       "    }\n",
       "</style>\n",
       "<table border=\"1\" class=\"dataframe\">\n",
       "  <thead>\n",
       "    <tr style=\"text-align: right;\">\n",
       "      <th>states</th>\n",
       "      <th>2020-07-01</th>\n",
       "      <th>2020-07-02</th>\n",
       "      <th>2020-07-03</th>\n",
       "      <th>2020-07-04</th>\n",
       "      <th>2020-07-05</th>\n",
       "      <th>2020-07-06</th>\n",
       "      <th>2020-07-07</th>\n",
       "      <th>2020-07-08</th>\n",
       "      <th>2020-07-09</th>\n",
       "      <th>2020-07-10</th>\n",
       "      <th>...</th>\n",
       "      <th>2020-10-03</th>\n",
       "      <th>2020-10-04</th>\n",
       "      <th>2020-10-05</th>\n",
       "      <th>2020-10-06</th>\n",
       "      <th>2020-10-07</th>\n",
       "      <th>2020-10-08</th>\n",
       "      <th>2020-10-09</th>\n",
       "      <th>2020-10-10</th>\n",
       "      <th>2020-10-11</th>\n",
       "      <th>2020-10-12</th>\n",
       "    </tr>\n",
       "    <tr>\n",
       "      <th>state</th>\n",
       "      <th></th>\n",
       "      <th></th>\n",
       "      <th></th>\n",
       "      <th></th>\n",
       "      <th></th>\n",
       "      <th></th>\n",
       "      <th></th>\n",
       "      <th></th>\n",
       "      <th></th>\n",
       "      <th></th>\n",
       "      <th></th>\n",
       "      <th></th>\n",
       "      <th></th>\n",
       "      <th></th>\n",
       "      <th></th>\n",
       "      <th></th>\n",
       "      <th></th>\n",
       "      <th></th>\n",
       "      <th></th>\n",
       "      <th></th>\n",
       "      <th></th>\n",
       "    </tr>\n",
       "  </thead>\n",
       "  <tbody>\n",
       "    <tr>\n",
       "      <th>Odisha</th>\n",
       "      <td>0</td>\n",
       "      <td>229</td>\n",
       "      <td>561</td>\n",
       "      <td>495</td>\n",
       "      <td>469</td>\n",
       "      <td>456</td>\n",
       "      <td>571</td>\n",
       "      <td>527</td>\n",
       "      <td>577</td>\n",
       "      <td>755</td>\n",
       "      <td>...</td>\n",
       "      <td>3053</td>\n",
       "      <td>3326</td>\n",
       "      <td>2617</td>\n",
       "      <td>2673</td>\n",
       "      <td>2995</td>\n",
       "      <td>3144</td>\n",
       "      <td>2697</td>\n",
       "      <td>2854</td>\n",
       "      <td>2546</td>\n",
       "      <td>2423</td>\n",
       "    </tr>\n",
       "    <tr>\n",
       "      <th>Tripura</th>\n",
       "      <td>0</td>\n",
       "      <td>39</td>\n",
       "      <td>93</td>\n",
       "      <td>25</td>\n",
       "      <td>23</td>\n",
       "      <td>111</td>\n",
       "      <td>24</td>\n",
       "      <td>57</td>\n",
       "      <td>16</td>\n",
       "      <td>142</td>\n",
       "      <td>...</td>\n",
       "      <td>190</td>\n",
       "      <td>322</td>\n",
       "      <td>159</td>\n",
       "      <td>275</td>\n",
       "      <td>237</td>\n",
       "      <td>214</td>\n",
       "      <td>223</td>\n",
       "      <td>171</td>\n",
       "      <td>199</td>\n",
       "      <td>109</td>\n",
       "    </tr>\n",
       "    <tr>\n",
       "      <th>Andaman and Nicobar Islands</th>\n",
       "      <td>0</td>\n",
       "      <td>9</td>\n",
       "      <td>7</td>\n",
       "      <td>3</td>\n",
       "      <td>6</td>\n",
       "      <td>16</td>\n",
       "      <td>6</td>\n",
       "      <td>2</td>\n",
       "      <td>7</td>\n",
       "      <td>0</td>\n",
       "      <td>...</td>\n",
       "      <td>10</td>\n",
       "      <td>16</td>\n",
       "      <td>15</td>\n",
       "      <td>13</td>\n",
       "      <td>23</td>\n",
       "      <td>17</td>\n",
       "      <td>24</td>\n",
       "      <td>16</td>\n",
       "      <td>13</td>\n",
       "      <td>0</td>\n",
       "    </tr>\n",
       "    <tr>\n",
       "      <th>Puducherry</th>\n",
       "      <td>0</td>\n",
       "      <td>63</td>\n",
       "      <td>22</td>\n",
       "      <td>80</td>\n",
       "      <td>42</td>\n",
       "      <td>65</td>\n",
       "      <td>30</td>\n",
       "      <td>110</td>\n",
       "      <td>49</td>\n",
       "      <td>72</td>\n",
       "      <td>...</td>\n",
       "      <td>218</td>\n",
       "      <td>337</td>\n",
       "      <td>188</td>\n",
       "      <td>405</td>\n",
       "      <td>479</td>\n",
       "      <td>378</td>\n",
       "      <td>365</td>\n",
       "      <td>337</td>\n",
       "      <td>308</td>\n",
       "      <td>0</td>\n",
       "    </tr>\n",
       "    <tr>\n",
       "      <th>Maharashtra</th>\n",
       "      <td>0</td>\n",
       "      <td>6328</td>\n",
       "      <td>6364</td>\n",
       "      <td>7074</td>\n",
       "      <td>6555</td>\n",
       "      <td>5368</td>\n",
       "      <td>5134</td>\n",
       "      <td>6603</td>\n",
       "      <td>6875</td>\n",
       "      <td>7862</td>\n",
       "      <td>...</td>\n",
       "      <td>14348</td>\n",
       "      <td>12548</td>\n",
       "      <td>10244</td>\n",
       "      <td>12258</td>\n",
       "      <td>14578</td>\n",
       "      <td>13395</td>\n",
       "      <td>12134</td>\n",
       "      <td>11416</td>\n",
       "      <td>10792</td>\n",
       "      <td>0</td>\n",
       "    </tr>\n",
       "  </tbody>\n",
       "</table>\n",
       "<p>5 rows × 104 columns</p>\n",
       "</div>"
      ],
      "text/plain": [
       "states                       2020-07-01  2020-07-02  2020-07-03  2020-07-04  \\\n",
       "state                                                                         \n",
       "Odisha                                0         229         561         495   \n",
       "Tripura                               0          39          93          25   \n",
       "Andaman and Nicobar Islands           0           9           7           3   \n",
       "Puducherry                            0          63          22          80   \n",
       "Maharashtra                           0        6328        6364        7074   \n",
       "\n",
       "states                       2020-07-05  2020-07-06  2020-07-07  2020-07-08  \\\n",
       "state                                                                         \n",
       "Odisha                              469         456         571         527   \n",
       "Tripura                              23         111          24          57   \n",
       "Andaman and Nicobar Islands           6          16           6           2   \n",
       "Puducherry                           42          65          30         110   \n",
       "Maharashtra                        6555        5368        5134        6603   \n",
       "\n",
       "states                       2020-07-09  2020-07-10  ...  2020-10-03  \\\n",
       "state                                                ...               \n",
       "Odisha                              577         755  ...        3053   \n",
       "Tripura                              16         142  ...         190   \n",
       "Andaman and Nicobar Islands           7           0  ...          10   \n",
       "Puducherry                           49          72  ...         218   \n",
       "Maharashtra                        6875        7862  ...       14348   \n",
       "\n",
       "states                       2020-10-04  2020-10-05  2020-10-06  2020-10-07  \\\n",
       "state                                                                         \n",
       "Odisha                             3326        2617        2673        2995   \n",
       "Tripura                             322         159         275         237   \n",
       "Andaman and Nicobar Islands          16          15          13          23   \n",
       "Puducherry                          337         188         405         479   \n",
       "Maharashtra                       12548       10244       12258       14578   \n",
       "\n",
       "states                       2020-10-08  2020-10-09  2020-10-10  2020-10-11  \\\n",
       "state                                                                         \n",
       "Odisha                             3144        2697        2854        2546   \n",
       "Tripura                             214         223         171         199   \n",
       "Andaman and Nicobar Islands          17          24          16          13   \n",
       "Puducherry                          378         365         337         308   \n",
       "Maharashtra                       13395       12134       11416       10792   \n",
       "\n",
       "states                       2020-10-12  \n",
       "state                                    \n",
       "Odisha                             2423  \n",
       "Tripura                             109  \n",
       "Andaman and Nicobar Islands           0  \n",
       "Puducherry                            0  \n",
       "Maharashtra                           0  \n",
       "\n",
       "[5 rows x 104 columns]"
      ]
     },
     "execution_count": 18,
     "metadata": {},
     "output_type": "execute_result"
    }
   ],
   "source": [
    "#hide\n",
    "dft_ct_new_cases.head()"
   ]
  },
  {
   "cell_type": "code",
   "execution_count": 19,
   "metadata": {
    "execution": {
     "iopub.execute_input": "2020-10-12T07:39:21.028758Z",
     "iopub.status.busy": "2020-10-12T07:39:21.017590Z",
     "iopub.status.idle": "2020-10-12T07:39:24.984173Z",
     "shell.execute_reply": "2020-10-12T07:39:24.984660Z"
    },
    "papermill": {
     "duration": 3.998,
     "end_time": "2020-10-12T07:39:24.984824",
     "exception": false,
     "start_time": "2020-10-12T07:39:20.986824",
     "status": "completed"
    },
    "tags": []
   },
   "outputs": [
    {
     "data": {
      "image/png": "[encoded data removed]",
      "text/plain": [
       "<Figure size 1296x2016 with 11 Axes>"
      ]
     },
     "metadata": {
      "needs_background": "light"
     },
     "output_type": "display_data"
    }
   ],
   "source": [
    "#hide_input\n",
    "df = dft_ct_new_cases.copy()\n",
    "df.loc['Total'] = df.sum()\n",
    "n = 5\n",
    "ax = []\n",
    "fig = plt.figure(figsize = (18,28))\n",
    "gs = fig.add_gridspec(n+2, 5)\n",
    "# gs = fig.add_gridspec(2, 3)\n",
    "ax1 = fig.add_subplot(gs[0, :])\n",
    "ef = df.loc['Total'].rename_axis('date').reset_index()\n",
    "ef['date'] = ef['date'].astype('datetime64[ns]')\n",
    "ax1.bar(ef.date,ef.Total,alpha=0.3,color='#007acc')\n",
    "ax1.plot(ef.date,ef.Total , marker=\"o\", color='#007acc')\n",
    "ax1.xaxis.set_major_locator(mdates.WeekdayLocator())\n",
    "ax1.xaxis.set_major_formatter(mdates.DateFormatter('%b %d'))\n",
    "ax1.text(0.02, 0.5,'India daily case count', transform = ax1.transAxes, fontsize=25);\n",
    "ax1.spines['right'].set_visible(False)\n",
    "ax1.spines['top'].set_visible(False)\n",
    "\n",
    "ax2 = fig.add_subplot(gs[1,0])\n",
    "ef = df.loc['Maharashtra'].rename_axis('date').reset_index()\n",
    "ef['date'] = ef['date'].astype('datetime64[ns]')\n",
    "\n",
    "ax2.bar(ef.date, ef.Maharashtra,color = '#007acc',alpha=0.5)\n",
    "ax2.xaxis.set_major_locator(mdates.WeekdayLocator())\n",
    "ax2.xaxis.set_major_formatter(mdates.DateFormatter('%b %d'))\n",
    "ax2.set_xticks(ax2.get_xticks()[::3])\n",
    "maxyval = ef.Maharashtra.max()\n",
    "ax2.set_ylim([0,maxyval])\n",
    "ax2.text(0.05, 0.9,'Maharashtra', transform = ax2.transAxes, fontsize=20);\n",
    "ax2.spines['right'].set_visible(False)\n",
    "ax2.spines['top'].set_visible(False)\n",
    "\n",
    "\n",
    "ax3 = fig.add_subplot(gs[1,1])\n",
    "ef = df.loc['Tamil Nadu'].rename_axis('date').reset_index()\n",
    "ef['date'] = ef['date'].astype('datetime64[ns]')\n",
    "ax3.bar(ef.date, ef['Tamil Nadu'],color = '#007acc',alpha=0.5,)\n",
    "ax3.xaxis.set_major_locator(mdates.WeekdayLocator())\n",
    "ax3.xaxis.set_major_formatter(mdates.DateFormatter('%b %d'))\n",
    "ax3.set_xticks(ax3.get_xticks()[::3])\n",
    "ax3.text(0.05, 0.9,'Tamil Nadu', transform = ax3.transAxes, fontsize=20);\n",
    "ax3.spines['right'].set_visible(False)\n",
    "ax3.spines['top'].set_visible(False)\n",
    "\n",
    "ax5 = fig.add_subplot(gs[1,3])\n",
    "ef = df.loc['Telangana'].rename_axis('date').reset_index()\n",
    "ef['date'] = ef['date'].astype('datetime64[ns]')\n",
    "ax5.bar(ef.date, ef['Telangana'],color = '#007acc',alpha=0.5,)\n",
    "ax5.xaxis.set_major_locator(mdates.WeekdayLocator())\n",
    "ax5.xaxis.set_major_formatter(mdates.DateFormatter('%b %d'))\n",
    "ax5.set_xticks(ax5.get_xticks()[::3])\n",
    "ax5.text(0.05, 0.9,'Telangana', transform = ax5.transAxes, fontsize=20);\n",
    "ax5.spines['right'].set_visible(False)\n",
    "ax5.spines['top'].set_visible(False)\n",
    "\n",
    "ax6 = fig.add_subplot(gs[1,4])\n",
    "ef = df.loc['Andhra Pradesh'].rename_axis('date').reset_index()\n",
    "ef['date'] = ef['date'].astype('datetime64[ns]')\n",
    "ax6.bar(ef.date, ef['Andhra Pradesh'],color = '#007acc',alpha=0.5,)\n",
    "ax6.xaxis.set_major_locator(mdates.WeekdayLocator())\n",
    "ax6.xaxis.set_major_formatter(mdates.DateFormatter('%b %d'))\n",
    "ax6.set_xticks(ax6.get_xticks()[::3])\n",
    "ax6.text(0.05, 1,'Andhra Pradesh', transform = ax6.transAxes, fontsize=20);\n",
    "ax6.spines['right'].set_visible(False)\n",
    "ax6.spines['top'].set_visible(False)\n",
    "\n",
    "ax4 = fig.add_subplot(gs[1,2])\n",
    "ef = df.loc['Delhi'].rename_axis('date').reset_index()\n",
    "ef['date'] = ef['date'].astype('datetime64[ns]')\n",
    "ax4.bar(ef.date, ef.Delhi,color = '#007acc',alpha=0.5)\n",
    "ax4.set_xticks([])\n",
    "ax4.xaxis.set_major_locator(mdates.WeekdayLocator())\n",
    "ax4.xaxis.set_major_formatter(mdates.DateFormatter('%b %d'))\n",
    "ax4.set_xticks(ax4.get_xticks()[::3])\n",
    "ax4.spines['right'].set_visible(False)\n",
    "ax4.spines['top'].set_visible(False)\n",
    "\n",
    "ax4.text(0.05, 1,'Delhi', transform = ax4.transAxes, fontsize=20)\n",
    "\n",
    "for i in range(n):\n",
    "    \n",
    "    ax.append(fig.add_subplot(gs[i+2,:]))\n",
    "    ef = df.iloc[i+3].rename_axis('date').reset_index()\n",
    "    ef['date'] = ef['date'].astype('datetime64[ns]')\n",
    "    ax[i].bar(ef.date,ef.iloc[:,-1],color = '#007acc',alpha=0.3)\n",
    "    ax[i].plot(ef.date,ef.iloc[:,-1],marker='o',color='#007acc')\n",
    "    ax[i].text(0.02,0.5,f'{ef.columns.values[-1]}',transform = ax[i].transAxes, fontsize = 20);\n",
    "    ax[i].xaxis.set_major_locator(mdates.WeekdayLocator())\n",
    "    ax[i].xaxis.set_major_formatter(mdates.DateFormatter('%b %d'))\n",
    "    ax[i].set_ylim([0,7000])\n",
    "    ax[i].spines['right'].set_visible(False)\n",
    "    ax[i].spines['top'].set_visible(False)\n",
    "plt.tight_layout()\n"
   ]
  },
  {
   "cell_type": "code",
   "execution_count": 20,
   "metadata": {
    "execution": {
     "iopub.execute_input": "2020-10-12T07:39:25.039208Z",
     "iopub.status.busy": "2020-10-12T07:39:25.038569Z",
     "iopub.status.idle": "2020-10-12T07:39:25.040832Z",
     "shell.execute_reply": "2020-10-12T07:39:25.041342Z"
    },
    "papermill": {
     "duration": 0.034347,
     "end_time": "2020-10-12T07:39:25.041491",
     "exception": false,
     "start_time": "2020-10-12T07:39:25.007144",
     "status": "completed"
    },
    "tags": []
   },
   "outputs": [
    {
     "name": "stdout",
     "output_type": "stream",
     "text": [
      "                                   states    Cases  Deaths   PCases  PDeaths  Cases (+)  Deaths (+)  Fatality Rate\n",
      "                              Maharashtra  1528226   40345  1528226    40345          0           0           2.64\n",
      "                           Andhra Pradesh   755727    6224   755727     6224          0           0           0.82\n",
      "                                Karnataka   710309    9966   710309     9966          0           0           1.40\n",
      "                               Tamil Nadu   656385   10252   656385    10252          0           0           1.56\n",
      "                            Uttar Pradesh   436979    6394   436979     6394          0           0           1.46\n",
      "                                    Delhi   309339    5769   309339     5769          0           0           1.86\n",
      "                              West Bengal   294806    5622   294806     5622          0           0           1.91\n",
      "                                   Kerala   289203    1004   289203     1004          0           0           0.35\n",
      "                                   Odisha   254662    1093   252239     1075       2423          18           0.43\n",
      "                                Telangana   212063    1222   212063     1222          0           0           0.58\n",
      "                                    Bihar   196268     946   196268      946          0           0           0.48\n",
      "                                    Assam   193783     816   193783      816          0           0           0.42\n",
      "                                Rajasthan   159052    1650   159052     1650          0           0           1.04\n",
      "                                  Gujarat   151595    3569   151595     3569          0           0           2.35\n",
      "                           Madhya Pradesh   146820    2624   146820     2624          0           0           1.79\n",
      "                             Chhattisgarh   142372    1253   142372     1253          0           0           0.88\n",
      "                                  Haryana   142155    1579   142155     1579          0           0           1.11\n",
      "                                   Punjab   123973    3833   123973     3833          0           0           3.09\n",
      "                                Jharkhand    92525     787    92525      787          0           0           0.85\n",
      "                        Jammu and Kashmir    83633    1322    83633     1322          0           0           1.58\n",
      "                              Uttarakhand    55051     747    55051      747          0           0           1.36\n",
      "                                      Goa    38366     507    38366      507          0           0           1.32\n",
      "                               Puducherry    31549     563    31549      563          0           0           1.78\n",
      "                                  Tripura    28458     313    28349      312        109           1           1.10\n",
      "                         Himachal Pradesh    17408     245    17408      245          0           0           1.41\n",
      "                                  Manipur    13326      91    13326       91          0           0           0.68\n",
      "                               Chandigarh    13166     191    13166      191          0           0           1.45\n",
      "                        Arunachal Pradesh    12147      24    12147       24          0           0           0.20\n",
      "                                Meghalaya     7683      63     7683       63          0           0           0.82\n",
      "                                 Nagaland     7019      12     7019       12          0           0           0.17\n",
      "                                   Ladakh     5081      64     5081       64          0           0           1.26\n",
      "              Andaman and Nicobar Islands     4005      55     4005       55          0           0           1.37\n",
      "                                   Sikkim     3360      56     3360       56          0           0           1.67\n",
      " Dadra and Nagar Haveli and Daman and Diu     3163       2     3163        2          0           0           0.06\n",
      "                                  Mizoram     2175       0     2175        0          0           0           0.00\n",
      "                              Lakshadweep        0       0        0        0          0           0            NaN\n"
     ]
    }
   ],
   "source": [
    "#hide_input\n",
    "print(df_table.to_string(index=False))"
   ]
  },
  {
   "cell_type": "code",
   "execution_count": null,
   "metadata": {
    "papermill": {
     "duration": 0.023286,
     "end_time": "2020-10-12T07:39:25.088825",
     "exception": false,
     "start_time": "2020-10-12T07:39:25.065539",
     "status": "completed"
    },
    "tags": []
   },
   "outputs": [],
   "source": []
  },
  {
   "cell_type": "code",
   "execution_count": null,
   "metadata": {
    "papermill": {
     "duration": 0.02368,
     "end_time": "2020-10-12T07:39:25.135461",
     "exception": false,
     "start_time": "2020-10-12T07:39:25.111781",
     "status": "completed"
    },
    "tags": []
   },
   "outputs": [],
   "source": []
  }
 ],
 "metadata": {
  "kernelspec": {
   "display_name": "Python 3",
   "language": "python",
   "name": "python3"
  },
  "language_info": {
   "codemirror_mode": {
    "name": "ipython",
    "version": 3
   },
   "file_extension": ".py",
   "mimetype": "text/x-python",
   "name": "python",
   "nbconvert_exporter": "python",
   "pygments_lexer": "ipython3",
   "version": "3.6.12"
  },
  "papermill": {
   "duration": 11.340063,
   "end_time": "2020-10-12T07:39:26.391303",
   "environment_variables": {},
   "exception": null,
   "input_path": "latest.ipynb",
   "output_path": "latest.ipynb",
   "parameters": {},
   "start_time": "2020-10-12T07:39:15.051240",
   "version": "2.1.2"
  }
 },
 "nbformat": 4,
 "nbformat_minor": 4
}