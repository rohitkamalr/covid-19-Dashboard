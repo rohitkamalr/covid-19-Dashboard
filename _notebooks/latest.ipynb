{
 "cells": [
  {
   "cell_type": "markdown",
   "metadata": {
    "papermill": {
     "duration": 0.018862,
     "end_time": "2020-09-03T12:39:05.114572",
     "exception": false,
     "start_time": "2020-09-03T12:39:05.095710",
     "status": "completed"
    },
    "tags": []
   },
   "source": [
    "# Latest COVID-19 India Matplotlib Overview"
   ]
  },
  {
   "cell_type": "code",
   "execution_count": 1,
   "metadata": {
    "execution": {
     "iopub.execute_input": "2020-09-03T12:39:05.156239Z",
     "iopub.status.busy": "2020-09-03T12:39:05.155459Z",
     "iopub.status.idle": "2020-09-03T12:39:05.747229Z",
     "shell.execute_reply": "2020-09-03T12:39:05.746317Z"
    },
    "papermill": {
     "duration": 0.616448,
     "end_time": "2020-09-03T12:39:05.747376",
     "exception": false,
     "start_time": "2020-09-03T12:39:05.130928",
     "status": "completed"
    },
    "tags": []
   },
   "outputs": [],
   "source": [
    "#hide\n",
    "import pandas as pd\n",
    "import numpy as np\n",
    "import requests\n",
    "import json\n",
    "import matplotlib.pyplot as plt\n",
    "import matplotlib.dates as mdates\n",
    "import matplotlib as mpl\n",
    "from IPython.core.display import display,HTML\n",
    "%matplotlib inline\n",
    "from datetime import date"
   ]
  },
  {
   "cell_type": "code",
   "execution_count": 2,
   "metadata": {
    "execution": {
     "iopub.execute_input": "2020-09-03T12:39:05.782201Z",
     "iopub.status.busy": "2020-09-03T12:39:05.781537Z",
     "iopub.status.idle": "2020-09-03T12:39:06.041888Z",
     "shell.execute_reply": "2020-09-03T12:39:06.041393Z"
    },
    "papermill": {
     "duration": 0.280076,
     "end_time": "2020-09-03T12:39:06.042023",
     "exception": false,
     "start_time": "2020-09-03T12:39:05.761947",
     "status": "completed"
    },
    "tags": []
   },
   "outputs": [],
   "source": [
    "#hide\n",
    "df  = pd.read_csv('https://api.covid19india.org/csv/latest/states.csv')\n",
    "df = df[['Date','State','Confirmed','Deceased']]\n",
    "df = df.rename(columns={'Confirmed':'Cases', \"Deceased\":'Deaths'})\n",
    "df_cases = df[[\"Date\",'State','Cases']]\n",
    "df_deaths = df[['Date','State','Deaths']]\n",
    "df_cases1 = df_cases.groupby('Date')\n",
    "df_deaths1= df_deaths.groupby('Date')"
   ]
  },
  {
   "cell_type": "code",
   "execution_count": 3,
   "metadata": {
    "execution": {
     "iopub.execute_input": "2020-09-03T12:39:06.077574Z",
     "iopub.status.busy": "2020-09-03T12:39:06.076984Z",
     "iopub.status.idle": "2020-09-03T12:39:06.094415Z",
     "shell.execute_reply": "2020-09-03T12:39:06.093786Z"
    },
    "papermill": {
     "duration": 0.037868,
     "end_time": "2020-09-03T12:39:06.094522",
     "exception": false,
     "start_time": "2020-09-03T12:39:06.056654",
     "status": "completed"
    },
    "tags": []
   },
   "outputs": [],
   "source": [
    "#hide\n",
    "df_snap = pd.read_csv('data/SnapshotCases-28-July.csv')\n",
    "arr_states = df_snap['states'].unique()\n",
    "arr_dates = df['Date'].unique()\n",
    "df_snap = df_snap.set_index('states')"
   ]
  },
  {
   "cell_type": "code",
   "execution_count": 4,
   "metadata": {
    "execution": {
     "iopub.execute_input": "2020-09-03T12:39:06.131961Z",
     "iopub.status.busy": "2020-09-03T12:39:06.131366Z",
     "iopub.status.idle": "2020-09-03T12:39:06.134759Z",
     "shell.execute_reply": "2020-09-03T12:39:06.135330Z"
    },
    "papermill": {
     "duration": 0.02597,
     "end_time": "2020-09-03T12:39:06.135575",
     "exception": false,
     "start_time": "2020-09-03T12:39:06.109605",
     "status": "completed"
    },
    "tags": []
   },
   "outputs": [
    {
     "data": {
      "text/plain": [
       "array(['Andaman and Nicobar Islands', 'Andhra Pradesh',\n",
       "       'Arunachal Pradesh', 'Assam', 'Bihar', 'Chandigarh',\n",
       "       'Dadra and Nagar Haveli and Daman and Diu', 'Delhi', 'Goa',\n",
       "       'Gujarat', 'Haryana', 'Himachal Pradesh', 'Jammu and Kashmir',\n",
       "       'Jharkhand', 'Karnataka', 'Kerala', 'Lakshadweep',\n",
       "       'Madhya Pradesh', 'Maharashtra', 'Manipur', 'Meghalaya', 'Mizoram',\n",
       "       'Nagaland', 'Odisha', 'Puducherry', 'Punjab', 'Rajasthan',\n",
       "       'Sikkim', 'Tamil Nadu', 'Telangana', 'Tripura', 'Uttar Pradesh',\n",
       "       'West Bengal', 'Chhattisgarh', 'Ladakh', 'Uttarakhand'],\n",
       "      dtype=object)"
      ]
     },
     "execution_count": 4,
     "metadata": {},
     "output_type": "execute_result"
    }
   ],
   "source": [
    "#hide\n",
    "arr_states[-9] = 'Puducherry'\n",
    "arr_states[-10] = 'Odisha'\n",
    "arr_states[6] = 'Dadra and Nagar Haveli and Daman and Diu'\n",
    "arr_states = np.append(arr_states,np.array(['Chhattisgarh','Ladakh','Uttarakhand']))\n",
    "arr_states"
   ]
  },
  {
   "cell_type": "code",
   "execution_count": 5,
   "metadata": {
    "execution": {
     "iopub.execute_input": "2020-09-03T12:39:06.177811Z",
     "iopub.status.busy": "2020-09-03T12:39:06.177224Z",
     "iopub.status.idle": "2020-09-03T12:39:06.185287Z",
     "shell.execute_reply": "2020-09-03T12:39:06.184804Z"
    },
    "papermill": {
     "duration": 0.032817,
     "end_time": "2020-09-03T12:39:06.185497",
     "exception": false,
     "start_time": "2020-09-03T12:39:06.152680",
     "status": "completed"
    },
    "tags": []
   },
   "outputs": [],
   "source": [
    "#hide\n",
    "dates = []\n",
    "for i in arr_dates:\n",
    "    if i>='2020-07-01':\n",
    "        dates.append(i)\n",
    "dict = {'states':dates}\n",
    "for i in arr_states:\n",
    "    dict[i] = [0]*len(dates)\n",
    "dft_cases = pd.DataFrame(dict)\n",
    "dft_deaths = pd.DataFrame(dict)\n"
   ]
  },
  {
   "cell_type": "code",
   "execution_count": 6,
   "metadata": {
    "execution": {
     "iopub.execute_input": "2020-09-03T12:39:06.224343Z",
     "iopub.status.busy": "2020-09-03T12:39:06.223622Z",
     "iopub.status.idle": "2020-09-03T12:39:07.324300Z",
     "shell.execute_reply": "2020-09-03T12:39:07.323764Z"
    },
    "papermill": {
     "duration": 1.122203,
     "end_time": "2020-09-03T12:39:07.324438",
     "exception": false,
     "start_time": "2020-09-03T12:39:06.202235",
     "status": "completed"
    },
    "tags": []
   },
   "outputs": [],
   "source": [
    "#hide\n",
    "for i in range(len(dates)):\n",
    "    df1_deaths = df_deaths1.get_group(dates[i])\n",
    "    for j in range(len(df1_deaths.index)):\n",
    "        if df1_deaths.iloc[j,1] in arr_states:\n",
    "            dft_deaths.loc[i,df1_deaths.iloc[j,1]] = df1_deaths.iloc[j,2]\n",
    "dft_deaths = dft_deaths.set_index('states')"
   ]
  },
  {
   "cell_type": "code",
   "execution_count": 7,
   "metadata": {
    "execution": {
     "iopub.execute_input": "2020-09-03T12:39:07.945380Z",
     "iopub.status.busy": "2020-09-03T12:39:07.944585Z",
     "iopub.status.idle": "2020-09-03T12:39:09.024303Z",
     "shell.execute_reply": "2020-09-03T12:39:09.024886Z"
    },
    "papermill": {
     "duration": 1.684975,
     "end_time": "2020-09-03T12:39:09.025063",
     "exception": false,
     "start_time": "2020-09-03T12:39:07.340088",
     "status": "completed"
    },
    "tags": []
   },
   "outputs": [],
   "source": [
    "#hide\n",
    "for i in range(len(dates)):\n",
    "    df1_cases = df_cases1.get_group(dates[i])\n",
    "    for j in range(len(df1_cases.index)):\n",
    "        if df1_cases.iloc[j,1] in arr_states:\n",
    "            dft_cases.loc[i,df1_cases.iloc[j,1]] = df1_cases.iloc[j,2]\n",
    "dft_cases = dft_cases.set_index('states')"
   ]
  },
  {
   "cell_type": "code",
   "execution_count": 8,
   "metadata": {
    "execution": {
     "iopub.execute_input": "2020-09-03T12:39:09.064492Z",
     "iopub.status.busy": "2020-09-03T12:39:09.063863Z",
     "iopub.status.idle": "2020-09-03T12:39:09.066635Z",
     "shell.execute_reply": "2020-09-03T12:39:09.067058Z"
    },
    "papermill": {
     "duration": 0.025718,
     "end_time": "2020-09-03T12:39:09.067185",
     "exception": false,
     "start_time": "2020-09-03T12:39:09.041467",
     "status": "completed"
    },
    "tags": []
   },
   "outputs": [],
   "source": [
    "#hide\n",
    "dft_cases = dft_cases.T\n",
    "dft_deaths = dft_deaths.T\n",
    "dt_today = dates[-1]\n",
    "dt_yday = dates[-2]"
   ]
  },
  {
   "cell_type": "code",
   "execution_count": 9,
   "metadata": {
    "execution": {
     "iopub.execute_input": "2020-09-03T12:39:09.104793Z",
     "iopub.status.busy": "2020-09-03T12:39:09.102062Z",
     "iopub.status.idle": "2020-09-03T12:39:09.107107Z",
     "shell.execute_reply": "2020-09-03T12:39:09.106595Z"
    },
    "papermill": {
     "duration": 0.024797,
     "end_time": "2020-09-03T12:39:09.107221",
     "exception": false,
     "start_time": "2020-09-03T12:39:09.082424",
     "status": "completed"
    },
    "tags": []
   },
   "outputs": [],
   "source": [
    "#hide\n",
    "dft_cases = dft_cases.reset_index()\n",
    "dft_deaths = dft_deaths.reset_index()\n",
    "dft_cases = dft_cases.rename(columns = {'index':'state'})\n",
    "dft_deaths = dft_deaths.rename(columns = {'index':'state'})"
   ]
  },
  {
   "cell_type": "code",
   "execution_count": 10,
   "metadata": {
    "execution": {
     "iopub.execute_input": "2020-09-03T12:39:09.148637Z",
     "iopub.status.busy": "2020-09-03T12:39:09.142583Z",
     "iopub.status.idle": "2020-09-03T12:39:09.150940Z",
     "shell.execute_reply": "2020-09-03T12:39:09.150445Z"
    },
    "papermill": {
     "duration": 0.029271,
     "end_time": "2020-09-03T12:39:09.151047",
     "exception": false,
     "start_time": "2020-09-03T12:39:09.121776",
     "status": "completed"
    },
    "tags": []
   },
   "outputs": [],
   "source": [
    "#hide\n",
    "dfc_cases = dft_cases.groupby('state')[dt_today].sum()\n",
    "dfc_deaths = dft_deaths.groupby('state')[dt_today].sum()\n",
    "dfp_cases = dft_cases.groupby('state')[dt_yday].sum()\n",
    "dfp_deaths = dft_deaths.groupby('state')[dt_yday].sum()"
   ]
  },
  {
   "cell_type": "code",
   "execution_count": 11,
   "metadata": {
    "execution": {
     "iopub.execute_input": "2020-09-03T12:39:09.194112Z",
     "iopub.status.busy": "2020-09-03T12:39:09.184624Z",
     "iopub.status.idle": "2020-09-03T12:39:09.201385Z",
     "shell.execute_reply": "2020-09-03T12:39:09.200770Z"
    },
    "papermill": {
     "duration": 0.036667,
     "end_time": "2020-09-03T12:39:09.201581",
     "exception": false,
     "start_time": "2020-09-03T12:39:09.164914",
     "status": "completed"
    },
    "tags": []
   },
   "outputs": [
    {
     "data": {
      "text/html": [
       "<div>\n",
       "<style scoped>\n",
       "    .dataframe tbody tr th:only-of-type {\n",
       "        vertical-align: middle;\n",
       "    }\n",
       "\n",
       "    .dataframe tbody tr th {\n",
       "        vertical-align: top;\n",
       "    }\n",
       "\n",
       "    .dataframe thead th {\n",
       "        text-align: right;\n",
       "    }\n",
       "</style>\n",
       "<table border=\"1\" class=\"dataframe\">\n",
       "  <thead>\n",
       "    <tr style=\"text-align: right;\">\n",
       "      <th></th>\n",
       "      <th>states</th>\n",
       "      <th>Cases</th>\n",
       "      <th>Deaths</th>\n",
       "      <th>PCases</th>\n",
       "      <th>PDeaths</th>\n",
       "    </tr>\n",
       "  </thead>\n",
       "  <tbody>\n",
       "    <tr>\n",
       "      <th>0</th>\n",
       "      <td>Maharashtra</td>\n",
       "      <td>825739</td>\n",
       "      <td>25195</td>\n",
       "      <td>825739</td>\n",
       "      <td>25195</td>\n",
       "    </tr>\n",
       "    <tr>\n",
       "      <th>1</th>\n",
       "      <td>Andhra Pradesh</td>\n",
       "      <td>455531</td>\n",
       "      <td>4125</td>\n",
       "      <td>455531</td>\n",
       "      <td>4125</td>\n",
       "    </tr>\n",
       "    <tr>\n",
       "      <th>2</th>\n",
       "      <td>Tamil Nadu</td>\n",
       "      <td>439959</td>\n",
       "      <td>7516</td>\n",
       "      <td>439959</td>\n",
       "      <td>7516</td>\n",
       "    </tr>\n",
       "    <tr>\n",
       "      <th>3</th>\n",
       "      <td>Karnataka</td>\n",
       "      <td>361341</td>\n",
       "      <td>5950</td>\n",
       "      <td>361341</td>\n",
       "      <td>5950</td>\n",
       "    </tr>\n",
       "    <tr>\n",
       "      <th>4</th>\n",
       "      <td>Uttar Pradesh</td>\n",
       "      <td>247101</td>\n",
       "      <td>3691</td>\n",
       "      <td>241439</td>\n",
       "      <td>3616</td>\n",
       "    </tr>\n",
       "  </tbody>\n",
       "</table>\n",
       "</div>"
      ],
      "text/plain": [
       "           states   Cases  Deaths  PCases  PDeaths\n",
       "0     Maharashtra  825739   25195  825739    25195\n",
       "1  Andhra Pradesh  455531    4125  455531     4125\n",
       "2      Tamil Nadu  439959    7516  439959     7516\n",
       "3       Karnataka  361341    5950  361341     5950\n",
       "4   Uttar Pradesh  247101    3691  241439     3616"
      ]
     },
     "execution_count": 11,
     "metadata": {},
     "output_type": "execute_result"
    }
   ],
   "source": [
    "#hide\n",
    "df_table = pd.DataFrame({'states': dfc_cases.index, 'Cases': dfc_cases.values, 'Deaths': dfc_deaths.values, 'PCases': dfp_cases.values, 'PDeaths': dfp_deaths.values}).set_index('states')\n",
    "df_table = df_table.sort_values(by = ['Cases','Deaths'], ascending = [False, False])\n",
    "df_table = df_table.reset_index()\n",
    "df_table.head()"
   ]
  },
  {
   "cell_type": "code",
   "execution_count": 12,
   "metadata": {
    "execution": {
     "iopub.execute_input": "2020-09-03T12:39:09.237549Z",
     "iopub.status.busy": "2020-09-03T12:39:09.236925Z",
     "iopub.status.idle": "2020-09-03T12:39:09.245624Z",
     "shell.execute_reply": "2020-09-03T12:39:09.244880Z"
    },
    "papermill": {
     "duration": 0.028291,
     "end_time": "2020-09-03T12:39:09.245889",
     "exception": false,
     "start_time": "2020-09-03T12:39:09.217598",
     "status": "completed"
    },
    "tags": []
   },
   "outputs": [],
   "source": [
    "#hide\n",
    "for c in 'Cases, Deaths'.split(', '):\n",
    "    df_table[f'{c} (+)'] = (df_table[c] - df_table[f'P{c}']).clip(0)\n",
    "df_table['Fatality Rate'] = (100* df_table['Deaths']/ df_table['Cases']).round(2)"
   ]
  },
  {
   "cell_type": "code",
   "execution_count": 13,
   "metadata": {
    "execution": {
     "iopub.execute_input": "2020-09-03T12:39:09.293574Z",
     "iopub.status.busy": "2020-09-03T12:39:09.292986Z",
     "iopub.status.idle": "2020-09-03T12:39:09.298456Z",
     "shell.execute_reply": "2020-09-03T12:39:09.298917Z"
    },
    "papermill": {
     "duration": 0.035918,
     "end_time": "2020-09-03T12:39:09.299051",
     "exception": false,
     "start_time": "2020-09-03T12:39:09.263133",
     "status": "completed"
    },
    "tags": []
   },
   "outputs": [
    {
     "data": {
      "text/html": [
       "<div>\n",
       "<style scoped>\n",
       "    .dataframe tbody tr th:only-of-type {\n",
       "        vertical-align: middle;\n",
       "    }\n",
       "\n",
       "    .dataframe tbody tr th {\n",
       "        vertical-align: top;\n",
       "    }\n",
       "\n",
       "    .dataframe thead th {\n",
       "        text-align: right;\n",
       "    }\n",
       "</style>\n",
       "<table border=\"1\" class=\"dataframe\">\n",
       "  <thead>\n",
       "    <tr style=\"text-align: right;\">\n",
       "      <th></th>\n",
       "      <th>states</th>\n",
       "      <th>Cases</th>\n",
       "      <th>Deaths</th>\n",
       "      <th>PCases</th>\n",
       "      <th>PDeaths</th>\n",
       "      <th>Cases (+)</th>\n",
       "      <th>Deaths (+)</th>\n",
       "      <th>Fatality Rate</th>\n",
       "    </tr>\n",
       "  </thead>\n",
       "  <tbody>\n",
       "    <tr>\n",
       "      <th>0</th>\n",
       "      <td>Maharashtra</td>\n",
       "      <td>825739</td>\n",
       "      <td>25195</td>\n",
       "      <td>825739</td>\n",
       "      <td>25195</td>\n",
       "      <td>0</td>\n",
       "      <td>0</td>\n",
       "      <td>3.05</td>\n",
       "    </tr>\n",
       "    <tr>\n",
       "      <th>1</th>\n",
       "      <td>Andhra Pradesh</td>\n",
       "      <td>455531</td>\n",
       "      <td>4125</td>\n",
       "      <td>455531</td>\n",
       "      <td>4125</td>\n",
       "      <td>0</td>\n",
       "      <td>0</td>\n",
       "      <td>0.91</td>\n",
       "    </tr>\n",
       "    <tr>\n",
       "      <th>2</th>\n",
       "      <td>Tamil Nadu</td>\n",
       "      <td>439959</td>\n",
       "      <td>7516</td>\n",
       "      <td>439959</td>\n",
       "      <td>7516</td>\n",
       "      <td>0</td>\n",
       "      <td>0</td>\n",
       "      <td>1.71</td>\n",
       "    </tr>\n",
       "    <tr>\n",
       "      <th>3</th>\n",
       "      <td>Karnataka</td>\n",
       "      <td>361341</td>\n",
       "      <td>5950</td>\n",
       "      <td>361341</td>\n",
       "      <td>5950</td>\n",
       "      <td>0</td>\n",
       "      <td>0</td>\n",
       "      <td>1.65</td>\n",
       "    </tr>\n",
       "    <tr>\n",
       "      <th>4</th>\n",
       "      <td>Uttar Pradesh</td>\n",
       "      <td>247101</td>\n",
       "      <td>3691</td>\n",
       "      <td>241439</td>\n",
       "      <td>3616</td>\n",
       "      <td>5662</td>\n",
       "      <td>75</td>\n",
       "      <td>1.49</td>\n",
       "    </tr>\n",
       "  </tbody>\n",
       "</table>\n",
       "</div>"
      ],
      "text/plain": [
       "           states   Cases  Deaths  PCases  PDeaths  Cases (+)  Deaths (+)  \\\n",
       "0     Maharashtra  825739   25195  825739    25195          0           0   \n",
       "1  Andhra Pradesh  455531    4125  455531     4125          0           0   \n",
       "2      Tamil Nadu  439959    7516  439959     7516          0           0   \n",
       "3       Karnataka  361341    5950  361341     5950          0           0   \n",
       "4   Uttar Pradesh  247101    3691  241439     3616       5662          75   \n",
       "\n",
       "   Fatality Rate  \n",
       "0           3.05  \n",
       "1           0.91  \n",
       "2           1.71  \n",
       "3           1.65  \n",
       "4           1.49  "
      ]
     },
     "execution_count": 13,
     "metadata": {},
     "output_type": "execute_result"
    }
   ],
   "source": [
    "#hide\n",
    "df_table.head()"
   ]
  },
  {
   "cell_type": "code",
   "execution_count": 14,
   "metadata": {
    "execution": {
     "iopub.execute_input": "2020-09-03T12:39:09.335214Z",
     "iopub.status.busy": "2020-09-03T12:39:09.334673Z",
     "iopub.status.idle": "2020-09-03T12:39:09.350165Z",
     "shell.execute_reply": "2020-09-03T12:39:09.350702Z"
    },
    "papermill": {
     "duration": 0.035885,
     "end_time": "2020-09-03T12:39:09.350819",
     "exception": false,
     "start_time": "2020-09-03T12:39:09.314934",
     "status": "completed"
    },
    "tags": []
   },
   "outputs": [
    {
     "data": {
      "text/plain": [
       "{'updated': '2020-09-03',\n",
       " 'since': '2020-09-02',\n",
       " 'Cases': 3862457,\n",
       " 'PCases': 3848968,\n",
       " 'Deaths': 67594,\n",
       " 'PDeaths': 67486,\n",
       " 'Cases (+)': 13489,\n",
       " 'Deaths (+)': 108}"
      ]
     },
     "execution_count": 14,
     "metadata": {},
     "output_type": "execute_result"
    }
   ],
   "source": [
    "#hide\n",
    "summary = {'updated':dates[-1], 'since':dates[-2]}\n",
    "list_names = ['Cases', 'PCases', 'Deaths', 'PDeaths', 'Cases (+)', 'Deaths (+)']\n",
    "for name in list_names:\n",
    "    summary[name] = df_table.sum()[name]\n",
    "summary"
   ]
  },
  {
   "cell_type": "code",
   "execution_count": 15,
   "metadata": {
    "execution": {
     "iopub.execute_input": "2020-09-03T12:39:09.386532Z",
     "iopub.status.busy": "2020-09-03T12:39:09.385991Z",
     "iopub.status.idle": "2020-09-03T12:39:09.388287Z",
     "shell.execute_reply": "2020-09-03T12:39:09.387859Z"
    },
    "papermill": {
     "duration": 0.021974,
     "end_time": "2020-09-03T12:39:09.388401",
     "exception": false,
     "start_time": "2020-09-03T12:39:09.366427",
     "status": "completed"
    },
    "tags": []
   },
   "outputs": [],
   "source": [
    "#hide\n",
    "overview = '''\n",
    "<!-- #######  HTML!! #########-->\n",
    "<h1 style=\"color: #5e9ca0; text-align: center;\">India</h1>\n",
    "<p style=\"text-align: center;\">Last update: <strong>{update}</strong></p>\n",
    "<p style=\"text-align: center;\">Confirmed cases:</p>\n",
    "<p style=\"text-align: center;font-size:24px;\">{cases} (<span style=\"color: #ff0000;\">+{new}</span>)</p>\n",
    "<p style=\"text-align: center;\">Confirmed deaths:</p>\n",
    "<p style=\"text-align: center;font-size:24px;\">{deaths} (<span style=\"color: #ff0000;\">+{dnew}</span>)</p>\n",
    "'''"
   ]
  },
  {
   "cell_type": "code",
   "execution_count": 16,
   "metadata": {
    "execution": {
     "iopub.execute_input": "2020-09-03T12:39:09.428821Z",
     "iopub.status.busy": "2020-09-03T12:39:09.427894Z",
     "iopub.status.idle": "2020-09-03T12:39:09.431385Z",
     "shell.execute_reply": "2020-09-03T12:39:09.430868Z"
    },
    "papermill": {
     "duration": 0.026849,
     "end_time": "2020-09-03T12:39:09.431543",
     "exception": false,
     "start_time": "2020-09-03T12:39:09.404694",
     "status": "completed"
    },
    "tags": []
   },
   "outputs": [
    {
     "data": {
      "text/html": [
       "\n",
       "<!-- #######  HTML!! #########-->\n",
       "<h1 style=\"color: #5e9ca0; text-align: center;\">India</h1>\n",
       "<p style=\"text-align: center;\">Last update: <strong>2020-09-03</strong></p>\n",
       "<p style=\"text-align: center;\">Confirmed cases:</p>\n",
       "<p style=\"text-align: center;font-size:24px;\">3862457 (<span style=\"color: #ff0000;\">+13489</span>)</p>\n",
       "<p style=\"text-align: center;\">Confirmed deaths:</p>\n",
       "<p style=\"text-align: center;font-size:24px;\">67594 (<span style=\"color: #ff0000;\">+108</span>)</p>\n"
      ],
      "text/plain": [
       "<IPython.core.display.HTML object>"
      ]
     },
     "metadata": {},
     "output_type": "display_data"
    }
   ],
   "source": [
    "#hide_input\n",
    "update = summary['updated']\n",
    "cases = summary['Cases']\n",
    "new = summary['Cases (+)']\n",
    "deaths = summary['Deaths']\n",
    "dnew = summary['Deaths (+)']\n",
    "\n",
    "html = HTML(overview.format(update=update, cases=cases,new=new,deaths=deaths,dnew=dnew))\n",
    "\n",
    "display(html)"
   ]
  },
  {
   "cell_type": "code",
   "execution_count": 17,
   "metadata": {
    "execution": {
     "iopub.execute_input": "2020-09-03T12:39:09.472312Z",
     "iopub.status.busy": "2020-09-03T12:39:09.471741Z",
     "iopub.status.idle": "2020-09-03T12:39:09.477354Z",
     "shell.execute_reply": "2020-09-03T12:39:09.476906Z"
    },
    "papermill": {
     "duration": 0.029011,
     "end_time": "2020-09-03T12:39:09.477462",
     "exception": false,
     "start_time": "2020-09-03T12:39:09.448451",
     "status": "completed"
    },
    "tags": []
   },
   "outputs": [],
   "source": [
    "#hide\n",
    "dt_cols = list(dft_cases.columns[1:])\n",
    "dft_ct_new_cases = dft_cases.groupby('state')[dt_cols].sum().diff(axis=1).fillna(0).astype(int)\n",
    "dft_ct_new_cases.sort_values(by = dates[-1], ascending = False,inplace = True)"
   ]
  },
  {
   "cell_type": "code",
   "execution_count": 18,
   "metadata": {
    "execution": {
     "iopub.execute_input": "2020-09-03T12:39:09.526930Z",
     "iopub.status.busy": "2020-09-03T12:39:09.526099Z",
     "iopub.status.idle": "2020-09-03T12:39:09.529613Z",
     "shell.execute_reply": "2020-09-03T12:39:09.530315Z"
    },
    "papermill": {
     "duration": 0.037209,
     "end_time": "2020-09-03T12:39:09.530467",
     "exception": false,
     "start_time": "2020-09-03T12:39:09.493258",
     "status": "completed"
    },
    "tags": []
   },
   "outputs": [
    {
     "data": {
      "text/html": [
       "<div>\n",
       "<style scoped>\n",
       "    .dataframe tbody tr th:only-of-type {\n",
       "        vertical-align: middle;\n",
       "    }\n",
       "\n",
       "    .dataframe tbody tr th {\n",
       "        vertical-align: top;\n",
       "    }\n",
       "\n",
       "    .dataframe thead th {\n",
       "        text-align: right;\n",
       "    }\n",
       "</style>\n",
       "<table border=\"1\" class=\"dataframe\">\n",
       "  <thead>\n",
       "    <tr style=\"text-align: right;\">\n",
       "      <th>states</th>\n",
       "      <th>2020-07-01</th>\n",
       "      <th>2020-07-02</th>\n",
       "      <th>2020-07-03</th>\n",
       "      <th>2020-07-04</th>\n",
       "      <th>2020-07-05</th>\n",
       "      <th>2020-07-06</th>\n",
       "      <th>2020-07-07</th>\n",
       "      <th>2020-07-08</th>\n",
       "      <th>2020-07-09</th>\n",
       "      <th>2020-07-10</th>\n",
       "      <th>...</th>\n",
       "      <th>2020-08-25</th>\n",
       "      <th>2020-08-26</th>\n",
       "      <th>2020-08-27</th>\n",
       "      <th>2020-08-28</th>\n",
       "      <th>2020-08-29</th>\n",
       "      <th>2020-08-30</th>\n",
       "      <th>2020-08-31</th>\n",
       "      <th>2020-09-01</th>\n",
       "      <th>2020-09-02</th>\n",
       "      <th>2020-09-03</th>\n",
       "    </tr>\n",
       "    <tr>\n",
       "      <th>state</th>\n",
       "      <th></th>\n",
       "      <th></th>\n",
       "      <th></th>\n",
       "      <th></th>\n",
       "      <th></th>\n",
       "      <th></th>\n",
       "      <th></th>\n",
       "      <th></th>\n",
       "      <th></th>\n",
       "      <th></th>\n",
       "      <th></th>\n",
       "      <th></th>\n",
       "      <th></th>\n",
       "      <th></th>\n",
       "      <th></th>\n",
       "      <th></th>\n",
       "      <th></th>\n",
       "      <th></th>\n",
       "      <th></th>\n",
       "      <th></th>\n",
       "      <th></th>\n",
       "    </tr>\n",
       "  </thead>\n",
       "  <tbody>\n",
       "    <tr>\n",
       "      <th>Uttar Pradesh</th>\n",
       "      <td>0</td>\n",
       "      <td>769</td>\n",
       "      <td>972</td>\n",
       "      <td>757</td>\n",
       "      <td>1153</td>\n",
       "      <td>929</td>\n",
       "      <td>1332</td>\n",
       "      <td>1188</td>\n",
       "      <td>1206</td>\n",
       "      <td>1338</td>\n",
       "      <td>...</td>\n",
       "      <td>5006</td>\n",
       "      <td>5640</td>\n",
       "      <td>5391</td>\n",
       "      <td>5405</td>\n",
       "      <td>5633</td>\n",
       "      <td>6175</td>\n",
       "      <td>4782</td>\n",
       "      <td>5343</td>\n",
       "      <td>5682</td>\n",
       "      <td>5662</td>\n",
       "    </tr>\n",
       "    <tr>\n",
       "      <th>Odisha</th>\n",
       "      <td>0</td>\n",
       "      <td>229</td>\n",
       "      <td>561</td>\n",
       "      <td>495</td>\n",
       "      <td>469</td>\n",
       "      <td>456</td>\n",
       "      <td>571</td>\n",
       "      <td>527</td>\n",
       "      <td>577</td>\n",
       "      <td>755</td>\n",
       "      <td>...</td>\n",
       "      <td>2752</td>\n",
       "      <td>3371</td>\n",
       "      <td>3384</td>\n",
       "      <td>3682</td>\n",
       "      <td>3252</td>\n",
       "      <td>3014</td>\n",
       "      <td>2602</td>\n",
       "      <td>3025</td>\n",
       "      <td>3219</td>\n",
       "      <td>3631</td>\n",
       "    </tr>\n",
       "    <tr>\n",
       "      <th>Telangana</th>\n",
       "      <td>0</td>\n",
       "      <td>1213</td>\n",
       "      <td>1892</td>\n",
       "      <td>1850</td>\n",
       "      <td>1590</td>\n",
       "      <td>1831</td>\n",
       "      <td>1879</td>\n",
       "      <td>1924</td>\n",
       "      <td>1410</td>\n",
       "      <td>1278</td>\n",
       "      <td>...</td>\n",
       "      <td>2579</td>\n",
       "      <td>3018</td>\n",
       "      <td>2795</td>\n",
       "      <td>2932</td>\n",
       "      <td>2751</td>\n",
       "      <td>2924</td>\n",
       "      <td>1873</td>\n",
       "      <td>2734</td>\n",
       "      <td>2892</td>\n",
       "      <td>2817</td>\n",
       "    </tr>\n",
       "    <tr>\n",
       "      <th>Rajasthan</th>\n",
       "      <td>0</td>\n",
       "      <td>350</td>\n",
       "      <td>390</td>\n",
       "      <td>480</td>\n",
       "      <td>632</td>\n",
       "      <td>524</td>\n",
       "      <td>716</td>\n",
       "      <td>659</td>\n",
       "      <td>500</td>\n",
       "      <td>611</td>\n",
       "      <td>...</td>\n",
       "      <td>1370</td>\n",
       "      <td>1345</td>\n",
       "      <td>1345</td>\n",
       "      <td>1355</td>\n",
       "      <td>1407</td>\n",
       "      <td>1450</td>\n",
       "      <td>1466</td>\n",
       "      <td>1470</td>\n",
       "      <td>1511</td>\n",
       "      <td>705</td>\n",
       "    </tr>\n",
       "    <tr>\n",
       "      <th>Tripura</th>\n",
       "      <td>0</td>\n",
       "      <td>39</td>\n",
       "      <td>93</td>\n",
       "      <td>25</td>\n",
       "      <td>23</td>\n",
       "      <td>111</td>\n",
       "      <td>24</td>\n",
       "      <td>57</td>\n",
       "      <td>16</td>\n",
       "      <td>142</td>\n",
       "      <td>...</td>\n",
       "      <td>293</td>\n",
       "      <td>329</td>\n",
       "      <td>385</td>\n",
       "      <td>509</td>\n",
       "      <td>443</td>\n",
       "      <td>447</td>\n",
       "      <td>321</td>\n",
       "      <td>509</td>\n",
       "      <td>566</td>\n",
       "      <td>590</td>\n",
       "    </tr>\n",
       "  </tbody>\n",
       "</table>\n",
       "<p>5 rows × 65 columns</p>\n",
       "</div>"
      ],
      "text/plain": [
       "states         2020-07-01  2020-07-02  2020-07-03  2020-07-04  2020-07-05  \\\n",
       "state                                                                       \n",
       "Uttar Pradesh           0         769         972         757        1153   \n",
       "Odisha                  0         229         561         495         469   \n",
       "Telangana               0        1213        1892        1850        1590   \n",
       "Rajasthan               0         350         390         480         632   \n",
       "Tripura                 0          39          93          25          23   \n",
       "\n",
       "states         2020-07-06  2020-07-07  2020-07-08  2020-07-09  2020-07-10  \\\n",
       "state                                                                       \n",
       "Uttar Pradesh         929        1332        1188        1206        1338   \n",
       "Odisha                456         571         527         577         755   \n",
       "Telangana            1831        1879        1924        1410        1278   \n",
       "Rajasthan             524         716         659         500         611   \n",
       "Tripura               111          24          57          16         142   \n",
       "\n",
       "states         ...  2020-08-25  2020-08-26  2020-08-27  2020-08-28  \\\n",
       "state          ...                                                   \n",
       "Uttar Pradesh  ...        5006        5640        5391        5405   \n",
       "Odisha         ...        2752        3371        3384        3682   \n",
       "Telangana      ...        2579        3018        2795        2932   \n",
       "Rajasthan      ...        1370        1345        1345        1355   \n",
       "Tripura        ...         293         329         385         509   \n",
       "\n",
       "states         2020-08-29  2020-08-30  2020-08-31  2020-09-01  2020-09-02  \\\n",
       "state                                                                       \n",
       "Uttar Pradesh        5633        6175        4782        5343        5682   \n",
       "Odisha               3252        3014        2602        3025        3219   \n",
       "Telangana            2751        2924        1873        2734        2892   \n",
       "Rajasthan            1407        1450        1466        1470        1511   \n",
       "Tripura               443         447         321         509         566   \n",
       "\n",
       "states         2020-09-03  \n",
       "state                      \n",
       "Uttar Pradesh        5662  \n",
       "Odisha               3631  \n",
       "Telangana            2817  \n",
       "Rajasthan             705  \n",
       "Tripura               590  \n",
       "\n",
       "[5 rows x 65 columns]"
      ]
     },
     "execution_count": 18,
     "metadata": {},
     "output_type": "execute_result"
    }
   ],
   "source": [
    "#hide\n",
    "dft_ct_new_cases.head()"
   ]
  },
  {
   "cell_type": "code",
   "execution_count": 19,
   "metadata": {
    "execution": {
     "iopub.execute_input": "2020-09-03T12:39:09.567194Z",
     "iopub.status.busy": "2020-09-03T12:39:09.566553Z",
     "iopub.status.idle": "2020-09-03T12:39:13.195474Z",
     "shell.execute_reply": "2020-09-03T12:39:13.196168Z"
    },
    "papermill": {
     "duration": 3.649336,
     "end_time": "2020-09-03T12:39:13.196383",
     "exception": false,
     "start_time": "2020-09-03T12:39:09.547047",
     "status": "completed"
    },
    "tags": []
   },
   "outputs": [
    {
     "data": {
      "image/png": "[encoded data removed]",
      "text/plain": [
       "<Figure size 1296x2016 with 11 Axes>"
      ]
     },
     "metadata": {
      "needs_background": "light"
     },
     "output_type": "display_data"
    }
   ],
   "source": [
    "#hide_input\n",
    "df = dft_ct_new_cases.copy()\n",
    "df.loc['Total'] = df.sum()\n",
    "n = 5\n",
    "ax = []\n",
    "fig = plt.figure(figsize = (18,28))\n",
    "gs = fig.add_gridspec(n+2, 5)\n",
    "# gs = fig.add_gridspec(2, 3)\n",
    "ax1 = fig.add_subplot(gs[0, :])\n",
    "ef = df.loc['Total'].rename_axis('date').reset_index()\n",
    "ef['date'] = ef['date'].astype('datetime64[ns]')\n",
    "ax1.bar(ef.date,ef.Total,alpha=0.3,color='#007acc')\n",
    "ax1.plot(ef.date,ef.Total , marker=\"o\", color='#007acc')\n",
    "ax1.xaxis.set_major_locator(mdates.WeekdayLocator())\n",
    "ax1.xaxis.set_major_formatter(mdates.DateFormatter('%b %d'))\n",
    "ax1.text(0.02, 0.5,'India daily case count', transform = ax1.transAxes, fontsize=25);\n",
    "ax1.spines['right'].set_visible(False)\n",
    "ax1.spines['top'].set_visible(False)\n",
    "\n",
    "ax2 = fig.add_subplot(gs[1,0])\n",
    "ef = df.loc['Maharashtra'].rename_axis('date').reset_index()\n",
    "ef['date'] = ef['date'].astype('datetime64[ns]')\n",
    "\n",
    "ax2.bar(ef.date, ef.Maharashtra,color = '#007acc',alpha=0.5)\n",
    "ax2.xaxis.set_major_locator(mdates.WeekdayLocator())\n",
    "ax2.xaxis.set_major_formatter(mdates.DateFormatter('%b %d'))\n",
    "ax2.set_xticks(ax2.get_xticks()[::3])\n",
    "maxyval = ef.Maharashtra.max()\n",
    "ax2.set_ylim([0,maxyval])\n",
    "ax2.text(0.05, 0.9,'Maharashtra', transform = ax2.transAxes, fontsize=20);\n",
    "ax2.spines['right'].set_visible(False)\n",
    "ax2.spines['top'].set_visible(False)\n",
    "\n",
    "\n",
    "ax3 = fig.add_subplot(gs[1,1])\n",
    "ef = df.loc['Tamil Nadu'].rename_axis('date').reset_index()\n",
    "ef['date'] = ef['date'].astype('datetime64[ns]')\n",
    "ax3.bar(ef.date, ef['Tamil Nadu'],color = '#007acc',alpha=0.5,)\n",
    "ax3.xaxis.set_major_locator(mdates.WeekdayLocator())\n",
    "ax3.xaxis.set_major_formatter(mdates.DateFormatter('%b %d'))\n",
    "ax3.set_xticks(ax3.get_xticks()[::3])\n",
    "ax3.text(0.05, 0.9,'Tamil Nadu', transform = ax3.transAxes, fontsize=20);\n",
    "ax3.spines['right'].set_visible(False)\n",
    "ax3.spines['top'].set_visible(False)\n",
    "\n",
    "ax5 = fig.add_subplot(gs[1,3])\n",
    "ef = df.loc['Telangana'].rename_axis('date').reset_index()\n",
    "ef['date'] = ef['date'].astype('datetime64[ns]')\n",
    "ax5.bar(ef.date, ef['Telangana'],color = '#007acc',alpha=0.5,)\n",
    "ax5.xaxis.set_major_locator(mdates.WeekdayLocator())\n",
    "ax5.xaxis.set_major_formatter(mdates.DateFormatter('%b %d'))\n",
    "ax5.set_xticks(ax5.get_xticks()[::3])\n",
    "ax5.text(0.05, 0.9,'Telangana', transform = ax5.transAxes, fontsize=20);\n",
    "ax5.spines['right'].set_visible(False)\n",
    "ax5.spines['top'].set_visible(False)\n",
    "\n",
    "ax6 = fig.add_subplot(gs[1,4])\n",
    "ef = df.loc['Andhra Pradesh'].rename_axis('date').reset_index()\n",
    "ef['date'] = ef['date'].astype('datetime64[ns]')\n",
    "ax6.bar(ef.date, ef['Andhra Pradesh'],color = '#007acc',alpha=0.5,)\n",
    "ax6.xaxis.set_major_locator(mdates.WeekdayLocator())\n",
    "ax6.xaxis.set_major_formatter(mdates.DateFormatter('%b %d'))\n",
    "ax6.set_xticks(ax6.get_xticks()[::3])\n",
    "ax6.text(0.05, 1,'Andhra Pradesh', transform = ax6.transAxes, fontsize=20);\n",
    "ax6.spines['right'].set_visible(False)\n",
    "ax6.spines['top'].set_visible(False)\n",
    "\n",
    "ax4 = fig.add_subplot(gs[1,2])\n",
    "ef = df.loc['Delhi'].rename_axis('date').reset_index()\n",
    "ef['date'] = ef['date'].astype('datetime64[ns]')\n",
    "ax4.bar(ef.date, ef.Delhi,color = '#007acc',alpha=0.5)\n",
    "ax4.set_xticks([])\n",
    "ax4.xaxis.set_major_locator(mdates.WeekdayLocator())\n",
    "ax4.xaxis.set_major_formatter(mdates.DateFormatter('%b %d'))\n",
    "ax4.set_xticks(ax4.get_xticks()[::3])\n",
    "ax4.spines['right'].set_visible(False)\n",
    "ax4.spines['top'].set_visible(False)\n",
    "\n",
    "ax4.text(0.05, 1,'Delhi', transform = ax4.transAxes, fontsize=20)\n",
    "\n",
    "for i in range(n):\n",
    "    \n",
    "    ax.append(fig.add_subplot(gs[i+2,:]))\n",
    "    ef = df.iloc[i+3].rename_axis('date').reset_index()\n",
    "    ef['date'] = ef['date'].astype('datetime64[ns]')\n",
    "    ax[i].bar(ef.date,ef.iloc[:,-1],color = '#007acc',alpha=0.3)\n",
    "    ax[i].plot(ef.date,ef.iloc[:,-1],marker='o',color='#007acc')\n",
    "    ax[i].text(0.02,0.5,f'{ef.columns.values[-1]}',transform = ax[i].transAxes, fontsize = 20);\n",
    "    ax[i].xaxis.set_major_locator(mdates.WeekdayLocator())\n",
    "    ax[i].xaxis.set_major_formatter(mdates.DateFormatter('%b %d'))\n",
    "    ax[i].set_ylim([0,7000])\n",
    "    ax[i].spines['right'].set_visible(False)\n",
    "    ax[i].spines['top'].set_visible(False)\n",
    "plt.tight_layout()\n"
   ]
  },
  {
   "cell_type": "code",
   "execution_count": 20,
   "metadata": {
    "execution": {
     "iopub.execute_input": "2020-09-03T12:39:13.245165Z",
     "iopub.status.busy": "2020-09-03T12:39:13.244424Z",
     "iopub.status.idle": "2020-09-03T12:39:13.247049Z",
     "shell.execute_reply": "2020-09-03T12:39:13.247500Z"
    },
    "papermill": {
     "duration": 0.031253,
     "end_time": "2020-09-03T12:39:13.247648",
     "exception": false,
     "start_time": "2020-09-03T12:39:13.216395",
     "status": "completed"
    },
    "tags": []
   },
   "outputs": [
    {
     "name": "stdout",
     "output_type": "stream",
     "text": [
      "                                   states   Cases  Deaths  PCases  PDeaths  Cases (+)  Deaths (+)  Fatality Rate\n",
      "                              Maharashtra  825739   25195  825739    25195          0           0           3.05\n",
      "                           Andhra Pradesh  455531    4125  455531     4125          0           0           0.91\n",
      "                               Tamil Nadu  439959    7516  439959     7516          0           0           1.71\n",
      "                                Karnataka  361341    5950  361341     5950          0           0           1.65\n",
      "                            Uttar Pradesh  247101    3691  241439     3616       5662          75           1.49\n",
      "                                    Delhi  179569    4481  179569     4481          0           0           2.50\n",
      "                              West Bengal  168697    3339  168697     3339          0           0           1.98\n",
      "                                    Bihar  140234     722  140234      722          0           0           0.51\n",
      "                                Telangana  133406     856  130589      846       2817          10           0.64\n",
      "                                    Assam  115280     323  115280      323          0           0           0.28\n",
      "                                   Odisha  113411     575  109780      567       3631           8           0.51\n",
      "                                  Gujarat   99050    3046   99050     3046          0           0           3.08\n",
      "                                Rajasthan   85379    1088   84674     1081        705           7           1.27\n",
      "                                   Kerala   78073     306   78073      306          0           0           0.39\n",
      "                                  Haryana   68218     721   68218      721          0           0           1.06\n",
      "                           Madhya Pradesh   66914    1453   66914     1453          0           0           2.17\n",
      "                                   Punjab   56989    1618   56989     1618          0           0           2.84\n",
      "                                Jharkhand   44862     438   44862      438          0           0           0.98\n",
      "                        Jammu and Kashmir   38864     732   38864      732          0           0           1.88\n",
      "                             Chhattisgarh   35683     299   35683      299          0           0           0.84\n",
      "                              Uttarakhand   21234     291   21234      291          0           0           1.37\n",
      "                                      Goa   18642     204   18642      204          0           0           1.09\n",
      "                               Puducherry   15157     253   15157      253          0           0           1.67\n",
      "                                  Tripura   13309     126   12719      118        590           8           0.95\n",
      "                                  Manipur    6507      29    6507       29          0           0           0.45\n",
      "                         Himachal Pradesh    6416      42    6416       42          0           0           0.65\n",
      "                               Chandigarh    4789      59    4789       59          0           0           1.23\n",
      "                        Arunachal Pradesh    4360       7    4360        7          0           0           0.16\n",
      "                                 Nagaland    4066       8    4017        8         49           0           0.20\n",
      "              Andaman and Nicobar Islands    3186      47    3186       47          0           0           1.48\n",
      "                                   Ladakh    2785      35    2785       35          0           0           1.26\n",
      "                                Meghalaya    2517      13    2517       13          0           0           0.52\n",
      " Dadra and Nagar Haveli and Daman and Diu    2445       2    2430        2         15           0           0.08\n",
      "                                   Sikkim    1704       4    1704        4          0           0           0.23\n",
      "                                  Mizoram    1040       0    1020        0         20           0           0.00\n",
      "                              Lakshadweep       0       0       0        0          0           0            NaN\n"
     ]
    }
   ],
   "source": [
    "#hide_input\n",
    "print(df_table.to_string(index=False))"
   ]
  },
  {
   "cell_type": "code",
   "execution_count": null,
   "metadata": {
    "papermill": {
     "duration": 0.023834,
     "end_time": "2020-09-03T12:39:13.293165",
     "exception": false,
     "start_time": "2020-09-03T12:39:13.269331",
     "status": "completed"
    },
    "tags": []
   },
   "outputs": [],
   "source": []
  },
  {
   "cell_type": "code",
   "execution_count": null,
   "metadata": {
    "papermill": {
     "duration": 0.021305,
     "end_time": "2020-09-03T12:39:13.337413",
     "exception": false,
     "start_time": "2020-09-03T12:39:13.316108",
     "status": "completed"
    },
    "tags": []
   },
   "outputs": [],
   "source": []
  }
 ],
 "metadata": {
  "kernelspec": {
   "display_name": "Python 3",
   "language": "python",
   "name": "python3"
  },
  "language_info": {
   "codemirror_mode": {
    "name": "ipython",
    "version": 3
   },
   "file_extension": ".py",
   "mimetype": "text/x-python",
   "name": "python",
   "nbconvert_exporter": "python",
   "pygments_lexer": "ipython3",
   "version": "3.6.12"
  },
  "papermill": {
   "duration": 9.742976,
   "end_time": "2020-09-03T12:39:13.768295",
   "environment_variables": {},
   "exception": null,
   "input_path": "latest.ipynb",
   "output_path": "latest.ipynb",
   "parameters": {},
   "start_time": "2020-09-03T12:39:04.025319",
   "version": "2.1.2"
  }
 },
 "nbformat": 4,
 "nbformat_minor": 4
}