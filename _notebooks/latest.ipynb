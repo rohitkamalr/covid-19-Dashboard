{
 "cells": [
  {
   "cell_type": "markdown",
   "metadata": {
    "papermill": {
     "duration": 0.016735,
     "end_time": "2020-09-09T12:40:21.573839",
     "exception": false,
     "start_time": "2020-09-09T12:40:21.557104",
     "status": "completed"
    },
    "tags": []
   },
   "source": [
    "# Latest COVID-19 India Matplotlib Overview"
   ]
  },
  {
   "cell_type": "code",
   "execution_count": 1,
   "metadata": {
    "execution": {
     "iopub.execute_input": "2020-09-09T12:40:21.606688Z",
     "iopub.status.busy": "2020-09-09T12:40:21.606142Z",
     "iopub.status.idle": "2020-09-09T12:40:22.127794Z",
     "shell.execute_reply": "2020-09-09T12:40:22.127245Z"
    },
    "papermill": {
     "duration": 0.540077,
     "end_time": "2020-09-09T12:40:22.127958",
     "exception": false,
     "start_time": "2020-09-09T12:40:21.587881",
     "status": "completed"
    },
    "tags": []
   },
   "outputs": [],
   "source": [
    "#hide\n",
    "import pandas as pd\n",
    "import numpy as np\n",
    "import requests\n",
    "import json\n",
    "import matplotlib.pyplot as plt\n",
    "import matplotlib.dates as mdates\n",
    "import matplotlib as mpl\n",
    "from IPython.core.display import display,HTML\n",
    "%matplotlib inline\n",
    "from datetime import date"
   ]
  },
  {
   "cell_type": "code",
   "execution_count": 2,
   "metadata": {
    "execution": {
     "iopub.execute_input": "2020-09-09T12:40:22.166525Z",
     "iopub.status.busy": "2020-09-09T12:40:22.165961Z",
     "iopub.status.idle": "2020-09-09T12:40:22.353318Z",
     "shell.execute_reply": "2020-09-09T12:40:22.352484Z"
    },
    "papermill": {
     "duration": 0.21124,
     "end_time": "2020-09-09T12:40:22.353517",
     "exception": false,
     "start_time": "2020-09-09T12:40:22.142277",
     "status": "completed"
    },
    "tags": []
   },
   "outputs": [],
   "source": [
    "#hide\n",
    "df  = pd.read_csv('https://api.covid19india.org/csv/latest/states.csv')\n",
    "df = df[['Date','State','Confirmed','Deceased']]\n",
    "df = df.rename(columns={'Confirmed':'Cases', \"Deceased\":'Deaths'})\n",
    "df_cases = df[[\"Date\",'State','Cases']]\n",
    "df_deaths = df[['Date','State','Deaths']]\n",
    "df_cases1 = df_cases.groupby('Date')\n",
    "df_deaths1= df_deaths.groupby('Date')"
   ]
  },
  {
   "cell_type": "code",
   "execution_count": 3,
   "metadata": {
    "execution": {
     "iopub.execute_input": "2020-09-09T12:40:22.391470Z",
     "iopub.status.busy": "2020-09-09T12:40:22.390670Z",
     "iopub.status.idle": "2020-09-09T12:40:22.408246Z",
     "shell.execute_reply": "2020-09-09T12:40:22.408656Z"
    },
    "papermill": {
     "duration": 0.039129,
     "end_time": "2020-09-09T12:40:22.408783",
     "exception": false,
     "start_time": "2020-09-09T12:40:22.369654",
     "status": "completed"
    },
    "tags": []
   },
   "outputs": [],
   "source": [
    "#hide\n",
    "df_snap = pd.read_csv('data/SnapshotCases-28-July.csv')\n",
    "arr_states = df_snap['states'].unique()\n",
    "arr_dates = df['Date'].unique()\n",
    "df_snap = df_snap.set_index('states')"
   ]
  },
  {
   "cell_type": "code",
   "execution_count": 4,
   "metadata": {
    "execution": {
     "iopub.execute_input": "2020-09-09T12:40:22.443601Z",
     "iopub.status.busy": "2020-09-09T12:40:22.442969Z",
     "iopub.status.idle": "2020-09-09T12:40:22.445607Z",
     "shell.execute_reply": "2020-09-09T12:40:22.446138Z"
    },
    "papermill": {
     "duration": 0.022897,
     "end_time": "2020-09-09T12:40:22.446285",
     "exception": false,
     "start_time": "2020-09-09T12:40:22.423388",
     "status": "completed"
    },
    "tags": []
   },
   "outputs": [
    {
     "data": {
      "text/plain": [
       "array(['Andaman and Nicobar Islands', 'Andhra Pradesh',\n",
       "       'Arunachal Pradesh', 'Assam', 'Bihar', 'Chandigarh',\n",
       "       'Dadra and Nagar Haveli and Daman and Diu', 'Delhi', 'Goa',\n",
       "       'Gujarat', 'Haryana', 'Himachal Pradesh', 'Jammu and Kashmir',\n",
       "       'Jharkhand', 'Karnataka', 'Kerala', 'Lakshadweep',\n",
       "       'Madhya Pradesh', 'Maharashtra', 'Manipur', 'Meghalaya', 'Mizoram',\n",
       "       'Nagaland', 'Odisha', 'Puducherry', 'Punjab', 'Rajasthan',\n",
       "       'Sikkim', 'Tamil Nadu', 'Telangana', 'Tripura', 'Uttar Pradesh',\n",
       "       'West Bengal', 'Chhattisgarh', 'Ladakh', 'Uttarakhand'],\n",
       "      dtype=object)"
      ]
     },
     "execution_count": 4,
     "metadata": {},
     "output_type": "execute_result"
    }
   ],
   "source": [
    "#hide\n",
    "arr_states[-9] = 'Puducherry'\n",
    "arr_states[-10] = 'Odisha'\n",
    "arr_states[6] = 'Dadra and Nagar Haveli and Daman and Diu'\n",
    "arr_states = np.append(arr_states,np.array(['Chhattisgarh','Ladakh','Uttarakhand']))\n",
    "arr_states"
   ]
  },
  {
   "cell_type": "code",
   "execution_count": 5,
   "metadata": {
    "execution": {
     "iopub.execute_input": "2020-09-09T12:40:22.486004Z",
     "iopub.status.busy": "2020-09-09T12:40:22.485393Z",
     "iopub.status.idle": "2020-09-09T12:40:22.492587Z",
     "shell.execute_reply": "2020-09-09T12:40:22.492110Z"
    },
    "papermill": {
     "duration": 0.03212,
     "end_time": "2020-09-09T12:40:22.492774",
     "exception": false,
     "start_time": "2020-09-09T12:40:22.460654",
     "status": "completed"
    },
    "tags": []
   },
   "outputs": [],
   "source": [
    "#hide\n",
    "dates = []\n",
    "for i in arr_dates:\n",
    "    if i>='2020-07-01':\n",
    "        dates.append(i)\n",
    "dict = {'states':dates}\n",
    "for i in arr_states:\n",
    "    dict[i] = [0]*len(dates)\n",
    "dft_cases = pd.DataFrame(dict)\n",
    "dft_deaths = pd.DataFrame(dict)\n"
   ]
  },
  {
   "cell_type": "code",
   "execution_count": 6,
   "metadata": {
    "execution": {
     "iopub.execute_input": "2020-09-09T12:40:22.527690Z",
     "iopub.status.busy": "2020-09-09T12:40:22.527136Z",
     "iopub.status.idle": "2020-09-09T12:40:23.630246Z",
     "shell.execute_reply": "2020-09-09T12:40:23.629309Z"
    },
    "papermill": {
     "duration": 1.122212,
     "end_time": "2020-09-09T12:40:23.630371",
     "exception": false,
     "start_time": "2020-09-09T12:40:22.508159",
     "status": "completed"
    },
    "tags": []
   },
   "outputs": [],
   "source": [
    "#hide\n",
    "for i in range(len(dates)):\n",
    "    df1_deaths = df_deaths1.get_group(dates[i])\n",
    "    for j in range(len(df1_deaths.index)):\n",
    "        if df1_deaths.iloc[j,1] in arr_states:\n",
    "            dft_deaths.loc[i,df1_deaths.iloc[j,1]] = df1_deaths.iloc[j,2]\n",
    "dft_deaths = dft_deaths.set_index('states')"
   ]
  },
  {
   "cell_type": "code",
   "execution_count": 7,
   "metadata": {
    "execution": {
     "iopub.execute_input": "2020-09-09T12:40:23.663906Z",
     "iopub.status.busy": "2020-09-09T12:40:23.663226Z",
     "iopub.status.idle": "2020-09-09T12:40:24.890332Z",
     "shell.execute_reply": "2020-09-09T12:40:24.889801Z"
    },
    "papermill": {
     "duration": 1.246274,
     "end_time": "2020-09-09T12:40:24.890492",
     "exception": false,
     "start_time": "2020-09-09T12:40:23.644218",
     "status": "completed"
    },
    "tags": []
   },
   "outputs": [],
   "source": [
    "#hide\n",
    "for i in range(len(dates)):\n",
    "    df1_cases = df_cases1.get_group(dates[i])\n",
    "    for j in range(len(df1_cases.index)):\n",
    "        if df1_cases.iloc[j,1] in arr_states:\n",
    "            dft_cases.loc[i,df1_cases.iloc[j,1]] = df1_cases.iloc[j,2]\n",
    "dft_cases = dft_cases.set_index('states')"
   ]
  },
  {
   "cell_type": "code",
   "execution_count": 8,
   "metadata": {
    "execution": {
     "iopub.execute_input": "2020-09-09T12:40:24.930611Z",
     "iopub.status.busy": "2020-09-09T12:40:24.929336Z",
     "iopub.status.idle": "2020-09-09T12:40:24.931256Z",
     "shell.execute_reply": "2020-09-09T12:40:24.931785Z"
    },
    "papermill": {
     "duration": 0.023814,
     "end_time": "2020-09-09T12:40:24.931917",
     "exception": false,
     "start_time": "2020-09-09T12:40:24.908103",
     "status": "completed"
    },
    "tags": []
   },
   "outputs": [],
   "source": [
    "#hide\n",
    "dft_cases = dft_cases.T\n",
    "dft_deaths = dft_deaths.T\n",
    "dt_today = dates[-1]\n",
    "dt_yday = dates[-2]"
   ]
  },
  {
   "cell_type": "code",
   "execution_count": 9,
   "metadata": {
    "execution": {
     "iopub.execute_input": "2020-09-09T12:40:24.970086Z",
     "iopub.status.busy": "2020-09-09T12:40:24.968700Z",
     "iopub.status.idle": "2020-09-09T12:40:24.974295Z",
     "shell.execute_reply": "2020-09-09T12:40:24.974710Z"
    },
    "papermill": {
     "duration": 0.023722,
     "end_time": "2020-09-09T12:40:24.974823",
     "exception": false,
     "start_time": "2020-09-09T12:40:24.951101",
     "status": "completed"
    },
    "tags": []
   },
   "outputs": [],
   "source": [
    "#hide\n",
    "dft_cases = dft_cases.reset_index()\n",
    "dft_deaths = dft_deaths.reset_index()\n",
    "dft_cases = dft_cases.rename(columns = {'index':'state'})\n",
    "dft_deaths = dft_deaths.rename(columns = {'index':'state'})"
   ]
  },
  {
   "cell_type": "code",
   "execution_count": 10,
   "metadata": {
    "execution": {
     "iopub.execute_input": "2020-09-09T12:40:25.014231Z",
     "iopub.status.busy": "2020-09-09T12:40:25.013650Z",
     "iopub.status.idle": "2020-09-09T12:40:25.017488Z",
     "shell.execute_reply": "2020-09-09T12:40:25.016944Z"
    },
    "papermill": {
     "duration": 0.028623,
     "end_time": "2020-09-09T12:40:25.017598",
     "exception": false,
     "start_time": "2020-09-09T12:40:24.988975",
     "status": "completed"
    },
    "tags": []
   },
   "outputs": [],
   "source": [
    "#hide\n",
    "dfc_cases = dft_cases.groupby('state')[dt_today].sum()\n",
    "dfc_deaths = dft_deaths.groupby('state')[dt_today].sum()\n",
    "dfp_cases = dft_cases.groupby('state')[dt_yday].sum()\n",
    "dfp_deaths = dft_deaths.groupby('state')[dt_yday].sum()"
   ]
  },
  {
   "cell_type": "code",
   "execution_count": 11,
   "metadata": {
    "execution": {
     "iopub.execute_input": "2020-09-09T12:40:25.058769Z",
     "iopub.status.busy": "2020-09-09T12:40:25.048433Z",
     "iopub.status.idle": "2020-09-09T12:40:25.066500Z",
     "shell.execute_reply": "2020-09-09T12:40:25.066953Z"
    },
    "papermill": {
     "duration": 0.034741,
     "end_time": "2020-09-09T12:40:25.067068",
     "exception": false,
     "start_time": "2020-09-09T12:40:25.032327",
     "status": "completed"
    },
    "tags": []
   },
   "outputs": [
    {
     "data": {
      "text/html": [
       "<div>\n",
       "<style scoped>\n",
       "    .dataframe tbody tr th:only-of-type {\n",
       "        vertical-align: middle;\n",
       "    }\n",
       "\n",
       "    .dataframe tbody tr th {\n",
       "        vertical-align: top;\n",
       "    }\n",
       "\n",
       "    .dataframe thead th {\n",
       "        text-align: right;\n",
       "    }\n",
       "</style>\n",
       "<table border=\"1\" class=\"dataframe\">\n",
       "  <thead>\n",
       "    <tr style=\"text-align: right;\">\n",
       "      <th></th>\n",
       "      <th>states</th>\n",
       "      <th>Cases</th>\n",
       "      <th>Deaths</th>\n",
       "      <th>PCases</th>\n",
       "      <th>PDeaths</th>\n",
       "    </tr>\n",
       "  </thead>\n",
       "  <tbody>\n",
       "    <tr>\n",
       "      <th>0</th>\n",
       "      <td>Maharashtra</td>\n",
       "      <td>943772</td>\n",
       "      <td>27407</td>\n",
       "      <td>943772</td>\n",
       "      <td>27407</td>\n",
       "    </tr>\n",
       "    <tr>\n",
       "      <th>1</th>\n",
       "      <td>Andhra Pradesh</td>\n",
       "      <td>517094</td>\n",
       "      <td>4560</td>\n",
       "      <td>517094</td>\n",
       "      <td>4560</td>\n",
       "    </tr>\n",
       "    <tr>\n",
       "      <th>2</th>\n",
       "      <td>Tamil Nadu</td>\n",
       "      <td>474940</td>\n",
       "      <td>8015</td>\n",
       "      <td>474940</td>\n",
       "      <td>8015</td>\n",
       "    </tr>\n",
       "    <tr>\n",
       "      <th>3</th>\n",
       "      <td>Karnataka</td>\n",
       "      <td>412190</td>\n",
       "      <td>6680</td>\n",
       "      <td>412190</td>\n",
       "      <td>6680</td>\n",
       "    </tr>\n",
       "    <tr>\n",
       "      <th>4</th>\n",
       "      <td>Uttar Pradesh</td>\n",
       "      <td>278473</td>\n",
       "      <td>4047</td>\n",
       "      <td>278473</td>\n",
       "      <td>4047</td>\n",
       "    </tr>\n",
       "  </tbody>\n",
       "</table>\n",
       "</div>"
      ],
      "text/plain": [
       "           states   Cases  Deaths  PCases  PDeaths\n",
       "0     Maharashtra  943772   27407  943772    27407\n",
       "1  Andhra Pradesh  517094    4560  517094     4560\n",
       "2      Tamil Nadu  474940    8015  474940     8015\n",
       "3       Karnataka  412190    6680  412190     6680\n",
       "4   Uttar Pradesh  278473    4047  278473     4047"
      ]
     },
     "execution_count": 11,
     "metadata": {},
     "output_type": "execute_result"
    }
   ],
   "source": [
    "#hide\n",
    "df_table = pd.DataFrame({'states': dfc_cases.index, 'Cases': dfc_cases.values, 'Deaths': dfc_deaths.values, 'PCases': dfp_cases.values, 'PDeaths': dfp_deaths.values}).set_index('states')\n",
    "df_table = df_table.sort_values(by = ['Cases','Deaths'], ascending = [False, False])\n",
    "df_table = df_table.reset_index()\n",
    "df_table.head()"
   ]
  },
  {
   "cell_type": "code",
   "execution_count": 12,
   "metadata": {
    "execution": {
     "iopub.execute_input": "2020-09-09T12:40:25.102097Z",
     "iopub.status.busy": "2020-09-09T12:40:25.101464Z",
     "iopub.status.idle": "2020-09-09T12:40:25.108942Z",
     "shell.execute_reply": "2020-09-09T12:40:25.109424Z"
    },
    "papermill": {
     "duration": 0.02863,
     "end_time": "2020-09-09T12:40:25.109594",
     "exception": false,
     "start_time": "2020-09-09T12:40:25.080964",
     "status": "completed"
    },
    "tags": []
   },
   "outputs": [],
   "source": [
    "#hide\n",
    "for c in 'Cases, Deaths'.split(', '):\n",
    "    df_table[f'{c} (+)'] = (df_table[c] - df_table[f'P{c}']).clip(0)\n",
    "df_table['Fatality Rate'] = (100* df_table['Deaths']/ df_table['Cases']).round(2)"
   ]
  },
  {
   "cell_type": "code",
   "execution_count": 13,
   "metadata": {
    "execution": {
     "iopub.execute_input": "2020-09-09T12:40:25.147082Z",
     "iopub.status.busy": "2020-09-09T12:40:25.146566Z",
     "iopub.status.idle": "2020-09-09T12:40:25.150893Z",
     "shell.execute_reply": "2020-09-09T12:40:25.150455Z"
    },
    "papermill": {
     "duration": 0.027259,
     "end_time": "2020-09-09T12:40:25.150995",
     "exception": false,
     "start_time": "2020-09-09T12:40:25.123736",
     "status": "completed"
    },
    "tags": []
   },
   "outputs": [
    {
     "data": {
      "text/html": [
       "<div>\n",
       "<style scoped>\n",
       "    .dataframe tbody tr th:only-of-type {\n",
       "        vertical-align: middle;\n",
       "    }\n",
       "\n",
       "    .dataframe tbody tr th {\n",
       "        vertical-align: top;\n",
       "    }\n",
       "\n",
       "    .dataframe thead th {\n",
       "        text-align: right;\n",
       "    }\n",
       "</style>\n",
       "<table border=\"1\" class=\"dataframe\">\n",
       "  <thead>\n",
       "    <tr style=\"text-align: right;\">\n",
       "      <th></th>\n",
       "      <th>states</th>\n",
       "      <th>Cases</th>\n",
       "      <th>Deaths</th>\n",
       "      <th>PCases</th>\n",
       "      <th>PDeaths</th>\n",
       "      <th>Cases (+)</th>\n",
       "      <th>Deaths (+)</th>\n",
       "      <th>Fatality Rate</th>\n",
       "    </tr>\n",
       "  </thead>\n",
       "  <tbody>\n",
       "    <tr>\n",
       "      <th>0</th>\n",
       "      <td>Maharashtra</td>\n",
       "      <td>943772</td>\n",
       "      <td>27407</td>\n",
       "      <td>943772</td>\n",
       "      <td>27407</td>\n",
       "      <td>0</td>\n",
       "      <td>0</td>\n",
       "      <td>2.90</td>\n",
       "    </tr>\n",
       "    <tr>\n",
       "      <th>1</th>\n",
       "      <td>Andhra Pradesh</td>\n",
       "      <td>517094</td>\n",
       "      <td>4560</td>\n",
       "      <td>517094</td>\n",
       "      <td>4560</td>\n",
       "      <td>0</td>\n",
       "      <td>0</td>\n",
       "      <td>0.88</td>\n",
       "    </tr>\n",
       "    <tr>\n",
       "      <th>2</th>\n",
       "      <td>Tamil Nadu</td>\n",
       "      <td>474940</td>\n",
       "      <td>8015</td>\n",
       "      <td>474940</td>\n",
       "      <td>8015</td>\n",
       "      <td>0</td>\n",
       "      <td>0</td>\n",
       "      <td>1.69</td>\n",
       "    </tr>\n",
       "    <tr>\n",
       "      <th>3</th>\n",
       "      <td>Karnataka</td>\n",
       "      <td>412190</td>\n",
       "      <td>6680</td>\n",
       "      <td>412190</td>\n",
       "      <td>6680</td>\n",
       "      <td>0</td>\n",
       "      <td>0</td>\n",
       "      <td>1.62</td>\n",
       "    </tr>\n",
       "    <tr>\n",
       "      <th>4</th>\n",
       "      <td>Uttar Pradesh</td>\n",
       "      <td>278473</td>\n",
       "      <td>4047</td>\n",
       "      <td>278473</td>\n",
       "      <td>4047</td>\n",
       "      <td>0</td>\n",
       "      <td>0</td>\n",
       "      <td>1.45</td>\n",
       "    </tr>\n",
       "  </tbody>\n",
       "</table>\n",
       "</div>"
      ],
      "text/plain": [
       "           states   Cases  Deaths  PCases  PDeaths  Cases (+)  Deaths (+)  \\\n",
       "0     Maharashtra  943772   27407  943772    27407          0           0   \n",
       "1  Andhra Pradesh  517094    4560  517094     4560          0           0   \n",
       "2      Tamil Nadu  474940    8015  474940     8015          0           0   \n",
       "3       Karnataka  412190    6680  412190     6680          0           0   \n",
       "4   Uttar Pradesh  278473    4047  278473     4047          0           0   \n",
       "\n",
       "   Fatality Rate  \n",
       "0           2.90  \n",
       "1           0.88  \n",
       "2           1.69  \n",
       "3           1.62  \n",
       "4           1.45  "
      ]
     },
     "execution_count": 13,
     "metadata": {},
     "output_type": "execute_result"
    }
   ],
   "source": [
    "#hide\n",
    "df_table.head()"
   ]
  },
  {
   "cell_type": "code",
   "execution_count": 14,
   "metadata": {
    "execution": {
     "iopub.execute_input": "2020-09-09T12:40:25.188957Z",
     "iopub.status.busy": "2020-09-09T12:40:25.188383Z",
     "iopub.status.idle": "2020-09-09T12:40:25.205071Z",
     "shell.execute_reply": "2020-09-09T12:40:25.205584Z"
    },
    "papermill": {
     "duration": 0.037817,
     "end_time": "2020-09-09T12:40:25.205705",
     "exception": false,
     "start_time": "2020-09-09T12:40:25.167888",
     "status": "completed"
    },
    "tags": []
   },
   "outputs": [
    {
     "data": {
      "text/plain": [
       "{'updated': '2020-09-09',\n",
       " 'since': '2020-09-08',\n",
       " 'Cases': 4374314,\n",
       " 'PCases': 4367436,\n",
       " 'Deaths': 73953,\n",
       " 'PDeaths': 73923,\n",
       " 'Cases (+)': 6878,\n",
       " 'Deaths (+)': 30}"
      ]
     },
     "execution_count": 14,
     "metadata": {},
     "output_type": "execute_result"
    }
   ],
   "source": [
    "#hide\n",
    "summary = {'updated':dates[-1], 'since':dates[-2]}\n",
    "list_names = ['Cases', 'PCases', 'Deaths', 'PDeaths', 'Cases (+)', 'Deaths (+)']\n",
    "for name in list_names:\n",
    "    summary[name] = df_table.sum()[name]\n",
    "summary"
   ]
  },
  {
   "cell_type": "code",
   "execution_count": 15,
   "metadata": {
    "execution": {
     "iopub.execute_input": "2020-09-09T12:40:25.238870Z",
     "iopub.status.busy": "2020-09-09T12:40:25.238351Z",
     "iopub.status.idle": "2020-09-09T12:40:25.240185Z",
     "shell.execute_reply": "2020-09-09T12:40:25.240626Z"
    },
    "papermill": {
     "duration": 0.020088,
     "end_time": "2020-09-09T12:40:25.240737",
     "exception": false,
     "start_time": "2020-09-09T12:40:25.220649",
     "status": "completed"
    },
    "tags": []
   },
   "outputs": [],
   "source": [
    "#hide\n",
    "overview = '''\n",
    "<!-- #######  HTML!! #########-->\n",
    "<h1 style=\"color: #5e9ca0; text-align: center;\">India</h1>\n",
    "<p style=\"text-align: center;\">Last update: <strong>{update}</strong></p>\n",
    "<p style=\"text-align: center;\">Confirmed cases:</p>\n",
    "<p style=\"text-align: center;font-size:24px;\">{cases} (<span style=\"color: #ff0000;\">+{new}</span>)</p>\n",
    "<p style=\"text-align: center;\">Confirmed deaths:</p>\n",
    "<p style=\"text-align: center;font-size:24px;\">{deaths} (<span style=\"color: #ff0000;\">+{dnew}</span>)</p>\n",
    "'''"
   ]
  },
  {
   "cell_type": "code",
   "execution_count": 16,
   "metadata": {
    "execution": {
     "iopub.execute_input": "2020-09-09T12:40:25.274642Z",
     "iopub.status.busy": "2020-09-09T12:40:25.274112Z",
     "iopub.status.idle": "2020-09-09T12:40:25.277292Z",
     "shell.execute_reply": "2020-09-09T12:40:25.276857Z"
    },
    "papermill": {
     "duration": 0.022676,
     "end_time": "2020-09-09T12:40:25.277391",
     "exception": false,
     "start_time": "2020-09-09T12:40:25.254715",
     "status": "completed"
    },
    "tags": []
   },
   "outputs": [
    {
     "data": {
      "text/html": [
       "\n",
       "<!-- #######  HTML!! #########-->\n",
       "<h1 style=\"color: #5e9ca0; text-align: center;\">India</h1>\n",
       "<p style=\"text-align: center;\">Last update: <strong>2020-09-09</strong></p>\n",
       "<p style=\"text-align: center;\">Confirmed cases:</p>\n",
       "<p style=\"text-align: center;font-size:24px;\">4374314 (<span style=\"color: #ff0000;\">+6878</span>)</p>\n",
       "<p style=\"text-align: center;\">Confirmed deaths:</p>\n",
       "<p style=\"text-align: center;font-size:24px;\">73953 (<span style=\"color: #ff0000;\">+30</span>)</p>\n"
      ],
      "text/plain": [
       "<IPython.core.display.HTML object>"
      ]
     },
     "metadata": {},
     "output_type": "display_data"
    }
   ],
   "source": [
    "#hide_input\n",
    "update = summary['updated']\n",
    "cases = summary['Cases']\n",
    "new = summary['Cases (+)']\n",
    "deaths = summary['Deaths']\n",
    "dnew = summary['Deaths (+)']\n",
    "\n",
    "html = HTML(overview.format(update=update, cases=cases,new=new,deaths=deaths,dnew=dnew))\n",
    "\n",
    "display(html)"
   ]
  },
  {
   "cell_type": "code",
   "execution_count": 17,
   "metadata": {
    "execution": {
     "iopub.execute_input": "2020-09-09T12:40:25.313579Z",
     "iopub.status.busy": "2020-09-09T12:40:25.312943Z",
     "iopub.status.idle": "2020-09-09T12:40:25.317963Z",
     "shell.execute_reply": "2020-09-09T12:40:25.317503Z"
    },
    "papermill": {
     "duration": 0.025856,
     "end_time": "2020-09-09T12:40:25.318063",
     "exception": false,
     "start_time": "2020-09-09T12:40:25.292207",
     "status": "completed"
    },
    "tags": []
   },
   "outputs": [],
   "source": [
    "#hide\n",
    "dt_cols = list(dft_cases.columns[1:])\n",
    "dft_ct_new_cases = dft_cases.groupby('state')[dt_cols].sum().diff(axis=1).fillna(0).astype(int)\n",
    "dft_ct_new_cases.sort_values(by = dates[-1], ascending = False,inplace = True)"
   ]
  },
  {
   "cell_type": "code",
   "execution_count": 18,
   "metadata": {
    "execution": {
     "iopub.execute_input": "2020-09-09T12:40:25.363509Z",
     "iopub.status.busy": "2020-09-09T12:40:25.362668Z",
     "iopub.status.idle": "2020-09-09T12:40:25.365201Z",
     "shell.execute_reply": "2020-09-09T12:40:25.365642Z"
    },
    "papermill": {
     "duration": 0.033197,
     "end_time": "2020-09-09T12:40:25.365793",
     "exception": false,
     "start_time": "2020-09-09T12:40:25.332596",
     "status": "completed"
    },
    "tags": []
   },
   "outputs": [
    {
     "data": {
      "text/html": [
       "<div>\n",
       "<style scoped>\n",
       "    .dataframe tbody tr th:only-of-type {\n",
       "        vertical-align: middle;\n",
       "    }\n",
       "\n",
       "    .dataframe tbody tr th {\n",
       "        vertical-align: top;\n",
       "    }\n",
       "\n",
       "    .dataframe thead th {\n",
       "        text-align: right;\n",
       "    }\n",
       "</style>\n",
       "<table border=\"1\" class=\"dataframe\">\n",
       "  <thead>\n",
       "    <tr style=\"text-align: right;\">\n",
       "      <th>states</th>\n",
       "      <th>2020-07-01</th>\n",
       "      <th>2020-07-02</th>\n",
       "      <th>2020-07-03</th>\n",
       "      <th>2020-07-04</th>\n",
       "      <th>2020-07-05</th>\n",
       "      <th>2020-07-06</th>\n",
       "      <th>2020-07-07</th>\n",
       "      <th>2020-07-08</th>\n",
       "      <th>2020-07-09</th>\n",
       "      <th>2020-07-10</th>\n",
       "      <th>...</th>\n",
       "      <th>2020-08-31</th>\n",
       "      <th>2020-09-01</th>\n",
       "      <th>2020-09-02</th>\n",
       "      <th>2020-09-03</th>\n",
       "      <th>2020-09-04</th>\n",
       "      <th>2020-09-05</th>\n",
       "      <th>2020-09-06</th>\n",
       "      <th>2020-09-07</th>\n",
       "      <th>2020-09-08</th>\n",
       "      <th>2020-09-09</th>\n",
       "    </tr>\n",
       "    <tr>\n",
       "      <th>state</th>\n",
       "      <th></th>\n",
       "      <th></th>\n",
       "      <th></th>\n",
       "      <th></th>\n",
       "      <th></th>\n",
       "      <th></th>\n",
       "      <th></th>\n",
       "      <th></th>\n",
       "      <th></th>\n",
       "      <th></th>\n",
       "      <th></th>\n",
       "      <th></th>\n",
       "      <th></th>\n",
       "      <th></th>\n",
       "      <th></th>\n",
       "      <th></th>\n",
       "      <th></th>\n",
       "      <th></th>\n",
       "      <th></th>\n",
       "      <th></th>\n",
       "      <th></th>\n",
       "    </tr>\n",
       "  </thead>\n",
       "  <tbody>\n",
       "    <tr>\n",
       "      <th>Odisha</th>\n",
       "      <td>0</td>\n",
       "      <td>229</td>\n",
       "      <td>561</td>\n",
       "      <td>495</td>\n",
       "      <td>469</td>\n",
       "      <td>456</td>\n",
       "      <td>571</td>\n",
       "      <td>527</td>\n",
       "      <td>577</td>\n",
       "      <td>755</td>\n",
       "      <td>...</td>\n",
       "      <td>2602</td>\n",
       "      <td>3025</td>\n",
       "      <td>3219</td>\n",
       "      <td>3631</td>\n",
       "      <td>3267</td>\n",
       "      <td>3543</td>\n",
       "      <td>3810</td>\n",
       "      <td>3861</td>\n",
       "      <td>3490</td>\n",
       "      <td>3748</td>\n",
       "    </tr>\n",
       "    <tr>\n",
       "      <th>Telangana</th>\n",
       "      <td>0</td>\n",
       "      <td>1213</td>\n",
       "      <td>1892</td>\n",
       "      <td>1850</td>\n",
       "      <td>1590</td>\n",
       "      <td>1831</td>\n",
       "      <td>1879</td>\n",
       "      <td>1924</td>\n",
       "      <td>1410</td>\n",
       "      <td>1278</td>\n",
       "      <td>...</td>\n",
       "      <td>1873</td>\n",
       "      <td>2734</td>\n",
       "      <td>2892</td>\n",
       "      <td>2817</td>\n",
       "      <td>2478</td>\n",
       "      <td>2511</td>\n",
       "      <td>2574</td>\n",
       "      <td>1802</td>\n",
       "      <td>2392</td>\n",
       "      <td>2479</td>\n",
       "    </tr>\n",
       "    <tr>\n",
       "      <th>Tripura</th>\n",
       "      <td>0</td>\n",
       "      <td>39</td>\n",
       "      <td>93</td>\n",
       "      <td>25</td>\n",
       "      <td>23</td>\n",
       "      <td>111</td>\n",
       "      <td>24</td>\n",
       "      <td>57</td>\n",
       "      <td>16</td>\n",
       "      <td>142</td>\n",
       "      <td>...</td>\n",
       "      <td>321</td>\n",
       "      <td>509</td>\n",
       "      <td>566</td>\n",
       "      <td>590</td>\n",
       "      <td>524</td>\n",
       "      <td>691</td>\n",
       "      <td>603</td>\n",
       "      <td>399</td>\n",
       "      <td>628</td>\n",
       "      <td>582</td>\n",
       "    </tr>\n",
       "    <tr>\n",
       "      <th>Mizoram</th>\n",
       "      <td>0</td>\n",
       "      <td>2</td>\n",
       "      <td>0</td>\n",
       "      <td>2</td>\n",
       "      <td>22</td>\n",
       "      <td>11</td>\n",
       "      <td>1</td>\n",
       "      <td>5</td>\n",
       "      <td>0</td>\n",
       "      <td>23</td>\n",
       "      <td>...</td>\n",
       "      <td>3</td>\n",
       "      <td>1</td>\n",
       "      <td>8</td>\n",
       "      <td>20</td>\n",
       "      <td>6</td>\n",
       "      <td>16</td>\n",
       "      <td>31</td>\n",
       "      <td>21</td>\n",
       "      <td>9</td>\n",
       "      <td>69</td>\n",
       "    </tr>\n",
       "    <tr>\n",
       "      <th>Andaman and Nicobar Islands</th>\n",
       "      <td>0</td>\n",
       "      <td>9</td>\n",
       "      <td>7</td>\n",
       "      <td>3</td>\n",
       "      <td>6</td>\n",
       "      <td>16</td>\n",
       "      <td>6</td>\n",
       "      <td>2</td>\n",
       "      <td>7</td>\n",
       "      <td>0</td>\n",
       "      <td>...</td>\n",
       "      <td>28</td>\n",
       "      <td>28</td>\n",
       "      <td>26</td>\n",
       "      <td>37</td>\n",
       "      <td>34</td>\n",
       "      <td>35</td>\n",
       "      <td>40</td>\n",
       "      <td>27</td>\n",
       "      <td>33</td>\n",
       "      <td>0</td>\n",
       "    </tr>\n",
       "  </tbody>\n",
       "</table>\n",
       "<p>5 rows × 71 columns</p>\n",
       "</div>"
      ],
      "text/plain": [
       "states                       2020-07-01  2020-07-02  2020-07-03  2020-07-04  \\\n",
       "state                                                                         \n",
       "Odisha                                0         229         561         495   \n",
       "Telangana                             0        1213        1892        1850   \n",
       "Tripura                               0          39          93          25   \n",
       "Mizoram                               0           2           0           2   \n",
       "Andaman and Nicobar Islands           0           9           7           3   \n",
       "\n",
       "states                       2020-07-05  2020-07-06  2020-07-07  2020-07-08  \\\n",
       "state                                                                         \n",
       "Odisha                              469         456         571         527   \n",
       "Telangana                          1590        1831        1879        1924   \n",
       "Tripura                              23         111          24          57   \n",
       "Mizoram                              22          11           1           5   \n",
       "Andaman and Nicobar Islands           6          16           6           2   \n",
       "\n",
       "states                       2020-07-09  2020-07-10  ...  2020-08-31  \\\n",
       "state                                                ...               \n",
       "Odisha                              577         755  ...        2602   \n",
       "Telangana                          1410        1278  ...        1873   \n",
       "Tripura                              16         142  ...         321   \n",
       "Mizoram                               0          23  ...           3   \n",
       "Andaman and Nicobar Islands           7           0  ...          28   \n",
       "\n",
       "states                       2020-09-01  2020-09-02  2020-09-03  2020-09-04  \\\n",
       "state                                                                         \n",
       "Odisha                             3025        3219        3631        3267   \n",
       "Telangana                          2734        2892        2817        2478   \n",
       "Tripura                             509         566         590         524   \n",
       "Mizoram                               1           8          20           6   \n",
       "Andaman and Nicobar Islands          28          26          37          34   \n",
       "\n",
       "states                       2020-09-05  2020-09-06  2020-09-07  2020-09-08  \\\n",
       "state                                                                         \n",
       "Odisha                             3543        3810        3861        3490   \n",
       "Telangana                          2511        2574        1802        2392   \n",
       "Tripura                             691         603         399         628   \n",
       "Mizoram                              16          31          21           9   \n",
       "Andaman and Nicobar Islands          35          40          27          33   \n",
       "\n",
       "states                       2020-09-09  \n",
       "state                                    \n",
       "Odisha                             3748  \n",
       "Telangana                          2479  \n",
       "Tripura                             582  \n",
       "Mizoram                              69  \n",
       "Andaman and Nicobar Islands           0  \n",
       "\n",
       "[5 rows x 71 columns]"
      ]
     },
     "execution_count": 18,
     "metadata": {},
     "output_type": "execute_result"
    }
   ],
   "source": [
    "#hide\n",
    "dft_ct_new_cases.head()"
   ]
  },
  {
   "cell_type": "code",
   "execution_count": 19,
   "metadata": {
    "execution": {
     "iopub.execute_input": "2020-09-09T12:40:25.416876Z",
     "iopub.status.busy": "2020-09-09T12:40:25.416075Z",
     "iopub.status.idle": "2020-09-09T12:40:28.969751Z",
     "shell.execute_reply": "2020-09-09T12:40:28.970747Z"
    },
    "papermill": {
     "duration": 3.586708,
     "end_time": "2020-09-09T12:40:28.970925",
     "exception": false,
     "start_time": "2020-09-09T12:40:25.384217",
     "status": "completed"
    },
    "tags": []
   },
   "outputs": [
    {
     "data": {
      "image/png": "[encoded data removed]",
      "text/plain": [
       "<Figure size 1296x2016 with 11 Axes>"
      ]
     },
     "metadata": {
      "needs_background": "light"
     },
     "output_type": "display_data"
    }
   ],
   "source": [
    "#hide_input\n",
    "df = dft_ct_new_cases.copy()\n",
    "df.loc['Total'] = df.sum()\n",
    "n = 5\n",
    "ax = []\n",
    "fig = plt.figure(figsize = (18,28))\n",
    "gs = fig.add_gridspec(n+2, 5)\n",
    "# gs = fig.add_gridspec(2, 3)\n",
    "ax1 = fig.add_subplot(gs[0, :])\n",
    "ef = df.loc['Total'].rename_axis('date').reset_index()\n",
    "ef['date'] = ef['date'].astype('datetime64[ns]')\n",
    "ax1.bar(ef.date,ef.Total,alpha=0.3,color='#007acc')\n",
    "ax1.plot(ef.date,ef.Total , marker=\"o\", color='#007acc')\n",
    "ax1.xaxis.set_major_locator(mdates.WeekdayLocator())\n",
    "ax1.xaxis.set_major_formatter(mdates.DateFormatter('%b %d'))\n",
    "ax1.text(0.02, 0.5,'India daily case count', transform = ax1.transAxes, fontsize=25);\n",
    "ax1.spines['right'].set_visible(False)\n",
    "ax1.spines['top'].set_visible(False)\n",
    "\n",
    "ax2 = fig.add_subplot(gs[1,0])\n",
    "ef = df.loc['Maharashtra'].rename_axis('date').reset_index()\n",
    "ef['date'] = ef['date'].astype('datetime64[ns]')\n",
    "\n",
    "ax2.bar(ef.date, ef.Maharashtra,color = '#007acc',alpha=0.5)\n",
    "ax2.xaxis.set_major_locator(mdates.WeekdayLocator())\n",
    "ax2.xaxis.set_major_formatter(mdates.DateFormatter('%b %d'))\n",
    "ax2.set_xticks(ax2.get_xticks()[::3])\n",
    "maxyval = ef.Maharashtra.max()\n",
    "ax2.set_ylim([0,maxyval])\n",
    "ax2.text(0.05, 0.9,'Maharashtra', transform = ax2.transAxes, fontsize=20);\n",
    "ax2.spines['right'].set_visible(False)\n",
    "ax2.spines['top'].set_visible(False)\n",
    "\n",
    "\n",
    "ax3 = fig.add_subplot(gs[1,1])\n",
    "ef = df.loc['Tamil Nadu'].rename_axis('date').reset_index()\n",
    "ef['date'] = ef['date'].astype('datetime64[ns]')\n",
    "ax3.bar(ef.date, ef['Tamil Nadu'],color = '#007acc',alpha=0.5,)\n",
    "ax3.xaxis.set_major_locator(mdates.WeekdayLocator())\n",
    "ax3.xaxis.set_major_formatter(mdates.DateFormatter('%b %d'))\n",
    "ax3.set_xticks(ax3.get_xticks()[::3])\n",
    "ax3.text(0.05, 0.9,'Tamil Nadu', transform = ax3.transAxes, fontsize=20);\n",
    "ax3.spines['right'].set_visible(False)\n",
    "ax3.spines['top'].set_visible(False)\n",
    "\n",
    "ax5 = fig.add_subplot(gs[1,3])\n",
    "ef = df.loc['Telangana'].rename_axis('date').reset_index()\n",
    "ef['date'] = ef['date'].astype('datetime64[ns]')\n",
    "ax5.bar(ef.date, ef['Telangana'],color = '#007acc',alpha=0.5,)\n",
    "ax5.xaxis.set_major_locator(mdates.WeekdayLocator())\n",
    "ax5.xaxis.set_major_formatter(mdates.DateFormatter('%b %d'))\n",
    "ax5.set_xticks(ax5.get_xticks()[::3])\n",
    "ax5.text(0.05, 0.9,'Telangana', transform = ax5.transAxes, fontsize=20);\n",
    "ax5.spines['right'].set_visible(False)\n",
    "ax5.spines['top'].set_visible(False)\n",
    "\n",
    "ax6 = fig.add_subplot(gs[1,4])\n",
    "ef = df.loc['Andhra Pradesh'].rename_axis('date').reset_index()\n",
    "ef['date'] = ef['date'].astype('datetime64[ns]')\n",
    "ax6.bar(ef.date, ef['Andhra Pradesh'],color = '#007acc',alpha=0.5,)\n",
    "ax6.xaxis.set_major_locator(mdates.WeekdayLocator())\n",
    "ax6.xaxis.set_major_formatter(mdates.DateFormatter('%b %d'))\n",
    "ax6.set_xticks(ax6.get_xticks()[::3])\n",
    "ax6.text(0.05, 1,'Andhra Pradesh', transform = ax6.transAxes, fontsize=20);\n",
    "ax6.spines['right'].set_visible(False)\n",
    "ax6.spines['top'].set_visible(False)\n",
    "\n",
    "ax4 = fig.add_subplot(gs[1,2])\n",
    "ef = df.loc['Delhi'].rename_axis('date').reset_index()\n",
    "ef['date'] = ef['date'].astype('datetime64[ns]')\n",
    "ax4.bar(ef.date, ef.Delhi,color = '#007acc',alpha=0.5)\n",
    "ax4.set_xticks([])\n",
    "ax4.xaxis.set_major_locator(mdates.WeekdayLocator())\n",
    "ax4.xaxis.set_major_formatter(mdates.DateFormatter('%b %d'))\n",
    "ax4.set_xticks(ax4.get_xticks()[::3])\n",
    "ax4.spines['right'].set_visible(False)\n",
    "ax4.spines['top'].set_visible(False)\n",
    "\n",
    "ax4.text(0.05, 1,'Delhi', transform = ax4.transAxes, fontsize=20)\n",
    "\n",
    "for i in range(n):\n",
    "    \n",
    "    ax.append(fig.add_subplot(gs[i+2,:]))\n",
    "    ef = df.iloc[i+3].rename_axis('date').reset_index()\n",
    "    ef['date'] = ef['date'].astype('datetime64[ns]')\n",
    "    ax[i].bar(ef.date,ef.iloc[:,-1],color = '#007acc',alpha=0.3)\n",
    "    ax[i].plot(ef.date,ef.iloc[:,-1],marker='o',color='#007acc')\n",
    "    ax[i].text(0.02,0.5,f'{ef.columns.values[-1]}',transform = ax[i].transAxes, fontsize = 20);\n",
    "    ax[i].xaxis.set_major_locator(mdates.WeekdayLocator())\n",
    "    ax[i].xaxis.set_major_formatter(mdates.DateFormatter('%b %d'))\n",
    "    ax[i].set_ylim([0,7000])\n",
    "    ax[i].spines['right'].set_visible(False)\n",
    "    ax[i].spines['top'].set_visible(False)\n",
    "plt.tight_layout()\n"
   ]
  },
  {
   "cell_type": "code",
   "execution_count": 20,
   "metadata": {
    "execution": {
     "iopub.execute_input": "2020-09-09T12:40:29.021954Z",
     "iopub.status.busy": "2020-09-09T12:40:29.021369Z",
     "iopub.status.idle": "2020-09-09T12:40:29.023778Z",
     "shell.execute_reply": "2020-09-09T12:40:29.024339Z"
    },
    "papermill": {
     "duration": 0.031063,
     "end_time": "2020-09-09T12:40:29.024494",
     "exception": false,
     "start_time": "2020-09-09T12:40:28.993431",
     "status": "completed"
    },
    "tags": []
   },
   "outputs": [
    {
     "name": "stdout",
     "output_type": "stream",
     "text": [
      "                                   states   Cases  Deaths  PCases  PDeaths  Cases (+)  Deaths (+)  Fatality Rate\n",
      "                              Maharashtra  943772   27407  943772    27407          0           0           2.90\n",
      "                           Andhra Pradesh  517094    4560  517094     4560          0           0           0.88\n",
      "                               Tamil Nadu  474940    8015  474940     8015          0           0           1.69\n",
      "                                Karnataka  412190    6680  412190     6680          0           0           1.62\n",
      "                            Uttar Pradesh  278473    4047  278473     4047          0           0           1.45\n",
      "                                    Delhi  197135    4618  197135     4618          0           0           2.34\n",
      "                              West Bengal  186956    3677  186956     3677          0           0           1.97\n",
      "                                    Bihar  150694     765  150694      765          0           0           0.51\n",
      "                                Telangana  147642     916  145163      906       2479          10           0.62\n",
      "                                   Odisha  135130     633  131382      622       3748          11           0.47\n",
      "                                    Assam  130823     378  130823      378          0           0           0.29\n",
      "                                  Gujarat  106966    3134  106966     3134          0           0           2.93\n",
      "                                Rajasthan   94126    1164   94126     1164          0           0           1.24\n",
      "                                   Kerala   92516     373   92516      373          0           0           0.40\n",
      "                                  Haryana   81059     854   81059      854          0           0           1.05\n",
      "                           Madhya Pradesh   77323    1609   77323     1609          0           0           2.08\n",
      "                                   Punjab   67547    1990   67547     1990          0           0           2.95\n",
      "                                Jharkhand   55296     496   55296      496          0           0           0.90\n",
      "                             Chhattisgarh   50114     407   50114      407          0           0           0.81\n",
      "                        Jammu and Kashmir   45925     815   45925      815          0           0           1.77\n",
      "                              Uttarakhand   26094     360   26094      360          0           0           1.38\n",
      "                                      Goa   21630     256   21630      256          0           0           1.18\n",
      "                               Puducherry   17749     337   17749      337          0           0           1.90\n",
      "                                  Tripura   16736     161   16154      152        582           9           0.96\n",
      "                         Himachal Pradesh    7831      59    7831       59          0           0           0.75\n",
      "                                  Manipur    7202      39    7202       39          0           0           0.54\n",
      "                               Chandigarh    6372      75    6372       75          0           0           1.18\n",
      "                        Arunachal Pradesh    5401       9    5401        9          0           0           0.17\n",
      "                                 Nagaland    4245       8    4245        8          0           0           0.19\n",
      "              Andaman and Nicobar Islands    3392      50    3392       50          0           0           1.47\n",
      "                                   Ladakh    3102      35    3102       35          0           0           1.13\n",
      "                                Meghalaya    3076      17    3076       17          0           0           0.55\n",
      " Dadra and Nagar Haveli and Daman and Diu    2613       2    2613        2          0           0           0.08\n",
      "                                   Sikkim    1958       7    1958        7          0           0           0.36\n",
      "                                  Mizoram    1192       0    1123        0         69           0           0.00\n",
      "                              Lakshadweep       0       0       0        0          0           0            NaN\n"
     ]
    }
   ],
   "source": [
    "#hide_input\n",
    "print(df_table.to_string(index=False))"
   ]
  },
  {
   "cell_type": "code",
   "execution_count": null,
   "metadata": {
    "papermill": {
     "duration": 0.025039,
     "end_time": "2020-09-09T12:40:29.069868",
     "exception": false,
     "start_time": "2020-09-09T12:40:29.044829",
     "status": "completed"
    },
    "tags": []
   },
   "outputs": [],
   "source": []
  },
  {
   "cell_type": "code",
   "execution_count": null,
   "metadata": {
    "papermill": {
     "duration": 0.022711,
     "end_time": "2020-09-09T12:40:29.120394",
     "exception": false,
     "start_time": "2020-09-09T12:40:29.097683",
     "status": "completed"
    },
    "tags": []
   },
   "outputs": [],
   "source": []
  }
 ],
 "metadata": {
  "kernelspec": {
   "display_name": "Python 3",
   "language": "python",
   "name": "python3"
  },
  "language_info": {
   "codemirror_mode": {
    "name": "ipython",
    "version": 3
   },
   "file_extension": ".py",
   "mimetype": "text/x-python",
   "name": "python",
   "nbconvert_exporter": "python",
   "pygments_lexer": "ipython3",
   "version": "3.6.12"
  },
  "papermill": {
   "duration": 9.029998,
   "end_time": "2020-09-09T12:40:29.550003",
   "environment_variables": {},
   "exception": null,
   "input_path": "latest.ipynb",
   "output_path": "latest.ipynb",
   "parameters": {},
   "start_time": "2020-09-09T12:40:20.520005",
   "version": "2.1.2"
  }
 },
 "nbformat": 4,
 "nbformat_minor": 4
}