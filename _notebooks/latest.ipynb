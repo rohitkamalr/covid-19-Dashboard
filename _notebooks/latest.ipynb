{
 "cells": [
  {
   "cell_type": "markdown",
   "metadata": {
    "papermill": {
     "duration": 0.021113,
     "end_time": "2020-08-21T07:52:10.672461",
     "exception": false,
     "start_time": "2020-08-21T07:52:10.651348",
     "status": "completed"
    },
    "tags": []
   },
   "source": [
    "# Latest COVID-19 India Matplotlib Overview"
   ]
  },
  {
   "cell_type": "code",
   "execution_count": 1,
   "metadata": {
    "execution": {
     "iopub.execute_input": "2020-08-21T07:52:10.710060Z",
     "iopub.status.busy": "2020-08-21T07:52:10.709548Z",
     "iopub.status.idle": "2020-08-21T07:52:11.299691Z",
     "shell.execute_reply": "2020-08-21T07:52:11.298598Z"
    },
    "papermill": {
     "duration": 0.611435,
     "end_time": "2020-08-21T07:52:11.299873",
     "exception": false,
     "start_time": "2020-08-21T07:52:10.688438",
     "status": "completed"
    },
    "tags": []
   },
   "outputs": [],
   "source": [
    "#hide\n",
    "import pandas as pd\n",
    "import numpy as np\n",
    "import requests\n",
    "import json\n",
    "import matplotlib.pyplot as plt\n",
    "import matplotlib.dates as mdates\n",
    "import matplotlib as mpl\n",
    "from IPython.core.display import display,HTML\n",
    "%matplotlib inline\n",
    "from datetime import date"
   ]
  },
  {
   "cell_type": "code",
   "execution_count": 2,
   "metadata": {
    "execution": {
     "iopub.execute_input": "2020-08-21T07:52:11.423642Z",
     "iopub.status.busy": "2020-08-21T07:52:11.423042Z",
     "iopub.status.idle": "2020-08-21T07:52:11.622546Z",
     "shell.execute_reply": "2020-08-21T07:52:11.621487Z"
    },
    "papermill": {
     "duration": 0.303287,
     "end_time": "2020-08-21T07:52:11.622810",
     "exception": false,
     "start_time": "2020-08-21T07:52:11.319523",
     "status": "completed"
    },
    "tags": []
   },
   "outputs": [],
   "source": [
    "#hide\n",
    "df  = pd.read_csv('https://api.covid19india.org/csv/latest/states.csv')\n",
    "df = df[['Date','State','Confirmed','Deceased']]\n",
    "df = df.rename(columns={'Confirmed':'Cases', \"Deceased\":'Deaths'})\n",
    "df_cases = df[[\"Date\",'State','Cases']]\n",
    "df_deaths = df[['Date','State','Deaths']]\n",
    "df_cases1 = df_cases.groupby('Date')\n",
    "df_deaths1= df_deaths.groupby('Date')"
   ]
  },
  {
   "cell_type": "code",
   "execution_count": 3,
   "metadata": {
    "execution": {
     "iopub.execute_input": "2020-08-21T07:52:11.662553Z",
     "iopub.status.busy": "2020-08-21T07:52:11.661944Z",
     "iopub.status.idle": "2020-08-21T07:52:11.681386Z",
     "shell.execute_reply": "2020-08-21T07:52:11.680842Z"
    },
    "papermill": {
     "duration": 0.041638,
     "end_time": "2020-08-21T07:52:11.681531",
     "exception": false,
     "start_time": "2020-08-21T07:52:11.639893",
     "status": "completed"
    },
    "tags": []
   },
   "outputs": [],
   "source": [
    "#hide\n",
    "df_snap = pd.read_csv('data/SnapshotCases-28-July.csv')\n",
    "arr_states = df_snap['states'].unique()\n",
    "arr_dates = df['Date'].unique()\n",
    "df_snap = df_snap.set_index('states')"
   ]
  },
  {
   "cell_type": "code",
   "execution_count": 4,
   "metadata": {
    "execution": {
     "iopub.execute_input": "2020-08-21T07:52:11.720073Z",
     "iopub.status.busy": "2020-08-21T07:52:11.719485Z",
     "iopub.status.idle": "2020-08-21T07:52:11.722544Z",
     "shell.execute_reply": "2020-08-21T07:52:11.722071Z"
    },
    "papermill": {
     "duration": 0.025816,
     "end_time": "2020-08-21T07:52:11.722673",
     "exception": false,
     "start_time": "2020-08-21T07:52:11.696857",
     "status": "completed"
    },
    "tags": []
   },
   "outputs": [
    {
     "data": {
      "text/plain": [
       "array(['Andaman and Nicobar Islands', 'Andhra Pradesh',\n",
       "       'Arunachal Pradesh', 'Assam', 'Bihar', 'Chandigarh',\n",
       "       'Dadra and Nagar Haveli and Daman and Diu', 'Delhi', 'Goa',\n",
       "       'Gujarat', 'Haryana', 'Himachal Pradesh', 'Jammu and Kashmir',\n",
       "       'Jharkhand', 'Karnataka', 'Kerala', 'Lakshadweep',\n",
       "       'Madhya Pradesh', 'Maharashtra', 'Manipur', 'Meghalaya', 'Mizoram',\n",
       "       'Nagaland', 'Odisha', 'Puducherry', 'Punjab', 'Rajasthan',\n",
       "       'Sikkim', 'Tamil Nadu', 'Telangana', 'Tripura', 'Uttar Pradesh',\n",
       "       'West Bengal', 'Chhattisgarh', 'Ladakh', 'Uttarakhand'],\n",
       "      dtype=object)"
      ]
     },
     "execution_count": 4,
     "metadata": {},
     "output_type": "execute_result"
    }
   ],
   "source": [
    "#hide\n",
    "arr_states[-9] = 'Puducherry'\n",
    "arr_states[-10] = 'Odisha'\n",
    "arr_states[6] = 'Dadra and Nagar Haveli and Daman and Diu'\n",
    "arr_states = np.append(arr_states,np.array(['Chhattisgarh','Ladakh','Uttarakhand']))\n",
    "arr_states"
   ]
  },
  {
   "cell_type": "code",
   "execution_count": 5,
   "metadata": {
    "execution": {
     "iopub.execute_input": "2020-08-21T07:52:11.768928Z",
     "iopub.status.busy": "2020-08-21T07:52:11.764869Z",
     "iopub.status.idle": "2020-08-21T07:52:11.771553Z",
     "shell.execute_reply": "2020-08-21T07:52:11.772271Z"
    },
    "papermill": {
     "duration": 0.034118,
     "end_time": "2020-08-21T07:52:11.772496",
     "exception": false,
     "start_time": "2020-08-21T07:52:11.738378",
     "status": "completed"
    },
    "tags": []
   },
   "outputs": [],
   "source": [
    "#hide\n",
    "dates = []\n",
    "for i in arr_dates:\n",
    "    if i>='2020-07-01':\n",
    "        dates.append(i)\n",
    "dict = {'states':dates}\n",
    "for i in arr_states:\n",
    "    dict[i] = [0]*len(dates)\n",
    "dft_cases = pd.DataFrame(dict)\n",
    "dft_deaths = pd.DataFrame(dict)\n"
   ]
  },
  {
   "cell_type": "code",
   "execution_count": 6,
   "metadata": {
    "execution": {
     "iopub.execute_input": "2020-08-21T07:52:11.809852Z",
     "iopub.status.busy": "2020-08-21T07:52:11.809257Z",
     "iopub.status.idle": "2020-08-21T07:52:12.526097Z",
     "shell.execute_reply": "2020-08-21T07:52:12.525398Z"
    },
    "papermill": {
     "duration": 0.737914,
     "end_time": "2020-08-21T07:52:12.526235",
     "exception": false,
     "start_time": "2020-08-21T07:52:11.788321",
     "status": "completed"
    },
    "tags": []
   },
   "outputs": [],
   "source": [
    "#hide\n",
    "for i in range(len(dates)):\n",
    "    df1_deaths = df_deaths1.get_group(dates[i])\n",
    "    for j in range(len(df1_deaths.index)):\n",
    "        if df1_deaths.iloc[j,1] in arr_states:\n",
    "            dft_deaths.loc[i,df1_deaths.iloc[j,1]] = df1_deaths.iloc[j,2]\n",
    "dft_deaths = dft_deaths.set_index('states')"
   ]
  },
  {
   "cell_type": "code",
   "execution_count": 7,
   "metadata": {
    "execution": {
     "iopub.execute_input": "2020-08-21T07:52:12.567108Z",
     "iopub.status.busy": "2020-08-21T07:52:12.566502Z",
     "iopub.status.idle": "2020-08-21T07:52:13.289770Z",
     "shell.execute_reply": "2020-08-21T07:52:13.289224Z"
    },
    "papermill": {
     "duration": 0.74785,
     "end_time": "2020-08-21T07:52:13.289916",
     "exception": false,
     "start_time": "2020-08-21T07:52:12.542066",
     "status": "completed"
    },
    "tags": []
   },
   "outputs": [],
   "source": [
    "#hide\n",
    "for i in range(len(dates)):\n",
    "    df1_cases = df_cases1.get_group(dates[i])\n",
    "    for j in range(len(df1_cases.index)):\n",
    "        if df1_cases.iloc[j,1] in arr_states:\n",
    "            dft_cases.loc[i,df1_cases.iloc[j,1]] = df1_cases.iloc[j,2]\n",
    "dft_cases = dft_cases.set_index('states')"
   ]
  },
  {
   "cell_type": "code",
   "execution_count": 8,
   "metadata": {
    "execution": {
     "iopub.execute_input": "2020-08-21T07:52:13.329147Z",
     "iopub.status.busy": "2020-08-21T07:52:13.328531Z",
     "iopub.status.idle": "2020-08-21T07:52:13.330414Z",
     "shell.execute_reply": "2020-08-21T07:52:13.330858Z"
    },
    "papermill": {
     "duration": 0.025018,
     "end_time": "2020-08-21T07:52:13.331002",
     "exception": false,
     "start_time": "2020-08-21T07:52:13.305984",
     "status": "completed"
    },
    "tags": []
   },
   "outputs": [],
   "source": [
    "#hide\n",
    "dft_cases = dft_cases.T\n",
    "dft_deaths = dft_deaths.T\n",
    "dt_today = dates[-1]\n",
    "dt_yday = dates[-2]"
   ]
  },
  {
   "cell_type": "code",
   "execution_count": 9,
   "metadata": {
    "execution": {
     "iopub.execute_input": "2020-08-21T07:52:13.371464Z",
     "iopub.status.busy": "2020-08-21T07:52:13.370864Z",
     "iopub.status.idle": "2020-08-21T07:52:13.373137Z",
     "shell.execute_reply": "2020-08-21T07:52:13.372619Z"
    },
    "papermill": {
     "duration": 0.026718,
     "end_time": "2020-08-21T07:52:13.373264",
     "exception": false,
     "start_time": "2020-08-21T07:52:13.346546",
     "status": "completed"
    },
    "tags": []
   },
   "outputs": [],
   "source": [
    "#hide\n",
    "dft_cases = dft_cases.reset_index()\n",
    "dft_deaths = dft_deaths.reset_index()\n",
    "dft_cases = dft_cases.rename(columns = {'index':'state'})\n",
    "dft_deaths = dft_deaths.rename(columns = {'index':'state'})"
   ]
  },
  {
   "cell_type": "code",
   "execution_count": 10,
   "metadata": {
    "execution": {
     "iopub.execute_input": "2020-08-21T07:52:13.411251Z",
     "iopub.status.busy": "2020-08-21T07:52:13.410657Z",
     "iopub.status.idle": "2020-08-21T07:52:13.418037Z",
     "shell.execute_reply": "2020-08-21T07:52:13.417422Z"
    },
    "papermill": {
     "duration": 0.029249,
     "end_time": "2020-08-21T07:52:13.418176",
     "exception": false,
     "start_time": "2020-08-21T07:52:13.388927",
     "status": "completed"
    },
    "tags": []
   },
   "outputs": [],
   "source": [
    "#hide\n",
    "dfc_cases = dft_cases.groupby('state')[dt_today].sum()\n",
    "dfc_deaths = dft_deaths.groupby('state')[dt_today].sum()\n",
    "dfp_cases = dft_cases.groupby('state')[dt_yday].sum()\n",
    "dfp_deaths = dft_deaths.groupby('state')[dt_yday].sum()"
   ]
  },
  {
   "cell_type": "code",
   "execution_count": 11,
   "metadata": {
    "execution": {
     "iopub.execute_input": "2020-08-21T07:52:13.468797Z",
     "iopub.status.busy": "2020-08-21T07:52:13.468052Z",
     "iopub.status.idle": "2020-08-21T07:52:13.474005Z",
     "shell.execute_reply": "2020-08-21T07:52:13.474620Z"
    },
    "papermill": {
     "duration": 0.03937,
     "end_time": "2020-08-21T07:52:13.474779",
     "exception": false,
     "start_time": "2020-08-21T07:52:13.435409",
     "status": "completed"
    },
    "tags": []
   },
   "outputs": [
    {
     "data": {
      "text/html": [
       "<div>\n",
       "<style scoped>\n",
       "    .dataframe tbody tr th:only-of-type {\n",
       "        vertical-align: middle;\n",
       "    }\n",
       "\n",
       "    .dataframe tbody tr th {\n",
       "        vertical-align: top;\n",
       "    }\n",
       "\n",
       "    .dataframe thead th {\n",
       "        text-align: right;\n",
       "    }\n",
       "</style>\n",
       "<table border=\"1\" class=\"dataframe\">\n",
       "  <thead>\n",
       "    <tr style=\"text-align: right;\">\n",
       "      <th></th>\n",
       "      <th>states</th>\n",
       "      <th>Cases</th>\n",
       "      <th>Deaths</th>\n",
       "      <th>PCases</th>\n",
       "      <th>PDeaths</th>\n",
       "    </tr>\n",
       "  </thead>\n",
       "  <tbody>\n",
       "    <tr>\n",
       "      <th>0</th>\n",
       "      <td>Maharashtra</td>\n",
       "      <td>643289</td>\n",
       "      <td>21359</td>\n",
       "      <td>643289</td>\n",
       "      <td>21359</td>\n",
       "    </tr>\n",
       "    <tr>\n",
       "      <th>1</th>\n",
       "      <td>Tamil Nadu</td>\n",
       "      <td>361435</td>\n",
       "      <td>6239</td>\n",
       "      <td>361435</td>\n",
       "      <td>6239</td>\n",
       "    </tr>\n",
       "    <tr>\n",
       "      <th>2</th>\n",
       "      <td>Andhra Pradesh</td>\n",
       "      <td>325396</td>\n",
       "      <td>3001</td>\n",
       "      <td>325396</td>\n",
       "      <td>3001</td>\n",
       "    </tr>\n",
       "    <tr>\n",
       "      <th>3</th>\n",
       "      <td>Karnataka</td>\n",
       "      <td>256975</td>\n",
       "      <td>4429</td>\n",
       "      <td>256975</td>\n",
       "      <td>4429</td>\n",
       "    </tr>\n",
       "    <tr>\n",
       "      <th>4</th>\n",
       "      <td>Uttar Pradesh</td>\n",
       "      <td>172334</td>\n",
       "      <td>2733</td>\n",
       "      <td>172334</td>\n",
       "      <td>2733</td>\n",
       "    </tr>\n",
       "  </tbody>\n",
       "</table>\n",
       "</div>"
      ],
      "text/plain": [
       "           states   Cases  Deaths  PCases  PDeaths\n",
       "0     Maharashtra  643289   21359  643289    21359\n",
       "1      Tamil Nadu  361435    6239  361435     6239\n",
       "2  Andhra Pradesh  325396    3001  325396     3001\n",
       "3       Karnataka  256975    4429  256975     4429\n",
       "4   Uttar Pradesh  172334    2733  172334     2733"
      ]
     },
     "execution_count": 11,
     "metadata": {},
     "output_type": "execute_result"
    }
   ],
   "source": [
    "#hide\n",
    "df_table = pd.DataFrame({'states': dfc_cases.index, 'Cases': dfc_cases.values, 'Deaths': dfc_deaths.values, 'PCases': dfp_cases.values, 'PDeaths': dfp_deaths.values}).set_index('states')\n",
    "df_table = df_table.sort_values(by = ['Cases','Deaths'], ascending = [False, False])\n",
    "df_table = df_table.reset_index()\n",
    "df_table.head()"
   ]
  },
  {
   "cell_type": "code",
   "execution_count": 12,
   "metadata": {
    "execution": {
     "iopub.execute_input": "2020-08-21T07:52:13.515612Z",
     "iopub.status.busy": "2020-08-21T07:52:13.514956Z",
     "iopub.status.idle": "2020-08-21T07:52:13.524299Z",
     "shell.execute_reply": "2020-08-21T07:52:13.524797Z"
    },
    "papermill": {
     "duration": 0.03408,
     "end_time": "2020-08-21T07:52:13.524954",
     "exception": false,
     "start_time": "2020-08-21T07:52:13.490874",
     "status": "completed"
    },
    "tags": []
   },
   "outputs": [],
   "source": [
    "#hide\n",
    "for c in 'Cases, Deaths'.split(', '):\n",
    "    df_table[f'{c} (+)'] = (df_table[c] - df_table[f'P{c}']).clip(0)\n",
    "df_table['Fatality Rate'] = (100* df_table['Deaths']/ df_table['Cases']).round(2)"
   ]
  },
  {
   "cell_type": "code",
   "execution_count": 13,
   "metadata": {
    "execution": {
     "iopub.execute_input": "2020-08-21T07:52:13.572545Z",
     "iopub.status.busy": "2020-08-21T07:52:13.571907Z",
     "iopub.status.idle": "2020-08-21T07:52:13.577622Z",
     "shell.execute_reply": "2020-08-21T07:52:13.578075Z"
    },
    "papermill": {
     "duration": 0.036798,
     "end_time": "2020-08-21T07:52:13.578235",
     "exception": false,
     "start_time": "2020-08-21T07:52:13.541437",
     "status": "completed"
    },
    "tags": []
   },
   "outputs": [
    {
     "data": {
      "text/html": [
       "<div>\n",
       "<style scoped>\n",
       "    .dataframe tbody tr th:only-of-type {\n",
       "        vertical-align: middle;\n",
       "    }\n",
       "\n",
       "    .dataframe tbody tr th {\n",
       "        vertical-align: top;\n",
       "    }\n",
       "\n",
       "    .dataframe thead th {\n",
       "        text-align: right;\n",
       "    }\n",
       "</style>\n",
       "<table border=\"1\" class=\"dataframe\">\n",
       "  <thead>\n",
       "    <tr style=\"text-align: right;\">\n",
       "      <th></th>\n",
       "      <th>states</th>\n",
       "      <th>Cases</th>\n",
       "      <th>Deaths</th>\n",
       "      <th>PCases</th>\n",
       "      <th>PDeaths</th>\n",
       "      <th>Cases (+)</th>\n",
       "      <th>Deaths (+)</th>\n",
       "      <th>Fatality Rate</th>\n",
       "    </tr>\n",
       "  </thead>\n",
       "  <tbody>\n",
       "    <tr>\n",
       "      <th>0</th>\n",
       "      <td>Maharashtra</td>\n",
       "      <td>643289</td>\n",
       "      <td>21359</td>\n",
       "      <td>643289</td>\n",
       "      <td>21359</td>\n",
       "      <td>0</td>\n",
       "      <td>0</td>\n",
       "      <td>3.32</td>\n",
       "    </tr>\n",
       "    <tr>\n",
       "      <th>1</th>\n",
       "      <td>Tamil Nadu</td>\n",
       "      <td>361435</td>\n",
       "      <td>6239</td>\n",
       "      <td>361435</td>\n",
       "      <td>6239</td>\n",
       "      <td>0</td>\n",
       "      <td>0</td>\n",
       "      <td>1.73</td>\n",
       "    </tr>\n",
       "    <tr>\n",
       "      <th>2</th>\n",
       "      <td>Andhra Pradesh</td>\n",
       "      <td>325396</td>\n",
       "      <td>3001</td>\n",
       "      <td>325396</td>\n",
       "      <td>3001</td>\n",
       "      <td>0</td>\n",
       "      <td>0</td>\n",
       "      <td>0.92</td>\n",
       "    </tr>\n",
       "    <tr>\n",
       "      <th>3</th>\n",
       "      <td>Karnataka</td>\n",
       "      <td>256975</td>\n",
       "      <td>4429</td>\n",
       "      <td>256975</td>\n",
       "      <td>4429</td>\n",
       "      <td>0</td>\n",
       "      <td>0</td>\n",
       "      <td>1.72</td>\n",
       "    </tr>\n",
       "    <tr>\n",
       "      <th>4</th>\n",
       "      <td>Uttar Pradesh</td>\n",
       "      <td>172334</td>\n",
       "      <td>2733</td>\n",
       "      <td>172334</td>\n",
       "      <td>2733</td>\n",
       "      <td>0</td>\n",
       "      <td>0</td>\n",
       "      <td>1.59</td>\n",
       "    </tr>\n",
       "  </tbody>\n",
       "</table>\n",
       "</div>"
      ],
      "text/plain": [
       "           states   Cases  Deaths  PCases  PDeaths  Cases (+)  Deaths (+)  \\\n",
       "0     Maharashtra  643289   21359  643289    21359          0           0   \n",
       "1      Tamil Nadu  361435    6239  361435     6239          0           0   \n",
       "2  Andhra Pradesh  325396    3001  325396     3001          0           0   \n",
       "3       Karnataka  256975    4429  256975     4429          0           0   \n",
       "4   Uttar Pradesh  172334    2733  172334     2733          0           0   \n",
       "\n",
       "   Fatality Rate  \n",
       "0           3.32  \n",
       "1           1.73  \n",
       "2           0.92  \n",
       "3           1.72  \n",
       "4           1.59  "
      ]
     },
     "execution_count": 13,
     "metadata": {},
     "output_type": "execute_result"
    }
   ],
   "source": [
    "#hide\n",
    "df_table.head()"
   ]
  },
  {
   "cell_type": "code",
   "execution_count": 14,
   "metadata": {
    "execution": {
     "iopub.execute_input": "2020-08-21T07:52:13.620717Z",
     "iopub.status.busy": "2020-08-21T07:52:13.620096Z",
     "iopub.status.idle": "2020-08-21T07:52:13.636648Z",
     "shell.execute_reply": "2020-08-21T07:52:13.636125Z"
    },
    "papermill": {
     "duration": 0.041955,
     "end_time": "2020-08-21T07:52:13.636778",
     "exception": false,
     "start_time": "2020-08-21T07:52:13.594823",
     "status": "completed"
    },
    "tags": []
   },
   "outputs": [
    {
     "data": {
      "text/plain": [
       "{'updated': '2020-08-21',\n",
       " 'since': '2020-08-20',\n",
       " 'Cases': 2910032,\n",
       " 'PCases': 2904340,\n",
       " 'Deaths': 55002,\n",
       " 'PDeaths': 54975,\n",
       " 'Cases (+)': 5692,\n",
       " 'Deaths (+)': 27}"
      ]
     },
     "execution_count": 14,
     "metadata": {},
     "output_type": "execute_result"
    }
   ],
   "source": [
    "#hide\n",
    "summary = {'updated':dates[-1], 'since':dates[-2]}\n",
    "list_names = ['Cases', 'PCases', 'Deaths', 'PDeaths', 'Cases (+)', 'Deaths (+)']\n",
    "for name in list_names:\n",
    "    summary[name] = df_table.sum()[name]\n",
    "summary"
   ]
  },
  {
   "cell_type": "code",
   "execution_count": 15,
   "metadata": {
    "execution": {
     "iopub.execute_input": "2020-08-21T07:52:13.676794Z",
     "iopub.status.busy": "2020-08-21T07:52:13.675984Z",
     "iopub.status.idle": "2020-08-21T07:52:13.678075Z",
     "shell.execute_reply": "2020-08-21T07:52:13.678753Z"
    },
    "papermill": {
     "duration": 0.024987,
     "end_time": "2020-08-21T07:52:13.678941",
     "exception": false,
     "start_time": "2020-08-21T07:52:13.653954",
     "status": "completed"
    },
    "tags": []
   },
   "outputs": [],
   "source": [
    "#hide\n",
    "overview = '''\n",
    "<!-- #######  HTML!! #########-->\n",
    "<h1 style=\"color: #5e9ca0; text-align: center;\">India</h1>\n",
    "<p style=\"text-align: center;\">Last update: <strong>{update}</strong></p>\n",
    "<p style=\"text-align: center;\">Confirmed cases:</p>\n",
    "<p style=\"text-align: center;font-size:24px;\">{cases} (<span style=\"color: #ff0000;\">+{new}</span>)</p>\n",
    "<p style=\"text-align: center;\">Confirmed deaths:</p>\n",
    "<p style=\"text-align: center;font-size:24px;\">{deaths} (<span style=\"color: #ff0000;\">+{dnew}</span>)</p>\n",
    "'''"
   ]
  },
  {
   "cell_type": "code",
   "execution_count": 16,
   "metadata": {
    "execution": {
     "iopub.execute_input": "2020-08-21T07:52:13.721021Z",
     "iopub.status.busy": "2020-08-21T07:52:13.720438Z",
     "iopub.status.idle": "2020-08-21T07:52:13.724156Z",
     "shell.execute_reply": "2020-08-21T07:52:13.723650Z"
    },
    "papermill": {
     "duration": 0.028224,
     "end_time": "2020-08-21T07:52:13.724279",
     "exception": false,
     "start_time": "2020-08-21T07:52:13.696055",
     "status": "completed"
    },
    "tags": []
   },
   "outputs": [
    {
     "data": {
      "text/html": [
       "\n",
       "<!-- #######  HTML!! #########-->\n",
       "<h1 style=\"color: #5e9ca0; text-align: center;\">India</h1>\n",
       "<p style=\"text-align: center;\">Last update: <strong>2020-08-21</strong></p>\n",
       "<p style=\"text-align: center;\">Confirmed cases:</p>\n",
       "<p style=\"text-align: center;font-size:24px;\">2910032 (<span style=\"color: #ff0000;\">+5692</span>)</p>\n",
       "<p style=\"text-align: center;\">Confirmed deaths:</p>\n",
       "<p style=\"text-align: center;font-size:24px;\">55002 (<span style=\"color: #ff0000;\">+27</span>)</p>\n"
      ],
      "text/plain": [
       "<IPython.core.display.HTML object>"
      ]
     },
     "metadata": {},
     "output_type": "display_data"
    }
   ],
   "source": [
    "#hide_input\n",
    "update = summary['updated']\n",
    "cases = summary['Cases']\n",
    "new = summary['Cases (+)']\n",
    "deaths = summary['Deaths']\n",
    "dnew = summary['Deaths (+)']\n",
    "\n",
    "html = HTML(overview.format(update=update, cases=cases,new=new,deaths=deaths,dnew=dnew))\n",
    "\n",
    "display(html)"
   ]
  },
  {
   "cell_type": "code",
   "execution_count": 17,
   "metadata": {
    "execution": {
     "iopub.execute_input": "2020-08-21T07:52:13.767415Z",
     "iopub.status.busy": "2020-08-21T07:52:13.766830Z",
     "iopub.status.idle": "2020-08-21T07:52:13.771608Z",
     "shell.execute_reply": "2020-08-21T07:52:13.771038Z"
    },
    "papermill": {
     "duration": 0.030175,
     "end_time": "2020-08-21T07:52:13.771738",
     "exception": false,
     "start_time": "2020-08-21T07:52:13.741563",
     "status": "completed"
    },
    "tags": []
   },
   "outputs": [],
   "source": [
    "#hide\n",
    "dt_cols = list(dft_cases.columns[1:])\n",
    "dft_ct_new_cases = dft_cases.groupby('state')[dt_cols].sum().diff(axis=1).fillna(0).astype(int)\n",
    "dft_ct_new_cases.sort_values(by = dates[-1], ascending = False,inplace = True)"
   ]
  },
  {
   "cell_type": "code",
   "execution_count": 18,
   "metadata": {
    "execution": {
     "iopub.execute_input": "2020-08-21T07:52:13.826139Z",
     "iopub.status.busy": "2020-08-21T07:52:13.825160Z",
     "iopub.status.idle": "2020-08-21T07:52:13.828410Z",
     "shell.execute_reply": "2020-08-21T07:52:13.828852Z"
    },
    "papermill": {
     "duration": 0.039728,
     "end_time": "2020-08-21T07:52:13.829011",
     "exception": false,
     "start_time": "2020-08-21T07:52:13.789283",
     "status": "completed"
    },
    "tags": []
   },
   "outputs": [
    {
     "data": {
      "text/html": [
       "<div>\n",
       "<style scoped>\n",
       "    .dataframe tbody tr th:only-of-type {\n",
       "        vertical-align: middle;\n",
       "    }\n",
       "\n",
       "    .dataframe tbody tr th {\n",
       "        vertical-align: top;\n",
       "    }\n",
       "\n",
       "    .dataframe thead th {\n",
       "        text-align: right;\n",
       "    }\n",
       "</style>\n",
       "<table border=\"1\" class=\"dataframe\">\n",
       "  <thead>\n",
       "    <tr style=\"text-align: right;\">\n",
       "      <th>states</th>\n",
       "      <th>2020-07-01</th>\n",
       "      <th>2020-07-02</th>\n",
       "      <th>2020-07-03</th>\n",
       "      <th>2020-07-04</th>\n",
       "      <th>2020-07-05</th>\n",
       "      <th>2020-07-06</th>\n",
       "      <th>2020-07-07</th>\n",
       "      <th>2020-07-08</th>\n",
       "      <th>2020-07-09</th>\n",
       "      <th>2020-07-10</th>\n",
       "      <th>...</th>\n",
       "      <th>2020-08-12</th>\n",
       "      <th>2020-08-13</th>\n",
       "      <th>2020-08-14</th>\n",
       "      <th>2020-08-15</th>\n",
       "      <th>2020-08-16</th>\n",
       "      <th>2020-08-17</th>\n",
       "      <th>2020-08-18</th>\n",
       "      <th>2020-08-19</th>\n",
       "      <th>2020-08-20</th>\n",
       "      <th>2020-08-21</th>\n",
       "    </tr>\n",
       "    <tr>\n",
       "      <th>state</th>\n",
       "      <th></th>\n",
       "      <th></th>\n",
       "      <th></th>\n",
       "      <th></th>\n",
       "      <th></th>\n",
       "      <th></th>\n",
       "      <th></th>\n",
       "      <th></th>\n",
       "      <th></th>\n",
       "      <th></th>\n",
       "      <th></th>\n",
       "      <th></th>\n",
       "      <th></th>\n",
       "      <th></th>\n",
       "      <th></th>\n",
       "      <th></th>\n",
       "      <th></th>\n",
       "      <th></th>\n",
       "      <th></th>\n",
       "      <th></th>\n",
       "      <th></th>\n",
       "    </tr>\n",
       "  </thead>\n",
       "  <tbody>\n",
       "    <tr>\n",
       "      <th>Odisha</th>\n",
       "      <td>0</td>\n",
       "      <td>229</td>\n",
       "      <td>561</td>\n",
       "      <td>495</td>\n",
       "      <td>469</td>\n",
       "      <td>456</td>\n",
       "      <td>571</td>\n",
       "      <td>527</td>\n",
       "      <td>577</td>\n",
       "      <td>755</td>\n",
       "      <td>...</td>\n",
       "      <td>1876</td>\n",
       "      <td>1981</td>\n",
       "      <td>1977</td>\n",
       "      <td>2496</td>\n",
       "      <td>2924</td>\n",
       "      <td>2244</td>\n",
       "      <td>2239</td>\n",
       "      <td>2589</td>\n",
       "      <td>2898</td>\n",
       "      <td>2698</td>\n",
       "    </tr>\n",
       "    <tr>\n",
       "      <th>Telangana</th>\n",
       "      <td>0</td>\n",
       "      <td>1213</td>\n",
       "      <td>1892</td>\n",
       "      <td>1850</td>\n",
       "      <td>1590</td>\n",
       "      <td>1831</td>\n",
       "      <td>1879</td>\n",
       "      <td>1924</td>\n",
       "      <td>1410</td>\n",
       "      <td>1278</td>\n",
       "      <td>...</td>\n",
       "      <td>1897</td>\n",
       "      <td>1931</td>\n",
       "      <td>1921</td>\n",
       "      <td>1863</td>\n",
       "      <td>1102</td>\n",
       "      <td>894</td>\n",
       "      <td>1682</td>\n",
       "      <td>1763</td>\n",
       "      <td>1724</td>\n",
       "      <td>1967</td>\n",
       "    </tr>\n",
       "    <tr>\n",
       "      <th>Rajasthan</th>\n",
       "      <td>0</td>\n",
       "      <td>350</td>\n",
       "      <td>390</td>\n",
       "      <td>480</td>\n",
       "      <td>632</td>\n",
       "      <td>524</td>\n",
       "      <td>716</td>\n",
       "      <td>659</td>\n",
       "      <td>500</td>\n",
       "      <td>611</td>\n",
       "      <td>...</td>\n",
       "      <td>1213</td>\n",
       "      <td>1314</td>\n",
       "      <td>1278</td>\n",
       "      <td>1287</td>\n",
       "      <td>1317</td>\n",
       "      <td>1334</td>\n",
       "      <td>1347</td>\n",
       "      <td>1312</td>\n",
       "      <td>1330</td>\n",
       "      <td>695</td>\n",
       "    </tr>\n",
       "    <tr>\n",
       "      <th>Tripura</th>\n",
       "      <td>0</td>\n",
       "      <td>39</td>\n",
       "      <td>93</td>\n",
       "      <td>25</td>\n",
       "      <td>23</td>\n",
       "      <td>111</td>\n",
       "      <td>24</td>\n",
       "      <td>57</td>\n",
       "      <td>16</td>\n",
       "      <td>142</td>\n",
       "      <td>...</td>\n",
       "      <td>110</td>\n",
       "      <td>121</td>\n",
       "      <td>164</td>\n",
       "      <td>167</td>\n",
       "      <td>127</td>\n",
       "      <td>143</td>\n",
       "      <td>205</td>\n",
       "      <td>236</td>\n",
       "      <td>190</td>\n",
       "      <td>256</td>\n",
       "    </tr>\n",
       "    <tr>\n",
       "      <th>Meghalaya</th>\n",
       "      <td>0</td>\n",
       "      <td>3</td>\n",
       "      <td>4</td>\n",
       "      <td>8</td>\n",
       "      <td>2</td>\n",
       "      <td>16</td>\n",
       "      <td>6</td>\n",
       "      <td>6</td>\n",
       "      <td>13</td>\n",
       "      <td>73</td>\n",
       "      <td>...</td>\n",
       "      <td>37</td>\n",
       "      <td>14</td>\n",
       "      <td>35</td>\n",
       "      <td>64</td>\n",
       "      <td>82</td>\n",
       "      <td>44</td>\n",
       "      <td>39</td>\n",
       "      <td>78</td>\n",
       "      <td>126</td>\n",
       "      <td>55</td>\n",
       "    </tr>\n",
       "  </tbody>\n",
       "</table>\n",
       "<p>5 rows × 52 columns</p>\n",
       "</div>"
      ],
      "text/plain": [
       "states     2020-07-01  2020-07-02  2020-07-03  2020-07-04  2020-07-05  \\\n",
       "state                                                                   \n",
       "Odisha              0         229         561         495         469   \n",
       "Telangana           0        1213        1892        1850        1590   \n",
       "Rajasthan           0         350         390         480         632   \n",
       "Tripura             0          39          93          25          23   \n",
       "Meghalaya           0           3           4           8           2   \n",
       "\n",
       "states     2020-07-06  2020-07-07  2020-07-08  2020-07-09  2020-07-10  ...  \\\n",
       "state                                                                  ...   \n",
       "Odisha            456         571         527         577         755  ...   \n",
       "Telangana        1831        1879        1924        1410        1278  ...   \n",
       "Rajasthan         524         716         659         500         611  ...   \n",
       "Tripura           111          24          57          16         142  ...   \n",
       "Meghalaya          16           6           6          13          73  ...   \n",
       "\n",
       "states     2020-08-12  2020-08-13  2020-08-14  2020-08-15  2020-08-16  \\\n",
       "state                                                                   \n",
       "Odisha           1876        1981        1977        2496        2924   \n",
       "Telangana        1897        1931        1921        1863        1102   \n",
       "Rajasthan        1213        1314        1278        1287        1317   \n",
       "Tripura           110         121         164         167         127   \n",
       "Meghalaya          37          14          35          64          82   \n",
       "\n",
       "states     2020-08-17  2020-08-18  2020-08-19  2020-08-20  2020-08-21  \n",
       "state                                                                  \n",
       "Odisha           2244        2239        2589        2898        2698  \n",
       "Telangana         894        1682        1763        1724        1967  \n",
       "Rajasthan        1334        1347        1312        1330         695  \n",
       "Tripura           143         205         236         190         256  \n",
       "Meghalaya          44          39          78         126          55  \n",
       "\n",
       "[5 rows x 52 columns]"
      ]
     },
     "execution_count": 18,
     "metadata": {},
     "output_type": "execute_result"
    }
   ],
   "source": [
    "#hide\n",
    "dft_ct_new_cases.head()"
   ]
  },
  {
   "cell_type": "code",
   "execution_count": 19,
   "metadata": {
    "execution": {
     "iopub.execute_input": "2020-08-21T07:52:13.868807Z",
     "iopub.status.busy": "2020-08-21T07:52:13.868179Z",
     "iopub.status.idle": "2020-08-21T07:52:16.553207Z",
     "shell.execute_reply": "2020-08-21T07:52:16.552575Z"
    },
    "papermill": {
     "duration": 2.706317,
     "end_time": "2020-08-21T07:52:16.553357",
     "exception": false,
     "start_time": "2020-08-21T07:52:13.847040",
     "status": "completed"
    },
    "tags": []
   },
   "outputs": [
    {
     "data": {
      "image/png": "[encoded data removed]",
      "text/plain": [
       "<Figure size 1296x2016 with 11 Axes>"
      ]
     },
     "metadata": {
      "needs_background": "light"
     },
     "output_type": "display_data"
    }
   ],
   "source": [
    "#hide_input\n",
    "df = dft_ct_new_cases.copy()\n",
    "df.loc['Total'] = df.sum()\n",
    "n = 5\n",
    "ax = []\n",
    "fig = plt.figure(figsize = (18,28))\n",
    "gs = fig.add_gridspec(n+2, 5)\n",
    "# gs = fig.add_gridspec(2, 3)\n",
    "ax1 = fig.add_subplot(gs[0, :])\n",
    "ef = df.loc['Total'].rename_axis('date').reset_index()\n",
    "ef['date'] = ef['date'].astype('datetime64[ns]')\n",
    "ax1.bar(ef.date,ef.Total,alpha=0.3,color='#007acc')\n",
    "ax1.plot(ef.date,ef.Total , marker=\"o\", color='#007acc')\n",
    "ax1.xaxis.set_major_locator(mdates.WeekdayLocator())\n",
    "ax1.xaxis.set_major_formatter(mdates.DateFormatter('%b %d'))\n",
    "ax1.text(0.02, 0.5,'India daily case count', transform = ax1.transAxes, fontsize=25);\n",
    "ax1.spines['right'].set_visible(False)\n",
    "ax1.spines['top'].set_visible(False)\n",
    "\n",
    "ax2 = fig.add_subplot(gs[1,0])\n",
    "ef = df.loc['Maharashtra'].rename_axis('date').reset_index()\n",
    "ef['date'] = ef['date'].astype('datetime64[ns]')\n",
    "\n",
    "ax2.bar(ef.date, ef.Maharashtra,color = '#007acc',alpha=0.5)\n",
    "ax2.xaxis.set_major_locator(mdates.WeekdayLocator())\n",
    "ax2.xaxis.set_major_formatter(mdates.DateFormatter('%b %d'))\n",
    "ax2.set_xticks(ax2.get_xticks()[::3])\n",
    "maxyval = ef.Maharashtra.max()\n",
    "ax2.set_ylim([0,maxyval])\n",
    "ax2.text(0.05, 0.9,'Maharashtra', transform = ax2.transAxes, fontsize=20);\n",
    "ax2.spines['right'].set_visible(False)\n",
    "ax2.spines['top'].set_visible(False)\n",
    "\n",
    "\n",
    "ax3 = fig.add_subplot(gs[1,1])\n",
    "ef = df.loc['Tamil Nadu'].rename_axis('date').reset_index()\n",
    "ef['date'] = ef['date'].astype('datetime64[ns]')\n",
    "ax3.bar(ef.date, ef['Tamil Nadu'],color = '#007acc',alpha=0.5,)\n",
    "ax3.xaxis.set_major_locator(mdates.WeekdayLocator())\n",
    "ax3.xaxis.set_major_formatter(mdates.DateFormatter('%b %d'))\n",
    "ax3.set_xticks(ax3.get_xticks()[::3])\n",
    "ax3.text(0.05, 0.9,'Tamil Nadu', transform = ax3.transAxes, fontsize=20);\n",
    "ax3.spines['right'].set_visible(False)\n",
    "ax3.spines['top'].set_visible(False)\n",
    "\n",
    "ax5 = fig.add_subplot(gs[1,3])\n",
    "ef = df.loc['Telangana'].rename_axis('date').reset_index()\n",
    "ef['date'] = ef['date'].astype('datetime64[ns]')\n",
    "ax5.bar(ef.date, ef['Telangana'],color = '#007acc',alpha=0.5,)\n",
    "ax5.xaxis.set_major_locator(mdates.WeekdayLocator())\n",
    "ax5.xaxis.set_major_formatter(mdates.DateFormatter('%b %d'))\n",
    "ax5.set_xticks(ax5.get_xticks()[::3])\n",
    "ax5.text(0.05, 0.9,'Telangana', transform = ax5.transAxes, fontsize=20);\n",
    "ax5.spines['right'].set_visible(False)\n",
    "ax5.spines['top'].set_visible(False)\n",
    "\n",
    "ax6 = fig.add_subplot(gs[1,4])\n",
    "ef = df.loc['Andhra Pradesh'].rename_axis('date').reset_index()\n",
    "ef['date'] = ef['date'].astype('datetime64[ns]')\n",
    "ax6.bar(ef.date, ef['Andhra Pradesh'],color = '#007acc',alpha=0.5,)\n",
    "ax6.xaxis.set_major_locator(mdates.WeekdayLocator())\n",
    "ax6.xaxis.set_major_formatter(mdates.DateFormatter('%b %d'))\n",
    "ax6.set_xticks(ax6.get_xticks()[::3])\n",
    "ax6.text(0.05, 1,'Andhra Pradesh', transform = ax6.transAxes, fontsize=20);\n",
    "ax6.spines['right'].set_visible(False)\n",
    "ax6.spines['top'].set_visible(False)\n",
    "\n",
    "ax4 = fig.add_subplot(gs[1,2])\n",
    "ef = df.loc['Delhi'].rename_axis('date').reset_index()\n",
    "ef['date'] = ef['date'].astype('datetime64[ns]')\n",
    "ax4.bar(ef.date, ef.Delhi,color = '#007acc',alpha=0.5)\n",
    "ax4.set_xticks([])\n",
    "ax4.xaxis.set_major_locator(mdates.WeekdayLocator())\n",
    "ax4.xaxis.set_major_formatter(mdates.DateFormatter('%b %d'))\n",
    "ax4.set_xticks(ax4.get_xticks()[::3])\n",
    "ax4.spines['right'].set_visible(False)\n",
    "ax4.spines['top'].set_visible(False)\n",
    "\n",
    "ax4.text(0.05, 1,'Delhi', transform = ax4.transAxes, fontsize=20)\n",
    "\n",
    "for i in range(n):\n",
    "    \n",
    "    ax.append(fig.add_subplot(gs[i+2,:]))\n",
    "    ef = df.iloc[i+3].rename_axis('date').reset_index()\n",
    "    ef['date'] = ef['date'].astype('datetime64[ns]')\n",
    "    ax[i].bar(ef.date,ef.iloc[:,-1],color = '#007acc',alpha=0.3)\n",
    "    ax[i].plot(ef.date,ef.iloc[:,-1],marker='o',color='#007acc')\n",
    "    ax[i].text(0.02,0.5,f'{ef.columns.values[-1]}',transform = ax[i].transAxes, fontsize = 20);\n",
    "    ax[i].xaxis.set_major_locator(mdates.WeekdayLocator())\n",
    "    ax[i].xaxis.set_major_formatter(mdates.DateFormatter('%b %d'))\n",
    "    ax[i].set_ylim([0,7000])\n",
    "    ax[i].spines['right'].set_visible(False)\n",
    "    ax[i].spines['top'].set_visible(False)\n",
    "plt.tight_layout()\n"
   ]
  },
  {
   "cell_type": "code",
   "execution_count": 20,
   "metadata": {
    "execution": {
     "iopub.execute_input": "2020-08-21T07:52:16.676418Z",
     "iopub.status.busy": "2020-08-21T07:52:16.675791Z",
     "iopub.status.idle": "2020-08-21T07:52:16.680387Z",
     "shell.execute_reply": "2020-08-21T07:52:16.679898Z"
    },
    "papermill": {
     "duration": 0.104637,
     "end_time": "2020-08-21T07:52:16.680521",
     "exception": false,
     "start_time": "2020-08-21T07:52:16.575884",
     "status": "completed"
    },
    "tags": []
   },
   "outputs": [
    {
     "name": "stdout",
     "output_type": "stream",
     "text": [
      "                                   states   Cases  Deaths  PCases  PDeaths  Cases (+)  Deaths (+)  Fatality Rate\n",
      "                              Maharashtra  643289   21359  643289    21359          0           0           3.32\n",
      "                               Tamil Nadu  361435    6239  361435     6239          0           0           1.73\n",
      "                           Andhra Pradesh  325396    3001  325396     3001          0           0           0.92\n",
      "                                Karnataka  256975    4429  256975     4429          0           0           1.72\n",
      "                            Uttar Pradesh  172334    2733  172334     2733          0           0           1.59\n",
      "                                    Delhi  157354    4257  157354     4257          0           0           2.71\n",
      "                              West Bengal  129119    2634  129119     2634          0           0           2.04\n",
      "                                    Bihar  115210     574  115210      574          0           0           0.50\n",
      "                                Telangana   99391     737   97424      729       1967           8           0.74\n",
      "                                    Assam   86053     221   86053      221          0           0           0.26\n",
      "                                  Gujarat   83262    2853   83262     2853          0           0           3.43\n",
      "                                   Odisha   72718     443   70020      433       2698          10           0.61\n",
      "                                Rajasthan   67314     926   66619      921        695           5           1.38\n",
      "                                   Kerala   52199     192   52199      192          0           0           0.37\n",
      "                                  Haryana   50926     578   50926      578          0           0           1.13\n",
      "                           Madhya Pradesh   49493    1171   49493     1171          0           0           2.37\n",
      "                                   Punjab   37824     957   37824      957          0           0           2.53\n",
      "                        Jammu and Kashmir   30717     578   30717      578          0           0           1.88\n",
      "                                Jharkhand   26938     286   26938      286          0           0           1.06\n",
      "                             Chhattisgarh   18637     172   18637      172          0           0           0.92\n",
      "                              Uttarakhand   13636     187   13636      187          0           0           1.37\n",
      "                                      Goa   13099     126   13099      126          0           0           0.96\n",
      "                               Puducherry    9292     137    9292      137          0           0           1.47\n",
      "                                  Tripura    8106      69    7850       65        256           4           0.85\n",
      "                                  Manipur    4925      18    4925       18          0           0           0.37\n",
      "                         Himachal Pradesh    4538      22    4538       22          0           0           0.48\n",
      "                                 Nagaland    3583       7    3583        7          0           0           0.20\n",
      "                        Arunachal Pradesh    3066       5    3066        5          0           0           0.16\n",
      "              Andaman and Nicobar Islands    2680      31    2680       31          0           0           1.16\n",
      "                               Chandigarh    2515      31    2515       31          0           0           1.23\n",
      "                                   Ladakh    2077      18    2077       18          0           0           0.87\n",
      " Dadra and Nagar Haveli and Daman and Diu    2030       2    2030        2          0           0           0.10\n",
      "                                Meghalaya    1716       6    1661        6         55           0           0.35\n",
      "                                   Sikkim    1290       3    1290        3          0           0           0.23\n",
      "                                  Mizoram     895       0     874        0         21           0           0.00\n",
      "                              Lakshadweep       0       0       0        0          0           0            NaN\n"
     ]
    }
   ],
   "source": [
    "#hide_input\n",
    "print(df_table.to_string(index=False))"
   ]
  },
  {
   "cell_type": "code",
   "execution_count": null,
   "metadata": {
    "papermill": {
     "duration": 0.023462,
     "end_time": "2020-08-21T07:52:16.726450",
     "exception": false,
     "start_time": "2020-08-21T07:52:16.702988",
     "status": "completed"
    },
    "tags": []
   },
   "outputs": [],
   "source": []
  },
  {
   "cell_type": "code",
   "execution_count": null,
   "metadata": {
    "papermill": {
     "duration": 0.022461,
     "end_time": "2020-08-21T07:52:16.771553",
     "exception": false,
     "start_time": "2020-08-21T07:52:16.749092",
     "status": "completed"
    },
    "tags": []
   },
   "outputs": [],
   "source": []
  }
 ],
 "metadata": {
  "kernelspec": {
   "display_name": "Python 3",
   "language": "python",
   "name": "python3"
  },
  "language_info": {
   "codemirror_mode": {
    "name": "ipython",
    "version": 3
   },
   "file_extension": ".py",
   "mimetype": "text/x-python",
   "name": "python",
   "nbconvert_exporter": "python",
   "pygments_lexer": "ipython3",
   "version": "3.6.11"
  },
  "papermill": {
   "duration": 7.62252,
   "end_time": "2020-08-21T07:52:17.202833",
   "environment_variables": {},
   "exception": null,
   "input_path": "latest.ipynb",
   "output_path": "latest.ipynb",
   "parameters": {},
   "start_time": "2020-08-21T07:52:09.580313",
   "version": "2.1.2"
  }
 },
 "nbformat": 4,
 "nbformat_minor": 4
}