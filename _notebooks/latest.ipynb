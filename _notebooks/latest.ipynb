{
 "cells": [
  {
   "cell_type": "markdown",
   "id": "colored-stack",
   "metadata": {
    "papermill": {
     "duration": 0.023209,
     "end_time": "2021-04-18T13:09:15.169582",
     "exception": false,
     "start_time": "2021-04-18T13:09:15.146373",
     "status": "completed"
    },
    "tags": []
   },
   "source": [
    "# Latest COVID-19 India Matplotlib Overview"
   ]
  },
  {
   "cell_type": "code",
   "execution_count": 1,
   "id": "light-proportion",
   "metadata": {
    "execution": {
     "iopub.execute_input": "2021-04-18T13:09:15.221430Z",
     "iopub.status.busy": "2021-04-18T13:09:15.220687Z",
     "iopub.status.idle": "2021-04-18T13:09:15.819884Z",
     "shell.execute_reply": "2021-04-18T13:09:15.818738Z"
    },
    "papermill": {
     "duration": 0.630202,
     "end_time": "2021-04-18T13:09:15.820027",
     "exception": false,
     "start_time": "2021-04-18T13:09:15.189825",
     "status": "completed"
    },
    "tags": []
   },
   "outputs": [],
   "source": [
    "#hide\n",
    "import pandas as pd\n",
    "import numpy as np\n",
    "import requests\n",
    "import json\n",
    "import matplotlib.pyplot as plt\n",
    "import matplotlib.dates as mdates\n",
    "import matplotlib as mpl\n",
    "from IPython.core.display import display,HTML\n",
    "%matplotlib inline\n",
    "from datetime import date"
   ]
  },
  {
   "cell_type": "code",
   "execution_count": 2,
   "id": "greenhouse-shooting",
   "metadata": {
    "execution": {
     "iopub.execute_input": "2021-04-18T13:09:15.867215Z",
     "iopub.status.busy": "2021-04-18T13:09:15.866192Z",
     "iopub.status.idle": "2021-04-18T13:09:16.119777Z",
     "shell.execute_reply": "2021-04-18T13:09:16.119141Z"
    },
    "papermill": {
     "duration": 0.281207,
     "end_time": "2021-04-18T13:09:16.119942",
     "exception": false,
     "start_time": "2021-04-18T13:09:15.838735",
     "status": "completed"
    },
    "tags": []
   },
   "outputs": [],
   "source": [
    "#hide\n",
    "df  = pd.read_csv('https://api.covid19india.org/csv/latest/states.csv')\n",
    "df = df[['Date','State','Confirmed','Deceased']]\n",
    "df = df.rename(columns={'Confirmed':'Cases', \"Deceased\":'Deaths'})\n",
    "df_cases = df[[\"Date\",'State','Cases']]\n",
    "df_deaths = df[['Date','State','Deaths']]\n",
    "df_cases1 = df_cases.groupby('Date')\n",
    "df_deaths1= df_deaths.groupby('Date')"
   ]
  },
  {
   "cell_type": "code",
   "execution_count": 3,
   "id": "hybrid-cathedral",
   "metadata": {
    "execution": {
     "iopub.execute_input": "2021-04-18T13:09:16.164312Z",
     "iopub.status.busy": "2021-04-18T13:09:16.163547Z",
     "iopub.status.idle": "2021-04-18T13:09:16.183906Z",
     "shell.execute_reply": "2021-04-18T13:09:16.184369Z"
    },
    "papermill": {
     "duration": 0.045637,
     "end_time": "2021-04-18T13:09:16.184500",
     "exception": false,
     "start_time": "2021-04-18T13:09:16.138863",
     "status": "completed"
    },
    "tags": []
   },
   "outputs": [],
   "source": [
    "#hide\n",
    "df_snap = pd.read_csv('data/SnapshotCases-28-July.csv')\n",
    "arr_states = df_snap['states'].unique()\n",
    "arr_dates = df['Date'].unique()\n",
    "df_snap = df_snap.set_index('states')"
   ]
  },
  {
   "cell_type": "code",
   "execution_count": 4,
   "id": "interior-belfast",
   "metadata": {
    "execution": {
     "iopub.execute_input": "2021-04-18T13:09:16.233201Z",
     "iopub.status.busy": "2021-04-18T13:09:16.232412Z",
     "iopub.status.idle": "2021-04-18T13:09:16.236098Z",
     "shell.execute_reply": "2021-04-18T13:09:16.235535Z"
    },
    "papermill": {
     "duration": 0.031953,
     "end_time": "2021-04-18T13:09:16.236221",
     "exception": false,
     "start_time": "2021-04-18T13:09:16.204268",
     "status": "completed"
    },
    "tags": []
   },
   "outputs": [
    {
     "data": {
      "text/plain": [
       "array(['Andaman and Nicobar Islands', 'Andhra Pradesh',\n",
       "       'Arunachal Pradesh', 'Assam', 'Bihar', 'Chandigarh',\n",
       "       'Dadra and Nagar Haveli and Daman and Diu', 'Delhi', 'Goa',\n",
       "       'Gujarat', 'Haryana', 'Himachal Pradesh', 'Jammu and Kashmir',\n",
       "       'Jharkhand', 'Karnataka', 'Kerala', 'Lakshadweep',\n",
       "       'Madhya Pradesh', 'Maharashtra', 'Manipur', 'Meghalaya', 'Mizoram',\n",
       "       'Nagaland', 'Odisha', 'Puducherry', 'Punjab', 'Rajasthan',\n",
       "       'Sikkim', 'Tamil Nadu', 'Telangana', 'Tripura', 'Uttar Pradesh',\n",
       "       'West Bengal', 'Chhattisgarh', 'Ladakh', 'Uttarakhand'],\n",
       "      dtype=object)"
      ]
     },
     "execution_count": 4,
     "metadata": {},
     "output_type": "execute_result"
    }
   ],
   "source": [
    "#hide\n",
    "arr_states[-9] = 'Puducherry'\n",
    "arr_states[-10] = 'Odisha'\n",
    "arr_states[6] = 'Dadra and Nagar Haveli and Daman and Diu'\n",
    "arr_states = np.append(arr_states,np.array(['Chhattisgarh','Ladakh','Uttarakhand']))\n",
    "arr_states"
   ]
  },
  {
   "cell_type": "code",
   "execution_count": 5,
   "id": "behind-manner",
   "metadata": {
    "execution": {
     "iopub.execute_input": "2021-04-18T13:09:16.303919Z",
     "iopub.status.busy": "2021-04-18T13:09:16.302883Z",
     "iopub.status.idle": "2021-04-18T13:09:16.307198Z",
     "shell.execute_reply": "2021-04-18T13:09:16.306392Z"
    },
    "papermill": {
     "duration": 0.051067,
     "end_time": "2021-04-18T13:09:16.307340",
     "exception": false,
     "start_time": "2021-04-18T13:09:16.256273",
     "status": "completed"
    },
    "tags": []
   },
   "outputs": [],
   "source": [
    "#hide\n",
    "dates = []\n",
    "for i in arr_dates:\n",
    "    if i>='2020-07-01':\n",
    "        dates.append(i)\n",
    "dict = {'states':dates}\n",
    "for i in arr_states:\n",
    "    dict[i] = [0]*len(dates)\n",
    "dft_cases = pd.DataFrame(dict)\n",
    "dft_deaths = pd.DataFrame(dict)\n"
   ]
  },
  {
   "cell_type": "code",
   "execution_count": 6,
   "id": "simplified-peter",
   "metadata": {
    "execution": {
     "iopub.execute_input": "2021-04-18T13:09:16.355283Z",
     "iopub.status.busy": "2021-04-18T13:09:16.354658Z",
     "iopub.status.idle": "2021-04-18T13:09:21.744861Z",
     "shell.execute_reply": "2021-04-18T13:09:21.745416Z"
    },
    "papermill": {
     "duration": 5.417796,
     "end_time": "2021-04-18T13:09:21.745572",
     "exception": false,
     "start_time": "2021-04-18T13:09:16.327776",
     "status": "completed"
    },
    "tags": []
   },
   "outputs": [],
   "source": [
    "#hide\n",
    "for i in range(len(dates)):\n",
    "    df1_deaths = df_deaths1.get_group(dates[i])\n",
    "    for j in range(len(df1_deaths.index)):\n",
    "        if df1_deaths.iloc[j,1] in arr_states:\n",
    "            dft_deaths.loc[i,df1_deaths.iloc[j,1]] = df1_deaths.iloc[j,2]\n",
    "dft_deaths = dft_deaths.set_index('states')"
   ]
  },
  {
   "cell_type": "code",
   "execution_count": 7,
   "id": "geological-welding",
   "metadata": {
    "execution": {
     "iopub.execute_input": "2021-04-18T13:09:21.790304Z",
     "iopub.status.busy": "2021-04-18T13:09:21.789744Z",
     "iopub.status.idle": "2021-04-18T13:09:27.108000Z",
     "shell.execute_reply": "2021-04-18T13:09:27.107285Z"
    },
    "papermill": {
     "duration": 5.343329,
     "end_time": "2021-04-18T13:09:27.108142",
     "exception": false,
     "start_time": "2021-04-18T13:09:21.764813",
     "status": "completed"
    },
    "tags": []
   },
   "outputs": [],
   "source": [
    "#hide\n",
    "for i in range(len(dates)):\n",
    "    df1_cases = df_cases1.get_group(dates[i])\n",
    "    for j in range(len(df1_cases.index)):\n",
    "        if df1_cases.iloc[j,1] in arr_states:\n",
    "            dft_cases.loc[i,df1_cases.iloc[j,1]] = df1_cases.iloc[j,2]\n",
    "dft_cases = dft_cases.set_index('states')"
   ]
  },
  {
   "cell_type": "code",
   "execution_count": 8,
   "id": "binary-ratio",
   "metadata": {
    "execution": {
     "iopub.execute_input": "2021-04-18T13:09:27.157573Z",
     "iopub.status.busy": "2021-04-18T13:09:27.156958Z",
     "iopub.status.idle": "2021-04-18T13:09:27.159352Z",
     "shell.execute_reply": "2021-04-18T13:09:27.158855Z"
    },
    "papermill": {
     "duration": 0.029519,
     "end_time": "2021-04-18T13:09:27.159547",
     "exception": false,
     "start_time": "2021-04-18T13:09:27.130028",
     "status": "completed"
    },
    "tags": []
   },
   "outputs": [],
   "source": [
    "#hide\n",
    "dft_cases = dft_cases.T\n",
    "dft_deaths = dft_deaths.T\n",
    "dt_today = dates[-1]\n",
    "dt_yday = dates[-2]"
   ]
  },
  {
   "cell_type": "code",
   "execution_count": 9,
   "id": "boolean-calculator",
   "metadata": {
    "execution": {
     "iopub.execute_input": "2021-04-18T13:09:27.206803Z",
     "iopub.status.busy": "2021-04-18T13:09:27.206087Z",
     "iopub.status.idle": "2021-04-18T13:09:27.211554Z",
     "shell.execute_reply": "2021-04-18T13:09:27.212379Z"
    },
    "papermill": {
     "duration": 0.032014,
     "end_time": "2021-04-18T13:09:27.212523",
     "exception": false,
     "start_time": "2021-04-18T13:09:27.180509",
     "status": "completed"
    },
    "tags": []
   },
   "outputs": [],
   "source": [
    "#hide\n",
    "dft_cases = dft_cases.reset_index()\n",
    "dft_deaths = dft_deaths.reset_index()\n",
    "dft_cases = dft_cases.rename(columns = {'index':'state'})\n",
    "dft_deaths = dft_deaths.rename(columns = {'index':'state'})"
   ]
  },
  {
   "cell_type": "code",
   "execution_count": 10,
   "id": "invisible-johnston",
   "metadata": {
    "execution": {
     "iopub.execute_input": "2021-04-18T13:09:27.264904Z",
     "iopub.status.busy": "2021-04-18T13:09:27.264101Z",
     "iopub.status.idle": "2021-04-18T13:09:27.267630Z",
     "shell.execute_reply": "2021-04-18T13:09:27.268340Z"
    },
    "papermill": {
     "duration": 0.03686,
     "end_time": "2021-04-18T13:09:27.268487",
     "exception": false,
     "start_time": "2021-04-18T13:09:27.231627",
     "status": "completed"
    },
    "tags": []
   },
   "outputs": [],
   "source": [
    "#hide\n",
    "dfc_cases = dft_cases.groupby('state')[dt_today].sum()\n",
    "dfc_deaths = dft_deaths.groupby('state')[dt_today].sum()\n",
    "dfp_cases = dft_cases.groupby('state')[dt_yday].sum()\n",
    "dfp_deaths = dft_deaths.groupby('state')[dt_yday].sum()"
   ]
  },
  {
   "cell_type": "code",
   "execution_count": 11,
   "id": "measured-great",
   "metadata": {
    "execution": {
     "iopub.execute_input": "2021-04-18T13:09:27.393450Z",
     "iopub.status.busy": "2021-04-18T13:09:27.392441Z",
     "iopub.status.idle": "2021-04-18T13:09:27.413642Z",
     "shell.execute_reply": "2021-04-18T13:09:27.414205Z"
    },
    "papermill": {
     "duration": 0.078105,
     "end_time": "2021-04-18T13:09:27.414362",
     "exception": false,
     "start_time": "2021-04-18T13:09:27.336257",
     "status": "completed"
    },
    "tags": []
   },
   "outputs": [
    {
     "data": {
      "text/html": [
       "<div>\n",
       "<style scoped>\n",
       "    .dataframe tbody tr th:only-of-type {\n",
       "        vertical-align: middle;\n",
       "    }\n",
       "\n",
       "    .dataframe tbody tr th {\n",
       "        vertical-align: top;\n",
       "    }\n",
       "\n",
       "    .dataframe thead th {\n",
       "        text-align: right;\n",
       "    }\n",
       "</style>\n",
       "<table border=\"1\" class=\"dataframe\">\n",
       "  <thead>\n",
       "    <tr style=\"text-align: right;\">\n",
       "      <th></th>\n",
       "      <th>states</th>\n",
       "      <th>Cases</th>\n",
       "      <th>Deaths</th>\n",
       "      <th>PCases</th>\n",
       "      <th>PDeaths</th>\n",
       "    </tr>\n",
       "  </thead>\n",
       "  <tbody>\n",
       "    <tr>\n",
       "      <th>0</th>\n",
       "      <td>Maharashtra</td>\n",
       "      <td>3770707</td>\n",
       "      <td>59970</td>\n",
       "      <td>3770707</td>\n",
       "      <td>59970</td>\n",
       "    </tr>\n",
       "    <tr>\n",
       "      <th>1</th>\n",
       "      <td>Kerala</td>\n",
       "      <td>1221168</td>\n",
       "      <td>4905</td>\n",
       "      <td>1221168</td>\n",
       "      <td>4905</td>\n",
       "    </tr>\n",
       "    <tr>\n",
       "      <th>2</th>\n",
       "      <td>Karnataka</td>\n",
       "      <td>1141998</td>\n",
       "      <td>13270</td>\n",
       "      <td>1141998</td>\n",
       "      <td>13270</td>\n",
       "    </tr>\n",
       "    <tr>\n",
       "      <th>3</th>\n",
       "      <td>Tamil Nadu</td>\n",
       "      <td>980728</td>\n",
       "      <td>13071</td>\n",
       "      <td>980728</td>\n",
       "      <td>13071</td>\n",
       "    </tr>\n",
       "    <tr>\n",
       "      <th>4</th>\n",
       "      <td>Andhra Pradesh</td>\n",
       "      <td>955455</td>\n",
       "      <td>7388</td>\n",
       "      <td>955455</td>\n",
       "      <td>7388</td>\n",
       "    </tr>\n",
       "  </tbody>\n",
       "</table>\n",
       "</div>"
      ],
      "text/plain": [
       "           states    Cases  Deaths   PCases  PDeaths\n",
       "0     Maharashtra  3770707   59970  3770707    59970\n",
       "1          Kerala  1221168    4905  1221168     4905\n",
       "2       Karnataka  1141998   13270  1141998    13270\n",
       "3      Tamil Nadu   980728   13071   980728    13071\n",
       "4  Andhra Pradesh   955455    7388   955455     7388"
      ]
     },
     "execution_count": 11,
     "metadata": {},
     "output_type": "execute_result"
    }
   ],
   "source": [
    "#hide\n",
    "df_table = pd.DataFrame({'states': dfc_cases.index, 'Cases': dfc_cases.values, 'Deaths': dfc_deaths.values, 'PCases': dfp_cases.values, 'PDeaths': dfp_deaths.values}).set_index('states')\n",
    "df_table = df_table.sort_values(by = ['Cases','Deaths'], ascending = [False, False])\n",
    "df_table = df_table.reset_index()\n",
    "df_table.head()"
   ]
  },
  {
   "cell_type": "code",
   "execution_count": 12,
   "id": "found-montreal",
   "metadata": {
    "execution": {
     "iopub.execute_input": "2021-04-18T13:09:27.464919Z",
     "iopub.status.busy": "2021-04-18T13:09:27.464100Z",
     "iopub.status.idle": "2021-04-18T13:09:27.476297Z",
     "shell.execute_reply": "2021-04-18T13:09:27.476871Z"
    },
    "papermill": {
     "duration": 0.036687,
     "end_time": "2021-04-18T13:09:27.477006",
     "exception": false,
     "start_time": "2021-04-18T13:09:27.440319",
     "status": "completed"
    },
    "tags": []
   },
   "outputs": [],
   "source": [
    "#hide\n",
    "for c in 'Cases, Deaths'.split(', '):\n",
    "    df_table[f'{c} (+)'] = (df_table[c] - df_table[f'P{c}']).clip(0)\n",
    "df_table['Fatality Rate'] = (100* df_table['Deaths']/ df_table['Cases']).round(2)"
   ]
  },
  {
   "cell_type": "code",
   "execution_count": 13,
   "id": "minus-savage",
   "metadata": {
    "execution": {
     "iopub.execute_input": "2021-04-18T13:09:27.527086Z",
     "iopub.status.busy": "2021-04-18T13:09:27.526406Z",
     "iopub.status.idle": "2021-04-18T13:09:27.529215Z",
     "shell.execute_reply": "2021-04-18T13:09:27.529914Z"
    },
    "papermill": {
     "duration": 0.033951,
     "end_time": "2021-04-18T13:09:27.530048",
     "exception": false,
     "start_time": "2021-04-18T13:09:27.496097",
     "status": "completed"
    },
    "tags": []
   },
   "outputs": [
    {
     "data": {
      "text/html": [
       "<div>\n",
       "<style scoped>\n",
       "    .dataframe tbody tr th:only-of-type {\n",
       "        vertical-align: middle;\n",
       "    }\n",
       "\n",
       "    .dataframe tbody tr th {\n",
       "        vertical-align: top;\n",
       "    }\n",
       "\n",
       "    .dataframe thead th {\n",
       "        text-align: right;\n",
       "    }\n",
       "</style>\n",
       "<table border=\"1\" class=\"dataframe\">\n",
       "  <thead>\n",
       "    <tr style=\"text-align: right;\">\n",
       "      <th></th>\n",
       "      <th>states</th>\n",
       "      <th>Cases</th>\n",
       "      <th>Deaths</th>\n",
       "      <th>PCases</th>\n",
       "      <th>PDeaths</th>\n",
       "      <th>Cases (+)</th>\n",
       "      <th>Deaths (+)</th>\n",
       "      <th>Fatality Rate</th>\n",
       "    </tr>\n",
       "  </thead>\n",
       "  <tbody>\n",
       "    <tr>\n",
       "      <th>0</th>\n",
       "      <td>Maharashtra</td>\n",
       "      <td>3770707</td>\n",
       "      <td>59970</td>\n",
       "      <td>3770707</td>\n",
       "      <td>59970</td>\n",
       "      <td>0</td>\n",
       "      <td>0</td>\n",
       "      <td>1.59</td>\n",
       "    </tr>\n",
       "    <tr>\n",
       "      <th>1</th>\n",
       "      <td>Kerala</td>\n",
       "      <td>1221168</td>\n",
       "      <td>4905</td>\n",
       "      <td>1221168</td>\n",
       "      <td>4905</td>\n",
       "      <td>0</td>\n",
       "      <td>0</td>\n",
       "      <td>0.40</td>\n",
       "    </tr>\n",
       "    <tr>\n",
       "      <th>2</th>\n",
       "      <td>Karnataka</td>\n",
       "      <td>1141998</td>\n",
       "      <td>13270</td>\n",
       "      <td>1141998</td>\n",
       "      <td>13270</td>\n",
       "      <td>0</td>\n",
       "      <td>0</td>\n",
       "      <td>1.16</td>\n",
       "    </tr>\n",
       "    <tr>\n",
       "      <th>3</th>\n",
       "      <td>Tamil Nadu</td>\n",
       "      <td>980728</td>\n",
       "      <td>13071</td>\n",
       "      <td>980728</td>\n",
       "      <td>13071</td>\n",
       "      <td>0</td>\n",
       "      <td>0</td>\n",
       "      <td>1.33</td>\n",
       "    </tr>\n",
       "    <tr>\n",
       "      <th>4</th>\n",
       "      <td>Andhra Pradesh</td>\n",
       "      <td>955455</td>\n",
       "      <td>7388</td>\n",
       "      <td>955455</td>\n",
       "      <td>7388</td>\n",
       "      <td>0</td>\n",
       "      <td>0</td>\n",
       "      <td>0.77</td>\n",
       "    </tr>\n",
       "  </tbody>\n",
       "</table>\n",
       "</div>"
      ],
      "text/plain": [
       "           states    Cases  Deaths   PCases  PDeaths  Cases (+)  Deaths (+)  \\\n",
       "0     Maharashtra  3770707   59970  3770707    59970          0           0   \n",
       "1          Kerala  1221168    4905  1221168     4905          0           0   \n",
       "2       Karnataka  1141998   13270  1141998    13270          0           0   \n",
       "3      Tamil Nadu   980728   13071   980728    13071          0           0   \n",
       "4  Andhra Pradesh   955455    7388   955455     7388          0           0   \n",
       "\n",
       "   Fatality Rate  \n",
       "0           1.59  \n",
       "1           0.40  \n",
       "2           1.16  \n",
       "3           1.33  \n",
       "4           0.77  "
      ]
     },
     "execution_count": 13,
     "metadata": {},
     "output_type": "execute_result"
    }
   ],
   "source": [
    "#hide\n",
    "df_table.head()"
   ]
  },
  {
   "cell_type": "code",
   "execution_count": 14,
   "id": "false-peter",
   "metadata": {
    "execution": {
     "iopub.execute_input": "2021-04-18T13:09:27.576844Z",
     "iopub.status.busy": "2021-04-18T13:09:27.576245Z",
     "iopub.status.idle": "2021-04-18T13:09:27.599685Z",
     "shell.execute_reply": "2021-04-18T13:09:27.600221Z"
    },
    "papermill": {
     "duration": 0.049839,
     "end_time": "2021-04-18T13:09:27.600392",
     "exception": false,
     "start_time": "2021-04-18T13:09:27.550553",
     "status": "completed"
    },
    "tags": []
   },
   "outputs": [
    {
     "data": {
      "text/plain": [
       "{'updated': '2021-04-18',\n",
       " 'since': '2021-04-17',\n",
       " 'Cases': 14822999,\n",
       " 'PCases': 14782823,\n",
       " 'Deaths': 177321,\n",
       " 'PDeaths': 177173,\n",
       " 'Cases (+)': 40176,\n",
       " 'Deaths (+)': 148}"
      ]
     },
     "execution_count": 14,
     "metadata": {},
     "output_type": "execute_result"
    }
   ],
   "source": [
    "#hide\n",
    "summary = {'updated':dates[-1], 'since':dates[-2]}\n",
    "list_names = ['Cases', 'PCases', 'Deaths', 'PDeaths', 'Cases (+)', 'Deaths (+)']\n",
    "for name in list_names:\n",
    "    summary[name] = df_table.sum()[name]\n",
    "summary"
   ]
  },
  {
   "cell_type": "code",
   "execution_count": 15,
   "id": "packed-viewer",
   "metadata": {
    "execution": {
     "iopub.execute_input": "2021-04-18T13:09:27.646622Z",
     "iopub.status.busy": "2021-04-18T13:09:27.645777Z",
     "iopub.status.idle": "2021-04-18T13:09:27.648754Z",
     "shell.execute_reply": "2021-04-18T13:09:27.648200Z"
    },
    "papermill": {
     "duration": 0.028321,
     "end_time": "2021-04-18T13:09:27.648901",
     "exception": false,
     "start_time": "2021-04-18T13:09:27.620580",
     "status": "completed"
    },
    "tags": []
   },
   "outputs": [],
   "source": [
    "#hide\n",
    "overview = '''\n",
    "<!-- #######  HTML!! #########-->\n",
    "<h1 style=\"color: #5e9ca0; text-align: center;\">India</h1>\n",
    "<p style=\"text-align: center;\">Last update: <strong>{update}</strong></p>\n",
    "<p style=\"text-align: center;\">Confirmed cases:</p>\n",
    "<p style=\"text-align: center;font-size:24px;\">{cases} (<span style=\"color: #ff0000;\">+{new}</span>)</p>\n",
    "<p style=\"text-align: center;\">Confirmed deaths:</p>\n",
    "<p style=\"text-align: center;font-size:24px;\">{deaths} (<span style=\"color: #ff0000;\">+{dnew}</span>)</p>\n",
    "'''"
   ]
  },
  {
   "cell_type": "code",
   "execution_count": 16,
   "id": "phantom-lover",
   "metadata": {
    "execution": {
     "iopub.execute_input": "2021-04-18T13:09:27.697457Z",
     "iopub.status.busy": "2021-04-18T13:09:27.696642Z",
     "iopub.status.idle": "2021-04-18T13:09:27.700145Z",
     "shell.execute_reply": "2021-04-18T13:09:27.699570Z"
    },
    "papermill": {
     "duration": 0.030221,
     "end_time": "2021-04-18T13:09:27.700270",
     "exception": false,
     "start_time": "2021-04-18T13:09:27.670049",
     "status": "completed"
    },
    "tags": []
   },
   "outputs": [
    {
     "data": {
      "text/html": [
       "\n",
       "<!-- #######  HTML!! #########-->\n",
       "<h1 style=\"color: #5e9ca0; text-align: center;\">India</h1>\n",
       "<p style=\"text-align: center;\">Last update: <strong>2021-04-18</strong></p>\n",
       "<p style=\"text-align: center;\">Confirmed cases:</p>\n",
       "<p style=\"text-align: center;font-size:24px;\">14822999 (<span style=\"color: #ff0000;\">+40176</span>)</p>\n",
       "<p style=\"text-align: center;\">Confirmed deaths:</p>\n",
       "<p style=\"text-align: center;font-size:24px;\">177321 (<span style=\"color: #ff0000;\">+148</span>)</p>\n"
      ],
      "text/plain": [
       "<IPython.core.display.HTML object>"
      ]
     },
     "metadata": {},
     "output_type": "display_data"
    }
   ],
   "source": [
    "#hide_input\n",
    "update = summary['updated']\n",
    "cases = summary['Cases']\n",
    "new = summary['Cases (+)']\n",
    "deaths = summary['Deaths']\n",
    "dnew = summary['Deaths (+)']\n",
    "\n",
    "html = HTML(overview.format(update=update, cases=cases,new=new,deaths=deaths,dnew=dnew))\n",
    "\n",
    "display(html)"
   ]
  },
  {
   "cell_type": "code",
   "execution_count": 17,
   "id": "sealed-reset",
   "metadata": {
    "execution": {
     "iopub.execute_input": "2021-04-18T13:09:27.749085Z",
     "iopub.status.busy": "2021-04-18T13:09:27.748348Z",
     "iopub.status.idle": "2021-04-18T13:09:27.756720Z",
     "shell.execute_reply": "2021-04-18T13:09:27.757282Z"
    },
    "papermill": {
     "duration": 0.035657,
     "end_time": "2021-04-18T13:09:27.757402",
     "exception": false,
     "start_time": "2021-04-18T13:09:27.721745",
     "status": "completed"
    },
    "tags": []
   },
   "outputs": [],
   "source": [
    "#hide\n",
    "dt_cols = list(dft_cases.columns[1:])\n",
    "dft_ct_new_cases = dft_cases.groupby('state')[dt_cols].sum().diff(axis=1).fillna(0).astype(int)\n",
    "dft_ct_new_cases.sort_values(by = dates[-1], ascending = False,inplace = True)"
   ]
  },
  {
   "cell_type": "code",
   "execution_count": 18,
   "id": "designed-constant",
   "metadata": {
    "execution": {
     "iopub.execute_input": "2021-04-18T13:09:27.821150Z",
     "iopub.status.busy": "2021-04-18T13:09:27.820488Z",
     "iopub.status.idle": "2021-04-18T13:09:27.823627Z",
     "shell.execute_reply": "2021-04-18T13:09:27.824123Z"
    },
    "papermill": {
     "duration": 0.043989,
     "end_time": "2021-04-18T13:09:27.824258",
     "exception": false,
     "start_time": "2021-04-18T13:09:27.780269",
     "status": "completed"
    },
    "tags": []
   },
   "outputs": [
    {
     "data": {
      "text/html": [
       "<div>\n",
       "<style scoped>\n",
       "    .dataframe tbody tr th:only-of-type {\n",
       "        vertical-align: middle;\n",
       "    }\n",
       "\n",
       "    .dataframe tbody tr th {\n",
       "        vertical-align: top;\n",
       "    }\n",
       "\n",
       "    .dataframe thead th {\n",
       "        text-align: right;\n",
       "    }\n",
       "</style>\n",
       "<table border=\"1\" class=\"dataframe\">\n",
       "  <thead>\n",
       "    <tr style=\"text-align: right;\">\n",
       "      <th>states</th>\n",
       "      <th>2020-07-01</th>\n",
       "      <th>2020-07-02</th>\n",
       "      <th>2020-07-03</th>\n",
       "      <th>2020-07-04</th>\n",
       "      <th>2020-07-05</th>\n",
       "      <th>2020-07-06</th>\n",
       "      <th>2020-07-07</th>\n",
       "      <th>2020-07-08</th>\n",
       "      <th>2020-07-09</th>\n",
       "      <th>2020-07-10</th>\n",
       "      <th>...</th>\n",
       "      <th>2021-04-09</th>\n",
       "      <th>2021-04-10</th>\n",
       "      <th>2021-04-11</th>\n",
       "      <th>2021-04-12</th>\n",
       "      <th>2021-04-13</th>\n",
       "      <th>2021-04-14</th>\n",
       "      <th>2021-04-15</th>\n",
       "      <th>2021-04-16</th>\n",
       "      <th>2021-04-17</th>\n",
       "      <th>2021-04-18</th>\n",
       "    </tr>\n",
       "    <tr>\n",
       "      <th>state</th>\n",
       "      <th></th>\n",
       "      <th></th>\n",
       "      <th></th>\n",
       "      <th></th>\n",
       "      <th></th>\n",
       "      <th></th>\n",
       "      <th></th>\n",
       "      <th></th>\n",
       "      <th></th>\n",
       "      <th></th>\n",
       "      <th></th>\n",
       "      <th></th>\n",
       "      <th></th>\n",
       "      <th></th>\n",
       "      <th></th>\n",
       "      <th></th>\n",
       "      <th></th>\n",
       "      <th></th>\n",
       "      <th></th>\n",
       "      <th></th>\n",
       "      <th></th>\n",
       "    </tr>\n",
       "  </thead>\n",
       "  <tbody>\n",
       "    <tr>\n",
       "      <th>Uttar Pradesh</th>\n",
       "      <td>0</td>\n",
       "      <td>769</td>\n",
       "      <td>972</td>\n",
       "      <td>757</td>\n",
       "      <td>1153</td>\n",
       "      <td>929</td>\n",
       "      <td>1332</td>\n",
       "      <td>1188</td>\n",
       "      <td>1206</td>\n",
       "      <td>1338</td>\n",
       "      <td>...</td>\n",
       "      <td>9587</td>\n",
       "      <td>12748</td>\n",
       "      <td>15276</td>\n",
       "      <td>13604</td>\n",
       "      <td>17963</td>\n",
       "      <td>20439</td>\n",
       "      <td>22339</td>\n",
       "      <td>27360</td>\n",
       "      <td>27334</td>\n",
       "      <td>30566</td>\n",
       "    </tr>\n",
       "    <tr>\n",
       "      <th>Telangana</th>\n",
       "      <td>0</td>\n",
       "      <td>1213</td>\n",
       "      <td>1892</td>\n",
       "      <td>1850</td>\n",
       "      <td>1590</td>\n",
       "      <td>1831</td>\n",
       "      <td>1879</td>\n",
       "      <td>1924</td>\n",
       "      <td>1410</td>\n",
       "      <td>1278</td>\n",
       "      <td>...</td>\n",
       "      <td>2478</td>\n",
       "      <td>2909</td>\n",
       "      <td>3187</td>\n",
       "      <td>2251</td>\n",
       "      <td>3052</td>\n",
       "      <td>2157</td>\n",
       "      <td>3307</td>\n",
       "      <td>3840</td>\n",
       "      <td>4446</td>\n",
       "      <td>5093</td>\n",
       "    </tr>\n",
       "    <tr>\n",
       "      <th>Odisha</th>\n",
       "      <td>0</td>\n",
       "      <td>229</td>\n",
       "      <td>561</td>\n",
       "      <td>495</td>\n",
       "      <td>469</td>\n",
       "      <td>456</td>\n",
       "      <td>571</td>\n",
       "      <td>527</td>\n",
       "      <td>577</td>\n",
       "      <td>755</td>\n",
       "      <td>...</td>\n",
       "      <td>1282</td>\n",
       "      <td>1374</td>\n",
       "      <td>1379</td>\n",
       "      <td>1741</td>\n",
       "      <td>1784</td>\n",
       "      <td>2267</td>\n",
       "      <td>2989</td>\n",
       "      <td>3108</td>\n",
       "      <td>3144</td>\n",
       "      <td>3664</td>\n",
       "    </tr>\n",
       "    <tr>\n",
       "      <th>Puducherry</th>\n",
       "      <td>0</td>\n",
       "      <td>63</td>\n",
       "      <td>22</td>\n",
       "      <td>80</td>\n",
       "      <td>42</td>\n",
       "      <td>65</td>\n",
       "      <td>30</td>\n",
       "      <td>110</td>\n",
       "      <td>49</td>\n",
       "      <td>72</td>\n",
       "      <td>...</td>\n",
       "      <td>223</td>\n",
       "      <td>272</td>\n",
       "      <td>306</td>\n",
       "      <td>512</td>\n",
       "      <td>418</td>\n",
       "      <td>476</td>\n",
       "      <td>413</td>\n",
       "      <td>531</td>\n",
       "      <td>715</td>\n",
       "      <td>663</td>\n",
       "    </tr>\n",
       "    <tr>\n",
       "      <th>Meghalaya</th>\n",
       "      <td>0</td>\n",
       "      <td>3</td>\n",
       "      <td>4</td>\n",
       "      <td>8</td>\n",
       "      <td>2</td>\n",
       "      <td>16</td>\n",
       "      <td>6</td>\n",
       "      <td>6</td>\n",
       "      <td>13</td>\n",
       "      <td>73</td>\n",
       "      <td>...</td>\n",
       "      <td>42</td>\n",
       "      <td>39</td>\n",
       "      <td>28</td>\n",
       "      <td>26</td>\n",
       "      <td>87</td>\n",
       "      <td>98</td>\n",
       "      <td>97</td>\n",
       "      <td>121</td>\n",
       "      <td>95</td>\n",
       "      <td>71</td>\n",
       "    </tr>\n",
       "  </tbody>\n",
       "</table>\n",
       "<p>5 rows × 292 columns</p>\n",
       "</div>"
      ],
      "text/plain": [
       "states         2020-07-01  2020-07-02  2020-07-03  2020-07-04  2020-07-05  \\\n",
       "state                                                                       \n",
       "Uttar Pradesh           0         769         972         757        1153   \n",
       "Telangana               0        1213        1892        1850        1590   \n",
       "Odisha                  0         229         561         495         469   \n",
       "Puducherry              0          63          22          80          42   \n",
       "Meghalaya               0           3           4           8           2   \n",
       "\n",
       "states         2020-07-06  2020-07-07  2020-07-08  2020-07-09  2020-07-10  \\\n",
       "state                                                                       \n",
       "Uttar Pradesh         929        1332        1188        1206        1338   \n",
       "Telangana            1831        1879        1924        1410        1278   \n",
       "Odisha                456         571         527         577         755   \n",
       "Puducherry             65          30         110          49          72   \n",
       "Meghalaya              16           6           6          13          73   \n",
       "\n",
       "states         ...  2021-04-09  2021-04-10  2021-04-11  2021-04-12  \\\n",
       "state          ...                                                   \n",
       "Uttar Pradesh  ...        9587       12748       15276       13604   \n",
       "Telangana      ...        2478        2909        3187        2251   \n",
       "Odisha         ...        1282        1374        1379        1741   \n",
       "Puducherry     ...         223         272         306         512   \n",
       "Meghalaya      ...          42          39          28          26   \n",
       "\n",
       "states         2021-04-13  2021-04-14  2021-04-15  2021-04-16  2021-04-17  \\\n",
       "state                                                                       \n",
       "Uttar Pradesh       17963       20439       22339       27360       27334   \n",
       "Telangana            3052        2157        3307        3840        4446   \n",
       "Odisha               1784        2267        2989        3108        3144   \n",
       "Puducherry            418         476         413         531         715   \n",
       "Meghalaya              87          98          97         121          95   \n",
       "\n",
       "states         2021-04-18  \n",
       "state                      \n",
       "Uttar Pradesh       30566  \n",
       "Telangana            5093  \n",
       "Odisha               3664  \n",
       "Puducherry            663  \n",
       "Meghalaya              71  \n",
       "\n",
       "[5 rows x 292 columns]"
      ]
     },
     "execution_count": 18,
     "metadata": {},
     "output_type": "execute_result"
    }
   ],
   "source": [
    "#hide\n",
    "dft_ct_new_cases.head()"
   ]
  },
  {
   "cell_type": "code",
   "execution_count": 19,
   "id": "responsible-nightlife",
   "metadata": {
    "execution": {
     "iopub.execute_input": "2021-04-18T13:09:27.874391Z",
     "iopub.status.busy": "2021-04-18T13:09:27.873552Z",
     "iopub.status.idle": "2021-04-18T13:09:41.924559Z",
     "shell.execute_reply": "2021-04-18T13:09:41.923960Z"
    },
    "papermill": {
     "duration": 14.078168,
     "end_time": "2021-04-18T13:09:41.924696",
     "exception": false,
     "start_time": "2021-04-18T13:09:27.846528",
     "status": "completed"
    },
    "tags": []
   },
   "outputs": [
    {
     "data": {
      "image/png": "[encoded data removed]",
      "text/plain": [
       "<Figure size 1296x2016 with 11 Axes>"
      ]
     },
     "metadata": {
      "needs_background": "light"
     },
     "output_type": "display_data"
    }
   ],
   "source": [
    "#hide_input\n",
    "df = dft_ct_new_cases.copy()\n",
    "df.loc['Total'] = df.sum()\n",
    "n = 5\n",
    "ax = []\n",
    "fig = plt.figure(figsize = (18,28))\n",
    "gs = fig.add_gridspec(n+2, 5)\n",
    "# gs = fig.add_gridspec(2, 3)\n",
    "ax1 = fig.add_subplot(gs[0, :])\n",
    "ef = df.loc['Total'].rename_axis('date').reset_index()\n",
    "ef['date'] = ef['date'].astype('datetime64[ns]')\n",
    "ax1.bar(ef.date,ef.Total,alpha=0.3,color='#007acc')\n",
    "ax1.plot(ef.date,ef.Total , marker=\"o\", color='#007acc')\n",
    "ax1.xaxis.set_major_locator(mdates.WeekdayLocator())\n",
    "ax1.xaxis.set_major_formatter(mdates.DateFormatter('%b %d'))\n",
    "ax1.text(0.02, 0.5,'India daily case count', transform = ax1.transAxes, fontsize=25);\n",
    "ax1.spines['right'].set_visible(False)\n",
    "ax1.spines['top'].set_visible(False)\n",
    "\n",
    "ax2 = fig.add_subplot(gs[1,0])\n",
    "ef = df.loc['Maharashtra'].rename_axis('date').reset_index()\n",
    "ef['date'] = ef['date'].astype('datetime64[ns]')\n",
    "\n",
    "ax2.bar(ef.date, ef.Maharashtra,color = '#007acc',alpha=0.5)\n",
    "ax2.xaxis.set_major_locator(mdates.WeekdayLocator())\n",
    "ax2.xaxis.set_major_formatter(mdates.DateFormatter('%b %d'))\n",
    "ax2.set_xticks(ax2.get_xticks()[::3])\n",
    "maxyval = ef.Maharashtra.max()\n",
    "ax2.set_ylim([0,maxyval])\n",
    "ax2.text(0.05, 0.9,'Maharashtra', transform = ax2.transAxes, fontsize=20);\n",
    "ax2.spines['right'].set_visible(False)\n",
    "ax2.spines['top'].set_visible(False)\n",
    "\n",
    "\n",
    "ax3 = fig.add_subplot(gs[1,1])\n",
    "ef = df.loc['Tamil Nadu'].rename_axis('date').reset_index()\n",
    "ef['date'] = ef['date'].astype('datetime64[ns]')\n",
    "ax3.bar(ef.date, ef['Tamil Nadu'],color = '#007acc',alpha=0.5,)\n",
    "ax3.xaxis.set_major_locator(mdates.WeekdayLocator())\n",
    "ax3.xaxis.set_major_formatter(mdates.DateFormatter('%b %d'))\n",
    "ax3.set_xticks(ax3.get_xticks()[::3])\n",
    "ax3.text(0.05, 0.9,'Tamil Nadu', transform = ax3.transAxes, fontsize=20);\n",
    "ax3.spines['right'].set_visible(False)\n",
    "ax3.spines['top'].set_visible(False)\n",
    "\n",
    "ax5 = fig.add_subplot(gs[1,3])\n",
    "ef = df.loc['Telangana'].rename_axis('date').reset_index()\n",
    "ef['date'] = ef['date'].astype('datetime64[ns]')\n",
    "ax5.bar(ef.date, ef['Telangana'],color = '#007acc',alpha=0.5,)\n",
    "ax5.xaxis.set_major_locator(mdates.WeekdayLocator())\n",
    "ax5.xaxis.set_major_formatter(mdates.DateFormatter('%b %d'))\n",
    "ax5.set_xticks(ax5.get_xticks()[::3])\n",
    "ax5.text(0.05, 0.9,'Telangana', transform = ax5.transAxes, fontsize=20);\n",
    "ax5.spines['right'].set_visible(False)\n",
    "ax5.spines['top'].set_visible(False)\n",
    "\n",
    "ax6 = fig.add_subplot(gs[1,4])\n",
    "ef = df.loc['Andhra Pradesh'].rename_axis('date').reset_index()\n",
    "ef['date'] = ef['date'].astype('datetime64[ns]')\n",
    "ax6.bar(ef.date, ef['Andhra Pradesh'],color = '#007acc',alpha=0.5,)\n",
    "ax6.xaxis.set_major_locator(mdates.WeekdayLocator())\n",
    "ax6.xaxis.set_major_formatter(mdates.DateFormatter('%b %d'))\n",
    "ax6.set_xticks(ax6.get_xticks()[::3])\n",
    "ax6.text(0.05, 1,'Andhra Pradesh', transform = ax6.transAxes, fontsize=20);\n",
    "ax6.spines['right'].set_visible(False)\n",
    "ax6.spines['top'].set_visible(False)\n",
    "\n",
    "ax4 = fig.add_subplot(gs[1,2])\n",
    "ef = df.loc['Delhi'].rename_axis('date').reset_index()\n",
    "ef['date'] = ef['date'].astype('datetime64[ns]')\n",
    "ax4.bar(ef.date, ef.Delhi,color = '#007acc',alpha=0.5)\n",
    "ax4.set_xticks([])\n",
    "ax4.xaxis.set_major_locator(mdates.WeekdayLocator())\n",
    "ax4.xaxis.set_major_formatter(mdates.DateFormatter('%b %d'))\n",
    "ax4.set_xticks(ax4.get_xticks()[::3])\n",
    "ax4.spines['right'].set_visible(False)\n",
    "ax4.spines['top'].set_visible(False)\n",
    "\n",
    "ax4.text(0.05, 1,'Delhi', transform = ax4.transAxes, fontsize=20)\n",
    "\n",
    "for i in range(n):\n",
    "    \n",
    "    ax.append(fig.add_subplot(gs[i+2,:]))\n",
    "    ef = df.iloc[i+3].rename_axis('date').reset_index()\n",
    "    ef['date'] = ef['date'].astype('datetime64[ns]')\n",
    "    ax[i].bar(ef.date,ef.iloc[:,-1],color = '#007acc',alpha=0.3)\n",
    "    ax[i].plot(ef.date,ef.iloc[:,-1],marker='o',color='#007acc')\n",
    "    ax[i].text(0.02,0.5,f'{ef.columns.values[-1]}',transform = ax[i].transAxes, fontsize = 20);\n",
    "    ax[i].xaxis.set_major_locator(mdates.WeekdayLocator())\n",
    "    ax[i].xaxis.set_major_formatter(mdates.DateFormatter('%b %d'))\n",
    "    ax[i].set_ylim([0,7000])\n",
    "    ax[i].spines['right'].set_visible(False)\n",
    "    ax[i].spines['top'].set_visible(False)\n",
    "plt.tight_layout()\n"
   ]
  },
  {
   "cell_type": "code",
   "execution_count": 20,
   "id": "dress-forge",
   "metadata": {
    "execution": {
     "iopub.execute_input": "2021-04-18T13:09:41.988333Z",
     "iopub.status.busy": "2021-04-18T13:09:41.987561Z",
     "iopub.status.idle": "2021-04-18T13:09:41.992123Z",
     "shell.execute_reply": "2021-04-18T13:09:41.991594Z"
    },
    "papermill": {
     "duration": 0.040343,
     "end_time": "2021-04-18T13:09:41.992271",
     "exception": false,
     "start_time": "2021-04-18T13:09:41.951928",
     "status": "completed"
    },
    "tags": []
   },
   "outputs": [
    {
     "name": "stdout",
     "output_type": "stream",
     "text": [
      "                                   states    Cases  Deaths   PCases  PDeaths  Cases (+)  Deaths (+)  Fatality Rate\n",
      "                              Maharashtra  3770707   59970  3770707    59970          0           0           1.59\n",
      "                                   Kerala  1221168    4905  1221168     4905          0           0           0.40\n",
      "                                Karnataka  1141998   13270  1141998    13270          0           0           1.16\n",
      "                               Tamil Nadu   980728   13071   980728    13071          0           0           1.33\n",
      "                           Andhra Pradesh   955455    7388   955455     7388          0           0           0.77\n",
      "                            Uttar Pradesh   851620    9830   821054     9703      30566         127           1.15\n",
      "                                    Delhi   827998   11960   827998    11960          0           0           1.44\n",
      "                              West Bengal   651508   10540   651508    10540          0           0           1.62\n",
      "                             Chhattisgarh   532495    5738   532495     5738          0           0           1.08\n",
      "                                Rajasthan   404355    3109   404355     3109          0           0           0.77\n",
      "                           Madhya Pradesh   395832    4491   395832     4491          0           0           1.13\n",
      "                                  Gujarat   394229    5267   394229     5267          0           0           1.34\n",
      "                                   Odisha   368258    1997   364594     1995       3664           2           0.54\n",
      "                                Telangana   351424    1824   346331     1809       5093          15           0.52\n",
      "                                  Haryana   349794    3386   349794     3386          0           0           0.97\n",
      "                                    Bihar   315427    1722   315427     1722          0           0           0.55\n",
      "                                   Punjab   295138    7834   295138     7834          0           0           2.65\n",
      "                                    Assam   223816    1129   223816     1129          0           0           0.50\n",
      "                                Jharkhand   158953    1406   158953     1406          0           0           0.88\n",
      "                        Jammu and Kashmir   145166    2051   145166     2051          0           0           1.41\n",
      "                              Uttarakhand   121403    1856   121403     1856          0           0           1.53\n",
      "                         Himachal Pradesh    75587    1167    75587     1167          0           0           1.54\n",
      "                                      Goa    66261     872    66261      872          0           0           1.32\n",
      "                               Puducherry    47771     708    47108      705        663           3           1.48\n",
      "                                  Tripura    33999     391    33930      391         69           0           1.15\n",
      "                               Chandigarh    33309     410    33309      410          0           0           1.23\n",
      "                                  Manipur    29649     376    29649      376          0           0           1.27\n",
      "                        Arunachal Pradesh    16967      56    16967       56          0           0           0.33\n",
      "                                Meghalaya    14869     153    14798      152         71           1           1.03\n",
      "                                 Nagaland    12536      94    12536       94          0           0           0.75\n",
      "                                   Ladakh    12071     133    12071      133          0           0           1.10\n",
      "                                   Sikkim     6591     136     6591      136          0           0           2.06\n",
      "              Andaman and Nicobar Islands     5331      64     5331       64          0           0           1.20\n",
      "                                  Mizoram     4859      12     4809       12         50           0           0.25\n",
      " Dadra and Nagar Haveli and Daman and Diu     4676       4     4676        4          0           0           0.09\n",
      "                              Lakshadweep     1051       1     1051        1          0           0           0.10\n"
     ]
    }
   ],
   "source": [
    "#hide_input\n",
    "print(df_table.to_string(index=False))"
   ]
  },
  {
   "cell_type": "code",
   "execution_count": null,
   "id": "quantitative-legend",
   "metadata": {
    "papermill": {
     "duration": 0.027312,
     "end_time": "2021-04-18T13:09:42.047717",
     "exception": false,
     "start_time": "2021-04-18T13:09:42.020405",
     "status": "completed"
    },
    "tags": []
   },
   "outputs": [],
   "source": []
  },
  {
   "cell_type": "code",
   "execution_count": null,
   "id": "distant-acoustic",
   "metadata": {
    "papermill": {
     "duration": 0.027647,
     "end_time": "2021-04-18T13:09:42.103684",
     "exception": false,
     "start_time": "2021-04-18T13:09:42.076037",
     "status": "completed"
    },
    "tags": []
   },
   "outputs": [],
   "source": []
  }
 ],
 "metadata": {
  "kernelspec": {
   "display_name": "Python 3",
   "language": "python",
   "name": "python3"
  },
  "language_info": {
   "codemirror_mode": {
    "name": "ipython",
    "version": 3
   },
   "file_extension": ".py",
   "mimetype": "text/x-python",
   "name": "python",
   "nbconvert_exporter": "python",
   "pygments_lexer": "ipython3",
   "version": "3.6.13"
  },
  "papermill": {
   "duration": 28.74685,
   "end_time": "2021-04-18T13:09:42.739435",
   "environment_variables": {},
   "exception": null,
   "input_path": "latest.ipynb",
   "output_path": "latest.ipynb",
   "parameters": {},
   "start_time": "2021-04-18T13:09:13.992585",
   "version": "2.1.2"
  }
 },
 "nbformat": 4,
 "nbformat_minor": 5
}