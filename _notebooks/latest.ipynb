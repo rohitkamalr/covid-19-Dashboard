{
 "cells": [
  {
   "cell_type": "markdown",
   "metadata": {
    "papermill": {
     "duration": 0.021103,
     "end_time": "2020-10-14T11:52:25.279670",
     "exception": false,
     "start_time": "2020-10-14T11:52:25.258567",
     "status": "completed"
    },
    "tags": []
   },
   "source": [
    "# Latest COVID-19 India Matplotlib Overview"
   ]
  },
  {
   "cell_type": "code",
   "execution_count": 1,
   "metadata": {
    "execution": {
     "iopub.execute_input": "2020-10-14T11:52:25.320493Z",
     "iopub.status.busy": "2020-10-14T11:52:25.319809Z",
     "iopub.status.idle": "2020-10-14T11:52:25.993802Z",
     "shell.execute_reply": "2020-10-14T11:52:25.993159Z"
    },
    "papermill": {
     "duration": 0.697487,
     "end_time": "2020-10-14T11:52:25.993983",
     "exception": false,
     "start_time": "2020-10-14T11:52:25.296496",
     "status": "completed"
    },
    "tags": []
   },
   "outputs": [],
   "source": [
    "#hide\n",
    "import pandas as pd\n",
    "import numpy as np\n",
    "import requests\n",
    "import json\n",
    "import matplotlib.pyplot as plt\n",
    "import matplotlib.dates as mdates\n",
    "import matplotlib as mpl\n",
    "from IPython.core.display import display,HTML\n",
    "%matplotlib inline\n",
    "from datetime import date"
   ]
  },
  {
   "cell_type": "code",
   "execution_count": 2,
   "metadata": {
    "execution": {
     "iopub.execute_input": "2020-10-14T11:52:26.040654Z",
     "iopub.status.busy": "2020-10-14T11:52:26.039895Z",
     "iopub.status.idle": "2020-10-14T11:52:26.342421Z",
     "shell.execute_reply": "2020-10-14T11:52:26.341862Z"
    },
    "papermill": {
     "duration": 0.330259,
     "end_time": "2020-10-14T11:52:26.342571",
     "exception": false,
     "start_time": "2020-10-14T11:52:26.012312",
     "status": "completed"
    },
    "tags": []
   },
   "outputs": [],
   "source": [
    "#hide\n",
    "df  = pd.read_csv('https://api.covid19india.org/csv/latest/states.csv')\n",
    "df = df[['Date','State','Confirmed','Deceased']]\n",
    "df = df.rename(columns={'Confirmed':'Cases', \"Deceased\":'Deaths'})\n",
    "df_cases = df[[\"Date\",'State','Cases']]\n",
    "df_deaths = df[['Date','State','Deaths']]\n",
    "df_cases1 = df_cases.groupby('Date')\n",
    "df_deaths1= df_deaths.groupby('Date')"
   ]
  },
  {
   "cell_type": "code",
   "execution_count": 3,
   "metadata": {
    "execution": {
     "iopub.execute_input": "2020-10-14T11:52:26.381393Z",
     "iopub.status.busy": "2020-10-14T11:52:26.380754Z",
     "iopub.status.idle": "2020-10-14T11:52:26.402316Z",
     "shell.execute_reply": "2020-10-14T11:52:26.402815Z"
    },
    "papermill": {
     "duration": 0.043809,
     "end_time": "2020-10-14T11:52:26.402971",
     "exception": false,
     "start_time": "2020-10-14T11:52:26.359162",
     "status": "completed"
    },
    "tags": []
   },
   "outputs": [],
   "source": [
    "#hide\n",
    "df_snap = pd.read_csv('data/SnapshotCases-28-July.csv')\n",
    "arr_states = df_snap['states'].unique()\n",
    "arr_dates = df['Date'].unique()\n",
    "df_snap = df_snap.set_index('states')"
   ]
  },
  {
   "cell_type": "code",
   "execution_count": 4,
   "metadata": {
    "execution": {
     "iopub.execute_input": "2020-10-14T11:52:26.446039Z",
     "iopub.status.busy": "2020-10-14T11:52:26.445195Z",
     "iopub.status.idle": "2020-10-14T11:52:26.450592Z",
     "shell.execute_reply": "2020-10-14T11:52:26.449801Z"
    },
    "papermill": {
     "duration": 0.031178,
     "end_time": "2020-10-14T11:52:26.450747",
     "exception": false,
     "start_time": "2020-10-14T11:52:26.419569",
     "status": "completed"
    },
    "tags": []
   },
   "outputs": [
    {
     "data": {
      "text/plain": [
       "array(['Andaman and Nicobar Islands', 'Andhra Pradesh',\n",
       "       'Arunachal Pradesh', 'Assam', 'Bihar', 'Chandigarh',\n",
       "       'Dadra and Nagar Haveli and Daman and Diu', 'Delhi', 'Goa',\n",
       "       'Gujarat', 'Haryana', 'Himachal Pradesh', 'Jammu and Kashmir',\n",
       "       'Jharkhand', 'Karnataka', 'Kerala', 'Lakshadweep',\n",
       "       'Madhya Pradesh', 'Maharashtra', 'Manipur', 'Meghalaya', 'Mizoram',\n",
       "       'Nagaland', 'Odisha', 'Puducherry', 'Punjab', 'Rajasthan',\n",
       "       'Sikkim', 'Tamil Nadu', 'Telangana', 'Tripura', 'Uttar Pradesh',\n",
       "       'West Bengal', 'Chhattisgarh', 'Ladakh', 'Uttarakhand'],\n",
       "      dtype=object)"
      ]
     },
     "execution_count": 4,
     "metadata": {},
     "output_type": "execute_result"
    }
   ],
   "source": [
    "#hide\n",
    "arr_states[-9] = 'Puducherry'\n",
    "arr_states[-10] = 'Odisha'\n",
    "arr_states[6] = 'Dadra and Nagar Haveli and Daman and Diu'\n",
    "arr_states = np.append(arr_states,np.array(['Chhattisgarh','Ladakh','Uttarakhand']))\n",
    "arr_states"
   ]
  },
  {
   "cell_type": "code",
   "execution_count": 5,
   "metadata": {
    "execution": {
     "iopub.execute_input": "2020-10-14T11:52:26.506962Z",
     "iopub.status.busy": "2020-10-14T11:52:26.506191Z",
     "iopub.status.idle": "2020-10-14T11:52:26.514951Z",
     "shell.execute_reply": "2020-10-14T11:52:26.514336Z"
    },
    "papermill": {
     "duration": 0.043,
     "end_time": "2020-10-14T11:52:26.515148",
     "exception": false,
     "start_time": "2020-10-14T11:52:26.472148",
     "status": "completed"
    },
    "tags": []
   },
   "outputs": [],
   "source": [
    "#hide\n",
    "dates = []\n",
    "for i in arr_dates:\n",
    "    if i>='2020-07-01':\n",
    "        dates.append(i)\n",
    "dict = {'states':dates}\n",
    "for i in arr_states:\n",
    "    dict[i] = [0]*len(dates)\n",
    "dft_cases = pd.DataFrame(dict)\n",
    "dft_deaths = pd.DataFrame(dict)\n"
   ]
  },
  {
   "cell_type": "code",
   "execution_count": 6,
   "metadata": {
    "execution": {
     "iopub.execute_input": "2020-10-14T11:52:26.562313Z",
     "iopub.status.busy": "2020-10-14T11:52:26.561589Z",
     "iopub.status.idle": "2020-10-14T11:52:28.627254Z",
     "shell.execute_reply": "2020-10-14T11:52:28.626683Z"
    },
    "papermill": {
     "duration": 2.091742,
     "end_time": "2020-10-14T11:52:28.627406",
     "exception": false,
     "start_time": "2020-10-14T11:52:26.535664",
     "status": "completed"
    },
    "tags": []
   },
   "outputs": [],
   "source": [
    "#hide\n",
    "for i in range(len(dates)):\n",
    "    df1_deaths = df_deaths1.get_group(dates[i])\n",
    "    for j in range(len(df1_deaths.index)):\n",
    "        if df1_deaths.iloc[j,1] in arr_states:\n",
    "            dft_deaths.loc[i,df1_deaths.iloc[j,1]] = df1_deaths.iloc[j,2]\n",
    "dft_deaths = dft_deaths.set_index('states')"
   ]
  },
  {
   "cell_type": "code",
   "execution_count": 7,
   "metadata": {
    "execution": {
     "iopub.execute_input": "2020-10-14T11:52:28.826366Z",
     "iopub.status.busy": "2020-10-14T11:52:28.825699Z",
     "iopub.status.idle": "2020-10-14T11:52:30.782076Z",
     "shell.execute_reply": "2020-10-14T11:52:30.781453Z"
    },
    "papermill": {
     "duration": 2.13669,
     "end_time": "2020-10-14T11:52:30.782242",
     "exception": false,
     "start_time": "2020-10-14T11:52:28.645552",
     "status": "completed"
    },
    "tags": []
   },
   "outputs": [],
   "source": [
    "#hide\n",
    "for i in range(len(dates)):\n",
    "    df1_cases = df_cases1.get_group(dates[i])\n",
    "    for j in range(len(df1_cases.index)):\n",
    "        if df1_cases.iloc[j,1] in arr_states:\n",
    "            dft_cases.loc[i,df1_cases.iloc[j,1]] = df1_cases.iloc[j,2]\n",
    "dft_cases = dft_cases.set_index('states')"
   ]
  },
  {
   "cell_type": "code",
   "execution_count": 8,
   "metadata": {
    "execution": {
     "iopub.execute_input": "2020-10-14T11:52:30.826608Z",
     "iopub.status.busy": "2020-10-14T11:52:30.825971Z",
     "iopub.status.idle": "2020-10-14T11:52:30.829684Z",
     "shell.execute_reply": "2020-10-14T11:52:30.830191Z"
    },
    "papermill": {
     "duration": 0.028806,
     "end_time": "2020-10-14T11:52:30.830342",
     "exception": false,
     "start_time": "2020-10-14T11:52:30.801536",
     "status": "completed"
    },
    "tags": []
   },
   "outputs": [],
   "source": [
    "#hide\n",
    "dft_cases = dft_cases.T\n",
    "dft_deaths = dft_deaths.T\n",
    "dt_today = dates[-1]\n",
    "dt_yday = dates[-2]"
   ]
  },
  {
   "cell_type": "code",
   "execution_count": 9,
   "metadata": {
    "execution": {
     "iopub.execute_input": "2020-10-14T11:52:30.875060Z",
     "iopub.status.busy": "2020-10-14T11:52:30.874350Z",
     "iopub.status.idle": "2020-10-14T11:52:30.879553Z",
     "shell.execute_reply": "2020-10-14T11:52:30.881373Z"
    },
    "papermill": {
     "duration": 0.032323,
     "end_time": "2020-10-14T11:52:30.881525",
     "exception": false,
     "start_time": "2020-10-14T11:52:30.849202",
     "status": "completed"
    },
    "tags": []
   },
   "outputs": [],
   "source": [
    "#hide\n",
    "dft_cases = dft_cases.reset_index()\n",
    "dft_deaths = dft_deaths.reset_index()\n",
    "dft_cases = dft_cases.rename(columns = {'index':'state'})\n",
    "dft_deaths = dft_deaths.rename(columns = {'index':'state'})"
   ]
  },
  {
   "cell_type": "code",
   "execution_count": 10,
   "metadata": {
    "execution": {
     "iopub.execute_input": "2020-10-14T11:52:30.931175Z",
     "iopub.status.busy": "2020-10-14T11:52:30.930522Z",
     "iopub.status.idle": "2020-10-14T11:52:30.932940Z",
     "shell.execute_reply": "2020-10-14T11:52:30.932353Z"
    },
    "papermill": {
     "duration": 0.03359,
     "end_time": "2020-10-14T11:52:30.933073",
     "exception": false,
     "start_time": "2020-10-14T11:52:30.899483",
     "status": "completed"
    },
    "tags": []
   },
   "outputs": [],
   "source": [
    "#hide\n",
    "dfc_cases = dft_cases.groupby('state')[dt_today].sum()\n",
    "dfc_deaths = dft_deaths.groupby('state')[dt_today].sum()\n",
    "dfp_cases = dft_cases.groupby('state')[dt_yday].sum()\n",
    "dfp_deaths = dft_deaths.groupby('state')[dt_yday].sum()"
   ]
  },
  {
   "cell_type": "code",
   "execution_count": 11,
   "metadata": {
    "execution": {
     "iopub.execute_input": "2020-10-14T11:52:30.975196Z",
     "iopub.status.busy": "2020-10-14T11:52:30.973496Z",
     "iopub.status.idle": "2020-10-14T11:52:30.989504Z",
     "shell.execute_reply": "2020-10-14T11:52:30.988849Z"
    },
    "papermill": {
     "duration": 0.03964,
     "end_time": "2020-10-14T11:52:30.989646",
     "exception": false,
     "start_time": "2020-10-14T11:52:30.950006",
     "status": "completed"
    },
    "tags": []
   },
   "outputs": [
    {
     "data": {
      "text/html": [
       "<div>\n",
       "<style scoped>\n",
       "    .dataframe tbody tr th:only-of-type {\n",
       "        vertical-align: middle;\n",
       "    }\n",
       "\n",
       "    .dataframe tbody tr th {\n",
       "        vertical-align: top;\n",
       "    }\n",
       "\n",
       "    .dataframe thead th {\n",
       "        text-align: right;\n",
       "    }\n",
       "</style>\n",
       "<table border=\"1\" class=\"dataframe\">\n",
       "  <thead>\n",
       "    <tr style=\"text-align: right;\">\n",
       "      <th></th>\n",
       "      <th>states</th>\n",
       "      <th>Cases</th>\n",
       "      <th>Deaths</th>\n",
       "      <th>PCases</th>\n",
       "      <th>PDeaths</th>\n",
       "    </tr>\n",
       "  </thead>\n",
       "  <tbody>\n",
       "    <tr>\n",
       "      <th>0</th>\n",
       "      <td>Maharashtra</td>\n",
       "      <td>1543837</td>\n",
       "      <td>40701</td>\n",
       "      <td>1543837</td>\n",
       "      <td>40701</td>\n",
       "    </tr>\n",
       "    <tr>\n",
       "      <th>1</th>\n",
       "      <td>Andhra Pradesh</td>\n",
       "      <td>763573</td>\n",
       "      <td>6291</td>\n",
       "      <td>763573</td>\n",
       "      <td>6291</td>\n",
       "    </tr>\n",
       "    <tr>\n",
       "      <th>2</th>\n",
       "      <td>Karnataka</td>\n",
       "      <td>726106</td>\n",
       "      <td>10123</td>\n",
       "      <td>726106</td>\n",
       "      <td>10123</td>\n",
       "    </tr>\n",
       "    <tr>\n",
       "      <th>3</th>\n",
       "      <td>Tamil Nadu</td>\n",
       "      <td>665930</td>\n",
       "      <td>10371</td>\n",
       "      <td>665930</td>\n",
       "      <td>10371</td>\n",
       "    </tr>\n",
       "    <tr>\n",
       "      <th>4</th>\n",
       "      <td>Uttar Pradesh</td>\n",
       "      <td>444622</td>\n",
       "      <td>6507</td>\n",
       "      <td>442118</td>\n",
       "      <td>6466</td>\n",
       "    </tr>\n",
       "  </tbody>\n",
       "</table>\n",
       "</div>"
      ],
      "text/plain": [
       "           states    Cases  Deaths   PCases  PDeaths\n",
       "0     Maharashtra  1543837   40701  1543837    40701\n",
       "1  Andhra Pradesh   763573    6291   763573     6291\n",
       "2       Karnataka   726106   10123   726106    10123\n",
       "3      Tamil Nadu   665930   10371   665930    10371\n",
       "4   Uttar Pradesh   444622    6507   442118     6466"
      ]
     },
     "execution_count": 11,
     "metadata": {},
     "output_type": "execute_result"
    }
   ],
   "source": [
    "#hide\n",
    "df_table = pd.DataFrame({'states': dfc_cases.index, 'Cases': dfc_cases.values, 'Deaths': dfc_deaths.values, 'PCases': dfp_cases.values, 'PDeaths': dfp_deaths.values}).set_index('states')\n",
    "df_table = df_table.sort_values(by = ['Cases','Deaths'], ascending = [False, False])\n",
    "df_table = df_table.reset_index()\n",
    "df_table.head()"
   ]
  },
  {
   "cell_type": "code",
   "execution_count": 12,
   "metadata": {
    "execution": {
     "iopub.execute_input": "2020-10-14T11:52:31.032485Z",
     "iopub.status.busy": "2020-10-14T11:52:31.031816Z",
     "iopub.status.idle": "2020-10-14T11:52:31.042148Z",
     "shell.execute_reply": "2020-10-14T11:52:31.041508Z"
    },
    "papermill": {
     "duration": 0.035099,
     "end_time": "2020-10-14T11:52:31.042285",
     "exception": false,
     "start_time": "2020-10-14T11:52:31.007186",
     "status": "completed"
    },
    "tags": []
   },
   "outputs": [],
   "source": [
    "#hide\n",
    "for c in 'Cases, Deaths'.split(', '):\n",
    "    df_table[f'{c} (+)'] = (df_table[c] - df_table[f'P{c}']).clip(0)\n",
    "df_table['Fatality Rate'] = (100* df_table['Deaths']/ df_table['Cases']).round(2)"
   ]
  },
  {
   "cell_type": "code",
   "execution_count": 13,
   "metadata": {
    "execution": {
     "iopub.execute_input": "2020-10-14T11:52:31.098478Z",
     "iopub.status.busy": "2020-10-14T11:52:31.097752Z",
     "iopub.status.idle": "2020-10-14T11:52:31.102203Z",
     "shell.execute_reply": "2020-10-14T11:52:31.101619Z"
    },
    "papermill": {
     "duration": 0.040572,
     "end_time": "2020-10-14T11:52:31.102360",
     "exception": false,
     "start_time": "2020-10-14T11:52:31.061788",
     "status": "completed"
    },
    "tags": []
   },
   "outputs": [
    {
     "data": {
      "text/html": [
       "<div>\n",
       "<style scoped>\n",
       "    .dataframe tbody tr th:only-of-type {\n",
       "        vertical-align: middle;\n",
       "    }\n",
       "\n",
       "    .dataframe tbody tr th {\n",
       "        vertical-align: top;\n",
       "    }\n",
       "\n",
       "    .dataframe thead th {\n",
       "        text-align: right;\n",
       "    }\n",
       "</style>\n",
       "<table border=\"1\" class=\"dataframe\">\n",
       "  <thead>\n",
       "    <tr style=\"text-align: right;\">\n",
       "      <th></th>\n",
       "      <th>states</th>\n",
       "      <th>Cases</th>\n",
       "      <th>Deaths</th>\n",
       "      <th>PCases</th>\n",
       "      <th>PDeaths</th>\n",
       "      <th>Cases (+)</th>\n",
       "      <th>Deaths (+)</th>\n",
       "      <th>Fatality Rate</th>\n",
       "    </tr>\n",
       "  </thead>\n",
       "  <tbody>\n",
       "    <tr>\n",
       "      <th>0</th>\n",
       "      <td>Maharashtra</td>\n",
       "      <td>1543837</td>\n",
       "      <td>40701</td>\n",
       "      <td>1543837</td>\n",
       "      <td>40701</td>\n",
       "      <td>0</td>\n",
       "      <td>0</td>\n",
       "      <td>2.64</td>\n",
       "    </tr>\n",
       "    <tr>\n",
       "      <th>1</th>\n",
       "      <td>Andhra Pradesh</td>\n",
       "      <td>763573</td>\n",
       "      <td>6291</td>\n",
       "      <td>763573</td>\n",
       "      <td>6291</td>\n",
       "      <td>0</td>\n",
       "      <td>0</td>\n",
       "      <td>0.82</td>\n",
       "    </tr>\n",
       "    <tr>\n",
       "      <th>2</th>\n",
       "      <td>Karnataka</td>\n",
       "      <td>726106</td>\n",
       "      <td>10123</td>\n",
       "      <td>726106</td>\n",
       "      <td>10123</td>\n",
       "      <td>0</td>\n",
       "      <td>0</td>\n",
       "      <td>1.39</td>\n",
       "    </tr>\n",
       "    <tr>\n",
       "      <th>3</th>\n",
       "      <td>Tamil Nadu</td>\n",
       "      <td>665930</td>\n",
       "      <td>10371</td>\n",
       "      <td>665930</td>\n",
       "      <td>10371</td>\n",
       "      <td>0</td>\n",
       "      <td>0</td>\n",
       "      <td>1.56</td>\n",
       "    </tr>\n",
       "    <tr>\n",
       "      <th>4</th>\n",
       "      <td>Uttar Pradesh</td>\n",
       "      <td>444622</td>\n",
       "      <td>6507</td>\n",
       "      <td>442118</td>\n",
       "      <td>6466</td>\n",
       "      <td>2504</td>\n",
       "      <td>41</td>\n",
       "      <td>1.46</td>\n",
       "    </tr>\n",
       "  </tbody>\n",
       "</table>\n",
       "</div>"
      ],
      "text/plain": [
       "           states    Cases  Deaths   PCases  PDeaths  Cases (+)  Deaths (+)  \\\n",
       "0     Maharashtra  1543837   40701  1543837    40701          0           0   \n",
       "1  Andhra Pradesh   763573    6291   763573     6291          0           0   \n",
       "2       Karnataka   726106   10123   726106    10123          0           0   \n",
       "3      Tamil Nadu   665930   10371   665930    10371          0           0   \n",
       "4   Uttar Pradesh   444622    6507   442118     6466       2504          41   \n",
       "\n",
       "   Fatality Rate  \n",
       "0           2.64  \n",
       "1           0.82  \n",
       "2           1.39  \n",
       "3           1.56  \n",
       "4           1.46  "
      ]
     },
     "execution_count": 13,
     "metadata": {},
     "output_type": "execute_result"
    }
   ],
   "source": [
    "#hide\n",
    "df_table.head()"
   ]
  },
  {
   "cell_type": "code",
   "execution_count": 14,
   "metadata": {
    "execution": {
     "iopub.execute_input": "2020-10-14T11:52:31.150523Z",
     "iopub.status.busy": "2020-10-14T11:52:31.149813Z",
     "iopub.status.idle": "2020-10-14T11:52:31.169713Z",
     "shell.execute_reply": "2020-10-14T11:52:31.169091Z"
    },
    "papermill": {
     "duration": 0.047702,
     "end_time": "2020-10-14T11:52:31.169865",
     "exception": false,
     "start_time": "2020-10-14T11:52:31.122163",
     "status": "completed"
    },
    "tags": []
   },
   "outputs": [
    {
     "data": {
      "text/plain": [
       "{'updated': '2020-10-14',\n",
       " 'since': '2020-10-13',\n",
       " 'Cases': 7244024,\n",
       " 'PCases': 7237279,\n",
       " 'Deaths': 110686,\n",
       " 'PDeaths': 110621,\n",
       " 'Cases (+)': 6745,\n",
       " 'Deaths (+)': 65}"
      ]
     },
     "execution_count": 14,
     "metadata": {},
     "output_type": "execute_result"
    }
   ],
   "source": [
    "#hide\n",
    "summary = {'updated':dates[-1], 'since':dates[-2]}\n",
    "list_names = ['Cases', 'PCases', 'Deaths', 'PDeaths', 'Cases (+)', 'Deaths (+)']\n",
    "for name in list_names:\n",
    "    summary[name] = df_table.sum()[name]\n",
    "summary"
   ]
  },
  {
   "cell_type": "code",
   "execution_count": 15,
   "metadata": {
    "execution": {
     "iopub.execute_input": "2020-10-14T11:52:31.215833Z",
     "iopub.status.busy": "2020-10-14T11:52:31.215178Z",
     "iopub.status.idle": "2020-10-14T11:52:31.217388Z",
     "shell.execute_reply": "2020-10-14T11:52:31.217891Z"
    },
    "papermill": {
     "duration": 0.026979,
     "end_time": "2020-10-14T11:52:31.218047",
     "exception": false,
     "start_time": "2020-10-14T11:52:31.191068",
     "status": "completed"
    },
    "tags": []
   },
   "outputs": [],
   "source": [
    "#hide\n",
    "overview = '''\n",
    "<!-- #######  HTML!! #########-->\n",
    "<h1 style=\"color: #5e9ca0; text-align: center;\">India</h1>\n",
    "<p style=\"text-align: center;\">Last update: <strong>{update}</strong></p>\n",
    "<p style=\"text-align: center;\">Confirmed cases:</p>\n",
    "<p style=\"text-align: center;font-size:24px;\">{cases} (<span style=\"color: #ff0000;\">+{new}</span>)</p>\n",
    "<p style=\"text-align: center;\">Confirmed deaths:</p>\n",
    "<p style=\"text-align: center;font-size:24px;\">{deaths} (<span style=\"color: #ff0000;\">+{dnew}</span>)</p>\n",
    "'''"
   ]
  },
  {
   "cell_type": "code",
   "execution_count": 16,
   "metadata": {
    "execution": {
     "iopub.execute_input": "2020-10-14T11:52:31.260995Z",
     "iopub.status.busy": "2020-10-14T11:52:31.260348Z",
     "iopub.status.idle": "2020-10-14T11:52:31.263825Z",
     "shell.execute_reply": "2020-10-14T11:52:31.263279Z"
    },
    "papermill": {
     "duration": 0.026971,
     "end_time": "2020-10-14T11:52:31.263998",
     "exception": false,
     "start_time": "2020-10-14T11:52:31.237027",
     "status": "completed"
    },
    "tags": []
   },
   "outputs": [
    {
     "data": {
      "text/html": [
       "\n",
       "<!-- #######  HTML!! #########-->\n",
       "<h1 style=\"color: #5e9ca0; text-align: center;\">India</h1>\n",
       "<p style=\"text-align: center;\">Last update: <strong>2020-10-14</strong></p>\n",
       "<p style=\"text-align: center;\">Confirmed cases:</p>\n",
       "<p style=\"text-align: center;font-size:24px;\">7244024 (<span style=\"color: #ff0000;\">+6745</span>)</p>\n",
       "<p style=\"text-align: center;\">Confirmed deaths:</p>\n",
       "<p style=\"text-align: center;font-size:24px;\">110686 (<span style=\"color: #ff0000;\">+65</span>)</p>\n"
      ],
      "text/plain": [
       "<IPython.core.display.HTML object>"
      ]
     },
     "metadata": {},
     "output_type": "display_data"
    }
   ],
   "source": [
    "#hide_input\n",
    "update = summary['updated']\n",
    "cases = summary['Cases']\n",
    "new = summary['Cases (+)']\n",
    "deaths = summary['Deaths']\n",
    "dnew = summary['Deaths (+)']\n",
    "\n",
    "html = HTML(overview.format(update=update, cases=cases,new=new,deaths=deaths,dnew=dnew))\n",
    "\n",
    "display(html)"
   ]
  },
  {
   "cell_type": "code",
   "execution_count": 17,
   "metadata": {
    "execution": {
     "iopub.execute_input": "2020-10-14T11:52:31.309703Z",
     "iopub.status.busy": "2020-10-14T11:52:31.309056Z",
     "iopub.status.idle": "2020-10-14T11:52:31.314943Z",
     "shell.execute_reply": "2020-10-14T11:52:31.315561Z"
    },
    "papermill": {
     "duration": 0.032146,
     "end_time": "2020-10-14T11:52:31.315713",
     "exception": false,
     "start_time": "2020-10-14T11:52:31.283567",
     "status": "completed"
    },
    "tags": []
   },
   "outputs": [],
   "source": [
    "#hide\n",
    "dt_cols = list(dft_cases.columns[1:])\n",
    "dft_ct_new_cases = dft_cases.groupby('state')[dt_cols].sum().diff(axis=1).fillna(0).astype(int)\n",
    "dft_ct_new_cases.sort_values(by = dates[-1], ascending = False,inplace = True)"
   ]
  },
  {
   "cell_type": "code",
   "execution_count": 18,
   "metadata": {
    "execution": {
     "iopub.execute_input": "2020-10-14T11:52:31.379246Z",
     "iopub.status.busy": "2020-10-14T11:52:31.378584Z",
     "iopub.status.idle": "2020-10-14T11:52:31.383291Z",
     "shell.execute_reply": "2020-10-14T11:52:31.383856Z"
    },
    "papermill": {
     "duration": 0.047998,
     "end_time": "2020-10-14T11:52:31.384043",
     "exception": false,
     "start_time": "2020-10-14T11:52:31.336045",
     "status": "completed"
    },
    "tags": []
   },
   "outputs": [
    {
     "data": {
      "text/html": [
       "<div>\n",
       "<style scoped>\n",
       "    .dataframe tbody tr th:only-of-type {\n",
       "        vertical-align: middle;\n",
       "    }\n",
       "\n",
       "    .dataframe tbody tr th {\n",
       "        vertical-align: top;\n",
       "    }\n",
       "\n",
       "    .dataframe thead th {\n",
       "        text-align: right;\n",
       "    }\n",
       "</style>\n",
       "<table border=\"1\" class=\"dataframe\">\n",
       "  <thead>\n",
       "    <tr style=\"text-align: right;\">\n",
       "      <th>states</th>\n",
       "      <th>2020-07-01</th>\n",
       "      <th>2020-07-02</th>\n",
       "      <th>2020-07-03</th>\n",
       "      <th>2020-07-04</th>\n",
       "      <th>2020-07-05</th>\n",
       "      <th>2020-07-06</th>\n",
       "      <th>2020-07-07</th>\n",
       "      <th>2020-07-08</th>\n",
       "      <th>2020-07-09</th>\n",
       "      <th>2020-07-10</th>\n",
       "      <th>...</th>\n",
       "      <th>2020-10-05</th>\n",
       "      <th>2020-10-06</th>\n",
       "      <th>2020-10-07</th>\n",
       "      <th>2020-10-08</th>\n",
       "      <th>2020-10-09</th>\n",
       "      <th>2020-10-10</th>\n",
       "      <th>2020-10-11</th>\n",
       "      <th>2020-10-12</th>\n",
       "      <th>2020-10-13</th>\n",
       "      <th>2020-10-14</th>\n",
       "    </tr>\n",
       "    <tr>\n",
       "      <th>state</th>\n",
       "      <th></th>\n",
       "      <th></th>\n",
       "      <th></th>\n",
       "      <th></th>\n",
       "      <th></th>\n",
       "      <th></th>\n",
       "      <th></th>\n",
       "      <th></th>\n",
       "      <th></th>\n",
       "      <th></th>\n",
       "      <th></th>\n",
       "      <th></th>\n",
       "      <th></th>\n",
       "      <th></th>\n",
       "      <th></th>\n",
       "      <th></th>\n",
       "      <th></th>\n",
       "      <th></th>\n",
       "      <th></th>\n",
       "      <th></th>\n",
       "      <th></th>\n",
       "    </tr>\n",
       "  </thead>\n",
       "  <tbody>\n",
       "    <tr>\n",
       "      <th>Odisha</th>\n",
       "      <td>0</td>\n",
       "      <td>229</td>\n",
       "      <td>561</td>\n",
       "      <td>495</td>\n",
       "      <td>469</td>\n",
       "      <td>456</td>\n",
       "      <td>571</td>\n",
       "      <td>527</td>\n",
       "      <td>577</td>\n",
       "      <td>755</td>\n",
       "      <td>...</td>\n",
       "      <td>2617</td>\n",
       "      <td>2673</td>\n",
       "      <td>2995</td>\n",
       "      <td>3144</td>\n",
       "      <td>2697</td>\n",
       "      <td>2854</td>\n",
       "      <td>2546</td>\n",
       "      <td>2423</td>\n",
       "      <td>2275</td>\n",
       "      <td>2604</td>\n",
       "    </tr>\n",
       "    <tr>\n",
       "      <th>Uttar Pradesh</th>\n",
       "      <td>0</td>\n",
       "      <td>769</td>\n",
       "      <td>972</td>\n",
       "      <td>757</td>\n",
       "      <td>1153</td>\n",
       "      <td>929</td>\n",
       "      <td>1332</td>\n",
       "      <td>1188</td>\n",
       "      <td>1206</td>\n",
       "      <td>1338</td>\n",
       "      <td>...</td>\n",
       "      <td>2971</td>\n",
       "      <td>3500</td>\n",
       "      <td>3389</td>\n",
       "      <td>3133</td>\n",
       "      <td>3207</td>\n",
       "      <td>3046</td>\n",
       "      <td>3267</td>\n",
       "      <td>2182</td>\n",
       "      <td>2957</td>\n",
       "      <td>2504</td>\n",
       "    </tr>\n",
       "    <tr>\n",
       "      <th>Telangana</th>\n",
       "      <td>0</td>\n",
       "      <td>1213</td>\n",
       "      <td>1892</td>\n",
       "      <td>1850</td>\n",
       "      <td>1590</td>\n",
       "      <td>1831</td>\n",
       "      <td>1879</td>\n",
       "      <td>1924</td>\n",
       "      <td>1410</td>\n",
       "      <td>1278</td>\n",
       "      <td>...</td>\n",
       "      <td>1335</td>\n",
       "      <td>1983</td>\n",
       "      <td>2154</td>\n",
       "      <td>1896</td>\n",
       "      <td>1891</td>\n",
       "      <td>1811</td>\n",
       "      <td>1717</td>\n",
       "      <td>1021</td>\n",
       "      <td>1708</td>\n",
       "      <td>1446</td>\n",
       "    </tr>\n",
       "    <tr>\n",
       "      <th>Tripura</th>\n",
       "      <td>0</td>\n",
       "      <td>39</td>\n",
       "      <td>93</td>\n",
       "      <td>25</td>\n",
       "      <td>23</td>\n",
       "      <td>111</td>\n",
       "      <td>24</td>\n",
       "      <td>57</td>\n",
       "      <td>16</td>\n",
       "      <td>142</td>\n",
       "      <td>...</td>\n",
       "      <td>159</td>\n",
       "      <td>275</td>\n",
       "      <td>237</td>\n",
       "      <td>214</td>\n",
       "      <td>223</td>\n",
       "      <td>171</td>\n",
       "      <td>199</td>\n",
       "      <td>109</td>\n",
       "      <td>217</td>\n",
       "      <td>181</td>\n",
       "    </tr>\n",
       "    <tr>\n",
       "      <th>Mizoram</th>\n",
       "      <td>0</td>\n",
       "      <td>2</td>\n",
       "      <td>0</td>\n",
       "      <td>2</td>\n",
       "      <td>22</td>\n",
       "      <td>11</td>\n",
       "      <td>1</td>\n",
       "      <td>5</td>\n",
       "      <td>0</td>\n",
       "      <td>23</td>\n",
       "      <td>...</td>\n",
       "      <td>0</td>\n",
       "      <td>8</td>\n",
       "      <td>20</td>\n",
       "      <td>2</td>\n",
       "      <td>7</td>\n",
       "      <td>5</td>\n",
       "      <td>13</td>\n",
       "      <td>9</td>\n",
       "      <td>18</td>\n",
       "      <td>10</td>\n",
       "    </tr>\n",
       "  </tbody>\n",
       "</table>\n",
       "<p>5 rows × 106 columns</p>\n",
       "</div>"
      ],
      "text/plain": [
       "states         2020-07-01  2020-07-02  2020-07-03  2020-07-04  2020-07-05  \\\n",
       "state                                                                       \n",
       "Odisha                  0         229         561         495         469   \n",
       "Uttar Pradesh           0         769         972         757        1153   \n",
       "Telangana               0        1213        1892        1850        1590   \n",
       "Tripura                 0          39          93          25          23   \n",
       "Mizoram                 0           2           0           2          22   \n",
       "\n",
       "states         2020-07-06  2020-07-07  2020-07-08  2020-07-09  2020-07-10  \\\n",
       "state                                                                       \n",
       "Odisha                456         571         527         577         755   \n",
       "Uttar Pradesh         929        1332        1188        1206        1338   \n",
       "Telangana            1831        1879        1924        1410        1278   \n",
       "Tripura               111          24          57          16         142   \n",
       "Mizoram                11           1           5           0          23   \n",
       "\n",
       "states         ...  2020-10-05  2020-10-06  2020-10-07  2020-10-08  \\\n",
       "state          ...                                                   \n",
       "Odisha         ...        2617        2673        2995        3144   \n",
       "Uttar Pradesh  ...        2971        3500        3389        3133   \n",
       "Telangana      ...        1335        1983        2154        1896   \n",
       "Tripura        ...         159         275         237         214   \n",
       "Mizoram        ...           0           8          20           2   \n",
       "\n",
       "states         2020-10-09  2020-10-10  2020-10-11  2020-10-12  2020-10-13  \\\n",
       "state                                                                       \n",
       "Odisha               2697        2854        2546        2423        2275   \n",
       "Uttar Pradesh        3207        3046        3267        2182        2957   \n",
       "Telangana            1891        1811        1717        1021        1708   \n",
       "Tripura               223         171         199         109         217   \n",
       "Mizoram                 7           5          13           9          18   \n",
       "\n",
       "states         2020-10-14  \n",
       "state                      \n",
       "Odisha               2604  \n",
       "Uttar Pradesh        2504  \n",
       "Telangana            1446  \n",
       "Tripura               181  \n",
       "Mizoram                10  \n",
       "\n",
       "[5 rows x 106 columns]"
      ]
     },
     "execution_count": 18,
     "metadata": {},
     "output_type": "execute_result"
    }
   ],
   "source": [
    "#hide\n",
    "dft_ct_new_cases.head()"
   ]
  },
  {
   "cell_type": "code",
   "execution_count": 19,
   "metadata": {
    "execution": {
     "iopub.execute_input": "2020-10-14T11:52:31.451491Z",
     "iopub.status.busy": "2020-10-14T11:52:31.441168Z",
     "iopub.status.idle": "2020-10-14T11:52:36.689741Z",
     "shell.execute_reply": "2020-10-14T11:52:36.690283Z"
    },
    "papermill": {
     "duration": 5.287013,
     "end_time": "2020-10-14T11:52:36.690455",
     "exception": false,
     "start_time": "2020-10-14T11:52:31.403442",
     "status": "completed"
    },
    "tags": []
   },
   "outputs": [
    {
     "data": {
      "image/png": "[encoded data removed]",
      "text/plain": [
       "<Figure size 1296x2016 with 11 Axes>"
      ]
     },
     "metadata": {
      "needs_background": "light"
     },
     "output_type": "display_data"
    }
   ],
   "source": [
    "#hide_input\n",
    "df = dft_ct_new_cases.copy()\n",
    "df.loc['Total'] = df.sum()\n",
    "n = 5\n",
    "ax = []\n",
    "fig = plt.figure(figsize = (18,28))\n",
    "gs = fig.add_gridspec(n+2, 5)\n",
    "# gs = fig.add_gridspec(2, 3)\n",
    "ax1 = fig.add_subplot(gs[0, :])\n",
    "ef = df.loc['Total'].rename_axis('date').reset_index()\n",
    "ef['date'] = ef['date'].astype('datetime64[ns]')\n",
    "ax1.bar(ef.date,ef.Total,alpha=0.3,color='#007acc')\n",
    "ax1.plot(ef.date,ef.Total , marker=\"o\", color='#007acc')\n",
    "ax1.xaxis.set_major_locator(mdates.WeekdayLocator())\n",
    "ax1.xaxis.set_major_formatter(mdates.DateFormatter('%b %d'))\n",
    "ax1.text(0.02, 0.5,'India daily case count', transform = ax1.transAxes, fontsize=25);\n",
    "ax1.spines['right'].set_visible(False)\n",
    "ax1.spines['top'].set_visible(False)\n",
    "\n",
    "ax2 = fig.add_subplot(gs[1,0])\n",
    "ef = df.loc['Maharashtra'].rename_axis('date').reset_index()\n",
    "ef['date'] = ef['date'].astype('datetime64[ns]')\n",
    "\n",
    "ax2.bar(ef.date, ef.Maharashtra,color = '#007acc',alpha=0.5)\n",
    "ax2.xaxis.set_major_locator(mdates.WeekdayLocator())\n",
    "ax2.xaxis.set_major_formatter(mdates.DateFormatter('%b %d'))\n",
    "ax2.set_xticks(ax2.get_xticks()[::3])\n",
    "maxyval = ef.Maharashtra.max()\n",
    "ax2.set_ylim([0,maxyval])\n",
    "ax2.text(0.05, 0.9,'Maharashtra', transform = ax2.transAxes, fontsize=20);\n",
    "ax2.spines['right'].set_visible(False)\n",
    "ax2.spines['top'].set_visible(False)\n",
    "\n",
    "\n",
    "ax3 = fig.add_subplot(gs[1,1])\n",
    "ef = df.loc['Tamil Nadu'].rename_axis('date').reset_index()\n",
    "ef['date'] = ef['date'].astype('datetime64[ns]')\n",
    "ax3.bar(ef.date, ef['Tamil Nadu'],color = '#007acc',alpha=0.5,)\n",
    "ax3.xaxis.set_major_locator(mdates.WeekdayLocator())\n",
    "ax3.xaxis.set_major_formatter(mdates.DateFormatter('%b %d'))\n",
    "ax3.set_xticks(ax3.get_xticks()[::3])\n",
    "ax3.text(0.05, 0.9,'Tamil Nadu', transform = ax3.transAxes, fontsize=20);\n",
    "ax3.spines['right'].set_visible(False)\n",
    "ax3.spines['top'].set_visible(False)\n",
    "\n",
    "ax5 = fig.add_subplot(gs[1,3])\n",
    "ef = df.loc['Telangana'].rename_axis('date').reset_index()\n",
    "ef['date'] = ef['date'].astype('datetime64[ns]')\n",
    "ax5.bar(ef.date, ef['Telangana'],color = '#007acc',alpha=0.5,)\n",
    "ax5.xaxis.set_major_locator(mdates.WeekdayLocator())\n",
    "ax5.xaxis.set_major_formatter(mdates.DateFormatter('%b %d'))\n",
    "ax5.set_xticks(ax5.get_xticks()[::3])\n",
    "ax5.text(0.05, 0.9,'Telangana', transform = ax5.transAxes, fontsize=20);\n",
    "ax5.spines['right'].set_visible(False)\n",
    "ax5.spines['top'].set_visible(False)\n",
    "\n",
    "ax6 = fig.add_subplot(gs[1,4])\n",
    "ef = df.loc['Andhra Pradesh'].rename_axis('date').reset_index()\n",
    "ef['date'] = ef['date'].astype('datetime64[ns]')\n",
    "ax6.bar(ef.date, ef['Andhra Pradesh'],color = '#007acc',alpha=0.5,)\n",
    "ax6.xaxis.set_major_locator(mdates.WeekdayLocator())\n",
    "ax6.xaxis.set_major_formatter(mdates.DateFormatter('%b %d'))\n",
    "ax6.set_xticks(ax6.get_xticks()[::3])\n",
    "ax6.text(0.05, 1,'Andhra Pradesh', transform = ax6.transAxes, fontsize=20);\n",
    "ax6.spines['right'].set_visible(False)\n",
    "ax6.spines['top'].set_visible(False)\n",
    "\n",
    "ax4 = fig.add_subplot(gs[1,2])\n",
    "ef = df.loc['Delhi'].rename_axis('date').reset_index()\n",
    "ef['date'] = ef['date'].astype('datetime64[ns]')\n",
    "ax4.bar(ef.date, ef.Delhi,color = '#007acc',alpha=0.5)\n",
    "ax4.set_xticks([])\n",
    "ax4.xaxis.set_major_locator(mdates.WeekdayLocator())\n",
    "ax4.xaxis.set_major_formatter(mdates.DateFormatter('%b %d'))\n",
    "ax4.set_xticks(ax4.get_xticks()[::3])\n",
    "ax4.spines['right'].set_visible(False)\n",
    "ax4.spines['top'].set_visible(False)\n",
    "\n",
    "ax4.text(0.05, 1,'Delhi', transform = ax4.transAxes, fontsize=20)\n",
    "\n",
    "for i in range(n):\n",
    "    \n",
    "    ax.append(fig.add_subplot(gs[i+2,:]))\n",
    "    ef = df.iloc[i+3].rename_axis('date').reset_index()\n",
    "    ef['date'] = ef['date'].astype('datetime64[ns]')\n",
    "    ax[i].bar(ef.date,ef.iloc[:,-1],color = '#007acc',alpha=0.3)\n",
    "    ax[i].plot(ef.date,ef.iloc[:,-1],marker='o',color='#007acc')\n",
    "    ax[i].text(0.02,0.5,f'{ef.columns.values[-1]}',transform = ax[i].transAxes, fontsize = 20);\n",
    "    ax[i].xaxis.set_major_locator(mdates.WeekdayLocator())\n",
    "    ax[i].xaxis.set_major_formatter(mdates.DateFormatter('%b %d'))\n",
    "    ax[i].set_ylim([0,7000])\n",
    "    ax[i].spines['right'].set_visible(False)\n",
    "    ax[i].spines['top'].set_visible(False)\n",
    "plt.tight_layout()\n"
   ]
  },
  {
   "cell_type": "code",
   "execution_count": 20,
   "metadata": {
    "execution": {
     "iopub.execute_input": "2020-10-14T11:52:36.749537Z",
     "iopub.status.busy": "2020-10-14T11:52:36.748372Z",
     "iopub.status.idle": "2020-10-14T11:52:36.752044Z",
     "shell.execute_reply": "2020-10-14T11:52:36.751481Z"
    },
    "papermill": {
     "duration": 0.03828,
     "end_time": "2020-10-14T11:52:36.752182",
     "exception": false,
     "start_time": "2020-10-14T11:52:36.713902",
     "status": "completed"
    },
    "tags": []
   },
   "outputs": [
    {
     "name": "stdout",
     "output_type": "stream",
     "text": [
      "                                   states    Cases  Deaths   PCases  PDeaths  Cases (+)  Deaths (+)  Fatality Rate\n",
      "                              Maharashtra  1543837   40701  1543837    40701          0           0           2.64\n",
      "                           Andhra Pradesh   763573    6291   763573     6291          0           0           0.82\n",
      "                                Karnataka   726106   10123   726106    10123          0           0           1.39\n",
      "                               Tamil Nadu   665930   10371   665930    10371          0           0           1.56\n",
      "                            Uttar Pradesh   444622    6507   442118     6466       2504          41           1.46\n",
      "                                    Delhi   314224    5854   314224     5854          0           0           1.86\n",
      "                                   Kerala   303897    1047   303897     1047          0           0           0.34\n",
      "                              West Bengal   302020    5744   302020     5744          0           0           1.90\n",
      "                                   Odisha   259541    1125   256937     1110       2604          15           0.43\n",
      "                                Telangana   216238    1241   214792     1233       1446           8           0.57\n",
      "                                    Bihar   198223     961   198223      961          0           0           0.48\n",
      "                                    Assam   196786     830   196786      830          0           0           0.42\n",
      "                                Rajasthan   163219    1679   163219     1679          0           0           1.03\n",
      "                                  Gujarat   153923    3587   153923     3587          0           0           2.33\n",
      "                           Madhya Pradesh   149761    2671   149761     2671          0           0           1.78\n",
      "                             Chhattisgarh   147866    1306   147866     1306          0           0           0.88\n",
      "                                  Haryana   144302    1601   144302     1601          0           0           1.11\n",
      "                                   Punjab   125211    3894   125211     3894          0           0           3.11\n",
      "                                Jharkhand    93736     805    93736      805          0           0           0.86\n",
      "                        Jammu and Kashmir    84708    1340    84708     1340          0           0           1.58\n",
      "                              Uttarakhand    55641     782    55641      782          0           0           1.41\n",
      "                                      Goa    39082     514    39082      514          0           0           1.32\n",
      "                               Puducherry    32004     567    32004      567          0           0           1.77\n",
      "                                  Tripura    28856     315    28675      314        181           1           1.09\n",
      "                         Himachal Pradesh    17762     249    17762      249          0           0           1.40\n",
      "                                  Manipur    13793      97    13793       97          0           0           0.70\n",
      "                               Chandigarh    13331     197    13331      197          0           0           1.48\n",
      "                        Arunachal Pradesh    12561      28    12561       28          0           0           0.22\n",
      "                                Meghalaya     7838      65     7838       65          0           0           0.83\n",
      "                                 Nagaland     7363      14     7363       14          0           0           0.19\n",
      "                                   Ladakh     5238      64     5238       64          0           0           1.22\n",
      "              Andaman and Nicobar Islands     4036      55     4036       55          0           0           1.36\n",
      "                                   Sikkim     3417      59     3417       59          0           0           1.73\n",
      " Dadra and Nagar Haveli and Daman and Diu     3167       2     3167        2          0           0           0.06\n",
      "                                  Mizoram     2212       0     2202        0         10           0           0.00\n",
      "                              Lakshadweep        0       0        0        0          0           0            NaN\n"
     ]
    }
   ],
   "source": [
    "#hide_input\n",
    "print(df_table.to_string(index=False))"
   ]
  },
  {
   "cell_type": "code",
   "execution_count": null,
   "metadata": {
    "papermill": {
     "duration": 0.02266,
     "end_time": "2020-10-14T11:52:36.798853",
     "exception": false,
     "start_time": "2020-10-14T11:52:36.776193",
     "status": "completed"
    },
    "tags": []
   },
   "outputs": [],
   "source": []
  },
  {
   "cell_type": "code",
   "execution_count": null,
   "metadata": {
    "papermill": {
     "duration": 0.024451,
     "end_time": "2020-10-14T11:52:36.846885",
     "exception": false,
     "start_time": "2020-10-14T11:52:36.822434",
     "status": "completed"
    },
    "tags": []
   },
   "outputs": [],
   "source": []
  }
 ],
 "metadata": {
  "kernelspec": {
   "display_name": "Python 3",
   "language": "python",
   "name": "python3"
  },
  "language_info": {
   "codemirror_mode": {
    "name": "ipython",
    "version": 3
   },
   "file_extension": ".py",
   "mimetype": "text/x-python",
   "name": "python",
   "nbconvert_exporter": "python",
   "pygments_lexer": "ipython3",
   "version": "3.6.12"
  },
  "papermill": {
   "duration": 13.268553,
   "end_time": "2020-10-14T11:52:37.378101",
   "environment_variables": {},
   "exception": null,
   "input_path": "latest.ipynb",
   "output_path": "latest.ipynb",
   "parameters": {},
   "start_time": "2020-10-14T11:52:24.109548",
   "version": "2.1.2"
  }
 },
 "nbformat": 4,
 "nbformat_minor": 4
}