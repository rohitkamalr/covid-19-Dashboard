{
 "cells": [
  {
   "cell_type": "markdown",
   "id": "colored-stack",
   "metadata": {
    "papermill": {
     "duration": 0.024233,
     "end_time": "2021-05-13T11:47:56.823919",
     "exception": false,
     "start_time": "2021-05-13T11:47:56.799686",
     "status": "completed"
    },
    "tags": []
   },
   "source": [
    "# Latest COVID-19 India Matplotlib Overview"
   ]
  },
  {
   "cell_type": "code",
   "execution_count": 1,
   "id": "light-proportion",
   "metadata": {
    "execution": {
     "iopub.execute_input": "2021-05-13T11:47:56.877445Z",
     "iopub.status.busy": "2021-05-13T11:47:56.876751Z",
     "iopub.status.idle": "2021-05-13T11:47:57.551034Z",
     "shell.execute_reply": "2021-05-13T11:47:57.550239Z"
    },
    "papermill": {
     "duration": 0.706205,
     "end_time": "2021-05-13T11:47:57.551181",
     "exception": false,
     "start_time": "2021-05-13T11:47:56.844976",
     "status": "completed"
    },
    "tags": []
   },
   "outputs": [],
   "source": [
    "#hide\n",
    "import pandas as pd\n",
    "import numpy as np\n",
    "import requests\n",
    "import json\n",
    "import matplotlib.pyplot as plt\n",
    "import matplotlib.dates as mdates\n",
    "import matplotlib as mpl\n",
    "from IPython.core.display import display,HTML\n",
    "%matplotlib inline\n",
    "from datetime import date"
   ]
  },
  {
   "cell_type": "code",
   "execution_count": 2,
   "id": "greenhouse-shooting",
   "metadata": {
    "execution": {
     "iopub.execute_input": "2021-05-13T11:47:57.598773Z",
     "iopub.status.busy": "2021-05-13T11:47:57.598164Z",
     "iopub.status.idle": "2021-05-13T11:47:57.756080Z",
     "shell.execute_reply": "2021-05-13T11:47:57.755510Z"
    },
    "papermill": {
     "duration": 0.18603,
     "end_time": "2021-05-13T11:47:57.756223",
     "exception": false,
     "start_time": "2021-05-13T11:47:57.570193",
     "status": "completed"
    },
    "tags": []
   },
   "outputs": [],
   "source": [
    "#hide\n",
    "df  = pd.read_csv('https://api.covid19india.org/csv/latest/states.csv')\n",
    "df = df[['Date','State','Confirmed','Deceased']]\n",
    "df = df.rename(columns={'Confirmed':'Cases', \"Deceased\":'Deaths'})\n",
    "df_cases = df[[\"Date\",'State','Cases']]\n",
    "df_deaths = df[['Date','State','Deaths']]\n",
    "df_cases1 = df_cases.groupby('Date')\n",
    "df_deaths1= df_deaths.groupby('Date')"
   ]
  },
  {
   "cell_type": "code",
   "execution_count": 3,
   "id": "hybrid-cathedral",
   "metadata": {
    "execution": {
     "iopub.execute_input": "2021-05-13T11:47:57.803134Z",
     "iopub.status.busy": "2021-05-13T11:47:57.802451Z",
     "iopub.status.idle": "2021-05-13T11:47:57.824856Z",
     "shell.execute_reply": "2021-05-13T11:47:57.824182Z"
    },
    "papermill": {
     "duration": 0.048582,
     "end_time": "2021-05-13T11:47:57.824985",
     "exception": false,
     "start_time": "2021-05-13T11:47:57.776403",
     "status": "completed"
    },
    "tags": []
   },
   "outputs": [],
   "source": [
    "#hide\n",
    "df_snap = pd.read_csv('data/SnapshotCases-28-July.csv')\n",
    "arr_states = df_snap['states'].unique()\n",
    "arr_dates = df['Date'].unique()\n",
    "df_snap = df_snap.set_index('states')"
   ]
  },
  {
   "cell_type": "code",
   "execution_count": 4,
   "id": "interior-belfast",
   "metadata": {
    "execution": {
     "iopub.execute_input": "2021-05-13T11:47:57.871323Z",
     "iopub.status.busy": "2021-05-13T11:47:57.870696Z",
     "iopub.status.idle": "2021-05-13T11:47:57.875352Z",
     "shell.execute_reply": "2021-05-13T11:47:57.875861Z"
    },
    "papermill": {
     "duration": 0.031272,
     "end_time": "2021-05-13T11:47:57.875997",
     "exception": false,
     "start_time": "2021-05-13T11:47:57.844725",
     "status": "completed"
    },
    "tags": []
   },
   "outputs": [
    {
     "data": {
      "text/plain": [
       "array(['Andaman and Nicobar Islands', 'Andhra Pradesh',\n",
       "       'Arunachal Pradesh', 'Assam', 'Bihar', 'Chandigarh',\n",
       "       'Dadra and Nagar Haveli and Daman and Diu', 'Delhi', 'Goa',\n",
       "       'Gujarat', 'Haryana', 'Himachal Pradesh', 'Jammu and Kashmir',\n",
       "       'Jharkhand', 'Karnataka', 'Kerala', 'Lakshadweep',\n",
       "       'Madhya Pradesh', 'Maharashtra', 'Manipur', 'Meghalaya', 'Mizoram',\n",
       "       'Nagaland', 'Odisha', 'Puducherry', 'Punjab', 'Rajasthan',\n",
       "       'Sikkim', 'Tamil Nadu', 'Telangana', 'Tripura', 'Uttar Pradesh',\n",
       "       'West Bengal', 'Chhattisgarh', 'Ladakh', 'Uttarakhand'],\n",
       "      dtype=object)"
      ]
     },
     "execution_count": 4,
     "metadata": {},
     "output_type": "execute_result"
    }
   ],
   "source": [
    "#hide\n",
    "arr_states[-9] = 'Puducherry'\n",
    "arr_states[-10] = 'Odisha'\n",
    "arr_states[6] = 'Dadra and Nagar Haveli and Daman and Diu'\n",
    "arr_states = np.append(arr_states,np.array(['Chhattisgarh','Ladakh','Uttarakhand']))\n",
    "arr_states"
   ]
  },
  {
   "cell_type": "code",
   "execution_count": 5,
   "id": "behind-manner",
   "metadata": {
    "execution": {
     "iopub.execute_input": "2021-05-13T11:47:57.932046Z",
     "iopub.status.busy": "2021-05-13T11:47:57.931349Z",
     "iopub.status.idle": "2021-05-13T11:47:57.942434Z",
     "shell.execute_reply": "2021-05-13T11:47:57.942991Z"
    },
    "papermill": {
     "duration": 0.048622,
     "end_time": "2021-05-13T11:47:57.943177",
     "exception": false,
     "start_time": "2021-05-13T11:47:57.894555",
     "status": "completed"
    },
    "tags": []
   },
   "outputs": [],
   "source": [
    "#hide\n",
    "dates = []\n",
    "for i in arr_dates:\n",
    "    if i>='2020-07-01':\n",
    "        dates.append(i)\n",
    "dict = {'states':dates}\n",
    "for i in arr_states:\n",
    "    dict[i] = [0]*len(dates)\n",
    "dft_cases = pd.DataFrame(dict)\n",
    "dft_deaths = pd.DataFrame(dict)\n"
   ]
  },
  {
   "cell_type": "code",
   "execution_count": 6,
   "id": "simplified-peter",
   "metadata": {
    "execution": {
     "iopub.execute_input": "2021-05-13T11:47:57.991673Z",
     "iopub.status.busy": "2021-05-13T11:47:57.990593Z",
     "iopub.status.idle": "2021-05-13T11:48:04.300695Z",
     "shell.execute_reply": "2021-05-13T11:48:04.301226Z"
    },
    "papermill": {
     "duration": 6.33869,
     "end_time": "2021-05-13T11:48:04.301417",
     "exception": false,
     "start_time": "2021-05-13T11:47:57.962727",
     "status": "completed"
    },
    "tags": []
   },
   "outputs": [],
   "source": [
    "#hide\n",
    "for i in range(len(dates)):\n",
    "    df1_deaths = df_deaths1.get_group(dates[i])\n",
    "    for j in range(len(df1_deaths.index)):\n",
    "        if df1_deaths.iloc[j,1] in arr_states:\n",
    "            dft_deaths.loc[i,df1_deaths.iloc[j,1]] = df1_deaths.iloc[j,2]\n",
    "dft_deaths = dft_deaths.set_index('states')"
   ]
  },
  {
   "cell_type": "code",
   "execution_count": 7,
   "id": "geological-welding",
   "metadata": {
    "execution": {
     "iopub.execute_input": "2021-05-13T11:48:04.347852Z",
     "iopub.status.busy": "2021-05-13T11:48:04.347042Z",
     "iopub.status.idle": "2021-05-13T11:48:10.661882Z",
     "shell.execute_reply": "2021-05-13T11:48:10.660665Z"
    },
    "papermill": {
     "duration": 6.340793,
     "end_time": "2021-05-13T11:48:10.662047",
     "exception": false,
     "start_time": "2021-05-13T11:48:04.321254",
     "status": "completed"
    },
    "tags": []
   },
   "outputs": [],
   "source": [
    "#hide\n",
    "for i in range(len(dates)):\n",
    "    df1_cases = df_cases1.get_group(dates[i])\n",
    "    for j in range(len(df1_cases.index)):\n",
    "        if df1_cases.iloc[j,1] in arr_states:\n",
    "            dft_cases.loc[i,df1_cases.iloc[j,1]] = df1_cases.iloc[j,2]\n",
    "dft_cases = dft_cases.set_index('states')"
   ]
  },
  {
   "cell_type": "code",
   "execution_count": 8,
   "id": "binary-ratio",
   "metadata": {
    "execution": {
     "iopub.execute_input": "2021-05-13T11:48:10.718778Z",
     "iopub.status.busy": "2021-05-13T11:48:10.718076Z",
     "iopub.status.idle": "2021-05-13T11:48:10.722077Z",
     "shell.execute_reply": "2021-05-13T11:48:10.721429Z"
    },
    "papermill": {
     "duration": 0.03855,
     "end_time": "2021-05-13T11:48:10.722211",
     "exception": false,
     "start_time": "2021-05-13T11:48:10.683661",
     "status": "completed"
    },
    "tags": []
   },
   "outputs": [],
   "source": [
    "#hide\n",
    "dft_cases = dft_cases.T\n",
    "dft_deaths = dft_deaths.T\n",
    "dt_today = dates[-1]\n",
    "dt_yday = dates[-2]"
   ]
  },
  {
   "cell_type": "code",
   "execution_count": 9,
   "id": "boolean-calculator",
   "metadata": {
    "execution": {
     "iopub.execute_input": "2021-05-13T11:48:10.779882Z",
     "iopub.status.busy": "2021-05-13T11:48:10.776430Z",
     "iopub.status.idle": "2021-05-13T11:48:10.783521Z",
     "shell.execute_reply": "2021-05-13T11:48:10.784493Z"
    },
    "papermill": {
     "duration": 0.039796,
     "end_time": "2021-05-13T11:48:10.784705",
     "exception": false,
     "start_time": "2021-05-13T11:48:10.744909",
     "status": "completed"
    },
    "tags": []
   },
   "outputs": [],
   "source": [
    "#hide\n",
    "dft_cases = dft_cases.reset_index()\n",
    "dft_deaths = dft_deaths.reset_index()\n",
    "dft_cases = dft_cases.rename(columns = {'index':'state'})\n",
    "dft_deaths = dft_deaths.rename(columns = {'index':'state'})"
   ]
  },
  {
   "cell_type": "code",
   "execution_count": 10,
   "id": "invisible-johnston",
   "metadata": {
    "execution": {
     "iopub.execute_input": "2021-05-13T11:48:10.847916Z",
     "iopub.status.busy": "2021-05-13T11:48:10.847201Z",
     "iopub.status.idle": "2021-05-13T11:48:10.851035Z",
     "shell.execute_reply": "2021-05-13T11:48:10.851677Z"
    },
    "papermill": {
     "duration": 0.04212,
     "end_time": "2021-05-13T11:48:10.851834",
     "exception": false,
     "start_time": "2021-05-13T11:48:10.809714",
     "status": "completed"
    },
    "tags": []
   },
   "outputs": [],
   "source": [
    "#hide\n",
    "dfc_cases = dft_cases.groupby('state')[dt_today].sum()\n",
    "dfc_deaths = dft_deaths.groupby('state')[dt_today].sum()\n",
    "dfp_cases = dft_cases.groupby('state')[dt_yday].sum()\n",
    "dfp_deaths = dft_deaths.groupby('state')[dt_yday].sum()"
   ]
  },
  {
   "cell_type": "code",
   "execution_count": 11,
   "id": "measured-great",
   "metadata": {
    "execution": {
     "iopub.execute_input": "2021-05-13T11:48:10.916586Z",
     "iopub.status.busy": "2021-05-13T11:48:10.909849Z",
     "iopub.status.idle": "2021-05-13T11:48:10.924264Z",
     "shell.execute_reply": "2021-05-13T11:48:10.923686Z"
    },
    "papermill": {
     "duration": 0.049045,
     "end_time": "2021-05-13T11:48:10.924391",
     "exception": false,
     "start_time": "2021-05-13T11:48:10.875346",
     "status": "completed"
    },
    "tags": []
   },
   "outputs": [
    {
     "data": {
      "text/html": [
       "<div>\n",
       "<style scoped>\n",
       "    .dataframe tbody tr th:only-of-type {\n",
       "        vertical-align: middle;\n",
       "    }\n",
       "\n",
       "    .dataframe tbody tr th {\n",
       "        vertical-align: top;\n",
       "    }\n",
       "\n",
       "    .dataframe thead th {\n",
       "        text-align: right;\n",
       "    }\n",
       "</style>\n",
       "<table border=\"1\" class=\"dataframe\">\n",
       "  <thead>\n",
       "    <tr style=\"text-align: right;\">\n",
       "      <th></th>\n",
       "      <th>states</th>\n",
       "      <th>Cases</th>\n",
       "      <th>Deaths</th>\n",
       "      <th>PCases</th>\n",
       "      <th>PDeaths</th>\n",
       "    </tr>\n",
       "  </thead>\n",
       "  <tbody>\n",
       "    <tr>\n",
       "      <th>0</th>\n",
       "      <td>Maharashtra</td>\n",
       "      <td>5226710</td>\n",
       "      <td>78007</td>\n",
       "      <td>5226710</td>\n",
       "      <td>78007</td>\n",
       "    </tr>\n",
       "    <tr>\n",
       "      <th>1</th>\n",
       "      <td>Karnataka</td>\n",
       "      <td>2053191</td>\n",
       "      <td>20368</td>\n",
       "      <td>2053191</td>\n",
       "      <td>20368</td>\n",
       "    </tr>\n",
       "    <tr>\n",
       "      <th>2</th>\n",
       "      <td>Kerala</td>\n",
       "      <td>2010935</td>\n",
       "      <td>6054</td>\n",
       "      <td>2010935</td>\n",
       "      <td>6054</td>\n",
       "    </tr>\n",
       "    <tr>\n",
       "      <th>3</th>\n",
       "      <td>Uttar Pradesh</td>\n",
       "      <td>1580980</td>\n",
       "      <td>16646</td>\n",
       "      <td>1563235</td>\n",
       "      <td>16369</td>\n",
       "    </tr>\n",
       "    <tr>\n",
       "      <th>4</th>\n",
       "      <td>Tamil Nadu</td>\n",
       "      <td>1468864</td>\n",
       "      <td>16471</td>\n",
       "      <td>1468864</td>\n",
       "      <td>16471</td>\n",
       "    </tr>\n",
       "  </tbody>\n",
       "</table>\n",
       "</div>"
      ],
      "text/plain": [
       "          states    Cases  Deaths   PCases  PDeaths\n",
       "0    Maharashtra  5226710   78007  5226710    78007\n",
       "1      Karnataka  2053191   20368  2053191    20368\n",
       "2         Kerala  2010935    6054  2010935     6054\n",
       "3  Uttar Pradesh  1580980   16646  1563235    16369\n",
       "4     Tamil Nadu  1468864   16471  1468864    16471"
      ]
     },
     "execution_count": 11,
     "metadata": {},
     "output_type": "execute_result"
    }
   ],
   "source": [
    "#hide\n",
    "df_table = pd.DataFrame({'states': dfc_cases.index, 'Cases': dfc_cases.values, 'Deaths': dfc_deaths.values, 'PCases': dfp_cases.values, 'PDeaths': dfp_deaths.values}).set_index('states')\n",
    "df_table = df_table.sort_values(by = ['Cases','Deaths'], ascending = [False, False])\n",
    "df_table = df_table.reset_index()\n",
    "df_table.head()"
   ]
  },
  {
   "cell_type": "code",
   "execution_count": 12,
   "id": "found-montreal",
   "metadata": {
    "execution": {
     "iopub.execute_input": "2021-05-13T11:48:10.973891Z",
     "iopub.status.busy": "2021-05-13T11:48:10.973216Z",
     "iopub.status.idle": "2021-05-13T11:48:10.983220Z",
     "shell.execute_reply": "2021-05-13T11:48:10.982598Z"
    },
    "papermill": {
     "duration": 0.03832,
     "end_time": "2021-05-13T11:48:10.983356",
     "exception": false,
     "start_time": "2021-05-13T11:48:10.945036",
     "status": "completed"
    },
    "tags": []
   },
   "outputs": [],
   "source": [
    "#hide\n",
    "for c in 'Cases, Deaths'.split(', '):\n",
    "    df_table[f'{c} (+)'] = (df_table[c] - df_table[f'P{c}']).clip(0)\n",
    "df_table['Fatality Rate'] = (100* df_table['Deaths']/ df_table['Cases']).round(2)"
   ]
  },
  {
   "cell_type": "code",
   "execution_count": 13,
   "id": "minus-savage",
   "metadata": {
    "execution": {
     "iopub.execute_input": "2021-05-13T11:48:11.037903Z",
     "iopub.status.busy": "2021-05-13T11:48:11.037291Z",
     "iopub.status.idle": "2021-05-13T11:48:11.040599Z",
     "shell.execute_reply": "2021-05-13T11:48:11.041211Z"
    },
    "papermill": {
     "duration": 0.037338,
     "end_time": "2021-05-13T11:48:11.041352",
     "exception": false,
     "start_time": "2021-05-13T11:48:11.004014",
     "status": "completed"
    },
    "tags": []
   },
   "outputs": [
    {
     "data": {
      "text/html": [
       "<div>\n",
       "<style scoped>\n",
       "    .dataframe tbody tr th:only-of-type {\n",
       "        vertical-align: middle;\n",
       "    }\n",
       "\n",
       "    .dataframe tbody tr th {\n",
       "        vertical-align: top;\n",
       "    }\n",
       "\n",
       "    .dataframe thead th {\n",
       "        text-align: right;\n",
       "    }\n",
       "</style>\n",
       "<table border=\"1\" class=\"dataframe\">\n",
       "  <thead>\n",
       "    <tr style=\"text-align: right;\">\n",
       "      <th></th>\n",
       "      <th>states</th>\n",
       "      <th>Cases</th>\n",
       "      <th>Deaths</th>\n",
       "      <th>PCases</th>\n",
       "      <th>PDeaths</th>\n",
       "      <th>Cases (+)</th>\n",
       "      <th>Deaths (+)</th>\n",
       "      <th>Fatality Rate</th>\n",
       "    </tr>\n",
       "  </thead>\n",
       "  <tbody>\n",
       "    <tr>\n",
       "      <th>0</th>\n",
       "      <td>Maharashtra</td>\n",
       "      <td>5226710</td>\n",
       "      <td>78007</td>\n",
       "      <td>5226710</td>\n",
       "      <td>78007</td>\n",
       "      <td>0</td>\n",
       "      <td>0</td>\n",
       "      <td>1.49</td>\n",
       "    </tr>\n",
       "    <tr>\n",
       "      <th>1</th>\n",
       "      <td>Karnataka</td>\n",
       "      <td>2053191</td>\n",
       "      <td>20368</td>\n",
       "      <td>2053191</td>\n",
       "      <td>20368</td>\n",
       "      <td>0</td>\n",
       "      <td>0</td>\n",
       "      <td>0.99</td>\n",
       "    </tr>\n",
       "    <tr>\n",
       "      <th>2</th>\n",
       "      <td>Kerala</td>\n",
       "      <td>2010935</td>\n",
       "      <td>6054</td>\n",
       "      <td>2010935</td>\n",
       "      <td>6054</td>\n",
       "      <td>0</td>\n",
       "      <td>0</td>\n",
       "      <td>0.30</td>\n",
       "    </tr>\n",
       "    <tr>\n",
       "      <th>3</th>\n",
       "      <td>Uttar Pradesh</td>\n",
       "      <td>1580980</td>\n",
       "      <td>16646</td>\n",
       "      <td>1563235</td>\n",
       "      <td>16369</td>\n",
       "      <td>17745</td>\n",
       "      <td>277</td>\n",
       "      <td>1.05</td>\n",
       "    </tr>\n",
       "    <tr>\n",
       "      <th>4</th>\n",
       "      <td>Tamil Nadu</td>\n",
       "      <td>1468864</td>\n",
       "      <td>16471</td>\n",
       "      <td>1468864</td>\n",
       "      <td>16471</td>\n",
       "      <td>0</td>\n",
       "      <td>0</td>\n",
       "      <td>1.12</td>\n",
       "    </tr>\n",
       "  </tbody>\n",
       "</table>\n",
       "</div>"
      ],
      "text/plain": [
       "          states    Cases  Deaths   PCases  PDeaths  Cases (+)  Deaths (+)  \\\n",
       "0    Maharashtra  5226710   78007  5226710    78007          0           0   \n",
       "1      Karnataka  2053191   20368  2053191    20368          0           0   \n",
       "2         Kerala  2010935    6054  2010935     6054          0           0   \n",
       "3  Uttar Pradesh  1580980   16646  1563235    16369      17745         277   \n",
       "4     Tamil Nadu  1468864   16471  1468864    16471          0           0   \n",
       "\n",
       "   Fatality Rate  \n",
       "0           1.49  \n",
       "1           0.99  \n",
       "2           0.30  \n",
       "3           1.05  \n",
       "4           1.12  "
      ]
     },
     "execution_count": 13,
     "metadata": {},
     "output_type": "execute_result"
    }
   ],
   "source": [
    "#hide\n",
    "df_table.head()"
   ]
  },
  {
   "cell_type": "code",
   "execution_count": 14,
   "id": "false-peter",
   "metadata": {
    "execution": {
     "iopub.execute_input": "2021-05-13T11:48:11.092044Z",
     "iopub.status.busy": "2021-05-13T11:48:11.091332Z",
     "iopub.status.idle": "2021-05-13T11:48:11.111340Z",
     "shell.execute_reply": "2021-05-13T11:48:11.110813Z"
    },
    "papermill": {
     "duration": 0.047556,
     "end_time": "2021-05-13T11:48:11.111465",
     "exception": false,
     "start_time": "2021-05-13T11:48:11.063909",
     "status": "completed"
    },
    "tags": []
   },
   "outputs": [
    {
     "data": {
      "text/plain": [
       "{'updated': '2021-05-13',\n",
       " 'since': '2021-05-12',\n",
       " 'Cases': 23744901,\n",
       " 'PCases': 23703224,\n",
       " 'Deaths': 258992,\n",
       " 'PDeaths': 258353,\n",
       " 'Cases (+)': 41677,\n",
       " 'Deaths (+)': 639}"
      ]
     },
     "execution_count": 14,
     "metadata": {},
     "output_type": "execute_result"
    }
   ],
   "source": [
    "#hide\n",
    "summary = {'updated':dates[-1], 'since':dates[-2]}\n",
    "list_names = ['Cases', 'PCases', 'Deaths', 'PDeaths', 'Cases (+)', 'Deaths (+)']\n",
    "for name in list_names:\n",
    "    summary[name] = df_table.sum()[name]\n",
    "summary"
   ]
  },
  {
   "cell_type": "code",
   "execution_count": 15,
   "id": "packed-viewer",
   "metadata": {
    "execution": {
     "iopub.execute_input": "2021-05-13T11:48:11.163142Z",
     "iopub.status.busy": "2021-05-13T11:48:11.162422Z",
     "iopub.status.idle": "2021-05-13T11:48:11.164973Z",
     "shell.execute_reply": "2021-05-13T11:48:11.164434Z"
    },
    "papermill": {
     "duration": 0.032032,
     "end_time": "2021-05-13T11:48:11.165100",
     "exception": false,
     "start_time": "2021-05-13T11:48:11.133068",
     "status": "completed"
    },
    "tags": []
   },
   "outputs": [],
   "source": [
    "#hide\n",
    "overview = '''\n",
    "<!-- #######  HTML!! #########-->\n",
    "<h1 style=\"color: #5e9ca0; text-align: center;\">India</h1>\n",
    "<p style=\"text-align: center;\">Last update: <strong>{update}</strong></p>\n",
    "<p style=\"text-align: center;\">Confirmed cases:</p>\n",
    "<p style=\"text-align: center;font-size:24px;\">{cases} (<span style=\"color: #ff0000;\">+{new}</span>)</p>\n",
    "<p style=\"text-align: center;\">Confirmed deaths:</p>\n",
    "<p style=\"text-align: center;font-size:24px;\">{deaths} (<span style=\"color: #ff0000;\">+{dnew}</span>)</p>\n",
    "'''"
   ]
  },
  {
   "cell_type": "code",
   "execution_count": 16,
   "id": "phantom-lover",
   "metadata": {
    "execution": {
     "iopub.execute_input": "2021-05-13T11:48:11.213725Z",
     "iopub.status.busy": "2021-05-13T11:48:11.213111Z",
     "iopub.status.idle": "2021-05-13T11:48:11.216571Z",
     "shell.execute_reply": "2021-05-13T11:48:11.216029Z"
    },
    "papermill": {
     "duration": 0.03032,
     "end_time": "2021-05-13T11:48:11.216688",
     "exception": false,
     "start_time": "2021-05-13T11:48:11.186368",
     "status": "completed"
    },
    "tags": []
   },
   "outputs": [
    {
     "data": {
      "text/html": [
       "\n",
       "<!-- #######  HTML!! #########-->\n",
       "<h1 style=\"color: #5e9ca0; text-align: center;\">India</h1>\n",
       "<p style=\"text-align: center;\">Last update: <strong>2021-05-13</strong></p>\n",
       "<p style=\"text-align: center;\">Confirmed cases:</p>\n",
       "<p style=\"text-align: center;font-size:24px;\">23744901 (<span style=\"color: #ff0000;\">+41677</span>)</p>\n",
       "<p style=\"text-align: center;\">Confirmed deaths:</p>\n",
       "<p style=\"text-align: center;font-size:24px;\">258992 (<span style=\"color: #ff0000;\">+639</span>)</p>\n"
      ],
      "text/plain": [
       "<IPython.core.display.HTML object>"
      ]
     },
     "metadata": {},
     "output_type": "display_data"
    }
   ],
   "source": [
    "#hide_input\n",
    "update = summary['updated']\n",
    "cases = summary['Cases']\n",
    "new = summary['Cases (+)']\n",
    "deaths = summary['Deaths']\n",
    "dnew = summary['Deaths (+)']\n",
    "\n",
    "html = HTML(overview.format(update=update, cases=cases,new=new,deaths=deaths,dnew=dnew))\n",
    "\n",
    "display(html)"
   ]
  },
  {
   "cell_type": "code",
   "execution_count": 17,
   "id": "sealed-reset",
   "metadata": {
    "execution": {
     "iopub.execute_input": "2021-05-13T11:48:11.268109Z",
     "iopub.status.busy": "2021-05-13T11:48:11.267331Z",
     "iopub.status.idle": "2021-05-13T11:48:11.275293Z",
     "shell.execute_reply": "2021-05-13T11:48:11.274772Z"
    },
    "papermill": {
     "duration": 0.037039,
     "end_time": "2021-05-13T11:48:11.275434",
     "exception": false,
     "start_time": "2021-05-13T11:48:11.238395",
     "status": "completed"
    },
    "tags": []
   },
   "outputs": [],
   "source": [
    "#hide\n",
    "dt_cols = list(dft_cases.columns[1:])\n",
    "dft_ct_new_cases = dft_cases.groupby('state')[dt_cols].sum().diff(axis=1).fillna(0).astype(int)\n",
    "dft_ct_new_cases.sort_values(by = dates[-1], ascending = False,inplace = True)"
   ]
  },
  {
   "cell_type": "code",
   "execution_count": 18,
   "id": "designed-constant",
   "metadata": {
    "execution": {
     "iopub.execute_input": "2021-05-13T11:48:11.340729Z",
     "iopub.status.busy": "2021-05-13T11:48:11.339950Z",
     "iopub.status.idle": "2021-05-13T11:48:11.342795Z",
     "shell.execute_reply": "2021-05-13T11:48:11.343381Z"
    },
    "papermill": {
     "duration": 0.045018,
     "end_time": "2021-05-13T11:48:11.343588",
     "exception": false,
     "start_time": "2021-05-13T11:48:11.298570",
     "status": "completed"
    },
    "tags": []
   },
   "outputs": [
    {
     "data": {
      "text/html": [
       "<div>\n",
       "<style scoped>\n",
       "    .dataframe tbody tr th:only-of-type {\n",
       "        vertical-align: middle;\n",
       "    }\n",
       "\n",
       "    .dataframe tbody tr th {\n",
       "        vertical-align: top;\n",
       "    }\n",
       "\n",
       "    .dataframe thead th {\n",
       "        text-align: right;\n",
       "    }\n",
       "</style>\n",
       "<table border=\"1\" class=\"dataframe\">\n",
       "  <thead>\n",
       "    <tr style=\"text-align: right;\">\n",
       "      <th>states</th>\n",
       "      <th>2020-07-01</th>\n",
       "      <th>2020-07-02</th>\n",
       "      <th>2020-07-03</th>\n",
       "      <th>2020-07-04</th>\n",
       "      <th>2020-07-05</th>\n",
       "      <th>2020-07-06</th>\n",
       "      <th>2020-07-07</th>\n",
       "      <th>2020-07-08</th>\n",
       "      <th>2020-07-09</th>\n",
       "      <th>2020-07-10</th>\n",
       "      <th>...</th>\n",
       "      <th>2021-05-04</th>\n",
       "      <th>2021-05-05</th>\n",
       "      <th>2021-05-06</th>\n",
       "      <th>2021-05-07</th>\n",
       "      <th>2021-05-08</th>\n",
       "      <th>2021-05-09</th>\n",
       "      <th>2021-05-10</th>\n",
       "      <th>2021-05-11</th>\n",
       "      <th>2021-05-12</th>\n",
       "      <th>2021-05-13</th>\n",
       "    </tr>\n",
       "    <tr>\n",
       "      <th>state</th>\n",
       "      <th></th>\n",
       "      <th></th>\n",
       "      <th></th>\n",
       "      <th></th>\n",
       "      <th></th>\n",
       "      <th></th>\n",
       "      <th></th>\n",
       "      <th></th>\n",
       "      <th></th>\n",
       "      <th></th>\n",
       "      <th></th>\n",
       "      <th></th>\n",
       "      <th></th>\n",
       "      <th></th>\n",
       "      <th></th>\n",
       "      <th></th>\n",
       "      <th></th>\n",
       "      <th></th>\n",
       "      <th></th>\n",
       "      <th></th>\n",
       "      <th></th>\n",
       "    </tr>\n",
       "  </thead>\n",
       "  <tbody>\n",
       "    <tr>\n",
       "      <th>Uttar Pradesh</th>\n",
       "      <td>0</td>\n",
       "      <td>769</td>\n",
       "      <td>972</td>\n",
       "      <td>757</td>\n",
       "      <td>1153</td>\n",
       "      <td>929</td>\n",
       "      <td>1332</td>\n",
       "      <td>1188</td>\n",
       "      <td>1206</td>\n",
       "      <td>1338</td>\n",
       "      <td>...</td>\n",
       "      <td>25770</td>\n",
       "      <td>31111</td>\n",
       "      <td>26622</td>\n",
       "      <td>27763</td>\n",
       "      <td>26636</td>\n",
       "      <td>23175</td>\n",
       "      <td>21277</td>\n",
       "      <td>20445</td>\n",
       "      <td>18023</td>\n",
       "      <td>17745</td>\n",
       "    </tr>\n",
       "    <tr>\n",
       "      <th>Odisha</th>\n",
       "      <td>0</td>\n",
       "      <td>229</td>\n",
       "      <td>561</td>\n",
       "      <td>495</td>\n",
       "      <td>469</td>\n",
       "      <td>456</td>\n",
       "      <td>571</td>\n",
       "      <td>527</td>\n",
       "      <td>577</td>\n",
       "      <td>755</td>\n",
       "      <td>...</td>\n",
       "      <td>8216</td>\n",
       "      <td>9889</td>\n",
       "      <td>10521</td>\n",
       "      <td>12238</td>\n",
       "      <td>11807</td>\n",
       "      <td>10635</td>\n",
       "      <td>10031</td>\n",
       "      <td>9793</td>\n",
       "      <td>10982</td>\n",
       "      <td>10649</td>\n",
       "    </tr>\n",
       "    <tr>\n",
       "      <th>Delhi</th>\n",
       "      <td>0</td>\n",
       "      <td>2373</td>\n",
       "      <td>2520</td>\n",
       "      <td>2505</td>\n",
       "      <td>2244</td>\n",
       "      <td>1379</td>\n",
       "      <td>2008</td>\n",
       "      <td>2033</td>\n",
       "      <td>2187</td>\n",
       "      <td>2089</td>\n",
       "      <td>...</td>\n",
       "      <td>19953</td>\n",
       "      <td>20960</td>\n",
       "      <td>19133</td>\n",
       "      <td>19832</td>\n",
       "      <td>17364</td>\n",
       "      <td>13336</td>\n",
       "      <td>12651</td>\n",
       "      <td>12481</td>\n",
       "      <td>13287</td>\n",
       "      <td>10489</td>\n",
       "    </tr>\n",
       "    <tr>\n",
       "      <th>Puducherry</th>\n",
       "      <td>0</td>\n",
       "      <td>63</td>\n",
       "      <td>22</td>\n",
       "      <td>80</td>\n",
       "      <td>42</td>\n",
       "      <td>65</td>\n",
       "      <td>30</td>\n",
       "      <td>110</td>\n",
       "      <td>49</td>\n",
       "      <td>72</td>\n",
       "      <td>...</td>\n",
       "      <td>1138</td>\n",
       "      <td>1819</td>\n",
       "      <td>1510</td>\n",
       "      <td>1746</td>\n",
       "      <td>1703</td>\n",
       "      <td>1633</td>\n",
       "      <td>1266</td>\n",
       "      <td>2049</td>\n",
       "      <td>2007</td>\n",
       "      <td>1942</td>\n",
       "    </tr>\n",
       "    <tr>\n",
       "      <th>Tripura</th>\n",
       "      <td>0</td>\n",
       "      <td>39</td>\n",
       "      <td>93</td>\n",
       "      <td>25</td>\n",
       "      <td>23</td>\n",
       "      <td>111</td>\n",
       "      <td>24</td>\n",
       "      <td>57</td>\n",
       "      <td>16</td>\n",
       "      <td>142</td>\n",
       "      <td>...</td>\n",
       "      <td>271</td>\n",
       "      <td>240</td>\n",
       "      <td>300</td>\n",
       "      <td>315</td>\n",
       "      <td>359</td>\n",
       "      <td>351</td>\n",
       "      <td>133</td>\n",
       "      <td>466</td>\n",
       "      <td>416</td>\n",
       "      <td>480</td>\n",
       "    </tr>\n",
       "  </tbody>\n",
       "</table>\n",
       "<p>5 rows × 317 columns</p>\n",
       "</div>"
      ],
      "text/plain": [
       "states         2020-07-01  2020-07-02  2020-07-03  2020-07-04  2020-07-05  \\\n",
       "state                                                                       \n",
       "Uttar Pradesh           0         769         972         757        1153   \n",
       "Odisha                  0         229         561         495         469   \n",
       "Delhi                   0        2373        2520        2505        2244   \n",
       "Puducherry              0          63          22          80          42   \n",
       "Tripura                 0          39          93          25          23   \n",
       "\n",
       "states         2020-07-06  2020-07-07  2020-07-08  2020-07-09  2020-07-10  \\\n",
       "state                                                                       \n",
       "Uttar Pradesh         929        1332        1188        1206        1338   \n",
       "Odisha                456         571         527         577         755   \n",
       "Delhi                1379        2008        2033        2187        2089   \n",
       "Puducherry             65          30         110          49          72   \n",
       "Tripura               111          24          57          16         142   \n",
       "\n",
       "states         ...  2021-05-04  2021-05-05  2021-05-06  2021-05-07  \\\n",
       "state          ...                                                   \n",
       "Uttar Pradesh  ...       25770       31111       26622       27763   \n",
       "Odisha         ...        8216        9889       10521       12238   \n",
       "Delhi          ...       19953       20960       19133       19832   \n",
       "Puducherry     ...        1138        1819        1510        1746   \n",
       "Tripura        ...         271         240         300         315   \n",
       "\n",
       "states         2021-05-08  2021-05-09  2021-05-10  2021-05-11  2021-05-12  \\\n",
       "state                                                                       \n",
       "Uttar Pradesh       26636       23175       21277       20445       18023   \n",
       "Odisha              11807       10635       10031        9793       10982   \n",
       "Delhi               17364       13336       12651       12481       13287   \n",
       "Puducherry           1703        1633        1266        2049        2007   \n",
       "Tripura               359         351         133         466         416   \n",
       "\n",
       "states         2021-05-13  \n",
       "state                      \n",
       "Uttar Pradesh       17745  \n",
       "Odisha              10649  \n",
       "Delhi               10489  \n",
       "Puducherry           1942  \n",
       "Tripura               480  \n",
       "\n",
       "[5 rows x 317 columns]"
      ]
     },
     "execution_count": 18,
     "metadata": {},
     "output_type": "execute_result"
    }
   ],
   "source": [
    "#hide\n",
    "dft_ct_new_cases.head()"
   ]
  },
  {
   "cell_type": "code",
   "execution_count": 19,
   "id": "responsible-nightlife",
   "metadata": {
    "execution": {
     "iopub.execute_input": "2021-05-13T11:48:11.420974Z",
     "iopub.status.busy": "2021-05-13T11:48:11.405341Z",
     "iopub.status.idle": "2021-05-13T11:48:27.161499Z",
     "shell.execute_reply": "2021-05-13T11:48:27.162200Z"
    },
    "papermill": {
     "duration": 15.794638,
     "end_time": "2021-05-13T11:48:27.162391",
     "exception": false,
     "start_time": "2021-05-13T11:48:11.367753",
     "status": "completed"
    },
    "tags": []
   },
   "outputs": [
    {
     "data": {
      "image/png": "[encoded data removed]",
      "text/plain": [
       "<Figure size 1296x2016 with 11 Axes>"
      ]
     },
     "metadata": {
      "needs_background": "light"
     },
     "output_type": "display_data"
    }
   ],
   "source": [
    "#hide_input\n",
    "df = dft_ct_new_cases.copy()\n",
    "df.loc['Total'] = df.sum()\n",
    "n = 5\n",
    "ax = []\n",
    "fig = plt.figure(figsize = (18,28))\n",
    "gs = fig.add_gridspec(n+2, 5)\n",
    "# gs = fig.add_gridspec(2, 3)\n",
    "ax1 = fig.add_subplot(gs[0, :])\n",
    "ef = df.loc['Total'].rename_axis('date').reset_index()\n",
    "ef['date'] = ef['date'].astype('datetime64[ns]')\n",
    "ax1.bar(ef.date,ef.Total,alpha=0.3,color='#007acc')\n",
    "ax1.plot(ef.date,ef.Total , marker=\"o\", color='#007acc')\n",
    "ax1.xaxis.set_major_locator(mdates.WeekdayLocator())\n",
    "ax1.xaxis.set_major_formatter(mdates.DateFormatter('%b %d'))\n",
    "ax1.text(0.02, 0.5,'India daily case count', transform = ax1.transAxes, fontsize=25);\n",
    "ax1.spines['right'].set_visible(False)\n",
    "ax1.spines['top'].set_visible(False)\n",
    "\n",
    "ax2 = fig.add_subplot(gs[1,0])\n",
    "ef = df.loc['Maharashtra'].rename_axis('date').reset_index()\n",
    "ef['date'] = ef['date'].astype('datetime64[ns]')\n",
    "\n",
    "ax2.bar(ef.date, ef.Maharashtra,color = '#007acc',alpha=0.5)\n",
    "ax2.xaxis.set_major_locator(mdates.WeekdayLocator())\n",
    "ax2.xaxis.set_major_formatter(mdates.DateFormatter('%b %d'))\n",
    "ax2.set_xticks(ax2.get_xticks()[::3])\n",
    "maxyval = ef.Maharashtra.max()\n",
    "ax2.set_ylim([0,maxyval])\n",
    "ax2.text(0.05, 0.9,'Maharashtra', transform = ax2.transAxes, fontsize=20);\n",
    "ax2.spines['right'].set_visible(False)\n",
    "ax2.spines['top'].set_visible(False)\n",
    "\n",
    "\n",
    "ax3 = fig.add_subplot(gs[1,1])\n",
    "ef = df.loc['Tamil Nadu'].rename_axis('date').reset_index()\n",
    "ef['date'] = ef['date'].astype('datetime64[ns]')\n",
    "ax3.bar(ef.date, ef['Tamil Nadu'],color = '#007acc',alpha=0.5,)\n",
    "ax3.xaxis.set_major_locator(mdates.WeekdayLocator())\n",
    "ax3.xaxis.set_major_formatter(mdates.DateFormatter('%b %d'))\n",
    "ax3.set_xticks(ax3.get_xticks()[::3])\n",
    "ax3.text(0.05, 0.9,'Tamil Nadu', transform = ax3.transAxes, fontsize=20);\n",
    "ax3.spines['right'].set_visible(False)\n",
    "ax3.spines['top'].set_visible(False)\n",
    "\n",
    "ax5 = fig.add_subplot(gs[1,3])\n",
    "ef = df.loc['Telangana'].rename_axis('date').reset_index()\n",
    "ef['date'] = ef['date'].astype('datetime64[ns]')\n",
    "ax5.bar(ef.date, ef['Telangana'],color = '#007acc',alpha=0.5,)\n",
    "ax5.xaxis.set_major_locator(mdates.WeekdayLocator())\n",
    "ax5.xaxis.set_major_formatter(mdates.DateFormatter('%b %d'))\n",
    "ax5.set_xticks(ax5.get_xticks()[::3])\n",
    "ax5.text(0.05, 0.9,'Telangana', transform = ax5.transAxes, fontsize=20);\n",
    "ax5.spines['right'].set_visible(False)\n",
    "ax5.spines['top'].set_visible(False)\n",
    "\n",
    "ax6 = fig.add_subplot(gs[1,4])\n",
    "ef = df.loc['Andhra Pradesh'].rename_axis('date').reset_index()\n",
    "ef['date'] = ef['date'].astype('datetime64[ns]')\n",
    "ax6.bar(ef.date, ef['Andhra Pradesh'],color = '#007acc',alpha=0.5,)\n",
    "ax6.xaxis.set_major_locator(mdates.WeekdayLocator())\n",
    "ax6.xaxis.set_major_formatter(mdates.DateFormatter('%b %d'))\n",
    "ax6.set_xticks(ax6.get_xticks()[::3])\n",
    "ax6.text(0.05, 1,'Andhra Pradesh', transform = ax6.transAxes, fontsize=20);\n",
    "ax6.spines['right'].set_visible(False)\n",
    "ax6.spines['top'].set_visible(False)\n",
    "\n",
    "ax4 = fig.add_subplot(gs[1,2])\n",
    "ef = df.loc['Delhi'].rename_axis('date').reset_index()\n",
    "ef['date'] = ef['date'].astype('datetime64[ns]')\n",
    "ax4.bar(ef.date, ef.Delhi,color = '#007acc',alpha=0.5)\n",
    "ax4.set_xticks([])\n",
    "ax4.xaxis.set_major_locator(mdates.WeekdayLocator())\n",
    "ax4.xaxis.set_major_formatter(mdates.DateFormatter('%b %d'))\n",
    "ax4.set_xticks(ax4.get_xticks()[::3])\n",
    "ax4.spines['right'].set_visible(False)\n",
    "ax4.spines['top'].set_visible(False)\n",
    "\n",
    "ax4.text(0.05, 1,'Delhi', transform = ax4.transAxes, fontsize=20)\n",
    "\n",
    "for i in range(n):\n",
    "    \n",
    "    ax.append(fig.add_subplot(gs[i+2,:]))\n",
    "    ef = df.iloc[i+3].rename_axis('date').reset_index()\n",
    "    ef['date'] = ef['date'].astype('datetime64[ns]')\n",
    "    ax[i].bar(ef.date,ef.iloc[:,-1],color = '#007acc',alpha=0.3)\n",
    "    ax[i].plot(ef.date,ef.iloc[:,-1],marker='o',color='#007acc')\n",
    "    ax[i].text(0.02,0.5,f'{ef.columns.values[-1]}',transform = ax[i].transAxes, fontsize = 20);\n",
    "    ax[i].xaxis.set_major_locator(mdates.WeekdayLocator())\n",
    "    ax[i].xaxis.set_major_formatter(mdates.DateFormatter('%b %d'))\n",
    "    ax[i].set_ylim([0,7000])\n",
    "    ax[i].spines['right'].set_visible(False)\n",
    "    ax[i].spines['top'].set_visible(False)\n",
    "plt.tight_layout()\n"
   ]
  },
  {
   "cell_type": "code",
   "execution_count": 20,
   "id": "dress-forge",
   "metadata": {
    "execution": {
     "iopub.execute_input": "2021-05-13T11:48:27.225873Z",
     "iopub.status.busy": "2021-05-13T11:48:27.225246Z",
     "iopub.status.idle": "2021-05-13T11:48:27.227582Z",
     "shell.execute_reply": "2021-05-13T11:48:27.228138Z"
    },
    "papermill": {
     "duration": 0.040053,
     "end_time": "2021-05-13T11:48:27.228337",
     "exception": false,
     "start_time": "2021-05-13T11:48:27.188284",
     "status": "completed"
    },
    "tags": []
   },
   "outputs": [
    {
     "name": "stdout",
     "output_type": "stream",
     "text": [
      "                                   states    Cases  Deaths   PCases  PDeaths  Cases (+)  Deaths (+)  Fatality Rate\n",
      "                              Maharashtra  5226710   78007  5226710    78007          0           0           1.49\n",
      "                                Karnataka  2053191   20368  2053191    20368          0           0           0.99\n",
      "                                   Kerala  2010935    6054  2010935     6054          0           0           0.30\n",
      "                            Uttar Pradesh  1580980   16646  1563235    16369      17745         277           1.05\n",
      "                               Tamil Nadu  1468864   16471  1468864    16471          0           0           1.12\n",
      "                                    Delhi  1372475   20618  1361986    20310      10489         308           1.50\n",
      "                           Andhra Pradesh  1344386    8988  1344386     8988          0           0           0.67\n",
      "                              West Bengal  1053117   12728  1053117    12728          0           0           1.21\n",
      "                             Chhattisgarh   883210   11094   883210    11094          0           0           1.26\n",
      "                                Rajasthan   805658    6158   805658     6158          0           0           0.76\n",
      "                                  Gujarat   714611    8731   714611     8731          0           0           1.22\n",
      "                           Madhya Pradesh   700202    6679   700202     6679          0           0           0.95\n",
      "                                  Haryana   652742    6075   652742     6075          0           0           0.93\n",
      "                                    Bihar   622433    3503   622433     3503          0           0           0.56\n",
      "                                   Odisha   576297    2304   565648     2285      10649          19           0.40\n",
      "                                Telangana   511711    2834   511711     2834          0           0           0.55\n",
      "                                   Punjab   467539   11111   467539    11111          0           0           2.38\n",
      "                                    Assam   310086    1909   310086     1909          0           0           0.62\n",
      "                                Jharkhand   301257    4182   301257     4182          0           0           1.39\n",
      "                              Uttarakhand   264683    4123   264683     4123          0           0           1.56\n",
      "                        Jammu and Kashmir   229407    2912   229407     2912          0           0           1.27\n",
      "                         Himachal Pradesh   145736    2055   145736     2055          0           0           1.41\n",
      "                                      Goa   127639    1874   127639     1874          0           0           1.47\n",
      "                               Puducherry    78973    1069    77031     1045       1942          24           1.35\n",
      "                               Chandigarh    52633     599    52633      599          0           0           1.14\n",
      "                                  Tripura    39051     421    38571      419        480           2           1.08\n",
      "                                  Manipur    37036     526    37036      526          0           0           1.42\n",
      "                                Meghalaya    20985     250    20985      250          0           0           1.19\n",
      "                        Arunachal Pradesh    20854      69    20854       69          0           0           0.33\n",
      "                                 Nagaland    16890     165    16890      165          0           0           0.98\n",
      "                                   Ladakh    15807     158    15807      158          0           0           1.00\n",
      "                                   Sikkim    10623     192    10392      183        231           9           1.81\n",
      " Dadra and Nagar Haveli and Daman and Diu     9332       4     9332        4          0           0           0.04\n",
      "                                  Mizoram     8176      23     8035       23        141           0           0.28\n",
      "              Andaman and Nicobar Islands     6470      81     6470       81          0           0           1.25\n",
      "                              Lakshadweep     4202      11     4202       11          0           0           0.26\n"
     ]
    }
   ],
   "source": [
    "#hide_input\n",
    "print(df_table.to_string(index=False))"
   ]
  },
  {
   "cell_type": "code",
   "execution_count": null,
   "id": "quantitative-legend",
   "metadata": {
    "papermill": {
     "duration": 0.026765,
     "end_time": "2021-05-13T11:48:27.283988",
     "exception": false,
     "start_time": "2021-05-13T11:48:27.257223",
     "status": "completed"
    },
    "tags": []
   },
   "outputs": [],
   "source": []
  },
  {
   "cell_type": "code",
   "execution_count": null,
   "id": "distant-acoustic",
   "metadata": {
    "papermill": {
     "duration": 0.027949,
     "end_time": "2021-05-13T11:48:27.339781",
     "exception": false,
     "start_time": "2021-05-13T11:48:27.311832",
     "status": "completed"
    },
    "tags": []
   },
   "outputs": [],
   "source": []
  }
 ],
 "metadata": {
  "kernelspec": {
   "display_name": "Python 3",
   "language": "python",
   "name": "python3"
  },
  "language_info": {
   "codemirror_mode": {
    "name": "ipython",
    "version": 3
   },
   "file_extension": ".py",
   "mimetype": "text/x-python",
   "name": "python",
   "nbconvert_exporter": "python",
   "pygments_lexer": "ipython3",
   "version": "3.6.13"
  },
  "papermill": {
   "duration": 33.375444,
   "end_time": "2021-05-13T11:48:29.028833",
   "environment_variables": {},
   "exception": null,
   "input_path": "latest.ipynb",
   "output_path": "latest.ipynb",
   "parameters": {},
   "start_time": "2021-05-13T11:47:55.653389",
   "version": "2.1.2"
  }
 },
 "nbformat": 4,
 "nbformat_minor": 5
}