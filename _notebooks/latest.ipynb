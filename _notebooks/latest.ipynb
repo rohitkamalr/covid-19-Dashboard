{
 "cells": [
  {
   "cell_type": "markdown",
   "metadata": {
    "papermill": {
     "duration": 0.0169,
     "end_time": "2020-08-11T04:18:29.793825",
     "exception": false,
     "start_time": "2020-08-11T04:18:29.776925",
     "status": "completed"
    },
    "tags": []
   },
   "source": [
    "# Latest COVID-19 India Matplotlib Overview"
   ]
  },
  {
   "cell_type": "code",
   "execution_count": 1,
   "metadata": {
    "execution": {
     "iopub.execute_input": "2020-08-11T04:18:29.827438Z",
     "iopub.status.busy": "2020-08-11T04:18:29.826843Z",
     "iopub.status.idle": "2020-08-11T04:18:30.348503Z",
     "shell.execute_reply": "2020-08-11T04:18:30.349067Z"
    },
    "papermill": {
     "duration": 0.541108,
     "end_time": "2020-08-11T04:18:30.349246",
     "exception": false,
     "start_time": "2020-08-11T04:18:29.808138",
     "status": "completed"
    },
    "tags": []
   },
   "outputs": [],
   "source": [
    "#hide\n",
    "import pandas as pd\n",
    "import numpy as np\n",
    "import requests\n",
    "import json\n",
    "import matplotlib.pyplot as plt\n",
    "import matplotlib.dates as mdates\n",
    "import matplotlib as mpl\n",
    "from IPython.core.display import display,HTML\n",
    "%matplotlib inline\n",
    "from datetime import date"
   ]
  },
  {
   "cell_type": "code",
   "execution_count": 2,
   "metadata": {
    "execution": {
     "iopub.execute_input": "2020-08-11T04:18:30.384150Z",
     "iopub.status.busy": "2020-08-11T04:18:30.383313Z",
     "iopub.status.idle": "2020-08-11T04:18:30.471503Z",
     "shell.execute_reply": "2020-08-11T04:18:30.470583Z"
    },
    "papermill": {
     "duration": 0.107811,
     "end_time": "2020-08-11T04:18:30.471634",
     "exception": false,
     "start_time": "2020-08-11T04:18:30.363823",
     "status": "completed"
    },
    "tags": []
   },
   "outputs": [],
   "source": [
    "#hide\n",
    "df  = pd.read_csv('https://api.covid19india.org/csv/latest/states.csv')\n",
    "df = df[['Date','State','Confirmed','Deceased']]\n",
    "df = df.rename(columns={'Confirmed':'Cases', \"Deceased\":'Deaths'})\n",
    "df_cases = df[[\"Date\",'State','Cases']]\n",
    "df_deaths = df[['Date','State','Deaths']]\n",
    "df_cases1 = df_cases.groupby('Date')\n",
    "df_deaths1= df_deaths.groupby('Date')"
   ]
  },
  {
   "cell_type": "code",
   "execution_count": 3,
   "metadata": {
    "execution": {
     "iopub.execute_input": "2020-08-11T04:18:30.504697Z",
     "iopub.status.busy": "2020-08-11T04:18:30.504145Z",
     "iopub.status.idle": "2020-08-11T04:18:30.519892Z",
     "shell.execute_reply": "2020-08-11T04:18:30.519306Z"
    },
    "papermill": {
     "duration": 0.034365,
     "end_time": "2020-08-11T04:18:30.520004",
     "exception": false,
     "start_time": "2020-08-11T04:18:30.485639",
     "status": "completed"
    },
    "tags": []
   },
   "outputs": [],
   "source": [
    "#hide\n",
    "df_snap = pd.read_csv('data/SnapshotCases-28-July.csv')\n",
    "arr_states = df_snap['states'].unique()\n",
    "arr_dates = df['Date'].unique()\n",
    "df_snap = df_snap.set_index('states')"
   ]
  },
  {
   "cell_type": "code",
   "execution_count": 4,
   "metadata": {
    "execution": {
     "iopub.execute_input": "2020-08-11T04:18:30.554024Z",
     "iopub.status.busy": "2020-08-11T04:18:30.553462Z",
     "iopub.status.idle": "2020-08-11T04:18:30.556770Z",
     "shell.execute_reply": "2020-08-11T04:18:30.556180Z"
    },
    "papermill": {
     "duration": 0.02294,
     "end_time": "2020-08-11T04:18:30.556922",
     "exception": false,
     "start_time": "2020-08-11T04:18:30.533982",
     "status": "completed"
    },
    "tags": []
   },
   "outputs": [
    {
     "data": {
      "text/plain": [
       "array(['Andaman and Nicobar Islands', 'Andhra Pradesh',\n",
       "       'Arunachal Pradesh', 'Assam', 'Bihar', 'Chandigarh',\n",
       "       'Dadra and Nagar Haveli and Daman and Diu', 'Delhi', 'Goa',\n",
       "       'Gujarat', 'Haryana', 'Himachal Pradesh', 'Jammu and Kashmir',\n",
       "       'Jharkhand', 'Karnataka', 'Kerala', 'Lakshadweep',\n",
       "       'Madhya Pradesh', 'Maharashtra', 'Manipur', 'Meghalaya', 'Mizoram',\n",
       "       'Nagaland', 'Odisha', 'Puducherry', 'Punjab', 'Rajasthan',\n",
       "       'Sikkim', 'Tamil Nadu', 'Telangana', 'Tripura', 'Uttar Pradesh',\n",
       "       'West Bengal', 'Chhattisgarh', 'Ladakh', 'Uttarakhand'],\n",
       "      dtype=object)"
      ]
     },
     "execution_count": 4,
     "metadata": {},
     "output_type": "execute_result"
    }
   ],
   "source": [
    "#hide\n",
    "arr_states[-9] = 'Puducherry'\n",
    "arr_states[-10] = 'Odisha'\n",
    "arr_states[6] = 'Dadra and Nagar Haveli and Daman and Diu'\n",
    "arr_states = np.append(arr_states,np.array(['Chhattisgarh','Ladakh','Uttarakhand']))\n",
    "arr_states"
   ]
  },
  {
   "cell_type": "code",
   "execution_count": 5,
   "metadata": {
    "execution": {
     "iopub.execute_input": "2020-08-11T04:18:30.597111Z",
     "iopub.status.busy": "2020-08-11T04:18:30.596569Z",
     "iopub.status.idle": "2020-08-11T04:18:30.599542Z",
     "shell.execute_reply": "2020-08-11T04:18:30.599008Z"
    },
    "papermill": {
     "duration": 0.028577,
     "end_time": "2020-08-11T04:18:30.599675",
     "exception": false,
     "start_time": "2020-08-11T04:18:30.571098",
     "status": "completed"
    },
    "tags": []
   },
   "outputs": [],
   "source": [
    "#hide\n",
    "dates = []\n",
    "for i in arr_dates:\n",
    "    if i>='2020-07-01':\n",
    "        dates.append(i)\n",
    "dict = {'states':dates}\n",
    "for i in arr_states:\n",
    "    dict[i] = [0]*len(dates)\n",
    "dft_cases = pd.DataFrame(dict)\n",
    "dft_deaths = pd.DataFrame(dict)\n"
   ]
  },
  {
   "cell_type": "code",
   "execution_count": 6,
   "metadata": {
    "execution": {
     "iopub.execute_input": "2020-08-11T04:18:30.633528Z",
     "iopub.status.busy": "2020-08-11T04:18:30.632954Z",
     "iopub.status.idle": "2020-08-11T04:18:31.264752Z",
     "shell.execute_reply": "2020-08-11T04:18:31.264278Z"
    },
    "papermill": {
     "duration": 0.651059,
     "end_time": "2020-08-11T04:18:31.264889",
     "exception": false,
     "start_time": "2020-08-11T04:18:30.613830",
     "status": "completed"
    },
    "tags": []
   },
   "outputs": [],
   "source": [
    "#hide\n",
    "for i in range(len(dates)):\n",
    "    df1_deaths = df_deaths1.get_group(dates[i])\n",
    "    for j in range(len(df1_deaths.index)):\n",
    "        if df1_deaths.iloc[j,1] in arr_states:\n",
    "            dft_deaths.loc[i,df1_deaths.iloc[j,1]] = df1_deaths.iloc[j,2]\n",
    "dft_deaths = dft_deaths.set_index('states')"
   ]
  },
  {
   "cell_type": "code",
   "execution_count": 7,
   "metadata": {
    "execution": {
     "iopub.execute_input": "2020-08-11T04:18:31.300313Z",
     "iopub.status.busy": "2020-08-11T04:18:31.299758Z",
     "iopub.status.idle": "2020-08-11T04:18:31.930231Z",
     "shell.execute_reply": "2020-08-11T04:18:31.929732Z"
    },
    "papermill": {
     "duration": 0.650732,
     "end_time": "2020-08-11T04:18:31.930361",
     "exception": false,
     "start_time": "2020-08-11T04:18:31.279629",
     "status": "completed"
    },
    "tags": []
   },
   "outputs": [],
   "source": [
    "#hide\n",
    "for i in range(len(dates)):\n",
    "    df1_cases = df_cases1.get_group(dates[i])\n",
    "    for j in range(len(df1_cases.index)):\n",
    "        if df1_cases.iloc[j,1] in arr_states:\n",
    "            dft_cases.loc[i,df1_cases.iloc[j,1]] = df1_cases.iloc[j,2]\n",
    "dft_cases = dft_cases.set_index('states')"
   ]
  },
  {
   "cell_type": "code",
   "execution_count": 8,
   "metadata": {
    "execution": {
     "iopub.execute_input": "2020-08-11T04:18:31.964867Z",
     "iopub.status.busy": "2020-08-11T04:18:31.964273Z",
     "iopub.status.idle": "2020-08-11T04:18:31.967602Z",
     "shell.execute_reply": "2020-08-11T04:18:31.968021Z"
    },
    "papermill": {
     "duration": 0.023006,
     "end_time": "2020-08-11T04:18:31.968143",
     "exception": false,
     "start_time": "2020-08-11T04:18:31.945137",
     "status": "completed"
    },
    "tags": []
   },
   "outputs": [],
   "source": [
    "#hide\n",
    "dft_cases = dft_cases.T\n",
    "dft_deaths = dft_deaths.T\n",
    "dt_today = dates[-1]\n",
    "dt_yday = dates[-2]"
   ]
  },
  {
   "cell_type": "code",
   "execution_count": 9,
   "metadata": {
    "execution": {
     "iopub.execute_input": "2020-08-11T04:18:32.003375Z",
     "iopub.status.busy": "2020-08-11T04:18:32.002814Z",
     "iopub.status.idle": "2020-08-11T04:18:32.005861Z",
     "shell.execute_reply": "2020-08-11T04:18:32.005318Z"
    },
    "papermill": {
     "duration": 0.023794,
     "end_time": "2020-08-11T04:18:32.005974",
     "exception": false,
     "start_time": "2020-08-11T04:18:31.982180",
     "status": "completed"
    },
    "tags": []
   },
   "outputs": [],
   "source": [
    "#hide\n",
    "dft_cases = dft_cases.reset_index()\n",
    "dft_deaths = dft_deaths.reset_index()\n",
    "dft_cases = dft_cases.rename(columns = {'index':'state'})\n",
    "dft_deaths = dft_deaths.rename(columns = {'index':'state'})"
   ]
  },
  {
   "cell_type": "code",
   "execution_count": 10,
   "metadata": {
    "execution": {
     "iopub.execute_input": "2020-08-11T04:18:32.050958Z",
     "iopub.status.busy": "2020-08-11T04:18:32.050321Z",
     "iopub.status.idle": "2020-08-11T04:18:32.053407Z",
     "shell.execute_reply": "2020-08-11T04:18:32.053918Z"
    },
    "papermill": {
     "duration": 0.032834,
     "end_time": "2020-08-11T04:18:32.054058",
     "exception": false,
     "start_time": "2020-08-11T04:18:32.021224",
     "status": "completed"
    },
    "tags": []
   },
   "outputs": [],
   "source": [
    "#hide\n",
    "dfc_cases = dft_cases.groupby('state')[dt_today].sum()\n",
    "dfc_deaths = dft_deaths.groupby('state')[dt_today].sum()\n",
    "dfp_cases = dft_cases.groupby('state')[dt_yday].sum()\n",
    "dfp_deaths = dft_deaths.groupby('state')[dt_yday].sum()"
   ]
  },
  {
   "cell_type": "code",
   "execution_count": 11,
   "metadata": {
    "execution": {
     "iopub.execute_input": "2020-08-11T04:18:32.100131Z",
     "iopub.status.busy": "2020-08-11T04:18:32.099537Z",
     "iopub.status.idle": "2020-08-11T04:18:32.113686Z",
     "shell.execute_reply": "2020-08-11T04:18:32.113211Z"
    },
    "papermill": {
     "duration": 0.042381,
     "end_time": "2020-08-11T04:18:32.113804",
     "exception": false,
     "start_time": "2020-08-11T04:18:32.071423",
     "status": "completed"
    },
    "tags": []
   },
   "outputs": [
    {
     "data": {
      "text/html": [
       "<div>\n",
       "<style scoped>\n",
       "    .dataframe tbody tr th:only-of-type {\n",
       "        vertical-align: middle;\n",
       "    }\n",
       "\n",
       "    .dataframe tbody tr th {\n",
       "        vertical-align: top;\n",
       "    }\n",
       "\n",
       "    .dataframe thead th {\n",
       "        text-align: right;\n",
       "    }\n",
       "</style>\n",
       "<table border=\"1\" class=\"dataframe\">\n",
       "  <thead>\n",
       "    <tr style=\"text-align: right;\">\n",
       "      <th></th>\n",
       "      <th>states</th>\n",
       "      <th>Cases</th>\n",
       "      <th>Deaths</th>\n",
       "      <th>PCases</th>\n",
       "      <th>PDeaths</th>\n",
       "    </tr>\n",
       "  </thead>\n",
       "  <tbody>\n",
       "    <tr>\n",
       "      <th>0</th>\n",
       "      <td>Maharashtra</td>\n",
       "      <td>524513</td>\n",
       "      <td>18050</td>\n",
       "      <td>524513</td>\n",
       "      <td>18050</td>\n",
       "    </tr>\n",
       "    <tr>\n",
       "      <th>1</th>\n",
       "      <td>Tamil Nadu</td>\n",
       "      <td>302815</td>\n",
       "      <td>5041</td>\n",
       "      <td>302815</td>\n",
       "      <td>5041</td>\n",
       "    </tr>\n",
       "    <tr>\n",
       "      <th>2</th>\n",
       "      <td>Andhra Pradesh</td>\n",
       "      <td>235525</td>\n",
       "      <td>2116</td>\n",
       "      <td>235525</td>\n",
       "      <td>2116</td>\n",
       "    </tr>\n",
       "    <tr>\n",
       "      <th>3</th>\n",
       "      <td>Karnataka</td>\n",
       "      <td>182354</td>\n",
       "      <td>3312</td>\n",
       "      <td>182354</td>\n",
       "      <td>3312</td>\n",
       "    </tr>\n",
       "    <tr>\n",
       "      <th>4</th>\n",
       "      <td>Delhi</td>\n",
       "      <td>146134</td>\n",
       "      <td>4131</td>\n",
       "      <td>146134</td>\n",
       "      <td>4131</td>\n",
       "    </tr>\n",
       "  </tbody>\n",
       "</table>\n",
       "</div>"
      ],
      "text/plain": [
       "           states   Cases  Deaths  PCases  PDeaths\n",
       "0     Maharashtra  524513   18050  524513    18050\n",
       "1      Tamil Nadu  302815    5041  302815     5041\n",
       "2  Andhra Pradesh  235525    2116  235525     2116\n",
       "3       Karnataka  182354    3312  182354     3312\n",
       "4           Delhi  146134    4131  146134     4131"
      ]
     },
     "execution_count": 11,
     "metadata": {},
     "output_type": "execute_result"
    }
   ],
   "source": [
    "#hide\n",
    "df_table = pd.DataFrame({'states': dfc_cases.index, 'Cases': dfc_cases.values, 'Deaths': dfc_deaths.values, 'PCases': dfp_cases.values, 'PDeaths': dfp_deaths.values}).set_index('states')\n",
    "df_table = df_table.sort_values(by = ['Cases','Deaths'], ascending = [False, False])\n",
    "df_table = df_table.reset_index()\n",
    "df_table.head()"
   ]
  },
  {
   "cell_type": "code",
   "execution_count": 12,
   "metadata": {
    "execution": {
     "iopub.execute_input": "2020-08-11T04:18:32.147394Z",
     "iopub.status.busy": "2020-08-11T04:18:32.146837Z",
     "iopub.status.idle": "2020-08-11T04:18:32.154730Z",
     "shell.execute_reply": "2020-08-11T04:18:32.154129Z"
    },
    "papermill": {
     "duration": 0.026697,
     "end_time": "2020-08-11T04:18:32.154844",
     "exception": false,
     "start_time": "2020-08-11T04:18:32.128147",
     "status": "completed"
    },
    "tags": []
   },
   "outputs": [],
   "source": [
    "#hide\n",
    "for c in 'Cases, Deaths'.split(', '):\n",
    "    df_table[f'{c} (+)'] = (df_table[c] - df_table[f'P{c}']).clip(0)\n",
    "df_table['Fatality Rate'] = (100* df_table['Deaths']/ df_table['Cases']).round(2)"
   ]
  },
  {
   "cell_type": "code",
   "execution_count": 13,
   "metadata": {
    "execution": {
     "iopub.execute_input": "2020-08-11T04:18:32.194132Z",
     "iopub.status.busy": "2020-08-11T04:18:32.193563Z",
     "iopub.status.idle": "2020-08-11T04:18:32.196199Z",
     "shell.execute_reply": "2020-08-11T04:18:32.196700Z"
    },
    "papermill": {
     "duration": 0.02697,
     "end_time": "2020-08-11T04:18:32.196818",
     "exception": false,
     "start_time": "2020-08-11T04:18:32.169848",
     "status": "completed"
    },
    "tags": []
   },
   "outputs": [
    {
     "data": {
      "text/html": [
       "<div>\n",
       "<style scoped>\n",
       "    .dataframe tbody tr th:only-of-type {\n",
       "        vertical-align: middle;\n",
       "    }\n",
       "\n",
       "    .dataframe tbody tr th {\n",
       "        vertical-align: top;\n",
       "    }\n",
       "\n",
       "    .dataframe thead th {\n",
       "        text-align: right;\n",
       "    }\n",
       "</style>\n",
       "<table border=\"1\" class=\"dataframe\">\n",
       "  <thead>\n",
       "    <tr style=\"text-align: right;\">\n",
       "      <th></th>\n",
       "      <th>states</th>\n",
       "      <th>Cases</th>\n",
       "      <th>Deaths</th>\n",
       "      <th>PCases</th>\n",
       "      <th>PDeaths</th>\n",
       "      <th>Cases (+)</th>\n",
       "      <th>Deaths (+)</th>\n",
       "      <th>Fatality Rate</th>\n",
       "    </tr>\n",
       "  </thead>\n",
       "  <tbody>\n",
       "    <tr>\n",
       "      <th>0</th>\n",
       "      <td>Maharashtra</td>\n",
       "      <td>524513</td>\n",
       "      <td>18050</td>\n",
       "      <td>524513</td>\n",
       "      <td>18050</td>\n",
       "      <td>0</td>\n",
       "      <td>0</td>\n",
       "      <td>3.44</td>\n",
       "    </tr>\n",
       "    <tr>\n",
       "      <th>1</th>\n",
       "      <td>Tamil Nadu</td>\n",
       "      <td>302815</td>\n",
       "      <td>5041</td>\n",
       "      <td>302815</td>\n",
       "      <td>5041</td>\n",
       "      <td>0</td>\n",
       "      <td>0</td>\n",
       "      <td>1.66</td>\n",
       "    </tr>\n",
       "    <tr>\n",
       "      <th>2</th>\n",
       "      <td>Andhra Pradesh</td>\n",
       "      <td>235525</td>\n",
       "      <td>2116</td>\n",
       "      <td>235525</td>\n",
       "      <td>2116</td>\n",
       "      <td>0</td>\n",
       "      <td>0</td>\n",
       "      <td>0.90</td>\n",
       "    </tr>\n",
       "    <tr>\n",
       "      <th>3</th>\n",
       "      <td>Karnataka</td>\n",
       "      <td>182354</td>\n",
       "      <td>3312</td>\n",
       "      <td>182354</td>\n",
       "      <td>3312</td>\n",
       "      <td>0</td>\n",
       "      <td>0</td>\n",
       "      <td>1.82</td>\n",
       "    </tr>\n",
       "    <tr>\n",
       "      <th>4</th>\n",
       "      <td>Delhi</td>\n",
       "      <td>146134</td>\n",
       "      <td>4131</td>\n",
       "      <td>146134</td>\n",
       "      <td>4131</td>\n",
       "      <td>0</td>\n",
       "      <td>0</td>\n",
       "      <td>2.83</td>\n",
       "    </tr>\n",
       "  </tbody>\n",
       "</table>\n",
       "</div>"
      ],
      "text/plain": [
       "           states   Cases  Deaths  PCases  PDeaths  Cases (+)  Deaths (+)  \\\n",
       "0     Maharashtra  524513   18050  524513    18050          0           0   \n",
       "1      Tamil Nadu  302815    5041  302815     5041          0           0   \n",
       "2  Andhra Pradesh  235525    2116  235525     2116          0           0   \n",
       "3       Karnataka  182354    3312  182354     3312          0           0   \n",
       "4           Delhi  146134    4131  146134     4131          0           0   \n",
       "\n",
       "   Fatality Rate  \n",
       "0           3.44  \n",
       "1           1.66  \n",
       "2           0.90  \n",
       "3           1.82  \n",
       "4           2.83  "
      ]
     },
     "execution_count": 13,
     "metadata": {},
     "output_type": "execute_result"
    }
   ],
   "source": [
    "#hide\n",
    "df_table.head()"
   ]
  },
  {
   "cell_type": "code",
   "execution_count": 14,
   "metadata": {
    "execution": {
     "iopub.execute_input": "2020-08-11T04:18:32.234505Z",
     "iopub.status.busy": "2020-08-11T04:18:32.233918Z",
     "iopub.status.idle": "2020-08-11T04:18:32.251210Z",
     "shell.execute_reply": "2020-08-11T04:18:32.250560Z"
    },
    "papermill": {
     "duration": 0.038166,
     "end_time": "2020-08-11T04:18:32.251379",
     "exception": false,
     "start_time": "2020-08-11T04:18:32.213213",
     "status": "completed"
    },
    "tags": []
   },
   "outputs": [
    {
     "data": {
      "text/plain": [
       "{'updated': '2020-08-11',\n",
       " 'since': '2020-08-10',\n",
       " 'Cases': 2267156,\n",
       " 'PCases': 2267153,\n",
       " 'Deaths': 45353,\n",
       " 'PDeaths': 45353,\n",
       " 'Cases (+)': 3,\n",
       " 'Deaths (+)': 0}"
      ]
     },
     "execution_count": 14,
     "metadata": {},
     "output_type": "execute_result"
    }
   ],
   "source": [
    "#hide\n",
    "summary = {'updated':dates[-1], 'since':dates[-2]}\n",
    "list_names = ['Cases', 'PCases', 'Deaths', 'PDeaths', 'Cases (+)', 'Deaths (+)']\n",
    "for name in list_names:\n",
    "    summary[name] = df_table.sum()[name]\n",
    "summary"
   ]
  },
  {
   "cell_type": "code",
   "execution_count": 15,
   "metadata": {
    "execution": {
     "iopub.execute_input": "2020-08-11T04:18:32.289396Z",
     "iopub.status.busy": "2020-08-11T04:18:32.288803Z",
     "iopub.status.idle": "2020-08-11T04:18:32.291752Z",
     "shell.execute_reply": "2020-08-11T04:18:32.290730Z"
    },
    "papermill": {
     "duration": 0.022985,
     "end_time": "2020-08-11T04:18:32.291874",
     "exception": false,
     "start_time": "2020-08-11T04:18:32.268889",
     "status": "completed"
    },
    "tags": []
   },
   "outputs": [],
   "source": [
    "#hide\n",
    "overview = '''\n",
    "<!-- #######  HTML!! #########-->\n",
    "<h1 style=\"color: #5e9ca0; text-align: center;\">India</h1>\n",
    "<p style=\"text-align: center;\">Last update: <strong>{update}</strong></p>\n",
    "<p style=\"text-align: center;\">Confirmed cases:</p>\n",
    "<p style=\"text-align: center;font-size:24px;\">{cases} (<span style=\"color: #ff0000;\">+{new}</span>)</p>\n",
    "<p style=\"text-align: center;\">Confirmed deaths:</p>\n",
    "<p style=\"text-align: center;font-size:24px;\">{deaths} (<span style=\"color: #ff0000;\">+{dnew}</span>)</p>\n",
    "'''"
   ]
  },
  {
   "cell_type": "code",
   "execution_count": 16,
   "metadata": {
    "execution": {
     "iopub.execute_input": "2020-08-11T04:18:32.328621Z",
     "iopub.status.busy": "2020-08-11T04:18:32.328056Z",
     "iopub.status.idle": "2020-08-11T04:18:32.331077Z",
     "shell.execute_reply": "2020-08-11T04:18:32.330477Z"
    },
    "papermill": {
     "duration": 0.023288,
     "end_time": "2020-08-11T04:18:32.331187",
     "exception": false,
     "start_time": "2020-08-11T04:18:32.307899",
     "status": "completed"
    },
    "tags": []
   },
   "outputs": [
    {
     "data": {
      "text/html": [
       "\n",
       "<!-- #######  HTML!! #########-->\n",
       "<h1 style=\"color: #5e9ca0; text-align: center;\">India</h1>\n",
       "<p style=\"text-align: center;\">Last update: <strong>2020-08-11</strong></p>\n",
       "<p style=\"text-align: center;\">Confirmed cases:</p>\n",
       "<p style=\"text-align: center;font-size:24px;\">2267156 (<span style=\"color: #ff0000;\">+3</span>)</p>\n",
       "<p style=\"text-align: center;\">Confirmed deaths:</p>\n",
       "<p style=\"text-align: center;font-size:24px;\">45353 (<span style=\"color: #ff0000;\">+0</span>)</p>\n"
      ],
      "text/plain": [
       "<IPython.core.display.HTML object>"
      ]
     },
     "metadata": {},
     "output_type": "display_data"
    }
   ],
   "source": [
    "#hide_input\n",
    "update = summary['updated']\n",
    "cases = summary['Cases']\n",
    "new = summary['Cases (+)']\n",
    "deaths = summary['Deaths']\n",
    "dnew = summary['Deaths (+)']\n",
    "\n",
    "html = HTML(overview.format(update=update, cases=cases,new=new,deaths=deaths,dnew=dnew))\n",
    "\n",
    "display(html)"
   ]
  },
  {
   "cell_type": "code",
   "execution_count": 17,
   "metadata": {
    "execution": {
     "iopub.execute_input": "2020-08-11T04:18:32.370434Z",
     "iopub.status.busy": "2020-08-11T04:18:32.369822Z",
     "iopub.status.idle": "2020-08-11T04:18:32.374914Z",
     "shell.execute_reply": "2020-08-11T04:18:32.374385Z"
    },
    "papermill": {
     "duration": 0.027447,
     "end_time": "2020-08-11T04:18:32.375059",
     "exception": false,
     "start_time": "2020-08-11T04:18:32.347612",
     "status": "completed"
    },
    "tags": []
   },
   "outputs": [],
   "source": [
    "#hide\n",
    "dt_cols = list(dft_cases.columns[1:])\n",
    "dft_ct_new_cases = dft_cases.groupby('state')[dt_cols].sum().diff(axis=1).fillna(0).astype(int)\n",
    "dft_ct_new_cases.sort_values(by = dates[-1], ascending = False,inplace = True)"
   ]
  },
  {
   "cell_type": "code",
   "execution_count": 18,
   "metadata": {
    "execution": {
     "iopub.execute_input": "2020-08-11T04:18:32.421149Z",
     "iopub.status.busy": "2020-08-11T04:18:32.420613Z",
     "iopub.status.idle": "2020-08-11T04:18:32.423903Z",
     "shell.execute_reply": "2020-08-11T04:18:32.423403Z"
    },
    "papermill": {
     "duration": 0.033855,
     "end_time": "2020-08-11T04:18:32.424027",
     "exception": false,
     "start_time": "2020-08-11T04:18:32.390172",
     "status": "completed"
    },
    "tags": []
   },
   "outputs": [
    {
     "data": {
      "text/html": [
       "<div>\n",
       "<style scoped>\n",
       "    .dataframe tbody tr th:only-of-type {\n",
       "        vertical-align: middle;\n",
       "    }\n",
       "\n",
       "    .dataframe tbody tr th {\n",
       "        vertical-align: top;\n",
       "    }\n",
       "\n",
       "    .dataframe thead th {\n",
       "        text-align: right;\n",
       "    }\n",
       "</style>\n",
       "<table border=\"1\" class=\"dataframe\">\n",
       "  <thead>\n",
       "    <tr style=\"text-align: right;\">\n",
       "      <th>states</th>\n",
       "      <th>2020-07-01</th>\n",
       "      <th>2020-07-02</th>\n",
       "      <th>2020-07-03</th>\n",
       "      <th>2020-07-04</th>\n",
       "      <th>2020-07-05</th>\n",
       "      <th>2020-07-06</th>\n",
       "      <th>2020-07-07</th>\n",
       "      <th>2020-07-08</th>\n",
       "      <th>2020-07-09</th>\n",
       "      <th>2020-07-10</th>\n",
       "      <th>...</th>\n",
       "      <th>2020-08-02</th>\n",
       "      <th>2020-08-03</th>\n",
       "      <th>2020-08-04</th>\n",
       "      <th>2020-08-05</th>\n",
       "      <th>2020-08-06</th>\n",
       "      <th>2020-08-07</th>\n",
       "      <th>2020-08-08</th>\n",
       "      <th>2020-08-09</th>\n",
       "      <th>2020-08-10</th>\n",
       "      <th>2020-08-11</th>\n",
       "    </tr>\n",
       "    <tr>\n",
       "      <th>state</th>\n",
       "      <th></th>\n",
       "      <th></th>\n",
       "      <th></th>\n",
       "      <th></th>\n",
       "      <th></th>\n",
       "      <th></th>\n",
       "      <th></th>\n",
       "      <th></th>\n",
       "      <th></th>\n",
       "      <th></th>\n",
       "      <th></th>\n",
       "      <th></th>\n",
       "      <th></th>\n",
       "      <th></th>\n",
       "      <th></th>\n",
       "      <th></th>\n",
       "      <th></th>\n",
       "      <th></th>\n",
       "      <th></th>\n",
       "      <th></th>\n",
       "      <th></th>\n",
       "    </tr>\n",
       "  </thead>\n",
       "  <tbody>\n",
       "    <tr>\n",
       "      <th>Mizoram</th>\n",
       "      <td>0</td>\n",
       "      <td>2</td>\n",
       "      <td>0</td>\n",
       "      <td>2</td>\n",
       "      <td>22</td>\n",
       "      <td>11</td>\n",
       "      <td>1</td>\n",
       "      <td>5</td>\n",
       "      <td>0</td>\n",
       "      <td>23</td>\n",
       "      <td>...</td>\n",
       "      <td>57</td>\n",
       "      <td>26</td>\n",
       "      <td>6</td>\n",
       "      <td>3</td>\n",
       "      <td>33</td>\n",
       "      <td>21</td>\n",
       "      <td>8</td>\n",
       "      <td>41</td>\n",
       "      <td>12</td>\n",
       "      <td>3</td>\n",
       "    </tr>\n",
       "    <tr>\n",
       "      <th>Andaman and Nicobar Islands</th>\n",
       "      <td>0</td>\n",
       "      <td>9</td>\n",
       "      <td>7</td>\n",
       "      <td>3</td>\n",
       "      <td>6</td>\n",
       "      <td>16</td>\n",
       "      <td>6</td>\n",
       "      <td>2</td>\n",
       "      <td>7</td>\n",
       "      <td>0</td>\n",
       "      <td>...</td>\n",
       "      <td>98</td>\n",
       "      <td>96</td>\n",
       "      <td>98</td>\n",
       "      <td>99</td>\n",
       "      <td>96</td>\n",
       "      <td>99</td>\n",
       "      <td>129</td>\n",
       "      <td>139</td>\n",
       "      <td>135</td>\n",
       "      <td>0</td>\n",
       "    </tr>\n",
       "    <tr>\n",
       "      <th>Andhra Pradesh</th>\n",
       "      <td>0</td>\n",
       "      <td>845</td>\n",
       "      <td>837</td>\n",
       "      <td>765</td>\n",
       "      <td>998</td>\n",
       "      <td>1322</td>\n",
       "      <td>1178</td>\n",
       "      <td>1062</td>\n",
       "      <td>1555</td>\n",
       "      <td>1608</td>\n",
       "      <td>...</td>\n",
       "      <td>8555</td>\n",
       "      <td>7822</td>\n",
       "      <td>9747</td>\n",
       "      <td>10128</td>\n",
       "      <td>10328</td>\n",
       "      <td>10171</td>\n",
       "      <td>10080</td>\n",
       "      <td>10820</td>\n",
       "      <td>7665</td>\n",
       "      <td>0</td>\n",
       "    </tr>\n",
       "    <tr>\n",
       "      <th>Maharashtra</th>\n",
       "      <td>0</td>\n",
       "      <td>6328</td>\n",
       "      <td>6364</td>\n",
       "      <td>7074</td>\n",
       "      <td>6555</td>\n",
       "      <td>5368</td>\n",
       "      <td>5134</td>\n",
       "      <td>6603</td>\n",
       "      <td>6875</td>\n",
       "      <td>7862</td>\n",
       "      <td>...</td>\n",
       "      <td>9509</td>\n",
       "      <td>8968</td>\n",
       "      <td>7760</td>\n",
       "      <td>10309</td>\n",
       "      <td>11514</td>\n",
       "      <td>10483</td>\n",
       "      <td>12822</td>\n",
       "      <td>12248</td>\n",
       "      <td>9181</td>\n",
       "      <td>0</td>\n",
       "    </tr>\n",
       "    <tr>\n",
       "      <th>Manipur</th>\n",
       "      <td>0</td>\n",
       "      <td>19</td>\n",
       "      <td>37</td>\n",
       "      <td>9</td>\n",
       "      <td>41</td>\n",
       "      <td>24</td>\n",
       "      <td>40</td>\n",
       "      <td>5</td>\n",
       "      <td>15</td>\n",
       "      <td>132</td>\n",
       "      <td>...</td>\n",
       "      <td>75</td>\n",
       "      <td>89</td>\n",
       "      <td>98</td>\n",
       "      <td>75</td>\n",
       "      <td>124</td>\n",
       "      <td>249</td>\n",
       "      <td>169</td>\n",
       "      <td>118</td>\n",
       "      <td>100</td>\n",
       "      <td>0</td>\n",
       "    </tr>\n",
       "  </tbody>\n",
       "</table>\n",
       "<p>5 rows × 42 columns</p>\n",
       "</div>"
      ],
      "text/plain": [
       "states                       2020-07-01  2020-07-02  2020-07-03  2020-07-04  \\\n",
       "state                                                                         \n",
       "Mizoram                               0           2           0           2   \n",
       "Andaman and Nicobar Islands           0           9           7           3   \n",
       "Andhra Pradesh                        0         845         837         765   \n",
       "Maharashtra                           0        6328        6364        7074   \n",
       "Manipur                               0          19          37           9   \n",
       "\n",
       "states                       2020-07-05  2020-07-06  2020-07-07  2020-07-08  \\\n",
       "state                                                                         \n",
       "Mizoram                              22          11           1           5   \n",
       "Andaman and Nicobar Islands           6          16           6           2   \n",
       "Andhra Pradesh                      998        1322        1178        1062   \n",
       "Maharashtra                        6555        5368        5134        6603   \n",
       "Manipur                              41          24          40           5   \n",
       "\n",
       "states                       2020-07-09  2020-07-10  ...  2020-08-02  \\\n",
       "state                                                ...               \n",
       "Mizoram                               0          23  ...          57   \n",
       "Andaman and Nicobar Islands           7           0  ...          98   \n",
       "Andhra Pradesh                     1555        1608  ...        8555   \n",
       "Maharashtra                        6875        7862  ...        9509   \n",
       "Manipur                              15         132  ...          75   \n",
       "\n",
       "states                       2020-08-03  2020-08-04  2020-08-05  2020-08-06  \\\n",
       "state                                                                         \n",
       "Mizoram                              26           6           3          33   \n",
       "Andaman and Nicobar Islands          96          98          99          96   \n",
       "Andhra Pradesh                     7822        9747       10128       10328   \n",
       "Maharashtra                        8968        7760       10309       11514   \n",
       "Manipur                              89          98          75         124   \n",
       "\n",
       "states                       2020-08-07  2020-08-08  2020-08-09  2020-08-10  \\\n",
       "state                                                                         \n",
       "Mizoram                              21           8          41          12   \n",
       "Andaman and Nicobar Islands          99         129         139         135   \n",
       "Andhra Pradesh                    10171       10080       10820        7665   \n",
       "Maharashtra                       10483       12822       12248        9181   \n",
       "Manipur                             249         169         118         100   \n",
       "\n",
       "states                       2020-08-11  \n",
       "state                                    \n",
       "Mizoram                               3  \n",
       "Andaman and Nicobar Islands           0  \n",
       "Andhra Pradesh                        0  \n",
       "Maharashtra                           0  \n",
       "Manipur                               0  \n",
       "\n",
       "[5 rows x 42 columns]"
      ]
     },
     "execution_count": 18,
     "metadata": {},
     "output_type": "execute_result"
    }
   ],
   "source": [
    "#hide\n",
    "dft_ct_new_cases.head()"
   ]
  },
  {
   "cell_type": "code",
   "execution_count": 19,
   "metadata": {
    "execution": {
     "iopub.execute_input": "2020-08-11T04:18:32.469671Z",
     "iopub.status.busy": "2020-08-11T04:18:32.459318Z",
     "iopub.status.idle": "2020-08-11T04:18:36.060698Z",
     "shell.execute_reply": "2020-08-11T04:18:36.061165Z"
    },
    "papermill": {
     "duration": 3.621008,
     "end_time": "2020-08-11T04:18:36.061338",
     "exception": false,
     "start_time": "2020-08-11T04:18:32.440330",
     "status": "completed"
    },
    "tags": []
   },
   "outputs": [
    {
     "data": {
      "image/png": "[encoded data removed]",
      "text/plain": [
       "<Figure size 1296x2016 with 11 Axes>"
      ]
     },
     "metadata": {
      "needs_background": "light"
     },
     "output_type": "display_data"
    }
   ],
   "source": [
    "#hide_input\n",
    "df = dft_ct_new_cases.copy()\n",
    "df.loc['Total'] = df.sum()\n",
    "n = 5\n",
    "ax = []\n",
    "fig = plt.figure(figsize = (18,28))\n",
    "gs = fig.add_gridspec(n+2, 5)\n",
    "# gs = fig.add_gridspec(2, 3)\n",
    "ax1 = fig.add_subplot(gs[0, :])\n",
    "ef = df.loc['Total'].rename_axis('date').reset_index()\n",
    "ef['date'] = ef['date'].astype('datetime64[ns]')\n",
    "ax1.bar(ef.date,ef.Total,alpha=0.3,color='#007acc')\n",
    "ax1.plot(ef.date,ef.Total , marker=\"o\", color='#007acc')\n",
    "ax1.xaxis.set_major_locator(mdates.WeekdayLocator())\n",
    "ax1.xaxis.set_major_formatter(mdates.DateFormatter('%b %d'))\n",
    "ax1.text(0.02, 0.5,'India daily case count', transform = ax1.transAxes, fontsize=25);\n",
    "ax1.spines['right'].set_visible(False)\n",
    "ax1.spines['top'].set_visible(False)\n",
    "\n",
    "ax2 = fig.add_subplot(gs[1,0])\n",
    "ef = df.loc['Maharashtra'].rename_axis('date').reset_index()\n",
    "ef['date'] = ef['date'].astype('datetime64[ns]')\n",
    "\n",
    "ax2.bar(ef.date, ef.Maharashtra,color = '#007acc',alpha=0.5)\n",
    "ax2.xaxis.set_major_locator(mdates.WeekdayLocator())\n",
    "ax2.xaxis.set_major_formatter(mdates.DateFormatter('%b %d'))\n",
    "ax2.set_xticks(ax2.get_xticks()[::3])\n",
    "maxyval = ef.Maharashtra.max()\n",
    "ax2.set_ylim([0,maxyval])\n",
    "ax2.text(0.05, 0.9,'Maharashtra', transform = ax2.transAxes, fontsize=20);\n",
    "ax2.spines['right'].set_visible(False)\n",
    "ax2.spines['top'].set_visible(False)\n",
    "\n",
    "\n",
    "ax3 = fig.add_subplot(gs[1,1])\n",
    "ef = df.loc['Tamil Nadu'].rename_axis('date').reset_index()\n",
    "ef['date'] = ef['date'].astype('datetime64[ns]')\n",
    "ax3.bar(ef.date, ef['Tamil Nadu'],color = '#007acc',alpha=0.5,)\n",
    "ax3.xaxis.set_major_locator(mdates.WeekdayLocator())\n",
    "ax3.xaxis.set_major_formatter(mdates.DateFormatter('%b %d'))\n",
    "ax3.set_xticks(ax3.get_xticks()[::3])\n",
    "ax3.text(0.05, 0.9,'Tamil Nadu', transform = ax3.transAxes, fontsize=20);\n",
    "ax3.spines['right'].set_visible(False)\n",
    "ax3.spines['top'].set_visible(False)\n",
    "\n",
    "ax5 = fig.add_subplot(gs[1,3])\n",
    "ef = df.loc['Telangana'].rename_axis('date').reset_index()\n",
    "ef['date'] = ef['date'].astype('datetime64[ns]')\n",
    "ax5.bar(ef.date, ef['Telangana'],color = '#007acc',alpha=0.5,)\n",
    "ax5.xaxis.set_major_locator(mdates.WeekdayLocator())\n",
    "ax5.xaxis.set_major_formatter(mdates.DateFormatter('%b %d'))\n",
    "ax5.set_xticks(ax5.get_xticks()[::3])\n",
    "ax5.text(0.05, 0.9,'Telangana', transform = ax5.transAxes, fontsize=20);\n",
    "ax5.spines['right'].set_visible(False)\n",
    "ax5.spines['top'].set_visible(False)\n",
    "\n",
    "ax6 = fig.add_subplot(gs[1,4])\n",
    "ef = df.loc['Andhra Pradesh'].rename_axis('date').reset_index()\n",
    "ef['date'] = ef['date'].astype('datetime64[ns]')\n",
    "ax6.bar(ef.date, ef['Andhra Pradesh'],color = '#007acc',alpha=0.5,)\n",
    "ax6.xaxis.set_major_locator(mdates.WeekdayLocator())\n",
    "ax6.xaxis.set_major_formatter(mdates.DateFormatter('%b %d'))\n",
    "ax6.set_xticks(ax6.get_xticks()[::3])\n",
    "ax6.text(0.05, 1,'Andhra Pradesh', transform = ax6.transAxes, fontsize=20);\n",
    "ax6.spines['right'].set_visible(False)\n",
    "ax6.spines['top'].set_visible(False)\n",
    "\n",
    "ax4 = fig.add_subplot(gs[1,2])\n",
    "ef = df.loc['Delhi'].rename_axis('date').reset_index()\n",
    "ef['date'] = ef['date'].astype('datetime64[ns]')\n",
    "ax4.bar(ef.date, ef.Delhi,color = '#007acc',alpha=0.5)\n",
    "ax4.set_xticks([])\n",
    "ax4.xaxis.set_major_locator(mdates.WeekdayLocator())\n",
    "ax4.xaxis.set_major_formatter(mdates.DateFormatter('%b %d'))\n",
    "ax4.set_xticks(ax4.get_xticks()[::3])\n",
    "ax4.spines['right'].set_visible(False)\n",
    "ax4.spines['top'].set_visible(False)\n",
    "\n",
    "ax4.text(0.05, 1,'Delhi', transform = ax4.transAxes, fontsize=20)\n",
    "\n",
    "for i in range(n):\n",
    "    \n",
    "    ax.append(fig.add_subplot(gs[i+2,:]))\n",
    "    ef = df.iloc[i+3].rename_axis('date').reset_index()\n",
    "    ef['date'] = ef['date'].astype('datetime64[ns]')\n",
    "    ax[i].bar(ef.date,ef.iloc[:,-1],color = '#007acc',alpha=0.3)\n",
    "    ax[i].plot(ef.date,ef.iloc[:,-1],marker='o',color='#007acc')\n",
    "    ax[i].text(0.02,0.5,f'{ef.columns.values[-1]}',transform = ax[i].transAxes, fontsize = 20);\n",
    "    ax[i].xaxis.set_major_locator(mdates.WeekdayLocator())\n",
    "    ax[i].xaxis.set_major_formatter(mdates.DateFormatter('%b %d'))\n",
    "    ax[i].set_ylim([0,7000])\n",
    "    ax[i].spines['right'].set_visible(False)\n",
    "    ax[i].spines['top'].set_visible(False)\n",
    "plt.tight_layout()\n"
   ]
  },
  {
   "cell_type": "code",
   "execution_count": 20,
   "metadata": {
    "execution": {
     "iopub.execute_input": "2020-08-11T04:18:36.113353Z",
     "iopub.status.busy": "2020-08-11T04:18:36.112732Z",
     "iopub.status.idle": "2020-08-11T04:18:36.115727Z",
     "shell.execute_reply": "2020-08-11T04:18:36.115261Z"
    },
    "papermill": {
     "duration": 0.032196,
     "end_time": "2020-08-11T04:18:36.115839",
     "exception": false,
     "start_time": "2020-08-11T04:18:36.083643",
     "status": "completed"
    },
    "tags": []
   },
   "outputs": [
    {
     "name": "stdout",
     "output_type": "stream",
     "text": [
      "                                   states   Cases  Deaths  PCases  PDeaths  Cases (+)  Deaths (+)  Fatality Rate\n",
      "                              Maharashtra  524513   18050  524513    18050          0           0           3.44\n",
      "                               Tamil Nadu  302815    5041  302815     5041          0           0           1.66\n",
      "                           Andhra Pradesh  235525    2116  235525     2116          0           0           0.90\n",
      "                                Karnataka  182354    3312  182354     3312          0           0           1.82\n",
      "                                    Delhi  146134    4131  146134     4131          0           0           2.83\n",
      "                            Uttar Pradesh  126722    2120  126722     2120          0           0           1.67\n",
      "                              West Bengal   98459    2100   98459     2100          0           0           2.13\n",
      "                                    Bihar   82741     450   82741      450          0           0           0.54\n",
      "                                Telangana   80751     637   80751      637          0           0           0.79\n",
      "                                  Gujarat   72120    2672   72120     2672          0           0           3.70\n",
      "                                    Assam   61738     151   61738      151          0           0           0.24\n",
      "                                Rajasthan   53670     800   53670      800          0           0           1.49\n",
      "                                   Odisha   47455     337   47455      337          0           0           0.71\n",
      "                                  Haryana   42429     489   42429      489          0           0           1.15\n",
      "                           Madhya Pradesh   39891    1015   39891     1015          0           0           2.54\n",
      "                                   Kerala   35515     116   35515      116          0           0           0.33\n",
      "                        Jammu and Kashmir   25367     478   25367      478          0           0           1.88\n",
      "                                   Punjab   24889     604   24889      604          0           0           2.43\n",
      "                                Jharkhand   18786     189   18786      189          0           0           1.01\n",
      "                             Chhattisgarh   12625      99   12625       99          0           0           0.78\n",
      "                              Uttarakhand   10021     134   10021      134          0           0           1.34\n",
      "                                      Goa    9029      80    9029       80          0           0           0.89\n",
      "                                  Tripura    6223      42    6223       42          0           0           0.67\n",
      "                               Puducherry    5624      89    5624       89          0           0           1.58\n",
      "                                  Manipur    3853      11    3853       11          0           0           0.29\n",
      "                         Himachal Pradesh    3463      16    3463       16          0           0           0.46\n",
      "                                 Nagaland    3011       8    3011        8          0           0           0.27\n",
      "                        Arunachal Pradesh    2231       3    2231        3          0           0           0.13\n",
      "                                   Ladakh    1717       9    1717        9          0           0           0.52\n",
      "              Andaman and Nicobar Islands    1625      20    1625       20          0           0           1.23\n",
      " Dadra and Nagar Haveli and Daman and Diu    1617       2    1617        2          0           0           0.12\n",
      "                               Chandigarh    1595      25    1595       25          0           0           1.57\n",
      "                                Meghalaya    1115       6    1115        6          0           0           0.54\n",
      "                                   Sikkim     910       1     910        1          0           0           0.11\n",
      "                                  Mizoram     623       0     620        0          3           0           0.00\n",
      "                              Lakshadweep       0       0       0        0          0           0            NaN\n"
     ]
    }
   ],
   "source": [
    "#hide_input\n",
    "print(df_table.to_string(index=False))"
   ]
  },
  {
   "cell_type": "code",
   "execution_count": null,
   "metadata": {
    "papermill": {
     "duration": 0.019514,
     "end_time": "2020-08-11T04:18:36.155119",
     "exception": false,
     "start_time": "2020-08-11T04:18:36.135605",
     "status": "completed"
    },
    "tags": []
   },
   "outputs": [],
   "source": []
  },
  {
   "cell_type": "code",
   "execution_count": null,
   "metadata": {
    "papermill": {
     "duration": 0.018477,
     "end_time": "2020-08-11T04:18:36.192489",
     "exception": false,
     "start_time": "2020-08-11T04:18:36.174012",
     "status": "completed"
    },
    "tags": []
   },
   "outputs": [],
   "source": []
  }
 ],
 "metadata": {
  "kernelspec": {
   "display_name": "Python 3",
   "language": "python",
   "name": "python3"
  },
  "language_info": {
   "codemirror_mode": {
    "name": "ipython",
    "version": 3
   },
   "file_extension": ".py",
   "mimetype": "text/x-python",
   "name": "python",
   "nbconvert_exporter": "python",
   "pygments_lexer": "ipython3",
   "version": "3.6.11"
  },
  "papermill": {
   "duration": 7.822995,
   "end_time": "2020-08-11T04:18:36.518347",
   "environment_variables": {},
   "exception": null,
   "input_path": "latest.ipynb",
   "output_path": "latest.ipynb",
   "parameters": {},
   "start_time": "2020-08-11T04:18:28.695352",
   "version": "2.1.2"
  }
 },
 "nbformat": 4,
 "nbformat_minor": 4
}