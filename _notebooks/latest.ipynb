{
 "cells": [
  {
   "cell_type": "markdown",
   "metadata": {
    "papermill": {
     "duration": 0.020699,
     "end_time": "2020-09-21T10:53:03.073746",
     "exception": false,
     "start_time": "2020-09-21T10:53:03.053047",
     "status": "completed"
    },
    "tags": []
   },
   "source": [
    "# Latest COVID-19 India Matplotlib Overview"
   ]
  },
  {
   "cell_type": "code",
   "execution_count": 1,
   "metadata": {
    "execution": {
     "iopub.execute_input": "2020-09-21T10:53:03.118318Z",
     "iopub.status.busy": "2020-09-21T10:53:03.117539Z",
     "iopub.status.idle": "2020-09-21T10:53:03.743840Z",
     "shell.execute_reply": "2020-09-21T10:53:03.744335Z"
    },
    "papermill": {
     "duration": 0.652697,
     "end_time": "2020-09-21T10:53:03.744567",
     "exception": false,
     "start_time": "2020-09-21T10:53:03.091870",
     "status": "completed"
    },
    "tags": []
   },
   "outputs": [],
   "source": [
    "#hide\n",
    "import pandas as pd\n",
    "import numpy as np\n",
    "import requests\n",
    "import json\n",
    "import matplotlib.pyplot as plt\n",
    "import matplotlib.dates as mdates\n",
    "import matplotlib as mpl\n",
    "from IPython.core.display import display,HTML\n",
    "%matplotlib inline\n",
    "from datetime import date"
   ]
  },
  {
   "cell_type": "code",
   "execution_count": 2,
   "metadata": {
    "execution": {
     "iopub.execute_input": "2020-09-21T10:53:03.786359Z",
     "iopub.status.busy": "2020-09-21T10:53:03.785660Z",
     "iopub.status.idle": "2020-09-21T10:53:03.903710Z",
     "shell.execute_reply": "2020-09-21T10:53:03.903086Z"
    },
    "papermill": {
     "duration": 0.141905,
     "end_time": "2020-09-21T10:53:03.903871",
     "exception": false,
     "start_time": "2020-09-21T10:53:03.761966",
     "status": "completed"
    },
    "tags": []
   },
   "outputs": [],
   "source": [
    "#hide\n",
    "df  = pd.read_csv('https://api.covid19india.org/csv/latest/states.csv')\n",
    "df = df[['Date','State','Confirmed','Deceased']]\n",
    "df = df.rename(columns={'Confirmed':'Cases', \"Deceased\":'Deaths'})\n",
    "df_cases = df[[\"Date\",'State','Cases']]\n",
    "df_deaths = df[['Date','State','Deaths']]\n",
    "df_cases1 = df_cases.groupby('Date')\n",
    "df_deaths1= df_deaths.groupby('Date')"
   ]
  },
  {
   "cell_type": "code",
   "execution_count": 3,
   "metadata": {
    "execution": {
     "iopub.execute_input": "2020-09-21T10:53:03.944459Z",
     "iopub.status.busy": "2020-09-21T10:53:03.943548Z",
     "iopub.status.idle": "2020-09-21T10:53:03.964044Z",
     "shell.execute_reply": "2020-09-21T10:53:03.963384Z"
    },
    "papermill": {
     "duration": 0.04265,
     "end_time": "2020-09-21T10:53:03.964212",
     "exception": false,
     "start_time": "2020-09-21T10:53:03.921562",
     "status": "completed"
    },
    "tags": []
   },
   "outputs": [],
   "source": [
    "#hide\n",
    "df_snap = pd.read_csv('data/SnapshotCases-28-July.csv')\n",
    "arr_states = df_snap['states'].unique()\n",
    "arr_dates = df['Date'].unique()\n",
    "df_snap = df_snap.set_index('states')"
   ]
  },
  {
   "cell_type": "code",
   "execution_count": 4,
   "metadata": {
    "execution": {
     "iopub.execute_input": "2020-09-21T10:53:04.009868Z",
     "iopub.status.busy": "2020-09-21T10:53:04.009174Z",
     "iopub.status.idle": "2020-09-21T10:53:04.013123Z",
     "shell.execute_reply": "2020-09-21T10:53:04.013765Z"
    },
    "papermill": {
     "duration": 0.031408,
     "end_time": "2020-09-21T10:53:04.013936",
     "exception": false,
     "start_time": "2020-09-21T10:53:03.982528",
     "status": "completed"
    },
    "tags": []
   },
   "outputs": [
    {
     "data": {
      "text/plain": [
       "array(['Andaman and Nicobar Islands', 'Andhra Pradesh',\n",
       "       'Arunachal Pradesh', 'Assam', 'Bihar', 'Chandigarh',\n",
       "       'Dadra and Nagar Haveli and Daman and Diu', 'Delhi', 'Goa',\n",
       "       'Gujarat', 'Haryana', 'Himachal Pradesh', 'Jammu and Kashmir',\n",
       "       'Jharkhand', 'Karnataka', 'Kerala', 'Lakshadweep',\n",
       "       'Madhya Pradesh', 'Maharashtra', 'Manipur', 'Meghalaya', 'Mizoram',\n",
       "       'Nagaland', 'Odisha', 'Puducherry', 'Punjab', 'Rajasthan',\n",
       "       'Sikkim', 'Tamil Nadu', 'Telangana', 'Tripura', 'Uttar Pradesh',\n",
       "       'West Bengal', 'Chhattisgarh', 'Ladakh', 'Uttarakhand'],\n",
       "      dtype=object)"
      ]
     },
     "execution_count": 4,
     "metadata": {},
     "output_type": "execute_result"
    }
   ],
   "source": [
    "#hide\n",
    "arr_states[-9] = 'Puducherry'\n",
    "arr_states[-10] = 'Odisha'\n",
    "arr_states[6] = 'Dadra and Nagar Haveli and Daman and Diu'\n",
    "arr_states = np.append(arr_states,np.array(['Chhattisgarh','Ladakh','Uttarakhand']))\n",
    "arr_states"
   ]
  },
  {
   "cell_type": "code",
   "execution_count": 5,
   "metadata": {
    "execution": {
     "iopub.execute_input": "2020-09-21T10:53:04.058250Z",
     "iopub.status.busy": "2020-09-21T10:53:04.057571Z",
     "iopub.status.idle": "2020-09-21T10:53:04.069231Z",
     "shell.execute_reply": "2020-09-21T10:53:04.069827Z"
    },
    "papermill": {
     "duration": 0.038357,
     "end_time": "2020-09-21T10:53:04.069996",
     "exception": false,
     "start_time": "2020-09-21T10:53:04.031639",
     "status": "completed"
    },
    "tags": []
   },
   "outputs": [],
   "source": [
    "#hide\n",
    "dates = []\n",
    "for i in arr_dates:\n",
    "    if i>='2020-07-01':\n",
    "        dates.append(i)\n",
    "dict = {'states':dates}\n",
    "for i in arr_states:\n",
    "    dict[i] = [0]*len(dates)\n",
    "dft_cases = pd.DataFrame(dict)\n",
    "dft_deaths = pd.DataFrame(dict)\n"
   ]
  },
  {
   "cell_type": "code",
   "execution_count": 6,
   "metadata": {
    "execution": {
     "iopub.execute_input": "2020-09-21T10:53:04.114133Z",
     "iopub.status.busy": "2020-09-21T10:53:04.113419Z",
     "iopub.status.idle": "2020-09-21T10:53:05.575532Z",
     "shell.execute_reply": "2020-09-21T10:53:05.574916Z"
    },
    "papermill": {
     "duration": 1.487784,
     "end_time": "2020-09-21T10:53:05.575694",
     "exception": false,
     "start_time": "2020-09-21T10:53:04.087910",
     "status": "completed"
    },
    "tags": []
   },
   "outputs": [],
   "source": [
    "#hide\n",
    "for i in range(len(dates)):\n",
    "    df1_deaths = df_deaths1.get_group(dates[i])\n",
    "    for j in range(len(df1_deaths.index)):\n",
    "        if df1_deaths.iloc[j,1] in arr_states:\n",
    "            dft_deaths.loc[i,df1_deaths.iloc[j,1]] = df1_deaths.iloc[j,2]\n",
    "dft_deaths = dft_deaths.set_index('states')"
   ]
  },
  {
   "cell_type": "code",
   "execution_count": 7,
   "metadata": {
    "execution": {
     "iopub.execute_input": "2020-09-21T10:53:05.617494Z",
     "iopub.status.busy": "2020-09-21T10:53:05.616765Z",
     "iopub.status.idle": "2020-09-21T10:53:07.126878Z",
     "shell.execute_reply": "2020-09-21T10:53:07.126297Z"
    },
    "papermill": {
     "duration": 1.533834,
     "end_time": "2020-09-21T10:53:07.127042",
     "exception": false,
     "start_time": "2020-09-21T10:53:05.593208",
     "status": "completed"
    },
    "tags": []
   },
   "outputs": [],
   "source": [
    "#hide\n",
    "for i in range(len(dates)):\n",
    "    df1_cases = df_cases1.get_group(dates[i])\n",
    "    for j in range(len(df1_cases.index)):\n",
    "        if df1_cases.iloc[j,1] in arr_states:\n",
    "            dft_cases.loc[i,df1_cases.iloc[j,1]] = df1_cases.iloc[j,2]\n",
    "dft_cases = dft_cases.set_index('states')"
   ]
  },
  {
   "cell_type": "code",
   "execution_count": 8,
   "metadata": {
    "execution": {
     "iopub.execute_input": "2020-09-21T10:53:07.173258Z",
     "iopub.status.busy": "2020-09-21T10:53:07.172609Z",
     "iopub.status.idle": "2020-09-21T10:53:07.176485Z",
     "shell.execute_reply": "2020-09-21T10:53:07.177003Z"
    },
    "papermill": {
     "duration": 0.030891,
     "end_time": "2020-09-21T10:53:07.177150",
     "exception": false,
     "start_time": "2020-09-21T10:53:07.146259",
     "status": "completed"
    },
    "tags": []
   },
   "outputs": [],
   "source": [
    "#hide\n",
    "dft_cases = dft_cases.T\n",
    "dft_deaths = dft_deaths.T\n",
    "dt_today = dates[-1]\n",
    "dt_yday = dates[-2]"
   ]
  },
  {
   "cell_type": "code",
   "execution_count": 9,
   "metadata": {
    "execution": {
     "iopub.execute_input": "2020-09-21T10:53:07.218496Z",
     "iopub.status.busy": "2020-09-21T10:53:07.217803Z",
     "iopub.status.idle": "2020-09-21T10:53:07.222334Z",
     "shell.execute_reply": "2020-09-21T10:53:07.222849Z"
    },
    "papermill": {
     "duration": 0.028169,
     "end_time": "2020-09-21T10:53:07.222999",
     "exception": false,
     "start_time": "2020-09-21T10:53:07.194830",
     "status": "completed"
    },
    "tags": []
   },
   "outputs": [],
   "source": [
    "#hide\n",
    "dft_cases = dft_cases.reset_index()\n",
    "dft_deaths = dft_deaths.reset_index()\n",
    "dft_cases = dft_cases.rename(columns = {'index':'state'})\n",
    "dft_deaths = dft_deaths.rename(columns = {'index':'state'})"
   ]
  },
  {
   "cell_type": "code",
   "execution_count": 10,
   "metadata": {
    "execution": {
     "iopub.execute_input": "2020-09-21T10:53:07.271977Z",
     "iopub.status.busy": "2020-09-21T10:53:07.270499Z",
     "iopub.status.idle": "2020-09-21T10:53:07.272655Z",
     "shell.execute_reply": "2020-09-21T10:53:07.273237Z"
    },
    "papermill": {
     "duration": 0.033165,
     "end_time": "2020-09-21T10:53:07.273391",
     "exception": false,
     "start_time": "2020-09-21T10:53:07.240226",
     "status": "completed"
    },
    "tags": []
   },
   "outputs": [],
   "source": [
    "#hide\n",
    "dfc_cases = dft_cases.groupby('state')[dt_today].sum()\n",
    "dfc_deaths = dft_deaths.groupby('state')[dt_today].sum()\n",
    "dfp_cases = dft_cases.groupby('state')[dt_yday].sum()\n",
    "dfp_deaths = dft_deaths.groupby('state')[dt_yday].sum()"
   ]
  },
  {
   "cell_type": "code",
   "execution_count": 11,
   "metadata": {
    "execution": {
     "iopub.execute_input": "2020-09-21T10:53:07.314613Z",
     "iopub.status.busy": "2020-09-21T10:53:07.313995Z",
     "iopub.status.idle": "2020-09-21T10:53:07.329982Z",
     "shell.execute_reply": "2020-09-21T10:53:07.330625Z"
    },
    "papermill": {
     "duration": 0.040051,
     "end_time": "2020-09-21T10:53:07.330796",
     "exception": false,
     "start_time": "2020-09-21T10:53:07.290745",
     "status": "completed"
    },
    "tags": []
   },
   "outputs": [
    {
     "data": {
      "text/html": [
       "<div>\n",
       "<style scoped>\n",
       "    .dataframe tbody tr th:only-of-type {\n",
       "        vertical-align: middle;\n",
       "    }\n",
       "\n",
       "    .dataframe tbody tr th {\n",
       "        vertical-align: top;\n",
       "    }\n",
       "\n",
       "    .dataframe thead th {\n",
       "        text-align: right;\n",
       "    }\n",
       "</style>\n",
       "<table border=\"1\" class=\"dataframe\">\n",
       "  <thead>\n",
       "    <tr style=\"text-align: right;\">\n",
       "      <th></th>\n",
       "      <th>states</th>\n",
       "      <th>Cases</th>\n",
       "      <th>Deaths</th>\n",
       "      <th>PCases</th>\n",
       "      <th>PDeaths</th>\n",
       "    </tr>\n",
       "  </thead>\n",
       "  <tbody>\n",
       "    <tr>\n",
       "      <th>0</th>\n",
       "      <td>Maharashtra</td>\n",
       "      <td>1208642</td>\n",
       "      <td>32671</td>\n",
       "      <td>1208642</td>\n",
       "      <td>32671</td>\n",
       "    </tr>\n",
       "    <tr>\n",
       "      <th>1</th>\n",
       "      <td>Andhra Pradesh</td>\n",
       "      <td>625514</td>\n",
       "      <td>5359</td>\n",
       "      <td>625514</td>\n",
       "      <td>5359</td>\n",
       "    </tr>\n",
       "    <tr>\n",
       "      <th>2</th>\n",
       "      <td>Tamil Nadu</td>\n",
       "      <td>541993</td>\n",
       "      <td>8811</td>\n",
       "      <td>541993</td>\n",
       "      <td>8811</td>\n",
       "    </tr>\n",
       "    <tr>\n",
       "      <th>3</th>\n",
       "      <td>Karnataka</td>\n",
       "      <td>519537</td>\n",
       "      <td>8023</td>\n",
       "      <td>519537</td>\n",
       "      <td>8023</td>\n",
       "    </tr>\n",
       "    <tr>\n",
       "      <th>4</th>\n",
       "      <td>Uttar Pradesh</td>\n",
       "      <td>354275</td>\n",
       "      <td>5047</td>\n",
       "      <td>354275</td>\n",
       "      <td>5047</td>\n",
       "    </tr>\n",
       "  </tbody>\n",
       "</table>\n",
       "</div>"
      ],
      "text/plain": [
       "           states    Cases  Deaths   PCases  PDeaths\n",
       "0     Maharashtra  1208642   32671  1208642    32671\n",
       "1  Andhra Pradesh   625514    5359   625514     5359\n",
       "2      Tamil Nadu   541993    8811   541993     8811\n",
       "3       Karnataka   519537    8023   519537     8023\n",
       "4   Uttar Pradesh   354275    5047   354275     5047"
      ]
     },
     "execution_count": 11,
     "metadata": {},
     "output_type": "execute_result"
    }
   ],
   "source": [
    "#hide\n",
    "df_table = pd.DataFrame({'states': dfc_cases.index, 'Cases': dfc_cases.values, 'Deaths': dfc_deaths.values, 'PCases': dfp_cases.values, 'PDeaths': dfp_deaths.values}).set_index('states')\n",
    "df_table = df_table.sort_values(by = ['Cases','Deaths'], ascending = [False, False])\n",
    "df_table = df_table.reset_index()\n",
    "df_table.head()"
   ]
  },
  {
   "cell_type": "code",
   "execution_count": 12,
   "metadata": {
    "execution": {
     "iopub.execute_input": "2020-09-21T10:53:07.371476Z",
     "iopub.status.busy": "2020-09-21T10:53:07.370840Z",
     "iopub.status.idle": "2020-09-21T10:53:07.380220Z",
     "shell.execute_reply": "2020-09-21T10:53:07.379666Z"
    },
    "papermill": {
     "duration": 0.031791,
     "end_time": "2020-09-21T10:53:07.380351",
     "exception": false,
     "start_time": "2020-09-21T10:53:07.348560",
     "status": "completed"
    },
    "tags": []
   },
   "outputs": [],
   "source": [
    "#hide\n",
    "for c in 'Cases, Deaths'.split(', '):\n",
    "    df_table[f'{c} (+)'] = (df_table[c] - df_table[f'P{c}']).clip(0)\n",
    "df_table['Fatality Rate'] = (100* df_table['Deaths']/ df_table['Cases']).round(2)"
   ]
  },
  {
   "cell_type": "code",
   "execution_count": 13,
   "metadata": {
    "execution": {
     "iopub.execute_input": "2020-09-21T10:53:07.435488Z",
     "iopub.status.busy": "2020-09-21T10:53:07.434758Z",
     "iopub.status.idle": "2020-09-21T10:53:07.437308Z",
     "shell.execute_reply": "2020-09-21T10:53:07.437935Z"
    },
    "papermill": {
     "duration": 0.037109,
     "end_time": "2020-09-21T10:53:07.438145",
     "exception": false,
     "start_time": "2020-09-21T10:53:07.401036",
     "status": "completed"
    },
    "tags": []
   },
   "outputs": [
    {
     "data": {
      "text/html": [
       "<div>\n",
       "<style scoped>\n",
       "    .dataframe tbody tr th:only-of-type {\n",
       "        vertical-align: middle;\n",
       "    }\n",
       "\n",
       "    .dataframe tbody tr th {\n",
       "        vertical-align: top;\n",
       "    }\n",
       "\n",
       "    .dataframe thead th {\n",
       "        text-align: right;\n",
       "    }\n",
       "</style>\n",
       "<table border=\"1\" class=\"dataframe\">\n",
       "  <thead>\n",
       "    <tr style=\"text-align: right;\">\n",
       "      <th></th>\n",
       "      <th>states</th>\n",
       "      <th>Cases</th>\n",
       "      <th>Deaths</th>\n",
       "      <th>PCases</th>\n",
       "      <th>PDeaths</th>\n",
       "      <th>Cases (+)</th>\n",
       "      <th>Deaths (+)</th>\n",
       "      <th>Fatality Rate</th>\n",
       "    </tr>\n",
       "  </thead>\n",
       "  <tbody>\n",
       "    <tr>\n",
       "      <th>0</th>\n",
       "      <td>Maharashtra</td>\n",
       "      <td>1208642</td>\n",
       "      <td>32671</td>\n",
       "      <td>1208642</td>\n",
       "      <td>32671</td>\n",
       "      <td>0</td>\n",
       "      <td>0</td>\n",
       "      <td>2.70</td>\n",
       "    </tr>\n",
       "    <tr>\n",
       "      <th>1</th>\n",
       "      <td>Andhra Pradesh</td>\n",
       "      <td>625514</td>\n",
       "      <td>5359</td>\n",
       "      <td>625514</td>\n",
       "      <td>5359</td>\n",
       "      <td>0</td>\n",
       "      <td>0</td>\n",
       "      <td>0.86</td>\n",
       "    </tr>\n",
       "    <tr>\n",
       "      <th>2</th>\n",
       "      <td>Tamil Nadu</td>\n",
       "      <td>541993</td>\n",
       "      <td>8811</td>\n",
       "      <td>541993</td>\n",
       "      <td>8811</td>\n",
       "      <td>0</td>\n",
       "      <td>0</td>\n",
       "      <td>1.63</td>\n",
       "    </tr>\n",
       "    <tr>\n",
       "      <th>3</th>\n",
       "      <td>Karnataka</td>\n",
       "      <td>519537</td>\n",
       "      <td>8023</td>\n",
       "      <td>519537</td>\n",
       "      <td>8023</td>\n",
       "      <td>0</td>\n",
       "      <td>0</td>\n",
       "      <td>1.54</td>\n",
       "    </tr>\n",
       "    <tr>\n",
       "      <th>4</th>\n",
       "      <td>Uttar Pradesh</td>\n",
       "      <td>354275</td>\n",
       "      <td>5047</td>\n",
       "      <td>354275</td>\n",
       "      <td>5047</td>\n",
       "      <td>0</td>\n",
       "      <td>0</td>\n",
       "      <td>1.42</td>\n",
       "    </tr>\n",
       "  </tbody>\n",
       "</table>\n",
       "</div>"
      ],
      "text/plain": [
       "           states    Cases  Deaths   PCases  PDeaths  Cases (+)  Deaths (+)  \\\n",
       "0     Maharashtra  1208642   32671  1208642    32671          0           0   \n",
       "1  Andhra Pradesh   625514    5359   625514     5359          0           0   \n",
       "2      Tamil Nadu   541993    8811   541993     8811          0           0   \n",
       "3       Karnataka   519537    8023   519537     8023          0           0   \n",
       "4   Uttar Pradesh   354275    5047   354275     5047          0           0   \n",
       "\n",
       "   Fatality Rate  \n",
       "0           2.70  \n",
       "1           0.86  \n",
       "2           1.63  \n",
       "3           1.54  \n",
       "4           1.42  "
      ]
     },
     "execution_count": 13,
     "metadata": {},
     "output_type": "execute_result"
    }
   ],
   "source": [
    "#hide\n",
    "df_table.head()"
   ]
  },
  {
   "cell_type": "code",
   "execution_count": 14,
   "metadata": {
    "execution": {
     "iopub.execute_input": "2020-09-21T10:53:07.497324Z",
     "iopub.status.busy": "2020-09-21T10:53:07.496598Z",
     "iopub.status.idle": "2020-09-21T10:53:07.499788Z",
     "shell.execute_reply": "2020-09-21T10:53:07.500418Z"
    },
    "papermill": {
     "duration": 0.043484,
     "end_time": "2020-09-21T10:53:07.500569",
     "exception": false,
     "start_time": "2020-09-21T10:53:07.457085",
     "status": "completed"
    },
    "tags": []
   },
   "outputs": [
    {
     "data": {
      "text/plain": [
       "{'updated': '2020-09-21',\n",
       " 'since': '2020-09-20',\n",
       " 'Cases': 5491410,\n",
       " 'PCases': 5485612,\n",
       " 'Deaths': 87933,\n",
       " 'PDeaths': 87909,\n",
       " 'Cases (+)': 5798,\n",
       " 'Deaths (+)': 24}"
      ]
     },
     "execution_count": 14,
     "metadata": {},
     "output_type": "execute_result"
    }
   ],
   "source": [
    "#hide\n",
    "summary = {'updated':dates[-1], 'since':dates[-2]}\n",
    "list_names = ['Cases', 'PCases', 'Deaths', 'PDeaths', 'Cases (+)', 'Deaths (+)']\n",
    "for name in list_names:\n",
    "    summary[name] = df_table.sum()[name]\n",
    "summary"
   ]
  },
  {
   "cell_type": "code",
   "execution_count": 15,
   "metadata": {
    "execution": {
     "iopub.execute_input": "2020-09-21T10:53:07.542360Z",
     "iopub.status.busy": "2020-09-21T10:53:07.541632Z",
     "iopub.status.idle": "2020-09-21T10:53:07.543787Z",
     "shell.execute_reply": "2020-09-21T10:53:07.544334Z"
    },
    "papermill": {
     "duration": 0.025496,
     "end_time": "2020-09-21T10:53:07.544489",
     "exception": false,
     "start_time": "2020-09-21T10:53:07.518993",
     "status": "completed"
    },
    "tags": []
   },
   "outputs": [],
   "source": [
    "#hide\n",
    "overview = '''\n",
    "<!-- #######  HTML!! #########-->\n",
    "<h1 style=\"color: #5e9ca0; text-align: center;\">India</h1>\n",
    "<p style=\"text-align: center;\">Last update: <strong>{update}</strong></p>\n",
    "<p style=\"text-align: center;\">Confirmed cases:</p>\n",
    "<p style=\"text-align: center;font-size:24px;\">{cases} (<span style=\"color: #ff0000;\">+{new}</span>)</p>\n",
    "<p style=\"text-align: center;\">Confirmed deaths:</p>\n",
    "<p style=\"text-align: center;font-size:24px;\">{deaths} (<span style=\"color: #ff0000;\">+{dnew}</span>)</p>\n",
    "'''"
   ]
  },
  {
   "cell_type": "code",
   "execution_count": 16,
   "metadata": {
    "execution": {
     "iopub.execute_input": "2020-09-21T10:53:07.587926Z",
     "iopub.status.busy": "2020-09-21T10:53:07.587204Z",
     "iopub.status.idle": "2020-09-21T10:53:07.590302Z",
     "shell.execute_reply": "2020-09-21T10:53:07.590959Z"
    },
    "papermill": {
     "duration": 0.028176,
     "end_time": "2020-09-21T10:53:07.591100",
     "exception": false,
     "start_time": "2020-09-21T10:53:07.562924",
     "status": "completed"
    },
    "tags": []
   },
   "outputs": [
    {
     "data": {
      "text/html": [
       "\n",
       "<!-- #######  HTML!! #########-->\n",
       "<h1 style=\"color: #5e9ca0; text-align: center;\">India</h1>\n",
       "<p style=\"text-align: center;\">Last update: <strong>2020-09-21</strong></p>\n",
       "<p style=\"text-align: center;\">Confirmed cases:</p>\n",
       "<p style=\"text-align: center;font-size:24px;\">5491410 (<span style=\"color: #ff0000;\">+5798</span>)</p>\n",
       "<p style=\"text-align: center;\">Confirmed deaths:</p>\n",
       "<p style=\"text-align: center;font-size:24px;\">87933 (<span style=\"color: #ff0000;\">+24</span>)</p>\n"
      ],
      "text/plain": [
       "<IPython.core.display.HTML object>"
      ]
     },
     "metadata": {},
     "output_type": "display_data"
    }
   ],
   "source": [
    "#hide_input\n",
    "update = summary['updated']\n",
    "cases = summary['Cases']\n",
    "new = summary['Cases (+)']\n",
    "deaths = summary['Deaths']\n",
    "dnew = summary['Deaths (+)']\n",
    "\n",
    "html = HTML(overview.format(update=update, cases=cases,new=new,deaths=deaths,dnew=dnew))\n",
    "\n",
    "display(html)"
   ]
  },
  {
   "cell_type": "code",
   "execution_count": 17,
   "metadata": {
    "execution": {
     "iopub.execute_input": "2020-09-21T10:53:07.639744Z",
     "iopub.status.busy": "2020-09-21T10:53:07.639017Z",
     "iopub.status.idle": "2020-09-21T10:53:07.645326Z",
     "shell.execute_reply": "2020-09-21T10:53:07.644795Z"
    },
    "papermill": {
     "duration": 0.03471,
     "end_time": "2020-09-21T10:53:07.645467",
     "exception": false,
     "start_time": "2020-09-21T10:53:07.610757",
     "status": "completed"
    },
    "tags": []
   },
   "outputs": [],
   "source": [
    "#hide\n",
    "dt_cols = list(dft_cases.columns[1:])\n",
    "dft_ct_new_cases = dft_cases.groupby('state')[dt_cols].sum().diff(axis=1).fillna(0).astype(int)\n",
    "dft_ct_new_cases.sort_values(by = dates[-1], ascending = False,inplace = True)"
   ]
  },
  {
   "cell_type": "code",
   "execution_count": 18,
   "metadata": {
    "execution": {
     "iopub.execute_input": "2020-09-21T10:53:07.704772Z",
     "iopub.status.busy": "2020-09-21T10:53:07.704033Z",
     "iopub.status.idle": "2020-09-21T10:53:07.707332Z",
     "shell.execute_reply": "2020-09-21T10:53:07.707997Z"
    },
    "papermill": {
     "duration": 0.043347,
     "end_time": "2020-09-21T10:53:07.708162",
     "exception": false,
     "start_time": "2020-09-21T10:53:07.664815",
     "status": "completed"
    },
    "tags": []
   },
   "outputs": [
    {
     "data": {
      "text/html": [
       "<div>\n",
       "<style scoped>\n",
       "    .dataframe tbody tr th:only-of-type {\n",
       "        vertical-align: middle;\n",
       "    }\n",
       "\n",
       "    .dataframe tbody tr th {\n",
       "        vertical-align: top;\n",
       "    }\n",
       "\n",
       "    .dataframe thead th {\n",
       "        text-align: right;\n",
       "    }\n",
       "</style>\n",
       "<table border=\"1\" class=\"dataframe\">\n",
       "  <thead>\n",
       "    <tr style=\"text-align: right;\">\n",
       "      <th>states</th>\n",
       "      <th>2020-07-01</th>\n",
       "      <th>2020-07-02</th>\n",
       "      <th>2020-07-03</th>\n",
       "      <th>2020-07-04</th>\n",
       "      <th>2020-07-05</th>\n",
       "      <th>2020-07-06</th>\n",
       "      <th>2020-07-07</th>\n",
       "      <th>2020-07-08</th>\n",
       "      <th>2020-07-09</th>\n",
       "      <th>2020-07-10</th>\n",
       "      <th>...</th>\n",
       "      <th>2020-09-12</th>\n",
       "      <th>2020-09-13</th>\n",
       "      <th>2020-09-14</th>\n",
       "      <th>2020-09-15</th>\n",
       "      <th>2020-09-16</th>\n",
       "      <th>2020-09-17</th>\n",
       "      <th>2020-09-18</th>\n",
       "      <th>2020-09-19</th>\n",
       "      <th>2020-09-20</th>\n",
       "      <th>2020-09-21</th>\n",
       "    </tr>\n",
       "    <tr>\n",
       "      <th>state</th>\n",
       "      <th></th>\n",
       "      <th></th>\n",
       "      <th></th>\n",
       "      <th></th>\n",
       "      <th></th>\n",
       "      <th></th>\n",
       "      <th></th>\n",
       "      <th></th>\n",
       "      <th></th>\n",
       "      <th></th>\n",
       "      <th></th>\n",
       "      <th></th>\n",
       "      <th></th>\n",
       "      <th></th>\n",
       "      <th></th>\n",
       "      <th></th>\n",
       "      <th></th>\n",
       "      <th></th>\n",
       "      <th></th>\n",
       "      <th></th>\n",
       "      <th></th>\n",
       "    </tr>\n",
       "  </thead>\n",
       "  <tbody>\n",
       "    <tr>\n",
       "      <th>Odisha</th>\n",
       "      <td>0</td>\n",
       "      <td>229</td>\n",
       "      <td>561</td>\n",
       "      <td>495</td>\n",
       "      <td>469</td>\n",
       "      <td>456</td>\n",
       "      <td>571</td>\n",
       "      <td>527</td>\n",
       "      <td>577</td>\n",
       "      <td>755</td>\n",
       "      <td>...</td>\n",
       "      <td>3777</td>\n",
       "      <td>3913</td>\n",
       "      <td>4198</td>\n",
       "      <td>3645</td>\n",
       "      <td>4270</td>\n",
       "      <td>4241</td>\n",
       "      <td>4180</td>\n",
       "      <td>4209</td>\n",
       "      <td>4330</td>\n",
       "      <td>4242</td>\n",
       "    </tr>\n",
       "    <tr>\n",
       "      <th>Telangana</th>\n",
       "      <td>0</td>\n",
       "      <td>1213</td>\n",
       "      <td>1892</td>\n",
       "      <td>1850</td>\n",
       "      <td>1590</td>\n",
       "      <td>1831</td>\n",
       "      <td>1879</td>\n",
       "      <td>1924</td>\n",
       "      <td>1410</td>\n",
       "      <td>1278</td>\n",
       "      <td>...</td>\n",
       "      <td>2278</td>\n",
       "      <td>2216</td>\n",
       "      <td>1417</td>\n",
       "      <td>2058</td>\n",
       "      <td>2273</td>\n",
       "      <td>2159</td>\n",
       "      <td>2043</td>\n",
       "      <td>2123</td>\n",
       "      <td>2137</td>\n",
       "      <td>1302</td>\n",
       "    </tr>\n",
       "    <tr>\n",
       "      <th>Tripura</th>\n",
       "      <td>0</td>\n",
       "      <td>39</td>\n",
       "      <td>93</td>\n",
       "      <td>25</td>\n",
       "      <td>23</td>\n",
       "      <td>111</td>\n",
       "      <td>24</td>\n",
       "      <td>57</td>\n",
       "      <td>16</td>\n",
       "      <td>142</td>\n",
       "      <td>...</td>\n",
       "      <td>470</td>\n",
       "      <td>629</td>\n",
       "      <td>255</td>\n",
       "      <td>531</td>\n",
       "      <td>454</td>\n",
       "      <td>527</td>\n",
       "      <td>273</td>\n",
       "      <td>535</td>\n",
       "      <td>525</td>\n",
       "      <td>243</td>\n",
       "    </tr>\n",
       "    <tr>\n",
       "      <th>Mizoram</th>\n",
       "      <td>0</td>\n",
       "      <td>2</td>\n",
       "      <td>0</td>\n",
       "      <td>2</td>\n",
       "      <td>22</td>\n",
       "      <td>11</td>\n",
       "      <td>1</td>\n",
       "      <td>5</td>\n",
       "      <td>0</td>\n",
       "      <td>23</td>\n",
       "      <td>...</td>\n",
       "      <td>26</td>\n",
       "      <td>35</td>\n",
       "      <td>14</td>\n",
       "      <td>40</td>\n",
       "      <td>12</td>\n",
       "      <td>26</td>\n",
       "      <td>28</td>\n",
       "      <td>14</td>\n",
       "      <td>30</td>\n",
       "      <td>7</td>\n",
       "    </tr>\n",
       "    <tr>\n",
       "      <th>Dadra and Nagar Haveli and Daman and Diu</th>\n",
       "      <td>0</td>\n",
       "      <td>25</td>\n",
       "      <td>50</td>\n",
       "      <td>37</td>\n",
       "      <td>32</td>\n",
       "      <td>27</td>\n",
       "      <td>27</td>\n",
       "      <td>15</td>\n",
       "      <td>14</td>\n",
       "      <td>14</td>\n",
       "      <td>...</td>\n",
       "      <td>29</td>\n",
       "      <td>20</td>\n",
       "      <td>24</td>\n",
       "      <td>18</td>\n",
       "      <td>23</td>\n",
       "      <td>17</td>\n",
       "      <td>24</td>\n",
       "      <td>28</td>\n",
       "      <td>34</td>\n",
       "      <td>4</td>\n",
       "    </tr>\n",
       "  </tbody>\n",
       "</table>\n",
       "<p>5 rows × 83 columns</p>\n",
       "</div>"
      ],
      "text/plain": [
       "states                                    2020-07-01  2020-07-02  2020-07-03  \\\n",
       "state                                                                          \n",
       "Odisha                                             0         229         561   \n",
       "Telangana                                          0        1213        1892   \n",
       "Tripura                                            0          39          93   \n",
       "Mizoram                                            0           2           0   \n",
       "Dadra and Nagar Haveli and Daman and Diu           0          25          50   \n",
       "\n",
       "states                                    2020-07-04  2020-07-05  2020-07-06  \\\n",
       "state                                                                          \n",
       "Odisha                                           495         469         456   \n",
       "Telangana                                       1850        1590        1831   \n",
       "Tripura                                           25          23         111   \n",
       "Mizoram                                            2          22          11   \n",
       "Dadra and Nagar Haveli and Daman and Diu          37          32          27   \n",
       "\n",
       "states                                    2020-07-07  2020-07-08  2020-07-09  \\\n",
       "state                                                                          \n",
       "Odisha                                           571         527         577   \n",
       "Telangana                                       1879        1924        1410   \n",
       "Tripura                                           24          57          16   \n",
       "Mizoram                                            1           5           0   \n",
       "Dadra and Nagar Haveli and Daman and Diu          27          15          14   \n",
       "\n",
       "states                                    2020-07-10  ...  2020-09-12  \\\n",
       "state                                                 ...               \n",
       "Odisha                                           755  ...        3777   \n",
       "Telangana                                       1278  ...        2278   \n",
       "Tripura                                          142  ...         470   \n",
       "Mizoram                                           23  ...          26   \n",
       "Dadra and Nagar Haveli and Daman and Diu          14  ...          29   \n",
       "\n",
       "states                                    2020-09-13  2020-09-14  2020-09-15  \\\n",
       "state                                                                          \n",
       "Odisha                                          3913        4198        3645   \n",
       "Telangana                                       2216        1417        2058   \n",
       "Tripura                                          629         255         531   \n",
       "Mizoram                                           35          14          40   \n",
       "Dadra and Nagar Haveli and Daman and Diu          20          24          18   \n",
       "\n",
       "states                                    2020-09-16  2020-09-17  2020-09-18  \\\n",
       "state                                                                          \n",
       "Odisha                                          4270        4241        4180   \n",
       "Telangana                                       2273        2159        2043   \n",
       "Tripura                                          454         527         273   \n",
       "Mizoram                                           12          26          28   \n",
       "Dadra and Nagar Haveli and Daman and Diu          23          17          24   \n",
       "\n",
       "states                                    2020-09-19  2020-09-20  2020-09-21  \n",
       "state                                                                         \n",
       "Odisha                                          4209        4330        4242  \n",
       "Telangana                                       2123        2137        1302  \n",
       "Tripura                                          535         525         243  \n",
       "Mizoram                                           14          30           7  \n",
       "Dadra and Nagar Haveli and Daman and Diu          28          34           4  \n",
       "\n",
       "[5 rows x 83 columns]"
      ]
     },
     "execution_count": 18,
     "metadata": {},
     "output_type": "execute_result"
    }
   ],
   "source": [
    "#hide\n",
    "dft_ct_new_cases.head()"
   ]
  },
  {
   "cell_type": "code",
   "execution_count": 19,
   "metadata": {
    "execution": {
     "iopub.execute_input": "2020-09-21T10:53:07.767087Z",
     "iopub.status.busy": "2020-09-21T10:53:07.761857Z",
     "iopub.status.idle": "2020-09-21T10:53:12.127817Z",
     "shell.execute_reply": "2020-09-21T10:53:12.128414Z"
    },
    "papermill": {
     "duration": 4.400699,
     "end_time": "2020-09-21T10:53:12.128584",
     "exception": false,
     "start_time": "2020-09-21T10:53:07.727885",
     "status": "completed"
    },
    "tags": []
   },
   "outputs": [
    {
     "data": {
      "image/png": "[encoded data removed]",
      "text/plain": [
       "<Figure size 1296x2016 with 11 Axes>"
      ]
     },
     "metadata": {
      "needs_background": "light"
     },
     "output_type": "display_data"
    }
   ],
   "source": [
    "#hide_input\n",
    "df = dft_ct_new_cases.copy()\n",
    "df.loc['Total'] = df.sum()\n",
    "n = 5\n",
    "ax = []\n",
    "fig = plt.figure(figsize = (18,28))\n",
    "gs = fig.add_gridspec(n+2, 5)\n",
    "# gs = fig.add_gridspec(2, 3)\n",
    "ax1 = fig.add_subplot(gs[0, :])\n",
    "ef = df.loc['Total'].rename_axis('date').reset_index()\n",
    "ef['date'] = ef['date'].astype('datetime64[ns]')\n",
    "ax1.bar(ef.date,ef.Total,alpha=0.3,color='#007acc')\n",
    "ax1.plot(ef.date,ef.Total , marker=\"o\", color='#007acc')\n",
    "ax1.xaxis.set_major_locator(mdates.WeekdayLocator())\n",
    "ax1.xaxis.set_major_formatter(mdates.DateFormatter('%b %d'))\n",
    "ax1.text(0.02, 0.5,'India daily case count', transform = ax1.transAxes, fontsize=25);\n",
    "ax1.spines['right'].set_visible(False)\n",
    "ax1.spines['top'].set_visible(False)\n",
    "\n",
    "ax2 = fig.add_subplot(gs[1,0])\n",
    "ef = df.loc['Maharashtra'].rename_axis('date').reset_index()\n",
    "ef['date'] = ef['date'].astype('datetime64[ns]')\n",
    "\n",
    "ax2.bar(ef.date, ef.Maharashtra,color = '#007acc',alpha=0.5)\n",
    "ax2.xaxis.set_major_locator(mdates.WeekdayLocator())\n",
    "ax2.xaxis.set_major_formatter(mdates.DateFormatter('%b %d'))\n",
    "ax2.set_xticks(ax2.get_xticks()[::3])\n",
    "maxyval = ef.Maharashtra.max()\n",
    "ax2.set_ylim([0,maxyval])\n",
    "ax2.text(0.05, 0.9,'Maharashtra', transform = ax2.transAxes, fontsize=20);\n",
    "ax2.spines['right'].set_visible(False)\n",
    "ax2.spines['top'].set_visible(False)\n",
    "\n",
    "\n",
    "ax3 = fig.add_subplot(gs[1,1])\n",
    "ef = df.loc['Tamil Nadu'].rename_axis('date').reset_index()\n",
    "ef['date'] = ef['date'].astype('datetime64[ns]')\n",
    "ax3.bar(ef.date, ef['Tamil Nadu'],color = '#007acc',alpha=0.5,)\n",
    "ax3.xaxis.set_major_locator(mdates.WeekdayLocator())\n",
    "ax3.xaxis.set_major_formatter(mdates.DateFormatter('%b %d'))\n",
    "ax3.set_xticks(ax3.get_xticks()[::3])\n",
    "ax3.text(0.05, 0.9,'Tamil Nadu', transform = ax3.transAxes, fontsize=20);\n",
    "ax3.spines['right'].set_visible(False)\n",
    "ax3.spines['top'].set_visible(False)\n",
    "\n",
    "ax5 = fig.add_subplot(gs[1,3])\n",
    "ef = df.loc['Telangana'].rename_axis('date').reset_index()\n",
    "ef['date'] = ef['date'].astype('datetime64[ns]')\n",
    "ax5.bar(ef.date, ef['Telangana'],color = '#007acc',alpha=0.5,)\n",
    "ax5.xaxis.set_major_locator(mdates.WeekdayLocator())\n",
    "ax5.xaxis.set_major_formatter(mdates.DateFormatter('%b %d'))\n",
    "ax5.set_xticks(ax5.get_xticks()[::3])\n",
    "ax5.text(0.05, 0.9,'Telangana', transform = ax5.transAxes, fontsize=20);\n",
    "ax5.spines['right'].set_visible(False)\n",
    "ax5.spines['top'].set_visible(False)\n",
    "\n",
    "ax6 = fig.add_subplot(gs[1,4])\n",
    "ef = df.loc['Andhra Pradesh'].rename_axis('date').reset_index()\n",
    "ef['date'] = ef['date'].astype('datetime64[ns]')\n",
    "ax6.bar(ef.date, ef['Andhra Pradesh'],color = '#007acc',alpha=0.5,)\n",
    "ax6.xaxis.set_major_locator(mdates.WeekdayLocator())\n",
    "ax6.xaxis.set_major_formatter(mdates.DateFormatter('%b %d'))\n",
    "ax6.set_xticks(ax6.get_xticks()[::3])\n",
    "ax6.text(0.05, 1,'Andhra Pradesh', transform = ax6.transAxes, fontsize=20);\n",
    "ax6.spines['right'].set_visible(False)\n",
    "ax6.spines['top'].set_visible(False)\n",
    "\n",
    "ax4 = fig.add_subplot(gs[1,2])\n",
    "ef = df.loc['Delhi'].rename_axis('date').reset_index()\n",
    "ef['date'] = ef['date'].astype('datetime64[ns]')\n",
    "ax4.bar(ef.date, ef.Delhi,color = '#007acc',alpha=0.5)\n",
    "ax4.set_xticks([])\n",
    "ax4.xaxis.set_major_locator(mdates.WeekdayLocator())\n",
    "ax4.xaxis.set_major_formatter(mdates.DateFormatter('%b %d'))\n",
    "ax4.set_xticks(ax4.get_xticks()[::3])\n",
    "ax4.spines['right'].set_visible(False)\n",
    "ax4.spines['top'].set_visible(False)\n",
    "\n",
    "ax4.text(0.05, 1,'Delhi', transform = ax4.transAxes, fontsize=20)\n",
    "\n",
    "for i in range(n):\n",
    "    \n",
    "    ax.append(fig.add_subplot(gs[i+2,:]))\n",
    "    ef = df.iloc[i+3].rename_axis('date').reset_index()\n",
    "    ef['date'] = ef['date'].astype('datetime64[ns]')\n",
    "    ax[i].bar(ef.date,ef.iloc[:,-1],color = '#007acc',alpha=0.3)\n",
    "    ax[i].plot(ef.date,ef.iloc[:,-1],marker='o',color='#007acc')\n",
    "    ax[i].text(0.02,0.5,f'{ef.columns.values[-1]}',transform = ax[i].transAxes, fontsize = 20);\n",
    "    ax[i].xaxis.set_major_locator(mdates.WeekdayLocator())\n",
    "    ax[i].xaxis.set_major_formatter(mdates.DateFormatter('%b %d'))\n",
    "    ax[i].set_ylim([0,7000])\n",
    "    ax[i].spines['right'].set_visible(False)\n",
    "    ax[i].spines['top'].set_visible(False)\n",
    "plt.tight_layout()\n"
   ]
  },
  {
   "cell_type": "code",
   "execution_count": 20,
   "metadata": {
    "execution": {
     "iopub.execute_input": "2020-09-21T10:53:12.188209Z",
     "iopub.status.busy": "2020-09-21T10:53:12.187563Z",
     "iopub.status.idle": "2020-09-21T10:53:12.190285Z",
     "shell.execute_reply": "2020-09-21T10:53:12.190876Z"
    },
    "papermill": {
     "duration": 0.038421,
     "end_time": "2020-09-21T10:53:12.191008",
     "exception": false,
     "start_time": "2020-09-21T10:53:12.152587",
     "status": "completed"
    },
    "tags": []
   },
   "outputs": [
    {
     "name": "stdout",
     "output_type": "stream",
     "text": [
      "                                   states    Cases  Deaths   PCases  PDeaths  Cases (+)  Deaths (+)  Fatality Rate\n",
      "                              Maharashtra  1208642   32671  1208642    32671          0           0           2.70\n",
      "                           Andhra Pradesh   625514    5359   625514     5359          0           0           0.86\n",
      "                               Tamil Nadu   541993    8811   541993     8811          0           0           1.63\n",
      "                                Karnataka   519537    8023   519537     8023          0           0           1.54\n",
      "                            Uttar Pradesh   354275    5047   354275     5047          0           0           1.42\n",
      "                                    Delhi   246711    4982   246711     4982          0           0           2.02\n",
      "                              West Bengal   225137    4359   225137     4359          0           0           1.94\n",
      "                                   Odisha   184122     763   179880      754       4242           9           0.41\n",
      "                                Telangana   172608    1042   171306     1033       1302           9           0.60\n",
      "                                    Bihar   168542     864   168542      864          0           0           0.51\n",
      "                                    Assam   156680     562   156680      562          0           0           0.36\n",
      "                                   Kerala   135723     536   135723      536          0           0           0.39\n",
      "                                  Gujarat   123337    3320   123337     3320          0           0           2.69\n",
      "                                Rajasthan   114989    1336   114989     1336          0           0           1.16\n",
      "                                  Haryana   111257    1149   111257     1149          0           0           1.03\n",
      "                           Madhya Pradesh   105644    1970   105644     1970          0           0           1.86\n",
      "                                   Punjab    97689    2813    97689     2813          0           0           2.88\n",
      "                             Chhattisgarh    86183     677    86183      677          0           0           0.79\n",
      "                                Jharkhand    71352     617    71352      617          0           0           0.86\n",
      "                        Jammu and Kashmir    63990    1001    63990     1001          0           0           1.56\n",
      "                              Uttarakhand    40963     491    40963      491          0           0           1.20\n",
      "                                      Goa    28429     351    28429      351          0           0           1.23\n",
      "                               Puducherry    22923     458    22923      458          0           0           2.00\n",
      "                                  Tripura    22272     245    22029      239        243           6           1.10\n",
      "                         Himachal Pradesh    12129     118    12129      118          0           0           0.97\n",
      "                               Chandigarh    10082     120    10082      120          0           0           1.19\n",
      "                                  Manipur     8894      57     8894       57          0           0           0.64\n",
      "                        Arunachal Pradesh     7385      13     7385       13          0           0           0.18\n",
      "                                 Nagaland     5451      10     5451       10          0           0           0.18\n",
      "                                Meghalaya     4660      36     4660       36          0           0           0.77\n",
      "                                   Ladakh     3753      49     3753       49          0           0           1.31\n",
      "              Andaman and Nicobar Islands     3651      52     3651       52          0           0           1.42\n",
      " Dadra and Nagar Haveli and Daman and Diu     2917       2     2913        2          4           0           0.07\n",
      "                                   Sikkim     2391      29     2391       29          0           0           1.21\n",
      "                                  Mizoram     1585       0     1578        0          7           0           0.00\n",
      "                              Lakshadweep        0       0        0        0          0           0            NaN\n"
     ]
    }
   ],
   "source": [
    "#hide_input\n",
    "print(df_table.to_string(index=False))"
   ]
  },
  {
   "cell_type": "code",
   "execution_count": null,
   "metadata": {
    "papermill": {
     "duration": 0.02264,
     "end_time": "2020-09-21T10:53:12.236541",
     "exception": false,
     "start_time": "2020-09-21T10:53:12.213901",
     "status": "completed"
    },
    "tags": []
   },
   "outputs": [],
   "source": []
  },
  {
   "cell_type": "code",
   "execution_count": null,
   "metadata": {
    "papermill": {
     "duration": 0.022484,
     "end_time": "2020-09-21T10:53:12.282890",
     "exception": false,
     "start_time": "2020-09-21T10:53:12.260406",
     "status": "completed"
    },
    "tags": []
   },
   "outputs": [],
   "source": []
  }
 ],
 "metadata": {
  "kernelspec": {
   "display_name": "Python 3",
   "language": "python",
   "name": "python3"
  },
  "language_info": {
   "codemirror_mode": {
    "name": "ipython",
    "version": 3
   },
   "file_extension": ".py",
   "mimetype": "text/x-python",
   "name": "python",
   "nbconvert_exporter": "python",
   "pygments_lexer": "ipython3",
   "version": "3.6.12"
  },
  "papermill": {
   "duration": 10.767699,
   "end_time": "2020-09-21T10:53:12.714254",
   "environment_variables": {},
   "exception": null,
   "input_path": "latest.ipynb",
   "output_path": "latest.ipynb",
   "parameters": {},
   "start_time": "2020-09-21T10:53:01.946555",
   "version": "2.1.2"
  }
 },
 "nbformat": 4,
 "nbformat_minor": 4
}