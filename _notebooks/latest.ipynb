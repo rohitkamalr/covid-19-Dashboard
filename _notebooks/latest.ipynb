{
 "cells": [
  {
   "cell_type": "markdown",
   "metadata": {
    "papermill": {
     "duration": 0.018543,
     "end_time": "2020-08-24T13:18:51.842513",
     "exception": false,
     "start_time": "2020-08-24T13:18:51.823970",
     "status": "completed"
    },
    "tags": []
   },
   "source": [
    "# Latest COVID-19 India Matplotlib Overview"
   ]
  },
  {
   "cell_type": "code",
   "execution_count": 1,
   "metadata": {
    "execution": {
     "iopub.execute_input": "2020-08-24T13:18:51.882344Z",
     "iopub.status.busy": "2020-08-24T13:18:51.881706Z",
     "iopub.status.idle": "2020-08-24T13:18:52.527010Z",
     "shell.execute_reply": "2020-08-24T13:18:52.526215Z"
    },
    "papermill": {
     "duration": 0.668871,
     "end_time": "2020-08-24T13:18:52.527170",
     "exception": false,
     "start_time": "2020-08-24T13:18:51.858299",
     "status": "completed"
    },
    "tags": []
   },
   "outputs": [],
   "source": [
    "#hide\n",
    "import pandas as pd\n",
    "import numpy as np\n",
    "import requests\n",
    "import json\n",
    "import matplotlib.pyplot as plt\n",
    "import matplotlib.dates as mdates\n",
    "import matplotlib as mpl\n",
    "from IPython.core.display import display,HTML\n",
    "%matplotlib inline\n",
    "from datetime import date"
   ]
  },
  {
   "cell_type": "code",
   "execution_count": 2,
   "metadata": {
    "execution": {
     "iopub.execute_input": "2020-08-24T13:18:52.567007Z",
     "iopub.status.busy": "2020-08-24T13:18:52.566323Z",
     "iopub.status.idle": "2020-08-24T13:18:52.765866Z",
     "shell.execute_reply": "2020-08-24T13:18:52.766374Z"
    },
    "papermill": {
     "duration": 0.223424,
     "end_time": "2020-08-24T13:18:52.766536",
     "exception": false,
     "start_time": "2020-08-24T13:18:52.543112",
     "status": "completed"
    },
    "tags": []
   },
   "outputs": [],
   "source": [
    "#hide\n",
    "df  = pd.read_csv('https://api.covid19india.org/csv/latest/states.csv')\n",
    "df = df[['Date','State','Confirmed','Deceased']]\n",
    "df = df.rename(columns={'Confirmed':'Cases', \"Deceased\":'Deaths'})\n",
    "df_cases = df[[\"Date\",'State','Cases']]\n",
    "df_deaths = df[['Date','State','Deaths']]\n",
    "df_cases1 = df_cases.groupby('Date')\n",
    "df_deaths1= df_deaths.groupby('Date')"
   ]
  },
  {
   "cell_type": "code",
   "execution_count": 3,
   "metadata": {
    "execution": {
     "iopub.execute_input": "2020-08-24T13:18:52.803911Z",
     "iopub.status.busy": "2020-08-24T13:18:52.803241Z",
     "iopub.status.idle": "2020-08-24T13:18:52.822041Z",
     "shell.execute_reply": "2020-08-24T13:18:52.821504Z"
    },
    "papermill": {
     "duration": 0.040008,
     "end_time": "2020-08-24T13:18:52.822188",
     "exception": false,
     "start_time": "2020-08-24T13:18:52.782180",
     "status": "completed"
    },
    "tags": []
   },
   "outputs": [],
   "source": [
    "#hide\n",
    "df_snap = pd.read_csv('data/SnapshotCases-28-July.csv')\n",
    "arr_states = df_snap['states'].unique()\n",
    "arr_dates = df['Date'].unique()\n",
    "df_snap = df_snap.set_index('states')"
   ]
  },
  {
   "cell_type": "code",
   "execution_count": 4,
   "metadata": {
    "execution": {
     "iopub.execute_input": "2020-08-24T13:18:52.861975Z",
     "iopub.status.busy": "2020-08-24T13:18:52.861241Z",
     "iopub.status.idle": "2020-08-24T13:18:52.863512Z",
     "shell.execute_reply": "2020-08-24T13:18:52.864077Z"
    },
    "papermill": {
     "duration": 0.026493,
     "end_time": "2020-08-24T13:18:52.864230",
     "exception": false,
     "start_time": "2020-08-24T13:18:52.837737",
     "status": "completed"
    },
    "tags": []
   },
   "outputs": [
    {
     "data": {
      "text/plain": [
       "array(['Andaman and Nicobar Islands', 'Andhra Pradesh',\n",
       "       'Arunachal Pradesh', 'Assam', 'Bihar', 'Chandigarh',\n",
       "       'Dadra and Nagar Haveli and Daman and Diu', 'Delhi', 'Goa',\n",
       "       'Gujarat', 'Haryana', 'Himachal Pradesh', 'Jammu and Kashmir',\n",
       "       'Jharkhand', 'Karnataka', 'Kerala', 'Lakshadweep',\n",
       "       'Madhya Pradesh', 'Maharashtra', 'Manipur', 'Meghalaya', 'Mizoram',\n",
       "       'Nagaland', 'Odisha', 'Puducherry', 'Punjab', 'Rajasthan',\n",
       "       'Sikkim', 'Tamil Nadu', 'Telangana', 'Tripura', 'Uttar Pradesh',\n",
       "       'West Bengal', 'Chhattisgarh', 'Ladakh', 'Uttarakhand'],\n",
       "      dtype=object)"
      ]
     },
     "execution_count": 4,
     "metadata": {},
     "output_type": "execute_result"
    }
   ],
   "source": [
    "#hide\n",
    "arr_states[-9] = 'Puducherry'\n",
    "arr_states[-10] = 'Odisha'\n",
    "arr_states[6] = 'Dadra and Nagar Haveli and Daman and Diu'\n",
    "arr_states = np.append(arr_states,np.array(['Chhattisgarh','Ladakh','Uttarakhand']))\n",
    "arr_states"
   ]
  },
  {
   "cell_type": "code",
   "execution_count": 5,
   "metadata": {
    "execution": {
     "iopub.execute_input": "2020-08-24T13:18:52.908206Z",
     "iopub.status.busy": "2020-08-24T13:18:52.904690Z",
     "iopub.status.idle": "2020-08-24T13:18:52.916663Z",
     "shell.execute_reply": "2020-08-24T13:18:52.915999Z"
    },
    "papermill": {
     "duration": 0.036326,
     "end_time": "2020-08-24T13:18:52.916812",
     "exception": false,
     "start_time": "2020-08-24T13:18:52.880486",
     "status": "completed"
    },
    "tags": []
   },
   "outputs": [],
   "source": [
    "#hide\n",
    "dates = []\n",
    "for i in arr_dates:\n",
    "    if i>='2020-07-01':\n",
    "        dates.append(i)\n",
    "dict = {'states':dates}\n",
    "for i in arr_states:\n",
    "    dict[i] = [0]*len(dates)\n",
    "dft_cases = pd.DataFrame(dict)\n",
    "dft_deaths = pd.DataFrame(dict)\n"
   ]
  },
  {
   "cell_type": "code",
   "execution_count": 6,
   "metadata": {
    "execution": {
     "iopub.execute_input": "2020-08-24T13:18:52.956889Z",
     "iopub.status.busy": "2020-08-24T13:18:52.956217Z",
     "iopub.status.idle": "2020-08-24T13:18:53.704651Z",
     "shell.execute_reply": "2020-08-24T13:18:53.704082Z"
    },
    "papermill": {
     "duration": 0.772182,
     "end_time": "2020-08-24T13:18:53.704795",
     "exception": false,
     "start_time": "2020-08-24T13:18:52.932613",
     "status": "completed"
    },
    "tags": []
   },
   "outputs": [],
   "source": [
    "#hide\n",
    "for i in range(len(dates)):\n",
    "    df1_deaths = df_deaths1.get_group(dates[i])\n",
    "    for j in range(len(df1_deaths.index)):\n",
    "        if df1_deaths.iloc[j,1] in arr_states:\n",
    "            dft_deaths.loc[i,df1_deaths.iloc[j,1]] = df1_deaths.iloc[j,2]\n",
    "dft_deaths = dft_deaths.set_index('states')"
   ]
  },
  {
   "cell_type": "code",
   "execution_count": 7,
   "metadata": {
    "execution": {
     "iopub.execute_input": "2020-08-24T13:18:53.748117Z",
     "iopub.status.busy": "2020-08-24T13:18:53.747430Z",
     "iopub.status.idle": "2020-08-24T13:18:54.514714Z",
     "shell.execute_reply": "2020-08-24T13:18:54.514047Z"
    },
    "papermill": {
     "duration": 0.792048,
     "end_time": "2020-08-24T13:18:54.514867",
     "exception": false,
     "start_time": "2020-08-24T13:18:53.722819",
     "status": "completed"
    },
    "tags": []
   },
   "outputs": [],
   "source": [
    "#hide\n",
    "for i in range(len(dates)):\n",
    "    df1_cases = df_cases1.get_group(dates[i])\n",
    "    for j in range(len(df1_cases.index)):\n",
    "        if df1_cases.iloc[j,1] in arr_states:\n",
    "            dft_cases.loc[i,df1_cases.iloc[j,1]] = df1_cases.iloc[j,2]\n",
    "dft_cases = dft_cases.set_index('states')"
   ]
  },
  {
   "cell_type": "code",
   "execution_count": 8,
   "metadata": {
    "execution": {
     "iopub.execute_input": "2020-08-24T13:18:54.553955Z",
     "iopub.status.busy": "2020-08-24T13:18:54.553305Z",
     "iopub.status.idle": "2020-08-24T13:18:54.555120Z",
     "shell.execute_reply": "2020-08-24T13:18:54.555686Z"
    },
    "papermill": {
     "duration": 0.024626,
     "end_time": "2020-08-24T13:18:54.555880",
     "exception": false,
     "start_time": "2020-08-24T13:18:54.531254",
     "status": "completed"
    },
    "tags": []
   },
   "outputs": [],
   "source": [
    "#hide\n",
    "dft_cases = dft_cases.T\n",
    "dft_deaths = dft_deaths.T\n",
    "dt_today = dates[-1]\n",
    "dt_yday = dates[-2]"
   ]
  },
  {
   "cell_type": "code",
   "execution_count": 9,
   "metadata": {
    "execution": {
     "iopub.execute_input": "2020-08-24T13:18:54.600285Z",
     "iopub.status.busy": "2020-08-24T13:18:54.599680Z",
     "iopub.status.idle": "2020-08-24T13:18:54.601781Z",
     "shell.execute_reply": "2020-08-24T13:18:54.602261Z"
    },
    "papermill": {
     "duration": 0.028057,
     "end_time": "2020-08-24T13:18:54.602457",
     "exception": false,
     "start_time": "2020-08-24T13:18:54.574400",
     "status": "completed"
    },
    "tags": []
   },
   "outputs": [],
   "source": [
    "#hide\n",
    "dft_cases = dft_cases.reset_index()\n",
    "dft_deaths = dft_deaths.reset_index()\n",
    "dft_cases = dft_cases.rename(columns = {'index':'state'})\n",
    "dft_deaths = dft_deaths.rename(columns = {'index':'state'})"
   ]
  },
  {
   "cell_type": "code",
   "execution_count": 10,
   "metadata": {
    "execution": {
     "iopub.execute_input": "2020-08-24T13:18:54.647474Z",
     "iopub.status.busy": "2020-08-24T13:18:54.646850Z",
     "iopub.status.idle": "2020-08-24T13:18:54.649861Z",
     "shell.execute_reply": "2020-08-24T13:18:54.649185Z"
    },
    "papermill": {
     "duration": 0.030762,
     "end_time": "2020-08-24T13:18:54.650011",
     "exception": false,
     "start_time": "2020-08-24T13:18:54.619249",
     "status": "completed"
    },
    "tags": []
   },
   "outputs": [],
   "source": [
    "#hide\n",
    "dfc_cases = dft_cases.groupby('state')[dt_today].sum()\n",
    "dfc_deaths = dft_deaths.groupby('state')[dt_today].sum()\n",
    "dfp_cases = dft_cases.groupby('state')[dt_yday].sum()\n",
    "dfp_deaths = dft_deaths.groupby('state')[dt_yday].sum()"
   ]
  },
  {
   "cell_type": "code",
   "execution_count": 11,
   "metadata": {
    "execution": {
     "iopub.execute_input": "2020-08-24T13:18:54.815223Z",
     "iopub.status.busy": "2020-08-24T13:18:54.814616Z",
     "iopub.status.idle": "2020-08-24T13:18:54.837261Z",
     "shell.execute_reply": "2020-08-24T13:18:54.837881Z"
    },
    "papermill": {
     "duration": 0.171892,
     "end_time": "2020-08-24T13:18:54.838056",
     "exception": false,
     "start_time": "2020-08-24T13:18:54.666164",
     "status": "completed"
    },
    "tags": []
   },
   "outputs": [
    {
     "data": {
      "text/html": [
       "<div>\n",
       "<style scoped>\n",
       "    .dataframe tbody tr th:only-of-type {\n",
       "        vertical-align: middle;\n",
       "    }\n",
       "\n",
       "    .dataframe tbody tr th {\n",
       "        vertical-align: top;\n",
       "    }\n",
       "\n",
       "    .dataframe thead th {\n",
       "        text-align: right;\n",
       "    }\n",
       "</style>\n",
       "<table border=\"1\" class=\"dataframe\">\n",
       "  <thead>\n",
       "    <tr style=\"text-align: right;\">\n",
       "      <th></th>\n",
       "      <th>states</th>\n",
       "      <th>Cases</th>\n",
       "      <th>Deaths</th>\n",
       "      <th>PCases</th>\n",
       "      <th>PDeaths</th>\n",
       "    </tr>\n",
       "  </thead>\n",
       "  <tbody>\n",
       "    <tr>\n",
       "      <th>0</th>\n",
       "      <td>Maharashtra</td>\n",
       "      <td>682383</td>\n",
       "      <td>22253</td>\n",
       "      <td>682383</td>\n",
       "      <td>22253</td>\n",
       "    </tr>\n",
       "    <tr>\n",
       "      <th>1</th>\n",
       "      <td>Tamil Nadu</td>\n",
       "      <td>379385</td>\n",
       "      <td>6517</td>\n",
       "      <td>379385</td>\n",
       "      <td>6517</td>\n",
       "    </tr>\n",
       "    <tr>\n",
       "      <th>2</th>\n",
       "      <td>Andhra Pradesh</td>\n",
       "      <td>361712</td>\n",
       "      <td>3368</td>\n",
       "      <td>353111</td>\n",
       "      <td>3282</td>\n",
       "    </tr>\n",
       "    <tr>\n",
       "      <th>3</th>\n",
       "      <td>Karnataka</td>\n",
       "      <td>277814</td>\n",
       "      <td>4683</td>\n",
       "      <td>277814</td>\n",
       "      <td>4683</td>\n",
       "    </tr>\n",
       "    <tr>\n",
       "      <th>4</th>\n",
       "      <td>Uttar Pradesh</td>\n",
       "      <td>192382</td>\n",
       "      <td>2987</td>\n",
       "      <td>187781</td>\n",
       "      <td>2926</td>\n",
       "    </tr>\n",
       "  </tbody>\n",
       "</table>\n",
       "</div>"
      ],
      "text/plain": [
       "           states   Cases  Deaths  PCases  PDeaths\n",
       "0     Maharashtra  682383   22253  682383    22253\n",
       "1      Tamil Nadu  379385    6517  379385     6517\n",
       "2  Andhra Pradesh  361712    3368  353111     3282\n",
       "3       Karnataka  277814    4683  277814     4683\n",
       "4   Uttar Pradesh  192382    2987  187781     2926"
      ]
     },
     "execution_count": 11,
     "metadata": {},
     "output_type": "execute_result"
    }
   ],
   "source": [
    "#hide\n",
    "df_table = pd.DataFrame({'states': dfc_cases.index, 'Cases': dfc_cases.values, 'Deaths': dfc_deaths.values, 'PCases': dfp_cases.values, 'PDeaths': dfp_deaths.values}).set_index('states')\n",
    "df_table = df_table.sort_values(by = ['Cases','Deaths'], ascending = [False, False])\n",
    "df_table = df_table.reset_index()\n",
    "df_table.head()"
   ]
  },
  {
   "cell_type": "code",
   "execution_count": 12,
   "metadata": {
    "execution": {
     "iopub.execute_input": "2020-08-24T13:18:55.112604Z",
     "iopub.status.busy": "2020-08-24T13:18:55.111952Z",
     "iopub.status.idle": "2020-08-24T13:18:55.121620Z",
     "shell.execute_reply": "2020-08-24T13:18:55.121057Z"
    },
    "papermill": {
     "duration": 0.204431,
     "end_time": "2020-08-24T13:18:55.121766",
     "exception": false,
     "start_time": "2020-08-24T13:18:54.917335",
     "status": "completed"
    },
    "tags": []
   },
   "outputs": [],
   "source": [
    "#hide\n",
    "for c in 'Cases, Deaths'.split(', '):\n",
    "    df_table[f'{c} (+)'] = (df_table[c] - df_table[f'P{c}']).clip(0)\n",
    "df_table['Fatality Rate'] = (100* df_table['Deaths']/ df_table['Cases']).round(2)"
   ]
  },
  {
   "cell_type": "code",
   "execution_count": 13,
   "metadata": {
    "execution": {
     "iopub.execute_input": "2020-08-24T13:18:55.165831Z",
     "iopub.status.busy": "2020-08-24T13:18:55.165204Z",
     "iopub.status.idle": "2020-08-24T13:18:55.167675Z",
     "shell.execute_reply": "2020-08-24T13:18:55.168144Z"
    },
    "papermill": {
     "duration": 0.030333,
     "end_time": "2020-08-24T13:18:55.168291",
     "exception": false,
     "start_time": "2020-08-24T13:18:55.137958",
     "status": "completed"
    },
    "tags": []
   },
   "outputs": [
    {
     "data": {
      "text/html": [
       "<div>\n",
       "<style scoped>\n",
       "    .dataframe tbody tr th:only-of-type {\n",
       "        vertical-align: middle;\n",
       "    }\n",
       "\n",
       "    .dataframe tbody tr th {\n",
       "        vertical-align: top;\n",
       "    }\n",
       "\n",
       "    .dataframe thead th {\n",
       "        text-align: right;\n",
       "    }\n",
       "</style>\n",
       "<table border=\"1\" class=\"dataframe\">\n",
       "  <thead>\n",
       "    <tr style=\"text-align: right;\">\n",
       "      <th></th>\n",
       "      <th>states</th>\n",
       "      <th>Cases</th>\n",
       "      <th>Deaths</th>\n",
       "      <th>PCases</th>\n",
       "      <th>PDeaths</th>\n",
       "      <th>Cases (+)</th>\n",
       "      <th>Deaths (+)</th>\n",
       "      <th>Fatality Rate</th>\n",
       "    </tr>\n",
       "  </thead>\n",
       "  <tbody>\n",
       "    <tr>\n",
       "      <th>0</th>\n",
       "      <td>Maharashtra</td>\n",
       "      <td>682383</td>\n",
       "      <td>22253</td>\n",
       "      <td>682383</td>\n",
       "      <td>22253</td>\n",
       "      <td>0</td>\n",
       "      <td>0</td>\n",
       "      <td>3.26</td>\n",
       "    </tr>\n",
       "    <tr>\n",
       "      <th>1</th>\n",
       "      <td>Tamil Nadu</td>\n",
       "      <td>379385</td>\n",
       "      <td>6517</td>\n",
       "      <td>379385</td>\n",
       "      <td>6517</td>\n",
       "      <td>0</td>\n",
       "      <td>0</td>\n",
       "      <td>1.72</td>\n",
       "    </tr>\n",
       "    <tr>\n",
       "      <th>2</th>\n",
       "      <td>Andhra Pradesh</td>\n",
       "      <td>361712</td>\n",
       "      <td>3368</td>\n",
       "      <td>353111</td>\n",
       "      <td>3282</td>\n",
       "      <td>8601</td>\n",
       "      <td>86</td>\n",
       "      <td>0.93</td>\n",
       "    </tr>\n",
       "    <tr>\n",
       "      <th>3</th>\n",
       "      <td>Karnataka</td>\n",
       "      <td>277814</td>\n",
       "      <td>4683</td>\n",
       "      <td>277814</td>\n",
       "      <td>4683</td>\n",
       "      <td>0</td>\n",
       "      <td>0</td>\n",
       "      <td>1.69</td>\n",
       "    </tr>\n",
       "    <tr>\n",
       "      <th>4</th>\n",
       "      <td>Uttar Pradesh</td>\n",
       "      <td>192382</td>\n",
       "      <td>2987</td>\n",
       "      <td>187781</td>\n",
       "      <td>2926</td>\n",
       "      <td>4601</td>\n",
       "      <td>61</td>\n",
       "      <td>1.55</td>\n",
       "    </tr>\n",
       "  </tbody>\n",
       "</table>\n",
       "</div>"
      ],
      "text/plain": [
       "           states   Cases  Deaths  PCases  PDeaths  Cases (+)  Deaths (+)  \\\n",
       "0     Maharashtra  682383   22253  682383    22253          0           0   \n",
       "1      Tamil Nadu  379385    6517  379385     6517          0           0   \n",
       "2  Andhra Pradesh  361712    3368  353111     3282       8601          86   \n",
       "3       Karnataka  277814    4683  277814     4683          0           0   \n",
       "4   Uttar Pradesh  192382    2987  187781     2926       4601          61   \n",
       "\n",
       "   Fatality Rate  \n",
       "0           3.26  \n",
       "1           1.72  \n",
       "2           0.93  \n",
       "3           1.69  \n",
       "4           1.55  "
      ]
     },
     "execution_count": 13,
     "metadata": {},
     "output_type": "execute_result"
    }
   ],
   "source": [
    "#hide\n",
    "df_table.head()"
   ]
  },
  {
   "cell_type": "code",
   "execution_count": 14,
   "metadata": {
    "execution": {
     "iopub.execute_input": "2020-08-24T13:18:55.209712Z",
     "iopub.status.busy": "2020-08-24T13:18:55.209010Z",
     "iopub.status.idle": "2020-08-24T13:18:55.226247Z",
     "shell.execute_reply": "2020-08-24T13:18:55.225698Z"
    },
    "papermill": {
     "duration": 0.041671,
     "end_time": "2020-08-24T13:18:55.226394",
     "exception": false,
     "start_time": "2020-08-24T13:18:55.184723",
     "status": "completed"
    },
    "tags": []
   },
   "outputs": [
    {
     "data": {
      "text/plain": [
       "{'updated': '2020-08-24',\n",
       " 'since': '2020-08-23',\n",
       " 'Cases': 3126077,\n",
       " 'PCases': 3105185,\n",
       " 'Deaths': 57891,\n",
       " 'PDeaths': 57692,\n",
       " 'Cases (+)': 20892,\n",
       " 'Deaths (+)': 199}"
      ]
     },
     "execution_count": 14,
     "metadata": {},
     "output_type": "execute_result"
    }
   ],
   "source": [
    "#hide\n",
    "summary = {'updated':dates[-1], 'since':dates[-2]}\n",
    "list_names = ['Cases', 'PCases', 'Deaths', 'PDeaths', 'Cases (+)', 'Deaths (+)']\n",
    "for name in list_names:\n",
    "    summary[name] = df_table.sum()[name]\n",
    "summary"
   ]
  },
  {
   "cell_type": "code",
   "execution_count": 15,
   "metadata": {
    "execution": {
     "iopub.execute_input": "2020-08-24T13:18:55.266464Z",
     "iopub.status.busy": "2020-08-24T13:18:55.263880Z",
     "iopub.status.idle": "2020-08-24T13:18:55.269088Z",
     "shell.execute_reply": "2020-08-24T13:18:55.268467Z"
    },
    "papermill": {
     "duration": 0.025769,
     "end_time": "2020-08-24T13:18:55.269267",
     "exception": false,
     "start_time": "2020-08-24T13:18:55.243498",
     "status": "completed"
    },
    "tags": []
   },
   "outputs": [],
   "source": [
    "#hide\n",
    "overview = '''\n",
    "<!-- #######  HTML!! #########-->\n",
    "<h1 style=\"color: #5e9ca0; text-align: center;\">India</h1>\n",
    "<p style=\"text-align: center;\">Last update: <strong>{update}</strong></p>\n",
    "<p style=\"text-align: center;\">Confirmed cases:</p>\n",
    "<p style=\"text-align: center;font-size:24px;\">{cases} (<span style=\"color: #ff0000;\">+{new}</span>)</p>\n",
    "<p style=\"text-align: center;\">Confirmed deaths:</p>\n",
    "<p style=\"text-align: center;font-size:24px;\">{deaths} (<span style=\"color: #ff0000;\">+{dnew}</span>)</p>\n",
    "'''"
   ]
  },
  {
   "cell_type": "code",
   "execution_count": 16,
   "metadata": {
    "execution": {
     "iopub.execute_input": "2020-08-24T13:18:55.310545Z",
     "iopub.status.busy": "2020-08-24T13:18:55.309870Z",
     "iopub.status.idle": "2020-08-24T13:18:55.313377Z",
     "shell.execute_reply": "2020-08-24T13:18:55.312796Z"
    },
    "papermill": {
     "duration": 0.027273,
     "end_time": "2020-08-24T13:18:55.313523",
     "exception": false,
     "start_time": "2020-08-24T13:18:55.286250",
     "status": "completed"
    },
    "tags": []
   },
   "outputs": [
    {
     "data": {
      "text/html": [
       "\n",
       "<!-- #######  HTML!! #########-->\n",
       "<h1 style=\"color: #5e9ca0; text-align: center;\">India</h1>\n",
       "<p style=\"text-align: center;\">Last update: <strong>2020-08-24</strong></p>\n",
       "<p style=\"text-align: center;\">Confirmed cases:</p>\n",
       "<p style=\"text-align: center;font-size:24px;\">3126077 (<span style=\"color: #ff0000;\">+20892</span>)</p>\n",
       "<p style=\"text-align: center;\">Confirmed deaths:</p>\n",
       "<p style=\"text-align: center;font-size:24px;\">57891 (<span style=\"color: #ff0000;\">+199</span>)</p>\n"
      ],
      "text/plain": [
       "<IPython.core.display.HTML object>"
      ]
     },
     "metadata": {},
     "output_type": "display_data"
    }
   ],
   "source": [
    "#hide_input\n",
    "update = summary['updated']\n",
    "cases = summary['Cases']\n",
    "new = summary['Cases (+)']\n",
    "deaths = summary['Deaths']\n",
    "dnew = summary['Deaths (+)']\n",
    "\n",
    "html = HTML(overview.format(update=update, cases=cases,new=new,deaths=deaths,dnew=dnew))\n",
    "\n",
    "display(html)"
   ]
  },
  {
   "cell_type": "code",
   "execution_count": 17,
   "metadata": {
    "execution": {
     "iopub.execute_input": "2020-08-24T13:18:55.356074Z",
     "iopub.status.busy": "2020-08-24T13:18:55.355466Z",
     "iopub.status.idle": "2020-08-24T13:18:55.361648Z",
     "shell.execute_reply": "2020-08-24T13:18:55.361065Z"
    },
    "papermill": {
     "duration": 0.030592,
     "end_time": "2020-08-24T13:18:55.361791",
     "exception": false,
     "start_time": "2020-08-24T13:18:55.331199",
     "status": "completed"
    },
    "tags": []
   },
   "outputs": [],
   "source": [
    "#hide\n",
    "dt_cols = list(dft_cases.columns[1:])\n",
    "dft_ct_new_cases = dft_cases.groupby('state')[dt_cols].sum().diff(axis=1).fillna(0).astype(int)\n",
    "dft_ct_new_cases.sort_values(by = dates[-1], ascending = False,inplace = True)"
   ]
  },
  {
   "cell_type": "code",
   "execution_count": 18,
   "metadata": {
    "execution": {
     "iopub.execute_input": "2020-08-24T13:18:55.408506Z",
     "iopub.status.busy": "2020-08-24T13:18:55.406947Z",
     "iopub.status.idle": "2020-08-24T13:18:55.418704Z",
     "shell.execute_reply": "2020-08-24T13:18:55.418212Z"
    },
    "papermill": {
     "duration": 0.039516,
     "end_time": "2020-08-24T13:18:55.418841",
     "exception": false,
     "start_time": "2020-08-24T13:18:55.379325",
     "status": "completed"
    },
    "tags": []
   },
   "outputs": [
    {
     "data": {
      "text/html": [
       "<div>\n",
       "<style scoped>\n",
       "    .dataframe tbody tr th:only-of-type {\n",
       "        vertical-align: middle;\n",
       "    }\n",
       "\n",
       "    .dataframe tbody tr th {\n",
       "        vertical-align: top;\n",
       "    }\n",
       "\n",
       "    .dataframe thead th {\n",
       "        text-align: right;\n",
       "    }\n",
       "</style>\n",
       "<table border=\"1\" class=\"dataframe\">\n",
       "  <thead>\n",
       "    <tr style=\"text-align: right;\">\n",
       "      <th>states</th>\n",
       "      <th>2020-07-01</th>\n",
       "      <th>2020-07-02</th>\n",
       "      <th>2020-07-03</th>\n",
       "      <th>2020-07-04</th>\n",
       "      <th>2020-07-05</th>\n",
       "      <th>2020-07-06</th>\n",
       "      <th>2020-07-07</th>\n",
       "      <th>2020-07-08</th>\n",
       "      <th>2020-07-09</th>\n",
       "      <th>2020-07-10</th>\n",
       "      <th>...</th>\n",
       "      <th>2020-08-15</th>\n",
       "      <th>2020-08-16</th>\n",
       "      <th>2020-08-17</th>\n",
       "      <th>2020-08-18</th>\n",
       "      <th>2020-08-19</th>\n",
       "      <th>2020-08-20</th>\n",
       "      <th>2020-08-21</th>\n",
       "      <th>2020-08-22</th>\n",
       "      <th>2020-08-23</th>\n",
       "      <th>2020-08-24</th>\n",
       "    </tr>\n",
       "    <tr>\n",
       "      <th>state</th>\n",
       "      <th></th>\n",
       "      <th></th>\n",
       "      <th></th>\n",
       "      <th></th>\n",
       "      <th></th>\n",
       "      <th></th>\n",
       "      <th></th>\n",
       "      <th></th>\n",
       "      <th></th>\n",
       "      <th></th>\n",
       "      <th></th>\n",
       "      <th></th>\n",
       "      <th></th>\n",
       "      <th></th>\n",
       "      <th></th>\n",
       "      <th></th>\n",
       "      <th></th>\n",
       "      <th></th>\n",
       "      <th></th>\n",
       "      <th></th>\n",
       "      <th></th>\n",
       "    </tr>\n",
       "  </thead>\n",
       "  <tbody>\n",
       "    <tr>\n",
       "      <th>Andhra Pradesh</th>\n",
       "      <td>0</td>\n",
       "      <td>845</td>\n",
       "      <td>837</td>\n",
       "      <td>765</td>\n",
       "      <td>998</td>\n",
       "      <td>1322</td>\n",
       "      <td>1178</td>\n",
       "      <td>1062</td>\n",
       "      <td>1555</td>\n",
       "      <td>1608</td>\n",
       "      <td>...</td>\n",
       "      <td>8732</td>\n",
       "      <td>8012</td>\n",
       "      <td>6780</td>\n",
       "      <td>9652</td>\n",
       "      <td>9742</td>\n",
       "      <td>9393</td>\n",
       "      <td>9544</td>\n",
       "      <td>10276</td>\n",
       "      <td>7895</td>\n",
       "      <td>8601</td>\n",
       "    </tr>\n",
       "    <tr>\n",
       "      <th>Uttar Pradesh</th>\n",
       "      <td>0</td>\n",
       "      <td>769</td>\n",
       "      <td>972</td>\n",
       "      <td>757</td>\n",
       "      <td>1153</td>\n",
       "      <td>929</td>\n",
       "      <td>1332</td>\n",
       "      <td>1188</td>\n",
       "      <td>1206</td>\n",
       "      <td>1338</td>\n",
       "      <td>...</td>\n",
       "      <td>4774</td>\n",
       "      <td>4357</td>\n",
       "      <td>3798</td>\n",
       "      <td>4218</td>\n",
       "      <td>5076</td>\n",
       "      <td>4824</td>\n",
       "      <td>4905</td>\n",
       "      <td>5217</td>\n",
       "      <td>5325</td>\n",
       "      <td>4601</td>\n",
       "    </tr>\n",
       "    <tr>\n",
       "      <th>Odisha</th>\n",
       "      <td>0</td>\n",
       "      <td>229</td>\n",
       "      <td>561</td>\n",
       "      <td>495</td>\n",
       "      <td>469</td>\n",
       "      <td>456</td>\n",
       "      <td>571</td>\n",
       "      <td>527</td>\n",
       "      <td>577</td>\n",
       "      <td>755</td>\n",
       "      <td>...</td>\n",
       "      <td>2496</td>\n",
       "      <td>2924</td>\n",
       "      <td>2244</td>\n",
       "      <td>2239</td>\n",
       "      <td>2589</td>\n",
       "      <td>2898</td>\n",
       "      <td>2698</td>\n",
       "      <td>2819</td>\n",
       "      <td>2993</td>\n",
       "      <td>2949</td>\n",
       "    </tr>\n",
       "    <tr>\n",
       "      <th>Telangana</th>\n",
       "      <td>0</td>\n",
       "      <td>1213</td>\n",
       "      <td>1892</td>\n",
       "      <td>1850</td>\n",
       "      <td>1590</td>\n",
       "      <td>1831</td>\n",
       "      <td>1879</td>\n",
       "      <td>1924</td>\n",
       "      <td>1410</td>\n",
       "      <td>1278</td>\n",
       "      <td>...</td>\n",
       "      <td>1863</td>\n",
       "      <td>1102</td>\n",
       "      <td>894</td>\n",
       "      <td>1682</td>\n",
       "      <td>1763</td>\n",
       "      <td>1724</td>\n",
       "      <td>1967</td>\n",
       "      <td>2474</td>\n",
       "      <td>2384</td>\n",
       "      <td>1842</td>\n",
       "    </tr>\n",
       "    <tr>\n",
       "      <th>Bihar</th>\n",
       "      <td>0</td>\n",
       "      <td>478</td>\n",
       "      <td>426</td>\n",
       "      <td>349</td>\n",
       "      <td>403</td>\n",
       "      <td>280</td>\n",
       "      <td>385</td>\n",
       "      <td>749</td>\n",
       "      <td>704</td>\n",
       "      <td>352</td>\n",
       "      <td>...</td>\n",
       "      <td>3536</td>\n",
       "      <td>2187</td>\n",
       "      <td>2525</td>\n",
       "      <td>3257</td>\n",
       "      <td>2884</td>\n",
       "      <td>2451</td>\n",
       "      <td>2461</td>\n",
       "      <td>2238</td>\n",
       "      <td>2247</td>\n",
       "      <td>1227</td>\n",
       "    </tr>\n",
       "  </tbody>\n",
       "</table>\n",
       "<p>5 rows × 55 columns</p>\n",
       "</div>"
      ],
      "text/plain": [
       "states          2020-07-01  2020-07-02  2020-07-03  2020-07-04  2020-07-05  \\\n",
       "state                                                                        \n",
       "Andhra Pradesh           0         845         837         765         998   \n",
       "Uttar Pradesh            0         769         972         757        1153   \n",
       "Odisha                   0         229         561         495         469   \n",
       "Telangana                0        1213        1892        1850        1590   \n",
       "Bihar                    0         478         426         349         403   \n",
       "\n",
       "states          2020-07-06  2020-07-07  2020-07-08  2020-07-09  2020-07-10  \\\n",
       "state                                                                        \n",
       "Andhra Pradesh        1322        1178        1062        1555        1608   \n",
       "Uttar Pradesh          929        1332        1188        1206        1338   \n",
       "Odisha                 456         571         527         577         755   \n",
       "Telangana             1831        1879        1924        1410        1278   \n",
       "Bihar                  280         385         749         704         352   \n",
       "\n",
       "states          ...  2020-08-15  2020-08-16  2020-08-17  2020-08-18  \\\n",
       "state           ...                                                   \n",
       "Andhra Pradesh  ...        8732        8012        6780        9652   \n",
       "Uttar Pradesh   ...        4774        4357        3798        4218   \n",
       "Odisha          ...        2496        2924        2244        2239   \n",
       "Telangana       ...        1863        1102         894        1682   \n",
       "Bihar           ...        3536        2187        2525        3257   \n",
       "\n",
       "states          2020-08-19  2020-08-20  2020-08-21  2020-08-22  2020-08-23  \\\n",
       "state                                                                        \n",
       "Andhra Pradesh        9742        9393        9544       10276        7895   \n",
       "Uttar Pradesh         5076        4824        4905        5217        5325   \n",
       "Odisha                2589        2898        2698        2819        2993   \n",
       "Telangana             1763        1724        1967        2474        2384   \n",
       "Bihar                 2884        2451        2461        2238        2247   \n",
       "\n",
       "states          2020-08-24  \n",
       "state                       \n",
       "Andhra Pradesh        8601  \n",
       "Uttar Pradesh         4601  \n",
       "Odisha                2949  \n",
       "Telangana             1842  \n",
       "Bihar                 1227  \n",
       "\n",
       "[5 rows x 55 columns]"
      ]
     },
     "execution_count": 18,
     "metadata": {},
     "output_type": "execute_result"
    }
   ],
   "source": [
    "#hide\n",
    "dft_ct_new_cases.head()"
   ]
  },
  {
   "cell_type": "code",
   "execution_count": 19,
   "metadata": {
    "execution": {
     "iopub.execute_input": "2020-08-24T13:18:55.484455Z",
     "iopub.status.busy": "2020-08-24T13:18:55.473868Z",
     "iopub.status.idle": "2020-08-24T13:18:58.307540Z",
     "shell.execute_reply": "2020-08-24T13:18:58.308044Z"
    },
    "papermill": {
     "duration": 2.871218,
     "end_time": "2020-08-24T13:18:58.308209",
     "exception": false,
     "start_time": "2020-08-24T13:18:55.436991",
     "status": "completed"
    },
    "tags": []
   },
   "outputs": [
    {
     "data": {
      "image/png": "[encoded data removed]",
      "text/plain": [
       "<Figure size 1296x2016 with 11 Axes>"
      ]
     },
     "metadata": {
      "needs_background": "light"
     },
     "output_type": "display_data"
    }
   ],
   "source": [
    "#hide_input\n",
    "df = dft_ct_new_cases.copy()\n",
    "df.loc['Total'] = df.sum()\n",
    "n = 5\n",
    "ax = []\n",
    "fig = plt.figure(figsize = (18,28))\n",
    "gs = fig.add_gridspec(n+2, 5)\n",
    "# gs = fig.add_gridspec(2, 3)\n",
    "ax1 = fig.add_subplot(gs[0, :])\n",
    "ef = df.loc['Total'].rename_axis('date').reset_index()\n",
    "ef['date'] = ef['date'].astype('datetime64[ns]')\n",
    "ax1.bar(ef.date,ef.Total,alpha=0.3,color='#007acc')\n",
    "ax1.plot(ef.date,ef.Total , marker=\"o\", color='#007acc')\n",
    "ax1.xaxis.set_major_locator(mdates.WeekdayLocator())\n",
    "ax1.xaxis.set_major_formatter(mdates.DateFormatter('%b %d'))\n",
    "ax1.text(0.02, 0.5,'India daily case count', transform = ax1.transAxes, fontsize=25);\n",
    "ax1.spines['right'].set_visible(False)\n",
    "ax1.spines['top'].set_visible(False)\n",
    "\n",
    "ax2 = fig.add_subplot(gs[1,0])\n",
    "ef = df.loc['Maharashtra'].rename_axis('date').reset_index()\n",
    "ef['date'] = ef['date'].astype('datetime64[ns]')\n",
    "\n",
    "ax2.bar(ef.date, ef.Maharashtra,color = '#007acc',alpha=0.5)\n",
    "ax2.xaxis.set_major_locator(mdates.WeekdayLocator())\n",
    "ax2.xaxis.set_major_formatter(mdates.DateFormatter('%b %d'))\n",
    "ax2.set_xticks(ax2.get_xticks()[::3])\n",
    "maxyval = ef.Maharashtra.max()\n",
    "ax2.set_ylim([0,maxyval])\n",
    "ax2.text(0.05, 0.9,'Maharashtra', transform = ax2.transAxes, fontsize=20);\n",
    "ax2.spines['right'].set_visible(False)\n",
    "ax2.spines['top'].set_visible(False)\n",
    "\n",
    "\n",
    "ax3 = fig.add_subplot(gs[1,1])\n",
    "ef = df.loc['Tamil Nadu'].rename_axis('date').reset_index()\n",
    "ef['date'] = ef['date'].astype('datetime64[ns]')\n",
    "ax3.bar(ef.date, ef['Tamil Nadu'],color = '#007acc',alpha=0.5,)\n",
    "ax3.xaxis.set_major_locator(mdates.WeekdayLocator())\n",
    "ax3.xaxis.set_major_formatter(mdates.DateFormatter('%b %d'))\n",
    "ax3.set_xticks(ax3.get_xticks()[::3])\n",
    "ax3.text(0.05, 0.9,'Tamil Nadu', transform = ax3.transAxes, fontsize=20);\n",
    "ax3.spines['right'].set_visible(False)\n",
    "ax3.spines['top'].set_visible(False)\n",
    "\n",
    "ax5 = fig.add_subplot(gs[1,3])\n",
    "ef = df.loc['Telangana'].rename_axis('date').reset_index()\n",
    "ef['date'] = ef['date'].astype('datetime64[ns]')\n",
    "ax5.bar(ef.date, ef['Telangana'],color = '#007acc',alpha=0.5,)\n",
    "ax5.xaxis.set_major_locator(mdates.WeekdayLocator())\n",
    "ax5.xaxis.set_major_formatter(mdates.DateFormatter('%b %d'))\n",
    "ax5.set_xticks(ax5.get_xticks()[::3])\n",
    "ax5.text(0.05, 0.9,'Telangana', transform = ax5.transAxes, fontsize=20);\n",
    "ax5.spines['right'].set_visible(False)\n",
    "ax5.spines['top'].set_visible(False)\n",
    "\n",
    "ax6 = fig.add_subplot(gs[1,4])\n",
    "ef = df.loc['Andhra Pradesh'].rename_axis('date').reset_index()\n",
    "ef['date'] = ef['date'].astype('datetime64[ns]')\n",
    "ax6.bar(ef.date, ef['Andhra Pradesh'],color = '#007acc',alpha=0.5,)\n",
    "ax6.xaxis.set_major_locator(mdates.WeekdayLocator())\n",
    "ax6.xaxis.set_major_formatter(mdates.DateFormatter('%b %d'))\n",
    "ax6.set_xticks(ax6.get_xticks()[::3])\n",
    "ax6.text(0.05, 1,'Andhra Pradesh', transform = ax6.transAxes, fontsize=20);\n",
    "ax6.spines['right'].set_visible(False)\n",
    "ax6.spines['top'].set_visible(False)\n",
    "\n",
    "ax4 = fig.add_subplot(gs[1,2])\n",
    "ef = df.loc['Delhi'].rename_axis('date').reset_index()\n",
    "ef['date'] = ef['date'].astype('datetime64[ns]')\n",
    "ax4.bar(ef.date, ef.Delhi,color = '#007acc',alpha=0.5)\n",
    "ax4.set_xticks([])\n",
    "ax4.xaxis.set_major_locator(mdates.WeekdayLocator())\n",
    "ax4.xaxis.set_major_formatter(mdates.DateFormatter('%b %d'))\n",
    "ax4.set_xticks(ax4.get_xticks()[::3])\n",
    "ax4.spines['right'].set_visible(False)\n",
    "ax4.spines['top'].set_visible(False)\n",
    "\n",
    "ax4.text(0.05, 1,'Delhi', transform = ax4.transAxes, fontsize=20)\n",
    "\n",
    "for i in range(n):\n",
    "    \n",
    "    ax.append(fig.add_subplot(gs[i+2,:]))\n",
    "    ef = df.iloc[i+3].rename_axis('date').reset_index()\n",
    "    ef['date'] = ef['date'].astype('datetime64[ns]')\n",
    "    ax[i].bar(ef.date,ef.iloc[:,-1],color = '#007acc',alpha=0.3)\n",
    "    ax[i].plot(ef.date,ef.iloc[:,-1],marker='o',color='#007acc')\n",
    "    ax[i].text(0.02,0.5,f'{ef.columns.values[-1]}',transform = ax[i].transAxes, fontsize = 20);\n",
    "    ax[i].xaxis.set_major_locator(mdates.WeekdayLocator())\n",
    "    ax[i].xaxis.set_major_formatter(mdates.DateFormatter('%b %d'))\n",
    "    ax[i].set_ylim([0,7000])\n",
    "    ax[i].spines['right'].set_visible(False)\n",
    "    ax[i].spines['top'].set_visible(False)\n",
    "plt.tight_layout()\n"
   ]
  },
  {
   "cell_type": "code",
   "execution_count": 20,
   "metadata": {
    "execution": {
     "iopub.execute_input": "2020-08-24T13:18:58.370480Z",
     "iopub.status.busy": "2020-08-24T13:18:58.367672Z",
     "iopub.status.idle": "2020-08-24T13:18:58.372589Z",
     "shell.execute_reply": "2020-08-24T13:18:58.372077Z"
    },
    "papermill": {
     "duration": 0.041203,
     "end_time": "2020-08-24T13:18:58.372722",
     "exception": false,
     "start_time": "2020-08-24T13:18:58.331519",
     "status": "completed"
    },
    "tags": []
   },
   "outputs": [
    {
     "name": "stdout",
     "output_type": "stream",
     "text": [
      "                                   states   Cases  Deaths  PCases  PDeaths  Cases (+)  Deaths (+)  Fatality Rate\n",
      "                              Maharashtra  682383   22253  682383    22253          0           0           3.26\n",
      "                               Tamil Nadu  379385    6517  379385     6517          0           0           1.72\n",
      "                           Andhra Pradesh  361712    3368  353111     3282       8601          86           0.93\n",
      "                                Karnataka  277814    4683  277814     4683          0           0           1.69\n",
      "                            Uttar Pradesh  192382    2987  187781     2926       4601          61           1.55\n",
      "                                    Delhi  161466    4300  161466     4300          0           0           2.66\n",
      "                              West Bengal  138870    2794  138870     2794          0           0           2.01\n",
      "                                    Bihar  123383     627  122156      610       1227          17           0.51\n",
      "                                Telangana  106091     761  104249      755       1842           6           0.72\n",
      "                                    Assam   90741     242   90741      242          0           0           0.27\n",
      "                                  Gujarat   86779    2895   86779     2895          0           0           3.34\n",
      "                                   Odisha   81479     472   78530      462       2949          10           0.58\n",
      "                                Rajasthan   71194     961   70609      955        585           6           1.35\n",
      "                                   Kerala   58262     224   58262      224          0           0           0.38\n",
      "                                  Haryana   54386     603   54386      603          0           0           1.11\n",
      "                           Madhya Pradesh   53129    1229   53129     1229          0           0           2.31\n",
      "                                   Punjab   41779    1086   41779     1086          0           0           2.60\n",
      "                        Jammu and Kashmir   33075     624   32647      617        428           7           1.89\n",
      "                                Jharkhand   30178     318   30178      318          0           0           1.05\n",
      "                             Chhattisgarh   20918     197   20918      197          0           0           0.94\n",
      "                              Uttarakhand   15124     200   15124      200          0           0           1.32\n",
      "                                      Goa   13999     144   13999      144          0           0           1.03\n",
      "                               Puducherry   10859     164   10522      159        337           5           1.51\n",
      "                                  Tripura    8917      73    8717       72        200           1           0.82\n",
      "                                  Manipur    5362      22    5246       22        116           0           0.41\n",
      "                         Himachal Pradesh    5001      28    5001       28          0           0           0.56\n",
      "                                 Nagaland    3686       8    3686        8          0           0           0.22\n",
      "                        Arunachal Pradesh    3263       5    3263        5          0           0           0.15\n",
      "                               Chandigarh    2918      37    2918       37          0           0           1.27\n",
      "              Andaman and Nicobar Islands    2860      33    2860       33          0           0           1.15\n",
      "                                   Ladakh    2279      23    2279       23          0           0           1.01\n",
      " Dadra and Nagar Haveli and Daman and Diu    2165       2    2159        2          6           0           0.09\n",
      "                                Meghalaya    1917       8    1917        8          0           0           0.42\n",
      "                                   Sikkim    1403       3    1403        3          0           0           0.21\n",
      "                                  Mizoram     918       0     918        0          0           0           0.00\n",
      "                              Lakshadweep       0       0       0        0          0           0            NaN\n"
     ]
    }
   ],
   "source": [
    "#hide_input\n",
    "print(df_table.to_string(index=False))"
   ]
  },
  {
   "cell_type": "code",
   "execution_count": null,
   "metadata": {
    "papermill": {
     "duration": 0.023529,
     "end_time": "2020-08-24T13:18:58.420623",
     "exception": false,
     "start_time": "2020-08-24T13:18:58.397094",
     "status": "completed"
    },
    "tags": []
   },
   "outputs": [],
   "source": []
  },
  {
   "cell_type": "code",
   "execution_count": null,
   "metadata": {
    "papermill": {
     "duration": 0.023949,
     "end_time": "2020-08-24T13:18:58.468774",
     "exception": false,
     "start_time": "2020-08-24T13:18:58.444825",
     "status": "completed"
    },
    "tags": []
   },
   "outputs": [],
   "source": []
  }
 ],
 "metadata": {
  "kernelspec": {
   "display_name": "Python 3",
   "language": "python",
   "name": "python3"
  },
  "language_info": {
   "codemirror_mode": {
    "name": "ipython",
    "version": 3
   },
   "file_extension": ".py",
   "mimetype": "text/x-python",
   "name": "python",
   "nbconvert_exporter": "python",
   "pygments_lexer": "ipython3",
   "version": "3.6.11"
  },
  "papermill": {
   "duration": 8.278331,
   "end_time": "2020-08-24T13:18:59.003477",
   "environment_variables": {},
   "exception": null,
   "input_path": "latest.ipynb",
   "output_path": "latest.ipynb",
   "parameters": {},
   "start_time": "2020-08-24T13:18:50.725146",
   "version": "2.1.2"
  }
 },
 "nbformat": 4,
 "nbformat_minor": 4
}