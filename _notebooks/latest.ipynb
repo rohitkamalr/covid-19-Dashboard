{
 "cells": [
  {
   "cell_type": "markdown",
   "id": "colored-stack",
   "metadata": {
    "papermill": {
     "duration": 0.02369,
     "end_time": "2021-05-07T13:12:00.648346",
     "exception": false,
     "start_time": "2021-05-07T13:12:00.624656",
     "status": "completed"
    },
    "tags": []
   },
   "source": [
    "# Latest COVID-19 India Matplotlib Overview"
   ]
  },
  {
   "cell_type": "code",
   "execution_count": 1,
   "id": "light-proportion",
   "metadata": {
    "execution": {
     "iopub.execute_input": "2021-05-07T13:12:00.698839Z",
     "iopub.status.busy": "2021-05-07T13:12:00.698238Z",
     "iopub.status.idle": "2021-05-07T13:12:01.303200Z",
     "shell.execute_reply": "2021-05-07T13:12:01.302321Z"
    },
    "papermill": {
     "duration": 0.637083,
     "end_time": "2021-05-07T13:12:01.303423",
     "exception": false,
     "start_time": "2021-05-07T13:12:00.666340",
     "status": "completed"
    },
    "tags": []
   },
   "outputs": [],
   "source": [
    "#hide\n",
    "import pandas as pd\n",
    "import numpy as np\n",
    "import requests\n",
    "import json\n",
    "import matplotlib.pyplot as plt\n",
    "import matplotlib.dates as mdates\n",
    "import matplotlib as mpl\n",
    "from IPython.core.display import display,HTML\n",
    "%matplotlib inline\n",
    "from datetime import date"
   ]
  },
  {
   "cell_type": "code",
   "execution_count": 2,
   "id": "greenhouse-shooting",
   "metadata": {
    "execution": {
     "iopub.execute_input": "2021-05-07T13:12:01.352196Z",
     "iopub.status.busy": "2021-05-07T13:12:01.351607Z",
     "iopub.status.idle": "2021-05-07T13:12:01.515782Z",
     "shell.execute_reply": "2021-05-07T13:12:01.516258Z"
    },
    "papermill": {
     "duration": 0.192656,
     "end_time": "2021-05-07T13:12:01.516415",
     "exception": false,
     "start_time": "2021-05-07T13:12:01.323759",
     "status": "completed"
    },
    "tags": []
   },
   "outputs": [],
   "source": [
    "#hide\n",
    "df  = pd.read_csv('https://api.covid19india.org/csv/latest/states.csv')\n",
    "df = df[['Date','State','Confirmed','Deceased']]\n",
    "df = df.rename(columns={'Confirmed':'Cases', \"Deceased\":'Deaths'})\n",
    "df_cases = df[[\"Date\",'State','Cases']]\n",
    "df_deaths = df[['Date','State','Deaths']]\n",
    "df_cases1 = df_cases.groupby('Date')\n",
    "df_deaths1= df_deaths.groupby('Date')"
   ]
  },
  {
   "cell_type": "code",
   "execution_count": 3,
   "id": "hybrid-cathedral",
   "metadata": {
    "execution": {
     "iopub.execute_input": "2021-05-07T13:12:01.557667Z",
     "iopub.status.busy": "2021-05-07T13:12:01.557079Z",
     "iopub.status.idle": "2021-05-07T13:12:01.576396Z",
     "shell.execute_reply": "2021-05-07T13:12:01.575890Z"
    },
    "papermill": {
     "duration": 0.041877,
     "end_time": "2021-05-07T13:12:01.576530",
     "exception": false,
     "start_time": "2021-05-07T13:12:01.534653",
     "status": "completed"
    },
    "tags": []
   },
   "outputs": [],
   "source": [
    "#hide\n",
    "df_snap = pd.read_csv('data/SnapshotCases-28-July.csv')\n",
    "arr_states = df_snap['states'].unique()\n",
    "arr_dates = df['Date'].unique()\n",
    "df_snap = df_snap.set_index('states')"
   ]
  },
  {
   "cell_type": "code",
   "execution_count": 4,
   "id": "interior-belfast",
   "metadata": {
    "execution": {
     "iopub.execute_input": "2021-05-07T13:12:01.629788Z",
     "iopub.status.busy": "2021-05-07T13:12:01.629190Z",
     "iopub.status.idle": "2021-05-07T13:12:01.632789Z",
     "shell.execute_reply": "2021-05-07T13:12:01.632187Z"
    },
    "papermill": {
     "duration": 0.03144,
     "end_time": "2021-05-07T13:12:01.632914",
     "exception": false,
     "start_time": "2021-05-07T13:12:01.601474",
     "status": "completed"
    },
    "tags": []
   },
   "outputs": [
    {
     "data": {
      "text/plain": [
       "array(['Andaman and Nicobar Islands', 'Andhra Pradesh',\n",
       "       'Arunachal Pradesh', 'Assam', 'Bihar', 'Chandigarh',\n",
       "       'Dadra and Nagar Haveli and Daman and Diu', 'Delhi', 'Goa',\n",
       "       'Gujarat', 'Haryana', 'Himachal Pradesh', 'Jammu and Kashmir',\n",
       "       'Jharkhand', 'Karnataka', 'Kerala', 'Lakshadweep',\n",
       "       'Madhya Pradesh', 'Maharashtra', 'Manipur', 'Meghalaya', 'Mizoram',\n",
       "       'Nagaland', 'Odisha', 'Puducherry', 'Punjab', 'Rajasthan',\n",
       "       'Sikkim', 'Tamil Nadu', 'Telangana', 'Tripura', 'Uttar Pradesh',\n",
       "       'West Bengal', 'Chhattisgarh', 'Ladakh', 'Uttarakhand'],\n",
       "      dtype=object)"
      ]
     },
     "execution_count": 4,
     "metadata": {},
     "output_type": "execute_result"
    }
   ],
   "source": [
    "#hide\n",
    "arr_states[-9] = 'Puducherry'\n",
    "arr_states[-10] = 'Odisha'\n",
    "arr_states[6] = 'Dadra and Nagar Haveli and Daman and Diu'\n",
    "arr_states = np.append(arr_states,np.array(['Chhattisgarh','Ladakh','Uttarakhand']))\n",
    "arr_states"
   ]
  },
  {
   "cell_type": "code",
   "execution_count": 5,
   "id": "behind-manner",
   "metadata": {
    "execution": {
     "iopub.execute_input": "2021-05-07T13:12:01.681606Z",
     "iopub.status.busy": "2021-05-07T13:12:01.681011Z",
     "iopub.status.idle": "2021-05-07T13:12:01.690413Z",
     "shell.execute_reply": "2021-05-07T13:12:01.690866Z"
    },
    "papermill": {
     "duration": 0.04027,
     "end_time": "2021-05-07T13:12:01.691011",
     "exception": false,
     "start_time": "2021-05-07T13:12:01.650741",
     "status": "completed"
    },
    "tags": []
   },
   "outputs": [],
   "source": [
    "#hide\n",
    "dates = []\n",
    "for i in arr_dates:\n",
    "    if i>='2020-07-01':\n",
    "        dates.append(i)\n",
    "dict = {'states':dates}\n",
    "for i in arr_states:\n",
    "    dict[i] = [0]*len(dates)\n",
    "dft_cases = pd.DataFrame(dict)\n",
    "dft_deaths = pd.DataFrame(dict)\n"
   ]
  },
  {
   "cell_type": "code",
   "execution_count": 6,
   "id": "simplified-peter",
   "metadata": {
    "execution": {
     "iopub.execute_input": "2021-05-07T13:12:01.733675Z",
     "iopub.status.busy": "2021-05-07T13:12:01.732828Z",
     "iopub.status.idle": "2021-05-07T13:12:06.123171Z",
     "shell.execute_reply": "2021-05-07T13:12:06.122653Z"
    },
    "papermill": {
     "duration": 4.41434,
     "end_time": "2021-05-07T13:12:06.123305",
     "exception": false,
     "start_time": "2021-05-07T13:12:01.708965",
     "status": "completed"
    },
    "tags": []
   },
   "outputs": [],
   "source": [
    "#hide\n",
    "for i in range(len(dates)):\n",
    "    df1_deaths = df_deaths1.get_group(dates[i])\n",
    "    for j in range(len(df1_deaths.index)):\n",
    "        if df1_deaths.iloc[j,1] in arr_states:\n",
    "            dft_deaths.loc[i,df1_deaths.iloc[j,1]] = df1_deaths.iloc[j,2]\n",
    "dft_deaths = dft_deaths.set_index('states')"
   ]
  },
  {
   "cell_type": "code",
   "execution_count": 7,
   "id": "geological-welding",
   "metadata": {
    "execution": {
     "iopub.execute_input": "2021-05-07T13:12:06.174457Z",
     "iopub.status.busy": "2021-05-07T13:12:06.173827Z",
     "iopub.status.idle": "2021-05-07T13:12:10.549778Z",
     "shell.execute_reply": "2021-05-07T13:12:10.549087Z"
    },
    "papermill": {
     "duration": 4.405094,
     "end_time": "2021-05-07T13:12:10.549953",
     "exception": false,
     "start_time": "2021-05-07T13:12:06.144859",
     "status": "completed"
    },
    "tags": []
   },
   "outputs": [],
   "source": [
    "#hide\n",
    "for i in range(len(dates)):\n",
    "    df1_cases = df_cases1.get_group(dates[i])\n",
    "    for j in range(len(df1_cases.index)):\n",
    "        if df1_cases.iloc[j,1] in arr_states:\n",
    "            dft_cases.loc[i,df1_cases.iloc[j,1]] = df1_cases.iloc[j,2]\n",
    "dft_cases = dft_cases.set_index('states')"
   ]
  },
  {
   "cell_type": "code",
   "execution_count": 8,
   "id": "binary-ratio",
   "metadata": {
    "execution": {
     "iopub.execute_input": "2021-05-07T13:12:10.597408Z",
     "iopub.status.busy": "2021-05-07T13:12:10.596806Z",
     "iopub.status.idle": "2021-05-07T13:12:10.597994Z",
     "shell.execute_reply": "2021-05-07T13:12:10.598534Z"
    },
    "papermill": {
     "duration": 0.028049,
     "end_time": "2021-05-07T13:12:10.598675",
     "exception": false,
     "start_time": "2021-05-07T13:12:10.570626",
     "status": "completed"
    },
    "tags": []
   },
   "outputs": [],
   "source": [
    "#hide\n",
    "dft_cases = dft_cases.T\n",
    "dft_deaths = dft_deaths.T\n",
    "dt_today = dates[-1]\n",
    "dt_yday = dates[-2]"
   ]
  },
  {
   "cell_type": "code",
   "execution_count": 9,
   "id": "boolean-calculator",
   "metadata": {
    "execution": {
     "iopub.execute_input": "2021-05-07T13:12:10.639487Z",
     "iopub.status.busy": "2021-05-07T13:12:10.638909Z",
     "iopub.status.idle": "2021-05-07T13:12:10.644883Z",
     "shell.execute_reply": "2021-05-07T13:12:10.644382Z"
    },
    "papermill": {
     "duration": 0.028812,
     "end_time": "2021-05-07T13:12:10.645015",
     "exception": false,
     "start_time": "2021-05-07T13:12:10.616203",
     "status": "completed"
    },
    "tags": []
   },
   "outputs": [],
   "source": [
    "#hide\n",
    "dft_cases = dft_cases.reset_index()\n",
    "dft_deaths = dft_deaths.reset_index()\n",
    "dft_cases = dft_cases.rename(columns = {'index':'state'})\n",
    "dft_deaths = dft_deaths.rename(columns = {'index':'state'})"
   ]
  },
  {
   "cell_type": "code",
   "execution_count": 10,
   "id": "invisible-johnston",
   "metadata": {
    "execution": {
     "iopub.execute_input": "2021-05-07T13:12:10.692122Z",
     "iopub.status.busy": "2021-05-07T13:12:10.691544Z",
     "iopub.status.idle": "2021-05-07T13:12:10.693705Z",
     "shell.execute_reply": "2021-05-07T13:12:10.693142Z"
    },
    "papermill": {
     "duration": 0.031453,
     "end_time": "2021-05-07T13:12:10.693827",
     "exception": false,
     "start_time": "2021-05-07T13:12:10.662374",
     "status": "completed"
    },
    "tags": []
   },
   "outputs": [],
   "source": [
    "#hide\n",
    "dfc_cases = dft_cases.groupby('state')[dt_today].sum()\n",
    "dfc_deaths = dft_deaths.groupby('state')[dt_today].sum()\n",
    "dfp_cases = dft_cases.groupby('state')[dt_yday].sum()\n",
    "dfp_deaths = dft_deaths.groupby('state')[dt_yday].sum()"
   ]
  },
  {
   "cell_type": "code",
   "execution_count": 11,
   "id": "measured-great",
   "metadata": {
    "execution": {
     "iopub.execute_input": "2021-05-07T13:12:10.738632Z",
     "iopub.status.busy": "2021-05-07T13:12:10.738056Z",
     "iopub.status.idle": "2021-05-07T13:12:10.754088Z",
     "shell.execute_reply": "2021-05-07T13:12:10.753415Z"
    },
    "papermill": {
     "duration": 0.042849,
     "end_time": "2021-05-07T13:12:10.754252",
     "exception": false,
     "start_time": "2021-05-07T13:12:10.711403",
     "status": "completed"
    },
    "tags": []
   },
   "outputs": [
    {
     "data": {
      "text/html": [
       "<div>\n",
       "<style scoped>\n",
       "    .dataframe tbody tr th:only-of-type {\n",
       "        vertical-align: middle;\n",
       "    }\n",
       "\n",
       "    .dataframe tbody tr th {\n",
       "        vertical-align: top;\n",
       "    }\n",
       "\n",
       "    .dataframe thead th {\n",
       "        text-align: right;\n",
       "    }\n",
       "</style>\n",
       "<table border=\"1\" class=\"dataframe\">\n",
       "  <thead>\n",
       "    <tr style=\"text-align: right;\">\n",
       "      <th></th>\n",
       "      <th>states</th>\n",
       "      <th>Cases</th>\n",
       "      <th>Deaths</th>\n",
       "      <th>PCases</th>\n",
       "      <th>PDeaths</th>\n",
       "    </tr>\n",
       "  </thead>\n",
       "  <tbody>\n",
       "    <tr>\n",
       "      <th>0</th>\n",
       "      <td>Maharashtra</td>\n",
       "      <td>4942736</td>\n",
       "      <td>73515</td>\n",
       "      <td>4942736</td>\n",
       "      <td>73515</td>\n",
       "    </tr>\n",
       "    <tr>\n",
       "      <th>1</th>\n",
       "      <td>Karnataka</td>\n",
       "      <td>1790104</td>\n",
       "      <td>17212</td>\n",
       "      <td>1790104</td>\n",
       "      <td>17212</td>\n",
       "    </tr>\n",
       "    <tr>\n",
       "      <th>2</th>\n",
       "      <td>Kerala</td>\n",
       "      <td>1786397</td>\n",
       "      <td>5629</td>\n",
       "      <td>1786397</td>\n",
       "      <td>5629</td>\n",
       "    </tr>\n",
       "    <tr>\n",
       "      <th>3</th>\n",
       "      <td>Uttar Pradesh</td>\n",
       "      <td>1425916</td>\n",
       "      <td>14501</td>\n",
       "      <td>1425916</td>\n",
       "      <td>14501</td>\n",
       "    </tr>\n",
       "    <tr>\n",
       "      <th>4</th>\n",
       "      <td>Tamil Nadu</td>\n",
       "      <td>1297500</td>\n",
       "      <td>14974</td>\n",
       "      <td>1297500</td>\n",
       "      <td>14974</td>\n",
       "    </tr>\n",
       "  </tbody>\n",
       "</table>\n",
       "</div>"
      ],
      "text/plain": [
       "          states    Cases  Deaths   PCases  PDeaths\n",
       "0    Maharashtra  4942736   73515  4942736    73515\n",
       "1      Karnataka  1790104   17212  1790104    17212\n",
       "2         Kerala  1786397    5629  1786397     5629\n",
       "3  Uttar Pradesh  1425916   14501  1425916    14501\n",
       "4     Tamil Nadu  1297500   14974  1297500    14974"
      ]
     },
     "execution_count": 11,
     "metadata": {},
     "output_type": "execute_result"
    }
   ],
   "source": [
    "#hide\n",
    "df_table = pd.DataFrame({'states': dfc_cases.index, 'Cases': dfc_cases.values, 'Deaths': dfc_deaths.values, 'PCases': dfp_cases.values, 'PDeaths': dfp_deaths.values}).set_index('states')\n",
    "df_table = df_table.sort_values(by = ['Cases','Deaths'], ascending = [False, False])\n",
    "df_table = df_table.reset_index()\n",
    "df_table.head()"
   ]
  },
  {
   "cell_type": "code",
   "execution_count": 12,
   "id": "found-montreal",
   "metadata": {
    "execution": {
     "iopub.execute_input": "2021-05-07T13:12:10.798782Z",
     "iopub.status.busy": "2021-05-07T13:12:10.798209Z",
     "iopub.status.idle": "2021-05-07T13:12:10.807365Z",
     "shell.execute_reply": "2021-05-07T13:12:10.806900Z"
    },
    "papermill": {
     "duration": 0.033756,
     "end_time": "2021-05-07T13:12:10.807489",
     "exception": false,
     "start_time": "2021-05-07T13:12:10.773733",
     "status": "completed"
    },
    "tags": []
   },
   "outputs": [],
   "source": [
    "#hide\n",
    "for c in 'Cases, Deaths'.split(', '):\n",
    "    df_table[f'{c} (+)'] = (df_table[c] - df_table[f'P{c}']).clip(0)\n",
    "df_table['Fatality Rate'] = (100* df_table['Deaths']/ df_table['Cases']).round(2)"
   ]
  },
  {
   "cell_type": "code",
   "execution_count": 13,
   "id": "minus-savage",
   "metadata": {
    "execution": {
     "iopub.execute_input": "2021-05-07T13:12:10.857485Z",
     "iopub.status.busy": "2021-05-07T13:12:10.856874Z",
     "iopub.status.idle": "2021-05-07T13:12:10.859310Z",
     "shell.execute_reply": "2021-05-07T13:12:10.859846Z"
    },
    "papermill": {
     "duration": 0.03451,
     "end_time": "2021-05-07T13:12:10.859990",
     "exception": false,
     "start_time": "2021-05-07T13:12:10.825480",
     "status": "completed"
    },
    "tags": []
   },
   "outputs": [
    {
     "data": {
      "text/html": [
       "<div>\n",
       "<style scoped>\n",
       "    .dataframe tbody tr th:only-of-type {\n",
       "        vertical-align: middle;\n",
       "    }\n",
       "\n",
       "    .dataframe tbody tr th {\n",
       "        vertical-align: top;\n",
       "    }\n",
       "\n",
       "    .dataframe thead th {\n",
       "        text-align: right;\n",
       "    }\n",
       "</style>\n",
       "<table border=\"1\" class=\"dataframe\">\n",
       "  <thead>\n",
       "    <tr style=\"text-align: right;\">\n",
       "      <th></th>\n",
       "      <th>states</th>\n",
       "      <th>Cases</th>\n",
       "      <th>Deaths</th>\n",
       "      <th>PCases</th>\n",
       "      <th>PDeaths</th>\n",
       "      <th>Cases (+)</th>\n",
       "      <th>Deaths (+)</th>\n",
       "      <th>Fatality Rate</th>\n",
       "    </tr>\n",
       "  </thead>\n",
       "  <tbody>\n",
       "    <tr>\n",
       "      <th>0</th>\n",
       "      <td>Maharashtra</td>\n",
       "      <td>4942736</td>\n",
       "      <td>73515</td>\n",
       "      <td>4942736</td>\n",
       "      <td>73515</td>\n",
       "      <td>0</td>\n",
       "      <td>0</td>\n",
       "      <td>1.49</td>\n",
       "    </tr>\n",
       "    <tr>\n",
       "      <th>1</th>\n",
       "      <td>Karnataka</td>\n",
       "      <td>1790104</td>\n",
       "      <td>17212</td>\n",
       "      <td>1790104</td>\n",
       "      <td>17212</td>\n",
       "      <td>0</td>\n",
       "      <td>0</td>\n",
       "      <td>0.96</td>\n",
       "    </tr>\n",
       "    <tr>\n",
       "      <th>2</th>\n",
       "      <td>Kerala</td>\n",
       "      <td>1786397</td>\n",
       "      <td>5629</td>\n",
       "      <td>1786397</td>\n",
       "      <td>5629</td>\n",
       "      <td>0</td>\n",
       "      <td>0</td>\n",
       "      <td>0.32</td>\n",
       "    </tr>\n",
       "    <tr>\n",
       "      <th>3</th>\n",
       "      <td>Uttar Pradesh</td>\n",
       "      <td>1425916</td>\n",
       "      <td>14501</td>\n",
       "      <td>1425916</td>\n",
       "      <td>14501</td>\n",
       "      <td>0</td>\n",
       "      <td>0</td>\n",
       "      <td>1.02</td>\n",
       "    </tr>\n",
       "    <tr>\n",
       "      <th>4</th>\n",
       "      <td>Tamil Nadu</td>\n",
       "      <td>1297500</td>\n",
       "      <td>14974</td>\n",
       "      <td>1297500</td>\n",
       "      <td>14974</td>\n",
       "      <td>0</td>\n",
       "      <td>0</td>\n",
       "      <td>1.15</td>\n",
       "    </tr>\n",
       "  </tbody>\n",
       "</table>\n",
       "</div>"
      ],
      "text/plain": [
       "          states    Cases  Deaths   PCases  PDeaths  Cases (+)  Deaths (+)  \\\n",
       "0    Maharashtra  4942736   73515  4942736    73515          0           0   \n",
       "1      Karnataka  1790104   17212  1790104    17212          0           0   \n",
       "2         Kerala  1786397    5629  1786397     5629          0           0   \n",
       "3  Uttar Pradesh  1425916   14501  1425916    14501          0           0   \n",
       "4     Tamil Nadu  1297500   14974  1297500    14974          0           0   \n",
       "\n",
       "   Fatality Rate  \n",
       "0           1.49  \n",
       "1           0.96  \n",
       "2           0.32  \n",
       "3           1.02  \n",
       "4           1.15  "
      ]
     },
     "execution_count": 13,
     "metadata": {},
     "output_type": "execute_result"
    }
   ],
   "source": [
    "#hide\n",
    "df_table.head()"
   ]
  },
  {
   "cell_type": "code",
   "execution_count": 14,
   "id": "false-peter",
   "metadata": {
    "execution": {
     "iopub.execute_input": "2021-05-07T13:12:10.904316Z",
     "iopub.status.busy": "2021-05-07T13:12:10.903686Z",
     "iopub.status.idle": "2021-05-07T13:12:10.919797Z",
     "shell.execute_reply": "2021-05-07T13:12:10.920245Z"
    },
    "papermill": {
     "duration": 0.041517,
     "end_time": "2021-05-07T13:12:10.920403",
     "exception": false,
     "start_time": "2021-05-07T13:12:10.878886",
     "status": "completed"
    },
    "tags": []
   },
   "outputs": [
    {
     "data": {
      "text/plain": [
       "{'updated': '2021-05-07',\n",
       " 'since': '2021-05-06',\n",
       " 'Cases': 21524140,\n",
       " 'PCases': 21485383,\n",
       " 'Deaths': 234487,\n",
       " 'PDeaths': 234074,\n",
       " 'Cases (+)': 38757,\n",
       " 'Deaths (+)': 413}"
      ]
     },
     "execution_count": 14,
     "metadata": {},
     "output_type": "execute_result"
    }
   ],
   "source": [
    "#hide\n",
    "summary = {'updated':dates[-1], 'since':dates[-2]}\n",
    "list_names = ['Cases', 'PCases', 'Deaths', 'PDeaths', 'Cases (+)', 'Deaths (+)']\n",
    "for name in list_names:\n",
    "    summary[name] = df_table.sum()[name]\n",
    "summary"
   ]
  },
  {
   "cell_type": "code",
   "execution_count": 15,
   "id": "packed-viewer",
   "metadata": {
    "execution": {
     "iopub.execute_input": "2021-05-07T13:12:10.962489Z",
     "iopub.status.busy": "2021-05-07T13:12:10.961781Z",
     "iopub.status.idle": "2021-05-07T13:12:10.963367Z",
     "shell.execute_reply": "2021-05-07T13:12:10.963866Z"
    },
    "papermill": {
     "duration": 0.024854,
     "end_time": "2021-05-07T13:12:10.964008",
     "exception": false,
     "start_time": "2021-05-07T13:12:10.939154",
     "status": "completed"
    },
    "tags": []
   },
   "outputs": [],
   "source": [
    "#hide\n",
    "overview = '''\n",
    "<!-- #######  HTML!! #########-->\n",
    "<h1 style=\"color: #5e9ca0; text-align: center;\">India</h1>\n",
    "<p style=\"text-align: center;\">Last update: <strong>{update}</strong></p>\n",
    "<p style=\"text-align: center;\">Confirmed cases:</p>\n",
    "<p style=\"text-align: center;font-size:24px;\">{cases} (<span style=\"color: #ff0000;\">+{new}</span>)</p>\n",
    "<p style=\"text-align: center;\">Confirmed deaths:</p>\n",
    "<p style=\"text-align: center;font-size:24px;\">{deaths} (<span style=\"color: #ff0000;\">+{dnew}</span>)</p>\n",
    "'''"
   ]
  },
  {
   "cell_type": "code",
   "execution_count": 16,
   "id": "phantom-lover",
   "metadata": {
    "execution": {
     "iopub.execute_input": "2021-05-07T13:12:11.010161Z",
     "iopub.status.busy": "2021-05-07T13:12:11.009585Z",
     "iopub.status.idle": "2021-05-07T13:12:11.014101Z",
     "shell.execute_reply": "2021-05-07T13:12:11.014565Z"
    },
    "papermill": {
     "duration": 0.031867,
     "end_time": "2021-05-07T13:12:11.014702",
     "exception": false,
     "start_time": "2021-05-07T13:12:10.982835",
     "status": "completed"
    },
    "tags": []
   },
   "outputs": [
    {
     "data": {
      "text/html": [
       "\n",
       "<!-- #######  HTML!! #########-->\n",
       "<h1 style=\"color: #5e9ca0; text-align: center;\">India</h1>\n",
       "<p style=\"text-align: center;\">Last update: <strong>2021-05-07</strong></p>\n",
       "<p style=\"text-align: center;\">Confirmed cases:</p>\n",
       "<p style=\"text-align: center;font-size:24px;\">21524140 (<span style=\"color: #ff0000;\">+38757</span>)</p>\n",
       "<p style=\"text-align: center;\">Confirmed deaths:</p>\n",
       "<p style=\"text-align: center;font-size:24px;\">234487 (<span style=\"color: #ff0000;\">+413</span>)</p>\n"
      ],
      "text/plain": [
       "<IPython.core.display.HTML object>"
      ]
     },
     "metadata": {},
     "output_type": "display_data"
    }
   ],
   "source": [
    "#hide_input\n",
    "update = summary['updated']\n",
    "cases = summary['Cases']\n",
    "new = summary['Cases (+)']\n",
    "deaths = summary['Deaths']\n",
    "dnew = summary['Deaths (+)']\n",
    "\n",
    "html = HTML(overview.format(update=update, cases=cases,new=new,deaths=deaths,dnew=dnew))\n",
    "\n",
    "display(html)"
   ]
  },
  {
   "cell_type": "code",
   "execution_count": 17,
   "id": "sealed-reset",
   "metadata": {
    "execution": {
     "iopub.execute_input": "2021-05-07T13:12:11.064352Z",
     "iopub.status.busy": "2021-05-07T13:12:11.061216Z",
     "iopub.status.idle": "2021-05-07T13:12:11.070211Z",
     "shell.execute_reply": "2021-05-07T13:12:11.070694Z"
    },
    "papermill": {
     "duration": 0.035931,
     "end_time": "2021-05-07T13:12:11.070846",
     "exception": false,
     "start_time": "2021-05-07T13:12:11.034915",
     "status": "completed"
    },
    "tags": []
   },
   "outputs": [],
   "source": [
    "#hide\n",
    "dt_cols = list(dft_cases.columns[1:])\n",
    "dft_ct_new_cases = dft_cases.groupby('state')[dt_cols].sum().diff(axis=1).fillna(0).astype(int)\n",
    "dft_ct_new_cases.sort_values(by = dates[-1], ascending = False,inplace = True)"
   ]
  },
  {
   "cell_type": "code",
   "execution_count": 18,
   "id": "designed-constant",
   "metadata": {
    "execution": {
     "iopub.execute_input": "2021-05-07T13:12:11.129639Z",
     "iopub.status.busy": "2021-05-07T13:12:11.129016Z",
     "iopub.status.idle": "2021-05-07T13:12:11.132541Z",
     "shell.execute_reply": "2021-05-07T13:12:11.132044Z"
    },
    "papermill": {
     "duration": 0.04158,
     "end_time": "2021-05-07T13:12:11.132666",
     "exception": false,
     "start_time": "2021-05-07T13:12:11.091086",
     "status": "completed"
    },
    "tags": []
   },
   "outputs": [
    {
     "data": {
      "text/html": [
       "<div>\n",
       "<style scoped>\n",
       "    .dataframe tbody tr th:only-of-type {\n",
       "        vertical-align: middle;\n",
       "    }\n",
       "\n",
       "    .dataframe tbody tr th {\n",
       "        vertical-align: top;\n",
       "    }\n",
       "\n",
       "    .dataframe thead th {\n",
       "        text-align: right;\n",
       "    }\n",
       "</style>\n",
       "<table border=\"1\" class=\"dataframe\">\n",
       "  <thead>\n",
       "    <tr style=\"text-align: right;\">\n",
       "      <th>states</th>\n",
       "      <th>2020-07-01</th>\n",
       "      <th>2020-07-02</th>\n",
       "      <th>2020-07-03</th>\n",
       "      <th>2020-07-04</th>\n",
       "      <th>2020-07-05</th>\n",
       "      <th>2020-07-06</th>\n",
       "      <th>2020-07-07</th>\n",
       "      <th>2020-07-08</th>\n",
       "      <th>2020-07-09</th>\n",
       "      <th>2020-07-10</th>\n",
       "      <th>...</th>\n",
       "      <th>2021-04-28</th>\n",
       "      <th>2021-04-29</th>\n",
       "      <th>2021-04-30</th>\n",
       "      <th>2021-05-01</th>\n",
       "      <th>2021-05-02</th>\n",
       "      <th>2021-05-03</th>\n",
       "      <th>2021-05-04</th>\n",
       "      <th>2021-05-05</th>\n",
       "      <th>2021-05-06</th>\n",
       "      <th>2021-05-07</th>\n",
       "    </tr>\n",
       "    <tr>\n",
       "      <th>state</th>\n",
       "      <th></th>\n",
       "      <th></th>\n",
       "      <th></th>\n",
       "      <th></th>\n",
       "      <th></th>\n",
       "      <th></th>\n",
       "      <th></th>\n",
       "      <th></th>\n",
       "      <th></th>\n",
       "      <th></th>\n",
       "      <th></th>\n",
       "      <th></th>\n",
       "      <th></th>\n",
       "      <th></th>\n",
       "      <th></th>\n",
       "      <th></th>\n",
       "      <th></th>\n",
       "      <th></th>\n",
       "      <th></th>\n",
       "      <th></th>\n",
       "      <th></th>\n",
       "    </tr>\n",
       "  </thead>\n",
       "  <tbody>\n",
       "    <tr>\n",
       "      <th>Delhi</th>\n",
       "      <td>0</td>\n",
       "      <td>2373</td>\n",
       "      <td>2520</td>\n",
       "      <td>2505</td>\n",
       "      <td>2244</td>\n",
       "      <td>1379</td>\n",
       "      <td>2008</td>\n",
       "      <td>2033</td>\n",
       "      <td>2187</td>\n",
       "      <td>2089</td>\n",
       "      <td>...</td>\n",
       "      <td>25986</td>\n",
       "      <td>24235</td>\n",
       "      <td>27047</td>\n",
       "      <td>25219</td>\n",
       "      <td>20394</td>\n",
       "      <td>18043</td>\n",
       "      <td>19953</td>\n",
       "      <td>20960</td>\n",
       "      <td>19133</td>\n",
       "      <td>19832</td>\n",
       "    </tr>\n",
       "    <tr>\n",
       "      <th>Odisha</th>\n",
       "      <td>0</td>\n",
       "      <td>229</td>\n",
       "      <td>561</td>\n",
       "      <td>495</td>\n",
       "      <td>469</td>\n",
       "      <td>456</td>\n",
       "      <td>571</td>\n",
       "      <td>527</td>\n",
       "      <td>577</td>\n",
       "      <td>755</td>\n",
       "      <td>...</td>\n",
       "      <td>8386</td>\n",
       "      <td>6998</td>\n",
       "      <td>8681</td>\n",
       "      <td>10413</td>\n",
       "      <td>8015</td>\n",
       "      <td>8914</td>\n",
       "      <td>8216</td>\n",
       "      <td>9889</td>\n",
       "      <td>10521</td>\n",
       "      <td>12238</td>\n",
       "    </tr>\n",
       "    <tr>\n",
       "      <th>Telangana</th>\n",
       "      <td>0</td>\n",
       "      <td>1213</td>\n",
       "      <td>1892</td>\n",
       "      <td>1850</td>\n",
       "      <td>1590</td>\n",
       "      <td>1831</td>\n",
       "      <td>1879</td>\n",
       "      <td>1924</td>\n",
       "      <td>1410</td>\n",
       "      <td>1278</td>\n",
       "      <td>...</td>\n",
       "      <td>8061</td>\n",
       "      <td>7994</td>\n",
       "      <td>7646</td>\n",
       "      <td>7754</td>\n",
       "      <td>7430</td>\n",
       "      <td>5695</td>\n",
       "      <td>6876</td>\n",
       "      <td>6361</td>\n",
       "      <td>6026</td>\n",
       "      <td>5892</td>\n",
       "    </tr>\n",
       "    <tr>\n",
       "      <th>Tripura</th>\n",
       "      <td>0</td>\n",
       "      <td>39</td>\n",
       "      <td>93</td>\n",
       "      <td>25</td>\n",
       "      <td>23</td>\n",
       "      <td>111</td>\n",
       "      <td>24</td>\n",
       "      <td>57</td>\n",
       "      <td>16</td>\n",
       "      <td>142</td>\n",
       "      <td>...</td>\n",
       "      <td>124</td>\n",
       "      <td>166</td>\n",
       "      <td>141</td>\n",
       "      <td>173</td>\n",
       "      <td>247</td>\n",
       "      <td>134</td>\n",
       "      <td>271</td>\n",
       "      <td>240</td>\n",
       "      <td>300</td>\n",
       "      <td>315</td>\n",
       "    </tr>\n",
       "    <tr>\n",
       "      <th>Meghalaya</th>\n",
       "      <td>0</td>\n",
       "      <td>3</td>\n",
       "      <td>4</td>\n",
       "      <td>8</td>\n",
       "      <td>2</td>\n",
       "      <td>16</td>\n",
       "      <td>6</td>\n",
       "      <td>6</td>\n",
       "      <td>13</td>\n",
       "      <td>73</td>\n",
       "      <td>...</td>\n",
       "      <td>159</td>\n",
       "      <td>187</td>\n",
       "      <td>229</td>\n",
       "      <td>262</td>\n",
       "      <td>321</td>\n",
       "      <td>246</td>\n",
       "      <td>339</td>\n",
       "      <td>269</td>\n",
       "      <td>347</td>\n",
       "      <td>297</td>\n",
       "    </tr>\n",
       "  </tbody>\n",
       "</table>\n",
       "<p>5 rows × 311 columns</p>\n",
       "</div>"
      ],
      "text/plain": [
       "states     2020-07-01  2020-07-02  2020-07-03  2020-07-04  2020-07-05  \\\n",
       "state                                                                   \n",
       "Delhi               0        2373        2520        2505        2244   \n",
       "Odisha              0         229         561         495         469   \n",
       "Telangana           0        1213        1892        1850        1590   \n",
       "Tripura             0          39          93          25          23   \n",
       "Meghalaya           0           3           4           8           2   \n",
       "\n",
       "states     2020-07-06  2020-07-07  2020-07-08  2020-07-09  2020-07-10  ...  \\\n",
       "state                                                                  ...   \n",
       "Delhi            1379        2008        2033        2187        2089  ...   \n",
       "Odisha            456         571         527         577         755  ...   \n",
       "Telangana        1831        1879        1924        1410        1278  ...   \n",
       "Tripura           111          24          57          16         142  ...   \n",
       "Meghalaya          16           6           6          13          73  ...   \n",
       "\n",
       "states     2021-04-28  2021-04-29  2021-04-30  2021-05-01  2021-05-02  \\\n",
       "state                                                                   \n",
       "Delhi           25986       24235       27047       25219       20394   \n",
       "Odisha           8386        6998        8681       10413        8015   \n",
       "Telangana        8061        7994        7646        7754        7430   \n",
       "Tripura           124         166         141         173         247   \n",
       "Meghalaya         159         187         229         262         321   \n",
       "\n",
       "states     2021-05-03  2021-05-04  2021-05-05  2021-05-06  2021-05-07  \n",
       "state                                                                  \n",
       "Delhi           18043       19953       20960       19133       19832  \n",
       "Odisha           8914        8216        9889       10521       12238  \n",
       "Telangana        5695        6876        6361        6026        5892  \n",
       "Tripura           134         271         240         300         315  \n",
       "Meghalaya         246         339         269         347         297  \n",
       "\n",
       "[5 rows x 311 columns]"
      ]
     },
     "execution_count": 18,
     "metadata": {},
     "output_type": "execute_result"
    }
   ],
   "source": [
    "#hide\n",
    "dft_ct_new_cases.head()"
   ]
  },
  {
   "cell_type": "code",
   "execution_count": 19,
   "id": "responsible-nightlife",
   "metadata": {
    "execution": {
     "iopub.execute_input": "2021-05-07T13:12:11.192169Z",
     "iopub.status.busy": "2021-05-07T13:12:11.181070Z",
     "iopub.status.idle": "2021-05-07T13:12:22.967662Z",
     "shell.execute_reply": "2021-05-07T13:12:22.967181Z"
    },
    "papermill": {
     "duration": 11.815142,
     "end_time": "2021-05-07T13:12:22.967794",
     "exception": false,
     "start_time": "2021-05-07T13:12:11.152652",
     "status": "completed"
    },
    "tags": []
   },
   "outputs": [
    {
     "data": {
      "image/png": "[encoded data removed]",
      "text/plain": [
       "<Figure size 1296x2016 with 11 Axes>"
      ]
     },
     "metadata": {
      "needs_background": "light"
     },
     "output_type": "display_data"
    }
   ],
   "source": [
    "#hide_input\n",
    "df = dft_ct_new_cases.copy()\n",
    "df.loc['Total'] = df.sum()\n",
    "n = 5\n",
    "ax = []\n",
    "fig = plt.figure(figsize = (18,28))\n",
    "gs = fig.add_gridspec(n+2, 5)\n",
    "# gs = fig.add_gridspec(2, 3)\n",
    "ax1 = fig.add_subplot(gs[0, :])\n",
    "ef = df.loc['Total'].rename_axis('date').reset_index()\n",
    "ef['date'] = ef['date'].astype('datetime64[ns]')\n",
    "ax1.bar(ef.date,ef.Total,alpha=0.3,color='#007acc')\n",
    "ax1.plot(ef.date,ef.Total , marker=\"o\", color='#007acc')\n",
    "ax1.xaxis.set_major_locator(mdates.WeekdayLocator())\n",
    "ax1.xaxis.set_major_formatter(mdates.DateFormatter('%b %d'))\n",
    "ax1.text(0.02, 0.5,'India daily case count', transform = ax1.transAxes, fontsize=25);\n",
    "ax1.spines['right'].set_visible(False)\n",
    "ax1.spines['top'].set_visible(False)\n",
    "\n",
    "ax2 = fig.add_subplot(gs[1,0])\n",
    "ef = df.loc['Maharashtra'].rename_axis('date').reset_index()\n",
    "ef['date'] = ef['date'].astype('datetime64[ns]')\n",
    "\n",
    "ax2.bar(ef.date, ef.Maharashtra,color = '#007acc',alpha=0.5)\n",
    "ax2.xaxis.set_major_locator(mdates.WeekdayLocator())\n",
    "ax2.xaxis.set_major_formatter(mdates.DateFormatter('%b %d'))\n",
    "ax2.set_xticks(ax2.get_xticks()[::3])\n",
    "maxyval = ef.Maharashtra.max()\n",
    "ax2.set_ylim([0,maxyval])\n",
    "ax2.text(0.05, 0.9,'Maharashtra', transform = ax2.transAxes, fontsize=20);\n",
    "ax2.spines['right'].set_visible(False)\n",
    "ax2.spines['top'].set_visible(False)\n",
    "\n",
    "\n",
    "ax3 = fig.add_subplot(gs[1,1])\n",
    "ef = df.loc['Tamil Nadu'].rename_axis('date').reset_index()\n",
    "ef['date'] = ef['date'].astype('datetime64[ns]')\n",
    "ax3.bar(ef.date, ef['Tamil Nadu'],color = '#007acc',alpha=0.5,)\n",
    "ax3.xaxis.set_major_locator(mdates.WeekdayLocator())\n",
    "ax3.xaxis.set_major_formatter(mdates.DateFormatter('%b %d'))\n",
    "ax3.set_xticks(ax3.get_xticks()[::3])\n",
    "ax3.text(0.05, 0.9,'Tamil Nadu', transform = ax3.transAxes, fontsize=20);\n",
    "ax3.spines['right'].set_visible(False)\n",
    "ax3.spines['top'].set_visible(False)\n",
    "\n",
    "ax5 = fig.add_subplot(gs[1,3])\n",
    "ef = df.loc['Telangana'].rename_axis('date').reset_index()\n",
    "ef['date'] = ef['date'].astype('datetime64[ns]')\n",
    "ax5.bar(ef.date, ef['Telangana'],color = '#007acc',alpha=0.5,)\n",
    "ax5.xaxis.set_major_locator(mdates.WeekdayLocator())\n",
    "ax5.xaxis.set_major_formatter(mdates.DateFormatter('%b %d'))\n",
    "ax5.set_xticks(ax5.get_xticks()[::3])\n",
    "ax5.text(0.05, 0.9,'Telangana', transform = ax5.transAxes, fontsize=20);\n",
    "ax5.spines['right'].set_visible(False)\n",
    "ax5.spines['top'].set_visible(False)\n",
    "\n",
    "ax6 = fig.add_subplot(gs[1,4])\n",
    "ef = df.loc['Andhra Pradesh'].rename_axis('date').reset_index()\n",
    "ef['date'] = ef['date'].astype('datetime64[ns]')\n",
    "ax6.bar(ef.date, ef['Andhra Pradesh'],color = '#007acc',alpha=0.5,)\n",
    "ax6.xaxis.set_major_locator(mdates.WeekdayLocator())\n",
    "ax6.xaxis.set_major_formatter(mdates.DateFormatter('%b %d'))\n",
    "ax6.set_xticks(ax6.get_xticks()[::3])\n",
    "ax6.text(0.05, 1,'Andhra Pradesh', transform = ax6.transAxes, fontsize=20);\n",
    "ax6.spines['right'].set_visible(False)\n",
    "ax6.spines['top'].set_visible(False)\n",
    "\n",
    "ax4 = fig.add_subplot(gs[1,2])\n",
    "ef = df.loc['Delhi'].rename_axis('date').reset_index()\n",
    "ef['date'] = ef['date'].astype('datetime64[ns]')\n",
    "ax4.bar(ef.date, ef.Delhi,color = '#007acc',alpha=0.5)\n",
    "ax4.set_xticks([])\n",
    "ax4.xaxis.set_major_locator(mdates.WeekdayLocator())\n",
    "ax4.xaxis.set_major_formatter(mdates.DateFormatter('%b %d'))\n",
    "ax4.set_xticks(ax4.get_xticks()[::3])\n",
    "ax4.spines['right'].set_visible(False)\n",
    "ax4.spines['top'].set_visible(False)\n",
    "\n",
    "ax4.text(0.05, 1,'Delhi', transform = ax4.transAxes, fontsize=20)\n",
    "\n",
    "for i in range(n):\n",
    "    \n",
    "    ax.append(fig.add_subplot(gs[i+2,:]))\n",
    "    ef = df.iloc[i+3].rename_axis('date').reset_index()\n",
    "    ef['date'] = ef['date'].astype('datetime64[ns]')\n",
    "    ax[i].bar(ef.date,ef.iloc[:,-1],color = '#007acc',alpha=0.3)\n",
    "    ax[i].plot(ef.date,ef.iloc[:,-1],marker='o',color='#007acc')\n",
    "    ax[i].text(0.02,0.5,f'{ef.columns.values[-1]}',transform = ax[i].transAxes, fontsize = 20);\n",
    "    ax[i].xaxis.set_major_locator(mdates.WeekdayLocator())\n",
    "    ax[i].xaxis.set_major_formatter(mdates.DateFormatter('%b %d'))\n",
    "    ax[i].set_ylim([0,7000])\n",
    "    ax[i].spines['right'].set_visible(False)\n",
    "    ax[i].spines['top'].set_visible(False)\n",
    "plt.tight_layout()\n"
   ]
  },
  {
   "cell_type": "code",
   "execution_count": 20,
   "id": "dress-forge",
   "metadata": {
    "execution": {
     "iopub.execute_input": "2021-05-07T13:12:23.030451Z",
     "iopub.status.busy": "2021-05-07T13:12:23.029723Z",
     "iopub.status.idle": "2021-05-07T13:12:23.033418Z",
     "shell.execute_reply": "2021-05-07T13:12:23.032946Z"
    },
    "papermill": {
     "duration": 0.039189,
     "end_time": "2021-05-07T13:12:23.033546",
     "exception": false,
     "start_time": "2021-05-07T13:12:22.994357",
     "status": "completed"
    },
    "tags": []
   },
   "outputs": [
    {
     "name": "stdout",
     "output_type": "stream",
     "text": [
      "                                   states    Cases  Deaths   PCases  PDeaths  Cases (+)  Deaths (+)  Fatality Rate\n",
      "                              Maharashtra  4942736   73515  4942736    73515          0           0           1.49\n",
      "                                Karnataka  1790104   17212  1790104    17212          0           0           0.96\n",
      "                                   Kerala  1786397    5629  1786397     5629          0           0           0.32\n",
      "                            Uttar Pradesh  1425916   14501  1425916    14501          0           0           1.02\n",
      "                               Tamil Nadu  1297500   14974  1297500    14974          0           0           1.15\n",
      "                                    Delhi  1292867   18739  1273035    18398      19832         341           1.45\n",
      "                           Andhra Pradesh  1228186    8446  1228186     8446          0           0           0.69\n",
      "                              West Bengal   935066   11964   935066    11964          0           0           1.28\n",
      "                             Chhattisgarh   816489    9950   816489     9950          0           0           1.22\n",
      "                                Rajasthan   702568    5182   702568     5182          0           0           0.74\n",
      "                                  Gujarat   645972    8035   645972     8035          0           0           1.24\n",
      "                           Madhya Pradesh   637406    6160   637406     6160          0           0           0.97\n",
      "                                  Haryana   573815    5137   573815     5137          0           0           0.90\n",
      "                                    Bihar   553803    3077   553803     3077          0           0           0.56\n",
      "                                   Odisha   512400    2193   500162     2174      12238          19           0.43\n",
      "                                Telangana   481640    2625   475748     2579       5892          46           0.55\n",
      "                                   Punjab   416350    9979   416350     9979          0           0           2.40\n",
      "                                    Assam   277687    1531   277687     1531          0           0           0.55\n",
      "                                Jharkhand   270089    3479   270089     3479          0           0           1.29\n",
      "                              Uttarakhand   220351    3293   220351     3293          0           0           1.49\n",
      "                        Jammu and Kashmir   201511    2562   201511     2562          0           0           1.27\n",
      "                         Himachal Pradesh   118729    1724   118729     1724          0           0           1.45\n",
      "                                      Goa   108267    1501   108267     1501          0           0           1.39\n",
      "                               Puducherry    66627     901    66627      901          0           0           1.35\n",
      "                               Chandigarh    47552     541    47552      541          0           0           1.14\n",
      "                                  Tripura    36846     401    36531      400        315           1           1.09\n",
      "                                  Manipur    33733     447    33733      447          0           0           1.33\n",
      "                        Arunachal Pradesh    19635      59    19635       59          0           0           0.30\n",
      "                                Meghalaya    18927     199    18630      193        297           6           1.05\n",
      "                                 Nagaland    15271     121    15271      121          0           0           0.79\n",
      "                                   Ladakh    14909     151    14909      151          0           0           1.01\n",
      "                                   Sikkim     9183     158     9183      158          0           0           1.72\n",
      " Dadra and Nagar Haveli and Daman and Diu     8678       4     8678        4          0           0           0.05\n",
      "                                  Mizoram     7147      17     6964       17        183           0           0.24\n",
      "              Andaman and Nicobar Islands     6255      72     6255       72          0           0           1.15\n",
      "                              Lakshadweep     3528       8     3528        8          0           0           0.23\n"
     ]
    }
   ],
   "source": [
    "#hide_input\n",
    "print(df_table.to_string(index=False))"
   ]
  },
  {
   "cell_type": "code",
   "execution_count": null,
   "id": "quantitative-legend",
   "metadata": {
    "papermill": {
     "duration": 0.027329,
     "end_time": "2021-05-07T13:12:23.089426",
     "exception": false,
     "start_time": "2021-05-07T13:12:23.062097",
     "status": "completed"
    },
    "tags": []
   },
   "outputs": [],
   "source": []
  },
  {
   "cell_type": "code",
   "execution_count": null,
   "id": "distant-acoustic",
   "metadata": {
    "papermill": {
     "duration": 0.025998,
     "end_time": "2021-05-07T13:12:23.141366",
     "exception": false,
     "start_time": "2021-05-07T13:12:23.115368",
     "status": "completed"
    },
    "tags": []
   },
   "outputs": [],
   "source": []
  }
 ],
 "metadata": {
  "kernelspec": {
   "display_name": "Python 3",
   "language": "python",
   "name": "python3"
  },
  "language_info": {
   "codemirror_mode": {
    "name": "ipython",
    "version": 3
   },
   "file_extension": ".py",
   "mimetype": "text/x-python",
   "name": "python",
   "nbconvert_exporter": "python",
   "pygments_lexer": "ipython3",
   "version": "3.6.13"
  },
  "papermill": {
   "duration": 25.359982,
   "end_time": "2021-05-07T13:12:24.684786",
   "environment_variables": {},
   "exception": null,
   "input_path": "latest.ipynb",
   "output_path": "latest.ipynb",
   "parameters": {},
   "start_time": "2021-05-07T13:11:59.324804",
   "version": "2.1.2"
  }
 },
 "nbformat": 4,
 "nbformat_minor": 5
}