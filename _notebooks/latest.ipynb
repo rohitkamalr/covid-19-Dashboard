{
 "cells": [
  {
   "cell_type": "markdown",
   "id": "colored-stack",
   "metadata": {
    "papermill": {
     "duration": 0.035556,
     "end_time": "2021-03-05T12:33:10.736419",
     "exception": false,
     "start_time": "2021-03-05T12:33:10.700863",
     "status": "completed"
    },
    "tags": []
   },
   "source": [
    "# Latest COVID-19 India Matplotlib Overview"
   ]
  },
  {
   "cell_type": "code",
   "execution_count": 1,
   "id": "light-proportion",
   "metadata": {
    "execution": {
     "iopub.execute_input": "2021-03-05T12:33:10.788851Z",
     "iopub.status.busy": "2021-03-05T12:33:10.788164Z",
     "iopub.status.idle": "2021-03-05T12:33:11.460803Z",
     "shell.execute_reply": "2021-03-05T12:33:11.460201Z"
    },
    "papermill": {
     "duration": 0.704394,
     "end_time": "2021-03-05T12:33:11.460971",
     "exception": false,
     "start_time": "2021-03-05T12:33:10.756577",
     "status": "completed"
    },
    "tags": []
   },
   "outputs": [],
   "source": [
    "#hide\n",
    "import pandas as pd\n",
    "import numpy as np\n",
    "import requests\n",
    "import json\n",
    "import matplotlib.pyplot as plt\n",
    "import matplotlib.dates as mdates\n",
    "import matplotlib as mpl\n",
    "from IPython.core.display import display,HTML\n",
    "%matplotlib inline\n",
    "from datetime import date"
   ]
  },
  {
   "cell_type": "code",
   "execution_count": 2,
   "id": "greenhouse-shooting",
   "metadata": {
    "execution": {
     "iopub.execute_input": "2021-03-05T12:33:11.509501Z",
     "iopub.status.busy": "2021-03-05T12:33:11.508821Z",
     "iopub.status.idle": "2021-03-05T12:33:11.737132Z",
     "shell.execute_reply": "2021-03-05T12:33:11.736507Z"
    },
    "papermill": {
     "duration": 0.256666,
     "end_time": "2021-03-05T12:33:11.737288",
     "exception": false,
     "start_time": "2021-03-05T12:33:11.480622",
     "status": "completed"
    },
    "tags": []
   },
   "outputs": [],
   "source": [
    "#hide\n",
    "df  = pd.read_csv('https://api.covid19india.org/csv/latest/states.csv')\n",
    "df = df[['Date','State','Confirmed','Deceased']]\n",
    "df = df.rename(columns={'Confirmed':'Cases', \"Deceased\":'Deaths'})\n",
    "df_cases = df[[\"Date\",'State','Cases']]\n",
    "df_deaths = df[['Date','State','Deaths']]\n",
    "df_cases1 = df_cases.groupby('Date')\n",
    "df_deaths1= df_deaths.groupby('Date')"
   ]
  },
  {
   "cell_type": "code",
   "execution_count": 3,
   "id": "hybrid-cathedral",
   "metadata": {
    "execution": {
     "iopub.execute_input": "2021-03-05T12:33:11.782661Z",
     "iopub.status.busy": "2021-03-05T12:33:11.781908Z",
     "iopub.status.idle": "2021-03-05T12:33:11.801602Z",
     "shell.execute_reply": "2021-03-05T12:33:11.802245Z"
    },
    "papermill": {
     "duration": 0.045254,
     "end_time": "2021-03-05T12:33:11.802448",
     "exception": false,
     "start_time": "2021-03-05T12:33:11.757194",
     "status": "completed"
    },
    "tags": []
   },
   "outputs": [],
   "source": [
    "#hide\n",
    "df_snap = pd.read_csv('data/SnapshotCases-28-July.csv')\n",
    "arr_states = df_snap['states'].unique()\n",
    "arr_dates = df['Date'].unique()\n",
    "df_snap = df_snap.set_index('states')"
   ]
  },
  {
   "cell_type": "code",
   "execution_count": 4,
   "id": "interior-belfast",
   "metadata": {
    "execution": {
     "iopub.execute_input": "2021-03-05T12:33:11.851532Z",
     "iopub.status.busy": "2021-03-05T12:33:11.850845Z",
     "iopub.status.idle": "2021-03-05T12:33:11.855959Z",
     "shell.execute_reply": "2021-03-05T12:33:11.855380Z"
    },
    "papermill": {
     "duration": 0.033354,
     "end_time": "2021-03-05T12:33:11.856102",
     "exception": false,
     "start_time": "2021-03-05T12:33:11.822748",
     "status": "completed"
    },
    "tags": []
   },
   "outputs": [
    {
     "data": {
      "text/plain": [
       "array(['Andaman and Nicobar Islands', 'Andhra Pradesh',\n",
       "       'Arunachal Pradesh', 'Assam', 'Bihar', 'Chandigarh',\n",
       "       'Dadra and Nagar Haveli and Daman and Diu', 'Delhi', 'Goa',\n",
       "       'Gujarat', 'Haryana', 'Himachal Pradesh', 'Jammu and Kashmir',\n",
       "       'Jharkhand', 'Karnataka', 'Kerala', 'Lakshadweep',\n",
       "       'Madhya Pradesh', 'Maharashtra', 'Manipur', 'Meghalaya', 'Mizoram',\n",
       "       'Nagaland', 'Odisha', 'Puducherry', 'Punjab', 'Rajasthan',\n",
       "       'Sikkim', 'Tamil Nadu', 'Telangana', 'Tripura', 'Uttar Pradesh',\n",
       "       'West Bengal', 'Chhattisgarh', 'Ladakh', 'Uttarakhand'],\n",
       "      dtype=object)"
      ]
     },
     "execution_count": 4,
     "metadata": {},
     "output_type": "execute_result"
    }
   ],
   "source": [
    "#hide\n",
    "arr_states[-9] = 'Puducherry'\n",
    "arr_states[-10] = 'Odisha'\n",
    "arr_states[6] = 'Dadra and Nagar Haveli and Daman and Diu'\n",
    "arr_states = np.append(arr_states,np.array(['Chhattisgarh','Ladakh','Uttarakhand']))\n",
    "arr_states"
   ]
  },
  {
   "cell_type": "code",
   "execution_count": 5,
   "id": "behind-manner",
   "metadata": {
    "execution": {
     "iopub.execute_input": "2021-03-05T12:33:11.908650Z",
     "iopub.status.busy": "2021-03-05T12:33:11.908012Z",
     "iopub.status.idle": "2021-03-05T12:33:11.916433Z",
     "shell.execute_reply": "2021-03-05T12:33:11.917000Z"
    },
    "papermill": {
     "duration": 0.040786,
     "end_time": "2021-03-05T12:33:11.917148",
     "exception": false,
     "start_time": "2021-03-05T12:33:11.876362",
     "status": "completed"
    },
    "tags": []
   },
   "outputs": [],
   "source": [
    "#hide\n",
    "dates = []\n",
    "for i in arr_dates:\n",
    "    if i>='2020-07-01':\n",
    "        dates.append(i)\n",
    "dict = {'states':dates}\n",
    "for i in arr_states:\n",
    "    dict[i] = [0]*len(dates)\n",
    "dft_cases = pd.DataFrame(dict)\n",
    "dft_deaths = pd.DataFrame(dict)\n"
   ]
  },
  {
   "cell_type": "code",
   "execution_count": 6,
   "id": "simplified-peter",
   "metadata": {
    "execution": {
     "iopub.execute_input": "2021-03-05T12:33:11.961982Z",
     "iopub.status.busy": "2021-03-05T12:33:11.961338Z",
     "iopub.status.idle": "2021-03-05T12:33:16.553349Z",
     "shell.execute_reply": "2021-03-05T12:33:16.552337Z"
    },
    "papermill": {
     "duration": 4.6174,
     "end_time": "2021-03-05T12:33:16.553504",
     "exception": false,
     "start_time": "2021-03-05T12:33:11.936104",
     "status": "completed"
    },
    "tags": []
   },
   "outputs": [],
   "source": [
    "#hide\n",
    "for i in range(len(dates)):\n",
    "    df1_deaths = df_deaths1.get_group(dates[i])\n",
    "    for j in range(len(df1_deaths.index)):\n",
    "        if df1_deaths.iloc[j,1] in arr_states:\n",
    "            dft_deaths.loc[i,df1_deaths.iloc[j,1]] = df1_deaths.iloc[j,2]\n",
    "dft_deaths = dft_deaths.set_index('states')"
   ]
  },
  {
   "cell_type": "code",
   "execution_count": 7,
   "id": "geological-welding",
   "metadata": {
    "execution": {
     "iopub.execute_input": "2021-03-05T12:33:16.599635Z",
     "iopub.status.busy": "2021-03-05T12:33:16.598876Z",
     "iopub.status.idle": "2021-03-05T12:33:21.280597Z",
     "shell.execute_reply": "2021-03-05T12:33:21.280042Z"
    },
    "papermill": {
     "duration": 4.708113,
     "end_time": "2021-03-05T12:33:21.280750",
     "exception": false,
     "start_time": "2021-03-05T12:33:16.572637",
     "status": "completed"
    },
    "tags": []
   },
   "outputs": [],
   "source": [
    "#hide\n",
    "for i in range(len(dates)):\n",
    "    df1_cases = df_cases1.get_group(dates[i])\n",
    "    for j in range(len(df1_cases.index)):\n",
    "        if df1_cases.iloc[j,1] in arr_states:\n",
    "            dft_cases.loc[i,df1_cases.iloc[j,1]] = df1_cases.iloc[j,2]\n",
    "dft_cases = dft_cases.set_index('states')"
   ]
  },
  {
   "cell_type": "code",
   "execution_count": 8,
   "id": "binary-ratio",
   "metadata": {
    "execution": {
     "iopub.execute_input": "2021-03-05T12:33:21.327432Z",
     "iopub.status.busy": "2021-03-05T12:33:21.326742Z",
     "iopub.status.idle": "2021-03-05T12:33:21.329531Z",
     "shell.execute_reply": "2021-03-05T12:33:21.328833Z"
    },
    "papermill": {
     "duration": 0.029301,
     "end_time": "2021-03-05T12:33:21.329689",
     "exception": false,
     "start_time": "2021-03-05T12:33:21.300388",
     "status": "completed"
    },
    "tags": []
   },
   "outputs": [],
   "source": [
    "#hide\n",
    "dft_cases = dft_cases.T\n",
    "dft_deaths = dft_deaths.T\n",
    "dt_today = dates[-1]\n",
    "dt_yday = dates[-2]"
   ]
  },
  {
   "cell_type": "code",
   "execution_count": 9,
   "id": "boolean-calculator",
   "metadata": {
    "execution": {
     "iopub.execute_input": "2021-03-05T12:33:21.373034Z",
     "iopub.status.busy": "2021-03-05T12:33:21.372388Z",
     "iopub.status.idle": "2021-03-05T12:33:21.377193Z",
     "shell.execute_reply": "2021-03-05T12:33:21.377785Z"
    },
    "papermill": {
     "duration": 0.029087,
     "end_time": "2021-03-05T12:33:21.377933",
     "exception": false,
     "start_time": "2021-03-05T12:33:21.348846",
     "status": "completed"
    },
    "tags": []
   },
   "outputs": [],
   "source": [
    "#hide\n",
    "dft_cases = dft_cases.reset_index()\n",
    "dft_deaths = dft_deaths.reset_index()\n",
    "dft_cases = dft_cases.rename(columns = {'index':'state'})\n",
    "dft_deaths = dft_deaths.rename(columns = {'index':'state'})"
   ]
  },
  {
   "cell_type": "code",
   "execution_count": 10,
   "id": "invisible-johnston",
   "metadata": {
    "execution": {
     "iopub.execute_input": "2021-03-05T12:33:21.424180Z",
     "iopub.status.busy": "2021-03-05T12:33:21.423507Z",
     "iopub.status.idle": "2021-03-05T12:33:21.430699Z",
     "shell.execute_reply": "2021-03-05T12:33:21.431194Z"
    },
    "papermill": {
     "duration": 0.034779,
     "end_time": "2021-03-05T12:33:21.431359",
     "exception": false,
     "start_time": "2021-03-05T12:33:21.396580",
     "status": "completed"
    },
    "tags": []
   },
   "outputs": [],
   "source": [
    "#hide\n",
    "dfc_cases = dft_cases.groupby('state')[dt_today].sum()\n",
    "dfc_deaths = dft_deaths.groupby('state')[dt_today].sum()\n",
    "dfp_cases = dft_cases.groupby('state')[dt_yday].sum()\n",
    "dfp_deaths = dft_deaths.groupby('state')[dt_yday].sum()"
   ]
  },
  {
   "cell_type": "code",
   "execution_count": 11,
   "id": "measured-great",
   "metadata": {
    "execution": {
     "iopub.execute_input": "2021-03-05T12:33:21.487072Z",
     "iopub.status.busy": "2021-03-05T12:33:21.486317Z",
     "iopub.status.idle": "2021-03-05T12:33:21.493751Z",
     "shell.execute_reply": "2021-03-05T12:33:21.494308Z"
    },
    "papermill": {
     "duration": 0.044661,
     "end_time": "2021-03-05T12:33:21.494484",
     "exception": false,
     "start_time": "2021-03-05T12:33:21.449823",
     "status": "completed"
    },
    "tags": []
   },
   "outputs": [
    {
     "data": {
      "text/html": [
       "<div>\n",
       "<style scoped>\n",
       "    .dataframe tbody tr th:only-of-type {\n",
       "        vertical-align: middle;\n",
       "    }\n",
       "\n",
       "    .dataframe tbody tr th {\n",
       "        vertical-align: top;\n",
       "    }\n",
       "\n",
       "    .dataframe thead th {\n",
       "        text-align: right;\n",
       "    }\n",
       "</style>\n",
       "<table border=\"1\" class=\"dataframe\">\n",
       "  <thead>\n",
       "    <tr style=\"text-align: right;\">\n",
       "      <th></th>\n",
       "      <th>states</th>\n",
       "      <th>Cases</th>\n",
       "      <th>Deaths</th>\n",
       "      <th>PCases</th>\n",
       "      <th>PDeaths</th>\n",
       "    </tr>\n",
       "  </thead>\n",
       "  <tbody>\n",
       "    <tr>\n",
       "      <th>0</th>\n",
       "      <td>Maharashtra</td>\n",
       "      <td>2188183</td>\n",
       "      <td>52340</td>\n",
       "      <td>2188183</td>\n",
       "      <td>52340</td>\n",
       "    </tr>\n",
       "    <tr>\n",
       "      <th>1</th>\n",
       "      <td>Kerala</td>\n",
       "      <td>1069661</td>\n",
       "      <td>4256</td>\n",
       "      <td>1069661</td>\n",
       "      <td>4256</td>\n",
       "    </tr>\n",
       "    <tr>\n",
       "      <th>2</th>\n",
       "      <td>Karnataka</td>\n",
       "      <td>953136</td>\n",
       "      <td>12350</td>\n",
       "      <td>953136</td>\n",
       "      <td>12350</td>\n",
       "    </tr>\n",
       "    <tr>\n",
       "      <th>3</th>\n",
       "      <td>Andhra Pradesh</td>\n",
       "      <td>890317</td>\n",
       "      <td>7171</td>\n",
       "      <td>890317</td>\n",
       "      <td>7171</td>\n",
       "    </tr>\n",
       "    <tr>\n",
       "      <th>4</th>\n",
       "      <td>Tamil Nadu</td>\n",
       "      <td>853449</td>\n",
       "      <td>12508</td>\n",
       "      <td>853449</td>\n",
       "      <td>12508</td>\n",
       "    </tr>\n",
       "  </tbody>\n",
       "</table>\n",
       "</div>"
      ],
      "text/plain": [
       "           states    Cases  Deaths   PCases  PDeaths\n",
       "0     Maharashtra  2188183   52340  2188183    52340\n",
       "1          Kerala  1069661    4256  1069661     4256\n",
       "2       Karnataka   953136   12350   953136    12350\n",
       "3  Andhra Pradesh   890317    7171   890317     7171\n",
       "4      Tamil Nadu   853449   12508   853449    12508"
      ]
     },
     "execution_count": 11,
     "metadata": {},
     "output_type": "execute_result"
    }
   ],
   "source": [
    "#hide\n",
    "df_table = pd.DataFrame({'states': dfc_cases.index, 'Cases': dfc_cases.values, 'Deaths': dfc_deaths.values, 'PCases': dfp_cases.values, 'PDeaths': dfp_deaths.values}).set_index('states')\n",
    "df_table = df_table.sort_values(by = ['Cases','Deaths'], ascending = [False, False])\n",
    "df_table = df_table.reset_index()\n",
    "df_table.head()"
   ]
  },
  {
   "cell_type": "code",
   "execution_count": 12,
   "id": "found-montreal",
   "metadata": {
    "execution": {
     "iopub.execute_input": "2021-03-05T12:33:21.541285Z",
     "iopub.status.busy": "2021-03-05T12:33:21.540643Z",
     "iopub.status.idle": "2021-03-05T12:33:21.550583Z",
     "shell.execute_reply": "2021-03-05T12:33:21.550031Z"
    },
    "papermill": {
     "duration": 0.036102,
     "end_time": "2021-03-05T12:33:21.550729",
     "exception": false,
     "start_time": "2021-03-05T12:33:21.514627",
     "status": "completed"
    },
    "tags": []
   },
   "outputs": [],
   "source": [
    "#hide\n",
    "for c in 'Cases, Deaths'.split(', '):\n",
    "    df_table[f'{c} (+)'] = (df_table[c] - df_table[f'P{c}']).clip(0)\n",
    "df_table['Fatality Rate'] = (100* df_table['Deaths']/ df_table['Cases']).round(2)"
   ]
  },
  {
   "cell_type": "code",
   "execution_count": 13,
   "id": "minus-savage",
   "metadata": {
    "execution": {
     "iopub.execute_input": "2021-03-05T12:33:21.614543Z",
     "iopub.status.busy": "2021-03-05T12:33:21.613862Z",
     "iopub.status.idle": "2021-03-05T12:33:21.625042Z",
     "shell.execute_reply": "2021-03-05T12:33:21.625775Z"
    },
    "papermill": {
     "duration": 0.052947,
     "end_time": "2021-03-05T12:33:21.625978",
     "exception": false,
     "start_time": "2021-03-05T12:33:21.573031",
     "status": "completed"
    },
    "tags": []
   },
   "outputs": [
    {
     "data": {
      "text/html": [
       "<div>\n",
       "<style scoped>\n",
       "    .dataframe tbody tr th:only-of-type {\n",
       "        vertical-align: middle;\n",
       "    }\n",
       "\n",
       "    .dataframe tbody tr th {\n",
       "        vertical-align: top;\n",
       "    }\n",
       "\n",
       "    .dataframe thead th {\n",
       "        text-align: right;\n",
       "    }\n",
       "</style>\n",
       "<table border=\"1\" class=\"dataframe\">\n",
       "  <thead>\n",
       "    <tr style=\"text-align: right;\">\n",
       "      <th></th>\n",
       "      <th>states</th>\n",
       "      <th>Cases</th>\n",
       "      <th>Deaths</th>\n",
       "      <th>PCases</th>\n",
       "      <th>PDeaths</th>\n",
       "      <th>Cases (+)</th>\n",
       "      <th>Deaths (+)</th>\n",
       "      <th>Fatality Rate</th>\n",
       "    </tr>\n",
       "  </thead>\n",
       "  <tbody>\n",
       "    <tr>\n",
       "      <th>0</th>\n",
       "      <td>Maharashtra</td>\n",
       "      <td>2188183</td>\n",
       "      <td>52340</td>\n",
       "      <td>2188183</td>\n",
       "      <td>52340</td>\n",
       "      <td>0</td>\n",
       "      <td>0</td>\n",
       "      <td>2.39</td>\n",
       "    </tr>\n",
       "    <tr>\n",
       "      <th>1</th>\n",
       "      <td>Kerala</td>\n",
       "      <td>1069661</td>\n",
       "      <td>4256</td>\n",
       "      <td>1069661</td>\n",
       "      <td>4256</td>\n",
       "      <td>0</td>\n",
       "      <td>0</td>\n",
       "      <td>0.40</td>\n",
       "    </tr>\n",
       "    <tr>\n",
       "      <th>2</th>\n",
       "      <td>Karnataka</td>\n",
       "      <td>953136</td>\n",
       "      <td>12350</td>\n",
       "      <td>953136</td>\n",
       "      <td>12350</td>\n",
       "      <td>0</td>\n",
       "      <td>0</td>\n",
       "      <td>1.30</td>\n",
       "    </tr>\n",
       "    <tr>\n",
       "      <th>3</th>\n",
       "      <td>Andhra Pradesh</td>\n",
       "      <td>890317</td>\n",
       "      <td>7171</td>\n",
       "      <td>890317</td>\n",
       "      <td>7171</td>\n",
       "      <td>0</td>\n",
       "      <td>0</td>\n",
       "      <td>0.81</td>\n",
       "    </tr>\n",
       "    <tr>\n",
       "      <th>4</th>\n",
       "      <td>Tamil Nadu</td>\n",
       "      <td>853449</td>\n",
       "      <td>12508</td>\n",
       "      <td>853449</td>\n",
       "      <td>12508</td>\n",
       "      <td>0</td>\n",
       "      <td>0</td>\n",
       "      <td>1.47</td>\n",
       "    </tr>\n",
       "  </tbody>\n",
       "</table>\n",
       "</div>"
      ],
      "text/plain": [
       "           states    Cases  Deaths   PCases  PDeaths  Cases (+)  Deaths (+)  \\\n",
       "0     Maharashtra  2188183   52340  2188183    52340          0           0   \n",
       "1          Kerala  1069661    4256  1069661     4256          0           0   \n",
       "2       Karnataka   953136   12350   953136    12350          0           0   \n",
       "3  Andhra Pradesh   890317    7171   890317     7171          0           0   \n",
       "4      Tamil Nadu   853449   12508   853449    12508          0           0   \n",
       "\n",
       "   Fatality Rate  \n",
       "0           2.39  \n",
       "1           0.40  \n",
       "2           1.30  \n",
       "3           0.81  \n",
       "4           1.47  "
      ]
     },
     "execution_count": 13,
     "metadata": {},
     "output_type": "execute_result"
    }
   ],
   "source": [
    "#hide\n",
    "df_table.head()"
   ]
  },
  {
   "cell_type": "code",
   "execution_count": 14,
   "id": "false-peter",
   "metadata": {
    "execution": {
     "iopub.execute_input": "2021-03-05T12:33:22.015315Z",
     "iopub.status.busy": "2021-03-05T12:33:22.014581Z",
     "iopub.status.idle": "2021-03-05T12:33:22.021806Z",
     "shell.execute_reply": "2021-03-05T12:33:22.021281Z"
    },
    "papermill": {
     "duration": 0.346223,
     "end_time": "2021-03-05T12:33:22.021948",
     "exception": false,
     "start_time": "2021-03-05T12:33:21.675725",
     "status": "completed"
    },
    "tags": []
   },
   "outputs": [
    {
     "data": {
      "text/plain": [
       "{'updated': '2021-03-05',\n",
       " 'since': '2021-03-04',\n",
       " 'Cases': 11173910,\n",
       " 'PCases': 11173572,\n",
       " 'Deaths': 157587,\n",
       " 'PDeaths': 157584,\n",
       " 'Cases (+)': 338,\n",
       " 'Deaths (+)': 3}"
      ]
     },
     "execution_count": 14,
     "metadata": {},
     "output_type": "execute_result"
    }
   ],
   "source": [
    "#hide\n",
    "summary = {'updated':dates[-1], 'since':dates[-2]}\n",
    "list_names = ['Cases', 'PCases', 'Deaths', 'PDeaths', 'Cases (+)', 'Deaths (+)']\n",
    "for name in list_names:\n",
    "    summary[name] = df_table.sum()[name]\n",
    "summary"
   ]
  },
  {
   "cell_type": "code",
   "execution_count": 15,
   "id": "packed-viewer",
   "metadata": {
    "execution": {
     "iopub.execute_input": "2021-03-05T12:33:22.086589Z",
     "iopub.status.busy": "2021-03-05T12:33:22.085893Z",
     "iopub.status.idle": "2021-03-05T12:33:22.087874Z",
     "shell.execute_reply": "2021-03-05T12:33:22.088566Z"
    },
    "papermill": {
     "duration": 0.046021,
     "end_time": "2021-03-05T12:33:22.088737",
     "exception": false,
     "start_time": "2021-03-05T12:33:22.042716",
     "status": "completed"
    },
    "tags": []
   },
   "outputs": [],
   "source": [
    "#hide\n",
    "overview = '''\n",
    "<!-- #######  HTML!! #########-->\n",
    "<h1 style=\"color: #5e9ca0; text-align: center;\">India</h1>\n",
    "<p style=\"text-align: center;\">Last update: <strong>{update}</strong></p>\n",
    "<p style=\"text-align: center;\">Confirmed cases:</p>\n",
    "<p style=\"text-align: center;font-size:24px;\">{cases} (<span style=\"color: #ff0000;\">+{new}</span>)</p>\n",
    "<p style=\"text-align: center;\">Confirmed deaths:</p>\n",
    "<p style=\"text-align: center;font-size:24px;\">{deaths} (<span style=\"color: #ff0000;\">+{dnew}</span>)</p>\n",
    "'''"
   ]
  },
  {
   "cell_type": "code",
   "execution_count": 16,
   "id": "phantom-lover",
   "metadata": {
    "execution": {
     "iopub.execute_input": "2021-03-05T12:33:22.138859Z",
     "iopub.status.busy": "2021-03-05T12:33:22.138181Z",
     "iopub.status.idle": "2021-03-05T12:33:22.141404Z",
     "shell.execute_reply": "2021-03-05T12:33:22.141933Z"
    },
    "papermill": {
     "duration": 0.030469,
     "end_time": "2021-03-05T12:33:22.142104",
     "exception": false,
     "start_time": "2021-03-05T12:33:22.111635",
     "status": "completed"
    },
    "tags": []
   },
   "outputs": [
    {
     "data": {
      "text/html": [
       "\n",
       "<!-- #######  HTML!! #########-->\n",
       "<h1 style=\"color: #5e9ca0; text-align: center;\">India</h1>\n",
       "<p style=\"text-align: center;\">Last update: <strong>2021-03-05</strong></p>\n",
       "<p style=\"text-align: center;\">Confirmed cases:</p>\n",
       "<p style=\"text-align: center;font-size:24px;\">11173910 (<span style=\"color: #ff0000;\">+338</span>)</p>\n",
       "<p style=\"text-align: center;\">Confirmed deaths:</p>\n",
       "<p style=\"text-align: center;font-size:24px;\">157587 (<span style=\"color: #ff0000;\">+3</span>)</p>\n"
      ],
      "text/plain": [
       "<IPython.core.display.HTML object>"
      ]
     },
     "metadata": {},
     "output_type": "display_data"
    }
   ],
   "source": [
    "#hide_input\n",
    "update = summary['updated']\n",
    "cases = summary['Cases']\n",
    "new = summary['Cases (+)']\n",
    "deaths = summary['Deaths']\n",
    "dnew = summary['Deaths (+)']\n",
    "\n",
    "html = HTML(overview.format(update=update, cases=cases,new=new,deaths=deaths,dnew=dnew))\n",
    "\n",
    "display(html)"
   ]
  },
  {
   "cell_type": "code",
   "execution_count": 17,
   "id": "sealed-reset",
   "metadata": {
    "execution": {
     "iopub.execute_input": "2021-03-05T12:33:22.193908Z",
     "iopub.status.busy": "2021-03-05T12:33:22.193251Z",
     "iopub.status.idle": "2021-03-05T12:33:22.202882Z",
     "shell.execute_reply": "2021-03-05T12:33:22.202278Z"
    },
    "papermill": {
     "duration": 0.039469,
     "end_time": "2021-03-05T12:33:22.203075",
     "exception": false,
     "start_time": "2021-03-05T12:33:22.163606",
     "status": "completed"
    },
    "tags": []
   },
   "outputs": [],
   "source": [
    "#hide\n",
    "dt_cols = list(dft_cases.columns[1:])\n",
    "dft_ct_new_cases = dft_cases.groupby('state')[dt_cols].sum().diff(axis=1).fillna(0).astype(int)\n",
    "dft_ct_new_cases.sort_values(by = dates[-1], ascending = False,inplace = True)"
   ]
  },
  {
   "cell_type": "code",
   "execution_count": 18,
   "id": "designed-constant",
   "metadata": {
    "execution": {
     "iopub.execute_input": "2021-03-05T12:33:22.267217Z",
     "iopub.status.busy": "2021-03-05T12:33:22.266414Z",
     "iopub.status.idle": "2021-03-05T12:33:22.269233Z",
     "shell.execute_reply": "2021-03-05T12:33:22.269842Z"
    },
    "papermill": {
     "duration": 0.045013,
     "end_time": "2021-03-05T12:33:22.270011",
     "exception": false,
     "start_time": "2021-03-05T12:33:22.224998",
     "status": "completed"
    },
    "tags": []
   },
   "outputs": [
    {
     "data": {
      "text/html": [
       "<div>\n",
       "<style scoped>\n",
       "    .dataframe tbody tr th:only-of-type {\n",
       "        vertical-align: middle;\n",
       "    }\n",
       "\n",
       "    .dataframe tbody tr th {\n",
       "        vertical-align: top;\n",
       "    }\n",
       "\n",
       "    .dataframe thead th {\n",
       "        text-align: right;\n",
       "    }\n",
       "</style>\n",
       "<table border=\"1\" class=\"dataframe\">\n",
       "  <thead>\n",
       "    <tr style=\"text-align: right;\">\n",
       "      <th>states</th>\n",
       "      <th>2020-07-01</th>\n",
       "      <th>2020-07-02</th>\n",
       "      <th>2020-07-03</th>\n",
       "      <th>2020-07-04</th>\n",
       "      <th>2020-07-05</th>\n",
       "      <th>2020-07-06</th>\n",
       "      <th>2020-07-07</th>\n",
       "      <th>2020-07-08</th>\n",
       "      <th>2020-07-09</th>\n",
       "      <th>2020-07-10</th>\n",
       "      <th>...</th>\n",
       "      <th>2021-02-24</th>\n",
       "      <th>2021-02-25</th>\n",
       "      <th>2021-02-26</th>\n",
       "      <th>2021-02-27</th>\n",
       "      <th>2021-02-28</th>\n",
       "      <th>2021-03-01</th>\n",
       "      <th>2021-03-02</th>\n",
       "      <th>2021-03-03</th>\n",
       "      <th>2021-03-04</th>\n",
       "      <th>2021-03-05</th>\n",
       "    </tr>\n",
       "    <tr>\n",
       "      <th>state</th>\n",
       "      <th></th>\n",
       "      <th></th>\n",
       "      <th></th>\n",
       "      <th></th>\n",
       "      <th></th>\n",
       "      <th></th>\n",
       "      <th></th>\n",
       "      <th></th>\n",
       "      <th></th>\n",
       "      <th></th>\n",
       "      <th></th>\n",
       "      <th></th>\n",
       "      <th></th>\n",
       "      <th></th>\n",
       "      <th></th>\n",
       "      <th></th>\n",
       "      <th></th>\n",
       "      <th></th>\n",
       "      <th></th>\n",
       "      <th></th>\n",
       "      <th></th>\n",
       "    </tr>\n",
       "  </thead>\n",
       "  <tbody>\n",
       "    <tr>\n",
       "      <th>Telangana</th>\n",
       "      <td>0</td>\n",
       "      <td>1213</td>\n",
       "      <td>1892</td>\n",
       "      <td>1850</td>\n",
       "      <td>1590</td>\n",
       "      <td>1831</td>\n",
       "      <td>1879</td>\n",
       "      <td>1924</td>\n",
       "      <td>1410</td>\n",
       "      <td>1278</td>\n",
       "      <td>...</td>\n",
       "      <td>345</td>\n",
       "      <td>207</td>\n",
       "      <td>189</td>\n",
       "      <td>178</td>\n",
       "      <td>176</td>\n",
       "      <td>116</td>\n",
       "      <td>163</td>\n",
       "      <td>168</td>\n",
       "      <td>152</td>\n",
       "      <td>166</td>\n",
       "    </tr>\n",
       "    <tr>\n",
       "      <th>Odisha</th>\n",
       "      <td>0</td>\n",
       "      <td>229</td>\n",
       "      <td>561</td>\n",
       "      <td>495</td>\n",
       "      <td>469</td>\n",
       "      <td>456</td>\n",
       "      <td>571</td>\n",
       "      <td>527</td>\n",
       "      <td>577</td>\n",
       "      <td>755</td>\n",
       "      <td>...</td>\n",
       "      <td>68</td>\n",
       "      <td>89</td>\n",
       "      <td>94</td>\n",
       "      <td>86</td>\n",
       "      <td>87</td>\n",
       "      <td>86</td>\n",
       "      <td>74</td>\n",
       "      <td>97</td>\n",
       "      <td>81</td>\n",
       "      <td>91</td>\n",
       "    </tr>\n",
       "    <tr>\n",
       "      <th>Goa</th>\n",
       "      <td>0</td>\n",
       "      <td>95</td>\n",
       "      <td>94</td>\n",
       "      <td>108</td>\n",
       "      <td>77</td>\n",
       "      <td>52</td>\n",
       "      <td>90</td>\n",
       "      <td>136</td>\n",
       "      <td>112</td>\n",
       "      <td>100</td>\n",
       "      <td>...</td>\n",
       "      <td>52</td>\n",
       "      <td>71</td>\n",
       "      <td>100</td>\n",
       "      <td>61</td>\n",
       "      <td>54</td>\n",
       "      <td>40</td>\n",
       "      <td>47</td>\n",
       "      <td>70</td>\n",
       "      <td>69</td>\n",
       "      <td>79</td>\n",
       "    </tr>\n",
       "    <tr>\n",
       "      <th>Meghalaya</th>\n",
       "      <td>0</td>\n",
       "      <td>3</td>\n",
       "      <td>4</td>\n",
       "      <td>8</td>\n",
       "      <td>2</td>\n",
       "      <td>16</td>\n",
       "      <td>6</td>\n",
       "      <td>6</td>\n",
       "      <td>13</td>\n",
       "      <td>73</td>\n",
       "      <td>...</td>\n",
       "      <td>3</td>\n",
       "      <td>3</td>\n",
       "      <td>0</td>\n",
       "      <td>0</td>\n",
       "      <td>1</td>\n",
       "      <td>1</td>\n",
       "      <td>3</td>\n",
       "      <td>0</td>\n",
       "      <td>0</td>\n",
       "      <td>2</td>\n",
       "    </tr>\n",
       "    <tr>\n",
       "      <th>Punjab</th>\n",
       "      <td>0</td>\n",
       "      <td>116</td>\n",
       "      <td>153</td>\n",
       "      <td>172</td>\n",
       "      <td>174</td>\n",
       "      <td>208</td>\n",
       "      <td>258</td>\n",
       "      <td>158</td>\n",
       "      <td>233</td>\n",
       "      <td>217</td>\n",
       "      <td>...</td>\n",
       "      <td>558</td>\n",
       "      <td>563</td>\n",
       "      <td>622</td>\n",
       "      <td>593</td>\n",
       "      <td>579</td>\n",
       "      <td>633</td>\n",
       "      <td>729</td>\n",
       "      <td>772</td>\n",
       "      <td>1071</td>\n",
       "      <td>0</td>\n",
       "    </tr>\n",
       "  </tbody>\n",
       "</table>\n",
       "<p>5 rows × 248 columns</p>\n",
       "</div>"
      ],
      "text/plain": [
       "states     2020-07-01  2020-07-02  2020-07-03  2020-07-04  2020-07-05  \\\n",
       "state                                                                   \n",
       "Telangana           0        1213        1892        1850        1590   \n",
       "Odisha              0         229         561         495         469   \n",
       "Goa                 0          95          94         108          77   \n",
       "Meghalaya           0           3           4           8           2   \n",
       "Punjab              0         116         153         172         174   \n",
       "\n",
       "states     2020-07-06  2020-07-07  2020-07-08  2020-07-09  2020-07-10  ...  \\\n",
       "state                                                                  ...   \n",
       "Telangana        1831        1879        1924        1410        1278  ...   \n",
       "Odisha            456         571         527         577         755  ...   \n",
       "Goa                52          90         136         112         100  ...   \n",
       "Meghalaya          16           6           6          13          73  ...   \n",
       "Punjab            208         258         158         233         217  ...   \n",
       "\n",
       "states     2021-02-24  2021-02-25  2021-02-26  2021-02-27  2021-02-28  \\\n",
       "state                                                                   \n",
       "Telangana         345         207         189         178         176   \n",
       "Odisha             68          89          94          86          87   \n",
       "Goa                52          71         100          61          54   \n",
       "Meghalaya           3           3           0           0           1   \n",
       "Punjab            558         563         622         593         579   \n",
       "\n",
       "states     2021-03-01  2021-03-02  2021-03-03  2021-03-04  2021-03-05  \n",
       "state                                                                  \n",
       "Telangana         116         163         168         152         166  \n",
       "Odisha             86          74          97          81          91  \n",
       "Goa                40          47          70          69          79  \n",
       "Meghalaya           1           3           0           0           2  \n",
       "Punjab            633         729         772        1071           0  \n",
       "\n",
       "[5 rows x 248 columns]"
      ]
     },
     "execution_count": 18,
     "metadata": {},
     "output_type": "execute_result"
    }
   ],
   "source": [
    "#hide\n",
    "dft_ct_new_cases.head()"
   ]
  },
  {
   "cell_type": "code",
   "execution_count": 19,
   "id": "responsible-nightlife",
   "metadata": {
    "execution": {
     "iopub.execute_input": "2021-03-05T12:33:22.332208Z",
     "iopub.status.busy": "2021-03-05T12:33:22.321863Z",
     "iopub.status.idle": "2021-03-05T12:33:33.367148Z",
     "shell.execute_reply": "2021-03-05T12:33:33.367771Z"
    },
    "papermill": {
     "duration": 11.076626,
     "end_time": "2021-03-05T12:33:33.367952",
     "exception": false,
     "start_time": "2021-03-05T12:33:22.291326",
     "status": "completed"
    },
    "tags": []
   },
   "outputs": [
    {
     "data": {
      "image/png": "[encoded data removed]",
      "text/plain": [
       "<Figure size 1296x2016 with 11 Axes>"
      ]
     },
     "metadata": {
      "needs_background": "light"
     },
     "output_type": "display_data"
    }
   ],
   "source": [
    "#hide_input\n",
    "df = dft_ct_new_cases.copy()\n",
    "df.loc['Total'] = df.sum()\n",
    "n = 5\n",
    "ax = []\n",
    "fig = plt.figure(figsize = (18,28))\n",
    "gs = fig.add_gridspec(n+2, 5)\n",
    "# gs = fig.add_gridspec(2, 3)\n",
    "ax1 = fig.add_subplot(gs[0, :])\n",
    "ef = df.loc['Total'].rename_axis('date').reset_index()\n",
    "ef['date'] = ef['date'].astype('datetime64[ns]')\n",
    "ax1.bar(ef.date,ef.Total,alpha=0.3,color='#007acc')\n",
    "ax1.plot(ef.date,ef.Total , marker=\"o\", color='#007acc')\n",
    "ax1.xaxis.set_major_locator(mdates.WeekdayLocator())\n",
    "ax1.xaxis.set_major_formatter(mdates.DateFormatter('%b %d'))\n",
    "ax1.text(0.02, 0.5,'India daily case count', transform = ax1.transAxes, fontsize=25);\n",
    "ax1.spines['right'].set_visible(False)\n",
    "ax1.spines['top'].set_visible(False)\n",
    "\n",
    "ax2 = fig.add_subplot(gs[1,0])\n",
    "ef = df.loc['Maharashtra'].rename_axis('date').reset_index()\n",
    "ef['date'] = ef['date'].astype('datetime64[ns]')\n",
    "\n",
    "ax2.bar(ef.date, ef.Maharashtra,color = '#007acc',alpha=0.5)\n",
    "ax2.xaxis.set_major_locator(mdates.WeekdayLocator())\n",
    "ax2.xaxis.set_major_formatter(mdates.DateFormatter('%b %d'))\n",
    "ax2.set_xticks(ax2.get_xticks()[::3])\n",
    "maxyval = ef.Maharashtra.max()\n",
    "ax2.set_ylim([0,maxyval])\n",
    "ax2.text(0.05, 0.9,'Maharashtra', transform = ax2.transAxes, fontsize=20);\n",
    "ax2.spines['right'].set_visible(False)\n",
    "ax2.spines['top'].set_visible(False)\n",
    "\n",
    "\n",
    "ax3 = fig.add_subplot(gs[1,1])\n",
    "ef = df.loc['Tamil Nadu'].rename_axis('date').reset_index()\n",
    "ef['date'] = ef['date'].astype('datetime64[ns]')\n",
    "ax3.bar(ef.date, ef['Tamil Nadu'],color = '#007acc',alpha=0.5,)\n",
    "ax3.xaxis.set_major_locator(mdates.WeekdayLocator())\n",
    "ax3.xaxis.set_major_formatter(mdates.DateFormatter('%b %d'))\n",
    "ax3.set_xticks(ax3.get_xticks()[::3])\n",
    "ax3.text(0.05, 0.9,'Tamil Nadu', transform = ax3.transAxes, fontsize=20);\n",
    "ax3.spines['right'].set_visible(False)\n",
    "ax3.spines['top'].set_visible(False)\n",
    "\n",
    "ax5 = fig.add_subplot(gs[1,3])\n",
    "ef = df.loc['Telangana'].rename_axis('date').reset_index()\n",
    "ef['date'] = ef['date'].astype('datetime64[ns]')\n",
    "ax5.bar(ef.date, ef['Telangana'],color = '#007acc',alpha=0.5,)\n",
    "ax5.xaxis.set_major_locator(mdates.WeekdayLocator())\n",
    "ax5.xaxis.set_major_formatter(mdates.DateFormatter('%b %d'))\n",
    "ax5.set_xticks(ax5.get_xticks()[::3])\n",
    "ax5.text(0.05, 0.9,'Telangana', transform = ax5.transAxes, fontsize=20);\n",
    "ax5.spines['right'].set_visible(False)\n",
    "ax5.spines['top'].set_visible(False)\n",
    "\n",
    "ax6 = fig.add_subplot(gs[1,4])\n",
    "ef = df.loc['Andhra Pradesh'].rename_axis('date').reset_index()\n",
    "ef['date'] = ef['date'].astype('datetime64[ns]')\n",
    "ax6.bar(ef.date, ef['Andhra Pradesh'],color = '#007acc',alpha=0.5,)\n",
    "ax6.xaxis.set_major_locator(mdates.WeekdayLocator())\n",
    "ax6.xaxis.set_major_formatter(mdates.DateFormatter('%b %d'))\n",
    "ax6.set_xticks(ax6.get_xticks()[::3])\n",
    "ax6.text(0.05, 1,'Andhra Pradesh', transform = ax6.transAxes, fontsize=20);\n",
    "ax6.spines['right'].set_visible(False)\n",
    "ax6.spines['top'].set_visible(False)\n",
    "\n",
    "ax4 = fig.add_subplot(gs[1,2])\n",
    "ef = df.loc['Delhi'].rename_axis('date').reset_index()\n",
    "ef['date'] = ef['date'].astype('datetime64[ns]')\n",
    "ax4.bar(ef.date, ef.Delhi,color = '#007acc',alpha=0.5)\n",
    "ax4.set_xticks([])\n",
    "ax4.xaxis.set_major_locator(mdates.WeekdayLocator())\n",
    "ax4.xaxis.set_major_formatter(mdates.DateFormatter('%b %d'))\n",
    "ax4.set_xticks(ax4.get_xticks()[::3])\n",
    "ax4.spines['right'].set_visible(False)\n",
    "ax4.spines['top'].set_visible(False)\n",
    "\n",
    "ax4.text(0.05, 1,'Delhi', transform = ax4.transAxes, fontsize=20)\n",
    "\n",
    "for i in range(n):\n",
    "    \n",
    "    ax.append(fig.add_subplot(gs[i+2,:]))\n",
    "    ef = df.iloc[i+3].rename_axis('date').reset_index()\n",
    "    ef['date'] = ef['date'].astype('datetime64[ns]')\n",
    "    ax[i].bar(ef.date,ef.iloc[:,-1],color = '#007acc',alpha=0.3)\n",
    "    ax[i].plot(ef.date,ef.iloc[:,-1],marker='o',color='#007acc')\n",
    "    ax[i].text(0.02,0.5,f'{ef.columns.values[-1]}',transform = ax[i].transAxes, fontsize = 20);\n",
    "    ax[i].xaxis.set_major_locator(mdates.WeekdayLocator())\n",
    "    ax[i].xaxis.set_major_formatter(mdates.DateFormatter('%b %d'))\n",
    "    ax[i].set_ylim([0,7000])\n",
    "    ax[i].spines['right'].set_visible(False)\n",
    "    ax[i].spines['top'].set_visible(False)\n",
    "plt.tight_layout()\n"
   ]
  },
  {
   "cell_type": "code",
   "execution_count": 20,
   "id": "dress-forge",
   "metadata": {
    "execution": {
     "iopub.execute_input": "2021-03-05T12:33:33.430611Z",
     "iopub.status.busy": "2021-03-05T12:33:33.429836Z",
     "iopub.status.idle": "2021-03-05T12:33:33.434324Z",
     "shell.execute_reply": "2021-03-05T12:33:33.434906Z"
    },
    "papermill": {
     "duration": 0.041326,
     "end_time": "2021-03-05T12:33:33.435116",
     "exception": false,
     "start_time": "2021-03-05T12:33:33.393790",
     "status": "completed"
    },
    "tags": []
   },
   "outputs": [
    {
     "name": "stdout",
     "output_type": "stream",
     "text": [
      "                                   states    Cases  Deaths   PCases  PDeaths  Cases (+)  Deaths (+)  Fatality Rate\n",
      "                              Maharashtra  2188183   52340  2188183    52340          0           0           2.39\n",
      "                                   Kerala  1069661    4256  1069661     4256          0           0           0.40\n",
      "                                Karnataka   953136   12350   953136    12350          0           0           1.30\n",
      "                           Andhra Pradesh   890317    7171   890317     7171          0           0           0.81\n",
      "                               Tamil Nadu   853449   12508   853449    12508          0           0           1.47\n",
      "                                    Delhi   640182   10915   640182    10915          0           0           1.70\n",
      "                            Uttar Pradesh   603907    8729   603907     8729          0           0           1.45\n",
      "                              West Bengal   575921   10273   575921    10273          0           0           1.78\n",
      "                                   Odisha   337620    1970   337529     1970         91           0           0.58\n",
      "                                Rajasthan   320928    2788   320928     2788          0           0           0.87\n",
      "                             Chhattisgarh   313534    3851   313534     3851          0           0           1.23\n",
      "                                Telangana   299572    1639   299406     1637        166           2           0.55\n",
      "                                  Gujarat   271725    4412   271725     4412          0           0           1.62\n",
      "                                  Haryana   271659    3052   271659     3052          0           0           1.12\n",
      "                           Madhya Pradesh   263290    3866   263290     3866          0           0           1.47\n",
      "                                    Bihar   262668    1543   262668     1543          0           0           0.59\n",
      "                                    Assam   217613    1093   217613     1093          0           0           0.50\n",
      "                                   Punjab   185381    5887   185381     5887          0           0           3.18\n",
      "                        Jammu and Kashmir   126772    1959   126772     1959          0           0           1.55\n",
      "                                Jharkhand   120129    1091   120129     1091          0           0           0.91\n",
      "                              Uttarakhand    97234    1692    97234     1692          0           0           1.74\n",
      "                         Himachal Pradesh    58942     983    58942      983          0           0           1.67\n",
      "                                      Goa    55291     799    55212      798         79           1           1.45\n",
      "                               Puducherry    39794     669    39794      669          0           0           1.68\n",
      "                                  Tripura    33419     388    33419      388          0           0           1.16\n",
      "                                  Manipur    29282     373    29282      373          0           0           1.27\n",
      "                               Chandigarh    22040     355    22040      355          0           0           1.61\n",
      "                        Arunachal Pradesh    16838      56    16838       56          0           0           0.33\n",
      "                                Meghalaya    13968     148    13966      148          2           0           1.06\n",
      "                                 Nagaland    12210      91    12210       91          0           0           0.75\n",
      "                                   Ladakh     9824     130     9824      130          0           0           1.32\n",
      "                                   Sikkim     6154     135     6154      135          0           0           2.19\n",
      "              Andaman and Nicobar Islands     5024      62     5024       62          0           0           1.23\n",
      "                                  Mizoram     4427      10     4427       10          0           0           0.23\n",
      " Dadra and Nagar Haveli and Daman and Diu     3390       2     3390        2          0           0           0.06\n",
      "                              Lakshadweep      426       1      426        1          0           0           0.23\n"
     ]
    }
   ],
   "source": [
    "#hide_input\n",
    "print(df_table.to_string(index=False))"
   ]
  },
  {
   "cell_type": "code",
   "execution_count": null,
   "id": "quantitative-legend",
   "metadata": {
    "papermill": {
     "duration": 0.04071,
     "end_time": "2021-03-05T12:33:33.504023",
     "exception": false,
     "start_time": "2021-03-05T12:33:33.463313",
     "status": "completed"
    },
    "tags": []
   },
   "outputs": [],
   "source": []
  },
  {
   "cell_type": "code",
   "execution_count": null,
   "id": "distant-acoustic",
   "metadata": {
    "papermill": {
     "duration": 0.025634,
     "end_time": "2021-03-05T12:33:33.556350",
     "exception": false,
     "start_time": "2021-03-05T12:33:33.530716",
     "status": "completed"
    },
    "tags": []
   },
   "outputs": [],
   "source": []
  }
 ],
 "metadata": {
  "kernelspec": {
   "display_name": "Python 3",
   "language": "python",
   "name": "python3"
  },
  "language_info": {
   "codemirror_mode": {
    "name": "ipython",
    "version": 3
   },
   "file_extension": ".py",
   "mimetype": "text/x-python",
   "name": "python",
   "nbconvert_exporter": "python",
   "pygments_lexer": "ipython3",
   "version": "3.6.13"
  },
  "papermill": {
   "duration": 25.379806,
   "end_time": "2021-03-05T12:33:34.910135",
   "environment_variables": {},
   "exception": null,
   "input_path": "latest.ipynb",
   "output_path": "latest.ipynb",
   "parameters": {},
   "start_time": "2021-03-05T12:33:09.530329",
   "version": "2.1.2"
  }
 },
 "nbformat": 4,
 "nbformat_minor": 5
}