{
 "cells": [
  {
   "cell_type": "markdown",
   "id": "colored-stack",
   "metadata": {
    "papermill": {
     "duration": 0.022626,
     "end_time": "2021-04-03T13:14:31.989730",
     "exception": false,
     "start_time": "2021-04-03T13:14:31.967104",
     "status": "completed"
    },
    "tags": []
   },
   "source": [
    "# Latest COVID-19 India Matplotlib Overview"
   ]
  },
  {
   "cell_type": "code",
   "execution_count": 1,
   "id": "light-proportion",
   "metadata": {
    "execution": {
     "iopub.execute_input": "2021-04-03T13:14:32.040119Z",
     "iopub.status.busy": "2021-04-03T13:14:32.039489Z",
     "iopub.status.idle": "2021-04-03T13:14:32.647655Z",
     "shell.execute_reply": "2021-04-03T13:14:32.646509Z"
    },
    "papermill": {
     "duration": 0.639519,
     "end_time": "2021-04-03T13:14:32.647816",
     "exception": false,
     "start_time": "2021-04-03T13:14:32.008297",
     "status": "completed"
    },
    "tags": []
   },
   "outputs": [],
   "source": [
    "#hide\n",
    "import pandas as pd\n",
    "import numpy as np\n",
    "import requests\n",
    "import json\n",
    "import matplotlib.pyplot as plt\n",
    "import matplotlib.dates as mdates\n",
    "import matplotlib as mpl\n",
    "from IPython.core.display import display,HTML\n",
    "%matplotlib inline\n",
    "from datetime import date"
   ]
  },
  {
   "cell_type": "code",
   "execution_count": 2,
   "id": "greenhouse-shooting",
   "metadata": {
    "execution": {
     "iopub.execute_input": "2021-04-03T13:14:32.692455Z",
     "iopub.status.busy": "2021-04-03T13:14:32.691267Z",
     "iopub.status.idle": "2021-04-03T13:14:33.057228Z",
     "shell.execute_reply": "2021-04-03T13:14:33.056655Z"
    },
    "papermill": {
     "duration": 0.391368,
     "end_time": "2021-04-03T13:14:33.057362",
     "exception": false,
     "start_time": "2021-04-03T13:14:32.665994",
     "status": "completed"
    },
    "tags": []
   },
   "outputs": [],
   "source": [
    "#hide\n",
    "df  = pd.read_csv('https://api.covid19india.org/csv/latest/states.csv')\n",
    "df = df[['Date','State','Confirmed','Deceased']]\n",
    "df = df.rename(columns={'Confirmed':'Cases', \"Deceased\":'Deaths'})\n",
    "df_cases = df[[\"Date\",'State','Cases']]\n",
    "df_deaths = df[['Date','State','Deaths']]\n",
    "df_cases1 = df_cases.groupby('Date')\n",
    "df_deaths1= df_deaths.groupby('Date')"
   ]
  },
  {
   "cell_type": "code",
   "execution_count": 3,
   "id": "hybrid-cathedral",
   "metadata": {
    "execution": {
     "iopub.execute_input": "2021-04-03T13:14:33.101986Z",
     "iopub.status.busy": "2021-04-03T13:14:33.101376Z",
     "iopub.status.idle": "2021-04-03T13:14:33.122783Z",
     "shell.execute_reply": "2021-04-03T13:14:33.122145Z"
    },
    "papermill": {
     "duration": 0.04599,
     "end_time": "2021-04-03T13:14:33.122945",
     "exception": false,
     "start_time": "2021-04-03T13:14:33.076955",
     "status": "completed"
    },
    "tags": []
   },
   "outputs": [],
   "source": [
    "#hide\n",
    "df_snap = pd.read_csv('data/SnapshotCases-28-July.csv')\n",
    "arr_states = df_snap['states'].unique()\n",
    "arr_dates = df['Date'].unique()\n",
    "df_snap = df_snap.set_index('states')"
   ]
  },
  {
   "cell_type": "code",
   "execution_count": 4,
   "id": "interior-belfast",
   "metadata": {
    "execution": {
     "iopub.execute_input": "2021-04-03T13:14:33.169358Z",
     "iopub.status.busy": "2021-04-03T13:14:33.167418Z",
     "iopub.status.idle": "2021-04-03T13:14:33.171531Z",
     "shell.execute_reply": "2021-04-03T13:14:33.172090Z"
    },
    "papermill": {
     "duration": 0.030745,
     "end_time": "2021-04-03T13:14:33.172229",
     "exception": false,
     "start_time": "2021-04-03T13:14:33.141484",
     "status": "completed"
    },
    "tags": []
   },
   "outputs": [
    {
     "data": {
      "text/plain": [
       "array(['Andaman and Nicobar Islands', 'Andhra Pradesh',\n",
       "       'Arunachal Pradesh', 'Assam', 'Bihar', 'Chandigarh',\n",
       "       'Dadra and Nagar Haveli and Daman and Diu', 'Delhi', 'Goa',\n",
       "       'Gujarat', 'Haryana', 'Himachal Pradesh', 'Jammu and Kashmir',\n",
       "       'Jharkhand', 'Karnataka', 'Kerala', 'Lakshadweep',\n",
       "       'Madhya Pradesh', 'Maharashtra', 'Manipur', 'Meghalaya', 'Mizoram',\n",
       "       'Nagaland', 'Odisha', 'Puducherry', 'Punjab', 'Rajasthan',\n",
       "       'Sikkim', 'Tamil Nadu', 'Telangana', 'Tripura', 'Uttar Pradesh',\n",
       "       'West Bengal', 'Chhattisgarh', 'Ladakh', 'Uttarakhand'],\n",
       "      dtype=object)"
      ]
     },
     "execution_count": 4,
     "metadata": {},
     "output_type": "execute_result"
    }
   ],
   "source": [
    "#hide\n",
    "arr_states[-9] = 'Puducherry'\n",
    "arr_states[-10] = 'Odisha'\n",
    "arr_states[6] = 'Dadra and Nagar Haveli and Daman and Diu'\n",
    "arr_states = np.append(arr_states,np.array(['Chhattisgarh','Ladakh','Uttarakhand']))\n",
    "arr_states"
   ]
  },
  {
   "cell_type": "code",
   "execution_count": 5,
   "id": "behind-manner",
   "metadata": {
    "execution": {
     "iopub.execute_input": "2021-04-03T13:14:33.223842Z",
     "iopub.status.busy": "2021-04-03T13:14:33.223193Z",
     "iopub.status.idle": "2021-04-03T13:14:33.232837Z",
     "shell.execute_reply": "2021-04-03T13:14:33.232331Z"
    },
    "papermill": {
     "duration": 0.04249,
     "end_time": "2021-04-03T13:14:33.232960",
     "exception": false,
     "start_time": "2021-04-03T13:14:33.190470",
     "status": "completed"
    },
    "tags": []
   },
   "outputs": [],
   "source": [
    "#hide\n",
    "dates = []\n",
    "for i in arr_dates:\n",
    "    if i>='2020-07-01':\n",
    "        dates.append(i)\n",
    "dict = {'states':dates}\n",
    "for i in arr_states:\n",
    "    dict[i] = [0]*len(dates)\n",
    "dft_cases = pd.DataFrame(dict)\n",
    "dft_deaths = pd.DataFrame(dict)\n"
   ]
  },
  {
   "cell_type": "code",
   "execution_count": 6,
   "id": "simplified-peter",
   "metadata": {
    "execution": {
     "iopub.execute_input": "2021-04-03T13:14:33.275208Z",
     "iopub.status.busy": "2021-04-03T13:14:33.274608Z",
     "iopub.status.idle": "2021-04-03T13:14:37.399933Z",
     "shell.execute_reply": "2021-04-03T13:14:37.398939Z"
    },
    "papermill": {
     "duration": 4.14913,
     "end_time": "2021-04-03T13:14:37.400079",
     "exception": false,
     "start_time": "2021-04-03T13:14:33.250949",
     "status": "completed"
    },
    "tags": []
   },
   "outputs": [],
   "source": [
    "#hide\n",
    "for i in range(len(dates)):\n",
    "    df1_deaths = df_deaths1.get_group(dates[i])\n",
    "    for j in range(len(df1_deaths.index)):\n",
    "        if df1_deaths.iloc[j,1] in arr_states:\n",
    "            dft_deaths.loc[i,df1_deaths.iloc[j,1]] = df1_deaths.iloc[j,2]\n",
    "dft_deaths = dft_deaths.set_index('states')"
   ]
  },
  {
   "cell_type": "code",
   "execution_count": 7,
   "id": "geological-welding",
   "metadata": {
    "execution": {
     "iopub.execute_input": "2021-04-03T13:14:37.444180Z",
     "iopub.status.busy": "2021-04-03T13:14:37.443109Z",
     "iopub.status.idle": "2021-04-03T13:14:41.573382Z",
     "shell.execute_reply": "2021-04-03T13:14:41.572311Z"
    },
    "papermill": {
     "duration": 4.155123,
     "end_time": "2021-04-03T13:14:41.573526",
     "exception": false,
     "start_time": "2021-04-03T13:14:37.418403",
     "status": "completed"
    },
    "tags": []
   },
   "outputs": [],
   "source": [
    "#hide\n",
    "for i in range(len(dates)):\n",
    "    df1_cases = df_cases1.get_group(dates[i])\n",
    "    for j in range(len(df1_cases.index)):\n",
    "        if df1_cases.iloc[j,1] in arr_states:\n",
    "            dft_cases.loc[i,df1_cases.iloc[j,1]] = df1_cases.iloc[j,2]\n",
    "dft_cases = dft_cases.set_index('states')"
   ]
  },
  {
   "cell_type": "code",
   "execution_count": 8,
   "id": "binary-ratio",
   "metadata": {
    "execution": {
     "iopub.execute_input": "2021-04-03T13:14:41.615945Z",
     "iopub.status.busy": "2021-04-03T13:14:41.615316Z",
     "iopub.status.idle": "2021-04-03T13:14:41.617605Z",
     "shell.execute_reply": "2021-04-03T13:14:41.618091Z"
    },
    "papermill": {
     "duration": 0.026351,
     "end_time": "2021-04-03T13:14:41.618229",
     "exception": false,
     "start_time": "2021-04-03T13:14:41.591878",
     "status": "completed"
    },
    "tags": []
   },
   "outputs": [],
   "source": [
    "#hide\n",
    "dft_cases = dft_cases.T\n",
    "dft_deaths = dft_deaths.T\n",
    "dt_today = dates[-1]\n",
    "dt_yday = dates[-2]"
   ]
  },
  {
   "cell_type": "code",
   "execution_count": 9,
   "id": "boolean-calculator",
   "metadata": {
    "execution": {
     "iopub.execute_input": "2021-04-03T13:14:41.660635Z",
     "iopub.status.busy": "2021-04-03T13:14:41.660033Z",
     "iopub.status.idle": "2021-04-03T13:14:41.666024Z",
     "shell.execute_reply": "2021-04-03T13:14:41.665514Z"
    },
    "papermill": {
     "duration": 0.029907,
     "end_time": "2021-04-03T13:14:41.666146",
     "exception": false,
     "start_time": "2021-04-03T13:14:41.636239",
     "status": "completed"
    },
    "tags": []
   },
   "outputs": [],
   "source": [
    "#hide\n",
    "dft_cases = dft_cases.reset_index()\n",
    "dft_deaths = dft_deaths.reset_index()\n",
    "dft_cases = dft_cases.rename(columns = {'index':'state'})\n",
    "dft_deaths = dft_deaths.rename(columns = {'index':'state'})"
   ]
  },
  {
   "cell_type": "code",
   "execution_count": 10,
   "id": "invisible-johnston",
   "metadata": {
    "execution": {
     "iopub.execute_input": "2021-04-03T13:14:41.713077Z",
     "iopub.status.busy": "2021-04-03T13:14:41.712480Z",
     "iopub.status.idle": "2021-04-03T13:14:41.715127Z",
     "shell.execute_reply": "2021-04-03T13:14:41.714648Z"
    },
    "papermill": {
     "duration": 0.031126,
     "end_time": "2021-04-03T13:14:41.715247",
     "exception": false,
     "start_time": "2021-04-03T13:14:41.684121",
     "status": "completed"
    },
    "tags": []
   },
   "outputs": [],
   "source": [
    "#hide\n",
    "dfc_cases = dft_cases.groupby('state')[dt_today].sum()\n",
    "dfc_deaths = dft_deaths.groupby('state')[dt_today].sum()\n",
    "dfp_cases = dft_cases.groupby('state')[dt_yday].sum()\n",
    "dfp_deaths = dft_deaths.groupby('state')[dt_yday].sum()"
   ]
  },
  {
   "cell_type": "code",
   "execution_count": 11,
   "id": "measured-great",
   "metadata": {
    "execution": {
     "iopub.execute_input": "2021-04-03T13:14:41.765999Z",
     "iopub.status.busy": "2021-04-03T13:14:41.765395Z",
     "iopub.status.idle": "2021-04-03T13:14:41.772647Z",
     "shell.execute_reply": "2021-04-03T13:14:41.772132Z"
    },
    "papermill": {
     "duration": 0.039373,
     "end_time": "2021-04-03T13:14:41.772767",
     "exception": false,
     "start_time": "2021-04-03T13:14:41.733394",
     "status": "completed"
    },
    "tags": []
   },
   "outputs": [
    {
     "data": {
      "text/html": [
       "<div>\n",
       "<style scoped>\n",
       "    .dataframe tbody tr th:only-of-type {\n",
       "        vertical-align: middle;\n",
       "    }\n",
       "\n",
       "    .dataframe tbody tr th {\n",
       "        vertical-align: top;\n",
       "    }\n",
       "\n",
       "    .dataframe thead th {\n",
       "        text-align: right;\n",
       "    }\n",
       "</style>\n",
       "<table border=\"1\" class=\"dataframe\">\n",
       "  <thead>\n",
       "    <tr style=\"text-align: right;\">\n",
       "      <th></th>\n",
       "      <th>states</th>\n",
       "      <th>Cases</th>\n",
       "      <th>Deaths</th>\n",
       "      <th>PCases</th>\n",
       "      <th>PDeaths</th>\n",
       "    </tr>\n",
       "  </thead>\n",
       "  <tbody>\n",
       "    <tr>\n",
       "      <th>0</th>\n",
       "      <td>Maharashtra</td>\n",
       "      <td>2904076</td>\n",
       "      <td>55379</td>\n",
       "      <td>2904076</td>\n",
       "      <td>55379</td>\n",
       "    </tr>\n",
       "    <tr>\n",
       "      <th>1</th>\n",
       "      <td>Kerala</td>\n",
       "      <td>1129891</td>\n",
       "      <td>4647</td>\n",
       "      <td>1129891</td>\n",
       "      <td>4647</td>\n",
       "    </tr>\n",
       "    <tr>\n",
       "      <th>2</th>\n",
       "      <td>Karnataka</td>\n",
       "      <td>1006229</td>\n",
       "      <td>12591</td>\n",
       "      <td>1006229</td>\n",
       "      <td>12591</td>\n",
       "    </tr>\n",
       "    <tr>\n",
       "      <th>3</th>\n",
       "      <td>Andhra Pradesh</td>\n",
       "      <td>904548</td>\n",
       "      <td>7225</td>\n",
       "      <td>904548</td>\n",
       "      <td>7225</td>\n",
       "    </tr>\n",
       "    <tr>\n",
       "      <th>4</th>\n",
       "      <td>Tamil Nadu</td>\n",
       "      <td>892780</td>\n",
       "      <td>12750</td>\n",
       "      <td>892780</td>\n",
       "      <td>12750</td>\n",
       "    </tr>\n",
       "  </tbody>\n",
       "</table>\n",
       "</div>"
      ],
      "text/plain": [
       "           states    Cases  Deaths   PCases  PDeaths\n",
       "0     Maharashtra  2904076   55379  2904076    55379\n",
       "1          Kerala  1129891    4647  1129891     4647\n",
       "2       Karnataka  1006229   12591  1006229    12591\n",
       "3  Andhra Pradesh   904548    7225   904548     7225\n",
       "4      Tamil Nadu   892780   12750   892780    12750"
      ]
     },
     "execution_count": 11,
     "metadata": {},
     "output_type": "execute_result"
    }
   ],
   "source": [
    "#hide\n",
    "df_table = pd.DataFrame({'states': dfc_cases.index, 'Cases': dfc_cases.values, 'Deaths': dfc_deaths.values, 'PCases': dfp_cases.values, 'PDeaths': dfp_deaths.values}).set_index('states')\n",
    "df_table = df_table.sort_values(by = ['Cases','Deaths'], ascending = [False, False])\n",
    "df_table = df_table.reset_index()\n",
    "df_table.head()"
   ]
  },
  {
   "cell_type": "code",
   "execution_count": 12,
   "id": "found-montreal",
   "metadata": {
    "execution": {
     "iopub.execute_input": "2021-04-03T13:14:41.816982Z",
     "iopub.status.busy": "2021-04-03T13:14:41.816385Z",
     "iopub.status.idle": "2021-04-03T13:14:41.826874Z",
     "shell.execute_reply": "2021-04-03T13:14:41.827412Z"
    },
    "papermill": {
     "duration": 0.0363,
     "end_time": "2021-04-03T13:14:41.827551",
     "exception": false,
     "start_time": "2021-04-03T13:14:41.791251",
     "status": "completed"
    },
    "tags": []
   },
   "outputs": [],
   "source": [
    "#hide\n",
    "for c in 'Cases, Deaths'.split(', '):\n",
    "    df_table[f'{c} (+)'] = (df_table[c] - df_table[f'P{c}']).clip(0)\n",
    "df_table['Fatality Rate'] = (100* df_table['Deaths']/ df_table['Cases']).round(2)"
   ]
  },
  {
   "cell_type": "code",
   "execution_count": 13,
   "id": "minus-savage",
   "metadata": {
    "execution": {
     "iopub.execute_input": "2021-04-03T13:14:41.875801Z",
     "iopub.status.busy": "2021-04-03T13:14:41.875151Z",
     "iopub.status.idle": "2021-04-03T13:14:41.878484Z",
     "shell.execute_reply": "2021-04-03T13:14:41.877977Z"
    },
    "papermill": {
     "duration": 0.03238,
     "end_time": "2021-04-03T13:14:41.878607",
     "exception": false,
     "start_time": "2021-04-03T13:14:41.846227",
     "status": "completed"
    },
    "tags": []
   },
   "outputs": [
    {
     "data": {
      "text/html": [
       "<div>\n",
       "<style scoped>\n",
       "    .dataframe tbody tr th:only-of-type {\n",
       "        vertical-align: middle;\n",
       "    }\n",
       "\n",
       "    .dataframe tbody tr th {\n",
       "        vertical-align: top;\n",
       "    }\n",
       "\n",
       "    .dataframe thead th {\n",
       "        text-align: right;\n",
       "    }\n",
       "</style>\n",
       "<table border=\"1\" class=\"dataframe\">\n",
       "  <thead>\n",
       "    <tr style=\"text-align: right;\">\n",
       "      <th></th>\n",
       "      <th>states</th>\n",
       "      <th>Cases</th>\n",
       "      <th>Deaths</th>\n",
       "      <th>PCases</th>\n",
       "      <th>PDeaths</th>\n",
       "      <th>Cases (+)</th>\n",
       "      <th>Deaths (+)</th>\n",
       "      <th>Fatality Rate</th>\n",
       "    </tr>\n",
       "  </thead>\n",
       "  <tbody>\n",
       "    <tr>\n",
       "      <th>0</th>\n",
       "      <td>Maharashtra</td>\n",
       "      <td>2904076</td>\n",
       "      <td>55379</td>\n",
       "      <td>2904076</td>\n",
       "      <td>55379</td>\n",
       "      <td>0</td>\n",
       "      <td>0</td>\n",
       "      <td>1.91</td>\n",
       "    </tr>\n",
       "    <tr>\n",
       "      <th>1</th>\n",
       "      <td>Kerala</td>\n",
       "      <td>1129891</td>\n",
       "      <td>4647</td>\n",
       "      <td>1129891</td>\n",
       "      <td>4647</td>\n",
       "      <td>0</td>\n",
       "      <td>0</td>\n",
       "      <td>0.41</td>\n",
       "    </tr>\n",
       "    <tr>\n",
       "      <th>2</th>\n",
       "      <td>Karnataka</td>\n",
       "      <td>1006229</td>\n",
       "      <td>12591</td>\n",
       "      <td>1006229</td>\n",
       "      <td>12591</td>\n",
       "      <td>0</td>\n",
       "      <td>0</td>\n",
       "      <td>1.25</td>\n",
       "    </tr>\n",
       "    <tr>\n",
       "      <th>3</th>\n",
       "      <td>Andhra Pradesh</td>\n",
       "      <td>904548</td>\n",
       "      <td>7225</td>\n",
       "      <td>904548</td>\n",
       "      <td>7225</td>\n",
       "      <td>0</td>\n",
       "      <td>0</td>\n",
       "      <td>0.80</td>\n",
       "    </tr>\n",
       "    <tr>\n",
       "      <th>4</th>\n",
       "      <td>Tamil Nadu</td>\n",
       "      <td>892780</td>\n",
       "      <td>12750</td>\n",
       "      <td>892780</td>\n",
       "      <td>12750</td>\n",
       "      <td>0</td>\n",
       "      <td>0</td>\n",
       "      <td>1.43</td>\n",
       "    </tr>\n",
       "  </tbody>\n",
       "</table>\n",
       "</div>"
      ],
      "text/plain": [
       "           states    Cases  Deaths   PCases  PDeaths  Cases (+)  Deaths (+)  \\\n",
       "0     Maharashtra  2904076   55379  2904076    55379          0           0   \n",
       "1          Kerala  1129891    4647  1129891     4647          0           0   \n",
       "2       Karnataka  1006229   12591  1006229    12591          0           0   \n",
       "3  Andhra Pradesh   904548    7225   904548     7225          0           0   \n",
       "4      Tamil Nadu   892780   12750   892780    12750          0           0   \n",
       "\n",
       "   Fatality Rate  \n",
       "0           1.91  \n",
       "1           0.41  \n",
       "2           1.25  \n",
       "3           0.80  \n",
       "4           1.43  "
      ]
     },
     "execution_count": 13,
     "metadata": {},
     "output_type": "execute_result"
    }
   ],
   "source": [
    "#hide\n",
    "df_table.head()"
   ]
  },
  {
   "cell_type": "code",
   "execution_count": 14,
   "id": "false-peter",
   "metadata": {
    "execution": {
     "iopub.execute_input": "2021-04-03T13:14:41.923557Z",
     "iopub.status.busy": "2021-04-03T13:14:41.922929Z",
     "iopub.status.idle": "2021-04-03T13:14:41.939747Z",
     "shell.execute_reply": "2021-04-03T13:14:41.939214Z"
    },
    "papermill": {
     "duration": 0.042387,
     "end_time": "2021-04-03T13:14:41.939869",
     "exception": false,
     "start_time": "2021-04-03T13:14:41.897482",
     "status": "completed"
    },
    "tags": []
   },
   "outputs": [
    {
     "data": {
      "text/plain": [
       "{'updated': '2021-04-03',\n",
       " 'since': '2021-04-02',\n",
       " 'Cases': 12396450,\n",
       " 'PCases': 12391133,\n",
       " 'Deaths': 164157,\n",
       " 'PDeaths': 164141,\n",
       " 'Cases (+)': 5317,\n",
       " 'Deaths (+)': 16}"
      ]
     },
     "execution_count": 14,
     "metadata": {},
     "output_type": "execute_result"
    }
   ],
   "source": [
    "#hide\n",
    "summary = {'updated':dates[-1], 'since':dates[-2]}\n",
    "list_names = ['Cases', 'PCases', 'Deaths', 'PDeaths', 'Cases (+)', 'Deaths (+)']\n",
    "for name in list_names:\n",
    "    summary[name] = df_table.sum()[name]\n",
    "summary"
   ]
  },
  {
   "cell_type": "code",
   "execution_count": 15,
   "id": "packed-viewer",
   "metadata": {
    "execution": {
     "iopub.execute_input": "2021-04-03T13:14:41.984450Z",
     "iopub.status.busy": "2021-04-03T13:14:41.983830Z",
     "iopub.status.idle": "2021-04-03T13:14:41.985623Z",
     "shell.execute_reply": "2021-04-03T13:14:41.986102Z"
    },
    "papermill": {
     "duration": 0.027026,
     "end_time": "2021-04-03T13:14:41.986237",
     "exception": false,
     "start_time": "2021-04-03T13:14:41.959211",
     "status": "completed"
    },
    "tags": []
   },
   "outputs": [],
   "source": [
    "#hide\n",
    "overview = '''\n",
    "<!-- #######  HTML!! #########-->\n",
    "<h1 style=\"color: #5e9ca0; text-align: center;\">India</h1>\n",
    "<p style=\"text-align: center;\">Last update: <strong>{update}</strong></p>\n",
    "<p style=\"text-align: center;\">Confirmed cases:</p>\n",
    "<p style=\"text-align: center;font-size:24px;\">{cases} (<span style=\"color: #ff0000;\">+{new}</span>)</p>\n",
    "<p style=\"text-align: center;\">Confirmed deaths:</p>\n",
    "<p style=\"text-align: center;font-size:24px;\">{deaths} (<span style=\"color: #ff0000;\">+{dnew}</span>)</p>\n",
    "'''"
   ]
  },
  {
   "cell_type": "code",
   "execution_count": 16,
   "id": "phantom-lover",
   "metadata": {
    "execution": {
     "iopub.execute_input": "2021-04-03T13:14:42.032964Z",
     "iopub.status.busy": "2021-04-03T13:14:42.032352Z",
     "iopub.status.idle": "2021-04-03T13:14:42.036660Z",
     "shell.execute_reply": "2021-04-03T13:14:42.036155Z"
    },
    "papermill": {
     "duration": 0.031417,
     "end_time": "2021-04-03T13:14:42.036787",
     "exception": false,
     "start_time": "2021-04-03T13:14:42.005370",
     "status": "completed"
    },
    "tags": []
   },
   "outputs": [
    {
     "data": {
      "text/html": [
       "\n",
       "<!-- #######  HTML!! #########-->\n",
       "<h1 style=\"color: #5e9ca0; text-align: center;\">India</h1>\n",
       "<p style=\"text-align: center;\">Last update: <strong>2021-04-03</strong></p>\n",
       "<p style=\"text-align: center;\">Confirmed cases:</p>\n",
       "<p style=\"text-align: center;font-size:24px;\">12396450 (<span style=\"color: #ff0000;\">+5317</span>)</p>\n",
       "<p style=\"text-align: center;\">Confirmed deaths:</p>\n",
       "<p style=\"text-align: center;font-size:24px;\">164157 (<span style=\"color: #ff0000;\">+16</span>)</p>\n"
      ],
      "text/plain": [
       "<IPython.core.display.HTML object>"
      ]
     },
     "metadata": {},
     "output_type": "display_data"
    }
   ],
   "source": [
    "#hide_input\n",
    "update = summary['updated']\n",
    "cases = summary['Cases']\n",
    "new = summary['Cases (+)']\n",
    "deaths = summary['Deaths']\n",
    "dnew = summary['Deaths (+)']\n",
    "\n",
    "html = HTML(overview.format(update=update, cases=cases,new=new,deaths=deaths,dnew=dnew))\n",
    "\n",
    "display(html)"
   ]
  },
  {
   "cell_type": "code",
   "execution_count": 17,
   "id": "sealed-reset",
   "metadata": {
    "execution": {
     "iopub.execute_input": "2021-04-03T13:14:42.085628Z",
     "iopub.status.busy": "2021-04-03T13:14:42.085020Z",
     "iopub.status.idle": "2021-04-03T13:14:42.092085Z",
     "shell.execute_reply": "2021-04-03T13:14:42.092540Z"
    },
    "papermill": {
     "duration": 0.036113,
     "end_time": "2021-04-03T13:14:42.092688",
     "exception": false,
     "start_time": "2021-04-03T13:14:42.056575",
     "status": "completed"
    },
    "tags": []
   },
   "outputs": [],
   "source": [
    "#hide\n",
    "dt_cols = list(dft_cases.columns[1:])\n",
    "dft_ct_new_cases = dft_cases.groupby('state')[dt_cols].sum().diff(axis=1).fillna(0).astype(int)\n",
    "dft_ct_new_cases.sort_values(by = dates[-1], ascending = False,inplace = True)"
   ]
  },
  {
   "cell_type": "code",
   "execution_count": 18,
   "id": "designed-constant",
   "metadata": {
    "execution": {
     "iopub.execute_input": "2021-04-03T13:14:42.400451Z",
     "iopub.status.busy": "2021-04-03T13:14:42.399844Z",
     "iopub.status.idle": "2021-04-03T13:14:42.417577Z",
     "shell.execute_reply": "2021-04-03T13:14:42.418061Z"
    },
    "papermill": {
     "duration": 0.305436,
     "end_time": "2021-04-03T13:14:42.418202",
     "exception": false,
     "start_time": "2021-04-03T13:14:42.112766",
     "status": "completed"
    },
    "tags": []
   },
   "outputs": [
    {
     "data": {
      "text/html": [
       "<div>\n",
       "<style scoped>\n",
       "    .dataframe tbody tr th:only-of-type {\n",
       "        vertical-align: middle;\n",
       "    }\n",
       "\n",
       "    .dataframe tbody tr th {\n",
       "        vertical-align: top;\n",
       "    }\n",
       "\n",
       "    .dataframe thead th {\n",
       "        text-align: right;\n",
       "    }\n",
       "</style>\n",
       "<table border=\"1\" class=\"dataframe\">\n",
       "  <thead>\n",
       "    <tr style=\"text-align: right;\">\n",
       "      <th>states</th>\n",
       "      <th>2020-07-01</th>\n",
       "      <th>2020-07-02</th>\n",
       "      <th>2020-07-03</th>\n",
       "      <th>2020-07-04</th>\n",
       "      <th>2020-07-05</th>\n",
       "      <th>2020-07-06</th>\n",
       "      <th>2020-07-07</th>\n",
       "      <th>2020-07-08</th>\n",
       "      <th>2020-07-09</th>\n",
       "      <th>2020-07-10</th>\n",
       "      <th>...</th>\n",
       "      <th>2021-03-25</th>\n",
       "      <th>2021-03-26</th>\n",
       "      <th>2021-03-27</th>\n",
       "      <th>2021-03-28</th>\n",
       "      <th>2021-03-29</th>\n",
       "      <th>2021-03-30</th>\n",
       "      <th>2021-03-31</th>\n",
       "      <th>2021-04-01</th>\n",
       "      <th>2021-04-02</th>\n",
       "      <th>2021-04-03</th>\n",
       "    </tr>\n",
       "    <tr>\n",
       "      <th>state</th>\n",
       "      <th></th>\n",
       "      <th></th>\n",
       "      <th></th>\n",
       "      <th></th>\n",
       "      <th></th>\n",
       "      <th></th>\n",
       "      <th></th>\n",
       "      <th></th>\n",
       "      <th></th>\n",
       "      <th></th>\n",
       "      <th></th>\n",
       "      <th></th>\n",
       "      <th></th>\n",
       "      <th></th>\n",
       "      <th></th>\n",
       "      <th></th>\n",
       "      <th></th>\n",
       "      <th></th>\n",
       "      <th></th>\n",
       "      <th></th>\n",
       "      <th></th>\n",
       "    </tr>\n",
       "  </thead>\n",
       "  <tbody>\n",
       "    <tr>\n",
       "      <th>Delhi</th>\n",
       "      <td>0</td>\n",
       "      <td>2373</td>\n",
       "      <td>2520</td>\n",
       "      <td>2505</td>\n",
       "      <td>2244</td>\n",
       "      <td>1379</td>\n",
       "      <td>2008</td>\n",
       "      <td>2033</td>\n",
       "      <td>2187</td>\n",
       "      <td>2089</td>\n",
       "      <td>...</td>\n",
       "      <td>1515</td>\n",
       "      <td>1534</td>\n",
       "      <td>1558</td>\n",
       "      <td>1881</td>\n",
       "      <td>1904</td>\n",
       "      <td>992</td>\n",
       "      <td>1819</td>\n",
       "      <td>2790</td>\n",
       "      <td>3594</td>\n",
       "      <td>3567</td>\n",
       "    </tr>\n",
       "    <tr>\n",
       "      <th>Telangana</th>\n",
       "      <td>0</td>\n",
       "      <td>1213</td>\n",
       "      <td>1892</td>\n",
       "      <td>1850</td>\n",
       "      <td>1590</td>\n",
       "      <td>1831</td>\n",
       "      <td>1879</td>\n",
       "      <td>1924</td>\n",
       "      <td>1410</td>\n",
       "      <td>1278</td>\n",
       "      <td>...</td>\n",
       "      <td>493</td>\n",
       "      <td>518</td>\n",
       "      <td>495</td>\n",
       "      <td>535</td>\n",
       "      <td>403</td>\n",
       "      <td>463</td>\n",
       "      <td>684</td>\n",
       "      <td>887</td>\n",
       "      <td>965</td>\n",
       "      <td>1078</td>\n",
       "    </tr>\n",
       "    <tr>\n",
       "      <th>Odisha</th>\n",
       "      <td>0</td>\n",
       "      <td>229</td>\n",
       "      <td>561</td>\n",
       "      <td>495</td>\n",
       "      <td>469</td>\n",
       "      <td>456</td>\n",
       "      <td>571</td>\n",
       "      <td>527</td>\n",
       "      <td>577</td>\n",
       "      <td>755</td>\n",
       "      <td>...</td>\n",
       "      <td>214</td>\n",
       "      <td>234</td>\n",
       "      <td>210</td>\n",
       "      <td>290</td>\n",
       "      <td>208</td>\n",
       "      <td>218</td>\n",
       "      <td>297</td>\n",
       "      <td>394</td>\n",
       "      <td>461</td>\n",
       "      <td>452</td>\n",
       "    </tr>\n",
       "    <tr>\n",
       "      <th>Puducherry</th>\n",
       "      <td>0</td>\n",
       "      <td>63</td>\n",
       "      <td>22</td>\n",
       "      <td>80</td>\n",
       "      <td>42</td>\n",
       "      <td>65</td>\n",
       "      <td>30</td>\n",
       "      <td>110</td>\n",
       "      <td>49</td>\n",
       "      <td>72</td>\n",
       "      <td>...</td>\n",
       "      <td>95</td>\n",
       "      <td>96</td>\n",
       "      <td>128</td>\n",
       "      <td>137</td>\n",
       "      <td>125</td>\n",
       "      <td>115</td>\n",
       "      <td>127</td>\n",
       "      <td>260</td>\n",
       "      <td>213</td>\n",
       "      <td>191</td>\n",
       "    </tr>\n",
       "    <tr>\n",
       "      <th>Meghalaya</th>\n",
       "      <td>0</td>\n",
       "      <td>3</td>\n",
       "      <td>4</td>\n",
       "      <td>8</td>\n",
       "      <td>2</td>\n",
       "      <td>16</td>\n",
       "      <td>6</td>\n",
       "      <td>6</td>\n",
       "      <td>13</td>\n",
       "      <td>73</td>\n",
       "      <td>...</td>\n",
       "      <td>3</td>\n",
       "      <td>7</td>\n",
       "      <td>2</td>\n",
       "      <td>1</td>\n",
       "      <td>2</td>\n",
       "      <td>22</td>\n",
       "      <td>9</td>\n",
       "      <td>2</td>\n",
       "      <td>15</td>\n",
       "      <td>24</td>\n",
       "    </tr>\n",
       "  </tbody>\n",
       "</table>\n",
       "<p>5 rows × 277 columns</p>\n",
       "</div>"
      ],
      "text/plain": [
       "states      2020-07-01  2020-07-02  2020-07-03  2020-07-04  2020-07-05  \\\n",
       "state                                                                    \n",
       "Delhi                0        2373        2520        2505        2244   \n",
       "Telangana            0        1213        1892        1850        1590   \n",
       "Odisha               0         229         561         495         469   \n",
       "Puducherry           0          63          22          80          42   \n",
       "Meghalaya            0           3           4           8           2   \n",
       "\n",
       "states      2020-07-06  2020-07-07  2020-07-08  2020-07-09  2020-07-10  ...  \\\n",
       "state                                                                   ...   \n",
       "Delhi             1379        2008        2033        2187        2089  ...   \n",
       "Telangana         1831        1879        1924        1410        1278  ...   \n",
       "Odisha             456         571         527         577         755  ...   \n",
       "Puducherry          65          30         110          49          72  ...   \n",
       "Meghalaya           16           6           6          13          73  ...   \n",
       "\n",
       "states      2021-03-25  2021-03-26  2021-03-27  2021-03-28  2021-03-29  \\\n",
       "state                                                                    \n",
       "Delhi             1515        1534        1558        1881        1904   \n",
       "Telangana          493         518         495         535         403   \n",
       "Odisha             214         234         210         290         208   \n",
       "Puducherry          95          96         128         137         125   \n",
       "Meghalaya            3           7           2           1           2   \n",
       "\n",
       "states      2021-03-30  2021-03-31  2021-04-01  2021-04-02  2021-04-03  \n",
       "state                                                                   \n",
       "Delhi              992        1819        2790        3594        3567  \n",
       "Telangana          463         684         887         965        1078  \n",
       "Odisha             218         297         394         461         452  \n",
       "Puducherry         115         127         260         213         191  \n",
       "Meghalaya           22           9           2          15          24  \n",
       "\n",
       "[5 rows x 277 columns]"
      ]
     },
     "execution_count": 18,
     "metadata": {},
     "output_type": "execute_result"
    }
   ],
   "source": [
    "#hide\n",
    "dft_ct_new_cases.head()"
   ]
  },
  {
   "cell_type": "code",
   "execution_count": 19,
   "id": "responsible-nightlife",
   "metadata": {
    "execution": {
     "iopub.execute_input": "2021-04-03T13:14:42.598211Z",
     "iopub.status.busy": "2021-04-03T13:14:42.597115Z",
     "iopub.status.idle": "2021-04-03T13:14:53.097961Z",
     "shell.execute_reply": "2021-04-03T13:14:53.098450Z"
    },
    "papermill": {
     "duration": 10.588184,
     "end_time": "2021-04-03T13:14:53.098600",
     "exception": false,
     "start_time": "2021-04-03T13:14:42.510416",
     "status": "completed"
    },
    "tags": []
   },
   "outputs": [
    {
     "data": {
      "image/png": "[encoded data removed]",
      "text/plain": [
       "<Figure size 1296x2016 with 11 Axes>"
      ]
     },
     "metadata": {
      "needs_background": "light"
     },
     "output_type": "display_data"
    }
   ],
   "source": [
    "#hide_input\n",
    "df = dft_ct_new_cases.copy()\n",
    "df.loc['Total'] = df.sum()\n",
    "n = 5\n",
    "ax = []\n",
    "fig = plt.figure(figsize = (18,28))\n",
    "gs = fig.add_gridspec(n+2, 5)\n",
    "# gs = fig.add_gridspec(2, 3)\n",
    "ax1 = fig.add_subplot(gs[0, :])\n",
    "ef = df.loc['Total'].rename_axis('date').reset_index()\n",
    "ef['date'] = ef['date'].astype('datetime64[ns]')\n",
    "ax1.bar(ef.date,ef.Total,alpha=0.3,color='#007acc')\n",
    "ax1.plot(ef.date,ef.Total , marker=\"o\", color='#007acc')\n",
    "ax1.xaxis.set_major_locator(mdates.WeekdayLocator())\n",
    "ax1.xaxis.set_major_formatter(mdates.DateFormatter('%b %d'))\n",
    "ax1.text(0.02, 0.5,'India daily case count', transform = ax1.transAxes, fontsize=25);\n",
    "ax1.spines['right'].set_visible(False)\n",
    "ax1.spines['top'].set_visible(False)\n",
    "\n",
    "ax2 = fig.add_subplot(gs[1,0])\n",
    "ef = df.loc['Maharashtra'].rename_axis('date').reset_index()\n",
    "ef['date'] = ef['date'].astype('datetime64[ns]')\n",
    "\n",
    "ax2.bar(ef.date, ef.Maharashtra,color = '#007acc',alpha=0.5)\n",
    "ax2.xaxis.set_major_locator(mdates.WeekdayLocator())\n",
    "ax2.xaxis.set_major_formatter(mdates.DateFormatter('%b %d'))\n",
    "ax2.set_xticks(ax2.get_xticks()[::3])\n",
    "maxyval = ef.Maharashtra.max()\n",
    "ax2.set_ylim([0,maxyval])\n",
    "ax2.text(0.05, 0.9,'Maharashtra', transform = ax2.transAxes, fontsize=20);\n",
    "ax2.spines['right'].set_visible(False)\n",
    "ax2.spines['top'].set_visible(False)\n",
    "\n",
    "\n",
    "ax3 = fig.add_subplot(gs[1,1])\n",
    "ef = df.loc['Tamil Nadu'].rename_axis('date').reset_index()\n",
    "ef['date'] = ef['date'].astype('datetime64[ns]')\n",
    "ax3.bar(ef.date, ef['Tamil Nadu'],color = '#007acc',alpha=0.5,)\n",
    "ax3.xaxis.set_major_locator(mdates.WeekdayLocator())\n",
    "ax3.xaxis.set_major_formatter(mdates.DateFormatter('%b %d'))\n",
    "ax3.set_xticks(ax3.get_xticks()[::3])\n",
    "ax3.text(0.05, 0.9,'Tamil Nadu', transform = ax3.transAxes, fontsize=20);\n",
    "ax3.spines['right'].set_visible(False)\n",
    "ax3.spines['top'].set_visible(False)\n",
    "\n",
    "ax5 = fig.add_subplot(gs[1,3])\n",
    "ef = df.loc['Telangana'].rename_axis('date').reset_index()\n",
    "ef['date'] = ef['date'].astype('datetime64[ns]')\n",
    "ax5.bar(ef.date, ef['Telangana'],color = '#007acc',alpha=0.5,)\n",
    "ax5.xaxis.set_major_locator(mdates.WeekdayLocator())\n",
    "ax5.xaxis.set_major_formatter(mdates.DateFormatter('%b %d'))\n",
    "ax5.set_xticks(ax5.get_xticks()[::3])\n",
    "ax5.text(0.05, 0.9,'Telangana', transform = ax5.transAxes, fontsize=20);\n",
    "ax5.spines['right'].set_visible(False)\n",
    "ax5.spines['top'].set_visible(False)\n",
    "\n",
    "ax6 = fig.add_subplot(gs[1,4])\n",
    "ef = df.loc['Andhra Pradesh'].rename_axis('date').reset_index()\n",
    "ef['date'] = ef['date'].astype('datetime64[ns]')\n",
    "ax6.bar(ef.date, ef['Andhra Pradesh'],color = '#007acc',alpha=0.5,)\n",
    "ax6.xaxis.set_major_locator(mdates.WeekdayLocator())\n",
    "ax6.xaxis.set_major_formatter(mdates.DateFormatter('%b %d'))\n",
    "ax6.set_xticks(ax6.get_xticks()[::3])\n",
    "ax6.text(0.05, 1,'Andhra Pradesh', transform = ax6.transAxes, fontsize=20);\n",
    "ax6.spines['right'].set_visible(False)\n",
    "ax6.spines['top'].set_visible(False)\n",
    "\n",
    "ax4 = fig.add_subplot(gs[1,2])\n",
    "ef = df.loc['Delhi'].rename_axis('date').reset_index()\n",
    "ef['date'] = ef['date'].astype('datetime64[ns]')\n",
    "ax4.bar(ef.date, ef.Delhi,color = '#007acc',alpha=0.5)\n",
    "ax4.set_xticks([])\n",
    "ax4.xaxis.set_major_locator(mdates.WeekdayLocator())\n",
    "ax4.xaxis.set_major_formatter(mdates.DateFormatter('%b %d'))\n",
    "ax4.set_xticks(ax4.get_xticks()[::3])\n",
    "ax4.spines['right'].set_visible(False)\n",
    "ax4.spines['top'].set_visible(False)\n",
    "\n",
    "ax4.text(0.05, 1,'Delhi', transform = ax4.transAxes, fontsize=20)\n",
    "\n",
    "for i in range(n):\n",
    "    \n",
    "    ax.append(fig.add_subplot(gs[i+2,:]))\n",
    "    ef = df.iloc[i+3].rename_axis('date').reset_index()\n",
    "    ef['date'] = ef['date'].astype('datetime64[ns]')\n",
    "    ax[i].bar(ef.date,ef.iloc[:,-1],color = '#007acc',alpha=0.3)\n",
    "    ax[i].plot(ef.date,ef.iloc[:,-1],marker='o',color='#007acc')\n",
    "    ax[i].text(0.02,0.5,f'{ef.columns.values[-1]}',transform = ax[i].transAxes, fontsize = 20);\n",
    "    ax[i].xaxis.set_major_locator(mdates.WeekdayLocator())\n",
    "    ax[i].xaxis.set_major_formatter(mdates.DateFormatter('%b %d'))\n",
    "    ax[i].set_ylim([0,7000])\n",
    "    ax[i].spines['right'].set_visible(False)\n",
    "    ax[i].spines['top'].set_visible(False)\n",
    "plt.tight_layout()\n"
   ]
  },
  {
   "cell_type": "code",
   "execution_count": 20,
   "id": "dress-forge",
   "metadata": {
    "execution": {
     "iopub.execute_input": "2021-04-03T13:14:53.164646Z",
     "iopub.status.busy": "2021-04-03T13:14:53.164046Z",
     "iopub.status.idle": "2021-04-03T13:14:53.167777Z",
     "shell.execute_reply": "2021-04-03T13:14:53.167228Z"
    },
    "papermill": {
     "duration": 0.042345,
     "end_time": "2021-04-03T13:14:53.167902",
     "exception": false,
     "start_time": "2021-04-03T13:14:53.125557",
     "status": "completed"
    },
    "tags": []
   },
   "outputs": [
    {
     "name": "stdout",
     "output_type": "stream",
     "text": [
      "                                   states    Cases  Deaths   PCases  PDeaths  Cases (+)  Deaths (+)  Fatality Rate\n",
      "                              Maharashtra  2904076   55379  2904076    55379          0           0           1.91\n",
      "                                   Kerala  1129891    4647  1129891     4647          0           0           0.41\n",
      "                                Karnataka  1006229   12591  1006229    12591          0           0           1.25\n",
      "                           Andhra Pradesh   904548    7225   904548     7225          0           0           0.80\n",
      "                               Tamil Nadu   892780   12750   892780    12750          0           0           1.43\n",
      "                                    Delhi   672381   11060   668814    11050       3567          10           1.64\n",
      "                            Uttar Pradesh   622736    8836   622736     8836          0           0           1.42\n",
      "                              West Bengal   589922   10335   589922    10335          0           0           1.75\n",
      "                             Chhattisgarh   357978    4247   357978     4247          0           0           1.19\n",
      "                                   Odisha   342224    1974   341772     1974        452           0           0.58\n",
      "                                Rajasthan   335921    2824   335921     2824          0           0           0.84\n",
      "                                  Gujarat   312748    4539   312748     4539          0           0           1.45\n",
      "                                Telangana   310819    1712   309741     1706       1078           6           0.55\n",
      "                           Madhya Pradesh   300834    4014   300834     4014          0           0           1.33\n",
      "                                  Haryana   294270    3174   294270     3174          0           0           1.08\n",
      "                                    Bihar   266677    1580   266677     1580          0           0           0.59\n",
      "                                   Punjab   245768    6983   245768     6983          0           0           2.84\n",
      "                                    Assam   218533    1107   218533     1107          0           0           0.51\n",
      "                        Jammu and Kashmir   131938    2003   131938     2003          0           0           1.52\n",
      "                                Jharkhand   125585    1115   125585     1115          0           0           0.89\n",
      "                              Uttarakhand   101275    1721   101275     1721          0           0           1.70\n",
      "                         Himachal Pradesh    64420    1043    64420     1043          0           0           1.62\n",
      "                                      Goa    58584     832    58584      832          0           0           1.42\n",
      "                               Puducherry    42132     684    41941      684        191           0           1.62\n",
      "                                  Tripura    33520     389    33518      389          2           0           1.16\n",
      "                                  Manipur    29402     374    29402      374          0           0           1.27\n",
      "                               Chandigarh    27543     381    27543      381          0           0           1.38\n",
      "                        Arunachal Pradesh    16846      56    16846       56          0           0           0.33\n",
      "                                Meghalaya    14106     150    14082      150         24           0           1.06\n",
      "                                 Nagaland    12361      91    12361       91          0           0           0.74\n",
      "                                   Ladakh    10189     130    10189      130          0           0           1.28\n",
      "                                   Sikkim     6245     135     6245      135          0           0           2.16\n",
      "              Andaman and Nicobar Islands     5084      62     5084       62          0           0           1.22\n",
      "                                  Mizoram     4487      11     4484       11          3           0           0.25\n",
      " Dadra and Nagar Haveli and Daman and Diu     3665       2     3665        2          0           0           0.05\n",
      "                              Lakshadweep      733       1      733        1          0           0           0.14\n"
     ]
    }
   ],
   "source": [
    "#hide_input\n",
    "print(df_table.to_string(index=False))"
   ]
  },
  {
   "cell_type": "code",
   "execution_count": null,
   "id": "quantitative-legend",
   "metadata": {
    "papermill": {
     "duration": 0.026803,
     "end_time": "2021-04-03T13:14:53.221181",
     "exception": false,
     "start_time": "2021-04-03T13:14:53.194378",
     "status": "completed"
    },
    "tags": []
   },
   "outputs": [],
   "source": []
  },
  {
   "cell_type": "code",
   "execution_count": null,
   "id": "distant-acoustic",
   "metadata": {
    "papermill": {
     "duration": 0.02644,
     "end_time": "2021-04-03T13:14:53.274358",
     "exception": false,
     "start_time": "2021-04-03T13:14:53.247918",
     "status": "completed"
    },
    "tags": []
   },
   "outputs": [],
   "source": []
  }
 ],
 "metadata": {
  "kernelspec": {
   "display_name": "Python 3",
   "language": "python",
   "name": "python3"
  },
  "language_info": {
   "codemirror_mode": {
    "name": "ipython",
    "version": 3
   },
   "file_extension": ".py",
   "mimetype": "text/x-python",
   "name": "python",
   "nbconvert_exporter": "python",
   "pygments_lexer": "ipython3",
   "version": "3.6.13"
  },
  "papermill": {
   "duration": 23.031654,
   "end_time": "2021-04-03T13:14:53.911055",
   "environment_variables": {},
   "exception": null,
   "input_path": "latest.ipynb",
   "output_path": "latest.ipynb",
   "parameters": {},
   "start_time": "2021-04-03T13:14:30.879401",
   "version": "2.1.2"
  }
 },
 "nbformat": 4,
 "nbformat_minor": 5
}