{
 "cells": [
  {
   "cell_type": "markdown",
   "metadata": {
    "papermill": {
     "duration": 0.021803,
     "end_time": "2020-10-07T04:40:02.501005",
     "exception": false,
     "start_time": "2020-10-07T04:40:02.479202",
     "status": "completed"
    },
    "tags": []
   },
   "source": [
    "# Latest COVID-19 India Matplotlib Overview"
   ]
  },
  {
   "cell_type": "code",
   "execution_count": 1,
   "metadata": {
    "execution": {
     "iopub.execute_input": "2020-10-07T04:40:02.542373Z",
     "iopub.status.busy": "2020-10-07T04:40:02.541764Z",
     "iopub.status.idle": "2020-10-07T04:40:03.127103Z",
     "shell.execute_reply": "2020-10-07T04:40:03.126150Z"
    },
    "papermill": {
     "duration": 0.609794,
     "end_time": "2020-10-07T04:40:03.127313",
     "exception": false,
     "start_time": "2020-10-07T04:40:02.517519",
     "status": "completed"
    },
    "tags": []
   },
   "outputs": [],
   "source": [
    "#hide\n",
    "import pandas as pd\n",
    "import numpy as np\n",
    "import requests\n",
    "import json\n",
    "import matplotlib.pyplot as plt\n",
    "import matplotlib.dates as mdates\n",
    "import matplotlib as mpl\n",
    "from IPython.core.display import display,HTML\n",
    "%matplotlib inline\n",
    "from datetime import date"
   ]
  },
  {
   "cell_type": "code",
   "execution_count": 2,
   "metadata": {
    "execution": {
     "iopub.execute_input": "2020-10-07T04:40:03.168837Z",
     "iopub.status.busy": "2020-10-07T04:40:03.168223Z",
     "iopub.status.idle": "2020-10-07T04:40:03.423197Z",
     "shell.execute_reply": "2020-10-07T04:40:03.422595Z"
    },
    "papermill": {
     "duration": 0.280575,
     "end_time": "2020-10-07T04:40:03.423332",
     "exception": false,
     "start_time": "2020-10-07T04:40:03.142757",
     "status": "completed"
    },
    "tags": []
   },
   "outputs": [],
   "source": [
    "#hide\n",
    "df  = pd.read_csv('https://api.covid19india.org/csv/latest/states.csv')\n",
    "df = df[['Date','State','Confirmed','Deceased']]\n",
    "df = df.rename(columns={'Confirmed':'Cases', \"Deceased\":'Deaths'})\n",
    "df_cases = df[[\"Date\",'State','Cases']]\n",
    "df_deaths = df[['Date','State','Deaths']]\n",
    "df_cases1 = df_cases.groupby('Date')\n",
    "df_deaths1= df_deaths.groupby('Date')"
   ]
  },
  {
   "cell_type": "code",
   "execution_count": 3,
   "metadata": {
    "execution": {
     "iopub.execute_input": "2020-10-07T04:40:03.459611Z",
     "iopub.status.busy": "2020-10-07T04:40:03.458796Z",
     "iopub.status.idle": "2020-10-07T04:40:03.476847Z",
     "shell.execute_reply": "2020-10-07T04:40:03.475859Z"
    },
    "papermill": {
     "duration": 0.0377,
     "end_time": "2020-10-07T04:40:03.477043",
     "exception": false,
     "start_time": "2020-10-07T04:40:03.439343",
     "status": "completed"
    },
    "tags": []
   },
   "outputs": [],
   "source": [
    "#hide\n",
    "df_snap = pd.read_csv('data/SnapshotCases-28-July.csv')\n",
    "arr_states = df_snap['states'].unique()\n",
    "arr_dates = df['Date'].unique()\n",
    "df_snap = df_snap.set_index('states')"
   ]
  },
  {
   "cell_type": "code",
   "execution_count": 4,
   "metadata": {
    "execution": {
     "iopub.execute_input": "2020-10-07T04:40:03.517571Z",
     "iopub.status.busy": "2020-10-07T04:40:03.516831Z",
     "iopub.status.idle": "2020-10-07T04:40:03.519318Z",
     "shell.execute_reply": "2020-10-07T04:40:03.519783Z"
    },
    "papermill": {
     "duration": 0.025647,
     "end_time": "2020-10-07T04:40:03.519926",
     "exception": false,
     "start_time": "2020-10-07T04:40:03.494279",
     "status": "completed"
    },
    "tags": []
   },
   "outputs": [
    {
     "data": {
      "text/plain": [
       "array(['Andaman and Nicobar Islands', 'Andhra Pradesh',\n",
       "       'Arunachal Pradesh', 'Assam', 'Bihar', 'Chandigarh',\n",
       "       'Dadra and Nagar Haveli and Daman and Diu', 'Delhi', 'Goa',\n",
       "       'Gujarat', 'Haryana', 'Himachal Pradesh', 'Jammu and Kashmir',\n",
       "       'Jharkhand', 'Karnataka', 'Kerala', 'Lakshadweep',\n",
       "       'Madhya Pradesh', 'Maharashtra', 'Manipur', 'Meghalaya', 'Mizoram',\n",
       "       'Nagaland', 'Odisha', 'Puducherry', 'Punjab', 'Rajasthan',\n",
       "       'Sikkim', 'Tamil Nadu', 'Telangana', 'Tripura', 'Uttar Pradesh',\n",
       "       'West Bengal', 'Chhattisgarh', 'Ladakh', 'Uttarakhand'],\n",
       "      dtype=object)"
      ]
     },
     "execution_count": 4,
     "metadata": {},
     "output_type": "execute_result"
    }
   ],
   "source": [
    "#hide\n",
    "arr_states[-9] = 'Puducherry'\n",
    "arr_states[-10] = 'Odisha'\n",
    "arr_states[6] = 'Dadra and Nagar Haveli and Daman and Diu'\n",
    "arr_states = np.append(arr_states,np.array(['Chhattisgarh','Ladakh','Uttarakhand']))\n",
    "arr_states"
   ]
  },
  {
   "cell_type": "code",
   "execution_count": 5,
   "metadata": {
    "execution": {
     "iopub.execute_input": "2020-10-07T04:40:03.562046Z",
     "iopub.status.busy": "2020-10-07T04:40:03.561454Z",
     "iopub.status.idle": "2020-10-07T04:40:03.569234Z",
     "shell.execute_reply": "2020-10-07T04:40:03.568756Z"
    },
    "papermill": {
     "duration": 0.033426,
     "end_time": "2020-10-07T04:40:03.569365",
     "exception": false,
     "start_time": "2020-10-07T04:40:03.535939",
     "status": "completed"
    },
    "tags": []
   },
   "outputs": [],
   "source": [
    "#hide\n",
    "dates = []\n",
    "for i in arr_dates:\n",
    "    if i>='2020-07-01':\n",
    "        dates.append(i)\n",
    "dict = {'states':dates}\n",
    "for i in arr_states:\n",
    "    dict[i] = [0]*len(dates)\n",
    "dft_cases = pd.DataFrame(dict)\n",
    "dft_deaths = pd.DataFrame(dict)\n"
   ]
  },
  {
   "cell_type": "code",
   "execution_count": 6,
   "metadata": {
    "execution": {
     "iopub.execute_input": "2020-10-07T04:40:03.606866Z",
     "iopub.status.busy": "2020-10-07T04:40:03.606313Z",
     "iopub.status.idle": "2020-10-07T04:40:04.922086Z",
     "shell.execute_reply": "2020-10-07T04:40:04.921025Z"
    },
    "papermill": {
     "duration": 1.337124,
     "end_time": "2020-10-07T04:40:04.922236",
     "exception": false,
     "start_time": "2020-10-07T04:40:03.585112",
     "status": "completed"
    },
    "tags": []
   },
   "outputs": [],
   "source": [
    "#hide\n",
    "for i in range(len(dates)):\n",
    "    df1_deaths = df_deaths1.get_group(dates[i])\n",
    "    for j in range(len(df1_deaths.index)):\n",
    "        if df1_deaths.iloc[j,1] in arr_states:\n",
    "            dft_deaths.loc[i,df1_deaths.iloc[j,1]] = df1_deaths.iloc[j,2]\n",
    "dft_deaths = dft_deaths.set_index('states')"
   ]
  },
  {
   "cell_type": "code",
   "execution_count": 7,
   "metadata": {
    "execution": {
     "iopub.execute_input": "2020-10-07T04:40:04.958778Z",
     "iopub.status.busy": "2020-10-07T04:40:04.958188Z",
     "iopub.status.idle": "2020-10-07T04:40:06.268337Z",
     "shell.execute_reply": "2020-10-07T04:40:06.267070Z"
    },
    "papermill": {
     "duration": 1.331002,
     "end_time": "2020-10-07T04:40:06.268496",
     "exception": false,
     "start_time": "2020-10-07T04:40:04.937494",
     "status": "completed"
    },
    "tags": []
   },
   "outputs": [],
   "source": [
    "#hide\n",
    "for i in range(len(dates)):\n",
    "    df1_cases = df_cases1.get_group(dates[i])\n",
    "    for j in range(len(df1_cases.index)):\n",
    "        if df1_cases.iloc[j,1] in arr_states:\n",
    "            dft_cases.loc[i,df1_cases.iloc[j,1]] = df1_cases.iloc[j,2]\n",
    "dft_cases = dft_cases.set_index('states')"
   ]
  },
  {
   "cell_type": "code",
   "execution_count": 8,
   "metadata": {
    "execution": {
     "iopub.execute_input": "2020-10-07T04:40:06.307719Z",
     "iopub.status.busy": "2020-10-07T04:40:06.306363Z",
     "iopub.status.idle": "2020-10-07T04:40:06.309006Z",
     "shell.execute_reply": "2020-10-07T04:40:06.308544Z"
    },
    "papermill": {
     "duration": 0.024809,
     "end_time": "2020-10-07T04:40:06.309128",
     "exception": false,
     "start_time": "2020-10-07T04:40:06.284319",
     "status": "completed"
    },
    "tags": []
   },
   "outputs": [],
   "source": [
    "#hide\n",
    "dft_cases = dft_cases.T\n",
    "dft_deaths = dft_deaths.T\n",
    "dt_today = dates[-1]\n",
    "dt_yday = dates[-2]"
   ]
  },
  {
   "cell_type": "code",
   "execution_count": 9,
   "metadata": {
    "execution": {
     "iopub.execute_input": "2020-10-07T04:40:06.352569Z",
     "iopub.status.busy": "2020-10-07T04:40:06.351507Z",
     "iopub.status.idle": "2020-10-07T04:40:06.353212Z",
     "shell.execute_reply": "2020-10-07T04:40:06.353674Z"
    },
    "papermill": {
     "duration": 0.028653,
     "end_time": "2020-10-07T04:40:06.353822",
     "exception": false,
     "start_time": "2020-10-07T04:40:06.325169",
     "status": "completed"
    },
    "tags": []
   },
   "outputs": [],
   "source": [
    "#hide\n",
    "dft_cases = dft_cases.reset_index()\n",
    "dft_deaths = dft_deaths.reset_index()\n",
    "dft_cases = dft_cases.rename(columns = {'index':'state'})\n",
    "dft_deaths = dft_deaths.rename(columns = {'index':'state'})"
   ]
  },
  {
   "cell_type": "code",
   "execution_count": 10,
   "metadata": {
    "execution": {
     "iopub.execute_input": "2020-10-07T04:40:06.396349Z",
     "iopub.status.busy": "2020-10-07T04:40:06.395733Z",
     "iopub.status.idle": "2020-10-07T04:40:06.398046Z",
     "shell.execute_reply": "2020-10-07T04:40:06.398754Z"
    },
    "papermill": {
     "duration": 0.029628,
     "end_time": "2020-10-07T04:40:06.398904",
     "exception": false,
     "start_time": "2020-10-07T04:40:06.369276",
     "status": "completed"
    },
    "tags": []
   },
   "outputs": [],
   "source": [
    "#hide\n",
    "dfc_cases = dft_cases.groupby('state')[dt_today].sum()\n",
    "dfc_deaths = dft_deaths.groupby('state')[dt_today].sum()\n",
    "dfp_cases = dft_cases.groupby('state')[dt_yday].sum()\n",
    "dfp_deaths = dft_deaths.groupby('state')[dt_yday].sum()"
   ]
  },
  {
   "cell_type": "code",
   "execution_count": 11,
   "metadata": {
    "execution": {
     "iopub.execute_input": "2020-10-07T04:40:06.444949Z",
     "iopub.status.busy": "2020-10-07T04:40:06.444042Z",
     "iopub.status.idle": "2020-10-07T04:40:06.453007Z",
     "shell.execute_reply": "2020-10-07T04:40:06.453480Z"
    },
    "papermill": {
     "duration": 0.039067,
     "end_time": "2020-10-07T04:40:06.453630",
     "exception": false,
     "start_time": "2020-10-07T04:40:06.414563",
     "status": "completed"
    },
    "tags": []
   },
   "outputs": [
    {
     "data": {
      "text/html": [
       "<div>\n",
       "<style scoped>\n",
       "    .dataframe tbody tr th:only-of-type {\n",
       "        vertical-align: middle;\n",
       "    }\n",
       "\n",
       "    .dataframe tbody tr th {\n",
       "        vertical-align: top;\n",
       "    }\n",
       "\n",
       "    .dataframe thead th {\n",
       "        text-align: right;\n",
       "    }\n",
       "</style>\n",
       "<table border=\"1\" class=\"dataframe\">\n",
       "  <thead>\n",
       "    <tr style=\"text-align: right;\">\n",
       "      <th></th>\n",
       "      <th>states</th>\n",
       "      <th>Cases</th>\n",
       "      <th>Deaths</th>\n",
       "      <th>PCases</th>\n",
       "      <th>PDeaths</th>\n",
       "    </tr>\n",
       "  </thead>\n",
       "  <tbody>\n",
       "    <tr>\n",
       "      <th>0</th>\n",
       "      <td>Maharashtra</td>\n",
       "      <td>1465911</td>\n",
       "      <td>38717</td>\n",
       "      <td>1465911</td>\n",
       "      <td>38717</td>\n",
       "    </tr>\n",
       "    <tr>\n",
       "      <th>1</th>\n",
       "      <td>Andhra Pradesh</td>\n",
       "      <td>729307</td>\n",
       "      <td>6052</td>\n",
       "      <td>729307</td>\n",
       "      <td>6052</td>\n",
       "    </tr>\n",
       "    <tr>\n",
       "      <th>2</th>\n",
       "      <td>Karnataka</td>\n",
       "      <td>657705</td>\n",
       "      <td>9461</td>\n",
       "      <td>657705</td>\n",
       "      <td>9461</td>\n",
       "    </tr>\n",
       "    <tr>\n",
       "      <th>3</th>\n",
       "      <td>Tamil Nadu</td>\n",
       "      <td>630408</td>\n",
       "      <td>9917</td>\n",
       "      <td>630408</td>\n",
       "      <td>9917</td>\n",
       "    </tr>\n",
       "    <tr>\n",
       "      <th>4</th>\n",
       "      <td>Uttar Pradesh</td>\n",
       "      <td>420937</td>\n",
       "      <td>6153</td>\n",
       "      <td>420937</td>\n",
       "      <td>6153</td>\n",
       "    </tr>\n",
       "  </tbody>\n",
       "</table>\n",
       "</div>"
      ],
      "text/plain": [
       "           states    Cases  Deaths   PCases  PDeaths\n",
       "0     Maharashtra  1465911   38717  1465911    38717\n",
       "1  Andhra Pradesh   729307    6052   729307     6052\n",
       "2       Karnataka   657705    9461   657705     9461\n",
       "3      Tamil Nadu   630408    9917   630408     9917\n",
       "4   Uttar Pradesh   420937    6153   420937     6153"
      ]
     },
     "execution_count": 11,
     "metadata": {},
     "output_type": "execute_result"
    }
   ],
   "source": [
    "#hide\n",
    "df_table = pd.DataFrame({'states': dfc_cases.index, 'Cases': dfc_cases.values, 'Deaths': dfc_deaths.values, 'PCases': dfp_cases.values, 'PDeaths': dfp_deaths.values}).set_index('states')\n",
    "df_table = df_table.sort_values(by = ['Cases','Deaths'], ascending = [False, False])\n",
    "df_table = df_table.reset_index()\n",
    "df_table.head()"
   ]
  },
  {
   "cell_type": "code",
   "execution_count": 12,
   "metadata": {
    "execution": {
     "iopub.execute_input": "2020-10-07T04:40:06.491613Z",
     "iopub.status.busy": "2020-10-07T04:40:06.491029Z",
     "iopub.status.idle": "2020-10-07T04:40:06.500986Z",
     "shell.execute_reply": "2020-10-07T04:40:06.500477Z"
    },
    "papermill": {
     "duration": 0.031404,
     "end_time": "2020-10-07T04:40:06.501112",
     "exception": false,
     "start_time": "2020-10-07T04:40:06.469708",
     "status": "completed"
    },
    "tags": []
   },
   "outputs": [],
   "source": [
    "#hide\n",
    "for c in 'Cases, Deaths'.split(', '):\n",
    "    df_table[f'{c} (+)'] = (df_table[c] - df_table[f'P{c}']).clip(0)\n",
    "df_table['Fatality Rate'] = (100* df_table['Deaths']/ df_table['Cases']).round(2)"
   ]
  },
  {
   "cell_type": "code",
   "execution_count": 13,
   "metadata": {
    "execution": {
     "iopub.execute_input": "2020-10-07T04:40:06.546256Z",
     "iopub.status.busy": "2020-10-07T04:40:06.545650Z",
     "iopub.status.idle": "2020-10-07T04:40:06.548646Z",
     "shell.execute_reply": "2020-10-07T04:40:06.548041Z"
    },
    "papermill": {
     "duration": 0.032737,
     "end_time": "2020-10-07T04:40:06.549813",
     "exception": false,
     "start_time": "2020-10-07T04:40:06.517076",
     "status": "completed"
    },
    "tags": []
   },
   "outputs": [
    {
     "data": {
      "text/html": [
       "<div>\n",
       "<style scoped>\n",
       "    .dataframe tbody tr th:only-of-type {\n",
       "        vertical-align: middle;\n",
       "    }\n",
       "\n",
       "    .dataframe tbody tr th {\n",
       "        vertical-align: top;\n",
       "    }\n",
       "\n",
       "    .dataframe thead th {\n",
       "        text-align: right;\n",
       "    }\n",
       "</style>\n",
       "<table border=\"1\" class=\"dataframe\">\n",
       "  <thead>\n",
       "    <tr style=\"text-align: right;\">\n",
       "      <th></th>\n",
       "      <th>states</th>\n",
       "      <th>Cases</th>\n",
       "      <th>Deaths</th>\n",
       "      <th>PCases</th>\n",
       "      <th>PDeaths</th>\n",
       "      <th>Cases (+)</th>\n",
       "      <th>Deaths (+)</th>\n",
       "      <th>Fatality Rate</th>\n",
       "    </tr>\n",
       "  </thead>\n",
       "  <tbody>\n",
       "    <tr>\n",
       "      <th>0</th>\n",
       "      <td>Maharashtra</td>\n",
       "      <td>1465911</td>\n",
       "      <td>38717</td>\n",
       "      <td>1465911</td>\n",
       "      <td>38717</td>\n",
       "      <td>0</td>\n",
       "      <td>0</td>\n",
       "      <td>2.64</td>\n",
       "    </tr>\n",
       "    <tr>\n",
       "      <th>1</th>\n",
       "      <td>Andhra Pradesh</td>\n",
       "      <td>729307</td>\n",
       "      <td>6052</td>\n",
       "      <td>729307</td>\n",
       "      <td>6052</td>\n",
       "      <td>0</td>\n",
       "      <td>0</td>\n",
       "      <td>0.83</td>\n",
       "    </tr>\n",
       "    <tr>\n",
       "      <th>2</th>\n",
       "      <td>Karnataka</td>\n",
       "      <td>657705</td>\n",
       "      <td>9461</td>\n",
       "      <td>657705</td>\n",
       "      <td>9461</td>\n",
       "      <td>0</td>\n",
       "      <td>0</td>\n",
       "      <td>1.44</td>\n",
       "    </tr>\n",
       "    <tr>\n",
       "      <th>3</th>\n",
       "      <td>Tamil Nadu</td>\n",
       "      <td>630408</td>\n",
       "      <td>9917</td>\n",
       "      <td>630408</td>\n",
       "      <td>9917</td>\n",
       "      <td>0</td>\n",
       "      <td>0</td>\n",
       "      <td>1.57</td>\n",
       "    </tr>\n",
       "    <tr>\n",
       "      <th>4</th>\n",
       "      <td>Uttar Pradesh</td>\n",
       "      <td>420937</td>\n",
       "      <td>6153</td>\n",
       "      <td>420937</td>\n",
       "      <td>6153</td>\n",
       "      <td>0</td>\n",
       "      <td>0</td>\n",
       "      <td>1.46</td>\n",
       "    </tr>\n",
       "  </tbody>\n",
       "</table>\n",
       "</div>"
      ],
      "text/plain": [
       "           states    Cases  Deaths   PCases  PDeaths  Cases (+)  Deaths (+)  \\\n",
       "0     Maharashtra  1465911   38717  1465911    38717          0           0   \n",
       "1  Andhra Pradesh   729307    6052   729307     6052          0           0   \n",
       "2       Karnataka   657705    9461   657705     9461          0           0   \n",
       "3      Tamil Nadu   630408    9917   630408     9917          0           0   \n",
       "4   Uttar Pradesh   420937    6153   420937     6153          0           0   \n",
       "\n",
       "   Fatality Rate  \n",
       "0           2.64  \n",
       "1           0.83  \n",
       "2           1.44  \n",
       "3           1.57  \n",
       "4           1.46  "
      ]
     },
     "execution_count": 13,
     "metadata": {},
     "output_type": "execute_result"
    }
   ],
   "source": [
    "#hide\n",
    "df_table.head()"
   ]
  },
  {
   "cell_type": "code",
   "execution_count": 14,
   "metadata": {
    "execution": {
     "iopub.execute_input": "2020-10-07T04:40:06.597210Z",
     "iopub.status.busy": "2020-10-07T04:40:06.596586Z",
     "iopub.status.idle": "2020-10-07T04:40:06.612998Z",
     "shell.execute_reply": "2020-10-07T04:40:06.612395Z"
    },
    "papermill": {
     "duration": 0.039413,
     "end_time": "2020-10-07T04:40:06.613133",
     "exception": false,
     "start_time": "2020-10-07T04:40:06.573720",
     "status": "completed"
    },
    "tags": []
   },
   "outputs": [
    {
     "data": {
      "text/plain": [
       "{'updated': '2020-10-07',\n",
       " 'since': '2020-10-06',\n",
       " 'Cases': 6754416,\n",
       " 'PCases': 6754179,\n",
       " 'Deaths': 104591,\n",
       " 'PDeaths': 104591,\n",
       " 'Cases (+)': 237,\n",
       " 'Deaths (+)': 0}"
      ]
     },
     "execution_count": 14,
     "metadata": {},
     "output_type": "execute_result"
    }
   ],
   "source": [
    "#hide\n",
    "summary = {'updated':dates[-1], 'since':dates[-2]}\n",
    "list_names = ['Cases', 'PCases', 'Deaths', 'PDeaths', 'Cases (+)', 'Deaths (+)']\n",
    "for name in list_names:\n",
    "    summary[name] = df_table.sum()[name]\n",
    "summary"
   ]
  },
  {
   "cell_type": "code",
   "execution_count": 15,
   "metadata": {
    "execution": {
     "iopub.execute_input": "2020-10-07T04:40:06.652701Z",
     "iopub.status.busy": "2020-10-07T04:40:06.651842Z",
     "iopub.status.idle": "2020-10-07T04:40:06.653451Z",
     "shell.execute_reply": "2020-10-07T04:40:06.653911Z"
    },
    "papermill": {
     "duration": 0.024041,
     "end_time": "2020-10-07T04:40:06.654055",
     "exception": false,
     "start_time": "2020-10-07T04:40:06.630014",
     "status": "completed"
    },
    "tags": []
   },
   "outputs": [],
   "source": [
    "#hide\n",
    "overview = '''\n",
    "<!-- #######  HTML!! #########-->\n",
    "<h1 style=\"color: #5e9ca0; text-align: center;\">India</h1>\n",
    "<p style=\"text-align: center;\">Last update: <strong>{update}</strong></p>\n",
    "<p style=\"text-align: center;\">Confirmed cases:</p>\n",
    "<p style=\"text-align: center;font-size:24px;\">{cases} (<span style=\"color: #ff0000;\">+{new}</span>)</p>\n",
    "<p style=\"text-align: center;\">Confirmed deaths:</p>\n",
    "<p style=\"text-align: center;font-size:24px;\">{deaths} (<span style=\"color: #ff0000;\">+{dnew}</span>)</p>\n",
    "'''"
   ]
  },
  {
   "cell_type": "code",
   "execution_count": 16,
   "metadata": {
    "execution": {
     "iopub.execute_input": "2020-10-07T04:40:06.696046Z",
     "iopub.status.busy": "2020-10-07T04:40:06.695434Z",
     "iopub.status.idle": "2020-10-07T04:40:06.698565Z",
     "shell.execute_reply": "2020-10-07T04:40:06.698067Z"
    },
    "papermill": {
     "duration": 0.027914,
     "end_time": "2020-10-07T04:40:06.698692",
     "exception": false,
     "start_time": "2020-10-07T04:40:06.670778",
     "status": "completed"
    },
    "tags": []
   },
   "outputs": [
    {
     "data": {
      "text/html": [
       "\n",
       "<!-- #######  HTML!! #########-->\n",
       "<h1 style=\"color: #5e9ca0; text-align: center;\">India</h1>\n",
       "<p style=\"text-align: center;\">Last update: <strong>2020-10-07</strong></p>\n",
       "<p style=\"text-align: center;\">Confirmed cases:</p>\n",
       "<p style=\"text-align: center;font-size:24px;\">6754416 (<span style=\"color: #ff0000;\">+237</span>)</p>\n",
       "<p style=\"text-align: center;\">Confirmed deaths:</p>\n",
       "<p style=\"text-align: center;font-size:24px;\">104591 (<span style=\"color: #ff0000;\">+0</span>)</p>\n"
      ],
      "text/plain": [
       "<IPython.core.display.HTML object>"
      ]
     },
     "metadata": {},
     "output_type": "display_data"
    }
   ],
   "source": [
    "#hide_input\n",
    "update = summary['updated']\n",
    "cases = summary['Cases']\n",
    "new = summary['Cases (+)']\n",
    "deaths = summary['Deaths']\n",
    "dnew = summary['Deaths (+)']\n",
    "\n",
    "html = HTML(overview.format(update=update, cases=cases,new=new,deaths=deaths,dnew=dnew))\n",
    "\n",
    "display(html)"
   ]
  },
  {
   "cell_type": "code",
   "execution_count": 17,
   "metadata": {
    "execution": {
     "iopub.execute_input": "2020-10-07T04:40:06.743862Z",
     "iopub.status.busy": "2020-10-07T04:40:06.743258Z",
     "iopub.status.idle": "2020-10-07T04:40:06.750108Z",
     "shell.execute_reply": "2020-10-07T04:40:06.749599Z"
    },
    "papermill": {
     "duration": 0.034632,
     "end_time": "2020-10-07T04:40:06.750239",
     "exception": false,
     "start_time": "2020-10-07T04:40:06.715607",
     "status": "completed"
    },
    "tags": []
   },
   "outputs": [],
   "source": [
    "#hide\n",
    "dt_cols = list(dft_cases.columns[1:])\n",
    "dft_ct_new_cases = dft_cases.groupby('state')[dt_cols].sum().diff(axis=1).fillna(0).astype(int)\n",
    "dft_ct_new_cases.sort_values(by = dates[-1], ascending = False,inplace = True)"
   ]
  },
  {
   "cell_type": "code",
   "execution_count": 18,
   "metadata": {
    "execution": {
     "iopub.execute_input": "2020-10-07T04:40:06.805505Z",
     "iopub.status.busy": "2020-10-07T04:40:06.804894Z",
     "iopub.status.idle": "2020-10-07T04:40:06.807518Z",
     "shell.execute_reply": "2020-10-07T04:40:06.807992Z"
    },
    "papermill": {
     "duration": 0.040439,
     "end_time": "2020-10-07T04:40:06.808167",
     "exception": false,
     "start_time": "2020-10-07T04:40:06.767728",
     "status": "completed"
    },
    "tags": []
   },
   "outputs": [
    {
     "data": {
      "text/html": [
       "<div>\n",
       "<style scoped>\n",
       "    .dataframe tbody tr th:only-of-type {\n",
       "        vertical-align: middle;\n",
       "    }\n",
       "\n",
       "    .dataframe tbody tr th {\n",
       "        vertical-align: top;\n",
       "    }\n",
       "\n",
       "    .dataframe thead th {\n",
       "        text-align: right;\n",
       "    }\n",
       "</style>\n",
       "<table border=\"1\" class=\"dataframe\">\n",
       "  <thead>\n",
       "    <tr style=\"text-align: right;\">\n",
       "      <th>states</th>\n",
       "      <th>2020-07-01</th>\n",
       "      <th>2020-07-02</th>\n",
       "      <th>2020-07-03</th>\n",
       "      <th>2020-07-04</th>\n",
       "      <th>2020-07-05</th>\n",
       "      <th>2020-07-06</th>\n",
       "      <th>2020-07-07</th>\n",
       "      <th>2020-07-08</th>\n",
       "      <th>2020-07-09</th>\n",
       "      <th>2020-07-10</th>\n",
       "      <th>...</th>\n",
       "      <th>2020-09-28</th>\n",
       "      <th>2020-09-29</th>\n",
       "      <th>2020-09-30</th>\n",
       "      <th>2020-10-01</th>\n",
       "      <th>2020-10-02</th>\n",
       "      <th>2020-10-03</th>\n",
       "      <th>2020-10-04</th>\n",
       "      <th>2020-10-05</th>\n",
       "      <th>2020-10-06</th>\n",
       "      <th>2020-10-07</th>\n",
       "    </tr>\n",
       "    <tr>\n",
       "      <th>state</th>\n",
       "      <th></th>\n",
       "      <th></th>\n",
       "      <th></th>\n",
       "      <th></th>\n",
       "      <th></th>\n",
       "      <th></th>\n",
       "      <th></th>\n",
       "      <th></th>\n",
       "      <th></th>\n",
       "      <th></th>\n",
       "      <th></th>\n",
       "      <th></th>\n",
       "      <th></th>\n",
       "      <th></th>\n",
       "      <th></th>\n",
       "      <th></th>\n",
       "      <th></th>\n",
       "      <th></th>\n",
       "      <th></th>\n",
       "      <th></th>\n",
       "      <th></th>\n",
       "    </tr>\n",
       "  </thead>\n",
       "  <tbody>\n",
       "    <tr>\n",
       "      <th>Tripura</th>\n",
       "      <td>0</td>\n",
       "      <td>39</td>\n",
       "      <td>93</td>\n",
       "      <td>25</td>\n",
       "      <td>23</td>\n",
       "      <td>111</td>\n",
       "      <td>24</td>\n",
       "      <td>57</td>\n",
       "      <td>16</td>\n",
       "      <td>142</td>\n",
       "      <td>...</td>\n",
       "      <td>193</td>\n",
       "      <td>432</td>\n",
       "      <td>381</td>\n",
       "      <td>332</td>\n",
       "      <td>296</td>\n",
       "      <td>190</td>\n",
       "      <td>322</td>\n",
       "      <td>159</td>\n",
       "      <td>275</td>\n",
       "      <td>237</td>\n",
       "    </tr>\n",
       "    <tr>\n",
       "      <th>Andaman and Nicobar Islands</th>\n",
       "      <td>0</td>\n",
       "      <td>9</td>\n",
       "      <td>7</td>\n",
       "      <td>3</td>\n",
       "      <td>6</td>\n",
       "      <td>16</td>\n",
       "      <td>6</td>\n",
       "      <td>2</td>\n",
       "      <td>7</td>\n",
       "      <td>0</td>\n",
       "      <td>...</td>\n",
       "      <td>9</td>\n",
       "      <td>18</td>\n",
       "      <td>14</td>\n",
       "      <td>13</td>\n",
       "      <td>10</td>\n",
       "      <td>10</td>\n",
       "      <td>16</td>\n",
       "      <td>15</td>\n",
       "      <td>13</td>\n",
       "      <td>0</td>\n",
       "    </tr>\n",
       "    <tr>\n",
       "      <th>Puducherry</th>\n",
       "      <td>0</td>\n",
       "      <td>63</td>\n",
       "      <td>22</td>\n",
       "      <td>80</td>\n",
       "      <td>42</td>\n",
       "      <td>65</td>\n",
       "      <td>30</td>\n",
       "      <td>110</td>\n",
       "      <td>49</td>\n",
       "      <td>72</td>\n",
       "      <td>...</td>\n",
       "      <td>285</td>\n",
       "      <td>381</td>\n",
       "      <td>478</td>\n",
       "      <td>480</td>\n",
       "      <td>510</td>\n",
       "      <td>218</td>\n",
       "      <td>337</td>\n",
       "      <td>188</td>\n",
       "      <td>405</td>\n",
       "      <td>0</td>\n",
       "    </tr>\n",
       "    <tr>\n",
       "      <th>Maharashtra</th>\n",
       "      <td>0</td>\n",
       "      <td>6328</td>\n",
       "      <td>6364</td>\n",
       "      <td>7074</td>\n",
       "      <td>6555</td>\n",
       "      <td>5368</td>\n",
       "      <td>5134</td>\n",
       "      <td>6603</td>\n",
       "      <td>6875</td>\n",
       "      <td>7862</td>\n",
       "      <td>...</td>\n",
       "      <td>11921</td>\n",
       "      <td>14976</td>\n",
       "      <td>18317</td>\n",
       "      <td>16476</td>\n",
       "      <td>15591</td>\n",
       "      <td>14348</td>\n",
       "      <td>12548</td>\n",
       "      <td>10244</td>\n",
       "      <td>12258</td>\n",
       "      <td>0</td>\n",
       "    </tr>\n",
       "    <tr>\n",
       "      <th>Manipur</th>\n",
       "      <td>0</td>\n",
       "      <td>19</td>\n",
       "      <td>37</td>\n",
       "      <td>9</td>\n",
       "      <td>41</td>\n",
       "      <td>24</td>\n",
       "      <td>40</td>\n",
       "      <td>5</td>\n",
       "      <td>15</td>\n",
       "      <td>132</td>\n",
       "      <td>...</td>\n",
       "      <td>178</td>\n",
       "      <td>269</td>\n",
       "      <td>237</td>\n",
       "      <td>128</td>\n",
       "      <td>286</td>\n",
       "      <td>252</td>\n",
       "      <td>206</td>\n",
       "      <td>250</td>\n",
       "      <td>135</td>\n",
       "      <td>0</td>\n",
       "    </tr>\n",
       "  </tbody>\n",
       "</table>\n",
       "<p>5 rows × 99 columns</p>\n",
       "</div>"
      ],
      "text/plain": [
       "states                       2020-07-01  2020-07-02  2020-07-03  2020-07-04  \\\n",
       "state                                                                         \n",
       "Tripura                               0          39          93          25   \n",
       "Andaman and Nicobar Islands           0           9           7           3   \n",
       "Puducherry                            0          63          22          80   \n",
       "Maharashtra                           0        6328        6364        7074   \n",
       "Manipur                               0          19          37           9   \n",
       "\n",
       "states                       2020-07-05  2020-07-06  2020-07-07  2020-07-08  \\\n",
       "state                                                                         \n",
       "Tripura                              23         111          24          57   \n",
       "Andaman and Nicobar Islands           6          16           6           2   \n",
       "Puducherry                           42          65          30         110   \n",
       "Maharashtra                        6555        5368        5134        6603   \n",
       "Manipur                              41          24          40           5   \n",
       "\n",
       "states                       2020-07-09  2020-07-10  ...  2020-09-28  \\\n",
       "state                                                ...               \n",
       "Tripura                              16         142  ...         193   \n",
       "Andaman and Nicobar Islands           7           0  ...           9   \n",
       "Puducherry                           49          72  ...         285   \n",
       "Maharashtra                        6875        7862  ...       11921   \n",
       "Manipur                              15         132  ...         178   \n",
       "\n",
       "states                       2020-09-29  2020-09-30  2020-10-01  2020-10-02  \\\n",
       "state                                                                         \n",
       "Tripura                             432         381         332         296   \n",
       "Andaman and Nicobar Islands          18          14          13          10   \n",
       "Puducherry                          381         478         480         510   \n",
       "Maharashtra                       14976       18317       16476       15591   \n",
       "Manipur                             269         237         128         286   \n",
       "\n",
       "states                       2020-10-03  2020-10-04  2020-10-05  2020-10-06  \\\n",
       "state                                                                         \n",
       "Tripura                             190         322         159         275   \n",
       "Andaman and Nicobar Islands          10          16          15          13   \n",
       "Puducherry                          218         337         188         405   \n",
       "Maharashtra                       14348       12548       10244       12258   \n",
       "Manipur                             252         206         250         135   \n",
       "\n",
       "states                       2020-10-07  \n",
       "state                                    \n",
       "Tripura                             237  \n",
       "Andaman and Nicobar Islands           0  \n",
       "Puducherry                            0  \n",
       "Maharashtra                           0  \n",
       "Manipur                               0  \n",
       "\n",
       "[5 rows x 99 columns]"
      ]
     },
     "execution_count": 18,
     "metadata": {},
     "output_type": "execute_result"
    }
   ],
   "source": [
    "#hide\n",
    "dft_ct_new_cases.head()"
   ]
  },
  {
   "cell_type": "code",
   "execution_count": 19,
   "metadata": {
    "execution": {
     "iopub.execute_input": "2020-10-07T04:40:06.847329Z",
     "iopub.status.busy": "2020-10-07T04:40:06.846698Z",
     "iopub.status.idle": "2020-10-07T04:40:10.844933Z",
     "shell.execute_reply": "2020-10-07T04:40:10.845504Z"
    },
    "papermill": {
     "duration": 4.01977,
     "end_time": "2020-10-07T04:40:10.845714",
     "exception": false,
     "start_time": "2020-10-07T04:40:06.825944",
     "status": "completed"
    },
    "tags": []
   },
   "outputs": [
    {
     "data": {
      "image/png": "[encoded data removed]",
      "text/plain": [
       "<Figure size 1296x2016 with 11 Axes>"
      ]
     },
     "metadata": {
      "needs_background": "light"
     },
     "output_type": "display_data"
    }
   ],
   "source": [
    "#hide_input\n",
    "df = dft_ct_new_cases.copy()\n",
    "df.loc['Total'] = df.sum()\n",
    "n = 5\n",
    "ax = []\n",
    "fig = plt.figure(figsize = (18,28))\n",
    "gs = fig.add_gridspec(n+2, 5)\n",
    "# gs = fig.add_gridspec(2, 3)\n",
    "ax1 = fig.add_subplot(gs[0, :])\n",
    "ef = df.loc['Total'].rename_axis('date').reset_index()\n",
    "ef['date'] = ef['date'].astype('datetime64[ns]')\n",
    "ax1.bar(ef.date,ef.Total,alpha=0.3,color='#007acc')\n",
    "ax1.plot(ef.date,ef.Total , marker=\"o\", color='#007acc')\n",
    "ax1.xaxis.set_major_locator(mdates.WeekdayLocator())\n",
    "ax1.xaxis.set_major_formatter(mdates.DateFormatter('%b %d'))\n",
    "ax1.text(0.02, 0.5,'India daily case count', transform = ax1.transAxes, fontsize=25);\n",
    "ax1.spines['right'].set_visible(False)\n",
    "ax1.spines['top'].set_visible(False)\n",
    "\n",
    "ax2 = fig.add_subplot(gs[1,0])\n",
    "ef = df.loc['Maharashtra'].rename_axis('date').reset_index()\n",
    "ef['date'] = ef['date'].astype('datetime64[ns]')\n",
    "\n",
    "ax2.bar(ef.date, ef.Maharashtra,color = '#007acc',alpha=0.5)\n",
    "ax2.xaxis.set_major_locator(mdates.WeekdayLocator())\n",
    "ax2.xaxis.set_major_formatter(mdates.DateFormatter('%b %d'))\n",
    "ax2.set_xticks(ax2.get_xticks()[::3])\n",
    "maxyval = ef.Maharashtra.max()\n",
    "ax2.set_ylim([0,maxyval])\n",
    "ax2.text(0.05, 0.9,'Maharashtra', transform = ax2.transAxes, fontsize=20);\n",
    "ax2.spines['right'].set_visible(False)\n",
    "ax2.spines['top'].set_visible(False)\n",
    "\n",
    "\n",
    "ax3 = fig.add_subplot(gs[1,1])\n",
    "ef = df.loc['Tamil Nadu'].rename_axis('date').reset_index()\n",
    "ef['date'] = ef['date'].astype('datetime64[ns]')\n",
    "ax3.bar(ef.date, ef['Tamil Nadu'],color = '#007acc',alpha=0.5,)\n",
    "ax3.xaxis.set_major_locator(mdates.WeekdayLocator())\n",
    "ax3.xaxis.set_major_formatter(mdates.DateFormatter('%b %d'))\n",
    "ax3.set_xticks(ax3.get_xticks()[::3])\n",
    "ax3.text(0.05, 0.9,'Tamil Nadu', transform = ax3.transAxes, fontsize=20);\n",
    "ax3.spines['right'].set_visible(False)\n",
    "ax3.spines['top'].set_visible(False)\n",
    "\n",
    "ax5 = fig.add_subplot(gs[1,3])\n",
    "ef = df.loc['Telangana'].rename_axis('date').reset_index()\n",
    "ef['date'] = ef['date'].astype('datetime64[ns]')\n",
    "ax5.bar(ef.date, ef['Telangana'],color = '#007acc',alpha=0.5,)\n",
    "ax5.xaxis.set_major_locator(mdates.WeekdayLocator())\n",
    "ax5.xaxis.set_major_formatter(mdates.DateFormatter('%b %d'))\n",
    "ax5.set_xticks(ax5.get_xticks()[::3])\n",
    "ax5.text(0.05, 0.9,'Telangana', transform = ax5.transAxes, fontsize=20);\n",
    "ax5.spines['right'].set_visible(False)\n",
    "ax5.spines['top'].set_visible(False)\n",
    "\n",
    "ax6 = fig.add_subplot(gs[1,4])\n",
    "ef = df.loc['Andhra Pradesh'].rename_axis('date').reset_index()\n",
    "ef['date'] = ef['date'].astype('datetime64[ns]')\n",
    "ax6.bar(ef.date, ef['Andhra Pradesh'],color = '#007acc',alpha=0.5,)\n",
    "ax6.xaxis.set_major_locator(mdates.WeekdayLocator())\n",
    "ax6.xaxis.set_major_formatter(mdates.DateFormatter('%b %d'))\n",
    "ax6.set_xticks(ax6.get_xticks()[::3])\n",
    "ax6.text(0.05, 1,'Andhra Pradesh', transform = ax6.transAxes, fontsize=20);\n",
    "ax6.spines['right'].set_visible(False)\n",
    "ax6.spines['top'].set_visible(False)\n",
    "\n",
    "ax4 = fig.add_subplot(gs[1,2])\n",
    "ef = df.loc['Delhi'].rename_axis('date').reset_index()\n",
    "ef['date'] = ef['date'].astype('datetime64[ns]')\n",
    "ax4.bar(ef.date, ef.Delhi,color = '#007acc',alpha=0.5)\n",
    "ax4.set_xticks([])\n",
    "ax4.xaxis.set_major_locator(mdates.WeekdayLocator())\n",
    "ax4.xaxis.set_major_formatter(mdates.DateFormatter('%b %d'))\n",
    "ax4.set_xticks(ax4.get_xticks()[::3])\n",
    "ax4.spines['right'].set_visible(False)\n",
    "ax4.spines['top'].set_visible(False)\n",
    "\n",
    "ax4.text(0.05, 1,'Delhi', transform = ax4.transAxes, fontsize=20)\n",
    "\n",
    "for i in range(n):\n",
    "    \n",
    "    ax.append(fig.add_subplot(gs[i+2,:]))\n",
    "    ef = df.iloc[i+3].rename_axis('date').reset_index()\n",
    "    ef['date'] = ef['date'].astype('datetime64[ns]')\n",
    "    ax[i].bar(ef.date,ef.iloc[:,-1],color = '#007acc',alpha=0.3)\n",
    "    ax[i].plot(ef.date,ef.iloc[:,-1],marker='o',color='#007acc')\n",
    "    ax[i].text(0.02,0.5,f'{ef.columns.values[-1]}',transform = ax[i].transAxes, fontsize = 20);\n",
    "    ax[i].xaxis.set_major_locator(mdates.WeekdayLocator())\n",
    "    ax[i].xaxis.set_major_formatter(mdates.DateFormatter('%b %d'))\n",
    "    ax[i].set_ylim([0,7000])\n",
    "    ax[i].spines['right'].set_visible(False)\n",
    "    ax[i].spines['top'].set_visible(False)\n",
    "plt.tight_layout()\n"
   ]
  },
  {
   "cell_type": "code",
   "execution_count": 20,
   "metadata": {
    "execution": {
     "iopub.execute_input": "2020-10-07T04:40:10.901011Z",
     "iopub.status.busy": "2020-10-07T04:40:10.900393Z",
     "iopub.status.idle": "2020-10-07T04:40:10.902598Z",
     "shell.execute_reply": "2020-10-07T04:40:10.903154Z"
    },
    "papermill": {
     "duration": 0.034887,
     "end_time": "2020-10-07T04:40:10.903304",
     "exception": false,
     "start_time": "2020-10-07T04:40:10.868417",
     "status": "completed"
    },
    "tags": []
   },
   "outputs": [
    {
     "name": "stdout",
     "output_type": "stream",
     "text": [
      "                                   states    Cases  Deaths   PCases  PDeaths  Cases (+)  Deaths (+)  Fatality Rate\n",
      "                              Maharashtra  1465911   38717  1465911    38717          0           0           2.64\n",
      "                           Andhra Pradesh   729307    6052   729307     6052          0           0           0.83\n",
      "                                Karnataka   657705    9461   657705     9461          0           0           1.44\n",
      "                               Tamil Nadu   630408    9917   630408     9917          0           0           1.57\n",
      "                            Uttar Pradesh   420937    6153   420937     6153          0           0           1.46\n",
      "                                    Delhi   295236    5581   295236     5581          0           0           1.89\n",
      "                              West Bengal   277049    5318   277049     5318          0           0           1.92\n",
      "                                   Kerala   242800     885   242800      885          0           0           0.36\n",
      "                                   Odisha   238003     993   238003      993          0           0           0.42\n",
      "                                Telangana   202594    1181   202594     1181          0           0           0.58\n",
      "                                    Bihar   190123     925   190123      925          0           0           0.49\n",
      "                                    Assam   188902     778   188902      778          0           0           0.41\n",
      "                                Rajasthan   148316    1574   148316     1574          0           0           1.06\n",
      "                                  Gujarat   145361    3522   145361     3522          0           0           2.42\n",
      "                           Madhya Pradesh   138668    2488   138668     2488          0           0           1.79\n",
      "                                  Haryana   136115    1509   136115     1509          0           0           1.11\n",
      "                             Chhattisgarh   128893    1104   128893     1104          0           0           0.86\n",
      "                                   Punjab   120016    3679   120016     3679          0           0           3.07\n",
      "                                Jharkhand    88873     757    88873      757          0           0           0.85\n",
      "                        Jammu and Kashmir    80476    1268    80476     1268          0           0           1.58\n",
      "                              Uttarakhand    52329     677    52329      677          0           0           1.29\n",
      "                                      Goa    36238     468    36238      468          0           0           1.29\n",
      "                               Puducherry    29682     546    29682      546          0           0           1.84\n",
      "                                  Tripura    27542     298    27305      298        237           0           1.08\n",
      "                         Himachal Pradesh    16283     224    16283      224          0           0           1.38\n",
      "                               Chandigarh    12707     180    12707      180          0           0           1.42\n",
      "                                  Manipur    12240      78    12240       78          0           0           0.64\n",
      "                        Arunachal Pradesh    11007      20    11007       20          0           0           0.18\n",
      "                                Meghalaya     7037      60     7037       60          0           0           0.85\n",
      "                                 Nagaland     6662      12     6662       12          0           0           0.18\n",
      "                                   Ladakh     4720      61     4720       61          0           0           1.29\n",
      "              Andaman and Nicobar Islands     3912      54     3912       54          0           0           1.38\n",
      "                                   Sikkim     3135      49     3135       49          0           0           1.56\n",
      " Dadra and Nagar Haveli and Daman and Diu     3101       2     3101        2          0           0           0.06\n",
      "                                  Mizoram     2128       0     2128        0          0           0           0.00\n",
      "                              Lakshadweep        0       0        0        0          0           0            NaN\n"
     ]
    }
   ],
   "source": [
    "#hide_input\n",
    "print(df_table.to_string(index=False))"
   ]
  },
  {
   "cell_type": "code",
   "execution_count": null,
   "metadata": {
    "papermill": {
     "duration": 0.022637,
     "end_time": "2020-10-07T04:40:10.948811",
     "exception": false,
     "start_time": "2020-10-07T04:40:10.926174",
     "status": "completed"
    },
    "tags": []
   },
   "outputs": [],
   "source": []
  },
  {
   "cell_type": "code",
   "execution_count": null,
   "metadata": {
    "papermill": {
     "duration": 0.02304,
     "end_time": "2020-10-07T04:40:10.995297",
     "exception": false,
     "start_time": "2020-10-07T04:40:10.972257",
     "status": "completed"
    },
    "tags": []
   },
   "outputs": [],
   "source": []
  }
 ],
 "metadata": {
  "kernelspec": {
   "display_name": "Python 3",
   "language": "python",
   "name": "python3"
  },
  "language_info": {
   "codemirror_mode": {
    "name": "ipython",
    "version": 3
   },
   "file_extension": ".py",
   "mimetype": "text/x-python",
   "name": "python",
   "nbconvert_exporter": "python",
   "pygments_lexer": "ipython3",
   "version": "3.6.12"
  },
  "papermill": {
   "duration": 10.135447,
   "end_time": "2020-10-07T04:40:11.528708",
   "environment_variables": {},
   "exception": null,
   "input_path": "latest.ipynb",
   "output_path": "latest.ipynb",
   "parameters": {},
   "start_time": "2020-10-07T04:40:01.393261",
   "version": "2.1.2"
  }
 },
 "nbformat": 4,
 "nbformat_minor": 4
}