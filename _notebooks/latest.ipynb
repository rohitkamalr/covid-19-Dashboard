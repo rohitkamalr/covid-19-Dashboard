{
 "cells": [
  {
   "cell_type": "markdown",
   "id": "colored-stack",
   "metadata": {
    "papermill": {
     "duration": 0.022495,
     "end_time": "2021-03-27T12:37:42.727952",
     "exception": false,
     "start_time": "2021-03-27T12:37:42.705457",
     "status": "completed"
    },
    "tags": []
   },
   "source": [
    "# Latest COVID-19 India Matplotlib Overview"
   ]
  },
  {
   "cell_type": "code",
   "execution_count": 1,
   "id": "light-proportion",
   "metadata": {
    "execution": {
     "iopub.execute_input": "2021-03-27T12:37:42.779447Z",
     "iopub.status.busy": "2021-03-27T12:37:42.778801Z",
     "iopub.status.idle": "2021-03-27T12:37:43.392149Z",
     "shell.execute_reply": "2021-03-27T12:37:43.391570Z"
    },
    "papermill": {
     "duration": 0.644056,
     "end_time": "2021-03-27T12:37:43.392309",
     "exception": false,
     "start_time": "2021-03-27T12:37:42.748253",
     "status": "completed"
    },
    "tags": []
   },
   "outputs": [],
   "source": [
    "#hide\n",
    "import pandas as pd\n",
    "import numpy as np\n",
    "import requests\n",
    "import json\n",
    "import matplotlib.pyplot as plt\n",
    "import matplotlib.dates as mdates\n",
    "import matplotlib as mpl\n",
    "from IPython.core.display import display,HTML\n",
    "%matplotlib inline\n",
    "from datetime import date"
   ]
  },
  {
   "cell_type": "code",
   "execution_count": 2,
   "id": "greenhouse-shooting",
   "metadata": {
    "execution": {
     "iopub.execute_input": "2021-03-27T12:37:43.443882Z",
     "iopub.status.busy": "2021-03-27T12:37:43.443237Z",
     "iopub.status.idle": "2021-03-27T12:37:43.707961Z",
     "shell.execute_reply": "2021-03-27T12:37:43.707404Z"
    },
    "papermill": {
     "duration": 0.296785,
     "end_time": "2021-03-27T12:37:43.708106",
     "exception": false,
     "start_time": "2021-03-27T12:37:43.411321",
     "status": "completed"
    },
    "tags": []
   },
   "outputs": [],
   "source": [
    "#hide\n",
    "df  = pd.read_csv('https://api.covid19india.org/csv/latest/states.csv')\n",
    "df = df[['Date','State','Confirmed','Deceased']]\n",
    "df = df.rename(columns={'Confirmed':'Cases', \"Deceased\":'Deaths'})\n",
    "df_cases = df[[\"Date\",'State','Cases']]\n",
    "df_deaths = df[['Date','State','Deaths']]\n",
    "df_cases1 = df_cases.groupby('Date')\n",
    "df_deaths1= df_deaths.groupby('Date')"
   ]
  },
  {
   "cell_type": "code",
   "execution_count": 3,
   "id": "hybrid-cathedral",
   "metadata": {
    "execution": {
     "iopub.execute_input": "2021-03-27T12:37:43.753642Z",
     "iopub.status.busy": "2021-03-27T12:37:43.752979Z",
     "iopub.status.idle": "2021-03-27T12:37:43.772729Z",
     "shell.execute_reply": "2021-03-27T12:37:43.772179Z"
    },
    "papermill": {
     "duration": 0.043676,
     "end_time": "2021-03-27T12:37:43.772855",
     "exception": false,
     "start_time": "2021-03-27T12:37:43.729179",
     "status": "completed"
    },
    "tags": []
   },
   "outputs": [],
   "source": [
    "#hide\n",
    "df_snap = pd.read_csv('data/SnapshotCases-28-July.csv')\n",
    "arr_states = df_snap['states'].unique()\n",
    "arr_dates = df['Date'].unique()\n",
    "df_snap = df_snap.set_index('states')"
   ]
  },
  {
   "cell_type": "code",
   "execution_count": 4,
   "id": "interior-belfast",
   "metadata": {
    "execution": {
     "iopub.execute_input": "2021-03-27T12:37:43.818767Z",
     "iopub.status.busy": "2021-03-27T12:37:43.818139Z",
     "iopub.status.idle": "2021-03-27T12:37:43.820918Z",
     "shell.execute_reply": "2021-03-27T12:37:43.821432Z"
    },
    "papermill": {
     "duration": 0.028778,
     "end_time": "2021-03-27T12:37:43.821572",
     "exception": false,
     "start_time": "2021-03-27T12:37:43.792794",
     "status": "completed"
    },
    "tags": []
   },
   "outputs": [
    {
     "data": {
      "text/plain": [
       "array(['Andaman and Nicobar Islands', 'Andhra Pradesh',\n",
       "       'Arunachal Pradesh', 'Assam', 'Bihar', 'Chandigarh',\n",
       "       'Dadra and Nagar Haveli and Daman and Diu', 'Delhi', 'Goa',\n",
       "       'Gujarat', 'Haryana', 'Himachal Pradesh', 'Jammu and Kashmir',\n",
       "       'Jharkhand', 'Karnataka', 'Kerala', 'Lakshadweep',\n",
       "       'Madhya Pradesh', 'Maharashtra', 'Manipur', 'Meghalaya', 'Mizoram',\n",
       "       'Nagaland', 'Odisha', 'Puducherry', 'Punjab', 'Rajasthan',\n",
       "       'Sikkim', 'Tamil Nadu', 'Telangana', 'Tripura', 'Uttar Pradesh',\n",
       "       'West Bengal', 'Chhattisgarh', 'Ladakh', 'Uttarakhand'],\n",
       "      dtype=object)"
      ]
     },
     "execution_count": 4,
     "metadata": {},
     "output_type": "execute_result"
    }
   ],
   "source": [
    "#hide\n",
    "arr_states[-9] = 'Puducherry'\n",
    "arr_states[-10] = 'Odisha'\n",
    "arr_states[6] = 'Dadra and Nagar Haveli and Daman and Diu'\n",
    "arr_states = np.append(arr_states,np.array(['Chhattisgarh','Ladakh','Uttarakhand']))\n",
    "arr_states"
   ]
  },
  {
   "cell_type": "code",
   "execution_count": 5,
   "id": "behind-manner",
   "metadata": {
    "execution": {
     "iopub.execute_input": "2021-03-27T12:37:43.881588Z",
     "iopub.status.busy": "2021-03-27T12:37:43.880937Z",
     "iopub.status.idle": "2021-03-27T12:37:43.884010Z",
     "shell.execute_reply": "2021-03-27T12:37:43.883504Z"
    },
    "papermill": {
     "duration": 0.043814,
     "end_time": "2021-03-27T12:37:43.884132",
     "exception": false,
     "start_time": "2021-03-27T12:37:43.840318",
     "status": "completed"
    },
    "tags": []
   },
   "outputs": [],
   "source": [
    "#hide\n",
    "dates = []\n",
    "for i in arr_dates:\n",
    "    if i>='2020-07-01':\n",
    "        dates.append(i)\n",
    "dict = {'states':dates}\n",
    "for i in arr_states:\n",
    "    dict[i] = [0]*len(dates)\n",
    "dft_cases = pd.DataFrame(dict)\n",
    "dft_deaths = pd.DataFrame(dict)\n"
   ]
  },
  {
   "cell_type": "code",
   "execution_count": 6,
   "id": "simplified-peter",
   "metadata": {
    "execution": {
     "iopub.execute_input": "2021-03-27T12:37:43.929493Z",
     "iopub.status.busy": "2021-03-27T12:37:43.928839Z",
     "iopub.status.idle": "2021-03-27T12:37:49.002522Z",
     "shell.execute_reply": "2021-03-27T12:37:49.001609Z"
    },
    "papermill": {
     "duration": 5.099469,
     "end_time": "2021-03-27T12:37:49.002669",
     "exception": false,
     "start_time": "2021-03-27T12:37:43.903200",
     "status": "completed"
    },
    "tags": []
   },
   "outputs": [],
   "source": [
    "#hide\n",
    "for i in range(len(dates)):\n",
    "    df1_deaths = df_deaths1.get_group(dates[i])\n",
    "    for j in range(len(df1_deaths.index)):\n",
    "        if df1_deaths.iloc[j,1] in arr_states:\n",
    "            dft_deaths.loc[i,df1_deaths.iloc[j,1]] = df1_deaths.iloc[j,2]\n",
    "dft_deaths = dft_deaths.set_index('states')"
   ]
  },
  {
   "cell_type": "code",
   "execution_count": 7,
   "id": "geological-welding",
   "metadata": {
    "execution": {
     "iopub.execute_input": "2021-03-27T12:37:49.047755Z",
     "iopub.status.busy": "2021-03-27T12:37:49.047114Z",
     "iopub.status.idle": "2021-03-27T12:37:54.056209Z",
     "shell.execute_reply": "2021-03-27T12:37:54.056722Z"
    },
    "papermill": {
     "duration": 5.034846,
     "end_time": "2021-03-27T12:37:54.056883",
     "exception": false,
     "start_time": "2021-03-27T12:37:49.022037",
     "status": "completed"
    },
    "tags": []
   },
   "outputs": [],
   "source": [
    "#hide\n",
    "for i in range(len(dates)):\n",
    "    df1_cases = df_cases1.get_group(dates[i])\n",
    "    for j in range(len(df1_cases.index)):\n",
    "        if df1_cases.iloc[j,1] in arr_states:\n",
    "            dft_cases.loc[i,df1_cases.iloc[j,1]] = df1_cases.iloc[j,2]\n",
    "dft_cases = dft_cases.set_index('states')"
   ]
  },
  {
   "cell_type": "code",
   "execution_count": 8,
   "id": "binary-ratio",
   "metadata": {
    "execution": {
     "iopub.execute_input": "2021-03-27T12:37:54.102194Z",
     "iopub.status.busy": "2021-03-27T12:37:54.101563Z",
     "iopub.status.idle": "2021-03-27T12:37:54.103557Z",
     "shell.execute_reply": "2021-03-27T12:37:54.104039Z"
    },
    "papermill": {
     "duration": 0.027547,
     "end_time": "2021-03-27T12:37:54.104177",
     "exception": false,
     "start_time": "2021-03-27T12:37:54.076630",
     "status": "completed"
    },
    "tags": []
   },
   "outputs": [],
   "source": [
    "#hide\n",
    "dft_cases = dft_cases.T\n",
    "dft_deaths = dft_deaths.T\n",
    "dt_today = dates[-1]\n",
    "dt_yday = dates[-2]"
   ]
  },
  {
   "cell_type": "code",
   "execution_count": 9,
   "id": "boolean-calculator",
   "metadata": {
    "execution": {
     "iopub.execute_input": "2021-03-27T12:37:54.145988Z",
     "iopub.status.busy": "2021-03-27T12:37:54.145366Z",
     "iopub.status.idle": "2021-03-27T12:37:54.150900Z",
     "shell.execute_reply": "2021-03-27T12:37:54.151480Z"
    },
    "papermill": {
     "duration": 0.028861,
     "end_time": "2021-03-27T12:37:54.151611",
     "exception": false,
     "start_time": "2021-03-27T12:37:54.122750",
     "status": "completed"
    },
    "tags": []
   },
   "outputs": [],
   "source": [
    "#hide\n",
    "dft_cases = dft_cases.reset_index()\n",
    "dft_deaths = dft_deaths.reset_index()\n",
    "dft_cases = dft_cases.rename(columns = {'index':'state'})\n",
    "dft_deaths = dft_deaths.rename(columns = {'index':'state'})"
   ]
  },
  {
   "cell_type": "code",
   "execution_count": 10,
   "id": "invisible-johnston",
   "metadata": {
    "execution": {
     "iopub.execute_input": "2021-03-27T12:37:54.196293Z",
     "iopub.status.busy": "2021-03-27T12:37:54.195671Z",
     "iopub.status.idle": "2021-03-27T12:37:54.203040Z",
     "shell.execute_reply": "2021-03-27T12:37:54.203632Z"
    },
    "papermill": {
     "duration": 0.03367,
     "end_time": "2021-03-27T12:37:54.203764",
     "exception": false,
     "start_time": "2021-03-27T12:37:54.170094",
     "status": "completed"
    },
    "tags": []
   },
   "outputs": [],
   "source": [
    "#hide\n",
    "dfc_cases = dft_cases.groupby('state')[dt_today].sum()\n",
    "dfc_deaths = dft_deaths.groupby('state')[dt_today].sum()\n",
    "dfp_cases = dft_cases.groupby('state')[dt_yday].sum()\n",
    "dfp_deaths = dft_deaths.groupby('state')[dt_yday].sum()"
   ]
  },
  {
   "cell_type": "code",
   "execution_count": 11,
   "id": "measured-great",
   "metadata": {
    "execution": {
     "iopub.execute_input": "2021-03-27T12:37:54.249619Z",
     "iopub.status.busy": "2021-03-27T12:37:54.248970Z",
     "iopub.status.idle": "2021-03-27T12:37:54.263257Z",
     "shell.execute_reply": "2021-03-27T12:37:54.262725Z"
    },
    "papermill": {
     "duration": 0.040515,
     "end_time": "2021-03-27T12:37:54.263375",
     "exception": false,
     "start_time": "2021-03-27T12:37:54.222860",
     "status": "completed"
    },
    "tags": []
   },
   "outputs": [
    {
     "data": {
      "text/html": [
       "<div>\n",
       "<style scoped>\n",
       "    .dataframe tbody tr th:only-of-type {\n",
       "        vertical-align: middle;\n",
       "    }\n",
       "\n",
       "    .dataframe tbody tr th {\n",
       "        vertical-align: top;\n",
       "    }\n",
       "\n",
       "    .dataframe thead th {\n",
       "        text-align: right;\n",
       "    }\n",
       "</style>\n",
       "<table border=\"1\" class=\"dataframe\">\n",
       "  <thead>\n",
       "    <tr style=\"text-align: right;\">\n",
       "      <th></th>\n",
       "      <th>states</th>\n",
       "      <th>Cases</th>\n",
       "      <th>Deaths</th>\n",
       "      <th>PCases</th>\n",
       "      <th>PDeaths</th>\n",
       "    </tr>\n",
       "  </thead>\n",
       "  <tbody>\n",
       "    <tr>\n",
       "      <th>0</th>\n",
       "      <td>Maharashtra</td>\n",
       "      <td>2637735</td>\n",
       "      <td>53907</td>\n",
       "      <td>2637735</td>\n",
       "      <td>53907</td>\n",
       "    </tr>\n",
       "    <tr>\n",
       "      <th>1</th>\n",
       "      <td>Kerala</td>\n",
       "      <td>1113723</td>\n",
       "      <td>4554</td>\n",
       "      <td>1113723</td>\n",
       "      <td>4554</td>\n",
       "    </tr>\n",
       "    <tr>\n",
       "      <th>2</th>\n",
       "      <td>Karnataka</td>\n",
       "      <td>981044</td>\n",
       "      <td>12484</td>\n",
       "      <td>981044</td>\n",
       "      <td>12484</td>\n",
       "    </tr>\n",
       "    <tr>\n",
       "      <th>3</th>\n",
       "      <td>Andhra Pradesh</td>\n",
       "      <td>896863</td>\n",
       "      <td>7203</td>\n",
       "      <td>896863</td>\n",
       "      <td>7203</td>\n",
       "    </tr>\n",
       "    <tr>\n",
       "      <th>4</th>\n",
       "      <td>Tamil Nadu</td>\n",
       "      <td>875190</td>\n",
       "      <td>12650</td>\n",
       "      <td>875190</td>\n",
       "      <td>12650</td>\n",
       "    </tr>\n",
       "  </tbody>\n",
       "</table>\n",
       "</div>"
      ],
      "text/plain": [
       "           states    Cases  Deaths   PCases  PDeaths\n",
       "0     Maharashtra  2637735   53907  2637735    53907\n",
       "1          Kerala  1113723    4554  1113723     4554\n",
       "2       Karnataka   981044   12484   981044    12484\n",
       "3  Andhra Pradesh   896863    7203   896863     7203\n",
       "4      Tamil Nadu   875190   12650   875190    12650"
      ]
     },
     "execution_count": 11,
     "metadata": {},
     "output_type": "execute_result"
    }
   ],
   "source": [
    "#hide\n",
    "df_table = pd.DataFrame({'states': dfc_cases.index, 'Cases': dfc_cases.values, 'Deaths': dfc_deaths.values, 'PCases': dfp_cases.values, 'PDeaths': dfp_deaths.values}).set_index('states')\n",
    "df_table = df_table.sort_values(by = ['Cases','Deaths'], ascending = [False, False])\n",
    "df_table = df_table.reset_index()\n",
    "df_table.head()"
   ]
  },
  {
   "cell_type": "code",
   "execution_count": 12,
   "id": "found-montreal",
   "metadata": {
    "execution": {
     "iopub.execute_input": "2021-03-27T12:37:54.310419Z",
     "iopub.status.busy": "2021-03-27T12:37:54.309797Z",
     "iopub.status.idle": "2021-03-27T12:37:54.318632Z",
     "shell.execute_reply": "2021-03-27T12:37:54.319215Z"
    },
    "papermill": {
     "duration": 0.034809,
     "end_time": "2021-03-27T12:37:54.319348",
     "exception": false,
     "start_time": "2021-03-27T12:37:54.284539",
     "status": "completed"
    },
    "tags": []
   },
   "outputs": [],
   "source": [
    "#hide\n",
    "for c in 'Cases, Deaths'.split(', '):\n",
    "    df_table[f'{c} (+)'] = (df_table[c] - df_table[f'P{c}']).clip(0)\n",
    "df_table['Fatality Rate'] = (100* df_table['Deaths']/ df_table['Cases']).round(2)"
   ]
  },
  {
   "cell_type": "code",
   "execution_count": 13,
   "id": "minus-savage",
   "metadata": {
    "execution": {
     "iopub.execute_input": "2021-03-27T12:37:54.368959Z",
     "iopub.status.busy": "2021-03-27T12:37:54.368342Z",
     "iopub.status.idle": "2021-03-27T12:37:54.371385Z",
     "shell.execute_reply": "2021-03-27T12:37:54.371982Z"
    },
    "papermill": {
     "duration": 0.033481,
     "end_time": "2021-03-27T12:37:54.372113",
     "exception": false,
     "start_time": "2021-03-27T12:37:54.338632",
     "status": "completed"
    },
    "tags": []
   },
   "outputs": [
    {
     "data": {
      "text/html": [
       "<div>\n",
       "<style scoped>\n",
       "    .dataframe tbody tr th:only-of-type {\n",
       "        vertical-align: middle;\n",
       "    }\n",
       "\n",
       "    .dataframe tbody tr th {\n",
       "        vertical-align: top;\n",
       "    }\n",
       "\n",
       "    .dataframe thead th {\n",
       "        text-align: right;\n",
       "    }\n",
       "</style>\n",
       "<table border=\"1\" class=\"dataframe\">\n",
       "  <thead>\n",
       "    <tr style=\"text-align: right;\">\n",
       "      <th></th>\n",
       "      <th>states</th>\n",
       "      <th>Cases</th>\n",
       "      <th>Deaths</th>\n",
       "      <th>PCases</th>\n",
       "      <th>PDeaths</th>\n",
       "      <th>Cases (+)</th>\n",
       "      <th>Deaths (+)</th>\n",
       "      <th>Fatality Rate</th>\n",
       "    </tr>\n",
       "  </thead>\n",
       "  <tbody>\n",
       "    <tr>\n",
       "      <th>0</th>\n",
       "      <td>Maharashtra</td>\n",
       "      <td>2637735</td>\n",
       "      <td>53907</td>\n",
       "      <td>2637735</td>\n",
       "      <td>53907</td>\n",
       "      <td>0</td>\n",
       "      <td>0</td>\n",
       "      <td>2.04</td>\n",
       "    </tr>\n",
       "    <tr>\n",
       "      <th>1</th>\n",
       "      <td>Kerala</td>\n",
       "      <td>1113723</td>\n",
       "      <td>4554</td>\n",
       "      <td>1113723</td>\n",
       "      <td>4554</td>\n",
       "      <td>0</td>\n",
       "      <td>0</td>\n",
       "      <td>0.41</td>\n",
       "    </tr>\n",
       "    <tr>\n",
       "      <th>2</th>\n",
       "      <td>Karnataka</td>\n",
       "      <td>981044</td>\n",
       "      <td>12484</td>\n",
       "      <td>981044</td>\n",
       "      <td>12484</td>\n",
       "      <td>0</td>\n",
       "      <td>0</td>\n",
       "      <td>1.27</td>\n",
       "    </tr>\n",
       "    <tr>\n",
       "      <th>3</th>\n",
       "      <td>Andhra Pradesh</td>\n",
       "      <td>896863</td>\n",
       "      <td>7203</td>\n",
       "      <td>896863</td>\n",
       "      <td>7203</td>\n",
       "      <td>0</td>\n",
       "      <td>0</td>\n",
       "      <td>0.80</td>\n",
       "    </tr>\n",
       "    <tr>\n",
       "      <th>4</th>\n",
       "      <td>Tamil Nadu</td>\n",
       "      <td>875190</td>\n",
       "      <td>12650</td>\n",
       "      <td>875190</td>\n",
       "      <td>12650</td>\n",
       "      <td>0</td>\n",
       "      <td>0</td>\n",
       "      <td>1.45</td>\n",
       "    </tr>\n",
       "  </tbody>\n",
       "</table>\n",
       "</div>"
      ],
      "text/plain": [
       "           states    Cases  Deaths   PCases  PDeaths  Cases (+)  Deaths (+)  \\\n",
       "0     Maharashtra  2637735   53907  2637735    53907          0           0   \n",
       "1          Kerala  1113723    4554  1113723     4554          0           0   \n",
       "2       Karnataka   981044   12484   981044    12484          0           0   \n",
       "3  Andhra Pradesh   896863    7203   896863     7203          0           0   \n",
       "4      Tamil Nadu   875190   12650   875190    12650          0           0   \n",
       "\n",
       "   Fatality Rate  \n",
       "0           2.04  \n",
       "1           0.41  \n",
       "2           1.27  \n",
       "3           0.80  \n",
       "4           1.45  "
      ]
     },
     "execution_count": 13,
     "metadata": {},
     "output_type": "execute_result"
    }
   ],
   "source": [
    "#hide\n",
    "df_table.head()"
   ]
  },
  {
   "cell_type": "code",
   "execution_count": 14,
   "id": "false-peter",
   "metadata": {
    "execution": {
     "iopub.execute_input": "2021-03-27T12:37:54.417210Z",
     "iopub.status.busy": "2021-03-27T12:37:54.416566Z",
     "iopub.status.idle": "2021-03-27T12:37:54.434247Z",
     "shell.execute_reply": "2021-03-27T12:37:54.434789Z"
    },
    "papermill": {
     "duration": 0.042663,
     "end_time": "2021-03-27T12:37:54.434928",
     "exception": false,
     "start_time": "2021-03-27T12:37:54.392265",
     "status": "completed"
    },
    "tags": []
   },
   "outputs": [
    {
     "data": {
      "text/plain": [
       "{'updated': '2021-03-27',\n",
       " 'since': '2021-03-26',\n",
       " 'Cases': 11909225,\n",
       " 'PCases': 11908373,\n",
       " 'Deaths': 161279,\n",
       " 'PDeaths': 161275,\n",
       " 'Cases (+)': 852,\n",
       " 'Deaths (+)': 4}"
      ]
     },
     "execution_count": 14,
     "metadata": {},
     "output_type": "execute_result"
    }
   ],
   "source": [
    "#hide\n",
    "summary = {'updated':dates[-1], 'since':dates[-2]}\n",
    "list_names = ['Cases', 'PCases', 'Deaths', 'PDeaths', 'Cases (+)', 'Deaths (+)']\n",
    "for name in list_names:\n",
    "    summary[name] = df_table.sum()[name]\n",
    "summary"
   ]
  },
  {
   "cell_type": "code",
   "execution_count": 15,
   "id": "packed-viewer",
   "metadata": {
    "execution": {
     "iopub.execute_input": "2021-03-27T12:37:54.491205Z",
     "iopub.status.busy": "2021-03-27T12:37:54.490547Z",
     "iopub.status.idle": "2021-03-27T12:37:54.494010Z",
     "shell.execute_reply": "2021-03-27T12:37:54.494529Z"
    },
    "papermill": {
     "duration": 0.038777,
     "end_time": "2021-03-27T12:37:54.494684",
     "exception": false,
     "start_time": "2021-03-27T12:37:54.455907",
     "status": "completed"
    },
    "tags": []
   },
   "outputs": [],
   "source": [
    "#hide\n",
    "overview = '''\n",
    "<!-- #######  HTML!! #########-->\n",
    "<h1 style=\"color: #5e9ca0; text-align: center;\">India</h1>\n",
    "<p style=\"text-align: center;\">Last update: <strong>{update}</strong></p>\n",
    "<p style=\"text-align: center;\">Confirmed cases:</p>\n",
    "<p style=\"text-align: center;font-size:24px;\">{cases} (<span style=\"color: #ff0000;\">+{new}</span>)</p>\n",
    "<p style=\"text-align: center;\">Confirmed deaths:</p>\n",
    "<p style=\"text-align: center;font-size:24px;\">{deaths} (<span style=\"color: #ff0000;\">+{dnew}</span>)</p>\n",
    "'''"
   ]
  },
  {
   "cell_type": "code",
   "execution_count": 16,
   "id": "phantom-lover",
   "metadata": {
    "execution": {
     "iopub.execute_input": "2021-03-27T12:37:54.612898Z",
     "iopub.status.busy": "2021-03-27T12:37:54.612168Z",
     "iopub.status.idle": "2021-03-27T12:37:54.619054Z",
     "shell.execute_reply": "2021-03-27T12:37:54.618501Z"
    },
    "papermill": {
     "duration": 0.102331,
     "end_time": "2021-03-27T12:37:54.619186",
     "exception": false,
     "start_time": "2021-03-27T12:37:54.516855",
     "status": "completed"
    },
    "tags": []
   },
   "outputs": [
    {
     "data": {
      "text/html": [
       "\n",
       "<!-- #######  HTML!! #########-->\n",
       "<h1 style=\"color: #5e9ca0; text-align: center;\">India</h1>\n",
       "<p style=\"text-align: center;\">Last update: <strong>2021-03-27</strong></p>\n",
       "<p style=\"text-align: center;\">Confirmed cases:</p>\n",
       "<p style=\"text-align: center;font-size:24px;\">11909225 (<span style=\"color: #ff0000;\">+852</span>)</p>\n",
       "<p style=\"text-align: center;\">Confirmed deaths:</p>\n",
       "<p style=\"text-align: center;font-size:24px;\">161279 (<span style=\"color: #ff0000;\">+4</span>)</p>\n"
      ],
      "text/plain": [
       "<IPython.core.display.HTML object>"
      ]
     },
     "metadata": {},
     "output_type": "display_data"
    }
   ],
   "source": [
    "#hide_input\n",
    "update = summary['updated']\n",
    "cases = summary['Cases']\n",
    "new = summary['Cases (+)']\n",
    "deaths = summary['Deaths']\n",
    "dnew = summary['Deaths (+)']\n",
    "\n",
    "html = HTML(overview.format(update=update, cases=cases,new=new,deaths=deaths,dnew=dnew))\n",
    "\n",
    "display(html)"
   ]
  },
  {
   "cell_type": "code",
   "execution_count": 17,
   "id": "sealed-reset",
   "metadata": {
    "execution": {
     "iopub.execute_input": "2021-03-27T12:37:54.668169Z",
     "iopub.status.busy": "2021-03-27T12:37:54.667525Z",
     "iopub.status.idle": "2021-03-27T12:37:54.675449Z",
     "shell.execute_reply": "2021-03-27T12:37:54.674897Z"
    },
    "papermill": {
     "duration": 0.035406,
     "end_time": "2021-03-27T12:37:54.675578",
     "exception": false,
     "start_time": "2021-03-27T12:37:54.640172",
     "status": "completed"
    },
    "tags": []
   },
   "outputs": [],
   "source": [
    "#hide\n",
    "dt_cols = list(dft_cases.columns[1:])\n",
    "dft_ct_new_cases = dft_cases.groupby('state')[dt_cols].sum().diff(axis=1).fillna(0).astype(int)\n",
    "dft_ct_new_cases.sort_values(by = dates[-1], ascending = False,inplace = True)"
   ]
  },
  {
   "cell_type": "code",
   "execution_count": 18,
   "id": "designed-constant",
   "metadata": {
    "execution": {
     "iopub.execute_input": "2021-03-27T12:37:54.738602Z",
     "iopub.status.busy": "2021-03-27T12:37:54.737966Z",
     "iopub.status.idle": "2021-03-27T12:37:54.740873Z",
     "shell.execute_reply": "2021-03-27T12:37:54.741446Z"
    },
    "papermill": {
     "duration": 0.044497,
     "end_time": "2021-03-27T12:37:54.741596",
     "exception": false,
     "start_time": "2021-03-27T12:37:54.697099",
     "status": "completed"
    },
    "tags": []
   },
   "outputs": [
    {
     "data": {
      "text/html": [
       "<div>\n",
       "<style scoped>\n",
       "    .dataframe tbody tr th:only-of-type {\n",
       "        vertical-align: middle;\n",
       "    }\n",
       "\n",
       "    .dataframe tbody tr th {\n",
       "        vertical-align: top;\n",
       "    }\n",
       "\n",
       "    .dataframe thead th {\n",
       "        text-align: right;\n",
       "    }\n",
       "</style>\n",
       "<table border=\"1\" class=\"dataframe\">\n",
       "  <thead>\n",
       "    <tr style=\"text-align: right;\">\n",
       "      <th>states</th>\n",
       "      <th>2020-07-01</th>\n",
       "      <th>2020-07-02</th>\n",
       "      <th>2020-07-03</th>\n",
       "      <th>2020-07-04</th>\n",
       "      <th>2020-07-05</th>\n",
       "      <th>2020-07-06</th>\n",
       "      <th>2020-07-07</th>\n",
       "      <th>2020-07-08</th>\n",
       "      <th>2020-07-09</th>\n",
       "      <th>2020-07-10</th>\n",
       "      <th>...</th>\n",
       "      <th>2021-03-18</th>\n",
       "      <th>2021-03-19</th>\n",
       "      <th>2021-03-20</th>\n",
       "      <th>2021-03-21</th>\n",
       "      <th>2021-03-22</th>\n",
       "      <th>2021-03-23</th>\n",
       "      <th>2021-03-24</th>\n",
       "      <th>2021-03-25</th>\n",
       "      <th>2021-03-26</th>\n",
       "      <th>2021-03-27</th>\n",
       "    </tr>\n",
       "    <tr>\n",
       "      <th>state</th>\n",
       "      <th></th>\n",
       "      <th></th>\n",
       "      <th></th>\n",
       "      <th></th>\n",
       "      <th></th>\n",
       "      <th></th>\n",
       "      <th></th>\n",
       "      <th></th>\n",
       "      <th></th>\n",
       "      <th></th>\n",
       "      <th></th>\n",
       "      <th></th>\n",
       "      <th></th>\n",
       "      <th></th>\n",
       "      <th></th>\n",
       "      <th></th>\n",
       "      <th></th>\n",
       "      <th></th>\n",
       "      <th></th>\n",
       "      <th></th>\n",
       "      <th></th>\n",
       "    </tr>\n",
       "  </thead>\n",
       "  <tbody>\n",
       "    <tr>\n",
       "      <th>Telangana</th>\n",
       "      <td>0</td>\n",
       "      <td>1213</td>\n",
       "      <td>1892</td>\n",
       "      <td>1850</td>\n",
       "      <td>1590</td>\n",
       "      <td>1831</td>\n",
       "      <td>1879</td>\n",
       "      <td>1924</td>\n",
       "      <td>1410</td>\n",
       "      <td>1278</td>\n",
       "      <td>...</td>\n",
       "      <td>278</td>\n",
       "      <td>313</td>\n",
       "      <td>364</td>\n",
       "      <td>394</td>\n",
       "      <td>337</td>\n",
       "      <td>412</td>\n",
       "      <td>431</td>\n",
       "      <td>493</td>\n",
       "      <td>518</td>\n",
       "      <td>495</td>\n",
       "    </tr>\n",
       "    <tr>\n",
       "      <th>Odisha</th>\n",
       "      <td>0</td>\n",
       "      <td>229</td>\n",
       "      <td>561</td>\n",
       "      <td>495</td>\n",
       "      <td>469</td>\n",
       "      <td>456</td>\n",
       "      <td>571</td>\n",
       "      <td>527</td>\n",
       "      <td>577</td>\n",
       "      <td>755</td>\n",
       "      <td>...</td>\n",
       "      <td>84</td>\n",
       "      <td>110</td>\n",
       "      <td>120</td>\n",
       "      <td>98</td>\n",
       "      <td>146</td>\n",
       "      <td>113</td>\n",
       "      <td>170</td>\n",
       "      <td>214</td>\n",
       "      <td>234</td>\n",
       "      <td>210</td>\n",
       "    </tr>\n",
       "    <tr>\n",
       "      <th>Puducherry</th>\n",
       "      <td>0</td>\n",
       "      <td>63</td>\n",
       "      <td>22</td>\n",
       "      <td>80</td>\n",
       "      <td>42</td>\n",
       "      <td>65</td>\n",
       "      <td>30</td>\n",
       "      <td>110</td>\n",
       "      <td>49</td>\n",
       "      <td>72</td>\n",
       "      <td>...</td>\n",
       "      <td>81</td>\n",
       "      <td>61</td>\n",
       "      <td>60</td>\n",
       "      <td>64</td>\n",
       "      <td>47</td>\n",
       "      <td>87</td>\n",
       "      <td>125</td>\n",
       "      <td>95</td>\n",
       "      <td>96</td>\n",
       "      <td>128</td>\n",
       "    </tr>\n",
       "    <tr>\n",
       "      <th>Tripura</th>\n",
       "      <td>0</td>\n",
       "      <td>39</td>\n",
       "      <td>93</td>\n",
       "      <td>25</td>\n",
       "      <td>23</td>\n",
       "      <td>111</td>\n",
       "      <td>24</td>\n",
       "      <td>57</td>\n",
       "      <td>16</td>\n",
       "      <td>142</td>\n",
       "      <td>...</td>\n",
       "      <td>3</td>\n",
       "      <td>10</td>\n",
       "      <td>5</td>\n",
       "      <td>5</td>\n",
       "      <td>0</td>\n",
       "      <td>6</td>\n",
       "      <td>9</td>\n",
       "      <td>1</td>\n",
       "      <td>0</td>\n",
       "      <td>10</td>\n",
       "    </tr>\n",
       "    <tr>\n",
       "      <th>Dadra and Nagar Haveli and Daman and Diu</th>\n",
       "      <td>0</td>\n",
       "      <td>25</td>\n",
       "      <td>50</td>\n",
       "      <td>37</td>\n",
       "      <td>32</td>\n",
       "      <td>27</td>\n",
       "      <td>27</td>\n",
       "      <td>15</td>\n",
       "      <td>14</td>\n",
       "      <td>14</td>\n",
       "      <td>...</td>\n",
       "      <td>9</td>\n",
       "      <td>10</td>\n",
       "      <td>7</td>\n",
       "      <td>10</td>\n",
       "      <td>4</td>\n",
       "      <td>7</td>\n",
       "      <td>11</td>\n",
       "      <td>26</td>\n",
       "      <td>17</td>\n",
       "      <td>6</td>\n",
       "    </tr>\n",
       "  </tbody>\n",
       "</table>\n",
       "<p>5 rows × 270 columns</p>\n",
       "</div>"
      ],
      "text/plain": [
       "states                                    2020-07-01  2020-07-02  2020-07-03  \\\n",
       "state                                                                          \n",
       "Telangana                                          0        1213        1892   \n",
       "Odisha                                             0         229         561   \n",
       "Puducherry                                         0          63          22   \n",
       "Tripura                                            0          39          93   \n",
       "Dadra and Nagar Haveli and Daman and Diu           0          25          50   \n",
       "\n",
       "states                                    2020-07-04  2020-07-05  2020-07-06  \\\n",
       "state                                                                          \n",
       "Telangana                                       1850        1590        1831   \n",
       "Odisha                                           495         469         456   \n",
       "Puducherry                                        80          42          65   \n",
       "Tripura                                           25          23         111   \n",
       "Dadra and Nagar Haveli and Daman and Diu          37          32          27   \n",
       "\n",
       "states                                    2020-07-07  2020-07-08  2020-07-09  \\\n",
       "state                                                                          \n",
       "Telangana                                       1879        1924        1410   \n",
       "Odisha                                           571         527         577   \n",
       "Puducherry                                        30         110          49   \n",
       "Tripura                                           24          57          16   \n",
       "Dadra and Nagar Haveli and Daman and Diu          27          15          14   \n",
       "\n",
       "states                                    2020-07-10  ...  2021-03-18  \\\n",
       "state                                                 ...               \n",
       "Telangana                                       1278  ...         278   \n",
       "Odisha                                           755  ...          84   \n",
       "Puducherry                                        72  ...          81   \n",
       "Tripura                                          142  ...           3   \n",
       "Dadra and Nagar Haveli and Daman and Diu          14  ...           9   \n",
       "\n",
       "states                                    2021-03-19  2021-03-20  2021-03-21  \\\n",
       "state                                                                          \n",
       "Telangana                                        313         364         394   \n",
       "Odisha                                           110         120          98   \n",
       "Puducherry                                        61          60          64   \n",
       "Tripura                                           10           5           5   \n",
       "Dadra and Nagar Haveli and Daman and Diu          10           7          10   \n",
       "\n",
       "states                                    2021-03-22  2021-03-23  2021-03-24  \\\n",
       "state                                                                          \n",
       "Telangana                                        337         412         431   \n",
       "Odisha                                           146         113         170   \n",
       "Puducherry                                        47          87         125   \n",
       "Tripura                                            0           6           9   \n",
       "Dadra and Nagar Haveli and Daman and Diu           4           7          11   \n",
       "\n",
       "states                                    2021-03-25  2021-03-26  2021-03-27  \n",
       "state                                                                         \n",
       "Telangana                                        493         518         495  \n",
       "Odisha                                           214         234         210  \n",
       "Puducherry                                        95          96         128  \n",
       "Tripura                                            1           0          10  \n",
       "Dadra and Nagar Haveli and Daman and Diu          26          17           6  \n",
       "\n",
       "[5 rows x 270 columns]"
      ]
     },
     "execution_count": 18,
     "metadata": {},
     "output_type": "execute_result"
    }
   ],
   "source": [
    "#hide\n",
    "dft_ct_new_cases.head()"
   ]
  },
  {
   "cell_type": "code",
   "execution_count": 19,
   "id": "responsible-nightlife",
   "metadata": {
    "execution": {
     "iopub.execute_input": "2021-03-27T12:37:54.820335Z",
     "iopub.status.busy": "2021-03-27T12:37:54.808373Z",
     "iopub.status.idle": "2021-03-27T12:38:07.043365Z",
     "shell.execute_reply": "2021-03-27T12:38:07.043893Z"
    },
    "papermill": {
     "duration": 12.28082,
     "end_time": "2021-03-27T12:38:07.044061",
     "exception": false,
     "start_time": "2021-03-27T12:37:54.763241",
     "status": "completed"
    },
    "tags": []
   },
   "outputs": [
    {
     "data": {
      "image/png": "[encoded data removed]",
      "text/plain": [
       "<Figure size 1296x2016 with 11 Axes>"
      ]
     },
     "metadata": {
      "needs_background": "light"
     },
     "output_type": "display_data"
    }
   ],
   "source": [
    "#hide_input\n",
    "df = dft_ct_new_cases.copy()\n",
    "df.loc['Total'] = df.sum()\n",
    "n = 5\n",
    "ax = []\n",
    "fig = plt.figure(figsize = (18,28))\n",
    "gs = fig.add_gridspec(n+2, 5)\n",
    "# gs = fig.add_gridspec(2, 3)\n",
    "ax1 = fig.add_subplot(gs[0, :])\n",
    "ef = df.loc['Total'].rename_axis('date').reset_index()\n",
    "ef['date'] = ef['date'].astype('datetime64[ns]')\n",
    "ax1.bar(ef.date,ef.Total,alpha=0.3,color='#007acc')\n",
    "ax1.plot(ef.date,ef.Total , marker=\"o\", color='#007acc')\n",
    "ax1.xaxis.set_major_locator(mdates.WeekdayLocator())\n",
    "ax1.xaxis.set_major_formatter(mdates.DateFormatter('%b %d'))\n",
    "ax1.text(0.02, 0.5,'India daily case count', transform = ax1.transAxes, fontsize=25);\n",
    "ax1.spines['right'].set_visible(False)\n",
    "ax1.spines['top'].set_visible(False)\n",
    "\n",
    "ax2 = fig.add_subplot(gs[1,0])\n",
    "ef = df.loc['Maharashtra'].rename_axis('date').reset_index()\n",
    "ef['date'] = ef['date'].astype('datetime64[ns]')\n",
    "\n",
    "ax2.bar(ef.date, ef.Maharashtra,color = '#007acc',alpha=0.5)\n",
    "ax2.xaxis.set_major_locator(mdates.WeekdayLocator())\n",
    "ax2.xaxis.set_major_formatter(mdates.DateFormatter('%b %d'))\n",
    "ax2.set_xticks(ax2.get_xticks()[::3])\n",
    "maxyval = ef.Maharashtra.max()\n",
    "ax2.set_ylim([0,maxyval])\n",
    "ax2.text(0.05, 0.9,'Maharashtra', transform = ax2.transAxes, fontsize=20);\n",
    "ax2.spines['right'].set_visible(False)\n",
    "ax2.spines['top'].set_visible(False)\n",
    "\n",
    "\n",
    "ax3 = fig.add_subplot(gs[1,1])\n",
    "ef = df.loc['Tamil Nadu'].rename_axis('date').reset_index()\n",
    "ef['date'] = ef['date'].astype('datetime64[ns]')\n",
    "ax3.bar(ef.date, ef['Tamil Nadu'],color = '#007acc',alpha=0.5,)\n",
    "ax3.xaxis.set_major_locator(mdates.WeekdayLocator())\n",
    "ax3.xaxis.set_major_formatter(mdates.DateFormatter('%b %d'))\n",
    "ax3.set_xticks(ax3.get_xticks()[::3])\n",
    "ax3.text(0.05, 0.9,'Tamil Nadu', transform = ax3.transAxes, fontsize=20);\n",
    "ax3.spines['right'].set_visible(False)\n",
    "ax3.spines['top'].set_visible(False)\n",
    "\n",
    "ax5 = fig.add_subplot(gs[1,3])\n",
    "ef = df.loc['Telangana'].rename_axis('date').reset_index()\n",
    "ef['date'] = ef['date'].astype('datetime64[ns]')\n",
    "ax5.bar(ef.date, ef['Telangana'],color = '#007acc',alpha=0.5,)\n",
    "ax5.xaxis.set_major_locator(mdates.WeekdayLocator())\n",
    "ax5.xaxis.set_major_formatter(mdates.DateFormatter('%b %d'))\n",
    "ax5.set_xticks(ax5.get_xticks()[::3])\n",
    "ax5.text(0.05, 0.9,'Telangana', transform = ax5.transAxes, fontsize=20);\n",
    "ax5.spines['right'].set_visible(False)\n",
    "ax5.spines['top'].set_visible(False)\n",
    "\n",
    "ax6 = fig.add_subplot(gs[1,4])\n",
    "ef = df.loc['Andhra Pradesh'].rename_axis('date').reset_index()\n",
    "ef['date'] = ef['date'].astype('datetime64[ns]')\n",
    "ax6.bar(ef.date, ef['Andhra Pradesh'],color = '#007acc',alpha=0.5,)\n",
    "ax6.xaxis.set_major_locator(mdates.WeekdayLocator())\n",
    "ax6.xaxis.set_major_formatter(mdates.DateFormatter('%b %d'))\n",
    "ax6.set_xticks(ax6.get_xticks()[::3])\n",
    "ax6.text(0.05, 1,'Andhra Pradesh', transform = ax6.transAxes, fontsize=20);\n",
    "ax6.spines['right'].set_visible(False)\n",
    "ax6.spines['top'].set_visible(False)\n",
    "\n",
    "ax4 = fig.add_subplot(gs[1,2])\n",
    "ef = df.loc['Delhi'].rename_axis('date').reset_index()\n",
    "ef['date'] = ef['date'].astype('datetime64[ns]')\n",
    "ax4.bar(ef.date, ef.Delhi,color = '#007acc',alpha=0.5)\n",
    "ax4.set_xticks([])\n",
    "ax4.xaxis.set_major_locator(mdates.WeekdayLocator())\n",
    "ax4.xaxis.set_major_formatter(mdates.DateFormatter('%b %d'))\n",
    "ax4.set_xticks(ax4.get_xticks()[::3])\n",
    "ax4.spines['right'].set_visible(False)\n",
    "ax4.spines['top'].set_visible(False)\n",
    "\n",
    "ax4.text(0.05, 1,'Delhi', transform = ax4.transAxes, fontsize=20)\n",
    "\n",
    "for i in range(n):\n",
    "    \n",
    "    ax.append(fig.add_subplot(gs[i+2,:]))\n",
    "    ef = df.iloc[i+3].rename_axis('date').reset_index()\n",
    "    ef['date'] = ef['date'].astype('datetime64[ns]')\n",
    "    ax[i].bar(ef.date,ef.iloc[:,-1],color = '#007acc',alpha=0.3)\n",
    "    ax[i].plot(ef.date,ef.iloc[:,-1],marker='o',color='#007acc')\n",
    "    ax[i].text(0.02,0.5,f'{ef.columns.values[-1]}',transform = ax[i].transAxes, fontsize = 20);\n",
    "    ax[i].xaxis.set_major_locator(mdates.WeekdayLocator())\n",
    "    ax[i].xaxis.set_major_formatter(mdates.DateFormatter('%b %d'))\n",
    "    ax[i].set_ylim([0,7000])\n",
    "    ax[i].spines['right'].set_visible(False)\n",
    "    ax[i].spines['top'].set_visible(False)\n",
    "plt.tight_layout()\n"
   ]
  },
  {
   "cell_type": "code",
   "execution_count": 20,
   "id": "dress-forge",
   "metadata": {
    "execution": {
     "iopub.execute_input": "2021-03-27T12:38:07.108256Z",
     "iopub.status.busy": "2021-03-27T12:38:07.107605Z",
     "iopub.status.idle": "2021-03-27T12:38:07.110368Z",
     "shell.execute_reply": "2021-03-27T12:38:07.110892Z"
    },
    "papermill": {
     "duration": 0.039677,
     "end_time": "2021-03-27T12:38:07.111041",
     "exception": false,
     "start_time": "2021-03-27T12:38:07.071364",
     "status": "completed"
    },
    "tags": []
   },
   "outputs": [
    {
     "name": "stdout",
     "output_type": "stream",
     "text": [
      "                                   states    Cases  Deaths   PCases  PDeaths  Cases (+)  Deaths (+)  Fatality Rate\n",
      "                              Maharashtra  2637735   53907  2637735    53907          0           0           2.04\n",
      "                                   Kerala  1113723    4554  1113723     4554          0           0           0.41\n",
      "                                Karnataka   981044   12484   981044    12484          0           0           1.27\n",
      "                           Andhra Pradesh   896863    7203   896863     7203          0           0           0.80\n",
      "                               Tamil Nadu   875190   12650   875190    12650          0           0           1.45\n",
      "                                    Delhi   654276   10987   654276    10987          0           0           1.68\n",
      "                            Uttar Pradesh   611301    8779   611301     8779          0           0           1.44\n",
      "                              West Bengal   583027   10320   583027    10320          0           0           1.77\n",
      "                                   Odisha   339904    1973   339694     1972        210           1           0.58\n",
      "                             Chhattisgarh   334778    4048   334778     4048          0           0           1.21\n",
      "                                Rajasthan   328743    2811   328743     2811          0           0           0.86\n",
      "                                Telangana   305804    1685   305309     1683        495           2           0.55\n",
      "                                  Gujarat   296320    4479   296320     4479          0           0           1.51\n",
      "                                  Haryana   284944    3125   284944     3125          0           0           1.10\n",
      "                           Madhya Pradesh   284265    3937   284265     3937          0           0           1.38\n",
      "                                    Bihar   264409    1569   264409     1569          0           0           0.59\n",
      "                                   Punjab   226059    6576   226059     6576          0           0           2.91\n",
      "                                    Assam   218176    1104   218176     1104          0           0           0.51\n",
      "                        Jammu and Kashmir   129413    1984   129413     1984          0           0           1.53\n",
      "                                Jharkhand   122281    1103   122281     1103          0           0           0.90\n",
      "                              Uttarakhand    99258    1708    99258     1708          0           0           1.72\n",
      "                         Himachal Pradesh    61967    1017    61967     1017          0           0           1.64\n",
      "                                      Goa    57283     823    57283      823          0           0           1.44\n",
      "                               Puducherry    40964     680    40836      679        128           1           1.66\n",
      "                                  Tripura    33487     389    33477      389         10           0           1.16\n",
      "                                  Manipur    29371     374    29371      374          0           0           1.27\n",
      "                               Chandigarh    25604     372    25604      372          0           0           1.45\n",
      "                        Arunachal Pradesh    16843      56    16843       56          0           0           0.33\n",
      "                                Meghalaya    14029     150    14029      150          0           0           1.07\n",
      "                                 Nagaland    12230      91    12230       91          0           0           0.74\n",
      "                                   Ladakh     9965     130     9965      130          0           0           1.30\n",
      "                                   Sikkim     6215     135     6215      135          0           0           2.17\n",
      "              Andaman and Nicobar Islands     5043      62     5043       62          0           0           1.23\n",
      "                                  Mizoram     4463      11     4460       11          3           0           0.25\n",
      " Dadra and Nagar Haveli and Daman and Diu     3534       2     3528        2          6           0           0.06\n",
      "                              Lakshadweep      714       1      714        1          0           0           0.14\n"
     ]
    }
   ],
   "source": [
    "#hide_input\n",
    "print(df_table.to_string(index=False))"
   ]
  },
  {
   "cell_type": "code",
   "execution_count": null,
   "id": "quantitative-legend",
   "metadata": {
    "papermill": {
     "duration": 0.033518,
     "end_time": "2021-03-27T12:38:07.181079",
     "exception": false,
     "start_time": "2021-03-27T12:38:07.147561",
     "status": "completed"
    },
    "tags": []
   },
   "outputs": [],
   "source": []
  },
  {
   "cell_type": "code",
   "execution_count": null,
   "id": "distant-acoustic",
   "metadata": {
    "papermill": {
     "duration": 0.028424,
     "end_time": "2021-03-27T12:38:07.236243",
     "exception": false,
     "start_time": "2021-03-27T12:38:07.207819",
     "status": "completed"
    },
    "tags": []
   },
   "outputs": [],
   "source": []
  }
 ],
 "metadata": {
  "kernelspec": {
   "display_name": "Python 3",
   "language": "python",
   "name": "python3"
  },
  "language_info": {
   "codemirror_mode": {
    "name": "ipython",
    "version": 3
   },
   "file_extension": ".py",
   "mimetype": "text/x-python",
   "name": "python",
   "nbconvert_exporter": "python",
   "pygments_lexer": "ipython3",
   "version": "3.6.13"
  },
  "papermill": {
   "duration": 27.346048,
   "end_time": "2021-03-27T12:38:08.950030",
   "environment_variables": {},
   "exception": null,
   "input_path": "latest.ipynb",
   "output_path": "latest.ipynb",
   "parameters": {},
   "start_time": "2021-03-27T12:37:41.603982",
   "version": "2.1.2"
  }
 },
 "nbformat": 4,
 "nbformat_minor": 5
}