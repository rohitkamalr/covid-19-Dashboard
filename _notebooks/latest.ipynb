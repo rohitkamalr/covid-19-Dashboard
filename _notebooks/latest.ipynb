{
 "cells": [
  {
   "cell_type": "markdown",
   "id": "colored-stack",
   "metadata": {
    "papermill": {
     "duration": 0.022877,
     "end_time": "2021-04-02T13:56:36.803767",
     "exception": false,
     "start_time": "2021-04-02T13:56:36.780890",
     "status": "completed"
    },
    "tags": []
   },
   "source": [
    "# Latest COVID-19 India Matplotlib Overview"
   ]
  },
  {
   "cell_type": "code",
   "execution_count": 1,
   "id": "light-proportion",
   "metadata": {
    "execution": {
     "iopub.execute_input": "2021-04-02T13:56:36.857958Z",
     "iopub.status.busy": "2021-04-02T13:56:36.857312Z",
     "iopub.status.idle": "2021-04-02T13:56:37.472460Z",
     "shell.execute_reply": "2021-04-02T13:56:37.471520Z"
    },
    "papermill": {
     "duration": 0.647187,
     "end_time": "2021-04-02T13:56:37.472628",
     "exception": false,
     "start_time": "2021-04-02T13:56:36.825441",
     "status": "completed"
    },
    "tags": []
   },
   "outputs": [],
   "source": [
    "#hide\n",
    "import pandas as pd\n",
    "import numpy as np\n",
    "import requests\n",
    "import json\n",
    "import matplotlib.pyplot as plt\n",
    "import matplotlib.dates as mdates\n",
    "import matplotlib as mpl\n",
    "from IPython.core.display import display,HTML\n",
    "%matplotlib inline\n",
    "from datetime import date"
   ]
  },
  {
   "cell_type": "code",
   "execution_count": 2,
   "id": "greenhouse-shooting",
   "metadata": {
    "execution": {
     "iopub.execute_input": "2021-04-02T13:56:37.519048Z",
     "iopub.status.busy": "2021-04-02T13:56:37.518403Z",
     "iopub.status.idle": "2021-04-02T13:56:37.843945Z",
     "shell.execute_reply": "2021-04-02T13:56:37.843352Z"
    },
    "papermill": {
     "duration": 0.350978,
     "end_time": "2021-04-02T13:56:37.844088",
     "exception": false,
     "start_time": "2021-04-02T13:56:37.493110",
     "status": "completed"
    },
    "tags": []
   },
   "outputs": [],
   "source": [
    "#hide\n",
    "df  = pd.read_csv('https://api.covid19india.org/csv/latest/states.csv')\n",
    "df = df[['Date','State','Confirmed','Deceased']]\n",
    "df = df.rename(columns={'Confirmed':'Cases', \"Deceased\":'Deaths'})\n",
    "df_cases = df[[\"Date\",'State','Cases']]\n",
    "df_deaths = df[['Date','State','Deaths']]\n",
    "df_cases1 = df_cases.groupby('Date')\n",
    "df_deaths1= df_deaths.groupby('Date')"
   ]
  },
  {
   "cell_type": "code",
   "execution_count": 3,
   "id": "hybrid-cathedral",
   "metadata": {
    "execution": {
     "iopub.execute_input": "2021-04-02T13:56:37.889233Z",
     "iopub.status.busy": "2021-04-02T13:56:37.888598Z",
     "iopub.status.idle": "2021-04-02T13:56:37.908043Z",
     "shell.execute_reply": "2021-04-02T13:56:37.907519Z"
    },
    "papermill": {
     "duration": 0.043705,
     "end_time": "2021-04-02T13:56:37.908176",
     "exception": false,
     "start_time": "2021-04-02T13:56:37.864471",
     "status": "completed"
    },
    "tags": []
   },
   "outputs": [],
   "source": [
    "#hide\n",
    "df_snap = pd.read_csv('data/SnapshotCases-28-July.csv')\n",
    "arr_states = df_snap['states'].unique()\n",
    "arr_dates = df['Date'].unique()\n",
    "df_snap = df_snap.set_index('states')"
   ]
  },
  {
   "cell_type": "code",
   "execution_count": 4,
   "id": "interior-belfast",
   "metadata": {
    "execution": {
     "iopub.execute_input": "2021-04-02T13:56:37.954554Z",
     "iopub.status.busy": "2021-04-02T13:56:37.953916Z",
     "iopub.status.idle": "2021-04-02T13:56:37.959211Z",
     "shell.execute_reply": "2021-04-02T13:56:37.959705Z"
    },
    "papermill": {
     "duration": 0.03257,
     "end_time": "2021-04-02T13:56:37.959848",
     "exception": false,
     "start_time": "2021-04-02T13:56:37.927278",
     "status": "completed"
    },
    "tags": []
   },
   "outputs": [
    {
     "data": {
      "text/plain": [
       "array(['Andaman and Nicobar Islands', 'Andhra Pradesh',\n",
       "       'Arunachal Pradesh', 'Assam', 'Bihar', 'Chandigarh',\n",
       "       'Dadra and Nagar Haveli and Daman and Diu', 'Delhi', 'Goa',\n",
       "       'Gujarat', 'Haryana', 'Himachal Pradesh', 'Jammu and Kashmir',\n",
       "       'Jharkhand', 'Karnataka', 'Kerala', 'Lakshadweep',\n",
       "       'Madhya Pradesh', 'Maharashtra', 'Manipur', 'Meghalaya', 'Mizoram',\n",
       "       'Nagaland', 'Odisha', 'Puducherry', 'Punjab', 'Rajasthan',\n",
       "       'Sikkim', 'Tamil Nadu', 'Telangana', 'Tripura', 'Uttar Pradesh',\n",
       "       'West Bengal', 'Chhattisgarh', 'Ladakh', 'Uttarakhand'],\n",
       "      dtype=object)"
      ]
     },
     "execution_count": 4,
     "metadata": {},
     "output_type": "execute_result"
    }
   ],
   "source": [
    "#hide\n",
    "arr_states[-9] = 'Puducherry'\n",
    "arr_states[-10] = 'Odisha'\n",
    "arr_states[6] = 'Dadra and Nagar Haveli and Daman and Diu'\n",
    "arr_states = np.append(arr_states,np.array(['Chhattisgarh','Ladakh','Uttarakhand']))\n",
    "arr_states"
   ]
  },
  {
   "cell_type": "code",
   "execution_count": 5,
   "id": "behind-manner",
   "metadata": {
    "execution": {
     "iopub.execute_input": "2021-04-02T13:56:38.013148Z",
     "iopub.status.busy": "2021-04-02T13:56:38.012502Z",
     "iopub.status.idle": "2021-04-02T13:56:38.023366Z",
     "shell.execute_reply": "2021-04-02T13:56:38.022813Z"
    },
    "papermill": {
     "duration": 0.042601,
     "end_time": "2021-04-02T13:56:38.023624",
     "exception": false,
     "start_time": "2021-04-02T13:56:37.981023",
     "status": "completed"
    },
    "tags": []
   },
   "outputs": [],
   "source": [
    "#hide\n",
    "dates = []\n",
    "for i in arr_dates:\n",
    "    if i>='2020-07-01':\n",
    "        dates.append(i)\n",
    "dict = {'states':dates}\n",
    "for i in arr_states:\n",
    "    dict[i] = [0]*len(dates)\n",
    "dft_cases = pd.DataFrame(dict)\n",
    "dft_deaths = pd.DataFrame(dict)\n"
   ]
  },
  {
   "cell_type": "code",
   "execution_count": 6,
   "id": "simplified-peter",
   "metadata": {
    "execution": {
     "iopub.execute_input": "2021-04-02T13:56:38.069845Z",
     "iopub.status.busy": "2021-04-02T13:56:38.069175Z",
     "iopub.status.idle": "2021-04-02T13:56:43.098149Z",
     "shell.execute_reply": "2021-04-02T13:56:43.097593Z"
    },
    "papermill": {
     "duration": 5.054602,
     "end_time": "2021-04-02T13:56:43.098291",
     "exception": false,
     "start_time": "2021-04-02T13:56:38.043689",
     "status": "completed"
    },
    "tags": []
   },
   "outputs": [],
   "source": [
    "#hide\n",
    "for i in range(len(dates)):\n",
    "    df1_deaths = df_deaths1.get_group(dates[i])\n",
    "    for j in range(len(df1_deaths.index)):\n",
    "        if df1_deaths.iloc[j,1] in arr_states:\n",
    "            dft_deaths.loc[i,df1_deaths.iloc[j,1]] = df1_deaths.iloc[j,2]\n",
    "dft_deaths = dft_deaths.set_index('states')"
   ]
  },
  {
   "cell_type": "code",
   "execution_count": 7,
   "id": "geological-welding",
   "metadata": {
    "execution": {
     "iopub.execute_input": "2021-04-02T13:56:43.150588Z",
     "iopub.status.busy": "2021-04-02T13:56:43.149954Z",
     "iopub.status.idle": "2021-04-02T13:56:48.123739Z",
     "shell.execute_reply": "2021-04-02T13:56:48.123176Z"
    },
    "papermill": {
     "duration": 5.002818,
     "end_time": "2021-04-02T13:56:48.123884",
     "exception": false,
     "start_time": "2021-04-02T13:56:43.121066",
     "status": "completed"
    },
    "tags": []
   },
   "outputs": [],
   "source": [
    "#hide\n",
    "for i in range(len(dates)):\n",
    "    df1_cases = df_cases1.get_group(dates[i])\n",
    "    for j in range(len(df1_cases.index)):\n",
    "        if df1_cases.iloc[j,1] in arr_states:\n",
    "            dft_cases.loc[i,df1_cases.iloc[j,1]] = df1_cases.iloc[j,2]\n",
    "dft_cases = dft_cases.set_index('states')"
   ]
  },
  {
   "cell_type": "code",
   "execution_count": 8,
   "id": "binary-ratio",
   "metadata": {
    "execution": {
     "iopub.execute_input": "2021-04-02T13:56:48.171973Z",
     "iopub.status.busy": "2021-04-02T13:56:48.171338Z",
     "iopub.status.idle": "2021-04-02T13:56:48.173882Z",
     "shell.execute_reply": "2021-04-02T13:56:48.173339Z"
    },
    "papermill": {
     "duration": 0.026772,
     "end_time": "2021-04-02T13:56:48.174008",
     "exception": false,
     "start_time": "2021-04-02T13:56:48.147236",
     "status": "completed"
    },
    "tags": []
   },
   "outputs": [],
   "source": [
    "#hide\n",
    "dft_cases = dft_cases.T\n",
    "dft_deaths = dft_deaths.T\n",
    "dt_today = dates[-1]\n",
    "dt_yday = dates[-2]"
   ]
  },
  {
   "cell_type": "code",
   "execution_count": 9,
   "id": "boolean-calculator",
   "metadata": {
    "execution": {
     "iopub.execute_input": "2021-04-02T13:56:48.246320Z",
     "iopub.status.busy": "2021-04-02T13:56:48.245684Z",
     "iopub.status.idle": "2021-04-02T13:56:48.251970Z",
     "shell.execute_reply": "2021-04-02T13:56:48.251417Z"
    },
    "papermill": {
     "duration": 0.030407,
     "end_time": "2021-04-02T13:56:48.252105",
     "exception": false,
     "start_time": "2021-04-02T13:56:48.221698",
     "status": "completed"
    },
    "tags": []
   },
   "outputs": [],
   "source": [
    "#hide\n",
    "dft_cases = dft_cases.reset_index()\n",
    "dft_deaths = dft_deaths.reset_index()\n",
    "dft_cases = dft_cases.rename(columns = {'index':'state'})\n",
    "dft_deaths = dft_deaths.rename(columns = {'index':'state'})"
   ]
  },
  {
   "cell_type": "code",
   "execution_count": 10,
   "id": "invisible-johnston",
   "metadata": {
    "execution": {
     "iopub.execute_input": "2021-04-02T13:56:48.298485Z",
     "iopub.status.busy": "2021-04-02T13:56:48.297831Z",
     "iopub.status.idle": "2021-04-02T13:56:48.305516Z",
     "shell.execute_reply": "2021-04-02T13:56:48.306129Z"
    },
    "papermill": {
     "duration": 0.03439,
     "end_time": "2021-04-02T13:56:48.306265",
     "exception": false,
     "start_time": "2021-04-02T13:56:48.271875",
     "status": "completed"
    },
    "tags": []
   },
   "outputs": [],
   "source": [
    "#hide\n",
    "dfc_cases = dft_cases.groupby('state')[dt_today].sum()\n",
    "dfc_deaths = dft_deaths.groupby('state')[dt_today].sum()\n",
    "dfp_cases = dft_cases.groupby('state')[dt_yday].sum()\n",
    "dfp_deaths = dft_deaths.groupby('state')[dt_yday].sum()"
   ]
  },
  {
   "cell_type": "code",
   "execution_count": 11,
   "id": "measured-great",
   "metadata": {
    "execution": {
     "iopub.execute_input": "2021-04-02T13:56:48.352117Z",
     "iopub.status.busy": "2021-04-02T13:56:48.351477Z",
     "iopub.status.idle": "2021-04-02T13:56:48.366771Z",
     "shell.execute_reply": "2021-04-02T13:56:48.366211Z"
    },
    "papermill": {
     "duration": 0.041706,
     "end_time": "2021-04-02T13:56:48.366907",
     "exception": false,
     "start_time": "2021-04-02T13:56:48.325201",
     "status": "completed"
    },
    "tags": []
   },
   "outputs": [
    {
     "data": {
      "text/html": [
       "<div>\n",
       "<style scoped>\n",
       "    .dataframe tbody tr th:only-of-type {\n",
       "        vertical-align: middle;\n",
       "    }\n",
       "\n",
       "    .dataframe tbody tr th {\n",
       "        vertical-align: top;\n",
       "    }\n",
       "\n",
       "    .dataframe thead th {\n",
       "        text-align: right;\n",
       "    }\n",
       "</style>\n",
       "<table border=\"1\" class=\"dataframe\">\n",
       "  <thead>\n",
       "    <tr style=\"text-align: right;\">\n",
       "      <th></th>\n",
       "      <th>states</th>\n",
       "      <th>Cases</th>\n",
       "      <th>Deaths</th>\n",
       "      <th>PCases</th>\n",
       "      <th>PDeaths</th>\n",
       "    </tr>\n",
       "  </thead>\n",
       "  <tbody>\n",
       "    <tr>\n",
       "      <th>0</th>\n",
       "      <td>Maharashtra</td>\n",
       "      <td>2856163</td>\n",
       "      <td>54898</td>\n",
       "      <td>2856163</td>\n",
       "      <td>54898</td>\n",
       "    </tr>\n",
       "    <tr>\n",
       "      <th>1</th>\n",
       "      <td>Kerala</td>\n",
       "      <td>1127383</td>\n",
       "      <td>4633</td>\n",
       "      <td>1127383</td>\n",
       "      <td>4633</td>\n",
       "    </tr>\n",
       "    <tr>\n",
       "      <th>2</th>\n",
       "      <td>Karnataka</td>\n",
       "      <td>1001238</td>\n",
       "      <td>12585</td>\n",
       "      <td>1001238</td>\n",
       "      <td>12585</td>\n",
       "    </tr>\n",
       "    <tr>\n",
       "      <th>3</th>\n",
       "      <td>Andhra Pradesh</td>\n",
       "      <td>903260</td>\n",
       "      <td>7220</td>\n",
       "      <td>903260</td>\n",
       "      <td>7220</td>\n",
       "    </tr>\n",
       "    <tr>\n",
       "      <th>4</th>\n",
       "      <td>Tamil Nadu</td>\n",
       "      <td>889490</td>\n",
       "      <td>12738</td>\n",
       "      <td>889490</td>\n",
       "      <td>12738</td>\n",
       "    </tr>\n",
       "  </tbody>\n",
       "</table>\n",
       "</div>"
      ],
      "text/plain": [
       "           states    Cases  Deaths   PCases  PDeaths\n",
       "0     Maharashtra  2856163   54898  2856163    54898\n",
       "1          Kerala  1127383    4633  1127383     4633\n",
       "2       Karnataka  1001238   12585  1001238    12585\n",
       "3  Andhra Pradesh   903260    7220   903260     7220\n",
       "4      Tamil Nadu   889490   12738   889490    12738"
      ]
     },
     "execution_count": 11,
     "metadata": {},
     "output_type": "execute_result"
    }
   ],
   "source": [
    "#hide\n",
    "df_table = pd.DataFrame({'states': dfc_cases.index, 'Cases': dfc_cases.values, 'Deaths': dfc_deaths.values, 'PCases': dfp_cases.values, 'PDeaths': dfp_deaths.values}).set_index('states')\n",
    "df_table = df_table.sort_values(by = ['Cases','Deaths'], ascending = [False, False])\n",
    "df_table = df_table.reset_index()\n",
    "df_table.head()"
   ]
  },
  {
   "cell_type": "code",
   "execution_count": 12,
   "id": "found-montreal",
   "metadata": {
    "execution": {
     "iopub.execute_input": "2021-04-02T13:56:48.413134Z",
     "iopub.status.busy": "2021-04-02T13:56:48.412495Z",
     "iopub.status.idle": "2021-04-02T13:56:48.422384Z",
     "shell.execute_reply": "2021-04-02T13:56:48.421804Z"
    },
    "papermill": {
     "duration": 0.035505,
     "end_time": "2021-04-02T13:56:48.422578",
     "exception": false,
     "start_time": "2021-04-02T13:56:48.387073",
     "status": "completed"
    },
    "tags": []
   },
   "outputs": [],
   "source": [
    "#hide\n",
    "for c in 'Cases, Deaths'.split(', '):\n",
    "    df_table[f'{c} (+)'] = (df_table[c] - df_table[f'P{c}']).clip(0)\n",
    "df_table['Fatality Rate'] = (100* df_table['Deaths']/ df_table['Cases']).round(2)"
   ]
  },
  {
   "cell_type": "code",
   "execution_count": 13,
   "id": "minus-savage",
   "metadata": {
    "execution": {
     "iopub.execute_input": "2021-04-02T13:56:48.478318Z",
     "iopub.status.busy": "2021-04-02T13:56:48.477675Z",
     "iopub.status.idle": "2021-04-02T13:56:48.480414Z",
     "shell.execute_reply": "2021-04-02T13:56:48.480907Z"
    },
    "papermill": {
     "duration": 0.037256,
     "end_time": "2021-04-02T13:56:48.481057",
     "exception": false,
     "start_time": "2021-04-02T13:56:48.443801",
     "status": "completed"
    },
    "tags": []
   },
   "outputs": [
    {
     "data": {
      "text/html": [
       "<div>\n",
       "<style scoped>\n",
       "    .dataframe tbody tr th:only-of-type {\n",
       "        vertical-align: middle;\n",
       "    }\n",
       "\n",
       "    .dataframe tbody tr th {\n",
       "        vertical-align: top;\n",
       "    }\n",
       "\n",
       "    .dataframe thead th {\n",
       "        text-align: right;\n",
       "    }\n",
       "</style>\n",
       "<table border=\"1\" class=\"dataframe\">\n",
       "  <thead>\n",
       "    <tr style=\"text-align: right;\">\n",
       "      <th></th>\n",
       "      <th>states</th>\n",
       "      <th>Cases</th>\n",
       "      <th>Deaths</th>\n",
       "      <th>PCases</th>\n",
       "      <th>PDeaths</th>\n",
       "      <th>Cases (+)</th>\n",
       "      <th>Deaths (+)</th>\n",
       "      <th>Fatality Rate</th>\n",
       "    </tr>\n",
       "  </thead>\n",
       "  <tbody>\n",
       "    <tr>\n",
       "      <th>0</th>\n",
       "      <td>Maharashtra</td>\n",
       "      <td>2856163</td>\n",
       "      <td>54898</td>\n",
       "      <td>2856163</td>\n",
       "      <td>54898</td>\n",
       "      <td>0</td>\n",
       "      <td>0</td>\n",
       "      <td>1.92</td>\n",
       "    </tr>\n",
       "    <tr>\n",
       "      <th>1</th>\n",
       "      <td>Kerala</td>\n",
       "      <td>1127383</td>\n",
       "      <td>4633</td>\n",
       "      <td>1127383</td>\n",
       "      <td>4633</td>\n",
       "      <td>0</td>\n",
       "      <td>0</td>\n",
       "      <td>0.41</td>\n",
       "    </tr>\n",
       "    <tr>\n",
       "      <th>2</th>\n",
       "      <td>Karnataka</td>\n",
       "      <td>1001238</td>\n",
       "      <td>12585</td>\n",
       "      <td>1001238</td>\n",
       "      <td>12585</td>\n",
       "      <td>0</td>\n",
       "      <td>0</td>\n",
       "      <td>1.26</td>\n",
       "    </tr>\n",
       "    <tr>\n",
       "      <th>3</th>\n",
       "      <td>Andhra Pradesh</td>\n",
       "      <td>903260</td>\n",
       "      <td>7220</td>\n",
       "      <td>903260</td>\n",
       "      <td>7220</td>\n",
       "      <td>0</td>\n",
       "      <td>0</td>\n",
       "      <td>0.80</td>\n",
       "    </tr>\n",
       "    <tr>\n",
       "      <th>4</th>\n",
       "      <td>Tamil Nadu</td>\n",
       "      <td>889490</td>\n",
       "      <td>12738</td>\n",
       "      <td>889490</td>\n",
       "      <td>12738</td>\n",
       "      <td>0</td>\n",
       "      <td>0</td>\n",
       "      <td>1.43</td>\n",
       "    </tr>\n",
       "  </tbody>\n",
       "</table>\n",
       "</div>"
      ],
      "text/plain": [
       "           states    Cases  Deaths   PCases  PDeaths  Cases (+)  Deaths (+)  \\\n",
       "0     Maharashtra  2856163   54898  2856163    54898          0           0   \n",
       "1          Kerala  1127383    4633  1127383     4633          0           0   \n",
       "2       Karnataka  1001238   12585  1001238    12585          0           0   \n",
       "3  Andhra Pradesh   903260    7220   903260     7220          0           0   \n",
       "4      Tamil Nadu   889490   12738   889490    12738          0           0   \n",
       "\n",
       "   Fatality Rate  \n",
       "0           1.92  \n",
       "1           0.41  \n",
       "2           1.26  \n",
       "3           0.80  \n",
       "4           1.43  "
      ]
     },
     "execution_count": 13,
     "metadata": {},
     "output_type": "execute_result"
    }
   ],
   "source": [
    "#hide\n",
    "df_table.head()"
   ]
  },
  {
   "cell_type": "code",
   "execution_count": 14,
   "id": "false-peter",
   "metadata": {
    "execution": {
     "iopub.execute_input": "2021-04-02T13:56:48.532163Z",
     "iopub.status.busy": "2021-04-02T13:56:48.531448Z",
     "iopub.status.idle": "2021-04-02T13:56:48.550516Z",
     "shell.execute_reply": "2021-04-02T13:56:48.549978Z"
    },
    "papermill": {
     "duration": 0.044233,
     "end_time": "2021-04-02T13:56:48.550649",
     "exception": false,
     "start_time": "2021-04-02T13:56:48.506416",
     "status": "completed"
    },
    "tags": []
   },
   "outputs": [
    {
     "data": {
      "text/plain": [
       "{'updated': '2021-04-02',\n",
       " 'since': '2021-04-01',\n",
       " 'Cases': 12303767,\n",
       " 'PCases': 12302110,\n",
       " 'Deaths': 163434,\n",
       " 'PDeaths': 163428,\n",
       " 'Cases (+)': 1657,\n",
       " 'Deaths (+)': 6}"
      ]
     },
     "execution_count": 14,
     "metadata": {},
     "output_type": "execute_result"
    }
   ],
   "source": [
    "#hide\n",
    "summary = {'updated':dates[-1], 'since':dates[-2]}\n",
    "list_names = ['Cases', 'PCases', 'Deaths', 'PDeaths', 'Cases (+)', 'Deaths (+)']\n",
    "for name in list_names:\n",
    "    summary[name] = df_table.sum()[name]\n",
    "summary"
   ]
  },
  {
   "cell_type": "code",
   "execution_count": 15,
   "id": "packed-viewer",
   "metadata": {
    "execution": {
     "iopub.execute_input": "2021-04-02T13:56:48.602934Z",
     "iopub.status.busy": "2021-04-02T13:56:48.602300Z",
     "iopub.status.idle": "2021-04-02T13:56:48.604724Z",
     "shell.execute_reply": "2021-04-02T13:56:48.604184Z"
    },
    "papermill": {
     "duration": 0.033205,
     "end_time": "2021-04-02T13:56:48.604848",
     "exception": false,
     "start_time": "2021-04-02T13:56:48.571643",
     "status": "completed"
    },
    "tags": []
   },
   "outputs": [],
   "source": [
    "#hide\n",
    "overview = '''\n",
    "<!-- #######  HTML!! #########-->\n",
    "<h1 style=\"color: #5e9ca0; text-align: center;\">India</h1>\n",
    "<p style=\"text-align: center;\">Last update: <strong>{update}</strong></p>\n",
    "<p style=\"text-align: center;\">Confirmed cases:</p>\n",
    "<p style=\"text-align: center;font-size:24px;\">{cases} (<span style=\"color: #ff0000;\">+{new}</span>)</p>\n",
    "<p style=\"text-align: center;\">Confirmed deaths:</p>\n",
    "<p style=\"text-align: center;font-size:24px;\">{deaths} (<span style=\"color: #ff0000;\">+{dnew}</span>)</p>\n",
    "'''"
   ]
  },
  {
   "cell_type": "code",
   "execution_count": 16,
   "id": "phantom-lover",
   "metadata": {
    "execution": {
     "iopub.execute_input": "2021-04-02T13:56:48.652786Z",
     "iopub.status.busy": "2021-04-02T13:56:48.652145Z",
     "iopub.status.idle": "2021-04-02T13:56:48.654688Z",
     "shell.execute_reply": "2021-04-02T13:56:48.655555Z"
    },
    "papermill": {
     "duration": 0.029907,
     "end_time": "2021-04-02T13:56:48.655754",
     "exception": false,
     "start_time": "2021-04-02T13:56:48.625847",
     "status": "completed"
    },
    "tags": []
   },
   "outputs": [
    {
     "data": {
      "text/html": [
       "\n",
       "<!-- #######  HTML!! #########-->\n",
       "<h1 style=\"color: #5e9ca0; text-align: center;\">India</h1>\n",
       "<p style=\"text-align: center;\">Last update: <strong>2021-04-02</strong></p>\n",
       "<p style=\"text-align: center;\">Confirmed cases:</p>\n",
       "<p style=\"text-align: center;font-size:24px;\">12303767 (<span style=\"color: #ff0000;\">+1657</span>)</p>\n",
       "<p style=\"text-align: center;\">Confirmed deaths:</p>\n",
       "<p style=\"text-align: center;font-size:24px;\">163434 (<span style=\"color: #ff0000;\">+6</span>)</p>\n"
      ],
      "text/plain": [
       "<IPython.core.display.HTML object>"
      ]
     },
     "metadata": {},
     "output_type": "display_data"
    }
   ],
   "source": [
    "#hide_input\n",
    "update = summary['updated']\n",
    "cases = summary['Cases']\n",
    "new = summary['Cases (+)']\n",
    "deaths = summary['Deaths']\n",
    "dnew = summary['Deaths (+)']\n",
    "\n",
    "html = HTML(overview.format(update=update, cases=cases,new=new,deaths=deaths,dnew=dnew))\n",
    "\n",
    "display(html)"
   ]
  },
  {
   "cell_type": "code",
   "execution_count": 17,
   "id": "sealed-reset",
   "metadata": {
    "execution": {
     "iopub.execute_input": "2021-04-02T13:56:48.705395Z",
     "iopub.status.busy": "2021-04-02T13:56:48.704729Z",
     "iopub.status.idle": "2021-04-02T13:56:48.711840Z",
     "shell.execute_reply": "2021-04-02T13:56:48.712342Z"
    },
    "papermill": {
     "duration": 0.035485,
     "end_time": "2021-04-02T13:56:48.712489",
     "exception": false,
     "start_time": "2021-04-02T13:56:48.677004",
     "status": "completed"
    },
    "tags": []
   },
   "outputs": [],
   "source": [
    "#hide\n",
    "dt_cols = list(dft_cases.columns[1:])\n",
    "dft_ct_new_cases = dft_cases.groupby('state')[dt_cols].sum().diff(axis=1).fillna(0).astype(int)\n",
    "dft_ct_new_cases.sort_values(by = dates[-1], ascending = False,inplace = True)"
   ]
  },
  {
   "cell_type": "code",
   "execution_count": 18,
   "id": "designed-constant",
   "metadata": {
    "execution": {
     "iopub.execute_input": "2021-04-02T13:56:48.774805Z",
     "iopub.status.busy": "2021-04-02T13:56:48.774176Z",
     "iopub.status.idle": "2021-04-02T13:56:48.777604Z",
     "shell.execute_reply": "2021-04-02T13:56:48.777036Z"
    },
    "papermill": {
     "duration": 0.043014,
     "end_time": "2021-04-02T13:56:48.777726",
     "exception": false,
     "start_time": "2021-04-02T13:56:48.734712",
     "status": "completed"
    },
    "tags": []
   },
   "outputs": [
    {
     "data": {
      "text/html": [
       "<div>\n",
       "<style scoped>\n",
       "    .dataframe tbody tr th:only-of-type {\n",
       "        vertical-align: middle;\n",
       "    }\n",
       "\n",
       "    .dataframe tbody tr th {\n",
       "        vertical-align: top;\n",
       "    }\n",
       "\n",
       "    .dataframe thead th {\n",
       "        text-align: right;\n",
       "    }\n",
       "</style>\n",
       "<table border=\"1\" class=\"dataframe\">\n",
       "  <thead>\n",
       "    <tr style=\"text-align: right;\">\n",
       "      <th>states</th>\n",
       "      <th>2020-07-01</th>\n",
       "      <th>2020-07-02</th>\n",
       "      <th>2020-07-03</th>\n",
       "      <th>2020-07-04</th>\n",
       "      <th>2020-07-05</th>\n",
       "      <th>2020-07-06</th>\n",
       "      <th>2020-07-07</th>\n",
       "      <th>2020-07-08</th>\n",
       "      <th>2020-07-09</th>\n",
       "      <th>2020-07-10</th>\n",
       "      <th>...</th>\n",
       "      <th>2021-03-24</th>\n",
       "      <th>2021-03-25</th>\n",
       "      <th>2021-03-26</th>\n",
       "      <th>2021-03-27</th>\n",
       "      <th>2021-03-28</th>\n",
       "      <th>2021-03-29</th>\n",
       "      <th>2021-03-30</th>\n",
       "      <th>2021-03-31</th>\n",
       "      <th>2021-04-01</th>\n",
       "      <th>2021-04-02</th>\n",
       "    </tr>\n",
       "    <tr>\n",
       "      <th>state</th>\n",
       "      <th></th>\n",
       "      <th></th>\n",
       "      <th></th>\n",
       "      <th></th>\n",
       "      <th></th>\n",
       "      <th></th>\n",
       "      <th></th>\n",
       "      <th></th>\n",
       "      <th></th>\n",
       "      <th></th>\n",
       "      <th></th>\n",
       "      <th></th>\n",
       "      <th></th>\n",
       "      <th></th>\n",
       "      <th></th>\n",
       "      <th></th>\n",
       "      <th></th>\n",
       "      <th></th>\n",
       "      <th></th>\n",
       "      <th></th>\n",
       "      <th></th>\n",
       "    </tr>\n",
       "  </thead>\n",
       "  <tbody>\n",
       "    <tr>\n",
       "      <th>Telangana</th>\n",
       "      <td>0</td>\n",
       "      <td>1213</td>\n",
       "      <td>1892</td>\n",
       "      <td>1850</td>\n",
       "      <td>1590</td>\n",
       "      <td>1831</td>\n",
       "      <td>1879</td>\n",
       "      <td>1924</td>\n",
       "      <td>1410</td>\n",
       "      <td>1278</td>\n",
       "      <td>...</td>\n",
       "      <td>431</td>\n",
       "      <td>493</td>\n",
       "      <td>518</td>\n",
       "      <td>495</td>\n",
       "      <td>535</td>\n",
       "      <td>403</td>\n",
       "      <td>463</td>\n",
       "      <td>684</td>\n",
       "      <td>887</td>\n",
       "      <td>965</td>\n",
       "    </tr>\n",
       "    <tr>\n",
       "      <th>Odisha</th>\n",
       "      <td>0</td>\n",
       "      <td>229</td>\n",
       "      <td>561</td>\n",
       "      <td>495</td>\n",
       "      <td>469</td>\n",
       "      <td>456</td>\n",
       "      <td>571</td>\n",
       "      <td>527</td>\n",
       "      <td>577</td>\n",
       "      <td>755</td>\n",
       "      <td>...</td>\n",
       "      <td>170</td>\n",
       "      <td>214</td>\n",
       "      <td>234</td>\n",
       "      <td>210</td>\n",
       "      <td>290</td>\n",
       "      <td>208</td>\n",
       "      <td>218</td>\n",
       "      <td>297</td>\n",
       "      <td>394</td>\n",
       "      <td>461</td>\n",
       "    </tr>\n",
       "    <tr>\n",
       "      <th>Puducherry</th>\n",
       "      <td>0</td>\n",
       "      <td>63</td>\n",
       "      <td>22</td>\n",
       "      <td>80</td>\n",
       "      <td>42</td>\n",
       "      <td>65</td>\n",
       "      <td>30</td>\n",
       "      <td>110</td>\n",
       "      <td>49</td>\n",
       "      <td>72</td>\n",
       "      <td>...</td>\n",
       "      <td>125</td>\n",
       "      <td>95</td>\n",
       "      <td>96</td>\n",
       "      <td>128</td>\n",
       "      <td>137</td>\n",
       "      <td>125</td>\n",
       "      <td>115</td>\n",
       "      <td>127</td>\n",
       "      <td>260</td>\n",
       "      <td>213</td>\n",
       "    </tr>\n",
       "    <tr>\n",
       "      <th>Mizoram</th>\n",
       "      <td>0</td>\n",
       "      <td>2</td>\n",
       "      <td>0</td>\n",
       "      <td>2</td>\n",
       "      <td>22</td>\n",
       "      <td>11</td>\n",
       "      <td>1</td>\n",
       "      <td>5</td>\n",
       "      <td>0</td>\n",
       "      <td>23</td>\n",
       "      <td>...</td>\n",
       "      <td>1</td>\n",
       "      <td>2</td>\n",
       "      <td>6</td>\n",
       "      <td>3</td>\n",
       "      <td>2</td>\n",
       "      <td>0</td>\n",
       "      <td>3</td>\n",
       "      <td>5</td>\n",
       "      <td>3</td>\n",
       "      <td>8</td>\n",
       "    </tr>\n",
       "    <tr>\n",
       "      <th>Dadra and Nagar Haveli and Daman and Diu</th>\n",
       "      <td>0</td>\n",
       "      <td>25</td>\n",
       "      <td>50</td>\n",
       "      <td>37</td>\n",
       "      <td>32</td>\n",
       "      <td>27</td>\n",
       "      <td>27</td>\n",
       "      <td>15</td>\n",
       "      <td>14</td>\n",
       "      <td>14</td>\n",
       "      <td>...</td>\n",
       "      <td>11</td>\n",
       "      <td>26</td>\n",
       "      <td>17</td>\n",
       "      <td>26</td>\n",
       "      <td>27</td>\n",
       "      <td>16</td>\n",
       "      <td>12</td>\n",
       "      <td>19</td>\n",
       "      <td>17</td>\n",
       "      <td>6</td>\n",
       "    </tr>\n",
       "  </tbody>\n",
       "</table>\n",
       "<p>5 rows × 276 columns</p>\n",
       "</div>"
      ],
      "text/plain": [
       "states                                    2020-07-01  2020-07-02  2020-07-03  \\\n",
       "state                                                                          \n",
       "Telangana                                          0        1213        1892   \n",
       "Odisha                                             0         229         561   \n",
       "Puducherry                                         0          63          22   \n",
       "Mizoram                                            0           2           0   \n",
       "Dadra and Nagar Haveli and Daman and Diu           0          25          50   \n",
       "\n",
       "states                                    2020-07-04  2020-07-05  2020-07-06  \\\n",
       "state                                                                          \n",
       "Telangana                                       1850        1590        1831   \n",
       "Odisha                                           495         469         456   \n",
       "Puducherry                                        80          42          65   \n",
       "Mizoram                                            2          22          11   \n",
       "Dadra and Nagar Haveli and Daman and Diu          37          32          27   \n",
       "\n",
       "states                                    2020-07-07  2020-07-08  2020-07-09  \\\n",
       "state                                                                          \n",
       "Telangana                                       1879        1924        1410   \n",
       "Odisha                                           571         527         577   \n",
       "Puducherry                                        30         110          49   \n",
       "Mizoram                                            1           5           0   \n",
       "Dadra and Nagar Haveli and Daman and Diu          27          15          14   \n",
       "\n",
       "states                                    2020-07-10  ...  2021-03-24  \\\n",
       "state                                                 ...               \n",
       "Telangana                                       1278  ...         431   \n",
       "Odisha                                           755  ...         170   \n",
       "Puducherry                                        72  ...         125   \n",
       "Mizoram                                           23  ...           1   \n",
       "Dadra and Nagar Haveli and Daman and Diu          14  ...          11   \n",
       "\n",
       "states                                    2021-03-25  2021-03-26  2021-03-27  \\\n",
       "state                                                                          \n",
       "Telangana                                        493         518         495   \n",
       "Odisha                                           214         234         210   \n",
       "Puducherry                                        95          96         128   \n",
       "Mizoram                                            2           6           3   \n",
       "Dadra and Nagar Haveli and Daman and Diu          26          17          26   \n",
       "\n",
       "states                                    2021-03-28  2021-03-29  2021-03-30  \\\n",
       "state                                                                          \n",
       "Telangana                                        535         403         463   \n",
       "Odisha                                           290         208         218   \n",
       "Puducherry                                       137         125         115   \n",
       "Mizoram                                            2           0           3   \n",
       "Dadra and Nagar Haveli and Daman and Diu          27          16          12   \n",
       "\n",
       "states                                    2021-03-31  2021-04-01  2021-04-02  \n",
       "state                                                                         \n",
       "Telangana                                        684         887         965  \n",
       "Odisha                                           297         394         461  \n",
       "Puducherry                                       127         260         213  \n",
       "Mizoram                                            5           3           8  \n",
       "Dadra and Nagar Haveli and Daman and Diu          19          17           6  \n",
       "\n",
       "[5 rows x 276 columns]"
      ]
     },
     "execution_count": 18,
     "metadata": {},
     "output_type": "execute_result"
    }
   ],
   "source": [
    "#hide\n",
    "dft_ct_new_cases.head()"
   ]
  },
  {
   "cell_type": "code",
   "execution_count": 19,
   "id": "responsible-nightlife",
   "metadata": {
    "execution": {
     "iopub.execute_input": "2021-04-02T13:56:48.826969Z",
     "iopub.status.busy": "2021-04-02T13:56:48.826310Z",
     "iopub.status.idle": "2021-04-02T13:57:00.743683Z",
     "shell.execute_reply": "2021-04-02T13:57:00.744211Z"
    },
    "papermill": {
     "duration": 11.94276,
     "end_time": "2021-04-02T13:57:00.744373",
     "exception": false,
     "start_time": "2021-04-02T13:56:48.801613",
     "status": "completed"
    },
    "tags": []
   },
   "outputs": [
    {
     "data": {
      "image/png": "[encoded data removed]",
      "text/plain": [
       "<Figure size 1296x2016 with 11 Axes>"
      ]
     },
     "metadata": {
      "needs_background": "light"
     },
     "output_type": "display_data"
    }
   ],
   "source": [
    "#hide_input\n",
    "df = dft_ct_new_cases.copy()\n",
    "df.loc['Total'] = df.sum()\n",
    "n = 5\n",
    "ax = []\n",
    "fig = plt.figure(figsize = (18,28))\n",
    "gs = fig.add_gridspec(n+2, 5)\n",
    "# gs = fig.add_gridspec(2, 3)\n",
    "ax1 = fig.add_subplot(gs[0, :])\n",
    "ef = df.loc['Total'].rename_axis('date').reset_index()\n",
    "ef['date'] = ef['date'].astype('datetime64[ns]')\n",
    "ax1.bar(ef.date,ef.Total,alpha=0.3,color='#007acc')\n",
    "ax1.plot(ef.date,ef.Total , marker=\"o\", color='#007acc')\n",
    "ax1.xaxis.set_major_locator(mdates.WeekdayLocator())\n",
    "ax1.xaxis.set_major_formatter(mdates.DateFormatter('%b %d'))\n",
    "ax1.text(0.02, 0.5,'India daily case count', transform = ax1.transAxes, fontsize=25);\n",
    "ax1.spines['right'].set_visible(False)\n",
    "ax1.spines['top'].set_visible(False)\n",
    "\n",
    "ax2 = fig.add_subplot(gs[1,0])\n",
    "ef = df.loc['Maharashtra'].rename_axis('date').reset_index()\n",
    "ef['date'] = ef['date'].astype('datetime64[ns]')\n",
    "\n",
    "ax2.bar(ef.date, ef.Maharashtra,color = '#007acc',alpha=0.5)\n",
    "ax2.xaxis.set_major_locator(mdates.WeekdayLocator())\n",
    "ax2.xaxis.set_major_formatter(mdates.DateFormatter('%b %d'))\n",
    "ax2.set_xticks(ax2.get_xticks()[::3])\n",
    "maxyval = ef.Maharashtra.max()\n",
    "ax2.set_ylim([0,maxyval])\n",
    "ax2.text(0.05, 0.9,'Maharashtra', transform = ax2.transAxes, fontsize=20);\n",
    "ax2.spines['right'].set_visible(False)\n",
    "ax2.spines['top'].set_visible(False)\n",
    "\n",
    "\n",
    "ax3 = fig.add_subplot(gs[1,1])\n",
    "ef = df.loc['Tamil Nadu'].rename_axis('date').reset_index()\n",
    "ef['date'] = ef['date'].astype('datetime64[ns]')\n",
    "ax3.bar(ef.date, ef['Tamil Nadu'],color = '#007acc',alpha=0.5,)\n",
    "ax3.xaxis.set_major_locator(mdates.WeekdayLocator())\n",
    "ax3.xaxis.set_major_formatter(mdates.DateFormatter('%b %d'))\n",
    "ax3.set_xticks(ax3.get_xticks()[::3])\n",
    "ax3.text(0.05, 0.9,'Tamil Nadu', transform = ax3.transAxes, fontsize=20);\n",
    "ax3.spines['right'].set_visible(False)\n",
    "ax3.spines['top'].set_visible(False)\n",
    "\n",
    "ax5 = fig.add_subplot(gs[1,3])\n",
    "ef = df.loc['Telangana'].rename_axis('date').reset_index()\n",
    "ef['date'] = ef['date'].astype('datetime64[ns]')\n",
    "ax5.bar(ef.date, ef['Telangana'],color = '#007acc',alpha=0.5,)\n",
    "ax5.xaxis.set_major_locator(mdates.WeekdayLocator())\n",
    "ax5.xaxis.set_major_formatter(mdates.DateFormatter('%b %d'))\n",
    "ax5.set_xticks(ax5.get_xticks()[::3])\n",
    "ax5.text(0.05, 0.9,'Telangana', transform = ax5.transAxes, fontsize=20);\n",
    "ax5.spines['right'].set_visible(False)\n",
    "ax5.spines['top'].set_visible(False)\n",
    "\n",
    "ax6 = fig.add_subplot(gs[1,4])\n",
    "ef = df.loc['Andhra Pradesh'].rename_axis('date').reset_index()\n",
    "ef['date'] = ef['date'].astype('datetime64[ns]')\n",
    "ax6.bar(ef.date, ef['Andhra Pradesh'],color = '#007acc',alpha=0.5,)\n",
    "ax6.xaxis.set_major_locator(mdates.WeekdayLocator())\n",
    "ax6.xaxis.set_major_formatter(mdates.DateFormatter('%b %d'))\n",
    "ax6.set_xticks(ax6.get_xticks()[::3])\n",
    "ax6.text(0.05, 1,'Andhra Pradesh', transform = ax6.transAxes, fontsize=20);\n",
    "ax6.spines['right'].set_visible(False)\n",
    "ax6.spines['top'].set_visible(False)\n",
    "\n",
    "ax4 = fig.add_subplot(gs[1,2])\n",
    "ef = df.loc['Delhi'].rename_axis('date').reset_index()\n",
    "ef['date'] = ef['date'].astype('datetime64[ns]')\n",
    "ax4.bar(ef.date, ef.Delhi,color = '#007acc',alpha=0.5)\n",
    "ax4.set_xticks([])\n",
    "ax4.xaxis.set_major_locator(mdates.WeekdayLocator())\n",
    "ax4.xaxis.set_major_formatter(mdates.DateFormatter('%b %d'))\n",
    "ax4.set_xticks(ax4.get_xticks()[::3])\n",
    "ax4.spines['right'].set_visible(False)\n",
    "ax4.spines['top'].set_visible(False)\n",
    "\n",
    "ax4.text(0.05, 1,'Delhi', transform = ax4.transAxes, fontsize=20)\n",
    "\n",
    "for i in range(n):\n",
    "    \n",
    "    ax.append(fig.add_subplot(gs[i+2,:]))\n",
    "    ef = df.iloc[i+3].rename_axis('date').reset_index()\n",
    "    ef['date'] = ef['date'].astype('datetime64[ns]')\n",
    "    ax[i].bar(ef.date,ef.iloc[:,-1],color = '#007acc',alpha=0.3)\n",
    "    ax[i].plot(ef.date,ef.iloc[:,-1],marker='o',color='#007acc')\n",
    "    ax[i].text(0.02,0.5,f'{ef.columns.values[-1]}',transform = ax[i].transAxes, fontsize = 20);\n",
    "    ax[i].xaxis.set_major_locator(mdates.WeekdayLocator())\n",
    "    ax[i].xaxis.set_major_formatter(mdates.DateFormatter('%b %d'))\n",
    "    ax[i].set_ylim([0,7000])\n",
    "    ax[i].spines['right'].set_visible(False)\n",
    "    ax[i].spines['top'].set_visible(False)\n",
    "plt.tight_layout()\n"
   ]
  },
  {
   "cell_type": "code",
   "execution_count": 20,
   "id": "dress-forge",
   "metadata": {
    "execution": {
     "iopub.execute_input": "2021-04-02T13:57:00.809016Z",
     "iopub.status.busy": "2021-04-02T13:57:00.808315Z",
     "iopub.status.idle": "2021-04-02T13:57:00.810819Z",
     "shell.execute_reply": "2021-04-02T13:57:00.811356Z"
    },
    "papermill": {
     "duration": 0.03974,
     "end_time": "2021-04-02T13:57:00.811506",
     "exception": false,
     "start_time": "2021-04-02T13:57:00.771766",
     "status": "completed"
    },
    "tags": []
   },
   "outputs": [
    {
     "name": "stdout",
     "output_type": "stream",
     "text": [
      "                                   states    Cases  Deaths   PCases  PDeaths  Cases (+)  Deaths (+)  Fatality Rate\n",
      "                              Maharashtra  2856163   54898  2856163    54898          0           0           1.92\n",
      "                                   Kerala  1127383    4633  1127383     4633          0           0           0.41\n",
      "                                Karnataka  1001238   12585  1001238    12585          0           0           1.26\n",
      "                           Andhra Pradesh   903260    7220   903260     7220          0           0           0.80\n",
      "                               Tamil Nadu   889490   12738   889490    12738          0           0           1.43\n",
      "                                    Delhi   665220   11036   665220    11036          0           0           1.66\n",
      "                            Uttar Pradesh   619783    8820   619783     8820          0           0           1.42\n",
      "                              West Bengal   588189   10331   588189    10331          0           0           1.76\n",
      "                             Chhattisgarh   353804    4204   353804     4204          0           0           1.19\n",
      "                                   Odisha   341772    1974   341311     1974        461           0           0.58\n",
      "                                Rajasthan   334499    2822   334499     2822          0           0           0.84\n",
      "                                  Gujarat   310108    4528   310108     4528          0           0           1.46\n",
      "                                Telangana   309741    1706   308776     1701        965           5           0.55\n",
      "                           Madhya Pradesh   298057    3998   298057     3998          0           0           1.34\n",
      "                                  Haryana   292409    3164   292409     3164          0           0           1.08\n",
      "                                    Bihar   266015    1578   266015     1578          0           0           0.59\n",
      "                                   Punjab   242895    6926   242895     6926          0           0           2.85\n",
      "                                    Assam   218470    1107   218470     1107          0           0           0.51\n",
      "                        Jammu and Kashmir   131421    1998   131421     1998          0           0           1.52\n",
      "                                Jharkhand   124891    1114   124891     1114          0           0           0.89\n",
      "                              Uttarakhand   100911    1719   100911     1719          0           0           1.70\n",
      "                         Himachal Pradesh    64014    1039    64014     1039          0           0           1.62\n",
      "                                      Goa    58304     831    58304      831          0           0           1.43\n",
      "                               Puducherry    41941     684    41728      683        213           1           1.63\n",
      "                                  Tripura    33518     389    33514      389          4           0           1.16\n",
      "                                  Manipur    29397     374    29397      374          0           0           1.27\n",
      "                               Chandigarh    27256     380    27256      380          0           0           1.39\n",
      "                        Arunachal Pradesh    16845      56    16845       56          0           0           0.33\n",
      "                                Meghalaya    14067     150    14067      150          0           0           1.07\n",
      "                                 Nagaland    12345      91    12345       91          0           0           0.74\n",
      "                                   Ladakh    10175     130    10175      130          0           0           1.28\n",
      "                                   Sikkim     6241     135     6241      135          0           0           2.16\n",
      "              Andaman and Nicobar Islands     5084      62     5084       62          0           0           1.22\n",
      "                                  Mizoram     4484      11     4476       11          8           0           0.25\n",
      " Dadra and Nagar Haveli and Daman and Diu     3651       2     3645        2          6           0           0.05\n",
      "                              Lakshadweep      726       1      726        1          0           0           0.14\n"
     ]
    }
   ],
   "source": [
    "#hide_input\n",
    "print(df_table.to_string(index=False))"
   ]
  },
  {
   "cell_type": "code",
   "execution_count": null,
   "id": "quantitative-legend",
   "metadata": {
    "papermill": {
     "duration": 0.027716,
     "end_time": "2021-04-02T13:57:00.867415",
     "exception": false,
     "start_time": "2021-04-02T13:57:00.839699",
     "status": "completed"
    },
    "tags": []
   },
   "outputs": [],
   "source": []
  },
  {
   "cell_type": "code",
   "execution_count": null,
   "id": "distant-acoustic",
   "metadata": {
    "papermill": {
     "duration": 0.027524,
     "end_time": "2021-04-02T13:57:00.922108",
     "exception": false,
     "start_time": "2021-04-02T13:57:00.894584",
     "status": "completed"
    },
    "tags": []
   },
   "outputs": [],
   "source": []
  }
 ],
 "metadata": {
  "kernelspec": {
   "display_name": "Python 3",
   "language": "python",
   "name": "python3"
  },
  "language_info": {
   "codemirror_mode": {
    "name": "ipython",
    "version": 3
   },
   "file_extension": ".py",
   "mimetype": "text/x-python",
   "name": "python",
   "nbconvert_exporter": "python",
   "pygments_lexer": "ipython3",
   "version": "3.6.13"
  },
  "papermill": {
   "duration": 25.869507,
   "end_time": "2021-04-02T13:57:01.561837",
   "environment_variables": {},
   "exception": null,
   "input_path": "latest.ipynb",
   "output_path": "latest.ipynb",
   "parameters": {},
   "start_time": "2021-04-02T13:56:35.692330",
   "version": "2.1.2"
  }
 },
 "nbformat": 4,
 "nbformat_minor": 5
}