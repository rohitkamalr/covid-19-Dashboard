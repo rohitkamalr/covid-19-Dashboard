{
 "cells": [
  {
   "cell_type": "markdown",
   "metadata": {
    "papermill": {
     "duration": 0.019646,
     "end_time": "2020-09-05T06:41:27.692520",
     "exception": false,
     "start_time": "2020-09-05T06:41:27.672874",
     "status": "completed"
    },
    "tags": []
   },
   "source": [
    "# Latest COVID-19 India Matplotlib Overview"
   ]
  },
  {
   "cell_type": "code",
   "execution_count": 1,
   "metadata": {
    "execution": {
     "iopub.execute_input": "2020-09-05T06:41:27.750987Z",
     "iopub.status.busy": "2020-09-05T06:41:27.750291Z",
     "iopub.status.idle": "2020-09-05T06:41:28.335457Z",
     "shell.execute_reply": "2020-09-05T06:41:28.336183Z"
    },
    "papermill": {
     "duration": 0.626793,
     "end_time": "2020-09-05T06:41:28.336369",
     "exception": false,
     "start_time": "2020-09-05T06:41:27.709576",
     "status": "completed"
    },
    "tags": []
   },
   "outputs": [],
   "source": [
    "#hide\n",
    "import pandas as pd\n",
    "import numpy as np\n",
    "import requests\n",
    "import json\n",
    "import matplotlib.pyplot as plt\n",
    "import matplotlib.dates as mdates\n",
    "import matplotlib as mpl\n",
    "from IPython.core.display import display,HTML\n",
    "%matplotlib inline\n",
    "from datetime import date"
   ]
  },
  {
   "cell_type": "code",
   "execution_count": 2,
   "metadata": {
    "execution": {
     "iopub.execute_input": "2020-09-05T06:41:29.484164Z",
     "iopub.status.busy": "2020-09-05T06:41:29.483055Z",
     "iopub.status.idle": "2020-09-05T06:41:29.678441Z",
     "shell.execute_reply": "2020-09-05T06:41:29.677905Z"
    },
    "papermill": {
     "duration": 1.322527,
     "end_time": "2020-09-05T06:41:29.678583",
     "exception": false,
     "start_time": "2020-09-05T06:41:28.356056",
     "status": "completed"
    },
    "tags": []
   },
   "outputs": [],
   "source": [
    "#hide\n",
    "df  = pd.read_csv('https://api.covid19india.org/csv/latest/states.csv')\n",
    "df = df[['Date','State','Confirmed','Deceased']]\n",
    "df = df.rename(columns={'Confirmed':'Cases', \"Deceased\":'Deaths'})\n",
    "df_cases = df[[\"Date\",'State','Cases']]\n",
    "df_deaths = df[['Date','State','Deaths']]\n",
    "df_cases1 = df_cases.groupby('Date')\n",
    "df_deaths1= df_deaths.groupby('Date')"
   ]
  },
  {
   "cell_type": "code",
   "execution_count": 3,
   "metadata": {
    "execution": {
     "iopub.execute_input": "2020-09-05T06:41:29.748395Z",
     "iopub.status.busy": "2020-09-05T06:41:29.747633Z",
     "iopub.status.idle": "2020-09-05T06:41:29.767866Z",
     "shell.execute_reply": "2020-09-05T06:41:29.767114Z"
    },
    "papermill": {
     "duration": 0.050222,
     "end_time": "2020-09-05T06:41:29.768022",
     "exception": false,
     "start_time": "2020-09-05T06:41:29.717800",
     "status": "completed"
    },
    "tags": []
   },
   "outputs": [],
   "source": [
    "#hide\n",
    "df_snap = pd.read_csv('data/SnapshotCases-28-July.csv')\n",
    "arr_states = df_snap['states'].unique()\n",
    "arr_dates = df['Date'].unique()\n",
    "df_snap = df_snap.set_index('states')"
   ]
  },
  {
   "cell_type": "code",
   "execution_count": 4,
   "metadata": {
    "execution": {
     "iopub.execute_input": "2020-09-05T06:41:29.854710Z",
     "iopub.status.busy": "2020-09-05T06:41:29.853988Z",
     "iopub.status.idle": "2020-09-05T06:41:29.859196Z",
     "shell.execute_reply": "2020-09-05T06:41:29.858389Z"
    },
    "papermill": {
     "duration": 0.031489,
     "end_time": "2020-09-05T06:41:29.859335",
     "exception": false,
     "start_time": "2020-09-05T06:41:29.827846",
     "status": "completed"
    },
    "tags": []
   },
   "outputs": [
    {
     "data": {
      "text/plain": [
       "array(['Andaman and Nicobar Islands', 'Andhra Pradesh',\n",
       "       'Arunachal Pradesh', 'Assam', 'Bihar', 'Chandigarh',\n",
       "       'Dadra and Nagar Haveli and Daman and Diu', 'Delhi', 'Goa',\n",
       "       'Gujarat', 'Haryana', 'Himachal Pradesh', 'Jammu and Kashmir',\n",
       "       'Jharkhand', 'Karnataka', 'Kerala', 'Lakshadweep',\n",
       "       'Madhya Pradesh', 'Maharashtra', 'Manipur', 'Meghalaya', 'Mizoram',\n",
       "       'Nagaland', 'Odisha', 'Puducherry', 'Punjab', 'Rajasthan',\n",
       "       'Sikkim', 'Tamil Nadu', 'Telangana', 'Tripura', 'Uttar Pradesh',\n",
       "       'West Bengal', 'Chhattisgarh', 'Ladakh', 'Uttarakhand'],\n",
       "      dtype=object)"
      ]
     },
     "execution_count": 4,
     "metadata": {},
     "output_type": "execute_result"
    }
   ],
   "source": [
    "#hide\n",
    "arr_states[-9] = 'Puducherry'\n",
    "arr_states[-10] = 'Odisha'\n",
    "arr_states[6] = 'Dadra and Nagar Haveli and Daman and Diu'\n",
    "arr_states = np.append(arr_states,np.array(['Chhattisgarh','Ladakh','Uttarakhand']))\n",
    "arr_states"
   ]
  },
  {
   "cell_type": "code",
   "execution_count": 5,
   "metadata": {
    "execution": {
     "iopub.execute_input": "2020-09-05T06:41:29.930568Z",
     "iopub.status.busy": "2020-09-05T06:41:29.930008Z",
     "iopub.status.idle": "2020-09-05T06:41:29.937162Z",
     "shell.execute_reply": "2020-09-05T06:41:29.937633Z"
    },
    "papermill": {
     "duration": 0.046811,
     "end_time": "2020-09-05T06:41:29.937766",
     "exception": false,
     "start_time": "2020-09-05T06:41:29.890955",
     "status": "completed"
    },
    "tags": []
   },
   "outputs": [],
   "source": [
    "#hide\n",
    "dates = []\n",
    "for i in arr_dates:\n",
    "    if i>='2020-07-01':\n",
    "        dates.append(i)\n",
    "dict = {'states':dates}\n",
    "for i in arr_states:\n",
    "    dict[i] = [0]*len(dates)\n",
    "dft_cases = pd.DataFrame(dict)\n",
    "dft_deaths = pd.DataFrame(dict)\n"
   ]
  },
  {
   "cell_type": "code",
   "execution_count": 6,
   "metadata": {
    "execution": {
     "iopub.execute_input": "2020-09-05T06:41:30.022884Z",
     "iopub.status.busy": "2020-09-05T06:41:30.022105Z",
     "iopub.status.idle": "2020-09-05T06:41:31.148710Z",
     "shell.execute_reply": "2020-09-05T06:41:31.148174Z"
    },
    "papermill": {
     "duration": 1.178851,
     "end_time": "2020-09-05T06:41:31.148916",
     "exception": false,
     "start_time": "2020-09-05T06:41:29.970065",
     "status": "completed"
    },
    "tags": []
   },
   "outputs": [],
   "source": [
    "#hide\n",
    "for i in range(len(dates)):\n",
    "    df1_deaths = df_deaths1.get_group(dates[i])\n",
    "    for j in range(len(df1_deaths.index)):\n",
    "        if df1_deaths.iloc[j,1] in arr_states:\n",
    "            dft_deaths.loc[i,df1_deaths.iloc[j,1]] = df1_deaths.iloc[j,2]\n",
    "dft_deaths = dft_deaths.set_index('states')"
   ]
  },
  {
   "cell_type": "code",
   "execution_count": 7,
   "metadata": {
    "execution": {
     "iopub.execute_input": "2020-09-05T06:41:31.189213Z",
     "iopub.status.busy": "2020-09-05T06:41:31.188579Z",
     "iopub.status.idle": "2020-09-05T06:41:32.288244Z",
     "shell.execute_reply": "2020-09-05T06:41:32.287457Z"
    },
    "papermill": {
     "duration": 1.122332,
     "end_time": "2020-09-05T06:41:32.288407",
     "exception": false,
     "start_time": "2020-09-05T06:41:31.166075",
     "status": "completed"
    },
    "tags": []
   },
   "outputs": [],
   "source": [
    "#hide\n",
    "for i in range(len(dates)):\n",
    "    df1_cases = df_cases1.get_group(dates[i])\n",
    "    for j in range(len(df1_cases.index)):\n",
    "        if df1_cases.iloc[j,1] in arr_states:\n",
    "            dft_cases.loc[i,df1_cases.iloc[j,1]] = df1_cases.iloc[j,2]\n",
    "dft_cases = dft_cases.set_index('states')"
   ]
  },
  {
   "cell_type": "code",
   "execution_count": 8,
   "metadata": {
    "execution": {
     "iopub.execute_input": "2020-09-05T06:41:32.321832Z",
     "iopub.status.busy": "2020-09-05T06:41:32.320577Z",
     "iopub.status.idle": "2020-09-05T06:41:32.322510Z",
     "shell.execute_reply": "2020-09-05T06:41:32.323084Z"
    },
    "papermill": {
     "duration": 0.021245,
     "end_time": "2020-09-05T06:41:32.323335",
     "exception": false,
     "start_time": "2020-09-05T06:41:32.302090",
     "status": "completed"
    },
    "tags": []
   },
   "outputs": [],
   "source": [
    "#hide\n",
    "dft_cases = dft_cases.T\n",
    "dft_deaths = dft_deaths.T\n",
    "dt_today = dates[-1]\n",
    "dt_yday = dates[-2]"
   ]
  },
  {
   "cell_type": "code",
   "execution_count": 9,
   "metadata": {
    "execution": {
     "iopub.execute_input": "2020-09-05T06:41:32.359069Z",
     "iopub.status.busy": "2020-09-05T06:41:32.358455Z",
     "iopub.status.idle": "2020-09-05T06:41:32.361062Z",
     "shell.execute_reply": "2020-09-05T06:41:32.361646Z"
    },
    "papermill": {
     "duration": 0.02465,
     "end_time": "2020-09-05T06:41:32.361783",
     "exception": false,
     "start_time": "2020-09-05T06:41:32.337133",
     "status": "completed"
    },
    "tags": []
   },
   "outputs": [],
   "source": [
    "#hide\n",
    "dft_cases = dft_cases.reset_index()\n",
    "dft_deaths = dft_deaths.reset_index()\n",
    "dft_cases = dft_cases.rename(columns = {'index':'state'})\n",
    "dft_deaths = dft_deaths.rename(columns = {'index':'state'})"
   ]
  },
  {
   "cell_type": "code",
   "execution_count": 10,
   "metadata": {
    "execution": {
     "iopub.execute_input": "2020-09-05T06:41:32.401658Z",
     "iopub.status.busy": "2020-09-05T06:41:32.400959Z",
     "iopub.status.idle": "2020-09-05T06:41:32.403804Z",
     "shell.execute_reply": "2020-09-05T06:41:32.403153Z"
    },
    "papermill": {
     "duration": 0.027697,
     "end_time": "2020-09-05T06:41:32.403921",
     "exception": false,
     "start_time": "2020-09-05T06:41:32.376224",
     "status": "completed"
    },
    "tags": []
   },
   "outputs": [],
   "source": [
    "#hide\n",
    "dfc_cases = dft_cases.groupby('state')[dt_today].sum()\n",
    "dfc_deaths = dft_deaths.groupby('state')[dt_today].sum()\n",
    "dfp_cases = dft_cases.groupby('state')[dt_yday].sum()\n",
    "dfp_deaths = dft_deaths.groupby('state')[dt_yday].sum()"
   ]
  },
  {
   "cell_type": "code",
   "execution_count": 11,
   "metadata": {
    "execution": {
     "iopub.execute_input": "2020-09-05T06:41:32.453249Z",
     "iopub.status.busy": "2020-09-05T06:41:32.452663Z",
     "iopub.status.idle": "2020-09-05T06:41:32.459259Z",
     "shell.execute_reply": "2020-09-05T06:41:32.459696Z"
    },
    "papermill": {
     "duration": 0.035641,
     "end_time": "2020-09-05T06:41:32.459827",
     "exception": false,
     "start_time": "2020-09-05T06:41:32.424186",
     "status": "completed"
    },
    "tags": []
   },
   "outputs": [
    {
     "data": {
      "text/html": [
       "<div>\n",
       "<style scoped>\n",
       "    .dataframe tbody tr th:only-of-type {\n",
       "        vertical-align: middle;\n",
       "    }\n",
       "\n",
       "    .dataframe tbody tr th {\n",
       "        vertical-align: top;\n",
       "    }\n",
       "\n",
       "    .dataframe thead th {\n",
       "        text-align: right;\n",
       "    }\n",
       "</style>\n",
       "<table border=\"1\" class=\"dataframe\">\n",
       "  <thead>\n",
       "    <tr style=\"text-align: right;\">\n",
       "      <th></th>\n",
       "      <th>states</th>\n",
       "      <th>Cases</th>\n",
       "      <th>Deaths</th>\n",
       "      <th>PCases</th>\n",
       "      <th>PDeaths</th>\n",
       "    </tr>\n",
       "  </thead>\n",
       "  <tbody>\n",
       "    <tr>\n",
       "      <th>0</th>\n",
       "      <td>Maharashtra</td>\n",
       "      <td>863062</td>\n",
       "      <td>25964</td>\n",
       "      <td>863062</td>\n",
       "      <td>25964</td>\n",
       "    </tr>\n",
       "    <tr>\n",
       "      <th>1</th>\n",
       "      <td>Andhra Pradesh</td>\n",
       "      <td>476506</td>\n",
       "      <td>4276</td>\n",
       "      <td>476506</td>\n",
       "      <td>4276</td>\n",
       "    </tr>\n",
       "    <tr>\n",
       "      <th>2</th>\n",
       "      <td>Tamil Nadu</td>\n",
       "      <td>451827</td>\n",
       "      <td>7687</td>\n",
       "      <td>451827</td>\n",
       "      <td>7687</td>\n",
       "    </tr>\n",
       "    <tr>\n",
       "      <th>3</th>\n",
       "      <td>Karnataka</td>\n",
       "      <td>379486</td>\n",
       "      <td>6170</td>\n",
       "      <td>379486</td>\n",
       "      <td>6170</td>\n",
       "    </tr>\n",
       "    <tr>\n",
       "      <th>4</th>\n",
       "      <td>Uttar Pradesh</td>\n",
       "      <td>253175</td>\n",
       "      <td>3762</td>\n",
       "      <td>253175</td>\n",
       "      <td>3762</td>\n",
       "    </tr>\n",
       "  </tbody>\n",
       "</table>\n",
       "</div>"
      ],
      "text/plain": [
       "           states   Cases  Deaths  PCases  PDeaths\n",
       "0     Maharashtra  863062   25964  863062    25964\n",
       "1  Andhra Pradesh  476506    4276  476506     4276\n",
       "2      Tamil Nadu  451827    7687  451827     7687\n",
       "3       Karnataka  379486    6170  379486     6170\n",
       "4   Uttar Pradesh  253175    3762  253175     3762"
      ]
     },
     "execution_count": 11,
     "metadata": {},
     "output_type": "execute_result"
    }
   ],
   "source": [
    "#hide\n",
    "df_table = pd.DataFrame({'states': dfc_cases.index, 'Cases': dfc_cases.values, 'Deaths': dfc_deaths.values, 'PCases': dfp_cases.values, 'PDeaths': dfp_deaths.values}).set_index('states')\n",
    "df_table = df_table.sort_values(by = ['Cases','Deaths'], ascending = [False, False])\n",
    "df_table = df_table.reset_index()\n",
    "df_table.head()"
   ]
  },
  {
   "cell_type": "code",
   "execution_count": 12,
   "metadata": {
    "execution": {
     "iopub.execute_input": "2020-09-05T06:41:32.492834Z",
     "iopub.status.busy": "2020-09-05T06:41:32.492312Z",
     "iopub.status.idle": "2020-09-05T06:41:32.500331Z",
     "shell.execute_reply": "2020-09-05T06:41:32.499908Z"
    },
    "papermill": {
     "duration": 0.026114,
     "end_time": "2020-09-05T06:41:32.500435",
     "exception": false,
     "start_time": "2020-09-05T06:41:32.474321",
     "status": "completed"
    },
    "tags": []
   },
   "outputs": [],
   "source": [
    "#hide\n",
    "for c in 'Cases, Deaths'.split(', '):\n",
    "    df_table[f'{c} (+)'] = (df_table[c] - df_table[f'P{c}']).clip(0)\n",
    "df_table['Fatality Rate'] = (100* df_table['Deaths']/ df_table['Cases']).round(2)"
   ]
  },
  {
   "cell_type": "code",
   "execution_count": 13,
   "metadata": {
    "execution": {
     "iopub.execute_input": "2020-09-05T06:41:32.537220Z",
     "iopub.status.busy": "2020-09-05T06:41:32.536708Z",
     "iopub.status.idle": "2020-09-05T06:41:32.539530Z",
     "shell.execute_reply": "2020-09-05T06:41:32.540092Z"
    },
    "papermill": {
     "duration": 0.026454,
     "end_time": "2020-09-05T06:41:32.540208",
     "exception": false,
     "start_time": "2020-09-05T06:41:32.513754",
     "status": "completed"
    },
    "tags": []
   },
   "outputs": [
    {
     "data": {
      "text/html": [
       "<div>\n",
       "<style scoped>\n",
       "    .dataframe tbody tr th:only-of-type {\n",
       "        vertical-align: middle;\n",
       "    }\n",
       "\n",
       "    .dataframe tbody tr th {\n",
       "        vertical-align: top;\n",
       "    }\n",
       "\n",
       "    .dataframe thead th {\n",
       "        text-align: right;\n",
       "    }\n",
       "</style>\n",
       "<table border=\"1\" class=\"dataframe\">\n",
       "  <thead>\n",
       "    <tr style=\"text-align: right;\">\n",
       "      <th></th>\n",
       "      <th>states</th>\n",
       "      <th>Cases</th>\n",
       "      <th>Deaths</th>\n",
       "      <th>PCases</th>\n",
       "      <th>PDeaths</th>\n",
       "      <th>Cases (+)</th>\n",
       "      <th>Deaths (+)</th>\n",
       "      <th>Fatality Rate</th>\n",
       "    </tr>\n",
       "  </thead>\n",
       "  <tbody>\n",
       "    <tr>\n",
       "      <th>0</th>\n",
       "      <td>Maharashtra</td>\n",
       "      <td>863062</td>\n",
       "      <td>25964</td>\n",
       "      <td>863062</td>\n",
       "      <td>25964</td>\n",
       "      <td>0</td>\n",
       "      <td>0</td>\n",
       "      <td>3.01</td>\n",
       "    </tr>\n",
       "    <tr>\n",
       "      <th>1</th>\n",
       "      <td>Andhra Pradesh</td>\n",
       "      <td>476506</td>\n",
       "      <td>4276</td>\n",
       "      <td>476506</td>\n",
       "      <td>4276</td>\n",
       "      <td>0</td>\n",
       "      <td>0</td>\n",
       "      <td>0.90</td>\n",
       "    </tr>\n",
       "    <tr>\n",
       "      <th>2</th>\n",
       "      <td>Tamil Nadu</td>\n",
       "      <td>451827</td>\n",
       "      <td>7687</td>\n",
       "      <td>451827</td>\n",
       "      <td>7687</td>\n",
       "      <td>0</td>\n",
       "      <td>0</td>\n",
       "      <td>1.70</td>\n",
       "    </tr>\n",
       "    <tr>\n",
       "      <th>3</th>\n",
       "      <td>Karnataka</td>\n",
       "      <td>379486</td>\n",
       "      <td>6170</td>\n",
       "      <td>379486</td>\n",
       "      <td>6170</td>\n",
       "      <td>0</td>\n",
       "      <td>0</td>\n",
       "      <td>1.63</td>\n",
       "    </tr>\n",
       "    <tr>\n",
       "      <th>4</th>\n",
       "      <td>Uttar Pradesh</td>\n",
       "      <td>253175</td>\n",
       "      <td>3762</td>\n",
       "      <td>253175</td>\n",
       "      <td>3762</td>\n",
       "      <td>0</td>\n",
       "      <td>0</td>\n",
       "      <td>1.49</td>\n",
       "    </tr>\n",
       "  </tbody>\n",
       "</table>\n",
       "</div>"
      ],
      "text/plain": [
       "           states   Cases  Deaths  PCases  PDeaths  Cases (+)  Deaths (+)  \\\n",
       "0     Maharashtra  863062   25964  863062    25964          0           0   \n",
       "1  Andhra Pradesh  476506    4276  476506     4276          0           0   \n",
       "2      Tamil Nadu  451827    7687  451827     7687          0           0   \n",
       "3       Karnataka  379486    6170  379486     6170          0           0   \n",
       "4   Uttar Pradesh  253175    3762  253175     3762          0           0   \n",
       "\n",
       "   Fatality Rate  \n",
       "0           3.01  \n",
       "1           0.90  \n",
       "2           1.70  \n",
       "3           1.63  \n",
       "4           1.49  "
      ]
     },
     "execution_count": 13,
     "metadata": {},
     "output_type": "execute_result"
    }
   ],
   "source": [
    "#hide\n",
    "df_table.head()"
   ]
  },
  {
   "cell_type": "code",
   "execution_count": 14,
   "metadata": {
    "execution": {
     "iopub.execute_input": "2020-09-05T06:41:32.575534Z",
     "iopub.status.busy": "2020-09-05T06:41:32.574959Z",
     "iopub.status.idle": "2020-09-05T06:41:32.589953Z",
     "shell.execute_reply": "2020-09-05T06:41:32.589516Z"
    },
    "papermill": {
     "duration": 0.034161,
     "end_time": "2020-09-05T06:41:32.590054",
     "exception": false,
     "start_time": "2020-09-05T06:41:32.555893",
     "status": "completed"
    },
    "tags": []
   },
   "outputs": [
    {
     "data": {
      "text/plain": [
       "{'updated': '2020-09-05',\n",
       " 'since': '2020-09-04',\n",
       " 'Cases': 4024175,\n",
       " 'PCases': 4020239,\n",
       " 'Deaths': 69661,\n",
       " 'PDeaths': 69635,\n",
       " 'Cases (+)': 3936,\n",
       " 'Deaths (+)': 26}"
      ]
     },
     "execution_count": 14,
     "metadata": {},
     "output_type": "execute_result"
    }
   ],
   "source": [
    "#hide\n",
    "summary = {'updated':dates[-1], 'since':dates[-2]}\n",
    "list_names = ['Cases', 'PCases', 'Deaths', 'PDeaths', 'Cases (+)', 'Deaths (+)']\n",
    "for name in list_names:\n",
    "    summary[name] = df_table.sum()[name]\n",
    "summary"
   ]
  },
  {
   "cell_type": "code",
   "execution_count": 15,
   "metadata": {
    "execution": {
     "iopub.execute_input": "2020-09-05T06:41:32.622735Z",
     "iopub.status.busy": "2020-09-05T06:41:32.622138Z",
     "iopub.status.idle": "2020-09-05T06:41:32.624338Z",
     "shell.execute_reply": "2020-09-05T06:41:32.624735Z"
    },
    "papermill": {
     "duration": 0.02024,
     "end_time": "2020-09-05T06:41:32.624849",
     "exception": false,
     "start_time": "2020-09-05T06:41:32.604609",
     "status": "completed"
    },
    "tags": []
   },
   "outputs": [],
   "source": [
    "#hide\n",
    "overview = '''\n",
    "<!-- #######  HTML!! #########-->\n",
    "<h1 style=\"color: #5e9ca0; text-align: center;\">India</h1>\n",
    "<p style=\"text-align: center;\">Last update: <strong>{update}</strong></p>\n",
    "<p style=\"text-align: center;\">Confirmed cases:</p>\n",
    "<p style=\"text-align: center;font-size:24px;\">{cases} (<span style=\"color: #ff0000;\">+{new}</span>)</p>\n",
    "<p style=\"text-align: center;\">Confirmed deaths:</p>\n",
    "<p style=\"text-align: center;font-size:24px;\">{deaths} (<span style=\"color: #ff0000;\">+{dnew}</span>)</p>\n",
    "'''"
   ]
  },
  {
   "cell_type": "code",
   "execution_count": 16,
   "metadata": {
    "execution": {
     "iopub.execute_input": "2020-09-05T06:41:32.663308Z",
     "iopub.status.busy": "2020-09-05T06:41:32.662640Z",
     "iopub.status.idle": "2020-09-05T06:41:32.666116Z",
     "shell.execute_reply": "2020-09-05T06:41:32.665643Z"
    },
    "papermill": {
     "duration": 0.026265,
     "end_time": "2020-09-05T06:41:32.666227",
     "exception": false,
     "start_time": "2020-09-05T06:41:32.639962",
     "status": "completed"
    },
    "tags": []
   },
   "outputs": [
    {
     "data": {
      "text/html": [
       "\n",
       "<!-- #######  HTML!! #########-->\n",
       "<h1 style=\"color: #5e9ca0; text-align: center;\">India</h1>\n",
       "<p style=\"text-align: center;\">Last update: <strong>2020-09-05</strong></p>\n",
       "<p style=\"text-align: center;\">Confirmed cases:</p>\n",
       "<p style=\"text-align: center;font-size:24px;\">4024175 (<span style=\"color: #ff0000;\">+3936</span>)</p>\n",
       "<p style=\"text-align: center;\">Confirmed deaths:</p>\n",
       "<p style=\"text-align: center;font-size:24px;\">69661 (<span style=\"color: #ff0000;\">+26</span>)</p>\n"
      ],
      "text/plain": [
       "<IPython.core.display.HTML object>"
      ]
     },
     "metadata": {},
     "output_type": "display_data"
    }
   ],
   "source": [
    "#hide_input\n",
    "update = summary['updated']\n",
    "cases = summary['Cases']\n",
    "new = summary['Cases (+)']\n",
    "deaths = summary['Deaths']\n",
    "dnew = summary['Deaths (+)']\n",
    "\n",
    "html = HTML(overview.format(update=update, cases=cases,new=new,deaths=deaths,dnew=dnew))\n",
    "\n",
    "display(html)"
   ]
  },
  {
   "cell_type": "code",
   "execution_count": 17,
   "metadata": {
    "execution": {
     "iopub.execute_input": "2020-09-05T06:41:32.707291Z",
     "iopub.status.busy": "2020-09-05T06:41:32.706624Z",
     "iopub.status.idle": "2020-09-05T06:41:32.711693Z",
     "shell.execute_reply": "2020-09-05T06:41:32.711201Z"
    },
    "papermill": {
     "duration": 0.028528,
     "end_time": "2020-09-05T06:41:32.711813",
     "exception": false,
     "start_time": "2020-09-05T06:41:32.683285",
     "status": "completed"
    },
    "tags": []
   },
   "outputs": [],
   "source": [
    "#hide\n",
    "dt_cols = list(dft_cases.columns[1:])\n",
    "dft_ct_new_cases = dft_cases.groupby('state')[dt_cols].sum().diff(axis=1).fillna(0).astype(int)\n",
    "dft_ct_new_cases.sort_values(by = dates[-1], ascending = False,inplace = True)"
   ]
  },
  {
   "cell_type": "code",
   "execution_count": 18,
   "metadata": {
    "execution": {
     "iopub.execute_input": "2020-09-05T06:41:32.758758Z",
     "iopub.status.busy": "2020-09-05T06:41:32.758131Z",
     "iopub.status.idle": "2020-09-05T06:41:32.761080Z",
     "shell.execute_reply": "2020-09-05T06:41:32.760620Z"
    },
    "papermill": {
     "duration": 0.033621,
     "end_time": "2020-09-05T06:41:32.761206",
     "exception": false,
     "start_time": "2020-09-05T06:41:32.727585",
     "status": "completed"
    },
    "tags": []
   },
   "outputs": [
    {
     "data": {
      "text/html": [
       "<div>\n",
       "<style scoped>\n",
       "    .dataframe tbody tr th:only-of-type {\n",
       "        vertical-align: middle;\n",
       "    }\n",
       "\n",
       "    .dataframe tbody tr th {\n",
       "        vertical-align: top;\n",
       "    }\n",
       "\n",
       "    .dataframe thead th {\n",
       "        text-align: right;\n",
       "    }\n",
       "</style>\n",
       "<table border=\"1\" class=\"dataframe\">\n",
       "  <thead>\n",
       "    <tr style=\"text-align: right;\">\n",
       "      <th>states</th>\n",
       "      <th>2020-07-01</th>\n",
       "      <th>2020-07-02</th>\n",
       "      <th>2020-07-03</th>\n",
       "      <th>2020-07-04</th>\n",
       "      <th>2020-07-05</th>\n",
       "      <th>2020-07-06</th>\n",
       "      <th>2020-07-07</th>\n",
       "      <th>2020-07-08</th>\n",
       "      <th>2020-07-09</th>\n",
       "      <th>2020-07-10</th>\n",
       "      <th>...</th>\n",
       "      <th>2020-08-27</th>\n",
       "      <th>2020-08-28</th>\n",
       "      <th>2020-08-29</th>\n",
       "      <th>2020-08-30</th>\n",
       "      <th>2020-08-31</th>\n",
       "      <th>2020-09-01</th>\n",
       "      <th>2020-09-02</th>\n",
       "      <th>2020-09-03</th>\n",
       "      <th>2020-09-04</th>\n",
       "      <th>2020-09-05</th>\n",
       "    </tr>\n",
       "    <tr>\n",
       "      <th>state</th>\n",
       "      <th></th>\n",
       "      <th></th>\n",
       "      <th></th>\n",
       "      <th></th>\n",
       "      <th></th>\n",
       "      <th></th>\n",
       "      <th></th>\n",
       "      <th></th>\n",
       "      <th></th>\n",
       "      <th></th>\n",
       "      <th></th>\n",
       "      <th></th>\n",
       "      <th></th>\n",
       "      <th></th>\n",
       "      <th></th>\n",
       "      <th></th>\n",
       "      <th></th>\n",
       "      <th></th>\n",
       "      <th></th>\n",
       "      <th></th>\n",
       "      <th></th>\n",
       "    </tr>\n",
       "  </thead>\n",
       "  <tbody>\n",
       "    <tr>\n",
       "      <th>Telangana</th>\n",
       "      <td>0</td>\n",
       "      <td>1213</td>\n",
       "      <td>1892</td>\n",
       "      <td>1850</td>\n",
       "      <td>1590</td>\n",
       "      <td>1831</td>\n",
       "      <td>1879</td>\n",
       "      <td>1924</td>\n",
       "      <td>1410</td>\n",
       "      <td>1278</td>\n",
       "      <td>...</td>\n",
       "      <td>2795</td>\n",
       "      <td>2932</td>\n",
       "      <td>2751</td>\n",
       "      <td>2924</td>\n",
       "      <td>1873</td>\n",
       "      <td>2734</td>\n",
       "      <td>2892</td>\n",
       "      <td>2817</td>\n",
       "      <td>2478</td>\n",
       "      <td>2511</td>\n",
       "    </tr>\n",
       "    <tr>\n",
       "      <th>Rajasthan</th>\n",
       "      <td>0</td>\n",
       "      <td>350</td>\n",
       "      <td>390</td>\n",
       "      <td>480</td>\n",
       "      <td>632</td>\n",
       "      <td>524</td>\n",
       "      <td>716</td>\n",
       "      <td>659</td>\n",
       "      <td>500</td>\n",
       "      <td>611</td>\n",
       "      <td>...</td>\n",
       "      <td>1345</td>\n",
       "      <td>1355</td>\n",
       "      <td>1407</td>\n",
       "      <td>1450</td>\n",
       "      <td>1466</td>\n",
       "      <td>1470</td>\n",
       "      <td>1511</td>\n",
       "      <td>1553</td>\n",
       "      <td>1570</td>\n",
       "      <td>718</td>\n",
       "    </tr>\n",
       "    <tr>\n",
       "      <th>Tripura</th>\n",
       "      <td>0</td>\n",
       "      <td>39</td>\n",
       "      <td>93</td>\n",
       "      <td>25</td>\n",
       "      <td>23</td>\n",
       "      <td>111</td>\n",
       "      <td>24</td>\n",
       "      <td>57</td>\n",
       "      <td>16</td>\n",
       "      <td>142</td>\n",
       "      <td>...</td>\n",
       "      <td>385</td>\n",
       "      <td>509</td>\n",
       "      <td>443</td>\n",
       "      <td>447</td>\n",
       "      <td>321</td>\n",
       "      <td>509</td>\n",
       "      <td>566</td>\n",
       "      <td>590</td>\n",
       "      <td>524</td>\n",
       "      <td>691</td>\n",
       "    </tr>\n",
       "    <tr>\n",
       "      <th>Mizoram</th>\n",
       "      <td>0</td>\n",
       "      <td>2</td>\n",
       "      <td>0</td>\n",
       "      <td>2</td>\n",
       "      <td>22</td>\n",
       "      <td>11</td>\n",
       "      <td>1</td>\n",
       "      <td>5</td>\n",
       "      <td>0</td>\n",
       "      <td>23</td>\n",
       "      <td>...</td>\n",
       "      <td>7</td>\n",
       "      <td>29</td>\n",
       "      <td>0</td>\n",
       "      <td>5</td>\n",
       "      <td>3</td>\n",
       "      <td>1</td>\n",
       "      <td>8</td>\n",
       "      <td>20</td>\n",
       "      <td>6</td>\n",
       "      <td>16</td>\n",
       "    </tr>\n",
       "    <tr>\n",
       "      <th>Andaman and Nicobar Islands</th>\n",
       "      <td>0</td>\n",
       "      <td>9</td>\n",
       "      <td>7</td>\n",
       "      <td>3</td>\n",
       "      <td>6</td>\n",
       "      <td>16</td>\n",
       "      <td>6</td>\n",
       "      <td>2</td>\n",
       "      <td>7</td>\n",
       "      <td>0</td>\n",
       "      <td>...</td>\n",
       "      <td>33</td>\n",
       "      <td>32</td>\n",
       "      <td>31</td>\n",
       "      <td>23</td>\n",
       "      <td>28</td>\n",
       "      <td>28</td>\n",
       "      <td>26</td>\n",
       "      <td>37</td>\n",
       "      <td>34</td>\n",
       "      <td>0</td>\n",
       "    </tr>\n",
       "  </tbody>\n",
       "</table>\n",
       "<p>5 rows × 67 columns</p>\n",
       "</div>"
      ],
      "text/plain": [
       "states                       2020-07-01  2020-07-02  2020-07-03  2020-07-04  \\\n",
       "state                                                                         \n",
       "Telangana                             0        1213        1892        1850   \n",
       "Rajasthan                             0         350         390         480   \n",
       "Tripura                               0          39          93          25   \n",
       "Mizoram                               0           2           0           2   \n",
       "Andaman and Nicobar Islands           0           9           7           3   \n",
       "\n",
       "states                       2020-07-05  2020-07-06  2020-07-07  2020-07-08  \\\n",
       "state                                                                         \n",
       "Telangana                          1590        1831        1879        1924   \n",
       "Rajasthan                           632         524         716         659   \n",
       "Tripura                              23         111          24          57   \n",
       "Mizoram                              22          11           1           5   \n",
       "Andaman and Nicobar Islands           6          16           6           2   \n",
       "\n",
       "states                       2020-07-09  2020-07-10  ...  2020-08-27  \\\n",
       "state                                                ...               \n",
       "Telangana                          1410        1278  ...        2795   \n",
       "Rajasthan                           500         611  ...        1345   \n",
       "Tripura                              16         142  ...         385   \n",
       "Mizoram                               0          23  ...           7   \n",
       "Andaman and Nicobar Islands           7           0  ...          33   \n",
       "\n",
       "states                       2020-08-28  2020-08-29  2020-08-30  2020-08-31  \\\n",
       "state                                                                         \n",
       "Telangana                          2932        2751        2924        1873   \n",
       "Rajasthan                          1355        1407        1450        1466   \n",
       "Tripura                             509         443         447         321   \n",
       "Mizoram                              29           0           5           3   \n",
       "Andaman and Nicobar Islands          32          31          23          28   \n",
       "\n",
       "states                       2020-09-01  2020-09-02  2020-09-03  2020-09-04  \\\n",
       "state                                                                         \n",
       "Telangana                          2734        2892        2817        2478   \n",
       "Rajasthan                          1470        1511        1553        1570   \n",
       "Tripura                             509         566         590         524   \n",
       "Mizoram                               1           8          20           6   \n",
       "Andaman and Nicobar Islands          28          26          37          34   \n",
       "\n",
       "states                       2020-09-05  \n",
       "state                                    \n",
       "Telangana                          2511  \n",
       "Rajasthan                           718  \n",
       "Tripura                             691  \n",
       "Mizoram                              16  \n",
       "Andaman and Nicobar Islands           0  \n",
       "\n",
       "[5 rows x 67 columns]"
      ]
     },
     "execution_count": 18,
     "metadata": {},
     "output_type": "execute_result"
    }
   ],
   "source": [
    "#hide\n",
    "dft_ct_new_cases.head()"
   ]
  },
  {
   "cell_type": "code",
   "execution_count": 19,
   "metadata": {
    "execution": {
     "iopub.execute_input": "2020-09-05T06:41:32.806637Z",
     "iopub.status.busy": "2020-09-05T06:41:32.801343Z",
     "iopub.status.idle": "2020-09-05T06:41:36.431561Z",
     "shell.execute_reply": "2020-09-05T06:41:36.432077Z"
    },
    "papermill": {
     "duration": 3.654116,
     "end_time": "2020-09-05T06:41:36.432237",
     "exception": false,
     "start_time": "2020-09-05T06:41:32.778121",
     "status": "completed"
    },
    "tags": []
   },
   "outputs": [
    {
     "data": {
      "image/png": "[encoded data removed]",
      "text/plain": [
       "<Figure size 1296x2016 with 11 Axes>"
      ]
     },
     "metadata": {
      "needs_background": "light"
     },
     "output_type": "display_data"
    }
   ],
   "source": [
    "#hide_input\n",
    "df = dft_ct_new_cases.copy()\n",
    "df.loc['Total'] = df.sum()\n",
    "n = 5\n",
    "ax = []\n",
    "fig = plt.figure(figsize = (18,28))\n",
    "gs = fig.add_gridspec(n+2, 5)\n",
    "# gs = fig.add_gridspec(2, 3)\n",
    "ax1 = fig.add_subplot(gs[0, :])\n",
    "ef = df.loc['Total'].rename_axis('date').reset_index()\n",
    "ef['date'] = ef['date'].astype('datetime64[ns]')\n",
    "ax1.bar(ef.date,ef.Total,alpha=0.3,color='#007acc')\n",
    "ax1.plot(ef.date,ef.Total , marker=\"o\", color='#007acc')\n",
    "ax1.xaxis.set_major_locator(mdates.WeekdayLocator())\n",
    "ax1.xaxis.set_major_formatter(mdates.DateFormatter('%b %d'))\n",
    "ax1.text(0.02, 0.5,'India daily case count', transform = ax1.transAxes, fontsize=25);\n",
    "ax1.spines['right'].set_visible(False)\n",
    "ax1.spines['top'].set_visible(False)\n",
    "\n",
    "ax2 = fig.add_subplot(gs[1,0])\n",
    "ef = df.loc['Maharashtra'].rename_axis('date').reset_index()\n",
    "ef['date'] = ef['date'].astype('datetime64[ns]')\n",
    "\n",
    "ax2.bar(ef.date, ef.Maharashtra,color = '#007acc',alpha=0.5)\n",
    "ax2.xaxis.set_major_locator(mdates.WeekdayLocator())\n",
    "ax2.xaxis.set_major_formatter(mdates.DateFormatter('%b %d'))\n",
    "ax2.set_xticks(ax2.get_xticks()[::3])\n",
    "maxyval = ef.Maharashtra.max()\n",
    "ax2.set_ylim([0,maxyval])\n",
    "ax2.text(0.05, 0.9,'Maharashtra', transform = ax2.transAxes, fontsize=20);\n",
    "ax2.spines['right'].set_visible(False)\n",
    "ax2.spines['top'].set_visible(False)\n",
    "\n",
    "\n",
    "ax3 = fig.add_subplot(gs[1,1])\n",
    "ef = df.loc['Tamil Nadu'].rename_axis('date').reset_index()\n",
    "ef['date'] = ef['date'].astype('datetime64[ns]')\n",
    "ax3.bar(ef.date, ef['Tamil Nadu'],color = '#007acc',alpha=0.5,)\n",
    "ax3.xaxis.set_major_locator(mdates.WeekdayLocator())\n",
    "ax3.xaxis.set_major_formatter(mdates.DateFormatter('%b %d'))\n",
    "ax3.set_xticks(ax3.get_xticks()[::3])\n",
    "ax3.text(0.05, 0.9,'Tamil Nadu', transform = ax3.transAxes, fontsize=20);\n",
    "ax3.spines['right'].set_visible(False)\n",
    "ax3.spines['top'].set_visible(False)\n",
    "\n",
    "ax5 = fig.add_subplot(gs[1,3])\n",
    "ef = df.loc['Telangana'].rename_axis('date').reset_index()\n",
    "ef['date'] = ef['date'].astype('datetime64[ns]')\n",
    "ax5.bar(ef.date, ef['Telangana'],color = '#007acc',alpha=0.5,)\n",
    "ax5.xaxis.set_major_locator(mdates.WeekdayLocator())\n",
    "ax5.xaxis.set_major_formatter(mdates.DateFormatter('%b %d'))\n",
    "ax5.set_xticks(ax5.get_xticks()[::3])\n",
    "ax5.text(0.05, 0.9,'Telangana', transform = ax5.transAxes, fontsize=20);\n",
    "ax5.spines['right'].set_visible(False)\n",
    "ax5.spines['top'].set_visible(False)\n",
    "\n",
    "ax6 = fig.add_subplot(gs[1,4])\n",
    "ef = df.loc['Andhra Pradesh'].rename_axis('date').reset_index()\n",
    "ef['date'] = ef['date'].astype('datetime64[ns]')\n",
    "ax6.bar(ef.date, ef['Andhra Pradesh'],color = '#007acc',alpha=0.5,)\n",
    "ax6.xaxis.set_major_locator(mdates.WeekdayLocator())\n",
    "ax6.xaxis.set_major_formatter(mdates.DateFormatter('%b %d'))\n",
    "ax6.set_xticks(ax6.get_xticks()[::3])\n",
    "ax6.text(0.05, 1,'Andhra Pradesh', transform = ax6.transAxes, fontsize=20);\n",
    "ax6.spines['right'].set_visible(False)\n",
    "ax6.spines['top'].set_visible(False)\n",
    "\n",
    "ax4 = fig.add_subplot(gs[1,2])\n",
    "ef = df.loc['Delhi'].rename_axis('date').reset_index()\n",
    "ef['date'] = ef['date'].astype('datetime64[ns]')\n",
    "ax4.bar(ef.date, ef.Delhi,color = '#007acc',alpha=0.5)\n",
    "ax4.set_xticks([])\n",
    "ax4.xaxis.set_major_locator(mdates.WeekdayLocator())\n",
    "ax4.xaxis.set_major_formatter(mdates.DateFormatter('%b %d'))\n",
    "ax4.set_xticks(ax4.get_xticks()[::3])\n",
    "ax4.spines['right'].set_visible(False)\n",
    "ax4.spines['top'].set_visible(False)\n",
    "\n",
    "ax4.text(0.05, 1,'Delhi', transform = ax4.transAxes, fontsize=20)\n",
    "\n",
    "for i in range(n):\n",
    "    \n",
    "    ax.append(fig.add_subplot(gs[i+2,:]))\n",
    "    ef = df.iloc[i+3].rename_axis('date').reset_index()\n",
    "    ef['date'] = ef['date'].astype('datetime64[ns]')\n",
    "    ax[i].bar(ef.date,ef.iloc[:,-1],color = '#007acc',alpha=0.3)\n",
    "    ax[i].plot(ef.date,ef.iloc[:,-1],marker='o',color='#007acc')\n",
    "    ax[i].text(0.02,0.5,f'{ef.columns.values[-1]}',transform = ax[i].transAxes, fontsize = 20);\n",
    "    ax[i].xaxis.set_major_locator(mdates.WeekdayLocator())\n",
    "    ax[i].xaxis.set_major_formatter(mdates.DateFormatter('%b %d'))\n",
    "    ax[i].set_ylim([0,7000])\n",
    "    ax[i].spines['right'].set_visible(False)\n",
    "    ax[i].spines['top'].set_visible(False)\n",
    "plt.tight_layout()\n"
   ]
  },
  {
   "cell_type": "code",
   "execution_count": 20,
   "metadata": {
    "execution": {
     "iopub.execute_input": "2020-09-05T06:41:36.486784Z",
     "iopub.status.busy": "2020-09-05T06:41:36.486206Z",
     "iopub.status.idle": "2020-09-05T06:41:36.488814Z",
     "shell.execute_reply": "2020-09-05T06:41:36.489294Z"
    },
    "papermill": {
     "duration": 0.036362,
     "end_time": "2020-09-05T06:41:36.489427",
     "exception": false,
     "start_time": "2020-09-05T06:41:36.453065",
     "status": "completed"
    },
    "tags": []
   },
   "outputs": [
    {
     "name": "stdout",
     "output_type": "stream",
     "text": [
      "                                   states   Cases  Deaths  PCases  PDeaths  Cases (+)  Deaths (+)  Fatality Rate\n",
      "                              Maharashtra  863062   25964  863062    25964          0           0           3.01\n",
      "                           Andhra Pradesh  476506    4276  476506     4276          0           0           0.90\n",
      "                               Tamil Nadu  451827    7687  451827     7687          0           0           1.70\n",
      "                                Karnataka  379486    6170  379486     6170          0           0           1.63\n",
      "                            Uttar Pradesh  253175    3762  253175     3762          0           0           1.49\n",
      "                                    Delhi  185220    4513  185220     4513          0           0           2.44\n",
      "                              West Bengal  174659    3452  174659     3452          0           0           1.98\n",
      "                                    Bihar  144134     741  144134      741          0           0           0.51\n",
      "                                Telangana  138395     877  135884      866       2511          11           0.63\n",
      "                                    Assam  121225     345  121225      345          0           0           0.28\n",
      "                                   Odisha  116678     584  116678      584          0           0           0.50\n",
      "                                  Gujarat  101695    3076  101695     3076          0           0           3.02\n",
      "                                Rajasthan   88515    1116   87797     1108        718           8           1.26\n",
      "                                   Kerala   82105     327   82105      327          0           0           0.40\n",
      "                                  Haryana   71983     759   71983      759          0           0           1.05\n",
      "                           Madhya Pradesh   70244    1513   70244     1513          0           0           2.15\n",
      "                                   Punjab   60013    1739   60013     1739          0           0           2.90\n",
      "                                Jharkhand   48039     447   48039      447          0           0           0.93\n",
      "                        Jammu and Kashmir   40990     755   40990      755          0           0           1.84\n",
      "                             Chhattisgarh   40634     337   40634      337          0           0           0.83\n",
      "                              Uttarakhand   23011     312   23011      312          0           0           1.36\n",
      "                                      Goa   19863     220   19863      220          0           0           1.11\n",
      "                               Puducherry   16172     280   16172      280          0           0           1.73\n",
      "                                  Tripura   14524     136   13833      129        691           7           0.94\n",
      "                         Himachal Pradesh    6830      49    6830       49          0           0           0.72\n",
      "                                  Manipur    6699      35    6699       35          0           0           0.52\n",
      "                               Chandigarh    5268      68    5268       68          0           0           1.29\n",
      "                        Arunachal Pradesh    4775       8    4775        8          0           0           0.17\n",
      "                                 Nagaland    4107       8    4107        8          0           0           0.19\n",
      "              Andaman and Nicobar Islands    3257      49    3257       49          0           0           1.50\n",
      "                                   Ladakh    2935      35    2935       35          0           0           1.19\n",
      "                                Meghalaya    2734      14    2734       14          0           0           0.51\n",
      " Dadra and Nagar Haveli and Daman and Diu    2510       2    2510        2          0           0           0.08\n",
      "                                   Sikkim    1843       5    1843        5          0           0           0.27\n",
      "                                  Mizoram    1062       0    1046        0         16           0           0.00\n",
      "                              Lakshadweep       0       0       0        0          0           0            NaN\n"
     ]
    }
   ],
   "source": [
    "#hide_input\n",
    "print(df_table.to_string(index=False))"
   ]
  },
  {
   "cell_type": "code",
   "execution_count": null,
   "metadata": {
    "papermill": {
     "duration": 0.021261,
     "end_time": "2020-09-05T06:41:36.533939",
     "exception": false,
     "start_time": "2020-09-05T06:41:36.512678",
     "status": "completed"
    },
    "tags": []
   },
   "outputs": [],
   "source": []
  },
  {
   "cell_type": "code",
   "execution_count": null,
   "metadata": {
    "papermill": {
     "duration": 0.022121,
     "end_time": "2020-09-05T06:41:36.577956",
     "exception": false,
     "start_time": "2020-09-05T06:41:36.555835",
     "status": "completed"
    },
    "tags": []
   },
   "outputs": [],
   "source": []
  }
 ],
 "metadata": {
  "kernelspec": {
   "display_name": "Python 3",
   "language": "python",
   "name": "python3"
  },
  "language_info": {
   "codemirror_mode": {
    "name": "ipython",
    "version": 3
   },
   "file_extension": ".py",
   "mimetype": "text/x-python",
   "name": "python",
   "nbconvert_exporter": "python",
   "pygments_lexer": "ipython3",
   "version": "3.6.12"
  },
  "papermill": {
   "duration": 10.291148,
   "end_time": "2020-09-05T06:41:36.906239",
   "environment_variables": {},
   "exception": null,
   "input_path": "latest.ipynb",
   "output_path": "latest.ipynb",
   "parameters": {},
   "start_time": "2020-09-05T06:41:26.615091",
   "version": "2.1.2"
  }
 },
 "nbformat": 4,
 "nbformat_minor": 4
}