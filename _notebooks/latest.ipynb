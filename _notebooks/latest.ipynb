{
 "cells": [
  {
   "cell_type": "markdown",
   "id": "colored-stack",
   "metadata": {
    "papermill": {
     "duration": 0.022489,
     "end_time": "2021-01-27T15:33:03.365525",
     "exception": false,
     "start_time": "2021-01-27T15:33:03.343036",
     "status": "completed"
    },
    "tags": []
   },
   "source": [
    "# Latest COVID-19 India Matplotlib Overview"
   ]
  },
  {
   "cell_type": "code",
   "execution_count": 1,
   "id": "light-proportion",
   "metadata": {
    "execution": {
     "iopub.execute_input": "2021-01-27T15:33:03.413539Z",
     "iopub.status.busy": "2021-01-27T15:33:03.412948Z",
     "iopub.status.idle": "2021-01-27T15:33:03.999688Z",
     "shell.execute_reply": "2021-01-27T15:33:03.998648Z"
    },
    "papermill": {
     "duration": 0.615841,
     "end_time": "2021-01-27T15:33:03.999834",
     "exception": false,
     "start_time": "2021-01-27T15:33:03.383993",
     "status": "completed"
    },
    "tags": []
   },
   "outputs": [],
   "source": [
    "#hide\n",
    "import pandas as pd\n",
    "import numpy as np\n",
    "import requests\n",
    "import json\n",
    "import matplotlib.pyplot as plt\n",
    "import matplotlib.dates as mdates\n",
    "import matplotlib as mpl\n",
    "from IPython.core.display import display,HTML\n",
    "%matplotlib inline\n",
    "from datetime import date"
   ]
  },
  {
   "cell_type": "code",
   "execution_count": 2,
   "id": "greenhouse-shooting",
   "metadata": {
    "execution": {
     "iopub.execute_input": "2021-01-27T15:33:04.041141Z",
     "iopub.status.busy": "2021-01-27T15:33:04.040585Z",
     "iopub.status.idle": "2021-01-27T15:33:04.332798Z",
     "shell.execute_reply": "2021-01-27T15:33:04.332247Z"
    },
    "papermill": {
     "duration": 0.31601,
     "end_time": "2021-01-27T15:33:04.332931",
     "exception": false,
     "start_time": "2021-01-27T15:33:04.016921",
     "status": "completed"
    },
    "tags": []
   },
   "outputs": [],
   "source": [
    "#hide\n",
    "df  = pd.read_csv('https://api.covid19india.org/csv/latest/states.csv')\n",
    "df = df[['Date','State','Confirmed','Deceased']]\n",
    "df = df.rename(columns={'Confirmed':'Cases', \"Deceased\":'Deaths'})\n",
    "df_cases = df[[\"Date\",'State','Cases']]\n",
    "df_deaths = df[['Date','State','Deaths']]\n",
    "df_cases1 = df_cases.groupby('Date')\n",
    "df_deaths1= df_deaths.groupby('Date')"
   ]
  },
  {
   "cell_type": "code",
   "execution_count": 3,
   "id": "hybrid-cathedral",
   "metadata": {
    "execution": {
     "iopub.execute_input": "2021-01-27T15:33:04.374343Z",
     "iopub.status.busy": "2021-01-27T15:33:04.373640Z",
     "iopub.status.idle": "2021-01-27T15:33:04.390832Z",
     "shell.execute_reply": "2021-01-27T15:33:04.391380Z"
    },
    "papermill": {
     "duration": 0.041495,
     "end_time": "2021-01-27T15:33:04.391555",
     "exception": false,
     "start_time": "2021-01-27T15:33:04.350060",
     "status": "completed"
    },
    "tags": []
   },
   "outputs": [],
   "source": [
    "#hide\n",
    "df_snap = pd.read_csv('data/SnapshotCases-28-July.csv')\n",
    "arr_states = df_snap['states'].unique()\n",
    "arr_dates = df['Date'].unique()\n",
    "df_snap = df_snap.set_index('states')"
   ]
  },
  {
   "cell_type": "code",
   "execution_count": 4,
   "id": "interior-belfast",
   "metadata": {
    "execution": {
     "iopub.execute_input": "2021-01-27T15:33:04.439860Z",
     "iopub.status.busy": "2021-01-27T15:33:04.439287Z",
     "iopub.status.idle": "2021-01-27T15:33:04.442363Z",
     "shell.execute_reply": "2021-01-27T15:33:04.442845Z"
    },
    "papermill": {
     "duration": 0.02811,
     "end_time": "2021-01-27T15:33:04.442976",
     "exception": false,
     "start_time": "2021-01-27T15:33:04.414866",
     "status": "completed"
    },
    "tags": []
   },
   "outputs": [
    {
     "data": {
      "text/plain": [
       "array(['Andaman and Nicobar Islands', 'Andhra Pradesh',\n",
       "       'Arunachal Pradesh', 'Assam', 'Bihar', 'Chandigarh',\n",
       "       'Dadra and Nagar Haveli and Daman and Diu', 'Delhi', 'Goa',\n",
       "       'Gujarat', 'Haryana', 'Himachal Pradesh', 'Jammu and Kashmir',\n",
       "       'Jharkhand', 'Karnataka', 'Kerala', 'Lakshadweep',\n",
       "       'Madhya Pradesh', 'Maharashtra', 'Manipur', 'Meghalaya', 'Mizoram',\n",
       "       'Nagaland', 'Odisha', 'Puducherry', 'Punjab', 'Rajasthan',\n",
       "       'Sikkim', 'Tamil Nadu', 'Telangana', 'Tripura', 'Uttar Pradesh',\n",
       "       'West Bengal', 'Chhattisgarh', 'Ladakh', 'Uttarakhand'],\n",
       "      dtype=object)"
      ]
     },
     "execution_count": 4,
     "metadata": {},
     "output_type": "execute_result"
    }
   ],
   "source": [
    "#hide\n",
    "arr_states[-9] = 'Puducherry'\n",
    "arr_states[-10] = 'Odisha'\n",
    "arr_states[6] = 'Dadra and Nagar Haveli and Daman and Diu'\n",
    "arr_states = np.append(arr_states,np.array(['Chhattisgarh','Ladakh','Uttarakhand']))\n",
    "arr_states"
   ]
  },
  {
   "cell_type": "code",
   "execution_count": 5,
   "id": "behind-manner",
   "metadata": {
    "execution": {
     "iopub.execute_input": "2021-01-27T15:33:04.490946Z",
     "iopub.status.busy": "2021-01-27T15:33:04.490330Z",
     "iopub.status.idle": "2021-01-27T15:33:04.499233Z",
     "shell.execute_reply": "2021-01-27T15:33:04.499744Z"
    },
    "papermill": {
     "duration": 0.038958,
     "end_time": "2021-01-27T15:33:04.499875",
     "exception": false,
     "start_time": "2021-01-27T15:33:04.460917",
     "status": "completed"
    },
    "tags": []
   },
   "outputs": [],
   "source": [
    "#hide\n",
    "dates = []\n",
    "for i in arr_dates:\n",
    "    if i>='2020-07-01':\n",
    "        dates.append(i)\n",
    "dict = {'states':dates}\n",
    "for i in arr_states:\n",
    "    dict[i] = [0]*len(dates)\n",
    "dft_cases = pd.DataFrame(dict)\n",
    "dft_deaths = pd.DataFrame(dict)\n"
   ]
  },
  {
   "cell_type": "code",
   "execution_count": 6,
   "id": "simplified-peter",
   "metadata": {
    "execution": {
     "iopub.execute_input": "2021-01-27T15:33:04.542915Z",
     "iopub.status.busy": "2021-01-27T15:33:04.542304Z",
     "iopub.status.idle": "2021-01-27T15:33:08.260351Z",
     "shell.execute_reply": "2021-01-27T15:33:08.259384Z"
    },
    "papermill": {
     "duration": 3.743161,
     "end_time": "2021-01-27T15:33:08.260540",
     "exception": false,
     "start_time": "2021-01-27T15:33:04.517379",
     "status": "completed"
    },
    "tags": []
   },
   "outputs": [],
   "source": [
    "#hide\n",
    "for i in range(len(dates)):\n",
    "    df1_deaths = df_deaths1.get_group(dates[i])\n",
    "    for j in range(len(df1_deaths.index)):\n",
    "        if df1_deaths.iloc[j,1] in arr_states:\n",
    "            dft_deaths.loc[i,df1_deaths.iloc[j,1]] = df1_deaths.iloc[j,2]\n",
    "dft_deaths = dft_deaths.set_index('states')"
   ]
  },
  {
   "cell_type": "code",
   "execution_count": 7,
   "id": "geological-welding",
   "metadata": {
    "execution": {
     "iopub.execute_input": "2021-01-27T15:33:08.305079Z",
     "iopub.status.busy": "2021-01-27T15:33:08.304499Z",
     "iopub.status.idle": "2021-01-27T15:33:12.037022Z",
     "shell.execute_reply": "2021-01-27T15:33:12.037499Z"
    },
    "papermill": {
     "duration": 3.75791,
     "end_time": "2021-01-27T15:33:12.037664",
     "exception": false,
     "start_time": "2021-01-27T15:33:08.279754",
     "status": "completed"
    },
    "tags": []
   },
   "outputs": [],
   "source": [
    "#hide\n",
    "for i in range(len(dates)):\n",
    "    df1_cases = df_cases1.get_group(dates[i])\n",
    "    for j in range(len(df1_cases.index)):\n",
    "        if df1_cases.iloc[j,1] in arr_states:\n",
    "            dft_cases.loc[i,df1_cases.iloc[j,1]] = df1_cases.iloc[j,2]\n",
    "dft_cases = dft_cases.set_index('states')"
   ]
  },
  {
   "cell_type": "code",
   "execution_count": 8,
   "id": "binary-ratio",
   "metadata": {
    "execution": {
     "iopub.execute_input": "2021-01-27T15:33:12.083711Z",
     "iopub.status.busy": "2021-01-27T15:33:12.083127Z",
     "iopub.status.idle": "2021-01-27T15:33:12.085251Z",
     "shell.execute_reply": "2021-01-27T15:33:12.085805Z"
    },
    "papermill": {
     "duration": 0.029007,
     "end_time": "2021-01-27T15:33:12.085947",
     "exception": false,
     "start_time": "2021-01-27T15:33:12.056940",
     "status": "completed"
    },
    "tags": []
   },
   "outputs": [],
   "source": [
    "#hide\n",
    "dft_cases = dft_cases.T\n",
    "dft_deaths = dft_deaths.T\n",
    "dt_today = dates[-1]\n",
    "dt_yday = dates[-2]"
   ]
  },
  {
   "cell_type": "code",
   "execution_count": 9,
   "id": "boolean-calculator",
   "metadata": {
    "execution": {
     "iopub.execute_input": "2021-01-27T15:33:12.129971Z",
     "iopub.status.busy": "2021-01-27T15:33:12.129321Z",
     "iopub.status.idle": "2021-01-27T15:33:12.134546Z",
     "shell.execute_reply": "2021-01-27T15:33:12.134004Z"
    },
    "papermill": {
     "duration": 0.030344,
     "end_time": "2021-01-27T15:33:12.134671",
     "exception": false,
     "start_time": "2021-01-27T15:33:12.104327",
     "status": "completed"
    },
    "tags": []
   },
   "outputs": [],
   "source": [
    "#hide\n",
    "dft_cases = dft_cases.reset_index()\n",
    "dft_deaths = dft_deaths.reset_index()\n",
    "dft_cases = dft_cases.rename(columns = {'index':'state'})\n",
    "dft_deaths = dft_deaths.rename(columns = {'index':'state'})"
   ]
  },
  {
   "cell_type": "code",
   "execution_count": 10,
   "id": "invisible-johnston",
   "metadata": {
    "execution": {
     "iopub.execute_input": "2021-01-27T15:33:12.174310Z",
     "iopub.status.busy": "2021-01-27T15:33:12.173468Z",
     "iopub.status.idle": "2021-01-27T15:33:12.183624Z",
     "shell.execute_reply": "2021-01-27T15:33:12.183138Z"
    },
    "papermill": {
     "duration": 0.0325,
     "end_time": "2021-01-27T15:33:12.183785",
     "exception": false,
     "start_time": "2021-01-27T15:33:12.151285",
     "status": "completed"
    },
    "tags": []
   },
   "outputs": [],
   "source": [
    "#hide\n",
    "dfc_cases = dft_cases.groupby('state')[dt_today].sum()\n",
    "dfc_deaths = dft_deaths.groupby('state')[dt_today].sum()\n",
    "dfp_cases = dft_cases.groupby('state')[dt_yday].sum()\n",
    "dfp_deaths = dft_deaths.groupby('state')[dt_yday].sum()"
   ]
  },
  {
   "cell_type": "code",
   "execution_count": 11,
   "id": "measured-great",
   "metadata": {
    "execution": {
     "iopub.execute_input": "2021-01-27T15:33:12.225580Z",
     "iopub.status.busy": "2021-01-27T15:33:12.224797Z",
     "iopub.status.idle": "2021-01-27T15:33:12.240055Z",
     "shell.execute_reply": "2021-01-27T15:33:12.240654Z"
    },
    "papermill": {
     "duration": 0.03973,
     "end_time": "2021-01-27T15:33:12.240866",
     "exception": false,
     "start_time": "2021-01-27T15:33:12.201136",
     "status": "completed"
    },
    "tags": []
   },
   "outputs": [
    {
     "data": {
      "text/html": [
       "<div>\n",
       "<style scoped>\n",
       "    .dataframe tbody tr th:only-of-type {\n",
       "        vertical-align: middle;\n",
       "    }\n",
       "\n",
       "    .dataframe tbody tr th {\n",
       "        vertical-align: top;\n",
       "    }\n",
       "\n",
       "    .dataframe thead th {\n",
       "        text-align: right;\n",
       "    }\n",
       "</style>\n",
       "<table border=\"1\" class=\"dataframe\">\n",
       "  <thead>\n",
       "    <tr style=\"text-align: right;\">\n",
       "      <th></th>\n",
       "      <th>states</th>\n",
       "      <th>Cases</th>\n",
       "      <th>Deaths</th>\n",
       "      <th>PCases</th>\n",
       "      <th>PDeaths</th>\n",
       "    </tr>\n",
       "  </thead>\n",
       "  <tbody>\n",
       "    <tr>\n",
       "      <th>0</th>\n",
       "      <td>Maharashtra</td>\n",
       "      <td>2013353</td>\n",
       "      <td>50862</td>\n",
       "      <td>2013353</td>\n",
       "      <td>50862</td>\n",
       "    </tr>\n",
       "    <tr>\n",
       "      <th>1</th>\n",
       "      <td>Karnataka</td>\n",
       "      <td>936955</td>\n",
       "      <td>12204</td>\n",
       "      <td>936955</td>\n",
       "      <td>12204</td>\n",
       "    </tr>\n",
       "    <tr>\n",
       "      <th>2</th>\n",
       "      <td>Kerala</td>\n",
       "      <td>899933</td>\n",
       "      <td>3644</td>\n",
       "      <td>899933</td>\n",
       "      <td>3644</td>\n",
       "    </tr>\n",
       "    <tr>\n",
       "      <th>3</th>\n",
       "      <td>Andhra Pradesh</td>\n",
       "      <td>887238</td>\n",
       "      <td>7150</td>\n",
       "      <td>887238</td>\n",
       "      <td>7150</td>\n",
       "    </tr>\n",
       "    <tr>\n",
       "      <th>4</th>\n",
       "      <td>Tamil Nadu</td>\n",
       "      <td>835803</td>\n",
       "      <td>12325</td>\n",
       "      <td>835803</td>\n",
       "      <td>12325</td>\n",
       "    </tr>\n",
       "  </tbody>\n",
       "</table>\n",
       "</div>"
      ],
      "text/plain": [
       "           states    Cases  Deaths   PCases  PDeaths\n",
       "0     Maharashtra  2013353   50862  2013353    50862\n",
       "1       Karnataka   936955   12204   936955    12204\n",
       "2          Kerala   899933    3644   899933     3644\n",
       "3  Andhra Pradesh   887238    7150   887238     7150\n",
       "4      Tamil Nadu   835803   12325   835803    12325"
      ]
     },
     "execution_count": 11,
     "metadata": {},
     "output_type": "execute_result"
    }
   ],
   "source": [
    "#hide\n",
    "df_table = pd.DataFrame({'states': dfc_cases.index, 'Cases': dfc_cases.values, 'Deaths': dfc_deaths.values, 'PCases': dfp_cases.values, 'PDeaths': dfp_deaths.values}).set_index('states')\n",
    "df_table = df_table.sort_values(by = ['Cases','Deaths'], ascending = [False, False])\n",
    "df_table = df_table.reset_index()\n",
    "df_table.head()"
   ]
  },
  {
   "cell_type": "code",
   "execution_count": 12,
   "id": "found-montreal",
   "metadata": {
    "execution": {
     "iopub.execute_input": "2021-01-27T15:33:12.284247Z",
     "iopub.status.busy": "2021-01-27T15:33:12.283557Z",
     "iopub.status.idle": "2021-01-27T15:33:12.292804Z",
     "shell.execute_reply": "2021-01-27T15:33:12.293310Z"
    },
    "papermill": {
     "duration": 0.033759,
     "end_time": "2021-01-27T15:33:12.293490",
     "exception": false,
     "start_time": "2021-01-27T15:33:12.259731",
     "status": "completed"
    },
    "tags": []
   },
   "outputs": [],
   "source": [
    "#hide\n",
    "for c in 'Cases, Deaths'.split(', '):\n",
    "    df_table[f'{c} (+)'] = (df_table[c] - df_table[f'P{c}']).clip(0)\n",
    "df_table['Fatality Rate'] = (100* df_table['Deaths']/ df_table['Cases']).round(2)"
   ]
  },
  {
   "cell_type": "code",
   "execution_count": 13,
   "id": "minus-savage",
   "metadata": {
    "execution": {
     "iopub.execute_input": "2021-01-27T15:33:12.343861Z",
     "iopub.status.busy": "2021-01-27T15:33:12.343085Z",
     "iopub.status.idle": "2021-01-27T15:33:12.346074Z",
     "shell.execute_reply": "2021-01-27T15:33:12.346761Z"
    },
    "papermill": {
     "duration": 0.034355,
     "end_time": "2021-01-27T15:33:12.347054",
     "exception": false,
     "start_time": "2021-01-27T15:33:12.312699",
     "status": "completed"
    },
    "tags": []
   },
   "outputs": [
    {
     "data": {
      "text/html": [
       "<div>\n",
       "<style scoped>\n",
       "    .dataframe tbody tr th:only-of-type {\n",
       "        vertical-align: middle;\n",
       "    }\n",
       "\n",
       "    .dataframe tbody tr th {\n",
       "        vertical-align: top;\n",
       "    }\n",
       "\n",
       "    .dataframe thead th {\n",
       "        text-align: right;\n",
       "    }\n",
       "</style>\n",
       "<table border=\"1\" class=\"dataframe\">\n",
       "  <thead>\n",
       "    <tr style=\"text-align: right;\">\n",
       "      <th></th>\n",
       "      <th>states</th>\n",
       "      <th>Cases</th>\n",
       "      <th>Deaths</th>\n",
       "      <th>PCases</th>\n",
       "      <th>PDeaths</th>\n",
       "      <th>Cases (+)</th>\n",
       "      <th>Deaths (+)</th>\n",
       "      <th>Fatality Rate</th>\n",
       "    </tr>\n",
       "  </thead>\n",
       "  <tbody>\n",
       "    <tr>\n",
       "      <th>0</th>\n",
       "      <td>Maharashtra</td>\n",
       "      <td>2013353</td>\n",
       "      <td>50862</td>\n",
       "      <td>2013353</td>\n",
       "      <td>50862</td>\n",
       "      <td>0</td>\n",
       "      <td>0</td>\n",
       "      <td>2.53</td>\n",
       "    </tr>\n",
       "    <tr>\n",
       "      <th>1</th>\n",
       "      <td>Karnataka</td>\n",
       "      <td>936955</td>\n",
       "      <td>12204</td>\n",
       "      <td>936955</td>\n",
       "      <td>12204</td>\n",
       "      <td>0</td>\n",
       "      <td>0</td>\n",
       "      <td>1.30</td>\n",
       "    </tr>\n",
       "    <tr>\n",
       "      <th>2</th>\n",
       "      <td>Kerala</td>\n",
       "      <td>899933</td>\n",
       "      <td>3644</td>\n",
       "      <td>899933</td>\n",
       "      <td>3644</td>\n",
       "      <td>0</td>\n",
       "      <td>0</td>\n",
       "      <td>0.40</td>\n",
       "    </tr>\n",
       "    <tr>\n",
       "      <th>3</th>\n",
       "      <td>Andhra Pradesh</td>\n",
       "      <td>887238</td>\n",
       "      <td>7150</td>\n",
       "      <td>887238</td>\n",
       "      <td>7150</td>\n",
       "      <td>0</td>\n",
       "      <td>0</td>\n",
       "      <td>0.81</td>\n",
       "    </tr>\n",
       "    <tr>\n",
       "      <th>4</th>\n",
       "      <td>Tamil Nadu</td>\n",
       "      <td>835803</td>\n",
       "      <td>12325</td>\n",
       "      <td>835803</td>\n",
       "      <td>12325</td>\n",
       "      <td>0</td>\n",
       "      <td>0</td>\n",
       "      <td>1.47</td>\n",
       "    </tr>\n",
       "  </tbody>\n",
       "</table>\n",
       "</div>"
      ],
      "text/plain": [
       "           states    Cases  Deaths   PCases  PDeaths  Cases (+)  Deaths (+)  \\\n",
       "0     Maharashtra  2013353   50862  2013353    50862          0           0   \n",
       "1       Karnataka   936955   12204   936955    12204          0           0   \n",
       "2          Kerala   899933    3644   899933     3644          0           0   \n",
       "3  Andhra Pradesh   887238    7150   887238     7150          0           0   \n",
       "4      Tamil Nadu   835803   12325   835803    12325          0           0   \n",
       "\n",
       "   Fatality Rate  \n",
       "0           2.53  \n",
       "1           1.30  \n",
       "2           0.40  \n",
       "3           0.81  \n",
       "4           1.47  "
      ]
     },
     "execution_count": 13,
     "metadata": {},
     "output_type": "execute_result"
    }
   ],
   "source": [
    "#hide\n",
    "df_table.head()"
   ]
  },
  {
   "cell_type": "code",
   "execution_count": 14,
   "id": "false-peter",
   "metadata": {
    "execution": {
     "iopub.execute_input": "2021-01-27T15:33:12.394829Z",
     "iopub.status.busy": "2021-01-27T15:33:12.394077Z",
     "iopub.status.idle": "2021-01-27T15:33:12.411732Z",
     "shell.execute_reply": "2021-01-27T15:33:12.412238Z"
    },
    "papermill": {
     "duration": 0.044744,
     "end_time": "2021-01-27T15:33:12.412386",
     "exception": false,
     "start_time": "2021-01-27T15:33:12.367642",
     "status": "completed"
    },
    "tags": []
   },
   "outputs": [
    {
     "data": {
      "text/plain": [
       "{'updated': '2021-01-27',\n",
       " 'since': '2021-01-26',\n",
       " 'Cases': 10690733,\n",
       " 'PCases': 10690281,\n",
       " 'Deaths': 153761,\n",
       " 'PDeaths': 153751,\n",
       " 'Cases (+)': 452,\n",
       " 'Deaths (+)': 10}"
      ]
     },
     "execution_count": 14,
     "metadata": {},
     "output_type": "execute_result"
    }
   ],
   "source": [
    "#hide\n",
    "summary = {'updated':dates[-1], 'since':dates[-2]}\n",
    "list_names = ['Cases', 'PCases', 'Deaths', 'PDeaths', 'Cases (+)', 'Deaths (+)']\n",
    "for name in list_names:\n",
    "    summary[name] = df_table.sum()[name]\n",
    "summary"
   ]
  },
  {
   "cell_type": "code",
   "execution_count": 15,
   "id": "packed-viewer",
   "metadata": {
    "execution": {
     "iopub.execute_input": "2021-01-27T15:33:12.454648Z",
     "iopub.status.busy": "2021-01-27T15:33:12.453909Z",
     "iopub.status.idle": "2021-01-27T15:33:12.456740Z",
     "shell.execute_reply": "2021-01-27T15:33:12.456101Z"
    },
    "papermill": {
     "duration": 0.025377,
     "end_time": "2021-01-27T15:33:12.456891",
     "exception": false,
     "start_time": "2021-01-27T15:33:12.431514",
     "status": "completed"
    },
    "tags": []
   },
   "outputs": [],
   "source": [
    "#hide\n",
    "overview = '''\n",
    "<!-- #######  HTML!! #########-->\n",
    "<h1 style=\"color: #5e9ca0; text-align: center;\">India</h1>\n",
    "<p style=\"text-align: center;\">Last update: <strong>{update}</strong></p>\n",
    "<p style=\"text-align: center;\">Confirmed cases:</p>\n",
    "<p style=\"text-align: center;font-size:24px;\">{cases} (<span style=\"color: #ff0000;\">+{new}</span>)</p>\n",
    "<p style=\"text-align: center;\">Confirmed deaths:</p>\n",
    "<p style=\"text-align: center;font-size:24px;\">{deaths} (<span style=\"color: #ff0000;\">+{dnew}</span>)</p>\n",
    "'''"
   ]
  },
  {
   "cell_type": "code",
   "execution_count": 16,
   "id": "phantom-lover",
   "metadata": {
    "execution": {
     "iopub.execute_input": "2021-01-27T15:33:12.501118Z",
     "iopub.status.busy": "2021-01-27T15:33:12.500497Z",
     "iopub.status.idle": "2021-01-27T15:33:12.504206Z",
     "shell.execute_reply": "2021-01-27T15:33:12.503564Z"
    },
    "papermill": {
     "duration": 0.028992,
     "end_time": "2021-01-27T15:33:12.504345",
     "exception": false,
     "start_time": "2021-01-27T15:33:12.475353",
     "status": "completed"
    },
    "tags": []
   },
   "outputs": [
    {
     "data": {
      "text/html": [
       "\n",
       "<!-- #######  HTML!! #########-->\n",
       "<h1 style=\"color: #5e9ca0; text-align: center;\">India</h1>\n",
       "<p style=\"text-align: center;\">Last update: <strong>2021-01-27</strong></p>\n",
       "<p style=\"text-align: center;\">Confirmed cases:</p>\n",
       "<p style=\"text-align: center;font-size:24px;\">10690733 (<span style=\"color: #ff0000;\">+452</span>)</p>\n",
       "<p style=\"text-align: center;\">Confirmed deaths:</p>\n",
       "<p style=\"text-align: center;font-size:24px;\">153761 (<span style=\"color: #ff0000;\">+10</span>)</p>\n"
      ],
      "text/plain": [
       "<IPython.core.display.HTML object>"
      ]
     },
     "metadata": {},
     "output_type": "display_data"
    }
   ],
   "source": [
    "#hide_input\n",
    "update = summary['updated']\n",
    "cases = summary['Cases']\n",
    "new = summary['Cases (+)']\n",
    "deaths = summary['Deaths']\n",
    "dnew = summary['Deaths (+)']\n",
    "\n",
    "html = HTML(overview.format(update=update, cases=cases,new=new,deaths=deaths,dnew=dnew))\n",
    "\n",
    "display(html)"
   ]
  },
  {
   "cell_type": "code",
   "execution_count": 17,
   "id": "sealed-reset",
   "metadata": {
    "execution": {
     "iopub.execute_input": "2021-01-27T15:33:12.550210Z",
     "iopub.status.busy": "2021-01-27T15:33:12.549414Z",
     "iopub.status.idle": "2021-01-27T15:33:12.557879Z",
     "shell.execute_reply": "2021-01-27T15:33:12.557327Z"
    },
    "papermill": {
     "duration": 0.034219,
     "end_time": "2021-01-27T15:33:12.558010",
     "exception": false,
     "start_time": "2021-01-27T15:33:12.523791",
     "status": "completed"
    },
    "tags": []
   },
   "outputs": [],
   "source": [
    "#hide\n",
    "dt_cols = list(dft_cases.columns[1:])\n",
    "dft_ct_new_cases = dft_cases.groupby('state')[dt_cols].sum().diff(axis=1).fillna(0).astype(int)\n",
    "dft_ct_new_cases.sort_values(by = dates[-1], ascending = False,inplace = True)"
   ]
  },
  {
   "cell_type": "code",
   "execution_count": 18,
   "id": "designed-constant",
   "metadata": {
    "execution": {
     "iopub.execute_input": "2021-01-27T15:33:12.618639Z",
     "iopub.status.busy": "2021-01-27T15:33:12.618062Z",
     "iopub.status.idle": "2021-01-27T15:33:12.621846Z",
     "shell.execute_reply": "2021-01-27T15:33:12.621275Z"
    },
    "papermill": {
     "duration": 0.043058,
     "end_time": "2021-01-27T15:33:12.621978",
     "exception": false,
     "start_time": "2021-01-27T15:33:12.578920",
     "status": "completed"
    },
    "tags": []
   },
   "outputs": [
    {
     "data": {
      "text/html": [
       "<div>\n",
       "<style scoped>\n",
       "    .dataframe tbody tr th:only-of-type {\n",
       "        vertical-align: middle;\n",
       "    }\n",
       "\n",
       "    .dataframe tbody tr th {\n",
       "        vertical-align: top;\n",
       "    }\n",
       "\n",
       "    .dataframe thead th {\n",
       "        text-align: right;\n",
       "    }\n",
       "</style>\n",
       "<table border=\"1\" class=\"dataframe\">\n",
       "  <thead>\n",
       "    <tr style=\"text-align: right;\">\n",
       "      <th>states</th>\n",
       "      <th>2020-07-01</th>\n",
       "      <th>2020-07-02</th>\n",
       "      <th>2020-07-03</th>\n",
       "      <th>2020-07-04</th>\n",
       "      <th>2020-07-05</th>\n",
       "      <th>2020-07-06</th>\n",
       "      <th>2020-07-07</th>\n",
       "      <th>2020-07-08</th>\n",
       "      <th>2020-07-09</th>\n",
       "      <th>2020-07-10</th>\n",
       "      <th>...</th>\n",
       "      <th>2021-01-18</th>\n",
       "      <th>2021-01-19</th>\n",
       "      <th>2021-01-20</th>\n",
       "      <th>2021-01-21</th>\n",
       "      <th>2021-01-22</th>\n",
       "      <th>2021-01-23</th>\n",
       "      <th>2021-01-24</th>\n",
       "      <th>2021-01-25</th>\n",
       "      <th>2021-01-26</th>\n",
       "      <th>2021-01-27</th>\n",
       "    </tr>\n",
       "    <tr>\n",
       "      <th>state</th>\n",
       "      <th></th>\n",
       "      <th></th>\n",
       "      <th></th>\n",
       "      <th></th>\n",
       "      <th></th>\n",
       "      <th></th>\n",
       "      <th></th>\n",
       "      <th></th>\n",
       "      <th></th>\n",
       "      <th></th>\n",
       "      <th></th>\n",
       "      <th></th>\n",
       "      <th></th>\n",
       "      <th></th>\n",
       "      <th></th>\n",
       "      <th></th>\n",
       "      <th></th>\n",
       "      <th></th>\n",
       "      <th></th>\n",
       "      <th></th>\n",
       "      <th></th>\n",
       "    </tr>\n",
       "  </thead>\n",
       "  <tbody>\n",
       "    <tr>\n",
       "      <th>Gujarat</th>\n",
       "      <td>0</td>\n",
       "      <td>681</td>\n",
       "      <td>687</td>\n",
       "      <td>712</td>\n",
       "      <td>725</td>\n",
       "      <td>735</td>\n",
       "      <td>778</td>\n",
       "      <td>783</td>\n",
       "      <td>861</td>\n",
       "      <td>875</td>\n",
       "      <td>...</td>\n",
       "      <td>495</td>\n",
       "      <td>485</td>\n",
       "      <td>490</td>\n",
       "      <td>471</td>\n",
       "      <td>451</td>\n",
       "      <td>423</td>\n",
       "      <td>410</td>\n",
       "      <td>390</td>\n",
       "      <td>380</td>\n",
       "      <td>353</td>\n",
       "    </tr>\n",
       "    <tr>\n",
       "      <th>Delhi</th>\n",
       "      <td>0</td>\n",
       "      <td>2373</td>\n",
       "      <td>2520</td>\n",
       "      <td>2505</td>\n",
       "      <td>2244</td>\n",
       "      <td>1379</td>\n",
       "      <td>2008</td>\n",
       "      <td>2033</td>\n",
       "      <td>2187</td>\n",
       "      <td>2089</td>\n",
       "      <td>...</td>\n",
       "      <td>161</td>\n",
       "      <td>231</td>\n",
       "      <td>228</td>\n",
       "      <td>227</td>\n",
       "      <td>266</td>\n",
       "      <td>197</td>\n",
       "      <td>185</td>\n",
       "      <td>148</td>\n",
       "      <td>157</td>\n",
       "      <td>96</td>\n",
       "    </tr>\n",
       "    <tr>\n",
       "      <th>Mizoram</th>\n",
       "      <td>0</td>\n",
       "      <td>2</td>\n",
       "      <td>0</td>\n",
       "      <td>2</td>\n",
       "      <td>22</td>\n",
       "      <td>11</td>\n",
       "      <td>1</td>\n",
       "      <td>5</td>\n",
       "      <td>0</td>\n",
       "      <td>23</td>\n",
       "      <td>...</td>\n",
       "      <td>1</td>\n",
       "      <td>6</td>\n",
       "      <td>5</td>\n",
       "      <td>12</td>\n",
       "      <td>3</td>\n",
       "      <td>0</td>\n",
       "      <td>2</td>\n",
       "      <td>0</td>\n",
       "      <td>5</td>\n",
       "      <td>3</td>\n",
       "    </tr>\n",
       "    <tr>\n",
       "      <th>Andaman and Nicobar Islands</th>\n",
       "      <td>0</td>\n",
       "      <td>9</td>\n",
       "      <td>7</td>\n",
       "      <td>3</td>\n",
       "      <td>6</td>\n",
       "      <td>16</td>\n",
       "      <td>6</td>\n",
       "      <td>2</td>\n",
       "      <td>7</td>\n",
       "      <td>0</td>\n",
       "      <td>...</td>\n",
       "      <td>5</td>\n",
       "      <td>1</td>\n",
       "      <td>2</td>\n",
       "      <td>0</td>\n",
       "      <td>1</td>\n",
       "      <td>1</td>\n",
       "      <td>0</td>\n",
       "      <td>1</td>\n",
       "      <td>0</td>\n",
       "      <td>0</td>\n",
       "    </tr>\n",
       "    <tr>\n",
       "      <th>Manipur</th>\n",
       "      <td>0</td>\n",
       "      <td>19</td>\n",
       "      <td>37</td>\n",
       "      <td>9</td>\n",
       "      <td>41</td>\n",
       "      <td>24</td>\n",
       "      <td>40</td>\n",
       "      <td>5</td>\n",
       "      <td>15</td>\n",
       "      <td>132</td>\n",
       "      <td>...</td>\n",
       "      <td>11</td>\n",
       "      <td>33</td>\n",
       "      <td>19</td>\n",
       "      <td>19</td>\n",
       "      <td>15</td>\n",
       "      <td>17</td>\n",
       "      <td>16</td>\n",
       "      <td>11</td>\n",
       "      <td>6</td>\n",
       "      <td>0</td>\n",
       "    </tr>\n",
       "  </tbody>\n",
       "</table>\n",
       "<p>5 rows × 211 columns</p>\n",
       "</div>"
      ],
      "text/plain": [
       "states                       2020-07-01  2020-07-02  2020-07-03  2020-07-04  \\\n",
       "state                                                                         \n",
       "Gujarat                               0         681         687         712   \n",
       "Delhi                                 0        2373        2520        2505   \n",
       "Mizoram                               0           2           0           2   \n",
       "Andaman and Nicobar Islands           0           9           7           3   \n",
       "Manipur                               0          19          37           9   \n",
       "\n",
       "states                       2020-07-05  2020-07-06  2020-07-07  2020-07-08  \\\n",
       "state                                                                         \n",
       "Gujarat                             725         735         778         783   \n",
       "Delhi                              2244        1379        2008        2033   \n",
       "Mizoram                              22          11           1           5   \n",
       "Andaman and Nicobar Islands           6          16           6           2   \n",
       "Manipur                              41          24          40           5   \n",
       "\n",
       "states                       2020-07-09  2020-07-10  ...  2021-01-18  \\\n",
       "state                                                ...               \n",
       "Gujarat                             861         875  ...         495   \n",
       "Delhi                              2187        2089  ...         161   \n",
       "Mizoram                               0          23  ...           1   \n",
       "Andaman and Nicobar Islands           7           0  ...           5   \n",
       "Manipur                              15         132  ...          11   \n",
       "\n",
       "states                       2021-01-19  2021-01-20  2021-01-21  2021-01-22  \\\n",
       "state                                                                         \n",
       "Gujarat                             485         490         471         451   \n",
       "Delhi                               231         228         227         266   \n",
       "Mizoram                               6           5          12           3   \n",
       "Andaman and Nicobar Islands           1           2           0           1   \n",
       "Manipur                              33          19          19          15   \n",
       "\n",
       "states                       2021-01-23  2021-01-24  2021-01-25  2021-01-26  \\\n",
       "state                                                                         \n",
       "Gujarat                             423         410         390         380   \n",
       "Delhi                               197         185         148         157   \n",
       "Mizoram                               0           2           0           5   \n",
       "Andaman and Nicobar Islands           1           0           1           0   \n",
       "Manipur                              17          16          11           6   \n",
       "\n",
       "states                       2021-01-27  \n",
       "state                                    \n",
       "Gujarat                             353  \n",
       "Delhi                                96  \n",
       "Mizoram                               3  \n",
       "Andaman and Nicobar Islands           0  \n",
       "Manipur                               0  \n",
       "\n",
       "[5 rows x 211 columns]"
      ]
     },
     "execution_count": 18,
     "metadata": {},
     "output_type": "execute_result"
    }
   ],
   "source": [
    "#hide\n",
    "dft_ct_new_cases.head()"
   ]
  },
  {
   "cell_type": "code",
   "execution_count": 19,
   "id": "responsible-nightlife",
   "metadata": {
    "execution": {
     "iopub.execute_input": "2021-01-27T15:33:12.682318Z",
     "iopub.status.busy": "2021-01-27T15:33:12.671885Z",
     "iopub.status.idle": "2021-01-27T15:33:21.919434Z",
     "shell.execute_reply": "2021-01-27T15:33:21.918929Z"
    },
    "papermill": {
     "duration": 9.276336,
     "end_time": "2021-01-27T15:33:21.919858",
     "exception": false,
     "start_time": "2021-01-27T15:33:12.643522",
     "status": "completed"
    },
    "tags": []
   },
   "outputs": [
    {
     "data": {
      "image/png": "[encoded data removed]",
      "text/plain": [
       "<Figure size 1296x2016 with 11 Axes>"
      ]
     },
     "metadata": {
      "needs_background": "light"
     },
     "output_type": "display_data"
    }
   ],
   "source": [
    "#hide_input\n",
    "df = dft_ct_new_cases.copy()\n",
    "df.loc['Total'] = df.sum()\n",
    "n = 5\n",
    "ax = []\n",
    "fig = plt.figure(figsize = (18,28))\n",
    "gs = fig.add_gridspec(n+2, 5)\n",
    "# gs = fig.add_gridspec(2, 3)\n",
    "ax1 = fig.add_subplot(gs[0, :])\n",
    "ef = df.loc['Total'].rename_axis('date').reset_index()\n",
    "ef['date'] = ef['date'].astype('datetime64[ns]')\n",
    "ax1.bar(ef.date,ef.Total,alpha=0.3,color='#007acc')\n",
    "ax1.plot(ef.date,ef.Total , marker=\"o\", color='#007acc')\n",
    "ax1.xaxis.set_major_locator(mdates.WeekdayLocator())\n",
    "ax1.xaxis.set_major_formatter(mdates.DateFormatter('%b %d'))\n",
    "ax1.text(0.02, 0.5,'India daily case count', transform = ax1.transAxes, fontsize=25);\n",
    "ax1.spines['right'].set_visible(False)\n",
    "ax1.spines['top'].set_visible(False)\n",
    "\n",
    "ax2 = fig.add_subplot(gs[1,0])\n",
    "ef = df.loc['Maharashtra'].rename_axis('date').reset_index()\n",
    "ef['date'] = ef['date'].astype('datetime64[ns]')\n",
    "\n",
    "ax2.bar(ef.date, ef.Maharashtra,color = '#007acc',alpha=0.5)\n",
    "ax2.xaxis.set_major_locator(mdates.WeekdayLocator())\n",
    "ax2.xaxis.set_major_formatter(mdates.DateFormatter('%b %d'))\n",
    "ax2.set_xticks(ax2.get_xticks()[::3])\n",
    "maxyval = ef.Maharashtra.max()\n",
    "ax2.set_ylim([0,maxyval])\n",
    "ax2.text(0.05, 0.9,'Maharashtra', transform = ax2.transAxes, fontsize=20);\n",
    "ax2.spines['right'].set_visible(False)\n",
    "ax2.spines['top'].set_visible(False)\n",
    "\n",
    "\n",
    "ax3 = fig.add_subplot(gs[1,1])\n",
    "ef = df.loc['Tamil Nadu'].rename_axis('date').reset_index()\n",
    "ef['date'] = ef['date'].astype('datetime64[ns]')\n",
    "ax3.bar(ef.date, ef['Tamil Nadu'],color = '#007acc',alpha=0.5,)\n",
    "ax3.xaxis.set_major_locator(mdates.WeekdayLocator())\n",
    "ax3.xaxis.set_major_formatter(mdates.DateFormatter('%b %d'))\n",
    "ax3.set_xticks(ax3.get_xticks()[::3])\n",
    "ax3.text(0.05, 0.9,'Tamil Nadu', transform = ax3.transAxes, fontsize=20);\n",
    "ax3.spines['right'].set_visible(False)\n",
    "ax3.spines['top'].set_visible(False)\n",
    "\n",
    "ax5 = fig.add_subplot(gs[1,3])\n",
    "ef = df.loc['Telangana'].rename_axis('date').reset_index()\n",
    "ef['date'] = ef['date'].astype('datetime64[ns]')\n",
    "ax5.bar(ef.date, ef['Telangana'],color = '#007acc',alpha=0.5,)\n",
    "ax5.xaxis.set_major_locator(mdates.WeekdayLocator())\n",
    "ax5.xaxis.set_major_formatter(mdates.DateFormatter('%b %d'))\n",
    "ax5.set_xticks(ax5.get_xticks()[::3])\n",
    "ax5.text(0.05, 0.9,'Telangana', transform = ax5.transAxes, fontsize=20);\n",
    "ax5.spines['right'].set_visible(False)\n",
    "ax5.spines['top'].set_visible(False)\n",
    "\n",
    "ax6 = fig.add_subplot(gs[1,4])\n",
    "ef = df.loc['Andhra Pradesh'].rename_axis('date').reset_index()\n",
    "ef['date'] = ef['date'].astype('datetime64[ns]')\n",
    "ax6.bar(ef.date, ef['Andhra Pradesh'],color = '#007acc',alpha=0.5,)\n",
    "ax6.xaxis.set_major_locator(mdates.WeekdayLocator())\n",
    "ax6.xaxis.set_major_formatter(mdates.DateFormatter('%b %d'))\n",
    "ax6.set_xticks(ax6.get_xticks()[::3])\n",
    "ax6.text(0.05, 1,'Andhra Pradesh', transform = ax6.transAxes, fontsize=20);\n",
    "ax6.spines['right'].set_visible(False)\n",
    "ax6.spines['top'].set_visible(False)\n",
    "\n",
    "ax4 = fig.add_subplot(gs[1,2])\n",
    "ef = df.loc['Delhi'].rename_axis('date').reset_index()\n",
    "ef['date'] = ef['date'].astype('datetime64[ns]')\n",
    "ax4.bar(ef.date, ef.Delhi,color = '#007acc',alpha=0.5)\n",
    "ax4.set_xticks([])\n",
    "ax4.xaxis.set_major_locator(mdates.WeekdayLocator())\n",
    "ax4.xaxis.set_major_formatter(mdates.DateFormatter('%b %d'))\n",
    "ax4.set_xticks(ax4.get_xticks()[::3])\n",
    "ax4.spines['right'].set_visible(False)\n",
    "ax4.spines['top'].set_visible(False)\n",
    "\n",
    "ax4.text(0.05, 1,'Delhi', transform = ax4.transAxes, fontsize=20)\n",
    "\n",
    "for i in range(n):\n",
    "    \n",
    "    ax.append(fig.add_subplot(gs[i+2,:]))\n",
    "    ef = df.iloc[i+3].rename_axis('date').reset_index()\n",
    "    ef['date'] = ef['date'].astype('datetime64[ns]')\n",
    "    ax[i].bar(ef.date,ef.iloc[:,-1],color = '#007acc',alpha=0.3)\n",
    "    ax[i].plot(ef.date,ef.iloc[:,-1],marker='o',color='#007acc')\n",
    "    ax[i].text(0.02,0.5,f'{ef.columns.values[-1]}',transform = ax[i].transAxes, fontsize = 20);\n",
    "    ax[i].xaxis.set_major_locator(mdates.WeekdayLocator())\n",
    "    ax[i].xaxis.set_major_formatter(mdates.DateFormatter('%b %d'))\n",
    "    ax[i].set_ylim([0,7000])\n",
    "    ax[i].spines['right'].set_visible(False)\n",
    "    ax[i].spines['top'].set_visible(False)\n",
    "plt.tight_layout()\n"
   ]
  },
  {
   "cell_type": "code",
   "execution_count": 20,
   "id": "dress-forge",
   "metadata": {
    "execution": {
     "iopub.execute_input": "2021-01-27T15:33:21.981064Z",
     "iopub.status.busy": "2021-01-27T15:33:21.980432Z",
     "iopub.status.idle": "2021-01-27T15:33:21.983133Z",
     "shell.execute_reply": "2021-01-27T15:33:21.983689Z"
    },
    "papermill": {
     "duration": 0.038917,
     "end_time": "2021-01-27T15:33:21.983870",
     "exception": false,
     "start_time": "2021-01-27T15:33:21.944953",
     "status": "completed"
    },
    "tags": []
   },
   "outputs": [
    {
     "name": "stdout",
     "output_type": "stream",
     "text": [
      "                                   states    Cases  Deaths   PCases  PDeaths  Cases (+)  Deaths (+)  Fatality Rate\n",
      "                              Maharashtra  2013353   50862  2013353    50862          0           0           2.53\n",
      "                                Karnataka   936955   12204   936955    12204          0           0           1.30\n",
      "                                   Kerala   899933    3644   899933     3644          0           0           0.40\n",
      "                           Andhra Pradesh   887238    7150   887238     7150          0           0           0.81\n",
      "                               Tamil Nadu   835803   12325   835803    12325          0           0           1.47\n",
      "                                    Delhi   634325   10829   634229    10820         96           9           1.71\n",
      "                            Uttar Pradesh   599208    8632   599208     8632          0           0           1.44\n",
      "                              West Bengal   568650   10131   568650    10131          0           0           1.78\n",
      "                                   Odisha   334529    1959   334529     1959          0           0           0.59\n",
      "                                Rajasthan   316970    2760   316970     2760          0           0           0.87\n",
      "                             Chhattisgarh   297429    3644   297429     3644          0           0           1.23\n",
      "                                Telangana   293590    1592   293590     1592          0           0           0.54\n",
      "                                  Haryana   267417    3014   267417     3014          0           0           1.13\n",
      "                                  Gujarat   260220    4382   259867     4381        353           1           1.68\n",
      "                                    Bihar   260139    1486   260139     1486          0           0           0.57\n",
      "                           Madhya Pradesh   254085    3793   254085     3793          0           0           1.49\n",
      "                                    Assam   217025    1079   217025     1079          0           0           0.50\n",
      "                                   Punjab   172089    5560   172089     5560          0           0           3.23\n",
      "                        Jammu and Kashmir   124157    1930   124157     1930          0           0           1.55\n",
      "                                Jharkhand   118360    1064   118360     1064          0           0           0.90\n",
      "                              Uttarakhand    95741    1636    95741     1636          0           0           1.71\n",
      "                         Himachal Pradesh    57257     961    57257      961          0           0           1.68\n",
      "                                      Goa    53047     763    53047      763          0           0           1.44\n",
      "                               Puducherry    38910     645    38910      645          0           0           1.66\n",
      "                                  Tripura    33343     388    33343      388          0           0           1.16\n",
      "                                  Manipur    29003     369    29003      369          0           0           1.27\n",
      "                               Chandigarh    20749     334    20749      334          0           0           1.61\n",
      "                        Arunachal Pradesh    16821      56    16821       56          0           0           0.33\n",
      "                                Meghalaya    13740     146    13740      146          0           0           1.06\n",
      "                                 Nagaland    12081      88    12081       88          0           0           0.73\n",
      "                                   Ladakh     9688     129     9688      129          0           0           1.33\n",
      "                                   Sikkim     6078     133     6078      133          0           0           2.19\n",
      "              Andaman and Nicobar Islands     4994      62     4994       62          0           0           1.24\n",
      "                                  Mizoram     4359       9     4356        9          3           0           0.21\n",
      " Dadra and Nagar Haveli and Daman and Diu     3378       2     3378        2          0           0           0.06\n",
      "                              Lakshadweep       69       0       69        0          0           0           0.00\n"
     ]
    }
   ],
   "source": [
    "#hide_input\n",
    "print(df_table.to_string(index=False))"
   ]
  },
  {
   "cell_type": "code",
   "execution_count": null,
   "id": "quantitative-legend",
   "metadata": {
    "papermill": {
     "duration": 0.027077,
     "end_time": "2021-01-27T15:33:22.035489",
     "exception": false,
     "start_time": "2021-01-27T15:33:22.008412",
     "status": "completed"
    },
    "tags": []
   },
   "outputs": [],
   "source": []
  },
  {
   "cell_type": "code",
   "execution_count": null,
   "id": "distant-acoustic",
   "metadata": {
    "papermill": {
     "duration": 0.028376,
     "end_time": "2021-01-27T15:33:22.090001",
     "exception": false,
     "start_time": "2021-01-27T15:33:22.061625",
     "status": "completed"
    },
    "tags": []
   },
   "outputs": [],
   "source": []
  }
 ],
 "metadata": {
  "kernelspec": {
   "display_name": "Python 3",
   "language": "python",
   "name": "python3"
  },
  "language_info": {
   "codemirror_mode": {
    "name": "ipython",
    "version": 3
   },
   "file_extension": ".py",
   "mimetype": "text/x-python",
   "name": "python",
   "nbconvert_exporter": "python",
   "pygments_lexer": "ipython3",
   "version": "3.6.12"
  },
  "papermill": {
   "duration": 21.350284,
   "end_time": "2021-01-27T15:33:23.392506",
   "environment_variables": {},
   "exception": null,
   "input_path": "latest.ipynb",
   "output_path": "latest.ipynb",
   "parameters": {},
   "start_time": "2021-01-27T15:33:02.042222",
   "version": "2.1.2"
  }
 },
 "nbformat": 4,
 "nbformat_minor": 5
}