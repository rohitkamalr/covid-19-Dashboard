{
 "cells": [
  {
   "cell_type": "markdown",
   "metadata": {
    "papermill": {
     "duration": 0.024554,
     "end_time": "2020-10-07T10:39:01.459998",
     "exception": false,
     "start_time": "2020-10-07T10:39:01.435444",
     "status": "completed"
    },
    "tags": []
   },
   "source": [
    "# Latest COVID-19 India Matplotlib Overview"
   ]
  },
  {
   "cell_type": "code",
   "execution_count": 1,
   "metadata": {
    "execution": {
     "iopub.execute_input": "2020-10-07T10:39:01.500754Z",
     "iopub.status.busy": "2020-10-07T10:39:01.500135Z",
     "iopub.status.idle": "2020-10-07T10:39:02.109287Z",
     "shell.execute_reply": "2020-10-07T10:39:02.108721Z"
    },
    "papermill": {
     "duration": 0.630544,
     "end_time": "2020-10-07T10:39:02.109433",
     "exception": false,
     "start_time": "2020-10-07T10:39:01.478889",
     "status": "completed"
    },
    "tags": []
   },
   "outputs": [],
   "source": [
    "#hide\n",
    "import pandas as pd\n",
    "import numpy as np\n",
    "import requests\n",
    "import json\n",
    "import matplotlib.pyplot as plt\n",
    "import matplotlib.dates as mdates\n",
    "import matplotlib as mpl\n",
    "from IPython.core.display import display,HTML\n",
    "%matplotlib inline\n",
    "from datetime import date"
   ]
  },
  {
   "cell_type": "code",
   "execution_count": 2,
   "metadata": {
    "execution": {
     "iopub.execute_input": "2020-10-07T10:39:02.146473Z",
     "iopub.status.busy": "2020-10-07T10:39:02.145882Z",
     "iopub.status.idle": "2020-10-07T10:39:02.328607Z",
     "shell.execute_reply": "2020-10-07T10:39:02.327906Z"
    },
    "papermill": {
     "duration": 0.204252,
     "end_time": "2020-10-07T10:39:02.328789",
     "exception": false,
     "start_time": "2020-10-07T10:39:02.124537",
     "status": "completed"
    },
    "tags": []
   },
   "outputs": [],
   "source": [
    "#hide\n",
    "df  = pd.read_csv('https://api.covid19india.org/csv/latest/states.csv')\n",
    "df = df[['Date','State','Confirmed','Deceased']]\n",
    "df = df.rename(columns={'Confirmed':'Cases', \"Deceased\":'Deaths'})\n",
    "df_cases = df[[\"Date\",'State','Cases']]\n",
    "df_deaths = df[['Date','State','Deaths']]\n",
    "df_cases1 = df_cases.groupby('Date')\n",
    "df_deaths1= df_deaths.groupby('Date')"
   ]
  },
  {
   "cell_type": "code",
   "execution_count": 3,
   "metadata": {
    "execution": {
     "iopub.execute_input": "2020-10-07T10:39:02.364631Z",
     "iopub.status.busy": "2020-10-07T10:39:02.364043Z",
     "iopub.status.idle": "2020-10-07T10:39:02.381513Z",
     "shell.execute_reply": "2020-10-07T10:39:02.381984Z"
    },
    "papermill": {
     "duration": 0.037955,
     "end_time": "2020-10-07T10:39:02.382163",
     "exception": false,
     "start_time": "2020-10-07T10:39:02.344208",
     "status": "completed"
    },
    "tags": []
   },
   "outputs": [],
   "source": [
    "#hide\n",
    "df_snap = pd.read_csv('data/SnapshotCases-28-July.csv')\n",
    "arr_states = df_snap['states'].unique()\n",
    "arr_dates = df['Date'].unique()\n",
    "df_snap = df_snap.set_index('states')"
   ]
  },
  {
   "cell_type": "code",
   "execution_count": 4,
   "metadata": {
    "execution": {
     "iopub.execute_input": "2020-10-07T10:39:02.421951Z",
     "iopub.status.busy": "2020-10-07T10:39:02.421360Z",
     "iopub.status.idle": "2020-10-07T10:39:02.425351Z",
     "shell.execute_reply": "2020-10-07T10:39:02.424879Z"
    },
    "papermill": {
     "duration": 0.028417,
     "end_time": "2020-10-07T10:39:02.425495",
     "exception": false,
     "start_time": "2020-10-07T10:39:02.397078",
     "status": "completed"
    },
    "tags": []
   },
   "outputs": [
    {
     "data": {
      "text/plain": [
       "array(['Andaman and Nicobar Islands', 'Andhra Pradesh',\n",
       "       'Arunachal Pradesh', 'Assam', 'Bihar', 'Chandigarh',\n",
       "       'Dadra and Nagar Haveli and Daman and Diu', 'Delhi', 'Goa',\n",
       "       'Gujarat', 'Haryana', 'Himachal Pradesh', 'Jammu and Kashmir',\n",
       "       'Jharkhand', 'Karnataka', 'Kerala', 'Lakshadweep',\n",
       "       'Madhya Pradesh', 'Maharashtra', 'Manipur', 'Meghalaya', 'Mizoram',\n",
       "       'Nagaland', 'Odisha', 'Puducherry', 'Punjab', 'Rajasthan',\n",
       "       'Sikkim', 'Tamil Nadu', 'Telangana', 'Tripura', 'Uttar Pradesh',\n",
       "       'West Bengal', 'Chhattisgarh', 'Ladakh', 'Uttarakhand'],\n",
       "      dtype=object)"
      ]
     },
     "execution_count": 4,
     "metadata": {},
     "output_type": "execute_result"
    }
   ],
   "source": [
    "#hide\n",
    "arr_states[-9] = 'Puducherry'\n",
    "arr_states[-10] = 'Odisha'\n",
    "arr_states[6] = 'Dadra and Nagar Haveli and Daman and Diu'\n",
    "arr_states = np.append(arr_states,np.array(['Chhattisgarh','Ladakh','Uttarakhand']))\n",
    "arr_states"
   ]
  },
  {
   "cell_type": "code",
   "execution_count": 5,
   "metadata": {
    "execution": {
     "iopub.execute_input": "2020-10-07T10:39:02.466208Z",
     "iopub.status.busy": "2020-10-07T10:39:02.465616Z",
     "iopub.status.idle": "2020-10-07T10:39:02.474091Z",
     "shell.execute_reply": "2020-10-07T10:39:02.473589Z"
    },
    "papermill": {
     "duration": 0.033446,
     "end_time": "2020-10-07T10:39:02.474219",
     "exception": false,
     "start_time": "2020-10-07T10:39:02.440773",
     "status": "completed"
    },
    "tags": []
   },
   "outputs": [],
   "source": [
    "#hide\n",
    "dates = []\n",
    "for i in arr_dates:\n",
    "    if i>='2020-07-01':\n",
    "        dates.append(i)\n",
    "dict = {'states':dates}\n",
    "for i in arr_states:\n",
    "    dict[i] = [0]*len(dates)\n",
    "dft_cases = pd.DataFrame(dict)\n",
    "dft_deaths = pd.DataFrame(dict)\n"
   ]
  },
  {
   "cell_type": "code",
   "execution_count": 6,
   "metadata": {
    "execution": {
     "iopub.execute_input": "2020-10-07T10:39:02.510307Z",
     "iopub.status.busy": "2020-10-07T10:39:02.509722Z",
     "iopub.status.idle": "2020-10-07T10:39:04.063741Z",
     "shell.execute_reply": "2020-10-07T10:39:04.062591Z"
    },
    "papermill": {
     "duration": 1.574501,
     "end_time": "2020-10-07T10:39:04.063902",
     "exception": false,
     "start_time": "2020-10-07T10:39:02.489401",
     "status": "completed"
    },
    "tags": []
   },
   "outputs": [],
   "source": [
    "#hide\n",
    "for i in range(len(dates)):\n",
    "    df1_deaths = df_deaths1.get_group(dates[i])\n",
    "    for j in range(len(df1_deaths.index)):\n",
    "        if df1_deaths.iloc[j,1] in arr_states:\n",
    "            dft_deaths.loc[i,df1_deaths.iloc[j,1]] = df1_deaths.iloc[j,2]\n",
    "dft_deaths = dft_deaths.set_index('states')"
   ]
  },
  {
   "cell_type": "code",
   "execution_count": 7,
   "metadata": {
    "execution": {
     "iopub.execute_input": "2020-10-07T10:39:04.309523Z",
     "iopub.status.busy": "2020-10-07T10:39:04.308466Z",
     "iopub.status.idle": "2020-10-07T10:39:05.825106Z",
     "shell.execute_reply": "2020-10-07T10:39:05.824237Z"
    },
    "papermill": {
     "duration": 1.735939,
     "end_time": "2020-10-07T10:39:05.825333",
     "exception": false,
     "start_time": "2020-10-07T10:39:04.089394",
     "status": "completed"
    },
    "tags": []
   },
   "outputs": [],
   "source": [
    "#hide\n",
    "for i in range(len(dates)):\n",
    "    df1_cases = df_cases1.get_group(dates[i])\n",
    "    for j in range(len(df1_cases.index)):\n",
    "        if df1_cases.iloc[j,1] in arr_states:\n",
    "            dft_cases.loc[i,df1_cases.iloc[j,1]] = df1_cases.iloc[j,2]\n",
    "dft_cases = dft_cases.set_index('states')"
   ]
  },
  {
   "cell_type": "code",
   "execution_count": 8,
   "metadata": {
    "execution": {
     "iopub.execute_input": "2020-10-07T10:39:05.864247Z",
     "iopub.status.busy": "2020-10-07T10:39:05.863564Z",
     "iopub.status.idle": "2020-10-07T10:39:05.866413Z",
     "shell.execute_reply": "2020-10-07T10:39:05.866892Z"
    },
    "papermill": {
     "duration": 0.025734,
     "end_time": "2020-10-07T10:39:05.867062",
     "exception": false,
     "start_time": "2020-10-07T10:39:05.841328",
     "status": "completed"
    },
    "tags": []
   },
   "outputs": [],
   "source": [
    "#hide\n",
    "dft_cases = dft_cases.T\n",
    "dft_deaths = dft_deaths.T\n",
    "dt_today = dates[-1]\n",
    "dt_yday = dates[-2]"
   ]
  },
  {
   "cell_type": "code",
   "execution_count": 9,
   "metadata": {
    "execution": {
     "iopub.execute_input": "2020-10-07T10:39:05.905655Z",
     "iopub.status.busy": "2020-10-07T10:39:05.905049Z",
     "iopub.status.idle": "2020-10-07T10:39:05.910752Z",
     "shell.execute_reply": "2020-10-07T10:39:05.910271Z"
    },
    "papermill": {
     "duration": 0.028005,
     "end_time": "2020-10-07T10:39:05.910890",
     "exception": false,
     "start_time": "2020-10-07T10:39:05.882885",
     "status": "completed"
    },
    "tags": []
   },
   "outputs": [],
   "source": [
    "#hide\n",
    "dft_cases = dft_cases.reset_index()\n",
    "dft_deaths = dft_deaths.reset_index()\n",
    "dft_cases = dft_cases.rename(columns = {'index':'state'})\n",
    "dft_deaths = dft_deaths.rename(columns = {'index':'state'})"
   ]
  },
  {
   "cell_type": "code",
   "execution_count": 10,
   "metadata": {
    "execution": {
     "iopub.execute_input": "2020-10-07T10:39:05.956072Z",
     "iopub.status.busy": "2020-10-07T10:39:05.955408Z",
     "iopub.status.idle": "2020-10-07T10:39:05.957721Z",
     "shell.execute_reply": "2020-10-07T10:39:05.957009Z"
    },
    "papermill": {
     "duration": 0.031073,
     "end_time": "2020-10-07T10:39:05.957864",
     "exception": false,
     "start_time": "2020-10-07T10:39:05.926791",
     "status": "completed"
    },
    "tags": []
   },
   "outputs": [],
   "source": [
    "#hide\n",
    "dfc_cases = dft_cases.groupby('state')[dt_today].sum()\n",
    "dfc_deaths = dft_deaths.groupby('state')[dt_today].sum()\n",
    "dfp_cases = dft_cases.groupby('state')[dt_yday].sum()\n",
    "dfp_deaths = dft_deaths.groupby('state')[dt_yday].sum()"
   ]
  },
  {
   "cell_type": "code",
   "execution_count": 11,
   "metadata": {
    "execution": {
     "iopub.execute_input": "2020-10-07T10:39:06.013432Z",
     "iopub.status.busy": "2020-10-07T10:39:06.012827Z",
     "iopub.status.idle": "2020-10-07T10:39:06.032508Z",
     "shell.execute_reply": "2020-10-07T10:39:06.031896Z"
    },
    "papermill": {
     "duration": 0.058421,
     "end_time": "2020-10-07T10:39:06.032644",
     "exception": false,
     "start_time": "2020-10-07T10:39:05.974223",
     "status": "completed"
    },
    "tags": []
   },
   "outputs": [
    {
     "data": {
      "text/html": [
       "<div>\n",
       "<style scoped>\n",
       "    .dataframe tbody tr th:only-of-type {\n",
       "        vertical-align: middle;\n",
       "    }\n",
       "\n",
       "    .dataframe tbody tr th {\n",
       "        vertical-align: top;\n",
       "    }\n",
       "\n",
       "    .dataframe thead th {\n",
       "        text-align: right;\n",
       "    }\n",
       "</style>\n",
       "<table border=\"1\" class=\"dataframe\">\n",
       "  <thead>\n",
       "    <tr style=\"text-align: right;\">\n",
       "      <th></th>\n",
       "      <th>states</th>\n",
       "      <th>Cases</th>\n",
       "      <th>Deaths</th>\n",
       "      <th>PCases</th>\n",
       "      <th>PDeaths</th>\n",
       "    </tr>\n",
       "  </thead>\n",
       "  <tbody>\n",
       "    <tr>\n",
       "      <th>0</th>\n",
       "      <td>Maharashtra</td>\n",
       "      <td>1465911</td>\n",
       "      <td>38717</td>\n",
       "      <td>1465911</td>\n",
       "      <td>38717</td>\n",
       "    </tr>\n",
       "    <tr>\n",
       "      <th>1</th>\n",
       "      <td>Andhra Pradesh</td>\n",
       "      <td>729307</td>\n",
       "      <td>6052</td>\n",
       "      <td>729307</td>\n",
       "      <td>6052</td>\n",
       "    </tr>\n",
       "    <tr>\n",
       "      <th>2</th>\n",
       "      <td>Karnataka</td>\n",
       "      <td>657705</td>\n",
       "      <td>9461</td>\n",
       "      <td>657705</td>\n",
       "      <td>9461</td>\n",
       "    </tr>\n",
       "    <tr>\n",
       "      <th>3</th>\n",
       "      <td>Tamil Nadu</td>\n",
       "      <td>630408</td>\n",
       "      <td>9917</td>\n",
       "      <td>630408</td>\n",
       "      <td>9917</td>\n",
       "    </tr>\n",
       "    <tr>\n",
       "      <th>4</th>\n",
       "      <td>Uttar Pradesh</td>\n",
       "      <td>420937</td>\n",
       "      <td>6153</td>\n",
       "      <td>420937</td>\n",
       "      <td>6153</td>\n",
       "    </tr>\n",
       "  </tbody>\n",
       "</table>\n",
       "</div>"
      ],
      "text/plain": [
       "           states    Cases  Deaths   PCases  PDeaths\n",
       "0     Maharashtra  1465911   38717  1465911    38717\n",
       "1  Andhra Pradesh   729307    6052   729307     6052\n",
       "2       Karnataka   657705    9461   657705     9461\n",
       "3      Tamil Nadu   630408    9917   630408     9917\n",
       "4   Uttar Pradesh   420937    6153   420937     6153"
      ]
     },
     "execution_count": 11,
     "metadata": {},
     "output_type": "execute_result"
    }
   ],
   "source": [
    "#hide\n",
    "df_table = pd.DataFrame({'states': dfc_cases.index, 'Cases': dfc_cases.values, 'Deaths': dfc_deaths.values, 'PCases': dfp_cases.values, 'PDeaths': dfp_deaths.values}).set_index('states')\n",
    "df_table = df_table.sort_values(by = ['Cases','Deaths'], ascending = [False, False])\n",
    "df_table = df_table.reset_index()\n",
    "df_table.head()"
   ]
  },
  {
   "cell_type": "code",
   "execution_count": 12,
   "metadata": {
    "execution": {
     "iopub.execute_input": "2020-10-07T10:39:06.075172Z",
     "iopub.status.busy": "2020-10-07T10:39:06.074583Z",
     "iopub.status.idle": "2020-10-07T10:39:06.083251Z",
     "shell.execute_reply": "2020-10-07T10:39:06.082773Z"
    },
    "papermill": {
     "duration": 0.034165,
     "end_time": "2020-10-07T10:39:06.083383",
     "exception": false,
     "start_time": "2020-10-07T10:39:06.049218",
     "status": "completed"
    },
    "tags": []
   },
   "outputs": [],
   "source": [
    "#hide\n",
    "for c in 'Cases, Deaths'.split(', '):\n",
    "    df_table[f'{c} (+)'] = (df_table[c] - df_table[f'P{c}']).clip(0)\n",
    "df_table['Fatality Rate'] = (100* df_table['Deaths']/ df_table['Cases']).round(2)"
   ]
  },
  {
   "cell_type": "code",
   "execution_count": 13,
   "metadata": {
    "execution": {
     "iopub.execute_input": "2020-10-07T10:39:06.128748Z",
     "iopub.status.busy": "2020-10-07T10:39:06.128132Z",
     "iopub.status.idle": "2020-10-07T10:39:06.130509Z",
     "shell.execute_reply": "2020-10-07T10:39:06.131003Z"
    },
    "papermill": {
     "duration": 0.030618,
     "end_time": "2020-10-07T10:39:06.131155",
     "exception": false,
     "start_time": "2020-10-07T10:39:06.100537",
     "status": "completed"
    },
    "tags": []
   },
   "outputs": [
    {
     "data": {
      "text/html": [
       "<div>\n",
       "<style scoped>\n",
       "    .dataframe tbody tr th:only-of-type {\n",
       "        vertical-align: middle;\n",
       "    }\n",
       "\n",
       "    .dataframe tbody tr th {\n",
       "        vertical-align: top;\n",
       "    }\n",
       "\n",
       "    .dataframe thead th {\n",
       "        text-align: right;\n",
       "    }\n",
       "</style>\n",
       "<table border=\"1\" class=\"dataframe\">\n",
       "  <thead>\n",
       "    <tr style=\"text-align: right;\">\n",
       "      <th></th>\n",
       "      <th>states</th>\n",
       "      <th>Cases</th>\n",
       "      <th>Deaths</th>\n",
       "      <th>PCases</th>\n",
       "      <th>PDeaths</th>\n",
       "      <th>Cases (+)</th>\n",
       "      <th>Deaths (+)</th>\n",
       "      <th>Fatality Rate</th>\n",
       "    </tr>\n",
       "  </thead>\n",
       "  <tbody>\n",
       "    <tr>\n",
       "      <th>0</th>\n",
       "      <td>Maharashtra</td>\n",
       "      <td>1465911</td>\n",
       "      <td>38717</td>\n",
       "      <td>1465911</td>\n",
       "      <td>38717</td>\n",
       "      <td>0</td>\n",
       "      <td>0</td>\n",
       "      <td>2.64</td>\n",
       "    </tr>\n",
       "    <tr>\n",
       "      <th>1</th>\n",
       "      <td>Andhra Pradesh</td>\n",
       "      <td>729307</td>\n",
       "      <td>6052</td>\n",
       "      <td>729307</td>\n",
       "      <td>6052</td>\n",
       "      <td>0</td>\n",
       "      <td>0</td>\n",
       "      <td>0.83</td>\n",
       "    </tr>\n",
       "    <tr>\n",
       "      <th>2</th>\n",
       "      <td>Karnataka</td>\n",
       "      <td>657705</td>\n",
       "      <td>9461</td>\n",
       "      <td>657705</td>\n",
       "      <td>9461</td>\n",
       "      <td>0</td>\n",
       "      <td>0</td>\n",
       "      <td>1.44</td>\n",
       "    </tr>\n",
       "    <tr>\n",
       "      <th>3</th>\n",
       "      <td>Tamil Nadu</td>\n",
       "      <td>630408</td>\n",
       "      <td>9917</td>\n",
       "      <td>630408</td>\n",
       "      <td>9917</td>\n",
       "      <td>0</td>\n",
       "      <td>0</td>\n",
       "      <td>1.57</td>\n",
       "    </tr>\n",
       "    <tr>\n",
       "      <th>4</th>\n",
       "      <td>Uttar Pradesh</td>\n",
       "      <td>420937</td>\n",
       "      <td>6153</td>\n",
       "      <td>420937</td>\n",
       "      <td>6153</td>\n",
       "      <td>0</td>\n",
       "      <td>0</td>\n",
       "      <td>1.46</td>\n",
       "    </tr>\n",
       "  </tbody>\n",
       "</table>\n",
       "</div>"
      ],
      "text/plain": [
       "           states    Cases  Deaths   PCases  PDeaths  Cases (+)  Deaths (+)  \\\n",
       "0     Maharashtra  1465911   38717  1465911    38717          0           0   \n",
       "1  Andhra Pradesh   729307    6052   729307     6052          0           0   \n",
       "2       Karnataka   657705    9461   657705     9461          0           0   \n",
       "3      Tamil Nadu   630408    9917   630408     9917          0           0   \n",
       "4   Uttar Pradesh   420937    6153   420937     6153          0           0   \n",
       "\n",
       "   Fatality Rate  \n",
       "0           2.64  \n",
       "1           0.83  \n",
       "2           1.44  \n",
       "3           1.57  \n",
       "4           1.46  "
      ]
     },
     "execution_count": 13,
     "metadata": {},
     "output_type": "execute_result"
    }
   ],
   "source": [
    "#hide\n",
    "df_table.head()"
   ]
  },
  {
   "cell_type": "code",
   "execution_count": 14,
   "metadata": {
    "execution": {
     "iopub.execute_input": "2020-10-07T10:39:06.169168Z",
     "iopub.status.busy": "2020-10-07T10:39:06.168579Z",
     "iopub.status.idle": "2020-10-07T10:39:06.186669Z",
     "shell.execute_reply": "2020-10-07T10:39:06.186195Z"
    },
    "papermill": {
     "duration": 0.039607,
     "end_time": "2020-10-07T10:39:06.186804",
     "exception": false,
     "start_time": "2020-10-07T10:39:06.147197",
     "status": "completed"
    },
    "tags": []
   },
   "outputs": [
    {
     "data": {
      "text/plain": [
       "{'updated': '2020-10-07',\n",
       " 'since': '2020-10-06',\n",
       " 'Cases': 6759585,\n",
       " 'PCases': 6754179,\n",
       " 'Deaths': 104617,\n",
       " 'PDeaths': 104591,\n",
       " 'Cases (+)': 5406,\n",
       " 'Deaths (+)': 26}"
      ]
     },
     "execution_count": 14,
     "metadata": {},
     "output_type": "execute_result"
    }
   ],
   "source": [
    "#hide\n",
    "summary = {'updated':dates[-1], 'since':dates[-2]}\n",
    "list_names = ['Cases', 'PCases', 'Deaths', 'PDeaths', 'Cases (+)', 'Deaths (+)']\n",
    "for name in list_names:\n",
    "    summary[name] = df_table.sum()[name]\n",
    "summary"
   ]
  },
  {
   "cell_type": "code",
   "execution_count": 15,
   "metadata": {
    "execution": {
     "iopub.execute_input": "2020-10-07T10:39:06.224764Z",
     "iopub.status.busy": "2020-10-07T10:39:06.224169Z",
     "iopub.status.idle": "2020-10-07T10:39:06.226413Z",
     "shell.execute_reply": "2020-10-07T10:39:06.225916Z"
    },
    "papermill": {
     "duration": 0.023055,
     "end_time": "2020-10-07T10:39:06.226544",
     "exception": false,
     "start_time": "2020-10-07T10:39:06.203489",
     "status": "completed"
    },
    "tags": []
   },
   "outputs": [],
   "source": [
    "#hide\n",
    "overview = '''\n",
    "<!-- #######  HTML!! #########-->\n",
    "<h1 style=\"color: #5e9ca0; text-align: center;\">India</h1>\n",
    "<p style=\"text-align: center;\">Last update: <strong>{update}</strong></p>\n",
    "<p style=\"text-align: center;\">Confirmed cases:</p>\n",
    "<p style=\"text-align: center;font-size:24px;\">{cases} (<span style=\"color: #ff0000;\">+{new}</span>)</p>\n",
    "<p style=\"text-align: center;\">Confirmed deaths:</p>\n",
    "<p style=\"text-align: center;font-size:24px;\">{deaths} (<span style=\"color: #ff0000;\">+{dnew}</span>)</p>\n",
    "'''"
   ]
  },
  {
   "cell_type": "code",
   "execution_count": 16,
   "metadata": {
    "execution": {
     "iopub.execute_input": "2020-10-07T10:39:06.266877Z",
     "iopub.status.busy": "2020-10-07T10:39:06.266286Z",
     "iopub.status.idle": "2020-10-07T10:39:06.270209Z",
     "shell.execute_reply": "2020-10-07T10:39:06.269737Z"
    },
    "papermill": {
     "duration": 0.027471,
     "end_time": "2020-10-07T10:39:06.270344",
     "exception": false,
     "start_time": "2020-10-07T10:39:06.242873",
     "status": "completed"
    },
    "tags": []
   },
   "outputs": [
    {
     "data": {
      "text/html": [
       "\n",
       "<!-- #######  HTML!! #########-->\n",
       "<h1 style=\"color: #5e9ca0; text-align: center;\">India</h1>\n",
       "<p style=\"text-align: center;\">Last update: <strong>2020-10-07</strong></p>\n",
       "<p style=\"text-align: center;\">Confirmed cases:</p>\n",
       "<p style=\"text-align: center;font-size:24px;\">6759585 (<span style=\"color: #ff0000;\">+5406</span>)</p>\n",
       "<p style=\"text-align: center;\">Confirmed deaths:</p>\n",
       "<p style=\"text-align: center;font-size:24px;\">104617 (<span style=\"color: #ff0000;\">+26</span>)</p>\n"
      ],
      "text/plain": [
       "<IPython.core.display.HTML object>"
      ]
     },
     "metadata": {},
     "output_type": "display_data"
    }
   ],
   "source": [
    "#hide_input\n",
    "update = summary['updated']\n",
    "cases = summary['Cases']\n",
    "new = summary['Cases (+)']\n",
    "deaths = summary['Deaths']\n",
    "dnew = summary['Deaths (+)']\n",
    "\n",
    "html = HTML(overview.format(update=update, cases=cases,new=new,deaths=deaths,dnew=dnew))\n",
    "\n",
    "display(html)"
   ]
  },
  {
   "cell_type": "code",
   "execution_count": 17,
   "metadata": {
    "execution": {
     "iopub.execute_input": "2020-10-07T10:39:06.312590Z",
     "iopub.status.busy": "2020-10-07T10:39:06.311992Z",
     "iopub.status.idle": "2020-10-07T10:39:06.317413Z",
     "shell.execute_reply": "2020-10-07T10:39:06.317883Z"
    },
    "papermill": {
     "duration": 0.030808,
     "end_time": "2020-10-07T10:39:06.318036",
     "exception": false,
     "start_time": "2020-10-07T10:39:06.287228",
     "status": "completed"
    },
    "tags": []
   },
   "outputs": [],
   "source": [
    "#hide\n",
    "dt_cols = list(dft_cases.columns[1:])\n",
    "dft_ct_new_cases = dft_cases.groupby('state')[dt_cols].sum().diff(axis=1).fillna(0).astype(int)\n",
    "dft_ct_new_cases.sort_values(by = dates[-1], ascending = False,inplace = True)"
   ]
  },
  {
   "cell_type": "code",
   "execution_count": 18,
   "metadata": {
    "execution": {
     "iopub.execute_input": "2020-10-07T10:39:06.354961Z",
     "iopub.status.busy": "2020-10-07T10:39:06.354383Z",
     "iopub.status.idle": "2020-10-07T10:39:06.372962Z",
     "shell.execute_reply": "2020-10-07T10:39:06.372521Z"
    },
    "papermill": {
     "duration": 0.038016,
     "end_time": "2020-10-07T10:39:06.373088",
     "exception": false,
     "start_time": "2020-10-07T10:39:06.335072",
     "status": "completed"
    },
    "tags": []
   },
   "outputs": [
    {
     "data": {
      "text/html": [
       "<div>\n",
       "<style scoped>\n",
       "    .dataframe tbody tr th:only-of-type {\n",
       "        vertical-align: middle;\n",
       "    }\n",
       "\n",
       "    .dataframe tbody tr th {\n",
       "        vertical-align: top;\n",
       "    }\n",
       "\n",
       "    .dataframe thead th {\n",
       "        text-align: right;\n",
       "    }\n",
       "</style>\n",
       "<table border=\"1\" class=\"dataframe\">\n",
       "  <thead>\n",
       "    <tr style=\"text-align: right;\">\n",
       "      <th>states</th>\n",
       "      <th>2020-07-01</th>\n",
       "      <th>2020-07-02</th>\n",
       "      <th>2020-07-03</th>\n",
       "      <th>2020-07-04</th>\n",
       "      <th>2020-07-05</th>\n",
       "      <th>2020-07-06</th>\n",
       "      <th>2020-07-07</th>\n",
       "      <th>2020-07-08</th>\n",
       "      <th>2020-07-09</th>\n",
       "      <th>2020-07-10</th>\n",
       "      <th>...</th>\n",
       "      <th>2020-09-28</th>\n",
       "      <th>2020-09-29</th>\n",
       "      <th>2020-09-30</th>\n",
       "      <th>2020-10-01</th>\n",
       "      <th>2020-10-02</th>\n",
       "      <th>2020-10-03</th>\n",
       "      <th>2020-10-04</th>\n",
       "      <th>2020-10-05</th>\n",
       "      <th>2020-10-06</th>\n",
       "      <th>2020-10-07</th>\n",
       "    </tr>\n",
       "    <tr>\n",
       "      <th>state</th>\n",
       "      <th></th>\n",
       "      <th></th>\n",
       "      <th></th>\n",
       "      <th></th>\n",
       "      <th></th>\n",
       "      <th></th>\n",
       "      <th></th>\n",
       "      <th></th>\n",
       "      <th></th>\n",
       "      <th></th>\n",
       "      <th></th>\n",
       "      <th></th>\n",
       "      <th></th>\n",
       "      <th></th>\n",
       "      <th></th>\n",
       "      <th></th>\n",
       "      <th></th>\n",
       "      <th></th>\n",
       "      <th></th>\n",
       "      <th></th>\n",
       "      <th></th>\n",
       "    </tr>\n",
       "  </thead>\n",
       "  <tbody>\n",
       "    <tr>\n",
       "      <th>Odisha</th>\n",
       "      <td>0</td>\n",
       "      <td>229</td>\n",
       "      <td>561</td>\n",
       "      <td>495</td>\n",
       "      <td>469</td>\n",
       "      <td>456</td>\n",
       "      <td>571</td>\n",
       "      <td>527</td>\n",
       "      <td>577</td>\n",
       "      <td>755</td>\n",
       "      <td>...</td>\n",
       "      <td>3235</td>\n",
       "      <td>3067</td>\n",
       "      <td>3443</td>\n",
       "      <td>3615</td>\n",
       "      <td>3600</td>\n",
       "      <td>3053</td>\n",
       "      <td>3326</td>\n",
       "      <td>2617</td>\n",
       "      <td>2673</td>\n",
       "      <td>2995</td>\n",
       "    </tr>\n",
       "    <tr>\n",
       "      <th>Telangana</th>\n",
       "      <td>0</td>\n",
       "      <td>1213</td>\n",
       "      <td>1892</td>\n",
       "      <td>1850</td>\n",
       "      <td>1590</td>\n",
       "      <td>1831</td>\n",
       "      <td>1879</td>\n",
       "      <td>1924</td>\n",
       "      <td>1410</td>\n",
       "      <td>1278</td>\n",
       "      <td>...</td>\n",
       "      <td>1378</td>\n",
       "      <td>2072</td>\n",
       "      <td>2103</td>\n",
       "      <td>2214</td>\n",
       "      <td>2009</td>\n",
       "      <td>1718</td>\n",
       "      <td>1949</td>\n",
       "      <td>1335</td>\n",
       "      <td>1983</td>\n",
       "      <td>2154</td>\n",
       "    </tr>\n",
       "    <tr>\n",
       "      <th>Tripura</th>\n",
       "      <td>0</td>\n",
       "      <td>39</td>\n",
       "      <td>93</td>\n",
       "      <td>25</td>\n",
       "      <td>23</td>\n",
       "      <td>111</td>\n",
       "      <td>24</td>\n",
       "      <td>57</td>\n",
       "      <td>16</td>\n",
       "      <td>142</td>\n",
       "      <td>...</td>\n",
       "      <td>193</td>\n",
       "      <td>432</td>\n",
       "      <td>381</td>\n",
       "      <td>332</td>\n",
       "      <td>296</td>\n",
       "      <td>190</td>\n",
       "      <td>322</td>\n",
       "      <td>159</td>\n",
       "      <td>275</td>\n",
       "      <td>237</td>\n",
       "    </tr>\n",
       "    <tr>\n",
       "      <th>Mizoram</th>\n",
       "      <td>0</td>\n",
       "      <td>2</td>\n",
       "      <td>0</td>\n",
       "      <td>2</td>\n",
       "      <td>22</td>\n",
       "      <td>11</td>\n",
       "      <td>1</td>\n",
       "      <td>5</td>\n",
       "      <td>0</td>\n",
       "      <td>23</td>\n",
       "      <td>...</td>\n",
       "      <td>43</td>\n",
       "      <td>50</td>\n",
       "      <td>28</td>\n",
       "      <td>32</td>\n",
       "      <td>31</td>\n",
       "      <td>54</td>\n",
       "      <td>17</td>\n",
       "      <td>0</td>\n",
       "      <td>8</td>\n",
       "      <td>20</td>\n",
       "    </tr>\n",
       "    <tr>\n",
       "      <th>Andaman and Nicobar Islands</th>\n",
       "      <td>0</td>\n",
       "      <td>9</td>\n",
       "      <td>7</td>\n",
       "      <td>3</td>\n",
       "      <td>6</td>\n",
       "      <td>16</td>\n",
       "      <td>6</td>\n",
       "      <td>2</td>\n",
       "      <td>7</td>\n",
       "      <td>0</td>\n",
       "      <td>...</td>\n",
       "      <td>9</td>\n",
       "      <td>18</td>\n",
       "      <td>14</td>\n",
       "      <td>13</td>\n",
       "      <td>10</td>\n",
       "      <td>10</td>\n",
       "      <td>16</td>\n",
       "      <td>15</td>\n",
       "      <td>13</td>\n",
       "      <td>0</td>\n",
       "    </tr>\n",
       "  </tbody>\n",
       "</table>\n",
       "<p>5 rows × 99 columns</p>\n",
       "</div>"
      ],
      "text/plain": [
       "states                       2020-07-01  2020-07-02  2020-07-03  2020-07-04  \\\n",
       "state                                                                         \n",
       "Odisha                                0         229         561         495   \n",
       "Telangana                             0        1213        1892        1850   \n",
       "Tripura                               0          39          93          25   \n",
       "Mizoram                               0           2           0           2   \n",
       "Andaman and Nicobar Islands           0           9           7           3   \n",
       "\n",
       "states                       2020-07-05  2020-07-06  2020-07-07  2020-07-08  \\\n",
       "state                                                                         \n",
       "Odisha                              469         456         571         527   \n",
       "Telangana                          1590        1831        1879        1924   \n",
       "Tripura                              23         111          24          57   \n",
       "Mizoram                              22          11           1           5   \n",
       "Andaman and Nicobar Islands           6          16           6           2   \n",
       "\n",
       "states                       2020-07-09  2020-07-10  ...  2020-09-28  \\\n",
       "state                                                ...               \n",
       "Odisha                              577         755  ...        3235   \n",
       "Telangana                          1410        1278  ...        1378   \n",
       "Tripura                              16         142  ...         193   \n",
       "Mizoram                               0          23  ...          43   \n",
       "Andaman and Nicobar Islands           7           0  ...           9   \n",
       "\n",
       "states                       2020-09-29  2020-09-30  2020-10-01  2020-10-02  \\\n",
       "state                                                                         \n",
       "Odisha                             3067        3443        3615        3600   \n",
       "Telangana                          2072        2103        2214        2009   \n",
       "Tripura                             432         381         332         296   \n",
       "Mizoram                              50          28          32          31   \n",
       "Andaman and Nicobar Islands          18          14          13          10   \n",
       "\n",
       "states                       2020-10-03  2020-10-04  2020-10-05  2020-10-06  \\\n",
       "state                                                                         \n",
       "Odisha                             3053        3326        2617        2673   \n",
       "Telangana                          1718        1949        1335        1983   \n",
       "Tripura                             190         322         159         275   \n",
       "Mizoram                              54          17           0           8   \n",
       "Andaman and Nicobar Islands          10          16          15          13   \n",
       "\n",
       "states                       2020-10-07  \n",
       "state                                    \n",
       "Odisha                             2995  \n",
       "Telangana                          2154  \n",
       "Tripura                             237  \n",
       "Mizoram                              20  \n",
       "Andaman and Nicobar Islands           0  \n",
       "\n",
       "[5 rows x 99 columns]"
      ]
     },
     "execution_count": 18,
     "metadata": {},
     "output_type": "execute_result"
    }
   ],
   "source": [
    "#hide\n",
    "dft_ct_new_cases.head()"
   ]
  },
  {
   "cell_type": "code",
   "execution_count": 19,
   "metadata": {
    "execution": {
     "iopub.execute_input": "2020-10-07T10:39:06.437207Z",
     "iopub.status.busy": "2020-10-07T10:39:06.431930Z",
     "iopub.status.idle": "2020-10-07T10:39:10.353164Z",
     "shell.execute_reply": "2020-10-07T10:39:10.352680Z"
    },
    "papermill": {
     "duration": 3.962623,
     "end_time": "2020-10-07T10:39:10.353306",
     "exception": false,
     "start_time": "2020-10-07T10:39:06.390683",
     "status": "completed"
    },
    "tags": []
   },
   "outputs": [
    {
     "data": {
      "image/png": "[encoded data removed]",
      "text/plain": [
       "<Figure size 1296x2016 with 11 Axes>"
      ]
     },
     "metadata": {
      "needs_background": "light"
     },
     "output_type": "display_data"
    }
   ],
   "source": [
    "#hide_input\n",
    "df = dft_ct_new_cases.copy()\n",
    "df.loc['Total'] = df.sum()\n",
    "n = 5\n",
    "ax = []\n",
    "fig = plt.figure(figsize = (18,28))\n",
    "gs = fig.add_gridspec(n+2, 5)\n",
    "# gs = fig.add_gridspec(2, 3)\n",
    "ax1 = fig.add_subplot(gs[0, :])\n",
    "ef = df.loc['Total'].rename_axis('date').reset_index()\n",
    "ef['date'] = ef['date'].astype('datetime64[ns]')\n",
    "ax1.bar(ef.date,ef.Total,alpha=0.3,color='#007acc')\n",
    "ax1.plot(ef.date,ef.Total , marker=\"o\", color='#007acc')\n",
    "ax1.xaxis.set_major_locator(mdates.WeekdayLocator())\n",
    "ax1.xaxis.set_major_formatter(mdates.DateFormatter('%b %d'))\n",
    "ax1.text(0.02, 0.5,'India daily case count', transform = ax1.transAxes, fontsize=25);\n",
    "ax1.spines['right'].set_visible(False)\n",
    "ax1.spines['top'].set_visible(False)\n",
    "\n",
    "ax2 = fig.add_subplot(gs[1,0])\n",
    "ef = df.loc['Maharashtra'].rename_axis('date').reset_index()\n",
    "ef['date'] = ef['date'].astype('datetime64[ns]')\n",
    "\n",
    "ax2.bar(ef.date, ef.Maharashtra,color = '#007acc',alpha=0.5)\n",
    "ax2.xaxis.set_major_locator(mdates.WeekdayLocator())\n",
    "ax2.xaxis.set_major_formatter(mdates.DateFormatter('%b %d'))\n",
    "ax2.set_xticks(ax2.get_xticks()[::3])\n",
    "maxyval = ef.Maharashtra.max()\n",
    "ax2.set_ylim([0,maxyval])\n",
    "ax2.text(0.05, 0.9,'Maharashtra', transform = ax2.transAxes, fontsize=20);\n",
    "ax2.spines['right'].set_visible(False)\n",
    "ax2.spines['top'].set_visible(False)\n",
    "\n",
    "\n",
    "ax3 = fig.add_subplot(gs[1,1])\n",
    "ef = df.loc['Tamil Nadu'].rename_axis('date').reset_index()\n",
    "ef['date'] = ef['date'].astype('datetime64[ns]')\n",
    "ax3.bar(ef.date, ef['Tamil Nadu'],color = '#007acc',alpha=0.5,)\n",
    "ax3.xaxis.set_major_locator(mdates.WeekdayLocator())\n",
    "ax3.xaxis.set_major_formatter(mdates.DateFormatter('%b %d'))\n",
    "ax3.set_xticks(ax3.get_xticks()[::3])\n",
    "ax3.text(0.05, 0.9,'Tamil Nadu', transform = ax3.transAxes, fontsize=20);\n",
    "ax3.spines['right'].set_visible(False)\n",
    "ax3.spines['top'].set_visible(False)\n",
    "\n",
    "ax5 = fig.add_subplot(gs[1,3])\n",
    "ef = df.loc['Telangana'].rename_axis('date').reset_index()\n",
    "ef['date'] = ef['date'].astype('datetime64[ns]')\n",
    "ax5.bar(ef.date, ef['Telangana'],color = '#007acc',alpha=0.5,)\n",
    "ax5.xaxis.set_major_locator(mdates.WeekdayLocator())\n",
    "ax5.xaxis.set_major_formatter(mdates.DateFormatter('%b %d'))\n",
    "ax5.set_xticks(ax5.get_xticks()[::3])\n",
    "ax5.text(0.05, 0.9,'Telangana', transform = ax5.transAxes, fontsize=20);\n",
    "ax5.spines['right'].set_visible(False)\n",
    "ax5.spines['top'].set_visible(False)\n",
    "\n",
    "ax6 = fig.add_subplot(gs[1,4])\n",
    "ef = df.loc['Andhra Pradesh'].rename_axis('date').reset_index()\n",
    "ef['date'] = ef['date'].astype('datetime64[ns]')\n",
    "ax6.bar(ef.date, ef['Andhra Pradesh'],color = '#007acc',alpha=0.5,)\n",
    "ax6.xaxis.set_major_locator(mdates.WeekdayLocator())\n",
    "ax6.xaxis.set_major_formatter(mdates.DateFormatter('%b %d'))\n",
    "ax6.set_xticks(ax6.get_xticks()[::3])\n",
    "ax6.text(0.05, 1,'Andhra Pradesh', transform = ax6.transAxes, fontsize=20);\n",
    "ax6.spines['right'].set_visible(False)\n",
    "ax6.spines['top'].set_visible(False)\n",
    "\n",
    "ax4 = fig.add_subplot(gs[1,2])\n",
    "ef = df.loc['Delhi'].rename_axis('date').reset_index()\n",
    "ef['date'] = ef['date'].astype('datetime64[ns]')\n",
    "ax4.bar(ef.date, ef.Delhi,color = '#007acc',alpha=0.5)\n",
    "ax4.set_xticks([])\n",
    "ax4.xaxis.set_major_locator(mdates.WeekdayLocator())\n",
    "ax4.xaxis.set_major_formatter(mdates.DateFormatter('%b %d'))\n",
    "ax4.set_xticks(ax4.get_xticks()[::3])\n",
    "ax4.spines['right'].set_visible(False)\n",
    "ax4.spines['top'].set_visible(False)\n",
    "\n",
    "ax4.text(0.05, 1,'Delhi', transform = ax4.transAxes, fontsize=20)\n",
    "\n",
    "for i in range(n):\n",
    "    \n",
    "    ax.append(fig.add_subplot(gs[i+2,:]))\n",
    "    ef = df.iloc[i+3].rename_axis('date').reset_index()\n",
    "    ef['date'] = ef['date'].astype('datetime64[ns]')\n",
    "    ax[i].bar(ef.date,ef.iloc[:,-1],color = '#007acc',alpha=0.3)\n",
    "    ax[i].plot(ef.date,ef.iloc[:,-1],marker='o',color='#007acc')\n",
    "    ax[i].text(0.02,0.5,f'{ef.columns.values[-1]}',transform = ax[i].transAxes, fontsize = 20);\n",
    "    ax[i].xaxis.set_major_locator(mdates.WeekdayLocator())\n",
    "    ax[i].xaxis.set_major_formatter(mdates.DateFormatter('%b %d'))\n",
    "    ax[i].set_ylim([0,7000])\n",
    "    ax[i].spines['right'].set_visible(False)\n",
    "    ax[i].spines['top'].set_visible(False)\n",
    "plt.tight_layout()\n"
   ]
  },
  {
   "cell_type": "code",
   "execution_count": 20,
   "metadata": {
    "execution": {
     "iopub.execute_input": "2020-10-07T10:39:10.408294Z",
     "iopub.status.busy": "2020-10-07T10:39:10.407636Z",
     "iopub.status.idle": "2020-10-07T10:39:10.409897Z",
     "shell.execute_reply": "2020-10-07T10:39:10.410450Z"
    },
    "papermill": {
     "duration": 0.034099,
     "end_time": "2020-10-07T10:39:10.410602",
     "exception": false,
     "start_time": "2020-10-07T10:39:10.376503",
     "status": "completed"
    },
    "tags": []
   },
   "outputs": [
    {
     "name": "stdout",
     "output_type": "stream",
     "text": [
      "                                   states    Cases  Deaths   PCases  PDeaths  Cases (+)  Deaths (+)  Fatality Rate\n",
      "                              Maharashtra  1465911   38717  1465911    38717          0           0           2.64\n",
      "                           Andhra Pradesh   729307    6052   729307     6052          0           0           0.83\n",
      "                                Karnataka   657705    9461   657705     9461          0           0           1.44\n",
      "                               Tamil Nadu   630408    9917   630408     9917          0           0           1.57\n",
      "                            Uttar Pradesh   420937    6153   420937     6153          0           0           1.46\n",
      "                                    Delhi   295236    5581   295236     5581          0           0           1.89\n",
      "                              West Bengal   277049    5318   277049     5318          0           0           1.92\n",
      "                                   Kerala   242800     885   242800      885          0           0           0.36\n",
      "                                   Odisha   240998    1011   238003      993       2995          18           0.42\n",
      "                                Telangana   204748    1189   202594     1181       2154           8           0.58\n",
      "                                    Bihar   190123     925   190123      925          0           0           0.49\n",
      "                                    Assam   188902     778   188902      778          0           0           0.41\n",
      "                                Rajasthan   148316    1574   148316     1574          0           0           1.06\n",
      "                                  Gujarat   145361    3522   145361     3522          0           0           2.42\n",
      "                           Madhya Pradesh   138668    2488   138668     2488          0           0           1.79\n",
      "                                  Haryana   136115    1509   136115     1509          0           0           1.11\n",
      "                             Chhattisgarh   128893    1104   128893     1104          0           0           0.86\n",
      "                                   Punjab   120016    3679   120016     3679          0           0           3.07\n",
      "                                Jharkhand    88873     757    88873      757          0           0           0.85\n",
      "                        Jammu and Kashmir    80476    1268    80476     1268          0           0           1.58\n",
      "                              Uttarakhand    52329     677    52329      677          0           0           1.29\n",
      "                                      Goa    36238     468    36238      468          0           0           1.29\n",
      "                               Puducherry    29682     546    29682      546          0           0           1.84\n",
      "                                  Tripura    27542     298    27305      298        237           0           1.08\n",
      "                         Himachal Pradesh    16283     224    16283      224          0           0           1.38\n",
      "                               Chandigarh    12707     180    12707      180          0           0           1.42\n",
      "                                  Manipur    12240      78    12240       78          0           0           0.64\n",
      "                        Arunachal Pradesh    11007      20    11007       20          0           0           0.18\n",
      "                                Meghalaya     7037      60     7037       60          0           0           0.85\n",
      "                                 Nagaland     6662      12     6662       12          0           0           0.18\n",
      "                                   Ladakh     4720      61     4720       61          0           0           1.29\n",
      "              Andaman and Nicobar Islands     3912      54     3912       54          0           0           1.38\n",
      "                                   Sikkim     3135      49     3135       49          0           0           1.56\n",
      " Dadra and Nagar Haveli and Daman and Diu     3101       2     3101        2          0           0           0.06\n",
      "                                  Mizoram     2148       0     2128        0         20           0           0.00\n",
      "                              Lakshadweep        0       0        0        0          0           0            NaN\n"
     ]
    }
   ],
   "source": [
    "#hide_input\n",
    "print(df_table.to_string(index=False))"
   ]
  },
  {
   "cell_type": "code",
   "execution_count": null,
   "metadata": {
    "papermill": {
     "duration": 0.022476,
     "end_time": "2020-10-07T10:39:10.455453",
     "exception": false,
     "start_time": "2020-10-07T10:39:10.432977",
     "status": "completed"
    },
    "tags": []
   },
   "outputs": [],
   "source": []
  },
  {
   "cell_type": "code",
   "execution_count": null,
   "metadata": {
    "papermill": {
     "duration": 0.02248,
     "end_time": "2020-10-07T10:39:10.500534",
     "exception": false,
     "start_time": "2020-10-07T10:39:10.478054",
     "status": "completed"
    },
    "tags": []
   },
   "outputs": [],
   "source": []
  }
 ],
 "metadata": {
  "kernelspec": {
   "display_name": "Python 3",
   "language": "python",
   "name": "python3"
  },
  "language_info": {
   "codemirror_mode": {
    "name": "ipython",
    "version": 3
   },
   "file_extension": ".py",
   "mimetype": "text/x-python",
   "name": "python",
   "nbconvert_exporter": "python",
   "pygments_lexer": "ipython3",
   "version": "3.6.12"
  },
  "papermill": {
   "duration": 10.768897,
   "end_time": "2020-10-07T10:39:11.031807",
   "environment_variables": {},
   "exception": null,
   "input_path": "latest.ipynb",
   "output_path": "latest.ipynb",
   "parameters": {},
   "start_time": "2020-10-07T10:39:00.262910",
   "version": "2.1.2"
  }
 },
 "nbformat": 4,
 "nbformat_minor": 4
}