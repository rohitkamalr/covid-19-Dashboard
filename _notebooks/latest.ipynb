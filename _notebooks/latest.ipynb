{
 "cells": [
  {
   "cell_type": "markdown",
   "metadata": {
    "papermill": {
     "duration": 0.021454,
     "end_time": "2020-08-22T05:17:33.567945",
     "exception": false,
     "start_time": "2020-08-22T05:17:33.546491",
     "status": "completed"
    },
    "tags": []
   },
   "source": [
    "# Latest COVID-19 India Matplotlib Overview"
   ]
  },
  {
   "cell_type": "code",
   "execution_count": 1,
   "metadata": {
    "execution": {
     "iopub.execute_input": "2020-08-22T05:17:33.605070Z",
     "iopub.status.busy": "2020-08-22T05:17:33.604443Z",
     "iopub.status.idle": "2020-08-22T05:17:34.174630Z",
     "shell.execute_reply": "2020-08-22T05:17:34.173506Z"
    },
    "papermill": {
     "duration": 0.592078,
     "end_time": "2020-08-22T05:17:34.174783",
     "exception": false,
     "start_time": "2020-08-22T05:17:33.582705",
     "status": "completed"
    },
    "tags": []
   },
   "outputs": [],
   "source": [
    "#hide\n",
    "import pandas as pd\n",
    "import numpy as np\n",
    "import requests\n",
    "import json\n",
    "import matplotlib.pyplot as plt\n",
    "import matplotlib.dates as mdates\n",
    "import matplotlib as mpl\n",
    "from IPython.core.display import display,HTML\n",
    "%matplotlib inline\n",
    "from datetime import date"
   ]
  },
  {
   "cell_type": "code",
   "execution_count": 2,
   "metadata": {
    "execution": {
     "iopub.execute_input": "2020-08-22T05:17:34.212982Z",
     "iopub.status.busy": "2020-08-22T05:17:34.211896Z",
     "iopub.status.idle": "2020-08-22T05:17:34.451846Z",
     "shell.execute_reply": "2020-08-22T05:17:34.451020Z"
    },
    "papermill": {
     "duration": 0.261461,
     "end_time": "2020-08-22T05:17:34.452060",
     "exception": false,
     "start_time": "2020-08-22T05:17:34.190599",
     "status": "completed"
    },
    "tags": []
   },
   "outputs": [],
   "source": [
    "#hide\n",
    "df  = pd.read_csv('https://api.covid19india.org/csv/latest/states.csv')\n",
    "df = df[['Date','State','Confirmed','Deceased']]\n",
    "df = df.rename(columns={'Confirmed':'Cases', \"Deceased\":'Deaths'})\n",
    "df_cases = df[[\"Date\",'State','Cases']]\n",
    "df_deaths = df[['Date','State','Deaths']]\n",
    "df_cases1 = df_cases.groupby('Date')\n",
    "df_deaths1= df_deaths.groupby('Date')"
   ]
  },
  {
   "cell_type": "code",
   "execution_count": 3,
   "metadata": {
    "execution": {
     "iopub.execute_input": "2020-08-22T05:17:34.489196Z",
     "iopub.status.busy": "2020-08-22T05:17:34.488609Z",
     "iopub.status.idle": "2020-08-22T05:17:34.505260Z",
     "shell.execute_reply": "2020-08-22T05:17:34.504721Z"
    },
    "papermill": {
     "duration": 0.036334,
     "end_time": "2020-08-22T05:17:34.505381",
     "exception": false,
     "start_time": "2020-08-22T05:17:34.469047",
     "status": "completed"
    },
    "tags": []
   },
   "outputs": [],
   "source": [
    "#hide\n",
    "df_snap = pd.read_csv('data/SnapshotCases-28-July.csv')\n",
    "arr_states = df_snap['states'].unique()\n",
    "arr_dates = df['Date'].unique()\n",
    "df_snap = df_snap.set_index('states')"
   ]
  },
  {
   "cell_type": "code",
   "execution_count": 4,
   "metadata": {
    "execution": {
     "iopub.execute_input": "2020-08-22T05:17:34.541505Z",
     "iopub.status.busy": "2020-08-22T05:17:34.540882Z",
     "iopub.status.idle": "2020-08-22T05:17:34.543735Z",
     "shell.execute_reply": "2020-08-22T05:17:34.543303Z"
    },
    "papermill": {
     "duration": 0.023795,
     "end_time": "2020-08-22T05:17:34.543844",
     "exception": false,
     "start_time": "2020-08-22T05:17:34.520049",
     "status": "completed"
    },
    "tags": []
   },
   "outputs": [
    {
     "data": {
      "text/plain": [
       "array(['Andaman and Nicobar Islands', 'Andhra Pradesh',\n",
       "       'Arunachal Pradesh', 'Assam', 'Bihar', 'Chandigarh',\n",
       "       'Dadra and Nagar Haveli and Daman and Diu', 'Delhi', 'Goa',\n",
       "       'Gujarat', 'Haryana', 'Himachal Pradesh', 'Jammu and Kashmir',\n",
       "       'Jharkhand', 'Karnataka', 'Kerala', 'Lakshadweep',\n",
       "       'Madhya Pradesh', 'Maharashtra', 'Manipur', 'Meghalaya', 'Mizoram',\n",
       "       'Nagaland', 'Odisha', 'Puducherry', 'Punjab', 'Rajasthan',\n",
       "       'Sikkim', 'Tamil Nadu', 'Telangana', 'Tripura', 'Uttar Pradesh',\n",
       "       'West Bengal', 'Chhattisgarh', 'Ladakh', 'Uttarakhand'],\n",
       "      dtype=object)"
      ]
     },
     "execution_count": 4,
     "metadata": {},
     "output_type": "execute_result"
    }
   ],
   "source": [
    "#hide\n",
    "arr_states[-9] = 'Puducherry'\n",
    "arr_states[-10] = 'Odisha'\n",
    "arr_states[6] = 'Dadra and Nagar Haveli and Daman and Diu'\n",
    "arr_states = np.append(arr_states,np.array(['Chhattisgarh','Ladakh','Uttarakhand']))\n",
    "arr_states"
   ]
  },
  {
   "cell_type": "code",
   "execution_count": 5,
   "metadata": {
    "execution": {
     "iopub.execute_input": "2020-08-22T05:17:34.585197Z",
     "iopub.status.busy": "2020-08-22T05:17:34.584583Z",
     "iopub.status.idle": "2020-08-22T05:17:34.591447Z",
     "shell.execute_reply": "2020-08-22T05:17:34.590932Z"
    },
    "papermill": {
     "duration": 0.031089,
     "end_time": "2020-08-22T05:17:34.591556",
     "exception": false,
     "start_time": "2020-08-22T05:17:34.560467",
     "status": "completed"
    },
    "tags": []
   },
   "outputs": [],
   "source": [
    "#hide\n",
    "dates = []\n",
    "for i in arr_dates:\n",
    "    if i>='2020-07-01':\n",
    "        dates.append(i)\n",
    "dict = {'states':dates}\n",
    "for i in arr_states:\n",
    "    dict[i] = [0]*len(dates)\n",
    "dft_cases = pd.DataFrame(dict)\n",
    "dft_deaths = pd.DataFrame(dict)\n"
   ]
  },
  {
   "cell_type": "code",
   "execution_count": 6,
   "metadata": {
    "execution": {
     "iopub.execute_input": "2020-08-22T05:17:34.627239Z",
     "iopub.status.busy": "2020-08-22T05:17:34.626716Z",
     "iopub.status.idle": "2020-08-22T05:17:35.327886Z",
     "shell.execute_reply": "2020-08-22T05:17:35.327263Z"
    },
    "papermill": {
     "duration": 0.721826,
     "end_time": "2020-08-22T05:17:35.328028",
     "exception": false,
     "start_time": "2020-08-22T05:17:34.606202",
     "status": "completed"
    },
    "tags": []
   },
   "outputs": [],
   "source": [
    "#hide\n",
    "for i in range(len(dates)):\n",
    "    df1_deaths = df_deaths1.get_group(dates[i])\n",
    "    for j in range(len(df1_deaths.index)):\n",
    "        if df1_deaths.iloc[j,1] in arr_states:\n",
    "            dft_deaths.loc[i,df1_deaths.iloc[j,1]] = df1_deaths.iloc[j,2]\n",
    "dft_deaths = dft_deaths.set_index('states')"
   ]
  },
  {
   "cell_type": "code",
   "execution_count": 7,
   "metadata": {
    "execution": {
     "iopub.execute_input": "2020-08-22T05:17:35.365980Z",
     "iopub.status.busy": "2020-08-22T05:17:35.365205Z",
     "iopub.status.idle": "2020-08-22T05:17:36.064654Z",
     "shell.execute_reply": "2020-08-22T05:17:36.065293Z"
    },
    "papermill": {
     "duration": 0.72138,
     "end_time": "2020-08-22T05:17:36.065492",
     "exception": false,
     "start_time": "2020-08-22T05:17:35.344112",
     "status": "completed"
    },
    "tags": []
   },
   "outputs": [],
   "source": [
    "#hide\n",
    "for i in range(len(dates)):\n",
    "    df1_cases = df_cases1.get_group(dates[i])\n",
    "    for j in range(len(df1_cases.index)):\n",
    "        if df1_cases.iloc[j,1] in arr_states:\n",
    "            dft_cases.loc[i,df1_cases.iloc[j,1]] = df1_cases.iloc[j,2]\n",
    "dft_cases = dft_cases.set_index('states')"
   ]
  },
  {
   "cell_type": "code",
   "execution_count": 8,
   "metadata": {
    "execution": {
     "iopub.execute_input": "2020-08-22T05:17:36.106557Z",
     "iopub.status.busy": "2020-08-22T05:17:36.101723Z",
     "iopub.status.idle": "2020-08-22T05:17:36.107159Z",
     "shell.execute_reply": "2020-08-22T05:17:36.107589Z"
    },
    "papermill": {
     "duration": 0.026538,
     "end_time": "2020-08-22T05:17:36.107719",
     "exception": false,
     "start_time": "2020-08-22T05:17:36.081181",
     "status": "completed"
    },
    "tags": []
   },
   "outputs": [],
   "source": [
    "#hide\n",
    "dft_cases = dft_cases.T\n",
    "dft_deaths = dft_deaths.T\n",
    "dt_today = dates[-1]\n",
    "dt_yday = dates[-2]"
   ]
  },
  {
   "cell_type": "code",
   "execution_count": 9,
   "metadata": {
    "execution": {
     "iopub.execute_input": "2020-08-22T05:17:36.143882Z",
     "iopub.status.busy": "2020-08-22T05:17:36.142353Z",
     "iopub.status.idle": "2020-08-22T05:17:36.146629Z",
     "shell.execute_reply": "2020-08-22T05:17:36.147088Z"
    },
    "papermill": {
     "duration": 0.02449,
     "end_time": "2020-08-22T05:17:36.147225",
     "exception": false,
     "start_time": "2020-08-22T05:17:36.122735",
     "status": "completed"
    },
    "tags": []
   },
   "outputs": [],
   "source": [
    "#hide\n",
    "dft_cases = dft_cases.reset_index()\n",
    "dft_deaths = dft_deaths.reset_index()\n",
    "dft_cases = dft_cases.rename(columns = {'index':'state'})\n",
    "dft_deaths = dft_deaths.rename(columns = {'index':'state'})"
   ]
  },
  {
   "cell_type": "code",
   "execution_count": 10,
   "metadata": {
    "execution": {
     "iopub.execute_input": "2020-08-22T05:17:36.188203Z",
     "iopub.status.busy": "2020-08-22T05:17:36.187511Z",
     "iopub.status.idle": "2020-08-22T05:17:36.189248Z",
     "shell.execute_reply": "2020-08-22T05:17:36.189875Z"
    },
    "papermill": {
     "duration": 0.028228,
     "end_time": "2020-08-22T05:17:36.190019",
     "exception": false,
     "start_time": "2020-08-22T05:17:36.161791",
     "status": "completed"
    },
    "tags": []
   },
   "outputs": [],
   "source": [
    "#hide\n",
    "dfc_cases = dft_cases.groupby('state')[dt_today].sum()\n",
    "dfc_deaths = dft_deaths.groupby('state')[dt_today].sum()\n",
    "dfp_cases = dft_cases.groupby('state')[dt_yday].sum()\n",
    "dfp_deaths = dft_deaths.groupby('state')[dt_yday].sum()"
   ]
  },
  {
   "cell_type": "code",
   "execution_count": 11,
   "metadata": {
    "execution": {
     "iopub.execute_input": "2020-08-22T05:17:36.235152Z",
     "iopub.status.busy": "2020-08-22T05:17:36.234568Z",
     "iopub.status.idle": "2020-08-22T05:17:36.250067Z",
     "shell.execute_reply": "2020-08-22T05:17:36.249526Z"
    },
    "papermill": {
     "duration": 0.04454,
     "end_time": "2020-08-22T05:17:36.250186",
     "exception": false,
     "start_time": "2020-08-22T05:17:36.205646",
     "status": "completed"
    },
    "tags": []
   },
   "outputs": [
    {
     "data": {
      "text/html": [
       "<div>\n",
       "<style scoped>\n",
       "    .dataframe tbody tr th:only-of-type {\n",
       "        vertical-align: middle;\n",
       "    }\n",
       "\n",
       "    .dataframe tbody tr th {\n",
       "        vertical-align: top;\n",
       "    }\n",
       "\n",
       "    .dataframe thead th {\n",
       "        text-align: right;\n",
       "    }\n",
       "</style>\n",
       "<table border=\"1\" class=\"dataframe\">\n",
       "  <thead>\n",
       "    <tr style=\"text-align: right;\">\n",
       "      <th></th>\n",
       "      <th>states</th>\n",
       "      <th>Cases</th>\n",
       "      <th>Deaths</th>\n",
       "      <th>PCases</th>\n",
       "      <th>PDeaths</th>\n",
       "    </tr>\n",
       "  </thead>\n",
       "  <tbody>\n",
       "    <tr>\n",
       "      <th>0</th>\n",
       "      <td>Maharashtra</td>\n",
       "      <td>657450</td>\n",
       "      <td>21698</td>\n",
       "      <td>657450</td>\n",
       "      <td>21698</td>\n",
       "    </tr>\n",
       "    <tr>\n",
       "      <th>1</th>\n",
       "      <td>Tamil Nadu</td>\n",
       "      <td>367430</td>\n",
       "      <td>6340</td>\n",
       "      <td>367430</td>\n",
       "      <td>6340</td>\n",
       "    </tr>\n",
       "    <tr>\n",
       "      <th>2</th>\n",
       "      <td>Andhra Pradesh</td>\n",
       "      <td>334940</td>\n",
       "      <td>3092</td>\n",
       "      <td>334940</td>\n",
       "      <td>3092</td>\n",
       "    </tr>\n",
       "    <tr>\n",
       "      <th>3</th>\n",
       "      <td>Karnataka</td>\n",
       "      <td>264546</td>\n",
       "      <td>4522</td>\n",
       "      <td>264546</td>\n",
       "      <td>4522</td>\n",
       "    </tr>\n",
       "    <tr>\n",
       "      <th>4</th>\n",
       "      <td>Uttar Pradesh</td>\n",
       "      <td>177239</td>\n",
       "      <td>2797</td>\n",
       "      <td>177239</td>\n",
       "      <td>2797</td>\n",
       "    </tr>\n",
       "  </tbody>\n",
       "</table>\n",
       "</div>"
      ],
      "text/plain": [
       "           states   Cases  Deaths  PCases  PDeaths\n",
       "0     Maharashtra  657450   21698  657450    21698\n",
       "1      Tamil Nadu  367430    6340  367430     6340\n",
       "2  Andhra Pradesh  334940    3092  334940     3092\n",
       "3       Karnataka  264546    4522  264546     4522\n",
       "4   Uttar Pradesh  177239    2797  177239     2797"
      ]
     },
     "execution_count": 11,
     "metadata": {},
     "output_type": "execute_result"
    }
   ],
   "source": [
    "#hide\n",
    "df_table = pd.DataFrame({'states': dfc_cases.index, 'Cases': dfc_cases.values, 'Deaths': dfc_deaths.values, 'PCases': dfp_cases.values, 'PDeaths': dfp_deaths.values}).set_index('states')\n",
    "df_table = df_table.sort_values(by = ['Cases','Deaths'], ascending = [False, False])\n",
    "df_table = df_table.reset_index()\n",
    "df_table.head()"
   ]
  },
  {
   "cell_type": "code",
   "execution_count": 12,
   "metadata": {
    "execution": {
     "iopub.execute_input": "2020-08-22T05:17:36.285209Z",
     "iopub.status.busy": "2020-08-22T05:17:36.284619Z",
     "iopub.status.idle": "2020-08-22T05:17:36.292599Z",
     "shell.execute_reply": "2020-08-22T05:17:36.293141Z"
    },
    "papermill": {
     "duration": 0.028586,
     "end_time": "2020-08-22T05:17:36.293265",
     "exception": false,
     "start_time": "2020-08-22T05:17:36.264679",
     "status": "completed"
    },
    "tags": []
   },
   "outputs": [],
   "source": [
    "#hide\n",
    "for c in 'Cases, Deaths'.split(', '):\n",
    "    df_table[f'{c} (+)'] = (df_table[c] - df_table[f'P{c}']).clip(0)\n",
    "df_table['Fatality Rate'] = (100* df_table['Deaths']/ df_table['Cases']).round(2)"
   ]
  },
  {
   "cell_type": "code",
   "execution_count": 13,
   "metadata": {
    "execution": {
     "iopub.execute_input": "2020-08-22T05:17:36.338443Z",
     "iopub.status.busy": "2020-08-22T05:17:36.337767Z",
     "iopub.status.idle": "2020-08-22T05:17:36.340112Z",
     "shell.execute_reply": "2020-08-22T05:17:36.340597Z"
    },
    "papermill": {
     "duration": 0.032902,
     "end_time": "2020-08-22T05:17:36.340719",
     "exception": false,
     "start_time": "2020-08-22T05:17:36.307817",
     "status": "completed"
    },
    "tags": []
   },
   "outputs": [
    {
     "data": {
      "text/html": [
       "<div>\n",
       "<style scoped>\n",
       "    .dataframe tbody tr th:only-of-type {\n",
       "        vertical-align: middle;\n",
       "    }\n",
       "\n",
       "    .dataframe tbody tr th {\n",
       "        vertical-align: top;\n",
       "    }\n",
       "\n",
       "    .dataframe thead th {\n",
       "        text-align: right;\n",
       "    }\n",
       "</style>\n",
       "<table border=\"1\" class=\"dataframe\">\n",
       "  <thead>\n",
       "    <tr style=\"text-align: right;\">\n",
       "      <th></th>\n",
       "      <th>states</th>\n",
       "      <th>Cases</th>\n",
       "      <th>Deaths</th>\n",
       "      <th>PCases</th>\n",
       "      <th>PDeaths</th>\n",
       "      <th>Cases (+)</th>\n",
       "      <th>Deaths (+)</th>\n",
       "      <th>Fatality Rate</th>\n",
       "    </tr>\n",
       "  </thead>\n",
       "  <tbody>\n",
       "    <tr>\n",
       "      <th>0</th>\n",
       "      <td>Maharashtra</td>\n",
       "      <td>657450</td>\n",
       "      <td>21698</td>\n",
       "      <td>657450</td>\n",
       "      <td>21698</td>\n",
       "      <td>0</td>\n",
       "      <td>0</td>\n",
       "      <td>3.30</td>\n",
       "    </tr>\n",
       "    <tr>\n",
       "      <th>1</th>\n",
       "      <td>Tamil Nadu</td>\n",
       "      <td>367430</td>\n",
       "      <td>6340</td>\n",
       "      <td>367430</td>\n",
       "      <td>6340</td>\n",
       "      <td>0</td>\n",
       "      <td>0</td>\n",
       "      <td>1.73</td>\n",
       "    </tr>\n",
       "    <tr>\n",
       "      <th>2</th>\n",
       "      <td>Andhra Pradesh</td>\n",
       "      <td>334940</td>\n",
       "      <td>3092</td>\n",
       "      <td>334940</td>\n",
       "      <td>3092</td>\n",
       "      <td>0</td>\n",
       "      <td>0</td>\n",
       "      <td>0.92</td>\n",
       "    </tr>\n",
       "    <tr>\n",
       "      <th>3</th>\n",
       "      <td>Karnataka</td>\n",
       "      <td>264546</td>\n",
       "      <td>4522</td>\n",
       "      <td>264546</td>\n",
       "      <td>4522</td>\n",
       "      <td>0</td>\n",
       "      <td>0</td>\n",
       "      <td>1.71</td>\n",
       "    </tr>\n",
       "    <tr>\n",
       "      <th>4</th>\n",
       "      <td>Uttar Pradesh</td>\n",
       "      <td>177239</td>\n",
       "      <td>2797</td>\n",
       "      <td>177239</td>\n",
       "      <td>2797</td>\n",
       "      <td>0</td>\n",
       "      <td>0</td>\n",
       "      <td>1.58</td>\n",
       "    </tr>\n",
       "  </tbody>\n",
       "</table>\n",
       "</div>"
      ],
      "text/plain": [
       "           states   Cases  Deaths  PCases  PDeaths  Cases (+)  Deaths (+)  \\\n",
       "0     Maharashtra  657450   21698  657450    21698          0           0   \n",
       "1      Tamil Nadu  367430    6340  367430     6340          0           0   \n",
       "2  Andhra Pradesh  334940    3092  334940     3092          0           0   \n",
       "3       Karnataka  264546    4522  264546     4522          0           0   \n",
       "4   Uttar Pradesh  177239    2797  177239     2797          0           0   \n",
       "\n",
       "   Fatality Rate  \n",
       "0           3.30  \n",
       "1           1.73  \n",
       "2           0.92  \n",
       "3           1.71  \n",
       "4           1.58  "
      ]
     },
     "execution_count": 13,
     "metadata": {},
     "output_type": "execute_result"
    }
   ],
   "source": [
    "#hide\n",
    "df_table.head()"
   ]
  },
  {
   "cell_type": "code",
   "execution_count": 14,
   "metadata": {
    "execution": {
     "iopub.execute_input": "2020-08-22T05:17:36.378495Z",
     "iopub.status.busy": "2020-08-22T05:17:36.377881Z",
     "iopub.status.idle": "2020-08-22T05:17:36.394556Z",
     "shell.execute_reply": "2020-08-22T05:17:36.394062Z"
    },
    "papermill": {
     "duration": 0.03768,
     "end_time": "2020-08-22T05:17:36.394668",
     "exception": false,
     "start_time": "2020-08-22T05:17:36.356988",
     "status": "completed"
    },
    "tags": []
   },
   "outputs": [
    {
     "data": {
      "text/plain": [
       "{'updated': '2020-08-22',\n",
       " 'since': '2020-08-21',\n",
       " 'Cases': 2975851,\n",
       " 'PCases': 2973369,\n",
       " 'Deaths': 55935,\n",
       " 'PDeaths': 55928,\n",
       " 'Cases (+)': 2482,\n",
       " 'Deaths (+)': 7}"
      ]
     },
     "execution_count": 14,
     "metadata": {},
     "output_type": "execute_result"
    }
   ],
   "source": [
    "#hide\n",
    "summary = {'updated':dates[-1], 'since':dates[-2]}\n",
    "list_names = ['Cases', 'PCases', 'Deaths', 'PDeaths', 'Cases (+)', 'Deaths (+)']\n",
    "for name in list_names:\n",
    "    summary[name] = df_table.sum()[name]\n",
    "summary"
   ]
  },
  {
   "cell_type": "code",
   "execution_count": 15,
   "metadata": {
    "execution": {
     "iopub.execute_input": "2020-08-22T05:17:36.431469Z",
     "iopub.status.busy": "2020-08-22T05:17:36.430926Z",
     "iopub.status.idle": "2020-08-22T05:17:36.433082Z",
     "shell.execute_reply": "2020-08-22T05:17:36.433499Z"
    },
    "papermill": {
     "duration": 0.022674,
     "end_time": "2020-08-22T05:17:36.433620",
     "exception": false,
     "start_time": "2020-08-22T05:17:36.410946",
     "status": "completed"
    },
    "tags": []
   },
   "outputs": [],
   "source": [
    "#hide\n",
    "overview = '''\n",
    "<!-- #######  HTML!! #########-->\n",
    "<h1 style=\"color: #5e9ca0; text-align: center;\">India</h1>\n",
    "<p style=\"text-align: center;\">Last update: <strong>{update}</strong></p>\n",
    "<p style=\"text-align: center;\">Confirmed cases:</p>\n",
    "<p style=\"text-align: center;font-size:24px;\">{cases} (<span style=\"color: #ff0000;\">+{new}</span>)</p>\n",
    "<p style=\"text-align: center;\">Confirmed deaths:</p>\n",
    "<p style=\"text-align: center;font-size:24px;\">{deaths} (<span style=\"color: #ff0000;\">+{dnew}</span>)</p>\n",
    "'''"
   ]
  },
  {
   "cell_type": "code",
   "execution_count": 16,
   "metadata": {
    "execution": {
     "iopub.execute_input": "2020-08-22T05:17:36.470742Z",
     "iopub.status.busy": "2020-08-22T05:17:36.470136Z",
     "iopub.status.idle": "2020-08-22T05:17:36.474492Z",
     "shell.execute_reply": "2020-08-22T05:17:36.473862Z"
    },
    "papermill": {
     "duration": 0.025281,
     "end_time": "2020-08-22T05:17:36.474598",
     "exception": false,
     "start_time": "2020-08-22T05:17:36.449317",
     "status": "completed"
    },
    "tags": []
   },
   "outputs": [
    {
     "data": {
      "text/html": [
       "\n",
       "<!-- #######  HTML!! #########-->\n",
       "<h1 style=\"color: #5e9ca0; text-align: center;\">India</h1>\n",
       "<p style=\"text-align: center;\">Last update: <strong>2020-08-22</strong></p>\n",
       "<p style=\"text-align: center;\">Confirmed cases:</p>\n",
       "<p style=\"text-align: center;font-size:24px;\">2975851 (<span style=\"color: #ff0000;\">+2482</span>)</p>\n",
       "<p style=\"text-align: center;\">Confirmed deaths:</p>\n",
       "<p style=\"text-align: center;font-size:24px;\">55935 (<span style=\"color: #ff0000;\">+7</span>)</p>\n"
      ],
      "text/plain": [
       "<IPython.core.display.HTML object>"
      ]
     },
     "metadata": {},
     "output_type": "display_data"
    }
   ],
   "source": [
    "#hide_input\n",
    "update = summary['updated']\n",
    "cases = summary['Cases']\n",
    "new = summary['Cases (+)']\n",
    "deaths = summary['Deaths']\n",
    "dnew = summary['Deaths (+)']\n",
    "\n",
    "html = HTML(overview.format(update=update, cases=cases,new=new,deaths=deaths,dnew=dnew))\n",
    "\n",
    "display(html)"
   ]
  },
  {
   "cell_type": "code",
   "execution_count": 17,
   "metadata": {
    "execution": {
     "iopub.execute_input": "2020-08-22T05:17:36.515718Z",
     "iopub.status.busy": "2020-08-22T05:17:36.513922Z",
     "iopub.status.idle": "2020-08-22T05:17:36.519692Z",
     "shell.execute_reply": "2020-08-22T05:17:36.519225Z"
    },
    "papermill": {
     "duration": 0.028704,
     "end_time": "2020-08-22T05:17:36.519799",
     "exception": false,
     "start_time": "2020-08-22T05:17:36.491095",
     "status": "completed"
    },
    "tags": []
   },
   "outputs": [],
   "source": [
    "#hide\n",
    "dt_cols = list(dft_cases.columns[1:])\n",
    "dft_ct_new_cases = dft_cases.groupby('state')[dt_cols].sum().diff(axis=1).fillna(0).astype(int)\n",
    "dft_ct_new_cases.sort_values(by = dates[-1], ascending = False,inplace = True)"
   ]
  },
  {
   "cell_type": "code",
   "execution_count": 18,
   "metadata": {
    "execution": {
     "iopub.execute_input": "2020-08-22T05:17:36.568817Z",
     "iopub.status.busy": "2020-08-22T05:17:36.568141Z",
     "iopub.status.idle": "2020-08-22T05:17:36.570627Z",
     "shell.execute_reply": "2020-08-22T05:17:36.571092Z"
    },
    "papermill": {
     "duration": 0.035248,
     "end_time": "2020-08-22T05:17:36.571220",
     "exception": false,
     "start_time": "2020-08-22T05:17:36.535972",
     "status": "completed"
    },
    "tags": []
   },
   "outputs": [
    {
     "data": {
      "text/html": [
       "<div>\n",
       "<style scoped>\n",
       "    .dataframe tbody tr th:only-of-type {\n",
       "        vertical-align: middle;\n",
       "    }\n",
       "\n",
       "    .dataframe tbody tr th {\n",
       "        vertical-align: top;\n",
       "    }\n",
       "\n",
       "    .dataframe thead th {\n",
       "        text-align: right;\n",
       "    }\n",
       "</style>\n",
       "<table border=\"1\" class=\"dataframe\">\n",
       "  <thead>\n",
       "    <tr style=\"text-align: right;\">\n",
       "      <th>states</th>\n",
       "      <th>2020-07-01</th>\n",
       "      <th>2020-07-02</th>\n",
       "      <th>2020-07-03</th>\n",
       "      <th>2020-07-04</th>\n",
       "      <th>2020-07-05</th>\n",
       "      <th>2020-07-06</th>\n",
       "      <th>2020-07-07</th>\n",
       "      <th>2020-07-08</th>\n",
       "      <th>2020-07-09</th>\n",
       "      <th>2020-07-10</th>\n",
       "      <th>...</th>\n",
       "      <th>2020-08-13</th>\n",
       "      <th>2020-08-14</th>\n",
       "      <th>2020-08-15</th>\n",
       "      <th>2020-08-16</th>\n",
       "      <th>2020-08-17</th>\n",
       "      <th>2020-08-18</th>\n",
       "      <th>2020-08-19</th>\n",
       "      <th>2020-08-20</th>\n",
       "      <th>2020-08-21</th>\n",
       "      <th>2020-08-22</th>\n",
       "    </tr>\n",
       "    <tr>\n",
       "      <th>state</th>\n",
       "      <th></th>\n",
       "      <th></th>\n",
       "      <th></th>\n",
       "      <th></th>\n",
       "      <th></th>\n",
       "      <th></th>\n",
       "      <th></th>\n",
       "      <th></th>\n",
       "      <th></th>\n",
       "      <th></th>\n",
       "      <th></th>\n",
       "      <th></th>\n",
       "      <th></th>\n",
       "      <th></th>\n",
       "      <th></th>\n",
       "      <th></th>\n",
       "      <th></th>\n",
       "      <th></th>\n",
       "      <th></th>\n",
       "      <th></th>\n",
       "      <th></th>\n",
       "    </tr>\n",
       "  </thead>\n",
       "  <tbody>\n",
       "    <tr>\n",
       "      <th>Telangana</th>\n",
       "      <td>0</td>\n",
       "      <td>1213</td>\n",
       "      <td>1892</td>\n",
       "      <td>1850</td>\n",
       "      <td>1590</td>\n",
       "      <td>1831</td>\n",
       "      <td>1879</td>\n",
       "      <td>1924</td>\n",
       "      <td>1410</td>\n",
       "      <td>1278</td>\n",
       "      <td>...</td>\n",
       "      <td>1931</td>\n",
       "      <td>1921</td>\n",
       "      <td>1863</td>\n",
       "      <td>1102</td>\n",
       "      <td>894</td>\n",
       "      <td>1682</td>\n",
       "      <td>1763</td>\n",
       "      <td>1724</td>\n",
       "      <td>1967</td>\n",
       "      <td>2474</td>\n",
       "    </tr>\n",
       "    <tr>\n",
       "      <th>Mizoram</th>\n",
       "      <td>0</td>\n",
       "      <td>2</td>\n",
       "      <td>0</td>\n",
       "      <td>2</td>\n",
       "      <td>22</td>\n",
       "      <td>11</td>\n",
       "      <td>1</td>\n",
       "      <td>5</td>\n",
       "      <td>0</td>\n",
       "      <td>23</td>\n",
       "      <td>...</td>\n",
       "      <td>1</td>\n",
       "      <td>8</td>\n",
       "      <td>56</td>\n",
       "      <td>64</td>\n",
       "      <td>12</td>\n",
       "      <td>26</td>\n",
       "      <td>45</td>\n",
       "      <td>14</td>\n",
       "      <td>21</td>\n",
       "      <td>8</td>\n",
       "    </tr>\n",
       "    <tr>\n",
       "      <th>Andaman and Nicobar Islands</th>\n",
       "      <td>0</td>\n",
       "      <td>9</td>\n",
       "      <td>7</td>\n",
       "      <td>3</td>\n",
       "      <td>6</td>\n",
       "      <td>16</td>\n",
       "      <td>6</td>\n",
       "      <td>2</td>\n",
       "      <td>7</td>\n",
       "      <td>0</td>\n",
       "      <td>...</td>\n",
       "      <td>137</td>\n",
       "      <td>149</td>\n",
       "      <td>120</td>\n",
       "      <td>93</td>\n",
       "      <td>46</td>\n",
       "      <td>84</td>\n",
       "      <td>75</td>\n",
       "      <td>76</td>\n",
       "      <td>67</td>\n",
       "      <td>0</td>\n",
       "    </tr>\n",
       "    <tr>\n",
       "      <th>Puducherry</th>\n",
       "      <td>0</td>\n",
       "      <td>63</td>\n",
       "      <td>22</td>\n",
       "      <td>80</td>\n",
       "      <td>42</td>\n",
       "      <td>65</td>\n",
       "      <td>30</td>\n",
       "      <td>110</td>\n",
       "      <td>49</td>\n",
       "      <td>72</td>\n",
       "      <td>...</td>\n",
       "      <td>299</td>\n",
       "      <td>315</td>\n",
       "      <td>359</td>\n",
       "      <td>378</td>\n",
       "      <td>297</td>\n",
       "      <td>367</td>\n",
       "      <td>356</td>\n",
       "      <td>540</td>\n",
       "      <td>302</td>\n",
       "      <td>0</td>\n",
       "    </tr>\n",
       "    <tr>\n",
       "      <th>Maharashtra</th>\n",
       "      <td>0</td>\n",
       "      <td>6328</td>\n",
       "      <td>6364</td>\n",
       "      <td>7074</td>\n",
       "      <td>6555</td>\n",
       "      <td>5368</td>\n",
       "      <td>5134</td>\n",
       "      <td>6603</td>\n",
       "      <td>6875</td>\n",
       "      <td>7862</td>\n",
       "      <td>...</td>\n",
       "      <td>11813</td>\n",
       "      <td>12608</td>\n",
       "      <td>12020</td>\n",
       "      <td>11111</td>\n",
       "      <td>8493</td>\n",
       "      <td>11119</td>\n",
       "      <td>13165</td>\n",
       "      <td>14647</td>\n",
       "      <td>14161</td>\n",
       "      <td>0</td>\n",
       "    </tr>\n",
       "  </tbody>\n",
       "</table>\n",
       "<p>5 rows × 53 columns</p>\n",
       "</div>"
      ],
      "text/plain": [
       "states                       2020-07-01  2020-07-02  2020-07-03  2020-07-04  \\\n",
       "state                                                                         \n",
       "Telangana                             0        1213        1892        1850   \n",
       "Mizoram                               0           2           0           2   \n",
       "Andaman and Nicobar Islands           0           9           7           3   \n",
       "Puducherry                            0          63          22          80   \n",
       "Maharashtra                           0        6328        6364        7074   \n",
       "\n",
       "states                       2020-07-05  2020-07-06  2020-07-07  2020-07-08  \\\n",
       "state                                                                         \n",
       "Telangana                          1590        1831        1879        1924   \n",
       "Mizoram                              22          11           1           5   \n",
       "Andaman and Nicobar Islands           6          16           6           2   \n",
       "Puducherry                           42          65          30         110   \n",
       "Maharashtra                        6555        5368        5134        6603   \n",
       "\n",
       "states                       2020-07-09  2020-07-10  ...  2020-08-13  \\\n",
       "state                                                ...               \n",
       "Telangana                          1410        1278  ...        1931   \n",
       "Mizoram                               0          23  ...           1   \n",
       "Andaman and Nicobar Islands           7           0  ...         137   \n",
       "Puducherry                           49          72  ...         299   \n",
       "Maharashtra                        6875        7862  ...       11813   \n",
       "\n",
       "states                       2020-08-14  2020-08-15  2020-08-16  2020-08-17  \\\n",
       "state                                                                         \n",
       "Telangana                          1921        1863        1102         894   \n",
       "Mizoram                               8          56          64          12   \n",
       "Andaman and Nicobar Islands         149         120          93          46   \n",
       "Puducherry                          315         359         378         297   \n",
       "Maharashtra                       12608       12020       11111        8493   \n",
       "\n",
       "states                       2020-08-18  2020-08-19  2020-08-20  2020-08-21  \\\n",
       "state                                                                         \n",
       "Telangana                          1682        1763        1724        1967   \n",
       "Mizoram                              26          45          14          21   \n",
       "Andaman and Nicobar Islands          84          75          76          67   \n",
       "Puducherry                          367         356         540         302   \n",
       "Maharashtra                       11119       13165       14647       14161   \n",
       "\n",
       "states                       2020-08-22  \n",
       "state                                    \n",
       "Telangana                          2474  \n",
       "Mizoram                               8  \n",
       "Andaman and Nicobar Islands           0  \n",
       "Puducherry                            0  \n",
       "Maharashtra                           0  \n",
       "\n",
       "[5 rows x 53 columns]"
      ]
     },
     "execution_count": 18,
     "metadata": {},
     "output_type": "execute_result"
    }
   ],
   "source": [
    "#hide\n",
    "dft_ct_new_cases.head()"
   ]
  },
  {
   "cell_type": "code",
   "execution_count": 19,
   "metadata": {
    "execution": {
     "iopub.execute_input": "2020-08-22T05:17:36.607591Z",
     "iopub.status.busy": "2020-08-22T05:17:36.607029Z",
     "iopub.status.idle": "2020-08-22T05:17:39.227595Z",
     "shell.execute_reply": "2020-08-22T05:17:39.228087Z"
    },
    "papermill": {
     "duration": 2.640386,
     "end_time": "2020-08-22T05:17:39.228244",
     "exception": false,
     "start_time": "2020-08-22T05:17:36.587858",
     "status": "completed"
    },
    "tags": []
   },
   "outputs": [
    {
     "data": {
      "image/png": "[encoded data removed]",
      "text/plain": [
       "<Figure size 1296x2016 with 11 Axes>"
      ]
     },
     "metadata": {
      "needs_background": "light"
     },
     "output_type": "display_data"
    }
   ],
   "source": [
    "#hide_input\n",
    "df = dft_ct_new_cases.copy()\n",
    "df.loc['Total'] = df.sum()\n",
    "n = 5\n",
    "ax = []\n",
    "fig = plt.figure(figsize = (18,28))\n",
    "gs = fig.add_gridspec(n+2, 5)\n",
    "# gs = fig.add_gridspec(2, 3)\n",
    "ax1 = fig.add_subplot(gs[0, :])\n",
    "ef = df.loc['Total'].rename_axis('date').reset_index()\n",
    "ef['date'] = ef['date'].astype('datetime64[ns]')\n",
    "ax1.bar(ef.date,ef.Total,alpha=0.3,color='#007acc')\n",
    "ax1.plot(ef.date,ef.Total , marker=\"o\", color='#007acc')\n",
    "ax1.xaxis.set_major_locator(mdates.WeekdayLocator())\n",
    "ax1.xaxis.set_major_formatter(mdates.DateFormatter('%b %d'))\n",
    "ax1.text(0.02, 0.5,'India daily case count', transform = ax1.transAxes, fontsize=25);\n",
    "ax1.spines['right'].set_visible(False)\n",
    "ax1.spines['top'].set_visible(False)\n",
    "\n",
    "ax2 = fig.add_subplot(gs[1,0])\n",
    "ef = df.loc['Maharashtra'].rename_axis('date').reset_index()\n",
    "ef['date'] = ef['date'].astype('datetime64[ns]')\n",
    "\n",
    "ax2.bar(ef.date, ef.Maharashtra,color = '#007acc',alpha=0.5)\n",
    "ax2.xaxis.set_major_locator(mdates.WeekdayLocator())\n",
    "ax2.xaxis.set_major_formatter(mdates.DateFormatter('%b %d'))\n",
    "ax2.set_xticks(ax2.get_xticks()[::3])\n",
    "maxyval = ef.Maharashtra.max()\n",
    "ax2.set_ylim([0,maxyval])\n",
    "ax2.text(0.05, 0.9,'Maharashtra', transform = ax2.transAxes, fontsize=20);\n",
    "ax2.spines['right'].set_visible(False)\n",
    "ax2.spines['top'].set_visible(False)\n",
    "\n",
    "\n",
    "ax3 = fig.add_subplot(gs[1,1])\n",
    "ef = df.loc['Tamil Nadu'].rename_axis('date').reset_index()\n",
    "ef['date'] = ef['date'].astype('datetime64[ns]')\n",
    "ax3.bar(ef.date, ef['Tamil Nadu'],color = '#007acc',alpha=0.5,)\n",
    "ax3.xaxis.set_major_locator(mdates.WeekdayLocator())\n",
    "ax3.xaxis.set_major_formatter(mdates.DateFormatter('%b %d'))\n",
    "ax3.set_xticks(ax3.get_xticks()[::3])\n",
    "ax3.text(0.05, 0.9,'Tamil Nadu', transform = ax3.transAxes, fontsize=20);\n",
    "ax3.spines['right'].set_visible(False)\n",
    "ax3.spines['top'].set_visible(False)\n",
    "\n",
    "ax5 = fig.add_subplot(gs[1,3])\n",
    "ef = df.loc['Telangana'].rename_axis('date').reset_index()\n",
    "ef['date'] = ef['date'].astype('datetime64[ns]')\n",
    "ax5.bar(ef.date, ef['Telangana'],color = '#007acc',alpha=0.5,)\n",
    "ax5.xaxis.set_major_locator(mdates.WeekdayLocator())\n",
    "ax5.xaxis.set_major_formatter(mdates.DateFormatter('%b %d'))\n",
    "ax5.set_xticks(ax5.get_xticks()[::3])\n",
    "ax5.text(0.05, 0.9,'Telangana', transform = ax5.transAxes, fontsize=20);\n",
    "ax5.spines['right'].set_visible(False)\n",
    "ax5.spines['top'].set_visible(False)\n",
    "\n",
    "ax6 = fig.add_subplot(gs[1,4])\n",
    "ef = df.loc['Andhra Pradesh'].rename_axis('date').reset_index()\n",
    "ef['date'] = ef['date'].astype('datetime64[ns]')\n",
    "ax6.bar(ef.date, ef['Andhra Pradesh'],color = '#007acc',alpha=0.5,)\n",
    "ax6.xaxis.set_major_locator(mdates.WeekdayLocator())\n",
    "ax6.xaxis.set_major_formatter(mdates.DateFormatter('%b %d'))\n",
    "ax6.set_xticks(ax6.get_xticks()[::3])\n",
    "ax6.text(0.05, 1,'Andhra Pradesh', transform = ax6.transAxes, fontsize=20);\n",
    "ax6.spines['right'].set_visible(False)\n",
    "ax6.spines['top'].set_visible(False)\n",
    "\n",
    "ax4 = fig.add_subplot(gs[1,2])\n",
    "ef = df.loc['Delhi'].rename_axis('date').reset_index()\n",
    "ef['date'] = ef['date'].astype('datetime64[ns]')\n",
    "ax4.bar(ef.date, ef.Delhi,color = '#007acc',alpha=0.5)\n",
    "ax4.set_xticks([])\n",
    "ax4.xaxis.set_major_locator(mdates.WeekdayLocator())\n",
    "ax4.xaxis.set_major_formatter(mdates.DateFormatter('%b %d'))\n",
    "ax4.set_xticks(ax4.get_xticks()[::3])\n",
    "ax4.spines['right'].set_visible(False)\n",
    "ax4.spines['top'].set_visible(False)\n",
    "\n",
    "ax4.text(0.05, 1,'Delhi', transform = ax4.transAxes, fontsize=20)\n",
    "\n",
    "for i in range(n):\n",
    "    \n",
    "    ax.append(fig.add_subplot(gs[i+2,:]))\n",
    "    ef = df.iloc[i+3].rename_axis('date').reset_index()\n",
    "    ef['date'] = ef['date'].astype('datetime64[ns]')\n",
    "    ax[i].bar(ef.date,ef.iloc[:,-1],color = '#007acc',alpha=0.3)\n",
    "    ax[i].plot(ef.date,ef.iloc[:,-1],marker='o',color='#007acc')\n",
    "    ax[i].text(0.02,0.5,f'{ef.columns.values[-1]}',transform = ax[i].transAxes, fontsize = 20);\n",
    "    ax[i].xaxis.set_major_locator(mdates.WeekdayLocator())\n",
    "    ax[i].xaxis.set_major_formatter(mdates.DateFormatter('%b %d'))\n",
    "    ax[i].set_ylim([0,7000])\n",
    "    ax[i].spines['right'].set_visible(False)\n",
    "    ax[i].spines['top'].set_visible(False)\n",
    "plt.tight_layout()\n"
   ]
  },
  {
   "cell_type": "code",
   "execution_count": 20,
   "metadata": {
    "execution": {
     "iopub.execute_input": "2020-08-22T05:17:39.282201Z",
     "iopub.status.busy": "2020-08-22T05:17:39.281296Z",
     "iopub.status.idle": "2020-08-22T05:17:39.283943Z",
     "shell.execute_reply": "2020-08-22T05:17:39.284414Z"
    },
    "papermill": {
     "duration": 0.034497,
     "end_time": "2020-08-22T05:17:39.284569",
     "exception": false,
     "start_time": "2020-08-22T05:17:39.250072",
     "status": "completed"
    },
    "tags": []
   },
   "outputs": [
    {
     "name": "stdout",
     "output_type": "stream",
     "text": [
      "                                   states   Cases  Deaths  PCases  PDeaths  Cases (+)  Deaths (+)  Fatality Rate\n",
      "                              Maharashtra  657450   21698  657450    21698          0           0           3.30\n",
      "                               Tamil Nadu  367430    6340  367430     6340          0           0           1.73\n",
      "                           Andhra Pradesh  334940    3092  334940     3092          0           0           0.92\n",
      "                                Karnataka  264546    4522  264546     4522          0           0           1.71\n",
      "                            Uttar Pradesh  177239    2797  177239     2797          0           0           1.58\n",
      "                                    Delhi  158604    4270  158604     4270          0           0           2.69\n",
      "                              West Bengal  132364    2689  132364     2689          0           0           2.03\n",
      "                                    Bihar  117671     588  117671      588          0           0           0.50\n",
      "                                Telangana  101865     744   99391      737       2474           7           0.73\n",
      "                                    Assam   87909     227   87909      227          0           0           0.26\n",
      "                                  Gujarat   84466    2867   84466     2867          0           0           3.39\n",
      "                                   Odisha   72718     443   72718      443          0           0           0.61\n",
      "                                Rajasthan   67954     933   67954      933          0           0           1.37\n",
      "                                   Kerala   54182     204   54182      204          0           0           0.38\n",
      "                                  Haryana   52129     585   52129      585          0           0           1.12\n",
      "                           Madhya Pradesh   50640    1185   50640     1185          0           0           2.34\n",
      "                                   Punjab   39327     991   39327      991          0           0           2.52\n",
      "                        Jammu and Kashmir   31371     593   31371      593          0           0           1.89\n",
      "                                Jharkhand   28196     297   28196      297          0           0           1.05\n",
      "                             Chhattisgarh   19510     180   19510      180          0           0           0.92\n",
      "                              Uttarakhand   14083     192   14083      192          0           0           1.36\n",
      "                                      Goa   13484     135   13484      135          0           0           1.00\n",
      "                               Puducherry    9594     143    9594      143          0           0           1.49\n",
      "                                  Tripura    8106      69    8106       69          0           0           0.85\n",
      "                                  Manipur    5049      20    5049       20          0           0           0.40\n",
      "                         Himachal Pradesh    4728      24    4728       24          0           0           0.51\n",
      "                                 Nagaland    3619       7    3619        7          0           0           0.19\n",
      "                        Arunachal Pradesh    3126       5    3126        5          0           0           0.16\n",
      "              Andaman and Nicobar Islands    2747      32    2747       32          0           0           1.16\n",
      "                               Chandigarh    2631      33    2631       33          0           0           1.25\n",
      "                                   Ladakh    2133      19    2133       19          0           0           0.89\n",
      " Dadra and Nagar Haveli and Daman and Diu    2083       2    2083        2          0           0           0.10\n",
      "                                Meghalaya    1718       6    1718        6          0           0           0.35\n",
      "                                   Sikkim    1336       3    1336        3          0           0           0.22\n",
      "                                  Mizoram     903       0     895        0          8           0           0.00\n",
      "                              Lakshadweep       0       0       0        0          0           0            NaN\n"
     ]
    }
   ],
   "source": [
    "#hide_input\n",
    "print(df_table.to_string(index=False))"
   ]
  },
  {
   "cell_type": "code",
   "execution_count": null,
   "metadata": {
    "papermill": {
     "duration": 0.025698,
     "end_time": "2020-08-22T05:17:39.336781",
     "exception": false,
     "start_time": "2020-08-22T05:17:39.311083",
     "status": "completed"
    },
    "tags": []
   },
   "outputs": [],
   "source": []
  },
  {
   "cell_type": "code",
   "execution_count": null,
   "metadata": {
    "papermill": {
     "duration": 0.021712,
     "end_time": "2020-08-22T05:17:39.380215",
     "exception": false,
     "start_time": "2020-08-22T05:17:39.358503",
     "status": "completed"
    },
    "tags": []
   },
   "outputs": [],
   "source": []
  }
 ],
 "metadata": {
  "kernelspec": {
   "display_name": "Python 3",
   "language": "python",
   "name": "python3"
  },
  "language_info": {
   "codemirror_mode": {
    "name": "ipython",
    "version": 3
   },
   "file_extension": ".py",
   "mimetype": "text/x-python",
   "name": "python",
   "nbconvert_exporter": "python",
   "pygments_lexer": "ipython3",
   "version": "3.6.11"
  },
  "papermill": {
   "duration": 8.300921,
   "end_time": "2020-08-22T05:17:40.785757",
   "environment_variables": {},
   "exception": null,
   "input_path": "latest.ipynb",
   "output_path": "latest.ipynb",
   "parameters": {},
   "start_time": "2020-08-22T05:17:32.484836",
   "version": "2.1.2"
  }
 },
 "nbformat": 4,
 "nbformat_minor": 4
}