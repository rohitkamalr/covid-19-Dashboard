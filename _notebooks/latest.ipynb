{
 "cells": [
  {
   "cell_type": "markdown",
   "metadata": {
    "papermill": {
     "duration": 0.020254,
     "end_time": "2020-08-15T06:20:05.315374",
     "exception": false,
     "start_time": "2020-08-15T06:20:05.295120",
     "status": "completed"
    },
    "tags": []
   },
   "source": [
    "# Latest COVID-19 India Matplotlib Overview"
   ]
  },
  {
   "cell_type": "code",
   "execution_count": 1,
   "metadata": {
    "execution": {
     "iopub.execute_input": "2020-08-15T06:20:05.354170Z",
     "iopub.status.busy": "2020-08-15T06:20:05.353617Z",
     "iopub.status.idle": "2020-08-15T06:20:05.904402Z",
     "shell.execute_reply": "2020-08-15T06:20:05.905228Z"
    },
    "papermill": {
     "duration": 0.575039,
     "end_time": "2020-08-15T06:20:05.905516",
     "exception": false,
     "start_time": "2020-08-15T06:20:05.330477",
     "status": "completed"
    },
    "tags": []
   },
   "outputs": [],
   "source": [
    "#hide\n",
    "import pandas as pd\n",
    "import numpy as np\n",
    "import requests\n",
    "import json\n",
    "import matplotlib.pyplot as plt\n",
    "import matplotlib.dates as mdates\n",
    "import matplotlib as mpl\n",
    "from IPython.core.display import display,HTML\n",
    "%matplotlib inline\n",
    "from datetime import date"
   ]
  },
  {
   "cell_type": "code",
   "execution_count": 2,
   "metadata": {
    "execution": {
     "iopub.execute_input": "2020-08-15T06:20:05.944448Z",
     "iopub.status.busy": "2020-08-15T06:20:05.943857Z",
     "iopub.status.idle": "2020-08-15T06:20:06.148080Z",
     "shell.execute_reply": "2020-08-15T06:20:06.147139Z"
    },
    "papermill": {
     "duration": 0.226807,
     "end_time": "2020-08-15T06:20:06.148317",
     "exception": false,
     "start_time": "2020-08-15T06:20:05.921510",
     "status": "completed"
    },
    "tags": []
   },
   "outputs": [],
   "source": [
    "#hide\n",
    "df  = pd.read_csv('https://api.covid19india.org/csv/latest/states.csv')\n",
    "df = df[['Date','State','Confirmed','Deceased']]\n",
    "df = df.rename(columns={'Confirmed':'Cases', \"Deceased\":'Deaths'})\n",
    "df_cases = df[[\"Date\",'State','Cases']]\n",
    "df_deaths = df[['Date','State','Deaths']]\n",
    "df_cases1 = df_cases.groupby('Date')\n",
    "df_deaths1= df_deaths.groupby('Date')"
   ]
  },
  {
   "cell_type": "code",
   "execution_count": 3,
   "metadata": {
    "execution": {
     "iopub.execute_input": "2020-08-15T06:20:06.181689Z",
     "iopub.status.busy": "2020-08-15T06:20:06.181149Z",
     "iopub.status.idle": "2020-08-15T06:20:06.195831Z",
     "shell.execute_reply": "2020-08-15T06:20:06.195350Z"
    },
    "papermill": {
     "duration": 0.032447,
     "end_time": "2020-08-15T06:20:06.195959",
     "exception": false,
     "start_time": "2020-08-15T06:20:06.163512",
     "status": "completed"
    },
    "tags": []
   },
   "outputs": [],
   "source": [
    "#hide\n",
    "df_snap = pd.read_csv('data/SnapshotCases-28-July.csv')\n",
    "arr_states = df_snap['states'].unique()\n",
    "arr_dates = df['Date'].unique()\n",
    "df_snap = df_snap.set_index('states')"
   ]
  },
  {
   "cell_type": "code",
   "execution_count": 4,
   "metadata": {
    "execution": {
     "iopub.execute_input": "2020-08-15T06:20:06.231222Z",
     "iopub.status.busy": "2020-08-15T06:20:06.230598Z",
     "iopub.status.idle": "2020-08-15T06:20:06.235314Z",
     "shell.execute_reply": "2020-08-15T06:20:06.234859Z"
    },
    "papermill": {
     "duration": 0.026197,
     "end_time": "2020-08-15T06:20:06.235438",
     "exception": false,
     "start_time": "2020-08-15T06:20:06.209241",
     "status": "completed"
    },
    "tags": []
   },
   "outputs": [
    {
     "data": {
      "text/plain": [
       "array(['Andaman and Nicobar Islands', 'Andhra Pradesh',\n",
       "       'Arunachal Pradesh', 'Assam', 'Bihar', 'Chandigarh',\n",
       "       'Dadra and Nagar Haveli and Daman and Diu', 'Delhi', 'Goa',\n",
       "       'Gujarat', 'Haryana', 'Himachal Pradesh', 'Jammu and Kashmir',\n",
       "       'Jharkhand', 'Karnataka', 'Kerala', 'Lakshadweep',\n",
       "       'Madhya Pradesh', 'Maharashtra', 'Manipur', 'Meghalaya', 'Mizoram',\n",
       "       'Nagaland', 'Odisha', 'Puducherry', 'Punjab', 'Rajasthan',\n",
       "       'Sikkim', 'Tamil Nadu', 'Telangana', 'Tripura', 'Uttar Pradesh',\n",
       "       'West Bengal', 'Chhattisgarh', 'Ladakh', 'Uttarakhand'],\n",
       "      dtype=object)"
      ]
     },
     "execution_count": 4,
     "metadata": {},
     "output_type": "execute_result"
    }
   ],
   "source": [
    "#hide\n",
    "arr_states[-9] = 'Puducherry'\n",
    "arr_states[-10] = 'Odisha'\n",
    "arr_states[6] = 'Dadra and Nagar Haveli and Daman and Diu'\n",
    "arr_states = np.append(arr_states,np.array(['Chhattisgarh','Ladakh','Uttarakhand']))\n",
    "arr_states"
   ]
  },
  {
   "cell_type": "code",
   "execution_count": 5,
   "metadata": {
    "execution": {
     "iopub.execute_input": "2020-08-15T06:20:06.270285Z",
     "iopub.status.busy": "2020-08-15T06:20:06.269795Z",
     "iopub.status.idle": "2020-08-15T06:20:06.276548Z",
     "shell.execute_reply": "2020-08-15T06:20:06.275931Z"
    },
    "papermill": {
     "duration": 0.028645,
     "end_time": "2020-08-15T06:20:06.276691",
     "exception": false,
     "start_time": "2020-08-15T06:20:06.248046",
     "status": "completed"
    },
    "tags": []
   },
   "outputs": [],
   "source": [
    "#hide\n",
    "dates = []\n",
    "for i in arr_dates:\n",
    "    if i>='2020-07-01':\n",
    "        dates.append(i)\n",
    "dict = {'states':dates}\n",
    "for i in arr_states:\n",
    "    dict[i] = [0]*len(dates)\n",
    "dft_cases = pd.DataFrame(dict)\n",
    "dft_deaths = pd.DataFrame(dict)\n"
   ]
  },
  {
   "cell_type": "code",
   "execution_count": 6,
   "metadata": {
    "execution": {
     "iopub.execute_input": "2020-08-15T06:20:06.310812Z",
     "iopub.status.busy": "2020-08-15T06:20:06.310223Z",
     "iopub.status.idle": "2020-08-15T06:20:06.931146Z",
     "shell.execute_reply": "2020-08-15T06:20:06.930220Z"
    },
    "papermill": {
     "duration": 0.640959,
     "end_time": "2020-08-15T06:20:06.931375",
     "exception": false,
     "start_time": "2020-08-15T06:20:06.290416",
     "status": "completed"
    },
    "tags": []
   },
   "outputs": [],
   "source": [
    "#hide\n",
    "for i in range(len(dates)):\n",
    "    df1_deaths = df_deaths1.get_group(dates[i])\n",
    "    for j in range(len(df1_deaths.index)):\n",
    "        if df1_deaths.iloc[j,1] in arr_states:\n",
    "            dft_deaths.loc[i,df1_deaths.iloc[j,1]] = df1_deaths.iloc[j,2]\n",
    "dft_deaths = dft_deaths.set_index('states')"
   ]
  },
  {
   "cell_type": "code",
   "execution_count": 7,
   "metadata": {
    "execution": {
     "iopub.execute_input": "2020-08-15T06:20:06.972296Z",
     "iopub.status.busy": "2020-08-15T06:20:06.971729Z",
     "iopub.status.idle": "2020-08-15T06:20:07.592478Z",
     "shell.execute_reply": "2020-08-15T06:20:07.591400Z"
    },
    "papermill": {
     "duration": 0.644798,
     "end_time": "2020-08-15T06:20:07.592628",
     "exception": false,
     "start_time": "2020-08-15T06:20:06.947830",
     "status": "completed"
    },
    "tags": []
   },
   "outputs": [],
   "source": [
    "#hide\n",
    "for i in range(len(dates)):\n",
    "    df1_cases = df_cases1.get_group(dates[i])\n",
    "    for j in range(len(df1_cases.index)):\n",
    "        if df1_cases.iloc[j,1] in arr_states:\n",
    "            dft_cases.loc[i,df1_cases.iloc[j,1]] = df1_cases.iloc[j,2]\n",
    "dft_cases = dft_cases.set_index('states')"
   ]
  },
  {
   "cell_type": "code",
   "execution_count": 8,
   "metadata": {
    "execution": {
     "iopub.execute_input": "2020-08-15T06:20:07.624590Z",
     "iopub.status.busy": "2020-08-15T06:20:07.623143Z",
     "iopub.status.idle": "2020-08-15T06:20:07.625283Z",
     "shell.execute_reply": "2020-08-15T06:20:07.625779Z"
    },
    "papermill": {
     "duration": 0.020115,
     "end_time": "2020-08-15T06:20:07.625924",
     "exception": false,
     "start_time": "2020-08-15T06:20:07.605809",
     "status": "completed"
    },
    "tags": []
   },
   "outputs": [],
   "source": [
    "#hide\n",
    "dft_cases = dft_cases.T\n",
    "dft_deaths = dft_deaths.T\n",
    "dt_today = dates[-1]\n",
    "dt_yday = dates[-2]"
   ]
  },
  {
   "cell_type": "code",
   "execution_count": 9,
   "metadata": {
    "execution": {
     "iopub.execute_input": "2020-08-15T06:20:07.659588Z",
     "iopub.status.busy": "2020-08-15T06:20:07.659001Z",
     "iopub.status.idle": "2020-08-15T06:20:07.665099Z",
     "shell.execute_reply": "2020-08-15T06:20:07.664606Z"
    },
    "papermill": {
     "duration": 0.024707,
     "end_time": "2020-08-15T06:20:07.665218",
     "exception": false,
     "start_time": "2020-08-15T06:20:07.640511",
     "status": "completed"
    },
    "tags": []
   },
   "outputs": [],
   "source": [
    "#hide\n",
    "dft_cases = dft_cases.reset_index()\n",
    "dft_deaths = dft_deaths.reset_index()\n",
    "dft_cases = dft_cases.rename(columns = {'index':'state'})\n",
    "dft_deaths = dft_deaths.rename(columns = {'index':'state'})"
   ]
  },
  {
   "cell_type": "code",
   "execution_count": 10,
   "metadata": {
    "execution": {
     "iopub.execute_input": "2020-08-15T06:20:07.701419Z",
     "iopub.status.busy": "2020-08-15T06:20:07.700840Z",
     "iopub.status.idle": "2020-08-15T06:20:07.702805Z",
     "shell.execute_reply": "2020-08-15T06:20:07.703218Z"
    },
    "papermill": {
     "duration": 0.024652,
     "end_time": "2020-08-15T06:20:07.703342",
     "exception": false,
     "start_time": "2020-08-15T06:20:07.678690",
     "status": "completed"
    },
    "tags": []
   },
   "outputs": [],
   "source": [
    "#hide\n",
    "dfc_cases = dft_cases.groupby('state')[dt_today].sum()\n",
    "dfc_deaths = dft_deaths.groupby('state')[dt_today].sum()\n",
    "dfp_cases = dft_cases.groupby('state')[dt_yday].sum()\n",
    "dfp_deaths = dft_deaths.groupby('state')[dt_yday].sum()"
   ]
  },
  {
   "cell_type": "code",
   "execution_count": 11,
   "metadata": {
    "execution": {
     "iopub.execute_input": "2020-08-15T06:20:07.744128Z",
     "iopub.status.busy": "2020-08-15T06:20:07.743544Z",
     "iopub.status.idle": "2020-08-15T06:20:07.750424Z",
     "shell.execute_reply": "2020-08-15T06:20:07.749892Z"
    },
    "papermill": {
     "duration": 0.033403,
     "end_time": "2020-08-15T06:20:07.750544",
     "exception": false,
     "start_time": "2020-08-15T06:20:07.717141",
     "status": "completed"
    },
    "tags": []
   },
   "outputs": [
    {
     "data": {
      "text/html": [
       "<div>\n",
       "<style scoped>\n",
       "    .dataframe tbody tr th:only-of-type {\n",
       "        vertical-align: middle;\n",
       "    }\n",
       "\n",
       "    .dataframe tbody tr th {\n",
       "        vertical-align: top;\n",
       "    }\n",
       "\n",
       "    .dataframe thead th {\n",
       "        text-align: right;\n",
       "    }\n",
       "</style>\n",
       "<table border=\"1\" class=\"dataframe\">\n",
       "  <thead>\n",
       "    <tr style=\"text-align: right;\">\n",
       "      <th></th>\n",
       "      <th>states</th>\n",
       "      <th>Cases</th>\n",
       "      <th>Deaths</th>\n",
       "      <th>PCases</th>\n",
       "      <th>PDeaths</th>\n",
       "    </tr>\n",
       "  </thead>\n",
       "  <tbody>\n",
       "    <tr>\n",
       "      <th>0</th>\n",
       "      <td>Maharashtra</td>\n",
       "      <td>572734</td>\n",
       "      <td>19427</td>\n",
       "      <td>572734</td>\n",
       "      <td>19427</td>\n",
       "    </tr>\n",
       "    <tr>\n",
       "      <th>1</th>\n",
       "      <td>Tamil Nadu</td>\n",
       "      <td>326245</td>\n",
       "      <td>5514</td>\n",
       "      <td>326245</td>\n",
       "      <td>5514</td>\n",
       "    </tr>\n",
       "    <tr>\n",
       "      <th>2</th>\n",
       "      <td>Andhra Pradesh</td>\n",
       "      <td>273085</td>\n",
       "      <td>2475</td>\n",
       "      <td>273085</td>\n",
       "      <td>2475</td>\n",
       "    </tr>\n",
       "    <tr>\n",
       "      <th>3</th>\n",
       "      <td>Karnataka</td>\n",
       "      <td>211108</td>\n",
       "      <td>3718</td>\n",
       "      <td>211108</td>\n",
       "      <td>3718</td>\n",
       "    </tr>\n",
       "    <tr>\n",
       "      <th>4</th>\n",
       "      <td>Delhi</td>\n",
       "      <td>150652</td>\n",
       "      <td>4178</td>\n",
       "      <td>150652</td>\n",
       "      <td>4178</td>\n",
       "    </tr>\n",
       "  </tbody>\n",
       "</table>\n",
       "</div>"
      ],
      "text/plain": [
       "           states   Cases  Deaths  PCases  PDeaths\n",
       "0     Maharashtra  572734   19427  572734    19427\n",
       "1      Tamil Nadu  326245    5514  326245     5514\n",
       "2  Andhra Pradesh  273085    2475  273085     2475\n",
       "3       Karnataka  211108    3718  211108     3718\n",
       "4           Delhi  150652    4178  150652     4178"
      ]
     },
     "execution_count": 11,
     "metadata": {},
     "output_type": "execute_result"
    }
   ],
   "source": [
    "#hide\n",
    "df_table = pd.DataFrame({'states': dfc_cases.index, 'Cases': dfc_cases.values, 'Deaths': dfc_deaths.values, 'PCases': dfp_cases.values, 'PDeaths': dfp_deaths.values}).set_index('states')\n",
    "df_table = df_table.sort_values(by = ['Cases','Deaths'], ascending = [False, False])\n",
    "df_table = df_table.reset_index()\n",
    "df_table.head()"
   ]
  },
  {
   "cell_type": "code",
   "execution_count": 12,
   "metadata": {
    "execution": {
     "iopub.execute_input": "2020-08-15T06:20:07.783809Z",
     "iopub.status.busy": "2020-08-15T06:20:07.783338Z",
     "iopub.status.idle": "2020-08-15T06:20:07.791566Z",
     "shell.execute_reply": "2020-08-15T06:20:07.791098Z"
    },
    "papermill": {
     "duration": 0.02665,
     "end_time": "2020-08-15T06:20:07.791685",
     "exception": false,
     "start_time": "2020-08-15T06:20:07.765035",
     "status": "completed"
    },
    "tags": []
   },
   "outputs": [],
   "source": [
    "#hide\n",
    "for c in 'Cases, Deaths'.split(', '):\n",
    "    df_table[f'{c} (+)'] = (df_table[c] - df_table[f'P{c}']).clip(0)\n",
    "df_table['Fatality Rate'] = (100* df_table['Deaths']/ df_table['Cases']).round(2)"
   ]
  },
  {
   "cell_type": "code",
   "execution_count": 13,
   "metadata": {
    "execution": {
     "iopub.execute_input": "2020-08-15T06:20:07.825651Z",
     "iopub.status.busy": "2020-08-15T06:20:07.825061Z",
     "iopub.status.idle": "2020-08-15T06:20:07.833298Z",
     "shell.execute_reply": "2020-08-15T06:20:07.833759Z"
    },
    "papermill": {
     "duration": 0.027422,
     "end_time": "2020-08-15T06:20:07.833881",
     "exception": false,
     "start_time": "2020-08-15T06:20:07.806459",
     "status": "completed"
    },
    "tags": []
   },
   "outputs": [
    {
     "data": {
      "text/html": [
       "<div>\n",
       "<style scoped>\n",
       "    .dataframe tbody tr th:only-of-type {\n",
       "        vertical-align: middle;\n",
       "    }\n",
       "\n",
       "    .dataframe tbody tr th {\n",
       "        vertical-align: top;\n",
       "    }\n",
       "\n",
       "    .dataframe thead th {\n",
       "        text-align: right;\n",
       "    }\n",
       "</style>\n",
       "<table border=\"1\" class=\"dataframe\">\n",
       "  <thead>\n",
       "    <tr style=\"text-align: right;\">\n",
       "      <th></th>\n",
       "      <th>states</th>\n",
       "      <th>Cases</th>\n",
       "      <th>Deaths</th>\n",
       "      <th>PCases</th>\n",
       "      <th>PDeaths</th>\n",
       "      <th>Cases (+)</th>\n",
       "      <th>Deaths (+)</th>\n",
       "      <th>Fatality Rate</th>\n",
       "    </tr>\n",
       "  </thead>\n",
       "  <tbody>\n",
       "    <tr>\n",
       "      <th>0</th>\n",
       "      <td>Maharashtra</td>\n",
       "      <td>572734</td>\n",
       "      <td>19427</td>\n",
       "      <td>572734</td>\n",
       "      <td>19427</td>\n",
       "      <td>0</td>\n",
       "      <td>0</td>\n",
       "      <td>3.39</td>\n",
       "    </tr>\n",
       "    <tr>\n",
       "      <th>1</th>\n",
       "      <td>Tamil Nadu</td>\n",
       "      <td>326245</td>\n",
       "      <td>5514</td>\n",
       "      <td>326245</td>\n",
       "      <td>5514</td>\n",
       "      <td>0</td>\n",
       "      <td>0</td>\n",
       "      <td>1.69</td>\n",
       "    </tr>\n",
       "    <tr>\n",
       "      <th>2</th>\n",
       "      <td>Andhra Pradesh</td>\n",
       "      <td>273085</td>\n",
       "      <td>2475</td>\n",
       "      <td>273085</td>\n",
       "      <td>2475</td>\n",
       "      <td>0</td>\n",
       "      <td>0</td>\n",
       "      <td>0.91</td>\n",
       "    </tr>\n",
       "    <tr>\n",
       "      <th>3</th>\n",
       "      <td>Karnataka</td>\n",
       "      <td>211108</td>\n",
       "      <td>3718</td>\n",
       "      <td>211108</td>\n",
       "      <td>3718</td>\n",
       "      <td>0</td>\n",
       "      <td>0</td>\n",
       "      <td>1.76</td>\n",
       "    </tr>\n",
       "    <tr>\n",
       "      <th>4</th>\n",
       "      <td>Delhi</td>\n",
       "      <td>150652</td>\n",
       "      <td>4178</td>\n",
       "      <td>150652</td>\n",
       "      <td>4178</td>\n",
       "      <td>0</td>\n",
       "      <td>0</td>\n",
       "      <td>2.77</td>\n",
       "    </tr>\n",
       "  </tbody>\n",
       "</table>\n",
       "</div>"
      ],
      "text/plain": [
       "           states   Cases  Deaths  PCases  PDeaths  Cases (+)  Deaths (+)  \\\n",
       "0     Maharashtra  572734   19427  572734    19427          0           0   \n",
       "1      Tamil Nadu  326245    5514  326245     5514          0           0   \n",
       "2  Andhra Pradesh  273085    2475  273085     2475          0           0   \n",
       "3       Karnataka  211108    3718  211108     3718          0           0   \n",
       "4           Delhi  150652    4178  150652     4178          0           0   \n",
       "\n",
       "   Fatality Rate  \n",
       "0           3.39  \n",
       "1           1.69  \n",
       "2           0.91  \n",
       "3           1.76  \n",
       "4           2.77  "
      ]
     },
     "execution_count": 13,
     "metadata": {},
     "output_type": "execute_result"
    }
   ],
   "source": [
    "#hide\n",
    "df_table.head()"
   ]
  },
  {
   "cell_type": "code",
   "execution_count": 14,
   "metadata": {
    "execution": {
     "iopub.execute_input": "2020-08-15T06:20:07.882066Z",
     "iopub.status.busy": "2020-08-15T06:20:07.881435Z",
     "iopub.status.idle": "2020-08-15T06:20:07.884210Z",
     "shell.execute_reply": "2020-08-15T06:20:07.884653Z"
    },
    "papermill": {
     "duration": 0.034661,
     "end_time": "2020-08-15T06:20:07.884776",
     "exception": false,
     "start_time": "2020-08-15T06:20:07.850115",
     "status": "completed"
    },
    "tags": []
   },
   "outputs": [
    {
     "data": {
      "text/plain": [
       "{'updated': '2020-08-15',\n",
       " 'since': '2020-08-14',\n",
       " 'Cases': 2527994,\n",
       " 'PCases': 2525222,\n",
       " 'Deaths': 49161,\n",
       " 'PDeaths': 49134,\n",
       " 'Cases (+)': 2772,\n",
       " 'Deaths (+)': 27}"
      ]
     },
     "execution_count": 14,
     "metadata": {},
     "output_type": "execute_result"
    }
   ],
   "source": [
    "#hide\n",
    "summary = {'updated':dates[-1], 'since':dates[-2]}\n",
    "list_names = ['Cases', 'PCases', 'Deaths', 'PDeaths', 'Cases (+)', 'Deaths (+)']\n",
    "for name in list_names:\n",
    "    summary[name] = df_table.sum()[name]\n",
    "summary"
   ]
  },
  {
   "cell_type": "code",
   "execution_count": 15,
   "metadata": {
    "execution": {
     "iopub.execute_input": "2020-08-15T06:20:07.921123Z",
     "iopub.status.busy": "2020-08-15T06:20:07.920103Z",
     "iopub.status.idle": "2020-08-15T06:20:07.922180Z",
     "shell.execute_reply": "2020-08-15T06:20:07.923011Z"
    },
    "papermill": {
     "duration": 0.02397,
     "end_time": "2020-08-15T06:20:07.923240",
     "exception": false,
     "start_time": "2020-08-15T06:20:07.899270",
     "status": "completed"
    },
    "tags": []
   },
   "outputs": [],
   "source": [
    "#hide\n",
    "overview = '''\n",
    "<!-- #######  HTML!! #########-->\n",
    "<h1 style=\"color: #5e9ca0; text-align: center;\">India</h1>\n",
    "<p style=\"text-align: center;\">Last update: <strong>{update}</strong></p>\n",
    "<p style=\"text-align: center;\">Confirmed cases:</p>\n",
    "<p style=\"text-align: center;font-size:24px;\">{cases} (<span style=\"color: #ff0000;\">+{new}</span>)</p>\n",
    "<p style=\"text-align: center;\">Confirmed deaths:</p>\n",
    "<p style=\"text-align: center;font-size:24px;\">{deaths} (<span style=\"color: #ff0000;\">+{dnew}</span>)</p>\n",
    "'''"
   ]
  },
  {
   "cell_type": "code",
   "execution_count": 16,
   "metadata": {
    "execution": {
     "iopub.execute_input": "2020-08-15T06:20:07.963568Z",
     "iopub.status.busy": "2020-08-15T06:20:07.962856Z",
     "iopub.status.idle": "2020-08-15T06:20:07.966531Z",
     "shell.execute_reply": "2020-08-15T06:20:07.967035Z"
    },
    "papermill": {
     "duration": 0.027129,
     "end_time": "2020-08-15T06:20:07.967167",
     "exception": false,
     "start_time": "2020-08-15T06:20:07.940038",
     "status": "completed"
    },
    "tags": []
   },
   "outputs": [
    {
     "data": {
      "text/html": [
       "\n",
       "<!-- #######  HTML!! #########-->\n",
       "<h1 style=\"color: #5e9ca0; text-align: center;\">India</h1>\n",
       "<p style=\"text-align: center;\">Last update: <strong>2020-08-15</strong></p>\n",
       "<p style=\"text-align: center;\">Confirmed cases:</p>\n",
       "<p style=\"text-align: center;font-size:24px;\">2527994 (<span style=\"color: #ff0000;\">+2772</span>)</p>\n",
       "<p style=\"text-align: center;\">Confirmed deaths:</p>\n",
       "<p style=\"text-align: center;font-size:24px;\">49161 (<span style=\"color: #ff0000;\">+27</span>)</p>\n"
      ],
      "text/plain": [
       "<IPython.core.display.HTML object>"
      ]
     },
     "metadata": {},
     "output_type": "display_data"
    }
   ],
   "source": [
    "#hide_input\n",
    "update = summary['updated']\n",
    "cases = summary['Cases']\n",
    "new = summary['Cases (+)']\n",
    "deaths = summary['Deaths']\n",
    "dnew = summary['Deaths (+)']\n",
    "\n",
    "html = HTML(overview.format(update=update, cases=cases,new=new,deaths=deaths,dnew=dnew))\n",
    "\n",
    "display(html)"
   ]
  },
  {
   "cell_type": "code",
   "execution_count": 17,
   "metadata": {
    "execution": {
     "iopub.execute_input": "2020-08-15T06:20:08.007259Z",
     "iopub.status.busy": "2020-08-15T06:20:08.006689Z",
     "iopub.status.idle": "2020-08-15T06:20:08.011430Z",
     "shell.execute_reply": "2020-08-15T06:20:08.011928Z"
    },
    "papermill": {
     "duration": 0.028309,
     "end_time": "2020-08-15T06:20:08.012049",
     "exception": false,
     "start_time": "2020-08-15T06:20:07.983740",
     "status": "completed"
    },
    "tags": []
   },
   "outputs": [],
   "source": [
    "#hide\n",
    "dt_cols = list(dft_cases.columns[1:])\n",
    "dft_ct_new_cases = dft_cases.groupby('state')[dt_cols].sum().diff(axis=1).fillna(0).astype(int)\n",
    "dft_ct_new_cases.sort_values(by = dates[-1], ascending = False,inplace = True)"
   ]
  },
  {
   "cell_type": "code",
   "execution_count": 18,
   "metadata": {
    "execution": {
     "iopub.execute_input": "2020-08-15T06:20:08.053129Z",
     "iopub.status.busy": "2020-08-15T06:20:08.049625Z",
     "iopub.status.idle": "2020-08-15T06:20:08.064488Z",
     "shell.execute_reply": "2020-08-15T06:20:08.063988Z"
    },
    "papermill": {
     "duration": 0.037505,
     "end_time": "2020-08-15T06:20:08.064608",
     "exception": false,
     "start_time": "2020-08-15T06:20:08.027103",
     "status": "completed"
    },
    "tags": []
   },
   "outputs": [
    {
     "data": {
      "text/html": [
       "<div>\n",
       "<style scoped>\n",
       "    .dataframe tbody tr th:only-of-type {\n",
       "        vertical-align: middle;\n",
       "    }\n",
       "\n",
       "    .dataframe tbody tr th {\n",
       "        vertical-align: top;\n",
       "    }\n",
       "\n",
       "    .dataframe thead th {\n",
       "        text-align: right;\n",
       "    }\n",
       "</style>\n",
       "<table border=\"1\" class=\"dataframe\">\n",
       "  <thead>\n",
       "    <tr style=\"text-align: right;\">\n",
       "      <th>states</th>\n",
       "      <th>2020-07-01</th>\n",
       "      <th>2020-07-02</th>\n",
       "      <th>2020-07-03</th>\n",
       "      <th>2020-07-04</th>\n",
       "      <th>2020-07-05</th>\n",
       "      <th>2020-07-06</th>\n",
       "      <th>2020-07-07</th>\n",
       "      <th>2020-07-08</th>\n",
       "      <th>2020-07-09</th>\n",
       "      <th>2020-07-10</th>\n",
       "      <th>...</th>\n",
       "      <th>2020-08-06</th>\n",
       "      <th>2020-08-07</th>\n",
       "      <th>2020-08-08</th>\n",
       "      <th>2020-08-09</th>\n",
       "      <th>2020-08-10</th>\n",
       "      <th>2020-08-11</th>\n",
       "      <th>2020-08-12</th>\n",
       "      <th>2020-08-13</th>\n",
       "      <th>2020-08-14</th>\n",
       "      <th>2020-08-15</th>\n",
       "    </tr>\n",
       "    <tr>\n",
       "      <th>state</th>\n",
       "      <th></th>\n",
       "      <th></th>\n",
       "      <th></th>\n",
       "      <th></th>\n",
       "      <th></th>\n",
       "      <th></th>\n",
       "      <th></th>\n",
       "      <th></th>\n",
       "      <th></th>\n",
       "      <th></th>\n",
       "      <th></th>\n",
       "      <th></th>\n",
       "      <th></th>\n",
       "      <th></th>\n",
       "      <th></th>\n",
       "      <th></th>\n",
       "      <th></th>\n",
       "      <th></th>\n",
       "      <th></th>\n",
       "      <th></th>\n",
       "      <th></th>\n",
       "    </tr>\n",
       "  </thead>\n",
       "  <tbody>\n",
       "    <tr>\n",
       "      <th>Telangana</th>\n",
       "      <td>0</td>\n",
       "      <td>1213</td>\n",
       "      <td>1892</td>\n",
       "      <td>1850</td>\n",
       "      <td>1590</td>\n",
       "      <td>1831</td>\n",
       "      <td>1879</td>\n",
       "      <td>1924</td>\n",
       "      <td>1410</td>\n",
       "      <td>1278</td>\n",
       "      <td>...</td>\n",
       "      <td>2092</td>\n",
       "      <td>2207</td>\n",
       "      <td>2256</td>\n",
       "      <td>1982</td>\n",
       "      <td>1256</td>\n",
       "      <td>1896</td>\n",
       "      <td>1897</td>\n",
       "      <td>1931</td>\n",
       "      <td>1921</td>\n",
       "      <td>1863</td>\n",
       "    </tr>\n",
       "    <tr>\n",
       "      <th>Rajasthan</th>\n",
       "      <td>0</td>\n",
       "      <td>350</td>\n",
       "      <td>390</td>\n",
       "      <td>480</td>\n",
       "      <td>632</td>\n",
       "      <td>524</td>\n",
       "      <td>716</td>\n",
       "      <td>659</td>\n",
       "      <td>500</td>\n",
       "      <td>611</td>\n",
       "      <td>...</td>\n",
       "      <td>1151</td>\n",
       "      <td>1161</td>\n",
       "      <td>1171</td>\n",
       "      <td>1169</td>\n",
       "      <td>1173</td>\n",
       "      <td>1217</td>\n",
       "      <td>1213</td>\n",
       "      <td>1314</td>\n",
       "      <td>1278</td>\n",
       "      <td>686</td>\n",
       "    </tr>\n",
       "    <tr>\n",
       "      <th>Tripura</th>\n",
       "      <td>0</td>\n",
       "      <td>39</td>\n",
       "      <td>93</td>\n",
       "      <td>25</td>\n",
       "      <td>23</td>\n",
       "      <td>111</td>\n",
       "      <td>24</td>\n",
       "      <td>57</td>\n",
       "      <td>16</td>\n",
       "      <td>142</td>\n",
       "      <td>...</td>\n",
       "      <td>98</td>\n",
       "      <td>128</td>\n",
       "      <td>146</td>\n",
       "      <td>147</td>\n",
       "      <td>62</td>\n",
       "      <td>164</td>\n",
       "      <td>110</td>\n",
       "      <td>121</td>\n",
       "      <td>164</td>\n",
       "      <td>167</td>\n",
       "    </tr>\n",
       "    <tr>\n",
       "      <th>Mizoram</th>\n",
       "      <td>0</td>\n",
       "      <td>2</td>\n",
       "      <td>0</td>\n",
       "      <td>2</td>\n",
       "      <td>22</td>\n",
       "      <td>11</td>\n",
       "      <td>1</td>\n",
       "      <td>5</td>\n",
       "      <td>0</td>\n",
       "      <td>23</td>\n",
       "      <td>...</td>\n",
       "      <td>33</td>\n",
       "      <td>21</td>\n",
       "      <td>8</td>\n",
       "      <td>41</td>\n",
       "      <td>12</td>\n",
       "      <td>3</td>\n",
       "      <td>25</td>\n",
       "      <td>1</td>\n",
       "      <td>8</td>\n",
       "      <td>56</td>\n",
       "    </tr>\n",
       "    <tr>\n",
       "      <th>Andaman and Nicobar Islands</th>\n",
       "      <td>0</td>\n",
       "      <td>9</td>\n",
       "      <td>7</td>\n",
       "      <td>3</td>\n",
       "      <td>6</td>\n",
       "      <td>16</td>\n",
       "      <td>6</td>\n",
       "      <td>2</td>\n",
       "      <td>7</td>\n",
       "      <td>0</td>\n",
       "      <td>...</td>\n",
       "      <td>96</td>\n",
       "      <td>99</td>\n",
       "      <td>129</td>\n",
       "      <td>139</td>\n",
       "      <td>135</td>\n",
       "      <td>139</td>\n",
       "      <td>136</td>\n",
       "      <td>137</td>\n",
       "      <td>149</td>\n",
       "      <td>0</td>\n",
       "    </tr>\n",
       "  </tbody>\n",
       "</table>\n",
       "<p>5 rows × 46 columns</p>\n",
       "</div>"
      ],
      "text/plain": [
       "states                       2020-07-01  2020-07-02  2020-07-03  2020-07-04  \\\n",
       "state                                                                         \n",
       "Telangana                             0        1213        1892        1850   \n",
       "Rajasthan                             0         350         390         480   \n",
       "Tripura                               0          39          93          25   \n",
       "Mizoram                               0           2           0           2   \n",
       "Andaman and Nicobar Islands           0           9           7           3   \n",
       "\n",
       "states                       2020-07-05  2020-07-06  2020-07-07  2020-07-08  \\\n",
       "state                                                                         \n",
       "Telangana                          1590        1831        1879        1924   \n",
       "Rajasthan                           632         524         716         659   \n",
       "Tripura                              23         111          24          57   \n",
       "Mizoram                              22          11           1           5   \n",
       "Andaman and Nicobar Islands           6          16           6           2   \n",
       "\n",
       "states                       2020-07-09  2020-07-10  ...  2020-08-06  \\\n",
       "state                                                ...               \n",
       "Telangana                          1410        1278  ...        2092   \n",
       "Rajasthan                           500         611  ...        1151   \n",
       "Tripura                              16         142  ...          98   \n",
       "Mizoram                               0          23  ...          33   \n",
       "Andaman and Nicobar Islands           7           0  ...          96   \n",
       "\n",
       "states                       2020-08-07  2020-08-08  2020-08-09  2020-08-10  \\\n",
       "state                                                                         \n",
       "Telangana                          2207        2256        1982        1256   \n",
       "Rajasthan                          1161        1171        1169        1173   \n",
       "Tripura                             128         146         147          62   \n",
       "Mizoram                              21           8          41          12   \n",
       "Andaman and Nicobar Islands          99         129         139         135   \n",
       "\n",
       "states                       2020-08-11  2020-08-12  2020-08-13  2020-08-14  \\\n",
       "state                                                                         \n",
       "Telangana                          1896        1897        1931        1921   \n",
       "Rajasthan                          1217        1213        1314        1278   \n",
       "Tripura                             164         110         121         164   \n",
       "Mizoram                               3          25           1           8   \n",
       "Andaman and Nicobar Islands         139         136         137         149   \n",
       "\n",
       "states                       2020-08-15  \n",
       "state                                    \n",
       "Telangana                          1863  \n",
       "Rajasthan                           686  \n",
       "Tripura                             167  \n",
       "Mizoram                              56  \n",
       "Andaman and Nicobar Islands           0  \n",
       "\n",
       "[5 rows x 46 columns]"
      ]
     },
     "execution_count": 18,
     "metadata": {},
     "output_type": "execute_result"
    }
   ],
   "source": [
    "#hide\n",
    "dft_ct_new_cases.head()"
   ]
  },
  {
   "cell_type": "code",
   "execution_count": 19,
   "metadata": {
    "execution": {
     "iopub.execute_input": "2020-08-15T06:20:08.101618Z",
     "iopub.status.busy": "2020-08-15T06:20:08.100953Z",
     "iopub.status.idle": "2020-08-15T06:20:10.421790Z",
     "shell.execute_reply": "2020-08-15T06:20:10.422260Z"
    },
    "papermill": {
     "duration": 2.341117,
     "end_time": "2020-08-15T06:20:10.422413",
     "exception": false,
     "start_time": "2020-08-15T06:20:08.081296",
     "status": "completed"
    },
    "tags": []
   },
   "outputs": [
    {
     "data": {
      "image/png": "[encoded data removed]",
      "text/plain": [
       "<Figure size 1296x2016 with 11 Axes>"
      ]
     },
     "metadata": {
      "needs_background": "light"
     },
     "output_type": "display_data"
    }
   ],
   "source": [
    "#hide_input\n",
    "df = dft_ct_new_cases.copy()\n",
    "df.loc['Total'] = df.sum()\n",
    "n = 5\n",
    "ax = []\n",
    "fig = plt.figure(figsize = (18,28))\n",
    "gs = fig.add_gridspec(n+2, 5)\n",
    "# gs = fig.add_gridspec(2, 3)\n",
    "ax1 = fig.add_subplot(gs[0, :])\n",
    "ef = df.loc['Total'].rename_axis('date').reset_index()\n",
    "ef['date'] = ef['date'].astype('datetime64[ns]')\n",
    "ax1.bar(ef.date,ef.Total,alpha=0.3,color='#007acc')\n",
    "ax1.plot(ef.date,ef.Total , marker=\"o\", color='#007acc')\n",
    "ax1.xaxis.set_major_locator(mdates.WeekdayLocator())\n",
    "ax1.xaxis.set_major_formatter(mdates.DateFormatter('%b %d'))\n",
    "ax1.text(0.02, 0.5,'India daily case count', transform = ax1.transAxes, fontsize=25);\n",
    "ax1.spines['right'].set_visible(False)\n",
    "ax1.spines['top'].set_visible(False)\n",
    "\n",
    "ax2 = fig.add_subplot(gs[1,0])\n",
    "ef = df.loc['Maharashtra'].rename_axis('date').reset_index()\n",
    "ef['date'] = ef['date'].astype('datetime64[ns]')\n",
    "\n",
    "ax2.bar(ef.date, ef.Maharashtra,color = '#007acc',alpha=0.5)\n",
    "ax2.xaxis.set_major_locator(mdates.WeekdayLocator())\n",
    "ax2.xaxis.set_major_formatter(mdates.DateFormatter('%b %d'))\n",
    "ax2.set_xticks(ax2.get_xticks()[::3])\n",
    "maxyval = ef.Maharashtra.max()\n",
    "ax2.set_ylim([0,maxyval])\n",
    "ax2.text(0.05, 0.9,'Maharashtra', transform = ax2.transAxes, fontsize=20);\n",
    "ax2.spines['right'].set_visible(False)\n",
    "ax2.spines['top'].set_visible(False)\n",
    "\n",
    "\n",
    "ax3 = fig.add_subplot(gs[1,1])\n",
    "ef = df.loc['Tamil Nadu'].rename_axis('date').reset_index()\n",
    "ef['date'] = ef['date'].astype('datetime64[ns]')\n",
    "ax3.bar(ef.date, ef['Tamil Nadu'],color = '#007acc',alpha=0.5,)\n",
    "ax3.xaxis.set_major_locator(mdates.WeekdayLocator())\n",
    "ax3.xaxis.set_major_formatter(mdates.DateFormatter('%b %d'))\n",
    "ax3.set_xticks(ax3.get_xticks()[::3])\n",
    "ax3.text(0.05, 0.9,'Tamil Nadu', transform = ax3.transAxes, fontsize=20);\n",
    "ax3.spines['right'].set_visible(False)\n",
    "ax3.spines['top'].set_visible(False)\n",
    "\n",
    "ax5 = fig.add_subplot(gs[1,3])\n",
    "ef = df.loc['Telangana'].rename_axis('date').reset_index()\n",
    "ef['date'] = ef['date'].astype('datetime64[ns]')\n",
    "ax5.bar(ef.date, ef['Telangana'],color = '#007acc',alpha=0.5,)\n",
    "ax5.xaxis.set_major_locator(mdates.WeekdayLocator())\n",
    "ax5.xaxis.set_major_formatter(mdates.DateFormatter('%b %d'))\n",
    "ax5.set_xticks(ax5.get_xticks()[::3])\n",
    "ax5.text(0.05, 0.9,'Telangana', transform = ax5.transAxes, fontsize=20);\n",
    "ax5.spines['right'].set_visible(False)\n",
    "ax5.spines['top'].set_visible(False)\n",
    "\n",
    "ax6 = fig.add_subplot(gs[1,4])\n",
    "ef = df.loc['Andhra Pradesh'].rename_axis('date').reset_index()\n",
    "ef['date'] = ef['date'].astype('datetime64[ns]')\n",
    "ax6.bar(ef.date, ef['Andhra Pradesh'],color = '#007acc',alpha=0.5,)\n",
    "ax6.xaxis.set_major_locator(mdates.WeekdayLocator())\n",
    "ax6.xaxis.set_major_formatter(mdates.DateFormatter('%b %d'))\n",
    "ax6.set_xticks(ax6.get_xticks()[::3])\n",
    "ax6.text(0.05, 1,'Andhra Pradesh', transform = ax6.transAxes, fontsize=20);\n",
    "ax6.spines['right'].set_visible(False)\n",
    "ax6.spines['top'].set_visible(False)\n",
    "\n",
    "ax4 = fig.add_subplot(gs[1,2])\n",
    "ef = df.loc['Delhi'].rename_axis('date').reset_index()\n",
    "ef['date'] = ef['date'].astype('datetime64[ns]')\n",
    "ax4.bar(ef.date, ef.Delhi,color = '#007acc',alpha=0.5)\n",
    "ax4.set_xticks([])\n",
    "ax4.xaxis.set_major_locator(mdates.WeekdayLocator())\n",
    "ax4.xaxis.set_major_formatter(mdates.DateFormatter('%b %d'))\n",
    "ax4.set_xticks(ax4.get_xticks()[::3])\n",
    "ax4.spines['right'].set_visible(False)\n",
    "ax4.spines['top'].set_visible(False)\n",
    "\n",
    "ax4.text(0.05, 1,'Delhi', transform = ax4.transAxes, fontsize=20)\n",
    "\n",
    "for i in range(n):\n",
    "    \n",
    "    ax.append(fig.add_subplot(gs[i+2,:]))\n",
    "    ef = df.iloc[i+3].rename_axis('date').reset_index()\n",
    "    ef['date'] = ef['date'].astype('datetime64[ns]')\n",
    "    ax[i].bar(ef.date,ef.iloc[:,-1],color = '#007acc',alpha=0.3)\n",
    "    ax[i].plot(ef.date,ef.iloc[:,-1],marker='o',color='#007acc')\n",
    "    ax[i].text(0.02,0.5,f'{ef.columns.values[-1]}',transform = ax[i].transAxes, fontsize = 20);\n",
    "    ax[i].xaxis.set_major_locator(mdates.WeekdayLocator())\n",
    "    ax[i].xaxis.set_major_formatter(mdates.DateFormatter('%b %d'))\n",
    "    ax[i].set_ylim([0,7000])\n",
    "    ax[i].spines['right'].set_visible(False)\n",
    "    ax[i].spines['top'].set_visible(False)\n",
    "plt.tight_layout()\n"
   ]
  },
  {
   "cell_type": "code",
   "execution_count": 20,
   "metadata": {
    "execution": {
     "iopub.execute_input": "2020-08-15T06:20:11.009676Z",
     "iopub.status.busy": "2020-08-15T06:20:11.008642Z",
     "iopub.status.idle": "2020-08-15T06:20:11.012724Z",
     "shell.execute_reply": "2020-08-15T06:20:11.012091Z"
    },
    "papermill": {
     "duration": 0.569388,
     "end_time": "2020-08-15T06:20:11.012860",
     "exception": false,
     "start_time": "2020-08-15T06:20:10.443472",
     "status": "completed"
    },
    "tags": []
   },
   "outputs": [
    {
     "name": "stdout",
     "output_type": "stream",
     "text": [
      "                                   states   Cases  Deaths  PCases  PDeaths  Cases (+)  Deaths (+)  Fatality Rate\n",
      "                              Maharashtra  572734   19427  572734    19427          0           0           3.39\n",
      "                               Tamil Nadu  326245    5514  326245     5514          0           0           1.69\n",
      "                           Andhra Pradesh  273085    2475  273085     2475          0           0           0.91\n",
      "                                Karnataka  211108    3718  211108     3718          0           0           1.76\n",
      "                                    Delhi  150652    4178  150652     4178          0           0           2.77\n",
      "                            Uttar Pradesh  145287    2335  145287     2335          0           0           1.61\n",
      "                              West Bengal  110358    2319  110358     2319          0           0           2.10\n",
      "                                    Bihar   98370     500   98370      500          0           0           0.51\n",
      "                                Telangana   90259     684   88396      674       1863          10           0.76\n",
      "                                  Gujarat   76569    2746   76569     2746          0           0           3.59\n",
      "                                    Assam   74502     175   74502      175          0           0           0.23\n",
      "                                Rajasthan   59378     859   58692      846        686          13           1.45\n",
      "                                   Odisha   54630     377   54630      377          0           0           0.69\n",
      "                                  Haryana   45614     518   45614      518          0           0           1.14\n",
      "                           Madhya Pradesh   43414    1081   43414     1081          0           0           2.49\n",
      "                                   Kerala   41277     140   41277      140          0           0           0.34\n",
      "                                   Punjab   29013     731   29013      731          0           0           2.52\n",
      "                        Jammu and Kashmir   27489     520   27489      520          0           0           1.89\n",
      "                                Jharkhand   22125     224   22125      224          0           0           1.01\n",
      "                             Chhattisgarh   14559     130   14559      130          0           0           0.89\n",
      "                              Uttarakhand   11615     147   11615      147          0           0           1.27\n",
      "                                      Goa   10970      93   10970       93          0           0           0.85\n",
      "                               Puducherry    6995     106    6995      106          0           0           1.52\n",
      "                                  Tripura    6949      50    6782       46        167           4           0.72\n",
      "                                  Manipur    4198      13    4198       13          0           0           0.31\n",
      "                         Himachal Pradesh    3874      18    3874       18          0           0           0.46\n",
      "                                 Nagaland    3322       7    3322        7          0           0           0.21\n",
      "                        Arunachal Pradesh    2607       5    2607        5          0           0           0.19\n",
      "              Andaman and Nicobar Islands    2186      24    2186       24          0           0           1.10\n",
      "                               Chandigarh    1928      29    1928       29          0           0           1.50\n",
      "                                   Ladakh    1879       9    1879        9          0           0           0.48\n",
      " Dadra and Nagar Haveli and Daman and Diu    1782       2    1782        2          0           0           0.11\n",
      "                                Meghalaya    1228       6    1228        6          0           0           0.49\n",
      "                                   Sikkim    1080       1    1080        1          0           0           0.09\n",
      "                                  Mizoram     713       0     657        0         56           0           0.00\n",
      "                              Lakshadweep       0       0       0        0          0           0            NaN\n"
     ]
    }
   ],
   "source": [
    "#hide_input\n",
    "print(df_table.to_string(index=False))"
   ]
  },
  {
   "cell_type": "code",
   "execution_count": null,
   "metadata": {
    "papermill": {
     "duration": 0.020239,
     "end_time": "2020-08-15T06:20:11.054252",
     "exception": false,
     "start_time": "2020-08-15T06:20:11.034013",
     "status": "completed"
    },
    "tags": []
   },
   "outputs": [],
   "source": []
  },
  {
   "cell_type": "code",
   "execution_count": null,
   "metadata": {
    "papermill": {
     "duration": 0.018758,
     "end_time": "2020-08-15T06:20:11.092662",
     "exception": false,
     "start_time": "2020-08-15T06:20:11.073904",
     "status": "completed"
    },
    "tags": []
   },
   "outputs": [],
   "source": []
  }
 ],
 "metadata": {
  "kernelspec": {
   "display_name": "Python 3",
   "language": "python",
   "name": "python3"
  },
  "language_info": {
   "codemirror_mode": {
    "name": "ipython",
    "version": 3
   },
   "file_extension": ".py",
   "mimetype": "text/x-python",
   "name": "python",
   "nbconvert_exporter": "python",
   "pygments_lexer": "ipython3",
   "version": "3.6.11"
  },
  "papermill": {
   "duration": 7.272295,
   "end_time": "2020-08-15T06:20:11.518074",
   "environment_variables": {},
   "exception": null,
   "input_path": "latest.ipynb",
   "output_path": "latest.ipynb",
   "parameters": {},
   "start_time": "2020-08-15T06:20:04.245779",
   "version": "2.1.2"
  }
 },
 "nbformat": 4,
 "nbformat_minor": 4
}