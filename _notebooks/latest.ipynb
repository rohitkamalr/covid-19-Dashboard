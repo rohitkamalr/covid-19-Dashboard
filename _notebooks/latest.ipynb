{
 "cells": [
  {
   "cell_type": "markdown",
   "id": "colored-stack",
   "metadata": {
    "papermill": {
     "duration": 0.021102,
     "end_time": "2021-05-20T13:56:17.012360",
     "exception": false,
     "start_time": "2021-05-20T13:56:16.991258",
     "status": "completed"
    },
    "tags": []
   },
   "source": [
    "# Latest COVID-19 India Matplotlib Overview"
   ]
  },
  {
   "cell_type": "code",
   "execution_count": 1,
   "id": "light-proportion",
   "metadata": {
    "execution": {
     "iopub.execute_input": "2021-05-20T13:56:17.059813Z",
     "iopub.status.busy": "2021-05-20T13:56:17.059221Z",
     "iopub.status.idle": "2021-05-20T13:56:17.635463Z",
     "shell.execute_reply": "2021-05-20T13:56:17.635941Z"
    },
    "papermill": {
     "duration": 0.605605,
     "end_time": "2021-05-20T13:56:17.636131",
     "exception": false,
     "start_time": "2021-05-20T13:56:17.030526",
     "status": "completed"
    },
    "tags": []
   },
   "outputs": [],
   "source": [
    "#hide\n",
    "import pandas as pd\n",
    "import numpy as np\n",
    "import requests\n",
    "import json\n",
    "import matplotlib.pyplot as plt\n",
    "import matplotlib.dates as mdates\n",
    "import matplotlib as mpl\n",
    "from IPython.core.display import display,HTML\n",
    "%matplotlib inline\n",
    "from datetime import date"
   ]
  },
  {
   "cell_type": "code",
   "execution_count": 2,
   "id": "greenhouse-shooting",
   "metadata": {
    "execution": {
     "iopub.execute_input": "2021-05-20T13:56:17.677587Z",
     "iopub.status.busy": "2021-05-20T13:56:17.676949Z",
     "iopub.status.idle": "2021-05-20T13:56:18.159967Z",
     "shell.execute_reply": "2021-05-20T13:56:18.159379Z"
    },
    "papermill": {
     "duration": 0.506388,
     "end_time": "2021-05-20T13:56:18.160119",
     "exception": false,
     "start_time": "2021-05-20T13:56:17.653731",
     "status": "completed"
    },
    "tags": []
   },
   "outputs": [],
   "source": [
    "#hide\n",
    "df  = pd.read_csv('https://api.covid19india.org/csv/latest/states.csv')\n",
    "df = df[['Date','State','Confirmed','Deceased']]\n",
    "df = df.rename(columns={'Confirmed':'Cases', \"Deceased\":'Deaths'})\n",
    "df_cases = df[[\"Date\",'State','Cases']]\n",
    "df_deaths = df[['Date','State','Deaths']]\n",
    "df_cases1 = df_cases.groupby('Date')\n",
    "df_deaths1= df_deaths.groupby('Date')"
   ]
  },
  {
   "cell_type": "code",
   "execution_count": 3,
   "id": "hybrid-cathedral",
   "metadata": {
    "execution": {
     "iopub.execute_input": "2021-05-20T13:56:18.200149Z",
     "iopub.status.busy": "2021-05-20T13:56:18.199560Z",
     "iopub.status.idle": "2021-05-20T13:56:18.217722Z",
     "shell.execute_reply": "2021-05-20T13:56:18.218170Z"
    },
    "papermill": {
     "duration": 0.040021,
     "end_time": "2021-05-20T13:56:18.218301",
     "exception": false,
     "start_time": "2021-05-20T13:56:18.178280",
     "status": "completed"
    },
    "tags": []
   },
   "outputs": [],
   "source": [
    "#hide\n",
    "df_snap = pd.read_csv('data/SnapshotCases-28-July.csv')\n",
    "arr_states = df_snap['states'].unique()\n",
    "arr_dates = df['Date'].unique()\n",
    "df_snap = df_snap.set_index('states')"
   ]
  },
  {
   "cell_type": "code",
   "execution_count": 4,
   "id": "interior-belfast",
   "metadata": {
    "execution": {
     "iopub.execute_input": "2021-05-20T13:56:18.259550Z",
     "iopub.status.busy": "2021-05-20T13:56:18.258839Z",
     "iopub.status.idle": "2021-05-20T13:56:18.261555Z",
     "shell.execute_reply": "2021-05-20T13:56:18.262033Z"
    },
    "papermill": {
     "duration": 0.027127,
     "end_time": "2021-05-20T13:56:18.262164",
     "exception": false,
     "start_time": "2021-05-20T13:56:18.235037",
     "status": "completed"
    },
    "tags": []
   },
   "outputs": [
    {
     "data": {
      "text/plain": [
       "array(['Andaman and Nicobar Islands', 'Andhra Pradesh',\n",
       "       'Arunachal Pradesh', 'Assam', 'Bihar', 'Chandigarh',\n",
       "       'Dadra and Nagar Haveli and Daman and Diu', 'Delhi', 'Goa',\n",
       "       'Gujarat', 'Haryana', 'Himachal Pradesh', 'Jammu and Kashmir',\n",
       "       'Jharkhand', 'Karnataka', 'Kerala', 'Lakshadweep',\n",
       "       'Madhya Pradesh', 'Maharashtra', 'Manipur', 'Meghalaya', 'Mizoram',\n",
       "       'Nagaland', 'Odisha', 'Puducherry', 'Punjab', 'Rajasthan',\n",
       "       'Sikkim', 'Tamil Nadu', 'Telangana', 'Tripura', 'Uttar Pradesh',\n",
       "       'West Bengal', 'Chhattisgarh', 'Ladakh', 'Uttarakhand'],\n",
       "      dtype=object)"
      ]
     },
     "execution_count": 4,
     "metadata": {},
     "output_type": "execute_result"
    }
   ],
   "source": [
    "#hide\n",
    "arr_states[-9] = 'Puducherry'\n",
    "arr_states[-10] = 'Odisha'\n",
    "arr_states[6] = 'Dadra and Nagar Haveli and Daman and Diu'\n",
    "arr_states = np.append(arr_states,np.array(['Chhattisgarh','Ladakh','Uttarakhand']))\n",
    "arr_states"
   ]
  },
  {
   "cell_type": "code",
   "execution_count": 5,
   "id": "behind-manner",
   "metadata": {
    "execution": {
     "iopub.execute_input": "2021-05-20T13:56:18.310294Z",
     "iopub.status.busy": "2021-05-20T13:56:18.309662Z",
     "iopub.status.idle": "2021-05-20T13:56:18.319758Z",
     "shell.execute_reply": "2021-05-20T13:56:18.319258Z"
    },
    "papermill": {
     "duration": 0.040145,
     "end_time": "2021-05-20T13:56:18.319871",
     "exception": false,
     "start_time": "2021-05-20T13:56:18.279726",
     "status": "completed"
    },
    "tags": []
   },
   "outputs": [],
   "source": [
    "#hide\n",
    "dates = []\n",
    "for i in arr_dates:\n",
    "    if i>='2020-07-01':\n",
    "        dates.append(i)\n",
    "dict = {'states':dates}\n",
    "for i in arr_states:\n",
    "    dict[i] = [0]*len(dates)\n",
    "dft_cases = pd.DataFrame(dict)\n",
    "dft_deaths = pd.DataFrame(dict)\n"
   ]
  },
  {
   "cell_type": "code",
   "execution_count": 6,
   "id": "simplified-peter",
   "metadata": {
    "execution": {
     "iopub.execute_input": "2021-05-20T13:56:18.361604Z",
     "iopub.status.busy": "2021-05-20T13:56:18.360972Z",
     "iopub.status.idle": "2021-05-20T13:56:23.923119Z",
     "shell.execute_reply": "2021-05-20T13:56:23.922581Z"
    },
    "papermill": {
     "duration": 5.585548,
     "end_time": "2021-05-20T13:56:23.923258",
     "exception": false,
     "start_time": "2021-05-20T13:56:18.337710",
     "status": "completed"
    },
    "tags": []
   },
   "outputs": [],
   "source": [
    "#hide\n",
    "for i in range(len(dates)):\n",
    "    df1_deaths = df_deaths1.get_group(dates[i])\n",
    "    for j in range(len(df1_deaths.index)):\n",
    "        if df1_deaths.iloc[j,1] in arr_states:\n",
    "            dft_deaths.loc[i,df1_deaths.iloc[j,1]] = df1_deaths.iloc[j,2]\n",
    "dft_deaths = dft_deaths.set_index('states')"
   ]
  },
  {
   "cell_type": "code",
   "execution_count": 7,
   "id": "geological-welding",
   "metadata": {
    "execution": {
     "iopub.execute_input": "2021-05-20T13:56:23.964423Z",
     "iopub.status.busy": "2021-05-20T13:56:23.963850Z",
     "iopub.status.idle": "2021-05-20T13:56:29.687954Z",
     "shell.execute_reply": "2021-05-20T13:56:29.687020Z"
    },
    "papermill": {
     "duration": 5.746744,
     "end_time": "2021-05-20T13:56:29.688089",
     "exception": false,
     "start_time": "2021-05-20T13:56:23.941345",
     "status": "completed"
    },
    "tags": []
   },
   "outputs": [],
   "source": [
    "#hide\n",
    "for i in range(len(dates)):\n",
    "    df1_cases = df_cases1.get_group(dates[i])\n",
    "    for j in range(len(df1_cases.index)):\n",
    "        if df1_cases.iloc[j,1] in arr_states:\n",
    "            dft_cases.loc[i,df1_cases.iloc[j,1]] = df1_cases.iloc[j,2]\n",
    "dft_cases = dft_cases.set_index('states')"
   ]
  },
  {
   "cell_type": "code",
   "execution_count": 8,
   "id": "binary-ratio",
   "metadata": {
    "execution": {
     "iopub.execute_input": "2021-05-20T13:56:29.730243Z",
     "iopub.status.busy": "2021-05-20T13:56:29.729650Z",
     "iopub.status.idle": "2021-05-20T13:56:29.731882Z",
     "shell.execute_reply": "2021-05-20T13:56:29.731407Z"
    },
    "papermill": {
     "duration": 0.024877,
     "end_time": "2021-05-20T13:56:29.732002",
     "exception": false,
     "start_time": "2021-05-20T13:56:29.707125",
     "status": "completed"
    },
    "tags": []
   },
   "outputs": [],
   "source": [
    "#hide\n",
    "dft_cases = dft_cases.T\n",
    "dft_deaths = dft_deaths.T\n",
    "dt_today = dates[-1]\n",
    "dt_yday = dates[-2]"
   ]
  },
  {
   "cell_type": "code",
   "execution_count": 9,
   "id": "boolean-calculator",
   "metadata": {
    "execution": {
     "iopub.execute_input": "2021-05-20T13:56:29.772502Z",
     "iopub.status.busy": "2021-05-20T13:56:29.771874Z",
     "iopub.status.idle": "2021-05-20T13:56:29.775702Z",
     "shell.execute_reply": "2021-05-20T13:56:29.776208Z"
    },
    "papermill": {
     "duration": 0.026587,
     "end_time": "2021-05-20T13:56:29.776333",
     "exception": false,
     "start_time": "2021-05-20T13:56:29.749746",
     "status": "completed"
    },
    "tags": []
   },
   "outputs": [],
   "source": [
    "#hide\n",
    "dft_cases = dft_cases.reset_index()\n",
    "dft_deaths = dft_deaths.reset_index()\n",
    "dft_cases = dft_cases.rename(columns = {'index':'state'})\n",
    "dft_deaths = dft_deaths.rename(columns = {'index':'state'})"
   ]
  },
  {
   "cell_type": "code",
   "execution_count": 10,
   "id": "invisible-johnston",
   "metadata": {
    "execution": {
     "iopub.execute_input": "2021-05-20T13:56:29.820218Z",
     "iopub.status.busy": "2021-05-20T13:56:29.819597Z",
     "iopub.status.idle": "2021-05-20T13:56:29.823987Z",
     "shell.execute_reply": "2021-05-20T13:56:29.824489Z"
    },
    "papermill": {
     "duration": 0.031257,
     "end_time": "2021-05-20T13:56:29.824613",
     "exception": false,
     "start_time": "2021-05-20T13:56:29.793356",
     "status": "completed"
    },
    "tags": []
   },
   "outputs": [],
   "source": [
    "#hide\n",
    "dfc_cases = dft_cases.groupby('state')[dt_today].sum()\n",
    "dfc_deaths = dft_deaths.groupby('state')[dt_today].sum()\n",
    "dfp_cases = dft_cases.groupby('state')[dt_yday].sum()\n",
    "dfp_deaths = dft_deaths.groupby('state')[dt_yday].sum()"
   ]
  },
  {
   "cell_type": "code",
   "execution_count": 11,
   "id": "measured-great",
   "metadata": {
    "execution": {
     "iopub.execute_input": "2021-05-20T13:56:29.872746Z",
     "iopub.status.busy": "2021-05-20T13:56:29.872160Z",
     "iopub.status.idle": "2021-05-20T13:56:29.879391Z",
     "shell.execute_reply": "2021-05-20T13:56:29.878833Z"
    },
    "papermill": {
     "duration": 0.037776,
     "end_time": "2021-05-20T13:56:29.879512",
     "exception": false,
     "start_time": "2021-05-20T13:56:29.841736",
     "status": "completed"
    },
    "tags": []
   },
   "outputs": [
    {
     "data": {
      "text/html": [
       "<div>\n",
       "<style scoped>\n",
       "    .dataframe tbody tr th:only-of-type {\n",
       "        vertical-align: middle;\n",
       "    }\n",
       "\n",
       "    .dataframe tbody tr th {\n",
       "        vertical-align: top;\n",
       "    }\n",
       "\n",
       "    .dataframe thead th {\n",
       "        text-align: right;\n",
       "    }\n",
       "</style>\n",
       "<table border=\"1\" class=\"dataframe\">\n",
       "  <thead>\n",
       "    <tr style=\"text-align: right;\">\n",
       "      <th></th>\n",
       "      <th>states</th>\n",
       "      <th>Cases</th>\n",
       "      <th>Deaths</th>\n",
       "      <th>PCases</th>\n",
       "      <th>PDeaths</th>\n",
       "    </tr>\n",
       "  </thead>\n",
       "  <tbody>\n",
       "    <tr>\n",
       "      <th>0</th>\n",
       "      <td>Maharashtra</td>\n",
       "      <td>5467537</td>\n",
       "      <td>84371</td>\n",
       "      <td>5467537</td>\n",
       "      <td>84371</td>\n",
       "    </tr>\n",
       "    <tr>\n",
       "      <th>1</th>\n",
       "      <td>Karnataka</td>\n",
       "      <td>2306655</td>\n",
       "      <td>23306</td>\n",
       "      <td>2306655</td>\n",
       "      <td>23306</td>\n",
       "    </tr>\n",
       "    <tr>\n",
       "      <th>2</th>\n",
       "      <td>Kerala</td>\n",
       "      <td>2233469</td>\n",
       "      <td>6725</td>\n",
       "      <td>2233469</td>\n",
       "      <td>6725</td>\n",
       "    </tr>\n",
       "    <tr>\n",
       "      <th>3</th>\n",
       "      <td>Tamil Nadu</td>\n",
       "      <td>1699225</td>\n",
       "      <td>18734</td>\n",
       "      <td>1699225</td>\n",
       "      <td>18734</td>\n",
       "    </tr>\n",
       "    <tr>\n",
       "      <th>4</th>\n",
       "      <td>Uttar Pradesh</td>\n",
       "      <td>1644849</td>\n",
       "      <td>18352</td>\n",
       "      <td>1644849</td>\n",
       "      <td>18352</td>\n",
       "    </tr>\n",
       "  </tbody>\n",
       "</table>\n",
       "</div>"
      ],
      "text/plain": [
       "          states    Cases  Deaths   PCases  PDeaths\n",
       "0    Maharashtra  5467537   84371  5467537    84371\n",
       "1      Karnataka  2306655   23306  2306655    23306\n",
       "2         Kerala  2233469    6725  2233469     6725\n",
       "3     Tamil Nadu  1699225   18734  1699225    18734\n",
       "4  Uttar Pradesh  1644849   18352  1644849    18352"
      ]
     },
     "execution_count": 11,
     "metadata": {},
     "output_type": "execute_result"
    }
   ],
   "source": [
    "#hide\n",
    "df_table = pd.DataFrame({'states': dfc_cases.index, 'Cases': dfc_cases.values, 'Deaths': dfc_deaths.values, 'PCases': dfp_cases.values, 'PDeaths': dfp_deaths.values}).set_index('states')\n",
    "df_table = df_table.sort_values(by = ['Cases','Deaths'], ascending = [False, False])\n",
    "df_table = df_table.reset_index()\n",
    "df_table.head()"
   ]
  },
  {
   "cell_type": "code",
   "execution_count": 12,
   "id": "found-montreal",
   "metadata": {
    "execution": {
     "iopub.execute_input": "2021-05-20T13:56:29.920583Z",
     "iopub.status.busy": "2021-05-20T13:56:29.919963Z",
     "iopub.status.idle": "2021-05-20T13:56:29.928405Z",
     "shell.execute_reply": "2021-05-20T13:56:29.927828Z"
    },
    "papermill": {
     "duration": 0.0309,
     "end_time": "2021-05-20T13:56:29.928519",
     "exception": false,
     "start_time": "2021-05-20T13:56:29.897619",
     "status": "completed"
    },
    "tags": []
   },
   "outputs": [],
   "source": [
    "#hide\n",
    "for c in 'Cases, Deaths'.split(', '):\n",
    "    df_table[f'{c} (+)'] = (df_table[c] - df_table[f'P{c}']).clip(0)\n",
    "df_table['Fatality Rate'] = (100* df_table['Deaths']/ df_table['Cases']).round(2)"
   ]
  },
  {
   "cell_type": "code",
   "execution_count": 13,
   "id": "minus-savage",
   "metadata": {
    "execution": {
     "iopub.execute_input": "2021-05-20T13:56:29.975474Z",
     "iopub.status.busy": "2021-05-20T13:56:29.974884Z",
     "iopub.status.idle": "2021-05-20T13:56:29.978227Z",
     "shell.execute_reply": "2021-05-20T13:56:29.977732Z"
    },
    "papermill": {
     "duration": 0.032192,
     "end_time": "2021-05-20T13:56:29.978341",
     "exception": false,
     "start_time": "2021-05-20T13:56:29.946149",
     "status": "completed"
    },
    "tags": []
   },
   "outputs": [
    {
     "data": {
      "text/html": [
       "<div>\n",
       "<style scoped>\n",
       "    .dataframe tbody tr th:only-of-type {\n",
       "        vertical-align: middle;\n",
       "    }\n",
       "\n",
       "    .dataframe tbody tr th {\n",
       "        vertical-align: top;\n",
       "    }\n",
       "\n",
       "    .dataframe thead th {\n",
       "        text-align: right;\n",
       "    }\n",
       "</style>\n",
       "<table border=\"1\" class=\"dataframe\">\n",
       "  <thead>\n",
       "    <tr style=\"text-align: right;\">\n",
       "      <th></th>\n",
       "      <th>states</th>\n",
       "      <th>Cases</th>\n",
       "      <th>Deaths</th>\n",
       "      <th>PCases</th>\n",
       "      <th>PDeaths</th>\n",
       "      <th>Cases (+)</th>\n",
       "      <th>Deaths (+)</th>\n",
       "      <th>Fatality Rate</th>\n",
       "    </tr>\n",
       "  </thead>\n",
       "  <tbody>\n",
       "    <tr>\n",
       "      <th>0</th>\n",
       "      <td>Maharashtra</td>\n",
       "      <td>5467537</td>\n",
       "      <td>84371</td>\n",
       "      <td>5467537</td>\n",
       "      <td>84371</td>\n",
       "      <td>0</td>\n",
       "      <td>0</td>\n",
       "      <td>1.54</td>\n",
       "    </tr>\n",
       "    <tr>\n",
       "      <th>1</th>\n",
       "      <td>Karnataka</td>\n",
       "      <td>2306655</td>\n",
       "      <td>23306</td>\n",
       "      <td>2306655</td>\n",
       "      <td>23306</td>\n",
       "      <td>0</td>\n",
       "      <td>0</td>\n",
       "      <td>1.01</td>\n",
       "    </tr>\n",
       "    <tr>\n",
       "      <th>2</th>\n",
       "      <td>Kerala</td>\n",
       "      <td>2233469</td>\n",
       "      <td>6725</td>\n",
       "      <td>2233469</td>\n",
       "      <td>6725</td>\n",
       "      <td>0</td>\n",
       "      <td>0</td>\n",
       "      <td>0.30</td>\n",
       "    </tr>\n",
       "    <tr>\n",
       "      <th>3</th>\n",
       "      <td>Tamil Nadu</td>\n",
       "      <td>1699225</td>\n",
       "      <td>18734</td>\n",
       "      <td>1699225</td>\n",
       "      <td>18734</td>\n",
       "      <td>0</td>\n",
       "      <td>0</td>\n",
       "      <td>1.10</td>\n",
       "    </tr>\n",
       "    <tr>\n",
       "      <th>4</th>\n",
       "      <td>Uttar Pradesh</td>\n",
       "      <td>1644849</td>\n",
       "      <td>18352</td>\n",
       "      <td>1644849</td>\n",
       "      <td>18352</td>\n",
       "      <td>0</td>\n",
       "      <td>0</td>\n",
       "      <td>1.12</td>\n",
       "    </tr>\n",
       "  </tbody>\n",
       "</table>\n",
       "</div>"
      ],
      "text/plain": [
       "          states    Cases  Deaths   PCases  PDeaths  Cases (+)  Deaths (+)  \\\n",
       "0    Maharashtra  5467537   84371  5467537    84371          0           0   \n",
       "1      Karnataka  2306655   23306  2306655    23306          0           0   \n",
       "2         Kerala  2233469    6725  2233469     6725          0           0   \n",
       "3     Tamil Nadu  1699225   18734  1699225    18734          0           0   \n",
       "4  Uttar Pradesh  1644849   18352  1644849    18352          0           0   \n",
       "\n",
       "   Fatality Rate  \n",
       "0           1.54  \n",
       "1           1.01  \n",
       "2           0.30  \n",
       "3           1.10  \n",
       "4           1.12  "
      ]
     },
     "execution_count": 13,
     "metadata": {},
     "output_type": "execute_result"
    }
   ],
   "source": [
    "#hide\n",
    "df_table.head()"
   ]
  },
  {
   "cell_type": "code",
   "execution_count": 14,
   "id": "false-peter",
   "metadata": {
    "execution": {
     "iopub.execute_input": "2021-05-20T13:56:30.035414Z",
     "iopub.status.busy": "2021-05-20T13:56:30.034821Z",
     "iopub.status.idle": "2021-05-20T13:56:30.038389Z",
     "shell.execute_reply": "2021-05-20T13:56:30.037924Z"
    },
    "papermill": {
     "duration": 0.041552,
     "end_time": "2021-05-20T13:56:30.038532",
     "exception": false,
     "start_time": "2021-05-20T13:56:29.996980",
     "status": "completed"
    },
    "tags": []
   },
   "outputs": [
    {
     "data": {
      "text/plain": [
       "{'updated': '2021-05-20',\n",
       " 'since': '2021-05-19',\n",
       " 'Cases': 25813202,\n",
       " 'PCases': 25771539,\n",
       " 'Deaths': 287573,\n",
       " 'PDeaths': 287157,\n",
       " 'Cases (+)': 41663,\n",
       " 'Deaths (+)': 416}"
      ]
     },
     "execution_count": 14,
     "metadata": {},
     "output_type": "execute_result"
    }
   ],
   "source": [
    "#hide\n",
    "summary = {'updated':dates[-1], 'since':dates[-2]}\n",
    "list_names = ['Cases', 'PCases', 'Deaths', 'PDeaths', 'Cases (+)', 'Deaths (+)']\n",
    "for name in list_names:\n",
    "    summary[name] = df_table.sum()[name]\n",
    "summary"
   ]
  },
  {
   "cell_type": "code",
   "execution_count": 15,
   "id": "packed-viewer",
   "metadata": {
    "execution": {
     "iopub.execute_input": "2021-05-20T13:56:30.082111Z",
     "iopub.status.busy": "2021-05-20T13:56:30.081497Z",
     "iopub.status.idle": "2021-05-20T13:56:30.083552Z",
     "shell.execute_reply": "2021-05-20T13:56:30.084050Z"
    },
    "papermill": {
     "duration": 0.026373,
     "end_time": "2021-05-20T13:56:30.084179",
     "exception": false,
     "start_time": "2021-05-20T13:56:30.057806",
     "status": "completed"
    },
    "tags": []
   },
   "outputs": [],
   "source": [
    "#hide\n",
    "overview = '''\n",
    "<!-- #######  HTML!! #########-->\n",
    "<h1 style=\"color: #5e9ca0; text-align: center;\">India</h1>\n",
    "<p style=\"text-align: center;\">Last update: <strong>{update}</strong></p>\n",
    "<p style=\"text-align: center;\">Confirmed cases:</p>\n",
    "<p style=\"text-align: center;font-size:24px;\">{cases} (<span style=\"color: #ff0000;\">+{new}</span>)</p>\n",
    "<p style=\"text-align: center;\">Confirmed deaths:</p>\n",
    "<p style=\"text-align: center;font-size:24px;\">{deaths} (<span style=\"color: #ff0000;\">+{dnew}</span>)</p>\n",
    "'''"
   ]
  },
  {
   "cell_type": "code",
   "execution_count": 16,
   "id": "phantom-lover",
   "metadata": {
    "execution": {
     "iopub.execute_input": "2021-05-20T13:56:30.126492Z",
     "iopub.status.busy": "2021-05-20T13:56:30.125915Z",
     "iopub.status.idle": "2021-05-20T13:56:30.128513Z",
     "shell.execute_reply": "2021-05-20T13:56:30.129075Z"
    },
    "papermill": {
     "duration": 0.02657,
     "end_time": "2021-05-20T13:56:30.129202",
     "exception": false,
     "start_time": "2021-05-20T13:56:30.102632",
     "status": "completed"
    },
    "tags": []
   },
   "outputs": [
    {
     "data": {
      "text/html": [
       "\n",
       "<!-- #######  HTML!! #########-->\n",
       "<h1 style=\"color: #5e9ca0; text-align: center;\">India</h1>\n",
       "<p style=\"text-align: center;\">Last update: <strong>2021-05-20</strong></p>\n",
       "<p style=\"text-align: center;\">Confirmed cases:</p>\n",
       "<p style=\"text-align: center;font-size:24px;\">25813202 (<span style=\"color: #ff0000;\">+41663</span>)</p>\n",
       "<p style=\"text-align: center;\">Confirmed deaths:</p>\n",
       "<p style=\"text-align: center;font-size:24px;\">287573 (<span style=\"color: #ff0000;\">+416</span>)</p>\n"
      ],
      "text/plain": [
       "<IPython.core.display.HTML object>"
      ]
     },
     "metadata": {},
     "output_type": "display_data"
    }
   ],
   "source": [
    "#hide_input\n",
    "update = summary['updated']\n",
    "cases = summary['Cases']\n",
    "new = summary['Cases (+)']\n",
    "deaths = summary['Deaths']\n",
    "dnew = summary['Deaths (+)']\n",
    "\n",
    "html = HTML(overview.format(update=update, cases=cases,new=new,deaths=deaths,dnew=dnew))\n",
    "\n",
    "display(html)"
   ]
  },
  {
   "cell_type": "code",
   "execution_count": 17,
   "id": "sealed-reset",
   "metadata": {
    "execution": {
     "iopub.execute_input": "2021-05-20T13:56:30.173680Z",
     "iopub.status.busy": "2021-05-20T13:56:30.173111Z",
     "iopub.status.idle": "2021-05-20T13:56:30.179571Z",
     "shell.execute_reply": "2021-05-20T13:56:30.179108Z"
    },
    "papermill": {
     "duration": 0.032078,
     "end_time": "2021-05-20T13:56:30.179684",
     "exception": false,
     "start_time": "2021-05-20T13:56:30.147606",
     "status": "completed"
    },
    "tags": []
   },
   "outputs": [],
   "source": [
    "#hide\n",
    "dt_cols = list(dft_cases.columns[1:])\n",
    "dft_ct_new_cases = dft_cases.groupby('state')[dt_cols].sum().diff(axis=1).fillna(0).astype(int)\n",
    "dft_ct_new_cases.sort_values(by = dates[-1], ascending = False,inplace = True)"
   ]
  },
  {
   "cell_type": "code",
   "execution_count": 18,
   "id": "designed-constant",
   "metadata": {
    "execution": {
     "iopub.execute_input": "2021-05-20T13:56:30.236258Z",
     "iopub.status.busy": "2021-05-20T13:56:30.235695Z",
     "iopub.status.idle": "2021-05-20T13:56:30.238781Z",
     "shell.execute_reply": "2021-05-20T13:56:30.239220Z"
    },
    "papermill": {
     "duration": 0.041193,
     "end_time": "2021-05-20T13:56:30.239344",
     "exception": false,
     "start_time": "2021-05-20T13:56:30.198151",
     "status": "completed"
    },
    "tags": []
   },
   "outputs": [
    {
     "data": {
      "text/html": [
       "<div>\n",
       "<style scoped>\n",
       "    .dataframe tbody tr th:only-of-type {\n",
       "        vertical-align: middle;\n",
       "    }\n",
       "\n",
       "    .dataframe tbody tr th {\n",
       "        vertical-align: top;\n",
       "    }\n",
       "\n",
       "    .dataframe thead th {\n",
       "        text-align: right;\n",
       "    }\n",
       "</style>\n",
       "<table border=\"1\" class=\"dataframe\">\n",
       "  <thead>\n",
       "    <tr style=\"text-align: right;\">\n",
       "      <th>states</th>\n",
       "      <th>2020-07-01</th>\n",
       "      <th>2020-07-02</th>\n",
       "      <th>2020-07-03</th>\n",
       "      <th>2020-07-04</th>\n",
       "      <th>2020-07-05</th>\n",
       "      <th>2020-07-06</th>\n",
       "      <th>2020-07-07</th>\n",
       "      <th>2020-07-08</th>\n",
       "      <th>2020-07-09</th>\n",
       "      <th>2020-07-10</th>\n",
       "      <th>...</th>\n",
       "      <th>2021-05-11</th>\n",
       "      <th>2021-05-12</th>\n",
       "      <th>2021-05-13</th>\n",
       "      <th>2021-05-14</th>\n",
       "      <th>2021-05-15</th>\n",
       "      <th>2021-05-16</th>\n",
       "      <th>2021-05-17</th>\n",
       "      <th>2021-05-18</th>\n",
       "      <th>2021-05-19</th>\n",
       "      <th>2021-05-20</th>\n",
       "    </tr>\n",
       "    <tr>\n",
       "      <th>state</th>\n",
       "      <th></th>\n",
       "      <th></th>\n",
       "      <th></th>\n",
       "      <th></th>\n",
       "      <th></th>\n",
       "      <th></th>\n",
       "      <th></th>\n",
       "      <th></th>\n",
       "      <th></th>\n",
       "      <th></th>\n",
       "      <th></th>\n",
       "      <th></th>\n",
       "      <th></th>\n",
       "      <th></th>\n",
       "      <th></th>\n",
       "      <th></th>\n",
       "      <th></th>\n",
       "      <th></th>\n",
       "      <th></th>\n",
       "      <th></th>\n",
       "      <th></th>\n",
       "    </tr>\n",
       "  </thead>\n",
       "  <tbody>\n",
       "    <tr>\n",
       "      <th>Andhra Pradesh</th>\n",
       "      <td>0</td>\n",
       "      <td>845</td>\n",
       "      <td>837</td>\n",
       "      <td>765</td>\n",
       "      <td>998</td>\n",
       "      <td>1322</td>\n",
       "      <td>1178</td>\n",
       "      <td>1062</td>\n",
       "      <td>1555</td>\n",
       "      <td>1608</td>\n",
       "      <td>...</td>\n",
       "      <td>20345</td>\n",
       "      <td>21452</td>\n",
       "      <td>22399</td>\n",
       "      <td>22018</td>\n",
       "      <td>22517</td>\n",
       "      <td>24171</td>\n",
       "      <td>18561</td>\n",
       "      <td>21320</td>\n",
       "      <td>23160</td>\n",
       "      <td>22610</td>\n",
       "    </tr>\n",
       "    <tr>\n",
       "      <th>Odisha</th>\n",
       "      <td>0</td>\n",
       "      <td>229</td>\n",
       "      <td>561</td>\n",
       "      <td>495</td>\n",
       "      <td>469</td>\n",
       "      <td>456</td>\n",
       "      <td>571</td>\n",
       "      <td>527</td>\n",
       "      <td>577</td>\n",
       "      <td>755</td>\n",
       "      <td>...</td>\n",
       "      <td>9793</td>\n",
       "      <td>10982</td>\n",
       "      <td>10649</td>\n",
       "      <td>12390</td>\n",
       "      <td>11805</td>\n",
       "      <td>11732</td>\n",
       "      <td>10757</td>\n",
       "      <td>10321</td>\n",
       "      <td>11099</td>\n",
       "      <td>11498</td>\n",
       "    </tr>\n",
       "    <tr>\n",
       "      <th>Delhi</th>\n",
       "      <td>0</td>\n",
       "      <td>2373</td>\n",
       "      <td>2520</td>\n",
       "      <td>2505</td>\n",
       "      <td>2244</td>\n",
       "      <td>1379</td>\n",
       "      <td>2008</td>\n",
       "      <td>2033</td>\n",
       "      <td>2187</td>\n",
       "      <td>2089</td>\n",
       "      <td>...</td>\n",
       "      <td>12481</td>\n",
       "      <td>13287</td>\n",
       "      <td>10489</td>\n",
       "      <td>8506</td>\n",
       "      <td>6430</td>\n",
       "      <td>6456</td>\n",
       "      <td>4524</td>\n",
       "      <td>4482</td>\n",
       "      <td>3846</td>\n",
       "      <td>3231</td>\n",
       "    </tr>\n",
       "    <tr>\n",
       "      <th>Puducherry</th>\n",
       "      <td>0</td>\n",
       "      <td>63</td>\n",
       "      <td>22</td>\n",
       "      <td>80</td>\n",
       "      <td>42</td>\n",
       "      <td>65</td>\n",
       "      <td>30</td>\n",
       "      <td>110</td>\n",
       "      <td>49</td>\n",
       "      <td>72</td>\n",
       "      <td>...</td>\n",
       "      <td>2049</td>\n",
       "      <td>2007</td>\n",
       "      <td>1942</td>\n",
       "      <td>1974</td>\n",
       "      <td>1598</td>\n",
       "      <td>1961</td>\n",
       "      <td>1446</td>\n",
       "      <td>1797</td>\n",
       "      <td>1759</td>\n",
       "      <td>1957</td>\n",
       "    </tr>\n",
       "    <tr>\n",
       "      <th>Meghalaya</th>\n",
       "      <td>0</td>\n",
       "      <td>3</td>\n",
       "      <td>4</td>\n",
       "      <td>8</td>\n",
       "      <td>2</td>\n",
       "      <td>16</td>\n",
       "      <td>6</td>\n",
       "      <td>6</td>\n",
       "      <td>13</td>\n",
       "      <td>73</td>\n",
       "      <td>...</td>\n",
       "      <td>450</td>\n",
       "      <td>406</td>\n",
       "      <td>591</td>\n",
       "      <td>627</td>\n",
       "      <td>560</td>\n",
       "      <td>569</td>\n",
       "      <td>634</td>\n",
       "      <td>906</td>\n",
       "      <td>872</td>\n",
       "      <td>1183</td>\n",
       "    </tr>\n",
       "  </tbody>\n",
       "</table>\n",
       "<p>5 rows × 324 columns</p>\n",
       "</div>"
      ],
      "text/plain": [
       "states          2020-07-01  2020-07-02  2020-07-03  2020-07-04  2020-07-05  \\\n",
       "state                                                                        \n",
       "Andhra Pradesh           0         845         837         765         998   \n",
       "Odisha                   0         229         561         495         469   \n",
       "Delhi                    0        2373        2520        2505        2244   \n",
       "Puducherry               0          63          22          80          42   \n",
       "Meghalaya                0           3           4           8           2   \n",
       "\n",
       "states          2020-07-06  2020-07-07  2020-07-08  2020-07-09  2020-07-10  \\\n",
       "state                                                                        \n",
       "Andhra Pradesh        1322        1178        1062        1555        1608   \n",
       "Odisha                 456         571         527         577         755   \n",
       "Delhi                 1379        2008        2033        2187        2089   \n",
       "Puducherry              65          30         110          49          72   \n",
       "Meghalaya               16           6           6          13          73   \n",
       "\n",
       "states          ...  2021-05-11  2021-05-12  2021-05-13  2021-05-14  \\\n",
       "state           ...                                                   \n",
       "Andhra Pradesh  ...       20345       21452       22399       22018   \n",
       "Odisha          ...        9793       10982       10649       12390   \n",
       "Delhi           ...       12481       13287       10489        8506   \n",
       "Puducherry      ...        2049        2007        1942        1974   \n",
       "Meghalaya       ...         450         406         591         627   \n",
       "\n",
       "states          2021-05-15  2021-05-16  2021-05-17  2021-05-18  2021-05-19  \\\n",
       "state                                                                        \n",
       "Andhra Pradesh       22517       24171       18561       21320       23160   \n",
       "Odisha               11805       11732       10757       10321       11099   \n",
       "Delhi                 6430        6456        4524        4482        3846   \n",
       "Puducherry            1598        1961        1446        1797        1759   \n",
       "Meghalaya              560         569         634         906         872   \n",
       "\n",
       "states          2021-05-20  \n",
       "state                       \n",
       "Andhra Pradesh       22610  \n",
       "Odisha               11498  \n",
       "Delhi                 3231  \n",
       "Puducherry            1957  \n",
       "Meghalaya             1183  \n",
       "\n",
       "[5 rows x 324 columns]"
      ]
     },
     "execution_count": 18,
     "metadata": {},
     "output_type": "execute_result"
    }
   ],
   "source": [
    "#hide\n",
    "dft_ct_new_cases.head()"
   ]
  },
  {
   "cell_type": "code",
   "execution_count": 19,
   "id": "responsible-nightlife",
   "metadata": {
    "execution": {
     "iopub.execute_input": "2021-05-20T13:56:30.308522Z",
     "iopub.status.busy": "2021-05-20T13:56:30.301587Z",
     "iopub.status.idle": "2021-05-20T13:56:44.200677Z",
     "shell.execute_reply": "2021-05-20T13:56:44.201177Z"
    },
    "papermill": {
     "duration": 13.942706,
     "end_time": "2021-05-20T13:56:44.201334",
     "exception": false,
     "start_time": "2021-05-20T13:56:30.258628",
     "status": "completed"
    },
    "tags": []
   },
   "outputs": [
    {
     "data": {
      "image/png": "[encoded data removed]",
      "text/plain": [
       "<Figure size 1296x2016 with 11 Axes>"
      ]
     },
     "metadata": {
      "needs_background": "light"
     },
     "output_type": "display_data"
    }
   ],
   "source": [
    "#hide_input\n",
    "df = dft_ct_new_cases.copy()\n",
    "df.loc['Total'] = df.sum()\n",
    "n = 5\n",
    "ax = []\n",
    "fig = plt.figure(figsize = (18,28))\n",
    "gs = fig.add_gridspec(n+2, 5)\n",
    "# gs = fig.add_gridspec(2, 3)\n",
    "ax1 = fig.add_subplot(gs[0, :])\n",
    "ef = df.loc['Total'].rename_axis('date').reset_index()\n",
    "ef['date'] = ef['date'].astype('datetime64[ns]')\n",
    "ax1.bar(ef.date,ef.Total,alpha=0.3,color='#007acc')\n",
    "ax1.plot(ef.date,ef.Total , marker=\"o\", color='#007acc')\n",
    "ax1.xaxis.set_major_locator(mdates.WeekdayLocator())\n",
    "ax1.xaxis.set_major_formatter(mdates.DateFormatter('%b %d'))\n",
    "ax1.text(0.02, 0.5,'India daily case count', transform = ax1.transAxes, fontsize=25);\n",
    "ax1.spines['right'].set_visible(False)\n",
    "ax1.spines['top'].set_visible(False)\n",
    "\n",
    "ax2 = fig.add_subplot(gs[1,0])\n",
    "ef = df.loc['Maharashtra'].rename_axis('date').reset_index()\n",
    "ef['date'] = ef['date'].astype('datetime64[ns]')\n",
    "\n",
    "ax2.bar(ef.date, ef.Maharashtra,color = '#007acc',alpha=0.5)\n",
    "ax2.xaxis.set_major_locator(mdates.WeekdayLocator())\n",
    "ax2.xaxis.set_major_formatter(mdates.DateFormatter('%b %d'))\n",
    "ax2.set_xticks(ax2.get_xticks()[::3])\n",
    "maxyval = ef.Maharashtra.max()\n",
    "ax2.set_ylim([0,maxyval])\n",
    "ax2.text(0.05, 0.9,'Maharashtra', transform = ax2.transAxes, fontsize=20);\n",
    "ax2.spines['right'].set_visible(False)\n",
    "ax2.spines['top'].set_visible(False)\n",
    "\n",
    "\n",
    "ax3 = fig.add_subplot(gs[1,1])\n",
    "ef = df.loc['Tamil Nadu'].rename_axis('date').reset_index()\n",
    "ef['date'] = ef['date'].astype('datetime64[ns]')\n",
    "ax3.bar(ef.date, ef['Tamil Nadu'],color = '#007acc',alpha=0.5,)\n",
    "ax3.xaxis.set_major_locator(mdates.WeekdayLocator())\n",
    "ax3.xaxis.set_major_formatter(mdates.DateFormatter('%b %d'))\n",
    "ax3.set_xticks(ax3.get_xticks()[::3])\n",
    "ax3.text(0.05, 0.9,'Tamil Nadu', transform = ax3.transAxes, fontsize=20);\n",
    "ax3.spines['right'].set_visible(False)\n",
    "ax3.spines['top'].set_visible(False)\n",
    "\n",
    "ax5 = fig.add_subplot(gs[1,3])\n",
    "ef = df.loc['Telangana'].rename_axis('date').reset_index()\n",
    "ef['date'] = ef['date'].astype('datetime64[ns]')\n",
    "ax5.bar(ef.date, ef['Telangana'],color = '#007acc',alpha=0.5,)\n",
    "ax5.xaxis.set_major_locator(mdates.WeekdayLocator())\n",
    "ax5.xaxis.set_major_formatter(mdates.DateFormatter('%b %d'))\n",
    "ax5.set_xticks(ax5.get_xticks()[::3])\n",
    "ax5.text(0.05, 0.9,'Telangana', transform = ax5.transAxes, fontsize=20);\n",
    "ax5.spines['right'].set_visible(False)\n",
    "ax5.spines['top'].set_visible(False)\n",
    "\n",
    "ax6 = fig.add_subplot(gs[1,4])\n",
    "ef = df.loc['Andhra Pradesh'].rename_axis('date').reset_index()\n",
    "ef['date'] = ef['date'].astype('datetime64[ns]')\n",
    "ax6.bar(ef.date, ef['Andhra Pradesh'],color = '#007acc',alpha=0.5,)\n",
    "ax6.xaxis.set_major_locator(mdates.WeekdayLocator())\n",
    "ax6.xaxis.set_major_formatter(mdates.DateFormatter('%b %d'))\n",
    "ax6.set_xticks(ax6.get_xticks()[::3])\n",
    "ax6.text(0.05, 1,'Andhra Pradesh', transform = ax6.transAxes, fontsize=20);\n",
    "ax6.spines['right'].set_visible(False)\n",
    "ax6.spines['top'].set_visible(False)\n",
    "\n",
    "ax4 = fig.add_subplot(gs[1,2])\n",
    "ef = df.loc['Delhi'].rename_axis('date').reset_index()\n",
    "ef['date'] = ef['date'].astype('datetime64[ns]')\n",
    "ax4.bar(ef.date, ef.Delhi,color = '#007acc',alpha=0.5)\n",
    "ax4.set_xticks([])\n",
    "ax4.xaxis.set_major_locator(mdates.WeekdayLocator())\n",
    "ax4.xaxis.set_major_formatter(mdates.DateFormatter('%b %d'))\n",
    "ax4.set_xticks(ax4.get_xticks()[::3])\n",
    "ax4.spines['right'].set_visible(False)\n",
    "ax4.spines['top'].set_visible(False)\n",
    "\n",
    "ax4.text(0.05, 1,'Delhi', transform = ax4.transAxes, fontsize=20)\n",
    "\n",
    "for i in range(n):\n",
    "    \n",
    "    ax.append(fig.add_subplot(gs[i+2,:]))\n",
    "    ef = df.iloc[i+3].rename_axis('date').reset_index()\n",
    "    ef['date'] = ef['date'].astype('datetime64[ns]')\n",
    "    ax[i].bar(ef.date,ef.iloc[:,-1],color = '#007acc',alpha=0.3)\n",
    "    ax[i].plot(ef.date,ef.iloc[:,-1],marker='o',color='#007acc')\n",
    "    ax[i].text(0.02,0.5,f'{ef.columns.values[-1]}',transform = ax[i].transAxes, fontsize = 20);\n",
    "    ax[i].xaxis.set_major_locator(mdates.WeekdayLocator())\n",
    "    ax[i].xaxis.set_major_formatter(mdates.DateFormatter('%b %d'))\n",
    "    ax[i].set_ylim([0,7000])\n",
    "    ax[i].spines['right'].set_visible(False)\n",
    "    ax[i].spines['top'].set_visible(False)\n",
    "plt.tight_layout()\n"
   ]
  },
  {
   "cell_type": "code",
   "execution_count": 20,
   "id": "dress-forge",
   "metadata": {
    "execution": {
     "iopub.execute_input": "2021-05-20T13:56:44.257847Z",
     "iopub.status.busy": "2021-05-20T13:56:44.257105Z",
     "iopub.status.idle": "2021-05-20T13:56:44.262264Z",
     "shell.execute_reply": "2021-05-20T13:56:44.261503Z"
    },
    "papermill": {
     "duration": 0.037099,
     "end_time": "2021-05-20T13:56:44.262380",
     "exception": false,
     "start_time": "2021-05-20T13:56:44.225281",
     "status": "completed"
    },
    "tags": []
   },
   "outputs": [
    {
     "name": "stdout",
     "output_type": "stream",
     "text": [
      "                                   states    Cases  Deaths   PCases  PDeaths  Cases (+)  Deaths (+)  Fatality Rate\n",
      "                              Maharashtra  5467537   84371  5467537    84371          0           0           1.54\n",
      "                                Karnataka  2306655   23306  2306655    23306          0           0           1.01\n",
      "                                   Kerala  2233469    6725  2233469     6725          0           0           0.30\n",
      "                               Tamil Nadu  1699225   18734  1699225    18734          0           0           1.10\n",
      "                            Uttar Pradesh  1644849   18352  1644849    18352          0           0           1.12\n",
      "                           Andhra Pradesh  1521142    9800  1498532     9686      22610         114           0.64\n",
      "                                    Delhi  1409950   22579  1406719    22346       3231         233           1.60\n",
      "                              West Bengal  1190867   13733  1190867    13733          0           0           1.15\n",
      "                             Chhattisgarh   931211   12182   931211    12182          0           0           1.31\n",
      "                                Rajasthan   889513    7219   889513     7219          0           0           0.81\n",
      "                                  Gujarat   771447    9340   771447     9340          0           0           1.21\n",
      "                           Madhya Pradesh   747783    7227   747783     7227          0           0           0.97\n",
      "                                  Haryana   716507    7076   716507     7076          0           0           0.99\n",
      "                                    Bihar   670174    4143   670174     4143          0           0           0.62\n",
      "                                   Odisha   655899    2456   644401     2431      11498          25           0.37\n",
      "                                Telangana   540603    3037   540603     3037          0           0           0.56\n",
      "                                   Punjab   517954   12525   517954    12525          0           0           2.42\n",
      "                                    Assam   347001    2433   347001     2433          0           0           0.70\n",
      "                                Jharkhand   322828    4654   322828     4654          0           0           1.44\n",
      "                              Uttarakhand   300282    5325   300282     5325          0           0           1.77\n",
      "                        Jammu and Kashmir   255888    3355   255888     3355          0           0           1.31\n",
      "                         Himachal Pradesh   170074    2516   170074     2516          0           0           1.48\n",
      "                                      Goa   139985    2228   139985     2228          0           0           1.59\n",
      "                               Puducherry    91465    1269    89508     1241       1957          28           1.39\n",
      "                               Chandigarh    56927     656    56927      656          0           0           1.15\n",
      "                                  Tripura    43493     450    42773      447        720           3           1.03\n",
      "                                  Manipur    41265     635    41265      635          0           0           1.54\n",
      "                                Meghalaya    26927     389    25744      379       1183          10           1.44\n",
      "                        Arunachal Pradesh    22799      89    22799       89          0           0           0.39\n",
      "                                 Nagaland    18958     234    18958      234          0           0           1.23\n",
      "                                   Ladakh    16918     171    16918      171          0           0           1.01\n",
      "                                   Sikkim    12210     217    11961      214        249           3           1.78\n",
      " Dadra and Nagar Haveli and Daman and Diu     9778       4     9755        4         23           0           0.04\n",
      "                                  Mizoram     9444      30     9252       30        192           0           0.32\n",
      "              Andaman and Nicobar Islands     6709      95     6709       95          0           0           1.42\n",
      "                              Lakshadweep     5466      18     5466       18          0           0           0.33\n"
     ]
    }
   ],
   "source": [
    "#hide_input\n",
    "print(df_table.to_string(index=False))"
   ]
  },
  {
   "cell_type": "code",
   "execution_count": null,
   "id": "quantitative-legend",
   "metadata": {
    "papermill": {
     "duration": 0.023953,
     "end_time": "2021-05-20T13:56:44.310129",
     "exception": false,
     "start_time": "2021-05-20T13:56:44.286176",
     "status": "completed"
    },
    "tags": []
   },
   "outputs": [],
   "source": []
  },
  {
   "cell_type": "code",
   "execution_count": null,
   "id": "distant-acoustic",
   "metadata": {
    "papermill": {
     "duration": 0.024129,
     "end_time": "2021-05-20T13:56:44.358217",
     "exception": false,
     "start_time": "2021-05-20T13:56:44.334088",
     "status": "completed"
    },
    "tags": []
   },
   "outputs": [],
   "source": []
  }
 ],
 "metadata": {
  "kernelspec": {
   "display_name": "Python 3",
   "language": "python",
   "name": "python3"
  },
  "language_info": {
   "codemirror_mode": {
    "name": "ipython",
    "version": 3
   },
   "file_extension": ".py",
   "mimetype": "text/x-python",
   "name": "python",
   "nbconvert_exporter": "python",
   "pygments_lexer": "ipython3",
   "version": "3.6.13"
  },
  "papermill": {
   "duration": 29.25886,
   "end_time": "2021-05-20T13:56:44.990742",
   "environment_variables": {},
   "exception": null,
   "input_path": "latest.ipynb",
   "output_path": "latest.ipynb",
   "parameters": {},
   "start_time": "2021-05-20T13:56:15.731882",
   "version": "2.1.2"
  }
 },
 "nbformat": 4,
 "nbformat_minor": 5
}