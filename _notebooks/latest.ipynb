{
 "cells": [
  {
   "cell_type": "markdown",
   "metadata": {
    "papermill": {
     "duration": 0.054883,
     "end_time": "2020-08-14T13:36:56.798256",
     "exception": false,
     "start_time": "2020-08-14T13:36:56.743373",
     "status": "completed"
    },
    "tags": []
   },
   "source": [
    "# Latest COVID-19 India Matplotlib Overview"
   ]
  },
  {
   "cell_type": "code",
   "execution_count": 1,
   "metadata": {
    "execution": {
     "iopub.execute_input": "2020-08-14T13:36:57.082277Z",
     "iopub.status.busy": "2020-08-14T13:36:57.081713Z",
     "iopub.status.idle": "2020-08-14T13:36:57.630102Z",
     "shell.execute_reply": "2020-08-14T13:36:57.629543Z"
    },
    "papermill": {
     "duration": 0.584532,
     "end_time": "2020-08-14T13:36:57.630259",
     "exception": false,
     "start_time": "2020-08-14T13:36:57.045727",
     "status": "completed"
    },
    "tags": []
   },
   "outputs": [],
   "source": [
    "#hide\n",
    "import pandas as pd\n",
    "import numpy as np\n",
    "import requests\n",
    "import json\n",
    "import matplotlib.pyplot as plt\n",
    "import matplotlib.dates as mdates\n",
    "import matplotlib as mpl\n",
    "from IPython.core.display import display,HTML\n",
    "%matplotlib inline\n",
    "from datetime import date"
   ]
  },
  {
   "cell_type": "code",
   "execution_count": 2,
   "metadata": {
    "execution": {
     "iopub.execute_input": "2020-08-14T13:36:57.665450Z",
     "iopub.status.busy": "2020-08-14T13:36:57.664921Z",
     "iopub.status.idle": "2020-08-14T13:36:57.783137Z",
     "shell.execute_reply": "2020-08-14T13:36:57.782499Z"
    },
    "papermill": {
     "duration": 0.138453,
     "end_time": "2020-08-14T13:36:57.783292",
     "exception": false,
     "start_time": "2020-08-14T13:36:57.644839",
     "status": "completed"
    },
    "tags": []
   },
   "outputs": [],
   "source": [
    "#hide\n",
    "df  = pd.read_csv('https://api.covid19india.org/csv/latest/states.csv')\n",
    "df = df[['Date','State','Confirmed','Deceased']]\n",
    "df = df.rename(columns={'Confirmed':'Cases', \"Deceased\":'Deaths'})\n",
    "df_cases = df[[\"Date\",'State','Cases']]\n",
    "df_deaths = df[['Date','State','Deaths']]\n",
    "df_cases1 = df_cases.groupby('Date')\n",
    "df_deaths1= df_deaths.groupby('Date')"
   ]
  },
  {
   "cell_type": "code",
   "execution_count": 3,
   "metadata": {
    "execution": {
     "iopub.execute_input": "2020-08-14T13:36:57.817851Z",
     "iopub.status.busy": "2020-08-14T13:36:57.817263Z",
     "iopub.status.idle": "2020-08-14T13:36:57.833943Z",
     "shell.execute_reply": "2020-08-14T13:36:57.833464Z"
    },
    "papermill": {
     "duration": 0.035813,
     "end_time": "2020-08-14T13:36:57.834071",
     "exception": false,
     "start_time": "2020-08-14T13:36:57.798258",
     "status": "completed"
    },
    "tags": []
   },
   "outputs": [],
   "source": [
    "#hide\n",
    "df_snap = pd.read_csv('data/SnapshotCases-28-July.csv')\n",
    "arr_states = df_snap['states'].unique()\n",
    "arr_dates = df['Date'].unique()\n",
    "df_snap = df_snap.set_index('states')"
   ]
  },
  {
   "cell_type": "code",
   "execution_count": 4,
   "metadata": {
    "execution": {
     "iopub.execute_input": "2020-08-14T13:36:57.869684Z",
     "iopub.status.busy": "2020-08-14T13:36:57.869141Z",
     "iopub.status.idle": "2020-08-14T13:36:57.872074Z",
     "shell.execute_reply": "2020-08-14T13:36:57.872556Z"
    },
    "papermill": {
     "duration": 0.023997,
     "end_time": "2020-08-14T13:36:57.872692",
     "exception": false,
     "start_time": "2020-08-14T13:36:57.848695",
     "status": "completed"
    },
    "tags": []
   },
   "outputs": [
    {
     "data": {
      "text/plain": [
       "array(['Andaman and Nicobar Islands', 'Andhra Pradesh',\n",
       "       'Arunachal Pradesh', 'Assam', 'Bihar', 'Chandigarh',\n",
       "       'Dadra and Nagar Haveli and Daman and Diu', 'Delhi', 'Goa',\n",
       "       'Gujarat', 'Haryana', 'Himachal Pradesh', 'Jammu and Kashmir',\n",
       "       'Jharkhand', 'Karnataka', 'Kerala', 'Lakshadweep',\n",
       "       'Madhya Pradesh', 'Maharashtra', 'Manipur', 'Meghalaya', 'Mizoram',\n",
       "       'Nagaland', 'Odisha', 'Puducherry', 'Punjab', 'Rajasthan',\n",
       "       'Sikkim', 'Tamil Nadu', 'Telangana', 'Tripura', 'Uttar Pradesh',\n",
       "       'West Bengal', 'Chhattisgarh', 'Ladakh', 'Uttarakhand'],\n",
       "      dtype=object)"
      ]
     },
     "execution_count": 4,
     "metadata": {},
     "output_type": "execute_result"
    }
   ],
   "source": [
    "#hide\n",
    "arr_states[-9] = 'Puducherry'\n",
    "arr_states[-10] = 'Odisha'\n",
    "arr_states[6] = 'Dadra and Nagar Haveli and Daman and Diu'\n",
    "arr_states = np.append(arr_states,np.array(['Chhattisgarh','Ladakh','Uttarakhand']))\n",
    "arr_states"
   ]
  },
  {
   "cell_type": "code",
   "execution_count": 5,
   "metadata": {
    "execution": {
     "iopub.execute_input": "2020-08-14T13:36:57.918184Z",
     "iopub.status.busy": "2020-08-14T13:36:57.917644Z",
     "iopub.status.idle": "2020-08-14T13:36:57.922348Z",
     "shell.execute_reply": "2020-08-14T13:36:57.921703Z"
    },
    "papermill": {
     "duration": 0.035278,
     "end_time": "2020-08-14T13:36:57.922531",
     "exception": false,
     "start_time": "2020-08-14T13:36:57.887253",
     "status": "completed"
    },
    "tags": []
   },
   "outputs": [],
   "source": [
    "#hide\n",
    "dates = []\n",
    "for i in arr_dates:\n",
    "    if i>='2020-07-01':\n",
    "        dates.append(i)\n",
    "dict = {'states':dates}\n",
    "for i in arr_states:\n",
    "    dict[i] = [0]*len(dates)\n",
    "dft_cases = pd.DataFrame(dict)\n",
    "dft_deaths = pd.DataFrame(dict)\n"
   ]
  },
  {
   "cell_type": "code",
   "execution_count": 6,
   "metadata": {
    "execution": {
     "iopub.execute_input": "2020-08-14T13:36:57.960263Z",
     "iopub.status.busy": "2020-08-14T13:36:57.959630Z",
     "iopub.status.idle": "2020-08-14T13:36:58.554249Z",
     "shell.execute_reply": "2020-08-14T13:36:58.553728Z"
    },
    "papermill": {
     "duration": 0.615987,
     "end_time": "2020-08-14T13:36:58.554392",
     "exception": false,
     "start_time": "2020-08-14T13:36:57.938405",
     "status": "completed"
    },
    "tags": []
   },
   "outputs": [],
   "source": [
    "#hide\n",
    "for i in range(len(dates)):\n",
    "    df1_deaths = df_deaths1.get_group(dates[i])\n",
    "    for j in range(len(df1_deaths.index)):\n",
    "        if df1_deaths.iloc[j,1] in arr_states:\n",
    "            dft_deaths.loc[i,df1_deaths.iloc[j,1]] = df1_deaths.iloc[j,2]\n",
    "dft_deaths = dft_deaths.set_index('states')"
   ]
  },
  {
   "cell_type": "code",
   "execution_count": 7,
   "metadata": {
    "execution": {
     "iopub.execute_input": "2020-08-14T13:36:58.594141Z",
     "iopub.status.busy": "2020-08-14T13:36:58.593554Z",
     "iopub.status.idle": "2020-08-14T13:36:59.222639Z",
     "shell.execute_reply": "2020-08-14T13:36:59.222121Z"
    },
    "papermill": {
     "duration": 0.653337,
     "end_time": "2020-08-14T13:36:59.222792",
     "exception": false,
     "start_time": "2020-08-14T13:36:58.569455",
     "status": "completed"
    },
    "tags": []
   },
   "outputs": [],
   "source": [
    "#hide\n",
    "for i in range(len(dates)):\n",
    "    df1_cases = df_cases1.get_group(dates[i])\n",
    "    for j in range(len(df1_cases.index)):\n",
    "        if df1_cases.iloc[j,1] in arr_states:\n",
    "            dft_cases.loc[i,df1_cases.iloc[j,1]] = df1_cases.iloc[j,2]\n",
    "dft_cases = dft_cases.set_index('states')"
   ]
  },
  {
   "cell_type": "code",
   "execution_count": 8,
   "metadata": {
    "execution": {
     "iopub.execute_input": "2020-08-14T13:36:59.258832Z",
     "iopub.status.busy": "2020-08-14T13:36:59.257888Z",
     "iopub.status.idle": "2020-08-14T13:36:59.262597Z",
     "shell.execute_reply": "2020-08-14T13:36:59.263170Z"
    },
    "papermill": {
     "duration": 0.025635,
     "end_time": "2020-08-14T13:36:59.263347",
     "exception": false,
     "start_time": "2020-08-14T13:36:59.237712",
     "status": "completed"
    },
    "tags": []
   },
   "outputs": [],
   "source": [
    "#hide\n",
    "dft_cases = dft_cases.T\n",
    "dft_deaths = dft_deaths.T\n",
    "dt_today = dates[-1]\n",
    "dt_yday = dates[-2]"
   ]
  },
  {
   "cell_type": "code",
   "execution_count": 9,
   "metadata": {
    "execution": {
     "iopub.execute_input": "2020-08-14T13:36:59.301709Z",
     "iopub.status.busy": "2020-08-14T13:36:59.301113Z",
     "iopub.status.idle": "2020-08-14T13:36:59.311208Z",
     "shell.execute_reply": "2020-08-14T13:36:59.311664Z"
    },
    "papermill": {
     "duration": 0.03292,
     "end_time": "2020-08-14T13:36:59.311805",
     "exception": false,
     "start_time": "2020-08-14T13:36:59.278885",
     "status": "completed"
    },
    "tags": []
   },
   "outputs": [],
   "source": [
    "#hide\n",
    "dft_cases = dft_cases.reset_index()\n",
    "dft_deaths = dft_deaths.reset_index()\n",
    "dft_cases = dft_cases.rename(columns = {'index':'state'})\n",
    "dft_deaths = dft_deaths.rename(columns = {'index':'state'})"
   ]
  },
  {
   "cell_type": "code",
   "execution_count": 10,
   "metadata": {
    "execution": {
     "iopub.execute_input": "2020-08-14T13:36:59.352825Z",
     "iopub.status.busy": "2020-08-14T13:36:59.352181Z",
     "iopub.status.idle": "2020-08-14T13:36:59.353392Z",
     "shell.execute_reply": "2020-08-14T13:36:59.353892Z"
    },
    "papermill": {
     "duration": 0.027389,
     "end_time": "2020-08-14T13:36:59.354028",
     "exception": false,
     "start_time": "2020-08-14T13:36:59.326639",
     "status": "completed"
    },
    "tags": []
   },
   "outputs": [],
   "source": [
    "#hide\n",
    "dfc_cases = dft_cases.groupby('state')[dt_today].sum()\n",
    "dfc_deaths = dft_deaths.groupby('state')[dt_today].sum()\n",
    "dfp_cases = dft_cases.groupby('state')[dt_yday].sum()\n",
    "dfp_deaths = dft_deaths.groupby('state')[dt_yday].sum()"
   ]
  },
  {
   "cell_type": "code",
   "execution_count": 11,
   "metadata": {
    "execution": {
     "iopub.execute_input": "2020-08-14T13:36:59.398602Z",
     "iopub.status.busy": "2020-08-14T13:36:59.398014Z",
     "iopub.status.idle": "2020-08-14T13:36:59.404533Z",
     "shell.execute_reply": "2020-08-14T13:36:59.403993Z"
    },
    "papermill": {
     "duration": 0.035512,
     "end_time": "2020-08-14T13:36:59.404655",
     "exception": false,
     "start_time": "2020-08-14T13:36:59.369143",
     "status": "completed"
    },
    "tags": []
   },
   "outputs": [
    {
     "data": {
      "text/html": [
       "<div>\n",
       "<style scoped>\n",
       "    .dataframe tbody tr th:only-of-type {\n",
       "        vertical-align: middle;\n",
       "    }\n",
       "\n",
       "    .dataframe tbody tr th {\n",
       "        vertical-align: top;\n",
       "    }\n",
       "\n",
       "    .dataframe thead th {\n",
       "        text-align: right;\n",
       "    }\n",
       "</style>\n",
       "<table border=\"1\" class=\"dataframe\">\n",
       "  <thead>\n",
       "    <tr style=\"text-align: right;\">\n",
       "      <th></th>\n",
       "      <th>states</th>\n",
       "      <th>Cases</th>\n",
       "      <th>Deaths</th>\n",
       "      <th>PCases</th>\n",
       "      <th>PDeaths</th>\n",
       "    </tr>\n",
       "  </thead>\n",
       "  <tbody>\n",
       "    <tr>\n",
       "      <th>0</th>\n",
       "      <td>Maharashtra</td>\n",
       "      <td>560126</td>\n",
       "      <td>19063</td>\n",
       "      <td>560126</td>\n",
       "      <td>19063</td>\n",
       "    </tr>\n",
       "    <tr>\n",
       "      <th>1</th>\n",
       "      <td>Tamil Nadu</td>\n",
       "      <td>320355</td>\n",
       "      <td>5397</td>\n",
       "      <td>320355</td>\n",
       "      <td>5397</td>\n",
       "    </tr>\n",
       "    <tr>\n",
       "      <th>2</th>\n",
       "      <td>Andhra Pradesh</td>\n",
       "      <td>273085</td>\n",
       "      <td>2475</td>\n",
       "      <td>264142</td>\n",
       "      <td>2378</td>\n",
       "    </tr>\n",
       "    <tr>\n",
       "      <th>3</th>\n",
       "      <td>Karnataka</td>\n",
       "      <td>203200</td>\n",
       "      <td>3614</td>\n",
       "      <td>203200</td>\n",
       "      <td>3614</td>\n",
       "    </tr>\n",
       "    <tr>\n",
       "      <th>4</th>\n",
       "      <td>Delhi</td>\n",
       "      <td>150652</td>\n",
       "      <td>4178</td>\n",
       "      <td>149460</td>\n",
       "      <td>4167</td>\n",
       "    </tr>\n",
       "  </tbody>\n",
       "</table>\n",
       "</div>"
      ],
      "text/plain": [
       "           states   Cases  Deaths  PCases  PDeaths\n",
       "0     Maharashtra  560126   19063  560126    19063\n",
       "1      Tamil Nadu  320355    5397  320355     5397\n",
       "2  Andhra Pradesh  273085    2475  264142     2378\n",
       "3       Karnataka  203200    3614  203200     3614\n",
       "4           Delhi  150652    4178  149460     4167"
      ]
     },
     "execution_count": 11,
     "metadata": {},
     "output_type": "execute_result"
    }
   ],
   "source": [
    "#hide\n",
    "df_table = pd.DataFrame({'states': dfc_cases.index, 'Cases': dfc_cases.values, 'Deaths': dfc_deaths.values, 'PCases': dfp_cases.values, 'PDeaths': dfp_deaths.values}).set_index('states')\n",
    "df_table = df_table.sort_values(by = ['Cases','Deaths'], ascending = [False, False])\n",
    "df_table = df_table.reset_index()\n",
    "df_table.head()"
   ]
  },
  {
   "cell_type": "code",
   "execution_count": 12,
   "metadata": {
    "execution": {
     "iopub.execute_input": "2020-08-14T13:36:59.440678Z",
     "iopub.status.busy": "2020-08-14T13:36:59.440114Z",
     "iopub.status.idle": "2020-08-14T13:36:59.449019Z",
     "shell.execute_reply": "2020-08-14T13:36:59.449481Z"
    },
    "papermill": {
     "duration": 0.030059,
     "end_time": "2020-08-14T13:36:59.449617",
     "exception": false,
     "start_time": "2020-08-14T13:36:59.419558",
     "status": "completed"
    },
    "tags": []
   },
   "outputs": [],
   "source": [
    "#hide\n",
    "for c in 'Cases, Deaths'.split(', '):\n",
    "    df_table[f'{c} (+)'] = (df_table[c] - df_table[f'P{c}']).clip(0)\n",
    "df_table['Fatality Rate'] = (100* df_table['Deaths']/ df_table['Cases']).round(2)"
   ]
  },
  {
   "cell_type": "code",
   "execution_count": 13,
   "metadata": {
    "execution": {
     "iopub.execute_input": "2020-08-14T13:36:59.492524Z",
     "iopub.status.busy": "2020-08-14T13:36:59.491942Z",
     "iopub.status.idle": "2020-08-14T13:36:59.495498Z",
     "shell.execute_reply": "2020-08-14T13:36:59.495023Z"
    },
    "papermill": {
     "duration": 0.030699,
     "end_time": "2020-08-14T13:36:59.495628",
     "exception": false,
     "start_time": "2020-08-14T13:36:59.464929",
     "status": "completed"
    },
    "tags": []
   },
   "outputs": [
    {
     "data": {
      "text/html": [
       "<div>\n",
       "<style scoped>\n",
       "    .dataframe tbody tr th:only-of-type {\n",
       "        vertical-align: middle;\n",
       "    }\n",
       "\n",
       "    .dataframe tbody tr th {\n",
       "        vertical-align: top;\n",
       "    }\n",
       "\n",
       "    .dataframe thead th {\n",
       "        text-align: right;\n",
       "    }\n",
       "</style>\n",
       "<table border=\"1\" class=\"dataframe\">\n",
       "  <thead>\n",
       "    <tr style=\"text-align: right;\">\n",
       "      <th></th>\n",
       "      <th>states</th>\n",
       "      <th>Cases</th>\n",
       "      <th>Deaths</th>\n",
       "      <th>PCases</th>\n",
       "      <th>PDeaths</th>\n",
       "      <th>Cases (+)</th>\n",
       "      <th>Deaths (+)</th>\n",
       "      <th>Fatality Rate</th>\n",
       "    </tr>\n",
       "  </thead>\n",
       "  <tbody>\n",
       "    <tr>\n",
       "      <th>0</th>\n",
       "      <td>Maharashtra</td>\n",
       "      <td>560126</td>\n",
       "      <td>19063</td>\n",
       "      <td>560126</td>\n",
       "      <td>19063</td>\n",
       "      <td>0</td>\n",
       "      <td>0</td>\n",
       "      <td>3.40</td>\n",
       "    </tr>\n",
       "    <tr>\n",
       "      <th>1</th>\n",
       "      <td>Tamil Nadu</td>\n",
       "      <td>320355</td>\n",
       "      <td>5397</td>\n",
       "      <td>320355</td>\n",
       "      <td>5397</td>\n",
       "      <td>0</td>\n",
       "      <td>0</td>\n",
       "      <td>1.68</td>\n",
       "    </tr>\n",
       "    <tr>\n",
       "      <th>2</th>\n",
       "      <td>Andhra Pradesh</td>\n",
       "      <td>273085</td>\n",
       "      <td>2475</td>\n",
       "      <td>264142</td>\n",
       "      <td>2378</td>\n",
       "      <td>8943</td>\n",
       "      <td>97</td>\n",
       "      <td>0.91</td>\n",
       "    </tr>\n",
       "    <tr>\n",
       "      <th>3</th>\n",
       "      <td>Karnataka</td>\n",
       "      <td>203200</td>\n",
       "      <td>3614</td>\n",
       "      <td>203200</td>\n",
       "      <td>3614</td>\n",
       "      <td>0</td>\n",
       "      <td>0</td>\n",
       "      <td>1.78</td>\n",
       "    </tr>\n",
       "    <tr>\n",
       "      <th>4</th>\n",
       "      <td>Delhi</td>\n",
       "      <td>150652</td>\n",
       "      <td>4178</td>\n",
       "      <td>149460</td>\n",
       "      <td>4167</td>\n",
       "      <td>1192</td>\n",
       "      <td>11</td>\n",
       "      <td>2.77</td>\n",
       "    </tr>\n",
       "  </tbody>\n",
       "</table>\n",
       "</div>"
      ],
      "text/plain": [
       "           states   Cases  Deaths  PCases  PDeaths  Cases (+)  Deaths (+)  \\\n",
       "0     Maharashtra  560126   19063  560126    19063          0           0   \n",
       "1      Tamil Nadu  320355    5397  320355     5397          0           0   \n",
       "2  Andhra Pradesh  273085    2475  264142     2378       8943          97   \n",
       "3       Karnataka  203200    3614  203200     3614          0           0   \n",
       "4           Delhi  150652    4178  149460     4167       1192          11   \n",
       "\n",
       "   Fatality Rate  \n",
       "0           3.40  \n",
       "1           1.68  \n",
       "2           0.91  \n",
       "3           1.78  \n",
       "4           2.77  "
      ]
     },
     "execution_count": 13,
     "metadata": {},
     "output_type": "execute_result"
    }
   ],
   "source": [
    "#hide\n",
    "df_table.head()"
   ]
  },
  {
   "cell_type": "code",
   "execution_count": 14,
   "metadata": {
    "execution": {
     "iopub.execute_input": "2020-08-14T13:36:59.533843Z",
     "iopub.status.busy": "2020-08-14T13:36:59.533300Z",
     "iopub.status.idle": "2020-08-14T13:36:59.550819Z",
     "shell.execute_reply": "2020-08-14T13:36:59.550305Z"
    },
    "papermill": {
     "duration": 0.038198,
     "end_time": "2020-08-14T13:36:59.550947",
     "exception": false,
     "start_time": "2020-08-14T13:36:59.512749",
     "status": "completed"
    },
    "tags": []
   },
   "outputs": [
    {
     "data": {
      "text/plain": [
       "{'updated': '2020-08-14',\n",
       " 'since': '2020-08-13',\n",
       " 'Cases': 2483895,\n",
       " 'PCases': 2459612,\n",
       " 'Deaths': 48371,\n",
       " 'PDeaths': 48144,\n",
       " 'Cases (+)': 24283,\n",
       " 'Deaths (+)': 227}"
      ]
     },
     "execution_count": 14,
     "metadata": {},
     "output_type": "execute_result"
    }
   ],
   "source": [
    "#hide\n",
    "summary = {'updated':dates[-1], 'since':dates[-2]}\n",
    "list_names = ['Cases', 'PCases', 'Deaths', 'PDeaths', 'Cases (+)', 'Deaths (+)']\n",
    "for name in list_names:\n",
    "    summary[name] = df_table.sum()[name]\n",
    "summary"
   ]
  },
  {
   "cell_type": "code",
   "execution_count": 15,
   "metadata": {
    "execution": {
     "iopub.execute_input": "2020-08-14T13:36:59.592403Z",
     "iopub.status.busy": "2020-08-14T13:36:59.591797Z",
     "iopub.status.idle": "2020-08-14T13:36:59.593540Z",
     "shell.execute_reply": "2020-08-14T13:36:59.593964Z"
    },
    "papermill": {
     "duration": 0.024724,
     "end_time": "2020-08-14T13:36:59.594105",
     "exception": false,
     "start_time": "2020-08-14T13:36:59.569381",
     "status": "completed"
    },
    "tags": []
   },
   "outputs": [],
   "source": [
    "#hide\n",
    "overview = '''\n",
    "<!-- #######  HTML!! #########-->\n",
    "<h1 style=\"color: #5e9ca0; text-align: center;\">India</h1>\n",
    "<p style=\"text-align: center;\">Last update: <strong>{update}</strong></p>\n",
    "<p style=\"text-align: center;\">Confirmed cases:</p>\n",
    "<p style=\"text-align: center;font-size:24px;\">{cases} (<span style=\"color: #ff0000;\">+{new}</span>)</p>\n",
    "<p style=\"text-align: center;\">Confirmed deaths:</p>\n",
    "<p style=\"text-align: center;font-size:24px;\">{deaths} (<span style=\"color: #ff0000;\">+{dnew}</span>)</p>\n",
    "'''"
   ]
  },
  {
   "cell_type": "code",
   "execution_count": 16,
   "metadata": {
    "execution": {
     "iopub.execute_input": "2020-08-14T13:36:59.632607Z",
     "iopub.status.busy": "2020-08-14T13:36:59.632025Z",
     "iopub.status.idle": "2020-08-14T13:36:59.634528Z",
     "shell.execute_reply": "2020-08-14T13:36:59.634941Z"
    },
    "papermill": {
     "duration": 0.024948,
     "end_time": "2020-08-14T13:36:59.635074",
     "exception": false,
     "start_time": "2020-08-14T13:36:59.610126",
     "status": "completed"
    },
    "tags": []
   },
   "outputs": [
    {
     "data": {
      "text/html": [
       "\n",
       "<!-- #######  HTML!! #########-->\n",
       "<h1 style=\"color: #5e9ca0; text-align: center;\">India</h1>\n",
       "<p style=\"text-align: center;\">Last update: <strong>2020-08-14</strong></p>\n",
       "<p style=\"text-align: center;\">Confirmed cases:</p>\n",
       "<p style=\"text-align: center;font-size:24px;\">2483895 (<span style=\"color: #ff0000;\">+24283</span>)</p>\n",
       "<p style=\"text-align: center;\">Confirmed deaths:</p>\n",
       "<p style=\"text-align: center;font-size:24px;\">48371 (<span style=\"color: #ff0000;\">+227</span>)</p>\n"
      ],
      "text/plain": [
       "<IPython.core.display.HTML object>"
      ]
     },
     "metadata": {},
     "output_type": "display_data"
    }
   ],
   "source": [
    "#hide_input\n",
    "update = summary['updated']\n",
    "cases = summary['Cases']\n",
    "new = summary['Cases (+)']\n",
    "deaths = summary['Deaths']\n",
    "dnew = summary['Deaths (+)']\n",
    "\n",
    "html = HTML(overview.format(update=update, cases=cases,new=new,deaths=deaths,dnew=dnew))\n",
    "\n",
    "display(html)"
   ]
  },
  {
   "cell_type": "code",
   "execution_count": 17,
   "metadata": {
    "execution": {
     "iopub.execute_input": "2020-08-14T13:36:59.676278Z",
     "iopub.status.busy": "2020-08-14T13:36:59.675404Z",
     "iopub.status.idle": "2020-08-14T13:36:59.679408Z",
     "shell.execute_reply": "2020-08-14T13:36:59.679849Z"
    },
    "papermill": {
     "duration": 0.028866,
     "end_time": "2020-08-14T13:36:59.679982",
     "exception": false,
     "start_time": "2020-08-14T13:36:59.651116",
     "status": "completed"
    },
    "tags": []
   },
   "outputs": [],
   "source": [
    "#hide\n",
    "dt_cols = list(dft_cases.columns[1:])\n",
    "dft_ct_new_cases = dft_cases.groupby('state')[dt_cols].sum().diff(axis=1).fillna(0).astype(int)\n",
    "dft_ct_new_cases.sort_values(by = dates[-1], ascending = False,inplace = True)"
   ]
  },
  {
   "cell_type": "code",
   "execution_count": 18,
   "metadata": {
    "execution": {
     "iopub.execute_input": "2020-08-14T13:36:59.730548Z",
     "iopub.status.busy": "2020-08-14T13:36:59.729987Z",
     "iopub.status.idle": "2020-08-14T13:36:59.733303Z",
     "shell.execute_reply": "2020-08-14T13:36:59.732775Z"
    },
    "papermill": {
     "duration": 0.036937,
     "end_time": "2020-08-14T13:36:59.733415",
     "exception": false,
     "start_time": "2020-08-14T13:36:59.696478",
     "status": "completed"
    },
    "tags": []
   },
   "outputs": [
    {
     "data": {
      "text/html": [
       "<div>\n",
       "<style scoped>\n",
       "    .dataframe tbody tr th:only-of-type {\n",
       "        vertical-align: middle;\n",
       "    }\n",
       "\n",
       "    .dataframe tbody tr th {\n",
       "        vertical-align: top;\n",
       "    }\n",
       "\n",
       "    .dataframe thead th {\n",
       "        text-align: right;\n",
       "    }\n",
       "</style>\n",
       "<table border=\"1\" class=\"dataframe\">\n",
       "  <thead>\n",
       "    <tr style=\"text-align: right;\">\n",
       "      <th>states</th>\n",
       "      <th>2020-07-01</th>\n",
       "      <th>2020-07-02</th>\n",
       "      <th>2020-07-03</th>\n",
       "      <th>2020-07-04</th>\n",
       "      <th>2020-07-05</th>\n",
       "      <th>2020-07-06</th>\n",
       "      <th>2020-07-07</th>\n",
       "      <th>2020-07-08</th>\n",
       "      <th>2020-07-09</th>\n",
       "      <th>2020-07-10</th>\n",
       "      <th>...</th>\n",
       "      <th>2020-08-05</th>\n",
       "      <th>2020-08-06</th>\n",
       "      <th>2020-08-07</th>\n",
       "      <th>2020-08-08</th>\n",
       "      <th>2020-08-09</th>\n",
       "      <th>2020-08-10</th>\n",
       "      <th>2020-08-11</th>\n",
       "      <th>2020-08-12</th>\n",
       "      <th>2020-08-13</th>\n",
       "      <th>2020-08-14</th>\n",
       "    </tr>\n",
       "    <tr>\n",
       "      <th>state</th>\n",
       "      <th></th>\n",
       "      <th></th>\n",
       "      <th></th>\n",
       "      <th></th>\n",
       "      <th></th>\n",
       "      <th></th>\n",
       "      <th></th>\n",
       "      <th></th>\n",
       "      <th></th>\n",
       "      <th></th>\n",
       "      <th></th>\n",
       "      <th></th>\n",
       "      <th></th>\n",
       "      <th></th>\n",
       "      <th></th>\n",
       "      <th></th>\n",
       "      <th></th>\n",
       "      <th></th>\n",
       "      <th></th>\n",
       "      <th></th>\n",
       "      <th></th>\n",
       "    </tr>\n",
       "  </thead>\n",
       "  <tbody>\n",
       "    <tr>\n",
       "      <th>Andhra Pradesh</th>\n",
       "      <td>0</td>\n",
       "      <td>845</td>\n",
       "      <td>837</td>\n",
       "      <td>765</td>\n",
       "      <td>998</td>\n",
       "      <td>1322</td>\n",
       "      <td>1178</td>\n",
       "      <td>1062</td>\n",
       "      <td>1555</td>\n",
       "      <td>1608</td>\n",
       "      <td>...</td>\n",
       "      <td>10128</td>\n",
       "      <td>10328</td>\n",
       "      <td>10171</td>\n",
       "      <td>10080</td>\n",
       "      <td>10820</td>\n",
       "      <td>7665</td>\n",
       "      <td>9024</td>\n",
       "      <td>9597</td>\n",
       "      <td>9996</td>\n",
       "      <td>8943</td>\n",
       "    </tr>\n",
       "    <tr>\n",
       "      <th>Uttar Pradesh</th>\n",
       "      <td>0</td>\n",
       "      <td>769</td>\n",
       "      <td>972</td>\n",
       "      <td>757</td>\n",
       "      <td>1153</td>\n",
       "      <td>929</td>\n",
       "      <td>1332</td>\n",
       "      <td>1188</td>\n",
       "      <td>1206</td>\n",
       "      <td>1338</td>\n",
       "      <td>...</td>\n",
       "      <td>4078</td>\n",
       "      <td>4586</td>\n",
       "      <td>4404</td>\n",
       "      <td>4660</td>\n",
       "      <td>4571</td>\n",
       "      <td>4113</td>\n",
       "      <td>5041</td>\n",
       "      <td>4475</td>\n",
       "      <td>4537</td>\n",
       "      <td>4512</td>\n",
       "    </tr>\n",
       "    <tr>\n",
       "      <th>Bihar</th>\n",
       "      <td>0</td>\n",
       "      <td>478</td>\n",
       "      <td>426</td>\n",
       "      <td>349</td>\n",
       "      <td>403</td>\n",
       "      <td>280</td>\n",
       "      <td>385</td>\n",
       "      <td>749</td>\n",
       "      <td>704</td>\n",
       "      <td>352</td>\n",
       "      <td>...</td>\n",
       "      <td>2701</td>\n",
       "      <td>3416</td>\n",
       "      <td>3646</td>\n",
       "      <td>3992</td>\n",
       "      <td>3934</td>\n",
       "      <td>3021</td>\n",
       "      <td>4071</td>\n",
       "      <td>3741</td>\n",
       "      <td>3906</td>\n",
       "      <td>3911</td>\n",
       "    </tr>\n",
       "    <tr>\n",
       "      <th>Odisha</th>\n",
       "      <td>0</td>\n",
       "      <td>229</td>\n",
       "      <td>561</td>\n",
       "      <td>495</td>\n",
       "      <td>469</td>\n",
       "      <td>456</td>\n",
       "      <td>571</td>\n",
       "      <td>527</td>\n",
       "      <td>577</td>\n",
       "      <td>755</td>\n",
       "      <td>...</td>\n",
       "      <td>1337</td>\n",
       "      <td>1699</td>\n",
       "      <td>1833</td>\n",
       "      <td>1643</td>\n",
       "      <td>1734</td>\n",
       "      <td>1528</td>\n",
       "      <td>1341</td>\n",
       "      <td>1876</td>\n",
       "      <td>1981</td>\n",
       "      <td>1977</td>\n",
       "    </tr>\n",
       "    <tr>\n",
       "      <th>Telangana</th>\n",
       "      <td>0</td>\n",
       "      <td>1213</td>\n",
       "      <td>1892</td>\n",
       "      <td>1850</td>\n",
       "      <td>1590</td>\n",
       "      <td>1831</td>\n",
       "      <td>1879</td>\n",
       "      <td>1924</td>\n",
       "      <td>1410</td>\n",
       "      <td>1278</td>\n",
       "      <td>...</td>\n",
       "      <td>2012</td>\n",
       "      <td>2092</td>\n",
       "      <td>2207</td>\n",
       "      <td>2256</td>\n",
       "      <td>1982</td>\n",
       "      <td>1256</td>\n",
       "      <td>1896</td>\n",
       "      <td>1897</td>\n",
       "      <td>1931</td>\n",
       "      <td>1921</td>\n",
       "    </tr>\n",
       "  </tbody>\n",
       "</table>\n",
       "<p>5 rows × 45 columns</p>\n",
       "</div>"
      ],
      "text/plain": [
       "states          2020-07-01  2020-07-02  2020-07-03  2020-07-04  2020-07-05  \\\n",
       "state                                                                        \n",
       "Andhra Pradesh           0         845         837         765         998   \n",
       "Uttar Pradesh            0         769         972         757        1153   \n",
       "Bihar                    0         478         426         349         403   \n",
       "Odisha                   0         229         561         495         469   \n",
       "Telangana                0        1213        1892        1850        1590   \n",
       "\n",
       "states          2020-07-06  2020-07-07  2020-07-08  2020-07-09  2020-07-10  \\\n",
       "state                                                                        \n",
       "Andhra Pradesh        1322        1178        1062        1555        1608   \n",
       "Uttar Pradesh          929        1332        1188        1206        1338   \n",
       "Bihar                  280         385         749         704         352   \n",
       "Odisha                 456         571         527         577         755   \n",
       "Telangana             1831        1879        1924        1410        1278   \n",
       "\n",
       "states          ...  2020-08-05  2020-08-06  2020-08-07  2020-08-08  \\\n",
       "state           ...                                                   \n",
       "Andhra Pradesh  ...       10128       10328       10171       10080   \n",
       "Uttar Pradesh   ...        4078        4586        4404        4660   \n",
       "Bihar           ...        2701        3416        3646        3992   \n",
       "Odisha          ...        1337        1699        1833        1643   \n",
       "Telangana       ...        2012        2092        2207        2256   \n",
       "\n",
       "states          2020-08-09  2020-08-10  2020-08-11  2020-08-12  2020-08-13  \\\n",
       "state                                                                        \n",
       "Andhra Pradesh       10820        7665        9024        9597        9996   \n",
       "Uttar Pradesh         4571        4113        5041        4475        4537   \n",
       "Bihar                 3934        3021        4071        3741        3906   \n",
       "Odisha                1734        1528        1341        1876        1981   \n",
       "Telangana             1982        1256        1896        1897        1931   \n",
       "\n",
       "states          2020-08-14  \n",
       "state                       \n",
       "Andhra Pradesh        8943  \n",
       "Uttar Pradesh         4512  \n",
       "Bihar                 3911  \n",
       "Odisha                1977  \n",
       "Telangana             1921  \n",
       "\n",
       "[5 rows x 45 columns]"
      ]
     },
     "execution_count": 18,
     "metadata": {},
     "output_type": "execute_result"
    }
   ],
   "source": [
    "#hide\n",
    "dft_ct_new_cases.head()"
   ]
  },
  {
   "cell_type": "code",
   "execution_count": 19,
   "metadata": {
    "execution": {
     "iopub.execute_input": "2020-08-14T13:36:59.786297Z",
     "iopub.status.busy": "2020-08-14T13:36:59.785650Z",
     "iopub.status.idle": "2020-08-14T13:37:02.154523Z",
     "shell.execute_reply": "2020-08-14T13:37:02.155031Z"
    },
    "papermill": {
     "duration": 2.405333,
     "end_time": "2020-08-14T13:37:02.155203",
     "exception": false,
     "start_time": "2020-08-14T13:36:59.749870",
     "status": "completed"
    },
    "tags": []
   },
   "outputs": [
    {
     "data": {
      "image/png": "[encoded data removed]",
      "text/plain": [
       "<Figure size 1296x2016 with 11 Axes>"
      ]
     },
     "metadata": {
      "needs_background": "light"
     },
     "output_type": "display_data"
    }
   ],
   "source": [
    "#hide_input\n",
    "df = dft_ct_new_cases.copy()\n",
    "df.loc['Total'] = df.sum()\n",
    "n = 5\n",
    "ax = []\n",
    "fig = plt.figure(figsize = (18,28))\n",
    "gs = fig.add_gridspec(n+2, 5)\n",
    "# gs = fig.add_gridspec(2, 3)\n",
    "ax1 = fig.add_subplot(gs[0, :])\n",
    "ef = df.loc['Total'].rename_axis('date').reset_index()\n",
    "ef['date'] = ef['date'].astype('datetime64[ns]')\n",
    "ax1.bar(ef.date,ef.Total,alpha=0.3,color='#007acc')\n",
    "ax1.plot(ef.date,ef.Total , marker=\"o\", color='#007acc')\n",
    "ax1.xaxis.set_major_locator(mdates.WeekdayLocator())\n",
    "ax1.xaxis.set_major_formatter(mdates.DateFormatter('%b %d'))\n",
    "ax1.text(0.02, 0.5,'India daily case count', transform = ax1.transAxes, fontsize=25);\n",
    "ax1.spines['right'].set_visible(False)\n",
    "ax1.spines['top'].set_visible(False)\n",
    "\n",
    "ax2 = fig.add_subplot(gs[1,0])\n",
    "ef = df.loc['Maharashtra'].rename_axis('date').reset_index()\n",
    "ef['date'] = ef['date'].astype('datetime64[ns]')\n",
    "\n",
    "ax2.bar(ef.date, ef.Maharashtra,color = '#007acc',alpha=0.5)\n",
    "ax2.xaxis.set_major_locator(mdates.WeekdayLocator())\n",
    "ax2.xaxis.set_major_formatter(mdates.DateFormatter('%b %d'))\n",
    "ax2.set_xticks(ax2.get_xticks()[::3])\n",
    "maxyval = ef.Maharashtra.max()\n",
    "ax2.set_ylim([0,maxyval])\n",
    "ax2.text(0.05, 0.9,'Maharashtra', transform = ax2.transAxes, fontsize=20);\n",
    "ax2.spines['right'].set_visible(False)\n",
    "ax2.spines['top'].set_visible(False)\n",
    "\n",
    "\n",
    "ax3 = fig.add_subplot(gs[1,1])\n",
    "ef = df.loc['Tamil Nadu'].rename_axis('date').reset_index()\n",
    "ef['date'] = ef['date'].astype('datetime64[ns]')\n",
    "ax3.bar(ef.date, ef['Tamil Nadu'],color = '#007acc',alpha=0.5,)\n",
    "ax3.xaxis.set_major_locator(mdates.WeekdayLocator())\n",
    "ax3.xaxis.set_major_formatter(mdates.DateFormatter('%b %d'))\n",
    "ax3.set_xticks(ax3.get_xticks()[::3])\n",
    "ax3.text(0.05, 0.9,'Tamil Nadu', transform = ax3.transAxes, fontsize=20);\n",
    "ax3.spines['right'].set_visible(False)\n",
    "ax3.spines['top'].set_visible(False)\n",
    "\n",
    "ax5 = fig.add_subplot(gs[1,3])\n",
    "ef = df.loc['Telangana'].rename_axis('date').reset_index()\n",
    "ef['date'] = ef['date'].astype('datetime64[ns]')\n",
    "ax5.bar(ef.date, ef['Telangana'],color = '#007acc',alpha=0.5,)\n",
    "ax5.xaxis.set_major_locator(mdates.WeekdayLocator())\n",
    "ax5.xaxis.set_major_formatter(mdates.DateFormatter('%b %d'))\n",
    "ax5.set_xticks(ax5.get_xticks()[::3])\n",
    "ax5.text(0.05, 0.9,'Telangana', transform = ax5.transAxes, fontsize=20);\n",
    "ax5.spines['right'].set_visible(False)\n",
    "ax5.spines['top'].set_visible(False)\n",
    "\n",
    "ax6 = fig.add_subplot(gs[1,4])\n",
    "ef = df.loc['Andhra Pradesh'].rename_axis('date').reset_index()\n",
    "ef['date'] = ef['date'].astype('datetime64[ns]')\n",
    "ax6.bar(ef.date, ef['Andhra Pradesh'],color = '#007acc',alpha=0.5,)\n",
    "ax6.xaxis.set_major_locator(mdates.WeekdayLocator())\n",
    "ax6.xaxis.set_major_formatter(mdates.DateFormatter('%b %d'))\n",
    "ax6.set_xticks(ax6.get_xticks()[::3])\n",
    "ax6.text(0.05, 1,'Andhra Pradesh', transform = ax6.transAxes, fontsize=20);\n",
    "ax6.spines['right'].set_visible(False)\n",
    "ax6.spines['top'].set_visible(False)\n",
    "\n",
    "ax4 = fig.add_subplot(gs[1,2])\n",
    "ef = df.loc['Delhi'].rename_axis('date').reset_index()\n",
    "ef['date'] = ef['date'].astype('datetime64[ns]')\n",
    "ax4.bar(ef.date, ef.Delhi,color = '#007acc',alpha=0.5)\n",
    "ax4.set_xticks([])\n",
    "ax4.xaxis.set_major_locator(mdates.WeekdayLocator())\n",
    "ax4.xaxis.set_major_formatter(mdates.DateFormatter('%b %d'))\n",
    "ax4.set_xticks(ax4.get_xticks()[::3])\n",
    "ax4.spines['right'].set_visible(False)\n",
    "ax4.spines['top'].set_visible(False)\n",
    "\n",
    "ax4.text(0.05, 1,'Delhi', transform = ax4.transAxes, fontsize=20)\n",
    "\n",
    "for i in range(n):\n",
    "    \n",
    "    ax.append(fig.add_subplot(gs[i+2,:]))\n",
    "    ef = df.iloc[i+3].rename_axis('date').reset_index()\n",
    "    ef['date'] = ef['date'].astype('datetime64[ns]')\n",
    "    ax[i].bar(ef.date,ef.iloc[:,-1],color = '#007acc',alpha=0.3)\n",
    "    ax[i].plot(ef.date,ef.iloc[:,-1],marker='o',color='#007acc')\n",
    "    ax[i].text(0.02,0.5,f'{ef.columns.values[-1]}',transform = ax[i].transAxes, fontsize = 20);\n",
    "    ax[i].xaxis.set_major_locator(mdates.WeekdayLocator())\n",
    "    ax[i].xaxis.set_major_formatter(mdates.DateFormatter('%b %d'))\n",
    "    ax[i].set_ylim([0,7000])\n",
    "    ax[i].spines['right'].set_visible(False)\n",
    "    ax[i].spines['top'].set_visible(False)\n",
    "plt.tight_layout()\n"
   ]
  },
  {
   "cell_type": "code",
   "execution_count": 20,
   "metadata": {
    "execution": {
     "iopub.execute_input": "2020-08-14T13:37:02.245283Z",
     "iopub.status.busy": "2020-08-14T13:37:02.244719Z",
     "iopub.status.idle": "2020-08-14T13:37:02.248229Z",
     "shell.execute_reply": "2020-08-14T13:37:02.247336Z"
    },
    "papermill": {
     "duration": 0.047261,
     "end_time": "2020-08-14T13:37:02.248412",
     "exception": false,
     "start_time": "2020-08-14T13:37:02.201151",
     "status": "completed"
    },
    "tags": []
   },
   "outputs": [
    {
     "name": "stdout",
     "output_type": "stream",
     "text": [
      "                                   states   Cases  Deaths  PCases  PDeaths  Cases (+)  Deaths (+)  Fatality Rate\n",
      "                              Maharashtra  560126   19063  560126    19063          0           0           3.40\n",
      "                               Tamil Nadu  320355    5397  320355     5397          0           0           1.68\n",
      "                           Andhra Pradesh  273085    2475  264142     2378       8943          97           0.91\n",
      "                                Karnataka  203200    3614  203200     3614          0           0           1.78\n",
      "                                    Delhi  150652    4178  149460     4167       1192          11           2.77\n",
      "                            Uttar Pradesh  145287    2335  140775     2280       4512          55           1.61\n",
      "                              West Bengal  107323    2259  107323     2259          0           0           2.10\n",
      "                                    Bihar   98370     500   94459      484       3911          16           0.51\n",
      "                                Telangana   88396     674   86475      665       1921           9           0.76\n",
      "                                  Gujarat   75482    2731   75482     2731          0           0           3.62\n",
      "                                    Assam   71796     169   71796      169          0           0           0.24\n",
      "                                Rajasthan   58027     845   57414      833        613          12           1.46\n",
      "                                   Odisha   54630     377   52653      367       1977          10           0.69\n",
      "                                  Haryana   44817     511   44817      511          0           0           1.14\n",
      "                           Madhya Pradesh   42618    1065   42618     1065          0           0           2.50\n",
      "                                   Kerala   39708     130   39708      130          0           0           0.33\n",
      "                                   Punjab   27936     706   27936      706          0           0           2.53\n",
      "                        Jammu and Kashmir   27489     520   26949      509        540          11           1.89\n",
      "                                Jharkhand   20950     209   20950      209          0           0           1.00\n",
      "                             Chhattisgarh   14030     117   14030      117          0           0           0.83\n",
      "                              Uttarakhand   11302     143   11302      143          0           0           1.27\n",
      "                                      Goa   10494      91   10494       91          0           0           0.87\n",
      "                               Puducherry    7008     106    6680      102        328           4           1.51\n",
      "                                  Tripura    6782      46    6618       44        164           2           0.68\n",
      "                                  Manipur    4112      13    4112       13          0           0           0.32\n",
      "                         Himachal Pradesh    3836      18    3816       18         20           0           0.47\n",
      "                                 Nagaland    3322       7    3168        7        154           0           0.21\n",
      "                        Arunachal Pradesh    2512       4    2512        4          0           0           0.16\n",
      "              Andaman and Nicobar Islands    2037      22    2037       22          0           0           1.08\n",
      "                                   Ladakh    1849       9    1849        9          0           0           0.49\n",
      "                               Chandigarh    1842      28    1842       28          0           0           1.52\n",
      " Dadra and Nagar Haveli and Daman and Diu    1741       2    1741        2          0           0           0.11\n",
      "                                Meghalaya    1193       6    1193        6          0           0           0.50\n",
      "                                   Sikkim     931       1     931        1          0           0           0.11\n",
      "                                  Mizoram     657       0     649        0          8           0           0.00\n",
      "                              Lakshadweep       0       0       0        0          0           0            NaN\n"
     ]
    }
   ],
   "source": [
    "#hide_input\n",
    "print(df_table.to_string(index=False))"
   ]
  },
  {
   "cell_type": "code",
   "execution_count": null,
   "metadata": {
    "papermill": {
     "duration": 0.045982,
     "end_time": "2020-08-14T13:37:02.340432",
     "exception": false,
     "start_time": "2020-08-14T13:37:02.294450",
     "status": "completed"
    },
    "tags": []
   },
   "outputs": [],
   "source": []
  },
  {
   "cell_type": "code",
   "execution_count": null,
   "metadata": {
    "papermill": {
     "duration": 0.108635,
     "end_time": "2020-08-14T13:37:02.498495",
     "exception": false,
     "start_time": "2020-08-14T13:37:02.389860",
     "status": "completed"
    },
    "tags": []
   },
   "outputs": [],
   "source": []
  }
 ],
 "metadata": {
  "kernelspec": {
   "display_name": "Python 3",
   "language": "python",
   "name": "python3"
  },
  "language_info": {
   "codemirror_mode": {
    "name": "ipython",
    "version": 3
   },
   "file_extension": ".py",
   "mimetype": "text/x-python",
   "name": "python",
   "nbconvert_exporter": "python",
   "pygments_lexer": "ipython3",
   "version": "3.6.11"
  },
  "papermill": {
   "duration": 7.270936,
   "end_time": "2020-08-14T13:37:02.956640",
   "environment_variables": {},
   "exception": null,
   "input_path": "latest.ipynb",
   "output_path": "latest.ipynb",
   "parameters": {},
   "start_time": "2020-08-14T13:36:55.685704",
   "version": "2.1.2"
  }
 },
 "nbformat": 4,
 "nbformat_minor": 4
}