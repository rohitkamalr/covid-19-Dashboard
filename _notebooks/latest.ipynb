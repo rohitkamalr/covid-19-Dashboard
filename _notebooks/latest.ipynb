{
 "cells": [
  {
   "cell_type": "markdown",
   "metadata": {
    "papermill": {
     "duration": 0.019936,
     "end_time": "2020-11-20T12:27:03.233124",
     "exception": false,
     "start_time": "2020-11-20T12:27:03.213188",
     "status": "completed"
    },
    "tags": []
   },
   "source": [
    "# Latest COVID-19 India Matplotlib Overview"
   ]
  },
  {
   "cell_type": "code",
   "execution_count": 1,
   "metadata": {
    "execution": {
     "iopub.execute_input": "2020-11-20T12:27:03.273052Z",
     "iopub.status.busy": "2020-11-20T12:27:03.272396Z",
     "iopub.status.idle": "2020-11-20T12:27:03.909683Z",
     "shell.execute_reply": "2020-11-20T12:27:03.909125Z"
    },
    "papermill": {
     "duration": 0.659844,
     "end_time": "2020-11-20T12:27:03.909857",
     "exception": false,
     "start_time": "2020-11-20T12:27:03.250013",
     "status": "completed"
    },
    "tags": []
   },
   "outputs": [],
   "source": [
    "#hide\n",
    "import pandas as pd\n",
    "import numpy as np\n",
    "import requests\n",
    "import json\n",
    "import matplotlib.pyplot as plt\n",
    "import matplotlib.dates as mdates\n",
    "import matplotlib as mpl\n",
    "from IPython.core.display import display,HTML\n",
    "%matplotlib inline\n",
    "from datetime import date"
   ]
  },
  {
   "cell_type": "code",
   "execution_count": 2,
   "metadata": {
    "execution": {
     "iopub.execute_input": "2020-11-20T12:27:03.948948Z",
     "iopub.status.busy": "2020-11-20T12:27:03.948242Z",
     "iopub.status.idle": "2020-11-20T12:27:04.122543Z",
     "shell.execute_reply": "2020-11-20T12:27:04.121977Z"
    },
    "papermill": {
     "duration": 0.197588,
     "end_time": "2020-11-20T12:27:04.122705",
     "exception": false,
     "start_time": "2020-11-20T12:27:03.925117",
     "status": "completed"
    },
    "tags": []
   },
   "outputs": [],
   "source": [
    "#hide\n",
    "df  = pd.read_csv('https://api.covid19india.org/csv/latest/states.csv')\n",
    "df = df[['Date','State','Confirmed','Deceased']]\n",
    "df = df.rename(columns={'Confirmed':'Cases', \"Deceased\":'Deaths'})\n",
    "df_cases = df[[\"Date\",'State','Cases']]\n",
    "df_deaths = df[['Date','State','Deaths']]\n",
    "df_cases1 = df_cases.groupby('Date')\n",
    "df_deaths1= df_deaths.groupby('Date')"
   ]
  },
  {
   "cell_type": "code",
   "execution_count": 3,
   "metadata": {
    "execution": {
     "iopub.execute_input": "2020-11-20T12:27:04.160535Z",
     "iopub.status.busy": "2020-11-20T12:27:04.159811Z",
     "iopub.status.idle": "2020-11-20T12:27:04.179264Z",
     "shell.execute_reply": "2020-11-20T12:27:04.179795Z"
    },
    "papermill": {
     "duration": 0.041632,
     "end_time": "2020-11-20T12:27:04.179988",
     "exception": false,
     "start_time": "2020-11-20T12:27:04.138356",
     "status": "completed"
    },
    "tags": []
   },
   "outputs": [],
   "source": [
    "#hide\n",
    "df_snap = pd.read_csv('data/SnapshotCases-28-July.csv')\n",
    "arr_states = df_snap['states'].unique()\n",
    "arr_dates = df['Date'].unique()\n",
    "df_snap = df_snap.set_index('states')"
   ]
  },
  {
   "cell_type": "code",
   "execution_count": 4,
   "metadata": {
    "execution": {
     "iopub.execute_input": "2020-11-20T12:27:04.218952Z",
     "iopub.status.busy": "2020-11-20T12:27:04.218337Z",
     "iopub.status.idle": "2020-11-20T12:27:04.226299Z",
     "shell.execute_reply": "2020-11-20T12:27:04.225428Z"
    },
    "papermill": {
     "duration": 0.031224,
     "end_time": "2020-11-20T12:27:04.226596",
     "exception": false,
     "start_time": "2020-11-20T12:27:04.195372",
     "status": "completed"
    },
    "tags": []
   },
   "outputs": [
    {
     "data": {
      "text/plain": [
       "array(['Andaman and Nicobar Islands', 'Andhra Pradesh',\n",
       "       'Arunachal Pradesh', 'Assam', 'Bihar', 'Chandigarh',\n",
       "       'Dadra and Nagar Haveli and Daman and Diu', 'Delhi', 'Goa',\n",
       "       'Gujarat', 'Haryana', 'Himachal Pradesh', 'Jammu and Kashmir',\n",
       "       'Jharkhand', 'Karnataka', 'Kerala', 'Lakshadweep',\n",
       "       'Madhya Pradesh', 'Maharashtra', 'Manipur', 'Meghalaya', 'Mizoram',\n",
       "       'Nagaland', 'Odisha', 'Puducherry', 'Punjab', 'Rajasthan',\n",
       "       'Sikkim', 'Tamil Nadu', 'Telangana', 'Tripura', 'Uttar Pradesh',\n",
       "       'West Bengal', 'Chhattisgarh', 'Ladakh', 'Uttarakhand'],\n",
       "      dtype=object)"
      ]
     },
     "execution_count": 4,
     "metadata": {},
     "output_type": "execute_result"
    }
   ],
   "source": [
    "#hide\n",
    "arr_states[-9] = 'Puducherry'\n",
    "arr_states[-10] = 'Odisha'\n",
    "arr_states[6] = 'Dadra and Nagar Haveli and Daman and Diu'\n",
    "arr_states = np.append(arr_states,np.array(['Chhattisgarh','Ladakh','Uttarakhand']))\n",
    "arr_states"
   ]
  },
  {
   "cell_type": "code",
   "execution_count": 5,
   "metadata": {
    "execution": {
     "iopub.execute_input": "2020-11-20T12:27:04.274799Z",
     "iopub.status.busy": "2020-11-20T12:27:04.274152Z",
     "iopub.status.idle": "2020-11-20T12:27:04.282315Z",
     "shell.execute_reply": "2020-11-20T12:27:04.282926Z"
    },
    "papermill": {
     "duration": 0.038367,
     "end_time": "2020-11-20T12:27:04.283102",
     "exception": false,
     "start_time": "2020-11-20T12:27:04.244735",
     "status": "completed"
    },
    "tags": []
   },
   "outputs": [],
   "source": [
    "#hide\n",
    "dates = []\n",
    "for i in arr_dates:\n",
    "    if i>='2020-07-01':\n",
    "        dates.append(i)\n",
    "dict = {'states':dates}\n",
    "for i in arr_states:\n",
    "    dict[i] = [0]*len(dates)\n",
    "dft_cases = pd.DataFrame(dict)\n",
    "dft_deaths = pd.DataFrame(dict)\n"
   ]
  },
  {
   "cell_type": "code",
   "execution_count": 6,
   "metadata": {
    "execution": {
     "iopub.execute_input": "2020-11-20T12:27:04.321911Z",
     "iopub.status.busy": "2020-11-20T12:27:04.321297Z",
     "iopub.status.idle": "2020-11-20T12:27:06.909634Z",
     "shell.execute_reply": "2020-11-20T12:27:06.909011Z"
    },
    "papermill": {
     "duration": 2.611199,
     "end_time": "2020-11-20T12:27:06.909792",
     "exception": false,
     "start_time": "2020-11-20T12:27:04.298593",
     "status": "completed"
    },
    "tags": []
   },
   "outputs": [],
   "source": [
    "#hide\n",
    "for i in range(len(dates)):\n",
    "    df1_deaths = df_deaths1.get_group(dates[i])\n",
    "    for j in range(len(df1_deaths.index)):\n",
    "        if df1_deaths.iloc[j,1] in arr_states:\n",
    "            dft_deaths.loc[i,df1_deaths.iloc[j,1]] = df1_deaths.iloc[j,2]\n",
    "dft_deaths = dft_deaths.set_index('states')"
   ]
  },
  {
   "cell_type": "code",
   "execution_count": 7,
   "metadata": {
    "execution": {
     "iopub.execute_input": "2020-11-20T12:27:06.954314Z",
     "iopub.status.busy": "2020-11-20T12:27:06.953730Z",
     "iopub.status.idle": "2020-11-20T12:27:09.658606Z",
     "shell.execute_reply": "2020-11-20T12:27:09.658002Z"
    },
    "papermill": {
     "duration": 2.729436,
     "end_time": "2020-11-20T12:27:09.658772",
     "exception": false,
     "start_time": "2020-11-20T12:27:06.929336",
     "status": "completed"
    },
    "tags": []
   },
   "outputs": [],
   "source": [
    "#hide\n",
    "for i in range(len(dates)):\n",
    "    df1_cases = df_cases1.get_group(dates[i])\n",
    "    for j in range(len(df1_cases.index)):\n",
    "        if df1_cases.iloc[j,1] in arr_states:\n",
    "            dft_cases.loc[i,df1_cases.iloc[j,1]] = df1_cases.iloc[j,2]\n",
    "dft_cases = dft_cases.set_index('states')"
   ]
  },
  {
   "cell_type": "code",
   "execution_count": 8,
   "metadata": {
    "execution": {
     "iopub.execute_input": "2020-11-20T12:27:09.700652Z",
     "iopub.status.busy": "2020-11-20T12:27:09.699022Z",
     "iopub.status.idle": "2020-11-20T12:27:09.701337Z",
     "shell.execute_reply": "2020-11-20T12:27:09.701840Z"
    },
    "papermill": {
     "duration": 0.025917,
     "end_time": "2020-11-20T12:27:09.702009",
     "exception": false,
     "start_time": "2020-11-20T12:27:09.676092",
     "status": "completed"
    },
    "tags": []
   },
   "outputs": [],
   "source": [
    "#hide\n",
    "dft_cases = dft_cases.T\n",
    "dft_deaths = dft_deaths.T\n",
    "dt_today = dates[-1]\n",
    "dt_yday = dates[-2]"
   ]
  },
  {
   "cell_type": "code",
   "execution_count": 9,
   "metadata": {
    "execution": {
     "iopub.execute_input": "2020-11-20T12:27:09.744631Z",
     "iopub.status.busy": "2020-11-20T12:27:09.743919Z",
     "iopub.status.idle": "2020-11-20T12:27:09.748042Z",
     "shell.execute_reply": "2020-11-20T12:27:09.747415Z"
    },
    "papermill": {
     "duration": 0.030139,
     "end_time": "2020-11-20T12:27:09.748189",
     "exception": false,
     "start_time": "2020-11-20T12:27:09.718050",
     "status": "completed"
    },
    "tags": []
   },
   "outputs": [],
   "source": [
    "#hide\n",
    "dft_cases = dft_cases.reset_index()\n",
    "dft_deaths = dft_deaths.reset_index()\n",
    "dft_cases = dft_cases.rename(columns = {'index':'state'})\n",
    "dft_deaths = dft_deaths.rename(columns = {'index':'state'})"
   ]
  },
  {
   "cell_type": "code",
   "execution_count": 10,
   "metadata": {
    "execution": {
     "iopub.execute_input": "2020-11-20T12:27:09.796973Z",
     "iopub.status.busy": "2020-11-20T12:27:09.796267Z",
     "iopub.status.idle": "2020-11-20T12:27:09.800016Z",
     "shell.execute_reply": "2020-11-20T12:27:09.799242Z"
    },
    "papermill": {
     "duration": 0.034239,
     "end_time": "2020-11-20T12:27:09.800203",
     "exception": false,
     "start_time": "2020-11-20T12:27:09.765964",
     "status": "completed"
    },
    "tags": []
   },
   "outputs": [],
   "source": [
    "#hide\n",
    "dfc_cases = dft_cases.groupby('state')[dt_today].sum()\n",
    "dfc_deaths = dft_deaths.groupby('state')[dt_today].sum()\n",
    "dfp_cases = dft_cases.groupby('state')[dt_yday].sum()\n",
    "dfp_deaths = dft_deaths.groupby('state')[dt_yday].sum()"
   ]
  },
  {
   "cell_type": "code",
   "execution_count": 11,
   "metadata": {
    "execution": {
     "iopub.execute_input": "2020-11-20T12:27:09.853929Z",
     "iopub.status.busy": "2020-11-20T12:27:09.852942Z",
     "iopub.status.idle": "2020-11-20T12:27:09.863058Z",
     "shell.execute_reply": "2020-11-20T12:27:09.863630Z"
    },
    "papermill": {
     "duration": 0.046668,
     "end_time": "2020-11-20T12:27:09.863819",
     "exception": false,
     "start_time": "2020-11-20T12:27:09.817151",
     "status": "completed"
    },
    "tags": []
   },
   "outputs": [
    {
     "data": {
      "text/html": [
       "<div>\n",
       "<style scoped>\n",
       "    .dataframe tbody tr th:only-of-type {\n",
       "        vertical-align: middle;\n",
       "    }\n",
       "\n",
       "    .dataframe tbody tr th {\n",
       "        vertical-align: top;\n",
       "    }\n",
       "\n",
       "    .dataframe thead th {\n",
       "        text-align: right;\n",
       "    }\n",
       "</style>\n",
       "<table border=\"1\" class=\"dataframe\">\n",
       "  <thead>\n",
       "    <tr style=\"text-align: right;\">\n",
       "      <th></th>\n",
       "      <th>states</th>\n",
       "      <th>Cases</th>\n",
       "      <th>Deaths</th>\n",
       "      <th>PCases</th>\n",
       "      <th>PDeaths</th>\n",
       "    </tr>\n",
       "  </thead>\n",
       "  <tbody>\n",
       "    <tr>\n",
       "      <th>0</th>\n",
       "      <td>Maharashtra</td>\n",
       "      <td>1763055</td>\n",
       "      <td>46356</td>\n",
       "      <td>1763055</td>\n",
       "      <td>46356</td>\n",
       "    </tr>\n",
       "    <tr>\n",
       "      <th>1</th>\n",
       "      <td>Karnataka</td>\n",
       "      <td>867780</td>\n",
       "      <td>11604</td>\n",
       "      <td>867780</td>\n",
       "      <td>11604</td>\n",
       "    </tr>\n",
       "    <tr>\n",
       "      <th>2</th>\n",
       "      <td>Andhra Pradesh</td>\n",
       "      <td>858711</td>\n",
       "      <td>6910</td>\n",
       "      <td>858711</td>\n",
       "      <td>6910</td>\n",
       "    </tr>\n",
       "    <tr>\n",
       "      <th>3</th>\n",
       "      <td>Tamil Nadu</td>\n",
       "      <td>764989</td>\n",
       "      <td>11550</td>\n",
       "      <td>764989</td>\n",
       "      <td>11550</td>\n",
       "    </tr>\n",
       "    <tr>\n",
       "      <th>4</th>\n",
       "      <td>Kerala</td>\n",
       "      <td>545642</td>\n",
       "      <td>1970</td>\n",
       "      <td>545642</td>\n",
       "      <td>1970</td>\n",
       "    </tr>\n",
       "  </tbody>\n",
       "</table>\n",
       "</div>"
      ],
      "text/plain": [
       "           states    Cases  Deaths   PCases  PDeaths\n",
       "0     Maharashtra  1763055   46356  1763055    46356\n",
       "1       Karnataka   867780   11604   867780    11604\n",
       "2  Andhra Pradesh   858711    6910   858711     6910\n",
       "3      Tamil Nadu   764989   11550   764989    11550\n",
       "4          Kerala   545642    1970   545642     1970"
      ]
     },
     "execution_count": 11,
     "metadata": {},
     "output_type": "execute_result"
    }
   ],
   "source": [
    "#hide\n",
    "df_table = pd.DataFrame({'states': dfc_cases.index, 'Cases': dfc_cases.values, 'Deaths': dfc_deaths.values, 'PCases': dfp_cases.values, 'PDeaths': dfp_deaths.values}).set_index('states')\n",
    "df_table = df_table.sort_values(by = ['Cases','Deaths'], ascending = [False, False])\n",
    "df_table = df_table.reset_index()\n",
    "df_table.head()"
   ]
  },
  {
   "cell_type": "code",
   "execution_count": 12,
   "metadata": {
    "execution": {
     "iopub.execute_input": "2020-11-20T12:27:09.906928Z",
     "iopub.status.busy": "2020-11-20T12:27:09.906313Z",
     "iopub.status.idle": "2020-11-20T12:27:09.916521Z",
     "shell.execute_reply": "2020-11-20T12:27:09.915940Z"
    },
    "papermill": {
     "duration": 0.034234,
     "end_time": "2020-11-20T12:27:09.916681",
     "exception": false,
     "start_time": "2020-11-20T12:27:09.882447",
     "status": "completed"
    },
    "tags": []
   },
   "outputs": [],
   "source": [
    "#hide\n",
    "for c in 'Cases, Deaths'.split(', '):\n",
    "    df_table[f'{c} (+)'] = (df_table[c] - df_table[f'P{c}']).clip(0)\n",
    "df_table['Fatality Rate'] = (100* df_table['Deaths']/ df_table['Cases']).round(2)"
   ]
  },
  {
   "cell_type": "code",
   "execution_count": 13,
   "metadata": {
    "execution": {
     "iopub.execute_input": "2020-11-20T12:27:09.966117Z",
     "iopub.status.busy": "2020-11-20T12:27:09.965423Z",
     "iopub.status.idle": "2020-11-20T12:27:09.968178Z",
     "shell.execute_reply": "2020-11-20T12:27:09.968885Z"
    },
    "papermill": {
     "duration": 0.033478,
     "end_time": "2020-11-20T12:27:09.969059",
     "exception": false,
     "start_time": "2020-11-20T12:27:09.935581",
     "status": "completed"
    },
    "tags": []
   },
   "outputs": [
    {
     "data": {
      "text/html": [
       "<div>\n",
       "<style scoped>\n",
       "    .dataframe tbody tr th:only-of-type {\n",
       "        vertical-align: middle;\n",
       "    }\n",
       "\n",
       "    .dataframe tbody tr th {\n",
       "        vertical-align: top;\n",
       "    }\n",
       "\n",
       "    .dataframe thead th {\n",
       "        text-align: right;\n",
       "    }\n",
       "</style>\n",
       "<table border=\"1\" class=\"dataframe\">\n",
       "  <thead>\n",
       "    <tr style=\"text-align: right;\">\n",
       "      <th></th>\n",
       "      <th>states</th>\n",
       "      <th>Cases</th>\n",
       "      <th>Deaths</th>\n",
       "      <th>PCases</th>\n",
       "      <th>PDeaths</th>\n",
       "      <th>Cases (+)</th>\n",
       "      <th>Deaths (+)</th>\n",
       "      <th>Fatality Rate</th>\n",
       "    </tr>\n",
       "  </thead>\n",
       "  <tbody>\n",
       "    <tr>\n",
       "      <th>0</th>\n",
       "      <td>Maharashtra</td>\n",
       "      <td>1763055</td>\n",
       "      <td>46356</td>\n",
       "      <td>1763055</td>\n",
       "      <td>46356</td>\n",
       "      <td>0</td>\n",
       "      <td>0</td>\n",
       "      <td>2.63</td>\n",
       "    </tr>\n",
       "    <tr>\n",
       "      <th>1</th>\n",
       "      <td>Karnataka</td>\n",
       "      <td>867780</td>\n",
       "      <td>11604</td>\n",
       "      <td>867780</td>\n",
       "      <td>11604</td>\n",
       "      <td>0</td>\n",
       "      <td>0</td>\n",
       "      <td>1.34</td>\n",
       "    </tr>\n",
       "    <tr>\n",
       "      <th>2</th>\n",
       "      <td>Andhra Pradesh</td>\n",
       "      <td>858711</td>\n",
       "      <td>6910</td>\n",
       "      <td>858711</td>\n",
       "      <td>6910</td>\n",
       "      <td>0</td>\n",
       "      <td>0</td>\n",
       "      <td>0.80</td>\n",
       "    </tr>\n",
       "    <tr>\n",
       "      <th>3</th>\n",
       "      <td>Tamil Nadu</td>\n",
       "      <td>764989</td>\n",
       "      <td>11550</td>\n",
       "      <td>764989</td>\n",
       "      <td>11550</td>\n",
       "      <td>0</td>\n",
       "      <td>0</td>\n",
       "      <td>1.51</td>\n",
       "    </tr>\n",
       "    <tr>\n",
       "      <th>4</th>\n",
       "      <td>Kerala</td>\n",
       "      <td>545642</td>\n",
       "      <td>1970</td>\n",
       "      <td>545642</td>\n",
       "      <td>1970</td>\n",
       "      <td>0</td>\n",
       "      <td>0</td>\n",
       "      <td>0.36</td>\n",
       "    </tr>\n",
       "  </tbody>\n",
       "</table>\n",
       "</div>"
      ],
      "text/plain": [
       "           states    Cases  Deaths   PCases  PDeaths  Cases (+)  Deaths (+)  \\\n",
       "0     Maharashtra  1763055   46356  1763055    46356          0           0   \n",
       "1       Karnataka   867780   11604   867780    11604          0           0   \n",
       "2  Andhra Pradesh   858711    6910   858711     6910          0           0   \n",
       "3      Tamil Nadu   764989   11550   764989    11550          0           0   \n",
       "4          Kerala   545642    1970   545642     1970          0           0   \n",
       "\n",
       "   Fatality Rate  \n",
       "0           2.63  \n",
       "1           1.34  \n",
       "2           0.80  \n",
       "3           1.51  \n",
       "4           0.36  "
      ]
     },
     "execution_count": 13,
     "metadata": {},
     "output_type": "execute_result"
    }
   ],
   "source": [
    "#hide\n",
    "df_table.head()"
   ]
  },
  {
   "cell_type": "code",
   "execution_count": 14,
   "metadata": {
    "execution": {
     "iopub.execute_input": "2020-11-20T12:27:10.011397Z",
     "iopub.status.busy": "2020-11-20T12:27:10.010703Z",
     "iopub.status.idle": "2020-11-20T12:27:10.029466Z",
     "shell.execute_reply": "2020-11-20T12:27:10.028924Z"
    },
    "papermill": {
     "duration": 0.042665,
     "end_time": "2020-11-20T12:27:10.029618",
     "exception": false,
     "start_time": "2020-11-20T12:27:09.986953",
     "status": "completed"
    },
    "tags": []
   },
   "outputs": [
    {
     "data": {
      "text/plain": [
       "{'updated': '2020-11-20',\n",
       " 'since': '2020-11-19',\n",
       " 'Cases': 9006088,\n",
       " 'PCases': 9004325,\n",
       " 'Deaths': 132223,\n",
       " 'PDeaths': 132202,\n",
       " 'Cases (+)': 1763,\n",
       " 'Deaths (+)': 21}"
      ]
     },
     "execution_count": 14,
     "metadata": {},
     "output_type": "execute_result"
    }
   ],
   "source": [
    "#hide\n",
    "summary = {'updated':dates[-1], 'since':dates[-2]}\n",
    "list_names = ['Cases', 'PCases', 'Deaths', 'PDeaths', 'Cases (+)', 'Deaths (+)']\n",
    "for name in list_names:\n",
    "    summary[name] = df_table.sum()[name]\n",
    "summary"
   ]
  },
  {
   "cell_type": "code",
   "execution_count": 15,
   "metadata": {
    "execution": {
     "iopub.execute_input": "2020-11-20T12:27:10.072484Z",
     "iopub.status.busy": "2020-11-20T12:27:10.071650Z",
     "iopub.status.idle": "2020-11-20T12:27:10.073843Z",
     "shell.execute_reply": "2020-11-20T12:27:10.074393Z"
    },
    "papermill": {
     "duration": 0.027585,
     "end_time": "2020-11-20T12:27:10.074567",
     "exception": false,
     "start_time": "2020-11-20T12:27:10.046982",
     "status": "completed"
    },
    "tags": []
   },
   "outputs": [],
   "source": [
    "#hide\n",
    "overview = '''\n",
    "<!-- #######  HTML!! #########-->\n",
    "<h1 style=\"color: #5e9ca0; text-align: center;\">India</h1>\n",
    "<p style=\"text-align: center;\">Last update: <strong>{update}</strong></p>\n",
    "<p style=\"text-align: center;\">Confirmed cases:</p>\n",
    "<p style=\"text-align: center;font-size:24px;\">{cases} (<span style=\"color: #ff0000;\">+{new}</span>)</p>\n",
    "<p style=\"text-align: center;\">Confirmed deaths:</p>\n",
    "<p style=\"text-align: center;font-size:24px;\">{deaths} (<span style=\"color: #ff0000;\">+{dnew}</span>)</p>\n",
    "'''"
   ]
  },
  {
   "cell_type": "code",
   "execution_count": 16,
   "metadata": {
    "execution": {
     "iopub.execute_input": "2020-11-20T12:27:10.116410Z",
     "iopub.status.busy": "2020-11-20T12:27:10.115746Z",
     "iopub.status.idle": "2020-11-20T12:27:10.119341Z",
     "shell.execute_reply": "2020-11-20T12:27:10.118695Z"
    },
    "papermill": {
     "duration": 0.027626,
     "end_time": "2020-11-20T12:27:10.119535",
     "exception": false,
     "start_time": "2020-11-20T12:27:10.091909",
     "status": "completed"
    },
    "tags": []
   },
   "outputs": [
    {
     "data": {
      "text/html": [
       "\n",
       "<!-- #######  HTML!! #########-->\n",
       "<h1 style=\"color: #5e9ca0; text-align: center;\">India</h1>\n",
       "<p style=\"text-align: center;\">Last update: <strong>2020-11-20</strong></p>\n",
       "<p style=\"text-align: center;\">Confirmed cases:</p>\n",
       "<p style=\"text-align: center;font-size:24px;\">9006088 (<span style=\"color: #ff0000;\">+1763</span>)</p>\n",
       "<p style=\"text-align: center;\">Confirmed deaths:</p>\n",
       "<p style=\"text-align: center;font-size:24px;\">132223 (<span style=\"color: #ff0000;\">+21</span>)</p>\n"
      ],
      "text/plain": [
       "<IPython.core.display.HTML object>"
      ]
     },
     "metadata": {},
     "output_type": "display_data"
    }
   ],
   "source": [
    "#hide_input\n",
    "update = summary['updated']\n",
    "cases = summary['Cases']\n",
    "new = summary['Cases (+)']\n",
    "deaths = summary['Deaths']\n",
    "dnew = summary['Deaths (+)']\n",
    "\n",
    "html = HTML(overview.format(update=update, cases=cases,new=new,deaths=deaths,dnew=dnew))\n",
    "\n",
    "display(html)"
   ]
  },
  {
   "cell_type": "code",
   "execution_count": 17,
   "metadata": {
    "execution": {
     "iopub.execute_input": "2020-11-20T12:27:10.164482Z",
     "iopub.status.busy": "2020-11-20T12:27:10.163741Z",
     "iopub.status.idle": "2020-11-20T12:27:10.169201Z",
     "shell.execute_reply": "2020-11-20T12:27:10.169827Z"
    },
    "papermill": {
     "duration": 0.0326,
     "end_time": "2020-11-20T12:27:10.169999",
     "exception": false,
     "start_time": "2020-11-20T12:27:10.137399",
     "status": "completed"
    },
    "tags": []
   },
   "outputs": [],
   "source": [
    "#hide\n",
    "dt_cols = list(dft_cases.columns[1:])\n",
    "dft_ct_new_cases = dft_cases.groupby('state')[dt_cols].sum().diff(axis=1).fillna(0).astype(int)\n",
    "dft_ct_new_cases.sort_values(by = dates[-1], ascending = False,inplace = True)"
   ]
  },
  {
   "cell_type": "code",
   "execution_count": 18,
   "metadata": {
    "execution": {
     "iopub.execute_input": "2020-11-20T12:27:10.225597Z",
     "iopub.status.busy": "2020-11-20T12:27:10.224915Z",
     "iopub.status.idle": "2020-11-20T12:27:10.228803Z",
     "shell.execute_reply": "2020-11-20T12:27:10.228265Z"
    },
    "papermill": {
     "duration": 0.041306,
     "end_time": "2020-11-20T12:27:10.228977",
     "exception": false,
     "start_time": "2020-11-20T12:27:10.187671",
     "status": "completed"
    },
    "tags": []
   },
   "outputs": [
    {
     "data": {
      "text/html": [
       "<div>\n",
       "<style scoped>\n",
       "    .dataframe tbody tr th:only-of-type {\n",
       "        vertical-align: middle;\n",
       "    }\n",
       "\n",
       "    .dataframe tbody tr th {\n",
       "        vertical-align: top;\n",
       "    }\n",
       "\n",
       "    .dataframe thead th {\n",
       "        text-align: right;\n",
       "    }\n",
       "</style>\n",
       "<table border=\"1\" class=\"dataframe\">\n",
       "  <thead>\n",
       "    <tr style=\"text-align: right;\">\n",
       "      <th>states</th>\n",
       "      <th>2020-07-01</th>\n",
       "      <th>2020-07-02</th>\n",
       "      <th>2020-07-03</th>\n",
       "      <th>2020-07-04</th>\n",
       "      <th>2020-07-05</th>\n",
       "      <th>2020-07-06</th>\n",
       "      <th>2020-07-07</th>\n",
       "      <th>2020-07-08</th>\n",
       "      <th>2020-07-09</th>\n",
       "      <th>2020-07-10</th>\n",
       "      <th>...</th>\n",
       "      <th>2020-11-11</th>\n",
       "      <th>2020-11-12</th>\n",
       "      <th>2020-11-13</th>\n",
       "      <th>2020-11-14</th>\n",
       "      <th>2020-11-15</th>\n",
       "      <th>2020-11-16</th>\n",
       "      <th>2020-11-17</th>\n",
       "      <th>2020-11-18</th>\n",
       "      <th>2020-11-19</th>\n",
       "      <th>2020-11-20</th>\n",
       "    </tr>\n",
       "    <tr>\n",
       "      <th>state</th>\n",
       "      <th></th>\n",
       "      <th></th>\n",
       "      <th></th>\n",
       "      <th></th>\n",
       "      <th></th>\n",
       "      <th></th>\n",
       "      <th></th>\n",
       "      <th></th>\n",
       "      <th></th>\n",
       "      <th></th>\n",
       "      <th></th>\n",
       "      <th></th>\n",
       "      <th></th>\n",
       "      <th></th>\n",
       "      <th></th>\n",
       "      <th></th>\n",
       "      <th></th>\n",
       "      <th></th>\n",
       "      <th></th>\n",
       "      <th></th>\n",
       "      <th></th>\n",
       "    </tr>\n",
       "  </thead>\n",
       "  <tbody>\n",
       "    <tr>\n",
       "      <th>Telangana</th>\n",
       "      <td>0</td>\n",
       "      <td>1213</td>\n",
       "      <td>1892</td>\n",
       "      <td>1850</td>\n",
       "      <td>1590</td>\n",
       "      <td>1831</td>\n",
       "      <td>1879</td>\n",
       "      <td>1924</td>\n",
       "      <td>1410</td>\n",
       "      <td>1278</td>\n",
       "      <td>...</td>\n",
       "      <td>1196</td>\n",
       "      <td>1015</td>\n",
       "      <td>997</td>\n",
       "      <td>1050</td>\n",
       "      <td>661</td>\n",
       "      <td>502</td>\n",
       "      <td>952</td>\n",
       "      <td>948</td>\n",
       "      <td>1058</td>\n",
       "      <td>894</td>\n",
       "    </tr>\n",
       "    <tr>\n",
       "      <th>Odisha</th>\n",
       "      <td>0</td>\n",
       "      <td>229</td>\n",
       "      <td>561</td>\n",
       "      <td>495</td>\n",
       "      <td>469</td>\n",
       "      <td>456</td>\n",
       "      <td>571</td>\n",
       "      <td>527</td>\n",
       "      <td>577</td>\n",
       "      <td>755</td>\n",
       "      <td>...</td>\n",
       "      <td>1220</td>\n",
       "      <td>986</td>\n",
       "      <td>1018</td>\n",
       "      <td>902</td>\n",
       "      <td>753</td>\n",
       "      <td>749</td>\n",
       "      <td>644</td>\n",
       "      <td>868</td>\n",
       "      <td>868</td>\n",
       "      <td>757</td>\n",
       "    </tr>\n",
       "    <tr>\n",
       "      <th>Tripura</th>\n",
       "      <td>0</td>\n",
       "      <td>39</td>\n",
       "      <td>93</td>\n",
       "      <td>25</td>\n",
       "      <td>23</td>\n",
       "      <td>111</td>\n",
       "      <td>24</td>\n",
       "      <td>57</td>\n",
       "      <td>16</td>\n",
       "      <td>142</td>\n",
       "      <td>...</td>\n",
       "      <td>84</td>\n",
       "      <td>59</td>\n",
       "      <td>76</td>\n",
       "      <td>78</td>\n",
       "      <td>26</td>\n",
       "      <td>17</td>\n",
       "      <td>77</td>\n",
       "      <td>73</td>\n",
       "      <td>105</td>\n",
       "      <td>75</td>\n",
       "    </tr>\n",
       "    <tr>\n",
       "      <th>Mizoram</th>\n",
       "      <td>0</td>\n",
       "      <td>2</td>\n",
       "      <td>0</td>\n",
       "      <td>2</td>\n",
       "      <td>22</td>\n",
       "      <td>11</td>\n",
       "      <td>1</td>\n",
       "      <td>5</td>\n",
       "      <td>0</td>\n",
       "      <td>23</td>\n",
       "      <td>...</td>\n",
       "      <td>61</td>\n",
       "      <td>25</td>\n",
       "      <td>67</td>\n",
       "      <td>59</td>\n",
       "      <td>25</td>\n",
       "      <td>3</td>\n",
       "      <td>48</td>\n",
       "      <td>37</td>\n",
       "      <td>32</td>\n",
       "      <td>28</td>\n",
       "    </tr>\n",
       "    <tr>\n",
       "      <th>Dadra and Nagar Haveli and Daman and Diu</th>\n",
       "      <td>0</td>\n",
       "      <td>25</td>\n",
       "      <td>50</td>\n",
       "      <td>37</td>\n",
       "      <td>32</td>\n",
       "      <td>27</td>\n",
       "      <td>27</td>\n",
       "      <td>15</td>\n",
       "      <td>14</td>\n",
       "      <td>14</td>\n",
       "      <td>...</td>\n",
       "      <td>0</td>\n",
       "      <td>3</td>\n",
       "      <td>3</td>\n",
       "      <td>4</td>\n",
       "      <td>6</td>\n",
       "      <td>3</td>\n",
       "      <td>3</td>\n",
       "      <td>8</td>\n",
       "      <td>2</td>\n",
       "      <td>9</td>\n",
       "    </tr>\n",
       "  </tbody>\n",
       "</table>\n",
       "<p>5 rows × 143 columns</p>\n",
       "</div>"
      ],
      "text/plain": [
       "states                                    2020-07-01  2020-07-02  2020-07-03  \\\n",
       "state                                                                          \n",
       "Telangana                                          0        1213        1892   \n",
       "Odisha                                             0         229         561   \n",
       "Tripura                                            0          39          93   \n",
       "Mizoram                                            0           2           0   \n",
       "Dadra and Nagar Haveli and Daman and Diu           0          25          50   \n",
       "\n",
       "states                                    2020-07-04  2020-07-05  2020-07-06  \\\n",
       "state                                                                          \n",
       "Telangana                                       1850        1590        1831   \n",
       "Odisha                                           495         469         456   \n",
       "Tripura                                           25          23         111   \n",
       "Mizoram                                            2          22          11   \n",
       "Dadra and Nagar Haveli and Daman and Diu          37          32          27   \n",
       "\n",
       "states                                    2020-07-07  2020-07-08  2020-07-09  \\\n",
       "state                                                                          \n",
       "Telangana                                       1879        1924        1410   \n",
       "Odisha                                           571         527         577   \n",
       "Tripura                                           24          57          16   \n",
       "Mizoram                                            1           5           0   \n",
       "Dadra and Nagar Haveli and Daman and Diu          27          15          14   \n",
       "\n",
       "states                                    2020-07-10  ...  2020-11-11  \\\n",
       "state                                                 ...               \n",
       "Telangana                                       1278  ...        1196   \n",
       "Odisha                                           755  ...        1220   \n",
       "Tripura                                          142  ...          84   \n",
       "Mizoram                                           23  ...          61   \n",
       "Dadra and Nagar Haveli and Daman and Diu          14  ...           0   \n",
       "\n",
       "states                                    2020-11-12  2020-11-13  2020-11-14  \\\n",
       "state                                                                          \n",
       "Telangana                                       1015         997        1050   \n",
       "Odisha                                           986        1018         902   \n",
       "Tripura                                           59          76          78   \n",
       "Mizoram                                           25          67          59   \n",
       "Dadra and Nagar Haveli and Daman and Diu           3           3           4   \n",
       "\n",
       "states                                    2020-11-15  2020-11-16  2020-11-17  \\\n",
       "state                                                                          \n",
       "Telangana                                        661         502         952   \n",
       "Odisha                                           753         749         644   \n",
       "Tripura                                           26          17          77   \n",
       "Mizoram                                           25           3          48   \n",
       "Dadra and Nagar Haveli and Daman and Diu           6           3           3   \n",
       "\n",
       "states                                    2020-11-18  2020-11-19  2020-11-20  \n",
       "state                                                                         \n",
       "Telangana                                        948        1058         894  \n",
       "Odisha                                           868         868         757  \n",
       "Tripura                                           73         105          75  \n",
       "Mizoram                                           37          32          28  \n",
       "Dadra and Nagar Haveli and Daman and Diu           8           2           9  \n",
       "\n",
       "[5 rows x 143 columns]"
      ]
     },
     "execution_count": 18,
     "metadata": {},
     "output_type": "execute_result"
    }
   ],
   "source": [
    "#hide\n",
    "dft_ct_new_cases.head()"
   ]
  },
  {
   "cell_type": "code",
   "execution_count": 19,
   "metadata": {
    "execution": {
     "iopub.execute_input": "2020-11-20T12:27:10.294622Z",
     "iopub.status.busy": "2020-11-20T12:27:10.273107Z",
     "iopub.status.idle": "2020-11-20T12:27:17.025316Z",
     "shell.execute_reply": "2020-11-20T12:27:17.025819Z"
    },
    "papermill": {
     "duration": 6.779435,
     "end_time": "2020-11-20T12:27:17.025992",
     "exception": false,
     "start_time": "2020-11-20T12:27:10.246557",
     "status": "completed"
    },
    "tags": []
   },
   "outputs": [
    {
     "data": {
      "image/png": "[encoded data removed]",
      "text/plain": [
       "<Figure size 1296x2016 with 11 Axes>"
      ]
     },
     "metadata": {
      "needs_background": "light"
     },
     "output_type": "display_data"
    }
   ],
   "source": [
    "#hide_input\n",
    "df = dft_ct_new_cases.copy()\n",
    "df.loc['Total'] = df.sum()\n",
    "n = 5\n",
    "ax = []\n",
    "fig = plt.figure(figsize = (18,28))\n",
    "gs = fig.add_gridspec(n+2, 5)\n",
    "# gs = fig.add_gridspec(2, 3)\n",
    "ax1 = fig.add_subplot(gs[0, :])\n",
    "ef = df.loc['Total'].rename_axis('date').reset_index()\n",
    "ef['date'] = ef['date'].astype('datetime64[ns]')\n",
    "ax1.bar(ef.date,ef.Total,alpha=0.3,color='#007acc')\n",
    "ax1.plot(ef.date,ef.Total , marker=\"o\", color='#007acc')\n",
    "ax1.xaxis.set_major_locator(mdates.WeekdayLocator())\n",
    "ax1.xaxis.set_major_formatter(mdates.DateFormatter('%b %d'))\n",
    "ax1.text(0.02, 0.5,'India daily case count', transform = ax1.transAxes, fontsize=25);\n",
    "ax1.spines['right'].set_visible(False)\n",
    "ax1.spines['top'].set_visible(False)\n",
    "\n",
    "ax2 = fig.add_subplot(gs[1,0])\n",
    "ef = df.loc['Maharashtra'].rename_axis('date').reset_index()\n",
    "ef['date'] = ef['date'].astype('datetime64[ns]')\n",
    "\n",
    "ax2.bar(ef.date, ef.Maharashtra,color = '#007acc',alpha=0.5)\n",
    "ax2.xaxis.set_major_locator(mdates.WeekdayLocator())\n",
    "ax2.xaxis.set_major_formatter(mdates.DateFormatter('%b %d'))\n",
    "ax2.set_xticks(ax2.get_xticks()[::3])\n",
    "maxyval = ef.Maharashtra.max()\n",
    "ax2.set_ylim([0,maxyval])\n",
    "ax2.text(0.05, 0.9,'Maharashtra', transform = ax2.transAxes, fontsize=20);\n",
    "ax2.spines['right'].set_visible(False)\n",
    "ax2.spines['top'].set_visible(False)\n",
    "\n",
    "\n",
    "ax3 = fig.add_subplot(gs[1,1])\n",
    "ef = df.loc['Tamil Nadu'].rename_axis('date').reset_index()\n",
    "ef['date'] = ef['date'].astype('datetime64[ns]')\n",
    "ax3.bar(ef.date, ef['Tamil Nadu'],color = '#007acc',alpha=0.5,)\n",
    "ax3.xaxis.set_major_locator(mdates.WeekdayLocator())\n",
    "ax3.xaxis.set_major_formatter(mdates.DateFormatter('%b %d'))\n",
    "ax3.set_xticks(ax3.get_xticks()[::3])\n",
    "ax3.text(0.05, 0.9,'Tamil Nadu', transform = ax3.transAxes, fontsize=20);\n",
    "ax3.spines['right'].set_visible(False)\n",
    "ax3.spines['top'].set_visible(False)\n",
    "\n",
    "ax5 = fig.add_subplot(gs[1,3])\n",
    "ef = df.loc['Telangana'].rename_axis('date').reset_index()\n",
    "ef['date'] = ef['date'].astype('datetime64[ns]')\n",
    "ax5.bar(ef.date, ef['Telangana'],color = '#007acc',alpha=0.5,)\n",
    "ax5.xaxis.set_major_locator(mdates.WeekdayLocator())\n",
    "ax5.xaxis.set_major_formatter(mdates.DateFormatter('%b %d'))\n",
    "ax5.set_xticks(ax5.get_xticks()[::3])\n",
    "ax5.text(0.05, 0.9,'Telangana', transform = ax5.transAxes, fontsize=20);\n",
    "ax5.spines['right'].set_visible(False)\n",
    "ax5.spines['top'].set_visible(False)\n",
    "\n",
    "ax6 = fig.add_subplot(gs[1,4])\n",
    "ef = df.loc['Andhra Pradesh'].rename_axis('date').reset_index()\n",
    "ef['date'] = ef['date'].astype('datetime64[ns]')\n",
    "ax6.bar(ef.date, ef['Andhra Pradesh'],color = '#007acc',alpha=0.5,)\n",
    "ax6.xaxis.set_major_locator(mdates.WeekdayLocator())\n",
    "ax6.xaxis.set_major_formatter(mdates.DateFormatter('%b %d'))\n",
    "ax6.set_xticks(ax6.get_xticks()[::3])\n",
    "ax6.text(0.05, 1,'Andhra Pradesh', transform = ax6.transAxes, fontsize=20);\n",
    "ax6.spines['right'].set_visible(False)\n",
    "ax6.spines['top'].set_visible(False)\n",
    "\n",
    "ax4 = fig.add_subplot(gs[1,2])\n",
    "ef = df.loc['Delhi'].rename_axis('date').reset_index()\n",
    "ef['date'] = ef['date'].astype('datetime64[ns]')\n",
    "ax4.bar(ef.date, ef.Delhi,color = '#007acc',alpha=0.5)\n",
    "ax4.set_xticks([])\n",
    "ax4.xaxis.set_major_locator(mdates.WeekdayLocator())\n",
    "ax4.xaxis.set_major_formatter(mdates.DateFormatter('%b %d'))\n",
    "ax4.set_xticks(ax4.get_xticks()[::3])\n",
    "ax4.spines['right'].set_visible(False)\n",
    "ax4.spines['top'].set_visible(False)\n",
    "\n",
    "ax4.text(0.05, 1,'Delhi', transform = ax4.transAxes, fontsize=20)\n",
    "\n",
    "for i in range(n):\n",
    "    \n",
    "    ax.append(fig.add_subplot(gs[i+2,:]))\n",
    "    ef = df.iloc[i+3].rename_axis('date').reset_index()\n",
    "    ef['date'] = ef['date'].astype('datetime64[ns]')\n",
    "    ax[i].bar(ef.date,ef.iloc[:,-1],color = '#007acc',alpha=0.3)\n",
    "    ax[i].plot(ef.date,ef.iloc[:,-1],marker='o',color='#007acc')\n",
    "    ax[i].text(0.02,0.5,f'{ef.columns.values[-1]}',transform = ax[i].transAxes, fontsize = 20);\n",
    "    ax[i].xaxis.set_major_locator(mdates.WeekdayLocator())\n",
    "    ax[i].xaxis.set_major_formatter(mdates.DateFormatter('%b %d'))\n",
    "    ax[i].set_ylim([0,7000])\n",
    "    ax[i].spines['right'].set_visible(False)\n",
    "    ax[i].spines['top'].set_visible(False)\n",
    "plt.tight_layout()\n"
   ]
  },
  {
   "cell_type": "code",
   "execution_count": 20,
   "metadata": {
    "execution": {
     "iopub.execute_input": "2020-11-20T12:27:17.082740Z",
     "iopub.status.busy": "2020-11-20T12:27:17.082102Z",
     "iopub.status.idle": "2020-11-20T12:27:17.084737Z",
     "shell.execute_reply": "2020-11-20T12:27:17.085345Z"
    },
    "papermill": {
     "duration": 0.036847,
     "end_time": "2020-11-20T12:27:17.085512",
     "exception": false,
     "start_time": "2020-11-20T12:27:17.048665",
     "status": "completed"
    },
    "tags": []
   },
   "outputs": [
    {
     "name": "stdout",
     "output_type": "stream",
     "text": [
      "                                   states    Cases  Deaths   PCases  PDeaths  Cases (+)  Deaths (+)  Fatality Rate\n",
      "                              Maharashtra  1763055   46356  1763055    46356          0           0           2.63\n",
      "                                Karnataka   867780   11604   867780    11604          0           0           1.34\n",
      "                           Andhra Pradesh   858711    6910   858711     6910          0           0           0.80\n",
      "                               Tamil Nadu   764989   11550   764989    11550          0           0           1.51\n",
      "                                   Kerala   545642    1970   545642     1970          0           0           0.36\n",
      "                            Uttar Pradesh   519148    7480   519148     7480          0           0           1.44\n",
      "                                    Delhi   510630    8041   510630     8041          0           0           1.57\n",
      "                              West Bengal   445505    7873   445505     7873          0           0           1.77\n",
      "                                   Odisha   312545    1661   311788     1645        757          16           0.53\n",
      "                                Telangana   261728    1423   260834     1419        894           4           0.54\n",
      "                                Rajasthan   234907    2116   234907     2116          0           0           0.90\n",
      "                                    Bihar   229474    1209   229474     1209          0           0           0.53\n",
      "                             Chhattisgarh   217562    2672   217562     2672          0           0           1.23\n",
      "                                    Assam   211040     970   211040      970          0           0           0.46\n",
      "                                  Haryana   209251    2113   209251     2113          0           0           1.01\n",
      "                                  Gujarat   192982    3830   192982     3830          0           0           1.98\n",
      "                           Madhya Pradesh   188018    3129   188018     3129          0           0           1.66\n",
      "                                   Punjab   144177    4556   144177     4556          0           0           3.16\n",
      "                                Jharkhand   106972     937   106972      937          0           0           0.88\n",
      "                        Jammu and Kashmir   104715    1618   104715     1618          0           0           1.55\n",
      "                              Uttarakhand    69693    1134    69693     1134          0           0           1.63\n",
      "                                      Goa    46480     670    46480      670          0           0           1.44\n",
      "                               Puducherry    36533     609    36533      609          0           0           1.67\n",
      "                                  Tripura    32289     362    32214      361         75           1           1.12\n",
      "                         Himachal Pradesh    32197     480    32197      480          0           0           1.49\n",
      "                                  Manipur    22548     231    22548      231          0           0           1.02\n",
      "                               Chandigarh    16322     254    16322      254          0           0           1.56\n",
      "                        Arunachal Pradesh    15976      49    15976       49          0           0           0.31\n",
      "                                Meghalaya    10979     104    10979      104          0           0           0.95\n",
      "                                 Nagaland    10460      54    10460       54          0           0           0.52\n",
      "                                   Ladakh     7714      95     7714       95          0           0           1.23\n",
      "                                   Sikkim     4610      95     4610       95          0           0           2.06\n",
      "              Andaman and Nicobar Islands     4604      61     4604       61          0           0           1.32\n",
      "                                  Mizoram     3541       5     3513        5         28           0           0.14\n",
      " Dadra and Nagar Haveli and Daman and Diu     3311       2     3302        2          9           0           0.06\n",
      "                              Lakshadweep        0       0        0        0          0           0            NaN\n"
     ]
    }
   ],
   "source": [
    "#hide_input\n",
    "print(df_table.to_string(index=False))"
   ]
  },
  {
   "cell_type": "code",
   "execution_count": null,
   "metadata": {
    "papermill": {
     "duration": 0.022727,
     "end_time": "2020-11-20T12:27:17.131007",
     "exception": false,
     "start_time": "2020-11-20T12:27:17.108280",
     "status": "completed"
    },
    "tags": []
   },
   "outputs": [],
   "source": []
  },
  {
   "cell_type": "code",
   "execution_count": null,
   "metadata": {
    "papermill": {
     "duration": 0.022297,
     "end_time": "2020-11-20T12:27:17.177272",
     "exception": false,
     "start_time": "2020-11-20T12:27:17.154975",
     "status": "completed"
    },
    "tags": []
   },
   "outputs": [],
   "source": []
  }
 ],
 "metadata": {
  "kernelspec": {
   "display_name": "Python 3",
   "language": "python",
   "name": "python3"
  },
  "language_info": {
   "codemirror_mode": {
    "name": "ipython",
    "version": 3
   },
   "file_extension": ".py",
   "mimetype": "text/x-python",
   "name": "python",
   "nbconvert_exporter": "python",
   "pygments_lexer": "ipython3",
   "version": "3.6.12"
  },
  "papermill": {
   "duration": 16.331443,
   "end_time": "2020-11-20T12:27:18.455695",
   "environment_variables": {},
   "exception": null,
   "input_path": "latest.ipynb",
   "output_path": "latest.ipynb",
   "parameters": {},
   "start_time": "2020-11-20T12:27:02.124252",
   "version": "2.1.2"
  }
 },
 "nbformat": 4,
 "nbformat_minor": 4
}