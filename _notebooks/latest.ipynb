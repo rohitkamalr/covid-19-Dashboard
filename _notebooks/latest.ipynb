{
 "cells": [
  {
   "cell_type": "markdown",
   "metadata": {
    "papermill": {
     "duration": 0.019904,
     "end_time": "2020-09-19T04:52:14.965029",
     "exception": false,
     "start_time": "2020-09-19T04:52:14.945125",
     "status": "completed"
    },
    "tags": []
   },
   "source": [
    "# Latest COVID-19 India Matplotlib Overview"
   ]
  },
  {
   "cell_type": "code",
   "execution_count": 1,
   "metadata": {
    "execution": {
     "iopub.execute_input": "2020-09-19T04:52:15.003213Z",
     "iopub.status.busy": "2020-09-19T04:52:15.002597Z",
     "iopub.status.idle": "2020-09-19T04:52:15.627049Z",
     "shell.execute_reply": "2020-09-19T04:52:15.627542Z"
    },
    "papermill": {
     "duration": 0.646956,
     "end_time": "2020-09-19T04:52:15.627732",
     "exception": false,
     "start_time": "2020-09-19T04:52:14.980776",
     "status": "completed"
    },
    "tags": []
   },
   "outputs": [],
   "source": [
    "#hide\n",
    "import pandas as pd\n",
    "import numpy as np\n",
    "import requests\n",
    "import json\n",
    "import matplotlib.pyplot as plt\n",
    "import matplotlib.dates as mdates\n",
    "import matplotlib as mpl\n",
    "from IPython.core.display import display,HTML\n",
    "%matplotlib inline\n",
    "from datetime import date"
   ]
  },
  {
   "cell_type": "code",
   "execution_count": 2,
   "metadata": {
    "execution": {
     "iopub.execute_input": "2020-09-19T04:52:15.668788Z",
     "iopub.status.busy": "2020-09-19T04:52:15.668173Z",
     "iopub.status.idle": "2020-09-19T04:52:15.797383Z",
     "shell.execute_reply": "2020-09-19T04:52:15.796456Z"
    },
    "papermill": {
     "duration": 0.154472,
     "end_time": "2020-09-19T04:52:15.797596",
     "exception": false,
     "start_time": "2020-09-19T04:52:15.643124",
     "status": "completed"
    },
    "tags": []
   },
   "outputs": [],
   "source": [
    "#hide\n",
    "df  = pd.read_csv('https://api.covid19india.org/csv/latest/states.csv')\n",
    "df = df[['Date','State','Confirmed','Deceased']]\n",
    "df = df.rename(columns={'Confirmed':'Cases', \"Deceased\":'Deaths'})\n",
    "df_cases = df[[\"Date\",'State','Cases']]\n",
    "df_deaths = df[['Date','State','Deaths']]\n",
    "df_cases1 = df_cases.groupby('Date')\n",
    "df_deaths1= df_deaths.groupby('Date')"
   ]
  },
  {
   "cell_type": "code",
   "execution_count": 3,
   "metadata": {
    "execution": {
     "iopub.execute_input": "2020-09-19T04:52:15.834591Z",
     "iopub.status.busy": "2020-09-19T04:52:15.833962Z",
     "iopub.status.idle": "2020-09-19T04:52:15.851809Z",
     "shell.execute_reply": "2020-09-19T04:52:15.851260Z"
    },
    "papermill": {
     "duration": 0.038228,
     "end_time": "2020-09-19T04:52:15.851953",
     "exception": false,
     "start_time": "2020-09-19T04:52:15.813725",
     "status": "completed"
    },
    "tags": []
   },
   "outputs": [],
   "source": [
    "#hide\n",
    "df_snap = pd.read_csv('data/SnapshotCases-28-July.csv')\n",
    "arr_states = df_snap['states'].unique()\n",
    "arr_dates = df['Date'].unique()\n",
    "df_snap = df_snap.set_index('states')"
   ]
  },
  {
   "cell_type": "code",
   "execution_count": 4,
   "metadata": {
    "execution": {
     "iopub.execute_input": "2020-09-19T04:52:15.892627Z",
     "iopub.status.busy": "2020-09-19T04:52:15.892019Z",
     "iopub.status.idle": "2020-09-19T04:52:15.894857Z",
     "shell.execute_reply": "2020-09-19T04:52:15.895333Z"
    },
    "papermill": {
     "duration": 0.028297,
     "end_time": "2020-09-19T04:52:15.895482",
     "exception": false,
     "start_time": "2020-09-19T04:52:15.867185",
     "status": "completed"
    },
    "tags": []
   },
   "outputs": [
    {
     "data": {
      "text/plain": [
       "array(['Andaman and Nicobar Islands', 'Andhra Pradesh',\n",
       "       'Arunachal Pradesh', 'Assam', 'Bihar', 'Chandigarh',\n",
       "       'Dadra and Nagar Haveli and Daman and Diu', 'Delhi', 'Goa',\n",
       "       'Gujarat', 'Haryana', 'Himachal Pradesh', 'Jammu and Kashmir',\n",
       "       'Jharkhand', 'Karnataka', 'Kerala', 'Lakshadweep',\n",
       "       'Madhya Pradesh', 'Maharashtra', 'Manipur', 'Meghalaya', 'Mizoram',\n",
       "       'Nagaland', 'Odisha', 'Puducherry', 'Punjab', 'Rajasthan',\n",
       "       'Sikkim', 'Tamil Nadu', 'Telangana', 'Tripura', 'Uttar Pradesh',\n",
       "       'West Bengal', 'Chhattisgarh', 'Ladakh', 'Uttarakhand'],\n",
       "      dtype=object)"
      ]
     },
     "execution_count": 4,
     "metadata": {},
     "output_type": "execute_result"
    }
   ],
   "source": [
    "#hide\n",
    "arr_states[-9] = 'Puducherry'\n",
    "arr_states[-10] = 'Odisha'\n",
    "arr_states[6] = 'Dadra and Nagar Haveli and Daman and Diu'\n",
    "arr_states = np.append(arr_states,np.array(['Chhattisgarh','Ladakh','Uttarakhand']))\n",
    "arr_states"
   ]
  },
  {
   "cell_type": "code",
   "execution_count": 5,
   "metadata": {
    "execution": {
     "iopub.execute_input": "2020-09-19T04:52:15.937395Z",
     "iopub.status.busy": "2020-09-19T04:52:15.936778Z",
     "iopub.status.idle": "2020-09-19T04:52:15.943981Z",
     "shell.execute_reply": "2020-09-19T04:52:15.944467Z"
    },
    "papermill": {
     "duration": 0.0338,
     "end_time": "2020-09-19T04:52:15.944626",
     "exception": false,
     "start_time": "2020-09-19T04:52:15.910826",
     "status": "completed"
    },
    "tags": []
   },
   "outputs": [],
   "source": [
    "#hide\n",
    "dates = []\n",
    "for i in arr_dates:\n",
    "    if i>='2020-07-01':\n",
    "        dates.append(i)\n",
    "dict = {'states':dates}\n",
    "for i in arr_states:\n",
    "    dict[i] = [0]*len(dates)\n",
    "dft_cases = pd.DataFrame(dict)\n",
    "dft_deaths = pd.DataFrame(dict)\n"
   ]
  },
  {
   "cell_type": "code",
   "execution_count": 6,
   "metadata": {
    "execution": {
     "iopub.execute_input": "2020-09-19T04:52:15.983910Z",
     "iopub.status.busy": "2020-09-19T04:52:15.983280Z",
     "iopub.status.idle": "2020-09-19T04:52:17.151370Z",
     "shell.execute_reply": "2020-09-19T04:52:17.150505Z"
    },
    "papermill": {
     "duration": 1.191296,
     "end_time": "2020-09-19T04:52:17.151604",
     "exception": false,
     "start_time": "2020-09-19T04:52:15.960308",
     "status": "completed"
    },
    "tags": []
   },
   "outputs": [],
   "source": [
    "#hide\n",
    "for i in range(len(dates)):\n",
    "    df1_deaths = df_deaths1.get_group(dates[i])\n",
    "    for j in range(len(df1_deaths.index)):\n",
    "        if df1_deaths.iloc[j,1] in arr_states:\n",
    "            dft_deaths.loc[i,df1_deaths.iloc[j,1]] = df1_deaths.iloc[j,2]\n",
    "dft_deaths = dft_deaths.set_index('states')"
   ]
  },
  {
   "cell_type": "code",
   "execution_count": 7,
   "metadata": {
    "execution": {
     "iopub.execute_input": "2020-09-19T04:52:17.194067Z",
     "iopub.status.busy": "2020-09-19T04:52:17.193475Z",
     "iopub.status.idle": "2020-09-19T04:52:18.364464Z",
     "shell.execute_reply": "2020-09-19T04:52:18.363780Z"
    },
    "papermill": {
     "duration": 1.194609,
     "end_time": "2020-09-19T04:52:18.364616",
     "exception": false,
     "start_time": "2020-09-19T04:52:17.170007",
     "status": "completed"
    },
    "tags": []
   },
   "outputs": [],
   "source": [
    "#hide\n",
    "for i in range(len(dates)):\n",
    "    df1_cases = df_cases1.get_group(dates[i])\n",
    "    for j in range(len(df1_cases.index)):\n",
    "        if df1_cases.iloc[j,1] in arr_states:\n",
    "            dft_cases.loc[i,df1_cases.iloc[j,1]] = df1_cases.iloc[j,2]\n",
    "dft_cases = dft_cases.set_index('states')"
   ]
  },
  {
   "cell_type": "code",
   "execution_count": 8,
   "metadata": {
    "execution": {
     "iopub.execute_input": "2020-09-19T04:52:18.409491Z",
     "iopub.status.busy": "2020-09-19T04:52:18.408891Z",
     "iopub.status.idle": "2020-09-19T04:52:18.412473Z",
     "shell.execute_reply": "2020-09-19T04:52:18.412956Z"
    },
    "papermill": {
     "duration": 0.027889,
     "end_time": "2020-09-19T04:52:18.413115",
     "exception": false,
     "start_time": "2020-09-19T04:52:18.385226",
     "status": "completed"
    },
    "tags": []
   },
   "outputs": [],
   "source": [
    "#hide\n",
    "dft_cases = dft_cases.T\n",
    "dft_deaths = dft_deaths.T\n",
    "dt_today = dates[-1]\n",
    "dt_yday = dates[-2]"
   ]
  },
  {
   "cell_type": "code",
   "execution_count": 9,
   "metadata": {
    "execution": {
     "iopub.execute_input": "2020-09-19T04:52:18.452490Z",
     "iopub.status.busy": "2020-09-19T04:52:18.451860Z",
     "iopub.status.idle": "2020-09-19T04:52:18.454370Z",
     "shell.execute_reply": "2020-09-19T04:52:18.454878Z"
    },
    "papermill": {
     "duration": 0.026377,
     "end_time": "2020-09-19T04:52:18.455031",
     "exception": false,
     "start_time": "2020-09-19T04:52:18.428654",
     "status": "completed"
    },
    "tags": []
   },
   "outputs": [],
   "source": [
    "#hide\n",
    "dft_cases = dft_cases.reset_index()\n",
    "dft_deaths = dft_deaths.reset_index()\n",
    "dft_cases = dft_cases.rename(columns = {'index':'state'})\n",
    "dft_deaths = dft_deaths.rename(columns = {'index':'state'})"
   ]
  },
  {
   "cell_type": "code",
   "execution_count": 10,
   "metadata": {
    "execution": {
     "iopub.execute_input": "2020-09-19T04:52:18.496831Z",
     "iopub.status.busy": "2020-09-19T04:52:18.496204Z",
     "iopub.status.idle": "2020-09-19T04:52:18.498827Z",
     "shell.execute_reply": "2020-09-19T04:52:18.498198Z"
    },
    "papermill": {
     "duration": 0.028624,
     "end_time": "2020-09-19T04:52:18.498959",
     "exception": false,
     "start_time": "2020-09-19T04:52:18.470335",
     "status": "completed"
    },
    "tags": []
   },
   "outputs": [],
   "source": [
    "#hide\n",
    "dfc_cases = dft_cases.groupby('state')[dt_today].sum()\n",
    "dfc_deaths = dft_deaths.groupby('state')[dt_today].sum()\n",
    "dfp_cases = dft_cases.groupby('state')[dt_yday].sum()\n",
    "dfp_deaths = dft_deaths.groupby('state')[dt_yday].sum()"
   ]
  },
  {
   "cell_type": "code",
   "execution_count": 11,
   "metadata": {
    "execution": {
     "iopub.execute_input": "2020-09-19T04:52:18.546348Z",
     "iopub.status.busy": "2020-09-19T04:52:18.545735Z",
     "iopub.status.idle": "2020-09-19T04:52:18.552585Z",
     "shell.execute_reply": "2020-09-19T04:52:18.552076Z"
    },
    "papermill": {
     "duration": 0.038267,
     "end_time": "2020-09-19T04:52:18.552717",
     "exception": false,
     "start_time": "2020-09-19T04:52:18.514450",
     "status": "completed"
    },
    "tags": []
   },
   "outputs": [
    {
     "data": {
      "text/html": [
       "<div>\n",
       "<style scoped>\n",
       "    .dataframe tbody tr th:only-of-type {\n",
       "        vertical-align: middle;\n",
       "    }\n",
       "\n",
       "    .dataframe tbody tr th {\n",
       "        vertical-align: top;\n",
       "    }\n",
       "\n",
       "    .dataframe thead th {\n",
       "        text-align: right;\n",
       "    }\n",
       "</style>\n",
       "<table border=\"1\" class=\"dataframe\">\n",
       "  <thead>\n",
       "    <tr style=\"text-align: right;\">\n",
       "      <th></th>\n",
       "      <th>states</th>\n",
       "      <th>Cases</th>\n",
       "      <th>Deaths</th>\n",
       "      <th>PCases</th>\n",
       "      <th>PDeaths</th>\n",
       "    </tr>\n",
       "  </thead>\n",
       "  <tbody>\n",
       "    <tr>\n",
       "      <th>0</th>\n",
       "      <td>Maharashtra</td>\n",
       "      <td>1167496</td>\n",
       "      <td>31791</td>\n",
       "      <td>1167496</td>\n",
       "      <td>31791</td>\n",
       "    </tr>\n",
       "    <tr>\n",
       "      <th>1</th>\n",
       "      <td>Andhra Pradesh</td>\n",
       "      <td>609558</td>\n",
       "      <td>5244</td>\n",
       "      <td>609558</td>\n",
       "      <td>5244</td>\n",
       "    </tr>\n",
       "    <tr>\n",
       "      <th>2</th>\n",
       "      <td>Tamil Nadu</td>\n",
       "      <td>530908</td>\n",
       "      <td>8685</td>\n",
       "      <td>530908</td>\n",
       "      <td>8685</td>\n",
       "    </tr>\n",
       "    <tr>\n",
       "      <th>3</th>\n",
       "      <td>Karnataka</td>\n",
       "      <td>502982</td>\n",
       "      <td>7808</td>\n",
       "      <td>502982</td>\n",
       "      <td>7808</td>\n",
       "    </tr>\n",
       "    <tr>\n",
       "      <th>4</th>\n",
       "      <td>Uttar Pradesh</td>\n",
       "      <td>342788</td>\n",
       "      <td>4869</td>\n",
       "      <td>342788</td>\n",
       "      <td>4869</td>\n",
       "    </tr>\n",
       "  </tbody>\n",
       "</table>\n",
       "</div>"
      ],
      "text/plain": [
       "           states    Cases  Deaths   PCases  PDeaths\n",
       "0     Maharashtra  1167496   31791  1167496    31791\n",
       "1  Andhra Pradesh   609558    5244   609558     5244\n",
       "2      Tamil Nadu   530908    8685   530908     8685\n",
       "3       Karnataka   502982    7808   502982     7808\n",
       "4   Uttar Pradesh   342788    4869   342788     4869"
      ]
     },
     "execution_count": 11,
     "metadata": {},
     "output_type": "execute_result"
    }
   ],
   "source": [
    "#hide\n",
    "df_table = pd.DataFrame({'states': dfc_cases.index, 'Cases': dfc_cases.values, 'Deaths': dfc_deaths.values, 'PCases': dfp_cases.values, 'PDeaths': dfp_deaths.values}).set_index('states')\n",
    "df_table = df_table.sort_values(by = ['Cases','Deaths'], ascending = [False, False])\n",
    "df_table = df_table.reset_index()\n",
    "df_table.head()"
   ]
  },
  {
   "cell_type": "code",
   "execution_count": 12,
   "metadata": {
    "execution": {
     "iopub.execute_input": "2020-09-19T04:52:18.590843Z",
     "iopub.status.busy": "2020-09-19T04:52:18.590248Z",
     "iopub.status.idle": "2020-09-19T04:52:18.598986Z",
     "shell.execute_reply": "2020-09-19T04:52:18.598436Z"
    },
    "papermill": {
     "duration": 0.030545,
     "end_time": "2020-09-19T04:52:18.599123",
     "exception": false,
     "start_time": "2020-09-19T04:52:18.568578",
     "status": "completed"
    },
    "tags": []
   },
   "outputs": [],
   "source": [
    "#hide\n",
    "for c in 'Cases, Deaths'.split(', '):\n",
    "    df_table[f'{c} (+)'] = (df_table[c] - df_table[f'P{c}']).clip(0)\n",
    "df_table['Fatality Rate'] = (100* df_table['Deaths']/ df_table['Cases']).round(2)"
   ]
  },
  {
   "cell_type": "code",
   "execution_count": 13,
   "metadata": {
    "execution": {
     "iopub.execute_input": "2020-09-19T04:52:18.644110Z",
     "iopub.status.busy": "2020-09-19T04:52:18.643470Z",
     "iopub.status.idle": "2020-09-19T04:52:18.646008Z",
     "shell.execute_reply": "2020-09-19T04:52:18.646479Z"
    },
    "papermill": {
     "duration": 0.030733,
     "end_time": "2020-09-19T04:52:18.646630",
     "exception": false,
     "start_time": "2020-09-19T04:52:18.615897",
     "status": "completed"
    },
    "tags": []
   },
   "outputs": [
    {
     "data": {
      "text/html": [
       "<div>\n",
       "<style scoped>\n",
       "    .dataframe tbody tr th:only-of-type {\n",
       "        vertical-align: middle;\n",
       "    }\n",
       "\n",
       "    .dataframe tbody tr th {\n",
       "        vertical-align: top;\n",
       "    }\n",
       "\n",
       "    .dataframe thead th {\n",
       "        text-align: right;\n",
       "    }\n",
       "</style>\n",
       "<table border=\"1\" class=\"dataframe\">\n",
       "  <thead>\n",
       "    <tr style=\"text-align: right;\">\n",
       "      <th></th>\n",
       "      <th>states</th>\n",
       "      <th>Cases</th>\n",
       "      <th>Deaths</th>\n",
       "      <th>PCases</th>\n",
       "      <th>PDeaths</th>\n",
       "      <th>Cases (+)</th>\n",
       "      <th>Deaths (+)</th>\n",
       "      <th>Fatality Rate</th>\n",
       "    </tr>\n",
       "  </thead>\n",
       "  <tbody>\n",
       "    <tr>\n",
       "      <th>0</th>\n",
       "      <td>Maharashtra</td>\n",
       "      <td>1167496</td>\n",
       "      <td>31791</td>\n",
       "      <td>1167496</td>\n",
       "      <td>31791</td>\n",
       "      <td>0</td>\n",
       "      <td>0</td>\n",
       "      <td>2.72</td>\n",
       "    </tr>\n",
       "    <tr>\n",
       "      <th>1</th>\n",
       "      <td>Andhra Pradesh</td>\n",
       "      <td>609558</td>\n",
       "      <td>5244</td>\n",
       "      <td>609558</td>\n",
       "      <td>5244</td>\n",
       "      <td>0</td>\n",
       "      <td>0</td>\n",
       "      <td>0.86</td>\n",
       "    </tr>\n",
       "    <tr>\n",
       "      <th>2</th>\n",
       "      <td>Tamil Nadu</td>\n",
       "      <td>530908</td>\n",
       "      <td>8685</td>\n",
       "      <td>530908</td>\n",
       "      <td>8685</td>\n",
       "      <td>0</td>\n",
       "      <td>0</td>\n",
       "      <td>1.64</td>\n",
       "    </tr>\n",
       "    <tr>\n",
       "      <th>3</th>\n",
       "      <td>Karnataka</td>\n",
       "      <td>502982</td>\n",
       "      <td>7808</td>\n",
       "      <td>502982</td>\n",
       "      <td>7808</td>\n",
       "      <td>0</td>\n",
       "      <td>0</td>\n",
       "      <td>1.55</td>\n",
       "    </tr>\n",
       "    <tr>\n",
       "      <th>4</th>\n",
       "      <td>Uttar Pradesh</td>\n",
       "      <td>342788</td>\n",
       "      <td>4869</td>\n",
       "      <td>342788</td>\n",
       "      <td>4869</td>\n",
       "      <td>0</td>\n",
       "      <td>0</td>\n",
       "      <td>1.42</td>\n",
       "    </tr>\n",
       "  </tbody>\n",
       "</table>\n",
       "</div>"
      ],
      "text/plain": [
       "           states    Cases  Deaths   PCases  PDeaths  Cases (+)  Deaths (+)  \\\n",
       "0     Maharashtra  1167496   31791  1167496    31791          0           0   \n",
       "1  Andhra Pradesh   609558    5244   609558     5244          0           0   \n",
       "2      Tamil Nadu   530908    8685   530908     8685          0           0   \n",
       "3       Karnataka   502982    7808   502982     7808          0           0   \n",
       "4   Uttar Pradesh   342788    4869   342788     4869          0           0   \n",
       "\n",
       "   Fatality Rate  \n",
       "0           2.72  \n",
       "1           0.86  \n",
       "2           1.64  \n",
       "3           1.55  \n",
       "4           1.42  "
      ]
     },
     "execution_count": 13,
     "metadata": {},
     "output_type": "execute_result"
    }
   ],
   "source": [
    "#hide\n",
    "df_table.head()"
   ]
  },
  {
   "cell_type": "code",
   "execution_count": 14,
   "metadata": {
    "execution": {
     "iopub.execute_input": "2020-09-19T04:52:18.687758Z",
     "iopub.status.busy": "2020-09-19T04:52:18.687154Z",
     "iopub.status.idle": "2020-09-19T04:52:18.704828Z",
     "shell.execute_reply": "2020-09-19T04:52:18.705471Z"
    },
    "papermill": {
     "duration": 0.042756,
     "end_time": "2020-09-19T04:52:18.705666",
     "exception": false,
     "start_time": "2020-09-19T04:52:18.662910",
     "status": "completed"
    },
    "tags": []
   },
   "outputs": [
    {
     "data": {
      "text/plain": [
       "{'updated': '2020-09-19',\n",
       " 'since': '2020-09-18',\n",
       " 'Cases': 5306191,\n",
       " 'PCases': 5305656,\n",
       " 'Deaths': 85632,\n",
       " 'PDeaths': 85625,\n",
       " 'Cases (+)': 535,\n",
       " 'Deaths (+)': 7}"
      ]
     },
     "execution_count": 14,
     "metadata": {},
     "output_type": "execute_result"
    }
   ],
   "source": [
    "#hide\n",
    "summary = {'updated':dates[-1], 'since':dates[-2]}\n",
    "list_names = ['Cases', 'PCases', 'Deaths', 'PDeaths', 'Cases (+)', 'Deaths (+)']\n",
    "for name in list_names:\n",
    "    summary[name] = df_table.sum()[name]\n",
    "summary"
   ]
  },
  {
   "cell_type": "code",
   "execution_count": 15,
   "metadata": {
    "execution": {
     "iopub.execute_input": "2020-09-19T04:52:18.745920Z",
     "iopub.status.busy": "2020-09-19T04:52:18.745076Z",
     "iopub.status.idle": "2020-09-19T04:52:18.746962Z",
     "shell.execute_reply": "2020-09-19T04:52:18.747633Z"
    },
    "papermill": {
     "duration": 0.024398,
     "end_time": "2020-09-19T04:52:18.747862",
     "exception": false,
     "start_time": "2020-09-19T04:52:18.723464",
     "status": "completed"
    },
    "tags": []
   },
   "outputs": [],
   "source": [
    "#hide\n",
    "overview = '''\n",
    "<!-- #######  HTML!! #########-->\n",
    "<h1 style=\"color: #5e9ca0; text-align: center;\">India</h1>\n",
    "<p style=\"text-align: center;\">Last update: <strong>{update}</strong></p>\n",
    "<p style=\"text-align: center;\">Confirmed cases:</p>\n",
    "<p style=\"text-align: center;font-size:24px;\">{cases} (<span style=\"color: #ff0000;\">+{new}</span>)</p>\n",
    "<p style=\"text-align: center;\">Confirmed deaths:</p>\n",
    "<p style=\"text-align: center;font-size:24px;\">{deaths} (<span style=\"color: #ff0000;\">+{dnew}</span>)</p>\n",
    "'''"
   ]
  },
  {
   "cell_type": "code",
   "execution_count": 16,
   "metadata": {
    "execution": {
     "iopub.execute_input": "2020-09-19T04:52:18.790805Z",
     "iopub.status.busy": "2020-09-19T04:52:18.790088Z",
     "iopub.status.idle": "2020-09-19T04:52:18.792335Z",
     "shell.execute_reply": "2020-09-19T04:52:18.792809Z"
    },
    "papermill": {
     "duration": 0.027777,
     "end_time": "2020-09-19T04:52:18.792956",
     "exception": false,
     "start_time": "2020-09-19T04:52:18.765179",
     "status": "completed"
    },
    "tags": []
   },
   "outputs": [
    {
     "data": {
      "text/html": [
       "\n",
       "<!-- #######  HTML!! #########-->\n",
       "<h1 style=\"color: #5e9ca0; text-align: center;\">India</h1>\n",
       "<p style=\"text-align: center;\">Last update: <strong>2020-09-19</strong></p>\n",
       "<p style=\"text-align: center;\">Confirmed cases:</p>\n",
       "<p style=\"text-align: center;font-size:24px;\">5306191 (<span style=\"color: #ff0000;\">+535</span>)</p>\n",
       "<p style=\"text-align: center;\">Confirmed deaths:</p>\n",
       "<p style=\"text-align: center;font-size:24px;\">85632 (<span style=\"color: #ff0000;\">+7</span>)</p>\n"
      ],
      "text/plain": [
       "<IPython.core.display.HTML object>"
      ]
     },
     "metadata": {},
     "output_type": "display_data"
    }
   ],
   "source": [
    "#hide_input\n",
    "update = summary['updated']\n",
    "cases = summary['Cases']\n",
    "new = summary['Cases (+)']\n",
    "deaths = summary['Deaths']\n",
    "dnew = summary['Deaths (+)']\n",
    "\n",
    "html = HTML(overview.format(update=update, cases=cases,new=new,deaths=deaths,dnew=dnew))\n",
    "\n",
    "display(html)"
   ]
  },
  {
   "cell_type": "code",
   "execution_count": 17,
   "metadata": {
    "execution": {
     "iopub.execute_input": "2020-09-19T04:52:18.835188Z",
     "iopub.status.busy": "2020-09-19T04:52:18.834597Z",
     "iopub.status.idle": "2020-09-19T04:52:18.840405Z",
     "shell.execute_reply": "2020-09-19T04:52:18.839917Z"
    },
    "papermill": {
     "duration": 0.030546,
     "end_time": "2020-09-19T04:52:18.840538",
     "exception": false,
     "start_time": "2020-09-19T04:52:18.809992",
     "status": "completed"
    },
    "tags": []
   },
   "outputs": [],
   "source": [
    "#hide\n",
    "dt_cols = list(dft_cases.columns[1:])\n",
    "dft_ct_new_cases = dft_cases.groupby('state')[dt_cols].sum().diff(axis=1).fillna(0).astype(int)\n",
    "dft_ct_new_cases.sort_values(by = dates[-1], ascending = False,inplace = True)"
   ]
  },
  {
   "cell_type": "code",
   "execution_count": 18,
   "metadata": {
    "execution": {
     "iopub.execute_input": "2020-09-19T04:52:18.892393Z",
     "iopub.status.busy": "2020-09-19T04:52:18.884972Z",
     "iopub.status.idle": "2020-09-19T04:52:18.901106Z",
     "shell.execute_reply": "2020-09-19T04:52:18.901593Z"
    },
    "papermill": {
     "duration": 0.04405,
     "end_time": "2020-09-19T04:52:18.901749",
     "exception": false,
     "start_time": "2020-09-19T04:52:18.857699",
     "status": "completed"
    },
    "tags": []
   },
   "outputs": [
    {
     "data": {
      "text/html": [
       "<div>\n",
       "<style scoped>\n",
       "    .dataframe tbody tr th:only-of-type {\n",
       "        vertical-align: middle;\n",
       "    }\n",
       "\n",
       "    .dataframe tbody tr th {\n",
       "        vertical-align: top;\n",
       "    }\n",
       "\n",
       "    .dataframe thead th {\n",
       "        text-align: right;\n",
       "    }\n",
       "</style>\n",
       "<table border=\"1\" class=\"dataframe\">\n",
       "  <thead>\n",
       "    <tr style=\"text-align: right;\">\n",
       "      <th>states</th>\n",
       "      <th>2020-07-01</th>\n",
       "      <th>2020-07-02</th>\n",
       "      <th>2020-07-03</th>\n",
       "      <th>2020-07-04</th>\n",
       "      <th>2020-07-05</th>\n",
       "      <th>2020-07-06</th>\n",
       "      <th>2020-07-07</th>\n",
       "      <th>2020-07-08</th>\n",
       "      <th>2020-07-09</th>\n",
       "      <th>2020-07-10</th>\n",
       "      <th>...</th>\n",
       "      <th>2020-09-10</th>\n",
       "      <th>2020-09-11</th>\n",
       "      <th>2020-09-12</th>\n",
       "      <th>2020-09-13</th>\n",
       "      <th>2020-09-14</th>\n",
       "      <th>2020-09-15</th>\n",
       "      <th>2020-09-16</th>\n",
       "      <th>2020-09-17</th>\n",
       "      <th>2020-09-18</th>\n",
       "      <th>2020-09-19</th>\n",
       "    </tr>\n",
       "    <tr>\n",
       "      <th>state</th>\n",
       "      <th></th>\n",
       "      <th></th>\n",
       "      <th></th>\n",
       "      <th></th>\n",
       "      <th></th>\n",
       "      <th></th>\n",
       "      <th></th>\n",
       "      <th></th>\n",
       "      <th></th>\n",
       "      <th></th>\n",
       "      <th></th>\n",
       "      <th></th>\n",
       "      <th></th>\n",
       "      <th></th>\n",
       "      <th></th>\n",
       "      <th></th>\n",
       "      <th></th>\n",
       "      <th></th>\n",
       "      <th></th>\n",
       "      <th></th>\n",
       "      <th></th>\n",
       "    </tr>\n",
       "  </thead>\n",
       "  <tbody>\n",
       "    <tr>\n",
       "      <th>Tripura</th>\n",
       "      <td>0</td>\n",
       "      <td>39</td>\n",
       "      <td>93</td>\n",
       "      <td>25</td>\n",
       "      <td>23</td>\n",
       "      <td>111</td>\n",
       "      <td>24</td>\n",
       "      <td>57</td>\n",
       "      <td>16</td>\n",
       "      <td>142</td>\n",
       "      <td>...</td>\n",
       "      <td>535</td>\n",
       "      <td>559</td>\n",
       "      <td>470</td>\n",
       "      <td>629</td>\n",
       "      <td>255</td>\n",
       "      <td>531</td>\n",
       "      <td>454</td>\n",
       "      <td>527</td>\n",
       "      <td>273</td>\n",
       "      <td>535</td>\n",
       "    </tr>\n",
       "    <tr>\n",
       "      <th>Andaman and Nicobar Islands</th>\n",
       "      <td>0</td>\n",
       "      <td>9</td>\n",
       "      <td>7</td>\n",
       "      <td>3</td>\n",
       "      <td>6</td>\n",
       "      <td>16</td>\n",
       "      <td>6</td>\n",
       "      <td>2</td>\n",
       "      <td>7</td>\n",
       "      <td>0</td>\n",
       "      <td>...</td>\n",
       "      <td>39</td>\n",
       "      <td>29</td>\n",
       "      <td>27</td>\n",
       "      <td>25</td>\n",
       "      <td>11</td>\n",
       "      <td>17</td>\n",
       "      <td>19</td>\n",
       "      <td>11</td>\n",
       "      <td>27</td>\n",
       "      <td>0</td>\n",
       "    </tr>\n",
       "    <tr>\n",
       "      <th>Puducherry</th>\n",
       "      <td>0</td>\n",
       "      <td>63</td>\n",
       "      <td>22</td>\n",
       "      <td>80</td>\n",
       "      <td>42</td>\n",
       "      <td>65</td>\n",
       "      <td>30</td>\n",
       "      <td>110</td>\n",
       "      <td>49</td>\n",
       "      <td>72</td>\n",
       "      <td>...</td>\n",
       "      <td>452</td>\n",
       "      <td>490</td>\n",
       "      <td>419</td>\n",
       "      <td>388</td>\n",
       "      <td>393</td>\n",
       "      <td>375</td>\n",
       "      <td>510</td>\n",
       "      <td>317</td>\n",
       "      <td>485</td>\n",
       "      <td>0</td>\n",
       "    </tr>\n",
       "    <tr>\n",
       "      <th>Maharashtra</th>\n",
       "      <td>0</td>\n",
       "      <td>6328</td>\n",
       "      <td>6364</td>\n",
       "      <td>7074</td>\n",
       "      <td>6555</td>\n",
       "      <td>5368</td>\n",
       "      <td>5134</td>\n",
       "      <td>6603</td>\n",
       "      <td>6875</td>\n",
       "      <td>7862</td>\n",
       "      <td>...</td>\n",
       "      <td>23446</td>\n",
       "      <td>24886</td>\n",
       "      <td>22084</td>\n",
       "      <td>22543</td>\n",
       "      <td>17066</td>\n",
       "      <td>20482</td>\n",
       "      <td>23365</td>\n",
       "      <td>24619</td>\n",
       "      <td>21656</td>\n",
       "      <td>0</td>\n",
       "    </tr>\n",
       "    <tr>\n",
       "      <th>Manipur</th>\n",
       "      <td>0</td>\n",
       "      <td>19</td>\n",
       "      <td>37</td>\n",
       "      <td>9</td>\n",
       "      <td>41</td>\n",
       "      <td>24</td>\n",
       "      <td>40</td>\n",
       "      <td>5</td>\n",
       "      <td>15</td>\n",
       "      <td>132</td>\n",
       "      <td>...</td>\n",
       "      <td>108</td>\n",
       "      <td>109</td>\n",
       "      <td>152</td>\n",
       "      <td>144</td>\n",
       "      <td>96</td>\n",
       "      <td>239</td>\n",
       "      <td>110</td>\n",
       "      <td>110</td>\n",
       "      <td>177</td>\n",
       "      <td>0</td>\n",
       "    </tr>\n",
       "  </tbody>\n",
       "</table>\n",
       "<p>5 rows × 81 columns</p>\n",
       "</div>"
      ],
      "text/plain": [
       "states                       2020-07-01  2020-07-02  2020-07-03  2020-07-04  \\\n",
       "state                                                                         \n",
       "Tripura                               0          39          93          25   \n",
       "Andaman and Nicobar Islands           0           9           7           3   \n",
       "Puducherry                            0          63          22          80   \n",
       "Maharashtra                           0        6328        6364        7074   \n",
       "Manipur                               0          19          37           9   \n",
       "\n",
       "states                       2020-07-05  2020-07-06  2020-07-07  2020-07-08  \\\n",
       "state                                                                         \n",
       "Tripura                              23         111          24          57   \n",
       "Andaman and Nicobar Islands           6          16           6           2   \n",
       "Puducherry                           42          65          30         110   \n",
       "Maharashtra                        6555        5368        5134        6603   \n",
       "Manipur                              41          24          40           5   \n",
       "\n",
       "states                       2020-07-09  2020-07-10  ...  2020-09-10  \\\n",
       "state                                                ...               \n",
       "Tripura                              16         142  ...         535   \n",
       "Andaman and Nicobar Islands           7           0  ...          39   \n",
       "Puducherry                           49          72  ...         452   \n",
       "Maharashtra                        6875        7862  ...       23446   \n",
       "Manipur                              15         132  ...         108   \n",
       "\n",
       "states                       2020-09-11  2020-09-12  2020-09-13  2020-09-14  \\\n",
       "state                                                                         \n",
       "Tripura                             559         470         629         255   \n",
       "Andaman and Nicobar Islands          29          27          25          11   \n",
       "Puducherry                          490         419         388         393   \n",
       "Maharashtra                       24886       22084       22543       17066   \n",
       "Manipur                             109         152         144          96   \n",
       "\n",
       "states                       2020-09-15  2020-09-16  2020-09-17  2020-09-18  \\\n",
       "state                                                                         \n",
       "Tripura                             531         454         527         273   \n",
       "Andaman and Nicobar Islands          17          19          11          27   \n",
       "Puducherry                          375         510         317         485   \n",
       "Maharashtra                       20482       23365       24619       21656   \n",
       "Manipur                             239         110         110         177   \n",
       "\n",
       "states                       2020-09-19  \n",
       "state                                    \n",
       "Tripura                             535  \n",
       "Andaman and Nicobar Islands           0  \n",
       "Puducherry                            0  \n",
       "Maharashtra                           0  \n",
       "Manipur                               0  \n",
       "\n",
       "[5 rows x 81 columns]"
      ]
     },
     "execution_count": 18,
     "metadata": {},
     "output_type": "execute_result"
    }
   ],
   "source": [
    "#hide\n",
    "dft_ct_new_cases.head()"
   ]
  },
  {
   "cell_type": "code",
   "execution_count": 19,
   "metadata": {
    "execution": {
     "iopub.execute_input": "2020-09-19T04:52:18.951199Z",
     "iopub.status.busy": "2020-09-19T04:52:18.945930Z",
     "iopub.status.idle": "2020-09-19T04:52:22.534228Z",
     "shell.execute_reply": "2020-09-19T04:52:22.534717Z"
    },
    "papermill": {
     "duration": 3.615315,
     "end_time": "2020-09-19T04:52:22.534871",
     "exception": false,
     "start_time": "2020-09-19T04:52:18.919556",
     "status": "completed"
    },
    "tags": []
   },
   "outputs": [
    {
     "data": {
      "image/png": "[encoded data removed]",
      "text/plain": [
       "<Figure size 1296x2016 with 11 Axes>"
      ]
     },
     "metadata": {
      "needs_background": "light"
     },
     "output_type": "display_data"
    }
   ],
   "source": [
    "#hide_input\n",
    "df = dft_ct_new_cases.copy()\n",
    "df.loc['Total'] = df.sum()\n",
    "n = 5\n",
    "ax = []\n",
    "fig = plt.figure(figsize = (18,28))\n",
    "gs = fig.add_gridspec(n+2, 5)\n",
    "# gs = fig.add_gridspec(2, 3)\n",
    "ax1 = fig.add_subplot(gs[0, :])\n",
    "ef = df.loc['Total'].rename_axis('date').reset_index()\n",
    "ef['date'] = ef['date'].astype('datetime64[ns]')\n",
    "ax1.bar(ef.date,ef.Total,alpha=0.3,color='#007acc')\n",
    "ax1.plot(ef.date,ef.Total , marker=\"o\", color='#007acc')\n",
    "ax1.xaxis.set_major_locator(mdates.WeekdayLocator())\n",
    "ax1.xaxis.set_major_formatter(mdates.DateFormatter('%b %d'))\n",
    "ax1.text(0.02, 0.5,'India daily case count', transform = ax1.transAxes, fontsize=25);\n",
    "ax1.spines['right'].set_visible(False)\n",
    "ax1.spines['top'].set_visible(False)\n",
    "\n",
    "ax2 = fig.add_subplot(gs[1,0])\n",
    "ef = df.loc['Maharashtra'].rename_axis('date').reset_index()\n",
    "ef['date'] = ef['date'].astype('datetime64[ns]')\n",
    "\n",
    "ax2.bar(ef.date, ef.Maharashtra,color = '#007acc',alpha=0.5)\n",
    "ax2.xaxis.set_major_locator(mdates.WeekdayLocator())\n",
    "ax2.xaxis.set_major_formatter(mdates.DateFormatter('%b %d'))\n",
    "ax2.set_xticks(ax2.get_xticks()[::3])\n",
    "maxyval = ef.Maharashtra.max()\n",
    "ax2.set_ylim([0,maxyval])\n",
    "ax2.text(0.05, 0.9,'Maharashtra', transform = ax2.transAxes, fontsize=20);\n",
    "ax2.spines['right'].set_visible(False)\n",
    "ax2.spines['top'].set_visible(False)\n",
    "\n",
    "\n",
    "ax3 = fig.add_subplot(gs[1,1])\n",
    "ef = df.loc['Tamil Nadu'].rename_axis('date').reset_index()\n",
    "ef['date'] = ef['date'].astype('datetime64[ns]')\n",
    "ax3.bar(ef.date, ef['Tamil Nadu'],color = '#007acc',alpha=0.5,)\n",
    "ax3.xaxis.set_major_locator(mdates.WeekdayLocator())\n",
    "ax3.xaxis.set_major_formatter(mdates.DateFormatter('%b %d'))\n",
    "ax3.set_xticks(ax3.get_xticks()[::3])\n",
    "ax3.text(0.05, 0.9,'Tamil Nadu', transform = ax3.transAxes, fontsize=20);\n",
    "ax3.spines['right'].set_visible(False)\n",
    "ax3.spines['top'].set_visible(False)\n",
    "\n",
    "ax5 = fig.add_subplot(gs[1,3])\n",
    "ef = df.loc['Telangana'].rename_axis('date').reset_index()\n",
    "ef['date'] = ef['date'].astype('datetime64[ns]')\n",
    "ax5.bar(ef.date, ef['Telangana'],color = '#007acc',alpha=0.5,)\n",
    "ax5.xaxis.set_major_locator(mdates.WeekdayLocator())\n",
    "ax5.xaxis.set_major_formatter(mdates.DateFormatter('%b %d'))\n",
    "ax5.set_xticks(ax5.get_xticks()[::3])\n",
    "ax5.text(0.05, 0.9,'Telangana', transform = ax5.transAxes, fontsize=20);\n",
    "ax5.spines['right'].set_visible(False)\n",
    "ax5.spines['top'].set_visible(False)\n",
    "\n",
    "ax6 = fig.add_subplot(gs[1,4])\n",
    "ef = df.loc['Andhra Pradesh'].rename_axis('date').reset_index()\n",
    "ef['date'] = ef['date'].astype('datetime64[ns]')\n",
    "ax6.bar(ef.date, ef['Andhra Pradesh'],color = '#007acc',alpha=0.5,)\n",
    "ax6.xaxis.set_major_locator(mdates.WeekdayLocator())\n",
    "ax6.xaxis.set_major_formatter(mdates.DateFormatter('%b %d'))\n",
    "ax6.set_xticks(ax6.get_xticks()[::3])\n",
    "ax6.text(0.05, 1,'Andhra Pradesh', transform = ax6.transAxes, fontsize=20);\n",
    "ax6.spines['right'].set_visible(False)\n",
    "ax6.spines['top'].set_visible(False)\n",
    "\n",
    "ax4 = fig.add_subplot(gs[1,2])\n",
    "ef = df.loc['Delhi'].rename_axis('date').reset_index()\n",
    "ef['date'] = ef['date'].astype('datetime64[ns]')\n",
    "ax4.bar(ef.date, ef.Delhi,color = '#007acc',alpha=0.5)\n",
    "ax4.set_xticks([])\n",
    "ax4.xaxis.set_major_locator(mdates.WeekdayLocator())\n",
    "ax4.xaxis.set_major_formatter(mdates.DateFormatter('%b %d'))\n",
    "ax4.set_xticks(ax4.get_xticks()[::3])\n",
    "ax4.spines['right'].set_visible(False)\n",
    "ax4.spines['top'].set_visible(False)\n",
    "\n",
    "ax4.text(0.05, 1,'Delhi', transform = ax4.transAxes, fontsize=20)\n",
    "\n",
    "for i in range(n):\n",
    "    \n",
    "    ax.append(fig.add_subplot(gs[i+2,:]))\n",
    "    ef = df.iloc[i+3].rename_axis('date').reset_index()\n",
    "    ef['date'] = ef['date'].astype('datetime64[ns]')\n",
    "    ax[i].bar(ef.date,ef.iloc[:,-1],color = '#007acc',alpha=0.3)\n",
    "    ax[i].plot(ef.date,ef.iloc[:,-1],marker='o',color='#007acc')\n",
    "    ax[i].text(0.02,0.5,f'{ef.columns.values[-1]}',transform = ax[i].transAxes, fontsize = 20);\n",
    "    ax[i].xaxis.set_major_locator(mdates.WeekdayLocator())\n",
    "    ax[i].xaxis.set_major_formatter(mdates.DateFormatter('%b %d'))\n",
    "    ax[i].set_ylim([0,7000])\n",
    "    ax[i].spines['right'].set_visible(False)\n",
    "    ax[i].spines['top'].set_visible(False)\n",
    "plt.tight_layout()\n"
   ]
  },
  {
   "cell_type": "code",
   "execution_count": 20,
   "metadata": {
    "execution": {
     "iopub.execute_input": "2020-09-19T04:52:22.589636Z",
     "iopub.status.busy": "2020-09-19T04:52:22.588996Z",
     "iopub.status.idle": "2020-09-19T04:52:22.593377Z",
     "shell.execute_reply": "2020-09-19T04:52:22.593859Z"
    },
    "papermill": {
     "duration": 0.036247,
     "end_time": "2020-09-19T04:52:22.594010",
     "exception": false,
     "start_time": "2020-09-19T04:52:22.557763",
     "status": "completed"
    },
    "tags": []
   },
   "outputs": [
    {
     "name": "stdout",
     "output_type": "stream",
     "text": [
      "                                   states    Cases  Deaths   PCases  PDeaths  Cases (+)  Deaths (+)  Fatality Rate\n",
      "                              Maharashtra  1167496   31791  1167496    31791          0           0           2.72\n",
      "                           Andhra Pradesh   609558    5244   609558     5244          0           0           0.86\n",
      "                               Tamil Nadu   530908    8685   530908     8685          0           0           1.64\n",
      "                                Karnataka   502982    7808   502982     7808          0           0           1.55\n",
      "                            Uttar Pradesh   342788    4869   342788     4869          0           0           1.42\n",
      "                                    Delhi   238828    4907   238828     4907          0           0           2.05\n",
      "                              West Bengal   218772    4242   218772     4242          0           0           1.94\n",
      "                                   Odisha   171341     735   171341      735          0           0           0.43\n",
      "                                Telangana   167046    1016   167046     1016          0           0           0.61\n",
      "                                    Bihar   165371     859   165371      859          0           0           0.52\n",
      "                                    Assam   152858     540   152858      540          0           0           0.35\n",
      "                                   Kerala   126383     502   126383      502          0           0           0.40\n",
      "                                  Gujarat   120498    3287   120498     3287          0           0           2.73\n",
      "                                Rajasthan   111290    1308   111290     1308          0           0           1.18\n",
      "                                  Haryana   106261    1092   106261     1092          0           0           1.03\n",
      "                           Madhya Pradesh   100458    1901   100458     1901          0           0           1.89\n",
      "                                   Punjab    92806    2706    92806     2706          0           0           2.92\n",
      "                             Chhattisgarh    81617     645    81617      645          0           0           0.79\n",
      "                                Jharkhand    68578     602    68578      602          0           0           0.88\n",
      "                        Jammu and Kashmir    61041     966    61041      966          0           0           1.58\n",
      "                              Uttarakhand    38007     464    38007      464          0           0           1.22\n",
      "                                      Goa    27379     335    27379      335          0           0           1.22\n",
      "                               Puducherry    21913     437    21913      437          0           0           1.99\n",
      "                                  Tripura    21504     235    20969      228        535           7           1.09\n",
      "                         Himachal Pradesh    11622     109    11622      109          0           0           0.94\n",
      "                               Chandigarh     9516     110     9516      110          0           0           1.16\n",
      "                                  Manipur     8607      52     8607       52          0           0           0.60\n",
      "                        Arunachal Pradesh     7005      13     7005       13          0           0           0.19\n",
      "                                 Nagaland     5357      10     5357       10          0           0           0.19\n",
      "                                Meghalaya     4447      34     4447       34          0           0           0.76\n",
      "                                   Ladakh     3635      48     3635       48          0           0           1.32\n",
      "              Andaman and Nicobar Islands     3631      52     3631       52          0           0           1.43\n",
      " Dadra and Nagar Haveli and Daman and Diu     2851       2     2851        2          0           0           0.07\n",
      "                                   Sikkim     2303      26     2303       26          0           0           1.13\n",
      "                                  Mizoram     1534       0     1534        0          0           0           0.00\n",
      "                              Lakshadweep        0       0        0        0          0           0            NaN\n"
     ]
    }
   ],
   "source": [
    "#hide_input\n",
    "print(df_table.to_string(index=False))"
   ]
  },
  {
   "cell_type": "code",
   "execution_count": null,
   "metadata": {
    "papermill": {
     "duration": 0.023346,
     "end_time": "2020-09-19T04:52:22.641181",
     "exception": false,
     "start_time": "2020-09-19T04:52:22.617835",
     "status": "completed"
    },
    "tags": []
   },
   "outputs": [],
   "source": []
  },
  {
   "cell_type": "code",
   "execution_count": null,
   "metadata": {
    "papermill": {
     "duration": 0.023351,
     "end_time": "2020-09-19T04:52:22.687812",
     "exception": false,
     "start_time": "2020-09-19T04:52:22.664461",
     "status": "completed"
    },
    "tags": []
   },
   "outputs": [],
   "source": []
  }
 ],
 "metadata": {
  "kernelspec": {
   "display_name": "Python 3",
   "language": "python",
   "name": "python3"
  },
  "language_info": {
   "codemirror_mode": {
    "name": "ipython",
    "version": 3
   },
   "file_extension": ".py",
   "mimetype": "text/x-python",
   "name": "python",
   "nbconvert_exporter": "python",
   "pygments_lexer": "ipython3",
   "version": "3.6.12"
  },
  "papermill": {
   "duration": 10.320081,
   "end_time": "2020-09-19T04:52:24.189877",
   "environment_variables": {},
   "exception": null,
   "input_path": "latest.ipynb",
   "output_path": "latest.ipynb",
   "parameters": {},
   "start_time": "2020-09-19T04:52:13.869796",
   "version": "2.1.2"
  }
 },
 "nbformat": 4,
 "nbformat_minor": 4
}