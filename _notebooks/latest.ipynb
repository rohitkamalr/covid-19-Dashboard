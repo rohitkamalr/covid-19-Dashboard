{
 "cells": [
  {
   "cell_type": "markdown",
   "metadata": {
    "papermill": {
     "duration": 0.01922,
     "end_time": "2020-08-22T11:37:12.831010",
     "exception": false,
     "start_time": "2020-08-22T11:37:12.811790",
     "status": "completed"
    },
    "tags": []
   },
   "source": [
    "# Latest COVID-19 India Matplotlib Overview"
   ]
  },
  {
   "cell_type": "code",
   "execution_count": 1,
   "metadata": {
    "execution": {
     "iopub.execute_input": "2020-08-22T11:37:12.868930Z",
     "iopub.status.busy": "2020-08-22T11:37:12.868226Z",
     "iopub.status.idle": "2020-08-22T11:37:13.465307Z",
     "shell.execute_reply": "2020-08-22T11:37:13.466440Z"
    },
    "papermill": {
     "duration": 0.619798,
     "end_time": "2020-08-22T11:37:13.466691",
     "exception": false,
     "start_time": "2020-08-22T11:37:12.846893",
     "status": "completed"
    },
    "tags": []
   },
   "outputs": [],
   "source": [
    "#hide\n",
    "import pandas as pd\n",
    "import numpy as np\n",
    "import requests\n",
    "import json\n",
    "import matplotlib.pyplot as plt\n",
    "import matplotlib.dates as mdates\n",
    "import matplotlib as mpl\n",
    "from IPython.core.display import display,HTML\n",
    "%matplotlib inline\n",
    "from datetime import date"
   ]
  },
  {
   "cell_type": "code",
   "execution_count": 2,
   "metadata": {
    "execution": {
     "iopub.execute_input": "2020-08-22T11:37:14.071309Z",
     "iopub.status.busy": "2020-08-22T11:37:14.064715Z",
     "iopub.status.idle": "2020-08-22T11:37:14.295029Z",
     "shell.execute_reply": "2020-08-22T11:37:14.294361Z"
    },
    "papermill": {
     "duration": 0.775752,
     "end_time": "2020-08-22T11:37:14.295215",
     "exception": false,
     "start_time": "2020-08-22T11:37:13.519463",
     "status": "completed"
    },
    "tags": []
   },
   "outputs": [],
   "source": [
    "#hide\n",
    "df  = pd.read_csv('https://api.covid19india.org/csv/latest/states.csv')\n",
    "df = df[['Date','State','Confirmed','Deceased']]\n",
    "df = df.rename(columns={'Confirmed':'Cases', \"Deceased\":'Deaths'})\n",
    "df_cases = df[[\"Date\",'State','Cases']]\n",
    "df_deaths = df[['Date','State','Deaths']]\n",
    "df_cases1 = df_cases.groupby('Date')\n",
    "df_deaths1= df_deaths.groupby('Date')"
   ]
  },
  {
   "cell_type": "code",
   "execution_count": 3,
   "metadata": {
    "execution": {
     "iopub.execute_input": "2020-08-22T11:37:14.520796Z",
     "iopub.status.busy": "2020-08-22T11:37:14.520152Z",
     "iopub.status.idle": "2020-08-22T11:37:14.537617Z",
     "shell.execute_reply": "2020-08-22T11:37:14.537107Z"
    },
    "papermill": {
     "duration": 0.223879,
     "end_time": "2020-08-22T11:37:14.537759",
     "exception": false,
     "start_time": "2020-08-22T11:37:14.313880",
     "status": "completed"
    },
    "tags": []
   },
   "outputs": [],
   "source": [
    "#hide\n",
    "df_snap = pd.read_csv('data/SnapshotCases-28-July.csv')\n",
    "arr_states = df_snap['states'].unique()\n",
    "arr_dates = df['Date'].unique()\n",
    "df_snap = df_snap.set_index('states')"
   ]
  },
  {
   "cell_type": "code",
   "execution_count": 4,
   "metadata": {
    "execution": {
     "iopub.execute_input": "2020-08-22T11:37:15.232594Z",
     "iopub.status.busy": "2020-08-22T11:37:15.231965Z",
     "iopub.status.idle": "2020-08-22T11:37:15.237128Z",
     "shell.execute_reply": "2020-08-22T11:37:15.237942Z"
    },
    "papermill": {
     "duration": 0.467841,
     "end_time": "2020-08-22T11:37:15.238124",
     "exception": false,
     "start_time": "2020-08-22T11:37:14.770283",
     "status": "completed"
    },
    "tags": []
   },
   "outputs": [
    {
     "data": {
      "text/plain": [
       "array(['Andaman and Nicobar Islands', 'Andhra Pradesh',\n",
       "       'Arunachal Pradesh', 'Assam', 'Bihar', 'Chandigarh',\n",
       "       'Dadra and Nagar Haveli and Daman and Diu', 'Delhi', 'Goa',\n",
       "       'Gujarat', 'Haryana', 'Himachal Pradesh', 'Jammu and Kashmir',\n",
       "       'Jharkhand', 'Karnataka', 'Kerala', 'Lakshadweep',\n",
       "       'Madhya Pradesh', 'Maharashtra', 'Manipur', 'Meghalaya', 'Mizoram',\n",
       "       'Nagaland', 'Odisha', 'Puducherry', 'Punjab', 'Rajasthan',\n",
       "       'Sikkim', 'Tamil Nadu', 'Telangana', 'Tripura', 'Uttar Pradesh',\n",
       "       'West Bengal', 'Chhattisgarh', 'Ladakh', 'Uttarakhand'],\n",
       "      dtype=object)"
      ]
     },
     "execution_count": 4,
     "metadata": {},
     "output_type": "execute_result"
    }
   ],
   "source": [
    "#hide\n",
    "arr_states[-9] = 'Puducherry'\n",
    "arr_states[-10] = 'Odisha'\n",
    "arr_states[6] = 'Dadra and Nagar Haveli and Daman and Diu'\n",
    "arr_states = np.append(arr_states,np.array(['Chhattisgarh','Ladakh','Uttarakhand']))\n",
    "arr_states"
   ]
  },
  {
   "cell_type": "code",
   "execution_count": 5,
   "metadata": {
    "execution": {
     "iopub.execute_input": "2020-08-22T11:37:15.637731Z",
     "iopub.status.busy": "2020-08-22T11:37:15.636984Z",
     "iopub.status.idle": "2020-08-22T11:37:15.644107Z",
     "shell.execute_reply": "2020-08-22T11:37:15.643614Z"
    },
    "papermill": {
     "duration": 0.033552,
     "end_time": "2020-08-22T11:37:15.644256",
     "exception": false,
     "start_time": "2020-08-22T11:37:15.610704",
     "status": "completed"
    },
    "tags": []
   },
   "outputs": [],
   "source": [
    "#hide\n",
    "dates = []\n",
    "for i in arr_dates:\n",
    "    if i>='2020-07-01':\n",
    "        dates.append(i)\n",
    "dict = {'states':dates}\n",
    "for i in arr_states:\n",
    "    dict[i] = [0]*len(dates)\n",
    "dft_cases = pd.DataFrame(dict)\n",
    "dft_deaths = pd.DataFrame(dict)\n"
   ]
  },
  {
   "cell_type": "code",
   "execution_count": 6,
   "metadata": {
    "execution": {
     "iopub.execute_input": "2020-08-22T11:37:15.681752Z",
     "iopub.status.busy": "2020-08-22T11:37:15.681090Z",
     "iopub.status.idle": "2020-08-22T11:37:16.597098Z",
     "shell.execute_reply": "2020-08-22T11:37:16.596557Z"
    },
    "papermill": {
     "duration": 0.937432,
     "end_time": "2020-08-22T11:37:16.597265",
     "exception": false,
     "start_time": "2020-08-22T11:37:15.659833",
     "status": "completed"
    },
    "tags": []
   },
   "outputs": [],
   "source": [
    "#hide\n",
    "for i in range(len(dates)):\n",
    "    df1_deaths = df_deaths1.get_group(dates[i])\n",
    "    for j in range(len(df1_deaths.index)):\n",
    "        if df1_deaths.iloc[j,1] in arr_states:\n",
    "            dft_deaths.loc[i,df1_deaths.iloc[j,1]] = df1_deaths.iloc[j,2]\n",
    "dft_deaths = dft_deaths.set_index('states')"
   ]
  },
  {
   "cell_type": "code",
   "execution_count": 7,
   "metadata": {
    "execution": {
     "iopub.execute_input": "2020-08-22T11:37:16.637600Z",
     "iopub.status.busy": "2020-08-22T11:37:16.636966Z",
     "iopub.status.idle": "2020-08-22T11:37:17.651574Z",
     "shell.execute_reply": "2020-08-22T11:37:17.650934Z"
    },
    "papermill": {
     "duration": 1.036582,
     "end_time": "2020-08-22T11:37:17.651739",
     "exception": false,
     "start_time": "2020-08-22T11:37:16.615157",
     "status": "completed"
    },
    "tags": []
   },
   "outputs": [],
   "source": [
    "#hide\n",
    "for i in range(len(dates)):\n",
    "    df1_cases = df_cases1.get_group(dates[i])\n",
    "    for j in range(len(df1_cases.index)):\n",
    "        if df1_cases.iloc[j,1] in arr_states:\n",
    "            dft_cases.loc[i,df1_cases.iloc[j,1]] = df1_cases.iloc[j,2]\n",
    "dft_cases = dft_cases.set_index('states')"
   ]
  },
  {
   "cell_type": "code",
   "execution_count": 8,
   "metadata": {
    "execution": {
     "iopub.execute_input": "2020-08-22T11:37:17.690225Z",
     "iopub.status.busy": "2020-08-22T11:37:17.689549Z",
     "iopub.status.idle": "2020-08-22T11:37:17.692201Z",
     "shell.execute_reply": "2020-08-22T11:37:17.691629Z"
    },
    "papermill": {
     "duration": 0.024019,
     "end_time": "2020-08-22T11:37:17.692336",
     "exception": false,
     "start_time": "2020-08-22T11:37:17.668317",
     "status": "completed"
    },
    "tags": []
   },
   "outputs": [],
   "source": [
    "#hide\n",
    "dft_cases = dft_cases.T\n",
    "dft_deaths = dft_deaths.T\n",
    "dt_today = dates[-1]\n",
    "dt_yday = dates[-2]"
   ]
  },
  {
   "cell_type": "code",
   "execution_count": 9,
   "metadata": {
    "execution": {
     "iopub.execute_input": "2020-08-22T11:37:17.736531Z",
     "iopub.status.busy": "2020-08-22T11:37:17.732028Z",
     "iopub.status.idle": "2020-08-22T11:37:17.739138Z",
     "shell.execute_reply": "2020-08-22T11:37:17.738584Z"
    },
    "papermill": {
     "duration": 0.030094,
     "end_time": "2020-08-22T11:37:17.739276",
     "exception": false,
     "start_time": "2020-08-22T11:37:17.709182",
     "status": "completed"
    },
    "tags": []
   },
   "outputs": [],
   "source": [
    "#hide\n",
    "dft_cases = dft_cases.reset_index()\n",
    "dft_deaths = dft_deaths.reset_index()\n",
    "dft_cases = dft_cases.rename(columns = {'index':'state'})\n",
    "dft_deaths = dft_deaths.rename(columns = {'index':'state'})"
   ]
  },
  {
   "cell_type": "code",
   "execution_count": 10,
   "metadata": {
    "execution": {
     "iopub.execute_input": "2020-08-22T11:37:17.781470Z",
     "iopub.status.busy": "2020-08-22T11:37:17.780668Z",
     "iopub.status.idle": "2020-08-22T11:37:17.787546Z",
     "shell.execute_reply": "2020-08-22T11:37:17.788058Z"
    },
    "papermill": {
     "duration": 0.03281,
     "end_time": "2020-08-22T11:37:17.788241",
     "exception": false,
     "start_time": "2020-08-22T11:37:17.755431",
     "status": "completed"
    },
    "tags": []
   },
   "outputs": [],
   "source": [
    "#hide\n",
    "dfc_cases = dft_cases.groupby('state')[dt_today].sum()\n",
    "dfc_deaths = dft_deaths.groupby('state')[dt_today].sum()\n",
    "dfp_cases = dft_cases.groupby('state')[dt_yday].sum()\n",
    "dfp_deaths = dft_deaths.groupby('state')[dt_yday].sum()"
   ]
  },
  {
   "cell_type": "code",
   "execution_count": 11,
   "metadata": {
    "execution": {
     "iopub.execute_input": "2020-08-22T11:37:17.842001Z",
     "iopub.status.busy": "2020-08-22T11:37:17.837250Z",
     "iopub.status.idle": "2020-08-22T11:37:17.846975Z",
     "shell.execute_reply": "2020-08-22T11:37:17.845984Z"
    },
    "papermill": {
     "duration": 0.042076,
     "end_time": "2020-08-22T11:37:17.847168",
     "exception": false,
     "start_time": "2020-08-22T11:37:17.805092",
     "status": "completed"
    },
    "tags": []
   },
   "outputs": [
    {
     "data": {
      "text/html": [
       "<div>\n",
       "<style scoped>\n",
       "    .dataframe tbody tr th:only-of-type {\n",
       "        vertical-align: middle;\n",
       "    }\n",
       "\n",
       "    .dataframe tbody tr th {\n",
       "        vertical-align: top;\n",
       "    }\n",
       "\n",
       "    .dataframe thead th {\n",
       "        text-align: right;\n",
       "    }\n",
       "</style>\n",
       "<table border=\"1\" class=\"dataframe\">\n",
       "  <thead>\n",
       "    <tr style=\"text-align: right;\">\n",
       "      <th></th>\n",
       "      <th>states</th>\n",
       "      <th>Cases</th>\n",
       "      <th>Deaths</th>\n",
       "      <th>PCases</th>\n",
       "      <th>PDeaths</th>\n",
       "    </tr>\n",
       "  </thead>\n",
       "  <tbody>\n",
       "    <tr>\n",
       "      <th>0</th>\n",
       "      <td>Maharashtra</td>\n",
       "      <td>657450</td>\n",
       "      <td>21698</td>\n",
       "      <td>657450</td>\n",
       "      <td>21698</td>\n",
       "    </tr>\n",
       "    <tr>\n",
       "      <th>1</th>\n",
       "      <td>Tamil Nadu</td>\n",
       "      <td>367430</td>\n",
       "      <td>6340</td>\n",
       "      <td>367430</td>\n",
       "      <td>6340</td>\n",
       "    </tr>\n",
       "    <tr>\n",
       "      <th>2</th>\n",
       "      <td>Andhra Pradesh</td>\n",
       "      <td>334940</td>\n",
       "      <td>3092</td>\n",
       "      <td>334940</td>\n",
       "      <td>3092</td>\n",
       "    </tr>\n",
       "    <tr>\n",
       "      <th>3</th>\n",
       "      <td>Karnataka</td>\n",
       "      <td>264546</td>\n",
       "      <td>4522</td>\n",
       "      <td>264546</td>\n",
       "      <td>4522</td>\n",
       "    </tr>\n",
       "    <tr>\n",
       "      <th>4</th>\n",
       "      <td>Uttar Pradesh</td>\n",
       "      <td>182423</td>\n",
       "      <td>2867</td>\n",
       "      <td>177239</td>\n",
       "      <td>2797</td>\n",
       "    </tr>\n",
       "  </tbody>\n",
       "</table>\n",
       "</div>"
      ],
      "text/plain": [
       "           states   Cases  Deaths  PCases  PDeaths\n",
       "0     Maharashtra  657450   21698  657450    21698\n",
       "1      Tamil Nadu  367430    6340  367430     6340\n",
       "2  Andhra Pradesh  334940    3092  334940     3092\n",
       "3       Karnataka  264546    4522  264546     4522\n",
       "4   Uttar Pradesh  182423    2867  177239     2797"
      ]
     },
     "execution_count": 11,
     "metadata": {},
     "output_type": "execute_result"
    }
   ],
   "source": [
    "#hide\n",
    "df_table = pd.DataFrame({'states': dfc_cases.index, 'Cases': dfc_cases.values, 'Deaths': dfc_deaths.values, 'PCases': dfp_cases.values, 'PDeaths': dfp_deaths.values}).set_index('states')\n",
    "df_table = df_table.sort_values(by = ['Cases','Deaths'], ascending = [False, False])\n",
    "df_table = df_table.reset_index()\n",
    "df_table.head()"
   ]
  },
  {
   "cell_type": "code",
   "execution_count": 12,
   "metadata": {
    "execution": {
     "iopub.execute_input": "2020-08-22T11:37:17.893293Z",
     "iopub.status.busy": "2020-08-22T11:37:17.886657Z",
     "iopub.status.idle": "2020-08-22T11:37:17.896024Z",
     "shell.execute_reply": "2020-08-22T11:37:17.895489Z"
    },
    "papermill": {
     "duration": 0.031834,
     "end_time": "2020-08-22T11:37:17.896149",
     "exception": false,
     "start_time": "2020-08-22T11:37:17.864315",
     "status": "completed"
    },
    "tags": []
   },
   "outputs": [],
   "source": [
    "#hide\n",
    "for c in 'Cases, Deaths'.split(', '):\n",
    "    df_table[f'{c} (+)'] = (df_table[c] - df_table[f'P{c}']).clip(0)\n",
    "df_table['Fatality Rate'] = (100* df_table['Deaths']/ df_table['Cases']).round(2)"
   ]
  },
  {
   "cell_type": "code",
   "execution_count": 13,
   "metadata": {
    "execution": {
     "iopub.execute_input": "2020-08-22T11:37:17.948691Z",
     "iopub.status.busy": "2020-08-22T11:37:17.947999Z",
     "iopub.status.idle": "2020-08-22T11:37:17.951584Z",
     "shell.execute_reply": "2020-08-22T11:37:17.952157Z"
    },
    "papermill": {
     "duration": 0.039531,
     "end_time": "2020-08-22T11:37:17.952332",
     "exception": false,
     "start_time": "2020-08-22T11:37:17.912801",
     "status": "completed"
    },
    "tags": []
   },
   "outputs": [
    {
     "data": {
      "text/html": [
       "<div>\n",
       "<style scoped>\n",
       "    .dataframe tbody tr th:only-of-type {\n",
       "        vertical-align: middle;\n",
       "    }\n",
       "\n",
       "    .dataframe tbody tr th {\n",
       "        vertical-align: top;\n",
       "    }\n",
       "\n",
       "    .dataframe thead th {\n",
       "        text-align: right;\n",
       "    }\n",
       "</style>\n",
       "<table border=\"1\" class=\"dataframe\">\n",
       "  <thead>\n",
       "    <tr style=\"text-align: right;\">\n",
       "      <th></th>\n",
       "      <th>states</th>\n",
       "      <th>Cases</th>\n",
       "      <th>Deaths</th>\n",
       "      <th>PCases</th>\n",
       "      <th>PDeaths</th>\n",
       "      <th>Cases (+)</th>\n",
       "      <th>Deaths (+)</th>\n",
       "      <th>Fatality Rate</th>\n",
       "    </tr>\n",
       "  </thead>\n",
       "  <tbody>\n",
       "    <tr>\n",
       "      <th>0</th>\n",
       "      <td>Maharashtra</td>\n",
       "      <td>657450</td>\n",
       "      <td>21698</td>\n",
       "      <td>657450</td>\n",
       "      <td>21698</td>\n",
       "      <td>0</td>\n",
       "      <td>0</td>\n",
       "      <td>3.30</td>\n",
       "    </tr>\n",
       "    <tr>\n",
       "      <th>1</th>\n",
       "      <td>Tamil Nadu</td>\n",
       "      <td>367430</td>\n",
       "      <td>6340</td>\n",
       "      <td>367430</td>\n",
       "      <td>6340</td>\n",
       "      <td>0</td>\n",
       "      <td>0</td>\n",
       "      <td>1.73</td>\n",
       "    </tr>\n",
       "    <tr>\n",
       "      <th>2</th>\n",
       "      <td>Andhra Pradesh</td>\n",
       "      <td>334940</td>\n",
       "      <td>3092</td>\n",
       "      <td>334940</td>\n",
       "      <td>3092</td>\n",
       "      <td>0</td>\n",
       "      <td>0</td>\n",
       "      <td>0.92</td>\n",
       "    </tr>\n",
       "    <tr>\n",
       "      <th>3</th>\n",
       "      <td>Karnataka</td>\n",
       "      <td>264546</td>\n",
       "      <td>4522</td>\n",
       "      <td>264546</td>\n",
       "      <td>4522</td>\n",
       "      <td>0</td>\n",
       "      <td>0</td>\n",
       "      <td>1.71</td>\n",
       "    </tr>\n",
       "    <tr>\n",
       "      <th>4</th>\n",
       "      <td>Uttar Pradesh</td>\n",
       "      <td>182423</td>\n",
       "      <td>2867</td>\n",
       "      <td>177239</td>\n",
       "      <td>2797</td>\n",
       "      <td>5184</td>\n",
       "      <td>70</td>\n",
       "      <td>1.57</td>\n",
       "    </tr>\n",
       "  </tbody>\n",
       "</table>\n",
       "</div>"
      ],
      "text/plain": [
       "           states   Cases  Deaths  PCases  PDeaths  Cases (+)  Deaths (+)  \\\n",
       "0     Maharashtra  657450   21698  657450    21698          0           0   \n",
       "1      Tamil Nadu  367430    6340  367430     6340          0           0   \n",
       "2  Andhra Pradesh  334940    3092  334940     3092          0           0   \n",
       "3       Karnataka  264546    4522  264546     4522          0           0   \n",
       "4   Uttar Pradesh  182423    2867  177239     2797       5184          70   \n",
       "\n",
       "   Fatality Rate  \n",
       "0           3.30  \n",
       "1           1.73  \n",
       "2           0.92  \n",
       "3           1.71  \n",
       "4           1.57  "
      ]
     },
     "execution_count": 13,
     "metadata": {},
     "output_type": "execute_result"
    }
   ],
   "source": [
    "#hide\n",
    "df_table.head()"
   ]
  },
  {
   "cell_type": "code",
   "execution_count": 14,
   "metadata": {
    "execution": {
     "iopub.execute_input": "2020-08-22T11:37:18.004768Z",
     "iopub.status.busy": "2020-08-22T11:37:18.003954Z",
     "iopub.status.idle": "2020-08-22T11:37:18.023632Z",
     "shell.execute_reply": "2020-08-22T11:37:18.024132Z"
    },
    "papermill": {
     "duration": 0.05415,
     "end_time": "2020-08-22T11:37:18.024299",
     "exception": false,
     "start_time": "2020-08-22T11:37:17.970149",
     "status": "completed"
    },
    "tags": []
   },
   "outputs": [
    {
     "data": {
      "text/plain": [
       "{'updated': '2020-08-22',\n",
       " 'since': '2020-08-21',\n",
       " 'Cases': 2985334,\n",
       " 'PCases': 2973369,\n",
       " 'Deaths': 56030,\n",
       " 'PDeaths': 55928,\n",
       " 'Cases (+)': 11965,\n",
       " 'Deaths (+)': 102}"
      ]
     },
     "execution_count": 14,
     "metadata": {},
     "output_type": "execute_result"
    }
   ],
   "source": [
    "#hide\n",
    "summary = {'updated':dates[-1], 'since':dates[-2]}\n",
    "list_names = ['Cases', 'PCases', 'Deaths', 'PDeaths', 'Cases (+)', 'Deaths (+)']\n",
    "for name in list_names:\n",
    "    summary[name] = df_table.sum()[name]\n",
    "summary"
   ]
  },
  {
   "cell_type": "code",
   "execution_count": 15,
   "metadata": {
    "execution": {
     "iopub.execute_input": "2020-08-22T11:37:18.066630Z",
     "iopub.status.busy": "2020-08-22T11:37:18.065979Z",
     "iopub.status.idle": "2020-08-22T11:37:18.068465Z",
     "shell.execute_reply": "2020-08-22T11:37:18.067803Z"
    },
    "papermill": {
     "duration": 0.026326,
     "end_time": "2020-08-22T11:37:18.068637",
     "exception": false,
     "start_time": "2020-08-22T11:37:18.042311",
     "status": "completed"
    },
    "tags": []
   },
   "outputs": [],
   "source": [
    "#hide\n",
    "overview = '''\n",
    "<!-- #######  HTML!! #########-->\n",
    "<h1 style=\"color: #5e9ca0; text-align: center;\">India</h1>\n",
    "<p style=\"text-align: center;\">Last update: <strong>{update}</strong></p>\n",
    "<p style=\"text-align: center;\">Confirmed cases:</p>\n",
    "<p style=\"text-align: center;font-size:24px;\">{cases} (<span style=\"color: #ff0000;\">+{new}</span>)</p>\n",
    "<p style=\"text-align: center;\">Confirmed deaths:</p>\n",
    "<p style=\"text-align: center;font-size:24px;\">{deaths} (<span style=\"color: #ff0000;\">+{dnew}</span>)</p>\n",
    "'''"
   ]
  },
  {
   "cell_type": "code",
   "execution_count": 16,
   "metadata": {
    "execution": {
     "iopub.execute_input": "2020-08-22T11:37:18.109943Z",
     "iopub.status.busy": "2020-08-22T11:37:18.109302Z",
     "iopub.status.idle": "2020-08-22T11:37:18.112934Z",
     "shell.execute_reply": "2020-08-22T11:37:18.112430Z"
    },
    "papermill": {
     "duration": 0.026563,
     "end_time": "2020-08-22T11:37:18.113051",
     "exception": false,
     "start_time": "2020-08-22T11:37:18.086488",
     "status": "completed"
    },
    "tags": []
   },
   "outputs": [
    {
     "data": {
      "text/html": [
       "\n",
       "<!-- #######  HTML!! #########-->\n",
       "<h1 style=\"color: #5e9ca0; text-align: center;\">India</h1>\n",
       "<p style=\"text-align: center;\">Last update: <strong>2020-08-22</strong></p>\n",
       "<p style=\"text-align: center;\">Confirmed cases:</p>\n",
       "<p style=\"text-align: center;font-size:24px;\">2985334 (<span style=\"color: #ff0000;\">+11965</span>)</p>\n",
       "<p style=\"text-align: center;\">Confirmed deaths:</p>\n",
       "<p style=\"text-align: center;font-size:24px;\">56030 (<span style=\"color: #ff0000;\">+102</span>)</p>\n"
      ],
      "text/plain": [
       "<IPython.core.display.HTML object>"
      ]
     },
     "metadata": {},
     "output_type": "display_data"
    }
   ],
   "source": [
    "#hide_input\n",
    "update = summary['updated']\n",
    "cases = summary['Cases']\n",
    "new = summary['Cases (+)']\n",
    "deaths = summary['Deaths']\n",
    "dnew = summary['Deaths (+)']\n",
    "\n",
    "html = HTML(overview.format(update=update, cases=cases,new=new,deaths=deaths,dnew=dnew))\n",
    "\n",
    "display(html)"
   ]
  },
  {
   "cell_type": "code",
   "execution_count": 17,
   "metadata": {
    "execution": {
     "iopub.execute_input": "2020-08-22T11:37:18.156394Z",
     "iopub.status.busy": "2020-08-22T11:37:18.155673Z",
     "iopub.status.idle": "2020-08-22T11:37:18.161152Z",
     "shell.execute_reply": "2020-08-22T11:37:18.160660Z"
    },
    "papermill": {
     "duration": 0.030569,
     "end_time": "2020-08-22T11:37:18.161280",
     "exception": false,
     "start_time": "2020-08-22T11:37:18.130711",
     "status": "completed"
    },
    "tags": []
   },
   "outputs": [],
   "source": [
    "#hide\n",
    "dt_cols = list(dft_cases.columns[1:])\n",
    "dft_ct_new_cases = dft_cases.groupby('state')[dt_cols].sum().diff(axis=1).fillna(0).astype(int)\n",
    "dft_ct_new_cases.sort_values(by = dates[-1], ascending = False,inplace = True)"
   ]
  },
  {
   "cell_type": "code",
   "execution_count": 18,
   "metadata": {
    "execution": {
     "iopub.execute_input": "2020-08-22T11:37:18.215888Z",
     "iopub.status.busy": "2020-08-22T11:37:18.215177Z",
     "iopub.status.idle": "2020-08-22T11:37:18.217967Z",
     "shell.execute_reply": "2020-08-22T11:37:18.218430Z"
    },
    "papermill": {
     "duration": 0.040221,
     "end_time": "2020-08-22T11:37:18.218578",
     "exception": false,
     "start_time": "2020-08-22T11:37:18.178357",
     "status": "completed"
    },
    "tags": []
   },
   "outputs": [
    {
     "data": {
      "text/html": [
       "<div>\n",
       "<style scoped>\n",
       "    .dataframe tbody tr th:only-of-type {\n",
       "        vertical-align: middle;\n",
       "    }\n",
       "\n",
       "    .dataframe tbody tr th {\n",
       "        vertical-align: top;\n",
       "    }\n",
       "\n",
       "    .dataframe thead th {\n",
       "        text-align: right;\n",
       "    }\n",
       "</style>\n",
       "<table border=\"1\" class=\"dataframe\">\n",
       "  <thead>\n",
       "    <tr style=\"text-align: right;\">\n",
       "      <th>states</th>\n",
       "      <th>2020-07-01</th>\n",
       "      <th>2020-07-02</th>\n",
       "      <th>2020-07-03</th>\n",
       "      <th>2020-07-04</th>\n",
       "      <th>2020-07-05</th>\n",
       "      <th>2020-07-06</th>\n",
       "      <th>2020-07-07</th>\n",
       "      <th>2020-07-08</th>\n",
       "      <th>2020-07-09</th>\n",
       "      <th>2020-07-10</th>\n",
       "      <th>...</th>\n",
       "      <th>2020-08-13</th>\n",
       "      <th>2020-08-14</th>\n",
       "      <th>2020-08-15</th>\n",
       "      <th>2020-08-16</th>\n",
       "      <th>2020-08-17</th>\n",
       "      <th>2020-08-18</th>\n",
       "      <th>2020-08-19</th>\n",
       "      <th>2020-08-20</th>\n",
       "      <th>2020-08-21</th>\n",
       "      <th>2020-08-22</th>\n",
       "    </tr>\n",
       "    <tr>\n",
       "      <th>state</th>\n",
       "      <th></th>\n",
       "      <th></th>\n",
       "      <th></th>\n",
       "      <th></th>\n",
       "      <th></th>\n",
       "      <th></th>\n",
       "      <th></th>\n",
       "      <th></th>\n",
       "      <th></th>\n",
       "      <th></th>\n",
       "      <th></th>\n",
       "      <th></th>\n",
       "      <th></th>\n",
       "      <th></th>\n",
       "      <th></th>\n",
       "      <th></th>\n",
       "      <th></th>\n",
       "      <th></th>\n",
       "      <th></th>\n",
       "      <th></th>\n",
       "      <th></th>\n",
       "    </tr>\n",
       "  </thead>\n",
       "  <tbody>\n",
       "    <tr>\n",
       "      <th>Uttar Pradesh</th>\n",
       "      <td>0</td>\n",
       "      <td>769</td>\n",
       "      <td>972</td>\n",
       "      <td>757</td>\n",
       "      <td>1153</td>\n",
       "      <td>929</td>\n",
       "      <td>1332</td>\n",
       "      <td>1188</td>\n",
       "      <td>1206</td>\n",
       "      <td>1338</td>\n",
       "      <td>...</td>\n",
       "      <td>4537</td>\n",
       "      <td>4512</td>\n",
       "      <td>4774</td>\n",
       "      <td>4357</td>\n",
       "      <td>3798</td>\n",
       "      <td>4218</td>\n",
       "      <td>5076</td>\n",
       "      <td>4824</td>\n",
       "      <td>4905</td>\n",
       "      <td>5184</td>\n",
       "    </tr>\n",
       "    <tr>\n",
       "      <th>Odisha</th>\n",
       "      <td>0</td>\n",
       "      <td>229</td>\n",
       "      <td>561</td>\n",
       "      <td>495</td>\n",
       "      <td>469</td>\n",
       "      <td>456</td>\n",
       "      <td>571</td>\n",
       "      <td>527</td>\n",
       "      <td>577</td>\n",
       "      <td>755</td>\n",
       "      <td>...</td>\n",
       "      <td>1981</td>\n",
       "      <td>1977</td>\n",
       "      <td>2496</td>\n",
       "      <td>2924</td>\n",
       "      <td>2244</td>\n",
       "      <td>2239</td>\n",
       "      <td>2589</td>\n",
       "      <td>2898</td>\n",
       "      <td>2698</td>\n",
       "      <td>2819</td>\n",
       "    </tr>\n",
       "    <tr>\n",
       "      <th>Telangana</th>\n",
       "      <td>0</td>\n",
       "      <td>1213</td>\n",
       "      <td>1892</td>\n",
       "      <td>1850</td>\n",
       "      <td>1590</td>\n",
       "      <td>1831</td>\n",
       "      <td>1879</td>\n",
       "      <td>1924</td>\n",
       "      <td>1410</td>\n",
       "      <td>1278</td>\n",
       "      <td>...</td>\n",
       "      <td>1931</td>\n",
       "      <td>1921</td>\n",
       "      <td>1863</td>\n",
       "      <td>1102</td>\n",
       "      <td>894</td>\n",
       "      <td>1682</td>\n",
       "      <td>1763</td>\n",
       "      <td>1724</td>\n",
       "      <td>1967</td>\n",
       "      <td>2474</td>\n",
       "    </tr>\n",
       "    <tr>\n",
       "      <th>Rajasthan</th>\n",
       "      <td>0</td>\n",
       "      <td>350</td>\n",
       "      <td>390</td>\n",
       "      <td>480</td>\n",
       "      <td>632</td>\n",
       "      <td>524</td>\n",
       "      <td>716</td>\n",
       "      <td>659</td>\n",
       "      <td>500</td>\n",
       "      <td>611</td>\n",
       "      <td>...</td>\n",
       "      <td>1314</td>\n",
       "      <td>1278</td>\n",
       "      <td>1287</td>\n",
       "      <td>1317</td>\n",
       "      <td>1334</td>\n",
       "      <td>1347</td>\n",
       "      <td>1312</td>\n",
       "      <td>1330</td>\n",
       "      <td>1335</td>\n",
       "      <td>612</td>\n",
       "    </tr>\n",
       "    <tr>\n",
       "      <th>Puducherry</th>\n",
       "      <td>0</td>\n",
       "      <td>63</td>\n",
       "      <td>22</td>\n",
       "      <td>80</td>\n",
       "      <td>42</td>\n",
       "      <td>65</td>\n",
       "      <td>30</td>\n",
       "      <td>110</td>\n",
       "      <td>49</td>\n",
       "      <td>72</td>\n",
       "      <td>...</td>\n",
       "      <td>299</td>\n",
       "      <td>315</td>\n",
       "      <td>359</td>\n",
       "      <td>378</td>\n",
       "      <td>297</td>\n",
       "      <td>367</td>\n",
       "      <td>356</td>\n",
       "      <td>540</td>\n",
       "      <td>302</td>\n",
       "      <td>518</td>\n",
       "    </tr>\n",
       "  </tbody>\n",
       "</table>\n",
       "<p>5 rows × 53 columns</p>\n",
       "</div>"
      ],
      "text/plain": [
       "states         2020-07-01  2020-07-02  2020-07-03  2020-07-04  2020-07-05  \\\n",
       "state                                                                       \n",
       "Uttar Pradesh           0         769         972         757        1153   \n",
       "Odisha                  0         229         561         495         469   \n",
       "Telangana               0        1213        1892        1850        1590   \n",
       "Rajasthan               0         350         390         480         632   \n",
       "Puducherry              0          63          22          80          42   \n",
       "\n",
       "states         2020-07-06  2020-07-07  2020-07-08  2020-07-09  2020-07-10  \\\n",
       "state                                                                       \n",
       "Uttar Pradesh         929        1332        1188        1206        1338   \n",
       "Odisha                456         571         527         577         755   \n",
       "Telangana            1831        1879        1924        1410        1278   \n",
       "Rajasthan             524         716         659         500         611   \n",
       "Puducherry             65          30         110          49          72   \n",
       "\n",
       "states         ...  2020-08-13  2020-08-14  2020-08-15  2020-08-16  \\\n",
       "state          ...                                                   \n",
       "Uttar Pradesh  ...        4537        4512        4774        4357   \n",
       "Odisha         ...        1981        1977        2496        2924   \n",
       "Telangana      ...        1931        1921        1863        1102   \n",
       "Rajasthan      ...        1314        1278        1287        1317   \n",
       "Puducherry     ...         299         315         359         378   \n",
       "\n",
       "states         2020-08-17  2020-08-18  2020-08-19  2020-08-20  2020-08-21  \\\n",
       "state                                                                       \n",
       "Uttar Pradesh        3798        4218        5076        4824        4905   \n",
       "Odisha               2244        2239        2589        2898        2698   \n",
       "Telangana             894        1682        1763        1724        1967   \n",
       "Rajasthan            1334        1347        1312        1330        1335   \n",
       "Puducherry            297         367         356         540         302   \n",
       "\n",
       "states         2020-08-22  \n",
       "state                      \n",
       "Uttar Pradesh        5184  \n",
       "Odisha               2819  \n",
       "Telangana            2474  \n",
       "Rajasthan             612  \n",
       "Puducherry            518  \n",
       "\n",
       "[5 rows x 53 columns]"
      ]
     },
     "execution_count": 18,
     "metadata": {},
     "output_type": "execute_result"
    }
   ],
   "source": [
    "#hide\n",
    "dft_ct_new_cases.head()"
   ]
  },
  {
   "cell_type": "code",
   "execution_count": 19,
   "metadata": {
    "execution": {
     "iopub.execute_input": "2020-08-22T11:37:18.274997Z",
     "iopub.status.busy": "2020-08-22T11:37:18.264223Z",
     "iopub.status.idle": "2020-08-22T11:37:21.660863Z",
     "shell.execute_reply": "2020-08-22T11:37:21.660249Z"
    },
    "papermill": {
     "duration": 3.42414,
     "end_time": "2020-08-22T11:37:21.660991",
     "exception": false,
     "start_time": "2020-08-22T11:37:18.236851",
     "status": "completed"
    },
    "tags": []
   },
   "outputs": [
    {
     "data": {
      "image/png": "[encoded data removed]",
      "text/plain": [
       "<Figure size 1296x2016 with 11 Axes>"
      ]
     },
     "metadata": {
      "needs_background": "light"
     },
     "output_type": "display_data"
    }
   ],
   "source": [
    "#hide_input\n",
    "df = dft_ct_new_cases.copy()\n",
    "df.loc['Total'] = df.sum()\n",
    "n = 5\n",
    "ax = []\n",
    "fig = plt.figure(figsize = (18,28))\n",
    "gs = fig.add_gridspec(n+2, 5)\n",
    "# gs = fig.add_gridspec(2, 3)\n",
    "ax1 = fig.add_subplot(gs[0, :])\n",
    "ef = df.loc['Total'].rename_axis('date').reset_index()\n",
    "ef['date'] = ef['date'].astype('datetime64[ns]')\n",
    "ax1.bar(ef.date,ef.Total,alpha=0.3,color='#007acc')\n",
    "ax1.plot(ef.date,ef.Total , marker=\"o\", color='#007acc')\n",
    "ax1.xaxis.set_major_locator(mdates.WeekdayLocator())\n",
    "ax1.xaxis.set_major_formatter(mdates.DateFormatter('%b %d'))\n",
    "ax1.text(0.02, 0.5,'India daily case count', transform = ax1.transAxes, fontsize=25);\n",
    "ax1.spines['right'].set_visible(False)\n",
    "ax1.spines['top'].set_visible(False)\n",
    "\n",
    "ax2 = fig.add_subplot(gs[1,0])\n",
    "ef = df.loc['Maharashtra'].rename_axis('date').reset_index()\n",
    "ef['date'] = ef['date'].astype('datetime64[ns]')\n",
    "\n",
    "ax2.bar(ef.date, ef.Maharashtra,color = '#007acc',alpha=0.5)\n",
    "ax2.xaxis.set_major_locator(mdates.WeekdayLocator())\n",
    "ax2.xaxis.set_major_formatter(mdates.DateFormatter('%b %d'))\n",
    "ax2.set_xticks(ax2.get_xticks()[::3])\n",
    "maxyval = ef.Maharashtra.max()\n",
    "ax2.set_ylim([0,maxyval])\n",
    "ax2.text(0.05, 0.9,'Maharashtra', transform = ax2.transAxes, fontsize=20);\n",
    "ax2.spines['right'].set_visible(False)\n",
    "ax2.spines['top'].set_visible(False)\n",
    "\n",
    "\n",
    "ax3 = fig.add_subplot(gs[1,1])\n",
    "ef = df.loc['Tamil Nadu'].rename_axis('date').reset_index()\n",
    "ef['date'] = ef['date'].astype('datetime64[ns]')\n",
    "ax3.bar(ef.date, ef['Tamil Nadu'],color = '#007acc',alpha=0.5,)\n",
    "ax3.xaxis.set_major_locator(mdates.WeekdayLocator())\n",
    "ax3.xaxis.set_major_formatter(mdates.DateFormatter('%b %d'))\n",
    "ax3.set_xticks(ax3.get_xticks()[::3])\n",
    "ax3.text(0.05, 0.9,'Tamil Nadu', transform = ax3.transAxes, fontsize=20);\n",
    "ax3.spines['right'].set_visible(False)\n",
    "ax3.spines['top'].set_visible(False)\n",
    "\n",
    "ax5 = fig.add_subplot(gs[1,3])\n",
    "ef = df.loc['Telangana'].rename_axis('date').reset_index()\n",
    "ef['date'] = ef['date'].astype('datetime64[ns]')\n",
    "ax5.bar(ef.date, ef['Telangana'],color = '#007acc',alpha=0.5,)\n",
    "ax5.xaxis.set_major_locator(mdates.WeekdayLocator())\n",
    "ax5.xaxis.set_major_formatter(mdates.DateFormatter('%b %d'))\n",
    "ax5.set_xticks(ax5.get_xticks()[::3])\n",
    "ax5.text(0.05, 0.9,'Telangana', transform = ax5.transAxes, fontsize=20);\n",
    "ax5.spines['right'].set_visible(False)\n",
    "ax5.spines['top'].set_visible(False)\n",
    "\n",
    "ax6 = fig.add_subplot(gs[1,4])\n",
    "ef = df.loc['Andhra Pradesh'].rename_axis('date').reset_index()\n",
    "ef['date'] = ef['date'].astype('datetime64[ns]')\n",
    "ax6.bar(ef.date, ef['Andhra Pradesh'],color = '#007acc',alpha=0.5,)\n",
    "ax6.xaxis.set_major_locator(mdates.WeekdayLocator())\n",
    "ax6.xaxis.set_major_formatter(mdates.DateFormatter('%b %d'))\n",
    "ax6.set_xticks(ax6.get_xticks()[::3])\n",
    "ax6.text(0.05, 1,'Andhra Pradesh', transform = ax6.transAxes, fontsize=20);\n",
    "ax6.spines['right'].set_visible(False)\n",
    "ax6.spines['top'].set_visible(False)\n",
    "\n",
    "ax4 = fig.add_subplot(gs[1,2])\n",
    "ef = df.loc['Delhi'].rename_axis('date').reset_index()\n",
    "ef['date'] = ef['date'].astype('datetime64[ns]')\n",
    "ax4.bar(ef.date, ef.Delhi,color = '#007acc',alpha=0.5)\n",
    "ax4.set_xticks([])\n",
    "ax4.xaxis.set_major_locator(mdates.WeekdayLocator())\n",
    "ax4.xaxis.set_major_formatter(mdates.DateFormatter('%b %d'))\n",
    "ax4.set_xticks(ax4.get_xticks()[::3])\n",
    "ax4.spines['right'].set_visible(False)\n",
    "ax4.spines['top'].set_visible(False)\n",
    "\n",
    "ax4.text(0.05, 1,'Delhi', transform = ax4.transAxes, fontsize=20)\n",
    "\n",
    "for i in range(n):\n",
    "    \n",
    "    ax.append(fig.add_subplot(gs[i+2,:]))\n",
    "    ef = df.iloc[i+3].rename_axis('date').reset_index()\n",
    "    ef['date'] = ef['date'].astype('datetime64[ns]')\n",
    "    ax[i].bar(ef.date,ef.iloc[:,-1],color = '#007acc',alpha=0.3)\n",
    "    ax[i].plot(ef.date,ef.iloc[:,-1],marker='o',color='#007acc')\n",
    "    ax[i].text(0.02,0.5,f'{ef.columns.values[-1]}',transform = ax[i].transAxes, fontsize = 20);\n",
    "    ax[i].xaxis.set_major_locator(mdates.WeekdayLocator())\n",
    "    ax[i].xaxis.set_major_formatter(mdates.DateFormatter('%b %d'))\n",
    "    ax[i].set_ylim([0,7000])\n",
    "    ax[i].spines['right'].set_visible(False)\n",
    "    ax[i].spines['top'].set_visible(False)\n",
    "plt.tight_layout()\n"
   ]
  },
  {
   "cell_type": "code",
   "execution_count": 20,
   "metadata": {
    "execution": {
     "iopub.execute_input": "2020-08-22T11:37:21.714138Z",
     "iopub.status.busy": "2020-08-22T11:37:21.713455Z",
     "iopub.status.idle": "2020-08-22T11:37:21.715970Z",
     "shell.execute_reply": "2020-08-22T11:37:21.716562Z"
    },
    "papermill": {
     "duration": 0.033754,
     "end_time": "2020-08-22T11:37:21.716703",
     "exception": false,
     "start_time": "2020-08-22T11:37:21.682949",
     "status": "completed"
    },
    "tags": []
   },
   "outputs": [
    {
     "name": "stdout",
     "output_type": "stream",
     "text": [
      "                                   states   Cases  Deaths  PCases  PDeaths  Cases (+)  Deaths (+)  Fatality Rate\n",
      "                              Maharashtra  657450   21698  657450    21698          0           0           3.30\n",
      "                               Tamil Nadu  367430    6340  367430     6340          0           0           1.73\n",
      "                           Andhra Pradesh  334940    3092  334940     3092          0           0           0.92\n",
      "                                Karnataka  264546    4522  264546     4522          0           0           1.71\n",
      "                            Uttar Pradesh  182423    2867  177239     2797       5184          70           1.57\n",
      "                                    Delhi  158604    4270  158604     4270          0           0           2.69\n",
      "                              West Bengal  132364    2689  132364     2689          0           0           2.03\n",
      "                                    Bihar  117671     588  117671      588          0           0           0.50\n",
      "                                Telangana  101865     744   99391      737       2474           7           0.73\n",
      "                                    Assam   87909     227   87909      227          0           0           0.26\n",
      "                                  Gujarat   84466    2867   84466     2867          0           0           3.39\n",
      "                                   Odisha   75537     452   72718      443       2819           9           0.60\n",
      "                                Rajasthan   68566     938   67954      933        612           5           1.37\n",
      "                                   Kerala   54182     204   54182      204          0           0           0.38\n",
      "                                  Haryana   52129     585   52129      585          0           0           1.12\n",
      "                           Madhya Pradesh   50640    1185   50640     1185          0           0           2.34\n",
      "                                   Punjab   39327     991   39327      991          0           0           2.52\n",
      "                        Jammu and Kashmir   31371     593   31371      593          0           0           1.89\n",
      "                                Jharkhand   28196     297   28196      297          0           0           1.05\n",
      "                             Chhattisgarh   19510     180   19510      180          0           0           0.92\n",
      "                              Uttarakhand   14083     192   14083      192          0           0           1.36\n",
      "                                      Goa   13484     135   13484      135          0           0           1.00\n",
      "                               Puducherry   10112     151    9594      143        518           8           1.49\n",
      "                                  Tripura    8386      70    8106       69        280           1           0.83\n",
      "                                  Manipur    5049      20    5049       20          0           0           0.40\n",
      "                         Himachal Pradesh    4780      26    4728       24         52           2           0.54\n",
      "                                 Nagaland    3635       7    3619        7         16           0           0.19\n",
      "                        Arunachal Pradesh    3126       5    3126        5          0           0           0.16\n",
      "              Andaman and Nicobar Islands    2747      32    2747       32          0           0           1.16\n",
      "                               Chandigarh    2631      33    2631       33          0           0           1.25\n",
      "                                   Ladakh    2133      19    2133       19          0           0           0.89\n",
      " Dadra and Nagar Haveli and Daman and Diu    2085       2    2083        2          2           0           0.10\n",
      "                                Meghalaya    1718       6    1718        6          0           0           0.35\n",
      "                                   Sikkim    1336       3    1336        3          0           0           0.22\n",
      "                                  Mizoram     903       0     895        0          8           0           0.00\n",
      "                              Lakshadweep       0       0       0        0          0           0            NaN\n"
     ]
    }
   ],
   "source": [
    "#hide_input\n",
    "print(df_table.to_string(index=False))"
   ]
  },
  {
   "cell_type": "code",
   "execution_count": null,
   "metadata": {
    "papermill": {
     "duration": 0.024091,
     "end_time": "2020-08-22T11:37:21.762758",
     "exception": false,
     "start_time": "2020-08-22T11:37:21.738667",
     "status": "completed"
    },
    "tags": []
   },
   "outputs": [],
   "source": []
  },
  {
   "cell_type": "code",
   "execution_count": null,
   "metadata": {
    "papermill": {
     "duration": 0.022215,
     "end_time": "2020-08-22T11:37:21.807527",
     "exception": false,
     "start_time": "2020-08-22T11:37:21.785312",
     "status": "completed"
    },
    "tags": []
   },
   "outputs": [],
   "source": []
  }
 ],
 "metadata": {
  "kernelspec": {
   "display_name": "Python 3",
   "language": "python",
   "name": "python3"
  },
  "language_info": {
   "codemirror_mode": {
    "name": "ipython",
    "version": 3
   },
   "file_extension": ".py",
   "mimetype": "text/x-python",
   "name": "python",
   "nbconvert_exporter": "python",
   "pygments_lexer": "ipython3",
   "version": "3.6.11"
  },
  "papermill": {
   "duration": 11.332449,
   "end_time": "2020-08-22T11:37:23.062805",
   "environment_variables": {},
   "exception": null,
   "input_path": "latest.ipynb",
   "output_path": "latest.ipynb",
   "parameters": {},
   "start_time": "2020-08-22T11:37:11.730356",
   "version": "2.1.2"
  }
 },
 "nbformat": 4,
 "nbformat_minor": 4
}