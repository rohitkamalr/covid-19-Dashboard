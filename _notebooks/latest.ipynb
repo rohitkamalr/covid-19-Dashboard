{
 "cells": [
  {
   "cell_type": "markdown",
   "id": "colored-stack",
   "metadata": {
    "papermill": {
     "duration": 0.018807,
     "end_time": "2021-05-15T13:45:12.308564",
     "exception": false,
     "start_time": "2021-05-15T13:45:12.289757",
     "status": "completed"
    },
    "tags": []
   },
   "source": [
    "# Latest COVID-19 India Matplotlib Overview"
   ]
  },
  {
   "cell_type": "code",
   "execution_count": 1,
   "id": "light-proportion",
   "metadata": {
    "execution": {
     "iopub.execute_input": "2021-05-15T13:45:12.351952Z",
     "iopub.status.busy": "2021-05-15T13:45:12.351452Z",
     "iopub.status.idle": "2021-05-15T13:45:12.855770Z",
     "shell.execute_reply": "2021-05-15T13:45:12.855314Z"
    },
    "papermill": {
     "duration": 0.531008,
     "end_time": "2021-05-15T13:45:12.855900",
     "exception": false,
     "start_time": "2021-05-15T13:45:12.324892",
     "status": "completed"
    },
    "tags": []
   },
   "outputs": [],
   "source": [
    "#hide\n",
    "import pandas as pd\n",
    "import numpy as np\n",
    "import requests\n",
    "import json\n",
    "import matplotlib.pyplot as plt\n",
    "import matplotlib.dates as mdates\n",
    "import matplotlib as mpl\n",
    "from IPython.core.display import display,HTML\n",
    "%matplotlib inline\n",
    "from datetime import date"
   ]
  },
  {
   "cell_type": "code",
   "execution_count": 2,
   "id": "greenhouse-shooting",
   "metadata": {
    "execution": {
     "iopub.execute_input": "2021-05-15T13:45:12.894426Z",
     "iopub.status.busy": "2021-05-15T13:45:12.893548Z",
     "iopub.status.idle": "2021-05-15T13:45:13.172138Z",
     "shell.execute_reply": "2021-05-15T13:45:13.171439Z"
    },
    "papermill": {
     "duration": 0.300692,
     "end_time": "2021-05-15T13:45:13.172277",
     "exception": false,
     "start_time": "2021-05-15T13:45:12.871585",
     "status": "completed"
    },
    "tags": []
   },
   "outputs": [],
   "source": [
    "#hide\n",
    "df  = pd.read_csv('https://api.covid19india.org/csv/latest/states.csv')\n",
    "df = df[['Date','State','Confirmed','Deceased']]\n",
    "df = df.rename(columns={'Confirmed':'Cases', \"Deceased\":'Deaths'})\n",
    "df_cases = df[[\"Date\",'State','Cases']]\n",
    "df_deaths = df[['Date','State','Deaths']]\n",
    "df_cases1 = df_cases.groupby('Date')\n",
    "df_deaths1= df_deaths.groupby('Date')"
   ]
  },
  {
   "cell_type": "code",
   "execution_count": 3,
   "id": "hybrid-cathedral",
   "metadata": {
    "execution": {
     "iopub.execute_input": "2021-05-15T13:45:13.207990Z",
     "iopub.status.busy": "2021-05-15T13:45:13.207446Z",
     "iopub.status.idle": "2021-05-15T13:45:13.224219Z",
     "shell.execute_reply": "2021-05-15T13:45:13.224675Z"
    },
    "papermill": {
     "duration": 0.036101,
     "end_time": "2021-05-15T13:45:13.224787",
     "exception": false,
     "start_time": "2021-05-15T13:45:13.188686",
     "status": "completed"
    },
    "tags": []
   },
   "outputs": [],
   "source": [
    "#hide\n",
    "df_snap = pd.read_csv('data/SnapshotCases-28-July.csv')\n",
    "arr_states = df_snap['states'].unique()\n",
    "arr_dates = df['Date'].unique()\n",
    "df_snap = df_snap.set_index('states')"
   ]
  },
  {
   "cell_type": "code",
   "execution_count": 4,
   "id": "interior-belfast",
   "metadata": {
    "execution": {
     "iopub.execute_input": "2021-05-15T13:45:13.259938Z",
     "iopub.status.busy": "2021-05-15T13:45:13.259447Z",
     "iopub.status.idle": "2021-05-15T13:45:13.262197Z",
     "shell.execute_reply": "2021-05-15T13:45:13.262601Z"
    },
    "papermill": {
     "duration": 0.023322,
     "end_time": "2021-05-15T13:45:13.262707",
     "exception": false,
     "start_time": "2021-05-15T13:45:13.239385",
     "status": "completed"
    },
    "tags": []
   },
   "outputs": [
    {
     "data": {
      "text/plain": [
       "array(['Andaman and Nicobar Islands', 'Andhra Pradesh',\n",
       "       'Arunachal Pradesh', 'Assam', 'Bihar', 'Chandigarh',\n",
       "       'Dadra and Nagar Haveli and Daman and Diu', 'Delhi', 'Goa',\n",
       "       'Gujarat', 'Haryana', 'Himachal Pradesh', 'Jammu and Kashmir',\n",
       "       'Jharkhand', 'Karnataka', 'Kerala', 'Lakshadweep',\n",
       "       'Madhya Pradesh', 'Maharashtra', 'Manipur', 'Meghalaya', 'Mizoram',\n",
       "       'Nagaland', 'Odisha', 'Puducherry', 'Punjab', 'Rajasthan',\n",
       "       'Sikkim', 'Tamil Nadu', 'Telangana', 'Tripura', 'Uttar Pradesh',\n",
       "       'West Bengal', 'Chhattisgarh', 'Ladakh', 'Uttarakhand'],\n",
       "      dtype=object)"
      ]
     },
     "execution_count": 4,
     "metadata": {},
     "output_type": "execute_result"
    }
   ],
   "source": [
    "#hide\n",
    "arr_states[-9] = 'Puducherry'\n",
    "arr_states[-10] = 'Odisha'\n",
    "arr_states[6] = 'Dadra and Nagar Haveli and Daman and Diu'\n",
    "arr_states = np.append(arr_states,np.array(['Chhattisgarh','Ladakh','Uttarakhand']))\n",
    "arr_states"
   ]
  },
  {
   "cell_type": "code",
   "execution_count": 5,
   "id": "behind-manner",
   "metadata": {
    "execution": {
     "iopub.execute_input": "2021-05-15T13:45:13.304107Z",
     "iopub.status.busy": "2021-05-15T13:45:13.303609Z",
     "iopub.status.idle": "2021-05-15T13:45:13.312733Z",
     "shell.execute_reply": "2021-05-15T13:45:13.312305Z"
    },
    "papermill": {
     "duration": 0.034623,
     "end_time": "2021-05-15T13:45:13.312826",
     "exception": false,
     "start_time": "2021-05-15T13:45:13.278203",
     "status": "completed"
    },
    "tags": []
   },
   "outputs": [],
   "source": [
    "#hide\n",
    "dates = []\n",
    "for i in arr_dates:\n",
    "    if i>='2020-07-01':\n",
    "        dates.append(i)\n",
    "dict = {'states':dates}\n",
    "for i in arr_states:\n",
    "    dict[i] = [0]*len(dates)\n",
    "dft_cases = pd.DataFrame(dict)\n",
    "dft_deaths = pd.DataFrame(dict)\n"
   ]
  },
  {
   "cell_type": "code",
   "execution_count": 6,
   "id": "simplified-peter",
   "metadata": {
    "execution": {
     "iopub.execute_input": "2021-05-15T13:45:13.351340Z",
     "iopub.status.busy": "2021-05-15T13:45:13.350683Z",
     "iopub.status.idle": "2021-05-15T13:45:18.397320Z",
     "shell.execute_reply": "2021-05-15T13:45:18.397764Z"
    },
    "papermill": {
     "duration": 5.069214,
     "end_time": "2021-05-15T13:45:18.397940",
     "exception": false,
     "start_time": "2021-05-15T13:45:13.328726",
     "status": "completed"
    },
    "tags": []
   },
   "outputs": [],
   "source": [
    "#hide\n",
    "for i in range(len(dates)):\n",
    "    df1_deaths = df_deaths1.get_group(dates[i])\n",
    "    for j in range(len(df1_deaths.index)):\n",
    "        if df1_deaths.iloc[j,1] in arr_states:\n",
    "            dft_deaths.loc[i,df1_deaths.iloc[j,1]] = df1_deaths.iloc[j,2]\n",
    "dft_deaths = dft_deaths.set_index('states')"
   ]
  },
  {
   "cell_type": "code",
   "execution_count": 7,
   "id": "geological-welding",
   "metadata": {
    "execution": {
     "iopub.execute_input": "2021-05-15T13:45:18.435206Z",
     "iopub.status.busy": "2021-05-15T13:45:18.434652Z",
     "iopub.status.idle": "2021-05-15T13:45:23.487115Z",
     "shell.execute_reply": "2021-05-15T13:45:23.486579Z"
    },
    "papermill": {
     "duration": 5.073135,
     "end_time": "2021-05-15T13:45:23.487247",
     "exception": false,
     "start_time": "2021-05-15T13:45:18.414112",
     "status": "completed"
    },
    "tags": []
   },
   "outputs": [],
   "source": [
    "#hide\n",
    "for i in range(len(dates)):\n",
    "    df1_cases = df_cases1.get_group(dates[i])\n",
    "    for j in range(len(df1_cases.index)):\n",
    "        if df1_cases.iloc[j,1] in arr_states:\n",
    "            dft_cases.loc[i,df1_cases.iloc[j,1]] = df1_cases.iloc[j,2]\n",
    "dft_cases = dft_cases.set_index('states')"
   ]
  },
  {
   "cell_type": "code",
   "execution_count": 8,
   "id": "binary-ratio",
   "metadata": {
    "execution": {
     "iopub.execute_input": "2021-05-15T13:45:23.526060Z",
     "iopub.status.busy": "2021-05-15T13:45:23.525555Z",
     "iopub.status.idle": "2021-05-15T13:45:23.527489Z",
     "shell.execute_reply": "2021-05-15T13:45:23.527878Z"
    },
    "papermill": {
     "duration": 0.024625,
     "end_time": "2021-05-15T13:45:23.527990",
     "exception": false,
     "start_time": "2021-05-15T13:45:23.503365",
     "status": "completed"
    },
    "tags": []
   },
   "outputs": [],
   "source": [
    "#hide\n",
    "dft_cases = dft_cases.T\n",
    "dft_deaths = dft_deaths.T\n",
    "dt_today = dates[-1]\n",
    "dt_yday = dates[-2]"
   ]
  },
  {
   "cell_type": "code",
   "execution_count": 9,
   "id": "boolean-calculator",
   "metadata": {
    "execution": {
     "iopub.execute_input": "2021-05-15T13:45:23.563143Z",
     "iopub.status.busy": "2021-05-15T13:45:23.562639Z",
     "iopub.status.idle": "2021-05-15T13:45:23.567591Z",
     "shell.execute_reply": "2021-05-15T13:45:23.567156Z"
    },
    "papermill": {
     "duration": 0.024166,
     "end_time": "2021-05-15T13:45:23.567687",
     "exception": false,
     "start_time": "2021-05-15T13:45:23.543521",
     "status": "completed"
    },
    "tags": []
   },
   "outputs": [],
   "source": [
    "#hide\n",
    "dft_cases = dft_cases.reset_index()\n",
    "dft_deaths = dft_deaths.reset_index()\n",
    "dft_cases = dft_cases.rename(columns = {'index':'state'})\n",
    "dft_deaths = dft_deaths.rename(columns = {'index':'state'})"
   ]
  },
  {
   "cell_type": "code",
   "execution_count": 10,
   "id": "invisible-johnston",
   "metadata": {
    "execution": {
     "iopub.execute_input": "2021-05-15T13:45:23.604743Z",
     "iopub.status.busy": "2021-05-15T13:45:23.604109Z",
     "iopub.status.idle": "2021-05-15T13:45:23.610975Z",
     "shell.execute_reply": "2021-05-15T13:45:23.610565Z"
    },
    "papermill": {
     "duration": 0.028135,
     "end_time": "2021-05-15T13:45:23.611072",
     "exception": false,
     "start_time": "2021-05-15T13:45:23.582937",
     "status": "completed"
    },
    "tags": []
   },
   "outputs": [],
   "source": [
    "#hide\n",
    "dfc_cases = dft_cases.groupby('state')[dt_today].sum()\n",
    "dfc_deaths = dft_deaths.groupby('state')[dt_today].sum()\n",
    "dfp_cases = dft_cases.groupby('state')[dt_yday].sum()\n",
    "dfp_deaths = dft_deaths.groupby('state')[dt_yday].sum()"
   ]
  },
  {
   "cell_type": "code",
   "execution_count": 11,
   "id": "measured-great",
   "metadata": {
    "execution": {
     "iopub.execute_input": "2021-05-15T13:45:23.647225Z",
     "iopub.status.busy": "2021-05-15T13:45:23.646705Z",
     "iopub.status.idle": "2021-05-15T13:45:23.661687Z",
     "shell.execute_reply": "2021-05-15T13:45:23.661176Z"
    },
    "papermill": {
     "duration": 0.035282,
     "end_time": "2021-05-15T13:45:23.661784",
     "exception": false,
     "start_time": "2021-05-15T13:45:23.626502",
     "status": "completed"
    },
    "tags": []
   },
   "outputs": [
    {
     "data": {
      "text/html": [
       "<div>\n",
       "<style scoped>\n",
       "    .dataframe tbody tr th:only-of-type {\n",
       "        vertical-align: middle;\n",
       "    }\n",
       "\n",
       "    .dataframe tbody tr th {\n",
       "        vertical-align: top;\n",
       "    }\n",
       "\n",
       "    .dataframe thead th {\n",
       "        text-align: right;\n",
       "    }\n",
       "</style>\n",
       "<table border=\"1\" class=\"dataframe\">\n",
       "  <thead>\n",
       "    <tr style=\"text-align: right;\">\n",
       "      <th></th>\n",
       "      <th>states</th>\n",
       "      <th>Cases</th>\n",
       "      <th>Deaths</th>\n",
       "      <th>PCases</th>\n",
       "      <th>PDeaths</th>\n",
       "    </tr>\n",
       "  </thead>\n",
       "  <tbody>\n",
       "    <tr>\n",
       "      <th>0</th>\n",
       "      <td>Maharashtra</td>\n",
       "      <td>5309215</td>\n",
       "      <td>79552</td>\n",
       "      <td>5309215</td>\n",
       "      <td>79552</td>\n",
       "    </tr>\n",
       "    <tr>\n",
       "      <th>1</th>\n",
       "      <td>Karnataka</td>\n",
       "      <td>2130267</td>\n",
       "      <td>21085</td>\n",
       "      <td>2130267</td>\n",
       "      <td>21085</td>\n",
       "    </tr>\n",
       "    <tr>\n",
       "      <th>2</th>\n",
       "      <td>Kerala</td>\n",
       "      <td>2085584</td>\n",
       "      <td>6244</td>\n",
       "      <td>2085584</td>\n",
       "      <td>6244</td>\n",
       "    </tr>\n",
       "    <tr>\n",
       "      <th>3</th>\n",
       "      <td>Uttar Pradesh</td>\n",
       "      <td>1606892</td>\n",
       "      <td>17163</td>\n",
       "      <td>1596627</td>\n",
       "      <td>16957</td>\n",
       "    </tr>\n",
       "    <tr>\n",
       "      <th>4</th>\n",
       "      <td>Tamil Nadu</td>\n",
       "      <td>1531377</td>\n",
       "      <td>17056</td>\n",
       "      <td>1531377</td>\n",
       "      <td>17056</td>\n",
       "    </tr>\n",
       "  </tbody>\n",
       "</table>\n",
       "</div>"
      ],
      "text/plain": [
       "          states    Cases  Deaths   PCases  PDeaths\n",
       "0    Maharashtra  5309215   79552  5309215    79552\n",
       "1      Karnataka  2130267   21085  2130267    21085\n",
       "2         Kerala  2085584    6244  2085584     6244\n",
       "3  Uttar Pradesh  1606892   17163  1596627    16957\n",
       "4     Tamil Nadu  1531377   17056  1531377    17056"
      ]
     },
     "execution_count": 11,
     "metadata": {},
     "output_type": "execute_result"
    }
   ],
   "source": [
    "#hide\n",
    "df_table = pd.DataFrame({'states': dfc_cases.index, 'Cases': dfc_cases.values, 'Deaths': dfc_deaths.values, 'PCases': dfp_cases.values, 'PDeaths': dfp_deaths.values}).set_index('states')\n",
    "df_table = df_table.sort_values(by = ['Cases','Deaths'], ascending = [False, False])\n",
    "df_table = df_table.reset_index()\n",
    "df_table.head()"
   ]
  },
  {
   "cell_type": "code",
   "execution_count": 12,
   "id": "found-montreal",
   "metadata": {
    "execution": {
     "iopub.execute_input": "2021-05-15T13:45:23.699792Z",
     "iopub.status.busy": "2021-05-15T13:45:23.699221Z",
     "iopub.status.idle": "2021-05-15T13:45:23.706590Z",
     "shell.execute_reply": "2021-05-15T13:45:23.707021Z"
    },
    "papermill": {
     "duration": 0.02813,
     "end_time": "2021-05-15T13:45:23.707127",
     "exception": false,
     "start_time": "2021-05-15T13:45:23.678997",
     "status": "completed"
    },
    "tags": []
   },
   "outputs": [],
   "source": [
    "#hide\n",
    "for c in 'Cases, Deaths'.split(', '):\n",
    "    df_table[f'{c} (+)'] = (df_table[c] - df_table[f'P{c}']).clip(0)\n",
    "df_table['Fatality Rate'] = (100* df_table['Deaths']/ df_table['Cases']).round(2)"
   ]
  },
  {
   "cell_type": "code",
   "execution_count": 13,
   "id": "minus-savage",
   "metadata": {
    "execution": {
     "iopub.execute_input": "2021-05-15T13:45:23.750975Z",
     "iopub.status.busy": "2021-05-15T13:45:23.750484Z",
     "iopub.status.idle": "2021-05-15T13:45:23.753675Z",
     "shell.execute_reply": "2021-05-15T13:45:23.753256Z"
    },
    "papermill": {
     "duration": 0.02905,
     "end_time": "2021-05-15T13:45:23.753768",
     "exception": false,
     "start_time": "2021-05-15T13:45:23.724718",
     "status": "completed"
    },
    "tags": []
   },
   "outputs": [
    {
     "data": {
      "text/html": [
       "<div>\n",
       "<style scoped>\n",
       "    .dataframe tbody tr th:only-of-type {\n",
       "        vertical-align: middle;\n",
       "    }\n",
       "\n",
       "    .dataframe tbody tr th {\n",
       "        vertical-align: top;\n",
       "    }\n",
       "\n",
       "    .dataframe thead th {\n",
       "        text-align: right;\n",
       "    }\n",
       "</style>\n",
       "<table border=\"1\" class=\"dataframe\">\n",
       "  <thead>\n",
       "    <tr style=\"text-align: right;\">\n",
       "      <th></th>\n",
       "      <th>states</th>\n",
       "      <th>Cases</th>\n",
       "      <th>Deaths</th>\n",
       "      <th>PCases</th>\n",
       "      <th>PDeaths</th>\n",
       "      <th>Cases (+)</th>\n",
       "      <th>Deaths (+)</th>\n",
       "      <th>Fatality Rate</th>\n",
       "    </tr>\n",
       "  </thead>\n",
       "  <tbody>\n",
       "    <tr>\n",
       "      <th>0</th>\n",
       "      <td>Maharashtra</td>\n",
       "      <td>5309215</td>\n",
       "      <td>79552</td>\n",
       "      <td>5309215</td>\n",
       "      <td>79552</td>\n",
       "      <td>0</td>\n",
       "      <td>0</td>\n",
       "      <td>1.50</td>\n",
       "    </tr>\n",
       "    <tr>\n",
       "      <th>1</th>\n",
       "      <td>Karnataka</td>\n",
       "      <td>2130267</td>\n",
       "      <td>21085</td>\n",
       "      <td>2130267</td>\n",
       "      <td>21085</td>\n",
       "      <td>0</td>\n",
       "      <td>0</td>\n",
       "      <td>0.99</td>\n",
       "    </tr>\n",
       "    <tr>\n",
       "      <th>2</th>\n",
       "      <td>Kerala</td>\n",
       "      <td>2085584</td>\n",
       "      <td>6244</td>\n",
       "      <td>2085584</td>\n",
       "      <td>6244</td>\n",
       "      <td>0</td>\n",
       "      <td>0</td>\n",
       "      <td>0.30</td>\n",
       "    </tr>\n",
       "    <tr>\n",
       "      <th>3</th>\n",
       "      <td>Uttar Pradesh</td>\n",
       "      <td>1606892</td>\n",
       "      <td>17163</td>\n",
       "      <td>1596627</td>\n",
       "      <td>16957</td>\n",
       "      <td>10265</td>\n",
       "      <td>206</td>\n",
       "      <td>1.07</td>\n",
       "    </tr>\n",
       "    <tr>\n",
       "      <th>4</th>\n",
       "      <td>Tamil Nadu</td>\n",
       "      <td>1531377</td>\n",
       "      <td>17056</td>\n",
       "      <td>1531377</td>\n",
       "      <td>17056</td>\n",
       "      <td>0</td>\n",
       "      <td>0</td>\n",
       "      <td>1.11</td>\n",
       "    </tr>\n",
       "  </tbody>\n",
       "</table>\n",
       "</div>"
      ],
      "text/plain": [
       "          states    Cases  Deaths   PCases  PDeaths  Cases (+)  Deaths (+)  \\\n",
       "0    Maharashtra  5309215   79552  5309215    79552          0           0   \n",
       "1      Karnataka  2130267   21085  2130267    21085          0           0   \n",
       "2         Kerala  2085584    6244  2085584     6244          0           0   \n",
       "3  Uttar Pradesh  1606892   17163  1596627    16957      10265         206   \n",
       "4     Tamil Nadu  1531377   17056  1531377    17056          0           0   \n",
       "\n",
       "   Fatality Rate  \n",
       "0           1.50  \n",
       "1           0.99  \n",
       "2           0.30  \n",
       "3           1.07  \n",
       "4           1.11  "
      ]
     },
     "execution_count": 13,
     "metadata": {},
     "output_type": "execute_result"
    }
   ],
   "source": [
    "#hide\n",
    "df_table.head()"
   ]
  },
  {
   "cell_type": "code",
   "execution_count": 14,
   "id": "false-peter",
   "metadata": {
    "execution": {
     "iopub.execute_input": "2021-05-15T13:45:23.790992Z",
     "iopub.status.busy": "2021-05-15T13:45:23.790493Z",
     "iopub.status.idle": "2021-05-15T13:45:23.806270Z",
     "shell.execute_reply": "2021-05-15T13:45:23.806834Z"
    },
    "papermill": {
     "duration": 0.036795,
     "end_time": "2021-05-15T13:45:23.806940",
     "exception": false,
     "start_time": "2021-05-15T13:45:23.770145",
     "status": "completed"
    },
    "tags": []
   },
   "outputs": [
    {
     "data": {
      "text/plain": [
       "{'updated': '2021-05-15',\n",
       " 'since': '2021-05-14',\n",
       " 'Cases': 24403927,\n",
       " 'PCases': 24372483,\n",
       " 'Deaths': 266857,\n",
       " 'PDeaths': 266244,\n",
       " 'Cases (+)': 31444,\n",
       " 'Deaths (+)': 613}"
      ]
     },
     "execution_count": 14,
     "metadata": {},
     "output_type": "execute_result"
    }
   ],
   "source": [
    "#hide\n",
    "summary = {'updated':dates[-1], 'since':dates[-2]}\n",
    "list_names = ['Cases', 'PCases', 'Deaths', 'PDeaths', 'Cases (+)', 'Deaths (+)']\n",
    "for name in list_names:\n",
    "    summary[name] = df_table.sum()[name]\n",
    "summary"
   ]
  },
  {
   "cell_type": "code",
   "execution_count": 15,
   "id": "packed-viewer",
   "metadata": {
    "execution": {
     "iopub.execute_input": "2021-05-15T13:45:23.842969Z",
     "iopub.status.busy": "2021-05-15T13:45:23.842442Z",
     "iopub.status.idle": "2021-05-15T13:45:23.844876Z",
     "shell.execute_reply": "2021-05-15T13:45:23.844365Z"
    },
    "papermill": {
     "duration": 0.022104,
     "end_time": "2021-05-15T13:45:23.844975",
     "exception": false,
     "start_time": "2021-05-15T13:45:23.822871",
     "status": "completed"
    },
    "tags": []
   },
   "outputs": [],
   "source": [
    "#hide\n",
    "overview = '''\n",
    "<!-- #######  HTML!! #########-->\n",
    "<h1 style=\"color: #5e9ca0; text-align: center;\">India</h1>\n",
    "<p style=\"text-align: center;\">Last update: <strong>{update}</strong></p>\n",
    "<p style=\"text-align: center;\">Confirmed cases:</p>\n",
    "<p style=\"text-align: center;font-size:24px;\">{cases} (<span style=\"color: #ff0000;\">+{new}</span>)</p>\n",
    "<p style=\"text-align: center;\">Confirmed deaths:</p>\n",
    "<p style=\"text-align: center;font-size:24px;\">{deaths} (<span style=\"color: #ff0000;\">+{dnew}</span>)</p>\n",
    "'''"
   ]
  },
  {
   "cell_type": "code",
   "execution_count": 16,
   "id": "phantom-lover",
   "metadata": {
    "execution": {
     "iopub.execute_input": "2021-05-15T13:45:23.884821Z",
     "iopub.status.busy": "2021-05-15T13:45:23.884281Z",
     "iopub.status.idle": "2021-05-15T13:45:23.887455Z",
     "shell.execute_reply": "2021-05-15T13:45:23.887020Z"
    },
    "papermill": {
     "duration": 0.025128,
     "end_time": "2021-05-15T13:45:23.887552",
     "exception": false,
     "start_time": "2021-05-15T13:45:23.862424",
     "status": "completed"
    },
    "tags": []
   },
   "outputs": [
    {
     "data": {
      "text/html": [
       "\n",
       "<!-- #######  HTML!! #########-->\n",
       "<h1 style=\"color: #5e9ca0; text-align: center;\">India</h1>\n",
       "<p style=\"text-align: center;\">Last update: <strong>2021-05-15</strong></p>\n",
       "<p style=\"text-align: center;\">Confirmed cases:</p>\n",
       "<p style=\"text-align: center;font-size:24px;\">24403927 (<span style=\"color: #ff0000;\">+31444</span>)</p>\n",
       "<p style=\"text-align: center;\">Confirmed deaths:</p>\n",
       "<p style=\"text-align: center;font-size:24px;\">266857 (<span style=\"color: #ff0000;\">+613</span>)</p>\n"
      ],
      "text/plain": [
       "<IPython.core.display.HTML object>"
      ]
     },
     "metadata": {},
     "output_type": "display_data"
    }
   ],
   "source": [
    "#hide_input\n",
    "update = summary['updated']\n",
    "cases = summary['Cases']\n",
    "new = summary['Cases (+)']\n",
    "deaths = summary['Deaths']\n",
    "dnew = summary['Deaths (+)']\n",
    "\n",
    "html = HTML(overview.format(update=update, cases=cases,new=new,deaths=deaths,dnew=dnew))\n",
    "\n",
    "display(html)"
   ]
  },
  {
   "cell_type": "code",
   "execution_count": 17,
   "id": "sealed-reset",
   "metadata": {
    "execution": {
     "iopub.execute_input": "2021-05-15T13:45:23.926681Z",
     "iopub.status.busy": "2021-05-15T13:45:23.925873Z",
     "iopub.status.idle": "2021-05-15T13:45:23.932175Z",
     "shell.execute_reply": "2021-05-15T13:45:23.932648Z"
    },
    "papermill": {
     "duration": 0.028212,
     "end_time": "2021-05-15T13:45:23.932759",
     "exception": false,
     "start_time": "2021-05-15T13:45:23.904547",
     "status": "completed"
    },
    "tags": []
   },
   "outputs": [],
   "source": [
    "#hide\n",
    "dt_cols = list(dft_cases.columns[1:])\n",
    "dft_ct_new_cases = dft_cases.groupby('state')[dt_cols].sum().diff(axis=1).fillna(0).astype(int)\n",
    "dft_ct_new_cases.sort_values(by = dates[-1], ascending = False,inplace = True)"
   ]
  },
  {
   "cell_type": "code",
   "execution_count": 18,
   "id": "designed-constant",
   "metadata": {
    "execution": {
     "iopub.execute_input": "2021-05-15T13:45:23.984174Z",
     "iopub.status.busy": "2021-05-15T13:45:23.972774Z",
     "iopub.status.idle": "2021-05-15T13:45:23.986945Z",
     "shell.execute_reply": "2021-05-15T13:45:23.987411Z"
    },
    "papermill": {
     "duration": 0.037442,
     "end_time": "2021-05-15T13:45:23.987521",
     "exception": false,
     "start_time": "2021-05-15T13:45:23.950079",
     "status": "completed"
    },
    "tags": []
   },
   "outputs": [
    {
     "data": {
      "text/html": [
       "<div>\n",
       "<style scoped>\n",
       "    .dataframe tbody tr th:only-of-type {\n",
       "        vertical-align: middle;\n",
       "    }\n",
       "\n",
       "    .dataframe tbody tr th {\n",
       "        vertical-align: top;\n",
       "    }\n",
       "\n",
       "    .dataframe thead th {\n",
       "        text-align: right;\n",
       "    }\n",
       "</style>\n",
       "<table border=\"1\" class=\"dataframe\">\n",
       "  <thead>\n",
       "    <tr style=\"text-align: right;\">\n",
       "      <th>states</th>\n",
       "      <th>2020-07-01</th>\n",
       "      <th>2020-07-02</th>\n",
       "      <th>2020-07-03</th>\n",
       "      <th>2020-07-04</th>\n",
       "      <th>2020-07-05</th>\n",
       "      <th>2020-07-06</th>\n",
       "      <th>2020-07-07</th>\n",
       "      <th>2020-07-08</th>\n",
       "      <th>2020-07-09</th>\n",
       "      <th>2020-07-10</th>\n",
       "      <th>...</th>\n",
       "      <th>2021-05-06</th>\n",
       "      <th>2021-05-07</th>\n",
       "      <th>2021-05-08</th>\n",
       "      <th>2021-05-09</th>\n",
       "      <th>2021-05-10</th>\n",
       "      <th>2021-05-11</th>\n",
       "      <th>2021-05-12</th>\n",
       "      <th>2021-05-13</th>\n",
       "      <th>2021-05-14</th>\n",
       "      <th>2021-05-15</th>\n",
       "    </tr>\n",
       "    <tr>\n",
       "      <th>state</th>\n",
       "      <th></th>\n",
       "      <th></th>\n",
       "      <th></th>\n",
       "      <th></th>\n",
       "      <th></th>\n",
       "      <th></th>\n",
       "      <th></th>\n",
       "      <th></th>\n",
       "      <th></th>\n",
       "      <th></th>\n",
       "      <th></th>\n",
       "      <th></th>\n",
       "      <th></th>\n",
       "      <th></th>\n",
       "      <th></th>\n",
       "      <th></th>\n",
       "      <th></th>\n",
       "      <th></th>\n",
       "      <th></th>\n",
       "      <th></th>\n",
       "      <th></th>\n",
       "    </tr>\n",
       "  </thead>\n",
       "  <tbody>\n",
       "    <tr>\n",
       "      <th>Odisha</th>\n",
       "      <td>0</td>\n",
       "      <td>229</td>\n",
       "      <td>561</td>\n",
       "      <td>495</td>\n",
       "      <td>469</td>\n",
       "      <td>456</td>\n",
       "      <td>571</td>\n",
       "      <td>527</td>\n",
       "      <td>577</td>\n",
       "      <td>755</td>\n",
       "      <td>...</td>\n",
       "      <td>10521</td>\n",
       "      <td>12238</td>\n",
       "      <td>11807</td>\n",
       "      <td>10635</td>\n",
       "      <td>10031</td>\n",
       "      <td>9793</td>\n",
       "      <td>10982</td>\n",
       "      <td>10649</td>\n",
       "      <td>12390</td>\n",
       "      <td>11805</td>\n",
       "    </tr>\n",
       "    <tr>\n",
       "      <th>Uttar Pradesh</th>\n",
       "      <td>0</td>\n",
       "      <td>769</td>\n",
       "      <td>972</td>\n",
       "      <td>757</td>\n",
       "      <td>1153</td>\n",
       "      <td>929</td>\n",
       "      <td>1332</td>\n",
       "      <td>1188</td>\n",
       "      <td>1206</td>\n",
       "      <td>1338</td>\n",
       "      <td>...</td>\n",
       "      <td>26622</td>\n",
       "      <td>27763</td>\n",
       "      <td>26636</td>\n",
       "      <td>23175</td>\n",
       "      <td>21277</td>\n",
       "      <td>20445</td>\n",
       "      <td>18023</td>\n",
       "      <td>17745</td>\n",
       "      <td>15647</td>\n",
       "      <td>10265</td>\n",
       "    </tr>\n",
       "    <tr>\n",
       "      <th>Delhi</th>\n",
       "      <td>0</td>\n",
       "      <td>2373</td>\n",
       "      <td>2520</td>\n",
       "      <td>2505</td>\n",
       "      <td>2244</td>\n",
       "      <td>1379</td>\n",
       "      <td>2008</td>\n",
       "      <td>2033</td>\n",
       "      <td>2187</td>\n",
       "      <td>2089</td>\n",
       "      <td>...</td>\n",
       "      <td>19133</td>\n",
       "      <td>19832</td>\n",
       "      <td>17364</td>\n",
       "      <td>13336</td>\n",
       "      <td>12651</td>\n",
       "      <td>12481</td>\n",
       "      <td>13287</td>\n",
       "      <td>10489</td>\n",
       "      <td>8506</td>\n",
       "      <td>6430</td>\n",
       "    </tr>\n",
       "    <tr>\n",
       "      <th>Puducherry</th>\n",
       "      <td>0</td>\n",
       "      <td>63</td>\n",
       "      <td>22</td>\n",
       "      <td>80</td>\n",
       "      <td>42</td>\n",
       "      <td>65</td>\n",
       "      <td>30</td>\n",
       "      <td>110</td>\n",
       "      <td>49</td>\n",
       "      <td>72</td>\n",
       "      <td>...</td>\n",
       "      <td>1510</td>\n",
       "      <td>1746</td>\n",
       "      <td>1703</td>\n",
       "      <td>1633</td>\n",
       "      <td>1266</td>\n",
       "      <td>2049</td>\n",
       "      <td>2007</td>\n",
       "      <td>1942</td>\n",
       "      <td>1974</td>\n",
       "      <td>1598</td>\n",
       "    </tr>\n",
       "    <tr>\n",
       "      <th>Meghalaya</th>\n",
       "      <td>0</td>\n",
       "      <td>3</td>\n",
       "      <td>4</td>\n",
       "      <td>8</td>\n",
       "      <td>2</td>\n",
       "      <td>16</td>\n",
       "      <td>6</td>\n",
       "      <td>6</td>\n",
       "      <td>13</td>\n",
       "      <td>73</td>\n",
       "      <td>...</td>\n",
       "      <td>347</td>\n",
       "      <td>297</td>\n",
       "      <td>375</td>\n",
       "      <td>418</td>\n",
       "      <td>409</td>\n",
       "      <td>450</td>\n",
       "      <td>406</td>\n",
       "      <td>591</td>\n",
       "      <td>627</td>\n",
       "      <td>560</td>\n",
       "    </tr>\n",
       "  </tbody>\n",
       "</table>\n",
       "<p>5 rows × 319 columns</p>\n",
       "</div>"
      ],
      "text/plain": [
       "states         2020-07-01  2020-07-02  2020-07-03  2020-07-04  2020-07-05  \\\n",
       "state                                                                       \n",
       "Odisha                  0         229         561         495         469   \n",
       "Uttar Pradesh           0         769         972         757        1153   \n",
       "Delhi                   0        2373        2520        2505        2244   \n",
       "Puducherry              0          63          22          80          42   \n",
       "Meghalaya               0           3           4           8           2   \n",
       "\n",
       "states         2020-07-06  2020-07-07  2020-07-08  2020-07-09  2020-07-10  \\\n",
       "state                                                                       \n",
       "Odisha                456         571         527         577         755   \n",
       "Uttar Pradesh         929        1332        1188        1206        1338   \n",
       "Delhi                1379        2008        2033        2187        2089   \n",
       "Puducherry             65          30         110          49          72   \n",
       "Meghalaya              16           6           6          13          73   \n",
       "\n",
       "states         ...  2021-05-06  2021-05-07  2021-05-08  2021-05-09  \\\n",
       "state          ...                                                   \n",
       "Odisha         ...       10521       12238       11807       10635   \n",
       "Uttar Pradesh  ...       26622       27763       26636       23175   \n",
       "Delhi          ...       19133       19832       17364       13336   \n",
       "Puducherry     ...        1510        1746        1703        1633   \n",
       "Meghalaya      ...         347         297         375         418   \n",
       "\n",
       "states         2021-05-10  2021-05-11  2021-05-12  2021-05-13  2021-05-14  \\\n",
       "state                                                                       \n",
       "Odisha              10031        9793       10982       10649       12390   \n",
       "Uttar Pradesh       21277       20445       18023       17745       15647   \n",
       "Delhi               12651       12481       13287       10489        8506   \n",
       "Puducherry           1266        2049        2007        1942        1974   \n",
       "Meghalaya             409         450         406         591         627   \n",
       "\n",
       "states         2021-05-15  \n",
       "state                      \n",
       "Odisha              11805  \n",
       "Uttar Pradesh       10265  \n",
       "Delhi                6430  \n",
       "Puducherry           1598  \n",
       "Meghalaya             560  \n",
       "\n",
       "[5 rows x 319 columns]"
      ]
     },
     "execution_count": 18,
     "metadata": {},
     "output_type": "execute_result"
    }
   ],
   "source": [
    "#hide\n",
    "dft_ct_new_cases.head()"
   ]
  },
  {
   "cell_type": "code",
   "execution_count": 19,
   "id": "responsible-nightlife",
   "metadata": {
    "execution": {
     "iopub.execute_input": "2021-05-15T13:45:24.026650Z",
     "iopub.status.busy": "2021-05-15T13:45:24.026080Z",
     "iopub.status.idle": "2021-05-15T13:45:37.460074Z",
     "shell.execute_reply": "2021-05-15T13:45:37.460519Z"
    },
    "papermill": {
     "duration": 13.455052,
     "end_time": "2021-05-15T13:45:37.460657",
     "exception": false,
     "start_time": "2021-05-15T13:45:24.005605",
     "status": "completed"
    },
    "tags": []
   },
   "outputs": [
    {
     "data": {
      "image/png": "[encoded data removed]",
      "text/plain": [
       "<Figure size 1296x2016 with 11 Axes>"
      ]
     },
     "metadata": {
      "needs_background": "light"
     },
     "output_type": "display_data"
    }
   ],
   "source": [
    "#hide_input\n",
    "df = dft_ct_new_cases.copy()\n",
    "df.loc['Total'] = df.sum()\n",
    "n = 5\n",
    "ax = []\n",
    "fig = plt.figure(figsize = (18,28))\n",
    "gs = fig.add_gridspec(n+2, 5)\n",
    "# gs = fig.add_gridspec(2, 3)\n",
    "ax1 = fig.add_subplot(gs[0, :])\n",
    "ef = df.loc['Total'].rename_axis('date').reset_index()\n",
    "ef['date'] = ef['date'].astype('datetime64[ns]')\n",
    "ax1.bar(ef.date,ef.Total,alpha=0.3,color='#007acc')\n",
    "ax1.plot(ef.date,ef.Total , marker=\"o\", color='#007acc')\n",
    "ax1.xaxis.set_major_locator(mdates.WeekdayLocator())\n",
    "ax1.xaxis.set_major_formatter(mdates.DateFormatter('%b %d'))\n",
    "ax1.text(0.02, 0.5,'India daily case count', transform = ax1.transAxes, fontsize=25);\n",
    "ax1.spines['right'].set_visible(False)\n",
    "ax1.spines['top'].set_visible(False)\n",
    "\n",
    "ax2 = fig.add_subplot(gs[1,0])\n",
    "ef = df.loc['Maharashtra'].rename_axis('date').reset_index()\n",
    "ef['date'] = ef['date'].astype('datetime64[ns]')\n",
    "\n",
    "ax2.bar(ef.date, ef.Maharashtra,color = '#007acc',alpha=0.5)\n",
    "ax2.xaxis.set_major_locator(mdates.WeekdayLocator())\n",
    "ax2.xaxis.set_major_formatter(mdates.DateFormatter('%b %d'))\n",
    "ax2.set_xticks(ax2.get_xticks()[::3])\n",
    "maxyval = ef.Maharashtra.max()\n",
    "ax2.set_ylim([0,maxyval])\n",
    "ax2.text(0.05, 0.9,'Maharashtra', transform = ax2.transAxes, fontsize=20);\n",
    "ax2.spines['right'].set_visible(False)\n",
    "ax2.spines['top'].set_visible(False)\n",
    "\n",
    "\n",
    "ax3 = fig.add_subplot(gs[1,1])\n",
    "ef = df.loc['Tamil Nadu'].rename_axis('date').reset_index()\n",
    "ef['date'] = ef['date'].astype('datetime64[ns]')\n",
    "ax3.bar(ef.date, ef['Tamil Nadu'],color = '#007acc',alpha=0.5,)\n",
    "ax3.xaxis.set_major_locator(mdates.WeekdayLocator())\n",
    "ax3.xaxis.set_major_formatter(mdates.DateFormatter('%b %d'))\n",
    "ax3.set_xticks(ax3.get_xticks()[::3])\n",
    "ax3.text(0.05, 0.9,'Tamil Nadu', transform = ax3.transAxes, fontsize=20);\n",
    "ax3.spines['right'].set_visible(False)\n",
    "ax3.spines['top'].set_visible(False)\n",
    "\n",
    "ax5 = fig.add_subplot(gs[1,3])\n",
    "ef = df.loc['Telangana'].rename_axis('date').reset_index()\n",
    "ef['date'] = ef['date'].astype('datetime64[ns]')\n",
    "ax5.bar(ef.date, ef['Telangana'],color = '#007acc',alpha=0.5,)\n",
    "ax5.xaxis.set_major_locator(mdates.WeekdayLocator())\n",
    "ax5.xaxis.set_major_formatter(mdates.DateFormatter('%b %d'))\n",
    "ax5.set_xticks(ax5.get_xticks()[::3])\n",
    "ax5.text(0.05, 0.9,'Telangana', transform = ax5.transAxes, fontsize=20);\n",
    "ax5.spines['right'].set_visible(False)\n",
    "ax5.spines['top'].set_visible(False)\n",
    "\n",
    "ax6 = fig.add_subplot(gs[1,4])\n",
    "ef = df.loc['Andhra Pradesh'].rename_axis('date').reset_index()\n",
    "ef['date'] = ef['date'].astype('datetime64[ns]')\n",
    "ax6.bar(ef.date, ef['Andhra Pradesh'],color = '#007acc',alpha=0.5,)\n",
    "ax6.xaxis.set_major_locator(mdates.WeekdayLocator())\n",
    "ax6.xaxis.set_major_formatter(mdates.DateFormatter('%b %d'))\n",
    "ax6.set_xticks(ax6.get_xticks()[::3])\n",
    "ax6.text(0.05, 1,'Andhra Pradesh', transform = ax6.transAxes, fontsize=20);\n",
    "ax6.spines['right'].set_visible(False)\n",
    "ax6.spines['top'].set_visible(False)\n",
    "\n",
    "ax4 = fig.add_subplot(gs[1,2])\n",
    "ef = df.loc['Delhi'].rename_axis('date').reset_index()\n",
    "ef['date'] = ef['date'].astype('datetime64[ns]')\n",
    "ax4.bar(ef.date, ef.Delhi,color = '#007acc',alpha=0.5)\n",
    "ax4.set_xticks([])\n",
    "ax4.xaxis.set_major_locator(mdates.WeekdayLocator())\n",
    "ax4.xaxis.set_major_formatter(mdates.DateFormatter('%b %d'))\n",
    "ax4.set_xticks(ax4.get_xticks()[::3])\n",
    "ax4.spines['right'].set_visible(False)\n",
    "ax4.spines['top'].set_visible(False)\n",
    "\n",
    "ax4.text(0.05, 1,'Delhi', transform = ax4.transAxes, fontsize=20)\n",
    "\n",
    "for i in range(n):\n",
    "    \n",
    "    ax.append(fig.add_subplot(gs[i+2,:]))\n",
    "    ef = df.iloc[i+3].rename_axis('date').reset_index()\n",
    "    ef['date'] = ef['date'].astype('datetime64[ns]')\n",
    "    ax[i].bar(ef.date,ef.iloc[:,-1],color = '#007acc',alpha=0.3)\n",
    "    ax[i].plot(ef.date,ef.iloc[:,-1],marker='o',color='#007acc')\n",
    "    ax[i].text(0.02,0.5,f'{ef.columns.values[-1]}',transform = ax[i].transAxes, fontsize = 20);\n",
    "    ax[i].xaxis.set_major_locator(mdates.WeekdayLocator())\n",
    "    ax[i].xaxis.set_major_formatter(mdates.DateFormatter('%b %d'))\n",
    "    ax[i].set_ylim([0,7000])\n",
    "    ax[i].spines['right'].set_visible(False)\n",
    "    ax[i].spines['top'].set_visible(False)\n",
    "plt.tight_layout()\n"
   ]
  },
  {
   "cell_type": "code",
   "execution_count": 20,
   "id": "dress-forge",
   "metadata": {
    "execution": {
     "iopub.execute_input": "2021-05-15T13:45:37.515320Z",
     "iopub.status.busy": "2021-05-15T13:45:37.514635Z",
     "iopub.status.idle": "2021-05-15T13:45:37.518604Z",
     "shell.execute_reply": "2021-05-15T13:45:37.519044Z"
    },
    "papermill": {
     "duration": 0.035146,
     "end_time": "2021-05-15T13:45:37.519167",
     "exception": false,
     "start_time": "2021-05-15T13:45:37.484021",
     "status": "completed"
    },
    "tags": []
   },
   "outputs": [
    {
     "name": "stdout",
     "output_type": "stream",
     "text": [
      "                                   states    Cases  Deaths   PCases  PDeaths  Cases (+)  Deaths (+)  Fatality Rate\n",
      "                              Maharashtra  5309215   79552  5309215    79552          0           0           1.50\n",
      "                                Karnataka  2130267   21085  2130267    21085          0           0           0.99\n",
      "                                   Kerala  2085584    6244  2085584     6244          0           0           0.30\n",
      "                            Uttar Pradesh  1606892   17163  1596627    16957      10265         206           1.07\n",
      "                               Tamil Nadu  1531377   17056  1531377    17056          0           0           1.11\n",
      "                           Andhra Pradesh  1388803    9173  1388803     9173          0           0           0.66\n",
      "                                    Delhi  1387411   21244  1380981    20907       6430         337           1.53\n",
      "                              West Bengal  1094802   12993  1094802    12993          0           0           1.19\n",
      "                             Chhattisgarh   899925   11461   899925    11461          0           0           1.27\n",
      "                                Rajasthan   835814    6472   835814     6472          0           0           0.77\n",
      "                                  Gujarat   735348    8944   735348     8944          0           0           1.22\n",
      "                           Madhya Pradesh   716708    6841   716708     6841          0           0           0.95\n",
      "                                  Haryana   675636    6402   675636     6402          0           0           0.95\n",
      "                                    Bihar   637679    3670   637679     3670          0           0           0.58\n",
      "                                   Odisha   600492    2347   588687     2326      11805          21           0.39\n",
      "                                Telangana   520709    2896   520709     2896          0           0           0.56\n",
      "                                   Punjab   483984   11477   483984    11477          0           0           2.37\n",
      "                                    Assam   319630    2060   319630     2060          0           0           0.64\n",
      "                                Jharkhand   310024    4366   310024     4366          0           0           1.41\n",
      "                              Uttarakhand   277585    4426   277585     4426          0           0           1.59\n",
      "                        Jammu and Kashmir   236790    3027   236790     3027          0           0           1.28\n",
      "                         Himachal Pradesh   153717    2185   153717     2185          0           0           1.42\n",
      "                                      Goa   132585    1998   132585     1998          0           0           1.51\n",
      "                               Puducherry    82545    1119    80947     1099       1598          20           1.36\n",
      "                               Chandigarh    54043     619    54043      619          0           0           1.15\n",
      "                                  Tripura    40052     426    39603      423        449           3           1.06\n",
      "                                  Manipur    38322     552    38322      552          0           0           1.44\n",
      "                                Meghalaya    22763     301    22203      280        560          21           1.32\n",
      "                        Arunachal Pradesh    21373      77    21373       77          0           0           0.36\n",
      "                                 Nagaland    17531     190    17531      190          0           0           1.08\n",
      "                                   Ladakh    16156     163    16156      163          0           0           1.01\n",
      "                                   Sikkim    11070     203    10855      198        215           5           1.83\n",
      " Dadra and Nagar Haveli and Daman and Diu     9486       4     9486        4          0           0           0.04\n",
      "                                  Mizoram     8499      23     8377       23        122           0           0.27\n",
      "              Andaman and Nicobar Islands     6542      85     6542       85          0           0           1.30\n",
      "                              Lakshadweep     4568      13     4568       13          0           0           0.28\n"
     ]
    }
   ],
   "source": [
    "#hide_input\n",
    "print(df_table.to_string(index=False))"
   ]
  },
  {
   "cell_type": "code",
   "execution_count": null,
   "id": "quantitative-legend",
   "metadata": {
    "papermill": {
     "duration": 0.022092,
     "end_time": "2021-05-15T13:45:37.562874",
     "exception": false,
     "start_time": "2021-05-15T13:45:37.540782",
     "status": "completed"
    },
    "tags": []
   },
   "outputs": [],
   "source": []
  },
  {
   "cell_type": "code",
   "execution_count": null,
   "id": "distant-acoustic",
   "metadata": {
    "papermill": {
     "duration": 0.021493,
     "end_time": "2021-05-15T13:45:37.605974",
     "exception": false,
     "start_time": "2021-05-15T13:45:37.584481",
     "status": "completed"
    },
    "tags": []
   },
   "outputs": [],
   "source": []
  }
 ],
 "metadata": {
  "kernelspec": {
   "display_name": "Python 3",
   "language": "python",
   "name": "python3"
  },
  "language_info": {
   "codemirror_mode": {
    "name": "ipython",
    "version": 3
   },
   "file_extension": ".py",
   "mimetype": "text/x-python",
   "name": "python",
   "nbconvert_exporter": "python",
   "pygments_lexer": "ipython3",
   "version": "3.6.13"
  },
  "papermill": {
   "duration": 27.0797,
   "end_time": "2021-05-15T13:45:38.135969",
   "environment_variables": {},
   "exception": null,
   "input_path": "latest.ipynb",
   "output_path": "latest.ipynb",
   "parameters": {},
   "start_time": "2021-05-15T13:45:11.056269",
   "version": "2.1.2"
  }
 },
 "nbformat": 4,
 "nbformat_minor": 5
}