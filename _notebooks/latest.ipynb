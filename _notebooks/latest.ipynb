{
 "cells": [
  {
   "cell_type": "markdown",
   "metadata": {
    "papermill": {
     "duration": 0.018426,
     "end_time": "2020-12-25T11:32:30.844670",
     "exception": false,
     "start_time": "2020-12-25T11:32:30.826244",
     "status": "completed"
    },
    "tags": []
   },
   "source": [
    "# Latest COVID-19 India Matplotlib Overview"
   ]
  },
  {
   "cell_type": "code",
   "execution_count": 1,
   "metadata": {
    "execution": {
     "iopub.execute_input": "2020-12-25T11:32:30.890957Z",
     "iopub.status.busy": "2020-12-25T11:32:30.890384Z",
     "iopub.status.idle": "2020-12-25T11:32:31.432574Z",
     "shell.execute_reply": "2020-12-25T11:32:31.431768Z"
    },
    "papermill": {
     "duration": 0.573888,
     "end_time": "2020-12-25T11:32:31.432713",
     "exception": false,
     "start_time": "2020-12-25T11:32:30.858825",
     "status": "completed"
    },
    "tags": []
   },
   "outputs": [],
   "source": [
    "#hide\n",
    "import pandas as pd\n",
    "import numpy as np\n",
    "import requests\n",
    "import json\n",
    "import matplotlib.pyplot as plt\n",
    "import matplotlib.dates as mdates\n",
    "import matplotlib as mpl\n",
    "from IPython.core.display import display,HTML\n",
    "%matplotlib inline\n",
    "from datetime import date"
   ]
  },
  {
   "cell_type": "code",
   "execution_count": 2,
   "metadata": {
    "execution": {
     "iopub.execute_input": "2020-12-25T11:32:31.467004Z",
     "iopub.status.busy": "2020-12-25T11:32:31.466103Z",
     "iopub.status.idle": "2020-12-25T11:32:31.611321Z",
     "shell.execute_reply": "2020-12-25T11:32:31.610385Z"
    },
    "papermill": {
     "duration": 0.165101,
     "end_time": "2020-12-25T11:32:31.611539",
     "exception": false,
     "start_time": "2020-12-25T11:32:31.446438",
     "status": "completed"
    },
    "tags": []
   },
   "outputs": [],
   "source": [
    "#hide\n",
    "df  = pd.read_csv('https://api.covid19india.org/csv/latest/states.csv')\n",
    "df = df[['Date','State','Confirmed','Deceased']]\n",
    "df = df.rename(columns={'Confirmed':'Cases', \"Deceased\":'Deaths'})\n",
    "df_cases = df[[\"Date\",'State','Cases']]\n",
    "df_deaths = df[['Date','State','Deaths']]\n",
    "df_cases1 = df_cases.groupby('Date')\n",
    "df_deaths1= df_deaths.groupby('Date')"
   ]
  },
  {
   "cell_type": "code",
   "execution_count": 3,
   "metadata": {
    "execution": {
     "iopub.execute_input": "2020-12-25T11:32:31.647569Z",
     "iopub.status.busy": "2020-12-25T11:32:31.646974Z",
     "iopub.status.idle": "2020-12-25T11:32:31.669158Z",
     "shell.execute_reply": "2020-12-25T11:32:31.668285Z"
    },
    "papermill": {
     "duration": 0.041482,
     "end_time": "2020-12-25T11:32:31.669369",
     "exception": false,
     "start_time": "2020-12-25T11:32:31.627887",
     "status": "completed"
    },
    "tags": []
   },
   "outputs": [],
   "source": [
    "#hide\n",
    "df_snap = pd.read_csv('data/SnapshotCases-28-July.csv')\n",
    "arr_states = df_snap['states'].unique()\n",
    "arr_dates = df['Date'].unique()\n",
    "df_snap = df_snap.set_index('states')"
   ]
  },
  {
   "cell_type": "code",
   "execution_count": 4,
   "metadata": {
    "execution": {
     "iopub.execute_input": "2020-12-25T11:32:31.705503Z",
     "iopub.status.busy": "2020-12-25T11:32:31.704961Z",
     "iopub.status.idle": "2020-12-25T11:32:31.709482Z",
     "shell.execute_reply": "2020-12-25T11:32:31.709060Z"
    },
    "papermill": {
     "duration": 0.023407,
     "end_time": "2020-12-25T11:32:31.709583",
     "exception": false,
     "start_time": "2020-12-25T11:32:31.686176",
     "status": "completed"
    },
    "tags": []
   },
   "outputs": [
    {
     "data": {
      "text/plain": [
       "array(['Andaman and Nicobar Islands', 'Andhra Pradesh',\n",
       "       'Arunachal Pradesh', 'Assam', 'Bihar', 'Chandigarh',\n",
       "       'Dadra and Nagar Haveli and Daman and Diu', 'Delhi', 'Goa',\n",
       "       'Gujarat', 'Haryana', 'Himachal Pradesh', 'Jammu and Kashmir',\n",
       "       'Jharkhand', 'Karnataka', 'Kerala', 'Lakshadweep',\n",
       "       'Madhya Pradesh', 'Maharashtra', 'Manipur', 'Meghalaya', 'Mizoram',\n",
       "       'Nagaland', 'Odisha', 'Puducherry', 'Punjab', 'Rajasthan',\n",
       "       'Sikkim', 'Tamil Nadu', 'Telangana', 'Tripura', 'Uttar Pradesh',\n",
       "       'West Bengal', 'Chhattisgarh', 'Ladakh', 'Uttarakhand'],\n",
       "      dtype=object)"
      ]
     },
     "execution_count": 4,
     "metadata": {},
     "output_type": "execute_result"
    }
   ],
   "source": [
    "#hide\n",
    "arr_states[-9] = 'Puducherry'\n",
    "arr_states[-10] = 'Odisha'\n",
    "arr_states[6] = 'Dadra and Nagar Haveli and Daman and Diu'\n",
    "arr_states = np.append(arr_states,np.array(['Chhattisgarh','Ladakh','Uttarakhand']))\n",
    "arr_states"
   ]
  },
  {
   "cell_type": "code",
   "execution_count": 5,
   "metadata": {
    "execution": {
     "iopub.execute_input": "2020-12-25T11:32:31.745374Z",
     "iopub.status.busy": "2020-12-25T11:32:31.744798Z",
     "iopub.status.idle": "2020-12-25T11:32:31.756363Z",
     "shell.execute_reply": "2020-12-25T11:32:31.756869Z"
    },
    "papermill": {
     "duration": 0.034705,
     "end_time": "2020-12-25T11:32:31.757002",
     "exception": false,
     "start_time": "2020-12-25T11:32:31.722297",
     "status": "completed"
    },
    "tags": []
   },
   "outputs": [],
   "source": [
    "#hide\n",
    "dates = []\n",
    "for i in arr_dates:\n",
    "    if i>='2020-07-01':\n",
    "        dates.append(i)\n",
    "dict = {'states':dates}\n",
    "for i in arr_states:\n",
    "    dict[i] = [0]*len(dates)\n",
    "dft_cases = pd.DataFrame(dict)\n",
    "dft_deaths = pd.DataFrame(dict)\n"
   ]
  },
  {
   "cell_type": "code",
   "execution_count": 6,
   "metadata": {
    "execution": {
     "iopub.execute_input": "2020-12-25T11:32:31.790770Z",
     "iopub.status.busy": "2020-12-25T11:32:31.790221Z",
     "iopub.status.idle": "2020-12-25T11:32:34.004830Z",
     "shell.execute_reply": "2020-12-25T11:32:34.003691Z"
    },
    "papermill": {
     "duration": 2.233684,
     "end_time": "2020-12-25T11:32:34.004989",
     "exception": false,
     "start_time": "2020-12-25T11:32:31.771305",
     "status": "completed"
    },
    "tags": []
   },
   "outputs": [],
   "source": [
    "#hide\n",
    "for i in range(len(dates)):\n",
    "    df1_deaths = df_deaths1.get_group(dates[i])\n",
    "    for j in range(len(df1_deaths.index)):\n",
    "        if df1_deaths.iloc[j,1] in arr_states:\n",
    "            dft_deaths.loc[i,df1_deaths.iloc[j,1]] = df1_deaths.iloc[j,2]\n",
    "dft_deaths = dft_deaths.set_index('states')"
   ]
  },
  {
   "cell_type": "code",
   "execution_count": 7,
   "metadata": {
    "execution": {
     "iopub.execute_input": "2020-12-25T11:32:34.040482Z",
     "iopub.status.busy": "2020-12-25T11:32:34.039569Z",
     "iopub.status.idle": "2020-12-25T11:32:36.178018Z",
     "shell.execute_reply": "2020-12-25T11:32:36.177067Z"
    },
    "papermill": {
     "duration": 2.158967,
     "end_time": "2020-12-25T11:32:36.178172",
     "exception": false,
     "start_time": "2020-12-25T11:32:34.019205",
     "status": "completed"
    },
    "tags": []
   },
   "outputs": [],
   "source": [
    "#hide\n",
    "for i in range(len(dates)):\n",
    "    df1_cases = df_cases1.get_group(dates[i])\n",
    "    for j in range(len(df1_cases.index)):\n",
    "        if df1_cases.iloc[j,1] in arr_states:\n",
    "            dft_cases.loc[i,df1_cases.iloc[j,1]] = df1_cases.iloc[j,2]\n",
    "dft_cases = dft_cases.set_index('states')"
   ]
  },
  {
   "cell_type": "code",
   "execution_count": 8,
   "metadata": {
    "execution": {
     "iopub.execute_input": "2020-12-25T11:32:36.211067Z",
     "iopub.status.busy": "2020-12-25T11:32:36.210499Z",
     "iopub.status.idle": "2020-12-25T11:32:36.211906Z",
     "shell.execute_reply": "2020-12-25T11:32:36.212269Z"
    },
    "papermill": {
     "duration": 0.01963,
     "end_time": "2020-12-25T11:32:36.212394",
     "exception": false,
     "start_time": "2020-12-25T11:32:36.192764",
     "status": "completed"
    },
    "tags": []
   },
   "outputs": [],
   "source": [
    "#hide\n",
    "dft_cases = dft_cases.T\n",
    "dft_deaths = dft_deaths.T\n",
    "dt_today = dates[-1]\n",
    "dt_yday = dates[-2]"
   ]
  },
  {
   "cell_type": "code",
   "execution_count": 9,
   "metadata": {
    "execution": {
     "iopub.execute_input": "2020-12-25T11:32:36.245058Z",
     "iopub.status.busy": "2020-12-25T11:32:36.244551Z",
     "iopub.status.idle": "2020-12-25T11:32:36.249912Z",
     "shell.execute_reply": "2020-12-25T11:32:36.250484Z"
    },
    "papermill": {
     "duration": 0.025141,
     "end_time": "2020-12-25T11:32:36.250613",
     "exception": false,
     "start_time": "2020-12-25T11:32:36.225472",
     "status": "completed"
    },
    "tags": []
   },
   "outputs": [],
   "source": [
    "#hide\n",
    "dft_cases = dft_cases.reset_index()\n",
    "dft_deaths = dft_deaths.reset_index()\n",
    "dft_cases = dft_cases.rename(columns = {'index':'state'})\n",
    "dft_deaths = dft_deaths.rename(columns = {'index':'state'})"
   ]
  },
  {
   "cell_type": "code",
   "execution_count": 10,
   "metadata": {
    "execution": {
     "iopub.execute_input": "2020-12-25T11:32:36.286225Z",
     "iopub.status.busy": "2020-12-25T11:32:36.285603Z",
     "iopub.status.idle": "2020-12-25T11:32:36.289506Z",
     "shell.execute_reply": "2020-12-25T11:32:36.289016Z"
    },
    "papermill": {
     "duration": 0.025987,
     "end_time": "2020-12-25T11:32:36.289613",
     "exception": false,
     "start_time": "2020-12-25T11:32:36.263626",
     "status": "completed"
    },
    "tags": []
   },
   "outputs": [],
   "source": [
    "#hide\n",
    "dfc_cases = dft_cases.groupby('state')[dt_today].sum()\n",
    "dfc_deaths = dft_deaths.groupby('state')[dt_today].sum()\n",
    "dfp_cases = dft_cases.groupby('state')[dt_yday].sum()\n",
    "dfp_deaths = dft_deaths.groupby('state')[dt_yday].sum()"
   ]
  },
  {
   "cell_type": "code",
   "execution_count": 11,
   "metadata": {
    "execution": {
     "iopub.execute_input": "2020-12-25T11:32:36.325181Z",
     "iopub.status.busy": "2020-12-25T11:32:36.324642Z",
     "iopub.status.idle": "2020-12-25T11:32:36.337129Z",
     "shell.execute_reply": "2020-12-25T11:32:36.336638Z"
    },
    "papermill": {
     "duration": 0.033128,
     "end_time": "2020-12-25T11:32:36.337246",
     "exception": false,
     "start_time": "2020-12-25T11:32:36.304118",
     "status": "completed"
    },
    "tags": []
   },
   "outputs": [
    {
     "data": {
      "text/html": [
       "<div>\n",
       "<style scoped>\n",
       "    .dataframe tbody tr th:only-of-type {\n",
       "        vertical-align: middle;\n",
       "    }\n",
       "\n",
       "    .dataframe tbody tr th {\n",
       "        vertical-align: top;\n",
       "    }\n",
       "\n",
       "    .dataframe thead th {\n",
       "        text-align: right;\n",
       "    }\n",
       "</style>\n",
       "<table border=\"1\" class=\"dataframe\">\n",
       "  <thead>\n",
       "    <tr style=\"text-align: right;\">\n",
       "      <th></th>\n",
       "      <th>states</th>\n",
       "      <th>Cases</th>\n",
       "      <th>Deaths</th>\n",
       "      <th>PCases</th>\n",
       "      <th>PDeaths</th>\n",
       "    </tr>\n",
       "  </thead>\n",
       "  <tbody>\n",
       "    <tr>\n",
       "      <th>0</th>\n",
       "      <td>Maharashtra</td>\n",
       "      <td>1909951</td>\n",
       "      <td>49058</td>\n",
       "      <td>1909951</td>\n",
       "      <td>49058</td>\n",
       "    </tr>\n",
       "    <tr>\n",
       "      <th>1</th>\n",
       "      <td>Karnataka</td>\n",
       "      <td>913483</td>\n",
       "      <td>12039</td>\n",
       "      <td>913483</td>\n",
       "      <td>12039</td>\n",
       "    </tr>\n",
       "    <tr>\n",
       "      <th>2</th>\n",
       "      <td>Andhra Pradesh</td>\n",
       "      <td>880075</td>\n",
       "      <td>7089</td>\n",
       "      <td>880075</td>\n",
       "      <td>7089</td>\n",
       "    </tr>\n",
       "    <tr>\n",
       "      <th>3</th>\n",
       "      <td>Tamil Nadu</td>\n",
       "      <td>811115</td>\n",
       "      <td>12036</td>\n",
       "      <td>811115</td>\n",
       "      <td>12036</td>\n",
       "    </tr>\n",
       "    <tr>\n",
       "      <th>4</th>\n",
       "      <td>Kerala</td>\n",
       "      <td>726688</td>\n",
       "      <td>2915</td>\n",
       "      <td>726688</td>\n",
       "      <td>2915</td>\n",
       "    </tr>\n",
       "  </tbody>\n",
       "</table>\n",
       "</div>"
      ],
      "text/plain": [
       "           states    Cases  Deaths   PCases  PDeaths\n",
       "0     Maharashtra  1909951   49058  1909951    49058\n",
       "1       Karnataka   913483   12039   913483    12039\n",
       "2  Andhra Pradesh   880075    7089   880075     7089\n",
       "3      Tamil Nadu   811115   12036   811115    12036\n",
       "4          Kerala   726688    2915   726688     2915"
      ]
     },
     "execution_count": 11,
     "metadata": {},
     "output_type": "execute_result"
    }
   ],
   "source": [
    "#hide\n",
    "df_table = pd.DataFrame({'states': dfc_cases.index, 'Cases': dfc_cases.values, 'Deaths': dfc_deaths.values, 'PCases': dfp_cases.values, 'PDeaths': dfp_deaths.values}).set_index('states')\n",
    "df_table = df_table.sort_values(by = ['Cases','Deaths'], ascending = [False, False])\n",
    "df_table = df_table.reset_index()\n",
    "df_table.head()"
   ]
  },
  {
   "cell_type": "code",
   "execution_count": 12,
   "metadata": {
    "execution": {
     "iopub.execute_input": "2020-12-25T11:32:36.371818Z",
     "iopub.status.busy": "2020-12-25T11:32:36.371054Z",
     "iopub.status.idle": "2020-12-25T11:32:36.379808Z",
     "shell.execute_reply": "2020-12-25T11:32:36.379311Z"
    },
    "papermill": {
     "duration": 0.027853,
     "end_time": "2020-12-25T11:32:36.379931",
     "exception": false,
     "start_time": "2020-12-25T11:32:36.352078",
     "status": "completed"
    },
    "tags": []
   },
   "outputs": [],
   "source": [
    "#hide\n",
    "for c in 'Cases, Deaths'.split(', '):\n",
    "    df_table[f'{c} (+)'] = (df_table[c] - df_table[f'P{c}']).clip(0)\n",
    "df_table['Fatality Rate'] = (100* df_table['Deaths']/ df_table['Cases']).round(2)"
   ]
  },
  {
   "cell_type": "code",
   "execution_count": 13,
   "metadata": {
    "execution": {
     "iopub.execute_input": "2020-12-25T11:32:36.416329Z",
     "iopub.status.busy": "2020-12-25T11:32:36.415785Z",
     "iopub.status.idle": "2020-12-25T11:32:36.418639Z",
     "shell.execute_reply": "2020-12-25T11:32:36.419015Z"
    },
    "papermill": {
     "duration": 0.026177,
     "end_time": "2020-12-25T11:32:36.419126",
     "exception": false,
     "start_time": "2020-12-25T11:32:36.392949",
     "status": "completed"
    },
    "tags": []
   },
   "outputs": [
    {
     "data": {
      "text/html": [
       "<div>\n",
       "<style scoped>\n",
       "    .dataframe tbody tr th:only-of-type {\n",
       "        vertical-align: middle;\n",
       "    }\n",
       "\n",
       "    .dataframe tbody tr th {\n",
       "        vertical-align: top;\n",
       "    }\n",
       "\n",
       "    .dataframe thead th {\n",
       "        text-align: right;\n",
       "    }\n",
       "</style>\n",
       "<table border=\"1\" class=\"dataframe\">\n",
       "  <thead>\n",
       "    <tr style=\"text-align: right;\">\n",
       "      <th></th>\n",
       "      <th>states</th>\n",
       "      <th>Cases</th>\n",
       "      <th>Deaths</th>\n",
       "      <th>PCases</th>\n",
       "      <th>PDeaths</th>\n",
       "      <th>Cases (+)</th>\n",
       "      <th>Deaths (+)</th>\n",
       "      <th>Fatality Rate</th>\n",
       "    </tr>\n",
       "  </thead>\n",
       "  <tbody>\n",
       "    <tr>\n",
       "      <th>0</th>\n",
       "      <td>Maharashtra</td>\n",
       "      <td>1909951</td>\n",
       "      <td>49058</td>\n",
       "      <td>1909951</td>\n",
       "      <td>49058</td>\n",
       "      <td>0</td>\n",
       "      <td>0</td>\n",
       "      <td>2.57</td>\n",
       "    </tr>\n",
       "    <tr>\n",
       "      <th>1</th>\n",
       "      <td>Karnataka</td>\n",
       "      <td>913483</td>\n",
       "      <td>12039</td>\n",
       "      <td>913483</td>\n",
       "      <td>12039</td>\n",
       "      <td>0</td>\n",
       "      <td>0</td>\n",
       "      <td>1.32</td>\n",
       "    </tr>\n",
       "    <tr>\n",
       "      <th>2</th>\n",
       "      <td>Andhra Pradesh</td>\n",
       "      <td>880075</td>\n",
       "      <td>7089</td>\n",
       "      <td>880075</td>\n",
       "      <td>7089</td>\n",
       "      <td>0</td>\n",
       "      <td>0</td>\n",
       "      <td>0.81</td>\n",
       "    </tr>\n",
       "    <tr>\n",
       "      <th>3</th>\n",
       "      <td>Tamil Nadu</td>\n",
       "      <td>811115</td>\n",
       "      <td>12036</td>\n",
       "      <td>811115</td>\n",
       "      <td>12036</td>\n",
       "      <td>0</td>\n",
       "      <td>0</td>\n",
       "      <td>1.48</td>\n",
       "    </tr>\n",
       "    <tr>\n",
       "      <th>4</th>\n",
       "      <td>Kerala</td>\n",
       "      <td>726688</td>\n",
       "      <td>2915</td>\n",
       "      <td>726688</td>\n",
       "      <td>2915</td>\n",
       "      <td>0</td>\n",
       "      <td>0</td>\n",
       "      <td>0.40</td>\n",
       "    </tr>\n",
       "  </tbody>\n",
       "</table>\n",
       "</div>"
      ],
      "text/plain": [
       "           states    Cases  Deaths   PCases  PDeaths  Cases (+)  Deaths (+)  \\\n",
       "0     Maharashtra  1909951   49058  1909951    49058          0           0   \n",
       "1       Karnataka   913483   12039   913483    12039          0           0   \n",
       "2  Andhra Pradesh   880075    7089   880075     7089          0           0   \n",
       "3      Tamil Nadu   811115   12036   811115    12036          0           0   \n",
       "4          Kerala   726688    2915   726688     2915          0           0   \n",
       "\n",
       "   Fatality Rate  \n",
       "0           2.57  \n",
       "1           1.32  \n",
       "2           0.81  \n",
       "3           1.48  \n",
       "4           0.40  "
      ]
     },
     "execution_count": 13,
     "metadata": {},
     "output_type": "execute_result"
    }
   ],
   "source": [
    "#hide\n",
    "df_table.head()"
   ]
  },
  {
   "cell_type": "code",
   "execution_count": 14,
   "metadata": {
    "execution": {
     "iopub.execute_input": "2020-12-25T11:32:36.450405Z",
     "iopub.status.busy": "2020-12-25T11:32:36.449919Z",
     "iopub.status.idle": "2020-12-25T11:32:36.463692Z",
     "shell.execute_reply": "2020-12-25T11:32:36.464129Z"
    },
    "papermill": {
     "duration": 0.032245,
     "end_time": "2020-12-25T11:32:36.464257",
     "exception": false,
     "start_time": "2020-12-25T11:32:36.432012",
     "status": "completed"
    },
    "tags": []
   },
   "outputs": [
    {
     "data": {
      "text/plain": [
       "{'updated': '2020-12-25',\n",
       " 'since': '2020-12-24',\n",
       " 'Cases': 10148343,\n",
       " 'PCases': 10147468,\n",
       " 'Deaths': 147134,\n",
       " 'PDeaths': 147128,\n",
       " 'Cases (+)': 875,\n",
       " 'Deaths (+)': 6}"
      ]
     },
     "execution_count": 14,
     "metadata": {},
     "output_type": "execute_result"
    }
   ],
   "source": [
    "#hide\n",
    "summary = {'updated':dates[-1], 'since':dates[-2]}\n",
    "list_names = ['Cases', 'PCases', 'Deaths', 'PDeaths', 'Cases (+)', 'Deaths (+)']\n",
    "for name in list_names:\n",
    "    summary[name] = df_table.sum()[name]\n",
    "summary"
   ]
  },
  {
   "cell_type": "code",
   "execution_count": 15,
   "metadata": {
    "execution": {
     "iopub.execute_input": "2020-12-25T11:32:36.496080Z",
     "iopub.status.busy": "2020-12-25T11:32:36.495518Z",
     "iopub.status.idle": "2020-12-25T11:32:36.497163Z",
     "shell.execute_reply": "2020-12-25T11:32:36.497602Z"
    },
    "papermill": {
     "duration": 0.019389,
     "end_time": "2020-12-25T11:32:36.497722",
     "exception": false,
     "start_time": "2020-12-25T11:32:36.478333",
     "status": "completed"
    },
    "tags": []
   },
   "outputs": [],
   "source": [
    "#hide\n",
    "overview = '''\n",
    "<!-- #######  HTML!! #########-->\n",
    "<h1 style=\"color: #5e9ca0; text-align: center;\">India</h1>\n",
    "<p style=\"text-align: center;\">Last update: <strong>{update}</strong></p>\n",
    "<p style=\"text-align: center;\">Confirmed cases:</p>\n",
    "<p style=\"text-align: center;font-size:24px;\">{cases} (<span style=\"color: #ff0000;\">+{new}</span>)</p>\n",
    "<p style=\"text-align: center;\">Confirmed deaths:</p>\n",
    "<p style=\"text-align: center;font-size:24px;\">{deaths} (<span style=\"color: #ff0000;\">+{dnew}</span>)</p>\n",
    "'''"
   ]
  },
  {
   "cell_type": "code",
   "execution_count": 16,
   "metadata": {
    "execution": {
     "iopub.execute_input": "2020-12-25T11:32:36.531846Z",
     "iopub.status.busy": "2020-12-25T11:32:36.531209Z",
     "iopub.status.idle": "2020-12-25T11:32:36.533730Z",
     "shell.execute_reply": "2020-12-25T11:32:36.534205Z"
    },
    "papermill": {
     "duration": 0.022217,
     "end_time": "2020-12-25T11:32:36.534328",
     "exception": false,
     "start_time": "2020-12-25T11:32:36.512111",
     "status": "completed"
    },
    "tags": []
   },
   "outputs": [
    {
     "data": {
      "text/html": [
       "\n",
       "<!-- #######  HTML!! #########-->\n",
       "<h1 style=\"color: #5e9ca0; text-align: center;\">India</h1>\n",
       "<p style=\"text-align: center;\">Last update: <strong>2020-12-25</strong></p>\n",
       "<p style=\"text-align: center;\">Confirmed cases:</p>\n",
       "<p style=\"text-align: center;font-size:24px;\">10148343 (<span style=\"color: #ff0000;\">+875</span>)</p>\n",
       "<p style=\"text-align: center;\">Confirmed deaths:</p>\n",
       "<p style=\"text-align: center;font-size:24px;\">147134 (<span style=\"color: #ff0000;\">+6</span>)</p>\n"
      ],
      "text/plain": [
       "<IPython.core.display.HTML object>"
      ]
     },
     "metadata": {},
     "output_type": "display_data"
    }
   ],
   "source": [
    "#hide_input\n",
    "update = summary['updated']\n",
    "cases = summary['Cases']\n",
    "new = summary['Cases (+)']\n",
    "deaths = summary['Deaths']\n",
    "dnew = summary['Deaths (+)']\n",
    "\n",
    "html = HTML(overview.format(update=update, cases=cases,new=new,deaths=deaths,dnew=dnew))\n",
    "\n",
    "display(html)"
   ]
  },
  {
   "cell_type": "code",
   "execution_count": 17,
   "metadata": {
    "execution": {
     "iopub.execute_input": "2020-12-25T11:32:36.572036Z",
     "iopub.status.busy": "2020-12-25T11:32:36.571344Z",
     "iopub.status.idle": "2020-12-25T11:32:36.576741Z",
     "shell.execute_reply": "2020-12-25T11:32:36.577207Z"
    },
    "papermill": {
     "duration": 0.026711,
     "end_time": "2020-12-25T11:32:36.577330",
     "exception": false,
     "start_time": "2020-12-25T11:32:36.550619",
     "status": "completed"
    },
    "tags": []
   },
   "outputs": [],
   "source": [
    "#hide\n",
    "dt_cols = list(dft_cases.columns[1:])\n",
    "dft_ct_new_cases = dft_cases.groupby('state')[dt_cols].sum().diff(axis=1).fillna(0).astype(int)\n",
    "dft_ct_new_cases.sort_values(by = dates[-1], ascending = False,inplace = True)"
   ]
  },
  {
   "cell_type": "code",
   "execution_count": 18,
   "metadata": {
    "execution": {
     "iopub.execute_input": "2020-12-25T11:32:36.620075Z",
     "iopub.status.busy": "2020-12-25T11:32:36.619652Z",
     "iopub.status.idle": "2020-12-25T11:32:36.622301Z",
     "shell.execute_reply": "2020-12-25T11:32:36.621930Z"
    },
    "papermill": {
     "duration": 0.031114,
     "end_time": "2020-12-25T11:32:36.622389",
     "exception": false,
     "start_time": "2020-12-25T11:32:36.591275",
     "status": "completed"
    },
    "tags": []
   },
   "outputs": [
    {
     "data": {
      "text/html": [
       "<div>\n",
       "<style scoped>\n",
       "    .dataframe tbody tr th:only-of-type {\n",
       "        vertical-align: middle;\n",
       "    }\n",
       "\n",
       "    .dataframe tbody tr th {\n",
       "        vertical-align: top;\n",
       "    }\n",
       "\n",
       "    .dataframe thead th {\n",
       "        text-align: right;\n",
       "    }\n",
       "</style>\n",
       "<table border=\"1\" class=\"dataframe\">\n",
       "  <thead>\n",
       "    <tr style=\"text-align: right;\">\n",
       "      <th>states</th>\n",
       "      <th>2020-07-01</th>\n",
       "      <th>2020-07-02</th>\n",
       "      <th>2020-07-03</th>\n",
       "      <th>2020-07-04</th>\n",
       "      <th>2020-07-05</th>\n",
       "      <th>2020-07-06</th>\n",
       "      <th>2020-07-07</th>\n",
       "      <th>2020-07-08</th>\n",
       "      <th>2020-07-09</th>\n",
       "      <th>2020-07-10</th>\n",
       "      <th>...</th>\n",
       "      <th>2020-12-16</th>\n",
       "      <th>2020-12-17</th>\n",
       "      <th>2020-12-18</th>\n",
       "      <th>2020-12-19</th>\n",
       "      <th>2020-12-20</th>\n",
       "      <th>2020-12-21</th>\n",
       "      <th>2020-12-22</th>\n",
       "      <th>2020-12-23</th>\n",
       "      <th>2020-12-24</th>\n",
       "      <th>2020-12-25</th>\n",
       "    </tr>\n",
       "    <tr>\n",
       "      <th>state</th>\n",
       "      <th></th>\n",
       "      <th></th>\n",
       "      <th></th>\n",
       "      <th></th>\n",
       "      <th></th>\n",
       "      <th></th>\n",
       "      <th></th>\n",
       "      <th></th>\n",
       "      <th></th>\n",
       "      <th></th>\n",
       "      <th></th>\n",
       "      <th></th>\n",
       "      <th></th>\n",
       "      <th></th>\n",
       "      <th></th>\n",
       "      <th></th>\n",
       "      <th></th>\n",
       "      <th></th>\n",
       "      <th></th>\n",
       "      <th></th>\n",
       "      <th></th>\n",
       "    </tr>\n",
       "  </thead>\n",
       "  <tbody>\n",
       "    <tr>\n",
       "      <th>Telangana</th>\n",
       "      <td>0</td>\n",
       "      <td>1213</td>\n",
       "      <td>1892</td>\n",
       "      <td>1850</td>\n",
       "      <td>1590</td>\n",
       "      <td>1831</td>\n",
       "      <td>1879</td>\n",
       "      <td>1924</td>\n",
       "      <td>1410</td>\n",
       "      <td>1278</td>\n",
       "      <td>...</td>\n",
       "      <td>536</td>\n",
       "      <td>509</td>\n",
       "      <td>551</td>\n",
       "      <td>627</td>\n",
       "      <td>592</td>\n",
       "      <td>316</td>\n",
       "      <td>617</td>\n",
       "      <td>635</td>\n",
       "      <td>574</td>\n",
       "      <td>518</td>\n",
       "    </tr>\n",
       "    <tr>\n",
       "      <th>Odisha</th>\n",
       "      <td>0</td>\n",
       "      <td>229</td>\n",
       "      <td>561</td>\n",
       "      <td>495</td>\n",
       "      <td>469</td>\n",
       "      <td>456</td>\n",
       "      <td>571</td>\n",
       "      <td>527</td>\n",
       "      <td>577</td>\n",
       "      <td>755</td>\n",
       "      <td>...</td>\n",
       "      <td>407</td>\n",
       "      <td>351</td>\n",
       "      <td>358</td>\n",
       "      <td>356</td>\n",
       "      <td>372</td>\n",
       "      <td>363</td>\n",
       "      <td>319</td>\n",
       "      <td>364</td>\n",
       "      <td>263</td>\n",
       "      <td>325</td>\n",
       "    </tr>\n",
       "    <tr>\n",
       "      <th>Mizoram</th>\n",
       "      <td>0</td>\n",
       "      <td>2</td>\n",
       "      <td>0</td>\n",
       "      <td>2</td>\n",
       "      <td>22</td>\n",
       "      <td>11</td>\n",
       "      <td>1</td>\n",
       "      <td>5</td>\n",
       "      <td>0</td>\n",
       "      <td>23</td>\n",
       "      <td>...</td>\n",
       "      <td>31</td>\n",
       "      <td>5</td>\n",
       "      <td>9</td>\n",
       "      <td>16</td>\n",
       "      <td>12</td>\n",
       "      <td>2</td>\n",
       "      <td>9</td>\n",
       "      <td>8</td>\n",
       "      <td>15</td>\n",
       "      <td>22</td>\n",
       "    </tr>\n",
       "    <tr>\n",
       "      <th>Tripura</th>\n",
       "      <td>0</td>\n",
       "      <td>39</td>\n",
       "      <td>93</td>\n",
       "      <td>25</td>\n",
       "      <td>23</td>\n",
       "      <td>111</td>\n",
       "      <td>24</td>\n",
       "      <td>57</td>\n",
       "      <td>16</td>\n",
       "      <td>142</td>\n",
       "      <td>...</td>\n",
       "      <td>24</td>\n",
       "      <td>17</td>\n",
       "      <td>21</td>\n",
       "      <td>26</td>\n",
       "      <td>22</td>\n",
       "      <td>8</td>\n",
       "      <td>13</td>\n",
       "      <td>15</td>\n",
       "      <td>13</td>\n",
       "      <td>9</td>\n",
       "    </tr>\n",
       "    <tr>\n",
       "      <th>Dadra and Nagar Haveli and Daman and Diu</th>\n",
       "      <td>0</td>\n",
       "      <td>25</td>\n",
       "      <td>50</td>\n",
       "      <td>37</td>\n",
       "      <td>32</td>\n",
       "      <td>27</td>\n",
       "      <td>27</td>\n",
       "      <td>15</td>\n",
       "      <td>14</td>\n",
       "      <td>14</td>\n",
       "      <td>...</td>\n",
       "      <td>1</td>\n",
       "      <td>1</td>\n",
       "      <td>1</td>\n",
       "      <td>1</td>\n",
       "      <td>0</td>\n",
       "      <td>0</td>\n",
       "      <td>1</td>\n",
       "      <td>0</td>\n",
       "      <td>2</td>\n",
       "      <td>1</td>\n",
       "    </tr>\n",
       "  </tbody>\n",
       "</table>\n",
       "<p>5 rows × 178 columns</p>\n",
       "</div>"
      ],
      "text/plain": [
       "states                                    2020-07-01  2020-07-02  2020-07-03  \\\n",
       "state                                                                          \n",
       "Telangana                                          0        1213        1892   \n",
       "Odisha                                             0         229         561   \n",
       "Mizoram                                            0           2           0   \n",
       "Tripura                                            0          39          93   \n",
       "Dadra and Nagar Haveli and Daman and Diu           0          25          50   \n",
       "\n",
       "states                                    2020-07-04  2020-07-05  2020-07-06  \\\n",
       "state                                                                          \n",
       "Telangana                                       1850        1590        1831   \n",
       "Odisha                                           495         469         456   \n",
       "Mizoram                                            2          22          11   \n",
       "Tripura                                           25          23         111   \n",
       "Dadra and Nagar Haveli and Daman and Diu          37          32          27   \n",
       "\n",
       "states                                    2020-07-07  2020-07-08  2020-07-09  \\\n",
       "state                                                                          \n",
       "Telangana                                       1879        1924        1410   \n",
       "Odisha                                           571         527         577   \n",
       "Mizoram                                            1           5           0   \n",
       "Tripura                                           24          57          16   \n",
       "Dadra and Nagar Haveli and Daman and Diu          27          15          14   \n",
       "\n",
       "states                                    2020-07-10  ...  2020-12-16  \\\n",
       "state                                                 ...               \n",
       "Telangana                                       1278  ...         536   \n",
       "Odisha                                           755  ...         407   \n",
       "Mizoram                                           23  ...          31   \n",
       "Tripura                                          142  ...          24   \n",
       "Dadra and Nagar Haveli and Daman and Diu          14  ...           1   \n",
       "\n",
       "states                                    2020-12-17  2020-12-18  2020-12-19  \\\n",
       "state                                                                          \n",
       "Telangana                                        509         551         627   \n",
       "Odisha                                           351         358         356   \n",
       "Mizoram                                            5           9          16   \n",
       "Tripura                                           17          21          26   \n",
       "Dadra and Nagar Haveli and Daman and Diu           1           1           1   \n",
       "\n",
       "states                                    2020-12-20  2020-12-21  2020-12-22  \\\n",
       "state                                                                          \n",
       "Telangana                                        592         316         617   \n",
       "Odisha                                           372         363         319   \n",
       "Mizoram                                           12           2           9   \n",
       "Tripura                                           22           8          13   \n",
       "Dadra and Nagar Haveli and Daman and Diu           0           0           1   \n",
       "\n",
       "states                                    2020-12-23  2020-12-24  2020-12-25  \n",
       "state                                                                         \n",
       "Telangana                                        635         574         518  \n",
       "Odisha                                           364         263         325  \n",
       "Mizoram                                            8          15          22  \n",
       "Tripura                                           15          13           9  \n",
       "Dadra and Nagar Haveli and Daman and Diu           0           2           1  \n",
       "\n",
       "[5 rows x 178 columns]"
      ]
     },
     "execution_count": 18,
     "metadata": {},
     "output_type": "execute_result"
    }
   ],
   "source": [
    "#hide\n",
    "dft_ct_new_cases.head()"
   ]
  },
  {
   "cell_type": "code",
   "execution_count": 19,
   "metadata": {
    "execution": {
     "iopub.execute_input": "2020-12-25T11:32:36.674060Z",
     "iopub.status.busy": "2020-12-25T11:32:36.664294Z",
     "iopub.status.idle": "2020-12-25T11:32:42.132441Z",
     "shell.execute_reply": "2020-12-25T11:32:42.132923Z"
    },
    "papermill": {
     "duration": 5.495749,
     "end_time": "2020-12-25T11:32:42.133082",
     "exception": false,
     "start_time": "2020-12-25T11:32:36.637333",
     "status": "completed"
    },
    "tags": []
   },
   "outputs": [
    {
     "data": {
      "image/png": "[encoded data removed]",
      "text/plain": [
       "<Figure size 1296x2016 with 11 Axes>"
      ]
     },
     "metadata": {
      "needs_background": "light"
     },
     "output_type": "display_data"
    }
   ],
   "source": [
    "#hide_input\n",
    "df = dft_ct_new_cases.copy()\n",
    "df.loc['Total'] = df.sum()\n",
    "n = 5\n",
    "ax = []\n",
    "fig = plt.figure(figsize = (18,28))\n",
    "gs = fig.add_gridspec(n+2, 5)\n",
    "# gs = fig.add_gridspec(2, 3)\n",
    "ax1 = fig.add_subplot(gs[0, :])\n",
    "ef = df.loc['Total'].rename_axis('date').reset_index()\n",
    "ef['date'] = ef['date'].astype('datetime64[ns]')\n",
    "ax1.bar(ef.date,ef.Total,alpha=0.3,color='#007acc')\n",
    "ax1.plot(ef.date,ef.Total , marker=\"o\", color='#007acc')\n",
    "ax1.xaxis.set_major_locator(mdates.WeekdayLocator())\n",
    "ax1.xaxis.set_major_formatter(mdates.DateFormatter('%b %d'))\n",
    "ax1.text(0.02, 0.5,'India daily case count', transform = ax1.transAxes, fontsize=25);\n",
    "ax1.spines['right'].set_visible(False)\n",
    "ax1.spines['top'].set_visible(False)\n",
    "\n",
    "ax2 = fig.add_subplot(gs[1,0])\n",
    "ef = df.loc['Maharashtra'].rename_axis('date').reset_index()\n",
    "ef['date'] = ef['date'].astype('datetime64[ns]')\n",
    "\n",
    "ax2.bar(ef.date, ef.Maharashtra,color = '#007acc',alpha=0.5)\n",
    "ax2.xaxis.set_major_locator(mdates.WeekdayLocator())\n",
    "ax2.xaxis.set_major_formatter(mdates.DateFormatter('%b %d'))\n",
    "ax2.set_xticks(ax2.get_xticks()[::3])\n",
    "maxyval = ef.Maharashtra.max()\n",
    "ax2.set_ylim([0,maxyval])\n",
    "ax2.text(0.05, 0.9,'Maharashtra', transform = ax2.transAxes, fontsize=20);\n",
    "ax2.spines['right'].set_visible(False)\n",
    "ax2.spines['top'].set_visible(False)\n",
    "\n",
    "\n",
    "ax3 = fig.add_subplot(gs[1,1])\n",
    "ef = df.loc['Tamil Nadu'].rename_axis('date').reset_index()\n",
    "ef['date'] = ef['date'].astype('datetime64[ns]')\n",
    "ax3.bar(ef.date, ef['Tamil Nadu'],color = '#007acc',alpha=0.5,)\n",
    "ax3.xaxis.set_major_locator(mdates.WeekdayLocator())\n",
    "ax3.xaxis.set_major_formatter(mdates.DateFormatter('%b %d'))\n",
    "ax3.set_xticks(ax3.get_xticks()[::3])\n",
    "ax3.text(0.05, 0.9,'Tamil Nadu', transform = ax3.transAxes, fontsize=20);\n",
    "ax3.spines['right'].set_visible(False)\n",
    "ax3.spines['top'].set_visible(False)\n",
    "\n",
    "ax5 = fig.add_subplot(gs[1,3])\n",
    "ef = df.loc['Telangana'].rename_axis('date').reset_index()\n",
    "ef['date'] = ef['date'].astype('datetime64[ns]')\n",
    "ax5.bar(ef.date, ef['Telangana'],color = '#007acc',alpha=0.5,)\n",
    "ax5.xaxis.set_major_locator(mdates.WeekdayLocator())\n",
    "ax5.xaxis.set_major_formatter(mdates.DateFormatter('%b %d'))\n",
    "ax5.set_xticks(ax5.get_xticks()[::3])\n",
    "ax5.text(0.05, 0.9,'Telangana', transform = ax5.transAxes, fontsize=20);\n",
    "ax5.spines['right'].set_visible(False)\n",
    "ax5.spines['top'].set_visible(False)\n",
    "\n",
    "ax6 = fig.add_subplot(gs[1,4])\n",
    "ef = df.loc['Andhra Pradesh'].rename_axis('date').reset_index()\n",
    "ef['date'] = ef['date'].astype('datetime64[ns]')\n",
    "ax6.bar(ef.date, ef['Andhra Pradesh'],color = '#007acc',alpha=0.5,)\n",
    "ax6.xaxis.set_major_locator(mdates.WeekdayLocator())\n",
    "ax6.xaxis.set_major_formatter(mdates.DateFormatter('%b %d'))\n",
    "ax6.set_xticks(ax6.get_xticks()[::3])\n",
    "ax6.text(0.05, 1,'Andhra Pradesh', transform = ax6.transAxes, fontsize=20);\n",
    "ax6.spines['right'].set_visible(False)\n",
    "ax6.spines['top'].set_visible(False)\n",
    "\n",
    "ax4 = fig.add_subplot(gs[1,2])\n",
    "ef = df.loc['Delhi'].rename_axis('date').reset_index()\n",
    "ef['date'] = ef['date'].astype('datetime64[ns]')\n",
    "ax4.bar(ef.date, ef.Delhi,color = '#007acc',alpha=0.5)\n",
    "ax4.set_xticks([])\n",
    "ax4.xaxis.set_major_locator(mdates.WeekdayLocator())\n",
    "ax4.xaxis.set_major_formatter(mdates.DateFormatter('%b %d'))\n",
    "ax4.set_xticks(ax4.get_xticks()[::3])\n",
    "ax4.spines['right'].set_visible(False)\n",
    "ax4.spines['top'].set_visible(False)\n",
    "\n",
    "ax4.text(0.05, 1,'Delhi', transform = ax4.transAxes, fontsize=20)\n",
    "\n",
    "for i in range(n):\n",
    "    \n",
    "    ax.append(fig.add_subplot(gs[i+2,:]))\n",
    "    ef = df.iloc[i+3].rename_axis('date').reset_index()\n",
    "    ef['date'] = ef['date'].astype('datetime64[ns]')\n",
    "    ax[i].bar(ef.date,ef.iloc[:,-1],color = '#007acc',alpha=0.3)\n",
    "    ax[i].plot(ef.date,ef.iloc[:,-1],marker='o',color='#007acc')\n",
    "    ax[i].text(0.02,0.5,f'{ef.columns.values[-1]}',transform = ax[i].transAxes, fontsize = 20);\n",
    "    ax[i].xaxis.set_major_locator(mdates.WeekdayLocator())\n",
    "    ax[i].xaxis.set_major_formatter(mdates.DateFormatter('%b %d'))\n",
    "    ax[i].set_ylim([0,7000])\n",
    "    ax[i].spines['right'].set_visible(False)\n",
    "    ax[i].spines['top'].set_visible(False)\n",
    "plt.tight_layout()\n"
   ]
  },
  {
   "cell_type": "code",
   "execution_count": 20,
   "metadata": {
    "execution": {
     "iopub.execute_input": "2020-12-25T11:32:42.187931Z",
     "iopub.status.busy": "2020-12-25T11:32:42.187381Z",
     "iopub.status.idle": "2020-12-25T11:32:42.191665Z",
     "shell.execute_reply": "2020-12-25T11:32:42.192092Z"
    },
    "papermill": {
     "duration": 0.03672,
     "end_time": "2020-12-25T11:32:42.192245",
     "exception": false,
     "start_time": "2020-12-25T11:32:42.155525",
     "status": "completed"
    },
    "tags": []
   },
   "outputs": [
    {
     "name": "stdout",
     "output_type": "stream",
     "text": [
      "                                   states    Cases  Deaths   PCases  PDeaths  Cases (+)  Deaths (+)  Fatality Rate\n",
      "                              Maharashtra  1909951   49058  1909951    49058          0           0           2.57\n",
      "                                Karnataka   913483   12039   913483    12039          0           0           1.32\n",
      "                           Andhra Pradesh   880075    7089   880075     7089          0           0           0.81\n",
      "                               Tamil Nadu   811115   12036   811115    12036          0           0           1.48\n",
      "                                   Kerala   726688    2915   726688     2915          0           0           0.40\n",
      "                                    Delhi   620681   10384   620681    10384          0           0           1.67\n",
      "                            Uttar Pradesh   578768    8267   578768     8267          0           0           1.43\n",
      "                              West Bengal   543214    9505   543214     9505          0           0           1.75\n",
      "                                   Odisha   327867    1906   327542     1903        325           3           0.58\n",
      "                                Rajasthan   302709    2650   302709     2650          0           0           0.88\n",
      "                                Telangana   284074    1527   283556     1524        518           3           0.54\n",
      "                             Chhattisgarh   272426    3249   272426     3249          0           0           1.19\n",
      "                                  Haryana   259745    2854   259745     2854          0           0           1.10\n",
      "                                    Bihar   249336    1371   249336     1371          0           0           0.55\n",
      "                                  Gujarat   239195    4262   239195     4262          0           0           1.78\n",
      "                           Madhya Pradesh   235369    3524   235369     3524          0           0           1.50\n",
      "                                    Assam   215775    1033   215775     1033          0           0           0.48\n",
      "                                   Punjab   164505    5260   164505     5260          0           0           3.20\n",
      "                        Jammu and Kashmir   119344    1860   119344     1860          0           0           1.56\n",
      "                                Jharkhand   113786    1016   113786     1016          0           0           0.89\n",
      "                              Uttarakhand    88376    1458    88376     1458          0           0           1.65\n",
      "                         Himachal Pradesh    53766     887    53766      887          0           0           1.65\n",
      "                                      Goa    50454     728    50454      728          0           0           1.44\n",
      "                               Puducherry    37885     629    37885      629          0           0           1.66\n",
      "                                  Tripura    33222     381    33213      381          9           0           1.15\n",
      "                                  Manipur    27876     341    27876      341          0           0           1.22\n",
      "                               Chandigarh    19309     314    19309      314          0           0           1.63\n",
      "                        Arunachal Pradesh    16678      56    16678       56          0           0           0.34\n",
      "                                Meghalaya    13340     135    13340      135          0           0           1.01\n",
      "                                 Nagaland    11890      77    11890       77          0           0           0.65\n",
      "                                   Ladakh     9341     126     9341      126          0           0           1.35\n",
      "                                   Sikkim     5664     125     5664      125          0           0           2.21\n",
      "              Andaman and Nicobar Islands     4901      62     4901       62          0           0           1.27\n",
      "                                  Mizoram     4178       8     4156        8         22           0           0.19\n",
      " Dadra and Nagar Haveli and Daman and Diu     3357       2     3356        2          1           0           0.06\n",
      "                              Lakshadweep        0       0        0        0          0           0            NaN\n"
     ]
    }
   ],
   "source": [
    "#hide_input\n",
    "print(df_table.to_string(index=False))"
   ]
  },
  {
   "cell_type": "code",
   "execution_count": null,
   "metadata": {
    "papermill": {
     "duration": 0.021364,
     "end_time": "2020-12-25T11:32:42.235863",
     "exception": false,
     "start_time": "2020-12-25T11:32:42.214499",
     "status": "completed"
    },
    "tags": []
   },
   "outputs": [],
   "source": []
  },
  {
   "cell_type": "code",
   "execution_count": null,
   "metadata": {
    "papermill": {
     "duration": 0.022194,
     "end_time": "2020-12-25T11:32:42.280351",
     "exception": false,
     "start_time": "2020-12-25T11:32:42.258157",
     "status": "completed"
    },
    "tags": []
   },
   "outputs": [],
   "source": []
  }
 ],
 "metadata": {
  "kernelspec": {
   "display_name": "Python 3",
   "language": "python",
   "name": "python3"
  },
  "language_info": {
   "codemirror_mode": {
    "name": "ipython",
    "version": 3
   },
   "file_extension": ".py",
   "mimetype": "text/x-python",
   "name": "python",
   "nbconvert_exporter": "python",
   "pygments_lexer": "ipython3",
   "version": "3.6.12"
  },
  "papermill": {
   "duration": 13.053558,
   "end_time": "2020-12-25T11:32:42.811531",
   "environment_variables": {},
   "exception": null,
   "input_path": "latest.ipynb",
   "output_path": "latest.ipynb",
   "parameters": {},
   "start_time": "2020-12-25T11:32:29.757973",
   "version": "2.1.2"
  }
 },
 "nbformat": 4,
 "nbformat_minor": 4
}