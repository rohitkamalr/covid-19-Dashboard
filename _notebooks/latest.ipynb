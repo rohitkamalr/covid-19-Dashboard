{
 "cells": [
  {
   "cell_type": "markdown",
   "metadata": {
    "papermill": {
     "duration": 0.020306,
     "end_time": "2020-09-04T12:52:06.140658",
     "exception": false,
     "start_time": "2020-09-04T12:52:06.120352",
     "status": "completed"
    },
    "tags": []
   },
   "source": [
    "# Latest COVID-19 India Matplotlib Overview"
   ]
  },
  {
   "cell_type": "code",
   "execution_count": 1,
   "metadata": {
    "execution": {
     "iopub.execute_input": "2020-09-04T12:52:06.178114Z",
     "iopub.status.busy": "2020-09-04T12:52:06.177526Z",
     "iopub.status.idle": "2020-09-04T12:52:06.760815Z",
     "shell.execute_reply": "2020-09-04T12:52:06.760282Z"
    },
    "papermill": {
     "duration": 0.604471,
     "end_time": "2020-09-04T12:52:06.760971",
     "exception": false,
     "start_time": "2020-09-04T12:52:06.156500",
     "status": "completed"
    },
    "tags": []
   },
   "outputs": [],
   "source": [
    "#hide\n",
    "import pandas as pd\n",
    "import numpy as np\n",
    "import requests\n",
    "import json\n",
    "import matplotlib.pyplot as plt\n",
    "import matplotlib.dates as mdates\n",
    "import matplotlib as mpl\n",
    "from IPython.core.display import display,HTML\n",
    "%matplotlib inline\n",
    "from datetime import date"
   ]
  },
  {
   "cell_type": "code",
   "execution_count": 2,
   "metadata": {
    "execution": {
     "iopub.execute_input": "2020-09-04T12:52:06.801829Z",
     "iopub.status.busy": "2020-09-04T12:52:06.801236Z",
     "iopub.status.idle": "2020-09-04T12:52:07.158229Z",
     "shell.execute_reply": "2020-09-04T12:52:07.157162Z"
    },
    "papermill": {
     "duration": 0.382106,
     "end_time": "2020-09-04T12:52:07.158464",
     "exception": false,
     "start_time": "2020-09-04T12:52:06.776358",
     "status": "completed"
    },
    "tags": []
   },
   "outputs": [],
   "source": [
    "#hide\n",
    "df  = pd.read_csv('https://api.covid19india.org/csv/latest/states.csv')\n",
    "df = df[['Date','State','Confirmed','Deceased']]\n",
    "df = df.rename(columns={'Confirmed':'Cases', \"Deceased\":'Deaths'})\n",
    "df_cases = df[[\"Date\",'State','Cases']]\n",
    "df_deaths = df[['Date','State','Deaths']]\n",
    "df_cases1 = df_cases.groupby('Date')\n",
    "df_deaths1= df_deaths.groupby('Date')"
   ]
  },
  {
   "cell_type": "code",
   "execution_count": 3,
   "metadata": {
    "execution": {
     "iopub.execute_input": "2020-09-04T12:52:07.200992Z",
     "iopub.status.busy": "2020-09-04T12:52:07.200381Z",
     "iopub.status.idle": "2020-09-04T12:52:07.218655Z",
     "shell.execute_reply": "2020-09-04T12:52:07.218175Z"
    },
    "papermill": {
     "duration": 0.040469,
     "end_time": "2020-09-04T12:52:07.218788",
     "exception": false,
     "start_time": "2020-09-04T12:52:07.178319",
     "status": "completed"
    },
    "tags": []
   },
   "outputs": [],
   "source": [
    "#hide\n",
    "df_snap = pd.read_csv('data/SnapshotCases-28-July.csv')\n",
    "arr_states = df_snap['states'].unique()\n",
    "arr_dates = df['Date'].unique()\n",
    "df_snap = df_snap.set_index('states')"
   ]
  },
  {
   "cell_type": "code",
   "execution_count": 4,
   "metadata": {
    "execution": {
     "iopub.execute_input": "2020-09-04T12:52:07.258119Z",
     "iopub.status.busy": "2020-09-04T12:52:07.257524Z",
     "iopub.status.idle": "2020-09-04T12:52:07.261168Z",
     "shell.execute_reply": "2020-09-04T12:52:07.261631Z"
    },
    "papermill": {
     "duration": 0.026847,
     "end_time": "2020-09-04T12:52:07.261773",
     "exception": false,
     "start_time": "2020-09-04T12:52:07.234926",
     "status": "completed"
    },
    "tags": []
   },
   "outputs": [
    {
     "data": {
      "text/plain": [
       "array(['Andaman and Nicobar Islands', 'Andhra Pradesh',\n",
       "       'Arunachal Pradesh', 'Assam', 'Bihar', 'Chandigarh',\n",
       "       'Dadra and Nagar Haveli and Daman and Diu', 'Delhi', 'Goa',\n",
       "       'Gujarat', 'Haryana', 'Himachal Pradesh', 'Jammu and Kashmir',\n",
       "       'Jharkhand', 'Karnataka', 'Kerala', 'Lakshadweep',\n",
       "       'Madhya Pradesh', 'Maharashtra', 'Manipur', 'Meghalaya', 'Mizoram',\n",
       "       'Nagaland', 'Odisha', 'Puducherry', 'Punjab', 'Rajasthan',\n",
       "       'Sikkim', 'Tamil Nadu', 'Telangana', 'Tripura', 'Uttar Pradesh',\n",
       "       'West Bengal', 'Chhattisgarh', 'Ladakh', 'Uttarakhand'],\n",
       "      dtype=object)"
      ]
     },
     "execution_count": 4,
     "metadata": {},
     "output_type": "execute_result"
    }
   ],
   "source": [
    "#hide\n",
    "arr_states[-9] = 'Puducherry'\n",
    "arr_states[-10] = 'Odisha'\n",
    "arr_states[6] = 'Dadra and Nagar Haveli and Daman and Diu'\n",
    "arr_states = np.append(arr_states,np.array(['Chhattisgarh','Ladakh','Uttarakhand']))\n",
    "arr_states"
   ]
  },
  {
   "cell_type": "code",
   "execution_count": 5,
   "metadata": {
    "execution": {
     "iopub.execute_input": "2020-09-04T12:52:07.302482Z",
     "iopub.status.busy": "2020-09-04T12:52:07.300098Z",
     "iopub.status.idle": "2020-09-04T12:52:07.312873Z",
     "shell.execute_reply": "2020-09-04T12:52:07.313368Z"
    },
    "papermill": {
     "duration": 0.036368,
     "end_time": "2020-09-04T12:52:07.313504",
     "exception": false,
     "start_time": "2020-09-04T12:52:07.277136",
     "status": "completed"
    },
    "tags": []
   },
   "outputs": [],
   "source": [
    "#hide\n",
    "dates = []\n",
    "for i in arr_dates:\n",
    "    if i>='2020-07-01':\n",
    "        dates.append(i)\n",
    "dict = {'states':dates}\n",
    "for i in arr_states:\n",
    "    dict[i] = [0]*len(dates)\n",
    "dft_cases = pd.DataFrame(dict)\n",
    "dft_deaths = pd.DataFrame(dict)\n"
   ]
  },
  {
   "cell_type": "code",
   "execution_count": 6,
   "metadata": {
    "execution": {
     "iopub.execute_input": "2020-09-04T12:52:07.350487Z",
     "iopub.status.busy": "2020-09-04T12:52:07.349908Z",
     "iopub.status.idle": "2020-09-04T12:52:08.255792Z",
     "shell.execute_reply": "2020-09-04T12:52:08.255268Z"
    },
    "papermill": {
     "duration": 0.927021,
     "end_time": "2020-09-04T12:52:08.255988",
     "exception": false,
     "start_time": "2020-09-04T12:52:07.328967",
     "status": "completed"
    },
    "tags": []
   },
   "outputs": [],
   "source": [
    "#hide\n",
    "for i in range(len(dates)):\n",
    "    df1_deaths = df_deaths1.get_group(dates[i])\n",
    "    for j in range(len(df1_deaths.index)):\n",
    "        if df1_deaths.iloc[j,1] in arr_states:\n",
    "            dft_deaths.loc[i,df1_deaths.iloc[j,1]] = df1_deaths.iloc[j,2]\n",
    "dft_deaths = dft_deaths.set_index('states')"
   ]
  },
  {
   "cell_type": "code",
   "execution_count": 7,
   "metadata": {
    "execution": {
     "iopub.execute_input": "2020-09-04T12:52:08.307057Z",
     "iopub.status.busy": "2020-09-04T12:52:08.306310Z",
     "iopub.status.idle": "2020-09-04T12:52:09.220609Z",
     "shell.execute_reply": "2020-09-04T12:52:09.220068Z"
    },
    "papermill": {
     "duration": 0.943238,
     "end_time": "2020-09-04T12:52:09.220756",
     "exception": false,
     "start_time": "2020-09-04T12:52:08.277518",
     "status": "completed"
    },
    "tags": []
   },
   "outputs": [],
   "source": [
    "#hide\n",
    "for i in range(len(dates)):\n",
    "    df1_cases = df_cases1.get_group(dates[i])\n",
    "    for j in range(len(df1_cases.index)):\n",
    "        if df1_cases.iloc[j,1] in arr_states:\n",
    "            dft_cases.loc[i,df1_cases.iloc[j,1]] = df1_cases.iloc[j,2]\n",
    "dft_cases = dft_cases.set_index('states')"
   ]
  },
  {
   "cell_type": "code",
   "execution_count": 8,
   "metadata": {
    "execution": {
     "iopub.execute_input": "2020-09-04T12:52:09.261389Z",
     "iopub.status.busy": "2020-09-04T12:52:09.260556Z",
     "iopub.status.idle": "2020-09-04T12:52:09.262660Z",
     "shell.execute_reply": "2020-09-04T12:52:09.263097Z"
    },
    "papermill": {
     "duration": 0.026726,
     "end_time": "2020-09-04T12:52:09.263248",
     "exception": false,
     "start_time": "2020-09-04T12:52:09.236522",
     "status": "completed"
    },
    "tags": []
   },
   "outputs": [],
   "source": [
    "#hide\n",
    "dft_cases = dft_cases.T\n",
    "dft_deaths = dft_deaths.T\n",
    "dt_today = dates[-1]\n",
    "dt_yday = dates[-2]"
   ]
  },
  {
   "cell_type": "code",
   "execution_count": 9,
   "metadata": {
    "execution": {
     "iopub.execute_input": "2020-09-04T12:52:09.302178Z",
     "iopub.status.busy": "2020-09-04T12:52:09.301345Z",
     "iopub.status.idle": "2020-09-04T12:52:09.305931Z",
     "shell.execute_reply": "2020-09-04T12:52:09.306403Z"
    },
    "papermill": {
     "duration": 0.027327,
     "end_time": "2020-09-04T12:52:09.306551",
     "exception": false,
     "start_time": "2020-09-04T12:52:09.279224",
     "status": "completed"
    },
    "tags": []
   },
   "outputs": [],
   "source": [
    "#hide\n",
    "dft_cases = dft_cases.reset_index()\n",
    "dft_deaths = dft_deaths.reset_index()\n",
    "dft_cases = dft_cases.rename(columns = {'index':'state'})\n",
    "dft_deaths = dft_deaths.rename(columns = {'index':'state'})"
   ]
  },
  {
   "cell_type": "code",
   "execution_count": 10,
   "metadata": {
    "execution": {
     "iopub.execute_input": "2020-09-04T12:52:09.350574Z",
     "iopub.status.busy": "2020-09-04T12:52:09.349934Z",
     "iopub.status.idle": "2020-09-04T12:52:09.352895Z",
     "shell.execute_reply": "2020-09-04T12:52:09.352288Z"
    },
    "papermill": {
     "duration": 0.030737,
     "end_time": "2020-09-04T12:52:09.353029",
     "exception": false,
     "start_time": "2020-09-04T12:52:09.322292",
     "status": "completed"
    },
    "tags": []
   },
   "outputs": [],
   "source": [
    "#hide\n",
    "dfc_cases = dft_cases.groupby('state')[dt_today].sum()\n",
    "dfc_deaths = dft_deaths.groupby('state')[dt_today].sum()\n",
    "dfp_cases = dft_cases.groupby('state')[dt_yday].sum()\n",
    "dfp_deaths = dft_deaths.groupby('state')[dt_yday].sum()"
   ]
  },
  {
   "cell_type": "code",
   "execution_count": 11,
   "metadata": {
    "execution": {
     "iopub.execute_input": "2020-09-04T12:52:09.392617Z",
     "iopub.status.busy": "2020-09-04T12:52:09.391992Z",
     "iopub.status.idle": "2020-09-04T12:52:09.405125Z",
     "shell.execute_reply": "2020-09-04T12:52:09.405810Z"
    },
    "papermill": {
     "duration": 0.036907,
     "end_time": "2020-09-04T12:52:09.405986",
     "exception": false,
     "start_time": "2020-09-04T12:52:09.369079",
     "status": "completed"
    },
    "tags": []
   },
   "outputs": [
    {
     "data": {
      "text/html": [
       "<div>\n",
       "<style scoped>\n",
       "    .dataframe tbody tr th:only-of-type {\n",
       "        vertical-align: middle;\n",
       "    }\n",
       "\n",
       "    .dataframe tbody tr th {\n",
       "        vertical-align: top;\n",
       "    }\n",
       "\n",
       "    .dataframe thead th {\n",
       "        text-align: right;\n",
       "    }\n",
       "</style>\n",
       "<table border=\"1\" class=\"dataframe\">\n",
       "  <thead>\n",
       "    <tr style=\"text-align: right;\">\n",
       "      <th></th>\n",
       "      <th>states</th>\n",
       "      <th>Cases</th>\n",
       "      <th>Deaths</th>\n",
       "      <th>PCases</th>\n",
       "      <th>PDeaths</th>\n",
       "    </tr>\n",
       "  </thead>\n",
       "  <tbody>\n",
       "    <tr>\n",
       "      <th>0</th>\n",
       "      <td>Maharashtra</td>\n",
       "      <td>843844</td>\n",
       "      <td>25586</td>\n",
       "      <td>843844</td>\n",
       "      <td>25586</td>\n",
       "    </tr>\n",
       "    <tr>\n",
       "      <th>1</th>\n",
       "      <td>Andhra Pradesh</td>\n",
       "      <td>465730</td>\n",
       "      <td>4200</td>\n",
       "      <td>465730</td>\n",
       "      <td>4200</td>\n",
       "    </tr>\n",
       "    <tr>\n",
       "      <th>2</th>\n",
       "      <td>Tamil Nadu</td>\n",
       "      <td>445851</td>\n",
       "      <td>7608</td>\n",
       "      <td>445851</td>\n",
       "      <td>7608</td>\n",
       "    </tr>\n",
       "    <tr>\n",
       "      <th>3</th>\n",
       "      <td>Karnataka</td>\n",
       "      <td>370206</td>\n",
       "      <td>6054</td>\n",
       "      <td>370206</td>\n",
       "      <td>6054</td>\n",
       "    </tr>\n",
       "    <tr>\n",
       "      <th>4</th>\n",
       "      <td>Uttar Pradesh</td>\n",
       "      <td>253175</td>\n",
       "      <td>3762</td>\n",
       "      <td>247101</td>\n",
       "      <td>3691</td>\n",
       "    </tr>\n",
       "  </tbody>\n",
       "</table>\n",
       "</div>"
      ],
      "text/plain": [
       "           states   Cases  Deaths  PCases  PDeaths\n",
       "0     Maharashtra  843844   25586  843844    25586\n",
       "1  Andhra Pradesh  465730    4200  465730     4200\n",
       "2      Tamil Nadu  445851    7608  445851     7608\n",
       "3       Karnataka  370206    6054  370206     6054\n",
       "4   Uttar Pradesh  253175    3762  247101     3691"
      ]
     },
     "execution_count": 11,
     "metadata": {},
     "output_type": "execute_result"
    }
   ],
   "source": [
    "#hide\n",
    "df_table = pd.DataFrame({'states': dfc_cases.index, 'Cases': dfc_cases.values, 'Deaths': dfc_deaths.values, 'PCases': dfp_cases.values, 'PDeaths': dfp_deaths.values}).set_index('states')\n",
    "df_table = df_table.sort_values(by = ['Cases','Deaths'], ascending = [False, False])\n",
    "df_table = df_table.reset_index()\n",
    "df_table.head()"
   ]
  },
  {
   "cell_type": "code",
   "execution_count": 12,
   "metadata": {
    "execution": {
     "iopub.execute_input": "2020-09-04T12:52:09.445947Z",
     "iopub.status.busy": "2020-09-04T12:52:09.445346Z",
     "iopub.status.idle": "2020-09-04T12:52:09.454238Z",
     "shell.execute_reply": "2020-09-04T12:52:09.453711Z"
    },
    "papermill": {
     "duration": 0.032179,
     "end_time": "2020-09-04T12:52:09.454367",
     "exception": false,
     "start_time": "2020-09-04T12:52:09.422188",
     "status": "completed"
    },
    "tags": []
   },
   "outputs": [],
   "source": [
    "#hide\n",
    "for c in 'Cases, Deaths'.split(', '):\n",
    "    df_table[f'{c} (+)'] = (df_table[c] - df_table[f'P{c}']).clip(0)\n",
    "df_table['Fatality Rate'] = (100* df_table['Deaths']/ df_table['Cases']).round(2)"
   ]
  },
  {
   "cell_type": "code",
   "execution_count": 13,
   "metadata": {
    "execution": {
     "iopub.execute_input": "2020-09-04T12:52:09.495900Z",
     "iopub.status.busy": "2020-09-04T12:52:09.495312Z",
     "iopub.status.idle": "2020-09-04T12:52:09.502321Z",
     "shell.execute_reply": "2020-09-04T12:52:09.501832Z"
    },
    "papermill": {
     "duration": 0.031772,
     "end_time": "2020-09-04T12:52:09.502450",
     "exception": false,
     "start_time": "2020-09-04T12:52:09.470678",
     "status": "completed"
    },
    "tags": []
   },
   "outputs": [
    {
     "data": {
      "text/html": [
       "<div>\n",
       "<style scoped>\n",
       "    .dataframe tbody tr th:only-of-type {\n",
       "        vertical-align: middle;\n",
       "    }\n",
       "\n",
       "    .dataframe tbody tr th {\n",
       "        vertical-align: top;\n",
       "    }\n",
       "\n",
       "    .dataframe thead th {\n",
       "        text-align: right;\n",
       "    }\n",
       "</style>\n",
       "<table border=\"1\" class=\"dataframe\">\n",
       "  <thead>\n",
       "    <tr style=\"text-align: right;\">\n",
       "      <th></th>\n",
       "      <th>states</th>\n",
       "      <th>Cases</th>\n",
       "      <th>Deaths</th>\n",
       "      <th>PCases</th>\n",
       "      <th>PDeaths</th>\n",
       "      <th>Cases (+)</th>\n",
       "      <th>Deaths (+)</th>\n",
       "      <th>Fatality Rate</th>\n",
       "    </tr>\n",
       "  </thead>\n",
       "  <tbody>\n",
       "    <tr>\n",
       "      <th>0</th>\n",
       "      <td>Maharashtra</td>\n",
       "      <td>843844</td>\n",
       "      <td>25586</td>\n",
       "      <td>843844</td>\n",
       "      <td>25586</td>\n",
       "      <td>0</td>\n",
       "      <td>0</td>\n",
       "      <td>3.03</td>\n",
       "    </tr>\n",
       "    <tr>\n",
       "      <th>1</th>\n",
       "      <td>Andhra Pradesh</td>\n",
       "      <td>465730</td>\n",
       "      <td>4200</td>\n",
       "      <td>465730</td>\n",
       "      <td>4200</td>\n",
       "      <td>0</td>\n",
       "      <td>0</td>\n",
       "      <td>0.90</td>\n",
       "    </tr>\n",
       "    <tr>\n",
       "      <th>2</th>\n",
       "      <td>Tamil Nadu</td>\n",
       "      <td>445851</td>\n",
       "      <td>7608</td>\n",
       "      <td>445851</td>\n",
       "      <td>7608</td>\n",
       "      <td>0</td>\n",
       "      <td>0</td>\n",
       "      <td>1.71</td>\n",
       "    </tr>\n",
       "    <tr>\n",
       "      <th>3</th>\n",
       "      <td>Karnataka</td>\n",
       "      <td>370206</td>\n",
       "      <td>6054</td>\n",
       "      <td>370206</td>\n",
       "      <td>6054</td>\n",
       "      <td>0</td>\n",
       "      <td>0</td>\n",
       "      <td>1.64</td>\n",
       "    </tr>\n",
       "    <tr>\n",
       "      <th>4</th>\n",
       "      <td>Uttar Pradesh</td>\n",
       "      <td>253175</td>\n",
       "      <td>3762</td>\n",
       "      <td>247101</td>\n",
       "      <td>3691</td>\n",
       "      <td>6074</td>\n",
       "      <td>71</td>\n",
       "      <td>1.49</td>\n",
       "    </tr>\n",
       "  </tbody>\n",
       "</table>\n",
       "</div>"
      ],
      "text/plain": [
       "           states   Cases  Deaths  PCases  PDeaths  Cases (+)  Deaths (+)  \\\n",
       "0     Maharashtra  843844   25586  843844    25586          0           0   \n",
       "1  Andhra Pradesh  465730    4200  465730     4200          0           0   \n",
       "2      Tamil Nadu  445851    7608  445851     7608          0           0   \n",
       "3       Karnataka  370206    6054  370206     6054          0           0   \n",
       "4   Uttar Pradesh  253175    3762  247101     3691       6074          71   \n",
       "\n",
       "   Fatality Rate  \n",
       "0           3.03  \n",
       "1           0.90  \n",
       "2           1.71  \n",
       "3           1.64  \n",
       "4           1.49  "
      ]
     },
     "execution_count": 13,
     "metadata": {},
     "output_type": "execute_result"
    }
   ],
   "source": [
    "#hide\n",
    "df_table.head()"
   ]
  },
  {
   "cell_type": "code",
   "execution_count": 14,
   "metadata": {
    "execution": {
     "iopub.execute_input": "2020-09-04T12:52:09.554445Z",
     "iopub.status.busy": "2020-09-04T12:52:09.540791Z",
     "iopub.status.idle": "2020-09-04T12:52:09.557354Z",
     "shell.execute_reply": "2020-09-04T12:52:09.557823Z"
    },
    "papermill": {
     "duration": 0.038939,
     "end_time": "2020-09-04T12:52:09.557978",
     "exception": false,
     "start_time": "2020-09-04T12:52:09.519039",
     "status": "completed"
    },
    "tags": []
   },
   "outputs": [
    {
     "data": {
      "text/plain": [
       "{'updated': '2020-09-04',\n",
       " 'since': '2020-09-03',\n",
       " 'Cases': 3948247,\n",
       " 'PCases': 3933124,\n",
       " 'Deaths': 68682,\n",
       " 'PDeaths': 68569,\n",
       " 'Cases (+)': 15123,\n",
       " 'Deaths (+)': 113}"
      ]
     },
     "execution_count": 14,
     "metadata": {},
     "output_type": "execute_result"
    }
   ],
   "source": [
    "#hide\n",
    "summary = {'updated':dates[-1], 'since':dates[-2]}\n",
    "list_names = ['Cases', 'PCases', 'Deaths', 'PDeaths', 'Cases (+)', 'Deaths (+)']\n",
    "for name in list_names:\n",
    "    summary[name] = df_table.sum()[name]\n",
    "summary"
   ]
  },
  {
   "cell_type": "code",
   "execution_count": 15,
   "metadata": {
    "execution": {
     "iopub.execute_input": "2020-09-04T12:52:09.596967Z",
     "iopub.status.busy": "2020-09-04T12:52:09.595876Z",
     "iopub.status.idle": "2020-09-04T12:52:09.597665Z",
     "shell.execute_reply": "2020-09-04T12:52:09.598523Z"
    },
    "papermill": {
     "duration": 0.024132,
     "end_time": "2020-09-04T12:52:09.598683",
     "exception": false,
     "start_time": "2020-09-04T12:52:09.574551",
     "status": "completed"
    },
    "tags": []
   },
   "outputs": [],
   "source": [
    "#hide\n",
    "overview = '''\n",
    "<!-- #######  HTML!! #########-->\n",
    "<h1 style=\"color: #5e9ca0; text-align: center;\">India</h1>\n",
    "<p style=\"text-align: center;\">Last update: <strong>{update}</strong></p>\n",
    "<p style=\"text-align: center;\">Confirmed cases:</p>\n",
    "<p style=\"text-align: center;font-size:24px;\">{cases} (<span style=\"color: #ff0000;\">+{new}</span>)</p>\n",
    "<p style=\"text-align: center;\">Confirmed deaths:</p>\n",
    "<p style=\"text-align: center;font-size:24px;\">{deaths} (<span style=\"color: #ff0000;\">+{dnew}</span>)</p>\n",
    "'''"
   ]
  },
  {
   "cell_type": "code",
   "execution_count": 16,
   "metadata": {
    "execution": {
     "iopub.execute_input": "2020-09-04T12:52:09.648122Z",
     "iopub.status.busy": "2020-09-04T12:52:09.647160Z",
     "iopub.status.idle": "2020-09-04T12:52:09.649826Z",
     "shell.execute_reply": "2020-09-04T12:52:09.650293Z"
    },
    "papermill": {
     "duration": 0.031105,
     "end_time": "2020-09-04T12:52:09.650439",
     "exception": false,
     "start_time": "2020-09-04T12:52:09.619334",
     "status": "completed"
    },
    "tags": []
   },
   "outputs": [
    {
     "data": {
      "text/html": [
       "\n",
       "<!-- #######  HTML!! #########-->\n",
       "<h1 style=\"color: #5e9ca0; text-align: center;\">India</h1>\n",
       "<p style=\"text-align: center;\">Last update: <strong>2020-09-04</strong></p>\n",
       "<p style=\"text-align: center;\">Confirmed cases:</p>\n",
       "<p style=\"text-align: center;font-size:24px;\">3948247 (<span style=\"color: #ff0000;\">+15123</span>)</p>\n",
       "<p style=\"text-align: center;\">Confirmed deaths:</p>\n",
       "<p style=\"text-align: center;font-size:24px;\">68682 (<span style=\"color: #ff0000;\">+113</span>)</p>\n"
      ],
      "text/plain": [
       "<IPython.core.display.HTML object>"
      ]
     },
     "metadata": {},
     "output_type": "display_data"
    }
   ],
   "source": [
    "#hide_input\n",
    "update = summary['updated']\n",
    "cases = summary['Cases']\n",
    "new = summary['Cases (+)']\n",
    "deaths = summary['Deaths']\n",
    "dnew = summary['Deaths (+)']\n",
    "\n",
    "html = HTML(overview.format(update=update, cases=cases,new=new,deaths=deaths,dnew=dnew))\n",
    "\n",
    "display(html)"
   ]
  },
  {
   "cell_type": "code",
   "execution_count": 17,
   "metadata": {
    "execution": {
     "iopub.execute_input": "2020-09-04T12:52:09.694118Z",
     "iopub.status.busy": "2020-09-04T12:52:09.693515Z",
     "iopub.status.idle": "2020-09-04T12:52:09.698705Z",
     "shell.execute_reply": "2020-09-04T12:52:09.699248Z"
    },
    "papermill": {
     "duration": 0.031992,
     "end_time": "2020-09-04T12:52:09.699396",
     "exception": false,
     "start_time": "2020-09-04T12:52:09.667404",
     "status": "completed"
    },
    "tags": []
   },
   "outputs": [],
   "source": [
    "#hide\n",
    "dt_cols = list(dft_cases.columns[1:])\n",
    "dft_ct_new_cases = dft_cases.groupby('state')[dt_cols].sum().diff(axis=1).fillna(0).astype(int)\n",
    "dft_ct_new_cases.sort_values(by = dates[-1], ascending = False,inplace = True)"
   ]
  },
  {
   "cell_type": "code",
   "execution_count": 18,
   "metadata": {
    "execution": {
     "iopub.execute_input": "2020-09-04T12:52:09.753213Z",
     "iopub.status.busy": "2020-09-04T12:52:09.752582Z",
     "iopub.status.idle": "2020-09-04T12:52:09.755050Z",
     "shell.execute_reply": "2020-09-04T12:52:09.755516Z"
    },
    "papermill": {
     "duration": 0.038894,
     "end_time": "2020-09-04T12:52:09.755667",
     "exception": false,
     "start_time": "2020-09-04T12:52:09.716773",
     "status": "completed"
    },
    "tags": []
   },
   "outputs": [
    {
     "data": {
      "text/html": [
       "<div>\n",
       "<style scoped>\n",
       "    .dataframe tbody tr th:only-of-type {\n",
       "        vertical-align: middle;\n",
       "    }\n",
       "\n",
       "    .dataframe tbody tr th {\n",
       "        vertical-align: top;\n",
       "    }\n",
       "\n",
       "    .dataframe thead th {\n",
       "        text-align: right;\n",
       "    }\n",
       "</style>\n",
       "<table border=\"1\" class=\"dataframe\">\n",
       "  <thead>\n",
       "    <tr style=\"text-align: right;\">\n",
       "      <th>states</th>\n",
       "      <th>2020-07-01</th>\n",
       "      <th>2020-07-02</th>\n",
       "      <th>2020-07-03</th>\n",
       "      <th>2020-07-04</th>\n",
       "      <th>2020-07-05</th>\n",
       "      <th>2020-07-06</th>\n",
       "      <th>2020-07-07</th>\n",
       "      <th>2020-07-08</th>\n",
       "      <th>2020-07-09</th>\n",
       "      <th>2020-07-10</th>\n",
       "      <th>...</th>\n",
       "      <th>2020-08-26</th>\n",
       "      <th>2020-08-27</th>\n",
       "      <th>2020-08-28</th>\n",
       "      <th>2020-08-29</th>\n",
       "      <th>2020-08-30</th>\n",
       "      <th>2020-08-31</th>\n",
       "      <th>2020-09-01</th>\n",
       "      <th>2020-09-02</th>\n",
       "      <th>2020-09-03</th>\n",
       "      <th>2020-09-04</th>\n",
       "    </tr>\n",
       "    <tr>\n",
       "      <th>state</th>\n",
       "      <th></th>\n",
       "      <th></th>\n",
       "      <th></th>\n",
       "      <th></th>\n",
       "      <th></th>\n",
       "      <th></th>\n",
       "      <th></th>\n",
       "      <th></th>\n",
       "      <th></th>\n",
       "      <th></th>\n",
       "      <th></th>\n",
       "      <th></th>\n",
       "      <th></th>\n",
       "      <th></th>\n",
       "      <th></th>\n",
       "      <th></th>\n",
       "      <th></th>\n",
       "      <th></th>\n",
       "      <th></th>\n",
       "      <th></th>\n",
       "      <th></th>\n",
       "    </tr>\n",
       "  </thead>\n",
       "  <tbody>\n",
       "    <tr>\n",
       "      <th>Uttar Pradesh</th>\n",
       "      <td>0</td>\n",
       "      <td>769</td>\n",
       "      <td>972</td>\n",
       "      <td>757</td>\n",
       "      <td>1153</td>\n",
       "      <td>929</td>\n",
       "      <td>1332</td>\n",
       "      <td>1188</td>\n",
       "      <td>1206</td>\n",
       "      <td>1338</td>\n",
       "      <td>...</td>\n",
       "      <td>5640</td>\n",
       "      <td>5391</td>\n",
       "      <td>5405</td>\n",
       "      <td>5633</td>\n",
       "      <td>6175</td>\n",
       "      <td>4782</td>\n",
       "      <td>5343</td>\n",
       "      <td>5682</td>\n",
       "      <td>5662</td>\n",
       "      <td>6074</td>\n",
       "    </tr>\n",
       "    <tr>\n",
       "      <th>Odisha</th>\n",
       "      <td>0</td>\n",
       "      <td>229</td>\n",
       "      <td>561</td>\n",
       "      <td>495</td>\n",
       "      <td>469</td>\n",
       "      <td>456</td>\n",
       "      <td>571</td>\n",
       "      <td>527</td>\n",
       "      <td>577</td>\n",
       "      <td>755</td>\n",
       "      <td>...</td>\n",
       "      <td>3371</td>\n",
       "      <td>3384</td>\n",
       "      <td>3682</td>\n",
       "      <td>3252</td>\n",
       "      <td>3014</td>\n",
       "      <td>2602</td>\n",
       "      <td>3025</td>\n",
       "      <td>3219</td>\n",
       "      <td>3631</td>\n",
       "      <td>3267</td>\n",
       "    </tr>\n",
       "    <tr>\n",
       "      <th>Telangana</th>\n",
       "      <td>0</td>\n",
       "      <td>1213</td>\n",
       "      <td>1892</td>\n",
       "      <td>1850</td>\n",
       "      <td>1590</td>\n",
       "      <td>1831</td>\n",
       "      <td>1879</td>\n",
       "      <td>1924</td>\n",
       "      <td>1410</td>\n",
       "      <td>1278</td>\n",
       "      <td>...</td>\n",
       "      <td>3018</td>\n",
       "      <td>2795</td>\n",
       "      <td>2932</td>\n",
       "      <td>2751</td>\n",
       "      <td>2924</td>\n",
       "      <td>1873</td>\n",
       "      <td>2734</td>\n",
       "      <td>2892</td>\n",
       "      <td>2817</td>\n",
       "      <td>2478</td>\n",
       "    </tr>\n",
       "    <tr>\n",
       "      <th>Bihar</th>\n",
       "      <td>0</td>\n",
       "      <td>478</td>\n",
       "      <td>426</td>\n",
       "      <td>349</td>\n",
       "      <td>403</td>\n",
       "      <td>280</td>\n",
       "      <td>385</td>\n",
       "      <td>749</td>\n",
       "      <td>704</td>\n",
       "      <td>352</td>\n",
       "      <td>...</td>\n",
       "      <td>2163</td>\n",
       "      <td>1860</td>\n",
       "      <td>1998</td>\n",
       "      <td>2087</td>\n",
       "      <td>2078</td>\n",
       "      <td>1324</td>\n",
       "      <td>1928</td>\n",
       "      <td>1969</td>\n",
       "      <td>1922</td>\n",
       "      <td>1978</td>\n",
       "    </tr>\n",
       "    <tr>\n",
       "      <th>Rajasthan</th>\n",
       "      <td>0</td>\n",
       "      <td>350</td>\n",
       "      <td>390</td>\n",
       "      <td>480</td>\n",
       "      <td>632</td>\n",
       "      <td>524</td>\n",
       "      <td>716</td>\n",
       "      <td>659</td>\n",
       "      <td>500</td>\n",
       "      <td>611</td>\n",
       "      <td>...</td>\n",
       "      <td>1345</td>\n",
       "      <td>1345</td>\n",
       "      <td>1355</td>\n",
       "      <td>1407</td>\n",
       "      <td>1450</td>\n",
       "      <td>1466</td>\n",
       "      <td>1470</td>\n",
       "      <td>1511</td>\n",
       "      <td>1553</td>\n",
       "      <td>738</td>\n",
       "    </tr>\n",
       "  </tbody>\n",
       "</table>\n",
       "<p>5 rows × 66 columns</p>\n",
       "</div>"
      ],
      "text/plain": [
       "states         2020-07-01  2020-07-02  2020-07-03  2020-07-04  2020-07-05  \\\n",
       "state                                                                       \n",
       "Uttar Pradesh           0         769         972         757        1153   \n",
       "Odisha                  0         229         561         495         469   \n",
       "Telangana               0        1213        1892        1850        1590   \n",
       "Bihar                   0         478         426         349         403   \n",
       "Rajasthan               0         350         390         480         632   \n",
       "\n",
       "states         2020-07-06  2020-07-07  2020-07-08  2020-07-09  2020-07-10  \\\n",
       "state                                                                       \n",
       "Uttar Pradesh         929        1332        1188        1206        1338   \n",
       "Odisha                456         571         527         577         755   \n",
       "Telangana            1831        1879        1924        1410        1278   \n",
       "Bihar                 280         385         749         704         352   \n",
       "Rajasthan             524         716         659         500         611   \n",
       "\n",
       "states         ...  2020-08-26  2020-08-27  2020-08-28  2020-08-29  \\\n",
       "state          ...                                                   \n",
       "Uttar Pradesh  ...        5640        5391        5405        5633   \n",
       "Odisha         ...        3371        3384        3682        3252   \n",
       "Telangana      ...        3018        2795        2932        2751   \n",
       "Bihar          ...        2163        1860        1998        2087   \n",
       "Rajasthan      ...        1345        1345        1355        1407   \n",
       "\n",
       "states         2020-08-30  2020-08-31  2020-09-01  2020-09-02  2020-09-03  \\\n",
       "state                                                                       \n",
       "Uttar Pradesh        6175        4782        5343        5682        5662   \n",
       "Odisha               3014        2602        3025        3219        3631   \n",
       "Telangana            2924        1873        2734        2892        2817   \n",
       "Bihar                2078        1324        1928        1969        1922   \n",
       "Rajasthan            1450        1466        1470        1511        1553   \n",
       "\n",
       "states         2020-09-04  \n",
       "state                      \n",
       "Uttar Pradesh        6074  \n",
       "Odisha               3267  \n",
       "Telangana            2478  \n",
       "Bihar                1978  \n",
       "Rajasthan             738  \n",
       "\n",
       "[5 rows x 66 columns]"
      ]
     },
     "execution_count": 18,
     "metadata": {},
     "output_type": "execute_result"
    }
   ],
   "source": [
    "#hide\n",
    "dft_ct_new_cases.head()"
   ]
  },
  {
   "cell_type": "code",
   "execution_count": 19,
   "metadata": {
    "execution": {
     "iopub.execute_input": "2020-09-04T12:52:09.810353Z",
     "iopub.status.busy": "2020-09-04T12:52:09.805060Z",
     "iopub.status.idle": "2020-09-04T12:52:12.987349Z",
     "shell.execute_reply": "2020-09-04T12:52:12.986868Z"
    },
    "papermill": {
     "duration": 3.208908,
     "end_time": "2020-09-04T12:52:12.987495",
     "exception": false,
     "start_time": "2020-09-04T12:52:09.778587",
     "status": "completed"
    },
    "tags": []
   },
   "outputs": [
    {
     "data": {
      "image/png": "[encoded data removed]",
      "text/plain": [
       "<Figure size 1296x2016 with 11 Axes>"
      ]
     },
     "metadata": {
      "needs_background": "light"
     },
     "output_type": "display_data"
    }
   ],
   "source": [
    "#hide_input\n",
    "df = dft_ct_new_cases.copy()\n",
    "df.loc['Total'] = df.sum()\n",
    "n = 5\n",
    "ax = []\n",
    "fig = plt.figure(figsize = (18,28))\n",
    "gs = fig.add_gridspec(n+2, 5)\n",
    "# gs = fig.add_gridspec(2, 3)\n",
    "ax1 = fig.add_subplot(gs[0, :])\n",
    "ef = df.loc['Total'].rename_axis('date').reset_index()\n",
    "ef['date'] = ef['date'].astype('datetime64[ns]')\n",
    "ax1.bar(ef.date,ef.Total,alpha=0.3,color='#007acc')\n",
    "ax1.plot(ef.date,ef.Total , marker=\"o\", color='#007acc')\n",
    "ax1.xaxis.set_major_locator(mdates.WeekdayLocator())\n",
    "ax1.xaxis.set_major_formatter(mdates.DateFormatter('%b %d'))\n",
    "ax1.text(0.02, 0.5,'India daily case count', transform = ax1.transAxes, fontsize=25);\n",
    "ax1.spines['right'].set_visible(False)\n",
    "ax1.spines['top'].set_visible(False)\n",
    "\n",
    "ax2 = fig.add_subplot(gs[1,0])\n",
    "ef = df.loc['Maharashtra'].rename_axis('date').reset_index()\n",
    "ef['date'] = ef['date'].astype('datetime64[ns]')\n",
    "\n",
    "ax2.bar(ef.date, ef.Maharashtra,color = '#007acc',alpha=0.5)\n",
    "ax2.xaxis.set_major_locator(mdates.WeekdayLocator())\n",
    "ax2.xaxis.set_major_formatter(mdates.DateFormatter('%b %d'))\n",
    "ax2.set_xticks(ax2.get_xticks()[::3])\n",
    "maxyval = ef.Maharashtra.max()\n",
    "ax2.set_ylim([0,maxyval])\n",
    "ax2.text(0.05, 0.9,'Maharashtra', transform = ax2.transAxes, fontsize=20);\n",
    "ax2.spines['right'].set_visible(False)\n",
    "ax2.spines['top'].set_visible(False)\n",
    "\n",
    "\n",
    "ax3 = fig.add_subplot(gs[1,1])\n",
    "ef = df.loc['Tamil Nadu'].rename_axis('date').reset_index()\n",
    "ef['date'] = ef['date'].astype('datetime64[ns]')\n",
    "ax3.bar(ef.date, ef['Tamil Nadu'],color = '#007acc',alpha=0.5,)\n",
    "ax3.xaxis.set_major_locator(mdates.WeekdayLocator())\n",
    "ax3.xaxis.set_major_formatter(mdates.DateFormatter('%b %d'))\n",
    "ax3.set_xticks(ax3.get_xticks()[::3])\n",
    "ax3.text(0.05, 0.9,'Tamil Nadu', transform = ax3.transAxes, fontsize=20);\n",
    "ax3.spines['right'].set_visible(False)\n",
    "ax3.spines['top'].set_visible(False)\n",
    "\n",
    "ax5 = fig.add_subplot(gs[1,3])\n",
    "ef = df.loc['Telangana'].rename_axis('date').reset_index()\n",
    "ef['date'] = ef['date'].astype('datetime64[ns]')\n",
    "ax5.bar(ef.date, ef['Telangana'],color = '#007acc',alpha=0.5,)\n",
    "ax5.xaxis.set_major_locator(mdates.WeekdayLocator())\n",
    "ax5.xaxis.set_major_formatter(mdates.DateFormatter('%b %d'))\n",
    "ax5.set_xticks(ax5.get_xticks()[::3])\n",
    "ax5.text(0.05, 0.9,'Telangana', transform = ax5.transAxes, fontsize=20);\n",
    "ax5.spines['right'].set_visible(False)\n",
    "ax5.spines['top'].set_visible(False)\n",
    "\n",
    "ax6 = fig.add_subplot(gs[1,4])\n",
    "ef = df.loc['Andhra Pradesh'].rename_axis('date').reset_index()\n",
    "ef['date'] = ef['date'].astype('datetime64[ns]')\n",
    "ax6.bar(ef.date, ef['Andhra Pradesh'],color = '#007acc',alpha=0.5,)\n",
    "ax6.xaxis.set_major_locator(mdates.WeekdayLocator())\n",
    "ax6.xaxis.set_major_formatter(mdates.DateFormatter('%b %d'))\n",
    "ax6.set_xticks(ax6.get_xticks()[::3])\n",
    "ax6.text(0.05, 1,'Andhra Pradesh', transform = ax6.transAxes, fontsize=20);\n",
    "ax6.spines['right'].set_visible(False)\n",
    "ax6.spines['top'].set_visible(False)\n",
    "\n",
    "ax4 = fig.add_subplot(gs[1,2])\n",
    "ef = df.loc['Delhi'].rename_axis('date').reset_index()\n",
    "ef['date'] = ef['date'].astype('datetime64[ns]')\n",
    "ax4.bar(ef.date, ef.Delhi,color = '#007acc',alpha=0.5)\n",
    "ax4.set_xticks([])\n",
    "ax4.xaxis.set_major_locator(mdates.WeekdayLocator())\n",
    "ax4.xaxis.set_major_formatter(mdates.DateFormatter('%b %d'))\n",
    "ax4.set_xticks(ax4.get_xticks()[::3])\n",
    "ax4.spines['right'].set_visible(False)\n",
    "ax4.spines['top'].set_visible(False)\n",
    "\n",
    "ax4.text(0.05, 1,'Delhi', transform = ax4.transAxes, fontsize=20)\n",
    "\n",
    "for i in range(n):\n",
    "    \n",
    "    ax.append(fig.add_subplot(gs[i+2,:]))\n",
    "    ef = df.iloc[i+3].rename_axis('date').reset_index()\n",
    "    ef['date'] = ef['date'].astype('datetime64[ns]')\n",
    "    ax[i].bar(ef.date,ef.iloc[:,-1],color = '#007acc',alpha=0.3)\n",
    "    ax[i].plot(ef.date,ef.iloc[:,-1],marker='o',color='#007acc')\n",
    "    ax[i].text(0.02,0.5,f'{ef.columns.values[-1]}',transform = ax[i].transAxes, fontsize = 20);\n",
    "    ax[i].xaxis.set_major_locator(mdates.WeekdayLocator())\n",
    "    ax[i].xaxis.set_major_formatter(mdates.DateFormatter('%b %d'))\n",
    "    ax[i].set_ylim([0,7000])\n",
    "    ax[i].spines['right'].set_visible(False)\n",
    "    ax[i].spines['top'].set_visible(False)\n",
    "plt.tight_layout()\n"
   ]
  },
  {
   "cell_type": "code",
   "execution_count": 20,
   "metadata": {
    "execution": {
     "iopub.execute_input": "2020-09-04T12:52:13.045155Z",
     "iopub.status.busy": "2020-09-04T12:52:13.044408Z",
     "iopub.status.idle": "2020-09-04T12:52:13.046728Z",
     "shell.execute_reply": "2020-09-04T12:52:13.047191Z"
    },
    "papermill": {
     "duration": 0.035559,
     "end_time": "2020-09-04T12:52:13.047341",
     "exception": false,
     "start_time": "2020-09-04T12:52:13.011782",
     "status": "completed"
    },
    "tags": []
   },
   "outputs": [
    {
     "name": "stdout",
     "output_type": "stream",
     "text": [
      "                                   states   Cases  Deaths  PCases  PDeaths  Cases (+)  Deaths (+)  Fatality Rate\n",
      "                              Maharashtra  843844   25586  843844    25586          0           0           3.03\n",
      "                           Andhra Pradesh  465730    4200  465730     4200          0           0           0.90\n",
      "                               Tamil Nadu  445851    7608  445851     7608          0           0           1.71\n",
      "                                Karnataka  370206    6054  370206     6054          0           0           1.64\n",
      "                            Uttar Pradesh  253175    3762  247101     3691       6074          71           1.49\n",
      "                                    Delhi  182306    4500  182306     4500          0           0           2.47\n",
      "                              West Bengal  171681    3394  171681     3394          0           0           1.98\n",
      "                                    Bihar  144134     741  142156      728       1978          13           0.51\n",
      "                                Telangana  135884     866  133406      856       2478          10           0.64\n",
      "                                    Assam  118334     330  118334      330          0           0           0.28\n",
      "                                   Odisha  116678     584  113411      575       3267           9           0.50\n",
      "                                  Gujarat  100375    3062  100375     3062          0           0           3.05\n",
      "                                Rajasthan   86965    1102   86227     1095        738           7           1.27\n",
      "                                   Kerala   79626     316   79626      316          0           0           0.40\n",
      "                                  Haryana   70099     740   70099      740          0           0           1.06\n",
      "                           Madhya Pradesh   68586    1483   68586     1483          0           0           2.16\n",
      "                                   Punjab   58515    1690   58515     1690          0           0           2.89\n",
      "                                Jharkhand   46480     444   46480      444          0           0           0.96\n",
      "                        Jammu and Kashmir   39943     743   39943      743          0           0           1.86\n",
      "                             Chhattisgarh   37967     315   37967      315          0           0           0.83\n",
      "                              Uttarakhand   22180     300   22180      300          0           0           1.35\n",
      "                                      Goa   19355     212   19355      212          0           0           1.10\n",
      "                               Puducherry   15581     260   15581      260          0           0           1.67\n",
      "                                  Tripura   13833     129   13309      126        524           3           0.93\n",
      "                         Himachal Pradesh    6615      47    6615       47          0           0           0.71\n",
      "                                  Manipur    6609      32    6609       32          0           0           0.48\n",
      "                               Chandigarh    5065      63    5065       63          0           0           1.24\n",
      "                        Arunachal Pradesh    4574       8    4574        8          0           0           0.17\n",
      "                                 Nagaland    4107       8    4066        8         41           0           0.19\n",
      "              Andaman and Nicobar Islands    3223      48    3223       48          0           0           1.49\n",
      "                                   Ladakh    2840      35    2840       35          0           0           1.23\n",
      "                                Meghalaya    2626      13    2626       13          0           0           0.50\n",
      " Dadra and Nagar Haveli and Daman and Diu    2482       2    2459        2         23           0           0.08\n",
      "                                   Sikkim    1738       5    1738        5          0           0           0.29\n",
      "                                  Mizoram    1040       0    1040        0          0           0           0.00\n",
      "                              Lakshadweep       0       0       0        0          0           0            NaN\n"
     ]
    }
   ],
   "source": [
    "#hide_input\n",
    "print(df_table.to_string(index=False))"
   ]
  },
  {
   "cell_type": "code",
   "execution_count": null,
   "metadata": {
    "papermill": {
     "duration": 0.022979,
     "end_time": "2020-09-04T12:52:13.093728",
     "exception": false,
     "start_time": "2020-09-04T12:52:13.070749",
     "status": "completed"
    },
    "tags": []
   },
   "outputs": [],
   "source": []
  },
  {
   "cell_type": "code",
   "execution_count": null,
   "metadata": {
    "papermill": {
     "duration": 0.023201,
     "end_time": "2020-09-04T12:52:13.140192",
     "exception": false,
     "start_time": "2020-09-04T12:52:13.116991",
     "status": "completed"
    },
    "tags": []
   },
   "outputs": [],
   "source": []
  }
 ],
 "metadata": {
  "kernelspec": {
   "display_name": "Python 3",
   "language": "python",
   "name": "python3"
  },
  "language_info": {
   "codemirror_mode": {
    "name": "ipython",
    "version": 3
   },
   "file_extension": ".py",
   "mimetype": "text/x-python",
   "name": "python",
   "nbconvert_exporter": "python",
   "pygments_lexer": "ipython3",
   "version": "3.6.12"
  },
  "papermill": {
   "duration": 9.326212,
   "end_time": "2020-09-04T12:52:14.371097",
   "environment_variables": {},
   "exception": null,
   "input_path": "latest.ipynb",
   "output_path": "latest.ipynb",
   "parameters": {},
   "start_time": "2020-09-04T12:52:05.044885",
   "version": "2.1.2"
  }
 },
 "nbformat": 4,
 "nbformat_minor": 4
}