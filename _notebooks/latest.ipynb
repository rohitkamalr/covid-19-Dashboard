{
 "cells": [
  {
   "cell_type": "markdown",
   "metadata": {
    "papermill": {
     "duration": 0.021574,
     "end_time": "2020-09-08T11:42:15.114709",
     "exception": false,
     "start_time": "2020-09-08T11:42:15.093135",
     "status": "completed"
    },
    "tags": []
   },
   "source": [
    "# Latest COVID-19 India Matplotlib Overview"
   ]
  },
  {
   "cell_type": "code",
   "execution_count": 1,
   "metadata": {
    "execution": {
     "iopub.execute_input": "2020-09-08T11:42:15.571088Z",
     "iopub.status.busy": "2020-09-08T11:42:15.570452Z",
     "iopub.status.idle": "2020-09-08T11:42:16.155727Z",
     "shell.execute_reply": "2020-09-08T11:42:16.155181Z"
    },
    "papermill": {
     "duration": 0.609714,
     "end_time": "2020-09-08T11:42:16.155877",
     "exception": false,
     "start_time": "2020-09-08T11:42:15.546163",
     "status": "completed"
    },
    "tags": []
   },
   "outputs": [],
   "source": [
    "#hide\n",
    "import pandas as pd\n",
    "import numpy as np\n",
    "import requests\n",
    "import json\n",
    "import matplotlib.pyplot as plt\n",
    "import matplotlib.dates as mdates\n",
    "import matplotlib as mpl\n",
    "from IPython.core.display import display,HTML\n",
    "%matplotlib inline\n",
    "from datetime import date"
   ]
  },
  {
   "cell_type": "code",
   "execution_count": 2,
   "metadata": {
    "execution": {
     "iopub.execute_input": "2020-09-08T11:42:16.197462Z",
     "iopub.status.busy": "2020-09-08T11:42:16.196816Z",
     "iopub.status.idle": "2020-09-08T11:42:16.580195Z",
     "shell.execute_reply": "2020-09-08T11:42:16.580807Z"
    },
    "papermill": {
     "duration": 0.407934,
     "end_time": "2020-09-08T11:42:16.581305",
     "exception": false,
     "start_time": "2020-09-08T11:42:16.173371",
     "status": "completed"
    },
    "tags": []
   },
   "outputs": [],
   "source": [
    "#hide\n",
    "df  = pd.read_csv('https://api.covid19india.org/csv/latest/states.csv')\n",
    "df = df[['Date','State','Confirmed','Deceased']]\n",
    "df = df.rename(columns={'Confirmed':'Cases', \"Deceased\":'Deaths'})\n",
    "df_cases = df[[\"Date\",'State','Cases']]\n",
    "df_deaths = df[['Date','State','Deaths']]\n",
    "df_cases1 = df_cases.groupby('Date')\n",
    "df_deaths1= df_deaths.groupby('Date')"
   ]
  },
  {
   "cell_type": "code",
   "execution_count": 3,
   "metadata": {
    "execution": {
     "iopub.execute_input": "2020-09-08T11:42:16.618810Z",
     "iopub.status.busy": "2020-09-08T11:42:16.618138Z",
     "iopub.status.idle": "2020-09-08T11:42:16.637074Z",
     "shell.execute_reply": "2020-09-08T11:42:16.636435Z"
    },
    "papermill": {
     "duration": 0.039318,
     "end_time": "2020-09-08T11:42:16.637225",
     "exception": false,
     "start_time": "2020-09-08T11:42:16.597907",
     "status": "completed"
    },
    "tags": []
   },
   "outputs": [],
   "source": [
    "#hide\n",
    "df_snap = pd.read_csv('data/SnapshotCases-28-July.csv')\n",
    "arr_states = df_snap['states'].unique()\n",
    "arr_dates = df['Date'].unique()\n",
    "df_snap = df_snap.set_index('states')"
   ]
  },
  {
   "cell_type": "code",
   "execution_count": 4,
   "metadata": {
    "execution": {
     "iopub.execute_input": "2020-09-08T11:42:16.676867Z",
     "iopub.status.busy": "2020-09-08T11:42:16.676189Z",
     "iopub.status.idle": "2020-09-08T11:42:16.679095Z",
     "shell.execute_reply": "2020-09-08T11:42:16.679596Z"
    },
    "papermill": {
     "duration": 0.026277,
     "end_time": "2020-09-08T11:42:16.679764",
     "exception": false,
     "start_time": "2020-09-08T11:42:16.653487",
     "status": "completed"
    },
    "tags": []
   },
   "outputs": [
    {
     "data": {
      "text/plain": [
       "array(['Andaman and Nicobar Islands', 'Andhra Pradesh',\n",
       "       'Arunachal Pradesh', 'Assam', 'Bihar', 'Chandigarh',\n",
       "       'Dadra and Nagar Haveli and Daman and Diu', 'Delhi', 'Goa',\n",
       "       'Gujarat', 'Haryana', 'Himachal Pradesh', 'Jammu and Kashmir',\n",
       "       'Jharkhand', 'Karnataka', 'Kerala', 'Lakshadweep',\n",
       "       'Madhya Pradesh', 'Maharashtra', 'Manipur', 'Meghalaya', 'Mizoram',\n",
       "       'Nagaland', 'Odisha', 'Puducherry', 'Punjab', 'Rajasthan',\n",
       "       'Sikkim', 'Tamil Nadu', 'Telangana', 'Tripura', 'Uttar Pradesh',\n",
       "       'West Bengal', 'Chhattisgarh', 'Ladakh', 'Uttarakhand'],\n",
       "      dtype=object)"
      ]
     },
     "execution_count": 4,
     "metadata": {},
     "output_type": "execute_result"
    }
   ],
   "source": [
    "#hide\n",
    "arr_states[-9] = 'Puducherry'\n",
    "arr_states[-10] = 'Odisha'\n",
    "arr_states[6] = 'Dadra and Nagar Haveli and Daman and Diu'\n",
    "arr_states = np.append(arr_states,np.array(['Chhattisgarh','Ladakh','Uttarakhand']))\n",
    "arr_states"
   ]
  },
  {
   "cell_type": "code",
   "execution_count": 5,
   "metadata": {
    "execution": {
     "iopub.execute_input": "2020-09-08T11:42:16.724828Z",
     "iopub.status.busy": "2020-09-08T11:42:16.722197Z",
     "iopub.status.idle": "2020-09-08T11:42:16.733983Z",
     "shell.execute_reply": "2020-09-08T11:42:16.733183Z"
    },
    "papermill": {
     "duration": 0.037914,
     "end_time": "2020-09-08T11:42:16.734165",
     "exception": false,
     "start_time": "2020-09-08T11:42:16.696251",
     "status": "completed"
    },
    "tags": []
   },
   "outputs": [],
   "source": [
    "#hide\n",
    "dates = []\n",
    "for i in arr_dates:\n",
    "    if i>='2020-07-01':\n",
    "        dates.append(i)\n",
    "dict = {'states':dates}\n",
    "for i in arr_states:\n",
    "    dict[i] = [0]*len(dates)\n",
    "dft_cases = pd.DataFrame(dict)\n",
    "dft_deaths = pd.DataFrame(dict)\n"
   ]
  },
  {
   "cell_type": "code",
   "execution_count": 6,
   "metadata": {
    "execution": {
     "iopub.execute_input": "2020-09-08T11:42:16.774691Z",
     "iopub.status.busy": "2020-09-08T11:42:16.774087Z",
     "iopub.status.idle": "2020-09-08T11:42:17.991540Z",
     "shell.execute_reply": "2020-09-08T11:42:17.991023Z"
    },
    "papermill": {
     "duration": 1.240104,
     "end_time": "2020-09-08T11:42:17.991680",
     "exception": false,
     "start_time": "2020-09-08T11:42:16.751576",
     "status": "completed"
    },
    "tags": []
   },
   "outputs": [],
   "source": [
    "#hide\n",
    "for i in range(len(dates)):\n",
    "    df1_deaths = df_deaths1.get_group(dates[i])\n",
    "    for j in range(len(df1_deaths.index)):\n",
    "        if df1_deaths.iloc[j,1] in arr_states:\n",
    "            dft_deaths.loc[i,df1_deaths.iloc[j,1]] = df1_deaths.iloc[j,2]\n",
    "dft_deaths = dft_deaths.set_index('states')"
   ]
  },
  {
   "cell_type": "code",
   "execution_count": 7,
   "metadata": {
    "execution": {
     "iopub.execute_input": "2020-09-08T11:42:18.033866Z",
     "iopub.status.busy": "2020-09-08T11:42:18.033198Z",
     "iopub.status.idle": "2020-09-08T11:42:19.250105Z",
     "shell.execute_reply": "2020-09-08T11:42:19.250706Z"
    },
    "papermill": {
     "duration": 1.241329,
     "end_time": "2020-09-08T11:42:19.250948",
     "exception": false,
     "start_time": "2020-09-08T11:42:18.009619",
     "status": "completed"
    },
    "tags": []
   },
   "outputs": [],
   "source": [
    "#hide\n",
    "for i in range(len(dates)):\n",
    "    df1_cases = df_cases1.get_group(dates[i])\n",
    "    for j in range(len(df1_cases.index)):\n",
    "        if df1_cases.iloc[j,1] in arr_states:\n",
    "            dft_cases.loc[i,df1_cases.iloc[j,1]] = df1_cases.iloc[j,2]\n",
    "dft_cases = dft_cases.set_index('states')"
   ]
  },
  {
   "cell_type": "code",
   "execution_count": 8,
   "metadata": {
    "execution": {
     "iopub.execute_input": "2020-09-08T11:42:19.295376Z",
     "iopub.status.busy": "2020-09-08T11:42:19.294608Z",
     "iopub.status.idle": "2020-09-08T11:42:19.297301Z",
     "shell.execute_reply": "2020-09-08T11:42:19.297935Z"
    },
    "papermill": {
     "duration": 0.027068,
     "end_time": "2020-09-08T11:42:19.298088",
     "exception": false,
     "start_time": "2020-09-08T11:42:19.271020",
     "status": "completed"
    },
    "tags": []
   },
   "outputs": [],
   "source": [
    "#hide\n",
    "dft_cases = dft_cases.T\n",
    "dft_deaths = dft_deaths.T\n",
    "dt_today = dates[-1]\n",
    "dt_yday = dates[-2]"
   ]
  },
  {
   "cell_type": "code",
   "execution_count": 9,
   "metadata": {
    "execution": {
     "iopub.execute_input": "2020-09-08T11:42:19.338727Z",
     "iopub.status.busy": "2020-09-08T11:42:19.338150Z",
     "iopub.status.idle": "2020-09-08T11:42:19.340585Z",
     "shell.execute_reply": "2020-09-08T11:42:19.341033Z"
    },
    "papermill": {
     "duration": 0.026892,
     "end_time": "2020-09-08T11:42:19.341188",
     "exception": false,
     "start_time": "2020-09-08T11:42:19.314296",
     "status": "completed"
    },
    "tags": []
   },
   "outputs": [],
   "source": [
    "#hide\n",
    "dft_cases = dft_cases.reset_index()\n",
    "dft_deaths = dft_deaths.reset_index()\n",
    "dft_cases = dft_cases.rename(columns = {'index':'state'})\n",
    "dft_deaths = dft_deaths.rename(columns = {'index':'state'})"
   ]
  },
  {
   "cell_type": "code",
   "execution_count": 10,
   "metadata": {
    "execution": {
     "iopub.execute_input": "2020-09-08T11:42:19.388988Z",
     "iopub.status.busy": "2020-09-08T11:42:19.388362Z",
     "iopub.status.idle": "2020-09-08T11:42:19.390865Z",
     "shell.execute_reply": "2020-09-08T11:42:19.390198Z"
    },
    "papermill": {
     "duration": 0.032466,
     "end_time": "2020-09-08T11:42:19.390995",
     "exception": false,
     "start_time": "2020-09-08T11:42:19.358529",
     "status": "completed"
    },
    "tags": []
   },
   "outputs": [],
   "source": [
    "#hide\n",
    "dfc_cases = dft_cases.groupby('state')[dt_today].sum()\n",
    "dfc_deaths = dft_deaths.groupby('state')[dt_today].sum()\n",
    "dfp_cases = dft_cases.groupby('state')[dt_yday].sum()\n",
    "dfp_deaths = dft_deaths.groupby('state')[dt_yday].sum()"
   ]
  },
  {
   "cell_type": "code",
   "execution_count": 11,
   "metadata": {
    "execution": {
     "iopub.execute_input": "2020-09-08T11:42:19.441002Z",
     "iopub.status.busy": "2020-09-08T11:42:19.440400Z",
     "iopub.status.idle": "2020-09-08T11:42:19.448130Z",
     "shell.execute_reply": "2020-09-08T11:42:19.447602Z"
    },
    "papermill": {
     "duration": 0.040898,
     "end_time": "2020-09-08T11:42:19.448285",
     "exception": false,
     "start_time": "2020-09-08T11:42:19.407387",
     "status": "completed"
    },
    "tags": []
   },
   "outputs": [
    {
     "data": {
      "text/html": [
       "<div>\n",
       "<style scoped>\n",
       "    .dataframe tbody tr th:only-of-type {\n",
       "        vertical-align: middle;\n",
       "    }\n",
       "\n",
       "    .dataframe tbody tr th {\n",
       "        vertical-align: top;\n",
       "    }\n",
       "\n",
       "    .dataframe thead th {\n",
       "        text-align: right;\n",
       "    }\n",
       "</style>\n",
       "<table border=\"1\" class=\"dataframe\">\n",
       "  <thead>\n",
       "    <tr style=\"text-align: right;\">\n",
       "      <th></th>\n",
       "      <th>states</th>\n",
       "      <th>Cases</th>\n",
       "      <th>Deaths</th>\n",
       "      <th>PCases</th>\n",
       "      <th>PDeaths</th>\n",
       "    </tr>\n",
       "  </thead>\n",
       "  <tbody>\n",
       "    <tr>\n",
       "      <th>0</th>\n",
       "      <td>Maharashtra</td>\n",
       "      <td>923641</td>\n",
       "      <td>27027</td>\n",
       "      <td>923641</td>\n",
       "      <td>27027</td>\n",
       "    </tr>\n",
       "    <tr>\n",
       "      <th>1</th>\n",
       "      <td>Andhra Pradesh</td>\n",
       "      <td>506493</td>\n",
       "      <td>4487</td>\n",
       "      <td>506493</td>\n",
       "      <td>4487</td>\n",
       "    </tr>\n",
       "    <tr>\n",
       "      <th>2</th>\n",
       "      <td>Tamil Nadu</td>\n",
       "      <td>469256</td>\n",
       "      <td>7928</td>\n",
       "      <td>469256</td>\n",
       "      <td>7928</td>\n",
       "    </tr>\n",
       "    <tr>\n",
       "      <th>3</th>\n",
       "      <td>Karnataka</td>\n",
       "      <td>404324</td>\n",
       "      <td>6534</td>\n",
       "      <td>404324</td>\n",
       "      <td>6534</td>\n",
       "    </tr>\n",
       "    <tr>\n",
       "      <th>4</th>\n",
       "      <td>Uttar Pradesh</td>\n",
       "      <td>278473</td>\n",
       "      <td>4047</td>\n",
       "      <td>271851</td>\n",
       "      <td>3976</td>\n",
       "    </tr>\n",
       "  </tbody>\n",
       "</table>\n",
       "</div>"
      ],
      "text/plain": [
       "           states   Cases  Deaths  PCases  PDeaths\n",
       "0     Maharashtra  923641   27027  923641    27027\n",
       "1  Andhra Pradesh  506493    4487  506493     4487\n",
       "2      Tamil Nadu  469256    7928  469256     7928\n",
       "3       Karnataka  404324    6534  404324     6534\n",
       "4   Uttar Pradesh  278473    4047  271851     3976"
      ]
     },
     "execution_count": 11,
     "metadata": {},
     "output_type": "execute_result"
    }
   ],
   "source": [
    "#hide\n",
    "df_table = pd.DataFrame({'states': dfc_cases.index, 'Cases': dfc_cases.values, 'Deaths': dfc_deaths.values, 'PCases': dfp_cases.values, 'PDeaths': dfp_deaths.values}).set_index('states')\n",
    "df_table = df_table.sort_values(by = ['Cases','Deaths'], ascending = [False, False])\n",
    "df_table = df_table.reset_index()\n",
    "df_table.head()"
   ]
  },
  {
   "cell_type": "code",
   "execution_count": 12,
   "metadata": {
    "execution": {
     "iopub.execute_input": "2020-09-08T11:42:19.491975Z",
     "iopub.status.busy": "2020-09-08T11:42:19.491376Z",
     "iopub.status.idle": "2020-09-08T11:42:19.500603Z",
     "shell.execute_reply": "2020-09-08T11:42:19.501077Z"
    },
    "papermill": {
     "duration": 0.033395,
     "end_time": "2020-09-08T11:42:19.501223",
     "exception": false,
     "start_time": "2020-09-08T11:42:19.467828",
     "status": "completed"
    },
    "tags": []
   },
   "outputs": [],
   "source": [
    "#hide\n",
    "for c in 'Cases, Deaths'.split(', '):\n",
    "    df_table[f'{c} (+)'] = (df_table[c] - df_table[f'P{c}']).clip(0)\n",
    "df_table['Fatality Rate'] = (100* df_table['Deaths']/ df_table['Cases']).round(2)"
   ]
  },
  {
   "cell_type": "code",
   "execution_count": 13,
   "metadata": {
    "execution": {
     "iopub.execute_input": "2020-09-08T11:42:19.548103Z",
     "iopub.status.busy": "2020-09-08T11:42:19.547436Z",
     "iopub.status.idle": "2020-09-08T11:42:19.550548Z",
     "shell.execute_reply": "2020-09-08T11:42:19.551298Z"
    },
    "papermill": {
     "duration": 0.032241,
     "end_time": "2020-09-08T11:42:19.551466",
     "exception": false,
     "start_time": "2020-09-08T11:42:19.519225",
     "status": "completed"
    },
    "tags": []
   },
   "outputs": [
    {
     "data": {
      "text/html": [
       "<div>\n",
       "<style scoped>\n",
       "    .dataframe tbody tr th:only-of-type {\n",
       "        vertical-align: middle;\n",
       "    }\n",
       "\n",
       "    .dataframe tbody tr th {\n",
       "        vertical-align: top;\n",
       "    }\n",
       "\n",
       "    .dataframe thead th {\n",
       "        text-align: right;\n",
       "    }\n",
       "</style>\n",
       "<table border=\"1\" class=\"dataframe\">\n",
       "  <thead>\n",
       "    <tr style=\"text-align: right;\">\n",
       "      <th></th>\n",
       "      <th>states</th>\n",
       "      <th>Cases</th>\n",
       "      <th>Deaths</th>\n",
       "      <th>PCases</th>\n",
       "      <th>PDeaths</th>\n",
       "      <th>Cases (+)</th>\n",
       "      <th>Deaths (+)</th>\n",
       "      <th>Fatality Rate</th>\n",
       "    </tr>\n",
       "  </thead>\n",
       "  <tbody>\n",
       "    <tr>\n",
       "      <th>0</th>\n",
       "      <td>Maharashtra</td>\n",
       "      <td>923641</td>\n",
       "      <td>27027</td>\n",
       "      <td>923641</td>\n",
       "      <td>27027</td>\n",
       "      <td>0</td>\n",
       "      <td>0</td>\n",
       "      <td>2.93</td>\n",
       "    </tr>\n",
       "    <tr>\n",
       "      <th>1</th>\n",
       "      <td>Andhra Pradesh</td>\n",
       "      <td>506493</td>\n",
       "      <td>4487</td>\n",
       "      <td>506493</td>\n",
       "      <td>4487</td>\n",
       "      <td>0</td>\n",
       "      <td>0</td>\n",
       "      <td>0.89</td>\n",
       "    </tr>\n",
       "    <tr>\n",
       "      <th>2</th>\n",
       "      <td>Tamil Nadu</td>\n",
       "      <td>469256</td>\n",
       "      <td>7928</td>\n",
       "      <td>469256</td>\n",
       "      <td>7928</td>\n",
       "      <td>0</td>\n",
       "      <td>0</td>\n",
       "      <td>1.69</td>\n",
       "    </tr>\n",
       "    <tr>\n",
       "      <th>3</th>\n",
       "      <td>Karnataka</td>\n",
       "      <td>404324</td>\n",
       "      <td>6534</td>\n",
       "      <td>404324</td>\n",
       "      <td>6534</td>\n",
       "      <td>0</td>\n",
       "      <td>0</td>\n",
       "      <td>1.62</td>\n",
       "    </tr>\n",
       "    <tr>\n",
       "      <th>4</th>\n",
       "      <td>Uttar Pradesh</td>\n",
       "      <td>278473</td>\n",
       "      <td>4047</td>\n",
       "      <td>271851</td>\n",
       "      <td>3976</td>\n",
       "      <td>6622</td>\n",
       "      <td>71</td>\n",
       "      <td>1.45</td>\n",
       "    </tr>\n",
       "  </tbody>\n",
       "</table>\n",
       "</div>"
      ],
      "text/plain": [
       "           states   Cases  Deaths  PCases  PDeaths  Cases (+)  Deaths (+)  \\\n",
       "0     Maharashtra  923641   27027  923641    27027          0           0   \n",
       "1  Andhra Pradesh  506493    4487  506493     4487          0           0   \n",
       "2      Tamil Nadu  469256    7928  469256     7928          0           0   \n",
       "3       Karnataka  404324    6534  404324     6534          0           0   \n",
       "4   Uttar Pradesh  278473    4047  271851     3976       6622          71   \n",
       "\n",
       "   Fatality Rate  \n",
       "0           2.93  \n",
       "1           0.89  \n",
       "2           1.69  \n",
       "3           1.62  \n",
       "4           1.45  "
      ]
     },
     "execution_count": 13,
     "metadata": {},
     "output_type": "execute_result"
    }
   ],
   "source": [
    "#hide\n",
    "df_table.head()"
   ]
  },
  {
   "cell_type": "code",
   "execution_count": 14,
   "metadata": {
    "execution": {
     "iopub.execute_input": "2020-09-08T11:42:19.603234Z",
     "iopub.status.busy": "2020-09-08T11:42:19.602323Z",
     "iopub.status.idle": "2020-09-08T11:42:19.613584Z",
     "shell.execute_reply": "2020-09-08T11:42:19.613067Z"
    },
    "papermill": {
     "duration": 0.045328,
     "end_time": "2020-09-08T11:42:19.613729",
     "exception": false,
     "start_time": "2020-09-08T11:42:19.568401",
     "status": "completed"
    },
    "tags": []
   },
   "outputs": [
    {
     "data": {
      "text/plain": [
       "{'updated': '2020-09-08',\n",
       " 'since': '2020-09-07',\n",
       " 'Cases': 4290729,\n",
       " 'PCases': 4277584,\n",
       " 'Deaths': 72914,\n",
       " 'PDeaths': 72816,\n",
       " 'Cases (+)': 13145,\n",
       " 'Deaths (+)': 98}"
      ]
     },
     "execution_count": 14,
     "metadata": {},
     "output_type": "execute_result"
    }
   ],
   "source": [
    "#hide\n",
    "summary = {'updated':dates[-1], 'since':dates[-2]}\n",
    "list_names = ['Cases', 'PCases', 'Deaths', 'PDeaths', 'Cases (+)', 'Deaths (+)']\n",
    "for name in list_names:\n",
    "    summary[name] = df_table.sum()[name]\n",
    "summary"
   ]
  },
  {
   "cell_type": "code",
   "execution_count": 15,
   "metadata": {
    "execution": {
     "iopub.execute_input": "2020-09-08T11:42:19.656915Z",
     "iopub.status.busy": "2020-09-08T11:42:19.656164Z",
     "iopub.status.idle": "2020-09-08T11:42:19.659149Z",
     "shell.execute_reply": "2020-09-08T11:42:19.658572Z"
    },
    "papermill": {
     "duration": 0.02544,
     "end_time": "2020-09-08T11:42:19.659288",
     "exception": false,
     "start_time": "2020-09-08T11:42:19.633848",
     "status": "completed"
    },
    "tags": []
   },
   "outputs": [],
   "source": [
    "#hide\n",
    "overview = '''\n",
    "<!-- #######  HTML!! #########-->\n",
    "<h1 style=\"color: #5e9ca0; text-align: center;\">India</h1>\n",
    "<p style=\"text-align: center;\">Last update: <strong>{update}</strong></p>\n",
    "<p style=\"text-align: center;\">Confirmed cases:</p>\n",
    "<p style=\"text-align: center;font-size:24px;\">{cases} (<span style=\"color: #ff0000;\">+{new}</span>)</p>\n",
    "<p style=\"text-align: center;\">Confirmed deaths:</p>\n",
    "<p style=\"text-align: center;font-size:24px;\">{deaths} (<span style=\"color: #ff0000;\">+{dnew}</span>)</p>\n",
    "'''"
   ]
  },
  {
   "cell_type": "code",
   "execution_count": 16,
   "metadata": {
    "execution": {
     "iopub.execute_input": "2020-09-08T11:42:19.700837Z",
     "iopub.status.busy": "2020-09-08T11:42:19.700082Z",
     "iopub.status.idle": "2020-09-08T11:42:19.703483Z",
     "shell.execute_reply": "2020-09-08T11:42:19.702842Z"
    },
    "papermill": {
     "duration": 0.026604,
     "end_time": "2020-09-08T11:42:19.703604",
     "exception": false,
     "start_time": "2020-09-08T11:42:19.677000",
     "status": "completed"
    },
    "tags": []
   },
   "outputs": [
    {
     "data": {
      "text/html": [
       "\n",
       "<!-- #######  HTML!! #########-->\n",
       "<h1 style=\"color: #5e9ca0; text-align: center;\">India</h1>\n",
       "<p style=\"text-align: center;\">Last update: <strong>2020-09-08</strong></p>\n",
       "<p style=\"text-align: center;\">Confirmed cases:</p>\n",
       "<p style=\"text-align: center;font-size:24px;\">4290729 (<span style=\"color: #ff0000;\">+13145</span>)</p>\n",
       "<p style=\"text-align: center;\">Confirmed deaths:</p>\n",
       "<p style=\"text-align: center;font-size:24px;\">72914 (<span style=\"color: #ff0000;\">+98</span>)</p>\n"
      ],
      "text/plain": [
       "<IPython.core.display.HTML object>"
      ]
     },
     "metadata": {},
     "output_type": "display_data"
    }
   ],
   "source": [
    "#hide_input\n",
    "update = summary['updated']\n",
    "cases = summary['Cases']\n",
    "new = summary['Cases (+)']\n",
    "deaths = summary['Deaths']\n",
    "dnew = summary['Deaths (+)']\n",
    "\n",
    "html = HTML(overview.format(update=update, cases=cases,new=new,deaths=deaths,dnew=dnew))\n",
    "\n",
    "display(html)"
   ]
  },
  {
   "cell_type": "code",
   "execution_count": 17,
   "metadata": {
    "execution": {
     "iopub.execute_input": "2020-09-08T11:42:19.747642Z",
     "iopub.status.busy": "2020-09-08T11:42:19.747054Z",
     "iopub.status.idle": "2020-09-08T11:42:19.752720Z",
     "shell.execute_reply": "2020-09-08T11:42:19.752092Z"
    },
    "papermill": {
     "duration": 0.031075,
     "end_time": "2020-09-08T11:42:19.752841",
     "exception": false,
     "start_time": "2020-09-08T11:42:19.721766",
     "status": "completed"
    },
    "tags": []
   },
   "outputs": [],
   "source": [
    "#hide\n",
    "dt_cols = list(dft_cases.columns[1:])\n",
    "dft_ct_new_cases = dft_cases.groupby('state')[dt_cols].sum().diff(axis=1).fillna(0).astype(int)\n",
    "dft_ct_new_cases.sort_values(by = dates[-1], ascending = False,inplace = True)"
   ]
  },
  {
   "cell_type": "code",
   "execution_count": 18,
   "metadata": {
    "execution": {
     "iopub.execute_input": "2020-09-08T11:42:19.808899Z",
     "iopub.status.busy": "2020-09-08T11:42:19.808222Z",
     "iopub.status.idle": "2020-09-08T11:42:19.811841Z",
     "shell.execute_reply": "2020-09-08T11:42:19.811196Z"
    },
    "papermill": {
     "duration": 0.040321,
     "end_time": "2020-09-08T11:42:19.811973",
     "exception": false,
     "start_time": "2020-09-08T11:42:19.771652",
     "status": "completed"
    },
    "tags": []
   },
   "outputs": [
    {
     "data": {
      "text/html": [
       "<div>\n",
       "<style scoped>\n",
       "    .dataframe tbody tr th:only-of-type {\n",
       "        vertical-align: middle;\n",
       "    }\n",
       "\n",
       "    .dataframe tbody tr th {\n",
       "        vertical-align: top;\n",
       "    }\n",
       "\n",
       "    .dataframe thead th {\n",
       "        text-align: right;\n",
       "    }\n",
       "</style>\n",
       "<table border=\"1\" class=\"dataframe\">\n",
       "  <thead>\n",
       "    <tr style=\"text-align: right;\">\n",
       "      <th>states</th>\n",
       "      <th>2020-07-01</th>\n",
       "      <th>2020-07-02</th>\n",
       "      <th>2020-07-03</th>\n",
       "      <th>2020-07-04</th>\n",
       "      <th>2020-07-05</th>\n",
       "      <th>2020-07-06</th>\n",
       "      <th>2020-07-07</th>\n",
       "      <th>2020-07-08</th>\n",
       "      <th>2020-07-09</th>\n",
       "      <th>2020-07-10</th>\n",
       "      <th>...</th>\n",
       "      <th>2020-08-30</th>\n",
       "      <th>2020-08-31</th>\n",
       "      <th>2020-09-01</th>\n",
       "      <th>2020-09-02</th>\n",
       "      <th>2020-09-03</th>\n",
       "      <th>2020-09-04</th>\n",
       "      <th>2020-09-05</th>\n",
       "      <th>2020-09-06</th>\n",
       "      <th>2020-09-07</th>\n",
       "      <th>2020-09-08</th>\n",
       "    </tr>\n",
       "    <tr>\n",
       "      <th>state</th>\n",
       "      <th></th>\n",
       "      <th></th>\n",
       "      <th></th>\n",
       "      <th></th>\n",
       "      <th></th>\n",
       "      <th></th>\n",
       "      <th></th>\n",
       "      <th></th>\n",
       "      <th></th>\n",
       "      <th></th>\n",
       "      <th></th>\n",
       "      <th></th>\n",
       "      <th></th>\n",
       "      <th></th>\n",
       "      <th></th>\n",
       "      <th></th>\n",
       "      <th></th>\n",
       "      <th></th>\n",
       "      <th></th>\n",
       "      <th></th>\n",
       "      <th></th>\n",
       "    </tr>\n",
       "  </thead>\n",
       "  <tbody>\n",
       "    <tr>\n",
       "      <th>Uttar Pradesh</th>\n",
       "      <td>0</td>\n",
       "      <td>769</td>\n",
       "      <td>972</td>\n",
       "      <td>757</td>\n",
       "      <td>1153</td>\n",
       "      <td>929</td>\n",
       "      <td>1332</td>\n",
       "      <td>1188</td>\n",
       "      <td>1206</td>\n",
       "      <td>1338</td>\n",
       "      <td>...</td>\n",
       "      <td>6175</td>\n",
       "      <td>4782</td>\n",
       "      <td>5343</td>\n",
       "      <td>5682</td>\n",
       "      <td>5662</td>\n",
       "      <td>6074</td>\n",
       "      <td>6590</td>\n",
       "      <td>6518</td>\n",
       "      <td>5568</td>\n",
       "      <td>6622</td>\n",
       "    </tr>\n",
       "    <tr>\n",
       "      <th>Odisha</th>\n",
       "      <td>0</td>\n",
       "      <td>229</td>\n",
       "      <td>561</td>\n",
       "      <td>495</td>\n",
       "      <td>469</td>\n",
       "      <td>456</td>\n",
       "      <td>571</td>\n",
       "      <td>527</td>\n",
       "      <td>577</td>\n",
       "      <td>755</td>\n",
       "      <td>...</td>\n",
       "      <td>3014</td>\n",
       "      <td>2602</td>\n",
       "      <td>3025</td>\n",
       "      <td>3219</td>\n",
       "      <td>3631</td>\n",
       "      <td>3267</td>\n",
       "      <td>3543</td>\n",
       "      <td>3810</td>\n",
       "      <td>3861</td>\n",
       "      <td>3490</td>\n",
       "    </tr>\n",
       "    <tr>\n",
       "      <th>Telangana</th>\n",
       "      <td>0</td>\n",
       "      <td>1213</td>\n",
       "      <td>1892</td>\n",
       "      <td>1850</td>\n",
       "      <td>1590</td>\n",
       "      <td>1831</td>\n",
       "      <td>1879</td>\n",
       "      <td>1924</td>\n",
       "      <td>1410</td>\n",
       "      <td>1278</td>\n",
       "      <td>...</td>\n",
       "      <td>2924</td>\n",
       "      <td>1873</td>\n",
       "      <td>2734</td>\n",
       "      <td>2892</td>\n",
       "      <td>2817</td>\n",
       "      <td>2478</td>\n",
       "      <td>2511</td>\n",
       "      <td>2574</td>\n",
       "      <td>1802</td>\n",
       "      <td>2392</td>\n",
       "    </tr>\n",
       "    <tr>\n",
       "      <th>Tripura</th>\n",
       "      <td>0</td>\n",
       "      <td>39</td>\n",
       "      <td>93</td>\n",
       "      <td>25</td>\n",
       "      <td>23</td>\n",
       "      <td>111</td>\n",
       "      <td>24</td>\n",
       "      <td>57</td>\n",
       "      <td>16</td>\n",
       "      <td>142</td>\n",
       "      <td>...</td>\n",
       "      <td>447</td>\n",
       "      <td>321</td>\n",
       "      <td>509</td>\n",
       "      <td>566</td>\n",
       "      <td>590</td>\n",
       "      <td>524</td>\n",
       "      <td>691</td>\n",
       "      <td>603</td>\n",
       "      <td>399</td>\n",
       "      <td>628</td>\n",
       "    </tr>\n",
       "    <tr>\n",
       "      <th>Mizoram</th>\n",
       "      <td>0</td>\n",
       "      <td>2</td>\n",
       "      <td>0</td>\n",
       "      <td>2</td>\n",
       "      <td>22</td>\n",
       "      <td>11</td>\n",
       "      <td>1</td>\n",
       "      <td>5</td>\n",
       "      <td>0</td>\n",
       "      <td>23</td>\n",
       "      <td>...</td>\n",
       "      <td>5</td>\n",
       "      <td>3</td>\n",
       "      <td>1</td>\n",
       "      <td>8</td>\n",
       "      <td>20</td>\n",
       "      <td>6</td>\n",
       "      <td>16</td>\n",
       "      <td>31</td>\n",
       "      <td>21</td>\n",
       "      <td>9</td>\n",
       "    </tr>\n",
       "  </tbody>\n",
       "</table>\n",
       "<p>5 rows × 70 columns</p>\n",
       "</div>"
      ],
      "text/plain": [
       "states         2020-07-01  2020-07-02  2020-07-03  2020-07-04  2020-07-05  \\\n",
       "state                                                                       \n",
       "Uttar Pradesh           0         769         972         757        1153   \n",
       "Odisha                  0         229         561         495         469   \n",
       "Telangana               0        1213        1892        1850        1590   \n",
       "Tripura                 0          39          93          25          23   \n",
       "Mizoram                 0           2           0           2          22   \n",
       "\n",
       "states         2020-07-06  2020-07-07  2020-07-08  2020-07-09  2020-07-10  \\\n",
       "state                                                                       \n",
       "Uttar Pradesh         929        1332        1188        1206        1338   \n",
       "Odisha                456         571         527         577         755   \n",
       "Telangana            1831        1879        1924        1410        1278   \n",
       "Tripura               111          24          57          16         142   \n",
       "Mizoram                11           1           5           0          23   \n",
       "\n",
       "states         ...  2020-08-30  2020-08-31  2020-09-01  2020-09-02  \\\n",
       "state          ...                                                   \n",
       "Uttar Pradesh  ...        6175        4782        5343        5682   \n",
       "Odisha         ...        3014        2602        3025        3219   \n",
       "Telangana      ...        2924        1873        2734        2892   \n",
       "Tripura        ...         447         321         509         566   \n",
       "Mizoram        ...           5           3           1           8   \n",
       "\n",
       "states         2020-09-03  2020-09-04  2020-09-05  2020-09-06  2020-09-07  \\\n",
       "state                                                                       \n",
       "Uttar Pradesh        5662        6074        6590        6518        5568   \n",
       "Odisha               3631        3267        3543        3810        3861   \n",
       "Telangana            2817        2478        2511        2574        1802   \n",
       "Tripura               590         524         691         603         399   \n",
       "Mizoram                20           6          16          31          21   \n",
       "\n",
       "states         2020-09-08  \n",
       "state                      \n",
       "Uttar Pradesh        6622  \n",
       "Odisha               3490  \n",
       "Telangana            2392  \n",
       "Tripura               628  \n",
       "Mizoram                 9  \n",
       "\n",
       "[5 rows x 70 columns]"
      ]
     },
     "execution_count": 18,
     "metadata": {},
     "output_type": "execute_result"
    }
   ],
   "source": [
    "#hide\n",
    "dft_ct_new_cases.head()"
   ]
  },
  {
   "cell_type": "code",
   "execution_count": 19,
   "metadata": {
    "execution": {
     "iopub.execute_input": "2020-09-08T11:42:19.862578Z",
     "iopub.status.busy": "2020-09-08T11:42:19.857432Z",
     "iopub.status.idle": "2020-09-08T11:42:23.755991Z",
     "shell.execute_reply": "2020-09-08T11:42:23.756421Z"
    },
    "papermill": {
     "duration": 3.925596,
     "end_time": "2020-09-08T11:42:23.756569",
     "exception": false,
     "start_time": "2020-09-08T11:42:19.830973",
     "status": "completed"
    },
    "tags": []
   },
   "outputs": [
    {
     "data": {
      "image/png": "[encoded data removed]",
      "text/plain": [
       "<Figure size 1296x2016 with 11 Axes>"
      ]
     },
     "metadata": {
      "needs_background": "light"
     },
     "output_type": "display_data"
    }
   ],
   "source": [
    "#hide_input\n",
    "df = dft_ct_new_cases.copy()\n",
    "df.loc['Total'] = df.sum()\n",
    "n = 5\n",
    "ax = []\n",
    "fig = plt.figure(figsize = (18,28))\n",
    "gs = fig.add_gridspec(n+2, 5)\n",
    "# gs = fig.add_gridspec(2, 3)\n",
    "ax1 = fig.add_subplot(gs[0, :])\n",
    "ef = df.loc['Total'].rename_axis('date').reset_index()\n",
    "ef['date'] = ef['date'].astype('datetime64[ns]')\n",
    "ax1.bar(ef.date,ef.Total,alpha=0.3,color='#007acc')\n",
    "ax1.plot(ef.date,ef.Total , marker=\"o\", color='#007acc')\n",
    "ax1.xaxis.set_major_locator(mdates.WeekdayLocator())\n",
    "ax1.xaxis.set_major_formatter(mdates.DateFormatter('%b %d'))\n",
    "ax1.text(0.02, 0.5,'India daily case count', transform = ax1.transAxes, fontsize=25);\n",
    "ax1.spines['right'].set_visible(False)\n",
    "ax1.spines['top'].set_visible(False)\n",
    "\n",
    "ax2 = fig.add_subplot(gs[1,0])\n",
    "ef = df.loc['Maharashtra'].rename_axis('date').reset_index()\n",
    "ef['date'] = ef['date'].astype('datetime64[ns]')\n",
    "\n",
    "ax2.bar(ef.date, ef.Maharashtra,color = '#007acc',alpha=0.5)\n",
    "ax2.xaxis.set_major_locator(mdates.WeekdayLocator())\n",
    "ax2.xaxis.set_major_formatter(mdates.DateFormatter('%b %d'))\n",
    "ax2.set_xticks(ax2.get_xticks()[::3])\n",
    "maxyval = ef.Maharashtra.max()\n",
    "ax2.set_ylim([0,maxyval])\n",
    "ax2.text(0.05, 0.9,'Maharashtra', transform = ax2.transAxes, fontsize=20);\n",
    "ax2.spines['right'].set_visible(False)\n",
    "ax2.spines['top'].set_visible(False)\n",
    "\n",
    "\n",
    "ax3 = fig.add_subplot(gs[1,1])\n",
    "ef = df.loc['Tamil Nadu'].rename_axis('date').reset_index()\n",
    "ef['date'] = ef['date'].astype('datetime64[ns]')\n",
    "ax3.bar(ef.date, ef['Tamil Nadu'],color = '#007acc',alpha=0.5,)\n",
    "ax3.xaxis.set_major_locator(mdates.WeekdayLocator())\n",
    "ax3.xaxis.set_major_formatter(mdates.DateFormatter('%b %d'))\n",
    "ax3.set_xticks(ax3.get_xticks()[::3])\n",
    "ax3.text(0.05, 0.9,'Tamil Nadu', transform = ax3.transAxes, fontsize=20);\n",
    "ax3.spines['right'].set_visible(False)\n",
    "ax3.spines['top'].set_visible(False)\n",
    "\n",
    "ax5 = fig.add_subplot(gs[1,3])\n",
    "ef = df.loc['Telangana'].rename_axis('date').reset_index()\n",
    "ef['date'] = ef['date'].astype('datetime64[ns]')\n",
    "ax5.bar(ef.date, ef['Telangana'],color = '#007acc',alpha=0.5,)\n",
    "ax5.xaxis.set_major_locator(mdates.WeekdayLocator())\n",
    "ax5.xaxis.set_major_formatter(mdates.DateFormatter('%b %d'))\n",
    "ax5.set_xticks(ax5.get_xticks()[::3])\n",
    "ax5.text(0.05, 0.9,'Telangana', transform = ax5.transAxes, fontsize=20);\n",
    "ax5.spines['right'].set_visible(False)\n",
    "ax5.spines['top'].set_visible(False)\n",
    "\n",
    "ax6 = fig.add_subplot(gs[1,4])\n",
    "ef = df.loc['Andhra Pradesh'].rename_axis('date').reset_index()\n",
    "ef['date'] = ef['date'].astype('datetime64[ns]')\n",
    "ax6.bar(ef.date, ef['Andhra Pradesh'],color = '#007acc',alpha=0.5,)\n",
    "ax6.xaxis.set_major_locator(mdates.WeekdayLocator())\n",
    "ax6.xaxis.set_major_formatter(mdates.DateFormatter('%b %d'))\n",
    "ax6.set_xticks(ax6.get_xticks()[::3])\n",
    "ax6.text(0.05, 1,'Andhra Pradesh', transform = ax6.transAxes, fontsize=20);\n",
    "ax6.spines['right'].set_visible(False)\n",
    "ax6.spines['top'].set_visible(False)\n",
    "\n",
    "ax4 = fig.add_subplot(gs[1,2])\n",
    "ef = df.loc['Delhi'].rename_axis('date').reset_index()\n",
    "ef['date'] = ef['date'].astype('datetime64[ns]')\n",
    "ax4.bar(ef.date, ef.Delhi,color = '#007acc',alpha=0.5)\n",
    "ax4.set_xticks([])\n",
    "ax4.xaxis.set_major_locator(mdates.WeekdayLocator())\n",
    "ax4.xaxis.set_major_formatter(mdates.DateFormatter('%b %d'))\n",
    "ax4.set_xticks(ax4.get_xticks()[::3])\n",
    "ax4.spines['right'].set_visible(False)\n",
    "ax4.spines['top'].set_visible(False)\n",
    "\n",
    "ax4.text(0.05, 1,'Delhi', transform = ax4.transAxes, fontsize=20)\n",
    "\n",
    "for i in range(n):\n",
    "    \n",
    "    ax.append(fig.add_subplot(gs[i+2,:]))\n",
    "    ef = df.iloc[i+3].rename_axis('date').reset_index()\n",
    "    ef['date'] = ef['date'].astype('datetime64[ns]')\n",
    "    ax[i].bar(ef.date,ef.iloc[:,-1],color = '#007acc',alpha=0.3)\n",
    "    ax[i].plot(ef.date,ef.iloc[:,-1],marker='o',color='#007acc')\n",
    "    ax[i].text(0.02,0.5,f'{ef.columns.values[-1]}',transform = ax[i].transAxes, fontsize = 20);\n",
    "    ax[i].xaxis.set_major_locator(mdates.WeekdayLocator())\n",
    "    ax[i].xaxis.set_major_formatter(mdates.DateFormatter('%b %d'))\n",
    "    ax[i].set_ylim([0,7000])\n",
    "    ax[i].spines['right'].set_visible(False)\n",
    "    ax[i].spines['top'].set_visible(False)\n",
    "plt.tight_layout()\n"
   ]
  },
  {
   "cell_type": "code",
   "execution_count": 20,
   "metadata": {
    "execution": {
     "iopub.execute_input": "2020-09-08T11:42:23.813296Z",
     "iopub.status.busy": "2020-09-08T11:42:23.812460Z",
     "iopub.status.idle": "2020-09-08T11:42:23.814844Z",
     "shell.execute_reply": "2020-09-08T11:42:23.815565Z"
    },
    "papermill": {
     "duration": 0.034987,
     "end_time": "2020-09-08T11:42:23.815703",
     "exception": false,
     "start_time": "2020-09-08T11:42:23.780716",
     "status": "completed"
    },
    "tags": []
   },
   "outputs": [
    {
     "name": "stdout",
     "output_type": "stream",
     "text": [
      "                                   states   Cases  Deaths  PCases  PDeaths  Cases (+)  Deaths (+)  Fatality Rate\n",
      "                              Maharashtra  923641   27027  923641    27027          0           0           2.93\n",
      "                           Andhra Pradesh  506493    4487  506493     4487          0           0           0.89\n",
      "                               Tamil Nadu  469256    7928  469256     7928          0           0           1.69\n",
      "                                Karnataka  404324    6534  404324     6534          0           0           1.62\n",
      "                            Uttar Pradesh  278473    4047  271851     3976       6622          71           1.45\n",
      "                                    Delhi  193526    4599  193526     4599          0           0           2.38\n",
      "                              West Bengal  183865    3620  183865     3620          0           0           1.97\n",
      "                                    Bihar  149027     761  149027      761          0           0           0.51\n",
      "                                Telangana  145163     906  142771      895       2392          11           0.62\n",
      "                                   Odisha  131382     622  127892      609       3490          13           0.47\n",
      "                                    Assam  128245     370  128245      370          0           0           0.29\n",
      "                                  Gujarat  105671    3121  105671     3121          0           0           2.95\n",
      "                                Rajasthan   92536    1151   92536     1151          0           0           1.24\n",
      "                                   Kerala   89490     360   89490      360          0           0           0.40\n",
      "                                  Haryana   78773     829   78773      829          0           0           1.05\n",
      "                           Madhya Pradesh   75459    1589   75459     1589          0           0           2.11\n",
      "                                   Punjab   65583    1923   65583     1923          0           0           2.93\n",
      "                                Jharkhand   52620     482   52620      482          0           0           0.92\n",
      "                             Chhattisgarh   47280     395   47280      395          0           0           0.84\n",
      "                        Jammu and Kashmir   44570     801   44570      801          0           0           1.80\n",
      "                              Uttarakhand   25436     348   25436      348          0           0           1.37\n",
      "                                      Goa   21173     245   21173      245          0           0           1.16\n",
      "                               Puducherry   17316     325   17316      325          0           0           1.88\n",
      "                                  Tripura   16154     152   15526      149        628           3           0.94\n",
      "                         Himachal Pradesh    7660      55    7660       55          0           0           0.72\n",
      "                                  Manipur    7106      38    7106       38          0           0           0.53\n",
      "                               Chandigarh    5995      74    5995       74          0           0           1.23\n",
      "                        Arunachal Pradesh    5180       8    5180        8          0           0           0.15\n",
      "                                 Nagaland    4220       8    4220        8          0           0           0.19\n",
      "              Andaman and Nicobar Islands    3359      50    3359       50          0           0           1.49\n",
      "                                   Ladakh    3064      35    3064       35          0           0           1.14\n",
      "                                Meghalaya    3034      17    3034       17          0           0           0.56\n",
      " Dadra and Nagar Haveli and Daman and Diu    2593       2    2589        2          4           0           0.08\n",
      "                                   Sikkim    1939       5    1939        5          0           0           0.26\n",
      "                                  Mizoram    1123       0    1114        0          9           0           0.00\n",
      "                              Lakshadweep       0       0       0        0          0           0            NaN\n"
     ]
    }
   ],
   "source": [
    "#hide_input\n",
    "print(df_table.to_string(index=False))"
   ]
  },
  {
   "cell_type": "code",
   "execution_count": null,
   "metadata": {
    "papermill": {
     "duration": 0.02198,
     "end_time": "2020-09-08T11:42:23.860334",
     "exception": false,
     "start_time": "2020-09-08T11:42:23.838354",
     "status": "completed"
    },
    "tags": []
   },
   "outputs": [],
   "source": []
  },
  {
   "cell_type": "code",
   "execution_count": null,
   "metadata": {
    "papermill": {
     "duration": 0.021997,
     "end_time": "2020-09-08T11:42:23.904829",
     "exception": false,
     "start_time": "2020-09-08T11:42:23.882832",
     "status": "completed"
    },
    "tags": []
   },
   "outputs": [],
   "source": []
  }
 ],
 "metadata": {
  "kernelspec": {
   "display_name": "Python 3",
   "language": "python",
   "name": "python3"
  },
  "language_info": {
   "codemirror_mode": {
    "name": "ipython",
    "version": 3
   },
   "file_extension": ".py",
   "mimetype": "text/x-python",
   "name": "python",
   "nbconvert_exporter": "python",
   "pygments_lexer": "ipython3",
   "version": "3.6.12"
  },
  "papermill": {
   "duration": 10.324217,
   "end_time": "2020-09-08T11:42:24.336296",
   "environment_variables": {},
   "exception": null,
   "input_path": "latest.ipynb",
   "output_path": "latest.ipynb",
   "parameters": {},
   "start_time": "2020-09-08T11:42:14.012079",
   "version": "2.1.2"
  }
 },
 "nbformat": 4,
 "nbformat_minor": 4
}