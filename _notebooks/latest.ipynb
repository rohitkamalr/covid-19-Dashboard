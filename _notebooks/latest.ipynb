{
 "cells": [
  {
   "cell_type": "markdown",
   "metadata": {
    "papermill": {
     "duration": 0.016563,
     "end_time": "2020-08-15T03:51:24.126623",
     "exception": false,
     "start_time": "2020-08-15T03:51:24.110060",
     "status": "completed"
    },
    "tags": []
   },
   "source": [
    "# Latest COVID-19 India Matplotlib Overview"
   ]
  },
  {
   "cell_type": "code",
   "execution_count": 1,
   "metadata": {
    "execution": {
     "iopub.execute_input": "2020-08-15T03:51:24.160725Z",
     "iopub.status.busy": "2020-08-15T03:51:24.160200Z",
     "iopub.status.idle": "2020-08-15T03:51:24.688629Z",
     "shell.execute_reply": "2020-08-15T03:51:24.689374Z"
    },
    "papermill": {
     "duration": 0.549196,
     "end_time": "2020-08-15T03:51:24.689586",
     "exception": false,
     "start_time": "2020-08-15T03:51:24.140390",
     "status": "completed"
    },
    "tags": []
   },
   "outputs": [],
   "source": [
    "#hide\n",
    "import pandas as pd\n",
    "import numpy as np\n",
    "import requests\n",
    "import json\n",
    "import matplotlib.pyplot as plt\n",
    "import matplotlib.dates as mdates\n",
    "import matplotlib as mpl\n",
    "from IPython.core.display import display,HTML\n",
    "%matplotlib inline\n",
    "from datetime import date"
   ]
  },
  {
   "cell_type": "code",
   "execution_count": 2,
   "metadata": {
    "execution": {
     "iopub.execute_input": "2020-08-15T03:51:24.727924Z",
     "iopub.status.busy": "2020-08-15T03:51:24.727389Z",
     "iopub.status.idle": "2020-08-15T03:51:24.844848Z",
     "shell.execute_reply": "2020-08-15T03:51:24.844287Z"
    },
    "papermill": {
     "duration": 0.138162,
     "end_time": "2020-08-15T03:51:24.845103",
     "exception": false,
     "start_time": "2020-08-15T03:51:24.706941",
     "status": "completed"
    },
    "tags": []
   },
   "outputs": [],
   "source": [
    "#hide\n",
    "df  = pd.read_csv('https://api.covid19india.org/csv/latest/states.csv')\n",
    "df = df[['Date','State','Confirmed','Deceased']]\n",
    "df = df.rename(columns={'Confirmed':'Cases', \"Deceased\":'Deaths'})\n",
    "df_cases = df[[\"Date\",'State','Cases']]\n",
    "df_deaths = df[['Date','State','Deaths']]\n",
    "df_cases1 = df_cases.groupby('Date')\n",
    "df_deaths1= df_deaths.groupby('Date')"
   ]
  },
  {
   "cell_type": "code",
   "execution_count": 3,
   "metadata": {
    "execution": {
     "iopub.execute_input": "2020-08-15T03:51:24.880112Z",
     "iopub.status.busy": "2020-08-15T03:51:24.879576Z",
     "iopub.status.idle": "2020-08-15T03:51:24.895644Z",
     "shell.execute_reply": "2020-08-15T03:51:24.895218Z"
    },
    "papermill": {
     "duration": 0.03561,
     "end_time": "2020-08-15T03:51:24.895758",
     "exception": false,
     "start_time": "2020-08-15T03:51:24.860148",
     "status": "completed"
    },
    "tags": []
   },
   "outputs": [],
   "source": [
    "#hide\n",
    "df_snap = pd.read_csv('data/SnapshotCases-28-July.csv')\n",
    "arr_states = df_snap['states'].unique()\n",
    "arr_dates = df['Date'].unique()\n",
    "df_snap = df_snap.set_index('states')"
   ]
  },
  {
   "cell_type": "code",
   "execution_count": 4,
   "metadata": {
    "execution": {
     "iopub.execute_input": "2020-08-15T03:51:24.928327Z",
     "iopub.status.busy": "2020-08-15T03:51:24.927805Z",
     "iopub.status.idle": "2020-08-15T03:51:24.931789Z",
     "shell.execute_reply": "2020-08-15T03:51:24.931348Z"
    },
    "papermill": {
     "duration": 0.022941,
     "end_time": "2020-08-15T03:51:24.931901",
     "exception": false,
     "start_time": "2020-08-15T03:51:24.908960",
     "status": "completed"
    },
    "tags": []
   },
   "outputs": [
    {
     "data": {
      "text/plain": [
       "array(['Andaman and Nicobar Islands', 'Andhra Pradesh',\n",
       "       'Arunachal Pradesh', 'Assam', 'Bihar', 'Chandigarh',\n",
       "       'Dadra and Nagar Haveli and Daman and Diu', 'Delhi', 'Goa',\n",
       "       'Gujarat', 'Haryana', 'Himachal Pradesh', 'Jammu and Kashmir',\n",
       "       'Jharkhand', 'Karnataka', 'Kerala', 'Lakshadweep',\n",
       "       'Madhya Pradesh', 'Maharashtra', 'Manipur', 'Meghalaya', 'Mizoram',\n",
       "       'Nagaland', 'Odisha', 'Puducherry', 'Punjab', 'Rajasthan',\n",
       "       'Sikkim', 'Tamil Nadu', 'Telangana', 'Tripura', 'Uttar Pradesh',\n",
       "       'West Bengal', 'Chhattisgarh', 'Ladakh', 'Uttarakhand'],\n",
       "      dtype=object)"
      ]
     },
     "execution_count": 4,
     "metadata": {},
     "output_type": "execute_result"
    }
   ],
   "source": [
    "#hide\n",
    "arr_states[-9] = 'Puducherry'\n",
    "arr_states[-10] = 'Odisha'\n",
    "arr_states[6] = 'Dadra and Nagar Haveli and Daman and Diu'\n",
    "arr_states = np.append(arr_states,np.array(['Chhattisgarh','Ladakh','Uttarakhand']))\n",
    "arr_states"
   ]
  },
  {
   "cell_type": "code",
   "execution_count": 5,
   "metadata": {
    "execution": {
     "iopub.execute_input": "2020-08-15T03:51:24.967839Z",
     "iopub.status.busy": "2020-08-15T03:51:24.967092Z",
     "iopub.status.idle": "2020-08-15T03:51:24.974540Z",
     "shell.execute_reply": "2020-08-15T03:51:24.974100Z"
    },
    "papermill": {
     "duration": 0.02847,
     "end_time": "2020-08-15T03:51:24.974643",
     "exception": false,
     "start_time": "2020-08-15T03:51:24.946173",
     "status": "completed"
    },
    "tags": []
   },
   "outputs": [],
   "source": [
    "#hide\n",
    "dates = []\n",
    "for i in arr_dates:\n",
    "    if i>='2020-07-01':\n",
    "        dates.append(i)\n",
    "dict = {'states':dates}\n",
    "for i in arr_states:\n",
    "    dict[i] = [0]*len(dates)\n",
    "dft_cases = pd.DataFrame(dict)\n",
    "dft_deaths = pd.DataFrame(dict)\n"
   ]
  },
  {
   "cell_type": "code",
   "execution_count": 6,
   "metadata": {
    "execution": {
     "iopub.execute_input": "2020-08-15T03:51:25.017265Z",
     "iopub.status.busy": "2020-08-15T03:51:25.016736Z",
     "iopub.status.idle": "2020-08-15T03:51:25.713622Z",
     "shell.execute_reply": "2020-08-15T03:51:25.714324Z"
    },
    "papermill": {
     "duration": 0.716965,
     "end_time": "2020-08-15T03:51:25.714592",
     "exception": false,
     "start_time": "2020-08-15T03:51:24.997627",
     "status": "completed"
    },
    "tags": []
   },
   "outputs": [],
   "source": [
    "#hide\n",
    "for i in range(len(dates)):\n",
    "    df1_deaths = df_deaths1.get_group(dates[i])\n",
    "    for j in range(len(df1_deaths.index)):\n",
    "        if df1_deaths.iloc[j,1] in arr_states:\n",
    "            dft_deaths.loc[i,df1_deaths.iloc[j,1]] = df1_deaths.iloc[j,2]\n",
    "dft_deaths = dft_deaths.set_index('states')"
   ]
  },
  {
   "cell_type": "code",
   "execution_count": 7,
   "metadata": {
    "execution": {
     "iopub.execute_input": "2020-08-15T03:51:25.753039Z",
     "iopub.status.busy": "2020-08-15T03:51:25.752461Z",
     "iopub.status.idle": "2020-08-15T03:51:26.441158Z",
     "shell.execute_reply": "2020-08-15T03:51:26.440666Z"
    },
    "papermill": {
     "duration": 0.710726,
     "end_time": "2020-08-15T03:51:26.441321",
     "exception": false,
     "start_time": "2020-08-15T03:51:25.730595",
     "status": "completed"
    },
    "tags": []
   },
   "outputs": [],
   "source": [
    "#hide\n",
    "for i in range(len(dates)):\n",
    "    df1_cases = df_cases1.get_group(dates[i])\n",
    "    for j in range(len(df1_cases.index)):\n",
    "        if df1_cases.iloc[j,1] in arr_states:\n",
    "            dft_cases.loc[i,df1_cases.iloc[j,1]] = df1_cases.iloc[j,2]\n",
    "dft_cases = dft_cases.set_index('states')"
   ]
  },
  {
   "cell_type": "code",
   "execution_count": 8,
   "metadata": {
    "execution": {
     "iopub.execute_input": "2020-08-15T03:51:26.474430Z",
     "iopub.status.busy": "2020-08-15T03:51:26.473877Z",
     "iopub.status.idle": "2020-08-15T03:51:26.475920Z",
     "shell.execute_reply": "2020-08-15T03:51:26.476370Z"
    },
    "papermill": {
     "duration": 0.020727,
     "end_time": "2020-08-15T03:51:26.476488",
     "exception": false,
     "start_time": "2020-08-15T03:51:26.455761",
     "status": "completed"
    },
    "tags": []
   },
   "outputs": [],
   "source": [
    "#hide\n",
    "dft_cases = dft_cases.T\n",
    "dft_deaths = dft_deaths.T\n",
    "dt_today = dates[-1]\n",
    "dt_yday = dates[-2]"
   ]
  },
  {
   "cell_type": "code",
   "execution_count": 9,
   "metadata": {
    "execution": {
     "iopub.execute_input": "2020-08-15T03:51:26.512232Z",
     "iopub.status.busy": "2020-08-15T03:51:26.511715Z",
     "iopub.status.idle": "2020-08-15T03:51:26.514335Z",
     "shell.execute_reply": "2020-08-15T03:51:26.513800Z"
    },
    "papermill": {
     "duration": 0.023839,
     "end_time": "2020-08-15T03:51:26.514472",
     "exception": false,
     "start_time": "2020-08-15T03:51:26.490633",
     "status": "completed"
    },
    "tags": []
   },
   "outputs": [],
   "source": [
    "#hide\n",
    "dft_cases = dft_cases.reset_index()\n",
    "dft_deaths = dft_deaths.reset_index()\n",
    "dft_cases = dft_cases.rename(columns = {'index':'state'})\n",
    "dft_deaths = dft_deaths.rename(columns = {'index':'state'})"
   ]
  },
  {
   "cell_type": "code",
   "execution_count": 10,
   "metadata": {
    "execution": {
     "iopub.execute_input": "2020-08-15T03:51:26.553063Z",
     "iopub.status.busy": "2020-08-15T03:51:26.552280Z",
     "iopub.status.idle": "2020-08-15T03:51:26.554027Z",
     "shell.execute_reply": "2020-08-15T03:51:26.554449Z"
    },
    "papermill": {
     "duration": 0.026548,
     "end_time": "2020-08-15T03:51:26.554579",
     "exception": false,
     "start_time": "2020-08-15T03:51:26.528031",
     "status": "completed"
    },
    "tags": []
   },
   "outputs": [],
   "source": [
    "#hide\n",
    "dfc_cases = dft_cases.groupby('state')[dt_today].sum()\n",
    "dfc_deaths = dft_deaths.groupby('state')[dt_today].sum()\n",
    "dfp_cases = dft_cases.groupby('state')[dt_yday].sum()\n",
    "dfp_deaths = dft_deaths.groupby('state')[dt_yday].sum()"
   ]
  },
  {
   "cell_type": "code",
   "execution_count": 11,
   "metadata": {
    "execution": {
     "iopub.execute_input": "2020-08-15T03:51:26.595668Z",
     "iopub.status.busy": "2020-08-15T03:51:26.595121Z",
     "iopub.status.idle": "2020-08-15T03:51:26.601274Z",
     "shell.execute_reply": "2020-08-15T03:51:26.600741Z"
    },
    "papermill": {
     "duration": 0.033053,
     "end_time": "2020-08-15T03:51:26.601375",
     "exception": false,
     "start_time": "2020-08-15T03:51:26.568322",
     "status": "completed"
    },
    "tags": []
   },
   "outputs": [
    {
     "data": {
      "text/html": [
       "<div>\n",
       "<style scoped>\n",
       "    .dataframe tbody tr th:only-of-type {\n",
       "        vertical-align: middle;\n",
       "    }\n",
       "\n",
       "    .dataframe tbody tr th {\n",
       "        vertical-align: top;\n",
       "    }\n",
       "\n",
       "    .dataframe thead th {\n",
       "        text-align: right;\n",
       "    }\n",
       "</style>\n",
       "<table border=\"1\" class=\"dataframe\">\n",
       "  <thead>\n",
       "    <tr style=\"text-align: right;\">\n",
       "      <th></th>\n",
       "      <th>states</th>\n",
       "      <th>Cases</th>\n",
       "      <th>Deaths</th>\n",
       "      <th>PCases</th>\n",
       "      <th>PDeaths</th>\n",
       "    </tr>\n",
       "  </thead>\n",
       "  <tbody>\n",
       "    <tr>\n",
       "      <th>0</th>\n",
       "      <td>Maharashtra</td>\n",
       "      <td>572734</td>\n",
       "      <td>19427</td>\n",
       "      <td>572734</td>\n",
       "      <td>19427</td>\n",
       "    </tr>\n",
       "    <tr>\n",
       "      <th>1</th>\n",
       "      <td>Tamil Nadu</td>\n",
       "      <td>326245</td>\n",
       "      <td>5514</td>\n",
       "      <td>326245</td>\n",
       "      <td>5514</td>\n",
       "    </tr>\n",
       "    <tr>\n",
       "      <th>2</th>\n",
       "      <td>Andhra Pradesh</td>\n",
       "      <td>273085</td>\n",
       "      <td>2475</td>\n",
       "      <td>273085</td>\n",
       "      <td>2475</td>\n",
       "    </tr>\n",
       "    <tr>\n",
       "      <th>3</th>\n",
       "      <td>Karnataka</td>\n",
       "      <td>211108</td>\n",
       "      <td>3718</td>\n",
       "      <td>211108</td>\n",
       "      <td>3718</td>\n",
       "    </tr>\n",
       "    <tr>\n",
       "      <th>4</th>\n",
       "      <td>Delhi</td>\n",
       "      <td>150652</td>\n",
       "      <td>4178</td>\n",
       "      <td>150652</td>\n",
       "      <td>4178</td>\n",
       "    </tr>\n",
       "  </tbody>\n",
       "</table>\n",
       "</div>"
      ],
      "text/plain": [
       "           states   Cases  Deaths  PCases  PDeaths\n",
       "0     Maharashtra  572734   19427  572734    19427\n",
       "1      Tamil Nadu  326245    5514  326245     5514\n",
       "2  Andhra Pradesh  273085    2475  273085     2475\n",
       "3       Karnataka  211108    3718  211108     3718\n",
       "4           Delhi  150652    4178  150652     4178"
      ]
     },
     "execution_count": 11,
     "metadata": {},
     "output_type": "execute_result"
    }
   ],
   "source": [
    "#hide\n",
    "df_table = pd.DataFrame({'states': dfc_cases.index, 'Cases': dfc_cases.values, 'Deaths': dfc_deaths.values, 'PCases': dfp_cases.values, 'PDeaths': dfp_deaths.values}).set_index('states')\n",
    "df_table = df_table.sort_values(by = ['Cases','Deaths'], ascending = [False, False])\n",
    "df_table = df_table.reset_index()\n",
    "df_table.head()"
   ]
  },
  {
   "cell_type": "code",
   "execution_count": 12,
   "metadata": {
    "execution": {
     "iopub.execute_input": "2020-08-15T03:51:26.634075Z",
     "iopub.status.busy": "2020-08-15T03:51:26.633420Z",
     "iopub.status.idle": "2020-08-15T03:51:26.641318Z",
     "shell.execute_reply": "2020-08-15T03:51:26.640706Z"
    },
    "papermill": {
     "duration": 0.025791,
     "end_time": "2020-08-15T03:51:26.641430",
     "exception": false,
     "start_time": "2020-08-15T03:51:26.615639",
     "status": "completed"
    },
    "tags": []
   },
   "outputs": [],
   "source": [
    "#hide\n",
    "for c in 'Cases, Deaths'.split(', '):\n",
    "    df_table[f'{c} (+)'] = (df_table[c] - df_table[f'P{c}']).clip(0)\n",
    "df_table['Fatality Rate'] = (100* df_table['Deaths']/ df_table['Cases']).round(2)"
   ]
  },
  {
   "cell_type": "code",
   "execution_count": 13,
   "metadata": {
    "execution": {
     "iopub.execute_input": "2020-08-15T03:51:26.679529Z",
     "iopub.status.busy": "2020-08-15T03:51:26.678917Z",
     "iopub.status.idle": "2020-08-15T03:51:26.681704Z",
     "shell.execute_reply": "2020-08-15T03:51:26.681297Z"
    },
    "papermill": {
     "duration": 0.026058,
     "end_time": "2020-08-15T03:51:26.681808",
     "exception": false,
     "start_time": "2020-08-15T03:51:26.655750",
     "status": "completed"
    },
    "tags": []
   },
   "outputs": [
    {
     "data": {
      "text/html": [
       "<div>\n",
       "<style scoped>\n",
       "    .dataframe tbody tr th:only-of-type {\n",
       "        vertical-align: middle;\n",
       "    }\n",
       "\n",
       "    .dataframe tbody tr th {\n",
       "        vertical-align: top;\n",
       "    }\n",
       "\n",
       "    .dataframe thead th {\n",
       "        text-align: right;\n",
       "    }\n",
       "</style>\n",
       "<table border=\"1\" class=\"dataframe\">\n",
       "  <thead>\n",
       "    <tr style=\"text-align: right;\">\n",
       "      <th></th>\n",
       "      <th>states</th>\n",
       "      <th>Cases</th>\n",
       "      <th>Deaths</th>\n",
       "      <th>PCases</th>\n",
       "      <th>PDeaths</th>\n",
       "      <th>Cases (+)</th>\n",
       "      <th>Deaths (+)</th>\n",
       "      <th>Fatality Rate</th>\n",
       "    </tr>\n",
       "  </thead>\n",
       "  <tbody>\n",
       "    <tr>\n",
       "      <th>0</th>\n",
       "      <td>Maharashtra</td>\n",
       "      <td>572734</td>\n",
       "      <td>19427</td>\n",
       "      <td>572734</td>\n",
       "      <td>19427</td>\n",
       "      <td>0</td>\n",
       "      <td>0</td>\n",
       "      <td>3.39</td>\n",
       "    </tr>\n",
       "    <tr>\n",
       "      <th>1</th>\n",
       "      <td>Tamil Nadu</td>\n",
       "      <td>326245</td>\n",
       "      <td>5514</td>\n",
       "      <td>326245</td>\n",
       "      <td>5514</td>\n",
       "      <td>0</td>\n",
       "      <td>0</td>\n",
       "      <td>1.69</td>\n",
       "    </tr>\n",
       "    <tr>\n",
       "      <th>2</th>\n",
       "      <td>Andhra Pradesh</td>\n",
       "      <td>273085</td>\n",
       "      <td>2475</td>\n",
       "      <td>273085</td>\n",
       "      <td>2475</td>\n",
       "      <td>0</td>\n",
       "      <td>0</td>\n",
       "      <td>0.91</td>\n",
       "    </tr>\n",
       "    <tr>\n",
       "      <th>3</th>\n",
       "      <td>Karnataka</td>\n",
       "      <td>211108</td>\n",
       "      <td>3718</td>\n",
       "      <td>211108</td>\n",
       "      <td>3718</td>\n",
       "      <td>0</td>\n",
       "      <td>0</td>\n",
       "      <td>1.76</td>\n",
       "    </tr>\n",
       "    <tr>\n",
       "      <th>4</th>\n",
       "      <td>Delhi</td>\n",
       "      <td>150652</td>\n",
       "      <td>4178</td>\n",
       "      <td>150652</td>\n",
       "      <td>4178</td>\n",
       "      <td>0</td>\n",
       "      <td>0</td>\n",
       "      <td>2.77</td>\n",
       "    </tr>\n",
       "  </tbody>\n",
       "</table>\n",
       "</div>"
      ],
      "text/plain": [
       "           states   Cases  Deaths  PCases  PDeaths  Cases (+)  Deaths (+)  \\\n",
       "0     Maharashtra  572734   19427  572734    19427          0           0   \n",
       "1      Tamil Nadu  326245    5514  326245     5514          0           0   \n",
       "2  Andhra Pradesh  273085    2475  273085     2475          0           0   \n",
       "3       Karnataka  211108    3718  211108     3718          0           0   \n",
       "4           Delhi  150652    4178  150652     4178          0           0   \n",
       "\n",
       "   Fatality Rate  \n",
       "0           3.39  \n",
       "1           1.69  \n",
       "2           0.91  \n",
       "3           1.76  \n",
       "4           2.77  "
      ]
     },
     "execution_count": 13,
     "metadata": {},
     "output_type": "execute_result"
    }
   ],
   "source": [
    "#hide\n",
    "df_table.head()"
   ]
  },
  {
   "cell_type": "code",
   "execution_count": 14,
   "metadata": {
    "execution": {
     "iopub.execute_input": "2020-08-15T03:51:26.715570Z",
     "iopub.status.busy": "2020-08-15T03:51:26.714999Z",
     "iopub.status.idle": "2020-08-15T03:51:26.729890Z",
     "shell.execute_reply": "2020-08-15T03:51:26.729457Z"
    },
    "papermill": {
     "duration": 0.033834,
     "end_time": "2020-08-15T03:51:26.729990",
     "exception": false,
     "start_time": "2020-08-15T03:51:26.696156",
     "status": "completed"
    },
    "tags": []
   },
   "outputs": [
    {
     "data": {
      "text/plain": [
       "{'updated': '2020-08-15',\n",
       " 'since': '2020-08-14',\n",
       " 'Cases': 2527085,\n",
       " 'PCases': 2525222,\n",
       " 'Deaths': 49144,\n",
       " 'PDeaths': 49134,\n",
       " 'Cases (+)': 1863,\n",
       " 'Deaths (+)': 10}"
      ]
     },
     "execution_count": 14,
     "metadata": {},
     "output_type": "execute_result"
    }
   ],
   "source": [
    "#hide\n",
    "summary = {'updated':dates[-1], 'since':dates[-2]}\n",
    "list_names = ['Cases', 'PCases', 'Deaths', 'PDeaths', 'Cases (+)', 'Deaths (+)']\n",
    "for name in list_names:\n",
    "    summary[name] = df_table.sum()[name]\n",
    "summary"
   ]
  },
  {
   "cell_type": "code",
   "execution_count": 15,
   "metadata": {
    "execution": {
     "iopub.execute_input": "2020-08-15T03:51:26.768458Z",
     "iopub.status.busy": "2020-08-15T03:51:26.767709Z",
     "iopub.status.idle": "2020-08-15T03:51:26.770339Z",
     "shell.execute_reply": "2020-08-15T03:51:26.769789Z"
    },
    "papermill": {
     "duration": 0.021914,
     "end_time": "2020-08-15T03:51:26.770448",
     "exception": false,
     "start_time": "2020-08-15T03:51:26.748534",
     "status": "completed"
    },
    "tags": []
   },
   "outputs": [],
   "source": [
    "#hide\n",
    "overview = '''\n",
    "<!-- #######  HTML!! #########-->\n",
    "<h1 style=\"color: #5e9ca0; text-align: center;\">India</h1>\n",
    "<p style=\"text-align: center;\">Last update: <strong>{update}</strong></p>\n",
    "<p style=\"text-align: center;\">Confirmed cases:</p>\n",
    "<p style=\"text-align: center;font-size:24px;\">{cases} (<span style=\"color: #ff0000;\">+{new}</span>)</p>\n",
    "<p style=\"text-align: center;\">Confirmed deaths:</p>\n",
    "<p style=\"text-align: center;font-size:24px;\">{deaths} (<span style=\"color: #ff0000;\">+{dnew}</span>)</p>\n",
    "'''"
   ]
  },
  {
   "cell_type": "code",
   "execution_count": 16,
   "metadata": {
    "execution": {
     "iopub.execute_input": "2020-08-15T03:51:26.805546Z",
     "iopub.status.busy": "2020-08-15T03:51:26.804960Z",
     "iopub.status.idle": "2020-08-15T03:51:26.808061Z",
     "shell.execute_reply": "2020-08-15T03:51:26.807523Z"
    },
    "papermill": {
     "duration": 0.022811,
     "end_time": "2020-08-15T03:51:26.808187",
     "exception": false,
     "start_time": "2020-08-15T03:51:26.785376",
     "status": "completed"
    },
    "tags": []
   },
   "outputs": [
    {
     "data": {
      "text/html": [
       "\n",
       "<!-- #######  HTML!! #########-->\n",
       "<h1 style=\"color: #5e9ca0; text-align: center;\">India</h1>\n",
       "<p style=\"text-align: center;\">Last update: <strong>2020-08-15</strong></p>\n",
       "<p style=\"text-align: center;\">Confirmed cases:</p>\n",
       "<p style=\"text-align: center;font-size:24px;\">2527085 (<span style=\"color: #ff0000;\">+1863</span>)</p>\n",
       "<p style=\"text-align: center;\">Confirmed deaths:</p>\n",
       "<p style=\"text-align: center;font-size:24px;\">49144 (<span style=\"color: #ff0000;\">+10</span>)</p>\n"
      ],
      "text/plain": [
       "<IPython.core.display.HTML object>"
      ]
     },
     "metadata": {},
     "output_type": "display_data"
    }
   ],
   "source": [
    "#hide_input\n",
    "update = summary['updated']\n",
    "cases = summary['Cases']\n",
    "new = summary['Cases (+)']\n",
    "deaths = summary['Deaths']\n",
    "dnew = summary['Deaths (+)']\n",
    "\n",
    "html = HTML(overview.format(update=update, cases=cases,new=new,deaths=deaths,dnew=dnew))\n",
    "\n",
    "display(html)"
   ]
  },
  {
   "cell_type": "code",
   "execution_count": 17,
   "metadata": {
    "execution": {
     "iopub.execute_input": "2020-08-15T03:51:26.844659Z",
     "iopub.status.busy": "2020-08-15T03:51:26.844024Z",
     "iopub.status.idle": "2020-08-15T03:51:26.849318Z",
     "shell.execute_reply": "2020-08-15T03:51:26.849837Z"
    },
    "papermill": {
     "duration": 0.026506,
     "end_time": "2020-08-15T03:51:26.849952",
     "exception": false,
     "start_time": "2020-08-15T03:51:26.823446",
     "status": "completed"
    },
    "tags": []
   },
   "outputs": [],
   "source": [
    "#hide\n",
    "dt_cols = list(dft_cases.columns[1:])\n",
    "dft_ct_new_cases = dft_cases.groupby('state')[dt_cols].sum().diff(axis=1).fillna(0).astype(int)\n",
    "dft_ct_new_cases.sort_values(by = dates[-1], ascending = False,inplace = True)"
   ]
  },
  {
   "cell_type": "code",
   "execution_count": 18,
   "metadata": {
    "execution": {
     "iopub.execute_input": "2020-08-15T03:51:26.895011Z",
     "iopub.status.busy": "2020-08-15T03:51:26.894448Z",
     "iopub.status.idle": "2020-08-15T03:51:26.897552Z",
     "shell.execute_reply": "2020-08-15T03:51:26.897028Z"
    },
    "papermill": {
     "duration": 0.032969,
     "end_time": "2020-08-15T03:51:26.897666",
     "exception": false,
     "start_time": "2020-08-15T03:51:26.864697",
     "status": "completed"
    },
    "tags": []
   },
   "outputs": [
    {
     "data": {
      "text/html": [
       "<div>\n",
       "<style scoped>\n",
       "    .dataframe tbody tr th:only-of-type {\n",
       "        vertical-align: middle;\n",
       "    }\n",
       "\n",
       "    .dataframe tbody tr th {\n",
       "        vertical-align: top;\n",
       "    }\n",
       "\n",
       "    .dataframe thead th {\n",
       "        text-align: right;\n",
       "    }\n",
       "</style>\n",
       "<table border=\"1\" class=\"dataframe\">\n",
       "  <thead>\n",
       "    <tr style=\"text-align: right;\">\n",
       "      <th>states</th>\n",
       "      <th>2020-07-01</th>\n",
       "      <th>2020-07-02</th>\n",
       "      <th>2020-07-03</th>\n",
       "      <th>2020-07-04</th>\n",
       "      <th>2020-07-05</th>\n",
       "      <th>2020-07-06</th>\n",
       "      <th>2020-07-07</th>\n",
       "      <th>2020-07-08</th>\n",
       "      <th>2020-07-09</th>\n",
       "      <th>2020-07-10</th>\n",
       "      <th>...</th>\n",
       "      <th>2020-08-06</th>\n",
       "      <th>2020-08-07</th>\n",
       "      <th>2020-08-08</th>\n",
       "      <th>2020-08-09</th>\n",
       "      <th>2020-08-10</th>\n",
       "      <th>2020-08-11</th>\n",
       "      <th>2020-08-12</th>\n",
       "      <th>2020-08-13</th>\n",
       "      <th>2020-08-14</th>\n",
       "      <th>2020-08-15</th>\n",
       "    </tr>\n",
       "    <tr>\n",
       "      <th>state</th>\n",
       "      <th></th>\n",
       "      <th></th>\n",
       "      <th></th>\n",
       "      <th></th>\n",
       "      <th></th>\n",
       "      <th></th>\n",
       "      <th></th>\n",
       "      <th></th>\n",
       "      <th></th>\n",
       "      <th></th>\n",
       "      <th></th>\n",
       "      <th></th>\n",
       "      <th></th>\n",
       "      <th></th>\n",
       "      <th></th>\n",
       "      <th></th>\n",
       "      <th></th>\n",
       "      <th></th>\n",
       "      <th></th>\n",
       "      <th></th>\n",
       "      <th></th>\n",
       "    </tr>\n",
       "  </thead>\n",
       "  <tbody>\n",
       "    <tr>\n",
       "      <th>Telangana</th>\n",
       "      <td>0</td>\n",
       "      <td>1213</td>\n",
       "      <td>1892</td>\n",
       "      <td>1850</td>\n",
       "      <td>1590</td>\n",
       "      <td>1831</td>\n",
       "      <td>1879</td>\n",
       "      <td>1924</td>\n",
       "      <td>1410</td>\n",
       "      <td>1278</td>\n",
       "      <td>...</td>\n",
       "      <td>2092</td>\n",
       "      <td>2207</td>\n",
       "      <td>2256</td>\n",
       "      <td>1982</td>\n",
       "      <td>1256</td>\n",
       "      <td>1896</td>\n",
       "      <td>1897</td>\n",
       "      <td>1931</td>\n",
       "      <td>1921</td>\n",
       "      <td>1863</td>\n",
       "    </tr>\n",
       "    <tr>\n",
       "      <th>Andaman and Nicobar Islands</th>\n",
       "      <td>0</td>\n",
       "      <td>9</td>\n",
       "      <td>7</td>\n",
       "      <td>3</td>\n",
       "      <td>6</td>\n",
       "      <td>16</td>\n",
       "      <td>6</td>\n",
       "      <td>2</td>\n",
       "      <td>7</td>\n",
       "      <td>0</td>\n",
       "      <td>...</td>\n",
       "      <td>96</td>\n",
       "      <td>99</td>\n",
       "      <td>129</td>\n",
       "      <td>139</td>\n",
       "      <td>135</td>\n",
       "      <td>139</td>\n",
       "      <td>136</td>\n",
       "      <td>137</td>\n",
       "      <td>149</td>\n",
       "      <td>0</td>\n",
       "    </tr>\n",
       "    <tr>\n",
       "      <th>Puducherry</th>\n",
       "      <td>0</td>\n",
       "      <td>63</td>\n",
       "      <td>22</td>\n",
       "      <td>80</td>\n",
       "      <td>42</td>\n",
       "      <td>65</td>\n",
       "      <td>30</td>\n",
       "      <td>110</td>\n",
       "      <td>49</td>\n",
       "      <td>72</td>\n",
       "      <td>...</td>\n",
       "      <td>188</td>\n",
       "      <td>241</td>\n",
       "      <td>261</td>\n",
       "      <td>259</td>\n",
       "      <td>242</td>\n",
       "      <td>276</td>\n",
       "      <td>481</td>\n",
       "      <td>299</td>\n",
       "      <td>315</td>\n",
       "      <td>0</td>\n",
       "    </tr>\n",
       "    <tr>\n",
       "      <th>Maharashtra</th>\n",
       "      <td>0</td>\n",
       "      <td>6328</td>\n",
       "      <td>6364</td>\n",
       "      <td>7074</td>\n",
       "      <td>6555</td>\n",
       "      <td>5368</td>\n",
       "      <td>5134</td>\n",
       "      <td>6603</td>\n",
       "      <td>6875</td>\n",
       "      <td>7862</td>\n",
       "      <td>...</td>\n",
       "      <td>11514</td>\n",
       "      <td>10483</td>\n",
       "      <td>12822</td>\n",
       "      <td>12248</td>\n",
       "      <td>9181</td>\n",
       "      <td>11088</td>\n",
       "      <td>12712</td>\n",
       "      <td>11813</td>\n",
       "      <td>12608</td>\n",
       "      <td>0</td>\n",
       "    </tr>\n",
       "    <tr>\n",
       "      <th>Manipur</th>\n",
       "      <td>0</td>\n",
       "      <td>19</td>\n",
       "      <td>37</td>\n",
       "      <td>9</td>\n",
       "      <td>41</td>\n",
       "      <td>24</td>\n",
       "      <td>40</td>\n",
       "      <td>5</td>\n",
       "      <td>15</td>\n",
       "      <td>132</td>\n",
       "      <td>...</td>\n",
       "      <td>124</td>\n",
       "      <td>249</td>\n",
       "      <td>169</td>\n",
       "      <td>118</td>\n",
       "      <td>100</td>\n",
       "      <td>88</td>\n",
       "      <td>41</td>\n",
       "      <td>130</td>\n",
       "      <td>86</td>\n",
       "      <td>0</td>\n",
       "    </tr>\n",
       "  </tbody>\n",
       "</table>\n",
       "<p>5 rows × 46 columns</p>\n",
       "</div>"
      ],
      "text/plain": [
       "states                       2020-07-01  2020-07-02  2020-07-03  2020-07-04  \\\n",
       "state                                                                         \n",
       "Telangana                             0        1213        1892        1850   \n",
       "Andaman and Nicobar Islands           0           9           7           3   \n",
       "Puducherry                            0          63          22          80   \n",
       "Maharashtra                           0        6328        6364        7074   \n",
       "Manipur                               0          19          37           9   \n",
       "\n",
       "states                       2020-07-05  2020-07-06  2020-07-07  2020-07-08  \\\n",
       "state                                                                         \n",
       "Telangana                          1590        1831        1879        1924   \n",
       "Andaman and Nicobar Islands           6          16           6           2   \n",
       "Puducherry                           42          65          30         110   \n",
       "Maharashtra                        6555        5368        5134        6603   \n",
       "Manipur                              41          24          40           5   \n",
       "\n",
       "states                       2020-07-09  2020-07-10  ...  2020-08-06  \\\n",
       "state                                                ...               \n",
       "Telangana                          1410        1278  ...        2092   \n",
       "Andaman and Nicobar Islands           7           0  ...          96   \n",
       "Puducherry                           49          72  ...         188   \n",
       "Maharashtra                        6875        7862  ...       11514   \n",
       "Manipur                              15         132  ...         124   \n",
       "\n",
       "states                       2020-08-07  2020-08-08  2020-08-09  2020-08-10  \\\n",
       "state                                                                         \n",
       "Telangana                          2207        2256        1982        1256   \n",
       "Andaman and Nicobar Islands          99         129         139         135   \n",
       "Puducherry                          241         261         259         242   \n",
       "Maharashtra                       10483       12822       12248        9181   \n",
       "Manipur                             249         169         118         100   \n",
       "\n",
       "states                       2020-08-11  2020-08-12  2020-08-13  2020-08-14  \\\n",
       "state                                                                         \n",
       "Telangana                          1896        1897        1931        1921   \n",
       "Andaman and Nicobar Islands         139         136         137         149   \n",
       "Puducherry                          276         481         299         315   \n",
       "Maharashtra                       11088       12712       11813       12608   \n",
       "Manipur                              88          41         130          86   \n",
       "\n",
       "states                       2020-08-15  \n",
       "state                                    \n",
       "Telangana                          1863  \n",
       "Andaman and Nicobar Islands           0  \n",
       "Puducherry                            0  \n",
       "Maharashtra                           0  \n",
       "Manipur                               0  \n",
       "\n",
       "[5 rows x 46 columns]"
      ]
     },
     "execution_count": 18,
     "metadata": {},
     "output_type": "execute_result"
    }
   ],
   "source": [
    "#hide\n",
    "dft_ct_new_cases.head()"
   ]
  },
  {
   "cell_type": "code",
   "execution_count": 19,
   "metadata": {
    "execution": {
     "iopub.execute_input": "2020-08-15T03:51:26.956204Z",
     "iopub.status.busy": "2020-08-15T03:51:26.946023Z",
     "iopub.status.idle": "2020-08-15T03:51:29.665322Z",
     "shell.execute_reply": "2020-08-15T03:51:29.664795Z"
    },
    "papermill": {
     "duration": 2.751195,
     "end_time": "2020-08-15T03:51:29.665496",
     "exception": false,
     "start_time": "2020-08-15T03:51:26.914301",
     "status": "completed"
    },
    "tags": []
   },
   "outputs": [
    {
     "data": {
      "image/png": "[encoded data removed]",
      "text/plain": [
       "<Figure size 1296x2016 with 11 Axes>"
      ]
     },
     "metadata": {
      "needs_background": "light"
     },
     "output_type": "display_data"
    }
   ],
   "source": [
    "#hide_input\n",
    "df = dft_ct_new_cases.copy()\n",
    "df.loc['Total'] = df.sum()\n",
    "n = 5\n",
    "ax = []\n",
    "fig = plt.figure(figsize = (18,28))\n",
    "gs = fig.add_gridspec(n+2, 5)\n",
    "# gs = fig.add_gridspec(2, 3)\n",
    "ax1 = fig.add_subplot(gs[0, :])\n",
    "ef = df.loc['Total'].rename_axis('date').reset_index()\n",
    "ef['date'] = ef['date'].astype('datetime64[ns]')\n",
    "ax1.bar(ef.date,ef.Total,alpha=0.3,color='#007acc')\n",
    "ax1.plot(ef.date,ef.Total , marker=\"o\", color='#007acc')\n",
    "ax1.xaxis.set_major_locator(mdates.WeekdayLocator())\n",
    "ax1.xaxis.set_major_formatter(mdates.DateFormatter('%b %d'))\n",
    "ax1.text(0.02, 0.5,'India daily case count', transform = ax1.transAxes, fontsize=25);\n",
    "ax1.spines['right'].set_visible(False)\n",
    "ax1.spines['top'].set_visible(False)\n",
    "\n",
    "ax2 = fig.add_subplot(gs[1,0])\n",
    "ef = df.loc['Maharashtra'].rename_axis('date').reset_index()\n",
    "ef['date'] = ef['date'].astype('datetime64[ns]')\n",
    "\n",
    "ax2.bar(ef.date, ef.Maharashtra,color = '#007acc',alpha=0.5)\n",
    "ax2.xaxis.set_major_locator(mdates.WeekdayLocator())\n",
    "ax2.xaxis.set_major_formatter(mdates.DateFormatter('%b %d'))\n",
    "ax2.set_xticks(ax2.get_xticks()[::3])\n",
    "maxyval = ef.Maharashtra.max()\n",
    "ax2.set_ylim([0,maxyval])\n",
    "ax2.text(0.05, 0.9,'Maharashtra', transform = ax2.transAxes, fontsize=20);\n",
    "ax2.spines['right'].set_visible(False)\n",
    "ax2.spines['top'].set_visible(False)\n",
    "\n",
    "\n",
    "ax3 = fig.add_subplot(gs[1,1])\n",
    "ef = df.loc['Tamil Nadu'].rename_axis('date').reset_index()\n",
    "ef['date'] = ef['date'].astype('datetime64[ns]')\n",
    "ax3.bar(ef.date, ef['Tamil Nadu'],color = '#007acc',alpha=0.5,)\n",
    "ax3.xaxis.set_major_locator(mdates.WeekdayLocator())\n",
    "ax3.xaxis.set_major_formatter(mdates.DateFormatter('%b %d'))\n",
    "ax3.set_xticks(ax3.get_xticks()[::3])\n",
    "ax3.text(0.05, 0.9,'Tamil Nadu', transform = ax3.transAxes, fontsize=20);\n",
    "ax3.spines['right'].set_visible(False)\n",
    "ax3.spines['top'].set_visible(False)\n",
    "\n",
    "ax5 = fig.add_subplot(gs[1,3])\n",
    "ef = df.loc['Telangana'].rename_axis('date').reset_index()\n",
    "ef['date'] = ef['date'].astype('datetime64[ns]')\n",
    "ax5.bar(ef.date, ef['Telangana'],color = '#007acc',alpha=0.5,)\n",
    "ax5.xaxis.set_major_locator(mdates.WeekdayLocator())\n",
    "ax5.xaxis.set_major_formatter(mdates.DateFormatter('%b %d'))\n",
    "ax5.set_xticks(ax5.get_xticks()[::3])\n",
    "ax5.text(0.05, 0.9,'Telangana', transform = ax5.transAxes, fontsize=20);\n",
    "ax5.spines['right'].set_visible(False)\n",
    "ax5.spines['top'].set_visible(False)\n",
    "\n",
    "ax6 = fig.add_subplot(gs[1,4])\n",
    "ef = df.loc['Andhra Pradesh'].rename_axis('date').reset_index()\n",
    "ef['date'] = ef['date'].astype('datetime64[ns]')\n",
    "ax6.bar(ef.date, ef['Andhra Pradesh'],color = '#007acc',alpha=0.5,)\n",
    "ax6.xaxis.set_major_locator(mdates.WeekdayLocator())\n",
    "ax6.xaxis.set_major_formatter(mdates.DateFormatter('%b %d'))\n",
    "ax6.set_xticks(ax6.get_xticks()[::3])\n",
    "ax6.text(0.05, 1,'Andhra Pradesh', transform = ax6.transAxes, fontsize=20);\n",
    "ax6.spines['right'].set_visible(False)\n",
    "ax6.spines['top'].set_visible(False)\n",
    "\n",
    "ax4 = fig.add_subplot(gs[1,2])\n",
    "ef = df.loc['Delhi'].rename_axis('date').reset_index()\n",
    "ef['date'] = ef['date'].astype('datetime64[ns]')\n",
    "ax4.bar(ef.date, ef.Delhi,color = '#007acc',alpha=0.5)\n",
    "ax4.set_xticks([])\n",
    "ax4.xaxis.set_major_locator(mdates.WeekdayLocator())\n",
    "ax4.xaxis.set_major_formatter(mdates.DateFormatter('%b %d'))\n",
    "ax4.set_xticks(ax4.get_xticks()[::3])\n",
    "ax4.spines['right'].set_visible(False)\n",
    "ax4.spines['top'].set_visible(False)\n",
    "\n",
    "ax4.text(0.05, 1,'Delhi', transform = ax4.transAxes, fontsize=20)\n",
    "\n",
    "for i in range(n):\n",
    "    \n",
    "    ax.append(fig.add_subplot(gs[i+2,:]))\n",
    "    ef = df.iloc[i+3].rename_axis('date').reset_index()\n",
    "    ef['date'] = ef['date'].astype('datetime64[ns]')\n",
    "    ax[i].bar(ef.date,ef.iloc[:,-1],color = '#007acc',alpha=0.3)\n",
    "    ax[i].plot(ef.date,ef.iloc[:,-1],marker='o',color='#007acc')\n",
    "    ax[i].text(0.02,0.5,f'{ef.columns.values[-1]}',transform = ax[i].transAxes, fontsize = 20);\n",
    "    ax[i].xaxis.set_major_locator(mdates.WeekdayLocator())\n",
    "    ax[i].xaxis.set_major_formatter(mdates.DateFormatter('%b %d'))\n",
    "    ax[i].set_ylim([0,7000])\n",
    "    ax[i].spines['right'].set_visible(False)\n",
    "    ax[i].spines['top'].set_visible(False)\n",
    "plt.tight_layout()\n"
   ]
  },
  {
   "cell_type": "code",
   "execution_count": 20,
   "metadata": {
    "execution": {
     "iopub.execute_input": "2020-08-15T03:51:29.714657Z",
     "iopub.status.busy": "2020-08-15T03:51:29.713220Z",
     "iopub.status.idle": "2020-08-15T03:51:29.716526Z",
     "shell.execute_reply": "2020-08-15T03:51:29.716094Z"
    },
    "papermill": {
     "duration": 0.032016,
     "end_time": "2020-08-15T03:51:29.716654",
     "exception": false,
     "start_time": "2020-08-15T03:51:29.684638",
     "status": "completed"
    },
    "tags": []
   },
   "outputs": [
    {
     "name": "stdout",
     "output_type": "stream",
     "text": [
      "                                   states   Cases  Deaths  PCases  PDeaths  Cases (+)  Deaths (+)  Fatality Rate\n",
      "                              Maharashtra  572734   19427  572734    19427          0           0           3.39\n",
      "                               Tamil Nadu  326245    5514  326245     5514          0           0           1.69\n",
      "                           Andhra Pradesh  273085    2475  273085     2475          0           0           0.91\n",
      "                                Karnataka  211108    3718  211108     3718          0           0           1.76\n",
      "                                    Delhi  150652    4178  150652     4178          0           0           2.77\n",
      "                            Uttar Pradesh  145287    2335  145287     2335          0           0           1.61\n",
      "                              West Bengal  110358    2319  110358     2319          0           0           2.10\n",
      "                                    Bihar   98370     500   98370      500          0           0           0.51\n",
      "                                Telangana   90259     684   88396      674       1863          10           0.76\n",
      "                                  Gujarat   76569    2746   76569     2746          0           0           3.59\n",
      "                                    Assam   74502     175   74502      175          0           0           0.23\n",
      "                                Rajasthan   58692     846   58692      846          0           0           1.44\n",
      "                                   Odisha   54630     377   54630      377          0           0           0.69\n",
      "                                  Haryana   45614     518   45614      518          0           0           1.14\n",
      "                           Madhya Pradesh   43414    1081   43414     1081          0           0           2.49\n",
      "                                   Kerala   41277     140   41277      140          0           0           0.34\n",
      "                                   Punjab   29013     731   29013      731          0           0           2.52\n",
      "                        Jammu and Kashmir   27489     520   27489      520          0           0           1.89\n",
      "                                Jharkhand   22125     224   22125      224          0           0           1.01\n",
      "                             Chhattisgarh   14559     130   14559      130          0           0           0.89\n",
      "                              Uttarakhand   11615     147   11615      147          0           0           1.27\n",
      "                                      Goa   10970      93   10970       93          0           0           0.85\n",
      "                               Puducherry    6995     106    6995      106          0           0           1.52\n",
      "                                  Tripura    6782      46    6782       46          0           0           0.68\n",
      "                                  Manipur    4198      13    4198       13          0           0           0.31\n",
      "                         Himachal Pradesh    3874      18    3874       18          0           0           0.46\n",
      "                                 Nagaland    3322       7    3322        7          0           0           0.21\n",
      "                        Arunachal Pradesh    2607       5    2607        5          0           0           0.19\n",
      "              Andaman and Nicobar Islands    2186      24    2186       24          0           0           1.10\n",
      "                               Chandigarh    1928      29    1928       29          0           0           1.50\n",
      "                                   Ladakh    1879       9    1879        9          0           0           0.48\n",
      " Dadra and Nagar Haveli and Daman and Diu    1782       2    1782        2          0           0           0.11\n",
      "                                Meghalaya    1228       6    1228        6          0           0           0.49\n",
      "                                   Sikkim    1080       1    1080        1          0           0           0.09\n",
      "                                  Mizoram     657       0     657        0          0           0           0.00\n",
      "                              Lakshadweep       0       0       0        0          0           0            NaN\n"
     ]
    }
   ],
   "source": [
    "#hide_input\n",
    "print(df_table.to_string(index=False))"
   ]
  },
  {
   "cell_type": "code",
   "execution_count": null,
   "metadata": {
    "papermill": {
     "duration": 0.020335,
     "end_time": "2020-08-15T03:51:29.756504",
     "exception": false,
     "start_time": "2020-08-15T03:51:29.736169",
     "status": "completed"
    },
    "tags": []
   },
   "outputs": [],
   "source": []
  },
  {
   "cell_type": "code",
   "execution_count": null,
   "metadata": {
    "papermill": {
     "duration": 0.022636,
     "end_time": "2020-08-15T03:51:29.798011",
     "exception": false,
     "start_time": "2020-08-15T03:51:29.775375",
     "status": "completed"
    },
    "tags": []
   },
   "outputs": [],
   "source": []
  }
 ],
 "metadata": {
  "kernelspec": {
   "display_name": "Python 3",
   "language": "python",
   "name": "python3"
  },
  "language_info": {
   "codemirror_mode": {
    "name": "ipython",
    "version": 3
   },
   "file_extension": ".py",
   "mimetype": "text/x-python",
   "name": "python",
   "nbconvert_exporter": "python",
   "pygments_lexer": "ipython3",
   "version": "3.6.11"
  },
  "papermill": {
   "duration": 7.080934,
   "end_time": "2020-08-15T03:51:30.125506",
   "environment_variables": {},
   "exception": null,
   "input_path": "latest.ipynb",
   "output_path": "latest.ipynb",
   "parameters": {},
   "start_time": "2020-08-15T03:51:23.044572",
   "version": "2.1.2"
  }
 },
 "nbformat": 4,
 "nbformat_minor": 4
}