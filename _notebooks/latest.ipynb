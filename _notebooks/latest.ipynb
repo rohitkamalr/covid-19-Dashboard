{
 "cells": [
  {
   "cell_type": "markdown",
   "metadata": {
    "papermill": {
     "duration": 0.018623,
     "end_time": "2020-08-23T12:37:03.037652",
     "exception": false,
     "start_time": "2020-08-23T12:37:03.019029",
     "status": "completed"
    },
    "tags": []
   },
   "source": [
    "# Latest COVID-19 India Matplotlib Overview"
   ]
  },
  {
   "cell_type": "code",
   "execution_count": 1,
   "metadata": {
    "execution": {
     "iopub.execute_input": "2020-08-23T12:37:03.071841Z",
     "iopub.status.busy": "2020-08-23T12:37:03.071273Z",
     "iopub.status.idle": "2020-08-23T12:37:03.656468Z",
     "shell.execute_reply": "2020-08-23T12:37:03.655729Z"
    },
    "papermill": {
     "duration": 0.604113,
     "end_time": "2020-08-23T12:37:03.656669",
     "exception": false,
     "start_time": "2020-08-23T12:37:03.052556",
     "status": "completed"
    },
    "tags": []
   },
   "outputs": [],
   "source": [
    "#hide\n",
    "import pandas as pd\n",
    "import numpy as np\n",
    "import requests\n",
    "import json\n",
    "import matplotlib.pyplot as plt\n",
    "import matplotlib.dates as mdates\n",
    "import matplotlib as mpl\n",
    "from IPython.core.display import display,HTML\n",
    "%matplotlib inline\n",
    "from datetime import date"
   ]
  },
  {
   "cell_type": "code",
   "execution_count": 2,
   "metadata": {
    "execution": {
     "iopub.execute_input": "2020-08-23T12:37:03.698132Z",
     "iopub.status.busy": "2020-08-23T12:37:03.697119Z",
     "iopub.status.idle": "2020-08-23T12:37:03.838246Z",
     "shell.execute_reply": "2020-08-23T12:37:03.837696Z"
    },
    "papermill": {
     "duration": 0.163278,
     "end_time": "2020-08-23T12:37:03.838516",
     "exception": false,
     "start_time": "2020-08-23T12:37:03.675238",
     "status": "completed"
    },
    "tags": []
   },
   "outputs": [],
   "source": [
    "#hide\n",
    "df  = pd.read_csv('https://api.covid19india.org/csv/latest/states.csv')\n",
    "df = df[['Date','State','Confirmed','Deceased']]\n",
    "df = df.rename(columns={'Confirmed':'Cases', \"Deceased\":'Deaths'})\n",
    "df_cases = df[[\"Date\",'State','Cases']]\n",
    "df_deaths = df[['Date','State','Deaths']]\n",
    "df_cases1 = df_cases.groupby('Date')\n",
    "df_deaths1= df_deaths.groupby('Date')"
   ]
  },
  {
   "cell_type": "code",
   "execution_count": 3,
   "metadata": {
    "execution": {
     "iopub.execute_input": "2020-08-23T12:37:03.872918Z",
     "iopub.status.busy": "2020-08-23T12:37:03.872341Z",
     "iopub.status.idle": "2020-08-23T12:37:03.891001Z",
     "shell.execute_reply": "2020-08-23T12:37:03.890101Z"
    },
    "papermill": {
     "duration": 0.038175,
     "end_time": "2020-08-23T12:37:03.891151",
     "exception": false,
     "start_time": "2020-08-23T12:37:03.852976",
     "status": "completed"
    },
    "tags": []
   },
   "outputs": [],
   "source": [
    "#hide\n",
    "df_snap = pd.read_csv('data/SnapshotCases-28-July.csv')\n",
    "arr_states = df_snap['states'].unique()\n",
    "arr_dates = df['Date'].unique()\n",
    "df_snap = df_snap.set_index('states')"
   ]
  },
  {
   "cell_type": "code",
   "execution_count": 4,
   "metadata": {
    "execution": {
     "iopub.execute_input": "2020-08-23T12:37:03.929989Z",
     "iopub.status.busy": "2020-08-23T12:37:03.929396Z",
     "iopub.status.idle": "2020-08-23T12:37:03.932575Z",
     "shell.execute_reply": "2020-08-23T12:37:03.933010Z"
    },
    "papermill": {
     "duration": 0.025915,
     "end_time": "2020-08-23T12:37:03.933155",
     "exception": false,
     "start_time": "2020-08-23T12:37:03.907240",
     "status": "completed"
    },
    "tags": []
   },
   "outputs": [
    {
     "data": {
      "text/plain": [
       "array(['Andaman and Nicobar Islands', 'Andhra Pradesh',\n",
       "       'Arunachal Pradesh', 'Assam', 'Bihar', 'Chandigarh',\n",
       "       'Dadra and Nagar Haveli and Daman and Diu', 'Delhi', 'Goa',\n",
       "       'Gujarat', 'Haryana', 'Himachal Pradesh', 'Jammu and Kashmir',\n",
       "       'Jharkhand', 'Karnataka', 'Kerala', 'Lakshadweep',\n",
       "       'Madhya Pradesh', 'Maharashtra', 'Manipur', 'Meghalaya', 'Mizoram',\n",
       "       'Nagaland', 'Odisha', 'Puducherry', 'Punjab', 'Rajasthan',\n",
       "       'Sikkim', 'Tamil Nadu', 'Telangana', 'Tripura', 'Uttar Pradesh',\n",
       "       'West Bengal', 'Chhattisgarh', 'Ladakh', 'Uttarakhand'],\n",
       "      dtype=object)"
      ]
     },
     "execution_count": 4,
     "metadata": {},
     "output_type": "execute_result"
    }
   ],
   "source": [
    "#hide\n",
    "arr_states[-9] = 'Puducherry'\n",
    "arr_states[-10] = 'Odisha'\n",
    "arr_states[6] = 'Dadra and Nagar Haveli and Daman and Diu'\n",
    "arr_states = np.append(arr_states,np.array(['Chhattisgarh','Ladakh','Uttarakhand']))\n",
    "arr_states"
   ]
  },
  {
   "cell_type": "code",
   "execution_count": 5,
   "metadata": {
    "execution": {
     "iopub.execute_input": "2020-08-23T12:37:04.383717Z",
     "iopub.status.busy": "2020-08-23T12:37:04.383112Z",
     "iopub.status.idle": "2020-08-23T12:37:04.390366Z",
     "shell.execute_reply": "2020-08-23T12:37:04.390783Z"
    },
    "papermill": {
     "duration": 0.321493,
     "end_time": "2020-08-23T12:37:04.390922",
     "exception": false,
     "start_time": "2020-08-23T12:37:04.069429",
     "status": "completed"
    },
    "tags": []
   },
   "outputs": [],
   "source": [
    "#hide\n",
    "dates = []\n",
    "for i in arr_dates:\n",
    "    if i>='2020-07-01':\n",
    "        dates.append(i)\n",
    "dict = {'states':dates}\n",
    "for i in arr_states:\n",
    "    dict[i] = [0]*len(dates)\n",
    "dft_cases = pd.DataFrame(dict)\n",
    "dft_deaths = pd.DataFrame(dict)\n"
   ]
  },
  {
   "cell_type": "code",
   "execution_count": 6,
   "metadata": {
    "execution": {
     "iopub.execute_input": "2020-08-23T12:37:05.134314Z",
     "iopub.status.busy": "2020-08-23T12:37:05.103329Z",
     "iopub.status.idle": "2020-08-23T12:37:05.831633Z",
     "shell.execute_reply": "2020-08-23T12:37:05.830689Z"
    },
    "papermill": {
     "duration": 1.102985,
     "end_time": "2020-08-23T12:37:05.831773",
     "exception": false,
     "start_time": "2020-08-23T12:37:04.728788",
     "status": "completed"
    },
    "tags": []
   },
   "outputs": [],
   "source": [
    "#hide\n",
    "for i in range(len(dates)):\n",
    "    df1_deaths = df_deaths1.get_group(dates[i])\n",
    "    for j in range(len(df1_deaths.index)):\n",
    "        if df1_deaths.iloc[j,1] in arr_states:\n",
    "            dft_deaths.loc[i,df1_deaths.iloc[j,1]] = df1_deaths.iloc[j,2]\n",
    "dft_deaths = dft_deaths.set_index('states')"
   ]
  },
  {
   "cell_type": "code",
   "execution_count": 7,
   "metadata": {
    "execution": {
     "iopub.execute_input": "2020-08-23T12:37:06.184635Z",
     "iopub.status.busy": "2020-08-23T12:37:06.184061Z",
     "iopub.status.idle": "2020-08-23T12:37:06.868609Z",
     "shell.execute_reply": "2020-08-23T12:37:06.867964Z"
    },
    "papermill": {
     "duration": 1.021067,
     "end_time": "2020-08-23T12:37:06.868772",
     "exception": false,
     "start_time": "2020-08-23T12:37:05.847705",
     "status": "completed"
    },
    "tags": []
   },
   "outputs": [],
   "source": [
    "#hide\n",
    "for i in range(len(dates)):\n",
    "    df1_cases = df_cases1.get_group(dates[i])\n",
    "    for j in range(len(df1_cases.index)):\n",
    "        if df1_cases.iloc[j,1] in arr_states:\n",
    "            dft_cases.loc[i,df1_cases.iloc[j,1]] = df1_cases.iloc[j,2]\n",
    "dft_cases = dft_cases.set_index('states')"
   ]
  },
  {
   "cell_type": "code",
   "execution_count": 8,
   "metadata": {
    "execution": {
     "iopub.execute_input": "2020-08-23T12:37:06.906719Z",
     "iopub.status.busy": "2020-08-23T12:37:06.906141Z",
     "iopub.status.idle": "2020-08-23T12:37:06.908314Z",
     "shell.execute_reply": "2020-08-23T12:37:06.907879Z"
    },
    "papermill": {
     "duration": 0.023431,
     "end_time": "2020-08-23T12:37:06.908429",
     "exception": false,
     "start_time": "2020-08-23T12:37:06.884998",
     "status": "completed"
    },
    "tags": []
   },
   "outputs": [],
   "source": [
    "#hide\n",
    "dft_cases = dft_cases.T\n",
    "dft_deaths = dft_deaths.T\n",
    "dt_today = dates[-1]\n",
    "dt_yday = dates[-2]"
   ]
  },
  {
   "cell_type": "code",
   "execution_count": 9,
   "metadata": {
    "execution": {
     "iopub.execute_input": "2020-08-23T12:37:06.942418Z",
     "iopub.status.busy": "2020-08-23T12:37:06.941708Z",
     "iopub.status.idle": "2020-08-23T12:37:06.947483Z",
     "shell.execute_reply": "2020-08-23T12:37:06.946999Z"
    },
    "papermill": {
     "duration": 0.025154,
     "end_time": "2020-08-23T12:37:06.947581",
     "exception": false,
     "start_time": "2020-08-23T12:37:06.922427",
     "status": "completed"
    },
    "tags": []
   },
   "outputs": [],
   "source": [
    "#hide\n",
    "dft_cases = dft_cases.reset_index()\n",
    "dft_deaths = dft_deaths.reset_index()\n",
    "dft_cases = dft_cases.rename(columns = {'index':'state'})\n",
    "dft_deaths = dft_deaths.rename(columns = {'index':'state'})"
   ]
  },
  {
   "cell_type": "code",
   "execution_count": 10,
   "metadata": {
    "execution": {
     "iopub.execute_input": "2020-08-23T12:37:06.982473Z",
     "iopub.status.busy": "2020-08-23T12:37:06.978968Z",
     "iopub.status.idle": "2020-08-23T12:37:06.985343Z",
     "shell.execute_reply": "2020-08-23T12:37:06.984889Z"
    },
    "papermill": {
     "duration": 0.02506,
     "end_time": "2020-08-23T12:37:06.985450",
     "exception": false,
     "start_time": "2020-08-23T12:37:06.960390",
     "status": "completed"
    },
    "tags": []
   },
   "outputs": [],
   "source": [
    "#hide\n",
    "dfc_cases = dft_cases.groupby('state')[dt_today].sum()\n",
    "dfc_deaths = dft_deaths.groupby('state')[dt_today].sum()\n",
    "dfp_cases = dft_cases.groupby('state')[dt_yday].sum()\n",
    "dfp_deaths = dft_deaths.groupby('state')[dt_yday].sum()"
   ]
  },
  {
   "cell_type": "code",
   "execution_count": 11,
   "metadata": {
    "execution": {
     "iopub.execute_input": "2020-08-23T12:37:07.034723Z",
     "iopub.status.busy": "2020-08-23T12:37:07.034121Z",
     "iopub.status.idle": "2020-08-23T12:37:07.049994Z",
     "shell.execute_reply": "2020-08-23T12:37:07.050473Z"
    },
    "papermill": {
     "duration": 0.049436,
     "end_time": "2020-08-23T12:37:07.050617",
     "exception": false,
     "start_time": "2020-08-23T12:37:07.001181",
     "status": "completed"
    },
    "tags": []
   },
   "outputs": [
    {
     "data": {
      "text/html": [
       "<div>\n",
       "<style scoped>\n",
       "    .dataframe tbody tr th:only-of-type {\n",
       "        vertical-align: middle;\n",
       "    }\n",
       "\n",
       "    .dataframe tbody tr th {\n",
       "        vertical-align: top;\n",
       "    }\n",
       "\n",
       "    .dataframe thead th {\n",
       "        text-align: right;\n",
       "    }\n",
       "</style>\n",
       "<table border=\"1\" class=\"dataframe\">\n",
       "  <thead>\n",
       "    <tr style=\"text-align: right;\">\n",
       "      <th></th>\n",
       "      <th>states</th>\n",
       "      <th>Cases</th>\n",
       "      <th>Deaths</th>\n",
       "      <th>PCases</th>\n",
       "      <th>PDeaths</th>\n",
       "    </tr>\n",
       "  </thead>\n",
       "  <tbody>\n",
       "    <tr>\n",
       "      <th>0</th>\n",
       "      <td>Maharashtra</td>\n",
       "      <td>671942</td>\n",
       "      <td>21995</td>\n",
       "      <td>671942</td>\n",
       "      <td>21995</td>\n",
       "    </tr>\n",
       "    <tr>\n",
       "      <th>1</th>\n",
       "      <td>Tamil Nadu</td>\n",
       "      <td>373410</td>\n",
       "      <td>6420</td>\n",
       "      <td>373410</td>\n",
       "      <td>6420</td>\n",
       "    </tr>\n",
       "    <tr>\n",
       "      <th>2</th>\n",
       "      <td>Andhra Pradesh</td>\n",
       "      <td>353111</td>\n",
       "      <td>3282</td>\n",
       "      <td>345216</td>\n",
       "      <td>3189</td>\n",
       "    </tr>\n",
       "    <tr>\n",
       "      <th>3</th>\n",
       "      <td>Karnataka</td>\n",
       "      <td>271876</td>\n",
       "      <td>4615</td>\n",
       "      <td>271876</td>\n",
       "      <td>4615</td>\n",
       "    </tr>\n",
       "    <tr>\n",
       "      <th>4</th>\n",
       "      <td>Uttar Pradesh</td>\n",
       "      <td>187781</td>\n",
       "      <td>2926</td>\n",
       "      <td>182456</td>\n",
       "      <td>2867</td>\n",
       "    </tr>\n",
       "  </tbody>\n",
       "</table>\n",
       "</div>"
      ],
      "text/plain": [
       "           states   Cases  Deaths  PCases  PDeaths\n",
       "0     Maharashtra  671942   21995  671942    21995\n",
       "1      Tamil Nadu  373410    6420  373410     6420\n",
       "2  Andhra Pradesh  353111    3282  345216     3189\n",
       "3       Karnataka  271876    4615  271876     4615\n",
       "4   Uttar Pradesh  187781    2926  182456     2867"
      ]
     },
     "execution_count": 11,
     "metadata": {},
     "output_type": "execute_result"
    }
   ],
   "source": [
    "#hide\n",
    "df_table = pd.DataFrame({'states': dfc_cases.index, 'Cases': dfc_cases.values, 'Deaths': dfc_deaths.values, 'PCases': dfp_cases.values, 'PDeaths': dfp_deaths.values}).set_index('states')\n",
    "df_table = df_table.sort_values(by = ['Cases','Deaths'], ascending = [False, False])\n",
    "df_table = df_table.reset_index()\n",
    "df_table.head()"
   ]
  },
  {
   "cell_type": "code",
   "execution_count": 12,
   "metadata": {
    "execution": {
     "iopub.execute_input": "2020-08-23T12:37:07.085454Z",
     "iopub.status.busy": "2020-08-23T12:37:07.084877Z",
     "iopub.status.idle": "2020-08-23T12:37:07.095222Z",
     "shell.execute_reply": "2020-08-23T12:37:07.094701Z"
    },
    "papermill": {
     "duration": 0.029443,
     "end_time": "2020-08-23T12:37:07.095348",
     "exception": false,
     "start_time": "2020-08-23T12:37:07.065905",
     "status": "completed"
    },
    "tags": []
   },
   "outputs": [],
   "source": [
    "#hide\n",
    "for c in 'Cases, Deaths'.split(', '):\n",
    "    df_table[f'{c} (+)'] = (df_table[c] - df_table[f'P{c}']).clip(0)\n",
    "df_table['Fatality Rate'] = (100* df_table['Deaths']/ df_table['Cases']).round(2)"
   ]
  },
  {
   "cell_type": "code",
   "execution_count": 13,
   "metadata": {
    "execution": {
     "iopub.execute_input": "2020-08-23T12:37:07.141300Z",
     "iopub.status.busy": "2020-08-23T12:37:07.140706Z",
     "iopub.status.idle": "2020-08-23T12:37:07.145060Z",
     "shell.execute_reply": "2020-08-23T12:37:07.144650Z"
    },
    "papermill": {
     "duration": 0.032921,
     "end_time": "2020-08-23T12:37:07.145190",
     "exception": false,
     "start_time": "2020-08-23T12:37:07.112269",
     "status": "completed"
    },
    "tags": []
   },
   "outputs": [
    {
     "data": {
      "text/html": [
       "<div>\n",
       "<style scoped>\n",
       "    .dataframe tbody tr th:only-of-type {\n",
       "        vertical-align: middle;\n",
       "    }\n",
       "\n",
       "    .dataframe tbody tr th {\n",
       "        vertical-align: top;\n",
       "    }\n",
       "\n",
       "    .dataframe thead th {\n",
       "        text-align: right;\n",
       "    }\n",
       "</style>\n",
       "<table border=\"1\" class=\"dataframe\">\n",
       "  <thead>\n",
       "    <tr style=\"text-align: right;\">\n",
       "      <th></th>\n",
       "      <th>states</th>\n",
       "      <th>Cases</th>\n",
       "      <th>Deaths</th>\n",
       "      <th>PCases</th>\n",
       "      <th>PDeaths</th>\n",
       "      <th>Cases (+)</th>\n",
       "      <th>Deaths (+)</th>\n",
       "      <th>Fatality Rate</th>\n",
       "    </tr>\n",
       "  </thead>\n",
       "  <tbody>\n",
       "    <tr>\n",
       "      <th>0</th>\n",
       "      <td>Maharashtra</td>\n",
       "      <td>671942</td>\n",
       "      <td>21995</td>\n",
       "      <td>671942</td>\n",
       "      <td>21995</td>\n",
       "      <td>0</td>\n",
       "      <td>0</td>\n",
       "      <td>3.27</td>\n",
       "    </tr>\n",
       "    <tr>\n",
       "      <th>1</th>\n",
       "      <td>Tamil Nadu</td>\n",
       "      <td>373410</td>\n",
       "      <td>6420</td>\n",
       "      <td>373410</td>\n",
       "      <td>6420</td>\n",
       "      <td>0</td>\n",
       "      <td>0</td>\n",
       "      <td>1.72</td>\n",
       "    </tr>\n",
       "    <tr>\n",
       "      <th>2</th>\n",
       "      <td>Andhra Pradesh</td>\n",
       "      <td>353111</td>\n",
       "      <td>3282</td>\n",
       "      <td>345216</td>\n",
       "      <td>3189</td>\n",
       "      <td>7895</td>\n",
       "      <td>93</td>\n",
       "      <td>0.93</td>\n",
       "    </tr>\n",
       "    <tr>\n",
       "      <th>3</th>\n",
       "      <td>Karnataka</td>\n",
       "      <td>271876</td>\n",
       "      <td>4615</td>\n",
       "      <td>271876</td>\n",
       "      <td>4615</td>\n",
       "      <td>0</td>\n",
       "      <td>0</td>\n",
       "      <td>1.70</td>\n",
       "    </tr>\n",
       "    <tr>\n",
       "      <th>4</th>\n",
       "      <td>Uttar Pradesh</td>\n",
       "      <td>187781</td>\n",
       "      <td>2926</td>\n",
       "      <td>182456</td>\n",
       "      <td>2867</td>\n",
       "      <td>5325</td>\n",
       "      <td>59</td>\n",
       "      <td>1.56</td>\n",
       "    </tr>\n",
       "  </tbody>\n",
       "</table>\n",
       "</div>"
      ],
      "text/plain": [
       "           states   Cases  Deaths  PCases  PDeaths  Cases (+)  Deaths (+)  \\\n",
       "0     Maharashtra  671942   21995  671942    21995          0           0   \n",
       "1      Tamil Nadu  373410    6420  373410     6420          0           0   \n",
       "2  Andhra Pradesh  353111    3282  345216     3189       7895          93   \n",
       "3       Karnataka  271876    4615  271876     4615          0           0   \n",
       "4   Uttar Pradesh  187781    2926  182456     2867       5325          59   \n",
       "\n",
       "   Fatality Rate  \n",
       "0           3.27  \n",
       "1           1.72  \n",
       "2           0.93  \n",
       "3           1.70  \n",
       "4           1.56  "
      ]
     },
     "execution_count": 13,
     "metadata": {},
     "output_type": "execute_result"
    }
   ],
   "source": [
    "#hide\n",
    "df_table.head()"
   ]
  },
  {
   "cell_type": "code",
   "execution_count": 14,
   "metadata": {
    "execution": {
     "iopub.execute_input": "2020-08-23T12:37:07.181190Z",
     "iopub.status.busy": "2020-08-23T12:37:07.180659Z",
     "iopub.status.idle": "2020-08-23T12:37:07.195197Z",
     "shell.execute_reply": "2020-08-23T12:37:07.195637Z"
    },
    "papermill": {
     "duration": 0.036463,
     "end_time": "2020-08-23T12:37:07.195778",
     "exception": false,
     "start_time": "2020-08-23T12:37:07.159315",
     "status": "completed"
    },
    "tags": []
   },
   "outputs": [
    {
     "data": {
      "text/plain": [
       "{'updated': '2020-08-23',\n",
       " 'since': '2020-08-22',\n",
       " 'Cases': 3063567,\n",
       " 'PCases': 3043436,\n",
       " 'Deaths': 57035,\n",
       " 'PDeaths': 56846,\n",
       " 'Cases (+)': 20131,\n",
       " 'Deaths (+)': 189}"
      ]
     },
     "execution_count": 14,
     "metadata": {},
     "output_type": "execute_result"
    }
   ],
   "source": [
    "#hide\n",
    "summary = {'updated':dates[-1], 'since':dates[-2]}\n",
    "list_names = ['Cases', 'PCases', 'Deaths', 'PDeaths', 'Cases (+)', 'Deaths (+)']\n",
    "for name in list_names:\n",
    "    summary[name] = df_table.sum()[name]\n",
    "summary"
   ]
  },
  {
   "cell_type": "code",
   "execution_count": 15,
   "metadata": {
    "execution": {
     "iopub.execute_input": "2020-08-23T12:37:07.231576Z",
     "iopub.status.busy": "2020-08-23T12:37:07.229988Z",
     "iopub.status.idle": "2020-08-23T12:37:07.233969Z",
     "shell.execute_reply": "2020-08-23T12:37:07.233371Z"
    },
    "papermill": {
     "duration": 0.023445,
     "end_time": "2020-08-23T12:37:07.234090",
     "exception": false,
     "start_time": "2020-08-23T12:37:07.210645",
     "status": "completed"
    },
    "tags": []
   },
   "outputs": [],
   "source": [
    "#hide\n",
    "overview = '''\n",
    "<!-- #######  HTML!! #########-->\n",
    "<h1 style=\"color: #5e9ca0; text-align: center;\">India</h1>\n",
    "<p style=\"text-align: center;\">Last update: <strong>{update}</strong></p>\n",
    "<p style=\"text-align: center;\">Confirmed cases:</p>\n",
    "<p style=\"text-align: center;font-size:24px;\">{cases} (<span style=\"color: #ff0000;\">+{new}</span>)</p>\n",
    "<p style=\"text-align: center;\">Confirmed deaths:</p>\n",
    "<p style=\"text-align: center;font-size:24px;\">{deaths} (<span style=\"color: #ff0000;\">+{dnew}</span>)</p>\n",
    "'''"
   ]
  },
  {
   "cell_type": "code",
   "execution_count": 16,
   "metadata": {
    "execution": {
     "iopub.execute_input": "2020-08-23T12:37:07.273453Z",
     "iopub.status.busy": "2020-08-23T12:37:07.272857Z",
     "iopub.status.idle": "2020-08-23T12:37:07.275129Z",
     "shell.execute_reply": "2020-08-23T12:37:07.275690Z"
    },
    "papermill": {
     "duration": 0.025203,
     "end_time": "2020-08-23T12:37:07.275834",
     "exception": false,
     "start_time": "2020-08-23T12:37:07.250631",
     "status": "completed"
    },
    "tags": []
   },
   "outputs": [
    {
     "data": {
      "text/html": [
       "\n",
       "<!-- #######  HTML!! #########-->\n",
       "<h1 style=\"color: #5e9ca0; text-align: center;\">India</h1>\n",
       "<p style=\"text-align: center;\">Last update: <strong>2020-08-23</strong></p>\n",
       "<p style=\"text-align: center;\">Confirmed cases:</p>\n",
       "<p style=\"text-align: center;font-size:24px;\">3063567 (<span style=\"color: #ff0000;\">+20131</span>)</p>\n",
       "<p style=\"text-align: center;\">Confirmed deaths:</p>\n",
       "<p style=\"text-align: center;font-size:24px;\">57035 (<span style=\"color: #ff0000;\">+189</span>)</p>\n"
      ],
      "text/plain": [
       "<IPython.core.display.HTML object>"
      ]
     },
     "metadata": {},
     "output_type": "display_data"
    }
   ],
   "source": [
    "#hide_input\n",
    "update = summary['updated']\n",
    "cases = summary['Cases']\n",
    "new = summary['Cases (+)']\n",
    "deaths = summary['Deaths']\n",
    "dnew = summary['Deaths (+)']\n",
    "\n",
    "html = HTML(overview.format(update=update, cases=cases,new=new,deaths=deaths,dnew=dnew))\n",
    "\n",
    "display(html)"
   ]
  },
  {
   "cell_type": "code",
   "execution_count": 17,
   "metadata": {
    "execution": {
     "iopub.execute_input": "2020-08-23T12:37:07.317875Z",
     "iopub.status.busy": "2020-08-23T12:37:07.316646Z",
     "iopub.status.idle": "2020-08-23T12:37:07.322875Z",
     "shell.execute_reply": "2020-08-23T12:37:07.323352Z"
    },
    "papermill": {
     "duration": 0.030065,
     "end_time": "2020-08-23T12:37:07.323493",
     "exception": false,
     "start_time": "2020-08-23T12:37:07.293428",
     "status": "completed"
    },
    "tags": []
   },
   "outputs": [],
   "source": [
    "#hide\n",
    "dt_cols = list(dft_cases.columns[1:])\n",
    "dft_ct_new_cases = dft_cases.groupby('state')[dt_cols].sum().diff(axis=1).fillna(0).astype(int)\n",
    "dft_ct_new_cases.sort_values(by = dates[-1], ascending = False,inplace = True)"
   ]
  },
  {
   "cell_type": "code",
   "execution_count": 18,
   "metadata": {
    "execution": {
     "iopub.execute_input": "2020-08-23T12:37:07.365899Z",
     "iopub.status.busy": "2020-08-23T12:37:07.365216Z",
     "iopub.status.idle": "2020-08-23T12:37:07.375327Z",
     "shell.execute_reply": "2020-08-23T12:37:07.374823Z"
    },
    "papermill": {
     "duration": 0.036268,
     "end_time": "2020-08-23T12:37:07.375447",
     "exception": false,
     "start_time": "2020-08-23T12:37:07.339179",
     "status": "completed"
    },
    "tags": []
   },
   "outputs": [
    {
     "data": {
      "text/html": [
       "<div>\n",
       "<style scoped>\n",
       "    .dataframe tbody tr th:only-of-type {\n",
       "        vertical-align: middle;\n",
       "    }\n",
       "\n",
       "    .dataframe tbody tr th {\n",
       "        vertical-align: top;\n",
       "    }\n",
       "\n",
       "    .dataframe thead th {\n",
       "        text-align: right;\n",
       "    }\n",
       "</style>\n",
       "<table border=\"1\" class=\"dataframe\">\n",
       "  <thead>\n",
       "    <tr style=\"text-align: right;\">\n",
       "      <th>states</th>\n",
       "      <th>2020-07-01</th>\n",
       "      <th>2020-07-02</th>\n",
       "      <th>2020-07-03</th>\n",
       "      <th>2020-07-04</th>\n",
       "      <th>2020-07-05</th>\n",
       "      <th>2020-07-06</th>\n",
       "      <th>2020-07-07</th>\n",
       "      <th>2020-07-08</th>\n",
       "      <th>2020-07-09</th>\n",
       "      <th>2020-07-10</th>\n",
       "      <th>...</th>\n",
       "      <th>2020-08-14</th>\n",
       "      <th>2020-08-15</th>\n",
       "      <th>2020-08-16</th>\n",
       "      <th>2020-08-17</th>\n",
       "      <th>2020-08-18</th>\n",
       "      <th>2020-08-19</th>\n",
       "      <th>2020-08-20</th>\n",
       "      <th>2020-08-21</th>\n",
       "      <th>2020-08-22</th>\n",
       "      <th>2020-08-23</th>\n",
       "    </tr>\n",
       "    <tr>\n",
       "      <th>state</th>\n",
       "      <th></th>\n",
       "      <th></th>\n",
       "      <th></th>\n",
       "      <th></th>\n",
       "      <th></th>\n",
       "      <th></th>\n",
       "      <th></th>\n",
       "      <th></th>\n",
       "      <th></th>\n",
       "      <th></th>\n",
       "      <th></th>\n",
       "      <th></th>\n",
       "      <th></th>\n",
       "      <th></th>\n",
       "      <th></th>\n",
       "      <th></th>\n",
       "      <th></th>\n",
       "      <th></th>\n",
       "      <th></th>\n",
       "      <th></th>\n",
       "      <th></th>\n",
       "    </tr>\n",
       "  </thead>\n",
       "  <tbody>\n",
       "    <tr>\n",
       "      <th>Andhra Pradesh</th>\n",
       "      <td>0</td>\n",
       "      <td>845</td>\n",
       "      <td>837</td>\n",
       "      <td>765</td>\n",
       "      <td>998</td>\n",
       "      <td>1322</td>\n",
       "      <td>1178</td>\n",
       "      <td>1062</td>\n",
       "      <td>1555</td>\n",
       "      <td>1608</td>\n",
       "      <td>...</td>\n",
       "      <td>8943</td>\n",
       "      <td>8732</td>\n",
       "      <td>8012</td>\n",
       "      <td>6780</td>\n",
       "      <td>9652</td>\n",
       "      <td>9742</td>\n",
       "      <td>9393</td>\n",
       "      <td>9544</td>\n",
       "      <td>10276</td>\n",
       "      <td>7895</td>\n",
       "    </tr>\n",
       "    <tr>\n",
       "      <th>Uttar Pradesh</th>\n",
       "      <td>0</td>\n",
       "      <td>769</td>\n",
       "      <td>972</td>\n",
       "      <td>757</td>\n",
       "      <td>1153</td>\n",
       "      <td>929</td>\n",
       "      <td>1332</td>\n",
       "      <td>1188</td>\n",
       "      <td>1206</td>\n",
       "      <td>1338</td>\n",
       "      <td>...</td>\n",
       "      <td>4512</td>\n",
       "      <td>4774</td>\n",
       "      <td>4357</td>\n",
       "      <td>3798</td>\n",
       "      <td>4218</td>\n",
       "      <td>5076</td>\n",
       "      <td>4824</td>\n",
       "      <td>4905</td>\n",
       "      <td>5217</td>\n",
       "      <td>5325</td>\n",
       "    </tr>\n",
       "    <tr>\n",
       "      <th>Odisha</th>\n",
       "      <td>0</td>\n",
       "      <td>229</td>\n",
       "      <td>561</td>\n",
       "      <td>495</td>\n",
       "      <td>469</td>\n",
       "      <td>456</td>\n",
       "      <td>571</td>\n",
       "      <td>527</td>\n",
       "      <td>577</td>\n",
       "      <td>755</td>\n",
       "      <td>...</td>\n",
       "      <td>1977</td>\n",
       "      <td>2496</td>\n",
       "      <td>2924</td>\n",
       "      <td>2244</td>\n",
       "      <td>2239</td>\n",
       "      <td>2589</td>\n",
       "      <td>2898</td>\n",
       "      <td>2698</td>\n",
       "      <td>2819</td>\n",
       "      <td>2993</td>\n",
       "    </tr>\n",
       "    <tr>\n",
       "      <th>Telangana</th>\n",
       "      <td>0</td>\n",
       "      <td>1213</td>\n",
       "      <td>1892</td>\n",
       "      <td>1850</td>\n",
       "      <td>1590</td>\n",
       "      <td>1831</td>\n",
       "      <td>1879</td>\n",
       "      <td>1924</td>\n",
       "      <td>1410</td>\n",
       "      <td>1278</td>\n",
       "      <td>...</td>\n",
       "      <td>1921</td>\n",
       "      <td>1863</td>\n",
       "      <td>1102</td>\n",
       "      <td>894</td>\n",
       "      <td>1682</td>\n",
       "      <td>1763</td>\n",
       "      <td>1724</td>\n",
       "      <td>1967</td>\n",
       "      <td>2474</td>\n",
       "      <td>2384</td>\n",
       "    </tr>\n",
       "    <tr>\n",
       "      <th>Rajasthan</th>\n",
       "      <td>0</td>\n",
       "      <td>350</td>\n",
       "      <td>390</td>\n",
       "      <td>480</td>\n",
       "      <td>632</td>\n",
       "      <td>524</td>\n",
       "      <td>716</td>\n",
       "      <td>659</td>\n",
       "      <td>500</td>\n",
       "      <td>611</td>\n",
       "      <td>...</td>\n",
       "      <td>1278</td>\n",
       "      <td>1287</td>\n",
       "      <td>1317</td>\n",
       "      <td>1334</td>\n",
       "      <td>1347</td>\n",
       "      <td>1312</td>\n",
       "      <td>1330</td>\n",
       "      <td>1335</td>\n",
       "      <td>1310</td>\n",
       "      <td>697</td>\n",
       "    </tr>\n",
       "  </tbody>\n",
       "</table>\n",
       "<p>5 rows × 54 columns</p>\n",
       "</div>"
      ],
      "text/plain": [
       "states          2020-07-01  2020-07-02  2020-07-03  2020-07-04  2020-07-05  \\\n",
       "state                                                                        \n",
       "Andhra Pradesh           0         845         837         765         998   \n",
       "Uttar Pradesh            0         769         972         757        1153   \n",
       "Odisha                   0         229         561         495         469   \n",
       "Telangana                0        1213        1892        1850        1590   \n",
       "Rajasthan                0         350         390         480         632   \n",
       "\n",
       "states          2020-07-06  2020-07-07  2020-07-08  2020-07-09  2020-07-10  \\\n",
       "state                                                                        \n",
       "Andhra Pradesh        1322        1178        1062        1555        1608   \n",
       "Uttar Pradesh          929        1332        1188        1206        1338   \n",
       "Odisha                 456         571         527         577         755   \n",
       "Telangana             1831        1879        1924        1410        1278   \n",
       "Rajasthan              524         716         659         500         611   \n",
       "\n",
       "states          ...  2020-08-14  2020-08-15  2020-08-16  2020-08-17  \\\n",
       "state           ...                                                   \n",
       "Andhra Pradesh  ...        8943        8732        8012        6780   \n",
       "Uttar Pradesh   ...        4512        4774        4357        3798   \n",
       "Odisha          ...        1977        2496        2924        2244   \n",
       "Telangana       ...        1921        1863        1102         894   \n",
       "Rajasthan       ...        1278        1287        1317        1334   \n",
       "\n",
       "states          2020-08-18  2020-08-19  2020-08-20  2020-08-21  2020-08-22  \\\n",
       "state                                                                        \n",
       "Andhra Pradesh        9652        9742        9393        9544       10276   \n",
       "Uttar Pradesh         4218        5076        4824        4905        5217   \n",
       "Odisha                2239        2589        2898        2698        2819   \n",
       "Telangana             1682        1763        1724        1967        2474   \n",
       "Rajasthan             1347        1312        1330        1335        1310   \n",
       "\n",
       "states          2020-08-23  \n",
       "state                       \n",
       "Andhra Pradesh        7895  \n",
       "Uttar Pradesh         5325  \n",
       "Odisha                2993  \n",
       "Telangana             2384  \n",
       "Rajasthan              697  \n",
       "\n",
       "[5 rows x 54 columns]"
      ]
     },
     "execution_count": 18,
     "metadata": {},
     "output_type": "execute_result"
    }
   ],
   "source": [
    "#hide\n",
    "dft_ct_new_cases.head()"
   ]
  },
  {
   "cell_type": "code",
   "execution_count": 19,
   "metadata": {
    "execution": {
     "iopub.execute_input": "2020-08-23T12:37:07.414128Z",
     "iopub.status.busy": "2020-08-23T12:37:07.413444Z",
     "iopub.status.idle": "2020-08-23T12:37:10.031740Z",
     "shell.execute_reply": "2020-08-23T12:37:10.031247Z"
    },
    "papermill": {
     "duration": 2.638945,
     "end_time": "2020-08-23T12:37:10.031876",
     "exception": false,
     "start_time": "2020-08-23T12:37:07.392931",
     "status": "completed"
    },
    "tags": []
   },
   "outputs": [
    {
     "data": {
      "image/png": "[encoded data removed]",
      "text/plain": [
       "<Figure size 1296x2016 with 11 Axes>"
      ]
     },
     "metadata": {
      "needs_background": "light"
     },
     "output_type": "display_data"
    }
   ],
   "source": [
    "#hide_input\n",
    "df = dft_ct_new_cases.copy()\n",
    "df.loc['Total'] = df.sum()\n",
    "n = 5\n",
    "ax = []\n",
    "fig = plt.figure(figsize = (18,28))\n",
    "gs = fig.add_gridspec(n+2, 5)\n",
    "# gs = fig.add_gridspec(2, 3)\n",
    "ax1 = fig.add_subplot(gs[0, :])\n",
    "ef = df.loc['Total'].rename_axis('date').reset_index()\n",
    "ef['date'] = ef['date'].astype('datetime64[ns]')\n",
    "ax1.bar(ef.date,ef.Total,alpha=0.3,color='#007acc')\n",
    "ax1.plot(ef.date,ef.Total , marker=\"o\", color='#007acc')\n",
    "ax1.xaxis.set_major_locator(mdates.WeekdayLocator())\n",
    "ax1.xaxis.set_major_formatter(mdates.DateFormatter('%b %d'))\n",
    "ax1.text(0.02, 0.5,'India daily case count', transform = ax1.transAxes, fontsize=25);\n",
    "ax1.spines['right'].set_visible(False)\n",
    "ax1.spines['top'].set_visible(False)\n",
    "\n",
    "ax2 = fig.add_subplot(gs[1,0])\n",
    "ef = df.loc['Maharashtra'].rename_axis('date').reset_index()\n",
    "ef['date'] = ef['date'].astype('datetime64[ns]')\n",
    "\n",
    "ax2.bar(ef.date, ef.Maharashtra,color = '#007acc',alpha=0.5)\n",
    "ax2.xaxis.set_major_locator(mdates.WeekdayLocator())\n",
    "ax2.xaxis.set_major_formatter(mdates.DateFormatter('%b %d'))\n",
    "ax2.set_xticks(ax2.get_xticks()[::3])\n",
    "maxyval = ef.Maharashtra.max()\n",
    "ax2.set_ylim([0,maxyval])\n",
    "ax2.text(0.05, 0.9,'Maharashtra', transform = ax2.transAxes, fontsize=20);\n",
    "ax2.spines['right'].set_visible(False)\n",
    "ax2.spines['top'].set_visible(False)\n",
    "\n",
    "\n",
    "ax3 = fig.add_subplot(gs[1,1])\n",
    "ef = df.loc['Tamil Nadu'].rename_axis('date').reset_index()\n",
    "ef['date'] = ef['date'].astype('datetime64[ns]')\n",
    "ax3.bar(ef.date, ef['Tamil Nadu'],color = '#007acc',alpha=0.5,)\n",
    "ax3.xaxis.set_major_locator(mdates.WeekdayLocator())\n",
    "ax3.xaxis.set_major_formatter(mdates.DateFormatter('%b %d'))\n",
    "ax3.set_xticks(ax3.get_xticks()[::3])\n",
    "ax3.text(0.05, 0.9,'Tamil Nadu', transform = ax3.transAxes, fontsize=20);\n",
    "ax3.spines['right'].set_visible(False)\n",
    "ax3.spines['top'].set_visible(False)\n",
    "\n",
    "ax5 = fig.add_subplot(gs[1,3])\n",
    "ef = df.loc['Telangana'].rename_axis('date').reset_index()\n",
    "ef['date'] = ef['date'].astype('datetime64[ns]')\n",
    "ax5.bar(ef.date, ef['Telangana'],color = '#007acc',alpha=0.5,)\n",
    "ax5.xaxis.set_major_locator(mdates.WeekdayLocator())\n",
    "ax5.xaxis.set_major_formatter(mdates.DateFormatter('%b %d'))\n",
    "ax5.set_xticks(ax5.get_xticks()[::3])\n",
    "ax5.text(0.05, 0.9,'Telangana', transform = ax5.transAxes, fontsize=20);\n",
    "ax5.spines['right'].set_visible(False)\n",
    "ax5.spines['top'].set_visible(False)\n",
    "\n",
    "ax6 = fig.add_subplot(gs[1,4])\n",
    "ef = df.loc['Andhra Pradesh'].rename_axis('date').reset_index()\n",
    "ef['date'] = ef['date'].astype('datetime64[ns]')\n",
    "ax6.bar(ef.date, ef['Andhra Pradesh'],color = '#007acc',alpha=0.5,)\n",
    "ax6.xaxis.set_major_locator(mdates.WeekdayLocator())\n",
    "ax6.xaxis.set_major_formatter(mdates.DateFormatter('%b %d'))\n",
    "ax6.set_xticks(ax6.get_xticks()[::3])\n",
    "ax6.text(0.05, 1,'Andhra Pradesh', transform = ax6.transAxes, fontsize=20);\n",
    "ax6.spines['right'].set_visible(False)\n",
    "ax6.spines['top'].set_visible(False)\n",
    "\n",
    "ax4 = fig.add_subplot(gs[1,2])\n",
    "ef = df.loc['Delhi'].rename_axis('date').reset_index()\n",
    "ef['date'] = ef['date'].astype('datetime64[ns]')\n",
    "ax4.bar(ef.date, ef.Delhi,color = '#007acc',alpha=0.5)\n",
    "ax4.set_xticks([])\n",
    "ax4.xaxis.set_major_locator(mdates.WeekdayLocator())\n",
    "ax4.xaxis.set_major_formatter(mdates.DateFormatter('%b %d'))\n",
    "ax4.set_xticks(ax4.get_xticks()[::3])\n",
    "ax4.spines['right'].set_visible(False)\n",
    "ax4.spines['top'].set_visible(False)\n",
    "\n",
    "ax4.text(0.05, 1,'Delhi', transform = ax4.transAxes, fontsize=20)\n",
    "\n",
    "for i in range(n):\n",
    "    \n",
    "    ax.append(fig.add_subplot(gs[i+2,:]))\n",
    "    ef = df.iloc[i+3].rename_axis('date').reset_index()\n",
    "    ef['date'] = ef['date'].astype('datetime64[ns]')\n",
    "    ax[i].bar(ef.date,ef.iloc[:,-1],color = '#007acc',alpha=0.3)\n",
    "    ax[i].plot(ef.date,ef.iloc[:,-1],marker='o',color='#007acc')\n",
    "    ax[i].text(0.02,0.5,f'{ef.columns.values[-1]}',transform = ax[i].transAxes, fontsize = 20);\n",
    "    ax[i].xaxis.set_major_locator(mdates.WeekdayLocator())\n",
    "    ax[i].xaxis.set_major_formatter(mdates.DateFormatter('%b %d'))\n",
    "    ax[i].set_ylim([0,7000])\n",
    "    ax[i].spines['right'].set_visible(False)\n",
    "    ax[i].spines['top'].set_visible(False)\n",
    "plt.tight_layout()\n"
   ]
  },
  {
   "cell_type": "code",
   "execution_count": 20,
   "metadata": {
    "execution": {
     "iopub.execute_input": "2020-08-23T12:37:10.085492Z",
     "iopub.status.busy": "2020-08-23T12:37:10.084712Z",
     "iopub.status.idle": "2020-08-23T12:37:10.087108Z",
     "shell.execute_reply": "2020-08-23T12:37:10.087580Z"
    },
    "papermill": {
     "duration": 0.032788,
     "end_time": "2020-08-23T12:37:10.087722",
     "exception": false,
     "start_time": "2020-08-23T12:37:10.054934",
     "status": "completed"
    },
    "tags": []
   },
   "outputs": [
    {
     "name": "stdout",
     "output_type": "stream",
     "text": [
      "                                   states   Cases  Deaths  PCases  PDeaths  Cases (+)  Deaths (+)  Fatality Rate\n",
      "                              Maharashtra  671942   21995  671942    21995          0           0           3.27\n",
      "                               Tamil Nadu  373410    6420  373410     6420          0           0           1.72\n",
      "                           Andhra Pradesh  353111    3282  345216     3189       7895          93           0.93\n",
      "                                Karnataka  271876    4615  271876     4615          0           0           1.70\n",
      "                            Uttar Pradesh  187781    2926  182456     2867       5325          59           1.56\n",
      "                                    Delhi  160016    4284  160016     4284          0           0           2.68\n",
      "                              West Bengal  135596    2737  135596     2737          0           0           2.02\n",
      "                                    Bihar  119909     601  119909      601          0           0           0.50\n",
      "                                Telangana  104249     755  101865      744       2384          11           0.72\n",
      "                                    Assam   89469     234   89469      234          0           0           0.26\n",
      "                                  Gujarat   85678    2881   85678     2881          0           0           3.36\n",
      "                                   Odisha   78530     462   75537      452       2993          10           0.59\n",
      "                                Rajasthan   69961     950   69264      944        697           6           1.36\n",
      "                                   Kerala   56354     219   56354      219          0           0           0.39\n",
      "                                  Haryana   53290     597   53290      597          0           0           1.12\n",
      "                           Madhya Pradesh   51866    1206   51866     1206          0           0           2.33\n",
      "                                   Punjab   40643    1036   40643     1036          0           0           2.55\n",
      "                        Jammu and Kashmir   31981     608   31981      608          0           0           1.90\n",
      "                                Jharkhand   29103     310   29103      310          0           0           1.07\n",
      "                             Chhattisgarh   20214     190   20214      190          0           0           0.94\n",
      "                              Uttarakhand   14566     195   14566      195          0           0           1.34\n",
      "                                      Goa   13790     140   13790      140          0           0           1.02\n",
      "                               Puducherry   10522     159   10112      151        410           8           1.51\n",
      "                                  Tripura    8717      72    8386       70        331           2           0.83\n",
      "                                  Manipur    5132      22    5132       22          0           0           0.43\n",
      "                         Himachal Pradesh    4905      28    4895       28         10           0           0.57\n",
      "                                 Nagaland    3686       8    3635        8         51           0           0.22\n",
      "                        Arunachal Pradesh    3223       5    3223        5          0           0           0.16\n",
      "              Andaman and Nicobar Islands    2808      32    2808       32          0           0           1.14\n",
      "                               Chandigarh    2776      33    2776       33          0           0           1.19\n",
      "                                   Ladakh    2210      21    2210       21          0           0           0.95\n",
      " Dadra and Nagar Haveli and Daman and Diu    2143       2    2123        2         20           0           0.09\n",
      "                                Meghalaya    1811       7    1811        7          0           0           0.39\n",
      "                                   Sikkim    1381       3    1381        3          0           0           0.22\n",
      "                                  Mizoram     918       0     903        0         15           0           0.00\n",
      "                              Lakshadweep       0       0       0        0          0           0            NaN\n"
     ]
    }
   ],
   "source": [
    "#hide_input\n",
    "print(df_table.to_string(index=False))"
   ]
  },
  {
   "cell_type": "code",
   "execution_count": null,
   "metadata": {
    "papermill": {
     "duration": 0.022771,
     "end_time": "2020-08-23T12:37:10.132785",
     "exception": false,
     "start_time": "2020-08-23T12:37:10.110014",
     "status": "completed"
    },
    "tags": []
   },
   "outputs": [],
   "source": []
  },
  {
   "cell_type": "code",
   "execution_count": null,
   "metadata": {
    "papermill": {
     "duration": 0.024819,
     "end_time": "2020-08-23T12:37:10.179042",
     "exception": false,
     "start_time": "2020-08-23T12:37:10.154223",
     "status": "completed"
    },
    "tags": []
   },
   "outputs": [],
   "source": []
  }
 ],
 "metadata": {
  "kernelspec": {
   "display_name": "Python 3",
   "language": "python",
   "name": "python3"
  },
  "language_info": {
   "codemirror_mode": {
    "name": "ipython",
    "version": 3
   },
   "file_extension": ".py",
   "mimetype": "text/x-python",
   "name": "python",
   "nbconvert_exporter": "python",
   "pygments_lexer": "ipython3",
   "version": "3.6.11"
  },
  "papermill": {
   "duration": 8.650055,
   "end_time": "2020-08-23T12:37:10.610219",
   "environment_variables": {},
   "exception": null,
   "input_path": "latest.ipynb",
   "output_path": "latest.ipynb",
   "parameters": {},
   "start_time": "2020-08-23T12:37:01.960164",
   "version": "2.1.2"
  }
 },
 "nbformat": 4,
 "nbformat_minor": 4
}