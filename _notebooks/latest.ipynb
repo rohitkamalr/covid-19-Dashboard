{
 "cells": [
  {
   "cell_type": "markdown",
   "metadata": {
    "papermill": {
     "duration": 0.019191,
     "end_time": "2020-09-20T12:27:42.968214",
     "exception": false,
     "start_time": "2020-09-20T12:27:42.949023",
     "status": "completed"
    },
    "tags": []
   },
   "source": [
    "# Latest COVID-19 India Matplotlib Overview"
   ]
  },
  {
   "cell_type": "code",
   "execution_count": 1,
   "metadata": {
    "execution": {
     "iopub.execute_input": "2020-09-20T12:27:43.006166Z",
     "iopub.status.busy": "2020-09-20T12:27:43.005575Z",
     "iopub.status.idle": "2020-09-20T12:27:43.608436Z",
     "shell.execute_reply": "2020-09-20T12:27:43.607548Z"
    },
    "papermill": {
     "duration": 0.624308,
     "end_time": "2020-09-20T12:27:43.608678",
     "exception": false,
     "start_time": "2020-09-20T12:27:42.984370",
     "status": "completed"
    },
    "tags": []
   },
   "outputs": [],
   "source": [
    "#hide\n",
    "import pandas as pd\n",
    "import numpy as np\n",
    "import requests\n",
    "import json\n",
    "import matplotlib.pyplot as plt\n",
    "import matplotlib.dates as mdates\n",
    "import matplotlib as mpl\n",
    "from IPython.core.display import display,HTML\n",
    "%matplotlib inline\n",
    "from datetime import date"
   ]
  },
  {
   "cell_type": "code",
   "execution_count": 2,
   "metadata": {
    "execution": {
     "iopub.execute_input": "2020-09-20T12:27:43.652426Z",
     "iopub.status.busy": "2020-09-20T12:27:43.651853Z",
     "iopub.status.idle": "2020-09-20T12:27:44.054943Z",
     "shell.execute_reply": "2020-09-20T12:27:44.054076Z"
    },
    "papermill": {
     "duration": 0.429391,
     "end_time": "2020-09-20T12:27:44.055167",
     "exception": false,
     "start_time": "2020-09-20T12:27:43.625776",
     "status": "completed"
    },
    "tags": []
   },
   "outputs": [],
   "source": [
    "#hide\n",
    "df  = pd.read_csv('https://api.covid19india.org/csv/latest/states.csv')\n",
    "df = df[['Date','State','Confirmed','Deceased']]\n",
    "df = df.rename(columns={'Confirmed':'Cases', \"Deceased\":'Deaths'})\n",
    "df_cases = df[[\"Date\",'State','Cases']]\n",
    "df_deaths = df[['Date','State','Deaths']]\n",
    "df_cases1 = df_cases.groupby('Date')\n",
    "df_deaths1= df_deaths.groupby('Date')"
   ]
  },
  {
   "cell_type": "code",
   "execution_count": 3,
   "metadata": {
    "execution": {
     "iopub.execute_input": "2020-09-20T12:27:44.096853Z",
     "iopub.status.busy": "2020-09-20T12:27:44.096184Z",
     "iopub.status.idle": "2020-09-20T12:27:44.113240Z",
     "shell.execute_reply": "2020-09-20T12:27:44.112696Z"
    },
    "papermill": {
     "duration": 0.042348,
     "end_time": "2020-09-20T12:27:44.113381",
     "exception": false,
     "start_time": "2020-09-20T12:27:44.071033",
     "status": "completed"
    },
    "tags": []
   },
   "outputs": [],
   "source": [
    "#hide\n",
    "df_snap = pd.read_csv('data/SnapshotCases-28-July.csv')\n",
    "arr_states = df_snap['states'].unique()\n",
    "arr_dates = df['Date'].unique()\n",
    "df_snap = df_snap.set_index('states')"
   ]
  },
  {
   "cell_type": "code",
   "execution_count": 4,
   "metadata": {
    "execution": {
     "iopub.execute_input": "2020-09-20T12:27:44.151247Z",
     "iopub.status.busy": "2020-09-20T12:27:44.150642Z",
     "iopub.status.idle": "2020-09-20T12:27:44.153622Z",
     "shell.execute_reply": "2020-09-20T12:27:44.154096Z"
    },
    "papermill": {
     "duration": 0.025595,
     "end_time": "2020-09-20T12:27:44.154243",
     "exception": false,
     "start_time": "2020-09-20T12:27:44.128648",
     "status": "completed"
    },
    "tags": []
   },
   "outputs": [
    {
     "data": {
      "text/plain": [
       "array(['Andaman and Nicobar Islands', 'Andhra Pradesh',\n",
       "       'Arunachal Pradesh', 'Assam', 'Bihar', 'Chandigarh',\n",
       "       'Dadra and Nagar Haveli and Daman and Diu', 'Delhi', 'Goa',\n",
       "       'Gujarat', 'Haryana', 'Himachal Pradesh', 'Jammu and Kashmir',\n",
       "       'Jharkhand', 'Karnataka', 'Kerala', 'Lakshadweep',\n",
       "       'Madhya Pradesh', 'Maharashtra', 'Manipur', 'Meghalaya', 'Mizoram',\n",
       "       'Nagaland', 'Odisha', 'Puducherry', 'Punjab', 'Rajasthan',\n",
       "       'Sikkim', 'Tamil Nadu', 'Telangana', 'Tripura', 'Uttar Pradesh',\n",
       "       'West Bengal', 'Chhattisgarh', 'Ladakh', 'Uttarakhand'],\n",
       "      dtype=object)"
      ]
     },
     "execution_count": 4,
     "metadata": {},
     "output_type": "execute_result"
    }
   ],
   "source": [
    "#hide\n",
    "arr_states[-9] = 'Puducherry'\n",
    "arr_states[-10] = 'Odisha'\n",
    "arr_states[6] = 'Dadra and Nagar Haveli and Daman and Diu'\n",
    "arr_states = np.append(arr_states,np.array(['Chhattisgarh','Ladakh','Uttarakhand']))\n",
    "arr_states"
   ]
  },
  {
   "cell_type": "code",
   "execution_count": 5,
   "metadata": {
    "execution": {
     "iopub.execute_input": "2020-09-20T12:27:44.195720Z",
     "iopub.status.busy": "2020-09-20T12:27:44.193912Z",
     "iopub.status.idle": "2020-09-20T12:27:44.203087Z",
     "shell.execute_reply": "2020-09-20T12:27:44.202578Z"
    },
    "papermill": {
     "duration": 0.033366,
     "end_time": "2020-09-20T12:27:44.203222",
     "exception": false,
     "start_time": "2020-09-20T12:27:44.169856",
     "status": "completed"
    },
    "tags": []
   },
   "outputs": [],
   "source": [
    "#hide\n",
    "dates = []\n",
    "for i in arr_dates:\n",
    "    if i>='2020-07-01':\n",
    "        dates.append(i)\n",
    "dict = {'states':dates}\n",
    "for i in arr_states:\n",
    "    dict[i] = [0]*len(dates)\n",
    "dft_cases = pd.DataFrame(dict)\n",
    "dft_deaths = pd.DataFrame(dict)\n"
   ]
  },
  {
   "cell_type": "code",
   "execution_count": 6,
   "metadata": {
    "execution": {
     "iopub.execute_input": "2020-09-20T12:27:44.241430Z",
     "iopub.status.busy": "2020-09-20T12:27:44.240826Z",
     "iopub.status.idle": "2020-09-20T12:27:45.391658Z",
     "shell.execute_reply": "2020-09-20T12:27:45.390780Z"
    },
    "papermill": {
     "duration": 1.172931,
     "end_time": "2020-09-20T12:27:45.391882",
     "exception": false,
     "start_time": "2020-09-20T12:27:44.218951",
     "status": "completed"
    },
    "tags": []
   },
   "outputs": [],
   "source": [
    "#hide\n",
    "for i in range(len(dates)):\n",
    "    df1_deaths = df_deaths1.get_group(dates[i])\n",
    "    for j in range(len(df1_deaths.index)):\n",
    "        if df1_deaths.iloc[j,1] in arr_states:\n",
    "            dft_deaths.loc[i,df1_deaths.iloc[j,1]] = df1_deaths.iloc[j,2]\n",
    "dft_deaths = dft_deaths.set_index('states')"
   ]
  },
  {
   "cell_type": "code",
   "execution_count": 7,
   "metadata": {
    "execution": {
     "iopub.execute_input": "2020-09-20T12:27:45.434414Z",
     "iopub.status.busy": "2020-09-20T12:27:45.433792Z",
     "iopub.status.idle": "2020-09-20T12:27:46.586390Z",
     "shell.execute_reply": "2020-09-20T12:27:46.585518Z"
    },
    "papermill": {
     "duration": 1.177889,
     "end_time": "2020-09-20T12:27:46.586614",
     "exception": false,
     "start_time": "2020-09-20T12:27:45.408725",
     "status": "completed"
    },
    "tags": []
   },
   "outputs": [],
   "source": [
    "#hide\n",
    "for i in range(len(dates)):\n",
    "    df1_cases = df_cases1.get_group(dates[i])\n",
    "    for j in range(len(df1_cases.index)):\n",
    "        if df1_cases.iloc[j,1] in arr_states:\n",
    "            dft_cases.loc[i,df1_cases.iloc[j,1]] = df1_cases.iloc[j,2]\n",
    "dft_cases = dft_cases.set_index('states')"
   ]
  },
  {
   "cell_type": "code",
   "execution_count": 8,
   "metadata": {
    "execution": {
     "iopub.execute_input": "2020-09-20T12:27:46.629440Z",
     "iopub.status.busy": "2020-09-20T12:27:46.628358Z",
     "iopub.status.idle": "2020-09-20T12:27:46.632261Z",
     "shell.execute_reply": "2020-09-20T12:27:46.631764Z"
    },
    "papermill": {
     "duration": 0.028397,
     "end_time": "2020-09-20T12:27:46.632391",
     "exception": false,
     "start_time": "2020-09-20T12:27:46.603994",
     "status": "completed"
    },
    "tags": []
   },
   "outputs": [],
   "source": [
    "#hide\n",
    "dft_cases = dft_cases.T\n",
    "dft_deaths = dft_deaths.T\n",
    "dt_today = dates[-1]\n",
    "dt_yday = dates[-2]"
   ]
  },
  {
   "cell_type": "code",
   "execution_count": 9,
   "metadata": {
    "execution": {
     "iopub.execute_input": "2020-09-20T12:27:46.674020Z",
     "iopub.status.busy": "2020-09-20T12:27:46.670674Z",
     "iopub.status.idle": "2020-09-20T12:27:46.676645Z",
     "shell.execute_reply": "2020-09-20T12:27:46.676150Z"
    },
    "papermill": {
     "duration": 0.028846,
     "end_time": "2020-09-20T12:27:46.676771",
     "exception": false,
     "start_time": "2020-09-20T12:27:46.647925",
     "status": "completed"
    },
    "tags": []
   },
   "outputs": [],
   "source": [
    "#hide\n",
    "dft_cases = dft_cases.reset_index()\n",
    "dft_deaths = dft_deaths.reset_index()\n",
    "dft_cases = dft_cases.rename(columns = {'index':'state'})\n",
    "dft_deaths = dft_deaths.rename(columns = {'index':'state'})"
   ]
  },
  {
   "cell_type": "code",
   "execution_count": 10,
   "metadata": {
    "execution": {
     "iopub.execute_input": "2020-09-20T12:27:46.719907Z",
     "iopub.status.busy": "2020-09-20T12:27:46.719309Z",
     "iopub.status.idle": "2020-09-20T12:27:46.721093Z",
     "shell.execute_reply": "2020-09-20T12:27:46.721558Z"
    },
    "papermill": {
     "duration": 0.02996,
     "end_time": "2020-09-20T12:27:46.721696",
     "exception": false,
     "start_time": "2020-09-20T12:27:46.691736",
     "status": "completed"
    },
    "tags": []
   },
   "outputs": [],
   "source": [
    "#hide\n",
    "dfc_cases = dft_cases.groupby('state')[dt_today].sum()\n",
    "dfc_deaths = dft_deaths.groupby('state')[dt_today].sum()\n",
    "dfp_cases = dft_cases.groupby('state')[dt_yday].sum()\n",
    "dfp_deaths = dft_deaths.groupby('state')[dt_yday].sum()"
   ]
  },
  {
   "cell_type": "code",
   "execution_count": 11,
   "metadata": {
    "execution": {
     "iopub.execute_input": "2020-09-20T12:27:46.759367Z",
     "iopub.status.busy": "2020-09-20T12:27:46.758798Z",
     "iopub.status.idle": "2020-09-20T12:27:46.772776Z",
     "shell.execute_reply": "2020-09-20T12:27:46.772277Z"
    },
    "papermill": {
     "duration": 0.035783,
     "end_time": "2020-09-20T12:27:46.772934",
     "exception": false,
     "start_time": "2020-09-20T12:27:46.737151",
     "status": "completed"
    },
    "tags": []
   },
   "outputs": [
    {
     "data": {
      "text/html": [
       "<div>\n",
       "<style scoped>\n",
       "    .dataframe tbody tr th:only-of-type {\n",
       "        vertical-align: middle;\n",
       "    }\n",
       "\n",
       "    .dataframe tbody tr th {\n",
       "        vertical-align: top;\n",
       "    }\n",
       "\n",
       "    .dataframe thead th {\n",
       "        text-align: right;\n",
       "    }\n",
       "</style>\n",
       "<table border=\"1\" class=\"dataframe\">\n",
       "  <thead>\n",
       "    <tr style=\"text-align: right;\">\n",
       "      <th></th>\n",
       "      <th>states</th>\n",
       "      <th>Cases</th>\n",
       "      <th>Deaths</th>\n",
       "      <th>PCases</th>\n",
       "      <th>PDeaths</th>\n",
       "    </tr>\n",
       "  </thead>\n",
       "  <tbody>\n",
       "    <tr>\n",
       "      <th>0</th>\n",
       "      <td>Maharashtra</td>\n",
       "      <td>1188015</td>\n",
       "      <td>32216</td>\n",
       "      <td>1188015</td>\n",
       "      <td>32216</td>\n",
       "    </tr>\n",
       "    <tr>\n",
       "      <th>1</th>\n",
       "      <td>Andhra Pradesh</td>\n",
       "      <td>617776</td>\n",
       "      <td>5302</td>\n",
       "      <td>617776</td>\n",
       "      <td>5302</td>\n",
       "    </tr>\n",
       "    <tr>\n",
       "      <th>2</th>\n",
       "      <td>Tamil Nadu</td>\n",
       "      <td>536477</td>\n",
       "      <td>8751</td>\n",
       "      <td>536477</td>\n",
       "      <td>8751</td>\n",
       "    </tr>\n",
       "    <tr>\n",
       "      <th>3</th>\n",
       "      <td>Karnataka</td>\n",
       "      <td>511346</td>\n",
       "      <td>7922</td>\n",
       "      <td>511346</td>\n",
       "      <td>7922</td>\n",
       "    </tr>\n",
       "    <tr>\n",
       "      <th>4</th>\n",
       "      <td>Uttar Pradesh</td>\n",
       "      <td>354275</td>\n",
       "      <td>5047</td>\n",
       "      <td>348517</td>\n",
       "      <td>4953</td>\n",
       "    </tr>\n",
       "  </tbody>\n",
       "</table>\n",
       "</div>"
      ],
      "text/plain": [
       "           states    Cases  Deaths   PCases  PDeaths\n",
       "0     Maharashtra  1188015   32216  1188015    32216\n",
       "1  Andhra Pradesh   617776    5302   617776     5302\n",
       "2      Tamil Nadu   536477    8751   536477     8751\n",
       "3       Karnataka   511346    7922   511346     7922\n",
       "4   Uttar Pradesh   354275    5047   348517     4953"
      ]
     },
     "execution_count": 11,
     "metadata": {},
     "output_type": "execute_result"
    }
   ],
   "source": [
    "#hide\n",
    "df_table = pd.DataFrame({'states': dfc_cases.index, 'Cases': dfc_cases.values, 'Deaths': dfc_deaths.values, 'PCases': dfp_cases.values, 'PDeaths': dfp_deaths.values}).set_index('states')\n",
    "df_table = df_table.sort_values(by = ['Cases','Deaths'], ascending = [False, False])\n",
    "df_table = df_table.reset_index()\n",
    "df_table.head()"
   ]
  },
  {
   "cell_type": "code",
   "execution_count": 12,
   "metadata": {
    "execution": {
     "iopub.execute_input": "2020-09-20T12:27:46.809532Z",
     "iopub.status.busy": "2020-09-20T12:27:46.808982Z",
     "iopub.status.idle": "2020-09-20T12:27:46.818301Z",
     "shell.execute_reply": "2020-09-20T12:27:46.818797Z"
    },
    "papermill": {
     "duration": 0.03033,
     "end_time": "2020-09-20T12:27:46.818946",
     "exception": false,
     "start_time": "2020-09-20T12:27:46.788616",
     "status": "completed"
    },
    "tags": []
   },
   "outputs": [],
   "source": [
    "#hide\n",
    "for c in 'Cases, Deaths'.split(', '):\n",
    "    df_table[f'{c} (+)'] = (df_table[c] - df_table[f'P{c}']).clip(0)\n",
    "df_table['Fatality Rate'] = (100* df_table['Deaths']/ df_table['Cases']).round(2)"
   ]
  },
  {
   "cell_type": "code",
   "execution_count": 13,
   "metadata": {
    "execution": {
     "iopub.execute_input": "2020-09-20T12:27:46.863507Z",
     "iopub.status.busy": "2020-09-20T12:27:46.862905Z",
     "iopub.status.idle": "2020-09-20T12:27:46.866539Z",
     "shell.execute_reply": "2020-09-20T12:27:46.866036Z"
    },
    "papermill": {
     "duration": 0.030926,
     "end_time": "2020-09-20T12:27:46.866675",
     "exception": false,
     "start_time": "2020-09-20T12:27:46.835749",
     "status": "completed"
    },
    "tags": []
   },
   "outputs": [
    {
     "data": {
      "text/html": [
       "<div>\n",
       "<style scoped>\n",
       "    .dataframe tbody tr th:only-of-type {\n",
       "        vertical-align: middle;\n",
       "    }\n",
       "\n",
       "    .dataframe tbody tr th {\n",
       "        vertical-align: top;\n",
       "    }\n",
       "\n",
       "    .dataframe thead th {\n",
       "        text-align: right;\n",
       "    }\n",
       "</style>\n",
       "<table border=\"1\" class=\"dataframe\">\n",
       "  <thead>\n",
       "    <tr style=\"text-align: right;\">\n",
       "      <th></th>\n",
       "      <th>states</th>\n",
       "      <th>Cases</th>\n",
       "      <th>Deaths</th>\n",
       "      <th>PCases</th>\n",
       "      <th>PDeaths</th>\n",
       "      <th>Cases (+)</th>\n",
       "      <th>Deaths (+)</th>\n",
       "      <th>Fatality Rate</th>\n",
       "    </tr>\n",
       "  </thead>\n",
       "  <tbody>\n",
       "    <tr>\n",
       "      <th>0</th>\n",
       "      <td>Maharashtra</td>\n",
       "      <td>1188015</td>\n",
       "      <td>32216</td>\n",
       "      <td>1188015</td>\n",
       "      <td>32216</td>\n",
       "      <td>0</td>\n",
       "      <td>0</td>\n",
       "      <td>2.71</td>\n",
       "    </tr>\n",
       "    <tr>\n",
       "      <th>1</th>\n",
       "      <td>Andhra Pradesh</td>\n",
       "      <td>617776</td>\n",
       "      <td>5302</td>\n",
       "      <td>617776</td>\n",
       "      <td>5302</td>\n",
       "      <td>0</td>\n",
       "      <td>0</td>\n",
       "      <td>0.86</td>\n",
       "    </tr>\n",
       "    <tr>\n",
       "      <th>2</th>\n",
       "      <td>Tamil Nadu</td>\n",
       "      <td>536477</td>\n",
       "      <td>8751</td>\n",
       "      <td>536477</td>\n",
       "      <td>8751</td>\n",
       "      <td>0</td>\n",
       "      <td>0</td>\n",
       "      <td>1.63</td>\n",
       "    </tr>\n",
       "    <tr>\n",
       "      <th>3</th>\n",
       "      <td>Karnataka</td>\n",
       "      <td>511346</td>\n",
       "      <td>7922</td>\n",
       "      <td>511346</td>\n",
       "      <td>7922</td>\n",
       "      <td>0</td>\n",
       "      <td>0</td>\n",
       "      <td>1.55</td>\n",
       "    </tr>\n",
       "    <tr>\n",
       "      <th>4</th>\n",
       "      <td>Uttar Pradesh</td>\n",
       "      <td>354275</td>\n",
       "      <td>5047</td>\n",
       "      <td>348517</td>\n",
       "      <td>4953</td>\n",
       "      <td>5758</td>\n",
       "      <td>94</td>\n",
       "      <td>1.42</td>\n",
       "    </tr>\n",
       "  </tbody>\n",
       "</table>\n",
       "</div>"
      ],
      "text/plain": [
       "           states    Cases  Deaths   PCases  PDeaths  Cases (+)  Deaths (+)  \\\n",
       "0     Maharashtra  1188015   32216  1188015    32216          0           0   \n",
       "1  Andhra Pradesh   617776    5302   617776     5302          0           0   \n",
       "2      Tamil Nadu   536477    8751   536477     8751          0           0   \n",
       "3       Karnataka   511346    7922   511346     7922          0           0   \n",
       "4   Uttar Pradesh   354275    5047   348517     4953       5758          94   \n",
       "\n",
       "   Fatality Rate  \n",
       "0           2.71  \n",
       "1           0.86  \n",
       "2           1.63  \n",
       "3           1.55  \n",
       "4           1.42  "
      ]
     },
     "execution_count": 13,
     "metadata": {},
     "output_type": "execute_result"
    }
   ],
   "source": [
    "#hide\n",
    "df_table.head()"
   ]
  },
  {
   "cell_type": "code",
   "execution_count": 14,
   "metadata": {
    "execution": {
     "iopub.execute_input": "2020-09-20T12:27:46.907456Z",
     "iopub.status.busy": "2020-09-20T12:27:46.906902Z",
     "iopub.status.idle": "2020-09-20T12:27:46.923194Z",
     "shell.execute_reply": "2020-09-20T12:27:46.922717Z"
    },
    "papermill": {
     "duration": 0.040315,
     "end_time": "2020-09-20T12:27:46.923326",
     "exception": false,
     "start_time": "2020-09-20T12:27:46.883011",
     "status": "completed"
    },
    "tags": []
   },
   "outputs": [
    {
     "data": {
      "text/plain": [
       "{'updated': '2020-09-20',\n",
       " 'since': '2020-09-19',\n",
       " 'Cases': 5412565,\n",
       " 'PCases': 5398230,\n",
       " 'Deaths': 86893,\n",
       " 'PDeaths': 86774,\n",
       " 'Cases (+)': 14335,\n",
       " 'Deaths (+)': 119}"
      ]
     },
     "execution_count": 14,
     "metadata": {},
     "output_type": "execute_result"
    }
   ],
   "source": [
    "#hide\n",
    "summary = {'updated':dates[-1], 'since':dates[-2]}\n",
    "list_names = ['Cases', 'PCases', 'Deaths', 'PDeaths', 'Cases (+)', 'Deaths (+)']\n",
    "for name in list_names:\n",
    "    summary[name] = df_table.sum()[name]\n",
    "summary"
   ]
  },
  {
   "cell_type": "code",
   "execution_count": 15,
   "metadata": {
    "execution": {
     "iopub.execute_input": "2020-09-20T12:27:46.965012Z",
     "iopub.status.busy": "2020-09-20T12:27:46.964386Z",
     "iopub.status.idle": "2020-09-20T12:27:46.967203Z",
     "shell.execute_reply": "2020-09-20T12:27:46.966700Z"
    },
    "papermill": {
     "duration": 0.027326,
     "end_time": "2020-09-20T12:27:46.967329",
     "exception": false,
     "start_time": "2020-09-20T12:27:46.940003",
     "status": "completed"
    },
    "tags": []
   },
   "outputs": [],
   "source": [
    "#hide\n",
    "overview = '''\n",
    "<!-- #######  HTML!! #########-->\n",
    "<h1 style=\"color: #5e9ca0; text-align: center;\">India</h1>\n",
    "<p style=\"text-align: center;\">Last update: <strong>{update}</strong></p>\n",
    "<p style=\"text-align: center;\">Confirmed cases:</p>\n",
    "<p style=\"text-align: center;font-size:24px;\">{cases} (<span style=\"color: #ff0000;\">+{new}</span>)</p>\n",
    "<p style=\"text-align: center;\">Confirmed deaths:</p>\n",
    "<p style=\"text-align: center;font-size:24px;\">{deaths} (<span style=\"color: #ff0000;\">+{dnew}</span>)</p>\n",
    "'''"
   ]
  },
  {
   "cell_type": "code",
   "execution_count": 16,
   "metadata": {
    "execution": {
     "iopub.execute_input": "2020-09-20T12:27:47.007911Z",
     "iopub.status.busy": "2020-09-20T12:27:47.007337Z",
     "iopub.status.idle": "2020-09-20T12:27:47.010213Z",
     "shell.execute_reply": "2020-09-20T12:27:47.010657Z"
    },
    "papermill": {
     "duration": 0.026762,
     "end_time": "2020-09-20T12:27:47.010819",
     "exception": false,
     "start_time": "2020-09-20T12:27:46.984057",
     "status": "completed"
    },
    "tags": []
   },
   "outputs": [
    {
     "data": {
      "text/html": [
       "\n",
       "<!-- #######  HTML!! #########-->\n",
       "<h1 style=\"color: #5e9ca0; text-align: center;\">India</h1>\n",
       "<p style=\"text-align: center;\">Last update: <strong>2020-09-20</strong></p>\n",
       "<p style=\"text-align: center;\">Confirmed cases:</p>\n",
       "<p style=\"text-align: center;font-size:24px;\">5412565 (<span style=\"color: #ff0000;\">+14335</span>)</p>\n",
       "<p style=\"text-align: center;\">Confirmed deaths:</p>\n",
       "<p style=\"text-align: center;font-size:24px;\">86893 (<span style=\"color: #ff0000;\">+119</span>)</p>\n"
      ],
      "text/plain": [
       "<IPython.core.display.HTML object>"
      ]
     },
     "metadata": {},
     "output_type": "display_data"
    }
   ],
   "source": [
    "#hide_input\n",
    "update = summary['updated']\n",
    "cases = summary['Cases']\n",
    "new = summary['Cases (+)']\n",
    "deaths = summary['Deaths']\n",
    "dnew = summary['Deaths (+)']\n",
    "\n",
    "html = HTML(overview.format(update=update, cases=cases,new=new,deaths=deaths,dnew=dnew))\n",
    "\n",
    "display(html)"
   ]
  },
  {
   "cell_type": "code",
   "execution_count": 17,
   "metadata": {
    "execution": {
     "iopub.execute_input": "2020-09-20T12:27:47.053638Z",
     "iopub.status.busy": "2020-09-20T12:27:47.053037Z",
     "iopub.status.idle": "2020-09-20T12:27:47.058411Z",
     "shell.execute_reply": "2020-09-20T12:27:47.058910Z"
    },
    "papermill": {
     "duration": 0.031605,
     "end_time": "2020-09-20T12:27:47.059057",
     "exception": false,
     "start_time": "2020-09-20T12:27:47.027452",
     "status": "completed"
    },
    "tags": []
   },
   "outputs": [],
   "source": [
    "#hide\n",
    "dt_cols = list(dft_cases.columns[1:])\n",
    "dft_ct_new_cases = dft_cases.groupby('state')[dt_cols].sum().diff(axis=1).fillna(0).astype(int)\n",
    "dft_ct_new_cases.sort_values(by = dates[-1], ascending = False,inplace = True)"
   ]
  },
  {
   "cell_type": "code",
   "execution_count": 18,
   "metadata": {
    "execution": {
     "iopub.execute_input": "2020-09-20T12:27:47.112227Z",
     "iopub.status.busy": "2020-09-20T12:27:47.111621Z",
     "iopub.status.idle": "2020-09-20T12:27:47.115551Z",
     "shell.execute_reply": "2020-09-20T12:27:47.116107Z"
    },
    "papermill": {
     "duration": 0.03978,
     "end_time": "2020-09-20T12:27:47.116258",
     "exception": false,
     "start_time": "2020-09-20T12:27:47.076478",
     "status": "completed"
    },
    "tags": []
   },
   "outputs": [
    {
     "data": {
      "text/html": [
       "<div>\n",
       "<style scoped>\n",
       "    .dataframe tbody tr th:only-of-type {\n",
       "        vertical-align: middle;\n",
       "    }\n",
       "\n",
       "    .dataframe tbody tr th {\n",
       "        vertical-align: top;\n",
       "    }\n",
       "\n",
       "    .dataframe thead th {\n",
       "        text-align: right;\n",
       "    }\n",
       "</style>\n",
       "<table border=\"1\" class=\"dataframe\">\n",
       "  <thead>\n",
       "    <tr style=\"text-align: right;\">\n",
       "      <th>states</th>\n",
       "      <th>2020-07-01</th>\n",
       "      <th>2020-07-02</th>\n",
       "      <th>2020-07-03</th>\n",
       "      <th>2020-07-04</th>\n",
       "      <th>2020-07-05</th>\n",
       "      <th>2020-07-06</th>\n",
       "      <th>2020-07-07</th>\n",
       "      <th>2020-07-08</th>\n",
       "      <th>2020-07-09</th>\n",
       "      <th>2020-07-10</th>\n",
       "      <th>...</th>\n",
       "      <th>2020-09-11</th>\n",
       "      <th>2020-09-12</th>\n",
       "      <th>2020-09-13</th>\n",
       "      <th>2020-09-14</th>\n",
       "      <th>2020-09-15</th>\n",
       "      <th>2020-09-16</th>\n",
       "      <th>2020-09-17</th>\n",
       "      <th>2020-09-18</th>\n",
       "      <th>2020-09-19</th>\n",
       "      <th>2020-09-20</th>\n",
       "    </tr>\n",
       "    <tr>\n",
       "      <th>state</th>\n",
       "      <th></th>\n",
       "      <th></th>\n",
       "      <th></th>\n",
       "      <th></th>\n",
       "      <th></th>\n",
       "      <th></th>\n",
       "      <th></th>\n",
       "      <th></th>\n",
       "      <th></th>\n",
       "      <th></th>\n",
       "      <th></th>\n",
       "      <th></th>\n",
       "      <th></th>\n",
       "      <th></th>\n",
       "      <th></th>\n",
       "      <th></th>\n",
       "      <th></th>\n",
       "      <th></th>\n",
       "      <th></th>\n",
       "      <th></th>\n",
       "      <th></th>\n",
       "    </tr>\n",
       "  </thead>\n",
       "  <tbody>\n",
       "    <tr>\n",
       "      <th>Uttar Pradesh</th>\n",
       "      <td>0</td>\n",
       "      <td>769</td>\n",
       "      <td>972</td>\n",
       "      <td>757</td>\n",
       "      <td>1153</td>\n",
       "      <td>929</td>\n",
       "      <td>1332</td>\n",
       "      <td>1188</td>\n",
       "      <td>1206</td>\n",
       "      <td>1338</td>\n",
       "      <td>...</td>\n",
       "      <td>7016</td>\n",
       "      <td>6786</td>\n",
       "      <td>6205</td>\n",
       "      <td>5159</td>\n",
       "      <td>6841</td>\n",
       "      <td>6229</td>\n",
       "      <td>6029</td>\n",
       "      <td>6494</td>\n",
       "      <td>5729</td>\n",
       "      <td>5758</td>\n",
       "    </tr>\n",
       "    <tr>\n",
       "      <th>Odisha</th>\n",
       "      <td>0</td>\n",
       "      <td>229</td>\n",
       "      <td>561</td>\n",
       "      <td>495</td>\n",
       "      <td>469</td>\n",
       "      <td>456</td>\n",
       "      <td>571</td>\n",
       "      <td>527</td>\n",
       "      <td>577</td>\n",
       "      <td>755</td>\n",
       "      <td>...</td>\n",
       "      <td>3996</td>\n",
       "      <td>3777</td>\n",
       "      <td>3913</td>\n",
       "      <td>4198</td>\n",
       "      <td>3645</td>\n",
       "      <td>4270</td>\n",
       "      <td>4241</td>\n",
       "      <td>4180</td>\n",
       "      <td>4209</td>\n",
       "      <td>4330</td>\n",
       "    </tr>\n",
       "    <tr>\n",
       "      <th>Telangana</th>\n",
       "      <td>0</td>\n",
       "      <td>1213</td>\n",
       "      <td>1892</td>\n",
       "      <td>1850</td>\n",
       "      <td>1590</td>\n",
       "      <td>1831</td>\n",
       "      <td>1879</td>\n",
       "      <td>1924</td>\n",
       "      <td>1410</td>\n",
       "      <td>1278</td>\n",
       "      <td>...</td>\n",
       "      <td>2426</td>\n",
       "      <td>2278</td>\n",
       "      <td>2216</td>\n",
       "      <td>1417</td>\n",
       "      <td>2058</td>\n",
       "      <td>2273</td>\n",
       "      <td>2159</td>\n",
       "      <td>2043</td>\n",
       "      <td>2123</td>\n",
       "      <td>2137</td>\n",
       "    </tr>\n",
       "    <tr>\n",
       "      <th>Bihar</th>\n",
       "      <td>0</td>\n",
       "      <td>478</td>\n",
       "      <td>426</td>\n",
       "      <td>349</td>\n",
       "      <td>403</td>\n",
       "      <td>280</td>\n",
       "      <td>385</td>\n",
       "      <td>749</td>\n",
       "      <td>704</td>\n",
       "      <td>352</td>\n",
       "      <td>...</td>\n",
       "      <td>1710</td>\n",
       "      <td>1421</td>\n",
       "      <td>1523</td>\n",
       "      <td>1137</td>\n",
       "      <td>1575</td>\n",
       "      <td>1531</td>\n",
       "      <td>1592</td>\n",
       "      <td>1147</td>\n",
       "      <td>1616</td>\n",
       "      <td>1555</td>\n",
       "    </tr>\n",
       "    <tr>\n",
       "      <th>Tripura</th>\n",
       "      <td>0</td>\n",
       "      <td>39</td>\n",
       "      <td>93</td>\n",
       "      <td>25</td>\n",
       "      <td>23</td>\n",
       "      <td>111</td>\n",
       "      <td>24</td>\n",
       "      <td>57</td>\n",
       "      <td>16</td>\n",
       "      <td>142</td>\n",
       "      <td>...</td>\n",
       "      <td>559</td>\n",
       "      <td>470</td>\n",
       "      <td>629</td>\n",
       "      <td>255</td>\n",
       "      <td>531</td>\n",
       "      <td>454</td>\n",
       "      <td>527</td>\n",
       "      <td>273</td>\n",
       "      <td>535</td>\n",
       "      <td>525</td>\n",
       "    </tr>\n",
       "  </tbody>\n",
       "</table>\n",
       "<p>5 rows × 82 columns</p>\n",
       "</div>"
      ],
      "text/plain": [
       "states         2020-07-01  2020-07-02  2020-07-03  2020-07-04  2020-07-05  \\\n",
       "state                                                                       \n",
       "Uttar Pradesh           0         769         972         757        1153   \n",
       "Odisha                  0         229         561         495         469   \n",
       "Telangana               0        1213        1892        1850        1590   \n",
       "Bihar                   0         478         426         349         403   \n",
       "Tripura                 0          39          93          25          23   \n",
       "\n",
       "states         2020-07-06  2020-07-07  2020-07-08  2020-07-09  2020-07-10  \\\n",
       "state                                                                       \n",
       "Uttar Pradesh         929        1332        1188        1206        1338   \n",
       "Odisha                456         571         527         577         755   \n",
       "Telangana            1831        1879        1924        1410        1278   \n",
       "Bihar                 280         385         749         704         352   \n",
       "Tripura               111          24          57          16         142   \n",
       "\n",
       "states         ...  2020-09-11  2020-09-12  2020-09-13  2020-09-14  \\\n",
       "state          ...                                                   \n",
       "Uttar Pradesh  ...        7016        6786        6205        5159   \n",
       "Odisha         ...        3996        3777        3913        4198   \n",
       "Telangana      ...        2426        2278        2216        1417   \n",
       "Bihar          ...        1710        1421        1523        1137   \n",
       "Tripura        ...         559         470         629         255   \n",
       "\n",
       "states         2020-09-15  2020-09-16  2020-09-17  2020-09-18  2020-09-19  \\\n",
       "state                                                                       \n",
       "Uttar Pradesh        6841        6229        6029        6494        5729   \n",
       "Odisha               3645        4270        4241        4180        4209   \n",
       "Telangana            2058        2273        2159        2043        2123   \n",
       "Bihar                1575        1531        1592        1147        1616   \n",
       "Tripura               531         454         527         273         535   \n",
       "\n",
       "states         2020-09-20  \n",
       "state                      \n",
       "Uttar Pradesh        5758  \n",
       "Odisha               4330  \n",
       "Telangana            2137  \n",
       "Bihar                1555  \n",
       "Tripura               525  \n",
       "\n",
       "[5 rows x 82 columns]"
      ]
     },
     "execution_count": 18,
     "metadata": {},
     "output_type": "execute_result"
    }
   ],
   "source": [
    "#hide\n",
    "dft_ct_new_cases.head()"
   ]
  },
  {
   "cell_type": "code",
   "execution_count": 19,
   "metadata": {
    "execution": {
     "iopub.execute_input": "2020-09-20T12:27:47.186875Z",
     "iopub.status.busy": "2020-09-20T12:27:47.160549Z",
     "iopub.status.idle": "2020-09-20T12:27:50.648682Z",
     "shell.execute_reply": "2020-09-20T12:27:50.649173Z"
    },
    "papermill": {
     "duration": 3.514747,
     "end_time": "2020-09-20T12:27:50.649340",
     "exception": false,
     "start_time": "2020-09-20T12:27:47.134593",
     "status": "completed"
    },
    "tags": []
   },
   "outputs": [
    {
     "data": {
      "image/png": "[encoded data removed]",
      "text/plain": [
       "<Figure size 1296x2016 with 11 Axes>"
      ]
     },
     "metadata": {
      "needs_background": "light"
     },
     "output_type": "display_data"
    }
   ],
   "source": [
    "#hide_input\n",
    "df = dft_ct_new_cases.copy()\n",
    "df.loc['Total'] = df.sum()\n",
    "n = 5\n",
    "ax = []\n",
    "fig = plt.figure(figsize = (18,28))\n",
    "gs = fig.add_gridspec(n+2, 5)\n",
    "# gs = fig.add_gridspec(2, 3)\n",
    "ax1 = fig.add_subplot(gs[0, :])\n",
    "ef = df.loc['Total'].rename_axis('date').reset_index()\n",
    "ef['date'] = ef['date'].astype('datetime64[ns]')\n",
    "ax1.bar(ef.date,ef.Total,alpha=0.3,color='#007acc')\n",
    "ax1.plot(ef.date,ef.Total , marker=\"o\", color='#007acc')\n",
    "ax1.xaxis.set_major_locator(mdates.WeekdayLocator())\n",
    "ax1.xaxis.set_major_formatter(mdates.DateFormatter('%b %d'))\n",
    "ax1.text(0.02, 0.5,'India daily case count', transform = ax1.transAxes, fontsize=25);\n",
    "ax1.spines['right'].set_visible(False)\n",
    "ax1.spines['top'].set_visible(False)\n",
    "\n",
    "ax2 = fig.add_subplot(gs[1,0])\n",
    "ef = df.loc['Maharashtra'].rename_axis('date').reset_index()\n",
    "ef['date'] = ef['date'].astype('datetime64[ns]')\n",
    "\n",
    "ax2.bar(ef.date, ef.Maharashtra,color = '#007acc',alpha=0.5)\n",
    "ax2.xaxis.set_major_locator(mdates.WeekdayLocator())\n",
    "ax2.xaxis.set_major_formatter(mdates.DateFormatter('%b %d'))\n",
    "ax2.set_xticks(ax2.get_xticks()[::3])\n",
    "maxyval = ef.Maharashtra.max()\n",
    "ax2.set_ylim([0,maxyval])\n",
    "ax2.text(0.05, 0.9,'Maharashtra', transform = ax2.transAxes, fontsize=20);\n",
    "ax2.spines['right'].set_visible(False)\n",
    "ax2.spines['top'].set_visible(False)\n",
    "\n",
    "\n",
    "ax3 = fig.add_subplot(gs[1,1])\n",
    "ef = df.loc['Tamil Nadu'].rename_axis('date').reset_index()\n",
    "ef['date'] = ef['date'].astype('datetime64[ns]')\n",
    "ax3.bar(ef.date, ef['Tamil Nadu'],color = '#007acc',alpha=0.5,)\n",
    "ax3.xaxis.set_major_locator(mdates.WeekdayLocator())\n",
    "ax3.xaxis.set_major_formatter(mdates.DateFormatter('%b %d'))\n",
    "ax3.set_xticks(ax3.get_xticks()[::3])\n",
    "ax3.text(0.05, 0.9,'Tamil Nadu', transform = ax3.transAxes, fontsize=20);\n",
    "ax3.spines['right'].set_visible(False)\n",
    "ax3.spines['top'].set_visible(False)\n",
    "\n",
    "ax5 = fig.add_subplot(gs[1,3])\n",
    "ef = df.loc['Telangana'].rename_axis('date').reset_index()\n",
    "ef['date'] = ef['date'].astype('datetime64[ns]')\n",
    "ax5.bar(ef.date, ef['Telangana'],color = '#007acc',alpha=0.5,)\n",
    "ax5.xaxis.set_major_locator(mdates.WeekdayLocator())\n",
    "ax5.xaxis.set_major_formatter(mdates.DateFormatter('%b %d'))\n",
    "ax5.set_xticks(ax5.get_xticks()[::3])\n",
    "ax5.text(0.05, 0.9,'Telangana', transform = ax5.transAxes, fontsize=20);\n",
    "ax5.spines['right'].set_visible(False)\n",
    "ax5.spines['top'].set_visible(False)\n",
    "\n",
    "ax6 = fig.add_subplot(gs[1,4])\n",
    "ef = df.loc['Andhra Pradesh'].rename_axis('date').reset_index()\n",
    "ef['date'] = ef['date'].astype('datetime64[ns]')\n",
    "ax6.bar(ef.date, ef['Andhra Pradesh'],color = '#007acc',alpha=0.5,)\n",
    "ax6.xaxis.set_major_locator(mdates.WeekdayLocator())\n",
    "ax6.xaxis.set_major_formatter(mdates.DateFormatter('%b %d'))\n",
    "ax6.set_xticks(ax6.get_xticks()[::3])\n",
    "ax6.text(0.05, 1,'Andhra Pradesh', transform = ax6.transAxes, fontsize=20);\n",
    "ax6.spines['right'].set_visible(False)\n",
    "ax6.spines['top'].set_visible(False)\n",
    "\n",
    "ax4 = fig.add_subplot(gs[1,2])\n",
    "ef = df.loc['Delhi'].rename_axis('date').reset_index()\n",
    "ef['date'] = ef['date'].astype('datetime64[ns]')\n",
    "ax4.bar(ef.date, ef.Delhi,color = '#007acc',alpha=0.5)\n",
    "ax4.set_xticks([])\n",
    "ax4.xaxis.set_major_locator(mdates.WeekdayLocator())\n",
    "ax4.xaxis.set_major_formatter(mdates.DateFormatter('%b %d'))\n",
    "ax4.set_xticks(ax4.get_xticks()[::3])\n",
    "ax4.spines['right'].set_visible(False)\n",
    "ax4.spines['top'].set_visible(False)\n",
    "\n",
    "ax4.text(0.05, 1,'Delhi', transform = ax4.transAxes, fontsize=20)\n",
    "\n",
    "for i in range(n):\n",
    "    \n",
    "    ax.append(fig.add_subplot(gs[i+2,:]))\n",
    "    ef = df.iloc[i+3].rename_axis('date').reset_index()\n",
    "    ef['date'] = ef['date'].astype('datetime64[ns]')\n",
    "    ax[i].bar(ef.date,ef.iloc[:,-1],color = '#007acc',alpha=0.3)\n",
    "    ax[i].plot(ef.date,ef.iloc[:,-1],marker='o',color='#007acc')\n",
    "    ax[i].text(0.02,0.5,f'{ef.columns.values[-1]}',transform = ax[i].transAxes, fontsize = 20);\n",
    "    ax[i].xaxis.set_major_locator(mdates.WeekdayLocator())\n",
    "    ax[i].xaxis.set_major_formatter(mdates.DateFormatter('%b %d'))\n",
    "    ax[i].set_ylim([0,7000])\n",
    "    ax[i].spines['right'].set_visible(False)\n",
    "    ax[i].spines['top'].set_visible(False)\n",
    "plt.tight_layout()\n"
   ]
  },
  {
   "cell_type": "code",
   "execution_count": 20,
   "metadata": {
    "execution": {
     "iopub.execute_input": "2020-09-20T12:27:50.705699Z",
     "iopub.status.busy": "2020-09-20T12:27:50.705070Z",
     "iopub.status.idle": "2020-09-20T12:27:50.709563Z",
     "shell.execute_reply": "2020-09-20T12:27:50.710015Z"
    },
    "papermill": {
     "duration": 0.037417,
     "end_time": "2020-09-20T12:27:50.710169",
     "exception": false,
     "start_time": "2020-09-20T12:27:50.672752",
     "status": "completed"
    },
    "tags": []
   },
   "outputs": [
    {
     "name": "stdout",
     "output_type": "stream",
     "text": [
      "                                   states    Cases  Deaths   PCases  PDeaths  Cases (+)  Deaths (+)  Fatality Rate\n",
      "                              Maharashtra  1188015   32216  1188015    32216          0           0           2.71\n",
      "                           Andhra Pradesh   617776    5302   617776     5302          0           0           0.86\n",
      "                               Tamil Nadu   536477    8751   536477     8751          0           0           1.63\n",
      "                                Karnataka   511346    7922   511346     7922          0           0           1.55\n",
      "                            Uttar Pradesh   354275    5047   348517     4953       5758          94           1.42\n",
      "                                    Delhi   242899    4945   242899     4945          0           0           2.04\n",
      "                              West Bengal   221960    4298   221960     4298          0           0           1.94\n",
      "                                   Odisha   179880     754   175550      744       4330          10           0.42\n",
      "                                Telangana   171306    1033   169169     1025       2137           8           0.60\n",
      "                                    Bihar   168542     864   166987      861       1555           3           0.51\n",
      "                                    Assam   155453     548   155453      548          0           0           0.35\n",
      "                                   Kerala   131027     520   131027      520          0           0           0.40\n",
      "                                  Gujarat   121930    3303   121930     3303          0           0           2.71\n",
      "                                Rajasthan   113124    1322   113124     1322          0           0           1.17\n",
      "                                  Haryana   108952    1120   108952     1120          0           0           1.03\n",
      "                           Madhya Pradesh   103065    1943   103065     1943          0           0           1.89\n",
      "                                   Punjab    95529    2757    95529     2757          0           0           2.89\n",
      "                             Chhattisgarh    84234     664    84234      664          0           0           0.79\n",
      "                                Jharkhand    69860     615    69860      615          0           0           0.88\n",
      "                        Jammu and Kashmir    62533     987    62533      987          0           0           1.58\n",
      "                              Uttarakhand    40085     478    40085      478          0           0           1.19\n",
      "                                      Goa    28022     342    28022      342          0           0           1.22\n",
      "                               Puducherry    22456     448    22456      448          0           0           2.00\n",
      "                                  Tripura    22029     239    21504      235        525           4           1.08\n",
      "                         Himachal Pradesh    11908     114    11908      114          0           0           0.96\n",
      "                               Chandigarh     9806     116     9806      116          0           0           1.18\n",
      "                                  Manipur     8724      55     8724       55          0           0           0.63\n",
      "                        Arunachal Pradesh     7250      13     7250       13          0           0           0.18\n",
      "                                 Nagaland     5392      10     5392       10          0           0           0.19\n",
      "                                Meghalaya     4559      36     4559       36          0           0           0.79\n",
      "                                   Ladakh     3708      49     3708       49          0           0           1.32\n",
      "              Andaman and Nicobar Islands     3644      52     3644       52          0           0           1.43\n",
      " Dadra and Nagar Haveli and Daman and Diu     2879       2     2879        2          0           0           0.07\n",
      "                                   Sikkim     2342      28     2342       28          0           0           1.20\n",
      "                                  Mizoram     1578       0     1548        0         30           0           0.00\n",
      "                              Lakshadweep        0       0        0        0          0           0            NaN\n"
     ]
    }
   ],
   "source": [
    "#hide_input\n",
    "print(df_table.to_string(index=False))"
   ]
  },
  {
   "cell_type": "code",
   "execution_count": null,
   "metadata": {
    "papermill": {
     "duration": 0.023639,
     "end_time": "2020-09-20T12:27:50.759685",
     "exception": false,
     "start_time": "2020-09-20T12:27:50.736046",
     "status": "completed"
    },
    "tags": []
   },
   "outputs": [],
   "source": []
  },
  {
   "cell_type": "code",
   "execution_count": null,
   "metadata": {
    "papermill": {
     "duration": 0.023156,
     "end_time": "2020-09-20T12:27:50.806149",
     "exception": false,
     "start_time": "2020-09-20T12:27:50.782993",
     "status": "completed"
    },
    "tags": []
   },
   "outputs": [],
   "source": []
  }
 ],
 "metadata": {
  "kernelspec": {
   "display_name": "Python 3",
   "language": "python",
   "name": "python3"
  },
  "language_info": {
   "codemirror_mode": {
    "name": "ipython",
    "version": 3
   },
   "file_extension": ".py",
   "mimetype": "text/x-python",
   "name": "python",
   "nbconvert_exporter": "python",
   "pygments_lexer": "ipython3",
   "version": "3.6.12"
  },
  "papermill": {
   "duration": 10.315481,
   "end_time": "2020-09-20T12:27:52.190659",
   "environment_variables": {},
   "exception": null,
   "input_path": "latest.ipynb",
   "output_path": "latest.ipynb",
   "parameters": {},
   "start_time": "2020-09-20T12:27:41.875178",
   "version": "2.1.2"
  }
 },
 "nbformat": 4,
 "nbformat_minor": 4
}