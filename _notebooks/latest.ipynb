{
 "cells": [
  {
   "cell_type": "markdown",
   "metadata": {
    "papermill": {
     "duration": 0.021703,
     "end_time": "2020-09-30T11:52:06.018618",
     "exception": false,
     "start_time": "2020-09-30T11:52:05.996915",
     "status": "completed"
    },
    "tags": []
   },
   "source": [
    "# Latest COVID-19 India Matplotlib Overview"
   ]
  },
  {
   "cell_type": "code",
   "execution_count": 1,
   "metadata": {
    "execution": {
     "iopub.execute_input": "2020-09-30T11:52:06.057748Z",
     "iopub.status.busy": "2020-09-30T11:52:06.056839Z",
     "iopub.status.idle": "2020-09-30T11:52:06.703882Z",
     "shell.execute_reply": "2020-09-30T11:52:06.703320Z"
    },
    "papermill": {
     "duration": 0.669177,
     "end_time": "2020-09-30T11:52:06.704043",
     "exception": false,
     "start_time": "2020-09-30T11:52:06.034866",
     "status": "completed"
    },
    "tags": []
   },
   "outputs": [],
   "source": [
    "#hide\n",
    "import pandas as pd\n",
    "import numpy as np\n",
    "import requests\n",
    "import json\n",
    "import matplotlib.pyplot as plt\n",
    "import matplotlib.dates as mdates\n",
    "import matplotlib as mpl\n",
    "from IPython.core.display import display,HTML\n",
    "%matplotlib inline\n",
    "from datetime import date"
   ]
  },
  {
   "cell_type": "code",
   "execution_count": 2,
   "metadata": {
    "execution": {
     "iopub.execute_input": "2020-09-30T11:52:06.752292Z",
     "iopub.status.busy": "2020-09-30T11:52:06.751651Z",
     "iopub.status.idle": "2020-09-30T11:52:07.142217Z",
     "shell.execute_reply": "2020-09-30T11:52:07.141074Z"
    },
    "papermill": {
     "duration": 0.420076,
     "end_time": "2020-09-30T11:52:07.142368",
     "exception": false,
     "start_time": "2020-09-30T11:52:06.722292",
     "status": "completed"
    },
    "tags": []
   },
   "outputs": [],
   "source": [
    "#hide\n",
    "df  = pd.read_csv('https://api.covid19india.org/csv/latest/states.csv')\n",
    "df = df[['Date','State','Confirmed','Deceased']]\n",
    "df = df.rename(columns={'Confirmed':'Cases', \"Deceased\":'Deaths'})\n",
    "df_cases = df[[\"Date\",'State','Cases']]\n",
    "df_deaths = df[['Date','State','Deaths']]\n",
    "df_cases1 = df_cases.groupby('Date')\n",
    "df_deaths1= df_deaths.groupby('Date')"
   ]
  },
  {
   "cell_type": "code",
   "execution_count": 3,
   "metadata": {
    "execution": {
     "iopub.execute_input": "2020-09-30T11:52:07.180286Z",
     "iopub.status.busy": "2020-09-30T11:52:07.179091Z",
     "iopub.status.idle": "2020-09-30T11:52:07.196217Z",
     "shell.execute_reply": "2020-09-30T11:52:07.196697Z"
    },
    "papermill": {
     "duration": 0.038816,
     "end_time": "2020-09-30T11:52:07.196865",
     "exception": false,
     "start_time": "2020-09-30T11:52:07.158049",
     "status": "completed"
    },
    "tags": []
   },
   "outputs": [],
   "source": [
    "#hide\n",
    "df_snap = pd.read_csv('data/SnapshotCases-28-July.csv')\n",
    "arr_states = df_snap['states'].unique()\n",
    "arr_dates = df['Date'].unique()\n",
    "df_snap = df_snap.set_index('states')"
   ]
  },
  {
   "cell_type": "code",
   "execution_count": 4,
   "metadata": {
    "execution": {
     "iopub.execute_input": "2020-09-30T11:52:07.232002Z",
     "iopub.status.busy": "2020-09-30T11:52:07.231367Z",
     "iopub.status.idle": "2020-09-30T11:52:07.239707Z",
     "shell.execute_reply": "2020-09-30T11:52:07.240155Z"
    },
    "papermill": {
     "duration": 0.027761,
     "end_time": "2020-09-30T11:52:07.240313",
     "exception": false,
     "start_time": "2020-09-30T11:52:07.212552",
     "status": "completed"
    },
    "tags": []
   },
   "outputs": [
    {
     "data": {
      "text/plain": [
       "array(['Andaman and Nicobar Islands', 'Andhra Pradesh',\n",
       "       'Arunachal Pradesh', 'Assam', 'Bihar', 'Chandigarh',\n",
       "       'Dadra and Nagar Haveli and Daman and Diu', 'Delhi', 'Goa',\n",
       "       'Gujarat', 'Haryana', 'Himachal Pradesh', 'Jammu and Kashmir',\n",
       "       'Jharkhand', 'Karnataka', 'Kerala', 'Lakshadweep',\n",
       "       'Madhya Pradesh', 'Maharashtra', 'Manipur', 'Meghalaya', 'Mizoram',\n",
       "       'Nagaland', 'Odisha', 'Puducherry', 'Punjab', 'Rajasthan',\n",
       "       'Sikkim', 'Tamil Nadu', 'Telangana', 'Tripura', 'Uttar Pradesh',\n",
       "       'West Bengal', 'Chhattisgarh', 'Ladakh', 'Uttarakhand'],\n",
       "      dtype=object)"
      ]
     },
     "execution_count": 4,
     "metadata": {},
     "output_type": "execute_result"
    }
   ],
   "source": [
    "#hide\n",
    "arr_states[-9] = 'Puducherry'\n",
    "arr_states[-10] = 'Odisha'\n",
    "arr_states[6] = 'Dadra and Nagar Haveli and Daman and Diu'\n",
    "arr_states = np.append(arr_states,np.array(['Chhattisgarh','Ladakh','Uttarakhand']))\n",
    "arr_states"
   ]
  },
  {
   "cell_type": "code",
   "execution_count": 5,
   "metadata": {
    "execution": {
     "iopub.execute_input": "2020-09-30T11:52:07.282746Z",
     "iopub.status.busy": "2020-09-30T11:52:07.282117Z",
     "iopub.status.idle": "2020-09-30T11:52:07.289922Z",
     "shell.execute_reply": "2020-09-30T11:52:07.289384Z"
    },
    "papermill": {
     "duration": 0.034116,
     "end_time": "2020-09-30T11:52:07.290053",
     "exception": false,
     "start_time": "2020-09-30T11:52:07.255937",
     "status": "completed"
    },
    "tags": []
   },
   "outputs": [],
   "source": [
    "#hide\n",
    "dates = []\n",
    "for i in arr_dates:\n",
    "    if i>='2020-07-01':\n",
    "        dates.append(i)\n",
    "dict = {'states':dates}\n",
    "for i in arr_states:\n",
    "    dict[i] = [0]*len(dates)\n",
    "dft_cases = pd.DataFrame(dict)\n",
    "dft_deaths = pd.DataFrame(dict)\n"
   ]
  },
  {
   "cell_type": "code",
   "execution_count": 6,
   "metadata": {
    "execution": {
     "iopub.execute_input": "2020-09-30T11:52:07.327465Z",
     "iopub.status.busy": "2020-09-30T11:52:07.326841Z",
     "iopub.status.idle": "2020-09-30T11:52:08.583646Z",
     "shell.execute_reply": "2020-09-30T11:52:08.582699Z"
    },
    "papermill": {
     "duration": 1.278107,
     "end_time": "2020-09-30T11:52:08.583904",
     "exception": false,
     "start_time": "2020-09-30T11:52:07.305797",
     "status": "completed"
    },
    "tags": []
   },
   "outputs": [],
   "source": [
    "#hide\n",
    "for i in range(len(dates)):\n",
    "    df1_deaths = df_deaths1.get_group(dates[i])\n",
    "    for j in range(len(df1_deaths.index)):\n",
    "        if df1_deaths.iloc[j,1] in arr_states:\n",
    "            dft_deaths.loc[i,df1_deaths.iloc[j,1]] = df1_deaths.iloc[j,2]\n",
    "dft_deaths = dft_deaths.set_index('states')"
   ]
  },
  {
   "cell_type": "code",
   "execution_count": 7,
   "metadata": {
    "execution": {
     "iopub.execute_input": "2020-09-30T11:52:08.627572Z",
     "iopub.status.busy": "2020-09-30T11:52:08.626961Z",
     "iopub.status.idle": "2020-09-30T11:52:09.883503Z",
     "shell.execute_reply": "2020-09-30T11:52:09.882458Z"
    },
    "papermill": {
     "duration": 1.281498,
     "end_time": "2020-09-30T11:52:09.883657",
     "exception": false,
     "start_time": "2020-09-30T11:52:08.602159",
     "status": "completed"
    },
    "tags": []
   },
   "outputs": [],
   "source": [
    "#hide\n",
    "for i in range(len(dates)):\n",
    "    df1_cases = df_cases1.get_group(dates[i])\n",
    "    for j in range(len(df1_cases.index)):\n",
    "        if df1_cases.iloc[j,1] in arr_states:\n",
    "            dft_cases.loc[i,df1_cases.iloc[j,1]] = df1_cases.iloc[j,2]\n",
    "dft_cases = dft_cases.set_index('states')"
   ]
  },
  {
   "cell_type": "code",
   "execution_count": 8,
   "metadata": {
    "execution": {
     "iopub.execute_input": "2020-09-30T11:52:09.920665Z",
     "iopub.status.busy": "2020-09-30T11:52:09.919270Z",
     "iopub.status.idle": "2020-09-30T11:52:09.921326Z",
     "shell.execute_reply": "2020-09-30T11:52:09.921788Z"
    },
    "papermill": {
     "duration": 0.022663,
     "end_time": "2020-09-30T11:52:09.921925",
     "exception": false,
     "start_time": "2020-09-30T11:52:09.899262",
     "status": "completed"
    },
    "tags": []
   },
   "outputs": [],
   "source": [
    "#hide\n",
    "dft_cases = dft_cases.T\n",
    "dft_deaths = dft_deaths.T\n",
    "dt_today = dates[-1]\n",
    "dt_yday = dates[-2]"
   ]
  },
  {
   "cell_type": "code",
   "execution_count": 9,
   "metadata": {
    "execution": {
     "iopub.execute_input": "2020-09-30T11:52:09.958582Z",
     "iopub.status.busy": "2020-09-30T11:52:09.955023Z",
     "iopub.status.idle": "2020-09-30T11:52:09.963557Z",
     "shell.execute_reply": "2020-09-30T11:52:09.963019Z"
    },
    "papermill": {
     "duration": 0.026442,
     "end_time": "2020-09-30T11:52:09.963738",
     "exception": false,
     "start_time": "2020-09-30T11:52:09.937296",
     "status": "completed"
    },
    "tags": []
   },
   "outputs": [],
   "source": [
    "#hide\n",
    "dft_cases = dft_cases.reset_index()\n",
    "dft_deaths = dft_deaths.reset_index()\n",
    "dft_cases = dft_cases.rename(columns = {'index':'state'})\n",
    "dft_deaths = dft_deaths.rename(columns = {'index':'state'})"
   ]
  },
  {
   "cell_type": "code",
   "execution_count": 10,
   "metadata": {
    "execution": {
     "iopub.execute_input": "2020-09-30T11:52:10.007807Z",
     "iopub.status.busy": "2020-09-30T11:52:10.007150Z",
     "iopub.status.idle": "2020-09-30T11:52:10.008782Z",
     "shell.execute_reply": "2020-09-30T11:52:10.009221Z"
    },
    "papermill": {
     "duration": 0.028995,
     "end_time": "2020-09-30T11:52:10.009358",
     "exception": false,
     "start_time": "2020-09-30T11:52:09.980363",
     "status": "completed"
    },
    "tags": []
   },
   "outputs": [],
   "source": [
    "#hide\n",
    "dfc_cases = dft_cases.groupby('state')[dt_today].sum()\n",
    "dfc_deaths = dft_deaths.groupby('state')[dt_today].sum()\n",
    "dfp_cases = dft_cases.groupby('state')[dt_yday].sum()\n",
    "dfp_deaths = dft_deaths.groupby('state')[dt_yday].sum()"
   ]
  },
  {
   "cell_type": "code",
   "execution_count": 11,
   "metadata": {
    "execution": {
     "iopub.execute_input": "2020-09-30T11:52:10.050586Z",
     "iopub.status.busy": "2020-09-30T11:52:10.050005Z",
     "iopub.status.idle": "2020-09-30T11:52:10.061942Z",
     "shell.execute_reply": "2020-09-30T11:52:10.062444Z"
    },
    "papermill": {
     "duration": 0.03774,
     "end_time": "2020-09-30T11:52:10.062585",
     "exception": false,
     "start_time": "2020-09-30T11:52:10.024845",
     "status": "completed"
    },
    "tags": []
   },
   "outputs": [
    {
     "data": {
      "text/html": [
       "<div>\n",
       "<style scoped>\n",
       "    .dataframe tbody tr th:only-of-type {\n",
       "        vertical-align: middle;\n",
       "    }\n",
       "\n",
       "    .dataframe tbody tr th {\n",
       "        vertical-align: top;\n",
       "    }\n",
       "\n",
       "    .dataframe thead th {\n",
       "        text-align: right;\n",
       "    }\n",
       "</style>\n",
       "<table border=\"1\" class=\"dataframe\">\n",
       "  <thead>\n",
       "    <tr style=\"text-align: right;\">\n",
       "      <th></th>\n",
       "      <th>states</th>\n",
       "      <th>Cases</th>\n",
       "      <th>Deaths</th>\n",
       "      <th>PCases</th>\n",
       "      <th>PDeaths</th>\n",
       "    </tr>\n",
       "  </thead>\n",
       "  <tbody>\n",
       "    <tr>\n",
       "      <th>0</th>\n",
       "      <td>Maharashtra</td>\n",
       "      <td>1366129</td>\n",
       "      <td>36181</td>\n",
       "      <td>1366129</td>\n",
       "      <td>36181</td>\n",
       "    </tr>\n",
       "    <tr>\n",
       "      <th>1</th>\n",
       "      <td>Andhra Pradesh</td>\n",
       "      <td>687351</td>\n",
       "      <td>5780</td>\n",
       "      <td>687351</td>\n",
       "      <td>5780</td>\n",
       "    </tr>\n",
       "    <tr>\n",
       "      <th>2</th>\n",
       "      <td>Karnataka</td>\n",
       "      <td>592911</td>\n",
       "      <td>8777</td>\n",
       "      <td>592911</td>\n",
       "      <td>8777</td>\n",
       "    </tr>\n",
       "    <tr>\n",
       "      <th>3</th>\n",
       "      <td>Tamil Nadu</td>\n",
       "      <td>591943</td>\n",
       "      <td>9453</td>\n",
       "      <td>591943</td>\n",
       "      <td>9453</td>\n",
       "    </tr>\n",
       "    <tr>\n",
       "      <th>4</th>\n",
       "      <td>Uttar Pradesh</td>\n",
       "      <td>399082</td>\n",
       "      <td>5784</td>\n",
       "      <td>394856</td>\n",
       "      <td>5715</td>\n",
       "    </tr>\n",
       "  </tbody>\n",
       "</table>\n",
       "</div>"
      ],
      "text/plain": [
       "           states    Cases  Deaths   PCases  PDeaths\n",
       "0     Maharashtra  1366129   36181  1366129    36181\n",
       "1  Andhra Pradesh   687351    5780   687351     5780\n",
       "2       Karnataka   592911    8777   592911     8777\n",
       "3      Tamil Nadu   591943    9453   591943     9453\n",
       "4   Uttar Pradesh   399082    5784   394856     5715"
      ]
     },
     "execution_count": 11,
     "metadata": {},
     "output_type": "execute_result"
    }
   ],
   "source": [
    "#hide\n",
    "df_table = pd.DataFrame({'states': dfc_cases.index, 'Cases': dfc_cases.values, 'Deaths': dfc_deaths.values, 'PCases': dfp_cases.values, 'PDeaths': dfp_deaths.values}).set_index('states')\n",
    "df_table = df_table.sort_values(by = ['Cases','Deaths'], ascending = [False, False])\n",
    "df_table = df_table.reset_index()\n",
    "df_table.head()"
   ]
  },
  {
   "cell_type": "code",
   "execution_count": 12,
   "metadata": {
    "execution": {
     "iopub.execute_input": "2020-09-30T11:52:10.099600Z",
     "iopub.status.busy": "2020-09-30T11:52:10.099014Z",
     "iopub.status.idle": "2020-09-30T11:52:10.107716Z",
     "shell.execute_reply": "2020-09-30T11:52:10.108221Z"
    },
    "papermill": {
     "duration": 0.029897,
     "end_time": "2020-09-30T11:52:10.108370",
     "exception": false,
     "start_time": "2020-09-30T11:52:10.078473",
     "status": "completed"
    },
    "tags": []
   },
   "outputs": [],
   "source": [
    "#hide\n",
    "for c in 'Cases, Deaths'.split(', '):\n",
    "    df_table[f'{c} (+)'] = (df_table[c] - df_table[f'P{c}']).clip(0)\n",
    "df_table['Fatality Rate'] = (100* df_table['Deaths']/ df_table['Cases']).round(2)"
   ]
  },
  {
   "cell_type": "code",
   "execution_count": 13,
   "metadata": {
    "execution": {
     "iopub.execute_input": "2020-09-30T11:52:10.153548Z",
     "iopub.status.busy": "2020-09-30T11:52:10.152937Z",
     "iopub.status.idle": "2020-09-30T11:52:10.155585Z",
     "shell.execute_reply": "2020-09-30T11:52:10.157112Z"
    },
    "papermill": {
     "duration": 0.03259,
     "end_time": "2020-09-30T11:52:10.157280",
     "exception": false,
     "start_time": "2020-09-30T11:52:10.124690",
     "status": "completed"
    },
    "tags": []
   },
   "outputs": [
    {
     "data": {
      "text/html": [
       "<div>\n",
       "<style scoped>\n",
       "    .dataframe tbody tr th:only-of-type {\n",
       "        vertical-align: middle;\n",
       "    }\n",
       "\n",
       "    .dataframe tbody tr th {\n",
       "        vertical-align: top;\n",
       "    }\n",
       "\n",
       "    .dataframe thead th {\n",
       "        text-align: right;\n",
       "    }\n",
       "</style>\n",
       "<table border=\"1\" class=\"dataframe\">\n",
       "  <thead>\n",
       "    <tr style=\"text-align: right;\">\n",
       "      <th></th>\n",
       "      <th>states</th>\n",
       "      <th>Cases</th>\n",
       "      <th>Deaths</th>\n",
       "      <th>PCases</th>\n",
       "      <th>PDeaths</th>\n",
       "      <th>Cases (+)</th>\n",
       "      <th>Deaths (+)</th>\n",
       "      <th>Fatality Rate</th>\n",
       "    </tr>\n",
       "  </thead>\n",
       "  <tbody>\n",
       "    <tr>\n",
       "      <th>0</th>\n",
       "      <td>Maharashtra</td>\n",
       "      <td>1366129</td>\n",
       "      <td>36181</td>\n",
       "      <td>1366129</td>\n",
       "      <td>36181</td>\n",
       "      <td>0</td>\n",
       "      <td>0</td>\n",
       "      <td>2.65</td>\n",
       "    </tr>\n",
       "    <tr>\n",
       "      <th>1</th>\n",
       "      <td>Andhra Pradesh</td>\n",
       "      <td>687351</td>\n",
       "      <td>5780</td>\n",
       "      <td>687351</td>\n",
       "      <td>5780</td>\n",
       "      <td>0</td>\n",
       "      <td>0</td>\n",
       "      <td>0.84</td>\n",
       "    </tr>\n",
       "    <tr>\n",
       "      <th>2</th>\n",
       "      <td>Karnataka</td>\n",
       "      <td>592911</td>\n",
       "      <td>8777</td>\n",
       "      <td>592911</td>\n",
       "      <td>8777</td>\n",
       "      <td>0</td>\n",
       "      <td>0</td>\n",
       "      <td>1.48</td>\n",
       "    </tr>\n",
       "    <tr>\n",
       "      <th>3</th>\n",
       "      <td>Tamil Nadu</td>\n",
       "      <td>591943</td>\n",
       "      <td>9453</td>\n",
       "      <td>591943</td>\n",
       "      <td>9453</td>\n",
       "      <td>0</td>\n",
       "      <td>0</td>\n",
       "      <td>1.60</td>\n",
       "    </tr>\n",
       "    <tr>\n",
       "      <th>4</th>\n",
       "      <td>Uttar Pradesh</td>\n",
       "      <td>399082</td>\n",
       "      <td>5784</td>\n",
       "      <td>394856</td>\n",
       "      <td>5715</td>\n",
       "      <td>4226</td>\n",
       "      <td>69</td>\n",
       "      <td>1.45</td>\n",
       "    </tr>\n",
       "  </tbody>\n",
       "</table>\n",
       "</div>"
      ],
      "text/plain": [
       "           states    Cases  Deaths   PCases  PDeaths  Cases (+)  Deaths (+)  \\\n",
       "0     Maharashtra  1366129   36181  1366129    36181          0           0   \n",
       "1  Andhra Pradesh   687351    5780   687351     5780          0           0   \n",
       "2       Karnataka   592911    8777   592911     8777          0           0   \n",
       "3      Tamil Nadu   591943    9453   591943     9453          0           0   \n",
       "4   Uttar Pradesh   399082    5784   394856     5715       4226          69   \n",
       "\n",
       "   Fatality Rate  \n",
       "0           2.65  \n",
       "1           0.84  \n",
       "2           1.48  \n",
       "3           1.60  \n",
       "4           1.45  "
      ]
     },
     "execution_count": 13,
     "metadata": {},
     "output_type": "execute_result"
    }
   ],
   "source": [
    "#hide\n",
    "df_table.head()"
   ]
  },
  {
   "cell_type": "code",
   "execution_count": 14,
   "metadata": {
    "execution": {
     "iopub.execute_input": "2020-09-30T11:52:10.202131Z",
     "iopub.status.busy": "2020-09-30T11:52:10.201527Z",
     "iopub.status.idle": "2020-09-30T11:52:10.216989Z",
     "shell.execute_reply": "2020-09-30T11:52:10.217468Z"
    },
    "papermill": {
     "duration": 0.041821,
     "end_time": "2020-09-30T11:52:10.217622",
     "exception": false,
     "start_time": "2020-09-30T11:52:10.175801",
     "status": "completed"
    },
    "tags": []
   },
   "outputs": [
    {
     "data": {
      "text/plain": [
       "{'updated': '2020-09-30',\n",
       " 'since': '2020-09-29',\n",
       " 'Cases': 6233700,\n",
       " 'PCases': 6223519,\n",
       " 'Deaths': 97624,\n",
       " 'PDeaths': 97529,\n",
       " 'Cases (+)': 10181,\n",
       " 'Deaths (+)': 95}"
      ]
     },
     "execution_count": 14,
     "metadata": {},
     "output_type": "execute_result"
    }
   ],
   "source": [
    "#hide\n",
    "summary = {'updated':dates[-1], 'since':dates[-2]}\n",
    "list_names = ['Cases', 'PCases', 'Deaths', 'PDeaths', 'Cases (+)', 'Deaths (+)']\n",
    "for name in list_names:\n",
    "    summary[name] = df_table.sum()[name]\n",
    "summary"
   ]
  },
  {
   "cell_type": "code",
   "execution_count": 15,
   "metadata": {
    "execution": {
     "iopub.execute_input": "2020-09-30T11:52:10.257184Z",
     "iopub.status.busy": "2020-09-30T11:52:10.256361Z",
     "iopub.status.idle": "2020-09-30T11:52:10.257941Z",
     "shell.execute_reply": "2020-09-30T11:52:10.259147Z"
    },
    "papermill": {
     "duration": 0.024685,
     "end_time": "2020-09-30T11:52:10.259348",
     "exception": false,
     "start_time": "2020-09-30T11:52:10.234663",
     "status": "completed"
    },
    "tags": []
   },
   "outputs": [],
   "source": [
    "#hide\n",
    "overview = '''\n",
    "<!-- #######  HTML!! #########-->\n",
    "<h1 style=\"color: #5e9ca0; text-align: center;\">India</h1>\n",
    "<p style=\"text-align: center;\">Last update: <strong>{update}</strong></p>\n",
    "<p style=\"text-align: center;\">Confirmed cases:</p>\n",
    "<p style=\"text-align: center;font-size:24px;\">{cases} (<span style=\"color: #ff0000;\">+{new}</span>)</p>\n",
    "<p style=\"text-align: center;\">Confirmed deaths:</p>\n",
    "<p style=\"text-align: center;font-size:24px;\">{deaths} (<span style=\"color: #ff0000;\">+{dnew}</span>)</p>\n",
    "'''"
   ]
  },
  {
   "cell_type": "code",
   "execution_count": 16,
   "metadata": {
    "execution": {
     "iopub.execute_input": "2020-09-30T11:52:10.299425Z",
     "iopub.status.busy": "2020-09-30T11:52:10.298822Z",
     "iopub.status.idle": "2020-09-30T11:52:10.301390Z",
     "shell.execute_reply": "2020-09-30T11:52:10.301931Z"
    },
    "papermill": {
     "duration": 0.025608,
     "end_time": "2020-09-30T11:52:10.302074",
     "exception": false,
     "start_time": "2020-09-30T11:52:10.276466",
     "status": "completed"
    },
    "tags": []
   },
   "outputs": [
    {
     "data": {
      "text/html": [
       "\n",
       "<!-- #######  HTML!! #########-->\n",
       "<h1 style=\"color: #5e9ca0; text-align: center;\">India</h1>\n",
       "<p style=\"text-align: center;\">Last update: <strong>2020-09-30</strong></p>\n",
       "<p style=\"text-align: center;\">Confirmed cases:</p>\n",
       "<p style=\"text-align: center;font-size:24px;\">6233700 (<span style=\"color: #ff0000;\">+10181</span>)</p>\n",
       "<p style=\"text-align: center;\">Confirmed deaths:</p>\n",
       "<p style=\"text-align: center;font-size:24px;\">97624 (<span style=\"color: #ff0000;\">+95</span>)</p>\n"
      ],
      "text/plain": [
       "<IPython.core.display.HTML object>"
      ]
     },
     "metadata": {},
     "output_type": "display_data"
    }
   ],
   "source": [
    "#hide_input\n",
    "update = summary['updated']\n",
    "cases = summary['Cases']\n",
    "new = summary['Cases (+)']\n",
    "deaths = summary['Deaths']\n",
    "dnew = summary['Deaths (+)']\n",
    "\n",
    "html = HTML(overview.format(update=update, cases=cases,new=new,deaths=deaths,dnew=dnew))\n",
    "\n",
    "display(html)"
   ]
  },
  {
   "cell_type": "code",
   "execution_count": 17,
   "metadata": {
    "execution": {
     "iopub.execute_input": "2020-09-30T11:52:10.344134Z",
     "iopub.status.busy": "2020-09-30T11:52:10.343503Z",
     "iopub.status.idle": "2020-09-30T11:52:10.350005Z",
     "shell.execute_reply": "2020-09-30T11:52:10.350586Z"
    },
    "papermill": {
     "duration": 0.031767,
     "end_time": "2020-09-30T11:52:10.350866",
     "exception": false,
     "start_time": "2020-09-30T11:52:10.319099",
     "status": "completed"
    },
    "tags": []
   },
   "outputs": [],
   "source": [
    "#hide\n",
    "dt_cols = list(dft_cases.columns[1:])\n",
    "dft_ct_new_cases = dft_cases.groupby('state')[dt_cols].sum().diff(axis=1).fillna(0).astype(int)\n",
    "dft_ct_new_cases.sort_values(by = dates[-1], ascending = False,inplace = True)"
   ]
  },
  {
   "cell_type": "code",
   "execution_count": 18,
   "metadata": {
    "execution": {
     "iopub.execute_input": "2020-09-30T11:52:10.407933Z",
     "iopub.status.busy": "2020-09-30T11:52:10.407160Z",
     "iopub.status.idle": "2020-09-30T11:52:10.409889Z",
     "shell.execute_reply": "2020-09-30T11:52:10.410511Z"
    },
    "papermill": {
     "duration": 0.040741,
     "end_time": "2020-09-30T11:52:10.410716",
     "exception": false,
     "start_time": "2020-09-30T11:52:10.369975",
     "status": "completed"
    },
    "tags": []
   },
   "outputs": [
    {
     "data": {
      "text/html": [
       "<div>\n",
       "<style scoped>\n",
       "    .dataframe tbody tr th:only-of-type {\n",
       "        vertical-align: middle;\n",
       "    }\n",
       "\n",
       "    .dataframe tbody tr th {\n",
       "        vertical-align: top;\n",
       "    }\n",
       "\n",
       "    .dataframe thead th {\n",
       "        text-align: right;\n",
       "    }\n",
       "</style>\n",
       "<table border=\"1\" class=\"dataframe\">\n",
       "  <thead>\n",
       "    <tr style=\"text-align: right;\">\n",
       "      <th>states</th>\n",
       "      <th>2020-07-01</th>\n",
       "      <th>2020-07-02</th>\n",
       "      <th>2020-07-03</th>\n",
       "      <th>2020-07-04</th>\n",
       "      <th>2020-07-05</th>\n",
       "      <th>2020-07-06</th>\n",
       "      <th>2020-07-07</th>\n",
       "      <th>2020-07-08</th>\n",
       "      <th>2020-07-09</th>\n",
       "      <th>2020-07-10</th>\n",
       "      <th>...</th>\n",
       "      <th>2020-09-21</th>\n",
       "      <th>2020-09-22</th>\n",
       "      <th>2020-09-23</th>\n",
       "      <th>2020-09-24</th>\n",
       "      <th>2020-09-25</th>\n",
       "      <th>2020-09-26</th>\n",
       "      <th>2020-09-27</th>\n",
       "      <th>2020-09-28</th>\n",
       "      <th>2020-09-29</th>\n",
       "      <th>2020-09-30</th>\n",
       "    </tr>\n",
       "    <tr>\n",
       "      <th>state</th>\n",
       "      <th></th>\n",
       "      <th></th>\n",
       "      <th></th>\n",
       "      <th></th>\n",
       "      <th></th>\n",
       "      <th></th>\n",
       "      <th></th>\n",
       "      <th></th>\n",
       "      <th></th>\n",
       "      <th></th>\n",
       "      <th></th>\n",
       "      <th></th>\n",
       "      <th></th>\n",
       "      <th></th>\n",
       "      <th></th>\n",
       "      <th></th>\n",
       "      <th></th>\n",
       "      <th></th>\n",
       "      <th></th>\n",
       "      <th></th>\n",
       "      <th></th>\n",
       "    </tr>\n",
       "  </thead>\n",
       "  <tbody>\n",
       "    <tr>\n",
       "      <th>Uttar Pradesh</th>\n",
       "      <td>0</td>\n",
       "      <td>769</td>\n",
       "      <td>972</td>\n",
       "      <td>757</td>\n",
       "      <td>1153</td>\n",
       "      <td>929</td>\n",
       "      <td>1332</td>\n",
       "      <td>1188</td>\n",
       "      <td>1206</td>\n",
       "      <td>1338</td>\n",
       "      <td>...</td>\n",
       "      <td>4618</td>\n",
       "      <td>5650</td>\n",
       "      <td>5143</td>\n",
       "      <td>4591</td>\n",
       "      <td>4256</td>\n",
       "      <td>4302</td>\n",
       "      <td>4250</td>\n",
       "      <td>3790</td>\n",
       "      <td>3981</td>\n",
       "      <td>4226</td>\n",
       "    </tr>\n",
       "    <tr>\n",
       "      <th>Odisha</th>\n",
       "      <td>0</td>\n",
       "      <td>229</td>\n",
       "      <td>561</td>\n",
       "      <td>495</td>\n",
       "      <td>469</td>\n",
       "      <td>456</td>\n",
       "      <td>571</td>\n",
       "      <td>527</td>\n",
       "      <td>577</td>\n",
       "      <td>755</td>\n",
       "      <td>...</td>\n",
       "      <td>4242</td>\n",
       "      <td>4189</td>\n",
       "      <td>4237</td>\n",
       "      <td>4340</td>\n",
       "      <td>4208</td>\n",
       "      <td>4356</td>\n",
       "      <td>3922</td>\n",
       "      <td>3235</td>\n",
       "      <td>3067</td>\n",
       "      <td>3443</td>\n",
       "    </tr>\n",
       "    <tr>\n",
       "      <th>Telangana</th>\n",
       "      <td>0</td>\n",
       "      <td>1213</td>\n",
       "      <td>1892</td>\n",
       "      <td>1850</td>\n",
       "      <td>1590</td>\n",
       "      <td>1831</td>\n",
       "      <td>1879</td>\n",
       "      <td>1924</td>\n",
       "      <td>1410</td>\n",
       "      <td>1278</td>\n",
       "      <td>...</td>\n",
       "      <td>1302</td>\n",
       "      <td>2166</td>\n",
       "      <td>2296</td>\n",
       "      <td>2176</td>\n",
       "      <td>2381</td>\n",
       "      <td>2239</td>\n",
       "      <td>1967</td>\n",
       "      <td>1378</td>\n",
       "      <td>2072</td>\n",
       "      <td>2103</td>\n",
       "    </tr>\n",
       "    <tr>\n",
       "      <th>Tripura</th>\n",
       "      <td>0</td>\n",
       "      <td>39</td>\n",
       "      <td>93</td>\n",
       "      <td>25</td>\n",
       "      <td>23</td>\n",
       "      <td>111</td>\n",
       "      <td>24</td>\n",
       "      <td>57</td>\n",
       "      <td>16</td>\n",
       "      <td>142</td>\n",
       "      <td>...</td>\n",
       "      <td>243</td>\n",
       "      <td>559</td>\n",
       "      <td>504</td>\n",
       "      <td>451</td>\n",
       "      <td>341</td>\n",
       "      <td>278</td>\n",
       "      <td>320</td>\n",
       "      <td>193</td>\n",
       "      <td>432</td>\n",
       "      <td>381</td>\n",
       "    </tr>\n",
       "    <tr>\n",
       "      <th>Mizoram</th>\n",
       "      <td>0</td>\n",
       "      <td>2</td>\n",
       "      <td>0</td>\n",
       "      <td>2</td>\n",
       "      <td>22</td>\n",
       "      <td>11</td>\n",
       "      <td>1</td>\n",
       "      <td>5</td>\n",
       "      <td>0</td>\n",
       "      <td>23</td>\n",
       "      <td>...</td>\n",
       "      <td>7</td>\n",
       "      <td>106</td>\n",
       "      <td>22</td>\n",
       "      <td>46</td>\n",
       "      <td>27</td>\n",
       "      <td>49</td>\n",
       "      <td>30</td>\n",
       "      <td>43</td>\n",
       "      <td>50</td>\n",
       "      <td>28</td>\n",
       "    </tr>\n",
       "  </tbody>\n",
       "</table>\n",
       "<p>5 rows × 92 columns</p>\n",
       "</div>"
      ],
      "text/plain": [
       "states         2020-07-01  2020-07-02  2020-07-03  2020-07-04  2020-07-05  \\\n",
       "state                                                                       \n",
       "Uttar Pradesh           0         769         972         757        1153   \n",
       "Odisha                  0         229         561         495         469   \n",
       "Telangana               0        1213        1892        1850        1590   \n",
       "Tripura                 0          39          93          25          23   \n",
       "Mizoram                 0           2           0           2          22   \n",
       "\n",
       "states         2020-07-06  2020-07-07  2020-07-08  2020-07-09  2020-07-10  \\\n",
       "state                                                                       \n",
       "Uttar Pradesh         929        1332        1188        1206        1338   \n",
       "Odisha                456         571         527         577         755   \n",
       "Telangana            1831        1879        1924        1410        1278   \n",
       "Tripura               111          24          57          16         142   \n",
       "Mizoram                11           1           5           0          23   \n",
       "\n",
       "states         ...  2020-09-21  2020-09-22  2020-09-23  2020-09-24  \\\n",
       "state          ...                                                   \n",
       "Uttar Pradesh  ...        4618        5650        5143        4591   \n",
       "Odisha         ...        4242        4189        4237        4340   \n",
       "Telangana      ...        1302        2166        2296        2176   \n",
       "Tripura        ...         243         559         504         451   \n",
       "Mizoram        ...           7         106          22          46   \n",
       "\n",
       "states         2020-09-25  2020-09-26  2020-09-27  2020-09-28  2020-09-29  \\\n",
       "state                                                                       \n",
       "Uttar Pradesh        4256        4302        4250        3790        3981   \n",
       "Odisha               4208        4356        3922        3235        3067   \n",
       "Telangana            2381        2239        1967        1378        2072   \n",
       "Tripura               341         278         320         193         432   \n",
       "Mizoram                27          49          30          43          50   \n",
       "\n",
       "states         2020-09-30  \n",
       "state                      \n",
       "Uttar Pradesh        4226  \n",
       "Odisha               3443  \n",
       "Telangana            2103  \n",
       "Tripura               381  \n",
       "Mizoram                28  \n",
       "\n",
       "[5 rows x 92 columns]"
      ]
     },
     "execution_count": 18,
     "metadata": {},
     "output_type": "execute_result"
    }
   ],
   "source": [
    "#hide\n",
    "dft_ct_new_cases.head()"
   ]
  },
  {
   "cell_type": "code",
   "execution_count": 19,
   "metadata": {
    "execution": {
     "iopub.execute_input": "2020-09-30T11:52:10.453156Z",
     "iopub.status.busy": "2020-09-30T11:52:10.452527Z",
     "iopub.status.idle": "2020-09-30T11:52:14.218182Z",
     "shell.execute_reply": "2020-09-30T11:52:14.218678Z"
    },
    "papermill": {
     "duration": 3.788221,
     "end_time": "2020-09-30T11:52:14.218853",
     "exception": false,
     "start_time": "2020-09-30T11:52:10.430632",
     "status": "completed"
    },
    "tags": []
   },
   "outputs": [
    {
     "data": {
      "image/png": "[encoded data removed]",
      "text/plain": [
       "<Figure size 1296x2016 with 11 Axes>"
      ]
     },
     "metadata": {
      "needs_background": "light"
     },
     "output_type": "display_data"
    }
   ],
   "source": [
    "#hide_input\n",
    "df = dft_ct_new_cases.copy()\n",
    "df.loc['Total'] = df.sum()\n",
    "n = 5\n",
    "ax = []\n",
    "fig = plt.figure(figsize = (18,28))\n",
    "gs = fig.add_gridspec(n+2, 5)\n",
    "# gs = fig.add_gridspec(2, 3)\n",
    "ax1 = fig.add_subplot(gs[0, :])\n",
    "ef = df.loc['Total'].rename_axis('date').reset_index()\n",
    "ef['date'] = ef['date'].astype('datetime64[ns]')\n",
    "ax1.bar(ef.date,ef.Total,alpha=0.3,color='#007acc')\n",
    "ax1.plot(ef.date,ef.Total , marker=\"o\", color='#007acc')\n",
    "ax1.xaxis.set_major_locator(mdates.WeekdayLocator())\n",
    "ax1.xaxis.set_major_formatter(mdates.DateFormatter('%b %d'))\n",
    "ax1.text(0.02, 0.5,'India daily case count', transform = ax1.transAxes, fontsize=25);\n",
    "ax1.spines['right'].set_visible(False)\n",
    "ax1.spines['top'].set_visible(False)\n",
    "\n",
    "ax2 = fig.add_subplot(gs[1,0])\n",
    "ef = df.loc['Maharashtra'].rename_axis('date').reset_index()\n",
    "ef['date'] = ef['date'].astype('datetime64[ns]')\n",
    "\n",
    "ax2.bar(ef.date, ef.Maharashtra,color = '#007acc',alpha=0.5)\n",
    "ax2.xaxis.set_major_locator(mdates.WeekdayLocator())\n",
    "ax2.xaxis.set_major_formatter(mdates.DateFormatter('%b %d'))\n",
    "ax2.set_xticks(ax2.get_xticks()[::3])\n",
    "maxyval = ef.Maharashtra.max()\n",
    "ax2.set_ylim([0,maxyval])\n",
    "ax2.text(0.05, 0.9,'Maharashtra', transform = ax2.transAxes, fontsize=20);\n",
    "ax2.spines['right'].set_visible(False)\n",
    "ax2.spines['top'].set_visible(False)\n",
    "\n",
    "\n",
    "ax3 = fig.add_subplot(gs[1,1])\n",
    "ef = df.loc['Tamil Nadu'].rename_axis('date').reset_index()\n",
    "ef['date'] = ef['date'].astype('datetime64[ns]')\n",
    "ax3.bar(ef.date, ef['Tamil Nadu'],color = '#007acc',alpha=0.5,)\n",
    "ax3.xaxis.set_major_locator(mdates.WeekdayLocator())\n",
    "ax3.xaxis.set_major_formatter(mdates.DateFormatter('%b %d'))\n",
    "ax3.set_xticks(ax3.get_xticks()[::3])\n",
    "ax3.text(0.05, 0.9,'Tamil Nadu', transform = ax3.transAxes, fontsize=20);\n",
    "ax3.spines['right'].set_visible(False)\n",
    "ax3.spines['top'].set_visible(False)\n",
    "\n",
    "ax5 = fig.add_subplot(gs[1,3])\n",
    "ef = df.loc['Telangana'].rename_axis('date').reset_index()\n",
    "ef['date'] = ef['date'].astype('datetime64[ns]')\n",
    "ax5.bar(ef.date, ef['Telangana'],color = '#007acc',alpha=0.5,)\n",
    "ax5.xaxis.set_major_locator(mdates.WeekdayLocator())\n",
    "ax5.xaxis.set_major_formatter(mdates.DateFormatter('%b %d'))\n",
    "ax5.set_xticks(ax5.get_xticks()[::3])\n",
    "ax5.text(0.05, 0.9,'Telangana', transform = ax5.transAxes, fontsize=20);\n",
    "ax5.spines['right'].set_visible(False)\n",
    "ax5.spines['top'].set_visible(False)\n",
    "\n",
    "ax6 = fig.add_subplot(gs[1,4])\n",
    "ef = df.loc['Andhra Pradesh'].rename_axis('date').reset_index()\n",
    "ef['date'] = ef['date'].astype('datetime64[ns]')\n",
    "ax6.bar(ef.date, ef['Andhra Pradesh'],color = '#007acc',alpha=0.5,)\n",
    "ax6.xaxis.set_major_locator(mdates.WeekdayLocator())\n",
    "ax6.xaxis.set_major_formatter(mdates.DateFormatter('%b %d'))\n",
    "ax6.set_xticks(ax6.get_xticks()[::3])\n",
    "ax6.text(0.05, 1,'Andhra Pradesh', transform = ax6.transAxes, fontsize=20);\n",
    "ax6.spines['right'].set_visible(False)\n",
    "ax6.spines['top'].set_visible(False)\n",
    "\n",
    "ax4 = fig.add_subplot(gs[1,2])\n",
    "ef = df.loc['Delhi'].rename_axis('date').reset_index()\n",
    "ef['date'] = ef['date'].astype('datetime64[ns]')\n",
    "ax4.bar(ef.date, ef.Delhi,color = '#007acc',alpha=0.5)\n",
    "ax4.set_xticks([])\n",
    "ax4.xaxis.set_major_locator(mdates.WeekdayLocator())\n",
    "ax4.xaxis.set_major_formatter(mdates.DateFormatter('%b %d'))\n",
    "ax4.set_xticks(ax4.get_xticks()[::3])\n",
    "ax4.spines['right'].set_visible(False)\n",
    "ax4.spines['top'].set_visible(False)\n",
    "\n",
    "ax4.text(0.05, 1,'Delhi', transform = ax4.transAxes, fontsize=20)\n",
    "\n",
    "for i in range(n):\n",
    "    \n",
    "    ax.append(fig.add_subplot(gs[i+2,:]))\n",
    "    ef = df.iloc[i+3].rename_axis('date').reset_index()\n",
    "    ef['date'] = ef['date'].astype('datetime64[ns]')\n",
    "    ax[i].bar(ef.date,ef.iloc[:,-1],color = '#007acc',alpha=0.3)\n",
    "    ax[i].plot(ef.date,ef.iloc[:,-1],marker='o',color='#007acc')\n",
    "    ax[i].text(0.02,0.5,f'{ef.columns.values[-1]}',transform = ax[i].transAxes, fontsize = 20);\n",
    "    ax[i].xaxis.set_major_locator(mdates.WeekdayLocator())\n",
    "    ax[i].xaxis.set_major_formatter(mdates.DateFormatter('%b %d'))\n",
    "    ax[i].set_ylim([0,7000])\n",
    "    ax[i].spines['right'].set_visible(False)\n",
    "    ax[i].spines['top'].set_visible(False)\n",
    "plt.tight_layout()\n"
   ]
  },
  {
   "cell_type": "code",
   "execution_count": 20,
   "metadata": {
    "execution": {
     "iopub.execute_input": "2020-09-30T11:52:14.276887Z",
     "iopub.status.busy": "2020-09-30T11:52:14.276278Z",
     "iopub.status.idle": "2020-09-30T11:52:14.279636Z",
     "shell.execute_reply": "2020-09-30T11:52:14.279135Z"
    },
    "papermill": {
     "duration": 0.037174,
     "end_time": "2020-09-30T11:52:14.279761",
     "exception": false,
     "start_time": "2020-09-30T11:52:14.242587",
     "status": "completed"
    },
    "tags": []
   },
   "outputs": [
    {
     "name": "stdout",
     "output_type": "stream",
     "text": [
      "                                   states    Cases  Deaths   PCases  PDeaths  Cases (+)  Deaths (+)  Fatality Rate\n",
      "                              Maharashtra  1366129   36181  1366129    36181          0           0           2.65\n",
      "                           Andhra Pradesh   687351    5780   687351     5780          0           0           0.84\n",
      "                                Karnataka   592911    8777   592911     8777          0           0           1.48\n",
      "                               Tamil Nadu   591943    9453   591943     9453          0           0           1.60\n",
      "                            Uttar Pradesh   399082    5784   394856     5715       4226          69           1.45\n",
      "                                    Delhi   276325    5320   276325     5320          0           0           1.93\n",
      "                              West Bengal   253768    4899   253768     4899          0           0           1.93\n",
      "                                   Odisha   219119     895   215676      881       3443          14           0.41\n",
      "                                Telangana   191386    1127   189283     1116       2103          11           0.59\n",
      "                                   Kerala   187277     720   187277      720          0           0           0.38\n",
      "                                    Bihar   181471     894   181471      894          0           0           0.49\n",
      "                                    Assam   177221     680   177221      680          0           0           0.38\n",
      "                                  Gujarat   136004    3442   136004     3442          0           0           2.53\n",
      "                                Rajasthan   133119    1471   133119     1471          0           0           1.11\n",
      "                                  Haryana   126974    1356   126974     1356          0           0           1.07\n",
      "                           Madhya Pradesh   126043    2281   126043     2281          0           0           1.81\n",
      "                                   Punjab   112460    3359   112460     3359          0           0           2.99\n",
      "                             Chhattisgarh   110655     916   110655      916          0           0           0.83\n",
      "                                Jharkhand    82540     700    82540      700          0           0           0.85\n",
      "                        Jammu and Kashmir    74095    1164    74095     1164          0           0           1.57\n",
      "                              Uttarakhand    47995     591    47995      591          0           0           1.23\n",
      "                                      Goa    32777     419    32777      419          0           0           1.28\n",
      "                               Puducherry    27066     517    27066      517          0           0           1.91\n",
      "                                  Tripura    25731     274    25350      273        381           1           1.06\n",
      "                         Himachal Pradesh    14747     178    14747      178          0           0           1.21\n",
      "                               Chandigarh    11816     158    11816      158          0           0           1.34\n",
      "                                  Manipur    10746      65    10746       65          0           0           0.60\n",
      "                        Arunachal Pradesh     9553      16     9553       16          0           0           0.17\n",
      "                                 Nagaland     6040      12     6040       12          0           0           0.20\n",
      "                                Meghalaya     5463      47     5463       47          0           0           0.86\n",
      "                                   Ladakh     4195      58     4195       58          0           0           1.38\n",
      "              Andaman and Nicobar Islands     3821      53     3821       53          0           0           1.39\n",
      " Dadra and Nagar Haveli and Daman and Diu     3035       2     3035        2          0           0           0.07\n",
      "                                   Sikkim     2856      35     2856       35          0           0           1.23\n",
      "                                  Mizoram     1986       0     1958        0         28           0           0.00\n",
      "                              Lakshadweep        0       0        0        0          0           0            NaN\n"
     ]
    }
   ],
   "source": [
    "#hide_input\n",
    "print(df_table.to_string(index=False))"
   ]
  },
  {
   "cell_type": "code",
   "execution_count": null,
   "metadata": {
    "papermill": {
     "duration": 0.022671,
     "end_time": "2020-09-30T11:52:14.325186",
     "exception": false,
     "start_time": "2020-09-30T11:52:14.302515",
     "status": "completed"
    },
    "tags": []
   },
   "outputs": [],
   "source": []
  },
  {
   "cell_type": "code",
   "execution_count": null,
   "metadata": {
    "papermill": {
     "duration": 0.022952,
     "end_time": "2020-09-30T11:52:14.371011",
     "exception": false,
     "start_time": "2020-09-30T11:52:14.348059",
     "status": "completed"
    },
    "tags": []
   },
   "outputs": [],
   "source": []
  }
 ],
 "metadata": {
  "kernelspec": {
   "display_name": "Python 3",
   "language": "python",
   "name": "python3"
  },
  "language_info": {
   "codemirror_mode": {
    "name": "ipython",
    "version": 3
   },
   "file_extension": ".py",
   "mimetype": "text/x-python",
   "name": "python",
   "nbconvert_exporter": "python",
   "pygments_lexer": "ipython3",
   "version": "3.6.12"
  },
  "papermill": {
   "duration": 9.924128,
   "end_time": "2020-09-30T11:52:14.802306",
   "environment_variables": {},
   "exception": null,
   "input_path": "latest.ipynb",
   "output_path": "latest.ipynb",
   "parameters": {},
   "start_time": "2020-09-30T11:52:04.878178",
   "version": "2.1.2"
  }
 },
 "nbformat": 4,
 "nbformat_minor": 4
}