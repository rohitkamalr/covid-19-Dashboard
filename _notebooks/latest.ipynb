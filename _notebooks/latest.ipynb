{
 "cells": [
  {
   "cell_type": "markdown",
   "metadata": {
    "papermill": {
     "duration": 0.01679,
     "end_time": "2020-08-15T13:25:38.023596",
     "exception": false,
     "start_time": "2020-08-15T13:25:38.006806",
     "status": "completed"
    },
    "tags": []
   },
   "source": [
    "# Latest COVID-19 India Matplotlib Overview"
   ]
  },
  {
   "cell_type": "code",
   "execution_count": 1,
   "metadata": {
    "execution": {
     "iopub.execute_input": "2020-08-15T13:25:38.056447Z",
     "iopub.status.busy": "2020-08-15T13:25:38.055942Z",
     "iopub.status.idle": "2020-08-15T13:25:38.545026Z",
     "shell.execute_reply": "2020-08-15T13:25:38.544461Z"
    },
    "papermill": {
     "duration": 0.507772,
     "end_time": "2020-08-15T13:25:38.545185",
     "exception": false,
     "start_time": "2020-08-15T13:25:38.037413",
     "status": "completed"
    },
    "tags": []
   },
   "outputs": [],
   "source": [
    "#hide\n",
    "import pandas as pd\n",
    "import numpy as np\n",
    "import requests\n",
    "import json\n",
    "import matplotlib.pyplot as plt\n",
    "import matplotlib.dates as mdates\n",
    "import matplotlib as mpl\n",
    "from IPython.core.display import display,HTML\n",
    "%matplotlib inline\n",
    "from datetime import date"
   ]
  },
  {
   "cell_type": "code",
   "execution_count": 2,
   "metadata": {
    "execution": {
     "iopub.execute_input": "2020-08-15T13:25:38.578811Z",
     "iopub.status.busy": "2020-08-15T13:25:38.578304Z",
     "iopub.status.idle": "2020-08-15T13:25:38.811157Z",
     "shell.execute_reply": "2020-08-15T13:25:38.810620Z"
    },
    "papermill": {
     "duration": 0.252189,
     "end_time": "2020-08-15T13:25:38.811276",
     "exception": false,
     "start_time": "2020-08-15T13:25:38.559087",
     "status": "completed"
    },
    "tags": []
   },
   "outputs": [],
   "source": [
    "#hide\n",
    "df  = pd.read_csv('https://api.covid19india.org/csv/latest/states.csv')\n",
    "df = df[['Date','State','Confirmed','Deceased']]\n",
    "df = df.rename(columns={'Confirmed':'Cases', \"Deceased\":'Deaths'})\n",
    "df_cases = df[[\"Date\",'State','Cases']]\n",
    "df_deaths = df[['Date','State','Deaths']]\n",
    "df_cases1 = df_cases.groupby('Date')\n",
    "df_deaths1= df_deaths.groupby('Date')"
   ]
  },
  {
   "cell_type": "code",
   "execution_count": 3,
   "metadata": {
    "execution": {
     "iopub.execute_input": "2020-08-15T13:25:38.842617Z",
     "iopub.status.busy": "2020-08-15T13:25:38.842127Z",
     "iopub.status.idle": "2020-08-15T13:25:38.856702Z",
     "shell.execute_reply": "2020-08-15T13:25:38.857086Z"
    },
    "papermill": {
     "duration": 0.032349,
     "end_time": "2020-08-15T13:25:38.857209",
     "exception": false,
     "start_time": "2020-08-15T13:25:38.824860",
     "status": "completed"
    },
    "tags": []
   },
   "outputs": [],
   "source": [
    "#hide\n",
    "df_snap = pd.read_csv('data/SnapshotCases-28-July.csv')\n",
    "arr_states = df_snap['states'].unique()\n",
    "arr_dates = df['Date'].unique()\n",
    "df_snap = df_snap.set_index('states')"
   ]
  },
  {
   "cell_type": "code",
   "execution_count": 4,
   "metadata": {
    "execution": {
     "iopub.execute_input": "2020-08-15T13:25:38.889864Z",
     "iopub.status.busy": "2020-08-15T13:25:38.889302Z",
     "iopub.status.idle": "2020-08-15T13:25:38.891371Z",
     "shell.execute_reply": "2020-08-15T13:25:38.891764Z"
    },
    "papermill": {
     "duration": 0.021506,
     "end_time": "2020-08-15T13:25:38.891872",
     "exception": false,
     "start_time": "2020-08-15T13:25:38.870366",
     "status": "completed"
    },
    "tags": []
   },
   "outputs": [
    {
     "data": {
      "text/plain": [
       "array(['Andaman and Nicobar Islands', 'Andhra Pradesh',\n",
       "       'Arunachal Pradesh', 'Assam', 'Bihar', 'Chandigarh',\n",
       "       'Dadra and Nagar Haveli and Daman and Diu', 'Delhi', 'Goa',\n",
       "       'Gujarat', 'Haryana', 'Himachal Pradesh', 'Jammu and Kashmir',\n",
       "       'Jharkhand', 'Karnataka', 'Kerala', 'Lakshadweep',\n",
       "       'Madhya Pradesh', 'Maharashtra', 'Manipur', 'Meghalaya', 'Mizoram',\n",
       "       'Nagaland', 'Odisha', 'Puducherry', 'Punjab', 'Rajasthan',\n",
       "       'Sikkim', 'Tamil Nadu', 'Telangana', 'Tripura', 'Uttar Pradesh',\n",
       "       'West Bengal', 'Chhattisgarh', 'Ladakh', 'Uttarakhand'],\n",
       "      dtype=object)"
      ]
     },
     "execution_count": 4,
     "metadata": {},
     "output_type": "execute_result"
    }
   ],
   "source": [
    "#hide\n",
    "arr_states[-9] = 'Puducherry'\n",
    "arr_states[-10] = 'Odisha'\n",
    "arr_states[6] = 'Dadra and Nagar Haveli and Daman and Diu'\n",
    "arr_states = np.append(arr_states,np.array(['Chhattisgarh','Ladakh','Uttarakhand']))\n",
    "arr_states"
   ]
  },
  {
   "cell_type": "code",
   "execution_count": 5,
   "metadata": {
    "execution": {
     "iopub.execute_input": "2020-08-15T13:25:38.926486Z",
     "iopub.status.busy": "2020-08-15T13:25:38.925998Z",
     "iopub.status.idle": "2020-08-15T13:25:38.932150Z",
     "shell.execute_reply": "2020-08-15T13:25:38.931757Z"
    },
    "papermill": {
     "duration": 0.026872,
     "end_time": "2020-08-15T13:25:38.932248",
     "exception": false,
     "start_time": "2020-08-15T13:25:38.905376",
     "status": "completed"
    },
    "tags": []
   },
   "outputs": [],
   "source": [
    "#hide\n",
    "dates = []\n",
    "for i in arr_dates:\n",
    "    if i>='2020-07-01':\n",
    "        dates.append(i)\n",
    "dict = {'states':dates}\n",
    "for i in arr_states:\n",
    "    dict[i] = [0]*len(dates)\n",
    "dft_cases = pd.DataFrame(dict)\n",
    "dft_deaths = pd.DataFrame(dict)\n"
   ]
  },
  {
   "cell_type": "code",
   "execution_count": 6,
   "metadata": {
    "execution": {
     "iopub.execute_input": "2020-08-15T13:25:38.964069Z",
     "iopub.status.busy": "2020-08-15T13:25:38.963576Z",
     "iopub.status.idle": "2020-08-15T13:25:39.505145Z",
     "shell.execute_reply": "2020-08-15T13:25:39.504639Z"
    },
    "papermill": {
     "duration": 0.55946,
     "end_time": "2020-08-15T13:25:39.505281",
     "exception": false,
     "start_time": "2020-08-15T13:25:38.945821",
     "status": "completed"
    },
    "tags": []
   },
   "outputs": [],
   "source": [
    "#hide\n",
    "for i in range(len(dates)):\n",
    "    df1_deaths = df_deaths1.get_group(dates[i])\n",
    "    for j in range(len(df1_deaths.index)):\n",
    "        if df1_deaths.iloc[j,1] in arr_states:\n",
    "            dft_deaths.loc[i,df1_deaths.iloc[j,1]] = df1_deaths.iloc[j,2]\n",
    "dft_deaths = dft_deaths.set_index('states')"
   ]
  },
  {
   "cell_type": "code",
   "execution_count": 7,
   "metadata": {
    "execution": {
     "iopub.execute_input": "2020-08-15T13:25:39.538989Z",
     "iopub.status.busy": "2020-08-15T13:25:39.538497Z",
     "iopub.status.idle": "2020-08-15T13:25:40.103727Z",
     "shell.execute_reply": "2020-08-15T13:25:40.102861Z"
    },
    "papermill": {
     "duration": 0.58441,
     "end_time": "2020-08-15T13:25:40.103863",
     "exception": false,
     "start_time": "2020-08-15T13:25:39.519453",
     "status": "completed"
    },
    "tags": []
   },
   "outputs": [],
   "source": [
    "#hide\n",
    "for i in range(len(dates)):\n",
    "    df1_cases = df_cases1.get_group(dates[i])\n",
    "    for j in range(len(df1_cases.index)):\n",
    "        if df1_cases.iloc[j,1] in arr_states:\n",
    "            dft_cases.loc[i,df1_cases.iloc[j,1]] = df1_cases.iloc[j,2]\n",
    "dft_cases = dft_cases.set_index('states')"
   ]
  },
  {
   "cell_type": "code",
   "execution_count": 8,
   "metadata": {
    "execution": {
     "iopub.execute_input": "2020-08-15T13:25:40.136884Z",
     "iopub.status.busy": "2020-08-15T13:25:40.135682Z",
     "iopub.status.idle": "2020-08-15T13:25:40.137514Z",
     "shell.execute_reply": "2020-08-15T13:25:40.137962Z"
    },
    "papermill": {
     "duration": 0.020276,
     "end_time": "2020-08-15T13:25:40.138090",
     "exception": false,
     "start_time": "2020-08-15T13:25:40.117814",
     "status": "completed"
    },
    "tags": []
   },
   "outputs": [],
   "source": [
    "#hide\n",
    "dft_cases = dft_cases.T\n",
    "dft_deaths = dft_deaths.T\n",
    "dt_today = dates[-1]\n",
    "dt_yday = dates[-2]"
   ]
  },
  {
   "cell_type": "code",
   "execution_count": 9,
   "metadata": {
    "execution": {
     "iopub.execute_input": "2020-08-15T13:25:40.172961Z",
     "iopub.status.busy": "2020-08-15T13:25:40.172093Z",
     "iopub.status.idle": "2020-08-15T13:25:40.173805Z",
     "shell.execute_reply": "2020-08-15T13:25:40.174200Z"
    },
    "papermill": {
     "duration": 0.021981,
     "end_time": "2020-08-15T13:25:40.174309",
     "exception": false,
     "start_time": "2020-08-15T13:25:40.152328",
     "status": "completed"
    },
    "tags": []
   },
   "outputs": [],
   "source": [
    "#hide\n",
    "dft_cases = dft_cases.reset_index()\n",
    "dft_deaths = dft_deaths.reset_index()\n",
    "dft_cases = dft_cases.rename(columns = {'index':'state'})\n",
    "dft_deaths = dft_deaths.rename(columns = {'index':'state'})"
   ]
  },
  {
   "cell_type": "code",
   "execution_count": 10,
   "metadata": {
    "execution": {
     "iopub.execute_input": "2020-08-15T13:25:40.210308Z",
     "iopub.status.busy": "2020-08-15T13:25:40.209820Z",
     "iopub.status.idle": "2020-08-15T13:25:40.211966Z",
     "shell.execute_reply": "2020-08-15T13:25:40.211574Z"
    },
    "papermill": {
     "duration": 0.024359,
     "end_time": "2020-08-15T13:25:40.212065",
     "exception": false,
     "start_time": "2020-08-15T13:25:40.187706",
     "status": "completed"
    },
    "tags": []
   },
   "outputs": [],
   "source": [
    "#hide\n",
    "dfc_cases = dft_cases.groupby('state')[dt_today].sum()\n",
    "dfc_deaths = dft_deaths.groupby('state')[dt_today].sum()\n",
    "dfp_cases = dft_cases.groupby('state')[dt_yday].sum()\n",
    "dfp_deaths = dft_deaths.groupby('state')[dt_yday].sum()"
   ]
  },
  {
   "cell_type": "code",
   "execution_count": 11,
   "metadata": {
    "execution": {
     "iopub.execute_input": "2020-08-15T13:25:40.251167Z",
     "iopub.status.busy": "2020-08-15T13:25:40.250676Z",
     "iopub.status.idle": "2020-08-15T13:25:40.256013Z",
     "shell.execute_reply": "2020-08-15T13:25:40.256385Z"
    },
    "papermill": {
     "duration": 0.030951,
     "end_time": "2020-08-15T13:25:40.256496",
     "exception": false,
     "start_time": "2020-08-15T13:25:40.225545",
     "status": "completed"
    },
    "tags": []
   },
   "outputs": [
    {
     "data": {
      "text/html": [
       "<div>\n",
       "<style scoped>\n",
       "    .dataframe tbody tr th:only-of-type {\n",
       "        vertical-align: middle;\n",
       "    }\n",
       "\n",
       "    .dataframe tbody tr th {\n",
       "        vertical-align: top;\n",
       "    }\n",
       "\n",
       "    .dataframe thead th {\n",
       "        text-align: right;\n",
       "    }\n",
       "</style>\n",
       "<table border=\"1\" class=\"dataframe\">\n",
       "  <thead>\n",
       "    <tr style=\"text-align: right;\">\n",
       "      <th></th>\n",
       "      <th>states</th>\n",
       "      <th>Cases</th>\n",
       "      <th>Deaths</th>\n",
       "      <th>PCases</th>\n",
       "      <th>PDeaths</th>\n",
       "    </tr>\n",
       "  </thead>\n",
       "  <tbody>\n",
       "    <tr>\n",
       "      <th>0</th>\n",
       "      <td>Maharashtra</td>\n",
       "      <td>572734</td>\n",
       "      <td>19427</td>\n",
       "      <td>572734</td>\n",
       "      <td>19427</td>\n",
       "    </tr>\n",
       "    <tr>\n",
       "      <th>1</th>\n",
       "      <td>Tamil Nadu</td>\n",
       "      <td>326245</td>\n",
       "      <td>5514</td>\n",
       "      <td>326245</td>\n",
       "      <td>5514</td>\n",
       "    </tr>\n",
       "    <tr>\n",
       "      <th>2</th>\n",
       "      <td>Andhra Pradesh</td>\n",
       "      <td>281817</td>\n",
       "      <td>2562</td>\n",
       "      <td>273085</td>\n",
       "      <td>2475</td>\n",
       "    </tr>\n",
       "    <tr>\n",
       "      <th>3</th>\n",
       "      <td>Karnataka</td>\n",
       "      <td>211108</td>\n",
       "      <td>3718</td>\n",
       "      <td>211108</td>\n",
       "      <td>3718</td>\n",
       "    </tr>\n",
       "    <tr>\n",
       "      <th>4</th>\n",
       "      <td>Delhi</td>\n",
       "      <td>150652</td>\n",
       "      <td>4178</td>\n",
       "      <td>150652</td>\n",
       "      <td>4178</td>\n",
       "    </tr>\n",
       "  </tbody>\n",
       "</table>\n",
       "</div>"
      ],
      "text/plain": [
       "           states   Cases  Deaths  PCases  PDeaths\n",
       "0     Maharashtra  572734   19427  572734    19427\n",
       "1      Tamil Nadu  326245    5514  326245     5514\n",
       "2  Andhra Pradesh  281817    2562  273085     2475\n",
       "3       Karnataka  211108    3718  211108     3718\n",
       "4           Delhi  150652    4178  150652     4178"
      ]
     },
     "execution_count": 11,
     "metadata": {},
     "output_type": "execute_result"
    }
   ],
   "source": [
    "#hide\n",
    "df_table = pd.DataFrame({'states': dfc_cases.index, 'Cases': dfc_cases.values, 'Deaths': dfc_deaths.values, 'PCases': dfp_cases.values, 'PDeaths': dfp_deaths.values}).set_index('states')\n",
    "df_table = df_table.sort_values(by = ['Cases','Deaths'], ascending = [False, False])\n",
    "df_table = df_table.reset_index()\n",
    "df_table.head()"
   ]
  },
  {
   "cell_type": "code",
   "execution_count": 12,
   "metadata": {
    "execution": {
     "iopub.execute_input": "2020-08-15T13:25:40.288272Z",
     "iopub.status.busy": "2020-08-15T13:25:40.287789Z",
     "iopub.status.idle": "2020-08-15T13:25:40.295082Z",
     "shell.execute_reply": "2020-08-15T13:25:40.295461Z"
    },
    "papermill": {
     "duration": 0.025244,
     "end_time": "2020-08-15T13:25:40.295573",
     "exception": false,
     "start_time": "2020-08-15T13:25:40.270329",
     "status": "completed"
    },
    "tags": []
   },
   "outputs": [],
   "source": [
    "#hide\n",
    "for c in 'Cases, Deaths'.split(', '):\n",
    "    df_table[f'{c} (+)'] = (df_table[c] - df_table[f'P{c}']).clip(0)\n",
    "df_table['Fatality Rate'] = (100* df_table['Deaths']/ df_table['Cases']).round(2)"
   ]
  },
  {
   "cell_type": "code",
   "execution_count": 13,
   "metadata": {
    "execution": {
     "iopub.execute_input": "2020-08-15T13:25:40.332048Z",
     "iopub.status.busy": "2020-08-15T13:25:40.331564Z",
     "iopub.status.idle": "2020-08-15T13:25:40.333931Z",
     "shell.execute_reply": "2020-08-15T13:25:40.334350Z"
    },
    "papermill": {
     "duration": 0.025015,
     "end_time": "2020-08-15T13:25:40.334456",
     "exception": false,
     "start_time": "2020-08-15T13:25:40.309441",
     "status": "completed"
    },
    "tags": []
   },
   "outputs": [
    {
     "data": {
      "text/html": [
       "<div>\n",
       "<style scoped>\n",
       "    .dataframe tbody tr th:only-of-type {\n",
       "        vertical-align: middle;\n",
       "    }\n",
       "\n",
       "    .dataframe tbody tr th {\n",
       "        vertical-align: top;\n",
       "    }\n",
       "\n",
       "    .dataframe thead th {\n",
       "        text-align: right;\n",
       "    }\n",
       "</style>\n",
       "<table border=\"1\" class=\"dataframe\">\n",
       "  <thead>\n",
       "    <tr style=\"text-align: right;\">\n",
       "      <th></th>\n",
       "      <th>states</th>\n",
       "      <th>Cases</th>\n",
       "      <th>Deaths</th>\n",
       "      <th>PCases</th>\n",
       "      <th>PDeaths</th>\n",
       "      <th>Cases (+)</th>\n",
       "      <th>Deaths (+)</th>\n",
       "      <th>Fatality Rate</th>\n",
       "    </tr>\n",
       "  </thead>\n",
       "  <tbody>\n",
       "    <tr>\n",
       "      <th>0</th>\n",
       "      <td>Maharashtra</td>\n",
       "      <td>572734</td>\n",
       "      <td>19427</td>\n",
       "      <td>572734</td>\n",
       "      <td>19427</td>\n",
       "      <td>0</td>\n",
       "      <td>0</td>\n",
       "      <td>3.39</td>\n",
       "    </tr>\n",
       "    <tr>\n",
       "      <th>1</th>\n",
       "      <td>Tamil Nadu</td>\n",
       "      <td>326245</td>\n",
       "      <td>5514</td>\n",
       "      <td>326245</td>\n",
       "      <td>5514</td>\n",
       "      <td>0</td>\n",
       "      <td>0</td>\n",
       "      <td>1.69</td>\n",
       "    </tr>\n",
       "    <tr>\n",
       "      <th>2</th>\n",
       "      <td>Andhra Pradesh</td>\n",
       "      <td>281817</td>\n",
       "      <td>2562</td>\n",
       "      <td>273085</td>\n",
       "      <td>2475</td>\n",
       "      <td>8732</td>\n",
       "      <td>87</td>\n",
       "      <td>0.91</td>\n",
       "    </tr>\n",
       "    <tr>\n",
       "      <th>3</th>\n",
       "      <td>Karnataka</td>\n",
       "      <td>211108</td>\n",
       "      <td>3718</td>\n",
       "      <td>211108</td>\n",
       "      <td>3718</td>\n",
       "      <td>0</td>\n",
       "      <td>0</td>\n",
       "      <td>1.76</td>\n",
       "    </tr>\n",
       "    <tr>\n",
       "      <th>4</th>\n",
       "      <td>Delhi</td>\n",
       "      <td>150652</td>\n",
       "      <td>4178</td>\n",
       "      <td>150652</td>\n",
       "      <td>4178</td>\n",
       "      <td>0</td>\n",
       "      <td>0</td>\n",
       "      <td>2.77</td>\n",
       "    </tr>\n",
       "  </tbody>\n",
       "</table>\n",
       "</div>"
      ],
      "text/plain": [
       "           states   Cases  Deaths  PCases  PDeaths  Cases (+)  Deaths (+)  \\\n",
       "0     Maharashtra  572734   19427  572734    19427          0           0   \n",
       "1      Tamil Nadu  326245    5514  326245     5514          0           0   \n",
       "2  Andhra Pradesh  281817    2562  273085     2475       8732          87   \n",
       "3       Karnataka  211108    3718  211108     3718          0           0   \n",
       "4           Delhi  150652    4178  150652     4178          0           0   \n",
       "\n",
       "   Fatality Rate  \n",
       "0           3.39  \n",
       "1           1.69  \n",
       "2           0.91  \n",
       "3           1.76  \n",
       "4           2.77  "
      ]
     },
     "execution_count": 13,
     "metadata": {},
     "output_type": "execute_result"
    }
   ],
   "source": [
    "#hide\n",
    "df_table.head()"
   ]
  },
  {
   "cell_type": "code",
   "execution_count": 14,
   "metadata": {
    "execution": {
     "iopub.execute_input": "2020-08-15T13:25:40.367669Z",
     "iopub.status.busy": "2020-08-15T13:25:40.367183Z",
     "iopub.status.idle": "2020-08-15T13:25:40.381384Z",
     "shell.execute_reply": "2020-08-15T13:25:40.380970Z"
    },
    "papermill": {
     "duration": 0.032658,
     "end_time": "2020-08-15T13:25:40.381479",
     "exception": false,
     "start_time": "2020-08-15T13:25:40.348821",
     "status": "completed"
    },
    "tags": []
   },
   "outputs": [
    {
     "data": {
      "text/plain": [
       "{'updated': '2020-08-15',\n",
       " 'since': '2020-08-14',\n",
       " 'Cases': 2545062,\n",
       " 'PCases': 2525222,\n",
       " 'Deaths': 49323,\n",
       " 'PDeaths': 49134,\n",
       " 'Cases (+)': 19840,\n",
       " 'Deaths (+)': 189}"
      ]
     },
     "execution_count": 14,
     "metadata": {},
     "output_type": "execute_result"
    }
   ],
   "source": [
    "#hide\n",
    "summary = {'updated':dates[-1], 'since':dates[-2]}\n",
    "list_names = ['Cases', 'PCases', 'Deaths', 'PDeaths', 'Cases (+)', 'Deaths (+)']\n",
    "for name in list_names:\n",
    "    summary[name] = df_table.sum()[name]\n",
    "summary"
   ]
  },
  {
   "cell_type": "code",
   "execution_count": 15,
   "metadata": {
    "execution": {
     "iopub.execute_input": "2020-08-15T13:25:40.414157Z",
     "iopub.status.busy": "2020-08-15T13:25:40.413663Z",
     "iopub.status.idle": "2020-08-15T13:25:40.415442Z",
     "shell.execute_reply": "2020-08-15T13:25:40.415857Z"
    },
    "papermill": {
     "duration": 0.019912,
     "end_time": "2020-08-15T13:25:40.415964",
     "exception": false,
     "start_time": "2020-08-15T13:25:40.396052",
     "status": "completed"
    },
    "tags": []
   },
   "outputs": [],
   "source": [
    "#hide\n",
    "overview = '''\n",
    "<!-- #######  HTML!! #########-->\n",
    "<h1 style=\"color: #5e9ca0; text-align: center;\">India</h1>\n",
    "<p style=\"text-align: center;\">Last update: <strong>{update}</strong></p>\n",
    "<p style=\"text-align: center;\">Confirmed cases:</p>\n",
    "<p style=\"text-align: center;font-size:24px;\">{cases} (<span style=\"color: #ff0000;\">+{new}</span>)</p>\n",
    "<p style=\"text-align: center;\">Confirmed deaths:</p>\n",
    "<p style=\"text-align: center;font-size:24px;\">{deaths} (<span style=\"color: #ff0000;\">+{dnew}</span>)</p>\n",
    "'''"
   ]
  },
  {
   "cell_type": "code",
   "execution_count": 16,
   "metadata": {
    "execution": {
     "iopub.execute_input": "2020-08-15T13:25:40.454056Z",
     "iopub.status.busy": "2020-08-15T13:25:40.452635Z",
     "iopub.status.idle": "2020-08-15T13:25:40.455267Z",
     "shell.execute_reply": "2020-08-15T13:25:40.456126Z"
    },
    "papermill": {
     "duration": 0.025831,
     "end_time": "2020-08-15T13:25:40.456239",
     "exception": false,
     "start_time": "2020-08-15T13:25:40.430408",
     "status": "completed"
    },
    "tags": []
   },
   "outputs": [
    {
     "data": {
      "text/html": [
       "\n",
       "<!-- #######  HTML!! #########-->\n",
       "<h1 style=\"color: #5e9ca0; text-align: center;\">India</h1>\n",
       "<p style=\"text-align: center;\">Last update: <strong>2020-08-15</strong></p>\n",
       "<p style=\"text-align: center;\">Confirmed cases:</p>\n",
       "<p style=\"text-align: center;font-size:24px;\">2545062 (<span style=\"color: #ff0000;\">+19840</span>)</p>\n",
       "<p style=\"text-align: center;\">Confirmed deaths:</p>\n",
       "<p style=\"text-align: center;font-size:24px;\">49323 (<span style=\"color: #ff0000;\">+189</span>)</p>\n"
      ],
      "text/plain": [
       "<IPython.core.display.HTML object>"
      ]
     },
     "metadata": {},
     "output_type": "display_data"
    }
   ],
   "source": [
    "#hide_input\n",
    "update = summary['updated']\n",
    "cases = summary['Cases']\n",
    "new = summary['Cases (+)']\n",
    "deaths = summary['Deaths']\n",
    "dnew = summary['Deaths (+)']\n",
    "\n",
    "html = HTML(overview.format(update=update, cases=cases,new=new,deaths=deaths,dnew=dnew))\n",
    "\n",
    "display(html)"
   ]
  },
  {
   "cell_type": "code",
   "execution_count": 17,
   "metadata": {
    "execution": {
     "iopub.execute_input": "2020-08-15T13:25:40.599963Z",
     "iopub.status.busy": "2020-08-15T13:25:40.599448Z",
     "iopub.status.idle": "2020-08-15T13:25:40.603858Z",
     "shell.execute_reply": "2020-08-15T13:25:40.604235Z"
    },
    "papermill": {
     "duration": 0.133079,
     "end_time": "2020-08-15T13:25:40.604359",
     "exception": false,
     "start_time": "2020-08-15T13:25:40.471280",
     "status": "completed"
    },
    "tags": []
   },
   "outputs": [],
   "source": [
    "#hide\n",
    "dt_cols = list(dft_cases.columns[1:])\n",
    "dft_ct_new_cases = dft_cases.groupby('state')[dt_cols].sum().diff(axis=1).fillna(0).astype(int)\n",
    "dft_ct_new_cases.sort_values(by = dates[-1], ascending = False,inplace = True)"
   ]
  },
  {
   "cell_type": "code",
   "execution_count": 18,
   "metadata": {
    "execution": {
     "iopub.execute_input": "2020-08-15T13:25:40.649067Z",
     "iopub.status.busy": "2020-08-15T13:25:40.648567Z",
     "iopub.status.idle": "2020-08-15T13:25:40.650873Z",
     "shell.execute_reply": "2020-08-15T13:25:40.651293Z"
    },
    "papermill": {
     "duration": 0.03211,
     "end_time": "2020-08-15T13:25:40.651403",
     "exception": false,
     "start_time": "2020-08-15T13:25:40.619293",
     "status": "completed"
    },
    "tags": []
   },
   "outputs": [
    {
     "data": {
      "text/html": [
       "<div>\n",
       "<style scoped>\n",
       "    .dataframe tbody tr th:only-of-type {\n",
       "        vertical-align: middle;\n",
       "    }\n",
       "\n",
       "    .dataframe tbody tr th {\n",
       "        vertical-align: top;\n",
       "    }\n",
       "\n",
       "    .dataframe thead th {\n",
       "        text-align: right;\n",
       "    }\n",
       "</style>\n",
       "<table border=\"1\" class=\"dataframe\">\n",
       "  <thead>\n",
       "    <tr style=\"text-align: right;\">\n",
       "      <th>states</th>\n",
       "      <th>2020-07-01</th>\n",
       "      <th>2020-07-02</th>\n",
       "      <th>2020-07-03</th>\n",
       "      <th>2020-07-04</th>\n",
       "      <th>2020-07-05</th>\n",
       "      <th>2020-07-06</th>\n",
       "      <th>2020-07-07</th>\n",
       "      <th>2020-07-08</th>\n",
       "      <th>2020-07-09</th>\n",
       "      <th>2020-07-10</th>\n",
       "      <th>...</th>\n",
       "      <th>2020-08-06</th>\n",
       "      <th>2020-08-07</th>\n",
       "      <th>2020-08-08</th>\n",
       "      <th>2020-08-09</th>\n",
       "      <th>2020-08-10</th>\n",
       "      <th>2020-08-11</th>\n",
       "      <th>2020-08-12</th>\n",
       "      <th>2020-08-13</th>\n",
       "      <th>2020-08-14</th>\n",
       "      <th>2020-08-15</th>\n",
       "    </tr>\n",
       "    <tr>\n",
       "      <th>state</th>\n",
       "      <th></th>\n",
       "      <th></th>\n",
       "      <th></th>\n",
       "      <th></th>\n",
       "      <th></th>\n",
       "      <th></th>\n",
       "      <th></th>\n",
       "      <th></th>\n",
       "      <th></th>\n",
       "      <th></th>\n",
       "      <th></th>\n",
       "      <th></th>\n",
       "      <th></th>\n",
       "      <th></th>\n",
       "      <th></th>\n",
       "      <th></th>\n",
       "      <th></th>\n",
       "      <th></th>\n",
       "      <th></th>\n",
       "      <th></th>\n",
       "      <th></th>\n",
       "    </tr>\n",
       "  </thead>\n",
       "  <tbody>\n",
       "    <tr>\n",
       "      <th>Andhra Pradesh</th>\n",
       "      <td>0</td>\n",
       "      <td>845</td>\n",
       "      <td>837</td>\n",
       "      <td>765</td>\n",
       "      <td>998</td>\n",
       "      <td>1322</td>\n",
       "      <td>1178</td>\n",
       "      <td>1062</td>\n",
       "      <td>1555</td>\n",
       "      <td>1608</td>\n",
       "      <td>...</td>\n",
       "      <td>10328</td>\n",
       "      <td>10171</td>\n",
       "      <td>10080</td>\n",
       "      <td>10820</td>\n",
       "      <td>7665</td>\n",
       "      <td>9024</td>\n",
       "      <td>9597</td>\n",
       "      <td>9996</td>\n",
       "      <td>8943</td>\n",
       "      <td>8732</td>\n",
       "    </tr>\n",
       "    <tr>\n",
       "      <th>Uttar Pradesh</th>\n",
       "      <td>0</td>\n",
       "      <td>769</td>\n",
       "      <td>972</td>\n",
       "      <td>757</td>\n",
       "      <td>1153</td>\n",
       "      <td>929</td>\n",
       "      <td>1332</td>\n",
       "      <td>1188</td>\n",
       "      <td>1206</td>\n",
       "      <td>1338</td>\n",
       "      <td>...</td>\n",
       "      <td>4586</td>\n",
       "      <td>4404</td>\n",
       "      <td>4660</td>\n",
       "      <td>4571</td>\n",
       "      <td>4113</td>\n",
       "      <td>5041</td>\n",
       "      <td>4475</td>\n",
       "      <td>4537</td>\n",
       "      <td>4512</td>\n",
       "      <td>4774</td>\n",
       "    </tr>\n",
       "    <tr>\n",
       "      <th>Odisha</th>\n",
       "      <td>0</td>\n",
       "      <td>229</td>\n",
       "      <td>561</td>\n",
       "      <td>495</td>\n",
       "      <td>469</td>\n",
       "      <td>456</td>\n",
       "      <td>571</td>\n",
       "      <td>527</td>\n",
       "      <td>577</td>\n",
       "      <td>755</td>\n",
       "      <td>...</td>\n",
       "      <td>1699</td>\n",
       "      <td>1833</td>\n",
       "      <td>1643</td>\n",
       "      <td>1734</td>\n",
       "      <td>1528</td>\n",
       "      <td>1341</td>\n",
       "      <td>1876</td>\n",
       "      <td>1981</td>\n",
       "      <td>1977</td>\n",
       "      <td>2496</td>\n",
       "    </tr>\n",
       "    <tr>\n",
       "      <th>Telangana</th>\n",
       "      <td>0</td>\n",
       "      <td>1213</td>\n",
       "      <td>1892</td>\n",
       "      <td>1850</td>\n",
       "      <td>1590</td>\n",
       "      <td>1831</td>\n",
       "      <td>1879</td>\n",
       "      <td>1924</td>\n",
       "      <td>1410</td>\n",
       "      <td>1278</td>\n",
       "      <td>...</td>\n",
       "      <td>2092</td>\n",
       "      <td>2207</td>\n",
       "      <td>2256</td>\n",
       "      <td>1982</td>\n",
       "      <td>1256</td>\n",
       "      <td>1896</td>\n",
       "      <td>1897</td>\n",
       "      <td>1931</td>\n",
       "      <td>1921</td>\n",
       "      <td>1863</td>\n",
       "    </tr>\n",
       "    <tr>\n",
       "      <th>Rajasthan</th>\n",
       "      <td>0</td>\n",
       "      <td>350</td>\n",
       "      <td>390</td>\n",
       "      <td>480</td>\n",
       "      <td>632</td>\n",
       "      <td>524</td>\n",
       "      <td>716</td>\n",
       "      <td>659</td>\n",
       "      <td>500</td>\n",
       "      <td>611</td>\n",
       "      <td>...</td>\n",
       "      <td>1151</td>\n",
       "      <td>1161</td>\n",
       "      <td>1171</td>\n",
       "      <td>1169</td>\n",
       "      <td>1173</td>\n",
       "      <td>1217</td>\n",
       "      <td>1213</td>\n",
       "      <td>1314</td>\n",
       "      <td>1278</td>\n",
       "      <td>686</td>\n",
       "    </tr>\n",
       "  </tbody>\n",
       "</table>\n",
       "<p>5 rows × 46 columns</p>\n",
       "</div>"
      ],
      "text/plain": [
       "states          2020-07-01  2020-07-02  2020-07-03  2020-07-04  2020-07-05  \\\n",
       "state                                                                        \n",
       "Andhra Pradesh           0         845         837         765         998   \n",
       "Uttar Pradesh            0         769         972         757        1153   \n",
       "Odisha                   0         229         561         495         469   \n",
       "Telangana                0        1213        1892        1850        1590   \n",
       "Rajasthan                0         350         390         480         632   \n",
       "\n",
       "states          2020-07-06  2020-07-07  2020-07-08  2020-07-09  2020-07-10  \\\n",
       "state                                                                        \n",
       "Andhra Pradesh        1322        1178        1062        1555        1608   \n",
       "Uttar Pradesh          929        1332        1188        1206        1338   \n",
       "Odisha                 456         571         527         577         755   \n",
       "Telangana             1831        1879        1924        1410        1278   \n",
       "Rajasthan              524         716         659         500         611   \n",
       "\n",
       "states          ...  2020-08-06  2020-08-07  2020-08-08  2020-08-09  \\\n",
       "state           ...                                                   \n",
       "Andhra Pradesh  ...       10328       10171       10080       10820   \n",
       "Uttar Pradesh   ...        4586        4404        4660        4571   \n",
       "Odisha          ...        1699        1833        1643        1734   \n",
       "Telangana       ...        2092        2207        2256        1982   \n",
       "Rajasthan       ...        1151        1161        1171        1169   \n",
       "\n",
       "states          2020-08-10  2020-08-11  2020-08-12  2020-08-13  2020-08-14  \\\n",
       "state                                                                        \n",
       "Andhra Pradesh        7665        9024        9597        9996        8943   \n",
       "Uttar Pradesh         4113        5041        4475        4537        4512   \n",
       "Odisha                1528        1341        1876        1981        1977   \n",
       "Telangana             1256        1896        1897        1931        1921   \n",
       "Rajasthan             1173        1217        1213        1314        1278   \n",
       "\n",
       "states          2020-08-15  \n",
       "state                       \n",
       "Andhra Pradesh        8732  \n",
       "Uttar Pradesh         4774  \n",
       "Odisha                2496  \n",
       "Telangana             1863  \n",
       "Rajasthan              686  \n",
       "\n",
       "[5 rows x 46 columns]"
      ]
     },
     "execution_count": 18,
     "metadata": {},
     "output_type": "execute_result"
    }
   ],
   "source": [
    "#hide\n",
    "dft_ct_new_cases.head()"
   ]
  },
  {
   "cell_type": "code",
   "execution_count": 19,
   "metadata": {
    "execution": {
     "iopub.execute_input": "2020-08-15T13:25:40.705820Z",
     "iopub.status.busy": "2020-08-15T13:25:40.694979Z",
     "iopub.status.idle": "2020-08-15T13:25:42.744008Z",
     "shell.execute_reply": "2020-08-15T13:25:42.744412Z"
    },
    "papermill": {
     "duration": 2.077312,
     "end_time": "2020-08-15T13:25:42.744546",
     "exception": false,
     "start_time": "2020-08-15T13:25:40.667234",
     "status": "completed"
    },
    "tags": []
   },
   "outputs": [
    {
     "data": {
      "image/png": "[encoded data removed]",
      "text/plain": [
       "<Figure size 1296x2016 with 11 Axes>"
      ]
     },
     "metadata": {
      "needs_background": "light"
     },
     "output_type": "display_data"
    }
   ],
   "source": [
    "#hide_input\n",
    "df = dft_ct_new_cases.copy()\n",
    "df.loc['Total'] = df.sum()\n",
    "n = 5\n",
    "ax = []\n",
    "fig = plt.figure(figsize = (18,28))\n",
    "gs = fig.add_gridspec(n+2, 5)\n",
    "# gs = fig.add_gridspec(2, 3)\n",
    "ax1 = fig.add_subplot(gs[0, :])\n",
    "ef = df.loc['Total'].rename_axis('date').reset_index()\n",
    "ef['date'] = ef['date'].astype('datetime64[ns]')\n",
    "ax1.bar(ef.date,ef.Total,alpha=0.3,color='#007acc')\n",
    "ax1.plot(ef.date,ef.Total , marker=\"o\", color='#007acc')\n",
    "ax1.xaxis.set_major_locator(mdates.WeekdayLocator())\n",
    "ax1.xaxis.set_major_formatter(mdates.DateFormatter('%b %d'))\n",
    "ax1.text(0.02, 0.5,'India daily case count', transform = ax1.transAxes, fontsize=25);\n",
    "ax1.spines['right'].set_visible(False)\n",
    "ax1.spines['top'].set_visible(False)\n",
    "\n",
    "ax2 = fig.add_subplot(gs[1,0])\n",
    "ef = df.loc['Maharashtra'].rename_axis('date').reset_index()\n",
    "ef['date'] = ef['date'].astype('datetime64[ns]')\n",
    "\n",
    "ax2.bar(ef.date, ef.Maharashtra,color = '#007acc',alpha=0.5)\n",
    "ax2.xaxis.set_major_locator(mdates.WeekdayLocator())\n",
    "ax2.xaxis.set_major_formatter(mdates.DateFormatter('%b %d'))\n",
    "ax2.set_xticks(ax2.get_xticks()[::3])\n",
    "maxyval = ef.Maharashtra.max()\n",
    "ax2.set_ylim([0,maxyval])\n",
    "ax2.text(0.05, 0.9,'Maharashtra', transform = ax2.transAxes, fontsize=20);\n",
    "ax2.spines['right'].set_visible(False)\n",
    "ax2.spines['top'].set_visible(False)\n",
    "\n",
    "\n",
    "ax3 = fig.add_subplot(gs[1,1])\n",
    "ef = df.loc['Tamil Nadu'].rename_axis('date').reset_index()\n",
    "ef['date'] = ef['date'].astype('datetime64[ns]')\n",
    "ax3.bar(ef.date, ef['Tamil Nadu'],color = '#007acc',alpha=0.5,)\n",
    "ax3.xaxis.set_major_locator(mdates.WeekdayLocator())\n",
    "ax3.xaxis.set_major_formatter(mdates.DateFormatter('%b %d'))\n",
    "ax3.set_xticks(ax3.get_xticks()[::3])\n",
    "ax3.text(0.05, 0.9,'Tamil Nadu', transform = ax3.transAxes, fontsize=20);\n",
    "ax3.spines['right'].set_visible(False)\n",
    "ax3.spines['top'].set_visible(False)\n",
    "\n",
    "ax5 = fig.add_subplot(gs[1,3])\n",
    "ef = df.loc['Telangana'].rename_axis('date').reset_index()\n",
    "ef['date'] = ef['date'].astype('datetime64[ns]')\n",
    "ax5.bar(ef.date, ef['Telangana'],color = '#007acc',alpha=0.5,)\n",
    "ax5.xaxis.set_major_locator(mdates.WeekdayLocator())\n",
    "ax5.xaxis.set_major_formatter(mdates.DateFormatter('%b %d'))\n",
    "ax5.set_xticks(ax5.get_xticks()[::3])\n",
    "ax5.text(0.05, 0.9,'Telangana', transform = ax5.transAxes, fontsize=20);\n",
    "ax5.spines['right'].set_visible(False)\n",
    "ax5.spines['top'].set_visible(False)\n",
    "\n",
    "ax6 = fig.add_subplot(gs[1,4])\n",
    "ef = df.loc['Andhra Pradesh'].rename_axis('date').reset_index()\n",
    "ef['date'] = ef['date'].astype('datetime64[ns]')\n",
    "ax6.bar(ef.date, ef['Andhra Pradesh'],color = '#007acc',alpha=0.5,)\n",
    "ax6.xaxis.set_major_locator(mdates.WeekdayLocator())\n",
    "ax6.xaxis.set_major_formatter(mdates.DateFormatter('%b %d'))\n",
    "ax6.set_xticks(ax6.get_xticks()[::3])\n",
    "ax6.text(0.05, 1,'Andhra Pradesh', transform = ax6.transAxes, fontsize=20);\n",
    "ax6.spines['right'].set_visible(False)\n",
    "ax6.spines['top'].set_visible(False)\n",
    "\n",
    "ax4 = fig.add_subplot(gs[1,2])\n",
    "ef = df.loc['Delhi'].rename_axis('date').reset_index()\n",
    "ef['date'] = ef['date'].astype('datetime64[ns]')\n",
    "ax4.bar(ef.date, ef.Delhi,color = '#007acc',alpha=0.5)\n",
    "ax4.set_xticks([])\n",
    "ax4.xaxis.set_major_locator(mdates.WeekdayLocator())\n",
    "ax4.xaxis.set_major_formatter(mdates.DateFormatter('%b %d'))\n",
    "ax4.set_xticks(ax4.get_xticks()[::3])\n",
    "ax4.spines['right'].set_visible(False)\n",
    "ax4.spines['top'].set_visible(False)\n",
    "\n",
    "ax4.text(0.05, 1,'Delhi', transform = ax4.transAxes, fontsize=20)\n",
    "\n",
    "for i in range(n):\n",
    "    \n",
    "    ax.append(fig.add_subplot(gs[i+2,:]))\n",
    "    ef = df.iloc[i+3].rename_axis('date').reset_index()\n",
    "    ef['date'] = ef['date'].astype('datetime64[ns]')\n",
    "    ax[i].bar(ef.date,ef.iloc[:,-1],color = '#007acc',alpha=0.3)\n",
    "    ax[i].plot(ef.date,ef.iloc[:,-1],marker='o',color='#007acc')\n",
    "    ax[i].text(0.02,0.5,f'{ef.columns.values[-1]}',transform = ax[i].transAxes, fontsize = 20);\n",
    "    ax[i].xaxis.set_major_locator(mdates.WeekdayLocator())\n",
    "    ax[i].xaxis.set_major_formatter(mdates.DateFormatter('%b %d'))\n",
    "    ax[i].set_ylim([0,7000])\n",
    "    ax[i].spines['right'].set_visible(False)\n",
    "    ax[i].spines['top'].set_visible(False)\n",
    "plt.tight_layout()\n"
   ]
  },
  {
   "cell_type": "code",
   "execution_count": 20,
   "metadata": {
    "execution": {
     "iopub.execute_input": "2020-08-15T13:25:42.791639Z",
     "iopub.status.busy": "2020-08-15T13:25:42.791058Z",
     "iopub.status.idle": "2020-08-15T13:25:42.793058Z",
     "shell.execute_reply": "2020-08-15T13:25:42.793586Z"
    },
    "papermill": {
     "duration": 0.029658,
     "end_time": "2020-08-15T13:25:42.793715",
     "exception": false,
     "start_time": "2020-08-15T13:25:42.764057",
     "status": "completed"
    },
    "tags": []
   },
   "outputs": [
    {
     "name": "stdout",
     "output_type": "stream",
     "text": [
      "                                   states   Cases  Deaths  PCases  PDeaths  Cases (+)  Deaths (+)  Fatality Rate\n",
      "                              Maharashtra  572734   19427  572734    19427          0           0           3.39\n",
      "                               Tamil Nadu  326245    5514  326245     5514          0           0           1.69\n",
      "                           Andhra Pradesh  281817    2562  273085     2475       8732          87           0.91\n",
      "                                Karnataka  211108    3718  211108     3718          0           0           1.76\n",
      "                                    Delhi  150652    4178  150652     4178          0           0           2.77\n",
      "                            Uttar Pradesh  150061    2393  145287     2335       4774          58           1.59\n",
      "                              West Bengal  110358    2319  110358     2319          0           0           2.10\n",
      "                                    Bihar   98370     500   98370      500          0           0           0.51\n",
      "                                Telangana   90259     684   88396      674       1863          10           0.76\n",
      "                                  Gujarat   76569    2746   76569     2746          0           0           3.59\n",
      "                                    Assam   74502     175   74502      175          0           0           0.23\n",
      "                                Rajasthan   59378     859   58692      846        686          13           1.45\n",
      "                                   Odisha   57126     386   54630      377       2496           9           0.68\n",
      "                                  Haryana   45614     518   45614      518          0           0           1.14\n",
      "                           Madhya Pradesh   43414    1081   43414     1081          0           0           2.49\n",
      "                                   Kerala   41277     140   41277      140          0           0           0.34\n",
      "                                   Punjab   29013     731   29013      731          0           0           2.52\n",
      "                        Jammu and Kashmir   28021     527   27489      520        532           7           1.88\n",
      "                                Jharkhand   22192     225   22125      224         67           1           1.01\n",
      "                             Chhattisgarh   14559     130   14559      130          0           0           0.89\n",
      "                              Uttarakhand   11615     147   11615      147          0           0           1.27\n",
      "                                      Goa   10970      93   10970       93          0           0           0.85\n",
      "                               Puducherry    7354     106    6995      106        359           0           1.44\n",
      "                                  Tripura    6949      50    6782       46        167           4           0.72\n",
      "                                  Manipur    4198      13    4198       13          0           0           0.31\n",
      "                         Himachal Pradesh    3883      18    3874       18          9           0           0.46\n",
      "                                 Nagaland    3340       7    3322        7         18           0           0.21\n",
      "                        Arunachal Pradesh    2607       5    2607        5          0           0           0.19\n",
      "              Andaman and Nicobar Islands    2186      24    2186       24          0           0           1.10\n",
      "                               Chandigarh    2009      29    1928       29         81           0           1.44\n",
      "                                   Ladakh    1879       9    1879        9          0           0           0.48\n",
      " Dadra and Nagar Haveli and Daman and Diu    1782       2    1782        2          0           0           0.11\n",
      "                                Meghalaya    1228       6    1228        6          0           0           0.49\n",
      "                                   Sikkim    1080       1    1080        1          0           0           0.09\n",
      "                                  Mizoram     713       0     657        0         56           0           0.00\n",
      "                              Lakshadweep       0       0       0        0          0           0            NaN\n"
     ]
    }
   ],
   "source": [
    "#hide_input\n",
    "print(df_table.to_string(index=False))"
   ]
  },
  {
   "cell_type": "code",
   "execution_count": null,
   "metadata": {
    "papermill": {
     "duration": 0.019523,
     "end_time": "2020-08-15T13:25:42.833028",
     "exception": false,
     "start_time": "2020-08-15T13:25:42.813505",
     "status": "completed"
    },
    "tags": []
   },
   "outputs": [],
   "source": []
  },
  {
   "cell_type": "code",
   "execution_count": null,
   "metadata": {
    "papermill": {
     "duration": 0.019476,
     "end_time": "2020-08-15T13:25:42.871994",
     "exception": false,
     "start_time": "2020-08-15T13:25:42.852518",
     "status": "completed"
    },
    "tags": []
   },
   "outputs": [],
   "source": []
  }
 ],
 "metadata": {
  "kernelspec": {
   "display_name": "Python 3",
   "language": "python",
   "name": "python3"
  },
  "language_info": {
   "codemirror_mode": {
    "name": "ipython",
    "version": 3
   },
   "file_extension": ".py",
   "mimetype": "text/x-python",
   "name": "python",
   "nbconvert_exporter": "python",
   "pygments_lexer": "ipython3",
   "version": "3.6.11"
  },
  "papermill": {
   "duration": 6.181802,
   "end_time": "2020-08-15T13:25:43.297968",
   "environment_variables": {},
   "exception": null,
   "input_path": "latest.ipynb",
   "output_path": "latest.ipynb",
   "parameters": {},
   "start_time": "2020-08-15T13:25:37.116166",
   "version": "2.1.2"
  }
 },
 "nbformat": 4,
 "nbformat_minor": 4
}