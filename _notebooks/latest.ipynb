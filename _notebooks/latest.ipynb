{
 "cells": [
  {
   "cell_type": "markdown",
   "id": "colored-stack",
   "metadata": {
    "papermill": {
     "duration": 0.023297,
     "end_time": "2021-05-12T14:29:16.471989",
     "exception": false,
     "start_time": "2021-05-12T14:29:16.448692",
     "status": "completed"
    },
    "tags": []
   },
   "source": [
    "# Latest COVID-19 India Matplotlib Overview"
   ]
  },
  {
   "cell_type": "code",
   "execution_count": 1,
   "id": "light-proportion",
   "metadata": {
    "execution": {
     "iopub.execute_input": "2021-05-12T14:29:16.526070Z",
     "iopub.status.busy": "2021-05-12T14:29:16.525360Z",
     "iopub.status.idle": "2021-05-12T14:29:17.128813Z",
     "shell.execute_reply": "2021-05-12T14:29:17.128259Z"
    },
    "papermill": {
     "duration": 0.636091,
     "end_time": "2021-05-12T14:29:17.128969",
     "exception": false,
     "start_time": "2021-05-12T14:29:16.492878",
     "status": "completed"
    },
    "tags": []
   },
   "outputs": [],
   "source": [
    "#hide\n",
    "import pandas as pd\n",
    "import numpy as np\n",
    "import requests\n",
    "import json\n",
    "import matplotlib.pyplot as plt\n",
    "import matplotlib.dates as mdates\n",
    "import matplotlib as mpl\n",
    "from IPython.core.display import display,HTML\n",
    "%matplotlib inline\n",
    "from datetime import date"
   ]
  },
  {
   "cell_type": "code",
   "execution_count": 2,
   "id": "greenhouse-shooting",
   "metadata": {
    "execution": {
     "iopub.execute_input": "2021-05-12T14:29:17.173315Z",
     "iopub.status.busy": "2021-05-12T14:29:17.172558Z",
     "iopub.status.idle": "2021-05-12T14:29:17.558956Z",
     "shell.execute_reply": "2021-05-12T14:29:17.557924Z"
    },
    "papermill": {
     "duration": 0.411452,
     "end_time": "2021-05-12T14:29:17.559087",
     "exception": false,
     "start_time": "2021-05-12T14:29:17.147635",
     "status": "completed"
    },
    "tags": []
   },
   "outputs": [],
   "source": [
    "#hide\n",
    "df  = pd.read_csv('https://api.covid19india.org/csv/latest/states.csv')\n",
    "df = df[['Date','State','Confirmed','Deceased']]\n",
    "df = df.rename(columns={'Confirmed':'Cases', \"Deceased\":'Deaths'})\n",
    "df_cases = df[[\"Date\",'State','Cases']]\n",
    "df_deaths = df[['Date','State','Deaths']]\n",
    "df_cases1 = df_cases.groupby('Date')\n",
    "df_deaths1= df_deaths.groupby('Date')"
   ]
  },
  {
   "cell_type": "code",
   "execution_count": 3,
   "id": "hybrid-cathedral",
   "metadata": {
    "execution": {
     "iopub.execute_input": "2021-05-12T14:29:17.598659Z",
     "iopub.status.busy": "2021-05-12T14:29:17.597987Z",
     "iopub.status.idle": "2021-05-12T14:29:17.615900Z",
     "shell.execute_reply": "2021-05-12T14:29:17.615344Z"
    },
    "papermill": {
     "duration": 0.03937,
     "end_time": "2021-05-12T14:29:17.616010",
     "exception": false,
     "start_time": "2021-05-12T14:29:17.576640",
     "status": "completed"
    },
    "tags": []
   },
   "outputs": [],
   "source": [
    "#hide\n",
    "df_snap = pd.read_csv('data/SnapshotCases-28-July.csv')\n",
    "arr_states = df_snap['states'].unique()\n",
    "arr_dates = df['Date'].unique()\n",
    "df_snap = df_snap.set_index('states')"
   ]
  },
  {
   "cell_type": "code",
   "execution_count": 4,
   "id": "interior-belfast",
   "metadata": {
    "execution": {
     "iopub.execute_input": "2021-05-12T14:29:17.661033Z",
     "iopub.status.busy": "2021-05-12T14:29:17.660399Z",
     "iopub.status.idle": "2021-05-12T14:29:17.663145Z",
     "shell.execute_reply": "2021-05-12T14:29:17.663833Z"
    },
    "papermill": {
     "duration": 0.029418,
     "end_time": "2021-05-12T14:29:17.663952",
     "exception": false,
     "start_time": "2021-05-12T14:29:17.634534",
     "status": "completed"
    },
    "tags": []
   },
   "outputs": [
    {
     "data": {
      "text/plain": [
       "array(['Andaman and Nicobar Islands', 'Andhra Pradesh',\n",
       "       'Arunachal Pradesh', 'Assam', 'Bihar', 'Chandigarh',\n",
       "       'Dadra and Nagar Haveli and Daman and Diu', 'Delhi', 'Goa',\n",
       "       'Gujarat', 'Haryana', 'Himachal Pradesh', 'Jammu and Kashmir',\n",
       "       'Jharkhand', 'Karnataka', 'Kerala', 'Lakshadweep',\n",
       "       'Madhya Pradesh', 'Maharashtra', 'Manipur', 'Meghalaya', 'Mizoram',\n",
       "       'Nagaland', 'Odisha', 'Puducherry', 'Punjab', 'Rajasthan',\n",
       "       'Sikkim', 'Tamil Nadu', 'Telangana', 'Tripura', 'Uttar Pradesh',\n",
       "       'West Bengal', 'Chhattisgarh', 'Ladakh', 'Uttarakhand'],\n",
       "      dtype=object)"
      ]
     },
     "execution_count": 4,
     "metadata": {},
     "output_type": "execute_result"
    }
   ],
   "source": [
    "#hide\n",
    "arr_states[-9] = 'Puducherry'\n",
    "arr_states[-10] = 'Odisha'\n",
    "arr_states[6] = 'Dadra and Nagar Haveli and Daman and Diu'\n",
    "arr_states = np.append(arr_states,np.array(['Chhattisgarh','Ladakh','Uttarakhand']))\n",
    "arr_states"
   ]
  },
  {
   "cell_type": "code",
   "execution_count": 5,
   "id": "behind-manner",
   "metadata": {
    "execution": {
     "iopub.execute_input": "2021-05-12T14:29:17.713763Z",
     "iopub.status.busy": "2021-05-12T14:29:17.713129Z",
     "iopub.status.idle": "2021-05-12T14:29:17.723446Z",
     "shell.execute_reply": "2021-05-12T14:29:17.722893Z"
    },
    "papermill": {
     "duration": 0.041067,
     "end_time": "2021-05-12T14:29:17.723565",
     "exception": false,
     "start_time": "2021-05-12T14:29:17.682498",
     "status": "completed"
    },
    "tags": []
   },
   "outputs": [],
   "source": [
    "#hide\n",
    "dates = []\n",
    "for i in arr_dates:\n",
    "    if i>='2020-07-01':\n",
    "        dates.append(i)\n",
    "dict = {'states':dates}\n",
    "for i in arr_states:\n",
    "    dict[i] = [0]*len(dates)\n",
    "dft_cases = pd.DataFrame(dict)\n",
    "dft_deaths = pd.DataFrame(dict)\n"
   ]
  },
  {
   "cell_type": "code",
   "execution_count": 6,
   "id": "simplified-peter",
   "metadata": {
    "execution": {
     "iopub.execute_input": "2021-05-12T14:29:17.765881Z",
     "iopub.status.busy": "2021-05-12T14:29:17.765194Z",
     "iopub.status.idle": "2021-05-12T14:29:23.813197Z",
     "shell.execute_reply": "2021-05-12T14:29:23.812629Z"
    },
    "papermill": {
     "duration": 6.071284,
     "end_time": "2021-05-12T14:29:23.813325",
     "exception": false,
     "start_time": "2021-05-12T14:29:17.742041",
     "status": "completed"
    },
    "tags": []
   },
   "outputs": [],
   "source": [
    "#hide\n",
    "for i in range(len(dates)):\n",
    "    df1_deaths = df_deaths1.get_group(dates[i])\n",
    "    for j in range(len(df1_deaths.index)):\n",
    "        if df1_deaths.iloc[j,1] in arr_states:\n",
    "            dft_deaths.loc[i,df1_deaths.iloc[j,1]] = df1_deaths.iloc[j,2]\n",
    "dft_deaths = dft_deaths.set_index('states')"
   ]
  },
  {
   "cell_type": "code",
   "execution_count": 7,
   "id": "geological-welding",
   "metadata": {
    "execution": {
     "iopub.execute_input": "2021-05-12T14:29:23.855990Z",
     "iopub.status.busy": "2021-05-12T14:29:23.855360Z",
     "iopub.status.idle": "2021-05-12T14:29:29.525575Z",
     "shell.execute_reply": "2021-05-12T14:29:29.524522Z"
    },
    "papermill": {
     "duration": 5.694243,
     "end_time": "2021-05-12T14:29:29.525704",
     "exception": false,
     "start_time": "2021-05-12T14:29:23.831461",
     "status": "completed"
    },
    "tags": []
   },
   "outputs": [],
   "source": [
    "#hide\n",
    "for i in range(len(dates)):\n",
    "    df1_cases = df_cases1.get_group(dates[i])\n",
    "    for j in range(len(df1_cases.index)):\n",
    "        if df1_cases.iloc[j,1] in arr_states:\n",
    "            dft_cases.loc[i,df1_cases.iloc[j,1]] = df1_cases.iloc[j,2]\n",
    "dft_cases = dft_cases.set_index('states')"
   ]
  },
  {
   "cell_type": "code",
   "execution_count": 8,
   "id": "binary-ratio",
   "metadata": {
    "execution": {
     "iopub.execute_input": "2021-05-12T14:29:29.568708Z",
     "iopub.status.busy": "2021-05-12T14:29:29.567360Z",
     "iopub.status.idle": "2021-05-12T14:29:29.569420Z",
     "shell.execute_reply": "2021-05-12T14:29:29.569914Z"
    },
    "papermill": {
     "duration": 0.025421,
     "end_time": "2021-05-12T14:29:29.570046",
     "exception": false,
     "start_time": "2021-05-12T14:29:29.544625",
     "status": "completed"
    },
    "tags": []
   },
   "outputs": [],
   "source": [
    "#hide\n",
    "dft_cases = dft_cases.T\n",
    "dft_deaths = dft_deaths.T\n",
    "dt_today = dates[-1]\n",
    "dt_yday = dates[-2]"
   ]
  },
  {
   "cell_type": "code",
   "execution_count": 9,
   "id": "boolean-calculator",
   "metadata": {
    "execution": {
     "iopub.execute_input": "2021-05-12T14:29:29.612128Z",
     "iopub.status.busy": "2021-05-12T14:29:29.611379Z",
     "iopub.status.idle": "2021-05-12T14:29:29.616080Z",
     "shell.execute_reply": "2021-05-12T14:29:29.616690Z"
    },
    "papermill": {
     "duration": 0.028186,
     "end_time": "2021-05-12T14:29:29.616806",
     "exception": false,
     "start_time": "2021-05-12T14:29:29.588620",
     "status": "completed"
    },
    "tags": []
   },
   "outputs": [],
   "source": [
    "#hide\n",
    "dft_cases = dft_cases.reset_index()\n",
    "dft_deaths = dft_deaths.reset_index()\n",
    "dft_cases = dft_cases.rename(columns = {'index':'state'})\n",
    "dft_deaths = dft_deaths.rename(columns = {'index':'state'})"
   ]
  },
  {
   "cell_type": "code",
   "execution_count": 10,
   "id": "invisible-johnston",
   "metadata": {
    "execution": {
     "iopub.execute_input": "2021-05-12T14:29:29.662063Z",
     "iopub.status.busy": "2021-05-12T14:29:29.661446Z",
     "iopub.status.idle": "2021-05-12T14:29:29.664634Z",
     "shell.execute_reply": "2021-05-12T14:29:29.665162Z"
    },
    "papermill": {
     "duration": 0.031094,
     "end_time": "2021-05-12T14:29:29.665278",
     "exception": false,
     "start_time": "2021-05-12T14:29:29.634184",
     "status": "completed"
    },
    "tags": []
   },
   "outputs": [],
   "source": [
    "#hide\n",
    "dfc_cases = dft_cases.groupby('state')[dt_today].sum()\n",
    "dfc_deaths = dft_deaths.groupby('state')[dt_today].sum()\n",
    "dfp_cases = dft_cases.groupby('state')[dt_yday].sum()\n",
    "dfp_deaths = dft_deaths.groupby('state')[dt_yday].sum()"
   ]
  },
  {
   "cell_type": "code",
   "execution_count": 11,
   "id": "measured-great",
   "metadata": {
    "execution": {
     "iopub.execute_input": "2021-05-12T14:29:29.707116Z",
     "iopub.status.busy": "2021-05-12T14:29:29.706482Z",
     "iopub.status.idle": "2021-05-12T14:29:29.720561Z",
     "shell.execute_reply": "2021-05-12T14:29:29.720088Z"
    },
    "papermill": {
     "duration": 0.037916,
     "end_time": "2021-05-12T14:29:29.720665",
     "exception": false,
     "start_time": "2021-05-12T14:29:29.682749",
     "status": "completed"
    },
    "tags": []
   },
   "outputs": [
    {
     "data": {
      "text/html": [
       "<div>\n",
       "<style scoped>\n",
       "    .dataframe tbody tr th:only-of-type {\n",
       "        vertical-align: middle;\n",
       "    }\n",
       "\n",
       "    .dataframe tbody tr th {\n",
       "        vertical-align: top;\n",
       "    }\n",
       "\n",
       "    .dataframe thead th {\n",
       "        text-align: right;\n",
       "    }\n",
       "</style>\n",
       "<table border=\"1\" class=\"dataframe\">\n",
       "  <thead>\n",
       "    <tr style=\"text-align: right;\">\n",
       "      <th></th>\n",
       "      <th>states</th>\n",
       "      <th>Cases</th>\n",
       "      <th>Deaths</th>\n",
       "      <th>PCases</th>\n",
       "      <th>PDeaths</th>\n",
       "    </tr>\n",
       "  </thead>\n",
       "  <tbody>\n",
       "    <tr>\n",
       "      <th>0</th>\n",
       "      <td>Maharashtra</td>\n",
       "      <td>5179929</td>\n",
       "      <td>77191</td>\n",
       "      <td>5179929</td>\n",
       "      <td>77191</td>\n",
       "    </tr>\n",
       "    <tr>\n",
       "      <th>1</th>\n",
       "      <td>Karnataka</td>\n",
       "      <td>2013193</td>\n",
       "      <td>19852</td>\n",
       "      <td>2013193</td>\n",
       "      <td>19852</td>\n",
       "    </tr>\n",
       "    <tr>\n",
       "      <th>2</th>\n",
       "      <td>Kerala</td>\n",
       "      <td>2010935</td>\n",
       "      <td>6054</td>\n",
       "      <td>1967406</td>\n",
       "      <td>5959</td>\n",
       "    </tr>\n",
       "    <tr>\n",
       "      <th>3</th>\n",
       "      <td>Uttar Pradesh</td>\n",
       "      <td>1545212</td>\n",
       "      <td>16043</td>\n",
       "      <td>1545212</td>\n",
       "      <td>16043</td>\n",
       "    </tr>\n",
       "    <tr>\n",
       "      <th>4</th>\n",
       "      <td>Tamil Nadu</td>\n",
       "      <td>1438509</td>\n",
       "      <td>16178</td>\n",
       "      <td>1438509</td>\n",
       "      <td>16178</td>\n",
       "    </tr>\n",
       "  </tbody>\n",
       "</table>\n",
       "</div>"
      ],
      "text/plain": [
       "          states    Cases  Deaths   PCases  PDeaths\n",
       "0    Maharashtra  5179929   77191  5179929    77191\n",
       "1      Karnataka  2013193   19852  2013193    19852\n",
       "2         Kerala  2010935    6054  1967406     5959\n",
       "3  Uttar Pradesh  1545212   16043  1545212    16043\n",
       "4     Tamil Nadu  1438509   16178  1438509    16178"
      ]
     },
     "execution_count": 11,
     "metadata": {},
     "output_type": "execute_result"
    }
   ],
   "source": [
    "#hide\n",
    "df_table = pd.DataFrame({'states': dfc_cases.index, 'Cases': dfc_cases.values, 'Deaths': dfc_deaths.values, 'PCases': dfp_cases.values, 'PDeaths': dfp_deaths.values}).set_index('states')\n",
    "df_table = df_table.sort_values(by = ['Cases','Deaths'], ascending = [False, False])\n",
    "df_table = df_table.reset_index()\n",
    "df_table.head()"
   ]
  },
  {
   "cell_type": "code",
   "execution_count": 12,
   "id": "found-montreal",
   "metadata": {
    "execution": {
     "iopub.execute_input": "2021-05-12T14:29:29.760822Z",
     "iopub.status.busy": "2021-05-12T14:29:29.760237Z",
     "iopub.status.idle": "2021-05-12T14:29:29.768545Z",
     "shell.execute_reply": "2021-05-12T14:29:29.769200Z"
    },
    "papermill": {
     "duration": 0.031131,
     "end_time": "2021-05-12T14:29:29.769350",
     "exception": false,
     "start_time": "2021-05-12T14:29:29.738219",
     "status": "completed"
    },
    "tags": []
   },
   "outputs": [],
   "source": [
    "#hide\n",
    "for c in 'Cases, Deaths'.split(', '):\n",
    "    df_table[f'{c} (+)'] = (df_table[c] - df_table[f'P{c}']).clip(0)\n",
    "df_table['Fatality Rate'] = (100* df_table['Deaths']/ df_table['Cases']).round(2)"
   ]
  },
  {
   "cell_type": "code",
   "execution_count": 13,
   "id": "minus-savage",
   "metadata": {
    "execution": {
     "iopub.execute_input": "2021-05-12T14:29:29.819150Z",
     "iopub.status.busy": "2021-05-12T14:29:29.818469Z",
     "iopub.status.idle": "2021-05-12T14:29:29.821702Z",
     "shell.execute_reply": "2021-05-12T14:29:29.821128Z"
    },
    "papermill": {
     "duration": 0.034448,
     "end_time": "2021-05-12T14:29:29.821827",
     "exception": false,
     "start_time": "2021-05-12T14:29:29.787379",
     "status": "completed"
    },
    "tags": []
   },
   "outputs": [
    {
     "data": {
      "text/html": [
       "<div>\n",
       "<style scoped>\n",
       "    .dataframe tbody tr th:only-of-type {\n",
       "        vertical-align: middle;\n",
       "    }\n",
       "\n",
       "    .dataframe tbody tr th {\n",
       "        vertical-align: top;\n",
       "    }\n",
       "\n",
       "    .dataframe thead th {\n",
       "        text-align: right;\n",
       "    }\n",
       "</style>\n",
       "<table border=\"1\" class=\"dataframe\">\n",
       "  <thead>\n",
       "    <tr style=\"text-align: right;\">\n",
       "      <th></th>\n",
       "      <th>states</th>\n",
       "      <th>Cases</th>\n",
       "      <th>Deaths</th>\n",
       "      <th>PCases</th>\n",
       "      <th>PDeaths</th>\n",
       "      <th>Cases (+)</th>\n",
       "      <th>Deaths (+)</th>\n",
       "      <th>Fatality Rate</th>\n",
       "    </tr>\n",
       "  </thead>\n",
       "  <tbody>\n",
       "    <tr>\n",
       "      <th>0</th>\n",
       "      <td>Maharashtra</td>\n",
       "      <td>5179929</td>\n",
       "      <td>77191</td>\n",
       "      <td>5179929</td>\n",
       "      <td>77191</td>\n",
       "      <td>0</td>\n",
       "      <td>0</td>\n",
       "      <td>1.49</td>\n",
       "    </tr>\n",
       "    <tr>\n",
       "      <th>1</th>\n",
       "      <td>Karnataka</td>\n",
       "      <td>2013193</td>\n",
       "      <td>19852</td>\n",
       "      <td>2013193</td>\n",
       "      <td>19852</td>\n",
       "      <td>0</td>\n",
       "      <td>0</td>\n",
       "      <td>0.99</td>\n",
       "    </tr>\n",
       "    <tr>\n",
       "      <th>2</th>\n",
       "      <td>Kerala</td>\n",
       "      <td>2010935</td>\n",
       "      <td>6054</td>\n",
       "      <td>1967406</td>\n",
       "      <td>5959</td>\n",
       "      <td>43529</td>\n",
       "      <td>95</td>\n",
       "      <td>0.30</td>\n",
       "    </tr>\n",
       "    <tr>\n",
       "      <th>3</th>\n",
       "      <td>Uttar Pradesh</td>\n",
       "      <td>1545212</td>\n",
       "      <td>16043</td>\n",
       "      <td>1545212</td>\n",
       "      <td>16043</td>\n",
       "      <td>0</td>\n",
       "      <td>0</td>\n",
       "      <td>1.04</td>\n",
       "    </tr>\n",
       "    <tr>\n",
       "      <th>4</th>\n",
       "      <td>Tamil Nadu</td>\n",
       "      <td>1438509</td>\n",
       "      <td>16178</td>\n",
       "      <td>1438509</td>\n",
       "      <td>16178</td>\n",
       "      <td>0</td>\n",
       "      <td>0</td>\n",
       "      <td>1.12</td>\n",
       "    </tr>\n",
       "  </tbody>\n",
       "</table>\n",
       "</div>"
      ],
      "text/plain": [
       "          states    Cases  Deaths   PCases  PDeaths  Cases (+)  Deaths (+)  \\\n",
       "0    Maharashtra  5179929   77191  5179929    77191          0           0   \n",
       "1      Karnataka  2013193   19852  2013193    19852          0           0   \n",
       "2         Kerala  2010935    6054  1967406     5959      43529          95   \n",
       "3  Uttar Pradesh  1545212   16043  1545212    16043          0           0   \n",
       "4     Tamil Nadu  1438509   16178  1438509    16178          0           0   \n",
       "\n",
       "   Fatality Rate  \n",
       "0           1.49  \n",
       "1           0.99  \n",
       "2           0.30  \n",
       "3           1.04  \n",
       "4           1.12  "
      ]
     },
     "execution_count": 13,
     "metadata": {},
     "output_type": "execute_result"
    }
   ],
   "source": [
    "#hide\n",
    "df_table.head()"
   ]
  },
  {
   "cell_type": "code",
   "execution_count": 14,
   "id": "false-peter",
   "metadata": {
    "execution": {
     "iopub.execute_input": "2021-05-12T14:29:29.865123Z",
     "iopub.status.busy": "2021-05-12T14:29:29.864509Z",
     "iopub.status.idle": "2021-05-12T14:29:29.882496Z",
     "shell.execute_reply": "2021-05-12T14:29:29.883080Z"
    },
    "papermill": {
     "duration": 0.042538,
     "end_time": "2021-05-12T14:29:29.883215",
     "exception": false,
     "start_time": "2021-05-12T14:29:29.840677",
     "status": "completed"
    },
    "tags": []
   },
   "outputs": [
    {
     "data": {
      "text/plain": [
       "{'updated': '2021-05-12',\n",
       " 'since': '2021-05-11',\n",
       " 'Cases': 23398399,\n",
       " 'PCases': 23340592,\n",
       " 'Deaths': 254388,\n",
       " 'PDeaths': 254225,\n",
       " 'Cases (+)': 57807,\n",
       " 'Deaths (+)': 163}"
      ]
     },
     "execution_count": 14,
     "metadata": {},
     "output_type": "execute_result"
    }
   ],
   "source": [
    "#hide\n",
    "summary = {'updated':dates[-1], 'since':dates[-2]}\n",
    "list_names = ['Cases', 'PCases', 'Deaths', 'PDeaths', 'Cases (+)', 'Deaths (+)']\n",
    "for name in list_names:\n",
    "    summary[name] = df_table.sum()[name]\n",
    "summary"
   ]
  },
  {
   "cell_type": "code",
   "execution_count": 15,
   "id": "packed-viewer",
   "metadata": {
    "execution": {
     "iopub.execute_input": "2021-05-12T14:29:29.926425Z",
     "iopub.status.busy": "2021-05-12T14:29:29.925690Z",
     "iopub.status.idle": "2021-05-12T14:29:29.927454Z",
     "shell.execute_reply": "2021-05-12T14:29:29.927942Z"
    },
    "papermill": {
     "duration": 0.025902,
     "end_time": "2021-05-12T14:29:29.928088",
     "exception": false,
     "start_time": "2021-05-12T14:29:29.902186",
     "status": "completed"
    },
    "tags": []
   },
   "outputs": [],
   "source": [
    "#hide\n",
    "overview = '''\n",
    "<!-- #######  HTML!! #########-->\n",
    "<h1 style=\"color: #5e9ca0; text-align: center;\">India</h1>\n",
    "<p style=\"text-align: center;\">Last update: <strong>{update}</strong></p>\n",
    "<p style=\"text-align: center;\">Confirmed cases:</p>\n",
    "<p style=\"text-align: center;font-size:24px;\">{cases} (<span style=\"color: #ff0000;\">+{new}</span>)</p>\n",
    "<p style=\"text-align: center;\">Confirmed deaths:</p>\n",
    "<p style=\"text-align: center;font-size:24px;\">{deaths} (<span style=\"color: #ff0000;\">+{dnew}</span>)</p>\n",
    "'''"
   ]
  },
  {
   "cell_type": "code",
   "execution_count": 16,
   "id": "phantom-lover",
   "metadata": {
    "execution": {
     "iopub.execute_input": "2021-05-12T14:29:29.972102Z",
     "iopub.status.busy": "2021-05-12T14:29:29.971325Z",
     "iopub.status.idle": "2021-05-12T14:29:29.974604Z",
     "shell.execute_reply": "2021-05-12T14:29:29.974085Z"
    },
    "papermill": {
     "duration": 0.027634,
     "end_time": "2021-05-12T14:29:29.974711",
     "exception": false,
     "start_time": "2021-05-12T14:29:29.947077",
     "status": "completed"
    },
    "tags": []
   },
   "outputs": [
    {
     "data": {
      "text/html": [
       "\n",
       "<!-- #######  HTML!! #########-->\n",
       "<h1 style=\"color: #5e9ca0; text-align: center;\">India</h1>\n",
       "<p style=\"text-align: center;\">Last update: <strong>2021-05-12</strong></p>\n",
       "<p style=\"text-align: center;\">Confirmed cases:</p>\n",
       "<p style=\"text-align: center;font-size:24px;\">23398399 (<span style=\"color: #ff0000;\">+57807</span>)</p>\n",
       "<p style=\"text-align: center;\">Confirmed deaths:</p>\n",
       "<p style=\"text-align: center;font-size:24px;\">254388 (<span style=\"color: #ff0000;\">+163</span>)</p>\n"
      ],
      "text/plain": [
       "<IPython.core.display.HTML object>"
      ]
     },
     "metadata": {},
     "output_type": "display_data"
    }
   ],
   "source": [
    "#hide_input\n",
    "update = summary['updated']\n",
    "cases = summary['Cases']\n",
    "new = summary['Cases (+)']\n",
    "deaths = summary['Deaths']\n",
    "dnew = summary['Deaths (+)']\n",
    "\n",
    "html = HTML(overview.format(update=update, cases=cases,new=new,deaths=deaths,dnew=dnew))\n",
    "\n",
    "display(html)"
   ]
  },
  {
   "cell_type": "code",
   "execution_count": 17,
   "id": "sealed-reset",
   "metadata": {
    "execution": {
     "iopub.execute_input": "2021-05-12T14:29:30.020675Z",
     "iopub.status.busy": "2021-05-12T14:29:30.019963Z",
     "iopub.status.idle": "2021-05-12T14:29:30.027887Z",
     "shell.execute_reply": "2021-05-12T14:29:30.028429Z"
    },
    "papermill": {
     "duration": 0.034038,
     "end_time": "2021-05-12T14:29:30.028556",
     "exception": false,
     "start_time": "2021-05-12T14:29:29.994518",
     "status": "completed"
    },
    "tags": []
   },
   "outputs": [],
   "source": [
    "#hide\n",
    "dt_cols = list(dft_cases.columns[1:])\n",
    "dft_ct_new_cases = dft_cases.groupby('state')[dt_cols].sum().diff(axis=1).fillna(0).astype(int)\n",
    "dft_ct_new_cases.sort_values(by = dates[-1], ascending = False,inplace = True)"
   ]
  },
  {
   "cell_type": "code",
   "execution_count": 18,
   "id": "designed-constant",
   "metadata": {
    "execution": {
     "iopub.execute_input": "2021-05-12T14:29:30.094987Z",
     "iopub.status.busy": "2021-05-12T14:29:30.094351Z",
     "iopub.status.idle": "2021-05-12T14:29:30.102575Z",
     "shell.execute_reply": "2021-05-12T14:29:30.102053Z"
    },
    "papermill": {
     "duration": 0.053611,
     "end_time": "2021-05-12T14:29:30.102711",
     "exception": false,
     "start_time": "2021-05-12T14:29:30.049100",
     "status": "completed"
    },
    "tags": []
   },
   "outputs": [
    {
     "data": {
      "text/html": [
       "<div>\n",
       "<style scoped>\n",
       "    .dataframe tbody tr th:only-of-type {\n",
       "        vertical-align: middle;\n",
       "    }\n",
       "\n",
       "    .dataframe tbody tr th {\n",
       "        vertical-align: top;\n",
       "    }\n",
       "\n",
       "    .dataframe thead th {\n",
       "        text-align: right;\n",
       "    }\n",
       "</style>\n",
       "<table border=\"1\" class=\"dataframe\">\n",
       "  <thead>\n",
       "    <tr style=\"text-align: right;\">\n",
       "      <th>states</th>\n",
       "      <th>2020-07-01</th>\n",
       "      <th>2020-07-02</th>\n",
       "      <th>2020-07-03</th>\n",
       "      <th>2020-07-04</th>\n",
       "      <th>2020-07-05</th>\n",
       "      <th>2020-07-06</th>\n",
       "      <th>2020-07-07</th>\n",
       "      <th>2020-07-08</th>\n",
       "      <th>2020-07-09</th>\n",
       "      <th>2020-07-10</th>\n",
       "      <th>...</th>\n",
       "      <th>2021-05-03</th>\n",
       "      <th>2021-05-04</th>\n",
       "      <th>2021-05-05</th>\n",
       "      <th>2021-05-06</th>\n",
       "      <th>2021-05-07</th>\n",
       "      <th>2021-05-08</th>\n",
       "      <th>2021-05-09</th>\n",
       "      <th>2021-05-10</th>\n",
       "      <th>2021-05-11</th>\n",
       "      <th>2021-05-12</th>\n",
       "    </tr>\n",
       "    <tr>\n",
       "      <th>state</th>\n",
       "      <th></th>\n",
       "      <th></th>\n",
       "      <th></th>\n",
       "      <th></th>\n",
       "      <th></th>\n",
       "      <th></th>\n",
       "      <th></th>\n",
       "      <th></th>\n",
       "      <th></th>\n",
       "      <th></th>\n",
       "      <th></th>\n",
       "      <th></th>\n",
       "      <th></th>\n",
       "      <th></th>\n",
       "      <th></th>\n",
       "      <th></th>\n",
       "      <th></th>\n",
       "      <th></th>\n",
       "      <th></th>\n",
       "      <th></th>\n",
       "      <th></th>\n",
       "    </tr>\n",
       "  </thead>\n",
       "  <tbody>\n",
       "    <tr>\n",
       "      <th>Kerala</th>\n",
       "      <td>0</td>\n",
       "      <td>160</td>\n",
       "      <td>211</td>\n",
       "      <td>240</td>\n",
       "      <td>225</td>\n",
       "      <td>193</td>\n",
       "      <td>272</td>\n",
       "      <td>301</td>\n",
       "      <td>339</td>\n",
       "      <td>416</td>\n",
       "      <td>...</td>\n",
       "      <td>26011</td>\n",
       "      <td>37190</td>\n",
       "      <td>41953</td>\n",
       "      <td>42464</td>\n",
       "      <td>38460</td>\n",
       "      <td>41971</td>\n",
       "      <td>35801</td>\n",
       "      <td>27487</td>\n",
       "      <td>37290</td>\n",
       "      <td>43529</td>\n",
       "    </tr>\n",
       "    <tr>\n",
       "      <th>Odisha</th>\n",
       "      <td>0</td>\n",
       "      <td>229</td>\n",
       "      <td>561</td>\n",
       "      <td>495</td>\n",
       "      <td>469</td>\n",
       "      <td>456</td>\n",
       "      <td>571</td>\n",
       "      <td>527</td>\n",
       "      <td>577</td>\n",
       "      <td>755</td>\n",
       "      <td>...</td>\n",
       "      <td>8914</td>\n",
       "      <td>8216</td>\n",
       "      <td>9889</td>\n",
       "      <td>10521</td>\n",
       "      <td>12238</td>\n",
       "      <td>11807</td>\n",
       "      <td>10635</td>\n",
       "      <td>10031</td>\n",
       "      <td>9793</td>\n",
       "      <td>10982</td>\n",
       "    </tr>\n",
       "    <tr>\n",
       "      <th>Puducherry</th>\n",
       "      <td>0</td>\n",
       "      <td>63</td>\n",
       "      <td>22</td>\n",
       "      <td>80</td>\n",
       "      <td>42</td>\n",
       "      <td>65</td>\n",
       "      <td>30</td>\n",
       "      <td>110</td>\n",
       "      <td>49</td>\n",
       "      <td>72</td>\n",
       "      <td>...</td>\n",
       "      <td>799</td>\n",
       "      <td>1138</td>\n",
       "      <td>1819</td>\n",
       "      <td>1510</td>\n",
       "      <td>1746</td>\n",
       "      <td>1703</td>\n",
       "      <td>1633</td>\n",
       "      <td>1266</td>\n",
       "      <td>2049</td>\n",
       "      <td>2007</td>\n",
       "    </tr>\n",
       "    <tr>\n",
       "      <th>Tripura</th>\n",
       "      <td>0</td>\n",
       "      <td>39</td>\n",
       "      <td>93</td>\n",
       "      <td>25</td>\n",
       "      <td>23</td>\n",
       "      <td>111</td>\n",
       "      <td>24</td>\n",
       "      <td>57</td>\n",
       "      <td>16</td>\n",
       "      <td>142</td>\n",
       "      <td>...</td>\n",
       "      <td>134</td>\n",
       "      <td>271</td>\n",
       "      <td>240</td>\n",
       "      <td>300</td>\n",
       "      <td>315</td>\n",
       "      <td>359</td>\n",
       "      <td>351</td>\n",
       "      <td>133</td>\n",
       "      <td>466</td>\n",
       "      <td>416</td>\n",
       "    </tr>\n",
       "    <tr>\n",
       "      <th>Meghalaya</th>\n",
       "      <td>0</td>\n",
       "      <td>3</td>\n",
       "      <td>4</td>\n",
       "      <td>8</td>\n",
       "      <td>2</td>\n",
       "      <td>16</td>\n",
       "      <td>6</td>\n",
       "      <td>6</td>\n",
       "      <td>13</td>\n",
       "      <td>73</td>\n",
       "      <td>...</td>\n",
       "      <td>246</td>\n",
       "      <td>339</td>\n",
       "      <td>269</td>\n",
       "      <td>347</td>\n",
       "      <td>297</td>\n",
       "      <td>375</td>\n",
       "      <td>418</td>\n",
       "      <td>409</td>\n",
       "      <td>450</td>\n",
       "      <td>406</td>\n",
       "    </tr>\n",
       "  </tbody>\n",
       "</table>\n",
       "<p>5 rows × 316 columns</p>\n",
       "</div>"
      ],
      "text/plain": [
       "states      2020-07-01  2020-07-02  2020-07-03  2020-07-04  2020-07-05  \\\n",
       "state                                                                    \n",
       "Kerala               0         160         211         240         225   \n",
       "Odisha               0         229         561         495         469   \n",
       "Puducherry           0          63          22          80          42   \n",
       "Tripura              0          39          93          25          23   \n",
       "Meghalaya            0           3           4           8           2   \n",
       "\n",
       "states      2020-07-06  2020-07-07  2020-07-08  2020-07-09  2020-07-10  ...  \\\n",
       "state                                                                   ...   \n",
       "Kerala             193         272         301         339         416  ...   \n",
       "Odisha             456         571         527         577         755  ...   \n",
       "Puducherry          65          30         110          49          72  ...   \n",
       "Tripura            111          24          57          16         142  ...   \n",
       "Meghalaya           16           6           6          13          73  ...   \n",
       "\n",
       "states      2021-05-03  2021-05-04  2021-05-05  2021-05-06  2021-05-07  \\\n",
       "state                                                                    \n",
       "Kerala           26011       37190       41953       42464       38460   \n",
       "Odisha            8914        8216        9889       10521       12238   \n",
       "Puducherry         799        1138        1819        1510        1746   \n",
       "Tripura            134         271         240         300         315   \n",
       "Meghalaya          246         339         269         347         297   \n",
       "\n",
       "states      2021-05-08  2021-05-09  2021-05-10  2021-05-11  2021-05-12  \n",
       "state                                                                   \n",
       "Kerala           41971       35801       27487       37290       43529  \n",
       "Odisha           11807       10635       10031        9793       10982  \n",
       "Puducherry        1703        1633        1266        2049        2007  \n",
       "Tripura            359         351         133         466         416  \n",
       "Meghalaya          375         418         409         450         406  \n",
       "\n",
       "[5 rows x 316 columns]"
      ]
     },
     "execution_count": 18,
     "metadata": {},
     "output_type": "execute_result"
    }
   ],
   "source": [
    "#hide\n",
    "dft_ct_new_cases.head()"
   ]
  },
  {
   "cell_type": "code",
   "execution_count": 19,
   "id": "responsible-nightlife",
   "metadata": {
    "execution": {
     "iopub.execute_input": "2021-05-12T14:29:30.174480Z",
     "iopub.status.busy": "2021-05-12T14:29:30.167096Z",
     "iopub.status.idle": "2021-05-12T14:29:43.540574Z",
     "shell.execute_reply": "2021-05-12T14:29:43.539972Z"
    },
    "papermill": {
     "duration": 13.417006,
     "end_time": "2021-05-12T14:29:43.540704",
     "exception": false,
     "start_time": "2021-05-12T14:29:30.123698",
     "status": "completed"
    },
    "tags": []
   },
   "outputs": [
    {
     "data": {
      "image/png": "[encoded data removed]",
      "text/plain": [
       "<Figure size 1296x2016 with 11 Axes>"
      ]
     },
     "metadata": {
      "needs_background": "light"
     },
     "output_type": "display_data"
    }
   ],
   "source": [
    "#hide_input\n",
    "df = dft_ct_new_cases.copy()\n",
    "df.loc['Total'] = df.sum()\n",
    "n = 5\n",
    "ax = []\n",
    "fig = plt.figure(figsize = (18,28))\n",
    "gs = fig.add_gridspec(n+2, 5)\n",
    "# gs = fig.add_gridspec(2, 3)\n",
    "ax1 = fig.add_subplot(gs[0, :])\n",
    "ef = df.loc['Total'].rename_axis('date').reset_index()\n",
    "ef['date'] = ef['date'].astype('datetime64[ns]')\n",
    "ax1.bar(ef.date,ef.Total,alpha=0.3,color='#007acc')\n",
    "ax1.plot(ef.date,ef.Total , marker=\"o\", color='#007acc')\n",
    "ax1.xaxis.set_major_locator(mdates.WeekdayLocator())\n",
    "ax1.xaxis.set_major_formatter(mdates.DateFormatter('%b %d'))\n",
    "ax1.text(0.02, 0.5,'India daily case count', transform = ax1.transAxes, fontsize=25);\n",
    "ax1.spines['right'].set_visible(False)\n",
    "ax1.spines['top'].set_visible(False)\n",
    "\n",
    "ax2 = fig.add_subplot(gs[1,0])\n",
    "ef = df.loc['Maharashtra'].rename_axis('date').reset_index()\n",
    "ef['date'] = ef['date'].astype('datetime64[ns]')\n",
    "\n",
    "ax2.bar(ef.date, ef.Maharashtra,color = '#007acc',alpha=0.5)\n",
    "ax2.xaxis.set_major_locator(mdates.WeekdayLocator())\n",
    "ax2.xaxis.set_major_formatter(mdates.DateFormatter('%b %d'))\n",
    "ax2.set_xticks(ax2.get_xticks()[::3])\n",
    "maxyval = ef.Maharashtra.max()\n",
    "ax2.set_ylim([0,maxyval])\n",
    "ax2.text(0.05, 0.9,'Maharashtra', transform = ax2.transAxes, fontsize=20);\n",
    "ax2.spines['right'].set_visible(False)\n",
    "ax2.spines['top'].set_visible(False)\n",
    "\n",
    "\n",
    "ax3 = fig.add_subplot(gs[1,1])\n",
    "ef = df.loc['Tamil Nadu'].rename_axis('date').reset_index()\n",
    "ef['date'] = ef['date'].astype('datetime64[ns]')\n",
    "ax3.bar(ef.date, ef['Tamil Nadu'],color = '#007acc',alpha=0.5,)\n",
    "ax3.xaxis.set_major_locator(mdates.WeekdayLocator())\n",
    "ax3.xaxis.set_major_formatter(mdates.DateFormatter('%b %d'))\n",
    "ax3.set_xticks(ax3.get_xticks()[::3])\n",
    "ax3.text(0.05, 0.9,'Tamil Nadu', transform = ax3.transAxes, fontsize=20);\n",
    "ax3.spines['right'].set_visible(False)\n",
    "ax3.spines['top'].set_visible(False)\n",
    "\n",
    "ax5 = fig.add_subplot(gs[1,3])\n",
    "ef = df.loc['Telangana'].rename_axis('date').reset_index()\n",
    "ef['date'] = ef['date'].astype('datetime64[ns]')\n",
    "ax5.bar(ef.date, ef['Telangana'],color = '#007acc',alpha=0.5,)\n",
    "ax5.xaxis.set_major_locator(mdates.WeekdayLocator())\n",
    "ax5.xaxis.set_major_formatter(mdates.DateFormatter('%b %d'))\n",
    "ax5.set_xticks(ax5.get_xticks()[::3])\n",
    "ax5.text(0.05, 0.9,'Telangana', transform = ax5.transAxes, fontsize=20);\n",
    "ax5.spines['right'].set_visible(False)\n",
    "ax5.spines['top'].set_visible(False)\n",
    "\n",
    "ax6 = fig.add_subplot(gs[1,4])\n",
    "ef = df.loc['Andhra Pradesh'].rename_axis('date').reset_index()\n",
    "ef['date'] = ef['date'].astype('datetime64[ns]')\n",
    "ax6.bar(ef.date, ef['Andhra Pradesh'],color = '#007acc',alpha=0.5,)\n",
    "ax6.xaxis.set_major_locator(mdates.WeekdayLocator())\n",
    "ax6.xaxis.set_major_formatter(mdates.DateFormatter('%b %d'))\n",
    "ax6.set_xticks(ax6.get_xticks()[::3])\n",
    "ax6.text(0.05, 1,'Andhra Pradesh', transform = ax6.transAxes, fontsize=20);\n",
    "ax6.spines['right'].set_visible(False)\n",
    "ax6.spines['top'].set_visible(False)\n",
    "\n",
    "ax4 = fig.add_subplot(gs[1,2])\n",
    "ef = df.loc['Delhi'].rename_axis('date').reset_index()\n",
    "ef['date'] = ef['date'].astype('datetime64[ns]')\n",
    "ax4.bar(ef.date, ef.Delhi,color = '#007acc',alpha=0.5)\n",
    "ax4.set_xticks([])\n",
    "ax4.xaxis.set_major_locator(mdates.WeekdayLocator())\n",
    "ax4.xaxis.set_major_formatter(mdates.DateFormatter('%b %d'))\n",
    "ax4.set_xticks(ax4.get_xticks()[::3])\n",
    "ax4.spines['right'].set_visible(False)\n",
    "ax4.spines['top'].set_visible(False)\n",
    "\n",
    "ax4.text(0.05, 1,'Delhi', transform = ax4.transAxes, fontsize=20)\n",
    "\n",
    "for i in range(n):\n",
    "    \n",
    "    ax.append(fig.add_subplot(gs[i+2,:]))\n",
    "    ef = df.iloc[i+3].rename_axis('date').reset_index()\n",
    "    ef['date'] = ef['date'].astype('datetime64[ns]')\n",
    "    ax[i].bar(ef.date,ef.iloc[:,-1],color = '#007acc',alpha=0.3)\n",
    "    ax[i].plot(ef.date,ef.iloc[:,-1],marker='o',color='#007acc')\n",
    "    ax[i].text(0.02,0.5,f'{ef.columns.values[-1]}',transform = ax[i].transAxes, fontsize = 20);\n",
    "    ax[i].xaxis.set_major_locator(mdates.WeekdayLocator())\n",
    "    ax[i].xaxis.set_major_formatter(mdates.DateFormatter('%b %d'))\n",
    "    ax[i].set_ylim([0,7000])\n",
    "    ax[i].spines['right'].set_visible(False)\n",
    "    ax[i].spines['top'].set_visible(False)\n",
    "plt.tight_layout()\n"
   ]
  },
  {
   "cell_type": "code",
   "execution_count": 20,
   "id": "dress-forge",
   "metadata": {
    "execution": {
     "iopub.execute_input": "2021-05-12T14:29:43.599466Z",
     "iopub.status.busy": "2021-05-12T14:29:43.598623Z",
     "iopub.status.idle": "2021-05-12T14:29:43.601853Z",
     "shell.execute_reply": "2021-05-12T14:29:43.602352Z"
    },
    "papermill": {
     "duration": 0.036689,
     "end_time": "2021-05-12T14:29:43.602513",
     "exception": false,
     "start_time": "2021-05-12T14:29:43.565824",
     "status": "completed"
    },
    "tags": []
   },
   "outputs": [
    {
     "name": "stdout",
     "output_type": "stream",
     "text": [
      "                                   states    Cases  Deaths   PCases  PDeaths  Cases (+)  Deaths (+)  Fatality Rate\n",
      "                              Maharashtra  5179929   77191  5179929    77191          0           0           1.49\n",
      "                                Karnataka  2013193   19852  2013193    19852          0           0           0.99\n",
      "                                   Kerala  2010935    6054  1967406     5959      43529          95           0.30\n",
      "                            Uttar Pradesh  1545212   16043  1545212    16043          0           0           1.04\n",
      "                               Tamil Nadu  1438509   16178  1438509    16178          0           0           1.12\n",
      "                                    Delhi  1348699   20010  1348699    20010          0           0           1.48\n",
      "                           Andhra Pradesh  1322934    8899  1322934     8899          0           0           0.67\n",
      "                              West Bengal  1032740   12593  1032740    12593          0           0           1.22\n",
      "                             Chhattisgarh   873060   10941   873060    10941          0           0           1.25\n",
      "                                Rajasthan   789274    5994   789274     5994          0           0           0.76\n",
      "                                  Gujarat   703594    8629   703594     8629          0           0           1.23\n",
      "                           Madhya Pradesh   691232    6595   691232     6595          0           0           0.95\n",
      "                                  Haryana   640252    5910   640252     5910          0           0           0.92\n",
      "                                    Bihar   612570    3429   612570     3429          0           0           0.56\n",
      "                                   Odisha   565648    2285   554666     2268      10982          17           0.40\n",
      "                                Telangana   506988    2803   506988     2803          0           0           0.55\n",
      "                                   Punjab   459268   10918   459268    10918          0           0           2.38\n",
      "                                    Assam   304429    1838   304429     1838          0           0           0.60\n",
      "                                Jharkhand   296895    4085   296895     4085          0           0           1.38\n",
      "                              Uttarakhand   256934    4014   256934     4014          0           0           1.56\n",
      "                        Jammu and Kashmir   224898    2847   224898     2847          0           0           1.27\n",
      "                         Himachal Pradesh   140759    1989   140759     1989          0           0           1.41\n",
      "                                      Goa   124774    1804   124774     1804          0           0           1.45\n",
      "                               Puducherry    77031    1045    75024     1018       2007          27           1.36\n",
      "                               Chandigarh    51857     585    51857      585          0           0           1.13\n",
      "                                  Tripura    38571     419    38155      410        416           9           1.09\n",
      "                                  Manipur    36370     509    36370      509          0           0           1.40\n",
      "                                Meghalaya    20985     250    20579      242        406           8           1.19\n",
      "                        Arunachal Pradesh    20575      68    20575       68          0           0           0.33\n",
      "                                 Nagaland    16552     156    16552      156          0           0           0.94\n",
      "                                   Ladakh    15564     157    15564      157          0           0           1.01\n",
      "                                   Sikkim    10392     183    10165      177        227           6           1.76\n",
      " Dadra and Nagar Haveli and Daman and Diu     9228       4     9228        4          0           0           0.04\n",
      "                                  Mizoram     8035      23     7795       22        240           1           0.29\n",
      "              Andaman and Nicobar Islands     6426      78     6426       78          0           0           1.21\n",
      "                              Lakshadweep     4087      10     4087       10          0           0           0.24\n"
     ]
    }
   ],
   "source": [
    "#hide_input\n",
    "print(df_table.to_string(index=False))"
   ]
  },
  {
   "cell_type": "code",
   "execution_count": null,
   "id": "quantitative-legend",
   "metadata": {
    "papermill": {
     "duration": 0.025305,
     "end_time": "2021-05-12T14:29:43.652544",
     "exception": false,
     "start_time": "2021-05-12T14:29:43.627239",
     "status": "completed"
    },
    "tags": []
   },
   "outputs": [],
   "source": []
  },
  {
   "cell_type": "code",
   "execution_count": null,
   "id": "distant-acoustic",
   "metadata": {
    "papermill": {
     "duration": 0.025521,
     "end_time": "2021-05-12T14:29:43.703763",
     "exception": false,
     "start_time": "2021-05-12T14:29:43.678242",
     "status": "completed"
    },
    "tags": []
   },
   "outputs": [],
   "source": []
  }
 ],
 "metadata": {
  "kernelspec": {
   "display_name": "Python 3",
   "language": "python",
   "name": "python3"
  },
  "language_info": {
   "codemirror_mode": {
    "name": "ipython",
    "version": 3
   },
   "file_extension": ".py",
   "mimetype": "text/x-python",
   "name": "python",
   "nbconvert_exporter": "python",
   "pygments_lexer": "ipython3",
   "version": "3.6.13"
  },
  "papermill": {
   "duration": 29.27553,
   "end_time": "2021-05-12T14:29:44.438105",
   "environment_variables": {},
   "exception": null,
   "input_path": "latest.ipynb",
   "output_path": "latest.ipynb",
   "parameters": {},
   "start_time": "2021-05-12T14:29:15.162575",
   "version": "2.1.2"
  }
 },
 "nbformat": 4,
 "nbformat_minor": 5
}