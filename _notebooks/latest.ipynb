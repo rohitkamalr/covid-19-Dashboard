{
 "cells": [
  {
   "cell_type": "markdown",
   "metadata": {
    "papermill": {
     "duration": 0.018597,
     "end_time": "2020-12-04T13:39:19.283390",
     "exception": false,
     "start_time": "2020-12-04T13:39:19.264793",
     "status": "completed"
    },
    "tags": []
   },
   "source": [
    "# Latest COVID-19 India Matplotlib Overview"
   ]
  },
  {
   "cell_type": "code",
   "execution_count": 1,
   "metadata": {
    "execution": {
     "iopub.execute_input": "2020-12-04T13:39:19.316017Z",
     "iopub.status.busy": "2020-12-04T13:39:19.315473Z",
     "iopub.status.idle": "2020-12-04T13:39:19.879723Z",
     "shell.execute_reply": "2020-12-04T13:39:19.879031Z"
    },
    "papermill": {
     "duration": 0.582515,
     "end_time": "2020-12-04T13:39:19.879919",
     "exception": false,
     "start_time": "2020-12-04T13:39:19.297404",
     "status": "completed"
    },
    "tags": []
   },
   "outputs": [],
   "source": [
    "#hide\n",
    "import pandas as pd\n",
    "import numpy as np\n",
    "import requests\n",
    "import json\n",
    "import matplotlib.pyplot as plt\n",
    "import matplotlib.dates as mdates\n",
    "import matplotlib as mpl\n",
    "from IPython.core.display import display,HTML\n",
    "%matplotlib inline\n",
    "from datetime import date"
   ]
  },
  {
   "cell_type": "code",
   "execution_count": 2,
   "metadata": {
    "execution": {
     "iopub.execute_input": "2020-12-04T13:39:19.919071Z",
     "iopub.status.busy": "2020-12-04T13:39:19.918491Z",
     "iopub.status.idle": "2020-12-04T13:39:20.076288Z",
     "shell.execute_reply": "2020-12-04T13:39:20.077101Z"
    },
    "papermill": {
     "duration": 0.181576,
     "end_time": "2020-12-04T13:39:20.077363",
     "exception": false,
     "start_time": "2020-12-04T13:39:19.895787",
     "status": "completed"
    },
    "tags": []
   },
   "outputs": [],
   "source": [
    "#hide\n",
    "df  = pd.read_csv('https://api.covid19india.org/csv/latest/states.csv')\n",
    "df = df[['Date','State','Confirmed','Deceased']]\n",
    "df = df.rename(columns={'Confirmed':'Cases', \"Deceased\":'Deaths'})\n",
    "df_cases = df[[\"Date\",'State','Cases']]\n",
    "df_deaths = df[['Date','State','Deaths']]\n",
    "df_cases1 = df_cases.groupby('Date')\n",
    "df_deaths1= df_deaths.groupby('Date')"
   ]
  },
  {
   "cell_type": "code",
   "execution_count": 3,
   "metadata": {
    "execution": {
     "iopub.execute_input": "2020-12-04T13:39:20.110284Z",
     "iopub.status.busy": "2020-12-04T13:39:20.109778Z",
     "iopub.status.idle": "2020-12-04T13:39:20.124786Z",
     "shell.execute_reply": "2020-12-04T13:39:20.125144Z"
    },
    "papermill": {
     "duration": 0.034036,
     "end_time": "2020-12-04T13:39:20.125264",
     "exception": false,
     "start_time": "2020-12-04T13:39:20.091228",
     "status": "completed"
    },
    "tags": []
   },
   "outputs": [],
   "source": [
    "#hide\n",
    "df_snap = pd.read_csv('data/SnapshotCases-28-July.csv')\n",
    "arr_states = df_snap['states'].unique()\n",
    "arr_dates = df['Date'].unique()\n",
    "df_snap = df_snap.set_index('states')"
   ]
  },
  {
   "cell_type": "code",
   "execution_count": 4,
   "metadata": {
    "execution": {
     "iopub.execute_input": "2020-12-04T13:39:20.162485Z",
     "iopub.status.busy": "2020-12-04T13:39:20.161852Z",
     "iopub.status.idle": "2020-12-04T13:39:20.166050Z",
     "shell.execute_reply": "2020-12-04T13:39:20.165602Z"
    },
    "papermill": {
     "duration": 0.028092,
     "end_time": "2020-12-04T13:39:20.166165",
     "exception": false,
     "start_time": "2020-12-04T13:39:20.138073",
     "status": "completed"
    },
    "tags": []
   },
   "outputs": [
    {
     "data": {
      "text/plain": [
       "array(['Andaman and Nicobar Islands', 'Andhra Pradesh',\n",
       "       'Arunachal Pradesh', 'Assam', 'Bihar', 'Chandigarh',\n",
       "       'Dadra and Nagar Haveli and Daman and Diu', 'Delhi', 'Goa',\n",
       "       'Gujarat', 'Haryana', 'Himachal Pradesh', 'Jammu and Kashmir',\n",
       "       'Jharkhand', 'Karnataka', 'Kerala', 'Lakshadweep',\n",
       "       'Madhya Pradesh', 'Maharashtra', 'Manipur', 'Meghalaya', 'Mizoram',\n",
       "       'Nagaland', 'Odisha', 'Puducherry', 'Punjab', 'Rajasthan',\n",
       "       'Sikkim', 'Tamil Nadu', 'Telangana', 'Tripura', 'Uttar Pradesh',\n",
       "       'West Bengal', 'Chhattisgarh', 'Ladakh', 'Uttarakhand'],\n",
       "      dtype=object)"
      ]
     },
     "execution_count": 4,
     "metadata": {},
     "output_type": "execute_result"
    }
   ],
   "source": [
    "#hide\n",
    "arr_states[-9] = 'Puducherry'\n",
    "arr_states[-10] = 'Odisha'\n",
    "arr_states[6] = 'Dadra and Nagar Haveli and Daman and Diu'\n",
    "arr_states = np.append(arr_states,np.array(['Chhattisgarh','Ladakh','Uttarakhand']))\n",
    "arr_states"
   ]
  },
  {
   "cell_type": "code",
   "execution_count": 5,
   "metadata": {
    "execution": {
     "iopub.execute_input": "2020-12-04T13:39:20.206766Z",
     "iopub.status.busy": "2020-12-04T13:39:20.206177Z",
     "iopub.status.idle": "2020-12-04T13:39:20.213548Z",
     "shell.execute_reply": "2020-12-04T13:39:20.213157Z"
    },
    "papermill": {
     "duration": 0.032209,
     "end_time": "2020-12-04T13:39:20.213651",
     "exception": false,
     "start_time": "2020-12-04T13:39:20.181442",
     "status": "completed"
    },
    "tags": []
   },
   "outputs": [],
   "source": [
    "#hide\n",
    "dates = []\n",
    "for i in arr_dates:\n",
    "    if i>='2020-07-01':\n",
    "        dates.append(i)\n",
    "dict = {'states':dates}\n",
    "for i in arr_states:\n",
    "    dict[i] = [0]*len(dates)\n",
    "dft_cases = pd.DataFrame(dict)\n",
    "dft_deaths = pd.DataFrame(dict)\n"
   ]
  },
  {
   "cell_type": "code",
   "execution_count": 6,
   "metadata": {
    "execution": {
     "iopub.execute_input": "2020-12-04T13:39:20.249008Z",
     "iopub.status.busy": "2020-12-04T13:39:20.248438Z",
     "iopub.status.idle": "2020-12-04T13:39:22.357655Z",
     "shell.execute_reply": "2020-12-04T13:39:22.356531Z"
    },
    "papermill": {
     "duration": 2.130004,
     "end_time": "2020-12-04T13:39:22.357800",
     "exception": false,
     "start_time": "2020-12-04T13:39:20.227796",
     "status": "completed"
    },
    "tags": []
   },
   "outputs": [],
   "source": [
    "#hide\n",
    "for i in range(len(dates)):\n",
    "    df1_deaths = df_deaths1.get_group(dates[i])\n",
    "    for j in range(len(df1_deaths.index)):\n",
    "        if df1_deaths.iloc[j,1] in arr_states:\n",
    "            dft_deaths.loc[i,df1_deaths.iloc[j,1]] = df1_deaths.iloc[j,2]\n",
    "dft_deaths = dft_deaths.set_index('states')"
   ]
  },
  {
   "cell_type": "code",
   "execution_count": 7,
   "metadata": {
    "execution": {
     "iopub.execute_input": "2020-12-04T13:39:22.397964Z",
     "iopub.status.busy": "2020-12-04T13:39:22.397158Z",
     "iopub.status.idle": "2020-12-04T13:39:24.429498Z",
     "shell.execute_reply": "2020-12-04T13:39:24.428627Z"
    },
    "papermill": {
     "duration": 2.057368,
     "end_time": "2020-12-04T13:39:24.429718",
     "exception": false,
     "start_time": "2020-12-04T13:39:22.372350",
     "status": "completed"
    },
    "tags": []
   },
   "outputs": [],
   "source": [
    "#hide\n",
    "for i in range(len(dates)):\n",
    "    df1_cases = df_cases1.get_group(dates[i])\n",
    "    for j in range(len(df1_cases.index)):\n",
    "        if df1_cases.iloc[j,1] in arr_states:\n",
    "            dft_cases.loc[i,df1_cases.iloc[j,1]] = df1_cases.iloc[j,2]\n",
    "dft_cases = dft_cases.set_index('states')"
   ]
  },
  {
   "cell_type": "code",
   "execution_count": 8,
   "metadata": {
    "execution": {
     "iopub.execute_input": "2020-12-04T13:39:24.463726Z",
     "iopub.status.busy": "2020-12-04T13:39:24.463303Z",
     "iopub.status.idle": "2020-12-04T13:39:24.465259Z",
     "shell.execute_reply": "2020-12-04T13:39:24.464900Z"
    },
    "papermill": {
     "duration": 0.020013,
     "end_time": "2020-12-04T13:39:24.465348",
     "exception": false,
     "start_time": "2020-12-04T13:39:24.445335",
     "status": "completed"
    },
    "tags": []
   },
   "outputs": [],
   "source": [
    "#hide\n",
    "dft_cases = dft_cases.T\n",
    "dft_deaths = dft_deaths.T\n",
    "dt_today = dates[-1]\n",
    "dt_yday = dates[-2]"
   ]
  },
  {
   "cell_type": "code",
   "execution_count": 9,
   "metadata": {
    "execution": {
     "iopub.execute_input": "2020-12-04T13:39:24.499663Z",
     "iopub.status.busy": "2020-12-04T13:39:24.499254Z",
     "iopub.status.idle": "2020-12-04T13:39:24.501117Z",
     "shell.execute_reply": "2020-12-04T13:39:24.501565Z"
    },
    "papermill": {
     "duration": 0.022398,
     "end_time": "2020-12-04T13:39:24.501689",
     "exception": false,
     "start_time": "2020-12-04T13:39:24.479291",
     "status": "completed"
    },
    "tags": []
   },
   "outputs": [],
   "source": [
    "#hide\n",
    "dft_cases = dft_cases.reset_index()\n",
    "dft_deaths = dft_deaths.reset_index()\n",
    "dft_cases = dft_cases.rename(columns = {'index':'state'})\n",
    "dft_deaths = dft_deaths.rename(columns = {'index':'state'})"
   ]
  },
  {
   "cell_type": "code",
   "execution_count": 10,
   "metadata": {
    "execution": {
     "iopub.execute_input": "2020-12-04T13:39:24.538859Z",
     "iopub.status.busy": "2020-12-04T13:39:24.538350Z",
     "iopub.status.idle": "2020-12-04T13:39:24.540278Z",
     "shell.execute_reply": "2020-12-04T13:39:24.539953Z"
    },
    "papermill": {
     "duration": 0.025417,
     "end_time": "2020-12-04T13:39:24.540364",
     "exception": false,
     "start_time": "2020-12-04T13:39:24.514947",
     "status": "completed"
    },
    "tags": []
   },
   "outputs": [],
   "source": [
    "#hide\n",
    "dfc_cases = dft_cases.groupby('state')[dt_today].sum()\n",
    "dfc_deaths = dft_deaths.groupby('state')[dt_today].sum()\n",
    "dfp_cases = dft_cases.groupby('state')[dt_yday].sum()\n",
    "dfp_deaths = dft_deaths.groupby('state')[dt_yday].sum()"
   ]
  },
  {
   "cell_type": "code",
   "execution_count": 11,
   "metadata": {
    "execution": {
     "iopub.execute_input": "2020-12-04T13:39:24.592709Z",
     "iopub.status.busy": "2020-12-04T13:39:24.592131Z",
     "iopub.status.idle": "2020-12-04T13:39:24.598872Z",
     "shell.execute_reply": "2020-12-04T13:39:24.598257Z"
    },
    "papermill": {
     "duration": 0.042745,
     "end_time": "2020-12-04T13:39:24.598989",
     "exception": false,
     "start_time": "2020-12-04T13:39:24.556244",
     "status": "completed"
    },
    "tags": []
   },
   "outputs": [
    {
     "data": {
      "text/html": [
       "<div>\n",
       "<style scoped>\n",
       "    .dataframe tbody tr th:only-of-type {\n",
       "        vertical-align: middle;\n",
       "    }\n",
       "\n",
       "    .dataframe tbody tr th {\n",
       "        vertical-align: top;\n",
       "    }\n",
       "\n",
       "    .dataframe thead th {\n",
       "        text-align: right;\n",
       "    }\n",
       "</style>\n",
       "<table border=\"1\" class=\"dataframe\">\n",
       "  <thead>\n",
       "    <tr style=\"text-align: right;\">\n",
       "      <th></th>\n",
       "      <th>states</th>\n",
       "      <th>Cases</th>\n",
       "      <th>Deaths</th>\n",
       "      <th>PCases</th>\n",
       "      <th>PDeaths</th>\n",
       "    </tr>\n",
       "  </thead>\n",
       "  <tbody>\n",
       "    <tr>\n",
       "      <th>0</th>\n",
       "      <td>Maharashtra</td>\n",
       "      <td>1837358</td>\n",
       "      <td>47472</td>\n",
       "      <td>1837358</td>\n",
       "      <td>47472</td>\n",
       "    </tr>\n",
       "    <tr>\n",
       "      <th>1</th>\n",
       "      <td>Karnataka</td>\n",
       "      <td>889113</td>\n",
       "      <td>11821</td>\n",
       "      <td>889113</td>\n",
       "      <td>11821</td>\n",
       "    </tr>\n",
       "    <tr>\n",
       "      <th>2</th>\n",
       "      <td>Andhra Pradesh</td>\n",
       "      <td>870076</td>\n",
       "      <td>7014</td>\n",
       "      <td>870076</td>\n",
       "      <td>7014</td>\n",
       "    </tr>\n",
       "    <tr>\n",
       "      <th>3</th>\n",
       "      <td>Tamil Nadu</td>\n",
       "      <td>786163</td>\n",
       "      <td>11747</td>\n",
       "      <td>786163</td>\n",
       "      <td>11747</td>\n",
       "    </tr>\n",
       "    <tr>\n",
       "      <th>4</th>\n",
       "      <td>Kerala</td>\n",
       "      <td>625768</td>\n",
       "      <td>2359</td>\n",
       "      <td>620050</td>\n",
       "      <td>2330</td>\n",
       "    </tr>\n",
       "  </tbody>\n",
       "</table>\n",
       "</div>"
      ],
      "text/plain": [
       "           states    Cases  Deaths   PCases  PDeaths\n",
       "0     Maharashtra  1837358   47472  1837358    47472\n",
       "1       Karnataka   889113   11821   889113    11821\n",
       "2  Andhra Pradesh   870076    7014   870076     7014\n",
       "3      Tamil Nadu   786163   11747   786163    11747\n",
       "4          Kerala   625768    2359   620050     2330"
      ]
     },
     "execution_count": 11,
     "metadata": {},
     "output_type": "execute_result"
    }
   ],
   "source": [
    "#hide\n",
    "df_table = pd.DataFrame({'states': dfc_cases.index, 'Cases': dfc_cases.values, 'Deaths': dfc_deaths.values, 'PCases': dfp_cases.values, 'PDeaths': dfp_deaths.values}).set_index('states')\n",
    "df_table = df_table.sort_values(by = ['Cases','Deaths'], ascending = [False, False])\n",
    "df_table = df_table.reset_index()\n",
    "df_table.head()"
   ]
  },
  {
   "cell_type": "code",
   "execution_count": 12,
   "metadata": {
    "execution": {
     "iopub.execute_input": "2020-12-04T13:39:24.634431Z",
     "iopub.status.busy": "2020-12-04T13:39:24.633900Z",
     "iopub.status.idle": "2020-12-04T13:39:24.641705Z",
     "shell.execute_reply": "2020-12-04T13:39:24.641276Z"
    },
    "papermill": {
     "duration": 0.027416,
     "end_time": "2020-12-04T13:39:24.641813",
     "exception": false,
     "start_time": "2020-12-04T13:39:24.614397",
     "status": "completed"
    },
    "tags": []
   },
   "outputs": [],
   "source": [
    "#hide\n",
    "for c in 'Cases, Deaths'.split(', '):\n",
    "    df_table[f'{c} (+)'] = (df_table[c] - df_table[f'P{c}']).clip(0)\n",
    "df_table['Fatality Rate'] = (100* df_table['Deaths']/ df_table['Cases']).round(2)"
   ]
  },
  {
   "cell_type": "code",
   "execution_count": 13,
   "metadata": {
    "execution": {
     "iopub.execute_input": "2020-12-04T13:39:24.679330Z",
     "iopub.status.busy": "2020-12-04T13:39:24.678794Z",
     "iopub.status.idle": "2020-12-04T13:39:24.681589Z",
     "shell.execute_reply": "2020-12-04T13:39:24.681097Z"
    },
    "papermill": {
     "duration": 0.025804,
     "end_time": "2020-12-04T13:39:24.681694",
     "exception": false,
     "start_time": "2020-12-04T13:39:24.655890",
     "status": "completed"
    },
    "tags": []
   },
   "outputs": [
    {
     "data": {
      "text/html": [
       "<div>\n",
       "<style scoped>\n",
       "    .dataframe tbody tr th:only-of-type {\n",
       "        vertical-align: middle;\n",
       "    }\n",
       "\n",
       "    .dataframe tbody tr th {\n",
       "        vertical-align: top;\n",
       "    }\n",
       "\n",
       "    .dataframe thead th {\n",
       "        text-align: right;\n",
       "    }\n",
       "</style>\n",
       "<table border=\"1\" class=\"dataframe\">\n",
       "  <thead>\n",
       "    <tr style=\"text-align: right;\">\n",
       "      <th></th>\n",
       "      <th>states</th>\n",
       "      <th>Cases</th>\n",
       "      <th>Deaths</th>\n",
       "      <th>PCases</th>\n",
       "      <th>PDeaths</th>\n",
       "      <th>Cases (+)</th>\n",
       "      <th>Deaths (+)</th>\n",
       "      <th>Fatality Rate</th>\n",
       "    </tr>\n",
       "  </thead>\n",
       "  <tbody>\n",
       "    <tr>\n",
       "      <th>0</th>\n",
       "      <td>Maharashtra</td>\n",
       "      <td>1837358</td>\n",
       "      <td>47472</td>\n",
       "      <td>1837358</td>\n",
       "      <td>47472</td>\n",
       "      <td>0</td>\n",
       "      <td>0</td>\n",
       "      <td>2.58</td>\n",
       "    </tr>\n",
       "    <tr>\n",
       "      <th>1</th>\n",
       "      <td>Karnataka</td>\n",
       "      <td>889113</td>\n",
       "      <td>11821</td>\n",
       "      <td>889113</td>\n",
       "      <td>11821</td>\n",
       "      <td>0</td>\n",
       "      <td>0</td>\n",
       "      <td>1.33</td>\n",
       "    </tr>\n",
       "    <tr>\n",
       "      <th>2</th>\n",
       "      <td>Andhra Pradesh</td>\n",
       "      <td>870076</td>\n",
       "      <td>7014</td>\n",
       "      <td>870076</td>\n",
       "      <td>7014</td>\n",
       "      <td>0</td>\n",
       "      <td>0</td>\n",
       "      <td>0.81</td>\n",
       "    </tr>\n",
       "    <tr>\n",
       "      <th>3</th>\n",
       "      <td>Tamil Nadu</td>\n",
       "      <td>786163</td>\n",
       "      <td>11747</td>\n",
       "      <td>786163</td>\n",
       "      <td>11747</td>\n",
       "      <td>0</td>\n",
       "      <td>0</td>\n",
       "      <td>1.49</td>\n",
       "    </tr>\n",
       "    <tr>\n",
       "      <th>4</th>\n",
       "      <td>Kerala</td>\n",
       "      <td>625768</td>\n",
       "      <td>2359</td>\n",
       "      <td>620050</td>\n",
       "      <td>2330</td>\n",
       "      <td>5718</td>\n",
       "      <td>29</td>\n",
       "      <td>0.38</td>\n",
       "    </tr>\n",
       "  </tbody>\n",
       "</table>\n",
       "</div>"
      ],
      "text/plain": [
       "           states    Cases  Deaths   PCases  PDeaths  Cases (+)  Deaths (+)  \\\n",
       "0     Maharashtra  1837358   47472  1837358    47472          0           0   \n",
       "1       Karnataka   889113   11821   889113    11821          0           0   \n",
       "2  Andhra Pradesh   870076    7014   870076     7014          0           0   \n",
       "3      Tamil Nadu   786163   11747   786163    11747          0           0   \n",
       "4          Kerala   625768    2359   620050     2330       5718          29   \n",
       "\n",
       "   Fatality Rate  \n",
       "0           2.58  \n",
       "1           1.33  \n",
       "2           0.81  \n",
       "3           1.49  \n",
       "4           0.38  "
      ]
     },
     "execution_count": 13,
     "metadata": {},
     "output_type": "execute_result"
    }
   ],
   "source": [
    "#hide\n",
    "df_table.head()"
   ]
  },
  {
   "cell_type": "code",
   "execution_count": 14,
   "metadata": {
    "execution": {
     "iopub.execute_input": "2020-12-04T13:39:24.723380Z",
     "iopub.status.busy": "2020-12-04T13:39:24.722833Z",
     "iopub.status.idle": "2020-12-04T13:39:24.738750Z",
     "shell.execute_reply": "2020-12-04T13:39:24.738203Z"
    },
    "papermill": {
     "duration": 0.041255,
     "end_time": "2020-12-04T13:39:24.738873",
     "exception": false,
     "start_time": "2020-12-04T13:39:24.697618",
     "status": "completed"
    },
    "tags": []
   },
   "outputs": [
    {
     "data": {
      "text/plain": [
       "{'updated': '2020-12-04',\n",
       " 'since': '2020-12-03',\n",
       " 'Cases': 9578574,\n",
       " 'PCases': 9571808,\n",
       " 'Deaths': 139263,\n",
       " 'PDeaths': 139227,\n",
       " 'Cases (+)': 6766,\n",
       " 'Deaths (+)': 36}"
      ]
     },
     "execution_count": 14,
     "metadata": {},
     "output_type": "execute_result"
    }
   ],
   "source": [
    "#hide\n",
    "summary = {'updated':dates[-1], 'since':dates[-2]}\n",
    "list_names = ['Cases', 'PCases', 'Deaths', 'PDeaths', 'Cases (+)', 'Deaths (+)']\n",
    "for name in list_names:\n",
    "    summary[name] = df_table.sum()[name]\n",
    "summary"
   ]
  },
  {
   "cell_type": "code",
   "execution_count": 15,
   "metadata": {
    "execution": {
     "iopub.execute_input": "2020-12-04T13:39:24.773630Z",
     "iopub.status.busy": "2020-12-04T13:39:24.773156Z",
     "iopub.status.idle": "2020-12-04T13:39:24.775501Z",
     "shell.execute_reply": "2020-12-04T13:39:24.775152Z"
    },
    "papermill": {
     "duration": 0.020872,
     "end_time": "2020-12-04T13:39:24.775587",
     "exception": false,
     "start_time": "2020-12-04T13:39:24.754715",
     "status": "completed"
    },
    "tags": []
   },
   "outputs": [],
   "source": [
    "#hide\n",
    "overview = '''\n",
    "<!-- #######  HTML!! #########-->\n",
    "<h1 style=\"color: #5e9ca0; text-align: center;\">India</h1>\n",
    "<p style=\"text-align: center;\">Last update: <strong>{update}</strong></p>\n",
    "<p style=\"text-align: center;\">Confirmed cases:</p>\n",
    "<p style=\"text-align: center;font-size:24px;\">{cases} (<span style=\"color: #ff0000;\">+{new}</span>)</p>\n",
    "<p style=\"text-align: center;\">Confirmed deaths:</p>\n",
    "<p style=\"text-align: center;font-size:24px;\">{deaths} (<span style=\"color: #ff0000;\">+{dnew}</span>)</p>\n",
    "'''"
   ]
  },
  {
   "cell_type": "code",
   "execution_count": 16,
   "metadata": {
    "execution": {
     "iopub.execute_input": "2020-12-04T13:39:24.814142Z",
     "iopub.status.busy": "2020-12-04T13:39:24.813675Z",
     "iopub.status.idle": "2020-12-04T13:39:24.817963Z",
     "shell.execute_reply": "2020-12-04T13:39:24.817487Z"
    },
    "papermill": {
     "duration": 0.026187,
     "end_time": "2020-12-04T13:39:24.818071",
     "exception": false,
     "start_time": "2020-12-04T13:39:24.791884",
     "status": "completed"
    },
    "tags": []
   },
   "outputs": [
    {
     "data": {
      "text/html": [
       "\n",
       "<!-- #######  HTML!! #########-->\n",
       "<h1 style=\"color: #5e9ca0; text-align: center;\">India</h1>\n",
       "<p style=\"text-align: center;\">Last update: <strong>2020-12-04</strong></p>\n",
       "<p style=\"text-align: center;\">Confirmed cases:</p>\n",
       "<p style=\"text-align: center;font-size:24px;\">9578574 (<span style=\"color: #ff0000;\">+6766</span>)</p>\n",
       "<p style=\"text-align: center;\">Confirmed deaths:</p>\n",
       "<p style=\"text-align: center;font-size:24px;\">139263 (<span style=\"color: #ff0000;\">+36</span>)</p>\n"
      ],
      "text/plain": [
       "<IPython.core.display.HTML object>"
      ]
     },
     "metadata": {},
     "output_type": "display_data"
    }
   ],
   "source": [
    "#hide_input\n",
    "update = summary['updated']\n",
    "cases = summary['Cases']\n",
    "new = summary['Cases (+)']\n",
    "deaths = summary['Deaths']\n",
    "dnew = summary['Deaths (+)']\n",
    "\n",
    "html = HTML(overview.format(update=update, cases=cases,new=new,deaths=deaths,dnew=dnew))\n",
    "\n",
    "display(html)"
   ]
  },
  {
   "cell_type": "code",
   "execution_count": 17,
   "metadata": {
    "execution": {
     "iopub.execute_input": "2020-12-04T13:39:24.857603Z",
     "iopub.status.busy": "2020-12-04T13:39:24.857056Z",
     "iopub.status.idle": "2020-12-04T13:39:24.862152Z",
     "shell.execute_reply": "2020-12-04T13:39:24.862718Z"
    },
    "papermill": {
     "duration": 0.029413,
     "end_time": "2020-12-04T13:39:24.862851",
     "exception": false,
     "start_time": "2020-12-04T13:39:24.833438",
     "status": "completed"
    },
    "tags": []
   },
   "outputs": [],
   "source": [
    "#hide\n",
    "dt_cols = list(dft_cases.columns[1:])\n",
    "dft_ct_new_cases = dft_cases.groupby('state')[dt_cols].sum().diff(axis=1).fillna(0).astype(int)\n",
    "dft_ct_new_cases.sort_values(by = dates[-1], ascending = False,inplace = True)"
   ]
  },
  {
   "cell_type": "code",
   "execution_count": 18,
   "metadata": {
    "execution": {
     "iopub.execute_input": "2020-12-04T13:39:24.908578Z",
     "iopub.status.busy": "2020-12-04T13:39:24.907870Z",
     "iopub.status.idle": "2020-12-04T13:39:24.910676Z",
     "shell.execute_reply": "2020-12-04T13:39:24.911143Z"
    },
    "papermill": {
     "duration": 0.03483,
     "end_time": "2020-12-04T13:39:24.911264",
     "exception": false,
     "start_time": "2020-12-04T13:39:24.876434",
     "status": "completed"
    },
    "tags": []
   },
   "outputs": [
    {
     "data": {
      "text/html": [
       "<div>\n",
       "<style scoped>\n",
       "    .dataframe tbody tr th:only-of-type {\n",
       "        vertical-align: middle;\n",
       "    }\n",
       "\n",
       "    .dataframe tbody tr th {\n",
       "        vertical-align: top;\n",
       "    }\n",
       "\n",
       "    .dataframe thead th {\n",
       "        text-align: right;\n",
       "    }\n",
       "</style>\n",
       "<table border=\"1\" class=\"dataframe\">\n",
       "  <thead>\n",
       "    <tr style=\"text-align: right;\">\n",
       "      <th>states</th>\n",
       "      <th>2020-07-01</th>\n",
       "      <th>2020-07-02</th>\n",
       "      <th>2020-07-03</th>\n",
       "      <th>2020-07-04</th>\n",
       "      <th>2020-07-05</th>\n",
       "      <th>2020-07-06</th>\n",
       "      <th>2020-07-07</th>\n",
       "      <th>2020-07-08</th>\n",
       "      <th>2020-07-09</th>\n",
       "      <th>2020-07-10</th>\n",
       "      <th>...</th>\n",
       "      <th>2020-11-25</th>\n",
       "      <th>2020-11-26</th>\n",
       "      <th>2020-11-27</th>\n",
       "      <th>2020-11-28</th>\n",
       "      <th>2020-11-29</th>\n",
       "      <th>2020-11-30</th>\n",
       "      <th>2020-12-01</th>\n",
       "      <th>2020-12-02</th>\n",
       "      <th>2020-12-03</th>\n",
       "      <th>2020-12-04</th>\n",
       "    </tr>\n",
       "    <tr>\n",
       "      <th>state</th>\n",
       "      <th></th>\n",
       "      <th></th>\n",
       "      <th></th>\n",
       "      <th></th>\n",
       "      <th></th>\n",
       "      <th></th>\n",
       "      <th></th>\n",
       "      <th></th>\n",
       "      <th></th>\n",
       "      <th></th>\n",
       "      <th></th>\n",
       "      <th></th>\n",
       "      <th></th>\n",
       "      <th></th>\n",
       "      <th></th>\n",
       "      <th></th>\n",
       "      <th></th>\n",
       "      <th></th>\n",
       "      <th></th>\n",
       "      <th></th>\n",
       "      <th></th>\n",
       "    </tr>\n",
       "  </thead>\n",
       "  <tbody>\n",
       "    <tr>\n",
       "      <th>Kerala</th>\n",
       "      <td>0</td>\n",
       "      <td>160</td>\n",
       "      <td>211</td>\n",
       "      <td>240</td>\n",
       "      <td>225</td>\n",
       "      <td>193</td>\n",
       "      <td>272</td>\n",
       "      <td>301</td>\n",
       "      <td>339</td>\n",
       "      <td>416</td>\n",
       "      <td>...</td>\n",
       "      <td>6491</td>\n",
       "      <td>5378</td>\n",
       "      <td>3966</td>\n",
       "      <td>6250</td>\n",
       "      <td>5643</td>\n",
       "      <td>3382</td>\n",
       "      <td>5375</td>\n",
       "      <td>6316</td>\n",
       "      <td>5376</td>\n",
       "      <td>5718</td>\n",
       "    </tr>\n",
       "    <tr>\n",
       "      <th>Telangana</th>\n",
       "      <td>0</td>\n",
       "      <td>1213</td>\n",
       "      <td>1892</td>\n",
       "      <td>1850</td>\n",
       "      <td>1590</td>\n",
       "      <td>1831</td>\n",
       "      <td>1879</td>\n",
       "      <td>1924</td>\n",
       "      <td>1410</td>\n",
       "      <td>1278</td>\n",
       "      <td>...</td>\n",
       "      <td>993</td>\n",
       "      <td>862</td>\n",
       "      <td>761</td>\n",
       "      <td>753</td>\n",
       "      <td>805</td>\n",
       "      <td>593</td>\n",
       "      <td>502</td>\n",
       "      <td>565</td>\n",
       "      <td>609</td>\n",
       "      <td>631</td>\n",
       "    </tr>\n",
       "    <tr>\n",
       "      <th>Odisha</th>\n",
       "      <td>0</td>\n",
       "      <td>229</td>\n",
       "      <td>561</td>\n",
       "      <td>495</td>\n",
       "      <td>469</td>\n",
       "      <td>456</td>\n",
       "      <td>571</td>\n",
       "      <td>527</td>\n",
       "      <td>577</td>\n",
       "      <td>755</td>\n",
       "      <td>...</td>\n",
       "      <td>730</td>\n",
       "      <td>644</td>\n",
       "      <td>594</td>\n",
       "      <td>550</td>\n",
       "      <td>518</td>\n",
       "      <td>418</td>\n",
       "      <td>378</td>\n",
       "      <td>480</td>\n",
       "      <td>434</td>\n",
       "      <td>377</td>\n",
       "    </tr>\n",
       "    <tr>\n",
       "      <th>Tripura</th>\n",
       "      <td>0</td>\n",
       "      <td>39</td>\n",
       "      <td>93</td>\n",
       "      <td>25</td>\n",
       "      <td>23</td>\n",
       "      <td>111</td>\n",
       "      <td>24</td>\n",
       "      <td>57</td>\n",
       "      <td>16</td>\n",
       "      <td>142</td>\n",
       "      <td>...</td>\n",
       "      <td>35</td>\n",
       "      <td>50</td>\n",
       "      <td>32</td>\n",
       "      <td>31</td>\n",
       "      <td>0</td>\n",
       "      <td>54</td>\n",
       "      <td>31</td>\n",
       "      <td>38</td>\n",
       "      <td>39</td>\n",
       "      <td>33</td>\n",
       "    </tr>\n",
       "    <tr>\n",
       "      <th>Mizoram</th>\n",
       "      <td>0</td>\n",
       "      <td>2</td>\n",
       "      <td>0</td>\n",
       "      <td>2</td>\n",
       "      <td>22</td>\n",
       "      <td>11</td>\n",
       "      <td>1</td>\n",
       "      <td>5</td>\n",
       "      <td>0</td>\n",
       "      <td>23</td>\n",
       "      <td>...</td>\n",
       "      <td>35</td>\n",
       "      <td>20</td>\n",
       "      <td>23</td>\n",
       "      <td>18</td>\n",
       "      <td>17</td>\n",
       "      <td>2</td>\n",
       "      <td>22</td>\n",
       "      <td>22</td>\n",
       "      <td>12</td>\n",
       "      <td>7</td>\n",
       "    </tr>\n",
       "  </tbody>\n",
       "</table>\n",
       "<p>5 rows × 157 columns</p>\n",
       "</div>"
      ],
      "text/plain": [
       "states     2020-07-01  2020-07-02  2020-07-03  2020-07-04  2020-07-05  \\\n",
       "state                                                                   \n",
       "Kerala              0         160         211         240         225   \n",
       "Telangana           0        1213        1892        1850        1590   \n",
       "Odisha              0         229         561         495         469   \n",
       "Tripura             0          39          93          25          23   \n",
       "Mizoram             0           2           0           2          22   \n",
       "\n",
       "states     2020-07-06  2020-07-07  2020-07-08  2020-07-09  2020-07-10  ...  \\\n",
       "state                                                                  ...   \n",
       "Kerala            193         272         301         339         416  ...   \n",
       "Telangana        1831        1879        1924        1410        1278  ...   \n",
       "Odisha            456         571         527         577         755  ...   \n",
       "Tripura           111          24          57          16         142  ...   \n",
       "Mizoram            11           1           5           0          23  ...   \n",
       "\n",
       "states     2020-11-25  2020-11-26  2020-11-27  2020-11-28  2020-11-29  \\\n",
       "state                                                                   \n",
       "Kerala           6491        5378        3966        6250        5643   \n",
       "Telangana         993         862         761         753         805   \n",
       "Odisha            730         644         594         550         518   \n",
       "Tripura            35          50          32          31           0   \n",
       "Mizoram            35          20          23          18          17   \n",
       "\n",
       "states     2020-11-30  2020-12-01  2020-12-02  2020-12-03  2020-12-04  \n",
       "state                                                                  \n",
       "Kerala           3382        5375        6316        5376        5718  \n",
       "Telangana         593         502         565         609         631  \n",
       "Odisha            418         378         480         434         377  \n",
       "Tripura            54          31          38          39          33  \n",
       "Mizoram             2          22          22          12           7  \n",
       "\n",
       "[5 rows x 157 columns]"
      ]
     },
     "execution_count": 18,
     "metadata": {},
     "output_type": "execute_result"
    }
   ],
   "source": [
    "#hide\n",
    "dft_ct_new_cases.head()"
   ]
  },
  {
   "cell_type": "code",
   "execution_count": 19,
   "metadata": {
    "execution": {
     "iopub.execute_input": "2020-12-04T13:39:24.962122Z",
     "iopub.status.busy": "2020-12-04T13:39:24.956940Z",
     "iopub.status.idle": "2020-12-04T13:39:30.327501Z",
     "shell.execute_reply": "2020-12-04T13:39:30.327961Z"
    },
    "papermill": {
     "duration": 5.400559,
     "end_time": "2020-12-04T13:39:30.328118",
     "exception": false,
     "start_time": "2020-12-04T13:39:24.927559",
     "status": "completed"
    },
    "tags": []
   },
   "outputs": [
    {
     "data": {
      "image/png": "[encoded data removed]",
      "text/plain": [
       "<Figure size 1296x2016 with 11 Axes>"
      ]
     },
     "metadata": {
      "needs_background": "light"
     },
     "output_type": "display_data"
    }
   ],
   "source": [
    "#hide_input\n",
    "df = dft_ct_new_cases.copy()\n",
    "df.loc['Total'] = df.sum()\n",
    "n = 5\n",
    "ax = []\n",
    "fig = plt.figure(figsize = (18,28))\n",
    "gs = fig.add_gridspec(n+2, 5)\n",
    "# gs = fig.add_gridspec(2, 3)\n",
    "ax1 = fig.add_subplot(gs[0, :])\n",
    "ef = df.loc['Total'].rename_axis('date').reset_index()\n",
    "ef['date'] = ef['date'].astype('datetime64[ns]')\n",
    "ax1.bar(ef.date,ef.Total,alpha=0.3,color='#007acc')\n",
    "ax1.plot(ef.date,ef.Total , marker=\"o\", color='#007acc')\n",
    "ax1.xaxis.set_major_locator(mdates.WeekdayLocator())\n",
    "ax1.xaxis.set_major_formatter(mdates.DateFormatter('%b %d'))\n",
    "ax1.text(0.02, 0.5,'India daily case count', transform = ax1.transAxes, fontsize=25);\n",
    "ax1.spines['right'].set_visible(False)\n",
    "ax1.spines['top'].set_visible(False)\n",
    "\n",
    "ax2 = fig.add_subplot(gs[1,0])\n",
    "ef = df.loc['Maharashtra'].rename_axis('date').reset_index()\n",
    "ef['date'] = ef['date'].astype('datetime64[ns]')\n",
    "\n",
    "ax2.bar(ef.date, ef.Maharashtra,color = '#007acc',alpha=0.5)\n",
    "ax2.xaxis.set_major_locator(mdates.WeekdayLocator())\n",
    "ax2.xaxis.set_major_formatter(mdates.DateFormatter('%b %d'))\n",
    "ax2.set_xticks(ax2.get_xticks()[::3])\n",
    "maxyval = ef.Maharashtra.max()\n",
    "ax2.set_ylim([0,maxyval])\n",
    "ax2.text(0.05, 0.9,'Maharashtra', transform = ax2.transAxes, fontsize=20);\n",
    "ax2.spines['right'].set_visible(False)\n",
    "ax2.spines['top'].set_visible(False)\n",
    "\n",
    "\n",
    "ax3 = fig.add_subplot(gs[1,1])\n",
    "ef = df.loc['Tamil Nadu'].rename_axis('date').reset_index()\n",
    "ef['date'] = ef['date'].astype('datetime64[ns]')\n",
    "ax3.bar(ef.date, ef['Tamil Nadu'],color = '#007acc',alpha=0.5,)\n",
    "ax3.xaxis.set_major_locator(mdates.WeekdayLocator())\n",
    "ax3.xaxis.set_major_formatter(mdates.DateFormatter('%b %d'))\n",
    "ax3.set_xticks(ax3.get_xticks()[::3])\n",
    "ax3.text(0.05, 0.9,'Tamil Nadu', transform = ax3.transAxes, fontsize=20);\n",
    "ax3.spines['right'].set_visible(False)\n",
    "ax3.spines['top'].set_visible(False)\n",
    "\n",
    "ax5 = fig.add_subplot(gs[1,3])\n",
    "ef = df.loc['Telangana'].rename_axis('date').reset_index()\n",
    "ef['date'] = ef['date'].astype('datetime64[ns]')\n",
    "ax5.bar(ef.date, ef['Telangana'],color = '#007acc',alpha=0.5,)\n",
    "ax5.xaxis.set_major_locator(mdates.WeekdayLocator())\n",
    "ax5.xaxis.set_major_formatter(mdates.DateFormatter('%b %d'))\n",
    "ax5.set_xticks(ax5.get_xticks()[::3])\n",
    "ax5.text(0.05, 0.9,'Telangana', transform = ax5.transAxes, fontsize=20);\n",
    "ax5.spines['right'].set_visible(False)\n",
    "ax5.spines['top'].set_visible(False)\n",
    "\n",
    "ax6 = fig.add_subplot(gs[1,4])\n",
    "ef = df.loc['Andhra Pradesh'].rename_axis('date').reset_index()\n",
    "ef['date'] = ef['date'].astype('datetime64[ns]')\n",
    "ax6.bar(ef.date, ef['Andhra Pradesh'],color = '#007acc',alpha=0.5,)\n",
    "ax6.xaxis.set_major_locator(mdates.WeekdayLocator())\n",
    "ax6.xaxis.set_major_formatter(mdates.DateFormatter('%b %d'))\n",
    "ax6.set_xticks(ax6.get_xticks()[::3])\n",
    "ax6.text(0.05, 1,'Andhra Pradesh', transform = ax6.transAxes, fontsize=20);\n",
    "ax6.spines['right'].set_visible(False)\n",
    "ax6.spines['top'].set_visible(False)\n",
    "\n",
    "ax4 = fig.add_subplot(gs[1,2])\n",
    "ef = df.loc['Delhi'].rename_axis('date').reset_index()\n",
    "ef['date'] = ef['date'].astype('datetime64[ns]')\n",
    "ax4.bar(ef.date, ef.Delhi,color = '#007acc',alpha=0.5)\n",
    "ax4.set_xticks([])\n",
    "ax4.xaxis.set_major_locator(mdates.WeekdayLocator())\n",
    "ax4.xaxis.set_major_formatter(mdates.DateFormatter('%b %d'))\n",
    "ax4.set_xticks(ax4.get_xticks()[::3])\n",
    "ax4.spines['right'].set_visible(False)\n",
    "ax4.spines['top'].set_visible(False)\n",
    "\n",
    "ax4.text(0.05, 1,'Delhi', transform = ax4.transAxes, fontsize=20)\n",
    "\n",
    "for i in range(n):\n",
    "    \n",
    "    ax.append(fig.add_subplot(gs[i+2,:]))\n",
    "    ef = df.iloc[i+3].rename_axis('date').reset_index()\n",
    "    ef['date'] = ef['date'].astype('datetime64[ns]')\n",
    "    ax[i].bar(ef.date,ef.iloc[:,-1],color = '#007acc',alpha=0.3)\n",
    "    ax[i].plot(ef.date,ef.iloc[:,-1],marker='o',color='#007acc')\n",
    "    ax[i].text(0.02,0.5,f'{ef.columns.values[-1]}',transform = ax[i].transAxes, fontsize = 20);\n",
    "    ax[i].xaxis.set_major_locator(mdates.WeekdayLocator())\n",
    "    ax[i].xaxis.set_major_formatter(mdates.DateFormatter('%b %d'))\n",
    "    ax[i].set_ylim([0,7000])\n",
    "    ax[i].spines['right'].set_visible(False)\n",
    "    ax[i].spines['top'].set_visible(False)\n",
    "plt.tight_layout()\n"
   ]
  },
  {
   "cell_type": "code",
   "execution_count": 20,
   "metadata": {
    "execution": {
     "iopub.execute_input": "2020-12-04T13:39:30.384511Z",
     "iopub.status.busy": "2020-12-04T13:39:30.383843Z",
     "iopub.status.idle": "2020-12-04T13:39:30.388069Z",
     "shell.execute_reply": "2020-12-04T13:39:30.387576Z"
    },
    "papermill": {
     "duration": 0.036967,
     "end_time": "2020-12-04T13:39:30.388237",
     "exception": false,
     "start_time": "2020-12-04T13:39:30.351270",
     "status": "completed"
    },
    "tags": []
   },
   "outputs": [
    {
     "name": "stdout",
     "output_type": "stream",
     "text": [
      "                                   states    Cases  Deaths   PCases  PDeaths  Cases (+)  Deaths (+)  Fatality Rate\n",
      "                              Maharashtra  1837358   47472  1837358    47472          0           0           2.58\n",
      "                                Karnataka   889113   11821   889113    11821          0           0           1.33\n",
      "                           Andhra Pradesh   870076    7014   870076     7014          0           0           0.81\n",
      "                               Tamil Nadu   786163   11747   786163    11747          0           0           1.49\n",
      "                                   Kerala   625768    2359   620050     2330       5718          29           0.38\n",
      "                                    Delhi   582058    9424   582058     9424          0           0           1.62\n",
      "                            Uttar Pradesh   549228    7848   549228     7848          0           0           1.43\n",
      "                              West Bengal   493316    8576   493316     8576          0           0           1.74\n",
      "                                   Odisha   320394    1813   320017     1808        377           5           0.57\n",
      "                                Rajasthan   274486    2370   274486     2370          0           0           0.86\n",
      "                                Telangana   272123    1467   271492     1465        631           2           0.54\n",
      "                             Chhattisgarh   242418    2941   242418     2941          0           0           1.21\n",
      "                                  Haryana   239239    2520   239239     2520          0           0           1.05\n",
      "                                    Bihar   237349    1281   237349     1281          0           0           0.54\n",
      "                                  Gujarat   214309    4031   214309     4031          0           0           1.88\n",
      "                                    Assam   213336     985   213336      985          0           0           0.46\n",
      "                           Madhya Pradesh   210374    3300   210374     3300          0           0           1.57\n",
      "                                   Punjab   154064    4862   154064     4862          0           0           3.16\n",
      "                        Jammu and Kashmir   111712    1718   111712     1718          0           0           1.54\n",
      "                                Jharkhand   109771     977   109771      977          0           0           0.89\n",
      "                              Uttarakhand    76275    1263    76275     1263          0           0           1.66\n",
      "                                      Goa    48365     696    48365      696          0           0           1.44\n",
      "                         Himachal Pradesh    42697     685    42697      685          0           0           1.60\n",
      "                               Puducherry    37119     613    37119      613          0           0           1.65\n",
      "                                  Tripura    32833     369    32800      369         33           0           1.12\n",
      "                                  Manipur    25536     294    25536      294          0           0           1.15\n",
      "                               Chandigarh    17717     284    17717      284          0           0           1.60\n",
      "                        Arunachal Pradesh    16348      54    16348       54          0           0           0.33\n",
      "                                Meghalaya    12005     116    12005      116          0           0           0.97\n",
      "                                 Nagaland    11283      64    11283       64          0           0           0.57\n",
      "                                   Ladakh     8691     119     8691      119          0           0           1.37\n",
      "                                   Sikkim     5100     111     5100      111          0           0           2.18\n",
      "              Andaman and Nicobar Islands     4729      61     4729       61          0           0           1.29\n",
      "                                  Mizoram     3888       6     3881        6          7           0           0.15\n",
      " Dadra and Nagar Haveli and Daman and Diu     3333       2     3333        2          0           0           0.06\n",
      "                              Lakshadweep        0       0        0        0          0           0            NaN\n"
     ]
    }
   ],
   "source": [
    "#hide_input\n",
    "print(df_table.to_string(index=False))"
   ]
  },
  {
   "cell_type": "code",
   "execution_count": null,
   "metadata": {
    "papermill": {
     "duration": 0.020345,
     "end_time": "2020-12-04T13:39:30.430281",
     "exception": false,
     "start_time": "2020-12-04T13:39:30.409936",
     "status": "completed"
    },
    "tags": []
   },
   "outputs": [],
   "source": []
  },
  {
   "cell_type": "code",
   "execution_count": null,
   "metadata": {
    "papermill": {
     "duration": 0.021177,
     "end_time": "2020-12-04T13:39:30.472493",
     "exception": false,
     "start_time": "2020-12-04T13:39:30.451316",
     "status": "completed"
    },
    "tags": []
   },
   "outputs": [],
   "source": []
  }
 ],
 "metadata": {
  "kernelspec": {
   "display_name": "Python 3",
   "language": "python",
   "name": "python3"
  },
  "language_info": {
   "codemirror_mode": {
    "name": "ipython",
    "version": 3
   },
   "file_extension": ".py",
   "mimetype": "text/x-python",
   "name": "python",
   "nbconvert_exporter": "python",
   "pygments_lexer": "ipython3",
   "version": "3.6.12"
  },
  "papermill": {
   "duration": 12.802346,
   "end_time": "2020-12-04T13:39:31.005064",
   "environment_variables": {},
   "exception": null,
   "input_path": "latest.ipynb",
   "output_path": "latest.ipynb",
   "parameters": {},
   "start_time": "2020-12-04T13:39:18.202718",
   "version": "2.1.2"
  }
 },
 "nbformat": 4,
 "nbformat_minor": 4
}