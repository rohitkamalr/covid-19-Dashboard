{
 "cells": [
  {
   "cell_type": "markdown",
   "metadata": {
    "papermill": {
     "duration": 0.020332,
     "end_time": "2020-09-02T05:38:01.008576",
     "exception": false,
     "start_time": "2020-09-02T05:38:00.988244",
     "status": "completed"
    },
    "tags": []
   },
   "source": [
    "# Latest COVID-19 India Matplotlib Overview"
   ]
  },
  {
   "cell_type": "code",
   "execution_count": 1,
   "metadata": {
    "execution": {
     "iopub.execute_input": "2020-09-02T05:38:01.049211Z",
     "iopub.status.busy": "2020-09-02T05:38:01.048545Z",
     "iopub.status.idle": "2020-09-02T05:38:01.668391Z",
     "shell.execute_reply": "2020-09-02T05:38:01.668932Z"
    },
    "papermill": {
     "duration": 0.643058,
     "end_time": "2020-09-02T05:38:01.669131",
     "exception": false,
     "start_time": "2020-09-02T05:38:01.026073",
     "status": "completed"
    },
    "tags": []
   },
   "outputs": [],
   "source": [
    "#hide\n",
    "import pandas as pd\n",
    "import numpy as np\n",
    "import requests\n",
    "import json\n",
    "import matplotlib.pyplot as plt\n",
    "import matplotlib.dates as mdates\n",
    "import matplotlib as mpl\n",
    "from IPython.core.display import display,HTML\n",
    "%matplotlib inline\n",
    "from datetime import date"
   ]
  },
  {
   "cell_type": "code",
   "execution_count": 2,
   "metadata": {
    "execution": {
     "iopub.execute_input": "2020-09-02T05:38:01.710353Z",
     "iopub.status.busy": "2020-09-02T05:38:01.709673Z",
     "iopub.status.idle": "2020-09-02T05:38:01.831463Z",
     "shell.execute_reply": "2020-09-02T05:38:01.832028Z"
    },
    "papermill": {
     "duration": 0.145933,
     "end_time": "2020-09-02T05:38:01.832359",
     "exception": false,
     "start_time": "2020-09-02T05:38:01.686426",
     "status": "completed"
    },
    "tags": []
   },
   "outputs": [],
   "source": [
    "#hide\n",
    "df  = pd.read_csv('https://api.covid19india.org/csv/latest/states.csv')\n",
    "df = df[['Date','State','Confirmed','Deceased']]\n",
    "df = df.rename(columns={'Confirmed':'Cases', \"Deceased\":'Deaths'})\n",
    "df_cases = df[[\"Date\",'State','Cases']]\n",
    "df_deaths = df[['Date','State','Deaths']]\n",
    "df_cases1 = df_cases.groupby('Date')\n",
    "df_deaths1= df_deaths.groupby('Date')"
   ]
  },
  {
   "cell_type": "code",
   "execution_count": 3,
   "metadata": {
    "execution": {
     "iopub.execute_input": "2020-09-02T05:38:01.873528Z",
     "iopub.status.busy": "2020-09-02T05:38:01.872689Z",
     "iopub.status.idle": "2020-09-02T05:38:01.891027Z",
     "shell.execute_reply": "2020-09-02T05:38:01.891577Z"
    },
    "papermill": {
     "duration": 0.042539,
     "end_time": "2020-09-02T05:38:01.891759",
     "exception": false,
     "start_time": "2020-09-02T05:38:01.849220",
     "status": "completed"
    },
    "tags": []
   },
   "outputs": [],
   "source": [
    "#hide\n",
    "df_snap = pd.read_csv('data/SnapshotCases-28-July.csv')\n",
    "arr_states = df_snap['states'].unique()\n",
    "arr_dates = df['Date'].unique()\n",
    "df_snap = df_snap.set_index('states')"
   ]
  },
  {
   "cell_type": "code",
   "execution_count": 4,
   "metadata": {
    "execution": {
     "iopub.execute_input": "2020-09-02T05:38:01.931992Z",
     "iopub.status.busy": "2020-09-02T05:38:01.931303Z",
     "iopub.status.idle": "2020-09-02T05:38:01.934108Z",
     "shell.execute_reply": "2020-09-02T05:38:01.934728Z"
    },
    "papermill": {
     "duration": 0.026709,
     "end_time": "2020-09-02T05:38:01.934899",
     "exception": false,
     "start_time": "2020-09-02T05:38:01.908190",
     "status": "completed"
    },
    "tags": []
   },
   "outputs": [
    {
     "data": {
      "text/plain": [
       "array(['Andaman and Nicobar Islands', 'Andhra Pradesh',\n",
       "       'Arunachal Pradesh', 'Assam', 'Bihar', 'Chandigarh',\n",
       "       'Dadra and Nagar Haveli and Daman and Diu', 'Delhi', 'Goa',\n",
       "       'Gujarat', 'Haryana', 'Himachal Pradesh', 'Jammu and Kashmir',\n",
       "       'Jharkhand', 'Karnataka', 'Kerala', 'Lakshadweep',\n",
       "       'Madhya Pradesh', 'Maharashtra', 'Manipur', 'Meghalaya', 'Mizoram',\n",
       "       'Nagaland', 'Odisha', 'Puducherry', 'Punjab', 'Rajasthan',\n",
       "       'Sikkim', 'Tamil Nadu', 'Telangana', 'Tripura', 'Uttar Pradesh',\n",
       "       'West Bengal', 'Chhattisgarh', 'Ladakh', 'Uttarakhand'],\n",
       "      dtype=object)"
      ]
     },
     "execution_count": 4,
     "metadata": {},
     "output_type": "execute_result"
    }
   ],
   "source": [
    "#hide\n",
    "arr_states[-9] = 'Puducherry'\n",
    "arr_states[-10] = 'Odisha'\n",
    "arr_states[6] = 'Dadra and Nagar Haveli and Daman and Diu'\n",
    "arr_states = np.append(arr_states,np.array(['Chhattisgarh','Ladakh','Uttarakhand']))\n",
    "arr_states"
   ]
  },
  {
   "cell_type": "code",
   "execution_count": 5,
   "metadata": {
    "execution": {
     "iopub.execute_input": "2020-09-02T05:38:01.986449Z",
     "iopub.status.busy": "2020-09-02T05:38:01.985381Z",
     "iopub.status.idle": "2020-09-02T05:38:01.993935Z",
     "shell.execute_reply": "2020-09-02T05:38:01.993278Z"
    },
    "papermill": {
     "duration": 0.042052,
     "end_time": "2020-09-02T05:38:01.994084",
     "exception": false,
     "start_time": "2020-09-02T05:38:01.952032",
     "status": "completed"
    },
    "tags": []
   },
   "outputs": [],
   "source": [
    "#hide\n",
    "dates = []\n",
    "for i in arr_dates:\n",
    "    if i>='2020-07-01':\n",
    "        dates.append(i)\n",
    "dict = {'states':dates}\n",
    "for i in arr_states:\n",
    "    dict[i] = [0]*len(dates)\n",
    "dft_cases = pd.DataFrame(dict)\n",
    "dft_deaths = pd.DataFrame(dict)\n"
   ]
  },
  {
   "cell_type": "code",
   "execution_count": 6,
   "metadata": {
    "execution": {
     "iopub.execute_input": "2020-09-02T05:38:02.037347Z",
     "iopub.status.busy": "2020-09-02T05:38:02.036685Z",
     "iopub.status.idle": "2020-09-02T05:38:03.156735Z",
     "shell.execute_reply": "2020-09-02T05:38:03.156158Z"
    },
    "papermill": {
     "duration": 1.143143,
     "end_time": "2020-09-02T05:38:03.156890",
     "exception": false,
     "start_time": "2020-09-02T05:38:02.013747",
     "status": "completed"
    },
    "tags": []
   },
   "outputs": [],
   "source": [
    "#hide\n",
    "for i in range(len(dates)):\n",
    "    df1_deaths = df_deaths1.get_group(dates[i])\n",
    "    for j in range(len(df1_deaths.index)):\n",
    "        if df1_deaths.iloc[j,1] in arr_states:\n",
    "            dft_deaths.loc[i,df1_deaths.iloc[j,1]] = df1_deaths.iloc[j,2]\n",
    "dft_deaths = dft_deaths.set_index('states')"
   ]
  },
  {
   "cell_type": "code",
   "execution_count": 7,
   "metadata": {
    "execution": {
     "iopub.execute_input": "2020-09-02T05:38:03.197357Z",
     "iopub.status.busy": "2020-09-02T05:38:03.196673Z",
     "iopub.status.idle": "2020-09-02T05:38:04.303853Z",
     "shell.execute_reply": "2020-09-02T05:38:04.303283Z"
    },
    "papermill": {
     "duration": 1.130113,
     "end_time": "2020-09-02T05:38:04.304004",
     "exception": false,
     "start_time": "2020-09-02T05:38:03.173891",
     "status": "completed"
    },
    "tags": []
   },
   "outputs": [],
   "source": [
    "#hide\n",
    "for i in range(len(dates)):\n",
    "    df1_cases = df_cases1.get_group(dates[i])\n",
    "    for j in range(len(df1_cases.index)):\n",
    "        if df1_cases.iloc[j,1] in arr_states:\n",
    "            dft_cases.loc[i,df1_cases.iloc[j,1]] = df1_cases.iloc[j,2]\n",
    "dft_cases = dft_cases.set_index('states')"
   ]
  },
  {
   "cell_type": "code",
   "execution_count": 8,
   "metadata": {
    "execution": {
     "iopub.execute_input": "2020-09-02T05:38:04.349756Z",
     "iopub.status.busy": "2020-09-02T05:38:04.349089Z",
     "iopub.status.idle": "2020-09-02T05:38:04.353595Z",
     "shell.execute_reply": "2020-09-02T05:38:04.352605Z"
    },
    "papermill": {
     "duration": 0.032444,
     "end_time": "2020-09-02T05:38:04.353742",
     "exception": false,
     "start_time": "2020-09-02T05:38:04.321298",
     "status": "completed"
    },
    "tags": []
   },
   "outputs": [],
   "source": [
    "#hide\n",
    "dft_cases = dft_cases.T\n",
    "dft_deaths = dft_deaths.T\n",
    "dt_today = dates[-1]\n",
    "dt_yday = dates[-2]"
   ]
  },
  {
   "cell_type": "code",
   "execution_count": 9,
   "metadata": {
    "execution": {
     "iopub.execute_input": "2020-09-02T05:38:04.396907Z",
     "iopub.status.busy": "2020-09-02T05:38:04.394250Z",
     "iopub.status.idle": "2020-09-02T05:38:04.398684Z",
     "shell.execute_reply": "2020-09-02T05:38:04.399332Z"
    },
    "papermill": {
     "duration": 0.027727,
     "end_time": "2020-09-02T05:38:04.399491",
     "exception": false,
     "start_time": "2020-09-02T05:38:04.371764",
     "status": "completed"
    },
    "tags": []
   },
   "outputs": [],
   "source": [
    "#hide\n",
    "dft_cases = dft_cases.reset_index()\n",
    "dft_deaths = dft_deaths.reset_index()\n",
    "dft_cases = dft_cases.rename(columns = {'index':'state'})\n",
    "dft_deaths = dft_deaths.rename(columns = {'index':'state'})"
   ]
  },
  {
   "cell_type": "code",
   "execution_count": 10,
   "metadata": {
    "execution": {
     "iopub.execute_input": "2020-09-02T05:38:04.452528Z",
     "iopub.status.busy": "2020-09-02T05:38:04.451804Z",
     "iopub.status.idle": "2020-09-02T05:38:04.457532Z",
     "shell.execute_reply": "2020-09-02T05:38:04.456950Z"
    },
    "papermill": {
     "duration": 0.033231,
     "end_time": "2020-09-02T05:38:04.457677",
     "exception": false,
     "start_time": "2020-09-02T05:38:04.424446",
     "status": "completed"
    },
    "tags": []
   },
   "outputs": [],
   "source": [
    "#hide\n",
    "dfc_cases = dft_cases.groupby('state')[dt_today].sum()\n",
    "dfc_deaths = dft_deaths.groupby('state')[dt_today].sum()\n",
    "dfp_cases = dft_cases.groupby('state')[dt_yday].sum()\n",
    "dfp_deaths = dft_deaths.groupby('state')[dt_yday].sum()"
   ]
  },
  {
   "cell_type": "code",
   "execution_count": 11,
   "metadata": {
    "execution": {
     "iopub.execute_input": "2020-09-02T05:38:04.508491Z",
     "iopub.status.busy": "2020-09-02T05:38:04.507799Z",
     "iopub.status.idle": "2020-09-02T05:38:04.515111Z",
     "shell.execute_reply": "2020-09-02T05:38:04.514539Z"
    },
    "papermill": {
     "duration": 0.039621,
     "end_time": "2020-09-02T05:38:04.515285",
     "exception": false,
     "start_time": "2020-09-02T05:38:04.475664",
     "status": "completed"
    },
    "tags": []
   },
   "outputs": [
    {
     "data": {
      "text/html": [
       "<div>\n",
       "<style scoped>\n",
       "    .dataframe tbody tr th:only-of-type {\n",
       "        vertical-align: middle;\n",
       "    }\n",
       "\n",
       "    .dataframe tbody tr th {\n",
       "        vertical-align: top;\n",
       "    }\n",
       "\n",
       "    .dataframe thead th {\n",
       "        text-align: right;\n",
       "    }\n",
       "</style>\n",
       "<table border=\"1\" class=\"dataframe\">\n",
       "  <thead>\n",
       "    <tr style=\"text-align: right;\">\n",
       "      <th></th>\n",
       "      <th>states</th>\n",
       "      <th>Cases</th>\n",
       "      <th>Deaths</th>\n",
       "      <th>PCases</th>\n",
       "      <th>PDeaths</th>\n",
       "    </tr>\n",
       "  </thead>\n",
       "  <tbody>\n",
       "    <tr>\n",
       "      <th>0</th>\n",
       "      <td>Maharashtra</td>\n",
       "      <td>808306</td>\n",
       "      <td>24903</td>\n",
       "      <td>808306</td>\n",
       "      <td>24903</td>\n",
       "    </tr>\n",
       "    <tr>\n",
       "      <th>1</th>\n",
       "      <td>Andhra Pradesh</td>\n",
       "      <td>445139</td>\n",
       "      <td>4053</td>\n",
       "      <td>445139</td>\n",
       "      <td>4053</td>\n",
       "    </tr>\n",
       "    <tr>\n",
       "      <th>2</th>\n",
       "      <td>Tamil Nadu</td>\n",
       "      <td>433969</td>\n",
       "      <td>7418</td>\n",
       "      <td>433969</td>\n",
       "      <td>7418</td>\n",
       "    </tr>\n",
       "    <tr>\n",
       "      <th>3</th>\n",
       "      <td>Karnataka</td>\n",
       "      <td>351481</td>\n",
       "      <td>5837</td>\n",
       "      <td>351481</td>\n",
       "      <td>5837</td>\n",
       "    </tr>\n",
       "    <tr>\n",
       "      <th>4</th>\n",
       "      <td>Uttar Pradesh</td>\n",
       "      <td>235757</td>\n",
       "      <td>3542</td>\n",
       "      <td>235757</td>\n",
       "      <td>3542</td>\n",
       "    </tr>\n",
       "  </tbody>\n",
       "</table>\n",
       "</div>"
      ],
      "text/plain": [
       "           states   Cases  Deaths  PCases  PDeaths\n",
       "0     Maharashtra  808306   24903  808306    24903\n",
       "1  Andhra Pradesh  445139    4053  445139     4053\n",
       "2      Tamil Nadu  433969    7418  433969     7418\n",
       "3       Karnataka  351481    5837  351481     5837\n",
       "4   Uttar Pradesh  235757    3542  235757     3542"
      ]
     },
     "execution_count": 11,
     "metadata": {},
     "output_type": "execute_result"
    }
   ],
   "source": [
    "#hide\n",
    "df_table = pd.DataFrame({'states': dfc_cases.index, 'Cases': dfc_cases.values, 'Deaths': dfc_deaths.values, 'PCases': dfp_cases.values, 'PDeaths': dfp_deaths.values}).set_index('states')\n",
    "df_table = df_table.sort_values(by = ['Cases','Deaths'], ascending = [False, False])\n",
    "df_table = df_table.reset_index()\n",
    "df_table.head()"
   ]
  },
  {
   "cell_type": "code",
   "execution_count": 12,
   "metadata": {
    "execution": {
     "iopub.execute_input": "2020-09-02T05:38:04.557846Z",
     "iopub.status.busy": "2020-09-02T05:38:04.557179Z",
     "iopub.status.idle": "2020-09-02T05:38:04.570037Z",
     "shell.execute_reply": "2020-09-02T05:38:04.569476Z"
    },
    "papermill": {
     "duration": 0.036185,
     "end_time": "2020-09-02T05:38:04.570190",
     "exception": false,
     "start_time": "2020-09-02T05:38:04.534005",
     "status": "completed"
    },
    "tags": []
   },
   "outputs": [],
   "source": [
    "#hide\n",
    "for c in 'Cases, Deaths'.split(', '):\n",
    "    df_table[f'{c} (+)'] = (df_table[c] - df_table[f'P{c}']).clip(0)\n",
    "df_table['Fatality Rate'] = (100* df_table['Deaths']/ df_table['Cases']).round(2)"
   ]
  },
  {
   "cell_type": "code",
   "execution_count": 13,
   "metadata": {
    "execution": {
     "iopub.execute_input": "2020-09-02T05:38:04.616952Z",
     "iopub.status.busy": "2020-09-02T05:38:04.616261Z",
     "iopub.status.idle": "2020-09-02T05:38:04.620846Z",
     "shell.execute_reply": "2020-09-02T05:38:04.621360Z"
    },
    "papermill": {
     "duration": 0.033783,
     "end_time": "2020-09-02T05:38:04.621535",
     "exception": false,
     "start_time": "2020-09-02T05:38:04.587752",
     "status": "completed"
    },
    "tags": []
   },
   "outputs": [
    {
     "data": {
      "text/html": [
       "<div>\n",
       "<style scoped>\n",
       "    .dataframe tbody tr th:only-of-type {\n",
       "        vertical-align: middle;\n",
       "    }\n",
       "\n",
       "    .dataframe tbody tr th {\n",
       "        vertical-align: top;\n",
       "    }\n",
       "\n",
       "    .dataframe thead th {\n",
       "        text-align: right;\n",
       "    }\n",
       "</style>\n",
       "<table border=\"1\" class=\"dataframe\">\n",
       "  <thead>\n",
       "    <tr style=\"text-align: right;\">\n",
       "      <th></th>\n",
       "      <th>states</th>\n",
       "      <th>Cases</th>\n",
       "      <th>Deaths</th>\n",
       "      <th>PCases</th>\n",
       "      <th>PDeaths</th>\n",
       "      <th>Cases (+)</th>\n",
       "      <th>Deaths (+)</th>\n",
       "      <th>Fatality Rate</th>\n",
       "    </tr>\n",
       "  </thead>\n",
       "  <tbody>\n",
       "    <tr>\n",
       "      <th>0</th>\n",
       "      <td>Maharashtra</td>\n",
       "      <td>808306</td>\n",
       "      <td>24903</td>\n",
       "      <td>808306</td>\n",
       "      <td>24903</td>\n",
       "      <td>0</td>\n",
       "      <td>0</td>\n",
       "      <td>3.08</td>\n",
       "    </tr>\n",
       "    <tr>\n",
       "      <th>1</th>\n",
       "      <td>Andhra Pradesh</td>\n",
       "      <td>445139</td>\n",
       "      <td>4053</td>\n",
       "      <td>445139</td>\n",
       "      <td>4053</td>\n",
       "      <td>0</td>\n",
       "      <td>0</td>\n",
       "      <td>0.91</td>\n",
       "    </tr>\n",
       "    <tr>\n",
       "      <th>2</th>\n",
       "      <td>Tamil Nadu</td>\n",
       "      <td>433969</td>\n",
       "      <td>7418</td>\n",
       "      <td>433969</td>\n",
       "      <td>7418</td>\n",
       "      <td>0</td>\n",
       "      <td>0</td>\n",
       "      <td>1.71</td>\n",
       "    </tr>\n",
       "    <tr>\n",
       "      <th>3</th>\n",
       "      <td>Karnataka</td>\n",
       "      <td>351481</td>\n",
       "      <td>5837</td>\n",
       "      <td>351481</td>\n",
       "      <td>5837</td>\n",
       "      <td>0</td>\n",
       "      <td>0</td>\n",
       "      <td>1.66</td>\n",
       "    </tr>\n",
       "    <tr>\n",
       "      <th>4</th>\n",
       "      <td>Uttar Pradesh</td>\n",
       "      <td>235757</td>\n",
       "      <td>3542</td>\n",
       "      <td>235757</td>\n",
       "      <td>3542</td>\n",
       "      <td>0</td>\n",
       "      <td>0</td>\n",
       "      <td>1.50</td>\n",
       "    </tr>\n",
       "  </tbody>\n",
       "</table>\n",
       "</div>"
      ],
      "text/plain": [
       "           states   Cases  Deaths  PCases  PDeaths  Cases (+)  Deaths (+)  \\\n",
       "0     Maharashtra  808306   24903  808306    24903          0           0   \n",
       "1  Andhra Pradesh  445139    4053  445139     4053          0           0   \n",
       "2      Tamil Nadu  433969    7418  433969     7418          0           0   \n",
       "3       Karnataka  351481    5837  351481     5837          0           0   \n",
       "4   Uttar Pradesh  235757    3542  235757     3542          0           0   \n",
       "\n",
       "   Fatality Rate  \n",
       "0           3.08  \n",
       "1           0.91  \n",
       "2           1.71  \n",
       "3           1.66  \n",
       "4           1.50  "
      ]
     },
     "execution_count": 13,
     "metadata": {},
     "output_type": "execute_result"
    }
   ],
   "source": [
    "#hide\n",
    "df_table.head()"
   ]
  },
  {
   "cell_type": "code",
   "execution_count": 14,
   "metadata": {
    "execution": {
     "iopub.execute_input": "2020-09-02T05:38:04.663402Z",
     "iopub.status.busy": "2020-09-02T05:38:04.662700Z",
     "iopub.status.idle": "2020-09-02T05:38:04.680408Z",
     "shell.execute_reply": "2020-09-02T05:38:04.680929Z"
    },
    "papermill": {
     "duration": 0.041863,
     "end_time": "2020-09-02T05:38:04.681173",
     "exception": false,
     "start_time": "2020-09-02T05:38:04.639310",
     "status": "completed"
    },
    "tags": []
   },
   "outputs": [
    {
     "data": {
      "text/plain": [
       "{'updated': '2020-09-02',\n",
       " 'since': '2020-09-01',\n",
       " 'Cases': 3770264,\n",
       " 'PCases': 3766108,\n",
       " 'Deaths': 66480,\n",
       " 'PDeaths': 66460,\n",
       " 'Cases (+)': 4156,\n",
       " 'Deaths (+)': 20}"
      ]
     },
     "execution_count": 14,
     "metadata": {},
     "output_type": "execute_result"
    }
   ],
   "source": [
    "#hide\n",
    "summary = {'updated':dates[-1], 'since':dates[-2]}\n",
    "list_names = ['Cases', 'PCases', 'Deaths', 'PDeaths', 'Cases (+)', 'Deaths (+)']\n",
    "for name in list_names:\n",
    "    summary[name] = df_table.sum()[name]\n",
    "summary"
   ]
  },
  {
   "cell_type": "code",
   "execution_count": 15,
   "metadata": {
    "execution": {
     "iopub.execute_input": "2020-09-02T05:38:04.723331Z",
     "iopub.status.busy": "2020-09-02T05:38:04.722620Z",
     "iopub.status.idle": "2020-09-02T05:38:04.724918Z",
     "shell.execute_reply": "2020-09-02T05:38:04.725831Z"
    },
    "papermill": {
     "duration": 0.026967,
     "end_time": "2020-09-02T05:38:04.725995",
     "exception": false,
     "start_time": "2020-09-02T05:38:04.699028",
     "status": "completed"
    },
    "tags": []
   },
   "outputs": [],
   "source": [
    "#hide\n",
    "overview = '''\n",
    "<!-- #######  HTML!! #########-->\n",
    "<h1 style=\"color: #5e9ca0; text-align: center;\">India</h1>\n",
    "<p style=\"text-align: center;\">Last update: <strong>{update}</strong></p>\n",
    "<p style=\"text-align: center;\">Confirmed cases:</p>\n",
    "<p style=\"text-align: center;font-size:24px;\">{cases} (<span style=\"color: #ff0000;\">+{new}</span>)</p>\n",
    "<p style=\"text-align: center;\">Confirmed deaths:</p>\n",
    "<p style=\"text-align: center;font-size:24px;\">{deaths} (<span style=\"color: #ff0000;\">+{dnew}</span>)</p>\n",
    "'''"
   ]
  },
  {
   "cell_type": "code",
   "execution_count": 16,
   "metadata": {
    "execution": {
     "iopub.execute_input": "2020-09-02T05:38:04.769956Z",
     "iopub.status.busy": "2020-09-02T05:38:04.769286Z",
     "iopub.status.idle": "2020-09-02T05:38:04.772152Z",
     "shell.execute_reply": "2020-09-02T05:38:04.772693Z"
    },
    "papermill": {
     "duration": 0.027316,
     "end_time": "2020-09-02T05:38:04.772855",
     "exception": false,
     "start_time": "2020-09-02T05:38:04.745539",
     "status": "completed"
    },
    "tags": []
   },
   "outputs": [
    {
     "data": {
      "text/html": [
       "\n",
       "<!-- #######  HTML!! #########-->\n",
       "<h1 style=\"color: #5e9ca0; text-align: center;\">India</h1>\n",
       "<p style=\"text-align: center;\">Last update: <strong>2020-09-02</strong></p>\n",
       "<p style=\"text-align: center;\">Confirmed cases:</p>\n",
       "<p style=\"text-align: center;font-size:24px;\">3770264 (<span style=\"color: #ff0000;\">+4156</span>)</p>\n",
       "<p style=\"text-align: center;\">Confirmed deaths:</p>\n",
       "<p style=\"text-align: center;font-size:24px;\">66480 (<span style=\"color: #ff0000;\">+20</span>)</p>\n"
      ],
      "text/plain": [
       "<IPython.core.display.HTML object>"
      ]
     },
     "metadata": {},
     "output_type": "display_data"
    }
   ],
   "source": [
    "#hide_input\n",
    "update = summary['updated']\n",
    "cases = summary['Cases']\n",
    "new = summary['Cases (+)']\n",
    "deaths = summary['Deaths']\n",
    "dnew = summary['Deaths (+)']\n",
    "\n",
    "html = HTML(overview.format(update=update, cases=cases,new=new,deaths=deaths,dnew=dnew))\n",
    "\n",
    "display(html)"
   ]
  },
  {
   "cell_type": "code",
   "execution_count": 17,
   "metadata": {
    "execution": {
     "iopub.execute_input": "2020-09-02T05:38:04.820087Z",
     "iopub.status.busy": "2020-09-02T05:38:04.819397Z",
     "iopub.status.idle": "2020-09-02T05:38:04.824989Z",
     "shell.execute_reply": "2020-09-02T05:38:04.825571Z"
    },
    "papermill": {
     "duration": 0.034952,
     "end_time": "2020-09-02T05:38:04.826399",
     "exception": false,
     "start_time": "2020-09-02T05:38:04.791447",
     "status": "completed"
    },
    "tags": []
   },
   "outputs": [],
   "source": [
    "#hide\n",
    "dt_cols = list(dft_cases.columns[1:])\n",
    "dft_ct_new_cases = dft_cases.groupby('state')[dt_cols].sum().diff(axis=1).fillna(0).astype(int)\n",
    "dft_ct_new_cases.sort_values(by = dates[-1], ascending = False,inplace = True)"
   ]
  },
  {
   "cell_type": "code",
   "execution_count": 18,
   "metadata": {
    "execution": {
     "iopub.execute_input": "2020-09-02T05:38:04.886474Z",
     "iopub.status.busy": "2020-09-02T05:38:04.885773Z",
     "iopub.status.idle": "2020-09-02T05:38:04.888421Z",
     "shell.execute_reply": "2020-09-02T05:38:04.889184Z"
    },
    "papermill": {
     "duration": 0.042934,
     "end_time": "2020-09-02T05:38:04.889358",
     "exception": false,
     "start_time": "2020-09-02T05:38:04.846424",
     "status": "completed"
    },
    "tags": []
   },
   "outputs": [
    {
     "data": {
      "text/html": [
       "<div>\n",
       "<style scoped>\n",
       "    .dataframe tbody tr th:only-of-type {\n",
       "        vertical-align: middle;\n",
       "    }\n",
       "\n",
       "    .dataframe tbody tr th {\n",
       "        vertical-align: top;\n",
       "    }\n",
       "\n",
       "    .dataframe thead th {\n",
       "        text-align: right;\n",
       "    }\n",
       "</style>\n",
       "<table border=\"1\" class=\"dataframe\">\n",
       "  <thead>\n",
       "    <tr style=\"text-align: right;\">\n",
       "      <th>states</th>\n",
       "      <th>2020-07-01</th>\n",
       "      <th>2020-07-02</th>\n",
       "      <th>2020-07-03</th>\n",
       "      <th>2020-07-04</th>\n",
       "      <th>2020-07-05</th>\n",
       "      <th>2020-07-06</th>\n",
       "      <th>2020-07-07</th>\n",
       "      <th>2020-07-08</th>\n",
       "      <th>2020-07-09</th>\n",
       "      <th>2020-07-10</th>\n",
       "      <th>...</th>\n",
       "      <th>2020-08-24</th>\n",
       "      <th>2020-08-25</th>\n",
       "      <th>2020-08-26</th>\n",
       "      <th>2020-08-27</th>\n",
       "      <th>2020-08-28</th>\n",
       "      <th>2020-08-29</th>\n",
       "      <th>2020-08-30</th>\n",
       "      <th>2020-08-31</th>\n",
       "      <th>2020-09-01</th>\n",
       "      <th>2020-09-02</th>\n",
       "    </tr>\n",
       "    <tr>\n",
       "      <th>state</th>\n",
       "      <th></th>\n",
       "      <th></th>\n",
       "      <th></th>\n",
       "      <th></th>\n",
       "      <th></th>\n",
       "      <th></th>\n",
       "      <th></th>\n",
       "      <th></th>\n",
       "      <th></th>\n",
       "      <th></th>\n",
       "      <th></th>\n",
       "      <th></th>\n",
       "      <th></th>\n",
       "      <th></th>\n",
       "      <th></th>\n",
       "      <th></th>\n",
       "      <th></th>\n",
       "      <th></th>\n",
       "      <th></th>\n",
       "      <th></th>\n",
       "      <th></th>\n",
       "    </tr>\n",
       "  </thead>\n",
       "  <tbody>\n",
       "    <tr>\n",
       "      <th>Telangana</th>\n",
       "      <td>0</td>\n",
       "      <td>1213</td>\n",
       "      <td>1892</td>\n",
       "      <td>1850</td>\n",
       "      <td>1590</td>\n",
       "      <td>1831</td>\n",
       "      <td>1879</td>\n",
       "      <td>1924</td>\n",
       "      <td>1410</td>\n",
       "      <td>1278</td>\n",
       "      <td>...</td>\n",
       "      <td>1842</td>\n",
       "      <td>2579</td>\n",
       "      <td>3018</td>\n",
       "      <td>2795</td>\n",
       "      <td>2932</td>\n",
       "      <td>2751</td>\n",
       "      <td>2924</td>\n",
       "      <td>1873</td>\n",
       "      <td>2734</td>\n",
       "      <td>2892</td>\n",
       "    </tr>\n",
       "    <tr>\n",
       "      <th>Rajasthan</th>\n",
       "      <td>0</td>\n",
       "      <td>350</td>\n",
       "      <td>390</td>\n",
       "      <td>480</td>\n",
       "      <td>632</td>\n",
       "      <td>524</td>\n",
       "      <td>716</td>\n",
       "      <td>659</td>\n",
       "      <td>500</td>\n",
       "      <td>611</td>\n",
       "      <td>...</td>\n",
       "      <td>1346</td>\n",
       "      <td>1370</td>\n",
       "      <td>1345</td>\n",
       "      <td>1345</td>\n",
       "      <td>1355</td>\n",
       "      <td>1407</td>\n",
       "      <td>1450</td>\n",
       "      <td>1466</td>\n",
       "      <td>1470</td>\n",
       "      <td>690</td>\n",
       "    </tr>\n",
       "    <tr>\n",
       "      <th>Tripura</th>\n",
       "      <td>0</td>\n",
       "      <td>39</td>\n",
       "      <td>93</td>\n",
       "      <td>25</td>\n",
       "      <td>23</td>\n",
       "      <td>111</td>\n",
       "      <td>24</td>\n",
       "      <td>57</td>\n",
       "      <td>16</td>\n",
       "      <td>142</td>\n",
       "      <td>...</td>\n",
       "      <td>200</td>\n",
       "      <td>293</td>\n",
       "      <td>329</td>\n",
       "      <td>385</td>\n",
       "      <td>509</td>\n",
       "      <td>443</td>\n",
       "      <td>447</td>\n",
       "      <td>321</td>\n",
       "      <td>509</td>\n",
       "      <td>566</td>\n",
       "    </tr>\n",
       "    <tr>\n",
       "      <th>Mizoram</th>\n",
       "      <td>0</td>\n",
       "      <td>2</td>\n",
       "      <td>0</td>\n",
       "      <td>2</td>\n",
       "      <td>22</td>\n",
       "      <td>11</td>\n",
       "      <td>1</td>\n",
       "      <td>5</td>\n",
       "      <td>0</td>\n",
       "      <td>23</td>\n",
       "      <td>...</td>\n",
       "      <td>0</td>\n",
       "      <td>35</td>\n",
       "      <td>14</td>\n",
       "      <td>7</td>\n",
       "      <td>29</td>\n",
       "      <td>0</td>\n",
       "      <td>5</td>\n",
       "      <td>3</td>\n",
       "      <td>1</td>\n",
       "      <td>8</td>\n",
       "    </tr>\n",
       "    <tr>\n",
       "      <th>Andaman and Nicobar Islands</th>\n",
       "      <td>0</td>\n",
       "      <td>9</td>\n",
       "      <td>7</td>\n",
       "      <td>3</td>\n",
       "      <td>6</td>\n",
       "      <td>16</td>\n",
       "      <td>6</td>\n",
       "      <td>2</td>\n",
       "      <td>7</td>\n",
       "      <td>0</td>\n",
       "      <td>...</td>\n",
       "      <td>44</td>\n",
       "      <td>41</td>\n",
       "      <td>40</td>\n",
       "      <td>33</td>\n",
       "      <td>32</td>\n",
       "      <td>31</td>\n",
       "      <td>23</td>\n",
       "      <td>28</td>\n",
       "      <td>28</td>\n",
       "      <td>0</td>\n",
       "    </tr>\n",
       "  </tbody>\n",
       "</table>\n",
       "<p>5 rows × 64 columns</p>\n",
       "</div>"
      ],
      "text/plain": [
       "states                       2020-07-01  2020-07-02  2020-07-03  2020-07-04  \\\n",
       "state                                                                         \n",
       "Telangana                             0        1213        1892        1850   \n",
       "Rajasthan                             0         350         390         480   \n",
       "Tripura                               0          39          93          25   \n",
       "Mizoram                               0           2           0           2   \n",
       "Andaman and Nicobar Islands           0           9           7           3   \n",
       "\n",
       "states                       2020-07-05  2020-07-06  2020-07-07  2020-07-08  \\\n",
       "state                                                                         \n",
       "Telangana                          1590        1831        1879        1924   \n",
       "Rajasthan                           632         524         716         659   \n",
       "Tripura                              23         111          24          57   \n",
       "Mizoram                              22          11           1           5   \n",
       "Andaman and Nicobar Islands           6          16           6           2   \n",
       "\n",
       "states                       2020-07-09  2020-07-10  ...  2020-08-24  \\\n",
       "state                                                ...               \n",
       "Telangana                          1410        1278  ...        1842   \n",
       "Rajasthan                           500         611  ...        1346   \n",
       "Tripura                              16         142  ...         200   \n",
       "Mizoram                               0          23  ...           0   \n",
       "Andaman and Nicobar Islands           7           0  ...          44   \n",
       "\n",
       "states                       2020-08-25  2020-08-26  2020-08-27  2020-08-28  \\\n",
       "state                                                                         \n",
       "Telangana                          2579        3018        2795        2932   \n",
       "Rajasthan                          1370        1345        1345        1355   \n",
       "Tripura                             293         329         385         509   \n",
       "Mizoram                              35          14           7          29   \n",
       "Andaman and Nicobar Islands          41          40          33          32   \n",
       "\n",
       "states                       2020-08-29  2020-08-30  2020-08-31  2020-09-01  \\\n",
       "state                                                                         \n",
       "Telangana                          2751        2924        1873        2734   \n",
       "Rajasthan                          1407        1450        1466        1470   \n",
       "Tripura                             443         447         321         509   \n",
       "Mizoram                               0           5           3           1   \n",
       "Andaman and Nicobar Islands          31          23          28          28   \n",
       "\n",
       "states                       2020-09-02  \n",
       "state                                    \n",
       "Telangana                          2892  \n",
       "Rajasthan                           690  \n",
       "Tripura                             566  \n",
       "Mizoram                               8  \n",
       "Andaman and Nicobar Islands           0  \n",
       "\n",
       "[5 rows x 64 columns]"
      ]
     },
     "execution_count": 18,
     "metadata": {},
     "output_type": "execute_result"
    }
   ],
   "source": [
    "#hide\n",
    "dft_ct_new_cases.head()"
   ]
  },
  {
   "cell_type": "code",
   "execution_count": 19,
   "metadata": {
    "execution": {
     "iopub.execute_input": "2020-09-02T05:38:04.937836Z",
     "iopub.status.busy": "2020-09-02T05:38:04.937103Z",
     "iopub.status.idle": "2020-09-02T05:38:08.419837Z",
     "shell.execute_reply": "2020-09-02T05:38:08.420355Z"
    },
    "papermill": {
     "duration": 3.511233,
     "end_time": "2020-09-02T05:38:08.420528",
     "exception": false,
     "start_time": "2020-09-02T05:38:04.909295",
     "status": "completed"
    },
    "tags": []
   },
   "outputs": [
    {
     "data": {
      "image/png": "[encoded data removed]",
      "text/plain": [
       "<Figure size 1296x2016 with 11 Axes>"
      ]
     },
     "metadata": {
      "needs_background": "light"
     },
     "output_type": "display_data"
    }
   ],
   "source": [
    "#hide_input\n",
    "df = dft_ct_new_cases.copy()\n",
    "df.loc['Total'] = df.sum()\n",
    "n = 5\n",
    "ax = []\n",
    "fig = plt.figure(figsize = (18,28))\n",
    "gs = fig.add_gridspec(n+2, 5)\n",
    "# gs = fig.add_gridspec(2, 3)\n",
    "ax1 = fig.add_subplot(gs[0, :])\n",
    "ef = df.loc['Total'].rename_axis('date').reset_index()\n",
    "ef['date'] = ef['date'].astype('datetime64[ns]')\n",
    "ax1.bar(ef.date,ef.Total,alpha=0.3,color='#007acc')\n",
    "ax1.plot(ef.date,ef.Total , marker=\"o\", color='#007acc')\n",
    "ax1.xaxis.set_major_locator(mdates.WeekdayLocator())\n",
    "ax1.xaxis.set_major_formatter(mdates.DateFormatter('%b %d'))\n",
    "ax1.text(0.02, 0.5,'India daily case count', transform = ax1.transAxes, fontsize=25);\n",
    "ax1.spines['right'].set_visible(False)\n",
    "ax1.spines['top'].set_visible(False)\n",
    "\n",
    "ax2 = fig.add_subplot(gs[1,0])\n",
    "ef = df.loc['Maharashtra'].rename_axis('date').reset_index()\n",
    "ef['date'] = ef['date'].astype('datetime64[ns]')\n",
    "\n",
    "ax2.bar(ef.date, ef.Maharashtra,color = '#007acc',alpha=0.5)\n",
    "ax2.xaxis.set_major_locator(mdates.WeekdayLocator())\n",
    "ax2.xaxis.set_major_formatter(mdates.DateFormatter('%b %d'))\n",
    "ax2.set_xticks(ax2.get_xticks()[::3])\n",
    "maxyval = ef.Maharashtra.max()\n",
    "ax2.set_ylim([0,maxyval])\n",
    "ax2.text(0.05, 0.9,'Maharashtra', transform = ax2.transAxes, fontsize=20);\n",
    "ax2.spines['right'].set_visible(False)\n",
    "ax2.spines['top'].set_visible(False)\n",
    "\n",
    "\n",
    "ax3 = fig.add_subplot(gs[1,1])\n",
    "ef = df.loc['Tamil Nadu'].rename_axis('date').reset_index()\n",
    "ef['date'] = ef['date'].astype('datetime64[ns]')\n",
    "ax3.bar(ef.date, ef['Tamil Nadu'],color = '#007acc',alpha=0.5,)\n",
    "ax3.xaxis.set_major_locator(mdates.WeekdayLocator())\n",
    "ax3.xaxis.set_major_formatter(mdates.DateFormatter('%b %d'))\n",
    "ax3.set_xticks(ax3.get_xticks()[::3])\n",
    "ax3.text(0.05, 0.9,'Tamil Nadu', transform = ax3.transAxes, fontsize=20);\n",
    "ax3.spines['right'].set_visible(False)\n",
    "ax3.spines['top'].set_visible(False)\n",
    "\n",
    "ax5 = fig.add_subplot(gs[1,3])\n",
    "ef = df.loc['Telangana'].rename_axis('date').reset_index()\n",
    "ef['date'] = ef['date'].astype('datetime64[ns]')\n",
    "ax5.bar(ef.date, ef['Telangana'],color = '#007acc',alpha=0.5,)\n",
    "ax5.xaxis.set_major_locator(mdates.WeekdayLocator())\n",
    "ax5.xaxis.set_major_formatter(mdates.DateFormatter('%b %d'))\n",
    "ax5.set_xticks(ax5.get_xticks()[::3])\n",
    "ax5.text(0.05, 0.9,'Telangana', transform = ax5.transAxes, fontsize=20);\n",
    "ax5.spines['right'].set_visible(False)\n",
    "ax5.spines['top'].set_visible(False)\n",
    "\n",
    "ax6 = fig.add_subplot(gs[1,4])\n",
    "ef = df.loc['Andhra Pradesh'].rename_axis('date').reset_index()\n",
    "ef['date'] = ef['date'].astype('datetime64[ns]')\n",
    "ax6.bar(ef.date, ef['Andhra Pradesh'],color = '#007acc',alpha=0.5,)\n",
    "ax6.xaxis.set_major_locator(mdates.WeekdayLocator())\n",
    "ax6.xaxis.set_major_formatter(mdates.DateFormatter('%b %d'))\n",
    "ax6.set_xticks(ax6.get_xticks()[::3])\n",
    "ax6.text(0.05, 1,'Andhra Pradesh', transform = ax6.transAxes, fontsize=20);\n",
    "ax6.spines['right'].set_visible(False)\n",
    "ax6.spines['top'].set_visible(False)\n",
    "\n",
    "ax4 = fig.add_subplot(gs[1,2])\n",
    "ef = df.loc['Delhi'].rename_axis('date').reset_index()\n",
    "ef['date'] = ef['date'].astype('datetime64[ns]')\n",
    "ax4.bar(ef.date, ef.Delhi,color = '#007acc',alpha=0.5)\n",
    "ax4.set_xticks([])\n",
    "ax4.xaxis.set_major_locator(mdates.WeekdayLocator())\n",
    "ax4.xaxis.set_major_formatter(mdates.DateFormatter('%b %d'))\n",
    "ax4.set_xticks(ax4.get_xticks()[::3])\n",
    "ax4.spines['right'].set_visible(False)\n",
    "ax4.spines['top'].set_visible(False)\n",
    "\n",
    "ax4.text(0.05, 1,'Delhi', transform = ax4.transAxes, fontsize=20)\n",
    "\n",
    "for i in range(n):\n",
    "    \n",
    "    ax.append(fig.add_subplot(gs[i+2,:]))\n",
    "    ef = df.iloc[i+3].rename_axis('date').reset_index()\n",
    "    ef['date'] = ef['date'].astype('datetime64[ns]')\n",
    "    ax[i].bar(ef.date,ef.iloc[:,-1],color = '#007acc',alpha=0.3)\n",
    "    ax[i].plot(ef.date,ef.iloc[:,-1],marker='o',color='#007acc')\n",
    "    ax[i].text(0.02,0.5,f'{ef.columns.values[-1]}',transform = ax[i].transAxes, fontsize = 20);\n",
    "    ax[i].xaxis.set_major_locator(mdates.WeekdayLocator())\n",
    "    ax[i].xaxis.set_major_formatter(mdates.DateFormatter('%b %d'))\n",
    "    ax[i].set_ylim([0,7000])\n",
    "    ax[i].spines['right'].set_visible(False)\n",
    "    ax[i].spines['top'].set_visible(False)\n",
    "plt.tight_layout()\n"
   ]
  },
  {
   "cell_type": "code",
   "execution_count": 20,
   "metadata": {
    "execution": {
     "iopub.execute_input": "2020-09-02T05:38:08.477495Z",
     "iopub.status.busy": "2020-09-02T05:38:08.476810Z",
     "iopub.status.idle": "2020-09-02T05:38:08.481443Z",
     "shell.execute_reply": "2020-09-02T05:38:08.481962Z"
    },
    "papermill": {
     "duration": 0.038046,
     "end_time": "2020-09-02T05:38:08.482133",
     "exception": false,
     "start_time": "2020-09-02T05:38:08.444087",
     "status": "completed"
    },
    "tags": []
   },
   "outputs": [
    {
     "name": "stdout",
     "output_type": "stream",
     "text": [
      "                                   states   Cases  Deaths  PCases  PDeaths  Cases (+)  Deaths (+)  Fatality Rate\n",
      "                              Maharashtra  808306   24903  808306    24903          0           0           3.08\n",
      "                           Andhra Pradesh  445139    4053  445139     4053          0           0           0.91\n",
      "                               Tamil Nadu  433969    7418  433969     7418          0           0           1.71\n",
      "                                Karnataka  351481    5837  351481     5837          0           0           1.66\n",
      "                            Uttar Pradesh  235757    3542  235757     3542          0           0           1.50\n",
      "                                    Delhi  177060    4462  177060     4462          0           0           2.52\n",
      "                              West Bengal  165721    3283  165721     3283          0           0           1.98\n",
      "                                    Bihar  138265     709  138265      709          0           0           0.51\n",
      "                                Telangana  130589     846  127697      836       2892          10           0.65\n",
      "                                    Assam  111725     315  111725      315          0           0           0.28\n",
      "                                   Odisha  106561     556  106561      556          0           0           0.52\n",
      "                                  Gujarat   97745    3034   97745     3034          0           0           3.10\n",
      "                                Rajasthan   83853    1074   83163     1069        690           5           1.28\n",
      "                                   Kerala   76526     299   76526      299          0           0           0.39\n",
      "                                  Haryana   66426     706   66426      706          0           0           1.06\n",
      "                           Madhya Pradesh   65490    1426   65490     1426          0           0           2.18\n",
      "                                   Punjab   55508    1512   55508     1512          0           0           2.72\n",
      "                                Jharkhand   43833     428   43833      428          0           0           0.98\n",
      "                        Jammu and Kashmir   38223     717   38223      717          0           0           1.88\n",
      "                             Chhattisgarh   33387     287   33387      287          0           0           0.86\n",
      "                              Uttarakhand   20398     280   20398      280          0           0           1.37\n",
      "                                      Goa   18006     194   18006      194          0           0           1.08\n",
      "                               Puducherry   14766     240   14766      240          0           0           1.63\n",
      "                                  Tripura   12719     118   12153      113        566           5           0.93\n",
      "                                  Manipur    6382      29    6382       29          0           0           0.45\n",
      "                         Himachal Pradesh    6255      41    6255       41          0           0           0.66\n",
      "                               Chandigarh    4550      57    4550       57          0           0           1.25\n",
      "                        Arunachal Pradesh    4212       7    4212        7          0           0           0.17\n",
      "                                 Nagaland    4003       8    4003        8          0           0           0.20\n",
      "              Andaman and Nicobar Islands    3160      46    3160       46          0           0           1.46\n",
      "                                   Ladakh    2733      35    2733       35          0           0           1.28\n",
      "                                Meghalaya    2440      12    2440       12          0           0           0.49\n",
      " Dadra and Nagar Haveli and Daman and Diu    2386       2    2386        2          0           0           0.08\n",
      "                                   Sikkim    1670       4    1670        4          0           0           0.24\n",
      "                                  Mizoram    1020       0    1012        0          8           0           0.00\n",
      "                              Lakshadweep       0       0       0        0          0           0            NaN\n"
     ]
    }
   ],
   "source": [
    "#hide_input\n",
    "print(df_table.to_string(index=False))"
   ]
  },
  {
   "cell_type": "code",
   "execution_count": null,
   "metadata": {
    "papermill": {
     "duration": 0.028904,
     "end_time": "2020-09-02T05:38:08.538600",
     "exception": false,
     "start_time": "2020-09-02T05:38:08.509696",
     "status": "completed"
    },
    "tags": []
   },
   "outputs": [],
   "source": []
  },
  {
   "cell_type": "code",
   "execution_count": null,
   "metadata": {
    "papermill": {
     "duration": 0.023356,
     "end_time": "2020-09-02T05:38:08.587267",
     "exception": false,
     "start_time": "2020-09-02T05:38:08.563911",
     "status": "completed"
    },
    "tags": []
   },
   "outputs": [],
   "source": []
  }
 ],
 "metadata": {
  "kernelspec": {
   "display_name": "Python 3",
   "language": "python",
   "name": "python3"
  },
  "language_info": {
   "codemirror_mode": {
    "name": "ipython",
    "version": 3
   },
   "file_extension": ".py",
   "mimetype": "text/x-python",
   "name": "python",
   "nbconvert_exporter": "python",
   "pygments_lexer": "ipython3",
   "version": "3.6.12"
  },
  "papermill": {
   "duration": 9.110989,
   "end_time": "2020-09-02T05:38:09.019845",
   "environment_variables": {},
   "exception": null,
   "input_path": "latest.ipynb",
   "output_path": "latest.ipynb",
   "parameters": {},
   "start_time": "2020-09-02T05:37:59.908856",
   "version": "2.1.2"
  }
 },
 "nbformat": 4,
 "nbformat_minor": 4
}