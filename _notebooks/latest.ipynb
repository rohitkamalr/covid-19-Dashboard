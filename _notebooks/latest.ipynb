{
 "cells": [
  {
   "cell_type": "markdown",
   "metadata": {
    "papermill": {
     "duration": 0.018285,
     "end_time": "2020-10-24T13:52:02.717006",
     "exception": false,
     "start_time": "2020-10-24T13:52:02.698721",
     "status": "completed"
    },
    "tags": []
   },
   "source": [
    "# Latest COVID-19 India Matplotlib Overview"
   ]
  },
  {
   "cell_type": "code",
   "execution_count": 1,
   "metadata": {
    "execution": {
     "iopub.execute_input": "2020-10-24T13:52:02.749574Z",
     "iopub.status.busy": "2020-10-24T13:52:02.749052Z",
     "iopub.status.idle": "2020-10-24T13:52:03.282131Z",
     "shell.execute_reply": "2020-10-24T13:52:03.281212Z"
    },
    "papermill": {
     "duration": 0.552043,
     "end_time": "2020-10-24T13:52:03.282274",
     "exception": false,
     "start_time": "2020-10-24T13:52:02.730231",
     "status": "completed"
    },
    "tags": []
   },
   "outputs": [],
   "source": [
    "#hide\n",
    "import pandas as pd\n",
    "import numpy as np\n",
    "import requests\n",
    "import json\n",
    "import matplotlib.pyplot as plt\n",
    "import matplotlib.dates as mdates\n",
    "import matplotlib as mpl\n",
    "from IPython.core.display import display,HTML\n",
    "%matplotlib inline\n",
    "from datetime import date"
   ]
  },
  {
   "cell_type": "code",
   "execution_count": 2,
   "metadata": {
    "execution": {
     "iopub.execute_input": "2020-10-24T13:52:03.314631Z",
     "iopub.status.busy": "2020-10-24T13:52:03.313872Z",
     "iopub.status.idle": "2020-10-24T13:52:03.633900Z",
     "shell.execute_reply": "2020-10-24T13:52:03.633284Z"
    },
    "papermill": {
     "duration": 0.338846,
     "end_time": "2020-10-24T13:52:03.634018",
     "exception": false,
     "start_time": "2020-10-24T13:52:03.295172",
     "status": "completed"
    },
    "tags": []
   },
   "outputs": [],
   "source": [
    "#hide\n",
    "df  = pd.read_csv('https://api.covid19india.org/csv/latest/states.csv')\n",
    "df = df[['Date','State','Confirmed','Deceased']]\n",
    "df = df.rename(columns={'Confirmed':'Cases', \"Deceased\":'Deaths'})\n",
    "df_cases = df[[\"Date\",'State','Cases']]\n",
    "df_deaths = df[['Date','State','Deaths']]\n",
    "df_cases1 = df_cases.groupby('Date')\n",
    "df_deaths1= df_deaths.groupby('Date')"
   ]
  },
  {
   "cell_type": "code",
   "execution_count": 3,
   "metadata": {
    "execution": {
     "iopub.execute_input": "2020-10-24T13:52:03.665623Z",
     "iopub.status.busy": "2020-10-24T13:52:03.665104Z",
     "iopub.status.idle": "2020-10-24T13:52:03.680373Z",
     "shell.execute_reply": "2020-10-24T13:52:03.680733Z"
    },
    "papermill": {
     "duration": 0.033709,
     "end_time": "2020-10-24T13:52:03.680862",
     "exception": false,
     "start_time": "2020-10-24T13:52:03.647153",
     "status": "completed"
    },
    "tags": []
   },
   "outputs": [],
   "source": [
    "#hide\n",
    "df_snap = pd.read_csv('data/SnapshotCases-28-July.csv')\n",
    "arr_states = df_snap['states'].unique()\n",
    "arr_dates = df['Date'].unique()\n",
    "df_snap = df_snap.set_index('states')"
   ]
  },
  {
   "cell_type": "code",
   "execution_count": 4,
   "metadata": {
    "execution": {
     "iopub.execute_input": "2020-10-24T13:52:03.715168Z",
     "iopub.status.busy": "2020-10-24T13:52:03.714583Z",
     "iopub.status.idle": "2020-10-24T13:52:03.717790Z",
     "shell.execute_reply": "2020-10-24T13:52:03.718261Z"
    },
    "papermill": {
     "duration": 0.024943,
     "end_time": "2020-10-24T13:52:03.718410",
     "exception": false,
     "start_time": "2020-10-24T13:52:03.693467",
     "status": "completed"
    },
    "tags": []
   },
   "outputs": [
    {
     "data": {
      "text/plain": [
       "array(['Andaman and Nicobar Islands', 'Andhra Pradesh',\n",
       "       'Arunachal Pradesh', 'Assam', 'Bihar', 'Chandigarh',\n",
       "       'Dadra and Nagar Haveli and Daman and Diu', 'Delhi', 'Goa',\n",
       "       'Gujarat', 'Haryana', 'Himachal Pradesh', 'Jammu and Kashmir',\n",
       "       'Jharkhand', 'Karnataka', 'Kerala', 'Lakshadweep',\n",
       "       'Madhya Pradesh', 'Maharashtra', 'Manipur', 'Meghalaya', 'Mizoram',\n",
       "       'Nagaland', 'Odisha', 'Puducherry', 'Punjab', 'Rajasthan',\n",
       "       'Sikkim', 'Tamil Nadu', 'Telangana', 'Tripura', 'Uttar Pradesh',\n",
       "       'West Bengal', 'Chhattisgarh', 'Ladakh', 'Uttarakhand'],\n",
       "      dtype=object)"
      ]
     },
     "execution_count": 4,
     "metadata": {},
     "output_type": "execute_result"
    }
   ],
   "source": [
    "#hide\n",
    "arr_states[-9] = 'Puducherry'\n",
    "arr_states[-10] = 'Odisha'\n",
    "arr_states[6] = 'Dadra and Nagar Haveli and Daman and Diu'\n",
    "arr_states = np.append(arr_states,np.array(['Chhattisgarh','Ladakh','Uttarakhand']))\n",
    "arr_states"
   ]
  },
  {
   "cell_type": "code",
   "execution_count": 5,
   "metadata": {
    "execution": {
     "iopub.execute_input": "2020-10-24T13:52:03.760740Z",
     "iopub.status.busy": "2020-10-24T13:52:03.760123Z",
     "iopub.status.idle": "2020-10-24T13:52:03.768087Z",
     "shell.execute_reply": "2020-10-24T13:52:03.767582Z"
    },
    "papermill": {
     "duration": 0.035533,
     "end_time": "2020-10-24T13:52:03.768220",
     "exception": false,
     "start_time": "2020-10-24T13:52:03.732687",
     "status": "completed"
    },
    "tags": []
   },
   "outputs": [],
   "source": [
    "#hide\n",
    "dates = []\n",
    "for i in arr_dates:\n",
    "    if i>='2020-07-01':\n",
    "        dates.append(i)\n",
    "dict = {'states':dates}\n",
    "for i in arr_states:\n",
    "    dict[i] = [0]*len(dates)\n",
    "dft_cases = pd.DataFrame(dict)\n",
    "dft_deaths = pd.DataFrame(dict)\n"
   ]
  },
  {
   "cell_type": "code",
   "execution_count": 6,
   "metadata": {
    "execution": {
     "iopub.execute_input": "2020-10-24T13:52:03.802633Z",
     "iopub.status.busy": "2020-10-24T13:52:03.802146Z",
     "iopub.status.idle": "2020-10-24T13:52:05.261553Z",
     "shell.execute_reply": "2020-10-24T13:52:05.260463Z"
    },
    "papermill": {
     "duration": 1.47996,
     "end_time": "2020-10-24T13:52:05.261698",
     "exception": false,
     "start_time": "2020-10-24T13:52:03.781738",
     "status": "completed"
    },
    "tags": []
   },
   "outputs": [],
   "source": [
    "#hide\n",
    "for i in range(len(dates)):\n",
    "    df1_deaths = df_deaths1.get_group(dates[i])\n",
    "    for j in range(len(df1_deaths.index)):\n",
    "        if df1_deaths.iloc[j,1] in arr_states:\n",
    "            dft_deaths.loc[i,df1_deaths.iloc[j,1]] = df1_deaths.iloc[j,2]\n",
    "dft_deaths = dft_deaths.set_index('states')"
   ]
  },
  {
   "cell_type": "code",
   "execution_count": 7,
   "metadata": {
    "execution": {
     "iopub.execute_input": "2020-10-24T13:52:05.297162Z",
     "iopub.status.busy": "2020-10-24T13:52:05.296377Z",
     "iopub.status.idle": "2020-10-24T13:52:06.735725Z",
     "shell.execute_reply": "2020-10-24T13:52:06.736531Z"
    },
    "papermill": {
     "duration": 1.460665,
     "end_time": "2020-10-24T13:52:06.736784",
     "exception": false,
     "start_time": "2020-10-24T13:52:05.276119",
     "status": "completed"
    },
    "tags": []
   },
   "outputs": [],
   "source": [
    "#hide\n",
    "for i in range(len(dates)):\n",
    "    df1_cases = df_cases1.get_group(dates[i])\n",
    "    for j in range(len(df1_cases.index)):\n",
    "        if df1_cases.iloc[j,1] in arr_states:\n",
    "            dft_cases.loc[i,df1_cases.iloc[j,1]] = df1_cases.iloc[j,2]\n",
    "dft_cases = dft_cases.set_index('states')"
   ]
  },
  {
   "cell_type": "code",
   "execution_count": 8,
   "metadata": {
    "execution": {
     "iopub.execute_input": "2020-10-24T13:52:06.772610Z",
     "iopub.status.busy": "2020-10-24T13:52:06.772053Z",
     "iopub.status.idle": "2020-10-24T13:52:06.774053Z",
     "shell.execute_reply": "2020-10-24T13:52:06.773654Z"
    },
    "papermill": {
     "duration": 0.02193,
     "end_time": "2020-10-24T13:52:06.774152",
     "exception": false,
     "start_time": "2020-10-24T13:52:06.752222",
     "status": "completed"
    },
    "tags": []
   },
   "outputs": [],
   "source": [
    "#hide\n",
    "dft_cases = dft_cases.T\n",
    "dft_deaths = dft_deaths.T\n",
    "dt_today = dates[-1]\n",
    "dt_yday = dates[-2]"
   ]
  },
  {
   "cell_type": "code",
   "execution_count": 9,
   "metadata": {
    "execution": {
     "iopub.execute_input": "2020-10-24T13:52:06.807335Z",
     "iopub.status.busy": "2020-10-24T13:52:06.806114Z",
     "iopub.status.idle": "2020-10-24T13:52:06.812700Z",
     "shell.execute_reply": "2020-10-24T13:52:06.812296Z"
    },
    "papermill": {
     "duration": 0.024421,
     "end_time": "2020-10-24T13:52:06.812801",
     "exception": false,
     "start_time": "2020-10-24T13:52:06.788380",
     "status": "completed"
    },
    "tags": []
   },
   "outputs": [],
   "source": [
    "#hide\n",
    "dft_cases = dft_cases.reset_index()\n",
    "dft_deaths = dft_deaths.reset_index()\n",
    "dft_cases = dft_cases.rename(columns = {'index':'state'})\n",
    "dft_deaths = dft_deaths.rename(columns = {'index':'state'})"
   ]
  },
  {
   "cell_type": "code",
   "execution_count": 10,
   "metadata": {
    "execution": {
     "iopub.execute_input": "2020-10-24T13:52:06.848517Z",
     "iopub.status.busy": "2020-10-24T13:52:06.847978Z",
     "iopub.status.idle": "2020-10-24T13:52:06.850163Z",
     "shell.execute_reply": "2020-10-24T13:52:06.849699Z"
    },
    "papermill": {
     "duration": 0.024283,
     "end_time": "2020-10-24T13:52:06.850270",
     "exception": false,
     "start_time": "2020-10-24T13:52:06.825987",
     "status": "completed"
    },
    "tags": []
   },
   "outputs": [],
   "source": [
    "#hide\n",
    "dfc_cases = dft_cases.groupby('state')[dt_today].sum()\n",
    "dfc_deaths = dft_deaths.groupby('state')[dt_today].sum()\n",
    "dfp_cases = dft_cases.groupby('state')[dt_yday].sum()\n",
    "dfp_deaths = dft_deaths.groupby('state')[dt_yday].sum()"
   ]
  },
  {
   "cell_type": "code",
   "execution_count": 11,
   "metadata": {
    "execution": {
     "iopub.execute_input": "2020-10-24T13:52:06.888226Z",
     "iopub.status.busy": "2020-10-24T13:52:06.887678Z",
     "iopub.status.idle": "2020-10-24T13:52:06.899640Z",
     "shell.execute_reply": "2020-10-24T13:52:06.899143Z"
    },
    "papermill": {
     "duration": 0.035347,
     "end_time": "2020-10-24T13:52:06.899768",
     "exception": false,
     "start_time": "2020-10-24T13:52:06.864421",
     "status": "completed"
    },
    "tags": []
   },
   "outputs": [
    {
     "data": {
      "text/html": [
       "<div>\n",
       "<style scoped>\n",
       "    .dataframe tbody tr th:only-of-type {\n",
       "        vertical-align: middle;\n",
       "    }\n",
       "\n",
       "    .dataframe tbody tr th {\n",
       "        vertical-align: top;\n",
       "    }\n",
       "\n",
       "    .dataframe thead th {\n",
       "        text-align: right;\n",
       "    }\n",
       "</style>\n",
       "<table border=\"1\" class=\"dataframe\">\n",
       "  <thead>\n",
       "    <tr style=\"text-align: right;\">\n",
       "      <th></th>\n",
       "      <th>states</th>\n",
       "      <th>Cases</th>\n",
       "      <th>Deaths</th>\n",
       "      <th>PCases</th>\n",
       "      <th>PDeaths</th>\n",
       "    </tr>\n",
       "  </thead>\n",
       "  <tbody>\n",
       "    <tr>\n",
       "      <th>0</th>\n",
       "      <td>Maharashtra</td>\n",
       "      <td>1632544</td>\n",
       "      <td>43015</td>\n",
       "      <td>1632544</td>\n",
       "      <td>43015</td>\n",
       "    </tr>\n",
       "    <tr>\n",
       "      <th>1</th>\n",
       "      <td>Andhra Pradesh</td>\n",
       "      <td>800684</td>\n",
       "      <td>6544</td>\n",
       "      <td>800684</td>\n",
       "      <td>6544</td>\n",
       "    </tr>\n",
       "    <tr>\n",
       "      <th>2</th>\n",
       "      <td>Karnataka</td>\n",
       "      <td>793907</td>\n",
       "      <td>10821</td>\n",
       "      <td>793907</td>\n",
       "      <td>10821</td>\n",
       "    </tr>\n",
       "    <tr>\n",
       "      <th>3</th>\n",
       "      <td>Tamil Nadu</td>\n",
       "      <td>703250</td>\n",
       "      <td>10858</td>\n",
       "      <td>703250</td>\n",
       "      <td>10858</td>\n",
       "    </tr>\n",
       "    <tr>\n",
       "      <th>4</th>\n",
       "      <td>Uttar Pradesh</td>\n",
       "      <td>466060</td>\n",
       "      <td>6830</td>\n",
       "      <td>466060</td>\n",
       "      <td>6830</td>\n",
       "    </tr>\n",
       "  </tbody>\n",
       "</table>\n",
       "</div>"
      ],
      "text/plain": [
       "           states    Cases  Deaths   PCases  PDeaths\n",
       "0     Maharashtra  1632544   43015  1632544    43015\n",
       "1  Andhra Pradesh   800684    6544   800684     6544\n",
       "2       Karnataka   793907   10821   793907    10821\n",
       "3      Tamil Nadu   703250   10858   703250    10858\n",
       "4   Uttar Pradesh   466060    6830   466060     6830"
      ]
     },
     "execution_count": 11,
     "metadata": {},
     "output_type": "execute_result"
    }
   ],
   "source": [
    "#hide\n",
    "df_table = pd.DataFrame({'states': dfc_cases.index, 'Cases': dfc_cases.values, 'Deaths': dfc_deaths.values, 'PCases': dfp_cases.values, 'PDeaths': dfp_deaths.values}).set_index('states')\n",
    "df_table = df_table.sort_values(by = ['Cases','Deaths'], ascending = [False, False])\n",
    "df_table = df_table.reset_index()\n",
    "df_table.head()"
   ]
  },
  {
   "cell_type": "code",
   "execution_count": 12,
   "metadata": {
    "execution": {
     "iopub.execute_input": "2020-10-24T13:52:06.934875Z",
     "iopub.status.busy": "2020-10-24T13:52:06.934317Z",
     "iopub.status.idle": "2020-10-24T13:52:06.942689Z",
     "shell.execute_reply": "2020-10-24T13:52:06.942248Z"
    },
    "papermill": {
     "duration": 0.028242,
     "end_time": "2020-10-24T13:52:06.942808",
     "exception": false,
     "start_time": "2020-10-24T13:52:06.914566",
     "status": "completed"
    },
    "tags": []
   },
   "outputs": [],
   "source": [
    "#hide\n",
    "for c in 'Cases, Deaths'.split(', '):\n",
    "    df_table[f'{c} (+)'] = (df_table[c] - df_table[f'P{c}']).clip(0)\n",
    "df_table['Fatality Rate'] = (100* df_table['Deaths']/ df_table['Cases']).round(2)"
   ]
  },
  {
   "cell_type": "code",
   "execution_count": 13,
   "metadata": {
    "execution": {
     "iopub.execute_input": "2020-10-24T13:52:06.986219Z",
     "iopub.status.busy": "2020-10-24T13:52:06.985657Z",
     "iopub.status.idle": "2020-10-24T13:52:06.988482Z",
     "shell.execute_reply": "2020-10-24T13:52:06.988048Z"
    },
    "papermill": {
     "duration": 0.030986,
     "end_time": "2020-10-24T13:52:06.988600",
     "exception": false,
     "start_time": "2020-10-24T13:52:06.957614",
     "status": "completed"
    },
    "tags": []
   },
   "outputs": [
    {
     "data": {
      "text/html": [
       "<div>\n",
       "<style scoped>\n",
       "    .dataframe tbody tr th:only-of-type {\n",
       "        vertical-align: middle;\n",
       "    }\n",
       "\n",
       "    .dataframe tbody tr th {\n",
       "        vertical-align: top;\n",
       "    }\n",
       "\n",
       "    .dataframe thead th {\n",
       "        text-align: right;\n",
       "    }\n",
       "</style>\n",
       "<table border=\"1\" class=\"dataframe\">\n",
       "  <thead>\n",
       "    <tr style=\"text-align: right;\">\n",
       "      <th></th>\n",
       "      <th>states</th>\n",
       "      <th>Cases</th>\n",
       "      <th>Deaths</th>\n",
       "      <th>PCases</th>\n",
       "      <th>PDeaths</th>\n",
       "      <th>Cases (+)</th>\n",
       "      <th>Deaths (+)</th>\n",
       "      <th>Fatality Rate</th>\n",
       "    </tr>\n",
       "  </thead>\n",
       "  <tbody>\n",
       "    <tr>\n",
       "      <th>0</th>\n",
       "      <td>Maharashtra</td>\n",
       "      <td>1632544</td>\n",
       "      <td>43015</td>\n",
       "      <td>1632544</td>\n",
       "      <td>43015</td>\n",
       "      <td>0</td>\n",
       "      <td>0</td>\n",
       "      <td>2.63</td>\n",
       "    </tr>\n",
       "    <tr>\n",
       "      <th>1</th>\n",
       "      <td>Andhra Pradesh</td>\n",
       "      <td>800684</td>\n",
       "      <td>6544</td>\n",
       "      <td>800684</td>\n",
       "      <td>6544</td>\n",
       "      <td>0</td>\n",
       "      <td>0</td>\n",
       "      <td>0.82</td>\n",
       "    </tr>\n",
       "    <tr>\n",
       "      <th>2</th>\n",
       "      <td>Karnataka</td>\n",
       "      <td>793907</td>\n",
       "      <td>10821</td>\n",
       "      <td>793907</td>\n",
       "      <td>10821</td>\n",
       "      <td>0</td>\n",
       "      <td>0</td>\n",
       "      <td>1.36</td>\n",
       "    </tr>\n",
       "    <tr>\n",
       "      <th>3</th>\n",
       "      <td>Tamil Nadu</td>\n",
       "      <td>703250</td>\n",
       "      <td>10858</td>\n",
       "      <td>703250</td>\n",
       "      <td>10858</td>\n",
       "      <td>0</td>\n",
       "      <td>0</td>\n",
       "      <td>1.54</td>\n",
       "    </tr>\n",
       "    <tr>\n",
       "      <th>4</th>\n",
       "      <td>Uttar Pradesh</td>\n",
       "      <td>466060</td>\n",
       "      <td>6830</td>\n",
       "      <td>466060</td>\n",
       "      <td>6830</td>\n",
       "      <td>0</td>\n",
       "      <td>0</td>\n",
       "      <td>1.47</td>\n",
       "    </tr>\n",
       "  </tbody>\n",
       "</table>\n",
       "</div>"
      ],
      "text/plain": [
       "           states    Cases  Deaths   PCases  PDeaths  Cases (+)  Deaths (+)  \\\n",
       "0     Maharashtra  1632544   43015  1632544    43015          0           0   \n",
       "1  Andhra Pradesh   800684    6544   800684     6544          0           0   \n",
       "2       Karnataka   793907   10821   793907    10821          0           0   \n",
       "3      Tamil Nadu   703250   10858   703250    10858          0           0   \n",
       "4   Uttar Pradesh   466060    6830   466060     6830          0           0   \n",
       "\n",
       "   Fatality Rate  \n",
       "0           2.63  \n",
       "1           0.82  \n",
       "2           1.36  \n",
       "3           1.54  \n",
       "4           1.47  "
      ]
     },
     "execution_count": 13,
     "metadata": {},
     "output_type": "execute_result"
    }
   ],
   "source": [
    "#hide\n",
    "df_table.head()"
   ]
  },
  {
   "cell_type": "code",
   "execution_count": 14,
   "metadata": {
    "execution": {
     "iopub.execute_input": "2020-10-24T13:52:07.024609Z",
     "iopub.status.busy": "2020-10-24T13:52:07.024071Z",
     "iopub.status.idle": "2020-10-24T13:52:07.039220Z",
     "shell.execute_reply": "2020-10-24T13:52:07.038757Z"
    },
    "papermill": {
     "duration": 0.036318,
     "end_time": "2020-10-24T13:52:07.039339",
     "exception": false,
     "start_time": "2020-10-24T13:52:07.003021",
     "status": "completed"
    },
    "tags": []
   },
   "outputs": [
    {
     "data": {
      "text/plain": [
       "{'updated': '2020-10-24',\n",
       " 'since': '2020-10-23',\n",
       " 'Cases': 7815420,\n",
       " 'PCases': 7813668,\n",
       " 'Deaths': 118009,\n",
       " 'PDeaths': 117992,\n",
       " 'Cases (+)': 1752,\n",
       " 'Deaths (+)': 17}"
      ]
     },
     "execution_count": 14,
     "metadata": {},
     "output_type": "execute_result"
    }
   ],
   "source": [
    "#hide\n",
    "summary = {'updated':dates[-1], 'since':dates[-2]}\n",
    "list_names = ['Cases', 'PCases', 'Deaths', 'PDeaths', 'Cases (+)', 'Deaths (+)']\n",
    "for name in list_names:\n",
    "    summary[name] = df_table.sum()[name]\n",
    "summary"
   ]
  },
  {
   "cell_type": "code",
   "execution_count": 15,
   "metadata": {
    "execution": {
     "iopub.execute_input": "2020-10-24T13:52:07.075829Z",
     "iopub.status.busy": "2020-10-24T13:52:07.075238Z",
     "iopub.status.idle": "2020-10-24T13:52:07.077955Z",
     "shell.execute_reply": "2020-10-24T13:52:07.077456Z"
    },
    "papermill": {
     "duration": 0.022857,
     "end_time": "2020-10-24T13:52:07.078076",
     "exception": false,
     "start_time": "2020-10-24T13:52:07.055219",
     "status": "completed"
    },
    "tags": []
   },
   "outputs": [],
   "source": [
    "#hide\n",
    "overview = '''\n",
    "<!-- #######  HTML!! #########-->\n",
    "<h1 style=\"color: #5e9ca0; text-align: center;\">India</h1>\n",
    "<p style=\"text-align: center;\">Last update: <strong>{update}</strong></p>\n",
    "<p style=\"text-align: center;\">Confirmed cases:</p>\n",
    "<p style=\"text-align: center;font-size:24px;\">{cases} (<span style=\"color: #ff0000;\">+{new}</span>)</p>\n",
    "<p style=\"text-align: center;\">Confirmed deaths:</p>\n",
    "<p style=\"text-align: center;font-size:24px;\">{deaths} (<span style=\"color: #ff0000;\">+{dnew}</span>)</p>\n",
    "'''"
   ]
  },
  {
   "cell_type": "code",
   "execution_count": 16,
   "metadata": {
    "execution": {
     "iopub.execute_input": "2020-10-24T13:52:07.117071Z",
     "iopub.status.busy": "2020-10-24T13:52:07.116532Z",
     "iopub.status.idle": "2020-10-24T13:52:07.119732Z",
     "shell.execute_reply": "2020-10-24T13:52:07.119234Z"
    },
    "papermill": {
     "duration": 0.025518,
     "end_time": "2020-10-24T13:52:07.119852",
     "exception": false,
     "start_time": "2020-10-24T13:52:07.094334",
     "status": "completed"
    },
    "tags": []
   },
   "outputs": [
    {
     "data": {
      "text/html": [
       "\n",
       "<!-- #######  HTML!! #########-->\n",
       "<h1 style=\"color: #5e9ca0; text-align: center;\">India</h1>\n",
       "<p style=\"text-align: center;\">Last update: <strong>2020-10-24</strong></p>\n",
       "<p style=\"text-align: center;\">Confirmed cases:</p>\n",
       "<p style=\"text-align: center;font-size:24px;\">7815420 (<span style=\"color: #ff0000;\">+1752</span>)</p>\n",
       "<p style=\"text-align: center;\">Confirmed deaths:</p>\n",
       "<p style=\"text-align: center;font-size:24px;\">118009 (<span style=\"color: #ff0000;\">+17</span>)</p>\n"
      ],
      "text/plain": [
       "<IPython.core.display.HTML object>"
      ]
     },
     "metadata": {},
     "output_type": "display_data"
    }
   ],
   "source": [
    "#hide_input\n",
    "update = summary['updated']\n",
    "cases = summary['Cases']\n",
    "new = summary['Cases (+)']\n",
    "deaths = summary['Deaths']\n",
    "dnew = summary['Deaths (+)']\n",
    "\n",
    "html = HTML(overview.format(update=update, cases=cases,new=new,deaths=deaths,dnew=dnew))\n",
    "\n",
    "display(html)"
   ]
  },
  {
   "cell_type": "code",
   "execution_count": 17,
   "metadata": {
    "execution": {
     "iopub.execute_input": "2020-10-24T13:52:07.159237Z",
     "iopub.status.busy": "2020-10-24T13:52:07.158701Z",
     "iopub.status.idle": "2020-10-24T13:52:07.163877Z",
     "shell.execute_reply": "2020-10-24T13:52:07.163409Z"
    },
    "papermill": {
     "duration": 0.028155,
     "end_time": "2020-10-24T13:52:07.163996",
     "exception": false,
     "start_time": "2020-10-24T13:52:07.135841",
     "status": "completed"
    },
    "tags": []
   },
   "outputs": [],
   "source": [
    "#hide\n",
    "dt_cols = list(dft_cases.columns[1:])\n",
    "dft_ct_new_cases = dft_cases.groupby('state')[dt_cols].sum().diff(axis=1).fillna(0).astype(int)\n",
    "dft_ct_new_cases.sort_values(by = dates[-1], ascending = False,inplace = True)"
   ]
  },
  {
   "cell_type": "code",
   "execution_count": 18,
   "metadata": {
    "execution": {
     "iopub.execute_input": "2020-10-24T13:52:07.217221Z",
     "iopub.status.busy": "2020-10-24T13:52:07.216600Z",
     "iopub.status.idle": "2020-10-24T13:52:07.219109Z",
     "shell.execute_reply": "2020-10-24T13:52:07.219550Z"
    },
    "papermill": {
     "duration": 0.03909,
     "end_time": "2020-10-24T13:52:07.219693",
     "exception": false,
     "start_time": "2020-10-24T13:52:07.180603",
     "status": "completed"
    },
    "tags": []
   },
   "outputs": [
    {
     "data": {
      "text/html": [
       "<div>\n",
       "<style scoped>\n",
       "    .dataframe tbody tr th:only-of-type {\n",
       "        vertical-align: middle;\n",
       "    }\n",
       "\n",
       "    .dataframe tbody tr th {\n",
       "        vertical-align: top;\n",
       "    }\n",
       "\n",
       "    .dataframe thead th {\n",
       "        text-align: right;\n",
       "    }\n",
       "</style>\n",
       "<table border=\"1\" class=\"dataframe\">\n",
       "  <thead>\n",
       "    <tr style=\"text-align: right;\">\n",
       "      <th>states</th>\n",
       "      <th>2020-07-01</th>\n",
       "      <th>2020-07-02</th>\n",
       "      <th>2020-07-03</th>\n",
       "      <th>2020-07-04</th>\n",
       "      <th>2020-07-05</th>\n",
       "      <th>2020-07-06</th>\n",
       "      <th>2020-07-07</th>\n",
       "      <th>2020-07-08</th>\n",
       "      <th>2020-07-09</th>\n",
       "      <th>2020-07-10</th>\n",
       "      <th>...</th>\n",
       "      <th>2020-10-15</th>\n",
       "      <th>2020-10-16</th>\n",
       "      <th>2020-10-17</th>\n",
       "      <th>2020-10-18</th>\n",
       "      <th>2020-10-19</th>\n",
       "      <th>2020-10-20</th>\n",
       "      <th>2020-10-21</th>\n",
       "      <th>2020-10-22</th>\n",
       "      <th>2020-10-23</th>\n",
       "      <th>2020-10-24</th>\n",
       "    </tr>\n",
       "    <tr>\n",
       "      <th>state</th>\n",
       "      <th></th>\n",
       "      <th></th>\n",
       "      <th></th>\n",
       "      <th></th>\n",
       "      <th></th>\n",
       "      <th></th>\n",
       "      <th></th>\n",
       "      <th></th>\n",
       "      <th></th>\n",
       "      <th></th>\n",
       "      <th></th>\n",
       "      <th></th>\n",
       "      <th></th>\n",
       "      <th></th>\n",
       "      <th></th>\n",
       "      <th></th>\n",
       "      <th></th>\n",
       "      <th></th>\n",
       "      <th></th>\n",
       "      <th></th>\n",
       "      <th></th>\n",
       "    </tr>\n",
       "  </thead>\n",
       "  <tbody>\n",
       "    <tr>\n",
       "      <th>Odisha</th>\n",
       "      <td>0</td>\n",
       "      <td>229</td>\n",
       "      <td>561</td>\n",
       "      <td>495</td>\n",
       "      <td>469</td>\n",
       "      <td>456</td>\n",
       "      <td>571</td>\n",
       "      <td>527</td>\n",
       "      <td>577</td>\n",
       "      <td>755</td>\n",
       "      <td>...</td>\n",
       "      <td>2470</td>\n",
       "      <td>2138</td>\n",
       "      <td>2196</td>\n",
       "      <td>2019</td>\n",
       "      <td>1982</td>\n",
       "      <td>1904</td>\n",
       "      <td>1931</td>\n",
       "      <td>1913</td>\n",
       "      <td>1793</td>\n",
       "      <td>1695</td>\n",
       "    </tr>\n",
       "    <tr>\n",
       "      <th>Chandigarh</th>\n",
       "      <td>0</td>\n",
       "      <td>4</td>\n",
       "      <td>4</td>\n",
       "      <td>5</td>\n",
       "      <td>7</td>\n",
       "      <td>21</td>\n",
       "      <td>5</td>\n",
       "      <td>15</td>\n",
       "      <td>16</td>\n",
       "      <td>13</td>\n",
       "      <td>...</td>\n",
       "      <td>74</td>\n",
       "      <td>55</td>\n",
       "      <td>50</td>\n",
       "      <td>64</td>\n",
       "      <td>40</td>\n",
       "      <td>57</td>\n",
       "      <td>54</td>\n",
       "      <td>51</td>\n",
       "      <td>72</td>\n",
       "      <td>57</td>\n",
       "    </tr>\n",
       "    <tr>\n",
       "      <th>Andaman and Nicobar Islands</th>\n",
       "      <td>0</td>\n",
       "      <td>9</td>\n",
       "      <td>7</td>\n",
       "      <td>3</td>\n",
       "      <td>6</td>\n",
       "      <td>16</td>\n",
       "      <td>6</td>\n",
       "      <td>2</td>\n",
       "      <td>7</td>\n",
       "      <td>0</td>\n",
       "      <td>...</td>\n",
       "      <td>16</td>\n",
       "      <td>10</td>\n",
       "      <td>11</td>\n",
       "      <td>25</td>\n",
       "      <td>18</td>\n",
       "      <td>15</td>\n",
       "      <td>27</td>\n",
       "      <td>16</td>\n",
       "      <td>23</td>\n",
       "      <td>0</td>\n",
       "    </tr>\n",
       "    <tr>\n",
       "      <th>Punjab</th>\n",
       "      <td>0</td>\n",
       "      <td>116</td>\n",
       "      <td>153</td>\n",
       "      <td>172</td>\n",
       "      <td>174</td>\n",
       "      <td>208</td>\n",
       "      <td>258</td>\n",
       "      <td>158</td>\n",
       "      <td>233</td>\n",
       "      <td>217</td>\n",
       "      <td>...</td>\n",
       "      <td>470</td>\n",
       "      <td>507</td>\n",
       "      <td>417</td>\n",
       "      <td>476</td>\n",
       "      <td>473</td>\n",
       "      <td>487</td>\n",
       "      <td>498</td>\n",
       "      <td>605</td>\n",
       "      <td>464</td>\n",
       "      <td>0</td>\n",
       "    </tr>\n",
       "    <tr>\n",
       "      <th>Manipur</th>\n",
       "      <td>0</td>\n",
       "      <td>19</td>\n",
       "      <td>37</td>\n",
       "      <td>9</td>\n",
       "      <td>41</td>\n",
       "      <td>24</td>\n",
       "      <td>40</td>\n",
       "      <td>5</td>\n",
       "      <td>15</td>\n",
       "      <td>132</td>\n",
       "      <td>...</td>\n",
       "      <td>284</td>\n",
       "      <td>337</td>\n",
       "      <td>426</td>\n",
       "      <td>322</td>\n",
       "      <td>315</td>\n",
       "      <td>284</td>\n",
       "      <td>214</td>\n",
       "      <td>345</td>\n",
       "      <td>156</td>\n",
       "      <td>0</td>\n",
       "    </tr>\n",
       "  </tbody>\n",
       "</table>\n",
       "<p>5 rows × 116 columns</p>\n",
       "</div>"
      ],
      "text/plain": [
       "states                       2020-07-01  2020-07-02  2020-07-03  2020-07-04  \\\n",
       "state                                                                         \n",
       "Odisha                                0         229         561         495   \n",
       "Chandigarh                            0           4           4           5   \n",
       "Andaman and Nicobar Islands           0           9           7           3   \n",
       "Punjab                                0         116         153         172   \n",
       "Manipur                               0          19          37           9   \n",
       "\n",
       "states                       2020-07-05  2020-07-06  2020-07-07  2020-07-08  \\\n",
       "state                                                                         \n",
       "Odisha                              469         456         571         527   \n",
       "Chandigarh                            7          21           5          15   \n",
       "Andaman and Nicobar Islands           6          16           6           2   \n",
       "Punjab                              174         208         258         158   \n",
       "Manipur                              41          24          40           5   \n",
       "\n",
       "states                       2020-07-09  2020-07-10  ...  2020-10-15  \\\n",
       "state                                                ...               \n",
       "Odisha                              577         755  ...        2470   \n",
       "Chandigarh                           16          13  ...          74   \n",
       "Andaman and Nicobar Islands           7           0  ...          16   \n",
       "Punjab                              233         217  ...         470   \n",
       "Manipur                              15         132  ...         284   \n",
       "\n",
       "states                       2020-10-16  2020-10-17  2020-10-18  2020-10-19  \\\n",
       "state                                                                         \n",
       "Odisha                             2138        2196        2019        1982   \n",
       "Chandigarh                           55          50          64          40   \n",
       "Andaman and Nicobar Islands          10          11          25          18   \n",
       "Punjab                              507         417         476         473   \n",
       "Manipur                             337         426         322         315   \n",
       "\n",
       "states                       2020-10-20  2020-10-21  2020-10-22  2020-10-23  \\\n",
       "state                                                                         \n",
       "Odisha                             1904        1931        1913        1793   \n",
       "Chandigarh                           57          54          51          72   \n",
       "Andaman and Nicobar Islands          15          27          16          23   \n",
       "Punjab                              487         498         605         464   \n",
       "Manipur                             284         214         345         156   \n",
       "\n",
       "states                       2020-10-24  \n",
       "state                                    \n",
       "Odisha                             1695  \n",
       "Chandigarh                           57  \n",
       "Andaman and Nicobar Islands           0  \n",
       "Punjab                                0  \n",
       "Manipur                               0  \n",
       "\n",
       "[5 rows x 116 columns]"
      ]
     },
     "execution_count": 18,
     "metadata": {},
     "output_type": "execute_result"
    }
   ],
   "source": [
    "#hide\n",
    "dft_ct_new_cases.head()"
   ]
  },
  {
   "cell_type": "code",
   "execution_count": 19,
   "metadata": {
    "execution": {
     "iopub.execute_input": "2020-10-24T13:52:07.287829Z",
     "iopub.status.busy": "2020-10-24T13:52:07.262467Z",
     "iopub.status.idle": "2020-10-24T13:52:11.147617Z",
     "shell.execute_reply": "2020-10-24T13:52:11.148004Z"
    },
    "papermill": {
     "duration": 3.911149,
     "end_time": "2020-10-24T13:52:11.148137",
     "exception": false,
     "start_time": "2020-10-24T13:52:07.236988",
     "status": "completed"
    },
    "tags": []
   },
   "outputs": [
    {
     "data": {
      "image/png": "[encoded data removed]",
      "text/plain": [
       "<Figure size 1296x2016 with 11 Axes>"
      ]
     },
     "metadata": {
      "needs_background": "light"
     },
     "output_type": "display_data"
    }
   ],
   "source": [
    "#hide_input\n",
    "df = dft_ct_new_cases.copy()\n",
    "df.loc['Total'] = df.sum()\n",
    "n = 5\n",
    "ax = []\n",
    "fig = plt.figure(figsize = (18,28))\n",
    "gs = fig.add_gridspec(n+2, 5)\n",
    "# gs = fig.add_gridspec(2, 3)\n",
    "ax1 = fig.add_subplot(gs[0, :])\n",
    "ef = df.loc['Total'].rename_axis('date').reset_index()\n",
    "ef['date'] = ef['date'].astype('datetime64[ns]')\n",
    "ax1.bar(ef.date,ef.Total,alpha=0.3,color='#007acc')\n",
    "ax1.plot(ef.date,ef.Total , marker=\"o\", color='#007acc')\n",
    "ax1.xaxis.set_major_locator(mdates.WeekdayLocator())\n",
    "ax1.xaxis.set_major_formatter(mdates.DateFormatter('%b %d'))\n",
    "ax1.text(0.02, 0.5,'India daily case count', transform = ax1.transAxes, fontsize=25);\n",
    "ax1.spines['right'].set_visible(False)\n",
    "ax1.spines['top'].set_visible(False)\n",
    "\n",
    "ax2 = fig.add_subplot(gs[1,0])\n",
    "ef = df.loc['Maharashtra'].rename_axis('date').reset_index()\n",
    "ef['date'] = ef['date'].astype('datetime64[ns]')\n",
    "\n",
    "ax2.bar(ef.date, ef.Maharashtra,color = '#007acc',alpha=0.5)\n",
    "ax2.xaxis.set_major_locator(mdates.WeekdayLocator())\n",
    "ax2.xaxis.set_major_formatter(mdates.DateFormatter('%b %d'))\n",
    "ax2.set_xticks(ax2.get_xticks()[::3])\n",
    "maxyval = ef.Maharashtra.max()\n",
    "ax2.set_ylim([0,maxyval])\n",
    "ax2.text(0.05, 0.9,'Maharashtra', transform = ax2.transAxes, fontsize=20);\n",
    "ax2.spines['right'].set_visible(False)\n",
    "ax2.spines['top'].set_visible(False)\n",
    "\n",
    "\n",
    "ax3 = fig.add_subplot(gs[1,1])\n",
    "ef = df.loc['Tamil Nadu'].rename_axis('date').reset_index()\n",
    "ef['date'] = ef['date'].astype('datetime64[ns]')\n",
    "ax3.bar(ef.date, ef['Tamil Nadu'],color = '#007acc',alpha=0.5,)\n",
    "ax3.xaxis.set_major_locator(mdates.WeekdayLocator())\n",
    "ax3.xaxis.set_major_formatter(mdates.DateFormatter('%b %d'))\n",
    "ax3.set_xticks(ax3.get_xticks()[::3])\n",
    "ax3.text(0.05, 0.9,'Tamil Nadu', transform = ax3.transAxes, fontsize=20);\n",
    "ax3.spines['right'].set_visible(False)\n",
    "ax3.spines['top'].set_visible(False)\n",
    "\n",
    "ax5 = fig.add_subplot(gs[1,3])\n",
    "ef = df.loc['Telangana'].rename_axis('date').reset_index()\n",
    "ef['date'] = ef['date'].astype('datetime64[ns]')\n",
    "ax5.bar(ef.date, ef['Telangana'],color = '#007acc',alpha=0.5,)\n",
    "ax5.xaxis.set_major_locator(mdates.WeekdayLocator())\n",
    "ax5.xaxis.set_major_formatter(mdates.DateFormatter('%b %d'))\n",
    "ax5.set_xticks(ax5.get_xticks()[::3])\n",
    "ax5.text(0.05, 0.9,'Telangana', transform = ax5.transAxes, fontsize=20);\n",
    "ax5.spines['right'].set_visible(False)\n",
    "ax5.spines['top'].set_visible(False)\n",
    "\n",
    "ax6 = fig.add_subplot(gs[1,4])\n",
    "ef = df.loc['Andhra Pradesh'].rename_axis('date').reset_index()\n",
    "ef['date'] = ef['date'].astype('datetime64[ns]')\n",
    "ax6.bar(ef.date, ef['Andhra Pradesh'],color = '#007acc',alpha=0.5,)\n",
    "ax6.xaxis.set_major_locator(mdates.WeekdayLocator())\n",
    "ax6.xaxis.set_major_formatter(mdates.DateFormatter('%b %d'))\n",
    "ax6.set_xticks(ax6.get_xticks()[::3])\n",
    "ax6.text(0.05, 1,'Andhra Pradesh', transform = ax6.transAxes, fontsize=20);\n",
    "ax6.spines['right'].set_visible(False)\n",
    "ax6.spines['top'].set_visible(False)\n",
    "\n",
    "ax4 = fig.add_subplot(gs[1,2])\n",
    "ef = df.loc['Delhi'].rename_axis('date').reset_index()\n",
    "ef['date'] = ef['date'].astype('datetime64[ns]')\n",
    "ax4.bar(ef.date, ef.Delhi,color = '#007acc',alpha=0.5)\n",
    "ax4.set_xticks([])\n",
    "ax4.xaxis.set_major_locator(mdates.WeekdayLocator())\n",
    "ax4.xaxis.set_major_formatter(mdates.DateFormatter('%b %d'))\n",
    "ax4.set_xticks(ax4.get_xticks()[::3])\n",
    "ax4.spines['right'].set_visible(False)\n",
    "ax4.spines['top'].set_visible(False)\n",
    "\n",
    "ax4.text(0.05, 1,'Delhi', transform = ax4.transAxes, fontsize=20)\n",
    "\n",
    "for i in range(n):\n",
    "    \n",
    "    ax.append(fig.add_subplot(gs[i+2,:]))\n",
    "    ef = df.iloc[i+3].rename_axis('date').reset_index()\n",
    "    ef['date'] = ef['date'].astype('datetime64[ns]')\n",
    "    ax[i].bar(ef.date,ef.iloc[:,-1],color = '#007acc',alpha=0.3)\n",
    "    ax[i].plot(ef.date,ef.iloc[:,-1],marker='o',color='#007acc')\n",
    "    ax[i].text(0.02,0.5,f'{ef.columns.values[-1]}',transform = ax[i].transAxes, fontsize = 20);\n",
    "    ax[i].xaxis.set_major_locator(mdates.WeekdayLocator())\n",
    "    ax[i].xaxis.set_major_formatter(mdates.DateFormatter('%b %d'))\n",
    "    ax[i].set_ylim([0,7000])\n",
    "    ax[i].spines['right'].set_visible(False)\n",
    "    ax[i].spines['top'].set_visible(False)\n",
    "plt.tight_layout()\n"
   ]
  },
  {
   "cell_type": "code",
   "execution_count": 20,
   "metadata": {
    "execution": {
     "iopub.execute_input": "2020-10-24T13:52:11.203930Z",
     "iopub.status.busy": "2020-10-24T13:52:11.201761Z",
     "iopub.status.idle": "2020-10-24T13:52:11.206876Z",
     "shell.execute_reply": "2020-10-24T13:52:11.206413Z"
    },
    "papermill": {
     "duration": 0.036303,
     "end_time": "2020-10-24T13:52:11.206992",
     "exception": false,
     "start_time": "2020-10-24T13:52:11.170689",
     "status": "completed"
    },
    "tags": []
   },
   "outputs": [
    {
     "name": "stdout",
     "output_type": "stream",
     "text": [
      "                                   states    Cases  Deaths   PCases  PDeaths  Cases (+)  Deaths (+)  Fatality Rate\n",
      "                              Maharashtra  1632544   43015  1632544    43015          0           0           2.63\n",
      "                           Andhra Pradesh   800684    6544   800684     6544          0           0           0.82\n",
      "                                Karnataka   793907   10821   793907    10821          0           0           1.36\n",
      "                               Tamil Nadu   703250   10858   703250    10858          0           0           1.54\n",
      "                            Uttar Pradesh   466060    6830   466060     6830          0           0           1.47\n",
      "                                   Kerala   377835    1282   377835     1282          0           0           0.34\n",
      "                                    Delhi   348404    6189   348404     6189          0           0           1.78\n",
      "                              West Bengal   341426    6368   341426     6368          0           0           1.87\n",
      "                                   Odisha   279582    1282   277887     1267       1695          15           0.46\n",
      "                                Telangana   229001    1298   229001     1298          0           0           0.57\n",
      "                                    Bihar   210389    1034   210389     1034          0           0           0.49\n",
      "                                    Assam   203709     900   203709      900          0           0           0.44\n",
      "                                Rajasthan   182570    1814   182570     1814          0           0           0.99\n",
      "                             Chhattisgarh   172580    1738   172580     1738          0           0           1.01\n",
      "                           Madhya Pradesh   165294    2855   165294     2855          0           0           1.73\n",
      "                                  Gujarat   165233    3676   165233     3676          0           0           2.22\n",
      "                                  Haryana   155765    1705   155765     1705          0           0           1.09\n",
      "                                   Punjab   130157    4095   130157     4095          0           0           3.15\n",
      "                                Jharkhand    99045     862    99045      862          0           0           0.87\n",
      "                        Jammu and Kashmir    90752    1424    90752     1424          0           0           1.57\n",
      "                              Uttarakhand    59796     979    59796      979          0           0           1.64\n",
      "                                      Goa    41813     568    41813      568          0           0           1.36\n",
      "                               Puducherry    33986     584    33986      584          0           0           1.72\n",
      "                                  Tripura    30067     336    30067      336          0           0           1.12\n",
      "                         Himachal Pradesh    20040     280    20040      280          0           0           1.40\n",
      "                                  Manipur    16777     132    16777      132          0           0           0.79\n",
      "                        Arunachal Pradesh    14145      33    14145       33          0           0           0.23\n",
      "                               Chandigarh    13977     216    13920      214         57           2           1.55\n",
      "                                Meghalaya     8801      79     8801       79          0           0           0.90\n",
      "                                 Nagaland     8436      21     8436       21          0           0           0.25\n",
      "                                   Ladakh     5840      68     5840       68          0           0           1.16\n",
      "              Andaman and Nicobar Islands     4207      58     4207       58          0           0           1.38\n",
      "                                   Sikkim     3770      63     3770       63          0           0           1.67\n",
      " Dadra and Nagar Haveli and Daman and Diu     3219       2     3219        2          0           0           0.06\n",
      "                                  Mizoram     2359       0     2359        0          0           0           0.00\n",
      "                              Lakshadweep        0       0        0        0          0           0            NaN\n"
     ]
    }
   ],
   "source": [
    "#hide_input\n",
    "print(df_table.to_string(index=False))"
   ]
  },
  {
   "cell_type": "code",
   "execution_count": null,
   "metadata": {
    "papermill": {
     "duration": 0.022705,
     "end_time": "2020-10-24T13:52:11.251615",
     "exception": false,
     "start_time": "2020-10-24T13:52:11.228910",
     "status": "completed"
    },
    "tags": []
   },
   "outputs": [],
   "source": []
  },
  {
   "cell_type": "code",
   "execution_count": null,
   "metadata": {
    "papermill": {
     "duration": 0.020794,
     "end_time": "2020-10-24T13:52:11.293195",
     "exception": false,
     "start_time": "2020-10-24T13:52:11.272401",
     "status": "completed"
    },
    "tags": []
   },
   "outputs": [],
   "source": []
  }
 ],
 "metadata": {
  "kernelspec": {
   "display_name": "Python 3",
   "language": "python",
   "name": "python3"
  },
  "language_info": {
   "codemirror_mode": {
    "name": "ipython",
    "version": 3
   },
   "file_extension": ".py",
   "mimetype": "text/x-python",
   "name": "python",
   "nbconvert_exporter": "python",
   "pygments_lexer": "ipython3",
   "version": "3.6.12"
  },
  "papermill": {
   "duration": 10.077012,
   "end_time": "2020-10-24T13:52:11.722482",
   "environment_variables": {},
   "exception": null,
   "input_path": "latest.ipynb",
   "output_path": "latest.ipynb",
   "parameters": {},
   "start_time": "2020-10-24T13:52:01.645470",
   "version": "2.1.2"
  }
 },
 "nbformat": 4,
 "nbformat_minor": 4
}