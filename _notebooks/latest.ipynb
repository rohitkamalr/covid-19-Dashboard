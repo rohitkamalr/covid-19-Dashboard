{
 "cells": [
  {
   "cell_type": "markdown",
   "id": "colored-stack",
   "metadata": {
    "papermill": {
     "duration": 0.020952,
     "end_time": "2021-03-28T12:38:08.816480",
     "exception": false,
     "start_time": "2021-03-28T12:38:08.795528",
     "status": "completed"
    },
    "tags": []
   },
   "source": [
    "# Latest COVID-19 India Matplotlib Overview"
   ]
  },
  {
   "cell_type": "code",
   "execution_count": 1,
   "id": "light-proportion",
   "metadata": {
    "execution": {
     "iopub.execute_input": "2021-03-28T12:38:08.865299Z",
     "iopub.status.busy": "2021-03-28T12:38:08.864693Z",
     "iopub.status.idle": "2021-03-28T12:38:09.438156Z",
     "shell.execute_reply": "2021-03-28T12:38:09.437583Z"
    },
    "papermill": {
     "duration": 0.603461,
     "end_time": "2021-03-28T12:38:09.438305",
     "exception": false,
     "start_time": "2021-03-28T12:38:08.834844",
     "status": "completed"
    },
    "tags": []
   },
   "outputs": [],
   "source": [
    "#hide\n",
    "import pandas as pd\n",
    "import numpy as np\n",
    "import requests\n",
    "import json\n",
    "import matplotlib.pyplot as plt\n",
    "import matplotlib.dates as mdates\n",
    "import matplotlib as mpl\n",
    "from IPython.core.display import display,HTML\n",
    "%matplotlib inline\n",
    "from datetime import date"
   ]
  },
  {
   "cell_type": "code",
   "execution_count": 2,
   "id": "greenhouse-shooting",
   "metadata": {
    "execution": {
     "iopub.execute_input": "2021-03-28T12:38:09.481294Z",
     "iopub.status.busy": "2021-03-28T12:38:09.480696Z",
     "iopub.status.idle": "2021-03-28T12:38:09.634036Z",
     "shell.execute_reply": "2021-03-28T12:38:09.633525Z"
    },
    "papermill": {
     "duration": 0.177858,
     "end_time": "2021-03-28T12:38:09.634159",
     "exception": false,
     "start_time": "2021-03-28T12:38:09.456301",
     "status": "completed"
    },
    "tags": []
   },
   "outputs": [],
   "source": [
    "#hide\n",
    "df  = pd.read_csv('https://api.covid19india.org/csv/latest/states.csv')\n",
    "df = df[['Date','State','Confirmed','Deceased']]\n",
    "df = df.rename(columns={'Confirmed':'Cases', \"Deceased\":'Deaths'})\n",
    "df_cases = df[[\"Date\",'State','Cases']]\n",
    "df_deaths = df[['Date','State','Deaths']]\n",
    "df_cases1 = df_cases.groupby('Date')\n",
    "df_deaths1= df_deaths.groupby('Date')"
   ]
  },
  {
   "cell_type": "code",
   "execution_count": 3,
   "id": "hybrid-cathedral",
   "metadata": {
    "execution": {
     "iopub.execute_input": "2021-03-28T12:38:09.673180Z",
     "iopub.status.busy": "2021-03-28T12:38:09.672570Z",
     "iopub.status.idle": "2021-03-28T12:38:09.689837Z",
     "shell.execute_reply": "2021-03-28T12:38:09.689359Z"
    },
    "papermill": {
     "duration": 0.038509,
     "end_time": "2021-03-28T12:38:09.689950",
     "exception": false,
     "start_time": "2021-03-28T12:38:09.651441",
     "status": "completed"
    },
    "tags": []
   },
   "outputs": [],
   "source": [
    "#hide\n",
    "df_snap = pd.read_csv('data/SnapshotCases-28-July.csv')\n",
    "arr_states = df_snap['states'].unique()\n",
    "arr_dates = df['Date'].unique()\n",
    "df_snap = df_snap.set_index('states')"
   ]
  },
  {
   "cell_type": "code",
   "execution_count": 4,
   "id": "interior-belfast",
   "metadata": {
    "execution": {
     "iopub.execute_input": "2021-03-28T12:38:09.731541Z",
     "iopub.status.busy": "2021-03-28T12:38:09.730862Z",
     "iopub.status.idle": "2021-03-28T12:38:09.736385Z",
     "shell.execute_reply": "2021-03-28T12:38:09.735908Z"
    },
    "papermill": {
     "duration": 0.029514,
     "end_time": "2021-03-28T12:38:09.736499",
     "exception": false,
     "start_time": "2021-03-28T12:38:09.706985",
     "status": "completed"
    },
    "tags": []
   },
   "outputs": [
    {
     "data": {
      "text/plain": [
       "array(['Andaman and Nicobar Islands', 'Andhra Pradesh',\n",
       "       'Arunachal Pradesh', 'Assam', 'Bihar', 'Chandigarh',\n",
       "       'Dadra and Nagar Haveli and Daman and Diu', 'Delhi', 'Goa',\n",
       "       'Gujarat', 'Haryana', 'Himachal Pradesh', 'Jammu and Kashmir',\n",
       "       'Jharkhand', 'Karnataka', 'Kerala', 'Lakshadweep',\n",
       "       'Madhya Pradesh', 'Maharashtra', 'Manipur', 'Meghalaya', 'Mizoram',\n",
       "       'Nagaland', 'Odisha', 'Puducherry', 'Punjab', 'Rajasthan',\n",
       "       'Sikkim', 'Tamil Nadu', 'Telangana', 'Tripura', 'Uttar Pradesh',\n",
       "       'West Bengal', 'Chhattisgarh', 'Ladakh', 'Uttarakhand'],\n",
       "      dtype=object)"
      ]
     },
     "execution_count": 4,
     "metadata": {},
     "output_type": "execute_result"
    }
   ],
   "source": [
    "#hide\n",
    "arr_states[-9] = 'Puducherry'\n",
    "arr_states[-10] = 'Odisha'\n",
    "arr_states[6] = 'Dadra and Nagar Haveli and Daman and Diu'\n",
    "arr_states = np.append(arr_states,np.array(['Chhattisgarh','Ladakh','Uttarakhand']))\n",
    "arr_states"
   ]
  },
  {
   "cell_type": "code",
   "execution_count": 5,
   "id": "behind-manner",
   "metadata": {
    "execution": {
     "iopub.execute_input": "2021-03-28T12:38:09.786557Z",
     "iopub.status.busy": "2021-03-28T12:38:09.780353Z",
     "iopub.status.idle": "2021-03-28T12:38:09.789331Z",
     "shell.execute_reply": "2021-03-28T12:38:09.788845Z"
    },
    "papermill": {
     "duration": 0.03557,
     "end_time": "2021-03-28T12:38:09.789441",
     "exception": false,
     "start_time": "2021-03-28T12:38:09.753871",
     "status": "completed"
    },
    "tags": []
   },
   "outputs": [],
   "source": [
    "#hide\n",
    "dates = []\n",
    "for i in arr_dates:\n",
    "    if i>='2020-07-01':\n",
    "        dates.append(i)\n",
    "dict = {'states':dates}\n",
    "for i in arr_states:\n",
    "    dict[i] = [0]*len(dates)\n",
    "dft_cases = pd.DataFrame(dict)\n",
    "dft_deaths = pd.DataFrame(dict)\n"
   ]
  },
  {
   "cell_type": "code",
   "execution_count": 6,
   "id": "simplified-peter",
   "metadata": {
    "execution": {
     "iopub.execute_input": "2021-03-28T12:38:09.829639Z",
     "iopub.status.busy": "2021-03-28T12:38:09.829109Z",
     "iopub.status.idle": "2021-03-28T12:38:13.527037Z",
     "shell.execute_reply": "2021-03-28T12:38:13.526527Z"
    },
    "papermill": {
     "duration": 3.720992,
     "end_time": "2021-03-28T12:38:13.527171",
     "exception": false,
     "start_time": "2021-03-28T12:38:09.806179",
     "status": "completed"
    },
    "tags": []
   },
   "outputs": [],
   "source": [
    "#hide\n",
    "for i in range(len(dates)):\n",
    "    df1_deaths = df_deaths1.get_group(dates[i])\n",
    "    for j in range(len(df1_deaths.index)):\n",
    "        if df1_deaths.iloc[j,1] in arr_states:\n",
    "            dft_deaths.loc[i,df1_deaths.iloc[j,1]] = df1_deaths.iloc[j,2]\n",
    "dft_deaths = dft_deaths.set_index('states')"
   ]
  },
  {
   "cell_type": "code",
   "execution_count": 7,
   "id": "geological-welding",
   "metadata": {
    "execution": {
     "iopub.execute_input": "2021-03-28T12:38:13.570846Z",
     "iopub.status.busy": "2021-03-28T12:38:13.570252Z",
     "iopub.status.idle": "2021-03-28T12:38:17.231256Z",
     "shell.execute_reply": "2021-03-28T12:38:17.230665Z"
    },
    "papermill": {
     "duration": 3.685918,
     "end_time": "2021-03-28T12:38:17.231408",
     "exception": false,
     "start_time": "2021-03-28T12:38:13.545490",
     "status": "completed"
    },
    "tags": []
   },
   "outputs": [],
   "source": [
    "#hide\n",
    "for i in range(len(dates)):\n",
    "    df1_cases = df_cases1.get_group(dates[i])\n",
    "    for j in range(len(df1_cases.index)):\n",
    "        if df1_cases.iloc[j,1] in arr_states:\n",
    "            dft_cases.loc[i,df1_cases.iloc[j,1]] = df1_cases.iloc[j,2]\n",
    "dft_cases = dft_cases.set_index('states')"
   ]
  },
  {
   "cell_type": "code",
   "execution_count": 8,
   "id": "binary-ratio",
   "metadata": {
    "execution": {
     "iopub.execute_input": "2021-03-28T12:38:17.276452Z",
     "iopub.status.busy": "2021-03-28T12:38:17.275757Z",
     "iopub.status.idle": "2021-03-28T12:38:17.279169Z",
     "shell.execute_reply": "2021-03-28T12:38:17.279610Z"
    },
    "papermill": {
     "duration": 0.028639,
     "end_time": "2021-03-28T12:38:17.279743",
     "exception": false,
     "start_time": "2021-03-28T12:38:17.251104",
     "status": "completed"
    },
    "tags": []
   },
   "outputs": [],
   "source": [
    "#hide\n",
    "dft_cases = dft_cases.T\n",
    "dft_deaths = dft_deaths.T\n",
    "dt_today = dates[-1]\n",
    "dt_yday = dates[-2]"
   ]
  },
  {
   "cell_type": "code",
   "execution_count": 9,
   "id": "boolean-calculator",
   "metadata": {
    "execution": {
     "iopub.execute_input": "2021-03-28T12:38:17.320370Z",
     "iopub.status.busy": "2021-03-28T12:38:17.319795Z",
     "iopub.status.idle": "2021-03-28T12:38:17.324729Z",
     "shell.execute_reply": "2021-03-28T12:38:17.324217Z"
    },
    "papermill": {
     "duration": 0.027592,
     "end_time": "2021-03-28T12:38:17.324844",
     "exception": false,
     "start_time": "2021-03-28T12:38:17.297252",
     "status": "completed"
    },
    "tags": []
   },
   "outputs": [],
   "source": [
    "#hide\n",
    "dft_cases = dft_cases.reset_index()\n",
    "dft_deaths = dft_deaths.reset_index()\n",
    "dft_cases = dft_cases.rename(columns = {'index':'state'})\n",
    "dft_deaths = dft_deaths.rename(columns = {'index':'state'})"
   ]
  },
  {
   "cell_type": "code",
   "execution_count": 10,
   "id": "invisible-johnston",
   "metadata": {
    "execution": {
     "iopub.execute_input": "2021-03-28T12:38:17.371391Z",
     "iopub.status.busy": "2021-03-28T12:38:17.370825Z",
     "iopub.status.idle": "2021-03-28T12:38:17.374510Z",
     "shell.execute_reply": "2021-03-28T12:38:17.373945Z"
    },
    "papermill": {
     "duration": 0.032314,
     "end_time": "2021-03-28T12:38:17.374620",
     "exception": false,
     "start_time": "2021-03-28T12:38:17.342306",
     "status": "completed"
    },
    "tags": []
   },
   "outputs": [],
   "source": [
    "#hide\n",
    "dfc_cases = dft_cases.groupby('state')[dt_today].sum()\n",
    "dfc_deaths = dft_deaths.groupby('state')[dt_today].sum()\n",
    "dfp_cases = dft_cases.groupby('state')[dt_yday].sum()\n",
    "dfp_deaths = dft_deaths.groupby('state')[dt_yday].sum()"
   ]
  },
  {
   "cell_type": "code",
   "execution_count": 11,
   "id": "measured-great",
   "metadata": {
    "execution": {
     "iopub.execute_input": "2021-03-28T12:38:17.424207Z",
     "iopub.status.busy": "2021-03-28T12:38:17.423633Z",
     "iopub.status.idle": "2021-03-28T12:38:17.437335Z",
     "shell.execute_reply": "2021-03-28T12:38:17.436575Z"
    },
    "papermill": {
     "duration": 0.045377,
     "end_time": "2021-03-28T12:38:17.437485",
     "exception": false,
     "start_time": "2021-03-28T12:38:17.392108",
     "status": "completed"
    },
    "tags": []
   },
   "outputs": [
    {
     "data": {
      "text/html": [
       "<div>\n",
       "<style scoped>\n",
       "    .dataframe tbody tr th:only-of-type {\n",
       "        vertical-align: middle;\n",
       "    }\n",
       "\n",
       "    .dataframe tbody tr th {\n",
       "        vertical-align: top;\n",
       "    }\n",
       "\n",
       "    .dataframe thead th {\n",
       "        text-align: right;\n",
       "    }\n",
       "</style>\n",
       "<table border=\"1\" class=\"dataframe\">\n",
       "  <thead>\n",
       "    <tr style=\"text-align: right;\">\n",
       "      <th></th>\n",
       "      <th>states</th>\n",
       "      <th>Cases</th>\n",
       "      <th>Deaths</th>\n",
       "      <th>PCases</th>\n",
       "      <th>PDeaths</th>\n",
       "    </tr>\n",
       "  </thead>\n",
       "  <tbody>\n",
       "    <tr>\n",
       "      <th>0</th>\n",
       "      <td>Maharashtra</td>\n",
       "      <td>2673461</td>\n",
       "      <td>54073</td>\n",
       "      <td>2673461</td>\n",
       "      <td>54073</td>\n",
       "    </tr>\n",
       "    <tr>\n",
       "      <th>1</th>\n",
       "      <td>Kerala</td>\n",
       "      <td>1115778</td>\n",
       "      <td>4568</td>\n",
       "      <td>1115778</td>\n",
       "      <td>4568</td>\n",
       "    </tr>\n",
       "    <tr>\n",
       "      <th>2</th>\n",
       "      <td>Karnataka</td>\n",
       "      <td>983930</td>\n",
       "      <td>12492</td>\n",
       "      <td>983930</td>\n",
       "      <td>12492</td>\n",
       "    </tr>\n",
       "    <tr>\n",
       "      <th>3</th>\n",
       "      <td>Andhra Pradesh</td>\n",
       "      <td>897810</td>\n",
       "      <td>7203</td>\n",
       "      <td>897810</td>\n",
       "      <td>7203</td>\n",
       "    </tr>\n",
       "    <tr>\n",
       "      <th>4</th>\n",
       "      <td>Tamil Nadu</td>\n",
       "      <td>877279</td>\n",
       "      <td>12659</td>\n",
       "      <td>877279</td>\n",
       "      <td>12659</td>\n",
       "    </tr>\n",
       "  </tbody>\n",
       "</table>\n",
       "</div>"
      ],
      "text/plain": [
       "           states    Cases  Deaths   PCases  PDeaths\n",
       "0     Maharashtra  2673461   54073  2673461    54073\n",
       "1          Kerala  1115778    4568  1115778     4568\n",
       "2       Karnataka   983930   12492   983930    12492\n",
       "3  Andhra Pradesh   897810    7203   897810     7203\n",
       "4      Tamil Nadu   877279   12659   877279    12659"
      ]
     },
     "execution_count": 11,
     "metadata": {},
     "output_type": "execute_result"
    }
   ],
   "source": [
    "#hide\n",
    "df_table = pd.DataFrame({'states': dfc_cases.index, 'Cases': dfc_cases.values, 'Deaths': dfc_deaths.values, 'PCases': dfp_cases.values, 'PDeaths': dfp_deaths.values}).set_index('states')\n",
    "df_table = df_table.sort_values(by = ['Cases','Deaths'], ascending = [False, False])\n",
    "df_table = df_table.reset_index()\n",
    "df_table.head()"
   ]
  },
  {
   "cell_type": "code",
   "execution_count": 12,
   "id": "found-montreal",
   "metadata": {
    "execution": {
     "iopub.execute_input": "2021-03-28T12:38:17.488129Z",
     "iopub.status.busy": "2021-03-28T12:38:17.487553Z",
     "iopub.status.idle": "2021-03-28T12:38:17.497022Z",
     "shell.execute_reply": "2021-03-28T12:38:17.496537Z"
    },
    "papermill": {
     "duration": 0.031901,
     "end_time": "2021-03-28T12:38:17.497139",
     "exception": false,
     "start_time": "2021-03-28T12:38:17.465238",
     "status": "completed"
    },
    "tags": []
   },
   "outputs": [],
   "source": [
    "#hide\n",
    "for c in 'Cases, Deaths'.split(', '):\n",
    "    df_table[f'{c} (+)'] = (df_table[c] - df_table[f'P{c}']).clip(0)\n",
    "df_table['Fatality Rate'] = (100* df_table['Deaths']/ df_table['Cases']).round(2)"
   ]
  },
  {
   "cell_type": "code",
   "execution_count": 13,
   "id": "minus-savage",
   "metadata": {
    "execution": {
     "iopub.execute_input": "2021-03-28T12:38:17.545487Z",
     "iopub.status.busy": "2021-03-28T12:38:17.544583Z",
     "iopub.status.idle": "2021-03-28T12:38:17.558871Z",
     "shell.execute_reply": "2021-03-28T12:38:17.558435Z"
    },
    "papermill": {
     "duration": 0.043977,
     "end_time": "2021-03-28T12:38:17.558979",
     "exception": false,
     "start_time": "2021-03-28T12:38:17.515002",
     "status": "completed"
    },
    "tags": []
   },
   "outputs": [
    {
     "data": {
      "text/html": [
       "<div>\n",
       "<style scoped>\n",
       "    .dataframe tbody tr th:only-of-type {\n",
       "        vertical-align: middle;\n",
       "    }\n",
       "\n",
       "    .dataframe tbody tr th {\n",
       "        vertical-align: top;\n",
       "    }\n",
       "\n",
       "    .dataframe thead th {\n",
       "        text-align: right;\n",
       "    }\n",
       "</style>\n",
       "<table border=\"1\" class=\"dataframe\">\n",
       "  <thead>\n",
       "    <tr style=\"text-align: right;\">\n",
       "      <th></th>\n",
       "      <th>states</th>\n",
       "      <th>Cases</th>\n",
       "      <th>Deaths</th>\n",
       "      <th>PCases</th>\n",
       "      <th>PDeaths</th>\n",
       "      <th>Cases (+)</th>\n",
       "      <th>Deaths (+)</th>\n",
       "      <th>Fatality Rate</th>\n",
       "    </tr>\n",
       "  </thead>\n",
       "  <tbody>\n",
       "    <tr>\n",
       "      <th>0</th>\n",
       "      <td>Maharashtra</td>\n",
       "      <td>2673461</td>\n",
       "      <td>54073</td>\n",
       "      <td>2673461</td>\n",
       "      <td>54073</td>\n",
       "      <td>0</td>\n",
       "      <td>0</td>\n",
       "      <td>2.02</td>\n",
       "    </tr>\n",
       "    <tr>\n",
       "      <th>1</th>\n",
       "      <td>Kerala</td>\n",
       "      <td>1115778</td>\n",
       "      <td>4568</td>\n",
       "      <td>1115778</td>\n",
       "      <td>4568</td>\n",
       "      <td>0</td>\n",
       "      <td>0</td>\n",
       "      <td>0.41</td>\n",
       "    </tr>\n",
       "    <tr>\n",
       "      <th>2</th>\n",
       "      <td>Karnataka</td>\n",
       "      <td>983930</td>\n",
       "      <td>12492</td>\n",
       "      <td>983930</td>\n",
       "      <td>12492</td>\n",
       "      <td>0</td>\n",
       "      <td>0</td>\n",
       "      <td>1.27</td>\n",
       "    </tr>\n",
       "    <tr>\n",
       "      <th>3</th>\n",
       "      <td>Andhra Pradesh</td>\n",
       "      <td>897810</td>\n",
       "      <td>7203</td>\n",
       "      <td>897810</td>\n",
       "      <td>7203</td>\n",
       "      <td>0</td>\n",
       "      <td>0</td>\n",
       "      <td>0.80</td>\n",
       "    </tr>\n",
       "    <tr>\n",
       "      <th>4</th>\n",
       "      <td>Tamil Nadu</td>\n",
       "      <td>877279</td>\n",
       "      <td>12659</td>\n",
       "      <td>877279</td>\n",
       "      <td>12659</td>\n",
       "      <td>0</td>\n",
       "      <td>0</td>\n",
       "      <td>1.44</td>\n",
       "    </tr>\n",
       "  </tbody>\n",
       "</table>\n",
       "</div>"
      ],
      "text/plain": [
       "           states    Cases  Deaths   PCases  PDeaths  Cases (+)  Deaths (+)  \\\n",
       "0     Maharashtra  2673461   54073  2673461    54073          0           0   \n",
       "1          Kerala  1115778    4568  1115778     4568          0           0   \n",
       "2       Karnataka   983930   12492   983930    12492          0           0   \n",
       "3  Andhra Pradesh   897810    7203   897810     7203          0           0   \n",
       "4      Tamil Nadu   877279   12659   877279    12659          0           0   \n",
       "\n",
       "   Fatality Rate  \n",
       "0           2.02  \n",
       "1           0.41  \n",
       "2           1.27  \n",
       "3           0.80  \n",
       "4           1.44  "
      ]
     },
     "execution_count": 13,
     "metadata": {},
     "output_type": "execute_result"
    }
   ],
   "source": [
    "#hide\n",
    "df_table.head()"
   ]
  },
  {
   "cell_type": "code",
   "execution_count": 14,
   "id": "false-peter",
   "metadata": {
    "execution": {
     "iopub.execute_input": "2021-03-28T12:38:17.600370Z",
     "iopub.status.busy": "2021-03-28T12:38:17.599799Z",
     "iopub.status.idle": "2021-03-28T12:38:17.616412Z",
     "shell.execute_reply": "2021-03-28T12:38:17.616961Z"
    },
    "papermill": {
     "duration": 0.040142,
     "end_time": "2021-03-28T12:38:17.617116",
     "exception": false,
     "start_time": "2021-03-28T12:38:17.576974",
     "status": "completed"
    },
    "tags": []
   },
   "outputs": [
    {
     "data": {
      "text/plain": [
       "{'updated': '2021-03-28',\n",
       " 'since': '2021-03-27',\n",
       " 'Cases': 11972275,\n",
       " 'PCases': 11971004,\n",
       " 'Deaths': 161593,\n",
       " 'PDeaths': 161586,\n",
       " 'Cases (+)': 1271,\n",
       " 'Deaths (+)': 7}"
      ]
     },
     "execution_count": 14,
     "metadata": {},
     "output_type": "execute_result"
    }
   ],
   "source": [
    "#hide\n",
    "summary = {'updated':dates[-1], 'since':dates[-2]}\n",
    "list_names = ['Cases', 'PCases', 'Deaths', 'PDeaths', 'Cases (+)', 'Deaths (+)']\n",
    "for name in list_names:\n",
    "    summary[name] = df_table.sum()[name]\n",
    "summary"
   ]
  },
  {
   "cell_type": "code",
   "execution_count": 15,
   "id": "packed-viewer",
   "metadata": {
    "execution": {
     "iopub.execute_input": "2021-03-28T12:38:17.657680Z",
     "iopub.status.busy": "2021-03-28T12:38:17.657101Z",
     "iopub.status.idle": "2021-03-28T12:38:17.659185Z",
     "shell.execute_reply": "2021-03-28T12:38:17.659710Z"
    },
    "papermill": {
     "duration": 0.024036,
     "end_time": "2021-03-28T12:38:17.659834",
     "exception": false,
     "start_time": "2021-03-28T12:38:17.635798",
     "status": "completed"
    },
    "tags": []
   },
   "outputs": [],
   "source": [
    "#hide\n",
    "overview = '''\n",
    "<!-- #######  HTML!! #########-->\n",
    "<h1 style=\"color: #5e9ca0; text-align: center;\">India</h1>\n",
    "<p style=\"text-align: center;\">Last update: <strong>{update}</strong></p>\n",
    "<p style=\"text-align: center;\">Confirmed cases:</p>\n",
    "<p style=\"text-align: center;font-size:24px;\">{cases} (<span style=\"color: #ff0000;\">+{new}</span>)</p>\n",
    "<p style=\"text-align: center;\">Confirmed deaths:</p>\n",
    "<p style=\"text-align: center;font-size:24px;\">{deaths} (<span style=\"color: #ff0000;\">+{dnew}</span>)</p>\n",
    "'''"
   ]
  },
  {
   "cell_type": "code",
   "execution_count": 16,
   "id": "phantom-lover",
   "metadata": {
    "execution": {
     "iopub.execute_input": "2021-03-28T12:38:17.702999Z",
     "iopub.status.busy": "2021-03-28T12:38:17.702326Z",
     "iopub.status.idle": "2021-03-28T12:38:17.704644Z",
     "shell.execute_reply": "2021-03-28T12:38:17.705160Z"
    },
    "papermill": {
     "duration": 0.026916,
     "end_time": "2021-03-28T12:38:17.705281",
     "exception": false,
     "start_time": "2021-03-28T12:38:17.678365",
     "status": "completed"
    },
    "tags": []
   },
   "outputs": [
    {
     "data": {
      "text/html": [
       "\n",
       "<!-- #######  HTML!! #########-->\n",
       "<h1 style=\"color: #5e9ca0; text-align: center;\">India</h1>\n",
       "<p style=\"text-align: center;\">Last update: <strong>2021-03-28</strong></p>\n",
       "<p style=\"text-align: center;\">Confirmed cases:</p>\n",
       "<p style=\"text-align: center;font-size:24px;\">11972275 (<span style=\"color: #ff0000;\">+1271</span>)</p>\n",
       "<p style=\"text-align: center;\">Confirmed deaths:</p>\n",
       "<p style=\"text-align: center;font-size:24px;\">161593 (<span style=\"color: #ff0000;\">+7</span>)</p>\n"
      ],
      "text/plain": [
       "<IPython.core.display.HTML object>"
      ]
     },
     "metadata": {},
     "output_type": "display_data"
    }
   ],
   "source": [
    "#hide_input\n",
    "update = summary['updated']\n",
    "cases = summary['Cases']\n",
    "new = summary['Cases (+)']\n",
    "deaths = summary['Deaths']\n",
    "dnew = summary['Deaths (+)']\n",
    "\n",
    "html = HTML(overview.format(update=update, cases=cases,new=new,deaths=deaths,dnew=dnew))\n",
    "\n",
    "display(html)"
   ]
  },
  {
   "cell_type": "code",
   "execution_count": 17,
   "id": "sealed-reset",
   "metadata": {
    "execution": {
     "iopub.execute_input": "2021-03-28T12:38:17.750309Z",
     "iopub.status.busy": "2021-03-28T12:38:17.749689Z",
     "iopub.status.idle": "2021-03-28T12:38:17.757100Z",
     "shell.execute_reply": "2021-03-28T12:38:17.757598Z"
    },
    "papermill": {
     "duration": 0.03254,
     "end_time": "2021-03-28T12:38:17.757721",
     "exception": false,
     "start_time": "2021-03-28T12:38:17.725181",
     "status": "completed"
    },
    "tags": []
   },
   "outputs": [],
   "source": [
    "#hide\n",
    "dt_cols = list(dft_cases.columns[1:])\n",
    "dft_ct_new_cases = dft_cases.groupby('state')[dt_cols].sum().diff(axis=1).fillna(0).astype(int)\n",
    "dft_ct_new_cases.sort_values(by = dates[-1], ascending = False,inplace = True)"
   ]
  },
  {
   "cell_type": "code",
   "execution_count": 18,
   "id": "designed-constant",
   "metadata": {
    "execution": {
     "iopub.execute_input": "2021-03-28T12:38:17.810418Z",
     "iopub.status.busy": "2021-03-28T12:38:17.809853Z",
     "iopub.status.idle": "2021-03-28T12:38:17.817518Z",
     "shell.execute_reply": "2021-03-28T12:38:17.817053Z"
    },
    "papermill": {
     "duration": 0.040425,
     "end_time": "2021-03-28T12:38:17.817631",
     "exception": false,
     "start_time": "2021-03-28T12:38:17.777206",
     "status": "completed"
    },
    "tags": []
   },
   "outputs": [
    {
     "data": {
      "text/html": [
       "<div>\n",
       "<style scoped>\n",
       "    .dataframe tbody tr th:only-of-type {\n",
       "        vertical-align: middle;\n",
       "    }\n",
       "\n",
       "    .dataframe tbody tr th {\n",
       "        vertical-align: top;\n",
       "    }\n",
       "\n",
       "    .dataframe thead th {\n",
       "        text-align: right;\n",
       "    }\n",
       "</style>\n",
       "<table border=\"1\" class=\"dataframe\">\n",
       "  <thead>\n",
       "    <tr style=\"text-align: right;\">\n",
       "      <th>states</th>\n",
       "      <th>2020-07-01</th>\n",
       "      <th>2020-07-02</th>\n",
       "      <th>2020-07-03</th>\n",
       "      <th>2020-07-04</th>\n",
       "      <th>2020-07-05</th>\n",
       "      <th>2020-07-06</th>\n",
       "      <th>2020-07-07</th>\n",
       "      <th>2020-07-08</th>\n",
       "      <th>2020-07-09</th>\n",
       "      <th>2020-07-10</th>\n",
       "      <th>...</th>\n",
       "      <th>2021-03-19</th>\n",
       "      <th>2021-03-20</th>\n",
       "      <th>2021-03-21</th>\n",
       "      <th>2021-03-22</th>\n",
       "      <th>2021-03-23</th>\n",
       "      <th>2021-03-24</th>\n",
       "      <th>2021-03-25</th>\n",
       "      <th>2021-03-26</th>\n",
       "      <th>2021-03-27</th>\n",
       "      <th>2021-03-28</th>\n",
       "    </tr>\n",
       "    <tr>\n",
       "      <th>state</th>\n",
       "      <th></th>\n",
       "      <th></th>\n",
       "      <th></th>\n",
       "      <th></th>\n",
       "      <th></th>\n",
       "      <th></th>\n",
       "      <th></th>\n",
       "      <th></th>\n",
       "      <th></th>\n",
       "      <th></th>\n",
       "      <th></th>\n",
       "      <th></th>\n",
       "      <th></th>\n",
       "      <th></th>\n",
       "      <th></th>\n",
       "      <th></th>\n",
       "      <th></th>\n",
       "      <th></th>\n",
       "      <th></th>\n",
       "      <th></th>\n",
       "      <th></th>\n",
       "    </tr>\n",
       "  </thead>\n",
       "  <tbody>\n",
       "    <tr>\n",
       "      <th>Telangana</th>\n",
       "      <td>0</td>\n",
       "      <td>1213</td>\n",
       "      <td>1892</td>\n",
       "      <td>1850</td>\n",
       "      <td>1590</td>\n",
       "      <td>1831</td>\n",
       "      <td>1879</td>\n",
       "      <td>1924</td>\n",
       "      <td>1410</td>\n",
       "      <td>1278</td>\n",
       "      <td>...</td>\n",
       "      <td>313</td>\n",
       "      <td>364</td>\n",
       "      <td>394</td>\n",
       "      <td>337</td>\n",
       "      <td>412</td>\n",
       "      <td>431</td>\n",
       "      <td>493</td>\n",
       "      <td>518</td>\n",
       "      <td>495</td>\n",
       "      <td>535</td>\n",
       "    </tr>\n",
       "    <tr>\n",
       "      <th>Jammu and Kashmir</th>\n",
       "      <td>0</td>\n",
       "      <td>154</td>\n",
       "      <td>170</td>\n",
       "      <td>227</td>\n",
       "      <td>183</td>\n",
       "      <td>246</td>\n",
       "      <td>256</td>\n",
       "      <td>330</td>\n",
       "      <td>240</td>\n",
       "      <td>387</td>\n",
       "      <td>...</td>\n",
       "      <td>152</td>\n",
       "      <td>140</td>\n",
       "      <td>158</td>\n",
       "      <td>132</td>\n",
       "      <td>157</td>\n",
       "      <td>195</td>\n",
       "      <td>172</td>\n",
       "      <td>210</td>\n",
       "      <td>271</td>\n",
       "      <td>309</td>\n",
       "    </tr>\n",
       "    <tr>\n",
       "      <th>Odisha</th>\n",
       "      <td>0</td>\n",
       "      <td>229</td>\n",
       "      <td>561</td>\n",
       "      <td>495</td>\n",
       "      <td>469</td>\n",
       "      <td>456</td>\n",
       "      <td>571</td>\n",
       "      <td>527</td>\n",
       "      <td>577</td>\n",
       "      <td>755</td>\n",
       "      <td>...</td>\n",
       "      <td>110</td>\n",
       "      <td>120</td>\n",
       "      <td>98</td>\n",
       "      <td>146</td>\n",
       "      <td>113</td>\n",
       "      <td>170</td>\n",
       "      <td>214</td>\n",
       "      <td>234</td>\n",
       "      <td>210</td>\n",
       "      <td>290</td>\n",
       "    </tr>\n",
       "    <tr>\n",
       "      <th>Puducherry</th>\n",
       "      <td>0</td>\n",
       "      <td>63</td>\n",
       "      <td>22</td>\n",
       "      <td>80</td>\n",
       "      <td>42</td>\n",
       "      <td>65</td>\n",
       "      <td>30</td>\n",
       "      <td>110</td>\n",
       "      <td>49</td>\n",
       "      <td>72</td>\n",
       "      <td>...</td>\n",
       "      <td>61</td>\n",
       "      <td>60</td>\n",
       "      <td>64</td>\n",
       "      <td>47</td>\n",
       "      <td>87</td>\n",
       "      <td>125</td>\n",
       "      <td>95</td>\n",
       "      <td>96</td>\n",
       "      <td>128</td>\n",
       "      <td>137</td>\n",
       "    </tr>\n",
       "    <tr>\n",
       "      <th>Andaman and Nicobar Islands</th>\n",
       "      <td>0</td>\n",
       "      <td>9</td>\n",
       "      <td>7</td>\n",
       "      <td>3</td>\n",
       "      <td>6</td>\n",
       "      <td>16</td>\n",
       "      <td>6</td>\n",
       "      <td>2</td>\n",
       "      <td>7</td>\n",
       "      <td>0</td>\n",
       "      <td>...</td>\n",
       "      <td>2</td>\n",
       "      <td>0</td>\n",
       "      <td>1</td>\n",
       "      <td>0</td>\n",
       "      <td>0</td>\n",
       "      <td>2</td>\n",
       "      <td>1</td>\n",
       "      <td>1</td>\n",
       "      <td>1</td>\n",
       "      <td>0</td>\n",
       "    </tr>\n",
       "  </tbody>\n",
       "</table>\n",
       "<p>5 rows × 271 columns</p>\n",
       "</div>"
      ],
      "text/plain": [
       "states                       2020-07-01  2020-07-02  2020-07-03  2020-07-04  \\\n",
       "state                                                                         \n",
       "Telangana                             0        1213        1892        1850   \n",
       "Jammu and Kashmir                     0         154         170         227   \n",
       "Odisha                                0         229         561         495   \n",
       "Puducherry                            0          63          22          80   \n",
       "Andaman and Nicobar Islands           0           9           7           3   \n",
       "\n",
       "states                       2020-07-05  2020-07-06  2020-07-07  2020-07-08  \\\n",
       "state                                                                         \n",
       "Telangana                          1590        1831        1879        1924   \n",
       "Jammu and Kashmir                   183         246         256         330   \n",
       "Odisha                              469         456         571         527   \n",
       "Puducherry                           42          65          30         110   \n",
       "Andaman and Nicobar Islands           6          16           6           2   \n",
       "\n",
       "states                       2020-07-09  2020-07-10  ...  2021-03-19  \\\n",
       "state                                                ...               \n",
       "Telangana                          1410        1278  ...         313   \n",
       "Jammu and Kashmir                   240         387  ...         152   \n",
       "Odisha                              577         755  ...         110   \n",
       "Puducherry                           49          72  ...          61   \n",
       "Andaman and Nicobar Islands           7           0  ...           2   \n",
       "\n",
       "states                       2021-03-20  2021-03-21  2021-03-22  2021-03-23  \\\n",
       "state                                                                         \n",
       "Telangana                           364         394         337         412   \n",
       "Jammu and Kashmir                   140         158         132         157   \n",
       "Odisha                              120          98         146         113   \n",
       "Puducherry                           60          64          47          87   \n",
       "Andaman and Nicobar Islands           0           1           0           0   \n",
       "\n",
       "states                       2021-03-24  2021-03-25  2021-03-26  2021-03-27  \\\n",
       "state                                                                         \n",
       "Telangana                           431         493         518         495   \n",
       "Jammu and Kashmir                   195         172         210         271   \n",
       "Odisha                              170         214         234         210   \n",
       "Puducherry                          125          95          96         128   \n",
       "Andaman and Nicobar Islands           2           1           1           1   \n",
       "\n",
       "states                       2021-03-28  \n",
       "state                                    \n",
       "Telangana                           535  \n",
       "Jammu and Kashmir                   309  \n",
       "Odisha                              290  \n",
       "Puducherry                          137  \n",
       "Andaman and Nicobar Islands           0  \n",
       "\n",
       "[5 rows x 271 columns]"
      ]
     },
     "execution_count": 18,
     "metadata": {},
     "output_type": "execute_result"
    }
   ],
   "source": [
    "#hide\n",
    "dft_ct_new_cases.head()"
   ]
  },
  {
   "cell_type": "code",
   "execution_count": 19,
   "id": "responsible-nightlife",
   "metadata": {
    "execution": {
     "iopub.execute_input": "2021-03-28T12:38:17.875048Z",
     "iopub.status.busy": "2021-03-28T12:38:17.869380Z",
     "iopub.status.idle": "2021-03-28T12:38:27.314394Z",
     "shell.execute_reply": "2021-03-28T12:38:27.314872Z"
    },
    "papermill": {
     "duration": 9.477159,
     "end_time": "2021-03-28T12:38:27.315013",
     "exception": false,
     "start_time": "2021-03-28T12:38:17.837854",
     "status": "completed"
    },
    "tags": []
   },
   "outputs": [
    {
     "data": {
      "image/png": "[encoded data removed]",
      "text/plain": [
       "<Figure size 1296x2016 with 11 Axes>"
      ]
     },
     "metadata": {
      "needs_background": "light"
     },
     "output_type": "display_data"
    }
   ],
   "source": [
    "#hide_input\n",
    "df = dft_ct_new_cases.copy()\n",
    "df.loc['Total'] = df.sum()\n",
    "n = 5\n",
    "ax = []\n",
    "fig = plt.figure(figsize = (18,28))\n",
    "gs = fig.add_gridspec(n+2, 5)\n",
    "# gs = fig.add_gridspec(2, 3)\n",
    "ax1 = fig.add_subplot(gs[0, :])\n",
    "ef = df.loc['Total'].rename_axis('date').reset_index()\n",
    "ef['date'] = ef['date'].astype('datetime64[ns]')\n",
    "ax1.bar(ef.date,ef.Total,alpha=0.3,color='#007acc')\n",
    "ax1.plot(ef.date,ef.Total , marker=\"o\", color='#007acc')\n",
    "ax1.xaxis.set_major_locator(mdates.WeekdayLocator())\n",
    "ax1.xaxis.set_major_formatter(mdates.DateFormatter('%b %d'))\n",
    "ax1.text(0.02, 0.5,'India daily case count', transform = ax1.transAxes, fontsize=25);\n",
    "ax1.spines['right'].set_visible(False)\n",
    "ax1.spines['top'].set_visible(False)\n",
    "\n",
    "ax2 = fig.add_subplot(gs[1,0])\n",
    "ef = df.loc['Maharashtra'].rename_axis('date').reset_index()\n",
    "ef['date'] = ef['date'].astype('datetime64[ns]')\n",
    "\n",
    "ax2.bar(ef.date, ef.Maharashtra,color = '#007acc',alpha=0.5)\n",
    "ax2.xaxis.set_major_locator(mdates.WeekdayLocator())\n",
    "ax2.xaxis.set_major_formatter(mdates.DateFormatter('%b %d'))\n",
    "ax2.set_xticks(ax2.get_xticks()[::3])\n",
    "maxyval = ef.Maharashtra.max()\n",
    "ax2.set_ylim([0,maxyval])\n",
    "ax2.text(0.05, 0.9,'Maharashtra', transform = ax2.transAxes, fontsize=20);\n",
    "ax2.spines['right'].set_visible(False)\n",
    "ax2.spines['top'].set_visible(False)\n",
    "\n",
    "\n",
    "ax3 = fig.add_subplot(gs[1,1])\n",
    "ef = df.loc['Tamil Nadu'].rename_axis('date').reset_index()\n",
    "ef['date'] = ef['date'].astype('datetime64[ns]')\n",
    "ax3.bar(ef.date, ef['Tamil Nadu'],color = '#007acc',alpha=0.5,)\n",
    "ax3.xaxis.set_major_locator(mdates.WeekdayLocator())\n",
    "ax3.xaxis.set_major_formatter(mdates.DateFormatter('%b %d'))\n",
    "ax3.set_xticks(ax3.get_xticks()[::3])\n",
    "ax3.text(0.05, 0.9,'Tamil Nadu', transform = ax3.transAxes, fontsize=20);\n",
    "ax3.spines['right'].set_visible(False)\n",
    "ax3.spines['top'].set_visible(False)\n",
    "\n",
    "ax5 = fig.add_subplot(gs[1,3])\n",
    "ef = df.loc['Telangana'].rename_axis('date').reset_index()\n",
    "ef['date'] = ef['date'].astype('datetime64[ns]')\n",
    "ax5.bar(ef.date, ef['Telangana'],color = '#007acc',alpha=0.5,)\n",
    "ax5.xaxis.set_major_locator(mdates.WeekdayLocator())\n",
    "ax5.xaxis.set_major_formatter(mdates.DateFormatter('%b %d'))\n",
    "ax5.set_xticks(ax5.get_xticks()[::3])\n",
    "ax5.text(0.05, 0.9,'Telangana', transform = ax5.transAxes, fontsize=20);\n",
    "ax5.spines['right'].set_visible(False)\n",
    "ax5.spines['top'].set_visible(False)\n",
    "\n",
    "ax6 = fig.add_subplot(gs[1,4])\n",
    "ef = df.loc['Andhra Pradesh'].rename_axis('date').reset_index()\n",
    "ef['date'] = ef['date'].astype('datetime64[ns]')\n",
    "ax6.bar(ef.date, ef['Andhra Pradesh'],color = '#007acc',alpha=0.5,)\n",
    "ax6.xaxis.set_major_locator(mdates.WeekdayLocator())\n",
    "ax6.xaxis.set_major_formatter(mdates.DateFormatter('%b %d'))\n",
    "ax6.set_xticks(ax6.get_xticks()[::3])\n",
    "ax6.text(0.05, 1,'Andhra Pradesh', transform = ax6.transAxes, fontsize=20);\n",
    "ax6.spines['right'].set_visible(False)\n",
    "ax6.spines['top'].set_visible(False)\n",
    "\n",
    "ax4 = fig.add_subplot(gs[1,2])\n",
    "ef = df.loc['Delhi'].rename_axis('date').reset_index()\n",
    "ef['date'] = ef['date'].astype('datetime64[ns]')\n",
    "ax4.bar(ef.date, ef.Delhi,color = '#007acc',alpha=0.5)\n",
    "ax4.set_xticks([])\n",
    "ax4.xaxis.set_major_locator(mdates.WeekdayLocator())\n",
    "ax4.xaxis.set_major_formatter(mdates.DateFormatter('%b %d'))\n",
    "ax4.set_xticks(ax4.get_xticks()[::3])\n",
    "ax4.spines['right'].set_visible(False)\n",
    "ax4.spines['top'].set_visible(False)\n",
    "\n",
    "ax4.text(0.05, 1,'Delhi', transform = ax4.transAxes, fontsize=20)\n",
    "\n",
    "for i in range(n):\n",
    "    \n",
    "    ax.append(fig.add_subplot(gs[i+2,:]))\n",
    "    ef = df.iloc[i+3].rename_axis('date').reset_index()\n",
    "    ef['date'] = ef['date'].astype('datetime64[ns]')\n",
    "    ax[i].bar(ef.date,ef.iloc[:,-1],color = '#007acc',alpha=0.3)\n",
    "    ax[i].plot(ef.date,ef.iloc[:,-1],marker='o',color='#007acc')\n",
    "    ax[i].text(0.02,0.5,f'{ef.columns.values[-1]}',transform = ax[i].transAxes, fontsize = 20);\n",
    "    ax[i].xaxis.set_major_locator(mdates.WeekdayLocator())\n",
    "    ax[i].xaxis.set_major_formatter(mdates.DateFormatter('%b %d'))\n",
    "    ax[i].set_ylim([0,7000])\n",
    "    ax[i].spines['right'].set_visible(False)\n",
    "    ax[i].spines['top'].set_visible(False)\n",
    "plt.tight_layout()\n"
   ]
  },
  {
   "cell_type": "code",
   "execution_count": 20,
   "id": "dress-forge",
   "metadata": {
    "execution": {
     "iopub.execute_input": "2021-03-28T12:38:27.373891Z",
     "iopub.status.busy": "2021-03-28T12:38:27.373355Z",
     "iopub.status.idle": "2021-03-28T12:38:27.376434Z",
     "shell.execute_reply": "2021-03-28T12:38:27.375977Z"
    },
    "papermill": {
     "duration": 0.03665,
     "end_time": "2021-03-28T12:38:27.376532",
     "exception": false,
     "start_time": "2021-03-28T12:38:27.339882",
     "status": "completed"
    },
    "tags": []
   },
   "outputs": [
    {
     "name": "stdout",
     "output_type": "stream",
     "text": [
      "                                   states    Cases  Deaths   PCases  PDeaths  Cases (+)  Deaths (+)  Fatality Rate\n",
      "                              Maharashtra  2673461   54073  2673461    54073          0           0           2.02\n",
      "                                   Kerala  1115778    4568  1115778     4568          0           0           0.41\n",
      "                                Karnataka   983930   12492   983930    12492          0           0           1.27\n",
      "                           Andhra Pradesh   897810    7203   897810     7203          0           0           0.80\n",
      "                               Tamil Nadu   877279   12659   877279    12659          0           0           1.44\n",
      "                                    Delhi   655834   10997   655834    10997          0           0           1.68\n",
      "                            Uttar Pradesh   612351    8783   612351     8783          0           0           1.43\n",
      "                              West Bengal   583839   10322   583839    10322          0           0           1.77\n",
      "                                   Odisha   340194    1973   339904     1973        290           0           0.58\n",
      "                             Chhattisgarh   337940    4061   337940     4061          0           0           1.20\n",
      "                                Rajasthan   329595    2811   329595     2811          0           0           0.85\n",
      "                                Telangana   306339    1688   305804     1685        535           3           0.55\n",
      "                                  Gujarat   298596    4484   298596     4484          0           0           1.50\n",
      "                           Madhya Pradesh   286407    3947   286407     3947          0           0           1.38\n",
      "                                  Haryana   286327    3132   286327     3132          0           0           1.09\n",
      "                                    Bihar   264604    1571   264604     1571          0           0           0.59\n",
      "                                   Punjab   228864    6621   228864     6621          0           0           2.89\n",
      "                                    Assam   218222    1104   218222     1104          0           0           0.51\n",
      "                        Jammu and Kashmir   129993    1989   129684     1985        309           4           1.53\n",
      "                                Jharkhand   122621    1107   122621     1107          0           0           0.90\n",
      "                              Uttarakhand    99515    1709    99515     1709          0           0           1.72\n",
      "                         Himachal Pradesh    62383    1020    62383     1020          0           0           1.64\n",
      "                                      Goa    57453     824    57453      824          0           0           1.43\n",
      "                               Puducherry    41101     680    40964      680        137           0           1.65\n",
      "                                  Tripura    33487     389    33487      389          0           0           1.16\n",
      "                                  Manipur    29374     374    29374      374          0           0           1.27\n",
      "                               Chandigarh    25898     374    25898      374          0           0           1.44\n",
      "                        Arunachal Pradesh    16845      56    16845       56          0           0           0.33\n",
      "                                Meghalaya    14031     150    14031      150          0           0           1.07\n",
      "                                 Nagaland    12229      91    12229       91          0           0           0.74\n",
      "                                   Ladakh     9974     130     9974      130          0           0           1.30\n",
      "                                   Sikkim     6226     135     6226      135          0           0           2.17\n",
      "              Andaman and Nicobar Islands     5044      62     5044       62          0           0           1.23\n",
      "                                  Mizoram     4463      11     4463       11          0           0           0.25\n",
      " Dadra and Nagar Haveli and Daman and Diu     3554       2     3554        2          0           0           0.06\n",
      "                              Lakshadweep      714       1      714        1          0           0           0.14\n"
     ]
    }
   ],
   "source": [
    "#hide_input\n",
    "print(df_table.to_string(index=False))"
   ]
  },
  {
   "cell_type": "code",
   "execution_count": null,
   "id": "quantitative-legend",
   "metadata": {
    "papermill": {
     "duration": 0.023845,
     "end_time": "2021-03-28T12:38:27.424094",
     "exception": false,
     "start_time": "2021-03-28T12:38:27.400249",
     "status": "completed"
    },
    "tags": []
   },
   "outputs": [],
   "source": []
  },
  {
   "cell_type": "code",
   "execution_count": null,
   "id": "distant-acoustic",
   "metadata": {
    "papermill": {
     "duration": 0.024718,
     "end_time": "2021-03-28T12:38:27.473553",
     "exception": false,
     "start_time": "2021-03-28T12:38:27.448835",
     "status": "completed"
    },
    "tags": []
   },
   "outputs": [],
   "source": []
  }
 ],
 "metadata": {
  "kernelspec": {
   "display_name": "Python 3",
   "language": "python",
   "name": "python3"
  },
  "language_info": {
   "codemirror_mode": {
    "name": "ipython",
    "version": 3
   },
   "file_extension": ".py",
   "mimetype": "text/x-python",
   "name": "python",
   "nbconvert_exporter": "python",
   "pygments_lexer": "ipython3",
   "version": "3.6.13"
  },
  "papermill": {
   "duration": 21.319723,
   "end_time": "2021-03-28T12:38:28.841644",
   "environment_variables": {},
   "exception": null,
   "input_path": "latest.ipynb",
   "output_path": "latest.ipynb",
   "parameters": {},
   "start_time": "2021-03-28T12:38:07.521921",
   "version": "2.1.2"
  }
 },
 "nbformat": 4,
 "nbformat_minor": 5
}