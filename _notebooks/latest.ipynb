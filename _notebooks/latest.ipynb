{
 "cells": [
  {
   "cell_type": "markdown",
   "id": "colored-stack",
   "metadata": {
    "papermill": {
     "duration": 0.02915,
     "end_time": "2021-05-08T13:41:14.903597",
     "exception": false,
     "start_time": "2021-05-08T13:41:14.874447",
     "status": "completed"
    },
    "tags": []
   },
   "source": [
    "# Latest COVID-19 India Matplotlib Overview"
   ]
  },
  {
   "cell_type": "code",
   "execution_count": 1,
   "id": "light-proportion",
   "metadata": {
    "execution": {
     "iopub.execute_input": "2021-05-08T13:41:14.951254Z",
     "iopub.status.busy": "2021-05-08T13:41:14.950668Z",
     "iopub.status.idle": "2021-05-08T13:41:15.553191Z",
     "shell.execute_reply": "2021-05-08T13:41:15.552594Z"
    },
    "papermill": {
     "duration": 0.632684,
     "end_time": "2021-05-08T13:41:15.553333",
     "exception": false,
     "start_time": "2021-05-08T13:41:14.920649",
     "status": "completed"
    },
    "tags": []
   },
   "outputs": [],
   "source": [
    "#hide\n",
    "import pandas as pd\n",
    "import numpy as np\n",
    "import requests\n",
    "import json\n",
    "import matplotlib.pyplot as plt\n",
    "import matplotlib.dates as mdates\n",
    "import matplotlib as mpl\n",
    "from IPython.core.display import display,HTML\n",
    "%matplotlib inline\n",
    "from datetime import date"
   ]
  },
  {
   "cell_type": "code",
   "execution_count": 2,
   "id": "greenhouse-shooting",
   "metadata": {
    "execution": {
     "iopub.execute_input": "2021-05-08T13:41:15.597172Z",
     "iopub.status.busy": "2021-05-08T13:41:15.596590Z",
     "iopub.status.idle": "2021-05-08T13:41:15.972165Z",
     "shell.execute_reply": "2021-05-08T13:41:15.972558Z"
    },
    "papermill": {
     "duration": 0.402142,
     "end_time": "2021-05-08T13:41:15.972707",
     "exception": false,
     "start_time": "2021-05-08T13:41:15.570565",
     "status": "completed"
    },
    "tags": []
   },
   "outputs": [],
   "source": [
    "#hide\n",
    "df  = pd.read_csv('https://api.covid19india.org/csv/latest/states.csv')\n",
    "df = df[['Date','State','Confirmed','Deceased']]\n",
    "df = df.rename(columns={'Confirmed':'Cases', \"Deceased\":'Deaths'})\n",
    "df_cases = df[[\"Date\",'State','Cases']]\n",
    "df_deaths = df[['Date','State','Deaths']]\n",
    "df_cases1 = df_cases.groupby('Date')\n",
    "df_deaths1= df_deaths.groupby('Date')"
   ]
  },
  {
   "cell_type": "code",
   "execution_count": 3,
   "id": "hybrid-cathedral",
   "metadata": {
    "execution": {
     "iopub.execute_input": "2021-05-08T13:41:16.013179Z",
     "iopub.status.busy": "2021-05-08T13:41:16.012633Z",
     "iopub.status.idle": "2021-05-08T13:41:16.031381Z",
     "shell.execute_reply": "2021-05-08T13:41:16.031922Z"
    },
    "papermill": {
     "duration": 0.042553,
     "end_time": "2021-05-08T13:41:16.032101",
     "exception": false,
     "start_time": "2021-05-08T13:41:15.989548",
     "status": "completed"
    },
    "tags": []
   },
   "outputs": [],
   "source": [
    "#hide\n",
    "df_snap = pd.read_csv('data/SnapshotCases-28-July.csv')\n",
    "arr_states = df_snap['states'].unique()\n",
    "arr_dates = df['Date'].unique()\n",
    "df_snap = df_snap.set_index('states')"
   ]
  },
  {
   "cell_type": "code",
   "execution_count": 4,
   "id": "interior-belfast",
   "metadata": {
    "execution": {
     "iopub.execute_input": "2021-05-08T13:41:16.076856Z",
     "iopub.status.busy": "2021-05-08T13:41:16.074724Z",
     "iopub.status.idle": "2021-05-08T13:41:16.082008Z",
     "shell.execute_reply": "2021-05-08T13:41:16.081515Z"
    },
    "papermill": {
     "duration": 0.032737,
     "end_time": "2021-05-08T13:41:16.082136",
     "exception": false,
     "start_time": "2021-05-08T13:41:16.049399",
     "status": "completed"
    },
    "tags": []
   },
   "outputs": [
    {
     "data": {
      "text/plain": [
       "array(['Andaman and Nicobar Islands', 'Andhra Pradesh',\n",
       "       'Arunachal Pradesh', 'Assam', 'Bihar', 'Chandigarh',\n",
       "       'Dadra and Nagar Haveli and Daman and Diu', 'Delhi', 'Goa',\n",
       "       'Gujarat', 'Haryana', 'Himachal Pradesh', 'Jammu and Kashmir',\n",
       "       'Jharkhand', 'Karnataka', 'Kerala', 'Lakshadweep',\n",
       "       'Madhya Pradesh', 'Maharashtra', 'Manipur', 'Meghalaya', 'Mizoram',\n",
       "       'Nagaland', 'Odisha', 'Puducherry', 'Punjab', 'Rajasthan',\n",
       "       'Sikkim', 'Tamil Nadu', 'Telangana', 'Tripura', 'Uttar Pradesh',\n",
       "       'West Bengal', 'Chhattisgarh', 'Ladakh', 'Uttarakhand'],\n",
       "      dtype=object)"
      ]
     },
     "execution_count": 4,
     "metadata": {},
     "output_type": "execute_result"
    }
   ],
   "source": [
    "#hide\n",
    "arr_states[-9] = 'Puducherry'\n",
    "arr_states[-10] = 'Odisha'\n",
    "arr_states[6] = 'Dadra and Nagar Haveli and Daman and Diu'\n",
    "arr_states = np.append(arr_states,np.array(['Chhattisgarh','Ladakh','Uttarakhand']))\n",
    "arr_states"
   ]
  },
  {
   "cell_type": "code",
   "execution_count": 5,
   "id": "behind-manner",
   "metadata": {
    "execution": {
     "iopub.execute_input": "2021-05-08T13:41:16.127940Z",
     "iopub.status.busy": "2021-05-08T13:41:16.127393Z",
     "iopub.status.idle": "2021-05-08T13:41:16.136570Z",
     "shell.execute_reply": "2021-05-08T13:41:16.137024Z"
    },
    "papermill": {
     "duration": 0.038033,
     "end_time": "2021-05-08T13:41:16.137172",
     "exception": false,
     "start_time": "2021-05-08T13:41:16.099139",
     "status": "completed"
    },
    "tags": []
   },
   "outputs": [],
   "source": [
    "#hide\n",
    "dates = []\n",
    "for i in arr_dates:\n",
    "    if i>='2020-07-01':\n",
    "        dates.append(i)\n",
    "dict = {'states':dates}\n",
    "for i in arr_states:\n",
    "    dict[i] = [0]*len(dates)\n",
    "dft_cases = pd.DataFrame(dict)\n",
    "dft_deaths = pd.DataFrame(dict)\n"
   ]
  },
  {
   "cell_type": "code",
   "execution_count": 6,
   "id": "simplified-peter",
   "metadata": {
    "execution": {
     "iopub.execute_input": "2021-05-08T13:41:16.180042Z",
     "iopub.status.busy": "2021-05-08T13:41:16.179447Z",
     "iopub.status.idle": "2021-05-08T13:41:20.554191Z",
     "shell.execute_reply": "2021-05-08T13:41:20.553342Z"
    },
    "papermill": {
     "duration": 4.40029,
     "end_time": "2021-05-08T13:41:20.554398",
     "exception": false,
     "start_time": "2021-05-08T13:41:16.154108",
     "status": "completed"
    },
    "tags": []
   },
   "outputs": [],
   "source": [
    "#hide\n",
    "for i in range(len(dates)):\n",
    "    df1_deaths = df_deaths1.get_group(dates[i])\n",
    "    for j in range(len(df1_deaths.index)):\n",
    "        if df1_deaths.iloc[j,1] in arr_states:\n",
    "            dft_deaths.loc[i,df1_deaths.iloc[j,1]] = df1_deaths.iloc[j,2]\n",
    "dft_deaths = dft_deaths.set_index('states')"
   ]
  },
  {
   "cell_type": "code",
   "execution_count": 7,
   "id": "geological-welding",
   "metadata": {
    "execution": {
     "iopub.execute_input": "2021-05-08T13:41:20.598096Z",
     "iopub.status.busy": "2021-05-08T13:41:20.597477Z",
     "iopub.status.idle": "2021-05-08T13:41:24.970958Z",
     "shell.execute_reply": "2021-05-08T13:41:24.971395Z"
    },
    "papermill": {
     "duration": 4.399719,
     "end_time": "2021-05-08T13:41:24.971545",
     "exception": false,
     "start_time": "2021-05-08T13:41:20.571826",
     "status": "completed"
    },
    "tags": []
   },
   "outputs": [],
   "source": [
    "#hide\n",
    "for i in range(len(dates)):\n",
    "    df1_cases = df_cases1.get_group(dates[i])\n",
    "    for j in range(len(df1_cases.index)):\n",
    "        if df1_cases.iloc[j,1] in arr_states:\n",
    "            dft_cases.loc[i,df1_cases.iloc[j,1]] = df1_cases.iloc[j,2]\n",
    "dft_cases = dft_cases.set_index('states')"
   ]
  },
  {
   "cell_type": "code",
   "execution_count": 8,
   "id": "binary-ratio",
   "metadata": {
    "execution": {
     "iopub.execute_input": "2021-05-08T13:41:25.015101Z",
     "iopub.status.busy": "2021-05-08T13:41:25.014483Z",
     "iopub.status.idle": "2021-05-08T13:41:25.017466Z",
     "shell.execute_reply": "2021-05-08T13:41:25.016886Z"
    },
    "papermill": {
     "duration": 0.028904,
     "end_time": "2021-05-08T13:41:25.017586",
     "exception": false,
     "start_time": "2021-05-08T13:41:24.988682",
     "status": "completed"
    },
    "tags": []
   },
   "outputs": [],
   "source": [
    "#hide\n",
    "dft_cases = dft_cases.T\n",
    "dft_deaths = dft_deaths.T\n",
    "dt_today = dates[-1]\n",
    "dt_yday = dates[-2]"
   ]
  },
  {
   "cell_type": "code",
   "execution_count": 9,
   "id": "boolean-calculator",
   "metadata": {
    "execution": {
     "iopub.execute_input": "2021-05-08T13:41:25.057644Z",
     "iopub.status.busy": "2021-05-08T13:41:25.057094Z",
     "iopub.status.idle": "2021-05-08T13:41:25.064237Z",
     "shell.execute_reply": "2021-05-08T13:41:25.063771Z"
    },
    "papermill": {
     "duration": 0.029888,
     "end_time": "2021-05-08T13:41:25.064365",
     "exception": false,
     "start_time": "2021-05-08T13:41:25.034477",
     "status": "completed"
    },
    "tags": []
   },
   "outputs": [],
   "source": [
    "#hide\n",
    "dft_cases = dft_cases.reset_index()\n",
    "dft_deaths = dft_deaths.reset_index()\n",
    "dft_cases = dft_cases.rename(columns = {'index':'state'})\n",
    "dft_deaths = dft_deaths.rename(columns = {'index':'state'})"
   ]
  },
  {
   "cell_type": "code",
   "execution_count": 10,
   "id": "invisible-johnston",
   "metadata": {
    "execution": {
     "iopub.execute_input": "2021-05-08T13:41:25.103552Z",
     "iopub.status.busy": "2021-05-08T13:41:25.103023Z",
     "iopub.status.idle": "2021-05-08T13:41:25.109429Z",
     "shell.execute_reply": "2021-05-08T13:41:25.108940Z"
    },
    "papermill": {
     "duration": 0.028936,
     "end_time": "2021-05-08T13:41:25.109546",
     "exception": false,
     "start_time": "2021-05-08T13:41:25.080610",
     "status": "completed"
    },
    "tags": []
   },
   "outputs": [],
   "source": [
    "#hide\n",
    "dfc_cases = dft_cases.groupby('state')[dt_today].sum()\n",
    "dfc_deaths = dft_deaths.groupby('state')[dt_today].sum()\n",
    "dfp_cases = dft_cases.groupby('state')[dt_yday].sum()\n",
    "dfp_deaths = dft_deaths.groupby('state')[dt_yday].sum()"
   ]
  },
  {
   "cell_type": "code",
   "execution_count": 11,
   "id": "measured-great",
   "metadata": {
    "execution": {
     "iopub.execute_input": "2021-05-08T13:41:25.149058Z",
     "iopub.status.busy": "2021-05-08T13:41:25.148532Z",
     "iopub.status.idle": "2021-05-08T13:41:25.168732Z",
     "shell.execute_reply": "2021-05-08T13:41:25.169326Z"
    },
    "papermill": {
     "duration": 0.04331,
     "end_time": "2021-05-08T13:41:25.169512",
     "exception": false,
     "start_time": "2021-05-08T13:41:25.126202",
     "status": "completed"
    },
    "tags": []
   },
   "outputs": [
    {
     "data": {
      "text/html": [
       "<div>\n",
       "<style scoped>\n",
       "    .dataframe tbody tr th:only-of-type {\n",
       "        vertical-align: middle;\n",
       "    }\n",
       "\n",
       "    .dataframe tbody tr th {\n",
       "        vertical-align: top;\n",
       "    }\n",
       "\n",
       "    .dataframe thead th {\n",
       "        text-align: right;\n",
       "    }\n",
       "</style>\n",
       "<table border=\"1\" class=\"dataframe\">\n",
       "  <thead>\n",
       "    <tr style=\"text-align: right;\">\n",
       "      <th></th>\n",
       "      <th>states</th>\n",
       "      <th>Cases</th>\n",
       "      <th>Deaths</th>\n",
       "      <th>PCases</th>\n",
       "      <th>PDeaths</th>\n",
       "    </tr>\n",
       "  </thead>\n",
       "  <tbody>\n",
       "    <tr>\n",
       "      <th>0</th>\n",
       "      <td>Maharashtra</td>\n",
       "      <td>4996758</td>\n",
       "      <td>74413</td>\n",
       "      <td>4996758</td>\n",
       "      <td>74413</td>\n",
       "    </tr>\n",
       "    <tr>\n",
       "      <th>1</th>\n",
       "      <td>Karnataka</td>\n",
       "      <td>1838885</td>\n",
       "      <td>17804</td>\n",
       "      <td>1838885</td>\n",
       "      <td>17804</td>\n",
       "    </tr>\n",
       "    <tr>\n",
       "      <th>2</th>\n",
       "      <td>Kerala</td>\n",
       "      <td>1824857</td>\n",
       "      <td>5683</td>\n",
       "      <td>1824857</td>\n",
       "      <td>5683</td>\n",
       "    </tr>\n",
       "    <tr>\n",
       "      <th>3</th>\n",
       "      <td>Uttar Pradesh</td>\n",
       "      <td>1453679</td>\n",
       "      <td>14873</td>\n",
       "      <td>1453679</td>\n",
       "      <td>14873</td>\n",
       "    </tr>\n",
       "    <tr>\n",
       "      <th>4</th>\n",
       "      <td>Tamil Nadu</td>\n",
       "      <td>1323965</td>\n",
       "      <td>15171</td>\n",
       "      <td>1323965</td>\n",
       "      <td>15171</td>\n",
       "    </tr>\n",
       "  </tbody>\n",
       "</table>\n",
       "</div>"
      ],
      "text/plain": [
       "          states    Cases  Deaths   PCases  PDeaths\n",
       "0    Maharashtra  4996758   74413  4996758    74413\n",
       "1      Karnataka  1838885   17804  1838885    17804\n",
       "2         Kerala  1824857    5683  1824857     5683\n",
       "3  Uttar Pradesh  1453679   14873  1453679    14873\n",
       "4     Tamil Nadu  1323965   15171  1323965    15171"
      ]
     },
     "execution_count": 11,
     "metadata": {},
     "output_type": "execute_result"
    }
   ],
   "source": [
    "#hide\n",
    "df_table = pd.DataFrame({'states': dfc_cases.index, 'Cases': dfc_cases.values, 'Deaths': dfc_deaths.values, 'PCases': dfp_cases.values, 'PDeaths': dfp_deaths.values}).set_index('states')\n",
    "df_table = df_table.sort_values(by = ['Cases','Deaths'], ascending = [False, False])\n",
    "df_table = df_table.reset_index()\n",
    "df_table.head()"
   ]
  },
  {
   "cell_type": "code",
   "execution_count": 12,
   "id": "found-montreal",
   "metadata": {
    "execution": {
     "iopub.execute_input": "2021-05-08T13:41:25.210540Z",
     "iopub.status.busy": "2021-05-08T13:41:25.209946Z",
     "iopub.status.idle": "2021-05-08T13:41:25.219002Z",
     "shell.execute_reply": "2021-05-08T13:41:25.218525Z"
    },
    "papermill": {
     "duration": 0.031062,
     "end_time": "2021-05-08T13:41:25.219128",
     "exception": false,
     "start_time": "2021-05-08T13:41:25.188066",
     "status": "completed"
    },
    "tags": []
   },
   "outputs": [],
   "source": [
    "#hide\n",
    "for c in 'Cases, Deaths'.split(', '):\n",
    "    df_table[f'{c} (+)'] = (df_table[c] - df_table[f'P{c}']).clip(0)\n",
    "df_table['Fatality Rate'] = (100* df_table['Deaths']/ df_table['Cases']).round(2)"
   ]
  },
  {
   "cell_type": "code",
   "execution_count": 13,
   "id": "minus-savage",
   "metadata": {
    "execution": {
     "iopub.execute_input": "2021-05-08T13:41:25.267181Z",
     "iopub.status.busy": "2021-05-08T13:41:25.266580Z",
     "iopub.status.idle": "2021-05-08T13:41:25.269014Z",
     "shell.execute_reply": "2021-05-08T13:41:25.269455Z"
    },
    "papermill": {
     "duration": 0.032565,
     "end_time": "2021-05-08T13:41:25.269586",
     "exception": false,
     "start_time": "2021-05-08T13:41:25.237021",
     "status": "completed"
    },
    "tags": []
   },
   "outputs": [
    {
     "data": {
      "text/html": [
       "<div>\n",
       "<style scoped>\n",
       "    .dataframe tbody tr th:only-of-type {\n",
       "        vertical-align: middle;\n",
       "    }\n",
       "\n",
       "    .dataframe tbody tr th {\n",
       "        vertical-align: top;\n",
       "    }\n",
       "\n",
       "    .dataframe thead th {\n",
       "        text-align: right;\n",
       "    }\n",
       "</style>\n",
       "<table border=\"1\" class=\"dataframe\">\n",
       "  <thead>\n",
       "    <tr style=\"text-align: right;\">\n",
       "      <th></th>\n",
       "      <th>states</th>\n",
       "      <th>Cases</th>\n",
       "      <th>Deaths</th>\n",
       "      <th>PCases</th>\n",
       "      <th>PDeaths</th>\n",
       "      <th>Cases (+)</th>\n",
       "      <th>Deaths (+)</th>\n",
       "      <th>Fatality Rate</th>\n",
       "    </tr>\n",
       "  </thead>\n",
       "  <tbody>\n",
       "    <tr>\n",
       "      <th>0</th>\n",
       "      <td>Maharashtra</td>\n",
       "      <td>4996758</td>\n",
       "      <td>74413</td>\n",
       "      <td>4996758</td>\n",
       "      <td>74413</td>\n",
       "      <td>0</td>\n",
       "      <td>0</td>\n",
       "      <td>1.49</td>\n",
       "    </tr>\n",
       "    <tr>\n",
       "      <th>1</th>\n",
       "      <td>Karnataka</td>\n",
       "      <td>1838885</td>\n",
       "      <td>17804</td>\n",
       "      <td>1838885</td>\n",
       "      <td>17804</td>\n",
       "      <td>0</td>\n",
       "      <td>0</td>\n",
       "      <td>0.97</td>\n",
       "    </tr>\n",
       "    <tr>\n",
       "      <th>2</th>\n",
       "      <td>Kerala</td>\n",
       "      <td>1824857</td>\n",
       "      <td>5683</td>\n",
       "      <td>1824857</td>\n",
       "      <td>5683</td>\n",
       "      <td>0</td>\n",
       "      <td>0</td>\n",
       "      <td>0.31</td>\n",
       "    </tr>\n",
       "    <tr>\n",
       "      <th>3</th>\n",
       "      <td>Uttar Pradesh</td>\n",
       "      <td>1453679</td>\n",
       "      <td>14873</td>\n",
       "      <td>1453679</td>\n",
       "      <td>14873</td>\n",
       "      <td>0</td>\n",
       "      <td>0</td>\n",
       "      <td>1.02</td>\n",
       "    </tr>\n",
       "    <tr>\n",
       "      <th>4</th>\n",
       "      <td>Tamil Nadu</td>\n",
       "      <td>1323965</td>\n",
       "      <td>15171</td>\n",
       "      <td>1323965</td>\n",
       "      <td>15171</td>\n",
       "      <td>0</td>\n",
       "      <td>0</td>\n",
       "      <td>1.15</td>\n",
       "    </tr>\n",
       "  </tbody>\n",
       "</table>\n",
       "</div>"
      ],
      "text/plain": [
       "          states    Cases  Deaths   PCases  PDeaths  Cases (+)  Deaths (+)  \\\n",
       "0    Maharashtra  4996758   74413  4996758    74413          0           0   \n",
       "1      Karnataka  1838885   17804  1838885    17804          0           0   \n",
       "2         Kerala  1824857    5683  1824857     5683          0           0   \n",
       "3  Uttar Pradesh  1453679   14873  1453679    14873          0           0   \n",
       "4     Tamil Nadu  1323965   15171  1323965    15171          0           0   \n",
       "\n",
       "   Fatality Rate  \n",
       "0           1.49  \n",
       "1           0.97  \n",
       "2           0.31  \n",
       "3           1.02  \n",
       "4           1.15  "
      ]
     },
     "execution_count": 13,
     "metadata": {},
     "output_type": "execute_result"
    }
   ],
   "source": [
    "#hide\n",
    "df_table.head()"
   ]
  },
  {
   "cell_type": "code",
   "execution_count": 14,
   "id": "false-peter",
   "metadata": {
    "execution": {
     "iopub.execute_input": "2021-05-08T13:41:25.323938Z",
     "iopub.status.busy": "2021-05-08T13:41:25.323336Z",
     "iopub.status.idle": "2021-05-08T13:41:25.325967Z",
     "shell.execute_reply": "2021-05-08T13:41:25.326408Z"
    },
    "papermill": {
     "duration": 0.039458,
     "end_time": "2021-05-08T13:41:25.326551",
     "exception": false,
     "start_time": "2021-05-08T13:41:25.287093",
     "status": "completed"
    },
    "tags": []
   },
   "outputs": [
    {
     "data": {
      "text/plain": [
       "{'updated': '2021-05-08',\n",
       " 'since': '2021-05-07',\n",
       " 'Cases': 21929514,\n",
       " 'PCases': 21892285,\n",
       " 'Deaths': 238734,\n",
       " 'PDeaths': 238307,\n",
       " 'Cases (+)': 37229,\n",
       " 'Deaths (+)': 427}"
      ]
     },
     "execution_count": 14,
     "metadata": {},
     "output_type": "execute_result"
    }
   ],
   "source": [
    "#hide\n",
    "summary = {'updated':dates[-1], 'since':dates[-2]}\n",
    "list_names = ['Cases', 'PCases', 'Deaths', 'PDeaths', 'Cases (+)', 'Deaths (+)']\n",
    "for name in list_names:\n",
    "    summary[name] = df_table.sum()[name]\n",
    "summary"
   ]
  },
  {
   "cell_type": "code",
   "execution_count": 15,
   "id": "packed-viewer",
   "metadata": {
    "execution": {
     "iopub.execute_input": "2021-05-08T13:41:25.366966Z",
     "iopub.status.busy": "2021-05-08T13:41:25.366413Z",
     "iopub.status.idle": "2021-05-08T13:41:25.368594Z",
     "shell.execute_reply": "2021-05-08T13:41:25.368110Z"
    },
    "papermill": {
     "duration": 0.023825,
     "end_time": "2021-05-08T13:41:25.368712",
     "exception": false,
     "start_time": "2021-05-08T13:41:25.344887",
     "status": "completed"
    },
    "tags": []
   },
   "outputs": [],
   "source": [
    "#hide\n",
    "overview = '''\n",
    "<!-- #######  HTML!! #########-->\n",
    "<h1 style=\"color: #5e9ca0; text-align: center;\">India</h1>\n",
    "<p style=\"text-align: center;\">Last update: <strong>{update}</strong></p>\n",
    "<p style=\"text-align: center;\">Confirmed cases:</p>\n",
    "<p style=\"text-align: center;font-size:24px;\">{cases} (<span style=\"color: #ff0000;\">+{new}</span>)</p>\n",
    "<p style=\"text-align: center;\">Confirmed deaths:</p>\n",
    "<p style=\"text-align: center;font-size:24px;\">{deaths} (<span style=\"color: #ff0000;\">+{dnew}</span>)</p>\n",
    "'''"
   ]
  },
  {
   "cell_type": "code",
   "execution_count": 16,
   "id": "phantom-lover",
   "metadata": {
    "execution": {
     "iopub.execute_input": "2021-05-08T13:41:25.410007Z",
     "iopub.status.busy": "2021-05-08T13:41:25.409393Z",
     "iopub.status.idle": "2021-05-08T13:41:25.412746Z",
     "shell.execute_reply": "2021-05-08T13:41:25.412286Z"
    },
    "papermill": {
     "duration": 0.027296,
     "end_time": "2021-05-08T13:41:25.412865",
     "exception": false,
     "start_time": "2021-05-08T13:41:25.385569",
     "status": "completed"
    },
    "tags": []
   },
   "outputs": [
    {
     "data": {
      "text/html": [
       "\n",
       "<!-- #######  HTML!! #########-->\n",
       "<h1 style=\"color: #5e9ca0; text-align: center;\">India</h1>\n",
       "<p style=\"text-align: center;\">Last update: <strong>2021-05-08</strong></p>\n",
       "<p style=\"text-align: center;\">Confirmed cases:</p>\n",
       "<p style=\"text-align: center;font-size:24px;\">21929514 (<span style=\"color: #ff0000;\">+37229</span>)</p>\n",
       "<p style=\"text-align: center;\">Confirmed deaths:</p>\n",
       "<p style=\"text-align: center;font-size:24px;\">238734 (<span style=\"color: #ff0000;\">+427</span>)</p>\n"
      ],
      "text/plain": [
       "<IPython.core.display.HTML object>"
      ]
     },
     "metadata": {},
     "output_type": "display_data"
    }
   ],
   "source": [
    "#hide_input\n",
    "update = summary['updated']\n",
    "cases = summary['Cases']\n",
    "new = summary['Cases (+)']\n",
    "deaths = summary['Deaths']\n",
    "dnew = summary['Deaths (+)']\n",
    "\n",
    "html = HTML(overview.format(update=update, cases=cases,new=new,deaths=deaths,dnew=dnew))\n",
    "\n",
    "display(html)"
   ]
  },
  {
   "cell_type": "code",
   "execution_count": 17,
   "id": "sealed-reset",
   "metadata": {
    "execution": {
     "iopub.execute_input": "2021-05-08T13:41:25.460648Z",
     "iopub.status.busy": "2021-05-08T13:41:25.460081Z",
     "iopub.status.idle": "2021-05-08T13:41:25.465080Z",
     "shell.execute_reply": "2021-05-08T13:41:25.465538Z"
    },
    "papermill": {
     "duration": 0.034076,
     "end_time": "2021-05-08T13:41:25.465673",
     "exception": false,
     "start_time": "2021-05-08T13:41:25.431597",
     "status": "completed"
    },
    "tags": []
   },
   "outputs": [],
   "source": [
    "#hide\n",
    "dt_cols = list(dft_cases.columns[1:])\n",
    "dft_ct_new_cases = dft_cases.groupby('state')[dt_cols].sum().diff(axis=1).fillna(0).astype(int)\n",
    "dft_ct_new_cases.sort_values(by = dates[-1], ascending = False,inplace = True)"
   ]
  },
  {
   "cell_type": "code",
   "execution_count": 18,
   "id": "designed-constant",
   "metadata": {
    "execution": {
     "iopub.execute_input": "2021-05-08T13:41:25.520899Z",
     "iopub.status.busy": "2021-05-08T13:41:25.520283Z",
     "iopub.status.idle": "2021-05-08T13:41:25.523482Z",
     "shell.execute_reply": "2021-05-08T13:41:25.522991Z"
    },
    "papermill": {
     "duration": 0.040062,
     "end_time": "2021-05-08T13:41:25.523602",
     "exception": false,
     "start_time": "2021-05-08T13:41:25.483540",
     "status": "completed"
    },
    "tags": []
   },
   "outputs": [
    {
     "data": {
      "text/html": [
       "<div>\n",
       "<style scoped>\n",
       "    .dataframe tbody tr th:only-of-type {\n",
       "        vertical-align: middle;\n",
       "    }\n",
       "\n",
       "    .dataframe tbody tr th {\n",
       "        vertical-align: top;\n",
       "    }\n",
       "\n",
       "    .dataframe thead th {\n",
       "        text-align: right;\n",
       "    }\n",
       "</style>\n",
       "<table border=\"1\" class=\"dataframe\">\n",
       "  <thead>\n",
       "    <tr style=\"text-align: right;\">\n",
       "      <th>states</th>\n",
       "      <th>2020-07-01</th>\n",
       "      <th>2020-07-02</th>\n",
       "      <th>2020-07-03</th>\n",
       "      <th>2020-07-04</th>\n",
       "      <th>2020-07-05</th>\n",
       "      <th>2020-07-06</th>\n",
       "      <th>2020-07-07</th>\n",
       "      <th>2020-07-08</th>\n",
       "      <th>2020-07-09</th>\n",
       "      <th>2020-07-10</th>\n",
       "      <th>...</th>\n",
       "      <th>2021-04-29</th>\n",
       "      <th>2021-04-30</th>\n",
       "      <th>2021-05-01</th>\n",
       "      <th>2021-05-02</th>\n",
       "      <th>2021-05-03</th>\n",
       "      <th>2021-05-04</th>\n",
       "      <th>2021-05-05</th>\n",
       "      <th>2021-05-06</th>\n",
       "      <th>2021-05-07</th>\n",
       "      <th>2021-05-08</th>\n",
       "    </tr>\n",
       "    <tr>\n",
       "      <th>state</th>\n",
       "      <th></th>\n",
       "      <th></th>\n",
       "      <th></th>\n",
       "      <th></th>\n",
       "      <th></th>\n",
       "      <th></th>\n",
       "      <th></th>\n",
       "      <th></th>\n",
       "      <th></th>\n",
       "      <th></th>\n",
       "      <th></th>\n",
       "      <th></th>\n",
       "      <th></th>\n",
       "      <th></th>\n",
       "      <th></th>\n",
       "      <th></th>\n",
       "      <th></th>\n",
       "      <th></th>\n",
       "      <th></th>\n",
       "      <th></th>\n",
       "      <th></th>\n",
       "    </tr>\n",
       "  </thead>\n",
       "  <tbody>\n",
       "    <tr>\n",
       "      <th>Delhi</th>\n",
       "      <td>0</td>\n",
       "      <td>2373</td>\n",
       "      <td>2520</td>\n",
       "      <td>2505</td>\n",
       "      <td>2244</td>\n",
       "      <td>1379</td>\n",
       "      <td>2008</td>\n",
       "      <td>2033</td>\n",
       "      <td>2187</td>\n",
       "      <td>2089</td>\n",
       "      <td>...</td>\n",
       "      <td>24235</td>\n",
       "      <td>27047</td>\n",
       "      <td>25219</td>\n",
       "      <td>20394</td>\n",
       "      <td>18043</td>\n",
       "      <td>19953</td>\n",
       "      <td>20960</td>\n",
       "      <td>19133</td>\n",
       "      <td>19832</td>\n",
       "      <td>17364</td>\n",
       "    </tr>\n",
       "    <tr>\n",
       "      <th>Odisha</th>\n",
       "      <td>0</td>\n",
       "      <td>229</td>\n",
       "      <td>561</td>\n",
       "      <td>495</td>\n",
       "      <td>469</td>\n",
       "      <td>456</td>\n",
       "      <td>571</td>\n",
       "      <td>527</td>\n",
       "      <td>577</td>\n",
       "      <td>755</td>\n",
       "      <td>...</td>\n",
       "      <td>6998</td>\n",
       "      <td>8681</td>\n",
       "      <td>10413</td>\n",
       "      <td>8015</td>\n",
       "      <td>8914</td>\n",
       "      <td>8216</td>\n",
       "      <td>9889</td>\n",
       "      <td>10521</td>\n",
       "      <td>12238</td>\n",
       "      <td>11807</td>\n",
       "    </tr>\n",
       "    <tr>\n",
       "      <th>Telangana</th>\n",
       "      <td>0</td>\n",
       "      <td>1213</td>\n",
       "      <td>1892</td>\n",
       "      <td>1850</td>\n",
       "      <td>1590</td>\n",
       "      <td>1831</td>\n",
       "      <td>1879</td>\n",
       "      <td>1924</td>\n",
       "      <td>1410</td>\n",
       "      <td>1278</td>\n",
       "      <td>...</td>\n",
       "      <td>7994</td>\n",
       "      <td>7646</td>\n",
       "      <td>7754</td>\n",
       "      <td>7430</td>\n",
       "      <td>5695</td>\n",
       "      <td>6876</td>\n",
       "      <td>6361</td>\n",
       "      <td>6026</td>\n",
       "      <td>11451</td>\n",
       "      <td>5186</td>\n",
       "    </tr>\n",
       "    <tr>\n",
       "      <th>Puducherry</th>\n",
       "      <td>0</td>\n",
       "      <td>63</td>\n",
       "      <td>22</td>\n",
       "      <td>80</td>\n",
       "      <td>42</td>\n",
       "      <td>65</td>\n",
       "      <td>30</td>\n",
       "      <td>110</td>\n",
       "      <td>49</td>\n",
       "      <td>72</td>\n",
       "      <td>...</td>\n",
       "      <td>1122</td>\n",
       "      <td>1195</td>\n",
       "      <td>1379</td>\n",
       "      <td>1360</td>\n",
       "      <td>799</td>\n",
       "      <td>1138</td>\n",
       "      <td>1819</td>\n",
       "      <td>1510</td>\n",
       "      <td>1746</td>\n",
       "      <td>1703</td>\n",
       "    </tr>\n",
       "    <tr>\n",
       "      <th>Meghalaya</th>\n",
       "      <td>0</td>\n",
       "      <td>3</td>\n",
       "      <td>4</td>\n",
       "      <td>8</td>\n",
       "      <td>2</td>\n",
       "      <td>16</td>\n",
       "      <td>6</td>\n",
       "      <td>6</td>\n",
       "      <td>13</td>\n",
       "      <td>73</td>\n",
       "      <td>...</td>\n",
       "      <td>187</td>\n",
       "      <td>229</td>\n",
       "      <td>262</td>\n",
       "      <td>321</td>\n",
       "      <td>246</td>\n",
       "      <td>339</td>\n",
       "      <td>269</td>\n",
       "      <td>347</td>\n",
       "      <td>297</td>\n",
       "      <td>375</td>\n",
       "    </tr>\n",
       "  </tbody>\n",
       "</table>\n",
       "<p>5 rows × 312 columns</p>\n",
       "</div>"
      ],
      "text/plain": [
       "states      2020-07-01  2020-07-02  2020-07-03  2020-07-04  2020-07-05  \\\n",
       "state                                                                    \n",
       "Delhi                0        2373        2520        2505        2244   \n",
       "Odisha               0         229         561         495         469   \n",
       "Telangana            0        1213        1892        1850        1590   \n",
       "Puducherry           0          63          22          80          42   \n",
       "Meghalaya            0           3           4           8           2   \n",
       "\n",
       "states      2020-07-06  2020-07-07  2020-07-08  2020-07-09  2020-07-10  ...  \\\n",
       "state                                                                   ...   \n",
       "Delhi             1379        2008        2033        2187        2089  ...   \n",
       "Odisha             456         571         527         577         755  ...   \n",
       "Telangana         1831        1879        1924        1410        1278  ...   \n",
       "Puducherry          65          30         110          49          72  ...   \n",
       "Meghalaya           16           6           6          13          73  ...   \n",
       "\n",
       "states      2021-04-29  2021-04-30  2021-05-01  2021-05-02  2021-05-03  \\\n",
       "state                                                                    \n",
       "Delhi            24235       27047       25219       20394       18043   \n",
       "Odisha            6998        8681       10413        8015        8914   \n",
       "Telangana         7994        7646        7754        7430        5695   \n",
       "Puducherry        1122        1195        1379        1360         799   \n",
       "Meghalaya          187         229         262         321         246   \n",
       "\n",
       "states      2021-05-04  2021-05-05  2021-05-06  2021-05-07  2021-05-08  \n",
       "state                                                                   \n",
       "Delhi            19953       20960       19133       19832       17364  \n",
       "Odisha            8216        9889       10521       12238       11807  \n",
       "Telangana         6876        6361        6026       11451        5186  \n",
       "Puducherry        1138        1819        1510        1746        1703  \n",
       "Meghalaya          339         269         347         297         375  \n",
       "\n",
       "[5 rows x 312 columns]"
      ]
     },
     "execution_count": 18,
     "metadata": {},
     "output_type": "execute_result"
    }
   ],
   "source": [
    "#hide\n",
    "dft_ct_new_cases.head()"
   ]
  },
  {
   "cell_type": "code",
   "execution_count": 19,
   "id": "responsible-nightlife",
   "metadata": {
    "execution": {
     "iopub.execute_input": "2021-05-08T13:41:25.574823Z",
     "iopub.status.busy": "2021-05-08T13:41:25.569568Z",
     "iopub.status.idle": "2021-05-08T13:41:37.023633Z",
     "shell.execute_reply": "2021-05-08T13:41:37.024089Z"
    },
    "papermill": {
     "duration": 11.481664,
     "end_time": "2021-05-08T13:41:37.024230",
     "exception": false,
     "start_time": "2021-05-08T13:41:25.542566",
     "status": "completed"
    },
    "tags": []
   },
   "outputs": [
    {
     "data": {
      "image/png": "[encoded data removed]",
      "text/plain": [
       "<Figure size 1296x2016 with 11 Axes>"
      ]
     },
     "metadata": {
      "needs_background": "light"
     },
     "output_type": "display_data"
    }
   ],
   "source": [
    "#hide_input\n",
    "df = dft_ct_new_cases.copy()\n",
    "df.loc['Total'] = df.sum()\n",
    "n = 5\n",
    "ax = []\n",
    "fig = plt.figure(figsize = (18,28))\n",
    "gs = fig.add_gridspec(n+2, 5)\n",
    "# gs = fig.add_gridspec(2, 3)\n",
    "ax1 = fig.add_subplot(gs[0, :])\n",
    "ef = df.loc['Total'].rename_axis('date').reset_index()\n",
    "ef['date'] = ef['date'].astype('datetime64[ns]')\n",
    "ax1.bar(ef.date,ef.Total,alpha=0.3,color='#007acc')\n",
    "ax1.plot(ef.date,ef.Total , marker=\"o\", color='#007acc')\n",
    "ax1.xaxis.set_major_locator(mdates.WeekdayLocator())\n",
    "ax1.xaxis.set_major_formatter(mdates.DateFormatter('%b %d'))\n",
    "ax1.text(0.02, 0.5,'India daily case count', transform = ax1.transAxes, fontsize=25);\n",
    "ax1.spines['right'].set_visible(False)\n",
    "ax1.spines['top'].set_visible(False)\n",
    "\n",
    "ax2 = fig.add_subplot(gs[1,0])\n",
    "ef = df.loc['Maharashtra'].rename_axis('date').reset_index()\n",
    "ef['date'] = ef['date'].astype('datetime64[ns]')\n",
    "\n",
    "ax2.bar(ef.date, ef.Maharashtra,color = '#007acc',alpha=0.5)\n",
    "ax2.xaxis.set_major_locator(mdates.WeekdayLocator())\n",
    "ax2.xaxis.set_major_formatter(mdates.DateFormatter('%b %d'))\n",
    "ax2.set_xticks(ax2.get_xticks()[::3])\n",
    "maxyval = ef.Maharashtra.max()\n",
    "ax2.set_ylim([0,maxyval])\n",
    "ax2.text(0.05, 0.9,'Maharashtra', transform = ax2.transAxes, fontsize=20);\n",
    "ax2.spines['right'].set_visible(False)\n",
    "ax2.spines['top'].set_visible(False)\n",
    "\n",
    "\n",
    "ax3 = fig.add_subplot(gs[1,1])\n",
    "ef = df.loc['Tamil Nadu'].rename_axis('date').reset_index()\n",
    "ef['date'] = ef['date'].astype('datetime64[ns]')\n",
    "ax3.bar(ef.date, ef['Tamil Nadu'],color = '#007acc',alpha=0.5,)\n",
    "ax3.xaxis.set_major_locator(mdates.WeekdayLocator())\n",
    "ax3.xaxis.set_major_formatter(mdates.DateFormatter('%b %d'))\n",
    "ax3.set_xticks(ax3.get_xticks()[::3])\n",
    "ax3.text(0.05, 0.9,'Tamil Nadu', transform = ax3.transAxes, fontsize=20);\n",
    "ax3.spines['right'].set_visible(False)\n",
    "ax3.spines['top'].set_visible(False)\n",
    "\n",
    "ax5 = fig.add_subplot(gs[1,3])\n",
    "ef = df.loc['Telangana'].rename_axis('date').reset_index()\n",
    "ef['date'] = ef['date'].astype('datetime64[ns]')\n",
    "ax5.bar(ef.date, ef['Telangana'],color = '#007acc',alpha=0.5,)\n",
    "ax5.xaxis.set_major_locator(mdates.WeekdayLocator())\n",
    "ax5.xaxis.set_major_formatter(mdates.DateFormatter('%b %d'))\n",
    "ax5.set_xticks(ax5.get_xticks()[::3])\n",
    "ax5.text(0.05, 0.9,'Telangana', transform = ax5.transAxes, fontsize=20);\n",
    "ax5.spines['right'].set_visible(False)\n",
    "ax5.spines['top'].set_visible(False)\n",
    "\n",
    "ax6 = fig.add_subplot(gs[1,4])\n",
    "ef = df.loc['Andhra Pradesh'].rename_axis('date').reset_index()\n",
    "ef['date'] = ef['date'].astype('datetime64[ns]')\n",
    "ax6.bar(ef.date, ef['Andhra Pradesh'],color = '#007acc',alpha=0.5,)\n",
    "ax6.xaxis.set_major_locator(mdates.WeekdayLocator())\n",
    "ax6.xaxis.set_major_formatter(mdates.DateFormatter('%b %d'))\n",
    "ax6.set_xticks(ax6.get_xticks()[::3])\n",
    "ax6.text(0.05, 1,'Andhra Pradesh', transform = ax6.transAxes, fontsize=20);\n",
    "ax6.spines['right'].set_visible(False)\n",
    "ax6.spines['top'].set_visible(False)\n",
    "\n",
    "ax4 = fig.add_subplot(gs[1,2])\n",
    "ef = df.loc['Delhi'].rename_axis('date').reset_index()\n",
    "ef['date'] = ef['date'].astype('datetime64[ns]')\n",
    "ax4.bar(ef.date, ef.Delhi,color = '#007acc',alpha=0.5)\n",
    "ax4.set_xticks([])\n",
    "ax4.xaxis.set_major_locator(mdates.WeekdayLocator())\n",
    "ax4.xaxis.set_major_formatter(mdates.DateFormatter('%b %d'))\n",
    "ax4.set_xticks(ax4.get_xticks()[::3])\n",
    "ax4.spines['right'].set_visible(False)\n",
    "ax4.spines['top'].set_visible(False)\n",
    "\n",
    "ax4.text(0.05, 1,'Delhi', transform = ax4.transAxes, fontsize=20)\n",
    "\n",
    "for i in range(n):\n",
    "    \n",
    "    ax.append(fig.add_subplot(gs[i+2,:]))\n",
    "    ef = df.iloc[i+3].rename_axis('date').reset_index()\n",
    "    ef['date'] = ef['date'].astype('datetime64[ns]')\n",
    "    ax[i].bar(ef.date,ef.iloc[:,-1],color = '#007acc',alpha=0.3)\n",
    "    ax[i].plot(ef.date,ef.iloc[:,-1],marker='o',color='#007acc')\n",
    "    ax[i].text(0.02,0.5,f'{ef.columns.values[-1]}',transform = ax[i].transAxes, fontsize = 20);\n",
    "    ax[i].xaxis.set_major_locator(mdates.WeekdayLocator())\n",
    "    ax[i].xaxis.set_major_formatter(mdates.DateFormatter('%b %d'))\n",
    "    ax[i].set_ylim([0,7000])\n",
    "    ax[i].spines['right'].set_visible(False)\n",
    "    ax[i].spines['top'].set_visible(False)\n",
    "plt.tight_layout()\n"
   ]
  },
  {
   "cell_type": "code",
   "execution_count": 20,
   "id": "dress-forge",
   "metadata": {
    "execution": {
     "iopub.execute_input": "2021-05-08T13:41:37.082415Z",
     "iopub.status.busy": "2021-05-08T13:41:37.081725Z",
     "iopub.status.idle": "2021-05-08T13:41:37.084210Z",
     "shell.execute_reply": "2021-05-08T13:41:37.084644Z"
    },
    "papermill": {
     "duration": 0.035797,
     "end_time": "2021-05-08T13:41:37.084788",
     "exception": false,
     "start_time": "2021-05-08T13:41:37.048991",
     "status": "completed"
    },
    "tags": []
   },
   "outputs": [
    {
     "name": "stdout",
     "output_type": "stream",
     "text": [
      "                                   states    Cases  Deaths   PCases  PDeaths  Cases (+)  Deaths (+)  Fatality Rate\n",
      "                              Maharashtra  4996758   74413  4996758    74413          0           0           1.49\n",
      "                                Karnataka  1838885   17804  1838885    17804          0           0           0.97\n",
      "                                   Kerala  1824857    5683  1824857     5683          0           0           0.31\n",
      "                            Uttar Pradesh  1453679   14873  1453679    14873          0           0           1.02\n",
      "                               Tamil Nadu  1323965   15171  1323965    15171          0           0           1.15\n",
      "                                    Delhi  1310231   19071  1292867    18739      17364         332           1.46\n",
      "                           Andhra Pradesh  1245374    8519  1245374     8519          0           0           0.68\n",
      "                              West Bengal   954282   12076   954282    12076          0           0           1.27\n",
      "                             Chhattisgarh   830117   10158   830117    10158          0           0           1.22\n",
      "                                Rajasthan   720799    5346   720799     5346          0           0           0.74\n",
      "                                  Gujarat   658036    8154   658036     8154          0           0           1.24\n",
      "                           Madhya Pradesh   649114    6244   649114     6244          0           0           0.96\n",
      "                                  Haryana   587682    5299   587682     5299          0           0           0.90\n",
      "                                    Bihar   567269    3139   567269     3139          0           0           0.55\n",
      "                                   Odisha   524207    2214   512400     2193      11807          21           0.42\n",
      "                                Telangana   492385    2704   487199     2666       5186          38           0.55\n",
      "                                   Punjab   424647   10144   424647    10144          0           0           2.39\n",
      "                                    Assam   283313    1578   283313     1578          0           0           0.56\n",
      "                                Jharkhand   276062    3615   276062     3615          0           0           1.31\n",
      "                              Uttarakhand   229993    3430   229993     3430          0           0           1.49\n",
      "                        Jammu and Kashmir   206954    2612   206954     2612          0           0           1.26\n",
      "                         Himachal Pradesh   122906    1780   122906     1780          0           0           1.45\n",
      "                                      Goa   112462    1557   112462     1557          0           0           1.38\n",
      "                               Puducherry    70076     939    68373      920       1703          19           1.34\n",
      "                               Chandigarh    48442     549    48442      549          0           0           1.13\n",
      "                                  Tripura    37205     402    36846      401        359           1           1.08\n",
      "                                  Manipur    34333     449    34333      449          0           0           1.31\n",
      "                        Arunachal Pradesh    19804      60    19804       60          0           0           0.30\n",
      "                                Meghalaya    19302     210    18927      199        375          11           1.09\n",
      "                                 Nagaland    15580     122    15580      122          0           0           0.78\n",
      "                                   Ladakh    15023     152    15023      152          0           0           1.01\n",
      "                                   Sikkim     9651     165     9451      160        200           5           1.71\n",
      " Dadra and Nagar Haveli and Daman and Diu     8799       4     8799        4          0           0           0.05\n",
      "                                  Mizoram     7382      17     7147       17        235           0           0.23\n",
      "              Andaman and Nicobar Islands     6311      72     6311       72          0           0           1.14\n",
      "                              Lakshadweep     3629       9     3629        9          0           0           0.25\n"
     ]
    }
   ],
   "source": [
    "#hide_input\n",
    "print(df_table.to_string(index=False))"
   ]
  },
  {
   "cell_type": "code",
   "execution_count": null,
   "id": "quantitative-legend",
   "metadata": {
    "papermill": {
     "duration": 0.024941,
     "end_time": "2021-05-08T13:41:37.137076",
     "exception": false,
     "start_time": "2021-05-08T13:41:37.112135",
     "status": "completed"
    },
    "tags": []
   },
   "outputs": [],
   "source": []
  },
  {
   "cell_type": "code",
   "execution_count": null,
   "id": "distant-acoustic",
   "metadata": {
    "papermill": {
     "duration": 0.02471,
     "end_time": "2021-05-08T13:41:37.186843",
     "exception": false,
     "start_time": "2021-05-08T13:41:37.162133",
     "status": "completed"
    },
    "tags": []
   },
   "outputs": [],
   "source": []
  }
 ],
 "metadata": {
  "kernelspec": {
   "display_name": "Python 3",
   "language": "python",
   "name": "python3"
  },
  "language_info": {
   "codemirror_mode": {
    "name": "ipython",
    "version": 3
   },
   "file_extension": ".py",
   "mimetype": "text/x-python",
   "name": "python",
   "nbconvert_exporter": "python",
   "pygments_lexer": "ipython3",
   "version": "3.6.13"
  },
  "papermill": {
   "duration": 24.282719,
   "end_time": "2021-05-08T13:41:37.926966",
   "environment_variables": {},
   "exception": null,
   "input_path": "latest.ipynb",
   "output_path": "latest.ipynb",
   "parameters": {},
   "start_time": "2021-05-08T13:41:13.644247",
   "version": "2.1.2"
  }
 },
 "nbformat": 4,
 "nbformat_minor": 5
}