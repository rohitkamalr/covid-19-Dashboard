{
 "cells": [
  {
   "cell_type": "markdown",
   "metadata": {
    "papermill": {
     "duration": 0.022379,
     "end_time": "2020-10-09T05:38:40.760821",
     "exception": false,
     "start_time": "2020-10-09T05:38:40.738442",
     "status": "completed"
    },
    "tags": []
   },
   "source": [
    "# Latest COVID-19 India Matplotlib Overview"
   ]
  },
  {
   "cell_type": "code",
   "execution_count": 1,
   "metadata": {
    "execution": {
     "iopub.execute_input": "2020-10-09T05:38:40.805325Z",
     "iopub.status.busy": "2020-10-09T05:38:40.804592Z",
     "iopub.status.idle": "2020-10-09T05:38:41.436991Z",
     "shell.execute_reply": "2020-10-09T05:38:41.436359Z"
    },
    "papermill": {
     "duration": 0.657119,
     "end_time": "2020-10-09T05:38:41.437175",
     "exception": false,
     "start_time": "2020-10-09T05:38:40.780056",
     "status": "completed"
    },
    "tags": []
   },
   "outputs": [],
   "source": [
    "#hide\n",
    "import pandas as pd\n",
    "import numpy as np\n",
    "import requests\n",
    "import json\n",
    "import matplotlib.pyplot as plt\n",
    "import matplotlib.dates as mdates\n",
    "import matplotlib as mpl\n",
    "from IPython.core.display import display,HTML\n",
    "%matplotlib inline\n",
    "from datetime import date"
   ]
  },
  {
   "cell_type": "code",
   "execution_count": 2,
   "metadata": {
    "execution": {
     "iopub.execute_input": "2020-10-09T05:38:41.482495Z",
     "iopub.status.busy": "2020-10-09T05:38:41.481718Z",
     "iopub.status.idle": "2020-10-09T05:38:41.751791Z",
     "shell.execute_reply": "2020-10-09T05:38:41.751121Z"
    },
    "papermill": {
     "duration": 0.296485,
     "end_time": "2020-10-09T05:38:41.751977",
     "exception": false,
     "start_time": "2020-10-09T05:38:41.455492",
     "status": "completed"
    },
    "tags": []
   },
   "outputs": [],
   "source": [
    "#hide\n",
    "df  = pd.read_csv('https://api.covid19india.org/csv/latest/states.csv')\n",
    "df = df[['Date','State','Confirmed','Deceased']]\n",
    "df = df.rename(columns={'Confirmed':'Cases', \"Deceased\":'Deaths'})\n",
    "df_cases = df[[\"Date\",'State','Cases']]\n",
    "df_deaths = df[['Date','State','Deaths']]\n",
    "df_cases1 = df_cases.groupby('Date')\n",
    "df_deaths1= df_deaths.groupby('Date')"
   ]
  },
  {
   "cell_type": "code",
   "execution_count": 3,
   "metadata": {
    "execution": {
     "iopub.execute_input": "2020-10-09T05:38:41.794466Z",
     "iopub.status.busy": "2020-10-09T05:38:41.793807Z",
     "iopub.status.idle": "2020-10-09T05:38:41.814995Z",
     "shell.execute_reply": "2020-10-09T05:38:41.815502Z"
    },
    "papermill": {
     "duration": 0.044301,
     "end_time": "2020-10-09T05:38:41.815677",
     "exception": false,
     "start_time": "2020-10-09T05:38:41.771376",
     "status": "completed"
    },
    "tags": []
   },
   "outputs": [],
   "source": [
    "#hide\n",
    "df_snap = pd.read_csv('data/SnapshotCases-28-July.csv')\n",
    "arr_states = df_snap['states'].unique()\n",
    "arr_dates = df['Date'].unique()\n",
    "df_snap = df_snap.set_index('states')"
   ]
  },
  {
   "cell_type": "code",
   "execution_count": 4,
   "metadata": {
    "execution": {
     "iopub.execute_input": "2020-10-09T05:38:41.857811Z",
     "iopub.status.busy": "2020-10-09T05:38:41.857059Z",
     "iopub.status.idle": "2020-10-09T05:38:41.859612Z",
     "shell.execute_reply": "2020-10-09T05:38:41.860188Z"
    },
    "papermill": {
     "duration": 0.028001,
     "end_time": "2020-10-09T05:38:41.860360",
     "exception": false,
     "start_time": "2020-10-09T05:38:41.832359",
     "status": "completed"
    },
    "tags": []
   },
   "outputs": [
    {
     "data": {
      "text/plain": [
       "array(['Andaman and Nicobar Islands', 'Andhra Pradesh',\n",
       "       'Arunachal Pradesh', 'Assam', 'Bihar', 'Chandigarh',\n",
       "       'Dadra and Nagar Haveli and Daman and Diu', 'Delhi', 'Goa',\n",
       "       'Gujarat', 'Haryana', 'Himachal Pradesh', 'Jammu and Kashmir',\n",
       "       'Jharkhand', 'Karnataka', 'Kerala', 'Lakshadweep',\n",
       "       'Madhya Pradesh', 'Maharashtra', 'Manipur', 'Meghalaya', 'Mizoram',\n",
       "       'Nagaland', 'Odisha', 'Puducherry', 'Punjab', 'Rajasthan',\n",
       "       'Sikkim', 'Tamil Nadu', 'Telangana', 'Tripura', 'Uttar Pradesh',\n",
       "       'West Bengal', 'Chhattisgarh', 'Ladakh', 'Uttarakhand'],\n",
       "      dtype=object)"
      ]
     },
     "execution_count": 4,
     "metadata": {},
     "output_type": "execute_result"
    }
   ],
   "source": [
    "#hide\n",
    "arr_states[-9] = 'Puducherry'\n",
    "arr_states[-10] = 'Odisha'\n",
    "arr_states[6] = 'Dadra and Nagar Haveli and Daman and Diu'\n",
    "arr_states = np.append(arr_states,np.array(['Chhattisgarh','Ladakh','Uttarakhand']))\n",
    "arr_states"
   ]
  },
  {
   "cell_type": "code",
   "execution_count": 5,
   "metadata": {
    "execution": {
     "iopub.execute_input": "2020-10-09T05:38:41.912262Z",
     "iopub.status.busy": "2020-10-09T05:38:41.911125Z",
     "iopub.status.idle": "2020-10-09T05:38:41.919959Z",
     "shell.execute_reply": "2020-10-09T05:38:41.920631Z"
    },
    "papermill": {
     "duration": 0.041791,
     "end_time": "2020-10-09T05:38:41.920822",
     "exception": false,
     "start_time": "2020-10-09T05:38:41.879031",
     "status": "completed"
    },
    "tags": []
   },
   "outputs": [],
   "source": [
    "#hide\n",
    "dates = []\n",
    "for i in arr_dates:\n",
    "    if i>='2020-07-01':\n",
    "        dates.append(i)\n",
    "dict = {'states':dates}\n",
    "for i in arr_states:\n",
    "    dict[i] = [0]*len(dates)\n",
    "dft_cases = pd.DataFrame(dict)\n",
    "dft_deaths = pd.DataFrame(dict)\n"
   ]
  },
  {
   "cell_type": "code",
   "execution_count": 6,
   "metadata": {
    "execution": {
     "iopub.execute_input": "2020-10-09T05:38:41.963918Z",
     "iopub.status.busy": "2020-10-09T05:38:41.963187Z",
     "iopub.status.idle": "2020-10-09T05:38:43.904736Z",
     "shell.execute_reply": "2020-10-09T05:38:43.904105Z"
    },
    "papermill": {
     "duration": 1.965693,
     "end_time": "2020-10-09T05:38:43.904915",
     "exception": false,
     "start_time": "2020-10-09T05:38:41.939222",
     "status": "completed"
    },
    "tags": []
   },
   "outputs": [],
   "source": [
    "#hide\n",
    "for i in range(len(dates)):\n",
    "    df1_deaths = df_deaths1.get_group(dates[i])\n",
    "    for j in range(len(df1_deaths.index)):\n",
    "        if df1_deaths.iloc[j,1] in arr_states:\n",
    "            dft_deaths.loc[i,df1_deaths.iloc[j,1]] = df1_deaths.iloc[j,2]\n",
    "dft_deaths = dft_deaths.set_index('states')"
   ]
  },
  {
   "cell_type": "code",
   "execution_count": 7,
   "metadata": {
    "execution": {
     "iopub.execute_input": "2020-10-09T05:38:43.959454Z",
     "iopub.status.busy": "2020-10-09T05:38:43.958736Z",
     "iopub.status.idle": "2020-10-09T05:38:45.971154Z",
     "shell.execute_reply": "2020-10-09T05:38:45.969927Z"
    },
    "papermill": {
     "duration": 2.047787,
     "end_time": "2020-10-09T05:38:45.971472",
     "exception": false,
     "start_time": "2020-10-09T05:38:43.923685",
     "status": "completed"
    },
    "tags": []
   },
   "outputs": [],
   "source": [
    "#hide\n",
    "for i in range(len(dates)):\n",
    "    df1_cases = df_cases1.get_group(dates[i])\n",
    "    for j in range(len(df1_cases.index)):\n",
    "        if df1_cases.iloc[j,1] in arr_states:\n",
    "            dft_cases.loc[i,df1_cases.iloc[j,1]] = df1_cases.iloc[j,2]\n",
    "dft_cases = dft_cases.set_index('states')"
   ]
  },
  {
   "cell_type": "code",
   "execution_count": 8,
   "metadata": {
    "execution": {
     "iopub.execute_input": "2020-10-09T05:38:46.022713Z",
     "iopub.status.busy": "2020-10-09T05:38:46.022066Z",
     "iopub.status.idle": "2020-10-09T05:38:46.026340Z",
     "shell.execute_reply": "2020-10-09T05:38:46.025760Z"
    },
    "papermill": {
     "duration": 0.032754,
     "end_time": "2020-10-09T05:38:46.026480",
     "exception": false,
     "start_time": "2020-10-09T05:38:45.993726",
     "status": "completed"
    },
    "tags": []
   },
   "outputs": [],
   "source": [
    "#hide\n",
    "dft_cases = dft_cases.T\n",
    "dft_deaths = dft_deaths.T\n",
    "dt_today = dates[-1]\n",
    "dt_yday = dates[-2]"
   ]
  },
  {
   "cell_type": "code",
   "execution_count": 9,
   "metadata": {
    "execution": {
     "iopub.execute_input": "2020-10-09T05:38:46.081779Z",
     "iopub.status.busy": "2020-10-09T05:38:46.079586Z",
     "iopub.status.idle": "2020-10-09T05:38:46.084802Z",
     "shell.execute_reply": "2020-10-09T05:38:46.085490Z"
    },
    "papermill": {
     "duration": 0.039995,
     "end_time": "2020-10-09T05:38:46.085695",
     "exception": false,
     "start_time": "2020-10-09T05:38:46.045700",
     "status": "completed"
    },
    "tags": []
   },
   "outputs": [],
   "source": [
    "#hide\n",
    "dft_cases = dft_cases.reset_index()\n",
    "dft_deaths = dft_deaths.reset_index()\n",
    "dft_cases = dft_cases.rename(columns = {'index':'state'})\n",
    "dft_deaths = dft_deaths.rename(columns = {'index':'state'})"
   ]
  },
  {
   "cell_type": "code",
   "execution_count": 10,
   "metadata": {
    "execution": {
     "iopub.execute_input": "2020-10-09T05:38:46.145245Z",
     "iopub.status.busy": "2020-10-09T05:38:46.144486Z",
     "iopub.status.idle": "2020-10-09T05:38:46.146426Z",
     "shell.execute_reply": "2020-10-09T05:38:46.145883Z"
    },
    "papermill": {
     "duration": 0.04148,
     "end_time": "2020-10-09T05:38:46.146576",
     "exception": false,
     "start_time": "2020-10-09T05:38:46.105096",
     "status": "completed"
    },
    "tags": []
   },
   "outputs": [],
   "source": [
    "#hide\n",
    "dfc_cases = dft_cases.groupby('state')[dt_today].sum()\n",
    "dfc_deaths = dft_deaths.groupby('state')[dt_today].sum()\n",
    "dfp_cases = dft_cases.groupby('state')[dt_yday].sum()\n",
    "dfp_deaths = dft_deaths.groupby('state')[dt_yday].sum()"
   ]
  },
  {
   "cell_type": "code",
   "execution_count": 11,
   "metadata": {
    "execution": {
     "iopub.execute_input": "2020-10-09T05:38:46.200074Z",
     "iopub.status.busy": "2020-10-09T05:38:46.199349Z",
     "iopub.status.idle": "2020-10-09T05:38:46.218969Z",
     "shell.execute_reply": "2020-10-09T05:38:46.217519Z"
    },
    "papermill": {
     "duration": 0.050103,
     "end_time": "2020-10-09T05:38:46.219210",
     "exception": false,
     "start_time": "2020-10-09T05:38:46.169107",
     "status": "completed"
    },
    "tags": []
   },
   "outputs": [
    {
     "data": {
      "text/html": [
       "<div>\n",
       "<style scoped>\n",
       "    .dataframe tbody tr th:only-of-type {\n",
       "        vertical-align: middle;\n",
       "    }\n",
       "\n",
       "    .dataframe tbody tr th {\n",
       "        vertical-align: top;\n",
       "    }\n",
       "\n",
       "    .dataframe thead th {\n",
       "        text-align: right;\n",
       "    }\n",
       "</style>\n",
       "<table border=\"1\" class=\"dataframe\">\n",
       "  <thead>\n",
       "    <tr style=\"text-align: right;\">\n",
       "      <th></th>\n",
       "      <th>states</th>\n",
       "      <th>Cases</th>\n",
       "      <th>Deaths</th>\n",
       "      <th>PCases</th>\n",
       "      <th>PDeaths</th>\n",
       "    </tr>\n",
       "  </thead>\n",
       "  <tbody>\n",
       "    <tr>\n",
       "      <th>0</th>\n",
       "      <td>Maharashtra</td>\n",
       "      <td>1493884</td>\n",
       "      <td>39430</td>\n",
       "      <td>1493884</td>\n",
       "      <td>39430</td>\n",
       "    </tr>\n",
       "    <tr>\n",
       "      <th>1</th>\n",
       "      <td>Andhra Pradesh</td>\n",
       "      <td>739719</td>\n",
       "      <td>6128</td>\n",
       "      <td>739719</td>\n",
       "      <td>6128</td>\n",
       "    </tr>\n",
       "    <tr>\n",
       "      <th>2</th>\n",
       "      <td>Karnataka</td>\n",
       "      <td>679356</td>\n",
       "      <td>9675</td>\n",
       "      <td>679356</td>\n",
       "      <td>9675</td>\n",
       "    </tr>\n",
       "    <tr>\n",
       "      <th>3</th>\n",
       "      <td>Tamil Nadu</td>\n",
       "      <td>640943</td>\n",
       "      <td>10052</td>\n",
       "      <td>640943</td>\n",
       "      <td>10052</td>\n",
       "    </tr>\n",
       "    <tr>\n",
       "      <th>4</th>\n",
       "      <td>Uttar Pradesh</td>\n",
       "      <td>427459</td>\n",
       "      <td>6245</td>\n",
       "      <td>427459</td>\n",
       "      <td>6245</td>\n",
       "    </tr>\n",
       "  </tbody>\n",
       "</table>\n",
       "</div>"
      ],
      "text/plain": [
       "           states    Cases  Deaths   PCases  PDeaths\n",
       "0     Maharashtra  1493884   39430  1493884    39430\n",
       "1  Andhra Pradesh   739719    6128   739719     6128\n",
       "2       Karnataka   679356    9675   679356     9675\n",
       "3      Tamil Nadu   640943   10052   640943    10052\n",
       "4   Uttar Pradesh   427459    6245   427459     6245"
      ]
     },
     "execution_count": 11,
     "metadata": {},
     "output_type": "execute_result"
    }
   ],
   "source": [
    "#hide\n",
    "df_table = pd.DataFrame({'states': dfc_cases.index, 'Cases': dfc_cases.values, 'Deaths': dfc_deaths.values, 'PCases': dfp_cases.values, 'PDeaths': dfp_deaths.values}).set_index('states')\n",
    "df_table = df_table.sort_values(by = ['Cases','Deaths'], ascending = [False, False])\n",
    "df_table = df_table.reset_index()\n",
    "df_table.head()"
   ]
  },
  {
   "cell_type": "code",
   "execution_count": 12,
   "metadata": {
    "execution": {
     "iopub.execute_input": "2020-10-09T05:38:46.274197Z",
     "iopub.status.busy": "2020-10-09T05:38:46.273519Z",
     "iopub.status.idle": "2020-10-09T05:38:46.283493Z",
     "shell.execute_reply": "2020-10-09T05:38:46.282850Z"
    },
    "papermill": {
     "duration": 0.036954,
     "end_time": "2020-10-09T05:38:46.283636",
     "exception": false,
     "start_time": "2020-10-09T05:38:46.246682",
     "status": "completed"
    },
    "tags": []
   },
   "outputs": [],
   "source": [
    "#hide\n",
    "for c in 'Cases, Deaths'.split(', '):\n",
    "    df_table[f'{c} (+)'] = (df_table[c] - df_table[f'P{c}']).clip(0)\n",
    "df_table['Fatality Rate'] = (100* df_table['Deaths']/ df_table['Cases']).round(2)"
   ]
  },
  {
   "cell_type": "code",
   "execution_count": 13,
   "metadata": {
    "execution": {
     "iopub.execute_input": "2020-10-09T05:38:46.330123Z",
     "iopub.status.busy": "2020-10-09T05:38:46.329364Z",
     "iopub.status.idle": "2020-10-09T05:38:46.342859Z",
     "shell.execute_reply": "2020-10-09T05:38:46.342302Z"
    },
    "papermill": {
     "duration": 0.041745,
     "end_time": "2020-10-09T05:38:46.343004",
     "exception": false,
     "start_time": "2020-10-09T05:38:46.301259",
     "status": "completed"
    },
    "tags": []
   },
   "outputs": [
    {
     "data": {
      "text/html": [
       "<div>\n",
       "<style scoped>\n",
       "    .dataframe tbody tr th:only-of-type {\n",
       "        vertical-align: middle;\n",
       "    }\n",
       "\n",
       "    .dataframe tbody tr th {\n",
       "        vertical-align: top;\n",
       "    }\n",
       "\n",
       "    .dataframe thead th {\n",
       "        text-align: right;\n",
       "    }\n",
       "</style>\n",
       "<table border=\"1\" class=\"dataframe\">\n",
       "  <thead>\n",
       "    <tr style=\"text-align: right;\">\n",
       "      <th></th>\n",
       "      <th>states</th>\n",
       "      <th>Cases</th>\n",
       "      <th>Deaths</th>\n",
       "      <th>PCases</th>\n",
       "      <th>PDeaths</th>\n",
       "      <th>Cases (+)</th>\n",
       "      <th>Deaths (+)</th>\n",
       "      <th>Fatality Rate</th>\n",
       "    </tr>\n",
       "  </thead>\n",
       "  <tbody>\n",
       "    <tr>\n",
       "      <th>0</th>\n",
       "      <td>Maharashtra</td>\n",
       "      <td>1493884</td>\n",
       "      <td>39430</td>\n",
       "      <td>1493884</td>\n",
       "      <td>39430</td>\n",
       "      <td>0</td>\n",
       "      <td>0</td>\n",
       "      <td>2.64</td>\n",
       "    </tr>\n",
       "    <tr>\n",
       "      <th>1</th>\n",
       "      <td>Andhra Pradesh</td>\n",
       "      <td>739719</td>\n",
       "      <td>6128</td>\n",
       "      <td>739719</td>\n",
       "      <td>6128</td>\n",
       "      <td>0</td>\n",
       "      <td>0</td>\n",
       "      <td>0.83</td>\n",
       "    </tr>\n",
       "    <tr>\n",
       "      <th>2</th>\n",
       "      <td>Karnataka</td>\n",
       "      <td>679356</td>\n",
       "      <td>9675</td>\n",
       "      <td>679356</td>\n",
       "      <td>9675</td>\n",
       "      <td>0</td>\n",
       "      <td>0</td>\n",
       "      <td>1.42</td>\n",
       "    </tr>\n",
       "    <tr>\n",
       "      <th>3</th>\n",
       "      <td>Tamil Nadu</td>\n",
       "      <td>640943</td>\n",
       "      <td>10052</td>\n",
       "      <td>640943</td>\n",
       "      <td>10052</td>\n",
       "      <td>0</td>\n",
       "      <td>0</td>\n",
       "      <td>1.57</td>\n",
       "    </tr>\n",
       "    <tr>\n",
       "      <th>4</th>\n",
       "      <td>Uttar Pradesh</td>\n",
       "      <td>427459</td>\n",
       "      <td>6245</td>\n",
       "      <td>427459</td>\n",
       "      <td>6245</td>\n",
       "      <td>0</td>\n",
       "      <td>0</td>\n",
       "      <td>1.46</td>\n",
       "    </tr>\n",
       "  </tbody>\n",
       "</table>\n",
       "</div>"
      ],
      "text/plain": [
       "           states    Cases  Deaths   PCases  PDeaths  Cases (+)  Deaths (+)  \\\n",
       "0     Maharashtra  1493884   39430  1493884    39430          0           0   \n",
       "1  Andhra Pradesh   739719    6128   739719     6128          0           0   \n",
       "2       Karnataka   679356    9675   679356     9675          0           0   \n",
       "3      Tamil Nadu   640943   10052   640943    10052          0           0   \n",
       "4   Uttar Pradesh   427459    6245   427459     6245          0           0   \n",
       "\n",
       "   Fatality Rate  \n",
       "0           2.64  \n",
       "1           0.83  \n",
       "2           1.42  \n",
       "3           1.57  \n",
       "4           1.46  "
      ]
     },
     "execution_count": 13,
     "metadata": {},
     "output_type": "execute_result"
    }
   ],
   "source": [
    "#hide\n",
    "df_table.head()"
   ]
  },
  {
   "cell_type": "code",
   "execution_count": 14,
   "metadata": {
    "execution": {
     "iopub.execute_input": "2020-10-09T05:38:46.411121Z",
     "iopub.status.busy": "2020-10-09T05:38:46.392696Z",
     "iopub.status.idle": "2020-10-09T05:38:46.416183Z",
     "shell.execute_reply": "2020-10-09T05:38:46.414614Z"
    },
    "papermill": {
     "duration": 0.050307,
     "end_time": "2020-10-09T05:38:46.416433",
     "exception": false,
     "start_time": "2020-10-09T05:38:46.366126",
     "status": "completed"
    },
    "tags": []
   },
   "outputs": [
    {
     "data": {
      "text/plain": [
       "{'updated': '2020-10-09',\n",
       " 'since': '2020-10-08',\n",
       " 'Cases': 6903812,\n",
       " 'PCases': 6903812,\n",
       " 'Deaths': 106521,\n",
       " 'PDeaths': 106521,\n",
       " 'Cases (+)': 0,\n",
       " 'Deaths (+)': 0}"
      ]
     },
     "execution_count": 14,
     "metadata": {},
     "output_type": "execute_result"
    }
   ],
   "source": [
    "#hide\n",
    "summary = {'updated':dates[-1], 'since':dates[-2]}\n",
    "list_names = ['Cases', 'PCases', 'Deaths', 'PDeaths', 'Cases (+)', 'Deaths (+)']\n",
    "for name in list_names:\n",
    "    summary[name] = df_table.sum()[name]\n",
    "summary"
   ]
  },
  {
   "cell_type": "code",
   "execution_count": 15,
   "metadata": {
    "execution": {
     "iopub.execute_input": "2020-10-09T05:38:46.473329Z",
     "iopub.status.busy": "2020-10-09T05:38:46.472663Z",
     "iopub.status.idle": "2020-10-09T05:38:46.475187Z",
     "shell.execute_reply": "2020-10-09T05:38:46.474597Z"
    },
    "papermill": {
     "duration": 0.035359,
     "end_time": "2020-10-09T05:38:46.475330",
     "exception": false,
     "start_time": "2020-10-09T05:38:46.439971",
     "status": "completed"
    },
    "tags": []
   },
   "outputs": [],
   "source": [
    "#hide\n",
    "overview = '''\n",
    "<!-- #######  HTML!! #########-->\n",
    "<h1 style=\"color: #5e9ca0; text-align: center;\">India</h1>\n",
    "<p style=\"text-align: center;\">Last update: <strong>{update}</strong></p>\n",
    "<p style=\"text-align: center;\">Confirmed cases:</p>\n",
    "<p style=\"text-align: center;font-size:24px;\">{cases} (<span style=\"color: #ff0000;\">+{new}</span>)</p>\n",
    "<p style=\"text-align: center;\">Confirmed deaths:</p>\n",
    "<p style=\"text-align: center;font-size:24px;\">{deaths} (<span style=\"color: #ff0000;\">+{dnew}</span>)</p>\n",
    "'''"
   ]
  },
  {
   "cell_type": "code",
   "execution_count": 16,
   "metadata": {
    "execution": {
     "iopub.execute_input": "2020-10-09T05:38:46.537230Z",
     "iopub.status.busy": "2020-10-09T05:38:46.536567Z",
     "iopub.status.idle": "2020-10-09T05:38:46.539891Z",
     "shell.execute_reply": "2020-10-09T05:38:46.540424Z"
    },
    "papermill": {
     "duration": 0.034808,
     "end_time": "2020-10-09T05:38:46.540584",
     "exception": false,
     "start_time": "2020-10-09T05:38:46.505776",
     "status": "completed"
    },
    "tags": []
   },
   "outputs": [
    {
     "data": {
      "text/html": [
       "\n",
       "<!-- #######  HTML!! #########-->\n",
       "<h1 style=\"color: #5e9ca0; text-align: center;\">India</h1>\n",
       "<p style=\"text-align: center;\">Last update: <strong>2020-10-09</strong></p>\n",
       "<p style=\"text-align: center;\">Confirmed cases:</p>\n",
       "<p style=\"text-align: center;font-size:24px;\">6903812 (<span style=\"color: #ff0000;\">+0</span>)</p>\n",
       "<p style=\"text-align: center;\">Confirmed deaths:</p>\n",
       "<p style=\"text-align: center;font-size:24px;\">106521 (<span style=\"color: #ff0000;\">+0</span>)</p>\n"
      ],
      "text/plain": [
       "<IPython.core.display.HTML object>"
      ]
     },
     "metadata": {},
     "output_type": "display_data"
    }
   ],
   "source": [
    "#hide_input\n",
    "update = summary['updated']\n",
    "cases = summary['Cases']\n",
    "new = summary['Cases (+)']\n",
    "deaths = summary['Deaths']\n",
    "dnew = summary['Deaths (+)']\n",
    "\n",
    "html = HTML(overview.format(update=update, cases=cases,new=new,deaths=deaths,dnew=dnew))\n",
    "\n",
    "display(html)"
   ]
  },
  {
   "cell_type": "code",
   "execution_count": 17,
   "metadata": {
    "execution": {
     "iopub.execute_input": "2020-10-09T05:38:46.588500Z",
     "iopub.status.busy": "2020-10-09T05:38:46.587815Z",
     "iopub.status.idle": "2020-10-09T05:38:46.594178Z",
     "shell.execute_reply": "2020-10-09T05:38:46.594800Z"
    },
    "papermill": {
     "duration": 0.034048,
     "end_time": "2020-10-09T05:38:46.594970",
     "exception": false,
     "start_time": "2020-10-09T05:38:46.560922",
     "status": "completed"
    },
    "tags": []
   },
   "outputs": [],
   "source": [
    "#hide\n",
    "dt_cols = list(dft_cases.columns[1:])\n",
    "dft_ct_new_cases = dft_cases.groupby('state')[dt_cols].sum().diff(axis=1).fillna(0).astype(int)\n",
    "dft_ct_new_cases.sort_values(by = dates[-1], ascending = False,inplace = True)"
   ]
  },
  {
   "cell_type": "code",
   "execution_count": 18,
   "metadata": {
    "execution": {
     "iopub.execute_input": "2020-10-09T05:38:46.651536Z",
     "iopub.status.busy": "2020-10-09T05:38:46.650859Z",
     "iopub.status.idle": "2020-10-09T05:38:46.654334Z",
     "shell.execute_reply": "2020-10-09T05:38:46.654962Z"
    },
    "papermill": {
     "duration": 0.040841,
     "end_time": "2020-10-09T05:38:46.655128",
     "exception": false,
     "start_time": "2020-10-09T05:38:46.614287",
     "status": "completed"
    },
    "tags": []
   },
   "outputs": [
    {
     "data": {
      "text/html": [
       "<div>\n",
       "<style scoped>\n",
       "    .dataframe tbody tr th:only-of-type {\n",
       "        vertical-align: middle;\n",
       "    }\n",
       "\n",
       "    .dataframe tbody tr th {\n",
       "        vertical-align: top;\n",
       "    }\n",
       "\n",
       "    .dataframe thead th {\n",
       "        text-align: right;\n",
       "    }\n",
       "</style>\n",
       "<table border=\"1\" class=\"dataframe\">\n",
       "  <thead>\n",
       "    <tr style=\"text-align: right;\">\n",
       "      <th>states</th>\n",
       "      <th>2020-07-01</th>\n",
       "      <th>2020-07-02</th>\n",
       "      <th>2020-07-03</th>\n",
       "      <th>2020-07-04</th>\n",
       "      <th>2020-07-05</th>\n",
       "      <th>2020-07-06</th>\n",
       "      <th>2020-07-07</th>\n",
       "      <th>2020-07-08</th>\n",
       "      <th>2020-07-09</th>\n",
       "      <th>2020-07-10</th>\n",
       "      <th>...</th>\n",
       "      <th>2020-09-30</th>\n",
       "      <th>2020-10-01</th>\n",
       "      <th>2020-10-02</th>\n",
       "      <th>2020-10-03</th>\n",
       "      <th>2020-10-04</th>\n",
       "      <th>2020-10-05</th>\n",
       "      <th>2020-10-06</th>\n",
       "      <th>2020-10-07</th>\n",
       "      <th>2020-10-08</th>\n",
       "      <th>2020-10-09</th>\n",
       "    </tr>\n",
       "    <tr>\n",
       "      <th>state</th>\n",
       "      <th></th>\n",
       "      <th></th>\n",
       "      <th></th>\n",
       "      <th></th>\n",
       "      <th></th>\n",
       "      <th></th>\n",
       "      <th></th>\n",
       "      <th></th>\n",
       "      <th></th>\n",
       "      <th></th>\n",
       "      <th></th>\n",
       "      <th></th>\n",
       "      <th></th>\n",
       "      <th></th>\n",
       "      <th></th>\n",
       "      <th></th>\n",
       "      <th></th>\n",
       "      <th></th>\n",
       "      <th></th>\n",
       "      <th></th>\n",
       "      <th></th>\n",
       "    </tr>\n",
       "  </thead>\n",
       "  <tbody>\n",
       "    <tr>\n",
       "      <th>Andaman and Nicobar Islands</th>\n",
       "      <td>0</td>\n",
       "      <td>9</td>\n",
       "      <td>7</td>\n",
       "      <td>3</td>\n",
       "      <td>6</td>\n",
       "      <td>16</td>\n",
       "      <td>6</td>\n",
       "      <td>2</td>\n",
       "      <td>7</td>\n",
       "      <td>0</td>\n",
       "      <td>...</td>\n",
       "      <td>14</td>\n",
       "      <td>13</td>\n",
       "      <td>10</td>\n",
       "      <td>10</td>\n",
       "      <td>16</td>\n",
       "      <td>15</td>\n",
       "      <td>13</td>\n",
       "      <td>23</td>\n",
       "      <td>17</td>\n",
       "      <td>0</td>\n",
       "    </tr>\n",
       "    <tr>\n",
       "      <th>Andhra Pradesh</th>\n",
       "      <td>0</td>\n",
       "      <td>845</td>\n",
       "      <td>837</td>\n",
       "      <td>765</td>\n",
       "      <td>998</td>\n",
       "      <td>1322</td>\n",
       "      <td>1178</td>\n",
       "      <td>1062</td>\n",
       "      <td>1555</td>\n",
       "      <td>1608</td>\n",
       "      <td>...</td>\n",
       "      <td>6133</td>\n",
       "      <td>6751</td>\n",
       "      <td>6555</td>\n",
       "      <td>6224</td>\n",
       "      <td>6242</td>\n",
       "      <td>4256</td>\n",
       "      <td>5795</td>\n",
       "      <td>5120</td>\n",
       "      <td>5292</td>\n",
       "      <td>0</td>\n",
       "    </tr>\n",
       "    <tr>\n",
       "      <th>Maharashtra</th>\n",
       "      <td>0</td>\n",
       "      <td>6328</td>\n",
       "      <td>6364</td>\n",
       "      <td>7074</td>\n",
       "      <td>6555</td>\n",
       "      <td>5368</td>\n",
       "      <td>5134</td>\n",
       "      <td>6603</td>\n",
       "      <td>6875</td>\n",
       "      <td>7862</td>\n",
       "      <td>...</td>\n",
       "      <td>18317</td>\n",
       "      <td>16476</td>\n",
       "      <td>15591</td>\n",
       "      <td>14348</td>\n",
       "      <td>12548</td>\n",
       "      <td>10244</td>\n",
       "      <td>12258</td>\n",
       "      <td>14578</td>\n",
       "      <td>13395</td>\n",
       "      <td>0</td>\n",
       "    </tr>\n",
       "    <tr>\n",
       "      <th>Manipur</th>\n",
       "      <td>0</td>\n",
       "      <td>19</td>\n",
       "      <td>37</td>\n",
       "      <td>9</td>\n",
       "      <td>41</td>\n",
       "      <td>24</td>\n",
       "      <td>40</td>\n",
       "      <td>5</td>\n",
       "      <td>15</td>\n",
       "      <td>132</td>\n",
       "      <td>...</td>\n",
       "      <td>237</td>\n",
       "      <td>128</td>\n",
       "      <td>286</td>\n",
       "      <td>252</td>\n",
       "      <td>206</td>\n",
       "      <td>250</td>\n",
       "      <td>135</td>\n",
       "      <td>249</td>\n",
       "      <td>190</td>\n",
       "      <td>0</td>\n",
       "    </tr>\n",
       "    <tr>\n",
       "      <th>Meghalaya</th>\n",
       "      <td>0</td>\n",
       "      <td>3</td>\n",
       "      <td>4</td>\n",
       "      <td>8</td>\n",
       "      <td>2</td>\n",
       "      <td>16</td>\n",
       "      <td>6</td>\n",
       "      <td>6</td>\n",
       "      <td>13</td>\n",
       "      <td>73</td>\n",
       "      <td>...</td>\n",
       "      <td>176</td>\n",
       "      <td>163</td>\n",
       "      <td>231</td>\n",
       "      <td>423</td>\n",
       "      <td>200</td>\n",
       "      <td>111</td>\n",
       "      <td>270</td>\n",
       "      <td>128</td>\n",
       "      <td>123</td>\n",
       "      <td>0</td>\n",
       "    </tr>\n",
       "  </tbody>\n",
       "</table>\n",
       "<p>5 rows × 101 columns</p>\n",
       "</div>"
      ],
      "text/plain": [
       "states                       2020-07-01  2020-07-02  2020-07-03  2020-07-04  \\\n",
       "state                                                                         \n",
       "Andaman and Nicobar Islands           0           9           7           3   \n",
       "Andhra Pradesh                        0         845         837         765   \n",
       "Maharashtra                           0        6328        6364        7074   \n",
       "Manipur                               0          19          37           9   \n",
       "Meghalaya                             0           3           4           8   \n",
       "\n",
       "states                       2020-07-05  2020-07-06  2020-07-07  2020-07-08  \\\n",
       "state                                                                         \n",
       "Andaman and Nicobar Islands           6          16           6           2   \n",
       "Andhra Pradesh                      998        1322        1178        1062   \n",
       "Maharashtra                        6555        5368        5134        6603   \n",
       "Manipur                              41          24          40           5   \n",
       "Meghalaya                             2          16           6           6   \n",
       "\n",
       "states                       2020-07-09  2020-07-10  ...  2020-09-30  \\\n",
       "state                                                ...               \n",
       "Andaman and Nicobar Islands           7           0  ...          14   \n",
       "Andhra Pradesh                     1555        1608  ...        6133   \n",
       "Maharashtra                        6875        7862  ...       18317   \n",
       "Manipur                              15         132  ...         237   \n",
       "Meghalaya                            13          73  ...         176   \n",
       "\n",
       "states                       2020-10-01  2020-10-02  2020-10-03  2020-10-04  \\\n",
       "state                                                                         \n",
       "Andaman and Nicobar Islands          13          10          10          16   \n",
       "Andhra Pradesh                     6751        6555        6224        6242   \n",
       "Maharashtra                       16476       15591       14348       12548   \n",
       "Manipur                             128         286         252         206   \n",
       "Meghalaya                           163         231         423         200   \n",
       "\n",
       "states                       2020-10-05  2020-10-06  2020-10-07  2020-10-08  \\\n",
       "state                                                                         \n",
       "Andaman and Nicobar Islands          15          13          23          17   \n",
       "Andhra Pradesh                     4256        5795        5120        5292   \n",
       "Maharashtra                       10244       12258       14578       13395   \n",
       "Manipur                             250         135         249         190   \n",
       "Meghalaya                           111         270         128         123   \n",
       "\n",
       "states                       2020-10-09  \n",
       "state                                    \n",
       "Andaman and Nicobar Islands           0  \n",
       "Andhra Pradesh                        0  \n",
       "Maharashtra                           0  \n",
       "Manipur                               0  \n",
       "Meghalaya                             0  \n",
       "\n",
       "[5 rows x 101 columns]"
      ]
     },
     "execution_count": 18,
     "metadata": {},
     "output_type": "execute_result"
    }
   ],
   "source": [
    "#hide\n",
    "dft_ct_new_cases.head()"
   ]
  },
  {
   "cell_type": "code",
   "execution_count": 19,
   "metadata": {
    "execution": {
     "iopub.execute_input": "2020-10-09T05:38:46.697858Z",
     "iopub.status.busy": "2020-10-09T05:38:46.697119Z",
     "iopub.status.idle": "2020-10-09T05:38:51.651859Z",
     "shell.execute_reply": "2020-10-09T05:38:51.653045Z"
    },
    "papermill": {
     "duration": 4.979057,
     "end_time": "2020-10-09T05:38:51.653248",
     "exception": false,
     "start_time": "2020-10-09T05:38:46.674191",
     "status": "completed"
    },
    "tags": []
   },
   "outputs": [
    {
     "data": {
      "image/png": "[encoded data removed]",
      "text/plain": [
       "<Figure size 1296x2016 with 11 Axes>"
      ]
     },
     "metadata": {
      "needs_background": "light"
     },
     "output_type": "display_data"
    }
   ],
   "source": [
    "#hide_input\n",
    "df = dft_ct_new_cases.copy()\n",
    "df.loc['Total'] = df.sum()\n",
    "n = 5\n",
    "ax = []\n",
    "fig = plt.figure(figsize = (18,28))\n",
    "gs = fig.add_gridspec(n+2, 5)\n",
    "# gs = fig.add_gridspec(2, 3)\n",
    "ax1 = fig.add_subplot(gs[0, :])\n",
    "ef = df.loc['Total'].rename_axis('date').reset_index()\n",
    "ef['date'] = ef['date'].astype('datetime64[ns]')\n",
    "ax1.bar(ef.date,ef.Total,alpha=0.3,color='#007acc')\n",
    "ax1.plot(ef.date,ef.Total , marker=\"o\", color='#007acc')\n",
    "ax1.xaxis.set_major_locator(mdates.WeekdayLocator())\n",
    "ax1.xaxis.set_major_formatter(mdates.DateFormatter('%b %d'))\n",
    "ax1.text(0.02, 0.5,'India daily case count', transform = ax1.transAxes, fontsize=25);\n",
    "ax1.spines['right'].set_visible(False)\n",
    "ax1.spines['top'].set_visible(False)\n",
    "\n",
    "ax2 = fig.add_subplot(gs[1,0])\n",
    "ef = df.loc['Maharashtra'].rename_axis('date').reset_index()\n",
    "ef['date'] = ef['date'].astype('datetime64[ns]')\n",
    "\n",
    "ax2.bar(ef.date, ef.Maharashtra,color = '#007acc',alpha=0.5)\n",
    "ax2.xaxis.set_major_locator(mdates.WeekdayLocator())\n",
    "ax2.xaxis.set_major_formatter(mdates.DateFormatter('%b %d'))\n",
    "ax2.set_xticks(ax2.get_xticks()[::3])\n",
    "maxyval = ef.Maharashtra.max()\n",
    "ax2.set_ylim([0,maxyval])\n",
    "ax2.text(0.05, 0.9,'Maharashtra', transform = ax2.transAxes, fontsize=20);\n",
    "ax2.spines['right'].set_visible(False)\n",
    "ax2.spines['top'].set_visible(False)\n",
    "\n",
    "\n",
    "ax3 = fig.add_subplot(gs[1,1])\n",
    "ef = df.loc['Tamil Nadu'].rename_axis('date').reset_index()\n",
    "ef['date'] = ef['date'].astype('datetime64[ns]')\n",
    "ax3.bar(ef.date, ef['Tamil Nadu'],color = '#007acc',alpha=0.5,)\n",
    "ax3.xaxis.set_major_locator(mdates.WeekdayLocator())\n",
    "ax3.xaxis.set_major_formatter(mdates.DateFormatter('%b %d'))\n",
    "ax3.set_xticks(ax3.get_xticks()[::3])\n",
    "ax3.text(0.05, 0.9,'Tamil Nadu', transform = ax3.transAxes, fontsize=20);\n",
    "ax3.spines['right'].set_visible(False)\n",
    "ax3.spines['top'].set_visible(False)\n",
    "\n",
    "ax5 = fig.add_subplot(gs[1,3])\n",
    "ef = df.loc['Telangana'].rename_axis('date').reset_index()\n",
    "ef['date'] = ef['date'].astype('datetime64[ns]')\n",
    "ax5.bar(ef.date, ef['Telangana'],color = '#007acc',alpha=0.5,)\n",
    "ax5.xaxis.set_major_locator(mdates.WeekdayLocator())\n",
    "ax5.xaxis.set_major_formatter(mdates.DateFormatter('%b %d'))\n",
    "ax5.set_xticks(ax5.get_xticks()[::3])\n",
    "ax5.text(0.05, 0.9,'Telangana', transform = ax5.transAxes, fontsize=20);\n",
    "ax5.spines['right'].set_visible(False)\n",
    "ax5.spines['top'].set_visible(False)\n",
    "\n",
    "ax6 = fig.add_subplot(gs[1,4])\n",
    "ef = df.loc['Andhra Pradesh'].rename_axis('date').reset_index()\n",
    "ef['date'] = ef['date'].astype('datetime64[ns]')\n",
    "ax6.bar(ef.date, ef['Andhra Pradesh'],color = '#007acc',alpha=0.5,)\n",
    "ax6.xaxis.set_major_locator(mdates.WeekdayLocator())\n",
    "ax6.xaxis.set_major_formatter(mdates.DateFormatter('%b %d'))\n",
    "ax6.set_xticks(ax6.get_xticks()[::3])\n",
    "ax6.text(0.05, 1,'Andhra Pradesh', transform = ax6.transAxes, fontsize=20);\n",
    "ax6.spines['right'].set_visible(False)\n",
    "ax6.spines['top'].set_visible(False)\n",
    "\n",
    "ax4 = fig.add_subplot(gs[1,2])\n",
    "ef = df.loc['Delhi'].rename_axis('date').reset_index()\n",
    "ef['date'] = ef['date'].astype('datetime64[ns]')\n",
    "ax4.bar(ef.date, ef.Delhi,color = '#007acc',alpha=0.5)\n",
    "ax4.set_xticks([])\n",
    "ax4.xaxis.set_major_locator(mdates.WeekdayLocator())\n",
    "ax4.xaxis.set_major_formatter(mdates.DateFormatter('%b %d'))\n",
    "ax4.set_xticks(ax4.get_xticks()[::3])\n",
    "ax4.spines['right'].set_visible(False)\n",
    "ax4.spines['top'].set_visible(False)\n",
    "\n",
    "ax4.text(0.05, 1,'Delhi', transform = ax4.transAxes, fontsize=20)\n",
    "\n",
    "for i in range(n):\n",
    "    \n",
    "    ax.append(fig.add_subplot(gs[i+2,:]))\n",
    "    ef = df.iloc[i+3].rename_axis('date').reset_index()\n",
    "    ef['date'] = ef['date'].astype('datetime64[ns]')\n",
    "    ax[i].bar(ef.date,ef.iloc[:,-1],color = '#007acc',alpha=0.3)\n",
    "    ax[i].plot(ef.date,ef.iloc[:,-1],marker='o',color='#007acc')\n",
    "    ax[i].text(0.02,0.5,f'{ef.columns.values[-1]}',transform = ax[i].transAxes, fontsize = 20);\n",
    "    ax[i].xaxis.set_major_locator(mdates.WeekdayLocator())\n",
    "    ax[i].xaxis.set_major_formatter(mdates.DateFormatter('%b %d'))\n",
    "    ax[i].set_ylim([0,7000])\n",
    "    ax[i].spines['right'].set_visible(False)\n",
    "    ax[i].spines['top'].set_visible(False)\n",
    "plt.tight_layout()\n"
   ]
  },
  {
   "cell_type": "code",
   "execution_count": 20,
   "metadata": {
    "execution": {
     "iopub.execute_input": "2020-10-09T05:38:51.714479Z",
     "iopub.status.busy": "2020-10-09T05:38:51.713834Z",
     "iopub.status.idle": "2020-10-09T05:38:51.720077Z",
     "shell.execute_reply": "2020-10-09T05:38:51.719457Z"
    },
    "papermill": {
     "duration": 0.040852,
     "end_time": "2020-10-09T05:38:51.720226",
     "exception": false,
     "start_time": "2020-10-09T05:38:51.679374",
     "status": "completed"
    },
    "tags": []
   },
   "outputs": [
    {
     "name": "stdout",
     "output_type": "stream",
     "text": [
      "                                   states    Cases  Deaths   PCases  PDeaths  Cases (+)  Deaths (+)  Fatality Rate\n",
      "                              Maharashtra  1493884   39430  1493884    39430          0           0           2.64\n",
      "                           Andhra Pradesh   739719    6128   739719     6128          0           0           0.83\n",
      "                                Karnataka   679356    9675   679356     9675          0           0           1.42\n",
      "                               Tamil Nadu   640943   10052   640943    10052          0           0           1.57\n",
      "                            Uttar Pradesh   427459    6245   427459     6245          0           0           1.46\n",
      "                                    Delhi   300833    5653   300833     5653          0           0           1.88\n",
      "                              West Bengal   284030    5439   284030     5439          0           0           1.91\n",
      "                                   Kerala   258851     931   258851      931          0           0           0.36\n",
      "                                   Odisha   244142    1027   244142     1027          0           0           0.42\n",
      "                                Telangana   206644    1201   206644     1201          0           0           0.58\n",
      "                                    Bihar   192671     929   192671      929          0           0           0.48\n",
      "                                    Assam   191397     794   191397      794          0           0           0.41\n",
      "                                Rajasthan   152605    1605   152605     1605          0           0           1.05\n",
      "                                  Gujarat   147950    3541   147950     3541          0           0           2.39\n",
      "                           Madhya Pradesh   142022    2547   142022     2547          0           0           1.79\n",
      "                                  Haryana   138682    1548   138682     1548          0           0           1.12\n",
      "                             Chhattisgarh   134612    1158   134612     1158          0           0           0.86\n",
      "                                   Punjab   121716    3741   121716     3741          0           0           3.07\n",
      "                                Jharkhand    90486     775    90486      775          0           0           0.86\n",
      "                        Jammu and Kashmir    81793    1291    81793     1291          0           0           1.58\n",
      "                              Uttarakhand    53359     702    53359      702          0           0           1.32\n",
      "                                      Goa    37102     484    37102      484          0           0           1.30\n",
      "                               Puducherry    30539     556    30539      556          0           0           1.82\n",
      "                                  Tripura    27756     301    27756      301          0           0           1.08\n",
      "                         Himachal Pradesh    16778     233    16778      233          0           0           1.39\n",
      "                               Chandigarh    12922     186    12922      186          0           0           1.44\n",
      "                                  Manipur    12679      83    12679       83          0           0           0.65\n",
      "                        Arunachal Pradesh    11479      22    11479       22          0           0           0.19\n",
      "                                Meghalaya     7288      60     7288       60          0           0           0.82\n",
      "                                 Nagaland     6736      12     6736       12          0           0           0.18\n",
      "                                   Ladakh     4902      63     4902       63          0           0           1.29\n",
      "              Andaman and Nicobar Islands     3952      55     3952       55          0           0           1.39\n",
      "                                   Sikkim     3246      52     3246       52          0           0           1.60\n",
      " Dadra and Nagar Haveli and Daman and Diu     3129       2     3129        2          0           0           0.06\n",
      "                                  Mizoram     2150       0     2150        0          0           0           0.00\n",
      "                              Lakshadweep        0       0        0        0          0           0            NaN\n"
     ]
    }
   ],
   "source": [
    "#hide_input\n",
    "print(df_table.to_string(index=False))"
   ]
  },
  {
   "cell_type": "code",
   "execution_count": null,
   "metadata": {
    "papermill": {
     "duration": 0.026417,
     "end_time": "2020-10-09T05:38:51.773045",
     "exception": false,
     "start_time": "2020-10-09T05:38:51.746628",
     "status": "completed"
    },
    "tags": []
   },
   "outputs": [],
   "source": []
  },
  {
   "cell_type": "code",
   "execution_count": null,
   "metadata": {
    "papermill": {
     "duration": 0.029984,
     "end_time": "2020-10-09T05:38:51.828928",
     "exception": false,
     "start_time": "2020-10-09T05:38:51.798944",
     "status": "completed"
    },
    "tags": []
   },
   "outputs": [],
   "source": []
  }
 ],
 "metadata": {
  "kernelspec": {
   "display_name": "Python 3",
   "language": "python",
   "name": "python3"
  },
  "language_info": {
   "codemirror_mode": {
    "name": "ipython",
    "version": 3
   },
   "file_extension": ".py",
   "mimetype": "text/x-python",
   "name": "python",
   "nbconvert_exporter": "python",
   "pygments_lexer": "ipython3",
   "version": "3.6.12"
  },
  "papermill": {
   "duration": 12.773001,
   "end_time": "2020-10-09T05:38:52.367134",
   "environment_variables": {},
   "exception": null,
   "input_path": "latest.ipynb",
   "output_path": "latest.ipynb",
   "parameters": {},
   "start_time": "2020-10-09T05:38:39.594133",
   "version": "2.1.2"
  }
 },
 "nbformat": 4,
 "nbformat_minor": 4
}