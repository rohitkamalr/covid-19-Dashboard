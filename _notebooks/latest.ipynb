{
 "cells": [
  {
   "cell_type": "markdown",
   "metadata": {
    "papermill": {
     "duration": 0.016714,
     "end_time": "2020-10-22T05:52:11.168415",
     "exception": false,
     "start_time": "2020-10-22T05:52:11.151701",
     "status": "completed"
    },
    "tags": []
   },
   "source": [
    "# Latest COVID-19 India Matplotlib Overview"
   ]
  },
  {
   "cell_type": "code",
   "execution_count": 1,
   "metadata": {
    "execution": {
     "iopub.execute_input": "2020-10-22T05:52:11.211474Z",
     "iopub.status.busy": "2020-10-22T05:52:11.210963Z",
     "iopub.status.idle": "2020-10-22T05:52:11.730091Z",
     "shell.execute_reply": "2020-10-22T05:52:11.729473Z"
    },
    "papermill": {
     "duration": 0.541091,
     "end_time": "2020-10-22T05:52:11.730281",
     "exception": false,
     "start_time": "2020-10-22T05:52:11.189190",
     "status": "completed"
    },
    "tags": []
   },
   "outputs": [],
   "source": [
    "#hide\n",
    "import pandas as pd\n",
    "import numpy as np\n",
    "import requests\n",
    "import json\n",
    "import matplotlib.pyplot as plt\n",
    "import matplotlib.dates as mdates\n",
    "import matplotlib as mpl\n",
    "from IPython.core.display import display,HTML\n",
    "%matplotlib inline\n",
    "from datetime import date"
   ]
  },
  {
   "cell_type": "code",
   "execution_count": 2,
   "metadata": {
    "execution": {
     "iopub.execute_input": "2020-10-22T05:52:11.764989Z",
     "iopub.status.busy": "2020-10-22T05:52:11.764467Z",
     "iopub.status.idle": "2020-10-22T05:52:11.897333Z",
     "shell.execute_reply": "2020-10-22T05:52:11.897857Z"
    },
    "papermill": {
     "duration": 0.153254,
     "end_time": "2020-10-22T05:52:11.898045",
     "exception": false,
     "start_time": "2020-10-22T05:52:11.744791",
     "status": "completed"
    },
    "tags": []
   },
   "outputs": [],
   "source": [
    "#hide\n",
    "df  = pd.read_csv('https://api.covid19india.org/csv/latest/states.csv')\n",
    "df = df[['Date','State','Confirmed','Deceased']]\n",
    "df = df.rename(columns={'Confirmed':'Cases', \"Deceased\":'Deaths'})\n",
    "df_cases = df[[\"Date\",'State','Cases']]\n",
    "df_deaths = df[['Date','State','Deaths']]\n",
    "df_cases1 = df_cases.groupby('Date')\n",
    "df_deaths1= df_deaths.groupby('Date')"
   ]
  },
  {
   "cell_type": "code",
   "execution_count": 3,
   "metadata": {
    "execution": {
     "iopub.execute_input": "2020-10-22T05:52:11.928913Z",
     "iopub.status.busy": "2020-10-22T05:52:11.928419Z",
     "iopub.status.idle": "2020-10-22T05:52:11.942433Z",
     "shell.execute_reply": "2020-10-22T05:52:11.941229Z"
    },
    "papermill": {
     "duration": 0.030811,
     "end_time": "2020-10-22T05:52:11.942581",
     "exception": false,
     "start_time": "2020-10-22T05:52:11.911770",
     "status": "completed"
    },
    "tags": []
   },
   "outputs": [],
   "source": [
    "#hide\n",
    "df_snap = pd.read_csv('data/SnapshotCases-28-July.csv')\n",
    "arr_states = df_snap['states'].unique()\n",
    "arr_dates = df['Date'].unique()\n",
    "df_snap = df_snap.set_index('states')"
   ]
  },
  {
   "cell_type": "code",
   "execution_count": 4,
   "metadata": {
    "execution": {
     "iopub.execute_input": "2020-10-22T05:52:11.974351Z",
     "iopub.status.busy": "2020-10-22T05:52:11.973810Z",
     "iopub.status.idle": "2020-10-22T05:52:11.976129Z",
     "shell.execute_reply": "2020-10-22T05:52:11.976612Z"
    },
    "papermill": {
     "duration": 0.021107,
     "end_time": "2020-10-22T05:52:11.976734",
     "exception": false,
     "start_time": "2020-10-22T05:52:11.955627",
     "status": "completed"
    },
    "tags": []
   },
   "outputs": [
    {
     "data": {
      "text/plain": [
       "array(['Andaman and Nicobar Islands', 'Andhra Pradesh',\n",
       "       'Arunachal Pradesh', 'Assam', 'Bihar', 'Chandigarh',\n",
       "       'Dadra and Nagar Haveli and Daman and Diu', 'Delhi', 'Goa',\n",
       "       'Gujarat', 'Haryana', 'Himachal Pradesh', 'Jammu and Kashmir',\n",
       "       'Jharkhand', 'Karnataka', 'Kerala', 'Lakshadweep',\n",
       "       'Madhya Pradesh', 'Maharashtra', 'Manipur', 'Meghalaya', 'Mizoram',\n",
       "       'Nagaland', 'Odisha', 'Puducherry', 'Punjab', 'Rajasthan',\n",
       "       'Sikkim', 'Tamil Nadu', 'Telangana', 'Tripura', 'Uttar Pradesh',\n",
       "       'West Bengal', 'Chhattisgarh', 'Ladakh', 'Uttarakhand'],\n",
       "      dtype=object)"
      ]
     },
     "execution_count": 4,
     "metadata": {},
     "output_type": "execute_result"
    }
   ],
   "source": [
    "#hide\n",
    "arr_states[-9] = 'Puducherry'\n",
    "arr_states[-10] = 'Odisha'\n",
    "arr_states[6] = 'Dadra and Nagar Haveli and Daman and Diu'\n",
    "arr_states = np.append(arr_states,np.array(['Chhattisgarh','Ladakh','Uttarakhand']))\n",
    "arr_states"
   ]
  },
  {
   "cell_type": "code",
   "execution_count": 5,
   "metadata": {
    "execution": {
     "iopub.execute_input": "2020-10-22T05:52:12.008856Z",
     "iopub.status.busy": "2020-10-22T05:52:12.008427Z",
     "iopub.status.idle": "2020-10-22T05:52:12.015487Z",
     "shell.execute_reply": "2020-10-22T05:52:12.015107Z"
    },
    "papermill": {
     "duration": 0.026772,
     "end_time": "2020-10-22T05:52:12.015591",
     "exception": false,
     "start_time": "2020-10-22T05:52:11.988819",
     "status": "completed"
    },
    "tags": []
   },
   "outputs": [],
   "source": [
    "#hide\n",
    "dates = []\n",
    "for i in arr_dates:\n",
    "    if i>='2020-07-01':\n",
    "        dates.append(i)\n",
    "dict = {'states':dates}\n",
    "for i in arr_states:\n",
    "    dict[i] = [0]*len(dates)\n",
    "dft_cases = pd.DataFrame(dict)\n",
    "dft_deaths = pd.DataFrame(dict)\n"
   ]
  },
  {
   "cell_type": "code",
   "execution_count": 6,
   "metadata": {
    "execution": {
     "iopub.execute_input": "2020-10-22T05:52:12.045500Z",
     "iopub.status.busy": "2020-10-22T05:52:12.044951Z",
     "iopub.status.idle": "2020-10-22T05:52:13.482638Z",
     "shell.execute_reply": "2020-10-22T05:52:13.482030Z"
    },
    "papermill": {
     "duration": 1.454627,
     "end_time": "2020-10-22T05:52:13.482755",
     "exception": false,
     "start_time": "2020-10-22T05:52:12.028128",
     "status": "completed"
    },
    "tags": []
   },
   "outputs": [],
   "source": [
    "#hide\n",
    "for i in range(len(dates)):\n",
    "    df1_deaths = df_deaths1.get_group(dates[i])\n",
    "    for j in range(len(df1_deaths.index)):\n",
    "        if df1_deaths.iloc[j,1] in arr_states:\n",
    "            dft_deaths.loc[i,df1_deaths.iloc[j,1]] = df1_deaths.iloc[j,2]\n",
    "dft_deaths = dft_deaths.set_index('states')"
   ]
  },
  {
   "cell_type": "code",
   "execution_count": 7,
   "metadata": {
    "execution": {
     "iopub.execute_input": "2020-10-22T05:52:13.515615Z",
     "iopub.status.busy": "2020-10-22T05:52:13.515144Z",
     "iopub.status.idle": "2020-10-22T05:52:14.854255Z",
     "shell.execute_reply": "2020-10-22T05:52:14.853642Z"
    },
    "papermill": {
     "duration": 1.358094,
     "end_time": "2020-10-22T05:52:14.854421",
     "exception": false,
     "start_time": "2020-10-22T05:52:13.496327",
     "status": "completed"
    },
    "tags": []
   },
   "outputs": [],
   "source": [
    "#hide\n",
    "for i in range(len(dates)):\n",
    "    df1_cases = df_cases1.get_group(dates[i])\n",
    "    for j in range(len(df1_cases.index)):\n",
    "        if df1_cases.iloc[j,1] in arr_states:\n",
    "            dft_cases.loc[i,df1_cases.iloc[j,1]] = df1_cases.iloc[j,2]\n",
    "dft_cases = dft_cases.set_index('states')"
   ]
  },
  {
   "cell_type": "code",
   "execution_count": 8,
   "metadata": {
    "execution": {
     "iopub.execute_input": "2020-10-22T05:52:14.889670Z",
     "iopub.status.busy": "2020-10-22T05:52:14.888782Z",
     "iopub.status.idle": "2020-10-22T05:52:14.890375Z",
     "shell.execute_reply": "2020-10-22T05:52:14.890759Z"
    },
    "papermill": {
     "duration": 0.021,
     "end_time": "2020-10-22T05:52:14.890878",
     "exception": false,
     "start_time": "2020-10-22T05:52:14.869878",
     "status": "completed"
    },
    "tags": []
   },
   "outputs": [],
   "source": [
    "#hide\n",
    "dft_cases = dft_cases.T\n",
    "dft_deaths = dft_deaths.T\n",
    "dt_today = dates[-1]\n",
    "dt_yday = dates[-2]"
   ]
  },
  {
   "cell_type": "code",
   "execution_count": 9,
   "metadata": {
    "execution": {
     "iopub.execute_input": "2020-10-22T05:52:14.925686Z",
     "iopub.status.busy": "2020-10-22T05:52:14.925204Z",
     "iopub.status.idle": "2020-10-22T05:52:14.927992Z",
     "shell.execute_reply": "2020-10-22T05:52:14.927542Z"
    },
    "papermill": {
     "duration": 0.023535,
     "end_time": "2020-10-22T05:52:14.928115",
     "exception": false,
     "start_time": "2020-10-22T05:52:14.904580",
     "status": "completed"
    },
    "tags": []
   },
   "outputs": [],
   "source": [
    "#hide\n",
    "dft_cases = dft_cases.reset_index()\n",
    "dft_deaths = dft_deaths.reset_index()\n",
    "dft_cases = dft_cases.rename(columns = {'index':'state'})\n",
    "dft_deaths = dft_deaths.rename(columns = {'index':'state'})"
   ]
  },
  {
   "cell_type": "code",
   "execution_count": 10,
   "metadata": {
    "execution": {
     "iopub.execute_input": "2020-10-22T05:52:14.964581Z",
     "iopub.status.busy": "2020-10-22T05:52:14.964093Z",
     "iopub.status.idle": "2020-10-22T05:52:14.966160Z",
     "shell.execute_reply": "2020-10-22T05:52:14.965806Z"
    },
    "papermill": {
     "duration": 0.025039,
     "end_time": "2020-10-22T05:52:14.966250",
     "exception": false,
     "start_time": "2020-10-22T05:52:14.941211",
     "status": "completed"
    },
    "tags": []
   },
   "outputs": [],
   "source": [
    "#hide\n",
    "dfc_cases = dft_cases.groupby('state')[dt_today].sum()\n",
    "dfc_deaths = dft_deaths.groupby('state')[dt_today].sum()\n",
    "dfp_cases = dft_cases.groupby('state')[dt_yday].sum()\n",
    "dfp_deaths = dft_deaths.groupby('state')[dt_yday].sum()"
   ]
  },
  {
   "cell_type": "code",
   "execution_count": 11,
   "metadata": {
    "execution": {
     "iopub.execute_input": "2020-10-22T05:52:15.005020Z",
     "iopub.status.busy": "2020-10-22T05:52:15.001374Z",
     "iopub.status.idle": "2020-10-22T05:52:15.010597Z",
     "shell.execute_reply": "2020-10-22T05:52:15.010246Z"
    },
    "papermill": {
     "duration": 0.032254,
     "end_time": "2020-10-22T05:52:15.010684",
     "exception": false,
     "start_time": "2020-10-22T05:52:14.978430",
     "status": "completed"
    },
    "tags": []
   },
   "outputs": [
    {
     "data": {
      "text/html": [
       "<div>\n",
       "<style scoped>\n",
       "    .dataframe tbody tr th:only-of-type {\n",
       "        vertical-align: middle;\n",
       "    }\n",
       "\n",
       "    .dataframe tbody tr th {\n",
       "        vertical-align: top;\n",
       "    }\n",
       "\n",
       "    .dataframe thead th {\n",
       "        text-align: right;\n",
       "    }\n",
       "</style>\n",
       "<table border=\"1\" class=\"dataframe\">\n",
       "  <thead>\n",
       "    <tr style=\"text-align: right;\">\n",
       "      <th></th>\n",
       "      <th>states</th>\n",
       "      <th>Cases</th>\n",
       "      <th>Deaths</th>\n",
       "      <th>PCases</th>\n",
       "      <th>PDeaths</th>\n",
       "    </tr>\n",
       "  </thead>\n",
       "  <tbody>\n",
       "    <tr>\n",
       "      <th>0</th>\n",
       "      <td>Maharashtra</td>\n",
       "      <td>1617658</td>\n",
       "      <td>42633</td>\n",
       "      <td>1617658</td>\n",
       "      <td>42633</td>\n",
       "    </tr>\n",
       "    <tr>\n",
       "      <th>1</th>\n",
       "      <td>Andhra Pradesh</td>\n",
       "      <td>793299</td>\n",
       "      <td>6508</td>\n",
       "      <td>793299</td>\n",
       "      <td>6508</td>\n",
       "    </tr>\n",
       "    <tr>\n",
       "      <th>2</th>\n",
       "      <td>Karnataka</td>\n",
       "      <td>782773</td>\n",
       "      <td>10696</td>\n",
       "      <td>782773</td>\n",
       "      <td>10696</td>\n",
       "    </tr>\n",
       "    <tr>\n",
       "      <th>3</th>\n",
       "      <td>Tamil Nadu</td>\n",
       "      <td>697116</td>\n",
       "      <td>10780</td>\n",
       "      <td>697116</td>\n",
       "      <td>10780</td>\n",
       "    </tr>\n",
       "    <tr>\n",
       "      <th>4</th>\n",
       "      <td>Uttar Pradesh</td>\n",
       "      <td>461475</td>\n",
       "      <td>6755</td>\n",
       "      <td>461475</td>\n",
       "      <td>6755</td>\n",
       "    </tr>\n",
       "  </tbody>\n",
       "</table>\n",
       "</div>"
      ],
      "text/plain": [
       "           states    Cases  Deaths   PCases  PDeaths\n",
       "0     Maharashtra  1617658   42633  1617658    42633\n",
       "1  Andhra Pradesh   793299    6508   793299     6508\n",
       "2       Karnataka   782773   10696   782773    10696\n",
       "3      Tamil Nadu   697116   10780   697116    10780\n",
       "4   Uttar Pradesh   461475    6755   461475     6755"
      ]
     },
     "execution_count": 11,
     "metadata": {},
     "output_type": "execute_result"
    }
   ],
   "source": [
    "#hide\n",
    "df_table = pd.DataFrame({'states': dfc_cases.index, 'Cases': dfc_cases.values, 'Deaths': dfc_deaths.values, 'PCases': dfp_cases.values, 'PDeaths': dfp_deaths.values}).set_index('states')\n",
    "df_table = df_table.sort_values(by = ['Cases','Deaths'], ascending = [False, False])\n",
    "df_table = df_table.reset_index()\n",
    "df_table.head()"
   ]
  },
  {
   "cell_type": "code",
   "execution_count": 12,
   "metadata": {
    "execution": {
     "iopub.execute_input": "2020-10-22T05:52:15.042155Z",
     "iopub.status.busy": "2020-10-22T05:52:15.041626Z",
     "iopub.status.idle": "2020-10-22T05:52:15.049197Z",
     "shell.execute_reply": "2020-10-22T05:52:15.048791Z"
    },
    "papermill": {
     "duration": 0.025625,
     "end_time": "2020-10-22T05:52:15.049299",
     "exception": false,
     "start_time": "2020-10-22T05:52:15.023674",
     "status": "completed"
    },
    "tags": []
   },
   "outputs": [],
   "source": [
    "#hide\n",
    "for c in 'Cases, Deaths'.split(', '):\n",
    "    df_table[f'{c} (+)'] = (df_table[c] - df_table[f'P{c}']).clip(0)\n",
    "df_table['Fatality Rate'] = (100* df_table['Deaths']/ df_table['Cases']).round(2)"
   ]
  },
  {
   "cell_type": "code",
   "execution_count": 13,
   "metadata": {
    "execution": {
     "iopub.execute_input": "2020-10-22T05:52:15.088648Z",
     "iopub.status.busy": "2020-10-22T05:52:15.088170Z",
     "iopub.status.idle": "2020-10-22T05:52:15.091723Z",
     "shell.execute_reply": "2020-10-22T05:52:15.091285Z"
    },
    "papermill": {
     "duration": 0.029503,
     "end_time": "2020-10-22T05:52:15.091839",
     "exception": false,
     "start_time": "2020-10-22T05:52:15.062336",
     "status": "completed"
    },
    "tags": []
   },
   "outputs": [
    {
     "data": {
      "text/html": [
       "<div>\n",
       "<style scoped>\n",
       "    .dataframe tbody tr th:only-of-type {\n",
       "        vertical-align: middle;\n",
       "    }\n",
       "\n",
       "    .dataframe tbody tr th {\n",
       "        vertical-align: top;\n",
       "    }\n",
       "\n",
       "    .dataframe thead th {\n",
       "        text-align: right;\n",
       "    }\n",
       "</style>\n",
       "<table border=\"1\" class=\"dataframe\">\n",
       "  <thead>\n",
       "    <tr style=\"text-align: right;\">\n",
       "      <th></th>\n",
       "      <th>states</th>\n",
       "      <th>Cases</th>\n",
       "      <th>Deaths</th>\n",
       "      <th>PCases</th>\n",
       "      <th>PDeaths</th>\n",
       "      <th>Cases (+)</th>\n",
       "      <th>Deaths (+)</th>\n",
       "      <th>Fatality Rate</th>\n",
       "    </tr>\n",
       "  </thead>\n",
       "  <tbody>\n",
       "    <tr>\n",
       "      <th>0</th>\n",
       "      <td>Maharashtra</td>\n",
       "      <td>1617658</td>\n",
       "      <td>42633</td>\n",
       "      <td>1617658</td>\n",
       "      <td>42633</td>\n",
       "      <td>0</td>\n",
       "      <td>0</td>\n",
       "      <td>2.64</td>\n",
       "    </tr>\n",
       "    <tr>\n",
       "      <th>1</th>\n",
       "      <td>Andhra Pradesh</td>\n",
       "      <td>793299</td>\n",
       "      <td>6508</td>\n",
       "      <td>793299</td>\n",
       "      <td>6508</td>\n",
       "      <td>0</td>\n",
       "      <td>0</td>\n",
       "      <td>0.82</td>\n",
       "    </tr>\n",
       "    <tr>\n",
       "      <th>2</th>\n",
       "      <td>Karnataka</td>\n",
       "      <td>782773</td>\n",
       "      <td>10696</td>\n",
       "      <td>782773</td>\n",
       "      <td>10696</td>\n",
       "      <td>0</td>\n",
       "      <td>0</td>\n",
       "      <td>1.37</td>\n",
       "    </tr>\n",
       "    <tr>\n",
       "      <th>3</th>\n",
       "      <td>Tamil Nadu</td>\n",
       "      <td>697116</td>\n",
       "      <td>10780</td>\n",
       "      <td>697116</td>\n",
       "      <td>10780</td>\n",
       "      <td>0</td>\n",
       "      <td>0</td>\n",
       "      <td>1.55</td>\n",
       "    </tr>\n",
       "    <tr>\n",
       "      <th>4</th>\n",
       "      <td>Uttar Pradesh</td>\n",
       "      <td>461475</td>\n",
       "      <td>6755</td>\n",
       "      <td>461475</td>\n",
       "      <td>6755</td>\n",
       "      <td>0</td>\n",
       "      <td>0</td>\n",
       "      <td>1.46</td>\n",
       "    </tr>\n",
       "  </tbody>\n",
       "</table>\n",
       "</div>"
      ],
      "text/plain": [
       "           states    Cases  Deaths   PCases  PDeaths  Cases (+)  Deaths (+)  \\\n",
       "0     Maharashtra  1617658   42633  1617658    42633          0           0   \n",
       "1  Andhra Pradesh   793299    6508   793299     6508          0           0   \n",
       "2       Karnataka   782773   10696   782773    10696          0           0   \n",
       "3      Tamil Nadu   697116   10780   697116    10780          0           0   \n",
       "4   Uttar Pradesh   461475    6755   461475     6755          0           0   \n",
       "\n",
       "   Fatality Rate  \n",
       "0           2.64  \n",
       "1           0.82  \n",
       "2           1.37  \n",
       "3           1.55  \n",
       "4           1.46  "
      ]
     },
     "execution_count": 13,
     "metadata": {},
     "output_type": "execute_result"
    }
   ],
   "source": [
    "#hide\n",
    "df_table.head()"
   ]
  },
  {
   "cell_type": "code",
   "execution_count": 14,
   "metadata": {
    "execution": {
     "iopub.execute_input": "2020-10-22T05:52:15.123524Z",
     "iopub.status.busy": "2020-10-22T05:52:15.123109Z",
     "iopub.status.idle": "2020-10-22T05:52:15.136676Z",
     "shell.execute_reply": "2020-10-22T05:52:15.137040Z"
    },
    "papermill": {
     "duration": 0.032005,
     "end_time": "2020-10-22T05:52:15.137168",
     "exception": false,
     "start_time": "2020-10-22T05:52:15.105163",
     "status": "completed"
    },
    "tags": []
   },
   "outputs": [
    {
     "data": {
      "text/plain": [
       "{'updated': '2020-10-22',\n",
       " 'since': '2020-10-21',\n",
       " 'Cases': 7705158,\n",
       " 'PCases': 7705158,\n",
       " 'Deaths': 116653,\n",
       " 'PDeaths': 116653,\n",
       " 'Cases (+)': 0,\n",
       " 'Deaths (+)': 0}"
      ]
     },
     "execution_count": 14,
     "metadata": {},
     "output_type": "execute_result"
    }
   ],
   "source": [
    "#hide\n",
    "summary = {'updated':dates[-1], 'since':dates[-2]}\n",
    "list_names = ['Cases', 'PCases', 'Deaths', 'PDeaths', 'Cases (+)', 'Deaths (+)']\n",
    "for name in list_names:\n",
    "    summary[name] = df_table.sum()[name]\n",
    "summary"
   ]
  },
  {
   "cell_type": "code",
   "execution_count": 15,
   "metadata": {
    "execution": {
     "iopub.execute_input": "2020-10-22T05:52:15.167616Z",
     "iopub.status.busy": "2020-10-22T05:52:15.166927Z",
     "iopub.status.idle": "2020-10-22T05:52:15.168320Z",
     "shell.execute_reply": "2020-10-22T05:52:15.168930Z"
    },
    "papermill": {
     "duration": 0.018737,
     "end_time": "2020-10-22T05:52:15.169084",
     "exception": false,
     "start_time": "2020-10-22T05:52:15.150347",
     "status": "completed"
    },
    "tags": []
   },
   "outputs": [],
   "source": [
    "#hide\n",
    "overview = '''\n",
    "<!-- #######  HTML!! #########-->\n",
    "<h1 style=\"color: #5e9ca0; text-align: center;\">India</h1>\n",
    "<p style=\"text-align: center;\">Last update: <strong>{update}</strong></p>\n",
    "<p style=\"text-align: center;\">Confirmed cases:</p>\n",
    "<p style=\"text-align: center;font-size:24px;\">{cases} (<span style=\"color: #ff0000;\">+{new}</span>)</p>\n",
    "<p style=\"text-align: center;\">Confirmed deaths:</p>\n",
    "<p style=\"text-align: center;font-size:24px;\">{deaths} (<span style=\"color: #ff0000;\">+{dnew}</span>)</p>\n",
    "'''"
   ]
  },
  {
   "cell_type": "code",
   "execution_count": 16,
   "metadata": {
    "execution": {
     "iopub.execute_input": "2020-10-22T05:52:15.204034Z",
     "iopub.status.busy": "2020-10-22T05:52:15.203515Z",
     "iopub.status.idle": "2020-10-22T05:52:15.206050Z",
     "shell.execute_reply": "2020-10-22T05:52:15.205697Z"
    },
    "papermill": {
     "duration": 0.02195,
     "end_time": "2020-10-22T05:52:15.206137",
     "exception": false,
     "start_time": "2020-10-22T05:52:15.184187",
     "status": "completed"
    },
    "tags": []
   },
   "outputs": [
    {
     "data": {
      "text/html": [
       "\n",
       "<!-- #######  HTML!! #########-->\n",
       "<h1 style=\"color: #5e9ca0; text-align: center;\">India</h1>\n",
       "<p style=\"text-align: center;\">Last update: <strong>2020-10-22</strong></p>\n",
       "<p style=\"text-align: center;\">Confirmed cases:</p>\n",
       "<p style=\"text-align: center;font-size:24px;\">7705158 (<span style=\"color: #ff0000;\">+0</span>)</p>\n",
       "<p style=\"text-align: center;\">Confirmed deaths:</p>\n",
       "<p style=\"text-align: center;font-size:24px;\">116653 (<span style=\"color: #ff0000;\">+0</span>)</p>\n"
      ],
      "text/plain": [
       "<IPython.core.display.HTML object>"
      ]
     },
     "metadata": {},
     "output_type": "display_data"
    }
   ],
   "source": [
    "#hide_input\n",
    "update = summary['updated']\n",
    "cases = summary['Cases']\n",
    "new = summary['Cases (+)']\n",
    "deaths = summary['Deaths']\n",
    "dnew = summary['Deaths (+)']\n",
    "\n",
    "html = HTML(overview.format(update=update, cases=cases,new=new,deaths=deaths,dnew=dnew))\n",
    "\n",
    "display(html)"
   ]
  },
  {
   "cell_type": "code",
   "execution_count": 17,
   "metadata": {
    "execution": {
     "iopub.execute_input": "2020-10-22T05:52:15.245967Z",
     "iopub.status.busy": "2020-10-22T05:52:15.245416Z",
     "iopub.status.idle": "2020-10-22T05:52:15.249741Z",
     "shell.execute_reply": "2020-10-22T05:52:15.250107Z"
    },
    "papermill": {
     "duration": 0.028771,
     "end_time": "2020-10-22T05:52:15.250225",
     "exception": false,
     "start_time": "2020-10-22T05:52:15.221454",
     "status": "completed"
    },
    "tags": []
   },
   "outputs": [],
   "source": [
    "#hide\n",
    "dt_cols = list(dft_cases.columns[1:])\n",
    "dft_ct_new_cases = dft_cases.groupby('state')[dt_cols].sum().diff(axis=1).fillna(0).astype(int)\n",
    "dft_ct_new_cases.sort_values(by = dates[-1], ascending = False,inplace = True)"
   ]
  },
  {
   "cell_type": "code",
   "execution_count": 18,
   "metadata": {
    "execution": {
     "iopub.execute_input": "2020-10-22T05:52:15.285328Z",
     "iopub.status.busy": "2020-10-22T05:52:15.284516Z",
     "iopub.status.idle": "2020-10-22T05:52:15.294356Z",
     "shell.execute_reply": "2020-10-22T05:52:15.293797Z"
    },
    "papermill": {
     "duration": 0.03103,
     "end_time": "2020-10-22T05:52:15.294470",
     "exception": false,
     "start_time": "2020-10-22T05:52:15.263440",
     "status": "completed"
    },
    "tags": []
   },
   "outputs": [
    {
     "data": {
      "text/html": [
       "<div>\n",
       "<style scoped>\n",
       "    .dataframe tbody tr th:only-of-type {\n",
       "        vertical-align: middle;\n",
       "    }\n",
       "\n",
       "    .dataframe tbody tr th {\n",
       "        vertical-align: top;\n",
       "    }\n",
       "\n",
       "    .dataframe thead th {\n",
       "        text-align: right;\n",
       "    }\n",
       "</style>\n",
       "<table border=\"1\" class=\"dataframe\">\n",
       "  <thead>\n",
       "    <tr style=\"text-align: right;\">\n",
       "      <th>states</th>\n",
       "      <th>2020-07-01</th>\n",
       "      <th>2020-07-02</th>\n",
       "      <th>2020-07-03</th>\n",
       "      <th>2020-07-04</th>\n",
       "      <th>2020-07-05</th>\n",
       "      <th>2020-07-06</th>\n",
       "      <th>2020-07-07</th>\n",
       "      <th>2020-07-08</th>\n",
       "      <th>2020-07-09</th>\n",
       "      <th>2020-07-10</th>\n",
       "      <th>...</th>\n",
       "      <th>2020-10-13</th>\n",
       "      <th>2020-10-14</th>\n",
       "      <th>2020-10-15</th>\n",
       "      <th>2020-10-16</th>\n",
       "      <th>2020-10-17</th>\n",
       "      <th>2020-10-18</th>\n",
       "      <th>2020-10-19</th>\n",
       "      <th>2020-10-20</th>\n",
       "      <th>2020-10-21</th>\n",
       "      <th>2020-10-22</th>\n",
       "    </tr>\n",
       "    <tr>\n",
       "      <th>state</th>\n",
       "      <th></th>\n",
       "      <th></th>\n",
       "      <th></th>\n",
       "      <th></th>\n",
       "      <th></th>\n",
       "      <th></th>\n",
       "      <th></th>\n",
       "      <th></th>\n",
       "      <th></th>\n",
       "      <th></th>\n",
       "      <th></th>\n",
       "      <th></th>\n",
       "      <th></th>\n",
       "      <th></th>\n",
       "      <th></th>\n",
       "      <th></th>\n",
       "      <th></th>\n",
       "      <th></th>\n",
       "      <th></th>\n",
       "      <th></th>\n",
       "      <th></th>\n",
       "    </tr>\n",
       "  </thead>\n",
       "  <tbody>\n",
       "    <tr>\n",
       "      <th>Andaman and Nicobar Islands</th>\n",
       "      <td>0</td>\n",
       "      <td>9</td>\n",
       "      <td>7</td>\n",
       "      <td>3</td>\n",
       "      <td>6</td>\n",
       "      <td>16</td>\n",
       "      <td>6</td>\n",
       "      <td>2</td>\n",
       "      <td>7</td>\n",
       "      <td>0</td>\n",
       "      <td>...</td>\n",
       "      <td>13</td>\n",
       "      <td>10</td>\n",
       "      <td>16</td>\n",
       "      <td>10</td>\n",
       "      <td>11</td>\n",
       "      <td>25</td>\n",
       "      <td>18</td>\n",
       "      <td>15</td>\n",
       "      <td>27</td>\n",
       "      <td>0</td>\n",
       "    </tr>\n",
       "    <tr>\n",
       "      <th>Andhra Pradesh</th>\n",
       "      <td>0</td>\n",
       "      <td>845</td>\n",
       "      <td>837</td>\n",
       "      <td>765</td>\n",
       "      <td>998</td>\n",
       "      <td>1322</td>\n",
       "      <td>1178</td>\n",
       "      <td>1062</td>\n",
       "      <td>1555</td>\n",
       "      <td>1608</td>\n",
       "      <td>...</td>\n",
       "      <td>4622</td>\n",
       "      <td>3892</td>\n",
       "      <td>4038</td>\n",
       "      <td>3967</td>\n",
       "      <td>3676</td>\n",
       "      <td>3986</td>\n",
       "      <td>2918</td>\n",
       "      <td>3503</td>\n",
       "      <td>3746</td>\n",
       "      <td>0</td>\n",
       "    </tr>\n",
       "    <tr>\n",
       "      <th>Maharashtra</th>\n",
       "      <td>0</td>\n",
       "      <td>6328</td>\n",
       "      <td>6364</td>\n",
       "      <td>7074</td>\n",
       "      <td>6555</td>\n",
       "      <td>5368</td>\n",
       "      <td>5134</td>\n",
       "      <td>6603</td>\n",
       "      <td>6875</td>\n",
       "      <td>7862</td>\n",
       "      <td>...</td>\n",
       "      <td>8522</td>\n",
       "      <td>10552</td>\n",
       "      <td>10226</td>\n",
       "      <td>11447</td>\n",
       "      <td>10259</td>\n",
       "      <td>9060</td>\n",
       "      <td>5984</td>\n",
       "      <td>8151</td>\n",
       "      <td>8142</td>\n",
       "      <td>0</td>\n",
       "    </tr>\n",
       "    <tr>\n",
       "      <th>Manipur</th>\n",
       "      <td>0</td>\n",
       "      <td>19</td>\n",
       "      <td>37</td>\n",
       "      <td>9</td>\n",
       "      <td>41</td>\n",
       "      <td>24</td>\n",
       "      <td>40</td>\n",
       "      <td>5</td>\n",
       "      <td>15</td>\n",
       "      <td>132</td>\n",
       "      <td>...</td>\n",
       "      <td>237</td>\n",
       "      <td>301</td>\n",
       "      <td>284</td>\n",
       "      <td>337</td>\n",
       "      <td>426</td>\n",
       "      <td>322</td>\n",
       "      <td>315</td>\n",
       "      <td>284</td>\n",
       "      <td>214</td>\n",
       "      <td>0</td>\n",
       "    </tr>\n",
       "    <tr>\n",
       "      <th>Meghalaya</th>\n",
       "      <td>0</td>\n",
       "      <td>3</td>\n",
       "      <td>4</td>\n",
       "      <td>8</td>\n",
       "      <td>2</td>\n",
       "      <td>16</td>\n",
       "      <td>6</td>\n",
       "      <td>6</td>\n",
       "      <td>13</td>\n",
       "      <td>73</td>\n",
       "      <td>...</td>\n",
       "      <td>67</td>\n",
       "      <td>153</td>\n",
       "      <td>173</td>\n",
       "      <td>139</td>\n",
       "      <td>101</td>\n",
       "      <td>104</td>\n",
       "      <td>28</td>\n",
       "      <td>113</td>\n",
       "      <td>28</td>\n",
       "      <td>0</td>\n",
       "    </tr>\n",
       "  </tbody>\n",
       "</table>\n",
       "<p>5 rows × 114 columns</p>\n",
       "</div>"
      ],
      "text/plain": [
       "states                       2020-07-01  2020-07-02  2020-07-03  2020-07-04  \\\n",
       "state                                                                         \n",
       "Andaman and Nicobar Islands           0           9           7           3   \n",
       "Andhra Pradesh                        0         845         837         765   \n",
       "Maharashtra                           0        6328        6364        7074   \n",
       "Manipur                               0          19          37           9   \n",
       "Meghalaya                             0           3           4           8   \n",
       "\n",
       "states                       2020-07-05  2020-07-06  2020-07-07  2020-07-08  \\\n",
       "state                                                                         \n",
       "Andaman and Nicobar Islands           6          16           6           2   \n",
       "Andhra Pradesh                      998        1322        1178        1062   \n",
       "Maharashtra                        6555        5368        5134        6603   \n",
       "Manipur                              41          24          40           5   \n",
       "Meghalaya                             2          16           6           6   \n",
       "\n",
       "states                       2020-07-09  2020-07-10  ...  2020-10-13  \\\n",
       "state                                                ...               \n",
       "Andaman and Nicobar Islands           7           0  ...          13   \n",
       "Andhra Pradesh                     1555        1608  ...        4622   \n",
       "Maharashtra                        6875        7862  ...        8522   \n",
       "Manipur                              15         132  ...         237   \n",
       "Meghalaya                            13          73  ...          67   \n",
       "\n",
       "states                       2020-10-14  2020-10-15  2020-10-16  2020-10-17  \\\n",
       "state                                                                         \n",
       "Andaman and Nicobar Islands          10          16          10          11   \n",
       "Andhra Pradesh                     3892        4038        3967        3676   \n",
       "Maharashtra                       10552       10226       11447       10259   \n",
       "Manipur                             301         284         337         426   \n",
       "Meghalaya                           153         173         139         101   \n",
       "\n",
       "states                       2020-10-18  2020-10-19  2020-10-20  2020-10-21  \\\n",
       "state                                                                         \n",
       "Andaman and Nicobar Islands          25          18          15          27   \n",
       "Andhra Pradesh                     3986        2918        3503        3746   \n",
       "Maharashtra                        9060        5984        8151        8142   \n",
       "Manipur                             322         315         284         214   \n",
       "Meghalaya                           104          28         113          28   \n",
       "\n",
       "states                       2020-10-22  \n",
       "state                                    \n",
       "Andaman and Nicobar Islands           0  \n",
       "Andhra Pradesh                        0  \n",
       "Maharashtra                           0  \n",
       "Manipur                               0  \n",
       "Meghalaya                             0  \n",
       "\n",
       "[5 rows x 114 columns]"
      ]
     },
     "execution_count": 18,
     "metadata": {},
     "output_type": "execute_result"
    }
   ],
   "source": [
    "#hide\n",
    "dft_ct_new_cases.head()"
   ]
  },
  {
   "cell_type": "code",
   "execution_count": 19,
   "metadata": {
    "execution": {
     "iopub.execute_input": "2020-10-22T05:52:15.345851Z",
     "iopub.status.busy": "2020-10-22T05:52:15.331737Z",
     "iopub.status.idle": "2020-10-22T05:52:18.934093Z",
     "shell.execute_reply": "2020-10-22T05:52:18.934435Z"
    },
    "papermill": {
     "duration": 3.625699,
     "end_time": "2020-10-22T05:52:18.934564",
     "exception": false,
     "start_time": "2020-10-22T05:52:15.308865",
     "status": "completed"
    },
    "tags": []
   },
   "outputs": [
    {
     "data": {
      "image/png": "[encoded data removed]",
      "text/plain": [
       "<Figure size 1296x2016 with 11 Axes>"
      ]
     },
     "metadata": {
      "needs_background": "light"
     },
     "output_type": "display_data"
    }
   ],
   "source": [
    "#hide_input\n",
    "df = dft_ct_new_cases.copy()\n",
    "df.loc['Total'] = df.sum()\n",
    "n = 5\n",
    "ax = []\n",
    "fig = plt.figure(figsize = (18,28))\n",
    "gs = fig.add_gridspec(n+2, 5)\n",
    "# gs = fig.add_gridspec(2, 3)\n",
    "ax1 = fig.add_subplot(gs[0, :])\n",
    "ef = df.loc['Total'].rename_axis('date').reset_index()\n",
    "ef['date'] = ef['date'].astype('datetime64[ns]')\n",
    "ax1.bar(ef.date,ef.Total,alpha=0.3,color='#007acc')\n",
    "ax1.plot(ef.date,ef.Total , marker=\"o\", color='#007acc')\n",
    "ax1.xaxis.set_major_locator(mdates.WeekdayLocator())\n",
    "ax1.xaxis.set_major_formatter(mdates.DateFormatter('%b %d'))\n",
    "ax1.text(0.02, 0.5,'India daily case count', transform = ax1.transAxes, fontsize=25);\n",
    "ax1.spines['right'].set_visible(False)\n",
    "ax1.spines['top'].set_visible(False)\n",
    "\n",
    "ax2 = fig.add_subplot(gs[1,0])\n",
    "ef = df.loc['Maharashtra'].rename_axis('date').reset_index()\n",
    "ef['date'] = ef['date'].astype('datetime64[ns]')\n",
    "\n",
    "ax2.bar(ef.date, ef.Maharashtra,color = '#007acc',alpha=0.5)\n",
    "ax2.xaxis.set_major_locator(mdates.WeekdayLocator())\n",
    "ax2.xaxis.set_major_formatter(mdates.DateFormatter('%b %d'))\n",
    "ax2.set_xticks(ax2.get_xticks()[::3])\n",
    "maxyval = ef.Maharashtra.max()\n",
    "ax2.set_ylim([0,maxyval])\n",
    "ax2.text(0.05, 0.9,'Maharashtra', transform = ax2.transAxes, fontsize=20);\n",
    "ax2.spines['right'].set_visible(False)\n",
    "ax2.spines['top'].set_visible(False)\n",
    "\n",
    "\n",
    "ax3 = fig.add_subplot(gs[1,1])\n",
    "ef = df.loc['Tamil Nadu'].rename_axis('date').reset_index()\n",
    "ef['date'] = ef['date'].astype('datetime64[ns]')\n",
    "ax3.bar(ef.date, ef['Tamil Nadu'],color = '#007acc',alpha=0.5,)\n",
    "ax3.xaxis.set_major_locator(mdates.WeekdayLocator())\n",
    "ax3.xaxis.set_major_formatter(mdates.DateFormatter('%b %d'))\n",
    "ax3.set_xticks(ax3.get_xticks()[::3])\n",
    "ax3.text(0.05, 0.9,'Tamil Nadu', transform = ax3.transAxes, fontsize=20);\n",
    "ax3.spines['right'].set_visible(False)\n",
    "ax3.spines['top'].set_visible(False)\n",
    "\n",
    "ax5 = fig.add_subplot(gs[1,3])\n",
    "ef = df.loc['Telangana'].rename_axis('date').reset_index()\n",
    "ef['date'] = ef['date'].astype('datetime64[ns]')\n",
    "ax5.bar(ef.date, ef['Telangana'],color = '#007acc',alpha=0.5,)\n",
    "ax5.xaxis.set_major_locator(mdates.WeekdayLocator())\n",
    "ax5.xaxis.set_major_formatter(mdates.DateFormatter('%b %d'))\n",
    "ax5.set_xticks(ax5.get_xticks()[::3])\n",
    "ax5.text(0.05, 0.9,'Telangana', transform = ax5.transAxes, fontsize=20);\n",
    "ax5.spines['right'].set_visible(False)\n",
    "ax5.spines['top'].set_visible(False)\n",
    "\n",
    "ax6 = fig.add_subplot(gs[1,4])\n",
    "ef = df.loc['Andhra Pradesh'].rename_axis('date').reset_index()\n",
    "ef['date'] = ef['date'].astype('datetime64[ns]')\n",
    "ax6.bar(ef.date, ef['Andhra Pradesh'],color = '#007acc',alpha=0.5,)\n",
    "ax6.xaxis.set_major_locator(mdates.WeekdayLocator())\n",
    "ax6.xaxis.set_major_formatter(mdates.DateFormatter('%b %d'))\n",
    "ax6.set_xticks(ax6.get_xticks()[::3])\n",
    "ax6.text(0.05, 1,'Andhra Pradesh', transform = ax6.transAxes, fontsize=20);\n",
    "ax6.spines['right'].set_visible(False)\n",
    "ax6.spines['top'].set_visible(False)\n",
    "\n",
    "ax4 = fig.add_subplot(gs[1,2])\n",
    "ef = df.loc['Delhi'].rename_axis('date').reset_index()\n",
    "ef['date'] = ef['date'].astype('datetime64[ns]')\n",
    "ax4.bar(ef.date, ef.Delhi,color = '#007acc',alpha=0.5)\n",
    "ax4.set_xticks([])\n",
    "ax4.xaxis.set_major_locator(mdates.WeekdayLocator())\n",
    "ax4.xaxis.set_major_formatter(mdates.DateFormatter('%b %d'))\n",
    "ax4.set_xticks(ax4.get_xticks()[::3])\n",
    "ax4.spines['right'].set_visible(False)\n",
    "ax4.spines['top'].set_visible(False)\n",
    "\n",
    "ax4.text(0.05, 1,'Delhi', transform = ax4.transAxes, fontsize=20)\n",
    "\n",
    "for i in range(n):\n",
    "    \n",
    "    ax.append(fig.add_subplot(gs[i+2,:]))\n",
    "    ef = df.iloc[i+3].rename_axis('date').reset_index()\n",
    "    ef['date'] = ef['date'].astype('datetime64[ns]')\n",
    "    ax[i].bar(ef.date,ef.iloc[:,-1],color = '#007acc',alpha=0.3)\n",
    "    ax[i].plot(ef.date,ef.iloc[:,-1],marker='o',color='#007acc')\n",
    "    ax[i].text(0.02,0.5,f'{ef.columns.values[-1]}',transform = ax[i].transAxes, fontsize = 20);\n",
    "    ax[i].xaxis.set_major_locator(mdates.WeekdayLocator())\n",
    "    ax[i].xaxis.set_major_formatter(mdates.DateFormatter('%b %d'))\n",
    "    ax[i].set_ylim([0,7000])\n",
    "    ax[i].spines['right'].set_visible(False)\n",
    "    ax[i].spines['top'].set_visible(False)\n",
    "plt.tight_layout()\n"
   ]
  },
  {
   "cell_type": "code",
   "execution_count": 20,
   "metadata": {
    "execution": {
     "iopub.execute_input": "2020-10-22T05:52:19.298856Z",
     "iopub.status.busy": "2020-10-22T05:52:19.298330Z",
     "iopub.status.idle": "2020-10-22T05:52:19.302389Z",
     "shell.execute_reply": "2020-10-22T05:52:19.301642Z"
    },
    "papermill": {
     "duration": 0.289597,
     "end_time": "2020-10-22T05:52:19.302542",
     "exception": false,
     "start_time": "2020-10-22T05:52:19.012945",
     "status": "completed"
    },
    "tags": []
   },
   "outputs": [
    {
     "name": "stdout",
     "output_type": "stream",
     "text": [
      "                                   states    Cases  Deaths   PCases  PDeaths  Cases (+)  Deaths (+)  Fatality Rate\n",
      "                              Maharashtra  1617658   42633  1617658    42633          0           0           2.64\n",
      "                           Andhra Pradesh   793299    6508   793299     6508          0           0           0.82\n",
      "                                Karnataka   782773   10696   782773    10696          0           0           1.37\n",
      "                               Tamil Nadu   697116   10780   697116    10780          0           0           1.55\n",
      "                            Uttar Pradesh   461475    6755   461475     6755          0           0           1.46\n",
      "                                   Kerala   361842    1233   361842     1233          0           0           0.34\n",
      "                                    Delhi   340436    6128   340436     6128          0           0           1.80\n",
      "                              West Bengal   333126    6244   333126     6244          0           0           1.87\n",
      "                                   Odisha   274181    1234   274181     1234          0           0           0.45\n",
      "                                Telangana   226124    1287   226124     1287          0           0           0.57\n",
      "                                    Bihar   208238    1019   208238     1019          0           0           0.49\n",
      "                                    Assam   202774     889   202774      889          0           0           0.44\n",
      "                                Rajasthan   178933    1788   178933     1788          0           0           1.00\n",
      "                             Chhattisgarh   167639    1636   167639     1636          0           0           0.98\n",
      "                           Madhya Pradesh   163296    2828   163296     2828          0           0           1.73\n",
      "                                  Gujarat   162985    3663   162985     3663          0           0           2.25\n",
      "                                  Haryana   153367    1674   153367     1674          0           0           1.09\n",
      "                                   Punjab   129088    4060   129088     4060          0           0           3.15\n",
      "                                Jharkhand    98061     851    98061      851          0           0           0.87\n",
      "                        Jammu and Kashmir    89582    1402    89582     1402          0           0           1.57\n",
      "                              Uttarakhand    59106     960    59106      960          0           0           1.62\n",
      "                                      Goa    41339     557    41339      557          0           0           1.35\n",
      "                               Puducherry    33622     580    33622      580          0           0           1.73\n",
      "                                  Tripura    29797     329    29797      329          0           0           1.10\n",
      "                         Himachal Pradesh    19357     269    19357      269          0           0           1.39\n",
      "                                  Manipur    16276     124    16276      124          0           0           0.76\n",
      "                        Arunachal Pradesh    13912      31    13912       31          0           0           0.22\n",
      "                               Chandigarh    13797     209    13797      209          0           0           1.51\n",
      "                                Meghalaya     8677      77     8677       77          0           0           0.89\n",
      "                                 Nagaland     8139      21     8139       21          0           0           0.26\n",
      "                                   Ladakh     5781      67     5781       67          0           0           1.16\n",
      "              Andaman and Nicobar Islands     4168      56     4168       56          0           0           1.34\n",
      "                                   Sikkim     3677      63     3677       63          0           0           1.71\n",
      " Dadra and Nagar Haveli and Daman and Diu     3207       2     3207        2          0           0           0.06\n",
      "                                  Mizoram     2310       0     2310        0          0           0           0.00\n",
      "                              Lakshadweep        0       0        0        0          0           0            NaN\n"
     ]
    }
   ],
   "source": [
    "#hide_input\n",
    "print(df_table.to_string(index=False))"
   ]
  },
  {
   "cell_type": "code",
   "execution_count": null,
   "metadata": {
    "papermill": {
     "duration": 0.142055,
     "end_time": "2020-10-22T05:52:19.491190",
     "exception": false,
     "start_time": "2020-10-22T05:52:19.349135",
     "status": "completed"
    },
    "tags": []
   },
   "outputs": [],
   "source": []
  },
  {
   "cell_type": "code",
   "execution_count": null,
   "metadata": {
    "papermill": {
     "duration": 0.021305,
     "end_time": "2020-10-22T05:52:19.535508",
     "exception": false,
     "start_time": "2020-10-22T05:52:19.514203",
     "status": "completed"
    },
    "tags": []
   },
   "outputs": [],
   "source": []
  }
 ],
 "metadata": {
  "kernelspec": {
   "display_name": "Python 3",
   "language": "python",
   "name": "python3"
  },
  "language_info": {
   "codemirror_mode": {
    "name": "ipython",
    "version": 3
   },
   "file_extension": ".py",
   "mimetype": "text/x-python",
   "name": "python",
   "nbconvert_exporter": "python",
   "pygments_lexer": "ipython3",
   "version": "3.6.12"
  },
  "papermill": {
   "duration": 9.865446,
   "end_time": "2020-10-22T05:52:19.961869",
   "environment_variables": {},
   "exception": null,
   "input_path": "latest.ipynb",
   "output_path": "latest.ipynb",
   "parameters": {},
   "start_time": "2020-10-22T05:52:10.096423",
   "version": "2.1.2"
  }
 },
 "nbformat": 4,
 "nbformat_minor": 4
}