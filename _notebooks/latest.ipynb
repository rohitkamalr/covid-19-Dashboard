{
 "cells": [
  {
   "cell_type": "markdown",
   "metadata": {
    "papermill": {
     "duration": 0.020197,
     "end_time": "2020-09-22T05:38:03.301833",
     "exception": false,
     "start_time": "2020-09-22T05:38:03.281636",
     "status": "completed"
    },
    "tags": []
   },
   "source": [
    "# Latest COVID-19 India Matplotlib Overview"
   ]
  },
  {
   "cell_type": "code",
   "execution_count": 1,
   "metadata": {
    "execution": {
     "iopub.execute_input": "2020-09-22T05:38:03.344848Z",
     "iopub.status.busy": "2020-09-22T05:38:03.344091Z",
     "iopub.status.idle": "2020-09-22T05:38:03.932566Z",
     "shell.execute_reply": "2020-09-22T05:38:03.933066Z"
    },
    "papermill": {
     "duration": 0.611697,
     "end_time": "2020-09-22T05:38:03.933253",
     "exception": false,
     "start_time": "2020-09-22T05:38:03.321556",
     "status": "completed"
    },
    "tags": []
   },
   "outputs": [],
   "source": [
    "#hide\n",
    "import pandas as pd\n",
    "import numpy as np\n",
    "import requests\n",
    "import json\n",
    "import matplotlib.pyplot as plt\n",
    "import matplotlib.dates as mdates\n",
    "import matplotlib as mpl\n",
    "from IPython.core.display import display,HTML\n",
    "%matplotlib inline\n",
    "from datetime import date"
   ]
  },
  {
   "cell_type": "code",
   "execution_count": 2,
   "metadata": {
    "execution": {
     "iopub.execute_input": "2020-09-22T05:38:04.179877Z",
     "iopub.status.busy": "2020-09-22T05:38:04.179234Z",
     "iopub.status.idle": "2020-09-22T05:38:04.449792Z",
     "shell.execute_reply": "2020-09-22T05:38:04.448912Z"
    },
    "papermill": {
     "duration": 0.497139,
     "end_time": "2020-09-22T05:38:04.450015",
     "exception": false,
     "start_time": "2020-09-22T05:38:03.952876",
     "status": "completed"
    },
    "tags": []
   },
   "outputs": [],
   "source": [
    "#hide\n",
    "df  = pd.read_csv('https://api.covid19india.org/csv/latest/states.csv')\n",
    "df = df[['Date','State','Confirmed','Deceased']]\n",
    "df = df.rename(columns={'Confirmed':'Cases', \"Deceased\":'Deaths'})\n",
    "df_cases = df[[\"Date\",'State','Cases']]\n",
    "df_deaths = df[['Date','State','Deaths']]\n",
    "df_cases1 = df_cases.groupby('Date')\n",
    "df_deaths1= df_deaths.groupby('Date')"
   ]
  },
  {
   "cell_type": "code",
   "execution_count": 3,
   "metadata": {
    "execution": {
     "iopub.execute_input": "2020-09-22T05:38:04.488189Z",
     "iopub.status.busy": "2020-09-22T05:38:04.487596Z",
     "iopub.status.idle": "2020-09-22T05:38:04.507492Z",
     "shell.execute_reply": "2020-09-22T05:38:04.506836Z"
    },
    "papermill": {
     "duration": 0.041719,
     "end_time": "2020-09-22T05:38:04.507665",
     "exception": false,
     "start_time": "2020-09-22T05:38:04.465946",
     "status": "completed"
    },
    "tags": []
   },
   "outputs": [],
   "source": [
    "#hide\n",
    "df_snap = pd.read_csv('data/SnapshotCases-28-July.csv')\n",
    "arr_states = df_snap['states'].unique()\n",
    "arr_dates = df['Date'].unique()\n",
    "df_snap = df_snap.set_index('states')"
   ]
  },
  {
   "cell_type": "code",
   "execution_count": 4,
   "metadata": {
    "execution": {
     "iopub.execute_input": "2020-09-22T05:38:04.546425Z",
     "iopub.status.busy": "2020-09-22T05:38:04.545809Z",
     "iopub.status.idle": "2020-09-22T05:38:04.548914Z",
     "shell.execute_reply": "2020-09-22T05:38:04.548386Z"
    },
    "papermill": {
     "duration": 0.02515,
     "end_time": "2020-09-22T05:38:04.549040",
     "exception": false,
     "start_time": "2020-09-22T05:38:04.523890",
     "status": "completed"
    },
    "tags": []
   },
   "outputs": [
    {
     "data": {
      "text/plain": [
       "array(['Andaman and Nicobar Islands', 'Andhra Pradesh',\n",
       "       'Arunachal Pradesh', 'Assam', 'Bihar', 'Chandigarh',\n",
       "       'Dadra and Nagar Haveli and Daman and Diu', 'Delhi', 'Goa',\n",
       "       'Gujarat', 'Haryana', 'Himachal Pradesh', 'Jammu and Kashmir',\n",
       "       'Jharkhand', 'Karnataka', 'Kerala', 'Lakshadweep',\n",
       "       'Madhya Pradesh', 'Maharashtra', 'Manipur', 'Meghalaya', 'Mizoram',\n",
       "       'Nagaland', 'Odisha', 'Puducherry', 'Punjab', 'Rajasthan',\n",
       "       'Sikkim', 'Tamil Nadu', 'Telangana', 'Tripura', 'Uttar Pradesh',\n",
       "       'West Bengal', 'Chhattisgarh', 'Ladakh', 'Uttarakhand'],\n",
       "      dtype=object)"
      ]
     },
     "execution_count": 4,
     "metadata": {},
     "output_type": "execute_result"
    }
   ],
   "source": [
    "#hide\n",
    "arr_states[-9] = 'Puducherry'\n",
    "arr_states[-10] = 'Odisha'\n",
    "arr_states[6] = 'Dadra and Nagar Haveli and Daman and Diu'\n",
    "arr_states = np.append(arr_states,np.array(['Chhattisgarh','Ladakh','Uttarakhand']))\n",
    "arr_states"
   ]
  },
  {
   "cell_type": "code",
   "execution_count": 5,
   "metadata": {
    "execution": {
     "iopub.execute_input": "2020-09-22T05:38:04.590832Z",
     "iopub.status.busy": "2020-09-22T05:38:04.590233Z",
     "iopub.status.idle": "2020-09-22T05:38:04.597606Z",
     "shell.execute_reply": "2020-09-22T05:38:04.597128Z"
    },
    "papermill": {
     "duration": 0.03321,
     "end_time": "2020-09-22T05:38:04.597735",
     "exception": false,
     "start_time": "2020-09-22T05:38:04.564525",
     "status": "completed"
    },
    "tags": []
   },
   "outputs": [],
   "source": [
    "#hide\n",
    "dates = []\n",
    "for i in arr_dates:\n",
    "    if i>='2020-07-01':\n",
    "        dates.append(i)\n",
    "dict = {'states':dates}\n",
    "for i in arr_states:\n",
    "    dict[i] = [0]*len(dates)\n",
    "dft_cases = pd.DataFrame(dict)\n",
    "dft_deaths = pd.DataFrame(dict)\n"
   ]
  },
  {
   "cell_type": "code",
   "execution_count": 6,
   "metadata": {
    "execution": {
     "iopub.execute_input": "2020-09-22T05:38:04.634602Z",
     "iopub.status.busy": "2020-09-22T05:38:04.634001Z",
     "iopub.status.idle": "2020-09-22T05:38:05.771748Z",
     "shell.execute_reply": "2020-09-22T05:38:05.771224Z"
    },
    "papermill": {
     "duration": 1.158588,
     "end_time": "2020-09-22T05:38:05.771891",
     "exception": false,
     "start_time": "2020-09-22T05:38:04.613303",
     "status": "completed"
    },
    "tags": []
   },
   "outputs": [],
   "source": [
    "#hide\n",
    "for i in range(len(dates)):\n",
    "    df1_deaths = df_deaths1.get_group(dates[i])\n",
    "    for j in range(len(df1_deaths.index)):\n",
    "        if df1_deaths.iloc[j,1] in arr_states:\n",
    "            dft_deaths.loc[i,df1_deaths.iloc[j,1]] = df1_deaths.iloc[j,2]\n",
    "dft_deaths = dft_deaths.set_index('states')"
   ]
  },
  {
   "cell_type": "code",
   "execution_count": 7,
   "metadata": {
    "execution": {
     "iopub.execute_input": "2020-09-22T05:38:05.809445Z",
     "iopub.status.busy": "2020-09-22T05:38:05.808832Z",
     "iopub.status.idle": "2020-09-22T05:38:06.918387Z",
     "shell.execute_reply": "2020-09-22T05:38:06.917464Z"
    },
    "papermill": {
     "duration": 1.131273,
     "end_time": "2020-09-22T05:38:06.918603",
     "exception": false,
     "start_time": "2020-09-22T05:38:05.787330",
     "status": "completed"
    },
    "tags": []
   },
   "outputs": [],
   "source": [
    "#hide\n",
    "for i in range(len(dates)):\n",
    "    df1_cases = df_cases1.get_group(dates[i])\n",
    "    for j in range(len(df1_cases.index)):\n",
    "        if df1_cases.iloc[j,1] in arr_states:\n",
    "            dft_cases.loc[i,df1_cases.iloc[j,1]] = df1_cases.iloc[j,2]\n",
    "dft_cases = dft_cases.set_index('states')"
   ]
  },
  {
   "cell_type": "code",
   "execution_count": 8,
   "metadata": {
    "execution": {
     "iopub.execute_input": "2020-09-22T05:38:06.960037Z",
     "iopub.status.busy": "2020-09-22T05:38:06.959185Z",
     "iopub.status.idle": "2020-09-22T05:38:06.960817Z",
     "shell.execute_reply": "2020-09-22T05:38:06.961298Z"
    },
    "papermill": {
     "duration": 0.027145,
     "end_time": "2020-09-22T05:38:06.961448",
     "exception": false,
     "start_time": "2020-09-22T05:38:06.934303",
     "status": "completed"
    },
    "tags": []
   },
   "outputs": [],
   "source": [
    "#hide\n",
    "dft_cases = dft_cases.T\n",
    "dft_deaths = dft_deaths.T\n",
    "dt_today = dates[-1]\n",
    "dt_yday = dates[-2]"
   ]
  },
  {
   "cell_type": "code",
   "execution_count": 9,
   "metadata": {
    "execution": {
     "iopub.execute_input": "2020-09-22T05:38:07.001157Z",
     "iopub.status.busy": "2020-09-22T05:38:07.000329Z",
     "iopub.status.idle": "2020-09-22T05:38:07.005334Z",
     "shell.execute_reply": "2020-09-22T05:38:07.004855Z"
    },
    "papermill": {
     "duration": 0.02837,
     "end_time": "2020-09-22T05:38:07.005466",
     "exception": false,
     "start_time": "2020-09-22T05:38:06.977096",
     "status": "completed"
    },
    "tags": []
   },
   "outputs": [],
   "source": [
    "#hide\n",
    "dft_cases = dft_cases.reset_index()\n",
    "dft_deaths = dft_deaths.reset_index()\n",
    "dft_cases = dft_cases.rename(columns = {'index':'state'})\n",
    "dft_deaths = dft_deaths.rename(columns = {'index':'state'})"
   ]
  },
  {
   "cell_type": "code",
   "execution_count": 10,
   "metadata": {
    "execution": {
     "iopub.execute_input": "2020-09-22T05:38:07.057483Z",
     "iopub.status.busy": "2020-09-22T05:38:07.056856Z",
     "iopub.status.idle": "2020-09-22T05:38:07.061065Z",
     "shell.execute_reply": "2020-09-22T05:38:07.060540Z"
    },
    "papermill": {
     "duration": 0.037065,
     "end_time": "2020-09-22T05:38:07.061188",
     "exception": false,
     "start_time": "2020-09-22T05:38:07.024123",
     "status": "completed"
    },
    "tags": []
   },
   "outputs": [],
   "source": [
    "#hide\n",
    "dfc_cases = dft_cases.groupby('state')[dt_today].sum()\n",
    "dfc_deaths = dft_deaths.groupby('state')[dt_today].sum()\n",
    "dfp_cases = dft_cases.groupby('state')[dt_yday].sum()\n",
    "dfp_deaths = dft_deaths.groupby('state')[dt_yday].sum()"
   ]
  },
  {
   "cell_type": "code",
   "execution_count": 11,
   "metadata": {
    "execution": {
     "iopub.execute_input": "2020-09-22T05:38:07.102149Z",
     "iopub.status.busy": "2020-09-22T05:38:07.101400Z",
     "iopub.status.idle": "2020-09-22T05:38:07.115587Z",
     "shell.execute_reply": "2020-09-22T05:38:07.115118Z"
    },
    "papermill": {
     "duration": 0.038225,
     "end_time": "2020-09-22T05:38:07.115731",
     "exception": false,
     "start_time": "2020-09-22T05:38:07.077506",
     "status": "completed"
    },
    "tags": []
   },
   "outputs": [
    {
     "data": {
      "text/html": [
       "<div>\n",
       "<style scoped>\n",
       "    .dataframe tbody tr th:only-of-type {\n",
       "        vertical-align: middle;\n",
       "    }\n",
       "\n",
       "    .dataframe tbody tr th {\n",
       "        vertical-align: top;\n",
       "    }\n",
       "\n",
       "    .dataframe thead th {\n",
       "        text-align: right;\n",
       "    }\n",
       "</style>\n",
       "<table border=\"1\" class=\"dataframe\">\n",
       "  <thead>\n",
       "    <tr style=\"text-align: right;\">\n",
       "      <th></th>\n",
       "      <th>states</th>\n",
       "      <th>Cases</th>\n",
       "      <th>Deaths</th>\n",
       "      <th>PCases</th>\n",
       "      <th>PDeaths</th>\n",
       "    </tr>\n",
       "  </thead>\n",
       "  <tbody>\n",
       "    <tr>\n",
       "      <th>0</th>\n",
       "      <td>Maharashtra</td>\n",
       "      <td>1224380</td>\n",
       "      <td>33015</td>\n",
       "      <td>1224380</td>\n",
       "      <td>33015</td>\n",
       "    </tr>\n",
       "    <tr>\n",
       "      <th>1</th>\n",
       "      <td>Andhra Pradesh</td>\n",
       "      <td>631749</td>\n",
       "      <td>5410</td>\n",
       "      <td>631749</td>\n",
       "      <td>5410</td>\n",
       "    </tr>\n",
       "    <tr>\n",
       "      <th>2</th>\n",
       "      <td>Tamil Nadu</td>\n",
       "      <td>547337</td>\n",
       "      <td>8871</td>\n",
       "      <td>547337</td>\n",
       "      <td>8871</td>\n",
       "    </tr>\n",
       "    <tr>\n",
       "      <th>3</th>\n",
       "      <td>Karnataka</td>\n",
       "      <td>526876</td>\n",
       "      <td>8145</td>\n",
       "      <td>526876</td>\n",
       "      <td>8145</td>\n",
       "    </tr>\n",
       "    <tr>\n",
       "      <th>4</th>\n",
       "      <td>Uttar Pradesh</td>\n",
       "      <td>358893</td>\n",
       "      <td>5135</td>\n",
       "      <td>358893</td>\n",
       "      <td>5135</td>\n",
       "    </tr>\n",
       "  </tbody>\n",
       "</table>\n",
       "</div>"
      ],
      "text/plain": [
       "           states    Cases  Deaths   PCases  PDeaths\n",
       "0     Maharashtra  1224380   33015  1224380    33015\n",
       "1  Andhra Pradesh   631749    5410   631749     5410\n",
       "2      Tamil Nadu   547337    8871   547337     8871\n",
       "3       Karnataka   526876    8145   526876     8145\n",
       "4   Uttar Pradesh   358893    5135   358893     5135"
      ]
     },
     "execution_count": 11,
     "metadata": {},
     "output_type": "execute_result"
    }
   ],
   "source": [
    "#hide\n",
    "df_table = pd.DataFrame({'states': dfc_cases.index, 'Cases': dfc_cases.values, 'Deaths': dfc_deaths.values, 'PCases': dfp_cases.values, 'PDeaths': dfp_deaths.values}).set_index('states')\n",
    "df_table = df_table.sort_values(by = ['Cases','Deaths'], ascending = [False, False])\n",
    "df_table = df_table.reset_index()\n",
    "df_table.head()"
   ]
  },
  {
   "cell_type": "code",
   "execution_count": 12,
   "metadata": {
    "execution": {
     "iopub.execute_input": "2020-09-22T05:38:07.155226Z",
     "iopub.status.busy": "2020-09-22T05:38:07.154101Z",
     "iopub.status.idle": "2020-09-22T05:38:07.167195Z",
     "shell.execute_reply": "2020-09-22T05:38:07.167734Z"
    },
    "papermill": {
     "duration": 0.03606,
     "end_time": "2020-09-22T05:38:07.167892",
     "exception": false,
     "start_time": "2020-09-22T05:38:07.131832",
     "status": "completed"
    },
    "tags": []
   },
   "outputs": [],
   "source": [
    "#hide\n",
    "for c in 'Cases, Deaths'.split(', '):\n",
    "    df_table[f'{c} (+)'] = (df_table[c] - df_table[f'P{c}']).clip(0)\n",
    "df_table['Fatality Rate'] = (100* df_table['Deaths']/ df_table['Cases']).round(2)"
   ]
  },
  {
   "cell_type": "code",
   "execution_count": 13,
   "metadata": {
    "execution": {
     "iopub.execute_input": "2020-09-22T05:38:07.217075Z",
     "iopub.status.busy": "2020-09-22T05:38:07.216409Z",
     "iopub.status.idle": "2020-09-22T05:38:07.218777Z",
     "shell.execute_reply": "2020-09-22T05:38:07.219329Z"
    },
    "papermill": {
     "duration": 0.033163,
     "end_time": "2020-09-22T05:38:07.219476",
     "exception": false,
     "start_time": "2020-09-22T05:38:07.186313",
     "status": "completed"
    },
    "tags": []
   },
   "outputs": [
    {
     "data": {
      "text/html": [
       "<div>\n",
       "<style scoped>\n",
       "    .dataframe tbody tr th:only-of-type {\n",
       "        vertical-align: middle;\n",
       "    }\n",
       "\n",
       "    .dataframe tbody tr th {\n",
       "        vertical-align: top;\n",
       "    }\n",
       "\n",
       "    .dataframe thead th {\n",
       "        text-align: right;\n",
       "    }\n",
       "</style>\n",
       "<table border=\"1\" class=\"dataframe\">\n",
       "  <thead>\n",
       "    <tr style=\"text-align: right;\">\n",
       "      <th></th>\n",
       "      <th>states</th>\n",
       "      <th>Cases</th>\n",
       "      <th>Deaths</th>\n",
       "      <th>PCases</th>\n",
       "      <th>PDeaths</th>\n",
       "      <th>Cases (+)</th>\n",
       "      <th>Deaths (+)</th>\n",
       "      <th>Fatality Rate</th>\n",
       "    </tr>\n",
       "  </thead>\n",
       "  <tbody>\n",
       "    <tr>\n",
       "      <th>0</th>\n",
       "      <td>Maharashtra</td>\n",
       "      <td>1224380</td>\n",
       "      <td>33015</td>\n",
       "      <td>1224380</td>\n",
       "      <td>33015</td>\n",
       "      <td>0</td>\n",
       "      <td>0</td>\n",
       "      <td>2.70</td>\n",
       "    </tr>\n",
       "    <tr>\n",
       "      <th>1</th>\n",
       "      <td>Andhra Pradesh</td>\n",
       "      <td>631749</td>\n",
       "      <td>5410</td>\n",
       "      <td>631749</td>\n",
       "      <td>5410</td>\n",
       "      <td>0</td>\n",
       "      <td>0</td>\n",
       "      <td>0.86</td>\n",
       "    </tr>\n",
       "    <tr>\n",
       "      <th>2</th>\n",
       "      <td>Tamil Nadu</td>\n",
       "      <td>547337</td>\n",
       "      <td>8871</td>\n",
       "      <td>547337</td>\n",
       "      <td>8871</td>\n",
       "      <td>0</td>\n",
       "      <td>0</td>\n",
       "      <td>1.62</td>\n",
       "    </tr>\n",
       "    <tr>\n",
       "      <th>3</th>\n",
       "      <td>Karnataka</td>\n",
       "      <td>526876</td>\n",
       "      <td>8145</td>\n",
       "      <td>526876</td>\n",
       "      <td>8145</td>\n",
       "      <td>0</td>\n",
       "      <td>0</td>\n",
       "      <td>1.55</td>\n",
       "    </tr>\n",
       "    <tr>\n",
       "      <th>4</th>\n",
       "      <td>Uttar Pradesh</td>\n",
       "      <td>358893</td>\n",
       "      <td>5135</td>\n",
       "      <td>358893</td>\n",
       "      <td>5135</td>\n",
       "      <td>0</td>\n",
       "      <td>0</td>\n",
       "      <td>1.43</td>\n",
       "    </tr>\n",
       "  </tbody>\n",
       "</table>\n",
       "</div>"
      ],
      "text/plain": [
       "           states    Cases  Deaths   PCases  PDeaths  Cases (+)  Deaths (+)  \\\n",
       "0     Maharashtra  1224380   33015  1224380    33015          0           0   \n",
       "1  Andhra Pradesh   631749    5410   631749     5410          0           0   \n",
       "2      Tamil Nadu   547337    8871   547337     8871          0           0   \n",
       "3       Karnataka   526876    8145   526876     8145          0           0   \n",
       "4   Uttar Pradesh   358893    5135   358893     5135          0           0   \n",
       "\n",
       "   Fatality Rate  \n",
       "0           2.70  \n",
       "1           0.86  \n",
       "2           1.62  \n",
       "3           1.55  \n",
       "4           1.43  "
      ]
     },
     "execution_count": 13,
     "metadata": {},
     "output_type": "execute_result"
    }
   ],
   "source": [
    "#hide\n",
    "df_table.head()"
   ]
  },
  {
   "cell_type": "code",
   "execution_count": 14,
   "metadata": {
    "execution": {
     "iopub.execute_input": "2020-09-22T05:38:07.258075Z",
     "iopub.status.busy": "2020-09-22T05:38:07.257480Z",
     "iopub.status.idle": "2020-09-22T05:38:07.273453Z",
     "shell.execute_reply": "2020-09-22T05:38:07.272941Z"
    },
    "papermill": {
     "duration": 0.037813,
     "end_time": "2020-09-22T05:38:07.273580",
     "exception": false,
     "start_time": "2020-09-22T05:38:07.235767",
     "status": "completed"
    },
    "tags": []
   },
   "outputs": [
    {
     "data": {
      "text/plain": [
       "{'updated': '2020-09-22',\n",
       " 'since': '2020-09-21',\n",
       " 'Cases': 5562378,\n",
       " 'PCases': 5560105,\n",
       " 'Deaths': 88975,\n",
       " 'PDeaths': 88965,\n",
       " 'Cases (+)': 2273,\n",
       " 'Deaths (+)': 10}"
      ]
     },
     "execution_count": 14,
     "metadata": {},
     "output_type": "execute_result"
    }
   ],
   "source": [
    "#hide\n",
    "summary = {'updated':dates[-1], 'since':dates[-2]}\n",
    "list_names = ['Cases', 'PCases', 'Deaths', 'PDeaths', 'Cases (+)', 'Deaths (+)']\n",
    "for name in list_names:\n",
    "    summary[name] = df_table.sum()[name]\n",
    "summary"
   ]
  },
  {
   "cell_type": "code",
   "execution_count": 15,
   "metadata": {
    "execution": {
     "iopub.execute_input": "2020-09-22T05:38:07.312377Z",
     "iopub.status.busy": "2020-09-22T05:38:07.311765Z",
     "iopub.status.idle": "2020-09-22T05:38:07.313943Z",
     "shell.execute_reply": "2020-09-22T05:38:07.314353Z"
    },
    "papermill": {
     "duration": 0.024191,
     "end_time": "2020-09-22T05:38:07.314510",
     "exception": false,
     "start_time": "2020-09-22T05:38:07.290319",
     "status": "completed"
    },
    "tags": []
   },
   "outputs": [],
   "source": [
    "#hide\n",
    "overview = '''\n",
    "<!-- #######  HTML!! #########-->\n",
    "<h1 style=\"color: #5e9ca0; text-align: center;\">India</h1>\n",
    "<p style=\"text-align: center;\">Last update: <strong>{update}</strong></p>\n",
    "<p style=\"text-align: center;\">Confirmed cases:</p>\n",
    "<p style=\"text-align: center;font-size:24px;\">{cases} (<span style=\"color: #ff0000;\">+{new}</span>)</p>\n",
    "<p style=\"text-align: center;\">Confirmed deaths:</p>\n",
    "<p style=\"text-align: center;font-size:24px;\">{deaths} (<span style=\"color: #ff0000;\">+{dnew}</span>)</p>\n",
    "'''"
   ]
  },
  {
   "cell_type": "code",
   "execution_count": 16,
   "metadata": {
    "execution": {
     "iopub.execute_input": "2020-09-22T05:38:07.353962Z",
     "iopub.status.busy": "2020-09-22T05:38:07.353354Z",
     "iopub.status.idle": "2020-09-22T05:38:07.355583Z",
     "shell.execute_reply": "2020-09-22T05:38:07.356086Z"
    },
    "papermill": {
     "duration": 0.02506,
     "end_time": "2020-09-22T05:38:07.356228",
     "exception": false,
     "start_time": "2020-09-22T05:38:07.331168",
     "status": "completed"
    },
    "tags": []
   },
   "outputs": [
    {
     "data": {
      "text/html": [
       "\n",
       "<!-- #######  HTML!! #########-->\n",
       "<h1 style=\"color: #5e9ca0; text-align: center;\">India</h1>\n",
       "<p style=\"text-align: center;\">Last update: <strong>2020-09-22</strong></p>\n",
       "<p style=\"text-align: center;\">Confirmed cases:</p>\n",
       "<p style=\"text-align: center;font-size:24px;\">5562378 (<span style=\"color: #ff0000;\">+2273</span>)</p>\n",
       "<p style=\"text-align: center;\">Confirmed deaths:</p>\n",
       "<p style=\"text-align: center;font-size:24px;\">88975 (<span style=\"color: #ff0000;\">+10</span>)</p>\n"
      ],
      "text/plain": [
       "<IPython.core.display.HTML object>"
      ]
     },
     "metadata": {},
     "output_type": "display_data"
    }
   ],
   "source": [
    "#hide_input\n",
    "update = summary['updated']\n",
    "cases = summary['Cases']\n",
    "new = summary['Cases (+)']\n",
    "deaths = summary['Deaths']\n",
    "dnew = summary['Deaths (+)']\n",
    "\n",
    "html = HTML(overview.format(update=update, cases=cases,new=new,deaths=deaths,dnew=dnew))\n",
    "\n",
    "display(html)"
   ]
  },
  {
   "cell_type": "code",
   "execution_count": 17,
   "metadata": {
    "execution": {
     "iopub.execute_input": "2020-09-22T05:38:07.397698Z",
     "iopub.status.busy": "2020-09-22T05:38:07.397113Z",
     "iopub.status.idle": "2020-09-22T05:38:07.402692Z",
     "shell.execute_reply": "2020-09-22T05:38:07.402219Z"
    },
    "papermill": {
     "duration": 0.02963,
     "end_time": "2020-09-22T05:38:07.402821",
     "exception": false,
     "start_time": "2020-09-22T05:38:07.373191",
     "status": "completed"
    },
    "tags": []
   },
   "outputs": [],
   "source": [
    "#hide\n",
    "dt_cols = list(dft_cases.columns[1:])\n",
    "dft_ct_new_cases = dft_cases.groupby('state')[dt_cols].sum().diff(axis=1).fillna(0).astype(int)\n",
    "dft_ct_new_cases.sort_values(by = dates[-1], ascending = False,inplace = True)"
   ]
  },
  {
   "cell_type": "code",
   "execution_count": 18,
   "metadata": {
    "execution": {
     "iopub.execute_input": "2020-09-22T05:38:07.456445Z",
     "iopub.status.busy": "2020-09-22T05:38:07.455883Z",
     "iopub.status.idle": "2020-09-22T05:38:07.458319Z",
     "shell.execute_reply": "2020-09-22T05:38:07.458823Z"
    },
    "papermill": {
     "duration": 0.039023,
     "end_time": "2020-09-22T05:38:07.458967",
     "exception": false,
     "start_time": "2020-09-22T05:38:07.419944",
     "status": "completed"
    },
    "tags": []
   },
   "outputs": [
    {
     "data": {
      "text/html": [
       "<div>\n",
       "<style scoped>\n",
       "    .dataframe tbody tr th:only-of-type {\n",
       "        vertical-align: middle;\n",
       "    }\n",
       "\n",
       "    .dataframe tbody tr th {\n",
       "        vertical-align: top;\n",
       "    }\n",
       "\n",
       "    .dataframe thead th {\n",
       "        text-align: right;\n",
       "    }\n",
       "</style>\n",
       "<table border=\"1\" class=\"dataframe\">\n",
       "  <thead>\n",
       "    <tr style=\"text-align: right;\">\n",
       "      <th>states</th>\n",
       "      <th>2020-07-01</th>\n",
       "      <th>2020-07-02</th>\n",
       "      <th>2020-07-03</th>\n",
       "      <th>2020-07-04</th>\n",
       "      <th>2020-07-05</th>\n",
       "      <th>2020-07-06</th>\n",
       "      <th>2020-07-07</th>\n",
       "      <th>2020-07-08</th>\n",
       "      <th>2020-07-09</th>\n",
       "      <th>2020-07-10</th>\n",
       "      <th>...</th>\n",
       "      <th>2020-09-13</th>\n",
       "      <th>2020-09-14</th>\n",
       "      <th>2020-09-15</th>\n",
       "      <th>2020-09-16</th>\n",
       "      <th>2020-09-17</th>\n",
       "      <th>2020-09-18</th>\n",
       "      <th>2020-09-19</th>\n",
       "      <th>2020-09-20</th>\n",
       "      <th>2020-09-21</th>\n",
       "      <th>2020-09-22</th>\n",
       "    </tr>\n",
       "    <tr>\n",
       "      <th>state</th>\n",
       "      <th></th>\n",
       "      <th></th>\n",
       "      <th></th>\n",
       "      <th></th>\n",
       "      <th></th>\n",
       "      <th></th>\n",
       "      <th></th>\n",
       "      <th></th>\n",
       "      <th></th>\n",
       "      <th></th>\n",
       "      <th></th>\n",
       "      <th></th>\n",
       "      <th></th>\n",
       "      <th></th>\n",
       "      <th></th>\n",
       "      <th></th>\n",
       "      <th></th>\n",
       "      <th></th>\n",
       "      <th></th>\n",
       "      <th></th>\n",
       "      <th></th>\n",
       "    </tr>\n",
       "  </thead>\n",
       "  <tbody>\n",
       "    <tr>\n",
       "      <th>Telangana</th>\n",
       "      <td>0</td>\n",
       "      <td>1213</td>\n",
       "      <td>1892</td>\n",
       "      <td>1850</td>\n",
       "      <td>1590</td>\n",
       "      <td>1831</td>\n",
       "      <td>1879</td>\n",
       "      <td>1924</td>\n",
       "      <td>1410</td>\n",
       "      <td>1278</td>\n",
       "      <td>...</td>\n",
       "      <td>2216</td>\n",
       "      <td>1417</td>\n",
       "      <td>2058</td>\n",
       "      <td>2273</td>\n",
       "      <td>2159</td>\n",
       "      <td>2043</td>\n",
       "      <td>2123</td>\n",
       "      <td>2137</td>\n",
       "      <td>1302</td>\n",
       "      <td>2166</td>\n",
       "    </tr>\n",
       "    <tr>\n",
       "      <th>Mizoram</th>\n",
       "      <td>0</td>\n",
       "      <td>2</td>\n",
       "      <td>0</td>\n",
       "      <td>2</td>\n",
       "      <td>22</td>\n",
       "      <td>11</td>\n",
       "      <td>1</td>\n",
       "      <td>5</td>\n",
       "      <td>0</td>\n",
       "      <td>23</td>\n",
       "      <td>...</td>\n",
       "      <td>35</td>\n",
       "      <td>14</td>\n",
       "      <td>40</td>\n",
       "      <td>12</td>\n",
       "      <td>26</td>\n",
       "      <td>28</td>\n",
       "      <td>14</td>\n",
       "      <td>30</td>\n",
       "      <td>7</td>\n",
       "      <td>107</td>\n",
       "    </tr>\n",
       "    <tr>\n",
       "      <th>Andaman and Nicobar Islands</th>\n",
       "      <td>0</td>\n",
       "      <td>9</td>\n",
       "      <td>7</td>\n",
       "      <td>3</td>\n",
       "      <td>6</td>\n",
       "      <td>16</td>\n",
       "      <td>6</td>\n",
       "      <td>2</td>\n",
       "      <td>7</td>\n",
       "      <td>0</td>\n",
       "      <td>...</td>\n",
       "      <td>25</td>\n",
       "      <td>11</td>\n",
       "      <td>17</td>\n",
       "      <td>19</td>\n",
       "      <td>11</td>\n",
       "      <td>27</td>\n",
       "      <td>13</td>\n",
       "      <td>7</td>\n",
       "      <td>22</td>\n",
       "      <td>0</td>\n",
       "    </tr>\n",
       "    <tr>\n",
       "      <th>Puducherry</th>\n",
       "      <td>0</td>\n",
       "      <td>63</td>\n",
       "      <td>22</td>\n",
       "      <td>80</td>\n",
       "      <td>42</td>\n",
       "      <td>65</td>\n",
       "      <td>30</td>\n",
       "      <td>110</td>\n",
       "      <td>49</td>\n",
       "      <td>72</td>\n",
       "      <td>...</td>\n",
       "      <td>388</td>\n",
       "      <td>393</td>\n",
       "      <td>375</td>\n",
       "      <td>510</td>\n",
       "      <td>317</td>\n",
       "      <td>485</td>\n",
       "      <td>543</td>\n",
       "      <td>467</td>\n",
       "      <td>268</td>\n",
       "      <td>0</td>\n",
       "    </tr>\n",
       "    <tr>\n",
       "      <th>Maharashtra</th>\n",
       "      <td>0</td>\n",
       "      <td>6328</td>\n",
       "      <td>6364</td>\n",
       "      <td>7074</td>\n",
       "      <td>6555</td>\n",
       "      <td>5368</td>\n",
       "      <td>5134</td>\n",
       "      <td>6603</td>\n",
       "      <td>6875</td>\n",
       "      <td>7862</td>\n",
       "      <td>...</td>\n",
       "      <td>22543</td>\n",
       "      <td>17066</td>\n",
       "      <td>20482</td>\n",
       "      <td>23365</td>\n",
       "      <td>24619</td>\n",
       "      <td>21656</td>\n",
       "      <td>20519</td>\n",
       "      <td>20627</td>\n",
       "      <td>15738</td>\n",
       "      <td>0</td>\n",
       "    </tr>\n",
       "  </tbody>\n",
       "</table>\n",
       "<p>5 rows × 84 columns</p>\n",
       "</div>"
      ],
      "text/plain": [
       "states                       2020-07-01  2020-07-02  2020-07-03  2020-07-04  \\\n",
       "state                                                                         \n",
       "Telangana                             0        1213        1892        1850   \n",
       "Mizoram                               0           2           0           2   \n",
       "Andaman and Nicobar Islands           0           9           7           3   \n",
       "Puducherry                            0          63          22          80   \n",
       "Maharashtra                           0        6328        6364        7074   \n",
       "\n",
       "states                       2020-07-05  2020-07-06  2020-07-07  2020-07-08  \\\n",
       "state                                                                         \n",
       "Telangana                          1590        1831        1879        1924   \n",
       "Mizoram                              22          11           1           5   \n",
       "Andaman and Nicobar Islands           6          16           6           2   \n",
       "Puducherry                           42          65          30         110   \n",
       "Maharashtra                        6555        5368        5134        6603   \n",
       "\n",
       "states                       2020-07-09  2020-07-10  ...  2020-09-13  \\\n",
       "state                                                ...               \n",
       "Telangana                          1410        1278  ...        2216   \n",
       "Mizoram                               0          23  ...          35   \n",
       "Andaman and Nicobar Islands           7           0  ...          25   \n",
       "Puducherry                           49          72  ...         388   \n",
       "Maharashtra                        6875        7862  ...       22543   \n",
       "\n",
       "states                       2020-09-14  2020-09-15  2020-09-16  2020-09-17  \\\n",
       "state                                                                         \n",
       "Telangana                          1417        2058        2273        2159   \n",
       "Mizoram                              14          40          12          26   \n",
       "Andaman and Nicobar Islands          11          17          19          11   \n",
       "Puducherry                          393         375         510         317   \n",
       "Maharashtra                       17066       20482       23365       24619   \n",
       "\n",
       "states                       2020-09-18  2020-09-19  2020-09-20  2020-09-21  \\\n",
       "state                                                                         \n",
       "Telangana                          2043        2123        2137        1302   \n",
       "Mizoram                              28          14          30           7   \n",
       "Andaman and Nicobar Islands          27          13           7          22   \n",
       "Puducherry                          485         543         467         268   \n",
       "Maharashtra                       21656       20519       20627       15738   \n",
       "\n",
       "states                       2020-09-22  \n",
       "state                                    \n",
       "Telangana                          2166  \n",
       "Mizoram                             107  \n",
       "Andaman and Nicobar Islands           0  \n",
       "Puducherry                            0  \n",
       "Maharashtra                           0  \n",
       "\n",
       "[5 rows x 84 columns]"
      ]
     },
     "execution_count": 18,
     "metadata": {},
     "output_type": "execute_result"
    }
   ],
   "source": [
    "#hide\n",
    "dft_ct_new_cases.head()"
   ]
  },
  {
   "cell_type": "code",
   "execution_count": 19,
   "metadata": {
    "execution": {
     "iopub.execute_input": "2020-09-22T05:38:07.531856Z",
     "iopub.status.busy": "2020-09-22T05:38:07.509849Z",
     "iopub.status.idle": "2020-09-22T05:38:10.986539Z",
     "shell.execute_reply": "2020-09-22T05:38:10.987023Z"
    },
    "papermill": {
     "duration": 3.509487,
     "end_time": "2020-09-22T05:38:10.987180",
     "exception": false,
     "start_time": "2020-09-22T05:38:07.477693",
     "status": "completed"
    },
    "tags": []
   },
   "outputs": [
    {
     "data": {
      "image/png": "[encoded data removed]",
      "text/plain": [
       "<Figure size 1296x2016 with 11 Axes>"
      ]
     },
     "metadata": {
      "needs_background": "light"
     },
     "output_type": "display_data"
    }
   ],
   "source": [
    "#hide_input\n",
    "df = dft_ct_new_cases.copy()\n",
    "df.loc['Total'] = df.sum()\n",
    "n = 5\n",
    "ax = []\n",
    "fig = plt.figure(figsize = (18,28))\n",
    "gs = fig.add_gridspec(n+2, 5)\n",
    "# gs = fig.add_gridspec(2, 3)\n",
    "ax1 = fig.add_subplot(gs[0, :])\n",
    "ef = df.loc['Total'].rename_axis('date').reset_index()\n",
    "ef['date'] = ef['date'].astype('datetime64[ns]')\n",
    "ax1.bar(ef.date,ef.Total,alpha=0.3,color='#007acc')\n",
    "ax1.plot(ef.date,ef.Total , marker=\"o\", color='#007acc')\n",
    "ax1.xaxis.set_major_locator(mdates.WeekdayLocator())\n",
    "ax1.xaxis.set_major_formatter(mdates.DateFormatter('%b %d'))\n",
    "ax1.text(0.02, 0.5,'India daily case count', transform = ax1.transAxes, fontsize=25);\n",
    "ax1.spines['right'].set_visible(False)\n",
    "ax1.spines['top'].set_visible(False)\n",
    "\n",
    "ax2 = fig.add_subplot(gs[1,0])\n",
    "ef = df.loc['Maharashtra'].rename_axis('date').reset_index()\n",
    "ef['date'] = ef['date'].astype('datetime64[ns]')\n",
    "\n",
    "ax2.bar(ef.date, ef.Maharashtra,color = '#007acc',alpha=0.5)\n",
    "ax2.xaxis.set_major_locator(mdates.WeekdayLocator())\n",
    "ax2.xaxis.set_major_formatter(mdates.DateFormatter('%b %d'))\n",
    "ax2.set_xticks(ax2.get_xticks()[::3])\n",
    "maxyval = ef.Maharashtra.max()\n",
    "ax2.set_ylim([0,maxyval])\n",
    "ax2.text(0.05, 0.9,'Maharashtra', transform = ax2.transAxes, fontsize=20);\n",
    "ax2.spines['right'].set_visible(False)\n",
    "ax2.spines['top'].set_visible(False)\n",
    "\n",
    "\n",
    "ax3 = fig.add_subplot(gs[1,1])\n",
    "ef = df.loc['Tamil Nadu'].rename_axis('date').reset_index()\n",
    "ef['date'] = ef['date'].astype('datetime64[ns]')\n",
    "ax3.bar(ef.date, ef['Tamil Nadu'],color = '#007acc',alpha=0.5,)\n",
    "ax3.xaxis.set_major_locator(mdates.WeekdayLocator())\n",
    "ax3.xaxis.set_major_formatter(mdates.DateFormatter('%b %d'))\n",
    "ax3.set_xticks(ax3.get_xticks()[::3])\n",
    "ax3.text(0.05, 0.9,'Tamil Nadu', transform = ax3.transAxes, fontsize=20);\n",
    "ax3.spines['right'].set_visible(False)\n",
    "ax3.spines['top'].set_visible(False)\n",
    "\n",
    "ax5 = fig.add_subplot(gs[1,3])\n",
    "ef = df.loc['Telangana'].rename_axis('date').reset_index()\n",
    "ef['date'] = ef['date'].astype('datetime64[ns]')\n",
    "ax5.bar(ef.date, ef['Telangana'],color = '#007acc',alpha=0.5,)\n",
    "ax5.xaxis.set_major_locator(mdates.WeekdayLocator())\n",
    "ax5.xaxis.set_major_formatter(mdates.DateFormatter('%b %d'))\n",
    "ax5.set_xticks(ax5.get_xticks()[::3])\n",
    "ax5.text(0.05, 0.9,'Telangana', transform = ax5.transAxes, fontsize=20);\n",
    "ax5.spines['right'].set_visible(False)\n",
    "ax5.spines['top'].set_visible(False)\n",
    "\n",
    "ax6 = fig.add_subplot(gs[1,4])\n",
    "ef = df.loc['Andhra Pradesh'].rename_axis('date').reset_index()\n",
    "ef['date'] = ef['date'].astype('datetime64[ns]')\n",
    "ax6.bar(ef.date, ef['Andhra Pradesh'],color = '#007acc',alpha=0.5,)\n",
    "ax6.xaxis.set_major_locator(mdates.WeekdayLocator())\n",
    "ax6.xaxis.set_major_formatter(mdates.DateFormatter('%b %d'))\n",
    "ax6.set_xticks(ax6.get_xticks()[::3])\n",
    "ax6.text(0.05, 1,'Andhra Pradesh', transform = ax6.transAxes, fontsize=20);\n",
    "ax6.spines['right'].set_visible(False)\n",
    "ax6.spines['top'].set_visible(False)\n",
    "\n",
    "ax4 = fig.add_subplot(gs[1,2])\n",
    "ef = df.loc['Delhi'].rename_axis('date').reset_index()\n",
    "ef['date'] = ef['date'].astype('datetime64[ns]')\n",
    "ax4.bar(ef.date, ef.Delhi,color = '#007acc',alpha=0.5)\n",
    "ax4.set_xticks([])\n",
    "ax4.xaxis.set_major_locator(mdates.WeekdayLocator())\n",
    "ax4.xaxis.set_major_formatter(mdates.DateFormatter('%b %d'))\n",
    "ax4.set_xticks(ax4.get_xticks()[::3])\n",
    "ax4.spines['right'].set_visible(False)\n",
    "ax4.spines['top'].set_visible(False)\n",
    "\n",
    "ax4.text(0.05, 1,'Delhi', transform = ax4.transAxes, fontsize=20)\n",
    "\n",
    "for i in range(n):\n",
    "    \n",
    "    ax.append(fig.add_subplot(gs[i+2,:]))\n",
    "    ef = df.iloc[i+3].rename_axis('date').reset_index()\n",
    "    ef['date'] = ef['date'].astype('datetime64[ns]')\n",
    "    ax[i].bar(ef.date,ef.iloc[:,-1],color = '#007acc',alpha=0.3)\n",
    "    ax[i].plot(ef.date,ef.iloc[:,-1],marker='o',color='#007acc')\n",
    "    ax[i].text(0.02,0.5,f'{ef.columns.values[-1]}',transform = ax[i].transAxes, fontsize = 20);\n",
    "    ax[i].xaxis.set_major_locator(mdates.WeekdayLocator())\n",
    "    ax[i].xaxis.set_major_formatter(mdates.DateFormatter('%b %d'))\n",
    "    ax[i].set_ylim([0,7000])\n",
    "    ax[i].spines['right'].set_visible(False)\n",
    "    ax[i].spines['top'].set_visible(False)\n",
    "plt.tight_layout()\n"
   ]
  },
  {
   "cell_type": "code",
   "execution_count": 20,
   "metadata": {
    "execution": {
     "iopub.execute_input": "2020-09-22T05:38:11.045635Z",
     "iopub.status.busy": "2020-09-22T05:38:11.044095Z",
     "iopub.status.idle": "2020-09-22T05:38:11.047659Z",
     "shell.execute_reply": "2020-09-22T05:38:11.047153Z"
    },
    "papermill": {
     "duration": 0.037859,
     "end_time": "2020-09-22T05:38:11.047794",
     "exception": false,
     "start_time": "2020-09-22T05:38:11.009935",
     "status": "completed"
    },
    "tags": []
   },
   "outputs": [
    {
     "name": "stdout",
     "output_type": "stream",
     "text": [
      "                                   states    Cases  Deaths   PCases  PDeaths  Cases (+)  Deaths (+)  Fatality Rate\n",
      "                              Maharashtra  1224380   33015  1224380    33015          0           0           2.70\n",
      "                           Andhra Pradesh   631749    5410   631749     5410          0           0           0.86\n",
      "                               Tamil Nadu   547337    8871   547337     8871          0           0           1.62\n",
      "                                Karnataka   526876    8145   526876     8145          0           0           1.55\n",
      "                            Uttar Pradesh   358893    5135   358893     5135          0           0           1.43\n",
      "                                    Delhi   249259    5014   249259     5014          0           0           2.01\n",
      "                              West Bengal   228302    4421   228302     4421          0           0           1.94\n",
      "                                   Odisha   184122     763   184122      763          0           0           0.41\n",
      "                                Telangana   174774    1052   172608     1042       2166          10           0.60\n",
      "                                    Bihar   169856     870   169856      870          0           0           0.51\n",
      "                                    Assam   159320     578   159320      578          0           0           0.36\n",
      "                                   Kerala   138633     554   138633      554          0           0           0.40\n",
      "                                  Gujarat   124767    3337   124767     3337          0           0           2.67\n",
      "                                Rajasthan   116881    1352   116881     1352          0           0           1.16\n",
      "                                  Haryana   113075    1177   113075     1177          0           0           1.04\n",
      "                           Madhya Pradesh   108167    2007   108167     2007          0           0           1.86\n",
      "                                   Punjab    99930    2860    99930     2860          0           0           2.86\n",
      "                             Chhattisgarh    88181     690    88181      690          0           0           0.78\n",
      "                                Jharkhand    72673     626    72673      626          0           0           0.86\n",
      "                        Jammu and Kashmir    65026    1024    65026     1024          0           0           1.57\n",
      "                              Uttarakhand    41777     501    41777      501          0           0           1.20\n",
      "                                      Goa    28753     360    28753      360          0           0           1.25\n",
      "                               Puducherry    23191     467    23191      467          0           0           2.01\n",
      "                                  Tripura    22272     245    22272      245          0           0           1.10\n",
      "                         Himachal Pradesh    12438     125    12438      125          0           0           1.00\n",
      "                               Chandigarh    10298     123    10298      123          0           0           1.19\n",
      "                                  Manipur     9010      59     9010       59          0           0           0.65\n",
      "                        Arunachal Pradesh     7595      13     7595       13          0           0           0.17\n",
      "                                 Nagaland     5544      10     5544       10          0           0           0.18\n",
      "                                Meghalaya     4733      38     4733       38          0           0           0.80\n",
      "                                   Ladakh     3832      50     3832       50          0           0           1.30\n",
      "              Andaman and Nicobar Islands     3673      52     3673       52          0           0           1.42\n",
      " Dadra and Nagar Haveli and Daman and Diu     2922       2     2922        2          0           0           0.07\n",
      "                                   Sikkim     2447      29     2447       29          0           0           1.19\n",
      "                                  Mizoram     1692       0     1585        0        107           0           0.00\n",
      "                              Lakshadweep        0       0        0        0          0           0            NaN\n"
     ]
    }
   ],
   "source": [
    "#hide_input\n",
    "print(df_table.to_string(index=False))"
   ]
  },
  {
   "cell_type": "code",
   "execution_count": null,
   "metadata": {
    "papermill": {
     "duration": 0.022909,
     "end_time": "2020-09-22T05:38:11.093577",
     "exception": false,
     "start_time": "2020-09-22T05:38:11.070668",
     "status": "completed"
    },
    "tags": []
   },
   "outputs": [],
   "source": []
  },
  {
   "cell_type": "code",
   "execution_count": null,
   "metadata": {
    "papermill": {
     "duration": 0.022509,
     "end_time": "2020-09-22T05:38:11.139169",
     "exception": false,
     "start_time": "2020-09-22T05:38:11.116660",
     "status": "completed"
    },
    "tags": []
   },
   "outputs": [],
   "source": []
  }
 ],
 "metadata": {
  "kernelspec": {
   "display_name": "Python 3",
   "language": "python",
   "name": "python3"
  },
  "language_info": {
   "codemirror_mode": {
    "name": "ipython",
    "version": 3
   },
   "file_extension": ".py",
   "mimetype": "text/x-python",
   "name": "python",
   "nbconvert_exporter": "python",
   "pygments_lexer": "ipython3",
   "version": "3.6.12"
  },
  "papermill": {
   "duration": 10.311783,
   "end_time": "2020-09-22T05:38:12.526957",
   "environment_variables": {},
   "exception": null,
   "input_path": "latest.ipynb",
   "output_path": "latest.ipynb",
   "parameters": {},
   "start_time": "2020-09-22T05:38:02.215174",
   "version": "2.1.2"
  }
 },
 "nbformat": 4,
 "nbformat_minor": 4
}