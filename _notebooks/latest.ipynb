{
 "cells": [
  {
   "cell_type": "markdown",
   "metadata": {
    "papermill": {
     "duration": 0.023348,
     "end_time": "2020-11-12T15:21:47.417557",
     "exception": false,
     "start_time": "2020-11-12T15:21:47.394209",
     "status": "completed"
    },
    "tags": []
   },
   "source": [
    "# Latest COVID-19 India Matplotlib Overview"
   ]
  },
  {
   "cell_type": "code",
   "execution_count": 1,
   "metadata": {
    "execution": {
     "iopub.execute_input": "2020-11-12T15:21:47.461949Z",
     "iopub.status.busy": "2020-11-12T15:21:47.461210Z",
     "iopub.status.idle": "2020-11-12T15:21:48.194751Z",
     "shell.execute_reply": "2020-11-12T15:21:48.193614Z"
    },
    "papermill": {
     "duration": 0.75889,
     "end_time": "2020-11-12T15:21:48.194925",
     "exception": false,
     "start_time": "2020-11-12T15:21:47.436035",
     "status": "completed"
    },
    "tags": []
   },
   "outputs": [],
   "source": [
    "#hide\n",
    "import pandas as pd\n",
    "import numpy as np\n",
    "import requests\n",
    "import json\n",
    "import matplotlib.pyplot as plt\n",
    "import matplotlib.dates as mdates\n",
    "import matplotlib as mpl\n",
    "from IPython.core.display import display,HTML\n",
    "%matplotlib inline\n",
    "from datetime import date"
   ]
  },
  {
   "cell_type": "code",
   "execution_count": 2,
   "metadata": {
    "execution": {
     "iopub.execute_input": "2020-11-12T15:21:48.239721Z",
     "iopub.status.busy": "2020-11-12T15:21:48.238953Z",
     "iopub.status.idle": "2020-11-12T15:21:48.446743Z",
     "shell.execute_reply": "2020-11-12T15:21:48.446019Z"
    },
    "papermill": {
     "duration": 0.233486,
     "end_time": "2020-11-12T15:21:48.446899",
     "exception": false,
     "start_time": "2020-11-12T15:21:48.213413",
     "status": "completed"
    },
    "tags": []
   },
   "outputs": [],
   "source": [
    "#hide\n",
    "df  = pd.read_csv('https://api.covid19india.org/csv/latest/states.csv')\n",
    "df = df[['Date','State','Confirmed','Deceased']]\n",
    "df = df.rename(columns={'Confirmed':'Cases', \"Deceased\":'Deaths'})\n",
    "df_cases = df[[\"Date\",'State','Cases']]\n",
    "df_deaths = df[['Date','State','Deaths']]\n",
    "df_cases1 = df_cases.groupby('Date')\n",
    "df_deaths1= df_deaths.groupby('Date')"
   ]
  },
  {
   "cell_type": "code",
   "execution_count": 3,
   "metadata": {
    "execution": {
     "iopub.execute_input": "2020-11-12T15:21:48.490765Z",
     "iopub.status.busy": "2020-11-12T15:21:48.490004Z",
     "iopub.status.idle": "2020-11-12T15:21:48.510955Z",
     "shell.execute_reply": "2020-11-12T15:21:48.510238Z"
    },
    "papermill": {
     "duration": 0.046585,
     "end_time": "2020-11-12T15:21:48.512038",
     "exception": false,
     "start_time": "2020-11-12T15:21:48.465453",
     "status": "completed"
    },
    "tags": []
   },
   "outputs": [],
   "source": [
    "#hide\n",
    "df_snap = pd.read_csv('data/SnapshotCases-28-July.csv')\n",
    "arr_states = df_snap['states'].unique()\n",
    "arr_dates = df['Date'].unique()\n",
    "df_snap = df_snap.set_index('states')"
   ]
  },
  {
   "cell_type": "code",
   "execution_count": 4,
   "metadata": {
    "execution": {
     "iopub.execute_input": "2020-11-12T15:21:48.558165Z",
     "iopub.status.busy": "2020-11-12T15:21:48.557452Z",
     "iopub.status.idle": "2020-11-12T15:21:48.560255Z",
     "shell.execute_reply": "2020-11-12T15:21:48.560916Z"
    },
    "papermill": {
     "duration": 0.029315,
     "end_time": "2020-11-12T15:21:48.561091",
     "exception": false,
     "start_time": "2020-11-12T15:21:48.531776",
     "status": "completed"
    },
    "tags": []
   },
   "outputs": [
    {
     "data": {
      "text/plain": [
       "array(['Andaman and Nicobar Islands', 'Andhra Pradesh',\n",
       "       'Arunachal Pradesh', 'Assam', 'Bihar', 'Chandigarh',\n",
       "       'Dadra and Nagar Haveli and Daman and Diu', 'Delhi', 'Goa',\n",
       "       'Gujarat', 'Haryana', 'Himachal Pradesh', 'Jammu and Kashmir',\n",
       "       'Jharkhand', 'Karnataka', 'Kerala', 'Lakshadweep',\n",
       "       'Madhya Pradesh', 'Maharashtra', 'Manipur', 'Meghalaya', 'Mizoram',\n",
       "       'Nagaland', 'Odisha', 'Puducherry', 'Punjab', 'Rajasthan',\n",
       "       'Sikkim', 'Tamil Nadu', 'Telangana', 'Tripura', 'Uttar Pradesh',\n",
       "       'West Bengal', 'Chhattisgarh', 'Ladakh', 'Uttarakhand'],\n",
       "      dtype=object)"
      ]
     },
     "execution_count": 4,
     "metadata": {},
     "output_type": "execute_result"
    }
   ],
   "source": [
    "#hide\n",
    "arr_states[-9] = 'Puducherry'\n",
    "arr_states[-10] = 'Odisha'\n",
    "arr_states[6] = 'Dadra and Nagar Haveli and Daman and Diu'\n",
    "arr_states = np.append(arr_states,np.array(['Chhattisgarh','Ladakh','Uttarakhand']))\n",
    "arr_states"
   ]
  },
  {
   "cell_type": "code",
   "execution_count": 5,
   "metadata": {
    "execution": {
     "iopub.execute_input": "2020-11-12T15:21:48.612596Z",
     "iopub.status.busy": "2020-11-12T15:21:48.611867Z",
     "iopub.status.idle": "2020-11-12T15:21:48.623344Z",
     "shell.execute_reply": "2020-11-12T15:21:48.622736Z"
    },
    "papermill": {
     "duration": 0.043177,
     "end_time": "2020-11-12T15:21:48.623509",
     "exception": false,
     "start_time": "2020-11-12T15:21:48.580332",
     "status": "completed"
    },
    "tags": []
   },
   "outputs": [],
   "source": [
    "#hide\n",
    "dates = []\n",
    "for i in arr_dates:\n",
    "    if i>='2020-07-01':\n",
    "        dates.append(i)\n",
    "dict = {'states':dates}\n",
    "for i in arr_states:\n",
    "    dict[i] = [0]*len(dates)\n",
    "dft_cases = pd.DataFrame(dict)\n",
    "dft_deaths = pd.DataFrame(dict)\n"
   ]
  },
  {
   "cell_type": "code",
   "execution_count": 6,
   "metadata": {
    "execution": {
     "iopub.execute_input": "2020-11-12T15:21:48.668030Z",
     "iopub.status.busy": "2020-11-12T15:21:48.667308Z",
     "iopub.status.idle": "2020-11-12T15:21:51.379088Z",
     "shell.execute_reply": "2020-11-12T15:21:51.378398Z"
    },
    "papermill": {
     "duration": 2.73658,
     "end_time": "2020-11-12T15:21:51.379250",
     "exception": false,
     "start_time": "2020-11-12T15:21:48.642670",
     "status": "completed"
    },
    "tags": []
   },
   "outputs": [],
   "source": [
    "#hide\n",
    "for i in range(len(dates)):\n",
    "    df1_deaths = df_deaths1.get_group(dates[i])\n",
    "    for j in range(len(df1_deaths.index)):\n",
    "        if df1_deaths.iloc[j,1] in arr_states:\n",
    "            dft_deaths.loc[i,df1_deaths.iloc[j,1]] = df1_deaths.iloc[j,2]\n",
    "dft_deaths = dft_deaths.set_index('states')"
   ]
  },
  {
   "cell_type": "code",
   "execution_count": 7,
   "metadata": {
    "execution": {
     "iopub.execute_input": "2020-11-12T15:21:51.429274Z",
     "iopub.status.busy": "2020-11-12T15:21:51.428573Z",
     "iopub.status.idle": "2020-11-12T15:21:54.125138Z",
     "shell.execute_reply": "2020-11-12T15:21:54.124537Z"
    },
    "papermill": {
     "duration": 2.725576,
     "end_time": "2020-11-12T15:21:54.125299",
     "exception": false,
     "start_time": "2020-11-12T15:21:51.399723",
     "status": "completed"
    },
    "tags": []
   },
   "outputs": [],
   "source": [
    "#hide\n",
    "for i in range(len(dates)):\n",
    "    df1_cases = df_cases1.get_group(dates[i])\n",
    "    for j in range(len(df1_cases.index)):\n",
    "        if df1_cases.iloc[j,1] in arr_states:\n",
    "            dft_cases.loc[i,df1_cases.iloc[j,1]] = df1_cases.iloc[j,2]\n",
    "dft_cases = dft_cases.set_index('states')"
   ]
  },
  {
   "cell_type": "code",
   "execution_count": 8,
   "metadata": {
    "execution": {
     "iopub.execute_input": "2020-11-12T15:21:54.170346Z",
     "iopub.status.busy": "2020-11-12T15:21:54.169651Z",
     "iopub.status.idle": "2020-11-12T15:21:54.171604Z",
     "shell.execute_reply": "2020-11-12T15:21:54.172251Z"
    },
    "papermill": {
     "duration": 0.027937,
     "end_time": "2020-11-12T15:21:54.172424",
     "exception": false,
     "start_time": "2020-11-12T15:21:54.144487",
     "status": "completed"
    },
    "tags": []
   },
   "outputs": [],
   "source": [
    "#hide\n",
    "dft_cases = dft_cases.T\n",
    "dft_deaths = dft_deaths.T\n",
    "dt_today = dates[-1]\n",
    "dt_yday = dates[-2]"
   ]
  },
  {
   "cell_type": "code",
   "execution_count": 9,
   "metadata": {
    "execution": {
     "iopub.execute_input": "2020-11-12T15:21:54.217141Z",
     "iopub.status.busy": "2020-11-12T15:21:54.216216Z",
     "iopub.status.idle": "2020-11-12T15:21:54.221503Z",
     "shell.execute_reply": "2020-11-12T15:21:54.220892Z"
    },
    "papermill": {
     "duration": 0.031782,
     "end_time": "2020-11-12T15:21:54.221688",
     "exception": false,
     "start_time": "2020-11-12T15:21:54.189906",
     "status": "completed"
    },
    "tags": []
   },
   "outputs": [],
   "source": [
    "#hide\n",
    "dft_cases = dft_cases.reset_index()\n",
    "dft_deaths = dft_deaths.reset_index()\n",
    "dft_cases = dft_cases.rename(columns = {'index':'state'})\n",
    "dft_deaths = dft_deaths.rename(columns = {'index':'state'})"
   ]
  },
  {
   "cell_type": "code",
   "execution_count": 10,
   "metadata": {
    "execution": {
     "iopub.execute_input": "2020-11-12T15:21:54.274729Z",
     "iopub.status.busy": "2020-11-12T15:21:54.273932Z",
     "iopub.status.idle": "2020-11-12T15:21:54.278087Z",
     "shell.execute_reply": "2020-11-12T15:21:54.277515Z"
    },
    "papermill": {
     "duration": 0.037828,
     "end_time": "2020-11-12T15:21:54.278248",
     "exception": false,
     "start_time": "2020-11-12T15:21:54.240420",
     "status": "completed"
    },
    "tags": []
   },
   "outputs": [],
   "source": [
    "#hide\n",
    "dfc_cases = dft_cases.groupby('state')[dt_today].sum()\n",
    "dfc_deaths = dft_deaths.groupby('state')[dt_today].sum()\n",
    "dfp_cases = dft_cases.groupby('state')[dt_yday].sum()\n",
    "dfp_deaths = dft_deaths.groupby('state')[dt_yday].sum()"
   ]
  },
  {
   "cell_type": "code",
   "execution_count": 11,
   "metadata": {
    "execution": {
     "iopub.execute_input": "2020-11-12T15:21:54.323531Z",
     "iopub.status.busy": "2020-11-12T15:21:54.322817Z",
     "iopub.status.idle": "2020-11-12T15:21:54.337809Z",
     "shell.execute_reply": "2020-11-12T15:21:54.338403Z"
    },
    "papermill": {
     "duration": 0.04235,
     "end_time": "2020-11-12T15:21:54.338615",
     "exception": false,
     "start_time": "2020-11-12T15:21:54.296265",
     "status": "completed"
    },
    "tags": []
   },
   "outputs": [
    {
     "data": {
      "text/html": [
       "<div>\n",
       "<style scoped>\n",
       "    .dataframe tbody tr th:only-of-type {\n",
       "        vertical-align: middle;\n",
       "    }\n",
       "\n",
       "    .dataframe tbody tr th {\n",
       "        vertical-align: top;\n",
       "    }\n",
       "\n",
       "    .dataframe thead th {\n",
       "        text-align: right;\n",
       "    }\n",
       "</style>\n",
       "<table border=\"1\" class=\"dataframe\">\n",
       "  <thead>\n",
       "    <tr style=\"text-align: right;\">\n",
       "      <th></th>\n",
       "      <th>states</th>\n",
       "      <th>Cases</th>\n",
       "      <th>Deaths</th>\n",
       "      <th>PCases</th>\n",
       "      <th>PDeaths</th>\n",
       "    </tr>\n",
       "  </thead>\n",
       "  <tbody>\n",
       "    <tr>\n",
       "      <th>0</th>\n",
       "      <td>Maharashtra</td>\n",
       "      <td>1731833</td>\n",
       "      <td>45560</td>\n",
       "      <td>1731833</td>\n",
       "      <td>45560</td>\n",
       "    </tr>\n",
       "    <tr>\n",
       "      <th>1</th>\n",
       "      <td>Karnataka</td>\n",
       "      <td>853796</td>\n",
       "      <td>11453</td>\n",
       "      <td>853796</td>\n",
       "      <td>11453</td>\n",
       "    </tr>\n",
       "    <tr>\n",
       "      <th>2</th>\n",
       "      <td>Andhra Pradesh</td>\n",
       "      <td>847977</td>\n",
       "      <td>6828</td>\n",
       "      <td>847977</td>\n",
       "      <td>6828</td>\n",
       "    </tr>\n",
       "    <tr>\n",
       "      <th>3</th>\n",
       "      <td>Tamil Nadu</td>\n",
       "      <td>750409</td>\n",
       "      <td>11415</td>\n",
       "      <td>750409</td>\n",
       "      <td>11415</td>\n",
       "    </tr>\n",
       "    <tr>\n",
       "      <th>4</th>\n",
       "      <td>Kerala</td>\n",
       "      <td>508257</td>\n",
       "      <td>1797</td>\n",
       "      <td>502720</td>\n",
       "      <td>1772</td>\n",
       "    </tr>\n",
       "  </tbody>\n",
       "</table>\n",
       "</div>"
      ],
      "text/plain": [
       "           states    Cases  Deaths   PCases  PDeaths\n",
       "0     Maharashtra  1731833   45560  1731833    45560\n",
       "1       Karnataka   853796   11453   853796    11453\n",
       "2  Andhra Pradesh   847977    6828   847977     6828\n",
       "3      Tamil Nadu   750409   11415   750409    11415\n",
       "4          Kerala   508257    1797   502720     1772"
      ]
     },
     "execution_count": 11,
     "metadata": {},
     "output_type": "execute_result"
    }
   ],
   "source": [
    "#hide\n",
    "df_table = pd.DataFrame({'states': dfc_cases.index, 'Cases': dfc_cases.values, 'Deaths': dfc_deaths.values, 'PCases': dfp_cases.values, 'PDeaths': dfp_deaths.values}).set_index('states')\n",
    "df_table = df_table.sort_values(by = ['Cases','Deaths'], ascending = [False, False])\n",
    "df_table = df_table.reset_index()\n",
    "df_table.head()"
   ]
  },
  {
   "cell_type": "code",
   "execution_count": 12,
   "metadata": {
    "execution": {
     "iopub.execute_input": "2020-11-12T15:21:54.382142Z",
     "iopub.status.busy": "2020-11-12T15:21:54.381378Z",
     "iopub.status.idle": "2020-11-12T15:21:54.392848Z",
     "shell.execute_reply": "2020-11-12T15:21:54.392100Z"
    },
    "papermill": {
     "duration": 0.036034,
     "end_time": "2020-11-12T15:21:54.393028",
     "exception": false,
     "start_time": "2020-11-12T15:21:54.356994",
     "status": "completed"
    },
    "tags": []
   },
   "outputs": [],
   "source": [
    "#hide\n",
    "for c in 'Cases, Deaths'.split(', '):\n",
    "    df_table[f'{c} (+)'] = (df_table[c] - df_table[f'P{c}']).clip(0)\n",
    "df_table['Fatality Rate'] = (100* df_table['Deaths']/ df_table['Cases']).round(2)"
   ]
  },
  {
   "cell_type": "code",
   "execution_count": 13,
   "metadata": {
    "execution": {
     "iopub.execute_input": "2020-11-12T15:21:54.444421Z",
     "iopub.status.busy": "2020-11-12T15:21:54.443693Z",
     "iopub.status.idle": "2020-11-12T15:21:54.447696Z",
     "shell.execute_reply": "2020-11-12T15:21:54.447120Z"
    },
    "papermill": {
     "duration": 0.035864,
     "end_time": "2020-11-12T15:21:54.447844",
     "exception": false,
     "start_time": "2020-11-12T15:21:54.411980",
     "status": "completed"
    },
    "tags": []
   },
   "outputs": [
    {
     "data": {
      "text/html": [
       "<div>\n",
       "<style scoped>\n",
       "    .dataframe tbody tr th:only-of-type {\n",
       "        vertical-align: middle;\n",
       "    }\n",
       "\n",
       "    .dataframe tbody tr th {\n",
       "        vertical-align: top;\n",
       "    }\n",
       "\n",
       "    .dataframe thead th {\n",
       "        text-align: right;\n",
       "    }\n",
       "</style>\n",
       "<table border=\"1\" class=\"dataframe\">\n",
       "  <thead>\n",
       "    <tr style=\"text-align: right;\">\n",
       "      <th></th>\n",
       "      <th>states</th>\n",
       "      <th>Cases</th>\n",
       "      <th>Deaths</th>\n",
       "      <th>PCases</th>\n",
       "      <th>PDeaths</th>\n",
       "      <th>Cases (+)</th>\n",
       "      <th>Deaths (+)</th>\n",
       "      <th>Fatality Rate</th>\n",
       "    </tr>\n",
       "  </thead>\n",
       "  <tbody>\n",
       "    <tr>\n",
       "      <th>0</th>\n",
       "      <td>Maharashtra</td>\n",
       "      <td>1731833</td>\n",
       "      <td>45560</td>\n",
       "      <td>1731833</td>\n",
       "      <td>45560</td>\n",
       "      <td>0</td>\n",
       "      <td>0</td>\n",
       "      <td>2.63</td>\n",
       "    </tr>\n",
       "    <tr>\n",
       "      <th>1</th>\n",
       "      <td>Karnataka</td>\n",
       "      <td>853796</td>\n",
       "      <td>11453</td>\n",
       "      <td>853796</td>\n",
       "      <td>11453</td>\n",
       "      <td>0</td>\n",
       "      <td>0</td>\n",
       "      <td>1.34</td>\n",
       "    </tr>\n",
       "    <tr>\n",
       "      <th>2</th>\n",
       "      <td>Andhra Pradesh</td>\n",
       "      <td>847977</td>\n",
       "      <td>6828</td>\n",
       "      <td>847977</td>\n",
       "      <td>6828</td>\n",
       "      <td>0</td>\n",
       "      <td>0</td>\n",
       "      <td>0.81</td>\n",
       "    </tr>\n",
       "    <tr>\n",
       "      <th>3</th>\n",
       "      <td>Tamil Nadu</td>\n",
       "      <td>750409</td>\n",
       "      <td>11415</td>\n",
       "      <td>750409</td>\n",
       "      <td>11415</td>\n",
       "      <td>0</td>\n",
       "      <td>0</td>\n",
       "      <td>1.52</td>\n",
       "    </tr>\n",
       "    <tr>\n",
       "      <th>4</th>\n",
       "      <td>Kerala</td>\n",
       "      <td>508257</td>\n",
       "      <td>1797</td>\n",
       "      <td>502720</td>\n",
       "      <td>1772</td>\n",
       "      <td>5537</td>\n",
       "      <td>25</td>\n",
       "      <td>0.35</td>\n",
       "    </tr>\n",
       "  </tbody>\n",
       "</table>\n",
       "</div>"
      ],
      "text/plain": [
       "           states    Cases  Deaths   PCases  PDeaths  Cases (+)  Deaths (+)  \\\n",
       "0     Maharashtra  1731833   45560  1731833    45560          0           0   \n",
       "1       Karnataka   853796   11453   853796    11453          0           0   \n",
       "2  Andhra Pradesh   847977    6828   847977     6828          0           0   \n",
       "3      Tamil Nadu   750409   11415   750409    11415          0           0   \n",
       "4          Kerala   508257    1797   502720     1772       5537          25   \n",
       "\n",
       "   Fatality Rate  \n",
       "0           2.63  \n",
       "1           1.34  \n",
       "2           0.81  \n",
       "3           1.52  \n",
       "4           0.35  "
      ]
     },
     "execution_count": 13,
     "metadata": {},
     "output_type": "execute_result"
    }
   ],
   "source": [
    "#hide\n",
    "df_table.head()"
   ]
  },
  {
   "cell_type": "code",
   "execution_count": 14,
   "metadata": {
    "execution": {
     "iopub.execute_input": "2020-11-12T15:21:54.492928Z",
     "iopub.status.busy": "2020-11-12T15:21:54.492133Z",
     "iopub.status.idle": "2020-11-12T15:21:54.513179Z",
     "shell.execute_reply": "2020-11-12T15:21:54.512566Z"
    },
    "papermill": {
     "duration": 0.046468,
     "end_time": "2020-11-12T15:21:54.513328",
     "exception": false,
     "start_time": "2020-11-12T15:21:54.466860",
     "status": "completed"
    },
    "tags": []
   },
   "outputs": [
    {
     "data": {
      "text/plain": [
       "{'updated': '2020-11-12',\n",
       " 'since': '2020-11-11',\n",
       " 'Cases': 8690621,\n",
       " 'PCases': 8684039,\n",
       " 'Deaths': 128204,\n",
       " 'PDeaths': 128165,\n",
       " 'Cases (+)': 6582,\n",
       " 'Deaths (+)': 39}"
      ]
     },
     "execution_count": 14,
     "metadata": {},
     "output_type": "execute_result"
    }
   ],
   "source": [
    "#hide\n",
    "summary = {'updated':dates[-1], 'since':dates[-2]}\n",
    "list_names = ['Cases', 'PCases', 'Deaths', 'PDeaths', 'Cases (+)', 'Deaths (+)']\n",
    "for name in list_names:\n",
    "    summary[name] = df_table.sum()[name]\n",
    "summary"
   ]
  },
  {
   "cell_type": "code",
   "execution_count": 15,
   "metadata": {
    "execution": {
     "iopub.execute_input": "2020-11-12T15:21:54.566458Z",
     "iopub.status.busy": "2020-11-12T15:21:54.565712Z",
     "iopub.status.idle": "2020-11-12T15:21:54.568837Z",
     "shell.execute_reply": "2020-11-12T15:21:54.569647Z"
    },
    "papermill": {
     "duration": 0.036863,
     "end_time": "2020-11-12T15:21:54.569829",
     "exception": false,
     "start_time": "2020-11-12T15:21:54.532966",
     "status": "completed"
    },
    "tags": []
   },
   "outputs": [],
   "source": [
    "#hide\n",
    "overview = '''\n",
    "<!-- #######  HTML!! #########-->\n",
    "<h1 style=\"color: #5e9ca0; text-align: center;\">India</h1>\n",
    "<p style=\"text-align: center;\">Last update: <strong>{update}</strong></p>\n",
    "<p style=\"text-align: center;\">Confirmed cases:</p>\n",
    "<p style=\"text-align: center;font-size:24px;\">{cases} (<span style=\"color: #ff0000;\">+{new}</span>)</p>\n",
    "<p style=\"text-align: center;\">Confirmed deaths:</p>\n",
    "<p style=\"text-align: center;font-size:24px;\">{deaths} (<span style=\"color: #ff0000;\">+{dnew}</span>)</p>\n",
    "'''"
   ]
  },
  {
   "cell_type": "code",
   "execution_count": 16,
   "metadata": {
    "execution": {
     "iopub.execute_input": "2020-11-12T15:21:54.620019Z",
     "iopub.status.busy": "2020-11-12T15:21:54.619294Z",
     "iopub.status.idle": "2020-11-12T15:21:54.622419Z",
     "shell.execute_reply": "2020-11-12T15:21:54.623000Z"
    },
    "papermill": {
     "duration": 0.031728,
     "end_time": "2020-11-12T15:21:54.623172",
     "exception": false,
     "start_time": "2020-11-12T15:21:54.591444",
     "status": "completed"
    },
    "tags": []
   },
   "outputs": [
    {
     "data": {
      "text/html": [
       "\n",
       "<!-- #######  HTML!! #########-->\n",
       "<h1 style=\"color: #5e9ca0; text-align: center;\">India</h1>\n",
       "<p style=\"text-align: center;\">Last update: <strong>2020-11-12</strong></p>\n",
       "<p style=\"text-align: center;\">Confirmed cases:</p>\n",
       "<p style=\"text-align: center;font-size:24px;\">8690621 (<span style=\"color: #ff0000;\">+6582</span>)</p>\n",
       "<p style=\"text-align: center;\">Confirmed deaths:</p>\n",
       "<p style=\"text-align: center;font-size:24px;\">128204 (<span style=\"color: #ff0000;\">+39</span>)</p>\n"
      ],
      "text/plain": [
       "<IPython.core.display.HTML object>"
      ]
     },
     "metadata": {},
     "output_type": "display_data"
    }
   ],
   "source": [
    "#hide_input\n",
    "update = summary['updated']\n",
    "cases = summary['Cases']\n",
    "new = summary['Cases (+)']\n",
    "deaths = summary['Deaths']\n",
    "dnew = summary['Deaths (+)']\n",
    "\n",
    "html = HTML(overview.format(update=update, cases=cases,new=new,deaths=deaths,dnew=dnew))\n",
    "\n",
    "display(html)"
   ]
  },
  {
   "cell_type": "code",
   "execution_count": 17,
   "metadata": {
    "execution": {
     "iopub.execute_input": "2020-11-12T15:21:54.685979Z",
     "iopub.status.busy": "2020-11-12T15:21:54.684596Z",
     "iopub.status.idle": "2020-11-12T15:21:54.692646Z",
     "shell.execute_reply": "2020-11-12T15:21:54.691372Z"
    },
    "papermill": {
     "duration": 0.038472,
     "end_time": "2020-11-12T15:21:54.692949",
     "exception": false,
     "start_time": "2020-11-12T15:21:54.654477",
     "status": "completed"
    },
    "tags": []
   },
   "outputs": [],
   "source": [
    "#hide\n",
    "dt_cols = list(dft_cases.columns[1:])\n",
    "dft_ct_new_cases = dft_cases.groupby('state')[dt_cols].sum().diff(axis=1).fillna(0).astype(int)\n",
    "dft_ct_new_cases.sort_values(by = dates[-1], ascending = False,inplace = True)"
   ]
  },
  {
   "cell_type": "code",
   "execution_count": 18,
   "metadata": {
    "execution": {
     "iopub.execute_input": "2020-11-12T15:21:54.761142Z",
     "iopub.status.busy": "2020-11-12T15:21:54.760254Z",
     "iopub.status.idle": "2020-11-12T15:21:54.763509Z",
     "shell.execute_reply": "2020-11-12T15:21:54.764234Z"
    },
    "papermill": {
     "duration": 0.048862,
     "end_time": "2020-11-12T15:21:54.764404",
     "exception": false,
     "start_time": "2020-11-12T15:21:54.715542",
     "status": "completed"
    },
    "tags": []
   },
   "outputs": [
    {
     "data": {
      "text/html": [
       "<div>\n",
       "<style scoped>\n",
       "    .dataframe tbody tr th:only-of-type {\n",
       "        vertical-align: middle;\n",
       "    }\n",
       "\n",
       "    .dataframe tbody tr th {\n",
       "        vertical-align: top;\n",
       "    }\n",
       "\n",
       "    .dataframe thead th {\n",
       "        text-align: right;\n",
       "    }\n",
       "</style>\n",
       "<table border=\"1\" class=\"dataframe\">\n",
       "  <thead>\n",
       "    <tr style=\"text-align: right;\">\n",
       "      <th>states</th>\n",
       "      <th>2020-07-01</th>\n",
       "      <th>2020-07-02</th>\n",
       "      <th>2020-07-03</th>\n",
       "      <th>2020-07-04</th>\n",
       "      <th>2020-07-05</th>\n",
       "      <th>2020-07-06</th>\n",
       "      <th>2020-07-07</th>\n",
       "      <th>2020-07-08</th>\n",
       "      <th>2020-07-09</th>\n",
       "      <th>2020-07-10</th>\n",
       "      <th>...</th>\n",
       "      <th>2020-11-03</th>\n",
       "      <th>2020-11-04</th>\n",
       "      <th>2020-11-05</th>\n",
       "      <th>2020-11-06</th>\n",
       "      <th>2020-11-07</th>\n",
       "      <th>2020-11-08</th>\n",
       "      <th>2020-11-09</th>\n",
       "      <th>2020-11-10</th>\n",
       "      <th>2020-11-11</th>\n",
       "      <th>2020-11-12</th>\n",
       "    </tr>\n",
       "    <tr>\n",
       "      <th>state</th>\n",
       "      <th></th>\n",
       "      <th></th>\n",
       "      <th></th>\n",
       "      <th></th>\n",
       "      <th></th>\n",
       "      <th></th>\n",
       "      <th></th>\n",
       "      <th></th>\n",
       "      <th></th>\n",
       "      <th></th>\n",
       "      <th></th>\n",
       "      <th></th>\n",
       "      <th></th>\n",
       "      <th></th>\n",
       "      <th></th>\n",
       "      <th></th>\n",
       "      <th></th>\n",
       "      <th></th>\n",
       "      <th></th>\n",
       "      <th></th>\n",
       "      <th></th>\n",
       "    </tr>\n",
       "  </thead>\n",
       "  <tbody>\n",
       "    <tr>\n",
       "      <th>Kerala</th>\n",
       "      <td>0</td>\n",
       "      <td>160</td>\n",
       "      <td>211</td>\n",
       "      <td>240</td>\n",
       "      <td>225</td>\n",
       "      <td>193</td>\n",
       "      <td>272</td>\n",
       "      <td>301</td>\n",
       "      <td>339</td>\n",
       "      <td>416</td>\n",
       "      <td>...</td>\n",
       "      <td>6862</td>\n",
       "      <td>8516</td>\n",
       "      <td>6820</td>\n",
       "      <td>7002</td>\n",
       "      <td>7201</td>\n",
       "      <td>5440</td>\n",
       "      <td>3593</td>\n",
       "      <td>6010</td>\n",
       "      <td>7007</td>\n",
       "      <td>5537</td>\n",
       "    </tr>\n",
       "    <tr>\n",
       "      <th>Odisha</th>\n",
       "      <td>0</td>\n",
       "      <td>229</td>\n",
       "      <td>561</td>\n",
       "      <td>495</td>\n",
       "      <td>469</td>\n",
       "      <td>456</td>\n",
       "      <td>571</td>\n",
       "      <td>527</td>\n",
       "      <td>577</td>\n",
       "      <td>755</td>\n",
       "      <td>...</td>\n",
       "      <td>1201</td>\n",
       "      <td>1474</td>\n",
       "      <td>1385</td>\n",
       "      <td>1494</td>\n",
       "      <td>1372</td>\n",
       "      <td>1434</td>\n",
       "      <td>1219</td>\n",
       "      <td>987</td>\n",
       "      <td>1220</td>\n",
       "      <td>986</td>\n",
       "    </tr>\n",
       "    <tr>\n",
       "      <th>Tripura</th>\n",
       "      <td>0</td>\n",
       "      <td>39</td>\n",
       "      <td>93</td>\n",
       "      <td>25</td>\n",
       "      <td>23</td>\n",
       "      <td>111</td>\n",
       "      <td>24</td>\n",
       "      <td>57</td>\n",
       "      <td>16</td>\n",
       "      <td>142</td>\n",
       "      <td>...</td>\n",
       "      <td>137</td>\n",
       "      <td>116</td>\n",
       "      <td>132</td>\n",
       "      <td>110</td>\n",
       "      <td>87</td>\n",
       "      <td>83</td>\n",
       "      <td>26</td>\n",
       "      <td>79</td>\n",
       "      <td>84</td>\n",
       "      <td>59</td>\n",
       "    </tr>\n",
       "    <tr>\n",
       "      <th>Andaman and Nicobar Islands</th>\n",
       "      <td>0</td>\n",
       "      <td>9</td>\n",
       "      <td>7</td>\n",
       "      <td>3</td>\n",
       "      <td>6</td>\n",
       "      <td>16</td>\n",
       "      <td>6</td>\n",
       "      <td>2</td>\n",
       "      <td>7</td>\n",
       "      <td>0</td>\n",
       "      <td>...</td>\n",
       "      <td>20</td>\n",
       "      <td>17</td>\n",
       "      <td>14</td>\n",
       "      <td>17</td>\n",
       "      <td>21</td>\n",
       "      <td>9</td>\n",
       "      <td>13</td>\n",
       "      <td>14</td>\n",
       "      <td>17</td>\n",
       "      <td>0</td>\n",
       "    </tr>\n",
       "    <tr>\n",
       "      <th>Puducherry</th>\n",
       "      <td>0</td>\n",
       "      <td>63</td>\n",
       "      <td>22</td>\n",
       "      <td>80</td>\n",
       "      <td>42</td>\n",
       "      <td>65</td>\n",
       "      <td>30</td>\n",
       "      <td>110</td>\n",
       "      <td>49</td>\n",
       "      <td>72</td>\n",
       "      <td>...</td>\n",
       "      <td>147</td>\n",
       "      <td>104</td>\n",
       "      <td>121</td>\n",
       "      <td>125</td>\n",
       "      <td>69</td>\n",
       "      <td>94</td>\n",
       "      <td>62</td>\n",
       "      <td>100</td>\n",
       "      <td>114</td>\n",
       "      <td>0</td>\n",
       "    </tr>\n",
       "  </tbody>\n",
       "</table>\n",
       "<p>5 rows × 135 columns</p>\n",
       "</div>"
      ],
      "text/plain": [
       "states                       2020-07-01  2020-07-02  2020-07-03  2020-07-04  \\\n",
       "state                                                                         \n",
       "Kerala                                0         160         211         240   \n",
       "Odisha                                0         229         561         495   \n",
       "Tripura                               0          39          93          25   \n",
       "Andaman and Nicobar Islands           0           9           7           3   \n",
       "Puducherry                            0          63          22          80   \n",
       "\n",
       "states                       2020-07-05  2020-07-06  2020-07-07  2020-07-08  \\\n",
       "state                                                                         \n",
       "Kerala                              225         193         272         301   \n",
       "Odisha                              469         456         571         527   \n",
       "Tripura                              23         111          24          57   \n",
       "Andaman and Nicobar Islands           6          16           6           2   \n",
       "Puducherry                           42          65          30         110   \n",
       "\n",
       "states                       2020-07-09  2020-07-10  ...  2020-11-03  \\\n",
       "state                                                ...               \n",
       "Kerala                              339         416  ...        6862   \n",
       "Odisha                              577         755  ...        1201   \n",
       "Tripura                              16         142  ...         137   \n",
       "Andaman and Nicobar Islands           7           0  ...          20   \n",
       "Puducherry                           49          72  ...         147   \n",
       "\n",
       "states                       2020-11-04  2020-11-05  2020-11-06  2020-11-07  \\\n",
       "state                                                                         \n",
       "Kerala                             8516        6820        7002        7201   \n",
       "Odisha                             1474        1385        1494        1372   \n",
       "Tripura                             116         132         110          87   \n",
       "Andaman and Nicobar Islands          17          14          17          21   \n",
       "Puducherry                          104         121         125          69   \n",
       "\n",
       "states                       2020-11-08  2020-11-09  2020-11-10  2020-11-11  \\\n",
       "state                                                                         \n",
       "Kerala                             5440        3593        6010        7007   \n",
       "Odisha                             1434        1219         987        1220   \n",
       "Tripura                              83          26          79          84   \n",
       "Andaman and Nicobar Islands           9          13          14          17   \n",
       "Puducherry                           94          62         100         114   \n",
       "\n",
       "states                       2020-11-12  \n",
       "state                                    \n",
       "Kerala                             5537  \n",
       "Odisha                              986  \n",
       "Tripura                              59  \n",
       "Andaman and Nicobar Islands           0  \n",
       "Puducherry                            0  \n",
       "\n",
       "[5 rows x 135 columns]"
      ]
     },
     "execution_count": 18,
     "metadata": {},
     "output_type": "execute_result"
    }
   ],
   "source": [
    "#hide\n",
    "dft_ct_new_cases.head()"
   ]
  },
  {
   "cell_type": "code",
   "execution_count": 19,
   "metadata": {
    "execution": {
     "iopub.execute_input": "2020-11-12T15:21:54.837450Z",
     "iopub.status.busy": "2020-11-12T15:21:54.826685Z",
     "iopub.status.idle": "2020-11-12T15:22:01.802012Z",
     "shell.execute_reply": "2020-11-12T15:22:01.802619Z"
    },
    "papermill": {
     "duration": 7.016692,
     "end_time": "2020-11-12T15:22:01.802847",
     "exception": false,
     "start_time": "2020-11-12T15:21:54.786155",
     "status": "completed"
    },
    "tags": []
   },
   "outputs": [
    {
     "data": {
      "image/png": "[encoded data removed]",
      "text/plain": [
       "<Figure size 1296x2016 with 11 Axes>"
      ]
     },
     "metadata": {
      "needs_background": "light"
     },
     "output_type": "display_data"
    }
   ],
   "source": [
    "#hide_input\n",
    "df = dft_ct_new_cases.copy()\n",
    "df.loc['Total'] = df.sum()\n",
    "n = 5\n",
    "ax = []\n",
    "fig = plt.figure(figsize = (18,28))\n",
    "gs = fig.add_gridspec(n+2, 5)\n",
    "# gs = fig.add_gridspec(2, 3)\n",
    "ax1 = fig.add_subplot(gs[0, :])\n",
    "ef = df.loc['Total'].rename_axis('date').reset_index()\n",
    "ef['date'] = ef['date'].astype('datetime64[ns]')\n",
    "ax1.bar(ef.date,ef.Total,alpha=0.3,color='#007acc')\n",
    "ax1.plot(ef.date,ef.Total , marker=\"o\", color='#007acc')\n",
    "ax1.xaxis.set_major_locator(mdates.WeekdayLocator())\n",
    "ax1.xaxis.set_major_formatter(mdates.DateFormatter('%b %d'))\n",
    "ax1.text(0.02, 0.5,'India daily case count', transform = ax1.transAxes, fontsize=25);\n",
    "ax1.spines['right'].set_visible(False)\n",
    "ax1.spines['top'].set_visible(False)\n",
    "\n",
    "ax2 = fig.add_subplot(gs[1,0])\n",
    "ef = df.loc['Maharashtra'].rename_axis('date').reset_index()\n",
    "ef['date'] = ef['date'].astype('datetime64[ns]')\n",
    "\n",
    "ax2.bar(ef.date, ef.Maharashtra,color = '#007acc',alpha=0.5)\n",
    "ax2.xaxis.set_major_locator(mdates.WeekdayLocator())\n",
    "ax2.xaxis.set_major_formatter(mdates.DateFormatter('%b %d'))\n",
    "ax2.set_xticks(ax2.get_xticks()[::3])\n",
    "maxyval = ef.Maharashtra.max()\n",
    "ax2.set_ylim([0,maxyval])\n",
    "ax2.text(0.05, 0.9,'Maharashtra', transform = ax2.transAxes, fontsize=20);\n",
    "ax2.spines['right'].set_visible(False)\n",
    "ax2.spines['top'].set_visible(False)\n",
    "\n",
    "\n",
    "ax3 = fig.add_subplot(gs[1,1])\n",
    "ef = df.loc['Tamil Nadu'].rename_axis('date').reset_index()\n",
    "ef['date'] = ef['date'].astype('datetime64[ns]')\n",
    "ax3.bar(ef.date, ef['Tamil Nadu'],color = '#007acc',alpha=0.5,)\n",
    "ax3.xaxis.set_major_locator(mdates.WeekdayLocator())\n",
    "ax3.xaxis.set_major_formatter(mdates.DateFormatter('%b %d'))\n",
    "ax3.set_xticks(ax3.get_xticks()[::3])\n",
    "ax3.text(0.05, 0.9,'Tamil Nadu', transform = ax3.transAxes, fontsize=20);\n",
    "ax3.spines['right'].set_visible(False)\n",
    "ax3.spines['top'].set_visible(False)\n",
    "\n",
    "ax5 = fig.add_subplot(gs[1,3])\n",
    "ef = df.loc['Telangana'].rename_axis('date').reset_index()\n",
    "ef['date'] = ef['date'].astype('datetime64[ns]')\n",
    "ax5.bar(ef.date, ef['Telangana'],color = '#007acc',alpha=0.5,)\n",
    "ax5.xaxis.set_major_locator(mdates.WeekdayLocator())\n",
    "ax5.xaxis.set_major_formatter(mdates.DateFormatter('%b %d'))\n",
    "ax5.set_xticks(ax5.get_xticks()[::3])\n",
    "ax5.text(0.05, 0.9,'Telangana', transform = ax5.transAxes, fontsize=20);\n",
    "ax5.spines['right'].set_visible(False)\n",
    "ax5.spines['top'].set_visible(False)\n",
    "\n",
    "ax6 = fig.add_subplot(gs[1,4])\n",
    "ef = df.loc['Andhra Pradesh'].rename_axis('date').reset_index()\n",
    "ef['date'] = ef['date'].astype('datetime64[ns]')\n",
    "ax6.bar(ef.date, ef['Andhra Pradesh'],color = '#007acc',alpha=0.5,)\n",
    "ax6.xaxis.set_major_locator(mdates.WeekdayLocator())\n",
    "ax6.xaxis.set_major_formatter(mdates.DateFormatter('%b %d'))\n",
    "ax6.set_xticks(ax6.get_xticks()[::3])\n",
    "ax6.text(0.05, 1,'Andhra Pradesh', transform = ax6.transAxes, fontsize=20);\n",
    "ax6.spines['right'].set_visible(False)\n",
    "ax6.spines['top'].set_visible(False)\n",
    "\n",
    "ax4 = fig.add_subplot(gs[1,2])\n",
    "ef = df.loc['Delhi'].rename_axis('date').reset_index()\n",
    "ef['date'] = ef['date'].astype('datetime64[ns]')\n",
    "ax4.bar(ef.date, ef.Delhi,color = '#007acc',alpha=0.5)\n",
    "ax4.set_xticks([])\n",
    "ax4.xaxis.set_major_locator(mdates.WeekdayLocator())\n",
    "ax4.xaxis.set_major_formatter(mdates.DateFormatter('%b %d'))\n",
    "ax4.set_xticks(ax4.get_xticks()[::3])\n",
    "ax4.spines['right'].set_visible(False)\n",
    "ax4.spines['top'].set_visible(False)\n",
    "\n",
    "ax4.text(0.05, 1,'Delhi', transform = ax4.transAxes, fontsize=20)\n",
    "\n",
    "for i in range(n):\n",
    "    \n",
    "    ax.append(fig.add_subplot(gs[i+2,:]))\n",
    "    ef = df.iloc[i+3].rename_axis('date').reset_index()\n",
    "    ef['date'] = ef['date'].astype('datetime64[ns]')\n",
    "    ax[i].bar(ef.date,ef.iloc[:,-1],color = '#007acc',alpha=0.3)\n",
    "    ax[i].plot(ef.date,ef.iloc[:,-1],marker='o',color='#007acc')\n",
    "    ax[i].text(0.02,0.5,f'{ef.columns.values[-1]}',transform = ax[i].transAxes, fontsize = 20);\n",
    "    ax[i].xaxis.set_major_locator(mdates.WeekdayLocator())\n",
    "    ax[i].xaxis.set_major_formatter(mdates.DateFormatter('%b %d'))\n",
    "    ax[i].set_ylim([0,7000])\n",
    "    ax[i].spines['right'].set_visible(False)\n",
    "    ax[i].spines['top'].set_visible(False)\n",
    "plt.tight_layout()\n"
   ]
  },
  {
   "cell_type": "code",
   "execution_count": 20,
   "metadata": {
    "execution": {
     "iopub.execute_input": "2020-11-12T15:22:01.865815Z",
     "iopub.status.busy": "2020-11-12T15:22:01.865045Z",
     "iopub.status.idle": "2020-11-12T15:22:01.870662Z",
     "shell.execute_reply": "2020-11-12T15:22:01.869827Z"
    },
    "papermill": {
     "duration": 0.042575,
     "end_time": "2020-11-12T15:22:01.870815",
     "exception": false,
     "start_time": "2020-11-12T15:22:01.828240",
     "status": "completed"
    },
    "tags": []
   },
   "outputs": [
    {
     "name": "stdout",
     "output_type": "stream",
     "text": [
      "                                   states    Cases  Deaths   PCases  PDeaths  Cases (+)  Deaths (+)  Fatality Rate\n",
      "                              Maharashtra  1731833   45560  1731833    45560          0           0           2.63\n",
      "                                Karnataka   853796   11453   853796    11453          0           0           1.34\n",
      "                           Andhra Pradesh   847977    6828   847977     6828          0           0           0.81\n",
      "                               Tamil Nadu   750409   11415   750409    11415          0           0           1.52\n",
      "                                   Kerala   508257    1797   502720     1772       5537          25           0.35\n",
      "                            Uttar Pradesh   503159    7281   503159     7281          0           0           1.45\n",
      "                                    Delhi   459975    7228   459975     7228          0           0           1.57\n",
      "                              West Bengal   416984    7452   416984     7452          0           0           1.79\n",
      "                                   Odisha   305986    1536   305000     1522        986          14           0.50\n",
      "                                Telangana   253651    1390   253651     1390          0           0           0.55\n",
      "                                    Bihar   224977    1162   224977     1162          0           0           0.52\n",
      "                                Rajasthan   217151    2019   217151     2019          0           0           0.93\n",
      "                                    Assam   209633     955   209633      955          0           0           0.46\n",
      "                             Chhattisgarh   205923    2507   205923     2507          0           0           1.22\n",
      "                                  Haryana   190323    1958   190323     1958          0           0           1.03\n",
      "                                  Gujarat   183844    3779   183844     3779          0           0           2.06\n",
      "                           Madhya Pradesh   179951    3055   179951     3055          0           0           1.70\n",
      "                                   Punjab   139184    4389   139184     4389          0           0           3.15\n",
      "                                Jharkhand   105224     913   105224      913          0           0           0.87\n",
      "                        Jammu and Kashmir   100351    1558   100351     1558          0           0           1.55\n",
      "                              Uttarakhand    66788    1086    66788     1086          0           0           1.63\n",
      "                                      Goa    45498     656    45498      656          0           0           1.44\n",
      "                               Puducherry    36114     605    36114      605          0           0           1.68\n",
      "                                  Tripura    31762     356    31703      356         59           0           1.12\n",
      "                         Himachal Pradesh    27418     399    27418      399          0           0           1.46\n",
      "                                  Manipur    20957     202    20957      202          0           0           0.96\n",
      "                        Arunachal Pradesh    15657      46    15657       46          0           0           0.29\n",
      "                               Chandigarh    15434     243    15434      243          0           0           1.57\n",
      "                                Meghalaya    10368      94    10368       94          0           0           0.91\n",
      "                                 Nagaland     9578      50     9578       50          0           0           0.52\n",
      "                                   Ladakh     7134      86     7134       86          0           0           1.21\n",
      "              Andaman and Nicobar Islands     4494      60     4494       60          0           0           1.34\n",
      "                                   Sikkim     4344      82     4344       82          0           0           1.89\n",
      " Dadra and Nagar Haveli and Daman and Diu     3270       2     3270        2          0           0           0.06\n",
      "                                  Mizoram     3217       2     3217        2          0           0           0.06\n",
      "                              Lakshadweep        0       0        0        0          0           0            NaN\n"
     ]
    }
   ],
   "source": [
    "#hide_input\n",
    "print(df_table.to_string(index=False))"
   ]
  },
  {
   "cell_type": "code",
   "execution_count": null,
   "metadata": {
    "papermill": {
     "duration": 0.036474,
     "end_time": "2020-11-12T15:22:01.934389",
     "exception": false,
     "start_time": "2020-11-12T15:22:01.897915",
     "status": "completed"
    },
    "tags": []
   },
   "outputs": [],
   "source": []
  },
  {
   "cell_type": "code",
   "execution_count": null,
   "metadata": {
    "papermill": {
     "duration": 0.027099,
     "end_time": "2020-11-12T15:22:01.990178",
     "exception": false,
     "start_time": "2020-11-12T15:22:01.963079",
     "status": "completed"
    },
    "tags": []
   },
   "outputs": [],
   "source": []
  }
 ],
 "metadata": {
  "kernelspec": {
   "display_name": "Python 3",
   "language": "python",
   "name": "python3"
  },
  "language_info": {
   "codemirror_mode": {
    "name": "ipython",
    "version": 3
   },
   "file_extension": ".py",
   "mimetype": "text/x-python",
   "name": "python",
   "nbconvert_exporter": "python",
   "pygments_lexer": "ipython3",
   "version": "3.6.12"
  },
  "papermill": {
   "duration": 17.421393,
   "end_time": "2020-11-12T15:22:03.552499",
   "environment_variables": {},
   "exception": null,
   "input_path": "latest.ipynb",
   "output_path": "latest.ipynb",
   "parameters": {},
   "start_time": "2020-11-12T15:21:46.131106",
   "version": "2.1.2"
  }
 },
 "nbformat": 4,
 "nbformat_minor": 4
}