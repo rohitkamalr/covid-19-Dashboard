{
 "cells": [
  {
   "cell_type": "markdown",
   "id": "colored-stack",
   "metadata": {
    "papermill": {
     "duration": 0.025183,
     "end_time": "2021-03-24T10:41:14.744611",
     "exception": false,
     "start_time": "2021-03-24T10:41:14.719428",
     "status": "completed"
    },
    "tags": []
   },
   "source": [
    "# Latest COVID-19 India Matplotlib Overview"
   ]
  },
  {
   "cell_type": "code",
   "execution_count": 1,
   "id": "light-proportion",
   "metadata": {
    "execution": {
     "iopub.execute_input": "2021-03-24T10:41:14.795057Z",
     "iopub.status.busy": "2021-03-24T10:41:14.794386Z",
     "iopub.status.idle": "2021-03-24T10:41:15.415594Z",
     "shell.execute_reply": "2021-03-24T10:41:15.415056Z"
    },
    "papermill": {
     "duration": 0.653295,
     "end_time": "2021-03-24T10:41:15.415748",
     "exception": false,
     "start_time": "2021-03-24T10:41:14.762453",
     "status": "completed"
    },
    "tags": []
   },
   "outputs": [],
   "source": [
    "#hide\n",
    "import pandas as pd\n",
    "import numpy as np\n",
    "import requests\n",
    "import json\n",
    "import matplotlib.pyplot as plt\n",
    "import matplotlib.dates as mdates\n",
    "import matplotlib as mpl\n",
    "from IPython.core.display import display,HTML\n",
    "%matplotlib inline\n",
    "from datetime import date"
   ]
  },
  {
   "cell_type": "code",
   "execution_count": 2,
   "id": "greenhouse-shooting",
   "metadata": {
    "execution": {
     "iopub.execute_input": "2021-03-24T10:41:15.471983Z",
     "iopub.status.busy": "2021-03-24T10:41:15.471327Z",
     "iopub.status.idle": "2021-03-24T10:41:15.755017Z",
     "shell.execute_reply": "2021-03-24T10:41:15.754467Z"
    },
    "papermill": {
     "duration": 0.311668,
     "end_time": "2021-03-24T10:41:15.755157",
     "exception": false,
     "start_time": "2021-03-24T10:41:15.443489",
     "status": "completed"
    },
    "tags": []
   },
   "outputs": [],
   "source": [
    "#hide\n",
    "df  = pd.read_csv('https://api.covid19india.org/csv/latest/states.csv')\n",
    "df = df[['Date','State','Confirmed','Deceased']]\n",
    "df = df.rename(columns={'Confirmed':'Cases', \"Deceased\":'Deaths'})\n",
    "df_cases = df[[\"Date\",'State','Cases']]\n",
    "df_deaths = df[['Date','State','Deaths']]\n",
    "df_cases1 = df_cases.groupby('Date')\n",
    "df_deaths1= df_deaths.groupby('Date')"
   ]
  },
  {
   "cell_type": "code",
   "execution_count": 3,
   "id": "hybrid-cathedral",
   "metadata": {
    "execution": {
     "iopub.execute_input": "2021-03-24T10:41:15.799948Z",
     "iopub.status.busy": "2021-03-24T10:41:15.799352Z",
     "iopub.status.idle": "2021-03-24T10:41:15.816757Z",
     "shell.execute_reply": "2021-03-24T10:41:15.816266Z"
    },
    "papermill": {
     "duration": 0.043027,
     "end_time": "2021-03-24T10:41:15.816889",
     "exception": false,
     "start_time": "2021-03-24T10:41:15.773862",
     "status": "completed"
    },
    "tags": []
   },
   "outputs": [],
   "source": [
    "#hide\n",
    "df_snap = pd.read_csv('data/SnapshotCases-28-July.csv')\n",
    "arr_states = df_snap['states'].unique()\n",
    "arr_dates = df['Date'].unique()\n",
    "df_snap = df_snap.set_index('states')"
   ]
  },
  {
   "cell_type": "code",
   "execution_count": 4,
   "id": "interior-belfast",
   "metadata": {
    "execution": {
     "iopub.execute_input": "2021-03-24T10:41:15.861160Z",
     "iopub.status.busy": "2021-03-24T10:41:15.860564Z",
     "iopub.status.idle": "2021-03-24T10:41:15.863762Z",
     "shell.execute_reply": "2021-03-24T10:41:15.863284Z"
    },
    "papermill": {
     "duration": 0.029661,
     "end_time": "2021-03-24T10:41:15.863887",
     "exception": false,
     "start_time": "2021-03-24T10:41:15.834226",
     "status": "completed"
    },
    "tags": []
   },
   "outputs": [
    {
     "data": {
      "text/plain": [
       "array(['Andaman and Nicobar Islands', 'Andhra Pradesh',\n",
       "       'Arunachal Pradesh', 'Assam', 'Bihar', 'Chandigarh',\n",
       "       'Dadra and Nagar Haveli and Daman and Diu', 'Delhi', 'Goa',\n",
       "       'Gujarat', 'Haryana', 'Himachal Pradesh', 'Jammu and Kashmir',\n",
       "       'Jharkhand', 'Karnataka', 'Kerala', 'Lakshadweep',\n",
       "       'Madhya Pradesh', 'Maharashtra', 'Manipur', 'Meghalaya', 'Mizoram',\n",
       "       'Nagaland', 'Odisha', 'Puducherry', 'Punjab', 'Rajasthan',\n",
       "       'Sikkim', 'Tamil Nadu', 'Telangana', 'Tripura', 'Uttar Pradesh',\n",
       "       'West Bengal', 'Chhattisgarh', 'Ladakh', 'Uttarakhand'],\n",
       "      dtype=object)"
      ]
     },
     "execution_count": 4,
     "metadata": {},
     "output_type": "execute_result"
    }
   ],
   "source": [
    "#hide\n",
    "arr_states[-9] = 'Puducherry'\n",
    "arr_states[-10] = 'Odisha'\n",
    "arr_states[6] = 'Dadra and Nagar Haveli and Daman and Diu'\n",
    "arr_states = np.append(arr_states,np.array(['Chhattisgarh','Ladakh','Uttarakhand']))\n",
    "arr_states"
   ]
  },
  {
   "cell_type": "code",
   "execution_count": 5,
   "id": "behind-manner",
   "metadata": {
    "execution": {
     "iopub.execute_input": "2021-03-24T10:41:15.917891Z",
     "iopub.status.busy": "2021-03-24T10:41:15.917255Z",
     "iopub.status.idle": "2021-03-24T10:41:15.927450Z",
     "shell.execute_reply": "2021-03-24T10:41:15.926963Z"
    },
    "papermill": {
     "duration": 0.042752,
     "end_time": "2021-03-24T10:41:15.927582",
     "exception": false,
     "start_time": "2021-03-24T10:41:15.884830",
     "status": "completed"
    },
    "tags": []
   },
   "outputs": [],
   "source": [
    "#hide\n",
    "dates = []\n",
    "for i in arr_dates:\n",
    "    if i>='2020-07-01':\n",
    "        dates.append(i)\n",
    "dict = {'states':dates}\n",
    "for i in arr_states:\n",
    "    dict[i] = [0]*len(dates)\n",
    "dft_cases = pd.DataFrame(dict)\n",
    "dft_deaths = pd.DataFrame(dict)\n"
   ]
  },
  {
   "cell_type": "code",
   "execution_count": 6,
   "id": "simplified-peter",
   "metadata": {
    "execution": {
     "iopub.execute_input": "2021-03-24T10:41:15.971961Z",
     "iopub.status.busy": "2021-03-24T10:41:15.971366Z",
     "iopub.status.idle": "2021-03-24T10:41:20.056835Z",
     "shell.execute_reply": "2021-03-24T10:41:20.056320Z"
    },
    "papermill": {
     "duration": 4.109921,
     "end_time": "2021-03-24T10:41:20.056971",
     "exception": false,
     "start_time": "2021-03-24T10:41:15.947050",
     "status": "completed"
    },
    "tags": []
   },
   "outputs": [],
   "source": [
    "#hide\n",
    "for i in range(len(dates)):\n",
    "    df1_deaths = df_deaths1.get_group(dates[i])\n",
    "    for j in range(len(df1_deaths.index)):\n",
    "        if df1_deaths.iloc[j,1] in arr_states:\n",
    "            dft_deaths.loc[i,df1_deaths.iloc[j,1]] = df1_deaths.iloc[j,2]\n",
    "dft_deaths = dft_deaths.set_index('states')"
   ]
  },
  {
   "cell_type": "code",
   "execution_count": 7,
   "id": "geological-welding",
   "metadata": {
    "execution": {
     "iopub.execute_input": "2021-03-24T10:41:20.104178Z",
     "iopub.status.busy": "2021-03-24T10:41:20.103484Z",
     "iopub.status.idle": "2021-03-24T10:41:24.145827Z",
     "shell.execute_reply": "2021-03-24T10:41:24.144950Z"
    },
    "papermill": {
     "duration": 4.068995,
     "end_time": "2021-03-24T10:41:24.146045",
     "exception": false,
     "start_time": "2021-03-24T10:41:20.077050",
     "status": "completed"
    },
    "tags": []
   },
   "outputs": [],
   "source": [
    "#hide\n",
    "for i in range(len(dates)):\n",
    "    df1_cases = df_cases1.get_group(dates[i])\n",
    "    for j in range(len(df1_cases.index)):\n",
    "        if df1_cases.iloc[j,1] in arr_states:\n",
    "            dft_cases.loc[i,df1_cases.iloc[j,1]] = df1_cases.iloc[j,2]\n",
    "dft_cases = dft_cases.set_index('states')"
   ]
  },
  {
   "cell_type": "code",
   "execution_count": 8,
   "id": "binary-ratio",
   "metadata": {
    "execution": {
     "iopub.execute_input": "2021-03-24T10:41:24.190058Z",
     "iopub.status.busy": "2021-03-24T10:41:24.189461Z",
     "iopub.status.idle": "2021-03-24T10:41:24.192852Z",
     "shell.execute_reply": "2021-03-24T10:41:24.193292Z"
    },
    "papermill": {
     "duration": 0.02849,
     "end_time": "2021-03-24T10:41:24.193436",
     "exception": false,
     "start_time": "2021-03-24T10:41:24.164946",
     "status": "completed"
    },
    "tags": []
   },
   "outputs": [],
   "source": [
    "#hide\n",
    "dft_cases = dft_cases.T\n",
    "dft_deaths = dft_deaths.T\n",
    "dt_today = dates[-1]\n",
    "dt_yday = dates[-2]"
   ]
  },
  {
   "cell_type": "code",
   "execution_count": 9,
   "id": "boolean-calculator",
   "metadata": {
    "execution": {
     "iopub.execute_input": "2021-03-24T10:41:24.238385Z",
     "iopub.status.busy": "2021-03-24T10:41:24.237585Z",
     "iopub.status.idle": "2021-03-24T10:41:24.239167Z",
     "shell.execute_reply": "2021-03-24T10:41:24.239709Z"
    },
    "papermill": {
     "duration": 0.029137,
     "end_time": "2021-03-24T10:41:24.239849",
     "exception": false,
     "start_time": "2021-03-24T10:41:24.210712",
     "status": "completed"
    },
    "tags": []
   },
   "outputs": [],
   "source": [
    "#hide\n",
    "dft_cases = dft_cases.reset_index()\n",
    "dft_deaths = dft_deaths.reset_index()\n",
    "dft_cases = dft_cases.rename(columns = {'index':'state'})\n",
    "dft_deaths = dft_deaths.rename(columns = {'index':'state'})"
   ]
  },
  {
   "cell_type": "code",
   "execution_count": 10,
   "id": "invisible-johnston",
   "metadata": {
    "execution": {
     "iopub.execute_input": "2021-03-24T10:41:24.286972Z",
     "iopub.status.busy": "2021-03-24T10:41:24.286344Z",
     "iopub.status.idle": "2021-03-24T10:41:24.288823Z",
     "shell.execute_reply": "2021-03-24T10:41:24.288251Z"
    },
    "papermill": {
     "duration": 0.031745,
     "end_time": "2021-03-24T10:41:24.288944",
     "exception": false,
     "start_time": "2021-03-24T10:41:24.257199",
     "status": "completed"
    },
    "tags": []
   },
   "outputs": [],
   "source": [
    "#hide\n",
    "dfc_cases = dft_cases.groupby('state')[dt_today].sum()\n",
    "dfc_deaths = dft_deaths.groupby('state')[dt_today].sum()\n",
    "dfp_cases = dft_cases.groupby('state')[dt_yday].sum()\n",
    "dfp_deaths = dft_deaths.groupby('state')[dt_yday].sum()"
   ]
  },
  {
   "cell_type": "code",
   "execution_count": 11,
   "id": "measured-great",
   "metadata": {
    "execution": {
     "iopub.execute_input": "2021-03-24T10:41:24.339887Z",
     "iopub.status.busy": "2021-03-24T10:41:24.339285Z",
     "iopub.status.idle": "2021-03-24T10:41:24.346236Z",
     "shell.execute_reply": "2021-03-24T10:41:24.345739Z"
    },
    "papermill": {
     "duration": 0.039548,
     "end_time": "2021-03-24T10:41:24.346360",
     "exception": false,
     "start_time": "2021-03-24T10:41:24.306812",
     "status": "completed"
    },
    "tags": []
   },
   "outputs": [
    {
     "data": {
      "text/html": [
       "<div>\n",
       "<style scoped>\n",
       "    .dataframe tbody tr th:only-of-type {\n",
       "        vertical-align: middle;\n",
       "    }\n",
       "\n",
       "    .dataframe tbody tr th {\n",
       "        vertical-align: top;\n",
       "    }\n",
       "\n",
       "    .dataframe thead th {\n",
       "        text-align: right;\n",
       "    }\n",
       "</style>\n",
       "<table border=\"1\" class=\"dataframe\">\n",
       "  <thead>\n",
       "    <tr style=\"text-align: right;\">\n",
       "      <th></th>\n",
       "      <th>states</th>\n",
       "      <th>Cases</th>\n",
       "      <th>Deaths</th>\n",
       "      <th>PCases</th>\n",
       "      <th>PDeaths</th>\n",
       "    </tr>\n",
       "  </thead>\n",
       "  <tbody>\n",
       "    <tr>\n",
       "      <th>0</th>\n",
       "      <td>Maharashtra</td>\n",
       "      <td>2533026</td>\n",
       "      <td>53589</td>\n",
       "      <td>2533026</td>\n",
       "      <td>53589</td>\n",
       "    </tr>\n",
       "    <tr>\n",
       "      <th>1</th>\n",
       "      <td>Kerala</td>\n",
       "      <td>1107453</td>\n",
       "      <td>4518</td>\n",
       "      <td>1107453</td>\n",
       "      <td>4518</td>\n",
       "    </tr>\n",
       "    <tr>\n",
       "      <th>2</th>\n",
       "      <td>Karnataka</td>\n",
       "      <td>973657</td>\n",
       "      <td>12449</td>\n",
       "      <td>973657</td>\n",
       "      <td>12449</td>\n",
       "    </tr>\n",
       "    <tr>\n",
       "      <th>3</th>\n",
       "      <td>Andhra Pradesh</td>\n",
       "      <td>894536</td>\n",
       "      <td>7193</td>\n",
       "      <td>894536</td>\n",
       "      <td>7193</td>\n",
       "    </tr>\n",
       "    <tr>\n",
       "      <th>4</th>\n",
       "      <td>Tamil Nadu</td>\n",
       "      <td>869804</td>\n",
       "      <td>12618</td>\n",
       "      <td>869804</td>\n",
       "      <td>12618</td>\n",
       "    </tr>\n",
       "  </tbody>\n",
       "</table>\n",
       "</div>"
      ],
      "text/plain": [
       "           states    Cases  Deaths   PCases  PDeaths\n",
       "0     Maharashtra  2533026   53589  2533026    53589\n",
       "1          Kerala  1107453    4518  1107453     4518\n",
       "2       Karnataka   973657   12449   973657    12449\n",
       "3  Andhra Pradesh   894536    7193   894536     7193\n",
       "4      Tamil Nadu   869804   12618   869804    12618"
      ]
     },
     "execution_count": 11,
     "metadata": {},
     "output_type": "execute_result"
    }
   ],
   "source": [
    "#hide\n",
    "df_table = pd.DataFrame({'states': dfc_cases.index, 'Cases': dfc_cases.values, 'Deaths': dfc_deaths.values, 'PCases': dfp_cases.values, 'PDeaths': dfp_deaths.values}).set_index('states')\n",
    "df_table = df_table.sort_values(by = ['Cases','Deaths'], ascending = [False, False])\n",
    "df_table = df_table.reset_index()\n",
    "df_table.head()"
   ]
  },
  {
   "cell_type": "code",
   "execution_count": 12,
   "id": "found-montreal",
   "metadata": {
    "execution": {
     "iopub.execute_input": "2021-03-24T10:41:24.389551Z",
     "iopub.status.busy": "2021-03-24T10:41:24.388970Z",
     "iopub.status.idle": "2021-03-24T10:41:24.397612Z",
     "shell.execute_reply": "2021-03-24T10:41:24.398111Z"
    },
    "papermill": {
     "duration": 0.033903,
     "end_time": "2021-03-24T10:41:24.398254",
     "exception": false,
     "start_time": "2021-03-24T10:41:24.364351",
     "status": "completed"
    },
    "tags": []
   },
   "outputs": [],
   "source": [
    "#hide\n",
    "for c in 'Cases, Deaths'.split(', '):\n",
    "    df_table[f'{c} (+)'] = (df_table[c] - df_table[f'P{c}']).clip(0)\n",
    "df_table['Fatality Rate'] = (100* df_table['Deaths']/ df_table['Cases']).round(2)"
   ]
  },
  {
   "cell_type": "code",
   "execution_count": 13,
   "id": "minus-savage",
   "metadata": {
    "execution": {
     "iopub.execute_input": "2021-03-24T10:41:24.447229Z",
     "iopub.status.busy": "2021-03-24T10:41:24.446614Z",
     "iopub.status.idle": "2021-03-24T10:41:24.448879Z",
     "shell.execute_reply": "2021-03-24T10:41:24.449432Z"
    },
    "papermill": {
     "duration": 0.032554,
     "end_time": "2021-03-24T10:41:24.449577",
     "exception": false,
     "start_time": "2021-03-24T10:41:24.417023",
     "status": "completed"
    },
    "tags": []
   },
   "outputs": [
    {
     "data": {
      "text/html": [
       "<div>\n",
       "<style scoped>\n",
       "    .dataframe tbody tr th:only-of-type {\n",
       "        vertical-align: middle;\n",
       "    }\n",
       "\n",
       "    .dataframe tbody tr th {\n",
       "        vertical-align: top;\n",
       "    }\n",
       "\n",
       "    .dataframe thead th {\n",
       "        text-align: right;\n",
       "    }\n",
       "</style>\n",
       "<table border=\"1\" class=\"dataframe\">\n",
       "  <thead>\n",
       "    <tr style=\"text-align: right;\">\n",
       "      <th></th>\n",
       "      <th>states</th>\n",
       "      <th>Cases</th>\n",
       "      <th>Deaths</th>\n",
       "      <th>PCases</th>\n",
       "      <th>PDeaths</th>\n",
       "      <th>Cases (+)</th>\n",
       "      <th>Deaths (+)</th>\n",
       "      <th>Fatality Rate</th>\n",
       "    </tr>\n",
       "  </thead>\n",
       "  <tbody>\n",
       "    <tr>\n",
       "      <th>0</th>\n",
       "      <td>Maharashtra</td>\n",
       "      <td>2533026</td>\n",
       "      <td>53589</td>\n",
       "      <td>2533026</td>\n",
       "      <td>53589</td>\n",
       "      <td>0</td>\n",
       "      <td>0</td>\n",
       "      <td>2.12</td>\n",
       "    </tr>\n",
       "    <tr>\n",
       "      <th>1</th>\n",
       "      <td>Kerala</td>\n",
       "      <td>1107453</td>\n",
       "      <td>4518</td>\n",
       "      <td>1107453</td>\n",
       "      <td>4518</td>\n",
       "      <td>0</td>\n",
       "      <td>0</td>\n",
       "      <td>0.41</td>\n",
       "    </tr>\n",
       "    <tr>\n",
       "      <th>2</th>\n",
       "      <td>Karnataka</td>\n",
       "      <td>973657</td>\n",
       "      <td>12449</td>\n",
       "      <td>973657</td>\n",
       "      <td>12449</td>\n",
       "      <td>0</td>\n",
       "      <td>0</td>\n",
       "      <td>1.28</td>\n",
       "    </tr>\n",
       "    <tr>\n",
       "      <th>3</th>\n",
       "      <td>Andhra Pradesh</td>\n",
       "      <td>894536</td>\n",
       "      <td>7193</td>\n",
       "      <td>894536</td>\n",
       "      <td>7193</td>\n",
       "      <td>0</td>\n",
       "      <td>0</td>\n",
       "      <td>0.80</td>\n",
       "    </tr>\n",
       "    <tr>\n",
       "      <th>4</th>\n",
       "      <td>Tamil Nadu</td>\n",
       "      <td>869804</td>\n",
       "      <td>12618</td>\n",
       "      <td>869804</td>\n",
       "      <td>12618</td>\n",
       "      <td>0</td>\n",
       "      <td>0</td>\n",
       "      <td>1.45</td>\n",
       "    </tr>\n",
       "  </tbody>\n",
       "</table>\n",
       "</div>"
      ],
      "text/plain": [
       "           states    Cases  Deaths   PCases  PDeaths  Cases (+)  Deaths (+)  \\\n",
       "0     Maharashtra  2533026   53589  2533026    53589          0           0   \n",
       "1          Kerala  1107453    4518  1107453     4518          0           0   \n",
       "2       Karnataka   973657   12449   973657    12449          0           0   \n",
       "3  Andhra Pradesh   894536    7193   894536     7193          0           0   \n",
       "4      Tamil Nadu   869804   12618   869804    12618          0           0   \n",
       "\n",
       "   Fatality Rate  \n",
       "0           2.12  \n",
       "1           0.41  \n",
       "2           1.28  \n",
       "3           0.80  \n",
       "4           1.45  "
      ]
     },
     "execution_count": 13,
     "metadata": {},
     "output_type": "execute_result"
    }
   ],
   "source": [
    "#hide\n",
    "df_table.head()"
   ]
  },
  {
   "cell_type": "code",
   "execution_count": 14,
   "id": "false-peter",
   "metadata": {
    "execution": {
     "iopub.execute_input": "2021-03-24T10:41:24.492046Z",
     "iopub.status.busy": "2021-03-24T10:41:24.491464Z",
     "iopub.status.idle": "2021-03-24T10:41:24.508904Z",
     "shell.execute_reply": "2021-03-24T10:41:24.509740Z"
    },
    "papermill": {
     "duration": 0.042061,
     "end_time": "2021-03-24T10:41:24.509977",
     "exception": false,
     "start_time": "2021-03-24T10:41:24.467916",
     "status": "completed"
    },
    "tags": []
   },
   "outputs": [
    {
     "data": {
      "text/plain": [
       "{'updated': '2021-03-24',\n",
       " 'since': '2021-03-23',\n",
       " 'Cases': 11734333,\n",
       " 'PCases': 11733594,\n",
       " 'Deaths': 160481,\n",
       " 'PDeaths': 160477,\n",
       " 'Cases (+)': 739,\n",
       " 'Deaths (+)': 4}"
      ]
     },
     "execution_count": 14,
     "metadata": {},
     "output_type": "execute_result"
    }
   ],
   "source": [
    "#hide\n",
    "summary = {'updated':dates[-1], 'since':dates[-2]}\n",
    "list_names = ['Cases', 'PCases', 'Deaths', 'PDeaths', 'Cases (+)', 'Deaths (+)']\n",
    "for name in list_names:\n",
    "    summary[name] = df_table.sum()[name]\n",
    "summary"
   ]
  },
  {
   "cell_type": "code",
   "execution_count": 15,
   "id": "packed-viewer",
   "metadata": {
    "execution": {
     "iopub.execute_input": "2021-03-24T10:41:24.554688Z",
     "iopub.status.busy": "2021-03-24T10:41:24.554048Z",
     "iopub.status.idle": "2021-03-24T10:41:24.556430Z",
     "shell.execute_reply": "2021-03-24T10:41:24.555913Z"
    },
    "papermill": {
     "duration": 0.026056,
     "end_time": "2021-03-24T10:41:24.556554",
     "exception": false,
     "start_time": "2021-03-24T10:41:24.530498",
     "status": "completed"
    },
    "tags": []
   },
   "outputs": [],
   "source": [
    "#hide\n",
    "overview = '''\n",
    "<!-- #######  HTML!! #########-->\n",
    "<h1 style=\"color: #5e9ca0; text-align: center;\">India</h1>\n",
    "<p style=\"text-align: center;\">Last update: <strong>{update}</strong></p>\n",
    "<p style=\"text-align: center;\">Confirmed cases:</p>\n",
    "<p style=\"text-align: center;font-size:24px;\">{cases} (<span style=\"color: #ff0000;\">+{new}</span>)</p>\n",
    "<p style=\"text-align: center;\">Confirmed deaths:</p>\n",
    "<p style=\"text-align: center;font-size:24px;\">{deaths} (<span style=\"color: #ff0000;\">+{dnew}</span>)</p>\n",
    "'''"
   ]
  },
  {
   "cell_type": "code",
   "execution_count": 16,
   "id": "phantom-lover",
   "metadata": {
    "execution": {
     "iopub.execute_input": "2021-03-24T10:41:24.603492Z",
     "iopub.status.busy": "2021-03-24T10:41:24.602702Z",
     "iopub.status.idle": "2021-03-24T10:41:24.606499Z",
     "shell.execute_reply": "2021-03-24T10:41:24.607040Z"
    },
    "papermill": {
     "duration": 0.031499,
     "end_time": "2021-03-24T10:41:24.607185",
     "exception": false,
     "start_time": "2021-03-24T10:41:24.575686",
     "status": "completed"
    },
    "tags": []
   },
   "outputs": [
    {
     "data": {
      "text/html": [
       "\n",
       "<!-- #######  HTML!! #########-->\n",
       "<h1 style=\"color: #5e9ca0; text-align: center;\">India</h1>\n",
       "<p style=\"text-align: center;\">Last update: <strong>2021-03-24</strong></p>\n",
       "<p style=\"text-align: center;\">Confirmed cases:</p>\n",
       "<p style=\"text-align: center;font-size:24px;\">11734333 (<span style=\"color: #ff0000;\">+739</span>)</p>\n",
       "<p style=\"text-align: center;\">Confirmed deaths:</p>\n",
       "<p style=\"text-align: center;font-size:24px;\">160481 (<span style=\"color: #ff0000;\">+4</span>)</p>\n"
      ],
      "text/plain": [
       "<IPython.core.display.HTML object>"
      ]
     },
     "metadata": {},
     "output_type": "display_data"
    }
   ],
   "source": [
    "#hide_input\n",
    "update = summary['updated']\n",
    "cases = summary['Cases']\n",
    "new = summary['Cases (+)']\n",
    "deaths = summary['Deaths']\n",
    "dnew = summary['Deaths (+)']\n",
    "\n",
    "html = HTML(overview.format(update=update, cases=cases,new=new,deaths=deaths,dnew=dnew))\n",
    "\n",
    "display(html)"
   ]
  },
  {
   "cell_type": "code",
   "execution_count": 17,
   "id": "sealed-reset",
   "metadata": {
    "execution": {
     "iopub.execute_input": "2021-03-24T10:41:24.654765Z",
     "iopub.status.busy": "2021-03-24T10:41:24.654139Z",
     "iopub.status.idle": "2021-03-24T10:41:24.661758Z",
     "shell.execute_reply": "2021-03-24T10:41:24.662201Z"
    },
    "papermill": {
     "duration": 0.035946,
     "end_time": "2021-03-24T10:41:24.662348",
     "exception": false,
     "start_time": "2021-03-24T10:41:24.626402",
     "status": "completed"
    },
    "tags": []
   },
   "outputs": [],
   "source": [
    "#hide\n",
    "dt_cols = list(dft_cases.columns[1:])\n",
    "dft_ct_new_cases = dft_cases.groupby('state')[dt_cols].sum().diff(axis=1).fillna(0).astype(int)\n",
    "dft_ct_new_cases.sort_values(by = dates[-1], ascending = False,inplace = True)"
   ]
  },
  {
   "cell_type": "code",
   "execution_count": 18,
   "id": "designed-constant",
   "metadata": {
    "execution": {
     "iopub.execute_input": "2021-03-24T10:41:24.723472Z",
     "iopub.status.busy": "2021-03-24T10:41:24.722845Z",
     "iopub.status.idle": "2021-03-24T10:41:24.725411Z",
     "shell.execute_reply": "2021-03-24T10:41:24.725897Z"
    },
    "papermill": {
     "duration": 0.044344,
     "end_time": "2021-03-24T10:41:24.726038",
     "exception": false,
     "start_time": "2021-03-24T10:41:24.681694",
     "status": "completed"
    },
    "tags": []
   },
   "outputs": [
    {
     "data": {
      "text/html": [
       "<div>\n",
       "<style scoped>\n",
       "    .dataframe tbody tr th:only-of-type {\n",
       "        vertical-align: middle;\n",
       "    }\n",
       "\n",
       "    .dataframe tbody tr th {\n",
       "        vertical-align: top;\n",
       "    }\n",
       "\n",
       "    .dataframe thead th {\n",
       "        text-align: right;\n",
       "    }\n",
       "</style>\n",
       "<table border=\"1\" class=\"dataframe\">\n",
       "  <thead>\n",
       "    <tr style=\"text-align: right;\">\n",
       "      <th>states</th>\n",
       "      <th>2020-07-01</th>\n",
       "      <th>2020-07-02</th>\n",
       "      <th>2020-07-03</th>\n",
       "      <th>2020-07-04</th>\n",
       "      <th>2020-07-05</th>\n",
       "      <th>2020-07-06</th>\n",
       "      <th>2020-07-07</th>\n",
       "      <th>2020-07-08</th>\n",
       "      <th>2020-07-09</th>\n",
       "      <th>2020-07-10</th>\n",
       "      <th>...</th>\n",
       "      <th>2021-03-15</th>\n",
       "      <th>2021-03-16</th>\n",
       "      <th>2021-03-17</th>\n",
       "      <th>2021-03-18</th>\n",
       "      <th>2021-03-19</th>\n",
       "      <th>2021-03-20</th>\n",
       "      <th>2021-03-21</th>\n",
       "      <th>2021-03-22</th>\n",
       "      <th>2021-03-23</th>\n",
       "      <th>2021-03-24</th>\n",
       "    </tr>\n",
       "    <tr>\n",
       "      <th>state</th>\n",
       "      <th></th>\n",
       "      <th></th>\n",
       "      <th></th>\n",
       "      <th></th>\n",
       "      <th></th>\n",
       "      <th></th>\n",
       "      <th></th>\n",
       "      <th></th>\n",
       "      <th></th>\n",
       "      <th></th>\n",
       "      <th></th>\n",
       "      <th></th>\n",
       "      <th></th>\n",
       "      <th></th>\n",
       "      <th></th>\n",
       "      <th></th>\n",
       "      <th></th>\n",
       "      <th></th>\n",
       "      <th></th>\n",
       "      <th></th>\n",
       "      <th></th>\n",
       "    </tr>\n",
       "  </thead>\n",
       "  <tbody>\n",
       "    <tr>\n",
       "      <th>Telangana</th>\n",
       "      <td>0</td>\n",
       "      <td>1213</td>\n",
       "      <td>1892</td>\n",
       "      <td>1850</td>\n",
       "      <td>1590</td>\n",
       "      <td>1831</td>\n",
       "      <td>1879</td>\n",
       "      <td>1924</td>\n",
       "      <td>1410</td>\n",
       "      <td>1278</td>\n",
       "      <td>...</td>\n",
       "      <td>157</td>\n",
       "      <td>204</td>\n",
       "      <td>247</td>\n",
       "      <td>278</td>\n",
       "      <td>313</td>\n",
       "      <td>364</td>\n",
       "      <td>394</td>\n",
       "      <td>337</td>\n",
       "      <td>412</td>\n",
       "      <td>431</td>\n",
       "    </tr>\n",
       "    <tr>\n",
       "      <th>Odisha</th>\n",
       "      <td>0</td>\n",
       "      <td>229</td>\n",
       "      <td>561</td>\n",
       "      <td>495</td>\n",
       "      <td>469</td>\n",
       "      <td>456</td>\n",
       "      <td>571</td>\n",
       "      <td>527</td>\n",
       "      <td>577</td>\n",
       "      <td>755</td>\n",
       "      <td>...</td>\n",
       "      <td>66</td>\n",
       "      <td>65</td>\n",
       "      <td>82</td>\n",
       "      <td>84</td>\n",
       "      <td>110</td>\n",
       "      <td>120</td>\n",
       "      <td>98</td>\n",
       "      <td>146</td>\n",
       "      <td>113</td>\n",
       "      <td>170</td>\n",
       "    </tr>\n",
       "    <tr>\n",
       "      <th>Puducherry</th>\n",
       "      <td>0</td>\n",
       "      <td>63</td>\n",
       "      <td>22</td>\n",
       "      <td>80</td>\n",
       "      <td>42</td>\n",
       "      <td>65</td>\n",
       "      <td>30</td>\n",
       "      <td>110</td>\n",
       "      <td>49</td>\n",
       "      <td>72</td>\n",
       "      <td>...</td>\n",
       "      <td>14</td>\n",
       "      <td>24</td>\n",
       "      <td>52</td>\n",
       "      <td>81</td>\n",
       "      <td>61</td>\n",
       "      <td>60</td>\n",
       "      <td>64</td>\n",
       "      <td>47</td>\n",
       "      <td>87</td>\n",
       "      <td>125</td>\n",
       "    </tr>\n",
       "    <tr>\n",
       "      <th>Tripura</th>\n",
       "      <td>0</td>\n",
       "      <td>39</td>\n",
       "      <td>93</td>\n",
       "      <td>25</td>\n",
       "      <td>23</td>\n",
       "      <td>111</td>\n",
       "      <td>24</td>\n",
       "      <td>57</td>\n",
       "      <td>16</td>\n",
       "      <td>142</td>\n",
       "      <td>...</td>\n",
       "      <td>0</td>\n",
       "      <td>11</td>\n",
       "      <td>1</td>\n",
       "      <td>3</td>\n",
       "      <td>10</td>\n",
       "      <td>5</td>\n",
       "      <td>5</td>\n",
       "      <td>0</td>\n",
       "      <td>6</td>\n",
       "      <td>9</td>\n",
       "    </tr>\n",
       "    <tr>\n",
       "      <th>Dadra and Nagar Haveli and Daman and Diu</th>\n",
       "      <td>0</td>\n",
       "      <td>25</td>\n",
       "      <td>50</td>\n",
       "      <td>37</td>\n",
       "      <td>32</td>\n",
       "      <td>27</td>\n",
       "      <td>27</td>\n",
       "      <td>15</td>\n",
       "      <td>14</td>\n",
       "      <td>14</td>\n",
       "      <td>...</td>\n",
       "      <td>2</td>\n",
       "      <td>5</td>\n",
       "      <td>0</td>\n",
       "      <td>9</td>\n",
       "      <td>10</td>\n",
       "      <td>7</td>\n",
       "      <td>10</td>\n",
       "      <td>4</td>\n",
       "      <td>7</td>\n",
       "      <td>3</td>\n",
       "    </tr>\n",
       "  </tbody>\n",
       "</table>\n",
       "<p>5 rows × 267 columns</p>\n",
       "</div>"
      ],
      "text/plain": [
       "states                                    2020-07-01  2020-07-02  2020-07-03  \\\n",
       "state                                                                          \n",
       "Telangana                                          0        1213        1892   \n",
       "Odisha                                             0         229         561   \n",
       "Puducherry                                         0          63          22   \n",
       "Tripura                                            0          39          93   \n",
       "Dadra and Nagar Haveli and Daman and Diu           0          25          50   \n",
       "\n",
       "states                                    2020-07-04  2020-07-05  2020-07-06  \\\n",
       "state                                                                          \n",
       "Telangana                                       1850        1590        1831   \n",
       "Odisha                                           495         469         456   \n",
       "Puducherry                                        80          42          65   \n",
       "Tripura                                           25          23         111   \n",
       "Dadra and Nagar Haveli and Daman and Diu          37          32          27   \n",
       "\n",
       "states                                    2020-07-07  2020-07-08  2020-07-09  \\\n",
       "state                                                                          \n",
       "Telangana                                       1879        1924        1410   \n",
       "Odisha                                           571         527         577   \n",
       "Puducherry                                        30         110          49   \n",
       "Tripura                                           24          57          16   \n",
       "Dadra and Nagar Haveli and Daman and Diu          27          15          14   \n",
       "\n",
       "states                                    2020-07-10  ...  2021-03-15  \\\n",
       "state                                                 ...               \n",
       "Telangana                                       1278  ...         157   \n",
       "Odisha                                           755  ...          66   \n",
       "Puducherry                                        72  ...          14   \n",
       "Tripura                                          142  ...           0   \n",
       "Dadra and Nagar Haveli and Daman and Diu          14  ...           2   \n",
       "\n",
       "states                                    2021-03-16  2021-03-17  2021-03-18  \\\n",
       "state                                                                          \n",
       "Telangana                                        204         247         278   \n",
       "Odisha                                            65          82          84   \n",
       "Puducherry                                        24          52          81   \n",
       "Tripura                                           11           1           3   \n",
       "Dadra and Nagar Haveli and Daman and Diu           5           0           9   \n",
       "\n",
       "states                                    2021-03-19  2021-03-20  2021-03-21  \\\n",
       "state                                                                          \n",
       "Telangana                                        313         364         394   \n",
       "Odisha                                           110         120          98   \n",
       "Puducherry                                        61          60          64   \n",
       "Tripura                                           10           5           5   \n",
       "Dadra and Nagar Haveli and Daman and Diu          10           7          10   \n",
       "\n",
       "states                                    2021-03-22  2021-03-23  2021-03-24  \n",
       "state                                                                         \n",
       "Telangana                                        337         412         431  \n",
       "Odisha                                           146         113         170  \n",
       "Puducherry                                        47          87         125  \n",
       "Tripura                                            0           6           9  \n",
       "Dadra and Nagar Haveli and Daman and Diu           4           7           3  \n",
       "\n",
       "[5 rows x 267 columns]"
      ]
     },
     "execution_count": 18,
     "metadata": {},
     "output_type": "execute_result"
    }
   ],
   "source": [
    "#hide\n",
    "dft_ct_new_cases.head()"
   ]
  },
  {
   "cell_type": "code",
   "execution_count": 19,
   "id": "responsible-nightlife",
   "metadata": {
    "execution": {
     "iopub.execute_input": "2021-03-24T10:41:24.817744Z",
     "iopub.status.busy": "2021-03-24T10:41:24.817074Z",
     "iopub.status.idle": "2021-03-24T10:41:35.424309Z",
     "shell.execute_reply": "2021-03-24T10:41:35.424816Z"
    },
    "papermill": {
     "duration": 10.679488,
     "end_time": "2021-03-24T10:41:35.424959",
     "exception": false,
     "start_time": "2021-03-24T10:41:24.745471",
     "status": "completed"
    },
    "tags": []
   },
   "outputs": [
    {
     "data": {
      "image/png": "[encoded data removed]",
      "text/plain": [
       "<Figure size 1296x2016 with 11 Axes>"
      ]
     },
     "metadata": {
      "needs_background": "light"
     },
     "output_type": "display_data"
    }
   ],
   "source": [
    "#hide_input\n",
    "df = dft_ct_new_cases.copy()\n",
    "df.loc['Total'] = df.sum()\n",
    "n = 5\n",
    "ax = []\n",
    "fig = plt.figure(figsize = (18,28))\n",
    "gs = fig.add_gridspec(n+2, 5)\n",
    "# gs = fig.add_gridspec(2, 3)\n",
    "ax1 = fig.add_subplot(gs[0, :])\n",
    "ef = df.loc['Total'].rename_axis('date').reset_index()\n",
    "ef['date'] = ef['date'].astype('datetime64[ns]')\n",
    "ax1.bar(ef.date,ef.Total,alpha=0.3,color='#007acc')\n",
    "ax1.plot(ef.date,ef.Total , marker=\"o\", color='#007acc')\n",
    "ax1.xaxis.set_major_locator(mdates.WeekdayLocator())\n",
    "ax1.xaxis.set_major_formatter(mdates.DateFormatter('%b %d'))\n",
    "ax1.text(0.02, 0.5,'India daily case count', transform = ax1.transAxes, fontsize=25);\n",
    "ax1.spines['right'].set_visible(False)\n",
    "ax1.spines['top'].set_visible(False)\n",
    "\n",
    "ax2 = fig.add_subplot(gs[1,0])\n",
    "ef = df.loc['Maharashtra'].rename_axis('date').reset_index()\n",
    "ef['date'] = ef['date'].astype('datetime64[ns]')\n",
    "\n",
    "ax2.bar(ef.date, ef.Maharashtra,color = '#007acc',alpha=0.5)\n",
    "ax2.xaxis.set_major_locator(mdates.WeekdayLocator())\n",
    "ax2.xaxis.set_major_formatter(mdates.DateFormatter('%b %d'))\n",
    "ax2.set_xticks(ax2.get_xticks()[::3])\n",
    "maxyval = ef.Maharashtra.max()\n",
    "ax2.set_ylim([0,maxyval])\n",
    "ax2.text(0.05, 0.9,'Maharashtra', transform = ax2.transAxes, fontsize=20);\n",
    "ax2.spines['right'].set_visible(False)\n",
    "ax2.spines['top'].set_visible(False)\n",
    "\n",
    "\n",
    "ax3 = fig.add_subplot(gs[1,1])\n",
    "ef = df.loc['Tamil Nadu'].rename_axis('date').reset_index()\n",
    "ef['date'] = ef['date'].astype('datetime64[ns]')\n",
    "ax3.bar(ef.date, ef['Tamil Nadu'],color = '#007acc',alpha=0.5,)\n",
    "ax3.xaxis.set_major_locator(mdates.WeekdayLocator())\n",
    "ax3.xaxis.set_major_formatter(mdates.DateFormatter('%b %d'))\n",
    "ax3.set_xticks(ax3.get_xticks()[::3])\n",
    "ax3.text(0.05, 0.9,'Tamil Nadu', transform = ax3.transAxes, fontsize=20);\n",
    "ax3.spines['right'].set_visible(False)\n",
    "ax3.spines['top'].set_visible(False)\n",
    "\n",
    "ax5 = fig.add_subplot(gs[1,3])\n",
    "ef = df.loc['Telangana'].rename_axis('date').reset_index()\n",
    "ef['date'] = ef['date'].astype('datetime64[ns]')\n",
    "ax5.bar(ef.date, ef['Telangana'],color = '#007acc',alpha=0.5,)\n",
    "ax5.xaxis.set_major_locator(mdates.WeekdayLocator())\n",
    "ax5.xaxis.set_major_formatter(mdates.DateFormatter('%b %d'))\n",
    "ax5.set_xticks(ax5.get_xticks()[::3])\n",
    "ax5.text(0.05, 0.9,'Telangana', transform = ax5.transAxes, fontsize=20);\n",
    "ax5.spines['right'].set_visible(False)\n",
    "ax5.spines['top'].set_visible(False)\n",
    "\n",
    "ax6 = fig.add_subplot(gs[1,4])\n",
    "ef = df.loc['Andhra Pradesh'].rename_axis('date').reset_index()\n",
    "ef['date'] = ef['date'].astype('datetime64[ns]')\n",
    "ax6.bar(ef.date, ef['Andhra Pradesh'],color = '#007acc',alpha=0.5,)\n",
    "ax6.xaxis.set_major_locator(mdates.WeekdayLocator())\n",
    "ax6.xaxis.set_major_formatter(mdates.DateFormatter('%b %d'))\n",
    "ax6.set_xticks(ax6.get_xticks()[::3])\n",
    "ax6.text(0.05, 1,'Andhra Pradesh', transform = ax6.transAxes, fontsize=20);\n",
    "ax6.spines['right'].set_visible(False)\n",
    "ax6.spines['top'].set_visible(False)\n",
    "\n",
    "ax4 = fig.add_subplot(gs[1,2])\n",
    "ef = df.loc['Delhi'].rename_axis('date').reset_index()\n",
    "ef['date'] = ef['date'].astype('datetime64[ns]')\n",
    "ax4.bar(ef.date, ef.Delhi,color = '#007acc',alpha=0.5)\n",
    "ax4.set_xticks([])\n",
    "ax4.xaxis.set_major_locator(mdates.WeekdayLocator())\n",
    "ax4.xaxis.set_major_formatter(mdates.DateFormatter('%b %d'))\n",
    "ax4.set_xticks(ax4.get_xticks()[::3])\n",
    "ax4.spines['right'].set_visible(False)\n",
    "ax4.spines['top'].set_visible(False)\n",
    "\n",
    "ax4.text(0.05, 1,'Delhi', transform = ax4.transAxes, fontsize=20)\n",
    "\n",
    "for i in range(n):\n",
    "    \n",
    "    ax.append(fig.add_subplot(gs[i+2,:]))\n",
    "    ef = df.iloc[i+3].rename_axis('date').reset_index()\n",
    "    ef['date'] = ef['date'].astype('datetime64[ns]')\n",
    "    ax[i].bar(ef.date,ef.iloc[:,-1],color = '#007acc',alpha=0.3)\n",
    "    ax[i].plot(ef.date,ef.iloc[:,-1],marker='o',color='#007acc')\n",
    "    ax[i].text(0.02,0.5,f'{ef.columns.values[-1]}',transform = ax[i].transAxes, fontsize = 20);\n",
    "    ax[i].xaxis.set_major_locator(mdates.WeekdayLocator())\n",
    "    ax[i].xaxis.set_major_formatter(mdates.DateFormatter('%b %d'))\n",
    "    ax[i].set_ylim([0,7000])\n",
    "    ax[i].spines['right'].set_visible(False)\n",
    "    ax[i].spines['top'].set_visible(False)\n",
    "plt.tight_layout()\n"
   ]
  },
  {
   "cell_type": "code",
   "execution_count": 20,
   "id": "dress-forge",
   "metadata": {
    "execution": {
     "iopub.execute_input": "2021-03-24T10:41:35.496624Z",
     "iopub.status.busy": "2021-03-24T10:41:35.495914Z",
     "iopub.status.idle": "2021-03-24T10:41:35.498515Z",
     "shell.execute_reply": "2021-03-24T10:41:35.497168Z"
    },
    "papermill": {
     "duration": 0.048308,
     "end_time": "2021-03-24T10:41:35.498671",
     "exception": false,
     "start_time": "2021-03-24T10:41:35.450363",
     "status": "completed"
    },
    "tags": []
   },
   "outputs": [
    {
     "name": "stdout",
     "output_type": "stream",
     "text": [
      "                                   states    Cases  Deaths   PCases  PDeaths  Cases (+)  Deaths (+)  Fatality Rate\n",
      "                              Maharashtra  2533026   53589  2533026    53589          0           0           2.12\n",
      "                                   Kerala  1107453    4518  1107453     4518          0           0           0.41\n",
      "                                Karnataka   973657   12449   973657    12449          0           0           1.28\n",
      "                           Andhra Pradesh   894536    7193   894536     7193          0           0           0.80\n",
      "                               Tamil Nadu   869804   12618   869804    12618          0           0           1.45\n",
      "                                    Delhi   649973   10967   649973    10967          0           0           1.69\n",
      "                            Uttar Pradesh   608709    8764   608709     8764          0           0           1.44\n",
      "                              West Bengal   581403   10310   581403    10310          0           0           1.77\n",
      "                                   Odisha   339246    1972   339076     1972        170           0           0.58\n",
      "                             Chhattisgarh   327588    3982   327588     3982          0           0           1.22\n",
      "                                Rajasthan   326506    2807   326506     2807          0           0           0.86\n",
      "                                Telangana   304298    1676   303867     1674        431           2           0.55\n",
      "                                  Gujarat   290379    4458   290379     4458          0           0           1.54\n",
      "                                  Haryana   281588    3104   281588     3104          0           0           1.10\n",
      "                           Madhya Pradesh   278577    3912   278577     3912          0           0           1.40\n",
      "                                    Bihar   263770    1563   263770     1563          0           0           0.59\n",
      "                                    Assam   218058    1102   218058     1102          0           0           0.51\n",
      "                                   Punjab   217663    6435   217663     6435          0           0           2.96\n",
      "                        Jammu and Kashmir   128836    1983   128836     1983          0           0           1.54\n",
      "                                Jharkhand   121501    1098   121501     1098          0           0           0.90\n",
      "                              Uttarakhand    98646    1706    98646     1706          0           0           1.73\n",
      "                         Himachal Pradesh    61035    1012    61035     1012          0           0           1.66\n",
      "                                      Goa    56841     821    56841      821          0           0           1.44\n",
      "                               Puducherry    40645     679    40520      677        125           2           1.67\n",
      "                                  Tripura    33476     389    33467      389          9           0           1.16\n",
      "                                  Manipur    29352     373    29352      373          0           0           1.27\n",
      "                               Chandigarh    24881     364    24881      364          0           0           1.46\n",
      "                        Arunachal Pradesh    16842      56    16842       56          0           0           0.33\n",
      "                                Meghalaya    14017     149    14017      149          0           0           1.06\n",
      "                                 Nagaland    12225      91    12225       91          0           0           0.74\n",
      "                                   Ladakh     9929     130     9929      130          0           0           1.31\n",
      "                                   Sikkim     6208     135     6208      135          0           0           2.17\n",
      "              Andaman and Nicobar Islands     5039      62     5039       62          0           0           1.23\n",
      "                                  Mizoram     4452      11     4451       11          1           0           0.25\n",
      " Dadra and Nagar Haveli and Daman and Diu     3477       2     3474        2          3           0           0.06\n",
      "                              Lakshadweep      697       1      697        1          0           0           0.14\n"
     ]
    }
   ],
   "source": [
    "#hide_input\n",
    "print(df_table.to_string(index=False))"
   ]
  },
  {
   "cell_type": "code",
   "execution_count": null,
   "id": "quantitative-legend",
   "metadata": {
    "papermill": {
     "duration": 0.025963,
     "end_time": "2021-03-24T10:41:35.551601",
     "exception": false,
     "start_time": "2021-03-24T10:41:35.525638",
     "status": "completed"
    },
    "tags": []
   },
   "outputs": [],
   "source": []
  },
  {
   "cell_type": "code",
   "execution_count": null,
   "id": "distant-acoustic",
   "metadata": {
    "papermill": {
     "duration": 0.026734,
     "end_time": "2021-03-24T10:41:35.604873",
     "exception": false,
     "start_time": "2021-03-24T10:41:35.578139",
     "status": "completed"
    },
    "tags": []
   },
   "outputs": [],
   "source": []
  }
 ],
 "metadata": {
  "kernelspec": {
   "display_name": "Python 3",
   "language": "python",
   "name": "python3"
  },
  "language_info": {
   "codemirror_mode": {
    "name": "ipython",
    "version": 3
   },
   "file_extension": ".py",
   "mimetype": "text/x-python",
   "name": "python",
   "nbconvert_exporter": "python",
   "pygments_lexer": "ipython3",
   "version": "3.6.13"
  },
  "papermill": {
   "duration": 23.37945,
   "end_time": "2021-03-24T10:41:36.972848",
   "environment_variables": {},
   "exception": null,
   "input_path": "latest.ipynb",
   "output_path": "latest.ipynb",
   "parameters": {},
   "start_time": "2021-03-24T10:41:13.593398",
   "version": "2.1.2"
  }
 },
 "nbformat": 4,
 "nbformat_minor": 5
}