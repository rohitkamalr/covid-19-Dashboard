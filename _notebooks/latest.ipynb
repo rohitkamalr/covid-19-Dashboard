{
 "cells": [
  {
   "cell_type": "markdown",
   "metadata": {
    "papermill": {
     "duration": 0.016355,
     "end_time": "2020-09-02T12:38:29.134117",
     "exception": false,
     "start_time": "2020-09-02T12:38:29.117762",
     "status": "completed"
    },
    "tags": []
   },
   "source": [
    "# Latest COVID-19 India Matplotlib Overview"
   ]
  },
  {
   "cell_type": "code",
   "execution_count": 1,
   "metadata": {
    "execution": {
     "iopub.execute_input": "2020-09-02T12:38:29.166890Z",
     "iopub.status.busy": "2020-09-02T12:38:29.166330Z",
     "iopub.status.idle": "2020-09-02T12:38:29.659607Z",
     "shell.execute_reply": "2020-09-02T12:38:29.658681Z"
    },
    "papermill": {
     "duration": 0.513469,
     "end_time": "2020-09-02T12:38:29.659761",
     "exception": false,
     "start_time": "2020-09-02T12:38:29.146292",
     "status": "completed"
    },
    "tags": []
   },
   "outputs": [],
   "source": [
    "#hide\n",
    "import pandas as pd\n",
    "import numpy as np\n",
    "import requests\n",
    "import json\n",
    "import matplotlib.pyplot as plt\n",
    "import matplotlib.dates as mdates\n",
    "import matplotlib as mpl\n",
    "from IPython.core.display import display,HTML\n",
    "%matplotlib inline\n",
    "from datetime import date"
   ]
  },
  {
   "cell_type": "code",
   "execution_count": 2,
   "metadata": {
    "execution": {
     "iopub.execute_input": "2020-09-02T12:38:29.690555Z",
     "iopub.status.busy": "2020-09-02T12:38:29.690038Z",
     "iopub.status.idle": "2020-09-02T12:38:30.212381Z",
     "shell.execute_reply": "2020-09-02T12:38:30.211735Z"
    },
    "papermill": {
     "duration": 0.540886,
     "end_time": "2020-09-02T12:38:30.212548",
     "exception": false,
     "start_time": "2020-09-02T12:38:29.671662",
     "status": "completed"
    },
    "tags": []
   },
   "outputs": [],
   "source": [
    "#hide\n",
    "df  = pd.read_csv('https://api.covid19india.org/csv/latest/states.csv')\n",
    "df = df[['Date','State','Confirmed','Deceased']]\n",
    "df = df.rename(columns={'Confirmed':'Cases', \"Deceased\":'Deaths'})\n",
    "df_cases = df[[\"Date\",'State','Cases']]\n",
    "df_deaths = df[['Date','State','Deaths']]\n",
    "df_cases1 = df_cases.groupby('Date')\n",
    "df_deaths1= df_deaths.groupby('Date')"
   ]
  },
  {
   "cell_type": "code",
   "execution_count": 3,
   "metadata": {
    "execution": {
     "iopub.execute_input": "2020-09-02T12:38:30.245516Z",
     "iopub.status.busy": "2020-09-02T12:38:30.244923Z",
     "iopub.status.idle": "2020-09-02T12:38:30.262031Z",
     "shell.execute_reply": "2020-09-02T12:38:30.261579Z"
    },
    "papermill": {
     "duration": 0.035211,
     "end_time": "2020-09-02T12:38:30.262155",
     "exception": false,
     "start_time": "2020-09-02T12:38:30.226944",
     "status": "completed"
    },
    "tags": []
   },
   "outputs": [],
   "source": [
    "#hide\n",
    "df_snap = pd.read_csv('data/SnapshotCases-28-July.csv')\n",
    "arr_states = df_snap['states'].unique()\n",
    "arr_dates = df['Date'].unique()\n",
    "df_snap = df_snap.set_index('states')"
   ]
  },
  {
   "cell_type": "code",
   "execution_count": 4,
   "metadata": {
    "execution": {
     "iopub.execute_input": "2020-09-02T12:38:30.295393Z",
     "iopub.status.busy": "2020-09-02T12:38:30.294893Z",
     "iopub.status.idle": "2020-09-02T12:38:30.299107Z",
     "shell.execute_reply": "2020-09-02T12:38:30.299440Z"
    },
    "papermill": {
     "duration": 0.023701,
     "end_time": "2020-09-02T12:38:30.299553",
     "exception": false,
     "start_time": "2020-09-02T12:38:30.275852",
     "status": "completed"
    },
    "tags": []
   },
   "outputs": [
    {
     "data": {
      "text/plain": [
       "array(['Andaman and Nicobar Islands', 'Andhra Pradesh',\n",
       "       'Arunachal Pradesh', 'Assam', 'Bihar', 'Chandigarh',\n",
       "       'Dadra and Nagar Haveli and Daman and Diu', 'Delhi', 'Goa',\n",
       "       'Gujarat', 'Haryana', 'Himachal Pradesh', 'Jammu and Kashmir',\n",
       "       'Jharkhand', 'Karnataka', 'Kerala', 'Lakshadweep',\n",
       "       'Madhya Pradesh', 'Maharashtra', 'Manipur', 'Meghalaya', 'Mizoram',\n",
       "       'Nagaland', 'Odisha', 'Puducherry', 'Punjab', 'Rajasthan',\n",
       "       'Sikkim', 'Tamil Nadu', 'Telangana', 'Tripura', 'Uttar Pradesh',\n",
       "       'West Bengal', 'Chhattisgarh', 'Ladakh', 'Uttarakhand'],\n",
       "      dtype=object)"
      ]
     },
     "execution_count": 4,
     "metadata": {},
     "output_type": "execute_result"
    }
   ],
   "source": [
    "#hide\n",
    "arr_states[-9] = 'Puducherry'\n",
    "arr_states[-10] = 'Odisha'\n",
    "arr_states[6] = 'Dadra and Nagar Haveli and Daman and Diu'\n",
    "arr_states = np.append(arr_states,np.array(['Chhattisgarh','Ladakh','Uttarakhand']))\n",
    "arr_states"
   ]
  },
  {
   "cell_type": "code",
   "execution_count": 5,
   "metadata": {
    "execution": {
     "iopub.execute_input": "2020-09-02T12:38:30.330691Z",
     "iopub.status.busy": "2020-09-02T12:38:30.330201Z",
     "iopub.status.idle": "2020-09-02T12:38:30.336021Z",
     "shell.execute_reply": "2020-09-02T12:38:30.335666Z"
    },
    "papermill": {
     "duration": 0.024989,
     "end_time": "2020-09-02T12:38:30.336109",
     "exception": false,
     "start_time": "2020-09-02T12:38:30.311120",
     "status": "completed"
    },
    "tags": []
   },
   "outputs": [],
   "source": [
    "#hide\n",
    "dates = []\n",
    "for i in arr_dates:\n",
    "    if i>='2020-07-01':\n",
    "        dates.append(i)\n",
    "dict = {'states':dates}\n",
    "for i in arr_states:\n",
    "    dict[i] = [0]*len(dates)\n",
    "dft_cases = pd.DataFrame(dict)\n",
    "dft_deaths = pd.DataFrame(dict)\n"
   ]
  },
  {
   "cell_type": "code",
   "execution_count": 6,
   "metadata": {
    "execution": {
     "iopub.execute_input": "2020-09-02T12:38:30.367015Z",
     "iopub.status.busy": "2020-09-02T12:38:30.366533Z",
     "iopub.status.idle": "2020-09-02T12:38:31.067299Z",
     "shell.execute_reply": "2020-09-02T12:38:31.067868Z"
    },
    "papermill": {
     "duration": 0.719583,
     "end_time": "2020-09-02T12:38:31.068061",
     "exception": false,
     "start_time": "2020-09-02T12:38:30.348478",
     "status": "completed"
    },
    "tags": []
   },
   "outputs": [],
   "source": [
    "#hide\n",
    "for i in range(len(dates)):\n",
    "    df1_deaths = df_deaths1.get_group(dates[i])\n",
    "    for j in range(len(df1_deaths.index)):\n",
    "        if df1_deaths.iloc[j,1] in arr_states:\n",
    "            dft_deaths.loc[i,df1_deaths.iloc[j,1]] = df1_deaths.iloc[j,2]\n",
    "dft_deaths = dft_deaths.set_index('states')"
   ]
  },
  {
   "cell_type": "code",
   "execution_count": 7,
   "metadata": {
    "execution": {
     "iopub.execute_input": "2020-09-02T12:38:31.104177Z",
     "iopub.status.busy": "2020-09-02T12:38:31.103649Z",
     "iopub.status.idle": "2020-09-02T12:38:31.796407Z",
     "shell.execute_reply": "2020-09-02T12:38:31.795764Z"
    },
    "papermill": {
     "duration": 0.712924,
     "end_time": "2020-09-02T12:38:31.796566",
     "exception": false,
     "start_time": "2020-09-02T12:38:31.083642",
     "status": "completed"
    },
    "tags": []
   },
   "outputs": [],
   "source": [
    "#hide\n",
    "for i in range(len(dates)):\n",
    "    df1_cases = df_cases1.get_group(dates[i])\n",
    "    for j in range(len(df1_cases.index)):\n",
    "        if df1_cases.iloc[j,1] in arr_states:\n",
    "            dft_cases.loc[i,df1_cases.iloc[j,1]] = df1_cases.iloc[j,2]\n",
    "dft_cases = dft_cases.set_index('states')"
   ]
  },
  {
   "cell_type": "code",
   "execution_count": 8,
   "metadata": {
    "execution": {
     "iopub.execute_input": "2020-09-02T12:38:31.830594Z",
     "iopub.status.busy": "2020-09-02T12:38:31.829859Z",
     "iopub.status.idle": "2020-09-02T12:38:31.834077Z",
     "shell.execute_reply": "2020-09-02T12:38:31.833522Z"
    },
    "papermill": {
     "duration": 0.022132,
     "end_time": "2020-09-02T12:38:31.834217",
     "exception": false,
     "start_time": "2020-09-02T12:38:31.812085",
     "status": "completed"
    },
    "tags": []
   },
   "outputs": [],
   "source": [
    "#hide\n",
    "dft_cases = dft_cases.T\n",
    "dft_deaths = dft_deaths.T\n",
    "dt_today = dates[-1]\n",
    "dt_yday = dates[-2]"
   ]
  },
  {
   "cell_type": "code",
   "execution_count": 9,
   "metadata": {
    "execution": {
     "iopub.execute_input": "2020-09-02T12:38:31.863545Z",
     "iopub.status.busy": "2020-09-02T12:38:31.862634Z",
     "iopub.status.idle": "2020-09-02T12:38:31.867293Z",
     "shell.execute_reply": "2020-09-02T12:38:31.867629Z"
    },
    "papermill": {
     "duration": 0.021839,
     "end_time": "2020-09-02T12:38:31.867785",
     "exception": false,
     "start_time": "2020-09-02T12:38:31.845946",
     "status": "completed"
    },
    "tags": []
   },
   "outputs": [],
   "source": [
    "#hide\n",
    "dft_cases = dft_cases.reset_index()\n",
    "dft_deaths = dft_deaths.reset_index()\n",
    "dft_cases = dft_cases.rename(columns = {'index':'state'})\n",
    "dft_deaths = dft_deaths.rename(columns = {'index':'state'})"
   ]
  },
  {
   "cell_type": "code",
   "execution_count": 10,
   "metadata": {
    "execution": {
     "iopub.execute_input": "2020-09-02T12:38:31.904077Z",
     "iopub.status.busy": "2020-09-02T12:38:31.903539Z",
     "iopub.status.idle": "2020-09-02T12:38:31.906994Z",
     "shell.execute_reply": "2020-09-02T12:38:31.906548Z"
    },
    "papermill": {
     "duration": 0.02798,
     "end_time": "2020-09-02T12:38:31.907092",
     "exception": false,
     "start_time": "2020-09-02T12:38:31.879112",
     "status": "completed"
    },
    "tags": []
   },
   "outputs": [],
   "source": [
    "#hide\n",
    "dfc_cases = dft_cases.groupby('state')[dt_today].sum()\n",
    "dfc_deaths = dft_deaths.groupby('state')[dt_today].sum()\n",
    "dfp_cases = dft_cases.groupby('state')[dt_yday].sum()\n",
    "dfp_deaths = dft_deaths.groupby('state')[dt_yday].sum()"
   ]
  },
  {
   "cell_type": "code",
   "execution_count": 11,
   "metadata": {
    "execution": {
     "iopub.execute_input": "2020-09-02T12:38:31.937154Z",
     "iopub.status.busy": "2020-09-02T12:38:31.936678Z",
     "iopub.status.idle": "2020-09-02T12:38:31.947574Z",
     "shell.execute_reply": "2020-09-02T12:38:31.947053Z"
    },
    "papermill": {
     "duration": 0.028042,
     "end_time": "2020-09-02T12:38:31.947674",
     "exception": false,
     "start_time": "2020-09-02T12:38:31.919632",
     "status": "completed"
    },
    "tags": []
   },
   "outputs": [
    {
     "data": {
      "text/html": [
       "<div>\n",
       "<style scoped>\n",
       "    .dataframe tbody tr th:only-of-type {\n",
       "        vertical-align: middle;\n",
       "    }\n",
       "\n",
       "    .dataframe tbody tr th {\n",
       "        vertical-align: top;\n",
       "    }\n",
       "\n",
       "    .dataframe thead th {\n",
       "        text-align: right;\n",
       "    }\n",
       "</style>\n",
       "<table border=\"1\" class=\"dataframe\">\n",
       "  <thead>\n",
       "    <tr style=\"text-align: right;\">\n",
       "      <th></th>\n",
       "      <th>states</th>\n",
       "      <th>Cases</th>\n",
       "      <th>Deaths</th>\n",
       "      <th>PCases</th>\n",
       "      <th>PDeaths</th>\n",
       "    </tr>\n",
       "  </thead>\n",
       "  <tbody>\n",
       "    <tr>\n",
       "      <th>0</th>\n",
       "      <td>Maharashtra</td>\n",
       "      <td>808306</td>\n",
       "      <td>24903</td>\n",
       "      <td>808306</td>\n",
       "      <td>24903</td>\n",
       "    </tr>\n",
       "    <tr>\n",
       "      <th>1</th>\n",
       "      <td>Andhra Pradesh</td>\n",
       "      <td>445139</td>\n",
       "      <td>4053</td>\n",
       "      <td>445139</td>\n",
       "      <td>4053</td>\n",
       "    </tr>\n",
       "    <tr>\n",
       "      <th>2</th>\n",
       "      <td>Tamil Nadu</td>\n",
       "      <td>433969</td>\n",
       "      <td>7418</td>\n",
       "      <td>433969</td>\n",
       "      <td>7418</td>\n",
       "    </tr>\n",
       "    <tr>\n",
       "      <th>3</th>\n",
       "      <td>Karnataka</td>\n",
       "      <td>351481</td>\n",
       "      <td>5837</td>\n",
       "      <td>351481</td>\n",
       "      <td>5837</td>\n",
       "    </tr>\n",
       "    <tr>\n",
       "      <th>4</th>\n",
       "      <td>Uttar Pradesh</td>\n",
       "      <td>241439</td>\n",
       "      <td>3616</td>\n",
       "      <td>235757</td>\n",
       "      <td>3542</td>\n",
       "    </tr>\n",
       "  </tbody>\n",
       "</table>\n",
       "</div>"
      ],
      "text/plain": [
       "           states   Cases  Deaths  PCases  PDeaths\n",
       "0     Maharashtra  808306   24903  808306    24903\n",
       "1  Andhra Pradesh  445139    4053  445139     4053\n",
       "2      Tamil Nadu  433969    7418  433969     7418\n",
       "3       Karnataka  351481    5837  351481     5837\n",
       "4   Uttar Pradesh  241439    3616  235757     3542"
      ]
     },
     "execution_count": 11,
     "metadata": {},
     "output_type": "execute_result"
    }
   ],
   "source": [
    "#hide\n",
    "df_table = pd.DataFrame({'states': dfc_cases.index, 'Cases': dfc_cases.values, 'Deaths': dfc_deaths.values, 'PCases': dfp_cases.values, 'PDeaths': dfp_deaths.values}).set_index('states')\n",
    "df_table = df_table.sort_values(by = ['Cases','Deaths'], ascending = [False, False])\n",
    "df_table = df_table.reset_index()\n",
    "df_table.head()"
   ]
  },
  {
   "cell_type": "code",
   "execution_count": 12,
   "metadata": {
    "execution": {
     "iopub.execute_input": "2020-09-02T12:38:31.981992Z",
     "iopub.status.busy": "2020-09-02T12:38:31.981453Z",
     "iopub.status.idle": "2020-09-02T12:38:31.990035Z",
     "shell.execute_reply": "2020-09-02T12:38:31.990537Z"
    },
    "papermill": {
     "duration": 0.028973,
     "end_time": "2020-09-02T12:38:31.990726",
     "exception": false,
     "start_time": "2020-09-02T12:38:31.961753",
     "status": "completed"
    },
    "tags": []
   },
   "outputs": [],
   "source": [
    "#hide\n",
    "for c in 'Cases, Deaths'.split(', '):\n",
    "    df_table[f'{c} (+)'] = (df_table[c] - df_table[f'P{c}']).clip(0)\n",
    "df_table['Fatality Rate'] = (100* df_table['Deaths']/ df_table['Cases']).round(2)"
   ]
  },
  {
   "cell_type": "code",
   "execution_count": 13,
   "metadata": {
    "execution": {
     "iopub.execute_input": "2020-09-02T12:38:32.022284Z",
     "iopub.status.busy": "2020-09-02T12:38:32.021727Z",
     "iopub.status.idle": "2020-09-02T12:38:32.032068Z",
     "shell.execute_reply": "2020-09-02T12:38:32.031481Z"
    },
    "papermill": {
     "duration": 0.027475,
     "end_time": "2020-09-02T12:38:32.032187",
     "exception": false,
     "start_time": "2020-09-02T12:38:32.004712",
     "status": "completed"
    },
    "tags": []
   },
   "outputs": [
    {
     "data": {
      "text/html": [
       "<div>\n",
       "<style scoped>\n",
       "    .dataframe tbody tr th:only-of-type {\n",
       "        vertical-align: middle;\n",
       "    }\n",
       "\n",
       "    .dataframe tbody tr th {\n",
       "        vertical-align: top;\n",
       "    }\n",
       "\n",
       "    .dataframe thead th {\n",
       "        text-align: right;\n",
       "    }\n",
       "</style>\n",
       "<table border=\"1\" class=\"dataframe\">\n",
       "  <thead>\n",
       "    <tr style=\"text-align: right;\">\n",
       "      <th></th>\n",
       "      <th>states</th>\n",
       "      <th>Cases</th>\n",
       "      <th>Deaths</th>\n",
       "      <th>PCases</th>\n",
       "      <th>PDeaths</th>\n",
       "      <th>Cases (+)</th>\n",
       "      <th>Deaths (+)</th>\n",
       "      <th>Fatality Rate</th>\n",
       "    </tr>\n",
       "  </thead>\n",
       "  <tbody>\n",
       "    <tr>\n",
       "      <th>0</th>\n",
       "      <td>Maharashtra</td>\n",
       "      <td>808306</td>\n",
       "      <td>24903</td>\n",
       "      <td>808306</td>\n",
       "      <td>24903</td>\n",
       "      <td>0</td>\n",
       "      <td>0</td>\n",
       "      <td>3.08</td>\n",
       "    </tr>\n",
       "    <tr>\n",
       "      <th>1</th>\n",
       "      <td>Andhra Pradesh</td>\n",
       "      <td>445139</td>\n",
       "      <td>4053</td>\n",
       "      <td>445139</td>\n",
       "      <td>4053</td>\n",
       "      <td>0</td>\n",
       "      <td>0</td>\n",
       "      <td>0.91</td>\n",
       "    </tr>\n",
       "    <tr>\n",
       "      <th>2</th>\n",
       "      <td>Tamil Nadu</td>\n",
       "      <td>433969</td>\n",
       "      <td>7418</td>\n",
       "      <td>433969</td>\n",
       "      <td>7418</td>\n",
       "      <td>0</td>\n",
       "      <td>0</td>\n",
       "      <td>1.71</td>\n",
       "    </tr>\n",
       "    <tr>\n",
       "      <th>3</th>\n",
       "      <td>Karnataka</td>\n",
       "      <td>351481</td>\n",
       "      <td>5837</td>\n",
       "      <td>351481</td>\n",
       "      <td>5837</td>\n",
       "      <td>0</td>\n",
       "      <td>0</td>\n",
       "      <td>1.66</td>\n",
       "    </tr>\n",
       "    <tr>\n",
       "      <th>4</th>\n",
       "      <td>Uttar Pradesh</td>\n",
       "      <td>241439</td>\n",
       "      <td>3616</td>\n",
       "      <td>235757</td>\n",
       "      <td>3542</td>\n",
       "      <td>5682</td>\n",
       "      <td>74</td>\n",
       "      <td>1.50</td>\n",
       "    </tr>\n",
       "  </tbody>\n",
       "</table>\n",
       "</div>"
      ],
      "text/plain": [
       "           states   Cases  Deaths  PCases  PDeaths  Cases (+)  Deaths (+)  \\\n",
       "0     Maharashtra  808306   24903  808306    24903          0           0   \n",
       "1  Andhra Pradesh  445139    4053  445139     4053          0           0   \n",
       "2      Tamil Nadu  433969    7418  433969     7418          0           0   \n",
       "3       Karnataka  351481    5837  351481     5837          0           0   \n",
       "4   Uttar Pradesh  241439    3616  235757     3542       5682          74   \n",
       "\n",
       "   Fatality Rate  \n",
       "0           3.08  \n",
       "1           0.91  \n",
       "2           1.71  \n",
       "3           1.66  \n",
       "4           1.50  "
      ]
     },
     "execution_count": 13,
     "metadata": {},
     "output_type": "execute_result"
    }
   ],
   "source": [
    "#hide\n",
    "df_table.head()"
   ]
  },
  {
   "cell_type": "code",
   "execution_count": 14,
   "metadata": {
    "execution": {
     "iopub.execute_input": "2020-09-02T12:38:32.065073Z",
     "iopub.status.busy": "2020-09-02T12:38:32.064600Z",
     "iopub.status.idle": "2020-09-02T12:38:32.079052Z",
     "shell.execute_reply": "2020-09-02T12:38:32.078650Z"
    },
    "papermill": {
     "duration": 0.033209,
     "end_time": "2020-09-02T12:38:32.079149",
     "exception": false,
     "start_time": "2020-09-02T12:38:32.045940",
     "status": "completed"
    },
    "tags": []
   },
   "outputs": [
    {
     "data": {
      "text/plain": [
       "{'updated': '2020-09-02',\n",
       " 'since': '2020-09-01',\n",
       " 'Cases': 3781713,\n",
       " 'PCases': 3766108,\n",
       " 'Deaths': 66584,\n",
       " 'PDeaths': 66460,\n",
       " 'Cases (+)': 15605,\n",
       " 'Deaths (+)': 124}"
      ]
     },
     "execution_count": 14,
     "metadata": {},
     "output_type": "execute_result"
    }
   ],
   "source": [
    "#hide\n",
    "summary = {'updated':dates[-1], 'since':dates[-2]}\n",
    "list_names = ['Cases', 'PCases', 'Deaths', 'PDeaths', 'Cases (+)', 'Deaths (+)']\n",
    "for name in list_names:\n",
    "    summary[name] = df_table.sum()[name]\n",
    "summary"
   ]
  },
  {
   "cell_type": "code",
   "execution_count": 15,
   "metadata": {
    "execution": {
     "iopub.execute_input": "2020-09-02T12:38:32.108024Z",
     "iopub.status.busy": "2020-09-02T12:38:32.107596Z",
     "iopub.status.idle": "2020-09-02T12:38:32.108843Z",
     "shell.execute_reply": "2020-09-02T12:38:32.109303Z"
    },
    "papermill": {
     "duration": 0.018033,
     "end_time": "2020-09-02T12:38:32.109434",
     "exception": false,
     "start_time": "2020-09-02T12:38:32.091401",
     "status": "completed"
    },
    "tags": []
   },
   "outputs": [],
   "source": [
    "#hide\n",
    "overview = '''\n",
    "<!-- #######  HTML!! #########-->\n",
    "<h1 style=\"color: #5e9ca0; text-align: center;\">India</h1>\n",
    "<p style=\"text-align: center;\">Last update: <strong>{update}</strong></p>\n",
    "<p style=\"text-align: center;\">Confirmed cases:</p>\n",
    "<p style=\"text-align: center;font-size:24px;\">{cases} (<span style=\"color: #ff0000;\">+{new}</span>)</p>\n",
    "<p style=\"text-align: center;\">Confirmed deaths:</p>\n",
    "<p style=\"text-align: center;font-size:24px;\">{deaths} (<span style=\"color: #ff0000;\">+{dnew}</span>)</p>\n",
    "'''"
   ]
  },
  {
   "cell_type": "code",
   "execution_count": 16,
   "metadata": {
    "execution": {
     "iopub.execute_input": "2020-09-02T12:38:32.139941Z",
     "iopub.status.busy": "2020-09-02T12:38:32.139462Z",
     "iopub.status.idle": "2020-09-02T12:38:32.142421Z",
     "shell.execute_reply": "2020-09-02T12:38:32.141986Z"
    },
    "papermill": {
     "duration": 0.020462,
     "end_time": "2020-09-02T12:38:32.142521",
     "exception": false,
     "start_time": "2020-09-02T12:38:32.122059",
     "status": "completed"
    },
    "tags": []
   },
   "outputs": [
    {
     "data": {
      "text/html": [
       "\n",
       "<!-- #######  HTML!! #########-->\n",
       "<h1 style=\"color: #5e9ca0; text-align: center;\">India</h1>\n",
       "<p style=\"text-align: center;\">Last update: <strong>2020-09-02</strong></p>\n",
       "<p style=\"text-align: center;\">Confirmed cases:</p>\n",
       "<p style=\"text-align: center;font-size:24px;\">3781713 (<span style=\"color: #ff0000;\">+15605</span>)</p>\n",
       "<p style=\"text-align: center;\">Confirmed deaths:</p>\n",
       "<p style=\"text-align: center;font-size:24px;\">66584 (<span style=\"color: #ff0000;\">+124</span>)</p>\n"
      ],
      "text/plain": [
       "<IPython.core.display.HTML object>"
      ]
     },
     "metadata": {},
     "output_type": "display_data"
    }
   ],
   "source": [
    "#hide_input\n",
    "update = summary['updated']\n",
    "cases = summary['Cases']\n",
    "new = summary['Cases (+)']\n",
    "deaths = summary['Deaths']\n",
    "dnew = summary['Deaths (+)']\n",
    "\n",
    "html = HTML(overview.format(update=update, cases=cases,new=new,deaths=deaths,dnew=dnew))\n",
    "\n",
    "display(html)"
   ]
  },
  {
   "cell_type": "code",
   "execution_count": 17,
   "metadata": {
    "execution": {
     "iopub.execute_input": "2020-09-02T12:38:32.176435Z",
     "iopub.status.busy": "2020-09-02T12:38:32.175962Z",
     "iopub.status.idle": "2020-09-02T12:38:32.182099Z",
     "shell.execute_reply": "2020-09-02T12:38:32.181519Z"
    },
    "papermill": {
     "duration": 0.026303,
     "end_time": "2020-09-02T12:38:32.182209",
     "exception": false,
     "start_time": "2020-09-02T12:38:32.155906",
     "status": "completed"
    },
    "tags": []
   },
   "outputs": [],
   "source": [
    "#hide\n",
    "dt_cols = list(dft_cases.columns[1:])\n",
    "dft_ct_new_cases = dft_cases.groupby('state')[dt_cols].sum().diff(axis=1).fillna(0).astype(int)\n",
    "dft_ct_new_cases.sort_values(by = dates[-1], ascending = False,inplace = True)"
   ]
  },
  {
   "cell_type": "code",
   "execution_count": 18,
   "metadata": {
    "execution": {
     "iopub.execute_input": "2020-09-02T12:38:32.227018Z",
     "iopub.status.busy": "2020-09-02T12:38:32.226527Z",
     "iopub.status.idle": "2020-09-02T12:38:32.228704Z",
     "shell.execute_reply": "2020-09-02T12:38:32.229085Z"
    },
    "papermill": {
     "duration": 0.031295,
     "end_time": "2020-09-02T12:38:32.229192",
     "exception": false,
     "start_time": "2020-09-02T12:38:32.197897",
     "status": "completed"
    },
    "tags": []
   },
   "outputs": [
    {
     "data": {
      "text/html": [
       "<div>\n",
       "<style scoped>\n",
       "    .dataframe tbody tr th:only-of-type {\n",
       "        vertical-align: middle;\n",
       "    }\n",
       "\n",
       "    .dataframe tbody tr th {\n",
       "        vertical-align: top;\n",
       "    }\n",
       "\n",
       "    .dataframe thead th {\n",
       "        text-align: right;\n",
       "    }\n",
       "</style>\n",
       "<table border=\"1\" class=\"dataframe\">\n",
       "  <thead>\n",
       "    <tr style=\"text-align: right;\">\n",
       "      <th>states</th>\n",
       "      <th>2020-07-01</th>\n",
       "      <th>2020-07-02</th>\n",
       "      <th>2020-07-03</th>\n",
       "      <th>2020-07-04</th>\n",
       "      <th>2020-07-05</th>\n",
       "      <th>2020-07-06</th>\n",
       "      <th>2020-07-07</th>\n",
       "      <th>2020-07-08</th>\n",
       "      <th>2020-07-09</th>\n",
       "      <th>2020-07-10</th>\n",
       "      <th>...</th>\n",
       "      <th>2020-08-24</th>\n",
       "      <th>2020-08-25</th>\n",
       "      <th>2020-08-26</th>\n",
       "      <th>2020-08-27</th>\n",
       "      <th>2020-08-28</th>\n",
       "      <th>2020-08-29</th>\n",
       "      <th>2020-08-30</th>\n",
       "      <th>2020-08-31</th>\n",
       "      <th>2020-09-01</th>\n",
       "      <th>2020-09-02</th>\n",
       "    </tr>\n",
       "    <tr>\n",
       "      <th>state</th>\n",
       "      <th></th>\n",
       "      <th></th>\n",
       "      <th></th>\n",
       "      <th></th>\n",
       "      <th></th>\n",
       "      <th></th>\n",
       "      <th></th>\n",
       "      <th></th>\n",
       "      <th></th>\n",
       "      <th></th>\n",
       "      <th></th>\n",
       "      <th></th>\n",
       "      <th></th>\n",
       "      <th></th>\n",
       "      <th></th>\n",
       "      <th></th>\n",
       "      <th></th>\n",
       "      <th></th>\n",
       "      <th></th>\n",
       "      <th></th>\n",
       "      <th></th>\n",
       "    </tr>\n",
       "  </thead>\n",
       "  <tbody>\n",
       "    <tr>\n",
       "      <th>Uttar Pradesh</th>\n",
       "      <td>0</td>\n",
       "      <td>769</td>\n",
       "      <td>972</td>\n",
       "      <td>757</td>\n",
       "      <td>1153</td>\n",
       "      <td>929</td>\n",
       "      <td>1332</td>\n",
       "      <td>1188</td>\n",
       "      <td>1206</td>\n",
       "      <td>1338</td>\n",
       "      <td>...</td>\n",
       "      <td>4601</td>\n",
       "      <td>5006</td>\n",
       "      <td>5640</td>\n",
       "      <td>5391</td>\n",
       "      <td>5405</td>\n",
       "      <td>5633</td>\n",
       "      <td>6175</td>\n",
       "      <td>4782</td>\n",
       "      <td>5343</td>\n",
       "      <td>5682</td>\n",
       "    </tr>\n",
       "    <tr>\n",
       "      <th>Odisha</th>\n",
       "      <td>0</td>\n",
       "      <td>229</td>\n",
       "      <td>561</td>\n",
       "      <td>495</td>\n",
       "      <td>469</td>\n",
       "      <td>456</td>\n",
       "      <td>571</td>\n",
       "      <td>527</td>\n",
       "      <td>577</td>\n",
       "      <td>755</td>\n",
       "      <td>...</td>\n",
       "      <td>2949</td>\n",
       "      <td>2752</td>\n",
       "      <td>3371</td>\n",
       "      <td>3384</td>\n",
       "      <td>3682</td>\n",
       "      <td>3252</td>\n",
       "      <td>3014</td>\n",
       "      <td>2602</td>\n",
       "      <td>3025</td>\n",
       "      <td>3219</td>\n",
       "    </tr>\n",
       "    <tr>\n",
       "      <th>Telangana</th>\n",
       "      <td>0</td>\n",
       "      <td>1213</td>\n",
       "      <td>1892</td>\n",
       "      <td>1850</td>\n",
       "      <td>1590</td>\n",
       "      <td>1831</td>\n",
       "      <td>1879</td>\n",
       "      <td>1924</td>\n",
       "      <td>1410</td>\n",
       "      <td>1278</td>\n",
       "      <td>...</td>\n",
       "      <td>1842</td>\n",
       "      <td>2579</td>\n",
       "      <td>3018</td>\n",
       "      <td>2795</td>\n",
       "      <td>2932</td>\n",
       "      <td>2751</td>\n",
       "      <td>2924</td>\n",
       "      <td>1873</td>\n",
       "      <td>2734</td>\n",
       "      <td>2892</td>\n",
       "    </tr>\n",
       "    <tr>\n",
       "      <th>Delhi</th>\n",
       "      <td>0</td>\n",
       "      <td>2373</td>\n",
       "      <td>2520</td>\n",
       "      <td>2505</td>\n",
       "      <td>2244</td>\n",
       "      <td>1379</td>\n",
       "      <td>2008</td>\n",
       "      <td>2033</td>\n",
       "      <td>2187</td>\n",
       "      <td>2089</td>\n",
       "      <td>...</td>\n",
       "      <td>1061</td>\n",
       "      <td>1544</td>\n",
       "      <td>1693</td>\n",
       "      <td>1840</td>\n",
       "      <td>1808</td>\n",
       "      <td>1954</td>\n",
       "      <td>2024</td>\n",
       "      <td>1358</td>\n",
       "      <td>2312</td>\n",
       "      <td>2509</td>\n",
       "    </tr>\n",
       "    <tr>\n",
       "      <th>Rajasthan</th>\n",
       "      <td>0</td>\n",
       "      <td>350</td>\n",
       "      <td>390</td>\n",
       "      <td>480</td>\n",
       "      <td>632</td>\n",
       "      <td>524</td>\n",
       "      <td>716</td>\n",
       "      <td>659</td>\n",
       "      <td>500</td>\n",
       "      <td>611</td>\n",
       "      <td>...</td>\n",
       "      <td>1346</td>\n",
       "      <td>1370</td>\n",
       "      <td>1345</td>\n",
       "      <td>1345</td>\n",
       "      <td>1355</td>\n",
       "      <td>1407</td>\n",
       "      <td>1450</td>\n",
       "      <td>1466</td>\n",
       "      <td>1470</td>\n",
       "      <td>690</td>\n",
       "    </tr>\n",
       "  </tbody>\n",
       "</table>\n",
       "<p>5 rows × 64 columns</p>\n",
       "</div>"
      ],
      "text/plain": [
       "states         2020-07-01  2020-07-02  2020-07-03  2020-07-04  2020-07-05  \\\n",
       "state                                                                       \n",
       "Uttar Pradesh           0         769         972         757        1153   \n",
       "Odisha                  0         229         561         495         469   \n",
       "Telangana               0        1213        1892        1850        1590   \n",
       "Delhi                   0        2373        2520        2505        2244   \n",
       "Rajasthan               0         350         390         480         632   \n",
       "\n",
       "states         2020-07-06  2020-07-07  2020-07-08  2020-07-09  2020-07-10  \\\n",
       "state                                                                       \n",
       "Uttar Pradesh         929        1332        1188        1206        1338   \n",
       "Odisha                456         571         527         577         755   \n",
       "Telangana            1831        1879        1924        1410        1278   \n",
       "Delhi                1379        2008        2033        2187        2089   \n",
       "Rajasthan             524         716         659         500         611   \n",
       "\n",
       "states         ...  2020-08-24  2020-08-25  2020-08-26  2020-08-27  \\\n",
       "state          ...                                                   \n",
       "Uttar Pradesh  ...        4601        5006        5640        5391   \n",
       "Odisha         ...        2949        2752        3371        3384   \n",
       "Telangana      ...        1842        2579        3018        2795   \n",
       "Delhi          ...        1061        1544        1693        1840   \n",
       "Rajasthan      ...        1346        1370        1345        1345   \n",
       "\n",
       "states         2020-08-28  2020-08-29  2020-08-30  2020-08-31  2020-09-01  \\\n",
       "state                                                                       \n",
       "Uttar Pradesh        5405        5633        6175        4782        5343   \n",
       "Odisha               3682        3252        3014        2602        3025   \n",
       "Telangana            2932        2751        2924        1873        2734   \n",
       "Delhi                1808        1954        2024        1358        2312   \n",
       "Rajasthan            1355        1407        1450        1466        1470   \n",
       "\n",
       "states         2020-09-02  \n",
       "state                      \n",
       "Uttar Pradesh        5682  \n",
       "Odisha               3219  \n",
       "Telangana            2892  \n",
       "Delhi                2509  \n",
       "Rajasthan             690  \n",
       "\n",
       "[5 rows x 64 columns]"
      ]
     },
     "execution_count": 18,
     "metadata": {},
     "output_type": "execute_result"
    }
   ],
   "source": [
    "#hide\n",
    "dft_ct_new_cases.head()"
   ]
  },
  {
   "cell_type": "code",
   "execution_count": 19,
   "metadata": {
    "execution": {
     "iopub.execute_input": "2020-09-02T12:38:32.259035Z",
     "iopub.status.busy": "2020-09-02T12:38:32.258342Z",
     "iopub.status.idle": "2020-09-02T12:38:34.797021Z",
     "shell.execute_reply": "2020-09-02T12:38:34.797362Z"
    },
    "papermill": {
     "duration": 2.554334,
     "end_time": "2020-09-02T12:38:34.797486",
     "exception": false,
     "start_time": "2020-09-02T12:38:32.243152",
     "status": "completed"
    },
    "tags": []
   },
   "outputs": [
    {
     "data": {
      "image/png": "[encoded data removed]",
      "text/plain": [
       "<Figure size 1296x2016 with 11 Axes>"
      ]
     },
     "metadata": {
      "needs_background": "light"
     },
     "output_type": "display_data"
    }
   ],
   "source": [
    "#hide_input\n",
    "df = dft_ct_new_cases.copy()\n",
    "df.loc['Total'] = df.sum()\n",
    "n = 5\n",
    "ax = []\n",
    "fig = plt.figure(figsize = (18,28))\n",
    "gs = fig.add_gridspec(n+2, 5)\n",
    "# gs = fig.add_gridspec(2, 3)\n",
    "ax1 = fig.add_subplot(gs[0, :])\n",
    "ef = df.loc['Total'].rename_axis('date').reset_index()\n",
    "ef['date'] = ef['date'].astype('datetime64[ns]')\n",
    "ax1.bar(ef.date,ef.Total,alpha=0.3,color='#007acc')\n",
    "ax1.plot(ef.date,ef.Total , marker=\"o\", color='#007acc')\n",
    "ax1.xaxis.set_major_locator(mdates.WeekdayLocator())\n",
    "ax1.xaxis.set_major_formatter(mdates.DateFormatter('%b %d'))\n",
    "ax1.text(0.02, 0.5,'India daily case count', transform = ax1.transAxes, fontsize=25);\n",
    "ax1.spines['right'].set_visible(False)\n",
    "ax1.spines['top'].set_visible(False)\n",
    "\n",
    "ax2 = fig.add_subplot(gs[1,0])\n",
    "ef = df.loc['Maharashtra'].rename_axis('date').reset_index()\n",
    "ef['date'] = ef['date'].astype('datetime64[ns]')\n",
    "\n",
    "ax2.bar(ef.date, ef.Maharashtra,color = '#007acc',alpha=0.5)\n",
    "ax2.xaxis.set_major_locator(mdates.WeekdayLocator())\n",
    "ax2.xaxis.set_major_formatter(mdates.DateFormatter('%b %d'))\n",
    "ax2.set_xticks(ax2.get_xticks()[::3])\n",
    "maxyval = ef.Maharashtra.max()\n",
    "ax2.set_ylim([0,maxyval])\n",
    "ax2.text(0.05, 0.9,'Maharashtra', transform = ax2.transAxes, fontsize=20);\n",
    "ax2.spines['right'].set_visible(False)\n",
    "ax2.spines['top'].set_visible(False)\n",
    "\n",
    "\n",
    "ax3 = fig.add_subplot(gs[1,1])\n",
    "ef = df.loc['Tamil Nadu'].rename_axis('date').reset_index()\n",
    "ef['date'] = ef['date'].astype('datetime64[ns]')\n",
    "ax3.bar(ef.date, ef['Tamil Nadu'],color = '#007acc',alpha=0.5,)\n",
    "ax3.xaxis.set_major_locator(mdates.WeekdayLocator())\n",
    "ax3.xaxis.set_major_formatter(mdates.DateFormatter('%b %d'))\n",
    "ax3.set_xticks(ax3.get_xticks()[::3])\n",
    "ax3.text(0.05, 0.9,'Tamil Nadu', transform = ax3.transAxes, fontsize=20);\n",
    "ax3.spines['right'].set_visible(False)\n",
    "ax3.spines['top'].set_visible(False)\n",
    "\n",
    "ax5 = fig.add_subplot(gs[1,3])\n",
    "ef = df.loc['Telangana'].rename_axis('date').reset_index()\n",
    "ef['date'] = ef['date'].astype('datetime64[ns]')\n",
    "ax5.bar(ef.date, ef['Telangana'],color = '#007acc',alpha=0.5,)\n",
    "ax5.xaxis.set_major_locator(mdates.WeekdayLocator())\n",
    "ax5.xaxis.set_major_formatter(mdates.DateFormatter('%b %d'))\n",
    "ax5.set_xticks(ax5.get_xticks()[::3])\n",
    "ax5.text(0.05, 0.9,'Telangana', transform = ax5.transAxes, fontsize=20);\n",
    "ax5.spines['right'].set_visible(False)\n",
    "ax5.spines['top'].set_visible(False)\n",
    "\n",
    "ax6 = fig.add_subplot(gs[1,4])\n",
    "ef = df.loc['Andhra Pradesh'].rename_axis('date').reset_index()\n",
    "ef['date'] = ef['date'].astype('datetime64[ns]')\n",
    "ax6.bar(ef.date, ef['Andhra Pradesh'],color = '#007acc',alpha=0.5,)\n",
    "ax6.xaxis.set_major_locator(mdates.WeekdayLocator())\n",
    "ax6.xaxis.set_major_formatter(mdates.DateFormatter('%b %d'))\n",
    "ax6.set_xticks(ax6.get_xticks()[::3])\n",
    "ax6.text(0.05, 1,'Andhra Pradesh', transform = ax6.transAxes, fontsize=20);\n",
    "ax6.spines['right'].set_visible(False)\n",
    "ax6.spines['top'].set_visible(False)\n",
    "\n",
    "ax4 = fig.add_subplot(gs[1,2])\n",
    "ef = df.loc['Delhi'].rename_axis('date').reset_index()\n",
    "ef['date'] = ef['date'].astype('datetime64[ns]')\n",
    "ax4.bar(ef.date, ef.Delhi,color = '#007acc',alpha=0.5)\n",
    "ax4.set_xticks([])\n",
    "ax4.xaxis.set_major_locator(mdates.WeekdayLocator())\n",
    "ax4.xaxis.set_major_formatter(mdates.DateFormatter('%b %d'))\n",
    "ax4.set_xticks(ax4.get_xticks()[::3])\n",
    "ax4.spines['right'].set_visible(False)\n",
    "ax4.spines['top'].set_visible(False)\n",
    "\n",
    "ax4.text(0.05, 1,'Delhi', transform = ax4.transAxes, fontsize=20)\n",
    "\n",
    "for i in range(n):\n",
    "    \n",
    "    ax.append(fig.add_subplot(gs[i+2,:]))\n",
    "    ef = df.iloc[i+3].rename_axis('date').reset_index()\n",
    "    ef['date'] = ef['date'].astype('datetime64[ns]')\n",
    "    ax[i].bar(ef.date,ef.iloc[:,-1],color = '#007acc',alpha=0.3)\n",
    "    ax[i].plot(ef.date,ef.iloc[:,-1],marker='o',color='#007acc')\n",
    "    ax[i].text(0.02,0.5,f'{ef.columns.values[-1]}',transform = ax[i].transAxes, fontsize = 20);\n",
    "    ax[i].xaxis.set_major_locator(mdates.WeekdayLocator())\n",
    "    ax[i].xaxis.set_major_formatter(mdates.DateFormatter('%b %d'))\n",
    "    ax[i].set_ylim([0,7000])\n",
    "    ax[i].spines['right'].set_visible(False)\n",
    "    ax[i].spines['top'].set_visible(False)\n",
    "plt.tight_layout()\n"
   ]
  },
  {
   "cell_type": "code",
   "execution_count": 20,
   "metadata": {
    "execution": {
     "iopub.execute_input": "2020-09-02T12:38:34.908485Z",
     "iopub.status.busy": "2020-09-02T12:38:34.907975Z",
     "iopub.status.idle": "2020-09-02T12:38:34.909832Z",
     "shell.execute_reply": "2020-09-02T12:38:34.910187Z"
    },
    "papermill": {
     "duration": 0.054539,
     "end_time": "2020-09-02T12:38:34.910318",
     "exception": false,
     "start_time": "2020-09-02T12:38:34.855779",
     "status": "completed"
    },
    "tags": []
   },
   "outputs": [
    {
     "name": "stdout",
     "output_type": "stream",
     "text": [
      "                                   states   Cases  Deaths  PCases  PDeaths  Cases (+)  Deaths (+)  Fatality Rate\n",
      "                              Maharashtra  808306   24903  808306    24903          0           0           3.08\n",
      "                           Andhra Pradesh  445139    4053  445139     4053          0           0           0.91\n",
      "                               Tamil Nadu  433969    7418  433969     7418          0           0           1.71\n",
      "                                Karnataka  351481    5837  351481     5837          0           0           1.66\n",
      "                            Uttar Pradesh  241439    3616  235757     3542       5682          74           1.50\n",
      "                                    Delhi  179569    4481  177060     4462       2509          19           2.50\n",
      "                              West Bengal  165721    3283  165721     3283          0           0           1.98\n",
      "                                    Bihar  138265     709  138265      709          0           0           0.51\n",
      "                                Telangana  130589     846  127697      836       2892          10           0.65\n",
      "                                    Assam  111725     315  111725      315          0           0           0.28\n",
      "                                   Odisha  109780     567  106561      556       3219          11           0.52\n",
      "                                  Gujarat   97745    3034   97745     3034          0           0           3.10\n",
      "                                Rajasthan   83853    1074   83163     1069        690           5           1.28\n",
      "                                   Kerala   76526     299   76526      299          0           0           0.39\n",
      "                                  Haryana   66426     706   66426      706          0           0           1.06\n",
      "                           Madhya Pradesh   65490    1426   65490     1426          0           0           2.18\n",
      "                                   Punjab   55508    1512   55508     1512          0           0           2.72\n",
      "                                Jharkhand   43835     428   43833      428          2           0           0.98\n",
      "                        Jammu and Kashmir   38223     717   38223      717          0           0           1.88\n",
      "                             Chhattisgarh   33387     287   33387      287          0           0           0.86\n",
      "                              Uttarakhand   20398     280   20398      280          0           0           1.37\n",
      "                                      Goa   18006     194   18006      194          0           0           1.08\n",
      "                               Puducherry   14766     240   14766      240          0           0           1.63\n",
      "                                  Tripura   12719     118   12153      113        566           5           0.93\n",
      "                                  Manipur    6382      29    6382       29          0           0           0.45\n",
      "                         Himachal Pradesh    6255      41    6255       41          0           0           0.66\n",
      "                               Chandigarh    4550      57    4550       57          0           0           1.25\n",
      "                        Arunachal Pradesh    4212       7    4212        7          0           0           0.17\n",
      "                                 Nagaland    4017       8    4003        8         14           0           0.20\n",
      "              Andaman and Nicobar Islands    3160      46    3160       46          0           0           1.46\n",
      "                                   Ladakh    2733      35    2733       35          0           0           1.28\n",
      "                                Meghalaya    2440      12    2440       12          0           0           0.49\n",
      " Dadra and Nagar Haveli and Daman and Diu    2409       2    2386        2         23           0           0.08\n",
      "                                   Sikkim    1670       4    1670        4          0           0           0.24\n",
      "                                  Mizoram    1020       0    1012        0          8           0           0.00\n",
      "                              Lakshadweep       0       0       0        0          0           0            NaN\n"
     ]
    }
   ],
   "source": [
    "#hide_input\n",
    "print(df_table.to_string(index=False))"
   ]
  },
  {
   "cell_type": "code",
   "execution_count": null,
   "metadata": {
    "papermill": {
     "duration": 0.045993,
     "end_time": "2020-09-02T12:38:34.993249",
     "exception": false,
     "start_time": "2020-09-02T12:38:34.947256",
     "status": "completed"
    },
    "tags": []
   },
   "outputs": [],
   "source": []
  },
  {
   "cell_type": "code",
   "execution_count": null,
   "metadata": {
    "papermill": {
     "duration": 0.068298,
     "end_time": "2020-09-02T12:38:35.103139",
     "exception": false,
     "start_time": "2020-09-02T12:38:35.034841",
     "status": "completed"
    },
    "tags": []
   },
   "outputs": [],
   "source": []
  }
 ],
 "metadata": {
  "kernelspec": {
   "display_name": "Python 3",
   "language": "python",
   "name": "python3"
  },
  "language_info": {
   "codemirror_mode": {
    "name": "ipython",
    "version": 3
   },
   "file_extension": ".py",
   "mimetype": "text/x-python",
   "name": "python",
   "nbconvert_exporter": "python",
   "pygments_lexer": "ipython3",
   "version": "3.6.12"
  },
  "papermill": {
   "duration": 8.26674,
   "end_time": "2020-09-02T12:38:36.363939",
   "environment_variables": {},
   "exception": null,
   "input_path": "latest.ipynb",
   "output_path": "latest.ipynb",
   "parameters": {},
   "start_time": "2020-09-02T12:38:28.097199",
   "version": "2.1.2"
  }
 },
 "nbformat": 4,
 "nbformat_minor": 4
}