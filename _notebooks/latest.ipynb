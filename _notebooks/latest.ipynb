{
 "cells": [
  {
   "cell_type": "markdown",
   "metadata": {
    "papermill": {
     "duration": 0.026212,
     "end_time": "2020-08-30T04:52:06.526160",
     "exception": false,
     "start_time": "2020-08-30T04:52:06.499948",
     "status": "completed"
    },
    "tags": []
   },
   "source": [
    "# Latest COVID-19 India Matplotlib Overview"
   ]
  },
  {
   "cell_type": "code",
   "execution_count": 1,
   "metadata": {
    "execution": {
     "iopub.execute_input": "2020-08-30T04:52:07.444369Z",
     "iopub.status.busy": "2020-08-30T04:52:07.443623Z",
     "iopub.status.idle": "2020-08-30T04:52:08.045226Z",
     "shell.execute_reply": "2020-08-30T04:52:08.045707Z"
    },
    "papermill": {
     "duration": 1.064196,
     "end_time": "2020-08-30T04:52:08.045897",
     "exception": false,
     "start_time": "2020-08-30T04:52:06.981701",
     "status": "completed"
    },
    "tags": []
   },
   "outputs": [],
   "source": [
    "#hide\n",
    "import pandas as pd\n",
    "import numpy as np\n",
    "import requests\n",
    "import json\n",
    "import matplotlib.pyplot as plt\n",
    "import matplotlib.dates as mdates\n",
    "import matplotlib as mpl\n",
    "from IPython.core.display import display,HTML\n",
    "%matplotlib inline\n",
    "from datetime import date"
   ]
  },
  {
   "cell_type": "code",
   "execution_count": 2,
   "metadata": {
    "execution": {
     "iopub.execute_input": "2020-08-30T04:52:08.691132Z",
     "iopub.status.busy": "2020-08-30T04:52:08.690278Z",
     "iopub.status.idle": "2020-08-30T04:52:08.973273Z",
     "shell.execute_reply": "2020-08-30T04:52:08.972362Z"
    },
    "papermill": {
     "duration": 0.782434,
     "end_time": "2020-08-30T04:52:08.973492",
     "exception": false,
     "start_time": "2020-08-30T04:52:08.191058",
     "status": "completed"
    },
    "tags": []
   },
   "outputs": [],
   "source": [
    "#hide\n",
    "df  = pd.read_csv('https://api.covid19india.org/csv/latest/states.csv')\n",
    "df = df[['Date','State','Confirmed','Deceased']]\n",
    "df = df.rename(columns={'Confirmed':'Cases', \"Deceased\":'Deaths'})\n",
    "df_cases = df[[\"Date\",'State','Cases']]\n",
    "df_deaths = df[['Date','State','Deaths']]\n",
    "df_cases1 = df_cases.groupby('Date')\n",
    "df_deaths1= df_deaths.groupby('Date')"
   ]
  },
  {
   "cell_type": "code",
   "execution_count": 3,
   "metadata": {
    "execution": {
     "iopub.execute_input": "2020-08-30T04:52:09.008847Z",
     "iopub.status.busy": "2020-08-30T04:52:09.008251Z",
     "iopub.status.idle": "2020-08-30T04:52:09.025906Z",
     "shell.execute_reply": "2020-08-30T04:52:09.025415Z"
    },
    "papermill": {
     "duration": 0.037284,
     "end_time": "2020-08-30T04:52:09.026041",
     "exception": false,
     "start_time": "2020-08-30T04:52:08.988757",
     "status": "completed"
    },
    "tags": []
   },
   "outputs": [],
   "source": [
    "#hide\n",
    "df_snap = pd.read_csv('data/SnapshotCases-28-July.csv')\n",
    "arr_states = df_snap['states'].unique()\n",
    "arr_dates = df['Date'].unique()\n",
    "df_snap = df_snap.set_index('states')"
   ]
  },
  {
   "cell_type": "code",
   "execution_count": 4,
   "metadata": {
    "execution": {
     "iopub.execute_input": "2020-08-30T04:52:09.061807Z",
     "iopub.status.busy": "2020-08-30T04:52:09.061211Z",
     "iopub.status.idle": "2020-08-30T04:52:09.063867Z",
     "shell.execute_reply": "2020-08-30T04:52:09.064346Z"
    },
    "papermill": {
     "duration": 0.023461,
     "end_time": "2020-08-30T04:52:09.064465",
     "exception": false,
     "start_time": "2020-08-30T04:52:09.041004",
     "status": "completed"
    },
    "tags": []
   },
   "outputs": [
    {
     "data": {
      "text/plain": [
       "array(['Andaman and Nicobar Islands', 'Andhra Pradesh',\n",
       "       'Arunachal Pradesh', 'Assam', 'Bihar', 'Chandigarh',\n",
       "       'Dadra and Nagar Haveli and Daman and Diu', 'Delhi', 'Goa',\n",
       "       'Gujarat', 'Haryana', 'Himachal Pradesh', 'Jammu and Kashmir',\n",
       "       'Jharkhand', 'Karnataka', 'Kerala', 'Lakshadweep',\n",
       "       'Madhya Pradesh', 'Maharashtra', 'Manipur', 'Meghalaya', 'Mizoram',\n",
       "       'Nagaland', 'Odisha', 'Puducherry', 'Punjab', 'Rajasthan',\n",
       "       'Sikkim', 'Tamil Nadu', 'Telangana', 'Tripura', 'Uttar Pradesh',\n",
       "       'West Bengal', 'Chhattisgarh', 'Ladakh', 'Uttarakhand'],\n",
       "      dtype=object)"
      ]
     },
     "execution_count": 4,
     "metadata": {},
     "output_type": "execute_result"
    }
   ],
   "source": [
    "#hide\n",
    "arr_states[-9] = 'Puducherry'\n",
    "arr_states[-10] = 'Odisha'\n",
    "arr_states[6] = 'Dadra and Nagar Haveli and Daman and Diu'\n",
    "arr_states = np.append(arr_states,np.array(['Chhattisgarh','Ladakh','Uttarakhand']))\n",
    "arr_states"
   ]
  },
  {
   "cell_type": "code",
   "execution_count": 5,
   "metadata": {
    "execution": {
     "iopub.execute_input": "2020-08-30T04:52:09.103975Z",
     "iopub.status.busy": "2020-08-30T04:52:09.103378Z",
     "iopub.status.idle": "2020-08-30T04:52:09.111067Z",
     "shell.execute_reply": "2020-08-30T04:52:09.110605Z"
    },
    "papermill": {
     "duration": 0.031903,
     "end_time": "2020-08-30T04:52:09.111161",
     "exception": false,
     "start_time": "2020-08-30T04:52:09.079258",
     "status": "completed"
    },
    "tags": []
   },
   "outputs": [],
   "source": [
    "#hide\n",
    "dates = []\n",
    "for i in arr_dates:\n",
    "    if i>='2020-07-01':\n",
    "        dates.append(i)\n",
    "dict = {'states':dates}\n",
    "for i in arr_states:\n",
    "    dict[i] = [0]*len(dates)\n",
    "dft_cases = pd.DataFrame(dict)\n",
    "dft_deaths = pd.DataFrame(dict)\n"
   ]
  },
  {
   "cell_type": "code",
   "execution_count": 6,
   "metadata": {
    "execution": {
     "iopub.execute_input": "2020-08-30T04:52:09.147490Z",
     "iopub.status.busy": "2020-08-30T04:52:09.146892Z",
     "iopub.status.idle": "2020-08-30T04:52:09.946946Z",
     "shell.execute_reply": "2020-08-30T04:52:09.947571Z"
    },
    "papermill": {
     "duration": 0.821477,
     "end_time": "2020-08-30T04:52:09.947758",
     "exception": false,
     "start_time": "2020-08-30T04:52:09.126281",
     "status": "completed"
    },
    "tags": []
   },
   "outputs": [],
   "source": [
    "#hide\n",
    "for i in range(len(dates)):\n",
    "    df1_deaths = df_deaths1.get_group(dates[i])\n",
    "    for j in range(len(df1_deaths.index)):\n",
    "        if df1_deaths.iloc[j,1] in arr_states:\n",
    "            dft_deaths.loc[i,df1_deaths.iloc[j,1]] = df1_deaths.iloc[j,2]\n",
    "dft_deaths = dft_deaths.set_index('states')"
   ]
  },
  {
   "cell_type": "code",
   "execution_count": 7,
   "metadata": {
    "execution": {
     "iopub.execute_input": "2020-08-30T04:52:09.984237Z",
     "iopub.status.busy": "2020-08-30T04:52:09.983629Z",
     "iopub.status.idle": "2020-08-30T04:52:10.808771Z",
     "shell.execute_reply": "2020-08-30T04:52:10.808196Z"
    },
    "papermill": {
     "duration": 0.846144,
     "end_time": "2020-08-30T04:52:10.808910",
     "exception": false,
     "start_time": "2020-08-30T04:52:09.962766",
     "status": "completed"
    },
    "tags": []
   },
   "outputs": [],
   "source": [
    "#hide\n",
    "for i in range(len(dates)):\n",
    "    df1_cases = df_cases1.get_group(dates[i])\n",
    "    for j in range(len(df1_cases.index)):\n",
    "        if df1_cases.iloc[j,1] in arr_states:\n",
    "            dft_cases.loc[i,df1_cases.iloc[j,1]] = df1_cases.iloc[j,2]\n",
    "dft_cases = dft_cases.set_index('states')"
   ]
  },
  {
   "cell_type": "code",
   "execution_count": 8,
   "metadata": {
    "execution": {
     "iopub.execute_input": "2020-08-30T04:52:10.851021Z",
     "iopub.status.busy": "2020-08-30T04:52:10.850262Z",
     "iopub.status.idle": "2020-08-30T04:52:10.851848Z",
     "shell.execute_reply": "2020-08-30T04:52:10.852508Z"
    },
    "papermill": {
     "duration": 0.024314,
     "end_time": "2020-08-30T04:52:10.852677",
     "exception": false,
     "start_time": "2020-08-30T04:52:10.828363",
     "status": "completed"
    },
    "tags": []
   },
   "outputs": [],
   "source": [
    "#hide\n",
    "dft_cases = dft_cases.T\n",
    "dft_deaths = dft_deaths.T\n",
    "dt_today = dates[-1]\n",
    "dt_yday = dates[-2]"
   ]
  },
  {
   "cell_type": "code",
   "execution_count": 9,
   "metadata": {
    "execution": {
     "iopub.execute_input": "2020-08-30T04:52:10.890270Z",
     "iopub.status.busy": "2020-08-30T04:52:10.889729Z",
     "iopub.status.idle": "2020-08-30T04:52:10.892163Z",
     "shell.execute_reply": "2020-08-30T04:52:10.891616Z"
    },
    "papermill": {
     "duration": 0.025052,
     "end_time": "2020-08-30T04:52:10.892282",
     "exception": false,
     "start_time": "2020-08-30T04:52:10.867230",
     "status": "completed"
    },
    "tags": []
   },
   "outputs": [],
   "source": [
    "#hide\n",
    "dft_cases = dft_cases.reset_index()\n",
    "dft_deaths = dft_deaths.reset_index()\n",
    "dft_cases = dft_cases.rename(columns = {'index':'state'})\n",
    "dft_deaths = dft_deaths.rename(columns = {'index':'state'})"
   ]
  },
  {
   "cell_type": "code",
   "execution_count": 10,
   "metadata": {
    "execution": {
     "iopub.execute_input": "2020-08-30T04:52:10.932371Z",
     "iopub.status.busy": "2020-08-30T04:52:10.931824Z",
     "iopub.status.idle": "2020-08-30T04:52:10.934177Z",
     "shell.execute_reply": "2020-08-30T04:52:10.933714Z"
    },
    "papermill": {
     "duration": 0.027675,
     "end_time": "2020-08-30T04:52:10.934289",
     "exception": false,
     "start_time": "2020-08-30T04:52:10.906614",
     "status": "completed"
    },
    "tags": []
   },
   "outputs": [],
   "source": [
    "#hide\n",
    "dfc_cases = dft_cases.groupby('state')[dt_today].sum()\n",
    "dfc_deaths = dft_deaths.groupby('state')[dt_today].sum()\n",
    "dfp_cases = dft_cases.groupby('state')[dt_yday].sum()\n",
    "dfp_deaths = dft_deaths.groupby('state')[dt_yday].sum()"
   ]
  },
  {
   "cell_type": "code",
   "execution_count": 11,
   "metadata": {
    "execution": {
     "iopub.execute_input": "2020-08-30T04:52:10.970992Z",
     "iopub.status.busy": "2020-08-30T04:52:10.970434Z",
     "iopub.status.idle": "2020-08-30T04:52:10.983320Z",
     "shell.execute_reply": "2020-08-30T04:52:10.982807Z"
    },
    "papermill": {
     "duration": 0.034218,
     "end_time": "2020-08-30T04:52:10.983440",
     "exception": false,
     "start_time": "2020-08-30T04:52:10.949222",
     "status": "completed"
    },
    "tags": []
   },
   "outputs": [
    {
     "data": {
      "text/html": [
       "<div>\n",
       "<style scoped>\n",
       "    .dataframe tbody tr th:only-of-type {\n",
       "        vertical-align: middle;\n",
       "    }\n",
       "\n",
       "    .dataframe tbody tr th {\n",
       "        vertical-align: top;\n",
       "    }\n",
       "\n",
       "    .dataframe thead th {\n",
       "        text-align: right;\n",
       "    }\n",
       "</style>\n",
       "<table border=\"1\" class=\"dataframe\">\n",
       "  <thead>\n",
       "    <tr style=\"text-align: right;\">\n",
       "      <th></th>\n",
       "      <th>states</th>\n",
       "      <th>Cases</th>\n",
       "      <th>Deaths</th>\n",
       "      <th>PCases</th>\n",
       "      <th>PDeaths</th>\n",
       "    </tr>\n",
       "  </thead>\n",
       "  <tbody>\n",
       "    <tr>\n",
       "      <th>0</th>\n",
       "      <td>Maharashtra</td>\n",
       "      <td>764281</td>\n",
       "      <td>24103</td>\n",
       "      <td>764281</td>\n",
       "      <td>24103</td>\n",
       "    </tr>\n",
       "    <tr>\n",
       "      <th>1</th>\n",
       "      <td>Tamil Nadu</td>\n",
       "      <td>415590</td>\n",
       "      <td>7137</td>\n",
       "      <td>415590</td>\n",
       "      <td>7137</td>\n",
       "    </tr>\n",
       "    <tr>\n",
       "      <th>2</th>\n",
       "      <td>Andhra Pradesh</td>\n",
       "      <td>414164</td>\n",
       "      <td>3796</td>\n",
       "      <td>414164</td>\n",
       "      <td>3796</td>\n",
       "    </tr>\n",
       "    <tr>\n",
       "      <th>3</th>\n",
       "      <td>Karnataka</td>\n",
       "      <td>327076</td>\n",
       "      <td>5483</td>\n",
       "      <td>327076</td>\n",
       "      <td>5483</td>\n",
       "    </tr>\n",
       "    <tr>\n",
       "      <th>4</th>\n",
       "      <td>Uttar Pradesh</td>\n",
       "      <td>219457</td>\n",
       "      <td>3356</td>\n",
       "      <td>219457</td>\n",
       "      <td>3356</td>\n",
       "    </tr>\n",
       "  </tbody>\n",
       "</table>\n",
       "</div>"
      ],
      "text/plain": [
       "           states   Cases  Deaths  PCases  PDeaths\n",
       "0     Maharashtra  764281   24103  764281    24103\n",
       "1      Tamil Nadu  415590    7137  415590     7137\n",
       "2  Andhra Pradesh  414164    3796  414164     3796\n",
       "3       Karnataka  327076    5483  327076     5483\n",
       "4   Uttar Pradesh  219457    3356  219457     3356"
      ]
     },
     "execution_count": 11,
     "metadata": {},
     "output_type": "execute_result"
    }
   ],
   "source": [
    "#hide\n",
    "df_table = pd.DataFrame({'states': dfc_cases.index, 'Cases': dfc_cases.values, 'Deaths': dfc_deaths.values, 'PCases': dfp_cases.values, 'PDeaths': dfp_deaths.values}).set_index('states')\n",
    "df_table = df_table.sort_values(by = ['Cases','Deaths'], ascending = [False, False])\n",
    "df_table = df_table.reset_index()\n",
    "df_table.head()"
   ]
  },
  {
   "cell_type": "code",
   "execution_count": 12,
   "metadata": {
    "execution": {
     "iopub.execute_input": "2020-08-30T04:52:11.021101Z",
     "iopub.status.busy": "2020-08-30T04:52:11.020352Z",
     "iopub.status.idle": "2020-08-30T04:52:11.029211Z",
     "shell.execute_reply": "2020-08-30T04:52:11.028703Z"
    },
    "papermill": {
     "duration": 0.030402,
     "end_time": "2020-08-30T04:52:11.029339",
     "exception": false,
     "start_time": "2020-08-30T04:52:10.998937",
     "status": "completed"
    },
    "tags": []
   },
   "outputs": [],
   "source": [
    "#hide\n",
    "for c in 'Cases, Deaths'.split(', '):\n",
    "    df_table[f'{c} (+)'] = (df_table[c] - df_table[f'P{c}']).clip(0)\n",
    "df_table['Fatality Rate'] = (100* df_table['Deaths']/ df_table['Cases']).round(2)"
   ]
  },
  {
   "cell_type": "code",
   "execution_count": 13,
   "metadata": {
    "execution": {
     "iopub.execute_input": "2020-08-30T04:52:11.074793Z",
     "iopub.status.busy": "2020-08-30T04:52:11.074157Z",
     "iopub.status.idle": "2020-08-30T04:52:11.076546Z",
     "shell.execute_reply": "2020-08-30T04:52:11.077019Z"
    },
    "papermill": {
     "duration": 0.031181,
     "end_time": "2020-08-30T04:52:11.077167",
     "exception": false,
     "start_time": "2020-08-30T04:52:11.045986",
     "status": "completed"
    },
    "tags": []
   },
   "outputs": [
    {
     "data": {
      "text/html": [
       "<div>\n",
       "<style scoped>\n",
       "    .dataframe tbody tr th:only-of-type {\n",
       "        vertical-align: middle;\n",
       "    }\n",
       "\n",
       "    .dataframe tbody tr th {\n",
       "        vertical-align: top;\n",
       "    }\n",
       "\n",
       "    .dataframe thead th {\n",
       "        text-align: right;\n",
       "    }\n",
       "</style>\n",
       "<table border=\"1\" class=\"dataframe\">\n",
       "  <thead>\n",
       "    <tr style=\"text-align: right;\">\n",
       "      <th></th>\n",
       "      <th>states</th>\n",
       "      <th>Cases</th>\n",
       "      <th>Deaths</th>\n",
       "      <th>PCases</th>\n",
       "      <th>PDeaths</th>\n",
       "      <th>Cases (+)</th>\n",
       "      <th>Deaths (+)</th>\n",
       "      <th>Fatality Rate</th>\n",
       "    </tr>\n",
       "  </thead>\n",
       "  <tbody>\n",
       "    <tr>\n",
       "      <th>0</th>\n",
       "      <td>Maharashtra</td>\n",
       "      <td>764281</td>\n",
       "      <td>24103</td>\n",
       "      <td>764281</td>\n",
       "      <td>24103</td>\n",
       "      <td>0</td>\n",
       "      <td>0</td>\n",
       "      <td>3.15</td>\n",
       "    </tr>\n",
       "    <tr>\n",
       "      <th>1</th>\n",
       "      <td>Tamil Nadu</td>\n",
       "      <td>415590</td>\n",
       "      <td>7137</td>\n",
       "      <td>415590</td>\n",
       "      <td>7137</td>\n",
       "      <td>0</td>\n",
       "      <td>0</td>\n",
       "      <td>1.72</td>\n",
       "    </tr>\n",
       "    <tr>\n",
       "      <th>2</th>\n",
       "      <td>Andhra Pradesh</td>\n",
       "      <td>414164</td>\n",
       "      <td>3796</td>\n",
       "      <td>414164</td>\n",
       "      <td>3796</td>\n",
       "      <td>0</td>\n",
       "      <td>0</td>\n",
       "      <td>0.92</td>\n",
       "    </tr>\n",
       "    <tr>\n",
       "      <th>3</th>\n",
       "      <td>Karnataka</td>\n",
       "      <td>327076</td>\n",
       "      <td>5483</td>\n",
       "      <td>327076</td>\n",
       "      <td>5483</td>\n",
       "      <td>0</td>\n",
       "      <td>0</td>\n",
       "      <td>1.68</td>\n",
       "    </tr>\n",
       "    <tr>\n",
       "      <th>4</th>\n",
       "      <td>Uttar Pradesh</td>\n",
       "      <td>219457</td>\n",
       "      <td>3356</td>\n",
       "      <td>219457</td>\n",
       "      <td>3356</td>\n",
       "      <td>0</td>\n",
       "      <td>0</td>\n",
       "      <td>1.53</td>\n",
       "    </tr>\n",
       "  </tbody>\n",
       "</table>\n",
       "</div>"
      ],
      "text/plain": [
       "           states   Cases  Deaths  PCases  PDeaths  Cases (+)  Deaths (+)  \\\n",
       "0     Maharashtra  764281   24103  764281    24103          0           0   \n",
       "1      Tamil Nadu  415590    7137  415590     7137          0           0   \n",
       "2  Andhra Pradesh  414164    3796  414164     3796          0           0   \n",
       "3       Karnataka  327076    5483  327076     5483          0           0   \n",
       "4   Uttar Pradesh  219457    3356  219457     3356          0           0   \n",
       "\n",
       "   Fatality Rate  \n",
       "0           3.15  \n",
       "1           1.72  \n",
       "2           0.92  \n",
       "3           1.68  \n",
       "4           1.53  "
      ]
     },
     "execution_count": 13,
     "metadata": {},
     "output_type": "execute_result"
    }
   ],
   "source": [
    "#hide\n",
    "df_table.head()"
   ]
  },
  {
   "cell_type": "code",
   "execution_count": 14,
   "metadata": {
    "execution": {
     "iopub.execute_input": "2020-08-30T04:52:11.115499Z",
     "iopub.status.busy": "2020-08-30T04:52:11.114956Z",
     "iopub.status.idle": "2020-08-30T04:52:11.130978Z",
     "shell.execute_reply": "2020-08-30T04:52:11.130512Z"
    },
    "papermill": {
     "duration": 0.037771,
     "end_time": "2020-08-30T04:52:11.131094",
     "exception": false,
     "start_time": "2020-08-30T04:52:11.093323",
     "status": "completed"
    },
    "tags": []
   },
   "outputs": [
    {
     "data": {
      "text/plain": [
       "{'updated': '2020-08-30',\n",
       " 'since': '2020-08-29',\n",
       " 'Cases': 3543088,\n",
       " 'PCases': 3539712,\n",
       " 'Deaths': 63671,\n",
       " 'PDeaths': 63657,\n",
       " 'Cases (+)': 3376,\n",
       " 'Deaths (+)': 14}"
      ]
     },
     "execution_count": 14,
     "metadata": {},
     "output_type": "execute_result"
    }
   ],
   "source": [
    "#hide\n",
    "summary = {'updated':dates[-1], 'since':dates[-2]}\n",
    "list_names = ['Cases', 'PCases', 'Deaths', 'PDeaths', 'Cases (+)', 'Deaths (+)']\n",
    "for name in list_names:\n",
    "    summary[name] = df_table.sum()[name]\n",
    "summary"
   ]
  },
  {
   "cell_type": "code",
   "execution_count": 15,
   "metadata": {
    "execution": {
     "iopub.execute_input": "2020-08-30T04:52:11.169300Z",
     "iopub.status.busy": "2020-08-30T04:52:11.168371Z",
     "iopub.status.idle": "2020-08-30T04:52:11.169931Z",
     "shell.execute_reply": "2020-08-30T04:52:11.170412Z"
    },
    "papermill": {
     "duration": 0.024123,
     "end_time": "2020-08-30T04:52:11.170550",
     "exception": false,
     "start_time": "2020-08-30T04:52:11.146427",
     "status": "completed"
    },
    "tags": []
   },
   "outputs": [],
   "source": [
    "#hide\n",
    "overview = '''\n",
    "<!-- #######  HTML!! #########-->\n",
    "<h1 style=\"color: #5e9ca0; text-align: center;\">India</h1>\n",
    "<p style=\"text-align: center;\">Last update: <strong>{update}</strong></p>\n",
    "<p style=\"text-align: center;\">Confirmed cases:</p>\n",
    "<p style=\"text-align: center;font-size:24px;\">{cases} (<span style=\"color: #ff0000;\">+{new}</span>)</p>\n",
    "<p style=\"text-align: center;\">Confirmed deaths:</p>\n",
    "<p style=\"text-align: center;font-size:24px;\">{deaths} (<span style=\"color: #ff0000;\">+{dnew}</span>)</p>\n",
    "'''"
   ]
  },
  {
   "cell_type": "code",
   "execution_count": 16,
   "metadata": {
    "execution": {
     "iopub.execute_input": "2020-08-30T04:52:11.211050Z",
     "iopub.status.busy": "2020-08-30T04:52:11.210342Z",
     "iopub.status.idle": "2020-08-30T04:52:11.213461Z",
     "shell.execute_reply": "2020-08-30T04:52:11.212843Z"
    },
    "papermill": {
     "duration": 0.026833,
     "end_time": "2020-08-30T04:52:11.213587",
     "exception": false,
     "start_time": "2020-08-30T04:52:11.186754",
     "status": "completed"
    },
    "tags": []
   },
   "outputs": [
    {
     "data": {
      "text/html": [
       "\n",
       "<!-- #######  HTML!! #########-->\n",
       "<h1 style=\"color: #5e9ca0; text-align: center;\">India</h1>\n",
       "<p style=\"text-align: center;\">Last update: <strong>2020-08-30</strong></p>\n",
       "<p style=\"text-align: center;\">Confirmed cases:</p>\n",
       "<p style=\"text-align: center;font-size:24px;\">3543088 (<span style=\"color: #ff0000;\">+3376</span>)</p>\n",
       "<p style=\"text-align: center;\">Confirmed deaths:</p>\n",
       "<p style=\"text-align: center;font-size:24px;\">63671 (<span style=\"color: #ff0000;\">+14</span>)</p>\n"
      ],
      "text/plain": [
       "<IPython.core.display.HTML object>"
      ]
     },
     "metadata": {},
     "output_type": "display_data"
    }
   ],
   "source": [
    "#hide_input\n",
    "update = summary['updated']\n",
    "cases = summary['Cases']\n",
    "new = summary['Cases (+)']\n",
    "deaths = summary['Deaths']\n",
    "dnew = summary['Deaths (+)']\n",
    "\n",
    "html = HTML(overview.format(update=update, cases=cases,new=new,deaths=deaths,dnew=dnew))\n",
    "\n",
    "display(html)"
   ]
  },
  {
   "cell_type": "code",
   "execution_count": 17,
   "metadata": {
    "execution": {
     "iopub.execute_input": "2020-08-30T04:52:11.255549Z",
     "iopub.status.busy": "2020-08-30T04:52:11.254951Z",
     "iopub.status.idle": "2020-08-30T04:52:11.261074Z",
     "shell.execute_reply": "2020-08-30T04:52:11.260553Z"
    },
    "papermill": {
     "duration": 0.030001,
     "end_time": "2020-08-30T04:52:11.261252",
     "exception": false,
     "start_time": "2020-08-30T04:52:11.231251",
     "status": "completed"
    },
    "tags": []
   },
   "outputs": [],
   "source": [
    "#hide\n",
    "dt_cols = list(dft_cases.columns[1:])\n",
    "dft_ct_new_cases = dft_cases.groupby('state')[dt_cols].sum().diff(axis=1).fillna(0).astype(int)\n",
    "dft_ct_new_cases.sort_values(by = dates[-1], ascending = False,inplace = True)"
   ]
  },
  {
   "cell_type": "code",
   "execution_count": 18,
   "metadata": {
    "execution": {
     "iopub.execute_input": "2020-08-30T04:52:11.304945Z",
     "iopub.status.busy": "2020-08-30T04:52:11.304209Z",
     "iopub.status.idle": "2020-08-30T04:52:11.315019Z",
     "shell.execute_reply": "2020-08-30T04:52:11.314511Z"
    },
    "papermill": {
     "duration": 0.037068,
     "end_time": "2020-08-30T04:52:11.315146",
     "exception": false,
     "start_time": "2020-08-30T04:52:11.278078",
     "status": "completed"
    },
    "tags": []
   },
   "outputs": [
    {
     "data": {
      "text/html": [
       "<div>\n",
       "<style scoped>\n",
       "    .dataframe tbody tr th:only-of-type {\n",
       "        vertical-align: middle;\n",
       "    }\n",
       "\n",
       "    .dataframe tbody tr th {\n",
       "        vertical-align: top;\n",
       "    }\n",
       "\n",
       "    .dataframe thead th {\n",
       "        text-align: right;\n",
       "    }\n",
       "</style>\n",
       "<table border=\"1\" class=\"dataframe\">\n",
       "  <thead>\n",
       "    <tr style=\"text-align: right;\">\n",
       "      <th>states</th>\n",
       "      <th>2020-07-01</th>\n",
       "      <th>2020-07-02</th>\n",
       "      <th>2020-07-03</th>\n",
       "      <th>2020-07-04</th>\n",
       "      <th>2020-07-05</th>\n",
       "      <th>2020-07-06</th>\n",
       "      <th>2020-07-07</th>\n",
       "      <th>2020-07-08</th>\n",
       "      <th>2020-07-09</th>\n",
       "      <th>2020-07-10</th>\n",
       "      <th>...</th>\n",
       "      <th>2020-08-21</th>\n",
       "      <th>2020-08-22</th>\n",
       "      <th>2020-08-23</th>\n",
       "      <th>2020-08-24</th>\n",
       "      <th>2020-08-25</th>\n",
       "      <th>2020-08-26</th>\n",
       "      <th>2020-08-27</th>\n",
       "      <th>2020-08-28</th>\n",
       "      <th>2020-08-29</th>\n",
       "      <th>2020-08-30</th>\n",
       "    </tr>\n",
       "    <tr>\n",
       "      <th>state</th>\n",
       "      <th></th>\n",
       "      <th></th>\n",
       "      <th></th>\n",
       "      <th></th>\n",
       "      <th></th>\n",
       "      <th></th>\n",
       "      <th></th>\n",
       "      <th></th>\n",
       "      <th></th>\n",
       "      <th></th>\n",
       "      <th></th>\n",
       "      <th></th>\n",
       "      <th></th>\n",
       "      <th></th>\n",
       "      <th></th>\n",
       "      <th></th>\n",
       "      <th></th>\n",
       "      <th></th>\n",
       "      <th></th>\n",
       "      <th></th>\n",
       "      <th></th>\n",
       "    </tr>\n",
       "  </thead>\n",
       "  <tbody>\n",
       "    <tr>\n",
       "      <th>Telangana</th>\n",
       "      <td>0</td>\n",
       "      <td>1213</td>\n",
       "      <td>1892</td>\n",
       "      <td>1850</td>\n",
       "      <td>1590</td>\n",
       "      <td>1831</td>\n",
       "      <td>1879</td>\n",
       "      <td>1924</td>\n",
       "      <td>1410</td>\n",
       "      <td>1278</td>\n",
       "      <td>...</td>\n",
       "      <td>1967</td>\n",
       "      <td>2474</td>\n",
       "      <td>2384</td>\n",
       "      <td>1842</td>\n",
       "      <td>2579</td>\n",
       "      <td>3018</td>\n",
       "      <td>2795</td>\n",
       "      <td>2932</td>\n",
       "      <td>2751</td>\n",
       "      <td>2924</td>\n",
       "    </tr>\n",
       "    <tr>\n",
       "      <th>Tripura</th>\n",
       "      <td>0</td>\n",
       "      <td>39</td>\n",
       "      <td>93</td>\n",
       "      <td>25</td>\n",
       "      <td>23</td>\n",
       "      <td>111</td>\n",
       "      <td>24</td>\n",
       "      <td>57</td>\n",
       "      <td>16</td>\n",
       "      <td>142</td>\n",
       "      <td>...</td>\n",
       "      <td>256</td>\n",
       "      <td>280</td>\n",
       "      <td>331</td>\n",
       "      <td>200</td>\n",
       "      <td>293</td>\n",
       "      <td>329</td>\n",
       "      <td>385</td>\n",
       "      <td>509</td>\n",
       "      <td>443</td>\n",
       "      <td>447</td>\n",
       "    </tr>\n",
       "    <tr>\n",
       "      <th>Mizoram</th>\n",
       "      <td>0</td>\n",
       "      <td>2</td>\n",
       "      <td>0</td>\n",
       "      <td>2</td>\n",
       "      <td>22</td>\n",
       "      <td>11</td>\n",
       "      <td>1</td>\n",
       "      <td>5</td>\n",
       "      <td>0</td>\n",
       "      <td>23</td>\n",
       "      <td>...</td>\n",
       "      <td>21</td>\n",
       "      <td>8</td>\n",
       "      <td>15</td>\n",
       "      <td>0</td>\n",
       "      <td>35</td>\n",
       "      <td>14</td>\n",
       "      <td>7</td>\n",
       "      <td>29</td>\n",
       "      <td>0</td>\n",
       "      <td>5</td>\n",
       "    </tr>\n",
       "    <tr>\n",
       "      <th>Andaman and Nicobar Islands</th>\n",
       "      <td>0</td>\n",
       "      <td>9</td>\n",
       "      <td>7</td>\n",
       "      <td>3</td>\n",
       "      <td>6</td>\n",
       "      <td>16</td>\n",
       "      <td>6</td>\n",
       "      <td>2</td>\n",
       "      <td>7</td>\n",
       "      <td>0</td>\n",
       "      <td>...</td>\n",
       "      <td>67</td>\n",
       "      <td>61</td>\n",
       "      <td>52</td>\n",
       "      <td>44</td>\n",
       "      <td>41</td>\n",
       "      <td>40</td>\n",
       "      <td>33</td>\n",
       "      <td>32</td>\n",
       "      <td>31</td>\n",
       "      <td>0</td>\n",
       "    </tr>\n",
       "    <tr>\n",
       "      <th>Puducherry</th>\n",
       "      <td>0</td>\n",
       "      <td>63</td>\n",
       "      <td>22</td>\n",
       "      <td>80</td>\n",
       "      <td>42</td>\n",
       "      <td>65</td>\n",
       "      <td>30</td>\n",
       "      <td>110</td>\n",
       "      <td>49</td>\n",
       "      <td>72</td>\n",
       "      <td>...</td>\n",
       "      <td>302</td>\n",
       "      <td>518</td>\n",
       "      <td>410</td>\n",
       "      <td>337</td>\n",
       "      <td>567</td>\n",
       "      <td>504</td>\n",
       "      <td>504</td>\n",
       "      <td>590</td>\n",
       "      <td>532</td>\n",
       "      <td>0</td>\n",
       "    </tr>\n",
       "  </tbody>\n",
       "</table>\n",
       "<p>5 rows × 61 columns</p>\n",
       "</div>"
      ],
      "text/plain": [
       "states                       2020-07-01  2020-07-02  2020-07-03  2020-07-04  \\\n",
       "state                                                                         \n",
       "Telangana                             0        1213        1892        1850   \n",
       "Tripura                               0          39          93          25   \n",
       "Mizoram                               0           2           0           2   \n",
       "Andaman and Nicobar Islands           0           9           7           3   \n",
       "Puducherry                            0          63          22          80   \n",
       "\n",
       "states                       2020-07-05  2020-07-06  2020-07-07  2020-07-08  \\\n",
       "state                                                                         \n",
       "Telangana                          1590        1831        1879        1924   \n",
       "Tripura                              23         111          24          57   \n",
       "Mizoram                              22          11           1           5   \n",
       "Andaman and Nicobar Islands           6          16           6           2   \n",
       "Puducherry                           42          65          30         110   \n",
       "\n",
       "states                       2020-07-09  2020-07-10  ...  2020-08-21  \\\n",
       "state                                                ...               \n",
       "Telangana                          1410        1278  ...        1967   \n",
       "Tripura                              16         142  ...         256   \n",
       "Mizoram                               0          23  ...          21   \n",
       "Andaman and Nicobar Islands           7           0  ...          67   \n",
       "Puducherry                           49          72  ...         302   \n",
       "\n",
       "states                       2020-08-22  2020-08-23  2020-08-24  2020-08-25  \\\n",
       "state                                                                         \n",
       "Telangana                          2474        2384        1842        2579   \n",
       "Tripura                             280         331         200         293   \n",
       "Mizoram                               8          15           0          35   \n",
       "Andaman and Nicobar Islands          61          52          44          41   \n",
       "Puducherry                          518         410         337         567   \n",
       "\n",
       "states                       2020-08-26  2020-08-27  2020-08-28  2020-08-29  \\\n",
       "state                                                                         \n",
       "Telangana                          3018        2795        2932        2751   \n",
       "Tripura                             329         385         509         443   \n",
       "Mizoram                              14           7          29           0   \n",
       "Andaman and Nicobar Islands          40          33          32          31   \n",
       "Puducherry                          504         504         590         532   \n",
       "\n",
       "states                       2020-08-30  \n",
       "state                                    \n",
       "Telangana                          2924  \n",
       "Tripura                             447  \n",
       "Mizoram                               5  \n",
       "Andaman and Nicobar Islands           0  \n",
       "Puducherry                            0  \n",
       "\n",
       "[5 rows x 61 columns]"
      ]
     },
     "execution_count": 18,
     "metadata": {},
     "output_type": "execute_result"
    }
   ],
   "source": [
    "#hide\n",
    "dft_ct_new_cases.head()"
   ]
  },
  {
   "cell_type": "code",
   "execution_count": 19,
   "metadata": {
    "execution": {
     "iopub.execute_input": "2020-08-30T04:52:11.352680Z",
     "iopub.status.busy": "2020-08-30T04:52:11.352053Z",
     "iopub.status.idle": "2020-08-30T04:52:14.290539Z",
     "shell.execute_reply": "2020-08-30T04:52:14.290995Z"
    },
    "papermill": {
     "duration": 2.958629,
     "end_time": "2020-08-30T04:52:14.291145",
     "exception": false,
     "start_time": "2020-08-30T04:52:11.332516",
     "status": "completed"
    },
    "tags": []
   },
   "outputs": [
    {
     "data": {
      "image/png": "[encoded data removed]",
      "text/plain": [
       "<Figure size 1296x2016 with 11 Axes>"
      ]
     },
     "metadata": {
      "needs_background": "light"
     },
     "output_type": "display_data"
    }
   ],
   "source": [
    "#hide_input\n",
    "df = dft_ct_new_cases.copy()\n",
    "df.loc['Total'] = df.sum()\n",
    "n = 5\n",
    "ax = []\n",
    "fig = plt.figure(figsize = (18,28))\n",
    "gs = fig.add_gridspec(n+2, 5)\n",
    "# gs = fig.add_gridspec(2, 3)\n",
    "ax1 = fig.add_subplot(gs[0, :])\n",
    "ef = df.loc['Total'].rename_axis('date').reset_index()\n",
    "ef['date'] = ef['date'].astype('datetime64[ns]')\n",
    "ax1.bar(ef.date,ef.Total,alpha=0.3,color='#007acc')\n",
    "ax1.plot(ef.date,ef.Total , marker=\"o\", color='#007acc')\n",
    "ax1.xaxis.set_major_locator(mdates.WeekdayLocator())\n",
    "ax1.xaxis.set_major_formatter(mdates.DateFormatter('%b %d'))\n",
    "ax1.text(0.02, 0.5,'India daily case count', transform = ax1.transAxes, fontsize=25);\n",
    "ax1.spines['right'].set_visible(False)\n",
    "ax1.spines['top'].set_visible(False)\n",
    "\n",
    "ax2 = fig.add_subplot(gs[1,0])\n",
    "ef = df.loc['Maharashtra'].rename_axis('date').reset_index()\n",
    "ef['date'] = ef['date'].astype('datetime64[ns]')\n",
    "\n",
    "ax2.bar(ef.date, ef.Maharashtra,color = '#007acc',alpha=0.5)\n",
    "ax2.xaxis.set_major_locator(mdates.WeekdayLocator())\n",
    "ax2.xaxis.set_major_formatter(mdates.DateFormatter('%b %d'))\n",
    "ax2.set_xticks(ax2.get_xticks()[::3])\n",
    "maxyval = ef.Maharashtra.max()\n",
    "ax2.set_ylim([0,maxyval])\n",
    "ax2.text(0.05, 0.9,'Maharashtra', transform = ax2.transAxes, fontsize=20);\n",
    "ax2.spines['right'].set_visible(False)\n",
    "ax2.spines['top'].set_visible(False)\n",
    "\n",
    "\n",
    "ax3 = fig.add_subplot(gs[1,1])\n",
    "ef = df.loc['Tamil Nadu'].rename_axis('date').reset_index()\n",
    "ef['date'] = ef['date'].astype('datetime64[ns]')\n",
    "ax3.bar(ef.date, ef['Tamil Nadu'],color = '#007acc',alpha=0.5,)\n",
    "ax3.xaxis.set_major_locator(mdates.WeekdayLocator())\n",
    "ax3.xaxis.set_major_formatter(mdates.DateFormatter('%b %d'))\n",
    "ax3.set_xticks(ax3.get_xticks()[::3])\n",
    "ax3.text(0.05, 0.9,'Tamil Nadu', transform = ax3.transAxes, fontsize=20);\n",
    "ax3.spines['right'].set_visible(False)\n",
    "ax3.spines['top'].set_visible(False)\n",
    "\n",
    "ax5 = fig.add_subplot(gs[1,3])\n",
    "ef = df.loc['Telangana'].rename_axis('date').reset_index()\n",
    "ef['date'] = ef['date'].astype('datetime64[ns]')\n",
    "ax5.bar(ef.date, ef['Telangana'],color = '#007acc',alpha=0.5,)\n",
    "ax5.xaxis.set_major_locator(mdates.WeekdayLocator())\n",
    "ax5.xaxis.set_major_formatter(mdates.DateFormatter('%b %d'))\n",
    "ax5.set_xticks(ax5.get_xticks()[::3])\n",
    "ax5.text(0.05, 0.9,'Telangana', transform = ax5.transAxes, fontsize=20);\n",
    "ax5.spines['right'].set_visible(False)\n",
    "ax5.spines['top'].set_visible(False)\n",
    "\n",
    "ax6 = fig.add_subplot(gs[1,4])\n",
    "ef = df.loc['Andhra Pradesh'].rename_axis('date').reset_index()\n",
    "ef['date'] = ef['date'].astype('datetime64[ns]')\n",
    "ax6.bar(ef.date, ef['Andhra Pradesh'],color = '#007acc',alpha=0.5,)\n",
    "ax6.xaxis.set_major_locator(mdates.WeekdayLocator())\n",
    "ax6.xaxis.set_major_formatter(mdates.DateFormatter('%b %d'))\n",
    "ax6.set_xticks(ax6.get_xticks()[::3])\n",
    "ax6.text(0.05, 1,'Andhra Pradesh', transform = ax6.transAxes, fontsize=20);\n",
    "ax6.spines['right'].set_visible(False)\n",
    "ax6.spines['top'].set_visible(False)\n",
    "\n",
    "ax4 = fig.add_subplot(gs[1,2])\n",
    "ef = df.loc['Delhi'].rename_axis('date').reset_index()\n",
    "ef['date'] = ef['date'].astype('datetime64[ns]')\n",
    "ax4.bar(ef.date, ef.Delhi,color = '#007acc',alpha=0.5)\n",
    "ax4.set_xticks([])\n",
    "ax4.xaxis.set_major_locator(mdates.WeekdayLocator())\n",
    "ax4.xaxis.set_major_formatter(mdates.DateFormatter('%b %d'))\n",
    "ax4.set_xticks(ax4.get_xticks()[::3])\n",
    "ax4.spines['right'].set_visible(False)\n",
    "ax4.spines['top'].set_visible(False)\n",
    "\n",
    "ax4.text(0.05, 1,'Delhi', transform = ax4.transAxes, fontsize=20)\n",
    "\n",
    "for i in range(n):\n",
    "    \n",
    "    ax.append(fig.add_subplot(gs[i+2,:]))\n",
    "    ef = df.iloc[i+3].rename_axis('date').reset_index()\n",
    "    ef['date'] = ef['date'].astype('datetime64[ns]')\n",
    "    ax[i].bar(ef.date,ef.iloc[:,-1],color = '#007acc',alpha=0.3)\n",
    "    ax[i].plot(ef.date,ef.iloc[:,-1],marker='o',color='#007acc')\n",
    "    ax[i].text(0.02,0.5,f'{ef.columns.values[-1]}',transform = ax[i].transAxes, fontsize = 20);\n",
    "    ax[i].xaxis.set_major_locator(mdates.WeekdayLocator())\n",
    "    ax[i].xaxis.set_major_formatter(mdates.DateFormatter('%b %d'))\n",
    "    ax[i].set_ylim([0,7000])\n",
    "    ax[i].spines['right'].set_visible(False)\n",
    "    ax[i].spines['top'].set_visible(False)\n",
    "plt.tight_layout()\n"
   ]
  },
  {
   "cell_type": "code",
   "execution_count": 20,
   "metadata": {
    "execution": {
     "iopub.execute_input": "2020-08-30T04:52:14.489071Z",
     "iopub.status.busy": "2020-08-30T04:52:14.488391Z",
     "iopub.status.idle": "2020-08-30T04:52:14.492701Z",
     "shell.execute_reply": "2020-08-30T04:52:14.491957Z"
    },
    "papermill": {
     "duration": 0.179486,
     "end_time": "2020-08-30T04:52:14.492836",
     "exception": false,
     "start_time": "2020-08-30T04:52:14.313350",
     "status": "completed"
    },
    "tags": []
   },
   "outputs": [
    {
     "name": "stdout",
     "output_type": "stream",
     "text": [
      "                                   states   Cases  Deaths  PCases  PDeaths  Cases (+)  Deaths (+)  Fatality Rate\n",
      "                              Maharashtra  764281   24103  764281    24103          0           0           3.15\n",
      "                               Tamil Nadu  415590    7137  415590     7137          0           0           1.72\n",
      "                           Andhra Pradesh  414164    3796  414164     3796          0           0           0.92\n",
      "                                Karnataka  327076    5483  327076     5483          0           0           1.68\n",
      "                            Uttar Pradesh  219457    3356  219457     3356          0           0           1.53\n",
      "                                    Delhi  171366    4404  171366     4404          0           0           2.57\n",
      "                              West Bengal  156766    3126  156766     3126          0           0           1.99\n",
      "                                    Bihar  132935     679  132935      679          0           0           0.51\n",
      "                                Telangana  123090     818  120166      808       2924          10           0.66\n",
      "                                    Assam  103795     289  103795      289          0           0           0.28\n",
      "                                   Odisha   97920     523   97920      523          0           0           0.53\n",
      "                                  Gujarat   93883    2989   93883     2989          0           0           3.18\n",
      "                                Rajasthan   78777    1030   78777     1030          0           0           1.31\n",
      "                                   Kerala   71701     281   71701      281          0           0           0.39\n",
      "                                  Haryana   61987     670   61987      670          0           0           1.08\n",
      "                           Madhya Pradesh   60875    1345   60875     1345          0           0           2.21\n",
      "                                   Punjab   50848    1348   50848     1348          0           0           2.65\n",
      "                                Jharkhand   37112     398   37112      398          0           0           1.07\n",
      "                        Jammu and Kashmir   36377     685   36377      685          0           0           1.88\n",
      "                             Chhattisgarh   28746     262   28746      262          0           0           0.91\n",
      "                              Uttarakhand   18571     250   18571      250          0           0           1.35\n",
      "                                      Goa   16553     178   16553      178          0           0           1.08\n",
      "                               Puducherry   13556     211   13556      211          0           0           1.56\n",
      "                                  Tripura   11323      98   10876       94        447           4           0.87\n",
      "                                  Manipur    5960      28    5960       28          0           0           0.47\n",
      "                         Himachal Pradesh    5781      33    5781       33          0           0           0.57\n",
      "                               Chandigarh    3985      45    3985       45          0           0           1.13\n",
      "                        Arunachal Pradesh    3877       7    3877        7          0           0           0.18\n",
      "                                 Nagaland    3851       8    3851        8          0           0           0.21\n",
      "              Andaman and Nicobar Islands    3081      44    3081       44          0           0           1.43\n",
      "                                   Ladakh    2603      32    2603       32          0           0           1.23\n",
      " Dadra and Nagar Haveli and Daman and Diu    2308       2    2308        2          0           0           0.09\n",
      "                                Meghalaya    2283      10    2283       10          0           0           0.44\n",
      "                                   Sikkim    1602       3    1602        3          0           0           0.19\n",
      "                                  Mizoram    1008       0    1003        0          5           0           0.00\n",
      "                              Lakshadweep       0       0       0        0          0           0            NaN\n"
     ]
    }
   ],
   "source": [
    "#hide_input\n",
    "print(df_table.to_string(index=False))"
   ]
  },
  {
   "cell_type": "code",
   "execution_count": null,
   "metadata": {
    "papermill": {
     "duration": 0.023819,
     "end_time": "2020-08-30T04:52:14.537840",
     "exception": false,
     "start_time": "2020-08-30T04:52:14.514021",
     "status": "completed"
    },
    "tags": []
   },
   "outputs": [],
   "source": []
  },
  {
   "cell_type": "code",
   "execution_count": null,
   "metadata": {
    "papermill": {
     "duration": 0.020484,
     "end_time": "2020-08-30T04:52:14.579613",
     "exception": false,
     "start_time": "2020-08-30T04:52:14.559129",
     "status": "completed"
    },
    "tags": []
   },
   "outputs": [],
   "source": []
  }
 ],
 "metadata": {
  "kernelspec": {
   "display_name": "Python 3",
   "language": "python",
   "name": "python3"
  },
  "language_info": {
   "codemirror_mode": {
    "name": "ipython",
    "version": 3
   },
   "file_extension": ".py",
   "mimetype": "text/x-python",
   "name": "python",
   "nbconvert_exporter": "python",
   "pygments_lexer": "ipython3",
   "version": "3.6.11"
  },
  "papermill": {
   "duration": 9.576564,
   "end_time": "2020-08-30T04:52:15.012859",
   "environment_variables": {},
   "exception": null,
   "input_path": "latest.ipynb",
   "output_path": "latest.ipynb",
   "parameters": {},
   "start_time": "2020-08-30T04:52:05.436295",
   "version": "2.1.2"
  }
 },
 "nbformat": 4,
 "nbformat_minor": 4
}