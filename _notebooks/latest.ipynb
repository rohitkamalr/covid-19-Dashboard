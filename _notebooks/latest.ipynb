{
 "cells": [
  {
   "cell_type": "markdown",
   "id": "colored-stack",
   "metadata": {
    "papermill": {
     "duration": 0.020804,
     "end_time": "2021-02-20T13:22:54.157886",
     "exception": false,
     "start_time": "2021-02-20T13:22:54.137082",
     "status": "completed"
    },
    "tags": []
   },
   "source": [
    "# Latest COVID-19 India Matplotlib Overview"
   ]
  },
  {
   "cell_type": "code",
   "execution_count": 1,
   "id": "light-proportion",
   "metadata": {
    "execution": {
     "iopub.execute_input": "2021-02-20T13:22:54.205452Z",
     "iopub.status.busy": "2021-02-20T13:22:54.204844Z",
     "iopub.status.idle": "2021-02-20T13:22:54.785669Z",
     "shell.execute_reply": "2021-02-20T13:22:54.784765Z"
    },
    "papermill": {
     "duration": 0.610279,
     "end_time": "2021-02-20T13:22:54.785902",
     "exception": false,
     "start_time": "2021-02-20T13:22:54.175623",
     "status": "completed"
    },
    "tags": []
   },
   "outputs": [],
   "source": [
    "#hide\n",
    "import pandas as pd\n",
    "import numpy as np\n",
    "import requests\n",
    "import json\n",
    "import matplotlib.pyplot as plt\n",
    "import matplotlib.dates as mdates\n",
    "import matplotlib as mpl\n",
    "from IPython.core.display import display,HTML\n",
    "%matplotlib inline\n",
    "from datetime import date"
   ]
  },
  {
   "cell_type": "code",
   "execution_count": 2,
   "id": "greenhouse-shooting",
   "metadata": {
    "execution": {
     "iopub.execute_input": "2021-02-20T13:22:54.830579Z",
     "iopub.status.busy": "2021-02-20T13:22:54.829952Z",
     "iopub.status.idle": "2021-02-20T13:22:54.964423Z",
     "shell.execute_reply": "2021-02-20T13:22:54.963497Z"
    },
    "papermill": {
     "duration": 0.161118,
     "end_time": "2021-02-20T13:22:54.964628",
     "exception": false,
     "start_time": "2021-02-20T13:22:54.803510",
     "status": "completed"
    },
    "tags": []
   },
   "outputs": [],
   "source": [
    "#hide\n",
    "df  = pd.read_csv('https://api.covid19india.org/csv/latest/states.csv')\n",
    "df = df[['Date','State','Confirmed','Deceased']]\n",
    "df = df.rename(columns={'Confirmed':'Cases', \"Deceased\":'Deaths'})\n",
    "df_cases = df[[\"Date\",'State','Cases']]\n",
    "df_deaths = df[['Date','State','Deaths']]\n",
    "df_cases1 = df_cases.groupby('Date')\n",
    "df_deaths1= df_deaths.groupby('Date')"
   ]
  },
  {
   "cell_type": "code",
   "execution_count": 3,
   "id": "hybrid-cathedral",
   "metadata": {
    "execution": {
     "iopub.execute_input": "2021-02-20T13:22:55.008517Z",
     "iopub.status.busy": "2021-02-20T13:22:55.007925Z",
     "iopub.status.idle": "2021-02-20T13:22:55.028004Z",
     "shell.execute_reply": "2021-02-20T13:22:55.027312Z"
    },
    "papermill": {
     "duration": 0.043896,
     "end_time": "2021-02-20T13:22:55.028160",
     "exception": false,
     "start_time": "2021-02-20T13:22:54.984264",
     "status": "completed"
    },
    "tags": []
   },
   "outputs": [],
   "source": [
    "#hide\n",
    "df_snap = pd.read_csv('data/SnapshotCases-28-July.csv')\n",
    "arr_states = df_snap['states'].unique()\n",
    "arr_dates = df['Date'].unique()\n",
    "df_snap = df_snap.set_index('states')"
   ]
  },
  {
   "cell_type": "code",
   "execution_count": 4,
   "id": "interior-belfast",
   "metadata": {
    "execution": {
     "iopub.execute_input": "2021-02-20T13:22:55.073177Z",
     "iopub.status.busy": "2021-02-20T13:22:55.072572Z",
     "iopub.status.idle": "2021-02-20T13:22:55.078370Z",
     "shell.execute_reply": "2021-02-20T13:22:55.077854Z"
    },
    "papermill": {
     "duration": 0.032582,
     "end_time": "2021-02-20T13:22:55.078491",
     "exception": false,
     "start_time": "2021-02-20T13:22:55.045909",
     "status": "completed"
    },
    "tags": []
   },
   "outputs": [
    {
     "data": {
      "text/plain": [
       "array(['Andaman and Nicobar Islands', 'Andhra Pradesh',\n",
       "       'Arunachal Pradesh', 'Assam', 'Bihar', 'Chandigarh',\n",
       "       'Dadra and Nagar Haveli and Daman and Diu', 'Delhi', 'Goa',\n",
       "       'Gujarat', 'Haryana', 'Himachal Pradesh', 'Jammu and Kashmir',\n",
       "       'Jharkhand', 'Karnataka', 'Kerala', 'Lakshadweep',\n",
       "       'Madhya Pradesh', 'Maharashtra', 'Manipur', 'Meghalaya', 'Mizoram',\n",
       "       'Nagaland', 'Odisha', 'Puducherry', 'Punjab', 'Rajasthan',\n",
       "       'Sikkim', 'Tamil Nadu', 'Telangana', 'Tripura', 'Uttar Pradesh',\n",
       "       'West Bengal', 'Chhattisgarh', 'Ladakh', 'Uttarakhand'],\n",
       "      dtype=object)"
      ]
     },
     "execution_count": 4,
     "metadata": {},
     "output_type": "execute_result"
    }
   ],
   "source": [
    "#hide\n",
    "arr_states[-9] = 'Puducherry'\n",
    "arr_states[-10] = 'Odisha'\n",
    "arr_states[6] = 'Dadra and Nagar Haveli and Daman and Diu'\n",
    "arr_states = np.append(arr_states,np.array(['Chhattisgarh','Ladakh','Uttarakhand']))\n",
    "arr_states"
   ]
  },
  {
   "cell_type": "code",
   "execution_count": 5,
   "id": "behind-manner",
   "metadata": {
    "execution": {
     "iopub.execute_input": "2021-02-20T13:22:55.128943Z",
     "iopub.status.busy": "2021-02-20T13:22:55.122952Z",
     "iopub.status.idle": "2021-02-20T13:22:55.132053Z",
     "shell.execute_reply": "2021-02-20T13:22:55.131573Z"
    },
    "papermill": {
     "duration": 0.036395,
     "end_time": "2021-02-20T13:22:55.132165",
     "exception": false,
     "start_time": "2021-02-20T13:22:55.095770",
     "status": "completed"
    },
    "tags": []
   },
   "outputs": [],
   "source": [
    "#hide\n",
    "dates = []\n",
    "for i in arr_dates:\n",
    "    if i>='2020-07-01':\n",
    "        dates.append(i)\n",
    "dict = {'states':dates}\n",
    "for i in arr_states:\n",
    "    dict[i] = [0]*len(dates)\n",
    "dft_cases = pd.DataFrame(dict)\n",
    "dft_deaths = pd.DataFrame(dict)\n"
   ]
  },
  {
   "cell_type": "code",
   "execution_count": 6,
   "id": "simplified-peter",
   "metadata": {
    "execution": {
     "iopub.execute_input": "2021-02-20T13:22:55.175682Z",
     "iopub.status.busy": "2021-02-20T13:22:55.174900Z",
     "iopub.status.idle": "2021-02-20T13:22:58.370521Z",
     "shell.execute_reply": "2021-02-20T13:22:58.369605Z"
    },
    "papermill": {
     "duration": 3.220264,
     "end_time": "2021-02-20T13:22:58.370741",
     "exception": false,
     "start_time": "2021-02-20T13:22:55.150477",
     "status": "completed"
    },
    "tags": []
   },
   "outputs": [],
   "source": [
    "#hide\n",
    "for i in range(len(dates)):\n",
    "    df1_deaths = df_deaths1.get_group(dates[i])\n",
    "    for j in range(len(df1_deaths.index)):\n",
    "        if df1_deaths.iloc[j,1] in arr_states:\n",
    "            dft_deaths.loc[i,df1_deaths.iloc[j,1]] = df1_deaths.iloc[j,2]\n",
    "dft_deaths = dft_deaths.set_index('states')"
   ]
  },
  {
   "cell_type": "code",
   "execution_count": 7,
   "id": "geological-welding",
   "metadata": {
    "execution": {
     "iopub.execute_input": "2021-02-20T13:22:58.415952Z",
     "iopub.status.busy": "2021-02-20T13:22:58.415337Z",
     "iopub.status.idle": "2021-02-20T13:23:01.621785Z",
     "shell.execute_reply": "2021-02-20T13:23:01.620708Z"
    },
    "papermill": {
     "duration": 3.232447,
     "end_time": "2021-02-20T13:23:01.621927",
     "exception": false,
     "start_time": "2021-02-20T13:22:58.389480",
     "status": "completed"
    },
    "tags": []
   },
   "outputs": [],
   "source": [
    "#hide\n",
    "for i in range(len(dates)):\n",
    "    df1_cases = df_cases1.get_group(dates[i])\n",
    "    for j in range(len(df1_cases.index)):\n",
    "        if df1_cases.iloc[j,1] in arr_states:\n",
    "            dft_cases.loc[i,df1_cases.iloc[j,1]] = df1_cases.iloc[j,2]\n",
    "dft_cases = dft_cases.set_index('states')"
   ]
  },
  {
   "cell_type": "code",
   "execution_count": 8,
   "id": "binary-ratio",
   "metadata": {
    "execution": {
     "iopub.execute_input": "2021-02-20T13:23:01.660647Z",
     "iopub.status.busy": "2021-02-20T13:23:01.659747Z",
     "iopub.status.idle": "2021-02-20T13:23:01.661382Z",
     "shell.execute_reply": "2021-02-20T13:23:01.661832Z"
    },
    "papermill": {
     "duration": 0.023538,
     "end_time": "2021-02-20T13:23:01.661967",
     "exception": false,
     "start_time": "2021-02-20T13:23:01.638429",
     "status": "completed"
    },
    "tags": []
   },
   "outputs": [],
   "source": [
    "#hide\n",
    "dft_cases = dft_cases.T\n",
    "dft_deaths = dft_deaths.T\n",
    "dt_today = dates[-1]\n",
    "dt_yday = dates[-2]"
   ]
  },
  {
   "cell_type": "code",
   "execution_count": 9,
   "id": "boolean-calculator",
   "metadata": {
    "execution": {
     "iopub.execute_input": "2021-02-20T13:23:01.704541Z",
     "iopub.status.busy": "2021-02-20T13:23:01.703954Z",
     "iopub.status.idle": "2021-02-20T13:23:01.707199Z",
     "shell.execute_reply": "2021-02-20T13:23:01.706713Z"
    },
    "papermill": {
     "duration": 0.029101,
     "end_time": "2021-02-20T13:23:01.707309",
     "exception": false,
     "start_time": "2021-02-20T13:23:01.678208",
     "status": "completed"
    },
    "tags": []
   },
   "outputs": [],
   "source": [
    "#hide\n",
    "dft_cases = dft_cases.reset_index()\n",
    "dft_deaths = dft_deaths.reset_index()\n",
    "dft_cases = dft_cases.rename(columns = {'index':'state'})\n",
    "dft_deaths = dft_deaths.rename(columns = {'index':'state'})"
   ]
  },
  {
   "cell_type": "code",
   "execution_count": 10,
   "id": "invisible-johnston",
   "metadata": {
    "execution": {
     "iopub.execute_input": "2021-02-20T13:23:01.750979Z",
     "iopub.status.busy": "2021-02-20T13:23:01.750420Z",
     "iopub.status.idle": "2021-02-20T13:23:01.752488Z",
     "shell.execute_reply": "2021-02-20T13:23:01.752084Z"
    },
    "papermill": {
     "duration": 0.028772,
     "end_time": "2021-02-20T13:23:01.752602",
     "exception": false,
     "start_time": "2021-02-20T13:23:01.723830",
     "status": "completed"
    },
    "tags": []
   },
   "outputs": [],
   "source": [
    "#hide\n",
    "dfc_cases = dft_cases.groupby('state')[dt_today].sum()\n",
    "dfc_deaths = dft_deaths.groupby('state')[dt_today].sum()\n",
    "dfp_cases = dft_cases.groupby('state')[dt_yday].sum()\n",
    "dfp_deaths = dft_deaths.groupby('state')[dt_yday].sum()"
   ]
  },
  {
   "cell_type": "code",
   "execution_count": 11,
   "id": "measured-great",
   "metadata": {
    "execution": {
     "iopub.execute_input": "2021-02-20T13:23:01.796338Z",
     "iopub.status.busy": "2021-02-20T13:23:01.795754Z",
     "iopub.status.idle": "2021-02-20T13:23:01.807687Z",
     "shell.execute_reply": "2021-02-20T13:23:01.808097Z"
    },
    "papermill": {
     "duration": 0.03913,
     "end_time": "2021-02-20T13:23:01.808229",
     "exception": false,
     "start_time": "2021-02-20T13:23:01.769099",
     "status": "completed"
    },
    "tags": []
   },
   "outputs": [
    {
     "data": {
      "text/html": [
       "<div>\n",
       "<style scoped>\n",
       "    .dataframe tbody tr th:only-of-type {\n",
       "        vertical-align: middle;\n",
       "    }\n",
       "\n",
       "    .dataframe tbody tr th {\n",
       "        vertical-align: top;\n",
       "    }\n",
       "\n",
       "    .dataframe thead th {\n",
       "        text-align: right;\n",
       "    }\n",
       "</style>\n",
       "<table border=\"1\" class=\"dataframe\">\n",
       "  <thead>\n",
       "    <tr style=\"text-align: right;\">\n",
       "      <th></th>\n",
       "      <th>states</th>\n",
       "      <th>Cases</th>\n",
       "      <th>Deaths</th>\n",
       "      <th>PCases</th>\n",
       "      <th>PDeaths</th>\n",
       "    </tr>\n",
       "  </thead>\n",
       "  <tbody>\n",
       "    <tr>\n",
       "      <th>0</th>\n",
       "      <td>Maharashtra</td>\n",
       "      <td>2087632</td>\n",
       "      <td>51713</td>\n",
       "      <td>2087632</td>\n",
       "      <td>51713</td>\n",
       "    </tr>\n",
       "    <tr>\n",
       "      <th>1</th>\n",
       "      <td>Kerala</td>\n",
       "      <td>1025938</td>\n",
       "      <td>4062</td>\n",
       "      <td>1025938</td>\n",
       "      <td>4062</td>\n",
       "    </tr>\n",
       "    <tr>\n",
       "      <th>2</th>\n",
       "      <td>Karnataka</td>\n",
       "      <td>947246</td>\n",
       "      <td>12287</td>\n",
       "      <td>947246</td>\n",
       "      <td>12287</td>\n",
       "    </tr>\n",
       "    <tr>\n",
       "      <th>3</th>\n",
       "      <td>Andhra Pradesh</td>\n",
       "      <td>889156</td>\n",
       "      <td>7167</td>\n",
       "      <td>889156</td>\n",
       "      <td>7167</td>\n",
       "    </tr>\n",
       "    <tr>\n",
       "      <th>4</th>\n",
       "      <td>Tamil Nadu</td>\n",
       "      <td>847385</td>\n",
       "      <td>12451</td>\n",
       "      <td>847385</td>\n",
       "      <td>12451</td>\n",
       "    </tr>\n",
       "  </tbody>\n",
       "</table>\n",
       "</div>"
      ],
      "text/plain": [
       "           states    Cases  Deaths   PCases  PDeaths\n",
       "0     Maharashtra  2087632   51713  2087632    51713\n",
       "1          Kerala  1025938    4062  1025938     4062\n",
       "2       Karnataka   947246   12287   947246    12287\n",
       "3  Andhra Pradesh   889156    7167   889156     7167\n",
       "4      Tamil Nadu   847385   12451   847385    12451"
      ]
     },
     "execution_count": 11,
     "metadata": {},
     "output_type": "execute_result"
    }
   ],
   "source": [
    "#hide\n",
    "df_table = pd.DataFrame({'states': dfc_cases.index, 'Cases': dfc_cases.values, 'Deaths': dfc_deaths.values, 'PCases': dfp_cases.values, 'PDeaths': dfp_deaths.values}).set_index('states')\n",
    "df_table = df_table.sort_values(by = ['Cases','Deaths'], ascending = [False, False])\n",
    "df_table = df_table.reset_index()\n",
    "df_table.head()"
   ]
  },
  {
   "cell_type": "code",
   "execution_count": 12,
   "id": "found-montreal",
   "metadata": {
    "execution": {
     "iopub.execute_input": "2021-02-20T13:23:01.847258Z",
     "iopub.status.busy": "2021-02-20T13:23:01.846718Z",
     "iopub.status.idle": "2021-02-20T13:23:01.855000Z",
     "shell.execute_reply": "2021-02-20T13:23:01.855437Z"
    },
    "papermill": {
     "duration": 0.031152,
     "end_time": "2021-02-20T13:23:01.855566",
     "exception": false,
     "start_time": "2021-02-20T13:23:01.824414",
     "status": "completed"
    },
    "tags": []
   },
   "outputs": [],
   "source": [
    "#hide\n",
    "for c in 'Cases, Deaths'.split(', '):\n",
    "    df_table[f'{c} (+)'] = (df_table[c] - df_table[f'P{c}']).clip(0)\n",
    "df_table['Fatality Rate'] = (100* df_table['Deaths']/ df_table['Cases']).round(2)"
   ]
  },
  {
   "cell_type": "code",
   "execution_count": 13,
   "id": "minus-savage",
   "metadata": {
    "execution": {
     "iopub.execute_input": "2021-02-20T13:23:01.899621Z",
     "iopub.status.busy": "2021-02-20T13:23:01.899049Z",
     "iopub.status.idle": "2021-02-20T13:23:01.901998Z",
     "shell.execute_reply": "2021-02-20T13:23:01.901532Z"
    },
    "papermill": {
     "duration": 0.029963,
     "end_time": "2021-02-20T13:23:01.902107",
     "exception": false,
     "start_time": "2021-02-20T13:23:01.872144",
     "status": "completed"
    },
    "tags": []
   },
   "outputs": [
    {
     "data": {
      "text/html": [
       "<div>\n",
       "<style scoped>\n",
       "    .dataframe tbody tr th:only-of-type {\n",
       "        vertical-align: middle;\n",
       "    }\n",
       "\n",
       "    .dataframe tbody tr th {\n",
       "        vertical-align: top;\n",
       "    }\n",
       "\n",
       "    .dataframe thead th {\n",
       "        text-align: right;\n",
       "    }\n",
       "</style>\n",
       "<table border=\"1\" class=\"dataframe\">\n",
       "  <thead>\n",
       "    <tr style=\"text-align: right;\">\n",
       "      <th></th>\n",
       "      <th>states</th>\n",
       "      <th>Cases</th>\n",
       "      <th>Deaths</th>\n",
       "      <th>PCases</th>\n",
       "      <th>PDeaths</th>\n",
       "      <th>Cases (+)</th>\n",
       "      <th>Deaths (+)</th>\n",
       "      <th>Fatality Rate</th>\n",
       "    </tr>\n",
       "  </thead>\n",
       "  <tbody>\n",
       "    <tr>\n",
       "      <th>0</th>\n",
       "      <td>Maharashtra</td>\n",
       "      <td>2087632</td>\n",
       "      <td>51713</td>\n",
       "      <td>2087632</td>\n",
       "      <td>51713</td>\n",
       "      <td>0</td>\n",
       "      <td>0</td>\n",
       "      <td>2.48</td>\n",
       "    </tr>\n",
       "    <tr>\n",
       "      <th>1</th>\n",
       "      <td>Kerala</td>\n",
       "      <td>1025938</td>\n",
       "      <td>4062</td>\n",
       "      <td>1025938</td>\n",
       "      <td>4062</td>\n",
       "      <td>0</td>\n",
       "      <td>0</td>\n",
       "      <td>0.40</td>\n",
       "    </tr>\n",
       "    <tr>\n",
       "      <th>2</th>\n",
       "      <td>Karnataka</td>\n",
       "      <td>947246</td>\n",
       "      <td>12287</td>\n",
       "      <td>947246</td>\n",
       "      <td>12287</td>\n",
       "      <td>0</td>\n",
       "      <td>0</td>\n",
       "      <td>1.30</td>\n",
       "    </tr>\n",
       "    <tr>\n",
       "      <th>3</th>\n",
       "      <td>Andhra Pradesh</td>\n",
       "      <td>889156</td>\n",
       "      <td>7167</td>\n",
       "      <td>889156</td>\n",
       "      <td>7167</td>\n",
       "      <td>0</td>\n",
       "      <td>0</td>\n",
       "      <td>0.81</td>\n",
       "    </tr>\n",
       "    <tr>\n",
       "      <th>4</th>\n",
       "      <td>Tamil Nadu</td>\n",
       "      <td>847385</td>\n",
       "      <td>12451</td>\n",
       "      <td>847385</td>\n",
       "      <td>12451</td>\n",
       "      <td>0</td>\n",
       "      <td>0</td>\n",
       "      <td>1.47</td>\n",
       "    </tr>\n",
       "  </tbody>\n",
       "</table>\n",
       "</div>"
      ],
      "text/plain": [
       "           states    Cases  Deaths   PCases  PDeaths  Cases (+)  Deaths (+)  \\\n",
       "0     Maharashtra  2087632   51713  2087632    51713          0           0   \n",
       "1          Kerala  1025938    4062  1025938     4062          0           0   \n",
       "2       Karnataka   947246   12287   947246    12287          0           0   \n",
       "3  Andhra Pradesh   889156    7167   889156     7167          0           0   \n",
       "4      Tamil Nadu   847385   12451   847385    12451          0           0   \n",
       "\n",
       "   Fatality Rate  \n",
       "0           2.48  \n",
       "1           0.40  \n",
       "2           1.30  \n",
       "3           0.81  \n",
       "4           1.47  "
      ]
     },
     "execution_count": 13,
     "metadata": {},
     "output_type": "execute_result"
    }
   ],
   "source": [
    "#hide\n",
    "df_table.head()"
   ]
  },
  {
   "cell_type": "code",
   "execution_count": 14,
   "id": "false-peter",
   "metadata": {
    "execution": {
     "iopub.execute_input": "2021-02-20T13:23:01.942780Z",
     "iopub.status.busy": "2021-02-20T13:23:01.942216Z",
     "iopub.status.idle": "2021-02-20T13:23:01.957922Z",
     "shell.execute_reply": "2021-02-20T13:23:01.957468Z"
    },
    "papermill": {
     "duration": 0.0387,
     "end_time": "2021-02-20T13:23:01.958040",
     "exception": false,
     "start_time": "2021-02-20T13:23:01.919340",
     "status": "completed"
    },
    "tags": []
   },
   "outputs": [
    {
     "data": {
      "text/plain": [
       "{'updated': '2021-02-20',\n",
       " 'since': '2021-02-19',\n",
       " 'Cases': 10977521,\n",
       " 'PCases': 10977175,\n",
       " 'Deaths': 156251,\n",
       " 'PDeaths': 156250,\n",
       " 'Cases (+)': 346,\n",
       " 'Deaths (+)': 1}"
      ]
     },
     "execution_count": 14,
     "metadata": {},
     "output_type": "execute_result"
    }
   ],
   "source": [
    "#hide\n",
    "summary = {'updated':dates[-1], 'since':dates[-2]}\n",
    "list_names = ['Cases', 'PCases', 'Deaths', 'PDeaths', 'Cases (+)', 'Deaths (+)']\n",
    "for name in list_names:\n",
    "    summary[name] = df_table.sum()[name]\n",
    "summary"
   ]
  },
  {
   "cell_type": "code",
   "execution_count": 15,
   "id": "packed-viewer",
   "metadata": {
    "execution": {
     "iopub.execute_input": "2021-02-20T13:23:01.996435Z",
     "iopub.status.busy": "2021-02-20T13:23:01.995889Z",
     "iopub.status.idle": "2021-02-20T13:23:01.998195Z",
     "shell.execute_reply": "2021-02-20T13:23:01.997657Z"
    },
    "papermill": {
     "duration": 0.023813,
     "end_time": "2021-02-20T13:23:01.998312",
     "exception": false,
     "start_time": "2021-02-20T13:23:01.974499",
     "status": "completed"
    },
    "tags": []
   },
   "outputs": [],
   "source": [
    "#hide\n",
    "overview = '''\n",
    "<!-- #######  HTML!! #########-->\n",
    "<h1 style=\"color: #5e9ca0; text-align: center;\">India</h1>\n",
    "<p style=\"text-align: center;\">Last update: <strong>{update}</strong></p>\n",
    "<p style=\"text-align: center;\">Confirmed cases:</p>\n",
    "<p style=\"text-align: center;font-size:24px;\">{cases} (<span style=\"color: #ff0000;\">+{new}</span>)</p>\n",
    "<p style=\"text-align: center;\">Confirmed deaths:</p>\n",
    "<p style=\"text-align: center;font-size:24px;\">{deaths} (<span style=\"color: #ff0000;\">+{dnew}</span>)</p>\n",
    "'''"
   ]
  },
  {
   "cell_type": "code",
   "execution_count": 16,
   "id": "phantom-lover",
   "metadata": {
    "execution": {
     "iopub.execute_input": "2021-02-20T13:23:02.038335Z",
     "iopub.status.busy": "2021-02-20T13:23:02.037833Z",
     "iopub.status.idle": "2021-02-20T13:23:02.040989Z",
     "shell.execute_reply": "2021-02-20T13:23:02.041404Z"
    },
    "papermill": {
     "duration": 0.025924,
     "end_time": "2021-02-20T13:23:02.041531",
     "exception": false,
     "start_time": "2021-02-20T13:23:02.015607",
     "status": "completed"
    },
    "tags": []
   },
   "outputs": [
    {
     "data": {
      "text/html": [
       "\n",
       "<!-- #######  HTML!! #########-->\n",
       "<h1 style=\"color: #5e9ca0; text-align: center;\">India</h1>\n",
       "<p style=\"text-align: center;\">Last update: <strong>2021-02-20</strong></p>\n",
       "<p style=\"text-align: center;\">Confirmed cases:</p>\n",
       "<p style=\"text-align: center;font-size:24px;\">10977521 (<span style=\"color: #ff0000;\">+346</span>)</p>\n",
       "<p style=\"text-align: center;\">Confirmed deaths:</p>\n",
       "<p style=\"text-align: center;font-size:24px;\">156251 (<span style=\"color: #ff0000;\">+1</span>)</p>\n"
      ],
      "text/plain": [
       "<IPython.core.display.HTML object>"
      ]
     },
     "metadata": {},
     "output_type": "display_data"
    }
   ],
   "source": [
    "#hide_input\n",
    "update = summary['updated']\n",
    "cases = summary['Cases']\n",
    "new = summary['Cases (+)']\n",
    "deaths = summary['Deaths']\n",
    "dnew = summary['Deaths (+)']\n",
    "\n",
    "html = HTML(overview.format(update=update, cases=cases,new=new,deaths=deaths,dnew=dnew))\n",
    "\n",
    "display(html)"
   ]
  },
  {
   "cell_type": "code",
   "execution_count": 17,
   "id": "sealed-reset",
   "metadata": {
    "execution": {
     "iopub.execute_input": "2021-02-20T13:23:02.084394Z",
     "iopub.status.busy": "2021-02-20T13:23:02.083913Z",
     "iopub.status.idle": "2021-02-20T13:23:02.091952Z",
     "shell.execute_reply": "2021-02-20T13:23:02.091473Z"
    },
    "papermill": {
     "duration": 0.033266,
     "end_time": "2021-02-20T13:23:02.092073",
     "exception": false,
     "start_time": "2021-02-20T13:23:02.058807",
     "status": "completed"
    },
    "tags": []
   },
   "outputs": [],
   "source": [
    "#hide\n",
    "dt_cols = list(dft_cases.columns[1:])\n",
    "dft_ct_new_cases = dft_cases.groupby('state')[dt_cols].sum().diff(axis=1).fillna(0).astype(int)\n",
    "dft_ct_new_cases.sort_values(by = dates[-1], ascending = False,inplace = True)"
   ]
  },
  {
   "cell_type": "code",
   "execution_count": 18,
   "id": "designed-constant",
   "metadata": {
    "execution": {
     "iopub.execute_input": "2021-02-20T13:23:02.146826Z",
     "iopub.status.busy": "2021-02-20T13:23:02.142276Z",
     "iopub.status.idle": "2021-02-20T13:23:02.149915Z",
     "shell.execute_reply": "2021-02-20T13:23:02.149438Z"
    },
    "papermill": {
     "duration": 0.040746,
     "end_time": "2021-02-20T13:23:02.150033",
     "exception": false,
     "start_time": "2021-02-20T13:23:02.109287",
     "status": "completed"
    },
    "tags": []
   },
   "outputs": [
    {
     "data": {
      "text/html": [
       "<div>\n",
       "<style scoped>\n",
       "    .dataframe tbody tr th:only-of-type {\n",
       "        vertical-align: middle;\n",
       "    }\n",
       "\n",
       "    .dataframe tbody tr th {\n",
       "        vertical-align: top;\n",
       "    }\n",
       "\n",
       "    .dataframe thead th {\n",
       "        text-align: right;\n",
       "    }\n",
       "</style>\n",
       "<table border=\"1\" class=\"dataframe\">\n",
       "  <thead>\n",
       "    <tr style=\"text-align: right;\">\n",
       "      <th>states</th>\n",
       "      <th>2020-07-01</th>\n",
       "      <th>2020-07-02</th>\n",
       "      <th>2020-07-03</th>\n",
       "      <th>2020-07-04</th>\n",
       "      <th>2020-07-05</th>\n",
       "      <th>2020-07-06</th>\n",
       "      <th>2020-07-07</th>\n",
       "      <th>2020-07-08</th>\n",
       "      <th>2020-07-09</th>\n",
       "      <th>2020-07-10</th>\n",
       "      <th>...</th>\n",
       "      <th>2021-02-11</th>\n",
       "      <th>2021-02-12</th>\n",
       "      <th>2021-02-13</th>\n",
       "      <th>2021-02-14</th>\n",
       "      <th>2021-02-15</th>\n",
       "      <th>2021-02-16</th>\n",
       "      <th>2021-02-17</th>\n",
       "      <th>2021-02-18</th>\n",
       "      <th>2021-02-19</th>\n",
       "      <th>2021-02-20</th>\n",
       "    </tr>\n",
       "    <tr>\n",
       "      <th>state</th>\n",
       "      <th></th>\n",
       "      <th></th>\n",
       "      <th></th>\n",
       "      <th></th>\n",
       "      <th></th>\n",
       "      <th></th>\n",
       "      <th></th>\n",
       "      <th></th>\n",
       "      <th></th>\n",
       "      <th></th>\n",
       "      <th></th>\n",
       "      <th></th>\n",
       "      <th></th>\n",
       "      <th></th>\n",
       "      <th></th>\n",
       "      <th></th>\n",
       "      <th></th>\n",
       "      <th></th>\n",
       "      <th></th>\n",
       "      <th></th>\n",
       "      <th></th>\n",
       "    </tr>\n",
       "  </thead>\n",
       "  <tbody>\n",
       "    <tr>\n",
       "      <th>Telangana</th>\n",
       "      <td>0</td>\n",
       "      <td>1213</td>\n",
       "      <td>1892</td>\n",
       "      <td>1850</td>\n",
       "      <td>1590</td>\n",
       "      <td>1831</td>\n",
       "      <td>1879</td>\n",
       "      <td>1924</td>\n",
       "      <td>1410</td>\n",
       "      <td>1278</td>\n",
       "      <td>...</td>\n",
       "      <td>146</td>\n",
       "      <td>143</td>\n",
       "      <td>151</td>\n",
       "      <td>146</td>\n",
       "      <td>99</td>\n",
       "      <td>129</td>\n",
       "      <td>148</td>\n",
       "      <td>163</td>\n",
       "      <td>165</td>\n",
       "      <td>157</td>\n",
       "    </tr>\n",
       "    <tr>\n",
       "      <th>Delhi</th>\n",
       "      <td>0</td>\n",
       "      <td>2373</td>\n",
       "      <td>2520</td>\n",
       "      <td>2505</td>\n",
       "      <td>2244</td>\n",
       "      <td>1379</td>\n",
       "      <td>2008</td>\n",
       "      <td>2033</td>\n",
       "      <td>2187</td>\n",
       "      <td>2089</td>\n",
       "      <td>...</td>\n",
       "      <td>142</td>\n",
       "      <td>141</td>\n",
       "      <td>126</td>\n",
       "      <td>150</td>\n",
       "      <td>141</td>\n",
       "      <td>94</td>\n",
       "      <td>134</td>\n",
       "      <td>130</td>\n",
       "      <td>158</td>\n",
       "      <td>152</td>\n",
       "    </tr>\n",
       "    <tr>\n",
       "      <th>Tripura</th>\n",
       "      <td>0</td>\n",
       "      <td>39</td>\n",
       "      <td>93</td>\n",
       "      <td>25</td>\n",
       "      <td>23</td>\n",
       "      <td>111</td>\n",
       "      <td>24</td>\n",
       "      <td>57</td>\n",
       "      <td>16</td>\n",
       "      <td>142</td>\n",
       "      <td>...</td>\n",
       "      <td>0</td>\n",
       "      <td>0</td>\n",
       "      <td>0</td>\n",
       "      <td>0</td>\n",
       "      <td>0</td>\n",
       "      <td>0</td>\n",
       "      <td>2</td>\n",
       "      <td>2</td>\n",
       "      <td>0</td>\n",
       "      <td>35</td>\n",
       "    </tr>\n",
       "    <tr>\n",
       "      <th>Mizoram</th>\n",
       "      <td>0</td>\n",
       "      <td>2</td>\n",
       "      <td>0</td>\n",
       "      <td>2</td>\n",
       "      <td>22</td>\n",
       "      <td>11</td>\n",
       "      <td>1</td>\n",
       "      <td>5</td>\n",
       "      <td>0</td>\n",
       "      <td>23</td>\n",
       "      <td>...</td>\n",
       "      <td>2</td>\n",
       "      <td>1</td>\n",
       "      <td>1</td>\n",
       "      <td>0</td>\n",
       "      <td>0</td>\n",
       "      <td>3</td>\n",
       "      <td>1</td>\n",
       "      <td>3</td>\n",
       "      <td>6</td>\n",
       "      <td>2</td>\n",
       "    </tr>\n",
       "    <tr>\n",
       "      <th>Andaman and Nicobar Islands</th>\n",
       "      <td>0</td>\n",
       "      <td>9</td>\n",
       "      <td>7</td>\n",
       "      <td>3</td>\n",
       "      <td>6</td>\n",
       "      <td>16</td>\n",
       "      <td>6</td>\n",
       "      <td>2</td>\n",
       "      <td>7</td>\n",
       "      <td>0</td>\n",
       "      <td>...</td>\n",
       "      <td>0</td>\n",
       "      <td>0</td>\n",
       "      <td>2</td>\n",
       "      <td>0</td>\n",
       "      <td>0</td>\n",
       "      <td>4</td>\n",
       "      <td>1</td>\n",
       "      <td>0</td>\n",
       "      <td>0</td>\n",
       "      <td>0</td>\n",
       "    </tr>\n",
       "  </tbody>\n",
       "</table>\n",
       "<p>5 rows × 235 columns</p>\n",
       "</div>"
      ],
      "text/plain": [
       "states                       2020-07-01  2020-07-02  2020-07-03  2020-07-04  \\\n",
       "state                                                                         \n",
       "Telangana                             0        1213        1892        1850   \n",
       "Delhi                                 0        2373        2520        2505   \n",
       "Tripura                               0          39          93          25   \n",
       "Mizoram                               0           2           0           2   \n",
       "Andaman and Nicobar Islands           0           9           7           3   \n",
       "\n",
       "states                       2020-07-05  2020-07-06  2020-07-07  2020-07-08  \\\n",
       "state                                                                         \n",
       "Telangana                          1590        1831        1879        1924   \n",
       "Delhi                              2244        1379        2008        2033   \n",
       "Tripura                              23         111          24          57   \n",
       "Mizoram                              22          11           1           5   \n",
       "Andaman and Nicobar Islands           6          16           6           2   \n",
       "\n",
       "states                       2020-07-09  2020-07-10  ...  2021-02-11  \\\n",
       "state                                                ...               \n",
       "Telangana                          1410        1278  ...         146   \n",
       "Delhi                              2187        2089  ...         142   \n",
       "Tripura                              16         142  ...           0   \n",
       "Mizoram                               0          23  ...           2   \n",
       "Andaman and Nicobar Islands           7           0  ...           0   \n",
       "\n",
       "states                       2021-02-12  2021-02-13  2021-02-14  2021-02-15  \\\n",
       "state                                                                         \n",
       "Telangana                           143         151         146          99   \n",
       "Delhi                               141         126         150         141   \n",
       "Tripura                               0           0           0           0   \n",
       "Mizoram                               1           1           0           0   \n",
       "Andaman and Nicobar Islands           0           2           0           0   \n",
       "\n",
       "states                       2021-02-16  2021-02-17  2021-02-18  2021-02-19  \\\n",
       "state                                                                         \n",
       "Telangana                           129         148         163         165   \n",
       "Delhi                                94         134         130         158   \n",
       "Tripura                               0           2           2           0   \n",
       "Mizoram                               3           1           3           6   \n",
       "Andaman and Nicobar Islands           4           1           0           0   \n",
       "\n",
       "states                       2021-02-20  \n",
       "state                                    \n",
       "Telangana                           157  \n",
       "Delhi                               152  \n",
       "Tripura                              35  \n",
       "Mizoram                               2  \n",
       "Andaman and Nicobar Islands           0  \n",
       "\n",
       "[5 rows x 235 columns]"
      ]
     },
     "execution_count": 18,
     "metadata": {},
     "output_type": "execute_result"
    }
   ],
   "source": [
    "#hide\n",
    "dft_ct_new_cases.head()"
   ]
  },
  {
   "cell_type": "code",
   "execution_count": 19,
   "id": "responsible-nightlife",
   "metadata": {
    "execution": {
     "iopub.execute_input": "2021-02-20T13:23:02.189167Z",
     "iopub.status.busy": "2021-02-20T13:23:02.188583Z",
     "iopub.status.idle": "2021-02-20T13:23:09.741487Z",
     "shell.execute_reply": "2021-02-20T13:23:09.741917Z"
    },
    "papermill": {
     "duration": 7.574365,
     "end_time": "2021-02-20T13:23:09.742061",
     "exception": false,
     "start_time": "2021-02-20T13:23:02.167696",
     "status": "completed"
    },
    "tags": []
   },
   "outputs": [
    {
     "data": {
      "image/png": "[encoded data removed]",
      "text/plain": [
       "<Figure size 1296x2016 with 11 Axes>"
      ]
     },
     "metadata": {
      "needs_background": "light"
     },
     "output_type": "display_data"
    }
   ],
   "source": [
    "#hide_input\n",
    "df = dft_ct_new_cases.copy()\n",
    "df.loc['Total'] = df.sum()\n",
    "n = 5\n",
    "ax = []\n",
    "fig = plt.figure(figsize = (18,28))\n",
    "gs = fig.add_gridspec(n+2, 5)\n",
    "# gs = fig.add_gridspec(2, 3)\n",
    "ax1 = fig.add_subplot(gs[0, :])\n",
    "ef = df.loc['Total'].rename_axis('date').reset_index()\n",
    "ef['date'] = ef['date'].astype('datetime64[ns]')\n",
    "ax1.bar(ef.date,ef.Total,alpha=0.3,color='#007acc')\n",
    "ax1.plot(ef.date,ef.Total , marker=\"o\", color='#007acc')\n",
    "ax1.xaxis.set_major_locator(mdates.WeekdayLocator())\n",
    "ax1.xaxis.set_major_formatter(mdates.DateFormatter('%b %d'))\n",
    "ax1.text(0.02, 0.5,'India daily case count', transform = ax1.transAxes, fontsize=25);\n",
    "ax1.spines['right'].set_visible(False)\n",
    "ax1.spines['top'].set_visible(False)\n",
    "\n",
    "ax2 = fig.add_subplot(gs[1,0])\n",
    "ef = df.loc['Maharashtra'].rename_axis('date').reset_index()\n",
    "ef['date'] = ef['date'].astype('datetime64[ns]')\n",
    "\n",
    "ax2.bar(ef.date, ef.Maharashtra,color = '#007acc',alpha=0.5)\n",
    "ax2.xaxis.set_major_locator(mdates.WeekdayLocator())\n",
    "ax2.xaxis.set_major_formatter(mdates.DateFormatter('%b %d'))\n",
    "ax2.set_xticks(ax2.get_xticks()[::3])\n",
    "maxyval = ef.Maharashtra.max()\n",
    "ax2.set_ylim([0,maxyval])\n",
    "ax2.text(0.05, 0.9,'Maharashtra', transform = ax2.transAxes, fontsize=20);\n",
    "ax2.spines['right'].set_visible(False)\n",
    "ax2.spines['top'].set_visible(False)\n",
    "\n",
    "\n",
    "ax3 = fig.add_subplot(gs[1,1])\n",
    "ef = df.loc['Tamil Nadu'].rename_axis('date').reset_index()\n",
    "ef['date'] = ef['date'].astype('datetime64[ns]')\n",
    "ax3.bar(ef.date, ef['Tamil Nadu'],color = '#007acc',alpha=0.5,)\n",
    "ax3.xaxis.set_major_locator(mdates.WeekdayLocator())\n",
    "ax3.xaxis.set_major_formatter(mdates.DateFormatter('%b %d'))\n",
    "ax3.set_xticks(ax3.get_xticks()[::3])\n",
    "ax3.text(0.05, 0.9,'Tamil Nadu', transform = ax3.transAxes, fontsize=20);\n",
    "ax3.spines['right'].set_visible(False)\n",
    "ax3.spines['top'].set_visible(False)\n",
    "\n",
    "ax5 = fig.add_subplot(gs[1,3])\n",
    "ef = df.loc['Telangana'].rename_axis('date').reset_index()\n",
    "ef['date'] = ef['date'].astype('datetime64[ns]')\n",
    "ax5.bar(ef.date, ef['Telangana'],color = '#007acc',alpha=0.5,)\n",
    "ax5.xaxis.set_major_locator(mdates.WeekdayLocator())\n",
    "ax5.xaxis.set_major_formatter(mdates.DateFormatter('%b %d'))\n",
    "ax5.set_xticks(ax5.get_xticks()[::3])\n",
    "ax5.text(0.05, 0.9,'Telangana', transform = ax5.transAxes, fontsize=20);\n",
    "ax5.spines['right'].set_visible(False)\n",
    "ax5.spines['top'].set_visible(False)\n",
    "\n",
    "ax6 = fig.add_subplot(gs[1,4])\n",
    "ef = df.loc['Andhra Pradesh'].rename_axis('date').reset_index()\n",
    "ef['date'] = ef['date'].astype('datetime64[ns]')\n",
    "ax6.bar(ef.date, ef['Andhra Pradesh'],color = '#007acc',alpha=0.5,)\n",
    "ax6.xaxis.set_major_locator(mdates.WeekdayLocator())\n",
    "ax6.xaxis.set_major_formatter(mdates.DateFormatter('%b %d'))\n",
    "ax6.set_xticks(ax6.get_xticks()[::3])\n",
    "ax6.text(0.05, 1,'Andhra Pradesh', transform = ax6.transAxes, fontsize=20);\n",
    "ax6.spines['right'].set_visible(False)\n",
    "ax6.spines['top'].set_visible(False)\n",
    "\n",
    "ax4 = fig.add_subplot(gs[1,2])\n",
    "ef = df.loc['Delhi'].rename_axis('date').reset_index()\n",
    "ef['date'] = ef['date'].astype('datetime64[ns]')\n",
    "ax4.bar(ef.date, ef.Delhi,color = '#007acc',alpha=0.5)\n",
    "ax4.set_xticks([])\n",
    "ax4.xaxis.set_major_locator(mdates.WeekdayLocator())\n",
    "ax4.xaxis.set_major_formatter(mdates.DateFormatter('%b %d'))\n",
    "ax4.set_xticks(ax4.get_xticks()[::3])\n",
    "ax4.spines['right'].set_visible(False)\n",
    "ax4.spines['top'].set_visible(False)\n",
    "\n",
    "ax4.text(0.05, 1,'Delhi', transform = ax4.transAxes, fontsize=20)\n",
    "\n",
    "for i in range(n):\n",
    "    \n",
    "    ax.append(fig.add_subplot(gs[i+2,:]))\n",
    "    ef = df.iloc[i+3].rename_axis('date').reset_index()\n",
    "    ef['date'] = ef['date'].astype('datetime64[ns]')\n",
    "    ax[i].bar(ef.date,ef.iloc[:,-1],color = '#007acc',alpha=0.3)\n",
    "    ax[i].plot(ef.date,ef.iloc[:,-1],marker='o',color='#007acc')\n",
    "    ax[i].text(0.02,0.5,f'{ef.columns.values[-1]}',transform = ax[i].transAxes, fontsize = 20);\n",
    "    ax[i].xaxis.set_major_locator(mdates.WeekdayLocator())\n",
    "    ax[i].xaxis.set_major_formatter(mdates.DateFormatter('%b %d'))\n",
    "    ax[i].set_ylim([0,7000])\n",
    "    ax[i].spines['right'].set_visible(False)\n",
    "    ax[i].spines['top'].set_visible(False)\n",
    "plt.tight_layout()\n"
   ]
  },
  {
   "cell_type": "code",
   "execution_count": 20,
   "id": "dress-forge",
   "metadata": {
    "execution": {
     "iopub.execute_input": "2021-02-20T13:23:09.796109Z",
     "iopub.status.busy": "2021-02-20T13:23:09.795487Z",
     "iopub.status.idle": "2021-02-20T13:23:09.797726Z",
     "shell.execute_reply": "2021-02-20T13:23:09.798226Z"
    },
    "papermill": {
     "duration": 0.034882,
     "end_time": "2021-02-20T13:23:09.798370",
     "exception": false,
     "start_time": "2021-02-20T13:23:09.763488",
     "status": "completed"
    },
    "tags": []
   },
   "outputs": [
    {
     "name": "stdout",
     "output_type": "stream",
     "text": [
      "                                   states    Cases  Deaths   PCases  PDeaths  Cases (+)  Deaths (+)  Fatality Rate\n",
      "                              Maharashtra  2087632   51713  2087632    51713          0           0           2.48\n",
      "                                   Kerala  1025938    4062  1025938     4062          0           0           0.40\n",
      "                                Karnataka   947246   12287   947246    12287          0           0           1.30\n",
      "                           Andhra Pradesh   889156    7167   889156     7167          0           0           0.81\n",
      "                               Tamil Nadu   847385   12451   847385    12451          0           0           1.47\n",
      "                                    Delhi   637755   10898   637603    10897        152           1           1.71\n",
      "                            Uttar Pradesh   602592    8712   602592     8712          0           0           1.45\n",
      "                              West Bengal   573387   10242   573387    10242          0           0           1.79\n",
      "                                   Odisha   336513    1967   336513     1967          0           0           0.58\n",
      "                                Rajasthan   319363    2784   319363     2784          0           0           0.87\n",
      "                             Chhattisgarh   310469    3793   310469     3793          0           0           1.22\n",
      "                                Telangana   297435    1623   297278     1623        157           0           0.55\n",
      "                                  Haryana   269498    3042   269498     3042          0           0           1.13\n",
      "                                  Gujarat   266563    4404   266563     4404          0           0           1.65\n",
      "                                    Bihar   262009    1532   262009     1532          0           0           0.58\n",
      "                           Madhya Pradesh   258871    3846   258871     3846          0           0           1.49\n",
      "                                    Assam   217367    1091   217367     1091          0           0           0.50\n",
      "                                   Punjab   177761    5740   177761     5740          0           0           3.23\n",
      "                        Jammu and Kashmir   125715    1954   125715     1954          0           0           1.55\n",
      "                                Jharkhand   119528    1084   119528     1084          0           0           0.91\n",
      "                              Uttarakhand    97031    1686    97031     1686          0           0           1.74\n",
      "                         Himachal Pradesh    58344     981    58344      981          0           0           1.68\n",
      "                                      Goa    54466     787    54466      787          0           0           1.44\n",
      "                               Puducherry    39540     662    39540      662          0           0           1.67\n",
      "                                  Tripura    33389     388    33354      388         35           0           1.16\n",
      "                                  Manipur    29230     373    29230      373          0           0           1.28\n",
      "                               Chandigarh    21371     348    21371      348          0           0           1.63\n",
      "                        Arunachal Pradesh    16836      56    16836       56          0           0           0.33\n",
      "                                Meghalaya    13951     148    13951      148          0           0           1.06\n",
      "                                 Nagaland    12191      91    12191       91          0           0           0.75\n",
      "                                   Ladakh     9785     130     9785      130          0           0           1.33\n",
      "                                   Sikkim     6127     135     6127      135          0           0           2.20\n",
      "              Andaman and Nicobar Islands     5014      62     5014       62          0           0           1.24\n",
      "                                  Mizoram     4407      10     4405       10          2           0           0.23\n",
      " Dadra and Nagar Haveli and Daman and Diu     3384       2     3384        2          0           0           0.06\n",
      "                              Lakshadweep      272       0      272        0          0           0           0.00\n"
     ]
    }
   ],
   "source": [
    "#hide_input\n",
    "print(df_table.to_string(index=False))"
   ]
  },
  {
   "cell_type": "code",
   "execution_count": null,
   "id": "quantitative-legend",
   "metadata": {
    "papermill": {
     "duration": 0.023117,
     "end_time": "2021-02-20T13:23:09.844775",
     "exception": false,
     "start_time": "2021-02-20T13:23:09.821658",
     "status": "completed"
    },
    "tags": []
   },
   "outputs": [],
   "source": []
  },
  {
   "cell_type": "code",
   "execution_count": null,
   "id": "distant-acoustic",
   "metadata": {
    "papermill": {
     "duration": 0.023684,
     "end_time": "2021-02-20T13:23:09.891293",
     "exception": false,
     "start_time": "2021-02-20T13:23:09.867609",
     "status": "completed"
    },
    "tags": []
   },
   "outputs": [],
   "source": []
  }
 ],
 "metadata": {
  "kernelspec": {
   "display_name": "Python 3",
   "language": "python",
   "name": "python3"
  },
  "language_info": {
   "codemirror_mode": {
    "name": "ipython",
    "version": 3
   },
   "file_extension": ".py",
   "mimetype": "text/x-python",
   "name": "python",
   "nbconvert_exporter": "python",
   "pygments_lexer": "ipython3",
   "version": "3.6.12"
  },
  "papermill": {
   "duration": 18.335005,
   "end_time": "2021-02-20T13:23:11.189920",
   "environment_variables": {},
   "exception": null,
   "input_path": "latest.ipynb",
   "output_path": "latest.ipynb",
   "parameters": {},
   "start_time": "2021-02-20T13:22:52.854915",
   "version": "2.1.2"
  }
 },
 "nbformat": 4,
 "nbformat_minor": 5
}