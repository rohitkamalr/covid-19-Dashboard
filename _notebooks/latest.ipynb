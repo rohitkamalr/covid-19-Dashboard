{
 "cells": [
  {
   "cell_type": "markdown",
   "metadata": {
    "papermill": {
     "duration": 0.017282,
     "end_time": "2020-12-22T11:56:04.526558",
     "exception": false,
     "start_time": "2020-12-22T11:56:04.509276",
     "status": "completed"
    },
    "tags": []
   },
   "source": [
    "# Latest COVID-19 India Matplotlib Overview"
   ]
  },
  {
   "cell_type": "code",
   "execution_count": 1,
   "metadata": {
    "execution": {
     "iopub.execute_input": "2020-12-22T11:56:04.565082Z",
     "iopub.status.busy": "2020-12-22T11:56:04.564568Z",
     "iopub.status.idle": "2020-12-22T11:56:05.059719Z",
     "shell.execute_reply": "2020-12-22T11:56:05.059249Z"
    },
    "papermill": {
     "duration": 0.519435,
     "end_time": "2020-12-22T11:56:05.059867",
     "exception": false,
     "start_time": "2020-12-22T11:56:04.540432",
     "status": "completed"
    },
    "tags": []
   },
   "outputs": [],
   "source": [
    "#hide\n",
    "import pandas as pd\n",
    "import numpy as np\n",
    "import requests\n",
    "import json\n",
    "import matplotlib.pyplot as plt\n",
    "import matplotlib.dates as mdates\n",
    "import matplotlib as mpl\n",
    "from IPython.core.display import display,HTML\n",
    "%matplotlib inline\n",
    "from datetime import date"
   ]
  },
  {
   "cell_type": "code",
   "execution_count": 2,
   "metadata": {
    "execution": {
     "iopub.execute_input": "2020-12-22T11:56:05.094898Z",
     "iopub.status.busy": "2020-12-22T11:56:05.093349Z",
     "iopub.status.idle": "2020-12-22T11:56:05.259252Z",
     "shell.execute_reply": "2020-12-22T11:56:05.258702Z"
    },
    "papermill": {
     "duration": 0.185892,
     "end_time": "2020-12-22T11:56:05.259387",
     "exception": false,
     "start_time": "2020-12-22T11:56:05.073495",
     "status": "completed"
    },
    "tags": []
   },
   "outputs": [],
   "source": [
    "#hide\n",
    "df  = pd.read_csv('https://api.covid19india.org/csv/latest/states.csv')\n",
    "df = df[['Date','State','Confirmed','Deceased']]\n",
    "df = df.rename(columns={'Confirmed':'Cases', \"Deceased\":'Deaths'})\n",
    "df_cases = df[[\"Date\",'State','Cases']]\n",
    "df_deaths = df[['Date','State','Deaths']]\n",
    "df_cases1 = df_cases.groupby('Date')\n",
    "df_deaths1= df_deaths.groupby('Date')"
   ]
  },
  {
   "cell_type": "code",
   "execution_count": 3,
   "metadata": {
    "execution": {
     "iopub.execute_input": "2020-12-22T11:56:05.290872Z",
     "iopub.status.busy": "2020-12-22T11:56:05.290373Z",
     "iopub.status.idle": "2020-12-22T11:56:05.304953Z",
     "shell.execute_reply": "2020-12-22T11:56:05.305337Z"
    },
    "papermill": {
     "duration": 0.032591,
     "end_time": "2020-12-22T11:56:05.305464",
     "exception": false,
     "start_time": "2020-12-22T11:56:05.272873",
     "status": "completed"
    },
    "tags": []
   },
   "outputs": [],
   "source": [
    "#hide\n",
    "df_snap = pd.read_csv('data/SnapshotCases-28-July.csv')\n",
    "arr_states = df_snap['states'].unique()\n",
    "arr_dates = df['Date'].unique()\n",
    "df_snap = df_snap.set_index('states')"
   ]
  },
  {
   "cell_type": "code",
   "execution_count": 4,
   "metadata": {
    "execution": {
     "iopub.execute_input": "2020-12-22T11:56:05.337869Z",
     "iopub.status.busy": "2020-12-22T11:56:05.337269Z",
     "iopub.status.idle": "2020-12-22T11:56:05.339312Z",
     "shell.execute_reply": "2020-12-22T11:56:05.339849Z"
    },
    "papermill": {
     "duration": 0.021449,
     "end_time": "2020-12-22T11:56:05.339976",
     "exception": false,
     "start_time": "2020-12-22T11:56:05.318527",
     "status": "completed"
    },
    "tags": []
   },
   "outputs": [
    {
     "data": {
      "text/plain": [
       "array(['Andaman and Nicobar Islands', 'Andhra Pradesh',\n",
       "       'Arunachal Pradesh', 'Assam', 'Bihar', 'Chandigarh',\n",
       "       'Dadra and Nagar Haveli and Daman and Diu', 'Delhi', 'Goa',\n",
       "       'Gujarat', 'Haryana', 'Himachal Pradesh', 'Jammu and Kashmir',\n",
       "       'Jharkhand', 'Karnataka', 'Kerala', 'Lakshadweep',\n",
       "       'Madhya Pradesh', 'Maharashtra', 'Manipur', 'Meghalaya', 'Mizoram',\n",
       "       'Nagaland', 'Odisha', 'Puducherry', 'Punjab', 'Rajasthan',\n",
       "       'Sikkim', 'Tamil Nadu', 'Telangana', 'Tripura', 'Uttar Pradesh',\n",
       "       'West Bengal', 'Chhattisgarh', 'Ladakh', 'Uttarakhand'],\n",
       "      dtype=object)"
      ]
     },
     "execution_count": 4,
     "metadata": {},
     "output_type": "execute_result"
    }
   ],
   "source": [
    "#hide\n",
    "arr_states[-9] = 'Puducherry'\n",
    "arr_states[-10] = 'Odisha'\n",
    "arr_states[6] = 'Dadra and Nagar Haveli and Daman and Diu'\n",
    "arr_states = np.append(arr_states,np.array(['Chhattisgarh','Ladakh','Uttarakhand']))\n",
    "arr_states"
   ]
  },
  {
   "cell_type": "code",
   "execution_count": 5,
   "metadata": {
    "execution": {
     "iopub.execute_input": "2020-12-22T11:56:05.376219Z",
     "iopub.status.busy": "2020-12-22T11:56:05.375722Z",
     "iopub.status.idle": "2020-12-22T11:56:05.383025Z",
     "shell.execute_reply": "2020-12-22T11:56:05.382627Z"
    },
    "papermill": {
     "duration": 0.02959,
     "end_time": "2020-12-22T11:56:05.383124",
     "exception": false,
     "start_time": "2020-12-22T11:56:05.353534",
     "status": "completed"
    },
    "tags": []
   },
   "outputs": [],
   "source": [
    "#hide\n",
    "dates = []\n",
    "for i in arr_dates:\n",
    "    if i>='2020-07-01':\n",
    "        dates.append(i)\n",
    "dict = {'states':dates}\n",
    "for i in arr_states:\n",
    "    dict[i] = [0]*len(dates)\n",
    "dft_cases = pd.DataFrame(dict)\n",
    "dft_deaths = pd.DataFrame(dict)\n"
   ]
  },
  {
   "cell_type": "code",
   "execution_count": 6,
   "metadata": {
    "execution": {
     "iopub.execute_input": "2020-12-22T11:56:05.414787Z",
     "iopub.status.busy": "2020-12-22T11:56:05.414292Z",
     "iopub.status.idle": "2020-12-22T11:56:07.547605Z",
     "shell.execute_reply": "2020-12-22T11:56:07.547090Z"
    },
    "papermill": {
     "duration": 2.151235,
     "end_time": "2020-12-22T11:56:07.547736",
     "exception": false,
     "start_time": "2020-12-22T11:56:05.396501",
     "status": "completed"
    },
    "tags": []
   },
   "outputs": [],
   "source": [
    "#hide\n",
    "for i in range(len(dates)):\n",
    "    df1_deaths = df_deaths1.get_group(dates[i])\n",
    "    for j in range(len(df1_deaths.index)):\n",
    "        if df1_deaths.iloc[j,1] in arr_states:\n",
    "            dft_deaths.loc[i,df1_deaths.iloc[j,1]] = df1_deaths.iloc[j,2]\n",
    "dft_deaths = dft_deaths.set_index('states')"
   ]
  },
  {
   "cell_type": "code",
   "execution_count": 7,
   "metadata": {
    "execution": {
     "iopub.execute_input": "2020-12-22T11:56:07.580824Z",
     "iopub.status.busy": "2020-12-22T11:56:07.580319Z",
     "iopub.status.idle": "2020-12-22T11:56:09.771420Z",
     "shell.execute_reply": "2020-12-22T11:56:09.771844Z"
    },
    "papermill": {
     "duration": 2.210557,
     "end_time": "2020-12-22T11:56:09.771998",
     "exception": false,
     "start_time": "2020-12-22T11:56:07.561441",
     "status": "completed"
    },
    "tags": []
   },
   "outputs": [],
   "source": [
    "#hide\n",
    "for i in range(len(dates)):\n",
    "    df1_cases = df_cases1.get_group(dates[i])\n",
    "    for j in range(len(df1_cases.index)):\n",
    "        if df1_cases.iloc[j,1] in arr_states:\n",
    "            dft_cases.loc[i,df1_cases.iloc[j,1]] = df1_cases.iloc[j,2]\n",
    "dft_cases = dft_cases.set_index('states')"
   ]
  },
  {
   "cell_type": "code",
   "execution_count": 8,
   "metadata": {
    "execution": {
     "iopub.execute_input": "2020-12-22T11:56:09.807942Z",
     "iopub.status.busy": "2020-12-22T11:56:09.806737Z",
     "iopub.status.idle": "2020-12-22T11:56:09.808592Z",
     "shell.execute_reply": "2020-12-22T11:56:09.809061Z"
    },
    "papermill": {
     "duration": 0.022726,
     "end_time": "2020-12-22T11:56:09.809201",
     "exception": false,
     "start_time": "2020-12-22T11:56:09.786475",
     "status": "completed"
    },
    "tags": []
   },
   "outputs": [],
   "source": [
    "#hide\n",
    "dft_cases = dft_cases.T\n",
    "dft_deaths = dft_deaths.T\n",
    "dt_today = dates[-1]\n",
    "dt_yday = dates[-2]"
   ]
  },
  {
   "cell_type": "code",
   "execution_count": 9,
   "metadata": {
    "execution": {
     "iopub.execute_input": "2020-12-22T11:56:09.842140Z",
     "iopub.status.busy": "2020-12-22T11:56:09.841644Z",
     "iopub.status.idle": "2020-12-22T11:56:09.845841Z",
     "shell.execute_reply": "2020-12-22T11:56:09.846271Z"
    },
    "papermill": {
     "duration": 0.023121,
     "end_time": "2020-12-22T11:56:09.846382",
     "exception": false,
     "start_time": "2020-12-22T11:56:09.823261",
     "status": "completed"
    },
    "tags": []
   },
   "outputs": [],
   "source": [
    "#hide\n",
    "dft_cases = dft_cases.reset_index()\n",
    "dft_deaths = dft_deaths.reset_index()\n",
    "dft_cases = dft_cases.rename(columns = {'index':'state'})\n",
    "dft_deaths = dft_deaths.rename(columns = {'index':'state'})"
   ]
  },
  {
   "cell_type": "code",
   "execution_count": 10,
   "metadata": {
    "execution": {
     "iopub.execute_input": "2020-12-22T11:56:09.882309Z",
     "iopub.status.busy": "2020-12-22T11:56:09.881803Z",
     "iopub.status.idle": "2020-12-22T11:56:09.883880Z",
     "shell.execute_reply": "2020-12-22T11:56:09.883396Z"
    },
    "papermill": {
     "duration": 0.024394,
     "end_time": "2020-12-22T11:56:09.883981",
     "exception": false,
     "start_time": "2020-12-22T11:56:09.859587",
     "status": "completed"
    },
    "tags": []
   },
   "outputs": [],
   "source": [
    "#hide\n",
    "dfc_cases = dft_cases.groupby('state')[dt_today].sum()\n",
    "dfc_deaths = dft_deaths.groupby('state')[dt_today].sum()\n",
    "dfp_cases = dft_cases.groupby('state')[dt_yday].sum()\n",
    "dfp_deaths = dft_deaths.groupby('state')[dt_yday].sum()"
   ]
  },
  {
   "cell_type": "code",
   "execution_count": 11,
   "metadata": {
    "execution": {
     "iopub.execute_input": "2020-12-22T11:56:09.917340Z",
     "iopub.status.busy": "2020-12-22T11:56:09.916845Z",
     "iopub.status.idle": "2020-12-22T11:56:09.927919Z",
     "shell.execute_reply": "2020-12-22T11:56:09.928344Z"
    },
    "papermill": {
     "duration": 0.031114,
     "end_time": "2020-12-22T11:56:09.928457",
     "exception": false,
     "start_time": "2020-12-22T11:56:09.897343",
     "status": "completed"
    },
    "tags": []
   },
   "outputs": [
    {
     "data": {
      "text/html": [
       "<div>\n",
       "<style scoped>\n",
       "    .dataframe tbody tr th:only-of-type {\n",
       "        vertical-align: middle;\n",
       "    }\n",
       "\n",
       "    .dataframe tbody tr th {\n",
       "        vertical-align: top;\n",
       "    }\n",
       "\n",
       "    .dataframe thead th {\n",
       "        text-align: right;\n",
       "    }\n",
       "</style>\n",
       "<table border=\"1\" class=\"dataframe\">\n",
       "  <thead>\n",
       "    <tr style=\"text-align: right;\">\n",
       "      <th></th>\n",
       "      <th>states</th>\n",
       "      <th>Cases</th>\n",
       "      <th>Deaths</th>\n",
       "      <th>PCases</th>\n",
       "      <th>PDeaths</th>\n",
       "    </tr>\n",
       "  </thead>\n",
       "  <tbody>\n",
       "    <tr>\n",
       "      <th>0</th>\n",
       "      <td>Maharashtra</td>\n",
       "      <td>1899352</td>\n",
       "      <td>48801</td>\n",
       "      <td>1899352</td>\n",
       "      <td>48801</td>\n",
       "    </tr>\n",
       "    <tr>\n",
       "      <th>1</th>\n",
       "      <td>Karnataka</td>\n",
       "      <td>910241</td>\n",
       "      <td>12016</td>\n",
       "      <td>910241</td>\n",
       "      <td>12016</td>\n",
       "    </tr>\n",
       "    <tr>\n",
       "      <th>2</th>\n",
       "      <td>Andhra Pradesh</td>\n",
       "      <td>878937</td>\n",
       "      <td>7078</td>\n",
       "      <td>878937</td>\n",
       "      <td>7078</td>\n",
       "    </tr>\n",
       "    <tr>\n",
       "      <th>3</th>\n",
       "      <td>Tamil Nadu</td>\n",
       "      <td>807962</td>\n",
       "      <td>11995</td>\n",
       "      <td>807962</td>\n",
       "      <td>11995</td>\n",
       "    </tr>\n",
       "    <tr>\n",
       "      <th>4</th>\n",
       "      <td>Kerala</td>\n",
       "      <td>709293</td>\n",
       "      <td>2844</td>\n",
       "      <td>709293</td>\n",
       "      <td>2844</td>\n",
       "    </tr>\n",
       "  </tbody>\n",
       "</table>\n",
       "</div>"
      ],
      "text/plain": [
       "           states    Cases  Deaths   PCases  PDeaths\n",
       "0     Maharashtra  1899352   48801  1899352    48801\n",
       "1       Karnataka   910241   12016   910241    12016\n",
       "2  Andhra Pradesh   878937    7078   878937     7078\n",
       "3      Tamil Nadu   807962   11995   807962    11995\n",
       "4          Kerala   709293    2844   709293     2844"
      ]
     },
     "execution_count": 11,
     "metadata": {},
     "output_type": "execute_result"
    }
   ],
   "source": [
    "#hide\n",
    "df_table = pd.DataFrame({'states': dfc_cases.index, 'Cases': dfc_cases.values, 'Deaths': dfc_deaths.values, 'PCases': dfp_cases.values, 'PDeaths': dfp_deaths.values}).set_index('states')\n",
    "df_table = df_table.sort_values(by = ['Cases','Deaths'], ascending = [False, False])\n",
    "df_table = df_table.reset_index()\n",
    "df_table.head()"
   ]
  },
  {
   "cell_type": "code",
   "execution_count": 12,
   "metadata": {
    "execution": {
     "iopub.execute_input": "2020-12-22T11:56:09.960207Z",
     "iopub.status.busy": "2020-12-22T11:56:09.959716Z",
     "iopub.status.idle": "2020-12-22T11:56:09.967650Z",
     "shell.execute_reply": "2020-12-22T11:56:09.967257Z"
    },
    "papermill": {
     "duration": 0.025614,
     "end_time": "2020-12-22T11:56:09.967751",
     "exception": false,
     "start_time": "2020-12-22T11:56:09.942137",
     "status": "completed"
    },
    "tags": []
   },
   "outputs": [],
   "source": [
    "#hide\n",
    "for c in 'Cases, Deaths'.split(', '):\n",
    "    df_table[f'{c} (+)'] = (df_table[c] - df_table[f'P{c}']).clip(0)\n",
    "df_table['Fatality Rate'] = (100* df_table['Deaths']/ df_table['Cases']).round(2)"
   ]
  },
  {
   "cell_type": "code",
   "execution_count": 13,
   "metadata": {
    "execution": {
     "iopub.execute_input": "2020-12-22T11:56:10.004169Z",
     "iopub.status.busy": "2020-12-22T11:56:10.003678Z",
     "iopub.status.idle": "2020-12-22T11:56:10.006855Z",
     "shell.execute_reply": "2020-12-22T11:56:10.006459Z"
    },
    "papermill": {
     "duration": 0.025546,
     "end_time": "2020-12-22T11:56:10.006956",
     "exception": false,
     "start_time": "2020-12-22T11:56:09.981410",
     "status": "completed"
    },
    "tags": []
   },
   "outputs": [
    {
     "data": {
      "text/html": [
       "<div>\n",
       "<style scoped>\n",
       "    .dataframe tbody tr th:only-of-type {\n",
       "        vertical-align: middle;\n",
       "    }\n",
       "\n",
       "    .dataframe tbody tr th {\n",
       "        vertical-align: top;\n",
       "    }\n",
       "\n",
       "    .dataframe thead th {\n",
       "        text-align: right;\n",
       "    }\n",
       "</style>\n",
       "<table border=\"1\" class=\"dataframe\">\n",
       "  <thead>\n",
       "    <tr style=\"text-align: right;\">\n",
       "      <th></th>\n",
       "      <th>states</th>\n",
       "      <th>Cases</th>\n",
       "      <th>Deaths</th>\n",
       "      <th>PCases</th>\n",
       "      <th>PDeaths</th>\n",
       "      <th>Cases (+)</th>\n",
       "      <th>Deaths (+)</th>\n",
       "      <th>Fatality Rate</th>\n",
       "    </tr>\n",
       "  </thead>\n",
       "  <tbody>\n",
       "    <tr>\n",
       "      <th>0</th>\n",
       "      <td>Maharashtra</td>\n",
       "      <td>1899352</td>\n",
       "      <td>48801</td>\n",
       "      <td>1899352</td>\n",
       "      <td>48801</td>\n",
       "      <td>0</td>\n",
       "      <td>0</td>\n",
       "      <td>2.57</td>\n",
       "    </tr>\n",
       "    <tr>\n",
       "      <th>1</th>\n",
       "      <td>Karnataka</td>\n",
       "      <td>910241</td>\n",
       "      <td>12016</td>\n",
       "      <td>910241</td>\n",
       "      <td>12016</td>\n",
       "      <td>0</td>\n",
       "      <td>0</td>\n",
       "      <td>1.32</td>\n",
       "    </tr>\n",
       "    <tr>\n",
       "      <th>2</th>\n",
       "      <td>Andhra Pradesh</td>\n",
       "      <td>878937</td>\n",
       "      <td>7078</td>\n",
       "      <td>878937</td>\n",
       "      <td>7078</td>\n",
       "      <td>0</td>\n",
       "      <td>0</td>\n",
       "      <td>0.81</td>\n",
       "    </tr>\n",
       "    <tr>\n",
       "      <th>3</th>\n",
       "      <td>Tamil Nadu</td>\n",
       "      <td>807962</td>\n",
       "      <td>11995</td>\n",
       "      <td>807962</td>\n",
       "      <td>11995</td>\n",
       "      <td>0</td>\n",
       "      <td>0</td>\n",
       "      <td>1.48</td>\n",
       "    </tr>\n",
       "    <tr>\n",
       "      <th>4</th>\n",
       "      <td>Kerala</td>\n",
       "      <td>709293</td>\n",
       "      <td>2844</td>\n",
       "      <td>709293</td>\n",
       "      <td>2844</td>\n",
       "      <td>0</td>\n",
       "      <td>0</td>\n",
       "      <td>0.40</td>\n",
       "    </tr>\n",
       "  </tbody>\n",
       "</table>\n",
       "</div>"
      ],
      "text/plain": [
       "           states    Cases  Deaths   PCases  PDeaths  Cases (+)  Deaths (+)  \\\n",
       "0     Maharashtra  1899352   48801  1899352    48801          0           0   \n",
       "1       Karnataka   910241   12016   910241    12016          0           0   \n",
       "2  Andhra Pradesh   878937    7078   878937     7078          0           0   \n",
       "3      Tamil Nadu   807962   11995   807962    11995          0           0   \n",
       "4          Kerala   709293    2844   709293     2844          0           0   \n",
       "\n",
       "   Fatality Rate  \n",
       "0           2.57  \n",
       "1           1.32  \n",
       "2           0.81  \n",
       "3           1.48  \n",
       "4           0.40  "
      ]
     },
     "execution_count": 13,
     "metadata": {},
     "output_type": "execute_result"
    }
   ],
   "source": [
    "#hide\n",
    "df_table.head()"
   ]
  },
  {
   "cell_type": "code",
   "execution_count": 14,
   "metadata": {
    "execution": {
     "iopub.execute_input": "2020-12-22T11:56:10.039538Z",
     "iopub.status.busy": "2020-12-22T11:56:10.039050Z",
     "iopub.status.idle": "2020-12-22T11:56:10.052312Z",
     "shell.execute_reply": "2020-12-22T11:56:10.052738Z"
    },
    "papermill": {
     "duration": 0.031602,
     "end_time": "2020-12-22T11:56:10.052852",
     "exception": false,
     "start_time": "2020-12-22T11:56:10.021250",
     "status": "completed"
    },
    "tags": []
   },
   "outputs": [
    {
     "data": {
      "text/plain": [
       "{'updated': '2020-12-22',\n",
       " 'since': '2020-12-21',\n",
       " 'Cases': 10076387,\n",
       " 'PCases': 10075428,\n",
       " 'Deaths': 146154,\n",
       " 'PDeaths': 146147,\n",
       " 'Cases (+)': 959,\n",
       " 'Deaths (+)': 7}"
      ]
     },
     "execution_count": 14,
     "metadata": {},
     "output_type": "execute_result"
    }
   ],
   "source": [
    "#hide\n",
    "summary = {'updated':dates[-1], 'since':dates[-2]}\n",
    "list_names = ['Cases', 'PCases', 'Deaths', 'PDeaths', 'Cases (+)', 'Deaths (+)']\n",
    "for name in list_names:\n",
    "    summary[name] = df_table.sum()[name]\n",
    "summary"
   ]
  },
  {
   "cell_type": "code",
   "execution_count": 15,
   "metadata": {
    "execution": {
     "iopub.execute_input": "2020-12-22T11:56:10.085526Z",
     "iopub.status.busy": "2020-12-22T11:56:10.084953Z",
     "iopub.status.idle": "2020-12-22T11:56:10.087105Z",
     "shell.execute_reply": "2020-12-22T11:56:10.086655Z"
    },
    "papermill": {
     "duration": 0.019936,
     "end_time": "2020-12-22T11:56:10.087220",
     "exception": false,
     "start_time": "2020-12-22T11:56:10.067284",
     "status": "completed"
    },
    "tags": []
   },
   "outputs": [],
   "source": [
    "#hide\n",
    "overview = '''\n",
    "<!-- #######  HTML!! #########-->\n",
    "<h1 style=\"color: #5e9ca0; text-align: center;\">India</h1>\n",
    "<p style=\"text-align: center;\">Last update: <strong>{update}</strong></p>\n",
    "<p style=\"text-align: center;\">Confirmed cases:</p>\n",
    "<p style=\"text-align: center;font-size:24px;\">{cases} (<span style=\"color: #ff0000;\">+{new}</span>)</p>\n",
    "<p style=\"text-align: center;\">Confirmed deaths:</p>\n",
    "<p style=\"text-align: center;font-size:24px;\">{deaths} (<span style=\"color: #ff0000;\">+{dnew}</span>)</p>\n",
    "'''"
   ]
  },
  {
   "cell_type": "code",
   "execution_count": 16,
   "metadata": {
    "execution": {
     "iopub.execute_input": "2020-12-22T11:56:10.120738Z",
     "iopub.status.busy": "2020-12-22T11:56:10.120183Z",
     "iopub.status.idle": "2020-12-22T11:56:10.123877Z",
     "shell.execute_reply": "2020-12-22T11:56:10.123463Z"
    },
    "papermill": {
     "duration": 0.022253,
     "end_time": "2020-12-22T11:56:10.123976",
     "exception": false,
     "start_time": "2020-12-22T11:56:10.101723",
     "status": "completed"
    },
    "tags": []
   },
   "outputs": [
    {
     "data": {
      "text/html": [
       "\n",
       "<!-- #######  HTML!! #########-->\n",
       "<h1 style=\"color: #5e9ca0; text-align: center;\">India</h1>\n",
       "<p style=\"text-align: center;\">Last update: <strong>2020-12-22</strong></p>\n",
       "<p style=\"text-align: center;\">Confirmed cases:</p>\n",
       "<p style=\"text-align: center;font-size:24px;\">10076387 (<span style=\"color: #ff0000;\">+959</span>)</p>\n",
       "<p style=\"text-align: center;\">Confirmed deaths:</p>\n",
       "<p style=\"text-align: center;font-size:24px;\">146154 (<span style=\"color: #ff0000;\">+7</span>)</p>\n"
      ],
      "text/plain": [
       "<IPython.core.display.HTML object>"
      ]
     },
     "metadata": {},
     "output_type": "display_data"
    }
   ],
   "source": [
    "#hide_input\n",
    "update = summary['updated']\n",
    "cases = summary['Cases']\n",
    "new = summary['Cases (+)']\n",
    "deaths = summary['Deaths']\n",
    "dnew = summary['Deaths (+)']\n",
    "\n",
    "html = HTML(overview.format(update=update, cases=cases,new=new,deaths=deaths,dnew=dnew))\n",
    "\n",
    "display(html)"
   ]
  },
  {
   "cell_type": "code",
   "execution_count": 17,
   "metadata": {
    "execution": {
     "iopub.execute_input": "2020-12-22T11:56:10.158931Z",
     "iopub.status.busy": "2020-12-22T11:56:10.158440Z",
     "iopub.status.idle": "2020-12-22T11:56:10.165072Z",
     "shell.execute_reply": "2020-12-22T11:56:10.164672Z"
    },
    "papermill": {
     "duration": 0.026266,
     "end_time": "2020-12-22T11:56:10.165173",
     "exception": false,
     "start_time": "2020-12-22T11:56:10.138907",
     "status": "completed"
    },
    "tags": []
   },
   "outputs": [],
   "source": [
    "#hide\n",
    "dt_cols = list(dft_cases.columns[1:])\n",
    "dft_ct_new_cases = dft_cases.groupby('state')[dt_cols].sum().diff(axis=1).fillna(0).astype(int)\n",
    "dft_ct_new_cases.sort_values(by = dates[-1], ascending = False,inplace = True)"
   ]
  },
  {
   "cell_type": "code",
   "execution_count": 18,
   "metadata": {
    "execution": {
     "iopub.execute_input": "2020-12-22T11:56:10.209499Z",
     "iopub.status.busy": "2020-12-22T11:56:10.209001Z",
     "iopub.status.idle": "2020-12-22T11:56:10.211719Z",
     "shell.execute_reply": "2020-12-22T11:56:10.211233Z"
    },
    "papermill": {
     "duration": 0.031823,
     "end_time": "2020-12-22T11:56:10.211819",
     "exception": false,
     "start_time": "2020-12-22T11:56:10.179996",
     "status": "completed"
    },
    "tags": []
   },
   "outputs": [
    {
     "data": {
      "text/html": [
       "<div>\n",
       "<style scoped>\n",
       "    .dataframe tbody tr th:only-of-type {\n",
       "        vertical-align: middle;\n",
       "    }\n",
       "\n",
       "    .dataframe tbody tr th {\n",
       "        vertical-align: top;\n",
       "    }\n",
       "\n",
       "    .dataframe thead th {\n",
       "        text-align: right;\n",
       "    }\n",
       "</style>\n",
       "<table border=\"1\" class=\"dataframe\">\n",
       "  <thead>\n",
       "    <tr style=\"text-align: right;\">\n",
       "      <th>states</th>\n",
       "      <th>2020-07-01</th>\n",
       "      <th>2020-07-02</th>\n",
       "      <th>2020-07-03</th>\n",
       "      <th>2020-07-04</th>\n",
       "      <th>2020-07-05</th>\n",
       "      <th>2020-07-06</th>\n",
       "      <th>2020-07-07</th>\n",
       "      <th>2020-07-08</th>\n",
       "      <th>2020-07-09</th>\n",
       "      <th>2020-07-10</th>\n",
       "      <th>...</th>\n",
       "      <th>2020-12-13</th>\n",
       "      <th>2020-12-14</th>\n",
       "      <th>2020-12-15</th>\n",
       "      <th>2020-12-16</th>\n",
       "      <th>2020-12-17</th>\n",
       "      <th>2020-12-18</th>\n",
       "      <th>2020-12-19</th>\n",
       "      <th>2020-12-20</th>\n",
       "      <th>2020-12-21</th>\n",
       "      <th>2020-12-22</th>\n",
       "    </tr>\n",
       "    <tr>\n",
       "      <th>state</th>\n",
       "      <th></th>\n",
       "      <th></th>\n",
       "      <th></th>\n",
       "      <th></th>\n",
       "      <th></th>\n",
       "      <th></th>\n",
       "      <th></th>\n",
       "      <th></th>\n",
       "      <th></th>\n",
       "      <th></th>\n",
       "      <th></th>\n",
       "      <th></th>\n",
       "      <th></th>\n",
       "      <th></th>\n",
       "      <th></th>\n",
       "      <th></th>\n",
       "      <th></th>\n",
       "      <th></th>\n",
       "      <th></th>\n",
       "      <th></th>\n",
       "      <th></th>\n",
       "    </tr>\n",
       "  </thead>\n",
       "  <tbody>\n",
       "    <tr>\n",
       "      <th>Telangana</th>\n",
       "      <td>0</td>\n",
       "      <td>1213</td>\n",
       "      <td>1892</td>\n",
       "      <td>1850</td>\n",
       "      <td>1590</td>\n",
       "      <td>1831</td>\n",
       "      <td>1879</td>\n",
       "      <td>1924</td>\n",
       "      <td>1410</td>\n",
       "      <td>1278</td>\n",
       "      <td>...</td>\n",
       "      <td>573</td>\n",
       "      <td>384</td>\n",
       "      <td>491</td>\n",
       "      <td>536</td>\n",
       "      <td>509</td>\n",
       "      <td>551</td>\n",
       "      <td>627</td>\n",
       "      <td>592</td>\n",
       "      <td>316</td>\n",
       "      <td>617</td>\n",
       "    </tr>\n",
       "    <tr>\n",
       "      <th>Odisha</th>\n",
       "      <td>0</td>\n",
       "      <td>229</td>\n",
       "      <td>561</td>\n",
       "      <td>495</td>\n",
       "      <td>469</td>\n",
       "      <td>456</td>\n",
       "      <td>571</td>\n",
       "      <td>527</td>\n",
       "      <td>577</td>\n",
       "      <td>755</td>\n",
       "      <td>...</td>\n",
       "      <td>393</td>\n",
       "      <td>332</td>\n",
       "      <td>300</td>\n",
       "      <td>407</td>\n",
       "      <td>351</td>\n",
       "      <td>358</td>\n",
       "      <td>356</td>\n",
       "      <td>372</td>\n",
       "      <td>363</td>\n",
       "      <td>319</td>\n",
       "    </tr>\n",
       "    <tr>\n",
       "      <th>Tripura</th>\n",
       "      <td>0</td>\n",
       "      <td>39</td>\n",
       "      <td>93</td>\n",
       "      <td>25</td>\n",
       "      <td>23</td>\n",
       "      <td>111</td>\n",
       "      <td>24</td>\n",
       "      <td>57</td>\n",
       "      <td>16</td>\n",
       "      <td>142</td>\n",
       "      <td>...</td>\n",
       "      <td>23</td>\n",
       "      <td>10</td>\n",
       "      <td>9</td>\n",
       "      <td>24</td>\n",
       "      <td>17</td>\n",
       "      <td>21</td>\n",
       "      <td>26</td>\n",
       "      <td>22</td>\n",
       "      <td>8</td>\n",
       "      <td>13</td>\n",
       "    </tr>\n",
       "    <tr>\n",
       "      <th>Mizoram</th>\n",
       "      <td>0</td>\n",
       "      <td>2</td>\n",
       "      <td>0</td>\n",
       "      <td>2</td>\n",
       "      <td>22</td>\n",
       "      <td>11</td>\n",
       "      <td>1</td>\n",
       "      <td>5</td>\n",
       "      <td>0</td>\n",
       "      <td>23</td>\n",
       "      <td>...</td>\n",
       "      <td>11</td>\n",
       "      <td>5</td>\n",
       "      <td>9</td>\n",
       "      <td>31</td>\n",
       "      <td>5</td>\n",
       "      <td>9</td>\n",
       "      <td>16</td>\n",
       "      <td>12</td>\n",
       "      <td>2</td>\n",
       "      <td>9</td>\n",
       "    </tr>\n",
       "    <tr>\n",
       "      <th>Dadra and Nagar Haveli and Daman and Diu</th>\n",
       "      <td>0</td>\n",
       "      <td>25</td>\n",
       "      <td>50</td>\n",
       "      <td>37</td>\n",
       "      <td>32</td>\n",
       "      <td>27</td>\n",
       "      <td>27</td>\n",
       "      <td>15</td>\n",
       "      <td>14</td>\n",
       "      <td>14</td>\n",
       "      <td>...</td>\n",
       "      <td>0</td>\n",
       "      <td>0</td>\n",
       "      <td>0</td>\n",
       "      <td>1</td>\n",
       "      <td>1</td>\n",
       "      <td>1</td>\n",
       "      <td>1</td>\n",
       "      <td>0</td>\n",
       "      <td>0</td>\n",
       "      <td>1</td>\n",
       "    </tr>\n",
       "  </tbody>\n",
       "</table>\n",
       "<p>5 rows × 175 columns</p>\n",
       "</div>"
      ],
      "text/plain": [
       "states                                    2020-07-01  2020-07-02  2020-07-03  \\\n",
       "state                                                                          \n",
       "Telangana                                          0        1213        1892   \n",
       "Odisha                                             0         229         561   \n",
       "Tripura                                            0          39          93   \n",
       "Mizoram                                            0           2           0   \n",
       "Dadra and Nagar Haveli and Daman and Diu           0          25          50   \n",
       "\n",
       "states                                    2020-07-04  2020-07-05  2020-07-06  \\\n",
       "state                                                                          \n",
       "Telangana                                       1850        1590        1831   \n",
       "Odisha                                           495         469         456   \n",
       "Tripura                                           25          23         111   \n",
       "Mizoram                                            2          22          11   \n",
       "Dadra and Nagar Haveli and Daman and Diu          37          32          27   \n",
       "\n",
       "states                                    2020-07-07  2020-07-08  2020-07-09  \\\n",
       "state                                                                          \n",
       "Telangana                                       1879        1924        1410   \n",
       "Odisha                                           571         527         577   \n",
       "Tripura                                           24          57          16   \n",
       "Mizoram                                            1           5           0   \n",
       "Dadra and Nagar Haveli and Daman and Diu          27          15          14   \n",
       "\n",
       "states                                    2020-07-10  ...  2020-12-13  \\\n",
       "state                                                 ...               \n",
       "Telangana                                       1278  ...         573   \n",
       "Odisha                                           755  ...         393   \n",
       "Tripura                                          142  ...          23   \n",
       "Mizoram                                           23  ...          11   \n",
       "Dadra and Nagar Haveli and Daman and Diu          14  ...           0   \n",
       "\n",
       "states                                    2020-12-14  2020-12-15  2020-12-16  \\\n",
       "state                                                                          \n",
       "Telangana                                        384         491         536   \n",
       "Odisha                                           332         300         407   \n",
       "Tripura                                           10           9          24   \n",
       "Mizoram                                            5           9          31   \n",
       "Dadra and Nagar Haveli and Daman and Diu           0           0           1   \n",
       "\n",
       "states                                    2020-12-17  2020-12-18  2020-12-19  \\\n",
       "state                                                                          \n",
       "Telangana                                        509         551         627   \n",
       "Odisha                                           351         358         356   \n",
       "Tripura                                           17          21          26   \n",
       "Mizoram                                            5           9          16   \n",
       "Dadra and Nagar Haveli and Daman and Diu           1           1           1   \n",
       "\n",
       "states                                    2020-12-20  2020-12-21  2020-12-22  \n",
       "state                                                                         \n",
       "Telangana                                        592         316         617  \n",
       "Odisha                                           372         363         319  \n",
       "Tripura                                           22           8          13  \n",
       "Mizoram                                           12           2           9  \n",
       "Dadra and Nagar Haveli and Daman and Diu           0           0           1  \n",
       "\n",
       "[5 rows x 175 columns]"
      ]
     },
     "execution_count": 18,
     "metadata": {},
     "output_type": "execute_result"
    }
   ],
   "source": [
    "#hide\n",
    "dft_ct_new_cases.head()"
   ]
  },
  {
   "cell_type": "code",
   "execution_count": 19,
   "metadata": {
    "execution": {
     "iopub.execute_input": "2020-12-22T11:56:10.256156Z",
     "iopub.status.busy": "2020-12-22T11:56:10.250880Z",
     "iopub.status.idle": "2020-12-22T11:56:15.526423Z",
     "shell.execute_reply": "2020-12-22T11:56:15.526832Z"
    },
    "papermill": {
     "duration": 5.299664,
     "end_time": "2020-12-22T11:56:15.526977",
     "exception": false,
     "start_time": "2020-12-22T11:56:10.227313",
     "status": "completed"
    },
    "tags": []
   },
   "outputs": [
    {
     "data": {
      "image/png": "[encoded data removed]",
      "text/plain": [
       "<Figure size 1296x2016 with 11 Axes>"
      ]
     },
     "metadata": {
      "needs_background": "light"
     },
     "output_type": "display_data"
    }
   ],
   "source": [
    "#hide_input\n",
    "df = dft_ct_new_cases.copy()\n",
    "df.loc['Total'] = df.sum()\n",
    "n = 5\n",
    "ax = []\n",
    "fig = plt.figure(figsize = (18,28))\n",
    "gs = fig.add_gridspec(n+2, 5)\n",
    "# gs = fig.add_gridspec(2, 3)\n",
    "ax1 = fig.add_subplot(gs[0, :])\n",
    "ef = df.loc['Total'].rename_axis('date').reset_index()\n",
    "ef['date'] = ef['date'].astype('datetime64[ns]')\n",
    "ax1.bar(ef.date,ef.Total,alpha=0.3,color='#007acc')\n",
    "ax1.plot(ef.date,ef.Total , marker=\"o\", color='#007acc')\n",
    "ax1.xaxis.set_major_locator(mdates.WeekdayLocator())\n",
    "ax1.xaxis.set_major_formatter(mdates.DateFormatter('%b %d'))\n",
    "ax1.text(0.02, 0.5,'India daily case count', transform = ax1.transAxes, fontsize=25);\n",
    "ax1.spines['right'].set_visible(False)\n",
    "ax1.spines['top'].set_visible(False)\n",
    "\n",
    "ax2 = fig.add_subplot(gs[1,0])\n",
    "ef = df.loc['Maharashtra'].rename_axis('date').reset_index()\n",
    "ef['date'] = ef['date'].astype('datetime64[ns]')\n",
    "\n",
    "ax2.bar(ef.date, ef.Maharashtra,color = '#007acc',alpha=0.5)\n",
    "ax2.xaxis.set_major_locator(mdates.WeekdayLocator())\n",
    "ax2.xaxis.set_major_formatter(mdates.DateFormatter('%b %d'))\n",
    "ax2.set_xticks(ax2.get_xticks()[::3])\n",
    "maxyval = ef.Maharashtra.max()\n",
    "ax2.set_ylim([0,maxyval])\n",
    "ax2.text(0.05, 0.9,'Maharashtra', transform = ax2.transAxes, fontsize=20);\n",
    "ax2.spines['right'].set_visible(False)\n",
    "ax2.spines['top'].set_visible(False)\n",
    "\n",
    "\n",
    "ax3 = fig.add_subplot(gs[1,1])\n",
    "ef = df.loc['Tamil Nadu'].rename_axis('date').reset_index()\n",
    "ef['date'] = ef['date'].astype('datetime64[ns]')\n",
    "ax3.bar(ef.date, ef['Tamil Nadu'],color = '#007acc',alpha=0.5,)\n",
    "ax3.xaxis.set_major_locator(mdates.WeekdayLocator())\n",
    "ax3.xaxis.set_major_formatter(mdates.DateFormatter('%b %d'))\n",
    "ax3.set_xticks(ax3.get_xticks()[::3])\n",
    "ax3.text(0.05, 0.9,'Tamil Nadu', transform = ax3.transAxes, fontsize=20);\n",
    "ax3.spines['right'].set_visible(False)\n",
    "ax3.spines['top'].set_visible(False)\n",
    "\n",
    "ax5 = fig.add_subplot(gs[1,3])\n",
    "ef = df.loc['Telangana'].rename_axis('date').reset_index()\n",
    "ef['date'] = ef['date'].astype('datetime64[ns]')\n",
    "ax5.bar(ef.date, ef['Telangana'],color = '#007acc',alpha=0.5,)\n",
    "ax5.xaxis.set_major_locator(mdates.WeekdayLocator())\n",
    "ax5.xaxis.set_major_formatter(mdates.DateFormatter('%b %d'))\n",
    "ax5.set_xticks(ax5.get_xticks()[::3])\n",
    "ax5.text(0.05, 0.9,'Telangana', transform = ax5.transAxes, fontsize=20);\n",
    "ax5.spines['right'].set_visible(False)\n",
    "ax5.spines['top'].set_visible(False)\n",
    "\n",
    "ax6 = fig.add_subplot(gs[1,4])\n",
    "ef = df.loc['Andhra Pradesh'].rename_axis('date').reset_index()\n",
    "ef['date'] = ef['date'].astype('datetime64[ns]')\n",
    "ax6.bar(ef.date, ef['Andhra Pradesh'],color = '#007acc',alpha=0.5,)\n",
    "ax6.xaxis.set_major_locator(mdates.WeekdayLocator())\n",
    "ax6.xaxis.set_major_formatter(mdates.DateFormatter('%b %d'))\n",
    "ax6.set_xticks(ax6.get_xticks()[::3])\n",
    "ax6.text(0.05, 1,'Andhra Pradesh', transform = ax6.transAxes, fontsize=20);\n",
    "ax6.spines['right'].set_visible(False)\n",
    "ax6.spines['top'].set_visible(False)\n",
    "\n",
    "ax4 = fig.add_subplot(gs[1,2])\n",
    "ef = df.loc['Delhi'].rename_axis('date').reset_index()\n",
    "ef['date'] = ef['date'].astype('datetime64[ns]')\n",
    "ax4.bar(ef.date, ef.Delhi,color = '#007acc',alpha=0.5)\n",
    "ax4.set_xticks([])\n",
    "ax4.xaxis.set_major_locator(mdates.WeekdayLocator())\n",
    "ax4.xaxis.set_major_formatter(mdates.DateFormatter('%b %d'))\n",
    "ax4.set_xticks(ax4.get_xticks()[::3])\n",
    "ax4.spines['right'].set_visible(False)\n",
    "ax4.spines['top'].set_visible(False)\n",
    "\n",
    "ax4.text(0.05, 1,'Delhi', transform = ax4.transAxes, fontsize=20)\n",
    "\n",
    "for i in range(n):\n",
    "    \n",
    "    ax.append(fig.add_subplot(gs[i+2,:]))\n",
    "    ef = df.iloc[i+3].rename_axis('date').reset_index()\n",
    "    ef['date'] = ef['date'].astype('datetime64[ns]')\n",
    "    ax[i].bar(ef.date,ef.iloc[:,-1],color = '#007acc',alpha=0.3)\n",
    "    ax[i].plot(ef.date,ef.iloc[:,-1],marker='o',color='#007acc')\n",
    "    ax[i].text(0.02,0.5,f'{ef.columns.values[-1]}',transform = ax[i].transAxes, fontsize = 20);\n",
    "    ax[i].xaxis.set_major_locator(mdates.WeekdayLocator())\n",
    "    ax[i].xaxis.set_major_formatter(mdates.DateFormatter('%b %d'))\n",
    "    ax[i].set_ylim([0,7000])\n",
    "    ax[i].spines['right'].set_visible(False)\n",
    "    ax[i].spines['top'].set_visible(False)\n",
    "plt.tight_layout()\n"
   ]
  },
  {
   "cell_type": "code",
   "execution_count": 20,
   "metadata": {
    "execution": {
     "iopub.execute_input": "2020-12-22T11:56:15.574311Z",
     "iopub.status.busy": "2020-12-22T11:56:15.573798Z",
     "iopub.status.idle": "2020-12-22T11:56:15.576688Z",
     "shell.execute_reply": "2020-12-22T11:56:15.577073Z"
    },
    "papermill": {
     "duration": 0.030373,
     "end_time": "2020-12-22T11:56:15.577202",
     "exception": false,
     "start_time": "2020-12-22T11:56:15.546829",
     "status": "completed"
    },
    "tags": []
   },
   "outputs": [
    {
     "name": "stdout",
     "output_type": "stream",
     "text": [
      "                                   states    Cases  Deaths   PCases  PDeaths  Cases (+)  Deaths (+)  Fatality Rate\n",
      "                              Maharashtra  1899352   48801  1899352    48801          0           0           2.57\n",
      "                                Karnataka   910241   12016   910241    12016          0           0           1.32\n",
      "                           Andhra Pradesh   878937    7078   878937     7078          0           0           0.81\n",
      "                               Tamil Nadu   807962   11995   807962    11995          0           0           1.48\n",
      "                                   Kerala   709293    2844   709293     2844          0           0           0.40\n",
      "                                    Delhi   617808   10304   617808    10304          0           0           1.67\n",
      "                            Uttar Pradesh   575621    8212   575621     8212          0           0           1.43\n",
      "                              West Bengal   538343    9401   538343     9401          0           0           1.75\n",
      "                                   Odisha   326915    1896   326596     1892        319           4           0.58\n",
      "                                Rajasthan   299909    2626   299909     2626          0           0           0.88\n",
      "                                Telangana   282347    1518   281730     1515        617           3           0.54\n",
      "                             Chhattisgarh   268477    3199   268477     3199          0           0           1.19\n",
      "                                  Haryana   258197    2832   258197     2832          0           0           1.10\n",
      "                                    Bihar   247531    1358   247531     1358          0           0           0.55\n",
      "                                  Gujarat   236259    4241   236259     4241          0           0           1.80\n",
      "                           Madhya Pradesh   232319    3490   232319     3490          0           0           1.50\n",
      "                                    Assam   215510    1020   215510     1020          0           0           0.47\n",
      "                                   Punjab   163378    5212   163378     5212          0           0           3.19\n",
      "                        Jammu and Kashmir   118495    1844   118495     1844          0           0           1.56\n",
      "                                Jharkhand   113198    1011   113198     1011          0           0           0.89\n",
      "                              Uttarakhand    86765    1426    86765     1426          0           0           1.64\n",
      "                         Himachal Pradesh    52623     873    52623      873          0           0           1.66\n",
      "                                      Goa    50143     723    50143      723          0           0           1.44\n",
      "                               Puducherry    37762     627    37762      627          0           0           1.66\n",
      "                                  Tripura    33185     377    33172      377         13           0           1.14\n",
      "                                  Manipur    27684     337    27684      337          0           0           1.22\n",
      "                               Chandigarh    19128     310    19128      310          0           0           1.62\n",
      "                        Arunachal Pradesh    16652      56    16652       56          0           0           0.34\n",
      "                                Meghalaya    13258     134    13258      134          0           0           1.01\n",
      "                                 Nagaland    11858      73    11858       73          0           0           0.62\n",
      "                                   Ladakh     9286     125     9286      125          0           0           1.35\n",
      "                                   Sikkim     5576     124     5576      124          0           0           2.22\n",
      "              Andaman and Nicobar Islands     4888      62     4888       62          0           0           1.27\n",
      "                                  Mizoram     4133       7     4124        7          9           0           0.17\n",
      " Dadra and Nagar Haveli and Daman and Diu     3354       2     3353        2          1           0           0.06\n",
      "                              Lakshadweep        0       0        0        0          0           0            NaN\n"
     ]
    }
   ],
   "source": [
    "#hide_input\n",
    "print(df_table.to_string(index=False))"
   ]
  },
  {
   "cell_type": "code",
   "execution_count": null,
   "metadata": {
    "papermill": {
     "duration": 0.019594,
     "end_time": "2020-12-22T11:56:15.616494",
     "exception": false,
     "start_time": "2020-12-22T11:56:15.596900",
     "status": "completed"
    },
    "tags": []
   },
   "outputs": [],
   "source": []
  },
  {
   "cell_type": "code",
   "execution_count": null,
   "metadata": {
    "papermill": {
     "duration": 0.019661,
     "end_time": "2020-12-22T11:56:15.655869",
     "exception": false,
     "start_time": "2020-12-22T11:56:15.636208",
     "status": "completed"
    },
    "tags": []
   },
   "outputs": [],
   "source": []
  }
 ],
 "metadata": {
  "kernelspec": {
   "display_name": "Python 3",
   "language": "python",
   "name": "python3"
  },
  "language_info": {
   "codemirror_mode": {
    "name": "ipython",
    "version": 3
   },
   "file_extension": ".py",
   "mimetype": "text/x-python",
   "name": "python",
   "nbconvert_exporter": "python",
   "pygments_lexer": "ipython3",
   "version": "3.6.12"
  },
  "papermill": {
   "duration": 12.697878,
   "end_time": "2020-12-22T11:56:16.183098",
   "environment_variables": {},
   "exception": null,
   "input_path": "latest.ipynb",
   "output_path": "latest.ipynb",
   "parameters": {},
   "start_time": "2020-12-22T11:56:03.485220",
   "version": "2.1.2"
  }
 },
 "nbformat": 4,
 "nbformat_minor": 4
}