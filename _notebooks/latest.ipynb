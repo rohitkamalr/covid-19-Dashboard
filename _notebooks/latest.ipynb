{
 "cells": [
  {
   "cell_type": "markdown",
   "metadata": {
    "papermill": {
     "duration": 0.02207,
     "end_time": "2020-08-14T14:37:13.899595",
     "exception": false,
     "start_time": "2020-08-14T14:37:13.877525",
     "status": "completed"
    },
    "tags": []
   },
   "source": [
    "# Latest COVID-19 India Matplotlib Overview"
   ]
  },
  {
   "cell_type": "code",
   "execution_count": 1,
   "metadata": {
    "execution": {
     "iopub.execute_input": "2020-08-14T14:37:13.937389Z",
     "iopub.status.busy": "2020-08-14T14:37:13.936802Z",
     "iopub.status.idle": "2020-08-14T14:37:14.513864Z",
     "shell.execute_reply": "2020-08-14T14:37:14.512839Z"
    },
    "papermill": {
     "duration": 0.598592,
     "end_time": "2020-08-14T14:37:14.514029",
     "exception": false,
     "start_time": "2020-08-14T14:37:13.915437",
     "status": "completed"
    },
    "tags": []
   },
   "outputs": [],
   "source": [
    "#hide\n",
    "import pandas as pd\n",
    "import numpy as np\n",
    "import requests\n",
    "import json\n",
    "import matplotlib.pyplot as plt\n",
    "import matplotlib.dates as mdates\n",
    "import matplotlib as mpl\n",
    "from IPython.core.display import display,HTML\n",
    "%matplotlib inline\n",
    "from datetime import date"
   ]
  },
  {
   "cell_type": "code",
   "execution_count": 2,
   "metadata": {
    "execution": {
     "iopub.execute_input": "2020-08-14T14:37:14.801872Z",
     "iopub.status.busy": "2020-08-14T14:37:14.801246Z",
     "iopub.status.idle": "2020-08-14T14:37:15.080940Z",
     "shell.execute_reply": "2020-08-14T14:37:15.081449Z"
    },
    "papermill": {
     "duration": 0.551677,
     "end_time": "2020-08-14T14:37:15.081607",
     "exception": false,
     "start_time": "2020-08-14T14:37:14.529930",
     "status": "completed"
    },
    "tags": []
   },
   "outputs": [],
   "source": [
    "#hide\n",
    "df  = pd.read_csv('https://api.covid19india.org/csv/latest/states.csv')\n",
    "df = df[['Date','State','Confirmed','Deceased']]\n",
    "df = df.rename(columns={'Confirmed':'Cases', \"Deceased\":'Deaths'})\n",
    "df_cases = df[[\"Date\",'State','Cases']]\n",
    "df_deaths = df[['Date','State','Deaths']]\n",
    "df_cases1 = df_cases.groupby('Date')\n",
    "df_deaths1= df_deaths.groupby('Date')"
   ]
  },
  {
   "cell_type": "code",
   "execution_count": 3,
   "metadata": {
    "execution": {
     "iopub.execute_input": "2020-08-14T14:37:15.121698Z",
     "iopub.status.busy": "2020-08-14T14:37:15.121106Z",
     "iopub.status.idle": "2020-08-14T14:37:15.139452Z",
     "shell.execute_reply": "2020-08-14T14:37:15.138896Z"
    },
    "papermill": {
     "duration": 0.042269,
     "end_time": "2020-08-14T14:37:15.139575",
     "exception": false,
     "start_time": "2020-08-14T14:37:15.097306",
     "status": "completed"
    },
    "tags": []
   },
   "outputs": [],
   "source": [
    "#hide\n",
    "df_snap = pd.read_csv('data/SnapshotCases-28-July.csv')\n",
    "arr_states = df_snap['states'].unique()\n",
    "arr_dates = df['Date'].unique()\n",
    "df_snap = df_snap.set_index('states')"
   ]
  },
  {
   "cell_type": "code",
   "execution_count": 4,
   "metadata": {
    "execution": {
     "iopub.execute_input": "2020-08-14T14:37:15.177931Z",
     "iopub.status.busy": "2020-08-14T14:37:15.177281Z",
     "iopub.status.idle": "2020-08-14T14:37:15.179578Z",
     "shell.execute_reply": "2020-08-14T14:37:15.180190Z"
    },
    "papermill": {
     "duration": 0.025546,
     "end_time": "2020-08-14T14:37:15.180342",
     "exception": false,
     "start_time": "2020-08-14T14:37:15.154796",
     "status": "completed"
    },
    "tags": []
   },
   "outputs": [
    {
     "data": {
      "text/plain": [
       "array(['Andaman and Nicobar Islands', 'Andhra Pradesh',\n",
       "       'Arunachal Pradesh', 'Assam', 'Bihar', 'Chandigarh',\n",
       "       'Dadra and Nagar Haveli and Daman and Diu', 'Delhi', 'Goa',\n",
       "       'Gujarat', 'Haryana', 'Himachal Pradesh', 'Jammu and Kashmir',\n",
       "       'Jharkhand', 'Karnataka', 'Kerala', 'Lakshadweep',\n",
       "       'Madhya Pradesh', 'Maharashtra', 'Manipur', 'Meghalaya', 'Mizoram',\n",
       "       'Nagaland', 'Odisha', 'Puducherry', 'Punjab', 'Rajasthan',\n",
       "       'Sikkim', 'Tamil Nadu', 'Telangana', 'Tripura', 'Uttar Pradesh',\n",
       "       'West Bengal', 'Chhattisgarh', 'Ladakh', 'Uttarakhand'],\n",
       "      dtype=object)"
      ]
     },
     "execution_count": 4,
     "metadata": {},
     "output_type": "execute_result"
    }
   ],
   "source": [
    "#hide\n",
    "arr_states[-9] = 'Puducherry'\n",
    "arr_states[-10] = 'Odisha'\n",
    "arr_states[6] = 'Dadra and Nagar Haveli and Daman and Diu'\n",
    "arr_states = np.append(arr_states,np.array(['Chhattisgarh','Ladakh','Uttarakhand']))\n",
    "arr_states"
   ]
  },
  {
   "cell_type": "code",
   "execution_count": 5,
   "metadata": {
    "execution": {
     "iopub.execute_input": "2020-08-14T14:37:15.220593Z",
     "iopub.status.busy": "2020-08-14T14:37:15.220001Z",
     "iopub.status.idle": "2020-08-14T14:37:15.231626Z",
     "shell.execute_reply": "2020-08-14T14:37:15.231090Z"
    },
    "papermill": {
     "duration": 0.035764,
     "end_time": "2020-08-14T14:37:15.231763",
     "exception": false,
     "start_time": "2020-08-14T14:37:15.195999",
     "status": "completed"
    },
    "tags": []
   },
   "outputs": [],
   "source": [
    "#hide\n",
    "dates = []\n",
    "for i in arr_dates:\n",
    "    if i>='2020-07-01':\n",
    "        dates.append(i)\n",
    "dict = {'states':dates}\n",
    "for i in arr_states:\n",
    "    dict[i] = [0]*len(dates)\n",
    "dft_cases = pd.DataFrame(dict)\n",
    "dft_deaths = pd.DataFrame(dict)\n"
   ]
  },
  {
   "cell_type": "code",
   "execution_count": 6,
   "metadata": {
    "execution": {
     "iopub.execute_input": "2020-08-14T14:37:15.270358Z",
     "iopub.status.busy": "2020-08-14T14:37:15.269774Z",
     "iopub.status.idle": "2020-08-14T14:37:15.883095Z",
     "shell.execute_reply": "2020-08-14T14:37:15.882576Z"
    },
    "papermill": {
     "duration": 0.635748,
     "end_time": "2020-08-14T14:37:15.883235",
     "exception": false,
     "start_time": "2020-08-14T14:37:15.247487",
     "status": "completed"
    },
    "tags": []
   },
   "outputs": [],
   "source": [
    "#hide\n",
    "for i in range(len(dates)):\n",
    "    df1_deaths = df_deaths1.get_group(dates[i])\n",
    "    for j in range(len(df1_deaths.index)):\n",
    "        if df1_deaths.iloc[j,1] in arr_states:\n",
    "            dft_deaths.loc[i,df1_deaths.iloc[j,1]] = df1_deaths.iloc[j,2]\n",
    "dft_deaths = dft_deaths.set_index('states')"
   ]
  },
  {
   "cell_type": "code",
   "execution_count": 7,
   "metadata": {
    "execution": {
     "iopub.execute_input": "2020-08-14T14:37:15.924924Z",
     "iopub.status.busy": "2020-08-14T14:37:15.924314Z",
     "iopub.status.idle": "2020-08-14T14:37:16.537575Z",
     "shell.execute_reply": "2020-08-14T14:37:16.536808Z"
    },
    "papermill": {
     "duration": 0.638893,
     "end_time": "2020-08-14T14:37:16.537773",
     "exception": false,
     "start_time": "2020-08-14T14:37:15.898880",
     "status": "completed"
    },
    "tags": []
   },
   "outputs": [],
   "source": [
    "#hide\n",
    "for i in range(len(dates)):\n",
    "    df1_cases = df_cases1.get_group(dates[i])\n",
    "    for j in range(len(df1_cases.index)):\n",
    "        if df1_cases.iloc[j,1] in arr_states:\n",
    "            dft_cases.loc[i,df1_cases.iloc[j,1]] = df1_cases.iloc[j,2]\n",
    "dft_cases = dft_cases.set_index('states')"
   ]
  },
  {
   "cell_type": "code",
   "execution_count": 8,
   "metadata": {
    "execution": {
     "iopub.execute_input": "2020-08-14T14:37:16.575080Z",
     "iopub.status.busy": "2020-08-14T14:37:16.574287Z",
     "iopub.status.idle": "2020-08-14T14:37:16.578681Z",
     "shell.execute_reply": "2020-08-14T14:37:16.578210Z"
    },
    "papermill": {
     "duration": 0.025425,
     "end_time": "2020-08-14T14:37:16.578806",
     "exception": false,
     "start_time": "2020-08-14T14:37:16.553381",
     "status": "completed"
    },
    "tags": []
   },
   "outputs": [],
   "source": [
    "#hide\n",
    "dft_cases = dft_cases.T\n",
    "dft_deaths = dft_deaths.T\n",
    "dt_today = dates[-1]\n",
    "dt_yday = dates[-2]"
   ]
  },
  {
   "cell_type": "code",
   "execution_count": 9,
   "metadata": {
    "execution": {
     "iopub.execute_input": "2020-08-14T14:37:16.621117Z",
     "iopub.status.busy": "2020-08-14T14:37:16.617322Z",
     "iopub.status.idle": "2020-08-14T14:37:16.623077Z",
     "shell.execute_reply": "2020-08-14T14:37:16.623641Z"
    },
    "papermill": {
     "duration": 0.029628,
     "end_time": "2020-08-14T14:37:16.623789",
     "exception": false,
     "start_time": "2020-08-14T14:37:16.594161",
     "status": "completed"
    },
    "tags": []
   },
   "outputs": [],
   "source": [
    "#hide\n",
    "dft_cases = dft_cases.reset_index()\n",
    "dft_deaths = dft_deaths.reset_index()\n",
    "dft_cases = dft_cases.rename(columns = {'index':'state'})\n",
    "dft_deaths = dft_deaths.rename(columns = {'index':'state'})"
   ]
  },
  {
   "cell_type": "code",
   "execution_count": 10,
   "metadata": {
    "execution": {
     "iopub.execute_input": "2020-08-14T14:37:16.668244Z",
     "iopub.status.busy": "2020-08-14T14:37:16.667628Z",
     "iopub.status.idle": "2020-08-14T14:37:16.669308Z",
     "shell.execute_reply": "2020-08-14T14:37:16.669741Z"
    },
    "papermill": {
     "duration": 0.030307,
     "end_time": "2020-08-14T14:37:16.669876",
     "exception": false,
     "start_time": "2020-08-14T14:37:16.639569",
     "status": "completed"
    },
    "tags": []
   },
   "outputs": [],
   "source": [
    "#hide\n",
    "dfc_cases = dft_cases.groupby('state')[dt_today].sum()\n",
    "dfc_deaths = dft_deaths.groupby('state')[dt_today].sum()\n",
    "dfp_cases = dft_cases.groupby('state')[dt_yday].sum()\n",
    "dfp_deaths = dft_deaths.groupby('state')[dt_yday].sum()"
   ]
  },
  {
   "cell_type": "code",
   "execution_count": 11,
   "metadata": {
    "execution": {
     "iopub.execute_input": "2020-08-14T14:37:16.712324Z",
     "iopub.status.busy": "2020-08-14T14:37:16.711744Z",
     "iopub.status.idle": "2020-08-14T14:37:16.718650Z",
     "shell.execute_reply": "2020-08-14T14:37:16.718188Z"
    },
    "papermill": {
     "duration": 0.034125,
     "end_time": "2020-08-14T14:37:16.718766",
     "exception": false,
     "start_time": "2020-08-14T14:37:16.684641",
     "status": "completed"
    },
    "tags": []
   },
   "outputs": [
    {
     "data": {
      "text/html": [
       "<div>\n",
       "<style scoped>\n",
       "    .dataframe tbody tr th:only-of-type {\n",
       "        vertical-align: middle;\n",
       "    }\n",
       "\n",
       "    .dataframe tbody tr th {\n",
       "        vertical-align: top;\n",
       "    }\n",
       "\n",
       "    .dataframe thead th {\n",
       "        text-align: right;\n",
       "    }\n",
       "</style>\n",
       "<table border=\"1\" class=\"dataframe\">\n",
       "  <thead>\n",
       "    <tr style=\"text-align: right;\">\n",
       "      <th></th>\n",
       "      <th>states</th>\n",
       "      <th>Cases</th>\n",
       "      <th>Deaths</th>\n",
       "      <th>PCases</th>\n",
       "      <th>PDeaths</th>\n",
       "    </tr>\n",
       "  </thead>\n",
       "  <tbody>\n",
       "    <tr>\n",
       "      <th>0</th>\n",
       "      <td>Maharashtra</td>\n",
       "      <td>560126</td>\n",
       "      <td>19063</td>\n",
       "      <td>560126</td>\n",
       "      <td>19063</td>\n",
       "    </tr>\n",
       "    <tr>\n",
       "      <th>1</th>\n",
       "      <td>Tamil Nadu</td>\n",
       "      <td>326245</td>\n",
       "      <td>5514</td>\n",
       "      <td>320355</td>\n",
       "      <td>5397</td>\n",
       "    </tr>\n",
       "    <tr>\n",
       "      <th>2</th>\n",
       "      <td>Andhra Pradesh</td>\n",
       "      <td>273085</td>\n",
       "      <td>2475</td>\n",
       "      <td>264142</td>\n",
       "      <td>2378</td>\n",
       "    </tr>\n",
       "    <tr>\n",
       "      <th>3</th>\n",
       "      <td>Karnataka</td>\n",
       "      <td>203200</td>\n",
       "      <td>3614</td>\n",
       "      <td>203200</td>\n",
       "      <td>3614</td>\n",
       "    </tr>\n",
       "    <tr>\n",
       "      <th>4</th>\n",
       "      <td>Delhi</td>\n",
       "      <td>150652</td>\n",
       "      <td>4178</td>\n",
       "      <td>149460</td>\n",
       "      <td>4167</td>\n",
       "    </tr>\n",
       "  </tbody>\n",
       "</table>\n",
       "</div>"
      ],
      "text/plain": [
       "           states   Cases  Deaths  PCases  PDeaths\n",
       "0     Maharashtra  560126   19063  560126    19063\n",
       "1      Tamil Nadu  326245    5514  320355     5397\n",
       "2  Andhra Pradesh  273085    2475  264142     2378\n",
       "3       Karnataka  203200    3614  203200     3614\n",
       "4           Delhi  150652    4178  149460     4167"
      ]
     },
     "execution_count": 11,
     "metadata": {},
     "output_type": "execute_result"
    }
   ],
   "source": [
    "#hide\n",
    "df_table = pd.DataFrame({'states': dfc_cases.index, 'Cases': dfc_cases.values, 'Deaths': dfc_deaths.values, 'PCases': dfp_cases.values, 'PDeaths': dfp_deaths.values}).set_index('states')\n",
    "df_table = df_table.sort_values(by = ['Cases','Deaths'], ascending = [False, False])\n",
    "df_table = df_table.reset_index()\n",
    "df_table.head()"
   ]
  },
  {
   "cell_type": "code",
   "execution_count": 12,
   "metadata": {
    "execution": {
     "iopub.execute_input": "2020-08-14T14:37:16.757243Z",
     "iopub.status.busy": "2020-08-14T14:37:16.756362Z",
     "iopub.status.idle": "2020-08-14T14:37:16.766847Z",
     "shell.execute_reply": "2020-08-14T14:37:16.766187Z"
    },
    "papermill": {
     "duration": 0.033299,
     "end_time": "2020-08-14T14:37:16.766976",
     "exception": false,
     "start_time": "2020-08-14T14:37:16.733677",
     "status": "completed"
    },
    "tags": []
   },
   "outputs": [],
   "source": [
    "#hide\n",
    "for c in 'Cases, Deaths'.split(', '):\n",
    "    df_table[f'{c} (+)'] = (df_table[c] - df_table[f'P{c}']).clip(0)\n",
    "df_table['Fatality Rate'] = (100* df_table['Deaths']/ df_table['Cases']).round(2)"
   ]
  },
  {
   "cell_type": "code",
   "execution_count": 13,
   "metadata": {
    "execution": {
     "iopub.execute_input": "2020-08-14T14:37:16.807437Z",
     "iopub.status.busy": "2020-08-14T14:37:16.806824Z",
     "iopub.status.idle": "2020-08-14T14:37:16.809102Z",
     "shell.execute_reply": "2020-08-14T14:37:16.809605Z"
    },
    "papermill": {
     "duration": 0.027715,
     "end_time": "2020-08-14T14:37:16.809729",
     "exception": false,
     "start_time": "2020-08-14T14:37:16.782014",
     "status": "completed"
    },
    "tags": []
   },
   "outputs": [
    {
     "data": {
      "text/html": [
       "<div>\n",
       "<style scoped>\n",
       "    .dataframe tbody tr th:only-of-type {\n",
       "        vertical-align: middle;\n",
       "    }\n",
       "\n",
       "    .dataframe tbody tr th {\n",
       "        vertical-align: top;\n",
       "    }\n",
       "\n",
       "    .dataframe thead th {\n",
       "        text-align: right;\n",
       "    }\n",
       "</style>\n",
       "<table border=\"1\" class=\"dataframe\">\n",
       "  <thead>\n",
       "    <tr style=\"text-align: right;\">\n",
       "      <th></th>\n",
       "      <th>states</th>\n",
       "      <th>Cases</th>\n",
       "      <th>Deaths</th>\n",
       "      <th>PCases</th>\n",
       "      <th>PDeaths</th>\n",
       "      <th>Cases (+)</th>\n",
       "      <th>Deaths (+)</th>\n",
       "      <th>Fatality Rate</th>\n",
       "    </tr>\n",
       "  </thead>\n",
       "  <tbody>\n",
       "    <tr>\n",
       "      <th>0</th>\n",
       "      <td>Maharashtra</td>\n",
       "      <td>560126</td>\n",
       "      <td>19063</td>\n",
       "      <td>560126</td>\n",
       "      <td>19063</td>\n",
       "      <td>0</td>\n",
       "      <td>0</td>\n",
       "      <td>3.40</td>\n",
       "    </tr>\n",
       "    <tr>\n",
       "      <th>1</th>\n",
       "      <td>Tamil Nadu</td>\n",
       "      <td>326245</td>\n",
       "      <td>5514</td>\n",
       "      <td>320355</td>\n",
       "      <td>5397</td>\n",
       "      <td>5890</td>\n",
       "      <td>117</td>\n",
       "      <td>1.69</td>\n",
       "    </tr>\n",
       "    <tr>\n",
       "      <th>2</th>\n",
       "      <td>Andhra Pradesh</td>\n",
       "      <td>273085</td>\n",
       "      <td>2475</td>\n",
       "      <td>264142</td>\n",
       "      <td>2378</td>\n",
       "      <td>8943</td>\n",
       "      <td>97</td>\n",
       "      <td>0.91</td>\n",
       "    </tr>\n",
       "    <tr>\n",
       "      <th>3</th>\n",
       "      <td>Karnataka</td>\n",
       "      <td>203200</td>\n",
       "      <td>3614</td>\n",
       "      <td>203200</td>\n",
       "      <td>3614</td>\n",
       "      <td>0</td>\n",
       "      <td>0</td>\n",
       "      <td>1.78</td>\n",
       "    </tr>\n",
       "    <tr>\n",
       "      <th>4</th>\n",
       "      <td>Delhi</td>\n",
       "      <td>150652</td>\n",
       "      <td>4178</td>\n",
       "      <td>149460</td>\n",
       "      <td>4167</td>\n",
       "      <td>1192</td>\n",
       "      <td>11</td>\n",
       "      <td>2.77</td>\n",
       "    </tr>\n",
       "  </tbody>\n",
       "</table>\n",
       "</div>"
      ],
      "text/plain": [
       "           states   Cases  Deaths  PCases  PDeaths  Cases (+)  Deaths (+)  \\\n",
       "0     Maharashtra  560126   19063  560126    19063          0           0   \n",
       "1      Tamil Nadu  326245    5514  320355     5397       5890         117   \n",
       "2  Andhra Pradesh  273085    2475  264142     2378       8943          97   \n",
       "3       Karnataka  203200    3614  203200     3614          0           0   \n",
       "4           Delhi  150652    4178  149460     4167       1192          11   \n",
       "\n",
       "   Fatality Rate  \n",
       "0           3.40  \n",
       "1           1.69  \n",
       "2           0.91  \n",
       "3           1.78  \n",
       "4           2.77  "
      ]
     },
     "execution_count": 13,
     "metadata": {},
     "output_type": "execute_result"
    }
   ],
   "source": [
    "#hide\n",
    "df_table.head()"
   ]
  },
  {
   "cell_type": "code",
   "execution_count": 14,
   "metadata": {
    "execution": {
     "iopub.execute_input": "2020-08-14T14:37:16.846207Z",
     "iopub.status.busy": "2020-08-14T14:37:16.845680Z",
     "iopub.status.idle": "2020-08-14T14:37:16.861220Z",
     "shell.execute_reply": "2020-08-14T14:37:16.860746Z"
    },
    "papermill": {
     "duration": 0.036913,
     "end_time": "2020-08-14T14:37:16.861333",
     "exception": false,
     "start_time": "2020-08-14T14:37:16.824420",
     "status": "completed"
    },
    "tags": []
   },
   "outputs": [
    {
     "data": {
      "text/plain": [
       "{'updated': '2020-08-14',\n",
       " 'since': '2020-08-13',\n",
       " 'Cases': 2492594,\n",
       " 'PCases': 2459612,\n",
       " 'Deaths': 48517,\n",
       " 'PDeaths': 48144,\n",
       " 'Cases (+)': 32982,\n",
       " 'Deaths (+)': 373}"
      ]
     },
     "execution_count": 14,
     "metadata": {},
     "output_type": "execute_result"
    }
   ],
   "source": [
    "#hide\n",
    "summary = {'updated':dates[-1], 'since':dates[-2]}\n",
    "list_names = ['Cases', 'PCases', 'Deaths', 'PDeaths', 'Cases (+)', 'Deaths (+)']\n",
    "for name in list_names:\n",
    "    summary[name] = df_table.sum()[name]\n",
    "summary"
   ]
  },
  {
   "cell_type": "code",
   "execution_count": 15,
   "metadata": {
    "execution": {
     "iopub.execute_input": "2020-08-14T14:37:16.900008Z",
     "iopub.status.busy": "2020-08-14T14:37:16.898884Z",
     "iopub.status.idle": "2020-08-14T14:37:16.903633Z",
     "shell.execute_reply": "2020-08-14T14:37:16.902725Z"
    },
    "papermill": {
     "duration": 0.026598,
     "end_time": "2020-08-14T14:37:16.903843",
     "exception": false,
     "start_time": "2020-08-14T14:37:16.877245",
     "status": "completed"
    },
    "tags": []
   },
   "outputs": [],
   "source": [
    "#hide\n",
    "overview = '''\n",
    "<!-- #######  HTML!! #########-->\n",
    "<h1 style=\"color: #5e9ca0; text-align: center;\">India</h1>\n",
    "<p style=\"text-align: center;\">Last update: <strong>{update}</strong></p>\n",
    "<p style=\"text-align: center;\">Confirmed cases:</p>\n",
    "<p style=\"text-align: center;font-size:24px;\">{cases} (<span style=\"color: #ff0000;\">+{new}</span>)</p>\n",
    "<p style=\"text-align: center;\">Confirmed deaths:</p>\n",
    "<p style=\"text-align: center;font-size:24px;\">{deaths} (<span style=\"color: #ff0000;\">+{dnew}</span>)</p>\n",
    "'''"
   ]
  },
  {
   "cell_type": "code",
   "execution_count": 16,
   "metadata": {
    "execution": {
     "iopub.execute_input": "2020-08-14T14:37:16.940064Z",
     "iopub.status.busy": "2020-08-14T14:37:16.939558Z",
     "iopub.status.idle": "2020-08-14T14:37:16.944849Z",
     "shell.execute_reply": "2020-08-14T14:37:16.945290Z"
    },
    "papermill": {
     "duration": 0.025778,
     "end_time": "2020-08-14T14:37:16.945401",
     "exception": false,
     "start_time": "2020-08-14T14:37:16.919623",
     "status": "completed"
    },
    "tags": []
   },
   "outputs": [
    {
     "data": {
      "text/html": [
       "\n",
       "<!-- #######  HTML!! #########-->\n",
       "<h1 style=\"color: #5e9ca0; text-align: center;\">India</h1>\n",
       "<p style=\"text-align: center;\">Last update: <strong>2020-08-14</strong></p>\n",
       "<p style=\"text-align: center;\">Confirmed cases:</p>\n",
       "<p style=\"text-align: center;font-size:24px;\">2492594 (<span style=\"color: #ff0000;\">+32982</span>)</p>\n",
       "<p style=\"text-align: center;\">Confirmed deaths:</p>\n",
       "<p style=\"text-align: center;font-size:24px;\">48517 (<span style=\"color: #ff0000;\">+373</span>)</p>\n"
      ],
      "text/plain": [
       "<IPython.core.display.HTML object>"
      ]
     },
     "metadata": {},
     "output_type": "display_data"
    }
   ],
   "source": [
    "#hide_input\n",
    "update = summary['updated']\n",
    "cases = summary['Cases']\n",
    "new = summary['Cases (+)']\n",
    "deaths = summary['Deaths']\n",
    "dnew = summary['Deaths (+)']\n",
    "\n",
    "html = HTML(overview.format(update=update, cases=cases,new=new,deaths=deaths,dnew=dnew))\n",
    "\n",
    "display(html)"
   ]
  },
  {
   "cell_type": "code",
   "execution_count": 17,
   "metadata": {
    "execution": {
     "iopub.execute_input": "2020-08-14T14:37:16.987705Z",
     "iopub.status.busy": "2020-08-14T14:37:16.987138Z",
     "iopub.status.idle": "2020-08-14T14:37:16.991507Z",
     "shell.execute_reply": "2020-08-14T14:37:16.991981Z"
    },
    "papermill": {
     "duration": 0.029553,
     "end_time": "2020-08-14T14:37:16.992105",
     "exception": false,
     "start_time": "2020-08-14T14:37:16.962552",
     "status": "completed"
    },
    "tags": []
   },
   "outputs": [],
   "source": [
    "#hide\n",
    "dt_cols = list(dft_cases.columns[1:])\n",
    "dft_ct_new_cases = dft_cases.groupby('state')[dt_cols].sum().diff(axis=1).fillna(0).astype(int)\n",
    "dft_ct_new_cases.sort_values(by = dates[-1], ascending = False,inplace = True)"
   ]
  },
  {
   "cell_type": "code",
   "execution_count": 18,
   "metadata": {
    "execution": {
     "iopub.execute_input": "2020-08-14T14:37:17.034778Z",
     "iopub.status.busy": "2020-08-14T14:37:17.034203Z",
     "iopub.status.idle": "2020-08-14T14:37:17.050154Z",
     "shell.execute_reply": "2020-08-14T14:37:17.049507Z"
    },
    "papermill": {
     "duration": 0.041337,
     "end_time": "2020-08-14T14:37:17.050322",
     "exception": false,
     "start_time": "2020-08-14T14:37:17.008985",
     "status": "completed"
    },
    "tags": []
   },
   "outputs": [
    {
     "data": {
      "text/html": [
       "<div>\n",
       "<style scoped>\n",
       "    .dataframe tbody tr th:only-of-type {\n",
       "        vertical-align: middle;\n",
       "    }\n",
       "\n",
       "    .dataframe tbody tr th {\n",
       "        vertical-align: top;\n",
       "    }\n",
       "\n",
       "    .dataframe thead th {\n",
       "        text-align: right;\n",
       "    }\n",
       "</style>\n",
       "<table border=\"1\" class=\"dataframe\">\n",
       "  <thead>\n",
       "    <tr style=\"text-align: right;\">\n",
       "      <th>states</th>\n",
       "      <th>2020-07-01</th>\n",
       "      <th>2020-07-02</th>\n",
       "      <th>2020-07-03</th>\n",
       "      <th>2020-07-04</th>\n",
       "      <th>2020-07-05</th>\n",
       "      <th>2020-07-06</th>\n",
       "      <th>2020-07-07</th>\n",
       "      <th>2020-07-08</th>\n",
       "      <th>2020-07-09</th>\n",
       "      <th>2020-07-10</th>\n",
       "      <th>...</th>\n",
       "      <th>2020-08-05</th>\n",
       "      <th>2020-08-06</th>\n",
       "      <th>2020-08-07</th>\n",
       "      <th>2020-08-08</th>\n",
       "      <th>2020-08-09</th>\n",
       "      <th>2020-08-10</th>\n",
       "      <th>2020-08-11</th>\n",
       "      <th>2020-08-12</th>\n",
       "      <th>2020-08-13</th>\n",
       "      <th>2020-08-14</th>\n",
       "    </tr>\n",
       "    <tr>\n",
       "      <th>state</th>\n",
       "      <th></th>\n",
       "      <th></th>\n",
       "      <th></th>\n",
       "      <th></th>\n",
       "      <th></th>\n",
       "      <th></th>\n",
       "      <th></th>\n",
       "      <th></th>\n",
       "      <th></th>\n",
       "      <th></th>\n",
       "      <th></th>\n",
       "      <th></th>\n",
       "      <th></th>\n",
       "      <th></th>\n",
       "      <th></th>\n",
       "      <th></th>\n",
       "      <th></th>\n",
       "      <th></th>\n",
       "      <th></th>\n",
       "      <th></th>\n",
       "      <th></th>\n",
       "    </tr>\n",
       "  </thead>\n",
       "  <tbody>\n",
       "    <tr>\n",
       "      <th>Andhra Pradesh</th>\n",
       "      <td>0</td>\n",
       "      <td>845</td>\n",
       "      <td>837</td>\n",
       "      <td>765</td>\n",
       "      <td>998</td>\n",
       "      <td>1322</td>\n",
       "      <td>1178</td>\n",
       "      <td>1062</td>\n",
       "      <td>1555</td>\n",
       "      <td>1608</td>\n",
       "      <td>...</td>\n",
       "      <td>10128</td>\n",
       "      <td>10328</td>\n",
       "      <td>10171</td>\n",
       "      <td>10080</td>\n",
       "      <td>10820</td>\n",
       "      <td>7665</td>\n",
       "      <td>9024</td>\n",
       "      <td>9597</td>\n",
       "      <td>9996</td>\n",
       "      <td>8943</td>\n",
       "    </tr>\n",
       "    <tr>\n",
       "      <th>Tamil Nadu</th>\n",
       "      <td>0</td>\n",
       "      <td>4343</td>\n",
       "      <td>4329</td>\n",
       "      <td>4280</td>\n",
       "      <td>4150</td>\n",
       "      <td>3827</td>\n",
       "      <td>3616</td>\n",
       "      <td>3756</td>\n",
       "      <td>4231</td>\n",
       "      <td>3680</td>\n",
       "      <td>...</td>\n",
       "      <td>5175</td>\n",
       "      <td>5684</td>\n",
       "      <td>5880</td>\n",
       "      <td>5883</td>\n",
       "      <td>5994</td>\n",
       "      <td>5914</td>\n",
       "      <td>5834</td>\n",
       "      <td>5871</td>\n",
       "      <td>5835</td>\n",
       "      <td>5890</td>\n",
       "    </tr>\n",
       "    <tr>\n",
       "      <th>Uttar Pradesh</th>\n",
       "      <td>0</td>\n",
       "      <td>769</td>\n",
       "      <td>972</td>\n",
       "      <td>757</td>\n",
       "      <td>1153</td>\n",
       "      <td>929</td>\n",
       "      <td>1332</td>\n",
       "      <td>1188</td>\n",
       "      <td>1206</td>\n",
       "      <td>1338</td>\n",
       "      <td>...</td>\n",
       "      <td>4078</td>\n",
       "      <td>4586</td>\n",
       "      <td>4404</td>\n",
       "      <td>4660</td>\n",
       "      <td>4571</td>\n",
       "      <td>4113</td>\n",
       "      <td>5041</td>\n",
       "      <td>4475</td>\n",
       "      <td>4537</td>\n",
       "      <td>4512</td>\n",
       "    </tr>\n",
       "    <tr>\n",
       "      <th>Bihar</th>\n",
       "      <td>0</td>\n",
       "      <td>478</td>\n",
       "      <td>426</td>\n",
       "      <td>349</td>\n",
       "      <td>403</td>\n",
       "      <td>280</td>\n",
       "      <td>385</td>\n",
       "      <td>749</td>\n",
       "      <td>704</td>\n",
       "      <td>352</td>\n",
       "      <td>...</td>\n",
       "      <td>2701</td>\n",
       "      <td>3416</td>\n",
       "      <td>3646</td>\n",
       "      <td>3992</td>\n",
       "      <td>3934</td>\n",
       "      <td>3021</td>\n",
       "      <td>4071</td>\n",
       "      <td>3741</td>\n",
       "      <td>3906</td>\n",
       "      <td>3911</td>\n",
       "    </tr>\n",
       "    <tr>\n",
       "      <th>Odisha</th>\n",
       "      <td>0</td>\n",
       "      <td>229</td>\n",
       "      <td>561</td>\n",
       "      <td>495</td>\n",
       "      <td>469</td>\n",
       "      <td>456</td>\n",
       "      <td>571</td>\n",
       "      <td>527</td>\n",
       "      <td>577</td>\n",
       "      <td>755</td>\n",
       "      <td>...</td>\n",
       "      <td>1337</td>\n",
       "      <td>1699</td>\n",
       "      <td>1833</td>\n",
       "      <td>1643</td>\n",
       "      <td>1734</td>\n",
       "      <td>1528</td>\n",
       "      <td>1341</td>\n",
       "      <td>1876</td>\n",
       "      <td>1981</td>\n",
       "      <td>1977</td>\n",
       "    </tr>\n",
       "  </tbody>\n",
       "</table>\n",
       "<p>5 rows × 45 columns</p>\n",
       "</div>"
      ],
      "text/plain": [
       "states          2020-07-01  2020-07-02  2020-07-03  2020-07-04  2020-07-05  \\\n",
       "state                                                                        \n",
       "Andhra Pradesh           0         845         837         765         998   \n",
       "Tamil Nadu               0        4343        4329        4280        4150   \n",
       "Uttar Pradesh            0         769         972         757        1153   \n",
       "Bihar                    0         478         426         349         403   \n",
       "Odisha                   0         229         561         495         469   \n",
       "\n",
       "states          2020-07-06  2020-07-07  2020-07-08  2020-07-09  2020-07-10  \\\n",
       "state                                                                        \n",
       "Andhra Pradesh        1322        1178        1062        1555        1608   \n",
       "Tamil Nadu            3827        3616        3756        4231        3680   \n",
       "Uttar Pradesh          929        1332        1188        1206        1338   \n",
       "Bihar                  280         385         749         704         352   \n",
       "Odisha                 456         571         527         577         755   \n",
       "\n",
       "states          ...  2020-08-05  2020-08-06  2020-08-07  2020-08-08  \\\n",
       "state           ...                                                   \n",
       "Andhra Pradesh  ...       10128       10328       10171       10080   \n",
       "Tamil Nadu      ...        5175        5684        5880        5883   \n",
       "Uttar Pradesh   ...        4078        4586        4404        4660   \n",
       "Bihar           ...        2701        3416        3646        3992   \n",
       "Odisha          ...        1337        1699        1833        1643   \n",
       "\n",
       "states          2020-08-09  2020-08-10  2020-08-11  2020-08-12  2020-08-13  \\\n",
       "state                                                                        \n",
       "Andhra Pradesh       10820        7665        9024        9597        9996   \n",
       "Tamil Nadu            5994        5914        5834        5871        5835   \n",
       "Uttar Pradesh         4571        4113        5041        4475        4537   \n",
       "Bihar                 3934        3021        4071        3741        3906   \n",
       "Odisha                1734        1528        1341        1876        1981   \n",
       "\n",
       "states          2020-08-14  \n",
       "state                       \n",
       "Andhra Pradesh        8943  \n",
       "Tamil Nadu            5890  \n",
       "Uttar Pradesh         4512  \n",
       "Bihar                 3911  \n",
       "Odisha                1977  \n",
       "\n",
       "[5 rows x 45 columns]"
      ]
     },
     "execution_count": 18,
     "metadata": {},
     "output_type": "execute_result"
    }
   ],
   "source": [
    "#hide\n",
    "dft_ct_new_cases.head()"
   ]
  },
  {
   "cell_type": "code",
   "execution_count": 19,
   "metadata": {
    "execution": {
     "iopub.execute_input": "2020-08-14T14:37:17.106696Z",
     "iopub.status.busy": "2020-08-14T14:37:17.106063Z",
     "iopub.status.idle": "2020-08-14T14:37:19.419921Z",
     "shell.execute_reply": "2020-08-14T14:37:19.421623Z"
    },
    "papermill": {
     "duration": 2.351868,
     "end_time": "2020-08-14T14:37:19.421805",
     "exception": false,
     "start_time": "2020-08-14T14:37:17.069937",
     "status": "completed"
    },
    "tags": []
   },
   "outputs": [
    {
     "data": {
      "image/png": "[encoded data removed]",
      "text/plain": [
       "<Figure size 1296x2016 with 11 Axes>"
      ]
     },
     "metadata": {
      "needs_background": "light"
     },
     "output_type": "display_data"
    }
   ],
   "source": [
    "#hide_input\n",
    "df = dft_ct_new_cases.copy()\n",
    "df.loc['Total'] = df.sum()\n",
    "n = 5\n",
    "ax = []\n",
    "fig = plt.figure(figsize = (18,28))\n",
    "gs = fig.add_gridspec(n+2, 5)\n",
    "# gs = fig.add_gridspec(2, 3)\n",
    "ax1 = fig.add_subplot(gs[0, :])\n",
    "ef = df.loc['Total'].rename_axis('date').reset_index()\n",
    "ef['date'] = ef['date'].astype('datetime64[ns]')\n",
    "ax1.bar(ef.date,ef.Total,alpha=0.3,color='#007acc')\n",
    "ax1.plot(ef.date,ef.Total , marker=\"o\", color='#007acc')\n",
    "ax1.xaxis.set_major_locator(mdates.WeekdayLocator())\n",
    "ax1.xaxis.set_major_formatter(mdates.DateFormatter('%b %d'))\n",
    "ax1.text(0.02, 0.5,'India daily case count', transform = ax1.transAxes, fontsize=25);\n",
    "ax1.spines['right'].set_visible(False)\n",
    "ax1.spines['top'].set_visible(False)\n",
    "\n",
    "ax2 = fig.add_subplot(gs[1,0])\n",
    "ef = df.loc['Maharashtra'].rename_axis('date').reset_index()\n",
    "ef['date'] = ef['date'].astype('datetime64[ns]')\n",
    "\n",
    "ax2.bar(ef.date, ef.Maharashtra,color = '#007acc',alpha=0.5)\n",
    "ax2.xaxis.set_major_locator(mdates.WeekdayLocator())\n",
    "ax2.xaxis.set_major_formatter(mdates.DateFormatter('%b %d'))\n",
    "ax2.set_xticks(ax2.get_xticks()[::3])\n",
    "maxyval = ef.Maharashtra.max()\n",
    "ax2.set_ylim([0,maxyval])\n",
    "ax2.text(0.05, 0.9,'Maharashtra', transform = ax2.transAxes, fontsize=20);\n",
    "ax2.spines['right'].set_visible(False)\n",
    "ax2.spines['top'].set_visible(False)\n",
    "\n",
    "\n",
    "ax3 = fig.add_subplot(gs[1,1])\n",
    "ef = df.loc['Tamil Nadu'].rename_axis('date').reset_index()\n",
    "ef['date'] = ef['date'].astype('datetime64[ns]')\n",
    "ax3.bar(ef.date, ef['Tamil Nadu'],color = '#007acc',alpha=0.5,)\n",
    "ax3.xaxis.set_major_locator(mdates.WeekdayLocator())\n",
    "ax3.xaxis.set_major_formatter(mdates.DateFormatter('%b %d'))\n",
    "ax3.set_xticks(ax3.get_xticks()[::3])\n",
    "ax3.text(0.05, 0.9,'Tamil Nadu', transform = ax3.transAxes, fontsize=20);\n",
    "ax3.spines['right'].set_visible(False)\n",
    "ax3.spines['top'].set_visible(False)\n",
    "\n",
    "ax5 = fig.add_subplot(gs[1,3])\n",
    "ef = df.loc['Telangana'].rename_axis('date').reset_index()\n",
    "ef['date'] = ef['date'].astype('datetime64[ns]')\n",
    "ax5.bar(ef.date, ef['Telangana'],color = '#007acc',alpha=0.5,)\n",
    "ax5.xaxis.set_major_locator(mdates.WeekdayLocator())\n",
    "ax5.xaxis.set_major_formatter(mdates.DateFormatter('%b %d'))\n",
    "ax5.set_xticks(ax5.get_xticks()[::3])\n",
    "ax5.text(0.05, 0.9,'Telangana', transform = ax5.transAxes, fontsize=20);\n",
    "ax5.spines['right'].set_visible(False)\n",
    "ax5.spines['top'].set_visible(False)\n",
    "\n",
    "ax6 = fig.add_subplot(gs[1,4])\n",
    "ef = df.loc['Andhra Pradesh'].rename_axis('date').reset_index()\n",
    "ef['date'] = ef['date'].astype('datetime64[ns]')\n",
    "ax6.bar(ef.date, ef['Andhra Pradesh'],color = '#007acc',alpha=0.5,)\n",
    "ax6.xaxis.set_major_locator(mdates.WeekdayLocator())\n",
    "ax6.xaxis.set_major_formatter(mdates.DateFormatter('%b %d'))\n",
    "ax6.set_xticks(ax6.get_xticks()[::3])\n",
    "ax6.text(0.05, 1,'Andhra Pradesh', transform = ax6.transAxes, fontsize=20);\n",
    "ax6.spines['right'].set_visible(False)\n",
    "ax6.spines['top'].set_visible(False)\n",
    "\n",
    "ax4 = fig.add_subplot(gs[1,2])\n",
    "ef = df.loc['Delhi'].rename_axis('date').reset_index()\n",
    "ef['date'] = ef['date'].astype('datetime64[ns]')\n",
    "ax4.bar(ef.date, ef.Delhi,color = '#007acc',alpha=0.5)\n",
    "ax4.set_xticks([])\n",
    "ax4.xaxis.set_major_locator(mdates.WeekdayLocator())\n",
    "ax4.xaxis.set_major_formatter(mdates.DateFormatter('%b %d'))\n",
    "ax4.set_xticks(ax4.get_xticks()[::3])\n",
    "ax4.spines['right'].set_visible(False)\n",
    "ax4.spines['top'].set_visible(False)\n",
    "\n",
    "ax4.text(0.05, 1,'Delhi', transform = ax4.transAxes, fontsize=20)\n",
    "\n",
    "for i in range(n):\n",
    "    \n",
    "    ax.append(fig.add_subplot(gs[i+2,:]))\n",
    "    ef = df.iloc[i+3].rename_axis('date').reset_index()\n",
    "    ef['date'] = ef['date'].astype('datetime64[ns]')\n",
    "    ax[i].bar(ef.date,ef.iloc[:,-1],color = '#007acc',alpha=0.3)\n",
    "    ax[i].plot(ef.date,ef.iloc[:,-1],marker='o',color='#007acc')\n",
    "    ax[i].text(0.02,0.5,f'{ef.columns.values[-1]}',transform = ax[i].transAxes, fontsize = 20);\n",
    "    ax[i].xaxis.set_major_locator(mdates.WeekdayLocator())\n",
    "    ax[i].xaxis.set_major_formatter(mdates.DateFormatter('%b %d'))\n",
    "    ax[i].set_ylim([0,7000])\n",
    "    ax[i].spines['right'].set_visible(False)\n",
    "    ax[i].spines['top'].set_visible(False)\n",
    "plt.tight_layout()\n"
   ]
  },
  {
   "cell_type": "code",
   "execution_count": 20,
   "metadata": {
    "execution": {
     "iopub.execute_input": "2020-08-14T14:37:19.472622Z",
     "iopub.status.busy": "2020-08-14T14:37:19.472053Z",
     "iopub.status.idle": "2020-08-14T14:37:19.475898Z",
     "shell.execute_reply": "2020-08-14T14:37:19.476334Z"
    },
    "papermill": {
     "duration": 0.032644,
     "end_time": "2020-08-14T14:37:19.476470",
     "exception": false,
     "start_time": "2020-08-14T14:37:19.443826",
     "status": "completed"
    },
    "tags": []
   },
   "outputs": [
    {
     "name": "stdout",
     "output_type": "stream",
     "text": [
      "                                   states   Cases  Deaths  PCases  PDeaths  Cases (+)  Deaths (+)  Fatality Rate\n",
      "                              Maharashtra  560126   19063  560126    19063          0           0           3.40\n",
      "                               Tamil Nadu  326245    5514  320355     5397       5890         117           1.69\n",
      "                           Andhra Pradesh  273085    2475  264142     2378       8943          97           0.91\n",
      "                                Karnataka  203200    3614  203200     3614          0           0           1.78\n",
      "                                    Delhi  150652    4178  149460     4167       1192          11           2.77\n",
      "                            Uttar Pradesh  145287    2335  140775     2280       4512          55           1.61\n",
      "                              West Bengal  107323    2259  107323     2259          0           0           2.10\n",
      "                                    Bihar   98370     500   94459      484       3911          16           0.51\n",
      "                                Telangana   88396     674   86475      665       1921           9           0.76\n",
      "                                  Gujarat   75482    2731   75482     2731          0           0           3.62\n",
      "                                    Assam   71796     169   71796      169          0           0           0.24\n",
      "                                Rajasthan   58027     845   57414      833        613          12           1.46\n",
      "                                   Odisha   54630     377   52653      367       1977          10           0.69\n",
      "                                  Haryana   44817     511   44817      511          0           0           1.14\n",
      "                           Madhya Pradesh   43414    1081   42618     1065        796          16           2.49\n",
      "                                   Kerala   41277     140   39708      130       1569          10           0.34\n",
      "                                   Punjab   27936     706   27936      706          0           0           2.53\n",
      "                        Jammu and Kashmir   27489     520   26949      509        540          11           1.89\n",
      "                                Jharkhand   20950     209   20950      209          0           0           1.00\n",
      "                             Chhattisgarh   14030     117   14030      117          0           0           0.83\n",
      "                              Uttarakhand   11302     143   11302      143          0           0           1.27\n",
      "                                      Goa   10739      93   10494       91        245           2           0.87\n",
      "                               Puducherry    6995     106    6680      102        315           4           1.52\n",
      "                                  Tripura    6782      46    6618       44        164           2           0.68\n",
      "                                  Manipur    4198      13    4112       13         86           0           0.31\n",
      "                         Himachal Pradesh    3852      18    3816       18         36           0           0.47\n",
      "                                 Nagaland    3322       7    3168        7        154           0           0.21\n",
      "                        Arunachal Pradesh    2512       4    2512        4          0           0           0.16\n",
      "              Andaman and Nicobar Islands    2037      22    2037       22          0           0           1.08\n",
      "                               Chandigarh    1928      29    1842       28         86           1           1.50\n",
      "                                   Ladakh    1849       9    1849        9          0           0           0.49\n",
      " Dadra and Nagar Haveli and Daman and Diu    1765       2    1741        2         24           0           0.11\n",
      "                                Meghalaya    1193       6    1193        6          0           0           0.50\n",
      "                                   Sikkim     931       1     931        1          0           0           0.11\n",
      "                                  Mizoram     657       0     649        0          8           0           0.00\n",
      "                              Lakshadweep       0       0       0        0          0           0            NaN\n"
     ]
    }
   ],
   "source": [
    "#hide_input\n",
    "print(df_table.to_string(index=False))"
   ]
  },
  {
   "cell_type": "code",
   "execution_count": null,
   "metadata": {
    "papermill": {
     "duration": 0.021298,
     "end_time": "2020-08-14T14:37:19.519483",
     "exception": false,
     "start_time": "2020-08-14T14:37:19.498185",
     "status": "completed"
    },
    "tags": []
   },
   "outputs": [],
   "source": []
  },
  {
   "cell_type": "code",
   "execution_count": null,
   "metadata": {
    "papermill": {
     "duration": 0.023062,
     "end_time": "2020-08-14T14:37:19.564072",
     "exception": false,
     "start_time": "2020-08-14T14:37:19.541010",
     "status": "completed"
    },
    "tags": []
   },
   "outputs": [],
   "source": []
  }
 ],
 "metadata": {
  "kernelspec": {
   "display_name": "Python 3",
   "language": "python",
   "name": "python3"
  },
  "language_info": {
   "codemirror_mode": {
    "name": "ipython",
    "version": 3
   },
   "file_extension": ".py",
   "mimetype": "text/x-python",
   "name": "python",
   "nbconvert_exporter": "python",
   "pygments_lexer": "ipython3",
   "version": "3.6.11"
  },
  "papermill": {
   "duration": 7.18741,
   "end_time": "2020-08-14T14:37:19.992649",
   "environment_variables": {},
   "exception": null,
   "input_path": "latest.ipynb",
   "output_path": "latest.ipynb",
   "parameters": {},
   "start_time": "2020-08-14T14:37:12.805239",
   "version": "2.1.2"
  }
 },
 "nbformat": 4,
 "nbformat_minor": 4
}