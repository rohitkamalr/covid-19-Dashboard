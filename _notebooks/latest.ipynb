{
 "cells": [
  {
   "cell_type": "markdown",
   "metadata": {
    "papermill": {
     "duration": 0.018334,
     "end_time": "2020-11-13T12:51:31.050210",
     "exception": false,
     "start_time": "2020-11-13T12:51:31.031876",
     "status": "completed"
    },
    "tags": []
   },
   "source": [
    "# Latest COVID-19 India Matplotlib Overview"
   ]
  },
  {
   "cell_type": "code",
   "execution_count": 1,
   "metadata": {
    "execution": {
     "iopub.execute_input": "2020-11-13T12:51:31.086717Z",
     "iopub.status.busy": "2020-11-13T12:51:31.086131Z",
     "iopub.status.idle": "2020-11-13T12:51:31.635962Z",
     "shell.execute_reply": "2020-11-13T12:51:31.635044Z"
    },
    "papermill": {
     "duration": 0.570407,
     "end_time": "2020-11-13T12:51:31.636209",
     "exception": false,
     "start_time": "2020-11-13T12:51:31.065802",
     "status": "completed"
    },
    "tags": []
   },
   "outputs": [],
   "source": [
    "#hide\n",
    "import pandas as pd\n",
    "import numpy as np\n",
    "import requests\n",
    "import json\n",
    "import matplotlib.pyplot as plt\n",
    "import matplotlib.dates as mdates\n",
    "import matplotlib as mpl\n",
    "from IPython.core.display import display,HTML\n",
    "%matplotlib inline\n",
    "from datetime import date"
   ]
  },
  {
   "cell_type": "code",
   "execution_count": 2,
   "metadata": {
    "execution": {
     "iopub.execute_input": "2020-11-13T12:51:31.674615Z",
     "iopub.status.busy": "2020-11-13T12:51:31.673749Z",
     "iopub.status.idle": "2020-11-13T12:51:31.830886Z",
     "shell.execute_reply": "2020-11-13T12:51:31.829995Z"
    },
    "papermill": {
     "duration": 0.1782,
     "end_time": "2020-11-13T12:51:31.831112",
     "exception": false,
     "start_time": "2020-11-13T12:51:31.652912",
     "status": "completed"
    },
    "tags": []
   },
   "outputs": [],
   "source": [
    "#hide\n",
    "df  = pd.read_csv('https://api.covid19india.org/csv/latest/states.csv')\n",
    "df = df[['Date','State','Confirmed','Deceased']]\n",
    "df = df.rename(columns={'Confirmed':'Cases', \"Deceased\":'Deaths'})\n",
    "df_cases = df[[\"Date\",'State','Cases']]\n",
    "df_deaths = df[['Date','State','Deaths']]\n",
    "df_cases1 = df_cases.groupby('Date')\n",
    "df_deaths1= df_deaths.groupby('Date')"
   ]
  },
  {
   "cell_type": "code",
   "execution_count": 3,
   "metadata": {
    "execution": {
     "iopub.execute_input": "2020-11-13T12:51:31.866548Z",
     "iopub.status.busy": "2020-11-13T12:51:31.866008Z",
     "iopub.status.idle": "2020-11-13T12:51:31.880900Z",
     "shell.execute_reply": "2020-11-13T12:51:31.881322Z"
    },
    "papermill": {
     "duration": 0.035577,
     "end_time": "2020-11-13T12:51:31.881506",
     "exception": false,
     "start_time": "2020-11-13T12:51:31.845929",
     "status": "completed"
    },
    "tags": []
   },
   "outputs": [],
   "source": [
    "#hide\n",
    "df_snap = pd.read_csv('data/SnapshotCases-28-July.csv')\n",
    "arr_states = df_snap['states'].unique()\n",
    "arr_dates = df['Date'].unique()\n",
    "df_snap = df_snap.set_index('states')"
   ]
  },
  {
   "cell_type": "code",
   "execution_count": 4,
   "metadata": {
    "execution": {
     "iopub.execute_input": "2020-11-13T12:51:31.915679Z",
     "iopub.status.busy": "2020-11-13T12:51:31.915125Z",
     "iopub.status.idle": "2020-11-13T12:51:31.917971Z",
     "shell.execute_reply": "2020-11-13T12:51:31.917521Z"
    },
    "papermill": {
     "duration": 0.022315,
     "end_time": "2020-11-13T12:51:31.918072",
     "exception": false,
     "start_time": "2020-11-13T12:51:31.895757",
     "status": "completed"
    },
    "tags": []
   },
   "outputs": [
    {
     "data": {
      "text/plain": [
       "array(['Andaman and Nicobar Islands', 'Andhra Pradesh',\n",
       "       'Arunachal Pradesh', 'Assam', 'Bihar', 'Chandigarh',\n",
       "       'Dadra and Nagar Haveli and Daman and Diu', 'Delhi', 'Goa',\n",
       "       'Gujarat', 'Haryana', 'Himachal Pradesh', 'Jammu and Kashmir',\n",
       "       'Jharkhand', 'Karnataka', 'Kerala', 'Lakshadweep',\n",
       "       'Madhya Pradesh', 'Maharashtra', 'Manipur', 'Meghalaya', 'Mizoram',\n",
       "       'Nagaland', 'Odisha', 'Puducherry', 'Punjab', 'Rajasthan',\n",
       "       'Sikkim', 'Tamil Nadu', 'Telangana', 'Tripura', 'Uttar Pradesh',\n",
       "       'West Bengal', 'Chhattisgarh', 'Ladakh', 'Uttarakhand'],\n",
       "      dtype=object)"
      ]
     },
     "execution_count": 4,
     "metadata": {},
     "output_type": "execute_result"
    }
   ],
   "source": [
    "#hide\n",
    "arr_states[-9] = 'Puducherry'\n",
    "arr_states[-10] = 'Odisha'\n",
    "arr_states[6] = 'Dadra and Nagar Haveli and Daman and Diu'\n",
    "arr_states = np.append(arr_states,np.array(['Chhattisgarh','Ladakh','Uttarakhand']))\n",
    "arr_states"
   ]
  },
  {
   "cell_type": "code",
   "execution_count": 5,
   "metadata": {
    "execution": {
     "iopub.execute_input": "2020-11-13T12:51:31.958322Z",
     "iopub.status.busy": "2020-11-13T12:51:31.957736Z",
     "iopub.status.idle": "2020-11-13T12:51:31.964658Z",
     "shell.execute_reply": "2020-11-13T12:51:31.964214Z"
    },
    "papermill": {
     "duration": 0.033248,
     "end_time": "2020-11-13T12:51:31.964757",
     "exception": false,
     "start_time": "2020-11-13T12:51:31.931509",
     "status": "completed"
    },
    "tags": []
   },
   "outputs": [],
   "source": [
    "#hide\n",
    "dates = []\n",
    "for i in arr_dates:\n",
    "    if i>='2020-07-01':\n",
    "        dates.append(i)\n",
    "dict = {'states':dates}\n",
    "for i in arr_states:\n",
    "    dict[i] = [0]*len(dates)\n",
    "dft_cases = pd.DataFrame(dict)\n",
    "dft_deaths = pd.DataFrame(dict)\n"
   ]
  },
  {
   "cell_type": "code",
   "execution_count": 6,
   "metadata": {
    "execution": {
     "iopub.execute_input": "2020-11-13T12:51:31.996685Z",
     "iopub.status.busy": "2020-11-13T12:51:31.996235Z",
     "iopub.status.idle": "2020-11-13T12:51:33.654918Z",
     "shell.execute_reply": "2020-11-13T12:51:33.654015Z"
    },
    "papermill": {
     "duration": 1.677829,
     "end_time": "2020-11-13T12:51:33.655395",
     "exception": false,
     "start_time": "2020-11-13T12:51:31.977566",
     "status": "completed"
    },
    "tags": []
   },
   "outputs": [],
   "source": [
    "#hide\n",
    "for i in range(len(dates)):\n",
    "    df1_deaths = df_deaths1.get_group(dates[i])\n",
    "    for j in range(len(df1_deaths.index)):\n",
    "        if df1_deaths.iloc[j,1] in arr_states:\n",
    "            dft_deaths.loc[i,df1_deaths.iloc[j,1]] = df1_deaths.iloc[j,2]\n",
    "dft_deaths = dft_deaths.set_index('states')"
   ]
  },
  {
   "cell_type": "code",
   "execution_count": 7,
   "metadata": {
    "execution": {
     "iopub.execute_input": "2020-11-13T12:51:33.893454Z",
     "iopub.status.busy": "2020-11-13T12:51:33.892853Z",
     "iopub.status.idle": "2020-11-13T12:51:35.635839Z",
     "shell.execute_reply": "2020-11-13T12:51:35.634957Z"
    },
    "papermill": {
     "duration": 1.966935,
     "end_time": "2020-11-13T12:51:35.636066",
     "exception": false,
     "start_time": "2020-11-13T12:51:33.669131",
     "status": "completed"
    },
    "tags": []
   },
   "outputs": [],
   "source": [
    "#hide\n",
    "for i in range(len(dates)):\n",
    "    df1_cases = df_cases1.get_group(dates[i])\n",
    "    for j in range(len(df1_cases.index)):\n",
    "        if df1_cases.iloc[j,1] in arr_states:\n",
    "            dft_cases.loc[i,df1_cases.iloc[j,1]] = df1_cases.iloc[j,2]\n",
    "dft_cases = dft_cases.set_index('states')"
   ]
  },
  {
   "cell_type": "code",
   "execution_count": 8,
   "metadata": {
    "execution": {
     "iopub.execute_input": "2020-11-13T12:51:35.674940Z",
     "iopub.status.busy": "2020-11-13T12:51:35.674324Z",
     "iopub.status.idle": "2020-11-13T12:51:35.678077Z",
     "shell.execute_reply": "2020-11-13T12:51:35.677626Z"
    },
    "papermill": {
     "duration": 0.024508,
     "end_time": "2020-11-13T12:51:35.678202",
     "exception": false,
     "start_time": "2020-11-13T12:51:35.653694",
     "status": "completed"
    },
    "tags": []
   },
   "outputs": [],
   "source": [
    "#hide\n",
    "dft_cases = dft_cases.T\n",
    "dft_deaths = dft_deaths.T\n",
    "dt_today = dates[-1]\n",
    "dt_yday = dates[-2]"
   ]
  },
  {
   "cell_type": "code",
   "execution_count": 9,
   "metadata": {
    "execution": {
     "iopub.execute_input": "2020-11-13T12:51:35.715144Z",
     "iopub.status.busy": "2020-11-13T12:51:35.712819Z",
     "iopub.status.idle": "2020-11-13T12:51:35.716862Z",
     "shell.execute_reply": "2020-11-13T12:51:35.717330Z"
    },
    "papermill": {
     "duration": 0.025141,
     "end_time": "2020-11-13T12:51:35.717496",
     "exception": false,
     "start_time": "2020-11-13T12:51:35.692355",
     "status": "completed"
    },
    "tags": []
   },
   "outputs": [],
   "source": [
    "#hide\n",
    "dft_cases = dft_cases.reset_index()\n",
    "dft_deaths = dft_deaths.reset_index()\n",
    "dft_cases = dft_cases.rename(columns = {'index':'state'})\n",
    "dft_deaths = dft_deaths.rename(columns = {'index':'state'})"
   ]
  },
  {
   "cell_type": "code",
   "execution_count": 10,
   "metadata": {
    "execution": {
     "iopub.execute_input": "2020-11-13T12:51:35.758501Z",
     "iopub.status.busy": "2020-11-13T12:51:35.757902Z",
     "iopub.status.idle": "2020-11-13T12:51:35.761271Z",
     "shell.execute_reply": "2020-11-13T12:51:35.761712Z"
    },
    "papermill": {
     "duration": 0.030542,
     "end_time": "2020-11-13T12:51:35.761850",
     "exception": false,
     "start_time": "2020-11-13T12:51:35.731308",
     "status": "completed"
    },
    "tags": []
   },
   "outputs": [],
   "source": [
    "#hide\n",
    "dfc_cases = dft_cases.groupby('state')[dt_today].sum()\n",
    "dfc_deaths = dft_deaths.groupby('state')[dt_today].sum()\n",
    "dfp_cases = dft_cases.groupby('state')[dt_yday].sum()\n",
    "dfp_deaths = dft_deaths.groupby('state')[dt_yday].sum()"
   ]
  },
  {
   "cell_type": "code",
   "execution_count": 11,
   "metadata": {
    "execution": {
     "iopub.execute_input": "2020-11-13T12:51:35.806158Z",
     "iopub.status.busy": "2020-11-13T12:51:35.803089Z",
     "iopub.status.idle": "2020-11-13T12:51:35.808789Z",
     "shell.execute_reply": "2020-11-13T12:51:35.809180Z"
    },
    "papermill": {
     "duration": 0.033306,
     "end_time": "2020-11-13T12:51:35.809296",
     "exception": false,
     "start_time": "2020-11-13T12:51:35.775990",
     "status": "completed"
    },
    "tags": []
   },
   "outputs": [
    {
     "data": {
      "text/html": [
       "<div>\n",
       "<style scoped>\n",
       "    .dataframe tbody tr th:only-of-type {\n",
       "        vertical-align: middle;\n",
       "    }\n",
       "\n",
       "    .dataframe tbody tr th {\n",
       "        vertical-align: top;\n",
       "    }\n",
       "\n",
       "    .dataframe thead th {\n",
       "        text-align: right;\n",
       "    }\n",
       "</style>\n",
       "<table border=\"1\" class=\"dataframe\">\n",
       "  <thead>\n",
       "    <tr style=\"text-align: right;\">\n",
       "      <th></th>\n",
       "      <th>states</th>\n",
       "      <th>Cases</th>\n",
       "      <th>Deaths</th>\n",
       "      <th>PCases</th>\n",
       "      <th>PDeaths</th>\n",
       "    </tr>\n",
       "  </thead>\n",
       "  <tbody>\n",
       "    <tr>\n",
       "      <th>0</th>\n",
       "      <td>Maharashtra</td>\n",
       "      <td>1736329</td>\n",
       "      <td>45682</td>\n",
       "      <td>1736329</td>\n",
       "      <td>45682</td>\n",
       "    </tr>\n",
       "    <tr>\n",
       "      <th>1</th>\n",
       "      <td>Karnataka</td>\n",
       "      <td>855912</td>\n",
       "      <td>11474</td>\n",
       "      <td>855912</td>\n",
       "      <td>11474</td>\n",
       "    </tr>\n",
       "    <tr>\n",
       "      <th>2</th>\n",
       "      <td>Andhra Pradesh</td>\n",
       "      <td>849705</td>\n",
       "      <td>6837</td>\n",
       "      <td>849705</td>\n",
       "      <td>6837</td>\n",
       "    </tr>\n",
       "    <tr>\n",
       "      <th>3</th>\n",
       "      <td>Tamil Nadu</td>\n",
       "      <td>752521</td>\n",
       "      <td>11440</td>\n",
       "      <td>752521</td>\n",
       "      <td>11440</td>\n",
       "    </tr>\n",
       "    <tr>\n",
       "      <th>4</th>\n",
       "      <td>Kerala</td>\n",
       "      <td>508257</td>\n",
       "      <td>1797</td>\n",
       "      <td>508257</td>\n",
       "      <td>1797</td>\n",
       "    </tr>\n",
       "  </tbody>\n",
       "</table>\n",
       "</div>"
      ],
      "text/plain": [
       "           states    Cases  Deaths   PCases  PDeaths\n",
       "0     Maharashtra  1736329   45682  1736329    45682\n",
       "1       Karnataka   855912   11474   855912    11474\n",
       "2  Andhra Pradesh   849705    6837   849705     6837\n",
       "3      Tamil Nadu   752521   11440   752521    11440\n",
       "4          Kerala   508257    1797   508257     1797"
      ]
     },
     "execution_count": 11,
     "metadata": {},
     "output_type": "execute_result"
    }
   ],
   "source": [
    "#hide\n",
    "df_table = pd.DataFrame({'states': dfc_cases.index, 'Cases': dfc_cases.values, 'Deaths': dfc_deaths.values, 'PCases': dfp_cases.values, 'PDeaths': dfp_deaths.values}).set_index('states')\n",
    "df_table = df_table.sort_values(by = ['Cases','Deaths'], ascending = [False, False])\n",
    "df_table = df_table.reset_index()\n",
    "df_table.head()"
   ]
  },
  {
   "cell_type": "code",
   "execution_count": 12,
   "metadata": {
    "execution": {
     "iopub.execute_input": "2020-11-13T12:51:35.844698Z",
     "iopub.status.busy": "2020-11-13T12:51:35.844160Z",
     "iopub.status.idle": "2020-11-13T12:51:35.851901Z",
     "shell.execute_reply": "2020-11-13T12:51:35.851349Z"
    },
    "papermill": {
     "duration": 0.028185,
     "end_time": "2020-11-13T12:51:35.852011",
     "exception": false,
     "start_time": "2020-11-13T12:51:35.823826",
     "status": "completed"
    },
    "tags": []
   },
   "outputs": [],
   "source": [
    "#hide\n",
    "for c in 'Cases, Deaths'.split(', '):\n",
    "    df_table[f'{c} (+)'] = (df_table[c] - df_table[f'P{c}']).clip(0)\n",
    "df_table['Fatality Rate'] = (100* df_table['Deaths']/ df_table['Cases']).round(2)"
   ]
  },
  {
   "cell_type": "code",
   "execution_count": 13,
   "metadata": {
    "execution": {
     "iopub.execute_input": "2020-11-13T12:51:35.899605Z",
     "iopub.status.busy": "2020-11-13T12:51:35.899018Z",
     "iopub.status.idle": "2020-11-13T12:51:35.901418Z",
     "shell.execute_reply": "2020-11-13T12:51:35.901912Z"
    },
    "papermill": {
     "duration": 0.03514,
     "end_time": "2020-11-13T12:51:35.902048",
     "exception": false,
     "start_time": "2020-11-13T12:51:35.866908",
     "status": "completed"
    },
    "tags": []
   },
   "outputs": [
    {
     "data": {
      "text/html": [
       "<div>\n",
       "<style scoped>\n",
       "    .dataframe tbody tr th:only-of-type {\n",
       "        vertical-align: middle;\n",
       "    }\n",
       "\n",
       "    .dataframe tbody tr th {\n",
       "        vertical-align: top;\n",
       "    }\n",
       "\n",
       "    .dataframe thead th {\n",
       "        text-align: right;\n",
       "    }\n",
       "</style>\n",
       "<table border=\"1\" class=\"dataframe\">\n",
       "  <thead>\n",
       "    <tr style=\"text-align: right;\">\n",
       "      <th></th>\n",
       "      <th>states</th>\n",
       "      <th>Cases</th>\n",
       "      <th>Deaths</th>\n",
       "      <th>PCases</th>\n",
       "      <th>PDeaths</th>\n",
       "      <th>Cases (+)</th>\n",
       "      <th>Deaths (+)</th>\n",
       "      <th>Fatality Rate</th>\n",
       "    </tr>\n",
       "  </thead>\n",
       "  <tbody>\n",
       "    <tr>\n",
       "      <th>0</th>\n",
       "      <td>Maharashtra</td>\n",
       "      <td>1736329</td>\n",
       "      <td>45682</td>\n",
       "      <td>1736329</td>\n",
       "      <td>45682</td>\n",
       "      <td>0</td>\n",
       "      <td>0</td>\n",
       "      <td>2.63</td>\n",
       "    </tr>\n",
       "    <tr>\n",
       "      <th>1</th>\n",
       "      <td>Karnataka</td>\n",
       "      <td>855912</td>\n",
       "      <td>11474</td>\n",
       "      <td>855912</td>\n",
       "      <td>11474</td>\n",
       "      <td>0</td>\n",
       "      <td>0</td>\n",
       "      <td>1.34</td>\n",
       "    </tr>\n",
       "    <tr>\n",
       "      <th>2</th>\n",
       "      <td>Andhra Pradesh</td>\n",
       "      <td>849705</td>\n",
       "      <td>6837</td>\n",
       "      <td>849705</td>\n",
       "      <td>6837</td>\n",
       "      <td>0</td>\n",
       "      <td>0</td>\n",
       "      <td>0.80</td>\n",
       "    </tr>\n",
       "    <tr>\n",
       "      <th>3</th>\n",
       "      <td>Tamil Nadu</td>\n",
       "      <td>752521</td>\n",
       "      <td>11440</td>\n",
       "      <td>752521</td>\n",
       "      <td>11440</td>\n",
       "      <td>0</td>\n",
       "      <td>0</td>\n",
       "      <td>1.52</td>\n",
       "    </tr>\n",
       "    <tr>\n",
       "      <th>4</th>\n",
       "      <td>Kerala</td>\n",
       "      <td>508257</td>\n",
       "      <td>1797</td>\n",
       "      <td>508257</td>\n",
       "      <td>1797</td>\n",
       "      <td>0</td>\n",
       "      <td>0</td>\n",
       "      <td>0.35</td>\n",
       "    </tr>\n",
       "  </tbody>\n",
       "</table>\n",
       "</div>"
      ],
      "text/plain": [
       "           states    Cases  Deaths   PCases  PDeaths  Cases (+)  Deaths (+)  \\\n",
       "0     Maharashtra  1736329   45682  1736329    45682          0           0   \n",
       "1       Karnataka   855912   11474   855912    11474          0           0   \n",
       "2  Andhra Pradesh   849705    6837   849705     6837          0           0   \n",
       "3      Tamil Nadu   752521   11440   752521    11440          0           0   \n",
       "4          Kerala   508257    1797   508257     1797          0           0   \n",
       "\n",
       "   Fatality Rate  \n",
       "0           2.63  \n",
       "1           1.34  \n",
       "2           0.80  \n",
       "3           1.52  \n",
       "4           0.35  "
      ]
     },
     "execution_count": 13,
     "metadata": {},
     "output_type": "execute_result"
    }
   ],
   "source": [
    "#hide\n",
    "df_table.head()"
   ]
  },
  {
   "cell_type": "code",
   "execution_count": 14,
   "metadata": {
    "execution": {
     "iopub.execute_input": "2020-11-13T12:51:35.941456Z",
     "iopub.status.busy": "2020-11-13T12:51:35.940868Z",
     "iopub.status.idle": "2020-11-13T12:51:35.959670Z",
     "shell.execute_reply": "2020-11-13T12:51:35.959011Z"
    },
    "papermill": {
     "duration": 0.042338,
     "end_time": "2020-11-13T12:51:35.959829",
     "exception": false,
     "start_time": "2020-11-13T12:51:35.917491",
     "status": "completed"
    },
    "tags": []
   },
   "outputs": [
    {
     "data": {
      "text/plain": [
       "{'updated': '2020-11-13',\n",
       " 'since': '2020-11-12',\n",
       " 'Cases': 8730717,\n",
       " 'PCases': 8728624,\n",
       " 'Deaths': 128726,\n",
       " 'PDeaths': 128709,\n",
       " 'Cases (+)': 2093,\n",
       " 'Deaths (+)': 17}"
      ]
     },
     "execution_count": 14,
     "metadata": {},
     "output_type": "execute_result"
    }
   ],
   "source": [
    "#hide\n",
    "summary = {'updated':dates[-1], 'since':dates[-2]}\n",
    "list_names = ['Cases', 'PCases', 'Deaths', 'PDeaths', 'Cases (+)', 'Deaths (+)']\n",
    "for name in list_names:\n",
    "    summary[name] = df_table.sum()[name]\n",
    "summary"
   ]
  },
  {
   "cell_type": "code",
   "execution_count": 15,
   "metadata": {
    "execution": {
     "iopub.execute_input": "2020-11-13T12:51:35.998309Z",
     "iopub.status.busy": "2020-11-13T12:51:35.997756Z",
     "iopub.status.idle": "2020-11-13T12:51:35.999456Z",
     "shell.execute_reply": "2020-11-13T12:51:35.999841Z"
    },
    "papermill": {
     "duration": 0.022902,
     "end_time": "2020-11-13T12:51:35.999964",
     "exception": false,
     "start_time": "2020-11-13T12:51:35.977062",
     "status": "completed"
    },
    "tags": []
   },
   "outputs": [],
   "source": [
    "#hide\n",
    "overview = '''\n",
    "<!-- #######  HTML!! #########-->\n",
    "<h1 style=\"color: #5e9ca0; text-align: center;\">India</h1>\n",
    "<p style=\"text-align: center;\">Last update: <strong>{update}</strong></p>\n",
    "<p style=\"text-align: center;\">Confirmed cases:</p>\n",
    "<p style=\"text-align: center;font-size:24px;\">{cases} (<span style=\"color: #ff0000;\">+{new}</span>)</p>\n",
    "<p style=\"text-align: center;\">Confirmed deaths:</p>\n",
    "<p style=\"text-align: center;font-size:24px;\">{deaths} (<span style=\"color: #ff0000;\">+{dnew}</span>)</p>\n",
    "'''"
   ]
  },
  {
   "cell_type": "code",
   "execution_count": 16,
   "metadata": {
    "execution": {
     "iopub.execute_input": "2020-11-13T12:51:36.037641Z",
     "iopub.status.busy": "2020-11-13T12:51:36.037080Z",
     "iopub.status.idle": "2020-11-13T12:51:36.040267Z",
     "shell.execute_reply": "2020-11-13T12:51:36.040713Z"
    },
    "papermill": {
     "duration": 0.025971,
     "end_time": "2020-11-13T12:51:36.040855",
     "exception": false,
     "start_time": "2020-11-13T12:51:36.014884",
     "status": "completed"
    },
    "tags": []
   },
   "outputs": [
    {
     "data": {
      "text/html": [
       "\n",
       "<!-- #######  HTML!! #########-->\n",
       "<h1 style=\"color: #5e9ca0; text-align: center;\">India</h1>\n",
       "<p style=\"text-align: center;\">Last update: <strong>2020-11-13</strong></p>\n",
       "<p style=\"text-align: center;\">Confirmed cases:</p>\n",
       "<p style=\"text-align: center;font-size:24px;\">8730717 (<span style=\"color: #ff0000;\">+2093</span>)</p>\n",
       "<p style=\"text-align: center;\">Confirmed deaths:</p>\n",
       "<p style=\"text-align: center;font-size:24px;\">128726 (<span style=\"color: #ff0000;\">+17</span>)</p>\n"
      ],
      "text/plain": [
       "<IPython.core.display.HTML object>"
      ]
     },
     "metadata": {},
     "output_type": "display_data"
    }
   ],
   "source": [
    "#hide_input\n",
    "update = summary['updated']\n",
    "cases = summary['Cases']\n",
    "new = summary['Cases (+)']\n",
    "deaths = summary['Deaths']\n",
    "dnew = summary['Deaths (+)']\n",
    "\n",
    "html = HTML(overview.format(update=update, cases=cases,new=new,deaths=deaths,dnew=dnew))\n",
    "\n",
    "display(html)"
   ]
  },
  {
   "cell_type": "code",
   "execution_count": 17,
   "metadata": {
    "execution": {
     "iopub.execute_input": "2020-11-13T12:51:36.082876Z",
     "iopub.status.busy": "2020-11-13T12:51:36.082274Z",
     "iopub.status.idle": "2020-11-13T12:51:36.087639Z",
     "shell.execute_reply": "2020-11-13T12:51:36.087160Z"
    },
    "papermill": {
     "duration": 0.030185,
     "end_time": "2020-11-13T12:51:36.087779",
     "exception": false,
     "start_time": "2020-11-13T12:51:36.057594",
     "status": "completed"
    },
    "tags": []
   },
   "outputs": [],
   "source": [
    "#hide\n",
    "dt_cols = list(dft_cases.columns[1:])\n",
    "dft_ct_new_cases = dft_cases.groupby('state')[dt_cols].sum().diff(axis=1).fillna(0).astype(int)\n",
    "dft_ct_new_cases.sort_values(by = dates[-1], ascending = False,inplace = True)"
   ]
  },
  {
   "cell_type": "code",
   "execution_count": 18,
   "metadata": {
    "execution": {
     "iopub.execute_input": "2020-11-13T12:51:36.139121Z",
     "iopub.status.busy": "2020-11-13T12:51:36.138531Z",
     "iopub.status.idle": "2020-11-13T12:51:36.141780Z",
     "shell.execute_reply": "2020-11-13T12:51:36.141251Z"
    },
    "papermill": {
     "duration": 0.038391,
     "end_time": "2020-11-13T12:51:36.141907",
     "exception": false,
     "start_time": "2020-11-13T12:51:36.103516",
     "status": "completed"
    },
    "tags": []
   },
   "outputs": [
    {
     "data": {
      "text/html": [
       "<div>\n",
       "<style scoped>\n",
       "    .dataframe tbody tr th:only-of-type {\n",
       "        vertical-align: middle;\n",
       "    }\n",
       "\n",
       "    .dataframe tbody tr th {\n",
       "        vertical-align: top;\n",
       "    }\n",
       "\n",
       "    .dataframe thead th {\n",
       "        text-align: right;\n",
       "    }\n",
       "</style>\n",
       "<table border=\"1\" class=\"dataframe\">\n",
       "  <thead>\n",
       "    <tr style=\"text-align: right;\">\n",
       "      <th>states</th>\n",
       "      <th>2020-07-01</th>\n",
       "      <th>2020-07-02</th>\n",
       "      <th>2020-07-03</th>\n",
       "      <th>2020-07-04</th>\n",
       "      <th>2020-07-05</th>\n",
       "      <th>2020-07-06</th>\n",
       "      <th>2020-07-07</th>\n",
       "      <th>2020-07-08</th>\n",
       "      <th>2020-07-09</th>\n",
       "      <th>2020-07-10</th>\n",
       "      <th>...</th>\n",
       "      <th>2020-11-04</th>\n",
       "      <th>2020-11-05</th>\n",
       "      <th>2020-11-06</th>\n",
       "      <th>2020-11-07</th>\n",
       "      <th>2020-11-08</th>\n",
       "      <th>2020-11-09</th>\n",
       "      <th>2020-11-10</th>\n",
       "      <th>2020-11-11</th>\n",
       "      <th>2020-11-12</th>\n",
       "      <th>2020-11-13</th>\n",
       "    </tr>\n",
       "    <tr>\n",
       "      <th>state</th>\n",
       "      <th></th>\n",
       "      <th></th>\n",
       "      <th></th>\n",
       "      <th></th>\n",
       "      <th></th>\n",
       "      <th></th>\n",
       "      <th></th>\n",
       "      <th></th>\n",
       "      <th></th>\n",
       "      <th></th>\n",
       "      <th></th>\n",
       "      <th></th>\n",
       "      <th></th>\n",
       "      <th></th>\n",
       "      <th></th>\n",
       "      <th></th>\n",
       "      <th></th>\n",
       "      <th></th>\n",
       "      <th></th>\n",
       "      <th></th>\n",
       "      <th></th>\n",
       "    </tr>\n",
       "  </thead>\n",
       "  <tbody>\n",
       "    <tr>\n",
       "      <th>Odisha</th>\n",
       "      <td>0</td>\n",
       "      <td>229</td>\n",
       "      <td>561</td>\n",
       "      <td>495</td>\n",
       "      <td>469</td>\n",
       "      <td>456</td>\n",
       "      <td>571</td>\n",
       "      <td>527</td>\n",
       "      <td>577</td>\n",
       "      <td>755</td>\n",
       "      <td>...</td>\n",
       "      <td>1474</td>\n",
       "      <td>1385</td>\n",
       "      <td>1494</td>\n",
       "      <td>1372</td>\n",
       "      <td>1434</td>\n",
       "      <td>1219</td>\n",
       "      <td>987</td>\n",
       "      <td>1220</td>\n",
       "      <td>986</td>\n",
       "      <td>1018</td>\n",
       "    </tr>\n",
       "    <tr>\n",
       "      <th>Telangana</th>\n",
       "      <td>0</td>\n",
       "      <td>1213</td>\n",
       "      <td>1892</td>\n",
       "      <td>1850</td>\n",
       "      <td>1590</td>\n",
       "      <td>1831</td>\n",
       "      <td>1879</td>\n",
       "      <td>1924</td>\n",
       "      <td>1410</td>\n",
       "      <td>1278</td>\n",
       "      <td>...</td>\n",
       "      <td>1637</td>\n",
       "      <td>1539</td>\n",
       "      <td>1602</td>\n",
       "      <td>1607</td>\n",
       "      <td>1440</td>\n",
       "      <td>857</td>\n",
       "      <td>1267</td>\n",
       "      <td>1196</td>\n",
       "      <td>1015</td>\n",
       "      <td>997</td>\n",
       "    </tr>\n",
       "    <tr>\n",
       "      <th>Tripura</th>\n",
       "      <td>0</td>\n",
       "      <td>39</td>\n",
       "      <td>93</td>\n",
       "      <td>25</td>\n",
       "      <td>23</td>\n",
       "      <td>111</td>\n",
       "      <td>24</td>\n",
       "      <td>57</td>\n",
       "      <td>16</td>\n",
       "      <td>142</td>\n",
       "      <td>...</td>\n",
       "      <td>116</td>\n",
       "      <td>132</td>\n",
       "      <td>110</td>\n",
       "      <td>87</td>\n",
       "      <td>83</td>\n",
       "      <td>26</td>\n",
       "      <td>79</td>\n",
       "      <td>84</td>\n",
       "      <td>59</td>\n",
       "      <td>76</td>\n",
       "    </tr>\n",
       "    <tr>\n",
       "      <th>Dadra and Nagar Haveli and Daman and Diu</th>\n",
       "      <td>0</td>\n",
       "      <td>25</td>\n",
       "      <td>50</td>\n",
       "      <td>37</td>\n",
       "      <td>32</td>\n",
       "      <td>27</td>\n",
       "      <td>27</td>\n",
       "      <td>15</td>\n",
       "      <td>14</td>\n",
       "      <td>14</td>\n",
       "      <td>...</td>\n",
       "      <td>4</td>\n",
       "      <td>4</td>\n",
       "      <td>5</td>\n",
       "      <td>1</td>\n",
       "      <td>0</td>\n",
       "      <td>0</td>\n",
       "      <td>1</td>\n",
       "      <td>0</td>\n",
       "      <td>3</td>\n",
       "      <td>2</td>\n",
       "    </tr>\n",
       "    <tr>\n",
       "      <th>Andaman and Nicobar Islands</th>\n",
       "      <td>0</td>\n",
       "      <td>9</td>\n",
       "      <td>7</td>\n",
       "      <td>3</td>\n",
       "      <td>6</td>\n",
       "      <td>16</td>\n",
       "      <td>6</td>\n",
       "      <td>2</td>\n",
       "      <td>7</td>\n",
       "      <td>0</td>\n",
       "      <td>...</td>\n",
       "      <td>17</td>\n",
       "      <td>14</td>\n",
       "      <td>17</td>\n",
       "      <td>21</td>\n",
       "      <td>9</td>\n",
       "      <td>13</td>\n",
       "      <td>14</td>\n",
       "      <td>17</td>\n",
       "      <td>13</td>\n",
       "      <td>0</td>\n",
       "    </tr>\n",
       "  </tbody>\n",
       "</table>\n",
       "<p>5 rows × 136 columns</p>\n",
       "</div>"
      ],
      "text/plain": [
       "states                                    2020-07-01  2020-07-02  2020-07-03  \\\n",
       "state                                                                          \n",
       "Odisha                                             0         229         561   \n",
       "Telangana                                          0        1213        1892   \n",
       "Tripura                                            0          39          93   \n",
       "Dadra and Nagar Haveli and Daman and Diu           0          25          50   \n",
       "Andaman and Nicobar Islands                        0           9           7   \n",
       "\n",
       "states                                    2020-07-04  2020-07-05  2020-07-06  \\\n",
       "state                                                                          \n",
       "Odisha                                           495         469         456   \n",
       "Telangana                                       1850        1590        1831   \n",
       "Tripura                                           25          23         111   \n",
       "Dadra and Nagar Haveli and Daman and Diu          37          32          27   \n",
       "Andaman and Nicobar Islands                        3           6          16   \n",
       "\n",
       "states                                    2020-07-07  2020-07-08  2020-07-09  \\\n",
       "state                                                                          \n",
       "Odisha                                           571         527         577   \n",
       "Telangana                                       1879        1924        1410   \n",
       "Tripura                                           24          57          16   \n",
       "Dadra and Nagar Haveli and Daman and Diu          27          15          14   \n",
       "Andaman and Nicobar Islands                        6           2           7   \n",
       "\n",
       "states                                    2020-07-10  ...  2020-11-04  \\\n",
       "state                                                 ...               \n",
       "Odisha                                           755  ...        1474   \n",
       "Telangana                                       1278  ...        1637   \n",
       "Tripura                                          142  ...         116   \n",
       "Dadra and Nagar Haveli and Daman and Diu          14  ...           4   \n",
       "Andaman and Nicobar Islands                        0  ...          17   \n",
       "\n",
       "states                                    2020-11-05  2020-11-06  2020-11-07  \\\n",
       "state                                                                          \n",
       "Odisha                                          1385        1494        1372   \n",
       "Telangana                                       1539        1602        1607   \n",
       "Tripura                                          132         110          87   \n",
       "Dadra and Nagar Haveli and Daman and Diu           4           5           1   \n",
       "Andaman and Nicobar Islands                       14          17          21   \n",
       "\n",
       "states                                    2020-11-08  2020-11-09  2020-11-10  \\\n",
       "state                                                                          \n",
       "Odisha                                          1434        1219         987   \n",
       "Telangana                                       1440         857        1267   \n",
       "Tripura                                           83          26          79   \n",
       "Dadra and Nagar Haveli and Daman and Diu           0           0           1   \n",
       "Andaman and Nicobar Islands                        9          13          14   \n",
       "\n",
       "states                                    2020-11-11  2020-11-12  2020-11-13  \n",
       "state                                                                         \n",
       "Odisha                                          1220         986        1018  \n",
       "Telangana                                       1196        1015         997  \n",
       "Tripura                                           84          59          76  \n",
       "Dadra and Nagar Haveli and Daman and Diu           0           3           2  \n",
       "Andaman and Nicobar Islands                       17          13           0  \n",
       "\n",
       "[5 rows x 136 columns]"
      ]
     },
     "execution_count": 18,
     "metadata": {},
     "output_type": "execute_result"
    }
   ],
   "source": [
    "#hide\n",
    "dft_ct_new_cases.head()"
   ]
  },
  {
   "cell_type": "code",
   "execution_count": 19,
   "metadata": {
    "execution": {
     "iopub.execute_input": "2020-11-13T12:51:36.180664Z",
     "iopub.status.busy": "2020-11-13T12:51:36.180034Z",
     "iopub.status.idle": "2020-11-13T12:51:40.656479Z",
     "shell.execute_reply": "2020-11-13T12:51:40.656931Z"
    },
    "papermill": {
     "duration": 4.497642,
     "end_time": "2020-11-13T12:51:40.657083",
     "exception": false,
     "start_time": "2020-11-13T12:51:36.159441",
     "status": "completed"
    },
    "tags": []
   },
   "outputs": [
    {
     "data": {
      "image/png": "[encoded data removed]",
      "text/plain": [
       "<Figure size 1296x2016 with 11 Axes>"
      ]
     },
     "metadata": {
      "needs_background": "light"
     },
     "output_type": "display_data"
    }
   ],
   "source": [
    "#hide_input\n",
    "df = dft_ct_new_cases.copy()\n",
    "df.loc['Total'] = df.sum()\n",
    "n = 5\n",
    "ax = []\n",
    "fig = plt.figure(figsize = (18,28))\n",
    "gs = fig.add_gridspec(n+2, 5)\n",
    "# gs = fig.add_gridspec(2, 3)\n",
    "ax1 = fig.add_subplot(gs[0, :])\n",
    "ef = df.loc['Total'].rename_axis('date').reset_index()\n",
    "ef['date'] = ef['date'].astype('datetime64[ns]')\n",
    "ax1.bar(ef.date,ef.Total,alpha=0.3,color='#007acc')\n",
    "ax1.plot(ef.date,ef.Total , marker=\"o\", color='#007acc')\n",
    "ax1.xaxis.set_major_locator(mdates.WeekdayLocator())\n",
    "ax1.xaxis.set_major_formatter(mdates.DateFormatter('%b %d'))\n",
    "ax1.text(0.02, 0.5,'India daily case count', transform = ax1.transAxes, fontsize=25);\n",
    "ax1.spines['right'].set_visible(False)\n",
    "ax1.spines['top'].set_visible(False)\n",
    "\n",
    "ax2 = fig.add_subplot(gs[1,0])\n",
    "ef = df.loc['Maharashtra'].rename_axis('date').reset_index()\n",
    "ef['date'] = ef['date'].astype('datetime64[ns]')\n",
    "\n",
    "ax2.bar(ef.date, ef.Maharashtra,color = '#007acc',alpha=0.5)\n",
    "ax2.xaxis.set_major_locator(mdates.WeekdayLocator())\n",
    "ax2.xaxis.set_major_formatter(mdates.DateFormatter('%b %d'))\n",
    "ax2.set_xticks(ax2.get_xticks()[::3])\n",
    "maxyval = ef.Maharashtra.max()\n",
    "ax2.set_ylim([0,maxyval])\n",
    "ax2.text(0.05, 0.9,'Maharashtra', transform = ax2.transAxes, fontsize=20);\n",
    "ax2.spines['right'].set_visible(False)\n",
    "ax2.spines['top'].set_visible(False)\n",
    "\n",
    "\n",
    "ax3 = fig.add_subplot(gs[1,1])\n",
    "ef = df.loc['Tamil Nadu'].rename_axis('date').reset_index()\n",
    "ef['date'] = ef['date'].astype('datetime64[ns]')\n",
    "ax3.bar(ef.date, ef['Tamil Nadu'],color = '#007acc',alpha=0.5,)\n",
    "ax3.xaxis.set_major_locator(mdates.WeekdayLocator())\n",
    "ax3.xaxis.set_major_formatter(mdates.DateFormatter('%b %d'))\n",
    "ax3.set_xticks(ax3.get_xticks()[::3])\n",
    "ax3.text(0.05, 0.9,'Tamil Nadu', transform = ax3.transAxes, fontsize=20);\n",
    "ax3.spines['right'].set_visible(False)\n",
    "ax3.spines['top'].set_visible(False)\n",
    "\n",
    "ax5 = fig.add_subplot(gs[1,3])\n",
    "ef = df.loc['Telangana'].rename_axis('date').reset_index()\n",
    "ef['date'] = ef['date'].astype('datetime64[ns]')\n",
    "ax5.bar(ef.date, ef['Telangana'],color = '#007acc',alpha=0.5,)\n",
    "ax5.xaxis.set_major_locator(mdates.WeekdayLocator())\n",
    "ax5.xaxis.set_major_formatter(mdates.DateFormatter('%b %d'))\n",
    "ax5.set_xticks(ax5.get_xticks()[::3])\n",
    "ax5.text(0.05, 0.9,'Telangana', transform = ax5.transAxes, fontsize=20);\n",
    "ax5.spines['right'].set_visible(False)\n",
    "ax5.spines['top'].set_visible(False)\n",
    "\n",
    "ax6 = fig.add_subplot(gs[1,4])\n",
    "ef = df.loc['Andhra Pradesh'].rename_axis('date').reset_index()\n",
    "ef['date'] = ef['date'].astype('datetime64[ns]')\n",
    "ax6.bar(ef.date, ef['Andhra Pradesh'],color = '#007acc',alpha=0.5,)\n",
    "ax6.xaxis.set_major_locator(mdates.WeekdayLocator())\n",
    "ax6.xaxis.set_major_formatter(mdates.DateFormatter('%b %d'))\n",
    "ax6.set_xticks(ax6.get_xticks()[::3])\n",
    "ax6.text(0.05, 1,'Andhra Pradesh', transform = ax6.transAxes, fontsize=20);\n",
    "ax6.spines['right'].set_visible(False)\n",
    "ax6.spines['top'].set_visible(False)\n",
    "\n",
    "ax4 = fig.add_subplot(gs[1,2])\n",
    "ef = df.loc['Delhi'].rename_axis('date').reset_index()\n",
    "ef['date'] = ef['date'].astype('datetime64[ns]')\n",
    "ax4.bar(ef.date, ef.Delhi,color = '#007acc',alpha=0.5)\n",
    "ax4.set_xticks([])\n",
    "ax4.xaxis.set_major_locator(mdates.WeekdayLocator())\n",
    "ax4.xaxis.set_major_formatter(mdates.DateFormatter('%b %d'))\n",
    "ax4.set_xticks(ax4.get_xticks()[::3])\n",
    "ax4.spines['right'].set_visible(False)\n",
    "ax4.spines['top'].set_visible(False)\n",
    "\n",
    "ax4.text(0.05, 1,'Delhi', transform = ax4.transAxes, fontsize=20)\n",
    "\n",
    "for i in range(n):\n",
    "    \n",
    "    ax.append(fig.add_subplot(gs[i+2,:]))\n",
    "    ef = df.iloc[i+3].rename_axis('date').reset_index()\n",
    "    ef['date'] = ef['date'].astype('datetime64[ns]')\n",
    "    ax[i].bar(ef.date,ef.iloc[:,-1],color = '#007acc',alpha=0.3)\n",
    "    ax[i].plot(ef.date,ef.iloc[:,-1],marker='o',color='#007acc')\n",
    "    ax[i].text(0.02,0.5,f'{ef.columns.values[-1]}',transform = ax[i].transAxes, fontsize = 20);\n",
    "    ax[i].xaxis.set_major_locator(mdates.WeekdayLocator())\n",
    "    ax[i].xaxis.set_major_formatter(mdates.DateFormatter('%b %d'))\n",
    "    ax[i].set_ylim([0,7000])\n",
    "    ax[i].spines['right'].set_visible(False)\n",
    "    ax[i].spines['top'].set_visible(False)\n",
    "plt.tight_layout()\n"
   ]
  },
  {
   "cell_type": "code",
   "execution_count": 20,
   "metadata": {
    "execution": {
     "iopub.execute_input": "2020-11-13T12:51:40.709858Z",
     "iopub.status.busy": "2020-11-13T12:51:40.709201Z",
     "iopub.status.idle": "2020-11-13T12:51:40.711496Z",
     "shell.execute_reply": "2020-11-13T12:51:40.711935Z"
    },
    "papermill": {
     "duration": 0.033022,
     "end_time": "2020-11-13T12:51:40.712078",
     "exception": false,
     "start_time": "2020-11-13T12:51:40.679056",
     "status": "completed"
    },
    "tags": []
   },
   "outputs": [
    {
     "name": "stdout",
     "output_type": "stream",
     "text": [
      "                                   states    Cases  Deaths   PCases  PDeaths  Cases (+)  Deaths (+)  Fatality Rate\n",
      "                              Maharashtra  1736329   45682  1736329    45682          0           0           2.63\n",
      "                                Karnataka   855912   11474   855912    11474          0           0           1.34\n",
      "                           Andhra Pradesh   849705    6837   849705     6837          0           0           0.80\n",
      "                               Tamil Nadu   752521   11440   752521    11440          0           0           1.52\n",
      "                                   Kerala   508257    1797   508257     1797          0           0           0.35\n",
      "                            Uttar Pradesh   505424    7302   505424     7302          0           0           1.44\n",
      "                                    Delhi   467028    7332   467028     7332          0           0           1.57\n",
      "                              West Bengal   420840    7506   420840     7506          0           0           1.78\n",
      "                                   Odisha   307004    1548   305986     1536       1018          12           0.50\n",
      "                                Telangana   255663    1397   254666     1393        997           4           0.55\n",
      "                                    Bihar   225500    1167   225500     1167          0           0           0.52\n",
      "                                Rajasthan   219327    2032   219327     2032          0           0           0.93\n",
      "                                    Assam   209835     958   209835      958          0           0           0.46\n",
      "                             Chhattisgarh   207740    2527   207740     2527          0           0           1.22\n",
      "                                  Haryana   193111    1979   193111     1979          0           0           1.02\n",
      "                                  Gujarat   184964    3785   184964     3785          0           0           2.05\n",
      "                           Madhya Pradesh   180997    3065   180997     3065          0           0           1.69\n",
      "                                   Punjab   139869    4412   139869     4412          0           0           3.15\n",
      "                                Jharkhand   105493     917   105493      917          0           0           0.87\n",
      "                        Jammu and Kashmir   100968    1566   100968     1566          0           0           1.55\n",
      "                              Uttarakhand    67239    1093    67239     1093          0           0           1.63\n",
      "                                      Goa    45605     656    45605      656          0           0           1.44\n",
      "                               Puducherry    36179     607    36179      607          0           0           1.68\n",
      "                                  Tripura    31838     357    31762      356         76           1           1.12\n",
      "                         Himachal Pradesh    28183     405    28183      405          0           0           1.44\n",
      "                                  Manipur    21211     207    21211      207          0           0           0.98\n",
      "                        Arunachal Pradesh    15701      47    15701       47          0           0           0.30\n",
      "                               Chandigarh    15543     244    15543      244          0           0           1.57\n",
      "                                Meghalaya    10512      98    10512       98          0           0           0.93\n",
      "                                 Nagaland     9615      50     9615       50          0           0           0.52\n",
      "                                   Ladakh     7211      89     7211       89          0           0           1.23\n",
      "              Andaman and Nicobar Islands     4507      61     4507       61          0           0           1.35\n",
      "                                   Sikkim     4369      85     4369       85          0           0           1.95\n",
      " Dadra and Nagar Haveli and Daman and Diu     3275       2     3273        2          2           0           0.06\n",
      "                                  Mizoram     3242       2     3242        2          0           0           0.06\n",
      "                              Lakshadweep        0       0        0        0          0           0            NaN\n"
     ]
    }
   ],
   "source": [
    "#hide_input\n",
    "print(df_table.to_string(index=False))"
   ]
  },
  {
   "cell_type": "code",
   "execution_count": null,
   "metadata": {
    "papermill": {
     "duration": 0.021705,
     "end_time": "2020-11-13T12:51:40.755771",
     "exception": false,
     "start_time": "2020-11-13T12:51:40.734066",
     "status": "completed"
    },
    "tags": []
   },
   "outputs": [],
   "source": []
  },
  {
   "cell_type": "code",
   "execution_count": null,
   "metadata": {
    "papermill": {
     "duration": 0.020936,
     "end_time": "2020-11-13T12:51:40.796307",
     "exception": false,
     "start_time": "2020-11-13T12:51:40.775371",
     "status": "completed"
    },
    "tags": []
   },
   "outputs": [],
   "source": []
  }
 ],
 "metadata": {
  "kernelspec": {
   "display_name": "Python 3",
   "language": "python",
   "name": "python3"
  },
  "language_info": {
   "codemirror_mode": {
    "name": "ipython",
    "version": 3
   },
   "file_extension": ".py",
   "mimetype": "text/x-python",
   "name": "python",
   "nbconvert_exporter": "python",
   "pygments_lexer": "ipython3",
   "version": "3.6.12"
  },
  "papermill": {
   "duration": 12.294611,
   "end_time": "2020-11-13T12:51:42.268730",
   "environment_variables": {},
   "exception": null,
   "input_path": "latest.ipynb",
   "output_path": "latest.ipynb",
   "parameters": {},
   "start_time": "2020-11-13T12:51:29.974119",
   "version": "2.1.2"
  }
 },
 "nbformat": 4,
 "nbformat_minor": 4
}