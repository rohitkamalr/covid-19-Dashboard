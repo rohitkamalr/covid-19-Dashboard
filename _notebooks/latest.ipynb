{
 "cells": [
  {
   "cell_type": "markdown",
   "metadata": {
    "papermill": {
     "duration": 0.02389,
     "end_time": "2020-09-16T07:52:16.935696",
     "exception": false,
     "start_time": "2020-09-16T07:52:16.911806",
     "status": "completed"
    },
    "tags": []
   },
   "source": [
    "# Latest COVID-19 India Matplotlib Overview"
   ]
  },
  {
   "cell_type": "code",
   "execution_count": 1,
   "metadata": {
    "execution": {
     "iopub.execute_input": "2020-09-16T07:52:16.975023Z",
     "iopub.status.busy": "2020-09-16T07:52:16.974331Z",
     "iopub.status.idle": "2020-09-16T07:52:17.534825Z",
     "shell.execute_reply": "2020-09-16T07:52:17.535608Z"
    },
    "papermill": {
     "duration": 0.583949,
     "end_time": "2020-09-16T07:52:17.535826",
     "exception": false,
     "start_time": "2020-09-16T07:52:16.951877",
     "status": "completed"
    },
    "tags": []
   },
   "outputs": [],
   "source": [
    "#hide\n",
    "import pandas as pd\n",
    "import numpy as np\n",
    "import requests\n",
    "import json\n",
    "import matplotlib.pyplot as plt\n",
    "import matplotlib.dates as mdates\n",
    "import matplotlib as mpl\n",
    "from IPython.core.display import display,HTML\n",
    "%matplotlib inline\n",
    "from datetime import date"
   ]
  },
  {
   "cell_type": "code",
   "execution_count": 2,
   "metadata": {
    "execution": {
     "iopub.execute_input": "2020-09-16T07:52:17.573459Z",
     "iopub.status.busy": "2020-09-16T07:52:17.572837Z",
     "iopub.status.idle": "2020-09-16T07:52:17.708201Z",
     "shell.execute_reply": "2020-09-16T07:52:17.707567Z"
    },
    "papermill": {
     "duration": 0.158103,
     "end_time": "2020-09-16T07:52:17.708360",
     "exception": false,
     "start_time": "2020-09-16T07:52:17.550257",
     "status": "completed"
    },
    "tags": []
   },
   "outputs": [],
   "source": [
    "#hide\n",
    "df  = pd.read_csv('https://api.covid19india.org/csv/latest/states.csv')\n",
    "df = df[['Date','State','Confirmed','Deceased']]\n",
    "df = df.rename(columns={'Confirmed':'Cases', \"Deceased\":'Deaths'})\n",
    "df_cases = df[[\"Date\",'State','Cases']]\n",
    "df_deaths = df[['Date','State','Deaths']]\n",
    "df_cases1 = df_cases.groupby('Date')\n",
    "df_deaths1= df_deaths.groupby('Date')"
   ]
  },
  {
   "cell_type": "code",
   "execution_count": 3,
   "metadata": {
    "execution": {
     "iopub.execute_input": "2020-09-16T07:52:17.749512Z",
     "iopub.status.busy": "2020-09-16T07:52:17.748879Z",
     "iopub.status.idle": "2020-09-16T07:52:17.768358Z",
     "shell.execute_reply": "2020-09-16T07:52:17.769012Z"
    },
    "papermill": {
     "duration": 0.042688,
     "end_time": "2020-09-16T07:52:17.769183",
     "exception": false,
     "start_time": "2020-09-16T07:52:17.726495",
     "status": "completed"
    },
    "tags": []
   },
   "outputs": [],
   "source": [
    "#hide\n",
    "df_snap = pd.read_csv('data/SnapshotCases-28-July.csv')\n",
    "arr_states = df_snap['states'].unique()\n",
    "arr_dates = df['Date'].unique()\n",
    "df_snap = df_snap.set_index('states')"
   ]
  },
  {
   "cell_type": "code",
   "execution_count": 4,
   "metadata": {
    "execution": {
     "iopub.execute_input": "2020-09-16T07:52:17.811224Z",
     "iopub.status.busy": "2020-09-16T07:52:17.810400Z",
     "iopub.status.idle": "2020-09-16T07:52:17.812985Z",
     "shell.execute_reply": "2020-09-16T07:52:17.813662Z"
    },
    "papermill": {
     "duration": 0.027257,
     "end_time": "2020-09-16T07:52:17.813934",
     "exception": false,
     "start_time": "2020-09-16T07:52:17.786677",
     "status": "completed"
    },
    "tags": []
   },
   "outputs": [
    {
     "data": {
      "text/plain": [
       "array(['Andaman and Nicobar Islands', 'Andhra Pradesh',\n",
       "       'Arunachal Pradesh', 'Assam', 'Bihar', 'Chandigarh',\n",
       "       'Dadra and Nagar Haveli and Daman and Diu', 'Delhi', 'Goa',\n",
       "       'Gujarat', 'Haryana', 'Himachal Pradesh', 'Jammu and Kashmir',\n",
       "       'Jharkhand', 'Karnataka', 'Kerala', 'Lakshadweep',\n",
       "       'Madhya Pradesh', 'Maharashtra', 'Manipur', 'Meghalaya', 'Mizoram',\n",
       "       'Nagaland', 'Odisha', 'Puducherry', 'Punjab', 'Rajasthan',\n",
       "       'Sikkim', 'Tamil Nadu', 'Telangana', 'Tripura', 'Uttar Pradesh',\n",
       "       'West Bengal', 'Chhattisgarh', 'Ladakh', 'Uttarakhand'],\n",
       "      dtype=object)"
      ]
     },
     "execution_count": 4,
     "metadata": {},
     "output_type": "execute_result"
    }
   ],
   "source": [
    "#hide\n",
    "arr_states[-9] = 'Puducherry'\n",
    "arr_states[-10] = 'Odisha'\n",
    "arr_states[6] = 'Dadra and Nagar Haveli and Daman and Diu'\n",
    "arr_states = np.append(arr_states,np.array(['Chhattisgarh','Ladakh','Uttarakhand']))\n",
    "arr_states"
   ]
  },
  {
   "cell_type": "code",
   "execution_count": 5,
   "metadata": {
    "execution": {
     "iopub.execute_input": "2020-09-16T07:52:17.861557Z",
     "iopub.status.busy": "2020-09-16T07:52:17.860916Z",
     "iopub.status.idle": "2020-09-16T07:52:17.869243Z",
     "shell.execute_reply": "2020-09-16T07:52:17.868629Z"
    },
    "papermill": {
     "duration": 0.03684,
     "end_time": "2020-09-16T07:52:17.869374",
     "exception": false,
     "start_time": "2020-09-16T07:52:17.832534",
     "status": "completed"
    },
    "tags": []
   },
   "outputs": [],
   "source": [
    "#hide\n",
    "dates = []\n",
    "for i in arr_dates:\n",
    "    if i>='2020-07-01':\n",
    "        dates.append(i)\n",
    "dict = {'states':dates}\n",
    "for i in arr_states:\n",
    "    dict[i] = [0]*len(dates)\n",
    "dft_cases = pd.DataFrame(dict)\n",
    "dft_deaths = pd.DataFrame(dict)\n"
   ]
  },
  {
   "cell_type": "code",
   "execution_count": 6,
   "metadata": {
    "execution": {
     "iopub.execute_input": "2020-09-16T07:52:17.911404Z",
     "iopub.status.busy": "2020-09-16T07:52:17.910756Z",
     "iopub.status.idle": "2020-09-16T07:52:19.156570Z",
     "shell.execute_reply": "2020-09-16T07:52:19.155826Z"
    },
    "papermill": {
     "duration": 1.268666,
     "end_time": "2020-09-16T07:52:19.156700",
     "exception": false,
     "start_time": "2020-09-16T07:52:17.888034",
     "status": "completed"
    },
    "tags": []
   },
   "outputs": [],
   "source": [
    "#hide\n",
    "for i in range(len(dates)):\n",
    "    df1_deaths = df_deaths1.get_group(dates[i])\n",
    "    for j in range(len(df1_deaths.index)):\n",
    "        if df1_deaths.iloc[j,1] in arr_states:\n",
    "            dft_deaths.loc[i,df1_deaths.iloc[j,1]] = df1_deaths.iloc[j,2]\n",
    "dft_deaths = dft_deaths.set_index('states')"
   ]
  },
  {
   "cell_type": "code",
   "execution_count": 7,
   "metadata": {
    "execution": {
     "iopub.execute_input": "2020-09-16T07:52:19.193851Z",
     "iopub.status.busy": "2020-09-16T07:52:19.193275Z",
     "iopub.status.idle": "2020-09-16T07:52:20.464193Z",
     "shell.execute_reply": "2020-09-16T07:52:20.463418Z"
    },
    "papermill": {
     "duration": 1.291492,
     "end_time": "2020-09-16T07:52:20.464319",
     "exception": false,
     "start_time": "2020-09-16T07:52:19.172827",
     "status": "completed"
    },
    "tags": []
   },
   "outputs": [],
   "source": [
    "#hide\n",
    "for i in range(len(dates)):\n",
    "    df1_cases = df_cases1.get_group(dates[i])\n",
    "    for j in range(len(df1_cases.index)):\n",
    "        if df1_cases.iloc[j,1] in arr_states:\n",
    "            dft_cases.loc[i,df1_cases.iloc[j,1]] = df1_cases.iloc[j,2]\n",
    "dft_cases = dft_cases.set_index('states')"
   ]
  },
  {
   "cell_type": "code",
   "execution_count": 8,
   "metadata": {
    "execution": {
     "iopub.execute_input": "2020-09-16T07:52:20.498167Z",
     "iopub.status.busy": "2020-09-16T07:52:20.497020Z",
     "iopub.status.idle": "2020-09-16T07:52:20.498771Z",
     "shell.execute_reply": "2020-09-16T07:52:20.499230Z"
    },
    "papermill": {
     "duration": 0.020609,
     "end_time": "2020-09-16T07:52:20.499345",
     "exception": false,
     "start_time": "2020-09-16T07:52:20.478736",
     "status": "completed"
    },
    "tags": []
   },
   "outputs": [],
   "source": [
    "#hide\n",
    "dft_cases = dft_cases.T\n",
    "dft_deaths = dft_deaths.T\n",
    "dt_today = dates[-1]\n",
    "dt_yday = dates[-2]"
   ]
  },
  {
   "cell_type": "code",
   "execution_count": 9,
   "metadata": {
    "execution": {
     "iopub.execute_input": "2020-09-16T07:52:20.540185Z",
     "iopub.status.busy": "2020-09-16T07:52:20.539638Z",
     "iopub.status.idle": "2020-09-16T07:52:20.543834Z",
     "shell.execute_reply": "2020-09-16T07:52:20.543329Z"
    },
    "papermill": {
     "duration": 0.029713,
     "end_time": "2020-09-16T07:52:20.543970",
     "exception": false,
     "start_time": "2020-09-16T07:52:20.514257",
     "status": "completed"
    },
    "tags": []
   },
   "outputs": [],
   "source": [
    "#hide\n",
    "dft_cases = dft_cases.reset_index()\n",
    "dft_deaths = dft_deaths.reset_index()\n",
    "dft_cases = dft_cases.rename(columns = {'index':'state'})\n",
    "dft_deaths = dft_deaths.rename(columns = {'index':'state'})"
   ]
  },
  {
   "cell_type": "code",
   "execution_count": 10,
   "metadata": {
    "execution": {
     "iopub.execute_input": "2020-09-16T07:52:20.585966Z",
     "iopub.status.busy": "2020-09-16T07:52:20.581664Z",
     "iopub.status.idle": "2020-09-16T07:52:20.588156Z",
     "shell.execute_reply": "2020-09-16T07:52:20.588805Z"
    },
    "papermill": {
     "duration": 0.029693,
     "end_time": "2020-09-16T07:52:20.588978",
     "exception": false,
     "start_time": "2020-09-16T07:52:20.559285",
     "status": "completed"
    },
    "tags": []
   },
   "outputs": [],
   "source": [
    "#hide\n",
    "dfc_cases = dft_cases.groupby('state')[dt_today].sum()\n",
    "dfc_deaths = dft_deaths.groupby('state')[dt_today].sum()\n",
    "dfp_cases = dft_cases.groupby('state')[dt_yday].sum()\n",
    "dfp_deaths = dft_deaths.groupby('state')[dt_yday].sum()"
   ]
  },
  {
   "cell_type": "code",
   "execution_count": 11,
   "metadata": {
    "execution": {
     "iopub.execute_input": "2020-09-16T07:52:20.639444Z",
     "iopub.status.busy": "2020-09-16T07:52:20.638851Z",
     "iopub.status.idle": "2020-09-16T07:52:20.648129Z",
     "shell.execute_reply": "2020-09-16T07:52:20.648600Z"
    },
    "papermill": {
     "duration": 0.042672,
     "end_time": "2020-09-16T07:52:20.648725",
     "exception": false,
     "start_time": "2020-09-16T07:52:20.606053",
     "status": "completed"
    },
    "tags": []
   },
   "outputs": [
    {
     "data": {
      "text/html": [
       "<div>\n",
       "<style scoped>\n",
       "    .dataframe tbody tr th:only-of-type {\n",
       "        vertical-align: middle;\n",
       "    }\n",
       "\n",
       "    .dataframe tbody tr th {\n",
       "        vertical-align: top;\n",
       "    }\n",
       "\n",
       "    .dataframe thead th {\n",
       "        text-align: right;\n",
       "    }\n",
       "</style>\n",
       "<table border=\"1\" class=\"dataframe\">\n",
       "  <thead>\n",
       "    <tr style=\"text-align: right;\">\n",
       "      <th></th>\n",
       "      <th>states</th>\n",
       "      <th>Cases</th>\n",
       "      <th>Deaths</th>\n",
       "      <th>PCases</th>\n",
       "      <th>PDeaths</th>\n",
       "    </tr>\n",
       "  </thead>\n",
       "  <tbody>\n",
       "    <tr>\n",
       "      <th>0</th>\n",
       "      <td>Maharashtra</td>\n",
       "      <td>1097856</td>\n",
       "      <td>30409</td>\n",
       "      <td>1097856</td>\n",
       "      <td>30409</td>\n",
       "    </tr>\n",
       "    <tr>\n",
       "      <th>1</th>\n",
       "      <td>Andhra Pradesh</td>\n",
       "      <td>583925</td>\n",
       "      <td>5041</td>\n",
       "      <td>583925</td>\n",
       "      <td>5041</td>\n",
       "    </tr>\n",
       "    <tr>\n",
       "      <th>2</th>\n",
       "      <td>Tamil Nadu</td>\n",
       "      <td>514208</td>\n",
       "      <td>8502</td>\n",
       "      <td>514208</td>\n",
       "      <td>8502</td>\n",
       "    </tr>\n",
       "    <tr>\n",
       "      <th>3</th>\n",
       "      <td>Karnataka</td>\n",
       "      <td>475265</td>\n",
       "      <td>7481</td>\n",
       "      <td>475265</td>\n",
       "      <td>7481</td>\n",
       "    </tr>\n",
       "    <tr>\n",
       "      <th>4</th>\n",
       "      <td>Uttar Pradesh</td>\n",
       "      <td>324036</td>\n",
       "      <td>4604</td>\n",
       "      <td>324036</td>\n",
       "      <td>4604</td>\n",
       "    </tr>\n",
       "  </tbody>\n",
       "</table>\n",
       "</div>"
      ],
      "text/plain": [
       "           states    Cases  Deaths   PCases  PDeaths\n",
       "0     Maharashtra  1097856   30409  1097856    30409\n",
       "1  Andhra Pradesh   583925    5041   583925     5041\n",
       "2      Tamil Nadu   514208    8502   514208     8502\n",
       "3       Karnataka   475265    7481   475265     7481\n",
       "4   Uttar Pradesh   324036    4604   324036     4604"
      ]
     },
     "execution_count": 11,
     "metadata": {},
     "output_type": "execute_result"
    }
   ],
   "source": [
    "#hide\n",
    "df_table = pd.DataFrame({'states': dfc_cases.index, 'Cases': dfc_cases.values, 'Deaths': dfc_deaths.values, 'PCases': dfp_cases.values, 'PDeaths': dfp_deaths.values}).set_index('states')\n",
    "df_table = df_table.sort_values(by = ['Cases','Deaths'], ascending = [False, False])\n",
    "df_table = df_table.reset_index()\n",
    "df_table.head()"
   ]
  },
  {
   "cell_type": "code",
   "execution_count": 12,
   "metadata": {
    "execution": {
     "iopub.execute_input": "2020-09-16T07:52:20.687005Z",
     "iopub.status.busy": "2020-09-16T07:52:20.686461Z",
     "iopub.status.idle": "2020-09-16T07:52:20.696429Z",
     "shell.execute_reply": "2020-09-16T07:52:20.695850Z"
    },
    "papermill": {
     "duration": 0.031521,
     "end_time": "2020-09-16T07:52:20.696579",
     "exception": false,
     "start_time": "2020-09-16T07:52:20.665058",
     "status": "completed"
    },
    "tags": []
   },
   "outputs": [],
   "source": [
    "#hide\n",
    "for c in 'Cases, Deaths'.split(', '):\n",
    "    df_table[f'{c} (+)'] = (df_table[c] - df_table[f'P{c}']).clip(0)\n",
    "df_table['Fatality Rate'] = (100* df_table['Deaths']/ df_table['Cases']).round(2)"
   ]
  },
  {
   "cell_type": "code",
   "execution_count": 13,
   "metadata": {
    "execution": {
     "iopub.execute_input": "2020-09-16T07:52:20.743196Z",
     "iopub.status.busy": "2020-09-16T07:52:20.742538Z",
     "iopub.status.idle": "2020-09-16T07:52:20.745947Z",
     "shell.execute_reply": "2020-09-16T07:52:20.745388Z"
    },
    "papermill": {
     "duration": 0.033174,
     "end_time": "2020-09-16T07:52:20.746053",
     "exception": false,
     "start_time": "2020-09-16T07:52:20.712879",
     "status": "completed"
    },
    "tags": []
   },
   "outputs": [
    {
     "data": {
      "text/html": [
       "<div>\n",
       "<style scoped>\n",
       "    .dataframe tbody tr th:only-of-type {\n",
       "        vertical-align: middle;\n",
       "    }\n",
       "\n",
       "    .dataframe tbody tr th {\n",
       "        vertical-align: top;\n",
       "    }\n",
       "\n",
       "    .dataframe thead th {\n",
       "        text-align: right;\n",
       "    }\n",
       "</style>\n",
       "<table border=\"1\" class=\"dataframe\">\n",
       "  <thead>\n",
       "    <tr style=\"text-align: right;\">\n",
       "      <th></th>\n",
       "      <th>states</th>\n",
       "      <th>Cases</th>\n",
       "      <th>Deaths</th>\n",
       "      <th>PCases</th>\n",
       "      <th>PDeaths</th>\n",
       "      <th>Cases (+)</th>\n",
       "      <th>Deaths (+)</th>\n",
       "      <th>Fatality Rate</th>\n",
       "    </tr>\n",
       "  </thead>\n",
       "  <tbody>\n",
       "    <tr>\n",
       "      <th>0</th>\n",
       "      <td>Maharashtra</td>\n",
       "      <td>1097856</td>\n",
       "      <td>30409</td>\n",
       "      <td>1097856</td>\n",
       "      <td>30409</td>\n",
       "      <td>0</td>\n",
       "      <td>0</td>\n",
       "      <td>2.77</td>\n",
       "    </tr>\n",
       "    <tr>\n",
       "      <th>1</th>\n",
       "      <td>Andhra Pradesh</td>\n",
       "      <td>583925</td>\n",
       "      <td>5041</td>\n",
       "      <td>583925</td>\n",
       "      <td>5041</td>\n",
       "      <td>0</td>\n",
       "      <td>0</td>\n",
       "      <td>0.86</td>\n",
       "    </tr>\n",
       "    <tr>\n",
       "      <th>2</th>\n",
       "      <td>Tamil Nadu</td>\n",
       "      <td>514208</td>\n",
       "      <td>8502</td>\n",
       "      <td>514208</td>\n",
       "      <td>8502</td>\n",
       "      <td>0</td>\n",
       "      <td>0</td>\n",
       "      <td>1.65</td>\n",
       "    </tr>\n",
       "    <tr>\n",
       "      <th>3</th>\n",
       "      <td>Karnataka</td>\n",
       "      <td>475265</td>\n",
       "      <td>7481</td>\n",
       "      <td>475265</td>\n",
       "      <td>7481</td>\n",
       "      <td>0</td>\n",
       "      <td>0</td>\n",
       "      <td>1.57</td>\n",
       "    </tr>\n",
       "    <tr>\n",
       "      <th>4</th>\n",
       "      <td>Uttar Pradesh</td>\n",
       "      <td>324036</td>\n",
       "      <td>4604</td>\n",
       "      <td>324036</td>\n",
       "      <td>4604</td>\n",
       "      <td>0</td>\n",
       "      <td>0</td>\n",
       "      <td>1.42</td>\n",
       "    </tr>\n",
       "  </tbody>\n",
       "</table>\n",
       "</div>"
      ],
      "text/plain": [
       "           states    Cases  Deaths   PCases  PDeaths  Cases (+)  Deaths (+)  \\\n",
       "0     Maharashtra  1097856   30409  1097856    30409          0           0   \n",
       "1  Andhra Pradesh   583925    5041   583925     5041          0           0   \n",
       "2      Tamil Nadu   514208    8502   514208     8502          0           0   \n",
       "3       Karnataka   475265    7481   475265     7481          0           0   \n",
       "4   Uttar Pradesh   324036    4604   324036     4604          0           0   \n",
       "\n",
       "   Fatality Rate  \n",
       "0           2.77  \n",
       "1           0.86  \n",
       "2           1.65  \n",
       "3           1.57  \n",
       "4           1.42  "
      ]
     },
     "execution_count": 13,
     "metadata": {},
     "output_type": "execute_result"
    }
   ],
   "source": [
    "#hide\n",
    "df_table.head()"
   ]
  },
  {
   "cell_type": "code",
   "execution_count": 14,
   "metadata": {
    "execution": {
     "iopub.execute_input": "2020-09-16T07:52:20.785040Z",
     "iopub.status.busy": "2020-09-16T07:52:20.784220Z",
     "iopub.status.idle": "2020-09-16T07:52:20.801148Z",
     "shell.execute_reply": "2020-09-16T07:52:20.800683Z"
    },
    "papermill": {
     "duration": 0.039002,
     "end_time": "2020-09-16T07:52:20.801256",
     "exception": false,
     "start_time": "2020-09-16T07:52:20.762254",
     "status": "completed"
    },
    "tags": []
   },
   "outputs": [
    {
     "data": {
      "text/plain": [
       "{'updated': '2020-09-16',\n",
       " 'since': '2020-09-15',\n",
       " 'Cases': 5020319,\n",
       " 'PCases': 5018034,\n",
       " 'Deaths': 82103,\n",
       " 'PDeaths': 82091,\n",
       " 'Cases (+)': 2285,\n",
       " 'Deaths (+)': 12}"
      ]
     },
     "execution_count": 14,
     "metadata": {},
     "output_type": "execute_result"
    }
   ],
   "source": [
    "#hide\n",
    "summary = {'updated':dates[-1], 'since':dates[-2]}\n",
    "list_names = ['Cases', 'PCases', 'Deaths', 'PDeaths', 'Cases (+)', 'Deaths (+)']\n",
    "for name in list_names:\n",
    "    summary[name] = df_table.sum()[name]\n",
    "summary"
   ]
  },
  {
   "cell_type": "code",
   "execution_count": 15,
   "metadata": {
    "execution": {
     "iopub.execute_input": "2020-09-16T07:52:20.842026Z",
     "iopub.status.busy": "2020-09-16T07:52:20.841173Z",
     "iopub.status.idle": "2020-09-16T07:52:20.843612Z",
     "shell.execute_reply": "2020-09-16T07:52:20.844270Z"
    },
    "papermill": {
     "duration": 0.024694,
     "end_time": "2020-09-16T07:52:20.844408",
     "exception": false,
     "start_time": "2020-09-16T07:52:20.819714",
     "status": "completed"
    },
    "tags": []
   },
   "outputs": [],
   "source": [
    "#hide\n",
    "overview = '''\n",
    "<!-- #######  HTML!! #########-->\n",
    "<h1 style=\"color: #5e9ca0; text-align: center;\">India</h1>\n",
    "<p style=\"text-align: center;\">Last update: <strong>{update}</strong></p>\n",
    "<p style=\"text-align: center;\">Confirmed cases:</p>\n",
    "<p style=\"text-align: center;font-size:24px;\">{cases} (<span style=\"color: #ff0000;\">+{new}</span>)</p>\n",
    "<p style=\"text-align: center;\">Confirmed deaths:</p>\n",
    "<p style=\"text-align: center;font-size:24px;\">{deaths} (<span style=\"color: #ff0000;\">+{dnew}</span>)</p>\n",
    "'''"
   ]
  },
  {
   "cell_type": "code",
   "execution_count": 16,
   "metadata": {
    "execution": {
     "iopub.execute_input": "2020-09-16T07:52:20.884608Z",
     "iopub.status.busy": "2020-09-16T07:52:20.883886Z",
     "iopub.status.idle": "2020-09-16T07:52:20.887823Z",
     "shell.execute_reply": "2020-09-16T07:52:20.887350Z"
    },
    "papermill": {
     "duration": 0.026242,
     "end_time": "2020-09-16T07:52:20.887930",
     "exception": false,
     "start_time": "2020-09-16T07:52:20.861688",
     "status": "completed"
    },
    "tags": []
   },
   "outputs": [
    {
     "data": {
      "text/html": [
       "\n",
       "<!-- #######  HTML!! #########-->\n",
       "<h1 style=\"color: #5e9ca0; text-align: center;\">India</h1>\n",
       "<p style=\"text-align: center;\">Last update: <strong>2020-09-16</strong></p>\n",
       "<p style=\"text-align: center;\">Confirmed cases:</p>\n",
       "<p style=\"text-align: center;font-size:24px;\">5020319 (<span style=\"color: #ff0000;\">+2285</span>)</p>\n",
       "<p style=\"text-align: center;\">Confirmed deaths:</p>\n",
       "<p style=\"text-align: center;font-size:24px;\">82103 (<span style=\"color: #ff0000;\">+12</span>)</p>\n"
      ],
      "text/plain": [
       "<IPython.core.display.HTML object>"
      ]
     },
     "metadata": {},
     "output_type": "display_data"
    }
   ],
   "source": [
    "#hide_input\n",
    "update = summary['updated']\n",
    "cases = summary['Cases']\n",
    "new = summary['Cases (+)']\n",
    "deaths = summary['Deaths']\n",
    "dnew = summary['Deaths (+)']\n",
    "\n",
    "html = HTML(overview.format(update=update, cases=cases,new=new,deaths=deaths,dnew=dnew))\n",
    "\n",
    "display(html)"
   ]
  },
  {
   "cell_type": "code",
   "execution_count": 17,
   "metadata": {
    "execution": {
     "iopub.execute_input": "2020-09-16T07:52:20.934342Z",
     "iopub.status.busy": "2020-09-16T07:52:20.933722Z",
     "iopub.status.idle": "2020-09-16T07:52:20.940400Z",
     "shell.execute_reply": "2020-09-16T07:52:20.939649Z"
    },
    "papermill": {
     "duration": 0.03167,
     "end_time": "2020-09-16T07:52:20.940533",
     "exception": false,
     "start_time": "2020-09-16T07:52:20.908863",
     "status": "completed"
    },
    "tags": []
   },
   "outputs": [],
   "source": [
    "#hide\n",
    "dt_cols = list(dft_cases.columns[1:])\n",
    "dft_ct_new_cases = dft_cases.groupby('state')[dt_cols].sum().diff(axis=1).fillna(0).astype(int)\n",
    "dft_ct_new_cases.sort_values(by = dates[-1], ascending = False,inplace = True)"
   ]
  },
  {
   "cell_type": "code",
   "execution_count": 18,
   "metadata": {
    "execution": {
     "iopub.execute_input": "2020-09-16T07:52:20.986352Z",
     "iopub.status.busy": "2020-09-16T07:52:20.985722Z",
     "iopub.status.idle": "2020-09-16T07:52:20.996434Z",
     "shell.execute_reply": "2020-09-16T07:52:20.996983Z"
    },
    "papermill": {
     "duration": 0.038986,
     "end_time": "2020-09-16T07:52:20.997116",
     "exception": false,
     "start_time": "2020-09-16T07:52:20.958130",
     "status": "completed"
    },
    "tags": []
   },
   "outputs": [
    {
     "data": {
      "text/html": [
       "<div>\n",
       "<style scoped>\n",
       "    .dataframe tbody tr th:only-of-type {\n",
       "        vertical-align: middle;\n",
       "    }\n",
       "\n",
       "    .dataframe tbody tr th {\n",
       "        vertical-align: top;\n",
       "    }\n",
       "\n",
       "    .dataframe thead th {\n",
       "        text-align: right;\n",
       "    }\n",
       "</style>\n",
       "<table border=\"1\" class=\"dataframe\">\n",
       "  <thead>\n",
       "    <tr style=\"text-align: right;\">\n",
       "      <th>states</th>\n",
       "      <th>2020-07-01</th>\n",
       "      <th>2020-07-02</th>\n",
       "      <th>2020-07-03</th>\n",
       "      <th>2020-07-04</th>\n",
       "      <th>2020-07-05</th>\n",
       "      <th>2020-07-06</th>\n",
       "      <th>2020-07-07</th>\n",
       "      <th>2020-07-08</th>\n",
       "      <th>2020-07-09</th>\n",
       "      <th>2020-07-10</th>\n",
       "      <th>...</th>\n",
       "      <th>2020-09-07</th>\n",
       "      <th>2020-09-08</th>\n",
       "      <th>2020-09-09</th>\n",
       "      <th>2020-09-10</th>\n",
       "      <th>2020-09-11</th>\n",
       "      <th>2020-09-12</th>\n",
       "      <th>2020-09-13</th>\n",
       "      <th>2020-09-14</th>\n",
       "      <th>2020-09-15</th>\n",
       "      <th>2020-09-16</th>\n",
       "    </tr>\n",
       "    <tr>\n",
       "      <th>state</th>\n",
       "      <th></th>\n",
       "      <th></th>\n",
       "      <th></th>\n",
       "      <th></th>\n",
       "      <th></th>\n",
       "      <th></th>\n",
       "      <th></th>\n",
       "      <th></th>\n",
       "      <th></th>\n",
       "      <th></th>\n",
       "      <th></th>\n",
       "      <th></th>\n",
       "      <th></th>\n",
       "      <th></th>\n",
       "      <th></th>\n",
       "      <th></th>\n",
       "      <th></th>\n",
       "      <th></th>\n",
       "      <th></th>\n",
       "      <th></th>\n",
       "      <th></th>\n",
       "    </tr>\n",
       "  </thead>\n",
       "  <tbody>\n",
       "    <tr>\n",
       "      <th>Telangana</th>\n",
       "      <td>0</td>\n",
       "      <td>1213</td>\n",
       "      <td>1892</td>\n",
       "      <td>1850</td>\n",
       "      <td>1590</td>\n",
       "      <td>1831</td>\n",
       "      <td>1879</td>\n",
       "      <td>1924</td>\n",
       "      <td>1410</td>\n",
       "      <td>1278</td>\n",
       "      <td>...</td>\n",
       "      <td>1802</td>\n",
       "      <td>2392</td>\n",
       "      <td>2479</td>\n",
       "      <td>2534</td>\n",
       "      <td>2426</td>\n",
       "      <td>2278</td>\n",
       "      <td>2216</td>\n",
       "      <td>1417</td>\n",
       "      <td>2058</td>\n",
       "      <td>2273</td>\n",
       "    </tr>\n",
       "    <tr>\n",
       "      <th>Mizoram</th>\n",
       "      <td>0</td>\n",
       "      <td>2</td>\n",
       "      <td>0</td>\n",
       "      <td>2</td>\n",
       "      <td>22</td>\n",
       "      <td>11</td>\n",
       "      <td>1</td>\n",
       "      <td>5</td>\n",
       "      <td>0</td>\n",
       "      <td>23</td>\n",
       "      <td>...</td>\n",
       "      <td>21</td>\n",
       "      <td>9</td>\n",
       "      <td>69</td>\n",
       "      <td>141</td>\n",
       "      <td>20</td>\n",
       "      <td>26</td>\n",
       "      <td>35</td>\n",
       "      <td>14</td>\n",
       "      <td>40</td>\n",
       "      <td>12</td>\n",
       "    </tr>\n",
       "    <tr>\n",
       "      <th>Andaman and Nicobar Islands</th>\n",
       "      <td>0</td>\n",
       "      <td>9</td>\n",
       "      <td>7</td>\n",
       "      <td>3</td>\n",
       "      <td>6</td>\n",
       "      <td>16</td>\n",
       "      <td>6</td>\n",
       "      <td>2</td>\n",
       "      <td>7</td>\n",
       "      <td>0</td>\n",
       "      <td>...</td>\n",
       "      <td>27</td>\n",
       "      <td>33</td>\n",
       "      <td>34</td>\n",
       "      <td>39</td>\n",
       "      <td>29</td>\n",
       "      <td>27</td>\n",
       "      <td>25</td>\n",
       "      <td>11</td>\n",
       "      <td>17</td>\n",
       "      <td>0</td>\n",
       "    </tr>\n",
       "    <tr>\n",
       "      <th>Puducherry</th>\n",
       "      <td>0</td>\n",
       "      <td>63</td>\n",
       "      <td>22</td>\n",
       "      <td>80</td>\n",
       "      <td>42</td>\n",
       "      <td>65</td>\n",
       "      <td>30</td>\n",
       "      <td>110</td>\n",
       "      <td>49</td>\n",
       "      <td>72</td>\n",
       "      <td>...</td>\n",
       "      <td>284</td>\n",
       "      <td>433</td>\n",
       "      <td>335</td>\n",
       "      <td>452</td>\n",
       "      <td>490</td>\n",
       "      <td>419</td>\n",
       "      <td>388</td>\n",
       "      <td>393</td>\n",
       "      <td>375</td>\n",
       "      <td>0</td>\n",
       "    </tr>\n",
       "    <tr>\n",
       "      <th>Maharashtra</th>\n",
       "      <td>0</td>\n",
       "      <td>6328</td>\n",
       "      <td>6364</td>\n",
       "      <td>7074</td>\n",
       "      <td>6555</td>\n",
       "      <td>5368</td>\n",
       "      <td>5134</td>\n",
       "      <td>6603</td>\n",
       "      <td>6875</td>\n",
       "      <td>7862</td>\n",
       "      <td>...</td>\n",
       "      <td>16429</td>\n",
       "      <td>20131</td>\n",
       "      <td>23577</td>\n",
       "      <td>23446</td>\n",
       "      <td>24886</td>\n",
       "      <td>22084</td>\n",
       "      <td>22543</td>\n",
       "      <td>17066</td>\n",
       "      <td>20482</td>\n",
       "      <td>0</td>\n",
       "    </tr>\n",
       "  </tbody>\n",
       "</table>\n",
       "<p>5 rows × 78 columns</p>\n",
       "</div>"
      ],
      "text/plain": [
       "states                       2020-07-01  2020-07-02  2020-07-03  2020-07-04  \\\n",
       "state                                                                         \n",
       "Telangana                             0        1213        1892        1850   \n",
       "Mizoram                               0           2           0           2   \n",
       "Andaman and Nicobar Islands           0           9           7           3   \n",
       "Puducherry                            0          63          22          80   \n",
       "Maharashtra                           0        6328        6364        7074   \n",
       "\n",
       "states                       2020-07-05  2020-07-06  2020-07-07  2020-07-08  \\\n",
       "state                                                                         \n",
       "Telangana                          1590        1831        1879        1924   \n",
       "Mizoram                              22          11           1           5   \n",
       "Andaman and Nicobar Islands           6          16           6           2   \n",
       "Puducherry                           42          65          30         110   \n",
       "Maharashtra                        6555        5368        5134        6603   \n",
       "\n",
       "states                       2020-07-09  2020-07-10  ...  2020-09-07  \\\n",
       "state                                                ...               \n",
       "Telangana                          1410        1278  ...        1802   \n",
       "Mizoram                               0          23  ...          21   \n",
       "Andaman and Nicobar Islands           7           0  ...          27   \n",
       "Puducherry                           49          72  ...         284   \n",
       "Maharashtra                        6875        7862  ...       16429   \n",
       "\n",
       "states                       2020-09-08  2020-09-09  2020-09-10  2020-09-11  \\\n",
       "state                                                                         \n",
       "Telangana                          2392        2479        2534        2426   \n",
       "Mizoram                               9          69         141          20   \n",
       "Andaman and Nicobar Islands          33          34          39          29   \n",
       "Puducherry                          433         335         452         490   \n",
       "Maharashtra                       20131       23577       23446       24886   \n",
       "\n",
       "states                       2020-09-12  2020-09-13  2020-09-14  2020-09-15  \\\n",
       "state                                                                         \n",
       "Telangana                          2278        2216        1417        2058   \n",
       "Mizoram                              26          35          14          40   \n",
       "Andaman and Nicobar Islands          27          25          11          17   \n",
       "Puducherry                          419         388         393         375   \n",
       "Maharashtra                       22084       22543       17066       20482   \n",
       "\n",
       "states                       2020-09-16  \n",
       "state                                    \n",
       "Telangana                          2273  \n",
       "Mizoram                              12  \n",
       "Andaman and Nicobar Islands           0  \n",
       "Puducherry                            0  \n",
       "Maharashtra                           0  \n",
       "\n",
       "[5 rows x 78 columns]"
      ]
     },
     "execution_count": 18,
     "metadata": {},
     "output_type": "execute_result"
    }
   ],
   "source": [
    "#hide\n",
    "dft_ct_new_cases.head()"
   ]
  },
  {
   "cell_type": "code",
   "execution_count": 19,
   "metadata": {
    "execution": {
     "iopub.execute_input": "2020-09-16T07:52:21.040586Z",
     "iopub.status.busy": "2020-09-16T07:52:21.039995Z",
     "iopub.status.idle": "2020-09-16T07:52:24.879211Z",
     "shell.execute_reply": "2020-09-16T07:52:24.878710Z"
    },
    "papermill": {
     "duration": 3.864112,
     "end_time": "2020-09-16T07:52:24.879335",
     "exception": false,
     "start_time": "2020-09-16T07:52:21.015223",
     "status": "completed"
    },
    "tags": []
   },
   "outputs": [
    {
     "data": {
      "image/png": "[encoded data removed]",
      "text/plain": [
       "<Figure size 1296x2016 with 11 Axes>"
      ]
     },
     "metadata": {
      "needs_background": "light"
     },
     "output_type": "display_data"
    }
   ],
   "source": [
    "#hide_input\n",
    "df = dft_ct_new_cases.copy()\n",
    "df.loc['Total'] = df.sum()\n",
    "n = 5\n",
    "ax = []\n",
    "fig = plt.figure(figsize = (18,28))\n",
    "gs = fig.add_gridspec(n+2, 5)\n",
    "# gs = fig.add_gridspec(2, 3)\n",
    "ax1 = fig.add_subplot(gs[0, :])\n",
    "ef = df.loc['Total'].rename_axis('date').reset_index()\n",
    "ef['date'] = ef['date'].astype('datetime64[ns]')\n",
    "ax1.bar(ef.date,ef.Total,alpha=0.3,color='#007acc')\n",
    "ax1.plot(ef.date,ef.Total , marker=\"o\", color='#007acc')\n",
    "ax1.xaxis.set_major_locator(mdates.WeekdayLocator())\n",
    "ax1.xaxis.set_major_formatter(mdates.DateFormatter('%b %d'))\n",
    "ax1.text(0.02, 0.5,'India daily case count', transform = ax1.transAxes, fontsize=25);\n",
    "ax1.spines['right'].set_visible(False)\n",
    "ax1.spines['top'].set_visible(False)\n",
    "\n",
    "ax2 = fig.add_subplot(gs[1,0])\n",
    "ef = df.loc['Maharashtra'].rename_axis('date').reset_index()\n",
    "ef['date'] = ef['date'].astype('datetime64[ns]')\n",
    "\n",
    "ax2.bar(ef.date, ef.Maharashtra,color = '#007acc',alpha=0.5)\n",
    "ax2.xaxis.set_major_locator(mdates.WeekdayLocator())\n",
    "ax2.xaxis.set_major_formatter(mdates.DateFormatter('%b %d'))\n",
    "ax2.set_xticks(ax2.get_xticks()[::3])\n",
    "maxyval = ef.Maharashtra.max()\n",
    "ax2.set_ylim([0,maxyval])\n",
    "ax2.text(0.05, 0.9,'Maharashtra', transform = ax2.transAxes, fontsize=20);\n",
    "ax2.spines['right'].set_visible(False)\n",
    "ax2.spines['top'].set_visible(False)\n",
    "\n",
    "\n",
    "ax3 = fig.add_subplot(gs[1,1])\n",
    "ef = df.loc['Tamil Nadu'].rename_axis('date').reset_index()\n",
    "ef['date'] = ef['date'].astype('datetime64[ns]')\n",
    "ax3.bar(ef.date, ef['Tamil Nadu'],color = '#007acc',alpha=0.5,)\n",
    "ax3.xaxis.set_major_locator(mdates.WeekdayLocator())\n",
    "ax3.xaxis.set_major_formatter(mdates.DateFormatter('%b %d'))\n",
    "ax3.set_xticks(ax3.get_xticks()[::3])\n",
    "ax3.text(0.05, 0.9,'Tamil Nadu', transform = ax3.transAxes, fontsize=20);\n",
    "ax3.spines['right'].set_visible(False)\n",
    "ax3.spines['top'].set_visible(False)\n",
    "\n",
    "ax5 = fig.add_subplot(gs[1,3])\n",
    "ef = df.loc['Telangana'].rename_axis('date').reset_index()\n",
    "ef['date'] = ef['date'].astype('datetime64[ns]')\n",
    "ax5.bar(ef.date, ef['Telangana'],color = '#007acc',alpha=0.5,)\n",
    "ax5.xaxis.set_major_locator(mdates.WeekdayLocator())\n",
    "ax5.xaxis.set_major_formatter(mdates.DateFormatter('%b %d'))\n",
    "ax5.set_xticks(ax5.get_xticks()[::3])\n",
    "ax5.text(0.05, 0.9,'Telangana', transform = ax5.transAxes, fontsize=20);\n",
    "ax5.spines['right'].set_visible(False)\n",
    "ax5.spines['top'].set_visible(False)\n",
    "\n",
    "ax6 = fig.add_subplot(gs[1,4])\n",
    "ef = df.loc['Andhra Pradesh'].rename_axis('date').reset_index()\n",
    "ef['date'] = ef['date'].astype('datetime64[ns]')\n",
    "ax6.bar(ef.date, ef['Andhra Pradesh'],color = '#007acc',alpha=0.5,)\n",
    "ax6.xaxis.set_major_locator(mdates.WeekdayLocator())\n",
    "ax6.xaxis.set_major_formatter(mdates.DateFormatter('%b %d'))\n",
    "ax6.set_xticks(ax6.get_xticks()[::3])\n",
    "ax6.text(0.05, 1,'Andhra Pradesh', transform = ax6.transAxes, fontsize=20);\n",
    "ax6.spines['right'].set_visible(False)\n",
    "ax6.spines['top'].set_visible(False)\n",
    "\n",
    "ax4 = fig.add_subplot(gs[1,2])\n",
    "ef = df.loc['Delhi'].rename_axis('date').reset_index()\n",
    "ef['date'] = ef['date'].astype('datetime64[ns]')\n",
    "ax4.bar(ef.date, ef.Delhi,color = '#007acc',alpha=0.5)\n",
    "ax4.set_xticks([])\n",
    "ax4.xaxis.set_major_locator(mdates.WeekdayLocator())\n",
    "ax4.xaxis.set_major_formatter(mdates.DateFormatter('%b %d'))\n",
    "ax4.set_xticks(ax4.get_xticks()[::3])\n",
    "ax4.spines['right'].set_visible(False)\n",
    "ax4.spines['top'].set_visible(False)\n",
    "\n",
    "ax4.text(0.05, 1,'Delhi', transform = ax4.transAxes, fontsize=20)\n",
    "\n",
    "for i in range(n):\n",
    "    \n",
    "    ax.append(fig.add_subplot(gs[i+2,:]))\n",
    "    ef = df.iloc[i+3].rename_axis('date').reset_index()\n",
    "    ef['date'] = ef['date'].astype('datetime64[ns]')\n",
    "    ax[i].bar(ef.date,ef.iloc[:,-1],color = '#007acc',alpha=0.3)\n",
    "    ax[i].plot(ef.date,ef.iloc[:,-1],marker='o',color='#007acc')\n",
    "    ax[i].text(0.02,0.5,f'{ef.columns.values[-1]}',transform = ax[i].transAxes, fontsize = 20);\n",
    "    ax[i].xaxis.set_major_locator(mdates.WeekdayLocator())\n",
    "    ax[i].xaxis.set_major_formatter(mdates.DateFormatter('%b %d'))\n",
    "    ax[i].set_ylim([0,7000])\n",
    "    ax[i].spines['right'].set_visible(False)\n",
    "    ax[i].spines['top'].set_visible(False)\n",
    "plt.tight_layout()\n"
   ]
  },
  {
   "cell_type": "code",
   "execution_count": 20,
   "metadata": {
    "execution": {
     "iopub.execute_input": "2020-09-16T07:52:24.928368Z",
     "iopub.status.busy": "2020-09-16T07:52:24.927743Z",
     "iopub.status.idle": "2020-09-16T07:52:24.929933Z",
     "shell.execute_reply": "2020-09-16T07:52:24.930516Z"
    },
    "papermill": {
     "duration": 0.030386,
     "end_time": "2020-09-16T07:52:24.930641",
     "exception": false,
     "start_time": "2020-09-16T07:52:24.900255",
     "status": "completed"
    },
    "tags": []
   },
   "outputs": [
    {
     "name": "stdout",
     "output_type": "stream",
     "text": [
      "                                   states    Cases  Deaths   PCases  PDeaths  Cases (+)  Deaths (+)  Fatality Rate\n",
      "                              Maharashtra  1097856   30409  1097856    30409          0           0           2.77\n",
      "                           Andhra Pradesh   583925    5041   583925     5041          0           0           0.86\n",
      "                               Tamil Nadu   514208    8502   514208     8502          0           0           1.65\n",
      "                                Karnataka   475265    7481   475265     7481          0           0           1.57\n",
      "                            Uttar Pradesh   324036    4604   324036     4604          0           0           1.42\n",
      "                                    Delhi   225796    4806   225796     4806          0           0           2.13\n",
      "                              West Bengal   209146    4062   209146     4062          0           0           1.94\n",
      "                                Telangana   162844     996   160571      984       2273          12           0.61\n",
      "                                    Bihar   161101     836   161101      836          0           0           0.52\n",
      "                                   Odisha   158650     698   158650      698          0           0           0.44\n",
      "                                    Assam   146575     492   146575      492          0           0           0.34\n",
      "                                  Gujarat   116345    3245   116345     3245          0           0           2.79\n",
      "                                   Kerala   114034     467   114034      467          0           0           0.41\n",
      "                                Rajasthan   105898    1264   105898     1264          0           0           1.19\n",
      "                                  Haryana    98622    1026    98622     1026          0           0           1.04\n",
      "                           Madhya Pradesh    93053    1820    93053     1820          0           0           1.96\n",
      "                                   Punjab    84482    2514    84482     2514          0           0           2.98\n",
      "                             Chhattisgarh    70777     588    70777      588          0           0           0.83\n",
      "                                Jharkhand    64439     571    64439      571          0           0           0.89\n",
      "                        Jammu and Kashmir    56654     914    56654      914          0           0           1.61\n",
      "                              Uttarakhand    34407     438    34407      438          0           0           1.27\n",
      "                                      Goa    25511     315    25511      315          0           0           1.23\n",
      "                               Puducherry    20601     405    20601      405          0           0           1.97\n",
      "                                  Tripura    19715     207    19715      207          0           0           1.05\n",
      "                         Himachal Pradesh    10335      89    10335       89          0           0           0.86\n",
      "                               Chandigarh     8592      96     8592       96          0           0           1.12\n",
      "                                  Manipur     8210      47     8210       47          0           0           0.57\n",
      "                        Arunachal Pradesh     6466      13     6466       13          0           0           0.20\n",
      "                                 Nagaland     5229      10     5229       10          0           0           0.19\n",
      "                                Meghalaya     4037      29     4037       29          0           0           0.72\n",
      "              Andaman and Nicobar Islands     3574      52     3574       52          0           0           1.45\n",
      "                                   Ladakh     3499      44     3499       44          0           0           1.26\n",
      " Dadra and Nagar Haveli and Daman and Diu     2784       2     2784        2          0           0           0.07\n",
      "                                   Sikkim     2173      20     2173       20          0           0           0.92\n",
      "                                  Mizoram     1480       0     1468        0         12           0           0.00\n",
      "                              Lakshadweep        0       0        0        0          0           0            NaN\n"
     ]
    }
   ],
   "source": [
    "#hide_input\n",
    "print(df_table.to_string(index=False))"
   ]
  },
  {
   "cell_type": "code",
   "execution_count": null,
   "metadata": {
    "papermill": {
     "duration": 0.022955,
     "end_time": "2020-09-16T07:52:24.979937",
     "exception": false,
     "start_time": "2020-09-16T07:52:24.956982",
     "status": "completed"
    },
    "tags": []
   },
   "outputs": [],
   "source": []
  },
  {
   "cell_type": "code",
   "execution_count": null,
   "metadata": {
    "papermill": {
     "duration": 0.02432,
     "end_time": "2020-09-16T07:52:25.026407",
     "exception": false,
     "start_time": "2020-09-16T07:52:25.002087",
     "status": "completed"
    },
    "tags": []
   },
   "outputs": [],
   "source": []
  }
 ],
 "metadata": {
  "kernelspec": {
   "display_name": "Python 3",
   "language": "python",
   "name": "python3"
  },
  "language_info": {
   "codemirror_mode": {
    "name": "ipython",
    "version": 3
   },
   "file_extension": ".py",
   "mimetype": "text/x-python",
   "name": "python",
   "nbconvert_exporter": "python",
   "pygments_lexer": "ipython3",
   "version": "3.6.12"
  },
  "papermill": {
   "duration": 9.601677,
   "end_time": "2020-09-16T07:52:25.455628",
   "environment_variables": {},
   "exception": null,
   "input_path": "latest.ipynb",
   "output_path": "latest.ipynb",
   "parameters": {},
   "start_time": "2020-09-16T07:52:15.853951",
   "version": "2.1.2"
  }
 },
 "nbformat": 4,
 "nbformat_minor": 4
}