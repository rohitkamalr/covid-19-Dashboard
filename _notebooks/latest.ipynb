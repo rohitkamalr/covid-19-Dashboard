{
 "cells": [
  {
   "cell_type": "markdown",
   "metadata": {
    "papermill": {
     "duration": 0.021867,
     "end_time": "2020-09-12T12:27:14.241868",
     "exception": false,
     "start_time": "2020-09-12T12:27:14.220001",
     "status": "completed"
    },
    "tags": []
   },
   "source": [
    "# Latest COVID-19 India Matplotlib Overview"
   ]
  },
  {
   "cell_type": "code",
   "execution_count": 1,
   "metadata": {
    "execution": {
     "iopub.execute_input": "2020-09-12T12:27:14.284808Z",
     "iopub.status.busy": "2020-09-12T12:27:14.284074Z",
     "iopub.status.idle": "2020-09-12T12:27:14.963762Z",
     "shell.execute_reply": "2020-09-12T12:27:14.963154Z"
    },
    "papermill": {
     "duration": 0.703858,
     "end_time": "2020-09-12T12:27:14.963939",
     "exception": false,
     "start_time": "2020-09-12T12:27:14.260081",
     "status": "completed"
    },
    "tags": []
   },
   "outputs": [],
   "source": [
    "#hide\n",
    "import pandas as pd\n",
    "import numpy as np\n",
    "import requests\n",
    "import json\n",
    "import matplotlib.pyplot as plt\n",
    "import matplotlib.dates as mdates\n",
    "import matplotlib as mpl\n",
    "from IPython.core.display import display,HTML\n",
    "%matplotlib inline\n",
    "from datetime import date"
   ]
  },
  {
   "cell_type": "code",
   "execution_count": 2,
   "metadata": {
    "execution": {
     "iopub.execute_input": "2020-09-12T12:27:15.009143Z",
     "iopub.status.busy": "2020-09-12T12:27:15.008367Z",
     "iopub.status.idle": "2020-09-12T12:27:15.392283Z",
     "shell.execute_reply": "2020-09-12T12:27:15.390945Z"
    },
    "papermill": {
     "duration": 0.409891,
     "end_time": "2020-09-12T12:27:15.392446",
     "exception": false,
     "start_time": "2020-09-12T12:27:14.982555",
     "status": "completed"
    },
    "tags": []
   },
   "outputs": [],
   "source": [
    "#hide\n",
    "df  = pd.read_csv('https://api.covid19india.org/csv/latest/states.csv')\n",
    "df = df[['Date','State','Confirmed','Deceased']]\n",
    "df = df.rename(columns={'Confirmed':'Cases', \"Deceased\":'Deaths'})\n",
    "df_cases = df[[\"Date\",'State','Cases']]\n",
    "df_deaths = df[['Date','State','Deaths']]\n",
    "df_cases1 = df_cases.groupby('Date')\n",
    "df_deaths1= df_deaths.groupby('Date')"
   ]
  },
  {
   "cell_type": "code",
   "execution_count": 3,
   "metadata": {
    "execution": {
     "iopub.execute_input": "2020-09-12T12:27:15.435864Z",
     "iopub.status.busy": "2020-09-12T12:27:15.435104Z",
     "iopub.status.idle": "2020-09-12T12:27:15.456055Z",
     "shell.execute_reply": "2020-09-12T12:27:15.455342Z"
    },
    "papermill": {
     "duration": 0.044318,
     "end_time": "2020-09-12T12:27:15.456222",
     "exception": false,
     "start_time": "2020-09-12T12:27:15.411904",
     "status": "completed"
    },
    "tags": []
   },
   "outputs": [],
   "source": [
    "#hide\n",
    "df_snap = pd.read_csv('data/SnapshotCases-28-July.csv')\n",
    "arr_states = df_snap['states'].unique()\n",
    "arr_dates = df['Date'].unique()\n",
    "df_snap = df_snap.set_index('states')"
   ]
  },
  {
   "cell_type": "code",
   "execution_count": 4,
   "metadata": {
    "execution": {
     "iopub.execute_input": "2020-09-12T12:27:15.500612Z",
     "iopub.status.busy": "2020-09-12T12:27:15.499867Z",
     "iopub.status.idle": "2020-09-12T12:27:15.502714Z",
     "shell.execute_reply": "2020-09-12T12:27:15.503414Z"
    },
    "papermill": {
     "duration": 0.029031,
     "end_time": "2020-09-12T12:27:15.503593",
     "exception": false,
     "start_time": "2020-09-12T12:27:15.474562",
     "status": "completed"
    },
    "tags": []
   },
   "outputs": [
    {
     "data": {
      "text/plain": [
       "array(['Andaman and Nicobar Islands', 'Andhra Pradesh',\n",
       "       'Arunachal Pradesh', 'Assam', 'Bihar', 'Chandigarh',\n",
       "       'Dadra and Nagar Haveli and Daman and Diu', 'Delhi', 'Goa',\n",
       "       'Gujarat', 'Haryana', 'Himachal Pradesh', 'Jammu and Kashmir',\n",
       "       'Jharkhand', 'Karnataka', 'Kerala', 'Lakshadweep',\n",
       "       'Madhya Pradesh', 'Maharashtra', 'Manipur', 'Meghalaya', 'Mizoram',\n",
       "       'Nagaland', 'Odisha', 'Puducherry', 'Punjab', 'Rajasthan',\n",
       "       'Sikkim', 'Tamil Nadu', 'Telangana', 'Tripura', 'Uttar Pradesh',\n",
       "       'West Bengal', 'Chhattisgarh', 'Ladakh', 'Uttarakhand'],\n",
       "      dtype=object)"
      ]
     },
     "execution_count": 4,
     "metadata": {},
     "output_type": "execute_result"
    }
   ],
   "source": [
    "#hide\n",
    "arr_states[-9] = 'Puducherry'\n",
    "arr_states[-10] = 'Odisha'\n",
    "arr_states[6] = 'Dadra and Nagar Haveli and Daman and Diu'\n",
    "arr_states = np.append(arr_states,np.array(['Chhattisgarh','Ladakh','Uttarakhand']))\n",
    "arr_states"
   ]
  },
  {
   "cell_type": "code",
   "execution_count": 5,
   "metadata": {
    "execution": {
     "iopub.execute_input": "2020-09-12T12:27:15.559534Z",
     "iopub.status.busy": "2020-09-12T12:27:15.558815Z",
     "iopub.status.idle": "2020-09-12T12:27:15.562373Z",
     "shell.execute_reply": "2020-09-12T12:27:15.561733Z"
    },
    "papermill": {
     "duration": 0.039852,
     "end_time": "2020-09-12T12:27:15.562560",
     "exception": false,
     "start_time": "2020-09-12T12:27:15.522708",
     "status": "completed"
    },
    "tags": []
   },
   "outputs": [],
   "source": [
    "#hide\n",
    "dates = []\n",
    "for i in arr_dates:\n",
    "    if i>='2020-07-01':\n",
    "        dates.append(i)\n",
    "dict = {'states':dates}\n",
    "for i in arr_states:\n",
    "    dict[i] = [0]*len(dates)\n",
    "dft_cases = pd.DataFrame(dict)\n",
    "dft_deaths = pd.DataFrame(dict)\n"
   ]
  },
  {
   "cell_type": "code",
   "execution_count": 6,
   "metadata": {
    "execution": {
     "iopub.execute_input": "2020-09-12T12:27:15.605757Z",
     "iopub.status.busy": "2020-09-12T12:27:15.605008Z",
     "iopub.status.idle": "2020-09-12T12:27:16.950569Z",
     "shell.execute_reply": "2020-09-12T12:27:16.949698Z"
    },
    "papermill": {
     "duration": 1.370143,
     "end_time": "2020-09-12T12:27:16.950733",
     "exception": false,
     "start_time": "2020-09-12T12:27:15.580590",
     "status": "completed"
    },
    "tags": []
   },
   "outputs": [],
   "source": [
    "#hide\n",
    "for i in range(len(dates)):\n",
    "    df1_deaths = df_deaths1.get_group(dates[i])\n",
    "    for j in range(len(df1_deaths.index)):\n",
    "        if df1_deaths.iloc[j,1] in arr_states:\n",
    "            dft_deaths.loc[i,df1_deaths.iloc[j,1]] = df1_deaths.iloc[j,2]\n",
    "dft_deaths = dft_deaths.set_index('states')"
   ]
  },
  {
   "cell_type": "code",
   "execution_count": 7,
   "metadata": {
    "execution": {
     "iopub.execute_input": "2020-09-12T12:27:16.994698Z",
     "iopub.status.busy": "2020-09-12T12:27:16.994013Z",
     "iopub.status.idle": "2020-09-12T12:27:18.330647Z",
     "shell.execute_reply": "2020-09-12T12:27:18.329586Z"
    },
    "papermill": {
     "duration": 1.361553,
     "end_time": "2020-09-12T12:27:18.330910",
     "exception": false,
     "start_time": "2020-09-12T12:27:16.969357",
     "status": "completed"
    },
    "tags": []
   },
   "outputs": [],
   "source": [
    "#hide\n",
    "for i in range(len(dates)):\n",
    "    df1_cases = df_cases1.get_group(dates[i])\n",
    "    for j in range(len(df1_cases.index)):\n",
    "        if df1_cases.iloc[j,1] in arr_states:\n",
    "            dft_cases.loc[i,df1_cases.iloc[j,1]] = df1_cases.iloc[j,2]\n",
    "dft_cases = dft_cases.set_index('states')"
   ]
  },
  {
   "cell_type": "code",
   "execution_count": 8,
   "metadata": {
    "execution": {
     "iopub.execute_input": "2020-09-12T12:27:18.374904Z",
     "iopub.status.busy": "2020-09-12T12:27:18.373324Z",
     "iopub.status.idle": "2020-09-12T12:27:18.375669Z",
     "shell.execute_reply": "2020-09-12T12:27:18.376215Z"
    },
    "papermill": {
     "duration": 0.027399,
     "end_time": "2020-09-12T12:27:18.376395",
     "exception": false,
     "start_time": "2020-09-12T12:27:18.348996",
     "status": "completed"
    },
    "tags": []
   },
   "outputs": [],
   "source": [
    "#hide\n",
    "dft_cases = dft_cases.T\n",
    "dft_deaths = dft_deaths.T\n",
    "dt_today = dates[-1]\n",
    "dt_yday = dates[-2]"
   ]
  },
  {
   "cell_type": "code",
   "execution_count": 9,
   "metadata": {
    "execution": {
     "iopub.execute_input": "2020-09-12T12:27:18.420053Z",
     "iopub.status.busy": "2020-09-12T12:27:18.418153Z",
     "iopub.status.idle": "2020-09-12T12:27:18.425207Z",
     "shell.execute_reply": "2020-09-12T12:27:18.425783Z"
    },
    "papermill": {
     "duration": 0.03137,
     "end_time": "2020-09-12T12:27:18.425955",
     "exception": false,
     "start_time": "2020-09-12T12:27:18.394585",
     "status": "completed"
    },
    "tags": []
   },
   "outputs": [],
   "source": [
    "#hide\n",
    "dft_cases = dft_cases.reset_index()\n",
    "dft_deaths = dft_deaths.reset_index()\n",
    "dft_cases = dft_cases.rename(columns = {'index':'state'})\n",
    "dft_deaths = dft_deaths.rename(columns = {'index':'state'})"
   ]
  },
  {
   "cell_type": "code",
   "execution_count": 10,
   "metadata": {
    "execution": {
     "iopub.execute_input": "2020-09-12T12:27:18.470068Z",
     "iopub.status.busy": "2020-09-12T12:27:18.469356Z",
     "iopub.status.idle": "2020-09-12T12:27:18.476992Z",
     "shell.execute_reply": "2020-09-12T12:27:18.476393Z"
    },
    "papermill": {
     "duration": 0.033293,
     "end_time": "2020-09-12T12:27:18.477155",
     "exception": false,
     "start_time": "2020-09-12T12:27:18.443862",
     "status": "completed"
    },
    "tags": []
   },
   "outputs": [],
   "source": [
    "#hide\n",
    "dfc_cases = dft_cases.groupby('state')[dt_today].sum()\n",
    "dfc_deaths = dft_deaths.groupby('state')[dt_today].sum()\n",
    "dfp_cases = dft_cases.groupby('state')[dt_yday].sum()\n",
    "dfp_deaths = dft_deaths.groupby('state')[dt_yday].sum()"
   ]
  },
  {
   "cell_type": "code",
   "execution_count": 11,
   "metadata": {
    "execution": {
     "iopub.execute_input": "2020-09-12T12:27:18.529975Z",
     "iopub.status.busy": "2020-09-12T12:27:18.529255Z",
     "iopub.status.idle": "2020-09-12T12:27:18.536172Z",
     "shell.execute_reply": "2020-09-12T12:27:18.536849Z"
    },
    "papermill": {
     "duration": 0.041684,
     "end_time": "2020-09-12T12:27:18.537033",
     "exception": false,
     "start_time": "2020-09-12T12:27:18.495349",
     "status": "completed"
    },
    "tags": []
   },
   "outputs": [
    {
     "data": {
      "text/html": [
       "<div>\n",
       "<style scoped>\n",
       "    .dataframe tbody tr th:only-of-type {\n",
       "        vertical-align: middle;\n",
       "    }\n",
       "\n",
       "    .dataframe tbody tr th {\n",
       "        vertical-align: top;\n",
       "    }\n",
       "\n",
       "    .dataframe thead th {\n",
       "        text-align: right;\n",
       "    }\n",
       "</style>\n",
       "<table border=\"1\" class=\"dataframe\">\n",
       "  <thead>\n",
       "    <tr style=\"text-align: right;\">\n",
       "      <th></th>\n",
       "      <th>states</th>\n",
       "      <th>Cases</th>\n",
       "      <th>Deaths</th>\n",
       "      <th>PCases</th>\n",
       "      <th>PDeaths</th>\n",
       "    </tr>\n",
       "  </thead>\n",
       "  <tbody>\n",
       "    <tr>\n",
       "      <th>0</th>\n",
       "      <td>Maharashtra</td>\n",
       "      <td>1015681</td>\n",
       "      <td>28724</td>\n",
       "      <td>1015681</td>\n",
       "      <td>28724</td>\n",
       "    </tr>\n",
       "    <tr>\n",
       "      <th>1</th>\n",
       "      <td>Andhra Pradesh</td>\n",
       "      <td>547686</td>\n",
       "      <td>4779</td>\n",
       "      <td>547686</td>\n",
       "      <td>4779</td>\n",
       "    </tr>\n",
       "    <tr>\n",
       "      <th>2</th>\n",
       "      <td>Tamil Nadu</td>\n",
       "      <td>491571</td>\n",
       "      <td>8234</td>\n",
       "      <td>491571</td>\n",
       "      <td>8234</td>\n",
       "    </tr>\n",
       "    <tr>\n",
       "      <th>3</th>\n",
       "      <td>Karnataka</td>\n",
       "      <td>440411</td>\n",
       "      <td>7067</td>\n",
       "      <td>440411</td>\n",
       "      <td>7067</td>\n",
       "    </tr>\n",
       "    <tr>\n",
       "      <th>4</th>\n",
       "      <td>Uttar Pradesh</td>\n",
       "      <td>299045</td>\n",
       "      <td>4282</td>\n",
       "      <td>299045</td>\n",
       "      <td>4282</td>\n",
       "    </tr>\n",
       "  </tbody>\n",
       "</table>\n",
       "</div>"
      ],
      "text/plain": [
       "           states    Cases  Deaths   PCases  PDeaths\n",
       "0     Maharashtra  1015681   28724  1015681    28724\n",
       "1  Andhra Pradesh   547686    4779   547686     4779\n",
       "2      Tamil Nadu   491571    8234   491571     8234\n",
       "3       Karnataka   440411    7067   440411     7067\n",
       "4   Uttar Pradesh   299045    4282   299045     4282"
      ]
     },
     "execution_count": 11,
     "metadata": {},
     "output_type": "execute_result"
    }
   ],
   "source": [
    "#hide\n",
    "df_table = pd.DataFrame({'states': dfc_cases.index, 'Cases': dfc_cases.values, 'Deaths': dfc_deaths.values, 'PCases': dfp_cases.values, 'PDeaths': dfp_deaths.values}).set_index('states')\n",
    "df_table = df_table.sort_values(by = ['Cases','Deaths'], ascending = [False, False])\n",
    "df_table = df_table.reset_index()\n",
    "df_table.head()"
   ]
  },
  {
   "cell_type": "code",
   "execution_count": 12,
   "metadata": {
    "execution": {
     "iopub.execute_input": "2020-09-12T12:27:18.580960Z",
     "iopub.status.busy": "2020-09-12T12:27:18.580179Z",
     "iopub.status.idle": "2020-09-12T12:27:18.591204Z",
     "shell.execute_reply": "2020-09-12T12:27:18.591747Z"
    },
    "papermill": {
     "duration": 0.036649,
     "end_time": "2020-09-12T12:27:18.591979",
     "exception": false,
     "start_time": "2020-09-12T12:27:18.555330",
     "status": "completed"
    },
    "tags": []
   },
   "outputs": [],
   "source": [
    "#hide\n",
    "for c in 'Cases, Deaths'.split(', '):\n",
    "    df_table[f'{c} (+)'] = (df_table[c] - df_table[f'P{c}']).clip(0)\n",
    "df_table['Fatality Rate'] = (100* df_table['Deaths']/ df_table['Cases']).round(2)"
   ]
  },
  {
   "cell_type": "code",
   "execution_count": 13,
   "metadata": {
    "execution": {
     "iopub.execute_input": "2020-09-12T12:27:18.643707Z",
     "iopub.status.busy": "2020-09-12T12:27:18.642892Z",
     "iopub.status.idle": "2020-09-12T12:27:18.645558Z",
     "shell.execute_reply": "2020-09-12T12:27:18.646214Z"
    },
    "papermill": {
     "duration": 0.034554,
     "end_time": "2020-09-12T12:27:18.646397",
     "exception": false,
     "start_time": "2020-09-12T12:27:18.611843",
     "status": "completed"
    },
    "tags": []
   },
   "outputs": [
    {
     "data": {
      "text/html": [
       "<div>\n",
       "<style scoped>\n",
       "    .dataframe tbody tr th:only-of-type {\n",
       "        vertical-align: middle;\n",
       "    }\n",
       "\n",
       "    .dataframe tbody tr th {\n",
       "        vertical-align: top;\n",
       "    }\n",
       "\n",
       "    .dataframe thead th {\n",
       "        text-align: right;\n",
       "    }\n",
       "</style>\n",
       "<table border=\"1\" class=\"dataframe\">\n",
       "  <thead>\n",
       "    <tr style=\"text-align: right;\">\n",
       "      <th></th>\n",
       "      <th>states</th>\n",
       "      <th>Cases</th>\n",
       "      <th>Deaths</th>\n",
       "      <th>PCases</th>\n",
       "      <th>PDeaths</th>\n",
       "      <th>Cases (+)</th>\n",
       "      <th>Deaths (+)</th>\n",
       "      <th>Fatality Rate</th>\n",
       "    </tr>\n",
       "  </thead>\n",
       "  <tbody>\n",
       "    <tr>\n",
       "      <th>0</th>\n",
       "      <td>Maharashtra</td>\n",
       "      <td>1015681</td>\n",
       "      <td>28724</td>\n",
       "      <td>1015681</td>\n",
       "      <td>28724</td>\n",
       "      <td>0</td>\n",
       "      <td>0</td>\n",
       "      <td>2.83</td>\n",
       "    </tr>\n",
       "    <tr>\n",
       "      <th>1</th>\n",
       "      <td>Andhra Pradesh</td>\n",
       "      <td>547686</td>\n",
       "      <td>4779</td>\n",
       "      <td>547686</td>\n",
       "      <td>4779</td>\n",
       "      <td>0</td>\n",
       "      <td>0</td>\n",
       "      <td>0.87</td>\n",
       "    </tr>\n",
       "    <tr>\n",
       "      <th>2</th>\n",
       "      <td>Tamil Nadu</td>\n",
       "      <td>491571</td>\n",
       "      <td>8234</td>\n",
       "      <td>491571</td>\n",
       "      <td>8234</td>\n",
       "      <td>0</td>\n",
       "      <td>0</td>\n",
       "      <td>1.68</td>\n",
       "    </tr>\n",
       "    <tr>\n",
       "      <th>3</th>\n",
       "      <td>Karnataka</td>\n",
       "      <td>440411</td>\n",
       "      <td>7067</td>\n",
       "      <td>440411</td>\n",
       "      <td>7067</td>\n",
       "      <td>0</td>\n",
       "      <td>0</td>\n",
       "      <td>1.60</td>\n",
       "    </tr>\n",
       "    <tr>\n",
       "      <th>4</th>\n",
       "      <td>Uttar Pradesh</td>\n",
       "      <td>299045</td>\n",
       "      <td>4282</td>\n",
       "      <td>299045</td>\n",
       "      <td>4282</td>\n",
       "      <td>0</td>\n",
       "      <td>0</td>\n",
       "      <td>1.43</td>\n",
       "    </tr>\n",
       "  </tbody>\n",
       "</table>\n",
       "</div>"
      ],
      "text/plain": [
       "           states    Cases  Deaths   PCases  PDeaths  Cases (+)  Deaths (+)  \\\n",
       "0     Maharashtra  1015681   28724  1015681    28724          0           0   \n",
       "1  Andhra Pradesh   547686    4779   547686     4779          0           0   \n",
       "2      Tamil Nadu   491571    8234   491571     8234          0           0   \n",
       "3       Karnataka   440411    7067   440411     7067          0           0   \n",
       "4   Uttar Pradesh   299045    4282   299045     4282          0           0   \n",
       "\n",
       "   Fatality Rate  \n",
       "0           2.83  \n",
       "1           0.87  \n",
       "2           1.68  \n",
       "3           1.60  \n",
       "4           1.43  "
      ]
     },
     "execution_count": 13,
     "metadata": {},
     "output_type": "execute_result"
    }
   ],
   "source": [
    "#hide\n",
    "df_table.head()"
   ]
  },
  {
   "cell_type": "code",
   "execution_count": 14,
   "metadata": {
    "execution": {
     "iopub.execute_input": "2020-09-12T12:27:18.690918Z",
     "iopub.status.busy": "2020-09-12T12:27:18.690106Z",
     "iopub.status.idle": "2020-09-12T12:27:18.708523Z",
     "shell.execute_reply": "2020-09-12T12:27:18.709137Z"
    },
    "papermill": {
     "duration": 0.044054,
     "end_time": "2020-09-12T12:27:18.709315",
     "exception": false,
     "start_time": "2020-09-12T12:27:18.665261",
     "status": "completed"
    },
    "tags": []
   },
   "outputs": [
    {
     "data": {
      "text/plain": [
       "{'updated': '2020-09-12',\n",
       " 'since': '2020-09-11',\n",
       " 'Cases': 4665474,\n",
       " 'PCases': 4657379,\n",
       " 'Deaths': 77548,\n",
       " 'PDeaths': 77506,\n",
       " 'Cases (+)': 8095,\n",
       " 'Deaths (+)': 42}"
      ]
     },
     "execution_count": 14,
     "metadata": {},
     "output_type": "execute_result"
    }
   ],
   "source": [
    "#hide\n",
    "summary = {'updated':dates[-1], 'since':dates[-2]}\n",
    "list_names = ['Cases', 'PCases', 'Deaths', 'PDeaths', 'Cases (+)', 'Deaths (+)']\n",
    "for name in list_names:\n",
    "    summary[name] = df_table.sum()[name]\n",
    "summary"
   ]
  },
  {
   "cell_type": "code",
   "execution_count": 15,
   "metadata": {
    "execution": {
     "iopub.execute_input": "2020-09-12T12:27:18.752819Z",
     "iopub.status.busy": "2020-09-12T12:27:18.751996Z",
     "iopub.status.idle": "2020-09-12T12:27:18.754241Z",
     "shell.execute_reply": "2020-09-12T12:27:18.754767Z"
    },
    "papermill": {
     "duration": 0.026392,
     "end_time": "2020-09-12T12:27:18.754944",
     "exception": false,
     "start_time": "2020-09-12T12:27:18.728552",
     "status": "completed"
    },
    "tags": []
   },
   "outputs": [],
   "source": [
    "#hide\n",
    "overview = '''\n",
    "<!-- #######  HTML!! #########-->\n",
    "<h1 style=\"color: #5e9ca0; text-align: center;\">India</h1>\n",
    "<p style=\"text-align: center;\">Last update: <strong>{update}</strong></p>\n",
    "<p style=\"text-align: center;\">Confirmed cases:</p>\n",
    "<p style=\"text-align: center;font-size:24px;\">{cases} (<span style=\"color: #ff0000;\">+{new}</span>)</p>\n",
    "<p style=\"text-align: center;\">Confirmed deaths:</p>\n",
    "<p style=\"text-align: center;font-size:24px;\">{deaths} (<span style=\"color: #ff0000;\">+{dnew}</span>)</p>\n",
    "'''"
   ]
  },
  {
   "cell_type": "code",
   "execution_count": 16,
   "metadata": {
    "execution": {
     "iopub.execute_input": "2020-09-12T12:27:18.799282Z",
     "iopub.status.busy": "2020-09-12T12:27:18.798596Z",
     "iopub.status.idle": "2020-09-12T12:27:18.802165Z",
     "shell.execute_reply": "2020-09-12T12:27:18.801495Z"
    },
    "papermill": {
     "duration": 0.028377,
     "end_time": "2020-09-12T12:27:18.802318",
     "exception": false,
     "start_time": "2020-09-12T12:27:18.773941",
     "status": "completed"
    },
    "tags": []
   },
   "outputs": [
    {
     "data": {
      "text/html": [
       "\n",
       "<!-- #######  HTML!! #########-->\n",
       "<h1 style=\"color: #5e9ca0; text-align: center;\">India</h1>\n",
       "<p style=\"text-align: center;\">Last update: <strong>2020-09-12</strong></p>\n",
       "<p style=\"text-align: center;\">Confirmed cases:</p>\n",
       "<p style=\"text-align: center;font-size:24px;\">4665474 (<span style=\"color: #ff0000;\">+8095</span>)</p>\n",
       "<p style=\"text-align: center;\">Confirmed deaths:</p>\n",
       "<p style=\"text-align: center;font-size:24px;\">77548 (<span style=\"color: #ff0000;\">+42</span>)</p>\n"
      ],
      "text/plain": [
       "<IPython.core.display.HTML object>"
      ]
     },
     "metadata": {},
     "output_type": "display_data"
    }
   ],
   "source": [
    "#hide_input\n",
    "update = summary['updated']\n",
    "cases = summary['Cases']\n",
    "new = summary['Cases (+)']\n",
    "deaths = summary['Deaths']\n",
    "dnew = summary['Deaths (+)']\n",
    "\n",
    "html = HTML(overview.format(update=update, cases=cases,new=new,deaths=deaths,dnew=dnew))\n",
    "\n",
    "display(html)"
   ]
  },
  {
   "cell_type": "code",
   "execution_count": 17,
   "metadata": {
    "execution": {
     "iopub.execute_input": "2020-09-12T12:27:18.850892Z",
     "iopub.status.busy": "2020-09-12T12:27:18.850148Z",
     "iopub.status.idle": "2020-09-12T12:27:18.855712Z",
     "shell.execute_reply": "2020-09-12T12:27:18.856346Z"
    },
    "papermill": {
     "duration": 0.034679,
     "end_time": "2020-09-12T12:27:18.856586",
     "exception": false,
     "start_time": "2020-09-12T12:27:18.821907",
     "status": "completed"
    },
    "tags": []
   },
   "outputs": [],
   "source": [
    "#hide\n",
    "dt_cols = list(dft_cases.columns[1:])\n",
    "dft_ct_new_cases = dft_cases.groupby('state')[dt_cols].sum().diff(axis=1).fillna(0).astype(int)\n",
    "dft_ct_new_cases.sort_values(by = dates[-1], ascending = False,inplace = True)"
   ]
  },
  {
   "cell_type": "code",
   "execution_count": 18,
   "metadata": {
    "execution": {
     "iopub.execute_input": "2020-09-12T12:27:18.918802Z",
     "iopub.status.busy": "2020-09-12T12:27:18.918107Z",
     "iopub.status.idle": "2020-09-12T12:27:18.921874Z",
     "shell.execute_reply": "2020-09-12T12:27:18.921214Z"
    },
    "papermill": {
     "duration": 0.044504,
     "end_time": "2020-09-12T12:27:18.922037",
     "exception": false,
     "start_time": "2020-09-12T12:27:18.877533",
     "status": "completed"
    },
    "tags": []
   },
   "outputs": [
    {
     "data": {
      "text/html": [
       "<div>\n",
       "<style scoped>\n",
       "    .dataframe tbody tr th:only-of-type {\n",
       "        vertical-align: middle;\n",
       "    }\n",
       "\n",
       "    .dataframe tbody tr th {\n",
       "        vertical-align: top;\n",
       "    }\n",
       "\n",
       "    .dataframe thead th {\n",
       "        text-align: right;\n",
       "    }\n",
       "</style>\n",
       "<table border=\"1\" class=\"dataframe\">\n",
       "  <thead>\n",
       "    <tr style=\"text-align: right;\">\n",
       "      <th>states</th>\n",
       "      <th>2020-07-01</th>\n",
       "      <th>2020-07-02</th>\n",
       "      <th>2020-07-03</th>\n",
       "      <th>2020-07-04</th>\n",
       "      <th>2020-07-05</th>\n",
       "      <th>2020-07-06</th>\n",
       "      <th>2020-07-07</th>\n",
       "      <th>2020-07-08</th>\n",
       "      <th>2020-07-09</th>\n",
       "      <th>2020-07-10</th>\n",
       "      <th>...</th>\n",
       "      <th>2020-09-03</th>\n",
       "      <th>2020-09-04</th>\n",
       "      <th>2020-09-05</th>\n",
       "      <th>2020-09-06</th>\n",
       "      <th>2020-09-07</th>\n",
       "      <th>2020-09-08</th>\n",
       "      <th>2020-09-09</th>\n",
       "      <th>2020-09-10</th>\n",
       "      <th>2020-09-11</th>\n",
       "      <th>2020-09-12</th>\n",
       "    </tr>\n",
       "    <tr>\n",
       "      <th>state</th>\n",
       "      <th></th>\n",
       "      <th></th>\n",
       "      <th></th>\n",
       "      <th></th>\n",
       "      <th></th>\n",
       "      <th></th>\n",
       "      <th></th>\n",
       "      <th></th>\n",
       "      <th></th>\n",
       "      <th></th>\n",
       "      <th></th>\n",
       "      <th></th>\n",
       "      <th></th>\n",
       "      <th></th>\n",
       "      <th></th>\n",
       "      <th></th>\n",
       "      <th></th>\n",
       "      <th></th>\n",
       "      <th></th>\n",
       "      <th></th>\n",
       "      <th></th>\n",
       "    </tr>\n",
       "  </thead>\n",
       "  <tbody>\n",
       "    <tr>\n",
       "      <th>Odisha</th>\n",
       "      <td>0</td>\n",
       "      <td>229</td>\n",
       "      <td>561</td>\n",
       "      <td>495</td>\n",
       "      <td>469</td>\n",
       "      <td>456</td>\n",
       "      <td>571</td>\n",
       "      <td>527</td>\n",
       "      <td>577</td>\n",
       "      <td>755</td>\n",
       "      <td>...</td>\n",
       "      <td>3631</td>\n",
       "      <td>3267</td>\n",
       "      <td>3543</td>\n",
       "      <td>3810</td>\n",
       "      <td>3861</td>\n",
       "      <td>3490</td>\n",
       "      <td>3748</td>\n",
       "      <td>3991</td>\n",
       "      <td>3996</td>\n",
       "      <td>3777</td>\n",
       "    </tr>\n",
       "    <tr>\n",
       "      <th>Telangana</th>\n",
       "      <td>0</td>\n",
       "      <td>1213</td>\n",
       "      <td>1892</td>\n",
       "      <td>1850</td>\n",
       "      <td>1590</td>\n",
       "      <td>1831</td>\n",
       "      <td>1879</td>\n",
       "      <td>1924</td>\n",
       "      <td>1410</td>\n",
       "      <td>1278</td>\n",
       "      <td>...</td>\n",
       "      <td>2817</td>\n",
       "      <td>2478</td>\n",
       "      <td>2511</td>\n",
       "      <td>2574</td>\n",
       "      <td>1802</td>\n",
       "      <td>2392</td>\n",
       "      <td>2479</td>\n",
       "      <td>2534</td>\n",
       "      <td>2426</td>\n",
       "      <td>2278</td>\n",
       "    </tr>\n",
       "    <tr>\n",
       "      <th>Bihar</th>\n",
       "      <td>0</td>\n",
       "      <td>478</td>\n",
       "      <td>426</td>\n",
       "      <td>349</td>\n",
       "      <td>403</td>\n",
       "      <td>280</td>\n",
       "      <td>385</td>\n",
       "      <td>749</td>\n",
       "      <td>704</td>\n",
       "      <td>352</td>\n",
       "      <td>...</td>\n",
       "      <td>1922</td>\n",
       "      <td>1978</td>\n",
       "      <td>1727</td>\n",
       "      <td>1797</td>\n",
       "      <td>1369</td>\n",
       "      <td>1667</td>\n",
       "      <td>1498</td>\n",
       "      <td>1543</td>\n",
       "      <td>1710</td>\n",
       "      <td>1421</td>\n",
       "    </tr>\n",
       "    <tr>\n",
       "      <th>Tripura</th>\n",
       "      <td>0</td>\n",
       "      <td>39</td>\n",
       "      <td>93</td>\n",
       "      <td>25</td>\n",
       "      <td>23</td>\n",
       "      <td>111</td>\n",
       "      <td>24</td>\n",
       "      <td>57</td>\n",
       "      <td>16</td>\n",
       "      <td>142</td>\n",
       "      <td>...</td>\n",
       "      <td>590</td>\n",
       "      <td>524</td>\n",
       "      <td>691</td>\n",
       "      <td>603</td>\n",
       "      <td>399</td>\n",
       "      <td>628</td>\n",
       "      <td>582</td>\n",
       "      <td>535</td>\n",
       "      <td>559</td>\n",
       "      <td>470</td>\n",
       "    </tr>\n",
       "    <tr>\n",
       "      <th>Nagaland</th>\n",
       "      <td>0</td>\n",
       "      <td>34</td>\n",
       "      <td>4</td>\n",
       "      <td>24</td>\n",
       "      <td>27</td>\n",
       "      <td>35</td>\n",
       "      <td>19</td>\n",
       "      <td>13</td>\n",
       "      <td>16</td>\n",
       "      <td>59</td>\n",
       "      <td>...</td>\n",
       "      <td>49</td>\n",
       "      <td>41</td>\n",
       "      <td>21</td>\n",
       "      <td>50</td>\n",
       "      <td>42</td>\n",
       "      <td>25</td>\n",
       "      <td>130</td>\n",
       "      <td>261</td>\n",
       "      <td>310</td>\n",
       "      <td>118</td>\n",
       "    </tr>\n",
       "  </tbody>\n",
       "</table>\n",
       "<p>5 rows × 74 columns</p>\n",
       "</div>"
      ],
      "text/plain": [
       "states     2020-07-01  2020-07-02  2020-07-03  2020-07-04  2020-07-05  \\\n",
       "state                                                                   \n",
       "Odisha              0         229         561         495         469   \n",
       "Telangana           0        1213        1892        1850        1590   \n",
       "Bihar               0         478         426         349         403   \n",
       "Tripura             0          39          93          25          23   \n",
       "Nagaland            0          34           4          24          27   \n",
       "\n",
       "states     2020-07-06  2020-07-07  2020-07-08  2020-07-09  2020-07-10  ...  \\\n",
       "state                                                                  ...   \n",
       "Odisha            456         571         527         577         755  ...   \n",
       "Telangana        1831        1879        1924        1410        1278  ...   \n",
       "Bihar             280         385         749         704         352  ...   \n",
       "Tripura           111          24          57          16         142  ...   \n",
       "Nagaland           35          19          13          16          59  ...   \n",
       "\n",
       "states     2020-09-03  2020-09-04  2020-09-05  2020-09-06  2020-09-07  \\\n",
       "state                                                                   \n",
       "Odisha           3631        3267        3543        3810        3861   \n",
       "Telangana        2817        2478        2511        2574        1802   \n",
       "Bihar            1922        1978        1727        1797        1369   \n",
       "Tripura           590         524         691         603         399   \n",
       "Nagaland           49          41          21          50          42   \n",
       "\n",
       "states     2020-09-08  2020-09-09  2020-09-10  2020-09-11  2020-09-12  \n",
       "state                                                                  \n",
       "Odisha           3490        3748        3991        3996        3777  \n",
       "Telangana        2392        2479        2534        2426        2278  \n",
       "Bihar            1667        1498        1543        1710        1421  \n",
       "Tripura           628         582         535         559         470  \n",
       "Nagaland           25         130         261         310         118  \n",
       "\n",
       "[5 rows x 74 columns]"
      ]
     },
     "execution_count": 18,
     "metadata": {},
     "output_type": "execute_result"
    }
   ],
   "source": [
    "#hide\n",
    "dft_ct_new_cases.head()"
   ]
  },
  {
   "cell_type": "code",
   "execution_count": 19,
   "metadata": {
    "execution": {
     "iopub.execute_input": "2020-09-12T12:27:19.005298Z",
     "iopub.status.busy": "2020-09-12T12:27:18.982582Z",
     "iopub.status.idle": "2020-09-12T12:27:23.107152Z",
     "shell.execute_reply": "2020-09-12T12:27:23.107703Z"
    },
    "papermill": {
     "duration": 4.164928,
     "end_time": "2020-09-12T12:27:23.107881",
     "exception": false,
     "start_time": "2020-09-12T12:27:18.942953",
     "status": "completed"
    },
    "tags": []
   },
   "outputs": [
    {
     "data": {
      "image/png": "[encoded data removed]",
      "text/plain": [
       "<Figure size 1296x2016 with 11 Axes>"
      ]
     },
     "metadata": {
      "needs_background": "light"
     },
     "output_type": "display_data"
    }
   ],
   "source": [
    "#hide_input\n",
    "df = dft_ct_new_cases.copy()\n",
    "df.loc['Total'] = df.sum()\n",
    "n = 5\n",
    "ax = []\n",
    "fig = plt.figure(figsize = (18,28))\n",
    "gs = fig.add_gridspec(n+2, 5)\n",
    "# gs = fig.add_gridspec(2, 3)\n",
    "ax1 = fig.add_subplot(gs[0, :])\n",
    "ef = df.loc['Total'].rename_axis('date').reset_index()\n",
    "ef['date'] = ef['date'].astype('datetime64[ns]')\n",
    "ax1.bar(ef.date,ef.Total,alpha=0.3,color='#007acc')\n",
    "ax1.plot(ef.date,ef.Total , marker=\"o\", color='#007acc')\n",
    "ax1.xaxis.set_major_locator(mdates.WeekdayLocator())\n",
    "ax1.xaxis.set_major_formatter(mdates.DateFormatter('%b %d'))\n",
    "ax1.text(0.02, 0.5,'India daily case count', transform = ax1.transAxes, fontsize=25);\n",
    "ax1.spines['right'].set_visible(False)\n",
    "ax1.spines['top'].set_visible(False)\n",
    "\n",
    "ax2 = fig.add_subplot(gs[1,0])\n",
    "ef = df.loc['Maharashtra'].rename_axis('date').reset_index()\n",
    "ef['date'] = ef['date'].astype('datetime64[ns]')\n",
    "\n",
    "ax2.bar(ef.date, ef.Maharashtra,color = '#007acc',alpha=0.5)\n",
    "ax2.xaxis.set_major_locator(mdates.WeekdayLocator())\n",
    "ax2.xaxis.set_major_formatter(mdates.DateFormatter('%b %d'))\n",
    "ax2.set_xticks(ax2.get_xticks()[::3])\n",
    "maxyval = ef.Maharashtra.max()\n",
    "ax2.set_ylim([0,maxyval])\n",
    "ax2.text(0.05, 0.9,'Maharashtra', transform = ax2.transAxes, fontsize=20);\n",
    "ax2.spines['right'].set_visible(False)\n",
    "ax2.spines['top'].set_visible(False)\n",
    "\n",
    "\n",
    "ax3 = fig.add_subplot(gs[1,1])\n",
    "ef = df.loc['Tamil Nadu'].rename_axis('date').reset_index()\n",
    "ef['date'] = ef['date'].astype('datetime64[ns]')\n",
    "ax3.bar(ef.date, ef['Tamil Nadu'],color = '#007acc',alpha=0.5,)\n",
    "ax3.xaxis.set_major_locator(mdates.WeekdayLocator())\n",
    "ax3.xaxis.set_major_formatter(mdates.DateFormatter('%b %d'))\n",
    "ax3.set_xticks(ax3.get_xticks()[::3])\n",
    "ax3.text(0.05, 0.9,'Tamil Nadu', transform = ax3.transAxes, fontsize=20);\n",
    "ax3.spines['right'].set_visible(False)\n",
    "ax3.spines['top'].set_visible(False)\n",
    "\n",
    "ax5 = fig.add_subplot(gs[1,3])\n",
    "ef = df.loc['Telangana'].rename_axis('date').reset_index()\n",
    "ef['date'] = ef['date'].astype('datetime64[ns]')\n",
    "ax5.bar(ef.date, ef['Telangana'],color = '#007acc',alpha=0.5,)\n",
    "ax5.xaxis.set_major_locator(mdates.WeekdayLocator())\n",
    "ax5.xaxis.set_major_formatter(mdates.DateFormatter('%b %d'))\n",
    "ax5.set_xticks(ax5.get_xticks()[::3])\n",
    "ax5.text(0.05, 0.9,'Telangana', transform = ax5.transAxes, fontsize=20);\n",
    "ax5.spines['right'].set_visible(False)\n",
    "ax5.spines['top'].set_visible(False)\n",
    "\n",
    "ax6 = fig.add_subplot(gs[1,4])\n",
    "ef = df.loc['Andhra Pradesh'].rename_axis('date').reset_index()\n",
    "ef['date'] = ef['date'].astype('datetime64[ns]')\n",
    "ax6.bar(ef.date, ef['Andhra Pradesh'],color = '#007acc',alpha=0.5,)\n",
    "ax6.xaxis.set_major_locator(mdates.WeekdayLocator())\n",
    "ax6.xaxis.set_major_formatter(mdates.DateFormatter('%b %d'))\n",
    "ax6.set_xticks(ax6.get_xticks()[::3])\n",
    "ax6.text(0.05, 1,'Andhra Pradesh', transform = ax6.transAxes, fontsize=20);\n",
    "ax6.spines['right'].set_visible(False)\n",
    "ax6.spines['top'].set_visible(False)\n",
    "\n",
    "ax4 = fig.add_subplot(gs[1,2])\n",
    "ef = df.loc['Delhi'].rename_axis('date').reset_index()\n",
    "ef['date'] = ef['date'].astype('datetime64[ns]')\n",
    "ax4.bar(ef.date, ef.Delhi,color = '#007acc',alpha=0.5)\n",
    "ax4.set_xticks([])\n",
    "ax4.xaxis.set_major_locator(mdates.WeekdayLocator())\n",
    "ax4.xaxis.set_major_formatter(mdates.DateFormatter('%b %d'))\n",
    "ax4.set_xticks(ax4.get_xticks()[::3])\n",
    "ax4.spines['right'].set_visible(False)\n",
    "ax4.spines['top'].set_visible(False)\n",
    "\n",
    "ax4.text(0.05, 1,'Delhi', transform = ax4.transAxes, fontsize=20)\n",
    "\n",
    "for i in range(n):\n",
    "    \n",
    "    ax.append(fig.add_subplot(gs[i+2,:]))\n",
    "    ef = df.iloc[i+3].rename_axis('date').reset_index()\n",
    "    ef['date'] = ef['date'].astype('datetime64[ns]')\n",
    "    ax[i].bar(ef.date,ef.iloc[:,-1],color = '#007acc',alpha=0.3)\n",
    "    ax[i].plot(ef.date,ef.iloc[:,-1],marker='o',color='#007acc')\n",
    "    ax[i].text(0.02,0.5,f'{ef.columns.values[-1]}',transform = ax[i].transAxes, fontsize = 20);\n",
    "    ax[i].xaxis.set_major_locator(mdates.WeekdayLocator())\n",
    "    ax[i].xaxis.set_major_formatter(mdates.DateFormatter('%b %d'))\n",
    "    ax[i].set_ylim([0,7000])\n",
    "    ax[i].spines['right'].set_visible(False)\n",
    "    ax[i].spines['top'].set_visible(False)\n",
    "plt.tight_layout()\n"
   ]
  },
  {
   "cell_type": "code",
   "execution_count": 20,
   "metadata": {
    "execution": {
     "iopub.execute_input": "2020-09-12T12:27:23.170877Z",
     "iopub.status.busy": "2020-09-12T12:27:23.170164Z",
     "iopub.status.idle": "2020-09-12T12:27:23.176028Z",
     "shell.execute_reply": "2020-09-12T12:27:23.175446Z"
    },
    "papermill": {
     "duration": 0.043517,
     "end_time": "2020-09-12T12:27:23.176188",
     "exception": false,
     "start_time": "2020-09-12T12:27:23.132671",
     "status": "completed"
    },
    "tags": []
   },
   "outputs": [
    {
     "name": "stdout",
     "output_type": "stream",
     "text": [
      "                                   states    Cases  Deaths   PCases  PDeaths  Cases (+)  Deaths (+)  Fatality Rate\n",
      "                              Maharashtra  1015681   28724  1015681    28724          0           0           2.83\n",
      "                           Andhra Pradesh   547686    4779   547686     4779          0           0           0.87\n",
      "                               Tamil Nadu   491571    8234   491571     8234          0           0           1.68\n",
      "                                Karnataka   440411    7067   440411     7067          0           0           1.60\n",
      "                            Uttar Pradesh   299045    4282   299045     4282          0           0           1.43\n",
      "                                    Delhi   209748    4687   209748     4687          0           0           2.23\n",
      "                              West Bengal   196332    3828   196332     3828          0           0           1.95\n",
      "                                    Bihar   156866     808   155445      797       1421          11           0.52\n",
      "                                Telangana   154880     950   152602      940       2278          10           0.61\n",
      "                                   Odisha   146894     669   143117      658       3777          11           0.46\n",
      "                                    Assam   138339     430   138339      430          0           0           0.31\n",
      "                                  Gujarat   110971    3181   110971     3181          0           0           2.87\n",
      "                                   Kerala   102255     411   102255      411          0           0           0.40\n",
      "                                Rajasthan    99036    1207    99036     1207          0           0           1.22\n",
      "                                  Haryana    88332     932    88332      932          0           0           1.06\n",
      "                           Madhya Pradesh    83619    1691    83619     1691          0           0           2.02\n",
      "                                   Punjab    74616    2212    74616     2212          0           0           2.96\n",
      "                                Jharkhand    59040     532    59040      532          0           0           0.90\n",
      "                             Chhattisgarh    58643     518    58643      518          0           0           0.88\n",
      "                        Jammu and Kashmir    50712     854    50712      854          0           0           1.68\n",
      "                              Uttarakhand    29221     388    29221      388          0           0           1.33\n",
      "                                      Goa    23445     276    23445      276          0           0           1.18\n",
      "                               Puducherry    19026     365    19026      365          0           0           1.92\n",
      "                                  Tripura    18300     182    17830      172        470          10           0.99\n",
      "                         Himachal Pradesh     8784      70     8784       70          0           0           0.80\n",
      "                                  Manipur     7579      44     7579       44          0           0           0.58\n",
      "                               Chandigarh     7292      83     7292       83          0           0           1.14\n",
      "                        Arunachal Pradesh     5825      10     5825       10          0           0           0.17\n",
      "                                 Nagaland     5064       8     4946        8        118           0           0.16\n",
      "              Andaman and Nicobar Islands     3494      51     3494       51          0           0           1.46\n",
      "                                Meghalaya     3447      24     3447       24          0           0           0.70\n",
      "                                   Ladakh     3228      38     3228       38          0           0           1.18\n",
      " Dadra and Nagar Haveli and Daman and Diu     2687       2     2682        2          5           0           0.07\n",
      "                                   Sikkim     2026      11     2026       11          0           0           0.54\n",
      "                                  Mizoram     1379       0     1353        0         26           0           0.00\n",
      "                              Lakshadweep        0       0        0        0          0           0            NaN\n"
     ]
    }
   ],
   "source": [
    "#hide_input\n",
    "print(df_table.to_string(index=False))"
   ]
  },
  {
   "cell_type": "code",
   "execution_count": null,
   "metadata": {
    "papermill": {
     "duration": 0.026497,
     "end_time": "2020-09-12T12:27:23.227655",
     "exception": false,
     "start_time": "2020-09-12T12:27:23.201158",
     "status": "completed"
    },
    "tags": []
   },
   "outputs": [],
   "source": []
  },
  {
   "cell_type": "code",
   "execution_count": null,
   "metadata": {
    "papermill": {
     "duration": 0.025499,
     "end_time": "2020-09-12T12:27:23.280565",
     "exception": false,
     "start_time": "2020-09-12T12:27:23.255066",
     "status": "completed"
    },
    "tags": []
   },
   "outputs": [],
   "source": []
  }
 ],
 "metadata": {
  "kernelspec": {
   "display_name": "Python 3",
   "language": "python",
   "name": "python3"
  },
  "language_info": {
   "codemirror_mode": {
    "name": "ipython",
    "version": 3
   },
   "file_extension": ".py",
   "mimetype": "text/x-python",
   "name": "python",
   "nbconvert_exporter": "python",
   "pygments_lexer": "ipython3",
   "version": "3.6.12"
  },
  "papermill": {
   "duration": 10.777283,
   "end_time": "2020-09-12T12:27:23.814285",
   "environment_variables": {},
   "exception": null,
   "input_path": "latest.ipynb",
   "output_path": "latest.ipynb",
   "parameters": {},
   "start_time": "2020-09-12T12:27:13.037002",
   "version": "2.1.2"
  }
 },
 "nbformat": 4,
 "nbformat_minor": 4
}