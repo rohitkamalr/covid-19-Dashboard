{
 "cells": [
  {
   "cell_type": "markdown",
   "metadata": {
    "papermill": {
     "duration": 0.022206,
     "end_time": "2020-10-31T11:25:39.486976",
     "exception": false,
     "start_time": "2020-10-31T11:25:39.464770",
     "status": "completed"
    },
    "tags": []
   },
   "source": [
    "# Latest COVID-19 India Matplotlib Overview"
   ]
  },
  {
   "cell_type": "code",
   "execution_count": 1,
   "metadata": {
    "execution": {
     "iopub.execute_input": "2020-10-31T11:25:39.526301Z",
     "iopub.status.busy": "2020-10-31T11:25:39.525718Z",
     "iopub.status.idle": "2020-10-31T11:25:40.089226Z",
     "shell.execute_reply": "2020-10-31T11:25:40.088320Z"
    },
    "papermill": {
     "duration": 0.587221,
     "end_time": "2020-10-31T11:25:40.089469",
     "exception": false,
     "start_time": "2020-10-31T11:25:39.502248",
     "status": "completed"
    },
    "tags": []
   },
   "outputs": [],
   "source": [
    "#hide\n",
    "import pandas as pd\n",
    "import numpy as np\n",
    "import requests\n",
    "import json\n",
    "import matplotlib.pyplot as plt\n",
    "import matplotlib.dates as mdates\n",
    "import matplotlib as mpl\n",
    "from IPython.core.display import display,HTML\n",
    "%matplotlib inline\n",
    "from datetime import date"
   ]
  },
  {
   "cell_type": "code",
   "execution_count": 2,
   "metadata": {
    "execution": {
     "iopub.execute_input": "2020-10-31T11:25:40.128618Z",
     "iopub.status.busy": "2020-10-31T11:25:40.128017Z",
     "iopub.status.idle": "2020-10-31T11:25:40.274507Z",
     "shell.execute_reply": "2020-10-31T11:25:40.275020Z"
    },
    "papermill": {
     "duration": 0.169778,
     "end_time": "2020-10-31T11:25:40.275187",
     "exception": false,
     "start_time": "2020-10-31T11:25:40.105409",
     "status": "completed"
    },
    "tags": []
   },
   "outputs": [],
   "source": [
    "#hide\n",
    "df  = pd.read_csv('https://api.covid19india.org/csv/latest/states.csv')\n",
    "df = df[['Date','State','Confirmed','Deceased']]\n",
    "df = df.rename(columns={'Confirmed':'Cases', \"Deceased\":'Deaths'})\n",
    "df_cases = df[[\"Date\",'State','Cases']]\n",
    "df_deaths = df[['Date','State','Deaths']]\n",
    "df_cases1 = df_cases.groupby('Date')\n",
    "df_deaths1= df_deaths.groupby('Date')"
   ]
  },
  {
   "cell_type": "code",
   "execution_count": 3,
   "metadata": {
    "execution": {
     "iopub.execute_input": "2020-10-31T11:25:40.311282Z",
     "iopub.status.busy": "2020-10-31T11:25:40.310665Z",
     "iopub.status.idle": "2020-10-31T11:25:40.329703Z",
     "shell.execute_reply": "2020-10-31T11:25:40.329228Z"
    },
    "papermill": {
     "duration": 0.039325,
     "end_time": "2020-10-31T11:25:40.329829",
     "exception": false,
     "start_time": "2020-10-31T11:25:40.290504",
     "status": "completed"
    },
    "tags": []
   },
   "outputs": [],
   "source": [
    "#hide\n",
    "df_snap = pd.read_csv('data/SnapshotCases-28-July.csv')\n",
    "arr_states = df_snap['states'].unique()\n",
    "arr_dates = df['Date'].unique()\n",
    "df_snap = df_snap.set_index('states')"
   ]
  },
  {
   "cell_type": "code",
   "execution_count": 4,
   "metadata": {
    "execution": {
     "iopub.execute_input": "2020-10-31T11:25:40.367760Z",
     "iopub.status.busy": "2020-10-31T11:25:40.367178Z",
     "iopub.status.idle": "2020-10-31T11:25:40.369604Z",
     "shell.execute_reply": "2020-10-31T11:25:40.370142Z"
    },
    "papermill": {
     "duration": 0.026394,
     "end_time": "2020-10-31T11:25:40.370272",
     "exception": false,
     "start_time": "2020-10-31T11:25:40.343878",
     "status": "completed"
    },
    "tags": []
   },
   "outputs": [
    {
     "data": {
      "text/plain": [
       "array(['Andaman and Nicobar Islands', 'Andhra Pradesh',\n",
       "       'Arunachal Pradesh', 'Assam', 'Bihar', 'Chandigarh',\n",
       "       'Dadra and Nagar Haveli and Daman and Diu', 'Delhi', 'Goa',\n",
       "       'Gujarat', 'Haryana', 'Himachal Pradesh', 'Jammu and Kashmir',\n",
       "       'Jharkhand', 'Karnataka', 'Kerala', 'Lakshadweep',\n",
       "       'Madhya Pradesh', 'Maharashtra', 'Manipur', 'Meghalaya', 'Mizoram',\n",
       "       'Nagaland', 'Odisha', 'Puducherry', 'Punjab', 'Rajasthan',\n",
       "       'Sikkim', 'Tamil Nadu', 'Telangana', 'Tripura', 'Uttar Pradesh',\n",
       "       'West Bengal', 'Chhattisgarh', 'Ladakh', 'Uttarakhand'],\n",
       "      dtype=object)"
      ]
     },
     "execution_count": 4,
     "metadata": {},
     "output_type": "execute_result"
    }
   ],
   "source": [
    "#hide\n",
    "arr_states[-9] = 'Puducherry'\n",
    "arr_states[-10] = 'Odisha'\n",
    "arr_states[6] = 'Dadra and Nagar Haveli and Daman and Diu'\n",
    "arr_states = np.append(arr_states,np.array(['Chhattisgarh','Ladakh','Uttarakhand']))\n",
    "arr_states"
   ]
  },
  {
   "cell_type": "code",
   "execution_count": 5,
   "metadata": {
    "execution": {
     "iopub.execute_input": "2020-10-31T11:25:40.415096Z",
     "iopub.status.busy": "2020-10-31T11:25:40.409604Z",
     "iopub.status.idle": "2020-10-31T11:25:40.419165Z",
     "shell.execute_reply": "2020-10-31T11:25:40.418636Z"
    },
    "papermill": {
     "duration": 0.034111,
     "end_time": "2020-10-31T11:25:40.419287",
     "exception": false,
     "start_time": "2020-10-31T11:25:40.385176",
     "status": "completed"
    },
    "tags": []
   },
   "outputs": [],
   "source": [
    "#hide\n",
    "dates = []\n",
    "for i in arr_dates:\n",
    "    if i>='2020-07-01':\n",
    "        dates.append(i)\n",
    "dict = {'states':dates}\n",
    "for i in arr_states:\n",
    "    dict[i] = [0]*len(dates)\n",
    "dft_cases = pd.DataFrame(dict)\n",
    "dft_deaths = pd.DataFrame(dict)\n"
   ]
  },
  {
   "cell_type": "code",
   "execution_count": 6,
   "metadata": {
    "execution": {
     "iopub.execute_input": "2020-10-31T11:25:40.457173Z",
     "iopub.status.busy": "2020-10-31T11:25:40.456586Z",
     "iopub.status.idle": "2020-10-31T11:25:42.105363Z",
     "shell.execute_reply": "2020-10-31T11:25:42.104494Z"
    },
    "papermill": {
     "duration": 1.671335,
     "end_time": "2020-10-31T11:25:42.105584",
     "exception": false,
     "start_time": "2020-10-31T11:25:40.434249",
     "status": "completed"
    },
    "tags": []
   },
   "outputs": [],
   "source": [
    "#hide\n",
    "for i in range(len(dates)):\n",
    "    df1_deaths = df_deaths1.get_group(dates[i])\n",
    "    for j in range(len(df1_deaths.index)):\n",
    "        if df1_deaths.iloc[j,1] in arr_states:\n",
    "            dft_deaths.loc[i,df1_deaths.iloc[j,1]] = df1_deaths.iloc[j,2]\n",
    "dft_deaths = dft_deaths.set_index('states')"
   ]
  },
  {
   "cell_type": "code",
   "execution_count": 7,
   "metadata": {
    "execution": {
     "iopub.execute_input": "2020-10-31T11:25:42.147485Z",
     "iopub.status.busy": "2020-10-31T11:25:42.146858Z",
     "iopub.status.idle": "2020-10-31T11:25:43.777436Z",
     "shell.execute_reply": "2020-10-31T11:25:43.776956Z"
    },
    "papermill": {
     "duration": 1.655535,
     "end_time": "2020-10-31T11:25:43.777588",
     "exception": false,
     "start_time": "2020-10-31T11:25:42.122053",
     "status": "completed"
    },
    "tags": []
   },
   "outputs": [],
   "source": [
    "#hide\n",
    "for i in range(len(dates)):\n",
    "    df1_cases = df_cases1.get_group(dates[i])\n",
    "    for j in range(len(df1_cases.index)):\n",
    "        if df1_cases.iloc[j,1] in arr_states:\n",
    "            dft_cases.loc[i,df1_cases.iloc[j,1]] = df1_cases.iloc[j,2]\n",
    "dft_cases = dft_cases.set_index('states')"
   ]
  },
  {
   "cell_type": "code",
   "execution_count": 8,
   "metadata": {
    "execution": {
     "iopub.execute_input": "2020-10-31T11:25:43.816247Z",
     "iopub.status.busy": "2020-10-31T11:25:43.815084Z",
     "iopub.status.idle": "2020-10-31T11:25:43.817153Z",
     "shell.execute_reply": "2020-10-31T11:25:43.817582Z"
    },
    "papermill": {
     "duration": 0.024635,
     "end_time": "2020-10-31T11:25:43.817710",
     "exception": false,
     "start_time": "2020-10-31T11:25:43.793075",
     "status": "completed"
    },
    "tags": []
   },
   "outputs": [],
   "source": [
    "#hide\n",
    "dft_cases = dft_cases.T\n",
    "dft_deaths = dft_deaths.T\n",
    "dt_today = dates[-1]\n",
    "dt_yday = dates[-2]"
   ]
  },
  {
   "cell_type": "code",
   "execution_count": 9,
   "metadata": {
    "execution": {
     "iopub.execute_input": "2020-10-31T11:25:43.855125Z",
     "iopub.status.busy": "2020-10-31T11:25:43.854525Z",
     "iopub.status.idle": "2020-10-31T11:25:43.857635Z",
     "shell.execute_reply": "2020-10-31T11:25:43.857172Z"
    },
    "papermill": {
     "duration": 0.024968,
     "end_time": "2020-10-31T11:25:43.857756",
     "exception": false,
     "start_time": "2020-10-31T11:25:43.832788",
     "status": "completed"
    },
    "tags": []
   },
   "outputs": [],
   "source": [
    "#hide\n",
    "dft_cases = dft_cases.reset_index()\n",
    "dft_deaths = dft_deaths.reset_index()\n",
    "dft_cases = dft_cases.rename(columns = {'index':'state'})\n",
    "dft_deaths = dft_deaths.rename(columns = {'index':'state'})"
   ]
  },
  {
   "cell_type": "code",
   "execution_count": 10,
   "metadata": {
    "execution": {
     "iopub.execute_input": "2020-10-31T11:25:43.896405Z",
     "iopub.status.busy": "2020-10-31T11:25:43.895832Z",
     "iopub.status.idle": "2020-10-31T11:25:43.903982Z",
     "shell.execute_reply": "2020-10-31T11:25:43.904482Z"
    },
    "papermill": {
     "duration": 0.03163,
     "end_time": "2020-10-31T11:25:43.904612",
     "exception": false,
     "start_time": "2020-10-31T11:25:43.872982",
     "status": "completed"
    },
    "tags": []
   },
   "outputs": [],
   "source": [
    "#hide\n",
    "dfc_cases = dft_cases.groupby('state')[dt_today].sum()\n",
    "dfc_deaths = dft_deaths.groupby('state')[dt_today].sum()\n",
    "dfp_cases = dft_cases.groupby('state')[dt_yday].sum()\n",
    "dfp_deaths = dft_deaths.groupby('state')[dt_yday].sum()"
   ]
  },
  {
   "cell_type": "code",
   "execution_count": 11,
   "metadata": {
    "execution": {
     "iopub.execute_input": "2020-10-31T11:25:43.949451Z",
     "iopub.status.busy": "2020-10-31T11:25:43.948870Z",
     "iopub.status.idle": "2020-10-31T11:25:43.955219Z",
     "shell.execute_reply": "2020-10-31T11:25:43.954703Z"
    },
    "papermill": {
     "duration": 0.035244,
     "end_time": "2020-10-31T11:25:43.955335",
     "exception": false,
     "start_time": "2020-10-31T11:25:43.920091",
     "status": "completed"
    },
    "tags": []
   },
   "outputs": [
    {
     "data": {
      "text/html": [
       "<div>\n",
       "<style scoped>\n",
       "    .dataframe tbody tr th:only-of-type {\n",
       "        vertical-align: middle;\n",
       "    }\n",
       "\n",
       "    .dataframe tbody tr th {\n",
       "        vertical-align: top;\n",
       "    }\n",
       "\n",
       "    .dataframe thead th {\n",
       "        text-align: right;\n",
       "    }\n",
       "</style>\n",
       "<table border=\"1\" class=\"dataframe\">\n",
       "  <thead>\n",
       "    <tr style=\"text-align: right;\">\n",
       "      <th></th>\n",
       "      <th>states</th>\n",
       "      <th>Cases</th>\n",
       "      <th>Deaths</th>\n",
       "      <th>PCases</th>\n",
       "      <th>PDeaths</th>\n",
       "    </tr>\n",
       "  </thead>\n",
       "  <tbody>\n",
       "    <tr>\n",
       "      <th>0</th>\n",
       "      <td>Maharashtra</td>\n",
       "      <td>1672858</td>\n",
       "      <td>43837</td>\n",
       "      <td>1672858</td>\n",
       "      <td>43837</td>\n",
       "    </tr>\n",
       "    <tr>\n",
       "      <th>1</th>\n",
       "      <td>Andhra Pradesh</td>\n",
       "      <td>820565</td>\n",
       "      <td>6676</td>\n",
       "      <td>820565</td>\n",
       "      <td>6676</td>\n",
       "    </tr>\n",
       "    <tr>\n",
       "      <th>2</th>\n",
       "      <td>Karnataka</td>\n",
       "      <td>820398</td>\n",
       "      <td>11140</td>\n",
       "      <td>820398</td>\n",
       "      <td>11140</td>\n",
       "    </tr>\n",
       "    <tr>\n",
       "      <th>3</th>\n",
       "      <td>Tamil Nadu</td>\n",
       "      <td>722011</td>\n",
       "      <td>11091</td>\n",
       "      <td>722011</td>\n",
       "      <td>11091</td>\n",
       "    </tr>\n",
       "    <tr>\n",
       "      <th>4</th>\n",
       "      <td>Uttar Pradesh</td>\n",
       "      <td>480082</td>\n",
       "      <td>7007</td>\n",
       "      <td>480082</td>\n",
       "      <td>7007</td>\n",
       "    </tr>\n",
       "  </tbody>\n",
       "</table>\n",
       "</div>"
      ],
      "text/plain": [
       "           states    Cases  Deaths   PCases  PDeaths\n",
       "0     Maharashtra  1672858   43837  1672858    43837\n",
       "1  Andhra Pradesh   820565    6676   820565     6676\n",
       "2       Karnataka   820398   11140   820398    11140\n",
       "3      Tamil Nadu   722011   11091   722011    11091\n",
       "4   Uttar Pradesh   480082    7007   480082     7007"
      ]
     },
     "execution_count": 11,
     "metadata": {},
     "output_type": "execute_result"
    }
   ],
   "source": [
    "#hide\n",
    "df_table = pd.DataFrame({'states': dfc_cases.index, 'Cases': dfc_cases.values, 'Deaths': dfc_deaths.values, 'PCases': dfp_cases.values, 'PDeaths': dfp_deaths.values}).set_index('states')\n",
    "df_table = df_table.sort_values(by = ['Cases','Deaths'], ascending = [False, False])\n",
    "df_table = df_table.reset_index()\n",
    "df_table.head()"
   ]
  },
  {
   "cell_type": "code",
   "execution_count": 12,
   "metadata": {
    "execution": {
     "iopub.execute_input": "2020-10-31T11:25:43.992245Z",
     "iopub.status.busy": "2020-10-31T11:25:43.991677Z",
     "iopub.status.idle": "2020-10-31T11:25:43.999338Z",
     "shell.execute_reply": "2020-10-31T11:25:43.999878Z"
    },
    "papermill": {
     "duration": 0.028929,
     "end_time": "2020-10-31T11:25:44.000004",
     "exception": false,
     "start_time": "2020-10-31T11:25:43.971075",
     "status": "completed"
    },
    "tags": []
   },
   "outputs": [],
   "source": [
    "#hide\n",
    "for c in 'Cases, Deaths'.split(', '):\n",
    "    df_table[f'{c} (+)'] = (df_table[c] - df_table[f'P{c}']).clip(0)\n",
    "df_table['Fatality Rate'] = (100* df_table['Deaths']/ df_table['Cases']).round(2)"
   ]
  },
  {
   "cell_type": "code",
   "execution_count": 13,
   "metadata": {
    "execution": {
     "iopub.execute_input": "2020-10-31T11:25:44.044161Z",
     "iopub.status.busy": "2020-10-31T11:25:44.043588Z",
     "iopub.status.idle": "2020-10-31T11:25:44.046480Z",
     "shell.execute_reply": "2020-10-31T11:25:44.047011Z"
    },
    "papermill": {
     "duration": 0.031536,
     "end_time": "2020-10-31T11:25:44.047145",
     "exception": false,
     "start_time": "2020-10-31T11:25:44.015609",
     "status": "completed"
    },
    "tags": []
   },
   "outputs": [
    {
     "data": {
      "text/html": [
       "<div>\n",
       "<style scoped>\n",
       "    .dataframe tbody tr th:only-of-type {\n",
       "        vertical-align: middle;\n",
       "    }\n",
       "\n",
       "    .dataframe tbody tr th {\n",
       "        vertical-align: top;\n",
       "    }\n",
       "\n",
       "    .dataframe thead th {\n",
       "        text-align: right;\n",
       "    }\n",
       "</style>\n",
       "<table border=\"1\" class=\"dataframe\">\n",
       "  <thead>\n",
       "    <tr style=\"text-align: right;\">\n",
       "      <th></th>\n",
       "      <th>states</th>\n",
       "      <th>Cases</th>\n",
       "      <th>Deaths</th>\n",
       "      <th>PCases</th>\n",
       "      <th>PDeaths</th>\n",
       "      <th>Cases (+)</th>\n",
       "      <th>Deaths (+)</th>\n",
       "      <th>Fatality Rate</th>\n",
       "    </tr>\n",
       "  </thead>\n",
       "  <tbody>\n",
       "    <tr>\n",
       "      <th>0</th>\n",
       "      <td>Maharashtra</td>\n",
       "      <td>1672858</td>\n",
       "      <td>43837</td>\n",
       "      <td>1672858</td>\n",
       "      <td>43837</td>\n",
       "      <td>0</td>\n",
       "      <td>0</td>\n",
       "      <td>2.62</td>\n",
       "    </tr>\n",
       "    <tr>\n",
       "      <th>1</th>\n",
       "      <td>Andhra Pradesh</td>\n",
       "      <td>820565</td>\n",
       "      <td>6676</td>\n",
       "      <td>820565</td>\n",
       "      <td>6676</td>\n",
       "      <td>0</td>\n",
       "      <td>0</td>\n",
       "      <td>0.81</td>\n",
       "    </tr>\n",
       "    <tr>\n",
       "      <th>2</th>\n",
       "      <td>Karnataka</td>\n",
       "      <td>820398</td>\n",
       "      <td>11140</td>\n",
       "      <td>820398</td>\n",
       "      <td>11140</td>\n",
       "      <td>0</td>\n",
       "      <td>0</td>\n",
       "      <td>1.36</td>\n",
       "    </tr>\n",
       "    <tr>\n",
       "      <th>3</th>\n",
       "      <td>Tamil Nadu</td>\n",
       "      <td>722011</td>\n",
       "      <td>11091</td>\n",
       "      <td>722011</td>\n",
       "      <td>11091</td>\n",
       "      <td>0</td>\n",
       "      <td>0</td>\n",
       "      <td>1.54</td>\n",
       "    </tr>\n",
       "    <tr>\n",
       "      <th>4</th>\n",
       "      <td>Uttar Pradesh</td>\n",
       "      <td>480082</td>\n",
       "      <td>7007</td>\n",
       "      <td>480082</td>\n",
       "      <td>7007</td>\n",
       "      <td>0</td>\n",
       "      <td>0</td>\n",
       "      <td>1.46</td>\n",
       "    </tr>\n",
       "  </tbody>\n",
       "</table>\n",
       "</div>"
      ],
      "text/plain": [
       "           states    Cases  Deaths   PCases  PDeaths  Cases (+)  Deaths (+)  \\\n",
       "0     Maharashtra  1672858   43837  1672858    43837          0           0   \n",
       "1  Andhra Pradesh   820565    6676   820565     6676          0           0   \n",
       "2       Karnataka   820398   11140   820398    11140          0           0   \n",
       "3      Tamil Nadu   722011   11091   722011    11091          0           0   \n",
       "4   Uttar Pradesh   480082    7007   480082     7007          0           0   \n",
       "\n",
       "   Fatality Rate  \n",
       "0           2.62  \n",
       "1           0.81  \n",
       "2           1.36  \n",
       "3           1.54  \n",
       "4           1.46  "
      ]
     },
     "execution_count": 13,
     "metadata": {},
     "output_type": "execute_result"
    }
   ],
   "source": [
    "#hide\n",
    "df_table.head()"
   ]
  },
  {
   "cell_type": "code",
   "execution_count": 14,
   "metadata": {
    "execution": {
     "iopub.execute_input": "2020-10-31T11:25:44.085943Z",
     "iopub.status.busy": "2020-10-31T11:25:44.085367Z",
     "iopub.status.idle": "2020-10-31T11:25:44.102697Z",
     "shell.execute_reply": "2020-10-31T11:25:44.102206Z"
    },
    "papermill": {
     "duration": 0.039337,
     "end_time": "2020-10-31T11:25:44.102811",
     "exception": false,
     "start_time": "2020-10-31T11:25:44.063474",
     "status": "completed"
    },
    "tags": []
   },
   "outputs": [
    {
     "data": {
      "text/plain": [
       "{'updated': '2020-10-31',\n",
       " 'since': '2020-10-30',\n",
       " 'Cases': 8139081,\n",
       " 'PCases': 8136166,\n",
       " 'Deaths': 121699,\n",
       " 'PDeaths': 121681,\n",
       " 'Cases (+)': 2915,\n",
       " 'Deaths (+)': 18}"
      ]
     },
     "execution_count": 14,
     "metadata": {},
     "output_type": "execute_result"
    }
   ],
   "source": [
    "#hide\n",
    "summary = {'updated':dates[-1], 'since':dates[-2]}\n",
    "list_names = ['Cases', 'PCases', 'Deaths', 'PDeaths', 'Cases (+)', 'Deaths (+)']\n",
    "for name in list_names:\n",
    "    summary[name] = df_table.sum()[name]\n",
    "summary"
   ]
  },
  {
   "cell_type": "code",
   "execution_count": 15,
   "metadata": {
    "execution": {
     "iopub.execute_input": "2020-10-31T11:25:44.139918Z",
     "iopub.status.busy": "2020-10-31T11:25:44.139328Z",
     "iopub.status.idle": "2020-10-31T11:25:44.141833Z",
     "shell.execute_reply": "2020-10-31T11:25:44.142305Z"
    },
    "papermill": {
     "duration": 0.023286,
     "end_time": "2020-10-31T11:25:44.142445",
     "exception": false,
     "start_time": "2020-10-31T11:25:44.119159",
     "status": "completed"
    },
    "tags": []
   },
   "outputs": [],
   "source": [
    "#hide\n",
    "overview = '''\n",
    "<!-- #######  HTML!! #########-->\n",
    "<h1 style=\"color: #5e9ca0; text-align: center;\">India</h1>\n",
    "<p style=\"text-align: center;\">Last update: <strong>{update}</strong></p>\n",
    "<p style=\"text-align: center;\">Confirmed cases:</p>\n",
    "<p style=\"text-align: center;font-size:24px;\">{cases} (<span style=\"color: #ff0000;\">+{new}</span>)</p>\n",
    "<p style=\"text-align: center;\">Confirmed deaths:</p>\n",
    "<p style=\"text-align: center;font-size:24px;\">{deaths} (<span style=\"color: #ff0000;\">+{dnew}</span>)</p>\n",
    "'''"
   ]
  },
  {
   "cell_type": "code",
   "execution_count": 16,
   "metadata": {
    "execution": {
     "iopub.execute_input": "2020-10-31T11:25:44.181695Z",
     "iopub.status.busy": "2020-10-31T11:25:44.181113Z",
     "iopub.status.idle": "2020-10-31T11:25:44.183477Z",
     "shell.execute_reply": "2020-10-31T11:25:44.183951Z"
    },
    "papermill": {
     "duration": 0.02554,
     "end_time": "2020-10-31T11:25:44.184077",
     "exception": false,
     "start_time": "2020-10-31T11:25:44.158537",
     "status": "completed"
    },
    "tags": []
   },
   "outputs": [
    {
     "data": {
      "text/html": [
       "\n",
       "<!-- #######  HTML!! #########-->\n",
       "<h1 style=\"color: #5e9ca0; text-align: center;\">India</h1>\n",
       "<p style=\"text-align: center;\">Last update: <strong>2020-10-31</strong></p>\n",
       "<p style=\"text-align: center;\">Confirmed cases:</p>\n",
       "<p style=\"text-align: center;font-size:24px;\">8139081 (<span style=\"color: #ff0000;\">+2915</span>)</p>\n",
       "<p style=\"text-align: center;\">Confirmed deaths:</p>\n",
       "<p style=\"text-align: center;font-size:24px;\">121699 (<span style=\"color: #ff0000;\">+18</span>)</p>\n"
      ],
      "text/plain": [
       "<IPython.core.display.HTML object>"
      ]
     },
     "metadata": {},
     "output_type": "display_data"
    }
   ],
   "source": [
    "#hide_input\n",
    "update = summary['updated']\n",
    "cases = summary['Cases']\n",
    "new = summary['Cases (+)']\n",
    "deaths = summary['Deaths']\n",
    "dnew = summary['Deaths (+)']\n",
    "\n",
    "html = HTML(overview.format(update=update, cases=cases,new=new,deaths=deaths,dnew=dnew))\n",
    "\n",
    "display(html)"
   ]
  },
  {
   "cell_type": "code",
   "execution_count": 17,
   "metadata": {
    "execution": {
     "iopub.execute_input": "2020-10-31T11:25:44.227409Z",
     "iopub.status.busy": "2020-10-31T11:25:44.226770Z",
     "iopub.status.idle": "2020-10-31T11:25:44.232098Z",
     "shell.execute_reply": "2020-10-31T11:25:44.231580Z"
    },
    "papermill": {
     "duration": 0.031012,
     "end_time": "2020-10-31T11:25:44.232216",
     "exception": false,
     "start_time": "2020-10-31T11:25:44.201204",
     "status": "completed"
    },
    "tags": []
   },
   "outputs": [],
   "source": [
    "#hide\n",
    "dt_cols = list(dft_cases.columns[1:])\n",
    "dft_ct_new_cases = dft_cases.groupby('state')[dt_cols].sum().diff(axis=1).fillna(0).astype(int)\n",
    "dft_ct_new_cases.sort_values(by = dates[-1], ascending = False,inplace = True)"
   ]
  },
  {
   "cell_type": "code",
   "execution_count": 18,
   "metadata": {
    "execution": {
     "iopub.execute_input": "2020-10-31T11:25:44.284436Z",
     "iopub.status.busy": "2020-10-31T11:25:44.283859Z",
     "iopub.status.idle": "2020-10-31T11:25:44.286942Z",
     "shell.execute_reply": "2020-10-31T11:25:44.286428Z"
    },
    "papermill": {
     "duration": 0.037875,
     "end_time": "2020-10-31T11:25:44.287062",
     "exception": false,
     "start_time": "2020-10-31T11:25:44.249187",
     "status": "completed"
    },
    "tags": []
   },
   "outputs": [
    {
     "data": {
      "text/html": [
       "<div>\n",
       "<style scoped>\n",
       "    .dataframe tbody tr th:only-of-type {\n",
       "        vertical-align: middle;\n",
       "    }\n",
       "\n",
       "    .dataframe tbody tr th {\n",
       "        vertical-align: top;\n",
       "    }\n",
       "\n",
       "    .dataframe thead th {\n",
       "        text-align: right;\n",
       "    }\n",
       "</style>\n",
       "<table border=\"1\" class=\"dataframe\">\n",
       "  <thead>\n",
       "    <tr style=\"text-align: right;\">\n",
       "      <th>states</th>\n",
       "      <th>2020-07-01</th>\n",
       "      <th>2020-07-02</th>\n",
       "      <th>2020-07-03</th>\n",
       "      <th>2020-07-04</th>\n",
       "      <th>2020-07-05</th>\n",
       "      <th>2020-07-06</th>\n",
       "      <th>2020-07-07</th>\n",
       "      <th>2020-07-08</th>\n",
       "      <th>2020-07-09</th>\n",
       "      <th>2020-07-10</th>\n",
       "      <th>...</th>\n",
       "      <th>2020-10-22</th>\n",
       "      <th>2020-10-23</th>\n",
       "      <th>2020-10-24</th>\n",
       "      <th>2020-10-25</th>\n",
       "      <th>2020-10-26</th>\n",
       "      <th>2020-10-27</th>\n",
       "      <th>2020-10-28</th>\n",
       "      <th>2020-10-29</th>\n",
       "      <th>2020-10-30</th>\n",
       "      <th>2020-10-31</th>\n",
       "    </tr>\n",
       "    <tr>\n",
       "      <th>state</th>\n",
       "      <th></th>\n",
       "      <th></th>\n",
       "      <th></th>\n",
       "      <th></th>\n",
       "      <th></th>\n",
       "      <th></th>\n",
       "      <th></th>\n",
       "      <th></th>\n",
       "      <th></th>\n",
       "      <th></th>\n",
       "      <th></th>\n",
       "      <th></th>\n",
       "      <th></th>\n",
       "      <th></th>\n",
       "      <th></th>\n",
       "      <th></th>\n",
       "      <th></th>\n",
       "      <th></th>\n",
       "      <th></th>\n",
       "      <th></th>\n",
       "      <th></th>\n",
       "    </tr>\n",
       "  </thead>\n",
       "  <tbody>\n",
       "    <tr>\n",
       "      <th>Odisha</th>\n",
       "      <td>0</td>\n",
       "      <td>229</td>\n",
       "      <td>561</td>\n",
       "      <td>495</td>\n",
       "      <td>469</td>\n",
       "      <td>456</td>\n",
       "      <td>571</td>\n",
       "      <td>527</td>\n",
       "      <td>577</td>\n",
       "      <td>755</td>\n",
       "      <td>...</td>\n",
       "      <td>1913</td>\n",
       "      <td>1793</td>\n",
       "      <td>1695</td>\n",
       "      <td>1633</td>\n",
       "      <td>1480</td>\n",
       "      <td>1247</td>\n",
       "      <td>1540</td>\n",
       "      <td>1617</td>\n",
       "      <td>1547</td>\n",
       "      <td>1470</td>\n",
       "    </tr>\n",
       "    <tr>\n",
       "      <th>Telangana</th>\n",
       "      <td>0</td>\n",
       "      <td>1213</td>\n",
       "      <td>1892</td>\n",
       "      <td>1850</td>\n",
       "      <td>1590</td>\n",
       "      <td>1831</td>\n",
       "      <td>1879</td>\n",
       "      <td>1924</td>\n",
       "      <td>1410</td>\n",
       "      <td>1278</td>\n",
       "      <td>...</td>\n",
       "      <td>1456</td>\n",
       "      <td>1421</td>\n",
       "      <td>1273</td>\n",
       "      <td>978</td>\n",
       "      <td>582</td>\n",
       "      <td>837</td>\n",
       "      <td>1481</td>\n",
       "      <td>1504</td>\n",
       "      <td>1531</td>\n",
       "      <td>1445</td>\n",
       "    </tr>\n",
       "    <tr>\n",
       "      <th>Andaman and Nicobar Islands</th>\n",
       "      <td>0</td>\n",
       "      <td>9</td>\n",
       "      <td>7</td>\n",
       "      <td>3</td>\n",
       "      <td>6</td>\n",
       "      <td>16</td>\n",
       "      <td>6</td>\n",
       "      <td>2</td>\n",
       "      <td>7</td>\n",
       "      <td>0</td>\n",
       "      <td>...</td>\n",
       "      <td>16</td>\n",
       "      <td>23</td>\n",
       "      <td>18</td>\n",
       "      <td>20</td>\n",
       "      <td>8</td>\n",
       "      <td>21</td>\n",
       "      <td>15</td>\n",
       "      <td>16</td>\n",
       "      <td>12</td>\n",
       "      <td>0</td>\n",
       "    </tr>\n",
       "    <tr>\n",
       "      <th>Puducherry</th>\n",
       "      <td>0</td>\n",
       "      <td>63</td>\n",
       "      <td>22</td>\n",
       "      <td>80</td>\n",
       "      <td>42</td>\n",
       "      <td>65</td>\n",
       "      <td>30</td>\n",
       "      <td>110</td>\n",
       "      <td>49</td>\n",
       "      <td>72</td>\n",
       "      <td>...</td>\n",
       "      <td>210</td>\n",
       "      <td>154</td>\n",
       "      <td>126</td>\n",
       "      <td>81</td>\n",
       "      <td>143</td>\n",
       "      <td>146</td>\n",
       "      <td>101</td>\n",
       "      <td>178</td>\n",
       "      <td>147</td>\n",
       "      <td>0</td>\n",
       "    </tr>\n",
       "    <tr>\n",
       "      <th>Maharashtra</th>\n",
       "      <td>0</td>\n",
       "      <td>6328</td>\n",
       "      <td>6364</td>\n",
       "      <td>7074</td>\n",
       "      <td>6555</td>\n",
       "      <td>5368</td>\n",
       "      <td>5134</td>\n",
       "      <td>6603</td>\n",
       "      <td>6875</td>\n",
       "      <td>7862</td>\n",
       "      <td>...</td>\n",
       "      <td>7539</td>\n",
       "      <td>7347</td>\n",
       "      <td>6417</td>\n",
       "      <td>6059</td>\n",
       "      <td>3645</td>\n",
       "      <td>5363</td>\n",
       "      <td>6738</td>\n",
       "      <td>5902</td>\n",
       "      <td>6190</td>\n",
       "      <td>0</td>\n",
       "    </tr>\n",
       "  </tbody>\n",
       "</table>\n",
       "<p>5 rows × 123 columns</p>\n",
       "</div>"
      ],
      "text/plain": [
       "states                       2020-07-01  2020-07-02  2020-07-03  2020-07-04  \\\n",
       "state                                                                         \n",
       "Odisha                                0         229         561         495   \n",
       "Telangana                             0        1213        1892        1850   \n",
       "Andaman and Nicobar Islands           0           9           7           3   \n",
       "Puducherry                            0          63          22          80   \n",
       "Maharashtra                           0        6328        6364        7074   \n",
       "\n",
       "states                       2020-07-05  2020-07-06  2020-07-07  2020-07-08  \\\n",
       "state                                                                         \n",
       "Odisha                              469         456         571         527   \n",
       "Telangana                          1590        1831        1879        1924   \n",
       "Andaman and Nicobar Islands           6          16           6           2   \n",
       "Puducherry                           42          65          30         110   \n",
       "Maharashtra                        6555        5368        5134        6603   \n",
       "\n",
       "states                       2020-07-09  2020-07-10  ...  2020-10-22  \\\n",
       "state                                                ...               \n",
       "Odisha                              577         755  ...        1913   \n",
       "Telangana                          1410        1278  ...        1456   \n",
       "Andaman and Nicobar Islands           7           0  ...          16   \n",
       "Puducherry                           49          72  ...         210   \n",
       "Maharashtra                        6875        7862  ...        7539   \n",
       "\n",
       "states                       2020-10-23  2020-10-24  2020-10-25  2020-10-26  \\\n",
       "state                                                                         \n",
       "Odisha                             1793        1695        1633        1480   \n",
       "Telangana                          1421        1273         978         582   \n",
       "Andaman and Nicobar Islands          23          18          20           8   \n",
       "Puducherry                          154         126          81         143   \n",
       "Maharashtra                        7347        6417        6059        3645   \n",
       "\n",
       "states                       2020-10-27  2020-10-28  2020-10-29  2020-10-30  \\\n",
       "state                                                                         \n",
       "Odisha                             1247        1540        1617        1547   \n",
       "Telangana                           837        1481        1504        1531   \n",
       "Andaman and Nicobar Islands          21          15          16          12   \n",
       "Puducherry                          146         101         178         147   \n",
       "Maharashtra                        5363        6738        5902        6190   \n",
       "\n",
       "states                       2020-10-31  \n",
       "state                                    \n",
       "Odisha                             1470  \n",
       "Telangana                          1445  \n",
       "Andaman and Nicobar Islands           0  \n",
       "Puducherry                            0  \n",
       "Maharashtra                           0  \n",
       "\n",
       "[5 rows x 123 columns]"
      ]
     },
     "execution_count": 18,
     "metadata": {},
     "output_type": "execute_result"
    }
   ],
   "source": [
    "#hide\n",
    "dft_ct_new_cases.head()"
   ]
  },
  {
   "cell_type": "code",
   "execution_count": 19,
   "metadata": {
    "execution": {
     "iopub.execute_input": "2020-10-31T11:25:44.351563Z",
     "iopub.status.busy": "2020-10-31T11:25:44.330774Z",
     "iopub.status.idle": "2020-10-31T11:25:48.732405Z",
     "shell.execute_reply": "2020-10-31T11:25:48.732894Z"
    },
    "papermill": {
     "duration": 4.428222,
     "end_time": "2020-10-31T11:25:48.733048",
     "exception": false,
     "start_time": "2020-10-31T11:25:44.304826",
     "status": "completed"
    },
    "tags": []
   },
   "outputs": [
    {
     "data": {
      "image/png": "[encoded data removed]",
      "text/plain": [
       "<Figure size 1296x2016 with 11 Axes>"
      ]
     },
     "metadata": {
      "needs_background": "light"
     },
     "output_type": "display_data"
    }
   ],
   "source": [
    "#hide_input\n",
    "df = dft_ct_new_cases.copy()\n",
    "df.loc['Total'] = df.sum()\n",
    "n = 5\n",
    "ax = []\n",
    "fig = plt.figure(figsize = (18,28))\n",
    "gs = fig.add_gridspec(n+2, 5)\n",
    "# gs = fig.add_gridspec(2, 3)\n",
    "ax1 = fig.add_subplot(gs[0, :])\n",
    "ef = df.loc['Total'].rename_axis('date').reset_index()\n",
    "ef['date'] = ef['date'].astype('datetime64[ns]')\n",
    "ax1.bar(ef.date,ef.Total,alpha=0.3,color='#007acc')\n",
    "ax1.plot(ef.date,ef.Total , marker=\"o\", color='#007acc')\n",
    "ax1.xaxis.set_major_locator(mdates.WeekdayLocator())\n",
    "ax1.xaxis.set_major_formatter(mdates.DateFormatter('%b %d'))\n",
    "ax1.text(0.02, 0.5,'India daily case count', transform = ax1.transAxes, fontsize=25);\n",
    "ax1.spines['right'].set_visible(False)\n",
    "ax1.spines['top'].set_visible(False)\n",
    "\n",
    "ax2 = fig.add_subplot(gs[1,0])\n",
    "ef = df.loc['Maharashtra'].rename_axis('date').reset_index()\n",
    "ef['date'] = ef['date'].astype('datetime64[ns]')\n",
    "\n",
    "ax2.bar(ef.date, ef.Maharashtra,color = '#007acc',alpha=0.5)\n",
    "ax2.xaxis.set_major_locator(mdates.WeekdayLocator())\n",
    "ax2.xaxis.set_major_formatter(mdates.DateFormatter('%b %d'))\n",
    "ax2.set_xticks(ax2.get_xticks()[::3])\n",
    "maxyval = ef.Maharashtra.max()\n",
    "ax2.set_ylim([0,maxyval])\n",
    "ax2.text(0.05, 0.9,'Maharashtra', transform = ax2.transAxes, fontsize=20);\n",
    "ax2.spines['right'].set_visible(False)\n",
    "ax2.spines['top'].set_visible(False)\n",
    "\n",
    "\n",
    "ax3 = fig.add_subplot(gs[1,1])\n",
    "ef = df.loc['Tamil Nadu'].rename_axis('date').reset_index()\n",
    "ef['date'] = ef['date'].astype('datetime64[ns]')\n",
    "ax3.bar(ef.date, ef['Tamil Nadu'],color = '#007acc',alpha=0.5,)\n",
    "ax3.xaxis.set_major_locator(mdates.WeekdayLocator())\n",
    "ax3.xaxis.set_major_formatter(mdates.DateFormatter('%b %d'))\n",
    "ax3.set_xticks(ax3.get_xticks()[::3])\n",
    "ax3.text(0.05, 0.9,'Tamil Nadu', transform = ax3.transAxes, fontsize=20);\n",
    "ax3.spines['right'].set_visible(False)\n",
    "ax3.spines['top'].set_visible(False)\n",
    "\n",
    "ax5 = fig.add_subplot(gs[1,3])\n",
    "ef = df.loc['Telangana'].rename_axis('date').reset_index()\n",
    "ef['date'] = ef['date'].astype('datetime64[ns]')\n",
    "ax5.bar(ef.date, ef['Telangana'],color = '#007acc',alpha=0.5,)\n",
    "ax5.xaxis.set_major_locator(mdates.WeekdayLocator())\n",
    "ax5.xaxis.set_major_formatter(mdates.DateFormatter('%b %d'))\n",
    "ax5.set_xticks(ax5.get_xticks()[::3])\n",
    "ax5.text(0.05, 0.9,'Telangana', transform = ax5.transAxes, fontsize=20);\n",
    "ax5.spines['right'].set_visible(False)\n",
    "ax5.spines['top'].set_visible(False)\n",
    "\n",
    "ax6 = fig.add_subplot(gs[1,4])\n",
    "ef = df.loc['Andhra Pradesh'].rename_axis('date').reset_index()\n",
    "ef['date'] = ef['date'].astype('datetime64[ns]')\n",
    "ax6.bar(ef.date, ef['Andhra Pradesh'],color = '#007acc',alpha=0.5,)\n",
    "ax6.xaxis.set_major_locator(mdates.WeekdayLocator())\n",
    "ax6.xaxis.set_major_formatter(mdates.DateFormatter('%b %d'))\n",
    "ax6.set_xticks(ax6.get_xticks()[::3])\n",
    "ax6.text(0.05, 1,'Andhra Pradesh', transform = ax6.transAxes, fontsize=20);\n",
    "ax6.spines['right'].set_visible(False)\n",
    "ax6.spines['top'].set_visible(False)\n",
    "\n",
    "ax4 = fig.add_subplot(gs[1,2])\n",
    "ef = df.loc['Delhi'].rename_axis('date').reset_index()\n",
    "ef['date'] = ef['date'].astype('datetime64[ns]')\n",
    "ax4.bar(ef.date, ef.Delhi,color = '#007acc',alpha=0.5)\n",
    "ax4.set_xticks([])\n",
    "ax4.xaxis.set_major_locator(mdates.WeekdayLocator())\n",
    "ax4.xaxis.set_major_formatter(mdates.DateFormatter('%b %d'))\n",
    "ax4.set_xticks(ax4.get_xticks()[::3])\n",
    "ax4.spines['right'].set_visible(False)\n",
    "ax4.spines['top'].set_visible(False)\n",
    "\n",
    "ax4.text(0.05, 1,'Delhi', transform = ax4.transAxes, fontsize=20)\n",
    "\n",
    "for i in range(n):\n",
    "    \n",
    "    ax.append(fig.add_subplot(gs[i+2,:]))\n",
    "    ef = df.iloc[i+3].rename_axis('date').reset_index()\n",
    "    ef['date'] = ef['date'].astype('datetime64[ns]')\n",
    "    ax[i].bar(ef.date,ef.iloc[:,-1],color = '#007acc',alpha=0.3)\n",
    "    ax[i].plot(ef.date,ef.iloc[:,-1],marker='o',color='#007acc')\n",
    "    ax[i].text(0.02,0.5,f'{ef.columns.values[-1]}',transform = ax[i].transAxes, fontsize = 20);\n",
    "    ax[i].xaxis.set_major_locator(mdates.WeekdayLocator())\n",
    "    ax[i].xaxis.set_major_formatter(mdates.DateFormatter('%b %d'))\n",
    "    ax[i].set_ylim([0,7000])\n",
    "    ax[i].spines['right'].set_visible(False)\n",
    "    ax[i].spines['top'].set_visible(False)\n",
    "plt.tight_layout()\n"
   ]
  },
  {
   "cell_type": "code",
   "execution_count": 20,
   "metadata": {
    "execution": {
     "iopub.execute_input": "2020-10-31T11:25:48.790057Z",
     "iopub.status.busy": "2020-10-31T11:25:48.789209Z",
     "iopub.status.idle": "2020-10-31T11:25:48.791525Z",
     "shell.execute_reply": "2020-10-31T11:25:48.791991Z"
    },
    "papermill": {
     "duration": 0.036127,
     "end_time": "2020-10-31T11:25:48.792131",
     "exception": false,
     "start_time": "2020-10-31T11:25:48.756004",
     "status": "completed"
    },
    "tags": []
   },
   "outputs": [
    {
     "name": "stdout",
     "output_type": "stream",
     "text": [
      "                                   states    Cases  Deaths   PCases  PDeaths  Cases (+)  Deaths (+)  Fatality Rate\n",
      "                              Maharashtra  1672858   43837  1672858    43837          0           0           2.62\n",
      "                           Andhra Pradesh   820565    6676   820565     6676          0           0           0.81\n",
      "                                Karnataka   820398   11140   820398    11140          0           0           1.36\n",
      "                               Tamil Nadu   722011   11091   722011    11091          0           0           1.54\n",
      "                            Uttar Pradesh   480082    7007   480082     7007          0           0           1.46\n",
      "                                   Kerala   425123    1458   425123     1458          0           0           0.34\n",
      "                                    Delhi   381644    6470   381644     6470          0           0           1.70\n",
      "                              West Bengal   369671    6784   369671     6784          0           0           1.84\n",
      "                                   Odisha   290116    1373   288646     1361       1470          12           0.47\n",
      "                                Telangana   238632    1336   237187     1330       1445           6           0.56\n",
      "                                    Bihar   215964    1084   215964     1084          0           0           0.50\n",
      "                                    Assam   206015     926   206015      926          0           0           0.45\n",
      "                                Rajasthan   195213    1898   195213     1898          0           0           0.97\n",
      "                             Chhattisgarh   185306    2038   185306     2038          0           0           1.10\n",
      "                                  Gujarat   172009    3714   172009     3714          0           0           2.16\n",
      "                           Madhya Pradesh   170690    2941   170690     2941          0           0           1.72\n",
      "                                  Haryana   165467    1777   165467     1777          0           0           1.07\n",
      "                                   Punjab   133158    4187   133158     4187          0           0           3.14\n",
      "                                Jharkhand   101287     883   101287      883          0           0           0.87\n",
      "                        Jammu and Kashmir    94330    1471    94330     1471          0           0           1.56\n",
      "                              Uttarakhand    61915    1011    61915     1011          0           0           1.63\n",
      "                                      Goa    43416     602    43416      602          0           0           1.39\n",
      "                               Puducherry    34908     592    34908      592          0           0           1.70\n",
      "                                  Tripura    30660     343    30660      343          0           0           1.12\n",
      "                         Himachal Pradesh    21577     306    21577      306          0           0           1.42\n",
      "                                  Manipur    18272     164    18272      164          0           0           0.90\n",
      "                        Arunachal Pradesh    14752      37    14752       37          0           0           0.25\n",
      "                               Chandigarh    14351     225    14351      225          0           0           1.57\n",
      "                                Meghalaya     9382      87     9382       87          0           0           0.93\n",
      "                                 Nagaland     8945      39     8945       39          0           0           0.44\n",
      "                                   Ladakh     6194      73     6194       73          0           0           1.18\n",
      "              Andaman and Nicobar Islands     4317      59     4317       59          0           0           1.37\n",
      "                                   Sikkim     3913      67     3913       67          0           0           1.71\n",
      " Dadra and Nagar Haveli and Daman and Diu     3246       2     3246        2          0           0           0.06\n",
      "                                  Mizoram     2694       1     2694        1          0           0           0.04\n",
      "                              Lakshadweep        0       0        0        0          0           0            NaN\n"
     ]
    }
   ],
   "source": [
    "#hide_input\n",
    "print(df_table.to_string(index=False))"
   ]
  },
  {
   "cell_type": "code",
   "execution_count": null,
   "metadata": {
    "papermill": {
     "duration": 0.022546,
     "end_time": "2020-10-31T11:25:48.836976",
     "exception": false,
     "start_time": "2020-10-31T11:25:48.814430",
     "status": "completed"
    },
    "tags": []
   },
   "outputs": [],
   "source": []
  },
  {
   "cell_type": "code",
   "execution_count": null,
   "metadata": {
    "papermill": {
     "duration": 0.022746,
     "end_time": "2020-10-31T11:25:48.882068",
     "exception": false,
     "start_time": "2020-10-31T11:25:48.859322",
     "status": "completed"
    },
    "tags": []
   },
   "outputs": [],
   "source": []
  }
 ],
 "metadata": {
  "kernelspec": {
   "display_name": "Python 3",
   "language": "python",
   "name": "python3"
  },
  "language_info": {
   "codemirror_mode": {
    "name": "ipython",
    "version": 3
   },
   "file_extension": ".py",
   "mimetype": "text/x-python",
   "name": "python",
   "nbconvert_exporter": "python",
   "pygments_lexer": "ipython3",
   "version": "3.6.12"
  },
  "papermill": {
   "duration": 10.918085,
   "end_time": "2020-10-31T11:25:49.313513",
   "environment_variables": {},
   "exception": null,
   "input_path": "latest.ipynb",
   "output_path": "latest.ipynb",
   "parameters": {},
   "start_time": "2020-10-31T11:25:38.395428",
   "version": "2.1.2"
  }
 },
 "nbformat": 4,
 "nbformat_minor": 4
}