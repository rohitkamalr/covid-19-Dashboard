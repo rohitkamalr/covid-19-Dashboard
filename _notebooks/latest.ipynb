{
 "cells": [
  {
   "cell_type": "markdown",
   "metadata": {
    "papermill": {
     "duration": 0.019458,
     "end_time": "2020-11-01T08:37:56.854542",
     "exception": false,
     "start_time": "2020-11-01T08:37:56.835084",
     "status": "completed"
    },
    "tags": []
   },
   "source": [
    "# Latest COVID-19 India Matplotlib Overview"
   ]
  },
  {
   "cell_type": "code",
   "execution_count": 1,
   "metadata": {
    "execution": {
     "iopub.execute_input": "2020-11-01T08:37:56.893818Z",
     "iopub.status.busy": "2020-11-01T08:37:56.893212Z",
     "iopub.status.idle": "2020-11-01T08:37:57.533097Z",
     "shell.execute_reply": "2020-11-01T08:37:57.532266Z"
    },
    "papermill": {
     "duration": 0.662627,
     "end_time": "2020-11-01T08:37:57.533264",
     "exception": false,
     "start_time": "2020-11-01T08:37:56.870637",
     "status": "completed"
    },
    "tags": []
   },
   "outputs": [],
   "source": [
    "#hide\n",
    "import pandas as pd\n",
    "import numpy as np\n",
    "import requests\n",
    "import json\n",
    "import matplotlib.pyplot as plt\n",
    "import matplotlib.dates as mdates\n",
    "import matplotlib as mpl\n",
    "from IPython.core.display import display,HTML\n",
    "%matplotlib inline\n",
    "from datetime import date"
   ]
  },
  {
   "cell_type": "code",
   "execution_count": 2,
   "metadata": {
    "execution": {
     "iopub.execute_input": "2020-11-01T08:37:57.574521Z",
     "iopub.status.busy": "2020-11-01T08:37:57.573837Z",
     "iopub.status.idle": "2020-11-01T08:37:57.684601Z",
     "shell.execute_reply": "2020-11-01T08:37:57.683567Z"
    },
    "papermill": {
     "duration": 0.134691,
     "end_time": "2020-11-01T08:37:57.684803",
     "exception": false,
     "start_time": "2020-11-01T08:37:57.550112",
     "status": "completed"
    },
    "tags": []
   },
   "outputs": [],
   "source": [
    "#hide\n",
    "df  = pd.read_csv('https://api.covid19india.org/csv/latest/states.csv')\n",
    "df = df[['Date','State','Confirmed','Deceased']]\n",
    "df = df.rename(columns={'Confirmed':'Cases', \"Deceased\":'Deaths'})\n",
    "df_cases = df[[\"Date\",'State','Cases']]\n",
    "df_deaths = df[['Date','State','Deaths']]\n",
    "df_cases1 = df_cases.groupby('Date')\n",
    "df_deaths1= df_deaths.groupby('Date')"
   ]
  },
  {
   "cell_type": "code",
   "execution_count": 3,
   "metadata": {
    "execution": {
     "iopub.execute_input": "2020-11-01T08:37:57.724598Z",
     "iopub.status.busy": "2020-11-01T08:37:57.723868Z",
     "iopub.status.idle": "2020-11-01T08:37:57.744462Z",
     "shell.execute_reply": "2020-11-01T08:37:57.743772Z"
    },
    "papermill": {
     "duration": 0.043073,
     "end_time": "2020-11-01T08:37:57.744632",
     "exception": false,
     "start_time": "2020-11-01T08:37:57.701559",
     "status": "completed"
    },
    "tags": []
   },
   "outputs": [],
   "source": [
    "#hide\n",
    "df_snap = pd.read_csv('data/SnapshotCases-28-July.csv')\n",
    "arr_states = df_snap['states'].unique()\n",
    "arr_dates = df['Date'].unique()\n",
    "df_snap = df_snap.set_index('states')"
   ]
  },
  {
   "cell_type": "code",
   "execution_count": 4,
   "metadata": {
    "execution": {
     "iopub.execute_input": "2020-11-01T08:37:57.783532Z",
     "iopub.status.busy": "2020-11-01T08:37:57.782902Z",
     "iopub.status.idle": "2020-11-01T08:37:57.786145Z",
     "shell.execute_reply": "2020-11-01T08:37:57.785665Z"
    },
    "papermill": {
     "duration": 0.025406,
     "end_time": "2020-11-01T08:37:57.786266",
     "exception": false,
     "start_time": "2020-11-01T08:37:57.760860",
     "status": "completed"
    },
    "tags": []
   },
   "outputs": [
    {
     "data": {
      "text/plain": [
       "array(['Andaman and Nicobar Islands', 'Andhra Pradesh',\n",
       "       'Arunachal Pradesh', 'Assam', 'Bihar', 'Chandigarh',\n",
       "       'Dadra and Nagar Haveli and Daman and Diu', 'Delhi', 'Goa',\n",
       "       'Gujarat', 'Haryana', 'Himachal Pradesh', 'Jammu and Kashmir',\n",
       "       'Jharkhand', 'Karnataka', 'Kerala', 'Lakshadweep',\n",
       "       'Madhya Pradesh', 'Maharashtra', 'Manipur', 'Meghalaya', 'Mizoram',\n",
       "       'Nagaland', 'Odisha', 'Puducherry', 'Punjab', 'Rajasthan',\n",
       "       'Sikkim', 'Tamil Nadu', 'Telangana', 'Tripura', 'Uttar Pradesh',\n",
       "       'West Bengal', 'Chhattisgarh', 'Ladakh', 'Uttarakhand'],\n",
       "      dtype=object)"
      ]
     },
     "execution_count": 4,
     "metadata": {},
     "output_type": "execute_result"
    }
   ],
   "source": [
    "#hide\n",
    "arr_states[-9] = 'Puducherry'\n",
    "arr_states[-10] = 'Odisha'\n",
    "arr_states[6] = 'Dadra and Nagar Haveli and Daman and Diu'\n",
    "arr_states = np.append(arr_states,np.array(['Chhattisgarh','Ladakh','Uttarakhand']))\n",
    "arr_states"
   ]
  },
  {
   "cell_type": "code",
   "execution_count": 5,
   "metadata": {
    "execution": {
     "iopub.execute_input": "2020-11-01T08:37:57.835930Z",
     "iopub.status.busy": "2020-11-01T08:37:57.835276Z",
     "iopub.status.idle": "2020-11-01T08:37:57.838704Z",
     "shell.execute_reply": "2020-11-01T08:37:57.838177Z"
    },
    "papermill": {
     "duration": 0.036487,
     "end_time": "2020-11-01T08:37:57.838841",
     "exception": false,
     "start_time": "2020-11-01T08:37:57.802354",
     "status": "completed"
    },
    "tags": []
   },
   "outputs": [],
   "source": [
    "#hide\n",
    "dates = []\n",
    "for i in arr_dates:\n",
    "    if i>='2020-07-01':\n",
    "        dates.append(i)\n",
    "dict = {'states':dates}\n",
    "for i in arr_states:\n",
    "    dict[i] = [0]*len(dates)\n",
    "dft_cases = pd.DataFrame(dict)\n",
    "dft_deaths = pd.DataFrame(dict)\n"
   ]
  },
  {
   "cell_type": "code",
   "execution_count": 6,
   "metadata": {
    "execution": {
     "iopub.execute_input": "2020-11-01T08:37:57.879385Z",
     "iopub.status.busy": "2020-11-01T08:37:57.878649Z",
     "iopub.status.idle": "2020-11-01T08:38:00.084123Z",
     "shell.execute_reply": "2020-11-01T08:38:00.083616Z"
    },
    "papermill": {
     "duration": 2.228175,
     "end_time": "2020-11-01T08:38:00.084264",
     "exception": false,
     "start_time": "2020-11-01T08:37:57.856089",
     "status": "completed"
    },
    "tags": []
   },
   "outputs": [],
   "source": [
    "#hide\n",
    "for i in range(len(dates)):\n",
    "    df1_deaths = df_deaths1.get_group(dates[i])\n",
    "    for j in range(len(df1_deaths.index)):\n",
    "        if df1_deaths.iloc[j,1] in arr_states:\n",
    "            dft_deaths.loc[i,df1_deaths.iloc[j,1]] = df1_deaths.iloc[j,2]\n",
    "dft_deaths = dft_deaths.set_index('states')"
   ]
  },
  {
   "cell_type": "code",
   "execution_count": 7,
   "metadata": {
    "execution": {
     "iopub.execute_input": "2020-11-01T08:38:00.124967Z",
     "iopub.status.busy": "2020-11-01T08:38:00.124309Z",
     "iopub.status.idle": "2020-11-01T08:38:02.344563Z",
     "shell.execute_reply": "2020-11-01T08:38:02.343568Z"
    },
    "papermill": {
     "duration": 2.243002,
     "end_time": "2020-11-01T08:38:02.344697",
     "exception": false,
     "start_time": "2020-11-01T08:38:00.101695",
     "status": "completed"
    },
    "tags": []
   },
   "outputs": [],
   "source": [
    "#hide\n",
    "for i in range(len(dates)):\n",
    "    df1_cases = df_cases1.get_group(dates[i])\n",
    "    for j in range(len(df1_cases.index)):\n",
    "        if df1_cases.iloc[j,1] in arr_states:\n",
    "            dft_cases.loc[i,df1_cases.iloc[j,1]] = df1_cases.iloc[j,2]\n",
    "dft_cases = dft_cases.set_index('states')"
   ]
  },
  {
   "cell_type": "code",
   "execution_count": 8,
   "metadata": {
    "execution": {
     "iopub.execute_input": "2020-11-01T08:38:02.436645Z",
     "iopub.status.busy": "2020-11-01T08:38:02.435847Z",
     "iopub.status.idle": "2020-11-01T08:38:02.438277Z",
     "shell.execute_reply": "2020-11-01T08:38:02.437704Z"
    },
    "papermill": {
     "duration": 0.076653,
     "end_time": "2020-11-01T08:38:02.438398",
     "exception": false,
     "start_time": "2020-11-01T08:38:02.361745",
     "status": "completed"
    },
    "tags": []
   },
   "outputs": [],
   "source": [
    "#hide\n",
    "dft_cases = dft_cases.T\n",
    "dft_deaths = dft_deaths.T\n",
    "dt_today = dates[-1]\n",
    "dt_yday = dates[-2]"
   ]
  },
  {
   "cell_type": "code",
   "execution_count": 9,
   "metadata": {
    "execution": {
     "iopub.execute_input": "2020-11-01T08:38:02.570577Z",
     "iopub.status.busy": "2020-11-01T08:38:02.569812Z",
     "iopub.status.idle": "2020-11-01T08:38:02.574166Z",
     "shell.execute_reply": "2020-11-01T08:38:02.574819Z"
    },
    "papermill": {
     "duration": 0.106362,
     "end_time": "2020-11-01T08:38:02.574976",
     "exception": false,
     "start_time": "2020-11-01T08:38:02.468614",
     "status": "completed"
    },
    "tags": []
   },
   "outputs": [],
   "source": [
    "#hide\n",
    "dft_cases = dft_cases.reset_index()\n",
    "dft_deaths = dft_deaths.reset_index()\n",
    "dft_cases = dft_cases.rename(columns = {'index':'state'})\n",
    "dft_deaths = dft_deaths.rename(columns = {'index':'state'})"
   ]
  },
  {
   "cell_type": "code",
   "execution_count": 10,
   "metadata": {
    "execution": {
     "iopub.execute_input": "2020-11-01T08:38:02.615615Z",
     "iopub.status.busy": "2020-11-01T08:38:02.614765Z",
     "iopub.status.idle": "2020-11-01T08:38:02.617277Z",
     "shell.execute_reply": "2020-11-01T08:38:02.616643Z"
    },
    "papermill": {
     "duration": 0.027684,
     "end_time": "2020-11-01T08:38:02.617398",
     "exception": false,
     "start_time": "2020-11-01T08:38:02.589714",
     "status": "completed"
    },
    "tags": []
   },
   "outputs": [],
   "source": [
    "#hide\n",
    "dfc_cases = dft_cases.groupby('state')[dt_today].sum()\n",
    "dfc_deaths = dft_deaths.groupby('state')[dt_today].sum()\n",
    "dfp_cases = dft_cases.groupby('state')[dt_yday].sum()\n",
    "dfp_deaths = dft_deaths.groupby('state')[dt_yday].sum()"
   ]
  },
  {
   "cell_type": "code",
   "execution_count": 11,
   "metadata": {
    "execution": {
     "iopub.execute_input": "2020-11-01T08:38:02.653503Z",
     "iopub.status.busy": "2020-11-01T08:38:02.652801Z",
     "iopub.status.idle": "2020-11-01T08:38:02.666047Z",
     "shell.execute_reply": "2020-11-01T08:38:02.666534Z"
    },
    "papermill": {
     "duration": 0.034019,
     "end_time": "2020-11-01T08:38:02.666665",
     "exception": false,
     "start_time": "2020-11-01T08:38:02.632646",
     "status": "completed"
    },
    "tags": []
   },
   "outputs": [
    {
     "data": {
      "text/html": [
       "<div>\n",
       "<style scoped>\n",
       "    .dataframe tbody tr th:only-of-type {\n",
       "        vertical-align: middle;\n",
       "    }\n",
       "\n",
       "    .dataframe tbody tr th {\n",
       "        vertical-align: top;\n",
       "    }\n",
       "\n",
       "    .dataframe thead th {\n",
       "        text-align: right;\n",
       "    }\n",
       "</style>\n",
       "<table border=\"1\" class=\"dataframe\">\n",
       "  <thead>\n",
       "    <tr style=\"text-align: right;\">\n",
       "      <th></th>\n",
       "      <th>states</th>\n",
       "      <th>Cases</th>\n",
       "      <th>Deaths</th>\n",
       "      <th>PCases</th>\n",
       "      <th>PDeaths</th>\n",
       "    </tr>\n",
       "  </thead>\n",
       "  <tbody>\n",
       "    <tr>\n",
       "      <th>0</th>\n",
       "      <td>Maharashtra</td>\n",
       "      <td>1678406</td>\n",
       "      <td>43911</td>\n",
       "      <td>1678406</td>\n",
       "      <td>43911</td>\n",
       "    </tr>\n",
       "    <tr>\n",
       "      <th>1</th>\n",
       "      <td>Karnataka</td>\n",
       "      <td>823412</td>\n",
       "      <td>11168</td>\n",
       "      <td>823412</td>\n",
       "      <td>11168</td>\n",
       "    </tr>\n",
       "    <tr>\n",
       "      <th>2</th>\n",
       "      <td>Andhra Pradesh</td>\n",
       "      <td>823348</td>\n",
       "      <td>6690</td>\n",
       "      <td>823348</td>\n",
       "      <td>6690</td>\n",
       "    </tr>\n",
       "    <tr>\n",
       "      <th>3</th>\n",
       "      <td>Tamil Nadu</td>\n",
       "      <td>724522</td>\n",
       "      <td>11122</td>\n",
       "      <td>724522</td>\n",
       "      <td>11122</td>\n",
       "    </tr>\n",
       "    <tr>\n",
       "      <th>4</th>\n",
       "      <td>Uttar Pradesh</td>\n",
       "      <td>481863</td>\n",
       "      <td>7025</td>\n",
       "      <td>481863</td>\n",
       "      <td>7025</td>\n",
       "    </tr>\n",
       "  </tbody>\n",
       "</table>\n",
       "</div>"
      ],
      "text/plain": [
       "           states    Cases  Deaths   PCases  PDeaths\n",
       "0     Maharashtra  1678406   43911  1678406    43911\n",
       "1       Karnataka   823412   11168   823412    11168\n",
       "2  Andhra Pradesh   823348    6690   823348     6690\n",
       "3      Tamil Nadu   724522   11122   724522    11122\n",
       "4   Uttar Pradesh   481863    7025   481863     7025"
      ]
     },
     "execution_count": 11,
     "metadata": {},
     "output_type": "execute_result"
    }
   ],
   "source": [
    "#hide\n",
    "df_table = pd.DataFrame({'states': dfc_cases.index, 'Cases': dfc_cases.values, 'Deaths': dfc_deaths.values, 'PCases': dfp_cases.values, 'PDeaths': dfp_deaths.values}).set_index('states')\n",
    "df_table = df_table.sort_values(by = ['Cases','Deaths'], ascending = [False, False])\n",
    "df_table = df_table.reset_index()\n",
    "df_table.head()"
   ]
  },
  {
   "cell_type": "code",
   "execution_count": 12,
   "metadata": {
    "execution": {
     "iopub.execute_input": "2020-11-01T08:38:02.705483Z",
     "iopub.status.busy": "2020-11-01T08:38:02.704909Z",
     "iopub.status.idle": "2020-11-01T08:38:02.713970Z",
     "shell.execute_reply": "2020-11-01T08:38:02.714456Z"
    },
    "papermill": {
     "duration": 0.030901,
     "end_time": "2020-11-01T08:38:02.714609",
     "exception": false,
     "start_time": "2020-11-01T08:38:02.683708",
     "status": "completed"
    },
    "tags": []
   },
   "outputs": [],
   "source": [
    "#hide\n",
    "for c in 'Cases, Deaths'.split(', '):\n",
    "    df_table[f'{c} (+)'] = (df_table[c] - df_table[f'P{c}']).clip(0)\n",
    "df_table['Fatality Rate'] = (100* df_table['Deaths']/ df_table['Cases']).round(2)"
   ]
  },
  {
   "cell_type": "code",
   "execution_count": 13,
   "metadata": {
    "execution": {
     "iopub.execute_input": "2020-11-01T08:38:02.758873Z",
     "iopub.status.busy": "2020-11-01T08:38:02.758308Z",
     "iopub.status.idle": "2020-11-01T08:38:02.761584Z",
     "shell.execute_reply": "2020-11-01T08:38:02.760794Z"
    },
    "papermill": {
     "duration": 0.029743,
     "end_time": "2020-11-01T08:38:02.761715",
     "exception": false,
     "start_time": "2020-11-01T08:38:02.731972",
     "status": "completed"
    },
    "tags": []
   },
   "outputs": [
    {
     "data": {
      "text/html": [
       "<div>\n",
       "<style scoped>\n",
       "    .dataframe tbody tr th:only-of-type {\n",
       "        vertical-align: middle;\n",
       "    }\n",
       "\n",
       "    .dataframe tbody tr th {\n",
       "        vertical-align: top;\n",
       "    }\n",
       "\n",
       "    .dataframe thead th {\n",
       "        text-align: right;\n",
       "    }\n",
       "</style>\n",
       "<table border=\"1\" class=\"dataframe\">\n",
       "  <thead>\n",
       "    <tr style=\"text-align: right;\">\n",
       "      <th></th>\n",
       "      <th>states</th>\n",
       "      <th>Cases</th>\n",
       "      <th>Deaths</th>\n",
       "      <th>PCases</th>\n",
       "      <th>PDeaths</th>\n",
       "      <th>Cases (+)</th>\n",
       "      <th>Deaths (+)</th>\n",
       "      <th>Fatality Rate</th>\n",
       "    </tr>\n",
       "  </thead>\n",
       "  <tbody>\n",
       "    <tr>\n",
       "      <th>0</th>\n",
       "      <td>Maharashtra</td>\n",
       "      <td>1678406</td>\n",
       "      <td>43911</td>\n",
       "      <td>1678406</td>\n",
       "      <td>43911</td>\n",
       "      <td>0</td>\n",
       "      <td>0</td>\n",
       "      <td>2.62</td>\n",
       "    </tr>\n",
       "    <tr>\n",
       "      <th>1</th>\n",
       "      <td>Karnataka</td>\n",
       "      <td>823412</td>\n",
       "      <td>11168</td>\n",
       "      <td>823412</td>\n",
       "      <td>11168</td>\n",
       "      <td>0</td>\n",
       "      <td>0</td>\n",
       "      <td>1.36</td>\n",
       "    </tr>\n",
       "    <tr>\n",
       "      <th>2</th>\n",
       "      <td>Andhra Pradesh</td>\n",
       "      <td>823348</td>\n",
       "      <td>6690</td>\n",
       "      <td>823348</td>\n",
       "      <td>6690</td>\n",
       "      <td>0</td>\n",
       "      <td>0</td>\n",
       "      <td>0.81</td>\n",
       "    </tr>\n",
       "    <tr>\n",
       "      <th>3</th>\n",
       "      <td>Tamil Nadu</td>\n",
       "      <td>724522</td>\n",
       "      <td>11122</td>\n",
       "      <td>724522</td>\n",
       "      <td>11122</td>\n",
       "      <td>0</td>\n",
       "      <td>0</td>\n",
       "      <td>1.54</td>\n",
       "    </tr>\n",
       "    <tr>\n",
       "      <th>4</th>\n",
       "      <td>Uttar Pradesh</td>\n",
       "      <td>481863</td>\n",
       "      <td>7025</td>\n",
       "      <td>481863</td>\n",
       "      <td>7025</td>\n",
       "      <td>0</td>\n",
       "      <td>0</td>\n",
       "      <td>1.46</td>\n",
       "    </tr>\n",
       "  </tbody>\n",
       "</table>\n",
       "</div>"
      ],
      "text/plain": [
       "           states    Cases  Deaths   PCases  PDeaths  Cases (+)  Deaths (+)  \\\n",
       "0     Maharashtra  1678406   43911  1678406    43911          0           0   \n",
       "1       Karnataka   823412   11168   823412    11168          0           0   \n",
       "2  Andhra Pradesh   823348    6690   823348     6690          0           0   \n",
       "3      Tamil Nadu   724522   11122   724522    11122          0           0   \n",
       "4   Uttar Pradesh   481863    7025   481863     7025          0           0   \n",
       "\n",
       "   Fatality Rate  \n",
       "0           2.62  \n",
       "1           1.36  \n",
       "2           0.81  \n",
       "3           1.54  \n",
       "4           1.46  "
      ]
     },
     "execution_count": 13,
     "metadata": {},
     "output_type": "execute_result"
    }
   ],
   "source": [
    "#hide\n",
    "df_table.head()"
   ]
  },
  {
   "cell_type": "code",
   "execution_count": 14,
   "metadata": {
    "execution": {
     "iopub.execute_input": "2020-11-01T08:38:02.801816Z",
     "iopub.status.busy": "2020-11-01T08:38:02.801239Z",
     "iopub.status.idle": "2020-11-01T08:38:02.820627Z",
     "shell.execute_reply": "2020-11-01T08:38:02.820101Z"
    },
    "papermill": {
     "duration": 0.040324,
     "end_time": "2020-11-01T08:38:02.820768",
     "exception": false,
     "start_time": "2020-11-01T08:38:02.780444",
     "status": "completed"
    },
    "tags": []
   },
   "outputs": [
    {
     "data": {
      "text/plain": [
       "{'updated': '2020-11-01',\n",
       " 'since': '2020-10-31',\n",
       " 'Cases': 8184605,\n",
       " 'PCases': 8182896,\n",
       " 'Deaths': 122160,\n",
       " 'PDeaths': 122149,\n",
       " 'Cases (+)': 1709,\n",
       " 'Deaths (+)': 11}"
      ]
     },
     "execution_count": 14,
     "metadata": {},
     "output_type": "execute_result"
    }
   ],
   "source": [
    "#hide\n",
    "summary = {'updated':dates[-1], 'since':dates[-2]}\n",
    "list_names = ['Cases', 'PCases', 'Deaths', 'PDeaths', 'Cases (+)', 'Deaths (+)']\n",
    "for name in list_names:\n",
    "    summary[name] = df_table.sum()[name]\n",
    "summary"
   ]
  },
  {
   "cell_type": "code",
   "execution_count": 15,
   "metadata": {
    "execution": {
     "iopub.execute_input": "2020-11-01T08:38:02.856158Z",
     "iopub.status.busy": "2020-11-01T08:38:02.855544Z",
     "iopub.status.idle": "2020-11-01T08:38:02.858206Z",
     "shell.execute_reply": "2020-11-01T08:38:02.857693Z"
    },
    "papermill": {
     "duration": 0.021409,
     "end_time": "2020-11-01T08:38:02.858313",
     "exception": false,
     "start_time": "2020-11-01T08:38:02.836904",
     "status": "completed"
    },
    "tags": []
   },
   "outputs": [],
   "source": [
    "#hide\n",
    "overview = '''\n",
    "<!-- #######  HTML!! #########-->\n",
    "<h1 style=\"color: #5e9ca0; text-align: center;\">India</h1>\n",
    "<p style=\"text-align: center;\">Last update: <strong>{update}</strong></p>\n",
    "<p style=\"text-align: center;\">Confirmed cases:</p>\n",
    "<p style=\"text-align: center;font-size:24px;\">{cases} (<span style=\"color: #ff0000;\">+{new}</span>)</p>\n",
    "<p style=\"text-align: center;\">Confirmed deaths:</p>\n",
    "<p style=\"text-align: center;font-size:24px;\">{deaths} (<span style=\"color: #ff0000;\">+{dnew}</span>)</p>\n",
    "'''"
   ]
  },
  {
   "cell_type": "code",
   "execution_count": 16,
   "metadata": {
    "execution": {
     "iopub.execute_input": "2020-11-01T08:38:02.895197Z",
     "iopub.status.busy": "2020-11-01T08:38:02.894440Z",
     "iopub.status.idle": "2020-11-01T08:38:02.897570Z",
     "shell.execute_reply": "2020-11-01T08:38:02.898004Z"
    },
    "papermill": {
     "duration": 0.025324,
     "end_time": "2020-11-01T08:38:02.898125",
     "exception": false,
     "start_time": "2020-11-01T08:38:02.872801",
     "status": "completed"
    },
    "tags": []
   },
   "outputs": [
    {
     "data": {
      "text/html": [
       "\n",
       "<!-- #######  HTML!! #########-->\n",
       "<h1 style=\"color: #5e9ca0; text-align: center;\">India</h1>\n",
       "<p style=\"text-align: center;\">Last update: <strong>2020-11-01</strong></p>\n",
       "<p style=\"text-align: center;\">Confirmed cases:</p>\n",
       "<p style=\"text-align: center;font-size:24px;\">8184605 (<span style=\"color: #ff0000;\">+1709</span>)</p>\n",
       "<p style=\"text-align: center;\">Confirmed deaths:</p>\n",
       "<p style=\"text-align: center;font-size:24px;\">122160 (<span style=\"color: #ff0000;\">+11</span>)</p>\n"
      ],
      "text/plain": [
       "<IPython.core.display.HTML object>"
      ]
     },
     "metadata": {},
     "output_type": "display_data"
    }
   ],
   "source": [
    "#hide_input\n",
    "update = summary['updated']\n",
    "cases = summary['Cases']\n",
    "new = summary['Cases (+)']\n",
    "deaths = summary['Deaths']\n",
    "dnew = summary['Deaths (+)']\n",
    "\n",
    "html = HTML(overview.format(update=update, cases=cases,new=new,deaths=deaths,dnew=dnew))\n",
    "\n",
    "display(html)"
   ]
  },
  {
   "cell_type": "code",
   "execution_count": 17,
   "metadata": {
    "execution": {
     "iopub.execute_input": "2020-11-01T08:38:02.935250Z",
     "iopub.status.busy": "2020-11-01T08:38:02.934693Z",
     "iopub.status.idle": "2020-11-01T08:38:02.941898Z",
     "shell.execute_reply": "2020-11-01T08:38:02.942410Z"
    },
    "papermill": {
     "duration": 0.029264,
     "end_time": "2020-11-01T08:38:02.942551",
     "exception": false,
     "start_time": "2020-11-01T08:38:02.913287",
     "status": "completed"
    },
    "tags": []
   },
   "outputs": [],
   "source": [
    "#hide\n",
    "dt_cols = list(dft_cases.columns[1:])\n",
    "dft_ct_new_cases = dft_cases.groupby('state')[dt_cols].sum().diff(axis=1).fillna(0).astype(int)\n",
    "dft_ct_new_cases.sort_values(by = dates[-1], ascending = False,inplace = True)"
   ]
  },
  {
   "cell_type": "code",
   "execution_count": 18,
   "metadata": {
    "execution": {
     "iopub.execute_input": "2020-11-01T08:38:02.997216Z",
     "iopub.status.busy": "2020-11-01T08:38:02.996556Z",
     "iopub.status.idle": "2020-11-01T08:38:03.000193Z",
     "shell.execute_reply": "2020-11-01T08:38:02.999708Z"
    },
    "papermill": {
     "duration": 0.036074,
     "end_time": "2020-11-01T08:38:03.000330",
     "exception": false,
     "start_time": "2020-11-01T08:38:02.964256",
     "status": "completed"
    },
    "tags": []
   },
   "outputs": [
    {
     "data": {
      "text/html": [
       "<div>\n",
       "<style scoped>\n",
       "    .dataframe tbody tr th:only-of-type {\n",
       "        vertical-align: middle;\n",
       "    }\n",
       "\n",
       "    .dataframe tbody tr th {\n",
       "        vertical-align: top;\n",
       "    }\n",
       "\n",
       "    .dataframe thead th {\n",
       "        text-align: right;\n",
       "    }\n",
       "</style>\n",
       "<table border=\"1\" class=\"dataframe\">\n",
       "  <thead>\n",
       "    <tr style=\"text-align: right;\">\n",
       "      <th>states</th>\n",
       "      <th>2020-07-01</th>\n",
       "      <th>2020-07-02</th>\n",
       "      <th>2020-07-03</th>\n",
       "      <th>2020-07-04</th>\n",
       "      <th>2020-07-05</th>\n",
       "      <th>2020-07-06</th>\n",
       "      <th>2020-07-07</th>\n",
       "      <th>2020-07-08</th>\n",
       "      <th>2020-07-09</th>\n",
       "      <th>2020-07-10</th>\n",
       "      <th>...</th>\n",
       "      <th>2020-10-23</th>\n",
       "      <th>2020-10-24</th>\n",
       "      <th>2020-10-25</th>\n",
       "      <th>2020-10-26</th>\n",
       "      <th>2020-10-27</th>\n",
       "      <th>2020-10-28</th>\n",
       "      <th>2020-10-29</th>\n",
       "      <th>2020-10-30</th>\n",
       "      <th>2020-10-31</th>\n",
       "      <th>2020-11-01</th>\n",
       "    </tr>\n",
       "    <tr>\n",
       "      <th>state</th>\n",
       "      <th></th>\n",
       "      <th></th>\n",
       "      <th></th>\n",
       "      <th></th>\n",
       "      <th></th>\n",
       "      <th></th>\n",
       "      <th></th>\n",
       "      <th></th>\n",
       "      <th></th>\n",
       "      <th></th>\n",
       "      <th></th>\n",
       "      <th></th>\n",
       "      <th></th>\n",
       "      <th></th>\n",
       "      <th></th>\n",
       "      <th></th>\n",
       "      <th></th>\n",
       "      <th></th>\n",
       "      <th></th>\n",
       "      <th></th>\n",
       "      <th></th>\n",
       "    </tr>\n",
       "  </thead>\n",
       "  <tbody>\n",
       "    <tr>\n",
       "      <th>Odisha</th>\n",
       "      <td>0</td>\n",
       "      <td>229</td>\n",
       "      <td>561</td>\n",
       "      <td>495</td>\n",
       "      <td>469</td>\n",
       "      <td>456</td>\n",
       "      <td>571</td>\n",
       "      <td>527</td>\n",
       "      <td>577</td>\n",
       "      <td>755</td>\n",
       "      <td>...</td>\n",
       "      <td>1793</td>\n",
       "      <td>1695</td>\n",
       "      <td>1633</td>\n",
       "      <td>1480</td>\n",
       "      <td>1247</td>\n",
       "      <td>1540</td>\n",
       "      <td>1617</td>\n",
       "      <td>1547</td>\n",
       "      <td>1470</td>\n",
       "      <td>1709</td>\n",
       "    </tr>\n",
       "    <tr>\n",
       "      <th>Andaman and Nicobar Islands</th>\n",
       "      <td>0</td>\n",
       "      <td>9</td>\n",
       "      <td>7</td>\n",
       "      <td>3</td>\n",
       "      <td>6</td>\n",
       "      <td>16</td>\n",
       "      <td>6</td>\n",
       "      <td>2</td>\n",
       "      <td>7</td>\n",
       "      <td>0</td>\n",
       "      <td>...</td>\n",
       "      <td>23</td>\n",
       "      <td>18</td>\n",
       "      <td>20</td>\n",
       "      <td>8</td>\n",
       "      <td>21</td>\n",
       "      <td>15</td>\n",
       "      <td>16</td>\n",
       "      <td>12</td>\n",
       "      <td>15</td>\n",
       "      <td>0</td>\n",
       "    </tr>\n",
       "    <tr>\n",
       "      <th>Andhra Pradesh</th>\n",
       "      <td>0</td>\n",
       "      <td>845</td>\n",
       "      <td>837</td>\n",
       "      <td>765</td>\n",
       "      <td>998</td>\n",
       "      <td>1322</td>\n",
       "      <td>1178</td>\n",
       "      <td>1062</td>\n",
       "      <td>1555</td>\n",
       "      <td>1608</td>\n",
       "      <td>...</td>\n",
       "      <td>3765</td>\n",
       "      <td>3342</td>\n",
       "      <td>2997</td>\n",
       "      <td>1901</td>\n",
       "      <td>2901</td>\n",
       "      <td>2949</td>\n",
       "      <td>2905</td>\n",
       "      <td>2886</td>\n",
       "      <td>2783</td>\n",
       "      <td>0</td>\n",
       "    </tr>\n",
       "    <tr>\n",
       "      <th>Maharashtra</th>\n",
       "      <td>0</td>\n",
       "      <td>6328</td>\n",
       "      <td>6364</td>\n",
       "      <td>7074</td>\n",
       "      <td>6555</td>\n",
       "      <td>5368</td>\n",
       "      <td>5134</td>\n",
       "      <td>6603</td>\n",
       "      <td>6875</td>\n",
       "      <td>7862</td>\n",
       "      <td>...</td>\n",
       "      <td>7347</td>\n",
       "      <td>6417</td>\n",
       "      <td>6059</td>\n",
       "      <td>3645</td>\n",
       "      <td>5363</td>\n",
       "      <td>6738</td>\n",
       "      <td>5902</td>\n",
       "      <td>6190</td>\n",
       "      <td>5548</td>\n",
       "      <td>0</td>\n",
       "    </tr>\n",
       "    <tr>\n",
       "      <th>Manipur</th>\n",
       "      <td>0</td>\n",
       "      <td>19</td>\n",
       "      <td>37</td>\n",
       "      <td>9</td>\n",
       "      <td>41</td>\n",
       "      <td>24</td>\n",
       "      <td>40</td>\n",
       "      <td>5</td>\n",
       "      <td>15</td>\n",
       "      <td>132</td>\n",
       "      <td>...</td>\n",
       "      <td>156</td>\n",
       "      <td>245</td>\n",
       "      <td>138</td>\n",
       "      <td>264</td>\n",
       "      <td>180</td>\n",
       "      <td>205</td>\n",
       "      <td>242</td>\n",
       "      <td>221</td>\n",
       "      <td>230</td>\n",
       "      <td>0</td>\n",
       "    </tr>\n",
       "  </tbody>\n",
       "</table>\n",
       "<p>5 rows × 124 columns</p>\n",
       "</div>"
      ],
      "text/plain": [
       "states                       2020-07-01  2020-07-02  2020-07-03  2020-07-04  \\\n",
       "state                                                                         \n",
       "Odisha                                0         229         561         495   \n",
       "Andaman and Nicobar Islands           0           9           7           3   \n",
       "Andhra Pradesh                        0         845         837         765   \n",
       "Maharashtra                           0        6328        6364        7074   \n",
       "Manipur                               0          19          37           9   \n",
       "\n",
       "states                       2020-07-05  2020-07-06  2020-07-07  2020-07-08  \\\n",
       "state                                                                         \n",
       "Odisha                              469         456         571         527   \n",
       "Andaman and Nicobar Islands           6          16           6           2   \n",
       "Andhra Pradesh                      998        1322        1178        1062   \n",
       "Maharashtra                        6555        5368        5134        6603   \n",
       "Manipur                              41          24          40           5   \n",
       "\n",
       "states                       2020-07-09  2020-07-10  ...  2020-10-23  \\\n",
       "state                                                ...               \n",
       "Odisha                              577         755  ...        1793   \n",
       "Andaman and Nicobar Islands           7           0  ...          23   \n",
       "Andhra Pradesh                     1555        1608  ...        3765   \n",
       "Maharashtra                        6875        7862  ...        7347   \n",
       "Manipur                              15         132  ...         156   \n",
       "\n",
       "states                       2020-10-24  2020-10-25  2020-10-26  2020-10-27  \\\n",
       "state                                                                         \n",
       "Odisha                             1695        1633        1480        1247   \n",
       "Andaman and Nicobar Islands          18          20           8          21   \n",
       "Andhra Pradesh                     3342        2997        1901        2901   \n",
       "Maharashtra                        6417        6059        3645        5363   \n",
       "Manipur                             245         138         264         180   \n",
       "\n",
       "states                       2020-10-28  2020-10-29  2020-10-30  2020-10-31  \\\n",
       "state                                                                         \n",
       "Odisha                             1540        1617        1547        1470   \n",
       "Andaman and Nicobar Islands          15          16          12          15   \n",
       "Andhra Pradesh                     2949        2905        2886        2783   \n",
       "Maharashtra                        6738        5902        6190        5548   \n",
       "Manipur                             205         242         221         230   \n",
       "\n",
       "states                       2020-11-01  \n",
       "state                                    \n",
       "Odisha                             1709  \n",
       "Andaman and Nicobar Islands           0  \n",
       "Andhra Pradesh                        0  \n",
       "Maharashtra                           0  \n",
       "Manipur                               0  \n",
       "\n",
       "[5 rows x 124 columns]"
      ]
     },
     "execution_count": 18,
     "metadata": {},
     "output_type": "execute_result"
    }
   ],
   "source": [
    "#hide\n",
    "dft_ct_new_cases.head()"
   ]
  },
  {
   "cell_type": "code",
   "execution_count": 19,
   "metadata": {
    "execution": {
     "iopub.execute_input": "2020-11-01T08:38:03.046569Z",
     "iopub.status.busy": "2020-11-01T08:38:03.045954Z",
     "iopub.status.idle": "2020-11-01T08:38:09.014869Z",
     "shell.execute_reply": "2020-11-01T08:38:09.015344Z"
    },
    "papermill": {
     "duration": 5.997039,
     "end_time": "2020-11-01T08:38:09.015487",
     "exception": false,
     "start_time": "2020-11-01T08:38:03.018448",
     "status": "completed"
    },
    "tags": []
   },
   "outputs": [
    {
     "data": {
      "image/png": "[encoded data removed]",
      "text/plain": [
       "<Figure size 1296x2016 with 11 Axes>"
      ]
     },
     "metadata": {
      "needs_background": "light"
     },
     "output_type": "display_data"
    }
   ],
   "source": [
    "#hide_input\n",
    "df = dft_ct_new_cases.copy()\n",
    "df.loc['Total'] = df.sum()\n",
    "n = 5\n",
    "ax = []\n",
    "fig = plt.figure(figsize = (18,28))\n",
    "gs = fig.add_gridspec(n+2, 5)\n",
    "# gs = fig.add_gridspec(2, 3)\n",
    "ax1 = fig.add_subplot(gs[0, :])\n",
    "ef = df.loc['Total'].rename_axis('date').reset_index()\n",
    "ef['date'] = ef['date'].astype('datetime64[ns]')\n",
    "ax1.bar(ef.date,ef.Total,alpha=0.3,color='#007acc')\n",
    "ax1.plot(ef.date,ef.Total , marker=\"o\", color='#007acc')\n",
    "ax1.xaxis.set_major_locator(mdates.WeekdayLocator())\n",
    "ax1.xaxis.set_major_formatter(mdates.DateFormatter('%b %d'))\n",
    "ax1.text(0.02, 0.5,'India daily case count', transform = ax1.transAxes, fontsize=25);\n",
    "ax1.spines['right'].set_visible(False)\n",
    "ax1.spines['top'].set_visible(False)\n",
    "\n",
    "ax2 = fig.add_subplot(gs[1,0])\n",
    "ef = df.loc['Maharashtra'].rename_axis('date').reset_index()\n",
    "ef['date'] = ef['date'].astype('datetime64[ns]')\n",
    "\n",
    "ax2.bar(ef.date, ef.Maharashtra,color = '#007acc',alpha=0.5)\n",
    "ax2.xaxis.set_major_locator(mdates.WeekdayLocator())\n",
    "ax2.xaxis.set_major_formatter(mdates.DateFormatter('%b %d'))\n",
    "ax2.set_xticks(ax2.get_xticks()[::3])\n",
    "maxyval = ef.Maharashtra.max()\n",
    "ax2.set_ylim([0,maxyval])\n",
    "ax2.text(0.05, 0.9,'Maharashtra', transform = ax2.transAxes, fontsize=20);\n",
    "ax2.spines['right'].set_visible(False)\n",
    "ax2.spines['top'].set_visible(False)\n",
    "\n",
    "\n",
    "ax3 = fig.add_subplot(gs[1,1])\n",
    "ef = df.loc['Tamil Nadu'].rename_axis('date').reset_index()\n",
    "ef['date'] = ef['date'].astype('datetime64[ns]')\n",
    "ax3.bar(ef.date, ef['Tamil Nadu'],color = '#007acc',alpha=0.5,)\n",
    "ax3.xaxis.set_major_locator(mdates.WeekdayLocator())\n",
    "ax3.xaxis.set_major_formatter(mdates.DateFormatter('%b %d'))\n",
    "ax3.set_xticks(ax3.get_xticks()[::3])\n",
    "ax3.text(0.05, 0.9,'Tamil Nadu', transform = ax3.transAxes, fontsize=20);\n",
    "ax3.spines['right'].set_visible(False)\n",
    "ax3.spines['top'].set_visible(False)\n",
    "\n",
    "ax5 = fig.add_subplot(gs[1,3])\n",
    "ef = df.loc['Telangana'].rename_axis('date').reset_index()\n",
    "ef['date'] = ef['date'].astype('datetime64[ns]')\n",
    "ax5.bar(ef.date, ef['Telangana'],color = '#007acc',alpha=0.5,)\n",
    "ax5.xaxis.set_major_locator(mdates.WeekdayLocator())\n",
    "ax5.xaxis.set_major_formatter(mdates.DateFormatter('%b %d'))\n",
    "ax5.set_xticks(ax5.get_xticks()[::3])\n",
    "ax5.text(0.05, 0.9,'Telangana', transform = ax5.transAxes, fontsize=20);\n",
    "ax5.spines['right'].set_visible(False)\n",
    "ax5.spines['top'].set_visible(False)\n",
    "\n",
    "ax6 = fig.add_subplot(gs[1,4])\n",
    "ef = df.loc['Andhra Pradesh'].rename_axis('date').reset_index()\n",
    "ef['date'] = ef['date'].astype('datetime64[ns]')\n",
    "ax6.bar(ef.date, ef['Andhra Pradesh'],color = '#007acc',alpha=0.5,)\n",
    "ax6.xaxis.set_major_locator(mdates.WeekdayLocator())\n",
    "ax6.xaxis.set_major_formatter(mdates.DateFormatter('%b %d'))\n",
    "ax6.set_xticks(ax6.get_xticks()[::3])\n",
    "ax6.text(0.05, 1,'Andhra Pradesh', transform = ax6.transAxes, fontsize=20);\n",
    "ax6.spines['right'].set_visible(False)\n",
    "ax6.spines['top'].set_visible(False)\n",
    "\n",
    "ax4 = fig.add_subplot(gs[1,2])\n",
    "ef = df.loc['Delhi'].rename_axis('date').reset_index()\n",
    "ef['date'] = ef['date'].astype('datetime64[ns]')\n",
    "ax4.bar(ef.date, ef.Delhi,color = '#007acc',alpha=0.5)\n",
    "ax4.set_xticks([])\n",
    "ax4.xaxis.set_major_locator(mdates.WeekdayLocator())\n",
    "ax4.xaxis.set_major_formatter(mdates.DateFormatter('%b %d'))\n",
    "ax4.set_xticks(ax4.get_xticks()[::3])\n",
    "ax4.spines['right'].set_visible(False)\n",
    "ax4.spines['top'].set_visible(False)\n",
    "\n",
    "ax4.text(0.05, 1,'Delhi', transform = ax4.transAxes, fontsize=20)\n",
    "\n",
    "for i in range(n):\n",
    "    \n",
    "    ax.append(fig.add_subplot(gs[i+2,:]))\n",
    "    ef = df.iloc[i+3].rename_axis('date').reset_index()\n",
    "    ef['date'] = ef['date'].astype('datetime64[ns]')\n",
    "    ax[i].bar(ef.date,ef.iloc[:,-1],color = '#007acc',alpha=0.3)\n",
    "    ax[i].plot(ef.date,ef.iloc[:,-1],marker='o',color='#007acc')\n",
    "    ax[i].text(0.02,0.5,f'{ef.columns.values[-1]}',transform = ax[i].transAxes, fontsize = 20);\n",
    "    ax[i].xaxis.set_major_locator(mdates.WeekdayLocator())\n",
    "    ax[i].xaxis.set_major_formatter(mdates.DateFormatter('%b %d'))\n",
    "    ax[i].set_ylim([0,7000])\n",
    "    ax[i].spines['right'].set_visible(False)\n",
    "    ax[i].spines['top'].set_visible(False)\n",
    "plt.tight_layout()\n"
   ]
  },
  {
   "cell_type": "code",
   "execution_count": 20,
   "metadata": {
    "execution": {
     "iopub.execute_input": "2020-11-01T08:38:09.063652Z",
     "iopub.status.busy": "2020-11-01T08:38:09.063064Z",
     "iopub.status.idle": "2020-11-01T08:38:09.065287Z",
     "shell.execute_reply": "2020-11-01T08:38:09.065870Z"
    },
    "papermill": {
     "duration": 0.030238,
     "end_time": "2020-11-01T08:38:09.066032",
     "exception": false,
     "start_time": "2020-11-01T08:38:09.035794",
     "status": "completed"
    },
    "tags": []
   },
   "outputs": [
    {
     "name": "stdout",
     "output_type": "stream",
     "text": [
      "                                   states    Cases  Deaths   PCases  PDeaths  Cases (+)  Deaths (+)  Fatality Rate\n",
      "                              Maharashtra  1678406   43911  1678406    43911          0           0           2.62\n",
      "                                Karnataka   823412   11168   823412    11168          0           0           1.36\n",
      "                           Andhra Pradesh   823348    6690   823348     6690          0           0           0.81\n",
      "                               Tamil Nadu   724522   11122   724522    11122          0           0           1.54\n",
      "                            Uttar Pradesh   481863    7025   481863     7025          0           0           1.46\n",
      "                                   Kerala   433106    1485   433106     1485          0           0           0.34\n",
      "                                    Delhi   386706    6511   386706     6511          0           0           1.68\n",
      "                              West Bengal   373664    6841   373664     6841          0           0           1.83\n",
      "                                   Odisha   291825    1384   290116     1373       1709          11           0.47\n",
      "                                Telangana   238632    1336   238632     1336          0           0           0.56\n",
      "                                    Bihar   216764    1090   216764     1090          0           0           0.50\n",
      "                                    Assam   206351     930   206351      930          0           0           0.45\n",
      "                                Rajasthan   196993    1907   196993     1907          0           0           0.97\n",
      "                             Chhattisgarh   187270    2101   187270     2101          0           0           1.12\n",
      "                                  Gujarat   172944    3719   172944     3719          0           0           2.15\n",
      "                           Madhya Pradesh   171359    2951   171359     2951          0           0           1.72\n",
      "                                  Haryana   166712    1787   166712     1787          0           0           1.07\n",
      "                                   Punjab   133658    4203   133658     4203          0           0           3.14\n",
      "                                Jharkhand   101761     884   101761      884          0           0           0.87\n",
      "                        Jammu and Kashmir    94785    1478    94785     1478          0           0           1.56\n",
      "                              Uttarakhand    62328    1023    62328     1023          0           0           1.64\n",
      "                                      Goa    43626     604    43626      604          0           0           1.38\n",
      "                               Puducherry    35013     592    35013      592          0           0           1.69\n",
      "                                  Tripura    30714     343    30714      343          0           0           1.12\n",
      "                         Himachal Pradesh    22059     312    22059      312          0           0           1.41\n",
      "                                  Manipur    18502     168    18502      168          0           0           0.91\n",
      "                        Arunachal Pradesh    14852      37    14852       37          0           0           0.25\n",
      "                               Chandigarh    14418     226    14418      226          0           0           1.57\n",
      "                                Meghalaya     9452      88     9452       88          0           0           0.93\n",
      "                                 Nagaland     9047      39     9047       39          0           0           0.43\n",
      "                                   Ladakh     6270      75     6270       75          0           0           1.20\n",
      "              Andaman and Nicobar Islands     4332      59     4332       59          0           0           1.36\n",
      "                                   Sikkim     3940      68     3940       68          0           0           1.73\n",
      " Dadra and Nagar Haveli and Daman and Diu     3249       2     3249        2          0           0           0.06\n",
      "                                  Mizoram     2722       1     2722        1          0           0           0.04\n",
      "                              Lakshadweep        0       0        0        0          0           0            NaN\n"
     ]
    }
   ],
   "source": [
    "#hide_input\n",
    "print(df_table.to_string(index=False))"
   ]
  },
  {
   "cell_type": "code",
   "execution_count": null,
   "metadata": {
    "papermill": {
     "duration": 0.020511,
     "end_time": "2020-11-01T08:38:09.106491",
     "exception": false,
     "start_time": "2020-11-01T08:38:09.085980",
     "status": "completed"
    },
    "tags": []
   },
   "outputs": [],
   "source": []
  },
  {
   "cell_type": "code",
   "execution_count": null,
   "metadata": {
    "papermill": {
     "duration": 0.020616,
     "end_time": "2020-11-01T08:38:09.147321",
     "exception": false,
     "start_time": "2020-11-01T08:38:09.126705",
     "status": "completed"
    },
    "tags": []
   },
   "outputs": [],
   "source": []
  }
 ],
 "metadata": {
  "kernelspec": {
   "display_name": "Python 3",
   "language": "python",
   "name": "python3"
  },
  "language_info": {
   "codemirror_mode": {
    "name": "ipython",
    "version": 3
   },
   "file_extension": ".py",
   "mimetype": "text/x-python",
   "name": "python",
   "nbconvert_exporter": "python",
   "pygments_lexer": "ipython3",
   "version": "3.6.12"
  },
  "papermill": {
   "duration": 13.86056,
   "end_time": "2020-11-01T08:38:09.579775",
   "environment_variables": {},
   "exception": null,
   "input_path": "latest.ipynb",
   "output_path": "latest.ipynb",
   "parameters": {},
   "start_time": "2020-11-01T08:37:55.719215",
   "version": "2.1.2"
  }
 },
 "nbformat": 4,
 "nbformat_minor": 4
}