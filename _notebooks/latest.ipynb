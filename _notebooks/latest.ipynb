{
 "cells": [
  {
   "cell_type": "markdown",
   "metadata": {
    "papermill": {
     "duration": 0.02189,
     "end_time": "2020-10-07T12:54:02.241781",
     "exception": false,
     "start_time": "2020-10-07T12:54:02.219891",
     "status": "completed"
    },
    "tags": []
   },
   "source": [
    "# Latest COVID-19 India Matplotlib Overview"
   ]
  },
  {
   "cell_type": "code",
   "execution_count": 1,
   "metadata": {
    "execution": {
     "iopub.execute_input": "2020-10-07T12:54:02.281936Z",
     "iopub.status.busy": "2020-10-07T12:54:02.281295Z",
     "iopub.status.idle": "2020-10-07T12:54:02.893839Z",
     "shell.execute_reply": "2020-10-07T12:54:02.893173Z"
    },
    "papermill": {
     "duration": 0.635766,
     "end_time": "2020-10-07T12:54:02.893992",
     "exception": false,
     "start_time": "2020-10-07T12:54:02.258226",
     "status": "completed"
    },
    "tags": []
   },
   "outputs": [],
   "source": [
    "#hide\n",
    "import pandas as pd\n",
    "import numpy as np\n",
    "import requests\n",
    "import json\n",
    "import matplotlib.pyplot as plt\n",
    "import matplotlib.dates as mdates\n",
    "import matplotlib as mpl\n",
    "from IPython.core.display import display,HTML\n",
    "%matplotlib inline\n",
    "from datetime import date"
   ]
  },
  {
   "cell_type": "code",
   "execution_count": 2,
   "metadata": {
    "execution": {
     "iopub.execute_input": "2020-10-07T12:54:02.936247Z",
     "iopub.status.busy": "2020-10-07T12:54:02.935577Z",
     "iopub.status.idle": "2020-10-07T12:54:03.083401Z",
     "shell.execute_reply": "2020-10-07T12:54:03.083911Z"
    },
    "papermill": {
     "duration": 0.174335,
     "end_time": "2020-10-07T12:54:03.084086",
     "exception": false,
     "start_time": "2020-10-07T12:54:02.909751",
     "status": "completed"
    },
    "tags": []
   },
   "outputs": [],
   "source": [
    "#hide\n",
    "df  = pd.read_csv('https://api.covid19india.org/csv/latest/states.csv')\n",
    "df = df[['Date','State','Confirmed','Deceased']]\n",
    "df = df.rename(columns={'Confirmed':'Cases', \"Deceased\":'Deaths'})\n",
    "df_cases = df[[\"Date\",'State','Cases']]\n",
    "df_deaths = df[['Date','State','Deaths']]\n",
    "df_cases1 = df_cases.groupby('Date')\n",
    "df_deaths1= df_deaths.groupby('Date')"
   ]
  },
  {
   "cell_type": "code",
   "execution_count": 3,
   "metadata": {
    "execution": {
     "iopub.execute_input": "2020-10-07T12:54:03.121251Z",
     "iopub.status.busy": "2020-10-07T12:54:03.120629Z",
     "iopub.status.idle": "2020-10-07T12:54:03.138676Z",
     "shell.execute_reply": "2020-10-07T12:54:03.138176Z"
    },
    "papermill": {
     "duration": 0.038901,
     "end_time": "2020-10-07T12:54:03.138812",
     "exception": false,
     "start_time": "2020-10-07T12:54:03.099911",
     "status": "completed"
    },
    "tags": []
   },
   "outputs": [],
   "source": [
    "#hide\n",
    "df_snap = pd.read_csv('data/SnapshotCases-28-July.csv')\n",
    "arr_states = df_snap['states'].unique()\n",
    "arr_dates = df['Date'].unique()\n",
    "df_snap = df_snap.set_index('states')"
   ]
  },
  {
   "cell_type": "code",
   "execution_count": 4,
   "metadata": {
    "execution": {
     "iopub.execute_input": "2020-10-07T12:54:03.181290Z",
     "iopub.status.busy": "2020-10-07T12:54:03.180494Z",
     "iopub.status.idle": "2020-10-07T12:54:03.183490Z",
     "shell.execute_reply": "2020-10-07T12:54:03.184102Z"
    },
    "papermill": {
     "duration": 0.029952,
     "end_time": "2020-10-07T12:54:03.184275",
     "exception": false,
     "start_time": "2020-10-07T12:54:03.154323",
     "status": "completed"
    },
    "tags": []
   },
   "outputs": [
    {
     "data": {
      "text/plain": [
       "array(['Andaman and Nicobar Islands', 'Andhra Pradesh',\n",
       "       'Arunachal Pradesh', 'Assam', 'Bihar', 'Chandigarh',\n",
       "       'Dadra and Nagar Haveli and Daman and Diu', 'Delhi', 'Goa',\n",
       "       'Gujarat', 'Haryana', 'Himachal Pradesh', 'Jammu and Kashmir',\n",
       "       'Jharkhand', 'Karnataka', 'Kerala', 'Lakshadweep',\n",
       "       'Madhya Pradesh', 'Maharashtra', 'Manipur', 'Meghalaya', 'Mizoram',\n",
       "       'Nagaland', 'Odisha', 'Puducherry', 'Punjab', 'Rajasthan',\n",
       "       'Sikkim', 'Tamil Nadu', 'Telangana', 'Tripura', 'Uttar Pradesh',\n",
       "       'West Bengal', 'Chhattisgarh', 'Ladakh', 'Uttarakhand'],\n",
       "      dtype=object)"
      ]
     },
     "execution_count": 4,
     "metadata": {},
     "output_type": "execute_result"
    }
   ],
   "source": [
    "#hide\n",
    "arr_states[-9] = 'Puducherry'\n",
    "arr_states[-10] = 'Odisha'\n",
    "arr_states[6] = 'Dadra and Nagar Haveli and Daman and Diu'\n",
    "arr_states = np.append(arr_states,np.array(['Chhattisgarh','Ladakh','Uttarakhand']))\n",
    "arr_states"
   ]
  },
  {
   "cell_type": "code",
   "execution_count": 5,
   "metadata": {
    "execution": {
     "iopub.execute_input": "2020-10-07T12:54:03.235611Z",
     "iopub.status.busy": "2020-10-07T12:54:03.234978Z",
     "iopub.status.idle": "2020-10-07T12:54:03.242470Z",
     "shell.execute_reply": "2020-10-07T12:54:03.241947Z"
    },
    "papermill": {
     "duration": 0.041191,
     "end_time": "2020-10-07T12:54:03.242602",
     "exception": false,
     "start_time": "2020-10-07T12:54:03.201411",
     "status": "completed"
    },
    "tags": []
   },
   "outputs": [],
   "source": [
    "#hide\n",
    "dates = []\n",
    "for i in arr_dates:\n",
    "    if i>='2020-07-01':\n",
    "        dates.append(i)\n",
    "dict = {'states':dates}\n",
    "for i in arr_states:\n",
    "    dict[i] = [0]*len(dates)\n",
    "dft_cases = pd.DataFrame(dict)\n",
    "dft_deaths = pd.DataFrame(dict)\n"
   ]
  },
  {
   "cell_type": "code",
   "execution_count": 6,
   "metadata": {
    "execution": {
     "iopub.execute_input": "2020-10-07T12:54:03.282107Z",
     "iopub.status.busy": "2020-10-07T12:54:03.281489Z",
     "iopub.status.idle": "2020-10-07T12:54:04.682230Z",
     "shell.execute_reply": "2020-10-07T12:54:04.681090Z"
    },
    "papermill": {
     "duration": 1.42375,
     "end_time": "2020-10-07T12:54:04.682394",
     "exception": false,
     "start_time": "2020-10-07T12:54:03.258644",
     "status": "completed"
    },
    "tags": []
   },
   "outputs": [],
   "source": [
    "#hide\n",
    "for i in range(len(dates)):\n",
    "    df1_deaths = df_deaths1.get_group(dates[i])\n",
    "    for j in range(len(df1_deaths.index)):\n",
    "        if df1_deaths.iloc[j,1] in arr_states:\n",
    "            dft_deaths.loc[i,df1_deaths.iloc[j,1]] = df1_deaths.iloc[j,2]\n",
    "dft_deaths = dft_deaths.set_index('states')"
   ]
  },
  {
   "cell_type": "code",
   "execution_count": 7,
   "metadata": {
    "execution": {
     "iopub.execute_input": "2020-10-07T12:54:04.722525Z",
     "iopub.status.busy": "2020-10-07T12:54:04.721664Z",
     "iopub.status.idle": "2020-10-07T12:54:06.106475Z",
     "shell.execute_reply": "2020-10-07T12:54:06.105469Z"
    },
    "papermill": {
     "duration": 1.407948,
     "end_time": "2020-10-07T12:54:06.106632",
     "exception": false,
     "start_time": "2020-10-07T12:54:04.698684",
     "status": "completed"
    },
    "tags": []
   },
   "outputs": [],
   "source": [
    "#hide\n",
    "for i in range(len(dates)):\n",
    "    df1_cases = df_cases1.get_group(dates[i])\n",
    "    for j in range(len(df1_cases.index)):\n",
    "        if df1_cases.iloc[j,1] in arr_states:\n",
    "            dft_cases.loc[i,df1_cases.iloc[j,1]] = df1_cases.iloc[j,2]\n",
    "dft_cases = dft_cases.set_index('states')"
   ]
  },
  {
   "cell_type": "code",
   "execution_count": 8,
   "metadata": {
    "execution": {
     "iopub.execute_input": "2020-10-07T12:54:06.145480Z",
     "iopub.status.busy": "2020-10-07T12:54:06.144360Z",
     "iopub.status.idle": "2020-10-07T12:54:06.146545Z",
     "shell.execute_reply": "2020-10-07T12:54:06.147348Z"
    },
    "papermill": {
     "duration": 0.02479,
     "end_time": "2020-10-07T12:54:06.147577",
     "exception": false,
     "start_time": "2020-10-07T12:54:06.122787",
     "status": "completed"
    },
    "tags": []
   },
   "outputs": [],
   "source": [
    "#hide\n",
    "dft_cases = dft_cases.T\n",
    "dft_deaths = dft_deaths.T\n",
    "dt_today = dates[-1]\n",
    "dt_yday = dates[-2]"
   ]
  },
  {
   "cell_type": "code",
   "execution_count": 9,
   "metadata": {
    "execution": {
     "iopub.execute_input": "2020-10-07T12:54:06.191578Z",
     "iopub.status.busy": "2020-10-07T12:54:06.190974Z",
     "iopub.status.idle": "2020-10-07T12:54:06.195064Z",
     "shell.execute_reply": "2020-10-07T12:54:06.195579Z"
    },
    "papermill": {
     "duration": 0.029705,
     "end_time": "2020-10-07T12:54:06.195727",
     "exception": false,
     "start_time": "2020-10-07T12:54:06.166022",
     "status": "completed"
    },
    "tags": []
   },
   "outputs": [],
   "source": [
    "#hide\n",
    "dft_cases = dft_cases.reset_index()\n",
    "dft_deaths = dft_deaths.reset_index()\n",
    "dft_cases = dft_cases.rename(columns = {'index':'state'})\n",
    "dft_deaths = dft_deaths.rename(columns = {'index':'state'})"
   ]
  },
  {
   "cell_type": "code",
   "execution_count": 10,
   "metadata": {
    "execution": {
     "iopub.execute_input": "2020-10-07T12:54:06.239909Z",
     "iopub.status.busy": "2020-10-07T12:54:06.239294Z",
     "iopub.status.idle": "2020-10-07T12:54:06.242536Z",
     "shell.execute_reply": "2020-10-07T12:54:06.243021Z"
    },
    "papermill": {
     "duration": 0.030816,
     "end_time": "2020-10-07T12:54:06.243168",
     "exception": false,
     "start_time": "2020-10-07T12:54:06.212352",
     "status": "completed"
    },
    "tags": []
   },
   "outputs": [],
   "source": [
    "#hide\n",
    "dfc_cases = dft_cases.groupby('state')[dt_today].sum()\n",
    "dfc_deaths = dft_deaths.groupby('state')[dt_today].sum()\n",
    "dfp_cases = dft_cases.groupby('state')[dt_yday].sum()\n",
    "dfp_deaths = dft_deaths.groupby('state')[dt_yday].sum()"
   ]
  },
  {
   "cell_type": "code",
   "execution_count": 11,
   "metadata": {
    "execution": {
     "iopub.execute_input": "2020-10-07T12:54:06.296264Z",
     "iopub.status.busy": "2020-10-07T12:54:06.287275Z",
     "iopub.status.idle": "2020-10-07T12:54:06.302843Z",
     "shell.execute_reply": "2020-10-07T12:54:06.303346Z"
    },
    "papermill": {
     "duration": 0.043364,
     "end_time": "2020-10-07T12:54:06.303506",
     "exception": false,
     "start_time": "2020-10-07T12:54:06.260142",
     "status": "completed"
    },
    "tags": []
   },
   "outputs": [
    {
     "data": {
      "text/html": [
       "<div>\n",
       "<style scoped>\n",
       "    .dataframe tbody tr th:only-of-type {\n",
       "        vertical-align: middle;\n",
       "    }\n",
       "\n",
       "    .dataframe tbody tr th {\n",
       "        vertical-align: top;\n",
       "    }\n",
       "\n",
       "    .dataframe thead th {\n",
       "        text-align: right;\n",
       "    }\n",
       "</style>\n",
       "<table border=\"1\" class=\"dataframe\">\n",
       "  <thead>\n",
       "    <tr style=\"text-align: right;\">\n",
       "      <th></th>\n",
       "      <th>states</th>\n",
       "      <th>Cases</th>\n",
       "      <th>Deaths</th>\n",
       "      <th>PCases</th>\n",
       "      <th>PDeaths</th>\n",
       "    </tr>\n",
       "  </thead>\n",
       "  <tbody>\n",
       "    <tr>\n",
       "      <th>0</th>\n",
       "      <td>Maharashtra</td>\n",
       "      <td>1465911</td>\n",
       "      <td>38717</td>\n",
       "      <td>1465911</td>\n",
       "      <td>38717</td>\n",
       "    </tr>\n",
       "    <tr>\n",
       "      <th>1</th>\n",
       "      <td>Andhra Pradesh</td>\n",
       "      <td>734427</td>\n",
       "      <td>6086</td>\n",
       "      <td>729307</td>\n",
       "      <td>6052</td>\n",
       "    </tr>\n",
       "    <tr>\n",
       "      <th>2</th>\n",
       "      <td>Karnataka</td>\n",
       "      <td>657705</td>\n",
       "      <td>9461</td>\n",
       "      <td>657705</td>\n",
       "      <td>9461</td>\n",
       "    </tr>\n",
       "    <tr>\n",
       "      <th>3</th>\n",
       "      <td>Tamil Nadu</td>\n",
       "      <td>630408</td>\n",
       "      <td>9917</td>\n",
       "      <td>630408</td>\n",
       "      <td>9917</td>\n",
       "    </tr>\n",
       "    <tr>\n",
       "      <th>4</th>\n",
       "      <td>Uttar Pradesh</td>\n",
       "      <td>420937</td>\n",
       "      <td>6153</td>\n",
       "      <td>420937</td>\n",
       "      <td>6153</td>\n",
       "    </tr>\n",
       "  </tbody>\n",
       "</table>\n",
       "</div>"
      ],
      "text/plain": [
       "           states    Cases  Deaths   PCases  PDeaths\n",
       "0     Maharashtra  1465911   38717  1465911    38717\n",
       "1  Andhra Pradesh   734427    6086   729307     6052\n",
       "2       Karnataka   657705    9461   657705     9461\n",
       "3      Tamil Nadu   630408    9917   630408     9917\n",
       "4   Uttar Pradesh   420937    6153   420937     6153"
      ]
     },
     "execution_count": 11,
     "metadata": {},
     "output_type": "execute_result"
    }
   ],
   "source": [
    "#hide\n",
    "df_table = pd.DataFrame({'states': dfc_cases.index, 'Cases': dfc_cases.values, 'Deaths': dfc_deaths.values, 'PCases': dfp_cases.values, 'PDeaths': dfp_deaths.values}).set_index('states')\n",
    "df_table = df_table.sort_values(by = ['Cases','Deaths'], ascending = [False, False])\n",
    "df_table = df_table.reset_index()\n",
    "df_table.head()"
   ]
  },
  {
   "cell_type": "code",
   "execution_count": 12,
   "metadata": {
    "execution": {
     "iopub.execute_input": "2020-10-07T12:54:06.349425Z",
     "iopub.status.busy": "2020-10-07T12:54:06.348814Z",
     "iopub.status.idle": "2020-10-07T12:54:06.359457Z",
     "shell.execute_reply": "2020-10-07T12:54:06.358785Z"
    },
    "papermill": {
     "duration": 0.03934,
     "end_time": "2020-10-07T12:54:06.359603",
     "exception": false,
     "start_time": "2020-10-07T12:54:06.320263",
     "status": "completed"
    },
    "tags": []
   },
   "outputs": [],
   "source": [
    "#hide\n",
    "for c in 'Cases, Deaths'.split(', '):\n",
    "    df_table[f'{c} (+)'] = (df_table[c] - df_table[f'P{c}']).clip(0)\n",
    "df_table['Fatality Rate'] = (100* df_table['Deaths']/ df_table['Cases']).round(2)"
   ]
  },
  {
   "cell_type": "code",
   "execution_count": 13,
   "metadata": {
    "execution": {
     "iopub.execute_input": "2020-10-07T12:54:06.571462Z",
     "iopub.status.busy": "2020-10-07T12:54:06.570815Z",
     "iopub.status.idle": "2020-10-07T12:54:06.574773Z",
     "shell.execute_reply": "2020-10-07T12:54:06.575271Z"
    },
    "papermill": {
     "duration": 0.170318,
     "end_time": "2020-10-07T12:54:06.575426",
     "exception": false,
     "start_time": "2020-10-07T12:54:06.405108",
     "status": "completed"
    },
    "tags": []
   },
   "outputs": [
    {
     "data": {
      "text/html": [
       "<div>\n",
       "<style scoped>\n",
       "    .dataframe tbody tr th:only-of-type {\n",
       "        vertical-align: middle;\n",
       "    }\n",
       "\n",
       "    .dataframe tbody tr th {\n",
       "        vertical-align: top;\n",
       "    }\n",
       "\n",
       "    .dataframe thead th {\n",
       "        text-align: right;\n",
       "    }\n",
       "</style>\n",
       "<table border=\"1\" class=\"dataframe\">\n",
       "  <thead>\n",
       "    <tr style=\"text-align: right;\">\n",
       "      <th></th>\n",
       "      <th>states</th>\n",
       "      <th>Cases</th>\n",
       "      <th>Deaths</th>\n",
       "      <th>PCases</th>\n",
       "      <th>PDeaths</th>\n",
       "      <th>Cases (+)</th>\n",
       "      <th>Deaths (+)</th>\n",
       "      <th>Fatality Rate</th>\n",
       "    </tr>\n",
       "  </thead>\n",
       "  <tbody>\n",
       "    <tr>\n",
       "      <th>0</th>\n",
       "      <td>Maharashtra</td>\n",
       "      <td>1465911</td>\n",
       "      <td>38717</td>\n",
       "      <td>1465911</td>\n",
       "      <td>38717</td>\n",
       "      <td>0</td>\n",
       "      <td>0</td>\n",
       "      <td>2.64</td>\n",
       "    </tr>\n",
       "    <tr>\n",
       "      <th>1</th>\n",
       "      <td>Andhra Pradesh</td>\n",
       "      <td>734427</td>\n",
       "      <td>6086</td>\n",
       "      <td>729307</td>\n",
       "      <td>6052</td>\n",
       "      <td>5120</td>\n",
       "      <td>34</td>\n",
       "      <td>0.83</td>\n",
       "    </tr>\n",
       "    <tr>\n",
       "      <th>2</th>\n",
       "      <td>Karnataka</td>\n",
       "      <td>657705</td>\n",
       "      <td>9461</td>\n",
       "      <td>657705</td>\n",
       "      <td>9461</td>\n",
       "      <td>0</td>\n",
       "      <td>0</td>\n",
       "      <td>1.44</td>\n",
       "    </tr>\n",
       "    <tr>\n",
       "      <th>3</th>\n",
       "      <td>Tamil Nadu</td>\n",
       "      <td>630408</td>\n",
       "      <td>9917</td>\n",
       "      <td>630408</td>\n",
       "      <td>9917</td>\n",
       "      <td>0</td>\n",
       "      <td>0</td>\n",
       "      <td>1.57</td>\n",
       "    </tr>\n",
       "    <tr>\n",
       "      <th>4</th>\n",
       "      <td>Uttar Pradesh</td>\n",
       "      <td>420937</td>\n",
       "      <td>6153</td>\n",
       "      <td>420937</td>\n",
       "      <td>6153</td>\n",
       "      <td>0</td>\n",
       "      <td>0</td>\n",
       "      <td>1.46</td>\n",
       "    </tr>\n",
       "  </tbody>\n",
       "</table>\n",
       "</div>"
      ],
      "text/plain": [
       "           states    Cases  Deaths   PCases  PDeaths  Cases (+)  Deaths (+)  \\\n",
       "0     Maharashtra  1465911   38717  1465911    38717          0           0   \n",
       "1  Andhra Pradesh   734427    6086   729307     6052       5120          34   \n",
       "2       Karnataka   657705    9461   657705     9461          0           0   \n",
       "3      Tamil Nadu   630408    9917   630408     9917          0           0   \n",
       "4   Uttar Pradesh   420937    6153   420937     6153          0           0   \n",
       "\n",
       "   Fatality Rate  \n",
       "0           2.64  \n",
       "1           0.83  \n",
       "2           1.44  \n",
       "3           1.57  \n",
       "4           1.46  "
      ]
     },
     "execution_count": 13,
     "metadata": {},
     "output_type": "execute_result"
    }
   ],
   "source": [
    "#hide\n",
    "df_table.head()"
   ]
  },
  {
   "cell_type": "code",
   "execution_count": 14,
   "metadata": {
    "execution": {
     "iopub.execute_input": "2020-10-07T12:54:06.629469Z",
     "iopub.status.busy": "2020-10-07T12:54:06.628801Z",
     "iopub.status.idle": "2020-10-07T12:54:06.645939Z",
     "shell.execute_reply": "2020-10-07T12:54:06.646468Z"
    },
    "papermill": {
     "duration": 0.04063,
     "end_time": "2020-10-07T12:54:06.646625",
     "exception": false,
     "start_time": "2020-10-07T12:54:06.605995",
     "status": "completed"
    },
    "tags": []
   },
   "outputs": [
    {
     "data": {
      "text/plain": [
       "{'updated': '2020-10-07',\n",
       " 'since': '2020-10-06',\n",
       " 'Cases': 6764710,\n",
       " 'PCases': 6754179,\n",
       " 'Deaths': 104651,\n",
       " 'PDeaths': 104591,\n",
       " 'Cases (+)': 10531,\n",
       " 'Deaths (+)': 60}"
      ]
     },
     "execution_count": 14,
     "metadata": {},
     "output_type": "execute_result"
    }
   ],
   "source": [
    "#hide\n",
    "summary = {'updated':dates[-1], 'since':dates[-2]}\n",
    "list_names = ['Cases', 'PCases', 'Deaths', 'PDeaths', 'Cases (+)', 'Deaths (+)']\n",
    "for name in list_names:\n",
    "    summary[name] = df_table.sum()[name]\n",
    "summary"
   ]
  },
  {
   "cell_type": "code",
   "execution_count": 15,
   "metadata": {
    "execution": {
     "iopub.execute_input": "2020-10-07T12:54:06.685632Z",
     "iopub.status.busy": "2020-10-07T12:54:06.685015Z",
     "iopub.status.idle": "2020-10-07T12:54:06.687779Z",
     "shell.execute_reply": "2020-10-07T12:54:06.687265Z"
    },
    "papermill": {
     "duration": 0.02407,
     "end_time": "2020-10-07T12:54:06.687908",
     "exception": false,
     "start_time": "2020-10-07T12:54:06.663838",
     "status": "completed"
    },
    "tags": []
   },
   "outputs": [],
   "source": [
    "#hide\n",
    "overview = '''\n",
    "<!-- #######  HTML!! #########-->\n",
    "<h1 style=\"color: #5e9ca0; text-align: center;\">India</h1>\n",
    "<p style=\"text-align: center;\">Last update: <strong>{update}</strong></p>\n",
    "<p style=\"text-align: center;\">Confirmed cases:</p>\n",
    "<p style=\"text-align: center;font-size:24px;\">{cases} (<span style=\"color: #ff0000;\">+{new}</span>)</p>\n",
    "<p style=\"text-align: center;\">Confirmed deaths:</p>\n",
    "<p style=\"text-align: center;font-size:24px;\">{deaths} (<span style=\"color: #ff0000;\">+{dnew}</span>)</p>\n",
    "'''"
   ]
  },
  {
   "cell_type": "code",
   "execution_count": 16,
   "metadata": {
    "execution": {
     "iopub.execute_input": "2020-10-07T12:54:06.731913Z",
     "iopub.status.busy": "2020-10-07T12:54:06.730840Z",
     "iopub.status.idle": "2020-10-07T12:54:06.733644Z",
     "shell.execute_reply": "2020-10-07T12:54:06.734108Z"
    },
    "papermill": {
     "duration": 0.029291,
     "end_time": "2020-10-07T12:54:06.734263",
     "exception": false,
     "start_time": "2020-10-07T12:54:06.704972",
     "status": "completed"
    },
    "tags": []
   },
   "outputs": [
    {
     "data": {
      "text/html": [
       "\n",
       "<!-- #######  HTML!! #########-->\n",
       "<h1 style=\"color: #5e9ca0; text-align: center;\">India</h1>\n",
       "<p style=\"text-align: center;\">Last update: <strong>2020-10-07</strong></p>\n",
       "<p style=\"text-align: center;\">Confirmed cases:</p>\n",
       "<p style=\"text-align: center;font-size:24px;\">6764710 (<span style=\"color: #ff0000;\">+10531</span>)</p>\n",
       "<p style=\"text-align: center;\">Confirmed deaths:</p>\n",
       "<p style=\"text-align: center;font-size:24px;\">104651 (<span style=\"color: #ff0000;\">+60</span>)</p>\n"
      ],
      "text/plain": [
       "<IPython.core.display.HTML object>"
      ]
     },
     "metadata": {},
     "output_type": "display_data"
    }
   ],
   "source": [
    "#hide_input\n",
    "update = summary['updated']\n",
    "cases = summary['Cases']\n",
    "new = summary['Cases (+)']\n",
    "deaths = summary['Deaths']\n",
    "dnew = summary['Deaths (+)']\n",
    "\n",
    "html = HTML(overview.format(update=update, cases=cases,new=new,deaths=deaths,dnew=dnew))\n",
    "\n",
    "display(html)"
   ]
  },
  {
   "cell_type": "code",
   "execution_count": 17,
   "metadata": {
    "execution": {
     "iopub.execute_input": "2020-10-07T12:54:06.780836Z",
     "iopub.status.busy": "2020-10-07T12:54:06.780185Z",
     "iopub.status.idle": "2020-10-07T12:54:06.787910Z",
     "shell.execute_reply": "2020-10-07T12:54:06.787297Z"
    },
    "papermill": {
     "duration": 0.03473,
     "end_time": "2020-10-07T12:54:06.788049",
     "exception": false,
     "start_time": "2020-10-07T12:54:06.753319",
     "status": "completed"
    },
    "tags": []
   },
   "outputs": [],
   "source": [
    "#hide\n",
    "dt_cols = list(dft_cases.columns[1:])\n",
    "dft_ct_new_cases = dft_cases.groupby('state')[dt_cols].sum().diff(axis=1).fillna(0).astype(int)\n",
    "dft_ct_new_cases.sort_values(by = dates[-1], ascending = False,inplace = True)"
   ]
  },
  {
   "cell_type": "code",
   "execution_count": 18,
   "metadata": {
    "execution": {
     "iopub.execute_input": "2020-10-07T12:54:06.841552Z",
     "iopub.status.busy": "2020-10-07T12:54:06.837019Z",
     "iopub.status.idle": "2020-10-07T12:54:06.853568Z",
     "shell.execute_reply": "2020-10-07T12:54:06.854197Z"
    },
    "papermill": {
     "duration": 0.042918,
     "end_time": "2020-10-07T12:54:06.854368",
     "exception": false,
     "start_time": "2020-10-07T12:54:06.811450",
     "status": "completed"
    },
    "tags": []
   },
   "outputs": [
    {
     "data": {
      "text/html": [
       "<div>\n",
       "<style scoped>\n",
       "    .dataframe tbody tr th:only-of-type {\n",
       "        vertical-align: middle;\n",
       "    }\n",
       "\n",
       "    .dataframe tbody tr th {\n",
       "        vertical-align: top;\n",
       "    }\n",
       "\n",
       "    .dataframe thead th {\n",
       "        text-align: right;\n",
       "    }\n",
       "</style>\n",
       "<table border=\"1\" class=\"dataframe\">\n",
       "  <thead>\n",
       "    <tr style=\"text-align: right;\">\n",
       "      <th>states</th>\n",
       "      <th>2020-07-01</th>\n",
       "      <th>2020-07-02</th>\n",
       "      <th>2020-07-03</th>\n",
       "      <th>2020-07-04</th>\n",
       "      <th>2020-07-05</th>\n",
       "      <th>2020-07-06</th>\n",
       "      <th>2020-07-07</th>\n",
       "      <th>2020-07-08</th>\n",
       "      <th>2020-07-09</th>\n",
       "      <th>2020-07-10</th>\n",
       "      <th>...</th>\n",
       "      <th>2020-09-28</th>\n",
       "      <th>2020-09-29</th>\n",
       "      <th>2020-09-30</th>\n",
       "      <th>2020-10-01</th>\n",
       "      <th>2020-10-02</th>\n",
       "      <th>2020-10-03</th>\n",
       "      <th>2020-10-04</th>\n",
       "      <th>2020-10-05</th>\n",
       "      <th>2020-10-06</th>\n",
       "      <th>2020-10-07</th>\n",
       "    </tr>\n",
       "    <tr>\n",
       "      <th>state</th>\n",
       "      <th></th>\n",
       "      <th></th>\n",
       "      <th></th>\n",
       "      <th></th>\n",
       "      <th></th>\n",
       "      <th></th>\n",
       "      <th></th>\n",
       "      <th></th>\n",
       "      <th></th>\n",
       "      <th></th>\n",
       "      <th></th>\n",
       "      <th></th>\n",
       "      <th></th>\n",
       "      <th></th>\n",
       "      <th></th>\n",
       "      <th></th>\n",
       "      <th></th>\n",
       "      <th></th>\n",
       "      <th></th>\n",
       "      <th></th>\n",
       "      <th></th>\n",
       "    </tr>\n",
       "  </thead>\n",
       "  <tbody>\n",
       "    <tr>\n",
       "      <th>Andhra Pradesh</th>\n",
       "      <td>0</td>\n",
       "      <td>845</td>\n",
       "      <td>837</td>\n",
       "      <td>765</td>\n",
       "      <td>998</td>\n",
       "      <td>1322</td>\n",
       "      <td>1178</td>\n",
       "      <td>1062</td>\n",
       "      <td>1555</td>\n",
       "      <td>1608</td>\n",
       "      <td>...</td>\n",
       "      <td>5487</td>\n",
       "      <td>6190</td>\n",
       "      <td>6133</td>\n",
       "      <td>6751</td>\n",
       "      <td>6555</td>\n",
       "      <td>6224</td>\n",
       "      <td>6242</td>\n",
       "      <td>4256</td>\n",
       "      <td>5795</td>\n",
       "      <td>5120</td>\n",
       "    </tr>\n",
       "    <tr>\n",
       "      <th>Odisha</th>\n",
       "      <td>0</td>\n",
       "      <td>229</td>\n",
       "      <td>561</td>\n",
       "      <td>495</td>\n",
       "      <td>469</td>\n",
       "      <td>456</td>\n",
       "      <td>571</td>\n",
       "      <td>527</td>\n",
       "      <td>577</td>\n",
       "      <td>755</td>\n",
       "      <td>...</td>\n",
       "      <td>3235</td>\n",
       "      <td>3067</td>\n",
       "      <td>3443</td>\n",
       "      <td>3615</td>\n",
       "      <td>3600</td>\n",
       "      <td>3053</td>\n",
       "      <td>3326</td>\n",
       "      <td>2617</td>\n",
       "      <td>2673</td>\n",
       "      <td>2995</td>\n",
       "    </tr>\n",
       "    <tr>\n",
       "      <th>Telangana</th>\n",
       "      <td>0</td>\n",
       "      <td>1213</td>\n",
       "      <td>1892</td>\n",
       "      <td>1850</td>\n",
       "      <td>1590</td>\n",
       "      <td>1831</td>\n",
       "      <td>1879</td>\n",
       "      <td>1924</td>\n",
       "      <td>1410</td>\n",
       "      <td>1278</td>\n",
       "      <td>...</td>\n",
       "      <td>1378</td>\n",
       "      <td>2072</td>\n",
       "      <td>2103</td>\n",
       "      <td>2214</td>\n",
       "      <td>2009</td>\n",
       "      <td>1718</td>\n",
       "      <td>1949</td>\n",
       "      <td>1335</td>\n",
       "      <td>1983</td>\n",
       "      <td>2154</td>\n",
       "    </tr>\n",
       "    <tr>\n",
       "      <th>Tripura</th>\n",
       "      <td>0</td>\n",
       "      <td>39</td>\n",
       "      <td>93</td>\n",
       "      <td>25</td>\n",
       "      <td>23</td>\n",
       "      <td>111</td>\n",
       "      <td>24</td>\n",
       "      <td>57</td>\n",
       "      <td>16</td>\n",
       "      <td>142</td>\n",
       "      <td>...</td>\n",
       "      <td>193</td>\n",
       "      <td>432</td>\n",
       "      <td>381</td>\n",
       "      <td>332</td>\n",
       "      <td>296</td>\n",
       "      <td>190</td>\n",
       "      <td>322</td>\n",
       "      <td>159</td>\n",
       "      <td>275</td>\n",
       "      <td>237</td>\n",
       "    </tr>\n",
       "    <tr>\n",
       "      <th>Mizoram</th>\n",
       "      <td>0</td>\n",
       "      <td>2</td>\n",
       "      <td>0</td>\n",
       "      <td>2</td>\n",
       "      <td>22</td>\n",
       "      <td>11</td>\n",
       "      <td>1</td>\n",
       "      <td>5</td>\n",
       "      <td>0</td>\n",
       "      <td>23</td>\n",
       "      <td>...</td>\n",
       "      <td>43</td>\n",
       "      <td>50</td>\n",
       "      <td>28</td>\n",
       "      <td>32</td>\n",
       "      <td>31</td>\n",
       "      <td>54</td>\n",
       "      <td>17</td>\n",
       "      <td>0</td>\n",
       "      <td>8</td>\n",
       "      <td>20</td>\n",
       "    </tr>\n",
       "  </tbody>\n",
       "</table>\n",
       "<p>5 rows × 99 columns</p>\n",
       "</div>"
      ],
      "text/plain": [
       "states          2020-07-01  2020-07-02  2020-07-03  2020-07-04  2020-07-05  \\\n",
       "state                                                                        \n",
       "Andhra Pradesh           0         845         837         765         998   \n",
       "Odisha                   0         229         561         495         469   \n",
       "Telangana                0        1213        1892        1850        1590   \n",
       "Tripura                  0          39          93          25          23   \n",
       "Mizoram                  0           2           0           2          22   \n",
       "\n",
       "states          2020-07-06  2020-07-07  2020-07-08  2020-07-09  2020-07-10  \\\n",
       "state                                                                        \n",
       "Andhra Pradesh        1322        1178        1062        1555        1608   \n",
       "Odisha                 456         571         527         577         755   \n",
       "Telangana             1831        1879        1924        1410        1278   \n",
       "Tripura                111          24          57          16         142   \n",
       "Mizoram                 11           1           5           0          23   \n",
       "\n",
       "states          ...  2020-09-28  2020-09-29  2020-09-30  2020-10-01  \\\n",
       "state           ...                                                   \n",
       "Andhra Pradesh  ...        5487        6190        6133        6751   \n",
       "Odisha          ...        3235        3067        3443        3615   \n",
       "Telangana       ...        1378        2072        2103        2214   \n",
       "Tripura         ...         193         432         381         332   \n",
       "Mizoram         ...          43          50          28          32   \n",
       "\n",
       "states          2020-10-02  2020-10-03  2020-10-04  2020-10-05  2020-10-06  \\\n",
       "state                                                                        \n",
       "Andhra Pradesh        6555        6224        6242        4256        5795   \n",
       "Odisha                3600        3053        3326        2617        2673   \n",
       "Telangana             2009        1718        1949        1335        1983   \n",
       "Tripura                296         190         322         159         275   \n",
       "Mizoram                 31          54          17           0           8   \n",
       "\n",
       "states          2020-10-07  \n",
       "state                       \n",
       "Andhra Pradesh        5120  \n",
       "Odisha                2995  \n",
       "Telangana             2154  \n",
       "Tripura                237  \n",
       "Mizoram                 20  \n",
       "\n",
       "[5 rows x 99 columns]"
      ]
     },
     "execution_count": 18,
     "metadata": {},
     "output_type": "execute_result"
    }
   ],
   "source": [
    "#hide\n",
    "dft_ct_new_cases.head()"
   ]
  },
  {
   "cell_type": "code",
   "execution_count": 19,
   "metadata": {
    "execution": {
     "iopub.execute_input": "2020-10-07T12:54:06.934570Z",
     "iopub.status.busy": "2020-10-07T12:54:06.909991Z",
     "iopub.status.idle": "2020-10-07T12:54:10.941710Z",
     "shell.execute_reply": "2020-10-07T12:54:10.942210Z"
    },
    "papermill": {
     "duration": 4.067206,
     "end_time": "2020-10-07T12:54:10.942371",
     "exception": false,
     "start_time": "2020-10-07T12:54:06.875165",
     "status": "completed"
    },
    "tags": []
   },
   "outputs": [
    {
     "data": {
      "image/png": "[encoded data removed]",
      "text/plain": [
       "<Figure size 1296x2016 with 11 Axes>"
      ]
     },
     "metadata": {
      "needs_background": "light"
     },
     "output_type": "display_data"
    }
   ],
   "source": [
    "#hide_input\n",
    "df = dft_ct_new_cases.copy()\n",
    "df.loc['Total'] = df.sum()\n",
    "n = 5\n",
    "ax = []\n",
    "fig = plt.figure(figsize = (18,28))\n",
    "gs = fig.add_gridspec(n+2, 5)\n",
    "# gs = fig.add_gridspec(2, 3)\n",
    "ax1 = fig.add_subplot(gs[0, :])\n",
    "ef = df.loc['Total'].rename_axis('date').reset_index()\n",
    "ef['date'] = ef['date'].astype('datetime64[ns]')\n",
    "ax1.bar(ef.date,ef.Total,alpha=0.3,color='#007acc')\n",
    "ax1.plot(ef.date,ef.Total , marker=\"o\", color='#007acc')\n",
    "ax1.xaxis.set_major_locator(mdates.WeekdayLocator())\n",
    "ax1.xaxis.set_major_formatter(mdates.DateFormatter('%b %d'))\n",
    "ax1.text(0.02, 0.5,'India daily case count', transform = ax1.transAxes, fontsize=25);\n",
    "ax1.spines['right'].set_visible(False)\n",
    "ax1.spines['top'].set_visible(False)\n",
    "\n",
    "ax2 = fig.add_subplot(gs[1,0])\n",
    "ef = df.loc['Maharashtra'].rename_axis('date').reset_index()\n",
    "ef['date'] = ef['date'].astype('datetime64[ns]')\n",
    "\n",
    "ax2.bar(ef.date, ef.Maharashtra,color = '#007acc',alpha=0.5)\n",
    "ax2.xaxis.set_major_locator(mdates.WeekdayLocator())\n",
    "ax2.xaxis.set_major_formatter(mdates.DateFormatter('%b %d'))\n",
    "ax2.set_xticks(ax2.get_xticks()[::3])\n",
    "maxyval = ef.Maharashtra.max()\n",
    "ax2.set_ylim([0,maxyval])\n",
    "ax2.text(0.05, 0.9,'Maharashtra', transform = ax2.transAxes, fontsize=20);\n",
    "ax2.spines['right'].set_visible(False)\n",
    "ax2.spines['top'].set_visible(False)\n",
    "\n",
    "\n",
    "ax3 = fig.add_subplot(gs[1,1])\n",
    "ef = df.loc['Tamil Nadu'].rename_axis('date').reset_index()\n",
    "ef['date'] = ef['date'].astype('datetime64[ns]')\n",
    "ax3.bar(ef.date, ef['Tamil Nadu'],color = '#007acc',alpha=0.5,)\n",
    "ax3.xaxis.set_major_locator(mdates.WeekdayLocator())\n",
    "ax3.xaxis.set_major_formatter(mdates.DateFormatter('%b %d'))\n",
    "ax3.set_xticks(ax3.get_xticks()[::3])\n",
    "ax3.text(0.05, 0.9,'Tamil Nadu', transform = ax3.transAxes, fontsize=20);\n",
    "ax3.spines['right'].set_visible(False)\n",
    "ax3.spines['top'].set_visible(False)\n",
    "\n",
    "ax5 = fig.add_subplot(gs[1,3])\n",
    "ef = df.loc['Telangana'].rename_axis('date').reset_index()\n",
    "ef['date'] = ef['date'].astype('datetime64[ns]')\n",
    "ax5.bar(ef.date, ef['Telangana'],color = '#007acc',alpha=0.5,)\n",
    "ax5.xaxis.set_major_locator(mdates.WeekdayLocator())\n",
    "ax5.xaxis.set_major_formatter(mdates.DateFormatter('%b %d'))\n",
    "ax5.set_xticks(ax5.get_xticks()[::3])\n",
    "ax5.text(0.05, 0.9,'Telangana', transform = ax5.transAxes, fontsize=20);\n",
    "ax5.spines['right'].set_visible(False)\n",
    "ax5.spines['top'].set_visible(False)\n",
    "\n",
    "ax6 = fig.add_subplot(gs[1,4])\n",
    "ef = df.loc['Andhra Pradesh'].rename_axis('date').reset_index()\n",
    "ef['date'] = ef['date'].astype('datetime64[ns]')\n",
    "ax6.bar(ef.date, ef['Andhra Pradesh'],color = '#007acc',alpha=0.5,)\n",
    "ax6.xaxis.set_major_locator(mdates.WeekdayLocator())\n",
    "ax6.xaxis.set_major_formatter(mdates.DateFormatter('%b %d'))\n",
    "ax6.set_xticks(ax6.get_xticks()[::3])\n",
    "ax6.text(0.05, 1,'Andhra Pradesh', transform = ax6.transAxes, fontsize=20);\n",
    "ax6.spines['right'].set_visible(False)\n",
    "ax6.spines['top'].set_visible(False)\n",
    "\n",
    "ax4 = fig.add_subplot(gs[1,2])\n",
    "ef = df.loc['Delhi'].rename_axis('date').reset_index()\n",
    "ef['date'] = ef['date'].astype('datetime64[ns]')\n",
    "ax4.bar(ef.date, ef.Delhi,color = '#007acc',alpha=0.5)\n",
    "ax4.set_xticks([])\n",
    "ax4.xaxis.set_major_locator(mdates.WeekdayLocator())\n",
    "ax4.xaxis.set_major_formatter(mdates.DateFormatter('%b %d'))\n",
    "ax4.set_xticks(ax4.get_xticks()[::3])\n",
    "ax4.spines['right'].set_visible(False)\n",
    "ax4.spines['top'].set_visible(False)\n",
    "\n",
    "ax4.text(0.05, 1,'Delhi', transform = ax4.transAxes, fontsize=20)\n",
    "\n",
    "for i in range(n):\n",
    "    \n",
    "    ax.append(fig.add_subplot(gs[i+2,:]))\n",
    "    ef = df.iloc[i+3].rename_axis('date').reset_index()\n",
    "    ef['date'] = ef['date'].astype('datetime64[ns]')\n",
    "    ax[i].bar(ef.date,ef.iloc[:,-1],color = '#007acc',alpha=0.3)\n",
    "    ax[i].plot(ef.date,ef.iloc[:,-1],marker='o',color='#007acc')\n",
    "    ax[i].text(0.02,0.5,f'{ef.columns.values[-1]}',transform = ax[i].transAxes, fontsize = 20);\n",
    "    ax[i].xaxis.set_major_locator(mdates.WeekdayLocator())\n",
    "    ax[i].xaxis.set_major_formatter(mdates.DateFormatter('%b %d'))\n",
    "    ax[i].set_ylim([0,7000])\n",
    "    ax[i].spines['right'].set_visible(False)\n",
    "    ax[i].spines['top'].set_visible(False)\n",
    "plt.tight_layout()\n"
   ]
  },
  {
   "cell_type": "code",
   "execution_count": 20,
   "metadata": {
    "execution": {
     "iopub.execute_input": "2020-10-07T12:54:10.998983Z",
     "iopub.status.busy": "2020-10-07T12:54:10.998355Z",
     "iopub.status.idle": "2020-10-07T12:54:11.002839Z",
     "shell.execute_reply": "2020-10-07T12:54:11.003331Z"
    },
    "papermill": {
     "duration": 0.037673,
     "end_time": "2020-10-07T12:54:11.003481",
     "exception": false,
     "start_time": "2020-10-07T12:54:10.965808",
     "status": "completed"
    },
    "tags": []
   },
   "outputs": [
    {
     "name": "stdout",
     "output_type": "stream",
     "text": [
      "                                   states    Cases  Deaths   PCases  PDeaths  Cases (+)  Deaths (+)  Fatality Rate\n",
      "                              Maharashtra  1465911   38717  1465911    38717          0           0           2.64\n",
      "                           Andhra Pradesh   734427    6086   729307     6052       5120          34           0.83\n",
      "                                Karnataka   657705    9461   657705     9461          0           0           1.44\n",
      "                               Tamil Nadu   630408    9917   630408     9917          0           0           1.57\n",
      "                            Uttar Pradesh   420937    6153   420937     6153          0           0           1.46\n",
      "                                    Delhi   295236    5581   295236     5581          0           0           1.89\n",
      "                              West Bengal   277049    5318   277049     5318          0           0           1.92\n",
      "                                   Kerala   242800     885   242800      885          0           0           0.36\n",
      "                                   Odisha   240998    1011   238003      993       2995          18           0.42\n",
      "                                Telangana   204748    1189   202594     1181       2154           8           0.58\n",
      "                                    Bihar   190123     925   190123      925          0           0           0.49\n",
      "                                    Assam   188902     778   188902      778          0           0           0.41\n",
      "                                Rajasthan   148316    1574   148316     1574          0           0           1.06\n",
      "                                  Gujarat   145361    3522   145361     3522          0           0           2.42\n",
      "                           Madhya Pradesh   138668    2488   138668     2488          0           0           1.79\n",
      "                                  Haryana   136115    1509   136115     1509          0           0           1.11\n",
      "                             Chhattisgarh   128893    1104   128893     1104          0           0           0.86\n",
      "                                   Punjab   120016    3679   120016     3679          0           0           3.07\n",
      "                                Jharkhand    88873     757    88873      757          0           0           0.85\n",
      "                        Jammu and Kashmir    80476    1268    80476     1268          0           0           1.58\n",
      "                              Uttarakhand    52329     677    52329      677          0           0           1.29\n",
      "                                      Goa    36238     468    36238      468          0           0           1.29\n",
      "                               Puducherry    29682     546    29682      546          0           0           1.84\n",
      "                                  Tripura    27542     298    27305      298        237           0           1.08\n",
      "                         Himachal Pradesh    16283     224    16283      224          0           0           1.38\n",
      "                               Chandigarh    12707     180    12707      180          0           0           1.42\n",
      "                                  Manipur    12240      78    12240       78          0           0           0.64\n",
      "                        Arunachal Pradesh    11007      20    11007       20          0           0           0.18\n",
      "                                Meghalaya     7037      60     7037       60          0           0           0.85\n",
      "                                 Nagaland     6662      12     6662       12          0           0           0.18\n",
      "                                   Ladakh     4720      61     4720       61          0           0           1.29\n",
      "              Andaman and Nicobar Islands     3912      54     3912       54          0           0           1.38\n",
      "                                   Sikkim     3135      49     3135       49          0           0           1.56\n",
      " Dadra and Nagar Haveli and Daman and Diu     3106       2     3101        2          5           0           0.06\n",
      "                                  Mizoram     2148       0     2128        0         20           0           0.00\n",
      "                              Lakshadweep        0       0        0        0          0           0            NaN\n"
     ]
    }
   ],
   "source": [
    "#hide_input\n",
    "print(df_table.to_string(index=False))"
   ]
  },
  {
   "cell_type": "code",
   "execution_count": null,
   "metadata": {
    "papermill": {
     "duration": 0.023904,
     "end_time": "2020-10-07T12:54:11.051228",
     "exception": false,
     "start_time": "2020-10-07T12:54:11.027324",
     "status": "completed"
    },
    "tags": []
   },
   "outputs": [],
   "source": []
  },
  {
   "cell_type": "code",
   "execution_count": null,
   "metadata": {
    "papermill": {
     "duration": 0.02384,
     "end_time": "2020-10-07T12:54:11.099416",
     "exception": false,
     "start_time": "2020-10-07T12:54:11.075576",
     "status": "completed"
    },
    "tags": []
   },
   "outputs": [],
   "source": []
  }
 ],
 "metadata": {
  "kernelspec": {
   "display_name": "Python 3",
   "language": "python",
   "name": "python3"
  },
  "language_info": {
   "codemirror_mode": {
    "name": "ipython",
    "version": 3
   },
   "file_extension": ".py",
   "mimetype": "text/x-python",
   "name": "python",
   "nbconvert_exporter": "python",
   "pygments_lexer": "ipython3",
   "version": "3.6.12"
  },
  "papermill": {
   "duration": 11.322404,
   "end_time": "2020-10-07T12:54:12.460582",
   "environment_variables": {},
   "exception": null,
   "input_path": "latest.ipynb",
   "output_path": "latest.ipynb",
   "parameters": {},
   "start_time": "2020-10-07T12:54:01.138178",
   "version": "2.1.2"
  }
 },
 "nbformat": 4,
 "nbformat_minor": 4
}