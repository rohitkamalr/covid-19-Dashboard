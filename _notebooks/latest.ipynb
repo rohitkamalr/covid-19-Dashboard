{
 "cells": [
  {
   "cell_type": "markdown",
   "id": "colored-stack",
   "metadata": {
    "papermill": {
     "duration": 0.023674,
     "end_time": "2021-02-21T11:23:20.908639",
     "exception": false,
     "start_time": "2021-02-21T11:23:20.884965",
     "status": "completed"
    },
    "tags": []
   },
   "source": [
    "# Latest COVID-19 India Matplotlib Overview"
   ]
  },
  {
   "cell_type": "code",
   "execution_count": 1,
   "id": "light-proportion",
   "metadata": {
    "execution": {
     "iopub.execute_input": "2021-02-21T11:23:20.956994Z",
     "iopub.status.busy": "2021-02-21T11:23:20.956408Z",
     "iopub.status.idle": "2021-02-21T11:23:21.555119Z",
     "shell.execute_reply": "2021-02-21T11:23:21.554553Z"
    },
    "papermill": {
     "duration": 0.627507,
     "end_time": "2021-02-21T11:23:21.555310",
     "exception": false,
     "start_time": "2021-02-21T11:23:20.927803",
     "status": "completed"
    },
    "tags": []
   },
   "outputs": [],
   "source": [
    "#hide\n",
    "import pandas as pd\n",
    "import numpy as np\n",
    "import requests\n",
    "import json\n",
    "import matplotlib.pyplot as plt\n",
    "import matplotlib.dates as mdates\n",
    "import matplotlib as mpl\n",
    "from IPython.core.display import display,HTML\n",
    "%matplotlib inline\n",
    "from datetime import date"
   ]
  },
  {
   "cell_type": "code",
   "execution_count": 2,
   "id": "greenhouse-shooting",
   "metadata": {
    "execution": {
     "iopub.execute_input": "2021-02-21T11:23:21.599354Z",
     "iopub.status.busy": "2021-02-21T11:23:21.598355Z",
     "iopub.status.idle": "2021-02-21T11:23:21.733340Z",
     "shell.execute_reply": "2021-02-21T11:23:21.733871Z"
    },
    "papermill": {
     "duration": 0.159754,
     "end_time": "2021-02-21T11:23:21.734020",
     "exception": false,
     "start_time": "2021-02-21T11:23:21.574266",
     "status": "completed"
    },
    "tags": []
   },
   "outputs": [],
   "source": [
    "#hide\n",
    "df  = pd.read_csv('https://api.covid19india.org/csv/latest/states.csv')\n",
    "df = df[['Date','State','Confirmed','Deceased']]\n",
    "df = df.rename(columns={'Confirmed':'Cases', \"Deceased\":'Deaths'})\n",
    "df_cases = df[[\"Date\",'State','Cases']]\n",
    "df_deaths = df[['Date','State','Deaths']]\n",
    "df_cases1 = df_cases.groupby('Date')\n",
    "df_deaths1= df_deaths.groupby('Date')"
   ]
  },
  {
   "cell_type": "code",
   "execution_count": 3,
   "id": "hybrid-cathedral",
   "metadata": {
    "execution": {
     "iopub.execute_input": "2021-02-21T11:23:21.772721Z",
     "iopub.status.busy": "2021-02-21T11:23:21.772106Z",
     "iopub.status.idle": "2021-02-21T11:23:21.793578Z",
     "shell.execute_reply": "2021-02-21T11:23:21.792529Z"
    },
    "papermill": {
     "duration": 0.040975,
     "end_time": "2021-02-21T11:23:21.793716",
     "exception": false,
     "start_time": "2021-02-21T11:23:21.752741",
     "status": "completed"
    },
    "tags": []
   },
   "outputs": [],
   "source": [
    "#hide\n",
    "df_snap = pd.read_csv('data/SnapshotCases-28-July.csv')\n",
    "arr_states = df_snap['states'].unique()\n",
    "arr_dates = df['Date'].unique()\n",
    "df_snap = df_snap.set_index('states')"
   ]
  },
  {
   "cell_type": "code",
   "execution_count": 4,
   "id": "interior-belfast",
   "metadata": {
    "execution": {
     "iopub.execute_input": "2021-02-21T11:23:21.838576Z",
     "iopub.status.busy": "2021-02-21T11:23:21.837831Z",
     "iopub.status.idle": "2021-02-21T11:23:21.840935Z",
     "shell.execute_reply": "2021-02-21T11:23:21.841553Z"
    },
    "papermill": {
     "duration": 0.03003,
     "end_time": "2021-02-21T11:23:21.841697",
     "exception": false,
     "start_time": "2021-02-21T11:23:21.811667",
     "status": "completed"
    },
    "tags": []
   },
   "outputs": [
    {
     "data": {
      "text/plain": [
       "array(['Andaman and Nicobar Islands', 'Andhra Pradesh',\n",
       "       'Arunachal Pradesh', 'Assam', 'Bihar', 'Chandigarh',\n",
       "       'Dadra and Nagar Haveli and Daman and Diu', 'Delhi', 'Goa',\n",
       "       'Gujarat', 'Haryana', 'Himachal Pradesh', 'Jammu and Kashmir',\n",
       "       'Jharkhand', 'Karnataka', 'Kerala', 'Lakshadweep',\n",
       "       'Madhya Pradesh', 'Maharashtra', 'Manipur', 'Meghalaya', 'Mizoram',\n",
       "       'Nagaland', 'Odisha', 'Puducherry', 'Punjab', 'Rajasthan',\n",
       "       'Sikkim', 'Tamil Nadu', 'Telangana', 'Tripura', 'Uttar Pradesh',\n",
       "       'West Bengal', 'Chhattisgarh', 'Ladakh', 'Uttarakhand'],\n",
       "      dtype=object)"
      ]
     },
     "execution_count": 4,
     "metadata": {},
     "output_type": "execute_result"
    }
   ],
   "source": [
    "#hide\n",
    "arr_states[-9] = 'Puducherry'\n",
    "arr_states[-10] = 'Odisha'\n",
    "arr_states[6] = 'Dadra and Nagar Haveli and Daman and Diu'\n",
    "arr_states = np.append(arr_states,np.array(['Chhattisgarh','Ladakh','Uttarakhand']))\n",
    "arr_states"
   ]
  },
  {
   "cell_type": "code",
   "execution_count": 5,
   "id": "behind-manner",
   "metadata": {
    "execution": {
     "iopub.execute_input": "2021-02-21T11:23:21.891570Z",
     "iopub.status.busy": "2021-02-21T11:23:21.890989Z",
     "iopub.status.idle": "2021-02-21T11:23:21.900310Z",
     "shell.execute_reply": "2021-02-21T11:23:21.899836Z"
    },
    "papermill": {
     "duration": 0.039654,
     "end_time": "2021-02-21T11:23:21.900428",
     "exception": false,
     "start_time": "2021-02-21T11:23:21.860774",
     "status": "completed"
    },
    "tags": []
   },
   "outputs": [],
   "source": [
    "#hide\n",
    "dates = []\n",
    "for i in arr_dates:\n",
    "    if i>='2020-07-01':\n",
    "        dates.append(i)\n",
    "dict = {'states':dates}\n",
    "for i in arr_states:\n",
    "    dict[i] = [0]*len(dates)\n",
    "dft_cases = pd.DataFrame(dict)\n",
    "dft_deaths = pd.DataFrame(dict)\n"
   ]
  },
  {
   "cell_type": "code",
   "execution_count": 6,
   "id": "simplified-peter",
   "metadata": {
    "execution": {
     "iopub.execute_input": "2021-02-21T11:23:21.947942Z",
     "iopub.status.busy": "2021-02-21T11:23:21.947342Z",
     "iopub.status.idle": "2021-02-21T11:23:26.335807Z",
     "shell.execute_reply": "2021-02-21T11:23:26.335256Z"
    },
    "papermill": {
     "duration": 4.414024,
     "end_time": "2021-02-21T11:23:26.335983",
     "exception": false,
     "start_time": "2021-02-21T11:23:21.921959",
     "status": "completed"
    },
    "tags": []
   },
   "outputs": [],
   "source": [
    "#hide\n",
    "for i in range(len(dates)):\n",
    "    df1_deaths = df_deaths1.get_group(dates[i])\n",
    "    for j in range(len(df1_deaths.index)):\n",
    "        if df1_deaths.iloc[j,1] in arr_states:\n",
    "            dft_deaths.loc[i,df1_deaths.iloc[j,1]] = df1_deaths.iloc[j,2]\n",
    "dft_deaths = dft_deaths.set_index('states')"
   ]
  },
  {
   "cell_type": "code",
   "execution_count": 7,
   "id": "geological-welding",
   "metadata": {
    "execution": {
     "iopub.execute_input": "2021-02-21T11:23:26.379120Z",
     "iopub.status.busy": "2021-02-21T11:23:26.378410Z",
     "iopub.status.idle": "2021-02-21T11:23:30.807490Z",
     "shell.execute_reply": "2021-02-21T11:23:30.806612Z"
    },
    "papermill": {
     "duration": 4.453387,
     "end_time": "2021-02-21T11:23:30.807627",
     "exception": false,
     "start_time": "2021-02-21T11:23:26.354240",
     "status": "completed"
    },
    "tags": []
   },
   "outputs": [],
   "source": [
    "#hide\n",
    "for i in range(len(dates)):\n",
    "    df1_cases = df_cases1.get_group(dates[i])\n",
    "    for j in range(len(df1_cases.index)):\n",
    "        if df1_cases.iloc[j,1] in arr_states:\n",
    "            dft_cases.loc[i,df1_cases.iloc[j,1]] = df1_cases.iloc[j,2]\n",
    "dft_cases = dft_cases.set_index('states')"
   ]
  },
  {
   "cell_type": "code",
   "execution_count": 8,
   "id": "binary-ratio",
   "metadata": {
    "execution": {
     "iopub.execute_input": "2021-02-21T11:23:30.854002Z",
     "iopub.status.busy": "2021-02-21T11:23:30.852632Z",
     "iopub.status.idle": "2021-02-21T11:23:30.854829Z",
     "shell.execute_reply": "2021-02-21T11:23:30.855295Z"
    },
    "papermill": {
     "duration": 0.02995,
     "end_time": "2021-02-21T11:23:30.855423",
     "exception": false,
     "start_time": "2021-02-21T11:23:30.825473",
     "status": "completed"
    },
    "tags": []
   },
   "outputs": [],
   "source": [
    "#hide\n",
    "dft_cases = dft_cases.T\n",
    "dft_deaths = dft_deaths.T\n",
    "dt_today = dates[-1]\n",
    "dt_yday = dates[-2]"
   ]
  },
  {
   "cell_type": "code",
   "execution_count": 9,
   "id": "boolean-calculator",
   "metadata": {
    "execution": {
     "iopub.execute_input": "2021-02-21T11:23:30.897949Z",
     "iopub.status.busy": "2021-02-21T11:23:30.897192Z",
     "iopub.status.idle": "2021-02-21T11:23:30.902404Z",
     "shell.execute_reply": "2021-02-21T11:23:30.902860Z"
    },
    "papermill": {
     "duration": 0.029023,
     "end_time": "2021-02-21T11:23:30.902987",
     "exception": false,
     "start_time": "2021-02-21T11:23:30.873964",
     "status": "completed"
    },
    "tags": []
   },
   "outputs": [],
   "source": [
    "#hide\n",
    "dft_cases = dft_cases.reset_index()\n",
    "dft_deaths = dft_deaths.reset_index()\n",
    "dft_cases = dft_cases.rename(columns = {'index':'state'})\n",
    "dft_deaths = dft_deaths.rename(columns = {'index':'state'})"
   ]
  },
  {
   "cell_type": "code",
   "execution_count": 10,
   "id": "invisible-johnston",
   "metadata": {
    "execution": {
     "iopub.execute_input": "2021-02-21T11:23:30.952235Z",
     "iopub.status.busy": "2021-02-21T11:23:30.951635Z",
     "iopub.status.idle": "2021-02-21T11:23:30.955193Z",
     "shell.execute_reply": "2021-02-21T11:23:30.955685Z"
    },
    "papermill": {
     "duration": 0.035407,
     "end_time": "2021-02-21T11:23:30.955844",
     "exception": false,
     "start_time": "2021-02-21T11:23:30.920437",
     "status": "completed"
    },
    "tags": []
   },
   "outputs": [],
   "source": [
    "#hide\n",
    "dfc_cases = dft_cases.groupby('state')[dt_today].sum()\n",
    "dfc_deaths = dft_deaths.groupby('state')[dt_today].sum()\n",
    "dfp_cases = dft_cases.groupby('state')[dt_yday].sum()\n",
    "dfp_deaths = dft_deaths.groupby('state')[dt_yday].sum()"
   ]
  },
  {
   "cell_type": "code",
   "execution_count": 11,
   "id": "measured-great",
   "metadata": {
    "execution": {
     "iopub.execute_input": "2021-02-21T11:23:31.014382Z",
     "iopub.status.busy": "2021-02-21T11:23:31.009658Z",
     "iopub.status.idle": "2021-02-21T11:23:31.016466Z",
     "shell.execute_reply": "2021-02-21T11:23:31.017096Z"
    },
    "papermill": {
     "duration": 0.042264,
     "end_time": "2021-02-21T11:23:31.017242",
     "exception": false,
     "start_time": "2021-02-21T11:23:30.974978",
     "status": "completed"
    },
    "tags": []
   },
   "outputs": [
    {
     "data": {
      "text/html": [
       "<div>\n",
       "<style scoped>\n",
       "    .dataframe tbody tr th:only-of-type {\n",
       "        vertical-align: middle;\n",
       "    }\n",
       "\n",
       "    .dataframe tbody tr th {\n",
       "        vertical-align: top;\n",
       "    }\n",
       "\n",
       "    .dataframe thead th {\n",
       "        text-align: right;\n",
       "    }\n",
       "</style>\n",
       "<table border=\"1\" class=\"dataframe\">\n",
       "  <thead>\n",
       "    <tr style=\"text-align: right;\">\n",
       "      <th></th>\n",
       "      <th>states</th>\n",
       "      <th>Cases</th>\n",
       "      <th>Deaths</th>\n",
       "      <th>PCases</th>\n",
       "      <th>PDeaths</th>\n",
       "    </tr>\n",
       "  </thead>\n",
       "  <tbody>\n",
       "    <tr>\n",
       "      <th>0</th>\n",
       "      <td>Maharashtra</td>\n",
       "      <td>2093913</td>\n",
       "      <td>51753</td>\n",
       "      <td>2093913</td>\n",
       "      <td>51753</td>\n",
       "    </tr>\n",
       "    <tr>\n",
       "      <th>1</th>\n",
       "      <td>Kerala</td>\n",
       "      <td>1030588</td>\n",
       "      <td>4075</td>\n",
       "      <td>1030588</td>\n",
       "      <td>4075</td>\n",
       "    </tr>\n",
       "    <tr>\n",
       "      <th>2</th>\n",
       "      <td>Karnataka</td>\n",
       "      <td>947736</td>\n",
       "      <td>12292</td>\n",
       "      <td>947736</td>\n",
       "      <td>12292</td>\n",
       "    </tr>\n",
       "    <tr>\n",
       "      <th>3</th>\n",
       "      <td>Andhra Pradesh</td>\n",
       "      <td>889210</td>\n",
       "      <td>7167</td>\n",
       "      <td>889210</td>\n",
       "      <td>7167</td>\n",
       "    </tr>\n",
       "    <tr>\n",
       "      <th>4</th>\n",
       "      <td>Tamil Nadu</td>\n",
       "      <td>847823</td>\n",
       "      <td>12457</td>\n",
       "      <td>847823</td>\n",
       "      <td>12457</td>\n",
       "    </tr>\n",
       "  </tbody>\n",
       "</table>\n",
       "</div>"
      ],
      "text/plain": [
       "           states    Cases  Deaths   PCases  PDeaths\n",
       "0     Maharashtra  2093913   51753  2093913    51753\n",
       "1          Kerala  1030588    4075  1030588     4075\n",
       "2       Karnataka   947736   12292   947736    12292\n",
       "3  Andhra Pradesh   889210    7167   889210     7167\n",
       "4      Tamil Nadu   847823   12457   847823    12457"
      ]
     },
     "execution_count": 11,
     "metadata": {},
     "output_type": "execute_result"
    }
   ],
   "source": [
    "#hide\n",
    "df_table = pd.DataFrame({'states': dfc_cases.index, 'Cases': dfc_cases.values, 'Deaths': dfc_deaths.values, 'PCases': dfp_cases.values, 'PDeaths': dfp_deaths.values}).set_index('states')\n",
    "df_table = df_table.sort_values(by = ['Cases','Deaths'], ascending = [False, False])\n",
    "df_table = df_table.reset_index()\n",
    "df_table.head()"
   ]
  },
  {
   "cell_type": "code",
   "execution_count": 12,
   "id": "found-montreal",
   "metadata": {
    "execution": {
     "iopub.execute_input": "2021-02-21T11:23:31.062178Z",
     "iopub.status.busy": "2021-02-21T11:23:31.061529Z",
     "iopub.status.idle": "2021-02-21T11:23:31.070805Z",
     "shell.execute_reply": "2021-02-21T11:23:31.071998Z"
    },
    "papermill": {
     "duration": 0.0348,
     "end_time": "2021-02-21T11:23:31.072213",
     "exception": false,
     "start_time": "2021-02-21T11:23:31.037413",
     "status": "completed"
    },
    "tags": []
   },
   "outputs": [],
   "source": [
    "#hide\n",
    "for c in 'Cases, Deaths'.split(', '):\n",
    "    df_table[f'{c} (+)'] = (df_table[c] - df_table[f'P{c}']).clip(0)\n",
    "df_table['Fatality Rate'] = (100* df_table['Deaths']/ df_table['Cases']).round(2)"
   ]
  },
  {
   "cell_type": "code",
   "execution_count": 13,
   "id": "minus-savage",
   "metadata": {
    "execution": {
     "iopub.execute_input": "2021-02-21T11:23:31.126120Z",
     "iopub.status.busy": "2021-02-21T11:23:31.125526Z",
     "iopub.status.idle": "2021-02-21T11:23:31.128922Z",
     "shell.execute_reply": "2021-02-21T11:23:31.128392Z"
    },
    "papermill": {
     "duration": 0.034203,
     "end_time": "2021-02-21T11:23:31.129032",
     "exception": false,
     "start_time": "2021-02-21T11:23:31.094829",
     "status": "completed"
    },
    "tags": []
   },
   "outputs": [
    {
     "data": {
      "text/html": [
       "<div>\n",
       "<style scoped>\n",
       "    .dataframe tbody tr th:only-of-type {\n",
       "        vertical-align: middle;\n",
       "    }\n",
       "\n",
       "    .dataframe tbody tr th {\n",
       "        vertical-align: top;\n",
       "    }\n",
       "\n",
       "    .dataframe thead th {\n",
       "        text-align: right;\n",
       "    }\n",
       "</style>\n",
       "<table border=\"1\" class=\"dataframe\">\n",
       "  <thead>\n",
       "    <tr style=\"text-align: right;\">\n",
       "      <th></th>\n",
       "      <th>states</th>\n",
       "      <th>Cases</th>\n",
       "      <th>Deaths</th>\n",
       "      <th>PCases</th>\n",
       "      <th>PDeaths</th>\n",
       "      <th>Cases (+)</th>\n",
       "      <th>Deaths (+)</th>\n",
       "      <th>Fatality Rate</th>\n",
       "    </tr>\n",
       "  </thead>\n",
       "  <tbody>\n",
       "    <tr>\n",
       "      <th>0</th>\n",
       "      <td>Maharashtra</td>\n",
       "      <td>2093913</td>\n",
       "      <td>51753</td>\n",
       "      <td>2093913</td>\n",
       "      <td>51753</td>\n",
       "      <td>0</td>\n",
       "      <td>0</td>\n",
       "      <td>2.47</td>\n",
       "    </tr>\n",
       "    <tr>\n",
       "      <th>1</th>\n",
       "      <td>Kerala</td>\n",
       "      <td>1030588</td>\n",
       "      <td>4075</td>\n",
       "      <td>1030588</td>\n",
       "      <td>4075</td>\n",
       "      <td>0</td>\n",
       "      <td>0</td>\n",
       "      <td>0.40</td>\n",
       "    </tr>\n",
       "    <tr>\n",
       "      <th>2</th>\n",
       "      <td>Karnataka</td>\n",
       "      <td>947736</td>\n",
       "      <td>12292</td>\n",
       "      <td>947736</td>\n",
       "      <td>12292</td>\n",
       "      <td>0</td>\n",
       "      <td>0</td>\n",
       "      <td>1.30</td>\n",
       "    </tr>\n",
       "    <tr>\n",
       "      <th>3</th>\n",
       "      <td>Andhra Pradesh</td>\n",
       "      <td>889210</td>\n",
       "      <td>7167</td>\n",
       "      <td>889210</td>\n",
       "      <td>7167</td>\n",
       "      <td>0</td>\n",
       "      <td>0</td>\n",
       "      <td>0.81</td>\n",
       "    </tr>\n",
       "    <tr>\n",
       "      <th>4</th>\n",
       "      <td>Tamil Nadu</td>\n",
       "      <td>847823</td>\n",
       "      <td>12457</td>\n",
       "      <td>847823</td>\n",
       "      <td>12457</td>\n",
       "      <td>0</td>\n",
       "      <td>0</td>\n",
       "      <td>1.47</td>\n",
       "    </tr>\n",
       "  </tbody>\n",
       "</table>\n",
       "</div>"
      ],
      "text/plain": [
       "           states    Cases  Deaths   PCases  PDeaths  Cases (+)  Deaths (+)  \\\n",
       "0     Maharashtra  2093913   51753  2093913    51753          0           0   \n",
       "1          Kerala  1030588    4075  1030588     4075          0           0   \n",
       "2       Karnataka   947736   12292   947736    12292          0           0   \n",
       "3  Andhra Pradesh   889210    7167   889210     7167          0           0   \n",
       "4      Tamil Nadu   847823   12457   847823    12457          0           0   \n",
       "\n",
       "   Fatality Rate  \n",
       "0           2.47  \n",
       "1           0.40  \n",
       "2           1.30  \n",
       "3           0.81  \n",
       "4           1.47  "
      ]
     },
     "execution_count": 13,
     "metadata": {},
     "output_type": "execute_result"
    }
   ],
   "source": [
    "#hide\n",
    "df_table.head()"
   ]
  },
  {
   "cell_type": "code",
   "execution_count": 14,
   "id": "false-peter",
   "metadata": {
    "execution": {
     "iopub.execute_input": "2021-02-21T11:23:31.170863Z",
     "iopub.status.busy": "2021-02-21T11:23:31.170259Z",
     "iopub.status.idle": "2021-02-21T11:23:31.189091Z",
     "shell.execute_reply": "2021-02-21T11:23:31.189621Z"
    },
    "papermill": {
     "duration": 0.042092,
     "end_time": "2021-02-21T11:23:31.189774",
     "exception": false,
     "start_time": "2021-02-21T11:23:31.147682",
     "status": "completed"
    },
    "tags": []
   },
   "outputs": [
    {
     "data": {
      "text/plain": [
       "{'updated': '2021-02-21',\n",
       " 'since': '2021-02-20',\n",
       " 'Cases': 10991458,\n",
       " 'PCases': 10991092,\n",
       " 'Deaths': 156342,\n",
       " 'PDeaths': 156339,\n",
       " 'Cases (+)': 366,\n",
       " 'Deaths (+)': 3}"
      ]
     },
     "execution_count": 14,
     "metadata": {},
     "output_type": "execute_result"
    }
   ],
   "source": [
    "#hide\n",
    "summary = {'updated':dates[-1], 'since':dates[-2]}\n",
    "list_names = ['Cases', 'PCases', 'Deaths', 'PDeaths', 'Cases (+)', 'Deaths (+)']\n",
    "for name in list_names:\n",
    "    summary[name] = df_table.sum()[name]\n",
    "summary"
   ]
  },
  {
   "cell_type": "code",
   "execution_count": 15,
   "id": "packed-viewer",
   "metadata": {
    "execution": {
     "iopub.execute_input": "2021-02-21T11:23:31.232082Z",
     "iopub.status.busy": "2021-02-21T11:23:31.231485Z",
     "iopub.status.idle": "2021-02-21T11:23:31.234163Z",
     "shell.execute_reply": "2021-02-21T11:23:31.234797Z"
    },
    "papermill": {
     "duration": 0.025072,
     "end_time": "2021-02-21T11:23:31.234927",
     "exception": false,
     "start_time": "2021-02-21T11:23:31.209855",
     "status": "completed"
    },
    "tags": []
   },
   "outputs": [],
   "source": [
    "#hide\n",
    "overview = '''\n",
    "<!-- #######  HTML!! #########-->\n",
    "<h1 style=\"color: #5e9ca0; text-align: center;\">India</h1>\n",
    "<p style=\"text-align: center;\">Last update: <strong>{update}</strong></p>\n",
    "<p style=\"text-align: center;\">Confirmed cases:</p>\n",
    "<p style=\"text-align: center;font-size:24px;\">{cases} (<span style=\"color: #ff0000;\">+{new}</span>)</p>\n",
    "<p style=\"text-align: center;\">Confirmed deaths:</p>\n",
    "<p style=\"text-align: center;font-size:24px;\">{deaths} (<span style=\"color: #ff0000;\">+{dnew}</span>)</p>\n",
    "'''"
   ]
  },
  {
   "cell_type": "code",
   "execution_count": 16,
   "id": "phantom-lover",
   "metadata": {
    "execution": {
     "iopub.execute_input": "2021-02-21T11:23:31.278707Z",
     "iopub.status.busy": "2021-02-21T11:23:31.277928Z",
     "iopub.status.idle": "2021-02-21T11:23:31.280928Z",
     "shell.execute_reply": "2021-02-21T11:23:31.281404Z"
    },
    "papermill": {
     "duration": 0.027537,
     "end_time": "2021-02-21T11:23:31.281537",
     "exception": false,
     "start_time": "2021-02-21T11:23:31.254000",
     "status": "completed"
    },
    "tags": []
   },
   "outputs": [
    {
     "data": {
      "text/html": [
       "\n",
       "<!-- #######  HTML!! #########-->\n",
       "<h1 style=\"color: #5e9ca0; text-align: center;\">India</h1>\n",
       "<p style=\"text-align: center;\">Last update: <strong>2021-02-21</strong></p>\n",
       "<p style=\"text-align: center;\">Confirmed cases:</p>\n",
       "<p style=\"text-align: center;font-size:24px;\">10991458 (<span style=\"color: #ff0000;\">+366</span>)</p>\n",
       "<p style=\"text-align: center;\">Confirmed deaths:</p>\n",
       "<p style=\"text-align: center;font-size:24px;\">156342 (<span style=\"color: #ff0000;\">+3</span>)</p>\n"
      ],
      "text/plain": [
       "<IPython.core.display.HTML object>"
      ]
     },
     "metadata": {},
     "output_type": "display_data"
    }
   ],
   "source": [
    "#hide_input\n",
    "update = summary['updated']\n",
    "cases = summary['Cases']\n",
    "new = summary['Cases (+)']\n",
    "deaths = summary['Deaths']\n",
    "dnew = summary['Deaths (+)']\n",
    "\n",
    "html = HTML(overview.format(update=update, cases=cases,new=new,deaths=deaths,dnew=dnew))\n",
    "\n",
    "display(html)"
   ]
  },
  {
   "cell_type": "code",
   "execution_count": 17,
   "id": "sealed-reset",
   "metadata": {
    "execution": {
     "iopub.execute_input": "2021-02-21T11:23:31.324606Z",
     "iopub.status.busy": "2021-02-21T11:23:31.323996Z",
     "iopub.status.idle": "2021-02-21T11:23:31.331485Z",
     "shell.execute_reply": "2021-02-21T11:23:31.332014Z"
    },
    "papermill": {
     "duration": 0.031783,
     "end_time": "2021-02-21T11:23:31.332164",
     "exception": false,
     "start_time": "2021-02-21T11:23:31.300381",
     "status": "completed"
    },
    "tags": []
   },
   "outputs": [],
   "source": [
    "#hide\n",
    "dt_cols = list(dft_cases.columns[1:])\n",
    "dft_ct_new_cases = dft_cases.groupby('state')[dt_cols].sum().diff(axis=1).fillna(0).astype(int)\n",
    "dft_ct_new_cases.sort_values(by = dates[-1], ascending = False,inplace = True)"
   ]
  },
  {
   "cell_type": "code",
   "execution_count": 18,
   "id": "designed-constant",
   "metadata": {
    "execution": {
     "iopub.execute_input": "2021-02-21T11:23:31.389016Z",
     "iopub.status.busy": "2021-02-21T11:23:31.388030Z",
     "iopub.status.idle": "2021-02-21T11:23:31.390955Z",
     "shell.execute_reply": "2021-02-21T11:23:31.391623Z"
    },
    "papermill": {
     "duration": 0.041086,
     "end_time": "2021-02-21T11:23:31.391745",
     "exception": false,
     "start_time": "2021-02-21T11:23:31.350659",
     "status": "completed"
    },
    "tags": []
   },
   "outputs": [
    {
     "data": {
      "text/html": [
       "<div>\n",
       "<style scoped>\n",
       "    .dataframe tbody tr th:only-of-type {\n",
       "        vertical-align: middle;\n",
       "    }\n",
       "\n",
       "    .dataframe tbody tr th {\n",
       "        vertical-align: top;\n",
       "    }\n",
       "\n",
       "    .dataframe thead th {\n",
       "        text-align: right;\n",
       "    }\n",
       "</style>\n",
       "<table border=\"1\" class=\"dataframe\">\n",
       "  <thead>\n",
       "    <tr style=\"text-align: right;\">\n",
       "      <th>states</th>\n",
       "      <th>2020-07-01</th>\n",
       "      <th>2020-07-02</th>\n",
       "      <th>2020-07-03</th>\n",
       "      <th>2020-07-04</th>\n",
       "      <th>2020-07-05</th>\n",
       "      <th>2020-07-06</th>\n",
       "      <th>2020-07-07</th>\n",
       "      <th>2020-07-08</th>\n",
       "      <th>2020-07-09</th>\n",
       "      <th>2020-07-10</th>\n",
       "      <th>...</th>\n",
       "      <th>2021-02-12</th>\n",
       "      <th>2021-02-13</th>\n",
       "      <th>2021-02-14</th>\n",
       "      <th>2021-02-15</th>\n",
       "      <th>2021-02-16</th>\n",
       "      <th>2021-02-17</th>\n",
       "      <th>2021-02-18</th>\n",
       "      <th>2021-02-19</th>\n",
       "      <th>2021-02-20</th>\n",
       "      <th>2021-02-21</th>\n",
       "    </tr>\n",
       "    <tr>\n",
       "      <th>state</th>\n",
       "      <th></th>\n",
       "      <th></th>\n",
       "      <th></th>\n",
       "      <th></th>\n",
       "      <th></th>\n",
       "      <th></th>\n",
       "      <th></th>\n",
       "      <th></th>\n",
       "      <th></th>\n",
       "      <th></th>\n",
       "      <th></th>\n",
       "      <th></th>\n",
       "      <th></th>\n",
       "      <th></th>\n",
       "      <th></th>\n",
       "      <th></th>\n",
       "      <th></th>\n",
       "      <th></th>\n",
       "      <th></th>\n",
       "      <th></th>\n",
       "      <th></th>\n",
       "    </tr>\n",
       "  </thead>\n",
       "  <tbody>\n",
       "    <tr>\n",
       "      <th>Telangana</th>\n",
       "      <td>0</td>\n",
       "      <td>1213</td>\n",
       "      <td>1892</td>\n",
       "      <td>1850</td>\n",
       "      <td>1590</td>\n",
       "      <td>1831</td>\n",
       "      <td>1879</td>\n",
       "      <td>1924</td>\n",
       "      <td>1410</td>\n",
       "      <td>1278</td>\n",
       "      <td>...</td>\n",
       "      <td>143</td>\n",
       "      <td>151</td>\n",
       "      <td>146</td>\n",
       "      <td>99</td>\n",
       "      <td>129</td>\n",
       "      <td>148</td>\n",
       "      <td>163</td>\n",
       "      <td>165</td>\n",
       "      <td>157</td>\n",
       "      <td>163</td>\n",
       "    </tr>\n",
       "    <tr>\n",
       "      <th>Delhi</th>\n",
       "      <td>0</td>\n",
       "      <td>2373</td>\n",
       "      <td>2520</td>\n",
       "      <td>2505</td>\n",
       "      <td>2244</td>\n",
       "      <td>1379</td>\n",
       "      <td>2008</td>\n",
       "      <td>2033</td>\n",
       "      <td>2187</td>\n",
       "      <td>2089</td>\n",
       "      <td>...</td>\n",
       "      <td>141</td>\n",
       "      <td>126</td>\n",
       "      <td>150</td>\n",
       "      <td>141</td>\n",
       "      <td>94</td>\n",
       "      <td>134</td>\n",
       "      <td>130</td>\n",
       "      <td>158</td>\n",
       "      <td>152</td>\n",
       "      <td>145</td>\n",
       "    </tr>\n",
       "    <tr>\n",
       "      <th>Odisha</th>\n",
       "      <td>0</td>\n",
       "      <td>229</td>\n",
       "      <td>561</td>\n",
       "      <td>495</td>\n",
       "      <td>469</td>\n",
       "      <td>456</td>\n",
       "      <td>571</td>\n",
       "      <td>527</td>\n",
       "      <td>577</td>\n",
       "      <td>755</td>\n",
       "      <td>...</td>\n",
       "      <td>58</td>\n",
       "      <td>59</td>\n",
       "      <td>73</td>\n",
       "      <td>88</td>\n",
       "      <td>60</td>\n",
       "      <td>75</td>\n",
       "      <td>63</td>\n",
       "      <td>53</td>\n",
       "      <td>65</td>\n",
       "      <td>58</td>\n",
       "    </tr>\n",
       "    <tr>\n",
       "      <th>Andaman and Nicobar Islands</th>\n",
       "      <td>0</td>\n",
       "      <td>9</td>\n",
       "      <td>7</td>\n",
       "      <td>3</td>\n",
       "      <td>6</td>\n",
       "      <td>16</td>\n",
       "      <td>6</td>\n",
       "      <td>2</td>\n",
       "      <td>7</td>\n",
       "      <td>0</td>\n",
       "      <td>...</td>\n",
       "      <td>0</td>\n",
       "      <td>2</td>\n",
       "      <td>0</td>\n",
       "      <td>0</td>\n",
       "      <td>4</td>\n",
       "      <td>1</td>\n",
       "      <td>0</td>\n",
       "      <td>0</td>\n",
       "      <td>0</td>\n",
       "      <td>0</td>\n",
       "    </tr>\n",
       "    <tr>\n",
       "      <th>Punjab</th>\n",
       "      <td>0</td>\n",
       "      <td>116</td>\n",
       "      <td>153</td>\n",
       "      <td>172</td>\n",
       "      <td>174</td>\n",
       "      <td>208</td>\n",
       "      <td>258</td>\n",
       "      <td>158</td>\n",
       "      <td>233</td>\n",
       "      <td>217</td>\n",
       "      <td>...</td>\n",
       "      <td>246</td>\n",
       "      <td>260</td>\n",
       "      <td>234</td>\n",
       "      <td>222</td>\n",
       "      <td>247</td>\n",
       "      <td>341</td>\n",
       "      <td>268</td>\n",
       "      <td>383</td>\n",
       "      <td>352</td>\n",
       "      <td>0</td>\n",
       "    </tr>\n",
       "  </tbody>\n",
       "</table>\n",
       "<p>5 rows × 236 columns</p>\n",
       "</div>"
      ],
      "text/plain": [
       "states                       2020-07-01  2020-07-02  2020-07-03  2020-07-04  \\\n",
       "state                                                                         \n",
       "Telangana                             0        1213        1892        1850   \n",
       "Delhi                                 0        2373        2520        2505   \n",
       "Odisha                                0         229         561         495   \n",
       "Andaman and Nicobar Islands           0           9           7           3   \n",
       "Punjab                                0         116         153         172   \n",
       "\n",
       "states                       2020-07-05  2020-07-06  2020-07-07  2020-07-08  \\\n",
       "state                                                                         \n",
       "Telangana                          1590        1831        1879        1924   \n",
       "Delhi                              2244        1379        2008        2033   \n",
       "Odisha                              469         456         571         527   \n",
       "Andaman and Nicobar Islands           6          16           6           2   \n",
       "Punjab                              174         208         258         158   \n",
       "\n",
       "states                       2020-07-09  2020-07-10  ...  2021-02-12  \\\n",
       "state                                                ...               \n",
       "Telangana                          1410        1278  ...         143   \n",
       "Delhi                              2187        2089  ...         141   \n",
       "Odisha                              577         755  ...          58   \n",
       "Andaman and Nicobar Islands           7           0  ...           0   \n",
       "Punjab                              233         217  ...         246   \n",
       "\n",
       "states                       2021-02-13  2021-02-14  2021-02-15  2021-02-16  \\\n",
       "state                                                                         \n",
       "Telangana                           151         146          99         129   \n",
       "Delhi                               126         150         141          94   \n",
       "Odisha                               59          73          88          60   \n",
       "Andaman and Nicobar Islands           2           0           0           4   \n",
       "Punjab                              260         234         222         247   \n",
       "\n",
       "states                       2021-02-17  2021-02-18  2021-02-19  2021-02-20  \\\n",
       "state                                                                         \n",
       "Telangana                           148         163         165         157   \n",
       "Delhi                               134         130         158         152   \n",
       "Odisha                               75          63          53          65   \n",
       "Andaman and Nicobar Islands           1           0           0           0   \n",
       "Punjab                              341         268         383         352   \n",
       "\n",
       "states                       2021-02-21  \n",
       "state                                    \n",
       "Telangana                           163  \n",
       "Delhi                               145  \n",
       "Odisha                               58  \n",
       "Andaman and Nicobar Islands           0  \n",
       "Punjab                                0  \n",
       "\n",
       "[5 rows x 236 columns]"
      ]
     },
     "execution_count": 18,
     "metadata": {},
     "output_type": "execute_result"
    }
   ],
   "source": [
    "#hide\n",
    "dft_ct_new_cases.head()"
   ]
  },
  {
   "cell_type": "code",
   "execution_count": 19,
   "id": "responsible-nightlife",
   "metadata": {
    "execution": {
     "iopub.execute_input": "2021-02-21T11:23:31.451553Z",
     "iopub.status.busy": "2021-02-21T11:23:31.441181Z",
     "iopub.status.idle": "2021-02-21T11:23:42.083528Z",
     "shell.execute_reply": "2021-02-21T11:23:42.084032Z"
    },
    "papermill": {
     "duration": 10.671692,
     "end_time": "2021-02-21T11:23:42.084187",
     "exception": false,
     "start_time": "2021-02-21T11:23:31.412495",
     "status": "completed"
    },
    "tags": []
   },
   "outputs": [
    {
     "data": {
      "image/png": "[encoded data removed]",
      "text/plain": [
       "<Figure size 1296x2016 with 11 Axes>"
      ]
     },
     "metadata": {
      "needs_background": "light"
     },
     "output_type": "display_data"
    }
   ],
   "source": [
    "#hide_input\n",
    "df = dft_ct_new_cases.copy()\n",
    "df.loc['Total'] = df.sum()\n",
    "n = 5\n",
    "ax = []\n",
    "fig = plt.figure(figsize = (18,28))\n",
    "gs = fig.add_gridspec(n+2, 5)\n",
    "# gs = fig.add_gridspec(2, 3)\n",
    "ax1 = fig.add_subplot(gs[0, :])\n",
    "ef = df.loc['Total'].rename_axis('date').reset_index()\n",
    "ef['date'] = ef['date'].astype('datetime64[ns]')\n",
    "ax1.bar(ef.date,ef.Total,alpha=0.3,color='#007acc')\n",
    "ax1.plot(ef.date,ef.Total , marker=\"o\", color='#007acc')\n",
    "ax1.xaxis.set_major_locator(mdates.WeekdayLocator())\n",
    "ax1.xaxis.set_major_formatter(mdates.DateFormatter('%b %d'))\n",
    "ax1.text(0.02, 0.5,'India daily case count', transform = ax1.transAxes, fontsize=25);\n",
    "ax1.spines['right'].set_visible(False)\n",
    "ax1.spines['top'].set_visible(False)\n",
    "\n",
    "ax2 = fig.add_subplot(gs[1,0])\n",
    "ef = df.loc['Maharashtra'].rename_axis('date').reset_index()\n",
    "ef['date'] = ef['date'].astype('datetime64[ns]')\n",
    "\n",
    "ax2.bar(ef.date, ef.Maharashtra,color = '#007acc',alpha=0.5)\n",
    "ax2.xaxis.set_major_locator(mdates.WeekdayLocator())\n",
    "ax2.xaxis.set_major_formatter(mdates.DateFormatter('%b %d'))\n",
    "ax2.set_xticks(ax2.get_xticks()[::3])\n",
    "maxyval = ef.Maharashtra.max()\n",
    "ax2.set_ylim([0,maxyval])\n",
    "ax2.text(0.05, 0.9,'Maharashtra', transform = ax2.transAxes, fontsize=20);\n",
    "ax2.spines['right'].set_visible(False)\n",
    "ax2.spines['top'].set_visible(False)\n",
    "\n",
    "\n",
    "ax3 = fig.add_subplot(gs[1,1])\n",
    "ef = df.loc['Tamil Nadu'].rename_axis('date').reset_index()\n",
    "ef['date'] = ef['date'].astype('datetime64[ns]')\n",
    "ax3.bar(ef.date, ef['Tamil Nadu'],color = '#007acc',alpha=0.5,)\n",
    "ax3.xaxis.set_major_locator(mdates.WeekdayLocator())\n",
    "ax3.xaxis.set_major_formatter(mdates.DateFormatter('%b %d'))\n",
    "ax3.set_xticks(ax3.get_xticks()[::3])\n",
    "ax3.text(0.05, 0.9,'Tamil Nadu', transform = ax3.transAxes, fontsize=20);\n",
    "ax3.spines['right'].set_visible(False)\n",
    "ax3.spines['top'].set_visible(False)\n",
    "\n",
    "ax5 = fig.add_subplot(gs[1,3])\n",
    "ef = df.loc['Telangana'].rename_axis('date').reset_index()\n",
    "ef['date'] = ef['date'].astype('datetime64[ns]')\n",
    "ax5.bar(ef.date, ef['Telangana'],color = '#007acc',alpha=0.5,)\n",
    "ax5.xaxis.set_major_locator(mdates.WeekdayLocator())\n",
    "ax5.xaxis.set_major_formatter(mdates.DateFormatter('%b %d'))\n",
    "ax5.set_xticks(ax5.get_xticks()[::3])\n",
    "ax5.text(0.05, 0.9,'Telangana', transform = ax5.transAxes, fontsize=20);\n",
    "ax5.spines['right'].set_visible(False)\n",
    "ax5.spines['top'].set_visible(False)\n",
    "\n",
    "ax6 = fig.add_subplot(gs[1,4])\n",
    "ef = df.loc['Andhra Pradesh'].rename_axis('date').reset_index()\n",
    "ef['date'] = ef['date'].astype('datetime64[ns]')\n",
    "ax6.bar(ef.date, ef['Andhra Pradesh'],color = '#007acc',alpha=0.5,)\n",
    "ax6.xaxis.set_major_locator(mdates.WeekdayLocator())\n",
    "ax6.xaxis.set_major_formatter(mdates.DateFormatter('%b %d'))\n",
    "ax6.set_xticks(ax6.get_xticks()[::3])\n",
    "ax6.text(0.05, 1,'Andhra Pradesh', transform = ax6.transAxes, fontsize=20);\n",
    "ax6.spines['right'].set_visible(False)\n",
    "ax6.spines['top'].set_visible(False)\n",
    "\n",
    "ax4 = fig.add_subplot(gs[1,2])\n",
    "ef = df.loc['Delhi'].rename_axis('date').reset_index()\n",
    "ef['date'] = ef['date'].astype('datetime64[ns]')\n",
    "ax4.bar(ef.date, ef.Delhi,color = '#007acc',alpha=0.5)\n",
    "ax4.set_xticks([])\n",
    "ax4.xaxis.set_major_locator(mdates.WeekdayLocator())\n",
    "ax4.xaxis.set_major_formatter(mdates.DateFormatter('%b %d'))\n",
    "ax4.set_xticks(ax4.get_xticks()[::3])\n",
    "ax4.spines['right'].set_visible(False)\n",
    "ax4.spines['top'].set_visible(False)\n",
    "\n",
    "ax4.text(0.05, 1,'Delhi', transform = ax4.transAxes, fontsize=20)\n",
    "\n",
    "for i in range(n):\n",
    "    \n",
    "    ax.append(fig.add_subplot(gs[i+2,:]))\n",
    "    ef = df.iloc[i+3].rename_axis('date').reset_index()\n",
    "    ef['date'] = ef['date'].astype('datetime64[ns]')\n",
    "    ax[i].bar(ef.date,ef.iloc[:,-1],color = '#007acc',alpha=0.3)\n",
    "    ax[i].plot(ef.date,ef.iloc[:,-1],marker='o',color='#007acc')\n",
    "    ax[i].text(0.02,0.5,f'{ef.columns.values[-1]}',transform = ax[i].transAxes, fontsize = 20);\n",
    "    ax[i].xaxis.set_major_locator(mdates.WeekdayLocator())\n",
    "    ax[i].xaxis.set_major_formatter(mdates.DateFormatter('%b %d'))\n",
    "    ax[i].set_ylim([0,7000])\n",
    "    ax[i].spines['right'].set_visible(False)\n",
    "    ax[i].spines['top'].set_visible(False)\n",
    "plt.tight_layout()\n"
   ]
  },
  {
   "cell_type": "code",
   "execution_count": 20,
   "id": "dress-forge",
   "metadata": {
    "execution": {
     "iopub.execute_input": "2021-02-21T11:23:42.146601Z",
     "iopub.status.busy": "2021-02-21T11:23:42.145735Z",
     "iopub.status.idle": "2021-02-21T11:23:42.149680Z",
     "shell.execute_reply": "2021-02-21T11:23:42.149213Z"
    },
    "papermill": {
     "duration": 0.041199,
     "end_time": "2021-02-21T11:23:42.149798",
     "exception": false,
     "start_time": "2021-02-21T11:23:42.108599",
     "status": "completed"
    },
    "tags": []
   },
   "outputs": [
    {
     "name": "stdout",
     "output_type": "stream",
     "text": [
      "                                   states    Cases  Deaths   PCases  PDeaths  Cases (+)  Deaths (+)  Fatality Rate\n",
      "                              Maharashtra  2093913   51753  2093913    51753          0           0           2.47\n",
      "                                   Kerala  1030588    4075  1030588     4075          0           0           0.40\n",
      "                                Karnataka   947736   12292   947736    12292          0           0           1.30\n",
      "                           Andhra Pradesh   889210    7167   889210     7167          0           0           0.81\n",
      "                               Tamil Nadu   847823   12457   847823    12457          0           0           1.47\n",
      "                                    Delhi   637900   10900   637755    10898        145           2           1.71\n",
      "                            Uttar Pradesh   602706    8714   602706     8714          0           0           1.45\n",
      "                              West Bengal   573580   10246   573580    10246          0           0           1.79\n",
      "                                   Odisha   336636    1967   336578     1967         58           0           0.58\n",
      "                                Rajasthan   319461    2785   319461     2785          0           0           0.87\n",
      "                             Chhattisgarh   310732    3795   310732     3795          0           0           1.22\n",
      "                                Telangana   297598    1624   297435     1623        163           1           0.55\n",
      "                                  Haryana   269609    3042   269609     3042          0           0           1.13\n",
      "                                  Gujarat   266821    4404   266821     4404          0           0           1.65\n",
      "                                    Bihar   262066    1534   262066     1534          0           0           0.59\n",
      "                           Madhya Pradesh   259128    3850   259128     3850          0           0           1.49\n",
      "                                    Assam   217383    1091   217383     1091          0           0           0.50\n",
      "                                   Punjab   178111    5748   178111     5748          0           0           3.23\n",
      "                        Jammu and Kashmir   125783    1954   125783     1954          0           0           1.55\n",
      "                                Jharkhand   119565    1084   119565     1084          0           0           0.91\n",
      "                              Uttarakhand    96657    1686    96657     1686          0           0           1.74\n",
      "                         Himachal Pradesh    58366     981    58366      981          0           0           1.68\n",
      "                                      Goa    54523     787    54523      787          0           0           1.44\n",
      "                               Puducherry    39569     662    39569      662          0           0           1.67\n",
      "                                  Tripura    33389     388    33389      388          0           0           1.16\n",
      "                                  Manipur    29233     373    29233      373          0           0           1.28\n",
      "                               Chandigarh    21397     349    21397      349          0           0           1.63\n",
      "                        Arunachal Pradesh    16836      56    16836       56          0           0           0.33\n",
      "                                Meghalaya    13952     148    13952      148          0           0           1.06\n",
      "                                 Nagaland    12191      91    12191       91          0           0           0.75\n",
      "                                   Ladakh     9786     130     9786      130          0           0           1.33\n",
      "                                   Sikkim     6128     135     6128      135          0           0           2.20\n",
      "              Andaman and Nicobar Islands     5014      62     5014       62          0           0           1.24\n",
      "                                  Mizoram     4407      10     4407       10          0           0           0.23\n",
      " Dadra and Nagar Haveli and Daman and Diu     3384       2     3384        2          0           0           0.06\n",
      "                              Lakshadweep      277       0      277        0          0           0           0.00\n"
     ]
    }
   ],
   "source": [
    "#hide_input\n",
    "print(df_table.to_string(index=False))"
   ]
  },
  {
   "cell_type": "code",
   "execution_count": null,
   "id": "quantitative-legend",
   "metadata": {
    "papermill": {
     "duration": 0.026893,
     "end_time": "2021-02-21T11:23:42.202834",
     "exception": false,
     "start_time": "2021-02-21T11:23:42.175941",
     "status": "completed"
    },
    "tags": []
   },
   "outputs": [],
   "source": []
  },
  {
   "cell_type": "code",
   "execution_count": null,
   "id": "distant-acoustic",
   "metadata": {
    "papermill": {
     "duration": 0.026605,
     "end_time": "2021-02-21T11:23:42.255976",
     "exception": false,
     "start_time": "2021-02-21T11:23:42.229371",
     "status": "completed"
    },
    "tags": []
   },
   "outputs": [],
   "source": []
  }
 ],
 "metadata": {
  "kernelspec": {
   "display_name": "Python 3",
   "language": "python",
   "name": "python3"
  },
  "language_info": {
   "codemirror_mode": {
    "name": "ipython",
    "version": 3
   },
   "file_extension": ".py",
   "mimetype": "text/x-python",
   "name": "python",
   "nbconvert_exporter": "python",
   "pygments_lexer": "ipython3",
   "version": "3.6.12"
  },
  "papermill": {
   "duration": 23.220194,
   "end_time": "2021-02-21T11:23:42.792541",
   "environment_variables": {},
   "exception": null,
   "input_path": "latest.ipynb",
   "output_path": "latest.ipynb",
   "parameters": {},
   "start_time": "2021-02-21T11:23:19.572347",
   "version": "2.1.2"
  }
 },
 "nbformat": 4,
 "nbformat_minor": 5
}