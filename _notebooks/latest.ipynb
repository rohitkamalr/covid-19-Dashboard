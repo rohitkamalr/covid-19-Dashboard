{
 "cells": [
  {
   "cell_type": "markdown",
   "metadata": {
    "papermill": {
     "duration": 0.019625,
     "end_time": "2020-10-03T13:21:35.907737",
     "exception": false,
     "start_time": "2020-10-03T13:21:35.888112",
     "status": "completed"
    },
    "tags": []
   },
   "source": [
    "# Latest COVID-19 India Matplotlib Overview"
   ]
  },
  {
   "cell_type": "code",
   "execution_count": 1,
   "metadata": {
    "execution": {
     "iopub.execute_input": "2020-10-03T13:21:35.946149Z",
     "iopub.status.busy": "2020-10-03T13:21:35.945541Z",
     "iopub.status.idle": "2020-10-03T13:21:36.492076Z",
     "shell.execute_reply": "2020-10-03T13:21:36.492557Z"
    },
    "papermill": {
     "duration": 0.570018,
     "end_time": "2020-10-03T13:21:36.492730",
     "exception": false,
     "start_time": "2020-10-03T13:21:35.922712",
     "status": "completed"
    },
    "tags": []
   },
   "outputs": [],
   "source": [
    "#hide\n",
    "import pandas as pd\n",
    "import numpy as np\n",
    "import requests\n",
    "import json\n",
    "import matplotlib.pyplot as plt\n",
    "import matplotlib.dates as mdates\n",
    "import matplotlib as mpl\n",
    "from IPython.core.display import display,HTML\n",
    "%matplotlib inline\n",
    "from datetime import date"
   ]
  },
  {
   "cell_type": "code",
   "execution_count": 2,
   "metadata": {
    "execution": {
     "iopub.execute_input": "2020-10-03T13:21:36.529292Z",
     "iopub.status.busy": "2020-10-03T13:21:36.528692Z",
     "iopub.status.idle": "2020-10-03T13:21:36.826100Z",
     "shell.execute_reply": "2020-10-03T13:21:36.825235Z"
    },
    "papermill": {
     "duration": 0.318306,
     "end_time": "2020-10-03T13:21:36.826251",
     "exception": false,
     "start_time": "2020-10-03T13:21:36.507945",
     "status": "completed"
    },
    "tags": []
   },
   "outputs": [],
   "source": [
    "#hide\n",
    "df  = pd.read_csv('https://api.covid19india.org/csv/latest/states.csv')\n",
    "df = df[['Date','State','Confirmed','Deceased']]\n",
    "df = df.rename(columns={'Confirmed':'Cases', \"Deceased\":'Deaths'})\n",
    "df_cases = df[[\"Date\",'State','Cases']]\n",
    "df_deaths = df[['Date','State','Deaths']]\n",
    "df_cases1 = df_cases.groupby('Date')\n",
    "df_deaths1= df_deaths.groupby('Date')"
   ]
  },
  {
   "cell_type": "code",
   "execution_count": 3,
   "metadata": {
    "execution": {
     "iopub.execute_input": "2020-10-03T13:21:36.861414Z",
     "iopub.status.busy": "2020-10-03T13:21:36.860833Z",
     "iopub.status.idle": "2020-10-03T13:21:36.880890Z",
     "shell.execute_reply": "2020-10-03T13:21:36.880241Z"
    },
    "papermill": {
     "duration": 0.040504,
     "end_time": "2020-10-03T13:21:36.881070",
     "exception": false,
     "start_time": "2020-10-03T13:21:36.840566",
     "status": "completed"
    },
    "tags": []
   },
   "outputs": [],
   "source": [
    "#hide\n",
    "df_snap = pd.read_csv('data/SnapshotCases-28-July.csv')\n",
    "arr_states = df_snap['states'].unique()\n",
    "arr_dates = df['Date'].unique()\n",
    "df_snap = df_snap.set_index('states')"
   ]
  },
  {
   "cell_type": "code",
   "execution_count": 4,
   "metadata": {
    "execution": {
     "iopub.execute_input": "2020-10-03T13:21:36.921380Z",
     "iopub.status.busy": "2020-10-03T13:21:36.920786Z",
     "iopub.status.idle": "2020-10-03T13:21:36.922828Z",
     "shell.execute_reply": "2020-10-03T13:21:36.923263Z"
    },
    "papermill": {
     "duration": 0.025805,
     "end_time": "2020-10-03T13:21:36.923397",
     "exception": false,
     "start_time": "2020-10-03T13:21:36.897592",
     "status": "completed"
    },
    "tags": []
   },
   "outputs": [
    {
     "data": {
      "text/plain": [
       "array(['Andaman and Nicobar Islands', 'Andhra Pradesh',\n",
       "       'Arunachal Pradesh', 'Assam', 'Bihar', 'Chandigarh',\n",
       "       'Dadra and Nagar Haveli and Daman and Diu', 'Delhi', 'Goa',\n",
       "       'Gujarat', 'Haryana', 'Himachal Pradesh', 'Jammu and Kashmir',\n",
       "       'Jharkhand', 'Karnataka', 'Kerala', 'Lakshadweep',\n",
       "       'Madhya Pradesh', 'Maharashtra', 'Manipur', 'Meghalaya', 'Mizoram',\n",
       "       'Nagaland', 'Odisha', 'Puducherry', 'Punjab', 'Rajasthan',\n",
       "       'Sikkim', 'Tamil Nadu', 'Telangana', 'Tripura', 'Uttar Pradesh',\n",
       "       'West Bengal', 'Chhattisgarh', 'Ladakh', 'Uttarakhand'],\n",
       "      dtype=object)"
      ]
     },
     "execution_count": 4,
     "metadata": {},
     "output_type": "execute_result"
    }
   ],
   "source": [
    "#hide\n",
    "arr_states[-9] = 'Puducherry'\n",
    "arr_states[-10] = 'Odisha'\n",
    "arr_states[6] = 'Dadra and Nagar Haveli and Daman and Diu'\n",
    "arr_states = np.append(arr_states,np.array(['Chhattisgarh','Ladakh','Uttarakhand']))\n",
    "arr_states"
   ]
  },
  {
   "cell_type": "code",
   "execution_count": 5,
   "metadata": {
    "execution": {
     "iopub.execute_input": "2020-10-03T13:21:36.963316Z",
     "iopub.status.busy": "2020-10-03T13:21:36.960883Z",
     "iopub.status.idle": "2020-10-03T13:21:36.970616Z",
     "shell.execute_reply": "2020-10-03T13:21:36.970132Z"
    },
    "papermill": {
     "duration": 0.032574,
     "end_time": "2020-10-03T13:21:36.970743",
     "exception": false,
     "start_time": "2020-10-03T13:21:36.938169",
     "status": "completed"
    },
    "tags": []
   },
   "outputs": [],
   "source": [
    "#hide\n",
    "dates = []\n",
    "for i in arr_dates:\n",
    "    if i>='2020-07-01':\n",
    "        dates.append(i)\n",
    "dict = {'states':dates}\n",
    "for i in arr_states:\n",
    "    dict[i] = [0]*len(dates)\n",
    "dft_cases = pd.DataFrame(dict)\n",
    "dft_deaths = pd.DataFrame(dict)\n"
   ]
  },
  {
   "cell_type": "code",
   "execution_count": 6,
   "metadata": {
    "execution": {
     "iopub.execute_input": "2020-10-03T13:21:37.007325Z",
     "iopub.status.busy": "2020-10-03T13:21:37.006752Z",
     "iopub.status.idle": "2020-10-03T13:21:38.231210Z",
     "shell.execute_reply": "2020-10-03T13:21:38.230305Z"
    },
    "papermill": {
     "duration": 1.245583,
     "end_time": "2020-10-03T13:21:38.231429",
     "exception": false,
     "start_time": "2020-10-03T13:21:36.985846",
     "status": "completed"
    },
    "tags": []
   },
   "outputs": [],
   "source": [
    "#hide\n",
    "for i in range(len(dates)):\n",
    "    df1_deaths = df_deaths1.get_group(dates[i])\n",
    "    for j in range(len(df1_deaths.index)):\n",
    "        if df1_deaths.iloc[j,1] in arr_states:\n",
    "            dft_deaths.loc[i,df1_deaths.iloc[j,1]] = df1_deaths.iloc[j,2]\n",
    "dft_deaths = dft_deaths.set_index('states')"
   ]
  },
  {
   "cell_type": "code",
   "execution_count": 7,
   "metadata": {
    "execution": {
     "iopub.execute_input": "2020-10-03T13:21:38.269537Z",
     "iopub.status.busy": "2020-10-03T13:21:38.268955Z",
     "iopub.status.idle": "2020-10-03T13:21:39.465137Z",
     "shell.execute_reply": "2020-10-03T13:21:39.464264Z"
    },
    "papermill": {
     "duration": 1.21772,
     "end_time": "2020-10-03T13:21:39.465364",
     "exception": false,
     "start_time": "2020-10-03T13:21:38.247644",
     "status": "completed"
    },
    "tags": []
   },
   "outputs": [],
   "source": [
    "#hide\n",
    "for i in range(len(dates)):\n",
    "    df1_cases = df_cases1.get_group(dates[i])\n",
    "    for j in range(len(df1_cases.index)):\n",
    "        if df1_cases.iloc[j,1] in arr_states:\n",
    "            dft_cases.loc[i,df1_cases.iloc[j,1]] = df1_cases.iloc[j,2]\n",
    "dft_cases = dft_cases.set_index('states')"
   ]
  },
  {
   "cell_type": "code",
   "execution_count": 8,
   "metadata": {
    "execution": {
     "iopub.execute_input": "2020-10-03T13:21:39.503532Z",
     "iopub.status.busy": "2020-10-03T13:21:39.502951Z",
     "iopub.status.idle": "2020-10-03T13:21:39.506907Z",
     "shell.execute_reply": "2020-10-03T13:21:39.506443Z"
    },
    "papermill": {
     "duration": 0.024315,
     "end_time": "2020-10-03T13:21:39.507033",
     "exception": false,
     "start_time": "2020-10-03T13:21:39.482718",
     "status": "completed"
    },
    "tags": []
   },
   "outputs": [],
   "source": [
    "#hide\n",
    "dft_cases = dft_cases.T\n",
    "dft_deaths = dft_deaths.T\n",
    "dt_today = dates[-1]\n",
    "dt_yday = dates[-2]"
   ]
  },
  {
   "cell_type": "code",
   "execution_count": 9,
   "metadata": {
    "execution": {
     "iopub.execute_input": "2020-10-03T13:21:39.544612Z",
     "iopub.status.busy": "2020-10-03T13:21:39.544002Z",
     "iopub.status.idle": "2020-10-03T13:21:39.546404Z",
     "shell.execute_reply": "2020-10-03T13:21:39.546864Z"
    },
    "papermill": {
     "duration": 0.025116,
     "end_time": "2020-10-03T13:21:39.546997",
     "exception": false,
     "start_time": "2020-10-03T13:21:39.521881",
     "status": "completed"
    },
    "tags": []
   },
   "outputs": [],
   "source": [
    "#hide\n",
    "dft_cases = dft_cases.reset_index()\n",
    "dft_deaths = dft_deaths.reset_index()\n",
    "dft_cases = dft_cases.rename(columns = {'index':'state'})\n",
    "dft_deaths = dft_deaths.rename(columns = {'index':'state'})"
   ]
  },
  {
   "cell_type": "code",
   "execution_count": 10,
   "metadata": {
    "execution": {
     "iopub.execute_input": "2020-10-03T13:21:39.587323Z",
     "iopub.status.busy": "2020-10-03T13:21:39.586750Z",
     "iopub.status.idle": "2020-10-03T13:21:39.591107Z",
     "shell.execute_reply": "2020-10-03T13:21:39.590568Z"
    },
    "papermill": {
     "duration": 0.028944,
     "end_time": "2020-10-03T13:21:39.591217",
     "exception": false,
     "start_time": "2020-10-03T13:21:39.562273",
     "status": "completed"
    },
    "tags": []
   },
   "outputs": [],
   "source": [
    "#hide\n",
    "dfc_cases = dft_cases.groupby('state')[dt_today].sum()\n",
    "dfc_deaths = dft_deaths.groupby('state')[dt_today].sum()\n",
    "dfp_cases = dft_cases.groupby('state')[dt_yday].sum()\n",
    "dfp_deaths = dft_deaths.groupby('state')[dt_yday].sum()"
   ]
  },
  {
   "cell_type": "code",
   "execution_count": 11,
   "metadata": {
    "execution": {
     "iopub.execute_input": "2020-10-03T13:21:39.633502Z",
     "iopub.status.busy": "2020-10-03T13:21:39.632918Z",
     "iopub.status.idle": "2020-10-03T13:21:39.640469Z",
     "shell.execute_reply": "2020-10-03T13:21:39.639771Z"
    },
    "papermill": {
     "duration": 0.034885,
     "end_time": "2020-10-03T13:21:39.640584",
     "exception": false,
     "start_time": "2020-10-03T13:21:39.605699",
     "status": "completed"
    },
    "tags": []
   },
   "outputs": [
    {
     "data": {
      "text/html": [
       "<div>\n",
       "<style scoped>\n",
       "    .dataframe tbody tr th:only-of-type {\n",
       "        vertical-align: middle;\n",
       "    }\n",
       "\n",
       "    .dataframe tbody tr th {\n",
       "        vertical-align: top;\n",
       "    }\n",
       "\n",
       "    .dataframe thead th {\n",
       "        text-align: right;\n",
       "    }\n",
       "</style>\n",
       "<table border=\"1\" class=\"dataframe\">\n",
       "  <thead>\n",
       "    <tr style=\"text-align: right;\">\n",
       "      <th></th>\n",
       "      <th>states</th>\n",
       "      <th>Cases</th>\n",
       "      <th>Deaths</th>\n",
       "      <th>PCases</th>\n",
       "      <th>PDeaths</th>\n",
       "    </tr>\n",
       "  </thead>\n",
       "  <tbody>\n",
       "    <tr>\n",
       "      <th>0</th>\n",
       "      <td>Maharashtra</td>\n",
       "      <td>1416513</td>\n",
       "      <td>37480</td>\n",
       "      <td>1416513</td>\n",
       "      <td>37480</td>\n",
       "    </tr>\n",
       "    <tr>\n",
       "      <th>1</th>\n",
       "      <td>Andhra Pradesh</td>\n",
       "      <td>706790</td>\n",
       "      <td>5900</td>\n",
       "      <td>706790</td>\n",
       "      <td>5900</td>\n",
       "    </tr>\n",
       "    <tr>\n",
       "      <th>2</th>\n",
       "      <td>Karnataka</td>\n",
       "      <td>620630</td>\n",
       "      <td>9119</td>\n",
       "      <td>620630</td>\n",
       "      <td>9119</td>\n",
       "    </tr>\n",
       "    <tr>\n",
       "      <th>3</th>\n",
       "      <td>Tamil Nadu</td>\n",
       "      <td>608885</td>\n",
       "      <td>9653</td>\n",
       "      <td>608885</td>\n",
       "      <td>9653</td>\n",
       "    </tr>\n",
       "    <tr>\n",
       "      <th>4</th>\n",
       "      <td>Uttar Pradesh</td>\n",
       "      <td>406995</td>\n",
       "      <td>5917</td>\n",
       "      <td>406995</td>\n",
       "      <td>5917</td>\n",
       "    </tr>\n",
       "  </tbody>\n",
       "</table>\n",
       "</div>"
      ],
      "text/plain": [
       "           states    Cases  Deaths   PCases  PDeaths\n",
       "0     Maharashtra  1416513   37480  1416513    37480\n",
       "1  Andhra Pradesh   706790    5900   706790     5900\n",
       "2       Karnataka   620630    9119   620630     9119\n",
       "3      Tamil Nadu   608885    9653   608885     9653\n",
       "4   Uttar Pradesh   406995    5917   406995     5917"
      ]
     },
     "execution_count": 11,
     "metadata": {},
     "output_type": "execute_result"
    }
   ],
   "source": [
    "#hide\n",
    "df_table = pd.DataFrame({'states': dfc_cases.index, 'Cases': dfc_cases.values, 'Deaths': dfc_deaths.values, 'PCases': dfp_cases.values, 'PDeaths': dfp_deaths.values}).set_index('states')\n",
    "df_table = df_table.sort_values(by = ['Cases','Deaths'], ascending = [False, False])\n",
    "df_table = df_table.reset_index()\n",
    "df_table.head()"
   ]
  },
  {
   "cell_type": "code",
   "execution_count": 12,
   "metadata": {
    "execution": {
     "iopub.execute_input": "2020-10-03T13:21:39.675951Z",
     "iopub.status.busy": "2020-10-03T13:21:39.675363Z",
     "iopub.status.idle": "2020-10-03T13:21:39.683518Z",
     "shell.execute_reply": "2020-10-03T13:21:39.683068Z"
    },
    "papermill": {
     "duration": 0.027984,
     "end_time": "2020-10-03T13:21:39.683628",
     "exception": false,
     "start_time": "2020-10-03T13:21:39.655644",
     "status": "completed"
    },
    "tags": []
   },
   "outputs": [],
   "source": [
    "#hide\n",
    "for c in 'Cases, Deaths'.split(', '):\n",
    "    df_table[f'{c} (+)'] = (df_table[c] - df_table[f'P{c}']).clip(0)\n",
    "df_table['Fatality Rate'] = (100* df_table['Deaths']/ df_table['Cases']).round(2)"
   ]
  },
  {
   "cell_type": "code",
   "execution_count": 13,
   "metadata": {
    "execution": {
     "iopub.execute_input": "2020-10-03T13:21:39.727893Z",
     "iopub.status.busy": "2020-10-03T13:21:39.727331Z",
     "iopub.status.idle": "2020-10-03T13:21:39.730134Z",
     "shell.execute_reply": "2020-10-03T13:21:39.730568Z"
    },
    "papermill": {
     "duration": 0.031888,
     "end_time": "2020-10-03T13:21:39.730703",
     "exception": false,
     "start_time": "2020-10-03T13:21:39.698815",
     "status": "completed"
    },
    "tags": []
   },
   "outputs": [
    {
     "data": {
      "text/html": [
       "<div>\n",
       "<style scoped>\n",
       "    .dataframe tbody tr th:only-of-type {\n",
       "        vertical-align: middle;\n",
       "    }\n",
       "\n",
       "    .dataframe tbody tr th {\n",
       "        vertical-align: top;\n",
       "    }\n",
       "\n",
       "    .dataframe thead th {\n",
       "        text-align: right;\n",
       "    }\n",
       "</style>\n",
       "<table border=\"1\" class=\"dataframe\">\n",
       "  <thead>\n",
       "    <tr style=\"text-align: right;\">\n",
       "      <th></th>\n",
       "      <th>states</th>\n",
       "      <th>Cases</th>\n",
       "      <th>Deaths</th>\n",
       "      <th>PCases</th>\n",
       "      <th>PDeaths</th>\n",
       "      <th>Cases (+)</th>\n",
       "      <th>Deaths (+)</th>\n",
       "      <th>Fatality Rate</th>\n",
       "    </tr>\n",
       "  </thead>\n",
       "  <tbody>\n",
       "    <tr>\n",
       "      <th>0</th>\n",
       "      <td>Maharashtra</td>\n",
       "      <td>1416513</td>\n",
       "      <td>37480</td>\n",
       "      <td>1416513</td>\n",
       "      <td>37480</td>\n",
       "      <td>0</td>\n",
       "      <td>0</td>\n",
       "      <td>2.65</td>\n",
       "    </tr>\n",
       "    <tr>\n",
       "      <th>1</th>\n",
       "      <td>Andhra Pradesh</td>\n",
       "      <td>706790</td>\n",
       "      <td>5900</td>\n",
       "      <td>706790</td>\n",
       "      <td>5900</td>\n",
       "      <td>0</td>\n",
       "      <td>0</td>\n",
       "      <td>0.83</td>\n",
       "    </tr>\n",
       "    <tr>\n",
       "      <th>2</th>\n",
       "      <td>Karnataka</td>\n",
       "      <td>620630</td>\n",
       "      <td>9119</td>\n",
       "      <td>620630</td>\n",
       "      <td>9119</td>\n",
       "      <td>0</td>\n",
       "      <td>0</td>\n",
       "      <td>1.47</td>\n",
       "    </tr>\n",
       "    <tr>\n",
       "      <th>3</th>\n",
       "      <td>Tamil Nadu</td>\n",
       "      <td>608885</td>\n",
       "      <td>9653</td>\n",
       "      <td>608885</td>\n",
       "      <td>9653</td>\n",
       "      <td>0</td>\n",
       "      <td>0</td>\n",
       "      <td>1.59</td>\n",
       "    </tr>\n",
       "    <tr>\n",
       "      <th>4</th>\n",
       "      <td>Uttar Pradesh</td>\n",
       "      <td>406995</td>\n",
       "      <td>5917</td>\n",
       "      <td>406995</td>\n",
       "      <td>5917</td>\n",
       "      <td>0</td>\n",
       "      <td>0</td>\n",
       "      <td>1.45</td>\n",
       "    </tr>\n",
       "  </tbody>\n",
       "</table>\n",
       "</div>"
      ],
      "text/plain": [
       "           states    Cases  Deaths   PCases  PDeaths  Cases (+)  Deaths (+)  \\\n",
       "0     Maharashtra  1416513   37480  1416513    37480          0           0   \n",
       "1  Andhra Pradesh   706790    5900   706790     5900          0           0   \n",
       "2       Karnataka   620630    9119   620630     9119          0           0   \n",
       "3      Tamil Nadu   608885    9653   608885     9653          0           0   \n",
       "4   Uttar Pradesh   406995    5917   406995     5917          0           0   \n",
       "\n",
       "   Fatality Rate  \n",
       "0           2.65  \n",
       "1           0.83  \n",
       "2           1.47  \n",
       "3           1.59  \n",
       "4           1.45  "
      ]
     },
     "execution_count": 13,
     "metadata": {},
     "output_type": "execute_result"
    }
   ],
   "source": [
    "#hide\n",
    "df_table.head()"
   ]
  },
  {
   "cell_type": "code",
   "execution_count": 14,
   "metadata": {
    "execution": {
     "iopub.execute_input": "2020-10-03T13:21:39.766638Z",
     "iopub.status.busy": "2020-10-03T13:21:39.766074Z",
     "iopub.status.idle": "2020-10-03T13:21:39.780619Z",
     "shell.execute_reply": "2020-10-03T13:21:39.780172Z"
    },
    "papermill": {
     "duration": 0.034477,
     "end_time": "2020-10-03T13:21:39.780728",
     "exception": false,
     "start_time": "2020-10-03T13:21:39.746251",
     "status": "completed"
    },
    "tags": []
   },
   "outputs": [
    {
     "data": {
      "text/plain": [
       "{'updated': '2020-10-03',\n",
       " 'since': '2020-10-02',\n",
       " 'Cases': 6476953,\n",
       " 'PCases': 6471934,\n",
       " 'Deaths': 100903,\n",
       " 'PDeaths': 100875,\n",
       " 'Cases (+)': 5019,\n",
       " 'Deaths (+)': 28}"
      ]
     },
     "execution_count": 14,
     "metadata": {},
     "output_type": "execute_result"
    }
   ],
   "source": [
    "#hide\n",
    "summary = {'updated':dates[-1], 'since':dates[-2]}\n",
    "list_names = ['Cases', 'PCases', 'Deaths', 'PDeaths', 'Cases (+)', 'Deaths (+)']\n",
    "for name in list_names:\n",
    "    summary[name] = df_table.sum()[name]\n",
    "summary"
   ]
  },
  {
   "cell_type": "code",
   "execution_count": 15,
   "metadata": {
    "execution": {
     "iopub.execute_input": "2020-10-03T13:21:39.817610Z",
     "iopub.status.busy": "2020-10-03T13:21:39.817024Z",
     "iopub.status.idle": "2020-10-03T13:21:39.818799Z",
     "shell.execute_reply": "2020-10-03T13:21:39.819245Z"
    },
    "papermill": {
     "duration": 0.022845,
     "end_time": "2020-10-03T13:21:39.819379",
     "exception": false,
     "start_time": "2020-10-03T13:21:39.796534",
     "status": "completed"
    },
    "tags": []
   },
   "outputs": [],
   "source": [
    "#hide\n",
    "overview = '''\n",
    "<!-- #######  HTML!! #########-->\n",
    "<h1 style=\"color: #5e9ca0; text-align: center;\">India</h1>\n",
    "<p style=\"text-align: center;\">Last update: <strong>{update}</strong></p>\n",
    "<p style=\"text-align: center;\">Confirmed cases:</p>\n",
    "<p style=\"text-align: center;font-size:24px;\">{cases} (<span style=\"color: #ff0000;\">+{new}</span>)</p>\n",
    "<p style=\"text-align: center;\">Confirmed deaths:</p>\n",
    "<p style=\"text-align: center;font-size:24px;\">{deaths} (<span style=\"color: #ff0000;\">+{dnew}</span>)</p>\n",
    "'''"
   ]
  },
  {
   "cell_type": "code",
   "execution_count": 16,
   "metadata": {
    "execution": {
     "iopub.execute_input": "2020-10-03T13:21:39.858704Z",
     "iopub.status.busy": "2020-10-03T13:21:39.858106Z",
     "iopub.status.idle": "2020-10-03T13:21:39.861030Z",
     "shell.execute_reply": "2020-10-03T13:21:39.860585Z"
    },
    "papermill": {
     "duration": 0.025975,
     "end_time": "2020-10-03T13:21:39.861137",
     "exception": false,
     "start_time": "2020-10-03T13:21:39.835162",
     "status": "completed"
    },
    "tags": []
   },
   "outputs": [
    {
     "data": {
      "text/html": [
       "\n",
       "<!-- #######  HTML!! #########-->\n",
       "<h1 style=\"color: #5e9ca0; text-align: center;\">India</h1>\n",
       "<p style=\"text-align: center;\">Last update: <strong>2020-10-03</strong></p>\n",
       "<p style=\"text-align: center;\">Confirmed cases:</p>\n",
       "<p style=\"text-align: center;font-size:24px;\">6476953 (<span style=\"color: #ff0000;\">+5019</span>)</p>\n",
       "<p style=\"text-align: center;\">Confirmed deaths:</p>\n",
       "<p style=\"text-align: center;font-size:24px;\">100903 (<span style=\"color: #ff0000;\">+28</span>)</p>\n"
      ],
      "text/plain": [
       "<IPython.core.display.HTML object>"
      ]
     },
     "metadata": {},
     "output_type": "display_data"
    }
   ],
   "source": [
    "#hide_input\n",
    "update = summary['updated']\n",
    "cases = summary['Cases']\n",
    "new = summary['Cases (+)']\n",
    "deaths = summary['Deaths']\n",
    "dnew = summary['Deaths (+)']\n",
    "\n",
    "html = HTML(overview.format(update=update, cases=cases,new=new,deaths=deaths,dnew=dnew))\n",
    "\n",
    "display(html)"
   ]
  },
  {
   "cell_type": "code",
   "execution_count": 17,
   "metadata": {
    "execution": {
     "iopub.execute_input": "2020-10-03T13:21:39.901709Z",
     "iopub.status.busy": "2020-10-03T13:21:39.901130Z",
     "iopub.status.idle": "2020-10-03T13:21:39.906403Z",
     "shell.execute_reply": "2020-10-03T13:21:39.906830Z"
    },
    "papermill": {
     "duration": 0.028886,
     "end_time": "2020-10-03T13:21:39.906961",
     "exception": false,
     "start_time": "2020-10-03T13:21:39.878075",
     "status": "completed"
    },
    "tags": []
   },
   "outputs": [],
   "source": [
    "#hide\n",
    "dt_cols = list(dft_cases.columns[1:])\n",
    "dft_ct_new_cases = dft_cases.groupby('state')[dt_cols].sum().diff(axis=1).fillna(0).astype(int)\n",
    "dft_ct_new_cases.sort_values(by = dates[-1], ascending = False,inplace = True)"
   ]
  },
  {
   "cell_type": "code",
   "execution_count": 18,
   "metadata": {
    "execution": {
     "iopub.execute_input": "2020-10-03T13:21:39.958755Z",
     "iopub.status.busy": "2020-10-03T13:21:39.958155Z",
     "iopub.status.idle": "2020-10-03T13:21:39.961295Z",
     "shell.execute_reply": "2020-10-03T13:21:39.960813Z"
    },
    "papermill": {
     "duration": 0.038365,
     "end_time": "2020-10-03T13:21:39.961411",
     "exception": false,
     "start_time": "2020-10-03T13:21:39.923046",
     "status": "completed"
    },
    "tags": []
   },
   "outputs": [
    {
     "data": {
      "text/html": [
       "<div>\n",
       "<style scoped>\n",
       "    .dataframe tbody tr th:only-of-type {\n",
       "        vertical-align: middle;\n",
       "    }\n",
       "\n",
       "    .dataframe tbody tr th {\n",
       "        vertical-align: top;\n",
       "    }\n",
       "\n",
       "    .dataframe thead th {\n",
       "        text-align: right;\n",
       "    }\n",
       "</style>\n",
       "<table border=\"1\" class=\"dataframe\">\n",
       "  <thead>\n",
       "    <tr style=\"text-align: right;\">\n",
       "      <th>states</th>\n",
       "      <th>2020-07-01</th>\n",
       "      <th>2020-07-02</th>\n",
       "      <th>2020-07-03</th>\n",
       "      <th>2020-07-04</th>\n",
       "      <th>2020-07-05</th>\n",
       "      <th>2020-07-06</th>\n",
       "      <th>2020-07-07</th>\n",
       "      <th>2020-07-08</th>\n",
       "      <th>2020-07-09</th>\n",
       "      <th>2020-07-10</th>\n",
       "      <th>...</th>\n",
       "      <th>2020-09-24</th>\n",
       "      <th>2020-09-25</th>\n",
       "      <th>2020-09-26</th>\n",
       "      <th>2020-09-27</th>\n",
       "      <th>2020-09-28</th>\n",
       "      <th>2020-09-29</th>\n",
       "      <th>2020-09-30</th>\n",
       "      <th>2020-10-01</th>\n",
       "      <th>2020-10-02</th>\n",
       "      <th>2020-10-03</th>\n",
       "    </tr>\n",
       "    <tr>\n",
       "      <th>state</th>\n",
       "      <th></th>\n",
       "      <th></th>\n",
       "      <th></th>\n",
       "      <th></th>\n",
       "      <th></th>\n",
       "      <th></th>\n",
       "      <th></th>\n",
       "      <th></th>\n",
       "      <th></th>\n",
       "      <th></th>\n",
       "      <th></th>\n",
       "      <th></th>\n",
       "      <th></th>\n",
       "      <th></th>\n",
       "      <th></th>\n",
       "      <th></th>\n",
       "      <th></th>\n",
       "      <th></th>\n",
       "      <th></th>\n",
       "      <th></th>\n",
       "      <th></th>\n",
       "    </tr>\n",
       "  </thead>\n",
       "  <tbody>\n",
       "    <tr>\n",
       "      <th>Odisha</th>\n",
       "      <td>0</td>\n",
       "      <td>229</td>\n",
       "      <td>561</td>\n",
       "      <td>495</td>\n",
       "      <td>469</td>\n",
       "      <td>456</td>\n",
       "      <td>571</td>\n",
       "      <td>527</td>\n",
       "      <td>577</td>\n",
       "      <td>755</td>\n",
       "      <td>...</td>\n",
       "      <td>4340</td>\n",
       "      <td>4208</td>\n",
       "      <td>4356</td>\n",
       "      <td>3922</td>\n",
       "      <td>3235</td>\n",
       "      <td>3067</td>\n",
       "      <td>3443</td>\n",
       "      <td>3615</td>\n",
       "      <td>3600</td>\n",
       "      <td>3053</td>\n",
       "    </tr>\n",
       "    <tr>\n",
       "      <th>Telangana</th>\n",
       "      <td>0</td>\n",
       "      <td>1213</td>\n",
       "      <td>1892</td>\n",
       "      <td>1850</td>\n",
       "      <td>1590</td>\n",
       "      <td>1831</td>\n",
       "      <td>1879</td>\n",
       "      <td>1924</td>\n",
       "      <td>1410</td>\n",
       "      <td>1278</td>\n",
       "      <td>...</td>\n",
       "      <td>2176</td>\n",
       "      <td>2381</td>\n",
       "      <td>2239</td>\n",
       "      <td>1967</td>\n",
       "      <td>1378</td>\n",
       "      <td>2072</td>\n",
       "      <td>2103</td>\n",
       "      <td>2214</td>\n",
       "      <td>2009</td>\n",
       "      <td>1718</td>\n",
       "    </tr>\n",
       "    <tr>\n",
       "      <th>Tripura</th>\n",
       "      <td>0</td>\n",
       "      <td>39</td>\n",
       "      <td>93</td>\n",
       "      <td>25</td>\n",
       "      <td>23</td>\n",
       "      <td>111</td>\n",
       "      <td>24</td>\n",
       "      <td>57</td>\n",
       "      <td>16</td>\n",
       "      <td>142</td>\n",
       "      <td>...</td>\n",
       "      <td>451</td>\n",
       "      <td>341</td>\n",
       "      <td>278</td>\n",
       "      <td>320</td>\n",
       "      <td>193</td>\n",
       "      <td>432</td>\n",
       "      <td>381</td>\n",
       "      <td>332</td>\n",
       "      <td>296</td>\n",
       "      <td>190</td>\n",
       "    </tr>\n",
       "    <tr>\n",
       "      <th>Mizoram</th>\n",
       "      <td>0</td>\n",
       "      <td>2</td>\n",
       "      <td>0</td>\n",
       "      <td>2</td>\n",
       "      <td>22</td>\n",
       "      <td>11</td>\n",
       "      <td>1</td>\n",
       "      <td>5</td>\n",
       "      <td>0</td>\n",
       "      <td>23</td>\n",
       "      <td>...</td>\n",
       "      <td>46</td>\n",
       "      <td>27</td>\n",
       "      <td>49</td>\n",
       "      <td>30</td>\n",
       "      <td>43</td>\n",
       "      <td>50</td>\n",
       "      <td>28</td>\n",
       "      <td>32</td>\n",
       "      <td>31</td>\n",
       "      <td>54</td>\n",
       "    </tr>\n",
       "    <tr>\n",
       "      <th>Dadra and Nagar Haveli and Daman and Diu</th>\n",
       "      <td>0</td>\n",
       "      <td>25</td>\n",
       "      <td>50</td>\n",
       "      <td>37</td>\n",
       "      <td>32</td>\n",
       "      <td>27</td>\n",
       "      <td>27</td>\n",
       "      <td>15</td>\n",
       "      <td>14</td>\n",
       "      <td>14</td>\n",
       "      <td>...</td>\n",
       "      <td>15</td>\n",
       "      <td>12</td>\n",
       "      <td>7</td>\n",
       "      <td>6</td>\n",
       "      <td>9</td>\n",
       "      <td>20</td>\n",
       "      <td>8</td>\n",
       "      <td>14</td>\n",
       "      <td>7</td>\n",
       "      <td>4</td>\n",
       "    </tr>\n",
       "  </tbody>\n",
       "</table>\n",
       "<p>5 rows × 95 columns</p>\n",
       "</div>"
      ],
      "text/plain": [
       "states                                    2020-07-01  2020-07-02  2020-07-03  \\\n",
       "state                                                                          \n",
       "Odisha                                             0         229         561   \n",
       "Telangana                                          0        1213        1892   \n",
       "Tripura                                            0          39          93   \n",
       "Mizoram                                            0           2           0   \n",
       "Dadra and Nagar Haveli and Daman and Diu           0          25          50   \n",
       "\n",
       "states                                    2020-07-04  2020-07-05  2020-07-06  \\\n",
       "state                                                                          \n",
       "Odisha                                           495         469         456   \n",
       "Telangana                                       1850        1590        1831   \n",
       "Tripura                                           25          23         111   \n",
       "Mizoram                                            2          22          11   \n",
       "Dadra and Nagar Haveli and Daman and Diu          37          32          27   \n",
       "\n",
       "states                                    2020-07-07  2020-07-08  2020-07-09  \\\n",
       "state                                                                          \n",
       "Odisha                                           571         527         577   \n",
       "Telangana                                       1879        1924        1410   \n",
       "Tripura                                           24          57          16   \n",
       "Mizoram                                            1           5           0   \n",
       "Dadra and Nagar Haveli and Daman and Diu          27          15          14   \n",
       "\n",
       "states                                    2020-07-10  ...  2020-09-24  \\\n",
       "state                                                 ...               \n",
       "Odisha                                           755  ...        4340   \n",
       "Telangana                                       1278  ...        2176   \n",
       "Tripura                                          142  ...         451   \n",
       "Mizoram                                           23  ...          46   \n",
       "Dadra and Nagar Haveli and Daman and Diu          14  ...          15   \n",
       "\n",
       "states                                    2020-09-25  2020-09-26  2020-09-27  \\\n",
       "state                                                                          \n",
       "Odisha                                          4208        4356        3922   \n",
       "Telangana                                       2381        2239        1967   \n",
       "Tripura                                          341         278         320   \n",
       "Mizoram                                           27          49          30   \n",
       "Dadra and Nagar Haveli and Daman and Diu          12           7           6   \n",
       "\n",
       "states                                    2020-09-28  2020-09-29  2020-09-30  \\\n",
       "state                                                                          \n",
       "Odisha                                          3235        3067        3443   \n",
       "Telangana                                       1378        2072        2103   \n",
       "Tripura                                          193         432         381   \n",
       "Mizoram                                           43          50          28   \n",
       "Dadra and Nagar Haveli and Daman and Diu           9          20           8   \n",
       "\n",
       "states                                    2020-10-01  2020-10-02  2020-10-03  \n",
       "state                                                                         \n",
       "Odisha                                          3615        3600        3053  \n",
       "Telangana                                       2214        2009        1718  \n",
       "Tripura                                          332         296         190  \n",
       "Mizoram                                           32          31          54  \n",
       "Dadra and Nagar Haveli and Daman and Diu          14           7           4  \n",
       "\n",
       "[5 rows x 95 columns]"
      ]
     },
     "execution_count": 18,
     "metadata": {},
     "output_type": "execute_result"
    }
   ],
   "source": [
    "#hide\n",
    "dft_ct_new_cases.head()"
   ]
  },
  {
   "cell_type": "code",
   "execution_count": 19,
   "metadata": {
    "execution": {
     "iopub.execute_input": "2020-10-03T13:21:40.020658Z",
     "iopub.status.busy": "2020-10-03T13:21:40.004454Z",
     "iopub.status.idle": "2020-10-03T13:21:43.661551Z",
     "shell.execute_reply": "2020-10-03T13:21:43.661071Z"
    },
    "papermill": {
     "duration": 3.682545,
     "end_time": "2020-10-03T13:21:43.661689",
     "exception": false,
     "start_time": "2020-10-03T13:21:39.979144",
     "status": "completed"
    },
    "tags": []
   },
   "outputs": [
    {
     "data": {
      "image/png": "[encoded data removed]",
      "text/plain": [
       "<Figure size 1296x2016 with 11 Axes>"
      ]
     },
     "metadata": {
      "needs_background": "light"
     },
     "output_type": "display_data"
    }
   ],
   "source": [
    "#hide_input\n",
    "df = dft_ct_new_cases.copy()\n",
    "df.loc['Total'] = df.sum()\n",
    "n = 5\n",
    "ax = []\n",
    "fig = plt.figure(figsize = (18,28))\n",
    "gs = fig.add_gridspec(n+2, 5)\n",
    "# gs = fig.add_gridspec(2, 3)\n",
    "ax1 = fig.add_subplot(gs[0, :])\n",
    "ef = df.loc['Total'].rename_axis('date').reset_index()\n",
    "ef['date'] = ef['date'].astype('datetime64[ns]')\n",
    "ax1.bar(ef.date,ef.Total,alpha=0.3,color='#007acc')\n",
    "ax1.plot(ef.date,ef.Total , marker=\"o\", color='#007acc')\n",
    "ax1.xaxis.set_major_locator(mdates.WeekdayLocator())\n",
    "ax1.xaxis.set_major_formatter(mdates.DateFormatter('%b %d'))\n",
    "ax1.text(0.02, 0.5,'India daily case count', transform = ax1.transAxes, fontsize=25);\n",
    "ax1.spines['right'].set_visible(False)\n",
    "ax1.spines['top'].set_visible(False)\n",
    "\n",
    "ax2 = fig.add_subplot(gs[1,0])\n",
    "ef = df.loc['Maharashtra'].rename_axis('date').reset_index()\n",
    "ef['date'] = ef['date'].astype('datetime64[ns]')\n",
    "\n",
    "ax2.bar(ef.date, ef.Maharashtra,color = '#007acc',alpha=0.5)\n",
    "ax2.xaxis.set_major_locator(mdates.WeekdayLocator())\n",
    "ax2.xaxis.set_major_formatter(mdates.DateFormatter('%b %d'))\n",
    "ax2.set_xticks(ax2.get_xticks()[::3])\n",
    "maxyval = ef.Maharashtra.max()\n",
    "ax2.set_ylim([0,maxyval])\n",
    "ax2.text(0.05, 0.9,'Maharashtra', transform = ax2.transAxes, fontsize=20);\n",
    "ax2.spines['right'].set_visible(False)\n",
    "ax2.spines['top'].set_visible(False)\n",
    "\n",
    "\n",
    "ax3 = fig.add_subplot(gs[1,1])\n",
    "ef = df.loc['Tamil Nadu'].rename_axis('date').reset_index()\n",
    "ef['date'] = ef['date'].astype('datetime64[ns]')\n",
    "ax3.bar(ef.date, ef['Tamil Nadu'],color = '#007acc',alpha=0.5,)\n",
    "ax3.xaxis.set_major_locator(mdates.WeekdayLocator())\n",
    "ax3.xaxis.set_major_formatter(mdates.DateFormatter('%b %d'))\n",
    "ax3.set_xticks(ax3.get_xticks()[::3])\n",
    "ax3.text(0.05, 0.9,'Tamil Nadu', transform = ax3.transAxes, fontsize=20);\n",
    "ax3.spines['right'].set_visible(False)\n",
    "ax3.spines['top'].set_visible(False)\n",
    "\n",
    "ax5 = fig.add_subplot(gs[1,3])\n",
    "ef = df.loc['Telangana'].rename_axis('date').reset_index()\n",
    "ef['date'] = ef['date'].astype('datetime64[ns]')\n",
    "ax5.bar(ef.date, ef['Telangana'],color = '#007acc',alpha=0.5,)\n",
    "ax5.xaxis.set_major_locator(mdates.WeekdayLocator())\n",
    "ax5.xaxis.set_major_formatter(mdates.DateFormatter('%b %d'))\n",
    "ax5.set_xticks(ax5.get_xticks()[::3])\n",
    "ax5.text(0.05, 0.9,'Telangana', transform = ax5.transAxes, fontsize=20);\n",
    "ax5.spines['right'].set_visible(False)\n",
    "ax5.spines['top'].set_visible(False)\n",
    "\n",
    "ax6 = fig.add_subplot(gs[1,4])\n",
    "ef = df.loc['Andhra Pradesh'].rename_axis('date').reset_index()\n",
    "ef['date'] = ef['date'].astype('datetime64[ns]')\n",
    "ax6.bar(ef.date, ef['Andhra Pradesh'],color = '#007acc',alpha=0.5,)\n",
    "ax6.xaxis.set_major_locator(mdates.WeekdayLocator())\n",
    "ax6.xaxis.set_major_formatter(mdates.DateFormatter('%b %d'))\n",
    "ax6.set_xticks(ax6.get_xticks()[::3])\n",
    "ax6.text(0.05, 1,'Andhra Pradesh', transform = ax6.transAxes, fontsize=20);\n",
    "ax6.spines['right'].set_visible(False)\n",
    "ax6.spines['top'].set_visible(False)\n",
    "\n",
    "ax4 = fig.add_subplot(gs[1,2])\n",
    "ef = df.loc['Delhi'].rename_axis('date').reset_index()\n",
    "ef['date'] = ef['date'].astype('datetime64[ns]')\n",
    "ax4.bar(ef.date, ef.Delhi,color = '#007acc',alpha=0.5)\n",
    "ax4.set_xticks([])\n",
    "ax4.xaxis.set_major_locator(mdates.WeekdayLocator())\n",
    "ax4.xaxis.set_major_formatter(mdates.DateFormatter('%b %d'))\n",
    "ax4.set_xticks(ax4.get_xticks()[::3])\n",
    "ax4.spines['right'].set_visible(False)\n",
    "ax4.spines['top'].set_visible(False)\n",
    "\n",
    "ax4.text(0.05, 1,'Delhi', transform = ax4.transAxes, fontsize=20)\n",
    "\n",
    "for i in range(n):\n",
    "    \n",
    "    ax.append(fig.add_subplot(gs[i+2,:]))\n",
    "    ef = df.iloc[i+3].rename_axis('date').reset_index()\n",
    "    ef['date'] = ef['date'].astype('datetime64[ns]')\n",
    "    ax[i].bar(ef.date,ef.iloc[:,-1],color = '#007acc',alpha=0.3)\n",
    "    ax[i].plot(ef.date,ef.iloc[:,-1],marker='o',color='#007acc')\n",
    "    ax[i].text(0.02,0.5,f'{ef.columns.values[-1]}',transform = ax[i].transAxes, fontsize = 20);\n",
    "    ax[i].xaxis.set_major_locator(mdates.WeekdayLocator())\n",
    "    ax[i].xaxis.set_major_formatter(mdates.DateFormatter('%b %d'))\n",
    "    ax[i].set_ylim([0,7000])\n",
    "    ax[i].spines['right'].set_visible(False)\n",
    "    ax[i].spines['top'].set_visible(False)\n",
    "plt.tight_layout()\n"
   ]
  },
  {
   "cell_type": "code",
   "execution_count": 20,
   "metadata": {
    "execution": {
     "iopub.execute_input": "2020-10-03T13:21:43.717434Z",
     "iopub.status.busy": "2020-10-03T13:21:43.716839Z",
     "iopub.status.idle": "2020-10-03T13:21:43.719055Z",
     "shell.execute_reply": "2020-10-03T13:21:43.719587Z"
    },
    "papermill": {
     "duration": 0.035882,
     "end_time": "2020-10-03T13:21:43.719750",
     "exception": false,
     "start_time": "2020-10-03T13:21:43.683868",
     "status": "completed"
    },
    "tags": []
   },
   "outputs": [
    {
     "name": "stdout",
     "output_type": "stream",
     "text": [
      "                                   states    Cases  Deaths   PCases  PDeaths  Cases (+)  Deaths (+)  Fatality Rate\n",
      "                              Maharashtra  1416513   37480  1416513    37480          0           0           2.65\n",
      "                           Andhra Pradesh   706790    5900   706790     5900          0           0           0.83\n",
      "                                Karnataka   620630    9119   620630     9119          0           0           1.47\n",
      "                               Tamil Nadu   608885    9653   608885     9653          0           0           1.59\n",
      "                            Uttar Pradesh   406995    5917   406995     5917          0           0           1.45\n",
      "                                    Delhi   285672    5438   285672     5438          0           0           1.90\n",
      "                              West Bengal   263634    5070   263634     5070          0           0           1.92\n",
      "                                   Odisha   229387     945   226334      928       3053          17           0.41\n",
      "                                   Kerala   213500     792   213500      792          0           0           0.37\n",
      "                                Telangana   197327    1153   195609     1145       1718           8           0.58\n",
      "                                    Bihar   185707     910   185707      910          0           0           0.49\n",
      "                                    Assam   183812     721   183812      721          0           0           0.39\n",
      "                                  Gujarat   140054    3478   140054     3478          0           0           2.48\n",
      "                                Rajasthan   139696    1516   139696     1516          0           0           1.09\n",
      "                           Madhya Pradesh   132107    2372   132107     2372          0           0           1.80\n",
      "                                  Haryana   131388    1425   131388     1425          0           0           1.08\n",
      "                             Chhattisgarh   118790    1002   118790     1002          0           0           0.84\n",
      "                                   Punjab   116213    3501   116213     3501          0           0           3.01\n",
      "                                Jharkhand    85400     729    85400      729          0           0           0.85\n",
      "                        Jammu and Kashmir    77253    1212    77253     1212          0           0           1.57\n",
      "                              Uttarakhand    49559     636    49559      636          0           0           1.28\n",
      "                                      Goa    34455     442    34455      442          0           0           1.28\n",
      "                               Puducherry    28534     532    28534      532          0           0           1.86\n",
      "                                  Tripura    26549     286    26359      283        190           3           1.08\n",
      "                         Himachal Pradesh    15454     197    15454      197          0           0           1.27\n",
      "                               Chandigarh    12212     169    12212      169          0           0           1.38\n",
      "                                  Manipur    11397      69    11397       69          0           0           0.61\n",
      "                        Arunachal Pradesh    10220      18    10220       18          0           0           0.18\n",
      "                                 Nagaland     6318      12     6318       12          0           0           0.19\n",
      "                                Meghalaya     6033      52     6033       52          0           0           0.86\n",
      "                                   Ladakh     4429      61     4429       61          0           0           1.38\n",
      "              Andaman and Nicobar Islands     3858      53     3858       53          0           0           1.37\n",
      " Dadra and Nagar Haveli and Daman and Diu     3068       2     3064        2          4           0           0.07\n",
      "                                   Sikkim     3011      41     3011       41          0           0           1.36\n",
      "                                  Mizoram     2103       0     2049        0         54           0           0.00\n",
      "                              Lakshadweep        0       0        0        0          0           0            NaN\n"
     ]
    }
   ],
   "source": [
    "#hide_input\n",
    "print(df_table.to_string(index=False))"
   ]
  },
  {
   "cell_type": "code",
   "execution_count": null,
   "metadata": {
    "papermill": {
     "duration": 0.022364,
     "end_time": "2020-10-03T13:21:43.764999",
     "exception": false,
     "start_time": "2020-10-03T13:21:43.742635",
     "status": "completed"
    },
    "tags": []
   },
   "outputs": [],
   "source": []
  },
  {
   "cell_type": "code",
   "execution_count": null,
   "metadata": {
    "papermill": {
     "duration": 0.021918,
     "end_time": "2020-10-03T13:21:43.809177",
     "exception": false,
     "start_time": "2020-10-03T13:21:43.787259",
     "status": "completed"
    },
    "tags": []
   },
   "outputs": [],
   "source": []
  }
 ],
 "metadata": {
  "kernelspec": {
   "display_name": "Python 3",
   "language": "python",
   "name": "python3"
  },
  "language_info": {
   "codemirror_mode": {
    "name": "ipython",
    "version": 3
   },
   "file_extension": ".py",
   "mimetype": "text/x-python",
   "name": "python",
   "nbconvert_exporter": "python",
   "pygments_lexer": "ipython3",
   "version": "3.6.12"
  },
  "papermill": {
   "duration": 10.298268,
   "end_time": "2020-10-03T13:21:45.132987",
   "environment_variables": {},
   "exception": null,
   "input_path": "latest.ipynb",
   "output_path": "latest.ipynb",
   "parameters": {},
   "start_time": "2020-10-03T13:21:34.834719",
   "version": "2.1.2"
  }
 },
 "nbformat": 4,
 "nbformat_minor": 4
}