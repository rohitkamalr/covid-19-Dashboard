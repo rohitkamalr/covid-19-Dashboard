{
 "cells": [
  {
   "cell_type": "markdown",
   "metadata": {
    "papermill": {
     "duration": 0.024942,
     "end_time": "2020-09-09T12:51:48.222793",
     "exception": false,
     "start_time": "2020-09-09T12:51:48.197851",
     "status": "completed"
    },
    "tags": []
   },
   "source": [
    "# Latest COVID-19 India Matplotlib Overview"
   ]
  },
  {
   "cell_type": "code",
   "execution_count": 1,
   "metadata": {
    "execution": {
     "iopub.execute_input": "2020-09-09T12:51:48.270317Z",
     "iopub.status.busy": "2020-09-09T12:51:48.269582Z",
     "iopub.status.idle": "2020-09-09T12:51:48.907835Z",
     "shell.execute_reply": "2020-09-09T12:51:48.907160Z"
    },
    "papermill": {
     "duration": 0.664451,
     "end_time": "2020-09-09T12:51:48.908022",
     "exception": false,
     "start_time": "2020-09-09T12:51:48.243571",
     "status": "completed"
    },
    "tags": []
   },
   "outputs": [],
   "source": [
    "#hide\n",
    "import pandas as pd\n",
    "import numpy as np\n",
    "import requests\n",
    "import json\n",
    "import matplotlib.pyplot as plt\n",
    "import matplotlib.dates as mdates\n",
    "import matplotlib as mpl\n",
    "from IPython.core.display import display,HTML\n",
    "%matplotlib inline\n",
    "from datetime import date"
   ]
  },
  {
   "cell_type": "code",
   "execution_count": 2,
   "metadata": {
    "execution": {
     "iopub.execute_input": "2020-09-09T12:51:48.955898Z",
     "iopub.status.busy": "2020-09-09T12:51:48.954724Z",
     "iopub.status.idle": "2020-09-09T12:51:49.310393Z",
     "shell.execute_reply": "2020-09-09T12:51:49.311026Z"
    },
    "papermill": {
     "duration": 0.383169,
     "end_time": "2020-09-09T12:51:49.311215",
     "exception": false,
     "start_time": "2020-09-09T12:51:48.928046",
     "status": "completed"
    },
    "tags": []
   },
   "outputs": [],
   "source": [
    "#hide\n",
    "df  = pd.read_csv('https://api.covid19india.org/csv/latest/states.csv')\n",
    "df = df[['Date','State','Confirmed','Deceased']]\n",
    "df = df.rename(columns={'Confirmed':'Cases', \"Deceased\":'Deaths'})\n",
    "df_cases = df[[\"Date\",'State','Cases']]\n",
    "df_deaths = df[['Date','State','Deaths']]\n",
    "df_cases1 = df_cases.groupby('Date')\n",
    "df_deaths1= df_deaths.groupby('Date')"
   ]
  },
  {
   "cell_type": "code",
   "execution_count": 3,
   "metadata": {
    "execution": {
     "iopub.execute_input": "2020-09-09T12:51:49.357042Z",
     "iopub.status.busy": "2020-09-09T12:51:49.356330Z",
     "iopub.status.idle": "2020-09-09T12:51:49.378827Z",
     "shell.execute_reply": "2020-09-09T12:51:49.378225Z"
    },
    "papermill": {
     "duration": 0.046808,
     "end_time": "2020-09-09T12:51:49.378996",
     "exception": false,
     "start_time": "2020-09-09T12:51:49.332188",
     "status": "completed"
    },
    "tags": []
   },
   "outputs": [],
   "source": [
    "#hide\n",
    "df_snap = pd.read_csv('data/SnapshotCases-28-July.csv')\n",
    "arr_states = df_snap['states'].unique()\n",
    "arr_dates = df['Date'].unique()\n",
    "df_snap = df_snap.set_index('states')"
   ]
  },
  {
   "cell_type": "code",
   "execution_count": 4,
   "metadata": {
    "execution": {
     "iopub.execute_input": "2020-09-09T12:51:49.426160Z",
     "iopub.status.busy": "2020-09-09T12:51:49.425433Z",
     "iopub.status.idle": "2020-09-09T12:51:49.428870Z",
     "shell.execute_reply": "2020-09-09T12:51:49.429480Z"
    },
    "papermill": {
     "duration": 0.032155,
     "end_time": "2020-09-09T12:51:49.429655",
     "exception": false,
     "start_time": "2020-09-09T12:51:49.397500",
     "status": "completed"
    },
    "tags": []
   },
   "outputs": [
    {
     "data": {
      "text/plain": [
       "array(['Andaman and Nicobar Islands', 'Andhra Pradesh',\n",
       "       'Arunachal Pradesh', 'Assam', 'Bihar', 'Chandigarh',\n",
       "       'Dadra and Nagar Haveli and Daman and Diu', 'Delhi', 'Goa',\n",
       "       'Gujarat', 'Haryana', 'Himachal Pradesh', 'Jammu and Kashmir',\n",
       "       'Jharkhand', 'Karnataka', 'Kerala', 'Lakshadweep',\n",
       "       'Madhya Pradesh', 'Maharashtra', 'Manipur', 'Meghalaya', 'Mizoram',\n",
       "       'Nagaland', 'Odisha', 'Puducherry', 'Punjab', 'Rajasthan',\n",
       "       'Sikkim', 'Tamil Nadu', 'Telangana', 'Tripura', 'Uttar Pradesh',\n",
       "       'West Bengal', 'Chhattisgarh', 'Ladakh', 'Uttarakhand'],\n",
       "      dtype=object)"
      ]
     },
     "execution_count": 4,
     "metadata": {},
     "output_type": "execute_result"
    }
   ],
   "source": [
    "#hide\n",
    "arr_states[-9] = 'Puducherry'\n",
    "arr_states[-10] = 'Odisha'\n",
    "arr_states[6] = 'Dadra and Nagar Haveli and Daman and Diu'\n",
    "arr_states = np.append(arr_states,np.array(['Chhattisgarh','Ladakh','Uttarakhand']))\n",
    "arr_states"
   ]
  },
  {
   "cell_type": "code",
   "execution_count": 5,
   "metadata": {
    "execution": {
     "iopub.execute_input": "2020-09-09T12:51:49.481232Z",
     "iopub.status.busy": "2020-09-09T12:51:49.480510Z",
     "iopub.status.idle": "2020-09-09T12:51:49.487800Z",
     "shell.execute_reply": "2020-09-09T12:51:49.488504Z"
    },
    "papermill": {
     "duration": 0.038445,
     "end_time": "2020-09-09T12:51:49.488670",
     "exception": false,
     "start_time": "2020-09-09T12:51:49.450225",
     "status": "completed"
    },
    "tags": []
   },
   "outputs": [],
   "source": [
    "#hide\n",
    "dates = []\n",
    "for i in arr_dates:\n",
    "    if i>='2020-07-01':\n",
    "        dates.append(i)\n",
    "dict = {'states':dates}\n",
    "for i in arr_states:\n",
    "    dict[i] = [0]*len(dates)\n",
    "dft_cases = pd.DataFrame(dict)\n",
    "dft_deaths = pd.DataFrame(dict)\n"
   ]
  },
  {
   "cell_type": "code",
   "execution_count": 6,
   "metadata": {
    "execution": {
     "iopub.execute_input": "2020-09-09T12:51:49.533117Z",
     "iopub.status.busy": "2020-09-09T12:51:49.532462Z",
     "iopub.status.idle": "2020-09-09T12:51:50.938232Z",
     "shell.execute_reply": "2020-09-09T12:51:50.937549Z"
    },
    "papermill": {
     "duration": 1.431327,
     "end_time": "2020-09-09T12:51:50.938394",
     "exception": false,
     "start_time": "2020-09-09T12:51:49.507067",
     "status": "completed"
    },
    "tags": []
   },
   "outputs": [],
   "source": [
    "#hide\n",
    "for i in range(len(dates)):\n",
    "    df1_deaths = df_deaths1.get_group(dates[i])\n",
    "    for j in range(len(df1_deaths.index)):\n",
    "        if df1_deaths.iloc[j,1] in arr_states:\n",
    "            dft_deaths.loc[i,df1_deaths.iloc[j,1]] = df1_deaths.iloc[j,2]\n",
    "dft_deaths = dft_deaths.set_index('states')"
   ]
  },
  {
   "cell_type": "code",
   "execution_count": 7,
   "metadata": {
    "execution": {
     "iopub.execute_input": "2020-09-09T12:51:50.984535Z",
     "iopub.status.busy": "2020-09-09T12:51:50.983812Z",
     "iopub.status.idle": "2020-09-09T12:51:52.328417Z",
     "shell.execute_reply": "2020-09-09T12:51:52.327390Z"
    },
    "papermill": {
     "duration": 1.37157,
     "end_time": "2020-09-09T12:51:52.328591",
     "exception": false,
     "start_time": "2020-09-09T12:51:50.957021",
     "status": "completed"
    },
    "tags": []
   },
   "outputs": [],
   "source": [
    "#hide\n",
    "for i in range(len(dates)):\n",
    "    df1_cases = df_cases1.get_group(dates[i])\n",
    "    for j in range(len(df1_cases.index)):\n",
    "        if df1_cases.iloc[j,1] in arr_states:\n",
    "            dft_cases.loc[i,df1_cases.iloc[j,1]] = df1_cases.iloc[j,2]\n",
    "dft_cases = dft_cases.set_index('states')"
   ]
  },
  {
   "cell_type": "code",
   "execution_count": 8,
   "metadata": {
    "execution": {
     "iopub.execute_input": "2020-09-09T12:51:52.376989Z",
     "iopub.status.busy": "2020-09-09T12:51:52.375399Z",
     "iopub.status.idle": "2020-09-09T12:51:52.377887Z",
     "shell.execute_reply": "2020-09-09T12:51:52.378675Z"
    },
    "papermill": {
     "duration": 0.031017,
     "end_time": "2020-09-09T12:51:52.378850",
     "exception": false,
     "start_time": "2020-09-09T12:51:52.347833",
     "status": "completed"
    },
    "tags": []
   },
   "outputs": [],
   "source": [
    "#hide\n",
    "dft_cases = dft_cases.T\n",
    "dft_deaths = dft_deaths.T\n",
    "dt_today = dates[-1]\n",
    "dt_yday = dates[-2]"
   ]
  },
  {
   "cell_type": "code",
   "execution_count": 9,
   "metadata": {
    "execution": {
     "iopub.execute_input": "2020-09-09T12:51:52.425990Z",
     "iopub.status.busy": "2020-09-09T12:51:52.425282Z",
     "iopub.status.idle": "2020-09-09T12:51:52.430992Z",
     "shell.execute_reply": "2020-09-09T12:51:52.430404Z"
    },
    "papermill": {
     "duration": 0.031678,
     "end_time": "2020-09-09T12:51:52.431147",
     "exception": false,
     "start_time": "2020-09-09T12:51:52.399469",
     "status": "completed"
    },
    "tags": []
   },
   "outputs": [],
   "source": [
    "#hide\n",
    "dft_cases = dft_cases.reset_index()\n",
    "dft_deaths = dft_deaths.reset_index()\n",
    "dft_cases = dft_cases.rename(columns = {'index':'state'})\n",
    "dft_deaths = dft_deaths.rename(columns = {'index':'state'})"
   ]
  },
  {
   "cell_type": "code",
   "execution_count": 10,
   "metadata": {
    "execution": {
     "iopub.execute_input": "2020-09-09T12:51:52.491195Z",
     "iopub.status.busy": "2020-09-09T12:51:52.490453Z",
     "iopub.status.idle": "2020-09-09T12:51:52.492441Z",
     "shell.execute_reply": "2020-09-09T12:51:52.493313Z"
    },
    "papermill": {
     "duration": 0.043058,
     "end_time": "2020-09-09T12:51:52.493493",
     "exception": false,
     "start_time": "2020-09-09T12:51:52.450435",
     "status": "completed"
    },
    "tags": []
   },
   "outputs": [],
   "source": [
    "#hide\n",
    "dfc_cases = dft_cases.groupby('state')[dt_today].sum()\n",
    "dfc_deaths = dft_deaths.groupby('state')[dt_today].sum()\n",
    "dfp_cases = dft_cases.groupby('state')[dt_yday].sum()\n",
    "dfp_deaths = dft_deaths.groupby('state')[dt_yday].sum()"
   ]
  },
  {
   "cell_type": "code",
   "execution_count": 11,
   "metadata": {
    "execution": {
     "iopub.execute_input": "2020-09-09T12:51:52.863053Z",
     "iopub.status.busy": "2020-09-09T12:51:52.859217Z",
     "iopub.status.idle": "2020-09-09T12:51:52.868645Z",
     "shell.execute_reply": "2020-09-09T12:51:52.869153Z"
    },
    "papermill": {
     "duration": 0.278261,
     "end_time": "2020-09-09T12:51:52.869307",
     "exception": false,
     "start_time": "2020-09-09T12:51:52.591046",
     "status": "completed"
    },
    "tags": []
   },
   "outputs": [
    {
     "data": {
      "text/html": [
       "<div>\n",
       "<style scoped>\n",
       "    .dataframe tbody tr th:only-of-type {\n",
       "        vertical-align: middle;\n",
       "    }\n",
       "\n",
       "    .dataframe tbody tr th {\n",
       "        vertical-align: top;\n",
       "    }\n",
       "\n",
       "    .dataframe thead th {\n",
       "        text-align: right;\n",
       "    }\n",
       "</style>\n",
       "<table border=\"1\" class=\"dataframe\">\n",
       "  <thead>\n",
       "    <tr style=\"text-align: right;\">\n",
       "      <th></th>\n",
       "      <th>states</th>\n",
       "      <th>Cases</th>\n",
       "      <th>Deaths</th>\n",
       "      <th>PCases</th>\n",
       "      <th>PDeaths</th>\n",
       "    </tr>\n",
       "  </thead>\n",
       "  <tbody>\n",
       "    <tr>\n",
       "      <th>0</th>\n",
       "      <td>Maharashtra</td>\n",
       "      <td>943772</td>\n",
       "      <td>27407</td>\n",
       "      <td>943772</td>\n",
       "      <td>27407</td>\n",
       "    </tr>\n",
       "    <tr>\n",
       "      <th>1</th>\n",
       "      <td>Andhra Pradesh</td>\n",
       "      <td>517094</td>\n",
       "      <td>4560</td>\n",
       "      <td>517094</td>\n",
       "      <td>4560</td>\n",
       "    </tr>\n",
       "    <tr>\n",
       "      <th>2</th>\n",
       "      <td>Tamil Nadu</td>\n",
       "      <td>474940</td>\n",
       "      <td>8015</td>\n",
       "      <td>474940</td>\n",
       "      <td>8015</td>\n",
       "    </tr>\n",
       "    <tr>\n",
       "      <th>3</th>\n",
       "      <td>Karnataka</td>\n",
       "      <td>412190</td>\n",
       "      <td>6680</td>\n",
       "      <td>412190</td>\n",
       "      <td>6680</td>\n",
       "    </tr>\n",
       "    <tr>\n",
       "      <th>4</th>\n",
       "      <td>Uttar Pradesh</td>\n",
       "      <td>285041</td>\n",
       "      <td>4112</td>\n",
       "      <td>278473</td>\n",
       "      <td>4047</td>\n",
       "    </tr>\n",
       "  </tbody>\n",
       "</table>\n",
       "</div>"
      ],
      "text/plain": [
       "           states   Cases  Deaths  PCases  PDeaths\n",
       "0     Maharashtra  943772   27407  943772    27407\n",
       "1  Andhra Pradesh  517094    4560  517094     4560\n",
       "2      Tamil Nadu  474940    8015  474940     8015\n",
       "3       Karnataka  412190    6680  412190     6680\n",
       "4   Uttar Pradesh  285041    4112  278473     4047"
      ]
     },
     "execution_count": 11,
     "metadata": {},
     "output_type": "execute_result"
    }
   ],
   "source": [
    "#hide\n",
    "df_table = pd.DataFrame({'states': dfc_cases.index, 'Cases': dfc_cases.values, 'Deaths': dfc_deaths.values, 'PCases': dfp_cases.values, 'PDeaths': dfp_deaths.values}).set_index('states')\n",
    "df_table = df_table.sort_values(by = ['Cases','Deaths'], ascending = [False, False])\n",
    "df_table = df_table.reset_index()\n",
    "df_table.head()"
   ]
  },
  {
   "cell_type": "code",
   "execution_count": 12,
   "metadata": {
    "execution": {
     "iopub.execute_input": "2020-09-09T12:51:52.910028Z",
     "iopub.status.busy": "2020-09-09T12:51:52.909413Z",
     "iopub.status.idle": "2020-09-09T12:51:52.918559Z",
     "shell.execute_reply": "2020-09-09T12:51:52.919106Z"
    },
    "papermill": {
     "duration": 0.031848,
     "end_time": "2020-09-09T12:51:52.919251",
     "exception": false,
     "start_time": "2020-09-09T12:51:52.887403",
     "status": "completed"
    },
    "tags": []
   },
   "outputs": [],
   "source": [
    "#hide\n",
    "for c in 'Cases, Deaths'.split(', '):\n",
    "    df_table[f'{c} (+)'] = (df_table[c] - df_table[f'P{c}']).clip(0)\n",
    "df_table['Fatality Rate'] = (100* df_table['Deaths']/ df_table['Cases']).round(2)"
   ]
  },
  {
   "cell_type": "code",
   "execution_count": 13,
   "metadata": {
    "execution": {
     "iopub.execute_input": "2020-09-09T12:51:52.966109Z",
     "iopub.status.busy": "2020-09-09T12:51:52.964262Z",
     "iopub.status.idle": "2020-09-09T12:51:52.968252Z",
     "shell.execute_reply": "2020-09-09T12:51:52.968843Z"
    },
    "papermill": {
     "duration": 0.033028,
     "end_time": "2020-09-09T12:51:52.969016",
     "exception": false,
     "start_time": "2020-09-09T12:51:52.935988",
     "status": "completed"
    },
    "tags": []
   },
   "outputs": [
    {
     "data": {
      "text/html": [
       "<div>\n",
       "<style scoped>\n",
       "    .dataframe tbody tr th:only-of-type {\n",
       "        vertical-align: middle;\n",
       "    }\n",
       "\n",
       "    .dataframe tbody tr th {\n",
       "        vertical-align: top;\n",
       "    }\n",
       "\n",
       "    .dataframe thead th {\n",
       "        text-align: right;\n",
       "    }\n",
       "</style>\n",
       "<table border=\"1\" class=\"dataframe\">\n",
       "  <thead>\n",
       "    <tr style=\"text-align: right;\">\n",
       "      <th></th>\n",
       "      <th>states</th>\n",
       "      <th>Cases</th>\n",
       "      <th>Deaths</th>\n",
       "      <th>PCases</th>\n",
       "      <th>PDeaths</th>\n",
       "      <th>Cases (+)</th>\n",
       "      <th>Deaths (+)</th>\n",
       "      <th>Fatality Rate</th>\n",
       "    </tr>\n",
       "  </thead>\n",
       "  <tbody>\n",
       "    <tr>\n",
       "      <th>0</th>\n",
       "      <td>Maharashtra</td>\n",
       "      <td>943772</td>\n",
       "      <td>27407</td>\n",
       "      <td>943772</td>\n",
       "      <td>27407</td>\n",
       "      <td>0</td>\n",
       "      <td>0</td>\n",
       "      <td>2.90</td>\n",
       "    </tr>\n",
       "    <tr>\n",
       "      <th>1</th>\n",
       "      <td>Andhra Pradesh</td>\n",
       "      <td>517094</td>\n",
       "      <td>4560</td>\n",
       "      <td>517094</td>\n",
       "      <td>4560</td>\n",
       "      <td>0</td>\n",
       "      <td>0</td>\n",
       "      <td>0.88</td>\n",
       "    </tr>\n",
       "    <tr>\n",
       "      <th>2</th>\n",
       "      <td>Tamil Nadu</td>\n",
       "      <td>474940</td>\n",
       "      <td>8015</td>\n",
       "      <td>474940</td>\n",
       "      <td>8015</td>\n",
       "      <td>0</td>\n",
       "      <td>0</td>\n",
       "      <td>1.69</td>\n",
       "    </tr>\n",
       "    <tr>\n",
       "      <th>3</th>\n",
       "      <td>Karnataka</td>\n",
       "      <td>412190</td>\n",
       "      <td>6680</td>\n",
       "      <td>412190</td>\n",
       "      <td>6680</td>\n",
       "      <td>0</td>\n",
       "      <td>0</td>\n",
       "      <td>1.62</td>\n",
       "    </tr>\n",
       "    <tr>\n",
       "      <th>4</th>\n",
       "      <td>Uttar Pradesh</td>\n",
       "      <td>285041</td>\n",
       "      <td>4112</td>\n",
       "      <td>278473</td>\n",
       "      <td>4047</td>\n",
       "      <td>6568</td>\n",
       "      <td>65</td>\n",
       "      <td>1.44</td>\n",
       "    </tr>\n",
       "  </tbody>\n",
       "</table>\n",
       "</div>"
      ],
      "text/plain": [
       "           states   Cases  Deaths  PCases  PDeaths  Cases (+)  Deaths (+)  \\\n",
       "0     Maharashtra  943772   27407  943772    27407          0           0   \n",
       "1  Andhra Pradesh  517094    4560  517094     4560          0           0   \n",
       "2      Tamil Nadu  474940    8015  474940     8015          0           0   \n",
       "3       Karnataka  412190    6680  412190     6680          0           0   \n",
       "4   Uttar Pradesh  285041    4112  278473     4047       6568          65   \n",
       "\n",
       "   Fatality Rate  \n",
       "0           2.90  \n",
       "1           0.88  \n",
       "2           1.69  \n",
       "3           1.62  \n",
       "4           1.44  "
      ]
     },
     "execution_count": 13,
     "metadata": {},
     "output_type": "execute_result"
    }
   ],
   "source": [
    "#hide\n",
    "df_table.head()"
   ]
  },
  {
   "cell_type": "code",
   "execution_count": 14,
   "metadata": {
    "execution": {
     "iopub.execute_input": "2020-09-09T12:51:53.012210Z",
     "iopub.status.busy": "2020-09-09T12:51:53.011444Z",
     "iopub.status.idle": "2020-09-09T12:51:53.034985Z",
     "shell.execute_reply": "2020-09-09T12:51:53.035654Z"
    },
    "papermill": {
     "duration": 0.046495,
     "end_time": "2020-09-09T12:51:53.035871",
     "exception": false,
     "start_time": "2020-09-09T12:51:52.989376",
     "status": "completed"
    },
    "tags": []
   },
   "outputs": [
    {
     "data": {
      "text/plain": [
       "{'updated': '2020-09-09',\n",
       " 'since': '2020-09-08',\n",
       " 'Cases': 4382518,\n",
       " 'PCases': 4367436,\n",
       " 'Deaths': 74028,\n",
       " 'PDeaths': 73923,\n",
       " 'Cases (+)': 15082,\n",
       " 'Deaths (+)': 105}"
      ]
     },
     "execution_count": 14,
     "metadata": {},
     "output_type": "execute_result"
    }
   ],
   "source": [
    "#hide\n",
    "summary = {'updated':dates[-1], 'since':dates[-2]}\n",
    "list_names = ['Cases', 'PCases', 'Deaths', 'PDeaths', 'Cases (+)', 'Deaths (+)']\n",
    "for name in list_names:\n",
    "    summary[name] = df_table.sum()[name]\n",
    "summary"
   ]
  },
  {
   "cell_type": "code",
   "execution_count": 15,
   "metadata": {
    "execution": {
     "iopub.execute_input": "2020-09-09T12:51:53.081378Z",
     "iopub.status.busy": "2020-09-09T12:51:53.080643Z",
     "iopub.status.idle": "2020-09-09T12:51:53.083361Z",
     "shell.execute_reply": "2020-09-09T12:51:53.082757Z"
    },
    "papermill": {
     "duration": 0.02773,
     "end_time": "2020-09-09T12:51:53.083508",
     "exception": false,
     "start_time": "2020-09-09T12:51:53.055778",
     "status": "completed"
    },
    "tags": []
   },
   "outputs": [],
   "source": [
    "#hide\n",
    "overview = '''\n",
    "<!-- #######  HTML!! #########-->\n",
    "<h1 style=\"color: #5e9ca0; text-align: center;\">India</h1>\n",
    "<p style=\"text-align: center;\">Last update: <strong>{update}</strong></p>\n",
    "<p style=\"text-align: center;\">Confirmed cases:</p>\n",
    "<p style=\"text-align: center;font-size:24px;\">{cases} (<span style=\"color: #ff0000;\">+{new}</span>)</p>\n",
    "<p style=\"text-align: center;\">Confirmed deaths:</p>\n",
    "<p style=\"text-align: center;font-size:24px;\">{deaths} (<span style=\"color: #ff0000;\">+{dnew}</span>)</p>\n",
    "'''"
   ]
  },
  {
   "cell_type": "code",
   "execution_count": 16,
   "metadata": {
    "execution": {
     "iopub.execute_input": "2020-09-09T12:51:53.131920Z",
     "iopub.status.busy": "2020-09-09T12:51:53.131239Z",
     "iopub.status.idle": "2020-09-09T12:51:53.135786Z",
     "shell.execute_reply": "2020-09-09T12:51:53.135226Z"
    },
    "papermill": {
     "duration": 0.03271,
     "end_time": "2020-09-09T12:51:53.135938",
     "exception": false,
     "start_time": "2020-09-09T12:51:53.103228",
     "status": "completed"
    },
    "tags": []
   },
   "outputs": [
    {
     "data": {
      "text/html": [
       "\n",
       "<!-- #######  HTML!! #########-->\n",
       "<h1 style=\"color: #5e9ca0; text-align: center;\">India</h1>\n",
       "<p style=\"text-align: center;\">Last update: <strong>2020-09-09</strong></p>\n",
       "<p style=\"text-align: center;\">Confirmed cases:</p>\n",
       "<p style=\"text-align: center;font-size:24px;\">4382518 (<span style=\"color: #ff0000;\">+15082</span>)</p>\n",
       "<p style=\"text-align: center;\">Confirmed deaths:</p>\n",
       "<p style=\"text-align: center;font-size:24px;\">74028 (<span style=\"color: #ff0000;\">+105</span>)</p>\n"
      ],
      "text/plain": [
       "<IPython.core.display.HTML object>"
      ]
     },
     "metadata": {},
     "output_type": "display_data"
    }
   ],
   "source": [
    "#hide_input\n",
    "update = summary['updated']\n",
    "cases = summary['Cases']\n",
    "new = summary['Cases (+)']\n",
    "deaths = summary['Deaths']\n",
    "dnew = summary['Deaths (+)']\n",
    "\n",
    "html = HTML(overview.format(update=update, cases=cases,new=new,deaths=deaths,dnew=dnew))\n",
    "\n",
    "display(html)"
   ]
  },
  {
   "cell_type": "code",
   "execution_count": 17,
   "metadata": {
    "execution": {
     "iopub.execute_input": "2020-09-09T12:51:53.182740Z",
     "iopub.status.busy": "2020-09-09T12:51:53.182095Z",
     "iopub.status.idle": "2020-09-09T12:51:53.187597Z",
     "shell.execute_reply": "2020-09-09T12:51:53.188228Z"
    },
    "papermill": {
     "duration": 0.033458,
     "end_time": "2020-09-09T12:51:53.188369",
     "exception": false,
     "start_time": "2020-09-09T12:51:53.154911",
     "status": "completed"
    },
    "tags": []
   },
   "outputs": [],
   "source": [
    "#hide\n",
    "dt_cols = list(dft_cases.columns[1:])\n",
    "dft_ct_new_cases = dft_cases.groupby('state')[dt_cols].sum().diff(axis=1).fillna(0).astype(int)\n",
    "dft_ct_new_cases.sort_values(by = dates[-1], ascending = False,inplace = True)"
   ]
  },
  {
   "cell_type": "code",
   "execution_count": 18,
   "metadata": {
    "execution": {
     "iopub.execute_input": "2020-09-09T12:51:53.244622Z",
     "iopub.status.busy": "2020-09-09T12:51:53.243894Z",
     "iopub.status.idle": "2020-09-09T12:51:53.246854Z",
     "shell.execute_reply": "2020-09-09T12:51:53.247444Z"
    },
    "papermill": {
     "duration": 0.041929,
     "end_time": "2020-09-09T12:51:53.247613",
     "exception": false,
     "start_time": "2020-09-09T12:51:53.205684",
     "status": "completed"
    },
    "tags": []
   },
   "outputs": [
    {
     "data": {
      "text/html": [
       "<div>\n",
       "<style scoped>\n",
       "    .dataframe tbody tr th:only-of-type {\n",
       "        vertical-align: middle;\n",
       "    }\n",
       "\n",
       "    .dataframe tbody tr th {\n",
       "        vertical-align: top;\n",
       "    }\n",
       "\n",
       "    .dataframe thead th {\n",
       "        text-align: right;\n",
       "    }\n",
       "</style>\n",
       "<table border=\"1\" class=\"dataframe\">\n",
       "  <thead>\n",
       "    <tr style=\"text-align: right;\">\n",
       "      <th>states</th>\n",
       "      <th>2020-07-01</th>\n",
       "      <th>2020-07-02</th>\n",
       "      <th>2020-07-03</th>\n",
       "      <th>2020-07-04</th>\n",
       "      <th>2020-07-05</th>\n",
       "      <th>2020-07-06</th>\n",
       "      <th>2020-07-07</th>\n",
       "      <th>2020-07-08</th>\n",
       "      <th>2020-07-09</th>\n",
       "      <th>2020-07-10</th>\n",
       "      <th>...</th>\n",
       "      <th>2020-08-31</th>\n",
       "      <th>2020-09-01</th>\n",
       "      <th>2020-09-02</th>\n",
       "      <th>2020-09-03</th>\n",
       "      <th>2020-09-04</th>\n",
       "      <th>2020-09-05</th>\n",
       "      <th>2020-09-06</th>\n",
       "      <th>2020-09-07</th>\n",
       "      <th>2020-09-08</th>\n",
       "      <th>2020-09-09</th>\n",
       "    </tr>\n",
       "    <tr>\n",
       "      <th>state</th>\n",
       "      <th></th>\n",
       "      <th></th>\n",
       "      <th></th>\n",
       "      <th></th>\n",
       "      <th></th>\n",
       "      <th></th>\n",
       "      <th></th>\n",
       "      <th></th>\n",
       "      <th></th>\n",
       "      <th></th>\n",
       "      <th></th>\n",
       "      <th></th>\n",
       "      <th></th>\n",
       "      <th></th>\n",
       "      <th></th>\n",
       "      <th></th>\n",
       "      <th></th>\n",
       "      <th></th>\n",
       "      <th></th>\n",
       "      <th></th>\n",
       "      <th></th>\n",
       "    </tr>\n",
       "  </thead>\n",
       "  <tbody>\n",
       "    <tr>\n",
       "      <th>Uttar Pradesh</th>\n",
       "      <td>0</td>\n",
       "      <td>769</td>\n",
       "      <td>972</td>\n",
       "      <td>757</td>\n",
       "      <td>1153</td>\n",
       "      <td>929</td>\n",
       "      <td>1332</td>\n",
       "      <td>1188</td>\n",
       "      <td>1206</td>\n",
       "      <td>1338</td>\n",
       "      <td>...</td>\n",
       "      <td>4782</td>\n",
       "      <td>5343</td>\n",
       "      <td>5682</td>\n",
       "      <td>5662</td>\n",
       "      <td>6074</td>\n",
       "      <td>6590</td>\n",
       "      <td>6518</td>\n",
       "      <td>5568</td>\n",
       "      <td>6622</td>\n",
       "      <td>6568</td>\n",
       "    </tr>\n",
       "    <tr>\n",
       "      <th>Odisha</th>\n",
       "      <td>0</td>\n",
       "      <td>229</td>\n",
       "      <td>561</td>\n",
       "      <td>495</td>\n",
       "      <td>469</td>\n",
       "      <td>456</td>\n",
       "      <td>571</td>\n",
       "      <td>527</td>\n",
       "      <td>577</td>\n",
       "      <td>755</td>\n",
       "      <td>...</td>\n",
       "      <td>2602</td>\n",
       "      <td>3025</td>\n",
       "      <td>3219</td>\n",
       "      <td>3631</td>\n",
       "      <td>3267</td>\n",
       "      <td>3543</td>\n",
       "      <td>3810</td>\n",
       "      <td>3861</td>\n",
       "      <td>3490</td>\n",
       "      <td>3748</td>\n",
       "    </tr>\n",
       "    <tr>\n",
       "      <th>Telangana</th>\n",
       "      <td>0</td>\n",
       "      <td>1213</td>\n",
       "      <td>1892</td>\n",
       "      <td>1850</td>\n",
       "      <td>1590</td>\n",
       "      <td>1831</td>\n",
       "      <td>1879</td>\n",
       "      <td>1924</td>\n",
       "      <td>1410</td>\n",
       "      <td>1278</td>\n",
       "      <td>...</td>\n",
       "      <td>1873</td>\n",
       "      <td>2734</td>\n",
       "      <td>2892</td>\n",
       "      <td>2817</td>\n",
       "      <td>2478</td>\n",
       "      <td>2511</td>\n",
       "      <td>2574</td>\n",
       "      <td>1802</td>\n",
       "      <td>2392</td>\n",
       "      <td>2479</td>\n",
       "    </tr>\n",
       "    <tr>\n",
       "      <th>Bihar</th>\n",
       "      <td>0</td>\n",
       "      <td>478</td>\n",
       "      <td>426</td>\n",
       "      <td>349</td>\n",
       "      <td>403</td>\n",
       "      <td>280</td>\n",
       "      <td>385</td>\n",
       "      <td>749</td>\n",
       "      <td>704</td>\n",
       "      <td>352</td>\n",
       "      <td>...</td>\n",
       "      <td>1324</td>\n",
       "      <td>1928</td>\n",
       "      <td>1969</td>\n",
       "      <td>1922</td>\n",
       "      <td>1978</td>\n",
       "      <td>1727</td>\n",
       "      <td>1797</td>\n",
       "      <td>1369</td>\n",
       "      <td>1667</td>\n",
       "      <td>1498</td>\n",
       "    </tr>\n",
       "    <tr>\n",
       "      <th>Tripura</th>\n",
       "      <td>0</td>\n",
       "      <td>39</td>\n",
       "      <td>93</td>\n",
       "      <td>25</td>\n",
       "      <td>23</td>\n",
       "      <td>111</td>\n",
       "      <td>24</td>\n",
       "      <td>57</td>\n",
       "      <td>16</td>\n",
       "      <td>142</td>\n",
       "      <td>...</td>\n",
       "      <td>321</td>\n",
       "      <td>509</td>\n",
       "      <td>566</td>\n",
       "      <td>590</td>\n",
       "      <td>524</td>\n",
       "      <td>691</td>\n",
       "      <td>603</td>\n",
       "      <td>399</td>\n",
       "      <td>628</td>\n",
       "      <td>582</td>\n",
       "    </tr>\n",
       "  </tbody>\n",
       "</table>\n",
       "<p>5 rows × 71 columns</p>\n",
       "</div>"
      ],
      "text/plain": [
       "states         2020-07-01  2020-07-02  2020-07-03  2020-07-04  2020-07-05  \\\n",
       "state                                                                       \n",
       "Uttar Pradesh           0         769         972         757        1153   \n",
       "Odisha                  0         229         561         495         469   \n",
       "Telangana               0        1213        1892        1850        1590   \n",
       "Bihar                   0         478         426         349         403   \n",
       "Tripura                 0          39          93          25          23   \n",
       "\n",
       "states         2020-07-06  2020-07-07  2020-07-08  2020-07-09  2020-07-10  \\\n",
       "state                                                                       \n",
       "Uttar Pradesh         929        1332        1188        1206        1338   \n",
       "Odisha                456         571         527         577         755   \n",
       "Telangana            1831        1879        1924        1410        1278   \n",
       "Bihar                 280         385         749         704         352   \n",
       "Tripura               111          24          57          16         142   \n",
       "\n",
       "states         ...  2020-08-31  2020-09-01  2020-09-02  2020-09-03  \\\n",
       "state          ...                                                   \n",
       "Uttar Pradesh  ...        4782        5343        5682        5662   \n",
       "Odisha         ...        2602        3025        3219        3631   \n",
       "Telangana      ...        1873        2734        2892        2817   \n",
       "Bihar          ...        1324        1928        1969        1922   \n",
       "Tripura        ...         321         509         566         590   \n",
       "\n",
       "states         2020-09-04  2020-09-05  2020-09-06  2020-09-07  2020-09-08  \\\n",
       "state                                                                       \n",
       "Uttar Pradesh        6074        6590        6518        5568        6622   \n",
       "Odisha               3267        3543        3810        3861        3490   \n",
       "Telangana            2478        2511        2574        1802        2392   \n",
       "Bihar                1978        1727        1797        1369        1667   \n",
       "Tripura               524         691         603         399         628   \n",
       "\n",
       "states         2020-09-09  \n",
       "state                      \n",
       "Uttar Pradesh        6568  \n",
       "Odisha               3748  \n",
       "Telangana            2479  \n",
       "Bihar                1498  \n",
       "Tripura               582  \n",
       "\n",
       "[5 rows x 71 columns]"
      ]
     },
     "execution_count": 18,
     "metadata": {},
     "output_type": "execute_result"
    }
   ],
   "source": [
    "#hide\n",
    "dft_ct_new_cases.head()"
   ]
  },
  {
   "cell_type": "code",
   "execution_count": 19,
   "metadata": {
    "execution": {
     "iopub.execute_input": "2020-09-09T12:51:53.337661Z",
     "iopub.status.busy": "2020-09-09T12:51:53.310987Z",
     "iopub.status.idle": "2020-09-09T12:51:57.115785Z",
     "shell.execute_reply": "2020-09-09T12:51:57.116308Z"
    },
    "papermill": {
     "duration": 3.845888,
     "end_time": "2020-09-09T12:51:57.116474",
     "exception": false,
     "start_time": "2020-09-09T12:51:53.270586",
     "status": "completed"
    },
    "tags": []
   },
   "outputs": [
    {
     "data": {
      "image/png": "[encoded data removed]",
      "text/plain": [
       "<Figure size 1296x2016 with 11 Axes>"
      ]
     },
     "metadata": {
      "needs_background": "light"
     },
     "output_type": "display_data"
    }
   ],
   "source": [
    "#hide_input\n",
    "df = dft_ct_new_cases.copy()\n",
    "df.loc['Total'] = df.sum()\n",
    "n = 5\n",
    "ax = []\n",
    "fig = plt.figure(figsize = (18,28))\n",
    "gs = fig.add_gridspec(n+2, 5)\n",
    "# gs = fig.add_gridspec(2, 3)\n",
    "ax1 = fig.add_subplot(gs[0, :])\n",
    "ef = df.loc['Total'].rename_axis('date').reset_index()\n",
    "ef['date'] = ef['date'].astype('datetime64[ns]')\n",
    "ax1.bar(ef.date,ef.Total,alpha=0.3,color='#007acc')\n",
    "ax1.plot(ef.date,ef.Total , marker=\"o\", color='#007acc')\n",
    "ax1.xaxis.set_major_locator(mdates.WeekdayLocator())\n",
    "ax1.xaxis.set_major_formatter(mdates.DateFormatter('%b %d'))\n",
    "ax1.text(0.02, 0.5,'India daily case count', transform = ax1.transAxes, fontsize=25);\n",
    "ax1.spines['right'].set_visible(False)\n",
    "ax1.spines['top'].set_visible(False)\n",
    "\n",
    "ax2 = fig.add_subplot(gs[1,0])\n",
    "ef = df.loc['Maharashtra'].rename_axis('date').reset_index()\n",
    "ef['date'] = ef['date'].astype('datetime64[ns]')\n",
    "\n",
    "ax2.bar(ef.date, ef.Maharashtra,color = '#007acc',alpha=0.5)\n",
    "ax2.xaxis.set_major_locator(mdates.WeekdayLocator())\n",
    "ax2.xaxis.set_major_formatter(mdates.DateFormatter('%b %d'))\n",
    "ax2.set_xticks(ax2.get_xticks()[::3])\n",
    "maxyval = ef.Maharashtra.max()\n",
    "ax2.set_ylim([0,maxyval])\n",
    "ax2.text(0.05, 0.9,'Maharashtra', transform = ax2.transAxes, fontsize=20);\n",
    "ax2.spines['right'].set_visible(False)\n",
    "ax2.spines['top'].set_visible(False)\n",
    "\n",
    "\n",
    "ax3 = fig.add_subplot(gs[1,1])\n",
    "ef = df.loc['Tamil Nadu'].rename_axis('date').reset_index()\n",
    "ef['date'] = ef['date'].astype('datetime64[ns]')\n",
    "ax3.bar(ef.date, ef['Tamil Nadu'],color = '#007acc',alpha=0.5,)\n",
    "ax3.xaxis.set_major_locator(mdates.WeekdayLocator())\n",
    "ax3.xaxis.set_major_formatter(mdates.DateFormatter('%b %d'))\n",
    "ax3.set_xticks(ax3.get_xticks()[::3])\n",
    "ax3.text(0.05, 0.9,'Tamil Nadu', transform = ax3.transAxes, fontsize=20);\n",
    "ax3.spines['right'].set_visible(False)\n",
    "ax3.spines['top'].set_visible(False)\n",
    "\n",
    "ax5 = fig.add_subplot(gs[1,3])\n",
    "ef = df.loc['Telangana'].rename_axis('date').reset_index()\n",
    "ef['date'] = ef['date'].astype('datetime64[ns]')\n",
    "ax5.bar(ef.date, ef['Telangana'],color = '#007acc',alpha=0.5,)\n",
    "ax5.xaxis.set_major_locator(mdates.WeekdayLocator())\n",
    "ax5.xaxis.set_major_formatter(mdates.DateFormatter('%b %d'))\n",
    "ax5.set_xticks(ax5.get_xticks()[::3])\n",
    "ax5.text(0.05, 0.9,'Telangana', transform = ax5.transAxes, fontsize=20);\n",
    "ax5.spines['right'].set_visible(False)\n",
    "ax5.spines['top'].set_visible(False)\n",
    "\n",
    "ax6 = fig.add_subplot(gs[1,4])\n",
    "ef = df.loc['Andhra Pradesh'].rename_axis('date').reset_index()\n",
    "ef['date'] = ef['date'].astype('datetime64[ns]')\n",
    "ax6.bar(ef.date, ef['Andhra Pradesh'],color = '#007acc',alpha=0.5,)\n",
    "ax6.xaxis.set_major_locator(mdates.WeekdayLocator())\n",
    "ax6.xaxis.set_major_formatter(mdates.DateFormatter('%b %d'))\n",
    "ax6.set_xticks(ax6.get_xticks()[::3])\n",
    "ax6.text(0.05, 1,'Andhra Pradesh', transform = ax6.transAxes, fontsize=20);\n",
    "ax6.spines['right'].set_visible(False)\n",
    "ax6.spines['top'].set_visible(False)\n",
    "\n",
    "ax4 = fig.add_subplot(gs[1,2])\n",
    "ef = df.loc['Delhi'].rename_axis('date').reset_index()\n",
    "ef['date'] = ef['date'].astype('datetime64[ns]')\n",
    "ax4.bar(ef.date, ef.Delhi,color = '#007acc',alpha=0.5)\n",
    "ax4.set_xticks([])\n",
    "ax4.xaxis.set_major_locator(mdates.WeekdayLocator())\n",
    "ax4.xaxis.set_major_formatter(mdates.DateFormatter('%b %d'))\n",
    "ax4.set_xticks(ax4.get_xticks()[::3])\n",
    "ax4.spines['right'].set_visible(False)\n",
    "ax4.spines['top'].set_visible(False)\n",
    "\n",
    "ax4.text(0.05, 1,'Delhi', transform = ax4.transAxes, fontsize=20)\n",
    "\n",
    "for i in range(n):\n",
    "    \n",
    "    ax.append(fig.add_subplot(gs[i+2,:]))\n",
    "    ef = df.iloc[i+3].rename_axis('date').reset_index()\n",
    "    ef['date'] = ef['date'].astype('datetime64[ns]')\n",
    "    ax[i].bar(ef.date,ef.iloc[:,-1],color = '#007acc',alpha=0.3)\n",
    "    ax[i].plot(ef.date,ef.iloc[:,-1],marker='o',color='#007acc')\n",
    "    ax[i].text(0.02,0.5,f'{ef.columns.values[-1]}',transform = ax[i].transAxes, fontsize = 20);\n",
    "    ax[i].xaxis.set_major_locator(mdates.WeekdayLocator())\n",
    "    ax[i].xaxis.set_major_formatter(mdates.DateFormatter('%b %d'))\n",
    "    ax[i].set_ylim([0,7000])\n",
    "    ax[i].spines['right'].set_visible(False)\n",
    "    ax[i].spines['top'].set_visible(False)\n",
    "plt.tight_layout()\n"
   ]
  },
  {
   "cell_type": "code",
   "execution_count": 20,
   "metadata": {
    "execution": {
     "iopub.execute_input": "2020-09-09T12:51:57.175342Z",
     "iopub.status.busy": "2020-09-09T12:51:57.174610Z",
     "iopub.status.idle": "2020-09-09T12:51:57.177185Z",
     "shell.execute_reply": "2020-09-09T12:51:57.177834Z"
    },
    "papermill": {
     "duration": 0.036159,
     "end_time": "2020-09-09T12:51:57.178016",
     "exception": false,
     "start_time": "2020-09-09T12:51:57.141857",
     "status": "completed"
    },
    "tags": []
   },
   "outputs": [
    {
     "name": "stdout",
     "output_type": "stream",
     "text": [
      "                                   states   Cases  Deaths  PCases  PDeaths  Cases (+)  Deaths (+)  Fatality Rate\n",
      "                              Maharashtra  943772   27407  943772    27407          0           0           2.90\n",
      "                           Andhra Pradesh  517094    4560  517094     4560          0           0           0.88\n",
      "                               Tamil Nadu  474940    8015  474940     8015          0           0           1.69\n",
      "                                Karnataka  412190    6680  412190     6680          0           0           1.62\n",
      "                            Uttar Pradesh  285041    4112  278473     4047       6568          65           1.44\n",
      "                                    Delhi  197135    4618  197135     4618          0           0           2.34\n",
      "                              West Bengal  186956    3677  186956     3677          0           0           1.97\n",
      "                                    Bihar  152192     775  150694      765       1498          10           0.51\n",
      "                                Telangana  147642     916  145163      906       2479          10           0.62\n",
      "                                   Odisha  135130     633  131382      622       3748          11           0.47\n",
      "                                    Assam  130823     378  130823      378          0           0           0.29\n",
      "                                  Gujarat  106966    3134  106966     3134          0           0           2.93\n",
      "                                Rajasthan   94126    1164   94126     1164          0           0           1.24\n",
      "                                   Kerala   92516     373   92516      373          0           0           0.40\n",
      "                                  Haryana   81059     854   81059      854          0           0           1.05\n",
      "                           Madhya Pradesh   77323    1609   77323     1609          0           0           2.08\n",
      "                                   Punjab   67547    1990   67547     1990          0           0           2.95\n",
      "                                Jharkhand   55296     496   55296      496          0           0           0.90\n",
      "                             Chhattisgarh   50114     407   50114      407          0           0           0.81\n",
      "                        Jammu and Kashmir   45925     815   45925      815          0           0           1.77\n",
      "                              Uttarakhand   26094     360   26094      360          0           0           1.38\n",
      "                                      Goa   21630     256   21630      256          0           0           1.18\n",
      "                               Puducherry   17749     337   17749      337          0           0           1.90\n",
      "                                  Tripura   16736     161   16154      152        582           9           0.96\n",
      "                         Himachal Pradesh    7831      59    7831       59          0           0           0.75\n",
      "                                  Manipur    7202      39    7202       39          0           0           0.54\n",
      "                               Chandigarh    6372      75    6372       75          0           0           1.18\n",
      "                        Arunachal Pradesh    5401       9    5401        9          0           0           0.17\n",
      "                                 Nagaland    4375       8    4245        8        130           0           0.18\n",
      "              Andaman and Nicobar Islands    3392      50    3392       50          0           0           1.47\n",
      "                                   Ladakh    3102      35    3102       35          0           0           1.13\n",
      "                                Meghalaya    3076      17    3076       17          0           0           0.55\n",
      " Dadra and Nagar Haveli and Daman and Diu    2621       2    2613        2          8           0           0.08\n",
      "                                   Sikkim    1958       7    1958        7          0           0           0.36\n",
      "                                  Mizoram    1192       0    1123        0         69           0           0.00\n",
      "                              Lakshadweep       0       0       0        0          0           0            NaN\n"
     ]
    }
   ],
   "source": [
    "#hide_input\n",
    "print(df_table.to_string(index=False))"
   ]
  },
  {
   "cell_type": "code",
   "execution_count": null,
   "metadata": {
    "papermill": {
     "duration": 0.026584,
     "end_time": "2020-09-09T12:51:57.231785",
     "exception": false,
     "start_time": "2020-09-09T12:51:57.205201",
     "status": "completed"
    },
    "tags": []
   },
   "outputs": [],
   "source": []
  },
  {
   "cell_type": "code",
   "execution_count": null,
   "metadata": {
    "papermill": {
     "duration": 0.027347,
     "end_time": "2020-09-09T12:51:57.284865",
     "exception": false,
     "start_time": "2020-09-09T12:51:57.257518",
     "status": "completed"
    },
    "tags": []
   },
   "outputs": [],
   "source": []
  }
 ],
 "metadata": {
  "kernelspec": {
   "display_name": "Python 3",
   "language": "python",
   "name": "python3"
  },
  "language_info": {
   "codemirror_mode": {
    "name": "ipython",
    "version": 3
   },
   "file_extension": ".py",
   "mimetype": "text/x-python",
   "name": "python",
   "nbconvert_exporter": "python",
   "pygments_lexer": "ipython3",
   "version": "3.6.12"
  },
  "papermill": {
   "duration": 10.759826,
   "end_time": "2020-09-09T12:51:57.718419",
   "environment_variables": {},
   "exception": null,
   "input_path": "latest.ipynb",
   "output_path": "latest.ipynb",
   "parameters": {},
   "start_time": "2020-09-09T12:51:46.958593",
   "version": "2.1.2"
  }
 },
 "nbformat": 4,
 "nbformat_minor": 4
}