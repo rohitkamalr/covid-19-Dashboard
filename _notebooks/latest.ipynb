{
 "cells": [
  {
   "cell_type": "markdown",
   "metadata": {
    "papermill": {
     "duration": 0.023725,
     "end_time": "2020-09-08T12:42:27.176369",
     "exception": false,
     "start_time": "2020-09-08T12:42:27.152644",
     "status": "completed"
    },
    "tags": []
   },
   "source": [
    "# Latest COVID-19 India Matplotlib Overview"
   ]
  },
  {
   "cell_type": "code",
   "execution_count": 1,
   "metadata": {
    "execution": {
     "iopub.execute_input": "2020-09-08T12:42:27.222279Z",
     "iopub.status.busy": "2020-09-08T12:42:27.221502Z",
     "iopub.status.idle": "2020-09-08T12:42:27.944588Z",
     "shell.execute_reply": "2020-09-08T12:42:27.945339Z"
    },
    "papermill": {
     "duration": 0.74938,
     "end_time": "2020-09-08T12:42:27.945594",
     "exception": false,
     "start_time": "2020-09-08T12:42:27.196214",
     "status": "completed"
    },
    "tags": []
   },
   "outputs": [],
   "source": [
    "#hide\n",
    "import pandas as pd\n",
    "import numpy as np\n",
    "import requests\n",
    "import json\n",
    "import matplotlib.pyplot as plt\n",
    "import matplotlib.dates as mdates\n",
    "import matplotlib as mpl\n",
    "from IPython.core.display import display,HTML\n",
    "%matplotlib inline\n",
    "from datetime import date"
   ]
  },
  {
   "cell_type": "code",
   "execution_count": 2,
   "metadata": {
    "execution": {
     "iopub.execute_input": "2020-09-08T12:42:27.991790Z",
     "iopub.status.busy": "2020-09-08T12:42:27.991005Z",
     "iopub.status.idle": "2020-09-08T12:42:28.303766Z",
     "shell.execute_reply": "2020-09-08T12:42:28.303153Z"
    },
    "papermill": {
     "duration": 0.339847,
     "end_time": "2020-09-08T12:42:28.303926",
     "exception": false,
     "start_time": "2020-09-08T12:42:27.964079",
     "status": "completed"
    },
    "tags": []
   },
   "outputs": [],
   "source": [
    "#hide\n",
    "df  = pd.read_csv('https://api.covid19india.org/csv/latest/states.csv')\n",
    "df = df[['Date','State','Confirmed','Deceased']]\n",
    "df = df.rename(columns={'Confirmed':'Cases', \"Deceased\":'Deaths'})\n",
    "df_cases = df[[\"Date\",'State','Cases']]\n",
    "df_deaths = df[['Date','State','Deaths']]\n",
    "df_cases1 = df_cases.groupby('Date')\n",
    "df_deaths1= df_deaths.groupby('Date')"
   ]
  },
  {
   "cell_type": "code",
   "execution_count": 3,
   "metadata": {
    "execution": {
     "iopub.execute_input": "2020-09-08T12:42:28.344960Z",
     "iopub.status.busy": "2020-09-08T12:42:28.344239Z",
     "iopub.status.idle": "2020-09-08T12:42:28.365141Z",
     "shell.execute_reply": "2020-09-08T12:42:28.364512Z"
    },
    "papermill": {
     "duration": 0.044224,
     "end_time": "2020-09-08T12:42:28.365292",
     "exception": false,
     "start_time": "2020-09-08T12:42:28.321068",
     "status": "completed"
    },
    "tags": []
   },
   "outputs": [],
   "source": [
    "#hide\n",
    "df_snap = pd.read_csv('data/SnapshotCases-28-July.csv')\n",
    "arr_states = df_snap['states'].unique()\n",
    "arr_dates = df['Date'].unique()\n",
    "df_snap = df_snap.set_index('states')"
   ]
  },
  {
   "cell_type": "code",
   "execution_count": 4,
   "metadata": {
    "execution": {
     "iopub.execute_input": "2020-09-08T12:42:28.417052Z",
     "iopub.status.busy": "2020-09-08T12:42:28.416209Z",
     "iopub.status.idle": "2020-09-08T12:42:28.421964Z",
     "shell.execute_reply": "2020-09-08T12:42:28.421316Z"
    },
    "papermill": {
     "duration": 0.039346,
     "end_time": "2020-09-08T12:42:28.422125",
     "exception": false,
     "start_time": "2020-09-08T12:42:28.382779",
     "status": "completed"
    },
    "tags": []
   },
   "outputs": [
    {
     "data": {
      "text/plain": [
       "array(['Andaman and Nicobar Islands', 'Andhra Pradesh',\n",
       "       'Arunachal Pradesh', 'Assam', 'Bihar', 'Chandigarh',\n",
       "       'Dadra and Nagar Haveli and Daman and Diu', 'Delhi', 'Goa',\n",
       "       'Gujarat', 'Haryana', 'Himachal Pradesh', 'Jammu and Kashmir',\n",
       "       'Jharkhand', 'Karnataka', 'Kerala', 'Lakshadweep',\n",
       "       'Madhya Pradesh', 'Maharashtra', 'Manipur', 'Meghalaya', 'Mizoram',\n",
       "       'Nagaland', 'Odisha', 'Puducherry', 'Punjab', 'Rajasthan',\n",
       "       'Sikkim', 'Tamil Nadu', 'Telangana', 'Tripura', 'Uttar Pradesh',\n",
       "       'West Bengal', 'Chhattisgarh', 'Ladakh', 'Uttarakhand'],\n",
       "      dtype=object)"
      ]
     },
     "execution_count": 4,
     "metadata": {},
     "output_type": "execute_result"
    }
   ],
   "source": [
    "#hide\n",
    "arr_states[-9] = 'Puducherry'\n",
    "arr_states[-10] = 'Odisha'\n",
    "arr_states[6] = 'Dadra and Nagar Haveli and Daman and Diu'\n",
    "arr_states = np.append(arr_states,np.array(['Chhattisgarh','Ladakh','Uttarakhand']))\n",
    "arr_states"
   ]
  },
  {
   "cell_type": "code",
   "execution_count": 5,
   "metadata": {
    "execution": {
     "iopub.execute_input": "2020-09-08T12:42:28.470660Z",
     "iopub.status.busy": "2020-09-08T12:42:28.469881Z",
     "iopub.status.idle": "2020-09-08T12:42:28.478093Z",
     "shell.execute_reply": "2020-09-08T12:42:28.477443Z"
    },
    "papermill": {
     "duration": 0.03586,
     "end_time": "2020-09-08T12:42:28.478256",
     "exception": false,
     "start_time": "2020-09-08T12:42:28.442396",
     "status": "completed"
    },
    "tags": []
   },
   "outputs": [],
   "source": [
    "#hide\n",
    "dates = []\n",
    "for i in arr_dates:\n",
    "    if i>='2020-07-01':\n",
    "        dates.append(i)\n",
    "dict = {'states':dates}\n",
    "for i in arr_states:\n",
    "    dict[i] = [0]*len(dates)\n",
    "dft_cases = pd.DataFrame(dict)\n",
    "dft_deaths = pd.DataFrame(dict)\n"
   ]
  },
  {
   "cell_type": "code",
   "execution_count": 6,
   "metadata": {
    "execution": {
     "iopub.execute_input": "2020-09-08T12:42:28.523729Z",
     "iopub.status.busy": "2020-09-08T12:42:28.522967Z",
     "iopub.status.idle": "2020-09-08T12:42:29.979164Z",
     "shell.execute_reply": "2020-09-08T12:42:29.978509Z"
    },
    "papermill": {
     "duration": 1.481677,
     "end_time": "2020-09-08T12:42:29.979340",
     "exception": false,
     "start_time": "2020-09-08T12:42:28.497663",
     "status": "completed"
    },
    "tags": []
   },
   "outputs": [],
   "source": [
    "#hide\n",
    "for i in range(len(dates)):\n",
    "    df1_deaths = df_deaths1.get_group(dates[i])\n",
    "    for j in range(len(df1_deaths.index)):\n",
    "        if df1_deaths.iloc[j,1] in arr_states:\n",
    "            dft_deaths.loc[i,df1_deaths.iloc[j,1]] = df1_deaths.iloc[j,2]\n",
    "dft_deaths = dft_deaths.set_index('states')"
   ]
  },
  {
   "cell_type": "code",
   "execution_count": 7,
   "metadata": {
    "execution": {
     "iopub.execute_input": "2020-09-08T12:42:30.680878Z",
     "iopub.status.busy": "2020-09-08T12:42:30.680087Z",
     "iopub.status.idle": "2020-09-08T12:42:32.141438Z",
     "shell.execute_reply": "2020-09-08T12:42:32.140529Z"
    },
    "papermill": {
     "duration": 2.139269,
     "end_time": "2020-09-08T12:42:32.141594",
     "exception": false,
     "start_time": "2020-09-08T12:42:30.002325",
     "status": "completed"
    },
    "tags": []
   },
   "outputs": [],
   "source": [
    "#hide\n",
    "for i in range(len(dates)):\n",
    "    df1_cases = df_cases1.get_group(dates[i])\n",
    "    for j in range(len(df1_cases.index)):\n",
    "        if df1_cases.iloc[j,1] in arr_states:\n",
    "            dft_cases.loc[i,df1_cases.iloc[j,1]] = df1_cases.iloc[j,2]\n",
    "dft_cases = dft_cases.set_index('states')"
   ]
  },
  {
   "cell_type": "code",
   "execution_count": 8,
   "metadata": {
    "execution": {
     "iopub.execute_input": "2020-09-08T12:42:32.184046Z",
     "iopub.status.busy": "2020-09-08T12:42:32.183064Z",
     "iopub.status.idle": "2020-09-08T12:42:32.186301Z",
     "shell.execute_reply": "2020-09-08T12:42:32.188645Z"
    },
    "papermill": {
     "duration": 0.029201,
     "end_time": "2020-09-08T12:42:32.188831",
     "exception": false,
     "start_time": "2020-09-08T12:42:32.159630",
     "status": "completed"
    },
    "tags": []
   },
   "outputs": [],
   "source": [
    "#hide\n",
    "dft_cases = dft_cases.T\n",
    "dft_deaths = dft_deaths.T\n",
    "dt_today = dates[-1]\n",
    "dt_yday = dates[-2]"
   ]
  },
  {
   "cell_type": "code",
   "execution_count": 9,
   "metadata": {
    "execution": {
     "iopub.execute_input": "2020-09-08T12:42:32.232850Z",
     "iopub.status.busy": "2020-09-08T12:42:32.230558Z",
     "iopub.status.idle": "2020-09-08T12:42:32.236562Z",
     "shell.execute_reply": "2020-09-08T12:42:32.237244Z"
    },
    "papermill": {
     "duration": 0.029606,
     "end_time": "2020-09-08T12:42:32.237414",
     "exception": false,
     "start_time": "2020-09-08T12:42:32.207808",
     "status": "completed"
    },
    "tags": []
   },
   "outputs": [],
   "source": [
    "#hide\n",
    "dft_cases = dft_cases.reset_index()\n",
    "dft_deaths = dft_deaths.reset_index()\n",
    "dft_cases = dft_cases.rename(columns = {'index':'state'})\n",
    "dft_deaths = dft_deaths.rename(columns = {'index':'state'})"
   ]
  },
  {
   "cell_type": "code",
   "execution_count": 10,
   "metadata": {
    "execution": {
     "iopub.execute_input": "2020-09-08T12:42:32.284346Z",
     "iopub.status.busy": "2020-09-08T12:42:32.283664Z",
     "iopub.status.idle": "2020-09-08T12:42:32.290601Z",
     "shell.execute_reply": "2020-09-08T12:42:32.291229Z"
    },
    "papermill": {
     "duration": 0.036117,
     "end_time": "2020-09-08T12:42:32.291389",
     "exception": false,
     "start_time": "2020-09-08T12:42:32.255272",
     "status": "completed"
    },
    "tags": []
   },
   "outputs": [],
   "source": [
    "#hide\n",
    "dfc_cases = dft_cases.groupby('state')[dt_today].sum()\n",
    "dfc_deaths = dft_deaths.groupby('state')[dt_today].sum()\n",
    "dfp_cases = dft_cases.groupby('state')[dt_yday].sum()\n",
    "dfp_deaths = dft_deaths.groupby('state')[dt_yday].sum()"
   ]
  },
  {
   "cell_type": "code",
   "execution_count": 11,
   "metadata": {
    "execution": {
     "iopub.execute_input": "2020-09-08T12:42:32.352373Z",
     "iopub.status.busy": "2020-09-08T12:42:32.351601Z",
     "iopub.status.idle": "2020-09-08T12:42:32.359386Z",
     "shell.execute_reply": "2020-09-08T12:42:32.358738Z"
    },
    "papermill": {
     "duration": 0.048642,
     "end_time": "2020-09-08T12:42:32.359550",
     "exception": false,
     "start_time": "2020-09-08T12:42:32.310908",
     "status": "completed"
    },
    "tags": []
   },
   "outputs": [
    {
     "data": {
      "text/html": [
       "<div>\n",
       "<style scoped>\n",
       "    .dataframe tbody tr th:only-of-type {\n",
       "        vertical-align: middle;\n",
       "    }\n",
       "\n",
       "    .dataframe tbody tr th {\n",
       "        vertical-align: top;\n",
       "    }\n",
       "\n",
       "    .dataframe thead th {\n",
       "        text-align: right;\n",
       "    }\n",
       "</style>\n",
       "<table border=\"1\" class=\"dataframe\">\n",
       "  <thead>\n",
       "    <tr style=\"text-align: right;\">\n",
       "      <th></th>\n",
       "      <th>states</th>\n",
       "      <th>Cases</th>\n",
       "      <th>Deaths</th>\n",
       "      <th>PCases</th>\n",
       "      <th>PDeaths</th>\n",
       "    </tr>\n",
       "  </thead>\n",
       "  <tbody>\n",
       "    <tr>\n",
       "      <th>0</th>\n",
       "      <td>Maharashtra</td>\n",
       "      <td>923641</td>\n",
       "      <td>27027</td>\n",
       "      <td>923641</td>\n",
       "      <td>27027</td>\n",
       "    </tr>\n",
       "    <tr>\n",
       "      <th>1</th>\n",
       "      <td>Andhra Pradesh</td>\n",
       "      <td>506493</td>\n",
       "      <td>4487</td>\n",
       "      <td>506493</td>\n",
       "      <td>4487</td>\n",
       "    </tr>\n",
       "    <tr>\n",
       "      <th>2</th>\n",
       "      <td>Tamil Nadu</td>\n",
       "      <td>469256</td>\n",
       "      <td>7928</td>\n",
       "      <td>469256</td>\n",
       "      <td>7928</td>\n",
       "    </tr>\n",
       "    <tr>\n",
       "      <th>3</th>\n",
       "      <td>Karnataka</td>\n",
       "      <td>404324</td>\n",
       "      <td>6534</td>\n",
       "      <td>404324</td>\n",
       "      <td>6534</td>\n",
       "    </tr>\n",
       "    <tr>\n",
       "      <th>4</th>\n",
       "      <td>Uttar Pradesh</td>\n",
       "      <td>278473</td>\n",
       "      <td>4047</td>\n",
       "      <td>271851</td>\n",
       "      <td>3976</td>\n",
       "    </tr>\n",
       "  </tbody>\n",
       "</table>\n",
       "</div>"
      ],
      "text/plain": [
       "           states   Cases  Deaths  PCases  PDeaths\n",
       "0     Maharashtra  923641   27027  923641    27027\n",
       "1  Andhra Pradesh  506493    4487  506493     4487\n",
       "2      Tamil Nadu  469256    7928  469256     7928\n",
       "3       Karnataka  404324    6534  404324     6534\n",
       "4   Uttar Pradesh  278473    4047  271851     3976"
      ]
     },
     "execution_count": 11,
     "metadata": {},
     "output_type": "execute_result"
    }
   ],
   "source": [
    "#hide\n",
    "df_table = pd.DataFrame({'states': dfc_cases.index, 'Cases': dfc_cases.values, 'Deaths': dfc_deaths.values, 'PCases': dfp_cases.values, 'PDeaths': dfp_deaths.values}).set_index('states')\n",
    "df_table = df_table.sort_values(by = ['Cases','Deaths'], ascending = [False, False])\n",
    "df_table = df_table.reset_index()\n",
    "df_table.head()"
   ]
  },
  {
   "cell_type": "code",
   "execution_count": 12,
   "metadata": {
    "execution": {
     "iopub.execute_input": "2020-09-08T12:42:32.409438Z",
     "iopub.status.busy": "2020-09-08T12:42:32.408673Z",
     "iopub.status.idle": "2020-09-08T12:42:32.418454Z",
     "shell.execute_reply": "2020-09-08T12:42:32.417839Z"
    },
    "papermill": {
     "duration": 0.038412,
     "end_time": "2020-09-08T12:42:32.418710",
     "exception": false,
     "start_time": "2020-09-08T12:42:32.380298",
     "status": "completed"
    },
    "tags": []
   },
   "outputs": [],
   "source": [
    "#hide\n",
    "for c in 'Cases, Deaths'.split(', '):\n",
    "    df_table[f'{c} (+)'] = (df_table[c] - df_table[f'P{c}']).clip(0)\n",
    "df_table['Fatality Rate'] = (100* df_table['Deaths']/ df_table['Cases']).round(2)"
   ]
  },
  {
   "cell_type": "code",
   "execution_count": 13,
   "metadata": {
    "execution": {
     "iopub.execute_input": "2020-09-08T12:42:32.470273Z",
     "iopub.status.busy": "2020-09-08T12:42:32.469579Z",
     "iopub.status.idle": "2020-09-08T12:42:32.472931Z",
     "shell.execute_reply": "2020-09-08T12:42:32.473590Z"
    },
    "papermill": {
     "duration": 0.035022,
     "end_time": "2020-09-08T12:42:32.473754",
     "exception": false,
     "start_time": "2020-09-08T12:42:32.438732",
     "status": "completed"
    },
    "tags": []
   },
   "outputs": [
    {
     "data": {
      "text/html": [
       "<div>\n",
       "<style scoped>\n",
       "    .dataframe tbody tr th:only-of-type {\n",
       "        vertical-align: middle;\n",
       "    }\n",
       "\n",
       "    .dataframe tbody tr th {\n",
       "        vertical-align: top;\n",
       "    }\n",
       "\n",
       "    .dataframe thead th {\n",
       "        text-align: right;\n",
       "    }\n",
       "</style>\n",
       "<table border=\"1\" class=\"dataframe\">\n",
       "  <thead>\n",
       "    <tr style=\"text-align: right;\">\n",
       "      <th></th>\n",
       "      <th>states</th>\n",
       "      <th>Cases</th>\n",
       "      <th>Deaths</th>\n",
       "      <th>PCases</th>\n",
       "      <th>PDeaths</th>\n",
       "      <th>Cases (+)</th>\n",
       "      <th>Deaths (+)</th>\n",
       "      <th>Fatality Rate</th>\n",
       "    </tr>\n",
       "  </thead>\n",
       "  <tbody>\n",
       "    <tr>\n",
       "      <th>0</th>\n",
       "      <td>Maharashtra</td>\n",
       "      <td>923641</td>\n",
       "      <td>27027</td>\n",
       "      <td>923641</td>\n",
       "      <td>27027</td>\n",
       "      <td>0</td>\n",
       "      <td>0</td>\n",
       "      <td>2.93</td>\n",
       "    </tr>\n",
       "    <tr>\n",
       "      <th>1</th>\n",
       "      <td>Andhra Pradesh</td>\n",
       "      <td>506493</td>\n",
       "      <td>4487</td>\n",
       "      <td>506493</td>\n",
       "      <td>4487</td>\n",
       "      <td>0</td>\n",
       "      <td>0</td>\n",
       "      <td>0.89</td>\n",
       "    </tr>\n",
       "    <tr>\n",
       "      <th>2</th>\n",
       "      <td>Tamil Nadu</td>\n",
       "      <td>469256</td>\n",
       "      <td>7928</td>\n",
       "      <td>469256</td>\n",
       "      <td>7928</td>\n",
       "      <td>0</td>\n",
       "      <td>0</td>\n",
       "      <td>1.69</td>\n",
       "    </tr>\n",
       "    <tr>\n",
       "      <th>3</th>\n",
       "      <td>Karnataka</td>\n",
       "      <td>404324</td>\n",
       "      <td>6534</td>\n",
       "      <td>404324</td>\n",
       "      <td>6534</td>\n",
       "      <td>0</td>\n",
       "      <td>0</td>\n",
       "      <td>1.62</td>\n",
       "    </tr>\n",
       "    <tr>\n",
       "      <th>4</th>\n",
       "      <td>Uttar Pradesh</td>\n",
       "      <td>278473</td>\n",
       "      <td>4047</td>\n",
       "      <td>271851</td>\n",
       "      <td>3976</td>\n",
       "      <td>6622</td>\n",
       "      <td>71</td>\n",
       "      <td>1.45</td>\n",
       "    </tr>\n",
       "  </tbody>\n",
       "</table>\n",
       "</div>"
      ],
      "text/plain": [
       "           states   Cases  Deaths  PCases  PDeaths  Cases (+)  Deaths (+)  \\\n",
       "0     Maharashtra  923641   27027  923641    27027          0           0   \n",
       "1  Andhra Pradesh  506493    4487  506493     4487          0           0   \n",
       "2      Tamil Nadu  469256    7928  469256     7928          0           0   \n",
       "3       Karnataka  404324    6534  404324     6534          0           0   \n",
       "4   Uttar Pradesh  278473    4047  271851     3976       6622          71   \n",
       "\n",
       "   Fatality Rate  \n",
       "0           2.93  \n",
       "1           0.89  \n",
       "2           1.69  \n",
       "3           1.62  \n",
       "4           1.45  "
      ]
     },
     "execution_count": 13,
     "metadata": {},
     "output_type": "execute_result"
    }
   ],
   "source": [
    "#hide\n",
    "df_table.head()"
   ]
  },
  {
   "cell_type": "code",
   "execution_count": 14,
   "metadata": {
    "execution": {
     "iopub.execute_input": "2020-09-08T12:42:32.517358Z",
     "iopub.status.busy": "2020-09-08T12:42:32.516668Z",
     "iopub.status.idle": "2020-09-08T12:42:32.538451Z",
     "shell.execute_reply": "2020-09-08T12:42:32.537797Z"
    },
    "papermill": {
     "duration": 0.046455,
     "end_time": "2020-09-08T12:42:32.538615",
     "exception": false,
     "start_time": "2020-09-08T12:42:32.492160",
     "status": "completed"
    },
    "tags": []
   },
   "outputs": [
    {
     "data": {
      "text/plain": [
       "{'updated': '2020-09-08',\n",
       " 'since': '2020-09-07',\n",
       " 'Cases': 4292421,\n",
       " 'PCases': 4277584,\n",
       " 'Deaths': 72918,\n",
       " 'PDeaths': 72816,\n",
       " 'Cases (+)': 14837,\n",
       " 'Deaths (+)': 102}"
      ]
     },
     "execution_count": 14,
     "metadata": {},
     "output_type": "execute_result"
    }
   ],
   "source": [
    "#hide\n",
    "summary = {'updated':dates[-1], 'since':dates[-2]}\n",
    "list_names = ['Cases', 'PCases', 'Deaths', 'PDeaths', 'Cases (+)', 'Deaths (+)']\n",
    "for name in list_names:\n",
    "    summary[name] = df_table.sum()[name]\n",
    "summary"
   ]
  },
  {
   "cell_type": "code",
   "execution_count": 15,
   "metadata": {
    "execution": {
     "iopub.execute_input": "2020-09-08T12:42:32.585536Z",
     "iopub.status.busy": "2020-09-08T12:42:32.584827Z",
     "iopub.status.idle": "2020-09-08T12:42:32.586808Z",
     "shell.execute_reply": "2020-09-08T12:42:32.587466Z"
    },
    "papermill": {
     "duration": 0.028531,
     "end_time": "2020-09-08T12:42:32.587623",
     "exception": false,
     "start_time": "2020-09-08T12:42:32.559092",
     "status": "completed"
    },
    "tags": []
   },
   "outputs": [],
   "source": [
    "#hide\n",
    "overview = '''\n",
    "<!-- #######  HTML!! #########-->\n",
    "<h1 style=\"color: #5e9ca0; text-align: center;\">India</h1>\n",
    "<p style=\"text-align: center;\">Last update: <strong>{update}</strong></p>\n",
    "<p style=\"text-align: center;\">Confirmed cases:</p>\n",
    "<p style=\"text-align: center;font-size:24px;\">{cases} (<span style=\"color: #ff0000;\">+{new}</span>)</p>\n",
    "<p style=\"text-align: center;\">Confirmed deaths:</p>\n",
    "<p style=\"text-align: center;font-size:24px;\">{deaths} (<span style=\"color: #ff0000;\">+{dnew}</span>)</p>\n",
    "'''"
   ]
  },
  {
   "cell_type": "code",
   "execution_count": 16,
   "metadata": {
    "execution": {
     "iopub.execute_input": "2020-09-08T12:42:32.630110Z",
     "iopub.status.busy": "2020-09-08T12:42:32.629424Z",
     "iopub.status.idle": "2020-09-08T12:42:32.633098Z",
     "shell.execute_reply": "2020-09-08T12:42:32.633761Z"
    },
    "papermill": {
     "duration": 0.028242,
     "end_time": "2020-09-08T12:42:32.633910",
     "exception": false,
     "start_time": "2020-09-08T12:42:32.605668",
     "status": "completed"
    },
    "tags": []
   },
   "outputs": [
    {
     "data": {
      "text/html": [
       "\n",
       "<!-- #######  HTML!! #########-->\n",
       "<h1 style=\"color: #5e9ca0; text-align: center;\">India</h1>\n",
       "<p style=\"text-align: center;\">Last update: <strong>2020-09-08</strong></p>\n",
       "<p style=\"text-align: center;\">Confirmed cases:</p>\n",
       "<p style=\"text-align: center;font-size:24px;\">4292421 (<span style=\"color: #ff0000;\">+14837</span>)</p>\n",
       "<p style=\"text-align: center;\">Confirmed deaths:</p>\n",
       "<p style=\"text-align: center;font-size:24px;\">72918 (<span style=\"color: #ff0000;\">+102</span>)</p>\n"
      ],
      "text/plain": [
       "<IPython.core.display.HTML object>"
      ]
     },
     "metadata": {},
     "output_type": "display_data"
    }
   ],
   "source": [
    "#hide_input\n",
    "update = summary['updated']\n",
    "cases = summary['Cases']\n",
    "new = summary['Cases (+)']\n",
    "deaths = summary['Deaths']\n",
    "dnew = summary['Deaths (+)']\n",
    "\n",
    "html = HTML(overview.format(update=update, cases=cases,new=new,deaths=deaths,dnew=dnew))\n",
    "\n",
    "display(html)"
   ]
  },
  {
   "cell_type": "code",
   "execution_count": 17,
   "metadata": {
    "execution": {
     "iopub.execute_input": "2020-09-08T12:42:32.688480Z",
     "iopub.status.busy": "2020-09-08T12:42:32.687788Z",
     "iopub.status.idle": "2020-09-08T12:42:32.693310Z",
     "shell.execute_reply": "2020-09-08T12:42:32.694008Z"
    },
    "papermill": {
     "duration": 0.038388,
     "end_time": "2020-09-08T12:42:32.694171",
     "exception": false,
     "start_time": "2020-09-08T12:42:32.655783",
     "status": "completed"
    },
    "tags": []
   },
   "outputs": [],
   "source": [
    "#hide\n",
    "dt_cols = list(dft_cases.columns[1:])\n",
    "dft_ct_new_cases = dft_cases.groupby('state')[dt_cols].sum().diff(axis=1).fillna(0).astype(int)\n",
    "dft_ct_new_cases.sort_values(by = dates[-1], ascending = False,inplace = True)"
   ]
  },
  {
   "cell_type": "code",
   "execution_count": 18,
   "metadata": {
    "execution": {
     "iopub.execute_input": "2020-09-08T12:42:32.754324Z",
     "iopub.status.busy": "2020-09-08T12:42:32.753608Z",
     "iopub.status.idle": "2020-09-08T12:42:32.756365Z",
     "shell.execute_reply": "2020-09-08T12:42:32.757066Z"
    },
    "papermill": {
     "duration": 0.044085,
     "end_time": "2020-09-08T12:42:32.757244",
     "exception": false,
     "start_time": "2020-09-08T12:42:32.713159",
     "status": "completed"
    },
    "tags": []
   },
   "outputs": [
    {
     "data": {
      "text/html": [
       "<div>\n",
       "<style scoped>\n",
       "    .dataframe tbody tr th:only-of-type {\n",
       "        vertical-align: middle;\n",
       "    }\n",
       "\n",
       "    .dataframe tbody tr th {\n",
       "        vertical-align: top;\n",
       "    }\n",
       "\n",
       "    .dataframe thead th {\n",
       "        text-align: right;\n",
       "    }\n",
       "</style>\n",
       "<table border=\"1\" class=\"dataframe\">\n",
       "  <thead>\n",
       "    <tr style=\"text-align: right;\">\n",
       "      <th>states</th>\n",
       "      <th>2020-07-01</th>\n",
       "      <th>2020-07-02</th>\n",
       "      <th>2020-07-03</th>\n",
       "      <th>2020-07-04</th>\n",
       "      <th>2020-07-05</th>\n",
       "      <th>2020-07-06</th>\n",
       "      <th>2020-07-07</th>\n",
       "      <th>2020-07-08</th>\n",
       "      <th>2020-07-09</th>\n",
       "      <th>2020-07-10</th>\n",
       "      <th>...</th>\n",
       "      <th>2020-08-30</th>\n",
       "      <th>2020-08-31</th>\n",
       "      <th>2020-09-01</th>\n",
       "      <th>2020-09-02</th>\n",
       "      <th>2020-09-03</th>\n",
       "      <th>2020-09-04</th>\n",
       "      <th>2020-09-05</th>\n",
       "      <th>2020-09-06</th>\n",
       "      <th>2020-09-07</th>\n",
       "      <th>2020-09-08</th>\n",
       "    </tr>\n",
       "    <tr>\n",
       "      <th>state</th>\n",
       "      <th></th>\n",
       "      <th></th>\n",
       "      <th></th>\n",
       "      <th></th>\n",
       "      <th></th>\n",
       "      <th></th>\n",
       "      <th></th>\n",
       "      <th></th>\n",
       "      <th></th>\n",
       "      <th></th>\n",
       "      <th></th>\n",
       "      <th></th>\n",
       "      <th></th>\n",
       "      <th></th>\n",
       "      <th></th>\n",
       "      <th></th>\n",
       "      <th></th>\n",
       "      <th></th>\n",
       "      <th></th>\n",
       "      <th></th>\n",
       "      <th></th>\n",
       "    </tr>\n",
       "  </thead>\n",
       "  <tbody>\n",
       "    <tr>\n",
       "      <th>Uttar Pradesh</th>\n",
       "      <td>0</td>\n",
       "      <td>769</td>\n",
       "      <td>972</td>\n",
       "      <td>757</td>\n",
       "      <td>1153</td>\n",
       "      <td>929</td>\n",
       "      <td>1332</td>\n",
       "      <td>1188</td>\n",
       "      <td>1206</td>\n",
       "      <td>1338</td>\n",
       "      <td>...</td>\n",
       "      <td>6175</td>\n",
       "      <td>4782</td>\n",
       "      <td>5343</td>\n",
       "      <td>5682</td>\n",
       "      <td>5662</td>\n",
       "      <td>6074</td>\n",
       "      <td>6590</td>\n",
       "      <td>6518</td>\n",
       "      <td>5568</td>\n",
       "      <td>6622</td>\n",
       "    </tr>\n",
       "    <tr>\n",
       "      <th>Odisha</th>\n",
       "      <td>0</td>\n",
       "      <td>229</td>\n",
       "      <td>561</td>\n",
       "      <td>495</td>\n",
       "      <td>469</td>\n",
       "      <td>456</td>\n",
       "      <td>571</td>\n",
       "      <td>527</td>\n",
       "      <td>577</td>\n",
       "      <td>755</td>\n",
       "      <td>...</td>\n",
       "      <td>3014</td>\n",
       "      <td>2602</td>\n",
       "      <td>3025</td>\n",
       "      <td>3219</td>\n",
       "      <td>3631</td>\n",
       "      <td>3267</td>\n",
       "      <td>3543</td>\n",
       "      <td>3810</td>\n",
       "      <td>3861</td>\n",
       "      <td>3490</td>\n",
       "    </tr>\n",
       "    <tr>\n",
       "      <th>Telangana</th>\n",
       "      <td>0</td>\n",
       "      <td>1213</td>\n",
       "      <td>1892</td>\n",
       "      <td>1850</td>\n",
       "      <td>1590</td>\n",
       "      <td>1831</td>\n",
       "      <td>1879</td>\n",
       "      <td>1924</td>\n",
       "      <td>1410</td>\n",
       "      <td>1278</td>\n",
       "      <td>...</td>\n",
       "      <td>2924</td>\n",
       "      <td>1873</td>\n",
       "      <td>2734</td>\n",
       "      <td>2892</td>\n",
       "      <td>2817</td>\n",
       "      <td>2478</td>\n",
       "      <td>2511</td>\n",
       "      <td>2574</td>\n",
       "      <td>1802</td>\n",
       "      <td>2392</td>\n",
       "    </tr>\n",
       "    <tr>\n",
       "      <th>Bihar</th>\n",
       "      <td>0</td>\n",
       "      <td>478</td>\n",
       "      <td>426</td>\n",
       "      <td>349</td>\n",
       "      <td>403</td>\n",
       "      <td>280</td>\n",
       "      <td>385</td>\n",
       "      <td>749</td>\n",
       "      <td>704</td>\n",
       "      <td>352</td>\n",
       "      <td>...</td>\n",
       "      <td>2078</td>\n",
       "      <td>1324</td>\n",
       "      <td>1928</td>\n",
       "      <td>1969</td>\n",
       "      <td>1922</td>\n",
       "      <td>1978</td>\n",
       "      <td>1727</td>\n",
       "      <td>1797</td>\n",
       "      <td>1369</td>\n",
       "      <td>1667</td>\n",
       "    </tr>\n",
       "    <tr>\n",
       "      <th>Tripura</th>\n",
       "      <td>0</td>\n",
       "      <td>39</td>\n",
       "      <td>93</td>\n",
       "      <td>25</td>\n",
       "      <td>23</td>\n",
       "      <td>111</td>\n",
       "      <td>24</td>\n",
       "      <td>57</td>\n",
       "      <td>16</td>\n",
       "      <td>142</td>\n",
       "      <td>...</td>\n",
       "      <td>447</td>\n",
       "      <td>321</td>\n",
       "      <td>509</td>\n",
       "      <td>566</td>\n",
       "      <td>590</td>\n",
       "      <td>524</td>\n",
       "      <td>691</td>\n",
       "      <td>603</td>\n",
       "      <td>399</td>\n",
       "      <td>628</td>\n",
       "    </tr>\n",
       "  </tbody>\n",
       "</table>\n",
       "<p>5 rows × 70 columns</p>\n",
       "</div>"
      ],
      "text/plain": [
       "states         2020-07-01  2020-07-02  2020-07-03  2020-07-04  2020-07-05  \\\n",
       "state                                                                       \n",
       "Uttar Pradesh           0         769         972         757        1153   \n",
       "Odisha                  0         229         561         495         469   \n",
       "Telangana               0        1213        1892        1850        1590   \n",
       "Bihar                   0         478         426         349         403   \n",
       "Tripura                 0          39          93          25          23   \n",
       "\n",
       "states         2020-07-06  2020-07-07  2020-07-08  2020-07-09  2020-07-10  \\\n",
       "state                                                                       \n",
       "Uttar Pradesh         929        1332        1188        1206        1338   \n",
       "Odisha                456         571         527         577         755   \n",
       "Telangana            1831        1879        1924        1410        1278   \n",
       "Bihar                 280         385         749         704         352   \n",
       "Tripura               111          24          57          16         142   \n",
       "\n",
       "states         ...  2020-08-30  2020-08-31  2020-09-01  2020-09-02  \\\n",
       "state          ...                                                   \n",
       "Uttar Pradesh  ...        6175        4782        5343        5682   \n",
       "Odisha         ...        3014        2602        3025        3219   \n",
       "Telangana      ...        2924        1873        2734        2892   \n",
       "Bihar          ...        2078        1324        1928        1969   \n",
       "Tripura        ...         447         321         509         566   \n",
       "\n",
       "states         2020-09-03  2020-09-04  2020-09-05  2020-09-06  2020-09-07  \\\n",
       "state                                                                       \n",
       "Uttar Pradesh        5662        6074        6590        6518        5568   \n",
       "Odisha               3631        3267        3543        3810        3861   \n",
       "Telangana            2817        2478        2511        2574        1802   \n",
       "Bihar                1922        1978        1727        1797        1369   \n",
       "Tripura               590         524         691         603         399   \n",
       "\n",
       "states         2020-09-08  \n",
       "state                      \n",
       "Uttar Pradesh        6622  \n",
       "Odisha               3490  \n",
       "Telangana            2392  \n",
       "Bihar                1667  \n",
       "Tripura               628  \n",
       "\n",
       "[5 rows x 70 columns]"
      ]
     },
     "execution_count": 18,
     "metadata": {},
     "output_type": "execute_result"
    }
   ],
   "source": [
    "#hide\n",
    "dft_ct_new_cases.head()"
   ]
  },
  {
   "cell_type": "code",
   "execution_count": 19,
   "metadata": {
    "execution": {
     "iopub.execute_input": "2020-09-08T12:42:32.833722Z",
     "iopub.status.busy": "2020-09-08T12:42:32.823283Z",
     "iopub.status.idle": "2020-09-08T12:42:36.878592Z",
     "shell.execute_reply": "2020-09-08T12:42:36.879192Z"
    },
    "papermill": {
     "duration": 4.102687,
     "end_time": "2020-09-08T12:42:36.879374",
     "exception": false,
     "start_time": "2020-09-08T12:42:32.776687",
     "status": "completed"
    },
    "tags": []
   },
   "outputs": [
    {
     "data": {
      "image/png": "[encoded data removed]",
      "text/plain": [
       "<Figure size 1296x2016 with 11 Axes>"
      ]
     },
     "metadata": {
      "needs_background": "light"
     },
     "output_type": "display_data"
    }
   ],
   "source": [
    "#hide_input\n",
    "df = dft_ct_new_cases.copy()\n",
    "df.loc['Total'] = df.sum()\n",
    "n = 5\n",
    "ax = []\n",
    "fig = plt.figure(figsize = (18,28))\n",
    "gs = fig.add_gridspec(n+2, 5)\n",
    "# gs = fig.add_gridspec(2, 3)\n",
    "ax1 = fig.add_subplot(gs[0, :])\n",
    "ef = df.loc['Total'].rename_axis('date').reset_index()\n",
    "ef['date'] = ef['date'].astype('datetime64[ns]')\n",
    "ax1.bar(ef.date,ef.Total,alpha=0.3,color='#007acc')\n",
    "ax1.plot(ef.date,ef.Total , marker=\"o\", color='#007acc')\n",
    "ax1.xaxis.set_major_locator(mdates.WeekdayLocator())\n",
    "ax1.xaxis.set_major_formatter(mdates.DateFormatter('%b %d'))\n",
    "ax1.text(0.02, 0.5,'India daily case count', transform = ax1.transAxes, fontsize=25);\n",
    "ax1.spines['right'].set_visible(False)\n",
    "ax1.spines['top'].set_visible(False)\n",
    "\n",
    "ax2 = fig.add_subplot(gs[1,0])\n",
    "ef = df.loc['Maharashtra'].rename_axis('date').reset_index()\n",
    "ef['date'] = ef['date'].astype('datetime64[ns]')\n",
    "\n",
    "ax2.bar(ef.date, ef.Maharashtra,color = '#007acc',alpha=0.5)\n",
    "ax2.xaxis.set_major_locator(mdates.WeekdayLocator())\n",
    "ax2.xaxis.set_major_formatter(mdates.DateFormatter('%b %d'))\n",
    "ax2.set_xticks(ax2.get_xticks()[::3])\n",
    "maxyval = ef.Maharashtra.max()\n",
    "ax2.set_ylim([0,maxyval])\n",
    "ax2.text(0.05, 0.9,'Maharashtra', transform = ax2.transAxes, fontsize=20);\n",
    "ax2.spines['right'].set_visible(False)\n",
    "ax2.spines['top'].set_visible(False)\n",
    "\n",
    "\n",
    "ax3 = fig.add_subplot(gs[1,1])\n",
    "ef = df.loc['Tamil Nadu'].rename_axis('date').reset_index()\n",
    "ef['date'] = ef['date'].astype('datetime64[ns]')\n",
    "ax3.bar(ef.date, ef['Tamil Nadu'],color = '#007acc',alpha=0.5,)\n",
    "ax3.xaxis.set_major_locator(mdates.WeekdayLocator())\n",
    "ax3.xaxis.set_major_formatter(mdates.DateFormatter('%b %d'))\n",
    "ax3.set_xticks(ax3.get_xticks()[::3])\n",
    "ax3.text(0.05, 0.9,'Tamil Nadu', transform = ax3.transAxes, fontsize=20);\n",
    "ax3.spines['right'].set_visible(False)\n",
    "ax3.spines['top'].set_visible(False)\n",
    "\n",
    "ax5 = fig.add_subplot(gs[1,3])\n",
    "ef = df.loc['Telangana'].rename_axis('date').reset_index()\n",
    "ef['date'] = ef['date'].astype('datetime64[ns]')\n",
    "ax5.bar(ef.date, ef['Telangana'],color = '#007acc',alpha=0.5,)\n",
    "ax5.xaxis.set_major_locator(mdates.WeekdayLocator())\n",
    "ax5.xaxis.set_major_formatter(mdates.DateFormatter('%b %d'))\n",
    "ax5.set_xticks(ax5.get_xticks()[::3])\n",
    "ax5.text(0.05, 0.9,'Telangana', transform = ax5.transAxes, fontsize=20);\n",
    "ax5.spines['right'].set_visible(False)\n",
    "ax5.spines['top'].set_visible(False)\n",
    "\n",
    "ax6 = fig.add_subplot(gs[1,4])\n",
    "ef = df.loc['Andhra Pradesh'].rename_axis('date').reset_index()\n",
    "ef['date'] = ef['date'].astype('datetime64[ns]')\n",
    "ax6.bar(ef.date, ef['Andhra Pradesh'],color = '#007acc',alpha=0.5,)\n",
    "ax6.xaxis.set_major_locator(mdates.WeekdayLocator())\n",
    "ax6.xaxis.set_major_formatter(mdates.DateFormatter('%b %d'))\n",
    "ax6.set_xticks(ax6.get_xticks()[::3])\n",
    "ax6.text(0.05, 1,'Andhra Pradesh', transform = ax6.transAxes, fontsize=20);\n",
    "ax6.spines['right'].set_visible(False)\n",
    "ax6.spines['top'].set_visible(False)\n",
    "\n",
    "ax4 = fig.add_subplot(gs[1,2])\n",
    "ef = df.loc['Delhi'].rename_axis('date').reset_index()\n",
    "ef['date'] = ef['date'].astype('datetime64[ns]')\n",
    "ax4.bar(ef.date, ef.Delhi,color = '#007acc',alpha=0.5)\n",
    "ax4.set_xticks([])\n",
    "ax4.xaxis.set_major_locator(mdates.WeekdayLocator())\n",
    "ax4.xaxis.set_major_formatter(mdates.DateFormatter('%b %d'))\n",
    "ax4.set_xticks(ax4.get_xticks()[::3])\n",
    "ax4.spines['right'].set_visible(False)\n",
    "ax4.spines['top'].set_visible(False)\n",
    "\n",
    "ax4.text(0.05, 1,'Delhi', transform = ax4.transAxes, fontsize=20)\n",
    "\n",
    "for i in range(n):\n",
    "    \n",
    "    ax.append(fig.add_subplot(gs[i+2,:]))\n",
    "    ef = df.iloc[i+3].rename_axis('date').reset_index()\n",
    "    ef['date'] = ef['date'].astype('datetime64[ns]')\n",
    "    ax[i].bar(ef.date,ef.iloc[:,-1],color = '#007acc',alpha=0.3)\n",
    "    ax[i].plot(ef.date,ef.iloc[:,-1],marker='o',color='#007acc')\n",
    "    ax[i].text(0.02,0.5,f'{ef.columns.values[-1]}',transform = ax[i].transAxes, fontsize = 20);\n",
    "    ax[i].xaxis.set_major_locator(mdates.WeekdayLocator())\n",
    "    ax[i].xaxis.set_major_formatter(mdates.DateFormatter('%b %d'))\n",
    "    ax[i].set_ylim([0,7000])\n",
    "    ax[i].spines['right'].set_visible(False)\n",
    "    ax[i].spines['top'].set_visible(False)\n",
    "plt.tight_layout()\n"
   ]
  },
  {
   "cell_type": "code",
   "execution_count": 20,
   "metadata": {
    "execution": {
     "iopub.execute_input": "2020-09-08T12:42:36.933573Z",
     "iopub.status.busy": "2020-09-08T12:42:36.932882Z",
     "iopub.status.idle": "2020-09-08T12:42:36.942855Z",
     "shell.execute_reply": "2020-09-08T12:42:36.942195Z"
    },
    "papermill": {
     "duration": 0.037739,
     "end_time": "2020-09-08T12:42:36.943014",
     "exception": false,
     "start_time": "2020-09-08T12:42:36.905275",
     "status": "completed"
    },
    "tags": []
   },
   "outputs": [
    {
     "name": "stdout",
     "output_type": "stream",
     "text": [
      "                                   states   Cases  Deaths  PCases  PDeaths  Cases (+)  Deaths (+)  Fatality Rate\n",
      "                              Maharashtra  923641   27027  923641    27027          0           0           2.93\n",
      "                           Andhra Pradesh  506493    4487  506493     4487          0           0           0.89\n",
      "                               Tamil Nadu  469256    7928  469256     7928          0           0           1.69\n",
      "                                Karnataka  404324    6534  404324     6534          0           0           1.62\n",
      "                            Uttar Pradesh  278473    4047  271851     3976       6622          71           1.45\n",
      "                                    Delhi  193526    4599  193526     4599          0           0           2.38\n",
      "                              West Bengal  183865    3620  183865     3620          0           0           1.97\n",
      "                                    Bihar  150694     765  149027      761       1667           4           0.51\n",
      "                                Telangana  145163     906  142771      895       2392          11           0.62\n",
      "                                   Odisha  131382     622  127892      609       3490          13           0.47\n",
      "                                    Assam  128245     370  128245      370          0           0           0.29\n",
      "                                  Gujarat  105671    3121  105671     3121          0           0           2.95\n",
      "                                Rajasthan   92536    1151   92536     1151          0           0           1.24\n",
      "                                   Kerala   89490     360   89490      360          0           0           0.40\n",
      "                                  Haryana   78773     829   78773      829          0           0           1.05\n",
      "                           Madhya Pradesh   75459    1589   75459     1589          0           0           2.11\n",
      "                                   Punjab   65583    1923   65583     1923          0           0           2.93\n",
      "                                Jharkhand   52620     482   52620      482          0           0           0.92\n",
      "                             Chhattisgarh   47280     395   47280      395          0           0           0.84\n",
      "                        Jammu and Kashmir   44570     801   44570      801          0           0           1.80\n",
      "                              Uttarakhand   25436     348   25436      348          0           0           1.37\n",
      "                                      Goa   21173     245   21173      245          0           0           1.16\n",
      "                               Puducherry   17316     325   17316      325          0           0           1.88\n",
      "                                  Tripura   16154     152   15526      149        628           3           0.94\n",
      "                         Himachal Pradesh    7660      55    7660       55          0           0           0.72\n",
      "                                  Manipur    7106      38    7106       38          0           0           0.53\n",
      "                               Chandigarh    5995      74    5995       74          0           0           1.23\n",
      "                        Arunachal Pradesh    5180       8    5180        8          0           0           0.15\n",
      "                                 Nagaland    4245       8    4220        8         25           0           0.19\n",
      "              Andaman and Nicobar Islands    3359      50    3359       50          0           0           1.49\n",
      "                                   Ladakh    3064      35    3064       35          0           0           1.14\n",
      "                                Meghalaya    3034      17    3034       17          0           0           0.56\n",
      " Dadra and Nagar Haveli and Daman and Diu    2593       2    2589        2          4           0           0.08\n",
      "                                   Sikkim    1939       5    1939        5          0           0           0.26\n",
      "                                  Mizoram    1123       0    1114        0          9           0           0.00\n",
      "                              Lakshadweep       0       0       0        0          0           0            NaN\n"
     ]
    }
   ],
   "source": [
    "#hide_input\n",
    "print(df_table.to_string(index=False))"
   ]
  },
  {
   "cell_type": "code",
   "execution_count": null,
   "metadata": {
    "papermill": {
     "duration": 0.026063,
     "end_time": "2020-09-08T12:42:36.995531",
     "exception": false,
     "start_time": "2020-09-08T12:42:36.969468",
     "status": "completed"
    },
    "tags": []
   },
   "outputs": [],
   "source": []
  },
  {
   "cell_type": "code",
   "execution_count": null,
   "metadata": {
    "papermill": {
     "duration": 0.025947,
     "end_time": "2020-09-08T12:42:37.044884",
     "exception": false,
     "start_time": "2020-09-08T12:42:37.018937",
     "status": "completed"
    },
    "tags": []
   },
   "outputs": [],
   "source": []
  }
 ],
 "metadata": {
  "kernelspec": {
   "display_name": "Python 3",
   "language": "python",
   "name": "python3"
  },
  "language_info": {
   "codemirror_mode": {
    "name": "ipython",
    "version": 3
   },
   "file_extension": ".py",
   "mimetype": "text/x-python",
   "name": "python",
   "nbconvert_exporter": "python",
   "pygments_lexer": "ipython3",
   "version": "3.6.12"
  },
  "papermill": {
   "duration": 12.403247,
   "end_time": "2020-09-08T12:42:38.342668",
   "environment_variables": {},
   "exception": null,
   "input_path": "latest.ipynb",
   "output_path": "latest.ipynb",
   "parameters": {},
   "start_time": "2020-09-08T12:42:25.939421",
   "version": "2.1.2"
  }
 },
 "nbformat": 4,
 "nbformat_minor": 4
}