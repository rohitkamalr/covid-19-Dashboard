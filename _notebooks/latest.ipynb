{
 "cells": [
  {
   "cell_type": "markdown",
   "metadata": {
    "papermill": {
     "duration": 0.021183,
     "end_time": "2020-09-19T13:52:21.107143",
     "exception": false,
     "start_time": "2020-09-19T13:52:21.085960",
     "status": "completed"
    },
    "tags": []
   },
   "source": [
    "# Latest COVID-19 India Matplotlib Overview"
   ]
  },
  {
   "cell_type": "code",
   "execution_count": 1,
   "metadata": {
    "execution": {
     "iopub.execute_input": "2020-09-19T13:52:21.146370Z",
     "iopub.status.busy": "2020-09-19T13:52:21.145664Z",
     "iopub.status.idle": "2020-09-19T13:52:21.753242Z",
     "shell.execute_reply": "2020-09-19T13:52:21.752726Z"
    },
    "papermill": {
     "duration": 0.629653,
     "end_time": "2020-09-19T13:52:21.753393",
     "exception": false,
     "start_time": "2020-09-19T13:52:21.123740",
     "status": "completed"
    },
    "tags": []
   },
   "outputs": [],
   "source": [
    "#hide\n",
    "import pandas as pd\n",
    "import numpy as np\n",
    "import requests\n",
    "import json\n",
    "import matplotlib.pyplot as plt\n",
    "import matplotlib.dates as mdates\n",
    "import matplotlib as mpl\n",
    "from IPython.core.display import display,HTML\n",
    "%matplotlib inline\n",
    "from datetime import date"
   ]
  },
  {
   "cell_type": "code",
   "execution_count": 2,
   "metadata": {
    "execution": {
     "iopub.execute_input": "2020-09-19T13:52:21.793694Z",
     "iopub.status.busy": "2020-09-19T13:52:21.792256Z",
     "iopub.status.idle": "2020-09-19T13:52:21.919544Z",
     "shell.execute_reply": "2020-09-19T13:52:21.918897Z"
    },
    "papermill": {
     "duration": 0.150507,
     "end_time": "2020-09-19T13:52:21.919709",
     "exception": false,
     "start_time": "2020-09-19T13:52:21.769202",
     "status": "completed"
    },
    "tags": []
   },
   "outputs": [],
   "source": [
    "#hide\n",
    "df  = pd.read_csv('https://api.covid19india.org/csv/latest/states.csv')\n",
    "df = df[['Date','State','Confirmed','Deceased']]\n",
    "df = df.rename(columns={'Confirmed':'Cases', \"Deceased\":'Deaths'})\n",
    "df_cases = df[[\"Date\",'State','Cases']]\n",
    "df_deaths = df[['Date','State','Deaths']]\n",
    "df_cases1 = df_cases.groupby('Date')\n",
    "df_deaths1= df_deaths.groupby('Date')"
   ]
  },
  {
   "cell_type": "code",
   "execution_count": 3,
   "metadata": {
    "execution": {
     "iopub.execute_input": "2020-09-19T13:52:21.958096Z",
     "iopub.status.busy": "2020-09-19T13:52:21.957507Z",
     "iopub.status.idle": "2020-09-19T13:52:21.975593Z",
     "shell.execute_reply": "2020-09-19T13:52:21.976024Z"
    },
    "papermill": {
     "duration": 0.039399,
     "end_time": "2020-09-19T13:52:21.976152",
     "exception": false,
     "start_time": "2020-09-19T13:52:21.936753",
     "status": "completed"
    },
    "tags": []
   },
   "outputs": [],
   "source": [
    "#hide\n",
    "df_snap = pd.read_csv('data/SnapshotCases-28-July.csv')\n",
    "arr_states = df_snap['states'].unique()\n",
    "arr_dates = df['Date'].unique()\n",
    "df_snap = df_snap.set_index('states')"
   ]
  },
  {
   "cell_type": "code",
   "execution_count": 4,
   "metadata": {
    "execution": {
     "iopub.execute_input": "2020-09-19T13:52:22.014716Z",
     "iopub.status.busy": "2020-09-19T13:52:22.014020Z",
     "iopub.status.idle": "2020-09-19T13:52:22.017072Z",
     "shell.execute_reply": "2020-09-19T13:52:22.017537Z"
    },
    "papermill": {
     "duration": 0.025936,
     "end_time": "2020-09-19T13:52:22.017671",
     "exception": false,
     "start_time": "2020-09-19T13:52:21.991735",
     "status": "completed"
    },
    "tags": []
   },
   "outputs": [
    {
     "data": {
      "text/plain": [
       "array(['Andaman and Nicobar Islands', 'Andhra Pradesh',\n",
       "       'Arunachal Pradesh', 'Assam', 'Bihar', 'Chandigarh',\n",
       "       'Dadra and Nagar Haveli and Daman and Diu', 'Delhi', 'Goa',\n",
       "       'Gujarat', 'Haryana', 'Himachal Pradesh', 'Jammu and Kashmir',\n",
       "       'Jharkhand', 'Karnataka', 'Kerala', 'Lakshadweep',\n",
       "       'Madhya Pradesh', 'Maharashtra', 'Manipur', 'Meghalaya', 'Mizoram',\n",
       "       'Nagaland', 'Odisha', 'Puducherry', 'Punjab', 'Rajasthan',\n",
       "       'Sikkim', 'Tamil Nadu', 'Telangana', 'Tripura', 'Uttar Pradesh',\n",
       "       'West Bengal', 'Chhattisgarh', 'Ladakh', 'Uttarakhand'],\n",
       "      dtype=object)"
      ]
     },
     "execution_count": 4,
     "metadata": {},
     "output_type": "execute_result"
    }
   ],
   "source": [
    "#hide\n",
    "arr_states[-9] = 'Puducherry'\n",
    "arr_states[-10] = 'Odisha'\n",
    "arr_states[6] = 'Dadra and Nagar Haveli and Daman and Diu'\n",
    "arr_states = np.append(arr_states,np.array(['Chhattisgarh','Ladakh','Uttarakhand']))\n",
    "arr_states"
   ]
  },
  {
   "cell_type": "code",
   "execution_count": 5,
   "metadata": {
    "execution": {
     "iopub.execute_input": "2020-09-19T13:52:22.061157Z",
     "iopub.status.busy": "2020-09-19T13:52:22.060369Z",
     "iopub.status.idle": "2020-09-19T13:52:22.068182Z",
     "shell.execute_reply": "2020-09-19T13:52:22.068823Z"
    },
    "papermill": {
     "duration": 0.035146,
     "end_time": "2020-09-19T13:52:22.068958",
     "exception": false,
     "start_time": "2020-09-19T13:52:22.033812",
     "status": "completed"
    },
    "tags": []
   },
   "outputs": [],
   "source": [
    "#hide\n",
    "dates = []\n",
    "for i in arr_dates:\n",
    "    if i>='2020-07-01':\n",
    "        dates.append(i)\n",
    "dict = {'states':dates}\n",
    "for i in arr_states:\n",
    "    dict[i] = [0]*len(dates)\n",
    "dft_cases = pd.DataFrame(dict)\n",
    "dft_deaths = pd.DataFrame(dict)\n"
   ]
  },
  {
   "cell_type": "code",
   "execution_count": 6,
   "metadata": {
    "execution": {
     "iopub.execute_input": "2020-09-19T13:52:22.107307Z",
     "iopub.status.busy": "2020-09-19T13:52:22.106506Z",
     "iopub.status.idle": "2020-09-19T13:52:23.632335Z",
     "shell.execute_reply": "2020-09-19T13:52:23.631796Z"
    },
    "papermill": {
     "duration": 1.547436,
     "end_time": "2020-09-19T13:52:23.632472",
     "exception": false,
     "start_time": "2020-09-19T13:52:22.085036",
     "status": "completed"
    },
    "tags": []
   },
   "outputs": [],
   "source": [
    "#hide\n",
    "for i in range(len(dates)):\n",
    "    df1_deaths = df_deaths1.get_group(dates[i])\n",
    "    for j in range(len(df1_deaths.index)):\n",
    "        if df1_deaths.iloc[j,1] in arr_states:\n",
    "            dft_deaths.loc[i,df1_deaths.iloc[j,1]] = df1_deaths.iloc[j,2]\n",
    "dft_deaths = dft_deaths.set_index('states')"
   ]
  },
  {
   "cell_type": "code",
   "execution_count": 7,
   "metadata": {
    "execution": {
     "iopub.execute_input": "2020-09-19T13:52:23.671558Z",
     "iopub.status.busy": "2020-09-19T13:52:23.670954Z",
     "iopub.status.idle": "2020-09-19T13:52:25.169024Z",
     "shell.execute_reply": "2020-09-19T13:52:25.168303Z"
    },
    "papermill": {
     "duration": 1.519975,
     "end_time": "2020-09-19T13:52:25.169156",
     "exception": false,
     "start_time": "2020-09-19T13:52:23.649181",
     "status": "completed"
    },
    "tags": []
   },
   "outputs": [],
   "source": [
    "#hide\n",
    "for i in range(len(dates)):\n",
    "    df1_cases = df_cases1.get_group(dates[i])\n",
    "    for j in range(len(df1_cases.index)):\n",
    "        if df1_cases.iloc[j,1] in arr_states:\n",
    "            dft_cases.loc[i,df1_cases.iloc[j,1]] = df1_cases.iloc[j,2]\n",
    "dft_cases = dft_cases.set_index('states')"
   ]
  },
  {
   "cell_type": "code",
   "execution_count": 8,
   "metadata": {
    "execution": {
     "iopub.execute_input": "2020-09-19T13:52:25.210832Z",
     "iopub.status.busy": "2020-09-19T13:52:25.210152Z",
     "iopub.status.idle": "2020-09-19T13:52:25.214240Z",
     "shell.execute_reply": "2020-09-19T13:52:25.214966Z"
    },
    "papermill": {
     "duration": 0.027515,
     "end_time": "2020-09-19T13:52:25.215165",
     "exception": false,
     "start_time": "2020-09-19T13:52:25.187650",
     "status": "completed"
    },
    "tags": []
   },
   "outputs": [],
   "source": [
    "#hide\n",
    "dft_cases = dft_cases.T\n",
    "dft_deaths = dft_deaths.T\n",
    "dt_today = dates[-1]\n",
    "dt_yday = dates[-2]"
   ]
  },
  {
   "cell_type": "code",
   "execution_count": 9,
   "metadata": {
    "execution": {
     "iopub.execute_input": "2020-09-19T13:52:25.255992Z",
     "iopub.status.busy": "2020-09-19T13:52:25.254551Z",
     "iopub.status.idle": "2020-09-19T13:52:25.256921Z",
     "shell.execute_reply": "2020-09-19T13:52:25.257363Z"
    },
    "papermill": {
     "duration": 0.026894,
     "end_time": "2020-09-19T13:52:25.257555",
     "exception": false,
     "start_time": "2020-09-19T13:52:25.230661",
     "status": "completed"
    },
    "tags": []
   },
   "outputs": [],
   "source": [
    "#hide\n",
    "dft_cases = dft_cases.reset_index()\n",
    "dft_deaths = dft_deaths.reset_index()\n",
    "dft_cases = dft_cases.rename(columns = {'index':'state'})\n",
    "dft_deaths = dft_deaths.rename(columns = {'index':'state'})"
   ]
  },
  {
   "cell_type": "code",
   "execution_count": 10,
   "metadata": {
    "execution": {
     "iopub.execute_input": "2020-09-19T13:52:25.296124Z",
     "iopub.status.busy": "2020-09-19T13:52:25.295535Z",
     "iopub.status.idle": "2020-09-19T13:52:25.305985Z",
     "shell.execute_reply": "2020-09-19T13:52:25.305358Z"
    },
    "papermill": {
     "duration": 0.033184,
     "end_time": "2020-09-19T13:52:25.306117",
     "exception": false,
     "start_time": "2020-09-19T13:52:25.272933",
     "status": "completed"
    },
    "tags": []
   },
   "outputs": [],
   "source": [
    "#hide\n",
    "dfc_cases = dft_cases.groupby('state')[dt_today].sum()\n",
    "dfc_deaths = dft_deaths.groupby('state')[dt_today].sum()\n",
    "dfp_cases = dft_cases.groupby('state')[dt_yday].sum()\n",
    "dfp_deaths = dft_deaths.groupby('state')[dt_yday].sum()"
   ]
  },
  {
   "cell_type": "code",
   "execution_count": 11,
   "metadata": {
    "execution": {
     "iopub.execute_input": "2020-09-19T13:52:25.360830Z",
     "iopub.status.busy": "2020-09-19T13:52:25.346914Z",
     "iopub.status.idle": "2020-09-19T13:52:25.363601Z",
     "shell.execute_reply": "2020-09-19T13:52:25.363117Z"
    },
    "papermill": {
     "duration": 0.040865,
     "end_time": "2020-09-19T13:52:25.363715",
     "exception": false,
     "start_time": "2020-09-19T13:52:25.322850",
     "status": "completed"
    },
    "tags": []
   },
   "outputs": [
    {
     "data": {
      "text/html": [
       "<div>\n",
       "<style scoped>\n",
       "    .dataframe tbody tr th:only-of-type {\n",
       "        vertical-align: middle;\n",
       "    }\n",
       "\n",
       "    .dataframe tbody tr th {\n",
       "        vertical-align: top;\n",
       "    }\n",
       "\n",
       "    .dataframe thead th {\n",
       "        text-align: right;\n",
       "    }\n",
       "</style>\n",
       "<table border=\"1\" class=\"dataframe\">\n",
       "  <thead>\n",
       "    <tr style=\"text-align: right;\">\n",
       "      <th></th>\n",
       "      <th>states</th>\n",
       "      <th>Cases</th>\n",
       "      <th>Deaths</th>\n",
       "      <th>PCases</th>\n",
       "      <th>PDeaths</th>\n",
       "    </tr>\n",
       "  </thead>\n",
       "  <tbody>\n",
       "    <tr>\n",
       "      <th>0</th>\n",
       "      <td>Maharashtra</td>\n",
       "      <td>1167496</td>\n",
       "      <td>31791</td>\n",
       "      <td>1167496</td>\n",
       "      <td>31791</td>\n",
       "    </tr>\n",
       "    <tr>\n",
       "      <th>1</th>\n",
       "      <td>Andhra Pradesh</td>\n",
       "      <td>617776</td>\n",
       "      <td>5302</td>\n",
       "      <td>609558</td>\n",
       "      <td>5244</td>\n",
       "    </tr>\n",
       "    <tr>\n",
       "      <th>2</th>\n",
       "      <td>Tamil Nadu</td>\n",
       "      <td>530908</td>\n",
       "      <td>8685</td>\n",
       "      <td>530908</td>\n",
       "      <td>8685</td>\n",
       "    </tr>\n",
       "    <tr>\n",
       "      <th>3</th>\n",
       "      <td>Karnataka</td>\n",
       "      <td>502982</td>\n",
       "      <td>7808</td>\n",
       "      <td>502982</td>\n",
       "      <td>7808</td>\n",
       "    </tr>\n",
       "    <tr>\n",
       "      <th>4</th>\n",
       "      <td>Uttar Pradesh</td>\n",
       "      <td>342788</td>\n",
       "      <td>4869</td>\n",
       "      <td>342788</td>\n",
       "      <td>4869</td>\n",
       "    </tr>\n",
       "  </tbody>\n",
       "</table>\n",
       "</div>"
      ],
      "text/plain": [
       "           states    Cases  Deaths   PCases  PDeaths\n",
       "0     Maharashtra  1167496   31791  1167496    31791\n",
       "1  Andhra Pradesh   617776    5302   609558     5244\n",
       "2      Tamil Nadu   530908    8685   530908     8685\n",
       "3       Karnataka   502982    7808   502982     7808\n",
       "4   Uttar Pradesh   342788    4869   342788     4869"
      ]
     },
     "execution_count": 11,
     "metadata": {},
     "output_type": "execute_result"
    }
   ],
   "source": [
    "#hide\n",
    "df_table = pd.DataFrame({'states': dfc_cases.index, 'Cases': dfc_cases.values, 'Deaths': dfc_deaths.values, 'PCases': dfp_cases.values, 'PDeaths': dfp_deaths.values}).set_index('states')\n",
    "df_table = df_table.sort_values(by = ['Cases','Deaths'], ascending = [False, False])\n",
    "df_table = df_table.reset_index()\n",
    "df_table.head()"
   ]
  },
  {
   "cell_type": "code",
   "execution_count": 12,
   "metadata": {
    "execution": {
     "iopub.execute_input": "2020-09-19T13:52:25.404480Z",
     "iopub.status.busy": "2020-09-19T13:52:25.403845Z",
     "iopub.status.idle": "2020-09-19T13:52:25.412496Z",
     "shell.execute_reply": "2020-09-19T13:52:25.411914Z"
    },
    "papermill": {
     "duration": 0.032938,
     "end_time": "2020-09-19T13:52:25.412613",
     "exception": false,
     "start_time": "2020-09-19T13:52:25.379675",
     "status": "completed"
    },
    "tags": []
   },
   "outputs": [],
   "source": [
    "#hide\n",
    "for c in 'Cases, Deaths'.split(', '):\n",
    "    df_table[f'{c} (+)'] = (df_table[c] - df_table[f'P{c}']).clip(0)\n",
    "df_table['Fatality Rate'] = (100* df_table['Deaths']/ df_table['Cases']).round(2)"
   ]
  },
  {
   "cell_type": "code",
   "execution_count": 13,
   "metadata": {
    "execution": {
     "iopub.execute_input": "2020-09-19T13:52:25.459842Z",
     "iopub.status.busy": "2020-09-19T13:52:25.459220Z",
     "iopub.status.idle": "2020-09-19T13:52:25.462467Z",
     "shell.execute_reply": "2020-09-19T13:52:25.461956Z"
    },
    "papermill": {
     "duration": 0.031098,
     "end_time": "2020-09-19T13:52:25.462580",
     "exception": false,
     "start_time": "2020-09-19T13:52:25.431482",
     "status": "completed"
    },
    "tags": []
   },
   "outputs": [
    {
     "data": {
      "text/html": [
       "<div>\n",
       "<style scoped>\n",
       "    .dataframe tbody tr th:only-of-type {\n",
       "        vertical-align: middle;\n",
       "    }\n",
       "\n",
       "    .dataframe tbody tr th {\n",
       "        vertical-align: top;\n",
       "    }\n",
       "\n",
       "    .dataframe thead th {\n",
       "        text-align: right;\n",
       "    }\n",
       "</style>\n",
       "<table border=\"1\" class=\"dataframe\">\n",
       "  <thead>\n",
       "    <tr style=\"text-align: right;\">\n",
       "      <th></th>\n",
       "      <th>states</th>\n",
       "      <th>Cases</th>\n",
       "      <th>Deaths</th>\n",
       "      <th>PCases</th>\n",
       "      <th>PDeaths</th>\n",
       "      <th>Cases (+)</th>\n",
       "      <th>Deaths (+)</th>\n",
       "      <th>Fatality Rate</th>\n",
       "    </tr>\n",
       "  </thead>\n",
       "  <tbody>\n",
       "    <tr>\n",
       "      <th>0</th>\n",
       "      <td>Maharashtra</td>\n",
       "      <td>1167496</td>\n",
       "      <td>31791</td>\n",
       "      <td>1167496</td>\n",
       "      <td>31791</td>\n",
       "      <td>0</td>\n",
       "      <td>0</td>\n",
       "      <td>2.72</td>\n",
       "    </tr>\n",
       "    <tr>\n",
       "      <th>1</th>\n",
       "      <td>Andhra Pradesh</td>\n",
       "      <td>617776</td>\n",
       "      <td>5302</td>\n",
       "      <td>609558</td>\n",
       "      <td>5244</td>\n",
       "      <td>8218</td>\n",
       "      <td>58</td>\n",
       "      <td>0.86</td>\n",
       "    </tr>\n",
       "    <tr>\n",
       "      <th>2</th>\n",
       "      <td>Tamil Nadu</td>\n",
       "      <td>530908</td>\n",
       "      <td>8685</td>\n",
       "      <td>530908</td>\n",
       "      <td>8685</td>\n",
       "      <td>0</td>\n",
       "      <td>0</td>\n",
       "      <td>1.64</td>\n",
       "    </tr>\n",
       "    <tr>\n",
       "      <th>3</th>\n",
       "      <td>Karnataka</td>\n",
       "      <td>502982</td>\n",
       "      <td>7808</td>\n",
       "      <td>502982</td>\n",
       "      <td>7808</td>\n",
       "      <td>0</td>\n",
       "      <td>0</td>\n",
       "      <td>1.55</td>\n",
       "    </tr>\n",
       "    <tr>\n",
       "      <th>4</th>\n",
       "      <td>Uttar Pradesh</td>\n",
       "      <td>342788</td>\n",
       "      <td>4869</td>\n",
       "      <td>342788</td>\n",
       "      <td>4869</td>\n",
       "      <td>0</td>\n",
       "      <td>0</td>\n",
       "      <td>1.42</td>\n",
       "    </tr>\n",
       "  </tbody>\n",
       "</table>\n",
       "</div>"
      ],
      "text/plain": [
       "           states    Cases  Deaths   PCases  PDeaths  Cases (+)  Deaths (+)  \\\n",
       "0     Maharashtra  1167496   31791  1167496    31791          0           0   \n",
       "1  Andhra Pradesh   617776    5302   609558     5244       8218          58   \n",
       "2      Tamil Nadu   530908    8685   530908     8685          0           0   \n",
       "3       Karnataka   502982    7808   502982     7808          0           0   \n",
       "4   Uttar Pradesh   342788    4869   342788     4869          0           0   \n",
       "\n",
       "   Fatality Rate  \n",
       "0           2.72  \n",
       "1           0.86  \n",
       "2           1.64  \n",
       "3           1.55  \n",
       "4           1.42  "
      ]
     },
     "execution_count": 13,
     "metadata": {},
     "output_type": "execute_result"
    }
   ],
   "source": [
    "#hide\n",
    "df_table.head()"
   ]
  },
  {
   "cell_type": "code",
   "execution_count": 14,
   "metadata": {
    "execution": {
     "iopub.execute_input": "2020-09-19T13:52:25.502494Z",
     "iopub.status.busy": "2020-09-19T13:52:25.501931Z",
     "iopub.status.idle": "2020-09-19T13:52:25.519441Z",
     "shell.execute_reply": "2020-09-19T13:52:25.520024Z"
    },
    "papermill": {
     "duration": 0.040824,
     "end_time": "2020-09-19T13:52:25.520167",
     "exception": false,
     "start_time": "2020-09-19T13:52:25.479343",
     "status": "completed"
    },
    "tags": []
   },
   "outputs": [
    {
     "data": {
      "text/plain": [
       "{'updated': '2020-09-19',\n",
       " 'since': '2020-09-18',\n",
       " 'Cases': 5323907,\n",
       " 'PCases': 5305656,\n",
       " 'Deaths': 85731,\n",
       " 'PDeaths': 85625,\n",
       " 'Cases (+)': 18251,\n",
       " 'Deaths (+)': 106}"
      ]
     },
     "execution_count": 14,
     "metadata": {},
     "output_type": "execute_result"
    }
   ],
   "source": [
    "#hide\n",
    "summary = {'updated':dates[-1], 'since':dates[-2]}\n",
    "list_names = ['Cases', 'PCases', 'Deaths', 'PDeaths', 'Cases (+)', 'Deaths (+)']\n",
    "for name in list_names:\n",
    "    summary[name] = df_table.sum()[name]\n",
    "summary"
   ]
  },
  {
   "cell_type": "code",
   "execution_count": 15,
   "metadata": {
    "execution": {
     "iopub.execute_input": "2020-09-19T13:52:25.562188Z",
     "iopub.status.busy": "2020-09-19T13:52:25.561547Z",
     "iopub.status.idle": "2020-09-19T13:52:25.564117Z",
     "shell.execute_reply": "2020-09-19T13:52:25.563554Z"
    },
    "papermill": {
     "duration": 0.025326,
     "end_time": "2020-09-19T13:52:25.564235",
     "exception": false,
     "start_time": "2020-09-19T13:52:25.538909",
     "status": "completed"
    },
    "tags": []
   },
   "outputs": [],
   "source": [
    "#hide\n",
    "overview = '''\n",
    "<!-- #######  HTML!! #########-->\n",
    "<h1 style=\"color: #5e9ca0; text-align: center;\">India</h1>\n",
    "<p style=\"text-align: center;\">Last update: <strong>{update}</strong></p>\n",
    "<p style=\"text-align: center;\">Confirmed cases:</p>\n",
    "<p style=\"text-align: center;font-size:24px;\">{cases} (<span style=\"color: #ff0000;\">+{new}</span>)</p>\n",
    "<p style=\"text-align: center;\">Confirmed deaths:</p>\n",
    "<p style=\"text-align: center;font-size:24px;\">{deaths} (<span style=\"color: #ff0000;\">+{dnew}</span>)</p>\n",
    "'''"
   ]
  },
  {
   "cell_type": "code",
   "execution_count": 16,
   "metadata": {
    "execution": {
     "iopub.execute_input": "2020-09-19T13:52:25.606847Z",
     "iopub.status.busy": "2020-09-19T13:52:25.606221Z",
     "iopub.status.idle": "2020-09-19T13:52:25.609693Z",
     "shell.execute_reply": "2020-09-19T13:52:25.609190Z"
    },
    "papermill": {
     "duration": 0.027743,
     "end_time": "2020-09-19T13:52:25.609813",
     "exception": false,
     "start_time": "2020-09-19T13:52:25.582070",
     "status": "completed"
    },
    "tags": []
   },
   "outputs": [
    {
     "data": {
      "text/html": [
       "\n",
       "<!-- #######  HTML!! #########-->\n",
       "<h1 style=\"color: #5e9ca0; text-align: center;\">India</h1>\n",
       "<p style=\"text-align: center;\">Last update: <strong>2020-09-19</strong></p>\n",
       "<p style=\"text-align: center;\">Confirmed cases:</p>\n",
       "<p style=\"text-align: center;font-size:24px;\">5323907 (<span style=\"color: #ff0000;\">+18251</span>)</p>\n",
       "<p style=\"text-align: center;\">Confirmed deaths:</p>\n",
       "<p style=\"text-align: center;font-size:24px;\">85731 (<span style=\"color: #ff0000;\">+106</span>)</p>\n"
      ],
      "text/plain": [
       "<IPython.core.display.HTML object>"
      ]
     },
     "metadata": {},
     "output_type": "display_data"
    }
   ],
   "source": [
    "#hide_input\n",
    "update = summary['updated']\n",
    "cases = summary['Cases']\n",
    "new = summary['Cases (+)']\n",
    "deaths = summary['Deaths']\n",
    "dnew = summary['Deaths (+)']\n",
    "\n",
    "html = HTML(overview.format(update=update, cases=cases,new=new,deaths=deaths,dnew=dnew))\n",
    "\n",
    "display(html)"
   ]
  },
  {
   "cell_type": "code",
   "execution_count": 17,
   "metadata": {
    "execution": {
     "iopub.execute_input": "2020-09-19T13:52:25.651492Z",
     "iopub.status.busy": "2020-09-19T13:52:25.650614Z",
     "iopub.status.idle": "2020-09-19T13:52:25.657217Z",
     "shell.execute_reply": "2020-09-19T13:52:25.657945Z"
    },
    "papermill": {
     "duration": 0.0313,
     "end_time": "2020-09-19T13:52:25.658066",
     "exception": false,
     "start_time": "2020-09-19T13:52:25.626766",
     "status": "completed"
    },
    "tags": []
   },
   "outputs": [],
   "source": [
    "#hide\n",
    "dt_cols = list(dft_cases.columns[1:])\n",
    "dft_ct_new_cases = dft_cases.groupby('state')[dt_cols].sum().diff(axis=1).fillna(0).astype(int)\n",
    "dft_ct_new_cases.sort_values(by = dates[-1], ascending = False,inplace = True)"
   ]
  },
  {
   "cell_type": "code",
   "execution_count": 18,
   "metadata": {
    "execution": {
     "iopub.execute_input": "2020-09-19T13:52:25.712355Z",
     "iopub.status.busy": "2020-09-19T13:52:25.711600Z",
     "iopub.status.idle": "2020-09-19T13:52:25.715383Z",
     "shell.execute_reply": "2020-09-19T13:52:25.714812Z"
    },
    "papermill": {
     "duration": 0.040111,
     "end_time": "2020-09-19T13:52:25.715551",
     "exception": false,
     "start_time": "2020-09-19T13:52:25.675440",
     "status": "completed"
    },
    "tags": []
   },
   "outputs": [
    {
     "data": {
      "text/html": [
       "<div>\n",
       "<style scoped>\n",
       "    .dataframe tbody tr th:only-of-type {\n",
       "        vertical-align: middle;\n",
       "    }\n",
       "\n",
       "    .dataframe tbody tr th {\n",
       "        vertical-align: top;\n",
       "    }\n",
       "\n",
       "    .dataframe thead th {\n",
       "        text-align: right;\n",
       "    }\n",
       "</style>\n",
       "<table border=\"1\" class=\"dataframe\">\n",
       "  <thead>\n",
       "    <tr style=\"text-align: right;\">\n",
       "      <th>states</th>\n",
       "      <th>2020-07-01</th>\n",
       "      <th>2020-07-02</th>\n",
       "      <th>2020-07-03</th>\n",
       "      <th>2020-07-04</th>\n",
       "      <th>2020-07-05</th>\n",
       "      <th>2020-07-06</th>\n",
       "      <th>2020-07-07</th>\n",
       "      <th>2020-07-08</th>\n",
       "      <th>2020-07-09</th>\n",
       "      <th>2020-07-10</th>\n",
       "      <th>...</th>\n",
       "      <th>2020-09-10</th>\n",
       "      <th>2020-09-11</th>\n",
       "      <th>2020-09-12</th>\n",
       "      <th>2020-09-13</th>\n",
       "      <th>2020-09-14</th>\n",
       "      <th>2020-09-15</th>\n",
       "      <th>2020-09-16</th>\n",
       "      <th>2020-09-17</th>\n",
       "      <th>2020-09-18</th>\n",
       "      <th>2020-09-19</th>\n",
       "    </tr>\n",
       "    <tr>\n",
       "      <th>state</th>\n",
       "      <th></th>\n",
       "      <th></th>\n",
       "      <th></th>\n",
       "      <th></th>\n",
       "      <th></th>\n",
       "      <th></th>\n",
       "      <th></th>\n",
       "      <th></th>\n",
       "      <th></th>\n",
       "      <th></th>\n",
       "      <th></th>\n",
       "      <th></th>\n",
       "      <th></th>\n",
       "      <th></th>\n",
       "      <th></th>\n",
       "      <th></th>\n",
       "      <th></th>\n",
       "      <th></th>\n",
       "      <th></th>\n",
       "      <th></th>\n",
       "      <th></th>\n",
       "    </tr>\n",
       "  </thead>\n",
       "  <tbody>\n",
       "    <tr>\n",
       "      <th>Andhra Pradesh</th>\n",
       "      <td>0</td>\n",
       "      <td>845</td>\n",
       "      <td>837</td>\n",
       "      <td>765</td>\n",
       "      <td>998</td>\n",
       "      <td>1322</td>\n",
       "      <td>1178</td>\n",
       "      <td>1062</td>\n",
       "      <td>1555</td>\n",
       "      <td>1608</td>\n",
       "      <td>...</td>\n",
       "      <td>10175</td>\n",
       "      <td>9999</td>\n",
       "      <td>9901</td>\n",
       "      <td>9536</td>\n",
       "      <td>7956</td>\n",
       "      <td>8846</td>\n",
       "      <td>8835</td>\n",
       "      <td>8702</td>\n",
       "      <td>8096</td>\n",
       "      <td>8218</td>\n",
       "    </tr>\n",
       "    <tr>\n",
       "      <th>Odisha</th>\n",
       "      <td>0</td>\n",
       "      <td>229</td>\n",
       "      <td>561</td>\n",
       "      <td>495</td>\n",
       "      <td>469</td>\n",
       "      <td>456</td>\n",
       "      <td>571</td>\n",
       "      <td>527</td>\n",
       "      <td>577</td>\n",
       "      <td>755</td>\n",
       "      <td>...</td>\n",
       "      <td>3991</td>\n",
       "      <td>3996</td>\n",
       "      <td>3777</td>\n",
       "      <td>3913</td>\n",
       "      <td>4198</td>\n",
       "      <td>3645</td>\n",
       "      <td>4270</td>\n",
       "      <td>4241</td>\n",
       "      <td>4180</td>\n",
       "      <td>4209</td>\n",
       "    </tr>\n",
       "    <tr>\n",
       "      <th>Telangana</th>\n",
       "      <td>0</td>\n",
       "      <td>1213</td>\n",
       "      <td>1892</td>\n",
       "      <td>1850</td>\n",
       "      <td>1590</td>\n",
       "      <td>1831</td>\n",
       "      <td>1879</td>\n",
       "      <td>1924</td>\n",
       "      <td>1410</td>\n",
       "      <td>1278</td>\n",
       "      <td>...</td>\n",
       "      <td>2534</td>\n",
       "      <td>2426</td>\n",
       "      <td>2278</td>\n",
       "      <td>2216</td>\n",
       "      <td>1417</td>\n",
       "      <td>2058</td>\n",
       "      <td>2273</td>\n",
       "      <td>2159</td>\n",
       "      <td>2043</td>\n",
       "      <td>2123</td>\n",
       "    </tr>\n",
       "    <tr>\n",
       "      <th>Bihar</th>\n",
       "      <td>0</td>\n",
       "      <td>478</td>\n",
       "      <td>426</td>\n",
       "      <td>349</td>\n",
       "      <td>403</td>\n",
       "      <td>280</td>\n",
       "      <td>385</td>\n",
       "      <td>749</td>\n",
       "      <td>704</td>\n",
       "      <td>352</td>\n",
       "      <td>...</td>\n",
       "      <td>1543</td>\n",
       "      <td>1710</td>\n",
       "      <td>1421</td>\n",
       "      <td>1523</td>\n",
       "      <td>1137</td>\n",
       "      <td>1575</td>\n",
       "      <td>1531</td>\n",
       "      <td>1592</td>\n",
       "      <td>1147</td>\n",
       "      <td>1616</td>\n",
       "    </tr>\n",
       "    <tr>\n",
       "      <th>Jammu and Kashmir</th>\n",
       "      <td>0</td>\n",
       "      <td>154</td>\n",
       "      <td>170</td>\n",
       "      <td>227</td>\n",
       "      <td>183</td>\n",
       "      <td>246</td>\n",
       "      <td>256</td>\n",
       "      <td>330</td>\n",
       "      <td>240</td>\n",
       "      <td>387</td>\n",
       "      <td>...</td>\n",
       "      <td>1592</td>\n",
       "      <td>1578</td>\n",
       "      <td>1698</td>\n",
       "      <td>1686</td>\n",
       "      <td>1229</td>\n",
       "      <td>1329</td>\n",
       "      <td>1590</td>\n",
       "      <td>1467</td>\n",
       "      <td>1330</td>\n",
       "      <td>1492</td>\n",
       "    </tr>\n",
       "  </tbody>\n",
       "</table>\n",
       "<p>5 rows × 81 columns</p>\n",
       "</div>"
      ],
      "text/plain": [
       "states             2020-07-01  2020-07-02  2020-07-03  2020-07-04  2020-07-05  \\\n",
       "state                                                                           \n",
       "Andhra Pradesh              0         845         837         765         998   \n",
       "Odisha                      0         229         561         495         469   \n",
       "Telangana                   0        1213        1892        1850        1590   \n",
       "Bihar                       0         478         426         349         403   \n",
       "Jammu and Kashmir           0         154         170         227         183   \n",
       "\n",
       "states             2020-07-06  2020-07-07  2020-07-08  2020-07-09  2020-07-10  \\\n",
       "state                                                                           \n",
       "Andhra Pradesh           1322        1178        1062        1555        1608   \n",
       "Odisha                    456         571         527         577         755   \n",
       "Telangana                1831        1879        1924        1410        1278   \n",
       "Bihar                     280         385         749         704         352   \n",
       "Jammu and Kashmir         246         256         330         240         387   \n",
       "\n",
       "states             ...  2020-09-10  2020-09-11  2020-09-12  2020-09-13  \\\n",
       "state              ...                                                   \n",
       "Andhra Pradesh     ...       10175        9999        9901        9536   \n",
       "Odisha             ...        3991        3996        3777        3913   \n",
       "Telangana          ...        2534        2426        2278        2216   \n",
       "Bihar              ...        1543        1710        1421        1523   \n",
       "Jammu and Kashmir  ...        1592        1578        1698        1686   \n",
       "\n",
       "states             2020-09-14  2020-09-15  2020-09-16  2020-09-17  2020-09-18  \\\n",
       "state                                                                           \n",
       "Andhra Pradesh           7956        8846        8835        8702        8096   \n",
       "Odisha                   4198        3645        4270        4241        4180   \n",
       "Telangana                1417        2058        2273        2159        2043   \n",
       "Bihar                    1137        1575        1531        1592        1147   \n",
       "Jammu and Kashmir        1229        1329        1590        1467        1330   \n",
       "\n",
       "states             2020-09-19  \n",
       "state                          \n",
       "Andhra Pradesh           8218  \n",
       "Odisha                   4209  \n",
       "Telangana                2123  \n",
       "Bihar                    1616  \n",
       "Jammu and Kashmir        1492  \n",
       "\n",
       "[5 rows x 81 columns]"
      ]
     },
     "execution_count": 18,
     "metadata": {},
     "output_type": "execute_result"
    }
   ],
   "source": [
    "#hide\n",
    "dft_ct_new_cases.head()"
   ]
  },
  {
   "cell_type": "code",
   "execution_count": 19,
   "metadata": {
    "execution": {
     "iopub.execute_input": "2020-09-19T13:52:25.771830Z",
     "iopub.status.busy": "2020-09-19T13:52:25.766534Z",
     "iopub.status.idle": "2020-09-19T13:52:30.038249Z",
     "shell.execute_reply": "2020-09-19T13:52:30.037683Z"
    },
    "papermill": {
     "duration": 4.303249,
     "end_time": "2020-09-19T13:52:30.038464",
     "exception": false,
     "start_time": "2020-09-19T13:52:25.735215",
     "status": "completed"
    },
    "tags": []
   },
   "outputs": [
    {
     "data": {
      "image/png": "[encoded data removed]",
      "text/plain": [
       "<Figure size 1296x2016 with 11 Axes>"
      ]
     },
     "metadata": {
      "needs_background": "light"
     },
     "output_type": "display_data"
    }
   ],
   "source": [
    "#hide_input\n",
    "df = dft_ct_new_cases.copy()\n",
    "df.loc['Total'] = df.sum()\n",
    "n = 5\n",
    "ax = []\n",
    "fig = plt.figure(figsize = (18,28))\n",
    "gs = fig.add_gridspec(n+2, 5)\n",
    "# gs = fig.add_gridspec(2, 3)\n",
    "ax1 = fig.add_subplot(gs[0, :])\n",
    "ef = df.loc['Total'].rename_axis('date').reset_index()\n",
    "ef['date'] = ef['date'].astype('datetime64[ns]')\n",
    "ax1.bar(ef.date,ef.Total,alpha=0.3,color='#007acc')\n",
    "ax1.plot(ef.date,ef.Total , marker=\"o\", color='#007acc')\n",
    "ax1.xaxis.set_major_locator(mdates.WeekdayLocator())\n",
    "ax1.xaxis.set_major_formatter(mdates.DateFormatter('%b %d'))\n",
    "ax1.text(0.02, 0.5,'India daily case count', transform = ax1.transAxes, fontsize=25);\n",
    "ax1.spines['right'].set_visible(False)\n",
    "ax1.spines['top'].set_visible(False)\n",
    "\n",
    "ax2 = fig.add_subplot(gs[1,0])\n",
    "ef = df.loc['Maharashtra'].rename_axis('date').reset_index()\n",
    "ef['date'] = ef['date'].astype('datetime64[ns]')\n",
    "\n",
    "ax2.bar(ef.date, ef.Maharashtra,color = '#007acc',alpha=0.5)\n",
    "ax2.xaxis.set_major_locator(mdates.WeekdayLocator())\n",
    "ax2.xaxis.set_major_formatter(mdates.DateFormatter('%b %d'))\n",
    "ax2.set_xticks(ax2.get_xticks()[::3])\n",
    "maxyval = ef.Maharashtra.max()\n",
    "ax2.set_ylim([0,maxyval])\n",
    "ax2.text(0.05, 0.9,'Maharashtra', transform = ax2.transAxes, fontsize=20);\n",
    "ax2.spines['right'].set_visible(False)\n",
    "ax2.spines['top'].set_visible(False)\n",
    "\n",
    "\n",
    "ax3 = fig.add_subplot(gs[1,1])\n",
    "ef = df.loc['Tamil Nadu'].rename_axis('date').reset_index()\n",
    "ef['date'] = ef['date'].astype('datetime64[ns]')\n",
    "ax3.bar(ef.date, ef['Tamil Nadu'],color = '#007acc',alpha=0.5,)\n",
    "ax3.xaxis.set_major_locator(mdates.WeekdayLocator())\n",
    "ax3.xaxis.set_major_formatter(mdates.DateFormatter('%b %d'))\n",
    "ax3.set_xticks(ax3.get_xticks()[::3])\n",
    "ax3.text(0.05, 0.9,'Tamil Nadu', transform = ax3.transAxes, fontsize=20);\n",
    "ax3.spines['right'].set_visible(False)\n",
    "ax3.spines['top'].set_visible(False)\n",
    "\n",
    "ax5 = fig.add_subplot(gs[1,3])\n",
    "ef = df.loc['Telangana'].rename_axis('date').reset_index()\n",
    "ef['date'] = ef['date'].astype('datetime64[ns]')\n",
    "ax5.bar(ef.date, ef['Telangana'],color = '#007acc',alpha=0.5,)\n",
    "ax5.xaxis.set_major_locator(mdates.WeekdayLocator())\n",
    "ax5.xaxis.set_major_formatter(mdates.DateFormatter('%b %d'))\n",
    "ax5.set_xticks(ax5.get_xticks()[::3])\n",
    "ax5.text(0.05, 0.9,'Telangana', transform = ax5.transAxes, fontsize=20);\n",
    "ax5.spines['right'].set_visible(False)\n",
    "ax5.spines['top'].set_visible(False)\n",
    "\n",
    "ax6 = fig.add_subplot(gs[1,4])\n",
    "ef = df.loc['Andhra Pradesh'].rename_axis('date').reset_index()\n",
    "ef['date'] = ef['date'].astype('datetime64[ns]')\n",
    "ax6.bar(ef.date, ef['Andhra Pradesh'],color = '#007acc',alpha=0.5,)\n",
    "ax6.xaxis.set_major_locator(mdates.WeekdayLocator())\n",
    "ax6.xaxis.set_major_formatter(mdates.DateFormatter('%b %d'))\n",
    "ax6.set_xticks(ax6.get_xticks()[::3])\n",
    "ax6.text(0.05, 1,'Andhra Pradesh', transform = ax6.transAxes, fontsize=20);\n",
    "ax6.spines['right'].set_visible(False)\n",
    "ax6.spines['top'].set_visible(False)\n",
    "\n",
    "ax4 = fig.add_subplot(gs[1,2])\n",
    "ef = df.loc['Delhi'].rename_axis('date').reset_index()\n",
    "ef['date'] = ef['date'].astype('datetime64[ns]')\n",
    "ax4.bar(ef.date, ef.Delhi,color = '#007acc',alpha=0.5)\n",
    "ax4.set_xticks([])\n",
    "ax4.xaxis.set_major_locator(mdates.WeekdayLocator())\n",
    "ax4.xaxis.set_major_formatter(mdates.DateFormatter('%b %d'))\n",
    "ax4.set_xticks(ax4.get_xticks()[::3])\n",
    "ax4.spines['right'].set_visible(False)\n",
    "ax4.spines['top'].set_visible(False)\n",
    "\n",
    "ax4.text(0.05, 1,'Delhi', transform = ax4.transAxes, fontsize=20)\n",
    "\n",
    "for i in range(n):\n",
    "    \n",
    "    ax.append(fig.add_subplot(gs[i+2,:]))\n",
    "    ef = df.iloc[i+3].rename_axis('date').reset_index()\n",
    "    ef['date'] = ef['date'].astype('datetime64[ns]')\n",
    "    ax[i].bar(ef.date,ef.iloc[:,-1],color = '#007acc',alpha=0.3)\n",
    "    ax[i].plot(ef.date,ef.iloc[:,-1],marker='o',color='#007acc')\n",
    "    ax[i].text(0.02,0.5,f'{ef.columns.values[-1]}',transform = ax[i].transAxes, fontsize = 20);\n",
    "    ax[i].xaxis.set_major_locator(mdates.WeekdayLocator())\n",
    "    ax[i].xaxis.set_major_formatter(mdates.DateFormatter('%b %d'))\n",
    "    ax[i].set_ylim([0,7000])\n",
    "    ax[i].spines['right'].set_visible(False)\n",
    "    ax[i].spines['top'].set_visible(False)\n",
    "plt.tight_layout()\n"
   ]
  },
  {
   "cell_type": "code",
   "execution_count": 20,
   "metadata": {
    "execution": {
     "iopub.execute_input": "2020-09-19T13:52:30.125835Z",
     "iopub.status.busy": "2020-09-19T13:52:30.125234Z",
     "iopub.status.idle": "2020-09-19T13:52:30.129763Z",
     "shell.execute_reply": "2020-09-19T13:52:30.130355Z"
    },
    "papermill": {
     "duration": 0.056626,
     "end_time": "2020-09-19T13:52:30.130510",
     "exception": false,
     "start_time": "2020-09-19T13:52:30.073884",
     "status": "completed"
    },
    "tags": []
   },
   "outputs": [
    {
     "name": "stdout",
     "output_type": "stream",
     "text": [
      "                                   states    Cases  Deaths   PCases  PDeaths  Cases (+)  Deaths (+)  Fatality Rate\n",
      "                              Maharashtra  1167496   31791  1167496    31791          0           0           2.72\n",
      "                           Andhra Pradesh   617776    5302   609558     5244       8218          58           0.86\n",
      "                               Tamil Nadu   530908    8685   530908     8685          0           0           1.64\n",
      "                                Karnataka   502982    7808   502982     7808          0           0           1.55\n",
      "                            Uttar Pradesh   342788    4869   342788     4869          0           0           1.42\n",
      "                                    Delhi   238828    4907   238828     4907          0           0           2.05\n",
      "                              West Bengal   218772    4242   218772     4242          0           0           1.94\n",
      "                                   Odisha   175550     744   171341      735       4209           9           0.42\n",
      "                                Telangana   169169    1025   167046     1016       2123           9           0.61\n",
      "                                    Bihar   166987     861   165371      859       1616           2           0.52\n",
      "                                    Assam   152858     540   152858      540          0           0           0.35\n",
      "                                   Kerala   126383     502   126383      502          0           0           0.40\n",
      "                                  Gujarat   120498    3287   120498     3287          0           0           2.73\n",
      "                                Rajasthan   111290    1308   111290     1308          0           0           1.18\n",
      "                                  Haryana   106261    1092   106261     1092          0           0           1.03\n",
      "                           Madhya Pradesh   100458    1901   100458     1901          0           0           1.89\n",
      "                                   Punjab    92806    2706    92806     2706          0           0           2.92\n",
      "                             Chhattisgarh    81617     645    81617      645          0           0           0.79\n",
      "                                Jharkhand    68578     602    68578      602          0           0           0.88\n",
      "                        Jammu and Kashmir    62533     987    61041      966       1492          21           1.58\n",
      "                              Uttarakhand    38007     464    38007      464          0           0           1.22\n",
      "                                      Goa    27379     335    27379      335          0           0           1.22\n",
      "                               Puducherry    21913     437    21913      437          0           0           1.99\n",
      "                                  Tripura    21504     235    20969      228        535           7           1.09\n",
      "                         Himachal Pradesh    11622     109    11622      109          0           0           0.94\n",
      "                               Chandigarh     9516     110     9516      110          0           0           1.16\n",
      "                                  Manipur     8607      52     8607       52          0           0           0.60\n",
      "                        Arunachal Pradesh     7005      13     7005       13          0           0           0.19\n",
      "                                 Nagaland     5392      10     5357       10         35           0           0.19\n",
      "                                Meghalaya     4447      34     4447       34          0           0           0.76\n",
      "                                   Ladakh     3635      48     3635       48          0           0           1.32\n",
      "              Andaman and Nicobar Islands     3631      52     3631       52          0           0           1.43\n",
      " Dadra and Nagar Haveli and Daman and Diu     2860       2     2851        2          9           0           0.07\n",
      "                                   Sikkim     2303      26     2303       26          0           0           1.13\n",
      "                                  Mizoram     1548       0     1534        0         14           0           0.00\n",
      "                              Lakshadweep        0       0        0        0          0           0            NaN\n"
     ]
    }
   ],
   "source": [
    "#hide_input\n",
    "print(df_table.to_string(index=False))"
   ]
  },
  {
   "cell_type": "code",
   "execution_count": null,
   "metadata": {
    "papermill": {
     "duration": 0.14132,
     "end_time": "2020-09-19T13:52:30.324512",
     "exception": false,
     "start_time": "2020-09-19T13:52:30.183192",
     "status": "completed"
    },
    "tags": []
   },
   "outputs": [],
   "source": []
  },
  {
   "cell_type": "code",
   "execution_count": null,
   "metadata": {
    "papermill": {
     "duration": 0.023136,
     "end_time": "2020-09-19T13:52:30.395356",
     "exception": false,
     "start_time": "2020-09-19T13:52:30.372220",
     "status": "completed"
    },
    "tags": []
   },
   "outputs": [],
   "source": []
  }
 ],
 "metadata": {
  "kernelspec": {
   "display_name": "Python 3",
   "language": "python",
   "name": "python3"
  },
  "language_info": {
   "codemirror_mode": {
    "name": "ipython",
    "version": 3
   },
   "file_extension": ".py",
   "mimetype": "text/x-python",
   "name": "python",
   "nbconvert_exporter": "python",
   "pygments_lexer": "ipython3",
   "version": "3.6.12"
  },
  "papermill": {
   "duration": 10.893534,
   "end_time": "2020-09-19T13:52:30.826048",
   "environment_variables": {},
   "exception": null,
   "input_path": "latest.ipynb",
   "output_path": "latest.ipynb",
   "parameters": {},
   "start_time": "2020-09-19T13:52:19.932514",
   "version": "2.1.2"
  }
 },
 "nbformat": 4,
 "nbformat_minor": 4
}