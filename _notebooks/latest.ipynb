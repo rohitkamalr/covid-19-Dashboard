{
 "cells": [
  {
   "cell_type": "markdown",
   "metadata": {
    "papermill": {
     "duration": 0.019576,
     "end_time": "2020-08-09T13:25:56.003724",
     "exception": false,
     "start_time": "2020-08-09T13:25:55.984148",
     "status": "completed"
    },
    "tags": []
   },
   "source": [
    "# Latest COVID-19 India Matplotlib Overview"
   ]
  },
  {
   "cell_type": "code",
   "execution_count": 1,
   "metadata": {
    "execution": {
     "iopub.execute_input": "2020-08-09T13:25:56.039998Z",
     "iopub.status.busy": "2020-08-09T13:25:56.039437Z",
     "iopub.status.idle": "2020-08-09T13:25:56.603193Z",
     "shell.execute_reply": "2020-08-09T13:25:56.602568Z"
    },
    "papermill": {
     "duration": 0.584259,
     "end_time": "2020-08-09T13:25:56.603367",
     "exception": false,
     "start_time": "2020-08-09T13:25:56.019108",
     "status": "completed"
    },
    "tags": []
   },
   "outputs": [],
   "source": [
    "#hide\n",
    "import pandas as pd\n",
    "import numpy as np\n",
    "import requests\n",
    "import json\n",
    "import matplotlib.pyplot as plt\n",
    "import matplotlib.dates as mdates\n",
    "import matplotlib as mpl\n",
    "from IPython.core.display import display,HTML\n",
    "%matplotlib inline\n",
    "from datetime import date"
   ]
  },
  {
   "cell_type": "code",
   "execution_count": 2,
   "metadata": {
    "execution": {
     "iopub.execute_input": "2020-08-09T13:25:56.641837Z",
     "iopub.status.busy": "2020-08-09T13:25:56.641238Z",
     "iopub.status.idle": "2020-08-09T13:25:56.778637Z",
     "shell.execute_reply": "2020-08-09T13:25:56.777874Z"
    },
    "papermill": {
     "duration": 0.159652,
     "end_time": "2020-08-09T13:25:56.778790",
     "exception": false,
     "start_time": "2020-08-09T13:25:56.619138",
     "status": "completed"
    },
    "tags": []
   },
   "outputs": [],
   "source": [
    "#hide\n",
    "df  = pd.read_csv('https://api.covid19india.org/csv/latest/states.csv')\n",
    "df = df[['Date','State','Confirmed','Deceased']]\n",
    "df = df.rename(columns={'Confirmed':'Cases', \"Deceased\":'Deaths'})\n",
    "df_cases = df[[\"Date\",'State','Cases']]\n",
    "df_deaths = df[['Date','State','Deaths']]\n",
    "df_cases1 = df_cases.groupby('Date')\n",
    "df_deaths1= df_deaths.groupby('Date')"
   ]
  },
  {
   "cell_type": "code",
   "execution_count": 3,
   "metadata": {
    "execution": {
     "iopub.execute_input": "2020-08-09T13:25:56.814766Z",
     "iopub.status.busy": "2020-08-09T13:25:56.814217Z",
     "iopub.status.idle": "2020-08-09T13:25:56.831376Z",
     "shell.execute_reply": "2020-08-09T13:25:56.832391Z"
    },
    "papermill": {
     "duration": 0.037838,
     "end_time": "2020-08-09T13:25:56.832525",
     "exception": false,
     "start_time": "2020-08-09T13:25:56.794687",
     "status": "completed"
    },
    "tags": []
   },
   "outputs": [],
   "source": [
    "#hide\n",
    "df_snap = pd.read_csv('data/SnapshotCases-28-July.csv')\n",
    "arr_states = df_snap['states'].unique()\n",
    "arr_dates = df['Date'].unique()\n",
    "df_snap = df_snap.set_index('states')"
   ]
  },
  {
   "cell_type": "code",
   "execution_count": 4,
   "metadata": {
    "execution": {
     "iopub.execute_input": "2020-08-09T13:25:56.871810Z",
     "iopub.status.busy": "2020-08-09T13:25:56.871109Z",
     "iopub.status.idle": "2020-08-09T13:25:56.875305Z",
     "shell.execute_reply": "2020-08-09T13:25:56.875748Z"
    },
    "papermill": {
     "duration": 0.026409,
     "end_time": "2020-08-09T13:25:56.875887",
     "exception": false,
     "start_time": "2020-08-09T13:25:56.849478",
     "status": "completed"
    },
    "tags": []
   },
   "outputs": [
    {
     "data": {
      "text/plain": [
       "array(['Andaman and Nicobar Islands', 'Andhra Pradesh',\n",
       "       'Arunachal Pradesh', 'Assam', 'Bihar', 'Chandigarh',\n",
       "       'Dadra and Nagar Haveli and Daman and Diu', 'Delhi', 'Goa',\n",
       "       'Gujarat', 'Haryana', 'Himachal Pradesh', 'Jammu and Kashmir',\n",
       "       'Jharkhand', 'Karnataka', 'Kerala', 'Lakshadweep',\n",
       "       'Madhya Pradesh', 'Maharashtra', 'Manipur', 'Meghalaya', 'Mizoram',\n",
       "       'Nagaland', 'Odisha', 'Puducherry', 'Punjab', 'Rajasthan',\n",
       "       'Sikkim', 'Tamil Nadu', 'Telangana', 'Tripura', 'Uttar Pradesh',\n",
       "       'West Bengal', 'Chhattisgarh', 'Ladakh', 'Uttarakhand'],\n",
       "      dtype=object)"
      ]
     },
     "execution_count": 4,
     "metadata": {},
     "output_type": "execute_result"
    }
   ],
   "source": [
    "#hide\n",
    "arr_states[-9] = 'Puducherry'\n",
    "arr_states[-10] = 'Odisha'\n",
    "arr_states[6] = 'Dadra and Nagar Haveli and Daman and Diu'\n",
    "arr_states = np.append(arr_states,np.array(['Chhattisgarh','Ladakh','Uttarakhand']))\n",
    "arr_states"
   ]
  },
  {
   "cell_type": "code",
   "execution_count": 5,
   "metadata": {
    "execution": {
     "iopub.execute_input": "2020-08-09T13:25:56.915318Z",
     "iopub.status.busy": "2020-08-09T13:25:56.914775Z",
     "iopub.status.idle": "2020-08-09T13:25:56.921844Z",
     "shell.execute_reply": "2020-08-09T13:25:56.921266Z"
    },
    "papermill": {
     "duration": 0.031525,
     "end_time": "2020-08-09T13:25:56.921969",
     "exception": false,
     "start_time": "2020-08-09T13:25:56.890444",
     "status": "completed"
    },
    "tags": []
   },
   "outputs": [],
   "source": [
    "#hide\n",
    "dates = []\n",
    "for i in arr_dates:\n",
    "    if i>='2020-07-01':\n",
    "        dates.append(i)\n",
    "dict = {'states':dates}\n",
    "for i in arr_states:\n",
    "    dict[i] = [0]*len(dates)\n",
    "dft_cases = pd.DataFrame(dict)\n",
    "dft_deaths = pd.DataFrame(dict)\n"
   ]
  },
  {
   "cell_type": "code",
   "execution_count": 6,
   "metadata": {
    "execution": {
     "iopub.execute_input": "2020-08-09T13:25:56.957380Z",
     "iopub.status.busy": "2020-08-09T13:25:56.956815Z",
     "iopub.status.idle": "2020-08-09T13:25:57.516697Z",
     "shell.execute_reply": "2020-08-09T13:25:57.517212Z"
    },
    "papermill": {
     "duration": 0.581263,
     "end_time": "2020-08-09T13:25:57.517388",
     "exception": false,
     "start_time": "2020-08-09T13:25:56.936125",
     "status": "completed"
    },
    "tags": []
   },
   "outputs": [],
   "source": [
    "#hide\n",
    "for i in range(len(dates)):\n",
    "    df1_deaths = df_deaths1.get_group(dates[i])\n",
    "    for j in range(len(df1_deaths.index)):\n",
    "        if df1_deaths.iloc[j,1] in arr_states:\n",
    "            dft_deaths.loc[i,df1_deaths.iloc[j,1]] = df1_deaths.iloc[j,2]\n",
    "dft_deaths = dft_deaths.set_index('states')"
   ]
  },
  {
   "cell_type": "code",
   "execution_count": 7,
   "metadata": {
    "execution": {
     "iopub.execute_input": "2020-08-09T13:25:57.560721Z",
     "iopub.status.busy": "2020-08-09T13:25:57.560169Z",
     "iopub.status.idle": "2020-08-09T13:25:58.092559Z",
     "shell.execute_reply": "2020-08-09T13:25:58.092072Z"
    },
    "papermill": {
     "duration": 0.558723,
     "end_time": "2020-08-09T13:25:58.092691",
     "exception": false,
     "start_time": "2020-08-09T13:25:57.533968",
     "status": "completed"
    },
    "tags": []
   },
   "outputs": [],
   "source": [
    "#hide\n",
    "for i in range(len(dates)):\n",
    "    df1_cases = df_cases1.get_group(dates[i])\n",
    "    for j in range(len(df1_cases.index)):\n",
    "        if df1_cases.iloc[j,1] in arr_states:\n",
    "            dft_cases.loc[i,df1_cases.iloc[j,1]] = df1_cases.iloc[j,2]\n",
    "dft_cases = dft_cases.set_index('states')"
   ]
  },
  {
   "cell_type": "code",
   "execution_count": 8,
   "metadata": {
    "execution": {
     "iopub.execute_input": "2020-08-09T13:25:58.128402Z",
     "iopub.status.busy": "2020-08-09T13:25:58.127694Z",
     "iopub.status.idle": "2020-08-09T13:25:58.132022Z",
     "shell.execute_reply": "2020-08-09T13:25:58.131527Z"
    },
    "papermill": {
     "duration": 0.024446,
     "end_time": "2020-08-09T13:25:58.132153",
     "exception": false,
     "start_time": "2020-08-09T13:25:58.107707",
     "status": "completed"
    },
    "tags": []
   },
   "outputs": [],
   "source": [
    "#hide\n",
    "dft_cases = dft_cases.T\n",
    "dft_deaths = dft_deaths.T\n",
    "dt_today = dates[-1]\n",
    "dt_yday = dates[-2]"
   ]
  },
  {
   "cell_type": "code",
   "execution_count": 9,
   "metadata": {
    "execution": {
     "iopub.execute_input": "2020-08-09T13:25:58.173027Z",
     "iopub.status.busy": "2020-08-09T13:25:58.171582Z",
     "iopub.status.idle": "2020-08-09T13:25:58.173846Z",
     "shell.execute_reply": "2020-08-09T13:25:58.174310Z"
    },
    "papermill": {
     "duration": 0.02783,
     "end_time": "2020-08-09T13:25:58.174442",
     "exception": false,
     "start_time": "2020-08-09T13:25:58.146612",
     "status": "completed"
    },
    "tags": []
   },
   "outputs": [],
   "source": [
    "#hide\n",
    "dft_cases = dft_cases.reset_index()\n",
    "dft_deaths = dft_deaths.reset_index()\n",
    "dft_cases = dft_cases.rename(columns = {'index':'state'})\n",
    "dft_deaths = dft_deaths.rename(columns = {'index':'state'})"
   ]
  },
  {
   "cell_type": "code",
   "execution_count": 10,
   "metadata": {
    "execution": {
     "iopub.execute_input": "2020-08-09T13:25:58.215110Z",
     "iopub.status.busy": "2020-08-09T13:25:58.212728Z",
     "iopub.status.idle": "2020-08-09T13:25:58.217425Z",
     "shell.execute_reply": "2020-08-09T13:25:58.216930Z"
    },
    "papermill": {
     "duration": 0.028234,
     "end_time": "2020-08-09T13:25:58.217548",
     "exception": false,
     "start_time": "2020-08-09T13:25:58.189314",
     "status": "completed"
    },
    "tags": []
   },
   "outputs": [],
   "source": [
    "#hide\n",
    "dfc_cases = dft_cases.groupby('state')[dt_today].sum()\n",
    "dfc_deaths = dft_deaths.groupby('state')[dt_today].sum()\n",
    "dfp_cases = dft_cases.groupby('state')[dt_yday].sum()\n",
    "dfp_deaths = dft_deaths.groupby('state')[dt_yday].sum()"
   ]
  },
  {
   "cell_type": "code",
   "execution_count": 11,
   "metadata": {
    "execution": {
     "iopub.execute_input": "2020-08-09T13:25:58.265161Z",
     "iopub.status.busy": "2020-08-09T13:25:58.264553Z",
     "iopub.status.idle": "2020-08-09T13:25:58.271215Z",
     "shell.execute_reply": "2020-08-09T13:25:58.270725Z"
    },
    "papermill": {
     "duration": 0.036942,
     "end_time": "2020-08-09T13:25:58.271334",
     "exception": false,
     "start_time": "2020-08-09T13:25:58.234392",
     "status": "completed"
    },
    "tags": []
   },
   "outputs": [
    {
     "data": {
      "text/html": [
       "<div>\n",
       "<style scoped>\n",
       "    .dataframe tbody tr th:only-of-type {\n",
       "        vertical-align: middle;\n",
       "    }\n",
       "\n",
       "    .dataframe tbody tr th {\n",
       "        vertical-align: top;\n",
       "    }\n",
       "\n",
       "    .dataframe thead th {\n",
       "        text-align: right;\n",
       "    }\n",
       "</style>\n",
       "<table border=\"1\" class=\"dataframe\">\n",
       "  <thead>\n",
       "    <tr style=\"text-align: right;\">\n",
       "      <th></th>\n",
       "      <th>states</th>\n",
       "      <th>Cases</th>\n",
       "      <th>Deaths</th>\n",
       "      <th>PCases</th>\n",
       "      <th>PDeaths</th>\n",
       "    </tr>\n",
       "  </thead>\n",
       "  <tbody>\n",
       "    <tr>\n",
       "      <th>0</th>\n",
       "      <td>Maharashtra</td>\n",
       "      <td>503084</td>\n",
       "      <td>17367</td>\n",
       "      <td>503084</td>\n",
       "      <td>17367</td>\n",
       "    </tr>\n",
       "    <tr>\n",
       "      <th>1</th>\n",
       "      <td>Tamil Nadu</td>\n",
       "      <td>290907</td>\n",
       "      <td>4808</td>\n",
       "      <td>290907</td>\n",
       "      <td>4808</td>\n",
       "    </tr>\n",
       "    <tr>\n",
       "      <th>2</th>\n",
       "      <td>Andhra Pradesh</td>\n",
       "      <td>217040</td>\n",
       "      <td>1939</td>\n",
       "      <td>217040</td>\n",
       "      <td>1939</td>\n",
       "    </tr>\n",
       "    <tr>\n",
       "      <th>3</th>\n",
       "      <td>Karnataka</td>\n",
       "      <td>172102</td>\n",
       "      <td>3091</td>\n",
       "      <td>172102</td>\n",
       "      <td>3091</td>\n",
       "    </tr>\n",
       "    <tr>\n",
       "      <th>4</th>\n",
       "      <td>Delhi</td>\n",
       "      <td>145427</td>\n",
       "      <td>4111</td>\n",
       "      <td>144127</td>\n",
       "      <td>4098</td>\n",
       "    </tr>\n",
       "  </tbody>\n",
       "</table>\n",
       "</div>"
      ],
      "text/plain": [
       "           states   Cases  Deaths  PCases  PDeaths\n",
       "0     Maharashtra  503084   17367  503084    17367\n",
       "1      Tamil Nadu  290907    4808  290907     4808\n",
       "2  Andhra Pradesh  217040    1939  217040     1939\n",
       "3       Karnataka  172102    3091  172102     3091\n",
       "4           Delhi  145427    4111  144127     4098"
      ]
     },
     "execution_count": 11,
     "metadata": {},
     "output_type": "execute_result"
    }
   ],
   "source": [
    "#hide\n",
    "df_table = pd.DataFrame({'states': dfc_cases.index, 'Cases': dfc_cases.values, 'Deaths': dfc_deaths.values, 'PCases': dfp_cases.values, 'PDeaths': dfp_deaths.values}).set_index('states')\n",
    "df_table = df_table.sort_values(by = ['Cases','Deaths'], ascending = [False, False])\n",
    "df_table = df_table.reset_index()\n",
    "df_table.head()"
   ]
  },
  {
   "cell_type": "code",
   "execution_count": 12,
   "metadata": {
    "execution": {
     "iopub.execute_input": "2020-08-09T13:25:58.316024Z",
     "iopub.status.busy": "2020-08-09T13:25:58.315437Z",
     "iopub.status.idle": "2020-08-09T13:25:58.317867Z",
     "shell.execute_reply": "2020-08-09T13:25:58.317372Z"
    },
    "papermill": {
     "duration": 0.03099,
     "end_time": "2020-08-09T13:25:58.317990",
     "exception": false,
     "start_time": "2020-08-09T13:25:58.287000",
     "status": "completed"
    },
    "tags": []
   },
   "outputs": [],
   "source": [
    "#hide\n",
    "for c in 'Cases, Deaths'.split(', '):\n",
    "    df_table[f'{c} (+)'] = (df_table[c] - df_table[f'P{c}']).clip(0)\n",
    "df_table['Fatality Rate'] = (100* df_table['Deaths']/ df_table['Cases']).round(2)"
   ]
  },
  {
   "cell_type": "code",
   "execution_count": 13,
   "metadata": {
    "execution": {
     "iopub.execute_input": "2020-08-09T13:25:58.358875Z",
     "iopub.status.busy": "2020-08-09T13:25:58.355919Z",
     "iopub.status.idle": "2020-08-09T13:25:58.361414Z",
     "shell.execute_reply": "2020-08-09T13:25:58.361902Z"
    },
    "papermill": {
     "duration": 0.02908,
     "end_time": "2020-08-09T13:25:58.362029",
     "exception": false,
     "start_time": "2020-08-09T13:25:58.332949",
     "status": "completed"
    },
    "tags": []
   },
   "outputs": [
    {
     "data": {
      "text/html": [
       "<div>\n",
       "<style scoped>\n",
       "    .dataframe tbody tr th:only-of-type {\n",
       "        vertical-align: middle;\n",
       "    }\n",
       "\n",
       "    .dataframe tbody tr th {\n",
       "        vertical-align: top;\n",
       "    }\n",
       "\n",
       "    .dataframe thead th {\n",
       "        text-align: right;\n",
       "    }\n",
       "</style>\n",
       "<table border=\"1\" class=\"dataframe\">\n",
       "  <thead>\n",
       "    <tr style=\"text-align: right;\">\n",
       "      <th></th>\n",
       "      <th>states</th>\n",
       "      <th>Cases</th>\n",
       "      <th>Deaths</th>\n",
       "      <th>PCases</th>\n",
       "      <th>PDeaths</th>\n",
       "      <th>Cases (+)</th>\n",
       "      <th>Deaths (+)</th>\n",
       "      <th>Fatality Rate</th>\n",
       "    </tr>\n",
       "  </thead>\n",
       "  <tbody>\n",
       "    <tr>\n",
       "      <th>0</th>\n",
       "      <td>Maharashtra</td>\n",
       "      <td>503084</td>\n",
       "      <td>17367</td>\n",
       "      <td>503084</td>\n",
       "      <td>17367</td>\n",
       "      <td>0</td>\n",
       "      <td>0</td>\n",
       "      <td>3.45</td>\n",
       "    </tr>\n",
       "    <tr>\n",
       "      <th>1</th>\n",
       "      <td>Tamil Nadu</td>\n",
       "      <td>290907</td>\n",
       "      <td>4808</td>\n",
       "      <td>290907</td>\n",
       "      <td>4808</td>\n",
       "      <td>0</td>\n",
       "      <td>0</td>\n",
       "      <td>1.65</td>\n",
       "    </tr>\n",
       "    <tr>\n",
       "      <th>2</th>\n",
       "      <td>Andhra Pradesh</td>\n",
       "      <td>217040</td>\n",
       "      <td>1939</td>\n",
       "      <td>217040</td>\n",
       "      <td>1939</td>\n",
       "      <td>0</td>\n",
       "      <td>0</td>\n",
       "      <td>0.89</td>\n",
       "    </tr>\n",
       "    <tr>\n",
       "      <th>3</th>\n",
       "      <td>Karnataka</td>\n",
       "      <td>172102</td>\n",
       "      <td>3091</td>\n",
       "      <td>172102</td>\n",
       "      <td>3091</td>\n",
       "      <td>0</td>\n",
       "      <td>0</td>\n",
       "      <td>1.80</td>\n",
       "    </tr>\n",
       "    <tr>\n",
       "      <th>4</th>\n",
       "      <td>Delhi</td>\n",
       "      <td>145427</td>\n",
       "      <td>4111</td>\n",
       "      <td>144127</td>\n",
       "      <td>4098</td>\n",
       "      <td>1300</td>\n",
       "      <td>13</td>\n",
       "      <td>2.83</td>\n",
       "    </tr>\n",
       "  </tbody>\n",
       "</table>\n",
       "</div>"
      ],
      "text/plain": [
       "           states   Cases  Deaths  PCases  PDeaths  Cases (+)  Deaths (+)  \\\n",
       "0     Maharashtra  503084   17367  503084    17367          0           0   \n",
       "1      Tamil Nadu  290907    4808  290907     4808          0           0   \n",
       "2  Andhra Pradesh  217040    1939  217040     1939          0           0   \n",
       "3       Karnataka  172102    3091  172102     3091          0           0   \n",
       "4           Delhi  145427    4111  144127     4098       1300          13   \n",
       "\n",
       "   Fatality Rate  \n",
       "0           3.45  \n",
       "1           1.65  \n",
       "2           0.89  \n",
       "3           1.80  \n",
       "4           2.83  "
      ]
     },
     "execution_count": 13,
     "metadata": {},
     "output_type": "execute_result"
    }
   ],
   "source": [
    "#hide\n",
    "df_table.head()"
   ]
  },
  {
   "cell_type": "code",
   "execution_count": 14,
   "metadata": {
    "execution": {
     "iopub.execute_input": "2020-08-09T13:25:58.396851Z",
     "iopub.status.busy": "2020-08-09T13:25:58.396272Z",
     "iopub.status.idle": "2020-08-09T13:25:58.410716Z",
     "shell.execute_reply": "2020-08-09T13:25:58.410252Z"
    },
    "papermill": {
     "duration": 0.034123,
     "end_time": "2020-08-09T13:25:58.410826",
     "exception": false,
     "start_time": "2020-08-09T13:25:58.376703",
     "status": "completed"
    },
    "tags": []
   },
   "outputs": [
    {
     "data": {
      "text/plain": [
       "{'updated': '2020-08-09',\n",
       " 'since': '2020-08-08',\n",
       " 'Cases': 2168631,\n",
       " 'PCases': 2152020,\n",
       " 'Deaths': 43585,\n",
       " 'PDeaths': 43453,\n",
       " 'Cases (+)': 16611,\n",
       " 'Deaths (+)': 132}"
      ]
     },
     "execution_count": 14,
     "metadata": {},
     "output_type": "execute_result"
    }
   ],
   "source": [
    "#hide\n",
    "summary = {'updated':dates[-1], 'since':dates[-2]}\n",
    "list_names = ['Cases', 'PCases', 'Deaths', 'PDeaths', 'Cases (+)', 'Deaths (+)']\n",
    "for name in list_names:\n",
    "    summary[name] = df_table.sum()[name]\n",
    "summary"
   ]
  },
  {
   "cell_type": "code",
   "execution_count": 15,
   "metadata": {
    "execution": {
     "iopub.execute_input": "2020-08-09T13:25:58.445503Z",
     "iopub.status.busy": "2020-08-09T13:25:58.444919Z",
     "iopub.status.idle": "2020-08-09T13:25:58.446634Z",
     "shell.execute_reply": "2020-08-09T13:25:58.447051Z"
    },
    "papermill": {
     "duration": 0.02132,
     "end_time": "2020-08-09T13:25:58.447176",
     "exception": false,
     "start_time": "2020-08-09T13:25:58.425856",
     "status": "completed"
    },
    "tags": []
   },
   "outputs": [],
   "source": [
    "#hide\n",
    "overview = '''\n",
    "<!-- #######  HTML!! #########-->\n",
    "<h1 style=\"color: #5e9ca0; text-align: center;\">India</h1>\n",
    "<p style=\"text-align: center;\">Last update: <strong>{update}</strong></p>\n",
    "<p style=\"text-align: center;\">Confirmed cases:</p>\n",
    "<p style=\"text-align: center;font-size:24px;\">{cases} (<span style=\"color: #ff0000;\">+{new}</span>)</p>\n",
    "<p style=\"text-align: center;\">Confirmed deaths:</p>\n",
    "<p style=\"text-align: center;font-size:24px;\">{deaths} (<span style=\"color: #ff0000;\">+{dnew}</span>)</p>\n",
    "'''"
   ]
  },
  {
   "cell_type": "code",
   "execution_count": 16,
   "metadata": {
    "execution": {
     "iopub.execute_input": "2020-08-09T13:25:58.486656Z",
     "iopub.status.busy": "2020-08-09T13:25:58.485969Z",
     "iopub.status.idle": "2020-08-09T13:25:58.488358Z",
     "shell.execute_reply": "2020-08-09T13:25:58.488792Z"
    },
    "papermill": {
     "duration": 0.024397,
     "end_time": "2020-08-09T13:25:58.488912",
     "exception": false,
     "start_time": "2020-08-09T13:25:58.464515",
     "status": "completed"
    },
    "tags": []
   },
   "outputs": [
    {
     "data": {
      "text/html": [
       "\n",
       "<!-- #######  HTML!! #########-->\n",
       "<h1 style=\"color: #5e9ca0; text-align: center;\">India</h1>\n",
       "<p style=\"text-align: center;\">Last update: <strong>2020-08-09</strong></p>\n",
       "<p style=\"text-align: center;\">Confirmed cases:</p>\n",
       "<p style=\"text-align: center;font-size:24px;\">2168631 (<span style=\"color: #ff0000;\">+16611</span>)</p>\n",
       "<p style=\"text-align: center;\">Confirmed deaths:</p>\n",
       "<p style=\"text-align: center;font-size:24px;\">43585 (<span style=\"color: #ff0000;\">+132</span>)</p>\n"
      ],
      "text/plain": [
       "<IPython.core.display.HTML object>"
      ]
     },
     "metadata": {},
     "output_type": "display_data"
    }
   ],
   "source": [
    "#hide_input\n",
    "update = summary['updated']\n",
    "cases = summary['Cases']\n",
    "new = summary['Cases (+)']\n",
    "deaths = summary['Deaths']\n",
    "dnew = summary['Deaths (+)']\n",
    "\n",
    "html = HTML(overview.format(update=update, cases=cases,new=new,deaths=deaths,dnew=dnew))\n",
    "\n",
    "display(html)"
   ]
  },
  {
   "cell_type": "code",
   "execution_count": 17,
   "metadata": {
    "execution": {
     "iopub.execute_input": "2020-08-09T13:25:58.530181Z",
     "iopub.status.busy": "2020-08-09T13:25:58.529643Z",
     "iopub.status.idle": "2020-08-09T13:25:58.533565Z",
     "shell.execute_reply": "2020-08-09T13:25:58.532958Z"
    },
    "papermill": {
     "duration": 0.028908,
     "end_time": "2020-08-09T13:25:58.533673",
     "exception": false,
     "start_time": "2020-08-09T13:25:58.504765",
     "status": "completed"
    },
    "tags": []
   },
   "outputs": [],
   "source": [
    "#hide\n",
    "dt_cols = list(dft_cases.columns[1:])\n",
    "dft_ct_new_cases = dft_cases.groupby('state')[dt_cols].sum().diff(axis=1).fillna(0).astype(int)\n",
    "dft_ct_new_cases.sort_values(by = dates[-1], ascending = False,inplace = True)"
   ]
  },
  {
   "cell_type": "code",
   "execution_count": 18,
   "metadata": {
    "execution": {
     "iopub.execute_input": "2020-08-09T13:25:58.574446Z",
     "iopub.status.busy": "2020-08-09T13:25:58.573769Z",
     "iopub.status.idle": "2020-08-09T13:25:58.583105Z",
     "shell.execute_reply": "2020-08-09T13:25:58.582620Z"
    },
    "papermill": {
     "duration": 0.034803,
     "end_time": "2020-08-09T13:25:58.583211",
     "exception": false,
     "start_time": "2020-08-09T13:25:58.548408",
     "status": "completed"
    },
    "tags": []
   },
   "outputs": [
    {
     "data": {
      "text/html": [
       "<div>\n",
       "<style scoped>\n",
       "    .dataframe tbody tr th:only-of-type {\n",
       "        vertical-align: middle;\n",
       "    }\n",
       "\n",
       "    .dataframe tbody tr th {\n",
       "        vertical-align: top;\n",
       "    }\n",
       "\n",
       "    .dataframe thead th {\n",
       "        text-align: right;\n",
       "    }\n",
       "</style>\n",
       "<table border=\"1\" class=\"dataframe\">\n",
       "  <thead>\n",
       "    <tr style=\"text-align: right;\">\n",
       "      <th>states</th>\n",
       "      <th>2020-07-01</th>\n",
       "      <th>2020-07-02</th>\n",
       "      <th>2020-07-03</th>\n",
       "      <th>2020-07-04</th>\n",
       "      <th>2020-07-05</th>\n",
       "      <th>2020-07-06</th>\n",
       "      <th>2020-07-07</th>\n",
       "      <th>2020-07-08</th>\n",
       "      <th>2020-07-09</th>\n",
       "      <th>2020-07-10</th>\n",
       "      <th>...</th>\n",
       "      <th>2020-07-31</th>\n",
       "      <th>2020-08-01</th>\n",
       "      <th>2020-08-02</th>\n",
       "      <th>2020-08-03</th>\n",
       "      <th>2020-08-04</th>\n",
       "      <th>2020-08-05</th>\n",
       "      <th>2020-08-06</th>\n",
       "      <th>2020-08-07</th>\n",
       "      <th>2020-08-08</th>\n",
       "      <th>2020-08-09</th>\n",
       "    </tr>\n",
       "    <tr>\n",
       "      <th>state</th>\n",
       "      <th></th>\n",
       "      <th></th>\n",
       "      <th></th>\n",
       "      <th></th>\n",
       "      <th></th>\n",
       "      <th></th>\n",
       "      <th></th>\n",
       "      <th></th>\n",
       "      <th></th>\n",
       "      <th></th>\n",
       "      <th></th>\n",
       "      <th></th>\n",
       "      <th></th>\n",
       "      <th></th>\n",
       "      <th></th>\n",
       "      <th></th>\n",
       "      <th></th>\n",
       "      <th></th>\n",
       "      <th></th>\n",
       "      <th></th>\n",
       "      <th></th>\n",
       "    </tr>\n",
       "  </thead>\n",
       "  <tbody>\n",
       "    <tr>\n",
       "      <th>Uttar Pradesh</th>\n",
       "      <td>0</td>\n",
       "      <td>769</td>\n",
       "      <td>972</td>\n",
       "      <td>757</td>\n",
       "      <td>1153</td>\n",
       "      <td>929</td>\n",
       "      <td>1332</td>\n",
       "      <td>1188</td>\n",
       "      <td>1206</td>\n",
       "      <td>1338</td>\n",
       "      <td>...</td>\n",
       "      <td>4422</td>\n",
       "      <td>3587</td>\n",
       "      <td>3873</td>\n",
       "      <td>4441</td>\n",
       "      <td>2948</td>\n",
       "      <td>4078</td>\n",
       "      <td>4586</td>\n",
       "      <td>4404</td>\n",
       "      <td>4660</td>\n",
       "      <td>4571</td>\n",
       "    </tr>\n",
       "    <tr>\n",
       "      <th>Bihar</th>\n",
       "      <td>0</td>\n",
       "      <td>478</td>\n",
       "      <td>426</td>\n",
       "      <td>349</td>\n",
       "      <td>403</td>\n",
       "      <td>280</td>\n",
       "      <td>385</td>\n",
       "      <td>749</td>\n",
       "      <td>704</td>\n",
       "      <td>352</td>\n",
       "      <td>...</td>\n",
       "      <td>2986</td>\n",
       "      <td>3521</td>\n",
       "      <td>2762</td>\n",
       "      <td>2297</td>\n",
       "      <td>2464</td>\n",
       "      <td>2701</td>\n",
       "      <td>3416</td>\n",
       "      <td>3646</td>\n",
       "      <td>3992</td>\n",
       "      <td>3934</td>\n",
       "    </tr>\n",
       "    <tr>\n",
       "      <th>Telangana</th>\n",
       "      <td>0</td>\n",
       "      <td>1213</td>\n",
       "      <td>1892</td>\n",
       "      <td>1850</td>\n",
       "      <td>1590</td>\n",
       "      <td>1831</td>\n",
       "      <td>1879</td>\n",
       "      <td>1924</td>\n",
       "      <td>1410</td>\n",
       "      <td>1278</td>\n",
       "      <td>...</td>\n",
       "      <td>1986</td>\n",
       "      <td>2083</td>\n",
       "      <td>1891</td>\n",
       "      <td>983</td>\n",
       "      <td>1286</td>\n",
       "      <td>2012</td>\n",
       "      <td>2092</td>\n",
       "      <td>2207</td>\n",
       "      <td>2256</td>\n",
       "      <td>1982</td>\n",
       "    </tr>\n",
       "    <tr>\n",
       "      <th>Odisha</th>\n",
       "      <td>0</td>\n",
       "      <td>229</td>\n",
       "      <td>561</td>\n",
       "      <td>495</td>\n",
       "      <td>469</td>\n",
       "      <td>456</td>\n",
       "      <td>571</td>\n",
       "      <td>527</td>\n",
       "      <td>577</td>\n",
       "      <td>755</td>\n",
       "      <td>...</td>\n",
       "      <td>1499</td>\n",
       "      <td>1602</td>\n",
       "      <td>1434</td>\n",
       "      <td>1384</td>\n",
       "      <td>1384</td>\n",
       "      <td>1337</td>\n",
       "      <td>1699</td>\n",
       "      <td>1833</td>\n",
       "      <td>1643</td>\n",
       "      <td>1734</td>\n",
       "    </tr>\n",
       "    <tr>\n",
       "      <th>Delhi</th>\n",
       "      <td>0</td>\n",
       "      <td>2373</td>\n",
       "      <td>2520</td>\n",
       "      <td>2505</td>\n",
       "      <td>2244</td>\n",
       "      <td>1379</td>\n",
       "      <td>2008</td>\n",
       "      <td>2033</td>\n",
       "      <td>2187</td>\n",
       "      <td>2089</td>\n",
       "      <td>...</td>\n",
       "      <td>1195</td>\n",
       "      <td>1118</td>\n",
       "      <td>961</td>\n",
       "      <td>805</td>\n",
       "      <td>674</td>\n",
       "      <td>1076</td>\n",
       "      <td>1299</td>\n",
       "      <td>1192</td>\n",
       "      <td>1404</td>\n",
       "      <td>1300</td>\n",
       "    </tr>\n",
       "  </tbody>\n",
       "</table>\n",
       "<p>5 rows × 40 columns</p>\n",
       "</div>"
      ],
      "text/plain": [
       "states         2020-07-01  2020-07-02  2020-07-03  2020-07-04  2020-07-05  \\\n",
       "state                                                                       \n",
       "Uttar Pradesh           0         769         972         757        1153   \n",
       "Bihar                   0         478         426         349         403   \n",
       "Telangana               0        1213        1892        1850        1590   \n",
       "Odisha                  0         229         561         495         469   \n",
       "Delhi                   0        2373        2520        2505        2244   \n",
       "\n",
       "states         2020-07-06  2020-07-07  2020-07-08  2020-07-09  2020-07-10  \\\n",
       "state                                                                       \n",
       "Uttar Pradesh         929        1332        1188        1206        1338   \n",
       "Bihar                 280         385         749         704         352   \n",
       "Telangana            1831        1879        1924        1410        1278   \n",
       "Odisha                456         571         527         577         755   \n",
       "Delhi                1379        2008        2033        2187        2089   \n",
       "\n",
       "states         ...  2020-07-31  2020-08-01  2020-08-02  2020-08-03  \\\n",
       "state          ...                                                   \n",
       "Uttar Pradesh  ...        4422        3587        3873        4441   \n",
       "Bihar          ...        2986        3521        2762        2297   \n",
       "Telangana      ...        1986        2083        1891         983   \n",
       "Odisha         ...        1499        1602        1434        1384   \n",
       "Delhi          ...        1195        1118         961         805   \n",
       "\n",
       "states         2020-08-04  2020-08-05  2020-08-06  2020-08-07  2020-08-08  \\\n",
       "state                                                                       \n",
       "Uttar Pradesh        2948        4078        4586        4404        4660   \n",
       "Bihar                2464        2701        3416        3646        3992   \n",
       "Telangana            1286        2012        2092        2207        2256   \n",
       "Odisha               1384        1337        1699        1833        1643   \n",
       "Delhi                 674        1076        1299        1192        1404   \n",
       "\n",
       "states         2020-08-09  \n",
       "state                      \n",
       "Uttar Pradesh        4571  \n",
       "Bihar                3934  \n",
       "Telangana            1982  \n",
       "Odisha               1734  \n",
       "Delhi                1300  \n",
       "\n",
       "[5 rows x 40 columns]"
      ]
     },
     "execution_count": 18,
     "metadata": {},
     "output_type": "execute_result"
    }
   ],
   "source": [
    "#hide\n",
    "dft_ct_new_cases.head()"
   ]
  },
  {
   "cell_type": "code",
   "execution_count": 19,
   "metadata": {
    "execution": {
     "iopub.execute_input": "2020-08-09T13:25:58.635067Z",
     "iopub.status.busy": "2020-08-09T13:25:58.624556Z",
     "iopub.status.idle": "2020-08-09T13:26:01.559525Z",
     "shell.execute_reply": "2020-08-09T13:26:01.560017Z"
    },
    "papermill": {
     "duration": 2.959781,
     "end_time": "2020-08-09T13:26:01.560172",
     "exception": false,
     "start_time": "2020-08-09T13:25:58.600391",
     "status": "completed"
    },
    "tags": []
   },
   "outputs": [
    {
     "data": {
      "image/png": "[encoded data removed]",
      "text/plain": [
       "<Figure size 1296x2016 with 11 Axes>"
      ]
     },
     "metadata": {
      "needs_background": "light"
     },
     "output_type": "display_data"
    }
   ],
   "source": [
    "#hide_input\n",
    "df = dft_ct_new_cases.copy()\n",
    "df.loc['Total'] = df.sum()\n",
    "n = 5\n",
    "ax = []\n",
    "fig = plt.figure(figsize = (18,28))\n",
    "gs = fig.add_gridspec(n+2, 5)\n",
    "# gs = fig.add_gridspec(2, 3)\n",
    "ax1 = fig.add_subplot(gs[0, :])\n",
    "ef = df.loc['Total'].rename_axis('date').reset_index()\n",
    "ef['date'] = ef['date'].astype('datetime64[ns]')\n",
    "ax1.bar(ef.date,ef.Total,alpha=0.3,color='#007acc')\n",
    "ax1.plot(ef.date,ef.Total , marker=\"o\", color='#007acc')\n",
    "ax1.xaxis.set_major_locator(mdates.WeekdayLocator())\n",
    "ax1.xaxis.set_major_formatter(mdates.DateFormatter('%b %d'))\n",
    "ax1.text(0.02, 0.5,'India daily case count', transform = ax1.transAxes, fontsize=25);\n",
    "ax1.spines['right'].set_visible(False)\n",
    "ax1.spines['top'].set_visible(False)\n",
    "\n",
    "ax2 = fig.add_subplot(gs[1,0])\n",
    "ef = df.loc['Maharashtra'].rename_axis('date').reset_index()\n",
    "ef['date'] = ef['date'].astype('datetime64[ns]')\n",
    "\n",
    "ax2.bar(ef.date, ef.Maharashtra,color = '#007acc',alpha=0.5)\n",
    "ax2.xaxis.set_major_locator(mdates.WeekdayLocator())\n",
    "ax2.xaxis.set_major_formatter(mdates.DateFormatter('%b %d'))\n",
    "ax2.set_xticks(ax2.get_xticks()[::3])\n",
    "maxyval = ef.Maharashtra.max()\n",
    "ax2.set_ylim([0,maxyval])\n",
    "ax2.text(0.05, 0.9,'Maharashtra', transform = ax2.transAxes, fontsize=20);\n",
    "ax2.spines['right'].set_visible(False)\n",
    "ax2.spines['top'].set_visible(False)\n",
    "\n",
    "\n",
    "ax3 = fig.add_subplot(gs[1,1])\n",
    "ef = df.loc['Tamil Nadu'].rename_axis('date').reset_index()\n",
    "ef['date'] = ef['date'].astype('datetime64[ns]')\n",
    "ax3.bar(ef.date, ef['Tamil Nadu'],color = '#007acc',alpha=0.5,)\n",
    "ax3.xaxis.set_major_locator(mdates.WeekdayLocator())\n",
    "ax3.xaxis.set_major_formatter(mdates.DateFormatter('%b %d'))\n",
    "ax3.set_xticks(ax3.get_xticks()[::3])\n",
    "ax3.text(0.05, 0.9,'Tamil Nadu', transform = ax3.transAxes, fontsize=20);\n",
    "ax3.spines['right'].set_visible(False)\n",
    "ax3.spines['top'].set_visible(False)\n",
    "\n",
    "ax5 = fig.add_subplot(gs[1,3])\n",
    "ef = df.loc['Telangana'].rename_axis('date').reset_index()\n",
    "ef['date'] = ef['date'].astype('datetime64[ns]')\n",
    "ax5.bar(ef.date, ef['Telangana'],color = '#007acc',alpha=0.5,)\n",
    "ax5.xaxis.set_major_locator(mdates.WeekdayLocator())\n",
    "ax5.xaxis.set_major_formatter(mdates.DateFormatter('%b %d'))\n",
    "ax5.set_xticks(ax5.get_xticks()[::3])\n",
    "ax5.text(0.05, 0.9,'Telangana', transform = ax5.transAxes, fontsize=20);\n",
    "ax5.spines['right'].set_visible(False)\n",
    "ax5.spines['top'].set_visible(False)\n",
    "\n",
    "ax6 = fig.add_subplot(gs[1,4])\n",
    "ef = df.loc['Andhra Pradesh'].rename_axis('date').reset_index()\n",
    "ef['date'] = ef['date'].astype('datetime64[ns]')\n",
    "ax6.bar(ef.date, ef['Andhra Pradesh'],color = '#007acc',alpha=0.5,)\n",
    "ax6.xaxis.set_major_locator(mdates.WeekdayLocator())\n",
    "ax6.xaxis.set_major_formatter(mdates.DateFormatter('%b %d'))\n",
    "ax6.set_xticks(ax6.get_xticks()[::3])\n",
    "ax6.text(0.05, 1,'Andhra Pradesh', transform = ax6.transAxes, fontsize=20);\n",
    "ax6.spines['right'].set_visible(False)\n",
    "ax6.spines['top'].set_visible(False)\n",
    "\n",
    "ax4 = fig.add_subplot(gs[1,2])\n",
    "ef = df.loc['Delhi'].rename_axis('date').reset_index()\n",
    "ef['date'] = ef['date'].astype('datetime64[ns]')\n",
    "ax4.bar(ef.date, ef.Delhi,color = '#007acc',alpha=0.5)\n",
    "ax4.set_xticks([])\n",
    "ax4.xaxis.set_major_locator(mdates.WeekdayLocator())\n",
    "ax4.xaxis.set_major_formatter(mdates.DateFormatter('%b %d'))\n",
    "ax4.set_xticks(ax4.get_xticks()[::3])\n",
    "ax4.spines['right'].set_visible(False)\n",
    "ax4.spines['top'].set_visible(False)\n",
    "\n",
    "ax4.text(0.05, 1,'Delhi', transform = ax4.transAxes, fontsize=20)\n",
    "\n",
    "for i in range(n):\n",
    "    \n",
    "    ax.append(fig.add_subplot(gs[i+2,:]))\n",
    "    ef = df.iloc[i+3].rename_axis('date').reset_index()\n",
    "    ef['date'] = ef['date'].astype('datetime64[ns]')\n",
    "    ax[i].bar(ef.date,ef.iloc[:,-1],color = '#007acc',alpha=0.3)\n",
    "    ax[i].plot(ef.date,ef.iloc[:,-1],marker='o',color='#007acc')\n",
    "    ax[i].text(0.02,0.5,f'{ef.columns.values[-1]}',transform = ax[i].transAxes, fontsize = 20);\n",
    "    ax[i].xaxis.set_major_locator(mdates.WeekdayLocator())\n",
    "    ax[i].xaxis.set_major_formatter(mdates.DateFormatter('%b %d'))\n",
    "    ax[i].set_ylim([0,7000])\n",
    "    ax[i].spines['right'].set_visible(False)\n",
    "    ax[i].spines['top'].set_visible(False)\n",
    "plt.tight_layout()\n"
   ]
  },
  {
   "cell_type": "code",
   "execution_count": 20,
   "metadata": {
    "execution": {
     "iopub.execute_input": "2020-08-09T13:26:01.613168Z",
     "iopub.status.busy": "2020-08-09T13:26:01.612540Z",
     "iopub.status.idle": "2020-08-09T13:26:01.614883Z",
     "shell.execute_reply": "2020-08-09T13:26:01.615351Z"
    },
    "papermill": {
     "duration": 0.033555,
     "end_time": "2020-08-09T13:26:01.615496",
     "exception": false,
     "start_time": "2020-08-09T13:26:01.581941",
     "status": "completed"
    },
    "tags": []
   },
   "outputs": [
    {
     "name": "stdout",
     "output_type": "stream",
     "text": [
      "                                   states   Cases  Deaths  PCases  PDeaths  Cases (+)  Deaths (+)  Fatality Rate\n",
      "                              Maharashtra  503084   17367  503084    17367          0           0           3.45\n",
      "                               Tamil Nadu  290907    4808  290907     4808          0           0           1.65\n",
      "                           Andhra Pradesh  217040    1939  217040     1939          0           0           0.89\n",
      "                                Karnataka  172102    3091  172102     3091          0           0           1.80\n",
      "                                    Delhi  145427    4111  144127     4098       1300          13           2.83\n",
      "                            Uttar Pradesh  122609    2069  118038     2028       4571          41           1.69\n",
      "                              West Bengal   92615    2005   92615     2005          0           0           2.16\n",
      "                                    Bihar   79720     429   75786      419       3934          10           0.54\n",
      "                                Telangana   79495     627   77513      615       1982          12           0.79\n",
      "                                  Gujarat   69986    2627   69986     2627          0           0           3.75\n",
      "                                    Assam   57715     140   57715      140          0           0           0.24\n",
      "                                Rajasthan   51924     784   51328      778        596           6           1.51\n",
      "                                   Odisha   45927     321   44193      307       1734          14           0.70\n",
      "                                  Haryana   40843     474   40843      474          0           0           1.16\n",
      "                           Madhya Pradesh   38157     977   38157      977          0           0           2.56\n",
      "                                   Kerala   34331     109   33120      107       1211           2           0.32\n",
      "                        Jammu and Kashmir   24897     472   24390      459        507          13           1.90\n",
      "                                   Punjab   22928     562   22928      562          0           0           2.45\n",
      "                                Jharkhand   17626     168   17468      160        158           8           0.95\n",
      "                             Chhattisgarh   11855      90   11855       90          0           0           0.76\n",
      "                              Uttarakhand    9402     117    9402      117          0           0           1.24\n",
      "                                      Goa    8206      72    8206       72          0           0           0.88\n",
      "                                  Tripura    6161      41    6014       37        147           4           0.67\n",
      "                               Puducherry    5382      87    5123       80        259           7           1.62\n",
      "                                  Manipur    3635      11    3635       11          0           0           0.30\n",
      "                         Himachal Pradesh    3304      14    3264       13         40           1           0.42\n",
      "                                 Nagaland    2781       8    2688        7         93           1           0.29\n",
      "                        Arunachal Pradesh    2117       3    2117        3          0           0           0.14\n",
      "                                   Ladakh    1639       9    1639        9          0           0           0.55\n",
      " Dadra and Nagar Haveli and Daman and Diu    1510       2    1510        2          0           0           0.13\n",
      "                               Chandigarh    1426      24    1426       24          0           0           1.68\n",
      "              Andaman and Nicobar Islands    1351      20    1351       20          0           0           1.48\n",
      "                                Meghalaya    1061       6    1023        6         38           0           0.57\n",
      "                                   Sikkim     860       1     860        1          0           0           0.12\n",
      "                                  Mizoram     608       0     567        0         41           0           0.00\n",
      "                              Lakshadweep       0       0       0        0          0           0            NaN\n"
     ]
    }
   ],
   "source": [
    "#hide_input\n",
    "print(df_table.to_string(index=False))"
   ]
  },
  {
   "cell_type": "code",
   "execution_count": null,
   "metadata": {
    "papermill": {
     "duration": 0.024069,
     "end_time": "2020-08-09T13:26:01.662266",
     "exception": false,
     "start_time": "2020-08-09T13:26:01.638197",
     "status": "completed"
    },
    "tags": []
   },
   "outputs": [],
   "source": []
  },
  {
   "cell_type": "code",
   "execution_count": null,
   "metadata": {
    "papermill": {
     "duration": 0.022872,
     "end_time": "2020-08-09T13:26:01.707587",
     "exception": false,
     "start_time": "2020-08-09T13:26:01.684715",
     "status": "completed"
    },
    "tags": []
   },
   "outputs": [],
   "source": []
  }
 ],
 "metadata": {
  "kernelspec": {
   "display_name": "Python 3",
   "language": "python",
   "name": "python3"
  },
  "language_info": {
   "codemirror_mode": {
    "name": "ipython",
    "version": 3
   },
   "file_extension": ".py",
   "mimetype": "text/x-python",
   "name": "python",
   "nbconvert_exporter": "python",
   "pygments_lexer": "ipython3",
   "version": "3.6.11"
  },
  "papermill": {
   "duration": 7.210816,
   "end_time": "2020-08-09T13:26:02.140253",
   "environment_variables": {},
   "exception": null,
   "input_path": "latest.ipynb",
   "output_path": "latest.ipynb",
   "parameters": {},
   "start_time": "2020-08-09T13:25:54.929437",
   "version": "2.1.2"
  }
 },
 "nbformat": 4,
 "nbformat_minor": 4
}