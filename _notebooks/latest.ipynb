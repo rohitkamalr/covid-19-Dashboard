{
 "cells": [
  {
   "cell_type": "markdown",
   "id": "colored-stack",
   "metadata": {
    "papermill": {
     "duration": 0.019789,
     "end_time": "2021-02-05T12:31:18.201153",
     "exception": false,
     "start_time": "2021-02-05T12:31:18.181364",
     "status": "completed"
    },
    "tags": []
   },
   "source": [
    "# Latest COVID-19 India Matplotlib Overview"
   ]
  },
  {
   "cell_type": "code",
   "execution_count": 1,
   "id": "light-proportion",
   "metadata": {
    "execution": {
     "iopub.execute_input": "2021-02-05T12:31:18.243194Z",
     "iopub.status.busy": "2021-02-05T12:31:18.242687Z",
     "iopub.status.idle": "2021-02-05T12:31:18.750789Z",
     "shell.execute_reply": "2021-02-05T12:31:18.751277Z"
    },
    "papermill": {
     "duration": 0.534894,
     "end_time": "2021-02-05T12:31:18.751468",
     "exception": false,
     "start_time": "2021-02-05T12:31:18.216574",
     "status": "completed"
    },
    "tags": []
   },
   "outputs": [],
   "source": [
    "#hide\n",
    "import pandas as pd\n",
    "import numpy as np\n",
    "import requests\n",
    "import json\n",
    "import matplotlib.pyplot as plt\n",
    "import matplotlib.dates as mdates\n",
    "import matplotlib as mpl\n",
    "from IPython.core.display import display,HTML\n",
    "%matplotlib inline\n",
    "from datetime import date"
   ]
  },
  {
   "cell_type": "code",
   "execution_count": 2,
   "id": "greenhouse-shooting",
   "metadata": {
    "execution": {
     "iopub.execute_input": "2021-02-05T12:31:18.789570Z",
     "iopub.status.busy": "2021-02-05T12:31:18.789062Z",
     "iopub.status.idle": "2021-02-05T12:31:18.963326Z",
     "shell.execute_reply": "2021-02-05T12:31:18.962827Z"
    },
    "papermill": {
     "duration": 0.195763,
     "end_time": "2021-02-05T12:31:18.963452",
     "exception": false,
     "start_time": "2021-02-05T12:31:18.767689",
     "status": "completed"
    },
    "tags": []
   },
   "outputs": [],
   "source": [
    "#hide\n",
    "df  = pd.read_csv('https://api.covid19india.org/csv/latest/states.csv')\n",
    "df = df[['Date','State','Confirmed','Deceased']]\n",
    "df = df.rename(columns={'Confirmed':'Cases', \"Deceased\":'Deaths'})\n",
    "df_cases = df[[\"Date\",'State','Cases']]\n",
    "df_deaths = df[['Date','State','Deaths']]\n",
    "df_cases1 = df_cases.groupby('Date')\n",
    "df_deaths1= df_deaths.groupby('Date')"
   ]
  },
  {
   "cell_type": "code",
   "execution_count": 3,
   "id": "hybrid-cathedral",
   "metadata": {
    "execution": {
     "iopub.execute_input": "2021-02-05T12:31:18.998226Z",
     "iopub.status.busy": "2021-02-05T12:31:18.997724Z",
     "iopub.status.idle": "2021-02-05T12:31:19.013780Z",
     "shell.execute_reply": "2021-02-05T12:31:19.013376Z"
    },
    "papermill": {
     "duration": 0.035384,
     "end_time": "2021-02-05T12:31:19.013893",
     "exception": false,
     "start_time": "2021-02-05T12:31:18.978509",
     "status": "completed"
    },
    "tags": []
   },
   "outputs": [],
   "source": [
    "#hide\n",
    "df_snap = pd.read_csv('data/SnapshotCases-28-July.csv')\n",
    "arr_states = df_snap['states'].unique()\n",
    "arr_dates = df['Date'].unique()\n",
    "df_snap = df_snap.set_index('states')"
   ]
  },
  {
   "cell_type": "code",
   "execution_count": 4,
   "id": "interior-belfast",
   "metadata": {
    "execution": {
     "iopub.execute_input": "2021-02-05T12:31:19.049833Z",
     "iopub.status.busy": "2021-02-05T12:31:19.049255Z",
     "iopub.status.idle": "2021-02-05T12:31:19.051285Z",
     "shell.execute_reply": "2021-02-05T12:31:19.051829Z"
    },
    "papermill": {
     "duration": 0.0233,
     "end_time": "2021-02-05T12:31:19.051965",
     "exception": false,
     "start_time": "2021-02-05T12:31:19.028665",
     "status": "completed"
    },
    "tags": []
   },
   "outputs": [
    {
     "data": {
      "text/plain": [
       "array(['Andaman and Nicobar Islands', 'Andhra Pradesh',\n",
       "       'Arunachal Pradesh', 'Assam', 'Bihar', 'Chandigarh',\n",
       "       'Dadra and Nagar Haveli and Daman and Diu', 'Delhi', 'Goa',\n",
       "       'Gujarat', 'Haryana', 'Himachal Pradesh', 'Jammu and Kashmir',\n",
       "       'Jharkhand', 'Karnataka', 'Kerala', 'Lakshadweep',\n",
       "       'Madhya Pradesh', 'Maharashtra', 'Manipur', 'Meghalaya', 'Mizoram',\n",
       "       'Nagaland', 'Odisha', 'Puducherry', 'Punjab', 'Rajasthan',\n",
       "       'Sikkim', 'Tamil Nadu', 'Telangana', 'Tripura', 'Uttar Pradesh',\n",
       "       'West Bengal', 'Chhattisgarh', 'Ladakh', 'Uttarakhand'],\n",
       "      dtype=object)"
      ]
     },
     "execution_count": 4,
     "metadata": {},
     "output_type": "execute_result"
    }
   ],
   "source": [
    "#hide\n",
    "arr_states[-9] = 'Puducherry'\n",
    "arr_states[-10] = 'Odisha'\n",
    "arr_states[6] = 'Dadra and Nagar Haveli and Daman and Diu'\n",
    "arr_states = np.append(arr_states,np.array(['Chhattisgarh','Ladakh','Uttarakhand']))\n",
    "arr_states"
   ]
  },
  {
   "cell_type": "code",
   "execution_count": 5,
   "id": "behind-manner",
   "metadata": {
    "execution": {
     "iopub.execute_input": "2021-02-05T12:31:19.092067Z",
     "iopub.status.busy": "2021-02-05T12:31:19.091429Z",
     "iopub.status.idle": "2021-02-05T12:31:19.098711Z",
     "shell.execute_reply": "2021-02-05T12:31:19.099114Z"
    },
    "papermill": {
     "duration": 0.031891,
     "end_time": "2021-02-05T12:31:19.099230",
     "exception": false,
     "start_time": "2021-02-05T12:31:19.067339",
     "status": "completed"
    },
    "tags": []
   },
   "outputs": [],
   "source": [
    "#hide\n",
    "dates = []\n",
    "for i in arr_dates:\n",
    "    if i>='2020-07-01':\n",
    "        dates.append(i)\n",
    "dict = {'states':dates}\n",
    "for i in arr_states:\n",
    "    dict[i] = [0]*len(dates)\n",
    "dft_cases = pd.DataFrame(dict)\n",
    "dft_deaths = pd.DataFrame(dict)\n"
   ]
  },
  {
   "cell_type": "code",
   "execution_count": 6,
   "id": "simplified-peter",
   "metadata": {
    "execution": {
     "iopub.execute_input": "2021-02-05T12:31:19.136144Z",
     "iopub.status.busy": "2021-02-05T12:31:19.135610Z",
     "iopub.status.idle": "2021-02-05T12:31:22.002570Z",
     "shell.execute_reply": "2021-02-05T12:31:22.001760Z"
    },
    "papermill": {
     "duration": 2.88833,
     "end_time": "2021-02-05T12:31:22.002706",
     "exception": false,
     "start_time": "2021-02-05T12:31:19.114376",
     "status": "completed"
    },
    "tags": []
   },
   "outputs": [],
   "source": [
    "#hide\n",
    "for i in range(len(dates)):\n",
    "    df1_deaths = df_deaths1.get_group(dates[i])\n",
    "    for j in range(len(df1_deaths.index)):\n",
    "        if df1_deaths.iloc[j,1] in arr_states:\n",
    "            dft_deaths.loc[i,df1_deaths.iloc[j,1]] = df1_deaths.iloc[j,2]\n",
    "dft_deaths = dft_deaths.set_index('states')"
   ]
  },
  {
   "cell_type": "code",
   "execution_count": 7,
   "id": "geological-welding",
   "metadata": {
    "execution": {
     "iopub.execute_input": "2021-02-05T12:31:22.038471Z",
     "iopub.status.busy": "2021-02-05T12:31:22.037969Z",
     "iopub.status.idle": "2021-02-05T12:31:24.733520Z",
     "shell.execute_reply": "2021-02-05T12:31:24.732992Z"
    },
    "papermill": {
     "duration": 2.715664,
     "end_time": "2021-02-05T12:31:24.733665",
     "exception": false,
     "start_time": "2021-02-05T12:31:22.018001",
     "status": "completed"
    },
    "tags": []
   },
   "outputs": [],
   "source": [
    "#hide\n",
    "for i in range(len(dates)):\n",
    "    df1_cases = df_cases1.get_group(dates[i])\n",
    "    for j in range(len(df1_cases.index)):\n",
    "        if df1_cases.iloc[j,1] in arr_states:\n",
    "            dft_cases.loc[i,df1_cases.iloc[j,1]] = df1_cases.iloc[j,2]\n",
    "dft_cases = dft_cases.set_index('states')"
   ]
  },
  {
   "cell_type": "code",
   "execution_count": 8,
   "id": "binary-ratio",
   "metadata": {
    "execution": {
     "iopub.execute_input": "2021-02-05T12:31:24.770883Z",
     "iopub.status.busy": "2021-02-05T12:31:24.770299Z",
     "iopub.status.idle": "2021-02-05T12:31:24.771890Z",
     "shell.execute_reply": "2021-02-05T12:31:24.772276Z"
    },
    "papermill": {
     "duration": 0.022264,
     "end_time": "2021-02-05T12:31:24.772402",
     "exception": false,
     "start_time": "2021-02-05T12:31:24.750138",
     "status": "completed"
    },
    "tags": []
   },
   "outputs": [],
   "source": [
    "#hide\n",
    "dft_cases = dft_cases.T\n",
    "dft_deaths = dft_deaths.T\n",
    "dt_today = dates[-1]\n",
    "dt_yday = dates[-2]"
   ]
  },
  {
   "cell_type": "code",
   "execution_count": 9,
   "id": "boolean-calculator",
   "metadata": {
    "execution": {
     "iopub.execute_input": "2021-02-05T12:31:24.807190Z",
     "iopub.status.busy": "2021-02-05T12:31:24.806694Z",
     "iopub.status.idle": "2021-02-05T12:31:24.811312Z",
     "shell.execute_reply": "2021-02-05T12:31:24.810914Z"
    },
    "papermill": {
     "duration": 0.02407,
     "end_time": "2021-02-05T12:31:24.811417",
     "exception": false,
     "start_time": "2021-02-05T12:31:24.787347",
     "status": "completed"
    },
    "tags": []
   },
   "outputs": [],
   "source": [
    "#hide\n",
    "dft_cases = dft_cases.reset_index()\n",
    "dft_deaths = dft_deaths.reset_index()\n",
    "dft_cases = dft_cases.rename(columns = {'index':'state'})\n",
    "dft_deaths = dft_deaths.rename(columns = {'index':'state'})"
   ]
  },
  {
   "cell_type": "code",
   "execution_count": 10,
   "id": "invisible-johnston",
   "metadata": {
    "execution": {
     "iopub.execute_input": "2021-02-05T12:31:24.851235Z",
     "iopub.status.busy": "2021-02-05T12:31:24.850739Z",
     "iopub.status.idle": "2021-02-05T12:31:24.852796Z",
     "shell.execute_reply": "2021-02-05T12:31:24.853197Z"
    },
    "papermill": {
     "duration": 0.026912,
     "end_time": "2021-02-05T12:31:24.853310",
     "exception": false,
     "start_time": "2021-02-05T12:31:24.826398",
     "status": "completed"
    },
    "tags": []
   },
   "outputs": [],
   "source": [
    "#hide\n",
    "dfc_cases = dft_cases.groupby('state')[dt_today].sum()\n",
    "dfc_deaths = dft_deaths.groupby('state')[dt_today].sum()\n",
    "dfp_cases = dft_cases.groupby('state')[dt_yday].sum()\n",
    "dfp_deaths = dft_deaths.groupby('state')[dt_yday].sum()"
   ]
  },
  {
   "cell_type": "code",
   "execution_count": 11,
   "id": "measured-great",
   "metadata": {
    "execution": {
     "iopub.execute_input": "2021-02-05T12:31:24.888819Z",
     "iopub.status.busy": "2021-02-05T12:31:24.888325Z",
     "iopub.status.idle": "2021-02-05T12:31:24.900531Z",
     "shell.execute_reply": "2021-02-05T12:31:24.900909Z"
    },
    "papermill": {
     "duration": 0.032666,
     "end_time": "2021-02-05T12:31:24.901024",
     "exception": false,
     "start_time": "2021-02-05T12:31:24.868358",
     "status": "completed"
    },
    "tags": []
   },
   "outputs": [
    {
     "data": {
      "text/html": [
       "<div>\n",
       "<style scoped>\n",
       "    .dataframe tbody tr th:only-of-type {\n",
       "        vertical-align: middle;\n",
       "    }\n",
       "\n",
       "    .dataframe tbody tr th {\n",
       "        vertical-align: top;\n",
       "    }\n",
       "\n",
       "    .dataframe thead th {\n",
       "        text-align: right;\n",
       "    }\n",
       "</style>\n",
       "<table border=\"1\" class=\"dataframe\">\n",
       "  <thead>\n",
       "    <tr style=\"text-align: right;\">\n",
       "      <th></th>\n",
       "      <th>states</th>\n",
       "      <th>Cases</th>\n",
       "      <th>Deaths</th>\n",
       "      <th>PCases</th>\n",
       "      <th>PDeaths</th>\n",
       "    </tr>\n",
       "  </thead>\n",
       "  <tbody>\n",
       "    <tr>\n",
       "      <th>0</th>\n",
       "      <td>Maharashtra</td>\n",
       "      <td>2036002</td>\n",
       "      <td>51215</td>\n",
       "      <td>2036002</td>\n",
       "      <td>51215</td>\n",
       "    </tr>\n",
       "    <tr>\n",
       "      <th>1</th>\n",
       "      <td>Kerala</td>\n",
       "      <td>950812</td>\n",
       "      <td>3814</td>\n",
       "      <td>950812</td>\n",
       "      <td>3814</td>\n",
       "    </tr>\n",
       "    <tr>\n",
       "      <th>2</th>\n",
       "      <td>Karnataka</td>\n",
       "      <td>941070</td>\n",
       "      <td>12227</td>\n",
       "      <td>941070</td>\n",
       "      <td>12227</td>\n",
       "    </tr>\n",
       "    <tr>\n",
       "      <th>3</th>\n",
       "      <td>Andhra Pradesh</td>\n",
       "      <td>888178</td>\n",
       "      <td>7157</td>\n",
       "      <td>888178</td>\n",
       "      <td>7157</td>\n",
       "    </tr>\n",
       "    <tr>\n",
       "      <th>4</th>\n",
       "      <td>Tamil Nadu</td>\n",
       "      <td>840360</td>\n",
       "      <td>12375</td>\n",
       "      <td>840360</td>\n",
       "      <td>12375</td>\n",
       "    </tr>\n",
       "  </tbody>\n",
       "</table>\n",
       "</div>"
      ],
      "text/plain": [
       "           states    Cases  Deaths   PCases  PDeaths\n",
       "0     Maharashtra  2036002   51215  2036002    51215\n",
       "1          Kerala   950812    3814   950812     3814\n",
       "2       Karnataka   941070   12227   941070    12227\n",
       "3  Andhra Pradesh   888178    7157   888178     7157\n",
       "4      Tamil Nadu   840360   12375   840360    12375"
      ]
     },
     "execution_count": 11,
     "metadata": {},
     "output_type": "execute_result"
    }
   ],
   "source": [
    "#hide\n",
    "df_table = pd.DataFrame({'states': dfc_cases.index, 'Cases': dfc_cases.values, 'Deaths': dfc_deaths.values, 'PCases': dfp_cases.values, 'PDeaths': dfp_deaths.values}).set_index('states')\n",
    "df_table = df_table.sort_values(by = ['Cases','Deaths'], ascending = [False, False])\n",
    "df_table = df_table.reset_index()\n",
    "df_table.head()"
   ]
  },
  {
   "cell_type": "code",
   "execution_count": 12,
   "id": "found-montreal",
   "metadata": {
    "execution": {
     "iopub.execute_input": "2021-02-05T12:31:24.935909Z",
     "iopub.status.busy": "2021-02-05T12:31:24.935396Z",
     "iopub.status.idle": "2021-02-05T12:31:24.942848Z",
     "shell.execute_reply": "2021-02-05T12:31:24.942453Z"
    },
    "papermill": {
     "duration": 0.026652,
     "end_time": "2021-02-05T12:31:24.942951",
     "exception": false,
     "start_time": "2021-02-05T12:31:24.916299",
     "status": "completed"
    },
    "tags": []
   },
   "outputs": [],
   "source": [
    "#hide\n",
    "for c in 'Cases, Deaths'.split(', '):\n",
    "    df_table[f'{c} (+)'] = (df_table[c] - df_table[f'P{c}']).clip(0)\n",
    "df_table['Fatality Rate'] = (100* df_table['Deaths']/ df_table['Cases']).round(2)"
   ]
  },
  {
   "cell_type": "code",
   "execution_count": 13,
   "id": "minus-savage",
   "metadata": {
    "execution": {
     "iopub.execute_input": "2021-02-05T12:31:24.977628Z",
     "iopub.status.busy": "2021-02-05T12:31:24.977134Z",
     "iopub.status.idle": "2021-02-05T12:31:24.985142Z",
     "shell.execute_reply": "2021-02-05T12:31:24.985567Z"
    },
    "papermill": {
     "duration": 0.027286,
     "end_time": "2021-02-05T12:31:24.985679",
     "exception": false,
     "start_time": "2021-02-05T12:31:24.958393",
     "status": "completed"
    },
    "tags": []
   },
   "outputs": [
    {
     "data": {
      "text/html": [
       "<div>\n",
       "<style scoped>\n",
       "    .dataframe tbody tr th:only-of-type {\n",
       "        vertical-align: middle;\n",
       "    }\n",
       "\n",
       "    .dataframe tbody tr th {\n",
       "        vertical-align: top;\n",
       "    }\n",
       "\n",
       "    .dataframe thead th {\n",
       "        text-align: right;\n",
       "    }\n",
       "</style>\n",
       "<table border=\"1\" class=\"dataframe\">\n",
       "  <thead>\n",
       "    <tr style=\"text-align: right;\">\n",
       "      <th></th>\n",
       "      <th>states</th>\n",
       "      <th>Cases</th>\n",
       "      <th>Deaths</th>\n",
       "      <th>PCases</th>\n",
       "      <th>PDeaths</th>\n",
       "      <th>Cases (+)</th>\n",
       "      <th>Deaths (+)</th>\n",
       "      <th>Fatality Rate</th>\n",
       "    </tr>\n",
       "  </thead>\n",
       "  <tbody>\n",
       "    <tr>\n",
       "      <th>0</th>\n",
       "      <td>Maharashtra</td>\n",
       "      <td>2036002</td>\n",
       "      <td>51215</td>\n",
       "      <td>2036002</td>\n",
       "      <td>51215</td>\n",
       "      <td>0</td>\n",
       "      <td>0</td>\n",
       "      <td>2.52</td>\n",
       "    </tr>\n",
       "    <tr>\n",
       "      <th>1</th>\n",
       "      <td>Kerala</td>\n",
       "      <td>950812</td>\n",
       "      <td>3814</td>\n",
       "      <td>950812</td>\n",
       "      <td>3814</td>\n",
       "      <td>0</td>\n",
       "      <td>0</td>\n",
       "      <td>0.40</td>\n",
       "    </tr>\n",
       "    <tr>\n",
       "      <th>2</th>\n",
       "      <td>Karnataka</td>\n",
       "      <td>941070</td>\n",
       "      <td>12227</td>\n",
       "      <td>941070</td>\n",
       "      <td>12227</td>\n",
       "      <td>0</td>\n",
       "      <td>0</td>\n",
       "      <td>1.30</td>\n",
       "    </tr>\n",
       "    <tr>\n",
       "      <th>3</th>\n",
       "      <td>Andhra Pradesh</td>\n",
       "      <td>888178</td>\n",
       "      <td>7157</td>\n",
       "      <td>888178</td>\n",
       "      <td>7157</td>\n",
       "      <td>0</td>\n",
       "      <td>0</td>\n",
       "      <td>0.81</td>\n",
       "    </tr>\n",
       "    <tr>\n",
       "      <th>4</th>\n",
       "      <td>Tamil Nadu</td>\n",
       "      <td>840360</td>\n",
       "      <td>12375</td>\n",
       "      <td>840360</td>\n",
       "      <td>12375</td>\n",
       "      <td>0</td>\n",
       "      <td>0</td>\n",
       "      <td>1.47</td>\n",
       "    </tr>\n",
       "  </tbody>\n",
       "</table>\n",
       "</div>"
      ],
      "text/plain": [
       "           states    Cases  Deaths   PCases  PDeaths  Cases (+)  Deaths (+)  \\\n",
       "0     Maharashtra  2036002   51215  2036002    51215          0           0   \n",
       "1          Kerala   950812    3814   950812     3814          0           0   \n",
       "2       Karnataka   941070   12227   941070    12227          0           0   \n",
       "3  Andhra Pradesh   888178    7157   888178     7157          0           0   \n",
       "4      Tamil Nadu   840360   12375   840360    12375          0           0   \n",
       "\n",
       "   Fatality Rate  \n",
       "0           2.52  \n",
       "1           0.40  \n",
       "2           1.30  \n",
       "3           0.81  \n",
       "4           1.47  "
      ]
     },
     "execution_count": 13,
     "metadata": {},
     "output_type": "execute_result"
    }
   ],
   "source": [
    "#hide\n",
    "df_table.head()"
   ]
  },
  {
   "cell_type": "code",
   "execution_count": 14,
   "id": "false-peter",
   "metadata": {
    "execution": {
     "iopub.execute_input": "2021-02-05T12:31:25.022347Z",
     "iopub.status.busy": "2021-02-05T12:31:25.021855Z",
     "iopub.status.idle": "2021-02-05T12:31:25.035405Z",
     "shell.execute_reply": "2021-02-05T12:31:25.035818Z"
    },
    "papermill": {
     "duration": 0.034089,
     "end_time": "2021-02-05T12:31:25.035937",
     "exception": false,
     "start_time": "2021-02-05T12:31:25.001848",
     "status": "completed"
    },
    "tags": []
   },
   "outputs": [
    {
     "data": {
      "text/plain": [
       "{'updated': '2021-02-05',\n",
       " 'since': '2021-02-04',\n",
       " 'Cases': 10803958,\n",
       " 'PCases': 10803533,\n",
       " 'Deaths': 154866,\n",
       " 'PDeaths': 154862,\n",
       " 'Cases (+)': 425,\n",
       " 'Deaths (+)': 4}"
      ]
     },
     "execution_count": 14,
     "metadata": {},
     "output_type": "execute_result"
    }
   ],
   "source": [
    "#hide\n",
    "summary = {'updated':dates[-1], 'since':dates[-2]}\n",
    "list_names = ['Cases', 'PCases', 'Deaths', 'PDeaths', 'Cases (+)', 'Deaths (+)']\n",
    "for name in list_names:\n",
    "    summary[name] = df_table.sum()[name]\n",
    "summary"
   ]
  },
  {
   "cell_type": "code",
   "execution_count": 15,
   "id": "packed-viewer",
   "metadata": {
    "execution": {
     "iopub.execute_input": "2021-02-05T12:31:25.071837Z",
     "iopub.status.busy": "2021-02-05T12:31:25.071223Z",
     "iopub.status.idle": "2021-02-05T12:31:25.072897Z",
     "shell.execute_reply": "2021-02-05T12:31:25.073330Z"
    },
    "papermill": {
     "duration": 0.021577,
     "end_time": "2021-02-05T12:31:25.073459",
     "exception": false,
     "start_time": "2021-02-05T12:31:25.051882",
     "status": "completed"
    },
    "tags": []
   },
   "outputs": [],
   "source": [
    "#hide\n",
    "overview = '''\n",
    "<!-- #######  HTML!! #########-->\n",
    "<h1 style=\"color: #5e9ca0; text-align: center;\">India</h1>\n",
    "<p style=\"text-align: center;\">Last update: <strong>{update}</strong></p>\n",
    "<p style=\"text-align: center;\">Confirmed cases:</p>\n",
    "<p style=\"text-align: center;font-size:24px;\">{cases} (<span style=\"color: #ff0000;\">+{new}</span>)</p>\n",
    "<p style=\"text-align: center;\">Confirmed deaths:</p>\n",
    "<p style=\"text-align: center;font-size:24px;\">{deaths} (<span style=\"color: #ff0000;\">+{dnew}</span>)</p>\n",
    "'''"
   ]
  },
  {
   "cell_type": "code",
   "execution_count": 16,
   "id": "phantom-lover",
   "metadata": {
    "execution": {
     "iopub.execute_input": "2021-02-05T12:31:25.110743Z",
     "iopub.status.busy": "2021-02-05T12:31:25.110174Z",
     "iopub.status.idle": "2021-02-05T12:31:25.113068Z",
     "shell.execute_reply": "2021-02-05T12:31:25.112589Z"
    },
    "papermill": {
     "duration": 0.023464,
     "end_time": "2021-02-05T12:31:25.113181",
     "exception": false,
     "start_time": "2021-02-05T12:31:25.089717",
     "status": "completed"
    },
    "tags": []
   },
   "outputs": [
    {
     "data": {
      "text/html": [
       "\n",
       "<!-- #######  HTML!! #########-->\n",
       "<h1 style=\"color: #5e9ca0; text-align: center;\">India</h1>\n",
       "<p style=\"text-align: center;\">Last update: <strong>2021-02-05</strong></p>\n",
       "<p style=\"text-align: center;\">Confirmed cases:</p>\n",
       "<p style=\"text-align: center;font-size:24px;\">10803958 (<span style=\"color: #ff0000;\">+425</span>)</p>\n",
       "<p style=\"text-align: center;\">Confirmed deaths:</p>\n",
       "<p style=\"text-align: center;font-size:24px;\">154866 (<span style=\"color: #ff0000;\">+4</span>)</p>\n"
      ],
      "text/plain": [
       "<IPython.core.display.HTML object>"
      ]
     },
     "metadata": {},
     "output_type": "display_data"
    }
   ],
   "source": [
    "#hide_input\n",
    "update = summary['updated']\n",
    "cases = summary['Cases']\n",
    "new = summary['Cases (+)']\n",
    "deaths = summary['Deaths']\n",
    "dnew = summary['Deaths (+)']\n",
    "\n",
    "html = HTML(overview.format(update=update, cases=cases,new=new,deaths=deaths,dnew=dnew))\n",
    "\n",
    "display(html)"
   ]
  },
  {
   "cell_type": "code",
   "execution_count": 17,
   "id": "sealed-reset",
   "metadata": {
    "execution": {
     "iopub.execute_input": "2021-02-05T12:31:25.152089Z",
     "iopub.status.busy": "2021-02-05T12:31:25.151574Z",
     "iopub.status.idle": "2021-02-05T12:31:25.157819Z",
     "shell.execute_reply": "2021-02-05T12:31:25.158245Z"
    },
    "papermill": {
     "duration": 0.028037,
     "end_time": "2021-02-05T12:31:25.158354",
     "exception": false,
     "start_time": "2021-02-05T12:31:25.130317",
     "status": "completed"
    },
    "tags": []
   },
   "outputs": [],
   "source": [
    "#hide\n",
    "dt_cols = list(dft_cases.columns[1:])\n",
    "dft_ct_new_cases = dft_cases.groupby('state')[dt_cols].sum().diff(axis=1).fillna(0).astype(int)\n",
    "dft_ct_new_cases.sort_values(by = dates[-1], ascending = False,inplace = True)"
   ]
  },
  {
   "cell_type": "code",
   "execution_count": 18,
   "id": "designed-constant",
   "metadata": {
    "execution": {
     "iopub.execute_input": "2021-02-05T12:31:25.206136Z",
     "iopub.status.busy": "2021-02-05T12:31:25.205641Z",
     "iopub.status.idle": "2021-02-05T12:31:25.207937Z",
     "shell.execute_reply": "2021-02-05T12:31:25.208319Z"
    },
    "papermill": {
     "duration": 0.03357,
     "end_time": "2021-02-05T12:31:25.208432",
     "exception": false,
     "start_time": "2021-02-05T12:31:25.174862",
     "status": "completed"
    },
    "tags": []
   },
   "outputs": [
    {
     "data": {
      "text/html": [
       "<div>\n",
       "<style scoped>\n",
       "    .dataframe tbody tr th:only-of-type {\n",
       "        vertical-align: middle;\n",
       "    }\n",
       "\n",
       "    .dataframe tbody tr th {\n",
       "        vertical-align: top;\n",
       "    }\n",
       "\n",
       "    .dataframe thead th {\n",
       "        text-align: right;\n",
       "    }\n",
       "</style>\n",
       "<table border=\"1\" class=\"dataframe\">\n",
       "  <thead>\n",
       "    <tr style=\"text-align: right;\">\n",
       "      <th>states</th>\n",
       "      <th>2020-07-01</th>\n",
       "      <th>2020-07-02</th>\n",
       "      <th>2020-07-03</th>\n",
       "      <th>2020-07-04</th>\n",
       "      <th>2020-07-05</th>\n",
       "      <th>2020-07-06</th>\n",
       "      <th>2020-07-07</th>\n",
       "      <th>2020-07-08</th>\n",
       "      <th>2020-07-09</th>\n",
       "      <th>2020-07-10</th>\n",
       "      <th>...</th>\n",
       "      <th>2021-01-27</th>\n",
       "      <th>2021-01-28</th>\n",
       "      <th>2021-01-29</th>\n",
       "      <th>2021-01-30</th>\n",
       "      <th>2021-01-31</th>\n",
       "      <th>2021-02-01</th>\n",
       "      <th>2021-02-02</th>\n",
       "      <th>2021-02-03</th>\n",
       "      <th>2021-02-04</th>\n",
       "      <th>2021-02-05</th>\n",
       "    </tr>\n",
       "    <tr>\n",
       "      <th>state</th>\n",
       "      <th></th>\n",
       "      <th></th>\n",
       "      <th></th>\n",
       "      <th></th>\n",
       "      <th></th>\n",
       "      <th></th>\n",
       "      <th></th>\n",
       "      <th></th>\n",
       "      <th></th>\n",
       "      <th></th>\n",
       "      <th></th>\n",
       "      <th></th>\n",
       "      <th></th>\n",
       "      <th></th>\n",
       "      <th></th>\n",
       "      <th></th>\n",
       "      <th></th>\n",
       "      <th></th>\n",
       "      <th></th>\n",
       "      <th></th>\n",
       "      <th></th>\n",
       "    </tr>\n",
       "  </thead>\n",
       "  <tbody>\n",
       "    <tr>\n",
       "      <th>Telangana</th>\n",
       "      <td>0</td>\n",
       "      <td>1213</td>\n",
       "      <td>1892</td>\n",
       "      <td>1850</td>\n",
       "      <td>1590</td>\n",
       "      <td>1831</td>\n",
       "      <td>1879</td>\n",
       "      <td>1924</td>\n",
       "      <td>1410</td>\n",
       "      <td>1278</td>\n",
       "      <td>...</td>\n",
       "      <td>147</td>\n",
       "      <td>186</td>\n",
       "      <td>197</td>\n",
       "      <td>186</td>\n",
       "      <td>163</td>\n",
       "      <td>118</td>\n",
       "      <td>152</td>\n",
       "      <td>185</td>\n",
       "      <td>177</td>\n",
       "      <td>169</td>\n",
       "    </tr>\n",
       "    <tr>\n",
       "      <th>Delhi</th>\n",
       "      <td>0</td>\n",
       "      <td>2373</td>\n",
       "      <td>2520</td>\n",
       "      <td>2505</td>\n",
       "      <td>2244</td>\n",
       "      <td>1379</td>\n",
       "      <td>2008</td>\n",
       "      <td>2033</td>\n",
       "      <td>2187</td>\n",
       "      <td>2089</td>\n",
       "      <td>...</td>\n",
       "      <td>96</td>\n",
       "      <td>199</td>\n",
       "      <td>249</td>\n",
       "      <td>183</td>\n",
       "      <td>140</td>\n",
       "      <td>121</td>\n",
       "      <td>114</td>\n",
       "      <td>150</td>\n",
       "      <td>158</td>\n",
       "      <td>154</td>\n",
       "    </tr>\n",
       "    <tr>\n",
       "      <th>Odisha</th>\n",
       "      <td>0</td>\n",
       "      <td>229</td>\n",
       "      <td>561</td>\n",
       "      <td>495</td>\n",
       "      <td>469</td>\n",
       "      <td>456</td>\n",
       "      <td>571</td>\n",
       "      <td>527</td>\n",
       "      <td>577</td>\n",
       "      <td>755</td>\n",
       "      <td>...</td>\n",
       "      <td>138</td>\n",
       "      <td>113</td>\n",
       "      <td>70</td>\n",
       "      <td>108</td>\n",
       "      <td>114</td>\n",
       "      <td>79</td>\n",
       "      <td>60</td>\n",
       "      <td>71</td>\n",
       "      <td>87</td>\n",
       "      <td>97</td>\n",
       "    </tr>\n",
       "    <tr>\n",
       "      <th>Nagaland</th>\n",
       "      <td>0</td>\n",
       "      <td>34</td>\n",
       "      <td>4</td>\n",
       "      <td>24</td>\n",
       "      <td>27</td>\n",
       "      <td>35</td>\n",
       "      <td>19</td>\n",
       "      <td>13</td>\n",
       "      <td>16</td>\n",
       "      <td>59</td>\n",
       "      <td>...</td>\n",
       "      <td>2</td>\n",
       "      <td>1</td>\n",
       "      <td>4</td>\n",
       "      <td>2</td>\n",
       "      <td>4</td>\n",
       "      <td>5</td>\n",
       "      <td>2</td>\n",
       "      <td>16</td>\n",
       "      <td>4</td>\n",
       "      <td>5</td>\n",
       "    </tr>\n",
       "    <tr>\n",
       "      <th>Andaman and Nicobar Islands</th>\n",
       "      <td>0</td>\n",
       "      <td>9</td>\n",
       "      <td>7</td>\n",
       "      <td>3</td>\n",
       "      <td>6</td>\n",
       "      <td>16</td>\n",
       "      <td>6</td>\n",
       "      <td>2</td>\n",
       "      <td>7</td>\n",
       "      <td>0</td>\n",
       "      <td>...</td>\n",
       "      <td>0</td>\n",
       "      <td>0</td>\n",
       "      <td>0</td>\n",
       "      <td>0</td>\n",
       "      <td>0</td>\n",
       "      <td>0</td>\n",
       "      <td>0</td>\n",
       "      <td>0</td>\n",
       "      <td>0</td>\n",
       "      <td>0</td>\n",
       "    </tr>\n",
       "  </tbody>\n",
       "</table>\n",
       "<p>5 rows × 220 columns</p>\n",
       "</div>"
      ],
      "text/plain": [
       "states                       2020-07-01  2020-07-02  2020-07-03  2020-07-04  \\\n",
       "state                                                                         \n",
       "Telangana                             0        1213        1892        1850   \n",
       "Delhi                                 0        2373        2520        2505   \n",
       "Odisha                                0         229         561         495   \n",
       "Nagaland                              0          34           4          24   \n",
       "Andaman and Nicobar Islands           0           9           7           3   \n",
       "\n",
       "states                       2020-07-05  2020-07-06  2020-07-07  2020-07-08  \\\n",
       "state                                                                         \n",
       "Telangana                          1590        1831        1879        1924   \n",
       "Delhi                              2244        1379        2008        2033   \n",
       "Odisha                              469         456         571         527   \n",
       "Nagaland                             27          35          19          13   \n",
       "Andaman and Nicobar Islands           6          16           6           2   \n",
       "\n",
       "states                       2020-07-09  2020-07-10  ...  2021-01-27  \\\n",
       "state                                                ...               \n",
       "Telangana                          1410        1278  ...         147   \n",
       "Delhi                              2187        2089  ...          96   \n",
       "Odisha                              577         755  ...         138   \n",
       "Nagaland                             16          59  ...           2   \n",
       "Andaman and Nicobar Islands           7           0  ...           0   \n",
       "\n",
       "states                       2021-01-28  2021-01-29  2021-01-30  2021-01-31  \\\n",
       "state                                                                         \n",
       "Telangana                           186         197         186         163   \n",
       "Delhi                               199         249         183         140   \n",
       "Odisha                              113          70         108         114   \n",
       "Nagaland                              1           4           2           4   \n",
       "Andaman and Nicobar Islands           0           0           0           0   \n",
       "\n",
       "states                       2021-02-01  2021-02-02  2021-02-03  2021-02-04  \\\n",
       "state                                                                         \n",
       "Telangana                           118         152         185         177   \n",
       "Delhi                               121         114         150         158   \n",
       "Odisha                               79          60          71          87   \n",
       "Nagaland                              5           2          16           4   \n",
       "Andaman and Nicobar Islands           0           0           0           0   \n",
       "\n",
       "states                       2021-02-05  \n",
       "state                                    \n",
       "Telangana                           169  \n",
       "Delhi                               154  \n",
       "Odisha                               97  \n",
       "Nagaland                              5  \n",
       "Andaman and Nicobar Islands           0  \n",
       "\n",
       "[5 rows x 220 columns]"
      ]
     },
     "execution_count": 18,
     "metadata": {},
     "output_type": "execute_result"
    }
   ],
   "source": [
    "#hide\n",
    "dft_ct_new_cases.head()"
   ]
  },
  {
   "cell_type": "code",
   "execution_count": 19,
   "id": "responsible-nightlife",
   "metadata": {
    "execution": {
     "iopub.execute_input": "2021-02-05T12:31:25.265688Z",
     "iopub.status.busy": "2021-02-05T12:31:25.260085Z",
     "iopub.status.idle": "2021-02-05T12:31:31.712778Z",
     "shell.execute_reply": "2021-02-05T12:31:31.712354Z"
    },
    "papermill": {
     "duration": 6.487494,
     "end_time": "2021-02-05T12:31:31.712906",
     "exception": false,
     "start_time": "2021-02-05T12:31:25.225412",
     "status": "completed"
    },
    "tags": []
   },
   "outputs": [
    {
     "data": {
      "image/png": "[encoded data removed]",
      "text/plain": [
       "<Figure size 1296x2016 with 11 Axes>"
      ]
     },
     "metadata": {
      "needs_background": "light"
     },
     "output_type": "display_data"
    }
   ],
   "source": [
    "#hide_input\n",
    "df = dft_ct_new_cases.copy()\n",
    "df.loc['Total'] = df.sum()\n",
    "n = 5\n",
    "ax = []\n",
    "fig = plt.figure(figsize = (18,28))\n",
    "gs = fig.add_gridspec(n+2, 5)\n",
    "# gs = fig.add_gridspec(2, 3)\n",
    "ax1 = fig.add_subplot(gs[0, :])\n",
    "ef = df.loc['Total'].rename_axis('date').reset_index()\n",
    "ef['date'] = ef['date'].astype('datetime64[ns]')\n",
    "ax1.bar(ef.date,ef.Total,alpha=0.3,color='#007acc')\n",
    "ax1.plot(ef.date,ef.Total , marker=\"o\", color='#007acc')\n",
    "ax1.xaxis.set_major_locator(mdates.WeekdayLocator())\n",
    "ax1.xaxis.set_major_formatter(mdates.DateFormatter('%b %d'))\n",
    "ax1.text(0.02, 0.5,'India daily case count', transform = ax1.transAxes, fontsize=25);\n",
    "ax1.spines['right'].set_visible(False)\n",
    "ax1.spines['top'].set_visible(False)\n",
    "\n",
    "ax2 = fig.add_subplot(gs[1,0])\n",
    "ef = df.loc['Maharashtra'].rename_axis('date').reset_index()\n",
    "ef['date'] = ef['date'].astype('datetime64[ns]')\n",
    "\n",
    "ax2.bar(ef.date, ef.Maharashtra,color = '#007acc',alpha=0.5)\n",
    "ax2.xaxis.set_major_locator(mdates.WeekdayLocator())\n",
    "ax2.xaxis.set_major_formatter(mdates.DateFormatter('%b %d'))\n",
    "ax2.set_xticks(ax2.get_xticks()[::3])\n",
    "maxyval = ef.Maharashtra.max()\n",
    "ax2.set_ylim([0,maxyval])\n",
    "ax2.text(0.05, 0.9,'Maharashtra', transform = ax2.transAxes, fontsize=20);\n",
    "ax2.spines['right'].set_visible(False)\n",
    "ax2.spines['top'].set_visible(False)\n",
    "\n",
    "\n",
    "ax3 = fig.add_subplot(gs[1,1])\n",
    "ef = df.loc['Tamil Nadu'].rename_axis('date').reset_index()\n",
    "ef['date'] = ef['date'].astype('datetime64[ns]')\n",
    "ax3.bar(ef.date, ef['Tamil Nadu'],color = '#007acc',alpha=0.5,)\n",
    "ax3.xaxis.set_major_locator(mdates.WeekdayLocator())\n",
    "ax3.xaxis.set_major_formatter(mdates.DateFormatter('%b %d'))\n",
    "ax3.set_xticks(ax3.get_xticks()[::3])\n",
    "ax3.text(0.05, 0.9,'Tamil Nadu', transform = ax3.transAxes, fontsize=20);\n",
    "ax3.spines['right'].set_visible(False)\n",
    "ax3.spines['top'].set_visible(False)\n",
    "\n",
    "ax5 = fig.add_subplot(gs[1,3])\n",
    "ef = df.loc['Telangana'].rename_axis('date').reset_index()\n",
    "ef['date'] = ef['date'].astype('datetime64[ns]')\n",
    "ax5.bar(ef.date, ef['Telangana'],color = '#007acc',alpha=0.5,)\n",
    "ax5.xaxis.set_major_locator(mdates.WeekdayLocator())\n",
    "ax5.xaxis.set_major_formatter(mdates.DateFormatter('%b %d'))\n",
    "ax5.set_xticks(ax5.get_xticks()[::3])\n",
    "ax5.text(0.05, 0.9,'Telangana', transform = ax5.transAxes, fontsize=20);\n",
    "ax5.spines['right'].set_visible(False)\n",
    "ax5.spines['top'].set_visible(False)\n",
    "\n",
    "ax6 = fig.add_subplot(gs[1,4])\n",
    "ef = df.loc['Andhra Pradesh'].rename_axis('date').reset_index()\n",
    "ef['date'] = ef['date'].astype('datetime64[ns]')\n",
    "ax6.bar(ef.date, ef['Andhra Pradesh'],color = '#007acc',alpha=0.5,)\n",
    "ax6.xaxis.set_major_locator(mdates.WeekdayLocator())\n",
    "ax6.xaxis.set_major_formatter(mdates.DateFormatter('%b %d'))\n",
    "ax6.set_xticks(ax6.get_xticks()[::3])\n",
    "ax6.text(0.05, 1,'Andhra Pradesh', transform = ax6.transAxes, fontsize=20);\n",
    "ax6.spines['right'].set_visible(False)\n",
    "ax6.spines['top'].set_visible(False)\n",
    "\n",
    "ax4 = fig.add_subplot(gs[1,2])\n",
    "ef = df.loc['Delhi'].rename_axis('date').reset_index()\n",
    "ef['date'] = ef['date'].astype('datetime64[ns]')\n",
    "ax4.bar(ef.date, ef.Delhi,color = '#007acc',alpha=0.5)\n",
    "ax4.set_xticks([])\n",
    "ax4.xaxis.set_major_locator(mdates.WeekdayLocator())\n",
    "ax4.xaxis.set_major_formatter(mdates.DateFormatter('%b %d'))\n",
    "ax4.set_xticks(ax4.get_xticks()[::3])\n",
    "ax4.spines['right'].set_visible(False)\n",
    "ax4.spines['top'].set_visible(False)\n",
    "\n",
    "ax4.text(0.05, 1,'Delhi', transform = ax4.transAxes, fontsize=20)\n",
    "\n",
    "for i in range(n):\n",
    "    \n",
    "    ax.append(fig.add_subplot(gs[i+2,:]))\n",
    "    ef = df.iloc[i+3].rename_axis('date').reset_index()\n",
    "    ef['date'] = ef['date'].astype('datetime64[ns]')\n",
    "    ax[i].bar(ef.date,ef.iloc[:,-1],color = '#007acc',alpha=0.3)\n",
    "    ax[i].plot(ef.date,ef.iloc[:,-1],marker='o',color='#007acc')\n",
    "    ax[i].text(0.02,0.5,f'{ef.columns.values[-1]}',transform = ax[i].transAxes, fontsize = 20);\n",
    "    ax[i].xaxis.set_major_locator(mdates.WeekdayLocator())\n",
    "    ax[i].xaxis.set_major_formatter(mdates.DateFormatter('%b %d'))\n",
    "    ax[i].set_ylim([0,7000])\n",
    "    ax[i].spines['right'].set_visible(False)\n",
    "    ax[i].spines['top'].set_visible(False)\n",
    "plt.tight_layout()\n"
   ]
  },
  {
   "cell_type": "code",
   "execution_count": 20,
   "id": "dress-forge",
   "metadata": {
    "execution": {
     "iopub.execute_input": "2021-02-05T12:31:31.764335Z",
     "iopub.status.busy": "2021-02-05T12:31:31.763800Z",
     "iopub.status.idle": "2021-02-05T12:31:31.765814Z",
     "shell.execute_reply": "2021-02-05T12:31:31.766222Z"
    },
    "papermill": {
     "duration": 0.031819,
     "end_time": "2021-02-05T12:31:31.766350",
     "exception": false,
     "start_time": "2021-02-05T12:31:31.734531",
     "status": "completed"
    },
    "tags": []
   },
   "outputs": [
    {
     "name": "stdout",
     "output_type": "stream",
     "text": [
      "                                   states    Cases  Deaths   PCases  PDeaths  Cases (+)  Deaths (+)  Fatality Rate\n",
      "                              Maharashtra  2036002   51215  2036002    51215          0           0           2.52\n",
      "                                   Kerala   950812    3814   950812     3814          0           0           0.40\n",
      "                                Karnataka   941070   12227   941070    12227          0           0           1.30\n",
      "                           Andhra Pradesh   888178    7157   888178     7157          0           0           0.81\n",
      "                               Tamil Nadu   840360   12375   840360    12375          0           0           1.47\n",
      "                                    Delhi   635793   10873   635639    10871        154           2           1.71\n",
      "                            Uttar Pradesh   600970    8680   600970     8680          0           0           1.44\n",
      "                              West Bengal   570787   10199   570787    10199          0           0           1.79\n",
      "                                   Odisha   335466    1961   335369     1960         97           1           0.58\n",
      "                                Rajasthan   317905    2770   317905     2770          0           0           0.87\n",
      "                             Chhattisgarh   306743    3724   306743     3724          0           0           1.21\n",
      "                                Telangana   295270    1607   295101     1606        169           1           0.54\n",
      "                                  Haryana   268209    3026   268209     3026          0           0           1.13\n",
      "                                  Gujarat   262681    4392   262681     4392          0           0           1.67\n",
      "                                    Bihar   261068    1512   261068     1512          0           0           0.58\n",
      "                           Madhya Pradesh   255855    3818   255855     3818          0           0           1.49\n",
      "                                    Assam   217186    1084   217186     1084          0           0           0.50\n",
      "                                   Punjab   174057    5635   174057     5635          0           0           3.24\n",
      "                        Jammu and Kashmir   124719    1943   124719     1943          0           0           1.56\n",
      "                                Jharkhand   118897    1077   118897     1077          0           0           0.91\n",
      "                              Uttarakhand    96384    1659    96384     1659          0           0           1.72\n",
      "                         Himachal Pradesh    57693     970    57693      970          0           0           1.68\n",
      "                                      Goa    53717     770    53717      770          0           0           1.43\n",
      "                               Puducherry    39185     652    39185      652          0           0           1.66\n",
      "                                  Tripura    33348     388    33348      388          0           0           1.16\n",
      "                                  Manipur    29099     372    29099      372          0           0           1.28\n",
      "                               Chandigarh    21036     337    21036      337          0           0           1.60\n",
      "                        Arunachal Pradesh    16829      56    16829       56          0           0           0.33\n",
      "                                Meghalaya    13794     147    13794      147          0           0           1.07\n",
      "                                 Nagaland    12126      88    12121       88          5           0           0.73\n",
      "                                   Ladakh     9740     130     9740      130          0           0           1.33\n",
      "                                   Sikkim     6103     135     6103      135          0           0           2.21\n",
      "              Andaman and Nicobar Islands     4994      62     4994       62          0           0           1.24\n",
      "                                  Mizoram     4376       9     4376        9          0           0           0.21\n",
      " Dadra and Nagar Haveli and Daman and Diu     3380       2     3380        2          0           0           0.06\n",
      "                              Lakshadweep      126       0      126        0          0           0           0.00\n"
     ]
    }
   ],
   "source": [
    "#hide_input\n",
    "print(df_table.to_string(index=False))"
   ]
  },
  {
   "cell_type": "code",
   "execution_count": null,
   "id": "quantitative-legend",
   "metadata": {
    "papermill": {
     "duration": 0.021479,
     "end_time": "2021-02-05T12:31:31.809425",
     "exception": false,
     "start_time": "2021-02-05T12:31:31.787946",
     "status": "completed"
    },
    "tags": []
   },
   "outputs": [],
   "source": []
  },
  {
   "cell_type": "code",
   "execution_count": null,
   "id": "distant-acoustic",
   "metadata": {
    "papermill": {
     "duration": 0.091952,
     "end_time": "2021-02-05T12:31:31.927977",
     "exception": false,
     "start_time": "2021-02-05T12:31:31.836025",
     "status": "completed"
    },
    "tags": []
   },
   "outputs": [],
   "source": []
  }
 ],
 "metadata": {
  "kernelspec": {
   "display_name": "Python 3",
   "language": "python",
   "name": "python3"
  },
  "language_info": {
   "codemirror_mode": {
    "name": "ipython",
    "version": 3
   },
   "file_extension": ".py",
   "mimetype": "text/x-python",
   "name": "python",
   "nbconvert_exporter": "python",
   "pygments_lexer": "ipython3",
   "version": "3.6.12"
  },
  "papermill": {
   "duration": 15.584837,
   "end_time": "2021-02-05T12:31:32.530345",
   "environment_variables": {},
   "exception": null,
   "input_path": "latest.ipynb",
   "output_path": "latest.ipynb",
   "parameters": {},
   "start_time": "2021-02-05T12:31:16.945508",
   "version": "2.1.2"
  }
 },
 "nbformat": 4,
 "nbformat_minor": 5
}