{
 "cells": [
  {
   "cell_type": "markdown",
   "metadata": {
    "papermill": {
     "duration": 0.018668,
     "end_time": "2020-12-01T11:39:13.577847",
     "exception": false,
     "start_time": "2020-12-01T11:39:13.559179",
     "status": "completed"
    },
    "tags": []
   },
   "source": [
    "# Latest COVID-19 India Matplotlib Overview"
   ]
  },
  {
   "cell_type": "code",
   "execution_count": 1,
   "metadata": {
    "execution": {
     "iopub.execute_input": "2020-12-01T11:39:13.718631Z",
     "iopub.status.busy": "2020-12-01T11:39:13.718001Z",
     "iopub.status.idle": "2020-12-01T11:39:14.343659Z",
     "shell.execute_reply": "2020-12-01T11:39:14.343078Z"
    },
    "papermill": {
     "duration": 0.73934,
     "end_time": "2020-12-01T11:39:14.343823",
     "exception": false,
     "start_time": "2020-12-01T11:39:13.604483",
     "status": "completed"
    },
    "tags": []
   },
   "outputs": [],
   "source": [
    "#hide\n",
    "import pandas as pd\n",
    "import numpy as np\n",
    "import requests\n",
    "import json\n",
    "import matplotlib.pyplot as plt\n",
    "import matplotlib.dates as mdates\n",
    "import matplotlib as mpl\n",
    "from IPython.core.display import display,HTML\n",
    "%matplotlib inline\n",
    "from datetime import date"
   ]
  },
  {
   "cell_type": "code",
   "execution_count": 2,
   "metadata": {
    "execution": {
     "iopub.execute_input": "2020-12-01T11:39:14.383360Z",
     "iopub.status.busy": "2020-12-01T11:39:14.382668Z",
     "iopub.status.idle": "2020-12-01T11:39:14.524493Z",
     "shell.execute_reply": "2020-12-01T11:39:14.525488Z"
    },
    "papermill": {
     "duration": 0.166345,
     "end_time": "2020-12-01T11:39:14.525699",
     "exception": false,
     "start_time": "2020-12-01T11:39:14.359354",
     "status": "completed"
    },
    "tags": []
   },
   "outputs": [],
   "source": [
    "#hide\n",
    "df  = pd.read_csv('https://api.covid19india.org/csv/latest/states.csv')\n",
    "df = df[['Date','State','Confirmed','Deceased']]\n",
    "df = df.rename(columns={'Confirmed':'Cases', \"Deceased\":'Deaths'})\n",
    "df_cases = df[[\"Date\",'State','Cases']]\n",
    "df_deaths = df[['Date','State','Deaths']]\n",
    "df_cases1 = df_cases.groupby('Date')\n",
    "df_deaths1= df_deaths.groupby('Date')"
   ]
  },
  {
   "cell_type": "code",
   "execution_count": 3,
   "metadata": {
    "execution": {
     "iopub.execute_input": "2020-12-01T11:39:14.570705Z",
     "iopub.status.busy": "2020-12-01T11:39:14.569928Z",
     "iopub.status.idle": "2020-12-01T11:39:14.594606Z",
     "shell.execute_reply": "2020-12-01T11:39:14.594032Z"
    },
    "papermill": {
     "duration": 0.048553,
     "end_time": "2020-12-01T11:39:14.594769",
     "exception": false,
     "start_time": "2020-12-01T11:39:14.546216",
     "status": "completed"
    },
    "tags": []
   },
   "outputs": [],
   "source": [
    "#hide\n",
    "df_snap = pd.read_csv('data/SnapshotCases-28-July.csv')\n",
    "arr_states = df_snap['states'].unique()\n",
    "arr_dates = df['Date'].unique()\n",
    "df_snap = df_snap.set_index('states')"
   ]
  },
  {
   "cell_type": "code",
   "execution_count": 4,
   "metadata": {
    "execution": {
     "iopub.execute_input": "2020-12-01T11:39:14.636517Z",
     "iopub.status.busy": "2020-12-01T11:39:14.635885Z",
     "iopub.status.idle": "2020-12-01T11:39:14.639171Z",
     "shell.execute_reply": "2020-12-01T11:39:14.639621Z"
    },
    "papermill": {
     "duration": 0.028151,
     "end_time": "2020-12-01T11:39:14.639765",
     "exception": false,
     "start_time": "2020-12-01T11:39:14.611614",
     "status": "completed"
    },
    "tags": []
   },
   "outputs": [
    {
     "data": {
      "text/plain": [
       "array(['Andaman and Nicobar Islands', 'Andhra Pradesh',\n",
       "       'Arunachal Pradesh', 'Assam', 'Bihar', 'Chandigarh',\n",
       "       'Dadra and Nagar Haveli and Daman and Diu', 'Delhi', 'Goa',\n",
       "       'Gujarat', 'Haryana', 'Himachal Pradesh', 'Jammu and Kashmir',\n",
       "       'Jharkhand', 'Karnataka', 'Kerala', 'Lakshadweep',\n",
       "       'Madhya Pradesh', 'Maharashtra', 'Manipur', 'Meghalaya', 'Mizoram',\n",
       "       'Nagaland', 'Odisha', 'Puducherry', 'Punjab', 'Rajasthan',\n",
       "       'Sikkim', 'Tamil Nadu', 'Telangana', 'Tripura', 'Uttar Pradesh',\n",
       "       'West Bengal', 'Chhattisgarh', 'Ladakh', 'Uttarakhand'],\n",
       "      dtype=object)"
      ]
     },
     "execution_count": 4,
     "metadata": {},
     "output_type": "execute_result"
    }
   ],
   "source": [
    "#hide\n",
    "arr_states[-9] = 'Puducherry'\n",
    "arr_states[-10] = 'Odisha'\n",
    "arr_states[6] = 'Dadra and Nagar Haveli and Daman and Diu'\n",
    "arr_states = np.append(arr_states,np.array(['Chhattisgarh','Ladakh','Uttarakhand']))\n",
    "arr_states"
   ]
  },
  {
   "cell_type": "code",
   "execution_count": 5,
   "metadata": {
    "execution": {
     "iopub.execute_input": "2020-12-01T11:39:14.688211Z",
     "iopub.status.busy": "2020-12-01T11:39:14.687414Z",
     "iopub.status.idle": "2020-12-01T11:39:14.696592Z",
     "shell.execute_reply": "2020-12-01T11:39:14.697382Z"
    },
    "papermill": {
     "duration": 0.040043,
     "end_time": "2020-12-01T11:39:14.697657",
     "exception": false,
     "start_time": "2020-12-01T11:39:14.657614",
     "status": "completed"
    },
    "tags": []
   },
   "outputs": [],
   "source": [
    "#hide\n",
    "dates = []\n",
    "for i in arr_dates:\n",
    "    if i>='2020-07-01':\n",
    "        dates.append(i)\n",
    "dict = {'states':dates}\n",
    "for i in arr_states:\n",
    "    dict[i] = [0]*len(dates)\n",
    "dft_cases = pd.DataFrame(dict)\n",
    "dft_deaths = pd.DataFrame(dict)\n"
   ]
  },
  {
   "cell_type": "code",
   "execution_count": 6,
   "metadata": {
    "execution": {
     "iopub.execute_input": "2020-12-01T11:39:14.739073Z",
     "iopub.status.busy": "2020-12-01T11:39:14.738449Z",
     "iopub.status.idle": "2020-12-01T11:39:17.432790Z",
     "shell.execute_reply": "2020-12-01T11:39:17.432114Z"
    },
    "papermill": {
     "duration": 2.719393,
     "end_time": "2020-12-01T11:39:17.432936",
     "exception": false,
     "start_time": "2020-12-01T11:39:14.713543",
     "status": "completed"
    },
    "tags": []
   },
   "outputs": [],
   "source": [
    "#hide\n",
    "for i in range(len(dates)):\n",
    "    df1_deaths = df_deaths1.get_group(dates[i])\n",
    "    for j in range(len(df1_deaths.index)):\n",
    "        if df1_deaths.iloc[j,1] in arr_states:\n",
    "            dft_deaths.loc[i,df1_deaths.iloc[j,1]] = df1_deaths.iloc[j,2]\n",
    "dft_deaths = dft_deaths.set_index('states')"
   ]
  },
  {
   "cell_type": "code",
   "execution_count": 7,
   "metadata": {
    "execution": {
     "iopub.execute_input": "2020-12-01T11:39:17.478951Z",
     "iopub.status.busy": "2020-12-01T11:39:17.477899Z",
     "iopub.status.idle": "2020-12-01T11:39:20.158406Z",
     "shell.execute_reply": "2020-12-01T11:39:20.157823Z"
    },
    "papermill": {
     "duration": 2.705035,
     "end_time": "2020-12-01T11:39:20.158541",
     "exception": false,
     "start_time": "2020-12-01T11:39:17.453506",
     "status": "completed"
    },
    "tags": []
   },
   "outputs": [],
   "source": [
    "#hide\n",
    "for i in range(len(dates)):\n",
    "    df1_cases = df_cases1.get_group(dates[i])\n",
    "    for j in range(len(df1_cases.index)):\n",
    "        if df1_cases.iloc[j,1] in arr_states:\n",
    "            dft_cases.loc[i,df1_cases.iloc[j,1]] = df1_cases.iloc[j,2]\n",
    "dft_cases = dft_cases.set_index('states')"
   ]
  },
  {
   "cell_type": "code",
   "execution_count": 8,
   "metadata": {
    "execution": {
     "iopub.execute_input": "2020-12-01T11:39:20.201530Z",
     "iopub.status.busy": "2020-12-01T11:39:20.200813Z",
     "iopub.status.idle": "2020-12-01T11:39:20.203508Z",
     "shell.execute_reply": "2020-12-01T11:39:20.202874Z"
    },
    "papermill": {
     "duration": 0.025824,
     "end_time": "2020-12-01T11:39:20.203649",
     "exception": false,
     "start_time": "2020-12-01T11:39:20.177825",
     "status": "completed"
    },
    "tags": []
   },
   "outputs": [],
   "source": [
    "#hide\n",
    "dft_cases = dft_cases.T\n",
    "dft_deaths = dft_deaths.T\n",
    "dt_today = dates[-1]\n",
    "dt_yday = dates[-2]"
   ]
  },
  {
   "cell_type": "code",
   "execution_count": 9,
   "metadata": {
    "execution": {
     "iopub.execute_input": "2020-12-01T11:39:20.247475Z",
     "iopub.status.busy": "2020-12-01T11:39:20.246831Z",
     "iopub.status.idle": "2020-12-01T11:39:20.249597Z",
     "shell.execute_reply": "2020-12-01T11:39:20.248985Z"
    },
    "papermill": {
     "duration": 0.029592,
     "end_time": "2020-12-01T11:39:20.249736",
     "exception": false,
     "start_time": "2020-12-01T11:39:20.220144",
     "status": "completed"
    },
    "tags": []
   },
   "outputs": [],
   "source": [
    "#hide\n",
    "dft_cases = dft_cases.reset_index()\n",
    "dft_deaths = dft_deaths.reset_index()\n",
    "dft_cases = dft_cases.rename(columns = {'index':'state'})\n",
    "dft_deaths = dft_deaths.rename(columns = {'index':'state'})"
   ]
  },
  {
   "cell_type": "code",
   "execution_count": 10,
   "metadata": {
    "execution": {
     "iopub.execute_input": "2020-12-01T11:39:20.292971Z",
     "iopub.status.busy": "2020-12-01T11:39:20.292321Z",
     "iopub.status.idle": "2020-12-01T11:39:20.298645Z",
     "shell.execute_reply": "2020-12-01T11:39:20.299186Z"
    },
    "papermill": {
     "duration": 0.031763,
     "end_time": "2020-12-01T11:39:20.299316",
     "exception": false,
     "start_time": "2020-12-01T11:39:20.267553",
     "status": "completed"
    },
    "tags": []
   },
   "outputs": [],
   "source": [
    "#hide\n",
    "dfc_cases = dft_cases.groupby('state')[dt_today].sum()\n",
    "dfc_deaths = dft_deaths.groupby('state')[dt_today].sum()\n",
    "dfp_cases = dft_cases.groupby('state')[dt_yday].sum()\n",
    "dfp_deaths = dft_deaths.groupby('state')[dt_yday].sum()"
   ]
  },
  {
   "cell_type": "code",
   "execution_count": 11,
   "metadata": {
    "execution": {
     "iopub.execute_input": "2020-12-01T11:39:20.337238Z",
     "iopub.status.busy": "2020-12-01T11:39:20.336577Z",
     "iopub.status.idle": "2020-12-01T11:39:20.354073Z",
     "shell.execute_reply": "2020-12-01T11:39:20.353457Z"
    },
    "papermill": {
     "duration": 0.039367,
     "end_time": "2020-12-01T11:39:20.354219",
     "exception": false,
     "start_time": "2020-12-01T11:39:20.314852",
     "status": "completed"
    },
    "tags": []
   },
   "outputs": [
    {
     "data": {
      "text/html": [
       "<div>\n",
       "<style scoped>\n",
       "    .dataframe tbody tr th:only-of-type {\n",
       "        vertical-align: middle;\n",
       "    }\n",
       "\n",
       "    .dataframe tbody tr th {\n",
       "        vertical-align: top;\n",
       "    }\n",
       "\n",
       "    .dataframe thead th {\n",
       "        text-align: right;\n",
       "    }\n",
       "</style>\n",
       "<table border=\"1\" class=\"dataframe\">\n",
       "  <thead>\n",
       "    <tr style=\"text-align: right;\">\n",
       "      <th></th>\n",
       "      <th>states</th>\n",
       "      <th>Cases</th>\n",
       "      <th>Deaths</th>\n",
       "      <th>PCases</th>\n",
       "      <th>PDeaths</th>\n",
       "    </tr>\n",
       "  </thead>\n",
       "  <tbody>\n",
       "    <tr>\n",
       "      <th>0</th>\n",
       "      <td>Maharashtra</td>\n",
       "      <td>1823896</td>\n",
       "      <td>47151</td>\n",
       "      <td>1823896</td>\n",
       "      <td>47151</td>\n",
       "    </tr>\n",
       "    <tr>\n",
       "      <th>1</th>\n",
       "      <td>Karnataka</td>\n",
       "      <td>884897</td>\n",
       "      <td>11778</td>\n",
       "      <td>884897</td>\n",
       "      <td>11778</td>\n",
       "    </tr>\n",
       "    <tr>\n",
       "      <th>2</th>\n",
       "      <td>Andhra Pradesh</td>\n",
       "      <td>868064</td>\n",
       "      <td>6992</td>\n",
       "      <td>868064</td>\n",
       "      <td>6992</td>\n",
       "    </tr>\n",
       "    <tr>\n",
       "      <th>3</th>\n",
       "      <td>Tamil Nadu</td>\n",
       "      <td>781915</td>\n",
       "      <td>11712</td>\n",
       "      <td>781915</td>\n",
       "      <td>11712</td>\n",
       "    </tr>\n",
       "    <tr>\n",
       "      <th>4</th>\n",
       "      <td>Kerala</td>\n",
       "      <td>602983</td>\n",
       "      <td>2245</td>\n",
       "      <td>602983</td>\n",
       "      <td>2245</td>\n",
       "    </tr>\n",
       "  </tbody>\n",
       "</table>\n",
       "</div>"
      ],
      "text/plain": [
       "           states    Cases  Deaths   PCases  PDeaths\n",
       "0     Maharashtra  1823896   47151  1823896    47151\n",
       "1       Karnataka   884897   11778   884897    11778\n",
       "2  Andhra Pradesh   868064    6992   868064     6992\n",
       "3      Tamil Nadu   781915   11712   781915    11712\n",
       "4          Kerala   602983    2245   602983     2245"
      ]
     },
     "execution_count": 11,
     "metadata": {},
     "output_type": "execute_result"
    }
   ],
   "source": [
    "#hide\n",
    "df_table = pd.DataFrame({'states': dfc_cases.index, 'Cases': dfc_cases.values, 'Deaths': dfc_deaths.values, 'PCases': dfp_cases.values, 'PDeaths': dfp_deaths.values}).set_index('states')\n",
    "df_table = df_table.sort_values(by = ['Cases','Deaths'], ascending = [False, False])\n",
    "df_table = df_table.reset_index()\n",
    "df_table.head()"
   ]
  },
  {
   "cell_type": "code",
   "execution_count": 12,
   "metadata": {
    "execution": {
     "iopub.execute_input": "2020-12-01T11:39:20.391452Z",
     "iopub.status.busy": "2020-12-01T11:39:20.390873Z",
     "iopub.status.idle": "2020-12-01T11:39:20.399591Z",
     "shell.execute_reply": "2020-12-01T11:39:20.399095Z"
    },
    "papermill": {
     "duration": 0.029757,
     "end_time": "2020-12-01T11:39:20.399699",
     "exception": false,
     "start_time": "2020-12-01T11:39:20.369942",
     "status": "completed"
    },
    "tags": []
   },
   "outputs": [],
   "source": [
    "#hide\n",
    "for c in 'Cases, Deaths'.split(', '):\n",
    "    df_table[f'{c} (+)'] = (df_table[c] - df_table[f'P{c}']).clip(0)\n",
    "df_table['Fatality Rate'] = (100* df_table['Deaths']/ df_table['Cases']).round(2)"
   ]
  },
  {
   "cell_type": "code",
   "execution_count": 13,
   "metadata": {
    "execution": {
     "iopub.execute_input": "2020-12-01T11:39:20.436442Z",
     "iopub.status.busy": "2020-12-01T11:39:20.435877Z",
     "iopub.status.idle": "2020-12-01T11:39:20.445730Z",
     "shell.execute_reply": "2020-12-01T11:39:20.446182Z"
    },
    "papermill": {
     "duration": 0.029472,
     "end_time": "2020-12-01T11:39:20.446314",
     "exception": false,
     "start_time": "2020-12-01T11:39:20.416842",
     "status": "completed"
    },
    "tags": []
   },
   "outputs": [
    {
     "data": {
      "text/html": [
       "<div>\n",
       "<style scoped>\n",
       "    .dataframe tbody tr th:only-of-type {\n",
       "        vertical-align: middle;\n",
       "    }\n",
       "\n",
       "    .dataframe tbody tr th {\n",
       "        vertical-align: top;\n",
       "    }\n",
       "\n",
       "    .dataframe thead th {\n",
       "        text-align: right;\n",
       "    }\n",
       "</style>\n",
       "<table border=\"1\" class=\"dataframe\">\n",
       "  <thead>\n",
       "    <tr style=\"text-align: right;\">\n",
       "      <th></th>\n",
       "      <th>states</th>\n",
       "      <th>Cases</th>\n",
       "      <th>Deaths</th>\n",
       "      <th>PCases</th>\n",
       "      <th>PDeaths</th>\n",
       "      <th>Cases (+)</th>\n",
       "      <th>Deaths (+)</th>\n",
       "      <th>Fatality Rate</th>\n",
       "    </tr>\n",
       "  </thead>\n",
       "  <tbody>\n",
       "    <tr>\n",
       "      <th>0</th>\n",
       "      <td>Maharashtra</td>\n",
       "      <td>1823896</td>\n",
       "      <td>47151</td>\n",
       "      <td>1823896</td>\n",
       "      <td>47151</td>\n",
       "      <td>0</td>\n",
       "      <td>0</td>\n",
       "      <td>2.59</td>\n",
       "    </tr>\n",
       "    <tr>\n",
       "      <th>1</th>\n",
       "      <td>Karnataka</td>\n",
       "      <td>884897</td>\n",
       "      <td>11778</td>\n",
       "      <td>884897</td>\n",
       "      <td>11778</td>\n",
       "      <td>0</td>\n",
       "      <td>0</td>\n",
       "      <td>1.33</td>\n",
       "    </tr>\n",
       "    <tr>\n",
       "      <th>2</th>\n",
       "      <td>Andhra Pradesh</td>\n",
       "      <td>868064</td>\n",
       "      <td>6992</td>\n",
       "      <td>868064</td>\n",
       "      <td>6992</td>\n",
       "      <td>0</td>\n",
       "      <td>0</td>\n",
       "      <td>0.81</td>\n",
       "    </tr>\n",
       "    <tr>\n",
       "      <th>3</th>\n",
       "      <td>Tamil Nadu</td>\n",
       "      <td>781915</td>\n",
       "      <td>11712</td>\n",
       "      <td>781915</td>\n",
       "      <td>11712</td>\n",
       "      <td>0</td>\n",
       "      <td>0</td>\n",
       "      <td>1.50</td>\n",
       "    </tr>\n",
       "    <tr>\n",
       "      <th>4</th>\n",
       "      <td>Kerala</td>\n",
       "      <td>602983</td>\n",
       "      <td>2245</td>\n",
       "      <td>602983</td>\n",
       "      <td>2245</td>\n",
       "      <td>0</td>\n",
       "      <td>0</td>\n",
       "      <td>0.37</td>\n",
       "    </tr>\n",
       "  </tbody>\n",
       "</table>\n",
       "</div>"
      ],
      "text/plain": [
       "           states    Cases  Deaths   PCases  PDeaths  Cases (+)  Deaths (+)  \\\n",
       "0     Maharashtra  1823896   47151  1823896    47151          0           0   \n",
       "1       Karnataka   884897   11778   884897    11778          0           0   \n",
       "2  Andhra Pradesh   868064    6992   868064     6992          0           0   \n",
       "3      Tamil Nadu   781915   11712   781915    11712          0           0   \n",
       "4          Kerala   602983    2245   602983     2245          0           0   \n",
       "\n",
       "   Fatality Rate  \n",
       "0           2.59  \n",
       "1           1.33  \n",
       "2           0.81  \n",
       "3           1.50  \n",
       "4           0.37  "
      ]
     },
     "execution_count": 13,
     "metadata": {},
     "output_type": "execute_result"
    }
   ],
   "source": [
    "#hide\n",
    "df_table.head()"
   ]
  },
  {
   "cell_type": "code",
   "execution_count": 14,
   "metadata": {
    "execution": {
     "iopub.execute_input": "2020-12-01T11:39:20.498084Z",
     "iopub.status.busy": "2020-12-01T11:39:20.497387Z",
     "iopub.status.idle": "2020-12-01T11:39:20.515330Z",
     "shell.execute_reply": "2020-12-01T11:39:20.516227Z"
    },
    "papermill": {
     "duration": 0.043269,
     "end_time": "2020-12-01T11:39:20.516450",
     "exception": false,
     "start_time": "2020-12-01T11:39:20.473181",
     "status": "completed"
    },
    "tags": []
   },
   "outputs": [
    {
     "data": {
      "text/plain": [
       "{'updated': '2020-12-01',\n",
       " 'since': '2020-11-30',\n",
       " 'Cases': 9464188,\n",
       " 'PCases': 9463254,\n",
       " 'Deaths': 137667,\n",
       " 'PDeaths': 137659,\n",
       " 'Cases (+)': 934,\n",
       " 'Deaths (+)': 8}"
      ]
     },
     "execution_count": 14,
     "metadata": {},
     "output_type": "execute_result"
    }
   ],
   "source": [
    "#hide\n",
    "summary = {'updated':dates[-1], 'since':dates[-2]}\n",
    "list_names = ['Cases', 'PCases', 'Deaths', 'PDeaths', 'Cases (+)', 'Deaths (+)']\n",
    "for name in list_names:\n",
    "    summary[name] = df_table.sum()[name]\n",
    "summary"
   ]
  },
  {
   "cell_type": "code",
   "execution_count": 15,
   "metadata": {
    "execution": {
     "iopub.execute_input": "2020-12-01T11:39:20.560803Z",
     "iopub.status.busy": "2020-12-01T11:39:20.560117Z",
     "iopub.status.idle": "2020-12-01T11:39:20.562666Z",
     "shell.execute_reply": "2020-12-01T11:39:20.562132Z"
    },
    "papermill": {
     "duration": 0.02722,
     "end_time": "2020-12-01T11:39:20.562798",
     "exception": false,
     "start_time": "2020-12-01T11:39:20.535578",
     "status": "completed"
    },
    "tags": []
   },
   "outputs": [],
   "source": [
    "#hide\n",
    "overview = '''\n",
    "<!-- #######  HTML!! #########-->\n",
    "<h1 style=\"color: #5e9ca0; text-align: center;\">India</h1>\n",
    "<p style=\"text-align: center;\">Last update: <strong>{update}</strong></p>\n",
    "<p style=\"text-align: center;\">Confirmed cases:</p>\n",
    "<p style=\"text-align: center;font-size:24px;\">{cases} (<span style=\"color: #ff0000;\">+{new}</span>)</p>\n",
    "<p style=\"text-align: center;\">Confirmed deaths:</p>\n",
    "<p style=\"text-align: center;font-size:24px;\">{deaths} (<span style=\"color: #ff0000;\">+{dnew}</span>)</p>\n",
    "'''"
   ]
  },
  {
   "cell_type": "code",
   "execution_count": 16,
   "metadata": {
    "execution": {
     "iopub.execute_input": "2020-12-01T11:39:20.602566Z",
     "iopub.status.busy": "2020-12-01T11:39:20.601926Z",
     "iopub.status.idle": "2020-12-01T11:39:20.605600Z",
     "shell.execute_reply": "2020-12-01T11:39:20.606076Z"
    },
    "papermill": {
     "duration": 0.026443,
     "end_time": "2020-12-01T11:39:20.606213",
     "exception": false,
     "start_time": "2020-12-01T11:39:20.579770",
     "status": "completed"
    },
    "tags": []
   },
   "outputs": [
    {
     "data": {
      "text/html": [
       "\n",
       "<!-- #######  HTML!! #########-->\n",
       "<h1 style=\"color: #5e9ca0; text-align: center;\">India</h1>\n",
       "<p style=\"text-align: center;\">Last update: <strong>2020-12-01</strong></p>\n",
       "<p style=\"text-align: center;\">Confirmed cases:</p>\n",
       "<p style=\"text-align: center;font-size:24px;\">9464188 (<span style=\"color: #ff0000;\">+934</span>)</p>\n",
       "<p style=\"text-align: center;\">Confirmed deaths:</p>\n",
       "<p style=\"text-align: center;font-size:24px;\">137667 (<span style=\"color: #ff0000;\">+8</span>)</p>\n"
      ],
      "text/plain": [
       "<IPython.core.display.HTML object>"
      ]
     },
     "metadata": {},
     "output_type": "display_data"
    }
   ],
   "source": [
    "#hide_input\n",
    "update = summary['updated']\n",
    "cases = summary['Cases']\n",
    "new = summary['Cases (+)']\n",
    "deaths = summary['Deaths']\n",
    "dnew = summary['Deaths (+)']\n",
    "\n",
    "html = HTML(overview.format(update=update, cases=cases,new=new,deaths=deaths,dnew=dnew))\n",
    "\n",
    "display(html)"
   ]
  },
  {
   "cell_type": "code",
   "execution_count": 17,
   "metadata": {
    "execution": {
     "iopub.execute_input": "2020-12-01T11:39:20.652482Z",
     "iopub.status.busy": "2020-12-01T11:39:20.651791Z",
     "iopub.status.idle": "2020-12-01T11:39:20.656991Z",
     "shell.execute_reply": "2020-12-01T11:39:20.657540Z"
    },
    "papermill": {
     "duration": 0.033789,
     "end_time": "2020-12-01T11:39:20.657683",
     "exception": false,
     "start_time": "2020-12-01T11:39:20.623894",
     "status": "completed"
    },
    "tags": []
   },
   "outputs": [],
   "source": [
    "#hide\n",
    "dt_cols = list(dft_cases.columns[1:])\n",
    "dft_ct_new_cases = dft_cases.groupby('state')[dt_cols].sum().diff(axis=1).fillna(0).astype(int)\n",
    "dft_ct_new_cases.sort_values(by = dates[-1], ascending = False,inplace = True)"
   ]
  },
  {
   "cell_type": "code",
   "execution_count": 18,
   "metadata": {
    "execution": {
     "iopub.execute_input": "2020-12-01T11:39:20.713301Z",
     "iopub.status.busy": "2020-12-01T11:39:20.712352Z",
     "iopub.status.idle": "2020-12-01T11:39:20.716221Z",
     "shell.execute_reply": "2020-12-01T11:39:20.715593Z"
    },
    "papermill": {
     "duration": 0.039578,
     "end_time": "2020-12-01T11:39:20.716341",
     "exception": false,
     "start_time": "2020-12-01T11:39:20.676763",
     "status": "completed"
    },
    "tags": []
   },
   "outputs": [
    {
     "data": {
      "text/html": [
       "<div>\n",
       "<style scoped>\n",
       "    .dataframe tbody tr th:only-of-type {\n",
       "        vertical-align: middle;\n",
       "    }\n",
       "\n",
       "    .dataframe tbody tr th {\n",
       "        vertical-align: top;\n",
       "    }\n",
       "\n",
       "    .dataframe thead th {\n",
       "        text-align: right;\n",
       "    }\n",
       "</style>\n",
       "<table border=\"1\" class=\"dataframe\">\n",
       "  <thead>\n",
       "    <tr style=\"text-align: right;\">\n",
       "      <th>states</th>\n",
       "      <th>2020-07-01</th>\n",
       "      <th>2020-07-02</th>\n",
       "      <th>2020-07-03</th>\n",
       "      <th>2020-07-04</th>\n",
       "      <th>2020-07-05</th>\n",
       "      <th>2020-07-06</th>\n",
       "      <th>2020-07-07</th>\n",
       "      <th>2020-07-08</th>\n",
       "      <th>2020-07-09</th>\n",
       "      <th>2020-07-10</th>\n",
       "      <th>...</th>\n",
       "      <th>2020-11-22</th>\n",
       "      <th>2020-11-23</th>\n",
       "      <th>2020-11-24</th>\n",
       "      <th>2020-11-25</th>\n",
       "      <th>2020-11-26</th>\n",
       "      <th>2020-11-27</th>\n",
       "      <th>2020-11-28</th>\n",
       "      <th>2020-11-29</th>\n",
       "      <th>2020-11-30</th>\n",
       "      <th>2020-12-01</th>\n",
       "    </tr>\n",
       "    <tr>\n",
       "      <th>state</th>\n",
       "      <th></th>\n",
       "      <th></th>\n",
       "      <th></th>\n",
       "      <th></th>\n",
       "      <th></th>\n",
       "      <th></th>\n",
       "      <th></th>\n",
       "      <th></th>\n",
       "      <th></th>\n",
       "      <th></th>\n",
       "      <th></th>\n",
       "      <th></th>\n",
       "      <th></th>\n",
       "      <th></th>\n",
       "      <th></th>\n",
       "      <th></th>\n",
       "      <th></th>\n",
       "      <th></th>\n",
       "      <th></th>\n",
       "      <th></th>\n",
       "      <th></th>\n",
       "    </tr>\n",
       "  </thead>\n",
       "  <tbody>\n",
       "    <tr>\n",
       "      <th>Telangana</th>\n",
       "      <td>0</td>\n",
       "      <td>1213</td>\n",
       "      <td>1892</td>\n",
       "      <td>1850</td>\n",
       "      <td>1590</td>\n",
       "      <td>1831</td>\n",
       "      <td>1879</td>\n",
       "      <td>1924</td>\n",
       "      <td>1410</td>\n",
       "      <td>1278</td>\n",
       "      <td>...</td>\n",
       "      <td>873</td>\n",
       "      <td>602</td>\n",
       "      <td>921</td>\n",
       "      <td>993</td>\n",
       "      <td>862</td>\n",
       "      <td>761</td>\n",
       "      <td>753</td>\n",
       "      <td>805</td>\n",
       "      <td>593</td>\n",
       "      <td>502</td>\n",
       "    </tr>\n",
       "    <tr>\n",
       "      <th>Odisha</th>\n",
       "      <td>0</td>\n",
       "      <td>229</td>\n",
       "      <td>561</td>\n",
       "      <td>495</td>\n",
       "      <td>469</td>\n",
       "      <td>456</td>\n",
       "      <td>571</td>\n",
       "      <td>527</td>\n",
       "      <td>577</td>\n",
       "      <td>755</td>\n",
       "      <td>...</td>\n",
       "      <td>638</td>\n",
       "      <td>668</td>\n",
       "      <td>642</td>\n",
       "      <td>730</td>\n",
       "      <td>644</td>\n",
       "      <td>594</td>\n",
       "      <td>550</td>\n",
       "      <td>518</td>\n",
       "      <td>418</td>\n",
       "      <td>378</td>\n",
       "    </tr>\n",
       "    <tr>\n",
       "      <th>Tripura</th>\n",
       "      <td>0</td>\n",
       "      <td>39</td>\n",
       "      <td>93</td>\n",
       "      <td>25</td>\n",
       "      <td>23</td>\n",
       "      <td>111</td>\n",
       "      <td>24</td>\n",
       "      <td>57</td>\n",
       "      <td>16</td>\n",
       "      <td>142</td>\n",
       "      <td>...</td>\n",
       "      <td>48</td>\n",
       "      <td>19</td>\n",
       "      <td>59</td>\n",
       "      <td>35</td>\n",
       "      <td>50</td>\n",
       "      <td>32</td>\n",
       "      <td>31</td>\n",
       "      <td>0</td>\n",
       "      <td>54</td>\n",
       "      <td>31</td>\n",
       "    </tr>\n",
       "    <tr>\n",
       "      <th>Mizoram</th>\n",
       "      <td>0</td>\n",
       "      <td>2</td>\n",
       "      <td>0</td>\n",
       "      <td>2</td>\n",
       "      <td>22</td>\n",
       "      <td>11</td>\n",
       "      <td>1</td>\n",
       "      <td>5</td>\n",
       "      <td>0</td>\n",
       "      <td>23</td>\n",
       "      <td>...</td>\n",
       "      <td>40</td>\n",
       "      <td>13</td>\n",
       "      <td>50</td>\n",
       "      <td>35</td>\n",
       "      <td>20</td>\n",
       "      <td>23</td>\n",
       "      <td>18</td>\n",
       "      <td>17</td>\n",
       "      <td>2</td>\n",
       "      <td>22</td>\n",
       "    </tr>\n",
       "    <tr>\n",
       "      <th>Dadra and Nagar Haveli and Daman and Diu</th>\n",
       "      <td>0</td>\n",
       "      <td>25</td>\n",
       "      <td>50</td>\n",
       "      <td>37</td>\n",
       "      <td>32</td>\n",
       "      <td>27</td>\n",
       "      <td>27</td>\n",
       "      <td>15</td>\n",
       "      <td>14</td>\n",
       "      <td>14</td>\n",
       "      <td>...</td>\n",
       "      <td>4</td>\n",
       "      <td>4</td>\n",
       "      <td>0</td>\n",
       "      <td>2</td>\n",
       "      <td>1</td>\n",
       "      <td>2</td>\n",
       "      <td>0</td>\n",
       "      <td>2</td>\n",
       "      <td>0</td>\n",
       "      <td>1</td>\n",
       "    </tr>\n",
       "  </tbody>\n",
       "</table>\n",
       "<p>5 rows × 154 columns</p>\n",
       "</div>"
      ],
      "text/plain": [
       "states                                    2020-07-01  2020-07-02  2020-07-03  \\\n",
       "state                                                                          \n",
       "Telangana                                          0        1213        1892   \n",
       "Odisha                                             0         229         561   \n",
       "Tripura                                            0          39          93   \n",
       "Mizoram                                            0           2           0   \n",
       "Dadra and Nagar Haveli and Daman and Diu           0          25          50   \n",
       "\n",
       "states                                    2020-07-04  2020-07-05  2020-07-06  \\\n",
       "state                                                                          \n",
       "Telangana                                       1850        1590        1831   \n",
       "Odisha                                           495         469         456   \n",
       "Tripura                                           25          23         111   \n",
       "Mizoram                                            2          22          11   \n",
       "Dadra and Nagar Haveli and Daman and Diu          37          32          27   \n",
       "\n",
       "states                                    2020-07-07  2020-07-08  2020-07-09  \\\n",
       "state                                                                          \n",
       "Telangana                                       1879        1924        1410   \n",
       "Odisha                                           571         527         577   \n",
       "Tripura                                           24          57          16   \n",
       "Mizoram                                            1           5           0   \n",
       "Dadra and Nagar Haveli and Daman and Diu          27          15          14   \n",
       "\n",
       "states                                    2020-07-10  ...  2020-11-22  \\\n",
       "state                                                 ...               \n",
       "Telangana                                       1278  ...         873   \n",
       "Odisha                                           755  ...         638   \n",
       "Tripura                                          142  ...          48   \n",
       "Mizoram                                           23  ...          40   \n",
       "Dadra and Nagar Haveli and Daman and Diu          14  ...           4   \n",
       "\n",
       "states                                    2020-11-23  2020-11-24  2020-11-25  \\\n",
       "state                                                                          \n",
       "Telangana                                        602         921         993   \n",
       "Odisha                                           668         642         730   \n",
       "Tripura                                           19          59          35   \n",
       "Mizoram                                           13          50          35   \n",
       "Dadra and Nagar Haveli and Daman and Diu           4           0           2   \n",
       "\n",
       "states                                    2020-11-26  2020-11-27  2020-11-28  \\\n",
       "state                                                                          \n",
       "Telangana                                        862         761         753   \n",
       "Odisha                                           644         594         550   \n",
       "Tripura                                           50          32          31   \n",
       "Mizoram                                           20          23          18   \n",
       "Dadra and Nagar Haveli and Daman and Diu           1           2           0   \n",
       "\n",
       "states                                    2020-11-29  2020-11-30  2020-12-01  \n",
       "state                                                                         \n",
       "Telangana                                        805         593         502  \n",
       "Odisha                                           518         418         378  \n",
       "Tripura                                            0          54          31  \n",
       "Mizoram                                           17           2          22  \n",
       "Dadra and Nagar Haveli and Daman and Diu           2           0           1  \n",
       "\n",
       "[5 rows x 154 columns]"
      ]
     },
     "execution_count": 18,
     "metadata": {},
     "output_type": "execute_result"
    }
   ],
   "source": [
    "#hide\n",
    "dft_ct_new_cases.head()"
   ]
  },
  {
   "cell_type": "code",
   "execution_count": 19,
   "metadata": {
    "execution": {
     "iopub.execute_input": "2020-12-01T11:39:20.774298Z",
     "iopub.status.busy": "2020-12-01T11:39:20.763722Z",
     "iopub.status.idle": "2020-12-01T11:39:27.914564Z",
     "shell.execute_reply": "2020-12-01T11:39:27.915170Z"
    },
    "papermill": {
     "duration": 7.181848,
     "end_time": "2020-12-01T11:39:27.915353",
     "exception": false,
     "start_time": "2020-12-01T11:39:20.733505",
     "status": "completed"
    },
    "tags": []
   },
   "outputs": [
    {
     "data": {
      "image/png": "[encoded data removed]",
      "text/plain": [
       "<Figure size 1296x2016 with 11 Axes>"
      ]
     },
     "metadata": {
      "needs_background": "light"
     },
     "output_type": "display_data"
    }
   ],
   "source": [
    "#hide_input\n",
    "df = dft_ct_new_cases.copy()\n",
    "df.loc['Total'] = df.sum()\n",
    "n = 5\n",
    "ax = []\n",
    "fig = plt.figure(figsize = (18,28))\n",
    "gs = fig.add_gridspec(n+2, 5)\n",
    "# gs = fig.add_gridspec(2, 3)\n",
    "ax1 = fig.add_subplot(gs[0, :])\n",
    "ef = df.loc['Total'].rename_axis('date').reset_index()\n",
    "ef['date'] = ef['date'].astype('datetime64[ns]')\n",
    "ax1.bar(ef.date,ef.Total,alpha=0.3,color='#007acc')\n",
    "ax1.plot(ef.date,ef.Total , marker=\"o\", color='#007acc')\n",
    "ax1.xaxis.set_major_locator(mdates.WeekdayLocator())\n",
    "ax1.xaxis.set_major_formatter(mdates.DateFormatter('%b %d'))\n",
    "ax1.text(0.02, 0.5,'India daily case count', transform = ax1.transAxes, fontsize=25);\n",
    "ax1.spines['right'].set_visible(False)\n",
    "ax1.spines['top'].set_visible(False)\n",
    "\n",
    "ax2 = fig.add_subplot(gs[1,0])\n",
    "ef = df.loc['Maharashtra'].rename_axis('date').reset_index()\n",
    "ef['date'] = ef['date'].astype('datetime64[ns]')\n",
    "\n",
    "ax2.bar(ef.date, ef.Maharashtra,color = '#007acc',alpha=0.5)\n",
    "ax2.xaxis.set_major_locator(mdates.WeekdayLocator())\n",
    "ax2.xaxis.set_major_formatter(mdates.DateFormatter('%b %d'))\n",
    "ax2.set_xticks(ax2.get_xticks()[::3])\n",
    "maxyval = ef.Maharashtra.max()\n",
    "ax2.set_ylim([0,maxyval])\n",
    "ax2.text(0.05, 0.9,'Maharashtra', transform = ax2.transAxes, fontsize=20);\n",
    "ax2.spines['right'].set_visible(False)\n",
    "ax2.spines['top'].set_visible(False)\n",
    "\n",
    "\n",
    "ax3 = fig.add_subplot(gs[1,1])\n",
    "ef = df.loc['Tamil Nadu'].rename_axis('date').reset_index()\n",
    "ef['date'] = ef['date'].astype('datetime64[ns]')\n",
    "ax3.bar(ef.date, ef['Tamil Nadu'],color = '#007acc',alpha=0.5,)\n",
    "ax3.xaxis.set_major_locator(mdates.WeekdayLocator())\n",
    "ax3.xaxis.set_major_formatter(mdates.DateFormatter('%b %d'))\n",
    "ax3.set_xticks(ax3.get_xticks()[::3])\n",
    "ax3.text(0.05, 0.9,'Tamil Nadu', transform = ax3.transAxes, fontsize=20);\n",
    "ax3.spines['right'].set_visible(False)\n",
    "ax3.spines['top'].set_visible(False)\n",
    "\n",
    "ax5 = fig.add_subplot(gs[1,3])\n",
    "ef = df.loc['Telangana'].rename_axis('date').reset_index()\n",
    "ef['date'] = ef['date'].astype('datetime64[ns]')\n",
    "ax5.bar(ef.date, ef['Telangana'],color = '#007acc',alpha=0.5,)\n",
    "ax5.xaxis.set_major_locator(mdates.WeekdayLocator())\n",
    "ax5.xaxis.set_major_formatter(mdates.DateFormatter('%b %d'))\n",
    "ax5.set_xticks(ax5.get_xticks()[::3])\n",
    "ax5.text(0.05, 0.9,'Telangana', transform = ax5.transAxes, fontsize=20);\n",
    "ax5.spines['right'].set_visible(False)\n",
    "ax5.spines['top'].set_visible(False)\n",
    "\n",
    "ax6 = fig.add_subplot(gs[1,4])\n",
    "ef = df.loc['Andhra Pradesh'].rename_axis('date').reset_index()\n",
    "ef['date'] = ef['date'].astype('datetime64[ns]')\n",
    "ax6.bar(ef.date, ef['Andhra Pradesh'],color = '#007acc',alpha=0.5,)\n",
    "ax6.xaxis.set_major_locator(mdates.WeekdayLocator())\n",
    "ax6.xaxis.set_major_formatter(mdates.DateFormatter('%b %d'))\n",
    "ax6.set_xticks(ax6.get_xticks()[::3])\n",
    "ax6.text(0.05, 1,'Andhra Pradesh', transform = ax6.transAxes, fontsize=20);\n",
    "ax6.spines['right'].set_visible(False)\n",
    "ax6.spines['top'].set_visible(False)\n",
    "\n",
    "ax4 = fig.add_subplot(gs[1,2])\n",
    "ef = df.loc['Delhi'].rename_axis('date').reset_index()\n",
    "ef['date'] = ef['date'].astype('datetime64[ns]')\n",
    "ax4.bar(ef.date, ef.Delhi,color = '#007acc',alpha=0.5)\n",
    "ax4.set_xticks([])\n",
    "ax4.xaxis.set_major_locator(mdates.WeekdayLocator())\n",
    "ax4.xaxis.set_major_formatter(mdates.DateFormatter('%b %d'))\n",
    "ax4.set_xticks(ax4.get_xticks()[::3])\n",
    "ax4.spines['right'].set_visible(False)\n",
    "ax4.spines['top'].set_visible(False)\n",
    "\n",
    "ax4.text(0.05, 1,'Delhi', transform = ax4.transAxes, fontsize=20)\n",
    "\n",
    "for i in range(n):\n",
    "    \n",
    "    ax.append(fig.add_subplot(gs[i+2,:]))\n",
    "    ef = df.iloc[i+3].rename_axis('date').reset_index()\n",
    "    ef['date'] = ef['date'].astype('datetime64[ns]')\n",
    "    ax[i].bar(ef.date,ef.iloc[:,-1],color = '#007acc',alpha=0.3)\n",
    "    ax[i].plot(ef.date,ef.iloc[:,-1],marker='o',color='#007acc')\n",
    "    ax[i].text(0.02,0.5,f'{ef.columns.values[-1]}',transform = ax[i].transAxes, fontsize = 20);\n",
    "    ax[i].xaxis.set_major_locator(mdates.WeekdayLocator())\n",
    "    ax[i].xaxis.set_major_formatter(mdates.DateFormatter('%b %d'))\n",
    "    ax[i].set_ylim([0,7000])\n",
    "    ax[i].spines['right'].set_visible(False)\n",
    "    ax[i].spines['top'].set_visible(False)\n",
    "plt.tight_layout()\n"
   ]
  },
  {
   "cell_type": "code",
   "execution_count": 20,
   "metadata": {
    "execution": {
     "iopub.execute_input": "2020-12-01T11:39:27.978900Z",
     "iopub.status.busy": "2020-12-01T11:39:27.978206Z",
     "iopub.status.idle": "2020-12-01T11:39:27.983429Z",
     "shell.execute_reply": "2020-12-01T11:39:27.984087Z"
    },
    "papermill": {
     "duration": 0.045562,
     "end_time": "2020-12-01T11:39:27.984228",
     "exception": false,
     "start_time": "2020-12-01T11:39:27.938666",
     "status": "completed"
    },
    "tags": []
   },
   "outputs": [
    {
     "name": "stdout",
     "output_type": "stream",
     "text": [
      "                                   states    Cases  Deaths   PCases  PDeaths  Cases (+)  Deaths (+)  Fatality Rate\n",
      "                              Maharashtra  1823896   47151  1823896    47151          0           0           2.59\n",
      "                                Karnataka   884897   11778   884897    11778          0           0           1.33\n",
      "                           Andhra Pradesh   868064    6992   868064     6992          0           0           0.81\n",
      "                               Tamil Nadu   781915   11712   781915    11712          0           0           1.50\n",
      "                                   Kerala   602983    2245   602983     2245          0           0           0.37\n",
      "                                    Delhi   570374    9174   570374     9174          0           0           1.61\n",
      "                            Uttar Pradesh   543888    7761   543888     7761          0           0           1.43\n",
      "                              West Bengal   483484    8424   483484     8424          0           0           1.74\n",
      "                                   Odisha   319103    1797   318725     1792        378           5           0.56\n",
      "                                Telangana   270318    1461   269816     1458        502           3           0.54\n",
      "                                Rajasthan   268063    2312   268063     2312          0           0           0.86\n",
      "                             Chhattisgarh   237322    2861   237322     2861          0           0           1.21\n",
      "                                    Bihar   235616    1264   235616     1264          0           0           0.54\n",
      "                                  Haryana   234126    2428   234126     2428          0           0           1.04\n",
      "                                    Assam   212776     981   212776      981          0           0           0.46\n",
      "                                  Gujarat   209780    3989   209780     3989          0           0           1.90\n",
      "                           Madhya Pradesh   206128    3260   206128     3260          0           0           1.58\n",
      "                                   Punjab   152091    4807   152091     4807          0           0           3.16\n",
      "                        Jammu and Kashmir   110224    1694   110224     1694          0           0           1.54\n",
      "                                Jharkhand   109151     964   109151      964          0           0           0.88\n",
      "                              Uttarakhand    74795    1231    74795     1231          0           0           1.65\n",
      "                                      Goa    47963     688    47963      688          0           0           1.43\n",
      "                         Himachal Pradesh    40518     635    40518      635          0           0           1.57\n",
      "                               Puducherry    36968     610    36968      610          0           0           1.65\n",
      "                                  Tripura    32723     367    32692      367         31           0           1.12\n",
      "                                  Manipur    25045     281    25045      281          0           0           1.12\n",
      "                               Chandigarh    17409     277    17409      277          0           0           1.59\n",
      "                        Arunachal Pradesh    16282      54    16282       54          0           0           0.33\n",
      "                                Meghalaya    11810     111    11810      111          0           0           0.94\n",
      "                                 Nagaland    11186      64    11186       64          0           0           0.57\n",
      "                                   Ladakh     8415     117     8415      117          0           0           1.39\n",
      "                                   Sikkim     4990     109     4990      109          0           0           2.18\n",
      "              Andaman and Nicobar Islands     4710      61     4710       61          0           0           1.30\n",
      "                                  Mizoram     3847       5     3825        5         22           0           0.13\n",
      " Dadra and Nagar Haveli and Daman and Diu     3328       2     3327        2          1           0           0.06\n",
      "                              Lakshadweep        0       0        0        0          0           0            NaN\n"
     ]
    }
   ],
   "source": [
    "#hide_input\n",
    "print(df_table.to_string(index=False))"
   ]
  },
  {
   "cell_type": "code",
   "execution_count": null,
   "metadata": {
    "papermill": {
     "duration": 0.024578,
     "end_time": "2020-12-01T11:39:28.030455",
     "exception": false,
     "start_time": "2020-12-01T11:39:28.005877",
     "status": "completed"
    },
    "tags": []
   },
   "outputs": [],
   "source": []
  },
  {
   "cell_type": "code",
   "execution_count": null,
   "metadata": {
    "papermill": {
     "duration": 0.025997,
     "end_time": "2020-12-01T11:39:28.076227",
     "exception": false,
     "start_time": "2020-12-01T11:39:28.050230",
     "status": "completed"
    },
    "tags": []
   },
   "outputs": [],
   "source": []
  }
 ],
 "metadata": {
  "kernelspec": {
   "display_name": "Python 3",
   "language": "python",
   "name": "python3"
  },
  "language_info": {
   "codemirror_mode": {
    "name": "ipython",
    "version": 3
   },
   "file_extension": ".py",
   "mimetype": "text/x-python",
   "name": "python",
   "nbconvert_exporter": "python",
   "pygments_lexer": "ipython3",
   "version": "3.6.12"
  },
  "papermill": {
   "duration": 16.146209,
   "end_time": "2020-12-01T11:39:28.608232",
   "environment_variables": {},
   "exception": null,
   "input_path": "latest.ipynb",
   "output_path": "latest.ipynb",
   "parameters": {},
   "start_time": "2020-12-01T11:39:12.462023",
   "version": "2.1.2"
  }
 },
 "nbformat": 4,
 "nbformat_minor": 4
}