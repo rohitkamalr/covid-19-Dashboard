{
 "cells": [
  {
   "cell_type": "markdown",
   "metadata": {
    "papermill": {
     "duration": 0.023591,
     "end_time": "2020-09-10T07:21:12.035377",
     "exception": false,
     "start_time": "2020-09-10T07:21:12.011786",
     "status": "completed"
    },
    "tags": []
   },
   "source": [
    "# Latest COVID-19 India Matplotlib Overview"
   ]
  },
  {
   "cell_type": "code",
   "execution_count": 1,
   "metadata": {
    "execution": {
     "iopub.execute_input": "2020-09-10T07:21:12.076226Z",
     "iopub.status.busy": "2020-09-10T07:21:12.075558Z",
     "iopub.status.idle": "2020-09-10T07:21:12.672490Z",
     "shell.execute_reply": "2020-09-10T07:21:12.671909Z"
    },
    "papermill": {
     "duration": 0.620849,
     "end_time": "2020-09-10T07:21:12.672648",
     "exception": false,
     "start_time": "2020-09-10T07:21:12.051799",
     "status": "completed"
    },
    "tags": []
   },
   "outputs": [],
   "source": [
    "#hide\n",
    "import pandas as pd\n",
    "import numpy as np\n",
    "import requests\n",
    "import json\n",
    "import matplotlib.pyplot as plt\n",
    "import matplotlib.dates as mdates\n",
    "import matplotlib as mpl\n",
    "from IPython.core.display import display,HTML\n",
    "%matplotlib inline\n",
    "from datetime import date"
   ]
  },
  {
   "cell_type": "code",
   "execution_count": 2,
   "metadata": {
    "execution": {
     "iopub.execute_input": "2020-09-10T07:21:12.713563Z",
     "iopub.status.busy": "2020-09-10T07:21:12.712921Z",
     "iopub.status.idle": "2020-09-10T07:21:12.992818Z",
     "shell.execute_reply": "2020-09-10T07:21:12.993740Z"
    },
    "papermill": {
     "duration": 0.305507,
     "end_time": "2020-09-10T07:21:12.993907",
     "exception": false,
     "start_time": "2020-09-10T07:21:12.688400",
     "status": "completed"
    },
    "tags": []
   },
   "outputs": [],
   "source": [
    "#hide\n",
    "df  = pd.read_csv('https://api.covid19india.org/csv/latest/states.csv')\n",
    "df = df[['Date','State','Confirmed','Deceased']]\n",
    "df = df.rename(columns={'Confirmed':'Cases', \"Deceased\":'Deaths'})\n",
    "df_cases = df[[\"Date\",'State','Cases']]\n",
    "df_deaths = df[['Date','State','Deaths']]\n",
    "df_cases1 = df_cases.groupby('Date')\n",
    "df_deaths1= df_deaths.groupby('Date')"
   ]
  },
  {
   "cell_type": "code",
   "execution_count": 3,
   "metadata": {
    "execution": {
     "iopub.execute_input": "2020-09-10T07:21:13.602038Z",
     "iopub.status.busy": "2020-09-10T07:21:13.601412Z",
     "iopub.status.idle": "2020-09-10T07:21:13.622254Z",
     "shell.execute_reply": "2020-09-10T07:21:13.621739Z"
    },
    "papermill": {
     "duration": 0.578043,
     "end_time": "2020-09-10T07:21:13.622393",
     "exception": false,
     "start_time": "2020-09-10T07:21:13.044350",
     "status": "completed"
    },
    "tags": []
   },
   "outputs": [],
   "source": [
    "#hide\n",
    "df_snap = pd.read_csv('data/SnapshotCases-28-July.csv')\n",
    "arr_states = df_snap['states'].unique()\n",
    "arr_dates = df['Date'].unique()\n",
    "df_snap = df_snap.set_index('states')"
   ]
  },
  {
   "cell_type": "code",
   "execution_count": 4,
   "metadata": {
    "execution": {
     "iopub.execute_input": "2020-09-10T07:21:14.008851Z",
     "iopub.status.busy": "2020-09-10T07:21:14.005778Z",
     "iopub.status.idle": "2020-09-10T07:21:14.010663Z",
     "shell.execute_reply": "2020-09-10T07:21:14.011219Z"
    },
    "papermill": {
     "duration": 0.060877,
     "end_time": "2020-09-10T07:21:14.011369",
     "exception": false,
     "start_time": "2020-09-10T07:21:13.950492",
     "status": "completed"
    },
    "tags": []
   },
   "outputs": [
    {
     "data": {
      "text/plain": [
       "array(['Andaman and Nicobar Islands', 'Andhra Pradesh',\n",
       "       'Arunachal Pradesh', 'Assam', 'Bihar', 'Chandigarh',\n",
       "       'Dadra and Nagar Haveli and Daman and Diu', 'Delhi', 'Goa',\n",
       "       'Gujarat', 'Haryana', 'Himachal Pradesh', 'Jammu and Kashmir',\n",
       "       'Jharkhand', 'Karnataka', 'Kerala', 'Lakshadweep',\n",
       "       'Madhya Pradesh', 'Maharashtra', 'Manipur', 'Meghalaya', 'Mizoram',\n",
       "       'Nagaland', 'Odisha', 'Puducherry', 'Punjab', 'Rajasthan',\n",
       "       'Sikkim', 'Tamil Nadu', 'Telangana', 'Tripura', 'Uttar Pradesh',\n",
       "       'West Bengal', 'Chhattisgarh', 'Ladakh', 'Uttarakhand'],\n",
       "      dtype=object)"
      ]
     },
     "execution_count": 4,
     "metadata": {},
     "output_type": "execute_result"
    }
   ],
   "source": [
    "#hide\n",
    "arr_states[-9] = 'Puducherry'\n",
    "arr_states[-10] = 'Odisha'\n",
    "arr_states[6] = 'Dadra and Nagar Haveli and Daman and Diu'\n",
    "arr_states = np.append(arr_states,np.array(['Chhattisgarh','Ladakh','Uttarakhand']))\n",
    "arr_states"
   ]
  },
  {
   "cell_type": "code",
   "execution_count": 5,
   "metadata": {
    "execution": {
     "iopub.execute_input": "2020-09-10T07:21:14.062443Z",
     "iopub.status.busy": "2020-09-10T07:21:14.061827Z",
     "iopub.status.idle": "2020-09-10T07:21:14.068811Z",
     "shell.execute_reply": "2020-09-10T07:21:14.070428Z"
    },
    "papermill": {
     "duration": 0.041963,
     "end_time": "2020-09-10T07:21:14.070580",
     "exception": false,
     "start_time": "2020-09-10T07:21:14.028617",
     "status": "completed"
    },
    "tags": []
   },
   "outputs": [],
   "source": [
    "#hide\n",
    "dates = []\n",
    "for i in arr_dates:\n",
    "    if i>='2020-07-01':\n",
    "        dates.append(i)\n",
    "dict = {'states':dates}\n",
    "for i in arr_states:\n",
    "    dict[i] = [0]*len(dates)\n",
    "dft_cases = pd.DataFrame(dict)\n",
    "dft_deaths = pd.DataFrame(dict)\n"
   ]
  },
  {
   "cell_type": "code",
   "execution_count": 6,
   "metadata": {
    "execution": {
     "iopub.execute_input": "2020-09-10T07:21:14.111063Z",
     "iopub.status.busy": "2020-09-10T07:21:14.110427Z",
     "iopub.status.idle": "2020-09-10T07:21:15.201280Z",
     "shell.execute_reply": "2020-09-10T07:21:15.200408Z"
    },
    "papermill": {
     "duration": 1.114794,
     "end_time": "2020-09-10T07:21:15.201504",
     "exception": false,
     "start_time": "2020-09-10T07:21:14.086710",
     "status": "completed"
    },
    "tags": []
   },
   "outputs": [],
   "source": [
    "#hide\n",
    "for i in range(len(dates)):\n",
    "    df1_deaths = df_deaths1.get_group(dates[i])\n",
    "    for j in range(len(df1_deaths.index)):\n",
    "        if df1_deaths.iloc[j,1] in arr_states:\n",
    "            dft_deaths.loc[i,df1_deaths.iloc[j,1]] = df1_deaths.iloc[j,2]\n",
    "dft_deaths = dft_deaths.set_index('states')"
   ]
  },
  {
   "cell_type": "code",
   "execution_count": 7,
   "metadata": {
    "execution": {
     "iopub.execute_input": "2020-09-10T07:21:15.241309Z",
     "iopub.status.busy": "2020-09-10T07:21:15.240496Z",
     "iopub.status.idle": "2020-09-10T07:21:16.261384Z",
     "shell.execute_reply": "2020-09-10T07:21:16.260850Z"
    },
    "papermill": {
     "duration": 1.043301,
     "end_time": "2020-09-10T07:21:16.261594",
     "exception": false,
     "start_time": "2020-09-10T07:21:15.218293",
     "status": "completed"
    },
    "tags": []
   },
   "outputs": [],
   "source": [
    "#hide\n",
    "for i in range(len(dates)):\n",
    "    df1_cases = df_cases1.get_group(dates[i])\n",
    "    for j in range(len(df1_cases.index)):\n",
    "        if df1_cases.iloc[j,1] in arr_states:\n",
    "            dft_cases.loc[i,df1_cases.iloc[j,1]] = df1_cases.iloc[j,2]\n",
    "dft_cases = dft_cases.set_index('states')"
   ]
  },
  {
   "cell_type": "code",
   "execution_count": 8,
   "metadata": {
    "execution": {
     "iopub.execute_input": "2020-09-10T07:21:16.301670Z",
     "iopub.status.busy": "2020-09-10T07:21:16.301060Z",
     "iopub.status.idle": "2020-09-10T07:21:16.305036Z",
     "shell.execute_reply": "2020-09-10T07:21:16.304513Z"
    },
    "papermill": {
     "duration": 0.027139,
     "end_time": "2020-09-10T07:21:16.305163",
     "exception": false,
     "start_time": "2020-09-10T07:21:16.278024",
     "status": "completed"
    },
    "tags": []
   },
   "outputs": [],
   "source": [
    "#hide\n",
    "dft_cases = dft_cases.T\n",
    "dft_deaths = dft_deaths.T\n",
    "dt_today = dates[-1]\n",
    "dt_yday = dates[-2]"
   ]
  },
  {
   "cell_type": "code",
   "execution_count": 9,
   "metadata": {
    "execution": {
     "iopub.execute_input": "2020-09-10T07:21:16.346469Z",
     "iopub.status.busy": "2020-09-10T07:21:16.345823Z",
     "iopub.status.idle": "2020-09-10T07:21:16.350406Z",
     "shell.execute_reply": "2020-09-10T07:21:16.349907Z"
    },
    "papermill": {
     "duration": 0.029017,
     "end_time": "2020-09-10T07:21:16.350543",
     "exception": false,
     "start_time": "2020-09-10T07:21:16.321526",
     "status": "completed"
    },
    "tags": []
   },
   "outputs": [],
   "source": [
    "#hide\n",
    "dft_cases = dft_cases.reset_index()\n",
    "dft_deaths = dft_deaths.reset_index()\n",
    "dft_cases = dft_cases.rename(columns = {'index':'state'})\n",
    "dft_deaths = dft_deaths.rename(columns = {'index':'state'})"
   ]
  },
  {
   "cell_type": "code",
   "execution_count": 10,
   "metadata": {
    "execution": {
     "iopub.execute_input": "2020-09-10T07:21:16.396504Z",
     "iopub.status.busy": "2020-09-10T07:21:16.391024Z",
     "iopub.status.idle": "2020-09-10T07:21:16.398888Z",
     "shell.execute_reply": "2020-09-10T07:21:16.398358Z"
    },
    "papermill": {
     "duration": 0.032469,
     "end_time": "2020-09-10T07:21:16.399021",
     "exception": false,
     "start_time": "2020-09-10T07:21:16.366552",
     "status": "completed"
    },
    "tags": []
   },
   "outputs": [],
   "source": [
    "#hide\n",
    "dfc_cases = dft_cases.groupby('state')[dt_today].sum()\n",
    "dfc_deaths = dft_deaths.groupby('state')[dt_today].sum()\n",
    "dfp_cases = dft_cases.groupby('state')[dt_yday].sum()\n",
    "dfp_deaths = dft_deaths.groupby('state')[dt_yday].sum()"
   ]
  },
  {
   "cell_type": "code",
   "execution_count": 11,
   "metadata": {
    "execution": {
     "iopub.execute_input": "2020-09-10T07:21:16.450608Z",
     "iopub.status.busy": "2020-09-10T07:21:16.449899Z",
     "iopub.status.idle": "2020-09-10T07:21:16.464063Z",
     "shell.execute_reply": "2020-09-10T07:21:16.464561Z"
    },
    "papermill": {
     "duration": 0.049487,
     "end_time": "2020-09-10T07:21:16.464731",
     "exception": false,
     "start_time": "2020-09-10T07:21:16.415244",
     "status": "completed"
    },
    "tags": []
   },
   "outputs": [
    {
     "data": {
      "text/html": [
       "<div>\n",
       "<style scoped>\n",
       "    .dataframe tbody tr th:only-of-type {\n",
       "        vertical-align: middle;\n",
       "    }\n",
       "\n",
       "    .dataframe tbody tr th {\n",
       "        vertical-align: top;\n",
       "    }\n",
       "\n",
       "    .dataframe thead th {\n",
       "        text-align: right;\n",
       "    }\n",
       "</style>\n",
       "<table border=\"1\" class=\"dataframe\">\n",
       "  <thead>\n",
       "    <tr style=\"text-align: right;\">\n",
       "      <th></th>\n",
       "      <th>states</th>\n",
       "      <th>Cases</th>\n",
       "      <th>Deaths</th>\n",
       "      <th>PCases</th>\n",
       "      <th>PDeaths</th>\n",
       "    </tr>\n",
       "  </thead>\n",
       "  <tbody>\n",
       "    <tr>\n",
       "      <th>0</th>\n",
       "      <td>Maharashtra</td>\n",
       "      <td>967349</td>\n",
       "      <td>27787</td>\n",
       "      <td>967349</td>\n",
       "      <td>27787</td>\n",
       "    </tr>\n",
       "    <tr>\n",
       "      <th>1</th>\n",
       "      <td>Andhra Pradesh</td>\n",
       "      <td>527512</td>\n",
       "      <td>4634</td>\n",
       "      <td>527512</td>\n",
       "      <td>4634</td>\n",
       "    </tr>\n",
       "    <tr>\n",
       "      <th>2</th>\n",
       "      <td>Tamil Nadu</td>\n",
       "      <td>480524</td>\n",
       "      <td>8093</td>\n",
       "      <td>480524</td>\n",
       "      <td>8093</td>\n",
       "    </tr>\n",
       "    <tr>\n",
       "      <th>3</th>\n",
       "      <td>Karnataka</td>\n",
       "      <td>421730</td>\n",
       "      <td>6808</td>\n",
       "      <td>421730</td>\n",
       "      <td>6808</td>\n",
       "    </tr>\n",
       "    <tr>\n",
       "      <th>4</th>\n",
       "      <td>Uttar Pradesh</td>\n",
       "      <td>285041</td>\n",
       "      <td>4112</td>\n",
       "      <td>285041</td>\n",
       "      <td>4112</td>\n",
       "    </tr>\n",
       "  </tbody>\n",
       "</table>\n",
       "</div>"
      ],
      "text/plain": [
       "           states   Cases  Deaths  PCases  PDeaths\n",
       "0     Maharashtra  967349   27787  967349    27787\n",
       "1  Andhra Pradesh  527512    4634  527512     4634\n",
       "2      Tamil Nadu  480524    8093  480524     8093\n",
       "3       Karnataka  421730    6808  421730     6808\n",
       "4   Uttar Pradesh  285041    4112  285041     4112"
      ]
     },
     "execution_count": 11,
     "metadata": {},
     "output_type": "execute_result"
    }
   ],
   "source": [
    "#hide\n",
    "df_table = pd.DataFrame({'states': dfc_cases.index, 'Cases': dfc_cases.values, 'Deaths': dfc_deaths.values, 'PCases': dfp_cases.values, 'PDeaths': dfp_deaths.values}).set_index('states')\n",
    "df_table = df_table.sort_values(by = ['Cases','Deaths'], ascending = [False, False])\n",
    "df_table = df_table.reset_index()\n",
    "df_table.head()"
   ]
  },
  {
   "cell_type": "code",
   "execution_count": 12,
   "metadata": {
    "execution": {
     "iopub.execute_input": "2020-09-10T07:21:16.510808Z",
     "iopub.status.busy": "2020-09-10T07:21:16.510184Z",
     "iopub.status.idle": "2020-09-10T07:21:16.519014Z",
     "shell.execute_reply": "2020-09-10T07:21:16.519582Z"
    },
    "papermill": {
     "duration": 0.032237,
     "end_time": "2020-09-10T07:21:16.519766",
     "exception": false,
     "start_time": "2020-09-10T07:21:16.487529",
     "status": "completed"
    },
    "tags": []
   },
   "outputs": [],
   "source": [
    "#hide\n",
    "for c in 'Cases, Deaths'.split(', '):\n",
    "    df_table[f'{c} (+)'] = (df_table[c] - df_table[f'P{c}']).clip(0)\n",
    "df_table['Fatality Rate'] = (100* df_table['Deaths']/ df_table['Cases']).round(2)"
   ]
  },
  {
   "cell_type": "code",
   "execution_count": 13,
   "metadata": {
    "execution": {
     "iopub.execute_input": "2020-09-10T07:21:16.569851Z",
     "iopub.status.busy": "2020-09-10T07:21:16.568796Z",
     "iopub.status.idle": "2020-09-10T07:21:16.572319Z",
     "shell.execute_reply": "2020-09-10T07:21:16.571813Z"
    },
    "papermill": {
     "duration": 0.035536,
     "end_time": "2020-09-10T07:21:16.572452",
     "exception": false,
     "start_time": "2020-09-10T07:21:16.536916",
     "status": "completed"
    },
    "tags": []
   },
   "outputs": [
    {
     "data": {
      "text/html": [
       "<div>\n",
       "<style scoped>\n",
       "    .dataframe tbody tr th:only-of-type {\n",
       "        vertical-align: middle;\n",
       "    }\n",
       "\n",
       "    .dataframe tbody tr th {\n",
       "        vertical-align: top;\n",
       "    }\n",
       "\n",
       "    .dataframe thead th {\n",
       "        text-align: right;\n",
       "    }\n",
       "</style>\n",
       "<table border=\"1\" class=\"dataframe\">\n",
       "  <thead>\n",
       "    <tr style=\"text-align: right;\">\n",
       "      <th></th>\n",
       "      <th>states</th>\n",
       "      <th>Cases</th>\n",
       "      <th>Deaths</th>\n",
       "      <th>PCases</th>\n",
       "      <th>PDeaths</th>\n",
       "      <th>Cases (+)</th>\n",
       "      <th>Deaths (+)</th>\n",
       "      <th>Fatality Rate</th>\n",
       "    </tr>\n",
       "  </thead>\n",
       "  <tbody>\n",
       "    <tr>\n",
       "      <th>0</th>\n",
       "      <td>Maharashtra</td>\n",
       "      <td>967349</td>\n",
       "      <td>27787</td>\n",
       "      <td>967349</td>\n",
       "      <td>27787</td>\n",
       "      <td>0</td>\n",
       "      <td>0</td>\n",
       "      <td>2.87</td>\n",
       "    </tr>\n",
       "    <tr>\n",
       "      <th>1</th>\n",
       "      <td>Andhra Pradesh</td>\n",
       "      <td>527512</td>\n",
       "      <td>4634</td>\n",
       "      <td>527512</td>\n",
       "      <td>4634</td>\n",
       "      <td>0</td>\n",
       "      <td>0</td>\n",
       "      <td>0.88</td>\n",
       "    </tr>\n",
       "    <tr>\n",
       "      <th>2</th>\n",
       "      <td>Tamil Nadu</td>\n",
       "      <td>480524</td>\n",
       "      <td>8093</td>\n",
       "      <td>480524</td>\n",
       "      <td>8093</td>\n",
       "      <td>0</td>\n",
       "      <td>0</td>\n",
       "      <td>1.68</td>\n",
       "    </tr>\n",
       "    <tr>\n",
       "      <th>3</th>\n",
       "      <td>Karnataka</td>\n",
       "      <td>421730</td>\n",
       "      <td>6808</td>\n",
       "      <td>421730</td>\n",
       "      <td>6808</td>\n",
       "      <td>0</td>\n",
       "      <td>0</td>\n",
       "      <td>1.61</td>\n",
       "    </tr>\n",
       "    <tr>\n",
       "      <th>4</th>\n",
       "      <td>Uttar Pradesh</td>\n",
       "      <td>285041</td>\n",
       "      <td>4112</td>\n",
       "      <td>285041</td>\n",
       "      <td>4112</td>\n",
       "      <td>0</td>\n",
       "      <td>0</td>\n",
       "      <td>1.44</td>\n",
       "    </tr>\n",
       "  </tbody>\n",
       "</table>\n",
       "</div>"
      ],
      "text/plain": [
       "           states   Cases  Deaths  PCases  PDeaths  Cases (+)  Deaths (+)  \\\n",
       "0     Maharashtra  967349   27787  967349    27787          0           0   \n",
       "1  Andhra Pradesh  527512    4634  527512     4634          0           0   \n",
       "2      Tamil Nadu  480524    8093  480524     8093          0           0   \n",
       "3       Karnataka  421730    6808  421730     6808          0           0   \n",
       "4   Uttar Pradesh  285041    4112  285041     4112          0           0   \n",
       "\n",
       "   Fatality Rate  \n",
       "0           2.87  \n",
       "1           0.88  \n",
       "2           1.68  \n",
       "3           1.61  \n",
       "4           1.44  "
      ]
     },
     "execution_count": 13,
     "metadata": {},
     "output_type": "execute_result"
    }
   ],
   "source": [
    "#hide\n",
    "df_table.head()"
   ]
  },
  {
   "cell_type": "code",
   "execution_count": 14,
   "metadata": {
    "execution": {
     "iopub.execute_input": "2020-09-10T07:21:16.614549Z",
     "iopub.status.busy": "2020-09-10T07:21:16.613946Z",
     "iopub.status.idle": "2020-09-10T07:21:16.630296Z",
     "shell.execute_reply": "2020-09-10T07:21:16.629800Z"
    },
    "papermill": {
     "duration": 0.040403,
     "end_time": "2020-09-10T07:21:16.630432",
     "exception": false,
     "start_time": "2020-09-10T07:21:16.590029",
     "status": "completed"
    },
    "tags": []
   },
   "outputs": [
    {
     "data": {
      "text/plain": [
       "{'updated': '2020-09-10',\n",
       " 'since': '2020-09-09',\n",
       " 'Cases': 4470166,\n",
       " 'PCases': 4462965,\n",
       " 'Deaths': 75119,\n",
       " 'PDeaths': 75091,\n",
       " 'Cases (+)': 7201,\n",
       " 'Deaths (+)': 28}"
      ]
     },
     "execution_count": 14,
     "metadata": {},
     "output_type": "execute_result"
    }
   ],
   "source": [
    "#hide\n",
    "summary = {'updated':dates[-1], 'since':dates[-2]}\n",
    "list_names = ['Cases', 'PCases', 'Deaths', 'PDeaths', 'Cases (+)', 'Deaths (+)']\n",
    "for name in list_names:\n",
    "    summary[name] = df_table.sum()[name]\n",
    "summary"
   ]
  },
  {
   "cell_type": "code",
   "execution_count": 15,
   "metadata": {
    "execution": {
     "iopub.execute_input": "2020-09-10T07:21:16.672317Z",
     "iopub.status.busy": "2020-09-10T07:21:16.671651Z",
     "iopub.status.idle": "2020-09-10T07:21:16.676002Z",
     "shell.execute_reply": "2020-09-10T07:21:16.677316Z"
    },
    "papermill": {
     "duration": 0.028684,
     "end_time": "2020-09-10T07:21:16.677481",
     "exception": false,
     "start_time": "2020-09-10T07:21:16.648797",
     "status": "completed"
    },
    "tags": []
   },
   "outputs": [],
   "source": [
    "#hide\n",
    "overview = '''\n",
    "<!-- #######  HTML!! #########-->\n",
    "<h1 style=\"color: #5e9ca0; text-align: center;\">India</h1>\n",
    "<p style=\"text-align: center;\">Last update: <strong>{update}</strong></p>\n",
    "<p style=\"text-align: center;\">Confirmed cases:</p>\n",
    "<p style=\"text-align: center;font-size:24px;\">{cases} (<span style=\"color: #ff0000;\">+{new}</span>)</p>\n",
    "<p style=\"text-align: center;\">Confirmed deaths:</p>\n",
    "<p style=\"text-align: center;font-size:24px;\">{deaths} (<span style=\"color: #ff0000;\">+{dnew}</span>)</p>\n",
    "'''"
   ]
  },
  {
   "cell_type": "code",
   "execution_count": 16,
   "metadata": {
    "execution": {
     "iopub.execute_input": "2020-09-10T07:21:16.721809Z",
     "iopub.status.busy": "2020-09-10T07:21:16.721190Z",
     "iopub.status.idle": "2020-09-10T07:21:16.725317Z",
     "shell.execute_reply": "2020-09-10T07:21:16.725815Z"
    },
    "papermill": {
     "duration": 0.030941,
     "end_time": "2020-09-10T07:21:16.725965",
     "exception": false,
     "start_time": "2020-09-10T07:21:16.695024",
     "status": "completed"
    },
    "tags": []
   },
   "outputs": [
    {
     "data": {
      "text/html": [
       "\n",
       "<!-- #######  HTML!! #########-->\n",
       "<h1 style=\"color: #5e9ca0; text-align: center;\">India</h1>\n",
       "<p style=\"text-align: center;\">Last update: <strong>2020-09-10</strong></p>\n",
       "<p style=\"text-align: center;\">Confirmed cases:</p>\n",
       "<p style=\"text-align: center;font-size:24px;\">4470166 (<span style=\"color: #ff0000;\">+7201</span>)</p>\n",
       "<p style=\"text-align: center;\">Confirmed deaths:</p>\n",
       "<p style=\"text-align: center;font-size:24px;\">75119 (<span style=\"color: #ff0000;\">+28</span>)</p>\n"
      ],
      "text/plain": [
       "<IPython.core.display.HTML object>"
      ]
     },
     "metadata": {},
     "output_type": "display_data"
    }
   ],
   "source": [
    "#hide_input\n",
    "update = summary['updated']\n",
    "cases = summary['Cases']\n",
    "new = summary['Cases (+)']\n",
    "deaths = summary['Deaths']\n",
    "dnew = summary['Deaths (+)']\n",
    "\n",
    "html = HTML(overview.format(update=update, cases=cases,new=new,deaths=deaths,dnew=dnew))\n",
    "\n",
    "display(html)"
   ]
  },
  {
   "cell_type": "code",
   "execution_count": 17,
   "metadata": {
    "execution": {
     "iopub.execute_input": "2020-09-10T07:21:16.770246Z",
     "iopub.status.busy": "2020-09-10T07:21:16.769638Z",
     "iopub.status.idle": "2020-09-10T07:21:16.774857Z",
     "shell.execute_reply": "2020-09-10T07:21:16.774368Z"
    },
    "papermill": {
     "duration": 0.031203,
     "end_time": "2020-09-10T07:21:16.774988",
     "exception": false,
     "start_time": "2020-09-10T07:21:16.743785",
     "status": "completed"
    },
    "tags": []
   },
   "outputs": [],
   "source": [
    "#hide\n",
    "dt_cols = list(dft_cases.columns[1:])\n",
    "dft_ct_new_cases = dft_cases.groupby('state')[dt_cols].sum().diff(axis=1).fillna(0).astype(int)\n",
    "dft_ct_new_cases.sort_values(by = dates[-1], ascending = False,inplace = True)"
   ]
  },
  {
   "cell_type": "code",
   "execution_count": 18,
   "metadata": {
    "execution": {
     "iopub.execute_input": "2020-09-10T07:21:16.829848Z",
     "iopub.status.busy": "2020-09-10T07:21:16.829228Z",
     "iopub.status.idle": "2020-09-10T07:21:16.831806Z",
     "shell.execute_reply": "2020-09-10T07:21:16.832381Z"
    },
    "papermill": {
     "duration": 0.038899,
     "end_time": "2020-09-10T07:21:16.832534",
     "exception": false,
     "start_time": "2020-09-10T07:21:16.793635",
     "status": "completed"
    },
    "tags": []
   },
   "outputs": [
    {
     "data": {
      "text/html": [
       "<div>\n",
       "<style scoped>\n",
       "    .dataframe tbody tr th:only-of-type {\n",
       "        vertical-align: middle;\n",
       "    }\n",
       "\n",
       "    .dataframe tbody tr th {\n",
       "        vertical-align: top;\n",
       "    }\n",
       "\n",
       "    .dataframe thead th {\n",
       "        text-align: right;\n",
       "    }\n",
       "</style>\n",
       "<table border=\"1\" class=\"dataframe\">\n",
       "  <thead>\n",
       "    <tr style=\"text-align: right;\">\n",
       "      <th>states</th>\n",
       "      <th>2020-07-01</th>\n",
       "      <th>2020-07-02</th>\n",
       "      <th>2020-07-03</th>\n",
       "      <th>2020-07-04</th>\n",
       "      <th>2020-07-05</th>\n",
       "      <th>2020-07-06</th>\n",
       "      <th>2020-07-07</th>\n",
       "      <th>2020-07-08</th>\n",
       "      <th>2020-07-09</th>\n",
       "      <th>2020-07-10</th>\n",
       "      <th>...</th>\n",
       "      <th>2020-09-01</th>\n",
       "      <th>2020-09-02</th>\n",
       "      <th>2020-09-03</th>\n",
       "      <th>2020-09-04</th>\n",
       "      <th>2020-09-05</th>\n",
       "      <th>2020-09-06</th>\n",
       "      <th>2020-09-07</th>\n",
       "      <th>2020-09-08</th>\n",
       "      <th>2020-09-09</th>\n",
       "      <th>2020-09-10</th>\n",
       "    </tr>\n",
       "    <tr>\n",
       "      <th>state</th>\n",
       "      <th></th>\n",
       "      <th></th>\n",
       "      <th></th>\n",
       "      <th></th>\n",
       "      <th></th>\n",
       "      <th></th>\n",
       "      <th></th>\n",
       "      <th></th>\n",
       "      <th></th>\n",
       "      <th></th>\n",
       "      <th></th>\n",
       "      <th></th>\n",
       "      <th></th>\n",
       "      <th></th>\n",
       "      <th></th>\n",
       "      <th></th>\n",
       "      <th></th>\n",
       "      <th></th>\n",
       "      <th></th>\n",
       "      <th></th>\n",
       "      <th></th>\n",
       "    </tr>\n",
       "  </thead>\n",
       "  <tbody>\n",
       "    <tr>\n",
       "      <th>Odisha</th>\n",
       "      <td>0</td>\n",
       "      <td>229</td>\n",
       "      <td>561</td>\n",
       "      <td>495</td>\n",
       "      <td>469</td>\n",
       "      <td>456</td>\n",
       "      <td>571</td>\n",
       "      <td>527</td>\n",
       "      <td>577</td>\n",
       "      <td>755</td>\n",
       "      <td>...</td>\n",
       "      <td>3025</td>\n",
       "      <td>3219</td>\n",
       "      <td>3631</td>\n",
       "      <td>3267</td>\n",
       "      <td>3543</td>\n",
       "      <td>3810</td>\n",
       "      <td>3861</td>\n",
       "      <td>3490</td>\n",
       "      <td>3748</td>\n",
       "      <td>3991</td>\n",
       "    </tr>\n",
       "    <tr>\n",
       "      <th>Telangana</th>\n",
       "      <td>0</td>\n",
       "      <td>1213</td>\n",
       "      <td>1892</td>\n",
       "      <td>1850</td>\n",
       "      <td>1590</td>\n",
       "      <td>1831</td>\n",
       "      <td>1879</td>\n",
       "      <td>1924</td>\n",
       "      <td>1410</td>\n",
       "      <td>1278</td>\n",
       "      <td>...</td>\n",
       "      <td>2734</td>\n",
       "      <td>2892</td>\n",
       "      <td>2817</td>\n",
       "      <td>2478</td>\n",
       "      <td>2511</td>\n",
       "      <td>2574</td>\n",
       "      <td>1802</td>\n",
       "      <td>2392</td>\n",
       "      <td>2479</td>\n",
       "      <td>2534</td>\n",
       "    </tr>\n",
       "    <tr>\n",
       "      <th>Tripura</th>\n",
       "      <td>0</td>\n",
       "      <td>39</td>\n",
       "      <td>93</td>\n",
       "      <td>25</td>\n",
       "      <td>23</td>\n",
       "      <td>111</td>\n",
       "      <td>24</td>\n",
       "      <td>57</td>\n",
       "      <td>16</td>\n",
       "      <td>142</td>\n",
       "      <td>...</td>\n",
       "      <td>509</td>\n",
       "      <td>566</td>\n",
       "      <td>590</td>\n",
       "      <td>524</td>\n",
       "      <td>691</td>\n",
       "      <td>603</td>\n",
       "      <td>399</td>\n",
       "      <td>628</td>\n",
       "      <td>582</td>\n",
       "      <td>535</td>\n",
       "    </tr>\n",
       "    <tr>\n",
       "      <th>Mizoram</th>\n",
       "      <td>0</td>\n",
       "      <td>2</td>\n",
       "      <td>0</td>\n",
       "      <td>2</td>\n",
       "      <td>22</td>\n",
       "      <td>11</td>\n",
       "      <td>1</td>\n",
       "      <td>5</td>\n",
       "      <td>0</td>\n",
       "      <td>23</td>\n",
       "      <td>...</td>\n",
       "      <td>1</td>\n",
       "      <td>8</td>\n",
       "      <td>20</td>\n",
       "      <td>6</td>\n",
       "      <td>16</td>\n",
       "      <td>31</td>\n",
       "      <td>21</td>\n",
       "      <td>9</td>\n",
       "      <td>69</td>\n",
       "      <td>141</td>\n",
       "    </tr>\n",
       "    <tr>\n",
       "      <th>Andaman and Nicobar Islands</th>\n",
       "      <td>0</td>\n",
       "      <td>9</td>\n",
       "      <td>7</td>\n",
       "      <td>3</td>\n",
       "      <td>6</td>\n",
       "      <td>16</td>\n",
       "      <td>6</td>\n",
       "      <td>2</td>\n",
       "      <td>7</td>\n",
       "      <td>0</td>\n",
       "      <td>...</td>\n",
       "      <td>28</td>\n",
       "      <td>26</td>\n",
       "      <td>37</td>\n",
       "      <td>34</td>\n",
       "      <td>35</td>\n",
       "      <td>40</td>\n",
       "      <td>27</td>\n",
       "      <td>33</td>\n",
       "      <td>34</td>\n",
       "      <td>0</td>\n",
       "    </tr>\n",
       "  </tbody>\n",
       "</table>\n",
       "<p>5 rows × 72 columns</p>\n",
       "</div>"
      ],
      "text/plain": [
       "states                       2020-07-01  2020-07-02  2020-07-03  2020-07-04  \\\n",
       "state                                                                         \n",
       "Odisha                                0         229         561         495   \n",
       "Telangana                             0        1213        1892        1850   \n",
       "Tripura                               0          39          93          25   \n",
       "Mizoram                               0           2           0           2   \n",
       "Andaman and Nicobar Islands           0           9           7           3   \n",
       "\n",
       "states                       2020-07-05  2020-07-06  2020-07-07  2020-07-08  \\\n",
       "state                                                                         \n",
       "Odisha                              469         456         571         527   \n",
       "Telangana                          1590        1831        1879        1924   \n",
       "Tripura                              23         111          24          57   \n",
       "Mizoram                              22          11           1           5   \n",
       "Andaman and Nicobar Islands           6          16           6           2   \n",
       "\n",
       "states                       2020-07-09  2020-07-10  ...  2020-09-01  \\\n",
       "state                                                ...               \n",
       "Odisha                              577         755  ...        3025   \n",
       "Telangana                          1410        1278  ...        2734   \n",
       "Tripura                              16         142  ...         509   \n",
       "Mizoram                               0          23  ...           1   \n",
       "Andaman and Nicobar Islands           7           0  ...          28   \n",
       "\n",
       "states                       2020-09-02  2020-09-03  2020-09-04  2020-09-05  \\\n",
       "state                                                                         \n",
       "Odisha                             3219        3631        3267        3543   \n",
       "Telangana                          2892        2817        2478        2511   \n",
       "Tripura                             566         590         524         691   \n",
       "Mizoram                               8          20           6          16   \n",
       "Andaman and Nicobar Islands          26          37          34          35   \n",
       "\n",
       "states                       2020-09-06  2020-09-07  2020-09-08  2020-09-09  \\\n",
       "state                                                                         \n",
       "Odisha                             3810        3861        3490        3748   \n",
       "Telangana                          2574        1802        2392        2479   \n",
       "Tripura                             603         399         628         582   \n",
       "Mizoram                              31          21           9          69   \n",
       "Andaman and Nicobar Islands          40          27          33          34   \n",
       "\n",
       "states                       2020-09-10  \n",
       "state                                    \n",
       "Odisha                             3991  \n",
       "Telangana                          2534  \n",
       "Tripura                             535  \n",
       "Mizoram                             141  \n",
       "Andaman and Nicobar Islands           0  \n",
       "\n",
       "[5 rows x 72 columns]"
      ]
     },
     "execution_count": 18,
     "metadata": {},
     "output_type": "execute_result"
    }
   ],
   "source": [
    "#hide\n",
    "dft_ct_new_cases.head()"
   ]
  },
  {
   "cell_type": "code",
   "execution_count": 19,
   "metadata": {
    "execution": {
     "iopub.execute_input": "2020-09-10T07:21:16.905455Z",
     "iopub.status.busy": "2020-09-10T07:21:16.883416Z",
     "iopub.status.idle": "2020-09-10T07:21:20.185912Z",
     "shell.execute_reply": "2020-09-10T07:21:20.186386Z"
    },
    "papermill": {
     "duration": 3.335303,
     "end_time": "2020-09-10T07:21:20.186548",
     "exception": false,
     "start_time": "2020-09-10T07:21:16.851245",
     "status": "completed"
    },
    "tags": []
   },
   "outputs": [
    {
     "data": {
      "image/png": "[encoded data removed]",
      "text/plain": [
       "<Figure size 1296x2016 with 11 Axes>"
      ]
     },
     "metadata": {
      "needs_background": "light"
     },
     "output_type": "display_data"
    }
   ],
   "source": [
    "#hide_input\n",
    "df = dft_ct_new_cases.copy()\n",
    "df.loc['Total'] = df.sum()\n",
    "n = 5\n",
    "ax = []\n",
    "fig = plt.figure(figsize = (18,28))\n",
    "gs = fig.add_gridspec(n+2, 5)\n",
    "# gs = fig.add_gridspec(2, 3)\n",
    "ax1 = fig.add_subplot(gs[0, :])\n",
    "ef = df.loc['Total'].rename_axis('date').reset_index()\n",
    "ef['date'] = ef['date'].astype('datetime64[ns]')\n",
    "ax1.bar(ef.date,ef.Total,alpha=0.3,color='#007acc')\n",
    "ax1.plot(ef.date,ef.Total , marker=\"o\", color='#007acc')\n",
    "ax1.xaxis.set_major_locator(mdates.WeekdayLocator())\n",
    "ax1.xaxis.set_major_formatter(mdates.DateFormatter('%b %d'))\n",
    "ax1.text(0.02, 0.5,'India daily case count', transform = ax1.transAxes, fontsize=25);\n",
    "ax1.spines['right'].set_visible(False)\n",
    "ax1.spines['top'].set_visible(False)\n",
    "\n",
    "ax2 = fig.add_subplot(gs[1,0])\n",
    "ef = df.loc['Maharashtra'].rename_axis('date').reset_index()\n",
    "ef['date'] = ef['date'].astype('datetime64[ns]')\n",
    "\n",
    "ax2.bar(ef.date, ef.Maharashtra,color = '#007acc',alpha=0.5)\n",
    "ax2.xaxis.set_major_locator(mdates.WeekdayLocator())\n",
    "ax2.xaxis.set_major_formatter(mdates.DateFormatter('%b %d'))\n",
    "ax2.set_xticks(ax2.get_xticks()[::3])\n",
    "maxyval = ef.Maharashtra.max()\n",
    "ax2.set_ylim([0,maxyval])\n",
    "ax2.text(0.05, 0.9,'Maharashtra', transform = ax2.transAxes, fontsize=20);\n",
    "ax2.spines['right'].set_visible(False)\n",
    "ax2.spines['top'].set_visible(False)\n",
    "\n",
    "\n",
    "ax3 = fig.add_subplot(gs[1,1])\n",
    "ef = df.loc['Tamil Nadu'].rename_axis('date').reset_index()\n",
    "ef['date'] = ef['date'].astype('datetime64[ns]')\n",
    "ax3.bar(ef.date, ef['Tamil Nadu'],color = '#007acc',alpha=0.5,)\n",
    "ax3.xaxis.set_major_locator(mdates.WeekdayLocator())\n",
    "ax3.xaxis.set_major_formatter(mdates.DateFormatter('%b %d'))\n",
    "ax3.set_xticks(ax3.get_xticks()[::3])\n",
    "ax3.text(0.05, 0.9,'Tamil Nadu', transform = ax3.transAxes, fontsize=20);\n",
    "ax3.spines['right'].set_visible(False)\n",
    "ax3.spines['top'].set_visible(False)\n",
    "\n",
    "ax5 = fig.add_subplot(gs[1,3])\n",
    "ef = df.loc['Telangana'].rename_axis('date').reset_index()\n",
    "ef['date'] = ef['date'].astype('datetime64[ns]')\n",
    "ax5.bar(ef.date, ef['Telangana'],color = '#007acc',alpha=0.5,)\n",
    "ax5.xaxis.set_major_locator(mdates.WeekdayLocator())\n",
    "ax5.xaxis.set_major_formatter(mdates.DateFormatter('%b %d'))\n",
    "ax5.set_xticks(ax5.get_xticks()[::3])\n",
    "ax5.text(0.05, 0.9,'Telangana', transform = ax5.transAxes, fontsize=20);\n",
    "ax5.spines['right'].set_visible(False)\n",
    "ax5.spines['top'].set_visible(False)\n",
    "\n",
    "ax6 = fig.add_subplot(gs[1,4])\n",
    "ef = df.loc['Andhra Pradesh'].rename_axis('date').reset_index()\n",
    "ef['date'] = ef['date'].astype('datetime64[ns]')\n",
    "ax6.bar(ef.date, ef['Andhra Pradesh'],color = '#007acc',alpha=0.5,)\n",
    "ax6.xaxis.set_major_locator(mdates.WeekdayLocator())\n",
    "ax6.xaxis.set_major_formatter(mdates.DateFormatter('%b %d'))\n",
    "ax6.set_xticks(ax6.get_xticks()[::3])\n",
    "ax6.text(0.05, 1,'Andhra Pradesh', transform = ax6.transAxes, fontsize=20);\n",
    "ax6.spines['right'].set_visible(False)\n",
    "ax6.spines['top'].set_visible(False)\n",
    "\n",
    "ax4 = fig.add_subplot(gs[1,2])\n",
    "ef = df.loc['Delhi'].rename_axis('date').reset_index()\n",
    "ef['date'] = ef['date'].astype('datetime64[ns]')\n",
    "ax4.bar(ef.date, ef.Delhi,color = '#007acc',alpha=0.5)\n",
    "ax4.set_xticks([])\n",
    "ax4.xaxis.set_major_locator(mdates.WeekdayLocator())\n",
    "ax4.xaxis.set_major_formatter(mdates.DateFormatter('%b %d'))\n",
    "ax4.set_xticks(ax4.get_xticks()[::3])\n",
    "ax4.spines['right'].set_visible(False)\n",
    "ax4.spines['top'].set_visible(False)\n",
    "\n",
    "ax4.text(0.05, 1,'Delhi', transform = ax4.transAxes, fontsize=20)\n",
    "\n",
    "for i in range(n):\n",
    "    \n",
    "    ax.append(fig.add_subplot(gs[i+2,:]))\n",
    "    ef = df.iloc[i+3].rename_axis('date').reset_index()\n",
    "    ef['date'] = ef['date'].astype('datetime64[ns]')\n",
    "    ax[i].bar(ef.date,ef.iloc[:,-1],color = '#007acc',alpha=0.3)\n",
    "    ax[i].plot(ef.date,ef.iloc[:,-1],marker='o',color='#007acc')\n",
    "    ax[i].text(0.02,0.5,f'{ef.columns.values[-1]}',transform = ax[i].transAxes, fontsize = 20);\n",
    "    ax[i].xaxis.set_major_locator(mdates.WeekdayLocator())\n",
    "    ax[i].xaxis.set_major_formatter(mdates.DateFormatter('%b %d'))\n",
    "    ax[i].set_ylim([0,7000])\n",
    "    ax[i].spines['right'].set_visible(False)\n",
    "    ax[i].spines['top'].set_visible(False)\n",
    "plt.tight_layout()\n"
   ]
  },
  {
   "cell_type": "code",
   "execution_count": 20,
   "metadata": {
    "execution": {
     "iopub.execute_input": "2020-09-10T07:21:20.244100Z",
     "iopub.status.busy": "2020-09-10T07:21:20.243354Z",
     "iopub.status.idle": "2020-09-10T07:21:20.245527Z",
     "shell.execute_reply": "2020-09-10T07:21:20.246083Z"
    },
    "papermill": {
     "duration": 0.03566,
     "end_time": "2020-09-10T07:21:20.246227",
     "exception": false,
     "start_time": "2020-09-10T07:21:20.210567",
     "status": "completed"
    },
    "tags": []
   },
   "outputs": [
    {
     "name": "stdout",
     "output_type": "stream",
     "text": [
      "                                   states   Cases  Deaths  PCases  PDeaths  Cases (+)  Deaths (+)  Fatality Rate\n",
      "                              Maharashtra  967349   27787  967349    27787          0           0           2.87\n",
      "                           Andhra Pradesh  527512    4634  527512     4634          0           0           0.88\n",
      "                               Tamil Nadu  480524    8093  480524     8093          0           0           1.68\n",
      "                                Karnataka  421730    6808  421730     6808          0           0           1.61\n",
      "                            Uttar Pradesh  285041    4112  285041     4112          0           0           1.44\n",
      "                                    Delhi  201174    4638  201174     4638          0           0           2.31\n",
      "                              West Bengal  190063    3730  190063     3730          0           0           1.96\n",
      "                                    Bihar  152192     775  152192      775          0           0           0.51\n",
      "                                Telangana  150176     927  147642      916       2534          11           0.62\n",
      "                                   Odisha  139121     644  135130      633       3991          11           0.46\n",
      "                                    Assam  133066     396  133066      396          0           0           0.30\n",
      "                                  Gujarat  108295    3150  108295     3150          0           0           2.91\n",
      "                                   Kerala   95918     385   95918      385          0           0           0.40\n",
      "                                Rajasthan   95736    1178   95736     1178          0           0           1.23\n",
      "                                  Haryana   83353     882   83353      882          0           0           1.06\n",
      "                           Madhya Pradesh   79192    1640   79192     1640          0           0           2.07\n",
      "                                   Punjab   69684    2061   69684     2061          0           0           2.96\n",
      "                                Jharkhand   56897     512   56897      512          0           0           0.90\n",
      "                             Chhattisgarh   52932     477   52932      477          0           0           0.90\n",
      "                        Jammu and Kashmir   47542     832   47542      832          0           0           1.75\n",
      "                              Uttarakhand   27211     372   27211      372          0           0           1.37\n",
      "                                      Goa   22251     262   22251      262          0           0           1.18\n",
      "                               Puducherry   18084     347   18084      347          0           0           1.92\n",
      "                                  Tripura   17271     167   16736      161        535           6           0.97\n",
      "                         Himachal Pradesh    8147      62    8147       62          0           0           0.76\n",
      "                                  Manipur    7362      40    7362       40          0           0           0.54\n",
      "                               Chandigarh    6704      77    6704       77          0           0           1.15\n",
      "                        Arunachal Pradesh    5545       9    5545        9          0           0           0.16\n",
      "                                 Nagaland    4375       8    4375        8          0           0           0.18\n",
      "              Andaman and Nicobar Islands    3426      51    3426       51          0           0           1.49\n",
      "                                Meghalaya    3197      19    3197       19          0           0           0.59\n",
      "                                   Ladakh    3142      35    3142       35          0           0           1.11\n",
      " Dadra and Nagar Haveli and Daman and Diu    2632       2    2632        2          0           0           0.08\n",
      "                                   Sikkim    1989       7    1989        7          0           0           0.35\n",
      "                                  Mizoram    1333       0    1192        0        141           0           0.00\n",
      "                              Lakshadweep       0       0       0        0          0           0            NaN\n"
     ]
    }
   ],
   "source": [
    "#hide_input\n",
    "print(df_table.to_string(index=False))"
   ]
  },
  {
   "cell_type": "code",
   "execution_count": null,
   "metadata": {
    "papermill": {
     "duration": 0.023048,
     "end_time": "2020-09-10T07:21:20.292729",
     "exception": false,
     "start_time": "2020-09-10T07:21:20.269681",
     "status": "completed"
    },
    "tags": []
   },
   "outputs": [],
   "source": []
  },
  {
   "cell_type": "code",
   "execution_count": null,
   "metadata": {
    "papermill": {
     "duration": 0.023325,
     "end_time": "2020-09-10T07:21:20.339356",
     "exception": false,
     "start_time": "2020-09-10T07:21:20.316031",
     "status": "completed"
    },
    "tags": []
   },
   "outputs": [],
   "source": []
  }
 ],
 "metadata": {
  "kernelspec": {
   "display_name": "Python 3",
   "language": "python",
   "name": "python3"
  },
  "language_info": {
   "codemirror_mode": {
    "name": "ipython",
    "version": 3
   },
   "file_extension": ".py",
   "mimetype": "text/x-python",
   "name": "python",
   "nbconvert_exporter": "python",
   "pygments_lexer": "ipython3",
   "version": "3.6.12"
  },
  "papermill": {
   "duration": 9.835825,
   "end_time": "2020-09-10T07:21:20.770977",
   "environment_variables": {},
   "exception": null,
   "input_path": "latest.ipynb",
   "output_path": "latest.ipynb",
   "parameters": {},
   "start_time": "2020-09-10T07:21:10.935152",
   "version": "2.1.2"
  }
 },
 "nbformat": 4,
 "nbformat_minor": 4
}