{
 "cells": [
  {
   "cell_type": "markdown",
   "id": "colored-stack",
   "metadata": {
    "papermill": {
     "duration": 0.028819,
     "end_time": "2021-02-24T15:05:41.553768",
     "exception": false,
     "start_time": "2021-02-24T15:05:41.524949",
     "status": "completed"
    },
    "tags": []
   },
   "source": [
    "# Latest COVID-19 India Matplotlib Overview"
   ]
  },
  {
   "cell_type": "code",
   "execution_count": 1,
   "id": "light-proportion",
   "metadata": {
    "execution": {
     "iopub.execute_input": "2021-02-24T15:05:41.602733Z",
     "iopub.status.busy": "2021-02-24T15:05:41.602101Z",
     "iopub.status.idle": "2021-02-24T15:05:42.263396Z",
     "shell.execute_reply": "2021-02-24T15:05:42.262861Z"
    },
    "papermill": {
     "duration": 0.691544,
     "end_time": "2021-02-24T15:05:42.263544",
     "exception": false,
     "start_time": "2021-02-24T15:05:41.572000",
     "status": "completed"
    },
    "tags": []
   },
   "outputs": [],
   "source": [
    "#hide\n",
    "import pandas as pd\n",
    "import numpy as np\n",
    "import requests\n",
    "import json\n",
    "import matplotlib.pyplot as plt\n",
    "import matplotlib.dates as mdates\n",
    "import matplotlib as mpl\n",
    "from IPython.core.display import display,HTML\n",
    "%matplotlib inline\n",
    "from datetime import date"
   ]
  },
  {
   "cell_type": "code",
   "execution_count": 2,
   "id": "greenhouse-shooting",
   "metadata": {
    "execution": {
     "iopub.execute_input": "2021-02-24T15:05:42.308271Z",
     "iopub.status.busy": "2021-02-24T15:05:42.307265Z",
     "iopub.status.idle": "2021-02-24T15:05:42.466981Z",
     "shell.execute_reply": "2021-02-24T15:05:42.467469Z"
    },
    "papermill": {
     "duration": 0.186607,
     "end_time": "2021-02-24T15:05:42.467628",
     "exception": false,
     "start_time": "2021-02-24T15:05:42.281021",
     "status": "completed"
    },
    "tags": []
   },
   "outputs": [],
   "source": [
    "#hide\n",
    "df  = pd.read_csv('https://api.covid19india.org/csv/latest/states.csv')\n",
    "df = df[['Date','State','Confirmed','Deceased']]\n",
    "df = df.rename(columns={'Confirmed':'Cases', \"Deceased\":'Deaths'})\n",
    "df_cases = df[[\"Date\",'State','Cases']]\n",
    "df_deaths = df[['Date','State','Deaths']]\n",
    "df_cases1 = df_cases.groupby('Date')\n",
    "df_deaths1= df_deaths.groupby('Date')"
   ]
  },
  {
   "cell_type": "code",
   "execution_count": 3,
   "id": "hybrid-cathedral",
   "metadata": {
    "execution": {
     "iopub.execute_input": "2021-02-24T15:05:42.510669Z",
     "iopub.status.busy": "2021-02-24T15:05:42.510037Z",
     "iopub.status.idle": "2021-02-24T15:05:42.533675Z",
     "shell.execute_reply": "2021-02-24T15:05:42.533147Z"
    },
    "papermill": {
     "duration": 0.04833,
     "end_time": "2021-02-24T15:05:42.533911",
     "exception": false,
     "start_time": "2021-02-24T15:05:42.485581",
     "status": "completed"
    },
    "tags": []
   },
   "outputs": [],
   "source": [
    "#hide\n",
    "df_snap = pd.read_csv('data/SnapshotCases-28-July.csv')\n",
    "arr_states = df_snap['states'].unique()\n",
    "arr_dates = df['Date'].unique()\n",
    "df_snap = df_snap.set_index('states')"
   ]
  },
  {
   "cell_type": "code",
   "execution_count": 4,
   "id": "interior-belfast",
   "metadata": {
    "execution": {
     "iopub.execute_input": "2021-02-24T15:05:42.581779Z",
     "iopub.status.busy": "2021-02-24T15:05:42.581169Z",
     "iopub.status.idle": "2021-02-24T15:05:42.584144Z",
     "shell.execute_reply": "2021-02-24T15:05:42.584713Z"
    },
    "papermill": {
     "duration": 0.030474,
     "end_time": "2021-02-24T15:05:42.584855",
     "exception": false,
     "start_time": "2021-02-24T15:05:42.554381",
     "status": "completed"
    },
    "tags": []
   },
   "outputs": [
    {
     "data": {
      "text/plain": [
       "array(['Andaman and Nicobar Islands', 'Andhra Pradesh',\n",
       "       'Arunachal Pradesh', 'Assam', 'Bihar', 'Chandigarh',\n",
       "       'Dadra and Nagar Haveli and Daman and Diu', 'Delhi', 'Goa',\n",
       "       'Gujarat', 'Haryana', 'Himachal Pradesh', 'Jammu and Kashmir',\n",
       "       'Jharkhand', 'Karnataka', 'Kerala', 'Lakshadweep',\n",
       "       'Madhya Pradesh', 'Maharashtra', 'Manipur', 'Meghalaya', 'Mizoram',\n",
       "       'Nagaland', 'Odisha', 'Puducherry', 'Punjab', 'Rajasthan',\n",
       "       'Sikkim', 'Tamil Nadu', 'Telangana', 'Tripura', 'Uttar Pradesh',\n",
       "       'West Bengal', 'Chhattisgarh', 'Ladakh', 'Uttarakhand'],\n",
       "      dtype=object)"
      ]
     },
     "execution_count": 4,
     "metadata": {},
     "output_type": "execute_result"
    }
   ],
   "source": [
    "#hide\n",
    "arr_states[-9] = 'Puducherry'\n",
    "arr_states[-10] = 'Odisha'\n",
    "arr_states[6] = 'Dadra and Nagar Haveli and Daman and Diu'\n",
    "arr_states = np.append(arr_states,np.array(['Chhattisgarh','Ladakh','Uttarakhand']))\n",
    "arr_states"
   ]
  },
  {
   "cell_type": "code",
   "execution_count": 5,
   "id": "behind-manner",
   "metadata": {
    "execution": {
     "iopub.execute_input": "2021-02-24T15:05:42.642979Z",
     "iopub.status.busy": "2021-02-24T15:05:42.642346Z",
     "iopub.status.idle": "2021-02-24T15:05:42.654569Z",
     "shell.execute_reply": "2021-02-24T15:05:42.654051Z"
    },
    "papermill": {
     "duration": 0.048779,
     "end_time": "2021-02-24T15:05:42.654704",
     "exception": false,
     "start_time": "2021-02-24T15:05:42.605925",
     "status": "completed"
    },
    "tags": []
   },
   "outputs": [],
   "source": [
    "#hide\n",
    "dates = []\n",
    "for i in arr_dates:\n",
    "    if i>='2020-07-01':\n",
    "        dates.append(i)\n",
    "dict = {'states':dates}\n",
    "for i in arr_states:\n",
    "    dict[i] = [0]*len(dates)\n",
    "dft_cases = pd.DataFrame(dict)\n",
    "dft_deaths = pd.DataFrame(dict)\n"
   ]
  },
  {
   "cell_type": "code",
   "execution_count": 6,
   "id": "simplified-peter",
   "metadata": {
    "execution": {
     "iopub.execute_input": "2021-02-24T15:05:42.698609Z",
     "iopub.status.busy": "2021-02-24T15:05:42.697956Z",
     "iopub.status.idle": "2021-02-24T15:05:46.389378Z",
     "shell.execute_reply": "2021-02-24T15:05:46.388687Z"
    },
    "papermill": {
     "duration": 3.716755,
     "end_time": "2021-02-24T15:05:46.389548",
     "exception": false,
     "start_time": "2021-02-24T15:05:42.672793",
     "status": "completed"
    },
    "tags": []
   },
   "outputs": [],
   "source": [
    "#hide\n",
    "for i in range(len(dates)):\n",
    "    df1_deaths = df_deaths1.get_group(dates[i])\n",
    "    for j in range(len(df1_deaths.index)):\n",
    "        if df1_deaths.iloc[j,1] in arr_states:\n",
    "            dft_deaths.loc[i,df1_deaths.iloc[j,1]] = df1_deaths.iloc[j,2]\n",
    "dft_deaths = dft_deaths.set_index('states')"
   ]
  },
  {
   "cell_type": "code",
   "execution_count": 7,
   "id": "geological-welding",
   "metadata": {
    "execution": {
     "iopub.execute_input": "2021-02-24T15:05:46.434769Z",
     "iopub.status.busy": "2021-02-24T15:05:46.434156Z",
     "iopub.status.idle": "2021-02-24T15:05:50.018202Z",
     "shell.execute_reply": "2021-02-24T15:05:50.017201Z"
    },
    "papermill": {
     "duration": 3.609566,
     "end_time": "2021-02-24T15:05:50.018348",
     "exception": false,
     "start_time": "2021-02-24T15:05:46.408782",
     "status": "completed"
    },
    "tags": []
   },
   "outputs": [],
   "source": [
    "#hide\n",
    "for i in range(len(dates)):\n",
    "    df1_cases = df_cases1.get_group(dates[i])\n",
    "    for j in range(len(df1_cases.index)):\n",
    "        if df1_cases.iloc[j,1] in arr_states:\n",
    "            dft_cases.loc[i,df1_cases.iloc[j,1]] = df1_cases.iloc[j,2]\n",
    "dft_cases = dft_cases.set_index('states')"
   ]
  },
  {
   "cell_type": "code",
   "execution_count": 8,
   "id": "binary-ratio",
   "metadata": {
    "execution": {
     "iopub.execute_input": "2021-02-24T15:05:50.061800Z",
     "iopub.status.busy": "2021-02-24T15:05:50.060359Z",
     "iopub.status.idle": "2021-02-24T15:05:50.062663Z",
     "shell.execute_reply": "2021-02-24T15:05:50.063302Z"
    },
    "papermill": {
     "duration": 0.027185,
     "end_time": "2021-02-24T15:05:50.063488",
     "exception": false,
     "start_time": "2021-02-24T15:05:50.036303",
     "status": "completed"
    },
    "tags": []
   },
   "outputs": [],
   "source": [
    "#hide\n",
    "dft_cases = dft_cases.T\n",
    "dft_deaths = dft_deaths.T\n",
    "dt_today = dates[-1]\n",
    "dt_yday = dates[-2]"
   ]
  },
  {
   "cell_type": "code",
   "execution_count": 9,
   "id": "boolean-calculator",
   "metadata": {
    "execution": {
     "iopub.execute_input": "2021-02-24T15:05:50.111639Z",
     "iopub.status.busy": "2021-02-24T15:05:50.111016Z",
     "iopub.status.idle": "2021-02-24T15:05:50.114750Z",
     "shell.execute_reply": "2021-02-24T15:05:50.113817Z"
    },
    "papermill": {
     "duration": 0.032156,
     "end_time": "2021-02-24T15:05:50.114896",
     "exception": false,
     "start_time": "2021-02-24T15:05:50.082740",
     "status": "completed"
    },
    "tags": []
   },
   "outputs": [],
   "source": [
    "#hide\n",
    "dft_cases = dft_cases.reset_index()\n",
    "dft_deaths = dft_deaths.reset_index()\n",
    "dft_cases = dft_cases.rename(columns = {'index':'state'})\n",
    "dft_deaths = dft_deaths.rename(columns = {'index':'state'})"
   ]
  },
  {
   "cell_type": "code",
   "execution_count": 10,
   "id": "invisible-johnston",
   "metadata": {
    "execution": {
     "iopub.execute_input": "2021-02-24T15:05:50.157698Z",
     "iopub.status.busy": "2021-02-24T15:05:50.157091Z",
     "iopub.status.idle": "2021-02-24T15:05:50.166512Z",
     "shell.execute_reply": "2021-02-24T15:05:50.165979Z"
    },
    "papermill": {
     "duration": 0.033863,
     "end_time": "2021-02-24T15:05:50.166644",
     "exception": false,
     "start_time": "2021-02-24T15:05:50.132781",
     "status": "completed"
    },
    "tags": []
   },
   "outputs": [],
   "source": [
    "#hide\n",
    "dfc_cases = dft_cases.groupby('state')[dt_today].sum()\n",
    "dfc_deaths = dft_deaths.groupby('state')[dt_today].sum()\n",
    "dfp_cases = dft_cases.groupby('state')[dt_yday].sum()\n",
    "dfp_deaths = dft_deaths.groupby('state')[dt_yday].sum()"
   ]
  },
  {
   "cell_type": "code",
   "execution_count": 11,
   "id": "measured-great",
   "metadata": {
    "execution": {
     "iopub.execute_input": "2021-02-24T15:05:50.218256Z",
     "iopub.status.busy": "2021-02-24T15:05:50.217628Z",
     "iopub.status.idle": "2021-02-24T15:05:50.224509Z",
     "shell.execute_reply": "2021-02-24T15:05:50.224008Z"
    },
    "papermill": {
     "duration": 0.039205,
     "end_time": "2021-02-24T15:05:50.224661",
     "exception": false,
     "start_time": "2021-02-24T15:05:50.185456",
     "status": "completed"
    },
    "tags": []
   },
   "outputs": [
    {
     "data": {
      "text/html": [
       "<div>\n",
       "<style scoped>\n",
       "    .dataframe tbody tr th:only-of-type {\n",
       "        vertical-align: middle;\n",
       "    }\n",
       "\n",
       "    .dataframe tbody tr th {\n",
       "        vertical-align: top;\n",
       "    }\n",
       "\n",
       "    .dataframe thead th {\n",
       "        text-align: right;\n",
       "    }\n",
       "</style>\n",
       "<table border=\"1\" class=\"dataframe\">\n",
       "  <thead>\n",
       "    <tr style=\"text-align: right;\">\n",
       "      <th></th>\n",
       "      <th>states</th>\n",
       "      <th>Cases</th>\n",
       "      <th>Deaths</th>\n",
       "      <th>PCases</th>\n",
       "      <th>PDeaths</th>\n",
       "    </tr>\n",
       "  </thead>\n",
       "  <tbody>\n",
       "    <tr>\n",
       "      <th>0</th>\n",
       "      <td>Maharashtra</td>\n",
       "      <td>2121119</td>\n",
       "      <td>51937</td>\n",
       "      <td>2112312</td>\n",
       "      <td>51857</td>\n",
       "    </tr>\n",
       "    <tr>\n",
       "      <th>1</th>\n",
       "      <td>Kerala</td>\n",
       "      <td>1045010</td>\n",
       "      <td>4137</td>\n",
       "      <td>1040904</td>\n",
       "      <td>4120</td>\n",
       "    </tr>\n",
       "    <tr>\n",
       "      <th>2</th>\n",
       "      <td>Karnataka</td>\n",
       "      <td>948849</td>\n",
       "      <td>12303</td>\n",
       "      <td>948849</td>\n",
       "      <td>12303</td>\n",
       "    </tr>\n",
       "    <tr>\n",
       "      <th>3</th>\n",
       "      <td>Andhra Pradesh</td>\n",
       "      <td>889409</td>\n",
       "      <td>7168</td>\n",
       "      <td>889409</td>\n",
       "      <td>7168</td>\n",
       "    </tr>\n",
       "    <tr>\n",
       "      <th>4</th>\n",
       "      <td>Tamil Nadu</td>\n",
       "      <td>849166</td>\n",
       "      <td>12472</td>\n",
       "      <td>849166</td>\n",
       "      <td>12472</td>\n",
       "    </tr>\n",
       "  </tbody>\n",
       "</table>\n",
       "</div>"
      ],
      "text/plain": [
       "           states    Cases  Deaths   PCases  PDeaths\n",
       "0     Maharashtra  2121119   51937  2112312    51857\n",
       "1          Kerala  1045010    4137  1040904     4120\n",
       "2       Karnataka   948849   12303   948849    12303\n",
       "3  Andhra Pradesh   889409    7168   889409     7168\n",
       "4      Tamil Nadu   849166   12472   849166    12472"
      ]
     },
     "execution_count": 11,
     "metadata": {},
     "output_type": "execute_result"
    }
   ],
   "source": [
    "#hide\n",
    "df_table = pd.DataFrame({'states': dfc_cases.index, 'Cases': dfc_cases.values, 'Deaths': dfc_deaths.values, 'PCases': dfp_cases.values, 'PDeaths': dfp_deaths.values}).set_index('states')\n",
    "df_table = df_table.sort_values(by = ['Cases','Deaths'], ascending = [False, False])\n",
    "df_table = df_table.reset_index()\n",
    "df_table.head()"
   ]
  },
  {
   "cell_type": "code",
   "execution_count": 12,
   "id": "found-montreal",
   "metadata": {
    "execution": {
     "iopub.execute_input": "2021-02-24T15:05:50.267259Z",
     "iopub.status.busy": "2021-02-24T15:05:50.266657Z",
     "iopub.status.idle": "2021-02-24T15:05:50.277462Z",
     "shell.execute_reply": "2021-02-24T15:05:50.277956Z"
    },
    "papermill": {
     "duration": 0.035259,
     "end_time": "2021-02-24T15:05:50.278105",
     "exception": false,
     "start_time": "2021-02-24T15:05:50.242846",
     "status": "completed"
    },
    "tags": []
   },
   "outputs": [],
   "source": [
    "#hide\n",
    "for c in 'Cases, Deaths'.split(', '):\n",
    "    df_table[f'{c} (+)'] = (df_table[c] - df_table[f'P{c}']).clip(0)\n",
    "df_table['Fatality Rate'] = (100* df_table['Deaths']/ df_table['Cases']).round(2)"
   ]
  },
  {
   "cell_type": "code",
   "execution_count": 13,
   "id": "minus-savage",
   "metadata": {
    "execution": {
     "iopub.execute_input": "2021-02-24T15:05:50.327119Z",
     "iopub.status.busy": "2021-02-24T15:05:50.326494Z",
     "iopub.status.idle": "2021-02-24T15:05:50.329113Z",
     "shell.execute_reply": "2021-02-24T15:05:50.329589Z"
    },
    "papermill": {
     "duration": 0.03345,
     "end_time": "2021-02-24T15:05:50.329734",
     "exception": false,
     "start_time": "2021-02-24T15:05:50.296284",
     "status": "completed"
    },
    "tags": []
   },
   "outputs": [
    {
     "data": {
      "text/html": [
       "<div>\n",
       "<style scoped>\n",
       "    .dataframe tbody tr th:only-of-type {\n",
       "        vertical-align: middle;\n",
       "    }\n",
       "\n",
       "    .dataframe tbody tr th {\n",
       "        vertical-align: top;\n",
       "    }\n",
       "\n",
       "    .dataframe thead th {\n",
       "        text-align: right;\n",
       "    }\n",
       "</style>\n",
       "<table border=\"1\" class=\"dataframe\">\n",
       "  <thead>\n",
       "    <tr style=\"text-align: right;\">\n",
       "      <th></th>\n",
       "      <th>states</th>\n",
       "      <th>Cases</th>\n",
       "      <th>Deaths</th>\n",
       "      <th>PCases</th>\n",
       "      <th>PDeaths</th>\n",
       "      <th>Cases (+)</th>\n",
       "      <th>Deaths (+)</th>\n",
       "      <th>Fatality Rate</th>\n",
       "    </tr>\n",
       "  </thead>\n",
       "  <tbody>\n",
       "    <tr>\n",
       "      <th>0</th>\n",
       "      <td>Maharashtra</td>\n",
       "      <td>2121119</td>\n",
       "      <td>51937</td>\n",
       "      <td>2112312</td>\n",
       "      <td>51857</td>\n",
       "      <td>8807</td>\n",
       "      <td>80</td>\n",
       "      <td>2.45</td>\n",
       "    </tr>\n",
       "    <tr>\n",
       "      <th>1</th>\n",
       "      <td>Kerala</td>\n",
       "      <td>1045010</td>\n",
       "      <td>4137</td>\n",
       "      <td>1040904</td>\n",
       "      <td>4120</td>\n",
       "      <td>4106</td>\n",
       "      <td>17</td>\n",
       "      <td>0.40</td>\n",
       "    </tr>\n",
       "    <tr>\n",
       "      <th>2</th>\n",
       "      <td>Karnataka</td>\n",
       "      <td>948849</td>\n",
       "      <td>12303</td>\n",
       "      <td>948849</td>\n",
       "      <td>12303</td>\n",
       "      <td>0</td>\n",
       "      <td>0</td>\n",
       "      <td>1.30</td>\n",
       "    </tr>\n",
       "    <tr>\n",
       "      <th>3</th>\n",
       "      <td>Andhra Pradesh</td>\n",
       "      <td>889409</td>\n",
       "      <td>7168</td>\n",
       "      <td>889409</td>\n",
       "      <td>7168</td>\n",
       "      <td>0</td>\n",
       "      <td>0</td>\n",
       "      <td>0.81</td>\n",
       "    </tr>\n",
       "    <tr>\n",
       "      <th>4</th>\n",
       "      <td>Tamil Nadu</td>\n",
       "      <td>849166</td>\n",
       "      <td>12472</td>\n",
       "      <td>849166</td>\n",
       "      <td>12472</td>\n",
       "      <td>0</td>\n",
       "      <td>0</td>\n",
       "      <td>1.47</td>\n",
       "    </tr>\n",
       "  </tbody>\n",
       "</table>\n",
       "</div>"
      ],
      "text/plain": [
       "           states    Cases  Deaths   PCases  PDeaths  Cases (+)  Deaths (+)  \\\n",
       "0     Maharashtra  2121119   51937  2112312    51857       8807          80   \n",
       "1          Kerala  1045010    4137  1040904     4120       4106          17   \n",
       "2       Karnataka   948849   12303   948849    12303          0           0   \n",
       "3  Andhra Pradesh   889409    7168   889409     7168          0           0   \n",
       "4      Tamil Nadu   849166   12472   849166    12472          0           0   \n",
       "\n",
       "   Fatality Rate  \n",
       "0           2.45  \n",
       "1           0.40  \n",
       "2           1.30  \n",
       "3           0.81  \n",
       "4           1.47  "
      ]
     },
     "execution_count": 13,
     "metadata": {},
     "output_type": "execute_result"
    }
   ],
   "source": [
    "#hide\n",
    "df_table.head()"
   ]
  },
  {
   "cell_type": "code",
   "execution_count": 14,
   "id": "false-peter",
   "metadata": {
    "execution": {
     "iopub.execute_input": "2021-02-24T15:05:50.372793Z",
     "iopub.status.busy": "2021-02-24T15:05:50.372126Z",
     "iopub.status.idle": "2021-02-24T15:05:50.389936Z",
     "shell.execute_reply": "2021-02-24T15:05:50.389440Z"
    },
    "papermill": {
     "duration": 0.041894,
     "end_time": "2021-02-24T15:05:50.390068",
     "exception": false,
     "start_time": "2021-02-24T15:05:50.348174",
     "status": "completed"
    },
    "tags": []
   },
   "outputs": [
    {
     "data": {
      "text/plain": [
       "{'updated': '2021-02-24',\n",
       " 'since': '2021-02-23',\n",
       " 'Cases': 11043187,\n",
       " 'PCases': 11029891,\n",
       " 'Deaths': 156703,\n",
       " 'PDeaths': 156605,\n",
       " 'Cases (+)': 13296,\n",
       " 'Deaths (+)': 98}"
      ]
     },
     "execution_count": 14,
     "metadata": {},
     "output_type": "execute_result"
    }
   ],
   "source": [
    "#hide\n",
    "summary = {'updated':dates[-1], 'since':dates[-2]}\n",
    "list_names = ['Cases', 'PCases', 'Deaths', 'PDeaths', 'Cases (+)', 'Deaths (+)']\n",
    "for name in list_names:\n",
    "    summary[name] = df_table.sum()[name]\n",
    "summary"
   ]
  },
  {
   "cell_type": "code",
   "execution_count": 15,
   "id": "packed-viewer",
   "metadata": {
    "execution": {
     "iopub.execute_input": "2021-02-24T15:05:50.434369Z",
     "iopub.status.busy": "2021-02-24T15:05:50.433740Z",
     "iopub.status.idle": "2021-02-24T15:05:50.436206Z",
     "shell.execute_reply": "2021-02-24T15:05:50.436695Z"
    },
    "papermill": {
     "duration": 0.027543,
     "end_time": "2021-02-24T15:05:50.436849",
     "exception": false,
     "start_time": "2021-02-24T15:05:50.409306",
     "status": "completed"
    },
    "tags": []
   },
   "outputs": [],
   "source": [
    "#hide\n",
    "overview = '''\n",
    "<!-- #######  HTML!! #########-->\n",
    "<h1 style=\"color: #5e9ca0; text-align: center;\">India</h1>\n",
    "<p style=\"text-align: center;\">Last update: <strong>{update}</strong></p>\n",
    "<p style=\"text-align: center;\">Confirmed cases:</p>\n",
    "<p style=\"text-align: center;font-size:24px;\">{cases} (<span style=\"color: #ff0000;\">+{new}</span>)</p>\n",
    "<p style=\"text-align: center;\">Confirmed deaths:</p>\n",
    "<p style=\"text-align: center;font-size:24px;\">{deaths} (<span style=\"color: #ff0000;\">+{dnew}</span>)</p>\n",
    "'''"
   ]
  },
  {
   "cell_type": "code",
   "execution_count": 16,
   "id": "phantom-lover",
   "metadata": {
    "execution": {
     "iopub.execute_input": "2021-02-24T15:05:50.480698Z",
     "iopub.status.busy": "2021-02-24T15:05:50.480019Z",
     "iopub.status.idle": "2021-02-24T15:05:50.483232Z",
     "shell.execute_reply": "2021-02-24T15:05:50.482756Z"
    },
    "papermill": {
     "duration": 0.027735,
     "end_time": "2021-02-24T15:05:50.483358",
     "exception": false,
     "start_time": "2021-02-24T15:05:50.455623",
     "status": "completed"
    },
    "tags": []
   },
   "outputs": [
    {
     "data": {
      "text/html": [
       "\n",
       "<!-- #######  HTML!! #########-->\n",
       "<h1 style=\"color: #5e9ca0; text-align: center;\">India</h1>\n",
       "<p style=\"text-align: center;\">Last update: <strong>2021-02-24</strong></p>\n",
       "<p style=\"text-align: center;\">Confirmed cases:</p>\n",
       "<p style=\"text-align: center;font-size:24px;\">11043187 (<span style=\"color: #ff0000;\">+13296</span>)</p>\n",
       "<p style=\"text-align: center;\">Confirmed deaths:</p>\n",
       "<p style=\"text-align: center;font-size:24px;\">156703 (<span style=\"color: #ff0000;\">+98</span>)</p>\n"
      ],
      "text/plain": [
       "<IPython.core.display.HTML object>"
      ]
     },
     "metadata": {},
     "output_type": "display_data"
    }
   ],
   "source": [
    "#hide_input\n",
    "update = summary['updated']\n",
    "cases = summary['Cases']\n",
    "new = summary['Cases (+)']\n",
    "deaths = summary['Deaths']\n",
    "dnew = summary['Deaths (+)']\n",
    "\n",
    "html = HTML(overview.format(update=update, cases=cases,new=new,deaths=deaths,dnew=dnew))\n",
    "\n",
    "display(html)"
   ]
  },
  {
   "cell_type": "code",
   "execution_count": 17,
   "id": "sealed-reset",
   "metadata": {
    "execution": {
     "iopub.execute_input": "2021-02-24T15:05:50.531616Z",
     "iopub.status.busy": "2021-02-24T15:05:50.531005Z",
     "iopub.status.idle": "2021-02-24T15:05:50.539216Z",
     "shell.execute_reply": "2021-02-24T15:05:50.538730Z"
    },
    "papermill": {
     "duration": 0.036516,
     "end_time": "2021-02-24T15:05:50.539345",
     "exception": false,
     "start_time": "2021-02-24T15:05:50.502829",
     "status": "completed"
    },
    "tags": []
   },
   "outputs": [],
   "source": [
    "#hide\n",
    "dt_cols = list(dft_cases.columns[1:])\n",
    "dft_ct_new_cases = dft_cases.groupby('state')[dt_cols].sum().diff(axis=1).fillna(0).astype(int)\n",
    "dft_ct_new_cases.sort_values(by = dates[-1], ascending = False,inplace = True)"
   ]
  },
  {
   "cell_type": "code",
   "execution_count": 18,
   "id": "designed-constant",
   "metadata": {
    "execution": {
     "iopub.execute_input": "2021-02-24T15:05:50.597580Z",
     "iopub.status.busy": "2021-02-24T15:05:50.596959Z",
     "iopub.status.idle": "2021-02-24T15:05:50.599504Z",
     "shell.execute_reply": "2021-02-24T15:05:50.600070Z"
    },
    "papermill": {
     "duration": 0.041405,
     "end_time": "2021-02-24T15:05:50.600216",
     "exception": false,
     "start_time": "2021-02-24T15:05:50.558811",
     "status": "completed"
    },
    "tags": []
   },
   "outputs": [
    {
     "data": {
      "text/html": [
       "<div>\n",
       "<style scoped>\n",
       "    .dataframe tbody tr th:only-of-type {\n",
       "        vertical-align: middle;\n",
       "    }\n",
       "\n",
       "    .dataframe tbody tr th {\n",
       "        vertical-align: top;\n",
       "    }\n",
       "\n",
       "    .dataframe thead th {\n",
       "        text-align: right;\n",
       "    }\n",
       "</style>\n",
       "<table border=\"1\" class=\"dataframe\">\n",
       "  <thead>\n",
       "    <tr style=\"text-align: right;\">\n",
       "      <th>states</th>\n",
       "      <th>2020-07-01</th>\n",
       "      <th>2020-07-02</th>\n",
       "      <th>2020-07-03</th>\n",
       "      <th>2020-07-04</th>\n",
       "      <th>2020-07-05</th>\n",
       "      <th>2020-07-06</th>\n",
       "      <th>2020-07-07</th>\n",
       "      <th>2020-07-08</th>\n",
       "      <th>2020-07-09</th>\n",
       "      <th>2020-07-10</th>\n",
       "      <th>...</th>\n",
       "      <th>2021-02-15</th>\n",
       "      <th>2021-02-16</th>\n",
       "      <th>2021-02-17</th>\n",
       "      <th>2021-02-18</th>\n",
       "      <th>2021-02-19</th>\n",
       "      <th>2021-02-20</th>\n",
       "      <th>2021-02-21</th>\n",
       "      <th>2021-02-22</th>\n",
       "      <th>2021-02-23</th>\n",
       "      <th>2021-02-24</th>\n",
       "    </tr>\n",
       "    <tr>\n",
       "      <th>state</th>\n",
       "      <th></th>\n",
       "      <th></th>\n",
       "      <th></th>\n",
       "      <th></th>\n",
       "      <th></th>\n",
       "      <th></th>\n",
       "      <th></th>\n",
       "      <th></th>\n",
       "      <th></th>\n",
       "      <th></th>\n",
       "      <th></th>\n",
       "      <th></th>\n",
       "      <th></th>\n",
       "      <th></th>\n",
       "      <th></th>\n",
       "      <th></th>\n",
       "      <th></th>\n",
       "      <th></th>\n",
       "      <th></th>\n",
       "      <th></th>\n",
       "      <th></th>\n",
       "    </tr>\n",
       "  </thead>\n",
       "  <tbody>\n",
       "    <tr>\n",
       "      <th>Maharashtra</th>\n",
       "      <td>0</td>\n",
       "      <td>6328</td>\n",
       "      <td>6364</td>\n",
       "      <td>7074</td>\n",
       "      <td>6555</td>\n",
       "      <td>5368</td>\n",
       "      <td>5134</td>\n",
       "      <td>6603</td>\n",
       "      <td>6875</td>\n",
       "      <td>7862</td>\n",
       "      <td>...</td>\n",
       "      <td>3365</td>\n",
       "      <td>3663</td>\n",
       "      <td>4787</td>\n",
       "      <td>5427</td>\n",
       "      <td>6112</td>\n",
       "      <td>6281</td>\n",
       "      <td>6971</td>\n",
       "      <td>5210</td>\n",
       "      <td>6218</td>\n",
       "      <td>8807</td>\n",
       "    </tr>\n",
       "    <tr>\n",
       "      <th>Kerala</th>\n",
       "      <td>0</td>\n",
       "      <td>160</td>\n",
       "      <td>211</td>\n",
       "      <td>240</td>\n",
       "      <td>225</td>\n",
       "      <td>193</td>\n",
       "      <td>272</td>\n",
       "      <td>301</td>\n",
       "      <td>339</td>\n",
       "      <td>416</td>\n",
       "      <td>...</td>\n",
       "      <td>2884</td>\n",
       "      <td>4937</td>\n",
       "      <td>4892</td>\n",
       "      <td>4584</td>\n",
       "      <td>4505</td>\n",
       "      <td>4650</td>\n",
       "      <td>4070</td>\n",
       "      <td>2212</td>\n",
       "      <td>4034</td>\n",
       "      <td>4106</td>\n",
       "    </tr>\n",
       "    <tr>\n",
       "      <th>Gujarat</th>\n",
       "      <td>0</td>\n",
       "      <td>681</td>\n",
       "      <td>687</td>\n",
       "      <td>712</td>\n",
       "      <td>725</td>\n",
       "      <td>735</td>\n",
       "      <td>778</td>\n",
       "      <td>783</td>\n",
       "      <td>861</td>\n",
       "      <td>875</td>\n",
       "      <td>...</td>\n",
       "      <td>249</td>\n",
       "      <td>263</td>\n",
       "      <td>278</td>\n",
       "      <td>263</td>\n",
       "      <td>266</td>\n",
       "      <td>258</td>\n",
       "      <td>283</td>\n",
       "      <td>315</td>\n",
       "      <td>348</td>\n",
       "      <td>380</td>\n",
       "    </tr>\n",
       "    <tr>\n",
       "      <th>Mizoram</th>\n",
       "      <td>0</td>\n",
       "      <td>2</td>\n",
       "      <td>0</td>\n",
       "      <td>2</td>\n",
       "      <td>22</td>\n",
       "      <td>11</td>\n",
       "      <td>1</td>\n",
       "      <td>5</td>\n",
       "      <td>0</td>\n",
       "      <td>23</td>\n",
       "      <td>...</td>\n",
       "      <td>0</td>\n",
       "      <td>3</td>\n",
       "      <td>1</td>\n",
       "      <td>3</td>\n",
       "      <td>6</td>\n",
       "      <td>2</td>\n",
       "      <td>2</td>\n",
       "      <td>0</td>\n",
       "      <td>1</td>\n",
       "      <td>3</td>\n",
       "    </tr>\n",
       "    <tr>\n",
       "      <th>Manipur</th>\n",
       "      <td>0</td>\n",
       "      <td>19</td>\n",
       "      <td>37</td>\n",
       "      <td>9</td>\n",
       "      <td>41</td>\n",
       "      <td>24</td>\n",
       "      <td>40</td>\n",
       "      <td>5</td>\n",
       "      <td>15</td>\n",
       "      <td>132</td>\n",
       "      <td>...</td>\n",
       "      <td>8</td>\n",
       "      <td>9</td>\n",
       "      <td>10</td>\n",
       "      <td>2</td>\n",
       "      <td>5</td>\n",
       "      <td>3</td>\n",
       "      <td>4</td>\n",
       "      <td>3</td>\n",
       "      <td>3</td>\n",
       "      <td>0</td>\n",
       "    </tr>\n",
       "  </tbody>\n",
       "</table>\n",
       "<p>5 rows × 239 columns</p>\n",
       "</div>"
      ],
      "text/plain": [
       "states       2020-07-01  2020-07-02  2020-07-03  2020-07-04  2020-07-05  \\\n",
       "state                                                                     \n",
       "Maharashtra           0        6328        6364        7074        6555   \n",
       "Kerala                0         160         211         240         225   \n",
       "Gujarat               0         681         687         712         725   \n",
       "Mizoram               0           2           0           2          22   \n",
       "Manipur               0          19          37           9          41   \n",
       "\n",
       "states       2020-07-06  2020-07-07  2020-07-08  2020-07-09  2020-07-10  ...  \\\n",
       "state                                                                    ...   \n",
       "Maharashtra        5368        5134        6603        6875        7862  ...   \n",
       "Kerala              193         272         301         339         416  ...   \n",
       "Gujarat             735         778         783         861         875  ...   \n",
       "Mizoram              11           1           5           0          23  ...   \n",
       "Manipur              24          40           5          15         132  ...   \n",
       "\n",
       "states       2021-02-15  2021-02-16  2021-02-17  2021-02-18  2021-02-19  \\\n",
       "state                                                                     \n",
       "Maharashtra        3365        3663        4787        5427        6112   \n",
       "Kerala             2884        4937        4892        4584        4505   \n",
       "Gujarat             249         263         278         263         266   \n",
       "Mizoram               0           3           1           3           6   \n",
       "Manipur               8           9          10           2           5   \n",
       "\n",
       "states       2021-02-20  2021-02-21  2021-02-22  2021-02-23  2021-02-24  \n",
       "state                                                                    \n",
       "Maharashtra        6281        6971        5210        6218        8807  \n",
       "Kerala             4650        4070        2212        4034        4106  \n",
       "Gujarat             258         283         315         348         380  \n",
       "Mizoram               2           2           0           1           3  \n",
       "Manipur               3           4           3           3           0  \n",
       "\n",
       "[5 rows x 239 columns]"
      ]
     },
     "execution_count": 18,
     "metadata": {},
     "output_type": "execute_result"
    }
   ],
   "source": [
    "#hide\n",
    "dft_ct_new_cases.head()"
   ]
  },
  {
   "cell_type": "code",
   "execution_count": 19,
   "id": "responsible-nightlife",
   "metadata": {
    "execution": {
     "iopub.execute_input": "2021-02-24T15:05:50.673376Z",
     "iopub.status.busy": "2021-02-24T15:05:50.654524Z",
     "iopub.status.idle": "2021-02-24T15:05:59.300880Z",
     "shell.execute_reply": "2021-02-24T15:05:59.301363Z"
    },
    "papermill": {
     "duration": 8.68094,
     "end_time": "2021-02-24T15:05:59.301512",
     "exception": false,
     "start_time": "2021-02-24T15:05:50.620572",
     "status": "completed"
    },
    "tags": []
   },
   "outputs": [
    {
     "data": {
      "image/png": "[encoded data removed]",
      "text/plain": [
       "<Figure size 1296x2016 with 11 Axes>"
      ]
     },
     "metadata": {
      "needs_background": "light"
     },
     "output_type": "display_data"
    }
   ],
   "source": [
    "#hide_input\n",
    "df = dft_ct_new_cases.copy()\n",
    "df.loc['Total'] = df.sum()\n",
    "n = 5\n",
    "ax = []\n",
    "fig = plt.figure(figsize = (18,28))\n",
    "gs = fig.add_gridspec(n+2, 5)\n",
    "# gs = fig.add_gridspec(2, 3)\n",
    "ax1 = fig.add_subplot(gs[0, :])\n",
    "ef = df.loc['Total'].rename_axis('date').reset_index()\n",
    "ef['date'] = ef['date'].astype('datetime64[ns]')\n",
    "ax1.bar(ef.date,ef.Total,alpha=0.3,color='#007acc')\n",
    "ax1.plot(ef.date,ef.Total , marker=\"o\", color='#007acc')\n",
    "ax1.xaxis.set_major_locator(mdates.WeekdayLocator())\n",
    "ax1.xaxis.set_major_formatter(mdates.DateFormatter('%b %d'))\n",
    "ax1.text(0.02, 0.5,'India daily case count', transform = ax1.transAxes, fontsize=25);\n",
    "ax1.spines['right'].set_visible(False)\n",
    "ax1.spines['top'].set_visible(False)\n",
    "\n",
    "ax2 = fig.add_subplot(gs[1,0])\n",
    "ef = df.loc['Maharashtra'].rename_axis('date').reset_index()\n",
    "ef['date'] = ef['date'].astype('datetime64[ns]')\n",
    "\n",
    "ax2.bar(ef.date, ef.Maharashtra,color = '#007acc',alpha=0.5)\n",
    "ax2.xaxis.set_major_locator(mdates.WeekdayLocator())\n",
    "ax2.xaxis.set_major_formatter(mdates.DateFormatter('%b %d'))\n",
    "ax2.set_xticks(ax2.get_xticks()[::3])\n",
    "maxyval = ef.Maharashtra.max()\n",
    "ax2.set_ylim([0,maxyval])\n",
    "ax2.text(0.05, 0.9,'Maharashtra', transform = ax2.transAxes, fontsize=20);\n",
    "ax2.spines['right'].set_visible(False)\n",
    "ax2.spines['top'].set_visible(False)\n",
    "\n",
    "\n",
    "ax3 = fig.add_subplot(gs[1,1])\n",
    "ef = df.loc['Tamil Nadu'].rename_axis('date').reset_index()\n",
    "ef['date'] = ef['date'].astype('datetime64[ns]')\n",
    "ax3.bar(ef.date, ef['Tamil Nadu'],color = '#007acc',alpha=0.5,)\n",
    "ax3.xaxis.set_major_locator(mdates.WeekdayLocator())\n",
    "ax3.xaxis.set_major_formatter(mdates.DateFormatter('%b %d'))\n",
    "ax3.set_xticks(ax3.get_xticks()[::3])\n",
    "ax3.text(0.05, 0.9,'Tamil Nadu', transform = ax3.transAxes, fontsize=20);\n",
    "ax3.spines['right'].set_visible(False)\n",
    "ax3.spines['top'].set_visible(False)\n",
    "\n",
    "ax5 = fig.add_subplot(gs[1,3])\n",
    "ef = df.loc['Telangana'].rename_axis('date').reset_index()\n",
    "ef['date'] = ef['date'].astype('datetime64[ns]')\n",
    "ax5.bar(ef.date, ef['Telangana'],color = '#007acc',alpha=0.5,)\n",
    "ax5.xaxis.set_major_locator(mdates.WeekdayLocator())\n",
    "ax5.xaxis.set_major_formatter(mdates.DateFormatter('%b %d'))\n",
    "ax5.set_xticks(ax5.get_xticks()[::3])\n",
    "ax5.text(0.05, 0.9,'Telangana', transform = ax5.transAxes, fontsize=20);\n",
    "ax5.spines['right'].set_visible(False)\n",
    "ax5.spines['top'].set_visible(False)\n",
    "\n",
    "ax6 = fig.add_subplot(gs[1,4])\n",
    "ef = df.loc['Andhra Pradesh'].rename_axis('date').reset_index()\n",
    "ef['date'] = ef['date'].astype('datetime64[ns]')\n",
    "ax6.bar(ef.date, ef['Andhra Pradesh'],color = '#007acc',alpha=0.5,)\n",
    "ax6.xaxis.set_major_locator(mdates.WeekdayLocator())\n",
    "ax6.xaxis.set_major_formatter(mdates.DateFormatter('%b %d'))\n",
    "ax6.set_xticks(ax6.get_xticks()[::3])\n",
    "ax6.text(0.05, 1,'Andhra Pradesh', transform = ax6.transAxes, fontsize=20);\n",
    "ax6.spines['right'].set_visible(False)\n",
    "ax6.spines['top'].set_visible(False)\n",
    "\n",
    "ax4 = fig.add_subplot(gs[1,2])\n",
    "ef = df.loc['Delhi'].rename_axis('date').reset_index()\n",
    "ef['date'] = ef['date'].astype('datetime64[ns]')\n",
    "ax4.bar(ef.date, ef.Delhi,color = '#007acc',alpha=0.5)\n",
    "ax4.set_xticks([])\n",
    "ax4.xaxis.set_major_locator(mdates.WeekdayLocator())\n",
    "ax4.xaxis.set_major_formatter(mdates.DateFormatter('%b %d'))\n",
    "ax4.set_xticks(ax4.get_xticks()[::3])\n",
    "ax4.spines['right'].set_visible(False)\n",
    "ax4.spines['top'].set_visible(False)\n",
    "\n",
    "ax4.text(0.05, 1,'Delhi', transform = ax4.transAxes, fontsize=20)\n",
    "\n",
    "for i in range(n):\n",
    "    \n",
    "    ax.append(fig.add_subplot(gs[i+2,:]))\n",
    "    ef = df.iloc[i+3].rename_axis('date').reset_index()\n",
    "    ef['date'] = ef['date'].astype('datetime64[ns]')\n",
    "    ax[i].bar(ef.date,ef.iloc[:,-1],color = '#007acc',alpha=0.3)\n",
    "    ax[i].plot(ef.date,ef.iloc[:,-1],marker='o',color='#007acc')\n",
    "    ax[i].text(0.02,0.5,f'{ef.columns.values[-1]}',transform = ax[i].transAxes, fontsize = 20);\n",
    "    ax[i].xaxis.set_major_locator(mdates.WeekdayLocator())\n",
    "    ax[i].xaxis.set_major_formatter(mdates.DateFormatter('%b %d'))\n",
    "    ax[i].set_ylim([0,7000])\n",
    "    ax[i].spines['right'].set_visible(False)\n",
    "    ax[i].spines['top'].set_visible(False)\n",
    "plt.tight_layout()\n"
   ]
  },
  {
   "cell_type": "code",
   "execution_count": 20,
   "id": "dress-forge",
   "metadata": {
    "execution": {
     "iopub.execute_input": "2021-02-24T15:05:59.365839Z",
     "iopub.status.busy": "2021-02-24T15:05:59.365168Z",
     "iopub.status.idle": "2021-02-24T15:05:59.367303Z",
     "shell.execute_reply": "2021-02-24T15:05:59.367767Z"
    },
    "papermill": {
     "duration": 0.039166,
     "end_time": "2021-02-24T15:05:59.367909",
     "exception": false,
     "start_time": "2021-02-24T15:05:59.328743",
     "status": "completed"
    },
    "tags": []
   },
   "outputs": [
    {
     "name": "stdout",
     "output_type": "stream",
     "text": [
      "                                   states    Cases  Deaths   PCases  PDeaths  Cases (+)  Deaths (+)  Fatality Rate\n",
      "                              Maharashtra  2121119   51937  2112312    51857       8807          80           2.45\n",
      "                                   Kerala  1045010    4137  1040904     4120       4106          17           0.40\n",
      "                                Karnataka   948849   12303   948849    12303          0           0           1.30\n",
      "                           Andhra Pradesh   889409    7168   889409     7168          0           0           0.81\n",
      "                               Tamil Nadu   849166   12472   849166    12472          0           0           1.47\n",
      "                                    Delhi   638173   10903   638173    10903          0           0           1.71\n",
      "                            Uttar Pradesh   602975    8718   602975     8718          0           0           1.45\n",
      "                              West Bengal   574099   10253   574099    10253          0           0           1.79\n",
      "                                   Odisha   336767    1967   336767     1967          0           0           0.58\n",
      "                                Rajasthan   319702    2785   319702     2785          0           0           0.87\n",
      "                             Chhattisgarh   311433    3809   311433     3809          0           0           1.22\n",
      "                                Telangana   298057    1629   298057     1629          0           0           0.55\n",
      "                                  Haryana   269967    3042   269967     3042          0           0           1.13\n",
      "                                  Gujarat   268147    4407   267767     4406        380           1           1.64\n",
      "                                    Bihar   262303    1537   262303     1537          0           0           0.59\n",
      "                           Madhya Pradesh   259967    3855   259967     3855          0           0           1.48\n",
      "                                    Assam   217427    1091   217427     1091          0           0           0.50\n",
      "                                   Punjab   179261    5779   179261     5779          0           0           3.22\n",
      "                        Jammu and Kashmir   126019    1955   126019     1955          0           0           1.55\n",
      "                                Jharkhand   119687    1086   119687     1086          0           0           0.91\n",
      "                              Uttarakhand    96773    1690    96773     1690          0           0           1.75\n",
      "                         Himachal Pradesh    58423     982    58423      982          0           0           1.68\n",
      "                                      Goa    54648     788    54648      788          0           0           1.44\n",
      "                               Puducherry    39628     665    39628      665          0           0           1.68\n",
      "                                  Tripura    33395     388    33395      388          0           0           1.16\n",
      "                                  Manipur    29243     373    29243      373          0           0           1.28\n",
      "                               Chandigarh    21500     350    21500      350          0           0           1.63\n",
      "                        Arunachal Pradesh    16836      56    16836       56          0           0           0.33\n",
      "                                Meghalaya    13955     148    13955      148          0           0           1.06\n",
      "                                 Nagaland    12192      91    12192       91          0           0           0.75\n",
      "                                   Ladakh     9796     130     9796      130          0           0           1.33\n",
      "                                   Sikkim     6132     135     6132      135          0           0           2.20\n",
      "              Andaman and Nicobar Islands     5016      62     5016       62          0           0           1.24\n",
      "                                  Mizoram     4413      10     4410       10          3           0           0.23\n",
      " Dadra and Nagar Haveli and Daman and Diu     3384       2     3384        2          0           0           0.06\n",
      "                              Lakshadweep      316       0      316        0          0           0           0.00\n"
     ]
    }
   ],
   "source": [
    "#hide_input\n",
    "print(df_table.to_string(index=False))"
   ]
  },
  {
   "cell_type": "code",
   "execution_count": null,
   "id": "quantitative-legend",
   "metadata": {
    "papermill": {
     "duration": 0.025911,
     "end_time": "2021-02-24T15:05:59.419489",
     "exception": false,
     "start_time": "2021-02-24T15:05:59.393578",
     "status": "completed"
    },
    "tags": []
   },
   "outputs": [],
   "source": []
  },
  {
   "cell_type": "code",
   "execution_count": null,
   "id": "distant-acoustic",
   "metadata": {
    "papermill": {
     "duration": 0.025529,
     "end_time": "2021-02-24T15:05:59.472512",
     "exception": false,
     "start_time": "2021-02-24T15:05:59.446983",
     "status": "completed"
    },
    "tags": []
   },
   "outputs": [],
   "source": []
  }
 ],
 "metadata": {
  "kernelspec": {
   "display_name": "Python 3",
   "language": "python",
   "name": "python3"
  },
  "language_info": {
   "codemirror_mode": {
    "name": "ipython",
    "version": 3
   },
   "file_extension": ".py",
   "mimetype": "text/x-python",
   "name": "python",
   "nbconvert_exporter": "python",
   "pygments_lexer": "ipython3",
   "version": "3.6.13"
  },
  "papermill": {
   "duration": 20.35766,
   "end_time": "2021-02-24T15:06:00.765937",
   "environment_variables": {},
   "exception": null,
   "input_path": "latest.ipynb",
   "output_path": "latest.ipynb",
   "parameters": {},
   "start_time": "2021-02-24T15:05:40.408277",
   "version": "2.1.2"
  }
 },
 "nbformat": 4,
 "nbformat_minor": 5
}