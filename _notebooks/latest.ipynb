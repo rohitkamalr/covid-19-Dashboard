{
 "cells": [
  {
   "cell_type": "markdown",
   "id": "colored-stack",
   "metadata": {
    "papermill": {
     "duration": 0.021255,
     "end_time": "2021-03-14T13:51:39.396145",
     "exception": false,
     "start_time": "2021-03-14T13:51:39.374890",
     "status": "completed"
    },
    "tags": []
   },
   "source": [
    "# Latest COVID-19 India Matplotlib Overview"
   ]
  },
  {
   "cell_type": "code",
   "execution_count": 1,
   "id": "light-proportion",
   "metadata": {
    "execution": {
     "iopub.execute_input": "2021-03-14T13:51:39.442448Z",
     "iopub.status.busy": "2021-03-14T13:51:39.441681Z",
     "iopub.status.idle": "2021-03-14T13:51:40.002806Z",
     "shell.execute_reply": "2021-03-14T13:51:40.002317Z"
    },
    "papermill": {
     "duration": 0.589691,
     "end_time": "2021-03-14T13:51:40.002942",
     "exception": false,
     "start_time": "2021-03-14T13:51:39.413251",
     "status": "completed"
    },
    "tags": []
   },
   "outputs": [],
   "source": [
    "#hide\n",
    "import pandas as pd\n",
    "import numpy as np\n",
    "import requests\n",
    "import json\n",
    "import matplotlib.pyplot as plt\n",
    "import matplotlib.dates as mdates\n",
    "import matplotlib as mpl\n",
    "from IPython.core.display import display,HTML\n",
    "%matplotlib inline\n",
    "from datetime import date"
   ]
  },
  {
   "cell_type": "code",
   "execution_count": 2,
   "id": "greenhouse-shooting",
   "metadata": {
    "execution": {
     "iopub.execute_input": "2021-03-14T13:51:40.039145Z",
     "iopub.status.busy": "2021-03-14T13:51:40.038351Z",
     "iopub.status.idle": "2021-03-14T13:51:40.272474Z",
     "shell.execute_reply": "2021-03-14T13:51:40.273123Z"
    },
    "papermill": {
     "duration": 0.255387,
     "end_time": "2021-03-14T13:51:40.273306",
     "exception": false,
     "start_time": "2021-03-14T13:51:40.017919",
     "status": "completed"
    },
    "tags": []
   },
   "outputs": [],
   "source": [
    "#hide\n",
    "df  = pd.read_csv('https://api.covid19india.org/csv/latest/states.csv')\n",
    "df = df[['Date','State','Confirmed','Deceased']]\n",
    "df = df.rename(columns={'Confirmed':'Cases', \"Deceased\":'Deaths'})\n",
    "df_cases = df[[\"Date\",'State','Cases']]\n",
    "df_deaths = df[['Date','State','Deaths']]\n",
    "df_cases1 = df_cases.groupby('Date')\n",
    "df_deaths1= df_deaths.groupby('Date')"
   ]
  },
  {
   "cell_type": "code",
   "execution_count": 3,
   "id": "hybrid-cathedral",
   "metadata": {
    "execution": {
     "iopub.execute_input": "2021-03-14T13:51:40.319489Z",
     "iopub.status.busy": "2021-03-14T13:51:40.318878Z",
     "iopub.status.idle": "2021-03-14T13:51:40.338266Z",
     "shell.execute_reply": "2021-03-14T13:51:40.337769Z"
    },
    "papermill": {
     "duration": 0.045218,
     "end_time": "2021-03-14T13:51:40.338392",
     "exception": false,
     "start_time": "2021-03-14T13:51:40.293174",
     "status": "completed"
    },
    "tags": []
   },
   "outputs": [],
   "source": [
    "#hide\n",
    "df_snap = pd.read_csv('data/SnapshotCases-28-July.csv')\n",
    "arr_states = df_snap['states'].unique()\n",
    "arr_dates = df['Date'].unique()\n",
    "df_snap = df_snap.set_index('states')"
   ]
  },
  {
   "cell_type": "code",
   "execution_count": 4,
   "id": "interior-belfast",
   "metadata": {
    "execution": {
     "iopub.execute_input": "2021-03-14T13:51:40.380891Z",
     "iopub.status.busy": "2021-03-14T13:51:40.380289Z",
     "iopub.status.idle": "2021-03-14T13:51:40.383436Z",
     "shell.execute_reply": "2021-03-14T13:51:40.384098Z"
    },
    "papermill": {
     "duration": 0.027678,
     "end_time": "2021-03-14T13:51:40.384230",
     "exception": false,
     "start_time": "2021-03-14T13:51:40.356552",
     "status": "completed"
    },
    "tags": []
   },
   "outputs": [
    {
     "data": {
      "text/plain": [
       "array(['Andaman and Nicobar Islands', 'Andhra Pradesh',\n",
       "       'Arunachal Pradesh', 'Assam', 'Bihar', 'Chandigarh',\n",
       "       'Dadra and Nagar Haveli and Daman and Diu', 'Delhi', 'Goa',\n",
       "       'Gujarat', 'Haryana', 'Himachal Pradesh', 'Jammu and Kashmir',\n",
       "       'Jharkhand', 'Karnataka', 'Kerala', 'Lakshadweep',\n",
       "       'Madhya Pradesh', 'Maharashtra', 'Manipur', 'Meghalaya', 'Mizoram',\n",
       "       'Nagaland', 'Odisha', 'Puducherry', 'Punjab', 'Rajasthan',\n",
       "       'Sikkim', 'Tamil Nadu', 'Telangana', 'Tripura', 'Uttar Pradesh',\n",
       "       'West Bengal', 'Chhattisgarh', 'Ladakh', 'Uttarakhand'],\n",
       "      dtype=object)"
      ]
     },
     "execution_count": 4,
     "metadata": {},
     "output_type": "execute_result"
    }
   ],
   "source": [
    "#hide\n",
    "arr_states[-9] = 'Puducherry'\n",
    "arr_states[-10] = 'Odisha'\n",
    "arr_states[6] = 'Dadra and Nagar Haveli and Daman and Diu'\n",
    "arr_states = np.append(arr_states,np.array(['Chhattisgarh','Ladakh','Uttarakhand']))\n",
    "arr_states"
   ]
  },
  {
   "cell_type": "code",
   "execution_count": 5,
   "id": "behind-manner",
   "metadata": {
    "execution": {
     "iopub.execute_input": "2021-03-14T13:51:40.437353Z",
     "iopub.status.busy": "2021-03-14T13:51:40.436752Z",
     "iopub.status.idle": "2021-03-14T13:51:40.446496Z",
     "shell.execute_reply": "2021-03-14T13:51:40.445966Z"
    },
    "papermill": {
     "duration": 0.041667,
     "end_time": "2021-03-14T13:51:40.446613",
     "exception": false,
     "start_time": "2021-03-14T13:51:40.404946",
     "status": "completed"
    },
    "tags": []
   },
   "outputs": [],
   "source": [
    "#hide\n",
    "dates = []\n",
    "for i in arr_dates:\n",
    "    if i>='2020-07-01':\n",
    "        dates.append(i)\n",
    "dict = {'states':dates}\n",
    "for i in arr_states:\n",
    "    dict[i] = [0]*len(dates)\n",
    "dft_cases = pd.DataFrame(dict)\n",
    "dft_deaths = pd.DataFrame(dict)\n"
   ]
  },
  {
   "cell_type": "code",
   "execution_count": 6,
   "id": "simplified-peter",
   "metadata": {
    "execution": {
     "iopub.execute_input": "2021-03-14T13:51:40.491428Z",
     "iopub.status.busy": "2021-03-14T13:51:40.490274Z",
     "iopub.status.idle": "2021-03-14T13:51:44.680225Z",
     "shell.execute_reply": "2021-03-14T13:51:44.679727Z"
    },
    "papermill": {
     "duration": 4.21424,
     "end_time": "2021-03-14T13:51:44.680364",
     "exception": false,
     "start_time": "2021-03-14T13:51:40.466124",
     "status": "completed"
    },
    "tags": []
   },
   "outputs": [],
   "source": [
    "#hide\n",
    "for i in range(len(dates)):\n",
    "    df1_deaths = df_deaths1.get_group(dates[i])\n",
    "    for j in range(len(df1_deaths.index)):\n",
    "        if df1_deaths.iloc[j,1] in arr_states:\n",
    "            dft_deaths.loc[i,df1_deaths.iloc[j,1]] = df1_deaths.iloc[j,2]\n",
    "dft_deaths = dft_deaths.set_index('states')"
   ]
  },
  {
   "cell_type": "code",
   "execution_count": 7,
   "id": "geological-welding",
   "metadata": {
    "execution": {
     "iopub.execute_input": "2021-03-14T13:51:44.721314Z",
     "iopub.status.busy": "2021-03-14T13:51:44.720714Z",
     "iopub.status.idle": "2021-03-14T13:51:48.825573Z",
     "shell.execute_reply": "2021-03-14T13:51:48.824553Z"
    },
    "papermill": {
     "duration": 4.128754,
     "end_time": "2021-03-14T13:51:48.825695",
     "exception": false,
     "start_time": "2021-03-14T13:51:44.696941",
     "status": "completed"
    },
    "tags": []
   },
   "outputs": [],
   "source": [
    "#hide\n",
    "for i in range(len(dates)):\n",
    "    df1_cases = df_cases1.get_group(dates[i])\n",
    "    for j in range(len(df1_cases.index)):\n",
    "        if df1_cases.iloc[j,1] in arr_states:\n",
    "            dft_cases.loc[i,df1_cases.iloc[j,1]] = df1_cases.iloc[j,2]\n",
    "dft_cases = dft_cases.set_index('states')"
   ]
  },
  {
   "cell_type": "code",
   "execution_count": 8,
   "id": "binary-ratio",
   "metadata": {
    "execution": {
     "iopub.execute_input": "2021-03-14T13:51:48.869761Z",
     "iopub.status.busy": "2021-03-14T13:51:48.869004Z",
     "iopub.status.idle": "2021-03-14T13:51:48.871299Z",
     "shell.execute_reply": "2021-03-14T13:51:48.871772Z"
    },
    "papermill": {
     "duration": 0.025417,
     "end_time": "2021-03-14T13:51:48.871959",
     "exception": false,
     "start_time": "2021-03-14T13:51:48.846542",
     "status": "completed"
    },
    "tags": []
   },
   "outputs": [],
   "source": [
    "#hide\n",
    "dft_cases = dft_cases.T\n",
    "dft_deaths = dft_deaths.T\n",
    "dt_today = dates[-1]\n",
    "dt_yday = dates[-2]"
   ]
  },
  {
   "cell_type": "code",
   "execution_count": 9,
   "id": "boolean-calculator",
   "metadata": {
    "execution": {
     "iopub.execute_input": "2021-03-14T13:51:48.912143Z",
     "iopub.status.busy": "2021-03-14T13:51:48.911517Z",
     "iopub.status.idle": "2021-03-14T13:51:48.917119Z",
     "shell.execute_reply": "2021-03-14T13:51:48.916663Z"
    },
    "papermill": {
     "duration": 0.028251,
     "end_time": "2021-03-14T13:51:48.917234",
     "exception": false,
     "start_time": "2021-03-14T13:51:48.888983",
     "status": "completed"
    },
    "tags": []
   },
   "outputs": [],
   "source": [
    "#hide\n",
    "dft_cases = dft_cases.reset_index()\n",
    "dft_deaths = dft_deaths.reset_index()\n",
    "dft_cases = dft_cases.rename(columns = {'index':'state'})\n",
    "dft_deaths = dft_deaths.rename(columns = {'index':'state'})"
   ]
  },
  {
   "cell_type": "code",
   "execution_count": 10,
   "id": "invisible-johnston",
   "metadata": {
    "execution": {
     "iopub.execute_input": "2021-03-14T13:51:48.974499Z",
     "iopub.status.busy": "2021-03-14T13:51:48.973864Z",
     "iopub.status.idle": "2021-03-14T13:51:48.976077Z",
     "shell.execute_reply": "2021-03-14T13:51:48.975571Z"
    },
    "papermill": {
     "duration": 0.033139,
     "end_time": "2021-03-14T13:51:48.976231",
     "exception": false,
     "start_time": "2021-03-14T13:51:48.943092",
     "status": "completed"
    },
    "tags": []
   },
   "outputs": [],
   "source": [
    "#hide\n",
    "dfc_cases = dft_cases.groupby('state')[dt_today].sum()\n",
    "dfc_deaths = dft_deaths.groupby('state')[dt_today].sum()\n",
    "dfp_cases = dft_cases.groupby('state')[dt_yday].sum()\n",
    "dfp_deaths = dft_deaths.groupby('state')[dt_yday].sum()"
   ]
  },
  {
   "cell_type": "code",
   "execution_count": 11,
   "id": "measured-great",
   "metadata": {
    "execution": {
     "iopub.execute_input": "2021-03-14T13:51:49.029615Z",
     "iopub.status.busy": "2021-03-14T13:51:49.026022Z",
     "iopub.status.idle": "2021-03-14T13:51:49.033434Z",
     "shell.execute_reply": "2021-03-14T13:51:49.032813Z"
    },
    "papermill": {
     "duration": 0.039482,
     "end_time": "2021-03-14T13:51:49.033583",
     "exception": false,
     "start_time": "2021-03-14T13:51:48.994101",
     "status": "completed"
    },
    "tags": []
   },
   "outputs": [
    {
     "data": {
      "text/html": [
       "<div>\n",
       "<style scoped>\n",
       "    .dataframe tbody tr th:only-of-type {\n",
       "        vertical-align: middle;\n",
       "    }\n",
       "\n",
       "    .dataframe tbody tr th {\n",
       "        vertical-align: top;\n",
       "    }\n",
       "\n",
       "    .dataframe thead th {\n",
       "        text-align: right;\n",
       "    }\n",
       "</style>\n",
       "<table border=\"1\" class=\"dataframe\">\n",
       "  <thead>\n",
       "    <tr style=\"text-align: right;\">\n",
       "      <th></th>\n",
       "      <th>states</th>\n",
       "      <th>Cases</th>\n",
       "      <th>Deaths</th>\n",
       "      <th>PCases</th>\n",
       "      <th>PDeaths</th>\n",
       "    </tr>\n",
       "  </thead>\n",
       "  <tbody>\n",
       "    <tr>\n",
       "      <th>0</th>\n",
       "      <td>Maharashtra</td>\n",
       "      <td>2297793</td>\n",
       "      <td>52811</td>\n",
       "      <td>2297793</td>\n",
       "      <td>52811</td>\n",
       "    </tr>\n",
       "    <tr>\n",
       "      <th>1</th>\n",
       "      <td>Kerala</td>\n",
       "      <td>1089479</td>\n",
       "      <td>4382</td>\n",
       "      <td>1089479</td>\n",
       "      <td>4382</td>\n",
       "    </tr>\n",
       "    <tr>\n",
       "      <th>2</th>\n",
       "      <td>Karnataka</td>\n",
       "      <td>959338</td>\n",
       "      <td>12387</td>\n",
       "      <td>959338</td>\n",
       "      <td>12387</td>\n",
       "    </tr>\n",
       "    <tr>\n",
       "      <th>3</th>\n",
       "      <td>Andhra Pradesh</td>\n",
       "      <td>891563</td>\n",
       "      <td>7182</td>\n",
       "      <td>891563</td>\n",
       "      <td>7182</td>\n",
       "    </tr>\n",
       "    <tr>\n",
       "      <th>4</th>\n",
       "      <td>Tamil Nadu</td>\n",
       "      <td>858967</td>\n",
       "      <td>12543</td>\n",
       "      <td>858967</td>\n",
       "      <td>12543</td>\n",
       "    </tr>\n",
       "  </tbody>\n",
       "</table>\n",
       "</div>"
      ],
      "text/plain": [
       "           states    Cases  Deaths   PCases  PDeaths\n",
       "0     Maharashtra  2297793   52811  2297793    52811\n",
       "1          Kerala  1089479    4382  1089479     4382\n",
       "2       Karnataka   959338   12387   959338    12387\n",
       "3  Andhra Pradesh   891563    7182   891563     7182\n",
       "4      Tamil Nadu   858967   12543   858967    12543"
      ]
     },
     "execution_count": 11,
     "metadata": {},
     "output_type": "execute_result"
    }
   ],
   "source": [
    "#hide\n",
    "df_table = pd.DataFrame({'states': dfc_cases.index, 'Cases': dfc_cases.values, 'Deaths': dfc_deaths.values, 'PCases': dfp_cases.values, 'PDeaths': dfp_deaths.values}).set_index('states')\n",
    "df_table = df_table.sort_values(by = ['Cases','Deaths'], ascending = [False, False])\n",
    "df_table = df_table.reset_index()\n",
    "df_table.head()"
   ]
  },
  {
   "cell_type": "code",
   "execution_count": 12,
   "id": "found-montreal",
   "metadata": {
    "execution": {
     "iopub.execute_input": "2021-03-14T13:51:49.071733Z",
     "iopub.status.busy": "2021-03-14T13:51:49.071141Z",
     "iopub.status.idle": "2021-03-14T13:51:49.080144Z",
     "shell.execute_reply": "2021-03-14T13:51:49.079639Z"
    },
    "papermill": {
     "duration": 0.030155,
     "end_time": "2021-03-14T13:51:49.080262",
     "exception": false,
     "start_time": "2021-03-14T13:51:49.050107",
     "status": "completed"
    },
    "tags": []
   },
   "outputs": [],
   "source": [
    "#hide\n",
    "for c in 'Cases, Deaths'.split(', '):\n",
    "    df_table[f'{c} (+)'] = (df_table[c] - df_table[f'P{c}']).clip(0)\n",
    "df_table['Fatality Rate'] = (100* df_table['Deaths']/ df_table['Cases']).round(2)"
   ]
  },
  {
   "cell_type": "code",
   "execution_count": 13,
   "id": "minus-savage",
   "metadata": {
    "execution": {
     "iopub.execute_input": "2021-03-14T13:51:49.123773Z",
     "iopub.status.busy": "2021-03-14T13:51:49.123248Z",
     "iopub.status.idle": "2021-03-14T13:51:49.126405Z",
     "shell.execute_reply": "2021-03-14T13:51:49.125761Z"
    },
    "papermill": {
     "duration": 0.028925,
     "end_time": "2021-03-14T13:51:49.126516",
     "exception": false,
     "start_time": "2021-03-14T13:51:49.097591",
     "status": "completed"
    },
    "tags": []
   },
   "outputs": [
    {
     "data": {
      "text/html": [
       "<div>\n",
       "<style scoped>\n",
       "    .dataframe tbody tr th:only-of-type {\n",
       "        vertical-align: middle;\n",
       "    }\n",
       "\n",
       "    .dataframe tbody tr th {\n",
       "        vertical-align: top;\n",
       "    }\n",
       "\n",
       "    .dataframe thead th {\n",
       "        text-align: right;\n",
       "    }\n",
       "</style>\n",
       "<table border=\"1\" class=\"dataframe\">\n",
       "  <thead>\n",
       "    <tr style=\"text-align: right;\">\n",
       "      <th></th>\n",
       "      <th>states</th>\n",
       "      <th>Cases</th>\n",
       "      <th>Deaths</th>\n",
       "      <th>PCases</th>\n",
       "      <th>PDeaths</th>\n",
       "      <th>Cases (+)</th>\n",
       "      <th>Deaths (+)</th>\n",
       "      <th>Fatality Rate</th>\n",
       "    </tr>\n",
       "  </thead>\n",
       "  <tbody>\n",
       "    <tr>\n",
       "      <th>0</th>\n",
       "      <td>Maharashtra</td>\n",
       "      <td>2297793</td>\n",
       "      <td>52811</td>\n",
       "      <td>2297793</td>\n",
       "      <td>52811</td>\n",
       "      <td>0</td>\n",
       "      <td>0</td>\n",
       "      <td>2.30</td>\n",
       "    </tr>\n",
       "    <tr>\n",
       "      <th>1</th>\n",
       "      <td>Kerala</td>\n",
       "      <td>1089479</td>\n",
       "      <td>4382</td>\n",
       "      <td>1089479</td>\n",
       "      <td>4382</td>\n",
       "      <td>0</td>\n",
       "      <td>0</td>\n",
       "      <td>0.40</td>\n",
       "    </tr>\n",
       "    <tr>\n",
       "      <th>2</th>\n",
       "      <td>Karnataka</td>\n",
       "      <td>959338</td>\n",
       "      <td>12387</td>\n",
       "      <td>959338</td>\n",
       "      <td>12387</td>\n",
       "      <td>0</td>\n",
       "      <td>0</td>\n",
       "      <td>1.29</td>\n",
       "    </tr>\n",
       "    <tr>\n",
       "      <th>3</th>\n",
       "      <td>Andhra Pradesh</td>\n",
       "      <td>891563</td>\n",
       "      <td>7182</td>\n",
       "      <td>891563</td>\n",
       "      <td>7182</td>\n",
       "      <td>0</td>\n",
       "      <td>0</td>\n",
       "      <td>0.81</td>\n",
       "    </tr>\n",
       "    <tr>\n",
       "      <th>4</th>\n",
       "      <td>Tamil Nadu</td>\n",
       "      <td>858967</td>\n",
       "      <td>12543</td>\n",
       "      <td>858967</td>\n",
       "      <td>12543</td>\n",
       "      <td>0</td>\n",
       "      <td>0</td>\n",
       "      <td>1.46</td>\n",
       "    </tr>\n",
       "  </tbody>\n",
       "</table>\n",
       "</div>"
      ],
      "text/plain": [
       "           states    Cases  Deaths   PCases  PDeaths  Cases (+)  Deaths (+)  \\\n",
       "0     Maharashtra  2297793   52811  2297793    52811          0           0   \n",
       "1          Kerala  1089479    4382  1089479     4382          0           0   \n",
       "2       Karnataka   959338   12387   959338    12387          0           0   \n",
       "3  Andhra Pradesh   891563    7182   891563     7182          0           0   \n",
       "4      Tamil Nadu   858967   12543   858967    12543          0           0   \n",
       "\n",
       "   Fatality Rate  \n",
       "0           2.30  \n",
       "1           0.40  \n",
       "2           1.29  \n",
       "3           0.81  \n",
       "4           1.46  "
      ]
     },
     "execution_count": 13,
     "metadata": {},
     "output_type": "execute_result"
    }
   ],
   "source": [
    "#hide\n",
    "df_table.head()"
   ]
  },
  {
   "cell_type": "code",
   "execution_count": 14,
   "id": "false-peter",
   "metadata": {
    "execution": {
     "iopub.execute_input": "2021-03-14T13:51:49.167650Z",
     "iopub.status.busy": "2021-03-14T13:51:49.167108Z",
     "iopub.status.idle": "2021-03-14T13:51:49.184636Z",
     "shell.execute_reply": "2021-03-14T13:51:49.184091Z"
    },
    "papermill": {
     "duration": 0.040868,
     "end_time": "2021-03-14T13:51:49.184805",
     "exception": false,
     "start_time": "2021-03-14T13:51:49.143937",
     "status": "completed"
    },
    "tags": []
   },
   "outputs": [
    {
     "data": {
      "text/plain": [
       "{'updated': '2021-03-14',\n",
       " 'since': '2021-03-13',\n",
       " 'Cases': 11359368,\n",
       " 'PCases': 11358645,\n",
       " 'Deaths': 158646,\n",
       " 'PDeaths': 158642,\n",
       " 'Cases (+)': 723,\n",
       " 'Deaths (+)': 4}"
      ]
     },
     "execution_count": 14,
     "metadata": {},
     "output_type": "execute_result"
    }
   ],
   "source": [
    "#hide\n",
    "summary = {'updated':dates[-1], 'since':dates[-2]}\n",
    "list_names = ['Cases', 'PCases', 'Deaths', 'PDeaths', 'Cases (+)', 'Deaths (+)']\n",
    "for name in list_names:\n",
    "    summary[name] = df_table.sum()[name]\n",
    "summary"
   ]
  },
  {
   "cell_type": "code",
   "execution_count": 15,
   "id": "packed-viewer",
   "metadata": {
    "execution": {
     "iopub.execute_input": "2021-03-14T13:51:49.232185Z",
     "iopub.status.busy": "2021-03-14T13:51:49.231568Z",
     "iopub.status.idle": "2021-03-14T13:51:49.233945Z",
     "shell.execute_reply": "2021-03-14T13:51:49.233443Z"
    },
    "papermill": {
     "duration": 0.025457,
     "end_time": "2021-03-14T13:51:49.234054",
     "exception": false,
     "start_time": "2021-03-14T13:51:49.208597",
     "status": "completed"
    },
    "tags": []
   },
   "outputs": [],
   "source": [
    "#hide\n",
    "overview = '''\n",
    "<!-- #######  HTML!! #########-->\n",
    "<h1 style=\"color: #5e9ca0; text-align: center;\">India</h1>\n",
    "<p style=\"text-align: center;\">Last update: <strong>{update}</strong></p>\n",
    "<p style=\"text-align: center;\">Confirmed cases:</p>\n",
    "<p style=\"text-align: center;font-size:24px;\">{cases} (<span style=\"color: #ff0000;\">+{new}</span>)</p>\n",
    "<p style=\"text-align: center;\">Confirmed deaths:</p>\n",
    "<p style=\"text-align: center;font-size:24px;\">{deaths} (<span style=\"color: #ff0000;\">+{dnew}</span>)</p>\n",
    "'''"
   ]
  },
  {
   "cell_type": "code",
   "execution_count": 16,
   "id": "phantom-lover",
   "metadata": {
    "execution": {
     "iopub.execute_input": "2021-03-14T13:51:49.280553Z",
     "iopub.status.busy": "2021-03-14T13:51:49.279895Z",
     "iopub.status.idle": "2021-03-14T13:51:49.283871Z",
     "shell.execute_reply": "2021-03-14T13:51:49.283386Z"
    },
    "papermill": {
     "duration": 0.027471,
     "end_time": "2021-03-14T13:51:49.283978",
     "exception": false,
     "start_time": "2021-03-14T13:51:49.256507",
     "status": "completed"
    },
    "tags": []
   },
   "outputs": [
    {
     "data": {
      "text/html": [
       "\n",
       "<!-- #######  HTML!! #########-->\n",
       "<h1 style=\"color: #5e9ca0; text-align: center;\">India</h1>\n",
       "<p style=\"text-align: center;\">Last update: <strong>2021-03-14</strong></p>\n",
       "<p style=\"text-align: center;\">Confirmed cases:</p>\n",
       "<p style=\"text-align: center;font-size:24px;\">11359368 (<span style=\"color: #ff0000;\">+723</span>)</p>\n",
       "<p style=\"text-align: center;\">Confirmed deaths:</p>\n",
       "<p style=\"text-align: center;font-size:24px;\">158646 (<span style=\"color: #ff0000;\">+4</span>)</p>\n"
      ],
      "text/plain": [
       "<IPython.core.display.HTML object>"
      ]
     },
     "metadata": {},
     "output_type": "display_data"
    }
   ],
   "source": [
    "#hide_input\n",
    "update = summary['updated']\n",
    "cases = summary['Cases']\n",
    "new = summary['Cases (+)']\n",
    "deaths = summary['Deaths']\n",
    "dnew = summary['Deaths (+)']\n",
    "\n",
    "html = HTML(overview.format(update=update, cases=cases,new=new,deaths=deaths,dnew=dnew))\n",
    "\n",
    "display(html)"
   ]
  },
  {
   "cell_type": "code",
   "execution_count": 17,
   "id": "sealed-reset",
   "metadata": {
    "execution": {
     "iopub.execute_input": "2021-03-14T13:51:49.323387Z",
     "iopub.status.busy": "2021-03-14T13:51:49.322841Z",
     "iopub.status.idle": "2021-03-14T13:51:49.330366Z",
     "shell.execute_reply": "2021-03-14T13:51:49.329845Z"
    },
    "papermill": {
     "duration": 0.029709,
     "end_time": "2021-03-14T13:51:49.330484",
     "exception": false,
     "start_time": "2021-03-14T13:51:49.300775",
     "status": "completed"
    },
    "tags": []
   },
   "outputs": [],
   "source": [
    "#hide\n",
    "dt_cols = list(dft_cases.columns[1:])\n",
    "dft_ct_new_cases = dft_cases.groupby('state')[dt_cols].sum().diff(axis=1).fillna(0).astype(int)\n",
    "dft_ct_new_cases.sort_values(by = dates[-1], ascending = False,inplace = True)"
   ]
  },
  {
   "cell_type": "code",
   "execution_count": 18,
   "id": "designed-constant",
   "metadata": {
    "execution": {
     "iopub.execute_input": "2021-03-14T13:51:49.390711Z",
     "iopub.status.busy": "2021-03-14T13:51:49.390156Z",
     "iopub.status.idle": "2021-03-14T13:51:49.393684Z",
     "shell.execute_reply": "2021-03-14T13:51:49.393215Z"
    },
    "papermill": {
     "duration": 0.042683,
     "end_time": "2021-03-14T13:51:49.393791",
     "exception": false,
     "start_time": "2021-03-14T13:51:49.351108",
     "status": "completed"
    },
    "tags": []
   },
   "outputs": [
    {
     "data": {
      "text/html": [
       "<div>\n",
       "<style scoped>\n",
       "    .dataframe tbody tr th:only-of-type {\n",
       "        vertical-align: middle;\n",
       "    }\n",
       "\n",
       "    .dataframe tbody tr th {\n",
       "        vertical-align: top;\n",
       "    }\n",
       "\n",
       "    .dataframe thead th {\n",
       "        text-align: right;\n",
       "    }\n",
       "</style>\n",
       "<table border=\"1\" class=\"dataframe\">\n",
       "  <thead>\n",
       "    <tr style=\"text-align: right;\">\n",
       "      <th>states</th>\n",
       "      <th>2020-07-01</th>\n",
       "      <th>2020-07-02</th>\n",
       "      <th>2020-07-03</th>\n",
       "      <th>2020-07-04</th>\n",
       "      <th>2020-07-05</th>\n",
       "      <th>2020-07-06</th>\n",
       "      <th>2020-07-07</th>\n",
       "      <th>2020-07-08</th>\n",
       "      <th>2020-07-09</th>\n",
       "      <th>2020-07-10</th>\n",
       "      <th>...</th>\n",
       "      <th>2021-03-05</th>\n",
       "      <th>2021-03-06</th>\n",
       "      <th>2021-03-07</th>\n",
       "      <th>2021-03-08</th>\n",
       "      <th>2021-03-09</th>\n",
       "      <th>2021-03-10</th>\n",
       "      <th>2021-03-11</th>\n",
       "      <th>2021-03-12</th>\n",
       "      <th>2021-03-13</th>\n",
       "      <th>2021-03-14</th>\n",
       "    </tr>\n",
       "    <tr>\n",
       "      <th>state</th>\n",
       "      <th></th>\n",
       "      <th></th>\n",
       "      <th></th>\n",
       "      <th></th>\n",
       "      <th></th>\n",
       "      <th></th>\n",
       "      <th></th>\n",
       "      <th></th>\n",
       "      <th></th>\n",
       "      <th></th>\n",
       "      <th></th>\n",
       "      <th></th>\n",
       "      <th></th>\n",
       "      <th></th>\n",
       "      <th></th>\n",
       "      <th></th>\n",
       "      <th></th>\n",
       "      <th></th>\n",
       "      <th></th>\n",
       "      <th></th>\n",
       "      <th></th>\n",
       "    </tr>\n",
       "  </thead>\n",
       "  <tbody>\n",
       "    <tr>\n",
       "      <th>Delhi</th>\n",
       "      <td>0</td>\n",
       "      <td>2373</td>\n",
       "      <td>2520</td>\n",
       "      <td>2505</td>\n",
       "      <td>2244</td>\n",
       "      <td>1379</td>\n",
       "      <td>2008</td>\n",
       "      <td>2033</td>\n",
       "      <td>2187</td>\n",
       "      <td>2089</td>\n",
       "      <td>...</td>\n",
       "      <td>312</td>\n",
       "      <td>321</td>\n",
       "      <td>286</td>\n",
       "      <td>239</td>\n",
       "      <td>320</td>\n",
       "      <td>370</td>\n",
       "      <td>409</td>\n",
       "      <td>431</td>\n",
       "      <td>419</td>\n",
       "      <td>407</td>\n",
       "    </tr>\n",
       "    <tr>\n",
       "      <th>Telangana</th>\n",
       "      <td>0</td>\n",
       "      <td>1213</td>\n",
       "      <td>1892</td>\n",
       "      <td>1850</td>\n",
       "      <td>1590</td>\n",
       "      <td>1831</td>\n",
       "      <td>1879</td>\n",
       "      <td>1924</td>\n",
       "      <td>1410</td>\n",
       "      <td>1278</td>\n",
       "      <td>...</td>\n",
       "      <td>166</td>\n",
       "      <td>170</td>\n",
       "      <td>158</td>\n",
       "      <td>111</td>\n",
       "      <td>142</td>\n",
       "      <td>189</td>\n",
       "      <td>194</td>\n",
       "      <td>181</td>\n",
       "      <td>216</td>\n",
       "      <td>228</td>\n",
       "    </tr>\n",
       "    <tr>\n",
       "      <th>Odisha</th>\n",
       "      <td>0</td>\n",
       "      <td>229</td>\n",
       "      <td>561</td>\n",
       "      <td>495</td>\n",
       "      <td>469</td>\n",
       "      <td>456</td>\n",
       "      <td>571</td>\n",
       "      <td>527</td>\n",
       "      <td>577</td>\n",
       "      <td>755</td>\n",
       "      <td>...</td>\n",
       "      <td>91</td>\n",
       "      <td>54</td>\n",
       "      <td>70</td>\n",
       "      <td>59</td>\n",
       "      <td>57</td>\n",
       "      <td>69</td>\n",
       "      <td>63</td>\n",
       "      <td>64</td>\n",
       "      <td>65</td>\n",
       "      <td>71</td>\n",
       "    </tr>\n",
       "    <tr>\n",
       "      <th>Puducherry</th>\n",
       "      <td>0</td>\n",
       "      <td>63</td>\n",
       "      <td>22</td>\n",
       "      <td>80</td>\n",
       "      <td>42</td>\n",
       "      <td>65</td>\n",
       "      <td>30</td>\n",
       "      <td>110</td>\n",
       "      <td>49</td>\n",
       "      <td>72</td>\n",
       "      <td>...</td>\n",
       "      <td>30</td>\n",
       "      <td>19</td>\n",
       "      <td>25</td>\n",
       "      <td>14</td>\n",
       "      <td>26</td>\n",
       "      <td>24</td>\n",
       "      <td>22</td>\n",
       "      <td>30</td>\n",
       "      <td>31</td>\n",
       "      <td>15</td>\n",
       "    </tr>\n",
       "    <tr>\n",
       "      <th>Tripura</th>\n",
       "      <td>0</td>\n",
       "      <td>39</td>\n",
       "      <td>93</td>\n",
       "      <td>25</td>\n",
       "      <td>23</td>\n",
       "      <td>111</td>\n",
       "      <td>24</td>\n",
       "      <td>57</td>\n",
       "      <td>16</td>\n",
       "      <td>142</td>\n",
       "      <td>...</td>\n",
       "      <td>0</td>\n",
       "      <td>2</td>\n",
       "      <td>0</td>\n",
       "      <td>0</td>\n",
       "      <td>0</td>\n",
       "      <td>0</td>\n",
       "      <td>1</td>\n",
       "      <td>0</td>\n",
       "      <td>2</td>\n",
       "      <td>2</td>\n",
       "    </tr>\n",
       "  </tbody>\n",
       "</table>\n",
       "<p>5 rows × 257 columns</p>\n",
       "</div>"
      ],
      "text/plain": [
       "states      2020-07-01  2020-07-02  2020-07-03  2020-07-04  2020-07-05  \\\n",
       "state                                                                    \n",
       "Delhi                0        2373        2520        2505        2244   \n",
       "Telangana            0        1213        1892        1850        1590   \n",
       "Odisha               0         229         561         495         469   \n",
       "Puducherry           0          63          22          80          42   \n",
       "Tripura              0          39          93          25          23   \n",
       "\n",
       "states      2020-07-06  2020-07-07  2020-07-08  2020-07-09  2020-07-10  ...  \\\n",
       "state                                                                   ...   \n",
       "Delhi             1379        2008        2033        2187        2089  ...   \n",
       "Telangana         1831        1879        1924        1410        1278  ...   \n",
       "Odisha             456         571         527         577         755  ...   \n",
       "Puducherry          65          30         110          49          72  ...   \n",
       "Tripura            111          24          57          16         142  ...   \n",
       "\n",
       "states      2021-03-05  2021-03-06  2021-03-07  2021-03-08  2021-03-09  \\\n",
       "state                                                                    \n",
       "Delhi              312         321         286         239         320   \n",
       "Telangana          166         170         158         111         142   \n",
       "Odisha              91          54          70          59          57   \n",
       "Puducherry          30          19          25          14          26   \n",
       "Tripura              0           2           0           0           0   \n",
       "\n",
       "states      2021-03-10  2021-03-11  2021-03-12  2021-03-13  2021-03-14  \n",
       "state                                                                   \n",
       "Delhi              370         409         431         419         407  \n",
       "Telangana          189         194         181         216         228  \n",
       "Odisha              69          63          64          65          71  \n",
       "Puducherry          24          22          30          31          15  \n",
       "Tripura              0           1           0           2           2  \n",
       "\n",
       "[5 rows x 257 columns]"
      ]
     },
     "execution_count": 18,
     "metadata": {},
     "output_type": "execute_result"
    }
   ],
   "source": [
    "#hide\n",
    "dft_ct_new_cases.head()"
   ]
  },
  {
   "cell_type": "code",
   "execution_count": 19,
   "id": "responsible-nightlife",
   "metadata": {
    "execution": {
     "iopub.execute_input": "2021-03-14T13:51:49.452560Z",
     "iopub.status.busy": "2021-03-14T13:51:49.451915Z",
     "iopub.status.idle": "2021-03-14T13:51:59.994967Z",
     "shell.execute_reply": "2021-03-14T13:51:59.994470Z"
    },
    "papermill": {
     "duration": 10.581458,
     "end_time": "2021-03-14T13:51:59.995101",
     "exception": false,
     "start_time": "2021-03-14T13:51:49.413643",
     "status": "completed"
    },
    "tags": []
   },
   "outputs": [
    {
     "data": {
      "image/png": "[encoded data removed]",
      "text/plain": [
       "<Figure size 1296x2016 with 11 Axes>"
      ]
     },
     "metadata": {
      "needs_background": "light"
     },
     "output_type": "display_data"
    }
   ],
   "source": [
    "#hide_input\n",
    "df = dft_ct_new_cases.copy()\n",
    "df.loc['Total'] = df.sum()\n",
    "n = 5\n",
    "ax = []\n",
    "fig = plt.figure(figsize = (18,28))\n",
    "gs = fig.add_gridspec(n+2, 5)\n",
    "# gs = fig.add_gridspec(2, 3)\n",
    "ax1 = fig.add_subplot(gs[0, :])\n",
    "ef = df.loc['Total'].rename_axis('date').reset_index()\n",
    "ef['date'] = ef['date'].astype('datetime64[ns]')\n",
    "ax1.bar(ef.date,ef.Total,alpha=0.3,color='#007acc')\n",
    "ax1.plot(ef.date,ef.Total , marker=\"o\", color='#007acc')\n",
    "ax1.xaxis.set_major_locator(mdates.WeekdayLocator())\n",
    "ax1.xaxis.set_major_formatter(mdates.DateFormatter('%b %d'))\n",
    "ax1.text(0.02, 0.5,'India daily case count', transform = ax1.transAxes, fontsize=25);\n",
    "ax1.spines['right'].set_visible(False)\n",
    "ax1.spines['top'].set_visible(False)\n",
    "\n",
    "ax2 = fig.add_subplot(gs[1,0])\n",
    "ef = df.loc['Maharashtra'].rename_axis('date').reset_index()\n",
    "ef['date'] = ef['date'].astype('datetime64[ns]')\n",
    "\n",
    "ax2.bar(ef.date, ef.Maharashtra,color = '#007acc',alpha=0.5)\n",
    "ax2.xaxis.set_major_locator(mdates.WeekdayLocator())\n",
    "ax2.xaxis.set_major_formatter(mdates.DateFormatter('%b %d'))\n",
    "ax2.set_xticks(ax2.get_xticks()[::3])\n",
    "maxyval = ef.Maharashtra.max()\n",
    "ax2.set_ylim([0,maxyval])\n",
    "ax2.text(0.05, 0.9,'Maharashtra', transform = ax2.transAxes, fontsize=20);\n",
    "ax2.spines['right'].set_visible(False)\n",
    "ax2.spines['top'].set_visible(False)\n",
    "\n",
    "\n",
    "ax3 = fig.add_subplot(gs[1,1])\n",
    "ef = df.loc['Tamil Nadu'].rename_axis('date').reset_index()\n",
    "ef['date'] = ef['date'].astype('datetime64[ns]')\n",
    "ax3.bar(ef.date, ef['Tamil Nadu'],color = '#007acc',alpha=0.5,)\n",
    "ax3.xaxis.set_major_locator(mdates.WeekdayLocator())\n",
    "ax3.xaxis.set_major_formatter(mdates.DateFormatter('%b %d'))\n",
    "ax3.set_xticks(ax3.get_xticks()[::3])\n",
    "ax3.text(0.05, 0.9,'Tamil Nadu', transform = ax3.transAxes, fontsize=20);\n",
    "ax3.spines['right'].set_visible(False)\n",
    "ax3.spines['top'].set_visible(False)\n",
    "\n",
    "ax5 = fig.add_subplot(gs[1,3])\n",
    "ef = df.loc['Telangana'].rename_axis('date').reset_index()\n",
    "ef['date'] = ef['date'].astype('datetime64[ns]')\n",
    "ax5.bar(ef.date, ef['Telangana'],color = '#007acc',alpha=0.5,)\n",
    "ax5.xaxis.set_major_locator(mdates.WeekdayLocator())\n",
    "ax5.xaxis.set_major_formatter(mdates.DateFormatter('%b %d'))\n",
    "ax5.set_xticks(ax5.get_xticks()[::3])\n",
    "ax5.text(0.05, 0.9,'Telangana', transform = ax5.transAxes, fontsize=20);\n",
    "ax5.spines['right'].set_visible(False)\n",
    "ax5.spines['top'].set_visible(False)\n",
    "\n",
    "ax6 = fig.add_subplot(gs[1,4])\n",
    "ef = df.loc['Andhra Pradesh'].rename_axis('date').reset_index()\n",
    "ef['date'] = ef['date'].astype('datetime64[ns]')\n",
    "ax6.bar(ef.date, ef['Andhra Pradesh'],color = '#007acc',alpha=0.5,)\n",
    "ax6.xaxis.set_major_locator(mdates.WeekdayLocator())\n",
    "ax6.xaxis.set_major_formatter(mdates.DateFormatter('%b %d'))\n",
    "ax6.set_xticks(ax6.get_xticks()[::3])\n",
    "ax6.text(0.05, 1,'Andhra Pradesh', transform = ax6.transAxes, fontsize=20);\n",
    "ax6.spines['right'].set_visible(False)\n",
    "ax6.spines['top'].set_visible(False)\n",
    "\n",
    "ax4 = fig.add_subplot(gs[1,2])\n",
    "ef = df.loc['Delhi'].rename_axis('date').reset_index()\n",
    "ef['date'] = ef['date'].astype('datetime64[ns]')\n",
    "ax4.bar(ef.date, ef.Delhi,color = '#007acc',alpha=0.5)\n",
    "ax4.set_xticks([])\n",
    "ax4.xaxis.set_major_locator(mdates.WeekdayLocator())\n",
    "ax4.xaxis.set_major_formatter(mdates.DateFormatter('%b %d'))\n",
    "ax4.set_xticks(ax4.get_xticks()[::3])\n",
    "ax4.spines['right'].set_visible(False)\n",
    "ax4.spines['top'].set_visible(False)\n",
    "\n",
    "ax4.text(0.05, 1,'Delhi', transform = ax4.transAxes, fontsize=20)\n",
    "\n",
    "for i in range(n):\n",
    "    \n",
    "    ax.append(fig.add_subplot(gs[i+2,:]))\n",
    "    ef = df.iloc[i+3].rename_axis('date').reset_index()\n",
    "    ef['date'] = ef['date'].astype('datetime64[ns]')\n",
    "    ax[i].bar(ef.date,ef.iloc[:,-1],color = '#007acc',alpha=0.3)\n",
    "    ax[i].plot(ef.date,ef.iloc[:,-1],marker='o',color='#007acc')\n",
    "    ax[i].text(0.02,0.5,f'{ef.columns.values[-1]}',transform = ax[i].transAxes, fontsize = 20);\n",
    "    ax[i].xaxis.set_major_locator(mdates.WeekdayLocator())\n",
    "    ax[i].xaxis.set_major_formatter(mdates.DateFormatter('%b %d'))\n",
    "    ax[i].set_ylim([0,7000])\n",
    "    ax[i].spines['right'].set_visible(False)\n",
    "    ax[i].spines['top'].set_visible(False)\n",
    "plt.tight_layout()\n"
   ]
  },
  {
   "cell_type": "code",
   "execution_count": 20,
   "id": "dress-forge",
   "metadata": {
    "execution": {
     "iopub.execute_input": "2021-03-14T13:52:00.047334Z",
     "iopub.status.busy": "2021-03-14T13:52:00.046758Z",
     "iopub.status.idle": "2021-03-14T13:52:00.051330Z",
     "shell.execute_reply": "2021-03-14T13:52:00.050850Z"
    },
    "papermill": {
     "duration": 0.034013,
     "end_time": "2021-03-14T13:52:00.051456",
     "exception": false,
     "start_time": "2021-03-14T13:52:00.017443",
     "status": "completed"
    },
    "tags": []
   },
   "outputs": [
    {
     "name": "stdout",
     "output_type": "stream",
     "text": [
      "                                   states    Cases  Deaths   PCases  PDeaths  Cases (+)  Deaths (+)  Fatality Rate\n",
      "                              Maharashtra  2297793   52811  2297793    52811          0           0           2.30\n",
      "                                   Kerala  1089479    4382  1089479     4382          0           0           0.40\n",
      "                                Karnataka   959338   12387   959338    12387          0           0           1.29\n",
      "                           Andhra Pradesh   891563    7182   891563     7182          0           0           0.81\n",
      "                               Tamil Nadu   858967   12543   858967    12543          0           0           1.46\n",
      "                                    Delhi   643696   10941   643289    10939        407           2           1.70\n",
      "                            Uttar Pradesh   604958    8743   604958     8743          0           0           1.45\n",
      "                              West Bengal   578064   10288   578064    10288          0           0           1.78\n",
      "                                   Odisha   338192    1971   338121     1971         71           0           0.58\n",
      "                                Rajasthan   322719    2789   322719     2789          0           0           0.86\n",
      "                             Chhattisgarh   316854    3886   316854     3886          0           0           1.23\n",
      "                                Telangana   301161    1653   300933     1652        228           1           0.55\n",
      "                                  Gujarat   277397    4422   277397     4422          0           0           1.59\n",
      "                                  Haryana   274697    3073   274697     3073          0           0           1.12\n",
      "                           Madhya Pradesh   267851    3885   267851     3885          0           0           1.45\n",
      "                                    Bihar   262975    1550   262975     1550          0           0           0.59\n",
      "                                    Assam   217780    1098   217780     1098          0           0           0.50\n",
      "                                   Punjab   196263    6052   196263     6052          0           0           3.08\n",
      "                        Jammu and Kashmir   127535    1974   127535     1974          0           0           1.55\n",
      "                                Jharkhand   120567    1093   120567     1093          0           0           0.91\n",
      "                              Uttarakhand    97754    1702    97754     1702          0           0           1.74\n",
      "                         Himachal Pradesh    59597     991    59597      991          0           0           1.66\n",
      "                                      Goa    55851     805    55851      805          0           0           1.44\n",
      "                               Puducherry    40030     671    40015      670         15           1           1.68\n",
      "                                  Tripura    33426     388    33424      388          2           0           1.16\n",
      "                                  Manipur    29311     373    29311      373          0           0           1.27\n",
      "                               Chandigarh    22976     358    22976      358          0           0           1.56\n",
      "                        Arunachal Pradesh    16840      56    16840       56          0           0           0.33\n",
      "                                Meghalaya    13992     148    13992      148          0           0           1.06\n",
      "                                 Nagaland    12225      91    12225       91          0           0           0.74\n",
      "                                   Ladakh     9847     130     9847      130          0           0           1.32\n",
      "                                   Sikkim     6184     135     6184      135          0           0           2.18\n",
      "              Andaman and Nicobar Islands     5030      62     5030       62          0           0           1.23\n",
      "                                  Mizoram     4435      10     4435       10          0           0           0.23\n",
      " Dadra and Nagar Haveli and Daman and Diu     3417       2     3417        2          0           0           0.06\n",
      "                              Lakshadweep      604       1      604        1          0           0           0.17\n"
     ]
    }
   ],
   "source": [
    "#hide_input\n",
    "print(df_table.to_string(index=False))"
   ]
  },
  {
   "cell_type": "code",
   "execution_count": null,
   "id": "quantitative-legend",
   "metadata": {
    "papermill": {
     "duration": 0.020766,
     "end_time": "2021-03-14T13:52:00.092450",
     "exception": false,
     "start_time": "2021-03-14T13:52:00.071684",
     "status": "completed"
    },
    "tags": []
   },
   "outputs": [],
   "source": []
  },
  {
   "cell_type": "code",
   "execution_count": null,
   "id": "distant-acoustic",
   "metadata": {
    "papermill": {
     "duration": 0.024013,
     "end_time": "2021-03-14T13:52:00.138832",
     "exception": false,
     "start_time": "2021-03-14T13:52:00.114819",
     "status": "completed"
    },
    "tags": []
   },
   "outputs": [],
   "source": []
  }
 ],
 "metadata": {
  "kernelspec": {
   "display_name": "Python 3",
   "language": "python",
   "name": "python3"
  },
  "language_info": {
   "codemirror_mode": {
    "name": "ipython",
    "version": 3
   },
   "file_extension": ".py",
   "mimetype": "text/x-python",
   "name": "python",
   "nbconvert_exporter": "python",
   "pygments_lexer": "ipython3",
   "version": "3.6.13"
  },
  "papermill": {
   "duration": 23.374796,
   "end_time": "2021-03-14T13:52:01.437659",
   "environment_variables": {},
   "exception": null,
   "input_path": "latest.ipynb",
   "output_path": "latest.ipynb",
   "parameters": {},
   "start_time": "2021-03-14T13:51:38.062863",
   "version": "2.1.2"
  }
 },
 "nbformat": 4,
 "nbformat_minor": 5
}