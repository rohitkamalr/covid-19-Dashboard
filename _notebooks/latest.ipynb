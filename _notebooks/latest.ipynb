{
 "cells": [
  {
   "cell_type": "markdown",
   "metadata": {
    "papermill": {
     "duration": 0.023102,
     "end_time": "2020-10-06T13:51:54.791157",
     "exception": false,
     "start_time": "2020-10-06T13:51:54.768055",
     "status": "completed"
    },
    "tags": []
   },
   "source": [
    "# Latest COVID-19 India Matplotlib Overview"
   ]
  },
  {
   "cell_type": "code",
   "execution_count": 1,
   "metadata": {
    "execution": {
     "iopub.execute_input": "2020-10-06T13:51:54.836616Z",
     "iopub.status.busy": "2020-10-06T13:51:54.835944Z",
     "iopub.status.idle": "2020-10-06T13:51:55.444875Z",
     "shell.execute_reply": "2020-10-06T13:51:55.444212Z"
    },
    "papermill": {
     "duration": 0.634737,
     "end_time": "2020-10-06T13:51:55.445058",
     "exception": false,
     "start_time": "2020-10-06T13:51:54.810321",
     "status": "completed"
    },
    "tags": []
   },
   "outputs": [],
   "source": [
    "#hide\n",
    "import pandas as pd\n",
    "import numpy as np\n",
    "import requests\n",
    "import json\n",
    "import matplotlib.pyplot as plt\n",
    "import matplotlib.dates as mdates\n",
    "import matplotlib as mpl\n",
    "from IPython.core.display import display,HTML\n",
    "%matplotlib inline\n",
    "from datetime import date"
   ]
  },
  {
   "cell_type": "code",
   "execution_count": 2,
   "metadata": {
    "execution": {
     "iopub.execute_input": "2020-10-06T13:51:55.489463Z",
     "iopub.status.busy": "2020-10-06T13:51:55.488737Z",
     "iopub.status.idle": "2020-10-06T13:51:55.907570Z",
     "shell.execute_reply": "2020-10-06T13:51:55.906879Z"
    },
    "papermill": {
     "duration": 0.444026,
     "end_time": "2020-10-06T13:51:55.907755",
     "exception": false,
     "start_time": "2020-10-06T13:51:55.463729",
     "status": "completed"
    },
    "tags": []
   },
   "outputs": [],
   "source": [
    "#hide\n",
    "df  = pd.read_csv('https://api.covid19india.org/csv/latest/states.csv')\n",
    "df = df[['Date','State','Confirmed','Deceased']]\n",
    "df = df.rename(columns={'Confirmed':'Cases', \"Deceased\":'Deaths'})\n",
    "df_cases = df[[\"Date\",'State','Cases']]\n",
    "df_deaths = df[['Date','State','Deaths']]\n",
    "df_cases1 = df_cases.groupby('Date')\n",
    "df_deaths1= df_deaths.groupby('Date')"
   ]
  },
  {
   "cell_type": "code",
   "execution_count": 3,
   "metadata": {
    "execution": {
     "iopub.execute_input": "2020-10-06T13:51:55.953281Z",
     "iopub.status.busy": "2020-10-06T13:51:55.952519Z",
     "iopub.status.idle": "2020-10-06T13:51:55.974972Z",
     "shell.execute_reply": "2020-10-06T13:51:55.974356Z"
    },
    "papermill": {
     "duration": 0.047365,
     "end_time": "2020-10-06T13:51:55.975134",
     "exception": false,
     "start_time": "2020-10-06T13:51:55.927769",
     "status": "completed"
    },
    "tags": []
   },
   "outputs": [],
   "source": [
    "#hide\n",
    "df_snap = pd.read_csv('data/SnapshotCases-28-July.csv')\n",
    "arr_states = df_snap['states'].unique()\n",
    "arr_dates = df['Date'].unique()\n",
    "df_snap = df_snap.set_index('states')"
   ]
  },
  {
   "cell_type": "code",
   "execution_count": 4,
   "metadata": {
    "execution": {
     "iopub.execute_input": "2020-10-06T13:51:56.020787Z",
     "iopub.status.busy": "2020-10-06T13:51:56.020035Z",
     "iopub.status.idle": "2020-10-06T13:51:56.027088Z",
     "shell.execute_reply": "2020-10-06T13:51:56.026479Z"
    },
    "papermill": {
     "duration": 0.032504,
     "end_time": "2020-10-06T13:51:56.027238",
     "exception": false,
     "start_time": "2020-10-06T13:51:55.994734",
     "status": "completed"
    },
    "tags": []
   },
   "outputs": [
    {
     "data": {
      "text/plain": [
       "array(['Andaman and Nicobar Islands', 'Andhra Pradesh',\n",
       "       'Arunachal Pradesh', 'Assam', 'Bihar', 'Chandigarh',\n",
       "       'Dadra and Nagar Haveli and Daman and Diu', 'Delhi', 'Goa',\n",
       "       'Gujarat', 'Haryana', 'Himachal Pradesh', 'Jammu and Kashmir',\n",
       "       'Jharkhand', 'Karnataka', 'Kerala', 'Lakshadweep',\n",
       "       'Madhya Pradesh', 'Maharashtra', 'Manipur', 'Meghalaya', 'Mizoram',\n",
       "       'Nagaland', 'Odisha', 'Puducherry', 'Punjab', 'Rajasthan',\n",
       "       'Sikkim', 'Tamil Nadu', 'Telangana', 'Tripura', 'Uttar Pradesh',\n",
       "       'West Bengal', 'Chhattisgarh', 'Ladakh', 'Uttarakhand'],\n",
       "      dtype=object)"
      ]
     },
     "execution_count": 4,
     "metadata": {},
     "output_type": "execute_result"
    }
   ],
   "source": [
    "#hide\n",
    "arr_states[-9] = 'Puducherry'\n",
    "arr_states[-10] = 'Odisha'\n",
    "arr_states[6] = 'Dadra and Nagar Haveli and Daman and Diu'\n",
    "arr_states = np.append(arr_states,np.array(['Chhattisgarh','Ladakh','Uttarakhand']))\n",
    "arr_states"
   ]
  },
  {
   "cell_type": "code",
   "execution_count": 5,
   "metadata": {
    "execution": {
     "iopub.execute_input": "2020-10-06T13:51:56.075683Z",
     "iopub.status.busy": "2020-10-06T13:51:56.074981Z",
     "iopub.status.idle": "2020-10-06T13:51:56.086061Z",
     "shell.execute_reply": "2020-10-06T13:51:56.085045Z"
    },
    "papermill": {
     "duration": 0.039382,
     "end_time": "2020-10-06T13:51:56.086193",
     "exception": false,
     "start_time": "2020-10-06T13:51:56.046811",
     "status": "completed"
    },
    "tags": []
   },
   "outputs": [],
   "source": [
    "#hide\n",
    "dates = []\n",
    "for i in arr_dates:\n",
    "    if i>='2020-07-01':\n",
    "        dates.append(i)\n",
    "dict = {'states':dates}\n",
    "for i in arr_states:\n",
    "    dict[i] = [0]*len(dates)\n",
    "dft_cases = pd.DataFrame(dict)\n",
    "dft_deaths = pd.DataFrame(dict)\n"
   ]
  },
  {
   "cell_type": "code",
   "execution_count": 6,
   "metadata": {
    "execution": {
     "iopub.execute_input": "2020-10-06T13:51:56.126652Z",
     "iopub.status.busy": "2020-10-06T13:51:56.125962Z",
     "iopub.status.idle": "2020-10-06T13:51:57.740115Z",
     "shell.execute_reply": "2020-10-06T13:51:57.739271Z"
    },
    "papermill": {
     "duration": 1.637521,
     "end_time": "2020-10-06T13:51:57.740251",
     "exception": false,
     "start_time": "2020-10-06T13:51:56.102730",
     "status": "completed"
    },
    "tags": []
   },
   "outputs": [],
   "source": [
    "#hide\n",
    "for i in range(len(dates)):\n",
    "    df1_deaths = df_deaths1.get_group(dates[i])\n",
    "    for j in range(len(df1_deaths.index)):\n",
    "        if df1_deaths.iloc[j,1] in arr_states:\n",
    "            dft_deaths.loc[i,df1_deaths.iloc[j,1]] = df1_deaths.iloc[j,2]\n",
    "dft_deaths = dft_deaths.set_index('states')"
   ]
  },
  {
   "cell_type": "code",
   "execution_count": 7,
   "metadata": {
    "execution": {
     "iopub.execute_input": "2020-10-06T13:51:57.776773Z",
     "iopub.status.busy": "2020-10-06T13:51:57.776046Z",
     "iopub.status.idle": "2020-10-06T13:51:59.391884Z",
     "shell.execute_reply": "2020-10-06T13:51:59.390798Z"
    },
    "papermill": {
     "duration": 1.636634,
     "end_time": "2020-10-06T13:51:59.392102",
     "exception": false,
     "start_time": "2020-10-06T13:51:57.755468",
     "status": "completed"
    },
    "tags": []
   },
   "outputs": [],
   "source": [
    "#hide\n",
    "for i in range(len(dates)):\n",
    "    df1_cases = df_cases1.get_group(dates[i])\n",
    "    for j in range(len(df1_cases.index)):\n",
    "        if df1_cases.iloc[j,1] in arr_states:\n",
    "            dft_cases.loc[i,df1_cases.iloc[j,1]] = df1_cases.iloc[j,2]\n",
    "dft_cases = dft_cases.set_index('states')"
   ]
  },
  {
   "cell_type": "code",
   "execution_count": 8,
   "metadata": {
    "execution": {
     "iopub.execute_input": "2020-10-06T13:51:59.428626Z",
     "iopub.status.busy": "2020-10-06T13:51:59.427912Z",
     "iopub.status.idle": "2020-10-06T13:51:59.430159Z",
     "shell.execute_reply": "2020-10-06T13:51:59.429455Z"
    },
    "papermill": {
     "duration": 0.022128,
     "end_time": "2020-10-06T13:51:59.430294",
     "exception": false,
     "start_time": "2020-10-06T13:51:59.408166",
     "status": "completed"
    },
    "tags": []
   },
   "outputs": [],
   "source": [
    "#hide\n",
    "dft_cases = dft_cases.T\n",
    "dft_deaths = dft_deaths.T\n",
    "dt_today = dates[-1]\n",
    "dt_yday = dates[-2]"
   ]
  },
  {
   "cell_type": "code",
   "execution_count": 9,
   "metadata": {
    "execution": {
     "iopub.execute_input": "2020-10-06T13:51:59.474981Z",
     "iopub.status.busy": "2020-10-06T13:51:59.474275Z",
     "iopub.status.idle": "2020-10-06T13:51:59.479360Z",
     "shell.execute_reply": "2020-10-06T13:51:59.478662Z"
    },
    "papermill": {
     "duration": 0.028561,
     "end_time": "2020-10-06T13:51:59.479496",
     "exception": false,
     "start_time": "2020-10-06T13:51:59.450935",
     "status": "completed"
    },
    "tags": []
   },
   "outputs": [],
   "source": [
    "#hide\n",
    "dft_cases = dft_cases.reset_index()\n",
    "dft_deaths = dft_deaths.reset_index()\n",
    "dft_cases = dft_cases.rename(columns = {'index':'state'})\n",
    "dft_deaths = dft_deaths.rename(columns = {'index':'state'})"
   ]
  },
  {
   "cell_type": "code",
   "execution_count": 10,
   "metadata": {
    "execution": {
     "iopub.execute_input": "2020-10-06T13:51:59.527906Z",
     "iopub.status.busy": "2020-10-06T13:51:59.527192Z",
     "iopub.status.idle": "2020-10-06T13:51:59.529742Z",
     "shell.execute_reply": "2020-10-06T13:51:59.530324Z"
    },
    "papermill": {
     "duration": 0.031641,
     "end_time": "2020-10-06T13:51:59.530514",
     "exception": false,
     "start_time": "2020-10-06T13:51:59.498873",
     "status": "completed"
    },
    "tags": []
   },
   "outputs": [],
   "source": [
    "#hide\n",
    "dfc_cases = dft_cases.groupby('state')[dt_today].sum()\n",
    "dfc_deaths = dft_deaths.groupby('state')[dt_today].sum()\n",
    "dfp_cases = dft_cases.groupby('state')[dt_yday].sum()\n",
    "dfp_deaths = dft_deaths.groupby('state')[dt_yday].sum()"
   ]
  },
  {
   "cell_type": "code",
   "execution_count": 11,
   "metadata": {
    "execution": {
     "iopub.execute_input": "2020-10-06T13:51:59.567244Z",
     "iopub.status.busy": "2020-10-06T13:51:59.566684Z",
     "iopub.status.idle": "2020-10-06T13:51:59.584111Z",
     "shell.execute_reply": "2020-10-06T13:51:59.583632Z"
    },
    "papermill": {
     "duration": 0.03736,
     "end_time": "2020-10-06T13:51:59.584217",
     "exception": false,
     "start_time": "2020-10-06T13:51:59.546857",
     "status": "completed"
    },
    "tags": []
   },
   "outputs": [
    {
     "data": {
      "text/html": [
       "<div>\n",
       "<style scoped>\n",
       "    .dataframe tbody tr th:only-of-type {\n",
       "        vertical-align: middle;\n",
       "    }\n",
       "\n",
       "    .dataframe tbody tr th {\n",
       "        vertical-align: top;\n",
       "    }\n",
       "\n",
       "    .dataframe thead th {\n",
       "        text-align: right;\n",
       "    }\n",
       "</style>\n",
       "<table border=\"1\" class=\"dataframe\">\n",
       "  <thead>\n",
       "    <tr style=\"text-align: right;\">\n",
       "      <th></th>\n",
       "      <th>states</th>\n",
       "      <th>Cases</th>\n",
       "      <th>Deaths</th>\n",
       "      <th>PCases</th>\n",
       "      <th>PDeaths</th>\n",
       "    </tr>\n",
       "  </thead>\n",
       "  <tbody>\n",
       "    <tr>\n",
       "      <th>0</th>\n",
       "      <td>Maharashtra</td>\n",
       "      <td>1453653</td>\n",
       "      <td>38347</td>\n",
       "      <td>1453653</td>\n",
       "      <td>38347</td>\n",
       "    </tr>\n",
       "    <tr>\n",
       "      <th>1</th>\n",
       "      <td>Andhra Pradesh</td>\n",
       "      <td>723512</td>\n",
       "      <td>6019</td>\n",
       "      <td>723512</td>\n",
       "      <td>6019</td>\n",
       "    </tr>\n",
       "    <tr>\n",
       "      <th>2</th>\n",
       "      <td>Karnataka</td>\n",
       "      <td>647712</td>\n",
       "      <td>9370</td>\n",
       "      <td>647712</td>\n",
       "      <td>9370</td>\n",
       "    </tr>\n",
       "    <tr>\n",
       "      <th>3</th>\n",
       "      <td>Tamil Nadu</td>\n",
       "      <td>625391</td>\n",
       "      <td>9846</td>\n",
       "      <td>625391</td>\n",
       "      <td>9846</td>\n",
       "    </tr>\n",
       "    <tr>\n",
       "      <th>4</th>\n",
       "      <td>Uttar Pradesh</td>\n",
       "      <td>417437</td>\n",
       "      <td>6092</td>\n",
       "      <td>417437</td>\n",
       "      <td>6092</td>\n",
       "    </tr>\n",
       "  </tbody>\n",
       "</table>\n",
       "</div>"
      ],
      "text/plain": [
       "           states    Cases  Deaths   PCases  PDeaths\n",
       "0     Maharashtra  1453653   38347  1453653    38347\n",
       "1  Andhra Pradesh   723512    6019   723512     6019\n",
       "2       Karnataka   647712    9370   647712     9370\n",
       "3      Tamil Nadu   625391    9846   625391     9846\n",
       "4   Uttar Pradesh   417437    6092   417437     6092"
      ]
     },
     "execution_count": 11,
     "metadata": {},
     "output_type": "execute_result"
    }
   ],
   "source": [
    "#hide\n",
    "df_table = pd.DataFrame({'states': dfc_cases.index, 'Cases': dfc_cases.values, 'Deaths': dfc_deaths.values, 'PCases': dfp_cases.values, 'PDeaths': dfp_deaths.values}).set_index('states')\n",
    "df_table = df_table.sort_values(by = ['Cases','Deaths'], ascending = [False, False])\n",
    "df_table = df_table.reset_index()\n",
    "df_table.head()"
   ]
  },
  {
   "cell_type": "code",
   "execution_count": 12,
   "metadata": {
    "execution": {
     "iopub.execute_input": "2020-10-06T13:51:59.621160Z",
     "iopub.status.busy": "2020-10-06T13:51:59.620598Z",
     "iopub.status.idle": "2020-10-06T13:51:59.630692Z",
     "shell.execute_reply": "2020-10-06T13:51:59.631230Z"
    },
    "papermill": {
     "duration": 0.030366,
     "end_time": "2020-10-06T13:51:59.631361",
     "exception": false,
     "start_time": "2020-10-06T13:51:59.600995",
     "status": "completed"
    },
    "tags": []
   },
   "outputs": [],
   "source": [
    "#hide\n",
    "for c in 'Cases, Deaths'.split(', '):\n",
    "    df_table[f'{c} (+)'] = (df_table[c] - df_table[f'P{c}']).clip(0)\n",
    "df_table['Fatality Rate'] = (100* df_table['Deaths']/ df_table['Cases']).round(2)"
   ]
  },
  {
   "cell_type": "code",
   "execution_count": 13,
   "metadata": {
    "execution": {
     "iopub.execute_input": "2020-10-06T13:51:59.673850Z",
     "iopub.status.busy": "2020-10-06T13:51:59.673078Z",
     "iopub.status.idle": "2020-10-06T13:51:59.675686Z",
     "shell.execute_reply": "2020-10-06T13:51:59.676270Z"
    },
    "papermill": {
     "duration": 0.029722,
     "end_time": "2020-10-06T13:51:59.676425",
     "exception": false,
     "start_time": "2020-10-06T13:51:59.646703",
     "status": "completed"
    },
    "tags": []
   },
   "outputs": [
    {
     "data": {
      "text/html": [
       "<div>\n",
       "<style scoped>\n",
       "    .dataframe tbody tr th:only-of-type {\n",
       "        vertical-align: middle;\n",
       "    }\n",
       "\n",
       "    .dataframe tbody tr th {\n",
       "        vertical-align: top;\n",
       "    }\n",
       "\n",
       "    .dataframe thead th {\n",
       "        text-align: right;\n",
       "    }\n",
       "</style>\n",
       "<table border=\"1\" class=\"dataframe\">\n",
       "  <thead>\n",
       "    <tr style=\"text-align: right;\">\n",
       "      <th></th>\n",
       "      <th>states</th>\n",
       "      <th>Cases</th>\n",
       "      <th>Deaths</th>\n",
       "      <th>PCases</th>\n",
       "      <th>PDeaths</th>\n",
       "      <th>Cases (+)</th>\n",
       "      <th>Deaths (+)</th>\n",
       "      <th>Fatality Rate</th>\n",
       "    </tr>\n",
       "  </thead>\n",
       "  <tbody>\n",
       "    <tr>\n",
       "      <th>0</th>\n",
       "      <td>Maharashtra</td>\n",
       "      <td>1453653</td>\n",
       "      <td>38347</td>\n",
       "      <td>1453653</td>\n",
       "      <td>38347</td>\n",
       "      <td>0</td>\n",
       "      <td>0</td>\n",
       "      <td>2.64</td>\n",
       "    </tr>\n",
       "    <tr>\n",
       "      <th>1</th>\n",
       "      <td>Andhra Pradesh</td>\n",
       "      <td>723512</td>\n",
       "      <td>6019</td>\n",
       "      <td>723512</td>\n",
       "      <td>6019</td>\n",
       "      <td>0</td>\n",
       "      <td>0</td>\n",
       "      <td>0.83</td>\n",
       "    </tr>\n",
       "    <tr>\n",
       "      <th>2</th>\n",
       "      <td>Karnataka</td>\n",
       "      <td>647712</td>\n",
       "      <td>9370</td>\n",
       "      <td>647712</td>\n",
       "      <td>9370</td>\n",
       "      <td>0</td>\n",
       "      <td>0</td>\n",
       "      <td>1.45</td>\n",
       "    </tr>\n",
       "    <tr>\n",
       "      <th>3</th>\n",
       "      <td>Tamil Nadu</td>\n",
       "      <td>625391</td>\n",
       "      <td>9846</td>\n",
       "      <td>625391</td>\n",
       "      <td>9846</td>\n",
       "      <td>0</td>\n",
       "      <td>0</td>\n",
       "      <td>1.57</td>\n",
       "    </tr>\n",
       "    <tr>\n",
       "      <th>4</th>\n",
       "      <td>Uttar Pradesh</td>\n",
       "      <td>417437</td>\n",
       "      <td>6092</td>\n",
       "      <td>417437</td>\n",
       "      <td>6092</td>\n",
       "      <td>0</td>\n",
       "      <td>0</td>\n",
       "      <td>1.46</td>\n",
       "    </tr>\n",
       "  </tbody>\n",
       "</table>\n",
       "</div>"
      ],
      "text/plain": [
       "           states    Cases  Deaths   PCases  PDeaths  Cases (+)  Deaths (+)  \\\n",
       "0     Maharashtra  1453653   38347  1453653    38347          0           0   \n",
       "1  Andhra Pradesh   723512    6019   723512     6019          0           0   \n",
       "2       Karnataka   647712    9370   647712     9370          0           0   \n",
       "3      Tamil Nadu   625391    9846   625391     9846          0           0   \n",
       "4   Uttar Pradesh   417437    6092   417437     6092          0           0   \n",
       "\n",
       "   Fatality Rate  \n",
       "0           2.64  \n",
       "1           0.83  \n",
       "2           1.45  \n",
       "3           1.57  \n",
       "4           1.46  "
      ]
     },
     "execution_count": 13,
     "metadata": {},
     "output_type": "execute_result"
    }
   ],
   "source": [
    "#hide\n",
    "df_table.head()"
   ]
  },
  {
   "cell_type": "code",
   "execution_count": 14,
   "metadata": {
    "execution": {
     "iopub.execute_input": "2020-10-06T13:51:59.723135Z",
     "iopub.status.busy": "2020-10-06T13:51:59.722420Z",
     "iopub.status.idle": "2020-10-06T13:51:59.739997Z",
     "shell.execute_reply": "2020-10-06T13:51:59.740615Z"
    },
    "papermill": {
     "duration": 0.043986,
     "end_time": "2020-10-06T13:51:59.740769",
     "exception": false,
     "start_time": "2020-10-06T13:51:59.696783",
     "status": "completed"
    },
    "tags": []
   },
   "outputs": [
    {
     "data": {
      "text/plain": [
       "{'updated': '2020-10-06',\n",
       " 'since': '2020-10-05',\n",
       " 'Cases': 6695118,\n",
       " 'PCases': 6682308,\n",
       " 'Deaths': 103654,\n",
       " 'PDeaths': 103601,\n",
       " 'Cases (+)': 12810,\n",
       " 'Deaths (+)': 53}"
      ]
     },
     "execution_count": 14,
     "metadata": {},
     "output_type": "execute_result"
    }
   ],
   "source": [
    "#hide\n",
    "summary = {'updated':dates[-1], 'since':dates[-2]}\n",
    "list_names = ['Cases', 'PCases', 'Deaths', 'PDeaths', 'Cases (+)', 'Deaths (+)']\n",
    "for name in list_names:\n",
    "    summary[name] = df_table.sum()[name]\n",
    "summary"
   ]
  },
  {
   "cell_type": "code",
   "execution_count": 15,
   "metadata": {
    "execution": {
     "iopub.execute_input": "2020-10-06T13:51:59.784318Z",
     "iopub.status.busy": "2020-10-06T13:51:59.783498Z",
     "iopub.status.idle": "2020-10-06T13:51:59.785229Z",
     "shell.execute_reply": "2020-10-06T13:51:59.785925Z"
    },
    "papermill": {
     "duration": 0.02578,
     "end_time": "2020-10-06T13:51:59.786112",
     "exception": false,
     "start_time": "2020-10-06T13:51:59.760332",
     "status": "completed"
    },
    "tags": []
   },
   "outputs": [],
   "source": [
    "#hide\n",
    "overview = '''\n",
    "<!-- #######  HTML!! #########-->\n",
    "<h1 style=\"color: #5e9ca0; text-align: center;\">India</h1>\n",
    "<p style=\"text-align: center;\">Last update: <strong>{update}</strong></p>\n",
    "<p style=\"text-align: center;\">Confirmed cases:</p>\n",
    "<p style=\"text-align: center;font-size:24px;\">{cases} (<span style=\"color: #ff0000;\">+{new}</span>)</p>\n",
    "<p style=\"text-align: center;\">Confirmed deaths:</p>\n",
    "<p style=\"text-align: center;font-size:24px;\">{deaths} (<span style=\"color: #ff0000;\">+{dnew}</span>)</p>\n",
    "'''"
   ]
  },
  {
   "cell_type": "code",
   "execution_count": 16,
   "metadata": {
    "execution": {
     "iopub.execute_input": "2020-10-06T13:51:59.826530Z",
     "iopub.status.busy": "2020-10-06T13:51:59.825342Z",
     "iopub.status.idle": "2020-10-06T13:51:59.828324Z",
     "shell.execute_reply": "2020-10-06T13:51:59.829249Z"
    },
    "papermill": {
     "duration": 0.026422,
     "end_time": "2020-10-06T13:51:59.829406",
     "exception": false,
     "start_time": "2020-10-06T13:51:59.802984",
     "status": "completed"
    },
    "tags": []
   },
   "outputs": [
    {
     "data": {
      "text/html": [
       "\n",
       "<!-- #######  HTML!! #########-->\n",
       "<h1 style=\"color: #5e9ca0; text-align: center;\">India</h1>\n",
       "<p style=\"text-align: center;\">Last update: <strong>2020-10-06</strong></p>\n",
       "<p style=\"text-align: center;\">Confirmed cases:</p>\n",
       "<p style=\"text-align: center;font-size:24px;\">6695118 (<span style=\"color: #ff0000;\">+12810</span>)</p>\n",
       "<p style=\"text-align: center;\">Confirmed deaths:</p>\n",
       "<p style=\"text-align: center;font-size:24px;\">103654 (<span style=\"color: #ff0000;\">+53</span>)</p>\n"
      ],
      "text/plain": [
       "<IPython.core.display.HTML object>"
      ]
     },
     "metadata": {},
     "output_type": "display_data"
    }
   ],
   "source": [
    "#hide_input\n",
    "update = summary['updated']\n",
    "cases = summary['Cases']\n",
    "new = summary['Cases (+)']\n",
    "deaths = summary['Deaths']\n",
    "dnew = summary['Deaths (+)']\n",
    "\n",
    "html = HTML(overview.format(update=update, cases=cases,new=new,deaths=deaths,dnew=dnew))\n",
    "\n",
    "display(html)"
   ]
  },
  {
   "cell_type": "code",
   "execution_count": 17,
   "metadata": {
    "execution": {
     "iopub.execute_input": "2020-10-06T13:51:59.881039Z",
     "iopub.status.busy": "2020-10-06T13:51:59.880329Z",
     "iopub.status.idle": "2020-10-06T13:51:59.886191Z",
     "shell.execute_reply": "2020-10-06T13:51:59.885558Z"
    },
    "papermill": {
     "duration": 0.035419,
     "end_time": "2020-10-06T13:51:59.886327",
     "exception": false,
     "start_time": "2020-10-06T13:51:59.850908",
     "status": "completed"
    },
    "tags": []
   },
   "outputs": [],
   "source": [
    "#hide\n",
    "dt_cols = list(dft_cases.columns[1:])\n",
    "dft_ct_new_cases = dft_cases.groupby('state')[dt_cols].sum().diff(axis=1).fillna(0).astype(int)\n",
    "dft_ct_new_cases.sort_values(by = dates[-1], ascending = False,inplace = True)"
   ]
  },
  {
   "cell_type": "code",
   "execution_count": 18,
   "metadata": {
    "execution": {
     "iopub.execute_input": "2020-10-06T13:51:59.949443Z",
     "iopub.status.busy": "2020-10-06T13:51:59.948736Z",
     "iopub.status.idle": "2020-10-06T13:51:59.951498Z",
     "shell.execute_reply": "2020-10-06T13:51:59.952177Z"
    },
    "papermill": {
     "duration": 0.043712,
     "end_time": "2020-10-06T13:51:59.952331",
     "exception": false,
     "start_time": "2020-10-06T13:51:59.908619",
     "status": "completed"
    },
    "tags": []
   },
   "outputs": [
    {
     "data": {
      "text/html": [
       "<div>\n",
       "<style scoped>\n",
       "    .dataframe tbody tr th:only-of-type {\n",
       "        vertical-align: middle;\n",
       "    }\n",
       "\n",
       "    .dataframe tbody tr th {\n",
       "        vertical-align: top;\n",
       "    }\n",
       "\n",
       "    .dataframe thead th {\n",
       "        text-align: right;\n",
       "    }\n",
       "</style>\n",
       "<table border=\"1\" class=\"dataframe\">\n",
       "  <thead>\n",
       "    <tr style=\"text-align: right;\">\n",
       "      <th>states</th>\n",
       "      <th>2020-07-01</th>\n",
       "      <th>2020-07-02</th>\n",
       "      <th>2020-07-03</th>\n",
       "      <th>2020-07-04</th>\n",
       "      <th>2020-07-05</th>\n",
       "      <th>2020-07-06</th>\n",
       "      <th>2020-07-07</th>\n",
       "      <th>2020-07-08</th>\n",
       "      <th>2020-07-09</th>\n",
       "      <th>2020-07-10</th>\n",
       "      <th>...</th>\n",
       "      <th>2020-09-27</th>\n",
       "      <th>2020-09-28</th>\n",
       "      <th>2020-09-29</th>\n",
       "      <th>2020-09-30</th>\n",
       "      <th>2020-10-01</th>\n",
       "      <th>2020-10-02</th>\n",
       "      <th>2020-10-03</th>\n",
       "      <th>2020-10-04</th>\n",
       "      <th>2020-10-05</th>\n",
       "      <th>2020-10-06</th>\n",
       "    </tr>\n",
       "    <tr>\n",
       "      <th>state</th>\n",
       "      <th></th>\n",
       "      <th></th>\n",
       "      <th></th>\n",
       "      <th></th>\n",
       "      <th></th>\n",
       "      <th></th>\n",
       "      <th></th>\n",
       "      <th></th>\n",
       "      <th></th>\n",
       "      <th></th>\n",
       "      <th></th>\n",
       "      <th></th>\n",
       "      <th></th>\n",
       "      <th></th>\n",
       "      <th></th>\n",
       "      <th></th>\n",
       "      <th></th>\n",
       "      <th></th>\n",
       "      <th></th>\n",
       "      <th></th>\n",
       "      <th></th>\n",
       "    </tr>\n",
       "  </thead>\n",
       "  <tbody>\n",
       "    <tr>\n",
       "      <th>Kerala</th>\n",
       "      <td>0</td>\n",
       "      <td>160</td>\n",
       "      <td>211</td>\n",
       "      <td>240</td>\n",
       "      <td>225</td>\n",
       "      <td>193</td>\n",
       "      <td>272</td>\n",
       "      <td>301</td>\n",
       "      <td>339</td>\n",
       "      <td>416</td>\n",
       "      <td>...</td>\n",
       "      <td>7445</td>\n",
       "      <td>4538</td>\n",
       "      <td>7354</td>\n",
       "      <td>8830</td>\n",
       "      <td>8135</td>\n",
       "      <td>9258</td>\n",
       "      <td>7834</td>\n",
       "      <td>8553</td>\n",
       "      <td>5042</td>\n",
       "      <td>7871</td>\n",
       "    </tr>\n",
       "    <tr>\n",
       "      <th>Odisha</th>\n",
       "      <td>0</td>\n",
       "      <td>229</td>\n",
       "      <td>561</td>\n",
       "      <td>495</td>\n",
       "      <td>469</td>\n",
       "      <td>456</td>\n",
       "      <td>571</td>\n",
       "      <td>527</td>\n",
       "      <td>577</td>\n",
       "      <td>755</td>\n",
       "      <td>...</td>\n",
       "      <td>3922</td>\n",
       "      <td>3235</td>\n",
       "      <td>3067</td>\n",
       "      <td>3443</td>\n",
       "      <td>3615</td>\n",
       "      <td>3600</td>\n",
       "      <td>3053</td>\n",
       "      <td>3326</td>\n",
       "      <td>2617</td>\n",
       "      <td>2673</td>\n",
       "    </tr>\n",
       "    <tr>\n",
       "      <th>Telangana</th>\n",
       "      <td>0</td>\n",
       "      <td>1213</td>\n",
       "      <td>1892</td>\n",
       "      <td>1850</td>\n",
       "      <td>1590</td>\n",
       "      <td>1831</td>\n",
       "      <td>1879</td>\n",
       "      <td>1924</td>\n",
       "      <td>1410</td>\n",
       "      <td>1278</td>\n",
       "      <td>...</td>\n",
       "      <td>1967</td>\n",
       "      <td>1378</td>\n",
       "      <td>2072</td>\n",
       "      <td>2103</td>\n",
       "      <td>2214</td>\n",
       "      <td>2009</td>\n",
       "      <td>1718</td>\n",
       "      <td>1949</td>\n",
       "      <td>1335</td>\n",
       "      <td>1983</td>\n",
       "    </tr>\n",
       "    <tr>\n",
       "      <th>Tripura</th>\n",
       "      <td>0</td>\n",
       "      <td>39</td>\n",
       "      <td>93</td>\n",
       "      <td>25</td>\n",
       "      <td>23</td>\n",
       "      <td>111</td>\n",
       "      <td>24</td>\n",
       "      <td>57</td>\n",
       "      <td>16</td>\n",
       "      <td>142</td>\n",
       "      <td>...</td>\n",
       "      <td>320</td>\n",
       "      <td>193</td>\n",
       "      <td>432</td>\n",
       "      <td>381</td>\n",
       "      <td>332</td>\n",
       "      <td>296</td>\n",
       "      <td>190</td>\n",
       "      <td>322</td>\n",
       "      <td>159</td>\n",
       "      <td>275</td>\n",
       "    </tr>\n",
       "    <tr>\n",
       "      <th>Mizoram</th>\n",
       "      <td>0</td>\n",
       "      <td>2</td>\n",
       "      <td>0</td>\n",
       "      <td>2</td>\n",
       "      <td>22</td>\n",
       "      <td>11</td>\n",
       "      <td>1</td>\n",
       "      <td>5</td>\n",
       "      <td>0</td>\n",
       "      <td>23</td>\n",
       "      <td>...</td>\n",
       "      <td>30</td>\n",
       "      <td>43</td>\n",
       "      <td>50</td>\n",
       "      <td>28</td>\n",
       "      <td>32</td>\n",
       "      <td>31</td>\n",
       "      <td>54</td>\n",
       "      <td>17</td>\n",
       "      <td>0</td>\n",
       "      <td>8</td>\n",
       "    </tr>\n",
       "  </tbody>\n",
       "</table>\n",
       "<p>5 rows × 98 columns</p>\n",
       "</div>"
      ],
      "text/plain": [
       "states     2020-07-01  2020-07-02  2020-07-03  2020-07-04  2020-07-05  \\\n",
       "state                                                                   \n",
       "Kerala              0         160         211         240         225   \n",
       "Odisha              0         229         561         495         469   \n",
       "Telangana           0        1213        1892        1850        1590   \n",
       "Tripura             0          39          93          25          23   \n",
       "Mizoram             0           2           0           2          22   \n",
       "\n",
       "states     2020-07-06  2020-07-07  2020-07-08  2020-07-09  2020-07-10  ...  \\\n",
       "state                                                                  ...   \n",
       "Kerala            193         272         301         339         416  ...   \n",
       "Odisha            456         571         527         577         755  ...   \n",
       "Telangana        1831        1879        1924        1410        1278  ...   \n",
       "Tripura           111          24          57          16         142  ...   \n",
       "Mizoram            11           1           5           0          23  ...   \n",
       "\n",
       "states     2020-09-27  2020-09-28  2020-09-29  2020-09-30  2020-10-01  \\\n",
       "state                                                                   \n",
       "Kerala           7445        4538        7354        8830        8135   \n",
       "Odisha           3922        3235        3067        3443        3615   \n",
       "Telangana        1967        1378        2072        2103        2214   \n",
       "Tripura           320         193         432         381         332   \n",
       "Mizoram            30          43          50          28          32   \n",
       "\n",
       "states     2020-10-02  2020-10-03  2020-10-04  2020-10-05  2020-10-06  \n",
       "state                                                                  \n",
       "Kerala           9258        7834        8553        5042        7871  \n",
       "Odisha           3600        3053        3326        2617        2673  \n",
       "Telangana        2009        1718        1949        1335        1983  \n",
       "Tripura           296         190         322         159         275  \n",
       "Mizoram            31          54          17           0           8  \n",
       "\n",
       "[5 rows x 98 columns]"
      ]
     },
     "execution_count": 18,
     "metadata": {},
     "output_type": "execute_result"
    }
   ],
   "source": [
    "#hide\n",
    "dft_ct_new_cases.head()"
   ]
  },
  {
   "cell_type": "code",
   "execution_count": 19,
   "metadata": {
    "execution": {
     "iopub.execute_input": "2020-10-06T13:52:00.009334Z",
     "iopub.status.busy": "2020-10-06T13:51:59.998442Z",
     "iopub.status.idle": "2020-10-06T13:52:04.387711Z",
     "shell.execute_reply": "2020-10-06T13:52:04.387207Z"
    },
    "papermill": {
     "duration": 4.415734,
     "end_time": "2020-10-06T13:52:04.387843",
     "exception": false,
     "start_time": "2020-10-06T13:51:59.972109",
     "status": "completed"
    },
    "tags": []
   },
   "outputs": [
    {
     "data": {
      "image/png": "[encoded data removed]",
      "text/plain": [
       "<Figure size 1296x2016 with 11 Axes>"
      ]
     },
     "metadata": {
      "needs_background": "light"
     },
     "output_type": "display_data"
    }
   ],
   "source": [
    "#hide_input\n",
    "df = dft_ct_new_cases.copy()\n",
    "df.loc['Total'] = df.sum()\n",
    "n = 5\n",
    "ax = []\n",
    "fig = plt.figure(figsize = (18,28))\n",
    "gs = fig.add_gridspec(n+2, 5)\n",
    "# gs = fig.add_gridspec(2, 3)\n",
    "ax1 = fig.add_subplot(gs[0, :])\n",
    "ef = df.loc['Total'].rename_axis('date').reset_index()\n",
    "ef['date'] = ef['date'].astype('datetime64[ns]')\n",
    "ax1.bar(ef.date,ef.Total,alpha=0.3,color='#007acc')\n",
    "ax1.plot(ef.date,ef.Total , marker=\"o\", color='#007acc')\n",
    "ax1.xaxis.set_major_locator(mdates.WeekdayLocator())\n",
    "ax1.xaxis.set_major_formatter(mdates.DateFormatter('%b %d'))\n",
    "ax1.text(0.02, 0.5,'India daily case count', transform = ax1.transAxes, fontsize=25);\n",
    "ax1.spines['right'].set_visible(False)\n",
    "ax1.spines['top'].set_visible(False)\n",
    "\n",
    "ax2 = fig.add_subplot(gs[1,0])\n",
    "ef = df.loc['Maharashtra'].rename_axis('date').reset_index()\n",
    "ef['date'] = ef['date'].astype('datetime64[ns]')\n",
    "\n",
    "ax2.bar(ef.date, ef.Maharashtra,color = '#007acc',alpha=0.5)\n",
    "ax2.xaxis.set_major_locator(mdates.WeekdayLocator())\n",
    "ax2.xaxis.set_major_formatter(mdates.DateFormatter('%b %d'))\n",
    "ax2.set_xticks(ax2.get_xticks()[::3])\n",
    "maxyval = ef.Maharashtra.max()\n",
    "ax2.set_ylim([0,maxyval])\n",
    "ax2.text(0.05, 0.9,'Maharashtra', transform = ax2.transAxes, fontsize=20);\n",
    "ax2.spines['right'].set_visible(False)\n",
    "ax2.spines['top'].set_visible(False)\n",
    "\n",
    "\n",
    "ax3 = fig.add_subplot(gs[1,1])\n",
    "ef = df.loc['Tamil Nadu'].rename_axis('date').reset_index()\n",
    "ef['date'] = ef['date'].astype('datetime64[ns]')\n",
    "ax3.bar(ef.date, ef['Tamil Nadu'],color = '#007acc',alpha=0.5,)\n",
    "ax3.xaxis.set_major_locator(mdates.WeekdayLocator())\n",
    "ax3.xaxis.set_major_formatter(mdates.DateFormatter('%b %d'))\n",
    "ax3.set_xticks(ax3.get_xticks()[::3])\n",
    "ax3.text(0.05, 0.9,'Tamil Nadu', transform = ax3.transAxes, fontsize=20);\n",
    "ax3.spines['right'].set_visible(False)\n",
    "ax3.spines['top'].set_visible(False)\n",
    "\n",
    "ax5 = fig.add_subplot(gs[1,3])\n",
    "ef = df.loc['Telangana'].rename_axis('date').reset_index()\n",
    "ef['date'] = ef['date'].astype('datetime64[ns]')\n",
    "ax5.bar(ef.date, ef['Telangana'],color = '#007acc',alpha=0.5,)\n",
    "ax5.xaxis.set_major_locator(mdates.WeekdayLocator())\n",
    "ax5.xaxis.set_major_formatter(mdates.DateFormatter('%b %d'))\n",
    "ax5.set_xticks(ax5.get_xticks()[::3])\n",
    "ax5.text(0.05, 0.9,'Telangana', transform = ax5.transAxes, fontsize=20);\n",
    "ax5.spines['right'].set_visible(False)\n",
    "ax5.spines['top'].set_visible(False)\n",
    "\n",
    "ax6 = fig.add_subplot(gs[1,4])\n",
    "ef = df.loc['Andhra Pradesh'].rename_axis('date').reset_index()\n",
    "ef['date'] = ef['date'].astype('datetime64[ns]')\n",
    "ax6.bar(ef.date, ef['Andhra Pradesh'],color = '#007acc',alpha=0.5,)\n",
    "ax6.xaxis.set_major_locator(mdates.WeekdayLocator())\n",
    "ax6.xaxis.set_major_formatter(mdates.DateFormatter('%b %d'))\n",
    "ax6.set_xticks(ax6.get_xticks()[::3])\n",
    "ax6.text(0.05, 1,'Andhra Pradesh', transform = ax6.transAxes, fontsize=20);\n",
    "ax6.spines['right'].set_visible(False)\n",
    "ax6.spines['top'].set_visible(False)\n",
    "\n",
    "ax4 = fig.add_subplot(gs[1,2])\n",
    "ef = df.loc['Delhi'].rename_axis('date').reset_index()\n",
    "ef['date'] = ef['date'].astype('datetime64[ns]')\n",
    "ax4.bar(ef.date, ef.Delhi,color = '#007acc',alpha=0.5)\n",
    "ax4.set_xticks([])\n",
    "ax4.xaxis.set_major_locator(mdates.WeekdayLocator())\n",
    "ax4.xaxis.set_major_formatter(mdates.DateFormatter('%b %d'))\n",
    "ax4.set_xticks(ax4.get_xticks()[::3])\n",
    "ax4.spines['right'].set_visible(False)\n",
    "ax4.spines['top'].set_visible(False)\n",
    "\n",
    "ax4.text(0.05, 1,'Delhi', transform = ax4.transAxes, fontsize=20)\n",
    "\n",
    "for i in range(n):\n",
    "    \n",
    "    ax.append(fig.add_subplot(gs[i+2,:]))\n",
    "    ef = df.iloc[i+3].rename_axis('date').reset_index()\n",
    "    ef['date'] = ef['date'].astype('datetime64[ns]')\n",
    "    ax[i].bar(ef.date,ef.iloc[:,-1],color = '#007acc',alpha=0.3)\n",
    "    ax[i].plot(ef.date,ef.iloc[:,-1],marker='o',color='#007acc')\n",
    "    ax[i].text(0.02,0.5,f'{ef.columns.values[-1]}',transform = ax[i].transAxes, fontsize = 20);\n",
    "    ax[i].xaxis.set_major_locator(mdates.WeekdayLocator())\n",
    "    ax[i].xaxis.set_major_formatter(mdates.DateFormatter('%b %d'))\n",
    "    ax[i].set_ylim([0,7000])\n",
    "    ax[i].spines['right'].set_visible(False)\n",
    "    ax[i].spines['top'].set_visible(False)\n",
    "plt.tight_layout()\n"
   ]
  },
  {
   "cell_type": "code",
   "execution_count": 20,
   "metadata": {
    "execution": {
     "iopub.execute_input": "2020-10-06T13:52:04.438186Z",
     "iopub.status.busy": "2020-10-06T13:52:04.437440Z",
     "iopub.status.idle": "2020-10-06T13:52:04.439949Z",
     "shell.execute_reply": "2020-10-06T13:52:04.440544Z"
    },
    "papermill": {
     "duration": 0.03252,
     "end_time": "2020-10-06T13:52:04.440702",
     "exception": false,
     "start_time": "2020-10-06T13:52:04.408182",
     "status": "completed"
    },
    "tags": []
   },
   "outputs": [
    {
     "name": "stdout",
     "output_type": "stream",
     "text": [
      "                                   states    Cases  Deaths   PCases  PDeaths  Cases (+)  Deaths (+)  Fatality Rate\n",
      "                              Maharashtra  1453653   38347  1453653    38347          0           0           2.64\n",
      "                           Andhra Pradesh   723512    6019   723512     6019          0           0           0.83\n",
      "                                Karnataka   647712    9370   647712     9370          0           0           1.45\n",
      "                               Tamil Nadu   625391    9846   625391     9846          0           0           1.57\n",
      "                            Uttar Pradesh   417437    6092   417437     6092          0           0           1.46\n",
      "                                    Delhi   292560    5542   292560     5542          0           0           1.89\n",
      "                              West Bengal   273679    5255   273679     5255          0           0           1.92\n",
      "                                   Kerala   242800     885   234929      860       7871          25           0.36\n",
      "                                   Odisha   238003     993   235330      977       2673          16           0.42\n",
      "                                Telangana   202594    1181   200611     1171       1983          10           0.58\n",
      "                                    Bihar   188858     924   188858      924          0           0           0.49\n",
      "                                    Assam   187718     760   187718      760          0           0           0.40\n",
      "                                Rajasthan   146195    1559   146195     1559          0           0           1.07\n",
      "                                  Gujarat   144026    3512   144026     3512          0           0           2.44\n",
      "                           Madhya Pradesh   137098    2463   137098     2463          0           0           1.80\n",
      "                                  Haryana   134909    1491   134909     1491          0           0           1.11\n",
      "                             Chhattisgarh   126005    1081   126005     1081          0           0           0.86\n",
      "                                   Punjab   119186    3641   119186     3641          0           0           3.05\n",
      "                                Jharkhand    88026     747    88026      747          0           0           0.85\n",
      "                        Jammu and Kashmir    79738    1252    79738     1252          0           0           1.57\n",
      "                              Uttarakhand    51991     669    51991      669          0           0           1.29\n",
      "                                      Goa    35719     460    35719      460          0           0           1.29\n",
      "                               Puducherry    29277     543    29277      543          0           0           1.85\n",
      "                                  Tripura    27305     298    27030      296        275           2           1.09\n",
      "                         Himachal Pradesh    16033     219    16033      219          0           0           1.37\n",
      "                               Chandigarh    12578     177    12578      177          0           0           1.41\n",
      "                                  Manipur    12105      75    12105       75          0           0           0.62\n",
      "                        Arunachal Pradesh    10783      19    10783       19          0           0           0.18\n",
      "                                Meghalaya     6765      59     6765       59          0           0           0.87\n",
      "                                 Nagaland     6594      12     6594       12          0           0           0.18\n",
      "                                   Ladakh     4641      61     4641       61          0           0           1.31\n",
      "              Andaman and Nicobar Islands     3899      54     3899       54          0           0           1.38\n",
      "                                   Sikkim     3110      46     3110       46          0           0           1.48\n",
      " Dadra and Nagar Haveli and Daman and Diu     3090       2     3090        2          0           0           0.06\n",
      "                                  Mizoram     2128       0     2120        0          8           0           0.00\n",
      "                              Lakshadweep        0       0        0        0          0           0            NaN\n"
     ]
    }
   ],
   "source": [
    "#hide_input\n",
    "print(df_table.to_string(index=False))"
   ]
  },
  {
   "cell_type": "code",
   "execution_count": null,
   "metadata": {
    "papermill": {
     "duration": 0.02511,
     "end_time": "2020-10-06T13:52:04.493012",
     "exception": false,
     "start_time": "2020-10-06T13:52:04.467902",
     "status": "completed"
    },
    "tags": []
   },
   "outputs": [],
   "source": []
  },
  {
   "cell_type": "code",
   "execution_count": null,
   "metadata": {
    "papermill": {
     "duration": 0.025271,
     "end_time": "2020-10-06T13:52:04.544627",
     "exception": false,
     "start_time": "2020-10-06T13:52:04.519356",
     "status": "completed"
    },
    "tags": []
   },
   "outputs": [],
   "source": []
  }
 ],
 "metadata": {
  "kernelspec": {
   "display_name": "Python 3",
   "language": "python",
   "name": "python3"
  },
  "language_info": {
   "codemirror_mode": {
    "name": "ipython",
    "version": 3
   },
   "file_extension": ".py",
   "mimetype": "text/x-python",
   "name": "python",
   "nbconvert_exporter": "python",
   "pygments_lexer": "ipython3",
   "version": "3.6.12"
  },
  "papermill": {
   "duration": 12.307883,
   "end_time": "2020-10-06T13:52:05.970267",
   "environment_variables": {},
   "exception": null,
   "input_path": "latest.ipynb",
   "output_path": "latest.ipynb",
   "parameters": {},
   "start_time": "2020-10-06T13:51:53.662384",
   "version": "2.1.2"
  }
 },
 "nbformat": 4,
 "nbformat_minor": 4
}