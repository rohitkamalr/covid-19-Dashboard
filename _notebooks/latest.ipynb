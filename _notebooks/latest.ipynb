{
 "cells": [
  {
   "cell_type": "markdown",
   "metadata": {
    "papermill": {
     "duration": 0.020293,
     "end_time": "2020-12-11T13:51:47.343767",
     "exception": false,
     "start_time": "2020-12-11T13:51:47.323474",
     "status": "completed"
    },
    "tags": []
   },
   "source": [
    "# Latest COVID-19 India Matplotlib Overview"
   ]
  },
  {
   "cell_type": "code",
   "execution_count": 1,
   "metadata": {
    "execution": {
     "iopub.execute_input": "2020-12-11T13:51:47.389012Z",
     "iopub.status.busy": "2020-12-11T13:51:47.388400Z",
     "iopub.status.idle": "2020-12-11T13:51:47.989259Z",
     "shell.execute_reply": "2020-12-11T13:51:47.988652Z"
    },
    "papermill": {
     "duration": 0.629033,
     "end_time": "2020-12-11T13:51:47.989436",
     "exception": false,
     "start_time": "2020-12-11T13:51:47.360403",
     "status": "completed"
    },
    "tags": []
   },
   "outputs": [],
   "source": [
    "#hide\n",
    "import pandas as pd\n",
    "import numpy as np\n",
    "import requests\n",
    "import json\n",
    "import matplotlib.pyplot as plt\n",
    "import matplotlib.dates as mdates\n",
    "import matplotlib as mpl\n",
    "from IPython.core.display import display,HTML\n",
    "%matplotlib inline\n",
    "from datetime import date"
   ]
  },
  {
   "cell_type": "code",
   "execution_count": 2,
   "metadata": {
    "execution": {
     "iopub.execute_input": "2020-12-11T13:51:48.028403Z",
     "iopub.status.busy": "2020-12-11T13:51:48.027794Z",
     "iopub.status.idle": "2020-12-11T13:51:48.156603Z",
     "shell.execute_reply": "2020-12-11T13:51:48.156074Z"
    },
    "papermill": {
     "duration": 0.151175,
     "end_time": "2020-12-11T13:51:48.156740",
     "exception": false,
     "start_time": "2020-12-11T13:51:48.005565",
     "status": "completed"
    },
    "tags": []
   },
   "outputs": [],
   "source": [
    "#hide\n",
    "df  = pd.read_csv('https://api.covid19india.org/csv/latest/states.csv')\n",
    "df = df[['Date','State','Confirmed','Deceased']]\n",
    "df = df.rename(columns={'Confirmed':'Cases', \"Deceased\":'Deaths'})\n",
    "df_cases = df[[\"Date\",'State','Cases']]\n",
    "df_deaths = df[['Date','State','Deaths']]\n",
    "df_cases1 = df_cases.groupby('Date')\n",
    "df_deaths1= df_deaths.groupby('Date')"
   ]
  },
  {
   "cell_type": "code",
   "execution_count": 3,
   "metadata": {
    "execution": {
     "iopub.execute_input": "2020-12-11T13:51:48.193556Z",
     "iopub.status.busy": "2020-12-11T13:51:48.192978Z",
     "iopub.status.idle": "2020-12-11T13:51:48.213367Z",
     "shell.execute_reply": "2020-12-11T13:51:48.212921Z"
    },
    "papermill": {
     "duration": 0.041299,
     "end_time": "2020-12-11T13:51:48.213494",
     "exception": false,
     "start_time": "2020-12-11T13:51:48.172195",
     "status": "completed"
    },
    "tags": []
   },
   "outputs": [],
   "source": [
    "#hide\n",
    "df_snap = pd.read_csv('data/SnapshotCases-28-July.csv')\n",
    "arr_states = df_snap['states'].unique()\n",
    "arr_dates = df['Date'].unique()\n",
    "df_snap = df_snap.set_index('states')"
   ]
  },
  {
   "cell_type": "code",
   "execution_count": 4,
   "metadata": {
    "execution": {
     "iopub.execute_input": "2020-12-11T13:51:48.250766Z",
     "iopub.status.busy": "2020-12-11T13:51:48.250182Z",
     "iopub.status.idle": "2020-12-11T13:51:48.253633Z",
     "shell.execute_reply": "2020-12-11T13:51:48.253143Z"
    },
    "papermill": {
     "duration": 0.025254,
     "end_time": "2020-12-11T13:51:48.253754",
     "exception": false,
     "start_time": "2020-12-11T13:51:48.228500",
     "status": "completed"
    },
    "tags": []
   },
   "outputs": [
    {
     "data": {
      "text/plain": [
       "array(['Andaman and Nicobar Islands', 'Andhra Pradesh',\n",
       "       'Arunachal Pradesh', 'Assam', 'Bihar', 'Chandigarh',\n",
       "       'Dadra and Nagar Haveli and Daman and Diu', 'Delhi', 'Goa',\n",
       "       'Gujarat', 'Haryana', 'Himachal Pradesh', 'Jammu and Kashmir',\n",
       "       'Jharkhand', 'Karnataka', 'Kerala', 'Lakshadweep',\n",
       "       'Madhya Pradesh', 'Maharashtra', 'Manipur', 'Meghalaya', 'Mizoram',\n",
       "       'Nagaland', 'Odisha', 'Puducherry', 'Punjab', 'Rajasthan',\n",
       "       'Sikkim', 'Tamil Nadu', 'Telangana', 'Tripura', 'Uttar Pradesh',\n",
       "       'West Bengal', 'Chhattisgarh', 'Ladakh', 'Uttarakhand'],\n",
       "      dtype=object)"
      ]
     },
     "execution_count": 4,
     "metadata": {},
     "output_type": "execute_result"
    }
   ],
   "source": [
    "#hide\n",
    "arr_states[-9] = 'Puducherry'\n",
    "arr_states[-10] = 'Odisha'\n",
    "arr_states[6] = 'Dadra and Nagar Haveli and Daman and Diu'\n",
    "arr_states = np.append(arr_states,np.array(['Chhattisgarh','Ladakh','Uttarakhand']))\n",
    "arr_states"
   ]
  },
  {
   "cell_type": "code",
   "execution_count": 5,
   "metadata": {
    "execution": {
     "iopub.execute_input": "2020-12-11T13:51:48.296007Z",
     "iopub.status.busy": "2020-12-11T13:51:48.295441Z",
     "iopub.status.idle": "2020-12-11T13:51:48.303493Z",
     "shell.execute_reply": "2020-12-11T13:51:48.304045Z"
    },
    "papermill": {
     "duration": 0.034829,
     "end_time": "2020-12-11T13:51:48.304188",
     "exception": false,
     "start_time": "2020-12-11T13:51:48.269359",
     "status": "completed"
    },
    "tags": []
   },
   "outputs": [],
   "source": [
    "#hide\n",
    "dates = []\n",
    "for i in arr_dates:\n",
    "    if i>='2020-07-01':\n",
    "        dates.append(i)\n",
    "dict = {'states':dates}\n",
    "for i in arr_states:\n",
    "    dict[i] = [0]*len(dates)\n",
    "dft_cases = pd.DataFrame(dict)\n",
    "dft_deaths = pd.DataFrame(dict)\n"
   ]
  },
  {
   "cell_type": "code",
   "execution_count": 6,
   "metadata": {
    "execution": {
     "iopub.execute_input": "2020-12-11T13:51:48.347459Z",
     "iopub.status.busy": "2020-12-11T13:51:48.346814Z",
     "iopub.status.idle": "2020-12-11T13:51:50.728317Z",
     "shell.execute_reply": "2020-12-11T13:51:50.727802Z"
    },
    "papermill": {
     "duration": 2.407498,
     "end_time": "2020-12-11T13:51:50.728456",
     "exception": false,
     "start_time": "2020-12-11T13:51:48.320958",
     "status": "completed"
    },
    "tags": []
   },
   "outputs": [],
   "source": [
    "#hide\n",
    "for i in range(len(dates)):\n",
    "    df1_deaths = df_deaths1.get_group(dates[i])\n",
    "    for j in range(len(df1_deaths.index)):\n",
    "        if df1_deaths.iloc[j,1] in arr_states:\n",
    "            dft_deaths.loc[i,df1_deaths.iloc[j,1]] = df1_deaths.iloc[j,2]\n",
    "dft_deaths = dft_deaths.set_index('states')"
   ]
  },
  {
   "cell_type": "code",
   "execution_count": 7,
   "metadata": {
    "execution": {
     "iopub.execute_input": "2020-12-11T13:51:50.768187Z",
     "iopub.status.busy": "2020-12-11T13:51:50.767509Z",
     "iopub.status.idle": "2020-12-11T13:51:53.143193Z",
     "shell.execute_reply": "2020-12-11T13:51:53.143668Z"
    },
    "papermill": {
     "duration": 2.398859,
     "end_time": "2020-12-11T13:51:53.143832",
     "exception": false,
     "start_time": "2020-12-11T13:51:50.744973",
     "status": "completed"
    },
    "tags": []
   },
   "outputs": [],
   "source": [
    "#hide\n",
    "for i in range(len(dates)):\n",
    "    df1_cases = df_cases1.get_group(dates[i])\n",
    "    for j in range(len(df1_cases.index)):\n",
    "        if df1_cases.iloc[j,1] in arr_states:\n",
    "            dft_cases.loc[i,df1_cases.iloc[j,1]] = df1_cases.iloc[j,2]\n",
    "dft_cases = dft_cases.set_index('states')"
   ]
  },
  {
   "cell_type": "code",
   "execution_count": 8,
   "metadata": {
    "execution": {
     "iopub.execute_input": "2020-12-11T13:51:53.183571Z",
     "iopub.status.busy": "2020-12-11T13:51:53.182980Z",
     "iopub.status.idle": "2020-12-11T13:51:53.185485Z",
     "shell.execute_reply": "2020-12-11T13:51:53.185015Z"
    },
    "papermill": {
     "duration": 0.024613,
     "end_time": "2020-12-11T13:51:53.185614",
     "exception": false,
     "start_time": "2020-12-11T13:51:53.161001",
     "status": "completed"
    },
    "tags": []
   },
   "outputs": [],
   "source": [
    "#hide\n",
    "dft_cases = dft_cases.T\n",
    "dft_deaths = dft_deaths.T\n",
    "dt_today = dates[-1]\n",
    "dt_yday = dates[-2]"
   ]
  },
  {
   "cell_type": "code",
   "execution_count": 9,
   "metadata": {
    "execution": {
     "iopub.execute_input": "2020-12-11T13:51:53.222878Z",
     "iopub.status.busy": "2020-12-11T13:51:53.222273Z",
     "iopub.status.idle": "2020-12-11T13:51:53.227497Z",
     "shell.execute_reply": "2020-12-11T13:51:53.228035Z"
    },
    "papermill": {
     "duration": 0.027002,
     "end_time": "2020-12-11T13:51:53.228178",
     "exception": false,
     "start_time": "2020-12-11T13:51:53.201176",
     "status": "completed"
    },
    "tags": []
   },
   "outputs": [],
   "source": [
    "#hide\n",
    "dft_cases = dft_cases.reset_index()\n",
    "dft_deaths = dft_deaths.reset_index()\n",
    "dft_cases = dft_cases.rename(columns = {'index':'state'})\n",
    "dft_deaths = dft_deaths.rename(columns = {'index':'state'})"
   ]
  },
  {
   "cell_type": "code",
   "execution_count": 10,
   "metadata": {
    "execution": {
     "iopub.execute_input": "2020-12-11T13:51:53.269250Z",
     "iopub.status.busy": "2020-12-11T13:51:53.268676Z",
     "iopub.status.idle": "2020-12-11T13:51:53.273604Z",
     "shell.execute_reply": "2020-12-11T13:51:53.273170Z"
    },
    "papermill": {
     "duration": 0.029359,
     "end_time": "2020-12-11T13:51:53.273726",
     "exception": false,
     "start_time": "2020-12-11T13:51:53.244367",
     "status": "completed"
    },
    "tags": []
   },
   "outputs": [],
   "source": [
    "#hide\n",
    "dfc_cases = dft_cases.groupby('state')[dt_today].sum()\n",
    "dfc_deaths = dft_deaths.groupby('state')[dt_today].sum()\n",
    "dfp_cases = dft_cases.groupby('state')[dt_yday].sum()\n",
    "dfp_deaths = dft_deaths.groupby('state')[dt_yday].sum()"
   ]
  },
  {
   "cell_type": "code",
   "execution_count": 11,
   "metadata": {
    "execution": {
     "iopub.execute_input": "2020-12-11T13:51:53.320546Z",
     "iopub.status.busy": "2020-12-11T13:51:53.319953Z",
     "iopub.status.idle": "2020-12-11T13:51:53.326749Z",
     "shell.execute_reply": "2020-12-11T13:51:53.327219Z"
    },
    "papermill": {
     "duration": 0.038278,
     "end_time": "2020-12-11T13:51:53.327371",
     "exception": false,
     "start_time": "2020-12-11T13:51:53.289093",
     "status": "completed"
    },
    "tags": []
   },
   "outputs": [
    {
     "data": {
      "text/html": [
       "<div>\n",
       "<style scoped>\n",
       "    .dataframe tbody tr th:only-of-type {\n",
       "        vertical-align: middle;\n",
       "    }\n",
       "\n",
       "    .dataframe tbody tr th {\n",
       "        vertical-align: top;\n",
       "    }\n",
       "\n",
       "    .dataframe thead th {\n",
       "        text-align: right;\n",
       "    }\n",
       "</style>\n",
       "<table border=\"1\" class=\"dataframe\">\n",
       "  <thead>\n",
       "    <tr style=\"text-align: right;\">\n",
       "      <th></th>\n",
       "      <th>states</th>\n",
       "      <th>Cases</th>\n",
       "      <th>Deaths</th>\n",
       "      <th>PCases</th>\n",
       "      <th>PDeaths</th>\n",
       "    </tr>\n",
       "  </thead>\n",
       "  <tbody>\n",
       "    <tr>\n",
       "      <th>0</th>\n",
       "      <td>Maharashtra</td>\n",
       "      <td>1868172</td>\n",
       "      <td>47972</td>\n",
       "      <td>1868172</td>\n",
       "      <td>47972</td>\n",
       "    </tr>\n",
       "    <tr>\n",
       "      <th>1</th>\n",
       "      <td>Karnataka</td>\n",
       "      <td>897801</td>\n",
       "      <td>11912</td>\n",
       "      <td>897801</td>\n",
       "      <td>11912</td>\n",
       "    </tr>\n",
       "    <tr>\n",
       "      <th>2</th>\n",
       "      <td>Andhra Pradesh</td>\n",
       "      <td>873995</td>\n",
       "      <td>7047</td>\n",
       "      <td>873995</td>\n",
       "      <td>7047</td>\n",
       "    </tr>\n",
       "    <tr>\n",
       "      <th>3</th>\n",
       "      <td>Tamil Nadu</td>\n",
       "      <td>795240</td>\n",
       "      <td>11853</td>\n",
       "      <td>795240</td>\n",
       "      <td>11853</td>\n",
       "    </tr>\n",
       "    <tr>\n",
       "      <th>4</th>\n",
       "      <td>Kerala</td>\n",
       "      <td>658684</td>\n",
       "      <td>2563</td>\n",
       "      <td>654042</td>\n",
       "      <td>2534</td>\n",
       "    </tr>\n",
       "  </tbody>\n",
       "</table>\n",
       "</div>"
      ],
      "text/plain": [
       "           states    Cases  Deaths   PCases  PDeaths\n",
       "0     Maharashtra  1868172   47972  1868172    47972\n",
       "1       Karnataka   897801   11912   897801    11912\n",
       "2  Andhra Pradesh   873995    7047   873995     7047\n",
       "3      Tamil Nadu   795240   11853   795240    11853\n",
       "4          Kerala   658684    2563   654042     2534"
      ]
     },
     "execution_count": 11,
     "metadata": {},
     "output_type": "execute_result"
    }
   ],
   "source": [
    "#hide\n",
    "df_table = pd.DataFrame({'states': dfc_cases.index, 'Cases': dfc_cases.values, 'Deaths': dfc_deaths.values, 'PCases': dfp_cases.values, 'PDeaths': dfp_deaths.values}).set_index('states')\n",
    "df_table = df_table.sort_values(by = ['Cases','Deaths'], ascending = [False, False])\n",
    "df_table = df_table.reset_index()\n",
    "df_table.head()"
   ]
  },
  {
   "cell_type": "code",
   "execution_count": 12,
   "metadata": {
    "execution": {
     "iopub.execute_input": "2020-12-11T13:51:53.367216Z",
     "iopub.status.busy": "2020-12-11T13:51:53.366601Z",
     "iopub.status.idle": "2020-12-11T13:51:53.374976Z",
     "shell.execute_reply": "2020-12-11T13:51:53.375487Z"
    },
    "papermill": {
     "duration": 0.030836,
     "end_time": "2020-12-11T13:51:53.375647",
     "exception": false,
     "start_time": "2020-12-11T13:51:53.344811",
     "status": "completed"
    },
    "tags": []
   },
   "outputs": [],
   "source": [
    "#hide\n",
    "for c in 'Cases, Deaths'.split(', '):\n",
    "    df_table[f'{c} (+)'] = (df_table[c] - df_table[f'P{c}']).clip(0)\n",
    "df_table['Fatality Rate'] = (100* df_table['Deaths']/ df_table['Cases']).round(2)"
   ]
  },
  {
   "cell_type": "code",
   "execution_count": 13,
   "metadata": {
    "execution": {
     "iopub.execute_input": "2020-12-11T13:51:53.420549Z",
     "iopub.status.busy": "2020-12-11T13:51:53.419942Z",
     "iopub.status.idle": "2020-12-11T13:51:53.422913Z",
     "shell.execute_reply": "2020-12-11T13:51:53.423363Z"
    },
    "papermill": {
     "duration": 0.031749,
     "end_time": "2020-12-11T13:51:53.423520",
     "exception": false,
     "start_time": "2020-12-11T13:51:53.391771",
     "status": "completed"
    },
    "tags": []
   },
   "outputs": [
    {
     "data": {
      "text/html": [
       "<div>\n",
       "<style scoped>\n",
       "    .dataframe tbody tr th:only-of-type {\n",
       "        vertical-align: middle;\n",
       "    }\n",
       "\n",
       "    .dataframe tbody tr th {\n",
       "        vertical-align: top;\n",
       "    }\n",
       "\n",
       "    .dataframe thead th {\n",
       "        text-align: right;\n",
       "    }\n",
       "</style>\n",
       "<table border=\"1\" class=\"dataframe\">\n",
       "  <thead>\n",
       "    <tr style=\"text-align: right;\">\n",
       "      <th></th>\n",
       "      <th>states</th>\n",
       "      <th>Cases</th>\n",
       "      <th>Deaths</th>\n",
       "      <th>PCases</th>\n",
       "      <th>PDeaths</th>\n",
       "      <th>Cases (+)</th>\n",
       "      <th>Deaths (+)</th>\n",
       "      <th>Fatality Rate</th>\n",
       "    </tr>\n",
       "  </thead>\n",
       "  <tbody>\n",
       "    <tr>\n",
       "      <th>0</th>\n",
       "      <td>Maharashtra</td>\n",
       "      <td>1868172</td>\n",
       "      <td>47972</td>\n",
       "      <td>1868172</td>\n",
       "      <td>47972</td>\n",
       "      <td>0</td>\n",
       "      <td>0</td>\n",
       "      <td>2.57</td>\n",
       "    </tr>\n",
       "    <tr>\n",
       "      <th>1</th>\n",
       "      <td>Karnataka</td>\n",
       "      <td>897801</td>\n",
       "      <td>11912</td>\n",
       "      <td>897801</td>\n",
       "      <td>11912</td>\n",
       "      <td>0</td>\n",
       "      <td>0</td>\n",
       "      <td>1.33</td>\n",
       "    </tr>\n",
       "    <tr>\n",
       "      <th>2</th>\n",
       "      <td>Andhra Pradesh</td>\n",
       "      <td>873995</td>\n",
       "      <td>7047</td>\n",
       "      <td>873995</td>\n",
       "      <td>7047</td>\n",
       "      <td>0</td>\n",
       "      <td>0</td>\n",
       "      <td>0.81</td>\n",
       "    </tr>\n",
       "    <tr>\n",
       "      <th>3</th>\n",
       "      <td>Tamil Nadu</td>\n",
       "      <td>795240</td>\n",
       "      <td>11853</td>\n",
       "      <td>795240</td>\n",
       "      <td>11853</td>\n",
       "      <td>0</td>\n",
       "      <td>0</td>\n",
       "      <td>1.49</td>\n",
       "    </tr>\n",
       "    <tr>\n",
       "      <th>4</th>\n",
       "      <td>Kerala</td>\n",
       "      <td>658684</td>\n",
       "      <td>2563</td>\n",
       "      <td>654042</td>\n",
       "      <td>2534</td>\n",
       "      <td>4642</td>\n",
       "      <td>29</td>\n",
       "      <td>0.39</td>\n",
       "    </tr>\n",
       "  </tbody>\n",
       "</table>\n",
       "</div>"
      ],
      "text/plain": [
       "           states    Cases  Deaths   PCases  PDeaths  Cases (+)  Deaths (+)  \\\n",
       "0     Maharashtra  1868172   47972  1868172    47972          0           0   \n",
       "1       Karnataka   897801   11912   897801    11912          0           0   \n",
       "2  Andhra Pradesh   873995    7047   873995     7047          0           0   \n",
       "3      Tamil Nadu   795240   11853   795240    11853          0           0   \n",
       "4          Kerala   658684    2563   654042     2534       4642          29   \n",
       "\n",
       "   Fatality Rate  \n",
       "0           2.57  \n",
       "1           1.33  \n",
       "2           0.81  \n",
       "3           1.49  \n",
       "4           0.39  "
      ]
     },
     "execution_count": 13,
     "metadata": {},
     "output_type": "execute_result"
    }
   ],
   "source": [
    "#hide\n",
    "df_table.head()"
   ]
  },
  {
   "cell_type": "code",
   "execution_count": 14,
   "metadata": {
    "execution": {
     "iopub.execute_input": "2020-12-11T13:51:53.463759Z",
     "iopub.status.busy": "2020-12-11T13:51:53.463174Z",
     "iopub.status.idle": "2020-12-11T13:51:53.479079Z",
     "shell.execute_reply": "2020-12-11T13:51:53.478584Z"
    },
    "papermill": {
     "duration": 0.039026,
     "end_time": "2020-12-11T13:51:53.479212",
     "exception": false,
     "start_time": "2020-12-11T13:51:53.440186",
     "status": "completed"
    },
    "tags": []
   },
   "outputs": [
    {
     "data": {
      "text/plain": [
       "{'updated': '2020-12-11',\n",
       " 'since': '2020-12-10',\n",
       " 'Cases': 9802741,\n",
       " 'PCases': 9797065,\n",
       " 'Deaths': 142259,\n",
       " 'PDeaths': 142222,\n",
       " 'Cases (+)': 5676,\n",
       " 'Deaths (+)': 37}"
      ]
     },
     "execution_count": 14,
     "metadata": {},
     "output_type": "execute_result"
    }
   ],
   "source": [
    "#hide\n",
    "summary = {'updated':dates[-1], 'since':dates[-2]}\n",
    "list_names = ['Cases', 'PCases', 'Deaths', 'PDeaths', 'Cases (+)', 'Deaths (+)']\n",
    "for name in list_names:\n",
    "    summary[name] = df_table.sum()[name]\n",
    "summary"
   ]
  },
  {
   "cell_type": "code",
   "execution_count": 15,
   "metadata": {
    "execution": {
     "iopub.execute_input": "2020-12-11T13:51:53.518024Z",
     "iopub.status.busy": "2020-12-11T13:51:53.517145Z",
     "iopub.status.idle": "2020-12-11T13:51:53.518721Z",
     "shell.execute_reply": "2020-12-11T13:51:53.519386Z"
    },
    "papermill": {
     "duration": 0.023531,
     "end_time": "2020-12-11T13:51:53.519548",
     "exception": false,
     "start_time": "2020-12-11T13:51:53.496017",
     "status": "completed"
    },
    "tags": []
   },
   "outputs": [],
   "source": [
    "#hide\n",
    "overview = '''\n",
    "<!-- #######  HTML!! #########-->\n",
    "<h1 style=\"color: #5e9ca0; text-align: center;\">India</h1>\n",
    "<p style=\"text-align: center;\">Last update: <strong>{update}</strong></p>\n",
    "<p style=\"text-align: center;\">Confirmed cases:</p>\n",
    "<p style=\"text-align: center;font-size:24px;\">{cases} (<span style=\"color: #ff0000;\">+{new}</span>)</p>\n",
    "<p style=\"text-align: center;\">Confirmed deaths:</p>\n",
    "<p style=\"text-align: center;font-size:24px;\">{deaths} (<span style=\"color: #ff0000;\">+{dnew}</span>)</p>\n",
    "'''"
   ]
  },
  {
   "cell_type": "code",
   "execution_count": 16,
   "metadata": {
    "execution": {
     "iopub.execute_input": "2020-12-11T13:51:53.559502Z",
     "iopub.status.busy": "2020-12-11T13:51:53.558901Z",
     "iopub.status.idle": "2020-12-11T13:51:53.562653Z",
     "shell.execute_reply": "2020-12-11T13:51:53.561884Z"
    },
    "papermill": {
     "duration": 0.026545,
     "end_time": "2020-12-11T13:51:53.562812",
     "exception": false,
     "start_time": "2020-12-11T13:51:53.536267",
     "status": "completed"
    },
    "tags": []
   },
   "outputs": [
    {
     "data": {
      "text/html": [
       "\n",
       "<!-- #######  HTML!! #########-->\n",
       "<h1 style=\"color: #5e9ca0; text-align: center;\">India</h1>\n",
       "<p style=\"text-align: center;\">Last update: <strong>2020-12-11</strong></p>\n",
       "<p style=\"text-align: center;\">Confirmed cases:</p>\n",
       "<p style=\"text-align: center;font-size:24px;\">9802741 (<span style=\"color: #ff0000;\">+5676</span>)</p>\n",
       "<p style=\"text-align: center;\">Confirmed deaths:</p>\n",
       "<p style=\"text-align: center;font-size:24px;\">142259 (<span style=\"color: #ff0000;\">+37</span>)</p>\n"
      ],
      "text/plain": [
       "<IPython.core.display.HTML object>"
      ]
     },
     "metadata": {},
     "output_type": "display_data"
    }
   ],
   "source": [
    "#hide_input\n",
    "update = summary['updated']\n",
    "cases = summary['Cases']\n",
    "new = summary['Cases (+)']\n",
    "deaths = summary['Deaths']\n",
    "dnew = summary['Deaths (+)']\n",
    "\n",
    "html = HTML(overview.format(update=update, cases=cases,new=new,deaths=deaths,dnew=dnew))\n",
    "\n",
    "display(html)"
   ]
  },
  {
   "cell_type": "code",
   "execution_count": 17,
   "metadata": {
    "execution": {
     "iopub.execute_input": "2020-12-11T13:51:53.605368Z",
     "iopub.status.busy": "2020-12-11T13:51:53.604725Z",
     "iopub.status.idle": "2020-12-11T13:51:53.612675Z",
     "shell.execute_reply": "2020-12-11T13:51:53.612179Z"
    },
    "papermill": {
     "duration": 0.031989,
     "end_time": "2020-12-11T13:51:53.612803",
     "exception": false,
     "start_time": "2020-12-11T13:51:53.580814",
     "status": "completed"
    },
    "tags": []
   },
   "outputs": [],
   "source": [
    "#hide\n",
    "dt_cols = list(dft_cases.columns[1:])\n",
    "dft_ct_new_cases = dft_cases.groupby('state')[dt_cols].sum().diff(axis=1).fillna(0).astype(int)\n",
    "dft_ct_new_cases.sort_values(by = dates[-1], ascending = False,inplace = True)"
   ]
  },
  {
   "cell_type": "code",
   "execution_count": 18,
   "metadata": {
    "execution": {
     "iopub.execute_input": "2020-12-11T13:51:53.667652Z",
     "iopub.status.busy": "2020-12-11T13:51:53.667045Z",
     "iopub.status.idle": "2020-12-11T13:51:53.670354Z",
     "shell.execute_reply": "2020-12-11T13:51:53.669859Z"
    },
    "papermill": {
     "duration": 0.039633,
     "end_time": "2020-12-11T13:51:53.670485",
     "exception": false,
     "start_time": "2020-12-11T13:51:53.630852",
     "status": "completed"
    },
    "tags": []
   },
   "outputs": [
    {
     "data": {
      "text/html": [
       "<div>\n",
       "<style scoped>\n",
       "    .dataframe tbody tr th:only-of-type {\n",
       "        vertical-align: middle;\n",
       "    }\n",
       "\n",
       "    .dataframe tbody tr th {\n",
       "        vertical-align: top;\n",
       "    }\n",
       "\n",
       "    .dataframe thead th {\n",
       "        text-align: right;\n",
       "    }\n",
       "</style>\n",
       "<table border=\"1\" class=\"dataframe\">\n",
       "  <thead>\n",
       "    <tr style=\"text-align: right;\">\n",
       "      <th>states</th>\n",
       "      <th>2020-07-01</th>\n",
       "      <th>2020-07-02</th>\n",
       "      <th>2020-07-03</th>\n",
       "      <th>2020-07-04</th>\n",
       "      <th>2020-07-05</th>\n",
       "      <th>2020-07-06</th>\n",
       "      <th>2020-07-07</th>\n",
       "      <th>2020-07-08</th>\n",
       "      <th>2020-07-09</th>\n",
       "      <th>2020-07-10</th>\n",
       "      <th>...</th>\n",
       "      <th>2020-12-02</th>\n",
       "      <th>2020-12-03</th>\n",
       "      <th>2020-12-04</th>\n",
       "      <th>2020-12-05</th>\n",
       "      <th>2020-12-06</th>\n",
       "      <th>2020-12-07</th>\n",
       "      <th>2020-12-08</th>\n",
       "      <th>2020-12-09</th>\n",
       "      <th>2020-12-10</th>\n",
       "      <th>2020-12-11</th>\n",
       "    </tr>\n",
       "    <tr>\n",
       "      <th>state</th>\n",
       "      <th></th>\n",
       "      <th></th>\n",
       "      <th></th>\n",
       "      <th></th>\n",
       "      <th></th>\n",
       "      <th></th>\n",
       "      <th></th>\n",
       "      <th></th>\n",
       "      <th></th>\n",
       "      <th></th>\n",
       "      <th></th>\n",
       "      <th></th>\n",
       "      <th></th>\n",
       "      <th></th>\n",
       "      <th></th>\n",
       "      <th></th>\n",
       "      <th></th>\n",
       "      <th></th>\n",
       "      <th></th>\n",
       "      <th></th>\n",
       "      <th></th>\n",
       "    </tr>\n",
       "  </thead>\n",
       "  <tbody>\n",
       "    <tr>\n",
       "      <th>Kerala</th>\n",
       "      <td>0</td>\n",
       "      <td>160</td>\n",
       "      <td>211</td>\n",
       "      <td>240</td>\n",
       "      <td>225</td>\n",
       "      <td>193</td>\n",
       "      <td>272</td>\n",
       "      <td>301</td>\n",
       "      <td>339</td>\n",
       "      <td>416</td>\n",
       "      <td>...</td>\n",
       "      <td>6316</td>\n",
       "      <td>5376</td>\n",
       "      <td>5718</td>\n",
       "      <td>5848</td>\n",
       "      <td>4777</td>\n",
       "      <td>3272</td>\n",
       "      <td>5032</td>\n",
       "      <td>4875</td>\n",
       "      <td>4470</td>\n",
       "      <td>4642</td>\n",
       "    </tr>\n",
       "    <tr>\n",
       "      <th>Telangana</th>\n",
       "      <td>0</td>\n",
       "      <td>1213</td>\n",
       "      <td>1892</td>\n",
       "      <td>1850</td>\n",
       "      <td>1590</td>\n",
       "      <td>1831</td>\n",
       "      <td>1879</td>\n",
       "      <td>1924</td>\n",
       "      <td>1410</td>\n",
       "      <td>1278</td>\n",
       "      <td>...</td>\n",
       "      <td>565</td>\n",
       "      <td>609</td>\n",
       "      <td>631</td>\n",
       "      <td>596</td>\n",
       "      <td>622</td>\n",
       "      <td>517</td>\n",
       "      <td>682</td>\n",
       "      <td>721</td>\n",
       "      <td>643</td>\n",
       "      <td>612</td>\n",
       "    </tr>\n",
       "    <tr>\n",
       "      <th>Odisha</th>\n",
       "      <td>0</td>\n",
       "      <td>229</td>\n",
       "      <td>561</td>\n",
       "      <td>495</td>\n",
       "      <td>469</td>\n",
       "      <td>456</td>\n",
       "      <td>571</td>\n",
       "      <td>527</td>\n",
       "      <td>577</td>\n",
       "      <td>755</td>\n",
       "      <td>...</td>\n",
       "      <td>480</td>\n",
       "      <td>434</td>\n",
       "      <td>377</td>\n",
       "      <td>409</td>\n",
       "      <td>393</td>\n",
       "      <td>368</td>\n",
       "      <td>349</td>\n",
       "      <td>386</td>\n",
       "      <td>343</td>\n",
       "      <td>387</td>\n",
       "    </tr>\n",
       "    <tr>\n",
       "      <th>Tripura</th>\n",
       "      <td>0</td>\n",
       "      <td>39</td>\n",
       "      <td>93</td>\n",
       "      <td>25</td>\n",
       "      <td>23</td>\n",
       "      <td>111</td>\n",
       "      <td>24</td>\n",
       "      <td>57</td>\n",
       "      <td>16</td>\n",
       "      <td>142</td>\n",
       "      <td>...</td>\n",
       "      <td>38</td>\n",
       "      <td>39</td>\n",
       "      <td>33</td>\n",
       "      <td>24</td>\n",
       "      <td>31</td>\n",
       "      <td>6</td>\n",
       "      <td>28</td>\n",
       "      <td>20</td>\n",
       "      <td>31</td>\n",
       "      <td>21</td>\n",
       "    </tr>\n",
       "    <tr>\n",
       "      <th>Mizoram</th>\n",
       "      <td>0</td>\n",
       "      <td>2</td>\n",
       "      <td>0</td>\n",
       "      <td>2</td>\n",
       "      <td>22</td>\n",
       "      <td>11</td>\n",
       "      <td>1</td>\n",
       "      <td>5</td>\n",
       "      <td>0</td>\n",
       "      <td>23</td>\n",
       "      <td>...</td>\n",
       "      <td>22</td>\n",
       "      <td>12</td>\n",
       "      <td>7</td>\n",
       "      <td>25</td>\n",
       "      <td>21</td>\n",
       "      <td>2</td>\n",
       "      <td>32</td>\n",
       "      <td>9</td>\n",
       "      <td>7</td>\n",
       "      <td>14</td>\n",
       "    </tr>\n",
       "  </tbody>\n",
       "</table>\n",
       "<p>5 rows × 164 columns</p>\n",
       "</div>"
      ],
      "text/plain": [
       "states     2020-07-01  2020-07-02  2020-07-03  2020-07-04  2020-07-05  \\\n",
       "state                                                                   \n",
       "Kerala              0         160         211         240         225   \n",
       "Telangana           0        1213        1892        1850        1590   \n",
       "Odisha              0         229         561         495         469   \n",
       "Tripura             0          39          93          25          23   \n",
       "Mizoram             0           2           0           2          22   \n",
       "\n",
       "states     2020-07-06  2020-07-07  2020-07-08  2020-07-09  2020-07-10  ...  \\\n",
       "state                                                                  ...   \n",
       "Kerala            193         272         301         339         416  ...   \n",
       "Telangana        1831        1879        1924        1410        1278  ...   \n",
       "Odisha            456         571         527         577         755  ...   \n",
       "Tripura           111          24          57          16         142  ...   \n",
       "Mizoram            11           1           5           0          23  ...   \n",
       "\n",
       "states     2020-12-02  2020-12-03  2020-12-04  2020-12-05  2020-12-06  \\\n",
       "state                                                                   \n",
       "Kerala           6316        5376        5718        5848        4777   \n",
       "Telangana         565         609         631         596         622   \n",
       "Odisha            480         434         377         409         393   \n",
       "Tripura            38          39          33          24          31   \n",
       "Mizoram            22          12           7          25          21   \n",
       "\n",
       "states     2020-12-07  2020-12-08  2020-12-09  2020-12-10  2020-12-11  \n",
       "state                                                                  \n",
       "Kerala           3272        5032        4875        4470        4642  \n",
       "Telangana         517         682         721         643         612  \n",
       "Odisha            368         349         386         343         387  \n",
       "Tripura             6          28          20          31          21  \n",
       "Mizoram             2          32           9           7          14  \n",
       "\n",
       "[5 rows x 164 columns]"
      ]
     },
     "execution_count": 18,
     "metadata": {},
     "output_type": "execute_result"
    }
   ],
   "source": [
    "#hide\n",
    "dft_ct_new_cases.head()"
   ]
  },
  {
   "cell_type": "code",
   "execution_count": 19,
   "metadata": {
    "execution": {
     "iopub.execute_input": "2020-12-11T13:51:53.732503Z",
     "iopub.status.busy": "2020-12-11T13:51:53.721795Z",
     "iopub.status.idle": "2020-12-11T13:51:59.796457Z",
     "shell.execute_reply": "2020-12-11T13:51:59.796932Z"
    },
    "papermill": {
     "duration": 6.107484,
     "end_time": "2020-12-11T13:51:59.797087",
     "exception": false,
     "start_time": "2020-12-11T13:51:53.689603",
     "status": "completed"
    },
    "tags": []
   },
   "outputs": [
    {
     "data": {
      "image/png": "[encoded data removed]",
      "text/plain": [
       "<Figure size 1296x2016 with 11 Axes>"
      ]
     },
     "metadata": {
      "needs_background": "light"
     },
     "output_type": "display_data"
    }
   ],
   "source": [
    "#hide_input\n",
    "df = dft_ct_new_cases.copy()\n",
    "df.loc['Total'] = df.sum()\n",
    "n = 5\n",
    "ax = []\n",
    "fig = plt.figure(figsize = (18,28))\n",
    "gs = fig.add_gridspec(n+2, 5)\n",
    "# gs = fig.add_gridspec(2, 3)\n",
    "ax1 = fig.add_subplot(gs[0, :])\n",
    "ef = df.loc['Total'].rename_axis('date').reset_index()\n",
    "ef['date'] = ef['date'].astype('datetime64[ns]')\n",
    "ax1.bar(ef.date,ef.Total,alpha=0.3,color='#007acc')\n",
    "ax1.plot(ef.date,ef.Total , marker=\"o\", color='#007acc')\n",
    "ax1.xaxis.set_major_locator(mdates.WeekdayLocator())\n",
    "ax1.xaxis.set_major_formatter(mdates.DateFormatter('%b %d'))\n",
    "ax1.text(0.02, 0.5,'India daily case count', transform = ax1.transAxes, fontsize=25);\n",
    "ax1.spines['right'].set_visible(False)\n",
    "ax1.spines['top'].set_visible(False)\n",
    "\n",
    "ax2 = fig.add_subplot(gs[1,0])\n",
    "ef = df.loc['Maharashtra'].rename_axis('date').reset_index()\n",
    "ef['date'] = ef['date'].astype('datetime64[ns]')\n",
    "\n",
    "ax2.bar(ef.date, ef.Maharashtra,color = '#007acc',alpha=0.5)\n",
    "ax2.xaxis.set_major_locator(mdates.WeekdayLocator())\n",
    "ax2.xaxis.set_major_formatter(mdates.DateFormatter('%b %d'))\n",
    "ax2.set_xticks(ax2.get_xticks()[::3])\n",
    "maxyval = ef.Maharashtra.max()\n",
    "ax2.set_ylim([0,maxyval])\n",
    "ax2.text(0.05, 0.9,'Maharashtra', transform = ax2.transAxes, fontsize=20);\n",
    "ax2.spines['right'].set_visible(False)\n",
    "ax2.spines['top'].set_visible(False)\n",
    "\n",
    "\n",
    "ax3 = fig.add_subplot(gs[1,1])\n",
    "ef = df.loc['Tamil Nadu'].rename_axis('date').reset_index()\n",
    "ef['date'] = ef['date'].astype('datetime64[ns]')\n",
    "ax3.bar(ef.date, ef['Tamil Nadu'],color = '#007acc',alpha=0.5,)\n",
    "ax3.xaxis.set_major_locator(mdates.WeekdayLocator())\n",
    "ax3.xaxis.set_major_formatter(mdates.DateFormatter('%b %d'))\n",
    "ax3.set_xticks(ax3.get_xticks()[::3])\n",
    "ax3.text(0.05, 0.9,'Tamil Nadu', transform = ax3.transAxes, fontsize=20);\n",
    "ax3.spines['right'].set_visible(False)\n",
    "ax3.spines['top'].set_visible(False)\n",
    "\n",
    "ax5 = fig.add_subplot(gs[1,3])\n",
    "ef = df.loc['Telangana'].rename_axis('date').reset_index()\n",
    "ef['date'] = ef['date'].astype('datetime64[ns]')\n",
    "ax5.bar(ef.date, ef['Telangana'],color = '#007acc',alpha=0.5,)\n",
    "ax5.xaxis.set_major_locator(mdates.WeekdayLocator())\n",
    "ax5.xaxis.set_major_formatter(mdates.DateFormatter('%b %d'))\n",
    "ax5.set_xticks(ax5.get_xticks()[::3])\n",
    "ax5.text(0.05, 0.9,'Telangana', transform = ax5.transAxes, fontsize=20);\n",
    "ax5.spines['right'].set_visible(False)\n",
    "ax5.spines['top'].set_visible(False)\n",
    "\n",
    "ax6 = fig.add_subplot(gs[1,4])\n",
    "ef = df.loc['Andhra Pradesh'].rename_axis('date').reset_index()\n",
    "ef['date'] = ef['date'].astype('datetime64[ns]')\n",
    "ax6.bar(ef.date, ef['Andhra Pradesh'],color = '#007acc',alpha=0.5,)\n",
    "ax6.xaxis.set_major_locator(mdates.WeekdayLocator())\n",
    "ax6.xaxis.set_major_formatter(mdates.DateFormatter('%b %d'))\n",
    "ax6.set_xticks(ax6.get_xticks()[::3])\n",
    "ax6.text(0.05, 1,'Andhra Pradesh', transform = ax6.transAxes, fontsize=20);\n",
    "ax6.spines['right'].set_visible(False)\n",
    "ax6.spines['top'].set_visible(False)\n",
    "\n",
    "ax4 = fig.add_subplot(gs[1,2])\n",
    "ef = df.loc['Delhi'].rename_axis('date').reset_index()\n",
    "ef['date'] = ef['date'].astype('datetime64[ns]')\n",
    "ax4.bar(ef.date, ef.Delhi,color = '#007acc',alpha=0.5)\n",
    "ax4.set_xticks([])\n",
    "ax4.xaxis.set_major_locator(mdates.WeekdayLocator())\n",
    "ax4.xaxis.set_major_formatter(mdates.DateFormatter('%b %d'))\n",
    "ax4.set_xticks(ax4.get_xticks()[::3])\n",
    "ax4.spines['right'].set_visible(False)\n",
    "ax4.spines['top'].set_visible(False)\n",
    "\n",
    "ax4.text(0.05, 1,'Delhi', transform = ax4.transAxes, fontsize=20)\n",
    "\n",
    "for i in range(n):\n",
    "    \n",
    "    ax.append(fig.add_subplot(gs[i+2,:]))\n",
    "    ef = df.iloc[i+3].rename_axis('date').reset_index()\n",
    "    ef['date'] = ef['date'].astype('datetime64[ns]')\n",
    "    ax[i].bar(ef.date,ef.iloc[:,-1],color = '#007acc',alpha=0.3)\n",
    "    ax[i].plot(ef.date,ef.iloc[:,-1],marker='o',color='#007acc')\n",
    "    ax[i].text(0.02,0.5,f'{ef.columns.values[-1]}',transform = ax[i].transAxes, fontsize = 20);\n",
    "    ax[i].xaxis.set_major_locator(mdates.WeekdayLocator())\n",
    "    ax[i].xaxis.set_major_formatter(mdates.DateFormatter('%b %d'))\n",
    "    ax[i].set_ylim([0,7000])\n",
    "    ax[i].spines['right'].set_visible(False)\n",
    "    ax[i].spines['top'].set_visible(False)\n",
    "plt.tight_layout()\n"
   ]
  },
  {
   "cell_type": "code",
   "execution_count": 20,
   "metadata": {
    "execution": {
     "iopub.execute_input": "2020-12-11T13:51:59.855989Z",
     "iopub.status.busy": "2020-12-11T13:51:59.855370Z",
     "iopub.status.idle": "2020-12-11T13:51:59.860157Z",
     "shell.execute_reply": "2020-12-11T13:51:59.859658Z"
    },
    "papermill": {
     "duration": 0.039013,
     "end_time": "2020-12-11T13:51:59.860288",
     "exception": false,
     "start_time": "2020-12-11T13:51:59.821275",
     "status": "completed"
    },
    "tags": []
   },
   "outputs": [
    {
     "name": "stdout",
     "output_type": "stream",
     "text": [
      "                                   states    Cases  Deaths   PCases  PDeaths  Cases (+)  Deaths (+)  Fatality Rate\n",
      "                              Maharashtra  1868172   47972  1868172    47972          0           0           2.57\n",
      "                                Karnataka   897801   11912   897801    11912          0           0           1.33\n",
      "                           Andhra Pradesh   873995    7047   873995     7047          0           0           0.81\n",
      "                               Tamil Nadu   795240   11853   795240    11853          0           0           1.49\n",
      "                                   Kerala   658684    2563   654042     2534       4642          29           0.39\n",
      "                                    Delhi   601150    9874   601150     9874          0           0           1.64\n",
      "                            Uttar Pradesh   561161    8011   561161     8011          0           0           1.43\n",
      "                              West Bengal   513752    8916   513752     8916          0           0           1.74\n",
      "                                   Odisha   323029    1851   322642     1847        387           4           0.57\n",
      "                                Rajasthan   287219    2500   287219     2500          0           0           0.87\n",
      "                                Telangana   276516    1485   275904     1482        612           3           0.54\n",
      "                             Chhattisgarh   252638    3054   252638     3054          0           0           1.21\n",
      "                                  Haryana   249329    2676   249329     2676          0           0           1.07\n",
      "                                    Bihar   241534    1307   241534     1307          0           0           0.54\n",
      "                                  Gujarat   224081    4135   224081     4135          0           0           1.85\n",
      "                           Madhya Pradesh   219893    3373   219893     3373          0           0           1.53\n",
      "                                    Assam   214305     999   214305      999          0           0           0.47\n",
      "                                   Punjab   158556    5007   158556     5007          0           0           3.16\n",
      "                        Jammu and Kashmir   114773    1775   114773     1775          0           0           1.55\n",
      "                                Jharkhand   111003     993   111003      993          0           0           0.89\n",
      "                              Uttarakhand    80486    1332    80486     1332          0           0           1.65\n",
      "                                      Goa    49131     703    49131      703          0           0           1.43\n",
      "                         Himachal Pradesh    47703     763    47703      763          0           0           1.60\n",
      "                               Puducherry    37363     617    37363      617          0           0           1.65\n",
      "                                  Tripura    32994     371    32973      370         21           1           1.12\n",
      "                                  Manipur    26685     318    26685      318          0           0           1.19\n",
      "                               Chandigarh    18410     298    18410      298          0           0           1.62\n",
      "                        Arunachal Pradesh    16479      55    16479       55          0           0           0.33\n",
      "                                Meghalaya    12586     123    12586      123          0           0           0.98\n",
      "                                 Nagaland    11602      68    11602       68          0           0           0.59\n",
      "                                   Ladakh     9071     122     9071      122          0           0           1.34\n",
      "                                   Sikkim     5263     117     5263      117          0           0           2.22\n",
      "              Andaman and Nicobar Islands     4791      61     4791       61          0           0           1.27\n",
      "                                  Mizoram     3998       6     3984        6         14           0           0.15\n",
      " Dadra and Nagar Haveli and Daman and Diu     3348       2     3348        2          0           0           0.06\n",
      "                              Lakshadweep        0       0        0        0          0           0            NaN\n"
     ]
    }
   ],
   "source": [
    "#hide_input\n",
    "print(df_table.to_string(index=False))"
   ]
  },
  {
   "cell_type": "code",
   "execution_count": null,
   "metadata": {
    "papermill": {
     "duration": 0.023465,
     "end_time": "2020-12-11T13:51:59.907191",
     "exception": false,
     "start_time": "2020-12-11T13:51:59.883726",
     "status": "completed"
    },
    "tags": []
   },
   "outputs": [],
   "source": []
  },
  {
   "cell_type": "code",
   "execution_count": null,
   "metadata": {
    "papermill": {
     "duration": 0.022809,
     "end_time": "2020-12-11T13:51:59.953663",
     "exception": false,
     "start_time": "2020-12-11T13:51:59.930854",
     "status": "completed"
    },
    "tags": []
   },
   "outputs": [],
   "source": []
  }
 ],
 "metadata": {
  "kernelspec": {
   "display_name": "Python 3",
   "language": "python",
   "name": "python3"
  },
  "language_info": {
   "codemirror_mode": {
    "name": "ipython",
    "version": 3
   },
   "file_extension": ".py",
   "mimetype": "text/x-python",
   "name": "python",
   "nbconvert_exporter": "python",
   "pygments_lexer": "ipython3",
   "version": "3.6.12"
  },
  "papermill": {
   "duration": 14.245499,
   "end_time": "2020-12-11T13:52:00.486120",
   "environment_variables": {},
   "exception": null,
   "input_path": "latest.ipynb",
   "output_path": "latest.ipynb",
   "parameters": {},
   "start_time": "2020-12-11T13:51:46.240621",
   "version": "2.1.2"
  }
 },
 "nbformat": 4,
 "nbformat_minor": 4
}