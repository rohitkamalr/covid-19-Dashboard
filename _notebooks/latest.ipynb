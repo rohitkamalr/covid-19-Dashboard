{
 "cells": [
  {
   "cell_type": "markdown",
   "id": "colored-stack",
   "metadata": {
    "papermill": {
     "duration": 0.020192,
     "end_time": "2021-05-04T13:10:24.978545",
     "exception": false,
     "start_time": "2021-05-04T13:10:24.958353",
     "status": "completed"
    },
    "tags": []
   },
   "source": [
    "# Latest COVID-19 India Matplotlib Overview"
   ]
  },
  {
   "cell_type": "code",
   "execution_count": 1,
   "id": "light-proportion",
   "metadata": {
    "execution": {
     "iopub.execute_input": "2021-05-04T13:10:25.021973Z",
     "iopub.status.busy": "2021-05-04T13:10:25.021459Z",
     "iopub.status.idle": "2021-05-04T13:10:25.554361Z",
     "shell.execute_reply": "2021-05-04T13:10:25.553838Z"
    },
    "papermill": {
     "duration": 0.559951,
     "end_time": "2021-05-04T13:10:25.554519",
     "exception": false,
     "start_time": "2021-05-04T13:10:24.994568",
     "status": "completed"
    },
    "tags": []
   },
   "outputs": [],
   "source": [
    "#hide\n",
    "import pandas as pd\n",
    "import numpy as np\n",
    "import requests\n",
    "import json\n",
    "import matplotlib.pyplot as plt\n",
    "import matplotlib.dates as mdates\n",
    "import matplotlib as mpl\n",
    "from IPython.core.display import display,HTML\n",
    "%matplotlib inline\n",
    "from datetime import date"
   ]
  },
  {
   "cell_type": "code",
   "execution_count": 2,
   "id": "greenhouse-shooting",
   "metadata": {
    "execution": {
     "iopub.execute_input": "2021-05-04T13:10:25.594625Z",
     "iopub.status.busy": "2021-05-04T13:10:25.594085Z",
     "iopub.status.idle": "2021-05-04T13:10:25.785798Z",
     "shell.execute_reply": "2021-05-04T13:10:25.785255Z"
    },
    "papermill": {
     "duration": 0.215698,
     "end_time": "2021-05-04T13:10:25.785931",
     "exception": false,
     "start_time": "2021-05-04T13:10:25.570233",
     "status": "completed"
    },
    "tags": []
   },
   "outputs": [],
   "source": [
    "#hide\n",
    "df  = pd.read_csv('https://api.covid19india.org/csv/latest/states.csv')\n",
    "df = df[['Date','State','Confirmed','Deceased']]\n",
    "df = df.rename(columns={'Confirmed':'Cases', \"Deceased\":'Deaths'})\n",
    "df_cases = df[[\"Date\",'State','Cases']]\n",
    "df_deaths = df[['Date','State','Deaths']]\n",
    "df_cases1 = df_cases.groupby('Date')\n",
    "df_deaths1= df_deaths.groupby('Date')"
   ]
  },
  {
   "cell_type": "code",
   "execution_count": 3,
   "id": "hybrid-cathedral",
   "metadata": {
    "execution": {
     "iopub.execute_input": "2021-05-04T13:10:25.835815Z",
     "iopub.status.busy": "2021-05-04T13:10:25.835025Z",
     "iopub.status.idle": "2021-05-04T13:10:25.839814Z",
     "shell.execute_reply": "2021-05-04T13:10:25.839397Z"
    },
    "papermill": {
     "duration": 0.037954,
     "end_time": "2021-05-04T13:10:25.839932",
     "exception": false,
     "start_time": "2021-05-04T13:10:25.801978",
     "status": "completed"
    },
    "tags": []
   },
   "outputs": [],
   "source": [
    "#hide\n",
    "df_snap = pd.read_csv('data/SnapshotCases-28-July.csv')\n",
    "arr_states = df_snap['states'].unique()\n",
    "arr_dates = df['Date'].unique()\n",
    "df_snap = df_snap.set_index('states')"
   ]
  },
  {
   "cell_type": "code",
   "execution_count": 4,
   "id": "interior-belfast",
   "metadata": {
    "execution": {
     "iopub.execute_input": "2021-05-04T13:10:25.878192Z",
     "iopub.status.busy": "2021-05-04T13:10:25.877593Z",
     "iopub.status.idle": "2021-05-04T13:10:25.879727Z",
     "shell.execute_reply": "2021-05-04T13:10:25.880258Z"
    },
    "papermill": {
     "duration": 0.025114,
     "end_time": "2021-05-04T13:10:25.880401",
     "exception": false,
     "start_time": "2021-05-04T13:10:25.855287",
     "status": "completed"
    },
    "tags": []
   },
   "outputs": [
    {
     "data": {
      "text/plain": [
       "array(['Andaman and Nicobar Islands', 'Andhra Pradesh',\n",
       "       'Arunachal Pradesh', 'Assam', 'Bihar', 'Chandigarh',\n",
       "       'Dadra and Nagar Haveli and Daman and Diu', 'Delhi', 'Goa',\n",
       "       'Gujarat', 'Haryana', 'Himachal Pradesh', 'Jammu and Kashmir',\n",
       "       'Jharkhand', 'Karnataka', 'Kerala', 'Lakshadweep',\n",
       "       'Madhya Pradesh', 'Maharashtra', 'Manipur', 'Meghalaya', 'Mizoram',\n",
       "       'Nagaland', 'Odisha', 'Puducherry', 'Punjab', 'Rajasthan',\n",
       "       'Sikkim', 'Tamil Nadu', 'Telangana', 'Tripura', 'Uttar Pradesh',\n",
       "       'West Bengal', 'Chhattisgarh', 'Ladakh', 'Uttarakhand'],\n",
       "      dtype=object)"
      ]
     },
     "execution_count": 4,
     "metadata": {},
     "output_type": "execute_result"
    }
   ],
   "source": [
    "#hide\n",
    "arr_states[-9] = 'Puducherry'\n",
    "arr_states[-10] = 'Odisha'\n",
    "arr_states[6] = 'Dadra and Nagar Haveli and Daman and Diu'\n",
    "arr_states = np.append(arr_states,np.array(['Chhattisgarh','Ladakh','Uttarakhand']))\n",
    "arr_states"
   ]
  },
  {
   "cell_type": "code",
   "execution_count": 5,
   "id": "behind-manner",
   "metadata": {
    "execution": {
     "iopub.execute_input": "2021-05-04T13:10:25.923784Z",
     "iopub.status.busy": "2021-05-04T13:10:25.923235Z",
     "iopub.status.idle": "2021-05-04T13:10:25.931778Z",
     "shell.execute_reply": "2021-05-04T13:10:25.932173Z"
    },
    "papermill": {
     "duration": 0.036392,
     "end_time": "2021-05-04T13:10:25.932317",
     "exception": false,
     "start_time": "2021-05-04T13:10:25.895925",
     "status": "completed"
    },
    "tags": []
   },
   "outputs": [],
   "source": [
    "#hide\n",
    "dates = []\n",
    "for i in arr_dates:\n",
    "    if i>='2020-07-01':\n",
    "        dates.append(i)\n",
    "dict = {'states':dates}\n",
    "for i in arr_states:\n",
    "    dict[i] = [0]*len(dates)\n",
    "dft_cases = pd.DataFrame(dict)\n",
    "dft_deaths = pd.DataFrame(dict)\n"
   ]
  },
  {
   "cell_type": "code",
   "execution_count": 6,
   "id": "simplified-peter",
   "metadata": {
    "execution": {
     "iopub.execute_input": "2021-05-04T13:10:25.969757Z",
     "iopub.status.busy": "2021-05-04T13:10:25.969240Z",
     "iopub.status.idle": "2021-05-04T13:10:29.892268Z",
     "shell.execute_reply": "2021-05-04T13:10:29.891755Z"
    },
    "papermill": {
     "duration": 3.94444,
     "end_time": "2021-05-04T13:10:29.892403",
     "exception": false,
     "start_time": "2021-05-04T13:10:25.947963",
     "status": "completed"
    },
    "tags": []
   },
   "outputs": [],
   "source": [
    "#hide\n",
    "for i in range(len(dates)):\n",
    "    df1_deaths = df_deaths1.get_group(dates[i])\n",
    "    for j in range(len(df1_deaths.index)):\n",
    "        if df1_deaths.iloc[j,1] in arr_states:\n",
    "            dft_deaths.loc[i,df1_deaths.iloc[j,1]] = df1_deaths.iloc[j,2]\n",
    "dft_deaths = dft_deaths.set_index('states')"
   ]
  },
  {
   "cell_type": "code",
   "execution_count": 7,
   "id": "geological-welding",
   "metadata": {
    "execution": {
     "iopub.execute_input": "2021-05-04T13:10:29.930521Z",
     "iopub.status.busy": "2021-05-04T13:10:29.930011Z",
     "iopub.status.idle": "2021-05-04T13:10:33.723983Z",
     "shell.execute_reply": "2021-05-04T13:10:33.723093Z"
    },
    "papermill": {
     "duration": 3.815443,
     "end_time": "2021-05-04T13:10:33.724122",
     "exception": false,
     "start_time": "2021-05-04T13:10:29.908679",
     "status": "completed"
    },
    "tags": []
   },
   "outputs": [],
   "source": [
    "#hide\n",
    "for i in range(len(dates)):\n",
    "    df1_cases = df_cases1.get_group(dates[i])\n",
    "    for j in range(len(df1_cases.index)):\n",
    "        if df1_cases.iloc[j,1] in arr_states:\n",
    "            dft_cases.loc[i,df1_cases.iloc[j,1]] = df1_cases.iloc[j,2]\n",
    "dft_cases = dft_cases.set_index('states')"
   ]
  },
  {
   "cell_type": "code",
   "execution_count": 8,
   "id": "binary-ratio",
   "metadata": {
    "execution": {
     "iopub.execute_input": "2021-05-04T13:10:33.761603Z",
     "iopub.status.busy": "2021-05-04T13:10:33.761033Z",
     "iopub.status.idle": "2021-05-04T13:10:33.764313Z",
     "shell.execute_reply": "2021-05-04T13:10:33.764689Z"
    },
    "papermill": {
     "duration": 0.02463,
     "end_time": "2021-05-04T13:10:33.764814",
     "exception": false,
     "start_time": "2021-05-04T13:10:33.740184",
     "status": "completed"
    },
    "tags": []
   },
   "outputs": [],
   "source": [
    "#hide\n",
    "dft_cases = dft_cases.T\n",
    "dft_deaths = dft_deaths.T\n",
    "dt_today = dates[-1]\n",
    "dt_yday = dates[-2]"
   ]
  },
  {
   "cell_type": "code",
   "execution_count": 9,
   "id": "boolean-calculator",
   "metadata": {
    "execution": {
     "iopub.execute_input": "2021-05-04T13:10:33.800991Z",
     "iopub.status.busy": "2021-05-04T13:10:33.800490Z",
     "iopub.status.idle": "2021-05-04T13:10:33.805092Z",
     "shell.execute_reply": "2021-05-04T13:10:33.804692Z"
    },
    "papermill": {
     "duration": 0.025055,
     "end_time": "2021-05-04T13:10:33.805202",
     "exception": false,
     "start_time": "2021-05-04T13:10:33.780147",
     "status": "completed"
    },
    "tags": []
   },
   "outputs": [],
   "source": [
    "#hide\n",
    "dft_cases = dft_cases.reset_index()\n",
    "dft_deaths = dft_deaths.reset_index()\n",
    "dft_cases = dft_cases.rename(columns = {'index':'state'})\n",
    "dft_deaths = dft_deaths.rename(columns = {'index':'state'})"
   ]
  },
  {
   "cell_type": "code",
   "execution_count": 10,
   "id": "invisible-johnston",
   "metadata": {
    "execution": {
     "iopub.execute_input": "2021-05-04T13:10:33.844382Z",
     "iopub.status.busy": "2021-05-04T13:10:33.843892Z",
     "iopub.status.idle": "2021-05-04T13:10:33.848356Z",
     "shell.execute_reply": "2021-05-04T13:10:33.847958Z"
    },
    "papermill": {
     "duration": 0.027878,
     "end_time": "2021-05-04T13:10:33.848459",
     "exception": false,
     "start_time": "2021-05-04T13:10:33.820581",
     "status": "completed"
    },
    "tags": []
   },
   "outputs": [],
   "source": [
    "#hide\n",
    "dfc_cases = dft_cases.groupby('state')[dt_today].sum()\n",
    "dfc_deaths = dft_deaths.groupby('state')[dt_today].sum()\n",
    "dfp_cases = dft_cases.groupby('state')[dt_yday].sum()\n",
    "dfp_deaths = dft_deaths.groupby('state')[dt_yday].sum()"
   ]
  },
  {
   "cell_type": "code",
   "execution_count": 11,
   "id": "measured-great",
   "metadata": {
    "execution": {
     "iopub.execute_input": "2021-05-04T13:10:33.887603Z",
     "iopub.status.busy": "2021-05-04T13:10:33.887076Z",
     "iopub.status.idle": "2021-05-04T13:10:33.898533Z",
     "shell.execute_reply": "2021-05-04T13:10:33.898115Z"
    },
    "papermill": {
     "duration": 0.034491,
     "end_time": "2021-05-04T13:10:33.898635",
     "exception": false,
     "start_time": "2021-05-04T13:10:33.864144",
     "status": "completed"
    },
    "tags": []
   },
   "outputs": [
    {
     "data": {
      "text/html": [
       "<div>\n",
       "<style scoped>\n",
       "    .dataframe tbody tr th:only-of-type {\n",
       "        vertical-align: middle;\n",
       "    }\n",
       "\n",
       "    .dataframe tbody tr th {\n",
       "        vertical-align: top;\n",
       "    }\n",
       "\n",
       "    .dataframe thead th {\n",
       "        text-align: right;\n",
       "    }\n",
       "</style>\n",
       "<table border=\"1\" class=\"dataframe\">\n",
       "  <thead>\n",
       "    <tr style=\"text-align: right;\">\n",
       "      <th></th>\n",
       "      <th>states</th>\n",
       "      <th>Cases</th>\n",
       "      <th>Deaths</th>\n",
       "      <th>PCases</th>\n",
       "      <th>PDeaths</th>\n",
       "    </tr>\n",
       "  </thead>\n",
       "  <tbody>\n",
       "    <tr>\n",
       "      <th>0</th>\n",
       "      <td>Maharashtra</td>\n",
       "      <td>4771022</td>\n",
       "      <td>70851</td>\n",
       "      <td>4771022</td>\n",
       "      <td>70851</td>\n",
       "    </tr>\n",
       "    <tr>\n",
       "      <th>1</th>\n",
       "      <td>Kerala</td>\n",
       "      <td>1701980</td>\n",
       "      <td>5508</td>\n",
       "      <td>1664790</td>\n",
       "      <td>5451</td>\n",
       "    </tr>\n",
       "    <tr>\n",
       "      <th>2</th>\n",
       "      <td>Karnataka</td>\n",
       "      <td>1646303</td>\n",
       "      <td>16250</td>\n",
       "      <td>1646303</td>\n",
       "      <td>16250</td>\n",
       "    </tr>\n",
       "    <tr>\n",
       "      <th>3</th>\n",
       "      <td>Uttar Pradesh</td>\n",
       "      <td>1342413</td>\n",
       "      <td>13447</td>\n",
       "      <td>1342413</td>\n",
       "      <td>13447</td>\n",
       "    </tr>\n",
       "    <tr>\n",
       "      <th>4</th>\n",
       "      <td>Tamil Nadu</td>\n",
       "      <td>1228064</td>\n",
       "      <td>14468</td>\n",
       "      <td>1228064</td>\n",
       "      <td>14468</td>\n",
       "    </tr>\n",
       "  </tbody>\n",
       "</table>\n",
       "</div>"
      ],
      "text/plain": [
       "          states    Cases  Deaths   PCases  PDeaths\n",
       "0    Maharashtra  4771022   70851  4771022    70851\n",
       "1         Kerala  1701980    5508  1664790     5451\n",
       "2      Karnataka  1646303   16250  1646303    16250\n",
       "3  Uttar Pradesh  1342413   13447  1342413    13447\n",
       "4     Tamil Nadu  1228064   14468  1228064    14468"
      ]
     },
     "execution_count": 11,
     "metadata": {},
     "output_type": "execute_result"
    }
   ],
   "source": [
    "#hide\n",
    "df_table = pd.DataFrame({'states': dfc_cases.index, 'Cases': dfc_cases.values, 'Deaths': dfc_deaths.values, 'PCases': dfp_cases.values, 'PDeaths': dfp_deaths.values}).set_index('states')\n",
    "df_table = df_table.sort_values(by = ['Cases','Deaths'], ascending = [False, False])\n",
    "df_table = df_table.reset_index()\n",
    "df_table.head()"
   ]
  },
  {
   "cell_type": "code",
   "execution_count": 12,
   "id": "found-montreal",
   "metadata": {
    "execution": {
     "iopub.execute_input": "2021-05-04T13:10:33.935555Z",
     "iopub.status.busy": "2021-05-04T13:10:33.935033Z",
     "iopub.status.idle": "2021-05-04T13:10:33.942623Z",
     "shell.execute_reply": "2021-05-04T13:10:33.943020Z"
    },
    "papermill": {
     "duration": 0.028498,
     "end_time": "2021-05-04T13:10:33.943137",
     "exception": false,
     "start_time": "2021-05-04T13:10:33.914639",
     "status": "completed"
    },
    "tags": []
   },
   "outputs": [],
   "source": [
    "#hide\n",
    "for c in 'Cases, Deaths'.split(', '):\n",
    "    df_table[f'{c} (+)'] = (df_table[c] - df_table[f'P{c}']).clip(0)\n",
    "df_table['Fatality Rate'] = (100* df_table['Deaths']/ df_table['Cases']).round(2)"
   ]
  },
  {
   "cell_type": "code",
   "execution_count": 13,
   "id": "minus-savage",
   "metadata": {
    "execution": {
     "iopub.execute_input": "2021-05-04T13:10:33.984726Z",
     "iopub.status.busy": "2021-05-04T13:10:33.984222Z",
     "iopub.status.idle": "2021-05-04T13:10:33.987022Z",
     "shell.execute_reply": "2021-05-04T13:10:33.986604Z"
    },
    "papermill": {
     "duration": 0.028269,
     "end_time": "2021-05-04T13:10:33.987124",
     "exception": false,
     "start_time": "2021-05-04T13:10:33.958855",
     "status": "completed"
    },
    "tags": []
   },
   "outputs": [
    {
     "data": {
      "text/html": [
       "<div>\n",
       "<style scoped>\n",
       "    .dataframe tbody tr th:only-of-type {\n",
       "        vertical-align: middle;\n",
       "    }\n",
       "\n",
       "    .dataframe tbody tr th {\n",
       "        vertical-align: top;\n",
       "    }\n",
       "\n",
       "    .dataframe thead th {\n",
       "        text-align: right;\n",
       "    }\n",
       "</style>\n",
       "<table border=\"1\" class=\"dataframe\">\n",
       "  <thead>\n",
       "    <tr style=\"text-align: right;\">\n",
       "      <th></th>\n",
       "      <th>states</th>\n",
       "      <th>Cases</th>\n",
       "      <th>Deaths</th>\n",
       "      <th>PCases</th>\n",
       "      <th>PDeaths</th>\n",
       "      <th>Cases (+)</th>\n",
       "      <th>Deaths (+)</th>\n",
       "      <th>Fatality Rate</th>\n",
       "    </tr>\n",
       "  </thead>\n",
       "  <tbody>\n",
       "    <tr>\n",
       "      <th>0</th>\n",
       "      <td>Maharashtra</td>\n",
       "      <td>4771022</td>\n",
       "      <td>70851</td>\n",
       "      <td>4771022</td>\n",
       "      <td>70851</td>\n",
       "      <td>0</td>\n",
       "      <td>0</td>\n",
       "      <td>1.49</td>\n",
       "    </tr>\n",
       "    <tr>\n",
       "      <th>1</th>\n",
       "      <td>Kerala</td>\n",
       "      <td>1701980</td>\n",
       "      <td>5508</td>\n",
       "      <td>1664790</td>\n",
       "      <td>5451</td>\n",
       "      <td>37190</td>\n",
       "      <td>57</td>\n",
       "      <td>0.32</td>\n",
       "    </tr>\n",
       "    <tr>\n",
       "      <th>2</th>\n",
       "      <td>Karnataka</td>\n",
       "      <td>1646303</td>\n",
       "      <td>16250</td>\n",
       "      <td>1646303</td>\n",
       "      <td>16250</td>\n",
       "      <td>0</td>\n",
       "      <td>0</td>\n",
       "      <td>0.99</td>\n",
       "    </tr>\n",
       "    <tr>\n",
       "      <th>3</th>\n",
       "      <td>Uttar Pradesh</td>\n",
       "      <td>1342413</td>\n",
       "      <td>13447</td>\n",
       "      <td>1342413</td>\n",
       "      <td>13447</td>\n",
       "      <td>0</td>\n",
       "      <td>0</td>\n",
       "      <td>1.00</td>\n",
       "    </tr>\n",
       "    <tr>\n",
       "      <th>4</th>\n",
       "      <td>Tamil Nadu</td>\n",
       "      <td>1228064</td>\n",
       "      <td>14468</td>\n",
       "      <td>1228064</td>\n",
       "      <td>14468</td>\n",
       "      <td>0</td>\n",
       "      <td>0</td>\n",
       "      <td>1.18</td>\n",
       "    </tr>\n",
       "  </tbody>\n",
       "</table>\n",
       "</div>"
      ],
      "text/plain": [
       "          states    Cases  Deaths   PCases  PDeaths  Cases (+)  Deaths (+)  \\\n",
       "0    Maharashtra  4771022   70851  4771022    70851          0           0   \n",
       "1         Kerala  1701980    5508  1664790     5451      37190          57   \n",
       "2      Karnataka  1646303   16250  1646303    16250          0           0   \n",
       "3  Uttar Pradesh  1342413   13447  1342413    13447          0           0   \n",
       "4     Tamil Nadu  1228064   14468  1228064    14468          0           0   \n",
       "\n",
       "   Fatality Rate  \n",
       "0           1.49  \n",
       "1           0.32  \n",
       "2           0.99  \n",
       "3           1.00  \n",
       "4           1.18  "
      ]
     },
     "execution_count": 13,
     "metadata": {},
     "output_type": "execute_result"
    }
   ],
   "source": [
    "#hide\n",
    "df_table.head()"
   ]
  },
  {
   "cell_type": "code",
   "execution_count": 14,
   "id": "false-peter",
   "metadata": {
    "execution": {
     "iopub.execute_input": "2021-05-04T13:10:34.025484Z",
     "iopub.status.busy": "2021-05-04T13:10:34.024987Z",
     "iopub.status.idle": "2021-05-04T13:10:34.039590Z",
     "shell.execute_reply": "2021-05-04T13:10:34.039968Z"
    },
    "papermill": {
     "duration": 0.036472,
     "end_time": "2021-05-04T13:10:34.040096",
     "exception": false,
     "start_time": "2021-05-04T13:10:34.003624",
     "status": "completed"
    },
    "tags": []
   },
   "outputs": [
    {
     "data": {
      "text/plain": [
       "{'updated': '2021-05-04',\n",
       " 'since': '2021-05-03',\n",
       " 'Cases': 20329521,\n",
       " 'PCases': 20275632,\n",
       " 'Deaths': 222535,\n",
       " 'PDeaths': 222386,\n",
       " 'Cases (+)': 53889,\n",
       " 'Deaths (+)': 149}"
      ]
     },
     "execution_count": 14,
     "metadata": {},
     "output_type": "execute_result"
    }
   ],
   "source": [
    "#hide\n",
    "summary = {'updated':dates[-1], 'since':dates[-2]}\n",
    "list_names = ['Cases', 'PCases', 'Deaths', 'PDeaths', 'Cases (+)', 'Deaths (+)']\n",
    "for name in list_names:\n",
    "    summary[name] = df_table.sum()[name]\n",
    "summary"
   ]
  },
  {
   "cell_type": "code",
   "execution_count": 15,
   "id": "packed-viewer",
   "metadata": {
    "execution": {
     "iopub.execute_input": "2021-05-04T13:10:34.077758Z",
     "iopub.status.busy": "2021-05-04T13:10:34.077160Z",
     "iopub.status.idle": "2021-05-04T13:10:34.079390Z",
     "shell.execute_reply": "2021-05-04T13:10:34.078807Z"
    },
    "papermill": {
     "duration": 0.022992,
     "end_time": "2021-05-04T13:10:34.079514",
     "exception": false,
     "start_time": "2021-05-04T13:10:34.056522",
     "status": "completed"
    },
    "tags": []
   },
   "outputs": [],
   "source": [
    "#hide\n",
    "overview = '''\n",
    "<!-- #######  HTML!! #########-->\n",
    "<h1 style=\"color: #5e9ca0; text-align: center;\">India</h1>\n",
    "<p style=\"text-align: center;\">Last update: <strong>{update}</strong></p>\n",
    "<p style=\"text-align: center;\">Confirmed cases:</p>\n",
    "<p style=\"text-align: center;font-size:24px;\">{cases} (<span style=\"color: #ff0000;\">+{new}</span>)</p>\n",
    "<p style=\"text-align: center;\">Confirmed deaths:</p>\n",
    "<p style=\"text-align: center;font-size:24px;\">{deaths} (<span style=\"color: #ff0000;\">+{dnew}</span>)</p>\n",
    "'''"
   ]
  },
  {
   "cell_type": "code",
   "execution_count": 16,
   "id": "phantom-lover",
   "metadata": {
    "execution": {
     "iopub.execute_input": "2021-05-04T13:10:34.118720Z",
     "iopub.status.busy": "2021-05-04T13:10:34.118222Z",
     "iopub.status.idle": "2021-05-04T13:10:34.120939Z",
     "shell.execute_reply": "2021-05-04T13:10:34.121336Z"
    },
    "papermill": {
     "duration": 0.025202,
     "end_time": "2021-05-04T13:10:34.121459",
     "exception": false,
     "start_time": "2021-05-04T13:10:34.096257",
     "status": "completed"
    },
    "tags": []
   },
   "outputs": [
    {
     "data": {
      "text/html": [
       "\n",
       "<!-- #######  HTML!! #########-->\n",
       "<h1 style=\"color: #5e9ca0; text-align: center;\">India</h1>\n",
       "<p style=\"text-align: center;\">Last update: <strong>2021-05-04</strong></p>\n",
       "<p style=\"text-align: center;\">Confirmed cases:</p>\n",
       "<p style=\"text-align: center;font-size:24px;\">20329521 (<span style=\"color: #ff0000;\">+53889</span>)</p>\n",
       "<p style=\"text-align: center;\">Confirmed deaths:</p>\n",
       "<p style=\"text-align: center;font-size:24px;\">222535 (<span style=\"color: #ff0000;\">+149</span>)</p>\n"
      ],
      "text/plain": [
       "<IPython.core.display.HTML object>"
      ]
     },
     "metadata": {},
     "output_type": "display_data"
    }
   ],
   "source": [
    "#hide_input\n",
    "update = summary['updated']\n",
    "cases = summary['Cases']\n",
    "new = summary['Cases (+)']\n",
    "deaths = summary['Deaths']\n",
    "dnew = summary['Deaths (+)']\n",
    "\n",
    "html = HTML(overview.format(update=update, cases=cases,new=new,deaths=deaths,dnew=dnew))\n",
    "\n",
    "display(html)"
   ]
  },
  {
   "cell_type": "code",
   "execution_count": 17,
   "id": "sealed-reset",
   "metadata": {
    "execution": {
     "iopub.execute_input": "2021-05-04T13:10:34.162696Z",
     "iopub.status.busy": "2021-05-04T13:10:34.162153Z",
     "iopub.status.idle": "2021-05-04T13:10:34.167217Z",
     "shell.execute_reply": "2021-05-04T13:10:34.167599Z"
    },
    "papermill": {
     "duration": 0.02929,
     "end_time": "2021-05-04T13:10:34.167725",
     "exception": false,
     "start_time": "2021-05-04T13:10:34.138435",
     "status": "completed"
    },
    "tags": []
   },
   "outputs": [],
   "source": [
    "#hide\n",
    "dt_cols = list(dft_cases.columns[1:])\n",
    "dft_ct_new_cases = dft_cases.groupby('state')[dt_cols].sum().diff(axis=1).fillna(0).astype(int)\n",
    "dft_ct_new_cases.sort_values(by = dates[-1], ascending = False,inplace = True)"
   ]
  },
  {
   "cell_type": "code",
   "execution_count": 18,
   "id": "designed-constant",
   "metadata": {
    "execution": {
     "iopub.execute_input": "2021-05-04T13:10:34.218390Z",
     "iopub.status.busy": "2021-05-04T13:10:34.217891Z",
     "iopub.status.idle": "2021-05-04T13:10:34.220680Z",
     "shell.execute_reply": "2021-05-04T13:10:34.220261Z"
    },
    "papermill": {
     "duration": 0.036215,
     "end_time": "2021-05-04T13:10:34.220784",
     "exception": false,
     "start_time": "2021-05-04T13:10:34.184569",
     "status": "completed"
    },
    "tags": []
   },
   "outputs": [
    {
     "data": {
      "text/html": [
       "<div>\n",
       "<style scoped>\n",
       "    .dataframe tbody tr th:only-of-type {\n",
       "        vertical-align: middle;\n",
       "    }\n",
       "\n",
       "    .dataframe tbody tr th {\n",
       "        vertical-align: top;\n",
       "    }\n",
       "\n",
       "    .dataframe thead th {\n",
       "        text-align: right;\n",
       "    }\n",
       "</style>\n",
       "<table border=\"1\" class=\"dataframe\">\n",
       "  <thead>\n",
       "    <tr style=\"text-align: right;\">\n",
       "      <th>states</th>\n",
       "      <th>2020-07-01</th>\n",
       "      <th>2020-07-02</th>\n",
       "      <th>2020-07-03</th>\n",
       "      <th>2020-07-04</th>\n",
       "      <th>2020-07-05</th>\n",
       "      <th>2020-07-06</th>\n",
       "      <th>2020-07-07</th>\n",
       "      <th>2020-07-08</th>\n",
       "      <th>2020-07-09</th>\n",
       "      <th>2020-07-10</th>\n",
       "      <th>...</th>\n",
       "      <th>2021-04-25</th>\n",
       "      <th>2021-04-26</th>\n",
       "      <th>2021-04-27</th>\n",
       "      <th>2021-04-28</th>\n",
       "      <th>2021-04-29</th>\n",
       "      <th>2021-04-30</th>\n",
       "      <th>2021-05-01</th>\n",
       "      <th>2021-05-02</th>\n",
       "      <th>2021-05-03</th>\n",
       "      <th>2021-05-04</th>\n",
       "    </tr>\n",
       "    <tr>\n",
       "      <th>state</th>\n",
       "      <th></th>\n",
       "      <th></th>\n",
       "      <th></th>\n",
       "      <th></th>\n",
       "      <th></th>\n",
       "      <th></th>\n",
       "      <th></th>\n",
       "      <th></th>\n",
       "      <th></th>\n",
       "      <th></th>\n",
       "      <th></th>\n",
       "      <th></th>\n",
       "      <th></th>\n",
       "      <th></th>\n",
       "      <th></th>\n",
       "      <th></th>\n",
       "      <th></th>\n",
       "      <th></th>\n",
       "      <th></th>\n",
       "      <th></th>\n",
       "      <th></th>\n",
       "    </tr>\n",
       "  </thead>\n",
       "  <tbody>\n",
       "    <tr>\n",
       "      <th>Kerala</th>\n",
       "      <td>0</td>\n",
       "      <td>160</td>\n",
       "      <td>211</td>\n",
       "      <td>240</td>\n",
       "      <td>225</td>\n",
       "      <td>193</td>\n",
       "      <td>272</td>\n",
       "      <td>301</td>\n",
       "      <td>339</td>\n",
       "      <td>416</td>\n",
       "      <td>...</td>\n",
       "      <td>28469</td>\n",
       "      <td>21890</td>\n",
       "      <td>32819</td>\n",
       "      <td>35013</td>\n",
       "      <td>38607</td>\n",
       "      <td>37199</td>\n",
       "      <td>35636</td>\n",
       "      <td>31959</td>\n",
       "      <td>26011</td>\n",
       "      <td>37190</td>\n",
       "    </tr>\n",
       "    <tr>\n",
       "      <th>Odisha</th>\n",
       "      <td>0</td>\n",
       "      <td>229</td>\n",
       "      <td>561</td>\n",
       "      <td>495</td>\n",
       "      <td>469</td>\n",
       "      <td>456</td>\n",
       "      <td>571</td>\n",
       "      <td>527</td>\n",
       "      <td>577</td>\n",
       "      <td>755</td>\n",
       "      <td>...</td>\n",
       "      <td>6116</td>\n",
       "      <td>6599</td>\n",
       "      <td>6073</td>\n",
       "      <td>8386</td>\n",
       "      <td>6998</td>\n",
       "      <td>8681</td>\n",
       "      <td>10413</td>\n",
       "      <td>8015</td>\n",
       "      <td>8914</td>\n",
       "      <td>8216</td>\n",
       "    </tr>\n",
       "    <tr>\n",
       "      <th>Telangana</th>\n",
       "      <td>0</td>\n",
       "      <td>1213</td>\n",
       "      <td>1892</td>\n",
       "      <td>1850</td>\n",
       "      <td>1590</td>\n",
       "      <td>1831</td>\n",
       "      <td>1879</td>\n",
       "      <td>1924</td>\n",
       "      <td>1410</td>\n",
       "      <td>1278</td>\n",
       "      <td>...</td>\n",
       "      <td>8126</td>\n",
       "      <td>6551</td>\n",
       "      <td>10122</td>\n",
       "      <td>8061</td>\n",
       "      <td>7994</td>\n",
       "      <td>7646</td>\n",
       "      <td>7754</td>\n",
       "      <td>7430</td>\n",
       "      <td>5695</td>\n",
       "      <td>6876</td>\n",
       "    </tr>\n",
       "    <tr>\n",
       "      <th>Puducherry</th>\n",
       "      <td>0</td>\n",
       "      <td>63</td>\n",
       "      <td>22</td>\n",
       "      <td>80</td>\n",
       "      <td>42</td>\n",
       "      <td>65</td>\n",
       "      <td>30</td>\n",
       "      <td>110</td>\n",
       "      <td>49</td>\n",
       "      <td>72</td>\n",
       "      <td>...</td>\n",
       "      <td>1008</td>\n",
       "      <td>747</td>\n",
       "      <td>1021</td>\n",
       "      <td>1258</td>\n",
       "      <td>1122</td>\n",
       "      <td>1195</td>\n",
       "      <td>1379</td>\n",
       "      <td>1360</td>\n",
       "      <td>799</td>\n",
       "      <td>1138</td>\n",
       "    </tr>\n",
       "    <tr>\n",
       "      <th>Tripura</th>\n",
       "      <td>0</td>\n",
       "      <td>39</td>\n",
       "      <td>93</td>\n",
       "      <td>25</td>\n",
       "      <td>23</td>\n",
       "      <td>111</td>\n",
       "      <td>24</td>\n",
       "      <td>57</td>\n",
       "      <td>16</td>\n",
       "      <td>142</td>\n",
       "      <td>...</td>\n",
       "      <td>100</td>\n",
       "      <td>98</td>\n",
       "      <td>111</td>\n",
       "      <td>124</td>\n",
       "      <td>166</td>\n",
       "      <td>141</td>\n",
       "      <td>173</td>\n",
       "      <td>247</td>\n",
       "      <td>134</td>\n",
       "      <td>271</td>\n",
       "    </tr>\n",
       "  </tbody>\n",
       "</table>\n",
       "<p>5 rows × 308 columns</p>\n",
       "</div>"
      ],
      "text/plain": [
       "states      2020-07-01  2020-07-02  2020-07-03  2020-07-04  2020-07-05  \\\n",
       "state                                                                    \n",
       "Kerala               0         160         211         240         225   \n",
       "Odisha               0         229         561         495         469   \n",
       "Telangana            0        1213        1892        1850        1590   \n",
       "Puducherry           0          63          22          80          42   \n",
       "Tripura              0          39          93          25          23   \n",
       "\n",
       "states      2020-07-06  2020-07-07  2020-07-08  2020-07-09  2020-07-10  ...  \\\n",
       "state                                                                   ...   \n",
       "Kerala             193         272         301         339         416  ...   \n",
       "Odisha             456         571         527         577         755  ...   \n",
       "Telangana         1831        1879        1924        1410        1278  ...   \n",
       "Puducherry          65          30         110          49          72  ...   \n",
       "Tripura            111          24          57          16         142  ...   \n",
       "\n",
       "states      2021-04-25  2021-04-26  2021-04-27  2021-04-28  2021-04-29  \\\n",
       "state                                                                    \n",
       "Kerala           28469       21890       32819       35013       38607   \n",
       "Odisha            6116        6599        6073        8386        6998   \n",
       "Telangana         8126        6551       10122        8061        7994   \n",
       "Puducherry        1008         747        1021        1258        1122   \n",
       "Tripura            100          98         111         124         166   \n",
       "\n",
       "states      2021-04-30  2021-05-01  2021-05-02  2021-05-03  2021-05-04  \n",
       "state                                                                   \n",
       "Kerala           37199       35636       31959       26011       37190  \n",
       "Odisha            8681       10413        8015        8914        8216  \n",
       "Telangana         7646        7754        7430        5695        6876  \n",
       "Puducherry        1195        1379        1360         799        1138  \n",
       "Tripura            141         173         247         134         271  \n",
       "\n",
       "[5 rows x 308 columns]"
      ]
     },
     "execution_count": 18,
     "metadata": {},
     "output_type": "execute_result"
    }
   ],
   "source": [
    "#hide\n",
    "dft_ct_new_cases.head()"
   ]
  },
  {
   "cell_type": "code",
   "execution_count": 19,
   "id": "responsible-nightlife",
   "metadata": {
    "execution": {
     "iopub.execute_input": "2021-05-04T13:10:34.282103Z",
     "iopub.status.busy": "2021-05-04T13:10:34.279054Z",
     "iopub.status.idle": "2021-05-04T13:10:44.377775Z",
     "shell.execute_reply": "2021-05-04T13:10:44.378176Z"
    },
    "papermill": {
     "duration": 10.13976,
     "end_time": "2021-05-04T13:10:44.378313",
     "exception": false,
     "start_time": "2021-05-04T13:10:34.238553",
     "status": "completed"
    },
    "tags": []
   },
   "outputs": [
    {
     "data": {
      "image/png": "[encoded data removed]",
      "text/plain": [
       "<Figure size 1296x2016 with 11 Axes>"
      ]
     },
     "metadata": {
      "needs_background": "light"
     },
     "output_type": "display_data"
    }
   ],
   "source": [
    "#hide_input\n",
    "df = dft_ct_new_cases.copy()\n",
    "df.loc['Total'] = df.sum()\n",
    "n = 5\n",
    "ax = []\n",
    "fig = plt.figure(figsize = (18,28))\n",
    "gs = fig.add_gridspec(n+2, 5)\n",
    "# gs = fig.add_gridspec(2, 3)\n",
    "ax1 = fig.add_subplot(gs[0, :])\n",
    "ef = df.loc['Total'].rename_axis('date').reset_index()\n",
    "ef['date'] = ef['date'].astype('datetime64[ns]')\n",
    "ax1.bar(ef.date,ef.Total,alpha=0.3,color='#007acc')\n",
    "ax1.plot(ef.date,ef.Total , marker=\"o\", color='#007acc')\n",
    "ax1.xaxis.set_major_locator(mdates.WeekdayLocator())\n",
    "ax1.xaxis.set_major_formatter(mdates.DateFormatter('%b %d'))\n",
    "ax1.text(0.02, 0.5,'India daily case count', transform = ax1.transAxes, fontsize=25);\n",
    "ax1.spines['right'].set_visible(False)\n",
    "ax1.spines['top'].set_visible(False)\n",
    "\n",
    "ax2 = fig.add_subplot(gs[1,0])\n",
    "ef = df.loc['Maharashtra'].rename_axis('date').reset_index()\n",
    "ef['date'] = ef['date'].astype('datetime64[ns]')\n",
    "\n",
    "ax2.bar(ef.date, ef.Maharashtra,color = '#007acc',alpha=0.5)\n",
    "ax2.xaxis.set_major_locator(mdates.WeekdayLocator())\n",
    "ax2.xaxis.set_major_formatter(mdates.DateFormatter('%b %d'))\n",
    "ax2.set_xticks(ax2.get_xticks()[::3])\n",
    "maxyval = ef.Maharashtra.max()\n",
    "ax2.set_ylim([0,maxyval])\n",
    "ax2.text(0.05, 0.9,'Maharashtra', transform = ax2.transAxes, fontsize=20);\n",
    "ax2.spines['right'].set_visible(False)\n",
    "ax2.spines['top'].set_visible(False)\n",
    "\n",
    "\n",
    "ax3 = fig.add_subplot(gs[1,1])\n",
    "ef = df.loc['Tamil Nadu'].rename_axis('date').reset_index()\n",
    "ef['date'] = ef['date'].astype('datetime64[ns]')\n",
    "ax3.bar(ef.date, ef['Tamil Nadu'],color = '#007acc',alpha=0.5,)\n",
    "ax3.xaxis.set_major_locator(mdates.WeekdayLocator())\n",
    "ax3.xaxis.set_major_formatter(mdates.DateFormatter('%b %d'))\n",
    "ax3.set_xticks(ax3.get_xticks()[::3])\n",
    "ax3.text(0.05, 0.9,'Tamil Nadu', transform = ax3.transAxes, fontsize=20);\n",
    "ax3.spines['right'].set_visible(False)\n",
    "ax3.spines['top'].set_visible(False)\n",
    "\n",
    "ax5 = fig.add_subplot(gs[1,3])\n",
    "ef = df.loc['Telangana'].rename_axis('date').reset_index()\n",
    "ef['date'] = ef['date'].astype('datetime64[ns]')\n",
    "ax5.bar(ef.date, ef['Telangana'],color = '#007acc',alpha=0.5,)\n",
    "ax5.xaxis.set_major_locator(mdates.WeekdayLocator())\n",
    "ax5.xaxis.set_major_formatter(mdates.DateFormatter('%b %d'))\n",
    "ax5.set_xticks(ax5.get_xticks()[::3])\n",
    "ax5.text(0.05, 0.9,'Telangana', transform = ax5.transAxes, fontsize=20);\n",
    "ax5.spines['right'].set_visible(False)\n",
    "ax5.spines['top'].set_visible(False)\n",
    "\n",
    "ax6 = fig.add_subplot(gs[1,4])\n",
    "ef = df.loc['Andhra Pradesh'].rename_axis('date').reset_index()\n",
    "ef['date'] = ef['date'].astype('datetime64[ns]')\n",
    "ax6.bar(ef.date, ef['Andhra Pradesh'],color = '#007acc',alpha=0.5,)\n",
    "ax6.xaxis.set_major_locator(mdates.WeekdayLocator())\n",
    "ax6.xaxis.set_major_formatter(mdates.DateFormatter('%b %d'))\n",
    "ax6.set_xticks(ax6.get_xticks()[::3])\n",
    "ax6.text(0.05, 1,'Andhra Pradesh', transform = ax6.transAxes, fontsize=20);\n",
    "ax6.spines['right'].set_visible(False)\n",
    "ax6.spines['top'].set_visible(False)\n",
    "\n",
    "ax4 = fig.add_subplot(gs[1,2])\n",
    "ef = df.loc['Delhi'].rename_axis('date').reset_index()\n",
    "ef['date'] = ef['date'].astype('datetime64[ns]')\n",
    "ax4.bar(ef.date, ef.Delhi,color = '#007acc',alpha=0.5)\n",
    "ax4.set_xticks([])\n",
    "ax4.xaxis.set_major_locator(mdates.WeekdayLocator())\n",
    "ax4.xaxis.set_major_formatter(mdates.DateFormatter('%b %d'))\n",
    "ax4.set_xticks(ax4.get_xticks()[::3])\n",
    "ax4.spines['right'].set_visible(False)\n",
    "ax4.spines['top'].set_visible(False)\n",
    "\n",
    "ax4.text(0.05, 1,'Delhi', transform = ax4.transAxes, fontsize=20)\n",
    "\n",
    "for i in range(n):\n",
    "    \n",
    "    ax.append(fig.add_subplot(gs[i+2,:]))\n",
    "    ef = df.iloc[i+3].rename_axis('date').reset_index()\n",
    "    ef['date'] = ef['date'].astype('datetime64[ns]')\n",
    "    ax[i].bar(ef.date,ef.iloc[:,-1],color = '#007acc',alpha=0.3)\n",
    "    ax[i].plot(ef.date,ef.iloc[:,-1],marker='o',color='#007acc')\n",
    "    ax[i].text(0.02,0.5,f'{ef.columns.values[-1]}',transform = ax[i].transAxes, fontsize = 20);\n",
    "    ax[i].xaxis.set_major_locator(mdates.WeekdayLocator())\n",
    "    ax[i].xaxis.set_major_formatter(mdates.DateFormatter('%b %d'))\n",
    "    ax[i].set_ylim([0,7000])\n",
    "    ax[i].spines['right'].set_visible(False)\n",
    "    ax[i].spines['top'].set_visible(False)\n",
    "plt.tight_layout()\n"
   ]
  },
  {
   "cell_type": "code",
   "execution_count": 20,
   "id": "dress-forge",
   "metadata": {
    "execution": {
     "iopub.execute_input": "2021-05-04T13:10:44.432067Z",
     "iopub.status.busy": "2021-05-04T13:10:44.431462Z",
     "iopub.status.idle": "2021-05-04T13:10:44.433659Z",
     "shell.execute_reply": "2021-05-04T13:10:44.434109Z"
    },
    "papermill": {
     "duration": 0.033716,
     "end_time": "2021-05-04T13:10:44.434251",
     "exception": false,
     "start_time": "2021-05-04T13:10:44.400535",
     "status": "completed"
    },
    "tags": []
   },
   "outputs": [
    {
     "name": "stdout",
     "output_type": "stream",
     "text": [
      "                                   states    Cases  Deaths   PCases  PDeaths  Cases (+)  Deaths (+)  Fatality Rate\n",
      "                              Maharashtra  4771022   70851  4771022    70851          0           0           1.49\n",
      "                                   Kerala  1701980    5508  1664790     5451      37190          57           0.32\n",
      "                                Karnataka  1646303   16250  1646303    16250          0           0           0.99\n",
      "                            Uttar Pradesh  1342413   13447  1342413    13447          0           0           1.00\n",
      "                               Tamil Nadu  1228064   14468  1228064    14468          0           0           1.18\n",
      "                                    Delhi  1212989   17414  1212989    17414          0           0           1.44\n",
      "                           Andhra Pradesh  1163994    8207  1163994     8207          0           0           0.71\n",
      "                              West Bengal   880894   11637   880894    11637          0           0           1.32\n",
      "                             Chhattisgarh   771701    9275   771701     9275          0           0           1.20\n",
      "                                Rajasthan   651247    4712   651247     4712          0           0           0.72\n",
      "                                  Gujarat   607422    7648   607422     7648          0           0           1.26\n",
      "                           Madhya Pradesh   600430    5905   600430     5905          0           0           0.98\n",
      "                                  Haryana   527773    4626   527773     4626          0           0           0.88\n",
      "                                    Bihar   509047    2821   509047     2821          0           0           0.55\n",
      "                                   Odisha   479752    2141   471536     2126       8216          15           0.45\n",
      "                                Telangana   463361    2476   456485     2417       6876          59           0.53\n",
      "                                   Punjab   392042    9472   392042     9472          0           0           2.42\n",
      "                                    Assam   263450    1389   263450     1389          0           0           0.53\n",
      "                                Jharkhand   251371    3073   251371     3073          0           0           1.22\n",
      "                              Uttarakhand   197023    2930   197023     2930          0           0           1.49\n",
      "                        Jammu and Kashmir   187219    2421   187219     2421          0           0           1.29\n",
      "                         Himachal Pradesh   107121    1599   107121     1599          0           0           1.49\n",
      "                                      Goa    98088    1320    98088     1320          0           0           1.35\n",
      "                               Puducherry    63298     865    62160      848       1138          17           1.37\n",
      "                               Chandigarh    45196     507    45196      507          0           0           1.12\n",
      "                                  Tripura    35991     397    35720      396        271           1           1.10\n",
      "                                  Manipur    32523     422    32523      422          0           0           1.30\n",
      "                        Arunachal Pradesh    18959      59    18959       59          0           0           0.31\n",
      "                                Meghalaya    17675     185    17675      185          0           0           1.05\n",
      "                                 Nagaland    14451     115    14451      115          0           0           0.80\n",
      "                                   Ladakh    14315     148    14315      148          0           0           1.03\n",
      "                                   Sikkim     8468     150     8468      150          0           0           1.77\n",
      " Dadra and Nagar Haveli and Daman and Diu     8153       4     8153        4          0           0           0.05\n",
      "                                  Mizoram     6556      17     6358       17        198           0           0.26\n",
      "              Andaman and Nicobar Islands     6150      70     6150       70          0           0           1.14\n",
      "                              Lakshadweep     3080       6     3080        6          0           0           0.19\n"
     ]
    }
   ],
   "source": [
    "#hide_input\n",
    "print(df_table.to_string(index=False))"
   ]
  },
  {
   "cell_type": "code",
   "execution_count": null,
   "id": "quantitative-legend",
   "metadata": {
    "papermill": {
     "duration": 0.022451,
     "end_time": "2021-05-04T13:10:44.479504",
     "exception": false,
     "start_time": "2021-05-04T13:10:44.457053",
     "status": "completed"
    },
    "tags": []
   },
   "outputs": [],
   "source": []
  },
  {
   "cell_type": "code",
   "execution_count": null,
   "id": "distant-acoustic",
   "metadata": {
    "papermill": {
     "duration": 0.022382,
     "end_time": "2021-05-04T13:10:44.524366",
     "exception": false,
     "start_time": "2021-05-04T13:10:44.501984",
     "status": "completed"
    },
    "tags": []
   },
   "outputs": [],
   "source": []
  }
 ],
 "metadata": {
  "kernelspec": {
   "display_name": "Python 3",
   "language": "python",
   "name": "python3"
  },
  "language_info": {
   "codemirror_mode": {
    "name": "ipython",
    "version": 3
   },
   "file_extension": ".py",
   "mimetype": "text/x-python",
   "name": "python",
   "nbconvert_exporter": "python",
   "pygments_lexer": "ipython3",
   "version": "3.6.13"
  },
  "papermill": {
   "duration": 22.292492,
   "end_time": "2021-05-04T13:10:46.206062",
   "environment_variables": {},
   "exception": null,
   "input_path": "latest.ipynb",
   "output_path": "latest.ipynb",
   "parameters": {},
   "start_time": "2021-05-04T13:10:23.913570",
   "version": "2.1.2"
  }
 },
 "nbformat": 4,
 "nbformat_minor": 5
}