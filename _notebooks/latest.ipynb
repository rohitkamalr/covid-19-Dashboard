{
 "cells": [
  {
   "cell_type": "markdown",
   "metadata": {
    "papermill": {
     "duration": 0.022148,
     "end_time": "2020-10-06T08:51:28.367986",
     "exception": false,
     "start_time": "2020-10-06T08:51:28.345838",
     "status": "completed"
    },
    "tags": []
   },
   "source": [
    "# Latest COVID-19 India Matplotlib Overview"
   ]
  },
  {
   "cell_type": "code",
   "execution_count": 1,
   "metadata": {
    "execution": {
     "iopub.execute_input": "2020-10-06T08:51:28.407971Z",
     "iopub.status.busy": "2020-10-06T08:51:28.407364Z",
     "iopub.status.idle": "2020-10-06T08:51:28.984843Z",
     "shell.execute_reply": "2020-10-06T08:51:28.984245Z"
    },
    "papermill": {
     "duration": 0.601261,
     "end_time": "2020-10-06T08:51:28.984996",
     "exception": false,
     "start_time": "2020-10-06T08:51:28.383735",
     "status": "completed"
    },
    "tags": []
   },
   "outputs": [],
   "source": [
    "#hide\n",
    "import pandas as pd\n",
    "import numpy as np\n",
    "import requests\n",
    "import json\n",
    "import matplotlib.pyplot as plt\n",
    "import matplotlib.dates as mdates\n",
    "import matplotlib as mpl\n",
    "from IPython.core.display import display,HTML\n",
    "%matplotlib inline\n",
    "from datetime import date"
   ]
  },
  {
   "cell_type": "code",
   "execution_count": 2,
   "metadata": {
    "execution": {
     "iopub.execute_input": "2020-10-06T08:51:29.930182Z",
     "iopub.status.busy": "2020-10-06T08:51:29.925726Z",
     "iopub.status.idle": "2020-10-06T08:51:30.213339Z",
     "shell.execute_reply": "2020-10-06T08:51:30.212319Z"
    },
    "papermill": {
     "duration": 1.213309,
     "end_time": "2020-10-06T08:51:30.213491",
     "exception": false,
     "start_time": "2020-10-06T08:51:29.000182",
     "status": "completed"
    },
    "tags": []
   },
   "outputs": [],
   "source": [
    "#hide\n",
    "df  = pd.read_csv('https://api.covid19india.org/csv/latest/states.csv')\n",
    "df = df[['Date','State','Confirmed','Deceased']]\n",
    "df = df.rename(columns={'Confirmed':'Cases', \"Deceased\":'Deaths'})\n",
    "df_cases = df[[\"Date\",'State','Cases']]\n",
    "df_deaths = df[['Date','State','Deaths']]\n",
    "df_cases1 = df_cases.groupby('Date')\n",
    "df_deaths1= df_deaths.groupby('Date')"
   ]
  },
  {
   "cell_type": "code",
   "execution_count": 3,
   "metadata": {
    "execution": {
     "iopub.execute_input": "2020-10-06T08:51:30.308255Z",
     "iopub.status.busy": "2020-10-06T08:51:30.307672Z",
     "iopub.status.idle": "2020-10-06T08:51:30.325919Z",
     "shell.execute_reply": "2020-10-06T08:51:30.325436Z"
    },
    "papermill": {
     "duration": 0.04116,
     "end_time": "2020-10-06T08:51:30.326044",
     "exception": false,
     "start_time": "2020-10-06T08:51:30.284884",
     "status": "completed"
    },
    "tags": []
   },
   "outputs": [],
   "source": [
    "#hide\n",
    "df_snap = pd.read_csv('data/SnapshotCases-28-July.csv')\n",
    "arr_states = df_snap['states'].unique()\n",
    "arr_dates = df['Date'].unique()\n",
    "df_snap = df_snap.set_index('states')"
   ]
  },
  {
   "cell_type": "code",
   "execution_count": 4,
   "metadata": {
    "execution": {
     "iopub.execute_input": "2020-10-06T08:51:30.363407Z",
     "iopub.status.busy": "2020-10-06T08:51:30.362800Z",
     "iopub.status.idle": "2020-10-06T08:51:30.365761Z",
     "shell.execute_reply": "2020-10-06T08:51:30.365302Z"
    },
    "papermill": {
     "duration": 0.024931,
     "end_time": "2020-10-06T08:51:30.365881",
     "exception": false,
     "start_time": "2020-10-06T08:51:30.340950",
     "status": "completed"
    },
    "tags": []
   },
   "outputs": [
    {
     "data": {
      "text/plain": [
       "array(['Andaman and Nicobar Islands', 'Andhra Pradesh',\n",
       "       'Arunachal Pradesh', 'Assam', 'Bihar', 'Chandigarh',\n",
       "       'Dadra and Nagar Haveli and Daman and Diu', 'Delhi', 'Goa',\n",
       "       'Gujarat', 'Haryana', 'Himachal Pradesh', 'Jammu and Kashmir',\n",
       "       'Jharkhand', 'Karnataka', 'Kerala', 'Lakshadweep',\n",
       "       'Madhya Pradesh', 'Maharashtra', 'Manipur', 'Meghalaya', 'Mizoram',\n",
       "       'Nagaland', 'Odisha', 'Puducherry', 'Punjab', 'Rajasthan',\n",
       "       'Sikkim', 'Tamil Nadu', 'Telangana', 'Tripura', 'Uttar Pradesh',\n",
       "       'West Bengal', 'Chhattisgarh', 'Ladakh', 'Uttarakhand'],\n",
       "      dtype=object)"
      ]
     },
     "execution_count": 4,
     "metadata": {},
     "output_type": "execute_result"
    }
   ],
   "source": [
    "#hide\n",
    "arr_states[-9] = 'Puducherry'\n",
    "arr_states[-10] = 'Odisha'\n",
    "arr_states[6] = 'Dadra and Nagar Haveli and Daman and Diu'\n",
    "arr_states = np.append(arr_states,np.array(['Chhattisgarh','Ladakh','Uttarakhand']))\n",
    "arr_states"
   ]
  },
  {
   "cell_type": "code",
   "execution_count": 5,
   "metadata": {
    "execution": {
     "iopub.execute_input": "2020-10-06T08:51:30.407597Z",
     "iopub.status.busy": "2020-10-06T08:51:30.406998Z",
     "iopub.status.idle": "2020-10-06T08:51:30.414350Z",
     "shell.execute_reply": "2020-10-06T08:51:30.413862Z"
    },
    "papermill": {
     "duration": 0.033371,
     "end_time": "2020-10-06T08:51:30.414462",
     "exception": false,
     "start_time": "2020-10-06T08:51:30.381091",
     "status": "completed"
    },
    "tags": []
   },
   "outputs": [],
   "source": [
    "#hide\n",
    "dates = []\n",
    "for i in arr_dates:\n",
    "    if i>='2020-07-01':\n",
    "        dates.append(i)\n",
    "dict = {'states':dates}\n",
    "for i in arr_states:\n",
    "    dict[i] = [0]*len(dates)\n",
    "dft_cases = pd.DataFrame(dict)\n",
    "dft_deaths = pd.DataFrame(dict)\n"
   ]
  },
  {
   "cell_type": "code",
   "execution_count": 6,
   "metadata": {
    "execution": {
     "iopub.execute_input": "2020-10-06T08:51:30.451793Z",
     "iopub.status.busy": "2020-10-06T08:51:30.451187Z",
     "iopub.status.idle": "2020-10-06T08:51:31.758839Z",
     "shell.execute_reply": "2020-10-06T08:51:31.758336Z"
    },
    "papermill": {
     "duration": 1.329231,
     "end_time": "2020-10-06T08:51:31.758973",
     "exception": false,
     "start_time": "2020-10-06T08:51:30.429742",
     "status": "completed"
    },
    "tags": []
   },
   "outputs": [],
   "source": [
    "#hide\n",
    "for i in range(len(dates)):\n",
    "    df1_deaths = df_deaths1.get_group(dates[i])\n",
    "    for j in range(len(df1_deaths.index)):\n",
    "        if df1_deaths.iloc[j,1] in arr_states:\n",
    "            dft_deaths.loc[i,df1_deaths.iloc[j,1]] = df1_deaths.iloc[j,2]\n",
    "dft_deaths = dft_deaths.set_index('states')"
   ]
  },
  {
   "cell_type": "code",
   "execution_count": 7,
   "metadata": {
    "execution": {
     "iopub.execute_input": "2020-10-06T08:51:31.798924Z",
     "iopub.status.busy": "2020-10-06T08:51:31.798342Z",
     "iopub.status.idle": "2020-10-06T08:51:33.105915Z",
     "shell.execute_reply": "2020-10-06T08:51:33.105267Z"
    },
    "papermill": {
     "duration": 1.331453,
     "end_time": "2020-10-06T08:51:33.106085",
     "exception": false,
     "start_time": "2020-10-06T08:51:31.774632",
     "status": "completed"
    },
    "tags": []
   },
   "outputs": [],
   "source": [
    "#hide\n",
    "for i in range(len(dates)):\n",
    "    df1_cases = df_cases1.get_group(dates[i])\n",
    "    for j in range(len(df1_cases.index)):\n",
    "        if df1_cases.iloc[j,1] in arr_states:\n",
    "            dft_cases.loc[i,df1_cases.iloc[j,1]] = df1_cases.iloc[j,2]\n",
    "dft_cases = dft_cases.set_index('states')"
   ]
  },
  {
   "cell_type": "code",
   "execution_count": 8,
   "metadata": {
    "execution": {
     "iopub.execute_input": "2020-10-06T08:51:33.145840Z",
     "iopub.status.busy": "2020-10-06T08:51:33.145260Z",
     "iopub.status.idle": "2020-10-06T08:51:33.149196Z",
     "shell.execute_reply": "2020-10-06T08:51:33.148716Z"
    },
    "papermill": {
     "duration": 0.025848,
     "end_time": "2020-10-06T08:51:33.149312",
     "exception": false,
     "start_time": "2020-10-06T08:51:33.123464",
     "status": "completed"
    },
    "tags": []
   },
   "outputs": [],
   "source": [
    "#hide\n",
    "dft_cases = dft_cases.T\n",
    "dft_deaths = dft_deaths.T\n",
    "dt_today = dates[-1]\n",
    "dt_yday = dates[-2]"
   ]
  },
  {
   "cell_type": "code",
   "execution_count": 9,
   "metadata": {
    "execution": {
     "iopub.execute_input": "2020-10-06T08:51:33.187510Z",
     "iopub.status.busy": "2020-10-06T08:51:33.186901Z",
     "iopub.status.idle": "2020-10-06T08:51:33.190161Z",
     "shell.execute_reply": "2020-10-06T08:51:33.190632Z"
    },
    "papermill": {
     "duration": 0.026203,
     "end_time": "2020-10-06T08:51:33.190769",
     "exception": false,
     "start_time": "2020-10-06T08:51:33.164566",
     "status": "completed"
    },
    "tags": []
   },
   "outputs": [],
   "source": [
    "#hide\n",
    "dft_cases = dft_cases.reset_index()\n",
    "dft_deaths = dft_deaths.reset_index()\n",
    "dft_cases = dft_cases.rename(columns = {'index':'state'})\n",
    "dft_deaths = dft_deaths.rename(columns = {'index':'state'})"
   ]
  },
  {
   "cell_type": "code",
   "execution_count": 10,
   "metadata": {
    "execution": {
     "iopub.execute_input": "2020-10-06T08:51:33.231516Z",
     "iopub.status.busy": "2020-10-06T08:51:33.230905Z",
     "iopub.status.idle": "2020-10-06T08:51:33.234056Z",
     "shell.execute_reply": "2020-10-06T08:51:33.234501Z"
    },
    "papermill": {
     "duration": 0.028726,
     "end_time": "2020-10-06T08:51:33.234640",
     "exception": false,
     "start_time": "2020-10-06T08:51:33.205914",
     "status": "completed"
    },
    "tags": []
   },
   "outputs": [],
   "source": [
    "#hide\n",
    "dfc_cases = dft_cases.groupby('state')[dt_today].sum()\n",
    "dfc_deaths = dft_deaths.groupby('state')[dt_today].sum()\n",
    "dfp_cases = dft_cases.groupby('state')[dt_yday].sum()\n",
    "dfp_deaths = dft_deaths.groupby('state')[dt_yday].sum()"
   ]
  },
  {
   "cell_type": "code",
   "execution_count": 11,
   "metadata": {
    "execution": {
     "iopub.execute_input": "2020-10-06T08:51:33.284034Z",
     "iopub.status.busy": "2020-10-06T08:51:33.277867Z",
     "iopub.status.idle": "2020-10-06T08:51:33.289597Z",
     "shell.execute_reply": "2020-10-06T08:51:33.290069Z"
    },
    "papermill": {
     "duration": 0.039905,
     "end_time": "2020-10-06T08:51:33.290203",
     "exception": false,
     "start_time": "2020-10-06T08:51:33.250298",
     "status": "completed"
    },
    "tags": []
   },
   "outputs": [
    {
     "data": {
      "text/html": [
       "<div>\n",
       "<style scoped>\n",
       "    .dataframe tbody tr th:only-of-type {\n",
       "        vertical-align: middle;\n",
       "    }\n",
       "\n",
       "    .dataframe tbody tr th {\n",
       "        vertical-align: top;\n",
       "    }\n",
       "\n",
       "    .dataframe thead th {\n",
       "        text-align: right;\n",
       "    }\n",
       "</style>\n",
       "<table border=\"1\" class=\"dataframe\">\n",
       "  <thead>\n",
       "    <tr style=\"text-align: right;\">\n",
       "      <th></th>\n",
       "      <th>states</th>\n",
       "      <th>Cases</th>\n",
       "      <th>Deaths</th>\n",
       "      <th>PCases</th>\n",
       "      <th>PDeaths</th>\n",
       "    </tr>\n",
       "  </thead>\n",
       "  <tbody>\n",
       "    <tr>\n",
       "      <th>0</th>\n",
       "      <td>Maharashtra</td>\n",
       "      <td>1453653</td>\n",
       "      <td>38347</td>\n",
       "      <td>1453653</td>\n",
       "      <td>38347</td>\n",
       "    </tr>\n",
       "    <tr>\n",
       "      <th>1</th>\n",
       "      <td>Andhra Pradesh</td>\n",
       "      <td>723512</td>\n",
       "      <td>6019</td>\n",
       "      <td>723512</td>\n",
       "      <td>6019</td>\n",
       "    </tr>\n",
       "    <tr>\n",
       "      <th>2</th>\n",
       "      <td>Karnataka</td>\n",
       "      <td>647712</td>\n",
       "      <td>9370</td>\n",
       "      <td>647712</td>\n",
       "      <td>9370</td>\n",
       "    </tr>\n",
       "    <tr>\n",
       "      <th>3</th>\n",
       "      <td>Tamil Nadu</td>\n",
       "      <td>625391</td>\n",
       "      <td>9846</td>\n",
       "      <td>625391</td>\n",
       "      <td>9846</td>\n",
       "    </tr>\n",
       "    <tr>\n",
       "      <th>4</th>\n",
       "      <td>Uttar Pradesh</td>\n",
       "      <td>417437</td>\n",
       "      <td>6092</td>\n",
       "      <td>417437</td>\n",
       "      <td>6092</td>\n",
       "    </tr>\n",
       "  </tbody>\n",
       "</table>\n",
       "</div>"
      ],
      "text/plain": [
       "           states    Cases  Deaths   PCases  PDeaths\n",
       "0     Maharashtra  1453653   38347  1453653    38347\n",
       "1  Andhra Pradesh   723512    6019   723512     6019\n",
       "2       Karnataka   647712    9370   647712     9370\n",
       "3      Tamil Nadu   625391    9846   625391     9846\n",
       "4   Uttar Pradesh   417437    6092   417437     6092"
      ]
     },
     "execution_count": 11,
     "metadata": {},
     "output_type": "execute_result"
    }
   ],
   "source": [
    "#hide\n",
    "df_table = pd.DataFrame({'states': dfc_cases.index, 'Cases': dfc_cases.values, 'Deaths': dfc_deaths.values, 'PCases': dfp_cases.values, 'PDeaths': dfp_deaths.values}).set_index('states')\n",
    "df_table = df_table.sort_values(by = ['Cases','Deaths'], ascending = [False, False])\n",
    "df_table = df_table.reset_index()\n",
    "df_table.head()"
   ]
  },
  {
   "cell_type": "code",
   "execution_count": 12,
   "metadata": {
    "execution": {
     "iopub.execute_input": "2020-10-06T08:51:33.327984Z",
     "iopub.status.busy": "2020-10-06T08:51:33.327381Z",
     "iopub.status.idle": "2020-10-06T08:51:33.336386Z",
     "shell.execute_reply": "2020-10-06T08:51:33.335924Z"
    },
    "papermill": {
     "duration": 0.030787,
     "end_time": "2020-10-06T08:51:33.336509",
     "exception": false,
     "start_time": "2020-10-06T08:51:33.305722",
     "status": "completed"
    },
    "tags": []
   },
   "outputs": [],
   "source": [
    "#hide\n",
    "for c in 'Cases, Deaths'.split(', '):\n",
    "    df_table[f'{c} (+)'] = (df_table[c] - df_table[f'P{c}']).clip(0)\n",
    "df_table['Fatality Rate'] = (100* df_table['Deaths']/ df_table['Cases']).round(2)"
   ]
  },
  {
   "cell_type": "code",
   "execution_count": 13,
   "metadata": {
    "execution": {
     "iopub.execute_input": "2020-10-06T08:51:33.381300Z",
     "iopub.status.busy": "2020-10-06T08:51:33.380726Z",
     "iopub.status.idle": "2020-10-06T08:51:33.383803Z",
     "shell.execute_reply": "2020-10-06T08:51:33.383287Z"
    },
    "papermill": {
     "duration": 0.031629,
     "end_time": "2020-10-06T08:51:33.383921",
     "exception": false,
     "start_time": "2020-10-06T08:51:33.352292",
     "status": "completed"
    },
    "tags": []
   },
   "outputs": [
    {
     "data": {
      "text/html": [
       "<div>\n",
       "<style scoped>\n",
       "    .dataframe tbody tr th:only-of-type {\n",
       "        vertical-align: middle;\n",
       "    }\n",
       "\n",
       "    .dataframe tbody tr th {\n",
       "        vertical-align: top;\n",
       "    }\n",
       "\n",
       "    .dataframe thead th {\n",
       "        text-align: right;\n",
       "    }\n",
       "</style>\n",
       "<table border=\"1\" class=\"dataframe\">\n",
       "  <thead>\n",
       "    <tr style=\"text-align: right;\">\n",
       "      <th></th>\n",
       "      <th>states</th>\n",
       "      <th>Cases</th>\n",
       "      <th>Deaths</th>\n",
       "      <th>PCases</th>\n",
       "      <th>PDeaths</th>\n",
       "      <th>Cases (+)</th>\n",
       "      <th>Deaths (+)</th>\n",
       "      <th>Fatality Rate</th>\n",
       "    </tr>\n",
       "  </thead>\n",
       "  <tbody>\n",
       "    <tr>\n",
       "      <th>0</th>\n",
       "      <td>Maharashtra</td>\n",
       "      <td>1453653</td>\n",
       "      <td>38347</td>\n",
       "      <td>1453653</td>\n",
       "      <td>38347</td>\n",
       "      <td>0</td>\n",
       "      <td>0</td>\n",
       "      <td>2.64</td>\n",
       "    </tr>\n",
       "    <tr>\n",
       "      <th>1</th>\n",
       "      <td>Andhra Pradesh</td>\n",
       "      <td>723512</td>\n",
       "      <td>6019</td>\n",
       "      <td>723512</td>\n",
       "      <td>6019</td>\n",
       "      <td>0</td>\n",
       "      <td>0</td>\n",
       "      <td>0.83</td>\n",
       "    </tr>\n",
       "    <tr>\n",
       "      <th>2</th>\n",
       "      <td>Karnataka</td>\n",
       "      <td>647712</td>\n",
       "      <td>9370</td>\n",
       "      <td>647712</td>\n",
       "      <td>9370</td>\n",
       "      <td>0</td>\n",
       "      <td>0</td>\n",
       "      <td>1.45</td>\n",
       "    </tr>\n",
       "    <tr>\n",
       "      <th>3</th>\n",
       "      <td>Tamil Nadu</td>\n",
       "      <td>625391</td>\n",
       "      <td>9846</td>\n",
       "      <td>625391</td>\n",
       "      <td>9846</td>\n",
       "      <td>0</td>\n",
       "      <td>0</td>\n",
       "      <td>1.57</td>\n",
       "    </tr>\n",
       "    <tr>\n",
       "      <th>4</th>\n",
       "      <td>Uttar Pradesh</td>\n",
       "      <td>417437</td>\n",
       "      <td>6092</td>\n",
       "      <td>417437</td>\n",
       "      <td>6092</td>\n",
       "      <td>0</td>\n",
       "      <td>0</td>\n",
       "      <td>1.46</td>\n",
       "    </tr>\n",
       "  </tbody>\n",
       "</table>\n",
       "</div>"
      ],
      "text/plain": [
       "           states    Cases  Deaths   PCases  PDeaths  Cases (+)  Deaths (+)  \\\n",
       "0     Maharashtra  1453653   38347  1453653    38347          0           0   \n",
       "1  Andhra Pradesh   723512    6019   723512     6019          0           0   \n",
       "2       Karnataka   647712    9370   647712     9370          0           0   \n",
       "3      Tamil Nadu   625391    9846   625391     9846          0           0   \n",
       "4   Uttar Pradesh   417437    6092   417437     6092          0           0   \n",
       "\n",
       "   Fatality Rate  \n",
       "0           2.64  \n",
       "1           0.83  \n",
       "2           1.45  \n",
       "3           1.57  \n",
       "4           1.46  "
      ]
     },
     "execution_count": 13,
     "metadata": {},
     "output_type": "execute_result"
    }
   ],
   "source": [
    "#hide\n",
    "df_table.head()"
   ]
  },
  {
   "cell_type": "code",
   "execution_count": 14,
   "metadata": {
    "execution": {
     "iopub.execute_input": "2020-10-06T08:51:33.423544Z",
     "iopub.status.busy": "2020-10-06T08:51:33.422926Z",
     "iopub.status.idle": "2020-10-06T08:51:33.440775Z",
     "shell.execute_reply": "2020-10-06T08:51:33.440187Z"
    },
    "papermill": {
     "duration": 0.040941,
     "end_time": "2020-10-06T08:51:33.440917",
     "exception": false,
     "start_time": "2020-10-06T08:51:33.399976",
     "status": "completed"
    },
    "tags": []
   },
   "outputs": [
    {
     "data": {
      "text/plain": [
       "{'updated': '2020-10-06',\n",
       " 'since': '2020-10-05',\n",
       " 'Cases': 6687247,\n",
       " 'PCases': 6682308,\n",
       " 'Deaths': 103629,\n",
       " 'PDeaths': 103601,\n",
       " 'Cases (+)': 4939,\n",
       " 'Deaths (+)': 28}"
      ]
     },
     "execution_count": 14,
     "metadata": {},
     "output_type": "execute_result"
    }
   ],
   "source": [
    "#hide\n",
    "summary = {'updated':dates[-1], 'since':dates[-2]}\n",
    "list_names = ['Cases', 'PCases', 'Deaths', 'PDeaths', 'Cases (+)', 'Deaths (+)']\n",
    "for name in list_names:\n",
    "    summary[name] = df_table.sum()[name]\n",
    "summary"
   ]
  },
  {
   "cell_type": "code",
   "execution_count": 15,
   "metadata": {
    "execution": {
     "iopub.execute_input": "2020-10-06T08:51:33.479793Z",
     "iopub.status.busy": "2020-10-06T08:51:33.479180Z",
     "iopub.status.idle": "2020-10-06T08:51:33.480944Z",
     "shell.execute_reply": "2020-10-06T08:51:33.481445Z"
    },
    "papermill": {
     "duration": 0.02312,
     "end_time": "2020-10-06T08:51:33.481579",
     "exception": false,
     "start_time": "2020-10-06T08:51:33.458459",
     "status": "completed"
    },
    "tags": []
   },
   "outputs": [],
   "source": [
    "#hide\n",
    "overview = '''\n",
    "<!-- #######  HTML!! #########-->\n",
    "<h1 style=\"color: #5e9ca0; text-align: center;\">India</h1>\n",
    "<p style=\"text-align: center;\">Last update: <strong>{update}</strong></p>\n",
    "<p style=\"text-align: center;\">Confirmed cases:</p>\n",
    "<p style=\"text-align: center;font-size:24px;\">{cases} (<span style=\"color: #ff0000;\">+{new}</span>)</p>\n",
    "<p style=\"text-align: center;\">Confirmed deaths:</p>\n",
    "<p style=\"text-align: center;font-size:24px;\">{deaths} (<span style=\"color: #ff0000;\">+{dnew}</span>)</p>\n",
    "'''"
   ]
  },
  {
   "cell_type": "code",
   "execution_count": 16,
   "metadata": {
    "execution": {
     "iopub.execute_input": "2020-10-06T08:51:33.520214Z",
     "iopub.status.busy": "2020-10-06T08:51:33.519626Z",
     "iopub.status.idle": "2020-10-06T08:51:33.523235Z",
     "shell.execute_reply": "2020-10-06T08:51:33.523832Z"
    },
    "papermill": {
     "duration": 0.026141,
     "end_time": "2020-10-06T08:51:33.523970",
     "exception": false,
     "start_time": "2020-10-06T08:51:33.497829",
     "status": "completed"
    },
    "tags": []
   },
   "outputs": [
    {
     "data": {
      "text/html": [
       "\n",
       "<!-- #######  HTML!! #########-->\n",
       "<h1 style=\"color: #5e9ca0; text-align: center;\">India</h1>\n",
       "<p style=\"text-align: center;\">Last update: <strong>2020-10-06</strong></p>\n",
       "<p style=\"text-align: center;\">Confirmed cases:</p>\n",
       "<p style=\"text-align: center;font-size:24px;\">6687247 (<span style=\"color: #ff0000;\">+4939</span>)</p>\n",
       "<p style=\"text-align: center;\">Confirmed deaths:</p>\n",
       "<p style=\"text-align: center;font-size:24px;\">103629 (<span style=\"color: #ff0000;\">+28</span>)</p>\n"
      ],
      "text/plain": [
       "<IPython.core.display.HTML object>"
      ]
     },
     "metadata": {},
     "output_type": "display_data"
    }
   ],
   "source": [
    "#hide_input\n",
    "update = summary['updated']\n",
    "cases = summary['Cases']\n",
    "new = summary['Cases (+)']\n",
    "deaths = summary['Deaths']\n",
    "dnew = summary['Deaths (+)']\n",
    "\n",
    "html = HTML(overview.format(update=update, cases=cases,new=new,deaths=deaths,dnew=dnew))\n",
    "\n",
    "display(html)"
   ]
  },
  {
   "cell_type": "code",
   "execution_count": 17,
   "metadata": {
    "execution": {
     "iopub.execute_input": "2020-10-06T08:51:33.568041Z",
     "iopub.status.busy": "2020-10-06T08:51:33.567446Z",
     "iopub.status.idle": "2020-10-06T08:51:33.574278Z",
     "shell.execute_reply": "2020-10-06T08:51:33.574777Z"
    },
    "papermill": {
     "duration": 0.034173,
     "end_time": "2020-10-06T08:51:33.574925",
     "exception": false,
     "start_time": "2020-10-06T08:51:33.540752",
     "status": "completed"
    },
    "tags": []
   },
   "outputs": [],
   "source": [
    "#hide\n",
    "dt_cols = list(dft_cases.columns[1:])\n",
    "dft_ct_new_cases = dft_cases.groupby('state')[dt_cols].sum().diff(axis=1).fillna(0).astype(int)\n",
    "dft_ct_new_cases.sort_values(by = dates[-1], ascending = False,inplace = True)"
   ]
  },
  {
   "cell_type": "code",
   "execution_count": 18,
   "metadata": {
    "execution": {
     "iopub.execute_input": "2020-10-06T08:51:33.628891Z",
     "iopub.status.busy": "2020-10-06T08:51:33.628286Z",
     "iopub.status.idle": "2020-10-06T08:51:33.630666Z",
     "shell.execute_reply": "2020-10-06T08:51:33.631125Z"
    },
    "papermill": {
     "duration": 0.038834,
     "end_time": "2020-10-06T08:51:33.631264",
     "exception": false,
     "start_time": "2020-10-06T08:51:33.592430",
     "status": "completed"
    },
    "tags": []
   },
   "outputs": [
    {
     "data": {
      "text/html": [
       "<div>\n",
       "<style scoped>\n",
       "    .dataframe tbody tr th:only-of-type {\n",
       "        vertical-align: middle;\n",
       "    }\n",
       "\n",
       "    .dataframe tbody tr th {\n",
       "        vertical-align: top;\n",
       "    }\n",
       "\n",
       "    .dataframe thead th {\n",
       "        text-align: right;\n",
       "    }\n",
       "</style>\n",
       "<table border=\"1\" class=\"dataframe\">\n",
       "  <thead>\n",
       "    <tr style=\"text-align: right;\">\n",
       "      <th>states</th>\n",
       "      <th>2020-07-01</th>\n",
       "      <th>2020-07-02</th>\n",
       "      <th>2020-07-03</th>\n",
       "      <th>2020-07-04</th>\n",
       "      <th>2020-07-05</th>\n",
       "      <th>2020-07-06</th>\n",
       "      <th>2020-07-07</th>\n",
       "      <th>2020-07-08</th>\n",
       "      <th>2020-07-09</th>\n",
       "      <th>2020-07-10</th>\n",
       "      <th>...</th>\n",
       "      <th>2020-09-27</th>\n",
       "      <th>2020-09-28</th>\n",
       "      <th>2020-09-29</th>\n",
       "      <th>2020-09-30</th>\n",
       "      <th>2020-10-01</th>\n",
       "      <th>2020-10-02</th>\n",
       "      <th>2020-10-03</th>\n",
       "      <th>2020-10-04</th>\n",
       "      <th>2020-10-05</th>\n",
       "      <th>2020-10-06</th>\n",
       "    </tr>\n",
       "    <tr>\n",
       "      <th>state</th>\n",
       "      <th></th>\n",
       "      <th></th>\n",
       "      <th></th>\n",
       "      <th></th>\n",
       "      <th></th>\n",
       "      <th></th>\n",
       "      <th></th>\n",
       "      <th></th>\n",
       "      <th></th>\n",
       "      <th></th>\n",
       "      <th></th>\n",
       "      <th></th>\n",
       "      <th></th>\n",
       "      <th></th>\n",
       "      <th></th>\n",
       "      <th></th>\n",
       "      <th></th>\n",
       "      <th></th>\n",
       "      <th></th>\n",
       "      <th></th>\n",
       "      <th></th>\n",
       "    </tr>\n",
       "  </thead>\n",
       "  <tbody>\n",
       "    <tr>\n",
       "      <th>Odisha</th>\n",
       "      <td>0</td>\n",
       "      <td>229</td>\n",
       "      <td>561</td>\n",
       "      <td>495</td>\n",
       "      <td>469</td>\n",
       "      <td>456</td>\n",
       "      <td>571</td>\n",
       "      <td>527</td>\n",
       "      <td>577</td>\n",
       "      <td>755</td>\n",
       "      <td>...</td>\n",
       "      <td>3922</td>\n",
       "      <td>3235</td>\n",
       "      <td>3067</td>\n",
       "      <td>3443</td>\n",
       "      <td>3615</td>\n",
       "      <td>3600</td>\n",
       "      <td>3053</td>\n",
       "      <td>3326</td>\n",
       "      <td>2617</td>\n",
       "      <td>2673</td>\n",
       "    </tr>\n",
       "    <tr>\n",
       "      <th>Telangana</th>\n",
       "      <td>0</td>\n",
       "      <td>1213</td>\n",
       "      <td>1892</td>\n",
       "      <td>1850</td>\n",
       "      <td>1590</td>\n",
       "      <td>1831</td>\n",
       "      <td>1879</td>\n",
       "      <td>1924</td>\n",
       "      <td>1410</td>\n",
       "      <td>1278</td>\n",
       "      <td>...</td>\n",
       "      <td>1967</td>\n",
       "      <td>1378</td>\n",
       "      <td>2072</td>\n",
       "      <td>2103</td>\n",
       "      <td>2214</td>\n",
       "      <td>2009</td>\n",
       "      <td>1718</td>\n",
       "      <td>1949</td>\n",
       "      <td>1335</td>\n",
       "      <td>1983</td>\n",
       "    </tr>\n",
       "    <tr>\n",
       "      <th>Tripura</th>\n",
       "      <td>0</td>\n",
       "      <td>39</td>\n",
       "      <td>93</td>\n",
       "      <td>25</td>\n",
       "      <td>23</td>\n",
       "      <td>111</td>\n",
       "      <td>24</td>\n",
       "      <td>57</td>\n",
       "      <td>16</td>\n",
       "      <td>142</td>\n",
       "      <td>...</td>\n",
       "      <td>320</td>\n",
       "      <td>193</td>\n",
       "      <td>432</td>\n",
       "      <td>381</td>\n",
       "      <td>332</td>\n",
       "      <td>296</td>\n",
       "      <td>190</td>\n",
       "      <td>322</td>\n",
       "      <td>159</td>\n",
       "      <td>275</td>\n",
       "    </tr>\n",
       "    <tr>\n",
       "      <th>Mizoram</th>\n",
       "      <td>0</td>\n",
       "      <td>2</td>\n",
       "      <td>0</td>\n",
       "      <td>2</td>\n",
       "      <td>22</td>\n",
       "      <td>11</td>\n",
       "      <td>1</td>\n",
       "      <td>5</td>\n",
       "      <td>0</td>\n",
       "      <td>23</td>\n",
       "      <td>...</td>\n",
       "      <td>30</td>\n",
       "      <td>43</td>\n",
       "      <td>50</td>\n",
       "      <td>28</td>\n",
       "      <td>32</td>\n",
       "      <td>31</td>\n",
       "      <td>54</td>\n",
       "      <td>17</td>\n",
       "      <td>0</td>\n",
       "      <td>8</td>\n",
       "    </tr>\n",
       "    <tr>\n",
       "      <th>Andaman and Nicobar Islands</th>\n",
       "      <td>0</td>\n",
       "      <td>9</td>\n",
       "      <td>7</td>\n",
       "      <td>3</td>\n",
       "      <td>6</td>\n",
       "      <td>16</td>\n",
       "      <td>6</td>\n",
       "      <td>2</td>\n",
       "      <td>7</td>\n",
       "      <td>0</td>\n",
       "      <td>...</td>\n",
       "      <td>20</td>\n",
       "      <td>9</td>\n",
       "      <td>18</td>\n",
       "      <td>14</td>\n",
       "      <td>13</td>\n",
       "      <td>10</td>\n",
       "      <td>10</td>\n",
       "      <td>16</td>\n",
       "      <td>15</td>\n",
       "      <td>0</td>\n",
       "    </tr>\n",
       "  </tbody>\n",
       "</table>\n",
       "<p>5 rows × 98 columns</p>\n",
       "</div>"
      ],
      "text/plain": [
       "states                       2020-07-01  2020-07-02  2020-07-03  2020-07-04  \\\n",
       "state                                                                         \n",
       "Odisha                                0         229         561         495   \n",
       "Telangana                             0        1213        1892        1850   \n",
       "Tripura                               0          39          93          25   \n",
       "Mizoram                               0           2           0           2   \n",
       "Andaman and Nicobar Islands           0           9           7           3   \n",
       "\n",
       "states                       2020-07-05  2020-07-06  2020-07-07  2020-07-08  \\\n",
       "state                                                                         \n",
       "Odisha                              469         456         571         527   \n",
       "Telangana                          1590        1831        1879        1924   \n",
       "Tripura                              23         111          24          57   \n",
       "Mizoram                              22          11           1           5   \n",
       "Andaman and Nicobar Islands           6          16           6           2   \n",
       "\n",
       "states                       2020-07-09  2020-07-10  ...  2020-09-27  \\\n",
       "state                                                ...               \n",
       "Odisha                              577         755  ...        3922   \n",
       "Telangana                          1410        1278  ...        1967   \n",
       "Tripura                              16         142  ...         320   \n",
       "Mizoram                               0          23  ...          30   \n",
       "Andaman and Nicobar Islands           7           0  ...          20   \n",
       "\n",
       "states                       2020-09-28  2020-09-29  2020-09-30  2020-10-01  \\\n",
       "state                                                                         \n",
       "Odisha                             3235        3067        3443        3615   \n",
       "Telangana                          1378        2072        2103        2214   \n",
       "Tripura                             193         432         381         332   \n",
       "Mizoram                              43          50          28          32   \n",
       "Andaman and Nicobar Islands           9          18          14          13   \n",
       "\n",
       "states                       2020-10-02  2020-10-03  2020-10-04  2020-10-05  \\\n",
       "state                                                                         \n",
       "Odisha                             3600        3053        3326        2617   \n",
       "Telangana                          2009        1718        1949        1335   \n",
       "Tripura                             296         190         322         159   \n",
       "Mizoram                              31          54          17           0   \n",
       "Andaman and Nicobar Islands          10          10          16          15   \n",
       "\n",
       "states                       2020-10-06  \n",
       "state                                    \n",
       "Odisha                             2673  \n",
       "Telangana                          1983  \n",
       "Tripura                             275  \n",
       "Mizoram                               8  \n",
       "Andaman and Nicobar Islands           0  \n",
       "\n",
       "[5 rows x 98 columns]"
      ]
     },
     "execution_count": 18,
     "metadata": {},
     "output_type": "execute_result"
    }
   ],
   "source": [
    "#hide\n",
    "dft_ct_new_cases.head()"
   ]
  },
  {
   "cell_type": "code",
   "execution_count": 19,
   "metadata": {
    "execution": {
     "iopub.execute_input": "2020-10-06T08:51:33.690618Z",
     "iopub.status.busy": "2020-10-06T08:51:33.675129Z",
     "iopub.status.idle": "2020-10-06T08:51:37.463924Z",
     "shell.execute_reply": "2020-10-06T08:51:37.463435Z"
    },
    "papermill": {
     "duration": 3.815303,
     "end_time": "2020-10-06T08:51:37.464059",
     "exception": false,
     "start_time": "2020-10-06T08:51:33.648756",
     "status": "completed"
    },
    "tags": []
   },
   "outputs": [
    {
     "data": {
      "image/png": "[encoded data removed]",
      "text/plain": [
       "<Figure size 1296x2016 with 11 Axes>"
      ]
     },
     "metadata": {
      "needs_background": "light"
     },
     "output_type": "display_data"
    }
   ],
   "source": [
    "#hide_input\n",
    "df = dft_ct_new_cases.copy()\n",
    "df.loc['Total'] = df.sum()\n",
    "n = 5\n",
    "ax = []\n",
    "fig = plt.figure(figsize = (18,28))\n",
    "gs = fig.add_gridspec(n+2, 5)\n",
    "# gs = fig.add_gridspec(2, 3)\n",
    "ax1 = fig.add_subplot(gs[0, :])\n",
    "ef = df.loc['Total'].rename_axis('date').reset_index()\n",
    "ef['date'] = ef['date'].astype('datetime64[ns]')\n",
    "ax1.bar(ef.date,ef.Total,alpha=0.3,color='#007acc')\n",
    "ax1.plot(ef.date,ef.Total , marker=\"o\", color='#007acc')\n",
    "ax1.xaxis.set_major_locator(mdates.WeekdayLocator())\n",
    "ax1.xaxis.set_major_formatter(mdates.DateFormatter('%b %d'))\n",
    "ax1.text(0.02, 0.5,'India daily case count', transform = ax1.transAxes, fontsize=25);\n",
    "ax1.spines['right'].set_visible(False)\n",
    "ax1.spines['top'].set_visible(False)\n",
    "\n",
    "ax2 = fig.add_subplot(gs[1,0])\n",
    "ef = df.loc['Maharashtra'].rename_axis('date').reset_index()\n",
    "ef['date'] = ef['date'].astype('datetime64[ns]')\n",
    "\n",
    "ax2.bar(ef.date, ef.Maharashtra,color = '#007acc',alpha=0.5)\n",
    "ax2.xaxis.set_major_locator(mdates.WeekdayLocator())\n",
    "ax2.xaxis.set_major_formatter(mdates.DateFormatter('%b %d'))\n",
    "ax2.set_xticks(ax2.get_xticks()[::3])\n",
    "maxyval = ef.Maharashtra.max()\n",
    "ax2.set_ylim([0,maxyval])\n",
    "ax2.text(0.05, 0.9,'Maharashtra', transform = ax2.transAxes, fontsize=20);\n",
    "ax2.spines['right'].set_visible(False)\n",
    "ax2.spines['top'].set_visible(False)\n",
    "\n",
    "\n",
    "ax3 = fig.add_subplot(gs[1,1])\n",
    "ef = df.loc['Tamil Nadu'].rename_axis('date').reset_index()\n",
    "ef['date'] = ef['date'].astype('datetime64[ns]')\n",
    "ax3.bar(ef.date, ef['Tamil Nadu'],color = '#007acc',alpha=0.5,)\n",
    "ax3.xaxis.set_major_locator(mdates.WeekdayLocator())\n",
    "ax3.xaxis.set_major_formatter(mdates.DateFormatter('%b %d'))\n",
    "ax3.set_xticks(ax3.get_xticks()[::3])\n",
    "ax3.text(0.05, 0.9,'Tamil Nadu', transform = ax3.transAxes, fontsize=20);\n",
    "ax3.spines['right'].set_visible(False)\n",
    "ax3.spines['top'].set_visible(False)\n",
    "\n",
    "ax5 = fig.add_subplot(gs[1,3])\n",
    "ef = df.loc['Telangana'].rename_axis('date').reset_index()\n",
    "ef['date'] = ef['date'].astype('datetime64[ns]')\n",
    "ax5.bar(ef.date, ef['Telangana'],color = '#007acc',alpha=0.5,)\n",
    "ax5.xaxis.set_major_locator(mdates.WeekdayLocator())\n",
    "ax5.xaxis.set_major_formatter(mdates.DateFormatter('%b %d'))\n",
    "ax5.set_xticks(ax5.get_xticks()[::3])\n",
    "ax5.text(0.05, 0.9,'Telangana', transform = ax5.transAxes, fontsize=20);\n",
    "ax5.spines['right'].set_visible(False)\n",
    "ax5.spines['top'].set_visible(False)\n",
    "\n",
    "ax6 = fig.add_subplot(gs[1,4])\n",
    "ef = df.loc['Andhra Pradesh'].rename_axis('date').reset_index()\n",
    "ef['date'] = ef['date'].astype('datetime64[ns]')\n",
    "ax6.bar(ef.date, ef['Andhra Pradesh'],color = '#007acc',alpha=0.5,)\n",
    "ax6.xaxis.set_major_locator(mdates.WeekdayLocator())\n",
    "ax6.xaxis.set_major_formatter(mdates.DateFormatter('%b %d'))\n",
    "ax6.set_xticks(ax6.get_xticks()[::3])\n",
    "ax6.text(0.05, 1,'Andhra Pradesh', transform = ax6.transAxes, fontsize=20);\n",
    "ax6.spines['right'].set_visible(False)\n",
    "ax6.spines['top'].set_visible(False)\n",
    "\n",
    "ax4 = fig.add_subplot(gs[1,2])\n",
    "ef = df.loc['Delhi'].rename_axis('date').reset_index()\n",
    "ef['date'] = ef['date'].astype('datetime64[ns]')\n",
    "ax4.bar(ef.date, ef.Delhi,color = '#007acc',alpha=0.5)\n",
    "ax4.set_xticks([])\n",
    "ax4.xaxis.set_major_locator(mdates.WeekdayLocator())\n",
    "ax4.xaxis.set_major_formatter(mdates.DateFormatter('%b %d'))\n",
    "ax4.set_xticks(ax4.get_xticks()[::3])\n",
    "ax4.spines['right'].set_visible(False)\n",
    "ax4.spines['top'].set_visible(False)\n",
    "\n",
    "ax4.text(0.05, 1,'Delhi', transform = ax4.transAxes, fontsize=20)\n",
    "\n",
    "for i in range(n):\n",
    "    \n",
    "    ax.append(fig.add_subplot(gs[i+2,:]))\n",
    "    ef = df.iloc[i+3].rename_axis('date').reset_index()\n",
    "    ef['date'] = ef['date'].astype('datetime64[ns]')\n",
    "    ax[i].bar(ef.date,ef.iloc[:,-1],color = '#007acc',alpha=0.3)\n",
    "    ax[i].plot(ef.date,ef.iloc[:,-1],marker='o',color='#007acc')\n",
    "    ax[i].text(0.02,0.5,f'{ef.columns.values[-1]}',transform = ax[i].transAxes, fontsize = 20);\n",
    "    ax[i].xaxis.set_major_locator(mdates.WeekdayLocator())\n",
    "    ax[i].xaxis.set_major_formatter(mdates.DateFormatter('%b %d'))\n",
    "    ax[i].set_ylim([0,7000])\n",
    "    ax[i].spines['right'].set_visible(False)\n",
    "    ax[i].spines['top'].set_visible(False)\n",
    "plt.tight_layout()\n"
   ]
  },
  {
   "cell_type": "code",
   "execution_count": 20,
   "metadata": {
    "execution": {
     "iopub.execute_input": "2020-10-06T08:51:37.520578Z",
     "iopub.status.busy": "2020-10-06T08:51:37.519975Z",
     "iopub.status.idle": "2020-10-06T08:51:37.522055Z",
     "shell.execute_reply": "2020-10-06T08:51:37.522554Z"
    },
    "papermill": {
     "duration": 0.036009,
     "end_time": "2020-10-06T08:51:37.522692",
     "exception": false,
     "start_time": "2020-10-06T08:51:37.486683",
     "status": "completed"
    },
    "tags": []
   },
   "outputs": [
    {
     "name": "stdout",
     "output_type": "stream",
     "text": [
      "                                   states    Cases  Deaths   PCases  PDeaths  Cases (+)  Deaths (+)  Fatality Rate\n",
      "                              Maharashtra  1453653   38347  1453653    38347          0           0           2.64\n",
      "                           Andhra Pradesh   723512    6019   723512     6019          0           0           0.83\n",
      "                                Karnataka   647712    9370   647712     9370          0           0           1.45\n",
      "                               Tamil Nadu   625391    9846   625391     9846          0           0           1.57\n",
      "                            Uttar Pradesh   417437    6092   417437     6092          0           0           1.46\n",
      "                                    Delhi   292560    5542   292560     5542          0           0           1.89\n",
      "                              West Bengal   273679    5255   273679     5255          0           0           1.92\n",
      "                                   Odisha   238003     993   235330      977       2673          16           0.42\n",
      "                                   Kerala   234929     860   234929      860          0           0           0.37\n",
      "                                Telangana   202594    1181   200611     1171       1983          10           0.58\n",
      "                                    Bihar   188858     924   188858      924          0           0           0.49\n",
      "                                    Assam   187718     760   187718      760          0           0           0.40\n",
      "                                Rajasthan   146195    1559   146195     1559          0           0           1.07\n",
      "                                  Gujarat   144026    3512   144026     3512          0           0           2.44\n",
      "                           Madhya Pradesh   137098    2463   137098     2463          0           0           1.80\n",
      "                                  Haryana   134909    1491   134909     1491          0           0           1.11\n",
      "                             Chhattisgarh   126005    1081   126005     1081          0           0           0.86\n",
      "                                   Punjab   119186    3641   119186     3641          0           0           3.05\n",
      "                                Jharkhand    88026     747    88026      747          0           0           0.85\n",
      "                        Jammu and Kashmir    79738    1252    79738     1252          0           0           1.57\n",
      "                              Uttarakhand    51991     669    51991      669          0           0           1.29\n",
      "                                      Goa    35719     460    35719      460          0           0           1.29\n",
      "                               Puducherry    29277     543    29277      543          0           0           1.85\n",
      "                                  Tripura    27305     298    27030      296        275           2           1.09\n",
      "                         Himachal Pradesh    16033     219    16033      219          0           0           1.37\n",
      "                               Chandigarh    12578     177    12578      177          0           0           1.41\n",
      "                                  Manipur    12105      75    12105       75          0           0           0.62\n",
      "                        Arunachal Pradesh    10783      19    10783       19          0           0           0.18\n",
      "                                Meghalaya     6765      59     6765       59          0           0           0.87\n",
      "                                 Nagaland     6594      12     6594       12          0           0           0.18\n",
      "                                   Ladakh     4641      61     4641       61          0           0           1.31\n",
      "              Andaman and Nicobar Islands     3899      54     3899       54          0           0           1.38\n",
      "                                   Sikkim     3110      46     3110       46          0           0           1.48\n",
      " Dadra and Nagar Haveli and Daman and Diu     3090       2     3090        2          0           0           0.06\n",
      "                                  Mizoram     2128       0     2120        0          8           0           0.00\n",
      "                              Lakshadweep        0       0        0        0          0           0            NaN\n"
     ]
    }
   ],
   "source": [
    "#hide_input\n",
    "print(df_table.to_string(index=False))"
   ]
  },
  {
   "cell_type": "code",
   "execution_count": null,
   "metadata": {
    "papermill": {
     "duration": 0.022163,
     "end_time": "2020-10-06T08:51:37.567202",
     "exception": false,
     "start_time": "2020-10-06T08:51:37.545039",
     "status": "completed"
    },
    "tags": []
   },
   "outputs": [],
   "source": []
  },
  {
   "cell_type": "code",
   "execution_count": null,
   "metadata": {
    "papermill": {
     "duration": 0.022714,
     "end_time": "2020-10-06T08:51:37.612475",
     "exception": false,
     "start_time": "2020-10-06T08:51:37.589761",
     "status": "completed"
    },
    "tags": []
   },
   "outputs": [],
   "source": []
  }
 ],
 "metadata": {
  "kernelspec": {
   "display_name": "Python 3",
   "language": "python",
   "name": "python3"
  },
  "language_info": {
   "codemirror_mode": {
    "name": "ipython",
    "version": 3
   },
   "file_extension": ".py",
   "mimetype": "text/x-python",
   "name": "python",
   "nbconvert_exporter": "python",
   "pygments_lexer": "ipython3",
   "version": "3.6.12"
  },
  "papermill": {
   "duration": 10.767,
   "end_time": "2020-10-06T08:51:38.043180",
   "environment_variables": {},
   "exception": null,
   "input_path": "latest.ipynb",
   "output_path": "latest.ipynb",
   "parameters": {},
   "start_time": "2020-10-06T08:51:27.276180",
   "version": "2.1.2"
  }
 },
 "nbformat": 4,
 "nbformat_minor": 4
}