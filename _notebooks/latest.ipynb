{
 "cells": [
  {
   "cell_type": "markdown",
   "metadata": {
    "papermill": {
     "duration": 0.017454,
     "end_time": "2020-08-09T15:16:46.470269",
     "exception": false,
     "start_time": "2020-08-09T15:16:46.452815",
     "status": "completed"
    },
    "tags": []
   },
   "source": [
    "# Latest COVID-19 India Matplotlib Overview"
   ]
  },
  {
   "cell_type": "code",
   "execution_count": 1,
   "metadata": {
    "execution": {
     "iopub.execute_input": "2020-08-09T15:16:46.503576Z",
     "iopub.status.busy": "2020-08-09T15:16:46.503046Z",
     "iopub.status.idle": "2020-08-09T15:16:46.998853Z",
     "shell.execute_reply": "2020-08-09T15:16:46.997902Z"
    },
    "papermill": {
     "duration": 0.514917,
     "end_time": "2020-08-09T15:16:46.999009",
     "exception": false,
     "start_time": "2020-08-09T15:16:46.484092",
     "status": "completed"
    },
    "tags": []
   },
   "outputs": [],
   "source": [
    "#hide\n",
    "import pandas as pd\n",
    "import numpy as np\n",
    "import requests\n",
    "import json\n",
    "import matplotlib.pyplot as plt\n",
    "import matplotlib.dates as mdates\n",
    "import matplotlib as mpl\n",
    "from IPython.core.display import display,HTML\n",
    "%matplotlib inline\n",
    "from datetime import date"
   ]
  },
  {
   "cell_type": "code",
   "execution_count": 2,
   "metadata": {
    "execution": {
     "iopub.execute_input": "2020-08-09T15:16:47.032029Z",
     "iopub.status.busy": "2020-08-09T15:16:47.031106Z",
     "iopub.status.idle": "2020-08-09T15:16:47.317275Z",
     "shell.execute_reply": "2020-08-09T15:16:47.316742Z"
    },
    "papermill": {
     "duration": 0.304881,
     "end_time": "2020-08-09T15:16:47.317409",
     "exception": false,
     "start_time": "2020-08-09T15:16:47.012528",
     "status": "completed"
    },
    "tags": []
   },
   "outputs": [],
   "source": [
    "#hide\n",
    "df  = pd.read_csv('https://api.covid19india.org/csv/latest/states.csv')\n",
    "df = df[['Date','State','Confirmed','Deceased']]\n",
    "df = df.rename(columns={'Confirmed':'Cases', \"Deceased\":'Deaths'})\n",
    "df_cases = df[[\"Date\",'State','Cases']]\n",
    "df_deaths = df[['Date','State','Deaths']]\n",
    "df_cases1 = df_cases.groupby('Date')\n",
    "df_deaths1= df_deaths.groupby('Date')"
   ]
  },
  {
   "cell_type": "code",
   "execution_count": 3,
   "metadata": {
    "execution": {
     "iopub.execute_input": "2020-08-09T15:16:47.348580Z",
     "iopub.status.busy": "2020-08-09T15:16:47.348088Z",
     "iopub.status.idle": "2020-08-09T15:16:47.363876Z",
     "shell.execute_reply": "2020-08-09T15:16:47.363474Z"
    },
    "papermill": {
     "duration": 0.03273,
     "end_time": "2020-08-09T15:16:47.363985",
     "exception": false,
     "start_time": "2020-08-09T15:16:47.331255",
     "status": "completed"
    },
    "tags": []
   },
   "outputs": [],
   "source": [
    "#hide\n",
    "df_snap = pd.read_csv('data/SnapshotCases-28-July.csv')\n",
    "arr_states = df_snap['states'].unique()\n",
    "arr_dates = df['Date'].unique()\n",
    "df_snap = df_snap.set_index('states')"
   ]
  },
  {
   "cell_type": "code",
   "execution_count": 4,
   "metadata": {
    "execution": {
     "iopub.execute_input": "2020-08-09T15:16:47.395830Z",
     "iopub.status.busy": "2020-08-09T15:16:47.395334Z",
     "iopub.status.idle": "2020-08-09T15:16:47.397984Z",
     "shell.execute_reply": "2020-08-09T15:16:47.397564Z"
    },
    "papermill": {
     "duration": 0.02099,
     "end_time": "2020-08-09T15:16:47.398083",
     "exception": false,
     "start_time": "2020-08-09T15:16:47.377093",
     "status": "completed"
    },
    "tags": []
   },
   "outputs": [
    {
     "data": {
      "text/plain": [
       "array(['Andaman and Nicobar Islands', 'Andhra Pradesh',\n",
       "       'Arunachal Pradesh', 'Assam', 'Bihar', 'Chandigarh',\n",
       "       'Dadra and Nagar Haveli and Daman and Diu', 'Delhi', 'Goa',\n",
       "       'Gujarat', 'Haryana', 'Himachal Pradesh', 'Jammu and Kashmir',\n",
       "       'Jharkhand', 'Karnataka', 'Kerala', 'Lakshadweep',\n",
       "       'Madhya Pradesh', 'Maharashtra', 'Manipur', 'Meghalaya', 'Mizoram',\n",
       "       'Nagaland', 'Odisha', 'Puducherry', 'Punjab', 'Rajasthan',\n",
       "       'Sikkim', 'Tamil Nadu', 'Telangana', 'Tripura', 'Uttar Pradesh',\n",
       "       'West Bengal', 'Chhattisgarh', 'Ladakh', 'Uttarakhand'],\n",
       "      dtype=object)"
      ]
     },
     "execution_count": 4,
     "metadata": {},
     "output_type": "execute_result"
    }
   ],
   "source": [
    "#hide\n",
    "arr_states[-9] = 'Puducherry'\n",
    "arr_states[-10] = 'Odisha'\n",
    "arr_states[6] = 'Dadra and Nagar Haveli and Daman and Diu'\n",
    "arr_states = np.append(arr_states,np.array(['Chhattisgarh','Ladakh','Uttarakhand']))\n",
    "arr_states"
   ]
  },
  {
   "cell_type": "code",
   "execution_count": 5,
   "metadata": {
    "execution": {
     "iopub.execute_input": "2020-08-09T15:16:47.433182Z",
     "iopub.status.busy": "2020-08-09T15:16:47.432687Z",
     "iopub.status.idle": "2020-08-09T15:16:47.438773Z",
     "shell.execute_reply": "2020-08-09T15:16:47.439198Z"
    },
    "papermill": {
     "duration": 0.027843,
     "end_time": "2020-08-09T15:16:47.439308",
     "exception": false,
     "start_time": "2020-08-09T15:16:47.411465",
     "status": "completed"
    },
    "tags": []
   },
   "outputs": [],
   "source": [
    "#hide\n",
    "dates = []\n",
    "for i in arr_dates:\n",
    "    if i>='2020-07-01':\n",
    "        dates.append(i)\n",
    "dict = {'states':dates}\n",
    "for i in arr_states:\n",
    "    dict[i] = [0]*len(dates)\n",
    "dft_cases = pd.DataFrame(dict)\n",
    "dft_deaths = pd.DataFrame(dict)\n"
   ]
  },
  {
   "cell_type": "code",
   "execution_count": 6,
   "metadata": {
    "execution": {
     "iopub.execute_input": "2020-08-09T15:16:47.479239Z",
     "iopub.status.busy": "2020-08-09T15:16:47.478314Z",
     "iopub.status.idle": "2020-08-09T15:16:47.954898Z",
     "shell.execute_reply": "2020-08-09T15:16:47.954391Z"
    },
    "papermill": {
     "duration": 0.502093,
     "end_time": "2020-08-09T15:16:47.955040",
     "exception": false,
     "start_time": "2020-08-09T15:16:47.452947",
     "status": "completed"
    },
    "tags": []
   },
   "outputs": [],
   "source": [
    "#hide\n",
    "for i in range(len(dates)):\n",
    "    df1_deaths = df_deaths1.get_group(dates[i])\n",
    "    for j in range(len(df1_deaths.index)):\n",
    "        if df1_deaths.iloc[j,1] in arr_states:\n",
    "            dft_deaths.loc[i,df1_deaths.iloc[j,1]] = df1_deaths.iloc[j,2]\n",
    "dft_deaths = dft_deaths.set_index('states')"
   ]
  },
  {
   "cell_type": "code",
   "execution_count": 7,
   "metadata": {
    "execution": {
     "iopub.execute_input": "2020-08-09T15:16:48.003346Z",
     "iopub.status.busy": "2020-08-09T15:16:48.002187Z",
     "iopub.status.idle": "2020-08-09T15:16:48.482177Z",
     "shell.execute_reply": "2020-08-09T15:16:48.481703Z"
    },
    "papermill": {
     "duration": 0.51291,
     "end_time": "2020-08-09T15:16:48.482322",
     "exception": false,
     "start_time": "2020-08-09T15:16:47.969412",
     "status": "completed"
    },
    "tags": []
   },
   "outputs": [],
   "source": [
    "#hide\n",
    "for i in range(len(dates)):\n",
    "    df1_cases = df_cases1.get_group(dates[i])\n",
    "    for j in range(len(df1_cases.index)):\n",
    "        if df1_cases.iloc[j,1] in arr_states:\n",
    "            dft_cases.loc[i,df1_cases.iloc[j,1]] = df1_cases.iloc[j,2]\n",
    "dft_cases = dft_cases.set_index('states')"
   ]
  },
  {
   "cell_type": "code",
   "execution_count": 8,
   "metadata": {
    "execution": {
     "iopub.execute_input": "2020-08-09T15:16:48.821689Z",
     "iopub.status.busy": "2020-08-09T15:16:48.821172Z",
     "iopub.status.idle": "2020-08-09T15:16:48.825259Z",
     "shell.execute_reply": "2020-08-09T15:16:48.824792Z"
    },
    "papermill": {
     "duration": 0.329181,
     "end_time": "2020-08-09T15:16:48.825371",
     "exception": false,
     "start_time": "2020-08-09T15:16:48.496190",
     "status": "completed"
    },
    "tags": []
   },
   "outputs": [],
   "source": [
    "#hide\n",
    "dft_cases = dft_cases.T\n",
    "dft_deaths = dft_deaths.T\n",
    "dt_today = dates[-1]\n",
    "dt_yday = dates[-2]"
   ]
  },
  {
   "cell_type": "code",
   "execution_count": 9,
   "metadata": {
    "execution": {
     "iopub.execute_input": "2020-08-09T15:16:48.976375Z",
     "iopub.status.busy": "2020-08-09T15:16:48.975878Z",
     "iopub.status.idle": "2020-08-09T15:16:48.979889Z",
     "shell.execute_reply": "2020-08-09T15:16:48.979404Z"
    },
    "papermill": {
     "duration": 0.023762,
     "end_time": "2020-08-09T15:16:48.980002",
     "exception": false,
     "start_time": "2020-08-09T15:16:48.956240",
     "status": "completed"
    },
    "tags": []
   },
   "outputs": [],
   "source": [
    "#hide\n",
    "dft_cases = dft_cases.reset_index()\n",
    "dft_deaths = dft_deaths.reset_index()\n",
    "dft_cases = dft_cases.rename(columns = {'index':'state'})\n",
    "dft_deaths = dft_deaths.rename(columns = {'index':'state'})"
   ]
  },
  {
   "cell_type": "code",
   "execution_count": 10,
   "metadata": {
    "execution": {
     "iopub.execute_input": "2020-08-09T15:16:49.023677Z",
     "iopub.status.busy": "2020-08-09T15:16:49.020310Z",
     "iopub.status.idle": "2020-08-09T15:16:49.025245Z",
     "shell.execute_reply": "2020-08-09T15:16:49.025647Z"
    },
    "papermill": {
     "duration": 0.025142,
     "end_time": "2020-08-09T15:16:49.025760",
     "exception": false,
     "start_time": "2020-08-09T15:16:49.000618",
     "status": "completed"
    },
    "tags": []
   },
   "outputs": [],
   "source": [
    "#hide\n",
    "dfc_cases = dft_cases.groupby('state')[dt_today].sum()\n",
    "dfc_deaths = dft_deaths.groupby('state')[dt_today].sum()\n",
    "dfp_cases = dft_cases.groupby('state')[dt_yday].sum()\n",
    "dfp_deaths = dft_deaths.groupby('state')[dt_yday].sum()"
   ]
  },
  {
   "cell_type": "code",
   "execution_count": 11,
   "metadata": {
    "execution": {
     "iopub.execute_input": "2020-08-09T15:16:49.064651Z",
     "iopub.status.busy": "2020-08-09T15:16:49.061233Z",
     "iopub.status.idle": "2020-08-09T15:16:49.069877Z",
     "shell.execute_reply": "2020-08-09T15:16:49.070275Z"
    },
    "papermill": {
     "duration": 0.031272,
     "end_time": "2020-08-09T15:16:49.070391",
     "exception": false,
     "start_time": "2020-08-09T15:16:49.039119",
     "status": "completed"
    },
    "tags": []
   },
   "outputs": [
    {
     "data": {
      "text/html": [
       "<div>\n",
       "<style scoped>\n",
       "    .dataframe tbody tr th:only-of-type {\n",
       "        vertical-align: middle;\n",
       "    }\n",
       "\n",
       "    .dataframe tbody tr th {\n",
       "        vertical-align: top;\n",
       "    }\n",
       "\n",
       "    .dataframe thead th {\n",
       "        text-align: right;\n",
       "    }\n",
       "</style>\n",
       "<table border=\"1\" class=\"dataframe\">\n",
       "  <thead>\n",
       "    <tr style=\"text-align: right;\">\n",
       "      <th></th>\n",
       "      <th>states</th>\n",
       "      <th>Cases</th>\n",
       "      <th>Deaths</th>\n",
       "      <th>PCases</th>\n",
       "      <th>PDeaths</th>\n",
       "    </tr>\n",
       "  </thead>\n",
       "  <tbody>\n",
       "    <tr>\n",
       "      <th>0</th>\n",
       "      <td>Maharashtra</td>\n",
       "      <td>503084</td>\n",
       "      <td>17367</td>\n",
       "      <td>503084</td>\n",
       "      <td>17367</td>\n",
       "    </tr>\n",
       "    <tr>\n",
       "      <th>1</th>\n",
       "      <td>Tamil Nadu</td>\n",
       "      <td>296901</td>\n",
       "      <td>4927</td>\n",
       "      <td>290907</td>\n",
       "      <td>4808</td>\n",
       "    </tr>\n",
       "    <tr>\n",
       "      <th>2</th>\n",
       "      <td>Andhra Pradesh</td>\n",
       "      <td>227860</td>\n",
       "      <td>2036</td>\n",
       "      <td>217040</td>\n",
       "      <td>1939</td>\n",
       "    </tr>\n",
       "    <tr>\n",
       "      <th>3</th>\n",
       "      <td>Karnataka</td>\n",
       "      <td>178087</td>\n",
       "      <td>3198</td>\n",
       "      <td>172102</td>\n",
       "      <td>3091</td>\n",
       "    </tr>\n",
       "    <tr>\n",
       "      <th>4</th>\n",
       "      <td>Delhi</td>\n",
       "      <td>145427</td>\n",
       "      <td>4111</td>\n",
       "      <td>144127</td>\n",
       "      <td>4098</td>\n",
       "    </tr>\n",
       "  </tbody>\n",
       "</table>\n",
       "</div>"
      ],
      "text/plain": [
       "           states   Cases  Deaths  PCases  PDeaths\n",
       "0     Maharashtra  503084   17367  503084    17367\n",
       "1      Tamil Nadu  296901    4927  290907     4808\n",
       "2  Andhra Pradesh  227860    2036  217040     1939\n",
       "3       Karnataka  178087    3198  172102     3091\n",
       "4           Delhi  145427    4111  144127     4098"
      ]
     },
     "execution_count": 11,
     "metadata": {},
     "output_type": "execute_result"
    }
   ],
   "source": [
    "#hide\n",
    "df_table = pd.DataFrame({'states': dfc_cases.index, 'Cases': dfc_cases.values, 'Deaths': dfc_deaths.values, 'PCases': dfp_cases.values, 'PDeaths': dfp_deaths.values}).set_index('states')\n",
    "df_table = df_table.sort_values(by = ['Cases','Deaths'], ascending = [False, False])\n",
    "df_table = df_table.reset_index()\n",
    "df_table.head()"
   ]
  },
  {
   "cell_type": "code",
   "execution_count": 12,
   "metadata": {
    "execution": {
     "iopub.execute_input": "2020-08-09T15:16:49.102234Z",
     "iopub.status.busy": "2020-08-09T15:16:49.101747Z",
     "iopub.status.idle": "2020-08-09T15:16:49.108655Z",
     "shell.execute_reply": "2020-08-09T15:16:49.109032Z"
    },
    "papermill": {
     "duration": 0.024901,
     "end_time": "2020-08-09T15:16:49.109145",
     "exception": false,
     "start_time": "2020-08-09T15:16:49.084244",
     "status": "completed"
    },
    "tags": []
   },
   "outputs": [],
   "source": [
    "#hide\n",
    "for c in 'Cases, Deaths'.split(', '):\n",
    "    df_table[f'{c} (+)'] = (df_table[c] - df_table[f'P{c}']).clip(0)\n",
    "df_table['Fatality Rate'] = (100* df_table['Deaths']/ df_table['Cases']).round(2)"
   ]
  },
  {
   "cell_type": "code",
   "execution_count": 13,
   "metadata": {
    "execution": {
     "iopub.execute_input": "2020-08-09T15:16:49.145333Z",
     "iopub.status.busy": "2020-08-09T15:16:49.144839Z",
     "iopub.status.idle": "2020-08-09T15:16:49.147149Z",
     "shell.execute_reply": "2020-08-09T15:16:49.147527Z"
    },
    "papermill": {
     "duration": 0.024827,
     "end_time": "2020-08-09T15:16:49.147639",
     "exception": false,
     "start_time": "2020-08-09T15:16:49.122812",
     "status": "completed"
    },
    "tags": []
   },
   "outputs": [
    {
     "data": {
      "text/html": [
       "<div>\n",
       "<style scoped>\n",
       "    .dataframe tbody tr th:only-of-type {\n",
       "        vertical-align: middle;\n",
       "    }\n",
       "\n",
       "    .dataframe tbody tr th {\n",
       "        vertical-align: top;\n",
       "    }\n",
       "\n",
       "    .dataframe thead th {\n",
       "        text-align: right;\n",
       "    }\n",
       "</style>\n",
       "<table border=\"1\" class=\"dataframe\">\n",
       "  <thead>\n",
       "    <tr style=\"text-align: right;\">\n",
       "      <th></th>\n",
       "      <th>states</th>\n",
       "      <th>Cases</th>\n",
       "      <th>Deaths</th>\n",
       "      <th>PCases</th>\n",
       "      <th>PDeaths</th>\n",
       "      <th>Cases (+)</th>\n",
       "      <th>Deaths (+)</th>\n",
       "      <th>Fatality Rate</th>\n",
       "    </tr>\n",
       "  </thead>\n",
       "  <tbody>\n",
       "    <tr>\n",
       "      <th>0</th>\n",
       "      <td>Maharashtra</td>\n",
       "      <td>503084</td>\n",
       "      <td>17367</td>\n",
       "      <td>503084</td>\n",
       "      <td>17367</td>\n",
       "      <td>0</td>\n",
       "      <td>0</td>\n",
       "      <td>3.45</td>\n",
       "    </tr>\n",
       "    <tr>\n",
       "      <th>1</th>\n",
       "      <td>Tamil Nadu</td>\n",
       "      <td>296901</td>\n",
       "      <td>4927</td>\n",
       "      <td>290907</td>\n",
       "      <td>4808</td>\n",
       "      <td>5994</td>\n",
       "      <td>119</td>\n",
       "      <td>1.66</td>\n",
       "    </tr>\n",
       "    <tr>\n",
       "      <th>2</th>\n",
       "      <td>Andhra Pradesh</td>\n",
       "      <td>227860</td>\n",
       "      <td>2036</td>\n",
       "      <td>217040</td>\n",
       "      <td>1939</td>\n",
       "      <td>10820</td>\n",
       "      <td>97</td>\n",
       "      <td>0.89</td>\n",
       "    </tr>\n",
       "    <tr>\n",
       "      <th>3</th>\n",
       "      <td>Karnataka</td>\n",
       "      <td>178087</td>\n",
       "      <td>3198</td>\n",
       "      <td>172102</td>\n",
       "      <td>3091</td>\n",
       "      <td>5985</td>\n",
       "      <td>107</td>\n",
       "      <td>1.80</td>\n",
       "    </tr>\n",
       "    <tr>\n",
       "      <th>4</th>\n",
       "      <td>Delhi</td>\n",
       "      <td>145427</td>\n",
       "      <td>4111</td>\n",
       "      <td>144127</td>\n",
       "      <td>4098</td>\n",
       "      <td>1300</td>\n",
       "      <td>13</td>\n",
       "      <td>2.83</td>\n",
       "    </tr>\n",
       "  </tbody>\n",
       "</table>\n",
       "</div>"
      ],
      "text/plain": [
       "           states   Cases  Deaths  PCases  PDeaths  Cases (+)  Deaths (+)  \\\n",
       "0     Maharashtra  503084   17367  503084    17367          0           0   \n",
       "1      Tamil Nadu  296901    4927  290907     4808       5994         119   \n",
       "2  Andhra Pradesh  227860    2036  217040     1939      10820          97   \n",
       "3       Karnataka  178087    3198  172102     3091       5985         107   \n",
       "4           Delhi  145427    4111  144127     4098       1300          13   \n",
       "\n",
       "   Fatality Rate  \n",
       "0           3.45  \n",
       "1           1.66  \n",
       "2           0.89  \n",
       "3           1.80  \n",
       "4           2.83  "
      ]
     },
     "execution_count": 13,
     "metadata": {},
     "output_type": "execute_result"
    }
   ],
   "source": [
    "#hide\n",
    "df_table.head()"
   ]
  },
  {
   "cell_type": "code",
   "execution_count": 14,
   "metadata": {
    "execution": {
     "iopub.execute_input": "2020-08-09T15:16:49.180329Z",
     "iopub.status.busy": "2020-08-09T15:16:49.179837Z",
     "iopub.status.idle": "2020-08-09T15:16:49.193150Z",
     "shell.execute_reply": "2020-08-09T15:16:49.193528Z"
    },
    "papermill": {
     "duration": 0.031854,
     "end_time": "2020-08-09T15:16:49.193638",
     "exception": false,
     "start_time": "2020-08-09T15:16:49.161784",
     "status": "completed"
    },
    "tags": []
   },
   "outputs": [
    {
     "data": {
      "text/plain": [
       "{'updated': '2020-08-09',\n",
       " 'since': '2020-08-08',\n",
       " 'Cases': 2199101,\n",
       " 'PCases': 2152020,\n",
       " 'Deaths': 44051,\n",
       " 'PDeaths': 43453,\n",
       " 'Cases (+)': 47081,\n",
       " 'Deaths (+)': 598}"
      ]
     },
     "execution_count": 14,
     "metadata": {},
     "output_type": "execute_result"
    }
   ],
   "source": [
    "#hide\n",
    "summary = {'updated':dates[-1], 'since':dates[-2]}\n",
    "list_names = ['Cases', 'PCases', 'Deaths', 'PDeaths', 'Cases (+)', 'Deaths (+)']\n",
    "for name in list_names:\n",
    "    summary[name] = df_table.sum()[name]\n",
    "summary"
   ]
  },
  {
   "cell_type": "code",
   "execution_count": 15,
   "metadata": {
    "execution": {
     "iopub.execute_input": "2020-08-09T15:16:49.225877Z",
     "iopub.status.busy": "2020-08-09T15:16:49.225380Z",
     "iopub.status.idle": "2020-08-09T15:16:49.227409Z",
     "shell.execute_reply": "2020-08-09T15:16:49.227833Z"
    },
    "papermill": {
     "duration": 0.019822,
     "end_time": "2020-08-09T15:16:49.227940",
     "exception": false,
     "start_time": "2020-08-09T15:16:49.208118",
     "status": "completed"
    },
    "tags": []
   },
   "outputs": [],
   "source": [
    "#hide\n",
    "overview = '''\n",
    "<!-- #######  HTML!! #########-->\n",
    "<h1 style=\"color: #5e9ca0; text-align: center;\">India</h1>\n",
    "<p style=\"text-align: center;\">Last update: <strong>{update}</strong></p>\n",
    "<p style=\"text-align: center;\">Confirmed cases:</p>\n",
    "<p style=\"text-align: center;font-size:24px;\">{cases} (<span style=\"color: #ff0000;\">+{new}</span>)</p>\n",
    "<p style=\"text-align: center;\">Confirmed deaths:</p>\n",
    "<p style=\"text-align: center;font-size:24px;\">{deaths} (<span style=\"color: #ff0000;\">+{dnew}</span>)</p>\n",
    "'''"
   ]
  },
  {
   "cell_type": "code",
   "execution_count": 16,
   "metadata": {
    "execution": {
     "iopub.execute_input": "2020-08-09T15:16:49.261454Z",
     "iopub.status.busy": "2020-08-09T15:16:49.260960Z",
     "iopub.status.idle": "2020-08-09T15:16:49.263900Z",
     "shell.execute_reply": "2020-08-09T15:16:49.263483Z"
    },
    "papermill": {
     "duration": 0.021703,
     "end_time": "2020-08-09T15:16:49.263995",
     "exception": false,
     "start_time": "2020-08-09T15:16:49.242292",
     "status": "completed"
    },
    "tags": []
   },
   "outputs": [
    {
     "data": {
      "text/html": [
       "\n",
       "<!-- #######  HTML!! #########-->\n",
       "<h1 style=\"color: #5e9ca0; text-align: center;\">India</h1>\n",
       "<p style=\"text-align: center;\">Last update: <strong>2020-08-09</strong></p>\n",
       "<p style=\"text-align: center;\">Confirmed cases:</p>\n",
       "<p style=\"text-align: center;font-size:24px;\">2199101 (<span style=\"color: #ff0000;\">+47081</span>)</p>\n",
       "<p style=\"text-align: center;\">Confirmed deaths:</p>\n",
       "<p style=\"text-align: center;font-size:24px;\">44051 (<span style=\"color: #ff0000;\">+598</span>)</p>\n"
      ],
      "text/plain": [
       "<IPython.core.display.HTML object>"
      ]
     },
     "metadata": {},
     "output_type": "display_data"
    }
   ],
   "source": [
    "#hide_input\n",
    "update = summary['updated']\n",
    "cases = summary['Cases']\n",
    "new = summary['Cases (+)']\n",
    "deaths = summary['Deaths']\n",
    "dnew = summary['Deaths (+)']\n",
    "\n",
    "html = HTML(overview.format(update=update, cases=cases,new=new,deaths=deaths,dnew=dnew))\n",
    "\n",
    "display(html)"
   ]
  },
  {
   "cell_type": "code",
   "execution_count": 17,
   "metadata": {
    "execution": {
     "iopub.execute_input": "2020-08-09T15:16:49.300174Z",
     "iopub.status.busy": "2020-08-09T15:16:49.299686Z",
     "iopub.status.idle": "2020-08-09T15:16:49.303930Z",
     "shell.execute_reply": "2020-08-09T15:16:49.304402Z"
    },
    "papermill": {
     "duration": 0.025711,
     "end_time": "2020-08-09T15:16:49.304509",
     "exception": false,
     "start_time": "2020-08-09T15:16:49.278798",
     "status": "completed"
    },
    "tags": []
   },
   "outputs": [],
   "source": [
    "#hide\n",
    "dt_cols = list(dft_cases.columns[1:])\n",
    "dft_ct_new_cases = dft_cases.groupby('state')[dt_cols].sum().diff(axis=1).fillna(0).astype(int)\n",
    "dft_ct_new_cases.sort_values(by = dates[-1], ascending = False,inplace = True)"
   ]
  },
  {
   "cell_type": "code",
   "execution_count": 18,
   "metadata": {
    "execution": {
     "iopub.execute_input": "2020-08-09T15:16:49.349009Z",
     "iopub.status.busy": "2020-08-09T15:16:49.348517Z",
     "iopub.status.idle": "2020-08-09T15:16:49.350790Z",
     "shell.execute_reply": "2020-08-09T15:16:49.351213Z"
    },
    "papermill": {
     "duration": 0.031966,
     "end_time": "2020-08-09T15:16:49.351322",
     "exception": false,
     "start_time": "2020-08-09T15:16:49.319356",
     "status": "completed"
    },
    "tags": []
   },
   "outputs": [
    {
     "data": {
      "text/html": [
       "<div>\n",
       "<style scoped>\n",
       "    .dataframe tbody tr th:only-of-type {\n",
       "        vertical-align: middle;\n",
       "    }\n",
       "\n",
       "    .dataframe tbody tr th {\n",
       "        vertical-align: top;\n",
       "    }\n",
       "\n",
       "    .dataframe thead th {\n",
       "        text-align: right;\n",
       "    }\n",
       "</style>\n",
       "<table border=\"1\" class=\"dataframe\">\n",
       "  <thead>\n",
       "    <tr style=\"text-align: right;\">\n",
       "      <th>states</th>\n",
       "      <th>2020-07-01</th>\n",
       "      <th>2020-07-02</th>\n",
       "      <th>2020-07-03</th>\n",
       "      <th>2020-07-04</th>\n",
       "      <th>2020-07-05</th>\n",
       "      <th>2020-07-06</th>\n",
       "      <th>2020-07-07</th>\n",
       "      <th>2020-07-08</th>\n",
       "      <th>2020-07-09</th>\n",
       "      <th>2020-07-10</th>\n",
       "      <th>...</th>\n",
       "      <th>2020-07-31</th>\n",
       "      <th>2020-08-01</th>\n",
       "      <th>2020-08-02</th>\n",
       "      <th>2020-08-03</th>\n",
       "      <th>2020-08-04</th>\n",
       "      <th>2020-08-05</th>\n",
       "      <th>2020-08-06</th>\n",
       "      <th>2020-08-07</th>\n",
       "      <th>2020-08-08</th>\n",
       "      <th>2020-08-09</th>\n",
       "    </tr>\n",
       "    <tr>\n",
       "      <th>state</th>\n",
       "      <th></th>\n",
       "      <th></th>\n",
       "      <th></th>\n",
       "      <th></th>\n",
       "      <th></th>\n",
       "      <th></th>\n",
       "      <th></th>\n",
       "      <th></th>\n",
       "      <th></th>\n",
       "      <th></th>\n",
       "      <th></th>\n",
       "      <th></th>\n",
       "      <th></th>\n",
       "      <th></th>\n",
       "      <th></th>\n",
       "      <th></th>\n",
       "      <th></th>\n",
       "      <th></th>\n",
       "      <th></th>\n",
       "      <th></th>\n",
       "      <th></th>\n",
       "    </tr>\n",
       "  </thead>\n",
       "  <tbody>\n",
       "    <tr>\n",
       "      <th>Andhra Pradesh</th>\n",
       "      <td>0</td>\n",
       "      <td>845</td>\n",
       "      <td>837</td>\n",
       "      <td>765</td>\n",
       "      <td>998</td>\n",
       "      <td>1322</td>\n",
       "      <td>1178</td>\n",
       "      <td>1062</td>\n",
       "      <td>1555</td>\n",
       "      <td>1608</td>\n",
       "      <td>...</td>\n",
       "      <td>10376</td>\n",
       "      <td>9276</td>\n",
       "      <td>8555</td>\n",
       "      <td>7822</td>\n",
       "      <td>9747</td>\n",
       "      <td>10128</td>\n",
       "      <td>10328</td>\n",
       "      <td>10171</td>\n",
       "      <td>10080</td>\n",
       "      <td>10820</td>\n",
       "    </tr>\n",
       "    <tr>\n",
       "      <th>Tamil Nadu</th>\n",
       "      <td>0</td>\n",
       "      <td>4343</td>\n",
       "      <td>4329</td>\n",
       "      <td>4280</td>\n",
       "      <td>4150</td>\n",
       "      <td>3827</td>\n",
       "      <td>3616</td>\n",
       "      <td>3756</td>\n",
       "      <td>4231</td>\n",
       "      <td>3680</td>\n",
       "      <td>...</td>\n",
       "      <td>5881</td>\n",
       "      <td>5879</td>\n",
       "      <td>5875</td>\n",
       "      <td>5609</td>\n",
       "      <td>5063</td>\n",
       "      <td>5175</td>\n",
       "      <td>5684</td>\n",
       "      <td>5880</td>\n",
       "      <td>5883</td>\n",
       "      <td>5994</td>\n",
       "    </tr>\n",
       "    <tr>\n",
       "      <th>Karnataka</th>\n",
       "      <td>0</td>\n",
       "      <td>1502</td>\n",
       "      <td>1694</td>\n",
       "      <td>1839</td>\n",
       "      <td>1925</td>\n",
       "      <td>1843</td>\n",
       "      <td>1498</td>\n",
       "      <td>2062</td>\n",
       "      <td>2228</td>\n",
       "      <td>2313</td>\n",
       "      <td>...</td>\n",
       "      <td>5483</td>\n",
       "      <td>5172</td>\n",
       "      <td>5532</td>\n",
       "      <td>4752</td>\n",
       "      <td>6259</td>\n",
       "      <td>5619</td>\n",
       "      <td>6805</td>\n",
       "      <td>6670</td>\n",
       "      <td>7178</td>\n",
       "      <td>5985</td>\n",
       "    </tr>\n",
       "    <tr>\n",
       "      <th>Uttar Pradesh</th>\n",
       "      <td>0</td>\n",
       "      <td>769</td>\n",
       "      <td>972</td>\n",
       "      <td>757</td>\n",
       "      <td>1153</td>\n",
       "      <td>929</td>\n",
       "      <td>1332</td>\n",
       "      <td>1188</td>\n",
       "      <td>1206</td>\n",
       "      <td>1338</td>\n",
       "      <td>...</td>\n",
       "      <td>4422</td>\n",
       "      <td>3587</td>\n",
       "      <td>3873</td>\n",
       "      <td>4441</td>\n",
       "      <td>2948</td>\n",
       "      <td>4078</td>\n",
       "      <td>4586</td>\n",
       "      <td>4404</td>\n",
       "      <td>4660</td>\n",
       "      <td>4571</td>\n",
       "    </tr>\n",
       "    <tr>\n",
       "      <th>Bihar</th>\n",
       "      <td>0</td>\n",
       "      <td>478</td>\n",
       "      <td>426</td>\n",
       "      <td>349</td>\n",
       "      <td>403</td>\n",
       "      <td>280</td>\n",
       "      <td>385</td>\n",
       "      <td>749</td>\n",
       "      <td>704</td>\n",
       "      <td>352</td>\n",
       "      <td>...</td>\n",
       "      <td>2986</td>\n",
       "      <td>3521</td>\n",
       "      <td>2762</td>\n",
       "      <td>2297</td>\n",
       "      <td>2464</td>\n",
       "      <td>2701</td>\n",
       "      <td>3416</td>\n",
       "      <td>3646</td>\n",
       "      <td>3992</td>\n",
       "      <td>3934</td>\n",
       "    </tr>\n",
       "  </tbody>\n",
       "</table>\n",
       "<p>5 rows × 40 columns</p>\n",
       "</div>"
      ],
      "text/plain": [
       "states          2020-07-01  2020-07-02  2020-07-03  2020-07-04  2020-07-05  \\\n",
       "state                                                                        \n",
       "Andhra Pradesh           0         845         837         765         998   \n",
       "Tamil Nadu               0        4343        4329        4280        4150   \n",
       "Karnataka                0        1502        1694        1839        1925   \n",
       "Uttar Pradesh            0         769         972         757        1153   \n",
       "Bihar                    0         478         426         349         403   \n",
       "\n",
       "states          2020-07-06  2020-07-07  2020-07-08  2020-07-09  2020-07-10  \\\n",
       "state                                                                        \n",
       "Andhra Pradesh        1322        1178        1062        1555        1608   \n",
       "Tamil Nadu            3827        3616        3756        4231        3680   \n",
       "Karnataka             1843        1498        2062        2228        2313   \n",
       "Uttar Pradesh          929        1332        1188        1206        1338   \n",
       "Bihar                  280         385         749         704         352   \n",
       "\n",
       "states          ...  2020-07-31  2020-08-01  2020-08-02  2020-08-03  \\\n",
       "state           ...                                                   \n",
       "Andhra Pradesh  ...       10376        9276        8555        7822   \n",
       "Tamil Nadu      ...        5881        5879        5875        5609   \n",
       "Karnataka       ...        5483        5172        5532        4752   \n",
       "Uttar Pradesh   ...        4422        3587        3873        4441   \n",
       "Bihar           ...        2986        3521        2762        2297   \n",
       "\n",
       "states          2020-08-04  2020-08-05  2020-08-06  2020-08-07  2020-08-08  \\\n",
       "state                                                                        \n",
       "Andhra Pradesh        9747       10128       10328       10171       10080   \n",
       "Tamil Nadu            5063        5175        5684        5880        5883   \n",
       "Karnataka             6259        5619        6805        6670        7178   \n",
       "Uttar Pradesh         2948        4078        4586        4404        4660   \n",
       "Bihar                 2464        2701        3416        3646        3992   \n",
       "\n",
       "states          2020-08-09  \n",
       "state                       \n",
       "Andhra Pradesh       10820  \n",
       "Tamil Nadu            5994  \n",
       "Karnataka             5985  \n",
       "Uttar Pradesh         4571  \n",
       "Bihar                 3934  \n",
       "\n",
       "[5 rows x 40 columns]"
      ]
     },
     "execution_count": 18,
     "metadata": {},
     "output_type": "execute_result"
    }
   ],
   "source": [
    "#hide\n",
    "dft_ct_new_cases.head()"
   ]
  },
  {
   "cell_type": "code",
   "execution_count": 19,
   "metadata": {
    "execution": {
     "iopub.execute_input": "2020-08-09T15:16:49.409460Z",
     "iopub.status.busy": "2020-08-09T15:16:49.393948Z",
     "iopub.status.idle": "2020-08-09T15:16:51.900435Z",
     "shell.execute_reply": "2020-08-09T15:16:51.900845Z"
    },
    "papermill": {
     "duration": 2.534326,
     "end_time": "2020-08-09T15:16:51.900986",
     "exception": false,
     "start_time": "2020-08-09T15:16:49.366660",
     "status": "completed"
    },
    "tags": []
   },
   "outputs": [
    {
     "data": {
      "image/png": "[encoded data removed]",
      "text/plain": [
       "<Figure size 1296x2016 with 11 Axes>"
      ]
     },
     "metadata": {
      "needs_background": "light"
     },
     "output_type": "display_data"
    }
   ],
   "source": [
    "#hide_input\n",
    "df = dft_ct_new_cases.copy()\n",
    "df.loc['Total'] = df.sum()\n",
    "n = 5\n",
    "ax = []\n",
    "fig = plt.figure(figsize = (18,28))\n",
    "gs = fig.add_gridspec(n+2, 5)\n",
    "# gs = fig.add_gridspec(2, 3)\n",
    "ax1 = fig.add_subplot(gs[0, :])\n",
    "ef = df.loc['Total'].rename_axis('date').reset_index()\n",
    "ef['date'] = ef['date'].astype('datetime64[ns]')\n",
    "ax1.bar(ef.date,ef.Total,alpha=0.3,color='#007acc')\n",
    "ax1.plot(ef.date,ef.Total , marker=\"o\", color='#007acc')\n",
    "ax1.xaxis.set_major_locator(mdates.WeekdayLocator())\n",
    "ax1.xaxis.set_major_formatter(mdates.DateFormatter('%b %d'))\n",
    "ax1.text(0.02, 0.5,'India daily case count', transform = ax1.transAxes, fontsize=25);\n",
    "ax1.spines['right'].set_visible(False)\n",
    "ax1.spines['top'].set_visible(False)\n",
    "\n",
    "ax2 = fig.add_subplot(gs[1,0])\n",
    "ef = df.loc['Maharashtra'].rename_axis('date').reset_index()\n",
    "ef['date'] = ef['date'].astype('datetime64[ns]')\n",
    "\n",
    "ax2.bar(ef.date, ef.Maharashtra,color = '#007acc',alpha=0.5)\n",
    "ax2.xaxis.set_major_locator(mdates.WeekdayLocator())\n",
    "ax2.xaxis.set_major_formatter(mdates.DateFormatter('%b %d'))\n",
    "ax2.set_xticks(ax2.get_xticks()[::3])\n",
    "maxyval = ef.Maharashtra.max()\n",
    "ax2.set_ylim([0,maxyval])\n",
    "ax2.text(0.05, 0.9,'Maharashtra', transform = ax2.transAxes, fontsize=20);\n",
    "ax2.spines['right'].set_visible(False)\n",
    "ax2.spines['top'].set_visible(False)\n",
    "\n",
    "\n",
    "ax3 = fig.add_subplot(gs[1,1])\n",
    "ef = df.loc['Tamil Nadu'].rename_axis('date').reset_index()\n",
    "ef['date'] = ef['date'].astype('datetime64[ns]')\n",
    "ax3.bar(ef.date, ef['Tamil Nadu'],color = '#007acc',alpha=0.5,)\n",
    "ax3.xaxis.set_major_locator(mdates.WeekdayLocator())\n",
    "ax3.xaxis.set_major_formatter(mdates.DateFormatter('%b %d'))\n",
    "ax3.set_xticks(ax3.get_xticks()[::3])\n",
    "ax3.text(0.05, 0.9,'Tamil Nadu', transform = ax3.transAxes, fontsize=20);\n",
    "ax3.spines['right'].set_visible(False)\n",
    "ax3.spines['top'].set_visible(False)\n",
    "\n",
    "ax5 = fig.add_subplot(gs[1,3])\n",
    "ef = df.loc['Telangana'].rename_axis('date').reset_index()\n",
    "ef['date'] = ef['date'].astype('datetime64[ns]')\n",
    "ax5.bar(ef.date, ef['Telangana'],color = '#007acc',alpha=0.5,)\n",
    "ax5.xaxis.set_major_locator(mdates.WeekdayLocator())\n",
    "ax5.xaxis.set_major_formatter(mdates.DateFormatter('%b %d'))\n",
    "ax5.set_xticks(ax5.get_xticks()[::3])\n",
    "ax5.text(0.05, 0.9,'Telangana', transform = ax5.transAxes, fontsize=20);\n",
    "ax5.spines['right'].set_visible(False)\n",
    "ax5.spines['top'].set_visible(False)\n",
    "\n",
    "ax6 = fig.add_subplot(gs[1,4])\n",
    "ef = df.loc['Andhra Pradesh'].rename_axis('date').reset_index()\n",
    "ef['date'] = ef['date'].astype('datetime64[ns]')\n",
    "ax6.bar(ef.date, ef['Andhra Pradesh'],color = '#007acc',alpha=0.5,)\n",
    "ax6.xaxis.set_major_locator(mdates.WeekdayLocator())\n",
    "ax6.xaxis.set_major_formatter(mdates.DateFormatter('%b %d'))\n",
    "ax6.set_xticks(ax6.get_xticks()[::3])\n",
    "ax6.text(0.05, 1,'Andhra Pradesh', transform = ax6.transAxes, fontsize=20);\n",
    "ax6.spines['right'].set_visible(False)\n",
    "ax6.spines['top'].set_visible(False)\n",
    "\n",
    "ax4 = fig.add_subplot(gs[1,2])\n",
    "ef = df.loc['Delhi'].rename_axis('date').reset_index()\n",
    "ef['date'] = ef['date'].astype('datetime64[ns]')\n",
    "ax4.bar(ef.date, ef.Delhi,color = '#007acc',alpha=0.5)\n",
    "ax4.set_xticks([])\n",
    "ax4.xaxis.set_major_locator(mdates.WeekdayLocator())\n",
    "ax4.xaxis.set_major_formatter(mdates.DateFormatter('%b %d'))\n",
    "ax4.set_xticks(ax4.get_xticks()[::3])\n",
    "ax4.spines['right'].set_visible(False)\n",
    "ax4.spines['top'].set_visible(False)\n",
    "\n",
    "ax4.text(0.05, 1,'Delhi', transform = ax4.transAxes, fontsize=20)\n",
    "\n",
    "for i in range(n):\n",
    "    \n",
    "    ax.append(fig.add_subplot(gs[i+2,:]))\n",
    "    ef = df.iloc[i+3].rename_axis('date').reset_index()\n",
    "    ef['date'] = ef['date'].astype('datetime64[ns]')\n",
    "    ax[i].bar(ef.date,ef.iloc[:,-1],color = '#007acc',alpha=0.3)\n",
    "    ax[i].plot(ef.date,ef.iloc[:,-1],marker='o',color='#007acc')\n",
    "    ax[i].text(0.02,0.5,f'{ef.columns.values[-1]}',transform = ax[i].transAxes, fontsize = 20);\n",
    "    ax[i].xaxis.set_major_locator(mdates.WeekdayLocator())\n",
    "    ax[i].xaxis.set_major_formatter(mdates.DateFormatter('%b %d'))\n",
    "    ax[i].set_ylim([0,7000])\n",
    "    ax[i].spines['right'].set_visible(False)\n",
    "    ax[i].spines['top'].set_visible(False)\n",
    "plt.tight_layout()\n"
   ]
  },
  {
   "cell_type": "code",
   "execution_count": 20,
   "metadata": {
    "execution": {
     "iopub.execute_input": "2020-08-09T15:16:51.949221Z",
     "iopub.status.busy": "2020-08-09T15:16:51.948698Z",
     "iopub.status.idle": "2020-08-09T15:16:51.951141Z",
     "shell.execute_reply": "2020-08-09T15:16:51.951540Z"
    },
    "papermill": {
     "duration": 0.030928,
     "end_time": "2020-08-09T15:16:51.951667",
     "exception": false,
     "start_time": "2020-08-09T15:16:51.920739",
     "status": "completed"
    },
    "tags": []
   },
   "outputs": [
    {
     "name": "stdout",
     "output_type": "stream",
     "text": [
      "                                   states   Cases  Deaths  PCases  PDeaths  Cases (+)  Deaths (+)  Fatality Rate\n",
      "                              Maharashtra  503084   17367  503084    17367          0           0           3.45\n",
      "                               Tamil Nadu  296901    4927  290907     4808       5994         119           1.66\n",
      "                           Andhra Pradesh  227860    2036  217040     1939      10820          97           0.89\n",
      "                                Karnataka  178087    3198  172102     3091       5985         107           1.80\n",
      "                                    Delhi  145427    4111  144127     4098       1300          13           2.83\n",
      "                            Uttar Pradesh  122609    2069  118038     2028       4571          41           1.69\n",
      "                              West Bengal   95554    2059   92615     2005       2939          54           2.15\n",
      "                                    Bihar   79720     429   75786      419       3934          10           0.54\n",
      "                                Telangana   79495     627   77513      615       1982          12           0.79\n",
      "                                  Gujarat   71064    2652   69986     2627       1078          25           3.73\n",
      "                                    Assam   57715     140   57715      140          0           0           0.24\n",
      "                                Rajasthan   51924     784   51328      778        596           6           1.51\n",
      "                                   Odisha   45927     321   44193      307       1734          14           0.70\n",
      "                                  Haryana   41635     483   40843      474        792           9           1.16\n",
      "                           Madhya Pradesh   39025     996   38157      977        868          19           2.55\n",
      "                                   Kerala   34331     109   33120      107       1211           2           0.32\n",
      "                        Jammu and Kashmir   24897     472   24390      459        507          13           1.90\n",
      "                                   Punjab   23903     586   22928      562        975          24           2.45\n",
      "                                Jharkhand   17626     168   17468      160        158           8           0.95\n",
      "                             Chhattisgarh   11855      90   11855       90          0           0           0.76\n",
      "                              Uttarakhand    9632     125    9402      117        230           8           1.30\n",
      "                                      Goa    8712      75    8206       72        506           3           0.86\n",
      "                                  Tripura    6161      41    6014       37        147           4           0.67\n",
      "                               Puducherry    5382      87    5123       80        259           7           1.62\n",
      "                                  Manipur    3753      11    3635       11        118           0           0.29\n",
      "                         Himachal Pradesh    3334      14    3264       13         70           1           0.42\n",
      "                                 Nagaland    2781       8    2688        7         93           1           0.29\n",
      "                        Arunachal Pradesh    2117       3    2117        3          0           0           0.14\n",
      "                                   Ladakh    1639       9    1639        9          0           0           0.55\n",
      " Dadra and Nagar Haveli and Daman and Diu    1555       2    1510        2         45           0           0.13\n",
      "                               Chandigarh    1515      25    1426       24         89           1           1.65\n",
      "              Andaman and Nicobar Islands    1351      20    1351       20          0           0           1.48\n",
      "                                Meghalaya    1062       6    1023        6         39           0           0.56\n",
      "                                   Sikkim     860       1     860        1          0           0           0.12\n",
      "                                  Mizoram     608       0     567        0         41           0           0.00\n",
      "                              Lakshadweep       0       0       0        0          0           0            NaN\n"
     ]
    }
   ],
   "source": [
    "#hide_input\n",
    "print(df_table.to_string(index=False))"
   ]
  },
  {
   "cell_type": "code",
   "execution_count": null,
   "metadata": {
    "papermill": {
     "duration": 0.019637,
     "end_time": "2020-08-09T15:16:51.990947",
     "exception": false,
     "start_time": "2020-08-09T15:16:51.971310",
     "status": "completed"
    },
    "tags": []
   },
   "outputs": [],
   "source": []
  },
  {
   "cell_type": "code",
   "execution_count": null,
   "metadata": {
    "papermill": {
     "duration": 0.019654,
     "end_time": "2020-08-09T15:16:52.030327",
     "exception": false,
     "start_time": "2020-08-09T15:16:52.010673",
     "status": "completed"
    },
    "tags": []
   },
   "outputs": [],
   "source": []
  }
 ],
 "metadata": {
  "kernelspec": {
   "display_name": "Python 3",
   "language": "python",
   "name": "python3"
  },
  "language_info": {
   "codemirror_mode": {
    "name": "ipython",
    "version": 3
   },
   "file_extension": ".py",
   "mimetype": "text/x-python",
   "name": "python",
   "nbconvert_exporter": "python",
   "pygments_lexer": "ipython3",
   "version": "3.6.11"
  },
  "papermill": {
   "duration": 6.925193,
   "end_time": "2020-08-09T15:16:52.356033",
   "environment_variables": {},
   "exception": null,
   "input_path": "latest.ipynb",
   "output_path": "latest.ipynb",
   "parameters": {},
   "start_time": "2020-08-09T15:16:45.430840",
   "version": "2.1.2"
  }
 },
 "nbformat": 4,
 "nbformat_minor": 4
}