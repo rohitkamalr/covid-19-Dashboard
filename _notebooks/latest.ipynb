{
 "cells": [
  {
   "cell_type": "markdown",
   "metadata": {
    "papermill": {
     "duration": 0.020312,
     "end_time": "2020-09-13T12:39:37.880020",
     "exception": false,
     "start_time": "2020-09-13T12:39:37.859708",
     "status": "completed"
    },
    "tags": []
   },
   "source": [
    "# Latest COVID-19 India Matplotlib Overview"
   ]
  },
  {
   "cell_type": "code",
   "execution_count": 1,
   "metadata": {
    "execution": {
     "iopub.execute_input": "2020-09-13T12:39:37.921026Z",
     "iopub.status.busy": "2020-09-13T12:39:37.920401Z",
     "iopub.status.idle": "2020-09-13T12:39:38.552395Z",
     "shell.execute_reply": "2020-09-13T12:39:38.551784Z"
    },
    "papermill": {
     "duration": 0.654919,
     "end_time": "2020-09-13T12:39:38.552578",
     "exception": false,
     "start_time": "2020-09-13T12:39:37.897659",
     "status": "completed"
    },
    "tags": []
   },
   "outputs": [],
   "source": [
    "#hide\n",
    "import pandas as pd\n",
    "import numpy as np\n",
    "import requests\n",
    "import json\n",
    "import matplotlib.pyplot as plt\n",
    "import matplotlib.dates as mdates\n",
    "import matplotlib as mpl\n",
    "from IPython.core.display import display,HTML\n",
    "%matplotlib inline\n",
    "from datetime import date"
   ]
  },
  {
   "cell_type": "code",
   "execution_count": 2,
   "metadata": {
    "execution": {
     "iopub.execute_input": "2020-09-13T12:39:38.596098Z",
     "iopub.status.busy": "2020-09-13T12:39:38.595139Z",
     "iopub.status.idle": "2020-09-13T12:39:38.824479Z",
     "shell.execute_reply": "2020-09-13T12:39:38.823818Z"
    },
    "papermill": {
     "duration": 0.254325,
     "end_time": "2020-09-13T12:39:38.824637",
     "exception": false,
     "start_time": "2020-09-13T12:39:38.570312",
     "status": "completed"
    },
    "tags": []
   },
   "outputs": [],
   "source": [
    "#hide\n",
    "df  = pd.read_csv('https://api.covid19india.org/csv/latest/states.csv')\n",
    "df = df[['Date','State','Confirmed','Deceased']]\n",
    "df = df.rename(columns={'Confirmed':'Cases', \"Deceased\":'Deaths'})\n",
    "df_cases = df[[\"Date\",'State','Cases']]\n",
    "df_deaths = df[['Date','State','Deaths']]\n",
    "df_cases1 = df_cases.groupby('Date')\n",
    "df_deaths1= df_deaths.groupby('Date')"
   ]
  },
  {
   "cell_type": "code",
   "execution_count": 3,
   "metadata": {
    "execution": {
     "iopub.execute_input": "2020-09-13T12:39:39.050142Z",
     "iopub.status.busy": "2020-09-13T12:39:39.049496Z",
     "iopub.status.idle": "2020-09-13T12:39:39.070155Z",
     "shell.execute_reply": "2020-09-13T12:39:39.069362Z"
    },
    "papermill": {
     "duration": 0.228764,
     "end_time": "2020-09-13T12:39:39.070311",
     "exception": false,
     "start_time": "2020-09-13T12:39:38.841547",
     "status": "completed"
    },
    "tags": []
   },
   "outputs": [],
   "source": [
    "#hide\n",
    "df_snap = pd.read_csv('data/SnapshotCases-28-July.csv')\n",
    "arr_states = df_snap['states'].unique()\n",
    "arr_dates = df['Date'].unique()\n",
    "df_snap = df_snap.set_index('states')"
   ]
  },
  {
   "cell_type": "code",
   "execution_count": 4,
   "metadata": {
    "execution": {
     "iopub.execute_input": "2020-09-13T12:39:39.112294Z",
     "iopub.status.busy": "2020-09-13T12:39:39.111689Z",
     "iopub.status.idle": "2020-09-13T12:39:39.115098Z",
     "shell.execute_reply": "2020-09-13T12:39:39.114372Z"
    },
    "papermill": {
     "duration": 0.027698,
     "end_time": "2020-09-13T12:39:39.115246",
     "exception": false,
     "start_time": "2020-09-13T12:39:39.087548",
     "status": "completed"
    },
    "tags": []
   },
   "outputs": [
    {
     "data": {
      "text/plain": [
       "array(['Andaman and Nicobar Islands', 'Andhra Pradesh',\n",
       "       'Arunachal Pradesh', 'Assam', 'Bihar', 'Chandigarh',\n",
       "       'Dadra and Nagar Haveli and Daman and Diu', 'Delhi', 'Goa',\n",
       "       'Gujarat', 'Haryana', 'Himachal Pradesh', 'Jammu and Kashmir',\n",
       "       'Jharkhand', 'Karnataka', 'Kerala', 'Lakshadweep',\n",
       "       'Madhya Pradesh', 'Maharashtra', 'Manipur', 'Meghalaya', 'Mizoram',\n",
       "       'Nagaland', 'Odisha', 'Puducherry', 'Punjab', 'Rajasthan',\n",
       "       'Sikkim', 'Tamil Nadu', 'Telangana', 'Tripura', 'Uttar Pradesh',\n",
       "       'West Bengal', 'Chhattisgarh', 'Ladakh', 'Uttarakhand'],\n",
       "      dtype=object)"
      ]
     },
     "execution_count": 4,
     "metadata": {},
     "output_type": "execute_result"
    }
   ],
   "source": [
    "#hide\n",
    "arr_states[-9] = 'Puducherry'\n",
    "arr_states[-10] = 'Odisha'\n",
    "arr_states[6] = 'Dadra and Nagar Haveli and Daman and Diu'\n",
    "arr_states = np.append(arr_states,np.array(['Chhattisgarh','Ladakh','Uttarakhand']))\n",
    "arr_states"
   ]
  },
  {
   "cell_type": "code",
   "execution_count": 5,
   "metadata": {
    "execution": {
     "iopub.execute_input": "2020-09-13T12:39:39.166099Z",
     "iopub.status.busy": "2020-09-13T12:39:39.165402Z",
     "iopub.status.idle": "2020-09-13T12:39:39.167791Z",
     "shell.execute_reply": "2020-09-13T12:39:39.167262Z"
    },
    "papermill": {
     "duration": 0.035374,
     "end_time": "2020-09-13T12:39:39.167911",
     "exception": false,
     "start_time": "2020-09-13T12:39:39.132537",
     "status": "completed"
    },
    "tags": []
   },
   "outputs": [],
   "source": [
    "#hide\n",
    "dates = []\n",
    "for i in arr_dates:\n",
    "    if i>='2020-07-01':\n",
    "        dates.append(i)\n",
    "dict = {'states':dates}\n",
    "for i in arr_states:\n",
    "    dict[i] = [0]*len(dates)\n",
    "dft_cases = pd.DataFrame(dict)\n",
    "dft_deaths = pd.DataFrame(dict)\n"
   ]
  },
  {
   "cell_type": "code",
   "execution_count": 6,
   "metadata": {
    "execution": {
     "iopub.execute_input": "2020-09-13T12:39:39.209573Z",
     "iopub.status.busy": "2020-09-13T12:39:39.208912Z",
     "iopub.status.idle": "2020-09-13T12:39:40.546333Z",
     "shell.execute_reply": "2020-09-13T12:39:40.545749Z"
    },
    "papermill": {
     "duration": 1.360984,
     "end_time": "2020-09-13T12:39:40.546485",
     "exception": false,
     "start_time": "2020-09-13T12:39:39.185501",
     "status": "completed"
    },
    "tags": []
   },
   "outputs": [],
   "source": [
    "#hide\n",
    "for i in range(len(dates)):\n",
    "    df1_deaths = df_deaths1.get_group(dates[i])\n",
    "    for j in range(len(df1_deaths.index)):\n",
    "        if df1_deaths.iloc[j,1] in arr_states:\n",
    "            dft_deaths.loc[i,df1_deaths.iloc[j,1]] = df1_deaths.iloc[j,2]\n",
    "dft_deaths = dft_deaths.set_index('states')"
   ]
  },
  {
   "cell_type": "code",
   "execution_count": 7,
   "metadata": {
    "execution": {
     "iopub.execute_input": "2020-09-13T12:39:40.589213Z",
     "iopub.status.busy": "2020-09-13T12:39:40.588602Z",
     "iopub.status.idle": "2020-09-13T12:39:41.877637Z",
     "shell.execute_reply": "2020-09-13T12:39:41.877083Z"
    },
    "papermill": {
     "duration": 1.312693,
     "end_time": "2020-09-13T12:39:41.877775",
     "exception": false,
     "start_time": "2020-09-13T12:39:40.565082",
     "status": "completed"
    },
    "tags": []
   },
   "outputs": [],
   "source": [
    "#hide\n",
    "for i in range(len(dates)):\n",
    "    df1_cases = df_cases1.get_group(dates[i])\n",
    "    for j in range(len(df1_cases.index)):\n",
    "        if df1_cases.iloc[j,1] in arr_states:\n",
    "            dft_cases.loc[i,df1_cases.iloc[j,1]] = df1_cases.iloc[j,2]\n",
    "dft_cases = dft_cases.set_index('states')"
   ]
  },
  {
   "cell_type": "code",
   "execution_count": 8,
   "metadata": {
    "execution": {
     "iopub.execute_input": "2020-09-13T12:39:41.916641Z",
     "iopub.status.busy": "2020-09-13T12:39:41.915871Z",
     "iopub.status.idle": "2020-09-13T12:39:41.920544Z",
     "shell.execute_reply": "2020-09-13T12:39:41.920052Z"
    },
    "papermill": {
     "duration": 0.025651,
     "end_time": "2020-09-13T12:39:41.920671",
     "exception": false,
     "start_time": "2020-09-13T12:39:41.895020",
     "status": "completed"
    },
    "tags": []
   },
   "outputs": [],
   "source": [
    "#hide\n",
    "dft_cases = dft_cases.T\n",
    "dft_deaths = dft_deaths.T\n",
    "dt_today = dates[-1]\n",
    "dt_yday = dates[-2]"
   ]
  },
  {
   "cell_type": "code",
   "execution_count": 9,
   "metadata": {
    "execution": {
     "iopub.execute_input": "2020-09-13T12:39:41.969730Z",
     "iopub.status.busy": "2020-09-13T12:39:41.968373Z",
     "iopub.status.idle": "2020-09-13T12:39:41.970468Z",
     "shell.execute_reply": "2020-09-13T12:39:41.970958Z"
    },
    "papermill": {
     "duration": 0.031065,
     "end_time": "2020-09-13T12:39:41.971106",
     "exception": false,
     "start_time": "2020-09-13T12:39:41.940041",
     "status": "completed"
    },
    "tags": []
   },
   "outputs": [],
   "source": [
    "#hide\n",
    "dft_cases = dft_cases.reset_index()\n",
    "dft_deaths = dft_deaths.reset_index()\n",
    "dft_cases = dft_cases.rename(columns = {'index':'state'})\n",
    "dft_deaths = dft_deaths.rename(columns = {'index':'state'})"
   ]
  },
  {
   "cell_type": "code",
   "execution_count": 10,
   "metadata": {
    "execution": {
     "iopub.execute_input": "2020-09-13T12:39:42.018284Z",
     "iopub.status.busy": "2020-09-13T12:39:42.016967Z",
     "iopub.status.idle": "2020-09-13T12:39:42.019085Z",
     "shell.execute_reply": "2020-09-13T12:39:42.019651Z"
    },
    "papermill": {
     "duration": 0.031963,
     "end_time": "2020-09-13T12:39:42.019787",
     "exception": false,
     "start_time": "2020-09-13T12:39:41.987824",
     "status": "completed"
    },
    "tags": []
   },
   "outputs": [],
   "source": [
    "#hide\n",
    "dfc_cases = dft_cases.groupby('state')[dt_today].sum()\n",
    "dfc_deaths = dft_deaths.groupby('state')[dt_today].sum()\n",
    "dfp_cases = dft_cases.groupby('state')[dt_yday].sum()\n",
    "dfp_deaths = dft_deaths.groupby('state')[dt_yday].sum()"
   ]
  },
  {
   "cell_type": "code",
   "execution_count": 11,
   "metadata": {
    "execution": {
     "iopub.execute_input": "2020-09-13T12:39:42.061579Z",
     "iopub.status.busy": "2020-09-13T12:39:42.060830Z",
     "iopub.status.idle": "2020-09-13T12:39:42.075520Z",
     "shell.execute_reply": "2020-09-13T12:39:42.074997Z"
    },
    "papermill": {
     "duration": 0.039075,
     "end_time": "2020-09-13T12:39:42.075645",
     "exception": false,
     "start_time": "2020-09-13T12:39:42.036570",
     "status": "completed"
    },
    "tags": []
   },
   "outputs": [
    {
     "data": {
      "text/html": [
       "<div>\n",
       "<style scoped>\n",
       "    .dataframe tbody tr th:only-of-type {\n",
       "        vertical-align: middle;\n",
       "    }\n",
       "\n",
       "    .dataframe tbody tr th {\n",
       "        vertical-align: top;\n",
       "    }\n",
       "\n",
       "    .dataframe thead th {\n",
       "        text-align: right;\n",
       "    }\n",
       "</style>\n",
       "<table border=\"1\" class=\"dataframe\">\n",
       "  <thead>\n",
       "    <tr style=\"text-align: right;\">\n",
       "      <th></th>\n",
       "      <th>states</th>\n",
       "      <th>Cases</th>\n",
       "      <th>Deaths</th>\n",
       "      <th>PCases</th>\n",
       "      <th>PDeaths</th>\n",
       "    </tr>\n",
       "  </thead>\n",
       "  <tbody>\n",
       "    <tr>\n",
       "      <th>0</th>\n",
       "      <td>Maharashtra</td>\n",
       "      <td>1037765</td>\n",
       "      <td>29115</td>\n",
       "      <td>1037765</td>\n",
       "      <td>29115</td>\n",
       "    </tr>\n",
       "    <tr>\n",
       "      <th>1</th>\n",
       "      <td>Andhra Pradesh</td>\n",
       "      <td>557587</td>\n",
       "      <td>4846</td>\n",
       "      <td>557587</td>\n",
       "      <td>4846</td>\n",
       "    </tr>\n",
       "    <tr>\n",
       "      <th>2</th>\n",
       "      <td>Tamil Nadu</td>\n",
       "      <td>497066</td>\n",
       "      <td>8307</td>\n",
       "      <td>497066</td>\n",
       "      <td>8307</td>\n",
       "    </tr>\n",
       "    <tr>\n",
       "      <th>3</th>\n",
       "      <td>Karnataka</td>\n",
       "      <td>449551</td>\n",
       "      <td>7161</td>\n",
       "      <td>449551</td>\n",
       "      <td>7161</td>\n",
       "    </tr>\n",
       "    <tr>\n",
       "      <th>4</th>\n",
       "      <td>Uttar Pradesh</td>\n",
       "      <td>312036</td>\n",
       "      <td>4429</td>\n",
       "      <td>305831</td>\n",
       "      <td>4349</td>\n",
       "    </tr>\n",
       "  </tbody>\n",
       "</table>\n",
       "</div>"
      ],
      "text/plain": [
       "           states    Cases  Deaths   PCases  PDeaths\n",
       "0     Maharashtra  1037765   29115  1037765    29115\n",
       "1  Andhra Pradesh   557587    4846   557587     4846\n",
       "2      Tamil Nadu   497066    8307   497066     8307\n",
       "3       Karnataka   449551    7161   449551     7161\n",
       "4   Uttar Pradesh   312036    4429   305831     4349"
      ]
     },
     "execution_count": 11,
     "metadata": {},
     "output_type": "execute_result"
    }
   ],
   "source": [
    "#hide\n",
    "df_table = pd.DataFrame({'states': dfc_cases.index, 'Cases': dfc_cases.values, 'Deaths': dfc_deaths.values, 'PCases': dfp_cases.values, 'PDeaths': dfp_deaths.values}).set_index('states')\n",
    "df_table = df_table.sort_values(by = ['Cases','Deaths'], ascending = [False, False])\n",
    "df_table = df_table.reset_index()\n",
    "df_table.head()"
   ]
  },
  {
   "cell_type": "code",
   "execution_count": 12,
   "metadata": {
    "execution": {
     "iopub.execute_input": "2020-09-13T12:39:42.116755Z",
     "iopub.status.busy": "2020-09-13T12:39:42.116105Z",
     "iopub.status.idle": "2020-09-13T12:39:42.125986Z",
     "shell.execute_reply": "2020-09-13T12:39:42.125285Z"
    },
    "papermill": {
     "duration": 0.032749,
     "end_time": "2020-09-13T12:39:42.126113",
     "exception": false,
     "start_time": "2020-09-13T12:39:42.093364",
     "status": "completed"
    },
    "tags": []
   },
   "outputs": [],
   "source": [
    "#hide\n",
    "for c in 'Cases, Deaths'.split(', '):\n",
    "    df_table[f'{c} (+)'] = (df_table[c] - df_table[f'P{c}']).clip(0)\n",
    "df_table['Fatality Rate'] = (100* df_table['Deaths']/ df_table['Cases']).round(2)"
   ]
  },
  {
   "cell_type": "code",
   "execution_count": 13,
   "metadata": {
    "execution": {
     "iopub.execute_input": "2020-09-13T12:39:42.168781Z",
     "iopub.status.busy": "2020-09-13T12:39:42.168015Z",
     "iopub.status.idle": "2020-09-13T12:39:42.178869Z",
     "shell.execute_reply": "2020-09-13T12:39:42.178206Z"
    },
    "papermill": {
     "duration": 0.034635,
     "end_time": "2020-09-13T12:39:42.179001",
     "exception": false,
     "start_time": "2020-09-13T12:39:42.144366",
     "status": "completed"
    },
    "tags": []
   },
   "outputs": [
    {
     "data": {
      "text/html": [
       "<div>\n",
       "<style scoped>\n",
       "    .dataframe tbody tr th:only-of-type {\n",
       "        vertical-align: middle;\n",
       "    }\n",
       "\n",
       "    .dataframe tbody tr th {\n",
       "        vertical-align: top;\n",
       "    }\n",
       "\n",
       "    .dataframe thead th {\n",
       "        text-align: right;\n",
       "    }\n",
       "</style>\n",
       "<table border=\"1\" class=\"dataframe\">\n",
       "  <thead>\n",
       "    <tr style=\"text-align: right;\">\n",
       "      <th></th>\n",
       "      <th>states</th>\n",
       "      <th>Cases</th>\n",
       "      <th>Deaths</th>\n",
       "      <th>PCases</th>\n",
       "      <th>PDeaths</th>\n",
       "      <th>Cases (+)</th>\n",
       "      <th>Deaths (+)</th>\n",
       "      <th>Fatality Rate</th>\n",
       "    </tr>\n",
       "  </thead>\n",
       "  <tbody>\n",
       "    <tr>\n",
       "      <th>0</th>\n",
       "      <td>Maharashtra</td>\n",
       "      <td>1037765</td>\n",
       "      <td>29115</td>\n",
       "      <td>1037765</td>\n",
       "      <td>29115</td>\n",
       "      <td>0</td>\n",
       "      <td>0</td>\n",
       "      <td>2.81</td>\n",
       "    </tr>\n",
       "    <tr>\n",
       "      <th>1</th>\n",
       "      <td>Andhra Pradesh</td>\n",
       "      <td>557587</td>\n",
       "      <td>4846</td>\n",
       "      <td>557587</td>\n",
       "      <td>4846</td>\n",
       "      <td>0</td>\n",
       "      <td>0</td>\n",
       "      <td>0.87</td>\n",
       "    </tr>\n",
       "    <tr>\n",
       "      <th>2</th>\n",
       "      <td>Tamil Nadu</td>\n",
       "      <td>497066</td>\n",
       "      <td>8307</td>\n",
       "      <td>497066</td>\n",
       "      <td>8307</td>\n",
       "      <td>0</td>\n",
       "      <td>0</td>\n",
       "      <td>1.67</td>\n",
       "    </tr>\n",
       "    <tr>\n",
       "      <th>3</th>\n",
       "      <td>Karnataka</td>\n",
       "      <td>449551</td>\n",
       "      <td>7161</td>\n",
       "      <td>449551</td>\n",
       "      <td>7161</td>\n",
       "      <td>0</td>\n",
       "      <td>0</td>\n",
       "      <td>1.59</td>\n",
       "    </tr>\n",
       "    <tr>\n",
       "      <th>4</th>\n",
       "      <td>Uttar Pradesh</td>\n",
       "      <td>312036</td>\n",
       "      <td>4429</td>\n",
       "      <td>305831</td>\n",
       "      <td>4349</td>\n",
       "      <td>6205</td>\n",
       "      <td>80</td>\n",
       "      <td>1.42</td>\n",
       "    </tr>\n",
       "  </tbody>\n",
       "</table>\n",
       "</div>"
      ],
      "text/plain": [
       "           states    Cases  Deaths   PCases  PDeaths  Cases (+)  Deaths (+)  \\\n",
       "0     Maharashtra  1037765   29115  1037765    29115          0           0   \n",
       "1  Andhra Pradesh   557587    4846   557587     4846          0           0   \n",
       "2      Tamil Nadu   497066    8307   497066     8307          0           0   \n",
       "3       Karnataka   449551    7161   449551     7161          0           0   \n",
       "4   Uttar Pradesh   312036    4429   305831     4349       6205          80   \n",
       "\n",
       "   Fatality Rate  \n",
       "0           2.81  \n",
       "1           0.87  \n",
       "2           1.67  \n",
       "3           1.59  \n",
       "4           1.42  "
      ]
     },
     "execution_count": 13,
     "metadata": {},
     "output_type": "execute_result"
    }
   ],
   "source": [
    "#hide\n",
    "df_table.head()"
   ]
  },
  {
   "cell_type": "code",
   "execution_count": 14,
   "metadata": {
    "execution": {
     "iopub.execute_input": "2020-09-13T12:39:42.223936Z",
     "iopub.status.busy": "2020-09-13T12:39:42.223077Z",
     "iopub.status.idle": "2020-09-13T12:39:42.241484Z",
     "shell.execute_reply": "2020-09-13T12:39:42.242095Z"
    },
    "papermill": {
     "duration": 0.044154,
     "end_time": "2020-09-13T12:39:42.242236",
     "exception": false,
     "start_time": "2020-09-13T12:39:42.198082",
     "status": "completed"
    },
    "tags": []
   },
   "outputs": [
    {
     "data": {
      "text/plain": [
       "{'updated': '2020-09-13',\n",
       " 'since': '2020-09-12',\n",
       " 'Cases': 4770563,\n",
       " 'PCases': 4751788,\n",
       " 'Deaths': 78770,\n",
       " 'PDeaths': 78614,\n",
       " 'Cases (+)': 18775,\n",
       " 'Deaths (+)': 156}"
      ]
     },
     "execution_count": 14,
     "metadata": {},
     "output_type": "execute_result"
    }
   ],
   "source": [
    "#hide\n",
    "summary = {'updated':dates[-1], 'since':dates[-2]}\n",
    "list_names = ['Cases', 'PCases', 'Deaths', 'PDeaths', 'Cases (+)', 'Deaths (+)']\n",
    "for name in list_names:\n",
    "    summary[name] = df_table.sum()[name]\n",
    "summary"
   ]
  },
  {
   "cell_type": "code",
   "execution_count": 15,
   "metadata": {
    "execution": {
     "iopub.execute_input": "2020-09-13T12:39:42.284915Z",
     "iopub.status.busy": "2020-09-13T12:39:42.284331Z",
     "iopub.status.idle": "2020-09-13T12:39:42.286196Z",
     "shell.execute_reply": "2020-09-13T12:39:42.286712Z"
    },
    "papermill": {
     "duration": 0.025347,
     "end_time": "2020-09-13T12:39:42.286857",
     "exception": false,
     "start_time": "2020-09-13T12:39:42.261510",
     "status": "completed"
    },
    "tags": []
   },
   "outputs": [],
   "source": [
    "#hide\n",
    "overview = '''\n",
    "<!-- #######  HTML!! #########-->\n",
    "<h1 style=\"color: #5e9ca0; text-align: center;\">India</h1>\n",
    "<p style=\"text-align: center;\">Last update: <strong>{update}</strong></p>\n",
    "<p style=\"text-align: center;\">Confirmed cases:</p>\n",
    "<p style=\"text-align: center;font-size:24px;\">{cases} (<span style=\"color: #ff0000;\">+{new}</span>)</p>\n",
    "<p style=\"text-align: center;\">Confirmed deaths:</p>\n",
    "<p style=\"text-align: center;font-size:24px;\">{deaths} (<span style=\"color: #ff0000;\">+{dnew}</span>)</p>\n",
    "'''"
   ]
  },
  {
   "cell_type": "code",
   "execution_count": 16,
   "metadata": {
    "execution": {
     "iopub.execute_input": "2020-09-13T12:39:42.336498Z",
     "iopub.status.busy": "2020-09-13T12:39:42.335797Z",
     "iopub.status.idle": "2020-09-13T12:39:42.339151Z",
     "shell.execute_reply": "2020-09-13T12:39:42.339699Z"
    },
    "papermill": {
     "duration": 0.03171,
     "end_time": "2020-09-13T12:39:42.339841",
     "exception": false,
     "start_time": "2020-09-13T12:39:42.308131",
     "status": "completed"
    },
    "tags": []
   },
   "outputs": [
    {
     "data": {
      "text/html": [
       "\n",
       "<!-- #######  HTML!! #########-->\n",
       "<h1 style=\"color: #5e9ca0; text-align: center;\">India</h1>\n",
       "<p style=\"text-align: center;\">Last update: <strong>2020-09-13</strong></p>\n",
       "<p style=\"text-align: center;\">Confirmed cases:</p>\n",
       "<p style=\"text-align: center;font-size:24px;\">4770563 (<span style=\"color: #ff0000;\">+18775</span>)</p>\n",
       "<p style=\"text-align: center;\">Confirmed deaths:</p>\n",
       "<p style=\"text-align: center;font-size:24px;\">78770 (<span style=\"color: #ff0000;\">+156</span>)</p>\n"
      ],
      "text/plain": [
       "<IPython.core.display.HTML object>"
      ]
     },
     "metadata": {},
     "output_type": "display_data"
    }
   ],
   "source": [
    "#hide_input\n",
    "update = summary['updated']\n",
    "cases = summary['Cases']\n",
    "new = summary['Cases (+)']\n",
    "deaths = summary['Deaths']\n",
    "dnew = summary['Deaths (+)']\n",
    "\n",
    "html = HTML(overview.format(update=update, cases=cases,new=new,deaths=deaths,dnew=dnew))\n",
    "\n",
    "display(html)"
   ]
  },
  {
   "cell_type": "code",
   "execution_count": 17,
   "metadata": {
    "execution": {
     "iopub.execute_input": "2020-09-13T12:39:42.389756Z",
     "iopub.status.busy": "2020-09-13T12:39:42.389072Z",
     "iopub.status.idle": "2020-09-13T12:39:42.394302Z",
     "shell.execute_reply": "2020-09-13T12:39:42.394832Z"
    },
    "papermill": {
     "duration": 0.034274,
     "end_time": "2020-09-13T12:39:42.394977",
     "exception": false,
     "start_time": "2020-09-13T12:39:42.360703",
     "status": "completed"
    },
    "tags": []
   },
   "outputs": [],
   "source": [
    "#hide\n",
    "dt_cols = list(dft_cases.columns[1:])\n",
    "dft_ct_new_cases = dft_cases.groupby('state')[dt_cols].sum().diff(axis=1).fillna(0).astype(int)\n",
    "dft_ct_new_cases.sort_values(by = dates[-1], ascending = False,inplace = True)"
   ]
  },
  {
   "cell_type": "code",
   "execution_count": 18,
   "metadata": {
    "execution": {
     "iopub.execute_input": "2020-09-13T12:39:42.455214Z",
     "iopub.status.busy": "2020-09-13T12:39:42.454548Z",
     "iopub.status.idle": "2020-09-13T12:39:42.458247Z",
     "shell.execute_reply": "2020-09-13T12:39:42.458791Z"
    },
    "papermill": {
     "duration": 0.044622,
     "end_time": "2020-09-13T12:39:42.458995",
     "exception": false,
     "start_time": "2020-09-13T12:39:42.414373",
     "status": "completed"
    },
    "tags": []
   },
   "outputs": [
    {
     "data": {
      "text/html": [
       "<div>\n",
       "<style scoped>\n",
       "    .dataframe tbody tr th:only-of-type {\n",
       "        vertical-align: middle;\n",
       "    }\n",
       "\n",
       "    .dataframe tbody tr th {\n",
       "        vertical-align: top;\n",
       "    }\n",
       "\n",
       "    .dataframe thead th {\n",
       "        text-align: right;\n",
       "    }\n",
       "</style>\n",
       "<table border=\"1\" class=\"dataframe\">\n",
       "  <thead>\n",
       "    <tr style=\"text-align: right;\">\n",
       "      <th>states</th>\n",
       "      <th>2020-07-01</th>\n",
       "      <th>2020-07-02</th>\n",
       "      <th>2020-07-03</th>\n",
       "      <th>2020-07-04</th>\n",
       "      <th>2020-07-05</th>\n",
       "      <th>2020-07-06</th>\n",
       "      <th>2020-07-07</th>\n",
       "      <th>2020-07-08</th>\n",
       "      <th>2020-07-09</th>\n",
       "      <th>2020-07-10</th>\n",
       "      <th>...</th>\n",
       "      <th>2020-09-04</th>\n",
       "      <th>2020-09-05</th>\n",
       "      <th>2020-09-06</th>\n",
       "      <th>2020-09-07</th>\n",
       "      <th>2020-09-08</th>\n",
       "      <th>2020-09-09</th>\n",
       "      <th>2020-09-10</th>\n",
       "      <th>2020-09-11</th>\n",
       "      <th>2020-09-12</th>\n",
       "      <th>2020-09-13</th>\n",
       "    </tr>\n",
       "    <tr>\n",
       "      <th>state</th>\n",
       "      <th></th>\n",
       "      <th></th>\n",
       "      <th></th>\n",
       "      <th></th>\n",
       "      <th></th>\n",
       "      <th></th>\n",
       "      <th></th>\n",
       "      <th></th>\n",
       "      <th></th>\n",
       "      <th></th>\n",
       "      <th></th>\n",
       "      <th></th>\n",
       "      <th></th>\n",
       "      <th></th>\n",
       "      <th></th>\n",
       "      <th></th>\n",
       "      <th></th>\n",
       "      <th></th>\n",
       "      <th></th>\n",
       "      <th></th>\n",
       "      <th></th>\n",
       "    </tr>\n",
       "  </thead>\n",
       "  <tbody>\n",
       "    <tr>\n",
       "      <th>Uttar Pradesh</th>\n",
       "      <td>0</td>\n",
       "      <td>769</td>\n",
       "      <td>972</td>\n",
       "      <td>757</td>\n",
       "      <td>1153</td>\n",
       "      <td>929</td>\n",
       "      <td>1332</td>\n",
       "      <td>1188</td>\n",
       "      <td>1206</td>\n",
       "      <td>1338</td>\n",
       "      <td>...</td>\n",
       "      <td>6074</td>\n",
       "      <td>6590</td>\n",
       "      <td>6518</td>\n",
       "      <td>5568</td>\n",
       "      <td>6622</td>\n",
       "      <td>6568</td>\n",
       "      <td>6988</td>\n",
       "      <td>7016</td>\n",
       "      <td>6786</td>\n",
       "      <td>6205</td>\n",
       "    </tr>\n",
       "    <tr>\n",
       "      <th>Delhi</th>\n",
       "      <td>0</td>\n",
       "      <td>2373</td>\n",
       "      <td>2520</td>\n",
       "      <td>2505</td>\n",
       "      <td>2244</td>\n",
       "      <td>1379</td>\n",
       "      <td>2008</td>\n",
       "      <td>2033</td>\n",
       "      <td>2187</td>\n",
       "      <td>2089</td>\n",
       "      <td>...</td>\n",
       "      <td>2914</td>\n",
       "      <td>2973</td>\n",
       "      <td>3256</td>\n",
       "      <td>2077</td>\n",
       "      <td>3609</td>\n",
       "      <td>4039</td>\n",
       "      <td>4308</td>\n",
       "      <td>4266</td>\n",
       "      <td>4321</td>\n",
       "      <td>4235</td>\n",
       "    </tr>\n",
       "    <tr>\n",
       "      <th>Odisha</th>\n",
       "      <td>0</td>\n",
       "      <td>229</td>\n",
       "      <td>561</td>\n",
       "      <td>495</td>\n",
       "      <td>469</td>\n",
       "      <td>456</td>\n",
       "      <td>571</td>\n",
       "      <td>527</td>\n",
       "      <td>577</td>\n",
       "      <td>755</td>\n",
       "      <td>...</td>\n",
       "      <td>3267</td>\n",
       "      <td>3543</td>\n",
       "      <td>3810</td>\n",
       "      <td>3861</td>\n",
       "      <td>3490</td>\n",
       "      <td>3748</td>\n",
       "      <td>3991</td>\n",
       "      <td>3996</td>\n",
       "      <td>3777</td>\n",
       "      <td>3913</td>\n",
       "    </tr>\n",
       "    <tr>\n",
       "      <th>Telangana</th>\n",
       "      <td>0</td>\n",
       "      <td>1213</td>\n",
       "      <td>1892</td>\n",
       "      <td>1850</td>\n",
       "      <td>1590</td>\n",
       "      <td>1831</td>\n",
       "      <td>1879</td>\n",
       "      <td>1924</td>\n",
       "      <td>1410</td>\n",
       "      <td>1278</td>\n",
       "      <td>...</td>\n",
       "      <td>2478</td>\n",
       "      <td>2511</td>\n",
       "      <td>2574</td>\n",
       "      <td>1802</td>\n",
       "      <td>2392</td>\n",
       "      <td>2479</td>\n",
       "      <td>2534</td>\n",
       "      <td>2426</td>\n",
       "      <td>2278</td>\n",
       "      <td>2216</td>\n",
       "    </tr>\n",
       "    <tr>\n",
       "      <th>Bihar</th>\n",
       "      <td>0</td>\n",
       "      <td>478</td>\n",
       "      <td>426</td>\n",
       "      <td>349</td>\n",
       "      <td>403</td>\n",
       "      <td>280</td>\n",
       "      <td>385</td>\n",
       "      <td>749</td>\n",
       "      <td>704</td>\n",
       "      <td>352</td>\n",
       "      <td>...</td>\n",
       "      <td>1978</td>\n",
       "      <td>1727</td>\n",
       "      <td>1797</td>\n",
       "      <td>1369</td>\n",
       "      <td>1667</td>\n",
       "      <td>1498</td>\n",
       "      <td>1543</td>\n",
       "      <td>1710</td>\n",
       "      <td>1421</td>\n",
       "      <td>1523</td>\n",
       "    </tr>\n",
       "  </tbody>\n",
       "</table>\n",
       "<p>5 rows × 75 columns</p>\n",
       "</div>"
      ],
      "text/plain": [
       "states         2020-07-01  2020-07-02  2020-07-03  2020-07-04  2020-07-05  \\\n",
       "state                                                                       \n",
       "Uttar Pradesh           0         769         972         757        1153   \n",
       "Delhi                   0        2373        2520        2505        2244   \n",
       "Odisha                  0         229         561         495         469   \n",
       "Telangana               0        1213        1892        1850        1590   \n",
       "Bihar                   0         478         426         349         403   \n",
       "\n",
       "states         2020-07-06  2020-07-07  2020-07-08  2020-07-09  2020-07-10  \\\n",
       "state                                                                       \n",
       "Uttar Pradesh         929        1332        1188        1206        1338   \n",
       "Delhi                1379        2008        2033        2187        2089   \n",
       "Odisha                456         571         527         577         755   \n",
       "Telangana            1831        1879        1924        1410        1278   \n",
       "Bihar                 280         385         749         704         352   \n",
       "\n",
       "states         ...  2020-09-04  2020-09-05  2020-09-06  2020-09-07  \\\n",
       "state          ...                                                   \n",
       "Uttar Pradesh  ...        6074        6590        6518        5568   \n",
       "Delhi          ...        2914        2973        3256        2077   \n",
       "Odisha         ...        3267        3543        3810        3861   \n",
       "Telangana      ...        2478        2511        2574        1802   \n",
       "Bihar          ...        1978        1727        1797        1369   \n",
       "\n",
       "states         2020-09-08  2020-09-09  2020-09-10  2020-09-11  2020-09-12  \\\n",
       "state                                                                       \n",
       "Uttar Pradesh        6622        6568        6988        7016        6786   \n",
       "Delhi                3609        4039        4308        4266        4321   \n",
       "Odisha               3490        3748        3991        3996        3777   \n",
       "Telangana            2392        2479        2534        2426        2278   \n",
       "Bihar                1667        1498        1543        1710        1421   \n",
       "\n",
       "states         2020-09-13  \n",
       "state                      \n",
       "Uttar Pradesh        6205  \n",
       "Delhi                4235  \n",
       "Odisha               3913  \n",
       "Telangana            2216  \n",
       "Bihar                1523  \n",
       "\n",
       "[5 rows x 75 columns]"
      ]
     },
     "execution_count": 18,
     "metadata": {},
     "output_type": "execute_result"
    }
   ],
   "source": [
    "#hide\n",
    "dft_ct_new_cases.head()"
   ]
  },
  {
   "cell_type": "code",
   "execution_count": 19,
   "metadata": {
    "execution": {
     "iopub.execute_input": "2020-09-13T12:39:42.519828Z",
     "iopub.status.busy": "2020-09-13T12:39:42.509935Z",
     "iopub.status.idle": "2020-09-13T12:39:46.715666Z",
     "shell.execute_reply": "2020-09-13T12:39:46.718001Z"
    },
    "papermill": {
     "duration": 4.237556,
     "end_time": "2020-09-13T12:39:46.718219",
     "exception": false,
     "start_time": "2020-09-13T12:39:42.480663",
     "status": "completed"
    },
    "tags": []
   },
   "outputs": [
    {
     "data": {
      "image/png": "[encoded data removed]",
      "text/plain": [
       "<Figure size 1296x2016 with 11 Axes>"
      ]
     },
     "metadata": {
      "needs_background": "light"
     },
     "output_type": "display_data"
    }
   ],
   "source": [
    "#hide_input\n",
    "df = dft_ct_new_cases.copy()\n",
    "df.loc['Total'] = df.sum()\n",
    "n = 5\n",
    "ax = []\n",
    "fig = plt.figure(figsize = (18,28))\n",
    "gs = fig.add_gridspec(n+2, 5)\n",
    "# gs = fig.add_gridspec(2, 3)\n",
    "ax1 = fig.add_subplot(gs[0, :])\n",
    "ef = df.loc['Total'].rename_axis('date').reset_index()\n",
    "ef['date'] = ef['date'].astype('datetime64[ns]')\n",
    "ax1.bar(ef.date,ef.Total,alpha=0.3,color='#007acc')\n",
    "ax1.plot(ef.date,ef.Total , marker=\"o\", color='#007acc')\n",
    "ax1.xaxis.set_major_locator(mdates.WeekdayLocator())\n",
    "ax1.xaxis.set_major_formatter(mdates.DateFormatter('%b %d'))\n",
    "ax1.text(0.02, 0.5,'India daily case count', transform = ax1.transAxes, fontsize=25);\n",
    "ax1.spines['right'].set_visible(False)\n",
    "ax1.spines['top'].set_visible(False)\n",
    "\n",
    "ax2 = fig.add_subplot(gs[1,0])\n",
    "ef = df.loc['Maharashtra'].rename_axis('date').reset_index()\n",
    "ef['date'] = ef['date'].astype('datetime64[ns]')\n",
    "\n",
    "ax2.bar(ef.date, ef.Maharashtra,color = '#007acc',alpha=0.5)\n",
    "ax2.xaxis.set_major_locator(mdates.WeekdayLocator())\n",
    "ax2.xaxis.set_major_formatter(mdates.DateFormatter('%b %d'))\n",
    "ax2.set_xticks(ax2.get_xticks()[::3])\n",
    "maxyval = ef.Maharashtra.max()\n",
    "ax2.set_ylim([0,maxyval])\n",
    "ax2.text(0.05, 0.9,'Maharashtra', transform = ax2.transAxes, fontsize=20);\n",
    "ax2.spines['right'].set_visible(False)\n",
    "ax2.spines['top'].set_visible(False)\n",
    "\n",
    "\n",
    "ax3 = fig.add_subplot(gs[1,1])\n",
    "ef = df.loc['Tamil Nadu'].rename_axis('date').reset_index()\n",
    "ef['date'] = ef['date'].astype('datetime64[ns]')\n",
    "ax3.bar(ef.date, ef['Tamil Nadu'],color = '#007acc',alpha=0.5,)\n",
    "ax3.xaxis.set_major_locator(mdates.WeekdayLocator())\n",
    "ax3.xaxis.set_major_formatter(mdates.DateFormatter('%b %d'))\n",
    "ax3.set_xticks(ax3.get_xticks()[::3])\n",
    "ax3.text(0.05, 0.9,'Tamil Nadu', transform = ax3.transAxes, fontsize=20);\n",
    "ax3.spines['right'].set_visible(False)\n",
    "ax3.spines['top'].set_visible(False)\n",
    "\n",
    "ax5 = fig.add_subplot(gs[1,3])\n",
    "ef = df.loc['Telangana'].rename_axis('date').reset_index()\n",
    "ef['date'] = ef['date'].astype('datetime64[ns]')\n",
    "ax5.bar(ef.date, ef['Telangana'],color = '#007acc',alpha=0.5,)\n",
    "ax5.xaxis.set_major_locator(mdates.WeekdayLocator())\n",
    "ax5.xaxis.set_major_formatter(mdates.DateFormatter('%b %d'))\n",
    "ax5.set_xticks(ax5.get_xticks()[::3])\n",
    "ax5.text(0.05, 0.9,'Telangana', transform = ax5.transAxes, fontsize=20);\n",
    "ax5.spines['right'].set_visible(False)\n",
    "ax5.spines['top'].set_visible(False)\n",
    "\n",
    "ax6 = fig.add_subplot(gs[1,4])\n",
    "ef = df.loc['Andhra Pradesh'].rename_axis('date').reset_index()\n",
    "ef['date'] = ef['date'].astype('datetime64[ns]')\n",
    "ax6.bar(ef.date, ef['Andhra Pradesh'],color = '#007acc',alpha=0.5,)\n",
    "ax6.xaxis.set_major_locator(mdates.WeekdayLocator())\n",
    "ax6.xaxis.set_major_formatter(mdates.DateFormatter('%b %d'))\n",
    "ax6.set_xticks(ax6.get_xticks()[::3])\n",
    "ax6.text(0.05, 1,'Andhra Pradesh', transform = ax6.transAxes, fontsize=20);\n",
    "ax6.spines['right'].set_visible(False)\n",
    "ax6.spines['top'].set_visible(False)\n",
    "\n",
    "ax4 = fig.add_subplot(gs[1,2])\n",
    "ef = df.loc['Delhi'].rename_axis('date').reset_index()\n",
    "ef['date'] = ef['date'].astype('datetime64[ns]')\n",
    "ax4.bar(ef.date, ef.Delhi,color = '#007acc',alpha=0.5)\n",
    "ax4.set_xticks([])\n",
    "ax4.xaxis.set_major_locator(mdates.WeekdayLocator())\n",
    "ax4.xaxis.set_major_formatter(mdates.DateFormatter('%b %d'))\n",
    "ax4.set_xticks(ax4.get_xticks()[::3])\n",
    "ax4.spines['right'].set_visible(False)\n",
    "ax4.spines['top'].set_visible(False)\n",
    "\n",
    "ax4.text(0.05, 1,'Delhi', transform = ax4.transAxes, fontsize=20)\n",
    "\n",
    "for i in range(n):\n",
    "    \n",
    "    ax.append(fig.add_subplot(gs[i+2,:]))\n",
    "    ef = df.iloc[i+3].rename_axis('date').reset_index()\n",
    "    ef['date'] = ef['date'].astype('datetime64[ns]')\n",
    "    ax[i].bar(ef.date,ef.iloc[:,-1],color = '#007acc',alpha=0.3)\n",
    "    ax[i].plot(ef.date,ef.iloc[:,-1],marker='o',color='#007acc')\n",
    "    ax[i].text(0.02,0.5,f'{ef.columns.values[-1]}',transform = ax[i].transAxes, fontsize = 20);\n",
    "    ax[i].xaxis.set_major_locator(mdates.WeekdayLocator())\n",
    "    ax[i].xaxis.set_major_formatter(mdates.DateFormatter('%b %d'))\n",
    "    ax[i].set_ylim([0,7000])\n",
    "    ax[i].spines['right'].set_visible(False)\n",
    "    ax[i].spines['top'].set_visible(False)\n",
    "plt.tight_layout()\n"
   ]
  },
  {
   "cell_type": "code",
   "execution_count": 20,
   "metadata": {
    "execution": {
     "iopub.execute_input": "2020-09-13T12:39:46.780964Z",
     "iopub.status.busy": "2020-09-13T12:39:46.780272Z",
     "iopub.status.idle": "2020-09-13T12:39:46.782644Z",
     "shell.execute_reply": "2020-09-13T12:39:46.783270Z"
    },
    "papermill": {
     "duration": 0.035944,
     "end_time": "2020-09-13T12:39:46.783426",
     "exception": false,
     "start_time": "2020-09-13T12:39:46.747482",
     "status": "completed"
    },
    "tags": []
   },
   "outputs": [
    {
     "name": "stdout",
     "output_type": "stream",
     "text": [
      "                                   states    Cases  Deaths   PCases  PDeaths  Cases (+)  Deaths (+)  Fatality Rate\n",
      "                              Maharashtra  1037765   29115  1037765    29115          0           0           2.81\n",
      "                           Andhra Pradesh   557587    4846   557587     4846          0           0           0.87\n",
      "                               Tamil Nadu   497066    8307   497066     8307          0           0           1.67\n",
      "                                Karnataka   449551    7161   449551     7161          0           0           1.59\n",
      "                            Uttar Pradesh   312036    4429   305831     4349       6205          80           1.42\n",
      "                                    Delhi   218304    4744   214069     4715       4235          29           2.17\n",
      "                              West Bengal   199493    3887   199493     3887          0           0           1.95\n",
      "                                    Bihar   158389     822   156866      808       1523          14           0.52\n",
      "                                Telangana   157096     961   154880      950       2216          11           0.61\n",
      "                                   Odisha   150807     679   146894      669       3913          10           0.45\n",
      "                                    Assam   140471     453   140471      453          0           0           0.32\n",
      "                                  Gujarat   112336    3196   112336     3196          0           0           2.85\n",
      "                                   Kerala   105140     426   105140      426          0           0           0.41\n",
      "                                Rajasthan   100705    1221   100705     1221          0           0           1.21\n",
      "                                  Haryana    91115     956    91115      956          0           0           1.05\n",
      "                           Madhya Pradesh    85966    1728    85966     1728          0           0           2.01\n",
      "                                   Punjab    77057    2288    77057     2288          0           0           2.97\n",
      "                             Chhattisgarh    61763     539    61763      539          0           0           0.87\n",
      "                                Jharkhand    60460     542    60460      542          0           0           0.90\n",
      "                        Jammu and Kashmir    52410     864    52410      864          0           0           1.65\n",
      "                              Uttarakhand    30336     402    30336      402          0           0           1.33\n",
      "                                      Goa    24185     286    24185      286          0           0           1.18\n",
      "                               Puducherry    19445     370    19445      370          0           0           1.90\n",
      "                                  Tripura    18929     194    18300      182        629          12           1.02\n",
      "                         Himachal Pradesh     9229      72     9229       72          0           0           0.78\n",
      "                                  Manipur     7731      45     7731       45          0           0           0.58\n",
      "                               Chandigarh     7542      89     7542       89          0           0           1.18\n",
      "                        Arunachal Pradesh     5961      10     5961       10          0           0           0.17\n",
      "                                 Nagaland     5083       8     5064        8         19           0           0.16\n",
      "                                Meghalaya     3615      25     3615       25          0           0           0.69\n",
      "              Andaman and Nicobar Islands     3521      51     3521       51          0           0           1.45\n",
      "                                   Ladakh     3294      39     3294       39          0           0           1.18\n",
      " Dadra and Nagar Haveli and Daman and Diu     2706       2     2706        2          0           0           0.07\n",
      "                                   Sikkim     2055      13     2055       13          0           0           0.63\n",
      "                                  Mizoram     1414       0     1379        0         35           0           0.00\n",
      "                              Lakshadweep        0       0        0        0          0           0            NaN\n"
     ]
    }
   ],
   "source": [
    "#hide_input\n",
    "print(df_table.to_string(index=False))"
   ]
  },
  {
   "cell_type": "code",
   "execution_count": null,
   "metadata": {
    "papermill": {
     "duration": 0.024707,
     "end_time": "2020-09-13T12:39:46.832561",
     "exception": false,
     "start_time": "2020-09-13T12:39:46.807854",
     "status": "completed"
    },
    "tags": []
   },
   "outputs": [],
   "source": []
  },
  {
   "cell_type": "code",
   "execution_count": null,
   "metadata": {
    "papermill": {
     "duration": 0.025546,
     "end_time": "2020-09-13T12:39:46.883271",
     "exception": false,
     "start_time": "2020-09-13T12:39:46.857725",
     "status": "completed"
    },
    "tags": []
   },
   "outputs": [],
   "source": []
  }
 ],
 "metadata": {
  "kernelspec": {
   "display_name": "Python 3",
   "language": "python",
   "name": "python3"
  },
  "language_info": {
   "codemirror_mode": {
    "name": "ipython",
    "version": 3
   },
   "file_extension": ".py",
   "mimetype": "text/x-python",
   "name": "python",
   "nbconvert_exporter": "python",
   "pygments_lexer": "ipython3",
   "version": "3.6.12"
  },
  "papermill": {
   "duration": 11.33518,
   "end_time": "2020-09-13T12:39:48.114054",
   "environment_variables": {},
   "exception": null,
   "input_path": "latest.ipynb",
   "output_path": "latest.ipynb",
   "parameters": {},
   "start_time": "2020-09-13T12:39:36.778874",
   "version": "2.1.2"
  }
 },
 "nbformat": 4,
 "nbformat_minor": 4
}