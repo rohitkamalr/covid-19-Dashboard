{
 "cells": [
  {
   "cell_type": "markdown",
   "id": "colored-stack",
   "metadata": {
    "papermill": {
     "duration": 0.024046,
     "end_time": "2021-02-14T12:57:29.189860",
     "exception": false,
     "start_time": "2021-02-14T12:57:29.165814",
     "status": "completed"
    },
    "tags": []
   },
   "source": [
    "# Latest COVID-19 India Matplotlib Overview"
   ]
  },
  {
   "cell_type": "code",
   "execution_count": 1,
   "id": "light-proportion",
   "metadata": {
    "execution": {
     "iopub.execute_input": "2021-02-14T12:57:29.242469Z",
     "iopub.status.busy": "2021-02-14T12:57:29.241717Z",
     "iopub.status.idle": "2021-02-14T12:57:29.900837Z",
     "shell.execute_reply": "2021-02-14T12:57:29.900246Z"
    },
    "papermill": {
     "duration": 0.691116,
     "end_time": "2021-02-14T12:57:29.901003",
     "exception": false,
     "start_time": "2021-02-14T12:57:29.209887",
     "status": "completed"
    },
    "tags": []
   },
   "outputs": [],
   "source": [
    "#hide\n",
    "import pandas as pd\n",
    "import numpy as np\n",
    "import requests\n",
    "import json\n",
    "import matplotlib.pyplot as plt\n",
    "import matplotlib.dates as mdates\n",
    "import matplotlib as mpl\n",
    "from IPython.core.display import display,HTML\n",
    "%matplotlib inline\n",
    "from datetime import date"
   ]
  },
  {
   "cell_type": "code",
   "execution_count": 2,
   "id": "greenhouse-shooting",
   "metadata": {
    "execution": {
     "iopub.execute_input": "2021-02-14T12:57:29.949633Z",
     "iopub.status.busy": "2021-02-14T12:57:29.948554Z",
     "iopub.status.idle": "2021-02-14T12:57:30.073386Z",
     "shell.execute_reply": "2021-02-14T12:57:30.072749Z"
    },
    "papermill": {
     "duration": 0.152847,
     "end_time": "2021-02-14T12:57:30.073549",
     "exception": false,
     "start_time": "2021-02-14T12:57:29.920702",
     "status": "completed"
    },
    "tags": []
   },
   "outputs": [],
   "source": [
    "#hide\n",
    "df  = pd.read_csv('https://api.covid19india.org/csv/latest/states.csv')\n",
    "df = df[['Date','State','Confirmed','Deceased']]\n",
    "df = df.rename(columns={'Confirmed':'Cases', \"Deceased\":'Deaths'})\n",
    "df_cases = df[[\"Date\",'State','Cases']]\n",
    "df_deaths = df[['Date','State','Deaths']]\n",
    "df_cases1 = df_cases.groupby('Date')\n",
    "df_deaths1= df_deaths.groupby('Date')"
   ]
  },
  {
   "cell_type": "code",
   "execution_count": 3,
   "id": "hybrid-cathedral",
   "metadata": {
    "execution": {
     "iopub.execute_input": "2021-02-14T12:57:30.119500Z",
     "iopub.status.busy": "2021-02-14T12:57:30.118824Z",
     "iopub.status.idle": "2021-02-14T12:57:30.138867Z",
     "shell.execute_reply": "2021-02-14T12:57:30.138104Z"
    },
    "papermill": {
     "duration": 0.045894,
     "end_time": "2021-02-14T12:57:30.139013",
     "exception": false,
     "start_time": "2021-02-14T12:57:30.093119",
     "status": "completed"
    },
    "tags": []
   },
   "outputs": [],
   "source": [
    "#hide\n",
    "df_snap = pd.read_csv('data/SnapshotCases-28-July.csv')\n",
    "arr_states = df_snap['states'].unique()\n",
    "arr_dates = df['Date'].unique()\n",
    "df_snap = df_snap.set_index('states')"
   ]
  },
  {
   "cell_type": "code",
   "execution_count": 4,
   "id": "interior-belfast",
   "metadata": {
    "execution": {
     "iopub.execute_input": "2021-02-14T12:57:30.186010Z",
     "iopub.status.busy": "2021-02-14T12:57:30.185239Z",
     "iopub.status.idle": "2021-02-14T12:57:30.188831Z",
     "shell.execute_reply": "2021-02-14T12:57:30.188128Z"
    },
    "papermill": {
     "duration": 0.030388,
     "end_time": "2021-02-14T12:57:30.188966",
     "exception": false,
     "start_time": "2021-02-14T12:57:30.158578",
     "status": "completed"
    },
    "tags": []
   },
   "outputs": [
    {
     "data": {
      "text/plain": [
       "array(['Andaman and Nicobar Islands', 'Andhra Pradesh',\n",
       "       'Arunachal Pradesh', 'Assam', 'Bihar', 'Chandigarh',\n",
       "       'Dadra and Nagar Haveli and Daman and Diu', 'Delhi', 'Goa',\n",
       "       'Gujarat', 'Haryana', 'Himachal Pradesh', 'Jammu and Kashmir',\n",
       "       'Jharkhand', 'Karnataka', 'Kerala', 'Lakshadweep',\n",
       "       'Madhya Pradesh', 'Maharashtra', 'Manipur', 'Meghalaya', 'Mizoram',\n",
       "       'Nagaland', 'Odisha', 'Puducherry', 'Punjab', 'Rajasthan',\n",
       "       'Sikkim', 'Tamil Nadu', 'Telangana', 'Tripura', 'Uttar Pradesh',\n",
       "       'West Bengal', 'Chhattisgarh', 'Ladakh', 'Uttarakhand'],\n",
       "      dtype=object)"
      ]
     },
     "execution_count": 4,
     "metadata": {},
     "output_type": "execute_result"
    }
   ],
   "source": [
    "#hide\n",
    "arr_states[-9] = 'Puducherry'\n",
    "arr_states[-10] = 'Odisha'\n",
    "arr_states[6] = 'Dadra and Nagar Haveli and Daman and Diu'\n",
    "arr_states = np.append(arr_states,np.array(['Chhattisgarh','Ladakh','Uttarakhand']))\n",
    "arr_states"
   ]
  },
  {
   "cell_type": "code",
   "execution_count": 5,
   "id": "behind-manner",
   "metadata": {
    "execution": {
     "iopub.execute_input": "2021-02-14T12:57:30.242663Z",
     "iopub.status.busy": "2021-02-14T12:57:30.242003Z",
     "iopub.status.idle": "2021-02-14T12:57:30.251374Z",
     "shell.execute_reply": "2021-02-14T12:57:30.252132Z"
    },
    "papermill": {
     "duration": 0.042855,
     "end_time": "2021-02-14T12:57:30.252412",
     "exception": false,
     "start_time": "2021-02-14T12:57:30.209557",
     "status": "completed"
    },
    "tags": []
   },
   "outputs": [],
   "source": [
    "#hide\n",
    "dates = []\n",
    "for i in arr_dates:\n",
    "    if i>='2020-07-01':\n",
    "        dates.append(i)\n",
    "dict = {'states':dates}\n",
    "for i in arr_states:\n",
    "    dict[i] = [0]*len(dates)\n",
    "dft_cases = pd.DataFrame(dict)\n",
    "dft_deaths = pd.DataFrame(dict)\n"
   ]
  },
  {
   "cell_type": "code",
   "execution_count": 6,
   "id": "simplified-peter",
   "metadata": {
    "execution": {
     "iopub.execute_input": "2021-02-14T12:57:30.302097Z",
     "iopub.status.busy": "2021-02-14T12:57:30.301370Z",
     "iopub.status.idle": "2021-02-14T12:57:34.843636Z",
     "shell.execute_reply": "2021-02-14T12:57:34.843024Z"
    },
    "papermill": {
     "duration": 4.569337,
     "end_time": "2021-02-14T12:57:34.843811",
     "exception": false,
     "start_time": "2021-02-14T12:57:30.274474",
     "status": "completed"
    },
    "tags": []
   },
   "outputs": [],
   "source": [
    "#hide\n",
    "for i in range(len(dates)):\n",
    "    df1_deaths = df_deaths1.get_group(dates[i])\n",
    "    for j in range(len(df1_deaths.index)):\n",
    "        if df1_deaths.iloc[j,1] in arr_states:\n",
    "            dft_deaths.loc[i,df1_deaths.iloc[j,1]] = df1_deaths.iloc[j,2]\n",
    "dft_deaths = dft_deaths.set_index('states')"
   ]
  },
  {
   "cell_type": "code",
   "execution_count": 7,
   "id": "geological-welding",
   "metadata": {
    "execution": {
     "iopub.execute_input": "2021-02-14T12:57:34.890577Z",
     "iopub.status.busy": "2021-02-14T12:57:34.889910Z",
     "iopub.status.idle": "2021-02-14T12:57:39.414495Z",
     "shell.execute_reply": "2021-02-14T12:57:39.413890Z"
    },
    "papermill": {
     "duration": 4.550668,
     "end_time": "2021-02-14T12:57:39.414647",
     "exception": false,
     "start_time": "2021-02-14T12:57:34.863979",
     "status": "completed"
    },
    "tags": []
   },
   "outputs": [],
   "source": [
    "#hide\n",
    "for i in range(len(dates)):\n",
    "    df1_cases = df_cases1.get_group(dates[i])\n",
    "    for j in range(len(df1_cases.index)):\n",
    "        if df1_cases.iloc[j,1] in arr_states:\n",
    "            dft_cases.loc[i,df1_cases.iloc[j,1]] = df1_cases.iloc[j,2]\n",
    "dft_cases = dft_cases.set_index('states')"
   ]
  },
  {
   "cell_type": "code",
   "execution_count": 8,
   "id": "binary-ratio",
   "metadata": {
    "execution": {
     "iopub.execute_input": "2021-02-14T12:57:39.460628Z",
     "iopub.status.busy": "2021-02-14T12:57:39.459926Z",
     "iopub.status.idle": "2021-02-14T12:57:39.462511Z",
     "shell.execute_reply": "2021-02-14T12:57:39.461802Z"
    },
    "papermill": {
     "duration": 0.02759,
     "end_time": "2021-02-14T12:57:39.462624",
     "exception": false,
     "start_time": "2021-02-14T12:57:39.435034",
     "status": "completed"
    },
    "tags": []
   },
   "outputs": [],
   "source": [
    "#hide\n",
    "dft_cases = dft_cases.T\n",
    "dft_deaths = dft_deaths.T\n",
    "dt_today = dates[-1]\n",
    "dt_yday = dates[-2]"
   ]
  },
  {
   "cell_type": "code",
   "execution_count": 9,
   "id": "boolean-calculator",
   "metadata": {
    "execution": {
     "iopub.execute_input": "2021-02-14T12:57:39.506601Z",
     "iopub.status.busy": "2021-02-14T12:57:39.505915Z",
     "iopub.status.idle": "2021-02-14T12:57:39.510951Z",
     "shell.execute_reply": "2021-02-14T12:57:39.511596Z"
    },
    "papermill": {
     "duration": 0.030414,
     "end_time": "2021-02-14T12:57:39.511735",
     "exception": false,
     "start_time": "2021-02-14T12:57:39.481321",
     "status": "completed"
    },
    "tags": []
   },
   "outputs": [],
   "source": [
    "#hide\n",
    "dft_cases = dft_cases.reset_index()\n",
    "dft_deaths = dft_deaths.reset_index()\n",
    "dft_cases = dft_cases.rename(columns = {'index':'state'})\n",
    "dft_deaths = dft_deaths.rename(columns = {'index':'state'})"
   ]
  },
  {
   "cell_type": "code",
   "execution_count": 10,
   "id": "invisible-johnston",
   "metadata": {
    "execution": {
     "iopub.execute_input": "2021-02-14T12:57:39.557077Z",
     "iopub.status.busy": "2021-02-14T12:57:39.556384Z",
     "iopub.status.idle": "2021-02-14T12:57:39.565908Z",
     "shell.execute_reply": "2021-02-14T12:57:39.565335Z"
    },
    "papermill": {
     "duration": 0.034451,
     "end_time": "2021-02-14T12:57:39.566036",
     "exception": false,
     "start_time": "2021-02-14T12:57:39.531585",
     "status": "completed"
    },
    "tags": []
   },
   "outputs": [],
   "source": [
    "#hide\n",
    "dfc_cases = dft_cases.groupby('state')[dt_today].sum()\n",
    "dfc_deaths = dft_deaths.groupby('state')[dt_today].sum()\n",
    "dfp_cases = dft_cases.groupby('state')[dt_yday].sum()\n",
    "dfp_deaths = dft_deaths.groupby('state')[dt_yday].sum()"
   ]
  },
  {
   "cell_type": "code",
   "execution_count": 11,
   "id": "measured-great",
   "metadata": {
    "execution": {
     "iopub.execute_input": "2021-02-14T12:57:39.626372Z",
     "iopub.status.busy": "2021-02-14T12:57:39.621483Z",
     "iopub.status.idle": "2021-02-14T12:57:39.630511Z",
     "shell.execute_reply": "2021-02-14T12:57:39.631379Z"
    },
    "papermill": {
     "duration": 0.04553,
     "end_time": "2021-02-14T12:57:39.631515",
     "exception": false,
     "start_time": "2021-02-14T12:57:39.585985",
     "status": "completed"
    },
    "tags": []
   },
   "outputs": [
    {
     "data": {
      "text/html": [
       "<div>\n",
       "<style scoped>\n",
       "    .dataframe tbody tr th:only-of-type {\n",
       "        vertical-align: middle;\n",
       "    }\n",
       "\n",
       "    .dataframe tbody tr th {\n",
       "        vertical-align: top;\n",
       "    }\n",
       "\n",
       "    .dataframe thead th {\n",
       "        text-align: right;\n",
       "    }\n",
       "</style>\n",
       "<table border=\"1\" class=\"dataframe\">\n",
       "  <thead>\n",
       "    <tr style=\"text-align: right;\">\n",
       "      <th></th>\n",
       "      <th>states</th>\n",
       "      <th>Cases</th>\n",
       "      <th>Deaths</th>\n",
       "      <th>PCases</th>\n",
       "      <th>PDeaths</th>\n",
       "    </tr>\n",
       "  </thead>\n",
       "  <tbody>\n",
       "    <tr>\n",
       "      <th>0</th>\n",
       "      <td>Maharashtra</td>\n",
       "      <td>2060186</td>\n",
       "      <td>51489</td>\n",
       "      <td>2060186</td>\n",
       "      <td>51489</td>\n",
       "    </tr>\n",
       "    <tr>\n",
       "      <th>1</th>\n",
       "      <td>Kerala</td>\n",
       "      <td>999524</td>\n",
       "      <td>3971</td>\n",
       "      <td>999524</td>\n",
       "      <td>3971</td>\n",
       "    </tr>\n",
       "    <tr>\n",
       "      <th>2</th>\n",
       "      <td>Karnataka</td>\n",
       "      <td>944856</td>\n",
       "      <td>12263</td>\n",
       "      <td>944856</td>\n",
       "      <td>12263</td>\n",
       "    </tr>\n",
       "    <tr>\n",
       "      <th>3</th>\n",
       "      <td>Andhra Pradesh</td>\n",
       "      <td>888814</td>\n",
       "      <td>7162</td>\n",
       "      <td>888814</td>\n",
       "      <td>7162</td>\n",
       "    </tr>\n",
       "    <tr>\n",
       "      <th>4</th>\n",
       "      <td>Tamil Nadu</td>\n",
       "      <td>844650</td>\n",
       "      <td>12413</td>\n",
       "      <td>844650</td>\n",
       "      <td>12413</td>\n",
       "    </tr>\n",
       "  </tbody>\n",
       "</table>\n",
       "</div>"
      ],
      "text/plain": [
       "           states    Cases  Deaths   PCases  PDeaths\n",
       "0     Maharashtra  2060186   51489  2060186    51489\n",
       "1          Kerala   999524    3971   999524     3971\n",
       "2       Karnataka   944856   12263   944856    12263\n",
       "3  Andhra Pradesh   888814    7162   888814     7162\n",
       "4      Tamil Nadu   844650   12413   844650    12413"
      ]
     },
     "execution_count": 11,
     "metadata": {},
     "output_type": "execute_result"
    }
   ],
   "source": [
    "#hide\n",
    "df_table = pd.DataFrame({'states': dfc_cases.index, 'Cases': dfc_cases.values, 'Deaths': dfc_deaths.values, 'PCases': dfp_cases.values, 'PDeaths': dfp_deaths.values}).set_index('states')\n",
    "df_table = df_table.sort_values(by = ['Cases','Deaths'], ascending = [False, False])\n",
    "df_table = df_table.reset_index()\n",
    "df_table.head()"
   ]
  },
  {
   "cell_type": "code",
   "execution_count": 12,
   "id": "found-montreal",
   "metadata": {
    "execution": {
     "iopub.execute_input": "2021-02-14T12:57:39.677857Z",
     "iopub.status.busy": "2021-02-14T12:57:39.677146Z",
     "iopub.status.idle": "2021-02-14T12:57:39.687462Z",
     "shell.execute_reply": "2021-02-14T12:57:39.686832Z"
    },
    "papermill": {
     "duration": 0.036215,
     "end_time": "2021-02-14T12:57:39.687616",
     "exception": false,
     "start_time": "2021-02-14T12:57:39.651401",
     "status": "completed"
    },
    "tags": []
   },
   "outputs": [],
   "source": [
    "#hide\n",
    "for c in 'Cases, Deaths'.split(', '):\n",
    "    df_table[f'{c} (+)'] = (df_table[c] - df_table[f'P{c}']).clip(0)\n",
    "df_table['Fatality Rate'] = (100* df_table['Deaths']/ df_table['Cases']).round(2)"
   ]
  },
  {
   "cell_type": "code",
   "execution_count": 13,
   "id": "minus-savage",
   "metadata": {
    "execution": {
     "iopub.execute_input": "2021-02-14T12:57:39.741358Z",
     "iopub.status.busy": "2021-02-14T12:57:39.740656Z",
     "iopub.status.idle": "2021-02-14T12:57:39.744321Z",
     "shell.execute_reply": "2021-02-14T12:57:39.743656Z"
    },
    "papermill": {
     "duration": 0.036099,
     "end_time": "2021-02-14T12:57:39.744457",
     "exception": false,
     "start_time": "2021-02-14T12:57:39.708358",
     "status": "completed"
    },
    "tags": []
   },
   "outputs": [
    {
     "data": {
      "text/html": [
       "<div>\n",
       "<style scoped>\n",
       "    .dataframe tbody tr th:only-of-type {\n",
       "        vertical-align: middle;\n",
       "    }\n",
       "\n",
       "    .dataframe tbody tr th {\n",
       "        vertical-align: top;\n",
       "    }\n",
       "\n",
       "    .dataframe thead th {\n",
       "        text-align: right;\n",
       "    }\n",
       "</style>\n",
       "<table border=\"1\" class=\"dataframe\">\n",
       "  <thead>\n",
       "    <tr style=\"text-align: right;\">\n",
       "      <th></th>\n",
       "      <th>states</th>\n",
       "      <th>Cases</th>\n",
       "      <th>Deaths</th>\n",
       "      <th>PCases</th>\n",
       "      <th>PDeaths</th>\n",
       "      <th>Cases (+)</th>\n",
       "      <th>Deaths (+)</th>\n",
       "      <th>Fatality Rate</th>\n",
       "    </tr>\n",
       "  </thead>\n",
       "  <tbody>\n",
       "    <tr>\n",
       "      <th>0</th>\n",
       "      <td>Maharashtra</td>\n",
       "      <td>2060186</td>\n",
       "      <td>51489</td>\n",
       "      <td>2060186</td>\n",
       "      <td>51489</td>\n",
       "      <td>0</td>\n",
       "      <td>0</td>\n",
       "      <td>2.50</td>\n",
       "    </tr>\n",
       "    <tr>\n",
       "      <th>1</th>\n",
       "      <td>Kerala</td>\n",
       "      <td>999524</td>\n",
       "      <td>3971</td>\n",
       "      <td>999524</td>\n",
       "      <td>3971</td>\n",
       "      <td>0</td>\n",
       "      <td>0</td>\n",
       "      <td>0.40</td>\n",
       "    </tr>\n",
       "    <tr>\n",
       "      <th>2</th>\n",
       "      <td>Karnataka</td>\n",
       "      <td>944856</td>\n",
       "      <td>12263</td>\n",
       "      <td>944856</td>\n",
       "      <td>12263</td>\n",
       "      <td>0</td>\n",
       "      <td>0</td>\n",
       "      <td>1.30</td>\n",
       "    </tr>\n",
       "    <tr>\n",
       "      <th>3</th>\n",
       "      <td>Andhra Pradesh</td>\n",
       "      <td>888814</td>\n",
       "      <td>7162</td>\n",
       "      <td>888814</td>\n",
       "      <td>7162</td>\n",
       "      <td>0</td>\n",
       "      <td>0</td>\n",
       "      <td>0.81</td>\n",
       "    </tr>\n",
       "    <tr>\n",
       "      <th>4</th>\n",
       "      <td>Tamil Nadu</td>\n",
       "      <td>844650</td>\n",
       "      <td>12413</td>\n",
       "      <td>844650</td>\n",
       "      <td>12413</td>\n",
       "      <td>0</td>\n",
       "      <td>0</td>\n",
       "      <td>1.47</td>\n",
       "    </tr>\n",
       "  </tbody>\n",
       "</table>\n",
       "</div>"
      ],
      "text/plain": [
       "           states    Cases  Deaths   PCases  PDeaths  Cases (+)  Deaths (+)  \\\n",
       "0     Maharashtra  2060186   51489  2060186    51489          0           0   \n",
       "1          Kerala   999524    3971   999524     3971          0           0   \n",
       "2       Karnataka   944856   12263   944856    12263          0           0   \n",
       "3  Andhra Pradesh   888814    7162   888814     7162          0           0   \n",
       "4      Tamil Nadu   844650   12413   844650    12413          0           0   \n",
       "\n",
       "   Fatality Rate  \n",
       "0           2.50  \n",
       "1           0.40  \n",
       "2           1.30  \n",
       "3           0.81  \n",
       "4           1.47  "
      ]
     },
     "execution_count": 13,
     "metadata": {},
     "output_type": "execute_result"
    }
   ],
   "source": [
    "#hide\n",
    "df_table.head()"
   ]
  },
  {
   "cell_type": "code",
   "execution_count": 14,
   "id": "false-peter",
   "metadata": {
    "execution": {
     "iopub.execute_input": "2021-02-14T12:57:39.792217Z",
     "iopub.status.busy": "2021-02-14T12:57:39.791472Z",
     "iopub.status.idle": "2021-02-14T12:57:39.811341Z",
     "shell.execute_reply": "2021-02-14T12:57:39.810770Z"
    },
    "papermill": {
     "duration": 0.046352,
     "end_time": "2021-02-14T12:57:39.811481",
     "exception": false,
     "start_time": "2021-02-14T12:57:39.765129",
     "status": "completed"
    },
    "tags": []
   },
   "outputs": [
    {
     "data": {
      "text/plain": [
       "{'updated': '2021-02-14',\n",
       " 'since': '2021-02-13',\n",
       " 'Cases': 10905113,\n",
       " 'PCases': 10904738,\n",
       " 'Deaths': 155680,\n",
       " 'PDeaths': 155676,\n",
       " 'Cases (+)': 375,\n",
       " 'Deaths (+)': 4}"
      ]
     },
     "execution_count": 14,
     "metadata": {},
     "output_type": "execute_result"
    }
   ],
   "source": [
    "#hide\n",
    "summary = {'updated':dates[-1], 'since':dates[-2]}\n",
    "list_names = ['Cases', 'PCases', 'Deaths', 'PDeaths', 'Cases (+)', 'Deaths (+)']\n",
    "for name in list_names:\n",
    "    summary[name] = df_table.sum()[name]\n",
    "summary"
   ]
  },
  {
   "cell_type": "code",
   "execution_count": 15,
   "id": "packed-viewer",
   "metadata": {
    "execution": {
     "iopub.execute_input": "2021-02-14T12:57:39.859462Z",
     "iopub.status.busy": "2021-02-14T12:57:39.858760Z",
     "iopub.status.idle": "2021-02-14T12:57:39.861496Z",
     "shell.execute_reply": "2021-02-14T12:57:39.860808Z"
    },
    "papermill": {
     "duration": 0.028529,
     "end_time": "2021-02-14T12:57:39.861688",
     "exception": false,
     "start_time": "2021-02-14T12:57:39.833159",
     "status": "completed"
    },
    "tags": []
   },
   "outputs": [],
   "source": [
    "#hide\n",
    "overview = '''\n",
    "<!-- #######  HTML!! #########-->\n",
    "<h1 style=\"color: #5e9ca0; text-align: center;\">India</h1>\n",
    "<p style=\"text-align: center;\">Last update: <strong>{update}</strong></p>\n",
    "<p style=\"text-align: center;\">Confirmed cases:</p>\n",
    "<p style=\"text-align: center;font-size:24px;\">{cases} (<span style=\"color: #ff0000;\">+{new}</span>)</p>\n",
    "<p style=\"text-align: center;\">Confirmed deaths:</p>\n",
    "<p style=\"text-align: center;font-size:24px;\">{deaths} (<span style=\"color: #ff0000;\">+{dnew}</span>)</p>\n",
    "'''"
   ]
  },
  {
   "cell_type": "code",
   "execution_count": 16,
   "id": "phantom-lover",
   "metadata": {
    "execution": {
     "iopub.execute_input": "2021-02-14T12:57:39.910635Z",
     "iopub.status.busy": "2021-02-14T12:57:39.909945Z",
     "iopub.status.idle": "2021-02-14T12:57:39.913207Z",
     "shell.execute_reply": "2021-02-14T12:57:39.913784Z"
    },
    "papermill": {
     "duration": 0.03097,
     "end_time": "2021-02-14T12:57:39.913947",
     "exception": false,
     "start_time": "2021-02-14T12:57:39.882977",
     "status": "completed"
    },
    "tags": []
   },
   "outputs": [
    {
     "data": {
      "text/html": [
       "\n",
       "<!-- #######  HTML!! #########-->\n",
       "<h1 style=\"color: #5e9ca0; text-align: center;\">India</h1>\n",
       "<p style=\"text-align: center;\">Last update: <strong>2021-02-14</strong></p>\n",
       "<p style=\"text-align: center;\">Confirmed cases:</p>\n",
       "<p style=\"text-align: center;font-size:24px;\">10905113 (<span style=\"color: #ff0000;\">+375</span>)</p>\n",
       "<p style=\"text-align: center;\">Confirmed deaths:</p>\n",
       "<p style=\"text-align: center;font-size:24px;\">155680 (<span style=\"color: #ff0000;\">+4</span>)</p>\n"
      ],
      "text/plain": [
       "<IPython.core.display.HTML object>"
      ]
     },
     "metadata": {},
     "output_type": "display_data"
    }
   ],
   "source": [
    "#hide_input\n",
    "update = summary['updated']\n",
    "cases = summary['Cases']\n",
    "new = summary['Cases (+)']\n",
    "deaths = summary['Deaths']\n",
    "dnew = summary['Deaths (+)']\n",
    "\n",
    "html = HTML(overview.format(update=update, cases=cases,new=new,deaths=deaths,dnew=dnew))\n",
    "\n",
    "display(html)"
   ]
  },
  {
   "cell_type": "code",
   "execution_count": 17,
   "id": "sealed-reset",
   "metadata": {
    "execution": {
     "iopub.execute_input": "2021-02-14T12:57:39.963836Z",
     "iopub.status.busy": "2021-02-14T12:57:39.963062Z",
     "iopub.status.idle": "2021-02-14T12:57:39.972797Z",
     "shell.execute_reply": "2021-02-14T12:57:39.972208Z"
    },
    "papermill": {
     "duration": 0.037284,
     "end_time": "2021-02-14T12:57:39.972928",
     "exception": false,
     "start_time": "2021-02-14T12:57:39.935644",
     "status": "completed"
    },
    "tags": []
   },
   "outputs": [],
   "source": [
    "#hide\n",
    "dt_cols = list(dft_cases.columns[1:])\n",
    "dft_ct_new_cases = dft_cases.groupby('state')[dt_cols].sum().diff(axis=1).fillna(0).astype(int)\n",
    "dft_ct_new_cases.sort_values(by = dates[-1], ascending = False,inplace = True)"
   ]
  },
  {
   "cell_type": "code",
   "execution_count": 18,
   "id": "designed-constant",
   "metadata": {
    "execution": {
     "iopub.execute_input": "2021-02-14T12:57:40.036400Z",
     "iopub.status.busy": "2021-02-14T12:57:40.035644Z",
     "iopub.status.idle": "2021-02-14T12:57:40.039334Z",
     "shell.execute_reply": "2021-02-14T12:57:40.038611Z"
    },
    "papermill": {
     "duration": 0.044737,
     "end_time": "2021-02-14T12:57:40.039467",
     "exception": false,
     "start_time": "2021-02-14T12:57:39.994730",
     "status": "completed"
    },
    "tags": []
   },
   "outputs": [
    {
     "data": {
      "text/html": [
       "<div>\n",
       "<style scoped>\n",
       "    .dataframe tbody tr th:only-of-type {\n",
       "        vertical-align: middle;\n",
       "    }\n",
       "\n",
       "    .dataframe tbody tr th {\n",
       "        vertical-align: top;\n",
       "    }\n",
       "\n",
       "    .dataframe thead th {\n",
       "        text-align: right;\n",
       "    }\n",
       "</style>\n",
       "<table border=\"1\" class=\"dataframe\">\n",
       "  <thead>\n",
       "    <tr style=\"text-align: right;\">\n",
       "      <th>states</th>\n",
       "      <th>2020-07-01</th>\n",
       "      <th>2020-07-02</th>\n",
       "      <th>2020-07-03</th>\n",
       "      <th>2020-07-04</th>\n",
       "      <th>2020-07-05</th>\n",
       "      <th>2020-07-06</th>\n",
       "      <th>2020-07-07</th>\n",
       "      <th>2020-07-08</th>\n",
       "      <th>2020-07-09</th>\n",
       "      <th>2020-07-10</th>\n",
       "      <th>...</th>\n",
       "      <th>2021-02-05</th>\n",
       "      <th>2021-02-06</th>\n",
       "      <th>2021-02-07</th>\n",
       "      <th>2021-02-08</th>\n",
       "      <th>2021-02-09</th>\n",
       "      <th>2021-02-10</th>\n",
       "      <th>2021-02-11</th>\n",
       "      <th>2021-02-12</th>\n",
       "      <th>2021-02-13</th>\n",
       "      <th>2021-02-14</th>\n",
       "    </tr>\n",
       "    <tr>\n",
       "      <th>state</th>\n",
       "      <th></th>\n",
       "      <th></th>\n",
       "      <th></th>\n",
       "      <th></th>\n",
       "      <th></th>\n",
       "      <th></th>\n",
       "      <th></th>\n",
       "      <th></th>\n",
       "      <th></th>\n",
       "      <th></th>\n",
       "      <th></th>\n",
       "      <th></th>\n",
       "      <th></th>\n",
       "      <th></th>\n",
       "      <th></th>\n",
       "      <th></th>\n",
       "      <th></th>\n",
       "      <th></th>\n",
       "      <th></th>\n",
       "      <th></th>\n",
       "      <th></th>\n",
       "    </tr>\n",
       "  </thead>\n",
       "  <tbody>\n",
       "    <tr>\n",
       "      <th>Delhi</th>\n",
       "      <td>0</td>\n",
       "      <td>2373</td>\n",
       "      <td>2520</td>\n",
       "      <td>2505</td>\n",
       "      <td>2244</td>\n",
       "      <td>1379</td>\n",
       "      <td>2008</td>\n",
       "      <td>2033</td>\n",
       "      <td>2187</td>\n",
       "      <td>2089</td>\n",
       "      <td>...</td>\n",
       "      <td>154</td>\n",
       "      <td>123</td>\n",
       "      <td>119</td>\n",
       "      <td>125</td>\n",
       "      <td>100</td>\n",
       "      <td>127</td>\n",
       "      <td>142</td>\n",
       "      <td>141</td>\n",
       "      <td>126</td>\n",
       "      <td>150</td>\n",
       "    </tr>\n",
       "    <tr>\n",
       "      <th>Telangana</th>\n",
       "      <td>0</td>\n",
       "      <td>1213</td>\n",
       "      <td>1892</td>\n",
       "      <td>1850</td>\n",
       "      <td>1590</td>\n",
       "      <td>1831</td>\n",
       "      <td>1879</td>\n",
       "      <td>1924</td>\n",
       "      <td>1410</td>\n",
       "      <td>1278</td>\n",
       "      <td>...</td>\n",
       "      <td>169</td>\n",
       "      <td>161</td>\n",
       "      <td>150</td>\n",
       "      <td>101</td>\n",
       "      <td>149</td>\n",
       "      <td>157</td>\n",
       "      <td>146</td>\n",
       "      <td>143</td>\n",
       "      <td>144</td>\n",
       "      <td>146</td>\n",
       "    </tr>\n",
       "    <tr>\n",
       "      <th>Odisha</th>\n",
       "      <td>0</td>\n",
       "      <td>229</td>\n",
       "      <td>561</td>\n",
       "      <td>495</td>\n",
       "      <td>469</td>\n",
       "      <td>456</td>\n",
       "      <td>571</td>\n",
       "      <td>527</td>\n",
       "      <td>577</td>\n",
       "      <td>755</td>\n",
       "      <td>...</td>\n",
       "      <td>97</td>\n",
       "      <td>82</td>\n",
       "      <td>72</td>\n",
       "      <td>72</td>\n",
       "      <td>105</td>\n",
       "      <td>92</td>\n",
       "      <td>95</td>\n",
       "      <td>58</td>\n",
       "      <td>59</td>\n",
       "      <td>73</td>\n",
       "    </tr>\n",
       "    <tr>\n",
       "      <th>Nagaland</th>\n",
       "      <td>0</td>\n",
       "      <td>34</td>\n",
       "      <td>4</td>\n",
       "      <td>24</td>\n",
       "      <td>27</td>\n",
       "      <td>35</td>\n",
       "      <td>19</td>\n",
       "      <td>13</td>\n",
       "      <td>16</td>\n",
       "      <td>59</td>\n",
       "      <td>...</td>\n",
       "      <td>5</td>\n",
       "      <td>22</td>\n",
       "      <td>10</td>\n",
       "      <td>2</td>\n",
       "      <td>6</td>\n",
       "      <td>2</td>\n",
       "      <td>7</td>\n",
       "      <td>1</td>\n",
       "      <td>7</td>\n",
       "      <td>6</td>\n",
       "    </tr>\n",
       "    <tr>\n",
       "      <th>Andaman and Nicobar Islands</th>\n",
       "      <td>0</td>\n",
       "      <td>9</td>\n",
       "      <td>7</td>\n",
       "      <td>3</td>\n",
       "      <td>6</td>\n",
       "      <td>16</td>\n",
       "      <td>6</td>\n",
       "      <td>2</td>\n",
       "      <td>7</td>\n",
       "      <td>0</td>\n",
       "      <td>...</td>\n",
       "      <td>3</td>\n",
       "      <td>3</td>\n",
       "      <td>1</td>\n",
       "      <td>4</td>\n",
       "      <td>2</td>\n",
       "      <td>0</td>\n",
       "      <td>0</td>\n",
       "      <td>0</td>\n",
       "      <td>2</td>\n",
       "      <td>0</td>\n",
       "    </tr>\n",
       "  </tbody>\n",
       "</table>\n",
       "<p>5 rows × 229 columns</p>\n",
       "</div>"
      ],
      "text/plain": [
       "states                       2020-07-01  2020-07-02  2020-07-03  2020-07-04  \\\n",
       "state                                                                         \n",
       "Delhi                                 0        2373        2520        2505   \n",
       "Telangana                             0        1213        1892        1850   \n",
       "Odisha                                0         229         561         495   \n",
       "Nagaland                              0          34           4          24   \n",
       "Andaman and Nicobar Islands           0           9           7           3   \n",
       "\n",
       "states                       2020-07-05  2020-07-06  2020-07-07  2020-07-08  \\\n",
       "state                                                                         \n",
       "Delhi                              2244        1379        2008        2033   \n",
       "Telangana                          1590        1831        1879        1924   \n",
       "Odisha                              469         456         571         527   \n",
       "Nagaland                             27          35          19          13   \n",
       "Andaman and Nicobar Islands           6          16           6           2   \n",
       "\n",
       "states                       2020-07-09  2020-07-10  ...  2021-02-05  \\\n",
       "state                                                ...               \n",
       "Delhi                              2187        2089  ...         154   \n",
       "Telangana                          1410        1278  ...         169   \n",
       "Odisha                              577         755  ...          97   \n",
       "Nagaland                             16          59  ...           5   \n",
       "Andaman and Nicobar Islands           7           0  ...           3   \n",
       "\n",
       "states                       2021-02-06  2021-02-07  2021-02-08  2021-02-09  \\\n",
       "state                                                                         \n",
       "Delhi                               123         119         125         100   \n",
       "Telangana                           161         150         101         149   \n",
       "Odisha                               82          72          72         105   \n",
       "Nagaland                             22          10           2           6   \n",
       "Andaman and Nicobar Islands           3           1           4           2   \n",
       "\n",
       "states                       2021-02-10  2021-02-11  2021-02-12  2021-02-13  \\\n",
       "state                                                                         \n",
       "Delhi                               127         142         141         126   \n",
       "Telangana                           157         146         143         144   \n",
       "Odisha                               92          95          58          59   \n",
       "Nagaland                              2           7           1           7   \n",
       "Andaman and Nicobar Islands           0           0           0           2   \n",
       "\n",
       "states                       2021-02-14  \n",
       "state                                    \n",
       "Delhi                               150  \n",
       "Telangana                           146  \n",
       "Odisha                               73  \n",
       "Nagaland                              6  \n",
       "Andaman and Nicobar Islands           0  \n",
       "\n",
       "[5 rows x 229 columns]"
      ]
     },
     "execution_count": 18,
     "metadata": {},
     "output_type": "execute_result"
    }
   ],
   "source": [
    "#hide\n",
    "dft_ct_new_cases.head()"
   ]
  },
  {
   "cell_type": "code",
   "execution_count": 19,
   "id": "responsible-nightlife",
   "metadata": {
    "execution": {
     "iopub.execute_input": "2021-02-14T12:57:40.102824Z",
     "iopub.status.busy": "2021-02-14T12:57:40.092424Z",
     "iopub.status.idle": "2021-02-14T12:57:50.404791Z",
     "shell.execute_reply": "2021-02-14T12:57:50.404213Z"
    },
    "papermill": {
     "duration": 10.343193,
     "end_time": "2021-02-14T12:57:50.404948",
     "exception": false,
     "start_time": "2021-02-14T12:57:40.061755",
     "status": "completed"
    },
    "tags": []
   },
   "outputs": [
    {
     "data": {
      "image/png": "[encoded data removed]",
      "text/plain": [
       "<Figure size 1296x2016 with 11 Axes>"
      ]
     },
     "metadata": {
      "needs_background": "light"
     },
     "output_type": "display_data"
    }
   ],
   "source": [
    "#hide_input\n",
    "df = dft_ct_new_cases.copy()\n",
    "df.loc['Total'] = df.sum()\n",
    "n = 5\n",
    "ax = []\n",
    "fig = plt.figure(figsize = (18,28))\n",
    "gs = fig.add_gridspec(n+2, 5)\n",
    "# gs = fig.add_gridspec(2, 3)\n",
    "ax1 = fig.add_subplot(gs[0, :])\n",
    "ef = df.loc['Total'].rename_axis('date').reset_index()\n",
    "ef['date'] = ef['date'].astype('datetime64[ns]')\n",
    "ax1.bar(ef.date,ef.Total,alpha=0.3,color='#007acc')\n",
    "ax1.plot(ef.date,ef.Total , marker=\"o\", color='#007acc')\n",
    "ax1.xaxis.set_major_locator(mdates.WeekdayLocator())\n",
    "ax1.xaxis.set_major_formatter(mdates.DateFormatter('%b %d'))\n",
    "ax1.text(0.02, 0.5,'India daily case count', transform = ax1.transAxes, fontsize=25);\n",
    "ax1.spines['right'].set_visible(False)\n",
    "ax1.spines['top'].set_visible(False)\n",
    "\n",
    "ax2 = fig.add_subplot(gs[1,0])\n",
    "ef = df.loc['Maharashtra'].rename_axis('date').reset_index()\n",
    "ef['date'] = ef['date'].astype('datetime64[ns]')\n",
    "\n",
    "ax2.bar(ef.date, ef.Maharashtra,color = '#007acc',alpha=0.5)\n",
    "ax2.xaxis.set_major_locator(mdates.WeekdayLocator())\n",
    "ax2.xaxis.set_major_formatter(mdates.DateFormatter('%b %d'))\n",
    "ax2.set_xticks(ax2.get_xticks()[::3])\n",
    "maxyval = ef.Maharashtra.max()\n",
    "ax2.set_ylim([0,maxyval])\n",
    "ax2.text(0.05, 0.9,'Maharashtra', transform = ax2.transAxes, fontsize=20);\n",
    "ax2.spines['right'].set_visible(False)\n",
    "ax2.spines['top'].set_visible(False)\n",
    "\n",
    "\n",
    "ax3 = fig.add_subplot(gs[1,1])\n",
    "ef = df.loc['Tamil Nadu'].rename_axis('date').reset_index()\n",
    "ef['date'] = ef['date'].astype('datetime64[ns]')\n",
    "ax3.bar(ef.date, ef['Tamil Nadu'],color = '#007acc',alpha=0.5,)\n",
    "ax3.xaxis.set_major_locator(mdates.WeekdayLocator())\n",
    "ax3.xaxis.set_major_formatter(mdates.DateFormatter('%b %d'))\n",
    "ax3.set_xticks(ax3.get_xticks()[::3])\n",
    "ax3.text(0.05, 0.9,'Tamil Nadu', transform = ax3.transAxes, fontsize=20);\n",
    "ax3.spines['right'].set_visible(False)\n",
    "ax3.spines['top'].set_visible(False)\n",
    "\n",
    "ax5 = fig.add_subplot(gs[1,3])\n",
    "ef = df.loc['Telangana'].rename_axis('date').reset_index()\n",
    "ef['date'] = ef['date'].astype('datetime64[ns]')\n",
    "ax5.bar(ef.date, ef['Telangana'],color = '#007acc',alpha=0.5,)\n",
    "ax5.xaxis.set_major_locator(mdates.WeekdayLocator())\n",
    "ax5.xaxis.set_major_formatter(mdates.DateFormatter('%b %d'))\n",
    "ax5.set_xticks(ax5.get_xticks()[::3])\n",
    "ax5.text(0.05, 0.9,'Telangana', transform = ax5.transAxes, fontsize=20);\n",
    "ax5.spines['right'].set_visible(False)\n",
    "ax5.spines['top'].set_visible(False)\n",
    "\n",
    "ax6 = fig.add_subplot(gs[1,4])\n",
    "ef = df.loc['Andhra Pradesh'].rename_axis('date').reset_index()\n",
    "ef['date'] = ef['date'].astype('datetime64[ns]')\n",
    "ax6.bar(ef.date, ef['Andhra Pradesh'],color = '#007acc',alpha=0.5,)\n",
    "ax6.xaxis.set_major_locator(mdates.WeekdayLocator())\n",
    "ax6.xaxis.set_major_formatter(mdates.DateFormatter('%b %d'))\n",
    "ax6.set_xticks(ax6.get_xticks()[::3])\n",
    "ax6.text(0.05, 1,'Andhra Pradesh', transform = ax6.transAxes, fontsize=20);\n",
    "ax6.spines['right'].set_visible(False)\n",
    "ax6.spines['top'].set_visible(False)\n",
    "\n",
    "ax4 = fig.add_subplot(gs[1,2])\n",
    "ef = df.loc['Delhi'].rename_axis('date').reset_index()\n",
    "ef['date'] = ef['date'].astype('datetime64[ns]')\n",
    "ax4.bar(ef.date, ef.Delhi,color = '#007acc',alpha=0.5)\n",
    "ax4.set_xticks([])\n",
    "ax4.xaxis.set_major_locator(mdates.WeekdayLocator())\n",
    "ax4.xaxis.set_major_formatter(mdates.DateFormatter('%b %d'))\n",
    "ax4.set_xticks(ax4.get_xticks()[::3])\n",
    "ax4.spines['right'].set_visible(False)\n",
    "ax4.spines['top'].set_visible(False)\n",
    "\n",
    "ax4.text(0.05, 1,'Delhi', transform = ax4.transAxes, fontsize=20)\n",
    "\n",
    "for i in range(n):\n",
    "    \n",
    "    ax.append(fig.add_subplot(gs[i+2,:]))\n",
    "    ef = df.iloc[i+3].rename_axis('date').reset_index()\n",
    "    ef['date'] = ef['date'].astype('datetime64[ns]')\n",
    "    ax[i].bar(ef.date,ef.iloc[:,-1],color = '#007acc',alpha=0.3)\n",
    "    ax[i].plot(ef.date,ef.iloc[:,-1],marker='o',color='#007acc')\n",
    "    ax[i].text(0.02,0.5,f'{ef.columns.values[-1]}',transform = ax[i].transAxes, fontsize = 20);\n",
    "    ax[i].xaxis.set_major_locator(mdates.WeekdayLocator())\n",
    "    ax[i].xaxis.set_major_formatter(mdates.DateFormatter('%b %d'))\n",
    "    ax[i].set_ylim([0,7000])\n",
    "    ax[i].spines['right'].set_visible(False)\n",
    "    ax[i].spines['top'].set_visible(False)\n",
    "plt.tight_layout()\n"
   ]
  },
  {
   "cell_type": "code",
   "execution_count": 20,
   "id": "dress-forge",
   "metadata": {
    "execution": {
     "iopub.execute_input": "2021-02-14T12:57:50.466618Z",
     "iopub.status.busy": "2021-02-14T12:57:50.459795Z",
     "iopub.status.idle": "2021-02-14T12:57:50.470451Z",
     "shell.execute_reply": "2021-02-14T12:57:50.469749Z"
    },
    "papermill": {
     "duration": 0.038982,
     "end_time": "2021-02-14T12:57:50.470581",
     "exception": false,
     "start_time": "2021-02-14T12:57:50.431599",
     "status": "completed"
    },
    "tags": []
   },
   "outputs": [
    {
     "name": "stdout",
     "output_type": "stream",
     "text": [
      "                                   states    Cases  Deaths   PCases  PDeaths  Cases (+)  Deaths (+)  Fatality Rate\n",
      "                              Maharashtra  2060186   51489  2060186    51489          0           0           2.50\n",
      "                                   Kerala   999524    3971   999524     3971          0           0           0.40\n",
      "                                Karnataka   944856   12263   944856    12263          0           0           1.30\n",
      "                           Andhra Pradesh   888814    7162   888814     7162          0           0           0.81\n",
      "                               Tamil Nadu   844650   12413   844650    12413          0           0           1.47\n",
      "                                    Delhi   636946   10891   636796    10889        150           2           1.71\n",
      "                            Uttar Pradesh   602089    8699   602089     8699          0           0           1.44\n",
      "                              West Bengal   572405   10230   572405    10230          0           0           1.79\n",
      "                                   Odisha   336174    1963   336101     1963         73           0           0.58\n",
      "                                Rajasthan   318820    2781   318820     2781          0           0           0.87\n",
      "                             Chhattisgarh   308930    3771   308930     3771          0           0           1.22\n",
      "                                Telangana   296567    1616   296421     1614        146           2           0.54\n",
      "                                  Haryana   268969    3039   268969     3039          0           0           1.13\n",
      "                                  Gujarat   264997    4400   264997     4400          0           0           1.66\n",
      "                                    Bihar   261690    1524   261690     1524          0           0           0.58\n",
      "                           Madhya Pradesh   257423    3829   257423     3829          0           0           1.49\n",
      "                                    Assam   217285    1086   217285     1086          0           0           0.50\n",
      "                                   Punjab   176064    5694   176064     5694          0           0           3.23\n",
      "                        Jammu and Kashmir   125268    1949   125268     1949          0           0           1.56\n",
      "                                Jharkhand   119283    1082   119283     1082          0           0           0.91\n",
      "                              Uttarakhand    96766    1680    96766     1680          0           0           1.74\n",
      "                         Himachal Pradesh    58201     979    58201      979          0           0           1.68\n",
      "                                      Goa    54193     778    54193      778          0           0           1.44\n",
      "                               Puducherry    39440     656    39440      656          0           0           1.66\n",
      "                                  Tripura    33350     388    33350      388          0           0           1.16\n",
      "                                  Manipur    29183     373    29183      373          0           0           1.28\n",
      "                               Chandigarh    21194     344    21194      344          0           0           1.62\n",
      "                        Arunachal Pradesh    16832      56    16832       56          0           0           0.33\n",
      "                                Meghalaya    13937     148    13937      148          0           0           1.06\n",
      "                                 Nagaland    12189      88    12183       88          6           0           0.72\n",
      "                                   Ladakh     9765     130     9765      130          0           0           1.33\n",
      "                                   Sikkim     6116     135     6116      135          0           0           2.21\n",
      "              Andaman and Nicobar Islands     5009      62     5009       62          0           0           1.24\n",
      "                                  Mizoram     4392       9     4392        9          0           0           0.20\n",
      " Dadra and Nagar Haveli and Daman and Diu     3382       2     3382        2          0           0           0.06\n",
      "                              Lakshadweep      224       0      224        0          0           0           0.00\n"
     ]
    }
   ],
   "source": [
    "#hide_input\n",
    "print(df_table.to_string(index=False))"
   ]
  },
  {
   "cell_type": "code",
   "execution_count": null,
   "id": "quantitative-legend",
   "metadata": {
    "papermill": {
     "duration": 0.025967,
     "end_time": "2021-02-14T12:57:50.522768",
     "exception": false,
     "start_time": "2021-02-14T12:57:50.496801",
     "status": "completed"
    },
    "tags": []
   },
   "outputs": [],
   "source": []
  },
  {
   "cell_type": "code",
   "execution_count": null,
   "id": "distant-acoustic",
   "metadata": {
    "papermill": {
     "duration": 0.025571,
     "end_time": "2021-02-14T12:57:50.573377",
     "exception": false,
     "start_time": "2021-02-14T12:57:50.547806",
     "status": "completed"
    },
    "tags": []
   },
   "outputs": [],
   "source": []
  }
 ],
 "metadata": {
  "kernelspec": {
   "display_name": "Python 3",
   "language": "python",
   "name": "python3"
  },
  "language_info": {
   "codemirror_mode": {
    "name": "ipython",
    "version": 3
   },
   "file_extension": ".py",
   "mimetype": "text/x-python",
   "name": "python",
   "nbconvert_exporter": "python",
   "pygments_lexer": "ipython3",
   "version": "3.6.12"
  },
  "papermill": {
   "duration": 23.084435,
   "end_time": "2021-02-14T12:57:51.107724",
   "environment_variables": {},
   "exception": null,
   "input_path": "latest.ipynb",
   "output_path": "latest.ipynb",
   "parameters": {},
   "start_time": "2021-02-14T12:57:28.023289",
   "version": "2.1.2"
  }
 },
 "nbformat": 4,
 "nbformat_minor": 5
}