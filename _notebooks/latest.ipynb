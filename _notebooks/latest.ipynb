{
 "cells": [
  {
   "cell_type": "markdown",
   "metadata": {
    "papermill": {
     "duration": 0.017885,
     "end_time": "2020-11-05T13:51:56.739869",
     "exception": false,
     "start_time": "2020-11-05T13:51:56.721984",
     "status": "completed"
    },
    "tags": []
   },
   "source": [
    "# Latest COVID-19 India Matplotlib Overview"
   ]
  },
  {
   "cell_type": "code",
   "execution_count": 1,
   "metadata": {
    "execution": {
     "iopub.execute_input": "2020-11-05T13:51:56.775589Z",
     "iopub.status.busy": "2020-11-05T13:51:56.774965Z",
     "iopub.status.idle": "2020-11-05T13:51:57.390232Z",
     "shell.execute_reply": "2020-11-05T13:51:57.389393Z"
    },
    "papermill": {
     "duration": 0.635796,
     "end_time": "2020-11-05T13:51:57.390463",
     "exception": false,
     "start_time": "2020-11-05T13:51:56.754667",
     "status": "completed"
    },
    "tags": []
   },
   "outputs": [],
   "source": [
    "#hide\n",
    "import pandas as pd\n",
    "import numpy as np\n",
    "import requests\n",
    "import json\n",
    "import matplotlib.pyplot as plt\n",
    "import matplotlib.dates as mdates\n",
    "import matplotlib as mpl\n",
    "from IPython.core.display import display,HTML\n",
    "%matplotlib inline\n",
    "from datetime import date"
   ]
  },
  {
   "cell_type": "code",
   "execution_count": 2,
   "metadata": {
    "execution": {
     "iopub.execute_input": "2020-11-05T13:51:57.425535Z",
     "iopub.status.busy": "2020-11-05T13:51:57.424927Z",
     "iopub.status.idle": "2020-11-05T13:51:57.602688Z",
     "shell.execute_reply": "2020-11-05T13:51:57.601778Z"
    },
    "papermill": {
     "duration": 0.196149,
     "end_time": "2020-11-05T13:51:57.602901",
     "exception": false,
     "start_time": "2020-11-05T13:51:57.406752",
     "status": "completed"
    },
    "tags": []
   },
   "outputs": [],
   "source": [
    "#hide\n",
    "df  = pd.read_csv('https://api.covid19india.org/csv/latest/states.csv')\n",
    "df = df[['Date','State','Confirmed','Deceased']]\n",
    "df = df.rename(columns={'Confirmed':'Cases', \"Deceased\":'Deaths'})\n",
    "df_cases = df[[\"Date\",'State','Cases']]\n",
    "df_deaths = df[['Date','State','Deaths']]\n",
    "df_cases1 = df_cases.groupby('Date')\n",
    "df_deaths1= df_deaths.groupby('Date')"
   ]
  },
  {
   "cell_type": "code",
   "execution_count": 3,
   "metadata": {
    "execution": {
     "iopub.execute_input": "2020-11-05T13:51:57.641254Z",
     "iopub.status.busy": "2020-11-05T13:51:57.640578Z",
     "iopub.status.idle": "2020-11-05T13:51:57.661741Z",
     "shell.execute_reply": "2020-11-05T13:51:57.661085Z"
    },
    "papermill": {
     "duration": 0.042104,
     "end_time": "2020-11-05T13:51:57.661918",
     "exception": false,
     "start_time": "2020-11-05T13:51:57.619814",
     "status": "completed"
    },
    "tags": []
   },
   "outputs": [],
   "source": [
    "#hide\n",
    "df_snap = pd.read_csv('data/SnapshotCases-28-July.csv')\n",
    "arr_states = df_snap['states'].unique()\n",
    "arr_dates = df['Date'].unique()\n",
    "df_snap = df_snap.set_index('states')"
   ]
  },
  {
   "cell_type": "code",
   "execution_count": 4,
   "metadata": {
    "execution": {
     "iopub.execute_input": "2020-11-05T13:51:57.701038Z",
     "iopub.status.busy": "2020-11-05T13:51:57.700428Z",
     "iopub.status.idle": "2020-11-05T13:51:57.704046Z",
     "shell.execute_reply": "2020-11-05T13:51:57.703032Z"
    },
    "papermill": {
     "duration": 0.026027,
     "end_time": "2020-11-05T13:51:57.704192",
     "exception": false,
     "start_time": "2020-11-05T13:51:57.678165",
     "status": "completed"
    },
    "tags": []
   },
   "outputs": [
    {
     "data": {
      "text/plain": [
       "array(['Andaman and Nicobar Islands', 'Andhra Pradesh',\n",
       "       'Arunachal Pradesh', 'Assam', 'Bihar', 'Chandigarh',\n",
       "       'Dadra and Nagar Haveli and Daman and Diu', 'Delhi', 'Goa',\n",
       "       'Gujarat', 'Haryana', 'Himachal Pradesh', 'Jammu and Kashmir',\n",
       "       'Jharkhand', 'Karnataka', 'Kerala', 'Lakshadweep',\n",
       "       'Madhya Pradesh', 'Maharashtra', 'Manipur', 'Meghalaya', 'Mizoram',\n",
       "       'Nagaland', 'Odisha', 'Puducherry', 'Punjab', 'Rajasthan',\n",
       "       'Sikkim', 'Tamil Nadu', 'Telangana', 'Tripura', 'Uttar Pradesh',\n",
       "       'West Bengal', 'Chhattisgarh', 'Ladakh', 'Uttarakhand'],\n",
       "      dtype=object)"
      ]
     },
     "execution_count": 4,
     "metadata": {},
     "output_type": "execute_result"
    }
   ],
   "source": [
    "#hide\n",
    "arr_states[-9] = 'Puducherry'\n",
    "arr_states[-10] = 'Odisha'\n",
    "arr_states[6] = 'Dadra and Nagar Haveli and Daman and Diu'\n",
    "arr_states = np.append(arr_states,np.array(['Chhattisgarh','Ladakh','Uttarakhand']))\n",
    "arr_states"
   ]
  },
  {
   "cell_type": "code",
   "execution_count": 5,
   "metadata": {
    "execution": {
     "iopub.execute_input": "2020-11-05T13:51:57.749433Z",
     "iopub.status.busy": "2020-11-05T13:51:57.748833Z",
     "iopub.status.idle": "2020-11-05T13:51:57.757300Z",
     "shell.execute_reply": "2020-11-05T13:51:57.756814Z"
    },
    "papermill": {
     "duration": 0.036688,
     "end_time": "2020-11-05T13:51:57.757436",
     "exception": false,
     "start_time": "2020-11-05T13:51:57.720748",
     "status": "completed"
    },
    "tags": []
   },
   "outputs": [],
   "source": [
    "#hide\n",
    "dates = []\n",
    "for i in arr_dates:\n",
    "    if i>='2020-07-01':\n",
    "        dates.append(i)\n",
    "dict = {'states':dates}\n",
    "for i in arr_states:\n",
    "    dict[i] = [0]*len(dates)\n",
    "dft_cases = pd.DataFrame(dict)\n",
    "dft_deaths = pd.DataFrame(dict)\n"
   ]
  },
  {
   "cell_type": "code",
   "execution_count": 6,
   "metadata": {
    "execution": {
     "iopub.execute_input": "2020-11-05T13:51:57.797076Z",
     "iopub.status.busy": "2020-11-05T13:51:57.796466Z",
     "iopub.status.idle": "2020-11-05T13:51:59.667117Z",
     "shell.execute_reply": "2020-11-05T13:51:59.666535Z"
    },
    "papermill": {
     "duration": 1.894599,
     "end_time": "2020-11-05T13:51:59.667268",
     "exception": false,
     "start_time": "2020-11-05T13:51:57.772669",
     "status": "completed"
    },
    "tags": []
   },
   "outputs": [],
   "source": [
    "#hide\n",
    "for i in range(len(dates)):\n",
    "    df1_deaths = df_deaths1.get_group(dates[i])\n",
    "    for j in range(len(df1_deaths.index)):\n",
    "        if df1_deaths.iloc[j,1] in arr_states:\n",
    "            dft_deaths.loc[i,df1_deaths.iloc[j,1]] = df1_deaths.iloc[j,2]\n",
    "dft_deaths = dft_deaths.set_index('states')"
   ]
  },
  {
   "cell_type": "code",
   "execution_count": 7,
   "metadata": {
    "execution": {
     "iopub.execute_input": "2020-11-05T13:51:59.708146Z",
     "iopub.status.busy": "2020-11-05T13:51:59.707522Z",
     "iopub.status.idle": "2020-11-05T13:52:01.563705Z",
     "shell.execute_reply": "2020-11-05T13:52:01.564415Z"
    },
    "papermill": {
     "duration": 1.881351,
     "end_time": "2020-11-05T13:52:01.564623",
     "exception": false,
     "start_time": "2020-11-05T13:51:59.683272",
     "status": "completed"
    },
    "tags": []
   },
   "outputs": [],
   "source": [
    "#hide\n",
    "for i in range(len(dates)):\n",
    "    df1_cases = df_cases1.get_group(dates[i])\n",
    "    for j in range(len(df1_cases.index)):\n",
    "        if df1_cases.iloc[j,1] in arr_states:\n",
    "            dft_cases.loc[i,df1_cases.iloc[j,1]] = df1_cases.iloc[j,2]\n",
    "dft_cases = dft_cases.set_index('states')"
   ]
  },
  {
   "cell_type": "code",
   "execution_count": 8,
   "metadata": {
    "execution": {
     "iopub.execute_input": "2020-11-05T13:52:01.602703Z",
     "iopub.status.busy": "2020-11-05T13:52:01.599312Z",
     "iopub.status.idle": "2020-11-05T13:52:01.605002Z",
     "shell.execute_reply": "2020-11-05T13:52:01.604542Z"
    },
    "papermill": {
     "duration": 0.025055,
     "end_time": "2020-11-05T13:52:01.605122",
     "exception": false,
     "start_time": "2020-11-05T13:52:01.580067",
     "status": "completed"
    },
    "tags": []
   },
   "outputs": [],
   "source": [
    "#hide\n",
    "dft_cases = dft_cases.T\n",
    "dft_deaths = dft_deaths.T\n",
    "dt_today = dates[-1]\n",
    "dt_yday = dates[-2]"
   ]
  },
  {
   "cell_type": "code",
   "execution_count": 9,
   "metadata": {
    "execution": {
     "iopub.execute_input": "2020-11-05T13:52:01.642144Z",
     "iopub.status.busy": "2020-11-05T13:52:01.641559Z",
     "iopub.status.idle": "2020-11-05T13:52:01.647755Z",
     "shell.execute_reply": "2020-11-05T13:52:01.647194Z"
    },
    "papermill": {
     "duration": 0.027825,
     "end_time": "2020-11-05T13:52:01.647890",
     "exception": false,
     "start_time": "2020-11-05T13:52:01.620065",
     "status": "completed"
    },
    "tags": []
   },
   "outputs": [],
   "source": [
    "#hide\n",
    "dft_cases = dft_cases.reset_index()\n",
    "dft_deaths = dft_deaths.reset_index()\n",
    "dft_cases = dft_cases.rename(columns = {'index':'state'})\n",
    "dft_deaths = dft_deaths.rename(columns = {'index':'state'})"
   ]
  },
  {
   "cell_type": "code",
   "execution_count": 10,
   "metadata": {
    "execution": {
     "iopub.execute_input": "2020-11-05T13:52:01.692187Z",
     "iopub.status.busy": "2020-11-05T13:52:01.691530Z",
     "iopub.status.idle": "2020-11-05T13:52:01.694235Z",
     "shell.execute_reply": "2020-11-05T13:52:01.693757Z"
    },
    "papermill": {
     "duration": 0.031501,
     "end_time": "2020-11-05T13:52:01.694351",
     "exception": false,
     "start_time": "2020-11-05T13:52:01.662850",
     "status": "completed"
    },
    "tags": []
   },
   "outputs": [],
   "source": [
    "#hide\n",
    "dfc_cases = dft_cases.groupby('state')[dt_today].sum()\n",
    "dfc_deaths = dft_deaths.groupby('state')[dt_today].sum()\n",
    "dfp_cases = dft_cases.groupby('state')[dt_yday].sum()\n",
    "dfp_deaths = dft_deaths.groupby('state')[dt_yday].sum()"
   ]
  },
  {
   "cell_type": "code",
   "execution_count": 11,
   "metadata": {
    "execution": {
     "iopub.execute_input": "2020-11-05T13:52:01.737081Z",
     "iopub.status.busy": "2020-11-05T13:52:01.736499Z",
     "iopub.status.idle": "2020-11-05T13:52:01.751487Z",
     "shell.execute_reply": "2020-11-05T13:52:01.750939Z"
    },
    "papermill": {
     "duration": 0.041265,
     "end_time": "2020-11-05T13:52:01.751614",
     "exception": false,
     "start_time": "2020-11-05T13:52:01.710349",
     "status": "completed"
    },
    "tags": []
   },
   "outputs": [
    {
     "data": {
      "text/html": [
       "<div>\n",
       "<style scoped>\n",
       "    .dataframe tbody tr th:only-of-type {\n",
       "        vertical-align: middle;\n",
       "    }\n",
       "\n",
       "    .dataframe tbody tr th {\n",
       "        vertical-align: top;\n",
       "    }\n",
       "\n",
       "    .dataframe thead th {\n",
       "        text-align: right;\n",
       "    }\n",
       "</style>\n",
       "<table border=\"1\" class=\"dataframe\">\n",
       "  <thead>\n",
       "    <tr style=\"text-align: right;\">\n",
       "      <th></th>\n",
       "      <th>states</th>\n",
       "      <th>Cases</th>\n",
       "      <th>Deaths</th>\n",
       "      <th>PCases</th>\n",
       "      <th>PDeaths</th>\n",
       "    </tr>\n",
       "  </thead>\n",
       "  <tbody>\n",
       "    <tr>\n",
       "      <th>0</th>\n",
       "      <td>Maharashtra</td>\n",
       "      <td>1698198</td>\n",
       "      <td>44548</td>\n",
       "      <td>1698198</td>\n",
       "      <td>44548</td>\n",
       "    </tr>\n",
       "    <tr>\n",
       "      <th>1</th>\n",
       "      <td>Karnataka</td>\n",
       "      <td>835773</td>\n",
       "      <td>11281</td>\n",
       "      <td>835773</td>\n",
       "      <td>11281</td>\n",
       "    </tr>\n",
       "    <tr>\n",
       "      <th>2</th>\n",
       "      <td>Andhra Pradesh</td>\n",
       "      <td>833208</td>\n",
       "      <td>6744</td>\n",
       "      <td>833208</td>\n",
       "      <td>6744</td>\n",
       "    </tr>\n",
       "    <tr>\n",
       "      <th>3</th>\n",
       "      <td>Tamil Nadu</td>\n",
       "      <td>734429</td>\n",
       "      <td>11244</td>\n",
       "      <td>734429</td>\n",
       "      <td>11244</td>\n",
       "    </tr>\n",
       "    <tr>\n",
       "      <th>4</th>\n",
       "      <td>Uttar Pradesh</td>\n",
       "      <td>489502</td>\n",
       "      <td>7104</td>\n",
       "      <td>489502</td>\n",
       "      <td>7104</td>\n",
       "    </tr>\n",
       "  </tbody>\n",
       "</table>\n",
       "</div>"
      ],
      "text/plain": [
       "           states    Cases  Deaths   PCases  PDeaths\n",
       "0     Maharashtra  1698198   44548  1698198    44548\n",
       "1       Karnataka   835773   11281   835773    11281\n",
       "2  Andhra Pradesh   833208    6744   833208     6744\n",
       "3      Tamil Nadu   734429   11244   734429    11244\n",
       "4   Uttar Pradesh   489502    7104   489502     7104"
      ]
     },
     "execution_count": 11,
     "metadata": {},
     "output_type": "execute_result"
    }
   ],
   "source": [
    "#hide\n",
    "df_table = pd.DataFrame({'states': dfc_cases.index, 'Cases': dfc_cases.values, 'Deaths': dfc_deaths.values, 'PCases': dfp_cases.values, 'PDeaths': dfp_deaths.values}).set_index('states')\n",
    "df_table = df_table.sort_values(by = ['Cases','Deaths'], ascending = [False, False])\n",
    "df_table = df_table.reset_index()\n",
    "df_table.head()"
   ]
  },
  {
   "cell_type": "code",
   "execution_count": 12,
   "metadata": {
    "execution": {
     "iopub.execute_input": "2020-11-05T13:52:01.792838Z",
     "iopub.status.busy": "2020-11-05T13:52:01.792233Z",
     "iopub.status.idle": "2020-11-05T13:52:01.800797Z",
     "shell.execute_reply": "2020-11-05T13:52:01.801241Z"
    },
    "papermill": {
     "duration": 0.033114,
     "end_time": "2020-11-05T13:52:01.801419",
     "exception": false,
     "start_time": "2020-11-05T13:52:01.768305",
     "status": "completed"
    },
    "tags": []
   },
   "outputs": [],
   "source": [
    "#hide\n",
    "for c in 'Cases, Deaths'.split(', '):\n",
    "    df_table[f'{c} (+)'] = (df_table[c] - df_table[f'P{c}']).clip(0)\n",
    "df_table['Fatality Rate'] = (100* df_table['Deaths']/ df_table['Cases']).round(2)"
   ]
  },
  {
   "cell_type": "code",
   "execution_count": 13,
   "metadata": {
    "execution": {
     "iopub.execute_input": "2020-11-05T13:52:01.997574Z",
     "iopub.status.busy": "2020-11-05T13:52:01.996959Z",
     "iopub.status.idle": "2020-11-05T13:52:02.003756Z",
     "shell.execute_reply": "2020-11-05T13:52:02.003266Z"
    },
    "papermill": {
     "duration": 0.185927,
     "end_time": "2020-11-05T13:52:02.003895",
     "exception": false,
     "start_time": "2020-11-05T13:52:01.817968",
     "status": "completed"
    },
    "tags": []
   },
   "outputs": [
    {
     "data": {
      "text/html": [
       "<div>\n",
       "<style scoped>\n",
       "    .dataframe tbody tr th:only-of-type {\n",
       "        vertical-align: middle;\n",
       "    }\n",
       "\n",
       "    .dataframe tbody tr th {\n",
       "        vertical-align: top;\n",
       "    }\n",
       "\n",
       "    .dataframe thead th {\n",
       "        text-align: right;\n",
       "    }\n",
       "</style>\n",
       "<table border=\"1\" class=\"dataframe\">\n",
       "  <thead>\n",
       "    <tr style=\"text-align: right;\">\n",
       "      <th></th>\n",
       "      <th>states</th>\n",
       "      <th>Cases</th>\n",
       "      <th>Deaths</th>\n",
       "      <th>PCases</th>\n",
       "      <th>PDeaths</th>\n",
       "      <th>Cases (+)</th>\n",
       "      <th>Deaths (+)</th>\n",
       "      <th>Fatality Rate</th>\n",
       "    </tr>\n",
       "  </thead>\n",
       "  <tbody>\n",
       "    <tr>\n",
       "      <th>0</th>\n",
       "      <td>Maharashtra</td>\n",
       "      <td>1698198</td>\n",
       "      <td>44548</td>\n",
       "      <td>1698198</td>\n",
       "      <td>44548</td>\n",
       "      <td>0</td>\n",
       "      <td>0</td>\n",
       "      <td>2.62</td>\n",
       "    </tr>\n",
       "    <tr>\n",
       "      <th>1</th>\n",
       "      <td>Karnataka</td>\n",
       "      <td>835773</td>\n",
       "      <td>11281</td>\n",
       "      <td>835773</td>\n",
       "      <td>11281</td>\n",
       "      <td>0</td>\n",
       "      <td>0</td>\n",
       "      <td>1.35</td>\n",
       "    </tr>\n",
       "    <tr>\n",
       "      <th>2</th>\n",
       "      <td>Andhra Pradesh</td>\n",
       "      <td>833208</td>\n",
       "      <td>6744</td>\n",
       "      <td>833208</td>\n",
       "      <td>6744</td>\n",
       "      <td>0</td>\n",
       "      <td>0</td>\n",
       "      <td>0.81</td>\n",
       "    </tr>\n",
       "    <tr>\n",
       "      <th>3</th>\n",
       "      <td>Tamil Nadu</td>\n",
       "      <td>734429</td>\n",
       "      <td>11244</td>\n",
       "      <td>734429</td>\n",
       "      <td>11244</td>\n",
       "      <td>0</td>\n",
       "      <td>0</td>\n",
       "      <td>1.53</td>\n",
       "    </tr>\n",
       "    <tr>\n",
       "      <th>4</th>\n",
       "      <td>Uttar Pradesh</td>\n",
       "      <td>489502</td>\n",
       "      <td>7104</td>\n",
       "      <td>489502</td>\n",
       "      <td>7104</td>\n",
       "      <td>0</td>\n",
       "      <td>0</td>\n",
       "      <td>1.45</td>\n",
       "    </tr>\n",
       "  </tbody>\n",
       "</table>\n",
       "</div>"
      ],
      "text/plain": [
       "           states    Cases  Deaths   PCases  PDeaths  Cases (+)  Deaths (+)  \\\n",
       "0     Maharashtra  1698198   44548  1698198    44548          0           0   \n",
       "1       Karnataka   835773   11281   835773    11281          0           0   \n",
       "2  Andhra Pradesh   833208    6744   833208     6744          0           0   \n",
       "3      Tamil Nadu   734429   11244   734429    11244          0           0   \n",
       "4   Uttar Pradesh   489502    7104   489502     7104          0           0   \n",
       "\n",
       "   Fatality Rate  \n",
       "0           2.62  \n",
       "1           1.35  \n",
       "2           0.81  \n",
       "3           1.53  \n",
       "4           1.45  "
      ]
     },
     "execution_count": 13,
     "metadata": {},
     "output_type": "execute_result"
    }
   ],
   "source": [
    "#hide\n",
    "df_table.head()"
   ]
  },
  {
   "cell_type": "code",
   "execution_count": 14,
   "metadata": {
    "execution": {
     "iopub.execute_input": "2020-11-05T13:52:02.054908Z",
     "iopub.status.busy": "2020-11-05T13:52:02.054325Z",
     "iopub.status.idle": "2020-11-05T13:52:02.071842Z",
     "shell.execute_reply": "2020-11-05T13:52:02.071332Z"
    },
    "papermill": {
     "duration": 0.038703,
     "end_time": "2020-11-05T13:52:02.071973",
     "exception": false,
     "start_time": "2020-11-05T13:52:02.033270",
     "status": "completed"
    },
    "tags": []
   },
   "outputs": [
    {
     "data": {
      "text/plain": [
       "{'updated': '2020-11-05',\n",
       " 'since': '2020-11-04',\n",
       " 'Cases': 8364797,\n",
       " 'PCases': 8363412,\n",
       " 'Deaths': 124368,\n",
       " 'PDeaths': 124354,\n",
       " 'Cases (+)': 1385,\n",
       " 'Deaths (+)': 14}"
      ]
     },
     "execution_count": 14,
     "metadata": {},
     "output_type": "execute_result"
    }
   ],
   "source": [
    "#hide\n",
    "summary = {'updated':dates[-1], 'since':dates[-2]}\n",
    "list_names = ['Cases', 'PCases', 'Deaths', 'PDeaths', 'Cases (+)', 'Deaths (+)']\n",
    "for name in list_names:\n",
    "    summary[name] = df_table.sum()[name]\n",
    "summary"
   ]
  },
  {
   "cell_type": "code",
   "execution_count": 15,
   "metadata": {
    "execution": {
     "iopub.execute_input": "2020-11-05T13:52:02.111379Z",
     "iopub.status.busy": "2020-11-05T13:52:02.109669Z",
     "iopub.status.idle": "2020-11-05T13:52:02.112031Z",
     "shell.execute_reply": "2020-11-05T13:52:02.112492Z"
    },
    "papermill": {
     "duration": 0.023993,
     "end_time": "2020-11-05T13:52:02.112636",
     "exception": false,
     "start_time": "2020-11-05T13:52:02.088643",
     "status": "completed"
    },
    "tags": []
   },
   "outputs": [],
   "source": [
    "#hide\n",
    "overview = '''\n",
    "<!-- #######  HTML!! #########-->\n",
    "<h1 style=\"color: #5e9ca0; text-align: center;\">India</h1>\n",
    "<p style=\"text-align: center;\">Last update: <strong>{update}</strong></p>\n",
    "<p style=\"text-align: center;\">Confirmed cases:</p>\n",
    "<p style=\"text-align: center;font-size:24px;\">{cases} (<span style=\"color: #ff0000;\">+{new}</span>)</p>\n",
    "<p style=\"text-align: center;\">Confirmed deaths:</p>\n",
    "<p style=\"text-align: center;font-size:24px;\">{deaths} (<span style=\"color: #ff0000;\">+{dnew}</span>)</p>\n",
    "'''"
   ]
  },
  {
   "cell_type": "code",
   "execution_count": 16,
   "metadata": {
    "execution": {
     "iopub.execute_input": "2020-11-05T13:52:02.156123Z",
     "iopub.status.busy": "2020-11-05T13:52:02.155536Z",
     "iopub.status.idle": "2020-11-05T13:52:02.158636Z",
     "shell.execute_reply": "2020-11-05T13:52:02.159175Z"
    },
    "papermill": {
     "duration": 0.029915,
     "end_time": "2020-11-05T13:52:02.159392",
     "exception": false,
     "start_time": "2020-11-05T13:52:02.129477",
     "status": "completed"
    },
    "tags": []
   },
   "outputs": [
    {
     "data": {
      "text/html": [
       "\n",
       "<!-- #######  HTML!! #########-->\n",
       "<h1 style=\"color: #5e9ca0; text-align: center;\">India</h1>\n",
       "<p style=\"text-align: center;\">Last update: <strong>2020-11-05</strong></p>\n",
       "<p style=\"text-align: center;\">Confirmed cases:</p>\n",
       "<p style=\"text-align: center;font-size:24px;\">8364797 (<span style=\"color: #ff0000;\">+1385</span>)</p>\n",
       "<p style=\"text-align: center;\">Confirmed deaths:</p>\n",
       "<p style=\"text-align: center;font-size:24px;\">124368 (<span style=\"color: #ff0000;\">+14</span>)</p>\n"
      ],
      "text/plain": [
       "<IPython.core.display.HTML object>"
      ]
     },
     "metadata": {},
     "output_type": "display_data"
    }
   ],
   "source": [
    "#hide_input\n",
    "update = summary['updated']\n",
    "cases = summary['Cases']\n",
    "new = summary['Cases (+)']\n",
    "deaths = summary['Deaths']\n",
    "dnew = summary['Deaths (+)']\n",
    "\n",
    "html = HTML(overview.format(update=update, cases=cases,new=new,deaths=deaths,dnew=dnew))\n",
    "\n",
    "display(html)"
   ]
  },
  {
   "cell_type": "code",
   "execution_count": 17,
   "metadata": {
    "execution": {
     "iopub.execute_input": "2020-11-05T13:52:02.204972Z",
     "iopub.status.busy": "2020-11-05T13:52:02.204345Z",
     "iopub.status.idle": "2020-11-05T13:52:02.209360Z",
     "shell.execute_reply": "2020-11-05T13:52:02.209833Z"
    },
    "papermill": {
     "duration": 0.032814,
     "end_time": "2020-11-05T13:52:02.209987",
     "exception": false,
     "start_time": "2020-11-05T13:52:02.177173",
     "status": "completed"
    },
    "tags": []
   },
   "outputs": [],
   "source": [
    "#hide\n",
    "dt_cols = list(dft_cases.columns[1:])\n",
    "dft_ct_new_cases = dft_cases.groupby('state')[dt_cols].sum().diff(axis=1).fillna(0).astype(int)\n",
    "dft_ct_new_cases.sort_values(by = dates[-1], ascending = False,inplace = True)"
   ]
  },
  {
   "cell_type": "code",
   "execution_count": 18,
   "metadata": {
    "execution": {
     "iopub.execute_input": "2020-11-05T13:52:02.261724Z",
     "iopub.status.busy": "2020-11-05T13:52:02.261119Z",
     "iopub.status.idle": "2020-11-05T13:52:02.263504Z",
     "shell.execute_reply": "2020-11-05T13:52:02.264002Z"
    },
    "papermill": {
     "duration": 0.036994,
     "end_time": "2020-11-05T13:52:02.264151",
     "exception": false,
     "start_time": "2020-11-05T13:52:02.227157",
     "status": "completed"
    },
    "tags": []
   },
   "outputs": [
    {
     "data": {
      "text/html": [
       "<div>\n",
       "<style scoped>\n",
       "    .dataframe tbody tr th:only-of-type {\n",
       "        vertical-align: middle;\n",
       "    }\n",
       "\n",
       "    .dataframe tbody tr th {\n",
       "        vertical-align: top;\n",
       "    }\n",
       "\n",
       "    .dataframe thead th {\n",
       "        text-align: right;\n",
       "    }\n",
       "</style>\n",
       "<table border=\"1\" class=\"dataframe\">\n",
       "  <thead>\n",
       "    <tr style=\"text-align: right;\">\n",
       "      <th>states</th>\n",
       "      <th>2020-07-01</th>\n",
       "      <th>2020-07-02</th>\n",
       "      <th>2020-07-03</th>\n",
       "      <th>2020-07-04</th>\n",
       "      <th>2020-07-05</th>\n",
       "      <th>2020-07-06</th>\n",
       "      <th>2020-07-07</th>\n",
       "      <th>2020-07-08</th>\n",
       "      <th>2020-07-09</th>\n",
       "      <th>2020-07-10</th>\n",
       "      <th>...</th>\n",
       "      <th>2020-10-27</th>\n",
       "      <th>2020-10-28</th>\n",
       "      <th>2020-10-29</th>\n",
       "      <th>2020-10-30</th>\n",
       "      <th>2020-10-31</th>\n",
       "      <th>2020-11-01</th>\n",
       "      <th>2020-11-02</th>\n",
       "      <th>2020-11-03</th>\n",
       "      <th>2020-11-04</th>\n",
       "      <th>2020-11-05</th>\n",
       "    </tr>\n",
       "    <tr>\n",
       "      <th>state</th>\n",
       "      <th></th>\n",
       "      <th></th>\n",
       "      <th></th>\n",
       "      <th></th>\n",
       "      <th></th>\n",
       "      <th></th>\n",
       "      <th></th>\n",
       "      <th></th>\n",
       "      <th></th>\n",
       "      <th></th>\n",
       "      <th></th>\n",
       "      <th></th>\n",
       "      <th></th>\n",
       "      <th></th>\n",
       "      <th></th>\n",
       "      <th></th>\n",
       "      <th></th>\n",
       "      <th></th>\n",
       "      <th></th>\n",
       "      <th></th>\n",
       "      <th></th>\n",
       "    </tr>\n",
       "  </thead>\n",
       "  <tbody>\n",
       "    <tr>\n",
       "      <th>Odisha</th>\n",
       "      <td>0</td>\n",
       "      <td>229</td>\n",
       "      <td>561</td>\n",
       "      <td>495</td>\n",
       "      <td>469</td>\n",
       "      <td>456</td>\n",
       "      <td>571</td>\n",
       "      <td>527</td>\n",
       "      <td>577</td>\n",
       "      <td>755</td>\n",
       "      <td>...</td>\n",
       "      <td>1247</td>\n",
       "      <td>1540</td>\n",
       "      <td>1617</td>\n",
       "      <td>1547</td>\n",
       "      <td>1470</td>\n",
       "      <td>1709</td>\n",
       "      <td>1389</td>\n",
       "      <td>1201</td>\n",
       "      <td>1474</td>\n",
       "      <td>1385</td>\n",
       "    </tr>\n",
       "    <tr>\n",
       "      <th>Andaman and Nicobar Islands</th>\n",
       "      <td>0</td>\n",
       "      <td>9</td>\n",
       "      <td>7</td>\n",
       "      <td>3</td>\n",
       "      <td>6</td>\n",
       "      <td>16</td>\n",
       "      <td>6</td>\n",
       "      <td>2</td>\n",
       "      <td>7</td>\n",
       "      <td>0</td>\n",
       "      <td>...</td>\n",
       "      <td>21</td>\n",
       "      <td>15</td>\n",
       "      <td>16</td>\n",
       "      <td>12</td>\n",
       "      <td>15</td>\n",
       "      <td>8</td>\n",
       "      <td>12</td>\n",
       "      <td>20</td>\n",
       "      <td>17</td>\n",
       "      <td>0</td>\n",
       "    </tr>\n",
       "    <tr>\n",
       "      <th>Andhra Pradesh</th>\n",
       "      <td>0</td>\n",
       "      <td>845</td>\n",
       "      <td>837</td>\n",
       "      <td>765</td>\n",
       "      <td>998</td>\n",
       "      <td>1322</td>\n",
       "      <td>1178</td>\n",
       "      <td>1062</td>\n",
       "      <td>1555</td>\n",
       "      <td>1608</td>\n",
       "      <td>...</td>\n",
       "      <td>2901</td>\n",
       "      <td>2949</td>\n",
       "      <td>2905</td>\n",
       "      <td>2886</td>\n",
       "      <td>2783</td>\n",
       "      <td>2618</td>\n",
       "      <td>1916</td>\n",
       "      <td>2849</td>\n",
       "      <td>2477</td>\n",
       "      <td>0</td>\n",
       "    </tr>\n",
       "    <tr>\n",
       "      <th>Maharashtra</th>\n",
       "      <td>0</td>\n",
       "      <td>6328</td>\n",
       "      <td>6364</td>\n",
       "      <td>7074</td>\n",
       "      <td>6555</td>\n",
       "      <td>5368</td>\n",
       "      <td>5134</td>\n",
       "      <td>6603</td>\n",
       "      <td>6875</td>\n",
       "      <td>7862</td>\n",
       "      <td>...</td>\n",
       "      <td>5363</td>\n",
       "      <td>6738</td>\n",
       "      <td>5902</td>\n",
       "      <td>6190</td>\n",
       "      <td>5548</td>\n",
       "      <td>5369</td>\n",
       "      <td>4009</td>\n",
       "      <td>4909</td>\n",
       "      <td>5505</td>\n",
       "      <td>0</td>\n",
       "    </tr>\n",
       "    <tr>\n",
       "      <th>Manipur</th>\n",
       "      <td>0</td>\n",
       "      <td>19</td>\n",
       "      <td>37</td>\n",
       "      <td>9</td>\n",
       "      <td>41</td>\n",
       "      <td>24</td>\n",
       "      <td>40</td>\n",
       "      <td>5</td>\n",
       "      <td>15</td>\n",
       "      <td>132</td>\n",
       "      <td>...</td>\n",
       "      <td>180</td>\n",
       "      <td>205</td>\n",
       "      <td>242</td>\n",
       "      <td>221</td>\n",
       "      <td>230</td>\n",
       "      <td>248</td>\n",
       "      <td>341</td>\n",
       "      <td>150</td>\n",
       "      <td>262</td>\n",
       "      <td>0</td>\n",
       "    </tr>\n",
       "  </tbody>\n",
       "</table>\n",
       "<p>5 rows × 128 columns</p>\n",
       "</div>"
      ],
      "text/plain": [
       "states                       2020-07-01  2020-07-02  2020-07-03  2020-07-04  \\\n",
       "state                                                                         \n",
       "Odisha                                0         229         561         495   \n",
       "Andaman and Nicobar Islands           0           9           7           3   \n",
       "Andhra Pradesh                        0         845         837         765   \n",
       "Maharashtra                           0        6328        6364        7074   \n",
       "Manipur                               0          19          37           9   \n",
       "\n",
       "states                       2020-07-05  2020-07-06  2020-07-07  2020-07-08  \\\n",
       "state                                                                         \n",
       "Odisha                              469         456         571         527   \n",
       "Andaman and Nicobar Islands           6          16           6           2   \n",
       "Andhra Pradesh                      998        1322        1178        1062   \n",
       "Maharashtra                        6555        5368        5134        6603   \n",
       "Manipur                              41          24          40           5   \n",
       "\n",
       "states                       2020-07-09  2020-07-10  ...  2020-10-27  \\\n",
       "state                                                ...               \n",
       "Odisha                              577         755  ...        1247   \n",
       "Andaman and Nicobar Islands           7           0  ...          21   \n",
       "Andhra Pradesh                     1555        1608  ...        2901   \n",
       "Maharashtra                        6875        7862  ...        5363   \n",
       "Manipur                              15         132  ...         180   \n",
       "\n",
       "states                       2020-10-28  2020-10-29  2020-10-30  2020-10-31  \\\n",
       "state                                                                         \n",
       "Odisha                             1540        1617        1547        1470   \n",
       "Andaman and Nicobar Islands          15          16          12          15   \n",
       "Andhra Pradesh                     2949        2905        2886        2783   \n",
       "Maharashtra                        6738        5902        6190        5548   \n",
       "Manipur                             205         242         221         230   \n",
       "\n",
       "states                       2020-11-01  2020-11-02  2020-11-03  2020-11-04  \\\n",
       "state                                                                         \n",
       "Odisha                             1709        1389        1201        1474   \n",
       "Andaman and Nicobar Islands           8          12          20          17   \n",
       "Andhra Pradesh                     2618        1916        2849        2477   \n",
       "Maharashtra                        5369        4009        4909        5505   \n",
       "Manipur                             248         341         150         262   \n",
       "\n",
       "states                       2020-11-05  \n",
       "state                                    \n",
       "Odisha                             1385  \n",
       "Andaman and Nicobar Islands           0  \n",
       "Andhra Pradesh                        0  \n",
       "Maharashtra                           0  \n",
       "Manipur                               0  \n",
       "\n",
       "[5 rows x 128 columns]"
      ]
     },
     "execution_count": 18,
     "metadata": {},
     "output_type": "execute_result"
    }
   ],
   "source": [
    "#hide\n",
    "dft_ct_new_cases.head()"
   ]
  },
  {
   "cell_type": "code",
   "execution_count": 19,
   "metadata": {
    "execution": {
     "iopub.execute_input": "2020-11-05T13:52:02.346626Z",
     "iopub.status.busy": "2020-11-05T13:52:02.313145Z",
     "iopub.status.idle": "2020-11-05T13:52:06.912777Z",
     "shell.execute_reply": "2020-11-05T13:52:06.913350Z"
    },
    "papermill": {
     "duration": 4.631843,
     "end_time": "2020-11-05T13:52:06.913519",
     "exception": false,
     "start_time": "2020-11-05T13:52:02.281676",
     "status": "completed"
    },
    "tags": []
   },
   "outputs": [
    {
     "data": {
      "image/png": "[encoded data removed]",
      "text/plain": [
       "<Figure size 1296x2016 with 11 Axes>"
      ]
     },
     "metadata": {
      "needs_background": "light"
     },
     "output_type": "display_data"
    }
   ],
   "source": [
    "#hide_input\n",
    "df = dft_ct_new_cases.copy()\n",
    "df.loc['Total'] = df.sum()\n",
    "n = 5\n",
    "ax = []\n",
    "fig = plt.figure(figsize = (18,28))\n",
    "gs = fig.add_gridspec(n+2, 5)\n",
    "# gs = fig.add_gridspec(2, 3)\n",
    "ax1 = fig.add_subplot(gs[0, :])\n",
    "ef = df.loc['Total'].rename_axis('date').reset_index()\n",
    "ef['date'] = ef['date'].astype('datetime64[ns]')\n",
    "ax1.bar(ef.date,ef.Total,alpha=0.3,color='#007acc')\n",
    "ax1.plot(ef.date,ef.Total , marker=\"o\", color='#007acc')\n",
    "ax1.xaxis.set_major_locator(mdates.WeekdayLocator())\n",
    "ax1.xaxis.set_major_formatter(mdates.DateFormatter('%b %d'))\n",
    "ax1.text(0.02, 0.5,'India daily case count', transform = ax1.transAxes, fontsize=25);\n",
    "ax1.spines['right'].set_visible(False)\n",
    "ax1.spines['top'].set_visible(False)\n",
    "\n",
    "ax2 = fig.add_subplot(gs[1,0])\n",
    "ef = df.loc['Maharashtra'].rename_axis('date').reset_index()\n",
    "ef['date'] = ef['date'].astype('datetime64[ns]')\n",
    "\n",
    "ax2.bar(ef.date, ef.Maharashtra,color = '#007acc',alpha=0.5)\n",
    "ax2.xaxis.set_major_locator(mdates.WeekdayLocator())\n",
    "ax2.xaxis.set_major_formatter(mdates.DateFormatter('%b %d'))\n",
    "ax2.set_xticks(ax2.get_xticks()[::3])\n",
    "maxyval = ef.Maharashtra.max()\n",
    "ax2.set_ylim([0,maxyval])\n",
    "ax2.text(0.05, 0.9,'Maharashtra', transform = ax2.transAxes, fontsize=20);\n",
    "ax2.spines['right'].set_visible(False)\n",
    "ax2.spines['top'].set_visible(False)\n",
    "\n",
    "\n",
    "ax3 = fig.add_subplot(gs[1,1])\n",
    "ef = df.loc['Tamil Nadu'].rename_axis('date').reset_index()\n",
    "ef['date'] = ef['date'].astype('datetime64[ns]')\n",
    "ax3.bar(ef.date, ef['Tamil Nadu'],color = '#007acc',alpha=0.5,)\n",
    "ax3.xaxis.set_major_locator(mdates.WeekdayLocator())\n",
    "ax3.xaxis.set_major_formatter(mdates.DateFormatter('%b %d'))\n",
    "ax3.set_xticks(ax3.get_xticks()[::3])\n",
    "ax3.text(0.05, 0.9,'Tamil Nadu', transform = ax3.transAxes, fontsize=20);\n",
    "ax3.spines['right'].set_visible(False)\n",
    "ax3.spines['top'].set_visible(False)\n",
    "\n",
    "ax5 = fig.add_subplot(gs[1,3])\n",
    "ef = df.loc['Telangana'].rename_axis('date').reset_index()\n",
    "ef['date'] = ef['date'].astype('datetime64[ns]')\n",
    "ax5.bar(ef.date, ef['Telangana'],color = '#007acc',alpha=0.5,)\n",
    "ax5.xaxis.set_major_locator(mdates.WeekdayLocator())\n",
    "ax5.xaxis.set_major_formatter(mdates.DateFormatter('%b %d'))\n",
    "ax5.set_xticks(ax5.get_xticks()[::3])\n",
    "ax5.text(0.05, 0.9,'Telangana', transform = ax5.transAxes, fontsize=20);\n",
    "ax5.spines['right'].set_visible(False)\n",
    "ax5.spines['top'].set_visible(False)\n",
    "\n",
    "ax6 = fig.add_subplot(gs[1,4])\n",
    "ef = df.loc['Andhra Pradesh'].rename_axis('date').reset_index()\n",
    "ef['date'] = ef['date'].astype('datetime64[ns]')\n",
    "ax6.bar(ef.date, ef['Andhra Pradesh'],color = '#007acc',alpha=0.5,)\n",
    "ax6.xaxis.set_major_locator(mdates.WeekdayLocator())\n",
    "ax6.xaxis.set_major_formatter(mdates.DateFormatter('%b %d'))\n",
    "ax6.set_xticks(ax6.get_xticks()[::3])\n",
    "ax6.text(0.05, 1,'Andhra Pradesh', transform = ax6.transAxes, fontsize=20);\n",
    "ax6.spines['right'].set_visible(False)\n",
    "ax6.spines['top'].set_visible(False)\n",
    "\n",
    "ax4 = fig.add_subplot(gs[1,2])\n",
    "ef = df.loc['Delhi'].rename_axis('date').reset_index()\n",
    "ef['date'] = ef['date'].astype('datetime64[ns]')\n",
    "ax4.bar(ef.date, ef.Delhi,color = '#007acc',alpha=0.5)\n",
    "ax4.set_xticks([])\n",
    "ax4.xaxis.set_major_locator(mdates.WeekdayLocator())\n",
    "ax4.xaxis.set_major_formatter(mdates.DateFormatter('%b %d'))\n",
    "ax4.set_xticks(ax4.get_xticks()[::3])\n",
    "ax4.spines['right'].set_visible(False)\n",
    "ax4.spines['top'].set_visible(False)\n",
    "\n",
    "ax4.text(0.05, 1,'Delhi', transform = ax4.transAxes, fontsize=20)\n",
    "\n",
    "for i in range(n):\n",
    "    \n",
    "    ax.append(fig.add_subplot(gs[i+2,:]))\n",
    "    ef = df.iloc[i+3].rename_axis('date').reset_index()\n",
    "    ef['date'] = ef['date'].astype('datetime64[ns]')\n",
    "    ax[i].bar(ef.date,ef.iloc[:,-1],color = '#007acc',alpha=0.3)\n",
    "    ax[i].plot(ef.date,ef.iloc[:,-1],marker='o',color='#007acc')\n",
    "    ax[i].text(0.02,0.5,f'{ef.columns.values[-1]}',transform = ax[i].transAxes, fontsize = 20);\n",
    "    ax[i].xaxis.set_major_locator(mdates.WeekdayLocator())\n",
    "    ax[i].xaxis.set_major_formatter(mdates.DateFormatter('%b %d'))\n",
    "    ax[i].set_ylim([0,7000])\n",
    "    ax[i].spines['right'].set_visible(False)\n",
    "    ax[i].spines['top'].set_visible(False)\n",
    "plt.tight_layout()\n"
   ]
  },
  {
   "cell_type": "code",
   "execution_count": 20,
   "metadata": {
    "execution": {
     "iopub.execute_input": "2020-11-05T13:52:06.996649Z",
     "iopub.status.busy": "2020-11-05T13:52:06.996011Z",
     "iopub.status.idle": "2020-11-05T13:52:06.998299Z",
     "shell.execute_reply": "2020-11-05T13:52:06.998797Z"
    },
    "papermill": {
     "duration": 0.062833,
     "end_time": "2020-11-05T13:52:06.998946",
     "exception": false,
     "start_time": "2020-11-05T13:52:06.936113",
     "status": "completed"
    },
    "tags": []
   },
   "outputs": [
    {
     "name": "stdout",
     "output_type": "stream",
     "text": [
      "                                   states    Cases  Deaths   PCases  PDeaths  Cases (+)  Deaths (+)  Fatality Rate\n",
      "                              Maharashtra  1698198   44548  1698198    44548          0           0           2.62\n",
      "                                Karnataka   835773   11281   835773    11281          0           0           1.35\n",
      "                           Andhra Pradesh   833208    6744   833208     6744          0           0           0.81\n",
      "                               Tamil Nadu   734429   11244   734429    11244          0           0           1.53\n",
      "                            Uttar Pradesh   489502    7104   489502     7104          0           0           1.45\n",
      "                                   Kerala   459647    1588   459647     1588          0           0           0.35\n",
      "                                    Delhi   409938    6703   409938     6703          0           0           1.64\n",
      "                              West Bengal   389576    7068   389576     7068          0           0           1.81\n",
      "                                   Odisha   297274    1431   295889     1417       1385          14           0.48\n",
      "                                Telangana   244143    1357   244143     1357          0           0           0.56\n",
      "                                    Bihar   219505    1113   219505     1113          0           0           0.51\n",
      "                                    Assam   207741     934   207741      934          0           0           0.45\n",
      "                                Rajasthan   203990    1945   203990     1945          0           0           0.95\n",
      "                             Chhattisgarh   194499    2316   194499     2316          0           0           1.19\n",
      "                                  Gujarat   176608    3740   176608     3740          0           0           2.12\n",
      "                           Madhya Pradesh   174091    2987   174091     2987          0           0           1.72\n",
      "                                  Haryana   174082    1836   174082     1836          0           0           1.05\n",
      "                                   Punjab   135313    4259   135313     4259          0           0           3.15\n",
      "                                Jharkhand   103188     894   103188      894          0           0           0.87\n",
      "                        Jammu and Kashmir    96700    1511    96700     1511          0           0           1.56\n",
      "                              Uttarakhand    63585    1038    63585     1038          0           0           1.63\n",
      "                                      Goa    44372     626    44372      626          0           0           1.41\n",
      "                               Puducherry    35429     597    35429      597          0           0           1.69\n",
      "                                  Tripura    31102     350    31102      350          0           0           1.13\n",
      "                         Himachal Pradesh    23365     349    23365      349          0           0           1.49\n",
      "                                  Manipur    19503     187    19503      187          0           0           0.96\n",
      "                        Arunachal Pradesh    15160      43    15160       43          0           0           0.28\n",
      "                               Chandigarh    14708     229    14708      229          0           0           1.56\n",
      "                                Meghalaya     9801      90     9801       90          0           0           0.92\n",
      "                                 Nagaland     9207      44     9207       44          0           0           0.48\n",
      "                                   Ladakh     6553      76     6553       76          0           0           1.16\n",
      "              Andaman and Nicobar Islands     4389      60     4389       60          0           0           1.37\n",
      "                                   Sikkim     4066      73     4066       73          0           0           1.80\n",
      " Dadra and Nagar Haveli and Daman and Diu     3259       2     3259        2          0           0           0.06\n",
      "                                  Mizoram     2893       1     2893        1          0           0           0.03\n",
      "                              Lakshadweep        0       0        0        0          0           0            NaN\n"
     ]
    }
   ],
   "source": [
    "#hide_input\n",
    "print(df_table.to_string(index=False))"
   ]
  },
  {
   "cell_type": "code",
   "execution_count": null,
   "metadata": {
    "papermill": {
     "duration": 0.047641,
     "end_time": "2020-11-05T13:52:07.080676",
     "exception": false,
     "start_time": "2020-11-05T13:52:07.033035",
     "status": "completed"
    },
    "tags": []
   },
   "outputs": [],
   "source": []
  },
  {
   "cell_type": "code",
   "execution_count": null,
   "metadata": {
    "papermill": {
     "duration": 0.109041,
     "end_time": "2020-11-05T13:52:07.238046",
     "exception": false,
     "start_time": "2020-11-05T13:52:07.129005",
     "status": "completed"
    },
    "tags": []
   },
   "outputs": [],
   "source": []
  }
 ],
 "metadata": {
  "kernelspec": {
   "display_name": "Python 3",
   "language": "python",
   "name": "python3"
  },
  "language_info": {
   "codemirror_mode": {
    "name": "ipython",
    "version": 3
   },
   "file_extension": ".py",
   "mimetype": "text/x-python",
   "name": "python",
   "nbconvert_exporter": "python",
   "pygments_lexer": "ipython3",
   "version": "3.6.12"
  },
  "papermill": {
   "duration": 13.319562,
   "end_time": "2020-11-05T13:52:08.963904",
   "environment_variables": {},
   "exception": null,
   "input_path": "latest.ipynb",
   "output_path": "latest.ipynb",
   "parameters": {},
   "start_time": "2020-11-05T13:51:55.644342",
   "version": "2.1.2"
  }
 },
 "nbformat": 4,
 "nbformat_minor": 4
}