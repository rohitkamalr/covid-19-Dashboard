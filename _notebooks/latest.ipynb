{
 "cells": [
  {
   "cell_type": "markdown",
   "metadata": {
    "papermill": {
     "duration": 0.022785,
     "end_time": "2020-11-18T12:26:07.083138",
     "exception": false,
     "start_time": "2020-11-18T12:26:07.060353",
     "status": "completed"
    },
    "tags": []
   },
   "source": [
    "# Latest COVID-19 India Matplotlib Overview"
   ]
  },
  {
   "cell_type": "code",
   "execution_count": 1,
   "metadata": {
    "execution": {
     "iopub.execute_input": "2020-11-18T12:26:07.122317Z",
     "iopub.status.busy": "2020-11-18T12:26:07.121686Z",
     "iopub.status.idle": "2020-11-18T12:26:07.751947Z",
     "shell.execute_reply": "2020-11-18T12:26:07.752456Z"
    },
    "papermill": {
     "duration": 0.653328,
     "end_time": "2020-11-18T12:26:07.752639",
     "exception": false,
     "start_time": "2020-11-18T12:26:07.099311",
     "status": "completed"
    },
    "tags": []
   },
   "outputs": [],
   "source": [
    "#hide\n",
    "import pandas as pd\n",
    "import numpy as np\n",
    "import requests\n",
    "import json\n",
    "import matplotlib.pyplot as plt\n",
    "import matplotlib.dates as mdates\n",
    "import matplotlib as mpl\n",
    "from IPython.core.display import display,HTML\n",
    "%matplotlib inline\n",
    "from datetime import date"
   ]
  },
  {
   "cell_type": "code",
   "execution_count": 2,
   "metadata": {
    "execution": {
     "iopub.execute_input": "2020-11-18T12:26:07.791700Z",
     "iopub.status.busy": "2020-11-18T12:26:07.791091Z",
     "iopub.status.idle": "2020-11-18T12:26:08.214454Z",
     "shell.execute_reply": "2020-11-18T12:26:08.213873Z"
    },
    "papermill": {
     "duration": 0.44655,
     "end_time": "2020-11-18T12:26:08.214594",
     "exception": false,
     "start_time": "2020-11-18T12:26:07.768044",
     "status": "completed"
    },
    "tags": []
   },
   "outputs": [],
   "source": [
    "#hide\n",
    "df  = pd.read_csv('https://api.covid19india.org/csv/latest/states.csv')\n",
    "df = df[['Date','State','Confirmed','Deceased']]\n",
    "df = df.rename(columns={'Confirmed':'Cases', \"Deceased\":'Deaths'})\n",
    "df_cases = df[[\"Date\",'State','Cases']]\n",
    "df_deaths = df[['Date','State','Deaths']]\n",
    "df_cases1 = df_cases.groupby('Date')\n",
    "df_deaths1= df_deaths.groupby('Date')"
   ]
  },
  {
   "cell_type": "code",
   "execution_count": 3,
   "metadata": {
    "execution": {
     "iopub.execute_input": "2020-11-18T12:26:08.251711Z",
     "iopub.status.busy": "2020-11-18T12:26:08.251123Z",
     "iopub.status.idle": "2020-11-18T12:26:08.279202Z",
     "shell.execute_reply": "2020-11-18T12:26:08.278544Z"
    },
    "papermill": {
     "duration": 0.048558,
     "end_time": "2020-11-18T12:26:08.279360",
     "exception": false,
     "start_time": "2020-11-18T12:26:08.230802",
     "status": "completed"
    },
    "tags": []
   },
   "outputs": [],
   "source": [
    "#hide\n",
    "df_snap = pd.read_csv('data/SnapshotCases-28-July.csv')\n",
    "arr_states = df_snap['states'].unique()\n",
    "arr_dates = df['Date'].unique()\n",
    "df_snap = df_snap.set_index('states')"
   ]
  },
  {
   "cell_type": "code",
   "execution_count": 4,
   "metadata": {
    "execution": {
     "iopub.execute_input": "2020-11-18T12:26:08.318464Z",
     "iopub.status.busy": "2020-11-18T12:26:08.317806Z",
     "iopub.status.idle": "2020-11-18T12:26:08.320887Z",
     "shell.execute_reply": "2020-11-18T12:26:08.320303Z"
    },
    "papermill": {
     "duration": 0.02605,
     "end_time": "2020-11-18T12:26:08.321019",
     "exception": false,
     "start_time": "2020-11-18T12:26:08.294969",
     "status": "completed"
    },
    "tags": []
   },
   "outputs": [
    {
     "data": {
      "text/plain": [
       "array(['Andaman and Nicobar Islands', 'Andhra Pradesh',\n",
       "       'Arunachal Pradesh', 'Assam', 'Bihar', 'Chandigarh',\n",
       "       'Dadra and Nagar Haveli and Daman and Diu', 'Delhi', 'Goa',\n",
       "       'Gujarat', 'Haryana', 'Himachal Pradesh', 'Jammu and Kashmir',\n",
       "       'Jharkhand', 'Karnataka', 'Kerala', 'Lakshadweep',\n",
       "       'Madhya Pradesh', 'Maharashtra', 'Manipur', 'Meghalaya', 'Mizoram',\n",
       "       'Nagaland', 'Odisha', 'Puducherry', 'Punjab', 'Rajasthan',\n",
       "       'Sikkim', 'Tamil Nadu', 'Telangana', 'Tripura', 'Uttar Pradesh',\n",
       "       'West Bengal', 'Chhattisgarh', 'Ladakh', 'Uttarakhand'],\n",
       "      dtype=object)"
      ]
     },
     "execution_count": 4,
     "metadata": {},
     "output_type": "execute_result"
    }
   ],
   "source": [
    "#hide\n",
    "arr_states[-9] = 'Puducherry'\n",
    "arr_states[-10] = 'Odisha'\n",
    "arr_states[6] = 'Dadra and Nagar Haveli and Daman and Diu'\n",
    "arr_states = np.append(arr_states,np.array(['Chhattisgarh','Ladakh','Uttarakhand']))\n",
    "arr_states"
   ]
  },
  {
   "cell_type": "code",
   "execution_count": 5,
   "metadata": {
    "execution": {
     "iopub.execute_input": "2020-11-18T12:26:08.364716Z",
     "iopub.status.busy": "2020-11-18T12:26:08.364094Z",
     "iopub.status.idle": "2020-11-18T12:26:08.372452Z",
     "shell.execute_reply": "2020-11-18T12:26:08.371960Z"
    },
    "papermill": {
     "duration": 0.035491,
     "end_time": "2020-11-18T12:26:08.372592",
     "exception": false,
     "start_time": "2020-11-18T12:26:08.337101",
     "status": "completed"
    },
    "tags": []
   },
   "outputs": [],
   "source": [
    "#hide\n",
    "dates = []\n",
    "for i in arr_dates:\n",
    "    if i>='2020-07-01':\n",
    "        dates.append(i)\n",
    "dict = {'states':dates}\n",
    "for i in arr_states:\n",
    "    dict[i] = [0]*len(dates)\n",
    "dft_cases = pd.DataFrame(dict)\n",
    "dft_deaths = pd.DataFrame(dict)\n"
   ]
  },
  {
   "cell_type": "code",
   "execution_count": 6,
   "metadata": {
    "execution": {
     "iopub.execute_input": "2020-11-18T12:26:08.410544Z",
     "iopub.status.busy": "2020-11-18T12:26:08.409907Z",
     "iopub.status.idle": "2020-11-18T12:26:10.520801Z",
     "shell.execute_reply": "2020-11-18T12:26:10.520280Z"
    },
    "papermill": {
     "duration": 2.132609,
     "end_time": "2020-11-18T12:26:10.520944",
     "exception": false,
     "start_time": "2020-11-18T12:26:08.388335",
     "status": "completed"
    },
    "tags": []
   },
   "outputs": [],
   "source": [
    "#hide\n",
    "for i in range(len(dates)):\n",
    "    df1_deaths = df_deaths1.get_group(dates[i])\n",
    "    for j in range(len(df1_deaths.index)):\n",
    "        if df1_deaths.iloc[j,1] in arr_states:\n",
    "            dft_deaths.loc[i,df1_deaths.iloc[j,1]] = df1_deaths.iloc[j,2]\n",
    "dft_deaths = dft_deaths.set_index('states')"
   ]
  },
  {
   "cell_type": "code",
   "execution_count": 7,
   "metadata": {
    "execution": {
     "iopub.execute_input": "2020-11-18T12:26:10.561522Z",
     "iopub.status.busy": "2020-11-18T12:26:10.560898Z",
     "iopub.status.idle": "2020-11-18T12:26:12.643072Z",
     "shell.execute_reply": "2020-11-18T12:26:12.641974Z"
    },
    "papermill": {
     "duration": 2.105667,
     "end_time": "2020-11-18T12:26:12.643220",
     "exception": false,
     "start_time": "2020-11-18T12:26:10.537553",
     "status": "completed"
    },
    "tags": []
   },
   "outputs": [],
   "source": [
    "#hide\n",
    "for i in range(len(dates)):\n",
    "    df1_cases = df_cases1.get_group(dates[i])\n",
    "    for j in range(len(df1_cases.index)):\n",
    "        if df1_cases.iloc[j,1] in arr_states:\n",
    "            dft_cases.loc[i,df1_cases.iloc[j,1]] = df1_cases.iloc[j,2]\n",
    "dft_cases = dft_cases.set_index('states')"
   ]
  },
  {
   "cell_type": "code",
   "execution_count": 8,
   "metadata": {
    "execution": {
     "iopub.execute_input": "2020-11-18T12:26:12.682480Z",
     "iopub.status.busy": "2020-11-18T12:26:12.681548Z",
     "iopub.status.idle": "2020-11-18T12:26:12.683346Z",
     "shell.execute_reply": "2020-11-18T12:26:12.683979Z"
    },
    "papermill": {
     "duration": 0.024833,
     "end_time": "2020-11-18T12:26:12.684174",
     "exception": false,
     "start_time": "2020-11-18T12:26:12.659341",
     "status": "completed"
    },
    "tags": []
   },
   "outputs": [],
   "source": [
    "#hide\n",
    "dft_cases = dft_cases.T\n",
    "dft_deaths = dft_deaths.T\n",
    "dt_today = dates[-1]\n",
    "dt_yday = dates[-2]"
   ]
  },
  {
   "cell_type": "code",
   "execution_count": 9,
   "metadata": {
    "execution": {
     "iopub.execute_input": "2020-11-18T12:26:12.724794Z",
     "iopub.status.busy": "2020-11-18T12:26:12.723813Z",
     "iopub.status.idle": "2020-11-18T12:26:12.729688Z",
     "shell.execute_reply": "2020-11-18T12:26:12.729210Z"
    },
    "papermill": {
     "duration": 0.029265,
     "end_time": "2020-11-18T12:26:12.729823",
     "exception": false,
     "start_time": "2020-11-18T12:26:12.700558",
     "status": "completed"
    },
    "tags": []
   },
   "outputs": [],
   "source": [
    "#hide\n",
    "dft_cases = dft_cases.reset_index()\n",
    "dft_deaths = dft_deaths.reset_index()\n",
    "dft_cases = dft_cases.rename(columns = {'index':'state'})\n",
    "dft_deaths = dft_deaths.rename(columns = {'index':'state'})"
   ]
  },
  {
   "cell_type": "code",
   "execution_count": 10,
   "metadata": {
    "execution": {
     "iopub.execute_input": "2020-11-18T12:26:12.774502Z",
     "iopub.status.busy": "2020-11-18T12:26:12.773707Z",
     "iopub.status.idle": "2020-11-18T12:26:12.775630Z",
     "shell.execute_reply": "2020-11-18T12:26:12.776138Z"
    },
    "papermill": {
     "duration": 0.030306,
     "end_time": "2020-11-18T12:26:12.776296",
     "exception": false,
     "start_time": "2020-11-18T12:26:12.745990",
     "status": "completed"
    },
    "tags": []
   },
   "outputs": [],
   "source": [
    "#hide\n",
    "dfc_cases = dft_cases.groupby('state')[dt_today].sum()\n",
    "dfc_deaths = dft_deaths.groupby('state')[dt_today].sum()\n",
    "dfp_cases = dft_cases.groupby('state')[dt_yday].sum()\n",
    "dfp_deaths = dft_deaths.groupby('state')[dt_yday].sum()"
   ]
  },
  {
   "cell_type": "code",
   "execution_count": 11,
   "metadata": {
    "execution": {
     "iopub.execute_input": "2020-11-18T12:26:12.817782Z",
     "iopub.status.busy": "2020-11-18T12:26:12.817141Z",
     "iopub.status.idle": "2020-11-18T12:26:12.832625Z",
     "shell.execute_reply": "2020-11-18T12:26:12.833456Z"
    },
    "papermill": {
     "duration": 0.041278,
     "end_time": "2020-11-18T12:26:12.833704",
     "exception": false,
     "start_time": "2020-11-18T12:26:12.792426",
     "status": "completed"
    },
    "tags": []
   },
   "outputs": [
    {
     "data": {
      "text/html": [
       "<div>\n",
       "<style scoped>\n",
       "    .dataframe tbody tr th:only-of-type {\n",
       "        vertical-align: middle;\n",
       "    }\n",
       "\n",
       "    .dataframe tbody tr th {\n",
       "        vertical-align: top;\n",
       "    }\n",
       "\n",
       "    .dataframe thead th {\n",
       "        text-align: right;\n",
       "    }\n",
       "</style>\n",
       "<table border=\"1\" class=\"dataframe\">\n",
       "  <thead>\n",
       "    <tr style=\"text-align: right;\">\n",
       "      <th></th>\n",
       "      <th>states</th>\n",
       "      <th>Cases</th>\n",
       "      <th>Deaths</th>\n",
       "      <th>PCases</th>\n",
       "      <th>PDeaths</th>\n",
       "    </tr>\n",
       "  </thead>\n",
       "  <tbody>\n",
       "    <tr>\n",
       "      <th>0</th>\n",
       "      <td>Maharashtra</td>\n",
       "      <td>1752509</td>\n",
       "      <td>46102</td>\n",
       "      <td>1752509</td>\n",
       "      <td>46102</td>\n",
       "    </tr>\n",
       "    <tr>\n",
       "      <th>1</th>\n",
       "      <td>Karnataka</td>\n",
       "      <td>864140</td>\n",
       "      <td>11557</td>\n",
       "      <td>864140</td>\n",
       "      <td>11557</td>\n",
       "    </tr>\n",
       "    <tr>\n",
       "      <th>2</th>\n",
       "      <td>Andhra Pradesh</td>\n",
       "      <td>856159</td>\n",
       "      <td>6890</td>\n",
       "      <td>856159</td>\n",
       "      <td>6890</td>\n",
       "    </tr>\n",
       "    <tr>\n",
       "      <th>3</th>\n",
       "      <td>Tamil Nadu</td>\n",
       "      <td>761568</td>\n",
       "      <td>11513</td>\n",
       "      <td>761568</td>\n",
       "      <td>11513</td>\n",
       "    </tr>\n",
       "    <tr>\n",
       "      <th>4</th>\n",
       "      <td>Kerala</td>\n",
       "      <td>533501</td>\n",
       "      <td>1915</td>\n",
       "      <td>533501</td>\n",
       "      <td>1915</td>\n",
       "    </tr>\n",
       "  </tbody>\n",
       "</table>\n",
       "</div>"
      ],
      "text/plain": [
       "           states    Cases  Deaths   PCases  PDeaths\n",
       "0     Maharashtra  1752509   46102  1752509    46102\n",
       "1       Karnataka   864140   11557   864140    11557\n",
       "2  Andhra Pradesh   856159    6890   856159     6890\n",
       "3      Tamil Nadu   761568   11513   761568    11513\n",
       "4          Kerala   533501    1915   533501     1915"
      ]
     },
     "execution_count": 11,
     "metadata": {},
     "output_type": "execute_result"
    }
   ],
   "source": [
    "#hide\n",
    "df_table = pd.DataFrame({'states': dfc_cases.index, 'Cases': dfc_cases.values, 'Deaths': dfc_deaths.values, 'PCases': dfp_cases.values, 'PDeaths': dfp_deaths.values}).set_index('states')\n",
    "df_table = df_table.sort_values(by = ['Cases','Deaths'], ascending = [False, False])\n",
    "df_table = df_table.reset_index()\n",
    "df_table.head()"
   ]
  },
  {
   "cell_type": "code",
   "execution_count": 12,
   "metadata": {
    "execution": {
     "iopub.execute_input": "2020-11-18T12:26:12.876392Z",
     "iopub.status.busy": "2020-11-18T12:26:12.875572Z",
     "iopub.status.idle": "2020-11-18T12:26:12.883584Z",
     "shell.execute_reply": "2020-11-18T12:26:12.884159Z"
    },
    "papermill": {
     "duration": 0.031773,
     "end_time": "2020-11-18T12:26:12.884315",
     "exception": false,
     "start_time": "2020-11-18T12:26:12.852542",
     "status": "completed"
    },
    "tags": []
   },
   "outputs": [],
   "source": [
    "#hide\n",
    "for c in 'Cases, Deaths'.split(', '):\n",
    "    df_table[f'{c} (+)'] = (df_table[c] - df_table[f'P{c}']).clip(0)\n",
    "df_table['Fatality Rate'] = (100* df_table['Deaths']/ df_table['Cases']).round(2)"
   ]
  },
  {
   "cell_type": "code",
   "execution_count": 13,
   "metadata": {
    "execution": {
     "iopub.execute_input": "2020-11-18T12:26:12.929075Z",
     "iopub.status.busy": "2020-11-18T12:26:12.928462Z",
     "iopub.status.idle": "2020-11-18T12:26:12.932002Z",
     "shell.execute_reply": "2020-11-18T12:26:12.931497Z"
    },
    "papermill": {
     "duration": 0.030477,
     "end_time": "2020-11-18T12:26:12.932134",
     "exception": false,
     "start_time": "2020-11-18T12:26:12.901657",
     "status": "completed"
    },
    "tags": []
   },
   "outputs": [
    {
     "data": {
      "text/html": [
       "<div>\n",
       "<style scoped>\n",
       "    .dataframe tbody tr th:only-of-type {\n",
       "        vertical-align: middle;\n",
       "    }\n",
       "\n",
       "    .dataframe tbody tr th {\n",
       "        vertical-align: top;\n",
       "    }\n",
       "\n",
       "    .dataframe thead th {\n",
       "        text-align: right;\n",
       "    }\n",
       "</style>\n",
       "<table border=\"1\" class=\"dataframe\">\n",
       "  <thead>\n",
       "    <tr style=\"text-align: right;\">\n",
       "      <th></th>\n",
       "      <th>states</th>\n",
       "      <th>Cases</th>\n",
       "      <th>Deaths</th>\n",
       "      <th>PCases</th>\n",
       "      <th>PDeaths</th>\n",
       "      <th>Cases (+)</th>\n",
       "      <th>Deaths (+)</th>\n",
       "      <th>Fatality Rate</th>\n",
       "    </tr>\n",
       "  </thead>\n",
       "  <tbody>\n",
       "    <tr>\n",
       "      <th>0</th>\n",
       "      <td>Maharashtra</td>\n",
       "      <td>1752509</td>\n",
       "      <td>46102</td>\n",
       "      <td>1752509</td>\n",
       "      <td>46102</td>\n",
       "      <td>0</td>\n",
       "      <td>0</td>\n",
       "      <td>2.63</td>\n",
       "    </tr>\n",
       "    <tr>\n",
       "      <th>1</th>\n",
       "      <td>Karnataka</td>\n",
       "      <td>864140</td>\n",
       "      <td>11557</td>\n",
       "      <td>864140</td>\n",
       "      <td>11557</td>\n",
       "      <td>0</td>\n",
       "      <td>0</td>\n",
       "      <td>1.34</td>\n",
       "    </tr>\n",
       "    <tr>\n",
       "      <th>2</th>\n",
       "      <td>Andhra Pradesh</td>\n",
       "      <td>856159</td>\n",
       "      <td>6890</td>\n",
       "      <td>856159</td>\n",
       "      <td>6890</td>\n",
       "      <td>0</td>\n",
       "      <td>0</td>\n",
       "      <td>0.80</td>\n",
       "    </tr>\n",
       "    <tr>\n",
       "      <th>3</th>\n",
       "      <td>Tamil Nadu</td>\n",
       "      <td>761568</td>\n",
       "      <td>11513</td>\n",
       "      <td>761568</td>\n",
       "      <td>11513</td>\n",
       "      <td>0</td>\n",
       "      <td>0</td>\n",
       "      <td>1.51</td>\n",
       "    </tr>\n",
       "    <tr>\n",
       "      <th>4</th>\n",
       "      <td>Kerala</td>\n",
       "      <td>533501</td>\n",
       "      <td>1915</td>\n",
       "      <td>533501</td>\n",
       "      <td>1915</td>\n",
       "      <td>0</td>\n",
       "      <td>0</td>\n",
       "      <td>0.36</td>\n",
       "    </tr>\n",
       "  </tbody>\n",
       "</table>\n",
       "</div>"
      ],
      "text/plain": [
       "           states    Cases  Deaths   PCases  PDeaths  Cases (+)  Deaths (+)  \\\n",
       "0     Maharashtra  1752509   46102  1752509    46102          0           0   \n",
       "1       Karnataka   864140   11557   864140    11557          0           0   \n",
       "2  Andhra Pradesh   856159    6890   856159     6890          0           0   \n",
       "3      Tamil Nadu   761568   11513   761568    11513          0           0   \n",
       "4          Kerala   533501    1915   533501     1915          0           0   \n",
       "\n",
       "   Fatality Rate  \n",
       "0           2.63  \n",
       "1           1.34  \n",
       "2           0.80  \n",
       "3           1.51  \n",
       "4           0.36  "
      ]
     },
     "execution_count": 13,
     "metadata": {},
     "output_type": "execute_result"
    }
   ],
   "source": [
    "#hide\n",
    "df_table.head()"
   ]
  },
  {
   "cell_type": "code",
   "execution_count": 14,
   "metadata": {
    "execution": {
     "iopub.execute_input": "2020-11-18T12:26:12.987895Z",
     "iopub.status.busy": "2020-11-18T12:26:12.987273Z",
     "iopub.status.idle": "2020-11-18T12:26:12.989447Z",
     "shell.execute_reply": "2020-11-18T12:26:12.990004Z"
    },
    "papermill": {
     "duration": 0.041172,
     "end_time": "2020-11-18T12:26:12.990179",
     "exception": false,
     "start_time": "2020-11-18T12:26:12.949007",
     "status": "completed"
    },
    "tags": []
   },
   "outputs": [
    {
     "data": {
      "text/plain": [
       "{'updated': '2020-11-18',\n",
       " 'since': '2020-11-17',\n",
       " 'Cases': 8913642,\n",
       " 'PCases': 8912774,\n",
       " 'Deaths': 131047,\n",
       " 'PDeaths': 131032,\n",
       " 'Cases (+)': 868,\n",
       " 'Deaths (+)': 15}"
      ]
     },
     "execution_count": 14,
     "metadata": {},
     "output_type": "execute_result"
    }
   ],
   "source": [
    "#hide\n",
    "summary = {'updated':dates[-1], 'since':dates[-2]}\n",
    "list_names = ['Cases', 'PCases', 'Deaths', 'PDeaths', 'Cases (+)', 'Deaths (+)']\n",
    "for name in list_names:\n",
    "    summary[name] = df_table.sum()[name]\n",
    "summary"
   ]
  },
  {
   "cell_type": "code",
   "execution_count": 15,
   "metadata": {
    "execution": {
     "iopub.execute_input": "2020-11-18T12:26:13.032971Z",
     "iopub.status.busy": "2020-11-18T12:26:13.032376Z",
     "iopub.status.idle": "2020-11-18T12:26:13.034365Z",
     "shell.execute_reply": "2020-11-18T12:26:13.034831Z"
    },
    "papermill": {
     "duration": 0.025869,
     "end_time": "2020-11-18T12:26:13.034990",
     "exception": false,
     "start_time": "2020-11-18T12:26:13.009121",
     "status": "completed"
    },
    "tags": []
   },
   "outputs": [],
   "source": [
    "#hide\n",
    "overview = '''\n",
    "<!-- #######  HTML!! #########-->\n",
    "<h1 style=\"color: #5e9ca0; text-align: center;\">India</h1>\n",
    "<p style=\"text-align: center;\">Last update: <strong>{update}</strong></p>\n",
    "<p style=\"text-align: center;\">Confirmed cases:</p>\n",
    "<p style=\"text-align: center;font-size:24px;\">{cases} (<span style=\"color: #ff0000;\">+{new}</span>)</p>\n",
    "<p style=\"text-align: center;\">Confirmed deaths:</p>\n",
    "<p style=\"text-align: center;font-size:24px;\">{deaths} (<span style=\"color: #ff0000;\">+{dnew}</span>)</p>\n",
    "'''"
   ]
  },
  {
   "cell_type": "code",
   "execution_count": 16,
   "metadata": {
    "execution": {
     "iopub.execute_input": "2020-11-18T12:26:13.077147Z",
     "iopub.status.busy": "2020-11-18T12:26:13.076417Z",
     "iopub.status.idle": "2020-11-18T12:26:13.078991Z",
     "shell.execute_reply": "2020-11-18T12:26:13.079492Z"
    },
    "papermill": {
     "duration": 0.027454,
     "end_time": "2020-11-18T12:26:13.079647",
     "exception": false,
     "start_time": "2020-11-18T12:26:13.052193",
     "status": "completed"
    },
    "tags": []
   },
   "outputs": [
    {
     "data": {
      "text/html": [
       "\n",
       "<!-- #######  HTML!! #########-->\n",
       "<h1 style=\"color: #5e9ca0; text-align: center;\">India</h1>\n",
       "<p style=\"text-align: center;\">Last update: <strong>2020-11-18</strong></p>\n",
       "<p style=\"text-align: center;\">Confirmed cases:</p>\n",
       "<p style=\"text-align: center;font-size:24px;\">8913642 (<span style=\"color: #ff0000;\">+868</span>)</p>\n",
       "<p style=\"text-align: center;\">Confirmed deaths:</p>\n",
       "<p style=\"text-align: center;font-size:24px;\">131047 (<span style=\"color: #ff0000;\">+15</span>)</p>\n"
      ],
      "text/plain": [
       "<IPython.core.display.HTML object>"
      ]
     },
     "metadata": {},
     "output_type": "display_data"
    }
   ],
   "source": [
    "#hide_input\n",
    "update = summary['updated']\n",
    "cases = summary['Cases']\n",
    "new = summary['Cases (+)']\n",
    "deaths = summary['Deaths']\n",
    "dnew = summary['Deaths (+)']\n",
    "\n",
    "html = HTML(overview.format(update=update, cases=cases,new=new,deaths=deaths,dnew=dnew))\n",
    "\n",
    "display(html)"
   ]
  },
  {
   "cell_type": "code",
   "execution_count": 17,
   "metadata": {
    "execution": {
     "iopub.execute_input": "2020-11-18T12:26:13.125025Z",
     "iopub.status.busy": "2020-11-18T12:26:13.124050Z",
     "iopub.status.idle": "2020-11-18T12:26:13.128839Z",
     "shell.execute_reply": "2020-11-18T12:26:13.129287Z"
    },
    "papermill": {
     "duration": 0.032055,
     "end_time": "2020-11-18T12:26:13.129446",
     "exception": false,
     "start_time": "2020-11-18T12:26:13.097391",
     "status": "completed"
    },
    "tags": []
   },
   "outputs": [],
   "source": [
    "#hide\n",
    "dt_cols = list(dft_cases.columns[1:])\n",
    "dft_ct_new_cases = dft_cases.groupby('state')[dt_cols].sum().diff(axis=1).fillna(0).astype(int)\n",
    "dft_ct_new_cases.sort_values(by = dates[-1], ascending = False,inplace = True)"
   ]
  },
  {
   "cell_type": "code",
   "execution_count": 18,
   "metadata": {
    "execution": {
     "iopub.execute_input": "2020-11-18T12:26:13.182797Z",
     "iopub.status.busy": "2020-11-18T12:26:13.182156Z",
     "iopub.status.idle": "2020-11-18T12:26:13.186133Z",
     "shell.execute_reply": "2020-11-18T12:26:13.185529Z"
    },
    "papermill": {
     "duration": 0.039095,
     "end_time": "2020-11-18T12:26:13.186286",
     "exception": false,
     "start_time": "2020-11-18T12:26:13.147191",
     "status": "completed"
    },
    "tags": []
   },
   "outputs": [
    {
     "data": {
      "text/html": [
       "<div>\n",
       "<style scoped>\n",
       "    .dataframe tbody tr th:only-of-type {\n",
       "        vertical-align: middle;\n",
       "    }\n",
       "\n",
       "    .dataframe tbody tr th {\n",
       "        vertical-align: top;\n",
       "    }\n",
       "\n",
       "    .dataframe thead th {\n",
       "        text-align: right;\n",
       "    }\n",
       "</style>\n",
       "<table border=\"1\" class=\"dataframe\">\n",
       "  <thead>\n",
       "    <tr style=\"text-align: right;\">\n",
       "      <th>states</th>\n",
       "      <th>2020-07-01</th>\n",
       "      <th>2020-07-02</th>\n",
       "      <th>2020-07-03</th>\n",
       "      <th>2020-07-04</th>\n",
       "      <th>2020-07-05</th>\n",
       "      <th>2020-07-06</th>\n",
       "      <th>2020-07-07</th>\n",
       "      <th>2020-07-08</th>\n",
       "      <th>2020-07-09</th>\n",
       "      <th>2020-07-10</th>\n",
       "      <th>...</th>\n",
       "      <th>2020-11-09</th>\n",
       "      <th>2020-11-10</th>\n",
       "      <th>2020-11-11</th>\n",
       "      <th>2020-11-12</th>\n",
       "      <th>2020-11-13</th>\n",
       "      <th>2020-11-14</th>\n",
       "      <th>2020-11-15</th>\n",
       "      <th>2020-11-16</th>\n",
       "      <th>2020-11-17</th>\n",
       "      <th>2020-11-18</th>\n",
       "    </tr>\n",
       "    <tr>\n",
       "      <th>state</th>\n",
       "      <th></th>\n",
       "      <th></th>\n",
       "      <th></th>\n",
       "      <th></th>\n",
       "      <th></th>\n",
       "      <th></th>\n",
       "      <th></th>\n",
       "      <th></th>\n",
       "      <th></th>\n",
       "      <th></th>\n",
       "      <th></th>\n",
       "      <th></th>\n",
       "      <th></th>\n",
       "      <th></th>\n",
       "      <th></th>\n",
       "      <th></th>\n",
       "      <th></th>\n",
       "      <th></th>\n",
       "      <th></th>\n",
       "      <th></th>\n",
       "      <th></th>\n",
       "    </tr>\n",
       "  </thead>\n",
       "  <tbody>\n",
       "    <tr>\n",
       "      <th>Odisha</th>\n",
       "      <td>0</td>\n",
       "      <td>229</td>\n",
       "      <td>561</td>\n",
       "      <td>495</td>\n",
       "      <td>469</td>\n",
       "      <td>456</td>\n",
       "      <td>571</td>\n",
       "      <td>527</td>\n",
       "      <td>577</td>\n",
       "      <td>755</td>\n",
       "      <td>...</td>\n",
       "      <td>1219</td>\n",
       "      <td>987</td>\n",
       "      <td>1220</td>\n",
       "      <td>986</td>\n",
       "      <td>1018</td>\n",
       "      <td>902</td>\n",
       "      <td>753</td>\n",
       "      <td>749</td>\n",
       "      <td>644</td>\n",
       "      <td>868</td>\n",
       "    </tr>\n",
       "    <tr>\n",
       "      <th>Andaman and Nicobar Islands</th>\n",
       "      <td>0</td>\n",
       "      <td>9</td>\n",
       "      <td>7</td>\n",
       "      <td>3</td>\n",
       "      <td>6</td>\n",
       "      <td>16</td>\n",
       "      <td>6</td>\n",
       "      <td>2</td>\n",
       "      <td>7</td>\n",
       "      <td>0</td>\n",
       "      <td>...</td>\n",
       "      <td>13</td>\n",
       "      <td>14</td>\n",
       "      <td>17</td>\n",
       "      <td>13</td>\n",
       "      <td>11</td>\n",
       "      <td>9</td>\n",
       "      <td>9</td>\n",
       "      <td>21</td>\n",
       "      <td>17</td>\n",
       "      <td>0</td>\n",
       "    </tr>\n",
       "    <tr>\n",
       "      <th>Andhra Pradesh</th>\n",
       "      <td>0</td>\n",
       "      <td>845</td>\n",
       "      <td>837</td>\n",
       "      <td>765</td>\n",
       "      <td>998</td>\n",
       "      <td>1322</td>\n",
       "      <td>1178</td>\n",
       "      <td>1062</td>\n",
       "      <td>1555</td>\n",
       "      <td>1608</td>\n",
       "      <td>...</td>\n",
       "      <td>1392</td>\n",
       "      <td>1886</td>\n",
       "      <td>1732</td>\n",
       "      <td>1728</td>\n",
       "      <td>1593</td>\n",
       "      <td>1657</td>\n",
       "      <td>1056</td>\n",
       "      <td>753</td>\n",
       "      <td>1395</td>\n",
       "      <td>0</td>\n",
       "    </tr>\n",
       "    <tr>\n",
       "      <th>Maharashtra</th>\n",
       "      <td>0</td>\n",
       "      <td>6328</td>\n",
       "      <td>6364</td>\n",
       "      <td>7074</td>\n",
       "      <td>6555</td>\n",
       "      <td>5368</td>\n",
       "      <td>5134</td>\n",
       "      <td>6603</td>\n",
       "      <td>6875</td>\n",
       "      <td>7862</td>\n",
       "      <td>...</td>\n",
       "      <td>3277</td>\n",
       "      <td>3791</td>\n",
       "      <td>4907</td>\n",
       "      <td>4496</td>\n",
       "      <td>4132</td>\n",
       "      <td>4237</td>\n",
       "      <td>2544</td>\n",
       "      <td>2535</td>\n",
       "      <td>2732</td>\n",
       "      <td>0</td>\n",
       "    </tr>\n",
       "    <tr>\n",
       "      <th>Manipur</th>\n",
       "      <td>0</td>\n",
       "      <td>19</td>\n",
       "      <td>37</td>\n",
       "      <td>9</td>\n",
       "      <td>41</td>\n",
       "      <td>24</td>\n",
       "      <td>40</td>\n",
       "      <td>5</td>\n",
       "      <td>15</td>\n",
       "      <td>132</td>\n",
       "      <td>...</td>\n",
       "      <td>182</td>\n",
       "      <td>219</td>\n",
       "      <td>180</td>\n",
       "      <td>254</td>\n",
       "      <td>214</td>\n",
       "      <td>211</td>\n",
       "      <td>235</td>\n",
       "      <td>178</td>\n",
       "      <td>159</td>\n",
       "      <td>0</td>\n",
       "    </tr>\n",
       "  </tbody>\n",
       "</table>\n",
       "<p>5 rows × 141 columns</p>\n",
       "</div>"
      ],
      "text/plain": [
       "states                       2020-07-01  2020-07-02  2020-07-03  2020-07-04  \\\n",
       "state                                                                         \n",
       "Odisha                                0         229         561         495   \n",
       "Andaman and Nicobar Islands           0           9           7           3   \n",
       "Andhra Pradesh                        0         845         837         765   \n",
       "Maharashtra                           0        6328        6364        7074   \n",
       "Manipur                               0          19          37           9   \n",
       "\n",
       "states                       2020-07-05  2020-07-06  2020-07-07  2020-07-08  \\\n",
       "state                                                                         \n",
       "Odisha                              469         456         571         527   \n",
       "Andaman and Nicobar Islands           6          16           6           2   \n",
       "Andhra Pradesh                      998        1322        1178        1062   \n",
       "Maharashtra                        6555        5368        5134        6603   \n",
       "Manipur                              41          24          40           5   \n",
       "\n",
       "states                       2020-07-09  2020-07-10  ...  2020-11-09  \\\n",
       "state                                                ...               \n",
       "Odisha                              577         755  ...        1219   \n",
       "Andaman and Nicobar Islands           7           0  ...          13   \n",
       "Andhra Pradesh                     1555        1608  ...        1392   \n",
       "Maharashtra                        6875        7862  ...        3277   \n",
       "Manipur                              15         132  ...         182   \n",
       "\n",
       "states                       2020-11-10  2020-11-11  2020-11-12  2020-11-13  \\\n",
       "state                                                                         \n",
       "Odisha                              987        1220         986        1018   \n",
       "Andaman and Nicobar Islands          14          17          13          11   \n",
       "Andhra Pradesh                     1886        1732        1728        1593   \n",
       "Maharashtra                        3791        4907        4496        4132   \n",
       "Manipur                             219         180         254         214   \n",
       "\n",
       "states                       2020-11-14  2020-11-15  2020-11-16  2020-11-17  \\\n",
       "state                                                                         \n",
       "Odisha                              902         753         749         644   \n",
       "Andaman and Nicobar Islands           9           9          21          17   \n",
       "Andhra Pradesh                     1657        1056         753        1395   \n",
       "Maharashtra                        4237        2544        2535        2732   \n",
       "Manipur                             211         235         178         159   \n",
       "\n",
       "states                       2020-11-18  \n",
       "state                                    \n",
       "Odisha                              868  \n",
       "Andaman and Nicobar Islands           0  \n",
       "Andhra Pradesh                        0  \n",
       "Maharashtra                           0  \n",
       "Manipur                               0  \n",
       "\n",
       "[5 rows x 141 columns]"
      ]
     },
     "execution_count": 18,
     "metadata": {},
     "output_type": "execute_result"
    }
   ],
   "source": [
    "#hide\n",
    "dft_ct_new_cases.head()"
   ]
  },
  {
   "cell_type": "code",
   "execution_count": 19,
   "metadata": {
    "execution": {
     "iopub.execute_input": "2020-11-18T12:26:13.239563Z",
     "iopub.status.busy": "2020-11-18T12:26:13.238835Z",
     "iopub.status.idle": "2020-11-18T12:26:18.908152Z",
     "shell.execute_reply": "2020-11-18T12:26:18.908634Z"
    },
    "papermill": {
     "duration": 5.702608,
     "end_time": "2020-11-18T12:26:18.908792",
     "exception": false,
     "start_time": "2020-11-18T12:26:13.206184",
     "status": "completed"
    },
    "tags": []
   },
   "outputs": [
    {
     "data": {
      "image/png": "[encoded data removed]",
      "text/plain": [
       "<Figure size 1296x2016 with 11 Axes>"
      ]
     },
     "metadata": {
      "needs_background": "light"
     },
     "output_type": "display_data"
    }
   ],
   "source": [
    "#hide_input\n",
    "df = dft_ct_new_cases.copy()\n",
    "df.loc['Total'] = df.sum()\n",
    "n = 5\n",
    "ax = []\n",
    "fig = plt.figure(figsize = (18,28))\n",
    "gs = fig.add_gridspec(n+2, 5)\n",
    "# gs = fig.add_gridspec(2, 3)\n",
    "ax1 = fig.add_subplot(gs[0, :])\n",
    "ef = df.loc['Total'].rename_axis('date').reset_index()\n",
    "ef['date'] = ef['date'].astype('datetime64[ns]')\n",
    "ax1.bar(ef.date,ef.Total,alpha=0.3,color='#007acc')\n",
    "ax1.plot(ef.date,ef.Total , marker=\"o\", color='#007acc')\n",
    "ax1.xaxis.set_major_locator(mdates.WeekdayLocator())\n",
    "ax1.xaxis.set_major_formatter(mdates.DateFormatter('%b %d'))\n",
    "ax1.text(0.02, 0.5,'India daily case count', transform = ax1.transAxes, fontsize=25);\n",
    "ax1.spines['right'].set_visible(False)\n",
    "ax1.spines['top'].set_visible(False)\n",
    "\n",
    "ax2 = fig.add_subplot(gs[1,0])\n",
    "ef = df.loc['Maharashtra'].rename_axis('date').reset_index()\n",
    "ef['date'] = ef['date'].astype('datetime64[ns]')\n",
    "\n",
    "ax2.bar(ef.date, ef.Maharashtra,color = '#007acc',alpha=0.5)\n",
    "ax2.xaxis.set_major_locator(mdates.WeekdayLocator())\n",
    "ax2.xaxis.set_major_formatter(mdates.DateFormatter('%b %d'))\n",
    "ax2.set_xticks(ax2.get_xticks()[::3])\n",
    "maxyval = ef.Maharashtra.max()\n",
    "ax2.set_ylim([0,maxyval])\n",
    "ax2.text(0.05, 0.9,'Maharashtra', transform = ax2.transAxes, fontsize=20);\n",
    "ax2.spines['right'].set_visible(False)\n",
    "ax2.spines['top'].set_visible(False)\n",
    "\n",
    "\n",
    "ax3 = fig.add_subplot(gs[1,1])\n",
    "ef = df.loc['Tamil Nadu'].rename_axis('date').reset_index()\n",
    "ef['date'] = ef['date'].astype('datetime64[ns]')\n",
    "ax3.bar(ef.date, ef['Tamil Nadu'],color = '#007acc',alpha=0.5,)\n",
    "ax3.xaxis.set_major_locator(mdates.WeekdayLocator())\n",
    "ax3.xaxis.set_major_formatter(mdates.DateFormatter('%b %d'))\n",
    "ax3.set_xticks(ax3.get_xticks()[::3])\n",
    "ax3.text(0.05, 0.9,'Tamil Nadu', transform = ax3.transAxes, fontsize=20);\n",
    "ax3.spines['right'].set_visible(False)\n",
    "ax3.spines['top'].set_visible(False)\n",
    "\n",
    "ax5 = fig.add_subplot(gs[1,3])\n",
    "ef = df.loc['Telangana'].rename_axis('date').reset_index()\n",
    "ef['date'] = ef['date'].astype('datetime64[ns]')\n",
    "ax5.bar(ef.date, ef['Telangana'],color = '#007acc',alpha=0.5,)\n",
    "ax5.xaxis.set_major_locator(mdates.WeekdayLocator())\n",
    "ax5.xaxis.set_major_formatter(mdates.DateFormatter('%b %d'))\n",
    "ax5.set_xticks(ax5.get_xticks()[::3])\n",
    "ax5.text(0.05, 0.9,'Telangana', transform = ax5.transAxes, fontsize=20);\n",
    "ax5.spines['right'].set_visible(False)\n",
    "ax5.spines['top'].set_visible(False)\n",
    "\n",
    "ax6 = fig.add_subplot(gs[1,4])\n",
    "ef = df.loc['Andhra Pradesh'].rename_axis('date').reset_index()\n",
    "ef['date'] = ef['date'].astype('datetime64[ns]')\n",
    "ax6.bar(ef.date, ef['Andhra Pradesh'],color = '#007acc',alpha=0.5,)\n",
    "ax6.xaxis.set_major_locator(mdates.WeekdayLocator())\n",
    "ax6.xaxis.set_major_formatter(mdates.DateFormatter('%b %d'))\n",
    "ax6.set_xticks(ax6.get_xticks()[::3])\n",
    "ax6.text(0.05, 1,'Andhra Pradesh', transform = ax6.transAxes, fontsize=20);\n",
    "ax6.spines['right'].set_visible(False)\n",
    "ax6.spines['top'].set_visible(False)\n",
    "\n",
    "ax4 = fig.add_subplot(gs[1,2])\n",
    "ef = df.loc['Delhi'].rename_axis('date').reset_index()\n",
    "ef['date'] = ef['date'].astype('datetime64[ns]')\n",
    "ax4.bar(ef.date, ef.Delhi,color = '#007acc',alpha=0.5)\n",
    "ax4.set_xticks([])\n",
    "ax4.xaxis.set_major_locator(mdates.WeekdayLocator())\n",
    "ax4.xaxis.set_major_formatter(mdates.DateFormatter('%b %d'))\n",
    "ax4.set_xticks(ax4.get_xticks()[::3])\n",
    "ax4.spines['right'].set_visible(False)\n",
    "ax4.spines['top'].set_visible(False)\n",
    "\n",
    "ax4.text(0.05, 1,'Delhi', transform = ax4.transAxes, fontsize=20)\n",
    "\n",
    "for i in range(n):\n",
    "    \n",
    "    ax.append(fig.add_subplot(gs[i+2,:]))\n",
    "    ef = df.iloc[i+3].rename_axis('date').reset_index()\n",
    "    ef['date'] = ef['date'].astype('datetime64[ns]')\n",
    "    ax[i].bar(ef.date,ef.iloc[:,-1],color = '#007acc',alpha=0.3)\n",
    "    ax[i].plot(ef.date,ef.iloc[:,-1],marker='o',color='#007acc')\n",
    "    ax[i].text(0.02,0.5,f'{ef.columns.values[-1]}',transform = ax[i].transAxes, fontsize = 20);\n",
    "    ax[i].xaxis.set_major_locator(mdates.WeekdayLocator())\n",
    "    ax[i].xaxis.set_major_formatter(mdates.DateFormatter('%b %d'))\n",
    "    ax[i].set_ylim([0,7000])\n",
    "    ax[i].spines['right'].set_visible(False)\n",
    "    ax[i].spines['top'].set_visible(False)\n",
    "plt.tight_layout()\n"
   ]
  },
  {
   "cell_type": "code",
   "execution_count": 20,
   "metadata": {
    "execution": {
     "iopub.execute_input": "2020-11-18T12:26:18.966407Z",
     "iopub.status.busy": "2020-11-18T12:26:18.965721Z",
     "iopub.status.idle": "2020-11-18T12:26:18.968122Z",
     "shell.execute_reply": "2020-11-18T12:26:18.968625Z"
    },
    "papermill": {
     "duration": 0.035277,
     "end_time": "2020-11-18T12:26:18.968783",
     "exception": false,
     "start_time": "2020-11-18T12:26:18.933506",
     "status": "completed"
    },
    "tags": []
   },
   "outputs": [
    {
     "name": "stdout",
     "output_type": "stream",
     "text": [
      "                                   states    Cases  Deaths   PCases  PDeaths  Cases (+)  Deaths (+)  Fatality Rate\n",
      "                              Maharashtra  1752509   46102  1752509    46102          0           0           2.63\n",
      "                                Karnataka   864140   11557   864140    11557          0           0           1.34\n",
      "                           Andhra Pradesh   856159    6890   856159     6890          0           0           0.80\n",
      "                               Tamil Nadu   761568   11513   761568    11513          0           0           1.51\n",
      "                                   Kerala   533501    1915   533501     1915          0           0           0.36\n",
      "                            Uttar Pradesh   514270    7412   514270     7412          0           0           1.44\n",
      "                                    Delhi   495598    7812   495598     7812          0           0           1.58\n",
      "                              West Bengal   438217    7766   438217     7766          0           0           1.77\n",
      "                                   Odisha   310920    1628   310052     1613        868          15           0.52\n",
      "                                Telangana   258828    1410   258828     1410          0           0           0.54\n",
      "                                Rajasthan   230180    2089   230180     2089          0           0           0.91\n",
      "                                    Bihar   227946    1194   227946     1194          0           0           0.52\n",
      "                             Chhattisgarh   213365    2623   213365     2623          0           0           1.23\n",
      "                                    Assam   210696     967   210696      967          0           0           0.46\n",
      "                                  Haryana   204477    2063   204477     2063          0           0           1.01\n",
      "                                  Gujarat   190361    3815   190361     3815          0           0           2.00\n",
      "                           Madhya Pradesh   185446    3102   185446     3102          0           0           1.67\n",
      "                                   Punjab   142597    4510   142597     4510          0           0           3.16\n",
      "                                Jharkhand   106491     931   106491      931          0           0           0.87\n",
      "                        Jammu and Kashmir   103581    1604   103581     1604          0           0           1.55\n",
      "                              Uttarakhand    68887    1119    68887     1119          0           0           1.62\n",
      "                                      Goa    46182     667    46182      667          0           0           1.44\n",
      "                               Puducherry    36409     608    36409      608          0           0           1.67\n",
      "                                  Tripura    32036     361    32036      361          0           0           1.13\n",
      "                         Himachal Pradesh    30740     455    30740      455          0           0           1.48\n",
      "                                  Manipur    22208     225    22208      225          0           0           1.01\n",
      "                               Chandigarh    16022     252    16022      252          0           0           1.57\n",
      "                        Arunachal Pradesh    15904      48    15904       48          0           0           0.30\n",
      "                                Meghalaya    10794     102    10794      102          0           0           0.94\n",
      "                                 Nagaland    10188      53    10188       53          0           0           0.52\n",
      "                                   Ladakh     7563      94     7563       94          0           0           1.24\n",
      "              Andaman and Nicobar Islands     4574      61     4574       61          0           0           1.33\n",
      "                                   Sikkim     4549      92     4549       92          0           0           2.02\n",
      "                                  Mizoram     3444       5     3444        5          0           0           0.15\n",
      " Dadra and Nagar Haveli and Daman and Diu     3292       2     3292        2          0           0           0.06\n",
      "                              Lakshadweep        0       0        0        0          0           0            NaN\n"
     ]
    }
   ],
   "source": [
    "#hide_input\n",
    "print(df_table.to_string(index=False))"
   ]
  },
  {
   "cell_type": "code",
   "execution_count": null,
   "metadata": {
    "papermill": {
     "duration": 0.023898,
     "end_time": "2020-11-18T12:26:19.016314",
     "exception": false,
     "start_time": "2020-11-18T12:26:18.992416",
     "status": "completed"
    },
    "tags": []
   },
   "outputs": [],
   "source": []
  },
  {
   "cell_type": "code",
   "execution_count": null,
   "metadata": {
    "papermill": {
     "duration": 0.025515,
     "end_time": "2020-11-18T12:26:19.066841",
     "exception": false,
     "start_time": "2020-11-18T12:26:19.041326",
     "status": "completed"
    },
    "tags": []
   },
   "outputs": [],
   "source": []
  }
 ],
 "metadata": {
  "kernelspec": {
   "display_name": "Python 3",
   "language": "python",
   "name": "python3"
  },
  "language_info": {
   "codemirror_mode": {
    "name": "ipython",
    "version": 3
   },
   "file_extension": ".py",
   "mimetype": "text/x-python",
   "name": "python",
   "nbconvert_exporter": "python",
   "pygments_lexer": "ipython3",
   "version": "3.6.12"
  },
  "papermill": {
   "duration": 14.350801,
   "end_time": "2020-11-18T12:26:20.313059",
   "environment_variables": {},
   "exception": null,
   "input_path": "latest.ipynb",
   "output_path": "latest.ipynb",
   "parameters": {},
   "start_time": "2020-11-18T12:26:05.962258",
   "version": "2.1.2"
  }
 },
 "nbformat": 4,
 "nbformat_minor": 4
}