{
 "cells": [
  {
   "cell_type": "markdown",
   "metadata": {
    "papermill": {
     "duration": 0.022908,
     "end_time": "2020-09-13T07:51:43.051475",
     "exception": false,
     "start_time": "2020-09-13T07:51:43.028567",
     "status": "completed"
    },
    "tags": []
   },
   "source": [
    "# Latest COVID-19 India Matplotlib Overview"
   ]
  },
  {
   "cell_type": "code",
   "execution_count": 1,
   "metadata": {
    "execution": {
     "iopub.execute_input": "2020-09-13T07:51:43.120910Z",
     "iopub.status.busy": "2020-09-13T07:51:43.120266Z",
     "iopub.status.idle": "2020-09-13T07:51:43.714253Z",
     "shell.execute_reply": "2020-09-13T07:51:43.714759Z"
    },
    "papermill": {
     "duration": 0.618594,
     "end_time": "2020-09-13T07:51:43.715022",
     "exception": false,
     "start_time": "2020-09-13T07:51:43.096428",
     "status": "completed"
    },
    "tags": []
   },
   "outputs": [],
   "source": [
    "#hide\n",
    "import pandas as pd\n",
    "import numpy as np\n",
    "import requests\n",
    "import json\n",
    "import matplotlib.pyplot as plt\n",
    "import matplotlib.dates as mdates\n",
    "import matplotlib as mpl\n",
    "from IPython.core.display import display,HTML\n",
    "%matplotlib inline\n",
    "from datetime import date"
   ]
  },
  {
   "cell_type": "code",
   "execution_count": 2,
   "metadata": {
    "execution": {
     "iopub.execute_input": "2020-09-13T07:51:43.757813Z",
     "iopub.status.busy": "2020-09-13T07:51:43.757113Z",
     "iopub.status.idle": "2020-09-13T07:51:43.888096Z",
     "shell.execute_reply": "2020-09-13T07:51:43.887564Z"
    },
    "papermill": {
     "duration": 0.154388,
     "end_time": "2020-09-13T07:51:43.888241",
     "exception": false,
     "start_time": "2020-09-13T07:51:43.733853",
     "status": "completed"
    },
    "tags": []
   },
   "outputs": [],
   "source": [
    "#hide\n",
    "df  = pd.read_csv('https://api.covid19india.org/csv/latest/states.csv')\n",
    "df = df[['Date','State','Confirmed','Deceased']]\n",
    "df = df.rename(columns={'Confirmed':'Cases', \"Deceased\":'Deaths'})\n",
    "df_cases = df[[\"Date\",'State','Cases']]\n",
    "df_deaths = df[['Date','State','Deaths']]\n",
    "df_cases1 = df_cases.groupby('Date')\n",
    "df_deaths1= df_deaths.groupby('Date')"
   ]
  },
  {
   "cell_type": "code",
   "execution_count": 3,
   "metadata": {
    "execution": {
     "iopub.execute_input": "2020-09-13T07:51:43.933826Z",
     "iopub.status.busy": "2020-09-13T07:51:43.933182Z",
     "iopub.status.idle": "2020-09-13T07:51:43.952066Z",
     "shell.execute_reply": "2020-09-13T07:51:43.951502Z"
    },
    "papermill": {
     "duration": 0.046456,
     "end_time": "2020-09-13T07:51:43.952212",
     "exception": false,
     "start_time": "2020-09-13T07:51:43.905756",
     "status": "completed"
    },
    "tags": []
   },
   "outputs": [],
   "source": [
    "#hide\n",
    "df_snap = pd.read_csv('data/SnapshotCases-28-July.csv')\n",
    "arr_states = df_snap['states'].unique()\n",
    "arr_dates = df['Date'].unique()\n",
    "df_snap = df_snap.set_index('states')"
   ]
  },
  {
   "cell_type": "code",
   "execution_count": 4,
   "metadata": {
    "execution": {
     "iopub.execute_input": "2020-09-13T07:51:43.990989Z",
     "iopub.status.busy": "2020-09-13T07:51:43.990378Z",
     "iopub.status.idle": "2020-09-13T07:51:43.993901Z",
     "shell.execute_reply": "2020-09-13T07:51:43.993278Z"
    },
    "papermill": {
     "duration": 0.026209,
     "end_time": "2020-09-13T07:51:43.994047",
     "exception": false,
     "start_time": "2020-09-13T07:51:43.967838",
     "status": "completed"
    },
    "tags": []
   },
   "outputs": [
    {
     "data": {
      "text/plain": [
       "array(['Andaman and Nicobar Islands', 'Andhra Pradesh',\n",
       "       'Arunachal Pradesh', 'Assam', 'Bihar', 'Chandigarh',\n",
       "       'Dadra and Nagar Haveli and Daman and Diu', 'Delhi', 'Goa',\n",
       "       'Gujarat', 'Haryana', 'Himachal Pradesh', 'Jammu and Kashmir',\n",
       "       'Jharkhand', 'Karnataka', 'Kerala', 'Lakshadweep',\n",
       "       'Madhya Pradesh', 'Maharashtra', 'Manipur', 'Meghalaya', 'Mizoram',\n",
       "       'Nagaland', 'Odisha', 'Puducherry', 'Punjab', 'Rajasthan',\n",
       "       'Sikkim', 'Tamil Nadu', 'Telangana', 'Tripura', 'Uttar Pradesh',\n",
       "       'West Bengal', 'Chhattisgarh', 'Ladakh', 'Uttarakhand'],\n",
       "      dtype=object)"
      ]
     },
     "execution_count": 4,
     "metadata": {},
     "output_type": "execute_result"
    }
   ],
   "source": [
    "#hide\n",
    "arr_states[-9] = 'Puducherry'\n",
    "arr_states[-10] = 'Odisha'\n",
    "arr_states[6] = 'Dadra and Nagar Haveli and Daman and Diu'\n",
    "arr_states = np.append(arr_states,np.array(['Chhattisgarh','Ladakh','Uttarakhand']))\n",
    "arr_states"
   ]
  },
  {
   "cell_type": "code",
   "execution_count": 5,
   "metadata": {
    "execution": {
     "iopub.execute_input": "2020-09-13T07:51:44.035140Z",
     "iopub.status.busy": "2020-09-13T07:51:44.034369Z",
     "iopub.status.idle": "2020-09-13T07:51:44.043218Z",
     "shell.execute_reply": "2020-09-13T07:51:44.042733Z"
    },
    "papermill": {
     "duration": 0.03298,
     "end_time": "2020-09-13T07:51:44.043334",
     "exception": false,
     "start_time": "2020-09-13T07:51:44.010354",
     "status": "completed"
    },
    "tags": []
   },
   "outputs": [],
   "source": [
    "#hide\n",
    "dates = []\n",
    "for i in arr_dates:\n",
    "    if i>='2020-07-01':\n",
    "        dates.append(i)\n",
    "dict = {'states':dates}\n",
    "for i in arr_states:\n",
    "    dict[i] = [0]*len(dates)\n",
    "dft_cases = pd.DataFrame(dict)\n",
    "dft_deaths = pd.DataFrame(dict)\n"
   ]
  },
  {
   "cell_type": "code",
   "execution_count": 6,
   "metadata": {
    "execution": {
     "iopub.execute_input": "2020-09-13T07:51:44.083736Z",
     "iopub.status.busy": "2020-09-13T07:51:44.082993Z",
     "iopub.status.idle": "2020-09-13T07:51:45.326076Z",
     "shell.execute_reply": "2020-09-13T07:51:45.325541Z"
    },
    "papermill": {
     "duration": 1.266557,
     "end_time": "2020-09-13T07:51:45.326247",
     "exception": false,
     "start_time": "2020-09-13T07:51:44.059690",
     "status": "completed"
    },
    "tags": []
   },
   "outputs": [],
   "source": [
    "#hide\n",
    "for i in range(len(dates)):\n",
    "    df1_deaths = df_deaths1.get_group(dates[i])\n",
    "    for j in range(len(df1_deaths.index)):\n",
    "        if df1_deaths.iloc[j,1] in arr_states:\n",
    "            dft_deaths.loc[i,df1_deaths.iloc[j,1]] = df1_deaths.iloc[j,2]\n",
    "dft_deaths = dft_deaths.set_index('states')"
   ]
  },
  {
   "cell_type": "code",
   "execution_count": 7,
   "metadata": {
    "execution": {
     "iopub.execute_input": "2020-09-13T07:51:45.366302Z",
     "iopub.status.busy": "2020-09-13T07:51:45.365716Z",
     "iopub.status.idle": "2020-09-13T07:51:46.602674Z",
     "shell.execute_reply": "2020-09-13T07:51:46.601620Z"
    },
    "papermill": {
     "duration": 1.259578,
     "end_time": "2020-09-13T07:51:46.602805",
     "exception": false,
     "start_time": "2020-09-13T07:51:45.343227",
     "status": "completed"
    },
    "tags": []
   },
   "outputs": [],
   "source": [
    "#hide\n",
    "for i in range(len(dates)):\n",
    "    df1_cases = df_cases1.get_group(dates[i])\n",
    "    for j in range(len(df1_cases.index)):\n",
    "        if df1_cases.iloc[j,1] in arr_states:\n",
    "            dft_cases.loc[i,df1_cases.iloc[j,1]] = df1_cases.iloc[j,2]\n",
    "dft_cases = dft_cases.set_index('states')"
   ]
  },
  {
   "cell_type": "code",
   "execution_count": 8,
   "metadata": {
    "execution": {
     "iopub.execute_input": "2020-09-13T07:51:46.642453Z",
     "iopub.status.busy": "2020-09-13T07:51:46.640842Z",
     "iopub.status.idle": "2020-09-13T07:51:46.643335Z",
     "shell.execute_reply": "2020-09-13T07:51:46.643985Z"
    },
    "papermill": {
     "duration": 0.024689,
     "end_time": "2020-09-13T07:51:46.644147",
     "exception": false,
     "start_time": "2020-09-13T07:51:46.619458",
     "status": "completed"
    },
    "tags": []
   },
   "outputs": [],
   "source": [
    "#hide\n",
    "dft_cases = dft_cases.T\n",
    "dft_deaths = dft_deaths.T\n",
    "dt_today = dates[-1]\n",
    "dt_yday = dates[-2]"
   ]
  },
  {
   "cell_type": "code",
   "execution_count": 9,
   "metadata": {
    "execution": {
     "iopub.execute_input": "2020-09-13T07:51:46.684957Z",
     "iopub.status.busy": "2020-09-13T07:51:46.683111Z",
     "iopub.status.idle": "2020-09-13T07:51:46.687367Z",
     "shell.execute_reply": "2020-09-13T07:51:46.686788Z"
    },
    "papermill": {
     "duration": 0.027101,
     "end_time": "2020-09-13T07:51:46.687488",
     "exception": false,
     "start_time": "2020-09-13T07:51:46.660387",
     "status": "completed"
    },
    "tags": []
   },
   "outputs": [],
   "source": [
    "#hide\n",
    "dft_cases = dft_cases.reset_index()\n",
    "dft_deaths = dft_deaths.reset_index()\n",
    "dft_cases = dft_cases.rename(columns = {'index':'state'})\n",
    "dft_deaths = dft_deaths.rename(columns = {'index':'state'})"
   ]
  },
  {
   "cell_type": "code",
   "execution_count": 10,
   "metadata": {
    "execution": {
     "iopub.execute_input": "2020-09-13T07:51:46.733449Z",
     "iopub.status.busy": "2020-09-13T07:51:46.732767Z",
     "iopub.status.idle": "2020-09-13T07:51:46.736651Z",
     "shell.execute_reply": "2020-09-13T07:51:46.735996Z"
    },
    "papermill": {
     "duration": 0.032135,
     "end_time": "2020-09-13T07:51:46.736773",
     "exception": false,
     "start_time": "2020-09-13T07:51:46.704638",
     "status": "completed"
    },
    "tags": []
   },
   "outputs": [],
   "source": [
    "#hide\n",
    "dfc_cases = dft_cases.groupby('state')[dt_today].sum()\n",
    "dfc_deaths = dft_deaths.groupby('state')[dt_today].sum()\n",
    "dfp_cases = dft_cases.groupby('state')[dt_yday].sum()\n",
    "dfp_deaths = dft_deaths.groupby('state')[dt_yday].sum()"
   ]
  },
  {
   "cell_type": "code",
   "execution_count": 11,
   "metadata": {
    "execution": {
     "iopub.execute_input": "2020-09-13T07:51:46.778659Z",
     "iopub.status.busy": "2020-09-13T07:51:46.777695Z",
     "iopub.status.idle": "2020-09-13T07:51:46.792649Z",
     "shell.execute_reply": "2020-09-13T07:51:46.793141Z"
    },
    "papermill": {
     "duration": 0.039513,
     "end_time": "2020-09-13T07:51:46.793341",
     "exception": false,
     "start_time": "2020-09-13T07:51:46.753828",
     "status": "completed"
    },
    "tags": []
   },
   "outputs": [
    {
     "data": {
      "text/html": [
       "<div>\n",
       "<style scoped>\n",
       "    .dataframe tbody tr th:only-of-type {\n",
       "        vertical-align: middle;\n",
       "    }\n",
       "\n",
       "    .dataframe tbody tr th {\n",
       "        vertical-align: top;\n",
       "    }\n",
       "\n",
       "    .dataframe thead th {\n",
       "        text-align: right;\n",
       "    }\n",
       "</style>\n",
       "<table border=\"1\" class=\"dataframe\">\n",
       "  <thead>\n",
       "    <tr style=\"text-align: right;\">\n",
       "      <th></th>\n",
       "      <th>states</th>\n",
       "      <th>Cases</th>\n",
       "      <th>Deaths</th>\n",
       "      <th>PCases</th>\n",
       "      <th>PDeaths</th>\n",
       "    </tr>\n",
       "  </thead>\n",
       "  <tbody>\n",
       "    <tr>\n",
       "      <th>0</th>\n",
       "      <td>Maharashtra</td>\n",
       "      <td>1037765</td>\n",
       "      <td>29115</td>\n",
       "      <td>1037765</td>\n",
       "      <td>29115</td>\n",
       "    </tr>\n",
       "    <tr>\n",
       "      <th>1</th>\n",
       "      <td>Andhra Pradesh</td>\n",
       "      <td>557587</td>\n",
       "      <td>4846</td>\n",
       "      <td>557587</td>\n",
       "      <td>4846</td>\n",
       "    </tr>\n",
       "    <tr>\n",
       "      <th>2</th>\n",
       "      <td>Tamil Nadu</td>\n",
       "      <td>497066</td>\n",
       "      <td>8307</td>\n",
       "      <td>497066</td>\n",
       "      <td>8307</td>\n",
       "    </tr>\n",
       "    <tr>\n",
       "      <th>3</th>\n",
       "      <td>Karnataka</td>\n",
       "      <td>449551</td>\n",
       "      <td>7161</td>\n",
       "      <td>449551</td>\n",
       "      <td>7161</td>\n",
       "    </tr>\n",
       "    <tr>\n",
       "      <th>4</th>\n",
       "      <td>Uttar Pradesh</td>\n",
       "      <td>305831</td>\n",
       "      <td>4349</td>\n",
       "      <td>305831</td>\n",
       "      <td>4349</td>\n",
       "    </tr>\n",
       "  </tbody>\n",
       "</table>\n",
       "</div>"
      ],
      "text/plain": [
       "           states    Cases  Deaths   PCases  PDeaths\n",
       "0     Maharashtra  1037765   29115  1037765    29115\n",
       "1  Andhra Pradesh   557587    4846   557587     4846\n",
       "2      Tamil Nadu   497066    8307   497066     8307\n",
       "3       Karnataka   449551    7161   449551     7161\n",
       "4   Uttar Pradesh   305831    4349   305831     4349"
      ]
     },
     "execution_count": 11,
     "metadata": {},
     "output_type": "execute_result"
    }
   ],
   "source": [
    "#hide\n",
    "df_table = pd.DataFrame({'states': dfc_cases.index, 'Cases': dfc_cases.values, 'Deaths': dfc_deaths.values, 'PCases': dfp_cases.values, 'PDeaths': dfp_deaths.values}).set_index('states')\n",
    "df_table = df_table.sort_values(by = ['Cases','Deaths'], ascending = [False, False])\n",
    "df_table = df_table.reset_index()\n",
    "df_table.head()"
   ]
  },
  {
   "cell_type": "code",
   "execution_count": 12,
   "metadata": {
    "execution": {
     "iopub.execute_input": "2020-09-13T07:51:46.833209Z",
     "iopub.status.busy": "2020-09-13T07:51:46.832579Z",
     "iopub.status.idle": "2020-09-13T07:51:46.841638Z",
     "shell.execute_reply": "2020-09-13T07:51:46.841116Z"
    },
    "papermill": {
     "duration": 0.031239,
     "end_time": "2020-09-13T07:51:46.841789",
     "exception": false,
     "start_time": "2020-09-13T07:51:46.810550",
     "status": "completed"
    },
    "tags": []
   },
   "outputs": [],
   "source": [
    "#hide\n",
    "for c in 'Cases, Deaths'.split(', '):\n",
    "    df_table[f'{c} (+)'] = (df_table[c] - df_table[f'P{c}']).clip(0)\n",
    "df_table['Fatality Rate'] = (100* df_table['Deaths']/ df_table['Cases']).round(2)"
   ]
  },
  {
   "cell_type": "code",
   "execution_count": 13,
   "metadata": {
    "execution": {
     "iopub.execute_input": "2020-09-13T07:51:46.886805Z",
     "iopub.status.busy": "2020-09-13T07:51:46.886244Z",
     "iopub.status.idle": "2020-09-13T07:51:46.890013Z",
     "shell.execute_reply": "2020-09-13T07:51:46.889456Z"
    },
    "papermill": {
     "duration": 0.03158,
     "end_time": "2020-09-13T07:51:46.890142",
     "exception": false,
     "start_time": "2020-09-13T07:51:46.858562",
     "status": "completed"
    },
    "tags": []
   },
   "outputs": [
    {
     "data": {
      "text/html": [
       "<div>\n",
       "<style scoped>\n",
       "    .dataframe tbody tr th:only-of-type {\n",
       "        vertical-align: middle;\n",
       "    }\n",
       "\n",
       "    .dataframe tbody tr th {\n",
       "        vertical-align: top;\n",
       "    }\n",
       "\n",
       "    .dataframe thead th {\n",
       "        text-align: right;\n",
       "    }\n",
       "</style>\n",
       "<table border=\"1\" class=\"dataframe\">\n",
       "  <thead>\n",
       "    <tr style=\"text-align: right;\">\n",
       "      <th></th>\n",
       "      <th>states</th>\n",
       "      <th>Cases</th>\n",
       "      <th>Deaths</th>\n",
       "      <th>PCases</th>\n",
       "      <th>PDeaths</th>\n",
       "      <th>Cases (+)</th>\n",
       "      <th>Deaths (+)</th>\n",
       "      <th>Fatality Rate</th>\n",
       "    </tr>\n",
       "  </thead>\n",
       "  <tbody>\n",
       "    <tr>\n",
       "      <th>0</th>\n",
       "      <td>Maharashtra</td>\n",
       "      <td>1037765</td>\n",
       "      <td>29115</td>\n",
       "      <td>1037765</td>\n",
       "      <td>29115</td>\n",
       "      <td>0</td>\n",
       "      <td>0</td>\n",
       "      <td>2.81</td>\n",
       "    </tr>\n",
       "    <tr>\n",
       "      <th>1</th>\n",
       "      <td>Andhra Pradesh</td>\n",
       "      <td>557587</td>\n",
       "      <td>4846</td>\n",
       "      <td>557587</td>\n",
       "      <td>4846</td>\n",
       "      <td>0</td>\n",
       "      <td>0</td>\n",
       "      <td>0.87</td>\n",
       "    </tr>\n",
       "    <tr>\n",
       "      <th>2</th>\n",
       "      <td>Tamil Nadu</td>\n",
       "      <td>497066</td>\n",
       "      <td>8307</td>\n",
       "      <td>497066</td>\n",
       "      <td>8307</td>\n",
       "      <td>0</td>\n",
       "      <td>0</td>\n",
       "      <td>1.67</td>\n",
       "    </tr>\n",
       "    <tr>\n",
       "      <th>3</th>\n",
       "      <td>Karnataka</td>\n",
       "      <td>449551</td>\n",
       "      <td>7161</td>\n",
       "      <td>449551</td>\n",
       "      <td>7161</td>\n",
       "      <td>0</td>\n",
       "      <td>0</td>\n",
       "      <td>1.59</td>\n",
       "    </tr>\n",
       "    <tr>\n",
       "      <th>4</th>\n",
       "      <td>Uttar Pradesh</td>\n",
       "      <td>305831</td>\n",
       "      <td>4349</td>\n",
       "      <td>305831</td>\n",
       "      <td>4349</td>\n",
       "      <td>0</td>\n",
       "      <td>0</td>\n",
       "      <td>1.42</td>\n",
       "    </tr>\n",
       "  </tbody>\n",
       "</table>\n",
       "</div>"
      ],
      "text/plain": [
       "           states    Cases  Deaths   PCases  PDeaths  Cases (+)  Deaths (+)  \\\n",
       "0     Maharashtra  1037765   29115  1037765    29115          0           0   \n",
       "1  Andhra Pradesh   557587    4846   557587     4846          0           0   \n",
       "2      Tamil Nadu   497066    8307   497066     8307          0           0   \n",
       "3       Karnataka   449551    7161   449551     7161          0           0   \n",
       "4   Uttar Pradesh   305831    4349   305831     4349          0           0   \n",
       "\n",
       "   Fatality Rate  \n",
       "0           2.81  \n",
       "1           0.87  \n",
       "2           1.67  \n",
       "3           1.59  \n",
       "4           1.42  "
      ]
     },
     "execution_count": 13,
     "metadata": {},
     "output_type": "execute_result"
    }
   ],
   "source": [
    "#hide\n",
    "df_table.head()"
   ]
  },
  {
   "cell_type": "code",
   "execution_count": 14,
   "metadata": {
    "execution": {
     "iopub.execute_input": "2020-09-13T07:51:46.942414Z",
     "iopub.status.busy": "2020-09-13T07:51:46.928618Z",
     "iopub.status.idle": "2020-09-13T07:51:46.945868Z",
     "shell.execute_reply": "2020-09-13T07:51:46.945343Z"
    },
    "papermill": {
     "duration": 0.039087,
     "end_time": "2020-09-13T07:51:46.945992",
     "exception": false,
     "start_time": "2020-09-13T07:51:46.906905",
     "status": "completed"
    },
    "tags": []
   },
   "outputs": [
    {
     "data": {
      "text/plain": [
       "{'updated': '2020-09-13',\n",
       " 'since': '2020-09-12',\n",
       " 'Cases': 4758581,\n",
       " 'PCases': 4751788,\n",
       " 'Deaths': 78647,\n",
       " 'PDeaths': 78614,\n",
       " 'Cases (+)': 6793,\n",
       " 'Deaths (+)': 33}"
      ]
     },
     "execution_count": 14,
     "metadata": {},
     "output_type": "execute_result"
    }
   ],
   "source": [
    "#hide\n",
    "summary = {'updated':dates[-1], 'since':dates[-2]}\n",
    "list_names = ['Cases', 'PCases', 'Deaths', 'PDeaths', 'Cases (+)', 'Deaths (+)']\n",
    "for name in list_names:\n",
    "    summary[name] = df_table.sum()[name]\n",
    "summary"
   ]
  },
  {
   "cell_type": "code",
   "execution_count": 15,
   "metadata": {
    "execution": {
     "iopub.execute_input": "2020-09-13T07:51:46.984149Z",
     "iopub.status.busy": "2020-09-13T07:51:46.983459Z",
     "iopub.status.idle": "2020-09-13T07:51:46.986878Z",
     "shell.execute_reply": "2020-09-13T07:51:46.986256Z"
    },
    "papermill": {
     "duration": 0.024503,
     "end_time": "2020-09-13T07:51:46.987014",
     "exception": false,
     "start_time": "2020-09-13T07:51:46.962511",
     "status": "completed"
    },
    "tags": []
   },
   "outputs": [],
   "source": [
    "#hide\n",
    "overview = '''\n",
    "<!-- #######  HTML!! #########-->\n",
    "<h1 style=\"color: #5e9ca0; text-align: center;\">India</h1>\n",
    "<p style=\"text-align: center;\">Last update: <strong>{update}</strong></p>\n",
    "<p style=\"text-align: center;\">Confirmed cases:</p>\n",
    "<p style=\"text-align: center;font-size:24px;\">{cases} (<span style=\"color: #ff0000;\">+{new}</span>)</p>\n",
    "<p style=\"text-align: center;\">Confirmed deaths:</p>\n",
    "<p style=\"text-align: center;font-size:24px;\">{deaths} (<span style=\"color: #ff0000;\">+{dnew}</span>)</p>\n",
    "'''"
   ]
  },
  {
   "cell_type": "code",
   "execution_count": 16,
   "metadata": {
    "execution": {
     "iopub.execute_input": "2020-09-13T07:51:47.028899Z",
     "iopub.status.busy": "2020-09-13T07:51:47.028311Z",
     "iopub.status.idle": "2020-09-13T07:51:47.031628Z",
     "shell.execute_reply": "2020-09-13T07:51:47.031097Z"
    },
    "papermill": {
     "duration": 0.027657,
     "end_time": "2020-09-13T07:51:47.031882",
     "exception": false,
     "start_time": "2020-09-13T07:51:47.004225",
     "status": "completed"
    },
    "tags": []
   },
   "outputs": [
    {
     "data": {
      "text/html": [
       "\n",
       "<!-- #######  HTML!! #########-->\n",
       "<h1 style=\"color: #5e9ca0; text-align: center;\">India</h1>\n",
       "<p style=\"text-align: center;\">Last update: <strong>2020-09-13</strong></p>\n",
       "<p style=\"text-align: center;\">Confirmed cases:</p>\n",
       "<p style=\"text-align: center;font-size:24px;\">4758581 (<span style=\"color: #ff0000;\">+6793</span>)</p>\n",
       "<p style=\"text-align: center;\">Confirmed deaths:</p>\n",
       "<p style=\"text-align: center;font-size:24px;\">78647 (<span style=\"color: #ff0000;\">+33</span>)</p>\n"
      ],
      "text/plain": [
       "<IPython.core.display.HTML object>"
      ]
     },
     "metadata": {},
     "output_type": "display_data"
    }
   ],
   "source": [
    "#hide_input\n",
    "update = summary['updated']\n",
    "cases = summary['Cases']\n",
    "new = summary['Cases (+)']\n",
    "deaths = summary['Deaths']\n",
    "dnew = summary['Deaths (+)']\n",
    "\n",
    "html = HTML(overview.format(update=update, cases=cases,new=new,deaths=deaths,dnew=dnew))\n",
    "\n",
    "display(html)"
   ]
  },
  {
   "cell_type": "code",
   "execution_count": 17,
   "metadata": {
    "execution": {
     "iopub.execute_input": "2020-09-13T07:51:47.074804Z",
     "iopub.status.busy": "2020-09-13T07:51:47.074207Z",
     "iopub.status.idle": "2020-09-13T07:51:47.078967Z",
     "shell.execute_reply": "2020-09-13T07:51:47.079540Z"
    },
    "papermill": {
     "duration": 0.030766,
     "end_time": "2020-09-13T07:51:47.079739",
     "exception": false,
     "start_time": "2020-09-13T07:51:47.048973",
     "status": "completed"
    },
    "tags": []
   },
   "outputs": [],
   "source": [
    "#hide\n",
    "dt_cols = list(dft_cases.columns[1:])\n",
    "dft_ct_new_cases = dft_cases.groupby('state')[dt_cols].sum().diff(axis=1).fillna(0).astype(int)\n",
    "dft_ct_new_cases.sort_values(by = dates[-1], ascending = False,inplace = True)"
   ]
  },
  {
   "cell_type": "code",
   "execution_count": 18,
   "metadata": {
    "execution": {
     "iopub.execute_input": "2020-09-13T07:51:47.133707Z",
     "iopub.status.busy": "2020-09-13T07:51:47.133083Z",
     "iopub.status.idle": "2020-09-13T07:51:47.135680Z",
     "shell.execute_reply": "2020-09-13T07:51:47.136157Z"
    },
    "papermill": {
     "duration": 0.039522,
     "end_time": "2020-09-13T07:51:47.136290",
     "exception": false,
     "start_time": "2020-09-13T07:51:47.096768",
     "status": "completed"
    },
    "tags": []
   },
   "outputs": [
    {
     "data": {
      "text/html": [
       "<div>\n",
       "<style scoped>\n",
       "    .dataframe tbody tr th:only-of-type {\n",
       "        vertical-align: middle;\n",
       "    }\n",
       "\n",
       "    .dataframe tbody tr th {\n",
       "        vertical-align: top;\n",
       "    }\n",
       "\n",
       "    .dataframe thead th {\n",
       "        text-align: right;\n",
       "    }\n",
       "</style>\n",
       "<table border=\"1\" class=\"dataframe\">\n",
       "  <thead>\n",
       "    <tr style=\"text-align: right;\">\n",
       "      <th>states</th>\n",
       "      <th>2020-07-01</th>\n",
       "      <th>2020-07-02</th>\n",
       "      <th>2020-07-03</th>\n",
       "      <th>2020-07-04</th>\n",
       "      <th>2020-07-05</th>\n",
       "      <th>2020-07-06</th>\n",
       "      <th>2020-07-07</th>\n",
       "      <th>2020-07-08</th>\n",
       "      <th>2020-07-09</th>\n",
       "      <th>2020-07-10</th>\n",
       "      <th>...</th>\n",
       "      <th>2020-09-04</th>\n",
       "      <th>2020-09-05</th>\n",
       "      <th>2020-09-06</th>\n",
       "      <th>2020-09-07</th>\n",
       "      <th>2020-09-08</th>\n",
       "      <th>2020-09-09</th>\n",
       "      <th>2020-09-10</th>\n",
       "      <th>2020-09-11</th>\n",
       "      <th>2020-09-12</th>\n",
       "      <th>2020-09-13</th>\n",
       "    </tr>\n",
       "    <tr>\n",
       "      <th>state</th>\n",
       "      <th></th>\n",
       "      <th></th>\n",
       "      <th></th>\n",
       "      <th></th>\n",
       "      <th></th>\n",
       "      <th></th>\n",
       "      <th></th>\n",
       "      <th></th>\n",
       "      <th></th>\n",
       "      <th></th>\n",
       "      <th></th>\n",
       "      <th></th>\n",
       "      <th></th>\n",
       "      <th></th>\n",
       "      <th></th>\n",
       "      <th></th>\n",
       "      <th></th>\n",
       "      <th></th>\n",
       "      <th></th>\n",
       "      <th></th>\n",
       "      <th></th>\n",
       "    </tr>\n",
       "  </thead>\n",
       "  <tbody>\n",
       "    <tr>\n",
       "      <th>Odisha</th>\n",
       "      <td>0</td>\n",
       "      <td>229</td>\n",
       "      <td>561</td>\n",
       "      <td>495</td>\n",
       "      <td>469</td>\n",
       "      <td>456</td>\n",
       "      <td>571</td>\n",
       "      <td>527</td>\n",
       "      <td>577</td>\n",
       "      <td>755</td>\n",
       "      <td>...</td>\n",
       "      <td>3267</td>\n",
       "      <td>3543</td>\n",
       "      <td>3810</td>\n",
       "      <td>3861</td>\n",
       "      <td>3490</td>\n",
       "      <td>3748</td>\n",
       "      <td>3991</td>\n",
       "      <td>3996</td>\n",
       "      <td>3777</td>\n",
       "      <td>3913</td>\n",
       "    </tr>\n",
       "    <tr>\n",
       "      <th>Telangana</th>\n",
       "      <td>0</td>\n",
       "      <td>1213</td>\n",
       "      <td>1892</td>\n",
       "      <td>1850</td>\n",
       "      <td>1590</td>\n",
       "      <td>1831</td>\n",
       "      <td>1879</td>\n",
       "      <td>1924</td>\n",
       "      <td>1410</td>\n",
       "      <td>1278</td>\n",
       "      <td>...</td>\n",
       "      <td>2478</td>\n",
       "      <td>2511</td>\n",
       "      <td>2574</td>\n",
       "      <td>1802</td>\n",
       "      <td>2392</td>\n",
       "      <td>2479</td>\n",
       "      <td>2534</td>\n",
       "      <td>2426</td>\n",
       "      <td>2278</td>\n",
       "      <td>2216</td>\n",
       "    </tr>\n",
       "    <tr>\n",
       "      <th>Tripura</th>\n",
       "      <td>0</td>\n",
       "      <td>39</td>\n",
       "      <td>93</td>\n",
       "      <td>25</td>\n",
       "      <td>23</td>\n",
       "      <td>111</td>\n",
       "      <td>24</td>\n",
       "      <td>57</td>\n",
       "      <td>16</td>\n",
       "      <td>142</td>\n",
       "      <td>...</td>\n",
       "      <td>524</td>\n",
       "      <td>691</td>\n",
       "      <td>603</td>\n",
       "      <td>399</td>\n",
       "      <td>628</td>\n",
       "      <td>582</td>\n",
       "      <td>535</td>\n",
       "      <td>559</td>\n",
       "      <td>470</td>\n",
       "      <td>629</td>\n",
       "    </tr>\n",
       "    <tr>\n",
       "      <th>Mizoram</th>\n",
       "      <td>0</td>\n",
       "      <td>2</td>\n",
       "      <td>0</td>\n",
       "      <td>2</td>\n",
       "      <td>22</td>\n",
       "      <td>11</td>\n",
       "      <td>1</td>\n",
       "      <td>5</td>\n",
       "      <td>0</td>\n",
       "      <td>23</td>\n",
       "      <td>...</td>\n",
       "      <td>6</td>\n",
       "      <td>16</td>\n",
       "      <td>31</td>\n",
       "      <td>21</td>\n",
       "      <td>9</td>\n",
       "      <td>69</td>\n",
       "      <td>141</td>\n",
       "      <td>20</td>\n",
       "      <td>26</td>\n",
       "      <td>35</td>\n",
       "    </tr>\n",
       "    <tr>\n",
       "      <th>Andaman and Nicobar Islands</th>\n",
       "      <td>0</td>\n",
       "      <td>9</td>\n",
       "      <td>7</td>\n",
       "      <td>3</td>\n",
       "      <td>6</td>\n",
       "      <td>16</td>\n",
       "      <td>6</td>\n",
       "      <td>2</td>\n",
       "      <td>7</td>\n",
       "      <td>0</td>\n",
       "      <td>...</td>\n",
       "      <td>34</td>\n",
       "      <td>35</td>\n",
       "      <td>40</td>\n",
       "      <td>27</td>\n",
       "      <td>33</td>\n",
       "      <td>34</td>\n",
       "      <td>39</td>\n",
       "      <td>29</td>\n",
       "      <td>27</td>\n",
       "      <td>0</td>\n",
       "    </tr>\n",
       "  </tbody>\n",
       "</table>\n",
       "<p>5 rows × 75 columns</p>\n",
       "</div>"
      ],
      "text/plain": [
       "states                       2020-07-01  2020-07-02  2020-07-03  2020-07-04  \\\n",
       "state                                                                         \n",
       "Odisha                                0         229         561         495   \n",
       "Telangana                             0        1213        1892        1850   \n",
       "Tripura                               0          39          93          25   \n",
       "Mizoram                               0           2           0           2   \n",
       "Andaman and Nicobar Islands           0           9           7           3   \n",
       "\n",
       "states                       2020-07-05  2020-07-06  2020-07-07  2020-07-08  \\\n",
       "state                                                                         \n",
       "Odisha                              469         456         571         527   \n",
       "Telangana                          1590        1831        1879        1924   \n",
       "Tripura                              23         111          24          57   \n",
       "Mizoram                              22          11           1           5   \n",
       "Andaman and Nicobar Islands           6          16           6           2   \n",
       "\n",
       "states                       2020-07-09  2020-07-10  ...  2020-09-04  \\\n",
       "state                                                ...               \n",
       "Odisha                              577         755  ...        3267   \n",
       "Telangana                          1410        1278  ...        2478   \n",
       "Tripura                              16         142  ...         524   \n",
       "Mizoram                               0          23  ...           6   \n",
       "Andaman and Nicobar Islands           7           0  ...          34   \n",
       "\n",
       "states                       2020-09-05  2020-09-06  2020-09-07  2020-09-08  \\\n",
       "state                                                                         \n",
       "Odisha                             3543        3810        3861        3490   \n",
       "Telangana                          2511        2574        1802        2392   \n",
       "Tripura                             691         603         399         628   \n",
       "Mizoram                              16          31          21           9   \n",
       "Andaman and Nicobar Islands          35          40          27          33   \n",
       "\n",
       "states                       2020-09-09  2020-09-10  2020-09-11  2020-09-12  \\\n",
       "state                                                                         \n",
       "Odisha                             3748        3991        3996        3777   \n",
       "Telangana                          2479        2534        2426        2278   \n",
       "Tripura                             582         535         559         470   \n",
       "Mizoram                              69         141          20          26   \n",
       "Andaman and Nicobar Islands          34          39          29          27   \n",
       "\n",
       "states                       2020-09-13  \n",
       "state                                    \n",
       "Odisha                             3913  \n",
       "Telangana                          2216  \n",
       "Tripura                             629  \n",
       "Mizoram                              35  \n",
       "Andaman and Nicobar Islands           0  \n",
       "\n",
       "[5 rows x 75 columns]"
      ]
     },
     "execution_count": 18,
     "metadata": {},
     "output_type": "execute_result"
    }
   ],
   "source": [
    "#hide\n",
    "dft_ct_new_cases.head()"
   ]
  },
  {
   "cell_type": "code",
   "execution_count": 19,
   "metadata": {
    "execution": {
     "iopub.execute_input": "2020-09-13T07:51:47.192378Z",
     "iopub.status.busy": "2020-09-13T07:51:47.186591Z",
     "iopub.status.idle": "2020-09-13T07:51:51.193283Z",
     "shell.execute_reply": "2020-09-13T07:51:51.192813Z"
    },
    "papermill": {
     "duration": 4.037958,
     "end_time": "2020-09-13T07:51:51.193426",
     "exception": false,
     "start_time": "2020-09-13T07:51:47.155468",
     "status": "completed"
    },
    "tags": []
   },
   "outputs": [
    {
     "data": {
      "image/png": "[encoded data removed]",
      "text/plain": [
       "<Figure size 1296x2016 with 11 Axes>"
      ]
     },
     "metadata": {
      "needs_background": "light"
     },
     "output_type": "display_data"
    }
   ],
   "source": [
    "#hide_input\n",
    "df = dft_ct_new_cases.copy()\n",
    "df.loc['Total'] = df.sum()\n",
    "n = 5\n",
    "ax = []\n",
    "fig = plt.figure(figsize = (18,28))\n",
    "gs = fig.add_gridspec(n+2, 5)\n",
    "# gs = fig.add_gridspec(2, 3)\n",
    "ax1 = fig.add_subplot(gs[0, :])\n",
    "ef = df.loc['Total'].rename_axis('date').reset_index()\n",
    "ef['date'] = ef['date'].astype('datetime64[ns]')\n",
    "ax1.bar(ef.date,ef.Total,alpha=0.3,color='#007acc')\n",
    "ax1.plot(ef.date,ef.Total , marker=\"o\", color='#007acc')\n",
    "ax1.xaxis.set_major_locator(mdates.WeekdayLocator())\n",
    "ax1.xaxis.set_major_formatter(mdates.DateFormatter('%b %d'))\n",
    "ax1.text(0.02, 0.5,'India daily case count', transform = ax1.transAxes, fontsize=25);\n",
    "ax1.spines['right'].set_visible(False)\n",
    "ax1.spines['top'].set_visible(False)\n",
    "\n",
    "ax2 = fig.add_subplot(gs[1,0])\n",
    "ef = df.loc['Maharashtra'].rename_axis('date').reset_index()\n",
    "ef['date'] = ef['date'].astype('datetime64[ns]')\n",
    "\n",
    "ax2.bar(ef.date, ef.Maharashtra,color = '#007acc',alpha=0.5)\n",
    "ax2.xaxis.set_major_locator(mdates.WeekdayLocator())\n",
    "ax2.xaxis.set_major_formatter(mdates.DateFormatter('%b %d'))\n",
    "ax2.set_xticks(ax2.get_xticks()[::3])\n",
    "maxyval = ef.Maharashtra.max()\n",
    "ax2.set_ylim([0,maxyval])\n",
    "ax2.text(0.05, 0.9,'Maharashtra', transform = ax2.transAxes, fontsize=20);\n",
    "ax2.spines['right'].set_visible(False)\n",
    "ax2.spines['top'].set_visible(False)\n",
    "\n",
    "\n",
    "ax3 = fig.add_subplot(gs[1,1])\n",
    "ef = df.loc['Tamil Nadu'].rename_axis('date').reset_index()\n",
    "ef['date'] = ef['date'].astype('datetime64[ns]')\n",
    "ax3.bar(ef.date, ef['Tamil Nadu'],color = '#007acc',alpha=0.5,)\n",
    "ax3.xaxis.set_major_locator(mdates.WeekdayLocator())\n",
    "ax3.xaxis.set_major_formatter(mdates.DateFormatter('%b %d'))\n",
    "ax3.set_xticks(ax3.get_xticks()[::3])\n",
    "ax3.text(0.05, 0.9,'Tamil Nadu', transform = ax3.transAxes, fontsize=20);\n",
    "ax3.spines['right'].set_visible(False)\n",
    "ax3.spines['top'].set_visible(False)\n",
    "\n",
    "ax5 = fig.add_subplot(gs[1,3])\n",
    "ef = df.loc['Telangana'].rename_axis('date').reset_index()\n",
    "ef['date'] = ef['date'].astype('datetime64[ns]')\n",
    "ax5.bar(ef.date, ef['Telangana'],color = '#007acc',alpha=0.5,)\n",
    "ax5.xaxis.set_major_locator(mdates.WeekdayLocator())\n",
    "ax5.xaxis.set_major_formatter(mdates.DateFormatter('%b %d'))\n",
    "ax5.set_xticks(ax5.get_xticks()[::3])\n",
    "ax5.text(0.05, 0.9,'Telangana', transform = ax5.transAxes, fontsize=20);\n",
    "ax5.spines['right'].set_visible(False)\n",
    "ax5.spines['top'].set_visible(False)\n",
    "\n",
    "ax6 = fig.add_subplot(gs[1,4])\n",
    "ef = df.loc['Andhra Pradesh'].rename_axis('date').reset_index()\n",
    "ef['date'] = ef['date'].astype('datetime64[ns]')\n",
    "ax6.bar(ef.date, ef['Andhra Pradesh'],color = '#007acc',alpha=0.5,)\n",
    "ax6.xaxis.set_major_locator(mdates.WeekdayLocator())\n",
    "ax6.xaxis.set_major_formatter(mdates.DateFormatter('%b %d'))\n",
    "ax6.set_xticks(ax6.get_xticks()[::3])\n",
    "ax6.text(0.05, 1,'Andhra Pradesh', transform = ax6.transAxes, fontsize=20);\n",
    "ax6.spines['right'].set_visible(False)\n",
    "ax6.spines['top'].set_visible(False)\n",
    "\n",
    "ax4 = fig.add_subplot(gs[1,2])\n",
    "ef = df.loc['Delhi'].rename_axis('date').reset_index()\n",
    "ef['date'] = ef['date'].astype('datetime64[ns]')\n",
    "ax4.bar(ef.date, ef.Delhi,color = '#007acc',alpha=0.5)\n",
    "ax4.set_xticks([])\n",
    "ax4.xaxis.set_major_locator(mdates.WeekdayLocator())\n",
    "ax4.xaxis.set_major_formatter(mdates.DateFormatter('%b %d'))\n",
    "ax4.set_xticks(ax4.get_xticks()[::3])\n",
    "ax4.spines['right'].set_visible(False)\n",
    "ax4.spines['top'].set_visible(False)\n",
    "\n",
    "ax4.text(0.05, 1,'Delhi', transform = ax4.transAxes, fontsize=20)\n",
    "\n",
    "for i in range(n):\n",
    "    \n",
    "    ax.append(fig.add_subplot(gs[i+2,:]))\n",
    "    ef = df.iloc[i+3].rename_axis('date').reset_index()\n",
    "    ef['date'] = ef['date'].astype('datetime64[ns]')\n",
    "    ax[i].bar(ef.date,ef.iloc[:,-1],color = '#007acc',alpha=0.3)\n",
    "    ax[i].plot(ef.date,ef.iloc[:,-1],marker='o',color='#007acc')\n",
    "    ax[i].text(0.02,0.5,f'{ef.columns.values[-1]}',transform = ax[i].transAxes, fontsize = 20);\n",
    "    ax[i].xaxis.set_major_locator(mdates.WeekdayLocator())\n",
    "    ax[i].xaxis.set_major_formatter(mdates.DateFormatter('%b %d'))\n",
    "    ax[i].set_ylim([0,7000])\n",
    "    ax[i].spines['right'].set_visible(False)\n",
    "    ax[i].spines['top'].set_visible(False)\n",
    "plt.tight_layout()\n"
   ]
  },
  {
   "cell_type": "code",
   "execution_count": 20,
   "metadata": {
    "execution": {
     "iopub.execute_input": "2020-09-13T07:51:51.247391Z",
     "iopub.status.busy": "2020-09-13T07:51:51.246780Z",
     "iopub.status.idle": "2020-09-13T07:51:51.249027Z",
     "shell.execute_reply": "2020-09-13T07:51:51.249576Z"
    },
    "papermill": {
     "duration": 0.033673,
     "end_time": "2020-09-13T07:51:51.249740",
     "exception": false,
     "start_time": "2020-09-13T07:51:51.216067",
     "status": "completed"
    },
    "tags": []
   },
   "outputs": [
    {
     "name": "stdout",
     "output_type": "stream",
     "text": [
      "                                   states    Cases  Deaths   PCases  PDeaths  Cases (+)  Deaths (+)  Fatality Rate\n",
      "                              Maharashtra  1037765   29115  1037765    29115          0           0           2.81\n",
      "                           Andhra Pradesh   557587    4846   557587     4846          0           0           0.87\n",
      "                               Tamil Nadu   497066    8307   497066     8307          0           0           1.67\n",
      "                                Karnataka   449551    7161   449551     7161          0           0           1.59\n",
      "                            Uttar Pradesh   305831    4349   305831     4349          0           0           1.42\n",
      "                                    Delhi   214069    4715   214069     4715          0           0           2.20\n",
      "                              West Bengal   199493    3887   199493     3887          0           0           1.95\n",
      "                                Telangana   157096     961   154880      950       2216          11           0.61\n",
      "                                    Bihar   156866     808   156866      808          0           0           0.52\n",
      "                                   Odisha   150807     679   146894      669       3913          10           0.45\n",
      "                                    Assam   140471     453   140471      453          0           0           0.32\n",
      "                                  Gujarat   112336    3196   112336     3196          0           0           2.85\n",
      "                                   Kerala   105140     426   105140      426          0           0           0.41\n",
      "                                Rajasthan   100705    1221   100705     1221          0           0           1.21\n",
      "                                  Haryana    91115     956    91115      956          0           0           1.05\n",
      "                           Madhya Pradesh    85966    1728    85966     1728          0           0           2.01\n",
      "                                   Punjab    77057    2288    77057     2288          0           0           2.97\n",
      "                             Chhattisgarh    61763     539    61763      539          0           0           0.87\n",
      "                                Jharkhand    60460     542    60460      542          0           0           0.90\n",
      "                        Jammu and Kashmir    52410     864    52410      864          0           0           1.65\n",
      "                              Uttarakhand    30336     402    30336      402          0           0           1.33\n",
      "                                      Goa    24185     286    24185      286          0           0           1.18\n",
      "                               Puducherry    19445     370    19445      370          0           0           1.90\n",
      "                                  Tripura    18929     194    18300      182        629          12           1.02\n",
      "                         Himachal Pradesh     9229      72     9229       72          0           0           0.78\n",
      "                                  Manipur     7731      45     7731       45          0           0           0.58\n",
      "                               Chandigarh     7542      89     7542       89          0           0           1.18\n",
      "                        Arunachal Pradesh     5961      10     5961       10          0           0           0.17\n",
      "                                 Nagaland     5064       8     5064        8          0           0           0.16\n",
      "                                Meghalaya     3615      25     3615       25          0           0           0.69\n",
      "              Andaman and Nicobar Islands     3521      51     3521       51          0           0           1.45\n",
      "                                   Ladakh     3294      39     3294       39          0           0           1.18\n",
      " Dadra and Nagar Haveli and Daman and Diu     2706       2     2706        2          0           0           0.07\n",
      "                                   Sikkim     2055      13     2055       13          0           0           0.63\n",
      "                                  Mizoram     1414       0     1379        0         35           0           0.00\n",
      "                              Lakshadweep        0       0        0        0          0           0            NaN\n"
     ]
    }
   ],
   "source": [
    "#hide_input\n",
    "print(df_table.to_string(index=False))"
   ]
  },
  {
   "cell_type": "code",
   "execution_count": null,
   "metadata": {
    "papermill": {
     "duration": 0.020922,
     "end_time": "2020-09-13T07:51:51.292701",
     "exception": false,
     "start_time": "2020-09-13T07:51:51.271779",
     "status": "completed"
    },
    "tags": []
   },
   "outputs": [],
   "source": []
  },
  {
   "cell_type": "code",
   "execution_count": null,
   "metadata": {
    "papermill": {
     "duration": 0.022777,
     "end_time": "2020-09-13T07:51:51.338337",
     "exception": false,
     "start_time": "2020-09-13T07:51:51.315560",
     "status": "completed"
    },
    "tags": []
   },
   "outputs": [],
   "source": []
  }
 ],
 "metadata": {
  "kernelspec": {
   "display_name": "Python 3",
   "language": "python",
   "name": "python3"
  },
  "language_info": {
   "codemirror_mode": {
    "name": "ipython",
    "version": 3
   },
   "file_extension": ".py",
   "mimetype": "text/x-python",
   "name": "python",
   "nbconvert_exporter": "python",
   "pygments_lexer": "ipython3",
   "version": "3.6.12"
  },
  "papermill": {
   "duration": 9.962966,
   "end_time": "2020-09-13T07:51:51.769131",
   "environment_variables": {},
   "exception": null,
   "input_path": "latest.ipynb",
   "output_path": "latest.ipynb",
   "parameters": {},
   "start_time": "2020-09-13T07:51:41.806165",
   "version": "2.1.2"
  }
 },
 "nbformat": 4,
 "nbformat_minor": 4
}