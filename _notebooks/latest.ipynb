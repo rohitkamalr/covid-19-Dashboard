{
 "cells": [
  {
   "cell_type": "markdown",
   "metadata": {
    "papermill": {
     "duration": 0.022248,
     "end_time": "2020-09-06T12:38:28.483887",
     "exception": false,
     "start_time": "2020-09-06T12:38:28.461639",
     "status": "completed"
    },
    "tags": []
   },
   "source": [
    "# Latest COVID-19 India Matplotlib Overview"
   ]
  },
  {
   "cell_type": "code",
   "execution_count": 1,
   "metadata": {
    "execution": {
     "iopub.execute_input": "2020-09-06T12:38:29.043705Z",
     "iopub.status.busy": "2020-09-06T12:38:29.043067Z",
     "iopub.status.idle": "2020-09-06T12:38:29.624561Z",
     "shell.execute_reply": "2020-09-06T12:38:29.623878Z"
    },
    "papermill": {
     "duration": 1.090092,
     "end_time": "2020-09-06T12:38:29.624721",
     "exception": false,
     "start_time": "2020-09-06T12:38:28.534629",
     "status": "completed"
    },
    "tags": []
   },
   "outputs": [],
   "source": [
    "#hide\n",
    "import pandas as pd\n",
    "import numpy as np\n",
    "import requests\n",
    "import json\n",
    "import matplotlib.pyplot as plt\n",
    "import matplotlib.dates as mdates\n",
    "import matplotlib as mpl\n",
    "from IPython.core.display import display,HTML\n",
    "%matplotlib inline\n",
    "from datetime import date"
   ]
  },
  {
   "cell_type": "code",
   "execution_count": 2,
   "metadata": {
    "execution": {
     "iopub.execute_input": "2020-09-06T12:38:30.143646Z",
     "iopub.status.busy": "2020-09-06T12:38:30.142673Z",
     "iopub.status.idle": "2020-09-06T12:38:30.418407Z",
     "shell.execute_reply": "2020-09-06T12:38:30.417828Z"
    },
    "papermill": {
     "duration": 0.742367,
     "end_time": "2020-09-06T12:38:30.418544",
     "exception": false,
     "start_time": "2020-09-06T12:38:29.676177",
     "status": "completed"
    },
    "tags": []
   },
   "outputs": [],
   "source": [
    "#hide\n",
    "df  = pd.read_csv('https://api.covid19india.org/csv/latest/states.csv')\n",
    "df = df[['Date','State','Confirmed','Deceased']]\n",
    "df = df.rename(columns={'Confirmed':'Cases', \"Deceased\":'Deaths'})\n",
    "df_cases = df[[\"Date\",'State','Cases']]\n",
    "df_deaths = df[['Date','State','Deaths']]\n",
    "df_cases1 = df_cases.groupby('Date')\n",
    "df_deaths1= df_deaths.groupby('Date')"
   ]
  },
  {
   "cell_type": "code",
   "execution_count": 3,
   "metadata": {
    "execution": {
     "iopub.execute_input": "2020-09-06T12:38:30.521112Z",
     "iopub.status.busy": "2020-09-06T12:38:30.520511Z",
     "iopub.status.idle": "2020-09-06T12:38:30.537979Z",
     "shell.execute_reply": "2020-09-06T12:38:30.538443Z"
    },
    "papermill": {
     "duration": 0.050095,
     "end_time": "2020-09-06T12:38:30.538604",
     "exception": false,
     "start_time": "2020-09-06T12:38:30.488509",
     "status": "completed"
    },
    "tags": []
   },
   "outputs": [],
   "source": [
    "#hide\n",
    "df_snap = pd.read_csv('data/SnapshotCases-28-July.csv')\n",
    "arr_states = df_snap['states'].unique()\n",
    "arr_dates = df['Date'].unique()\n",
    "df_snap = df_snap.set_index('states')"
   ]
  },
  {
   "cell_type": "code",
   "execution_count": 4,
   "metadata": {
    "execution": {
     "iopub.execute_input": "2020-09-06T12:38:30.607703Z",
     "iopub.status.busy": "2020-09-06T12:38:30.607085Z",
     "iopub.status.idle": "2020-09-06T12:38:30.610048Z",
     "shell.execute_reply": "2020-09-06T12:38:30.609482Z"
    },
    "papermill": {
     "duration": 0.029129,
     "end_time": "2020-09-06T12:38:30.610173",
     "exception": false,
     "start_time": "2020-09-06T12:38:30.581044",
     "status": "completed"
    },
    "tags": []
   },
   "outputs": [
    {
     "data": {
      "text/plain": [
       "array(['Andaman and Nicobar Islands', 'Andhra Pradesh',\n",
       "       'Arunachal Pradesh', 'Assam', 'Bihar', 'Chandigarh',\n",
       "       'Dadra and Nagar Haveli and Daman and Diu', 'Delhi', 'Goa',\n",
       "       'Gujarat', 'Haryana', 'Himachal Pradesh', 'Jammu and Kashmir',\n",
       "       'Jharkhand', 'Karnataka', 'Kerala', 'Lakshadweep',\n",
       "       'Madhya Pradesh', 'Maharashtra', 'Manipur', 'Meghalaya', 'Mizoram',\n",
       "       'Nagaland', 'Odisha', 'Puducherry', 'Punjab', 'Rajasthan',\n",
       "       'Sikkim', 'Tamil Nadu', 'Telangana', 'Tripura', 'Uttar Pradesh',\n",
       "       'West Bengal', 'Chhattisgarh', 'Ladakh', 'Uttarakhand'],\n",
       "      dtype=object)"
      ]
     },
     "execution_count": 4,
     "metadata": {},
     "output_type": "execute_result"
    }
   ],
   "source": [
    "#hide\n",
    "arr_states[-9] = 'Puducherry'\n",
    "arr_states[-10] = 'Odisha'\n",
    "arr_states[6] = 'Dadra and Nagar Haveli and Daman and Diu'\n",
    "arr_states = np.append(arr_states,np.array(['Chhattisgarh','Ladakh','Uttarakhand']))\n",
    "arr_states"
   ]
  },
  {
   "cell_type": "code",
   "execution_count": 5,
   "metadata": {
    "execution": {
     "iopub.execute_input": "2020-09-06T12:38:30.653839Z",
     "iopub.status.busy": "2020-09-06T12:38:30.653292Z",
     "iopub.status.idle": "2020-09-06T12:38:30.661538Z",
     "shell.execute_reply": "2020-09-06T12:38:30.662007Z"
    },
    "papermill": {
     "duration": 0.033659,
     "end_time": "2020-09-06T12:38:30.662147",
     "exception": false,
     "start_time": "2020-09-06T12:38:30.628488",
     "status": "completed"
    },
    "tags": []
   },
   "outputs": [],
   "source": [
    "#hide\n",
    "dates = []\n",
    "for i in arr_dates:\n",
    "    if i>='2020-07-01':\n",
    "        dates.append(i)\n",
    "dict = {'states':dates}\n",
    "for i in arr_states:\n",
    "    dict[i] = [0]*len(dates)\n",
    "dft_cases = pd.DataFrame(dict)\n",
    "dft_deaths = pd.DataFrame(dict)\n"
   ]
  },
  {
   "cell_type": "code",
   "execution_count": 6,
   "metadata": {
    "execution": {
     "iopub.execute_input": "2020-09-06T12:38:30.698139Z",
     "iopub.status.busy": "2020-09-06T12:38:30.697562Z",
     "iopub.status.idle": "2020-09-06T12:38:31.630225Z",
     "shell.execute_reply": "2020-09-06T12:38:31.631028Z"
    },
    "papermill": {
     "duration": 0.954453,
     "end_time": "2020-09-06T12:38:31.631282",
     "exception": false,
     "start_time": "2020-09-06T12:38:30.676829",
     "status": "completed"
    },
    "tags": []
   },
   "outputs": [],
   "source": [
    "#hide\n",
    "for i in range(len(dates)):\n",
    "    df1_deaths = df_deaths1.get_group(dates[i])\n",
    "    for j in range(len(df1_deaths.index)):\n",
    "        if df1_deaths.iloc[j,1] in arr_states:\n",
    "            dft_deaths.loc[i,df1_deaths.iloc[j,1]] = df1_deaths.iloc[j,2]\n",
    "dft_deaths = dft_deaths.set_index('states')"
   ]
  },
  {
   "cell_type": "code",
   "execution_count": 7,
   "metadata": {
    "execution": {
     "iopub.execute_input": "2020-09-06T12:38:31.672217Z",
     "iopub.status.busy": "2020-09-06T12:38:31.671615Z",
     "iopub.status.idle": "2020-09-06T12:38:32.588368Z",
     "shell.execute_reply": "2020-09-06T12:38:32.587535Z"
    },
    "papermill": {
     "duration": 0.939765,
     "end_time": "2020-09-06T12:38:32.588506",
     "exception": false,
     "start_time": "2020-09-06T12:38:31.648741",
     "status": "completed"
    },
    "tags": []
   },
   "outputs": [],
   "source": [
    "#hide\n",
    "for i in range(len(dates)):\n",
    "    df1_cases = df_cases1.get_group(dates[i])\n",
    "    for j in range(len(df1_cases.index)):\n",
    "        if df1_cases.iloc[j,1] in arr_states:\n",
    "            dft_cases.loc[i,df1_cases.iloc[j,1]] = df1_cases.iloc[j,2]\n",
    "dft_cases = dft_cases.set_index('states')"
   ]
  },
  {
   "cell_type": "code",
   "execution_count": 8,
   "metadata": {
    "execution": {
     "iopub.execute_input": "2020-09-06T12:38:32.627943Z",
     "iopub.status.busy": "2020-09-06T12:38:32.626705Z",
     "iopub.status.idle": "2020-09-06T12:38:32.630262Z",
     "shell.execute_reply": "2020-09-06T12:38:32.630718Z"
    },
    "papermill": {
     "duration": 0.026938,
     "end_time": "2020-09-06T12:38:32.630860",
     "exception": false,
     "start_time": "2020-09-06T12:38:32.603922",
     "status": "completed"
    },
    "tags": []
   },
   "outputs": [],
   "source": [
    "#hide\n",
    "dft_cases = dft_cases.T\n",
    "dft_deaths = dft_deaths.T\n",
    "dt_today = dates[-1]\n",
    "dt_yday = dates[-2]"
   ]
  },
  {
   "cell_type": "code",
   "execution_count": 9,
   "metadata": {
    "execution": {
     "iopub.execute_input": "2020-09-06T12:38:32.671303Z",
     "iopub.status.busy": "2020-09-06T12:38:32.669571Z",
     "iopub.status.idle": "2020-09-06T12:38:32.673734Z",
     "shell.execute_reply": "2020-09-06T12:38:32.673244Z"
    },
    "papermill": {
     "duration": 0.027937,
     "end_time": "2020-09-06T12:38:32.673856",
     "exception": false,
     "start_time": "2020-09-06T12:38:32.645919",
     "status": "completed"
    },
    "tags": []
   },
   "outputs": [],
   "source": [
    "#hide\n",
    "dft_cases = dft_cases.reset_index()\n",
    "dft_deaths = dft_deaths.reset_index()\n",
    "dft_cases = dft_cases.rename(columns = {'index':'state'})\n",
    "dft_deaths = dft_deaths.rename(columns = {'index':'state'})"
   ]
  },
  {
   "cell_type": "code",
   "execution_count": 10,
   "metadata": {
    "execution": {
     "iopub.execute_input": "2020-09-06T12:38:32.715921Z",
     "iopub.status.busy": "2020-09-06T12:38:32.706949Z",
     "iopub.status.idle": "2020-09-06T12:38:32.718953Z",
     "shell.execute_reply": "2020-09-06T12:38:32.718455Z"
    },
    "papermill": {
     "duration": 0.029907,
     "end_time": "2020-09-06T12:38:32.719080",
     "exception": false,
     "start_time": "2020-09-06T12:38:32.689173",
     "status": "completed"
    },
    "tags": []
   },
   "outputs": [],
   "source": [
    "#hide\n",
    "dfc_cases = dft_cases.groupby('state')[dt_today].sum()\n",
    "dfc_deaths = dft_deaths.groupby('state')[dt_today].sum()\n",
    "dfp_cases = dft_cases.groupby('state')[dt_yday].sum()\n",
    "dfp_deaths = dft_deaths.groupby('state')[dt_yday].sum()"
   ]
  },
  {
   "cell_type": "code",
   "execution_count": 11,
   "metadata": {
    "execution": {
     "iopub.execute_input": "2020-09-06T12:38:32.760843Z",
     "iopub.status.busy": "2020-09-06T12:38:32.760258Z",
     "iopub.status.idle": "2020-09-06T12:38:32.773266Z",
     "shell.execute_reply": "2020-09-06T12:38:32.772675Z"
    },
    "papermill": {
     "duration": 0.038925,
     "end_time": "2020-09-06T12:38:32.773393",
     "exception": false,
     "start_time": "2020-09-06T12:38:32.734468",
     "status": "completed"
    },
    "tags": []
   },
   "outputs": [
    {
     "data": {
      "text/html": [
       "<div>\n",
       "<style scoped>\n",
       "    .dataframe tbody tr th:only-of-type {\n",
       "        vertical-align: middle;\n",
       "    }\n",
       "\n",
       "    .dataframe tbody tr th {\n",
       "        vertical-align: top;\n",
       "    }\n",
       "\n",
       "    .dataframe thead th {\n",
       "        text-align: right;\n",
       "    }\n",
       "</style>\n",
       "<table border=\"1\" class=\"dataframe\">\n",
       "  <thead>\n",
       "    <tr style=\"text-align: right;\">\n",
       "      <th></th>\n",
       "      <th>states</th>\n",
       "      <th>Cases</th>\n",
       "      <th>Deaths</th>\n",
       "      <th>PCases</th>\n",
       "      <th>PDeaths</th>\n",
       "    </tr>\n",
       "  </thead>\n",
       "  <tbody>\n",
       "    <tr>\n",
       "      <th>0</th>\n",
       "      <td>Maharashtra</td>\n",
       "      <td>883862</td>\n",
       "      <td>26276</td>\n",
       "      <td>883862</td>\n",
       "      <td>26276</td>\n",
       "    </tr>\n",
       "    <tr>\n",
       "      <th>1</th>\n",
       "      <td>Andhra Pradesh</td>\n",
       "      <td>498125</td>\n",
       "      <td>4417</td>\n",
       "      <td>487331</td>\n",
       "      <td>4347</td>\n",
       "    </tr>\n",
       "    <tr>\n",
       "      <th>2</th>\n",
       "      <td>Tamil Nadu</td>\n",
       "      <td>457697</td>\n",
       "      <td>7751</td>\n",
       "      <td>457697</td>\n",
       "      <td>7751</td>\n",
       "    </tr>\n",
       "    <tr>\n",
       "      <th>3</th>\n",
       "      <td>Karnataka</td>\n",
       "      <td>389232</td>\n",
       "      <td>6298</td>\n",
       "      <td>389232</td>\n",
       "      <td>6298</td>\n",
       "    </tr>\n",
       "    <tr>\n",
       "      <th>4</th>\n",
       "      <td>Uttar Pradesh</td>\n",
       "      <td>259765</td>\n",
       "      <td>3843</td>\n",
       "      <td>259765</td>\n",
       "      <td>3843</td>\n",
       "    </tr>\n",
       "  </tbody>\n",
       "</table>\n",
       "</div>"
      ],
      "text/plain": [
       "           states   Cases  Deaths  PCases  PDeaths\n",
       "0     Maharashtra  883862   26276  883862    26276\n",
       "1  Andhra Pradesh  498125    4417  487331     4347\n",
       "2      Tamil Nadu  457697    7751  457697     7751\n",
       "3       Karnataka  389232    6298  389232     6298\n",
       "4   Uttar Pradesh  259765    3843  259765     3843"
      ]
     },
     "execution_count": 11,
     "metadata": {},
     "output_type": "execute_result"
    }
   ],
   "source": [
    "#hide\n",
    "df_table = pd.DataFrame({'states': dfc_cases.index, 'Cases': dfc_cases.values, 'Deaths': dfc_deaths.values, 'PCases': dfp_cases.values, 'PDeaths': dfp_deaths.values}).set_index('states')\n",
    "df_table = df_table.sort_values(by = ['Cases','Deaths'], ascending = [False, False])\n",
    "df_table = df_table.reset_index()\n",
    "df_table.head()"
   ]
  },
  {
   "cell_type": "code",
   "execution_count": 12,
   "metadata": {
    "execution": {
     "iopub.execute_input": "2020-09-06T12:38:32.811636Z",
     "iopub.status.busy": "2020-09-06T12:38:32.811034Z",
     "iopub.status.idle": "2020-09-06T12:38:32.820667Z",
     "shell.execute_reply": "2020-09-06T12:38:32.820176Z"
    },
    "papermill": {
     "duration": 0.031839,
     "end_time": "2020-09-06T12:38:32.820796",
     "exception": false,
     "start_time": "2020-09-06T12:38:32.788957",
     "status": "completed"
    },
    "tags": []
   },
   "outputs": [],
   "source": [
    "#hide\n",
    "for c in 'Cases, Deaths'.split(', '):\n",
    "    df_table[f'{c} (+)'] = (df_table[c] - df_table[f'P{c}']).clip(0)\n",
    "df_table['Fatality Rate'] = (100* df_table['Deaths']/ df_table['Cases']).round(2)"
   ]
  },
  {
   "cell_type": "code",
   "execution_count": 13,
   "metadata": {
    "execution": {
     "iopub.execute_input": "2020-09-06T12:38:32.863749Z",
     "iopub.status.busy": "2020-09-06T12:38:32.863135Z",
     "iopub.status.idle": "2020-09-06T12:38:32.866649Z",
     "shell.execute_reply": "2020-09-06T12:38:32.867089Z"
    },
    "papermill": {
     "duration": 0.031375,
     "end_time": "2020-09-06T12:38:32.867229",
     "exception": false,
     "start_time": "2020-09-06T12:38:32.835854",
     "status": "completed"
    },
    "tags": []
   },
   "outputs": [
    {
     "data": {
      "text/html": [
       "<div>\n",
       "<style scoped>\n",
       "    .dataframe tbody tr th:only-of-type {\n",
       "        vertical-align: middle;\n",
       "    }\n",
       "\n",
       "    .dataframe tbody tr th {\n",
       "        vertical-align: top;\n",
       "    }\n",
       "\n",
       "    .dataframe thead th {\n",
       "        text-align: right;\n",
       "    }\n",
       "</style>\n",
       "<table border=\"1\" class=\"dataframe\">\n",
       "  <thead>\n",
       "    <tr style=\"text-align: right;\">\n",
       "      <th></th>\n",
       "      <th>states</th>\n",
       "      <th>Cases</th>\n",
       "      <th>Deaths</th>\n",
       "      <th>PCases</th>\n",
       "      <th>PDeaths</th>\n",
       "      <th>Cases (+)</th>\n",
       "      <th>Deaths (+)</th>\n",
       "      <th>Fatality Rate</th>\n",
       "    </tr>\n",
       "  </thead>\n",
       "  <tbody>\n",
       "    <tr>\n",
       "      <th>0</th>\n",
       "      <td>Maharashtra</td>\n",
       "      <td>883862</td>\n",
       "      <td>26276</td>\n",
       "      <td>883862</td>\n",
       "      <td>26276</td>\n",
       "      <td>0</td>\n",
       "      <td>0</td>\n",
       "      <td>2.97</td>\n",
       "    </tr>\n",
       "    <tr>\n",
       "      <th>1</th>\n",
       "      <td>Andhra Pradesh</td>\n",
       "      <td>498125</td>\n",
       "      <td>4417</td>\n",
       "      <td>487331</td>\n",
       "      <td>4347</td>\n",
       "      <td>10794</td>\n",
       "      <td>70</td>\n",
       "      <td>0.89</td>\n",
       "    </tr>\n",
       "    <tr>\n",
       "      <th>2</th>\n",
       "      <td>Tamil Nadu</td>\n",
       "      <td>457697</td>\n",
       "      <td>7751</td>\n",
       "      <td>457697</td>\n",
       "      <td>7751</td>\n",
       "      <td>0</td>\n",
       "      <td>0</td>\n",
       "      <td>1.69</td>\n",
       "    </tr>\n",
       "    <tr>\n",
       "      <th>3</th>\n",
       "      <td>Karnataka</td>\n",
       "      <td>389232</td>\n",
       "      <td>6298</td>\n",
       "      <td>389232</td>\n",
       "      <td>6298</td>\n",
       "      <td>0</td>\n",
       "      <td>0</td>\n",
       "      <td>1.62</td>\n",
       "    </tr>\n",
       "    <tr>\n",
       "      <th>4</th>\n",
       "      <td>Uttar Pradesh</td>\n",
       "      <td>259765</td>\n",
       "      <td>3843</td>\n",
       "      <td>259765</td>\n",
       "      <td>3843</td>\n",
       "      <td>0</td>\n",
       "      <td>0</td>\n",
       "      <td>1.48</td>\n",
       "    </tr>\n",
       "  </tbody>\n",
       "</table>\n",
       "</div>"
      ],
      "text/plain": [
       "           states   Cases  Deaths  PCases  PDeaths  Cases (+)  Deaths (+)  \\\n",
       "0     Maharashtra  883862   26276  883862    26276          0           0   \n",
       "1  Andhra Pradesh  498125    4417  487331     4347      10794          70   \n",
       "2      Tamil Nadu  457697    7751  457697     7751          0           0   \n",
       "3       Karnataka  389232    6298  389232     6298          0           0   \n",
       "4   Uttar Pradesh  259765    3843  259765     3843          0           0   \n",
       "\n",
       "   Fatality Rate  \n",
       "0           2.97  \n",
       "1           0.89  \n",
       "2           1.69  \n",
       "3           1.62  \n",
       "4           1.48  "
      ]
     },
     "execution_count": 13,
     "metadata": {},
     "output_type": "execute_result"
    }
   ],
   "source": [
    "#hide\n",
    "df_table.head()"
   ]
  },
  {
   "cell_type": "code",
   "execution_count": 14,
   "metadata": {
    "execution": {
     "iopub.execute_input": "2020-09-06T12:38:32.906797Z",
     "iopub.status.busy": "2020-09-06T12:38:32.906210Z",
     "iopub.status.idle": "2020-09-06T12:38:32.922401Z",
     "shell.execute_reply": "2020-09-06T12:38:32.921937Z"
    },
    "papermill": {
     "duration": 0.038812,
     "end_time": "2020-09-06T12:38:32.922523",
     "exception": false,
     "start_time": "2020-09-06T12:38:32.883711",
     "status": "completed"
    },
    "tags": []
   },
   "outputs": [
    {
     "data": {
      "text/plain": [
       "{'updated': '2020-09-06',\n",
       " 'since': '2020-09-05',\n",
       " 'Cases': 4131690,\n",
       " 'PCases': 4110839,\n",
       " 'Deaths': 70802,\n",
       " 'PDeaths': 70679,\n",
       " 'Cases (+)': 20851,\n",
       " 'Deaths (+)': 123}"
      ]
     },
     "execution_count": 14,
     "metadata": {},
     "output_type": "execute_result"
    }
   ],
   "source": [
    "#hide\n",
    "summary = {'updated':dates[-1], 'since':dates[-2]}\n",
    "list_names = ['Cases', 'PCases', 'Deaths', 'PDeaths', 'Cases (+)', 'Deaths (+)']\n",
    "for name in list_names:\n",
    "    summary[name] = df_table.sum()[name]\n",
    "summary"
   ]
  },
  {
   "cell_type": "code",
   "execution_count": 15,
   "metadata": {
    "execution": {
     "iopub.execute_input": "2020-09-06T12:38:32.959196Z",
     "iopub.status.busy": "2020-09-06T12:38:32.958652Z",
     "iopub.status.idle": "2020-09-06T12:38:32.961414Z",
     "shell.execute_reply": "2020-09-06T12:38:32.960927Z"
    },
    "papermill": {
     "duration": 0.023582,
     "end_time": "2020-09-06T12:38:32.961531",
     "exception": false,
     "start_time": "2020-09-06T12:38:32.937949",
     "status": "completed"
    },
    "tags": []
   },
   "outputs": [],
   "source": [
    "#hide\n",
    "overview = '''\n",
    "<!-- #######  HTML!! #########-->\n",
    "<h1 style=\"color: #5e9ca0; text-align: center;\">India</h1>\n",
    "<p style=\"text-align: center;\">Last update: <strong>{update}</strong></p>\n",
    "<p style=\"text-align: center;\">Confirmed cases:</p>\n",
    "<p style=\"text-align: center;font-size:24px;\">{cases} (<span style=\"color: #ff0000;\">+{new}</span>)</p>\n",
    "<p style=\"text-align: center;\">Confirmed deaths:</p>\n",
    "<p style=\"text-align: center;font-size:24px;\">{deaths} (<span style=\"color: #ff0000;\">+{dnew}</span>)</p>\n",
    "'''"
   ]
  },
  {
   "cell_type": "code",
   "execution_count": 16,
   "metadata": {
    "execution": {
     "iopub.execute_input": "2020-09-06T12:38:33.005397Z",
     "iopub.status.busy": "2020-09-06T12:38:33.004821Z",
     "iopub.status.idle": "2020-09-06T12:38:33.008635Z",
     "shell.execute_reply": "2020-09-06T12:38:33.008142Z"
    },
    "papermill": {
     "duration": 0.030736,
     "end_time": "2020-09-06T12:38:33.008758",
     "exception": false,
     "start_time": "2020-09-06T12:38:32.978022",
     "status": "completed"
    },
    "tags": []
   },
   "outputs": [
    {
     "data": {
      "text/html": [
       "\n",
       "<!-- #######  HTML!! #########-->\n",
       "<h1 style=\"color: #5e9ca0; text-align: center;\">India</h1>\n",
       "<p style=\"text-align: center;\">Last update: <strong>2020-09-06</strong></p>\n",
       "<p style=\"text-align: center;\">Confirmed cases:</p>\n",
       "<p style=\"text-align: center;font-size:24px;\">4131690 (<span style=\"color: #ff0000;\">+20851</span>)</p>\n",
       "<p style=\"text-align: center;\">Confirmed deaths:</p>\n",
       "<p style=\"text-align: center;font-size:24px;\">70802 (<span style=\"color: #ff0000;\">+123</span>)</p>\n"
      ],
      "text/plain": [
       "<IPython.core.display.HTML object>"
      ]
     },
     "metadata": {},
     "output_type": "display_data"
    }
   ],
   "source": [
    "#hide_input\n",
    "update = summary['updated']\n",
    "cases = summary['Cases']\n",
    "new = summary['Cases (+)']\n",
    "deaths = summary['Deaths']\n",
    "dnew = summary['Deaths (+)']\n",
    "\n",
    "html = HTML(overview.format(update=update, cases=cases,new=new,deaths=deaths,dnew=dnew))\n",
    "\n",
    "display(html)"
   ]
  },
  {
   "cell_type": "code",
   "execution_count": 17,
   "metadata": {
    "execution": {
     "iopub.execute_input": "2020-09-06T12:38:33.050938Z",
     "iopub.status.busy": "2020-09-06T12:38:33.048625Z",
     "iopub.status.idle": "2020-09-06T12:38:33.053161Z",
     "shell.execute_reply": "2020-09-06T12:38:33.053702Z"
    },
    "papermill": {
     "duration": 0.02894,
     "end_time": "2020-09-06T12:38:33.053851",
     "exception": false,
     "start_time": "2020-09-06T12:38:33.024911",
     "status": "completed"
    },
    "tags": []
   },
   "outputs": [],
   "source": [
    "#hide\n",
    "dt_cols = list(dft_cases.columns[1:])\n",
    "dft_ct_new_cases = dft_cases.groupby('state')[dt_cols].sum().diff(axis=1).fillna(0).astype(int)\n",
    "dft_ct_new_cases.sort_values(by = dates[-1], ascending = False,inplace = True)"
   ]
  },
  {
   "cell_type": "code",
   "execution_count": 18,
   "metadata": {
    "execution": {
     "iopub.execute_input": "2020-09-06T12:38:33.106422Z",
     "iopub.status.busy": "2020-09-06T12:38:33.105836Z",
     "iopub.status.idle": "2020-09-06T12:38:33.116612Z",
     "shell.execute_reply": "2020-09-06T12:38:33.116114Z"
    },
    "papermill": {
     "duration": 0.045448,
     "end_time": "2020-09-06T12:38:33.116741",
     "exception": false,
     "start_time": "2020-09-06T12:38:33.071293",
     "status": "completed"
    },
    "tags": []
   },
   "outputs": [
    {
     "data": {
      "text/html": [
       "<div>\n",
       "<style scoped>\n",
       "    .dataframe tbody tr th:only-of-type {\n",
       "        vertical-align: middle;\n",
       "    }\n",
       "\n",
       "    .dataframe tbody tr th {\n",
       "        vertical-align: top;\n",
       "    }\n",
       "\n",
       "    .dataframe thead th {\n",
       "        text-align: right;\n",
       "    }\n",
       "</style>\n",
       "<table border=\"1\" class=\"dataframe\">\n",
       "  <thead>\n",
       "    <tr style=\"text-align: right;\">\n",
       "      <th>states</th>\n",
       "      <th>2020-07-01</th>\n",
       "      <th>2020-07-02</th>\n",
       "      <th>2020-07-03</th>\n",
       "      <th>2020-07-04</th>\n",
       "      <th>2020-07-05</th>\n",
       "      <th>2020-07-06</th>\n",
       "      <th>2020-07-07</th>\n",
       "      <th>2020-07-08</th>\n",
       "      <th>2020-07-09</th>\n",
       "      <th>2020-07-10</th>\n",
       "      <th>...</th>\n",
       "      <th>2020-08-28</th>\n",
       "      <th>2020-08-29</th>\n",
       "      <th>2020-08-30</th>\n",
       "      <th>2020-08-31</th>\n",
       "      <th>2020-09-01</th>\n",
       "      <th>2020-09-02</th>\n",
       "      <th>2020-09-03</th>\n",
       "      <th>2020-09-04</th>\n",
       "      <th>2020-09-05</th>\n",
       "      <th>2020-09-06</th>\n",
       "    </tr>\n",
       "    <tr>\n",
       "      <th>state</th>\n",
       "      <th></th>\n",
       "      <th></th>\n",
       "      <th></th>\n",
       "      <th></th>\n",
       "      <th></th>\n",
       "      <th></th>\n",
       "      <th></th>\n",
       "      <th></th>\n",
       "      <th></th>\n",
       "      <th></th>\n",
       "      <th></th>\n",
       "      <th></th>\n",
       "      <th></th>\n",
       "      <th></th>\n",
       "      <th></th>\n",
       "      <th></th>\n",
       "      <th></th>\n",
       "      <th></th>\n",
       "      <th></th>\n",
       "      <th></th>\n",
       "      <th></th>\n",
       "    </tr>\n",
       "  </thead>\n",
       "  <tbody>\n",
       "    <tr>\n",
       "      <th>Andhra Pradesh</th>\n",
       "      <td>0</td>\n",
       "      <td>845</td>\n",
       "      <td>837</td>\n",
       "      <td>765</td>\n",
       "      <td>998</td>\n",
       "      <td>1322</td>\n",
       "      <td>1178</td>\n",
       "      <td>1062</td>\n",
       "      <td>1555</td>\n",
       "      <td>1608</td>\n",
       "      <td>...</td>\n",
       "      <td>10526</td>\n",
       "      <td>10548</td>\n",
       "      <td>10603</td>\n",
       "      <td>10004</td>\n",
       "      <td>10368</td>\n",
       "      <td>10392</td>\n",
       "      <td>10199</td>\n",
       "      <td>10776</td>\n",
       "      <td>10825</td>\n",
       "      <td>10794</td>\n",
       "    </tr>\n",
       "    <tr>\n",
       "      <th>Odisha</th>\n",
       "      <td>0</td>\n",
       "      <td>229</td>\n",
       "      <td>561</td>\n",
       "      <td>495</td>\n",
       "      <td>469</td>\n",
       "      <td>456</td>\n",
       "      <td>571</td>\n",
       "      <td>527</td>\n",
       "      <td>577</td>\n",
       "      <td>755</td>\n",
       "      <td>...</td>\n",
       "      <td>3682</td>\n",
       "      <td>3252</td>\n",
       "      <td>3014</td>\n",
       "      <td>2602</td>\n",
       "      <td>3025</td>\n",
       "      <td>3219</td>\n",
       "      <td>3631</td>\n",
       "      <td>3267</td>\n",
       "      <td>3543</td>\n",
       "      <td>3810</td>\n",
       "    </tr>\n",
       "    <tr>\n",
       "      <th>Telangana</th>\n",
       "      <td>0</td>\n",
       "      <td>1213</td>\n",
       "      <td>1892</td>\n",
       "      <td>1850</td>\n",
       "      <td>1590</td>\n",
       "      <td>1831</td>\n",
       "      <td>1879</td>\n",
       "      <td>1924</td>\n",
       "      <td>1410</td>\n",
       "      <td>1278</td>\n",
       "      <td>...</td>\n",
       "      <td>2932</td>\n",
       "      <td>2751</td>\n",
       "      <td>2924</td>\n",
       "      <td>1873</td>\n",
       "      <td>2734</td>\n",
       "      <td>2892</td>\n",
       "      <td>2817</td>\n",
       "      <td>2478</td>\n",
       "      <td>2511</td>\n",
       "      <td>2574</td>\n",
       "    </tr>\n",
       "    <tr>\n",
       "      <th>Bihar</th>\n",
       "      <td>0</td>\n",
       "      <td>478</td>\n",
       "      <td>426</td>\n",
       "      <td>349</td>\n",
       "      <td>403</td>\n",
       "      <td>280</td>\n",
       "      <td>385</td>\n",
       "      <td>749</td>\n",
       "      <td>704</td>\n",
       "      <td>352</td>\n",
       "      <td>...</td>\n",
       "      <td>1998</td>\n",
       "      <td>2087</td>\n",
       "      <td>2078</td>\n",
       "      <td>1324</td>\n",
       "      <td>1928</td>\n",
       "      <td>1969</td>\n",
       "      <td>1922</td>\n",
       "      <td>1978</td>\n",
       "      <td>1727</td>\n",
       "      <td>1797</td>\n",
       "    </tr>\n",
       "    <tr>\n",
       "      <th>Rajasthan</th>\n",
       "      <td>0</td>\n",
       "      <td>350</td>\n",
       "      <td>390</td>\n",
       "      <td>480</td>\n",
       "      <td>632</td>\n",
       "      <td>524</td>\n",
       "      <td>716</td>\n",
       "      <td>659</td>\n",
       "      <td>500</td>\n",
       "      <td>611</td>\n",
       "      <td>...</td>\n",
       "      <td>1355</td>\n",
       "      <td>1407</td>\n",
       "      <td>1450</td>\n",
       "      <td>1466</td>\n",
       "      <td>1470</td>\n",
       "      <td>1511</td>\n",
       "      <td>1553</td>\n",
       "      <td>1570</td>\n",
       "      <td>1566</td>\n",
       "      <td>726</td>\n",
       "    </tr>\n",
       "  </tbody>\n",
       "</table>\n",
       "<p>5 rows × 68 columns</p>\n",
       "</div>"
      ],
      "text/plain": [
       "states          2020-07-01  2020-07-02  2020-07-03  2020-07-04  2020-07-05  \\\n",
       "state                                                                        \n",
       "Andhra Pradesh           0         845         837         765         998   \n",
       "Odisha                   0         229         561         495         469   \n",
       "Telangana                0        1213        1892        1850        1590   \n",
       "Bihar                    0         478         426         349         403   \n",
       "Rajasthan                0         350         390         480         632   \n",
       "\n",
       "states          2020-07-06  2020-07-07  2020-07-08  2020-07-09  2020-07-10  \\\n",
       "state                                                                        \n",
       "Andhra Pradesh        1322        1178        1062        1555        1608   \n",
       "Odisha                 456         571         527         577         755   \n",
       "Telangana             1831        1879        1924        1410        1278   \n",
       "Bihar                  280         385         749         704         352   \n",
       "Rajasthan              524         716         659         500         611   \n",
       "\n",
       "states          ...  2020-08-28  2020-08-29  2020-08-30  2020-08-31  \\\n",
       "state           ...                                                   \n",
       "Andhra Pradesh  ...       10526       10548       10603       10004   \n",
       "Odisha          ...        3682        3252        3014        2602   \n",
       "Telangana       ...        2932        2751        2924        1873   \n",
       "Bihar           ...        1998        2087        2078        1324   \n",
       "Rajasthan       ...        1355        1407        1450        1466   \n",
       "\n",
       "states          2020-09-01  2020-09-02  2020-09-03  2020-09-04  2020-09-05  \\\n",
       "state                                                                        \n",
       "Andhra Pradesh       10368       10392       10199       10776       10825   \n",
       "Odisha                3025        3219        3631        3267        3543   \n",
       "Telangana             2734        2892        2817        2478        2511   \n",
       "Bihar                 1928        1969        1922        1978        1727   \n",
       "Rajasthan             1470        1511        1553        1570        1566   \n",
       "\n",
       "states          2020-09-06  \n",
       "state                       \n",
       "Andhra Pradesh       10794  \n",
       "Odisha                3810  \n",
       "Telangana             2574  \n",
       "Bihar                 1797  \n",
       "Rajasthan              726  \n",
       "\n",
       "[5 rows x 68 columns]"
      ]
     },
     "execution_count": 18,
     "metadata": {},
     "output_type": "execute_result"
    }
   ],
   "source": [
    "#hide\n",
    "dft_ct_new_cases.head()"
   ]
  },
  {
   "cell_type": "code",
   "execution_count": 19,
   "metadata": {
    "execution": {
     "iopub.execute_input": "2020-09-06T12:38:33.165175Z",
     "iopub.status.busy": "2020-09-06T12:38:33.159808Z",
     "iopub.status.idle": "2020-09-06T12:38:36.229728Z",
     "shell.execute_reply": "2020-09-06T12:38:36.230201Z"
    },
    "papermill": {
     "duration": 3.095889,
     "end_time": "2020-09-06T12:38:36.230356",
     "exception": false,
     "start_time": "2020-09-06T12:38:33.134467",
     "status": "completed"
    },
    "tags": []
   },
   "outputs": [
    {
     "data": {
      "image/png": "[encoded data removed]",
      "text/plain": [
       "<Figure size 1296x2016 with 11 Axes>"
      ]
     },
     "metadata": {
      "needs_background": "light"
     },
     "output_type": "display_data"
    }
   ],
   "source": [
    "#hide_input\n",
    "df = dft_ct_new_cases.copy()\n",
    "df.loc['Total'] = df.sum()\n",
    "n = 5\n",
    "ax = []\n",
    "fig = plt.figure(figsize = (18,28))\n",
    "gs = fig.add_gridspec(n+2, 5)\n",
    "# gs = fig.add_gridspec(2, 3)\n",
    "ax1 = fig.add_subplot(gs[0, :])\n",
    "ef = df.loc['Total'].rename_axis('date').reset_index()\n",
    "ef['date'] = ef['date'].astype('datetime64[ns]')\n",
    "ax1.bar(ef.date,ef.Total,alpha=0.3,color='#007acc')\n",
    "ax1.plot(ef.date,ef.Total , marker=\"o\", color='#007acc')\n",
    "ax1.xaxis.set_major_locator(mdates.WeekdayLocator())\n",
    "ax1.xaxis.set_major_formatter(mdates.DateFormatter('%b %d'))\n",
    "ax1.text(0.02, 0.5,'India daily case count', transform = ax1.transAxes, fontsize=25);\n",
    "ax1.spines['right'].set_visible(False)\n",
    "ax1.spines['top'].set_visible(False)\n",
    "\n",
    "ax2 = fig.add_subplot(gs[1,0])\n",
    "ef = df.loc['Maharashtra'].rename_axis('date').reset_index()\n",
    "ef['date'] = ef['date'].astype('datetime64[ns]')\n",
    "\n",
    "ax2.bar(ef.date, ef.Maharashtra,color = '#007acc',alpha=0.5)\n",
    "ax2.xaxis.set_major_locator(mdates.WeekdayLocator())\n",
    "ax2.xaxis.set_major_formatter(mdates.DateFormatter('%b %d'))\n",
    "ax2.set_xticks(ax2.get_xticks()[::3])\n",
    "maxyval = ef.Maharashtra.max()\n",
    "ax2.set_ylim([0,maxyval])\n",
    "ax2.text(0.05, 0.9,'Maharashtra', transform = ax2.transAxes, fontsize=20);\n",
    "ax2.spines['right'].set_visible(False)\n",
    "ax2.spines['top'].set_visible(False)\n",
    "\n",
    "\n",
    "ax3 = fig.add_subplot(gs[1,1])\n",
    "ef = df.loc['Tamil Nadu'].rename_axis('date').reset_index()\n",
    "ef['date'] = ef['date'].astype('datetime64[ns]')\n",
    "ax3.bar(ef.date, ef['Tamil Nadu'],color = '#007acc',alpha=0.5,)\n",
    "ax3.xaxis.set_major_locator(mdates.WeekdayLocator())\n",
    "ax3.xaxis.set_major_formatter(mdates.DateFormatter('%b %d'))\n",
    "ax3.set_xticks(ax3.get_xticks()[::3])\n",
    "ax3.text(0.05, 0.9,'Tamil Nadu', transform = ax3.transAxes, fontsize=20);\n",
    "ax3.spines['right'].set_visible(False)\n",
    "ax3.spines['top'].set_visible(False)\n",
    "\n",
    "ax5 = fig.add_subplot(gs[1,3])\n",
    "ef = df.loc['Telangana'].rename_axis('date').reset_index()\n",
    "ef['date'] = ef['date'].astype('datetime64[ns]')\n",
    "ax5.bar(ef.date, ef['Telangana'],color = '#007acc',alpha=0.5,)\n",
    "ax5.xaxis.set_major_locator(mdates.WeekdayLocator())\n",
    "ax5.xaxis.set_major_formatter(mdates.DateFormatter('%b %d'))\n",
    "ax5.set_xticks(ax5.get_xticks()[::3])\n",
    "ax5.text(0.05, 0.9,'Telangana', transform = ax5.transAxes, fontsize=20);\n",
    "ax5.spines['right'].set_visible(False)\n",
    "ax5.spines['top'].set_visible(False)\n",
    "\n",
    "ax6 = fig.add_subplot(gs[1,4])\n",
    "ef = df.loc['Andhra Pradesh'].rename_axis('date').reset_index()\n",
    "ef['date'] = ef['date'].astype('datetime64[ns]')\n",
    "ax6.bar(ef.date, ef['Andhra Pradesh'],color = '#007acc',alpha=0.5,)\n",
    "ax6.xaxis.set_major_locator(mdates.WeekdayLocator())\n",
    "ax6.xaxis.set_major_formatter(mdates.DateFormatter('%b %d'))\n",
    "ax6.set_xticks(ax6.get_xticks()[::3])\n",
    "ax6.text(0.05, 1,'Andhra Pradesh', transform = ax6.transAxes, fontsize=20);\n",
    "ax6.spines['right'].set_visible(False)\n",
    "ax6.spines['top'].set_visible(False)\n",
    "\n",
    "ax4 = fig.add_subplot(gs[1,2])\n",
    "ef = df.loc['Delhi'].rename_axis('date').reset_index()\n",
    "ef['date'] = ef['date'].astype('datetime64[ns]')\n",
    "ax4.bar(ef.date, ef.Delhi,color = '#007acc',alpha=0.5)\n",
    "ax4.set_xticks([])\n",
    "ax4.xaxis.set_major_locator(mdates.WeekdayLocator())\n",
    "ax4.xaxis.set_major_formatter(mdates.DateFormatter('%b %d'))\n",
    "ax4.set_xticks(ax4.get_xticks()[::3])\n",
    "ax4.spines['right'].set_visible(False)\n",
    "ax4.spines['top'].set_visible(False)\n",
    "\n",
    "ax4.text(0.05, 1,'Delhi', transform = ax4.transAxes, fontsize=20)\n",
    "\n",
    "for i in range(n):\n",
    "    \n",
    "    ax.append(fig.add_subplot(gs[i+2,:]))\n",
    "    ef = df.iloc[i+3].rename_axis('date').reset_index()\n",
    "    ef['date'] = ef['date'].astype('datetime64[ns]')\n",
    "    ax[i].bar(ef.date,ef.iloc[:,-1],color = '#007acc',alpha=0.3)\n",
    "    ax[i].plot(ef.date,ef.iloc[:,-1],marker='o',color='#007acc')\n",
    "    ax[i].text(0.02,0.5,f'{ef.columns.values[-1]}',transform = ax[i].transAxes, fontsize = 20);\n",
    "    ax[i].xaxis.set_major_locator(mdates.WeekdayLocator())\n",
    "    ax[i].xaxis.set_major_formatter(mdates.DateFormatter('%b %d'))\n",
    "    ax[i].set_ylim([0,7000])\n",
    "    ax[i].spines['right'].set_visible(False)\n",
    "    ax[i].spines['top'].set_visible(False)\n",
    "plt.tight_layout()\n"
   ]
  },
  {
   "cell_type": "code",
   "execution_count": 20,
   "metadata": {
    "execution": {
     "iopub.execute_input": "2020-09-06T12:38:36.345899Z",
     "iopub.status.busy": "2020-09-06T12:38:36.344581Z",
     "iopub.status.idle": "2020-09-06T12:38:36.347964Z",
     "shell.execute_reply": "2020-09-06T12:38:36.347459Z"
    },
    "papermill": {
     "duration": 0.060788,
     "end_time": "2020-09-06T12:38:36.348092",
     "exception": false,
     "start_time": "2020-09-06T12:38:36.287304",
     "status": "completed"
    },
    "tags": []
   },
   "outputs": [
    {
     "name": "stdout",
     "output_type": "stream",
     "text": [
      "                                   states   Cases  Deaths  PCases  PDeaths  Cases (+)  Deaths (+)  Fatality Rate\n",
      "                              Maharashtra  883862   26276  883862    26276          0           0           2.97\n",
      "                           Andhra Pradesh  498125    4417  487331     4347      10794          70           0.89\n",
      "                               Tamil Nadu  457697    7751  457697     7751          0           0           1.69\n",
      "                                Karnataka  389232    6298  389232     6298          0           0           1.62\n",
      "                            Uttar Pradesh  259765    3843  259765     3843          0           0           1.48\n",
      "                                    Delhi  188193    4538  188193     4538          0           0           2.41\n",
      "                              West Bengal  177701    3510  177701     3510          0           0           1.98\n",
      "                                    Bihar  147658     754  145861      750       1797           4           0.51\n",
      "                                Telangana  140969     886  138395      877       2574           9           0.63\n",
      "                                   Odisha  124031     599  120221      591       3810           8           0.48\n",
      "                                    Assam  123923     352  123923      352          0           0           0.28\n",
      "                                  Gujarat  103006    3092  103006     3092          0           0           3.00\n",
      "                                Rajasthan   90089    1130   89363     1122        726           8           1.25\n",
      "                                   Kerala   84760     338   84760      338          0           0           0.40\n",
      "                                  Haryana   74272     781   74272      781          0           0           1.05\n",
      "                           Madhya Pradesh   71880    1543   71880     1543          0           0           2.15\n",
      "                                   Punjab   61527    1808   61527     1808          0           0           2.94\n",
      "                                Jharkhand   49797     462   49797      462          0           0           0.93\n",
      "                             Chhattisgarh   43163     356   43163      356          0           0           0.82\n",
      "                        Jammu and Kashmir   42241     770   42241      770          0           0           1.82\n",
      "                              Uttarakhand   23961     330   23961      330          0           0           1.38\n",
      "                                      Goa   20455     229   20455      229          0           0           1.12\n",
      "                               Puducherry   17032     314   16566      298        466          16           1.84\n",
      "                                  Tripura   15127     144   14524      136        603           8           0.95\n",
      "                         Himachal Pradesh    7018      53    7018       53          0           0           0.76\n",
      "                                  Manipur    6883      36    6883       36          0           0           0.52\n",
      "                               Chandigarh    5502      69    5502       69          0           0           1.25\n",
      "                        Arunachal Pradesh    4914       8    4914        8          0           0           0.16\n",
      "                                 Nagaland    4178       8    4128        8         50           0           0.19\n",
      "              Andaman and Nicobar Islands    3292      50    3292       50          0           0           1.52\n",
      "                                   Ladakh    2996      35    2996       35          0           0           1.17\n",
      "                                Meghalaya    2916      15    2916       15          0           0           0.51\n",
      " Dadra and Nagar Haveli and Daman and Diu    2531       2    2531        2          0           0           0.08\n",
      "                                   Sikkim    1901       5    1901        5          0           0           0.26\n",
      "                                  Mizoram    1093       0    1062        0         31           0           0.00\n",
      "                              Lakshadweep       0       0       0        0          0           0            NaN\n"
     ]
    }
   ],
   "source": [
    "#hide_input\n",
    "print(df_table.to_string(index=False))"
   ]
  },
  {
   "cell_type": "code",
   "execution_count": null,
   "metadata": {
    "papermill": {
     "duration": 0.108148,
     "end_time": "2020-09-06T12:38:36.535775",
     "exception": false,
     "start_time": "2020-09-06T12:38:36.427627",
     "status": "completed"
    },
    "tags": []
   },
   "outputs": [],
   "source": []
  },
  {
   "cell_type": "code",
   "execution_count": null,
   "metadata": {
    "papermill": {
     "duration": 0.046207,
     "end_time": "2020-09-06T12:38:36.629046",
     "exception": false,
     "start_time": "2020-09-06T12:38:36.582839",
     "status": "completed"
    },
    "tags": []
   },
   "outputs": [],
   "source": []
  }
 ],
 "metadata": {
  "kernelspec": {
   "display_name": "Python 3",
   "language": "python",
   "name": "python3"
  },
  "language_info": {
   "codemirror_mode": {
    "name": "ipython",
    "version": 3
   },
   "file_extension": ".py",
   "mimetype": "text/x-python",
   "name": "python",
   "nbconvert_exporter": "python",
   "pygments_lexer": "ipython3",
   "version": "3.6.12"
  },
  "papermill": {
   "duration": 9.664073,
   "end_time": "2020-09-06T12:38:37.069355",
   "environment_variables": {},
   "exception": null,
   "input_path": "latest.ipynb",
   "output_path": "latest.ipynb",
   "parameters": {},
   "start_time": "2020-09-06T12:38:27.405282",
   "version": "2.1.2"
  }
 },
 "nbformat": 4,
 "nbformat_minor": 4
}