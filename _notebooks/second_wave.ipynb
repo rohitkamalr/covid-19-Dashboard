{
 "cells": [
  {
   "cell_type": "markdown",
   "id": "ce198879",
   "metadata": {
    "papermill": {
     "duration": 0.023637,
     "end_time": "2021-07-11T13:07:03.942436",
     "exception": false,
     "start_time": "2021-07-11T13:07:03.918799",
     "status": "completed"
    },
    "tags": []
   },
   "source": [
    "# Latest COVID-19 India Matplotlib Overview "
   ]
  },
  {
   "cell_type": "markdown",
   "id": "6af15ad5",
   "metadata": {
    "papermill": {
     "duration": 0.017868,
     "end_time": "2021-07-11T13:07:03.978816",
     "exception": false,
     "start_time": "2021-07-11T13:07:03.960948",
     "status": "completed"
    },
    "tags": []
   },
   "source": [
    "## Covid cases from 5th May 2021"
   ]
  },
  {
   "cell_type": "code",
   "execution_count": 1,
   "id": "fcbc62a5",
   "metadata": {
    "execution": {
     "iopub.execute_input": "2021-07-11T13:07:04.031008Z",
     "iopub.status.busy": "2021-07-11T13:07:04.030382Z",
     "iopub.status.idle": "2021-07-11T13:07:04.653714Z",
     "shell.execute_reply": "2021-07-11T13:07:04.652820Z"
    },
    "papermill": {
     "duration": 0.657278,
     "end_time": "2021-07-11T13:07:04.653991",
     "exception": false,
     "start_time": "2021-07-11T13:07:03.996713",
     "status": "completed"
    },
    "tags": []
   },
   "outputs": [],
   "source": [
    "#hide\n",
    "import pandas as pd\n",
    "import numpy as np\n",
    "import requests\n",
    "import json\n",
    "import matplotlib.pyplot as plt\n",
    "import matplotlib.dates as mdates\n",
    "import matplotlib as mpl\n",
    "from IPython.core.display import display,HTML\n",
    "%matplotlib inline\n",
    "from datetime import date"
   ]
  },
  {
   "cell_type": "code",
   "execution_count": 2,
   "id": "0a8b7562",
   "metadata": {
    "execution": {
     "iopub.execute_input": "2021-07-11T13:07:04.699144Z",
     "iopub.status.busy": "2021-07-11T13:07:04.698536Z",
     "iopub.status.idle": "2021-07-11T13:07:04.796304Z",
     "shell.execute_reply": "2021-07-11T13:07:04.795310Z"
    },
    "papermill": {
     "duration": 0.124101,
     "end_time": "2021-07-11T13:07:04.796567",
     "exception": false,
     "start_time": "2021-07-11T13:07:04.672466",
     "status": "completed"
    },
    "tags": []
   },
   "outputs": [],
   "source": [
    "#hide\n",
    "df  = pd.read_csv('https://api.covid19india.org/csv/latest/states.csv')\n",
    "df = df[['Date','State','Confirmed','Deceased']]\n",
    "df = df.rename(columns={'Confirmed':'Cases', \"Deceased\":'Deaths'})\n",
    "df_cases = df[[\"Date\",'State','Cases']]\n",
    "df_deaths = df[['Date','State','Deaths']]\n",
    "df_cases1 = df_cases.groupby('Date')\n",
    "df_deaths1= df_deaths.groupby('Date')"
   ]
  },
  {
   "cell_type": "code",
   "execution_count": 3,
   "id": "9d239da6",
   "metadata": {
    "execution": {
     "iopub.execute_input": "2021-07-11T13:07:04.845326Z",
     "iopub.status.busy": "2021-07-11T13:07:04.844728Z",
     "iopub.status.idle": "2021-07-11T13:07:04.864686Z",
     "shell.execute_reply": "2021-07-11T13:07:04.864204Z"
    },
    "papermill": {
     "duration": 0.044874,
     "end_time": "2021-07-11T13:07:04.864812",
     "exception": false,
     "start_time": "2021-07-11T13:07:04.819938",
     "status": "completed"
    },
    "tags": []
   },
   "outputs": [],
   "source": [
    "#hide\n",
    "df_snap = pd.read_csv('data/SnapshotCases-28-July.csv')\n",
    "arr_states = df_snap['states'].unique()\n",
    "arr_dates = df['Date'].unique()\n",
    "df_snap = df_snap.set_index('states')"
   ]
  },
  {
   "cell_type": "code",
   "execution_count": 4,
   "id": "38b1279d",
   "metadata": {
    "execution": {
     "iopub.execute_input": "2021-07-11T13:07:04.913373Z",
     "iopub.status.busy": "2021-07-11T13:07:04.912764Z",
     "iopub.status.idle": "2021-07-11T13:07:04.916037Z",
     "shell.execute_reply": "2021-07-11T13:07:04.916500Z"
    },
    "papermill": {
     "duration": 0.029836,
     "end_time": "2021-07-11T13:07:04.916637",
     "exception": false,
     "start_time": "2021-07-11T13:07:04.886801",
     "status": "completed"
    },
    "tags": []
   },
   "outputs": [
    {
     "data": {
      "text/plain": [
       "array(['Andaman and Nicobar Islands', 'Andhra Pradesh',\n",
       "       'Arunachal Pradesh', 'Assam', 'Bihar', 'Chandigarh',\n",
       "       'Dadra and Nagar Haveli and Daman and Diu', 'Delhi', 'Goa',\n",
       "       'Gujarat', 'Haryana', 'Himachal Pradesh', 'Jammu and Kashmir',\n",
       "       'Jharkhand', 'Karnataka', 'Kerala', 'Lakshadweep',\n",
       "       'Madhya Pradesh', 'Maharashtra', 'Manipur', 'Meghalaya', 'Mizoram',\n",
       "       'Nagaland', 'Odisha', 'Puducherry', 'Punjab', 'Rajasthan',\n",
       "       'Sikkim', 'Tamil Nadu', 'Telangana', 'Tripura', 'Uttar Pradesh',\n",
       "       'West Bengal', 'Chhattisgarh', 'Ladakh', 'Uttarakhand'],\n",
       "      dtype=object)"
      ]
     },
     "execution_count": 4,
     "metadata": {},
     "output_type": "execute_result"
    }
   ],
   "source": [
    "#hide\n",
    "arr_states[-9] = 'Puducherry'\n",
    "arr_states[-10] = 'Odisha'\n",
    "arr_states[6] = 'Dadra and Nagar Haveli and Daman and Diu'\n",
    "arr_states = np.append(arr_states,np.array(['Chhattisgarh','Ladakh','Uttarakhand']))\n",
    "arr_states"
   ]
  },
  {
   "cell_type": "code",
   "execution_count": 5,
   "id": "5a04932f",
   "metadata": {
    "execution": {
     "iopub.execute_input": "2021-07-11T13:07:04.964615Z",
     "iopub.status.busy": "2021-07-11T13:07:04.964014Z",
     "iopub.status.idle": "2021-07-11T13:07:04.971162Z",
     "shell.execute_reply": "2021-07-11T13:07:04.970692Z"
    },
    "papermill": {
     "duration": 0.035782,
     "end_time": "2021-07-11T13:07:04.971284",
     "exception": false,
     "start_time": "2021-07-11T13:07:04.935502",
     "status": "completed"
    },
    "tags": []
   },
   "outputs": [],
   "source": [
    "#hide\n",
    "dates = []\n",
    "for i in arr_dates:\n",
    "    if i>='2021-05-10':\n",
    "        dates.append(i)\n",
    "dict = {'states':dates}\n",
    "for i in arr_states:\n",
    "    dict[i] = [0]*len(dates)\n",
    "dft_cases = pd.DataFrame(dict)\n",
    "dft_deaths = pd.DataFrame(dict)\n"
   ]
  },
  {
   "cell_type": "code",
   "execution_count": 6,
   "id": "83c671d3",
   "metadata": {
    "execution": {
     "iopub.execute_input": "2021-07-11T13:07:05.013561Z",
     "iopub.status.busy": "2021-07-11T13:07:05.012975Z",
     "iopub.status.idle": "2021-07-11T13:07:05.922500Z",
     "shell.execute_reply": "2021-07-11T13:07:05.921949Z"
    },
    "papermill": {
     "duration": 0.93307,
     "end_time": "2021-07-11T13:07:05.922638",
     "exception": false,
     "start_time": "2021-07-11T13:07:04.989568",
     "status": "completed"
    },
    "tags": []
   },
   "outputs": [],
   "source": [
    "#hide\n",
    "for i in range(len(dates)):\n",
    "    df1_deaths = df_deaths1.get_group(dates[i])\n",
    "    for j in range(len(df1_deaths.index)):\n",
    "        if df1_deaths.iloc[j,1] in arr_states:\n",
    "            dft_deaths.loc[i,df1_deaths.iloc[j,1]] = df1_deaths.iloc[j,2]\n",
    "dft_deaths = dft_deaths.set_index('states')"
   ]
  },
  {
   "cell_type": "code",
   "execution_count": 7,
   "id": "3a7181ba",
   "metadata": {
    "execution": {
     "iopub.execute_input": "2021-07-11T13:07:05.971941Z",
     "iopub.status.busy": "2021-07-11T13:07:05.971348Z",
     "iopub.status.idle": "2021-07-11T13:07:06.891274Z",
     "shell.execute_reply": "2021-07-11T13:07:06.890334Z"
    },
    "papermill": {
     "duration": 0.948191,
     "end_time": "2021-07-11T13:07:06.891417",
     "exception": false,
     "start_time": "2021-07-11T13:07:05.943226",
     "status": "completed"
    },
    "tags": []
   },
   "outputs": [],
   "source": [
    "#hide\n",
    "for i in range(len(dates)):\n",
    "    df1_cases = df_cases1.get_group(dates[i])\n",
    "    for j in range(len(df1_cases.index)):\n",
    "        if df1_cases.iloc[j,1] in arr_states:\n",
    "            dft_cases.loc[i,df1_cases.iloc[j,1]] = df1_cases.iloc[j,2]\n",
    "dft_cases = dft_cases.set_index('states')"
   ]
  },
  {
   "cell_type": "code",
   "execution_count": 8,
   "id": "f076e3f6",
   "metadata": {
    "execution": {
     "iopub.execute_input": "2021-07-11T13:07:06.934951Z",
     "iopub.status.busy": "2021-07-11T13:07:06.933615Z",
     "iopub.status.idle": "2021-07-11T13:07:06.935605Z",
     "shell.execute_reply": "2021-07-11T13:07:06.936060Z"
    },
    "papermill": {
     "duration": 0.026393,
     "end_time": "2021-07-11T13:07:06.936201",
     "exception": false,
     "start_time": "2021-07-11T13:07:06.909808",
     "status": "completed"
    },
    "tags": []
   },
   "outputs": [],
   "source": [
    "#hide\n",
    "dft_cases = dft_cases.T\n",
    "dft_deaths = dft_deaths.T\n",
    "dt_today = dates[-1]\n",
    "dt_yday = dates[-2]"
   ]
  },
  {
   "cell_type": "code",
   "execution_count": 9,
   "id": "e60af47a",
   "metadata": {
    "execution": {
     "iopub.execute_input": "2021-07-11T13:07:06.980282Z",
     "iopub.status.busy": "2021-07-11T13:07:06.979068Z",
     "iopub.status.idle": "2021-07-11T13:07:06.984823Z",
     "shell.execute_reply": "2021-07-11T13:07:06.985381Z"
    },
    "papermill": {
     "duration": 0.031147,
     "end_time": "2021-07-11T13:07:06.985521",
     "exception": false,
     "start_time": "2021-07-11T13:07:06.954374",
     "status": "completed"
    },
    "tags": []
   },
   "outputs": [],
   "source": [
    "#hide\n",
    "dft_cases = dft_cases.reset_index()\n",
    "dft_deaths = dft_deaths.reset_index()\n",
    "dft_cases = dft_cases.rename(columns = {'index':'state'})\n",
    "dft_deaths = dft_deaths.rename(columns = {'index':'state'})"
   ]
  },
  {
   "cell_type": "code",
   "execution_count": 10,
   "id": "33d79a02",
   "metadata": {
    "execution": {
     "iopub.execute_input": "2021-07-11T13:07:07.029197Z",
     "iopub.status.busy": "2021-07-11T13:07:07.028608Z",
     "iopub.status.idle": "2021-07-11T13:07:07.035384Z",
     "shell.execute_reply": "2021-07-11T13:07:07.034873Z"
    },
    "papermill": {
     "duration": 0.031378,
     "end_time": "2021-07-11T13:07:07.035515",
     "exception": false,
     "start_time": "2021-07-11T13:07:07.004137",
     "status": "completed"
    },
    "tags": []
   },
   "outputs": [],
   "source": [
    "#hide\n",
    "dfc_cases = dft_cases.groupby('state')[dt_today].sum()\n",
    "dfc_deaths = dft_deaths.groupby('state')[dt_today].sum()\n",
    "dfp_cases = dft_cases.groupby('state')[dt_yday].sum()\n",
    "dfp_deaths = dft_deaths.groupby('state')[dt_yday].sum()"
   ]
  },
  {
   "cell_type": "code",
   "execution_count": 11,
   "id": "101eea8b",
   "metadata": {
    "execution": {
     "iopub.execute_input": "2021-07-11T13:07:07.079316Z",
     "iopub.status.busy": "2021-07-11T13:07:07.078519Z",
     "iopub.status.idle": "2021-07-11T13:07:07.093595Z",
     "shell.execute_reply": "2021-07-11T13:07:07.093104Z"
    },
    "papermill": {
     "duration": 0.039866,
     "end_time": "2021-07-11T13:07:07.093715",
     "exception": false,
     "start_time": "2021-07-11T13:07:07.053849",
     "status": "completed"
    },
    "tags": []
   },
   "outputs": [
    {
     "data": {
      "text/html": [
       "<div>\n",
       "<style scoped>\n",
       "    .dataframe tbody tr th:only-of-type {\n",
       "        vertical-align: middle;\n",
       "    }\n",
       "\n",
       "    .dataframe tbody tr th {\n",
       "        vertical-align: top;\n",
       "    }\n",
       "\n",
       "    .dataframe thead th {\n",
       "        text-align: right;\n",
       "    }\n",
       "</style>\n",
       "<table border=\"1\" class=\"dataframe\">\n",
       "  <thead>\n",
       "    <tr style=\"text-align: right;\">\n",
       "      <th></th>\n",
       "      <th>states</th>\n",
       "      <th>Cases</th>\n",
       "      <th>Deaths</th>\n",
       "      <th>PCases</th>\n",
       "      <th>PDeaths</th>\n",
       "    </tr>\n",
       "  </thead>\n",
       "  <tbody>\n",
       "    <tr>\n",
       "      <th>0</th>\n",
       "      <td>Maharashtra</td>\n",
       "      <td>6149264</td>\n",
       "      <td>125528</td>\n",
       "      <td>6149264</td>\n",
       "      <td>125528</td>\n",
       "    </tr>\n",
       "    <tr>\n",
       "      <th>1</th>\n",
       "      <td>Kerala</td>\n",
       "      <td>3053116</td>\n",
       "      <td>14489</td>\n",
       "      <td>3053116</td>\n",
       "      <td>14489</td>\n",
       "    </tr>\n",
       "    <tr>\n",
       "      <th>2</th>\n",
       "      <td>Karnataka</td>\n",
       "      <td>2869320</td>\n",
       "      <td>35779</td>\n",
       "      <td>2869320</td>\n",
       "      <td>35779</td>\n",
       "    </tr>\n",
       "    <tr>\n",
       "      <th>3</th>\n",
       "      <td>Tamil Nadu</td>\n",
       "      <td>2516011</td>\n",
       "      <td>33371</td>\n",
       "      <td>2516011</td>\n",
       "      <td>33371</td>\n",
       "    </tr>\n",
       "    <tr>\n",
       "      <th>4</th>\n",
       "      <td>Andhra Pradesh</td>\n",
       "      <td>1922843</td>\n",
       "      <td>13002</td>\n",
       "      <td>1920178</td>\n",
       "      <td>12986</td>\n",
       "    </tr>\n",
       "  </tbody>\n",
       "</table>\n",
       "</div>"
      ],
      "text/plain": [
       "           states    Cases  Deaths   PCases  PDeaths\n",
       "0     Maharashtra  6149264  125528  6149264   125528\n",
       "1          Kerala  3053116   14489  3053116    14489\n",
       "2       Karnataka  2869320   35779  2869320    35779\n",
       "3      Tamil Nadu  2516011   33371  2516011    33371\n",
       "4  Andhra Pradesh  1922843   13002  1920178    12986"
      ]
     },
     "execution_count": 11,
     "metadata": {},
     "output_type": "execute_result"
    }
   ],
   "source": [
    "#hide\n",
    "df_table = pd.DataFrame({'states': dfc_cases.index, 'Cases': dfc_cases.values, 'Deaths': dfc_deaths.values, 'PCases': dfp_cases.values, 'PDeaths': dfp_deaths.values}).set_index('states')\n",
    "df_table = df_table.sort_values(by = ['Cases','Deaths'], ascending = [False, False])\n",
    "df_table = df_table.reset_index()\n",
    "df_table.head()"
   ]
  },
  {
   "cell_type": "code",
   "execution_count": 12,
   "id": "6736c5ca",
   "metadata": {
    "execution": {
     "iopub.execute_input": "2021-07-11T13:07:07.138017Z",
     "iopub.status.busy": "2021-07-11T13:07:07.137401Z",
     "iopub.status.idle": "2021-07-11T13:07:07.146077Z",
     "shell.execute_reply": "2021-07-11T13:07:07.145578Z"
    },
    "papermill": {
     "duration": 0.033995,
     "end_time": "2021-07-11T13:07:07.146204",
     "exception": false,
     "start_time": "2021-07-11T13:07:07.112209",
     "status": "completed"
    },
    "tags": []
   },
   "outputs": [],
   "source": [
    "#hide\n",
    "for c in 'Cases, Deaths'.split(', '):\n",
    "    df_table[f'{c} (+)'] = (df_table[c] - df_table[f'P{c}']).clip(0)\n",
    "df_table['Fatality Rate'] = (100* df_table['Deaths']/ df_table['Cases']).round(2)"
   ]
  },
  {
   "cell_type": "code",
   "execution_count": 13,
   "id": "03065123",
   "metadata": {
    "execution": {
     "iopub.execute_input": "2021-07-11T13:07:07.194847Z",
     "iopub.status.busy": "2021-07-11T13:07:07.194259Z",
     "iopub.status.idle": "2021-07-11T13:07:07.197365Z",
     "shell.execute_reply": "2021-07-11T13:07:07.196879Z"
    },
    "papermill": {
     "duration": 0.032726,
     "end_time": "2021-07-11T13:07:07.197482",
     "exception": false,
     "start_time": "2021-07-11T13:07:07.164756",
     "status": "completed"
    },
    "tags": []
   },
   "outputs": [
    {
     "data": {
      "text/html": [
       "<div>\n",
       "<style scoped>\n",
       "    .dataframe tbody tr th:only-of-type {\n",
       "        vertical-align: middle;\n",
       "    }\n",
       "\n",
       "    .dataframe tbody tr th {\n",
       "        vertical-align: top;\n",
       "    }\n",
       "\n",
       "    .dataframe thead th {\n",
       "        text-align: right;\n",
       "    }\n",
       "</style>\n",
       "<table border=\"1\" class=\"dataframe\">\n",
       "  <thead>\n",
       "    <tr style=\"text-align: right;\">\n",
       "      <th></th>\n",
       "      <th>states</th>\n",
       "      <th>Cases</th>\n",
       "      <th>Deaths</th>\n",
       "      <th>PCases</th>\n",
       "      <th>PDeaths</th>\n",
       "      <th>Cases (+)</th>\n",
       "      <th>Deaths (+)</th>\n",
       "      <th>Fatality Rate</th>\n",
       "    </tr>\n",
       "  </thead>\n",
       "  <tbody>\n",
       "    <tr>\n",
       "      <th>0</th>\n",
       "      <td>Maharashtra</td>\n",
       "      <td>6149264</td>\n",
       "      <td>125528</td>\n",
       "      <td>6149264</td>\n",
       "      <td>125528</td>\n",
       "      <td>0</td>\n",
       "      <td>0</td>\n",
       "      <td>2.04</td>\n",
       "    </tr>\n",
       "    <tr>\n",
       "      <th>1</th>\n",
       "      <td>Kerala</td>\n",
       "      <td>3053116</td>\n",
       "      <td>14489</td>\n",
       "      <td>3053116</td>\n",
       "      <td>14489</td>\n",
       "      <td>0</td>\n",
       "      <td>0</td>\n",
       "      <td>0.47</td>\n",
       "    </tr>\n",
       "    <tr>\n",
       "      <th>2</th>\n",
       "      <td>Karnataka</td>\n",
       "      <td>2869320</td>\n",
       "      <td>35779</td>\n",
       "      <td>2869320</td>\n",
       "      <td>35779</td>\n",
       "      <td>0</td>\n",
       "      <td>0</td>\n",
       "      <td>1.25</td>\n",
       "    </tr>\n",
       "    <tr>\n",
       "      <th>3</th>\n",
       "      <td>Tamil Nadu</td>\n",
       "      <td>2516011</td>\n",
       "      <td>33371</td>\n",
       "      <td>2516011</td>\n",
       "      <td>33371</td>\n",
       "      <td>0</td>\n",
       "      <td>0</td>\n",
       "      <td>1.33</td>\n",
       "    </tr>\n",
       "    <tr>\n",
       "      <th>4</th>\n",
       "      <td>Andhra Pradesh</td>\n",
       "      <td>1922843</td>\n",
       "      <td>13002</td>\n",
       "      <td>1920178</td>\n",
       "      <td>12986</td>\n",
       "      <td>2665</td>\n",
       "      <td>16</td>\n",
       "      <td>0.68</td>\n",
       "    </tr>\n",
       "  </tbody>\n",
       "</table>\n",
       "</div>"
      ],
      "text/plain": [
       "           states    Cases  Deaths   PCases  PDeaths  Cases (+)  Deaths (+)  \\\n",
       "0     Maharashtra  6149264  125528  6149264   125528          0           0   \n",
       "1          Kerala  3053116   14489  3053116    14489          0           0   \n",
       "2       Karnataka  2869320   35779  2869320    35779          0           0   \n",
       "3      Tamil Nadu  2516011   33371  2516011    33371          0           0   \n",
       "4  Andhra Pradesh  1922843   13002  1920178    12986       2665          16   \n",
       "\n",
       "   Fatality Rate  \n",
       "0           2.04  \n",
       "1           0.47  \n",
       "2           1.25  \n",
       "3           1.33  \n",
       "4           0.68  "
      ]
     },
     "execution_count": 13,
     "metadata": {},
     "output_type": "execute_result"
    }
   ],
   "source": [
    "#hide\n",
    "df_table.head()"
   ]
  },
  {
   "cell_type": "code",
   "execution_count": 14,
   "id": "5aee721e",
   "metadata": {
    "execution": {
     "iopub.execute_input": "2021-07-11T13:07:07.241758Z",
     "iopub.status.busy": "2021-07-11T13:07:07.241185Z",
     "iopub.status.idle": "2021-07-11T13:07:07.257538Z",
     "shell.execute_reply": "2021-07-11T13:07:07.257052Z"
    },
    "papermill": {
     "duration": 0.041217,
     "end_time": "2021-07-11T13:07:07.257657",
     "exception": false,
     "start_time": "2021-07-11T13:07:07.216440",
     "status": "completed"
    },
    "tags": []
   },
   "outputs": [
    {
     "data": {
      "text/plain": [
       "{'updated': '2021-07-11',\n",
       " 'since': '2021-07-10',\n",
       " 'Cases': 30842883,\n",
       " 'PCases': 30836262,\n",
       " 'Deaths': 408159,\n",
       " 'PDeaths': 408072,\n",
       " 'Cases (+)': 6621,\n",
       " 'Deaths (+)': 87}"
      ]
     },
     "execution_count": 14,
     "metadata": {},
     "output_type": "execute_result"
    }
   ],
   "source": [
    "#hide\n",
    "summary = {'updated':dates[-1], 'since':dates[-2]}\n",
    "list_names = ['Cases', 'PCases', 'Deaths', 'PDeaths', 'Cases (+)', 'Deaths (+)']\n",
    "for name in list_names:\n",
    "    summary[name] = df_table.sum()[name]\n",
    "summary"
   ]
  },
  {
   "cell_type": "code",
   "execution_count": 15,
   "id": "f9e3e01e",
   "metadata": {
    "execution": {
     "iopub.execute_input": "2021-07-11T13:07:07.301373Z",
     "iopub.status.busy": "2021-07-11T13:07:07.300703Z",
     "iopub.status.idle": "2021-07-11T13:07:07.303027Z",
     "shell.execute_reply": "2021-07-11T13:07:07.302562Z"
    },
    "papermill": {
     "duration": 0.026171,
     "end_time": "2021-07-11T13:07:07.303146",
     "exception": false,
     "start_time": "2021-07-11T13:07:07.276975",
     "status": "completed"
    },
    "tags": []
   },
   "outputs": [],
   "source": [
    "#hide\n",
    "overview = '''\n",
    "<!-- #######  HTML!! #########-->\n",
    "<h1 style=\"color: #5e9ca0; text-align: center;\">India</h1>\n",
    "<p style=\"text-align: center;\">Last update: <strong>{update}</strong></p>\n",
    "<p style=\"text-align: center;\">Confirmed cases:</p>\n",
    "<p style=\"text-align: center;font-size:24px;\">{cases} (<span style=\"color: #ff0000;\">+{new}</span>)</p>\n",
    "<p style=\"text-align: center;\">Confirmed deaths:</p>\n",
    "<p style=\"text-align: center;font-size:24px;\">{deaths} (<span style=\"color: #ff0000;\">+{dnew}</span>)</p>\n",
    "'''"
   ]
  },
  {
   "cell_type": "code",
   "execution_count": 16,
   "id": "03e6b465",
   "metadata": {
    "execution": {
     "iopub.execute_input": "2021-07-11T13:07:07.348656Z",
     "iopub.status.busy": "2021-07-11T13:07:07.348054Z",
     "iopub.status.idle": "2021-07-11T13:07:07.351433Z",
     "shell.execute_reply": "2021-07-11T13:07:07.350970Z"
    },
    "papermill": {
     "duration": 0.029106,
     "end_time": "2021-07-11T13:07:07.351552",
     "exception": false,
     "start_time": "2021-07-11T13:07:07.322446",
     "status": "completed"
    },
    "tags": []
   },
   "outputs": [
    {
     "data": {
      "text/html": [
       "\n",
       "<!-- #######  HTML!! #########-->\n",
       "<h1 style=\"color: #5e9ca0; text-align: center;\">India</h1>\n",
       "<p style=\"text-align: center;\">Last update: <strong>2021-07-11</strong></p>\n",
       "<p style=\"text-align: center;\">Confirmed cases:</p>\n",
       "<p style=\"text-align: center;font-size:24px;\">30842883 (<span style=\"color: #ff0000;\">+6621</span>)</p>\n",
       "<p style=\"text-align: center;\">Confirmed deaths:</p>\n",
       "<p style=\"text-align: center;font-size:24px;\">408159 (<span style=\"color: #ff0000;\">+87</span>)</p>\n"
      ],
      "text/plain": [
       "<IPython.core.display.HTML object>"
      ]
     },
     "metadata": {},
     "output_type": "display_data"
    }
   ],
   "source": [
    "#hide_input\n",
    "update = summary['updated']\n",
    "cases = summary['Cases']\n",
    "new = summary['Cases (+)']\n",
    "deaths = summary['Deaths']\n",
    "dnew = summary['Deaths (+)']\n",
    "\n",
    "html = HTML(overview.format(update=update, cases=cases,new=new,deaths=deaths,dnew=dnew))\n",
    "\n",
    "display(html)"
   ]
  },
  {
   "cell_type": "code",
   "execution_count": 17,
   "id": "7a35f416",
   "metadata": {
    "execution": {
     "iopub.execute_input": "2021-07-11T13:07:07.398430Z",
     "iopub.status.busy": "2021-07-11T13:07:07.397800Z",
     "iopub.status.idle": "2021-07-11T13:07:07.404158Z",
     "shell.execute_reply": "2021-07-11T13:07:07.404656Z"
    },
    "papermill": {
     "duration": 0.033516,
     "end_time": "2021-07-11T13:07:07.404794",
     "exception": false,
     "start_time": "2021-07-11T13:07:07.371278",
     "status": "completed"
    },
    "tags": []
   },
   "outputs": [],
   "source": [
    "#hide\n",
    "dt_cols = list(dft_cases.columns[1:])\n",
    "dft_ct_new_cases = dft_cases.groupby('state')[dt_cols].sum().diff(axis=1).fillna(0).astype(int)\n",
    "dft_ct_new_cases.sort_values(by = dates[-1], ascending = False,inplace = True)"
   ]
  },
  {
   "cell_type": "code",
   "execution_count": 18,
   "id": "f843f400",
   "metadata": {
    "execution": {
     "iopub.execute_input": "2021-07-11T13:07:07.463700Z",
     "iopub.status.busy": "2021-07-11T13:07:07.463105Z",
     "iopub.status.idle": "2021-07-11T13:07:07.466545Z",
     "shell.execute_reply": "2021-07-11T13:07:07.466044Z"
    },
    "papermill": {
     "duration": 0.041927,
     "end_time": "2021-07-11T13:07:07.466665",
     "exception": false,
     "start_time": "2021-07-11T13:07:07.424738",
     "status": "completed"
    },
    "tags": []
   },
   "outputs": [
    {
     "data": {
      "text/html": [
       "<div>\n",
       "<style scoped>\n",
       "    .dataframe tbody tr th:only-of-type {\n",
       "        vertical-align: middle;\n",
       "    }\n",
       "\n",
       "    .dataframe tbody tr th {\n",
       "        vertical-align: top;\n",
       "    }\n",
       "\n",
       "    .dataframe thead th {\n",
       "        text-align: right;\n",
       "    }\n",
       "</style>\n",
       "<table border=\"1\" class=\"dataframe\">\n",
       "  <thead>\n",
       "    <tr style=\"text-align: right;\">\n",
       "      <th>states</th>\n",
       "      <th>2021-05-10</th>\n",
       "      <th>2021-05-11</th>\n",
       "      <th>2021-05-12</th>\n",
       "      <th>2021-05-13</th>\n",
       "      <th>2021-05-14</th>\n",
       "      <th>2021-05-15</th>\n",
       "      <th>2021-05-16</th>\n",
       "      <th>2021-05-17</th>\n",
       "      <th>2021-05-18</th>\n",
       "      <th>2021-05-19</th>\n",
       "      <th>...</th>\n",
       "      <th>2021-07-02</th>\n",
       "      <th>2021-07-03</th>\n",
       "      <th>2021-07-04</th>\n",
       "      <th>2021-07-05</th>\n",
       "      <th>2021-07-06</th>\n",
       "      <th>2021-07-07</th>\n",
       "      <th>2021-07-08</th>\n",
       "      <th>2021-07-09</th>\n",
       "      <th>2021-07-10</th>\n",
       "      <th>2021-07-11</th>\n",
       "    </tr>\n",
       "    <tr>\n",
       "      <th>state</th>\n",
       "      <th></th>\n",
       "      <th></th>\n",
       "      <th></th>\n",
       "      <th></th>\n",
       "      <th></th>\n",
       "      <th></th>\n",
       "      <th></th>\n",
       "      <th></th>\n",
       "      <th></th>\n",
       "      <th></th>\n",
       "      <th></th>\n",
       "      <th></th>\n",
       "      <th></th>\n",
       "      <th></th>\n",
       "      <th></th>\n",
       "      <th></th>\n",
       "      <th></th>\n",
       "      <th></th>\n",
       "      <th></th>\n",
       "      <th></th>\n",
       "      <th></th>\n",
       "    </tr>\n",
       "  </thead>\n",
       "  <tbody>\n",
       "    <tr>\n",
       "      <th>Andhra Pradesh</th>\n",
       "      <td>0</td>\n",
       "      <td>20345</td>\n",
       "      <td>21452</td>\n",
       "      <td>22399</td>\n",
       "      <td>22018</td>\n",
       "      <td>22517</td>\n",
       "      <td>24171</td>\n",
       "      <td>18561</td>\n",
       "      <td>21320</td>\n",
       "      <td>23160</td>\n",
       "      <td>...</td>\n",
       "      <td>3464</td>\n",
       "      <td>2930</td>\n",
       "      <td>3175</td>\n",
       "      <td>2100</td>\n",
       "      <td>3042</td>\n",
       "      <td>3166</td>\n",
       "      <td>2982</td>\n",
       "      <td>3040</td>\n",
       "      <td>2925</td>\n",
       "      <td>2665</td>\n",
       "    </tr>\n",
       "    <tr>\n",
       "      <th>Odisha</th>\n",
       "      <td>0</td>\n",
       "      <td>9793</td>\n",
       "      <td>10982</td>\n",
       "      <td>10649</td>\n",
       "      <td>12390</td>\n",
       "      <td>11805</td>\n",
       "      <td>11732</td>\n",
       "      <td>10757</td>\n",
       "      <td>10321</td>\n",
       "      <td>11099</td>\n",
       "      <td>...</td>\n",
       "      <td>3222</td>\n",
       "      <td>2917</td>\n",
       "      <td>2870</td>\n",
       "      <td>2803</td>\n",
       "      <td>2487</td>\n",
       "      <td>2602</td>\n",
       "      <td>2542</td>\n",
       "      <td>2806</td>\n",
       "      <td>2334</td>\n",
       "      <td>2282</td>\n",
       "    </tr>\n",
       "    <tr>\n",
       "      <th>Tripura</th>\n",
       "      <td>0</td>\n",
       "      <td>466</td>\n",
       "      <td>416</td>\n",
       "      <td>480</td>\n",
       "      <td>552</td>\n",
       "      <td>449</td>\n",
       "      <td>761</td>\n",
       "      <td>335</td>\n",
       "      <td>746</td>\n",
       "      <td>879</td>\n",
       "      <td>...</td>\n",
       "      <td>409</td>\n",
       "      <td>394</td>\n",
       "      <td>428</td>\n",
       "      <td>226</td>\n",
       "      <td>474</td>\n",
       "      <td>461</td>\n",
       "      <td>407</td>\n",
       "      <td>531</td>\n",
       "      <td>411</td>\n",
       "      <td>518</td>\n",
       "    </tr>\n",
       "    <tr>\n",
       "      <th>Mizoram</th>\n",
       "      <td>0</td>\n",
       "      <td>172</td>\n",
       "      <td>240</td>\n",
       "      <td>141</td>\n",
       "      <td>201</td>\n",
       "      <td>122</td>\n",
       "      <td>180</td>\n",
       "      <td>150</td>\n",
       "      <td>239</td>\n",
       "      <td>184</td>\n",
       "      <td>...</td>\n",
       "      <td>278</td>\n",
       "      <td>233</td>\n",
       "      <td>243</td>\n",
       "      <td>88</td>\n",
       "      <td>520</td>\n",
       "      <td>301</td>\n",
       "      <td>548</td>\n",
       "      <td>311</td>\n",
       "      <td>537</td>\n",
       "      <td>442</td>\n",
       "    </tr>\n",
       "    <tr>\n",
       "      <th>Meghalaya</th>\n",
       "      <td>0</td>\n",
       "      <td>450</td>\n",
       "      <td>406</td>\n",
       "      <td>591</td>\n",
       "      <td>627</td>\n",
       "      <td>560</td>\n",
       "      <td>569</td>\n",
       "      <td>634</td>\n",
       "      <td>906</td>\n",
       "      <td>872</td>\n",
       "      <td>...</td>\n",
       "      <td>485</td>\n",
       "      <td>460</td>\n",
       "      <td>489</td>\n",
       "      <td>377</td>\n",
       "      <td>457</td>\n",
       "      <td>354</td>\n",
       "      <td>532</td>\n",
       "      <td>426</td>\n",
       "      <td>485</td>\n",
       "      <td>425</td>\n",
       "    </tr>\n",
       "  </tbody>\n",
       "</table>\n",
       "<p>5 rows × 63 columns</p>\n",
       "</div>"
      ],
      "text/plain": [
       "states          2021-05-10  2021-05-11  2021-05-12  2021-05-13  2021-05-14  \\\n",
       "state                                                                        \n",
       "Andhra Pradesh           0       20345       21452       22399       22018   \n",
       "Odisha                   0        9793       10982       10649       12390   \n",
       "Tripura                  0         466         416         480         552   \n",
       "Mizoram                  0         172         240         141         201   \n",
       "Meghalaya                0         450         406         591         627   \n",
       "\n",
       "states          2021-05-15  2021-05-16  2021-05-17  2021-05-18  2021-05-19  \\\n",
       "state                                                                        \n",
       "Andhra Pradesh       22517       24171       18561       21320       23160   \n",
       "Odisha               11805       11732       10757       10321       11099   \n",
       "Tripura                449         761         335         746         879   \n",
       "Mizoram                122         180         150         239         184   \n",
       "Meghalaya              560         569         634         906         872   \n",
       "\n",
       "states          ...  2021-07-02  2021-07-03  2021-07-04  2021-07-05  \\\n",
       "state           ...                                                   \n",
       "Andhra Pradesh  ...        3464        2930        3175        2100   \n",
       "Odisha          ...        3222        2917        2870        2803   \n",
       "Tripura         ...         409         394         428         226   \n",
       "Mizoram         ...         278         233         243          88   \n",
       "Meghalaya       ...         485         460         489         377   \n",
       "\n",
       "states          2021-07-06  2021-07-07  2021-07-08  2021-07-09  2021-07-10  \\\n",
       "state                                                                        \n",
       "Andhra Pradesh        3042        3166        2982        3040        2925   \n",
       "Odisha                2487        2602        2542        2806        2334   \n",
       "Tripura                474         461         407         531         411   \n",
       "Mizoram                520         301         548         311         537   \n",
       "Meghalaya              457         354         532         426         485   \n",
       "\n",
       "states          2021-07-11  \n",
       "state                       \n",
       "Andhra Pradesh        2665  \n",
       "Odisha                2282  \n",
       "Tripura                518  \n",
       "Mizoram                442  \n",
       "Meghalaya              425  \n",
       "\n",
       "[5 rows x 63 columns]"
      ]
     },
     "execution_count": 18,
     "metadata": {},
     "output_type": "execute_result"
    }
   ],
   "source": [
    "#hide\n",
    "dft_ct_new_cases.head()"
   ]
  },
  {
   "cell_type": "code",
   "execution_count": 19,
   "id": "71aedd8d",
   "metadata": {
    "execution": {
     "iopub.execute_input": "2021-07-11T13:07:07.531410Z",
     "iopub.status.busy": "2021-07-11T13:07:07.525587Z",
     "iopub.status.idle": "2021-07-11T13:07:10.977008Z",
     "shell.execute_reply": "2021-07-11T13:07:10.976495Z"
    },
    "papermill": {
     "duration": 3.490198,
     "end_time": "2021-07-11T13:07:10.977136",
     "exception": false,
     "start_time": "2021-07-11T13:07:07.486938",
     "status": "completed"
    },
    "tags": []
   },
   "outputs": [
    {
     "data": {
      "image/png": "[encoded data removed]",
      "text/plain": [
       "<Figure size 1728x2880 with 11 Axes>"
      ]
     },
     "metadata": {
      "needs_background": "light"
     },
     "output_type": "display_data"
    }
   ],
   "source": [
    "#hide_input\n",
    "df = dft_ct_new_cases.copy()\n",
    "df.loc['Total'] = df.sum()\n",
    "n = 5\n",
    "ax = []\n",
    "fig = plt.figure(figsize = (24,40))\n",
    "gs = fig.add_gridspec(n+2, 5)\n",
    "# gs = fig.add_gridspec(2, 3)\n",
    "ax1 = fig.add_subplot(gs[0, :])\n",
    "ef = df.loc['Total'].rename_axis('date').reset_index()\n",
    "ef['date'] = ef['date'].astype('datetime64[ns]')\n",
    "ax1.bar(ef.date,ef.Total,alpha=0.3,color='#007acc')\n",
    "ax1.plot(ef.date,ef.Total , marker=\"o\", color='#007acc')\n",
    "ax1.xaxis.set_major_locator(mdates.WeekdayLocator())\n",
    "ax1.xaxis.set_major_formatter(mdates.DateFormatter('%b %d'))\n",
    "ax1.text(0.02, 0.5,'India daily case count', transform = ax1.transAxes, fontsize=25);\n",
    "ax1.spines['right'].set_visible(False)\n",
    "ax1.spines['top'].set_visible(False)\n",
    "\n",
    "ax2 = fig.add_subplot(gs[1,0])\n",
    "ef = df.loc['Maharashtra'].rename_axis('date').reset_index()\n",
    "ef['date'] = ef['date'].astype('datetime64[ns]')\n",
    "\n",
    "ax2.bar(ef.date, ef.Maharashtra,color = '#007acc',alpha=0.5)\n",
    "ax2.xaxis.set_major_locator(mdates.WeekdayLocator())\n",
    "ax2.xaxis.set_major_formatter(mdates.DateFormatter('%b %d'))\n",
    "ax2.set_xticks(ax2.get_xticks()[::3])\n",
    "maxyval = ef.Maharashtra.max()\n",
    "ax2.set_ylim([0,maxyval])\n",
    "ax2.text(0.4, 0.9,'Maharashtra', transform = ax2.transAxes, fontsize=20);\n",
    "ax2.spines['right'].set_visible(False)\n",
    "ax2.spines['top'].set_visible(False)\n",
    "\n",
    "\n",
    "ax3 = fig.add_subplot(gs[1,1])\n",
    "ef = df.loc['Tamil Nadu'].rename_axis('date').reset_index()\n",
    "ef['date'] = ef['date'].astype('datetime64[ns]')\n",
    "ax3.bar(ef.date, ef['Tamil Nadu'],color = '#007acc',alpha=0.5,)\n",
    "ax3.xaxis.set_major_locator(mdates.WeekdayLocator())\n",
    "ax3.xaxis.set_major_formatter(mdates.DateFormatter('%b %d'))\n",
    "ax3.set_xticks(ax3.get_xticks()[::3])\n",
    "ax3.text(0.05, 1,'Tamil Nadu', transform = ax3.transAxes, fontsize=20);\n",
    "ax3.spines['right'].set_visible(False)\n",
    "ax3.spines['top'].set_visible(False)\n",
    "\n",
    "ax5 = fig.add_subplot(gs[1,3])\n",
    "ef = df.loc['Telangana'].rename_axis('date').reset_index()\n",
    "ef['date'] = ef['date'].astype('datetime64[ns]')\n",
    "ax5.bar(ef.date, ef['Telangana'],color = '#007acc',alpha=0.5,)\n",
    "ax5.xaxis.set_major_locator(mdates.WeekdayLocator())\n",
    "ax5.xaxis.set_major_formatter(mdates.DateFormatter('%b %d'))\n",
    "ax5.set_xticks(ax5.get_xticks()[::3])\n",
    "ax5.text(0.05, 1,'Telangana', transform = ax5.transAxes, fontsize=20);\n",
    "ax5.spines['right'].set_visible(False)\n",
    "ax5.spines['top'].set_visible(False)\n",
    "\n",
    "ax6 = fig.add_subplot(gs[1,4])\n",
    "ef = df.loc['Andhra Pradesh'].rename_axis('date').reset_index()\n",
    "ef['date'] = ef['date'].astype('datetime64[ns]')\n",
    "ax6.bar(ef.date, ef['Andhra Pradesh'],color = '#007acc',alpha=0.5,)\n",
    "ax6.xaxis.set_major_locator(mdates.WeekdayLocator())\n",
    "ax6.xaxis.set_major_formatter(mdates.DateFormatter('%b %d'))\n",
    "ax6.set_xticks(ax6.get_xticks()[::3])\n",
    "ax6.text(0.05, 1,'Andhra Pradesh', transform = ax6.transAxes, fontsize=20);\n",
    "ax6.spines['right'].set_visible(False)\n",
    "ax6.spines['top'].set_visible(False)\n",
    "\n",
    "ax4 = fig.add_subplot(gs[1,2])\n",
    "ef = df.loc['Delhi'].rename_axis('date').reset_index()\n",
    "ef['date'] = ef['date'].astype('datetime64[ns]')\n",
    "ax4.bar(ef.date, ef.Delhi,color = '#007acc',alpha=0.5)\n",
    "ax4.set_xticks([])\n",
    "ax4.xaxis.set_major_locator(mdates.WeekdayLocator())\n",
    "ax4.xaxis.set_major_formatter(mdates.DateFormatter('%b %d'))\n",
    "ax4.set_xticks(ax4.get_xticks()[::3])\n",
    "ax4.spines['right'].set_visible(False)\n",
    "ax4.spines['top'].set_visible(False)\n",
    "\n",
    "ax4.text(0.05, 1,'Delhi', transform = ax4.transAxes, fontsize=20)\n",
    "\n",
    "for i in range(n):\n",
    "    \n",
    "    ax.append(fig.add_subplot(gs[i+2,:]))\n",
    "    ef = df.iloc[i+3].rename_axis('date').reset_index()\n",
    "    ef['date'] = ef['date'].astype('datetime64[ns]')\n",
    "    ax[i].bar(ef.date,ef.iloc[:,-1],color = '#007acc',alpha=0.3)\n",
    "    ax[i].plot(ef.date,ef.iloc[:,-1],marker='o',color='#007acc')\n",
    "    ax[i].text(0.02,0.5,f'{ef.columns.values[-1]}',transform = ax[i].transAxes, fontsize = 20);\n",
    "    ax[i].xaxis.set_major_locator(mdates.WeekdayLocator())\n",
    "    ax[i].xaxis.set_major_formatter(mdates.DateFormatter('%b %d'))\n",
    "    ax[i].spines['right'].set_visible(False)\n",
    "    ax[i].spines['top'].set_visible(False)\n",
    "    if i in [0,4]:\n",
    "        ax[i].set_ylim([0,30000])\n",
    "    elif i==1:\n",
    "        ax[i].set_ylim([0,60000])      \n",
    "    else:\n",
    "        ax[i].set_ylim([0,15000])\n",
    "    \n",
    "plt.tight_layout()\n"
   ]
  },
  {
   "cell_type": "code",
   "execution_count": 20,
   "id": "17ea33a6",
   "metadata": {
    "execution": {
     "iopub.execute_input": "2021-07-11T13:07:11.042221Z",
     "iopub.status.busy": "2021-07-11T13:07:11.041571Z",
     "iopub.status.idle": "2021-07-11T13:07:11.043725Z",
     "shell.execute_reply": "2021-07-11T13:07:11.044194Z"
    },
    "papermill": {
     "duration": 0.039936,
     "end_time": "2021-07-11T13:07:11.044343",
     "exception": false,
     "start_time": "2021-07-11T13:07:11.004407",
     "status": "completed"
    },
    "tags": []
   },
   "outputs": [
    {
     "name": "stdout",
     "output_type": "stream",
     "text": [
      "                                   states    Cases  Deaths   PCases  PDeaths  Cases (+)  Deaths (+)  Fatality Rate\n",
      "                              Maharashtra  6149264  125528  6149264   125528          0           0           2.04\n",
      "                                   Kerala  3053116   14489  3053116    14489          0           0           0.47\n",
      "                                Karnataka  2869320   35779  2869320    35779          0           0           1.25\n",
      "                               Tamil Nadu  2516011   33371  2516011    33371          0           0           1.33\n",
      "                           Andhra Pradesh  1922843   13002  1920178    12986       2665          16           0.68\n",
      "                            Uttar Pradesh  1707225   22693  1707225    22693          0           0           1.33\n",
      "                              West Bengal  1511205   17903  1511205    17903          0           0           1.18\n",
      "                                    Delhi  1435030   25012  1435030    25012          0           0           1.74\n",
      "                             Chhattisgarh   997785   13475   997785    13475          0           0           1.35\n",
      "                                Rajasthan   953074    8945   953074     8945          0           0           0.94\n",
      "                                   Odisha   939752    4652   937470     4587       2282          65           0.50\n",
      "                                  Gujarat   824200   10073   824200    10073          0           0           1.22\n",
      "                           Madhya Pradesh   790152    9025   790152     9025          0           0           1.14\n",
      "                                  Haryana   769243    9542   769243     9542          0           0           1.24\n",
      "                                    Bihar   723147    9618   723147     9618          0           0           1.33\n",
      "                                Telangana   631218    3725   631218     3725          0           0           0.59\n",
      "                                   Punjab   597469   16177   597469    16177          0           0           2.71\n",
      "                                    Assam   532084    4812   532084     4812          0           0           0.90\n",
      "                                Jharkhand   346279    5119   346279     5119          0           0           1.48\n",
      "                              Uttarakhand   341137    7338   341137     7338          0           0           2.15\n",
      "                        Jammu and Kashmir   318469    4356   318469     4356          0           0           1.37\n",
      "                         Himachal Pradesh   203563    3474   203563     3474          0           0           1.71\n",
      "                                      Goa   168585    3095   168585     3095          0           0           1.84\n",
      "                               Puducherry   118976    1769   118831     1769        145           0           1.49\n",
      "                                  Manipur    76820    1258    76820     1258          0           0           1.64\n",
      "                                  Tripura    70476     709    69958      709        518           0           1.01\n",
      "                               Chandigarh    61823     809    61823      809          0           0           1.31\n",
      "                                Meghalaya    54580     908    54155      906        425           2           1.66\n",
      "                        Arunachal Pradesh    39563     188    39563      188          0           0           0.48\n",
      "                                 Nagaland    25898     507    25898      507          0           0           1.96\n",
      "                                  Mizoram    23993     105    23551      103        442           2           0.44\n",
      "                                   Sikkim    22307     315    22163      313        144           2           1.41\n",
      "                                   Ladakh    20186     206    20186      206          0           0           1.02\n",
      " Dadra and Nagar Haveli and Daman and Diu    10587       4    10587        4          0           0           0.04\n",
      "                              Lakshadweep    10011      49    10011       49          0           0           0.49\n",
      "              Andaman and Nicobar Islands     7492     129     7492      129          0           0           1.72\n"
     ]
    }
   ],
   "source": [
    "#hide_input\n",
    "print(df_table.to_string(index=False))"
   ]
  },
  {
   "cell_type": "code",
   "execution_count": null,
   "id": "25122605",
   "metadata": {
    "papermill": {
     "duration": 0.028424,
     "end_time": "2021-07-11T13:07:11.101640",
     "exception": false,
     "start_time": "2021-07-11T13:07:11.073216",
     "status": "completed"
    },
    "tags": []
   },
   "outputs": [],
   "source": []
  },
  {
   "cell_type": "code",
   "execution_count": null,
   "id": "9e820c5c",
   "metadata": {
    "papermill": {
     "duration": 0.027047,
     "end_time": "2021-07-11T13:07:11.156396",
     "exception": false,
     "start_time": "2021-07-11T13:07:11.129349",
     "status": "completed"
    },
    "tags": []
   },
   "outputs": [],
   "source": []
  }
 ],
 "metadata": {
  "kernelspec": {
   "display_name": "Python 3",
   "language": "python",
   "name": "python3"
  },
  "language_info": {
   "codemirror_mode": {
    "name": "ipython",
    "version": 3
   },
   "file_extension": ".py",
   "mimetype": "text/x-python",
   "name": "python",
   "nbconvert_exporter": "python",
   "pygments_lexer": "ipython3",
   "version": "3.6.13"
  },
  "papermill": {
   "default_parameters": {},
   "duration": 8.935126,
   "end_time": "2021-07-11T13:07:11.593523",
   "environment_variables": {},
   "exception": null,
   "input_path": "second_wave.ipynb",
   "output_path": "second_wave.ipynb",
   "parameters": {},
   "start_time": "2021-07-11T13:07:02.658397",
   "version": "2.3.3"
  }
 },
 "nbformat": 4,
 "nbformat_minor": 5
}