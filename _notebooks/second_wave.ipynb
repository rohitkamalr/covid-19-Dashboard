{
 "cells": [
  {
   "cell_type": "markdown",
   "id": "ce198879",
   "metadata": {
    "papermill": {
     "duration": 0.019876,
     "end_time": "2021-07-08T13:41:42.945086",
     "exception": false,
     "start_time": "2021-07-08T13:41:42.925210",
     "status": "completed"
    },
    "tags": []
   },
   "source": [
    "# Latest COVID-19 India Matplotlib Overview "
   ]
  },
  {
   "cell_type": "markdown",
   "id": "6af15ad5",
   "metadata": {
    "papermill": {
     "duration": 0.015482,
     "end_time": "2021-07-08T13:41:42.976836",
     "exception": false,
     "start_time": "2021-07-08T13:41:42.961354",
     "status": "completed"
    },
    "tags": []
   },
   "source": [
    "## Covid cases from 5th May 2021"
   ]
  },
  {
   "cell_type": "code",
   "execution_count": 1,
   "id": "fcbc62a5",
   "metadata": {
    "execution": {
     "iopub.execute_input": "2021-07-08T13:41:43.019934Z",
     "iopub.status.busy": "2021-07-08T13:41:43.019363Z",
     "iopub.status.idle": "2021-07-08T13:41:43.578462Z",
     "shell.execute_reply": "2021-07-08T13:41:43.577916Z"
    },
    "papermill": {
     "duration": 0.586097,
     "end_time": "2021-07-08T13:41:43.578621",
     "exception": false,
     "start_time": "2021-07-08T13:41:42.992524",
     "status": "completed"
    },
    "tags": []
   },
   "outputs": [],
   "source": [
    "#hide\n",
    "import pandas as pd\n",
    "import numpy as np\n",
    "import requests\n",
    "import json\n",
    "import matplotlib.pyplot as plt\n",
    "import matplotlib.dates as mdates\n",
    "import matplotlib as mpl\n",
    "from IPython.core.display import display,HTML\n",
    "%matplotlib inline\n",
    "from datetime import date"
   ]
  },
  {
   "cell_type": "code",
   "execution_count": 2,
   "id": "0a8b7562",
   "metadata": {
    "execution": {
     "iopub.execute_input": "2021-07-08T13:41:43.618193Z",
     "iopub.status.busy": "2021-07-08T13:41:43.617646Z",
     "iopub.status.idle": "2021-07-08T13:41:43.828735Z",
     "shell.execute_reply": "2021-07-08T13:41:43.828231Z"
    },
    "papermill": {
     "duration": 0.234046,
     "end_time": "2021-07-08T13:41:43.828862",
     "exception": false,
     "start_time": "2021-07-08T13:41:43.594816",
     "status": "completed"
    },
    "tags": []
   },
   "outputs": [],
   "source": [
    "#hide\n",
    "df  = pd.read_csv('https://api.covid19india.org/csv/latest/states.csv')\n",
    "df = df[['Date','State','Confirmed','Deceased']]\n",
    "df = df.rename(columns={'Confirmed':'Cases', \"Deceased\":'Deaths'})\n",
    "df_cases = df[[\"Date\",'State','Cases']]\n",
    "df_deaths = df[['Date','State','Deaths']]\n",
    "df_cases1 = df_cases.groupby('Date')\n",
    "df_deaths1= df_deaths.groupby('Date')"
   ]
  },
  {
   "cell_type": "code",
   "execution_count": 3,
   "id": "9d239da6",
   "metadata": {
    "execution": {
     "iopub.execute_input": "2021-07-08T13:41:43.865633Z",
     "iopub.status.busy": "2021-07-08T13:41:43.865094Z",
     "iopub.status.idle": "2021-07-08T13:41:43.882163Z",
     "shell.execute_reply": "2021-07-08T13:41:43.881668Z"
    },
    "papermill": {
     "duration": 0.037466,
     "end_time": "2021-07-08T13:41:43.882285",
     "exception": false,
     "start_time": "2021-07-08T13:41:43.844819",
     "status": "completed"
    },
    "tags": []
   },
   "outputs": [],
   "source": [
    "#hide\n",
    "df_snap = pd.read_csv('data/SnapshotCases-28-July.csv')\n",
    "arr_states = df_snap['states'].unique()\n",
    "arr_dates = df['Date'].unique()\n",
    "df_snap = df_snap.set_index('states')"
   ]
  },
  {
   "cell_type": "code",
   "execution_count": 4,
   "id": "38b1279d",
   "metadata": {
    "execution": {
     "iopub.execute_input": "2021-07-08T13:41:43.920886Z",
     "iopub.status.busy": "2021-07-08T13:41:43.920344Z",
     "iopub.status.idle": "2021-07-08T13:41:43.924182Z",
     "shell.execute_reply": "2021-07-08T13:41:43.924570Z"
    },
    "papermill": {
     "duration": 0.026787,
     "end_time": "2021-07-08T13:41:43.924716",
     "exception": false,
     "start_time": "2021-07-08T13:41:43.897929",
     "status": "completed"
    },
    "tags": []
   },
   "outputs": [
    {
     "data": {
      "text/plain": [
       "array(['Andaman and Nicobar Islands', 'Andhra Pradesh',\n",
       "       'Arunachal Pradesh', 'Assam', 'Bihar', 'Chandigarh',\n",
       "       'Dadra and Nagar Haveli and Daman and Diu', 'Delhi', 'Goa',\n",
       "       'Gujarat', 'Haryana', 'Himachal Pradesh', 'Jammu and Kashmir',\n",
       "       'Jharkhand', 'Karnataka', 'Kerala', 'Lakshadweep',\n",
       "       'Madhya Pradesh', 'Maharashtra', 'Manipur', 'Meghalaya', 'Mizoram',\n",
       "       'Nagaland', 'Odisha', 'Puducherry', 'Punjab', 'Rajasthan',\n",
       "       'Sikkim', 'Tamil Nadu', 'Telangana', 'Tripura', 'Uttar Pradesh',\n",
       "       'West Bengal', 'Chhattisgarh', 'Ladakh', 'Uttarakhand'],\n",
       "      dtype=object)"
      ]
     },
     "execution_count": 4,
     "metadata": {},
     "output_type": "execute_result"
    }
   ],
   "source": [
    "#hide\n",
    "arr_states[-9] = 'Puducherry'\n",
    "arr_states[-10] = 'Odisha'\n",
    "arr_states[6] = 'Dadra and Nagar Haveli and Daman and Diu'\n",
    "arr_states = np.append(arr_states,np.array(['Chhattisgarh','Ladakh','Uttarakhand']))\n",
    "arr_states"
   ]
  },
  {
   "cell_type": "code",
   "execution_count": 5,
   "id": "5a04932f",
   "metadata": {
    "execution": {
     "iopub.execute_input": "2021-07-08T13:41:43.966625Z",
     "iopub.status.busy": "2021-07-08T13:41:43.966083Z",
     "iopub.status.idle": "2021-07-08T13:41:43.973031Z",
     "shell.execute_reply": "2021-07-08T13:41:43.973471Z"
    },
    "papermill": {
     "duration": 0.032836,
     "end_time": "2021-07-08T13:41:43.973612",
     "exception": false,
     "start_time": "2021-07-08T13:41:43.940776",
     "status": "completed"
    },
    "tags": []
   },
   "outputs": [],
   "source": [
    "#hide\n",
    "dates = []\n",
    "for i in arr_dates:\n",
    "    if i>='2021-05-10':\n",
    "        dates.append(i)\n",
    "dict = {'states':dates}\n",
    "for i in arr_states:\n",
    "    dict[i] = [0]*len(dates)\n",
    "dft_cases = pd.DataFrame(dict)\n",
    "dft_deaths = pd.DataFrame(dict)\n"
   ]
  },
  {
   "cell_type": "code",
   "execution_count": 6,
   "id": "83c671d3",
   "metadata": {
    "execution": {
     "iopub.execute_input": "2021-07-08T13:41:44.012404Z",
     "iopub.status.busy": "2021-07-08T13:41:44.011859Z",
     "iopub.status.idle": "2021-07-08T13:41:44.788989Z",
     "shell.execute_reply": "2021-07-08T13:41:44.788508Z"
    },
    "papermill": {
     "duration": 0.799424,
     "end_time": "2021-07-08T13:41:44.789118",
     "exception": false,
     "start_time": "2021-07-08T13:41:43.989694",
     "status": "completed"
    },
    "tags": []
   },
   "outputs": [],
   "source": [
    "#hide\n",
    "for i in range(len(dates)):\n",
    "    df1_deaths = df_deaths1.get_group(dates[i])\n",
    "    for j in range(len(df1_deaths.index)):\n",
    "        if df1_deaths.iloc[j,1] in arr_states:\n",
    "            dft_deaths.loc[i,df1_deaths.iloc[j,1]] = df1_deaths.iloc[j,2]\n",
    "dft_deaths = dft_deaths.set_index('states')"
   ]
  },
  {
   "cell_type": "code",
   "execution_count": 7,
   "id": "3a7181ba",
   "metadata": {
    "execution": {
     "iopub.execute_input": "2021-07-08T13:41:44.827906Z",
     "iopub.status.busy": "2021-07-08T13:41:44.827028Z",
     "iopub.status.idle": "2021-07-08T13:41:45.582090Z",
     "shell.execute_reply": "2021-07-08T13:41:45.581541Z"
    },
    "papermill": {
     "duration": 0.777149,
     "end_time": "2021-07-08T13:41:45.582225",
     "exception": false,
     "start_time": "2021-07-08T13:41:44.805076",
     "status": "completed"
    },
    "tags": []
   },
   "outputs": [],
   "source": [
    "#hide\n",
    "for i in range(len(dates)):\n",
    "    df1_cases = df_cases1.get_group(dates[i])\n",
    "    for j in range(len(df1_cases.index)):\n",
    "        if df1_cases.iloc[j,1] in arr_states:\n",
    "            dft_cases.loc[i,df1_cases.iloc[j,1]] = df1_cases.iloc[j,2]\n",
    "dft_cases = dft_cases.set_index('states')"
   ]
  },
  {
   "cell_type": "code",
   "execution_count": 8,
   "id": "f076e3f6",
   "metadata": {
    "execution": {
     "iopub.execute_input": "2021-07-08T13:41:45.620903Z",
     "iopub.status.busy": "2021-07-08T13:41:45.620287Z",
     "iopub.status.idle": "2021-07-08T13:41:45.624099Z",
     "shell.execute_reply": "2021-07-08T13:41:45.623675Z"
    },
    "papermill": {
     "duration": 0.02546,
     "end_time": "2021-07-08T13:41:45.624218",
     "exception": false,
     "start_time": "2021-07-08T13:41:45.598758",
     "status": "completed"
    },
    "tags": []
   },
   "outputs": [],
   "source": [
    "#hide\n",
    "dft_cases = dft_cases.T\n",
    "dft_deaths = dft_deaths.T\n",
    "dt_today = dates[-1]\n",
    "dt_yday = dates[-2]"
   ]
  },
  {
   "cell_type": "code",
   "execution_count": 9,
   "id": "e60af47a",
   "metadata": {
    "execution": {
     "iopub.execute_input": "2021-07-08T13:41:45.661534Z",
     "iopub.status.busy": "2021-07-08T13:41:45.661011Z",
     "iopub.status.idle": "2021-07-08T13:41:45.665673Z",
     "shell.execute_reply": "2021-07-08T13:41:45.665229Z"
    },
    "papermill": {
     "duration": 0.025585,
     "end_time": "2021-07-08T13:41:45.665792",
     "exception": false,
     "start_time": "2021-07-08T13:41:45.640207",
     "status": "completed"
    },
    "tags": []
   },
   "outputs": [],
   "source": [
    "#hide\n",
    "dft_cases = dft_cases.reset_index()\n",
    "dft_deaths = dft_deaths.reset_index()\n",
    "dft_cases = dft_cases.rename(columns = {'index':'state'})\n",
    "dft_deaths = dft_deaths.rename(columns = {'index':'state'})"
   ]
  },
  {
   "cell_type": "code",
   "execution_count": 10,
   "id": "33d79a02",
   "metadata": {
    "execution": {
     "iopub.execute_input": "2021-07-08T13:41:45.707227Z",
     "iopub.status.busy": "2021-07-08T13:41:45.706619Z",
     "iopub.status.idle": "2021-07-08T13:41:45.711312Z",
     "shell.execute_reply": "2021-07-08T13:41:45.710854Z"
    },
    "papermill": {
     "duration": 0.029795,
     "end_time": "2021-07-08T13:41:45.711430",
     "exception": false,
     "start_time": "2021-07-08T13:41:45.681635",
     "status": "completed"
    },
    "tags": []
   },
   "outputs": [],
   "source": [
    "#hide\n",
    "dfc_cases = dft_cases.groupby('state')[dt_today].sum()\n",
    "dfc_deaths = dft_deaths.groupby('state')[dt_today].sum()\n",
    "dfp_cases = dft_cases.groupby('state')[dt_yday].sum()\n",
    "dfp_deaths = dft_deaths.groupby('state')[dt_yday].sum()"
   ]
  },
  {
   "cell_type": "code",
   "execution_count": 11,
   "id": "101eea8b",
   "metadata": {
    "execution": {
     "iopub.execute_input": "2021-07-08T13:41:45.752001Z",
     "iopub.status.busy": "2021-07-08T13:41:45.751461Z",
     "iopub.status.idle": "2021-07-08T13:41:45.764105Z",
     "shell.execute_reply": "2021-07-08T13:41:45.763668Z"
    },
    "papermill": {
     "duration": 0.03676,
     "end_time": "2021-07-08T13:41:45.764232",
     "exception": false,
     "start_time": "2021-07-08T13:41:45.727472",
     "status": "completed"
    },
    "tags": []
   },
   "outputs": [
    {
     "data": {
      "text/html": [
       "<div>\n",
       "<style scoped>\n",
       "    .dataframe tbody tr th:only-of-type {\n",
       "        vertical-align: middle;\n",
       "    }\n",
       "\n",
       "    .dataframe tbody tr th {\n",
       "        vertical-align: top;\n",
       "    }\n",
       "\n",
       "    .dataframe thead th {\n",
       "        text-align: right;\n",
       "    }\n",
       "</style>\n",
       "<table border=\"1\" class=\"dataframe\">\n",
       "  <thead>\n",
       "    <tr style=\"text-align: right;\">\n",
       "      <th></th>\n",
       "      <th>states</th>\n",
       "      <th>Cases</th>\n",
       "      <th>Deaths</th>\n",
       "      <th>PCases</th>\n",
       "      <th>PDeaths</th>\n",
       "    </tr>\n",
       "  </thead>\n",
       "  <tbody>\n",
       "    <tr>\n",
       "      <th>0</th>\n",
       "      <td>Maharashtra</td>\n",
       "      <td>6122893</td>\n",
       "      <td>123857</td>\n",
       "      <td>6122893</td>\n",
       "      <td>123857</td>\n",
       "    </tr>\n",
       "    <tr>\n",
       "      <th>1</th>\n",
       "      <td>Kerala</td>\n",
       "      <td>3011694</td>\n",
       "      <td>14108</td>\n",
       "      <td>3011694</td>\n",
       "      <td>14108</td>\n",
       "    </tr>\n",
       "    <tr>\n",
       "      <th>2</th>\n",
       "      <td>Karnataka</td>\n",
       "      <td>2862338</td>\n",
       "      <td>35601</td>\n",
       "      <td>2862338</td>\n",
       "      <td>35601</td>\n",
       "    </tr>\n",
       "    <tr>\n",
       "      <th>3</th>\n",
       "      <td>Tamil Nadu</td>\n",
       "      <td>2506848</td>\n",
       "      <td>33196</td>\n",
       "      <td>2506848</td>\n",
       "      <td>33196</td>\n",
       "    </tr>\n",
       "    <tr>\n",
       "      <th>4</th>\n",
       "      <td>Andhra Pradesh</td>\n",
       "      <td>1914213</td>\n",
       "      <td>12946</td>\n",
       "      <td>1911231</td>\n",
       "      <td>12919</td>\n",
       "    </tr>\n",
       "  </tbody>\n",
       "</table>\n",
       "</div>"
      ],
      "text/plain": [
       "           states    Cases  Deaths   PCases  PDeaths\n",
       "0     Maharashtra  6122893  123857  6122893   123857\n",
       "1          Kerala  3011694   14108  3011694    14108\n",
       "2       Karnataka  2862338   35601  2862338    35601\n",
       "3      Tamil Nadu  2506848   33196  2506848    33196\n",
       "4  Andhra Pradesh  1914213   12946  1911231    12919"
      ]
     },
     "execution_count": 11,
     "metadata": {},
     "output_type": "execute_result"
    }
   ],
   "source": [
    "#hide\n",
    "df_table = pd.DataFrame({'states': dfc_cases.index, 'Cases': dfc_cases.values, 'Deaths': dfc_deaths.values, 'PCases': dfp_cases.values, 'PDeaths': dfp_deaths.values}).set_index('states')\n",
    "df_table = df_table.sort_values(by = ['Cases','Deaths'], ascending = [False, False])\n",
    "df_table = df_table.reset_index()\n",
    "df_table.head()"
   ]
  },
  {
   "cell_type": "code",
   "execution_count": 12,
   "id": "6736c5ca",
   "metadata": {
    "execution": {
     "iopub.execute_input": "2021-07-08T13:41:45.802445Z",
     "iopub.status.busy": "2021-07-08T13:41:45.801911Z",
     "iopub.status.idle": "2021-07-08T13:41:45.810137Z",
     "shell.execute_reply": "2021-07-08T13:41:45.810536Z"
    },
    "papermill": {
     "duration": 0.030184,
     "end_time": "2021-07-08T13:41:45.810708",
     "exception": false,
     "start_time": "2021-07-08T13:41:45.780524",
     "status": "completed"
    },
    "tags": []
   },
   "outputs": [],
   "source": [
    "#hide\n",
    "for c in 'Cases, Deaths'.split(', '):\n",
    "    df_table[f'{c} (+)'] = (df_table[c] - df_table[f'P{c}']).clip(0)\n",
    "df_table['Fatality Rate'] = (100* df_table['Deaths']/ df_table['Cases']).round(2)"
   ]
  },
  {
   "cell_type": "code",
   "execution_count": 13,
   "id": "03065123",
   "metadata": {
    "execution": {
     "iopub.execute_input": "2021-07-08T13:41:45.855143Z",
     "iopub.status.busy": "2021-07-08T13:41:45.854548Z",
     "iopub.status.idle": "2021-07-08T13:41:45.857158Z",
     "shell.execute_reply": "2021-07-08T13:41:45.857553Z"
    },
    "papermill": {
     "duration": 0.030712,
     "end_time": "2021-07-08T13:41:45.857689",
     "exception": false,
     "start_time": "2021-07-08T13:41:45.826977",
     "status": "completed"
    },
    "tags": []
   },
   "outputs": [
    {
     "data": {
      "text/html": [
       "<div>\n",
       "<style scoped>\n",
       "    .dataframe tbody tr th:only-of-type {\n",
       "        vertical-align: middle;\n",
       "    }\n",
       "\n",
       "    .dataframe tbody tr th {\n",
       "        vertical-align: top;\n",
       "    }\n",
       "\n",
       "    .dataframe thead th {\n",
       "        text-align: right;\n",
       "    }\n",
       "</style>\n",
       "<table border=\"1\" class=\"dataframe\">\n",
       "  <thead>\n",
       "    <tr style=\"text-align: right;\">\n",
       "      <th></th>\n",
       "      <th>states</th>\n",
       "      <th>Cases</th>\n",
       "      <th>Deaths</th>\n",
       "      <th>PCases</th>\n",
       "      <th>PDeaths</th>\n",
       "      <th>Cases (+)</th>\n",
       "      <th>Deaths (+)</th>\n",
       "      <th>Fatality Rate</th>\n",
       "    </tr>\n",
       "  </thead>\n",
       "  <tbody>\n",
       "    <tr>\n",
       "      <th>0</th>\n",
       "      <td>Maharashtra</td>\n",
       "      <td>6122893</td>\n",
       "      <td>123857</td>\n",
       "      <td>6122893</td>\n",
       "      <td>123857</td>\n",
       "      <td>0</td>\n",
       "      <td>0</td>\n",
       "      <td>2.02</td>\n",
       "    </tr>\n",
       "    <tr>\n",
       "      <th>1</th>\n",
       "      <td>Kerala</td>\n",
       "      <td>3011694</td>\n",
       "      <td>14108</td>\n",
       "      <td>3011694</td>\n",
       "      <td>14108</td>\n",
       "      <td>0</td>\n",
       "      <td>0</td>\n",
       "      <td>0.47</td>\n",
       "    </tr>\n",
       "    <tr>\n",
       "      <th>2</th>\n",
       "      <td>Karnataka</td>\n",
       "      <td>2862338</td>\n",
       "      <td>35601</td>\n",
       "      <td>2862338</td>\n",
       "      <td>35601</td>\n",
       "      <td>0</td>\n",
       "      <td>0</td>\n",
       "      <td>1.24</td>\n",
       "    </tr>\n",
       "    <tr>\n",
       "      <th>3</th>\n",
       "      <td>Tamil Nadu</td>\n",
       "      <td>2506848</td>\n",
       "      <td>33196</td>\n",
       "      <td>2506848</td>\n",
       "      <td>33196</td>\n",
       "      <td>0</td>\n",
       "      <td>0</td>\n",
       "      <td>1.32</td>\n",
       "    </tr>\n",
       "    <tr>\n",
       "      <th>4</th>\n",
       "      <td>Andhra Pradesh</td>\n",
       "      <td>1914213</td>\n",
       "      <td>12946</td>\n",
       "      <td>1911231</td>\n",
       "      <td>12919</td>\n",
       "      <td>2982</td>\n",
       "      <td>27</td>\n",
       "      <td>0.68</td>\n",
       "    </tr>\n",
       "  </tbody>\n",
       "</table>\n",
       "</div>"
      ],
      "text/plain": [
       "           states    Cases  Deaths   PCases  PDeaths  Cases (+)  Deaths (+)  \\\n",
       "0     Maharashtra  6122893  123857  6122893   123857          0           0   \n",
       "1          Kerala  3011694   14108  3011694    14108          0           0   \n",
       "2       Karnataka  2862338   35601  2862338    35601          0           0   \n",
       "3      Tamil Nadu  2506848   33196  2506848    33196          0           0   \n",
       "4  Andhra Pradesh  1914213   12946  1911231    12919       2982          27   \n",
       "\n",
       "   Fatality Rate  \n",
       "0           2.02  \n",
       "1           0.47  \n",
       "2           1.24  \n",
       "3           1.32  \n",
       "4           0.68  "
      ]
     },
     "execution_count": 13,
     "metadata": {},
     "output_type": "execute_result"
    }
   ],
   "source": [
    "#hide\n",
    "df_table.head()"
   ]
  },
  {
   "cell_type": "code",
   "execution_count": 14,
   "id": "5aee721e",
   "metadata": {
    "execution": {
     "iopub.execute_input": "2021-07-08T13:41:45.897096Z",
     "iopub.status.busy": "2021-07-08T13:41:45.896565Z",
     "iopub.status.idle": "2021-07-08T13:41:45.911923Z",
     "shell.execute_reply": "2021-07-08T13:41:45.912333Z"
    },
    "papermill": {
     "duration": 0.038,
     "end_time": "2021-07-08T13:41:45.912474",
     "exception": false,
     "start_time": "2021-07-08T13:41:45.874474",
     "status": "completed"
    },
    "tags": []
   },
   "outputs": [
    {
     "data": {
      "text/plain": [
       "{'updated': '2021-07-08',\n",
       " 'since': '2021-07-07',\n",
       " 'Cases': 30717316,\n",
       " 'PCases': 30708604,\n",
       " 'Deaths': 405175,\n",
       " 'PDeaths': 405059,\n",
       " 'Cases (+)': 8712,\n",
       " 'Deaths (+)': 116}"
      ]
     },
     "execution_count": 14,
     "metadata": {},
     "output_type": "execute_result"
    }
   ],
   "source": [
    "#hide\n",
    "summary = {'updated':dates[-1], 'since':dates[-2]}\n",
    "list_names = ['Cases', 'PCases', 'Deaths', 'PDeaths', 'Cases (+)', 'Deaths (+)']\n",
    "for name in list_names:\n",
    "    summary[name] = df_table.sum()[name]\n",
    "summary"
   ]
  },
  {
   "cell_type": "code",
   "execution_count": 15,
   "id": "f9e3e01e",
   "metadata": {
    "execution": {
     "iopub.execute_input": "2021-07-08T13:41:45.951267Z",
     "iopub.status.busy": "2021-07-08T13:41:45.950708Z",
     "iopub.status.idle": "2021-07-08T13:41:45.952795Z",
     "shell.execute_reply": "2021-07-08T13:41:45.953179Z"
    },
    "papermill": {
     "duration": 0.02383,
     "end_time": "2021-07-08T13:41:45.953317",
     "exception": false,
     "start_time": "2021-07-08T13:41:45.929487",
     "status": "completed"
    },
    "tags": []
   },
   "outputs": [],
   "source": [
    "#hide\n",
    "overview = '''\n",
    "<!-- #######  HTML!! #########-->\n",
    "<h1 style=\"color: #5e9ca0; text-align: center;\">India</h1>\n",
    "<p style=\"text-align: center;\">Last update: <strong>{update}</strong></p>\n",
    "<p style=\"text-align: center;\">Confirmed cases:</p>\n",
    "<p style=\"text-align: center;font-size:24px;\">{cases} (<span style=\"color: #ff0000;\">+{new}</span>)</p>\n",
    "<p style=\"text-align: center;\">Confirmed deaths:</p>\n",
    "<p style=\"text-align: center;font-size:24px;\">{deaths} (<span style=\"color: #ff0000;\">+{dnew}</span>)</p>\n",
    "'''"
   ]
  },
  {
   "cell_type": "code",
   "execution_count": 16,
   "id": "03e6b465",
   "metadata": {
    "execution": {
     "iopub.execute_input": "2021-07-08T13:41:45.993774Z",
     "iopub.status.busy": "2021-07-08T13:41:45.993245Z",
     "iopub.status.idle": "2021-07-08T13:41:45.996548Z",
     "shell.execute_reply": "2021-07-08T13:41:45.996104Z"
    },
    "papermill": {
     "duration": 0.026206,
     "end_time": "2021-07-08T13:41:45.996663",
     "exception": false,
     "start_time": "2021-07-08T13:41:45.970457",
     "status": "completed"
    },
    "tags": []
   },
   "outputs": [
    {
     "data": {
      "text/html": [
       "\n",
       "<!-- #######  HTML!! #########-->\n",
       "<h1 style=\"color: #5e9ca0; text-align: center;\">India</h1>\n",
       "<p style=\"text-align: center;\">Last update: <strong>2021-07-08</strong></p>\n",
       "<p style=\"text-align: center;\">Confirmed cases:</p>\n",
       "<p style=\"text-align: center;font-size:24px;\">30717316 (<span style=\"color: #ff0000;\">+8712</span>)</p>\n",
       "<p style=\"text-align: center;\">Confirmed deaths:</p>\n",
       "<p style=\"text-align: center;font-size:24px;\">405175 (<span style=\"color: #ff0000;\">+116</span>)</p>\n"
      ],
      "text/plain": [
       "<IPython.core.display.HTML object>"
      ]
     },
     "metadata": {},
     "output_type": "display_data"
    }
   ],
   "source": [
    "#hide_input\n",
    "update = summary['updated']\n",
    "cases = summary['Cases']\n",
    "new = summary['Cases (+)']\n",
    "deaths = summary['Deaths']\n",
    "dnew = summary['Deaths (+)']\n",
    "\n",
    "html = HTML(overview.format(update=update, cases=cases,new=new,deaths=deaths,dnew=dnew))\n",
    "\n",
    "display(html)"
   ]
  },
  {
   "cell_type": "code",
   "execution_count": 17,
   "id": "7a35f416",
   "metadata": {
    "execution": {
     "iopub.execute_input": "2021-07-08T13:41:46.038968Z",
     "iopub.status.busy": "2021-07-08T13:41:46.038405Z",
     "iopub.status.idle": "2021-07-08T13:41:46.043931Z",
     "shell.execute_reply": "2021-07-08T13:41:46.043497Z"
    },
    "papermill": {
     "duration": 0.029781,
     "end_time": "2021-07-08T13:41:46.044058",
     "exception": false,
     "start_time": "2021-07-08T13:41:46.014277",
     "status": "completed"
    },
    "tags": []
   },
   "outputs": [],
   "source": [
    "#hide\n",
    "dt_cols = list(dft_cases.columns[1:])\n",
    "dft_ct_new_cases = dft_cases.groupby('state')[dt_cols].sum().diff(axis=1).fillna(0).astype(int)\n",
    "dft_ct_new_cases.sort_values(by = dates[-1], ascending = False,inplace = True)"
   ]
  },
  {
   "cell_type": "code",
   "execution_count": 18,
   "id": "f843f400",
   "metadata": {
    "execution": {
     "iopub.execute_input": "2021-07-08T13:41:46.096064Z",
     "iopub.status.busy": "2021-07-08T13:41:46.095514Z",
     "iopub.status.idle": "2021-07-08T13:41:46.098260Z",
     "shell.execute_reply": "2021-07-08T13:41:46.098725Z"
    },
    "papermill": {
     "duration": 0.037364,
     "end_time": "2021-07-08T13:41:46.098876",
     "exception": false,
     "start_time": "2021-07-08T13:41:46.061512",
     "status": "completed"
    },
    "tags": []
   },
   "outputs": [
    {
     "data": {
      "text/html": [
       "<div>\n",
       "<style scoped>\n",
       "    .dataframe tbody tr th:only-of-type {\n",
       "        vertical-align: middle;\n",
       "    }\n",
       "\n",
       "    .dataframe tbody tr th {\n",
       "        vertical-align: top;\n",
       "    }\n",
       "\n",
       "    .dataframe thead th {\n",
       "        text-align: right;\n",
       "    }\n",
       "</style>\n",
       "<table border=\"1\" class=\"dataframe\">\n",
       "  <thead>\n",
       "    <tr style=\"text-align: right;\">\n",
       "      <th>states</th>\n",
       "      <th>2021-05-10</th>\n",
       "      <th>2021-05-11</th>\n",
       "      <th>2021-05-12</th>\n",
       "      <th>2021-05-13</th>\n",
       "      <th>2021-05-14</th>\n",
       "      <th>2021-05-15</th>\n",
       "      <th>2021-05-16</th>\n",
       "      <th>2021-05-17</th>\n",
       "      <th>2021-05-18</th>\n",
       "      <th>2021-05-19</th>\n",
       "      <th>...</th>\n",
       "      <th>2021-06-29</th>\n",
       "      <th>2021-06-30</th>\n",
       "      <th>2021-07-01</th>\n",
       "      <th>2021-07-02</th>\n",
       "      <th>2021-07-03</th>\n",
       "      <th>2021-07-04</th>\n",
       "      <th>2021-07-05</th>\n",
       "      <th>2021-07-06</th>\n",
       "      <th>2021-07-07</th>\n",
       "      <th>2021-07-08</th>\n",
       "    </tr>\n",
       "    <tr>\n",
       "      <th>state</th>\n",
       "      <th></th>\n",
       "      <th></th>\n",
       "      <th></th>\n",
       "      <th></th>\n",
       "      <th></th>\n",
       "      <th></th>\n",
       "      <th></th>\n",
       "      <th></th>\n",
       "      <th></th>\n",
       "      <th></th>\n",
       "      <th></th>\n",
       "      <th></th>\n",
       "      <th></th>\n",
       "      <th></th>\n",
       "      <th></th>\n",
       "      <th></th>\n",
       "      <th></th>\n",
       "      <th></th>\n",
       "      <th></th>\n",
       "      <th></th>\n",
       "      <th></th>\n",
       "    </tr>\n",
       "  </thead>\n",
       "  <tbody>\n",
       "    <tr>\n",
       "      <th>Andhra Pradesh</th>\n",
       "      <td>0</td>\n",
       "      <td>20345</td>\n",
       "      <td>21452</td>\n",
       "      <td>22399</td>\n",
       "      <td>22018</td>\n",
       "      <td>22517</td>\n",
       "      <td>24171</td>\n",
       "      <td>18561</td>\n",
       "      <td>21320</td>\n",
       "      <td>23160</td>\n",
       "      <td>...</td>\n",
       "      <td>3620</td>\n",
       "      <td>3797</td>\n",
       "      <td>3841</td>\n",
       "      <td>3464</td>\n",
       "      <td>2930</td>\n",
       "      <td>3175</td>\n",
       "      <td>2100</td>\n",
       "      <td>3042</td>\n",
       "      <td>3166</td>\n",
       "      <td>2982</td>\n",
       "    </tr>\n",
       "    <tr>\n",
       "      <th>Odisha</th>\n",
       "      <td>0</td>\n",
       "      <td>9793</td>\n",
       "      <td>10982</td>\n",
       "      <td>10649</td>\n",
       "      <td>12390</td>\n",
       "      <td>11805</td>\n",
       "      <td>11732</td>\n",
       "      <td>10757</td>\n",
       "      <td>10321</td>\n",
       "      <td>11099</td>\n",
       "      <td>...</td>\n",
       "      <td>2640</td>\n",
       "      <td>3371</td>\n",
       "      <td>3087</td>\n",
       "      <td>3222</td>\n",
       "      <td>2917</td>\n",
       "      <td>2870</td>\n",
       "      <td>2803</td>\n",
       "      <td>2487</td>\n",
       "      <td>2602</td>\n",
       "      <td>2542</td>\n",
       "    </tr>\n",
       "    <tr>\n",
       "      <th>West Bengal</th>\n",
       "      <td>0</td>\n",
       "      <td>20136</td>\n",
       "      <td>20377</td>\n",
       "      <td>20839</td>\n",
       "      <td>20846</td>\n",
       "      <td>19511</td>\n",
       "      <td>19117</td>\n",
       "      <td>19003</td>\n",
       "      <td>19428</td>\n",
       "      <td>19006</td>\n",
       "      <td>...</td>\n",
       "      <td>1595</td>\n",
       "      <td>1478</td>\n",
       "      <td>1501</td>\n",
       "      <td>1422</td>\n",
       "      <td>1391</td>\n",
       "      <td>1297</td>\n",
       "      <td>885</td>\n",
       "      <td>962</td>\n",
       "      <td>982</td>\n",
       "      <td>995</td>\n",
       "    </tr>\n",
       "    <tr>\n",
       "      <th>Mizoram</th>\n",
       "      <td>0</td>\n",
       "      <td>172</td>\n",
       "      <td>240</td>\n",
       "      <td>141</td>\n",
       "      <td>201</td>\n",
       "      <td>122</td>\n",
       "      <td>180</td>\n",
       "      <td>150</td>\n",
       "      <td>239</td>\n",
       "      <td>184</td>\n",
       "      <td>...</td>\n",
       "      <td>364</td>\n",
       "      <td>256</td>\n",
       "      <td>417</td>\n",
       "      <td>278</td>\n",
       "      <td>233</td>\n",
       "      <td>243</td>\n",
       "      <td>88</td>\n",
       "      <td>520</td>\n",
       "      <td>301</td>\n",
       "      <td>548</td>\n",
       "    </tr>\n",
       "    <tr>\n",
       "      <th>Meghalaya</th>\n",
       "      <td>0</td>\n",
       "      <td>450</td>\n",
       "      <td>406</td>\n",
       "      <td>591</td>\n",
       "      <td>627</td>\n",
       "      <td>560</td>\n",
       "      <td>569</td>\n",
       "      <td>634</td>\n",
       "      <td>906</td>\n",
       "      <td>872</td>\n",
       "      <td>...</td>\n",
       "      <td>378</td>\n",
       "      <td>352</td>\n",
       "      <td>577</td>\n",
       "      <td>485</td>\n",
       "      <td>460</td>\n",
       "      <td>489</td>\n",
       "      <td>377</td>\n",
       "      <td>457</td>\n",
       "      <td>354</td>\n",
       "      <td>532</td>\n",
       "    </tr>\n",
       "  </tbody>\n",
       "</table>\n",
       "<p>5 rows × 60 columns</p>\n",
       "</div>"
      ],
      "text/plain": [
       "states          2021-05-10  2021-05-11  2021-05-12  2021-05-13  2021-05-14  \\\n",
       "state                                                                        \n",
       "Andhra Pradesh           0       20345       21452       22399       22018   \n",
       "Odisha                   0        9793       10982       10649       12390   \n",
       "West Bengal              0       20136       20377       20839       20846   \n",
       "Mizoram                  0         172         240         141         201   \n",
       "Meghalaya                0         450         406         591         627   \n",
       "\n",
       "states          2021-05-15  2021-05-16  2021-05-17  2021-05-18  2021-05-19  \\\n",
       "state                                                                        \n",
       "Andhra Pradesh       22517       24171       18561       21320       23160   \n",
       "Odisha               11805       11732       10757       10321       11099   \n",
       "West Bengal          19511       19117       19003       19428       19006   \n",
       "Mizoram                122         180         150         239         184   \n",
       "Meghalaya              560         569         634         906         872   \n",
       "\n",
       "states          ...  2021-06-29  2021-06-30  2021-07-01  2021-07-02  \\\n",
       "state           ...                                                   \n",
       "Andhra Pradesh  ...        3620        3797        3841        3464   \n",
       "Odisha          ...        2640        3371        3087        3222   \n",
       "West Bengal     ...        1595        1478        1501        1422   \n",
       "Mizoram         ...         364         256         417         278   \n",
       "Meghalaya       ...         378         352         577         485   \n",
       "\n",
       "states          2021-07-03  2021-07-04  2021-07-05  2021-07-06  2021-07-07  \\\n",
       "state                                                                        \n",
       "Andhra Pradesh        2930        3175        2100        3042        3166   \n",
       "Odisha                2917        2870        2803        2487        2602   \n",
       "West Bengal           1391        1297         885         962         982   \n",
       "Mizoram                233         243          88         520         301   \n",
       "Meghalaya              460         489         377         457         354   \n",
       "\n",
       "states          2021-07-08  \n",
       "state                       \n",
       "Andhra Pradesh        2982  \n",
       "Odisha                2542  \n",
       "West Bengal            995  \n",
       "Mizoram                548  \n",
       "Meghalaya              532  \n",
       "\n",
       "[5 rows x 60 columns]"
      ]
     },
     "execution_count": 18,
     "metadata": {},
     "output_type": "execute_result"
    }
   ],
   "source": [
    "#hide\n",
    "dft_ct_new_cases.head()"
   ]
  },
  {
   "cell_type": "code",
   "execution_count": 19,
   "id": "71aedd8d",
   "metadata": {
    "execution": {
     "iopub.execute_input": "2021-07-08T13:41:46.180006Z",
     "iopub.status.busy": "2021-07-08T13:41:46.148240Z",
     "iopub.status.idle": "2021-07-08T13:41:49.044588Z",
     "shell.execute_reply": "2021-07-08T13:41:49.044126Z"
    },
    "papermill": {
     "duration": 2.927617,
     "end_time": "2021-07-08T13:41:49.044712",
     "exception": false,
     "start_time": "2021-07-08T13:41:46.117095",
     "status": "completed"
    },
    "tags": []
   },
   "outputs": [
    {
     "data": {
      "image/png": "[encoded data removed]",
      "text/plain": [
       "<Figure size 1728x2880 with 11 Axes>"
      ]
     },
     "metadata": {
      "needs_background": "light"
     },
     "output_type": "display_data"
    }
   ],
   "source": [
    "#hide_input\n",
    "df = dft_ct_new_cases.copy()\n",
    "df.loc['Total'] = df.sum()\n",
    "n = 5\n",
    "ax = []\n",
    "fig = plt.figure(figsize = (24,40))\n",
    "gs = fig.add_gridspec(n+2, 5)\n",
    "# gs = fig.add_gridspec(2, 3)\n",
    "ax1 = fig.add_subplot(gs[0, :])\n",
    "ef = df.loc['Total'].rename_axis('date').reset_index()\n",
    "ef['date'] = ef['date'].astype('datetime64[ns]')\n",
    "ax1.bar(ef.date,ef.Total,alpha=0.3,color='#007acc')\n",
    "ax1.plot(ef.date,ef.Total , marker=\"o\", color='#007acc')\n",
    "ax1.xaxis.set_major_locator(mdates.WeekdayLocator())\n",
    "ax1.xaxis.set_major_formatter(mdates.DateFormatter('%b %d'))\n",
    "ax1.text(0.02, 0.5,'India daily case count', transform = ax1.transAxes, fontsize=25);\n",
    "ax1.spines['right'].set_visible(False)\n",
    "ax1.spines['top'].set_visible(False)\n",
    "\n",
    "ax2 = fig.add_subplot(gs[1,0])\n",
    "ef = df.loc['Maharashtra'].rename_axis('date').reset_index()\n",
    "ef['date'] = ef['date'].astype('datetime64[ns]')\n",
    "\n",
    "ax2.bar(ef.date, ef.Maharashtra,color = '#007acc',alpha=0.5)\n",
    "ax2.xaxis.set_major_locator(mdates.WeekdayLocator())\n",
    "ax2.xaxis.set_major_formatter(mdates.DateFormatter('%b %d'))\n",
    "ax2.set_xticks(ax2.get_xticks()[::3])\n",
    "maxyval = ef.Maharashtra.max()\n",
    "ax2.set_ylim([0,maxyval])\n",
    "ax2.text(0.4, 0.9,'Maharashtra', transform = ax2.transAxes, fontsize=20);\n",
    "ax2.spines['right'].set_visible(False)\n",
    "ax2.spines['top'].set_visible(False)\n",
    "\n",
    "\n",
    "ax3 = fig.add_subplot(gs[1,1])\n",
    "ef = df.loc['Tamil Nadu'].rename_axis('date').reset_index()\n",
    "ef['date'] = ef['date'].astype('datetime64[ns]')\n",
    "ax3.bar(ef.date, ef['Tamil Nadu'],color = '#007acc',alpha=0.5,)\n",
    "ax3.xaxis.set_major_locator(mdates.WeekdayLocator())\n",
    "ax3.xaxis.set_major_formatter(mdates.DateFormatter('%b %d'))\n",
    "ax3.set_xticks(ax3.get_xticks()[::3])\n",
    "ax3.text(0.05, 1,'Tamil Nadu', transform = ax3.transAxes, fontsize=20);\n",
    "ax3.spines['right'].set_visible(False)\n",
    "ax3.spines['top'].set_visible(False)\n",
    "\n",
    "ax5 = fig.add_subplot(gs[1,3])\n",
    "ef = df.loc['Telangana'].rename_axis('date').reset_index()\n",
    "ef['date'] = ef['date'].astype('datetime64[ns]')\n",
    "ax5.bar(ef.date, ef['Telangana'],color = '#007acc',alpha=0.5,)\n",
    "ax5.xaxis.set_major_locator(mdates.WeekdayLocator())\n",
    "ax5.xaxis.set_major_formatter(mdates.DateFormatter('%b %d'))\n",
    "ax5.set_xticks(ax5.get_xticks()[::3])\n",
    "ax5.text(0.05, 1,'Telangana', transform = ax5.transAxes, fontsize=20);\n",
    "ax5.spines['right'].set_visible(False)\n",
    "ax5.spines['top'].set_visible(False)\n",
    "\n",
    "ax6 = fig.add_subplot(gs[1,4])\n",
    "ef = df.loc['Andhra Pradesh'].rename_axis('date').reset_index()\n",
    "ef['date'] = ef['date'].astype('datetime64[ns]')\n",
    "ax6.bar(ef.date, ef['Andhra Pradesh'],color = '#007acc',alpha=0.5,)\n",
    "ax6.xaxis.set_major_locator(mdates.WeekdayLocator())\n",
    "ax6.xaxis.set_major_formatter(mdates.DateFormatter('%b %d'))\n",
    "ax6.set_xticks(ax6.get_xticks()[::3])\n",
    "ax6.text(0.05, 1,'Andhra Pradesh', transform = ax6.transAxes, fontsize=20);\n",
    "ax6.spines['right'].set_visible(False)\n",
    "ax6.spines['top'].set_visible(False)\n",
    "\n",
    "ax4 = fig.add_subplot(gs[1,2])\n",
    "ef = df.loc['Delhi'].rename_axis('date').reset_index()\n",
    "ef['date'] = ef['date'].astype('datetime64[ns]')\n",
    "ax4.bar(ef.date, ef.Delhi,color = '#007acc',alpha=0.5)\n",
    "ax4.set_xticks([])\n",
    "ax4.xaxis.set_major_locator(mdates.WeekdayLocator())\n",
    "ax4.xaxis.set_major_formatter(mdates.DateFormatter('%b %d'))\n",
    "ax4.set_xticks(ax4.get_xticks()[::3])\n",
    "ax4.spines['right'].set_visible(False)\n",
    "ax4.spines['top'].set_visible(False)\n",
    "\n",
    "ax4.text(0.05, 1,'Delhi', transform = ax4.transAxes, fontsize=20)\n",
    "\n",
    "for i in range(n):\n",
    "    \n",
    "    ax.append(fig.add_subplot(gs[i+2,:]))\n",
    "    ef = df.iloc[i+3].rename_axis('date').reset_index()\n",
    "    ef['date'] = ef['date'].astype('datetime64[ns]')\n",
    "    ax[i].bar(ef.date,ef.iloc[:,-1],color = '#007acc',alpha=0.3)\n",
    "    ax[i].plot(ef.date,ef.iloc[:,-1],marker='o',color='#007acc')\n",
    "    ax[i].text(0.02,0.5,f'{ef.columns.values[-1]}',transform = ax[i].transAxes, fontsize = 20);\n",
    "    ax[i].xaxis.set_major_locator(mdates.WeekdayLocator())\n",
    "    ax[i].xaxis.set_major_formatter(mdates.DateFormatter('%b %d'))\n",
    "    ax[i].spines['right'].set_visible(False)\n",
    "    ax[i].spines['top'].set_visible(False)\n",
    "    if i in [0,4]:\n",
    "        ax[i].set_ylim([0,30000])\n",
    "    elif i==1:\n",
    "        ax[i].set_ylim([0,60000])      \n",
    "    else:\n",
    "        ax[i].set_ylim([0,15000])\n",
    "    \n",
    "plt.tight_layout()\n"
   ]
  },
  {
   "cell_type": "code",
   "execution_count": 20,
   "id": "17ea33a6",
   "metadata": {
    "execution": {
     "iopub.execute_input": "2021-07-08T13:41:49.099780Z",
     "iopub.status.busy": "2021-07-08T13:41:49.099214Z",
     "iopub.status.idle": "2021-07-08T13:41:49.103800Z",
     "shell.execute_reply": "2021-07-08T13:41:49.103344Z"
    },
    "papermill": {
     "duration": 0.036331,
     "end_time": "2021-07-08T13:41:49.103924",
     "exception": false,
     "start_time": "2021-07-08T13:41:49.067593",
     "status": "completed"
    },
    "tags": []
   },
   "outputs": [
    {
     "name": "stdout",
     "output_type": "stream",
     "text": [
      "                                   states    Cases  Deaths   PCases  PDeaths  Cases (+)  Deaths (+)  Fatality Rate\n",
      "                              Maharashtra  6122893  123857  6122893   123857          0           0           2.02\n",
      "                                   Kerala  3011694   14108  3011694    14108          0           0           0.47\n",
      "                                Karnataka  2862338   35601  2862338    35601          0           0           1.24\n",
      "                               Tamil Nadu  2506848   33196  2506848    33196          0           0           1.32\n",
      "                           Andhra Pradesh  1914213   12946  1911231    12919       2982          27           0.68\n",
      "                            Uttar Pradesh  1706934   22666  1706934    22666          0           0           1.33\n",
      "                              West Bengal  1509218   17867  1508223    17850        995          17           1.18\n",
      "                                    Delhi  1434780   25005  1434780    25005          0           0           1.74\n",
      "                             Chhattisgarh   996689   13464   996689    13464          0           0           1.35\n",
      "                                Rajasthan   952956    8942   952887     8942         69           0           0.94\n",
      "                                   Odisha   932330    4468   929788     4411       2542          57           0.48\n",
      "                                  Gujarat   824029   10072   824029    10072          0           0           1.22\n",
      "                           Madhya Pradesh   790070    9019   790070     9019          0           0           1.14\n",
      "                                  Haryana   769093    9515   769093     9515          0           0           1.24\n",
      "                                    Bihar   722850    9612   722850     9612          0           0           1.33\n",
      "                                Telangana   629054    3710   629054     3710          0           0           0.59\n",
      "                                   Punjab   596970   16141   596970    16141          0           0           2.70\n",
      "                                    Assam   524556    4743   524556     4743          0           0           0.90\n",
      "                                Jharkhand   346113    5118   346113     5118          0           0           1.48\n",
      "                              Uttarakhand   341023    7338   340959     7338         64           0           2.15\n",
      "                        Jammu and Kashmir   317761    4349   317761     4349          0           0           1.37\n",
      "                         Himachal Pradesh   203117    3470   203117     3470          0           0           1.71\n",
      "                                      Goa   168210    3086   168015     3082        195           4           1.83\n",
      "                               Puducherry   118571    1767   118416     1765        155           2           1.49\n",
      "                                  Manipur    74341    1229    74341     1229          0           0           1.65\n",
      "                                  Tripura    69016     700    68609      698        407           2           1.01\n",
      "                               Chandigarh    61780     809    61780      809          0           0           1.31\n",
      "                                Meghalaya    53244     890    52712      886        532           4           1.67\n",
      "                        Arunachal Pradesh    38283     184    38283      184          0           0           0.48\n",
      "                                 Nagaland    25663     505    25663      505          0           0           1.97\n",
      "                                  Mizoram    22703     101    22155       99        548           2           0.44\n",
      "                                   Sikkim    21795     312    21573      311        222           1           1.43\n",
      "                                   Ladakh    20143     204    20143      204          0           0           1.01\n",
      " Dadra and Nagar Haveli and Daman and Diu    10582       4    10581        4          1           0           0.04\n",
      "                              Lakshadweep     9965      49     9965       49          0           0           0.49\n",
      "              Andaman and Nicobar Islands     7491     128     7491      128          0           0           1.71\n"
     ]
    }
   ],
   "source": [
    "#hide_input\n",
    "print(df_table.to_string(index=False))"
   ]
  },
  {
   "cell_type": "code",
   "execution_count": null,
   "id": "25122605",
   "metadata": {
    "papermill": {
     "duration": 0.023094,
     "end_time": "2021-07-08T13:41:49.150518",
     "exception": false,
     "start_time": "2021-07-08T13:41:49.127424",
     "status": "completed"
    },
    "tags": []
   },
   "outputs": [],
   "source": []
  },
  {
   "cell_type": "code",
   "execution_count": null,
   "id": "9e820c5c",
   "metadata": {
    "papermill": {
     "duration": 0.023287,
     "end_time": "2021-07-08T13:41:49.197287",
     "exception": false,
     "start_time": "2021-07-08T13:41:49.174000",
     "status": "completed"
    },
    "tags": []
   },
   "outputs": [],
   "source": []
  }
 ],
 "metadata": {
  "kernelspec": {
   "display_name": "Python 3",
   "language": "python",
   "name": "python3"
  },
  "language_info": {
   "codemirror_mode": {
    "name": "ipython",
    "version": 3
   },
   "file_extension": ".py",
   "mimetype": "text/x-python",
   "name": "python",
   "nbconvert_exporter": "python",
   "pygments_lexer": "ipython3",
   "version": "3.6.13"
  },
  "papermill": {
   "default_parameters": {},
   "duration": 7.857229,
   "end_time": "2021-07-08T13:41:49.728685",
   "environment_variables": {},
   "exception": null,
   "input_path": "second_wave.ipynb",
   "output_path": "second_wave.ipynb",
   "parameters": {},
   "start_time": "2021-07-08T13:41:41.871456",
   "version": "2.3.3"
  }
 },
 "nbformat": 4,
 "nbformat_minor": 5
}