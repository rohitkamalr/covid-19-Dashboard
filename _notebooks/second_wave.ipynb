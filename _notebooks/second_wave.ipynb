{
 "cells": [
  {
   "cell_type": "markdown",
   "id": "ce198879",
   "metadata": {
    "papermill": {
     "duration": 0.020256,
     "end_time": "2021-07-12T13:10:10.966338",
     "exception": false,
     "start_time": "2021-07-12T13:10:10.946082",
     "status": "completed"
    },
    "tags": []
   },
   "source": [
    "# Latest COVID-19 India Matplotlib Overview "
   ]
  },
  {
   "cell_type": "markdown",
   "id": "6af15ad5",
   "metadata": {
    "papermill": {
     "duration": 0.015403,
     "end_time": "2021-07-12T13:10:10.997903",
     "exception": false,
     "start_time": "2021-07-12T13:10:10.982500",
     "status": "completed"
    },
    "tags": []
   },
   "source": [
    "## Covid cases from 5th May 2021"
   ]
  },
  {
   "cell_type": "code",
   "execution_count": 1,
   "id": "fcbc62a5",
   "metadata": {
    "execution": {
     "iopub.execute_input": "2021-07-12T13:10:11.040286Z",
     "iopub.status.busy": "2021-07-12T13:10:11.039750Z",
     "iopub.status.idle": "2021-07-12T13:10:11.548108Z",
     "shell.execute_reply": "2021-07-12T13:10:11.547563Z"
    },
    "papermill": {
     "duration": 0.534952,
     "end_time": "2021-07-12T13:10:11.548260",
     "exception": false,
     "start_time": "2021-07-12T13:10:11.013308",
     "status": "completed"
    },
    "tags": []
   },
   "outputs": [],
   "source": [
    "#hide\n",
    "import pandas as pd\n",
    "import numpy as np\n",
    "import requests\n",
    "import json\n",
    "import matplotlib.pyplot as plt\n",
    "import matplotlib.dates as mdates\n",
    "import matplotlib as mpl\n",
    "from IPython.core.display import display,HTML\n",
    "%matplotlib inline\n",
    "from datetime import date"
   ]
  },
  {
   "cell_type": "code",
   "execution_count": 2,
   "id": "0a8b7562",
   "metadata": {
    "execution": {
     "iopub.execute_input": "2021-07-12T13:10:11.587031Z",
     "iopub.status.busy": "2021-07-12T13:10:11.586125Z",
     "iopub.status.idle": "2021-07-12T13:10:11.712132Z",
     "shell.execute_reply": "2021-07-12T13:10:11.711590Z"
    },
    "papermill": {
     "duration": 0.147648,
     "end_time": "2021-07-12T13:10:11.712266",
     "exception": false,
     "start_time": "2021-07-12T13:10:11.564618",
     "status": "completed"
    },
    "tags": []
   },
   "outputs": [],
   "source": [
    "#hide\n",
    "df  = pd.read_csv('https://api.covid19india.org/csv/latest/states.csv')\n",
    "df = df[['Date','State','Confirmed','Deceased']]\n",
    "df = df.rename(columns={'Confirmed':'Cases', \"Deceased\":'Deaths'})\n",
    "df_cases = df[[\"Date\",'State','Cases']]\n",
    "df_deaths = df[['Date','State','Deaths']]\n",
    "df_cases1 = df_cases.groupby('Date')\n",
    "df_deaths1= df_deaths.groupby('Date')"
   ]
  },
  {
   "cell_type": "code",
   "execution_count": 3,
   "id": "9d239da6",
   "metadata": {
    "execution": {
     "iopub.execute_input": "2021-07-12T13:10:11.748652Z",
     "iopub.status.busy": "2021-07-12T13:10:11.748120Z",
     "iopub.status.idle": "2021-07-12T13:10:11.764177Z",
     "shell.execute_reply": "2021-07-12T13:10:11.763751Z"
    },
    "papermill": {
     "duration": 0.035775,
     "end_time": "2021-07-12T13:10:11.764298",
     "exception": false,
     "start_time": "2021-07-12T13:10:11.728523",
     "status": "completed"
    },
    "tags": []
   },
   "outputs": [],
   "source": [
    "#hide\n",
    "df_snap = pd.read_csv('data/SnapshotCases-28-July.csv')\n",
    "arr_states = df_snap['states'].unique()\n",
    "arr_dates = df['Date'].unique()\n",
    "df_snap = df_snap.set_index('states')"
   ]
  },
  {
   "cell_type": "code",
   "execution_count": 4,
   "id": "38b1279d",
   "metadata": {
    "execution": {
     "iopub.execute_input": "2021-07-12T13:10:11.803636Z",
     "iopub.status.busy": "2021-07-12T13:10:11.801200Z",
     "iopub.status.idle": "2021-07-12T13:10:11.805411Z",
     "shell.execute_reply": "2021-07-12T13:10:11.804987Z"
    },
    "papermill": {
     "duration": 0.025615,
     "end_time": "2021-07-12T13:10:11.805515",
     "exception": false,
     "start_time": "2021-07-12T13:10:11.779900",
     "status": "completed"
    },
    "tags": []
   },
   "outputs": [
    {
     "data": {
      "text/plain": [
       "array(['Andaman and Nicobar Islands', 'Andhra Pradesh',\n",
       "       'Arunachal Pradesh', 'Assam', 'Bihar', 'Chandigarh',\n",
       "       'Dadra and Nagar Haveli and Daman and Diu', 'Delhi', 'Goa',\n",
       "       'Gujarat', 'Haryana', 'Himachal Pradesh', 'Jammu and Kashmir',\n",
       "       'Jharkhand', 'Karnataka', 'Kerala', 'Lakshadweep',\n",
       "       'Madhya Pradesh', 'Maharashtra', 'Manipur', 'Meghalaya', 'Mizoram',\n",
       "       'Nagaland', 'Odisha', 'Puducherry', 'Punjab', 'Rajasthan',\n",
       "       'Sikkim', 'Tamil Nadu', 'Telangana', 'Tripura', 'Uttar Pradesh',\n",
       "       'West Bengal', 'Chhattisgarh', 'Ladakh', 'Uttarakhand'],\n",
       "      dtype=object)"
      ]
     },
     "execution_count": 4,
     "metadata": {},
     "output_type": "execute_result"
    }
   ],
   "source": [
    "#hide\n",
    "arr_states[-9] = 'Puducherry'\n",
    "arr_states[-10] = 'Odisha'\n",
    "arr_states[6] = 'Dadra and Nagar Haveli and Daman and Diu'\n",
    "arr_states = np.append(arr_states,np.array(['Chhattisgarh','Ladakh','Uttarakhand']))\n",
    "arr_states"
   ]
  },
  {
   "cell_type": "code",
   "execution_count": 5,
   "id": "5a04932f",
   "metadata": {
    "execution": {
     "iopub.execute_input": "2021-07-12T13:10:11.849497Z",
     "iopub.status.busy": "2021-07-12T13:10:11.845283Z",
     "iopub.status.idle": "2021-07-12T13:10:11.852070Z",
     "shell.execute_reply": "2021-07-12T13:10:11.851586Z"
    },
    "papermill": {
     "duration": 0.030878,
     "end_time": "2021-07-12T13:10:11.852168",
     "exception": false,
     "start_time": "2021-07-12T13:10:11.821290",
     "status": "completed"
    },
    "tags": []
   },
   "outputs": [],
   "source": [
    "#hide\n",
    "dates = []\n",
    "for i in arr_dates:\n",
    "    if i>='2021-05-10':\n",
    "        dates.append(i)\n",
    "dict = {'states':dates}\n",
    "for i in arr_states:\n",
    "    dict[i] = [0]*len(dates)\n",
    "dft_cases = pd.DataFrame(dict)\n",
    "dft_deaths = pd.DataFrame(dict)\n"
   ]
  },
  {
   "cell_type": "code",
   "execution_count": 6,
   "id": "83c671d3",
   "metadata": {
    "execution": {
     "iopub.execute_input": "2021-07-12T13:10:11.888881Z",
     "iopub.status.busy": "2021-07-12T13:10:11.888360Z",
     "iopub.status.idle": "2021-07-12T13:10:12.703206Z",
     "shell.execute_reply": "2021-07-12T13:10:12.703615Z"
    },
    "papermill": {
     "duration": 0.835983,
     "end_time": "2021-07-12T13:10:12.703839",
     "exception": false,
     "start_time": "2021-07-12T13:10:11.867856",
     "status": "completed"
    },
    "tags": []
   },
   "outputs": [],
   "source": [
    "#hide\n",
    "for i in range(len(dates)):\n",
    "    df1_deaths = df_deaths1.get_group(dates[i])\n",
    "    for j in range(len(df1_deaths.index)):\n",
    "        if df1_deaths.iloc[j,1] in arr_states:\n",
    "            dft_deaths.loc[i,df1_deaths.iloc[j,1]] = df1_deaths.iloc[j,2]\n",
    "dft_deaths = dft_deaths.set_index('states')"
   ]
  },
  {
   "cell_type": "code",
   "execution_count": 7,
   "id": "3a7181ba",
   "metadata": {
    "execution": {
     "iopub.execute_input": "2021-07-12T13:10:12.741628Z",
     "iopub.status.busy": "2021-07-12T13:10:12.741122Z",
     "iopub.status.idle": "2021-07-12T13:10:13.536473Z",
     "shell.execute_reply": "2021-07-12T13:10:13.535905Z"
    },
    "papermill": {
     "duration": 0.816625,
     "end_time": "2021-07-12T13:10:13.536612",
     "exception": false,
     "start_time": "2021-07-12T13:10:12.719987",
     "status": "completed"
    },
    "tags": []
   },
   "outputs": [],
   "source": [
    "#hide\n",
    "for i in range(len(dates)):\n",
    "    df1_cases = df_cases1.get_group(dates[i])\n",
    "    for j in range(len(df1_cases.index)):\n",
    "        if df1_cases.iloc[j,1] in arr_states:\n",
    "            dft_cases.loc[i,df1_cases.iloc[j,1]] = df1_cases.iloc[j,2]\n",
    "dft_cases = dft_cases.set_index('states')"
   ]
  },
  {
   "cell_type": "code",
   "execution_count": 8,
   "id": "f076e3f6",
   "metadata": {
    "execution": {
     "iopub.execute_input": "2021-07-12T13:10:13.574887Z",
     "iopub.status.busy": "2021-07-12T13:10:13.574377Z",
     "iopub.status.idle": "2021-07-12T13:10:13.577842Z",
     "shell.execute_reply": "2021-07-12T13:10:13.577384Z"
    },
    "papermill": {
     "duration": 0.024177,
     "end_time": "2021-07-12T13:10:13.577962",
     "exception": false,
     "start_time": "2021-07-12T13:10:13.553785",
     "status": "completed"
    },
    "tags": []
   },
   "outputs": [],
   "source": [
    "#hide\n",
    "dft_cases = dft_cases.T\n",
    "dft_deaths = dft_deaths.T\n",
    "dt_today = dates[-1]\n",
    "dt_yday = dates[-2]"
   ]
  },
  {
   "cell_type": "code",
   "execution_count": 9,
   "id": "e60af47a",
   "metadata": {
    "execution": {
     "iopub.execute_input": "2021-07-12T13:10:13.614055Z",
     "iopub.status.busy": "2021-07-12T13:10:13.613431Z",
     "iopub.status.idle": "2021-07-12T13:10:13.617406Z",
     "shell.execute_reply": "2021-07-12T13:10:13.617777Z"
    },
    "papermill": {
     "duration": 0.024199,
     "end_time": "2021-07-12T13:10:13.617891",
     "exception": false,
     "start_time": "2021-07-12T13:10:13.593692",
     "status": "completed"
    },
    "tags": []
   },
   "outputs": [],
   "source": [
    "#hide\n",
    "dft_cases = dft_cases.reset_index()\n",
    "dft_deaths = dft_deaths.reset_index()\n",
    "dft_cases = dft_cases.rename(columns = {'index':'state'})\n",
    "dft_deaths = dft_deaths.rename(columns = {'index':'state'})"
   ]
  },
  {
   "cell_type": "code",
   "execution_count": 10,
   "id": "33d79a02",
   "metadata": {
    "execution": {
     "iopub.execute_input": "2021-07-12T13:10:13.655614Z",
     "iopub.status.busy": "2021-07-12T13:10:13.655116Z",
     "iopub.status.idle": "2021-07-12T13:10:13.660875Z",
     "shell.execute_reply": "2021-07-12T13:10:13.661246Z"
    },
    "papermill": {
     "duration": 0.02792,
     "end_time": "2021-07-12T13:10:13.661366",
     "exception": false,
     "start_time": "2021-07-12T13:10:13.633446",
     "status": "completed"
    },
    "tags": []
   },
   "outputs": [],
   "source": [
    "#hide\n",
    "dfc_cases = dft_cases.groupby('state')[dt_today].sum()\n",
    "dfc_deaths = dft_deaths.groupby('state')[dt_today].sum()\n",
    "dfp_cases = dft_cases.groupby('state')[dt_yday].sum()\n",
    "dfp_deaths = dft_deaths.groupby('state')[dt_yday].sum()"
   ]
  },
  {
   "cell_type": "code",
   "execution_count": 11,
   "id": "101eea8b",
   "metadata": {
    "execution": {
     "iopub.execute_input": "2021-07-12T13:10:13.706141Z",
     "iopub.status.busy": "2021-07-12T13:10:13.704865Z",
     "iopub.status.idle": "2021-07-12T13:10:13.712540Z",
     "shell.execute_reply": "2021-07-12T13:10:13.712945Z"
    },
    "papermill": {
     "duration": 0.035889,
     "end_time": "2021-07-12T13:10:13.713064",
     "exception": false,
     "start_time": "2021-07-12T13:10:13.677175",
     "status": "completed"
    },
    "tags": []
   },
   "outputs": [
    {
     "data": {
      "text/html": [
       "<div>\n",
       "<style scoped>\n",
       "    .dataframe tbody tr th:only-of-type {\n",
       "        vertical-align: middle;\n",
       "    }\n",
       "\n",
       "    .dataframe tbody tr th {\n",
       "        vertical-align: top;\n",
       "    }\n",
       "\n",
       "    .dataframe thead th {\n",
       "        text-align: right;\n",
       "    }\n",
       "</style>\n",
       "<table border=\"1\" class=\"dataframe\">\n",
       "  <thead>\n",
       "    <tr style=\"text-align: right;\">\n",
       "      <th></th>\n",
       "      <th>states</th>\n",
       "      <th>Cases</th>\n",
       "      <th>Deaths</th>\n",
       "      <th>PCases</th>\n",
       "      <th>PDeaths</th>\n",
       "    </tr>\n",
       "  </thead>\n",
       "  <tbody>\n",
       "    <tr>\n",
       "      <th>0</th>\n",
       "      <td>Maharashtra</td>\n",
       "      <td>6157799</td>\n",
       "      <td>125878</td>\n",
       "      <td>6157799</td>\n",
       "      <td>125878</td>\n",
       "    </tr>\n",
       "    <tr>\n",
       "      <th>1</th>\n",
       "      <td>Kerala</td>\n",
       "      <td>3065336</td>\n",
       "      <td>14586</td>\n",
       "      <td>3065336</td>\n",
       "      <td>14586</td>\n",
       "    </tr>\n",
       "    <tr>\n",
       "      <th>2</th>\n",
       "      <td>Karnataka</td>\n",
       "      <td>2871298</td>\n",
       "      <td>35835</td>\n",
       "      <td>2871298</td>\n",
       "      <td>35835</td>\n",
       "    </tr>\n",
       "    <tr>\n",
       "      <th>3</th>\n",
       "      <td>Tamil Nadu</td>\n",
       "      <td>2518786</td>\n",
       "      <td>33418</td>\n",
       "      <td>2518786</td>\n",
       "      <td>33418</td>\n",
       "    </tr>\n",
       "    <tr>\n",
       "      <th>4</th>\n",
       "      <td>Andhra Pradesh</td>\n",
       "      <td>1924421</td>\n",
       "      <td>13024</td>\n",
       "      <td>1922843</td>\n",
       "      <td>13002</td>\n",
       "    </tr>\n",
       "  </tbody>\n",
       "</table>\n",
       "</div>"
      ],
      "text/plain": [
       "           states    Cases  Deaths   PCases  PDeaths\n",
       "0     Maharashtra  6157799  125878  6157799   125878\n",
       "1          Kerala  3065336   14586  3065336    14586\n",
       "2       Karnataka  2871298   35835  2871298    35835\n",
       "3      Tamil Nadu  2518786   33418  2518786    33418\n",
       "4  Andhra Pradesh  1924421   13024  1922843    13002"
      ]
     },
     "execution_count": 11,
     "metadata": {},
     "output_type": "execute_result"
    }
   ],
   "source": [
    "#hide\n",
    "df_table = pd.DataFrame({'states': dfc_cases.index, 'Cases': dfc_cases.values, 'Deaths': dfc_deaths.values, 'PCases': dfp_cases.values, 'PDeaths': dfp_deaths.values}).set_index('states')\n",
    "df_table = df_table.sort_values(by = ['Cases','Deaths'], ascending = [False, False])\n",
    "df_table = df_table.reset_index()\n",
    "df_table.head()"
   ]
  },
  {
   "cell_type": "code",
   "execution_count": 12,
   "id": "6736c5ca",
   "metadata": {
    "execution": {
     "iopub.execute_input": "2021-07-12T13:10:13.749623Z",
     "iopub.status.busy": "2021-07-12T13:10:13.749130Z",
     "iopub.status.idle": "2021-07-12T13:10:13.758191Z",
     "shell.execute_reply": "2021-07-12T13:10:13.757775Z"
    },
    "papermill": {
     "duration": 0.029234,
     "end_time": "2021-07-12T13:10:13.758298",
     "exception": false,
     "start_time": "2021-07-12T13:10:13.729064",
     "status": "completed"
    },
    "tags": []
   },
   "outputs": [],
   "source": [
    "#hide\n",
    "for c in 'Cases, Deaths'.split(', '):\n",
    "    df_table[f'{c} (+)'] = (df_table[c] - df_table[f'P{c}']).clip(0)\n",
    "df_table['Fatality Rate'] = (100* df_table['Deaths']/ df_table['Cases']).round(2)"
   ]
  },
  {
   "cell_type": "code",
   "execution_count": 13,
   "id": "03065123",
   "metadata": {
    "execution": {
     "iopub.execute_input": "2021-07-12T13:10:13.800132Z",
     "iopub.status.busy": "2021-07-12T13:10:13.799538Z",
     "iopub.status.idle": "2021-07-12T13:10:13.802274Z",
     "shell.execute_reply": "2021-07-12T13:10:13.801840Z"
    },
    "papermill": {
     "duration": 0.028129,
     "end_time": "2021-07-12T13:10:13.802374",
     "exception": false,
     "start_time": "2021-07-12T13:10:13.774245",
     "status": "completed"
    },
    "tags": []
   },
   "outputs": [
    {
     "data": {
      "text/html": [
       "<div>\n",
       "<style scoped>\n",
       "    .dataframe tbody tr th:only-of-type {\n",
       "        vertical-align: middle;\n",
       "    }\n",
       "\n",
       "    .dataframe tbody tr th {\n",
       "        vertical-align: top;\n",
       "    }\n",
       "\n",
       "    .dataframe thead th {\n",
       "        text-align: right;\n",
       "    }\n",
       "</style>\n",
       "<table border=\"1\" class=\"dataframe\">\n",
       "  <thead>\n",
       "    <tr style=\"text-align: right;\">\n",
       "      <th></th>\n",
       "      <th>states</th>\n",
       "      <th>Cases</th>\n",
       "      <th>Deaths</th>\n",
       "      <th>PCases</th>\n",
       "      <th>PDeaths</th>\n",
       "      <th>Cases (+)</th>\n",
       "      <th>Deaths (+)</th>\n",
       "      <th>Fatality Rate</th>\n",
       "    </tr>\n",
       "  </thead>\n",
       "  <tbody>\n",
       "    <tr>\n",
       "      <th>0</th>\n",
       "      <td>Maharashtra</td>\n",
       "      <td>6157799</td>\n",
       "      <td>125878</td>\n",
       "      <td>6157799</td>\n",
       "      <td>125878</td>\n",
       "      <td>0</td>\n",
       "      <td>0</td>\n",
       "      <td>2.04</td>\n",
       "    </tr>\n",
       "    <tr>\n",
       "      <th>1</th>\n",
       "      <td>Kerala</td>\n",
       "      <td>3065336</td>\n",
       "      <td>14586</td>\n",
       "      <td>3065336</td>\n",
       "      <td>14586</td>\n",
       "      <td>0</td>\n",
       "      <td>0</td>\n",
       "      <td>0.48</td>\n",
       "    </tr>\n",
       "    <tr>\n",
       "      <th>2</th>\n",
       "      <td>Karnataka</td>\n",
       "      <td>2871298</td>\n",
       "      <td>35835</td>\n",
       "      <td>2871298</td>\n",
       "      <td>35835</td>\n",
       "      <td>0</td>\n",
       "      <td>0</td>\n",
       "      <td>1.25</td>\n",
       "    </tr>\n",
       "    <tr>\n",
       "      <th>3</th>\n",
       "      <td>Tamil Nadu</td>\n",
       "      <td>2518786</td>\n",
       "      <td>33418</td>\n",
       "      <td>2518786</td>\n",
       "      <td>33418</td>\n",
       "      <td>0</td>\n",
       "      <td>0</td>\n",
       "      <td>1.33</td>\n",
       "    </tr>\n",
       "    <tr>\n",
       "      <th>4</th>\n",
       "      <td>Andhra Pradesh</td>\n",
       "      <td>1924421</td>\n",
       "      <td>13024</td>\n",
       "      <td>1922843</td>\n",
       "      <td>13002</td>\n",
       "      <td>1578</td>\n",
       "      <td>22</td>\n",
       "      <td>0.68</td>\n",
       "    </tr>\n",
       "  </tbody>\n",
       "</table>\n",
       "</div>"
      ],
      "text/plain": [
       "           states    Cases  Deaths   PCases  PDeaths  Cases (+)  Deaths (+)  \\\n",
       "0     Maharashtra  6157799  125878  6157799   125878          0           0   \n",
       "1          Kerala  3065336   14586  3065336    14586          0           0   \n",
       "2       Karnataka  2871298   35835  2871298    35835          0           0   \n",
       "3      Tamil Nadu  2518786   33418  2518786    33418          0           0   \n",
       "4  Andhra Pradesh  1924421   13024  1922843    13002       1578          22   \n",
       "\n",
       "   Fatality Rate  \n",
       "0           2.04  \n",
       "1           0.48  \n",
       "2           1.25  \n",
       "3           1.33  \n",
       "4           0.68  "
      ]
     },
     "execution_count": 13,
     "metadata": {},
     "output_type": "execute_result"
    }
   ],
   "source": [
    "#hide\n",
    "df_table.head()"
   ]
  },
  {
   "cell_type": "code",
   "execution_count": 14,
   "id": "5aee721e",
   "metadata": {
    "execution": {
     "iopub.execute_input": "2021-07-12T13:10:13.840231Z",
     "iopub.status.busy": "2021-07-12T13:10:13.839626Z",
     "iopub.status.idle": "2021-07-12T13:10:13.853635Z",
     "shell.execute_reply": "2021-07-12T13:10:13.854042Z"
    },
    "papermill": {
     "duration": 0.035251,
     "end_time": "2021-07-12T13:10:13.854164",
     "exception": false,
     "start_time": "2021-07-12T13:10:13.818913",
     "status": "completed"
    },
    "tags": []
   },
   "outputs": [
    {
     "data": {
      "text/plain": [
       "{'updated': '2021-07-12',\n",
       " 'since': '2021-07-11',\n",
       " 'Cases': 30878499,\n",
       " 'PCases': 30873916,\n",
       " 'Deaths': 408894,\n",
       " 'PDeaths': 408792,\n",
       " 'Cases (+)': 4583,\n",
       " 'Deaths (+)': 102}"
      ]
     },
     "execution_count": 14,
     "metadata": {},
     "output_type": "execute_result"
    }
   ],
   "source": [
    "#hide\n",
    "summary = {'updated':dates[-1], 'since':dates[-2]}\n",
    "list_names = ['Cases', 'PCases', 'Deaths', 'PDeaths', 'Cases (+)', 'Deaths (+)']\n",
    "for name in list_names:\n",
    "    summary[name] = df_table.sum()[name]\n",
    "summary"
   ]
  },
  {
   "cell_type": "code",
   "execution_count": 15,
   "id": "f9e3e01e",
   "metadata": {
    "execution": {
     "iopub.execute_input": "2021-07-12T13:10:13.891970Z",
     "iopub.status.busy": "2021-07-12T13:10:13.891371Z",
     "iopub.status.idle": "2021-07-12T13:10:13.893620Z",
     "shell.execute_reply": "2021-07-12T13:10:13.893229Z"
    },
    "papermill": {
     "duration": 0.022837,
     "end_time": "2021-07-12T13:10:13.893767",
     "exception": false,
     "start_time": "2021-07-12T13:10:13.870930",
     "status": "completed"
    },
    "tags": []
   },
   "outputs": [],
   "source": [
    "#hide\n",
    "overview = '''\n",
    "<!-- #######  HTML!! #########-->\n",
    "<h1 style=\"color: #5e9ca0; text-align: center;\">India</h1>\n",
    "<p style=\"text-align: center;\">Last update: <strong>{update}</strong></p>\n",
    "<p style=\"text-align: center;\">Confirmed cases:</p>\n",
    "<p style=\"text-align: center;font-size:24px;\">{cases} (<span style=\"color: #ff0000;\">+{new}</span>)</p>\n",
    "<p style=\"text-align: center;\">Confirmed deaths:</p>\n",
    "<p style=\"text-align: center;font-size:24px;\">{deaths} (<span style=\"color: #ff0000;\">+{dnew}</span>)</p>\n",
    "'''"
   ]
  },
  {
   "cell_type": "code",
   "execution_count": 16,
   "id": "03e6b465",
   "metadata": {
    "execution": {
     "iopub.execute_input": "2021-07-12T13:10:13.932344Z",
     "iopub.status.busy": "2021-07-12T13:10:13.931833Z",
     "iopub.status.idle": "2021-07-12T13:10:13.934855Z",
     "shell.execute_reply": "2021-07-12T13:10:13.934373Z"
    },
    "papermill": {
     "duration": 0.02442,
     "end_time": "2021-07-12T13:10:13.934953",
     "exception": false,
     "start_time": "2021-07-12T13:10:13.910533",
     "status": "completed"
    },
    "tags": []
   },
   "outputs": [
    {
     "data": {
      "text/html": [
       "\n",
       "<!-- #######  HTML!! #########-->\n",
       "<h1 style=\"color: #5e9ca0; text-align: center;\">India</h1>\n",
       "<p style=\"text-align: center;\">Last update: <strong>2021-07-12</strong></p>\n",
       "<p style=\"text-align: center;\">Confirmed cases:</p>\n",
       "<p style=\"text-align: center;font-size:24px;\">30878499 (<span style=\"color: #ff0000;\">+4583</span>)</p>\n",
       "<p style=\"text-align: center;\">Confirmed deaths:</p>\n",
       "<p style=\"text-align: center;font-size:24px;\">408894 (<span style=\"color: #ff0000;\">+102</span>)</p>\n"
      ],
      "text/plain": [
       "<IPython.core.display.HTML object>"
      ]
     },
     "metadata": {},
     "output_type": "display_data"
    }
   ],
   "source": [
    "#hide_input\n",
    "update = summary['updated']\n",
    "cases = summary['Cases']\n",
    "new = summary['Cases (+)']\n",
    "deaths = summary['Deaths']\n",
    "dnew = summary['Deaths (+)']\n",
    "\n",
    "html = HTML(overview.format(update=update, cases=cases,new=new,deaths=deaths,dnew=dnew))\n",
    "\n",
    "display(html)"
   ]
  },
  {
   "cell_type": "code",
   "execution_count": 17,
   "id": "7a35f416",
   "metadata": {
    "execution": {
     "iopub.execute_input": "2021-07-12T13:10:13.974343Z",
     "iopub.status.busy": "2021-07-12T13:10:13.973777Z",
     "iopub.status.idle": "2021-07-12T13:10:13.980629Z",
     "shell.execute_reply": "2021-07-12T13:10:13.980171Z"
    },
    "papermill": {
     "duration": 0.028499,
     "end_time": "2021-07-12T13:10:13.980731",
     "exception": false,
     "start_time": "2021-07-12T13:10:13.952232",
     "status": "completed"
    },
    "tags": []
   },
   "outputs": [],
   "source": [
    "#hide\n",
    "dt_cols = list(dft_cases.columns[1:])\n",
    "dft_ct_new_cases = dft_cases.groupby('state')[dt_cols].sum().diff(axis=1).fillna(0).astype(int)\n",
    "dft_ct_new_cases.sort_values(by = dates[-1], ascending = False,inplace = True)"
   ]
  },
  {
   "cell_type": "code",
   "execution_count": 18,
   "id": "f843f400",
   "metadata": {
    "execution": {
     "iopub.execute_input": "2021-07-12T13:10:14.031468Z",
     "iopub.status.busy": "2021-07-12T13:10:14.030961Z",
     "iopub.status.idle": "2021-07-12T13:10:14.033403Z",
     "shell.execute_reply": "2021-07-12T13:10:14.033776Z"
    },
    "papermill": {
     "duration": 0.035916,
     "end_time": "2021-07-12T13:10:14.033899",
     "exception": false,
     "start_time": "2021-07-12T13:10:13.997983",
     "status": "completed"
    },
    "tags": []
   },
   "outputs": [
    {
     "data": {
      "text/html": [
       "<div>\n",
       "<style scoped>\n",
       "    .dataframe tbody tr th:only-of-type {\n",
       "        vertical-align: middle;\n",
       "    }\n",
       "\n",
       "    .dataframe tbody tr th {\n",
       "        vertical-align: top;\n",
       "    }\n",
       "\n",
       "    .dataframe thead th {\n",
       "        text-align: right;\n",
       "    }\n",
       "</style>\n",
       "<table border=\"1\" class=\"dataframe\">\n",
       "  <thead>\n",
       "    <tr style=\"text-align: right;\">\n",
       "      <th>states</th>\n",
       "      <th>2021-05-10</th>\n",
       "      <th>2021-05-11</th>\n",
       "      <th>2021-05-12</th>\n",
       "      <th>2021-05-13</th>\n",
       "      <th>2021-05-14</th>\n",
       "      <th>2021-05-15</th>\n",
       "      <th>2021-05-16</th>\n",
       "      <th>2021-05-17</th>\n",
       "      <th>2021-05-18</th>\n",
       "      <th>2021-05-19</th>\n",
       "      <th>...</th>\n",
       "      <th>2021-07-03</th>\n",
       "      <th>2021-07-04</th>\n",
       "      <th>2021-07-05</th>\n",
       "      <th>2021-07-06</th>\n",
       "      <th>2021-07-07</th>\n",
       "      <th>2021-07-08</th>\n",
       "      <th>2021-07-09</th>\n",
       "      <th>2021-07-10</th>\n",
       "      <th>2021-07-11</th>\n",
       "      <th>2021-07-12</th>\n",
       "    </tr>\n",
       "    <tr>\n",
       "      <th>state</th>\n",
       "      <th></th>\n",
       "      <th></th>\n",
       "      <th></th>\n",
       "      <th></th>\n",
       "      <th></th>\n",
       "      <th></th>\n",
       "      <th></th>\n",
       "      <th></th>\n",
       "      <th></th>\n",
       "      <th></th>\n",
       "      <th></th>\n",
       "      <th></th>\n",
       "      <th></th>\n",
       "      <th></th>\n",
       "      <th></th>\n",
       "      <th></th>\n",
       "      <th></th>\n",
       "      <th></th>\n",
       "      <th></th>\n",
       "      <th></th>\n",
       "      <th></th>\n",
       "    </tr>\n",
       "  </thead>\n",
       "  <tbody>\n",
       "    <tr>\n",
       "      <th>Odisha</th>\n",
       "      <td>0</td>\n",
       "      <td>9793</td>\n",
       "      <td>10982</td>\n",
       "      <td>10649</td>\n",
       "      <td>12390</td>\n",
       "      <td>11805</td>\n",
       "      <td>11732</td>\n",
       "      <td>10757</td>\n",
       "      <td>10321</td>\n",
       "      <td>11099</td>\n",
       "      <td>...</td>\n",
       "      <td>2917</td>\n",
       "      <td>2870</td>\n",
       "      <td>2803</td>\n",
       "      <td>2487</td>\n",
       "      <td>2602</td>\n",
       "      <td>2542</td>\n",
       "      <td>2806</td>\n",
       "      <td>2334</td>\n",
       "      <td>2282</td>\n",
       "      <td>1993</td>\n",
       "    </tr>\n",
       "    <tr>\n",
       "      <th>Andhra Pradesh</th>\n",
       "      <td>0</td>\n",
       "      <td>20345</td>\n",
       "      <td>21452</td>\n",
       "      <td>22399</td>\n",
       "      <td>22018</td>\n",
       "      <td>22517</td>\n",
       "      <td>24171</td>\n",
       "      <td>18561</td>\n",
       "      <td>21320</td>\n",
       "      <td>23160</td>\n",
       "      <td>...</td>\n",
       "      <td>2930</td>\n",
       "      <td>3175</td>\n",
       "      <td>2100</td>\n",
       "      <td>3042</td>\n",
       "      <td>3166</td>\n",
       "      <td>2982</td>\n",
       "      <td>3040</td>\n",
       "      <td>2925</td>\n",
       "      <td>2665</td>\n",
       "      <td>1578</td>\n",
       "    </tr>\n",
       "    <tr>\n",
       "      <th>Meghalaya</th>\n",
       "      <td>0</td>\n",
       "      <td>450</td>\n",
       "      <td>406</td>\n",
       "      <td>591</td>\n",
       "      <td>627</td>\n",
       "      <td>560</td>\n",
       "      <td>569</td>\n",
       "      <td>634</td>\n",
       "      <td>906</td>\n",
       "      <td>872</td>\n",
       "      <td>...</td>\n",
       "      <td>460</td>\n",
       "      <td>489</td>\n",
       "      <td>377</td>\n",
       "      <td>457</td>\n",
       "      <td>354</td>\n",
       "      <td>532</td>\n",
       "      <td>426</td>\n",
       "      <td>485</td>\n",
       "      <td>425</td>\n",
       "      <td>273</td>\n",
       "    </tr>\n",
       "    <tr>\n",
       "      <th>Tripura</th>\n",
       "      <td>0</td>\n",
       "      <td>466</td>\n",
       "      <td>416</td>\n",
       "      <td>480</td>\n",
       "      <td>552</td>\n",
       "      <td>449</td>\n",
       "      <td>761</td>\n",
       "      <td>335</td>\n",
       "      <td>746</td>\n",
       "      <td>879</td>\n",
       "      <td>...</td>\n",
       "      <td>394</td>\n",
       "      <td>428</td>\n",
       "      <td>226</td>\n",
       "      <td>474</td>\n",
       "      <td>461</td>\n",
       "      <td>407</td>\n",
       "      <td>531</td>\n",
       "      <td>411</td>\n",
       "      <td>518</td>\n",
       "      <td>270</td>\n",
       "    </tr>\n",
       "    <tr>\n",
       "      <th>Mizoram</th>\n",
       "      <td>0</td>\n",
       "      <td>172</td>\n",
       "      <td>240</td>\n",
       "      <td>141</td>\n",
       "      <td>201</td>\n",
       "      <td>122</td>\n",
       "      <td>180</td>\n",
       "      <td>150</td>\n",
       "      <td>239</td>\n",
       "      <td>184</td>\n",
       "      <td>...</td>\n",
       "      <td>233</td>\n",
       "      <td>243</td>\n",
       "      <td>88</td>\n",
       "      <td>520</td>\n",
       "      <td>301</td>\n",
       "      <td>548</td>\n",
       "      <td>311</td>\n",
       "      <td>537</td>\n",
       "      <td>442</td>\n",
       "      <td>190</td>\n",
       "    </tr>\n",
       "  </tbody>\n",
       "</table>\n",
       "<p>5 rows × 64 columns</p>\n",
       "</div>"
      ],
      "text/plain": [
       "states          2021-05-10  2021-05-11  2021-05-12  2021-05-13  2021-05-14  \\\n",
       "state                                                                        \n",
       "Odisha                   0        9793       10982       10649       12390   \n",
       "Andhra Pradesh           0       20345       21452       22399       22018   \n",
       "Meghalaya                0         450         406         591         627   \n",
       "Tripura                  0         466         416         480         552   \n",
       "Mizoram                  0         172         240         141         201   \n",
       "\n",
       "states          2021-05-15  2021-05-16  2021-05-17  2021-05-18  2021-05-19  \\\n",
       "state                                                                        \n",
       "Odisha               11805       11732       10757       10321       11099   \n",
       "Andhra Pradesh       22517       24171       18561       21320       23160   \n",
       "Meghalaya              560         569         634         906         872   \n",
       "Tripura                449         761         335         746         879   \n",
       "Mizoram                122         180         150         239         184   \n",
       "\n",
       "states          ...  2021-07-03  2021-07-04  2021-07-05  2021-07-06  \\\n",
       "state           ...                                                   \n",
       "Odisha          ...        2917        2870        2803        2487   \n",
       "Andhra Pradesh  ...        2930        3175        2100        3042   \n",
       "Meghalaya       ...         460         489         377         457   \n",
       "Tripura         ...         394         428         226         474   \n",
       "Mizoram         ...         233         243          88         520   \n",
       "\n",
       "states          2021-07-07  2021-07-08  2021-07-09  2021-07-10  2021-07-11  \\\n",
       "state                                                                        \n",
       "Odisha                2602        2542        2806        2334        2282   \n",
       "Andhra Pradesh        3166        2982        3040        2925        2665   \n",
       "Meghalaya              354         532         426         485         425   \n",
       "Tripura                461         407         531         411         518   \n",
       "Mizoram                301         548         311         537         442   \n",
       "\n",
       "states          2021-07-12  \n",
       "state                       \n",
       "Odisha                1993  \n",
       "Andhra Pradesh        1578  \n",
       "Meghalaya              273  \n",
       "Tripura                270  \n",
       "Mizoram                190  \n",
       "\n",
       "[5 rows x 64 columns]"
      ]
     },
     "execution_count": 18,
     "metadata": {},
     "output_type": "execute_result"
    }
   ],
   "source": [
    "#hide\n",
    "dft_ct_new_cases.head()"
   ]
  },
  {
   "cell_type": "code",
   "execution_count": 19,
   "id": "71aedd8d",
   "metadata": {
    "execution": {
     "iopub.execute_input": "2021-07-12T13:10:14.087261Z",
     "iopub.status.busy": "2021-07-12T13:10:14.082156Z",
     "iopub.status.idle": "2021-07-12T13:10:17.089004Z",
     "shell.execute_reply": "2021-07-12T13:10:17.088548Z"
    },
    "papermill": {
     "duration": 3.037473,
     "end_time": "2021-07-12T13:10:17.089121",
     "exception": false,
     "start_time": "2021-07-12T13:10:14.051648",
     "status": "completed"
    },
    "tags": []
   },
   "outputs": [
    {
     "data": {
      "image/png": "[encoded data removed]",
      "text/plain": [
       "<Figure size 1728x2880 with 11 Axes>"
      ]
     },
     "metadata": {
      "needs_background": "light"
     },
     "output_type": "display_data"
    }
   ],
   "source": [
    "#hide_input\n",
    "df = dft_ct_new_cases.copy()\n",
    "df.loc['Total'] = df.sum()\n",
    "n = 5\n",
    "ax = []\n",
    "fig = plt.figure(figsize = (24,40))\n",
    "gs = fig.add_gridspec(n+2, 5)\n",
    "# gs = fig.add_gridspec(2, 3)\n",
    "ax1 = fig.add_subplot(gs[0, :])\n",
    "ef = df.loc['Total'].rename_axis('date').reset_index()\n",
    "ef['date'] = ef['date'].astype('datetime64[ns]')\n",
    "ax1.bar(ef.date,ef.Total,alpha=0.3,color='#007acc')\n",
    "ax1.plot(ef.date,ef.Total , marker=\"o\", color='#007acc')\n",
    "ax1.xaxis.set_major_locator(mdates.WeekdayLocator())\n",
    "ax1.xaxis.set_major_formatter(mdates.DateFormatter('%b %d'))\n",
    "ax1.text(0.02, 0.5,'India daily case count', transform = ax1.transAxes, fontsize=25);\n",
    "ax1.spines['right'].set_visible(False)\n",
    "ax1.spines['top'].set_visible(False)\n",
    "\n",
    "ax2 = fig.add_subplot(gs[1,0])\n",
    "ef = df.loc['Maharashtra'].rename_axis('date').reset_index()\n",
    "ef['date'] = ef['date'].astype('datetime64[ns]')\n",
    "\n",
    "ax2.bar(ef.date, ef.Maharashtra,color = '#007acc',alpha=0.5)\n",
    "ax2.xaxis.set_major_locator(mdates.WeekdayLocator())\n",
    "ax2.xaxis.set_major_formatter(mdates.DateFormatter('%b %d'))\n",
    "ax2.set_xticks(ax2.get_xticks()[::3])\n",
    "maxyval = ef.Maharashtra.max()\n",
    "ax2.set_ylim([0,maxyval])\n",
    "ax2.text(0.4, 0.9,'Maharashtra', transform = ax2.transAxes, fontsize=20);\n",
    "ax2.spines['right'].set_visible(False)\n",
    "ax2.spines['top'].set_visible(False)\n",
    "\n",
    "\n",
    "ax3 = fig.add_subplot(gs[1,1])\n",
    "ef = df.loc['Tamil Nadu'].rename_axis('date').reset_index()\n",
    "ef['date'] = ef['date'].astype('datetime64[ns]')\n",
    "ax3.bar(ef.date, ef['Tamil Nadu'],color = '#007acc',alpha=0.5,)\n",
    "ax3.xaxis.set_major_locator(mdates.WeekdayLocator())\n",
    "ax3.xaxis.set_major_formatter(mdates.DateFormatter('%b %d'))\n",
    "ax3.set_xticks(ax3.get_xticks()[::3])\n",
    "ax3.text(0.05, 1,'Tamil Nadu', transform = ax3.transAxes, fontsize=20);\n",
    "ax3.spines['right'].set_visible(False)\n",
    "ax3.spines['top'].set_visible(False)\n",
    "\n",
    "ax5 = fig.add_subplot(gs[1,3])\n",
    "ef = df.loc['Telangana'].rename_axis('date').reset_index()\n",
    "ef['date'] = ef['date'].astype('datetime64[ns]')\n",
    "ax5.bar(ef.date, ef['Telangana'],color = '#007acc',alpha=0.5,)\n",
    "ax5.xaxis.set_major_locator(mdates.WeekdayLocator())\n",
    "ax5.xaxis.set_major_formatter(mdates.DateFormatter('%b %d'))\n",
    "ax5.set_xticks(ax5.get_xticks()[::3])\n",
    "ax5.text(0.05, 1,'Telangana', transform = ax5.transAxes, fontsize=20);\n",
    "ax5.spines['right'].set_visible(False)\n",
    "ax5.spines['top'].set_visible(False)\n",
    "\n",
    "ax6 = fig.add_subplot(gs[1,4])\n",
    "ef = df.loc['Andhra Pradesh'].rename_axis('date').reset_index()\n",
    "ef['date'] = ef['date'].astype('datetime64[ns]')\n",
    "ax6.bar(ef.date, ef['Andhra Pradesh'],color = '#007acc',alpha=0.5,)\n",
    "ax6.xaxis.set_major_locator(mdates.WeekdayLocator())\n",
    "ax6.xaxis.set_major_formatter(mdates.DateFormatter('%b %d'))\n",
    "ax6.set_xticks(ax6.get_xticks()[::3])\n",
    "ax6.text(0.05, 1,'Andhra Pradesh', transform = ax6.transAxes, fontsize=20);\n",
    "ax6.spines['right'].set_visible(False)\n",
    "ax6.spines['top'].set_visible(False)\n",
    "\n",
    "ax4 = fig.add_subplot(gs[1,2])\n",
    "ef = df.loc['Delhi'].rename_axis('date').reset_index()\n",
    "ef['date'] = ef['date'].astype('datetime64[ns]')\n",
    "ax4.bar(ef.date, ef.Delhi,color = '#007acc',alpha=0.5)\n",
    "ax4.set_xticks([])\n",
    "ax4.xaxis.set_major_locator(mdates.WeekdayLocator())\n",
    "ax4.xaxis.set_major_formatter(mdates.DateFormatter('%b %d'))\n",
    "ax4.set_xticks(ax4.get_xticks()[::3])\n",
    "ax4.spines['right'].set_visible(False)\n",
    "ax4.spines['top'].set_visible(False)\n",
    "\n",
    "ax4.text(0.05, 1,'Delhi', transform = ax4.transAxes, fontsize=20)\n",
    "\n",
    "for i in range(n):\n",
    "    \n",
    "    ax.append(fig.add_subplot(gs[i+2,:]))\n",
    "    ef = df.iloc[i+3].rename_axis('date').reset_index()\n",
    "    ef['date'] = ef['date'].astype('datetime64[ns]')\n",
    "    ax[i].bar(ef.date,ef.iloc[:,-1],color = '#007acc',alpha=0.3)\n",
    "    ax[i].plot(ef.date,ef.iloc[:,-1],marker='o',color='#007acc')\n",
    "    ax[i].text(0.02,0.5,f'{ef.columns.values[-1]}',transform = ax[i].transAxes, fontsize = 20);\n",
    "    ax[i].xaxis.set_major_locator(mdates.WeekdayLocator())\n",
    "    ax[i].xaxis.set_major_formatter(mdates.DateFormatter('%b %d'))\n",
    "    ax[i].spines['right'].set_visible(False)\n",
    "    ax[i].spines['top'].set_visible(False)\n",
    "    if i in [0,4]:\n",
    "        ax[i].set_ylim([0,30000])\n",
    "    elif i==1:\n",
    "        ax[i].set_ylim([0,60000])      \n",
    "    else:\n",
    "        ax[i].set_ylim([0,15000])\n",
    "    \n",
    "plt.tight_layout()\n"
   ]
  },
  {
   "cell_type": "code",
   "execution_count": 20,
   "id": "17ea33a6",
   "metadata": {
    "execution": {
     "iopub.execute_input": "2021-07-12T13:10:17.143475Z",
     "iopub.status.busy": "2021-07-12T13:10:17.142957Z",
     "iopub.status.idle": "2021-07-12T13:10:17.147435Z",
     "shell.execute_reply": "2021-07-12T13:10:17.147033Z"
    },
    "papermill": {
     "duration": 0.035454,
     "end_time": "2021-07-12T13:10:17.147546",
     "exception": false,
     "start_time": "2021-07-12T13:10:17.112092",
     "status": "completed"
    },
    "tags": []
   },
   "outputs": [
    {
     "name": "stdout",
     "output_type": "stream",
     "text": [
      "                                   states    Cases  Deaths   PCases  PDeaths  Cases (+)  Deaths (+)  Fatality Rate\n",
      "                              Maharashtra  6157799  125878  6157799   125878          0           0           2.04\n",
      "                                   Kerala  3065336   14586  3065336    14586          0           0           0.48\n",
      "                                Karnataka  2871298   35835  2871298    35835          0           0           1.25\n",
      "                               Tamil Nadu  2518786   33418  2518786    33418          0           0           1.33\n",
      "                           Andhra Pradesh  1924421   13024  1922843    13002       1578          22           0.68\n",
      "                            Uttar Pradesh  1707350   22698  1707350    22698          0           0           1.33\n",
      "                              West Bengal  1512129   17916  1512129    17916          0           0           1.18\n",
      "                                    Delhi  1435083   25015  1435083    25015          0           0           1.74\n",
      "                             Chhattisgarh   997973   13478   997973    13478          0           0           1.35\n",
      "                                Rajasthan   953126    8945   953126     8945          0           0           0.94\n",
      "                                   Odisha   941745    4715   939752     4652       1993          63           0.50\n",
      "                                  Gujarat   824242   10073   824242    10073          0           0           1.22\n",
      "                           Madhya Pradesh   790175    9025   790175     9025          0           0           1.14\n",
      "                                  Haryana   769279    9550   769279     9550          0           0           1.24\n",
      "                                    Bihar   723283    9618   723283     9618          0           0           1.33\n",
      "                                Telangana   631683    3729   631683     3729          0           0           0.59\n",
      "                                   Punjab   597598   16186   597598    16186          0           0           2.71\n",
      "                                    Assam   533663    4828   533663     4828          0           0           0.90\n",
      "                                Jharkhand   346328    5119   346328     5119          0           0           1.48\n",
      "                              Uttarakhand   341179    7339   341179     7339          0           0           2.15\n",
      "                        Jammu and Kashmir   318693    4357   318693     4357          0           0           1.37\n",
      "                         Himachal Pradesh   203626    3475   203626     3475          0           0           1.71\n",
      "                                      Goa   168824    3097   168716     3097        108           0           1.83\n",
      "                               Puducherry   119057    1771   118976     1769         81           2           1.49\n",
      "                                  Manipur    77731    1272    77731     1272          0           0           1.64\n",
      "                                  Tripura    70746     712    70476      709        270           3           1.01\n",
      "                               Chandigarh    61831     809    61831      809          0           0           1.31\n",
      "                                Meghalaya    54853     913    54580      908        273           5           1.66\n",
      "                        Arunachal Pradesh    39817     189    39817      189          0           0           0.47\n",
      "                                 Nagaland    25976     507    25976      507          0           0           1.95\n",
      "                                  Mizoram    24183     112    23993      107        190           5           0.46\n",
      "                                   Sikkim    22397     317    22307      315         90           2           1.42\n",
      "                                   Ladakh    20195     206    20195      206          0           0           1.02\n",
      " Dadra and Nagar Haveli and Daman and Diu    10589       4    10589        4          0           0           0.04\n",
      "                              Lakshadweep    10013      49    10013       49          0           0           0.49\n",
      "              Andaman and Nicobar Islands     7492     129     7492      129          0           0           1.72\n"
     ]
    }
   ],
   "source": [
    "#hide_input\n",
    "print(df_table.to_string(index=False))"
   ]
  },
  {
   "cell_type": "code",
   "execution_count": null,
   "id": "25122605",
   "metadata": {
    "papermill": {
     "duration": 0.023114,
     "end_time": "2021-07-12T13:10:17.193635",
     "exception": false,
     "start_time": "2021-07-12T13:10:17.170521",
     "status": "completed"
    },
    "tags": []
   },
   "outputs": [],
   "source": []
  },
  {
   "cell_type": "code",
   "execution_count": null,
   "id": "9e820c5c",
   "metadata": {
    "papermill": {
     "duration": 0.022738,
     "end_time": "2021-07-12T13:10:17.239556",
     "exception": false,
     "start_time": "2021-07-12T13:10:17.216818",
     "status": "completed"
    },
    "tags": []
   },
   "outputs": [],
   "source": []
  }
 ],
 "metadata": {
  "kernelspec": {
   "display_name": "Python 3",
   "language": "python",
   "name": "python3"
  },
  "language_info": {
   "codemirror_mode": {
    "name": "ipython",
    "version": 3
   },
   "file_extension": ".py",
   "mimetype": "text/x-python",
   "name": "python",
   "nbconvert_exporter": "python",
   "pygments_lexer": "ipython3",
   "version": "3.6.13"
  },
  "papermill": {
   "default_parameters": {},
   "duration": 7.758834,
   "end_time": "2021-07-12T13:10:17.669937",
   "environment_variables": {},
   "exception": null,
   "input_path": "second_wave.ipynb",
   "output_path": "second_wave.ipynb",
   "parameters": {},
   "start_time": "2021-07-12T13:10:09.911103",
   "version": "2.3.3"
  }
 },
 "nbformat": 4,
 "nbformat_minor": 5
}